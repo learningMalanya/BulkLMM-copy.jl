{
 "cells": [
  {
   "cell_type": "markdown",
   "id": "04ecf9ac-87de-4942-ad19-c1b0746a6ca2",
   "metadata": {},
   "source": [
    "# Package Functionalities Demo:"
   ]
  },
  {
   "cell_type": "markdown",
   "id": "4d0675db-8e06-4d3f-9286-90a1778f2e83",
   "metadata": {},
   "source": [
    "## Preparation: load data, functions, libraries of dependency..."
   ]
  },
  {
   "cell_type": "code",
   "execution_count": 1,
   "id": "e75e4a3a-c620-4a98-b246-326b89de8867",
   "metadata": {},
   "outputs": [
    {
     "data": {
      "text/plain": [
       "\"/Users/FredYu/Documents/GitHub/BulkLMM.jl\""
      ]
     },
     "execution_count": 1,
     "metadata": {},
     "output_type": "execute_result"
    }
   ],
   "source": [
    "pwd()"
   ]
  },
  {
   "cell_type": "code",
   "execution_count": 2,
   "id": "9e4b6632-6ef7-43e3-a25e-b2eb21ce0751",
   "metadata": {},
   "outputs": [],
   "source": [
    "cd(\"test\")"
   ]
  },
  {
   "cell_type": "code",
   "execution_count": 39,
   "id": "9808a469-11be-42e1-b8d6-a9e1a0bbc110",
   "metadata": {},
   "outputs": [],
   "source": [
    "using BenchmarkTools\n",
    "using CSV, DelimitedFiles, DataFrames, Missings, LinearAlgebra, Statistics, Optim, Random, Distributions, LoopVectorization"
   ]
  },
  {
   "cell_type": "code",
   "execution_count": 40,
   "id": "e9c5f601-3525-420f-aedc-42cf5f3c8917",
   "metadata": {},
   "outputs": [],
   "source": [
    "include(\"../src/readData.jl\");\n",
    "include(\"../src/kinship.jl\");\n",
    "include(\"generate_test_bxdData.jl\");\n",
    "include(\"../src/scan.jl\");\n",
    "include(\"../src/bulkscan.jl\");\n",
    "include(\"../src/util.jl\");\n",
    "include(\"../src/lmm.jl\");\n",
    "include(\"../src/wls.jl\");\n",
    "include(\"../src/transform_helpers.jl\");\n",
    "include(\"testHelpers.jl\");"
   ]
  },
  {
   "cell_type": "code",
   "execution_count": 41,
   "id": "afb00389-7a10-4ddd-ac80-8d2e208d6009",
   "metadata": {},
   "outputs": [],
   "source": [
    "traitID = 7919;\n",
    "pheno_y = reshape(pheno[:, traitID], :, 1);"
   ]
  },
  {
   "cell_type": "markdown",
   "id": "afbb7499-1e6e-41ce-b00f-00d35acb8b47",
   "metadata": {},
   "source": [
    "## 1. Simple Univariate Scans:"
   ]
  },
  {
   "cell_type": "markdown",
   "id": "cf5550ac-8b6d-4151-a4be-e6f4be1017b8",
   "metadata": {},
   "source": [
    "Given the raw phenotype info of one trait, the genotype info and the corresponding pre-calculated kinship matrix, return the lod scores of all genetic markers on that particular trait."
   ]
  },
  {
   "cell_type": "code",
   "execution_count": 42,
   "id": "c454494b-34dc-482f-8cbb-282fbad7f6bc",
   "metadata": {},
   "outputs": [
    {
     "name": "stdout",
     "output_type": "stream",
     "text": [
      "search: \u001b[0m\u001b[1ms\u001b[22m\u001b[0m\u001b[1mc\u001b[22m\u001b[0m\u001b[1ma\u001b[22m\u001b[0m\u001b[1mn\u001b[22m \u001b[0m\u001b[1ms\u001b[22m\u001b[0m\u001b[1mc\u001b[22m\u001b[0m\u001b[1ma\u001b[22m\u001b[0m\u001b[1mn\u001b[22m_alt \u001b[0m\u001b[1ms\u001b[22m\u001b[0m\u001b[1mc\u001b[22m\u001b[0m\u001b[1ma\u001b[22m\u001b[0m\u001b[1mn\u001b[22m_null \u001b[0m\u001b[1ms\u001b[22m\u001b[0m\u001b[1mc\u001b[22m\u001b[0m\u001b[1ma\u001b[22m\u001b[0m\u001b[1mn\u001b[22m_lite \u001b[0m\u001b[1ms\u001b[22m\u001b[0m\u001b[1mc\u001b[22m\u001b[0m\u001b[1ma\u001b[22m\u001b[0m\u001b[1mn\u001b[22m_perms \u001b[0m\u001b[1ms\u001b[22m\u001b[0m\u001b[1mc\u001b[22m\u001b[0m\u001b[1ma\u001b[22m\u001b[0m\u001b[1mn\u001b[22m_perms_lite\n",
      "\n"
     ]
    },
    {
     "data": {
      "text/latex": [
       "\\begin{verbatim}\n",
       "scan(y, g, K, reml, method)\n",
       "\\end{verbatim}\n",
       "Performs genome scan for univariate trait and each of the gene markers, one marker at a time (one-df test) \n",
       "\n",
       "\\section{Arguments}\n",
       "\\begin{itemize}\n",
       "\\item y = 1d array of floats consisting of the N observations for a certain quantitative trait (dimension: N*1)\n",
       "\n",
       "\n",
       "\\item g = 2d array of floats consisting of all p gene markers (dimension: N*p)\n",
       "\n",
       "\n",
       "\\item K = 2d array of floats consisting of the genetic relatedness of the N observations (dimension:N*N)\n",
       "\n",
       "\n",
       "\\item prior\\_a = a float of prior distribution parameter\n",
       "\n",
       "\n",
       "\\item prior\\_b = a float of prior distribution parameter\n",
       "\n",
       "\\end{itemize}\n",
       "\\section{Keyword arguments}\n",
       "\\begin{itemize}\n",
       "\\item addIntercept = Boolean flag indicating if an intercept column needs to be added to the design matrix; Default is to add an intercept\n",
       "\n",
       "\n",
       "\\item reml = Bool flag indicating if VCs are estimated by REML likelihood; Default is ML\n",
       "\n",
       "\n",
       "\\item assumption = String indicating whether the variance component parameters are the same across all markers (null) or not (alt); Default is \\texttt{null}\n",
       "\n",
       "\n",
       "\\item method = String indicating the matrix factorization method to use; Default is QR.\n",
       "\n",
       "\\end{itemize}\n",
       "\\section{Value}\n",
       "A list of output values are returned:\n",
       "\n",
       "\\begin{itemize}\n",
       "\\item out00.sigma2 = Float; estimated marginal variance due to random errors (by null lmm)\n",
       "\n",
       "\n",
       "\\item out00.h2 = Float; estimated heritability (by null lmm)\n",
       "\n",
       "\n",
       "\\item lod = 1d array of floats consisting of the lod scores of this trait and all markers (dimension: p*1)\n",
       "\n",
       "\\end{itemize}\n",
       "\\section{Some notes}\n",
       "\\begin{verbatim}\n",
       "This function calls either `scan_null` or `scan_alt` depending on the input passed as `method`.\n",
       "Output data structure might need some revisions.\n",
       "\\end{verbatim}\n"
      ],
      "text/markdown": [
       "```\n",
       "scan(y, g, K, reml, method)\n",
       "```\n",
       "\n",
       "Performs genome scan for univariate trait and each of the gene markers, one marker at a time (one-df test) \n",
       "\n",
       "# Arguments\n",
       "\n",
       "  * y = 1d array of floats consisting of the N observations for a certain quantitative trait (dimension: N*1)\n",
       "  * g = 2d array of floats consisting of all p gene markers (dimension: N*p)\n",
       "  * K = 2d array of floats consisting of the genetic relatedness of the N observations (dimension:N*N)\n",
       "  * prior_a = a float of prior distribution parameter\n",
       "  * prior_b = a float of prior distribution parameter\n",
       "\n",
       "# Keyword arguments\n",
       "\n",
       "  * addIntercept = Boolean flag indicating if an intercept column needs to be added to the design matrix; Default is to add an intercept\n",
       "  * reml = Bool flag indicating if VCs are estimated by REML likelihood; Default is ML\n",
       "  * assumption = String indicating whether the variance component parameters are the same across all markers (null) or not (alt); Default is `null`\n",
       "  * method = String indicating the matrix factorization method to use; Default is QR.\n",
       "\n",
       "# Value\n",
       "\n",
       "A list of output values are returned:\n",
       "\n",
       "  * out00.sigma2 = Float; estimated marginal variance due to random errors (by null lmm)\n",
       "  * out00.h2 = Float; estimated heritability (by null lmm)\n",
       "  * lod = 1d array of floats consisting of the lod scores of this trait and all markers (dimension: p*1)\n",
       "\n",
       "# Some notes\n",
       "\n",
       "```\n",
       "This function calls either `scan_null` or `scan_alt` depending on the input passed as `method`.\n",
       "Output data structure might need some revisions.\n",
       "```\n"
      ],
      "text/plain": [
       "\u001b[36m  scan(y, g, K, reml, method)\u001b[39m\n",
       "\n",
       "  Performs genome scan for univariate trait and each of the gene markers, one\n",
       "  marker at a time (one-df test)\n",
       "\n",
       "\u001b[1m  Arguments\u001b[22m\n",
       "\u001b[1m  ≡≡≡≡≡≡≡≡≡≡≡\u001b[22m\n",
       "\n",
       "    •  y = 1d array of floats consisting of the N observations for a\n",
       "       certain quantitative trait (dimension: N*1)\n",
       "\n",
       "    •  g = 2d array of floats consisting of all p gene markers\n",
       "       (dimension: N*p)\n",
       "\n",
       "    •  K = 2d array of floats consisting of the genetic relatedness of\n",
       "       the N observations (dimension:N*N)\n",
       "\n",
       "    •  prior_a = a float of prior distribution parameter\n",
       "\n",
       "    •  prior_b = a float of prior distribution parameter\n",
       "\n",
       "\u001b[1m  Keyword arguments\u001b[22m\n",
       "\u001b[1m  ≡≡≡≡≡≡≡≡≡≡≡≡≡≡≡≡≡≡≡\u001b[22m\n",
       "\n",
       "    •  addIntercept = Boolean flag indicating if an intercept column\n",
       "       needs to be added to the design matrix; Default is to add an\n",
       "       intercept\n",
       "\n",
       "    •  reml = Bool flag indicating if VCs are estimated by REML\n",
       "       likelihood; Default is ML\n",
       "\n",
       "    •  assumption = String indicating whether the variance component\n",
       "       parameters are the same across all markers (null) or not (alt);\n",
       "       Default is \u001b[36mnull\u001b[39m\n",
       "\n",
       "    •  method = String indicating the matrix factorization method to use;\n",
       "       Default is QR.\n",
       "\n",
       "\u001b[1m  Value\u001b[22m\n",
       "\u001b[1m  ≡≡≡≡≡≡≡\u001b[22m\n",
       "\n",
       "  A list of output values are returned:\n",
       "\n",
       "    •  out00.sigma2 = Float; estimated marginal variance due to random\n",
       "       errors (by null lmm)\n",
       "\n",
       "    •  out00.h2 = Float; estimated heritability (by null lmm)\n",
       "\n",
       "    •  lod = 1d array of floats consisting of the lod scores of this\n",
       "       trait and all markers (dimension: p*1)\n",
       "\n",
       "\u001b[1m  Some notes\u001b[22m\n",
       "\u001b[1m  ≡≡≡≡≡≡≡≡≡≡≡≡\u001b[22m\n",
       "\n",
       "\u001b[36m  This function calls either `scan_null` or `scan_alt` depending on the input passed as `method`.\u001b[39m\n",
       "\u001b[36m  Output data structure might need some revisions.\u001b[39m"
      ]
     },
     "execution_count": 42,
     "metadata": {},
     "output_type": "execute_result"
    }
   ],
   "source": [
    "?scan"
   ]
  },
  {
   "cell_type": "markdown",
   "id": "0713fdf6-dde7-4faf-be2d-e853144e657d",
   "metadata": {},
   "source": [
    "### Assumption (1): VCs are estimated once from the null model"
   ]
  },
  {
   "cell_type": "code",
   "execution_count": 43,
   "id": "e1a62960-079e-4d47-af2e-2d7592acf80c",
   "metadata": {},
   "outputs": [
    {
     "name": "stdout",
     "output_type": "stream",
     "text": [
      "search: \u001b[0m\u001b[1ms\u001b[22m\u001b[0m\u001b[1mc\u001b[22m\u001b[0m\u001b[1ma\u001b[22m\u001b[0m\u001b[1mn\u001b[22m\u001b[0m\u001b[1m_\u001b[22m\u001b[0m\u001b[1mn\u001b[22m\u001b[0m\u001b[1mu\u001b[22m\u001b[0m\u001b[1ml\u001b[22m\u001b[0m\u001b[1ml\u001b[22m\n",
      "\n"
     ]
    },
    {
     "data": {
      "text/latex": [
       "\\begin{verbatim}\n",
       "scan_null(y, g, K, reml, method)\n",
       "\\end{verbatim}\n",
       "Performs genome scan for univariate trait and each of the gene markers, one marker at a time,  assuming the variance components are the same for all markers.\n",
       "\n",
       "\\section{Arguments}\n",
       "\\begin{itemize}\n",
       "\\item y = 1d array of floats consisting of the N observations for a certain quantitative trait (dimension: N*1)\n",
       "\n",
       "\n",
       "\\item g = 2d array of floats consisting of all p gene markers (dimension: N*p)\n",
       "\n",
       "\n",
       "\\item K = 2d array of floats consisting of the genetic relatedness of the N observations (dimension:N*N)\n",
       "\n",
       "\\end{itemize}\n",
       "\\section{Keyword arguments}\n",
       "\\begin{itemize}\n",
       "\\item addIntercept = Boolean flag indicating if an intercept column needs to be added to the design matrix; Default is to add an intercept\n",
       "\n",
       "\n",
       "\\item reml = Bool flag indicating if VCs are estimated by REML likelihood; Default is ML\n",
       "\n",
       "\n",
       "\\item method = String indicating the matrix factorization method to use; Default is QR.\n",
       "\n",
       "\\end{itemize}\n",
       "\\section{Value}\n",
       "A list of output values are returned:\n",
       "\n",
       "\\begin{itemize}\n",
       "\\item out00.sigma2 = Float; estimated marginal variance due to random errors (by null lmm)\n",
       "\n",
       "\n",
       "\\item out00.h2 = Float; estimated heritability (by null lmm)\n",
       "\n",
       "\n",
       "\\item lod = 1d array of floats consisting of the lod scores of this trait and all markers (dimension: p*1)\n",
       "\n",
       "\\end{itemize}\n",
       "\\section{Some notes}\n",
       "\\begin{verbatim}\n",
       "This is a subsequent function that does univariate scan. The variance components are estimated once \n",
       "and used for all markers. To be called by the `scan` function when the `method = ` field is passed \n",
       "as `null` (default).\n",
       "\\end{verbatim}\n"
      ],
      "text/markdown": [
       "```\n",
       "scan_null(y, g, K, reml, method)\n",
       "```\n",
       "\n",
       "Performs genome scan for univariate trait and each of the gene markers, one marker at a time,  assuming the variance components are the same for all markers.\n",
       "\n",
       "# Arguments\n",
       "\n",
       "  * y = 1d array of floats consisting of the N observations for a certain quantitative trait (dimension: N*1)\n",
       "  * g = 2d array of floats consisting of all p gene markers (dimension: N*p)\n",
       "  * K = 2d array of floats consisting of the genetic relatedness of the N observations (dimension:N*N)\n",
       "\n",
       "# Keyword arguments\n",
       "\n",
       "  * addIntercept = Boolean flag indicating if an intercept column needs to be added to the design matrix; Default is to add an intercept\n",
       "  * reml = Bool flag indicating if VCs are estimated by REML likelihood; Default is ML\n",
       "  * method = String indicating the matrix factorization method to use; Default is QR.\n",
       "\n",
       "# Value\n",
       "\n",
       "A list of output values are returned:\n",
       "\n",
       "  * out00.sigma2 = Float; estimated marginal variance due to random errors (by null lmm)\n",
       "  * out00.h2 = Float; estimated heritability (by null lmm)\n",
       "  * lod = 1d array of floats consisting of the lod scores of this trait and all markers (dimension: p*1)\n",
       "\n",
       "# Some notes\n",
       "\n",
       "```\n",
       "This is a subsequent function that does univariate scan. The variance components are estimated once \n",
       "and used for all markers. To be called by the `scan` function when the `method = ` field is passed \n",
       "as `null` (default).\n",
       "```\n"
      ],
      "text/plain": [
       "\u001b[36m  scan_null(y, g, K, reml, method)\u001b[39m\n",
       "\n",
       "  Performs genome scan for univariate trait and each of the gene markers, one\n",
       "  marker at a time, assuming the variance components are the same for all\n",
       "  markers.\n",
       "\n",
       "\u001b[1m  Arguments\u001b[22m\n",
       "\u001b[1m  ≡≡≡≡≡≡≡≡≡≡≡\u001b[22m\n",
       "\n",
       "    •  y = 1d array of floats consisting of the N observations for a\n",
       "       certain quantitative trait (dimension: N*1)\n",
       "\n",
       "    •  g = 2d array of floats consisting of all p gene markers\n",
       "       (dimension: N*p)\n",
       "\n",
       "    •  K = 2d array of floats consisting of the genetic relatedness of\n",
       "       the N observations (dimension:N*N)\n",
       "\n",
       "\u001b[1m  Keyword arguments\u001b[22m\n",
       "\u001b[1m  ≡≡≡≡≡≡≡≡≡≡≡≡≡≡≡≡≡≡≡\u001b[22m\n",
       "\n",
       "    •  addIntercept = Boolean flag indicating if an intercept column\n",
       "       needs to be added to the design matrix; Default is to add an\n",
       "       intercept\n",
       "\n",
       "    •  reml = Bool flag indicating if VCs are estimated by REML\n",
       "       likelihood; Default is ML\n",
       "\n",
       "    •  method = String indicating the matrix factorization method to use;\n",
       "       Default is QR.\n",
       "\n",
       "\u001b[1m  Value\u001b[22m\n",
       "\u001b[1m  ≡≡≡≡≡≡≡\u001b[22m\n",
       "\n",
       "  A list of output values are returned:\n",
       "\n",
       "    •  out00.sigma2 = Float; estimated marginal variance due to random\n",
       "       errors (by null lmm)\n",
       "\n",
       "    •  out00.h2 = Float; estimated heritability (by null lmm)\n",
       "\n",
       "    •  lod = 1d array of floats consisting of the lod scores of this\n",
       "       trait and all markers (dimension: p*1)\n",
       "\n",
       "\u001b[1m  Some notes\u001b[22m\n",
       "\u001b[1m  ≡≡≡≡≡≡≡≡≡≡≡≡\u001b[22m\n",
       "\n",
       "\u001b[36m  This is a subsequent function that does univariate scan. The variance components are estimated once \u001b[39m\n",
       "\u001b[36m  and used for all markers. To be called by the `scan` function when the `method = ` field is passed \u001b[39m\n",
       "\u001b[36m  as `null` (default).\u001b[39m"
      ]
     },
     "execution_count": 43,
     "metadata": {},
     "output_type": "execute_result"
    }
   ],
   "source": [
    "?scan_null"
   ]
  },
  {
   "cell_type": "code",
   "execution_count": 44,
   "id": "ce8faa3f-d697-4b16-9e06-a51e5f73fbd0",
   "metadata": {},
   "outputs": [
    {
     "name": "stdout",
     "output_type": "stream",
     "text": [
      "  0.087162 seconds (73.55 k allocations: 33.191 MiB, 54.83% gc time)\n"
     ]
    }
   ],
   "source": [
    "@time test_null = scan(pheno_y, geno, kinship; addIntercept = true, reml = false, assumption = \"null\", method = \"cholesky\");"
   ]
  },
  {
   "cell_type": "code",
   "execution_count": 45,
   "id": "19a0ae27-f398-415e-ace2-5e5edc643103",
   "metadata": {},
   "outputs": [
    {
     "data": {
      "text/plain": [
       "0.04983520992588347"
      ]
     },
     "execution_count": 45,
     "metadata": {},
     "output_type": "execute_result"
    }
   ],
   "source": [
    "test_null.sigma2_e # sigma2_e"
   ]
  },
  {
   "cell_type": "code",
   "execution_count": 46,
   "id": "5db03bcb-d262-4639-8443-303b9d6c1269",
   "metadata": {},
   "outputs": [
    {
     "data": {
      "text/plain": [
       "0.8960637228416714"
      ]
     },
     "execution_count": 46,
     "metadata": {},
     "output_type": "execute_result"
    }
   ],
   "source": [
    "test_null.h2_null"
   ]
  },
  {
   "cell_type": "code",
   "execution_count": 47,
   "id": "39a20f3f-10e4-45d7-afda-9b7d49185c54",
   "metadata": {},
   "outputs": [
    {
     "data": {
      "text/plain": [
       "7321-element Vector{Float64}:\n",
       " 0.008196360329322583\n",
       " 0.008196360329322583\n",
       " 0.008196360329322583\n",
       " 0.008196360329322583\n",
       " 0.008196360329322583\n",
       " 0.008196360329322583\n",
       " 0.008196360329322583\n",
       " 0.008196360329322583\n",
       " 0.008196360329322583\n",
       " 0.008196360329322583\n",
       " 0.008196360229954236\n",
       " 0.008195284184264295\n",
       " 0.00987347031983854\n",
       " ⋮\n",
       " 0.09285575916070832\n",
       " 0.09285575883025671\n",
       " 0.09285575883025671\n",
       " 0.011173043848082764\n",
       " 0.008215696058314959\n",
       " 0.008215696058314959\n",
       " 0.01502332773404691\n",
       " 0.02895771332730057\n",
       " 0.02731129976924651\n",
       " 0.04498777747884275\n",
       " 0.012828276502853786\n",
       " 0.012828276502853786"
      ]
     },
     "execution_count": 47,
     "metadata": {},
     "output_type": "execute_result"
    }
   ],
   "source": [
    "test_null.lod"
   ]
  },
  {
   "cell_type": "markdown",
   "id": "3f071a99-eb66-484f-a09f-42ab8286f880",
   "metadata": {},
   "source": [
    "### Assumption (2): VCs are re-estimated everytime for each marker scan"
   ]
  },
  {
   "cell_type": "code",
   "execution_count": 48,
   "id": "8eaa7854-50f2-4cb0-bd54-1b7a6dab5c76",
   "metadata": {},
   "outputs": [
    {
     "name": "stdout",
     "output_type": "stream",
     "text": [
      "search: \u001b[0m\u001b[1ms\u001b[22m\u001b[0m\u001b[1mc\u001b[22m\u001b[0m\u001b[1ma\u001b[22m\u001b[0m\u001b[1mn\u001b[22m\u001b[0m\u001b[1m_\u001b[22m\u001b[0m\u001b[1ma\u001b[22m\u001b[0m\u001b[1ml\u001b[22m\u001b[0m\u001b[1mt\u001b[22m \u001b[0m\u001b[1ms\u001b[22m\u001b[0m\u001b[1mc\u001b[22m\u001b[0m\u001b[1ma\u001b[22m\u001b[0m\u001b[1mn\u001b[22m\u001b[0m\u001b[1m_\u001b[22mlite_univ\u001b[0m\u001b[1ma\u001b[22mr \u001b[0m\u001b[1ms\u001b[22m\u001b[0m\u001b[1mc\u001b[22m\u001b[0m\u001b[1ma\u001b[22m\u001b[0m\u001b[1mn\u001b[22m\u001b[0m\u001b[1m_\u001b[22mlite_multiv\u001b[0m\u001b[1ma\u001b[22mr\n",
      "\n"
     ]
    },
    {
     "data": {
      "text/latex": [
       "\\begin{verbatim}\n",
       "scan_alt(y, g, K, reml)\n",
       "\\end{verbatim}\n",
       "Performs genome scan for univariate trait and each of the gene markers, one marker at a time (one-df test), assuming the variance components may not be the same for all markers. \n",
       "\n",
       "\\section{Arguments}\n",
       "\\begin{itemize}\n",
       "\\item y = 1d array of floats consisting of the N observations for a certain quantitative trait (dimension: N*1)\n",
       "\n",
       "\n",
       "\\item g = 2d array of floats consisting of all p gene markers (dimension: N*p)\n",
       "\n",
       "\n",
       "\\item K = 2d array of floats consisting of the genetic relatedness of the N observations (dimension:N*N)\n",
       "\n",
       "\\end{itemize}\n",
       "\\section{Keyword arguments}\n",
       "\\begin{itemize}\n",
       "\\item addIntercept = Boolean flag indicating if an intercept column needs to be added to the design matrix; Default is to add an intercept\n",
       "\n",
       "\n",
       "\\item reml = Bool flag indicating if VCs are estimated by REML likelihood; Default is ML\n",
       "\n",
       "\n",
       "\\item method = String indicating the matrix factorization method to use; Default is QR.\n",
       "\n",
       "\\end{itemize}\n",
       "\\section{Value}\n",
       "A list of output values are returned:\n",
       "\n",
       "\\begin{itemize}\n",
       "\\item out00.sigma2 = Float; estimated marginal variance due to random errors (by null lmm)\n",
       "\n",
       "\n",
       "\\item out00.h2 = Float; estimated heritability (by null lmm)\n",
       "\n",
       "\n",
       "\\item lod = 1d array of floats consisting of the lod scores of this trait and all markers (dimension: p*1)\n",
       "\n",
       "\\end{itemize}\n",
       "\\section{Some notes}\n",
       "\\begin{verbatim}\n",
       "This is a subsequent function that does univariate scan. For every scan for each genetic marker, the \n",
       "variance components will need to be re-estimated. To be called by the `scan` function when the `method = ` \n",
       "field is passed as `alt`.\n",
       "\\end{verbatim}\n"
      ],
      "text/markdown": [
       "```\n",
       "scan_alt(y, g, K, reml)\n",
       "```\n",
       "\n",
       "Performs genome scan for univariate trait and each of the gene markers, one marker at a time (one-df test), assuming the variance components may not be the same for all markers. \n",
       "\n",
       "# Arguments\n",
       "\n",
       "  * y = 1d array of floats consisting of the N observations for a certain quantitative trait (dimension: N*1)\n",
       "  * g = 2d array of floats consisting of all p gene markers (dimension: N*p)\n",
       "  * K = 2d array of floats consisting of the genetic relatedness of the N observations (dimension:N*N)\n",
       "\n",
       "# Keyword arguments\n",
       "\n",
       "  * addIntercept = Boolean flag indicating if an intercept column needs to be added to the design matrix; Default is to add an intercept\n",
       "  * reml = Bool flag indicating if VCs are estimated by REML likelihood; Default is ML\n",
       "  * method = String indicating the matrix factorization method to use; Default is QR.\n",
       "\n",
       "# Value\n",
       "\n",
       "A list of output values are returned:\n",
       "\n",
       "  * out00.sigma2 = Float; estimated marginal variance due to random errors (by null lmm)\n",
       "  * out00.h2 = Float; estimated heritability (by null lmm)\n",
       "  * lod = 1d array of floats consisting of the lod scores of this trait and all markers (dimension: p*1)\n",
       "\n",
       "# Some notes\n",
       "\n",
       "```\n",
       "This is a subsequent function that does univariate scan. For every scan for each genetic marker, the \n",
       "variance components will need to be re-estimated. To be called by the `scan` function when the `method = ` \n",
       "field is passed as `alt`.\n",
       "```\n"
      ],
      "text/plain": [
       "\u001b[36m  scan_alt(y, g, K, reml)\u001b[39m\n",
       "\n",
       "  Performs genome scan for univariate trait and each of the gene markers, one\n",
       "  marker at a time (one-df test), assuming the variance components may not be\n",
       "  the same for all markers.\n",
       "\n",
       "\u001b[1m  Arguments\u001b[22m\n",
       "\u001b[1m  ≡≡≡≡≡≡≡≡≡≡≡\u001b[22m\n",
       "\n",
       "    •  y = 1d array of floats consisting of the N observations for a\n",
       "       certain quantitative trait (dimension: N*1)\n",
       "\n",
       "    •  g = 2d array of floats consisting of all p gene markers\n",
       "       (dimension: N*p)\n",
       "\n",
       "    •  K = 2d array of floats consisting of the genetic relatedness of\n",
       "       the N observations (dimension:N*N)\n",
       "\n",
       "\u001b[1m  Keyword arguments\u001b[22m\n",
       "\u001b[1m  ≡≡≡≡≡≡≡≡≡≡≡≡≡≡≡≡≡≡≡\u001b[22m\n",
       "\n",
       "    •  addIntercept = Boolean flag indicating if an intercept column\n",
       "       needs to be added to the design matrix; Default is to add an\n",
       "       intercept\n",
       "\n",
       "    •  reml = Bool flag indicating if VCs are estimated by REML\n",
       "       likelihood; Default is ML\n",
       "\n",
       "    •  method = String indicating the matrix factorization method to use;\n",
       "       Default is QR.\n",
       "\n",
       "\u001b[1m  Value\u001b[22m\n",
       "\u001b[1m  ≡≡≡≡≡≡≡\u001b[22m\n",
       "\n",
       "  A list of output values are returned:\n",
       "\n",
       "    •  out00.sigma2 = Float; estimated marginal variance due to random\n",
       "       errors (by null lmm)\n",
       "\n",
       "    •  out00.h2 = Float; estimated heritability (by null lmm)\n",
       "\n",
       "    •  lod = 1d array of floats consisting of the lod scores of this\n",
       "       trait and all markers (dimension: p*1)\n",
       "\n",
       "\u001b[1m  Some notes\u001b[22m\n",
       "\u001b[1m  ≡≡≡≡≡≡≡≡≡≡≡≡\u001b[22m\n",
       "\n",
       "\u001b[36m  This is a subsequent function that does univariate scan. For every scan for each genetic marker, the \u001b[39m\n",
       "\u001b[36m  variance components will need to be re-estimated. To be called by the `scan` function when the `method = ` \u001b[39m\n",
       "\u001b[36m  field is passed as `alt`.\u001b[39m"
      ]
     },
     "execution_count": 48,
     "metadata": {},
     "output_type": "execute_result"
    }
   ],
   "source": [
    "?scan_alt"
   ]
  },
  {
   "cell_type": "code",
   "execution_count": 49,
   "id": "bae14f06-8db3-411d-bbc2-87f8e11ad003",
   "metadata": {},
   "outputs": [
    {
     "name": "stdout",
     "output_type": "stream",
     "text": [
      "  0.629455 seconds (2.09 M allocations: 873.237 MiB, 26.58% gc time)\n"
     ]
    }
   ],
   "source": [
    "@time test_alt = scan(pheno_y, geno, kinship; addIntercept = true, reml = false, assumption = \"alt\", method = \"cholesky\");"
   ]
  },
  {
   "cell_type": "code",
   "execution_count": 50,
   "id": "00874f51-b080-4baa-952d-c5e8b075a5f3",
   "metadata": {},
   "outputs": [
    {
     "data": {
      "text/plain": [
       "0.04983520992588347"
      ]
     },
     "execution_count": 50,
     "metadata": {},
     "output_type": "execute_result"
    }
   ],
   "source": [
    "test_alt.sigma2_e "
   ]
  },
  {
   "cell_type": "code",
   "execution_count": 51,
   "id": "17f71b16-a9ab-4954-be48-c3c9ad8b8e83",
   "metadata": {},
   "outputs": [
    {
     "data": {
      "text/plain": [
       "7321-element Vector{Float64}:\n",
       " 0.8959152120195115\n",
       " 0.8959152120195115\n",
       " 0.8959152120195115\n",
       " 0.8959152120195115\n",
       " 0.8959152120195115\n",
       " 0.8959152120196866\n",
       " 0.8959152120195115\n",
       " 0.8959152120195115\n",
       " 0.8959152120195115\n",
       " 0.8959152120195115\n",
       " 0.8959152121140267\n",
       " 0.8959152374339192\n",
       " 0.8957761212977645\n",
       " ⋮\n",
       " 0.9023536181416946\n",
       " 0.9023536181056799\n",
       " 0.9023536181056799\n",
       " 0.8984874509594057\n",
       " 0.8951424229522367\n",
       " 0.8951424229522367\n",
       " 0.8948313365595942\n",
       " 0.8942228015686338\n",
       " 0.8942884362217399\n",
       " 0.893637575195784\n",
       " 0.894429331508082\n",
       " 0.894429331508082"
      ]
     },
     "execution_count": 51,
     "metadata": {},
     "output_type": "execute_result"
    }
   ],
   "source": [
    "test_alt.h2_each_marker"
   ]
  },
  {
   "cell_type": "code",
   "execution_count": 52,
   "id": "16164b55-6f4d-4d36-8679-17e2e7ab5d2e",
   "metadata": {},
   "outputs": [
    {
     "data": {
      "text/plain": [
       "7321-element Vector{Float64}:\n",
       " 0.008197761427624278\n",
       " 0.008197761427624278\n",
       " 0.008197761427624278\n",
       " 0.008197761427624278\n",
       " 0.008197761427624278\n",
       " 0.008197761427624278\n",
       " 0.008197761427624278\n",
       " 0.008197761427624278\n",
       " 0.008197761427624278\n",
       " 0.008197761427624278\n",
       " 0.008197761328216775\n",
       " 0.00819668480291893\n",
       " 0.009878635627355274\n",
       " ⋮\n",
       " 0.09535348758648882\n",
       " 0.09535348724995858\n",
       " 0.09535348724995858\n",
       " 0.011536179594525912\n",
       " 0.008268469217227748\n",
       " 0.008268469217227748\n",
       " 0.015117504699342935\n",
       " 0.029166995976271558\n",
       " 0.02750600122533986\n",
       " 0.04535019721089667\n",
       " 0.012992620923693021\n",
       " 0.012992620923693021"
      ]
     },
     "execution_count": 52,
     "metadata": {},
     "output_type": "execute_result"
    }
   ],
   "source": [
    "test_alt.lod"
   ]
  },
  {
   "cell_type": "code",
   "execution_count": 53,
   "id": "d71fcdb0-7d9d-4dde-988f-bf3c7894d0ed",
   "metadata": {},
   "outputs": [
    {
     "name": "stdout",
     "output_type": "stream",
     "text": [
      "\u001b[1m2×3 DataFrame\u001b[0m\n",
      "\u001b[1m Row \u001b[0m│\u001b[1m Assumption \u001b[0m\u001b[1m Sigma2_e  \u001b[0m\u001b[1m H2       \u001b[0m\n",
      "     │\u001b[90m String     \u001b[0m\u001b[90m Float64   \u001b[0m\u001b[90m Float64  \u001b[0m\n",
      "─────┼─────────────────────────────────\n",
      "   1 │ Null        0.0498352  0.896064\n",
      "   2 │ Alt         0.0498352  0.896064"
     ]
    }
   ],
   "source": [
    "summary_tab1 = DataFrame(Assumption = [\"Null\", \"Alt\"], \n",
    "                         Sigma2_e = [test_null.sigma2_e, test_alt.sigma2_e], \n",
    "                         H2 = [test_null.h2_null, test_alt.h2_null]);\n",
    "print(summary_tab1)"
   ]
  },
  {
   "cell_type": "code",
   "execution_count": 54,
   "id": "02c13c1b-0ee4-4597-9b22-49ebc8271054",
   "metadata": {},
   "outputs": [
    {
     "name": "stdout",
     "output_type": "stream",
     "text": [
      "\u001b[1m10×3 DataFrame\u001b[0m\n",
      "\u001b[1m Row \u001b[0m│\u001b[1m Marker \u001b[0m\u001b[1m Null       \u001b[0m\u001b[1m Alt        \u001b[0m\n",
      "     │\u001b[90m Int64  \u001b[0m\u001b[90m Float64    \u001b[0m\u001b[90m Float64    \u001b[0m\n",
      "─────┼────────────────────────────────\n",
      "   1 │      1  0.00819636  0.00819776\n",
      "   2 │      2  0.00819636  0.00819776\n",
      "   3 │      3  0.00819636  0.00819776\n",
      "   4 │      4  0.00819636  0.00819776\n",
      "   5 │      5  0.00819636  0.00819776\n",
      "   6 │      6  0.00819636  0.00819776\n",
      "   7 │      7  0.00819636  0.00819776\n",
      "   8 │      8  0.00819636  0.00819776\n",
      "   9 │      9  0.00819636  0.00819776\n",
      "  10 │     10  0.00819636  0.00819776"
     ]
    }
   ],
   "source": [
    "summary_tab1_lods = DataFrame(Marker = collect(1:10), Null = test_null.lod[1:10], Alt = test_alt.lod[1:10]);\n",
    "print(summary_tab1_lods)"
   ]
  },
  {
   "cell_type": "code",
   "execution_count": 55,
   "id": "623c7bbc-0c54-47ec-ab74-19b3b9ba67c7",
   "metadata": {},
   "outputs": [
    {
     "data": {
      "text/plain": [
       "1.0"
      ]
     },
     "execution_count": 55,
     "metadata": {},
     "output_type": "execute_result"
    }
   ],
   "source": [
    "mean(test_null.lod .< test_alt.lod)"
   ]
  },
  {
   "cell_type": "markdown",
   "id": "0073a1f0-61bf-4330-8608-3485d5ae6536",
   "metadata": {},
   "source": [
    "## 2. Univariate Scans with permutation tests:"
   ]
  },
  {
   "cell_type": "code",
   "execution_count": 56,
   "id": "9c1a8cc1-78cd-4fbb-a5df-f5e645dbec83",
   "metadata": {},
   "outputs": [
    {
     "name": "stdout",
     "output_type": "stream",
     "text": [
      " 10.318708 seconds (103.87 k allocations: 17.629 GiB, 9.59% gc time)\n"
     ]
    }
   ],
   "source": [
    "@time test_perms = scan_perms(pheno_y, geno, kinship; \n",
    "                              prior_variance = 1.0, prior_sample_size = 0.1,\n",
    "                              addIntercept = true, reml = false, method = \"cholesky\",\n",
    "                              nperms = 1000, original = true);"
   ]
  },
  {
   "cell_type": "code",
   "execution_count": 57,
   "id": "ebe2e3af-4e47-4565-bbfa-4dd9d41d4cd2",
   "metadata": {},
   "outputs": [
    {
     "data": {
      "text/plain": [
       "(1001, 7321)"
      ]
     },
     "execution_count": 57,
     "metadata": {},
     "output_type": "execute_result"
    }
   ],
   "source": [
    "size(test_perms)"
   ]
  },
  {
   "cell_type": "code",
   "execution_count": 58,
   "id": "3e94db51-7932-4568-9a44-299482e80985",
   "metadata": {},
   "outputs": [
    {
     "name": "stdout",
     "output_type": "stream",
     "text": [
      "  0.641034 seconds (1.39 M allocations: 163.300 MiB, 84.18% compilation time)\n"
     ]
    }
   ],
   "source": [
    "@time test_perms_lite = scan_perms_lite(pheno_y, geno, kinship; \n",
    "                                   prior_variance = 1.0, prior_sample_size = 0.1,\n",
    "                                   addIntercept = true, reml = false, method = \"cholesky\",\n",
    "                                   nperms = 1000, original = true);\n",
    "test_perms_lite = permutedims(test_perms_lite);"
   ]
  },
  {
   "cell_type": "code",
   "execution_count": 59,
   "id": "872d16f7-3665-4f7a-a662-ae13883b162b",
   "metadata": {},
   "outputs": [
    {
     "data": {
      "text/plain": [
       "8.861391813607934e-22"
      ]
     },
     "execution_count": 59,
     "metadata": {},
     "output_type": "execute_result"
    }
   ],
   "source": [
    "sumSqDiff(test_perms, test_perms_lite)"
   ]
  },
  {
   "cell_type": "code",
   "execution_count": 60,
   "id": "7667e357-e35d-40e9-987c-ecbe020c4f10",
   "metadata": {},
   "outputs": [
    {
     "name": "stdout",
     "output_type": "stream",
     "text": [
      "  0.082727 seconds (167.46 k allocations: 38.245 MiB, 71.24% compilation time)\n"
     ]
    }
   ],
   "source": [
    "@time test_null_corrected = scan(pheno_y, geno, kinship; prior_variance = var(pheno_y), prior_sample_size = 0.1, method = \"cholesky\");"
   ]
  },
  {
   "cell_type": "code",
   "execution_count": 61,
   "id": "a076d903-c7f6-418c-bf58-b0625043dcda",
   "metadata": {},
   "outputs": [
    {
     "data": {
      "text/plain": [
       "4.352772803058051e-18"
      ]
     },
     "execution_count": 61,
     "metadata": {},
     "output_type": "execute_result"
    }
   ],
   "source": [
    "sum((test_null_corrected.lod .- test_perms_lite[1, :]).^2)"
   ]
  },
  {
   "cell_type": "code",
   "execution_count": 62,
   "id": "39b83078-6338-472d-a828-14cf8830d3d9",
   "metadata": {},
   "outputs": [
    {
     "data": {
      "text/plain": [
       "7321×2 Matrix{Float64}:\n",
       " 0.00830149  0.00830149\n",
       " 0.00830149  0.00830149\n",
       " 0.00830149  0.00830149\n",
       " 0.00830149  0.00830149\n",
       " 0.00830149  0.00830149\n",
       " 0.00830149  0.00830149\n",
       " 0.00830149  0.00830149\n",
       " 0.00830149  0.00830149\n",
       " 0.00830149  0.00830149\n",
       " 0.00830149  0.00830149\n",
       " 0.00830149  0.00830149\n",
       " 0.00830039  0.00830039\n",
       " 0.0101448   0.0101448\n",
       " ⋮           \n",
       " 0.0876171   0.0876171\n",
       " 0.0876171   0.0876171\n",
       " 0.0876171   0.0876171\n",
       " 0.00923218  0.00923218\n",
       " 0.00903044  0.00903044\n",
       " 0.00903044  0.00903044\n",
       " 0.0161049   0.0161049\n",
       " 0.0305571   0.0305571\n",
       " 0.028855    0.028855\n",
       " 0.0470821   0.0470821\n",
       " 0.0142602   0.0142602\n",
       " 0.0142602   0.0142602"
      ]
     },
     "execution_count": 62,
     "metadata": {},
     "output_type": "execute_result"
    }
   ],
   "source": [
    "hcat(test_perms_lite[1, :], test_null_corrected.lod)"
   ]
  },
  {
   "cell_type": "code",
   "execution_count": null,
   "id": "006ad63c-cf87-4982-8d60-f6409122efb5",
   "metadata": {},
   "outputs": [],
   "source": []
  },
  {
   "cell_type": "markdown",
   "id": "b5330573-feb8-469a-8d4b-8cd99794badc",
   "metadata": {},
   "source": [
    "## 3.Multivariate Scans Methods:"
   ]
  },
  {
   "cell_type": "code",
   "execution_count": 63,
   "id": "9c17d87a-09e2-4d57-a02a-bcef9068bb7e",
   "metadata": {},
   "outputs": [],
   "source": [
    "# (Y0, X0, lambda0) = transform_rotation(pheno, )\n",
    "# test_bulkscan_univar = "
   ]
  },
  {
   "cell_type": "code",
   "execution_count": 64,
   "id": "34b21892-9caa-45b4-8a51-1ad67af5bb32",
   "metadata": {},
   "outputs": [
    {
     "data": {
      "text/plain": [
       "1"
      ]
     },
     "execution_count": 64,
     "metadata": {},
     "output_type": "execute_result"
    }
   ],
   "source": [
    "Threads.nthreads()"
   ]
  },
  {
   "cell_type": "code",
   "execution_count": 65,
   "id": "89fd2499-c1ef-4946-82a6-c41bfe65d2dd",
   "metadata": {},
   "outputs": [
    {
     "data": {
      "text/plain": [
       "4"
      ]
     },
     "execution_count": 65,
     "metadata": {},
     "output_type": "execute_result"
    }
   ],
   "source": [
    "BLAS.get_num_threads()"
   ]
  },
  {
   "cell_type": "code",
   "execution_count": 66,
   "id": "d6c3ae22-31a8-4569-a7fb-e2d47f8e1c82",
   "metadata": {},
   "outputs": [],
   "source": [
    "BLAS.set_num_threads(8);"
   ]
  },
  {
   "cell_type": "code",
   "execution_count": 67,
   "id": "d598dcf5-f357-4e9f-bfde-b1a7f052e9c1",
   "metadata": {},
   "outputs": [
    {
     "data": {
      "text/plain": [
       "8"
      ]
     },
     "execution_count": 67,
     "metadata": {},
     "output_type": "execute_result"
    }
   ],
   "source": [
    "BLAS.get_num_threads()"
   ]
  },
  {
   "cell_type": "code",
   "execution_count": 68,
   "id": "3e1287b2-09da-472c-b03e-8302094ca1de",
   "metadata": {},
   "outputs": [],
   "source": [
    "include(\"../src/bulkscan.jl\");"
   ]
  },
  {
   "cell_type": "code",
   "execution_count": 69,
   "id": "0c21476b-87e6-4af7-9185-d74dbda43485",
   "metadata": {},
   "outputs": [
    {
     "data": {
      "text/plain": [
       "1"
      ]
     },
     "execution_count": 69,
     "metadata": {},
     "output_type": "execute_result"
    }
   ],
   "source": [
    "nt = Threads.nthreads()"
   ]
  },
  {
   "cell_type": "code",
   "execution_count": 70,
   "id": "c757a916-b24f-4d8a-8fd7-9842351e3bd6",
   "metadata": {},
   "outputs": [],
   "source": [
    "stand_pheno = colStandardize(pheno);\n",
    "stand_geno = colStandardize(geno);"
   ]
  },
  {
   "cell_type": "code",
   "execution_count": 77,
   "id": "6927c4e8-2000-4162-af34-04d863d6f215",
   "metadata": {},
   "outputs": [
    {
     "name": "stdout",
     "output_type": "stream",
     "text": [
      "686.201595 seconds (3.65 G allocations: 716.909 GiB, 12.19% gc time, 0.02% compilation time)\n"
     ]
    },
    {
     "data": {
      "text/plain": [
       "7321×35556 Matrix{Float64}:\n",
       " 0.000120087  0.047143   0.00296438  …  0.045684    0.00334917   0.348691\n",
       " 0.000120087  0.047143   0.00296438     0.045684    0.00334917   0.348691\n",
       " 0.000120087  0.047143   0.00296438     0.045684    0.00334917   0.348691\n",
       " 0.000120087  0.047143   0.00296438     0.045684    0.00334917   0.348691\n",
       " 0.000120087  0.047143   0.00296438     0.045684    0.00334917   0.348691\n",
       " 0.000120087  0.047143   0.00296438  …  0.045684    0.00334917   0.348691\n",
       " 0.000120087  0.047143   0.00296438     0.045684    0.00334917   0.348691\n",
       " 0.000120087  0.047143   0.00296438     0.045684    0.00334917   0.348691\n",
       " 0.000120087  0.047143   0.00296438     0.045684    0.00334917   0.348691\n",
       " 0.000120087  0.047143   0.00296438     0.045684    0.00334917   0.348691\n",
       " 0.000120087  0.047143   0.00296438  …  0.045684    0.00334917   0.348691\n",
       " 0.000120007  0.0471438  0.00296468     0.0456845   0.00334919   0.348694\n",
       " 0.00953337   0.0663625  0.0179876      0.0547082   0.00385301   0.386323\n",
       " ⋮                                   ⋱                           ⋮\n",
       " 0.260178     0.0574757  0.238773       0.249413    0.0104798    0.179368\n",
       " 0.260178     0.0574757  0.238773    …  0.249413    0.0104798    0.179368\n",
       " 0.260178     0.0574757  0.238773       0.249413    0.0104798    0.179368\n",
       " 0.252712     0.0510348  0.21427        0.0759098   0.00221043   0.344933\n",
       " 0.378291     0.0217433  0.306901       0.0307795   0.000161225  0.386831\n",
       " 0.378291     0.0217433  0.306901       0.0307795   0.000161225  0.386831\n",
       " 0.219357     0.0464188  0.164628    …  0.00202245  0.0256127    0.2906\n",
       " 0.200273     0.09121    0.150258       0.00161052  0.0413606    0.209139\n",
       " 0.202546     0.0858162  0.151969       0.00165484  0.0395503    0.217494\n",
       " 0.177705     0.145374   0.133283       0.00121799  0.0587088    0.139101\n",
       " 0.181695     0.254183   0.104615       0.00798602  0.0547036    0.0633114\n",
       " 0.181695     0.254183   0.104615    …  0.00798602  0.0547036    0.0633114"
      ]
     },
     "execution_count": 77,
     "metadata": {},
     "output_type": "execute_result"
    }
   ],
   "source": [
    "@time test_bulkscan = scan_lite_multivar(stand_pheno, stand_geno, kinship, nt; nt_blas = 1, \n",
    "                                prior_variance = 1.0, prior_sample_size = 0.1, \n",
    "                                reml = false)"
   ]
  },
  {
   "cell_type": "code",
   "execution_count": 76,
   "id": "7a898368-74fe-4b3d-af0f-8529339aec7c",
   "metadata": {},
   "outputs": [
    {
     "ename": "LoadError",
     "evalue": "UndefVarError: test_bulkscan not defined",
     "output_type": "error",
     "traceback": [
      "UndefVarError: test_bulkscan not defined",
      "",
      "Stacktrace:",
      " [1] top-level scope",
      "   @ In[76]:1",
      " [2] eval",
      "   @ ./boot.jl:368 [inlined]",
      " [3] include_string(mapexpr::typeof(REPL.softscope), mod::Module, code::String, filename::String)",
      "   @ Base ./loading.jl:1428"
     ]
    }
   ],
   "source": [
    "test_bulkscan[:, traitID]"
   ]
  },
  {
   "cell_type": "code",
   "execution_count": 73,
   "id": "51ef77f9-b595-464c-a06f-59973ed58418",
   "metadata": {},
   "outputs": [
    {
     "ename": "LoadError",
     "evalue": "UndefVarError: test_bulkscan not defined",
     "output_type": "error",
     "traceback": [
      "UndefVarError: test_bulkscan not defined",
      "",
      "Stacktrace:",
      " [1] top-level scope",
      "   @ In[73]:1",
      " [2] eval",
      "   @ ./boot.jl:368 [inlined]",
      " [3] include_string(mapexpr::typeof(REPL.softscope), mod::Module, code::String, filename::String)",
      "   @ Base ./loading.jl:1428"
     ]
    }
   ],
   "source": [
    "sum((test_null_corrected.lod .- test_bulkscan[:, traitID]).^2)"
   ]
  },
  {
   "cell_type": "code",
   "execution_count": 74,
   "id": "850fc422-a119-4b21-8bac-225c6f89621e",
   "metadata": {},
   "outputs": [
    {
     "data": {
      "text/plain": [
       "(1481, 12)"
      ]
     },
     "execution_count": 74,
     "metadata": {},
     "output_type": "execute_result"
    }
   ],
   "source": [
    "divrem(m, 24)"
   ]
  },
  {
   "cell_type": "code",
   "execution_count": null,
   "id": "b8ce9cad-8342-4c32-b271-0d98976aa4f5",
   "metadata": {},
   "outputs": [],
   "source": []
  },
  {
   "cell_type": "code",
   "execution_count": null,
   "id": "a438a6dc-fd42-4665-8542-9eac951f649c",
   "metadata": {},
   "outputs": [],
   "source": []
  },
  {
   "cell_type": "code",
   "execution_count": null,
   "id": "3f5d71a0-894a-4b4b-9f8d-fa8f7e4f91fa",
   "metadata": {},
   "outputs": [],
   "source": []
  },
  {
   "cell_type": "code",
   "execution_count": null,
   "id": "e146ad86-13f0-4f83-8061-04ca4c9a0137",
   "metadata": {},
   "outputs": [],
   "source": []
  }
 ],
 "metadata": {
  "kernelspec": {
   "display_name": "Julia 1.8.2",
   "language": "julia",
   "name": "julia-1.8"
  },
  "language_info": {
   "file_extension": ".jl",
   "mimetype": "application/julia",
   "name": "julia",
   "version": "1.8.2"
  }
 },
 "nbformat": 4,
 "nbformat_minor": 5
}
