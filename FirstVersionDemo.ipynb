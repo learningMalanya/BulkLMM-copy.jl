{
 "cells": [
  {
   "cell_type": "markdown",
   "id": "04ecf9ac-87de-4942-ad19-c1b0746a6ca2",
   "metadata": {},
   "source": [
    "# Package Functionalities Demo:"
   ]
  },
  {
   "cell_type": "markdown",
   "id": "4d0675db-8e06-4d3f-9286-90a1778f2e83",
   "metadata": {},
   "source": [
    "## Preparation: load data, functions, libraries of dependency..."
   ]
  },
  {
   "cell_type": "code",
   "execution_count": 1,
   "id": "e75e4a3a-c620-4a98-b246-326b89de8867",
   "metadata": {},
   "outputs": [
    {
     "data": {
      "text/plain": [
       "\"/Users/FredYu/Documents/GitHub/BulkLMM.jl\""
      ]
     },
     "execution_count": 1,
     "metadata": {},
     "output_type": "execute_result"
    }
   ],
   "source": [
    "pwd()"
   ]
  },
  {
   "cell_type": "code",
   "execution_count": 2,
   "id": "9e4b6632-6ef7-43e3-a25e-b2eb21ce0751",
   "metadata": {},
   "outputs": [],
   "source": [
    "cd(\"test\")"
   ]
  },
  {
   "cell_type": "code",
   "execution_count": 3,
   "id": "e9c5f601-3525-420f-aedc-42cf5f3c8917",
   "metadata": {},
   "outputs": [
    {
     "ename": "LoadError",
     "evalue": "LoadError: UndefVarError: @tturbo not defined\nin expression starting at /Users/FredYu/Documents/GitHub/BulkLMM.jl/src/scan_LiteQTL.jl:259\nin expression starting at /Users/FredYu/Documents/GitHub/BulkLMM.jl/src/scan_LiteQTL.jl:255",
     "output_type": "error",
     "traceback": [
      "LoadError: UndefVarError: @tturbo not defined\nin expression starting at /Users/FredYu/Documents/GitHub/BulkLMM.jl/src/scan_LiteQTL.jl:259\nin expression starting at /Users/FredYu/Documents/GitHub/BulkLMM.jl/src/scan_LiteQTL.jl:255",
      "",
      "Stacktrace:",
      " [1] top-level scope",
      "   @ :0",
      " [2] include(fname::String)",
      "   @ Base.MainInclude ./client.jl:476",
      " [3] top-level scope",
      "   @ In[3]:3",
      " [4] eval",
      "   @ ./boot.jl:368 [inlined]",
      " [5] include_string(mapexpr::typeof(REPL.softscope), mod::Module, code::String, filename::String)",
      "   @ Base ./loading.jl:1428"
     ]
    }
   ],
   "source": [
    "include(\"BXDdata_for_test.jl\");\n",
    "include(\"../src/parallel_helpers.jl\");\n",
    "include(\"../src/scan_LiteQTL.jl\");\n",
    "include(\"testHelpers.jl\");"
   ]
  },
  {
   "cell_type": "code",
   "execution_count": 4,
   "id": "9808a469-11be-42e1-b8d6-a9e1a0bbc110",
   "metadata": {},
   "outputs": [],
   "source": [
    "using BenchmarkTools\n",
    "using LoopVectorization"
   ]
  },
  {
   "cell_type": "code",
   "execution_count": 5,
   "id": "afb00389-7a10-4ddd-ac80-8d2e208d6009",
   "metadata": {},
   "outputs": [],
   "source": [
    "traitID = 7919;\n",
    "pheno_y = reshape(pheno[:, traitID], :, 1);"
   ]
  },
  {
   "cell_type": "markdown",
   "id": "afbb7499-1e6e-41ce-b00f-00d35acb8b47",
   "metadata": {},
   "source": [
    "## 1. Simple Univariate Scans:"
   ]
  },
  {
   "cell_type": "markdown",
   "id": "cf5550ac-8b6d-4151-a4be-e6f4be1017b8",
   "metadata": {},
   "source": [
    "Given the raw phenotype info of one trait, the genotype info and the corresponding pre-calculated kinship matrix, return the lod scores of all genetic markers on that particular trait."
   ]
  },
  {
   "cell_type": "code",
   "execution_count": 6,
   "id": "c454494b-34dc-482f-8cbb-282fbad7f6bc",
   "metadata": {},
   "outputs": [
    {
     "name": "stdout",
     "output_type": "stream",
     "text": [
      "search: \u001b[0m\u001b[1ms\u001b[22m\u001b[0m\u001b[1mc\u001b[22m\u001b[0m\u001b[1ma\u001b[22m\u001b[0m\u001b[1mn\u001b[22m \u001b[0m\u001b[1ms\u001b[22m\u001b[0m\u001b[1mc\u001b[22m\u001b[0m\u001b[1ma\u001b[22m\u001b[0m\u001b[1mn\u001b[22m_alt \u001b[0m\u001b[1ms\u001b[22m\u001b[0m\u001b[1mc\u001b[22m\u001b[0m\u001b[1ma\u001b[22m\u001b[0m\u001b[1mn\u001b[22m_null \u001b[0m\u001b[1ms\u001b[22m\u001b[0m\u001b[1mc\u001b[22m\u001b[0m\u001b[1ma\u001b[22m\u001b[0m\u001b[1mn\u001b[22m_lite \u001b[0m\u001b[1ms\u001b[22m\u001b[0m\u001b[1mc\u001b[22m\u001b[0m\u001b[1ma\u001b[22m\u001b[0m\u001b[1mn\u001b[22m_perms \u001b[0m\u001b[1ms\u001b[22m\u001b[0m\u001b[1mc\u001b[22m\u001b[0m\u001b[1ma\u001b[22m\u001b[0m\u001b[1mn\u001b[22m_perms_lite\n",
      "\n"
     ]
    },
    {
     "data": {
      "text/latex": [
       "\\begin{verbatim}\n",
       "scan(y, g, K, reml, method)\n",
       "\\end{verbatim}\n",
       "Performs genome scan for univariate trait and each of the gene markers, one marker at a time (one-df test) \n",
       "\n",
       "\\section{Arguments}\n",
       "\\begin{itemize}\n",
       "\\item y = 1d array of floats consisting of the N observations for a certain quantitative trait (dimension: N*1)\n",
       "\n",
       "\n",
       "\\item g = 2d array of floats consisting of all p gene markers (dimension: N*p)\n",
       "\n",
       "\n",
       "\\item K = 2d array of floats consisting of the genetic relatedness of the N observations (dimension:N*N)\n",
       "\n",
       "\n",
       "\\item prior\\_a = a float of prior distribution parameter\n",
       "\n",
       "\n",
       "\\item prior\\_b = a float of prior distribution parameter\n",
       "\n",
       "\\end{itemize}\n",
       "\\section{Keyword arguments}\n",
       "\\begin{itemize}\n",
       "\\item addIntercept = Boolean flag indicating if an intercept column needs to be added to the design matrix; Default is to add an intercept\n",
       "\n",
       "\n",
       "\\item reml = Bool flag indicating if VCs are estimated by REML likelihood; Default is ML\n",
       "\n",
       "\n",
       "\\item assumption = String indicating whether the variance component parameters are the same across all markers (null) or not (alt); Default is \\texttt{null}\n",
       "\n",
       "\n",
       "\\item method = String indicating the matrix factorization method to use; Default is QR.\n",
       "\n",
       "\\end{itemize}\n",
       "\\section{Value}\n",
       "A list of output values are returned:\n",
       "\n",
       "\\begin{itemize}\n",
       "\\item out00.sigma2 = Float; estimated marginal variance due to random errors (by null lmm)\n",
       "\n",
       "\n",
       "\\item out00.h2 = Float; estimated heritability (by null lmm)\n",
       "\n",
       "\n",
       "\\item lod = 1d array of floats consisting of the lod scores of this trait and all markers (dimension: p*1)\n",
       "\n",
       "\\end{itemize}\n",
       "\\section{Some notes}\n",
       "\\begin{verbatim}\n",
       "This function calls either `scan_null` or `scan_alt` depending on the input passed as `method`.\n",
       "Output data structure might need some revisions.\n",
       "\\end{verbatim}\n"
      ],
      "text/markdown": [
       "```\n",
       "scan(y, g, K, reml, method)\n",
       "```\n",
       "\n",
       "Performs genome scan for univariate trait and each of the gene markers, one marker at a time (one-df test) \n",
       "\n",
       "# Arguments\n",
       "\n",
       "  * y = 1d array of floats consisting of the N observations for a certain quantitative trait (dimension: N*1)\n",
       "  * g = 2d array of floats consisting of all p gene markers (dimension: N*p)\n",
       "  * K = 2d array of floats consisting of the genetic relatedness of the N observations (dimension:N*N)\n",
       "  * prior_a = a float of prior distribution parameter\n",
       "  * prior_b = a float of prior distribution parameter\n",
       "\n",
       "# Keyword arguments\n",
       "\n",
       "  * addIntercept = Boolean flag indicating if an intercept column needs to be added to the design matrix; Default is to add an intercept\n",
       "  * reml = Bool flag indicating if VCs are estimated by REML likelihood; Default is ML\n",
       "  * assumption = String indicating whether the variance component parameters are the same across all markers (null) or not (alt); Default is `null`\n",
       "  * method = String indicating the matrix factorization method to use; Default is QR.\n",
       "\n",
       "# Value\n",
       "\n",
       "A list of output values are returned:\n",
       "\n",
       "  * out00.sigma2 = Float; estimated marginal variance due to random errors (by null lmm)\n",
       "  * out00.h2 = Float; estimated heritability (by null lmm)\n",
       "  * lod = 1d array of floats consisting of the lod scores of this trait and all markers (dimension: p*1)\n",
       "\n",
       "# Some notes\n",
       "\n",
       "```\n",
       "This function calls either `scan_null` or `scan_alt` depending on the input passed as `method`.\n",
       "Output data structure might need some revisions.\n",
       "```\n"
      ],
      "text/plain": [
       "\u001b[36m  scan(y, g, K, reml, method)\u001b[39m\n",
       "\n",
       "  Performs genome scan for univariate trait and each of the gene markers, one\n",
       "  marker at a time (one-df test)\n",
       "\n",
       "\u001b[1m  Arguments\u001b[22m\n",
       "\u001b[1m  ≡≡≡≡≡≡≡≡≡≡≡\u001b[22m\n",
       "\n",
       "    •  y = 1d array of floats consisting of the N observations for a\n",
       "       certain quantitative trait (dimension: N*1)\n",
       "\n",
       "    •  g = 2d array of floats consisting of all p gene markers\n",
       "       (dimension: N*p)\n",
       "\n",
       "    •  K = 2d array of floats consisting of the genetic relatedness of\n",
       "       the N observations (dimension:N*N)\n",
       "\n",
       "    •  prior_a = a float of prior distribution parameter\n",
       "\n",
       "    •  prior_b = a float of prior distribution parameter\n",
       "\n",
       "\u001b[1m  Keyword arguments\u001b[22m\n",
       "\u001b[1m  ≡≡≡≡≡≡≡≡≡≡≡≡≡≡≡≡≡≡≡\u001b[22m\n",
       "\n",
       "    •  addIntercept = Boolean flag indicating if an intercept column\n",
       "       needs to be added to the design matrix; Default is to add an\n",
       "       intercept\n",
       "\n",
       "    •  reml = Bool flag indicating if VCs are estimated by REML\n",
       "       likelihood; Default is ML\n",
       "\n",
       "    •  assumption = String indicating whether the variance component\n",
       "       parameters are the same across all markers (null) or not (alt);\n",
       "       Default is \u001b[36mnull\u001b[39m\n",
       "\n",
       "    •  method = String indicating the matrix factorization method to use;\n",
       "       Default is QR.\n",
       "\n",
       "\u001b[1m  Value\u001b[22m\n",
       "\u001b[1m  ≡≡≡≡≡≡≡\u001b[22m\n",
       "\n",
       "  A list of output values are returned:\n",
       "\n",
       "    •  out00.sigma2 = Float; estimated marginal variance due to random\n",
       "       errors (by null lmm)\n",
       "\n",
       "    •  out00.h2 = Float; estimated heritability (by null lmm)\n",
       "\n",
       "    •  lod = 1d array of floats consisting of the lod scores of this\n",
       "       trait and all markers (dimension: p*1)\n",
       "\n",
       "\u001b[1m  Some notes\u001b[22m\n",
       "\u001b[1m  ≡≡≡≡≡≡≡≡≡≡≡≡\u001b[22m\n",
       "\n",
       "\u001b[36m  This function calls either `scan_null` or `scan_alt` depending on the input passed as `method`.\u001b[39m\n",
       "\u001b[36m  Output data structure might need some revisions.\u001b[39m"
      ]
     },
     "execution_count": 6,
     "metadata": {},
     "output_type": "execute_result"
    }
   ],
   "source": [
    "?scan"
   ]
  },
  {
   "cell_type": "markdown",
   "id": "0713fdf6-dde7-4faf-be2d-e853144e657d",
   "metadata": {},
   "source": [
    "### Assumption (1): VCs are estimated once from the null model"
   ]
  },
  {
   "cell_type": "code",
   "execution_count": 7,
   "id": "e1a62960-079e-4d47-af2e-2d7592acf80c",
   "metadata": {},
   "outputs": [
    {
     "name": "stdout",
     "output_type": "stream",
     "text": [
      "search: \u001b[0m\u001b[1ms\u001b[22m\u001b[0m\u001b[1mc\u001b[22m\u001b[0m\u001b[1ma\u001b[22m\u001b[0m\u001b[1mn\u001b[22m\u001b[0m\u001b[1m_\u001b[22m\u001b[0m\u001b[1mn\u001b[22m\u001b[0m\u001b[1mu\u001b[22m\u001b[0m\u001b[1ml\u001b[22m\u001b[0m\u001b[1ml\u001b[22m\n",
      "\n"
     ]
    },
    {
     "data": {
      "text/latex": [
       "\\begin{verbatim}\n",
       "scan_null(y, g, K, reml, method)\n",
       "\\end{verbatim}\n",
       "Performs genome scan for univariate trait and each of the gene markers, one marker at a time,  assuming the variance components are the same for all markers.\n",
       "\n",
       "\\section{Arguments}\n",
       "\\begin{itemize}\n",
       "\\item y = 1d array of floats consisting of the N observations for a certain quantitative trait (dimension: N*1)\n",
       "\n",
       "\n",
       "\\item g = 2d array of floats consisting of all p gene markers (dimension: N*p)\n",
       "\n",
       "\n",
       "\\item K = 2d array of floats consisting of the genetic relatedness of the N observations (dimension:N*N)\n",
       "\n",
       "\\end{itemize}\n",
       "\\section{Keyword arguments}\n",
       "\\begin{itemize}\n",
       "\\item addIntercept = Boolean flag indicating if an intercept column needs to be added to the design matrix; Default is to add an intercept\n",
       "\n",
       "\n",
       "\\item reml = Bool flag indicating if VCs are estimated by REML likelihood; Default is ML\n",
       "\n",
       "\n",
       "\\item method = String indicating the matrix factorization method to use; Default is QR.\n",
       "\n",
       "\\end{itemize}\n",
       "\\section{Value}\n",
       "A list of output values are returned:\n",
       "\n",
       "\\begin{itemize}\n",
       "\\item out00.sigma2 = Float; estimated marginal variance due to random errors (by null lmm)\n",
       "\n",
       "\n",
       "\\item out00.h2 = Float; estimated heritability (by null lmm)\n",
       "\n",
       "\n",
       "\\item lod = 1d array of floats consisting of the lod scores of this trait and all markers (dimension: p*1)\n",
       "\n",
       "\\end{itemize}\n",
       "\\section{Some notes}\n",
       "\\begin{verbatim}\n",
       "This is a subsequent function that does univariate scan. The variance components are estimated once \n",
       "and used for all markers. To be called by the `scan` function when the `method = ` field is passed \n",
       "as `null` (default).\n",
       "\\end{verbatim}\n"
      ],
      "text/markdown": [
       "```\n",
       "scan_null(y, g, K, reml, method)\n",
       "```\n",
       "\n",
       "Performs genome scan for univariate trait and each of the gene markers, one marker at a time,  assuming the variance components are the same for all markers.\n",
       "\n",
       "# Arguments\n",
       "\n",
       "  * y = 1d array of floats consisting of the N observations for a certain quantitative trait (dimension: N*1)\n",
       "  * g = 2d array of floats consisting of all p gene markers (dimension: N*p)\n",
       "  * K = 2d array of floats consisting of the genetic relatedness of the N observations (dimension:N*N)\n",
       "\n",
       "# Keyword arguments\n",
       "\n",
       "  * addIntercept = Boolean flag indicating if an intercept column needs to be added to the design matrix; Default is to add an intercept\n",
       "  * reml = Bool flag indicating if VCs are estimated by REML likelihood; Default is ML\n",
       "  * method = String indicating the matrix factorization method to use; Default is QR.\n",
       "\n",
       "# Value\n",
       "\n",
       "A list of output values are returned:\n",
       "\n",
       "  * out00.sigma2 = Float; estimated marginal variance due to random errors (by null lmm)\n",
       "  * out00.h2 = Float; estimated heritability (by null lmm)\n",
       "  * lod = 1d array of floats consisting of the lod scores of this trait and all markers (dimension: p*1)\n",
       "\n",
       "# Some notes\n",
       "\n",
       "```\n",
       "This is a subsequent function that does univariate scan. The variance components are estimated once \n",
       "and used for all markers. To be called by the `scan` function when the `method = ` field is passed \n",
       "as `null` (default).\n",
       "```\n"
      ],
      "text/plain": [
       "\u001b[36m  scan_null(y, g, K, reml, method)\u001b[39m\n",
       "\n",
       "  Performs genome scan for univariate trait and each of the gene markers, one\n",
       "  marker at a time, assuming the variance components are the same for all\n",
       "  markers.\n",
       "\n",
       "\u001b[1m  Arguments\u001b[22m\n",
       "\u001b[1m  ≡≡≡≡≡≡≡≡≡≡≡\u001b[22m\n",
       "\n",
       "    •  y = 1d array of floats consisting of the N observations for a\n",
       "       certain quantitative trait (dimension: N*1)\n",
       "\n",
       "    •  g = 2d array of floats consisting of all p gene markers\n",
       "       (dimension: N*p)\n",
       "\n",
       "    •  K = 2d array of floats consisting of the genetic relatedness of\n",
       "       the N observations (dimension:N*N)\n",
       "\n",
       "\u001b[1m  Keyword arguments\u001b[22m\n",
       "\u001b[1m  ≡≡≡≡≡≡≡≡≡≡≡≡≡≡≡≡≡≡≡\u001b[22m\n",
       "\n",
       "    •  addIntercept = Boolean flag indicating if an intercept column\n",
       "       needs to be added to the design matrix; Default is to add an\n",
       "       intercept\n",
       "\n",
       "    •  reml = Bool flag indicating if VCs are estimated by REML\n",
       "       likelihood; Default is ML\n",
       "\n",
       "    •  method = String indicating the matrix factorization method to use;\n",
       "       Default is QR.\n",
       "\n",
       "\u001b[1m  Value\u001b[22m\n",
       "\u001b[1m  ≡≡≡≡≡≡≡\u001b[22m\n",
       "\n",
       "  A list of output values are returned:\n",
       "\n",
       "    •  out00.sigma2 = Float; estimated marginal variance due to random\n",
       "       errors (by null lmm)\n",
       "\n",
       "    •  out00.h2 = Float; estimated heritability (by null lmm)\n",
       "\n",
       "    •  lod = 1d array of floats consisting of the lod scores of this\n",
       "       trait and all markers (dimension: p*1)\n",
       "\n",
       "\u001b[1m  Some notes\u001b[22m\n",
       "\u001b[1m  ≡≡≡≡≡≡≡≡≡≡≡≡\u001b[22m\n",
       "\n",
       "\u001b[36m  This is a subsequent function that does univariate scan. The variance components are estimated once \u001b[39m\n",
       "\u001b[36m  and used for all markers. To be called by the `scan` function when the `method = ` field is passed \u001b[39m\n",
       "\u001b[36m  as `null` (default).\u001b[39m"
      ]
     },
     "execution_count": 7,
     "metadata": {},
     "output_type": "execute_result"
    }
   ],
   "source": [
    "?scan_null"
   ]
  },
  {
   "cell_type": "code",
   "execution_count": 8,
   "id": "ce8faa3f-d697-4b16-9e06-a51e5f73fbd0",
   "metadata": {},
   "outputs": [
    {
     "name": "stdout",
     "output_type": "stream",
     "text": [
      "  0.042875 seconds (73.52 k allocations: 33.189 MiB)\n"
     ]
    }
   ],
   "source": [
    "@time test_null = scan(pheno_y, geno, kinship; addIntercept = true, reml = false, assumption = \"null\", method = \"cholesky\");"
   ]
  },
  {
   "cell_type": "code",
   "execution_count": 9,
   "id": "19a0ae27-f398-415e-ace2-5e5edc643103",
   "metadata": {},
   "outputs": [
    {
     "data": {
      "text/plain": [
       "0.04983520992588347"
      ]
     },
     "execution_count": 9,
     "metadata": {},
     "output_type": "execute_result"
    }
   ],
   "source": [
    "test_null[1] # sigma2_e"
   ]
  },
  {
   "cell_type": "code",
   "execution_count": 10,
   "id": "5db03bcb-d262-4639-8443-303b9d6c1269",
   "metadata": {},
   "outputs": [
    {
     "data": {
      "text/plain": [
       "0.8960637228416714"
      ]
     },
     "execution_count": 10,
     "metadata": {},
     "output_type": "execute_result"
    }
   ],
   "source": [
    "test_null[2] # hsq"
   ]
  },
  {
   "cell_type": "code",
   "execution_count": 11,
   "id": "39a20f3f-10e4-45d7-afda-9b7d49185c54",
   "metadata": {},
   "outputs": [
    {
     "data": {
      "text/plain": [
       "7321-element Vector{Float64}:\n",
       " 0.008196360329322583\n",
       " 0.008196360329322583\n",
       " 0.008196360329322583\n",
       " 0.008196360329322583\n",
       " 0.008196360329322583\n",
       " 0.008196360329322583\n",
       " 0.008196360329322583\n",
       " 0.008196360329322583\n",
       " 0.008196360329322583\n",
       " 0.008196360329322583\n",
       " 0.008196360229954236\n",
       " 0.008195284184264295\n",
       " 0.00987347031983854\n",
       " ⋮\n",
       " 0.09285575916070832\n",
       " 0.09285575883025671\n",
       " 0.09285575883025671\n",
       " 0.011173043848082764\n",
       " 0.008215696058314959\n",
       " 0.008215696058314959\n",
       " 0.01502332773404691\n",
       " 0.02895771332730057\n",
       " 0.02731129976924651\n",
       " 0.04498777747884275\n",
       " 0.012828276502853786\n",
       " 0.012828276502853786"
      ]
     },
     "execution_count": 11,
     "metadata": {},
     "output_type": "execute_result"
    }
   ],
   "source": [
    "test_null[3] # LODs"
   ]
  },
  {
   "cell_type": "markdown",
   "id": "3f071a99-eb66-484f-a09f-42ab8286f880",
   "metadata": {},
   "source": [
    "### Assumption (2): VCs are re-estimated everytime for each marker scan"
   ]
  },
  {
   "cell_type": "code",
   "execution_count": 12,
   "id": "8eaa7854-50f2-4cb0-bd54-1b7a6dab5c76",
   "metadata": {},
   "outputs": [
    {
     "name": "stdout",
     "output_type": "stream",
     "text": [
      "search: \u001b[0m\u001b[1ms\u001b[22m\u001b[0m\u001b[1mc\u001b[22m\u001b[0m\u001b[1ma\u001b[22m\u001b[0m\u001b[1mn\u001b[22m\u001b[0m\u001b[1m_\u001b[22m\u001b[0m\u001b[1ma\u001b[22m\u001b[0m\u001b[1ml\u001b[22m\u001b[0m\u001b[1mt\u001b[22m \u001b[0m\u001b[1ms\u001b[22m\u001b[0m\u001b[1mc\u001b[22m\u001b[0m\u001b[1ma\u001b[22m\u001b[0m\u001b[1mn\u001b[22m\u001b[0m\u001b[1m_\u001b[22mlite_univ\u001b[0m\u001b[1ma\u001b[22mr\n",
      "\n"
     ]
    },
    {
     "data": {
      "text/latex": [
       "\\begin{verbatim}\n",
       "scan_alt(y, g, K, reml)\n",
       "\\end{verbatim}\n",
       "Performs genome scan for univariate trait and each of the gene markers, one marker at a time (one-df test), assuming the variance components may not be the same for all markers. \n",
       "\n",
       "\\section{Arguments}\n",
       "\\begin{itemize}\n",
       "\\item y = 1d array of floats consisting of the N observations for a certain quantitative trait (dimension: N*1)\n",
       "\n",
       "\n",
       "\\item g = 2d array of floats consisting of all p gene markers (dimension: N*p)\n",
       "\n",
       "\n",
       "\\item K = 2d array of floats consisting of the genetic relatedness of the N observations (dimension:N*N)\n",
       "\n",
       "\\end{itemize}\n",
       "\\section{Keyword arguments}\n",
       "\\begin{itemize}\n",
       "\\item addIntercept = Boolean flag indicating if an intercept column needs to be added to the design matrix; Default is to add an intercept\n",
       "\n",
       "\n",
       "\\item reml = Bool flag indicating if VCs are estimated by REML likelihood; Default is ML\n",
       "\n",
       "\n",
       "\\item method = String indicating the matrix factorization method to use; Default is QR.\n",
       "\n",
       "\\end{itemize}\n",
       "\\section{Value}\n",
       "A list of output values are returned:\n",
       "\n",
       "\\begin{itemize}\n",
       "\\item out00.sigma2 = Float; estimated marginal variance due to random errors (by null lmm)\n",
       "\n",
       "\n",
       "\\item out00.h2 = Float; estimated heritability (by null lmm)\n",
       "\n",
       "\n",
       "\\item lod = 1d array of floats consisting of the lod scores of this trait and all markers (dimension: p*1)\n",
       "\n",
       "\\end{itemize}\n",
       "\\section{Some notes}\n",
       "\\begin{verbatim}\n",
       "This is a subsequent function that does univariate scan. For every scan for each genetic marker, the \n",
       "variance components will need to be re-estimated. To be called by the `scan` function when the `method = ` \n",
       "field is passed as `alt`.\n",
       "\\end{verbatim}\n"
      ],
      "text/markdown": [
       "```\n",
       "scan_alt(y, g, K, reml)\n",
       "```\n",
       "\n",
       "Performs genome scan for univariate trait and each of the gene markers, one marker at a time (one-df test), assuming the variance components may not be the same for all markers. \n",
       "\n",
       "# Arguments\n",
       "\n",
       "  * y = 1d array of floats consisting of the N observations for a certain quantitative trait (dimension: N*1)\n",
       "  * g = 2d array of floats consisting of all p gene markers (dimension: N*p)\n",
       "  * K = 2d array of floats consisting of the genetic relatedness of the N observations (dimension:N*N)\n",
       "\n",
       "# Keyword arguments\n",
       "\n",
       "  * addIntercept = Boolean flag indicating if an intercept column needs to be added to the design matrix; Default is to add an intercept\n",
       "  * reml = Bool flag indicating if VCs are estimated by REML likelihood; Default is ML\n",
       "  * method = String indicating the matrix factorization method to use; Default is QR.\n",
       "\n",
       "# Value\n",
       "\n",
       "A list of output values are returned:\n",
       "\n",
       "  * out00.sigma2 = Float; estimated marginal variance due to random errors (by null lmm)\n",
       "  * out00.h2 = Float; estimated heritability (by null lmm)\n",
       "  * lod = 1d array of floats consisting of the lod scores of this trait and all markers (dimension: p*1)\n",
       "\n",
       "# Some notes\n",
       "\n",
       "```\n",
       "This is a subsequent function that does univariate scan. For every scan for each genetic marker, the \n",
       "variance components will need to be re-estimated. To be called by the `scan` function when the `method = ` \n",
       "field is passed as `alt`.\n",
       "```\n"
      ],
      "text/plain": [
       "\u001b[36m  scan_alt(y, g, K, reml)\u001b[39m\n",
       "\n",
       "  Performs genome scan for univariate trait and each of the gene markers, one\n",
       "  marker at a time (one-df test), assuming the variance components may not be\n",
       "  the same for all markers.\n",
       "\n",
       "\u001b[1m  Arguments\u001b[22m\n",
       "\u001b[1m  ≡≡≡≡≡≡≡≡≡≡≡\u001b[22m\n",
       "\n",
       "    •  y = 1d array of floats consisting of the N observations for a\n",
       "       certain quantitative trait (dimension: N*1)\n",
       "\n",
       "    •  g = 2d array of floats consisting of all p gene markers\n",
       "       (dimension: N*p)\n",
       "\n",
       "    •  K = 2d array of floats consisting of the genetic relatedness of\n",
       "       the N observations (dimension:N*N)\n",
       "\n",
       "\u001b[1m  Keyword arguments\u001b[22m\n",
       "\u001b[1m  ≡≡≡≡≡≡≡≡≡≡≡≡≡≡≡≡≡≡≡\u001b[22m\n",
       "\n",
       "    •  addIntercept = Boolean flag indicating if an intercept column\n",
       "       needs to be added to the design matrix; Default is to add an\n",
       "       intercept\n",
       "\n",
       "    •  reml = Bool flag indicating if VCs are estimated by REML\n",
       "       likelihood; Default is ML\n",
       "\n",
       "    •  method = String indicating the matrix factorization method to use;\n",
       "       Default is QR.\n",
       "\n",
       "\u001b[1m  Value\u001b[22m\n",
       "\u001b[1m  ≡≡≡≡≡≡≡\u001b[22m\n",
       "\n",
       "  A list of output values are returned:\n",
       "\n",
       "    •  out00.sigma2 = Float; estimated marginal variance due to random\n",
       "       errors (by null lmm)\n",
       "\n",
       "    •  out00.h2 = Float; estimated heritability (by null lmm)\n",
       "\n",
       "    •  lod = 1d array of floats consisting of the lod scores of this\n",
       "       trait and all markers (dimension: p*1)\n",
       "\n",
       "\u001b[1m  Some notes\u001b[22m\n",
       "\u001b[1m  ≡≡≡≡≡≡≡≡≡≡≡≡\u001b[22m\n",
       "\n",
       "\u001b[36m  This is a subsequent function that does univariate scan. For every scan for each genetic marker, the \u001b[39m\n",
       "\u001b[36m  variance components will need to be re-estimated. To be called by the `scan` function when the `method = ` \u001b[39m\n",
       "\u001b[36m  field is passed as `alt`.\u001b[39m"
      ]
     },
     "execution_count": 12,
     "metadata": {},
     "output_type": "execute_result"
    }
   ],
   "source": [
    "?scan_alt"
   ]
  },
  {
   "cell_type": "code",
   "execution_count": 13,
   "id": "bae14f06-8db3-411d-bbc2-87f8e11ad003",
   "metadata": {},
   "outputs": [
    {
     "name": "stdout",
     "output_type": "stream",
     "text": [
      "  0.548589 seconds (1.86 M allocations: 861.011 MiB, 26.28% gc time)\n"
     ]
    }
   ],
   "source": [
    "@time test_alt = scan(pheno_y, geno, kinship; addIntercept = true, reml = false, assumption = \"alt\", method = \"cholesky\");"
   ]
  },
  {
   "cell_type": "code",
   "execution_count": 14,
   "id": "00874f51-b080-4baa-952d-c5e8b075a5f3",
   "metadata": {},
   "outputs": [
    {
     "data": {
      "text/plain": [
       "0.04983520992588347"
      ]
     },
     "execution_count": 14,
     "metadata": {},
     "output_type": "execute_result"
    }
   ],
   "source": [
    "test_alt[1] # "
   ]
  },
  {
   "cell_type": "code",
   "execution_count": 15,
   "id": "17f71b16-a9ab-4954-be48-c3c9ad8b8e83",
   "metadata": {},
   "outputs": [
    {
     "data": {
      "text/plain": [
       "0.8960637228416714"
      ]
     },
     "execution_count": 15,
     "metadata": {},
     "output_type": "execute_result"
    }
   ],
   "source": [
    "test_alt[2]"
   ]
  },
  {
   "cell_type": "code",
   "execution_count": 16,
   "id": "16164b55-6f4d-4d36-8679-17e2e7ab5d2e",
   "metadata": {},
   "outputs": [
    {
     "data": {
      "text/plain": [
       "7321-element Vector{Float64}:\n",
       " 0.8959152120195115\n",
       " 0.8959152120195115\n",
       " 0.8959152120195115\n",
       " 0.8959152120195115\n",
       " 0.8959152120195115\n",
       " 0.8959152120196866\n",
       " 0.8959152120195115\n",
       " 0.8959152120195115\n",
       " 0.8959152120195115\n",
       " 0.8959152120195115\n",
       " 0.8959152121140267\n",
       " 0.8959152374339192\n",
       " 0.8957761212977645\n",
       " ⋮\n",
       " 0.9023536181416946\n",
       " 0.9023536181056799\n",
       " 0.9023536181056799\n",
       " 0.8984874509594057\n",
       " 0.8951424229522367\n",
       " 0.8951424229522367\n",
       " 0.8948313365595942\n",
       " 0.8942228015686338\n",
       " 0.8942884362217399\n",
       " 0.893637575195784\n",
       " 0.894429331508082\n",
       " 0.894429331508082"
      ]
     },
     "execution_count": 16,
     "metadata": {},
     "output_type": "execute_result"
    }
   ],
   "source": [
    "test_alt[3]"
   ]
  },
  {
   "cell_type": "code",
   "execution_count": 17,
   "id": "d71fcdb0-7d9d-4dde-988f-bf3c7894d0ed",
   "metadata": {},
   "outputs": [
    {
     "name": "stdout",
     "output_type": "stream",
     "text": [
      "\u001b[1m2×3 DataFrame\u001b[0m\n",
      "\u001b[1m Row \u001b[0m│\u001b[1m Assumption \u001b[0m\u001b[1m Sigma2_e  \u001b[0m\u001b[1m H2       \u001b[0m\n",
      "     │\u001b[90m String     \u001b[0m\u001b[90m Float64   \u001b[0m\u001b[90m Float64  \u001b[0m\n",
      "─────┼─────────────────────────────────\n",
      "   1 │ Null        0.0498352  0.896064\n",
      "   2 │ Alt         0.0498352  0.896064"
     ]
    }
   ],
   "source": [
    "summary_tab1 = DataFrame(Assumption = [\"Null\", \"Alt\"], \n",
    "                         Sigma2_e = [test_null[1], test_alt[1]], \n",
    "                         H2 = [test_null[2], test_alt[2]]);\n",
    "print(summary_tab1)"
   ]
  },
  {
   "cell_type": "code",
   "execution_count": 18,
   "id": "02c13c1b-0ee4-4597-9b22-49ebc8271054",
   "metadata": {},
   "outputs": [
    {
     "name": "stdout",
     "output_type": "stream",
     "text": [
      "\u001b[1m10×3 DataFrame\u001b[0m\n",
      "\u001b[1m Row \u001b[0m│\u001b[1m Marker \u001b[0m\u001b[1m Null       \u001b[0m\u001b[1m Alt        \u001b[0m\n",
      "     │\u001b[90m Int64  \u001b[0m\u001b[90m Float64    \u001b[0m\u001b[90m Float64    \u001b[0m\n",
      "─────┼────────────────────────────────\n",
      "   1 │      1  0.00819636  0.00819776\n",
      "   2 │      2  0.00819636  0.00819776\n",
      "   3 │      3  0.00819636  0.00819776\n",
      "   4 │      4  0.00819636  0.00819776\n",
      "   5 │      5  0.00819636  0.00819776\n",
      "   6 │      6  0.00819636  0.00819776\n",
      "   7 │      7  0.00819636  0.00819776\n",
      "   8 │      8  0.00819636  0.00819776\n",
      "   9 │      9  0.00819636  0.00819776\n",
      "  10 │     10  0.00819636  0.00819776"
     ]
    }
   ],
   "source": [
    "summary_tab1_lods = DataFrame(Marker = collect(1:10), Null = test_null[3][1:10], Alt = test_alt[4][1:10]);\n",
    "print(summary_tab1_lods)"
   ]
  },
  {
   "cell_type": "code",
   "execution_count": 19,
   "id": "623c7bbc-0c54-47ec-ab74-19b3b9ba67c7",
   "metadata": {},
   "outputs": [
    {
     "data": {
      "text/plain": [
       "1.0"
      ]
     },
     "execution_count": 19,
     "metadata": {},
     "output_type": "execute_result"
    }
   ],
   "source": [
    "mean(test_null[3] .< test_alt[4])"
   ]
  },
  {
   "cell_type": "markdown",
   "id": "0073a1f0-61bf-4330-8608-3485d5ae6536",
   "metadata": {},
   "source": [
    "## 2. Univariate Scans with permutation tests:"
   ]
  },
  {
   "cell_type": "code",
   "execution_count": 20,
   "id": "9c1a8cc1-78cd-4fbb-a5df-f5e645dbec83",
   "metadata": {},
   "outputs": [
    {
     "name": "stdout",
     "output_type": "stream",
     "text": [
      " 13.576158 seconds (103.84 k allocations: 17.629 GiB, 13.04% gc time)\n"
     ]
    }
   ],
   "source": [
    "@time test_perms = scan_perms(pheno_y, geno, kinship; \n",
    "                              prior_a = 1.0, prior_b = 0.1,\n",
    "                              addIntercept = true, reml = false, method = \"cholesky\",\n",
    "                              nperms = 1000, original = true);"
   ]
  },
  {
   "cell_type": "code",
   "execution_count": 21,
   "id": "ebe2e3af-4e47-4565-bbfa-4dd9d41d4cd2",
   "metadata": {},
   "outputs": [
    {
     "data": {
      "text/plain": [
       "(1001, 7321)"
      ]
     },
     "execution_count": 21,
     "metadata": {},
     "output_type": "execute_result"
    }
   ],
   "source": [
    "size(test_perms)"
   ]
  },
  {
   "cell_type": "code",
   "execution_count": 22,
   "id": "3e94db51-7932-4568-9a44-299482e80985",
   "metadata": {},
   "outputs": [
    {
     "name": "stdout",
     "output_type": "stream",
     "text": [
      "  0.717253 seconds (1.38 M allocations: 162.923 MiB, 82.84% compilation time)\n"
     ]
    }
   ],
   "source": [
    "@time test_perms_lite = scan_perms_lite(pheno_y, geno, kinship; \n",
    "                                   prior_a = 1.0, prior_b = 0.1,\n",
    "                                   addIntercept = true, reml = false, method = \"cholesky\",\n",
    "                                   nperms = 1000, original = true);\n",
    "test_perms_lite = permutedims(test_perms_lite);"
   ]
  },
  {
   "cell_type": "code",
   "execution_count": 23,
   "id": "872d16f7-3665-4f7a-a662-ae13883b162b",
   "metadata": {},
   "outputs": [
    {
     "data": {
      "text/plain": [
       "8.861391813607934e-22"
      ]
     },
     "execution_count": 23,
     "metadata": {},
     "output_type": "execute_result"
    }
   ],
   "source": [
    "sumSqDiff(test_perms, test_perms_lite)"
   ]
  },
  {
   "cell_type": "code",
   "execution_count": null,
   "id": "7667e357-e35d-40e9-987c-ecbe020c4f10",
   "metadata": {},
   "outputs": [],
   "source": []
  }
 ],
 "metadata": {
  "kernelspec": {
   "display_name": "Julia 1.8.2",
   "language": "julia",
   "name": "julia-1.8"
  },
  "language_info": {
   "file_extension": ".jl",
   "mimetype": "application/julia",
   "name": "julia",
   "version": "1.8.2"
  }
 },
 "nbformat": 4,
 "nbformat_minor": 5
}
