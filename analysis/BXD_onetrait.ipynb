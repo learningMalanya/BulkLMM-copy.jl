{
 "cells": [
  {
   "cell_type": "code",
   "execution_count": 1,
   "id": "0006da74-63a2-401f-af8d-3a051589bbcf",
   "metadata": {},
   "outputs": [],
   "source": [
    "## using Pkg\n",
    "## Pkg.add(\"PlotlyJS\")"
   ]
  },
  {
   "cell_type": "code",
   "execution_count": 2,
   "id": "75e59a59-1341-4175-b13e-857ef1796939",
   "metadata": {},
   "outputs": [],
   "source": [
    "using DelimitedFiles\n",
    "using LinearAlgebra\n",
    "using Optim\n",
    "using Distributions\n",
    "using Test\n",
    "using BenchmarkTools\n",
    "using Random\n",
    "using CSV\n",
    "using DataFrames\n",
    "using Distributed\n",
    "using Plots"
   ]
  },
  {
   "cell_type": "code",
   "execution_count": 3,
   "id": "13ee33c1-4b5a-4423-b8d4-f53c785aaeff",
   "metadata": {},
   "outputs": [
    {
     "data": {
      "text/plain": [
       "\"/Users/FredYu/Documents/GitHub/BulkLMM.jl/analysis\""
      ]
     },
     "execution_count": 3,
     "metadata": {},
     "output_type": "execute_result"
    }
   ],
   "source": [
    "pwd()"
   ]
  },
  {
   "cell_type": "code",
   "execution_count": 4,
   "id": "f27ecb5f-08db-49cb-8e5c-a34a60ddbf5e",
   "metadata": {},
   "outputs": [],
   "source": [
    "## Include the source code of BulkLMM to be tested:\n",
    "include(\"../src/scan.jl\");\n",
    "include(\"../src/lmm.jl\");\n",
    "include(\"../src/wls.jl\");\n",
    "include(\"../src/util.jl\");\n",
    "include(\"../src/kinship.jl\");\n",
    "include(\"../src/readData.jl\");\n",
    "\n",
    "## Also include the helper functions for writing tests:\n",
    "include(\"../test/testHelper.jl\");"
   ]
  },
  {
   "cell_type": "code",
   "execution_count": 5,
   "id": "e72d7139-b84a-49e5-b462-8821f443cd90",
   "metadata": {},
   "outputs": [],
   "source": [
    "## Read in BXD data:\n",
    "pheno_file = \"../data/bxdData/BXDtraits.csv\"\n",
    "pheno = readBXDpheno(pheno_file);\n",
    "geno_file = \"../data/bxdData/BXDgeno_prob.csv\"\n",
    "geno = readGenoProb_ExcludeComplements(geno_file);\n",
    "\n",
    "kinship = calcKinship(geno); # calculate kinship matrix from genotype data"
   ]
  },
  {
   "cell_type": "code",
   "execution_count": 6,
   "id": "be75bad0-1b8d-4afe-822c-3c2ca8d50338",
   "metadata": {},
   "outputs": [],
   "source": [
    "nperms = 1024; # number of permutated copies required;\n",
    "m = size(pheno, 2);\n",
    "p = size(geno, 2); # number of markers"
   ]
  },
  {
   "cell_type": "markdown",
   "id": "1cea249a-5d55-4ae5-92a3-c9f593a7b2ce",
   "metadata": {},
   "source": [
    "heritabilities = Array{Float64, 1}(undef, m);\n",
    "\n",
    "\n",
    "for j in 1:m\n",
    "    heritabilities[j] = scan(reshape(pheno[:, j], :, 1), geno, kinship; reml = true)[2] \n",
    "end"
   ]
  },
  {
   "cell_type": "markdown",
   "id": "d50b233a-ea98-4a42-9338-b50f341dd14a",
   "metadata": {},
   "source": [
    "histogram(heritabilities[1:7000], bins = 100)"
   ]
  },
  {
   "cell_type": "markdown",
   "id": "3cd1dcc9-86fa-4fa5-aa2c-33b0b29c313e",
   "metadata": {},
   "source": [
    "length(heritabilities)"
   ]
  },
  {
   "cell_type": "markdown",
   "id": "81aa8ba3-fbbe-4a1e-ad33-41687cf7dceb",
   "metadata": {},
   "source": [
    "plot(heritabilities)"
   ]
  },
  {
   "cell_type": "markdown",
   "id": "62453063-7390-47d6-8d8c-bf8c271e6143",
   "metadata": {},
   "source": [
    "findmax(heritabilities)"
   ]
  },
  {
   "cell_type": "code",
   "execution_count": 7,
   "id": "d8ef6dc8-67c8-4858-8fae-7840e73fa675",
   "metadata": {},
   "outputs": [],
   "source": [
    "## Consider the 7919-th trait\n",
    "pheno_y = reshape(pheno[:, 7919], :, 1);"
   ]
  },
  {
   "cell_type": "code",
   "execution_count": 8,
   "id": "421268c1-7d0d-481c-a96c-9112ccdeff96",
   "metadata": {},
   "outputs": [],
   "source": [
    "include(\"../src/scan.jl\");"
   ]
  },
  {
   "cell_type": "code",
   "execution_count": 9,
   "id": "35675d8a-fca0-4276-b97b-008db35363e4",
   "metadata": {},
   "outputs": [
    {
     "name": "stdout",
     "output_type": "stream",
     "text": [
      "  876.718 ms (183990 allocations: 1.37 GiB)\n"
     ]
    }
   ],
   "source": [
    "@btime scan_perms(pheno_y, geno, kinship; nperms = 100);"
   ]
  },
  {
   "cell_type": "code",
   "execution_count": null,
   "id": "a764f662-0b9e-4efb-b2cb-e32b3af04025",
   "metadata": {},
   "outputs": [],
   "source": [
    "@btime scan_perms(pheno_y, geno, kinship; nperms = 1024); # output structures of function"
   ]
  },
  {
   "cell_type": "code",
   "execution_count": null,
   "id": "b0c84298-6fd3-494d-af22-f9c170383f1a",
   "metadata": {},
   "outputs": [],
   "source": [
    "results_nperms = scan_perms(pheno_y, geno, kinship); # output structures of function"
   ]
  },
  {
   "cell_type": "code",
   "execution_count": null,
   "id": "1746b4f6-c617-4c95-9d3d-b246c9ddafe7",
   "metadata": {},
   "outputs": [],
   "source": [
    "size(results_nperms)"
   ]
  },
  {
   "cell_type": "markdown",
   "id": "5a30159a-c245-4e84-898f-e7fb5d8e7dcf",
   "metadata": {},
   "source": [
    "## Do the same for many traits (first 1000):"
   ]
  },
  {
   "cell_type": "code",
   "execution_count": null,
   "id": "a774ef6a-e39f-4d50-9108-132eaec80154",
   "metadata": {},
   "outputs": [],
   "source": [
    "# Function that extracts the row maximums for a matrix:\n",
    "function getMaxLod_manyTraits(pheno::Array{Float64, 2}, geno::Array{Float64, 2}, kinship::Array{Float64, 2};\n",
    "                              ntraits::Int64 = 1000, nperms::Int64 = 1024, original::Bool = true)\n",
    "    \n",
    "    if original\n",
    "        nrows = nperms+1\n",
    "    else\n",
    "        nrows = nperms\n",
    "    end\n",
    "    \n",
    "    maxLods_manyTraits = Matrix{Float64}(undef, nrows, ntraits);\n",
    "    \n",
    "    for k in 1:ntraits\n",
    "        \n",
    "        pheno_k = reshape(pheno[:, k], :, 1);\n",
    "        results = scan_perms(pheno_k, geno, kinship; nperms = nperms)\n",
    "        \n",
    "        maxLods_manyTraits[:, k] = getMaxLod(results)\n",
    "    end\n",
    "    \n",
    "    return maxLods_manyTraits; \n",
    "end\n",
    "\n",
    "\n",
    "function getMaxLod(results::Array{Float64, 2})\n",
    "    \n",
    "    return mapslices(x -> maximum(x), results; dims = 2);\n",
    "    \n",
    "end"
   ]
  },
  {
   "cell_type": "code",
   "execution_count": null,
   "id": "0bf9a369-5710-4095-b7a6-f6aa2aed2718",
   "metadata": {},
   "outputs": [],
   "source": [
    "maxLods = getMaxLod(results_nperms);"
   ]
  },
  {
   "cell_type": "code",
   "execution_count": null,
   "id": "68919afa-1c5f-40f7-b311-bf279c4beb1a",
   "metadata": {},
   "outputs": [],
   "source": [
    "typeof(maxLods)"
   ]
  },
  {
   "cell_type": "code",
   "execution_count": null,
   "id": "a6d6787f-3b2b-4270-b276-dbb6d0b9e39e",
   "metadata": {},
   "outputs": [],
   "source": [
    "size(maxLods)"
   ]
  },
  {
   "cell_type": "code",
   "execution_count": null,
   "id": "275625f7-a8e5-45a3-900a-e0868a2e84e1",
   "metadata": {},
   "outputs": [],
   "source": [
    "quantile(maxLods[:, 1], 0.95)"
   ]
  },
  {
   "cell_type": "code",
   "execution_count": null,
   "id": "e72ab446-b9a4-4689-b8d5-905a75036598",
   "metadata": {},
   "outputs": [],
   "source": [
    "histogram(maxLods)"
   ]
  },
  {
   "cell_type": "code",
   "execution_count": null,
   "id": "48b0f8ef-24bd-496a-9c3b-5c6e2ef2ab5c",
   "metadata": {},
   "outputs": [],
   "source": [
    "typeof(pheno_y)"
   ]
  },
  {
   "cell_type": "code",
   "execution_count": null,
   "id": "b25c608f-1737-4114-ac66-b0576f191452",
   "metadata": {},
   "outputs": [],
   "source": [
    "@btime scan(pheno_y, geno, kinship);"
   ]
  },
  {
   "cell_type": "code",
   "execution_count": null,
   "id": "c88475d8-c509-4d82-bad2-ab94a0670bee",
   "metadata": {},
   "outputs": [],
   "source": [
    "@btime scan_perms(pheno_y, geno, kinship; nperms = 0); # using rowDivide! with 1./sqrt(wts)"
   ]
  },
  {
   "cell_type": "code",
   "execution_count": null,
   "id": "e90f55f6-f22b-4f21-9acd-5611ec696202",
   "metadata": {},
   "outputs": [],
   "source": [
    "@btime scan_perms(pheno_y, geno, kinship; nperms = 0); # using rowMultiply! with sqrt(wts)"
   ]
  },
  {
   "cell_type": "code",
   "execution_count": null,
   "id": "aaad1e16-6f96-4362-b63e-0c2f6259d75c",
   "metadata": {},
   "outputs": [],
   "source": [
    "@btime getMaxLod_manyTraits(pheno, geno, kinship; ntraits = 1, nperms = 1024);"
   ]
  },
  {
   "cell_type": "code",
   "execution_count": null,
   "id": "8e453517-c1f1-4c25-988b-1cdef5d8abda",
   "metadata": {},
   "outputs": [],
   "source": [
    "@btime getMaxLod_manyTraits(pheno, geno, kinship; ntraits = 100, nperms = 1);"
   ]
  },
  {
   "cell_type": "code",
   "execution_count": null,
   "id": "58be1193-d17d-4ca9-8895-0dc95b746177",
   "metadata": {},
   "outputs": [],
   "source": [
    "@btime getMaxLod_manyTraits(pheno, geno, kinship; ntraits = 1000, nperms = 1);"
   ]
  },
  {
   "cell_type": "code",
   "execution_count": null,
   "id": "0c118173-d0a6-4409-910f-49ed98dc8654",
   "metadata": {},
   "outputs": [],
   "source": [
    "@btime getMaxLod_manyTraits(pheno, geno, kinship; ntraits = 100, nperms = 10);"
   ]
  },
  {
   "cell_type": "code",
   "execution_count": null,
   "id": "e8a54ee8-ca48-44a5-ab67-f22e3db53192",
   "metadata": {},
   "outputs": [],
   "source": [
    "@btime getMaxLod_manyTraits(pheno, geno, kinship; ntraits = 1000, nperms = 10);"
   ]
  },
  {
   "cell_type": "code",
   "execution_count": null,
   "id": "88f45717-11e1-462c-b22a-8e3ab0a5b13e",
   "metadata": {},
   "outputs": [],
   "source": [
    "@btime getMaxLod_manyTraits(pheno, geno, kinship; ntraits = 100, nperms = 20);"
   ]
  },
  {
   "cell_type": "code",
   "execution_count": null,
   "id": "01baef39-01bc-4060-83fb-00535cc65680",
   "metadata": {},
   "outputs": [],
   "source": [
    "@btime getMaxLod_manyTraits(pheno, geno, kinship; ntraits = 1000, nperms = 20);"
   ]
  },
  {
   "cell_type": "code",
   "execution_count": null,
   "id": "b9e90d15-007a-42b8-ba5d-bdd0f6e05632",
   "metadata": {},
   "outputs": [],
   "source": [
    "@btime getMaxLod_manyTraits(pheno, geno, kinship; ntraits = 100, nperms = 100);"
   ]
  },
  {
   "cell_type": "code",
   "execution_count": null,
   "id": "b8a7a137-6469-4dfa-a6a9-b4a7b7dd8ac9",
   "metadata": {},
   "outputs": [],
   "source": [
    "b = @benchmark getMaxLod_manyTraits(pheno, geno, kinship; ntraits = 1000, nperms = 100);"
   ]
  },
  {
   "cell_type": "code",
   "execution_count": null,
   "id": "f312ae90-c872-4e53-b7c8-793e19588262",
   "metadata": {},
   "outputs": [],
   "source": [
    "maxLods_1000Traits = getMaxLod_manyTraits(pheno, geno, kinship; ntraits = 1000, nperms = 100);"
   ]
  },
  {
   "cell_type": "code",
   "execution_count": null,
   "id": "cc8f7a8c-a3d4-48d5-b794-cc2f71915b42",
   "metadata": {},
   "outputs": [],
   "source": [
    "size(maxLods_1000Traits)"
   ]
  },
  {
   "cell_type": "code",
   "execution_count": null,
   "id": "29c504d9-3760-4845-9bf8-bd36cd36c984",
   "metadata": {},
   "outputs": [],
   "source": [
    "maxLods_1000Traits;"
   ]
  },
  {
   "cell_type": "code",
   "execution_count": null,
   "id": "4623fa3b-786b-4bb5-97d7-135bc67d59d6",
   "metadata": {},
   "outputs": [],
   "source": [
    "quantile_1000Traits = mapslices(x -> quantile(x, 0.95), maxLods_1000Traits; dims = 1);"
   ]
  },
  {
   "cell_type": "code",
   "execution_count": null,
   "id": "148b4e6b-6f44-4c41-9b94-d3b1e299dc76",
   "metadata": {},
   "outputs": [],
   "source": [
    "histogram(vec(quantile_1000Traits), bins = 100)"
   ]
  },
  {
   "cell_type": "code",
   "execution_count": null,
   "id": "1c8510c0-c3b4-4ca4-a282-ff8e46086816",
   "metadata": {},
   "outputs": [],
   "source": [
    "findmax(quantile_1000Traits)"
   ]
  }
 ],
 "metadata": {
  "kernelspec": {
   "display_name": "Julia 1.6.2",
   "language": "julia",
   "name": "julia-1.6"
  },
  "language_info": {
   "file_extension": ".jl",
   "mimetype": "application/julia",
   "name": "julia",
   "version": "1.6.2"
  }
 },
 "nbformat": 4,
 "nbformat_minor": 5
}
