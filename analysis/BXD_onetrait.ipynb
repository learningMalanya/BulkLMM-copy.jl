{
 "cells": [
  {
   "cell_type": "code",
   "execution_count": 1,
   "id": "0006da74-63a2-401f-af8d-3a051589bbcf",
   "metadata": {},
   "outputs": [],
   "source": [
    "## using Pkg\n",
    "## Pkg.add(\"PlotlyJS\")"
   ]
  },
  {
   "cell_type": "code",
   "execution_count": 2,
   "id": "75e59a59-1341-4175-b13e-857ef1796939",
   "metadata": {},
   "outputs": [],
   "source": [
    "using DelimitedFiles\n",
    "using LinearAlgebra\n",
    "using Optim\n",
    "using Distributions\n",
    "using Test\n",
    "using BenchmarkTools\n",
    "using Random\n",
    "using CSV\n",
    "using DataFrames\n",
    "using Distributed\n",
    "using Plots"
   ]
  },
  {
   "cell_type": "code",
   "execution_count": 3,
   "id": "13ee33c1-4b5a-4423-b8d4-f53c785aaeff",
   "metadata": {},
   "outputs": [
    {
     "data": {
      "text/plain": [
       "\"/Users/FredYu/Documents/GitHub/BulkLMM.jl/analysis\""
      ]
     },
     "execution_count": 3,
     "metadata": {},
     "output_type": "execute_result"
    }
   ],
   "source": [
    "pwd()"
   ]
  },
  {
   "cell_type": "code",
   "execution_count": 60,
   "id": "f27ecb5f-08db-49cb-8e5c-a34a60ddbf5e",
   "metadata": {},
   "outputs": [],
   "source": [
    "## Include the source code of BulkLMM to be tested:\n",
    "include(\"../src/scan.jl\");\n",
    "include(\"../src/lmm.jl\");\n",
    "include(\"../src/wls.jl\");\n",
    "include(\"../src/util.jl\");\n",
    "include(\"../src/kinship.jl\");\n",
    "include(\"../src/readData.jl\");\n",
    "\n",
    "## Also include the helper functions for writing tests:\n",
    "include(\"../test/testHelper.jl\");"
   ]
  },
  {
   "cell_type": "code",
   "execution_count": 5,
   "id": "e72d7139-b84a-49e5-b462-8821f443cd90",
   "metadata": {},
   "outputs": [],
   "source": [
    "## Read in BXD data:\n",
    "pheno_file = \"../data/bxdData/BXDtraits.csv\"\n",
    "pheno = readBXDpheno(pheno_file);\n",
    "geno_file = \"../data/bxdData/BXDgeno_prob.csv\"\n",
    "geno = readGenoProb_ExcludeComplements(geno_file);\n",
    "\n",
    "kinship = calcKinship(geno); # calculate kinship matrix from genotype data"
   ]
  },
  {
   "cell_type": "code",
   "execution_count": 6,
   "id": "be75bad0-1b8d-4afe-822c-3c2ca8d50338",
   "metadata": {},
   "outputs": [],
   "source": [
    "nperms = 1024; # number of permutated copies required;\n",
    "m = size(pheno, 2);\n",
    "p = size(geno, 2); # number of markers"
   ]
  },
  {
   "cell_type": "markdown",
   "id": "1cea249a-5d55-4ae5-92a3-c9f593a7b2ce",
   "metadata": {},
   "source": [
    "heritabilities = Array{Float64, 1}(undef, m);\n",
    "\n",
    "\n",
    "for j in 1:m\n",
    "    heritabilities[j] = scan(reshape(pheno[:, j], :, 1), geno, kinship; reml = true)[2] \n",
    "end"
   ]
  },
  {
   "cell_type": "markdown",
   "id": "d50b233a-ea98-4a42-9338-b50f341dd14a",
   "metadata": {},
   "source": [
    "histogram(heritabilities[1:7000], bins = 100)"
   ]
  },
  {
   "cell_type": "markdown",
   "id": "3cd1dcc9-86fa-4fa5-aa2c-33b0b29c313e",
   "metadata": {},
   "source": [
    "length(heritabilities)"
   ]
  },
  {
   "cell_type": "markdown",
   "id": "81aa8ba3-fbbe-4a1e-ad33-41687cf7dceb",
   "metadata": {},
   "source": [
    "plot(heritabilities)"
   ]
  },
  {
   "cell_type": "markdown",
   "id": "62453063-7390-47d6-8d8c-bf8c271e6143",
   "metadata": {},
   "source": [
    "findmax(heritabilities)"
   ]
  },
  {
   "cell_type": "code",
   "execution_count": 35,
   "id": "d8ef6dc8-67c8-4858-8fae-7840e73fa675",
   "metadata": {},
   "outputs": [],
   "source": [
    "## Consider the 7919-th trait\n",
    "pheno_y = reshape(pheno[:, 7919], :, 1);"
   ]
  },
  {
   "cell_type": "code",
   "execution_count": 58,
   "id": "421268c1-7d0d-481c-a96c-9112ccdeff96",
   "metadata": {},
   "outputs": [],
   "source": [
    "include(\"../src/scan.jl\");"
   ]
  },
  {
   "cell_type": "code",
   "execution_count": 37,
   "id": "35675d8a-fca0-4276-b97b-008db35363e4",
   "metadata": {},
   "outputs": [
    {
     "name": "stdout",
     "output_type": "stream",
     "text": [
      "  910.247 ms (183990 allocations: 1.37 GiB)\n"
     ]
    }
   ],
   "source": [
    "@btime scan_perms(pheno_y, geno, kinship; nperms = 100);"
   ]
  },
  {
   "cell_type": "code",
   "execution_count": 38,
   "id": "a764f662-0b9e-4efb-b2cb-e32b3af04025",
   "metadata": {},
   "outputs": [
    {
     "name": "stdout",
     "output_type": "stream",
     "text": [
      "  7.326 s (194772 allocations: 13.63 GiB)\n"
     ]
    }
   ],
   "source": [
    "@btime scan_perms(pheno_y, geno, kinship; nperms = 1024); # output structures of function"
   ]
  },
  {
   "cell_type": "code",
   "execution_count": 39,
   "id": "b0c84298-6fd3-494d-af22-f9c170383f1a",
   "metadata": {},
   "outputs": [],
   "source": [
    "results_nperms = scan_perms(pheno_y, geno, kinship); # output structures of function"
   ]
  },
  {
   "cell_type": "code",
   "execution_count": 40,
   "id": "1746b4f6-c617-4c95-9d3d-b246c9ddafe7",
   "metadata": {},
   "outputs": [
    {
     "data": {
      "text/plain": [
       "(1025, 7321)"
      ]
     },
     "execution_count": 40,
     "metadata": {},
     "output_type": "execute_result"
    }
   ],
   "source": [
    "size(results_nperms)"
   ]
  },
  {
   "cell_type": "markdown",
   "id": "5a30159a-c245-4e84-898f-e7fb5d8e7dcf",
   "metadata": {},
   "source": [
    "## Do the same for many traits (first 1000):"
   ]
  },
  {
   "cell_type": "code",
   "execution_count": 41,
   "id": "a774ef6a-e39f-4d50-9108-132eaec80154",
   "metadata": {},
   "outputs": [
    {
     "data": {
      "text/plain": [
       "getMaxLod (generic function with 1 method)"
      ]
     },
     "execution_count": 41,
     "metadata": {},
     "output_type": "execute_result"
    }
   ],
   "source": [
    "# Function that extracts the row maximums for a matrix:\n",
    "function getMaxLod_manyTraits(pheno::Array{Float64, 2}, geno::Array{Float64, 2}, kinship::Array{Float64, 2};\n",
    "                              ntraits::Int64 = 1000, nperms::Int64 = 1024, original::Bool = true)\n",
    "    \n",
    "    if original\n",
    "        nrows = nperms+1\n",
    "    else\n",
    "        nrows = nperms\n",
    "    end\n",
    "    \n",
    "    maxLods_manyTraits = Matrix{Float64}(undef, nrows, ntraits);\n",
    "    \n",
    "    for k in 1:ntraits\n",
    "        \n",
    "        pheno_k = reshape(pheno[:, k], :, 1);\n",
    "        results = scan_perms(pheno_k, geno, kinship; nperms = nperms)\n",
    "        \n",
    "        maxLods_manyTraits[:, k] = getMaxLod(results)\n",
    "    end\n",
    "    \n",
    "    return maxLods_manyTraits; \n",
    "end\n",
    "\n",
    "\n",
    "function getMaxLod(results::Array{Float64, 2})\n",
    "    \n",
    "    return mapslices(x -> maximum(x), results; dims = 2);\n",
    "    \n",
    "end"
   ]
  },
  {
   "cell_type": "code",
   "execution_count": 42,
   "id": "0bf9a369-5710-4095-b7a6-f6aa2aed2718",
   "metadata": {},
   "outputs": [],
   "source": [
    "maxLods = getMaxLod(results_nperms);"
   ]
  },
  {
   "cell_type": "code",
   "execution_count": 43,
   "id": "68919afa-1c5f-40f7-b311-bf279c4beb1a",
   "metadata": {},
   "outputs": [
    {
     "data": {
      "text/plain": [
       "Matrix{Float64} (alias for Array{Float64, 2})"
      ]
     },
     "execution_count": 43,
     "metadata": {},
     "output_type": "execute_result"
    }
   ],
   "source": [
    "typeof(maxLods)"
   ]
  },
  {
   "cell_type": "code",
   "execution_count": 44,
   "id": "a6d6787f-3b2b-4270-b276-dbb6d0b9e39e",
   "metadata": {},
   "outputs": [
    {
     "data": {
      "text/plain": [
       "(1025, 1)"
      ]
     },
     "execution_count": 44,
     "metadata": {},
     "output_type": "execute_result"
    }
   ],
   "source": [
    "size(maxLods)"
   ]
  },
  {
   "cell_type": "code",
   "execution_count": 45,
   "id": "275625f7-a8e5-45a3-900a-e0868a2e84e1",
   "metadata": {},
   "outputs": [
    {
     "data": {
      "text/plain": [
       "3.75008800449138"
      ]
     },
     "execution_count": 45,
     "metadata": {},
     "output_type": "execute_result"
    }
   ],
   "source": [
    "quantile(maxLods[:, 1], 0.95)"
   ]
  },
  {
   "cell_type": "code",
   "execution_count": 46,
   "id": "e72ab446-b9a4-4689-b8d5-905a75036598",
   "metadata": {},
   "outputs": [
    {
     "data": {
      "image/svg+xml": [
       "<?xml version=\"1.0\" encoding=\"utf-8\"?>\n",
       "<svg xmlns=\"http://www.w3.org/2000/svg\" xmlns:xlink=\"http://www.w3.org/1999/xlink\" width=\"600\" height=\"400\" viewBox=\"0 0 2400 1600\">\n",
       "<defs>\n",
       "  <clipPath id=\"clip400\">\n",
       "    <rect x=\"0\" y=\"0\" width=\"2400\" height=\"1600\"/>\n",
       "  </clipPath>\n",
       "</defs>\n",
       "<path clip-path=\"url(#clip400)\" d=\"\n",
       "M0 1600 L2400 1600 L2400 0 L0 0  Z\n",
       "  \" fill=\"#ffffff\" fill-rule=\"evenodd\" fill-opacity=\"1\"/>\n",
       "<defs>\n",
       "  <clipPath id=\"clip401\">\n",
       "    <rect x=\"480\" y=\"0\" width=\"1681\" height=\"1600\"/>\n",
       "  </clipPath>\n",
       "</defs>\n",
       "<path clip-path=\"url(#clip400)\" d=\"\n",
       "M169.121 1486.45 L2352.76 1486.45 L2352.76 47.2441 L169.121 47.2441  Z\n",
       "  \" fill=\"#ffffff\" fill-rule=\"evenodd\" fill-opacity=\"1\"/>\n",
       "<defs>\n",
       "  <clipPath id=\"clip402\">\n",
       "    <rect x=\"169\" y=\"47\" width=\"2185\" height=\"1440\"/>\n",
       "  </clipPath>\n",
       "</defs>\n",
       "<polyline clip-path=\"url(#clip402)\" style=\"stroke:#000000; stroke-linecap:butt; stroke-linejoin:round; stroke-width:2; stroke-opacity:0.1; fill:none\" points=\"\n",
       "  619.241,1486.45 619.241,47.2441 \n",
       "  \"/>\n",
       "<polyline clip-path=\"url(#clip402)\" style=\"stroke:#000000; stroke-linecap:butt; stroke-linejoin:round; stroke-width:2; stroke-opacity:0.1; fill:none\" points=\"\n",
       "  1077.6,1486.45 1077.6,47.2441 \n",
       "  \"/>\n",
       "<polyline clip-path=\"url(#clip402)\" style=\"stroke:#000000; stroke-linecap:butt; stroke-linejoin:round; stroke-width:2; stroke-opacity:0.1; fill:none\" points=\"\n",
       "  1535.95,1486.45 1535.95,47.2441 \n",
       "  \"/>\n",
       "<polyline clip-path=\"url(#clip402)\" style=\"stroke:#000000; stroke-linecap:butt; stroke-linejoin:round; stroke-width:2; stroke-opacity:0.1; fill:none\" points=\"\n",
       "  1994.31,1486.45 1994.31,47.2441 \n",
       "  \"/>\n",
       "<polyline clip-path=\"url(#clip400)\" style=\"stroke:#000000; stroke-linecap:butt; stroke-linejoin:round; stroke-width:4; stroke-opacity:1; fill:none\" points=\"\n",
       "  169.121,1486.45 2352.76,1486.45 \n",
       "  \"/>\n",
       "<polyline clip-path=\"url(#clip400)\" style=\"stroke:#000000; stroke-linecap:butt; stroke-linejoin:round; stroke-width:4; stroke-opacity:1; fill:none\" points=\"\n",
       "  619.241,1486.45 619.241,1467.55 \n",
       "  \"/>\n",
       "<polyline clip-path=\"url(#clip400)\" style=\"stroke:#000000; stroke-linecap:butt; stroke-linejoin:round; stroke-width:4; stroke-opacity:1; fill:none\" points=\"\n",
       "  1077.6,1486.45 1077.6,1467.55 \n",
       "  \"/>\n",
       "<polyline clip-path=\"url(#clip400)\" style=\"stroke:#000000; stroke-linecap:butt; stroke-linejoin:round; stroke-width:4; stroke-opacity:1; fill:none\" points=\"\n",
       "  1535.95,1486.45 1535.95,1467.55 \n",
       "  \"/>\n",
       "<polyline clip-path=\"url(#clip400)\" style=\"stroke:#000000; stroke-linecap:butt; stroke-linejoin:round; stroke-width:4; stroke-opacity:1; fill:none\" points=\"\n",
       "  1994.31,1486.45 1994.31,1467.55 \n",
       "  \"/>\n",
       "<path clip-path=\"url(#clip400)\" d=\"M609.519 1512.56 L627.875 1512.56 L627.875 1516.5 L613.801 1516.5 L613.801 1524.97 Q614.82 1524.62 615.838 1524.46 Q616.857 1524.27 617.875 1524.27 Q623.662 1524.27 627.042 1527.44 Q630.422 1530.62 630.422 1536.03 Q630.422 1541.61 626.949 1544.71 Q623.477 1547.79 617.158 1547.79 Q614.982 1547.79 612.713 1547.42 Q610.468 1547.05 608.061 1546.31 L608.061 1541.61 Q610.144 1542.74 612.366 1543.3 Q614.588 1543.86 617.065 1543.86 Q621.07 1543.86 623.408 1541.75 Q625.746 1539.64 625.746 1536.03 Q625.746 1532.42 623.408 1530.31 Q621.07 1528.21 617.065 1528.21 Q615.19 1528.21 613.315 1528.62 Q611.463 1529.04 609.519 1529.92 L609.519 1512.56 Z\" fill=\"#000000\" fill-rule=\"evenodd\" fill-opacity=\"1\" /><path clip-path=\"url(#clip400)\" d=\"M1052.28 1543.18 L1059.92 1543.18 L1059.92 1516.82 L1051.61 1518.49 L1051.61 1514.23 L1059.88 1512.56 L1064.55 1512.56 L1064.55 1543.18 L1072.19 1543.18 L1072.19 1547.12 L1052.28 1547.12 L1052.28 1543.18 Z\" fill=\"#000000\" fill-rule=\"evenodd\" fill-opacity=\"1\" /><path clip-path=\"url(#clip400)\" d=\"M1091.64 1515.64 Q1088.02 1515.64 1086.2 1519.2 Q1084.39 1522.75 1084.39 1529.87 Q1084.39 1536.98 1086.2 1540.55 Q1088.02 1544.09 1091.64 1544.09 Q1095.27 1544.09 1097.08 1540.55 Q1098.9 1536.98 1098.9 1529.87 Q1098.9 1522.75 1097.08 1519.2 Q1095.27 1515.64 1091.64 1515.64 M1091.64 1511.93 Q1097.45 1511.93 1100.5 1516.54 Q1103.58 1521.12 1103.58 1529.87 Q1103.58 1538.6 1100.5 1543.21 Q1097.45 1547.79 1091.64 1547.79 Q1085.83 1547.79 1082.75 1543.21 Q1079.69 1538.6 1079.69 1529.87 Q1079.69 1521.12 1082.75 1516.54 Q1085.83 1511.93 1091.64 1511.93 Z\" fill=\"#000000\" fill-rule=\"evenodd\" fill-opacity=\"1\" /><path clip-path=\"url(#clip400)\" d=\"M1511.14 1543.18 L1518.78 1543.18 L1518.78 1516.82 L1510.47 1518.49 L1510.47 1514.23 L1518.73 1512.56 L1523.41 1512.56 L1523.41 1543.18 L1531.04 1543.18 L1531.04 1547.12 L1511.14 1547.12 L1511.14 1543.18 Z\" fill=\"#000000\" fill-rule=\"evenodd\" fill-opacity=\"1\" /><path clip-path=\"url(#clip400)\" d=\"M1540.54 1512.56 L1558.89 1512.56 L1558.89 1516.5 L1544.82 1516.5 L1544.82 1524.97 Q1545.84 1524.62 1546.85 1524.46 Q1547.87 1524.27 1548.89 1524.27 Q1554.68 1524.27 1558.06 1527.44 Q1561.44 1530.62 1561.44 1536.03 Q1561.44 1541.61 1557.97 1544.71 Q1554.49 1547.79 1548.17 1547.79 Q1546 1547.79 1543.73 1547.42 Q1541.48 1547.05 1539.08 1546.31 L1539.08 1541.61 Q1541.16 1542.74 1543.38 1543.3 Q1545.6 1543.86 1548.08 1543.86 Q1552.09 1543.86 1554.42 1541.75 Q1556.76 1539.64 1556.76 1536.03 Q1556.76 1532.42 1554.42 1530.31 Q1552.09 1528.21 1548.08 1528.21 Q1546.21 1528.21 1544.33 1528.62 Q1542.48 1529.04 1540.54 1529.92 L1540.54 1512.56 Z\" fill=\"#000000\" fill-rule=\"evenodd\" fill-opacity=\"1\" /><path clip-path=\"url(#clip400)\" d=\"M1973.08 1543.18 L1989.4 1543.18 L1989.4 1547.12 L1967.46 1547.12 L1967.46 1543.18 Q1970.12 1540.43 1974.7 1535.8 Q1979.31 1531.15 1980.49 1529.81 Q1982.73 1527.28 1983.61 1525.55 Q1984.52 1523.79 1984.52 1522.1 Q1984.52 1519.34 1982.57 1517.61 Q1980.65 1515.87 1977.55 1515.87 Q1975.35 1515.87 1972.9 1516.63 Q1970.46 1517.4 1967.69 1518.95 L1967.69 1514.23 Q1970.51 1513.09 1972.96 1512.51 Q1975.42 1511.93 1977.46 1511.93 Q1982.83 1511.93 1986.02 1514.62 Q1989.21 1517.31 1989.21 1521.8 Q1989.21 1523.93 1988.4 1525.85 Q1987.62 1527.74 1985.51 1530.34 Q1984.93 1531.01 1981.83 1534.23 Q1978.73 1537.42 1973.08 1543.18 Z\" fill=\"#000000\" fill-rule=\"evenodd\" fill-opacity=\"1\" /><path clip-path=\"url(#clip400)\" d=\"M2009.21 1515.64 Q2005.6 1515.64 2003.77 1519.2 Q2001.97 1522.75 2001.97 1529.87 Q2001.97 1536.98 2003.77 1540.55 Q2005.6 1544.09 2009.21 1544.09 Q2012.85 1544.09 2014.65 1540.55 Q2016.48 1536.98 2016.48 1529.87 Q2016.48 1522.75 2014.65 1519.2 Q2012.85 1515.64 2009.21 1515.64 M2009.21 1511.93 Q2015.02 1511.93 2018.08 1516.54 Q2021.16 1521.12 2021.16 1529.87 Q2021.16 1538.6 2018.08 1543.21 Q2015.02 1547.79 2009.21 1547.79 Q2003.4 1547.79 2000.33 1543.21 Q1997.27 1538.6 1997.27 1529.87 Q1997.27 1521.12 2000.33 1516.54 Q2003.4 1511.93 2009.21 1511.93 Z\" fill=\"#000000\" fill-rule=\"evenodd\" fill-opacity=\"1\" /><polyline clip-path=\"url(#clip402)\" style=\"stroke:#000000; stroke-linecap:butt; stroke-linejoin:round; stroke-width:2; stroke-opacity:0.1; fill:none\" points=\"\n",
       "  169.121,1445.72 2352.76,1445.72 \n",
       "  \"/>\n",
       "<polyline clip-path=\"url(#clip402)\" style=\"stroke:#000000; stroke-linecap:butt; stroke-linejoin:round; stroke-width:2; stroke-opacity:0.1; fill:none\" points=\"\n",
       "  169.121,1036.76 2352.76,1036.76 \n",
       "  \"/>\n",
       "<polyline clip-path=\"url(#clip402)\" style=\"stroke:#000000; stroke-linecap:butt; stroke-linejoin:round; stroke-width:2; stroke-opacity:0.1; fill:none\" points=\"\n",
       "  169.121,627.8 2352.76,627.8 \n",
       "  \"/>\n",
       "<polyline clip-path=\"url(#clip402)\" style=\"stroke:#000000; stroke-linecap:butt; stroke-linejoin:round; stroke-width:2; stroke-opacity:0.1; fill:none\" points=\"\n",
       "  169.121,218.843 2352.76,218.843 \n",
       "  \"/>\n",
       "<polyline clip-path=\"url(#clip400)\" style=\"stroke:#000000; stroke-linecap:butt; stroke-linejoin:round; stroke-width:4; stroke-opacity:1; fill:none\" points=\"\n",
       "  169.121,1486.45 169.121,47.2441 \n",
       "  \"/>\n",
       "<polyline clip-path=\"url(#clip400)\" style=\"stroke:#000000; stroke-linecap:butt; stroke-linejoin:round; stroke-width:4; stroke-opacity:1; fill:none\" points=\"\n",
       "  169.121,1445.72 188.019,1445.72 \n",
       "  \"/>\n",
       "<polyline clip-path=\"url(#clip400)\" style=\"stroke:#000000; stroke-linecap:butt; stroke-linejoin:round; stroke-width:4; stroke-opacity:1; fill:none\" points=\"\n",
       "  169.121,1036.76 188.019,1036.76 \n",
       "  \"/>\n",
       "<polyline clip-path=\"url(#clip400)\" style=\"stroke:#000000; stroke-linecap:butt; stroke-linejoin:round; stroke-width:4; stroke-opacity:1; fill:none\" points=\"\n",
       "  169.121,627.8 188.019,627.8 \n",
       "  \"/>\n",
       "<polyline clip-path=\"url(#clip400)\" style=\"stroke:#000000; stroke-linecap:butt; stroke-linejoin:round; stroke-width:4; stroke-opacity:1; fill:none\" points=\"\n",
       "  169.121,218.843 188.019,218.843 \n",
       "  \"/>\n",
       "<path clip-path=\"url(#clip400)\" d=\"M121.177 1431.51 Q117.566 1431.51 115.737 1435.08 Q113.932 1438.62 113.932 1445.75 Q113.932 1452.86 115.737 1456.42 Q117.566 1459.96 121.177 1459.96 Q124.811 1459.96 126.617 1456.42 Q128.445 1452.86 128.445 1445.75 Q128.445 1438.62 126.617 1435.08 Q124.811 1431.51 121.177 1431.51 M121.177 1427.81 Q126.987 1427.81 130.043 1432.42 Q133.121 1437 133.121 1445.75 Q133.121 1454.48 130.043 1459.08 Q126.987 1463.67 121.177 1463.67 Q115.367 1463.67 112.288 1459.08 Q109.233 1454.48 109.233 1445.75 Q109.233 1437 112.288 1432.42 Q115.367 1427.81 121.177 1427.81 Z\" fill=\"#000000\" fill-rule=\"evenodd\" fill-opacity=\"1\" /><path clip-path=\"url(#clip400)\" d=\"M81.0614 1019.48 L99.4178 1019.48 L99.4178 1023.41 L85.3438 1023.41 L85.3438 1031.89 Q86.3623 1031.54 87.3808 1031.38 Q88.3993 1031.19 89.4178 1031.19 Q95.2049 1031.19 98.5845 1034.36 Q101.964 1037.53 101.964 1042.95 Q101.964 1048.53 98.4919 1051.63 Q95.0197 1054.71 88.7003 1054.71 Q86.5243 1054.71 84.2558 1054.34 Q82.0105 1053.97 79.6031 1053.23 L79.6031 1048.53 Q81.6864 1049.66 83.9086 1050.22 Q86.1308 1050.77 88.6077 1050.77 Q92.6123 1050.77 94.9502 1048.67 Q97.2882 1046.56 97.2882 1042.95 Q97.2882 1039.34 94.9502 1037.23 Q92.6123 1035.13 88.6077 1035.13 Q86.7327 1035.13 84.8577 1035.54 Q83.0058 1035.96 81.0614 1036.84 L81.0614 1019.48 Z\" fill=\"#000000\" fill-rule=\"evenodd\" fill-opacity=\"1\" /><path clip-path=\"url(#clip400)\" d=\"M121.177 1022.56 Q117.566 1022.56 115.737 1026.12 Q113.932 1029.66 113.932 1036.79 Q113.932 1043.9 115.737 1047.46 Q117.566 1051.01 121.177 1051.01 Q124.811 1051.01 126.617 1047.46 Q128.445 1043.9 128.445 1036.79 Q128.445 1029.66 126.617 1026.12 Q124.811 1022.56 121.177 1022.56 M121.177 1018.85 Q126.987 1018.85 130.043 1023.46 Q133.121 1028.04 133.121 1036.79 Q133.121 1045.52 130.043 1050.13 Q126.987 1054.71 121.177 1054.71 Q115.367 1054.71 112.288 1050.13 Q109.233 1045.52 109.233 1036.79 Q109.233 1028.04 112.288 1023.46 Q115.367 1018.85 121.177 1018.85 Z\" fill=\"#000000\" fill-rule=\"evenodd\" fill-opacity=\"1\" /><path clip-path=\"url(#clip400)\" d=\"M51.6634 641.145 L59.3023 641.145 L59.3023 614.78 L50.9921 616.446 L50.9921 612.187 L59.256 610.52 L63.9319 610.52 L63.9319 641.145 L71.5707 641.145 L71.5707 645.08 L51.6634 645.08 L51.6634 641.145 Z\" fill=\"#000000\" fill-rule=\"evenodd\" fill-opacity=\"1\" /><path clip-path=\"url(#clip400)\" d=\"M91.0151 613.599 Q87.404 613.599 85.5753 617.164 Q83.7697 620.706 83.7697 627.835 Q83.7697 634.942 85.5753 638.506 Q87.404 642.048 91.0151 642.048 Q94.6493 642.048 96.4548 638.506 Q98.2835 634.942 98.2835 627.835 Q98.2835 620.706 96.4548 617.164 Q94.6493 613.599 91.0151 613.599 M91.0151 609.895 Q96.8252 609.895 99.8808 614.502 Q102.959 619.085 102.959 627.835 Q102.959 636.562 99.8808 641.168 Q96.8252 645.752 91.0151 645.752 Q85.2049 645.752 82.1262 641.168 Q79.0707 636.562 79.0707 627.835 Q79.0707 619.085 82.1262 614.502 Q85.2049 609.895 91.0151 609.895 Z\" fill=\"#000000\" fill-rule=\"evenodd\" fill-opacity=\"1\" /><path clip-path=\"url(#clip400)\" d=\"M121.177 613.599 Q117.566 613.599 115.737 617.164 Q113.932 620.706 113.932 627.835 Q113.932 634.942 115.737 638.506 Q117.566 642.048 121.177 642.048 Q124.811 642.048 126.617 638.506 Q128.445 634.942 128.445 627.835 Q128.445 620.706 126.617 617.164 Q124.811 613.599 121.177 613.599 M121.177 609.895 Q126.987 609.895 130.043 614.502 Q133.121 619.085 133.121 627.835 Q133.121 636.562 130.043 641.168 Q126.987 645.752 121.177 645.752 Q115.367 645.752 112.288 641.168 Q109.233 636.562 109.233 627.835 Q109.233 619.085 112.288 614.502 Q115.367 609.895 121.177 609.895 Z\" fill=\"#000000\" fill-rule=\"evenodd\" fill-opacity=\"1\" /><path clip-path=\"url(#clip400)\" d=\"M51.6634 232.188 L59.3023 232.188 L59.3023 205.822 L50.9921 207.489 L50.9921 203.229 L59.256 201.563 L63.9319 201.563 L63.9319 232.188 L71.5707 232.188 L71.5707 236.123 L51.6634 236.123 L51.6634 232.188 Z\" fill=\"#000000\" fill-rule=\"evenodd\" fill-opacity=\"1\" /><path clip-path=\"url(#clip400)\" d=\"M81.0614 201.563 L99.4178 201.563 L99.4178 205.498 L85.3438 205.498 L85.3438 213.97 Q86.3623 213.623 87.3808 213.461 Q88.3993 213.276 89.4178 213.276 Q95.2049 213.276 98.5845 216.447 Q101.964 219.618 101.964 225.035 Q101.964 230.613 98.4919 233.715 Q95.0197 236.794 88.7003 236.794 Q86.5243 236.794 84.2558 236.424 Q82.0105 236.053 79.6031 235.313 L79.6031 230.613 Q81.6864 231.748 83.9086 232.303 Q86.1308 232.859 88.6077 232.859 Q92.6123 232.859 94.9502 230.752 Q97.2882 228.646 97.2882 225.035 Q97.2882 221.424 94.9502 219.317 Q92.6123 217.211 88.6077 217.211 Q86.7327 217.211 84.8577 217.627 Q83.0058 218.044 81.0614 218.924 L81.0614 201.563 Z\" fill=\"#000000\" fill-rule=\"evenodd\" fill-opacity=\"1\" /><path clip-path=\"url(#clip400)\" d=\"M121.177 204.641 Q117.566 204.641 115.737 208.206 Q113.932 211.748 113.932 218.877 Q113.932 225.984 115.737 229.549 Q117.566 233.09 121.177 233.09 Q124.811 233.09 126.617 229.549 Q128.445 225.984 128.445 218.877 Q128.445 211.748 126.617 208.206 Q124.811 204.641 121.177 204.641 M121.177 200.938 Q126.987 200.938 130.043 205.544 Q133.121 210.127 133.121 218.877 Q133.121 227.604 130.043 232.211 Q126.987 236.794 121.177 236.794 Q115.367 236.794 112.288 232.211 Q109.233 227.604 109.233 218.877 Q109.233 210.127 112.288 205.544 Q115.367 200.938 121.177 200.938 Z\" fill=\"#000000\" fill-rule=\"evenodd\" fill-opacity=\"1\" /><path clip-path=\"url(#clip402)\" d=\"\n",
       "M289.225 1437.54 L289.225 1445.72 L307.559 1445.72 L307.559 1437.54 L289.225 1437.54 L289.225 1437.54  Z\n",
       "  \" fill=\"#009af9\" fill-rule=\"evenodd\" fill-opacity=\"1\"/>\n",
       "<polyline clip-path=\"url(#clip402)\" style=\"stroke:#000000; stroke-linecap:butt; stroke-linejoin:round; stroke-width:4; stroke-opacity:1; fill:none\" points=\"\n",
       "  289.225,1437.54 289.225,1445.72 307.559,1445.72 307.559,1437.54 289.225,1437.54 \n",
       "  \"/>\n",
       "<path clip-path=\"url(#clip402)\" d=\"\n",
       "M307.559 1388.46 L307.559 1445.72 L325.894 1445.72 L325.894 1388.46 L307.559 1388.46 L307.559 1388.46  Z\n",
       "  \" fill=\"#009af9\" fill-rule=\"evenodd\" fill-opacity=\"1\"/>\n",
       "<polyline clip-path=\"url(#clip402)\" style=\"stroke:#000000; stroke-linecap:butt; stroke-linejoin:round; stroke-width:4; stroke-opacity:1; fill:none\" points=\"\n",
       "  307.559,1388.46 307.559,1445.72 325.894,1445.72 325.894,1388.46 307.559,1388.46 \n",
       "  \"/>\n",
       "<path clip-path=\"url(#clip402)\" d=\"\n",
       "M325.894 1094.01 L325.894 1445.72 L344.228 1445.72 L344.228 1094.01 L325.894 1094.01 L325.894 1094.01  Z\n",
       "  \" fill=\"#009af9\" fill-rule=\"evenodd\" fill-opacity=\"1\"/>\n",
       "<polyline clip-path=\"url(#clip402)\" style=\"stroke:#000000; stroke-linecap:butt; stroke-linejoin:round; stroke-width:4; stroke-opacity:1; fill:none\" points=\"\n",
       "  325.894,1094.01 325.894,1445.72 344.228,1445.72 344.228,1094.01 325.894,1094.01 \n",
       "  \"/>\n",
       "<path clip-path=\"url(#clip402)\" d=\"\n",
       "M344.228 447.859 L344.228 1445.72 L362.562 1445.72 L362.562 447.859 L344.228 447.859 L344.228 447.859  Z\n",
       "  \" fill=\"#009af9\" fill-rule=\"evenodd\" fill-opacity=\"1\"/>\n",
       "<polyline clip-path=\"url(#clip402)\" style=\"stroke:#000000; stroke-linecap:butt; stroke-linejoin:round; stroke-width:4; stroke-opacity:1; fill:none\" points=\"\n",
       "  344.228,447.859 344.228,1445.72 362.562,1445.72 362.562,447.859 344.228,447.859 \n",
       "  \"/>\n",
       "<path clip-path=\"url(#clip402)\" d=\"\n",
       "M362.562 87.9763 L362.562 1445.72 L380.896 1445.72 L380.896 87.9763 L362.562 87.9763 L362.562 87.9763  Z\n",
       "  \" fill=\"#009af9\" fill-rule=\"evenodd\" fill-opacity=\"1\"/>\n",
       "<polyline clip-path=\"url(#clip402)\" style=\"stroke:#000000; stroke-linecap:butt; stroke-linejoin:round; stroke-width:4; stroke-opacity:1; fill:none\" points=\"\n",
       "  362.562,87.9763 362.562,1445.72 380.896,1445.72 380.896,87.9763 362.562,87.9763 \n",
       "  \"/>\n",
       "<path clip-path=\"url(#clip402)\" d=\"\n",
       "M380.896 169.768 L380.896 1445.72 L399.23 1445.72 L399.23 169.768 L380.896 169.768 L380.896 169.768  Z\n",
       "  \" fill=\"#009af9\" fill-rule=\"evenodd\" fill-opacity=\"1\"/>\n",
       "<polyline clip-path=\"url(#clip402)\" style=\"stroke:#000000; stroke-linecap:butt; stroke-linejoin:round; stroke-width:4; stroke-opacity:1; fill:none\" points=\"\n",
       "  380.896,169.768 380.896,1445.72 399.23,1445.72 399.23,169.768 380.896,169.768 \n",
       "  \"/>\n",
       "<path clip-path=\"url(#clip402)\" d=\"\n",
       "M399.23 251.559 L399.23 1445.72 L417.565 1445.72 L417.565 251.559 L399.23 251.559 L399.23 251.559  Z\n",
       "  \" fill=\"#009af9\" fill-rule=\"evenodd\" fill-opacity=\"1\"/>\n",
       "<polyline clip-path=\"url(#clip402)\" style=\"stroke:#000000; stroke-linecap:butt; stroke-linejoin:round; stroke-width:4; stroke-opacity:1; fill:none\" points=\"\n",
       "  399.23,251.559 399.23,1445.72 417.565,1445.72 417.565,251.559 399.23,251.559 \n",
       "  \"/>\n",
       "<path clip-path=\"url(#clip402)\" d=\"\n",
       "M417.565 390.605 L417.565 1445.72 L435.899 1445.72 L435.899 390.605 L417.565 390.605 L417.565 390.605  Z\n",
       "  \" fill=\"#009af9\" fill-rule=\"evenodd\" fill-opacity=\"1\"/>\n",
       "<polyline clip-path=\"url(#clip402)\" style=\"stroke:#000000; stroke-linecap:butt; stroke-linejoin:round; stroke-width:4; stroke-opacity:1; fill:none\" points=\"\n",
       "  417.565,390.605 417.565,1445.72 435.899,1445.72 435.899,390.605 417.565,390.605 \n",
       "  \"/>\n",
       "<path clip-path=\"url(#clip402)\" d=\"\n",
       "M435.899 693.234 L435.899 1445.72 L454.233 1445.72 L454.233 693.234 L435.899 693.234 L435.899 693.234  Z\n",
       "  \" fill=\"#009af9\" fill-rule=\"evenodd\" fill-opacity=\"1\"/>\n",
       "<polyline clip-path=\"url(#clip402)\" style=\"stroke:#000000; stroke-linecap:butt; stroke-linejoin:round; stroke-width:4; stroke-opacity:1; fill:none\" points=\"\n",
       "  435.899,693.234 435.899,1445.72 454.233,1445.72 454.233,693.234 435.899,693.234 \n",
       "  \"/>\n",
       "<path clip-path=\"url(#clip402)\" d=\"\n",
       "M454.233 938.608 L454.233 1445.72 L472.567 1445.72 L472.567 938.608 L454.233 938.608 L454.233 938.608  Z\n",
       "  \" fill=\"#009af9\" fill-rule=\"evenodd\" fill-opacity=\"1\"/>\n",
       "<polyline clip-path=\"url(#clip402)\" style=\"stroke:#000000; stroke-linecap:butt; stroke-linejoin:round; stroke-width:4; stroke-opacity:1; fill:none\" points=\"\n",
       "  454.233,938.608 454.233,1445.72 472.567,1445.72 472.567,938.608 454.233,938.608 \n",
       "  \"/>\n",
       "<path clip-path=\"url(#clip402)\" d=\"\n",
       "M472.567 1183.98 L472.567 1445.72 L490.901 1445.72 L490.901 1183.98 L472.567 1183.98 L472.567 1183.98  Z\n",
       "  \" fill=\"#009af9\" fill-rule=\"evenodd\" fill-opacity=\"1\"/>\n",
       "<polyline clip-path=\"url(#clip402)\" style=\"stroke:#000000; stroke-linecap:butt; stroke-linejoin:round; stroke-width:4; stroke-opacity:1; fill:none\" points=\"\n",
       "  472.567,1183.98 472.567,1445.72 490.901,1445.72 490.901,1183.98 472.567,1183.98 \n",
       "  \"/>\n",
       "<path clip-path=\"url(#clip402)\" d=\"\n",
       "M490.901 1273.95 L490.901 1445.72 L509.236 1445.72 L509.236 1273.95 L490.901 1273.95 L490.901 1273.95  Z\n",
       "  \" fill=\"#009af9\" fill-rule=\"evenodd\" fill-opacity=\"1\"/>\n",
       "<polyline clip-path=\"url(#clip402)\" style=\"stroke:#000000; stroke-linecap:butt; stroke-linejoin:round; stroke-width:4; stroke-opacity:1; fill:none\" points=\"\n",
       "  490.901,1273.95 490.901,1445.72 509.236,1445.72 509.236,1273.95 490.901,1273.95 \n",
       "  \"/>\n",
       "<path clip-path=\"url(#clip402)\" d=\"\n",
       "M509.236 1290.31 L509.236 1445.72 L527.57 1445.72 L527.57 1290.31 L509.236 1290.31 L509.236 1290.31  Z\n",
       "  \" fill=\"#009af9\" fill-rule=\"evenodd\" fill-opacity=\"1\"/>\n",
       "<polyline clip-path=\"url(#clip402)\" style=\"stroke:#000000; stroke-linecap:butt; stroke-linejoin:round; stroke-width:4; stroke-opacity:1; fill:none\" points=\"\n",
       "  509.236,1290.31 509.236,1445.72 527.57,1445.72 527.57,1290.31 509.236,1290.31 \n",
       "  \"/>\n",
       "<path clip-path=\"url(#clip402)\" d=\"\n",
       "M527.57 1339.39 L527.57 1445.72 L545.904 1445.72 L545.904 1339.39 L527.57 1339.39 L527.57 1339.39  Z\n",
       "  \" fill=\"#009af9\" fill-rule=\"evenodd\" fill-opacity=\"1\"/>\n",
       "<polyline clip-path=\"url(#clip402)\" style=\"stroke:#000000; stroke-linecap:butt; stroke-linejoin:round; stroke-width:4; stroke-opacity:1; fill:none\" points=\"\n",
       "  527.57,1339.39 527.57,1445.72 545.904,1445.72 545.904,1339.39 527.57,1339.39 \n",
       "  \"/>\n",
       "<path clip-path=\"url(#clip402)\" d=\"\n",
       "M545.904 1413 L545.904 1445.72 L564.238 1445.72 L564.238 1413 L545.904 1413 L545.904 1413  Z\n",
       "  \" fill=\"#009af9\" fill-rule=\"evenodd\" fill-opacity=\"1\"/>\n",
       "<polyline clip-path=\"url(#clip402)\" style=\"stroke:#000000; stroke-linecap:butt; stroke-linejoin:round; stroke-width:4; stroke-opacity:1; fill:none\" points=\"\n",
       "  545.904,1413 545.904,1445.72 564.238,1445.72 564.238,1413 545.904,1413 \n",
       "  \"/>\n",
       "<path clip-path=\"url(#clip402)\" d=\"\n",
       "M564.238 1404.82 L564.238 1445.72 L582.573 1445.72 L582.573 1404.82 L564.238 1404.82 L564.238 1404.82  Z\n",
       "  \" fill=\"#009af9\" fill-rule=\"evenodd\" fill-opacity=\"1\"/>\n",
       "<polyline clip-path=\"url(#clip402)\" style=\"stroke:#000000; stroke-linecap:butt; stroke-linejoin:round; stroke-width:4; stroke-opacity:1; fill:none\" points=\"\n",
       "  564.238,1404.82 564.238,1445.72 582.573,1445.72 582.573,1404.82 564.238,1404.82 \n",
       "  \"/>\n",
       "<path clip-path=\"url(#clip402)\" d=\"\n",
       "M582.573 1429.36 L582.573 1445.72 L600.907 1445.72 L600.907 1429.36 L582.573 1429.36 L582.573 1429.36  Z\n",
       "  \" fill=\"#009af9\" fill-rule=\"evenodd\" fill-opacity=\"1\"/>\n",
       "<polyline clip-path=\"url(#clip402)\" style=\"stroke:#000000; stroke-linecap:butt; stroke-linejoin:round; stroke-width:4; stroke-opacity:1; fill:none\" points=\"\n",
       "  582.573,1429.36 582.573,1445.72 600.907,1445.72 600.907,1429.36 582.573,1429.36 \n",
       "  \"/>\n",
       "<path clip-path=\"url(#clip402)\" d=\"\n",
       "M600.907 1429.36 L600.907 1445.72 L619.241 1445.72 L619.241 1429.36 L600.907 1429.36 L600.907 1429.36  Z\n",
       "  \" fill=\"#009af9\" fill-rule=\"evenodd\" fill-opacity=\"1\"/>\n",
       "<polyline clip-path=\"url(#clip402)\" style=\"stroke:#000000; stroke-linecap:butt; stroke-linejoin:round; stroke-width:4; stroke-opacity:1; fill:none\" points=\"\n",
       "  600.907,1429.36 600.907,1445.72 619.241,1445.72 619.241,1429.36 600.907,1429.36 \n",
       "  \"/>\n",
       "<path clip-path=\"url(#clip402)\" d=\"\n",
       "M619.241 1437.54 L619.241 1445.72 L637.575 1445.72 L637.575 1437.54 L619.241 1437.54 L619.241 1437.54  Z\n",
       "  \" fill=\"#009af9\" fill-rule=\"evenodd\" fill-opacity=\"1\"/>\n",
       "<polyline clip-path=\"url(#clip402)\" style=\"stroke:#000000; stroke-linecap:butt; stroke-linejoin:round; stroke-width:4; stroke-opacity:1; fill:none\" points=\"\n",
       "  619.241,1437.54 619.241,1445.72 637.575,1445.72 637.575,1437.54 619.241,1437.54 \n",
       "  \"/>\n",
       "<path clip-path=\"url(#clip402)\" d=\"\n",
       "M637.575 1445.72 L637.575 1445.72 L655.909 1445.72 L655.909 1445.72 L637.575 1445.72 L637.575 1445.72  Z\n",
       "  \" fill=\"#009af9\" fill-rule=\"evenodd\" fill-opacity=\"1\"/>\n",
       "<polyline clip-path=\"url(#clip402)\" style=\"stroke:#000000; stroke-linecap:butt; stroke-linejoin:round; stroke-width:4; stroke-opacity:1; fill:none\" points=\"\n",
       "  637.575,1445.72 637.575,1445.72 655.909,1445.72 637.575,1445.72 \n",
       "  \"/>\n",
       "<path clip-path=\"url(#clip402)\" d=\"\n",
       "M655.909 1445.72 L655.909 1445.72 L674.244 1445.72 L674.244 1445.72 L655.909 1445.72 L655.909 1445.72  Z\n",
       "  \" fill=\"#009af9\" fill-rule=\"evenodd\" fill-opacity=\"1\"/>\n",
       "<polyline clip-path=\"url(#clip402)\" style=\"stroke:#000000; stroke-linecap:butt; stroke-linejoin:round; stroke-width:4; stroke-opacity:1; fill:none\" points=\"\n",
       "  655.909,1445.72 655.909,1445.72 674.244,1445.72 655.909,1445.72 \n",
       "  \"/>\n",
       "<path clip-path=\"url(#clip402)\" d=\"\n",
       "M674.244 1445.72 L674.244 1445.72 L692.578 1445.72 L692.578 1445.72 L674.244 1445.72 L674.244 1445.72  Z\n",
       "  \" fill=\"#009af9\" fill-rule=\"evenodd\" fill-opacity=\"1\"/>\n",
       "<polyline clip-path=\"url(#clip402)\" style=\"stroke:#000000; stroke-linecap:butt; stroke-linejoin:round; stroke-width:4; stroke-opacity:1; fill:none\" points=\"\n",
       "  674.244,1445.72 674.244,1445.72 692.578,1445.72 674.244,1445.72 \n",
       "  \"/>\n",
       "<path clip-path=\"url(#clip402)\" d=\"\n",
       "M692.578 1437.54 L692.578 1445.72 L710.912 1445.72 L710.912 1437.54 L692.578 1437.54 L692.578 1437.54  Z\n",
       "  \" fill=\"#009af9\" fill-rule=\"evenodd\" fill-opacity=\"1\"/>\n",
       "<polyline clip-path=\"url(#clip402)\" style=\"stroke:#000000; stroke-linecap:butt; stroke-linejoin:round; stroke-width:4; stroke-opacity:1; fill:none\" points=\"\n",
       "  692.578,1437.54 692.578,1445.72 710.912,1445.72 710.912,1437.54 692.578,1437.54 \n",
       "  \"/>\n",
       "<path clip-path=\"url(#clip402)\" d=\"\n",
       "M710.912 1445.72 L710.912 1445.72 L729.246 1445.72 L729.246 1445.72 L710.912 1445.72 L710.912 1445.72  Z\n",
       "  \" fill=\"#009af9\" fill-rule=\"evenodd\" fill-opacity=\"1\"/>\n",
       "<polyline clip-path=\"url(#clip402)\" style=\"stroke:#000000; stroke-linecap:butt; stroke-linejoin:round; stroke-width:4; stroke-opacity:1; fill:none\" points=\"\n",
       "  710.912,1445.72 710.912,1445.72 729.246,1445.72 710.912,1445.72 \n",
       "  \"/>\n",
       "<path clip-path=\"url(#clip402)\" d=\"\n",
       "M729.246 1445.72 L729.246 1445.72 L747.581 1445.72 L747.581 1445.72 L729.246 1445.72 L729.246 1445.72  Z\n",
       "  \" fill=\"#009af9\" fill-rule=\"evenodd\" fill-opacity=\"1\"/>\n",
       "<polyline clip-path=\"url(#clip402)\" style=\"stroke:#000000; stroke-linecap:butt; stroke-linejoin:round; stroke-width:4; stroke-opacity:1; fill:none\" points=\"\n",
       "  729.246,1445.72 729.246,1445.72 747.581,1445.72 729.246,1445.72 \n",
       "  \"/>\n",
       "<path clip-path=\"url(#clip402)\" d=\"\n",
       "M747.581 1445.72 L747.581 1445.72 L765.915 1445.72 L765.915 1445.72 L747.581 1445.72 L747.581 1445.72  Z\n",
       "  \" fill=\"#009af9\" fill-rule=\"evenodd\" fill-opacity=\"1\"/>\n",
       "<polyline clip-path=\"url(#clip402)\" style=\"stroke:#000000; stroke-linecap:butt; stroke-linejoin:round; stroke-width:4; stroke-opacity:1; fill:none\" points=\"\n",
       "  747.581,1445.72 747.581,1445.72 765.915,1445.72 747.581,1445.72 \n",
       "  \"/>\n",
       "<path clip-path=\"url(#clip402)\" d=\"\n",
       "M765.915 1445.72 L765.915 1445.72 L784.249 1445.72 L784.249 1445.72 L765.915 1445.72 L765.915 1445.72  Z\n",
       "  \" fill=\"#009af9\" fill-rule=\"evenodd\" fill-opacity=\"1\"/>\n",
       "<polyline clip-path=\"url(#clip402)\" style=\"stroke:#000000; stroke-linecap:butt; stroke-linejoin:round; stroke-width:4; stroke-opacity:1; fill:none\" points=\"\n",
       "  765.915,1445.72 765.915,1445.72 784.249,1445.72 765.915,1445.72 \n",
       "  \"/>\n",
       "<path clip-path=\"url(#clip402)\" d=\"\n",
       "M784.249 1445.72 L784.249 1445.72 L802.583 1445.72 L802.583 1445.72 L784.249 1445.72 L784.249 1445.72  Z\n",
       "  \" fill=\"#009af9\" fill-rule=\"evenodd\" fill-opacity=\"1\"/>\n",
       "<polyline clip-path=\"url(#clip402)\" style=\"stroke:#000000; stroke-linecap:butt; stroke-linejoin:round; stroke-width:4; stroke-opacity:1; fill:none\" points=\"\n",
       "  784.249,1445.72 784.249,1445.72 802.583,1445.72 784.249,1445.72 \n",
       "  \"/>\n",
       "<path clip-path=\"url(#clip402)\" d=\"\n",
       "M802.583 1445.72 L802.583 1445.72 L820.917 1445.72 L820.917 1445.72 L802.583 1445.72 L802.583 1445.72  Z\n",
       "  \" fill=\"#009af9\" fill-rule=\"evenodd\" fill-opacity=\"1\"/>\n",
       "<polyline clip-path=\"url(#clip402)\" style=\"stroke:#000000; stroke-linecap:butt; stroke-linejoin:round; stroke-width:4; stroke-opacity:1; fill:none\" points=\"\n",
       "  802.583,1445.72 802.583,1445.72 820.917,1445.72 802.583,1445.72 \n",
       "  \"/>\n",
       "<path clip-path=\"url(#clip402)\" d=\"\n",
       "M820.917 1445.72 L820.917 1445.72 L839.252 1445.72 L839.252 1445.72 L820.917 1445.72 L820.917 1445.72  Z\n",
       "  \" fill=\"#009af9\" fill-rule=\"evenodd\" fill-opacity=\"1\"/>\n",
       "<polyline clip-path=\"url(#clip402)\" style=\"stroke:#000000; stroke-linecap:butt; stroke-linejoin:round; stroke-width:4; stroke-opacity:1; fill:none\" points=\"\n",
       "  820.917,1445.72 820.917,1445.72 839.252,1445.72 820.917,1445.72 \n",
       "  \"/>\n",
       "<path clip-path=\"url(#clip402)\" d=\"\n",
       "M839.252 1445.72 L839.252 1445.72 L857.586 1445.72 L857.586 1445.72 L839.252 1445.72 L839.252 1445.72  Z\n",
       "  \" fill=\"#009af9\" fill-rule=\"evenodd\" fill-opacity=\"1\"/>\n",
       "<polyline clip-path=\"url(#clip402)\" style=\"stroke:#000000; stroke-linecap:butt; stroke-linejoin:round; stroke-width:4; stroke-opacity:1; fill:none\" points=\"\n",
       "  839.252,1445.72 839.252,1445.72 857.586,1445.72 839.252,1445.72 \n",
       "  \"/>\n",
       "<path clip-path=\"url(#clip402)\" d=\"\n",
       "M857.586 1445.72 L857.586 1445.72 L875.92 1445.72 L875.92 1445.72 L857.586 1445.72 L857.586 1445.72  Z\n",
       "  \" fill=\"#009af9\" fill-rule=\"evenodd\" fill-opacity=\"1\"/>\n",
       "<polyline clip-path=\"url(#clip402)\" style=\"stroke:#000000; stroke-linecap:butt; stroke-linejoin:round; stroke-width:4; stroke-opacity:1; fill:none\" points=\"\n",
       "  857.586,1445.72 857.586,1445.72 875.92,1445.72 857.586,1445.72 \n",
       "  \"/>\n",
       "<path clip-path=\"url(#clip402)\" d=\"\n",
       "M875.92 1445.72 L875.92 1445.72 L894.254 1445.72 L894.254 1445.72 L875.92 1445.72 L875.92 1445.72  Z\n",
       "  \" fill=\"#009af9\" fill-rule=\"evenodd\" fill-opacity=\"1\"/>\n",
       "<polyline clip-path=\"url(#clip402)\" style=\"stroke:#000000; stroke-linecap:butt; stroke-linejoin:round; stroke-width:4; stroke-opacity:1; fill:none\" points=\"\n",
       "  875.92,1445.72 875.92,1445.72 894.254,1445.72 875.92,1445.72 \n",
       "  \"/>\n",
       "<path clip-path=\"url(#clip402)\" d=\"\n",
       "M894.254 1445.72 L894.254 1445.72 L912.588 1445.72 L912.588 1445.72 L894.254 1445.72 L894.254 1445.72  Z\n",
       "  \" fill=\"#009af9\" fill-rule=\"evenodd\" fill-opacity=\"1\"/>\n",
       "<polyline clip-path=\"url(#clip402)\" style=\"stroke:#000000; stroke-linecap:butt; stroke-linejoin:round; stroke-width:4; stroke-opacity:1; fill:none\" points=\"\n",
       "  894.254,1445.72 894.254,1445.72 912.588,1445.72 894.254,1445.72 \n",
       "  \"/>\n",
       "<path clip-path=\"url(#clip402)\" d=\"\n",
       "M912.588 1445.72 L912.588 1445.72 L930.923 1445.72 L930.923 1445.72 L912.588 1445.72 L912.588 1445.72  Z\n",
       "  \" fill=\"#009af9\" fill-rule=\"evenodd\" fill-opacity=\"1\"/>\n",
       "<polyline clip-path=\"url(#clip402)\" style=\"stroke:#000000; stroke-linecap:butt; stroke-linejoin:round; stroke-width:4; stroke-opacity:1; fill:none\" points=\"\n",
       "  912.588,1445.72 912.588,1445.72 930.923,1445.72 912.588,1445.72 \n",
       "  \"/>\n",
       "<path clip-path=\"url(#clip402)\" d=\"\n",
       "M930.923 1445.72 L930.923 1445.72 L949.257 1445.72 L949.257 1445.72 L930.923 1445.72 L930.923 1445.72  Z\n",
       "  \" fill=\"#009af9\" fill-rule=\"evenodd\" fill-opacity=\"1\"/>\n",
       "<polyline clip-path=\"url(#clip402)\" style=\"stroke:#000000; stroke-linecap:butt; stroke-linejoin:round; stroke-width:4; stroke-opacity:1; fill:none\" points=\"\n",
       "  930.923,1445.72 930.923,1445.72 949.257,1445.72 930.923,1445.72 \n",
       "  \"/>\n",
       "<path clip-path=\"url(#clip402)\" d=\"\n",
       "M949.257 1445.72 L949.257 1445.72 L967.591 1445.72 L967.591 1445.72 L949.257 1445.72 L949.257 1445.72  Z\n",
       "  \" fill=\"#009af9\" fill-rule=\"evenodd\" fill-opacity=\"1\"/>\n",
       "<polyline clip-path=\"url(#clip402)\" style=\"stroke:#000000; stroke-linecap:butt; stroke-linejoin:round; stroke-width:4; stroke-opacity:1; fill:none\" points=\"\n",
       "  949.257,1445.72 949.257,1445.72 967.591,1445.72 949.257,1445.72 \n",
       "  \"/>\n",
       "<path clip-path=\"url(#clip402)\" d=\"\n",
       "M967.591 1445.72 L967.591 1445.72 L985.925 1445.72 L985.925 1445.72 L967.591 1445.72 L967.591 1445.72  Z\n",
       "  \" fill=\"#009af9\" fill-rule=\"evenodd\" fill-opacity=\"1\"/>\n",
       "<polyline clip-path=\"url(#clip402)\" style=\"stroke:#000000; stroke-linecap:butt; stroke-linejoin:round; stroke-width:4; stroke-opacity:1; fill:none\" points=\"\n",
       "  967.591,1445.72 967.591,1445.72 985.925,1445.72 967.591,1445.72 \n",
       "  \"/>\n",
       "<path clip-path=\"url(#clip402)\" d=\"\n",
       "M985.925 1445.72 L985.925 1445.72 L1004.26 1445.72 L1004.26 1445.72 L985.925 1445.72 L985.925 1445.72  Z\n",
       "  \" fill=\"#009af9\" fill-rule=\"evenodd\" fill-opacity=\"1\"/>\n",
       "<polyline clip-path=\"url(#clip402)\" style=\"stroke:#000000; stroke-linecap:butt; stroke-linejoin:round; stroke-width:4; stroke-opacity:1; fill:none\" points=\"\n",
       "  985.925,1445.72 985.925,1445.72 1004.26,1445.72 985.925,1445.72 \n",
       "  \"/>\n",
       "<path clip-path=\"url(#clip402)\" d=\"\n",
       "M1004.26 1445.72 L1004.26 1445.72 L1022.59 1445.72 L1022.59 1445.72 L1004.26 1445.72 L1004.26 1445.72  Z\n",
       "  \" fill=\"#009af9\" fill-rule=\"evenodd\" fill-opacity=\"1\"/>\n",
       "<polyline clip-path=\"url(#clip402)\" style=\"stroke:#000000; stroke-linecap:butt; stroke-linejoin:round; stroke-width:4; stroke-opacity:1; fill:none\" points=\"\n",
       "  1004.26,1445.72 1004.26,1445.72 1022.59,1445.72 1004.26,1445.72 \n",
       "  \"/>\n",
       "<path clip-path=\"url(#clip402)\" d=\"\n",
       "M1022.59 1445.72 L1022.59 1445.72 L1040.93 1445.72 L1040.93 1445.72 L1022.59 1445.72 L1022.59 1445.72  Z\n",
       "  \" fill=\"#009af9\" fill-rule=\"evenodd\" fill-opacity=\"1\"/>\n",
       "<polyline clip-path=\"url(#clip402)\" style=\"stroke:#000000; stroke-linecap:butt; stroke-linejoin:round; stroke-width:4; stroke-opacity:1; fill:none\" points=\"\n",
       "  1022.59,1445.72 1022.59,1445.72 1040.93,1445.72 1022.59,1445.72 \n",
       "  \"/>\n",
       "<path clip-path=\"url(#clip402)\" d=\"\n",
       "M1040.93 1445.72 L1040.93 1445.72 L1059.26 1445.72 L1059.26 1445.72 L1040.93 1445.72 L1040.93 1445.72  Z\n",
       "  \" fill=\"#009af9\" fill-rule=\"evenodd\" fill-opacity=\"1\"/>\n",
       "<polyline clip-path=\"url(#clip402)\" style=\"stroke:#000000; stroke-linecap:butt; stroke-linejoin:round; stroke-width:4; stroke-opacity:1; fill:none\" points=\"\n",
       "  1040.93,1445.72 1040.93,1445.72 1059.26,1445.72 1040.93,1445.72 \n",
       "  \"/>\n",
       "<path clip-path=\"url(#clip402)\" d=\"\n",
       "M1059.26 1445.72 L1059.26 1445.72 L1077.6 1445.72 L1077.6 1445.72 L1059.26 1445.72 L1059.26 1445.72  Z\n",
       "  \" fill=\"#009af9\" fill-rule=\"evenodd\" fill-opacity=\"1\"/>\n",
       "<polyline clip-path=\"url(#clip402)\" style=\"stroke:#000000; stroke-linecap:butt; stroke-linejoin:round; stroke-width:4; stroke-opacity:1; fill:none\" points=\"\n",
       "  1059.26,1445.72 1059.26,1445.72 1077.6,1445.72 1059.26,1445.72 \n",
       "  \"/>\n",
       "<path clip-path=\"url(#clip402)\" d=\"\n",
       "M1077.6 1445.72 L1077.6 1445.72 L1095.93 1445.72 L1095.93 1445.72 L1077.6 1445.72 L1077.6 1445.72  Z\n",
       "  \" fill=\"#009af9\" fill-rule=\"evenodd\" fill-opacity=\"1\"/>\n",
       "<polyline clip-path=\"url(#clip402)\" style=\"stroke:#000000; stroke-linecap:butt; stroke-linejoin:round; stroke-width:4; stroke-opacity:1; fill:none\" points=\"\n",
       "  1077.6,1445.72 1077.6,1445.72 1095.93,1445.72 1077.6,1445.72 \n",
       "  \"/>\n",
       "<path clip-path=\"url(#clip402)\" d=\"\n",
       "M1095.93 1445.72 L1095.93 1445.72 L1114.26 1445.72 L1114.26 1445.72 L1095.93 1445.72 L1095.93 1445.72  Z\n",
       "  \" fill=\"#009af9\" fill-rule=\"evenodd\" fill-opacity=\"1\"/>\n",
       "<polyline clip-path=\"url(#clip402)\" style=\"stroke:#000000; stroke-linecap:butt; stroke-linejoin:round; stroke-width:4; stroke-opacity:1; fill:none\" points=\"\n",
       "  1095.93,1445.72 1095.93,1445.72 1114.26,1445.72 1095.93,1445.72 \n",
       "  \"/>\n",
       "<path clip-path=\"url(#clip402)\" d=\"\n",
       "M1114.26 1445.72 L1114.26 1445.72 L1132.6 1445.72 L1132.6 1445.72 L1114.26 1445.72 L1114.26 1445.72  Z\n",
       "  \" fill=\"#009af9\" fill-rule=\"evenodd\" fill-opacity=\"1\"/>\n",
       "<polyline clip-path=\"url(#clip402)\" style=\"stroke:#000000; stroke-linecap:butt; stroke-linejoin:round; stroke-width:4; stroke-opacity:1; fill:none\" points=\"\n",
       "  1114.26,1445.72 1114.26,1445.72 1132.6,1445.72 1114.26,1445.72 \n",
       "  \"/>\n",
       "<path clip-path=\"url(#clip402)\" d=\"\n",
       "M1132.6 1445.72 L1132.6 1445.72 L1150.93 1445.72 L1150.93 1445.72 L1132.6 1445.72 L1132.6 1445.72  Z\n",
       "  \" fill=\"#009af9\" fill-rule=\"evenodd\" fill-opacity=\"1\"/>\n",
       "<polyline clip-path=\"url(#clip402)\" style=\"stroke:#000000; stroke-linecap:butt; stroke-linejoin:round; stroke-width:4; stroke-opacity:1; fill:none\" points=\"\n",
       "  1132.6,1445.72 1132.6,1445.72 1150.93,1445.72 1132.6,1445.72 \n",
       "  \"/>\n",
       "<path clip-path=\"url(#clip402)\" d=\"\n",
       "M1150.93 1445.72 L1150.93 1445.72 L1169.27 1445.72 L1169.27 1445.72 L1150.93 1445.72 L1150.93 1445.72  Z\n",
       "  \" fill=\"#009af9\" fill-rule=\"evenodd\" fill-opacity=\"1\"/>\n",
       "<polyline clip-path=\"url(#clip402)\" style=\"stroke:#000000; stroke-linecap:butt; stroke-linejoin:round; stroke-width:4; stroke-opacity:1; fill:none\" points=\"\n",
       "  1150.93,1445.72 1150.93,1445.72 1169.27,1445.72 1150.93,1445.72 \n",
       "  \"/>\n",
       "<path clip-path=\"url(#clip402)\" d=\"\n",
       "M1169.27 1445.72 L1169.27 1445.72 L1187.6 1445.72 L1187.6 1445.72 L1169.27 1445.72 L1169.27 1445.72  Z\n",
       "  \" fill=\"#009af9\" fill-rule=\"evenodd\" fill-opacity=\"1\"/>\n",
       "<polyline clip-path=\"url(#clip402)\" style=\"stroke:#000000; stroke-linecap:butt; stroke-linejoin:round; stroke-width:4; stroke-opacity:1; fill:none\" points=\"\n",
       "  1169.27,1445.72 1169.27,1445.72 1187.6,1445.72 1169.27,1445.72 \n",
       "  \"/>\n",
       "<path clip-path=\"url(#clip402)\" d=\"\n",
       "M1187.6 1445.72 L1187.6 1445.72 L1205.94 1445.72 L1205.94 1445.72 L1187.6 1445.72 L1187.6 1445.72  Z\n",
       "  \" fill=\"#009af9\" fill-rule=\"evenodd\" fill-opacity=\"1\"/>\n",
       "<polyline clip-path=\"url(#clip402)\" style=\"stroke:#000000; stroke-linecap:butt; stroke-linejoin:round; stroke-width:4; stroke-opacity:1; fill:none\" points=\"\n",
       "  1187.6,1445.72 1187.6,1445.72 1205.94,1445.72 1187.6,1445.72 \n",
       "  \"/>\n",
       "<path clip-path=\"url(#clip402)\" d=\"\n",
       "M1205.94 1445.72 L1205.94 1445.72 L1224.27 1445.72 L1224.27 1445.72 L1205.94 1445.72 L1205.94 1445.72  Z\n",
       "  \" fill=\"#009af9\" fill-rule=\"evenodd\" fill-opacity=\"1\"/>\n",
       "<polyline clip-path=\"url(#clip402)\" style=\"stroke:#000000; stroke-linecap:butt; stroke-linejoin:round; stroke-width:4; stroke-opacity:1; fill:none\" points=\"\n",
       "  1205.94,1445.72 1205.94,1445.72 1224.27,1445.72 1205.94,1445.72 \n",
       "  \"/>\n",
       "<path clip-path=\"url(#clip402)\" d=\"\n",
       "M1224.27 1445.72 L1224.27 1445.72 L1242.6 1445.72 L1242.6 1445.72 L1224.27 1445.72 L1224.27 1445.72  Z\n",
       "  \" fill=\"#009af9\" fill-rule=\"evenodd\" fill-opacity=\"1\"/>\n",
       "<polyline clip-path=\"url(#clip402)\" style=\"stroke:#000000; stroke-linecap:butt; stroke-linejoin:round; stroke-width:4; stroke-opacity:1; fill:none\" points=\"\n",
       "  1224.27,1445.72 1224.27,1445.72 1242.6,1445.72 1224.27,1445.72 \n",
       "  \"/>\n",
       "<path clip-path=\"url(#clip402)\" d=\"\n",
       "M1242.6 1445.72 L1242.6 1445.72 L1260.94 1445.72 L1260.94 1445.72 L1242.6 1445.72 L1242.6 1445.72  Z\n",
       "  \" fill=\"#009af9\" fill-rule=\"evenodd\" fill-opacity=\"1\"/>\n",
       "<polyline clip-path=\"url(#clip402)\" style=\"stroke:#000000; stroke-linecap:butt; stroke-linejoin:round; stroke-width:4; stroke-opacity:1; fill:none\" points=\"\n",
       "  1242.6,1445.72 1242.6,1445.72 1260.94,1445.72 1242.6,1445.72 \n",
       "  \"/>\n",
       "<path clip-path=\"url(#clip402)\" d=\"\n",
       "M1260.94 1445.72 L1260.94 1445.72 L1279.27 1445.72 L1279.27 1445.72 L1260.94 1445.72 L1260.94 1445.72  Z\n",
       "  \" fill=\"#009af9\" fill-rule=\"evenodd\" fill-opacity=\"1\"/>\n",
       "<polyline clip-path=\"url(#clip402)\" style=\"stroke:#000000; stroke-linecap:butt; stroke-linejoin:round; stroke-width:4; stroke-opacity:1; fill:none\" points=\"\n",
       "  1260.94,1445.72 1260.94,1445.72 1279.27,1445.72 1260.94,1445.72 \n",
       "  \"/>\n",
       "<path clip-path=\"url(#clip402)\" d=\"\n",
       "M1279.27 1445.72 L1279.27 1445.72 L1297.61 1445.72 L1297.61 1445.72 L1279.27 1445.72 L1279.27 1445.72  Z\n",
       "  \" fill=\"#009af9\" fill-rule=\"evenodd\" fill-opacity=\"1\"/>\n",
       "<polyline clip-path=\"url(#clip402)\" style=\"stroke:#000000; stroke-linecap:butt; stroke-linejoin:round; stroke-width:4; stroke-opacity:1; fill:none\" points=\"\n",
       "  1279.27,1445.72 1279.27,1445.72 1297.61,1445.72 1279.27,1445.72 \n",
       "  \"/>\n",
       "<path clip-path=\"url(#clip402)\" d=\"\n",
       "M1297.61 1445.72 L1297.61 1445.72 L1315.94 1445.72 L1315.94 1445.72 L1297.61 1445.72 L1297.61 1445.72  Z\n",
       "  \" fill=\"#009af9\" fill-rule=\"evenodd\" fill-opacity=\"1\"/>\n",
       "<polyline clip-path=\"url(#clip402)\" style=\"stroke:#000000; stroke-linecap:butt; stroke-linejoin:round; stroke-width:4; stroke-opacity:1; fill:none\" points=\"\n",
       "  1297.61,1445.72 1297.61,1445.72 1315.94,1445.72 1297.61,1445.72 \n",
       "  \"/>\n",
       "<path clip-path=\"url(#clip402)\" d=\"\n",
       "M1315.94 1445.72 L1315.94 1445.72 L1334.28 1445.72 L1334.28 1445.72 L1315.94 1445.72 L1315.94 1445.72  Z\n",
       "  \" fill=\"#009af9\" fill-rule=\"evenodd\" fill-opacity=\"1\"/>\n",
       "<polyline clip-path=\"url(#clip402)\" style=\"stroke:#000000; stroke-linecap:butt; stroke-linejoin:round; stroke-width:4; stroke-opacity:1; fill:none\" points=\"\n",
       "  1315.94,1445.72 1315.94,1445.72 1334.28,1445.72 1315.94,1445.72 \n",
       "  \"/>\n",
       "<path clip-path=\"url(#clip402)\" d=\"\n",
       "M1334.28 1445.72 L1334.28 1445.72 L1352.61 1445.72 L1352.61 1445.72 L1334.28 1445.72 L1334.28 1445.72  Z\n",
       "  \" fill=\"#009af9\" fill-rule=\"evenodd\" fill-opacity=\"1\"/>\n",
       "<polyline clip-path=\"url(#clip402)\" style=\"stroke:#000000; stroke-linecap:butt; stroke-linejoin:round; stroke-width:4; stroke-opacity:1; fill:none\" points=\"\n",
       "  1334.28,1445.72 1334.28,1445.72 1352.61,1445.72 1334.28,1445.72 \n",
       "  \"/>\n",
       "<path clip-path=\"url(#clip402)\" d=\"\n",
       "M1352.61 1445.72 L1352.61 1445.72 L1370.94 1445.72 L1370.94 1445.72 L1352.61 1445.72 L1352.61 1445.72  Z\n",
       "  \" fill=\"#009af9\" fill-rule=\"evenodd\" fill-opacity=\"1\"/>\n",
       "<polyline clip-path=\"url(#clip402)\" style=\"stroke:#000000; stroke-linecap:butt; stroke-linejoin:round; stroke-width:4; stroke-opacity:1; fill:none\" points=\"\n",
       "  1352.61,1445.72 1352.61,1445.72 1370.94,1445.72 1352.61,1445.72 \n",
       "  \"/>\n",
       "<path clip-path=\"url(#clip402)\" d=\"\n",
       "M1370.94 1445.72 L1370.94 1445.72 L1389.28 1445.72 L1389.28 1445.72 L1370.94 1445.72 L1370.94 1445.72  Z\n",
       "  \" fill=\"#009af9\" fill-rule=\"evenodd\" fill-opacity=\"1\"/>\n",
       "<polyline clip-path=\"url(#clip402)\" style=\"stroke:#000000; stroke-linecap:butt; stroke-linejoin:round; stroke-width:4; stroke-opacity:1; fill:none\" points=\"\n",
       "  1370.94,1445.72 1370.94,1445.72 1389.28,1445.72 1370.94,1445.72 \n",
       "  \"/>\n",
       "<path clip-path=\"url(#clip402)\" d=\"\n",
       "M1389.28 1445.72 L1389.28 1445.72 L1407.61 1445.72 L1407.61 1445.72 L1389.28 1445.72 L1389.28 1445.72  Z\n",
       "  \" fill=\"#009af9\" fill-rule=\"evenodd\" fill-opacity=\"1\"/>\n",
       "<polyline clip-path=\"url(#clip402)\" style=\"stroke:#000000; stroke-linecap:butt; stroke-linejoin:round; stroke-width:4; stroke-opacity:1; fill:none\" points=\"\n",
       "  1389.28,1445.72 1389.28,1445.72 1407.61,1445.72 1389.28,1445.72 \n",
       "  \"/>\n",
       "<path clip-path=\"url(#clip402)\" d=\"\n",
       "M1407.61 1445.72 L1407.61 1445.72 L1425.95 1445.72 L1425.95 1445.72 L1407.61 1445.72 L1407.61 1445.72  Z\n",
       "  \" fill=\"#009af9\" fill-rule=\"evenodd\" fill-opacity=\"1\"/>\n",
       "<polyline clip-path=\"url(#clip402)\" style=\"stroke:#000000; stroke-linecap:butt; stroke-linejoin:round; stroke-width:4; stroke-opacity:1; fill:none\" points=\"\n",
       "  1407.61,1445.72 1407.61,1445.72 1425.95,1445.72 1407.61,1445.72 \n",
       "  \"/>\n",
       "<path clip-path=\"url(#clip402)\" d=\"\n",
       "M1425.95 1445.72 L1425.95 1445.72 L1444.28 1445.72 L1444.28 1445.72 L1425.95 1445.72 L1425.95 1445.72  Z\n",
       "  \" fill=\"#009af9\" fill-rule=\"evenodd\" fill-opacity=\"1\"/>\n",
       "<polyline clip-path=\"url(#clip402)\" style=\"stroke:#000000; stroke-linecap:butt; stroke-linejoin:round; stroke-width:4; stroke-opacity:1; fill:none\" points=\"\n",
       "  1425.95,1445.72 1425.95,1445.72 1444.28,1445.72 1425.95,1445.72 \n",
       "  \"/>\n",
       "<path clip-path=\"url(#clip402)\" d=\"\n",
       "M1444.28 1445.72 L1444.28 1445.72 L1462.61 1445.72 L1462.61 1445.72 L1444.28 1445.72 L1444.28 1445.72  Z\n",
       "  \" fill=\"#009af9\" fill-rule=\"evenodd\" fill-opacity=\"1\"/>\n",
       "<polyline clip-path=\"url(#clip402)\" style=\"stroke:#000000; stroke-linecap:butt; stroke-linejoin:round; stroke-width:4; stroke-opacity:1; fill:none\" points=\"\n",
       "  1444.28,1445.72 1444.28,1445.72 1462.61,1445.72 1444.28,1445.72 \n",
       "  \"/>\n",
       "<path clip-path=\"url(#clip402)\" d=\"\n",
       "M1462.61 1445.72 L1462.61 1445.72 L1480.95 1445.72 L1480.95 1445.72 L1462.61 1445.72 L1462.61 1445.72  Z\n",
       "  \" fill=\"#009af9\" fill-rule=\"evenodd\" fill-opacity=\"1\"/>\n",
       "<polyline clip-path=\"url(#clip402)\" style=\"stroke:#000000; stroke-linecap:butt; stroke-linejoin:round; stroke-width:4; stroke-opacity:1; fill:none\" points=\"\n",
       "  1462.61,1445.72 1462.61,1445.72 1480.95,1445.72 1462.61,1445.72 \n",
       "  \"/>\n",
       "<path clip-path=\"url(#clip402)\" d=\"\n",
       "M1480.95 1445.72 L1480.95 1445.72 L1499.28 1445.72 L1499.28 1445.72 L1480.95 1445.72 L1480.95 1445.72  Z\n",
       "  \" fill=\"#009af9\" fill-rule=\"evenodd\" fill-opacity=\"1\"/>\n",
       "<polyline clip-path=\"url(#clip402)\" style=\"stroke:#000000; stroke-linecap:butt; stroke-linejoin:round; stroke-width:4; stroke-opacity:1; fill:none\" points=\"\n",
       "  1480.95,1445.72 1480.95,1445.72 1499.28,1445.72 1480.95,1445.72 \n",
       "  \"/>\n",
       "<path clip-path=\"url(#clip402)\" d=\"\n",
       "M1499.28 1445.72 L1499.28 1445.72 L1517.62 1445.72 L1517.62 1445.72 L1499.28 1445.72 L1499.28 1445.72  Z\n",
       "  \" fill=\"#009af9\" fill-rule=\"evenodd\" fill-opacity=\"1\"/>\n",
       "<polyline clip-path=\"url(#clip402)\" style=\"stroke:#000000; stroke-linecap:butt; stroke-linejoin:round; stroke-width:4; stroke-opacity:1; fill:none\" points=\"\n",
       "  1499.28,1445.72 1499.28,1445.72 1517.62,1445.72 1499.28,1445.72 \n",
       "  \"/>\n",
       "<path clip-path=\"url(#clip402)\" d=\"\n",
       "M1517.62 1445.72 L1517.62 1445.72 L1535.95 1445.72 L1535.95 1445.72 L1517.62 1445.72 L1517.62 1445.72  Z\n",
       "  \" fill=\"#009af9\" fill-rule=\"evenodd\" fill-opacity=\"1\"/>\n",
       "<polyline clip-path=\"url(#clip402)\" style=\"stroke:#000000; stroke-linecap:butt; stroke-linejoin:round; stroke-width:4; stroke-opacity:1; fill:none\" points=\"\n",
       "  1517.62,1445.72 1517.62,1445.72 1535.95,1445.72 1517.62,1445.72 \n",
       "  \"/>\n",
       "<path clip-path=\"url(#clip402)\" d=\"\n",
       "M1535.95 1445.72 L1535.95 1445.72 L1554.29 1445.72 L1554.29 1445.72 L1535.95 1445.72 L1535.95 1445.72  Z\n",
       "  \" fill=\"#009af9\" fill-rule=\"evenodd\" fill-opacity=\"1\"/>\n",
       "<polyline clip-path=\"url(#clip402)\" style=\"stroke:#000000; stroke-linecap:butt; stroke-linejoin:round; stroke-width:4; stroke-opacity:1; fill:none\" points=\"\n",
       "  1535.95,1445.72 1535.95,1445.72 1554.29,1445.72 1535.95,1445.72 \n",
       "  \"/>\n",
       "<path clip-path=\"url(#clip402)\" d=\"\n",
       "M1554.29 1445.72 L1554.29 1445.72 L1572.62 1445.72 L1572.62 1445.72 L1554.29 1445.72 L1554.29 1445.72  Z\n",
       "  \" fill=\"#009af9\" fill-rule=\"evenodd\" fill-opacity=\"1\"/>\n",
       "<polyline clip-path=\"url(#clip402)\" style=\"stroke:#000000; stroke-linecap:butt; stroke-linejoin:round; stroke-width:4; stroke-opacity:1; fill:none\" points=\"\n",
       "  1554.29,1445.72 1554.29,1445.72 1572.62,1445.72 1554.29,1445.72 \n",
       "  \"/>\n",
       "<path clip-path=\"url(#clip402)\" d=\"\n",
       "M1572.62 1445.72 L1572.62 1445.72 L1590.95 1445.72 L1590.95 1445.72 L1572.62 1445.72 L1572.62 1445.72  Z\n",
       "  \" fill=\"#009af9\" fill-rule=\"evenodd\" fill-opacity=\"1\"/>\n",
       "<polyline clip-path=\"url(#clip402)\" style=\"stroke:#000000; stroke-linecap:butt; stroke-linejoin:round; stroke-width:4; stroke-opacity:1; fill:none\" points=\"\n",
       "  1572.62,1445.72 1572.62,1445.72 1590.95,1445.72 1572.62,1445.72 \n",
       "  \"/>\n",
       "<path clip-path=\"url(#clip402)\" d=\"\n",
       "M1590.95 1445.72 L1590.95 1445.72 L1609.29 1445.72 L1609.29 1445.72 L1590.95 1445.72 L1590.95 1445.72  Z\n",
       "  \" fill=\"#009af9\" fill-rule=\"evenodd\" fill-opacity=\"1\"/>\n",
       "<polyline clip-path=\"url(#clip402)\" style=\"stroke:#000000; stroke-linecap:butt; stroke-linejoin:round; stroke-width:4; stroke-opacity:1; fill:none\" points=\"\n",
       "  1590.95,1445.72 1590.95,1445.72 1609.29,1445.72 1590.95,1445.72 \n",
       "  \"/>\n",
       "<path clip-path=\"url(#clip402)\" d=\"\n",
       "M1609.29 1445.72 L1609.29 1445.72 L1627.62 1445.72 L1627.62 1445.72 L1609.29 1445.72 L1609.29 1445.72  Z\n",
       "  \" fill=\"#009af9\" fill-rule=\"evenodd\" fill-opacity=\"1\"/>\n",
       "<polyline clip-path=\"url(#clip402)\" style=\"stroke:#000000; stroke-linecap:butt; stroke-linejoin:round; stroke-width:4; stroke-opacity:1; fill:none\" points=\"\n",
       "  1609.29,1445.72 1609.29,1445.72 1627.62,1445.72 1609.29,1445.72 \n",
       "  \"/>\n",
       "<path clip-path=\"url(#clip402)\" d=\"\n",
       "M1627.62 1445.72 L1627.62 1445.72 L1645.96 1445.72 L1645.96 1445.72 L1627.62 1445.72 L1627.62 1445.72  Z\n",
       "  \" fill=\"#009af9\" fill-rule=\"evenodd\" fill-opacity=\"1\"/>\n",
       "<polyline clip-path=\"url(#clip402)\" style=\"stroke:#000000; stroke-linecap:butt; stroke-linejoin:round; stroke-width:4; stroke-opacity:1; fill:none\" points=\"\n",
       "  1627.62,1445.72 1627.62,1445.72 1645.96,1445.72 1627.62,1445.72 \n",
       "  \"/>\n",
       "<path clip-path=\"url(#clip402)\" d=\"\n",
       "M1645.96 1445.72 L1645.96 1445.72 L1664.29 1445.72 L1664.29 1445.72 L1645.96 1445.72 L1645.96 1445.72  Z\n",
       "  \" fill=\"#009af9\" fill-rule=\"evenodd\" fill-opacity=\"1\"/>\n",
       "<polyline clip-path=\"url(#clip402)\" style=\"stroke:#000000; stroke-linecap:butt; stroke-linejoin:round; stroke-width:4; stroke-opacity:1; fill:none\" points=\"\n",
       "  1645.96,1445.72 1645.96,1445.72 1664.29,1445.72 1645.96,1445.72 \n",
       "  \"/>\n",
       "<path clip-path=\"url(#clip402)\" d=\"\n",
       "M1664.29 1445.72 L1664.29 1445.72 L1682.63 1445.72 L1682.63 1445.72 L1664.29 1445.72 L1664.29 1445.72  Z\n",
       "  \" fill=\"#009af9\" fill-rule=\"evenodd\" fill-opacity=\"1\"/>\n",
       "<polyline clip-path=\"url(#clip402)\" style=\"stroke:#000000; stroke-linecap:butt; stroke-linejoin:round; stroke-width:4; stroke-opacity:1; fill:none\" points=\"\n",
       "  1664.29,1445.72 1664.29,1445.72 1682.63,1445.72 1664.29,1445.72 \n",
       "  \"/>\n",
       "<path clip-path=\"url(#clip402)\" d=\"\n",
       "M1682.63 1445.72 L1682.63 1445.72 L1700.96 1445.72 L1700.96 1445.72 L1682.63 1445.72 L1682.63 1445.72  Z\n",
       "  \" fill=\"#009af9\" fill-rule=\"evenodd\" fill-opacity=\"1\"/>\n",
       "<polyline clip-path=\"url(#clip402)\" style=\"stroke:#000000; stroke-linecap:butt; stroke-linejoin:round; stroke-width:4; stroke-opacity:1; fill:none\" points=\"\n",
       "  1682.63,1445.72 1682.63,1445.72 1700.96,1445.72 1682.63,1445.72 \n",
       "  \"/>\n",
       "<path clip-path=\"url(#clip402)\" d=\"\n",
       "M1700.96 1445.72 L1700.96 1445.72 L1719.29 1445.72 L1719.29 1445.72 L1700.96 1445.72 L1700.96 1445.72  Z\n",
       "  \" fill=\"#009af9\" fill-rule=\"evenodd\" fill-opacity=\"1\"/>\n",
       "<polyline clip-path=\"url(#clip402)\" style=\"stroke:#000000; stroke-linecap:butt; stroke-linejoin:round; stroke-width:4; stroke-opacity:1; fill:none\" points=\"\n",
       "  1700.96,1445.72 1700.96,1445.72 1719.29,1445.72 1700.96,1445.72 \n",
       "  \"/>\n",
       "<path clip-path=\"url(#clip402)\" d=\"\n",
       "M1719.29 1445.72 L1719.29 1445.72 L1737.63 1445.72 L1737.63 1445.72 L1719.29 1445.72 L1719.29 1445.72  Z\n",
       "  \" fill=\"#009af9\" fill-rule=\"evenodd\" fill-opacity=\"1\"/>\n",
       "<polyline clip-path=\"url(#clip402)\" style=\"stroke:#000000; stroke-linecap:butt; stroke-linejoin:round; stroke-width:4; stroke-opacity:1; fill:none\" points=\"\n",
       "  1719.29,1445.72 1719.29,1445.72 1737.63,1445.72 1719.29,1445.72 \n",
       "  \"/>\n",
       "<path clip-path=\"url(#clip402)\" d=\"\n",
       "M1737.63 1445.72 L1737.63 1445.72 L1755.96 1445.72 L1755.96 1445.72 L1737.63 1445.72 L1737.63 1445.72  Z\n",
       "  \" fill=\"#009af9\" fill-rule=\"evenodd\" fill-opacity=\"1\"/>\n",
       "<polyline clip-path=\"url(#clip402)\" style=\"stroke:#000000; stroke-linecap:butt; stroke-linejoin:round; stroke-width:4; stroke-opacity:1; fill:none\" points=\"\n",
       "  1737.63,1445.72 1737.63,1445.72 1755.96,1445.72 1737.63,1445.72 \n",
       "  \"/>\n",
       "<path clip-path=\"url(#clip402)\" d=\"\n",
       "M1755.96 1445.72 L1755.96 1445.72 L1774.3 1445.72 L1774.3 1445.72 L1755.96 1445.72 L1755.96 1445.72  Z\n",
       "  \" fill=\"#009af9\" fill-rule=\"evenodd\" fill-opacity=\"1\"/>\n",
       "<polyline clip-path=\"url(#clip402)\" style=\"stroke:#000000; stroke-linecap:butt; stroke-linejoin:round; stroke-width:4; stroke-opacity:1; fill:none\" points=\"\n",
       "  1755.96,1445.72 1755.96,1445.72 1774.3,1445.72 1755.96,1445.72 \n",
       "  \"/>\n",
       "<path clip-path=\"url(#clip402)\" d=\"\n",
       "M1774.3 1445.72 L1774.3 1445.72 L1792.63 1445.72 L1792.63 1445.72 L1774.3 1445.72 L1774.3 1445.72  Z\n",
       "  \" fill=\"#009af9\" fill-rule=\"evenodd\" fill-opacity=\"1\"/>\n",
       "<polyline clip-path=\"url(#clip402)\" style=\"stroke:#000000; stroke-linecap:butt; stroke-linejoin:round; stroke-width:4; stroke-opacity:1; fill:none\" points=\"\n",
       "  1774.3,1445.72 1774.3,1445.72 1792.63,1445.72 1774.3,1445.72 \n",
       "  \"/>\n",
       "<path clip-path=\"url(#clip402)\" d=\"\n",
       "M1792.63 1445.72 L1792.63 1445.72 L1810.97 1445.72 L1810.97 1445.72 L1792.63 1445.72 L1792.63 1445.72  Z\n",
       "  \" fill=\"#009af9\" fill-rule=\"evenodd\" fill-opacity=\"1\"/>\n",
       "<polyline clip-path=\"url(#clip402)\" style=\"stroke:#000000; stroke-linecap:butt; stroke-linejoin:round; stroke-width:4; stroke-opacity:1; fill:none\" points=\"\n",
       "  1792.63,1445.72 1792.63,1445.72 1810.97,1445.72 1792.63,1445.72 \n",
       "  \"/>\n",
       "<path clip-path=\"url(#clip402)\" d=\"\n",
       "M1810.97 1445.72 L1810.97 1445.72 L1829.3 1445.72 L1829.3 1445.72 L1810.97 1445.72 L1810.97 1445.72  Z\n",
       "  \" fill=\"#009af9\" fill-rule=\"evenodd\" fill-opacity=\"1\"/>\n",
       "<polyline clip-path=\"url(#clip402)\" style=\"stroke:#000000; stroke-linecap:butt; stroke-linejoin:round; stroke-width:4; stroke-opacity:1; fill:none\" points=\"\n",
       "  1810.97,1445.72 1810.97,1445.72 1829.3,1445.72 1810.97,1445.72 \n",
       "  \"/>\n",
       "<path clip-path=\"url(#clip402)\" d=\"\n",
       "M1829.3 1445.72 L1829.3 1445.72 L1847.63 1445.72 L1847.63 1445.72 L1829.3 1445.72 L1829.3 1445.72  Z\n",
       "  \" fill=\"#009af9\" fill-rule=\"evenodd\" fill-opacity=\"1\"/>\n",
       "<polyline clip-path=\"url(#clip402)\" style=\"stroke:#000000; stroke-linecap:butt; stroke-linejoin:round; stroke-width:4; stroke-opacity:1; fill:none\" points=\"\n",
       "  1829.3,1445.72 1829.3,1445.72 1847.63,1445.72 1829.3,1445.72 \n",
       "  \"/>\n",
       "<path clip-path=\"url(#clip402)\" d=\"\n",
       "M1847.63 1445.72 L1847.63 1445.72 L1865.97 1445.72 L1865.97 1445.72 L1847.63 1445.72 L1847.63 1445.72  Z\n",
       "  \" fill=\"#009af9\" fill-rule=\"evenodd\" fill-opacity=\"1\"/>\n",
       "<polyline clip-path=\"url(#clip402)\" style=\"stroke:#000000; stroke-linecap:butt; stroke-linejoin:round; stroke-width:4; stroke-opacity:1; fill:none\" points=\"\n",
       "  1847.63,1445.72 1847.63,1445.72 1865.97,1445.72 1847.63,1445.72 \n",
       "  \"/>\n",
       "<path clip-path=\"url(#clip402)\" d=\"\n",
       "M1865.97 1445.72 L1865.97 1445.72 L1884.3 1445.72 L1884.3 1445.72 L1865.97 1445.72 L1865.97 1445.72  Z\n",
       "  \" fill=\"#009af9\" fill-rule=\"evenodd\" fill-opacity=\"1\"/>\n",
       "<polyline clip-path=\"url(#clip402)\" style=\"stroke:#000000; stroke-linecap:butt; stroke-linejoin:round; stroke-width:4; stroke-opacity:1; fill:none\" points=\"\n",
       "  1865.97,1445.72 1865.97,1445.72 1884.3,1445.72 1865.97,1445.72 \n",
       "  \"/>\n",
       "<path clip-path=\"url(#clip402)\" d=\"\n",
       "M1884.3 1445.72 L1884.3 1445.72 L1902.64 1445.72 L1902.64 1445.72 L1884.3 1445.72 L1884.3 1445.72  Z\n",
       "  \" fill=\"#009af9\" fill-rule=\"evenodd\" fill-opacity=\"1\"/>\n",
       "<polyline clip-path=\"url(#clip402)\" style=\"stroke:#000000; stroke-linecap:butt; stroke-linejoin:round; stroke-width:4; stroke-opacity:1; fill:none\" points=\"\n",
       "  1884.3,1445.72 1884.3,1445.72 1902.64,1445.72 1884.3,1445.72 \n",
       "  \"/>\n",
       "<path clip-path=\"url(#clip402)\" d=\"\n",
       "M1902.64 1445.72 L1902.64 1445.72 L1920.97 1445.72 L1920.97 1445.72 L1902.64 1445.72 L1902.64 1445.72  Z\n",
       "  \" fill=\"#009af9\" fill-rule=\"evenodd\" fill-opacity=\"1\"/>\n",
       "<polyline clip-path=\"url(#clip402)\" style=\"stroke:#000000; stroke-linecap:butt; stroke-linejoin:round; stroke-width:4; stroke-opacity:1; fill:none\" points=\"\n",
       "  1902.64,1445.72 1902.64,1445.72 1920.97,1445.72 1902.64,1445.72 \n",
       "  \"/>\n",
       "<path clip-path=\"url(#clip402)\" d=\"\n",
       "M1920.97 1445.72 L1920.97 1445.72 L1939.3 1445.72 L1939.3 1445.72 L1920.97 1445.72 L1920.97 1445.72  Z\n",
       "  \" fill=\"#009af9\" fill-rule=\"evenodd\" fill-opacity=\"1\"/>\n",
       "<polyline clip-path=\"url(#clip402)\" style=\"stroke:#000000; stroke-linecap:butt; stroke-linejoin:round; stroke-width:4; stroke-opacity:1; fill:none\" points=\"\n",
       "  1920.97,1445.72 1920.97,1445.72 1939.3,1445.72 1920.97,1445.72 \n",
       "  \"/>\n",
       "<path clip-path=\"url(#clip402)\" d=\"\n",
       "M1939.3 1445.72 L1939.3 1445.72 L1957.64 1445.72 L1957.64 1445.72 L1939.3 1445.72 L1939.3 1445.72  Z\n",
       "  \" fill=\"#009af9\" fill-rule=\"evenodd\" fill-opacity=\"1\"/>\n",
       "<polyline clip-path=\"url(#clip402)\" style=\"stroke:#000000; stroke-linecap:butt; stroke-linejoin:round; stroke-width:4; stroke-opacity:1; fill:none\" points=\"\n",
       "  1939.3,1445.72 1939.3,1445.72 1957.64,1445.72 1939.3,1445.72 \n",
       "  \"/>\n",
       "<path clip-path=\"url(#clip402)\" d=\"\n",
       "M1957.64 1445.72 L1957.64 1445.72 L1975.97 1445.72 L1975.97 1445.72 L1957.64 1445.72 L1957.64 1445.72  Z\n",
       "  \" fill=\"#009af9\" fill-rule=\"evenodd\" fill-opacity=\"1\"/>\n",
       "<polyline clip-path=\"url(#clip402)\" style=\"stroke:#000000; stroke-linecap:butt; stroke-linejoin:round; stroke-width:4; stroke-opacity:1; fill:none\" points=\"\n",
       "  1957.64,1445.72 1957.64,1445.72 1975.97,1445.72 1957.64,1445.72 \n",
       "  \"/>\n",
       "<path clip-path=\"url(#clip402)\" d=\"\n",
       "M1975.97 1445.72 L1975.97 1445.72 L1994.31 1445.72 L1994.31 1445.72 L1975.97 1445.72 L1975.97 1445.72  Z\n",
       "  \" fill=\"#009af9\" fill-rule=\"evenodd\" fill-opacity=\"1\"/>\n",
       "<polyline clip-path=\"url(#clip402)\" style=\"stroke:#000000; stroke-linecap:butt; stroke-linejoin:round; stroke-width:4; stroke-opacity:1; fill:none\" points=\"\n",
       "  1975.97,1445.72 1975.97,1445.72 1994.31,1445.72 1975.97,1445.72 \n",
       "  \"/>\n",
       "<path clip-path=\"url(#clip402)\" d=\"\n",
       "M1994.31 1445.72 L1994.31 1445.72 L2012.64 1445.72 L2012.64 1445.72 L1994.31 1445.72 L1994.31 1445.72  Z\n",
       "  \" fill=\"#009af9\" fill-rule=\"evenodd\" fill-opacity=\"1\"/>\n",
       "<polyline clip-path=\"url(#clip402)\" style=\"stroke:#000000; stroke-linecap:butt; stroke-linejoin:round; stroke-width:4; stroke-opacity:1; fill:none\" points=\"\n",
       "  1994.31,1445.72 1994.31,1445.72 2012.64,1445.72 1994.31,1445.72 \n",
       "  \"/>\n",
       "<path clip-path=\"url(#clip402)\" d=\"\n",
       "M2012.64 1445.72 L2012.64 1445.72 L2030.98 1445.72 L2030.98 1445.72 L2012.64 1445.72 L2012.64 1445.72  Z\n",
       "  \" fill=\"#009af9\" fill-rule=\"evenodd\" fill-opacity=\"1\"/>\n",
       "<polyline clip-path=\"url(#clip402)\" style=\"stroke:#000000; stroke-linecap:butt; stroke-linejoin:round; stroke-width:4; stroke-opacity:1; fill:none\" points=\"\n",
       "  2012.64,1445.72 2012.64,1445.72 2030.98,1445.72 2012.64,1445.72 \n",
       "  \"/>\n",
       "<path clip-path=\"url(#clip402)\" d=\"\n",
       "M2030.98 1445.72 L2030.98 1445.72 L2049.31 1445.72 L2049.31 1445.72 L2030.98 1445.72 L2030.98 1445.72  Z\n",
       "  \" fill=\"#009af9\" fill-rule=\"evenodd\" fill-opacity=\"1\"/>\n",
       "<polyline clip-path=\"url(#clip402)\" style=\"stroke:#000000; stroke-linecap:butt; stroke-linejoin:round; stroke-width:4; stroke-opacity:1; fill:none\" points=\"\n",
       "  2030.98,1445.72 2030.98,1445.72 2049.31,1445.72 2030.98,1445.72 \n",
       "  \"/>\n",
       "<path clip-path=\"url(#clip402)\" d=\"\n",
       "M2049.31 1445.72 L2049.31 1445.72 L2067.64 1445.72 L2067.64 1445.72 L2049.31 1445.72 L2049.31 1445.72  Z\n",
       "  \" fill=\"#009af9\" fill-rule=\"evenodd\" fill-opacity=\"1\"/>\n",
       "<polyline clip-path=\"url(#clip402)\" style=\"stroke:#000000; stroke-linecap:butt; stroke-linejoin:round; stroke-width:4; stroke-opacity:1; fill:none\" points=\"\n",
       "  2049.31,1445.72 2049.31,1445.72 2067.64,1445.72 2049.31,1445.72 \n",
       "  \"/>\n",
       "<path clip-path=\"url(#clip402)\" d=\"\n",
       "M2067.64 1445.72 L2067.64 1445.72 L2085.98 1445.72 L2085.98 1445.72 L2067.64 1445.72 L2067.64 1445.72  Z\n",
       "  \" fill=\"#009af9\" fill-rule=\"evenodd\" fill-opacity=\"1\"/>\n",
       "<polyline clip-path=\"url(#clip402)\" style=\"stroke:#000000; stroke-linecap:butt; stroke-linejoin:round; stroke-width:4; stroke-opacity:1; fill:none\" points=\"\n",
       "  2067.64,1445.72 2067.64,1445.72 2085.98,1445.72 2067.64,1445.72 \n",
       "  \"/>\n",
       "<path clip-path=\"url(#clip402)\" d=\"\n",
       "M2085.98 1445.72 L2085.98 1445.72 L2104.31 1445.72 L2104.31 1445.72 L2085.98 1445.72 L2085.98 1445.72  Z\n",
       "  \" fill=\"#009af9\" fill-rule=\"evenodd\" fill-opacity=\"1\"/>\n",
       "<polyline clip-path=\"url(#clip402)\" style=\"stroke:#000000; stroke-linecap:butt; stroke-linejoin:round; stroke-width:4; stroke-opacity:1; fill:none\" points=\"\n",
       "  2085.98,1445.72 2085.98,1445.72 2104.31,1445.72 2085.98,1445.72 \n",
       "  \"/>\n",
       "<path clip-path=\"url(#clip402)\" d=\"\n",
       "M2104.31 1445.72 L2104.31 1445.72 L2122.65 1445.72 L2122.65 1445.72 L2104.31 1445.72 L2104.31 1445.72  Z\n",
       "  \" fill=\"#009af9\" fill-rule=\"evenodd\" fill-opacity=\"1\"/>\n",
       "<polyline clip-path=\"url(#clip402)\" style=\"stroke:#000000; stroke-linecap:butt; stroke-linejoin:round; stroke-width:4; stroke-opacity:1; fill:none\" points=\"\n",
       "  2104.31,1445.72 2104.31,1445.72 2122.65,1445.72 2104.31,1445.72 \n",
       "  \"/>\n",
       "<path clip-path=\"url(#clip402)\" d=\"\n",
       "M2122.65 1445.72 L2122.65 1445.72 L2140.98 1445.72 L2140.98 1445.72 L2122.65 1445.72 L2122.65 1445.72  Z\n",
       "  \" fill=\"#009af9\" fill-rule=\"evenodd\" fill-opacity=\"1\"/>\n",
       "<polyline clip-path=\"url(#clip402)\" style=\"stroke:#000000; stroke-linecap:butt; stroke-linejoin:round; stroke-width:4; stroke-opacity:1; fill:none\" points=\"\n",
       "  2122.65,1445.72 2122.65,1445.72 2140.98,1445.72 2122.65,1445.72 \n",
       "  \"/>\n",
       "<path clip-path=\"url(#clip402)\" d=\"\n",
       "M2140.98 1445.72 L2140.98 1445.72 L2159.32 1445.72 L2159.32 1445.72 L2140.98 1445.72 L2140.98 1445.72  Z\n",
       "  \" fill=\"#009af9\" fill-rule=\"evenodd\" fill-opacity=\"1\"/>\n",
       "<polyline clip-path=\"url(#clip402)\" style=\"stroke:#000000; stroke-linecap:butt; stroke-linejoin:round; stroke-width:4; stroke-opacity:1; fill:none\" points=\"\n",
       "  2140.98,1445.72 2140.98,1445.72 2159.32,1445.72 2140.98,1445.72 \n",
       "  \"/>\n",
       "<path clip-path=\"url(#clip402)\" d=\"\n",
       "M2159.32 1445.72 L2159.32 1445.72 L2177.65 1445.72 L2177.65 1445.72 L2159.32 1445.72 L2159.32 1445.72  Z\n",
       "  \" fill=\"#009af9\" fill-rule=\"evenodd\" fill-opacity=\"1\"/>\n",
       "<polyline clip-path=\"url(#clip402)\" style=\"stroke:#000000; stroke-linecap:butt; stroke-linejoin:round; stroke-width:4; stroke-opacity:1; fill:none\" points=\"\n",
       "  2159.32,1445.72 2159.32,1445.72 2177.65,1445.72 2159.32,1445.72 \n",
       "  \"/>\n",
       "<path clip-path=\"url(#clip402)\" d=\"\n",
       "M2177.65 1445.72 L2177.65 1445.72 L2195.98 1445.72 L2195.98 1445.72 L2177.65 1445.72 L2177.65 1445.72  Z\n",
       "  \" fill=\"#009af9\" fill-rule=\"evenodd\" fill-opacity=\"1\"/>\n",
       "<polyline clip-path=\"url(#clip402)\" style=\"stroke:#000000; stroke-linecap:butt; stroke-linejoin:round; stroke-width:4; stroke-opacity:1; fill:none\" points=\"\n",
       "  2177.65,1445.72 2177.65,1445.72 2195.98,1445.72 2177.65,1445.72 \n",
       "  \"/>\n",
       "<path clip-path=\"url(#clip402)\" d=\"\n",
       "M2195.98 1445.72 L2195.98 1445.72 L2214.32 1445.72 L2214.32 1445.72 L2195.98 1445.72 L2195.98 1445.72  Z\n",
       "  \" fill=\"#009af9\" fill-rule=\"evenodd\" fill-opacity=\"1\"/>\n",
       "<polyline clip-path=\"url(#clip402)\" style=\"stroke:#000000; stroke-linecap:butt; stroke-linejoin:round; stroke-width:4; stroke-opacity:1; fill:none\" points=\"\n",
       "  2195.98,1445.72 2195.98,1445.72 2214.32,1445.72 2195.98,1445.72 \n",
       "  \"/>\n",
       "<path clip-path=\"url(#clip402)\" d=\"\n",
       "M2214.32 1437.54 L2214.32 1445.72 L2232.65 1445.72 L2232.65 1437.54 L2214.32 1437.54 L2214.32 1437.54  Z\n",
       "  \" fill=\"#009af9\" fill-rule=\"evenodd\" fill-opacity=\"1\"/>\n",
       "<polyline clip-path=\"url(#clip402)\" style=\"stroke:#000000; stroke-linecap:butt; stroke-linejoin:round; stroke-width:4; stroke-opacity:1; fill:none\" points=\"\n",
       "  2214.32,1437.54 2214.32,1445.72 2232.65,1445.72 2232.65,1437.54 2214.32,1437.54 \n",
       "  \"/>\n",
       "<circle clip-path=\"url(#clip402)\" style=\"fill:#009af9; stroke:none; fill-opacity:0\" cx=\"298.392\" cy=\"1437.54\" r=\"2\"/>\n",
       "<circle clip-path=\"url(#clip402)\" style=\"fill:#009af9; stroke:none; fill-opacity:0\" cx=\"316.726\" cy=\"1388.46\" r=\"2\"/>\n",
       "<circle clip-path=\"url(#clip402)\" style=\"fill:#009af9; stroke:none; fill-opacity:0\" cx=\"335.061\" cy=\"1094.01\" r=\"2\"/>\n",
       "<circle clip-path=\"url(#clip402)\" style=\"fill:#009af9; stroke:none; fill-opacity:0\" cx=\"353.395\" cy=\"447.859\" r=\"2\"/>\n",
       "<circle clip-path=\"url(#clip402)\" style=\"fill:#009af9; stroke:none; fill-opacity:0\" cx=\"371.729\" cy=\"87.9763\" r=\"2\"/>\n",
       "<circle clip-path=\"url(#clip402)\" style=\"fill:#009af9; stroke:none; fill-opacity:0\" cx=\"390.063\" cy=\"169.768\" r=\"2\"/>\n",
       "<circle clip-path=\"url(#clip402)\" style=\"fill:#009af9; stroke:none; fill-opacity:0\" cx=\"408.398\" cy=\"251.559\" r=\"2\"/>\n",
       "<circle clip-path=\"url(#clip402)\" style=\"fill:#009af9; stroke:none; fill-opacity:0\" cx=\"426.732\" cy=\"390.605\" r=\"2\"/>\n",
       "<circle clip-path=\"url(#clip402)\" style=\"fill:#009af9; stroke:none; fill-opacity:0\" cx=\"445.066\" cy=\"693.234\" r=\"2\"/>\n",
       "<circle clip-path=\"url(#clip402)\" style=\"fill:#009af9; stroke:none; fill-opacity:0\" cx=\"463.4\" cy=\"938.608\" r=\"2\"/>\n",
       "<circle clip-path=\"url(#clip402)\" style=\"fill:#009af9; stroke:none; fill-opacity:0\" cx=\"481.734\" cy=\"1183.98\" r=\"2\"/>\n",
       "<circle clip-path=\"url(#clip402)\" style=\"fill:#009af9; stroke:none; fill-opacity:0\" cx=\"500.069\" cy=\"1273.95\" r=\"2\"/>\n",
       "<circle clip-path=\"url(#clip402)\" style=\"fill:#009af9; stroke:none; fill-opacity:0\" cx=\"518.403\" cy=\"1290.31\" r=\"2\"/>\n",
       "<circle clip-path=\"url(#clip402)\" style=\"fill:#009af9; stroke:none; fill-opacity:0\" cx=\"536.737\" cy=\"1339.39\" r=\"2\"/>\n",
       "<circle clip-path=\"url(#clip402)\" style=\"fill:#009af9; stroke:none; fill-opacity:0\" cx=\"555.071\" cy=\"1413\" r=\"2\"/>\n",
       "<circle clip-path=\"url(#clip402)\" style=\"fill:#009af9; stroke:none; fill-opacity:0\" cx=\"573.405\" cy=\"1404.82\" r=\"2\"/>\n",
       "<circle clip-path=\"url(#clip402)\" style=\"fill:#009af9; stroke:none; fill-opacity:0\" cx=\"591.74\" cy=\"1429.36\" r=\"2\"/>\n",
       "<circle clip-path=\"url(#clip402)\" style=\"fill:#009af9; stroke:none; fill-opacity:0\" cx=\"610.074\" cy=\"1429.36\" r=\"2\"/>\n",
       "<circle clip-path=\"url(#clip402)\" style=\"fill:#009af9; stroke:none; fill-opacity:0\" cx=\"628.408\" cy=\"1437.54\" r=\"2\"/>\n",
       "<circle clip-path=\"url(#clip402)\" style=\"fill:#009af9; stroke:none; fill-opacity:0\" cx=\"646.742\" cy=\"1445.72\" r=\"2\"/>\n",
       "<circle clip-path=\"url(#clip402)\" style=\"fill:#009af9; stroke:none; fill-opacity:0\" cx=\"665.077\" cy=\"1445.72\" r=\"2\"/>\n",
       "<circle clip-path=\"url(#clip402)\" style=\"fill:#009af9; stroke:none; fill-opacity:0\" cx=\"683.411\" cy=\"1445.72\" r=\"2\"/>\n",
       "<circle clip-path=\"url(#clip402)\" style=\"fill:#009af9; stroke:none; fill-opacity:0\" cx=\"701.745\" cy=\"1437.54\" r=\"2\"/>\n",
       "<circle clip-path=\"url(#clip402)\" style=\"fill:#009af9; stroke:none; fill-opacity:0\" cx=\"720.079\" cy=\"1445.72\" r=\"2\"/>\n",
       "<circle clip-path=\"url(#clip402)\" style=\"fill:#009af9; stroke:none; fill-opacity:0\" cx=\"738.413\" cy=\"1445.72\" r=\"2\"/>\n",
       "<circle clip-path=\"url(#clip402)\" style=\"fill:#009af9; stroke:none; fill-opacity:0\" cx=\"756.748\" cy=\"1445.72\" r=\"2\"/>\n",
       "<circle clip-path=\"url(#clip402)\" style=\"fill:#009af9; stroke:none; fill-opacity:0\" cx=\"775.082\" cy=\"1445.72\" r=\"2\"/>\n",
       "<circle clip-path=\"url(#clip402)\" style=\"fill:#009af9; stroke:none; fill-opacity:0\" cx=\"793.416\" cy=\"1445.72\" r=\"2\"/>\n",
       "<circle clip-path=\"url(#clip402)\" style=\"fill:#009af9; stroke:none; fill-opacity:0\" cx=\"811.75\" cy=\"1445.72\" r=\"2\"/>\n",
       "<circle clip-path=\"url(#clip402)\" style=\"fill:#009af9; stroke:none; fill-opacity:0\" cx=\"830.085\" cy=\"1445.72\" r=\"2\"/>\n",
       "<circle clip-path=\"url(#clip402)\" style=\"fill:#009af9; stroke:none; fill-opacity:0\" cx=\"848.419\" cy=\"1445.72\" r=\"2\"/>\n",
       "<circle clip-path=\"url(#clip402)\" style=\"fill:#009af9; stroke:none; fill-opacity:0\" cx=\"866.753\" cy=\"1445.72\" r=\"2\"/>\n",
       "<circle clip-path=\"url(#clip402)\" style=\"fill:#009af9; stroke:none; fill-opacity:0\" cx=\"885.087\" cy=\"1445.72\" r=\"2\"/>\n",
       "<circle clip-path=\"url(#clip402)\" style=\"fill:#009af9; stroke:none; fill-opacity:0\" cx=\"903.421\" cy=\"1445.72\" r=\"2\"/>\n",
       "<circle clip-path=\"url(#clip402)\" style=\"fill:#009af9; stroke:none; fill-opacity:0\" cx=\"921.756\" cy=\"1445.72\" r=\"2\"/>\n",
       "<circle clip-path=\"url(#clip402)\" style=\"fill:#009af9; stroke:none; fill-opacity:0\" cx=\"940.09\" cy=\"1445.72\" r=\"2\"/>\n",
       "<circle clip-path=\"url(#clip402)\" style=\"fill:#009af9; stroke:none; fill-opacity:0\" cx=\"958.424\" cy=\"1445.72\" r=\"2\"/>\n",
       "<circle clip-path=\"url(#clip402)\" style=\"fill:#009af9; stroke:none; fill-opacity:0\" cx=\"976.758\" cy=\"1445.72\" r=\"2\"/>\n",
       "<circle clip-path=\"url(#clip402)\" style=\"fill:#009af9; stroke:none; fill-opacity:0\" cx=\"995.092\" cy=\"1445.72\" r=\"2\"/>\n",
       "<circle clip-path=\"url(#clip402)\" style=\"fill:#009af9; stroke:none; fill-opacity:0\" cx=\"1013.43\" cy=\"1445.72\" r=\"2\"/>\n",
       "<circle clip-path=\"url(#clip402)\" style=\"fill:#009af9; stroke:none; fill-opacity:0\" cx=\"1031.76\" cy=\"1445.72\" r=\"2\"/>\n",
       "<circle clip-path=\"url(#clip402)\" style=\"fill:#009af9; stroke:none; fill-opacity:0\" cx=\"1050.1\" cy=\"1445.72\" r=\"2\"/>\n",
       "<circle clip-path=\"url(#clip402)\" style=\"fill:#009af9; stroke:none; fill-opacity:0\" cx=\"1068.43\" cy=\"1445.72\" r=\"2\"/>\n",
       "<circle clip-path=\"url(#clip402)\" style=\"fill:#009af9; stroke:none; fill-opacity:0\" cx=\"1086.76\" cy=\"1445.72\" r=\"2\"/>\n",
       "<circle clip-path=\"url(#clip402)\" style=\"fill:#009af9; stroke:none; fill-opacity:0\" cx=\"1105.1\" cy=\"1445.72\" r=\"2\"/>\n",
       "<circle clip-path=\"url(#clip402)\" style=\"fill:#009af9; stroke:none; fill-opacity:0\" cx=\"1123.43\" cy=\"1445.72\" r=\"2\"/>\n",
       "<circle clip-path=\"url(#clip402)\" style=\"fill:#009af9; stroke:none; fill-opacity:0\" cx=\"1141.77\" cy=\"1445.72\" r=\"2\"/>\n",
       "<circle clip-path=\"url(#clip402)\" style=\"fill:#009af9; stroke:none; fill-opacity:0\" cx=\"1160.1\" cy=\"1445.72\" r=\"2\"/>\n",
       "<circle clip-path=\"url(#clip402)\" style=\"fill:#009af9; stroke:none; fill-opacity:0\" cx=\"1178.43\" cy=\"1445.72\" r=\"2\"/>\n",
       "<circle clip-path=\"url(#clip402)\" style=\"fill:#009af9; stroke:none; fill-opacity:0\" cx=\"1196.77\" cy=\"1445.72\" r=\"2\"/>\n",
       "<circle clip-path=\"url(#clip402)\" style=\"fill:#009af9; stroke:none; fill-opacity:0\" cx=\"1215.1\" cy=\"1445.72\" r=\"2\"/>\n",
       "<circle clip-path=\"url(#clip402)\" style=\"fill:#009af9; stroke:none; fill-opacity:0\" cx=\"1233.44\" cy=\"1445.72\" r=\"2\"/>\n",
       "<circle clip-path=\"url(#clip402)\" style=\"fill:#009af9; stroke:none; fill-opacity:0\" cx=\"1251.77\" cy=\"1445.72\" r=\"2\"/>\n",
       "<circle clip-path=\"url(#clip402)\" style=\"fill:#009af9; stroke:none; fill-opacity:0\" cx=\"1270.11\" cy=\"1445.72\" r=\"2\"/>\n",
       "<circle clip-path=\"url(#clip402)\" style=\"fill:#009af9; stroke:none; fill-opacity:0\" cx=\"1288.44\" cy=\"1445.72\" r=\"2\"/>\n",
       "<circle clip-path=\"url(#clip402)\" style=\"fill:#009af9; stroke:none; fill-opacity:0\" cx=\"1306.77\" cy=\"1445.72\" r=\"2\"/>\n",
       "<circle clip-path=\"url(#clip402)\" style=\"fill:#009af9; stroke:none; fill-opacity:0\" cx=\"1325.11\" cy=\"1445.72\" r=\"2\"/>\n",
       "<circle clip-path=\"url(#clip402)\" style=\"fill:#009af9; stroke:none; fill-opacity:0\" cx=\"1343.44\" cy=\"1445.72\" r=\"2\"/>\n",
       "<circle clip-path=\"url(#clip402)\" style=\"fill:#009af9; stroke:none; fill-opacity:0\" cx=\"1361.78\" cy=\"1445.72\" r=\"2\"/>\n",
       "<circle clip-path=\"url(#clip402)\" style=\"fill:#009af9; stroke:none; fill-opacity:0\" cx=\"1380.11\" cy=\"1445.72\" r=\"2\"/>\n",
       "<circle clip-path=\"url(#clip402)\" style=\"fill:#009af9; stroke:none; fill-opacity:0\" cx=\"1398.45\" cy=\"1445.72\" r=\"2\"/>\n",
       "<circle clip-path=\"url(#clip402)\" style=\"fill:#009af9; stroke:none; fill-opacity:0\" cx=\"1416.78\" cy=\"1445.72\" r=\"2\"/>\n",
       "<circle clip-path=\"url(#clip402)\" style=\"fill:#009af9; stroke:none; fill-opacity:0\" cx=\"1435.11\" cy=\"1445.72\" r=\"2\"/>\n",
       "<circle clip-path=\"url(#clip402)\" style=\"fill:#009af9; stroke:none; fill-opacity:0\" cx=\"1453.45\" cy=\"1445.72\" r=\"2\"/>\n",
       "<circle clip-path=\"url(#clip402)\" style=\"fill:#009af9; stroke:none; fill-opacity:0\" cx=\"1471.78\" cy=\"1445.72\" r=\"2\"/>\n",
       "<circle clip-path=\"url(#clip402)\" style=\"fill:#009af9; stroke:none; fill-opacity:0\" cx=\"1490.12\" cy=\"1445.72\" r=\"2\"/>\n",
       "<circle clip-path=\"url(#clip402)\" style=\"fill:#009af9; stroke:none; fill-opacity:0\" cx=\"1508.45\" cy=\"1445.72\" r=\"2\"/>\n",
       "<circle clip-path=\"url(#clip402)\" style=\"fill:#009af9; stroke:none; fill-opacity:0\" cx=\"1526.78\" cy=\"1445.72\" r=\"2\"/>\n",
       "<circle clip-path=\"url(#clip402)\" style=\"fill:#009af9; stroke:none; fill-opacity:0\" cx=\"1545.12\" cy=\"1445.72\" r=\"2\"/>\n",
       "<circle clip-path=\"url(#clip402)\" style=\"fill:#009af9; stroke:none; fill-opacity:0\" cx=\"1563.45\" cy=\"1445.72\" r=\"2\"/>\n",
       "<circle clip-path=\"url(#clip402)\" style=\"fill:#009af9; stroke:none; fill-opacity:0\" cx=\"1581.79\" cy=\"1445.72\" r=\"2\"/>\n",
       "<circle clip-path=\"url(#clip402)\" style=\"fill:#009af9; stroke:none; fill-opacity:0\" cx=\"1600.12\" cy=\"1445.72\" r=\"2\"/>\n",
       "<circle clip-path=\"url(#clip402)\" style=\"fill:#009af9; stroke:none; fill-opacity:0\" cx=\"1618.46\" cy=\"1445.72\" r=\"2\"/>\n",
       "<circle clip-path=\"url(#clip402)\" style=\"fill:#009af9; stroke:none; fill-opacity:0\" cx=\"1636.79\" cy=\"1445.72\" r=\"2\"/>\n",
       "<circle clip-path=\"url(#clip402)\" style=\"fill:#009af9; stroke:none; fill-opacity:0\" cx=\"1655.12\" cy=\"1445.72\" r=\"2\"/>\n",
       "<circle clip-path=\"url(#clip402)\" style=\"fill:#009af9; stroke:none; fill-opacity:0\" cx=\"1673.46\" cy=\"1445.72\" r=\"2\"/>\n",
       "<circle clip-path=\"url(#clip402)\" style=\"fill:#009af9; stroke:none; fill-opacity:0\" cx=\"1691.79\" cy=\"1445.72\" r=\"2\"/>\n",
       "<circle clip-path=\"url(#clip402)\" style=\"fill:#009af9; stroke:none; fill-opacity:0\" cx=\"1710.13\" cy=\"1445.72\" r=\"2\"/>\n",
       "<circle clip-path=\"url(#clip402)\" style=\"fill:#009af9; stroke:none; fill-opacity:0\" cx=\"1728.46\" cy=\"1445.72\" r=\"2\"/>\n",
       "<circle clip-path=\"url(#clip402)\" style=\"fill:#009af9; stroke:none; fill-opacity:0\" cx=\"1746.8\" cy=\"1445.72\" r=\"2\"/>\n",
       "<circle clip-path=\"url(#clip402)\" style=\"fill:#009af9; stroke:none; fill-opacity:0\" cx=\"1765.13\" cy=\"1445.72\" r=\"2\"/>\n",
       "<circle clip-path=\"url(#clip402)\" style=\"fill:#009af9; stroke:none; fill-opacity:0\" cx=\"1783.46\" cy=\"1445.72\" r=\"2\"/>\n",
       "<circle clip-path=\"url(#clip402)\" style=\"fill:#009af9; stroke:none; fill-opacity:0\" cx=\"1801.8\" cy=\"1445.72\" r=\"2\"/>\n",
       "<circle clip-path=\"url(#clip402)\" style=\"fill:#009af9; stroke:none; fill-opacity:0\" cx=\"1820.13\" cy=\"1445.72\" r=\"2\"/>\n",
       "<circle clip-path=\"url(#clip402)\" style=\"fill:#009af9; stroke:none; fill-opacity:0\" cx=\"1838.47\" cy=\"1445.72\" r=\"2\"/>\n",
       "<circle clip-path=\"url(#clip402)\" style=\"fill:#009af9; stroke:none; fill-opacity:0\" cx=\"1856.8\" cy=\"1445.72\" r=\"2\"/>\n",
       "<circle clip-path=\"url(#clip402)\" style=\"fill:#009af9; stroke:none; fill-opacity:0\" cx=\"1875.13\" cy=\"1445.72\" r=\"2\"/>\n",
       "<circle clip-path=\"url(#clip402)\" style=\"fill:#009af9; stroke:none; fill-opacity:0\" cx=\"1893.47\" cy=\"1445.72\" r=\"2\"/>\n",
       "<circle clip-path=\"url(#clip402)\" style=\"fill:#009af9; stroke:none; fill-opacity:0\" cx=\"1911.8\" cy=\"1445.72\" r=\"2\"/>\n",
       "<circle clip-path=\"url(#clip402)\" style=\"fill:#009af9; stroke:none; fill-opacity:0\" cx=\"1930.14\" cy=\"1445.72\" r=\"2\"/>\n",
       "<circle clip-path=\"url(#clip402)\" style=\"fill:#009af9; stroke:none; fill-opacity:0\" cx=\"1948.47\" cy=\"1445.72\" r=\"2\"/>\n",
       "<circle clip-path=\"url(#clip402)\" style=\"fill:#009af9; stroke:none; fill-opacity:0\" cx=\"1966.81\" cy=\"1445.72\" r=\"2\"/>\n",
       "<circle clip-path=\"url(#clip402)\" style=\"fill:#009af9; stroke:none; fill-opacity:0\" cx=\"1985.14\" cy=\"1445.72\" r=\"2\"/>\n",
       "<circle clip-path=\"url(#clip402)\" style=\"fill:#009af9; stroke:none; fill-opacity:0\" cx=\"2003.47\" cy=\"1445.72\" r=\"2\"/>\n",
       "<circle clip-path=\"url(#clip402)\" style=\"fill:#009af9; stroke:none; fill-opacity:0\" cx=\"2021.81\" cy=\"1445.72\" r=\"2\"/>\n",
       "<circle clip-path=\"url(#clip402)\" style=\"fill:#009af9; stroke:none; fill-opacity:0\" cx=\"2040.14\" cy=\"1445.72\" r=\"2\"/>\n",
       "<circle clip-path=\"url(#clip402)\" style=\"fill:#009af9; stroke:none; fill-opacity:0\" cx=\"2058.48\" cy=\"1445.72\" r=\"2\"/>\n",
       "<circle clip-path=\"url(#clip402)\" style=\"fill:#009af9; stroke:none; fill-opacity:0\" cx=\"2076.81\" cy=\"1445.72\" r=\"2\"/>\n",
       "<circle clip-path=\"url(#clip402)\" style=\"fill:#009af9; stroke:none; fill-opacity:0\" cx=\"2095.15\" cy=\"1445.72\" r=\"2\"/>\n",
       "<circle clip-path=\"url(#clip402)\" style=\"fill:#009af9; stroke:none; fill-opacity:0\" cx=\"2113.48\" cy=\"1445.72\" r=\"2\"/>\n",
       "<circle clip-path=\"url(#clip402)\" style=\"fill:#009af9; stroke:none; fill-opacity:0\" cx=\"2131.81\" cy=\"1445.72\" r=\"2\"/>\n",
       "<circle clip-path=\"url(#clip402)\" style=\"fill:#009af9; stroke:none; fill-opacity:0\" cx=\"2150.15\" cy=\"1445.72\" r=\"2\"/>\n",
       "<circle clip-path=\"url(#clip402)\" style=\"fill:#009af9; stroke:none; fill-opacity:0\" cx=\"2168.48\" cy=\"1445.72\" r=\"2\"/>\n",
       "<circle clip-path=\"url(#clip402)\" style=\"fill:#009af9; stroke:none; fill-opacity:0\" cx=\"2186.82\" cy=\"1445.72\" r=\"2\"/>\n",
       "<circle clip-path=\"url(#clip402)\" style=\"fill:#009af9; stroke:none; fill-opacity:0\" cx=\"2205.15\" cy=\"1445.72\" r=\"2\"/>\n",
       "<circle clip-path=\"url(#clip402)\" style=\"fill:#009af9; stroke:none; fill-opacity:0\" cx=\"2223.49\" cy=\"1437.54\" r=\"2\"/>\n",
       "<path clip-path=\"url(#clip400)\" d=\"\n",
       "M1984.91 198.898 L2279.97 198.898 L2279.97 95.2176 L1984.91 95.2176  Z\n",
       "  \" fill=\"#ffffff\" fill-rule=\"evenodd\" fill-opacity=\"1\"/>\n",
       "<polyline clip-path=\"url(#clip400)\" style=\"stroke:#000000; stroke-linecap:butt; stroke-linejoin:round; stroke-width:4; stroke-opacity:1; fill:none\" points=\"\n",
       "  1984.91,198.898 2279.97,198.898 2279.97,95.2176 1984.91,95.2176 1984.91,198.898 \n",
       "  \"/>\n",
       "<path clip-path=\"url(#clip400)\" d=\"\n",
       "M2009.17 167.794 L2154.75 167.794 L2154.75 126.322 L2009.17 126.322 L2009.17 167.794  Z\n",
       "  \" fill=\"#009af9\" fill-rule=\"evenodd\" fill-opacity=\"1\"/>\n",
       "<polyline clip-path=\"url(#clip400)\" style=\"stroke:#000000; stroke-linecap:butt; stroke-linejoin:round; stroke-width:4; stroke-opacity:1; fill:none\" points=\"\n",
       "  2009.17,167.794 2154.75,167.794 2154.75,126.322 2009.17,126.322 2009.17,167.794 \n",
       "  \"/>\n",
       "<path clip-path=\"url(#clip400)\" d=\"M2192.86 166.745 Q2191.05 171.375 2189.34 172.787 Q2187.62 174.199 2184.75 174.199 L2181.35 174.199 L2181.35 170.634 L2183.85 170.634 Q2185.61 170.634 2186.58 169.8 Q2187.55 168.967 2188.73 165.865 L2189.5 163.921 L2179.01 138.412 L2183.53 138.412 L2191.63 158.689 L2199.73 138.412 L2204.24 138.412 L2192.86 166.745 Z\" fill=\"#000000\" fill-rule=\"evenodd\" fill-opacity=\"1\" /><path clip-path=\"url(#clip400)\" d=\"M2211.54 160.402 L2219.17 160.402 L2219.17 134.037 L2210.86 135.703 L2210.86 131.444 L2219.13 129.778 L2223.8 129.778 L2223.8 160.402 L2231.44 160.402 L2231.44 164.338 L2211.54 164.338 L2211.54 160.402 Z\" fill=\"#000000\" fill-rule=\"evenodd\" fill-opacity=\"1\" /></svg>\n"
      ]
     },
     "execution_count": 46,
     "metadata": {},
     "output_type": "execute_result"
    }
   ],
   "source": [
    "histogram(maxLods)"
   ]
  },
  {
   "cell_type": "code",
   "execution_count": 47,
   "id": "48b0f8ef-24bd-496a-9c3b-5c6e2ef2ab5c",
   "metadata": {},
   "outputs": [
    {
     "data": {
      "text/plain": [
       "Matrix{Float64} (alias for Array{Float64, 2})"
      ]
     },
     "execution_count": 47,
     "metadata": {},
     "output_type": "execute_result"
    }
   ],
   "source": [
    "typeof(pheno_y)"
   ]
  },
  {
   "cell_type": "code",
   "execution_count": 48,
   "id": "b25c608f-1737-4114-ac66-b0576f191452",
   "metadata": {},
   "outputs": [
    {
     "name": "stdout",
     "output_type": "stream",
     "text": [
      "  18.583 ms (101880 allocations: 34.44 MiB)\n"
     ]
    }
   ],
   "source": [
    "@btime scan(pheno_y, geno, kinship);"
   ]
  },
  {
   "cell_type": "code",
   "execution_count": 49,
   "id": "c88475d8-c509-4d82-bad2-ab94a0670bee",
   "metadata": {},
   "outputs": [
    {
     "name": "stdout",
     "output_type": "stream",
     "text": [
      "  27.824 ms (161026 allocations: 49.72 MiB)\n"
     ]
    }
   ],
   "source": [
    "@btime scan_perms(pheno_y, geno, kinship; nperms = 0);"
   ]
  },
  {
   "cell_type": "code",
   "execution_count": 61,
   "id": "e90f55f6-f22b-4f21-9acd-5611ec696202",
   "metadata": {},
   "outputs": [
    {
     "name": "stdout",
     "output_type": "stream",
     "text": [
      "  27.620 ms (161026 allocations: 49.72 MiB)\n"
     ]
    }
   ],
   "source": [
    "@btime scan_perms(pheno_y, geno, kinship; nperms = 0);"
   ]
  },
  {
   "cell_type": "code",
   "execution_count": 50,
   "id": "aaad1e16-6f96-4362-b63e-0c2f6259d75c",
   "metadata": {},
   "outputs": [
    {
     "name": "stdout",
     "output_type": "stream",
     "text": [
      "  7.113 s (205853 allocations: 13.63 GiB)\n"
     ]
    }
   ],
   "source": [
    "@btime getMaxLod_manyTraits(pheno, geno, kinship; ntraits = 1, nperms = 1024);"
   ]
  },
  {
   "cell_type": "code",
   "execution_count": 51,
   "id": "8e453517-c1f1-4c25-988b-1cdef5d8abda",
   "metadata": {},
   "outputs": [
    {
     "name": "stdout",
     "output_type": "stream",
     "text": [
      "  4.702 s (16198059 allocations: 6.18 GiB)\n"
     ]
    }
   ],
   "source": [
    "@btime getMaxLod_manyTraits(pheno, geno, kinship; ntraits = 100, nperms = 1);"
   ]
  },
  {
   "cell_type": "code",
   "execution_count": 52,
   "id": "58be1193-d17d-4ca9-8895-0dc95b746177",
   "metadata": {},
   "outputs": [
    {
     "name": "stdout",
     "output_type": "stream",
     "text": [
      "  47.982 s (161743910 allocations: 61.70 GiB)\n"
     ]
    }
   ],
   "source": [
    "@btime getMaxLod_manyTraits(pheno, geno, kinship; ntraits = 1000, nperms = 1);"
   ]
  },
  {
   "cell_type": "code",
   "execution_count": 53,
   "id": "0c118173-d0a6-4409-910f-49ed98dc8654",
   "metadata": {},
   "outputs": [
    {
     "name": "stdout",
     "output_type": "stream",
     "text": [
      "  12.493 s (16214259 allocations: 18.25 GiB)\n"
     ]
    }
   ],
   "source": [
    "@btime getMaxLod_manyTraits(pheno, geno, kinship; ntraits = 100, nperms = 10);"
   ]
  },
  {
   "cell_type": "code",
   "execution_count": 54,
   "id": "e8a54ee8-ca48-44a5-ab67-f22e3db53192",
   "metadata": {},
   "outputs": [
    {
     "name": "stdout",
     "output_type": "stream",
     "text": [
      "  123.939 s (161905911 allocations: 182.43 GiB)\n"
     ]
    }
   ],
   "source": [
    "@btime getMaxLod_manyTraits(pheno, geno, kinship; ntraits = 1000, nperms = 10);"
   ]
  },
  {
   "cell_type": "code",
   "execution_count": 55,
   "id": "88f45717-11e1-462c-b22a-8e3ab0a5b13e",
   "metadata": {},
   "outputs": [
    {
     "name": "stdout",
     "output_type": "stream",
     "text": [
      "  17.916 s (16232260 allocations: 31.54 GiB)\n"
     ]
    }
   ],
   "source": [
    "@btime getMaxLod_manyTraits(pheno, geno, kinship; ntraits = 100, nperms = 20);"
   ]
  },
  {
   "cell_type": "code",
   "execution_count": 56,
   "id": "01baef39-01bc-4060-83fb-00535cc65680",
   "metadata": {},
   "outputs": [
    {
     "name": "stdout",
     "output_type": "stream",
     "text": [
      "  183.081 s (162085911 allocations: 315.33 GiB)\n"
     ]
    }
   ],
   "source": [
    "@btime getMaxLod_manyTraits(pheno, geno, kinship; ntraits = 1000, nperms = 20);"
   ]
  },
  {
   "cell_type": "code",
   "execution_count": 57,
   "id": "b9e90d15-007a-42b8-ba5d-bdd0f6e05632",
   "metadata": {},
   "outputs": [
    {
     "name": "stdout",
     "output_type": "stream",
     "text": [
      "  87.673 s (18572660 allocations: 137.50 GiB)\n"
     ]
    }
   ],
   "source": [
    "@btime getMaxLod_manyTraits(pheno, geno, kinship; ntraits = 100, nperms = 100);"
   ]
  },
  {
   "cell_type": "code",
   "execution_count": 158,
   "id": "b8a7a137-6469-4dfa-a6a9-b4a7b7dd8ac9",
   "metadata": {},
   "outputs": [
    {
     "name": "stdout",
     "output_type": "stream",
     "text": [
      "  1109.673 s (185488911 allocations: 1374.91 GiB)\n"
     ]
    }
   ],
   "source": [
    "@btime getMaxLod_manyTraits(pheno, geno, kinship; ntraits = 1000, nperms = 100);"
   ]
  },
  {
   "cell_type": "code",
   "execution_count": null,
   "id": "f312ae90-c872-4e53-b7c8-793e19588262",
   "metadata": {},
   "outputs": [],
   "source": [
    "maxLods_1000Traits = getMaxLod_manyTraits(pheno, geno, kinship; ntraits = 1000, nperms = 100);"
   ]
  },
  {
   "cell_type": "code",
   "execution_count": null,
   "id": "cc8f7a8c-a3d4-48d5-b794-cc2f71915b42",
   "metadata": {},
   "outputs": [],
   "source": [
    "size(maxLods_1000Traits)"
   ]
  },
  {
   "cell_type": "code",
   "execution_count": null,
   "id": "4623fa3b-786b-4bb5-97d7-135bc67d59d6",
   "metadata": {},
   "outputs": [],
   "source": [
    "quantile_1000Traits = mapslices(x -> quantile(x, 0.95), maxLods_1000Traits; dims = 1)"
   ]
  },
  {
   "cell_type": "code",
   "execution_count": null,
   "id": "148b4e6b-6f44-4c41-9b94-d3b1e299dc76",
   "metadata": {},
   "outputs": [],
   "source": [
    "histogram(vec(quantile_1000Traits), bins = 100)"
   ]
  },
  {
   "cell_type": "code",
   "execution_count": null,
   "id": "1c8510c0-c3b4-4ca4-a282-ff8e46086816",
   "metadata": {},
   "outputs": [],
   "source": [
    "findmax(quantile_1000Traits)"
   ]
  },
  {
   "cell_type": "code",
   "execution_count": null,
   "id": "4666e8f2-63c3-4314-8324-4ead02ba3b11",
   "metadata": {},
   "outputs": [],
   "source": []
  }
 ],
 "metadata": {
  "kernelspec": {
   "display_name": "Julia 1.6.2",
   "language": "julia",
   "name": "julia-1.6"
  },
  "language_info": {
   "file_extension": ".jl",
   "mimetype": "application/julia",
   "name": "julia",
   "version": "1.6.2"
  }
 },
 "nbformat": 4,
 "nbformat_minor": 5
}
