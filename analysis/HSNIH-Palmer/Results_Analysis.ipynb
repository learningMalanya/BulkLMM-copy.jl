{
 "cells": [
  {
   "cell_type": "code",
   "execution_count": 2,
   "id": "2f7c4143-fcdb-4a26-961d-2b01dde79f2a",
   "metadata": {},
   "outputs": [],
   "source": [
    "using CSV;\n",
    "using DataFrames;\n",
    "using DelimitedFiles;\n",
    "using LinearAlgebra;\n",
    "using Plots"
   ]
  },
  {
   "cell_type": "code",
   "execution_count": 3,
   "id": "780b3dfa-5980-4628-b64e-475f1df3de78",
   "metadata": {},
   "outputs": [
    {
     "data": {
      "text/plain": [
       "\"/home/zyu20/git/BulkLMM.jl/analysis/HSNIH-Palmer\""
      ]
     },
     "execution_count": 3,
     "metadata": {},
     "output_type": "execute_result"
    }
   ],
   "source": [
    "pwd()"
   ]
  },
  {
   "cell_type": "code",
   "execution_count": 5,
   "id": "52469c51-d45d-40ba-8c7b-8bf8e47d74f4",
   "metadata": {},
   "outputs": [],
   "source": [
    "results_BulkLMM = CSV.read(\"output/BulkLMM_results.csv\", DataFrame; header = false) |> Matrix;"
   ]
  },
  {
   "cell_type": "code",
   "execution_count": 11,
   "id": "404fceb4-af0f-4b57-bed5-322e775ec901",
   "metadata": {},
   "outputs": [
    {
     "data": {
      "text/plain": [
       "p2lod (generic function with 1 method)"
      ]
     },
     "execution_count": 11,
     "metadata": {},
     "output_type": "execute_result"
    }
   ],
   "source": [
    "function p2lod(pval::Float64)\n",
    "    \n",
    "    lrs = -log10(pval)*2*log(10)\n",
    "    lod = lrs/(2*log(10))\n",
    "    \n",
    "    # return lrs\n",
    "    return lod\n",
    "\n",
    "end"
   ]
  },
  {
   "cell_type": "code",
   "execution_count": 12,
   "id": "1e4e9100-494d-4857-9a6d-bb92dfe8d933",
   "metadata": {},
   "outputs": [],
   "source": [
    "lods_gemma = map(x -> p2lod(x), results_GEMMA[2:end, 10]);"
   ]
  },
  {
   "cell_type": "code",
   "execution_count": 13,
   "id": "0d33f64f-d62e-4419-8448-ba4d118c776f",
   "metadata": {},
   "outputs": [],
   "source": [
    "lods_BulkLMM = results_BulkLMM[3:end, 1];"
   ]
  },
  {
   "cell_type": "code",
   "execution_count": 20,
   "id": "0b7ca529-a377-44d5-88b5-113ad14f59aa",
   "metadata": {},
   "outputs": [
    {
     "data": {
      "text/plain": [
       "102279"
      ]
     },
     "execution_count": 20,
     "metadata": {},
     "output_type": "execute_result"
    }
   ],
   "source": [
    "length(lods_BulkLMM)"
   ]
  },
  {
   "cell_type": "code",
   "execution_count": 14,
   "id": "931af0fb-2690-45d7-b577-33e5570b695d",
   "metadata": {},
   "outputs": [
    {
     "data": {
      "text/plain": [
       "6×2 Matrix{Float64}:\n",
       " 2.5677    1.95344\n",
       " 0.468855  0.197911\n",
       " 2.60785   1.99015\n",
       " 1.94852   1.39496\n",
       " 2.13121   1.55804\n",
       " 1.98993   1.43178"
      ]
     },
     "execution_count": 14,
     "metadata": {},
     "output_type": "execute_result"
    }
   ],
   "source": [
    "summary = hcat(lods_gemma, lods_BulkLMM);\n",
    "summary[1:6, :]"
   ]
  },
  {
   "cell_type": "code",
   "execution_count": 30,
   "id": "db222959-1602-4a48-8067-eada8a238b83",
   "metadata": {},
   "outputs": [
    {
     "data": {
      "text/plain": [
       "0.5"
      ]
     },
     "execution_count": 30,
     "metadata": {},
     "output_type": "execute_result"
    }
   ],
   "source": [
    "tol = 0.5"
   ]
  },
  {
   "cell_type": "code",
   "execution_count": 31,
   "id": "896946c4-7750-4f42-b0ab-a4bf3dfeb6a2",
   "metadata": {},
   "outputs": [
    {
     "data": {
      "text/plain": [
       "0.9700427262683444"
      ]
     },
     "execution_count": 31,
     "metadata": {},
     "output_type": "execute_result"
    }
   ],
   "source": [
    "sum((lods_gemma .- lods_BulkLMM) .<= tol)/102279"
   ]
  },
  {
   "cell_type": "code",
   "execution_count": 15,
   "id": "4c9b6b65-b987-4968-9ba5-e6e7af231de8",
   "metadata": {},
   "outputs": [
    {
     "data": {
      "text/plain": [
       "3.0"
      ]
     },
     "execution_count": 15,
     "metadata": {},
     "output_type": "execute_result"
    }
   ],
   "source": [
    "thr = 3.0"
   ]
  },
  {
   "cell_type": "code",
   "execution_count": 16,
   "id": "63804786-a6db-4ced-93c3-814627af0a4a",
   "metadata": {},
   "outputs": [
    {
     "data": {
      "text/plain": [
       "6-element Vector{Float64}:\n",
       " 3.076760458662261\n",
       " 3.1808702870693564\n",
       " 3.212289714830687\n",
       " 3.2808192698589966\n",
       " 3.011824418149289\n",
       " 3.1575146035897332"
      ]
     },
     "execution_count": 16,
     "metadata": {},
     "output_type": "execute_result"
    }
   ],
   "source": [
    "lods_BulkLMM[lods_BulkLMM .> thr]"
   ]
  },
  {
   "cell_type": "code",
   "execution_count": 17,
   "id": "e1958060-73a3-4e94-94c4-6c9bf2305c39",
   "metadata": {},
   "outputs": [
    {
     "data": {
      "text/plain": [
       "6-element Vector{Int64}:\n",
       " 83887\n",
       " 83893\n",
       " 83904\n",
       " 83915\n",
       " 83918\n",
       " 83922"
      ]
     },
     "execution_count": 17,
     "metadata": {},
     "output_type": "execute_result"
    }
   ],
   "source": [
    "sig_BulkLMM = findall(x -> (x>thr), lods_BulkLMM)"
   ]
  },
  {
   "cell_type": "code",
   "execution_count": 17,
   "id": "7a27bf36-110a-4107-9762-d4e5e0227a83",
   "metadata": {},
   "outputs": [
    {
     "data": {
      "text/plain": [
       "47-element Vector{Int64}:\n",
       "  2269\n",
       " 20089\n",
       " 20096\n",
       " 20118\n",
       " 20122\n",
       " 20178\n",
       " 20184\n",
       " 20187\n",
       " 20188\n",
       " 23100\n",
       " 23118\n",
       " 48823\n",
       " 76536\n",
       "     ⋮\n",
       " 84263\n",
       " 84266\n",
       " 84269\n",
       " 84275\n",
       " 84468\n",
       " 84476\n",
       " 85249\n",
       " 85252\n",
       " 85259\n",
       " 85313\n",
       " 89852\n",
       " 89855"
      ]
     },
     "execution_count": 17,
     "metadata": {},
     "output_type": "execute_result"
    }
   ],
   "source": [
    "sig_gemma = findall(x -> (x>thr), lods_gemma)"
   ]
  },
  {
   "cell_type": "code",
   "execution_count": 18,
   "id": "6e6bd7bb-cb64-465c-8599-6354e0082dfe",
   "metadata": {},
   "outputs": [
    {
     "data": {
      "text/plain": [
       "6-element Vector{Bool}:\n",
       " 1\n",
       " 1\n",
       " 1\n",
       " 1\n",
       " 1\n",
       " 1"
      ]
     },
     "execution_count": 18,
     "metadata": {},
     "output_type": "execute_result"
    }
   ],
   "source": [
    "map(x -> x in sig_gemma, sig_BulkLMM) "
   ]
  }
 ],
 "metadata": {
  "kernelspec": {
   "display_name": "Julia 1.7.3",
   "language": "julia",
   "name": "julia-1.7"
  },
  "language_info": {
   "file_extension": ".jl",
   "mimetype": "application/julia",
   "name": "julia",
   "version": "1.7.3"
  }
 },
 "nbformat": 4,
 "nbformat_minor": 5
}
