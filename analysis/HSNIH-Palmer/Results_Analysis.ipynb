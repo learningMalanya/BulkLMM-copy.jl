{
 "cells": [
  {
   "cell_type": "code",
   "execution_count": 1,
   "id": "2f7c4143-fcdb-4a26-961d-2b01dde79f2a",
   "metadata": {},
   "outputs": [],
   "source": [
    "using CSV;\n",
    "using DataFrames;\n",
    "using DelimitedFiles;\n",
    "using LinearAlgebra;\n",
    "using Plots\n",
    "using Distributions"
   ]
  },
  {
   "cell_type": "code",
   "execution_count": 2,
   "id": "780b3dfa-5980-4628-b64e-475f1df3de78",
   "metadata": {},
   "outputs": [
    {
     "data": {
      "text/plain": [
       "\"/home/xyu/github/BulkLMM.jl/analysis/HSNIH-Palmer\""
      ]
     },
     "execution_count": 2,
     "metadata": {},
     "output_type": "execute_result"
    }
   ],
   "source": [
    "pwd()"
   ]
  },
  {
   "cell_type": "code",
   "execution_count": 3,
   "id": "83bb7b25-d447-4658-8864-4584cb16c585",
   "metadata": {},
   "outputs": [],
   "source": [
    "include(\"../../test/testHelper.jl\");"
   ]
  },
  {
   "cell_type": "code",
   "execution_count": 4,
   "id": "52469c51-d45d-40ba-8c7b-8bf8e47d74f4",
   "metadata": {},
   "outputs": [],
   "source": [
    "results_BulkLMM = CSV.read(\"output/BulkLMM_results.csv\", DataFrame; header = false) |> Matrix;"
   ]
  },
  {
   "cell_type": "code",
   "execution_count": 5,
   "id": "2688403e-2dcf-402f-a581-e97d482474b7",
   "metadata": {},
   "outputs": [],
   "source": [
    "results_GEMMA = readdlm(\"output/gemma_results.txt.assoc.txt\", '\\t');"
   ]
  },
  {
   "cell_type": "code",
   "execution_count": 6,
   "id": "f2d3be83-2bfb-4580-b14e-fb3678e9cec9",
   "metadata": {},
   "outputs": [
    {
     "data": {
      "text/plain": [
       "102280×10 Matrix{Any}:\n",
       "   \"chr\"  \"rs\"                \"ps\"   \"n_miss\"  …   \"l_mle\"     \"p_lrt\"\n",
       " -9       \"chr1:759319\"     -9      0             0.0102581   0.0027058\n",
       " -9       \"chr1:1154955\"    -9      0             0.00803717  0.339739\n",
       " -9       \"chr1:1649028\"    -9      0             0.010183    0.00246692\n",
       " -9       \"chr1:1649332\"    -9      0             0.00981839  0.0112586\n",
       " -9       \"chr1:1651967\"    -9      0          …  0.0097179   0.0073924\n",
       " -9       \"chr1:1671721\"    -9      0             0.00985885  0.0102347\n",
       " -9       \"chr1:1685077\"    -9      0             0.00758233  0.338225\n",
       " -9       \"chr1:1691966\"    -9      0             0.0139525   0.0798655\n",
       " -9       \"chr1:1754257\"    -9      0             0.0147275   0.0463252\n",
       " -9       \"chr1:1755622\"    -9      0          …  0.00957821  0.00737652\n",
       " -9       \"chr1:1779904\"    -9      0             0.00596057  0.145273\n",
       " -9       \"chr1:1782572\"    -9      0             0.014643    0.045462\n",
       "  ⋮                                            ⋱              \n",
       " -9       \"chr20:52242653\"  -9      0             0.00938276  0.485354\n",
       " -9       \"chr20:52256877\"  -9      0             0.00939464  0.481326\n",
       " -9       \"chr20:52413028\"  -9      0          …  0.00891463  0.237581\n",
       " -9       \"chr20:52557432\"  -9      0             0.00907391  0.343286\n",
       " -9       \"chr20:52576695\"  -9      0             0.00900585  0.325008\n",
       " -9       \"chr20:52586991\"  -9      0             0.00903882  0.288659\n",
       " -9       \"chr20:52591546\"  -9      0             0.00900219  0.323291\n",
       " -9       \"chr20:52598979\"  -9      0          …  0.00905409  0.299282\n",
       " -9       \"chr20:52650186\"  -9      0             0.00919791  0.389171\n",
       " -9       \"chr20:52653302\"  -9      0             0.00921632  0.397591\n",
       " -9       \"chr20:52669250\"  -9      0             0.00928219  0.435767\n",
       " -9       \"chr20:52915752\"  -9      0             0.0088615   0.367765"
      ]
     },
     "execution_count": 6,
     "metadata": {},
     "output_type": "execute_result"
    }
   ],
   "source": [
    "results_GEMMA"
   ]
  },
  {
   "cell_type": "code",
   "execution_count": 7,
   "id": "b2b37f5a-e8b9-4d69-8e4a-7410cf9b0bbe",
   "metadata": {},
   "outputs": [],
   "source": [
    "using Distributions"
   ]
  },
  {
   "cell_type": "code",
   "execution_count": 8,
   "id": "3ddbf246-0eb3-4c53-8b02-5d6601e37f48",
   "metadata": {},
   "outputs": [
    {
     "data": {
      "text/plain": [
       "p2lod (generic function with 1 method)"
      ]
     },
     "execution_count": 8,
     "metadata": {},
     "output_type": "execute_result"
    }
   ],
   "source": [
    "function p2lod(pval::Float64, df::Int64)\n",
    "    \n",
    "    lrs = invlogcdf(Chisq(df), log(1-pval))\n",
    "    lod = lrs/(2*log(10))\n",
    "\n",
    "    return lod\n",
    "\n",
    "end"
   ]
  },
  {
   "cell_type": "code",
   "execution_count": 9,
   "id": "85830b32-c040-444e-91d7-819d0bbf0595",
   "metadata": {},
   "outputs": [],
   "source": [
    "lods_gemma = map(x -> p2lod(x, 1), results_GEMMA[2:end, 10]);"
   ]
  },
  {
   "cell_type": "code",
   "execution_count": 16,
   "id": "5d35e4b5-65c9-445e-9cd5-041e3449ed37",
   "metadata": {},
   "outputs": [
    {
     "data": {
      "text/plain": [
       "2×1 Matrix{Float64}:\n",
       " 127.51567136674777\n",
       "   0.010559416521699195"
      ]
     },
     "execution_count": 16,
     "metadata": {},
     "output_type": "execute_result"
    }
   ],
   "source": [
    "results_BulkLMM[1:2, :]"
   ]
  },
  {
   "cell_type": "code",
   "execution_count": 10,
   "id": "0d33f64f-d62e-4419-8448-ba4d118c776f",
   "metadata": {},
   "outputs": [],
   "source": [
    "lods_BulkLMM = results_BulkLMM[3:end, 1];"
   ]
  },
  {
   "cell_type": "code",
   "execution_count": 11,
   "id": "0b7ca529-a377-44d5-88b5-113ad14f59aa",
   "metadata": {},
   "outputs": [
    {
     "data": {
      "text/plain": [
       "102279"
      ]
     },
     "execution_count": 11,
     "metadata": {},
     "output_type": "execute_result"
    }
   ],
   "source": [
    "length(lods_BulkLMM)"
   ]
  },
  {
   "cell_type": "code",
   "execution_count": 12,
   "id": "931af0fb-2690-45d7-b577-33e5570b695d",
   "metadata": {},
   "outputs": [
    {
     "data": {
      "text/plain": [
       "102279×2 Matrix{Float64}:\n",
       " 1.95344   1.95344\n",
       " 0.197911  0.197911\n",
       " 1.99015   1.99015\n",
       " 1.39496   1.39496\n",
       " 1.55804   1.55804\n",
       " 1.43178   1.43178\n",
       " 0.199156  0.199156\n",
       " 0.666129  0.666129\n",
       " 0.862016  0.862016\n",
       " 1.55888   1.55888\n",
       " 0.460611  0.460611\n",
       " 0.868897  0.868897\n",
       " 0.250141  0.250141\n",
       " ⋮         \n",
       " 0.105709  0.105709\n",
       " 0.107674  0.107674\n",
       " 0.302896  0.302896\n",
       " 0.195024  0.195024\n",
       " 0.210348  0.210348\n",
       " 0.244478  0.244478\n",
       " 0.211846  0.211846\n",
       " 0.233952  0.233952\n",
       " 0.161021  0.161021\n",
       " 0.15539   0.15539\n",
       " 0.131896  0.131896\n",
       " 0.17615   0.17615"
      ]
     },
     "execution_count": 12,
     "metadata": {},
     "output_type": "execute_result"
    }
   ],
   "source": [
    "summary = hcat(lods_gemma, lods_BulkLMM);\n",
    "summary"
   ]
  },
  {
   "cell_type": "code",
   "execution_count": 13,
   "id": "896946c4-7750-4f42-b0ab-a4bf3dfeb6a2",
   "metadata": {},
   "outputs": [
    {
     "data": {
      "text/plain": [
       "0.49495986468385494"
      ]
     },
     "execution_count": 13,
     "metadata": {},
     "output_type": "execute_result"
    }
   ],
   "source": [
    "sum((lods_gemma .>= lods_BulkLMM) )/102279"
   ]
  },
  {
   "cell_type": "code",
   "execution_count": 14,
   "id": "eedacbac-76a6-402c-8be7-b358d1ae3276",
   "metadata": {},
   "outputs": [
    {
     "data": {
      "text/plain": [
       "0.505040135316145"
      ]
     },
     "execution_count": 14,
     "metadata": {},
     "output_type": "execute_result"
    }
   ],
   "source": [
    "sum((lods_gemma .< lods_BulkLMM))/102279"
   ]
  },
  {
   "cell_type": "code",
   "execution_count": 15,
   "id": "3dfc5ece-7007-4878-b381-7dbeeab62de3",
   "metadata": {},
   "outputs": [
    {
     "data": {
      "text/plain": [
       "1.20668182293601e-7"
      ]
     },
     "execution_count": 15,
     "metadata": {},
     "output_type": "execute_result"
    }
   ],
   "source": [
    "sumSqDiff(reshape(lods_gemma, :, 1), reshape(lods_BulkLMM, :, 1))"
   ]
  },
  {
   "cell_type": "code",
   "execution_count": null,
   "id": "d93525de-28db-4b29-85be-5c9768a1049f",
   "metadata": {},
   "outputs": [],
   "source": []
  },
  {
   "cell_type": "code",
   "execution_count": null,
   "id": "42e2427c-d723-43a1-8b8c-3e941a6a09c7",
   "metadata": {},
   "outputs": [],
   "source": []
  }
 ],
 "metadata": {
  "kernelspec": {
   "display_name": "Julia 1.8.1",
   "language": "julia",
   "name": "julia-1.8"
  },
  "language_info": {
   "file_extension": ".jl",
   "mimetype": "application/julia",
   "name": "julia",
   "version": "1.8.1"
  }
 },
 "nbformat": 4,
 "nbformat_minor": 5
}
