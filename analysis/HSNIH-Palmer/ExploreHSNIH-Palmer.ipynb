{
 "cells": [
  {
   "cell_type": "code",
   "execution_count": 1,
   "id": "90731f9a-b9f9-4206-a8f0-398c081bd062",
   "metadata": {},
   "outputs": [],
   "source": [
    "#using Pkg\n",
    "#Pkg.add(\"GeneNetworkAPI\")"
   ]
  },
  {
   "cell_type": "code",
   "execution_count": 2,
   "id": "8b15a751-a522-49c5-ab8d-94a9a4bb0489",
   "metadata": {},
   "outputs": [],
   "source": [
    "using Helium;\n",
    "using DataFrames;\n",
    "using CSV;\n",
    "using GeneNetworkAPI;"
   ]
  },
  {
   "cell_type": "code",
   "execution_count": 3,
   "id": "f9c09478-ed0d-46b4-8a19-c3ce5a5500e6",
   "metadata": {},
   "outputs": [
    {
     "data": {
      "text/plain": [
       "\"/home/xyu/github/BulkLMM.jl/analysis/HSNIH-Palmer\""
      ]
     },
     "execution_count": 3,
     "metadata": {},
     "output_type": "execute_result"
    }
   ],
   "source": [
    "pwd()"
   ]
  },
  {
   "cell_type": "code",
   "execution_count": 4,
   "id": "f45889cc-7148-4fb9-a2f7-21f656cf2371",
   "metadata": {},
   "outputs": [],
   "source": [
    "pheno_10441 = get_pheno(\"HSNIH-Palmer\", \"10441\");"
   ]
  },
  {
   "cell_type": "code",
   "execution_count": 5,
   "id": "f35e6706-cb97-42de-97d6-543e062878cd",
   "metadata": {},
   "outputs": [
    {
     "data": {
      "text/plain": [
       "(4099, 4)"
      ]
     },
     "execution_count": 5,
     "metadata": {},
     "output_type": "execute_result"
    }
   ],
   "source": [
    "size(pheno_10441)"
   ]
  },
  {
   "cell_type": "code",
   "execution_count": 6,
   "id": "fbdabf3a-6f60-4f55-8a12-f03959e75516",
   "metadata": {},
   "outputs": [
    {
     "data": {
      "text/html": [
       "<div class=\"data-frame\"><p>6 rows × 4 columns</p><table class=\"data-frame\"><thead><tr><th></th><th>data_id</th><th>sample_name</th><th>sample_name_2</th><th>value</th></tr><tr><th></th><th title=\"Int64\">Int64</th><th title=\"String\">String</th><th title=\"String\">String</th><th title=\"Float64\">Float64</th></tr></thead><tbody><tr><th>1</th><td>41013852</td><td>00071F4FAF</td><td>00071F4FAF</td><td>67.0</td></tr><tr><th>2</th><td>41013852</td><td>00071FB160</td><td>00071FB160</td><td>32.0</td></tr><tr><th>3</th><td>41013852</td><td>0007207A73</td><td>0007207A73</td><td>70.0</td></tr><tr><th>4</th><td>41013852</td><td>0007213055</td><td>0007213055</td><td>45.0</td></tr><tr><th>5</th><td>41013852</td><td>0007213615</td><td>0007213615</td><td>59.0</td></tr><tr><th>6</th><td>41013852</td><td>00072136BA</td><td>00072136BA</td><td>38.0</td></tr></tbody></table></div>"
      ],
      "text/latex": [
       "\\begin{tabular}{r|cccc}\n",
       "\t& data\\_id & sample\\_name & sample\\_name\\_2 & value\\\\\n",
       "\t\\hline\n",
       "\t& Int64 & String & String & Float64\\\\\n",
       "\t\\hline\n",
       "\t1 & 41013852 & 00071F4FAF & 00071F4FAF & 67.0 \\\\\n",
       "\t2 & 41013852 & 00071FB160 & 00071FB160 & 32.0 \\\\\n",
       "\t3 & 41013852 & 0007207A73 & 0007207A73 & 70.0 \\\\\n",
       "\t4 & 41013852 & 0007213055 & 0007213055 & 45.0 \\\\\n",
       "\t5 & 41013852 & 0007213615 & 0007213615 & 59.0 \\\\\n",
       "\t6 & 41013852 & 00072136BA & 00072136BA & 38.0 \\\\\n",
       "\\end{tabular}\n"
      ],
      "text/plain": [
       "\u001b[1m6×4 DataFrame\u001b[0m\n",
       "\u001b[1m Row \u001b[0m│\u001b[1m data_id  \u001b[0m\u001b[1m sample_name \u001b[0m\u001b[1m sample_name_2 \u001b[0m\u001b[1m value   \u001b[0m\n",
       "\u001b[1m     \u001b[0m│\u001b[90m Int64    \u001b[0m\u001b[90m String      \u001b[0m\u001b[90m String        \u001b[0m\u001b[90m Float64 \u001b[0m\n",
       "─────┼───────────────────────────────────────────────\n",
       "   1 │ 41013852  00071F4FAF   00071F4FAF        67.0\n",
       "   2 │ 41013852  00071FB160   00071FB160        32.0\n",
       "   3 │ 41013852  0007207A73   0007207A73        70.0\n",
       "   4 │ 41013852  0007213055   0007213055        45.0\n",
       "   5 │ 41013852  0007213615   0007213615        59.0\n",
       "   6 │ 41013852  00072136BA   00072136BA        38.0"
      ]
     },
     "execution_count": 6,
     "metadata": {},
     "output_type": "execute_result"
    }
   ],
   "source": [
    "pheno_10441[1:6, :]"
   ]
  },
  {
   "cell_type": "code",
   "execution_count": 7,
   "id": "e0c739bb-095a-4452-80b9-fa36e318e88f",
   "metadata": {},
   "outputs": [],
   "source": [
    "geno_filename = \"HSNIH-Palmer.he\";"
   ]
  },
  {
   "cell_type": "code",
   "execution_count": 8,
   "id": "16c78761-2fb7-4cf0-b634-167ee701692e",
   "metadata": {},
   "outputs": [],
   "source": [
    "geno_mat = readhe(geno_filename);"
   ]
  },
  {
   "cell_type": "code",
   "execution_count": 9,
   "id": "b870778c-fcae-42e8-9821-5cb8f9cd0556",
   "metadata": {},
   "outputs": [
    {
     "data": {
      "text/plain": [
       "(134918, 6147)"
      ]
     },
     "execution_count": 9,
     "metadata": {},
     "output_type": "execute_result"
    }
   ],
   "source": [
    "size(geno_mat)"
   ]
  },
  {
   "cell_type": "code",
   "execution_count": 10,
   "id": "8343e3bf-5bc1-4b17-806a-1e067ae9f300",
   "metadata": {},
   "outputs": [
    {
     "data": {
      "text/plain": [
       "10×5 Matrix{String}:\n",
       " \"SNPID\"  \"rsid\"          \"position\"  \"alleleA\"  \"alleleB\"\n",
       " \"1\"      \"chr1:55365\"    \"55365\"     \"A\"        \"T\"\n",
       " \"1\"      \"chr1:666374\"   \"666374\"    \"T\"        \"C\"\n",
       " \"1\"      \"chr1:666382\"   \"666382\"    \"A\"        \"T\"\n",
       " \"1\"      \"chr1:666394\"   \"666394\"    \"G\"        \"A\"\n",
       " \"1\"      \"chr1:669529\"   \"669529\"    \"C\"        \"T\"\n",
       " \"1\"      \"chr1:669562\"   \"669562\"    \"T\"        \"A\"\n",
       " \"1\"      \"chr1:671466\"   \"671466\"    \"T\"        \"C\"\n",
       " \"1\"      \"chr1:759319\"   \"759319\"    \"T\"        \"C\"\n",
       " \"1\"      \"chr1:1134030\"  \"1134030\"   \"A\"        \"G\""
      ]
     },
     "execution_count": 10,
     "metadata": {},
     "output_type": "execute_result"
    }
   ],
   "source": [
    "geno_supp = Helium.getsupp(geno_filename);\n",
    "geno_supp[1:10, :]"
   ]
  },
  {
   "cell_type": "code",
   "execution_count": 11,
   "id": "ee0c61df-bed5-4d59-93be-ded04e236605",
   "metadata": {},
   "outputs": [],
   "source": [
    "geno_sampleID = Helium.getcolnames(geno_filename);"
   ]
  },
  {
   "cell_type": "code",
   "execution_count": 12,
   "id": "634d6698-0778-4ffd-9c4d-014350c84aaf",
   "metadata": {},
   "outputs": [],
   "source": [
    "pheno_sampleID = pheno_10441.sample_name;"
   ]
  },
  {
   "cell_type": "code",
   "execution_count": 13,
   "id": "0c500985-0e18-48e7-8b9f-dabd91a307a9",
   "metadata": {},
   "outputs": [],
   "source": [
    "match_id = Array{Int, 1}(undef, 6147);"
   ]
  },
  {
   "cell_type": "code",
   "execution_count": 14,
   "id": "f6c5be6a-2d50-44f6-9dab-0fa9b78f913c",
   "metadata": {},
   "outputs": [
    {
     "name": "stdout",
     "output_type": "stream",
     "text": [
      "  2.142621 seconds (45.16 M allocations: 689.133 MiB, 14.34% gc time)\n"
     ]
    }
   ],
   "source": [
    "@time begin \n",
    "    for i in 1:6147\n",
    "    \n",
    "    indicator = 0;\n",
    "    for j in 1:4099\n",
    "        if geno_sampleID[i] == pheno_sampleID[j]\n",
    "            indicator = indicator + 1;\n",
    "        end\n",
    "    end\n",
    "    \n",
    "    match_id[i] = indicator;\n",
    "end\n",
    "end"
   ]
  },
  {
   "cell_type": "code",
   "execution_count": 15,
   "id": "84be48c8-9802-4bc5-bc8b-6b056766e710",
   "metadata": {},
   "outputs": [
    {
     "data": {
      "text/plain": [
       "4094"
      ]
     },
     "execution_count": 15,
     "metadata": {},
     "output_type": "execute_result"
    }
   ],
   "source": [
    "sum(match_id)"
   ]
  },
  {
   "cell_type": "code",
   "execution_count": 16,
   "id": "289de97d-c168-4a9c-9a91-6b10dc4ec3f5",
   "metadata": {},
   "outputs": [
    {
     "data": {
      "text/plain": [
       "Vector{Int64}\u001b[90m (alias for \u001b[39m\u001b[90mArray{Int64, 1}\u001b[39m\u001b[90m)\u001b[39m"
      ]
     },
     "execution_count": 16,
     "metadata": {},
     "output_type": "execute_result"
    }
   ],
   "source": [
    "typeof(match_id)"
   ]
  },
  {
   "cell_type": "code",
   "execution_count": 17,
   "id": "e3794699-6838-4a20-8eb9-89f4455f73ee",
   "metadata": {},
   "outputs": [],
   "source": [
    "samples_in_common = geno_sampleID[match_id .==1];"
   ]
  },
  {
   "cell_type": "code",
   "execution_count": 18,
   "id": "e31a9ca3-8519-4557-8007-48b0406dd897",
   "metadata": {},
   "outputs": [],
   "source": [
    "match_id_pheno = Array{Int, 1}(undef, 4099);"
   ]
  },
  {
   "cell_type": "code",
   "execution_count": 19,
   "id": "7b6bd958-73e7-424a-ad54-bf041885bcb1",
   "metadata": {},
   "outputs": [
    {
     "name": "stdout",
     "output_type": "stream",
     "text": [
      "  2.091086 seconds (46.17 M allocations: 960.750 MiB)\n"
     ]
    }
   ],
   "source": [
    "@time begin \n",
    "    for i in 1:length(match_id_pheno)\n",
    "    \n",
    "    indicator = 0;\n",
    "    for j in 1:length(samples_in_common)\n",
    "        if pheno_sampleID[i] == samples_in_common[j]\n",
    "            indicator = indicator + 1;\n",
    "        end\n",
    "    end\n",
    "    \n",
    "    match_id_pheno[i] = indicator;\n",
    "end\n",
    "end"
   ]
  },
  {
   "cell_type": "code",
   "execution_count": 20,
   "id": "b31c4e1c-3e55-4806-8ab0-2bf9b462cd3d",
   "metadata": {},
   "outputs": [
    {
     "data": {
      "text/plain": [
       "4094"
      ]
     },
     "execution_count": 20,
     "metadata": {},
     "output_type": "execute_result"
    }
   ],
   "source": [
    "sum(match_id_pheno)"
   ]
  },
  {
   "cell_type": "code",
   "execution_count": 21,
   "id": "2f6216a1-7b22-4dfb-810a-f9127beb65a3",
   "metadata": {},
   "outputs": [
    {
     "data": {
      "text/plain": [
       "(134918, 6147)"
      ]
     },
     "execution_count": 21,
     "metadata": {},
     "output_type": "execute_result"
    }
   ],
   "source": [
    "size(geno_mat)"
   ]
  },
  {
   "cell_type": "code",
   "execution_count": 22,
   "id": "8bb541c6-4023-47d8-8665-74b3d2e2f043",
   "metadata": {},
   "outputs": [
    {
     "data": {
      "text/plain": [
       "(4099, 4)"
      ]
     },
     "execution_count": 22,
     "metadata": {},
     "output_type": "execute_result"
    }
   ],
   "source": [
    "size(pheno_10441)"
   ]
  },
  {
   "cell_type": "code",
   "execution_count": 23,
   "id": "066847c3-1633-4c00-9129-6d69624136cc",
   "metadata": {},
   "outputs": [],
   "source": [
    "## subset geno:\n",
    "geno_common = geno_mat[:, match_id .== 1];\n",
    "## subset pheno:\n",
    "pheno_common = pheno_10441[match_id_pheno .== 1, :];"
   ]
  },
  {
   "cell_type": "code",
   "execution_count": 24,
   "id": "4fad78c3-b229-4150-bfa7-a84111dde053",
   "metadata": {},
   "outputs": [
    {
     "data": {
      "text/plain": [
       "(4094, 4)"
      ]
     },
     "execution_count": 24,
     "metadata": {},
     "output_type": "execute_result"
    }
   ],
   "source": [
    "size(pheno_common)"
   ]
  },
  {
   "cell_type": "code",
   "execution_count": 25,
   "id": "0611a972-6e85-48e6-878a-e380397658a4",
   "metadata": {},
   "outputs": [
    {
     "data": {
      "text/plain": [
       "(134918, 4094)"
      ]
     },
     "execution_count": 25,
     "metadata": {},
     "output_type": "execute_result"
    }
   ],
   "source": [
    "size(geno_common)"
   ]
  },
  {
   "cell_type": "markdown",
   "id": "2485d9fb-1cf5-4086-85e9-c6518523233d",
   "metadata": {},
   "source": [
    "Finally, we got a sample genofile with 4094 individuals, and 134918 genotype markers."
   ]
  },
  {
   "cell_type": "code",
   "execution_count": 26,
   "id": "5e7453b7-6890-4af3-a377-ba6a757db2bc",
   "metadata": {},
   "outputs": [
    {
     "data": {
      "text/plain": [
       "4094"
      ]
     },
     "execution_count": 26,
     "metadata": {},
     "output_type": "execute_result"
    }
   ],
   "source": [
    "n = size(geno_common, 2)"
   ]
  },
  {
   "cell_type": "code",
   "execution_count": 27,
   "id": "71068e27-637c-4365-9347-2bcab31b2591",
   "metadata": {},
   "outputs": [],
   "source": [
    "mean_freq = sum(geno_common; dims = 2)./(2*n);"
   ]
  },
  {
   "cell_type": "code",
   "execution_count": 28,
   "id": "9b10f45e-7f9f-43ef-aea2-671beb922fef",
   "metadata": {},
   "outputs": [],
   "source": [
    "less_common_markers = map(x -> (x > 0.95) || (x < 0.05), mean_freq)[:, 1];"
   ]
  },
  {
   "cell_type": "code",
   "execution_count": 29,
   "id": "08c7d40e-47ab-4e2b-86f2-a20331a7a102",
   "metadata": {},
   "outputs": [
    {
     "data": {
      "text/plain": [
       "Vector{Bool}\u001b[90m (alias for \u001b[39m\u001b[90mArray{Bool, 1}\u001b[39m\u001b[90m)\u001b[39m"
      ]
     },
     "execution_count": 29,
     "metadata": {},
     "output_type": "execute_result"
    }
   ],
   "source": [
    "typeof(less_common_markers)"
   ]
  },
  {
   "cell_type": "code",
   "execution_count": 30,
   "id": "2cf3d8a2-708f-49b6-befb-b337377a8233",
   "metadata": {},
   "outputs": [
    {
     "data": {
      "text/plain": [
       "16546"
      ]
     },
     "execution_count": 30,
     "metadata": {},
     "output_type": "execute_result"
    }
   ],
   "source": [
    "sum(less_common_markers)"
   ]
  },
  {
   "cell_type": "code",
   "execution_count": 31,
   "id": "f429011d-1236-4da0-98dd-02706efaa774",
   "metadata": {},
   "outputs": [
    {
     "data": {
      "text/plain": [
       "118372"
      ]
     },
     "execution_count": 31,
     "metadata": {},
     "output_type": "execute_result"
    }
   ],
   "source": [
    "134918 - 16546"
   ]
  },
  {
   "cell_type": "code",
   "execution_count": 32,
   "id": "89073e51-692a-45f3-b343-5d5a9d187048",
   "metadata": {},
   "outputs": [],
   "source": [
    "geno_processed = permutedims(geno_common[less_common_markers .!= 1, :]);"
   ]
  },
  {
   "cell_type": "code",
   "execution_count": 33,
   "id": "8e60bde2-7993-42c8-ad1a-bee1604670e8",
   "metadata": {},
   "outputs": [],
   "source": [
    "pheno_processed = reshape(pheno_common[:, 4], :, 1);"
   ]
  },
  {
   "cell_type": "code",
   "execution_count": 34,
   "id": "6c8065f5-f846-45bd-b0be-2b4c88bbc760",
   "metadata": {},
   "outputs": [
    {
     "data": {
      "text/plain": [
       "(4094, 118372)"
      ]
     },
     "execution_count": 34,
     "metadata": {},
     "output_type": "execute_result"
    }
   ],
   "source": [
    "size(geno_processed)"
   ]
  },
  {
   "cell_type": "code",
   "execution_count": 35,
   "id": "fe873dd8-3a63-4270-ad01-8fef8e4a26cd",
   "metadata": {},
   "outputs": [
    {
     "data": {
      "text/plain": [
       "(4094, 1)"
      ]
     },
     "execution_count": 35,
     "metadata": {},
     "output_type": "execute_result"
    }
   ],
   "source": [
    "size(pheno_processed)"
   ]
  },
  {
   "cell_type": "markdown",
   "id": "f4341806-9468-4d89-bca5-44212d8c220d",
   "metadata": {},
   "source": [
    "## Run BulkLMM:"
   ]
  },
  {
   "cell_type": "code",
   "execution_count": 36,
   "id": "55998108-9453-47aa-91b6-89ea1d9ecac2",
   "metadata": {},
   "outputs": [],
   "source": [
    "using DelimitedFiles\n",
    "using LinearAlgebra\n",
    "using Optim\n",
    "using Distributions\n",
    "using Test\n",
    "using BenchmarkTools\n",
    "using Random\n",
    "using Plots\n",
    "using Profile\n",
    "using Distributed"
   ]
  },
  {
   "cell_type": "code",
   "execution_count": 37,
   "id": "3626f709-1472-4274-8ba7-555bc7181117",
   "metadata": {},
   "outputs": [
    {
     "data": {
      "text/plain": [
       "\"/home/xyu/github/BulkLMM.jl/analysis/HSNIH-Palmer\""
      ]
     },
     "execution_count": 37,
     "metadata": {},
     "output_type": "execute_result"
    }
   ],
   "source": [
    "pwd()"
   ]
  },
  {
   "cell_type": "code",
   "execution_count": 38,
   "id": "108809f5-e951-4e89-89a8-9aff59ae6c05",
   "metadata": {},
   "outputs": [],
   "source": [
    "include(\"../../src/scan.jl\");\n",
    "include(\"../../src/kinship.jl\");\n",
    "include(\"../../src/lmm.jl\");\n",
    "include(\"../../src/parallel_helpers.jl\");\n",
    "include(\"../../src/util.jl\");\n",
    "include(\"../../src/wls.jl\");"
   ]
  },
  {
   "cell_type": "code",
   "execution_count": 39,
   "id": "7988feab-0a44-43bb-be22-cd8c0c6ab599",
   "metadata": {},
   "outputs": [
    {
     "ename": "LoadError",
     "evalue": "InterruptException:",
     "output_type": "error",
     "traceback": [
      "InterruptException:",
      "",
      "Stacktrace:",
      "  [1] Array",
      "    @ ./boot.jl:459 [inlined]",
      "  [2] Array",
      "    @ ./boot.jl:468 [inlined]",
      "  [3] similar",
      "    @ ./array.jl:378 [inlined]",
      "  [4] similar",
      "    @ ./abstractarray.jl:795 [inlined]",
      "  [5] _unsafe_getindex",
      "    @ ./multidimensional.jl:887 [inlined]",
      "  [6] _getindex",
      "    @ ./multidimensional.jl:875 [inlined]",
      "  [7] getindex",
      "    @ ./abstractarray.jl:1241 [inlined]",
      "  [8] calcKinship(geno::Matrix{Float64})",
      "    @ Main ~/github/BulkLMM.jl/src/kinship.jl:33",
      "  [9] top-level scope",
      "    @ ./timing.jl:262 [inlined]",
      " [10] top-level scope",
      "    @ ./In[39]:0",
      " [11] eval",
      "    @ ./boot.jl:368 [inlined]",
      " [12] include_string(mapexpr::typeof(REPL.softscope), mod::Module, code::String, filename::String)",
      "    @ Base ./loading.jl:1428"
     ]
    }
   ],
   "source": [
    "@time kinship_BulkLMM = calcKinship(geno_processed);"
   ]
  },
  {
   "cell_type": "code",
   "execution_count": 43,
   "id": "9f99f931-1ca2-4fb8-adaf-88e91bd5977a",
   "metadata": {},
   "outputs": [
    {
     "ename": "LoadError",
     "evalue": "UndefVarError: kinship_BulkLMM not defined",
     "output_type": "error",
     "traceback": [
      "UndefVarError: kinship_BulkLMM not defined",
      "",
      "Stacktrace:",
      " [1] top-level scope",
      "   @ In[43]:1",
      " [2] eval",
      "   @ ./boot.jl:368 [inlined]",
      " [3] include_string(mapexpr::typeof(REPL.softscope), mod::Module, code::String, filename::String)",
      "   @ Base ./loading.jl:1428"
     ]
    }
   ],
   "source": [
    "size(kinship_BulkLMM)"
   ]
  },
  {
   "cell_type": "code",
   "execution_count": 44,
   "id": "30fbc73d-e704-40b8-9c8f-aa2c19ef4d11",
   "metadata": {},
   "outputs": [
    {
     "data": {
      "text/html": [
       "<div class=\"data-frame\"><p>4,094 rows × 4 columns</p><table class=\"data-frame\"><thead><tr><th></th><th>data_id</th><th>sample_name</th><th>sample_name_2</th><th>value</th></tr><tr><th></th><th title=\"Int64\">Int64</th><th title=\"String\">String</th><th title=\"String\">String</th><th title=\"Float64\">Float64</th></tr></thead><tbody><tr><th>1</th><td>41013852</td><td>00071F4FAF</td><td>00071F4FAF</td><td>67.0</td></tr><tr><th>2</th><td>41013852</td><td>00071FB160</td><td>00071FB160</td><td>32.0</td></tr><tr><th>3</th><td>41013852</td><td>0007207A73</td><td>0007207A73</td><td>70.0</td></tr><tr><th>4</th><td>41013852</td><td>0007213055</td><td>0007213055</td><td>45.0</td></tr><tr><th>5</th><td>41013852</td><td>0007213615</td><td>0007213615</td><td>59.0</td></tr><tr><th>6</th><td>41013852</td><td>00072136BA</td><td>00072136BA</td><td>38.0</td></tr><tr><th>7</th><td>41013852</td><td>0007213996</td><td>0007213996</td><td>36.0</td></tr><tr><th>8</th><td>41013852</td><td>0007213BC3</td><td>0007213BC3</td><td>57.0</td></tr><tr><th>9</th><td>41013852</td><td>00072140EF</td><td>00072140EF</td><td>47.0</td></tr><tr><th>10</th><td>41013852</td><td>0007214268</td><td>0007214268</td><td>57.0</td></tr><tr><th>11</th><td>41013852</td><td>0007214905</td><td>0007214905</td><td>58.0</td></tr><tr><th>12</th><td>41013852</td><td>00072149CA</td><td>00072149CA</td><td>41.0</td></tr><tr><th>13</th><td>41013852</td><td>0007214B4D</td><td>0007214B4D</td><td>46.0</td></tr><tr><th>14</th><td>41013852</td><td>0007214EDC</td><td>0007214EDC</td><td>36.0</td></tr><tr><th>15</th><td>41013852</td><td>00072151BB</td><td>00072151BB</td><td>43.0</td></tr><tr><th>16</th><td>41013852</td><td>0007215322</td><td>0007215322</td><td>40.0</td></tr><tr><th>17</th><td>41013852</td><td>00072156DC</td><td>00072156DC</td><td>35.0</td></tr><tr><th>18</th><td>41013852</td><td>000721584A</td><td>000721584A</td><td>69.0</td></tr><tr><th>19</th><td>41013852</td><td>000721584F</td><td>000721584F</td><td>65.0</td></tr><tr><th>20</th><td>41013852</td><td>00072159BE</td><td>00072159BE</td><td>56.0</td></tr><tr><th>21</th><td>41013852</td><td>0007215D69</td><td>0007215D69</td><td>54.0</td></tr><tr><th>22</th><td>41013852</td><td>0007215E24</td><td>0007215E24</td><td>56.0</td></tr><tr><th>23</th><td>41013852</td><td>0007215EF7</td><td>0007215EF7</td><td>37.0</td></tr><tr><th>24</th><td>41013852</td><td>0007215F8A</td><td>0007215F8A</td><td>57.0</td></tr><tr><th>25</th><td>41013852</td><td>0007216043</td><td>0007216043</td><td>66.0</td></tr><tr><th>26</th><td>41013852</td><td>00072163CF</td><td>00072163CF</td><td>59.0</td></tr><tr><th>27</th><td>41013852</td><td>000721668D</td><td>000721668D</td><td>46.0</td></tr><tr><th>28</th><td>41013852</td><td>0007216A9E</td><td>0007216A9E</td><td>48.0</td></tr><tr><th>29</th><td>41013852</td><td>0007216D57</td><td>0007216D57</td><td>51.0</td></tr><tr><th>30</th><td>41013852</td><td>000721901D</td><td>000721901D</td><td>32.0</td></tr><tr><th>&vellip;</th><td>&vellip;</td><td>&vellip;</td><td>&vellip;</td><td>&vellip;</td></tr></tbody></table></div>"
      ],
      "text/latex": [
       "\\begin{tabular}{r|cccc}\n",
       "\t& data\\_id & sample\\_name & sample\\_name\\_2 & value\\\\\n",
       "\t\\hline\n",
       "\t& Int64 & String & String & Float64\\\\\n",
       "\t\\hline\n",
       "\t1 & 41013852 & 00071F4FAF & 00071F4FAF & 67.0 \\\\\n",
       "\t2 & 41013852 & 00071FB160 & 00071FB160 & 32.0 \\\\\n",
       "\t3 & 41013852 & 0007207A73 & 0007207A73 & 70.0 \\\\\n",
       "\t4 & 41013852 & 0007213055 & 0007213055 & 45.0 \\\\\n",
       "\t5 & 41013852 & 0007213615 & 0007213615 & 59.0 \\\\\n",
       "\t6 & 41013852 & 00072136BA & 00072136BA & 38.0 \\\\\n",
       "\t7 & 41013852 & 0007213996 & 0007213996 & 36.0 \\\\\n",
       "\t8 & 41013852 & 0007213BC3 & 0007213BC3 & 57.0 \\\\\n",
       "\t9 & 41013852 & 00072140EF & 00072140EF & 47.0 \\\\\n",
       "\t10 & 41013852 & 0007214268 & 0007214268 & 57.0 \\\\\n",
       "\t11 & 41013852 & 0007214905 & 0007214905 & 58.0 \\\\\n",
       "\t12 & 41013852 & 00072149CA & 00072149CA & 41.0 \\\\\n",
       "\t13 & 41013852 & 0007214B4D & 0007214B4D & 46.0 \\\\\n",
       "\t14 & 41013852 & 0007214EDC & 0007214EDC & 36.0 \\\\\n",
       "\t15 & 41013852 & 00072151BB & 00072151BB & 43.0 \\\\\n",
       "\t16 & 41013852 & 0007215322 & 0007215322 & 40.0 \\\\\n",
       "\t17 & 41013852 & 00072156DC & 00072156DC & 35.0 \\\\\n",
       "\t18 & 41013852 & 000721584A & 000721584A & 69.0 \\\\\n",
       "\t19 & 41013852 & 000721584F & 000721584F & 65.0 \\\\\n",
       "\t20 & 41013852 & 00072159BE & 00072159BE & 56.0 \\\\\n",
       "\t21 & 41013852 & 0007215D69 & 0007215D69 & 54.0 \\\\\n",
       "\t22 & 41013852 & 0007215E24 & 0007215E24 & 56.0 \\\\\n",
       "\t23 & 41013852 & 0007215EF7 & 0007215EF7 & 37.0 \\\\\n",
       "\t24 & 41013852 & 0007215F8A & 0007215F8A & 57.0 \\\\\n",
       "\t25 & 41013852 & 0007216043 & 0007216043 & 66.0 \\\\\n",
       "\t26 & 41013852 & 00072163CF & 00072163CF & 59.0 \\\\\n",
       "\t27 & 41013852 & 000721668D & 000721668D & 46.0 \\\\\n",
       "\t28 & 41013852 & 0007216A9E & 0007216A9E & 48.0 \\\\\n",
       "\t29 & 41013852 & 0007216D57 & 0007216D57 & 51.0 \\\\\n",
       "\t30 & 41013852 & 000721901D & 000721901D & 32.0 \\\\\n",
       "\t$\\dots$ & $\\dots$ & $\\dots$ & $\\dots$ & $\\dots$ \\\\\n",
       "\\end{tabular}\n"
      ],
      "text/plain": [
       "\u001b[1m4094×4 DataFrame\u001b[0m\n",
       "\u001b[1m  Row \u001b[0m│\u001b[1m data_id  \u001b[0m\u001b[1m sample_name \u001b[0m\u001b[1m sample_name_2 \u001b[0m\u001b[1m value   \u001b[0m\n",
       "\u001b[1m      \u001b[0m│\u001b[90m Int64    \u001b[0m\u001b[90m String      \u001b[0m\u001b[90m String        \u001b[0m\u001b[90m Float64 \u001b[0m\n",
       "──────┼───────────────────────────────────────────────\n",
       "    1 │ 41013852  00071F4FAF   00071F4FAF        67.0\n",
       "    2 │ 41013852  00071FB160   00071FB160        32.0\n",
       "    3 │ 41013852  0007207A73   0007207A73        70.0\n",
       "    4 │ 41013852  0007213055   0007213055        45.0\n",
       "    5 │ 41013852  0007213615   0007213615        59.0\n",
       "    6 │ 41013852  00072136BA   00072136BA        38.0\n",
       "    7 │ 41013852  0007213996   0007213996        36.0\n",
       "    8 │ 41013852  0007213BC3   0007213BC3        57.0\n",
       "    9 │ 41013852  00072140EF   00072140EF        47.0\n",
       "   10 │ 41013852  0007214268   0007214268        57.0\n",
       "   11 │ 41013852  0007214905   0007214905        58.0\n",
       "  ⋮   │    ⋮           ⋮             ⋮           ⋮\n",
       " 4085 │ 41013852  0007D6148E   0007D6148E        57.0\n",
       " 4086 │ 41013852  0007D614BF   0007D614BF        47.0\n",
       " 4087 │ 41013852  0007D614EB   0007D614EB        54.0\n",
       " 4088 │ 41013852  0007D61535   0007D61535        22.0\n",
       " 4089 │ 41013852  0007D61645   0007D61645        40.0\n",
       " 4090 │ 41013852  0007D63D2D   0007D63D2D        42.0\n",
       " 4091 │ 41013852  0007D63DA9   0007D63DA9        44.0\n",
       " 4092 │ 41013852  0007D6402F   0007D6402F        44.0\n",
       " 4093 │ 41013852  0007D6432C   0007D6432C        46.0\n",
       " 4094 │ 41013852  0007D6441B   0007D6441B        61.0\n",
       "\u001b[36m                                     4073 rows omitted\u001b[0m"
      ]
     },
     "execution_count": 44,
     "metadata": {},
     "output_type": "execute_result"
    }
   ],
   "source": [
    "pheno_common"
   ]
  },
  {
   "cell_type": "code",
   "execution_count": 42,
   "id": "4eaa07e2-0ba2-4e25-9eef-a343a14a0dbc",
   "metadata": {},
   "outputs": [
    {
     "ename": "LoadError",
     "evalue": "UndefVarError: kinship_BulkLMM not defined",
     "output_type": "error",
     "traceback": [
      "UndefVarError: kinship_BulkLMM not defined",
      "",
      "Stacktrace:",
      " [1] top-level scope",
      "   @ ./timing.jl:262 [inlined]",
      " [2] top-level scope",
      "   @ ./In[42]:0",
      " [3] eval",
      "   @ ./boot.jl:368 [inlined]",
      " [4] include_string(mapexpr::typeof(REPL.softscope), mod::Module, code::String, filename::String)",
      "   @ Base ./loading.jl:1428"
     ]
    }
   ],
   "source": [
    "@time scan(pheno_processed, geno_processed, kinship_BulkLMM; reml = false, method = \"alt\")"
   ]
  },
  {
   "cell_type": "code",
   "execution_count": null,
   "id": "8a51a7f5-cd35-4cf0-87cd-82b29418d99f",
   "metadata": {},
   "outputs": [],
   "source": []
  },
  {
   "cell_type": "code",
   "execution_count": null,
   "id": "6a387443-e234-42fa-b19b-8968450f35c9",
   "metadata": {},
   "outputs": [],
   "source": []
  },
  {
   "cell_type": "code",
   "execution_count": null,
   "id": "5154ad28-faec-4733-8022-4a3476871a01",
   "metadata": {},
   "outputs": [],
   "source": []
  },
  {
   "cell_type": "markdown",
   "id": "1cf19d86-42c3-46ca-acbc-a22239c838e9",
   "metadata": {},
   "source": [
    "## Run Gemma:"
   ]
  },
  {
   "cell_type": "code",
   "execution_count": 36,
   "id": "b5850467-c426-4632-a3fe-66f99dc66c72",
   "metadata": {},
   "outputs": [],
   "source": [
    "gemma = \"/home/xyu/software/GEMMA/gemma-0.98.5-linux-static-AMD64\";"
   ]
  },
  {
   "cell_type": "code",
   "execution_count": 37,
   "id": "f07b2a27-c42f-4fc9-a520-b155b375bc5d",
   "metadata": {},
   "outputs": [
    {
     "name": "stdout",
     "output_type": "stream",
     "text": [
      "GEMMA 0.98.5 (2021-08-25) by Xiang Zhou, Pjotr Prins and team (C) 2012-2021\n",
      "\n",
      " type ./gemma -h [num] for detailed help\n",
      " options: \n",
      "  1: quick guide\n",
      "  2: file I/O related\n",
      "  3: SNP QC\n",
      "  4: calculate relatedness matrix\n",
      "  5: perform eigen decomposition\n",
      "  6: perform variance component estimation\n",
      "  7: fit a linear model\n",
      "  8: fit a linear mixed model\n",
      "  9: fit a multivariate linear mixed model\n",
      " 10: fit a Bayesian sparse linear mixed model\n",
      " 11: obtain predicted values\n",
      " 12: calculate snp variance covariance\n",
      " 13: note\n",
      " 14: debug options\n",
      "\n",
      "The GEMMA software is distributed under the GNU General Public v3\n",
      "   -license    show license information\n",
      "   see also http://www.xzlab.org/software.html, https://github.com/genetics-statistics\n"
     ]
    },
    {
     "data": {
      "text/plain": [
       "Process(`\u001b[4m/home/xyu/software/GEMMA/gemma-0.98.5-linux-static-AMD64\u001b[24m \u001b[4m-h\u001b[24m`, ProcessExited(0))"
      ]
     },
     "execution_count": 37,
     "metadata": {},
     "output_type": "execute_result"
    }
   ],
   "source": [
    "run(`$gemma -h`)"
   ]
  },
  {
   "cell_type": "code",
   "execution_count": null,
   "id": "0d45a4a1-3569-4eec-8edd-e72a0b8fc8c6",
   "metadata": {},
   "outputs": [],
   "source": []
  }
 ],
 "metadata": {
  "kernelspec": {
   "display_name": "Julia 1.8.1",
   "language": "julia",
   "name": "julia-1.8"
  },
  "language_info": {
   "file_extension": ".jl",
   "mimetype": "application/julia",
   "name": "julia",
   "version": "1.8.1"
  }
 },
 "nbformat": 4,
 "nbformat_minor": 5
}
