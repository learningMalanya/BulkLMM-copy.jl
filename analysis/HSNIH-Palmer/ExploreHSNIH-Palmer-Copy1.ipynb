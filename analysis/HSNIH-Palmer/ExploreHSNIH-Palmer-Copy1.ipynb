{
 "cells": [
  {
   "cell_type": "code",
   "execution_count": 2,
   "id": "90731f9a-b9f9-4206-a8f0-398c081bd062",
   "metadata": {},
   "outputs": [],
   "source": [
    "#using Pkg\n",
    "#Pkg.add(\"GeneNetworkAPI\")"
   ]
  },
  {
   "cell_type": "code",
   "execution_count": 3,
   "id": "8b15a751-a522-49c5-ab8d-94a9a4bb0489",
   "metadata": {},
   "outputs": [],
   "source": [
    "using Helium;\n",
    "using DataFrames;\n",
    "using CSV;\n",
    "using GeneNetworkAPI;\n",
    "using DelimitedFiles;\n",
    "using LinearAlgebra;\n",
    "using Optim;\n",
    "using Distributions;\n",
    "using BenchmarkTools;\n",
    "using Random;\n",
    "using Plots;"
   ]
  },
  {
   "cell_type": "code",
   "execution_count": 4,
   "id": "9c1907dd-cf93-4541-a716-6618244b81d1",
   "metadata": {},
   "outputs": [
    {
     "data": {
      "text/plain": [
       "\"/home/xyu/github/BulkLMM.jl/analysis/HSNIH-Palmer\""
      ]
     },
     "execution_count": 4,
     "metadata": {},
     "output_type": "execute_result"
    }
   ],
   "source": [
    "pwd()"
   ]
  },
  {
   "cell_type": "code",
   "execution_count": 5,
   "id": "c363ad0d-30ad-4017-8f28-05d286940137",
   "metadata": {},
   "outputs": [],
   "source": [
    "include(\"../../src/readData.jl\");"
   ]
  },
  {
   "cell_type": "code",
   "execution_count": 6,
   "id": "f9c09478-ed0d-46b4-8a19-c3ce5a5500e6",
   "metadata": {},
   "outputs": [
    {
     "data": {
      "text/plain": [
       "\"/home/xyu/github/BulkLMM.jl/analysis/HSNIH-Palmer\""
      ]
     },
     "execution_count": 6,
     "metadata": {},
     "output_type": "execute_result"
    }
   ],
   "source": [
    "pwd()"
   ]
  },
  {
   "cell_type": "code",
   "execution_count": 7,
   "id": "f45889cc-7148-4fb9-a2f7-21f656cf2371",
   "metadata": {},
   "outputs": [],
   "source": [
    "pheno_10441 = get_pheno(\"HSNIH-Palmer\", \"10441\");"
   ]
  },
  {
   "cell_type": "code",
   "execution_count": 8,
   "id": "f35e6706-cb97-42de-97d6-543e062878cd",
   "metadata": {},
   "outputs": [
    {
     "data": {
      "text/plain": [
       "(4099, 4)"
      ]
     },
     "execution_count": 8,
     "metadata": {},
     "output_type": "execute_result"
    }
   ],
   "source": [
    "size(pheno_10441)"
   ]
  },
  {
   "cell_type": "code",
   "execution_count": 9,
   "id": "fbdabf3a-6f60-4f55-8a12-f03959e75516",
   "metadata": {},
   "outputs": [
    {
     "data": {
      "text/html": [
       "<div class=\"data-frame\"><p>6 rows × 4 columns</p><table class=\"data-frame\"><thead><tr><th></th><th>data_id</th><th>sample_name</th><th>sample_name_2</th><th>value</th></tr><tr><th></th><th title=\"Int64\">Int64</th><th title=\"String\">String</th><th title=\"String\">String</th><th title=\"Float64\">Float64</th></tr></thead><tbody><tr><th>1</th><td>41013852</td><td>00071F4FAF</td><td>00071F4FAF</td><td>67.0</td></tr><tr><th>2</th><td>41013852</td><td>00071FB160</td><td>00071FB160</td><td>32.0</td></tr><tr><th>3</th><td>41013852</td><td>0007207A73</td><td>0007207A73</td><td>70.0</td></tr><tr><th>4</th><td>41013852</td><td>0007213055</td><td>0007213055</td><td>45.0</td></tr><tr><th>5</th><td>41013852</td><td>0007213615</td><td>0007213615</td><td>59.0</td></tr><tr><th>6</th><td>41013852</td><td>00072136BA</td><td>00072136BA</td><td>38.0</td></tr></tbody></table></div>"
      ],
      "text/latex": [
       "\\begin{tabular}{r|cccc}\n",
       "\t& data\\_id & sample\\_name & sample\\_name\\_2 & value\\\\\n",
       "\t\\hline\n",
       "\t& Int64 & String & String & Float64\\\\\n",
       "\t\\hline\n",
       "\t1 & 41013852 & 00071F4FAF & 00071F4FAF & 67.0 \\\\\n",
       "\t2 & 41013852 & 00071FB160 & 00071FB160 & 32.0 \\\\\n",
       "\t3 & 41013852 & 0007207A73 & 0007207A73 & 70.0 \\\\\n",
       "\t4 & 41013852 & 0007213055 & 0007213055 & 45.0 \\\\\n",
       "\t5 & 41013852 & 0007213615 & 0007213615 & 59.0 \\\\\n",
       "\t6 & 41013852 & 00072136BA & 00072136BA & 38.0 \\\\\n",
       "\\end{tabular}\n"
      ],
      "text/plain": [
       "\u001b[1m6×4 DataFrame\u001b[0m\n",
       "\u001b[1m Row \u001b[0m│\u001b[1m data_id  \u001b[0m\u001b[1m sample_name \u001b[0m\u001b[1m sample_name_2 \u001b[0m\u001b[1m value   \u001b[0m\n",
       "\u001b[1m     \u001b[0m│\u001b[90m Int64    \u001b[0m\u001b[90m String      \u001b[0m\u001b[90m String        \u001b[0m\u001b[90m Float64 \u001b[0m\n",
       "─────┼───────────────────────────────────────────────\n",
       "   1 │ 41013852  00071F4FAF   00071F4FAF        67.0\n",
       "   2 │ 41013852  00071FB160   00071FB160        32.0\n",
       "   3 │ 41013852  0007207A73   0007207A73        70.0\n",
       "   4 │ 41013852  0007213055   0007213055        45.0\n",
       "   5 │ 41013852  0007213615   0007213615        59.0\n",
       "   6 │ 41013852  00072136BA   00072136BA        38.0"
      ]
     },
     "execution_count": 9,
     "metadata": {},
     "output_type": "execute_result"
    }
   ],
   "source": [
    "pheno_10441[1:6, :]"
   ]
  },
  {
   "cell_type": "code",
   "execution_count": 10,
   "id": "e0c739bb-095a-4452-80b9-fa36e318e88f",
   "metadata": {},
   "outputs": [],
   "source": [
    "geno_filename = \"HSNIH-Palmer.he\";"
   ]
  },
  {
   "cell_type": "code",
   "execution_count": 11,
   "id": "16c78761-2fb7-4cf0-b634-167ee701692e",
   "metadata": {},
   "outputs": [],
   "source": [
    "geno_mat = readhe(geno_filename);"
   ]
  },
  {
   "cell_type": "code",
   "execution_count": 12,
   "id": "b870778c-fcae-42e8-9821-5cb8f9cd0556",
   "metadata": {},
   "outputs": [
    {
     "data": {
      "text/plain": [
       "(134918, 6147)"
      ]
     },
     "execution_count": 12,
     "metadata": {},
     "output_type": "execute_result"
    }
   ],
   "source": [
    "size(geno_mat)"
   ]
  },
  {
   "cell_type": "markdown",
   "id": "2f4f8cf3-f064-4409-8a2f-d7b768b0f4c0",
   "metadata": {},
   "source": [
    "## Check for infinite values in the genotype array:"
   ]
  },
  {
   "cell_type": "code",
   "execution_count": 17,
   "id": "88bfe502-606f-4bfd-a404-461dd246441e",
   "metadata": {},
   "outputs": [
    {
     "data": {
      "text/plain": [
       "NaN"
      ]
     },
     "execution_count": 17,
     "metadata": {},
     "output_type": "execute_result"
    }
   ],
   "source": [
    "sum(geno_mat)"
   ]
  },
  {
   "cell_type": "code",
   "execution_count": 18,
   "id": "59897af6-9ce9-4a74-8556-29228dda2be4",
   "metadata": {},
   "outputs": [],
   "source": [
    "NaN_to_remove = zeros(size(geno_mat, 1));"
   ]
  },
  {
   "cell_type": "code",
   "execution_count": 19,
   "id": "43400c3e-1f41-4831-b5fa-2ca39fd939b9",
   "metadata": {},
   "outputs": [
    {
     "ename": "LoadError",
     "evalue": "InterruptException:",
     "output_type": "error",
     "traceback": [
      "InterruptException:",
      "",
      "Stacktrace:",
      "  [1] Array",
      "    @ ./boot.jl:459 [inlined]",
      "  [2] Array",
      "    @ ./boot.jl:468 [inlined]",
      "  [3] similar",
      "    @ ./array.jl:378 [inlined]",
      "  [4] similar",
      "    @ ./abstractarray.jl:795 [inlined]",
      "  [5] _unsafe_getindex",
      "    @ ./multidimensional.jl:887 [inlined]",
      "  [6] _getindex",
      "    @ ./multidimensional.jl:875 [inlined]",
      "  [7] getindex(::Matrix{Float64}, ::Int64, ::Function)",
      "    @ Base ./abstractarray.jl:1241",
      "  [8] top-level scope",
      "    @ ./In[19]:3",
      "  [9] eval",
      "    @ ./boot.jl:368 [inlined]",
      " [10] include_string(mapexpr::typeof(REPL.softscope), mod::Module, code::String, filename::String)",
      "    @ Base ./loading.jl:1428"
     ]
    }
   ],
   "source": [
    "for p = 1:size(geno_mat, 1)\n",
    "    \n",
    "    if any(!isfinite, geno_mat[p, :])\n",
    "        \n",
    "        NaN_to_remove[p] = 1\n",
    "        \n",
    "    end\n",
    "    \n",
    "end"
   ]
  },
  {
   "cell_type": "code",
   "execution_count": 20,
   "id": "78373529-688f-41f1-9612-c5374233bb9e",
   "metadata": {},
   "outputs": [
    {
     "data": {
      "text/plain": [
       "259.0"
      ]
     },
     "execution_count": 20,
     "metadata": {},
     "output_type": "execute_result"
    }
   ],
   "source": [
    "sum(NaN_to_remove) # 282 markers have infinite values; we simply remove those rows"
   ]
  },
  {
   "cell_type": "code",
   "execution_count": 21,
   "id": "77058341-2b8e-4f20-97b2-f3c9047d171d",
   "metadata": {},
   "outputs": [
    {
     "data": {
      "text/plain": [
       "(134659, 6147)"
      ]
     },
     "execution_count": 21,
     "metadata": {},
     "output_type": "execute_result"
    }
   ],
   "source": [
    "geno_mat = geno_mat[NaN_to_remove .!= 1, :];\n",
    "size(geno_mat)"
   ]
  },
  {
   "cell_type": "code",
   "execution_count": 22,
   "id": "8343e3bf-5bc1-4b17-806a-1e067ae9f300",
   "metadata": {},
   "outputs": [
    {
     "ename": "LoadError",
     "evalue": "KeyError: key \"302e39392c302e39\" not found",
     "output_type": "error",
     "traceback": [
      "KeyError: key \"302e39392c302e39\" not found",
      "",
      "Stacktrace:",
      " [1] getindex",
      "   @ ./dict.jl:498 [inlined]",
      " [2] readheader(heFile::String)",
      "   @ Helium ~/.julia/packages/Helium/LcQDp/src/readhe.jl:213",
      " [3] getsupp(heFile::String)",
      "   @ Helium ~/.julia/packages/Helium/LcQDp/src/readhe.jl:125",
      " [4] top-level scope",
      "   @ In[22]:1",
      " [5] eval",
      "   @ ./boot.jl:368 [inlined]",
      " [6] include_string(mapexpr::typeof(REPL.softscope), mod::Module, code::String, filename::String)",
      "   @ Base ./loading.jl:1428"
     ]
    }
   ],
   "source": [
    "geno_supp = Helium.getsupp(geno_filename);\n",
    "size(geno_supp)"
   ]
  },
  {
   "cell_type": "code",
   "execution_count": 23,
   "id": "147fe51f-5486-40cf-81f2-a6c616ebf831",
   "metadata": {},
   "outputs": [
    {
     "ename": "LoadError",
     "evalue": "UndefVarError: geno_supp not defined",
     "output_type": "error",
     "traceback": [
      "UndefVarError: geno_supp not defined",
      "",
      "Stacktrace:",
      " [1] top-level scope",
      "   @ In[23]:1",
      " [2] eval",
      "   @ ./boot.jl:368 [inlined]",
      " [3] include_string(mapexpr::typeof(REPL.softscope), mod::Module, code::String, filename::String)",
      "   @ Base ./loading.jl:1428"
     ]
    }
   ],
   "source": [
    "geno_supp[1:10, :]"
   ]
  },
  {
   "cell_type": "code",
   "execution_count": 24,
   "id": "40f48673-cfbb-4cad-a2f9-f429dc7d3f14",
   "metadata": {},
   "outputs": [
    {
     "ename": "LoadError",
     "evalue": "UndefVarError: geno_supp not defined",
     "output_type": "error",
     "traceback": [
      "UndefVarError: geno_supp not defined",
      "",
      "Stacktrace:",
      " [1] top-level scope",
      "   @ In[24]:1",
      " [2] eval",
      "   @ ./boot.jl:368 [inlined]",
      " [3] include_string(mapexpr::typeof(REPL.softscope), mod::Module, code::String, filename::String)",
      "   @ Base ./loading.jl:1428"
     ]
    }
   ],
   "source": [
    "geno_supp_header = geno_supp[1, :];\n",
    "geno_supp = geno_supp[2:end, :];"
   ]
  },
  {
   "cell_type": "code",
   "execution_count": 25,
   "id": "2e3de8ce-322e-4f9e-a7ef-c8e385a2bd99",
   "metadata": {},
   "outputs": [
    {
     "ename": "LoadError",
     "evalue": "UndefVarError: geno_supp not defined",
     "output_type": "error",
     "traceback": [
      "UndefVarError: geno_supp not defined",
      "",
      "Stacktrace:",
      " [1] top-level scope",
      "   @ In[25]:1",
      " [2] eval",
      "   @ ./boot.jl:368 [inlined]",
      " [3] include_string(mapexpr::typeof(REPL.softscope), mod::Module, code::String, filename::String)",
      "   @ Base ./loading.jl:1428"
     ]
    }
   ],
   "source": [
    "geno_supp = geno_supp[NaN_to_remove .!= 1, :]"
   ]
  },
  {
   "cell_type": "code",
   "execution_count": 26,
   "id": "ee0c61df-bed5-4d59-93be-ded04e236605",
   "metadata": {},
   "outputs": [
    {
     "ename": "LoadError",
     "evalue": "KeyError: key \"302e39392c302e39\" not found",
     "output_type": "error",
     "traceback": [
      "KeyError: key \"302e39392c302e39\" not found",
      "",
      "Stacktrace:",
      " [1] getindex",
      "   @ ./dict.jl:498 [inlined]",
      " [2] readheader(heFile::String)",
      "   @ Helium ~/.julia/packages/Helium/LcQDp/src/readhe.jl:213",
      " [3] getcolnames(heFile::String)",
      "   @ Helium ~/.julia/packages/Helium/LcQDp/src/readhe.jl:66",
      " [4] top-level scope",
      "   @ In[26]:1",
      " [5] eval",
      "   @ ./boot.jl:368 [inlined]",
      " [6] include_string(mapexpr::typeof(REPL.softscope), mod::Module, code::String, filename::String)",
      "   @ Base ./loading.jl:1428"
     ]
    }
   ],
   "source": [
    "geno_sampleID = Helium.getcolnames(geno_filename);"
   ]
  },
  {
   "cell_type": "code",
   "execution_count": 27,
   "id": "634d6698-0778-4ffd-9c4d-014350c84aaf",
   "metadata": {},
   "outputs": [],
   "source": [
    "pheno_sampleID = pheno_10441.sample_name;"
   ]
  },
  {
   "cell_type": "code",
   "execution_count": 28,
   "id": "0c500985-0e18-48e7-8b9f-dabd91a307a9",
   "metadata": {},
   "outputs": [],
   "source": [
    "match_id = Array{Int, 1}(undef, 6147);"
   ]
  },
  {
   "cell_type": "code",
   "execution_count": 29,
   "id": "f6c5be6a-2d50-44f6-9dab-0fa9b78f913c",
   "metadata": {},
   "outputs": [
    {
     "ename": "LoadError",
     "evalue": "UndefVarError: geno_sampleID not defined",
     "output_type": "error",
     "traceback": [
      "UndefVarError: geno_sampleID not defined",
      "",
      "Stacktrace:",
      " [1] macro expansion",
      "   @ ./In[29]:6 [inlined]",
      " [2] top-level scope",
      "   @ ./timing.jl:262 [inlined]",
      " [3] top-level scope",
      "   @ ./In[29]:0",
      " [4] eval",
      "   @ ./boot.jl:368 [inlined]",
      " [5] include_string(mapexpr::typeof(REPL.softscope), mod::Module, code::String, filename::String)",
      "   @ Base ./loading.jl:1428"
     ]
    }
   ],
   "source": [
    "@time begin \n",
    "    for i in 1:6147\n",
    "    \n",
    "    indicator = 0;\n",
    "    for j in 1:4099\n",
    "        if geno_sampleID[i] == pheno_sampleID[j]\n",
    "            indicator = indicator + 1;\n",
    "        end\n",
    "    end\n",
    "    \n",
    "    match_id[i] = indicator;\n",
    "end\n",
    "end"
   ]
  },
  {
   "cell_type": "code",
   "execution_count": 30,
   "id": "84be48c8-9802-4bc5-bc8b-6b056766e710",
   "metadata": {},
   "outputs": [
    {
     "data": {
      "text/plain": [
       "2332864606977916928"
      ]
     },
     "execution_count": 30,
     "metadata": {},
     "output_type": "execute_result"
    }
   ],
   "source": [
    "sum(match_id)"
   ]
  },
  {
   "cell_type": "code",
   "execution_count": 31,
   "id": "289de97d-c168-4a9c-9a91-6b10dc4ec3f5",
   "metadata": {},
   "outputs": [
    {
     "data": {
      "text/plain": [
       "Vector{Int64}\u001b[90m (alias for \u001b[39m\u001b[90mArray{Int64, 1}\u001b[39m\u001b[90m)\u001b[39m"
      ]
     },
     "execution_count": 31,
     "metadata": {},
     "output_type": "execute_result"
    }
   ],
   "source": [
    "typeof(match_id)"
   ]
  },
  {
   "cell_type": "code",
   "execution_count": 32,
   "id": "e3794699-6838-4a20-8eb9-89f4455f73ee",
   "metadata": {},
   "outputs": [
    {
     "ename": "LoadError",
     "evalue": "UndefVarError: geno_sampleID not defined",
     "output_type": "error",
     "traceback": [
      "UndefVarError: geno_sampleID not defined",
      "",
      "Stacktrace:",
      " [1] top-level scope",
      "   @ In[32]:1",
      " [2] eval",
      "   @ ./boot.jl:368 [inlined]",
      " [3] include_string(mapexpr::typeof(REPL.softscope), mod::Module, code::String, filename::String)",
      "   @ Base ./loading.jl:1428"
     ]
    }
   ],
   "source": [
    "samples_in_common = geno_sampleID[match_id .==1];"
   ]
  },
  {
   "cell_type": "code",
   "execution_count": 33,
   "id": "e31a9ca3-8519-4557-8007-48b0406dd897",
   "metadata": {},
   "outputs": [],
   "source": [
    "match_id_pheno = Array{Int, 1}(undef, 4099);"
   ]
  },
  {
   "cell_type": "code",
   "execution_count": 34,
   "id": "7b6bd958-73e7-424a-ad54-bf041885bcb1",
   "metadata": {},
   "outputs": [
    {
     "ename": "LoadError",
     "evalue": "UndefVarError: samples_in_common not defined",
     "output_type": "error",
     "traceback": [
      "UndefVarError: samples_in_common not defined",
      "",
      "Stacktrace:",
      " [1] macro expansion",
      "   @ ./In[34]:5 [inlined]",
      " [2] top-level scope",
      "   @ ./timing.jl:262 [inlined]",
      " [3] top-level scope",
      "   @ ./In[34]:0",
      " [4] eval",
      "   @ ./boot.jl:368 [inlined]",
      " [5] include_string(mapexpr::typeof(REPL.softscope), mod::Module, code::String, filename::String)",
      "   @ Base ./loading.jl:1428"
     ]
    }
   ],
   "source": [
    "@time begin \n",
    "    for i in 1:length(match_id_pheno)\n",
    "    \n",
    "    indicator = 0;\n",
    "    for j in 1:length(samples_in_common)\n",
    "        if pheno_sampleID[i] == samples_in_common[j]\n",
    "            indicator = indicator + 1;\n",
    "        end\n",
    "    end\n",
    "    \n",
    "    match_id_pheno[i] = indicator;\n",
    "end\n",
    "end"
   ]
  },
  {
   "cell_type": "code",
   "execution_count": 35,
   "id": "b31c4e1c-3e55-4806-8ab0-2bf9b462cd3d",
   "metadata": {},
   "outputs": [
    {
     "data": {
      "text/plain": [
       "37141831977676648"
      ]
     },
     "execution_count": 35,
     "metadata": {},
     "output_type": "execute_result"
    }
   ],
   "source": [
    "sum(match_id_pheno)"
   ]
  },
  {
   "cell_type": "code",
   "execution_count": 36,
   "id": "2f6216a1-7b22-4dfb-810a-f9127beb65a3",
   "metadata": {},
   "outputs": [
    {
     "data": {
      "text/plain": [
       "(134659, 6147)"
      ]
     },
     "execution_count": 36,
     "metadata": {},
     "output_type": "execute_result"
    }
   ],
   "source": [
    "size(geno_mat)"
   ]
  },
  {
   "cell_type": "code",
   "execution_count": 37,
   "id": "8bb541c6-4023-47d8-8665-74b3d2e2f043",
   "metadata": {},
   "outputs": [
    {
     "data": {
      "text/plain": [
       "(4099, 4)"
      ]
     },
     "execution_count": 37,
     "metadata": {},
     "output_type": "execute_result"
    }
   ],
   "source": [
    "size(pheno_10441)"
   ]
  },
  {
   "cell_type": "code",
   "execution_count": 38,
   "id": "066847c3-1633-4c00-9129-6d69624136cc",
   "metadata": {},
   "outputs": [],
   "source": [
    "## subset geno:\n",
    "geno_common = geno_mat[:, match_id .== 1];\n",
    "## subset pheno:\n",
    "pheno_common = pheno_10441[match_id_pheno .== 1, :];"
   ]
  },
  {
   "cell_type": "code",
   "execution_count": 39,
   "id": "4fad78c3-b229-4150-bfa7-a84111dde053",
   "metadata": {},
   "outputs": [
    {
     "data": {
      "text/plain": [
       "(0, 4)"
      ]
     },
     "execution_count": 39,
     "metadata": {},
     "output_type": "execute_result"
    }
   ],
   "source": [
    "size(pheno_common)"
   ]
  },
  {
   "cell_type": "code",
   "execution_count": 40,
   "id": "0611a972-6e85-48e6-878a-e380397658a4",
   "metadata": {},
   "outputs": [
    {
     "data": {
      "text/plain": [
       "(134659, 0)"
      ]
     },
     "execution_count": 40,
     "metadata": {},
     "output_type": "execute_result"
    }
   ],
   "source": [
    "size(geno_common)"
   ]
  },
  {
   "cell_type": "markdown",
   "id": "2485d9fb-1cf5-4086-85e9-c6518523233d",
   "metadata": {},
   "source": [
    "Finally, we got a sample genofile with 4094 individuals, and 134918 genotype markers."
   ]
  },
  {
   "cell_type": "code",
   "execution_count": 41,
   "id": "5e7453b7-6890-4af3-a377-ba6a757db2bc",
   "metadata": {},
   "outputs": [
    {
     "data": {
      "text/plain": [
       "0"
      ]
     },
     "execution_count": 41,
     "metadata": {},
     "output_type": "execute_result"
    }
   ],
   "source": [
    "n = size(geno_common, 2)"
   ]
  },
  {
   "cell_type": "code",
   "execution_count": 42,
   "id": "71068e27-637c-4365-9347-2bcab31b2591",
   "metadata": {},
   "outputs": [],
   "source": [
    "mean_freq = sum(geno_common; dims = 2)./(2*n);"
   ]
  },
  {
   "cell_type": "code",
   "execution_count": 43,
   "id": "9b10f45e-7f9f-43ef-aea2-671beb922fef",
   "metadata": {},
   "outputs": [],
   "source": [
    "less_common_markers = map(x -> (x > 0.90) || (x < 0.10), mean_freq)[:, 1];"
   ]
  },
  {
   "cell_type": "code",
   "execution_count": 44,
   "id": "08c7d40e-47ab-4e2b-86f2-a20331a7a102",
   "metadata": {},
   "outputs": [
    {
     "data": {
      "text/plain": [
       "Vector{Bool}\u001b[90m (alias for \u001b[39m\u001b[90mArray{Bool, 1}\u001b[39m\u001b[90m)\u001b[39m"
      ]
     },
     "execution_count": 44,
     "metadata": {},
     "output_type": "execute_result"
    }
   ],
   "source": [
    "typeof(less_common_markers)"
   ]
  },
  {
   "cell_type": "code",
   "execution_count": 45,
   "id": "2cf3d8a2-708f-49b6-befb-b337377a8233",
   "metadata": {},
   "outputs": [
    {
     "data": {
      "text/plain": [
       "134659"
      ]
     },
     "execution_count": 45,
     "metadata": {},
     "output_type": "execute_result"
    }
   ],
   "source": [
    "size(geno_common, 1) - sum(less_common_markers)"
   ]
  },
  {
   "cell_type": "code",
   "execution_count": 46,
   "id": "89073e51-692a-45f3-b343-5d5a9d187048",
   "metadata": {},
   "outputs": [],
   "source": [
    "geno_processed = permutedims(geno_common[less_common_markers .!= 1, :]);"
   ]
  },
  {
   "cell_type": "code",
   "execution_count": 47,
   "id": "8e60bde2-7993-42c8-ad1a-bee1604670e8",
   "metadata": {},
   "outputs": [],
   "source": [
    "pheno_processed = reshape(pheno_common[:, 4], :, 1);"
   ]
  },
  {
   "cell_type": "code",
   "execution_count": 48,
   "id": "6c8065f5-f846-45bd-b0be-2b4c88bbc760",
   "metadata": {},
   "outputs": [
    {
     "data": {
      "text/plain": [
       "(0, 134659)"
      ]
     },
     "execution_count": 48,
     "metadata": {},
     "output_type": "execute_result"
    }
   ],
   "source": [
    "size(geno_processed)"
   ]
  },
  {
   "cell_type": "code",
   "execution_count": 49,
   "id": "fe873dd8-3a63-4270-ad01-8fef8e4a26cd",
   "metadata": {},
   "outputs": [
    {
     "data": {
      "text/plain": [
       "(0, 1)"
      ]
     },
     "execution_count": 49,
     "metadata": {},
     "output_type": "execute_result"
    }
   ],
   "source": [
    "size(pheno_processed)"
   ]
  },
  {
   "cell_type": "code",
   "execution_count": null,
   "id": "7995062f-a205-4667-b6cb-8536d7f79333",
   "metadata": {},
   "outputs": [],
   "source": []
  },
  {
   "cell_type": "markdown",
   "id": "1cf19d86-42c3-46ca-acbc-a22239c838e9",
   "metadata": {},
   "source": [
    "## Run Gemma:"
   ]
  },
  {
   "cell_type": "code",
   "execution_count": 50,
   "id": "b5850467-c426-4632-a3fe-66f99dc66c72",
   "metadata": {},
   "outputs": [],
   "source": [
    "gemma = \"/home/xyu/software/GEMMA/gemma-0.98.5-linux-static-AMD64\";"
   ]
  },
  {
   "cell_type": "code",
   "execution_count": 51,
   "id": "f07b2a27-c42f-4fc9-a520-b155b375bc5d",
   "metadata": {},
   "outputs": [
    {
     "name": "stdout",
     "output_type": "stream",
     "text": [
      "GEMMA 0.98.5 (2021-08-25) by Xiang Zhou, Pjotr Prins and team (C) 2012-2021\n",
      "\n",
      " type ./gemma -h [num] for detailed help\n",
      " options: \n",
      "  1: quick guide\n",
      "  2: file I/O related\n",
      "  3: SNP QC\n",
      "  4: calculate relatedness matrix\n",
      "  5: perform eigen decomposition\n",
      "  6: perform variance component estimation\n",
      "  7: fit a linear model\n",
      "  8: fit a linear mixed model\n",
      "  9: fit a multivariate linear mixed model\n",
      " 10: fit a Bayesian sparse linear mixed model\n",
      " 11: obtain predicted values\n",
      " 12: calculate snp variance covariance\n",
      " 13: note\n",
      " 14: debug options\n",
      "\n",
      "The GEMMA software is distributed under the GNU General Public v3\n",
      "   -license    show license information\n",
      "   see also http://www.xzlab.org/software.html, https://github.com/genetics-statistics\n"
     ]
    },
    {
     "data": {
      "text/plain": [
       "Process(`\u001b[4m/home/xyu/software/GEMMA/gemma-0.98.5-linux-static-AMD64\u001b[24m \u001b[4m-h\u001b[24m`, ProcessExited(0))"
      ]
     },
     "execution_count": 51,
     "metadata": {},
     "output_type": "execute_result"
    }
   ],
   "source": [
    "run(`$gemma -h`)"
   ]
  },
  {
   "cell_type": "code",
   "execution_count": 52,
   "id": "4c61d1d2-5029-4b50-a7a8-24984cc687a6",
   "metadata": {},
   "outputs": [
    {
     "data": {
      "text/plain": [
       "\"/home/xyu/github/BulkLMM.jl/analysis/HSNIH-Palmer\""
      ]
     },
     "execution_count": 52,
     "metadata": {},
     "output_type": "execute_result"
    }
   ],
   "source": [
    "pwd()"
   ]
  },
  {
   "cell_type": "code",
   "execution_count": 53,
   "id": "159b420f-23e5-4a60-995a-27ea72b2d3e2",
   "metadata": {},
   "outputs": [],
   "source": [
    "include(\"../../src/readData.jl\");"
   ]
  },
  {
   "cell_type": "code",
   "execution_count": 54,
   "id": "9f20a199-1227-4dea-b6ae-a1b6b23eea29",
   "metadata": {},
   "outputs": [
    {
     "ename": "LoadError",
     "evalue": "UndefVarError: geno_supp not defined",
     "output_type": "error",
     "traceback": [
      "UndefVarError: geno_supp not defined",
      "",
      "Stacktrace:",
      " [1] top-level scope",
      "   @ :0",
      " [2] eval",
      "   @ ./boot.jl:368 [inlined]",
      " [3] include_string(mapexpr::typeof(REPL.softscope), mod::Module, code::String, filename::String)",
      "   @ Base ./loading.jl:1428"
     ]
    }
   ],
   "source": [
    "geno_supp"
   ]
  },
  {
   "cell_type": "code",
   "execution_count": 55,
   "id": "54c3d80f-c1be-4226-80ac-143a76338b50",
   "metadata": {},
   "outputs": [
    {
     "ename": "LoadError",
     "evalue": "UndefVarError: geno_supp not defined",
     "output_type": "error",
     "traceback": [
      "UndefVarError: geno_supp not defined",
      "",
      "Stacktrace:",
      " [1] top-level scope",
      "   @ In[55]:1",
      " [2] eval",
      "   @ ./boot.jl:368 [inlined]",
      " [3] include_string(mapexpr::typeof(REPL.softscope), mod::Module, code::String, filename::String)",
      "   @ Base ./loading.jl:1428"
     ]
    }
   ],
   "source": [
    "geno_supp_processed = geno_supp[less_common_markers .!= 1, :];"
   ]
  },
  {
   "cell_type": "code",
   "execution_count": 56,
   "id": "eb5c0729-b95c-4b4e-81c2-ba16bce0e121",
   "metadata": {},
   "outputs": [
    {
     "ename": "LoadError",
     "evalue": "UndefVarError: geno_supp_processed not defined",
     "output_type": "error",
     "traceback": [
      "UndefVarError: geno_supp_processed not defined",
      "",
      "Stacktrace:",
      " [1] top-level scope",
      "   @ In[56]:1",
      " [2] eval",
      "   @ ./boot.jl:368 [inlined]",
      " [3] include_string(mapexpr::typeof(REPL.softscope), mod::Module, code::String, filename::String)",
      "   @ Base ./loading.jl:1428"
     ]
    }
   ],
   "source": [
    "size(geno_supp_processed)"
   ]
  },
  {
   "cell_type": "code",
   "execution_count": 57,
   "id": "448f4f2a-40ad-45f8-b66d-b71db361e7b8",
   "metadata": {},
   "outputs": [
    {
     "name": "stdout",
     "output_type": "stream",
     "text": [
      "  0.000005 seconds (1 allocation: 64 bytes)\n"
     ]
    }
   ],
   "source": [
    "@time geno_processed = permutedims(geno_processed);"
   ]
  },
  {
   "cell_type": "code",
   "execution_count": 58,
   "id": "7ee0fce3-7407-4386-97a6-74bb824bd834",
   "metadata": {},
   "outputs": [
    {
     "data": {
      "text/plain": [
       "(134659, 0)"
      ]
     },
     "execution_count": 58,
     "metadata": {},
     "output_type": "execute_result"
    }
   ],
   "source": [
    "size(geno_processed)"
   ]
  },
  {
   "cell_type": "code",
   "execution_count": 59,
   "id": "405c40a0-02bc-49f8-8aae-58068d5c6422",
   "metadata": {},
   "outputs": [
    {
     "ename": "LoadError",
     "evalue": "UndefVarError: geno_supp_processed not defined",
     "output_type": "error",
     "traceback": [
      "UndefVarError: geno_supp_processed not defined",
      "",
      "Stacktrace:",
      " [1] top-level scope",
      "   @ In[59]:1",
      " [2] eval",
      "   @ ./boot.jl:368 [inlined]",
      " [3] include_string(mapexpr::typeof(REPL.softscope), mod::Module, code::String, filename::String)",
      "   @ Base ./loading.jl:1428"
     ]
    }
   ],
   "source": [
    "marker_names = geno_supp_processed[:, 2];\n",
    "minor_allele = geno_supp_processed[:, 4];\n",
    "major_allele = geno_supp_processed[:, 5];\n",
    "@time geno_prob_bimbam = hcat(marker_names, minor_allele, major_allele);"
   ]
  },
  {
   "cell_type": "code",
   "execution_count": 60,
   "id": "406e788e-3f24-4263-941d-104ea54831ee",
   "metadata": {},
   "outputs": [
    {
     "ename": "LoadError",
     "evalue": "UndefVarError: geno_prob_bimbam not defined",
     "output_type": "error",
     "traceback": [
      "UndefVarError: geno_prob_bimbam not defined",
      "",
      "Stacktrace:",
      " [1] top-level scope",
      "   @ In[60]:1",
      " [2] eval",
      "   @ ./boot.jl:368 [inlined]",
      " [3] include_string(mapexpr::typeof(REPL.softscope), mod::Module, code::String, filename::String)",
      "   @ Base ./loading.jl:1428"
     ]
    }
   ],
   "source": [
    "geno_prob_bimbam = hcat(geno_prob_bimbam, geno_processed);"
   ]
  },
  {
   "cell_type": "code",
   "execution_count": 61,
   "id": "fca4f755-bd45-49f9-b186-714f3f996890",
   "metadata": {},
   "outputs": [
    {
     "ename": "LoadError",
     "evalue": "UndefVarError: geno_prob_bimbam not defined",
     "output_type": "error",
     "traceback": [
      "UndefVarError: geno_prob_bimbam not defined",
      "",
      "Stacktrace:",
      " [1] top-level scope",
      "   @ In[61]:1",
      " [2] eval",
      "   @ ./boot.jl:368 [inlined]",
      " [3] include_string(mapexpr::typeof(REPL.softscope), mod::Module, code::String, filename::String)",
      "   @ Base ./loading.jl:1428"
     ]
    }
   ],
   "source": [
    "geno_prob_bimbam[1:10, :]"
   ]
  },
  {
   "cell_type": "code",
   "execution_count": 62,
   "id": "b888acf2-4ba8-4cb9-9787-12875b3a9a69",
   "metadata": {},
   "outputs": [
    {
     "ename": "LoadError",
     "evalue": "UndefVarError: geno_prob_bimbam not defined",
     "output_type": "error",
     "traceback": [
      "UndefVarError: geno_prob_bimbam not defined",
      "",
      "Stacktrace:",
      " [1] top-level scope",
      "   @ In[62]:1",
      " [2] eval",
      "   @ ./boot.jl:368 [inlined]",
      " [3] include_string(mapexpr::typeof(REPL.softscope), mod::Module, code::String, filename::String)",
      "   @ Base ./loading.jl:1428"
     ]
    }
   ],
   "source": [
    "size(geno_prob_bimbam)"
   ]
  },
  {
   "cell_type": "code",
   "execution_count": 63,
   "id": "380b333e-57c2-4fb1-a999-26f7da4ab235",
   "metadata": {},
   "outputs": [],
   "source": [
    "pheno_filename = \"pheno.txt\";"
   ]
  },
  {
   "cell_type": "code",
   "execution_count": 64,
   "id": "f8a90e3a-f69f-405f-b441-1ae5d67a2e05",
   "metadata": {},
   "outputs": [],
   "source": [
    "geno_filename = \"geno.txt\";"
   ]
  },
  {
   "cell_type": "code",
   "execution_count": 65,
   "id": "8b8ce9d1-c354-493b-a021-74a0acbaf9f8",
   "metadata": {},
   "outputs": [],
   "source": [
    "#writedlm(pheno_filename, pheno_processed);"
   ]
  },
  {
   "cell_type": "code",
   "execution_count": 66,
   "id": "8a5c0cfd-a097-4ce4-b9d7-871489f38c49",
   "metadata": {},
   "outputs": [],
   "source": [
    "#writeToFile(geno_prob_bimbam, geno_filename);"
   ]
  },
  {
   "cell_type": "code",
   "execution_count": 67,
   "id": "0d45a4a1-3569-4eec-8edd-e72a0b8fc8c6",
   "metadata": {},
   "outputs": [],
   "source": [
    "# @time run(`$gemma -g $geno_filename -p $pheno_filename -gk 1 -o kinship`)"
   ]
  },
  {
   "cell_type": "code",
   "execution_count": 68,
   "id": "e49b0ee7-7e4e-46fa-9265-9f7950e0897f",
   "metadata": {},
   "outputs": [],
   "source": [
    "kinship_Gc = CSV.read(\"output/kinship.cXX.txt\", DataFrame, delim = '\\t', header = false);"
   ]
  },
  {
   "cell_type": "code",
   "execution_count": 69,
   "id": "f579d759-f303-413e-8ea9-373964a3f2e8",
   "metadata": {},
   "outputs": [
    {
     "data": {
      "text/plain": [
       "(4094, 4094)"
      ]
     },
     "execution_count": 69,
     "metadata": {},
     "output_type": "execute_result"
    }
   ],
   "source": [
    "size(kinship_Gc)"
   ]
  },
  {
   "cell_type": "code",
   "execution_count": 70,
   "id": "4c02cae3-68b3-4608-ac63-334c79d2644c",
   "metadata": {},
   "outputs": [
    {
     "data": {
      "text/plain": [
       "0×1 Matrix{Float64}"
      ]
     },
     "execution_count": 70,
     "metadata": {},
     "output_type": "execute_result"
    }
   ],
   "source": [
    "pheno_processed"
   ]
  },
  {
   "cell_type": "code",
   "execution_count": 71,
   "id": "ee3a3d12-9592-4bb9-9a1b-711d8ad3da16",
   "metadata": {},
   "outputs": [],
   "source": [
    "kinshipMat_Gc = Matrix(kinship_Gc); "
   ]
  },
  {
   "cell_type": "code",
   "execution_count": 72,
   "id": "165adbd5-b3fe-46c4-aa86-aa9bc12ab833",
   "metadata": {},
   "outputs": [
    {
     "data": {
      "text/plain": [
       "(0, 1)"
      ]
     },
     "execution_count": 72,
     "metadata": {},
     "output_type": "execute_result"
    }
   ],
   "source": [
    "size(pheno_processed)"
   ]
  },
  {
   "cell_type": "code",
   "execution_count": 73,
   "id": "f85deaf3-b014-45e9-be43-984bd07daccc",
   "metadata": {},
   "outputs": [],
   "source": [
    "geno_processed_transpose = permutedims(geno_processed);"
   ]
  },
  {
   "cell_type": "code",
   "execution_count": 74,
   "id": "efa05d21-5dc8-4357-9d5f-73c6a0fd4831",
   "metadata": {},
   "outputs": [
    {
     "data": {
      "text/plain": [
       "(0, 134659)"
      ]
     },
     "execution_count": 74,
     "metadata": {},
     "output_type": "execute_result"
    }
   ],
   "source": [
    "size(geno_processed_transpose)"
   ]
  },
  {
   "cell_type": "code",
   "execution_count": 75,
   "id": "b0a6cef8-afc5-44b9-9fce-64d4d49a994b",
   "metadata": {},
   "outputs": [],
   "source": [
    "# writedlm(\"pheno.csv\", pheno_processed);\n",
    "# writedlm(\"geno.csv\", geno_processed_transpose);"
   ]
  },
  {
   "cell_type": "code",
   "execution_count": null,
   "id": "6f25df62-49f4-4f75-a91d-9c34ee0218c4",
   "metadata": {},
   "outputs": [],
   "source": [
    "# @time results_bulklmm_alt = scan(pheno_processed, geno_processed_transpose, kinshipMat_Gc; reml = false, method = \"null\");"
   ]
  },
  {
   "cell_type": "code",
   "execution_count": null,
   "id": "c1069bba-3a14-4c03-87ba-d840fac8ea69",
   "metadata": {},
   "outputs": [],
   "source": [
    "# @time run(`$gemma -g $geno_filename -p $pheno_filename -k output/kinship.cXX.txt -lmm 2 -o gemma_results.txt`)"
   ]
  },
  {
   "cell_type": "markdown",
   "id": "2fd0a704-b01b-4b62-a53b-27d879aaefd5",
   "metadata": {},
   "source": [
    "## Run BulkLMM:"
   ]
  },
  {
   "cell_type": "code",
   "execution_count": null,
   "id": "7988feab-0a44-43bb-be22-cd8c0c6ab599",
   "metadata": {},
   "outputs": [],
   "source": [
    "# @time kinship_BulkLMM = calcKinship(geno_processed)"
   ]
  },
  {
   "cell_type": "code",
   "execution_count": null,
   "id": "9f99f931-1ca2-4fb8-adaf-88e91bd5977a",
   "metadata": {},
   "outputs": [],
   "source": [
    "# size(kinship_BulkLMM)"
   ]
  },
  {
   "cell_type": "code",
   "execution_count": null,
   "id": "30fbc73d-e704-40b8-9c8f-aa2c19ef4d11",
   "metadata": {},
   "outputs": [],
   "source": [
    "# pheno_common"
   ]
  },
  {
   "cell_type": "code",
   "execution_count": null,
   "id": "4eaa07e2-0ba2-4e25-9eef-a343a14a0dbc",
   "metadata": {},
   "outputs": [],
   "source": [
    "# @time results_BulkLMM = scan(pheno_processed, geno_processed, kinship_BulkLMM; reml = false, method = \"alt\")"
   ]
  }
 ],
 "metadata": {
  "kernelspec": {
   "display_name": "Julia 1.8.1",
   "language": "julia",
   "name": "julia-1.8"
  },
  "language_info": {
   "file_extension": ".jl",
   "mimetype": "application/julia",
   "name": "julia",
   "version": "1.8.1"
  }
 },
 "nbformat": 4,
 "nbformat_minor": 5
}
