{
 "cells": [
  {
   "cell_type": "code",
   "execution_count": 6,
   "id": "40e445b9-2cc9-425d-b58b-702d7a82ac45",
   "metadata": {},
   "outputs": [],
   "source": [
    "using Pkg\n",
    "# Pkg.add(\"Profile\")\n",
    "# Pkg.instantiate()"
   ]
  },
  {
   "cell_type": "code",
   "execution_count": 7,
   "id": "657ab3eb-c481-4859-ac1e-250b11780d2d",
   "metadata": {},
   "outputs": [],
   "source": [
    "#= dependencies = [\"DelimitedFiles\", \"LinearAlgebra\", \"Optim\", \"Distributions\", \"Test\",\n",
    "                \"BenchmarkTools\", \"Random\", \"CSV\", \"DataFrames\", \"Distributed\", \"Plots\"];\n",
    "Pkg.add(dependencies) =#"
   ]
  },
  {
   "cell_type": "code",
   "execution_count": 8,
   "id": "140ca48f-88a6-4046-aab9-c17d5f76757b",
   "metadata": {},
   "outputs": [],
   "source": [
    "using DelimitedFiles\n",
    "using LinearAlgebra\n",
    "using Optim\n",
    "using Distributions\n",
    "using Test\n",
    "using BenchmarkTools\n",
    "using Random\n",
    "using CSV\n",
    "using DataFrames\n",
    "using Plots\n",
    "using Profile\n",
    "using Distributed"
   ]
  },
  {
   "cell_type": "code",
   "execution_count": 9,
   "id": "d9e252dc-d685-45d7-af39-667f919940f3",
   "metadata": {},
   "outputs": [
    {
     "data": {
      "text/plain": [
       "\"/Users/FredYu/Documents/GitHub/BulkLMM.jl/analysis\""
      ]
     },
     "execution_count": 9,
     "metadata": {},
     "output_type": "execute_result"
    }
   ],
   "source": [
    "pwd()"
   ]
  },
  {
   "cell_type": "code",
   "execution_count": 60,
   "id": "f590a242-f191-4a0f-b63b-3a452a799585",
   "metadata": {},
   "outputs": [],
   "source": [
    "## Include the source code of BulkLMM to be tested:\n",
    "include(\"../src/scan.jl\");\n",
    "include(\"../src/lmm.jl\");\n",
    "include(\"../src/wls.jl\");\n",
    "include(\"../src/util.jl\");\n",
    "include(\"../src/kinship.jl\");\n",
    "include(\"../src/readData.jl\");\n",
    "include(\"../src/scan_for_tests.jl\")\n",
    "include(\"../src/scan_distributed.jl\") # new function\n",
    "\n",
    "## Also include the helper functions for writing tests:\n",
    "include(\"../test/testHelper.jl\");"
   ]
  },
  {
   "cell_type": "code",
   "execution_count": 11,
   "id": "fbbe790e-aec1-4c4f-a8f4-7c76e964f6f0",
   "metadata": {},
   "outputs": [],
   "source": [
    "## Read in BXD data:\n",
    "pheno_file = \"../data/bxdData/BXDtraits.csv\"\n",
    "pheno = readBXDpheno(pheno_file);\n",
    "geno_file = \"../data/bxdData/BXDgeno_prob.csv\"\n",
    "geno = readGenoProb_ExcludeComplements(geno_file);\n",
    "\n",
    "kinship = calcKinship(geno); # calculate kinship matrix from genotype data"
   ]
  },
  {
   "cell_type": "code",
   "execution_count": 43,
   "id": "cb01140e-afe9-47c9-94a8-e1b5be1252c9",
   "metadata": {},
   "outputs": [],
   "source": [
    "m = size(pheno, 2);\n",
    "(n, p) = size(geno); # number of markers"
   ]
  },
  {
   "cell_type": "code",
   "execution_count": 8,
   "id": "6afb06d1-7339-4f95-92ce-2dcb0db38dce",
   "metadata": {},
   "outputs": [],
   "source": [
    "## Consider the 7919-th trait\n",
    "pheno_y = reshape(pheno[:, 7919], :, 1);"
   ]
  },
  {
   "cell_type": "code",
   "execution_count": null,
   "id": "593b0889-9302-422d-bc4d-12c473454cf3",
   "metadata": {},
   "outputs": [],
   "source": []
  },
  {
   "cell_type": "code",
   "execution_count": 9,
   "id": "89880c04-450c-405f-baa8-6e6898366e36",
   "metadata": {},
   "outputs": [],
   "source": [
    "n_seeds = 20;"
   ]
  },
  {
   "cell_type": "code",
   "execution_count": 10,
   "id": "9bbc410d-3c9c-4c5e-afc6-00d8b0a683ad",
   "metadata": {},
   "outputs": [
    {
     "name": "stderr",
     "output_type": "stream",
     "text": [
      "WARNING: using StatsBase.rss in module Main conflicts with an existing identifier.\n"
     ]
    }
   ],
   "source": [
    "using StatsBase"
   ]
  },
  {
   "cell_type": "code",
   "execution_count": 11,
   "id": "10d81d75-65ce-45ce-864e-95b94c615cfe",
   "metadata": {},
   "outputs": [],
   "source": [
    "seeds_list = StatsBase.sample(1:100, n_seeds; replace = false);"
   ]
  },
  {
   "cell_type": "code",
   "execution_count": null,
   "id": "033b21b1-0e1b-4d71-a4d6-957e90f9529c",
   "metadata": {},
   "outputs": [],
   "source": []
  },
  {
   "cell_type": "code",
   "execution_count": 12,
   "id": "e4003791-ceb6-4bd0-8b67-38d7ae000c2f",
   "metadata": {},
   "outputs": [],
   "source": [
    "(y0, X0, lambda0) = transform1(pheno_y, geno, kinship);"
   ]
  },
  {
   "cell_type": "code",
   "execution_count": 13,
   "id": "28770548-b805-4c73-8e0f-90eff2a6fb3f",
   "metadata": {},
   "outputs": [],
   "source": [
    "(r0, X00) = transform2(y0, X0, lambda0; reml = false);"
   ]
  },
  {
   "cell_type": "code",
   "execution_count": null,
   "id": "b6640ac5-9c3a-44ab-88c8-d1f459f00fce",
   "metadata": {},
   "outputs": [],
   "source": []
  },
  {
   "cell_type": "code",
   "execution_count": 14,
   "id": "3413ce79-aa65-4dce-9858-34773041e5f5",
   "metadata": {},
   "outputs": [],
   "source": [
    "# addprocs(10);"
   ]
  },
  {
   "cell_type": "code",
   "execution_count": 15,
   "id": "63364623-7897-4d4c-88da-4880d470cb2d",
   "metadata": {},
   "outputs": [
    {
     "data": {
      "text/plain": [
       "10-element Vector{Int64}:\n",
       "  2\n",
       "  3\n",
       "  4\n",
       "  5\n",
       "  6\n",
       "  7\n",
       "  8\n",
       "  9\n",
       " 10\n",
       " 11"
      ]
     },
     "execution_count": 15,
     "metadata": {},
     "output_type": "execute_result"
    }
   ],
   "source": [
    "workers()"
   ]
  },
  {
   "cell_type": "code",
   "execution_count": 16,
   "id": "95cb0b1e-aa25-47ca-a90b-7568270a0e70",
   "metadata": {},
   "outputs": [],
   "source": [
    "# rmprocs(workers())"
   ]
  },
  {
   "cell_type": "code",
   "execution_count": 17,
   "id": "c5f623da-d4de-417e-bcd7-ed716fa0c737",
   "metadata": {},
   "outputs": [],
   "source": [
    "@everywhere begin\n",
    "    using Random\n",
    "    using LinearAlgebra\n",
    "    using Optim\n",
    "    using Distributed\n",
    "    \n",
    "    ## Include the source code of BulkLMM to be tested:\n",
    "    include(\"../src/scan.jl\");\n",
    "    include(\"../src/lmm.jl\");\n",
    "    include(\"../src/wls.jl\");\n",
    "    include(\"../src/util.jl\");\n",
    "    include(\"../src/kinship.jl\");\n",
    "    include(\"../src/readData.jl\");\n",
    "    include(\"../src/scan_for_tests.jl\")\n",
    "    include(\"../src/scan_distributed.jl\")\n",
    "\n",
    "    include(\"../src/parallel_helpers.jl\")\n",
    "end"
   ]
  },
  {
   "cell_type": "code",
   "execution_count": 18,
   "id": "103325f8-2429-48c8-814c-9b496aa82e1a",
   "metadata": {},
   "outputs": [],
   "source": [
    "LODs_by_blocks = scan_perms_distributed(pheno_y, geno, kinship; reml = false, nperms = 1000, rndseed = 0, original = true, \n",
    "    option = \"by blocks\", nblocks = 1000);"
   ]
  },
  {
   "cell_type": "code",
   "execution_count": 19,
   "id": "001b0ce5-3dba-44e6-b761-dc3464fed78e",
   "metadata": {},
   "outputs": [],
   "source": [
    "LODs_ordinary = scan_perms(pheno_y, geno, kinship; reml = false, nperms = 1000, rndseed = 0, original = true);"
   ]
  },
  {
   "cell_type": "code",
   "execution_count": 20,
   "id": "fd99e486-f40b-4e00-ad2c-6b38437343b9",
   "metadata": {},
   "outputs": [],
   "source": [
    "LODs_by_nperms = scan_perms_distributed(pheno_y, geno, kinship; reml = false, nperms = 1000, original = true, \n",
    "    option = \"by nperms\", ncopies = 10);"
   ]
  },
  {
   "cell_type": "code",
   "execution_count": 25,
   "id": "6fd187b0-e7fd-4810-8756-70dcea9b950d",
   "metadata": {},
   "outputs": [
    {
     "data": {
      "text/plain": [
       "6×7321 Matrix{Float64}:\n",
       " 0.00819636  0.00819636  0.00819636  …  0.0449878  0.0128283  0.0128283\n",
       " 0.604956    0.604956    0.604956       1.33928    1.29426    1.29426\n",
       " 0.0264842   0.0264842   0.0264842      0.16927    0.069518   0.069518\n",
       " 0.00585467  0.00585467  0.00585467     0.589608   0.14854    0.14854\n",
       " 0.477297    0.477297    0.477297       0.0317133  0.0625366  0.0625366\n",
       " 0.140293    0.140293    0.140293    …  0.0400303  0.0338204  0.0338204"
      ]
     },
     "execution_count": 25,
     "metadata": {},
     "output_type": "execute_result"
    }
   ],
   "source": [
    "LODs_by_blocks[1:6, :]"
   ]
  },
  {
   "cell_type": "code",
   "execution_count": 26,
   "id": "6550382c-841a-45cd-adb6-08d28924cf05",
   "metadata": {},
   "outputs": [
    {
     "data": {
      "text/plain": [
       "6×7321 Matrix{Float64}:\n",
       " 0.00819636  0.00819636  0.00819636  …  0.0449878  0.0128283  0.0128283\n",
       " 0.604956    0.604956    0.604956       1.33928    1.29426    1.29426\n",
       " 0.0264842   0.0264842   0.0264842      0.16927    0.069518   0.069518\n",
       " 0.00585467  0.00585467  0.00585467     0.589608   0.14854    0.14854\n",
       " 0.477297    0.477297    0.477297       0.0317133  0.0625366  0.0625366\n",
       " 0.140293    0.140293    0.140293    …  0.0400303  0.0338204  0.0338204"
      ]
     },
     "execution_count": 26,
     "metadata": {},
     "output_type": "execute_result"
    }
   ],
   "source": [
    "LODs_ordinary[1:6, :]"
   ]
  },
  {
   "cell_type": "code",
   "execution_count": 27,
   "id": "8d93496f-f65a-4a0d-8178-36ed8d7e8853",
   "metadata": {},
   "outputs": [
    {
     "data": {
      "text/plain": [
       "6×7321 Matrix{Float64}:\n",
       " 0.00819636  0.00819636  0.00819636  …  0.0449878   0.0128283   0.0128283\n",
       " 0.0216736   0.0216736   0.0216736      0.228459    0.229219    0.229219\n",
       " 0.00367439  0.00367439  0.00367439     0.0355759   0.0113422   0.0113422\n",
       " 0.0915744   0.0915744   0.0915744      4.88055e-5  0.00721153  0.00721153\n",
       " 0.263331    0.263331    0.263331       0.246703    0.343597    0.343597\n",
       " 0.00102973  0.00102973  0.00102973  …  0.118041    0.152828    0.152828"
      ]
     },
     "execution_count": 27,
     "metadata": {},
     "output_type": "execute_result"
    }
   ],
   "source": [
    "LODs_by_nperms[1:6, :]"
   ]
  },
  {
   "cell_type": "code",
   "execution_count": 21,
   "id": "ef4ce201-07e8-4ec5-b211-6fd00a5855e1",
   "metadata": {},
   "outputs": [
    {
     "data": {
      "text/plain": [
       "7.888609052210118e-29"
      ]
     },
     "execution_count": 21,
     "metadata": {},
     "output_type": "execute_result"
    }
   ],
   "source": [
    "maxSqDiff(LODs_by_blocks, LODs_ordinary)"
   ]
  },
  {
   "cell_type": "code",
   "execution_count": 57,
   "id": "df2c22fe-0652-4124-abf4-95d327ea90e4",
   "metadata": {},
   "outputs": [
    {
     "data": {
      "text/plain": [
       "7321"
      ]
     },
     "execution_count": 57,
     "metadata": {},
     "output_type": "execute_result"
    }
   ],
   "source": [
    "p"
   ]
  },
  {
   "cell_type": "code",
   "execution_count": 74,
   "id": "b8248121-9d3e-40d6-bdc6-8f8eb6001c8b",
   "metadata": {},
   "outputs": [
    {
     "data": {
      "text/plain": [
       "3"
      ]
     },
     "execution_count": 74,
     "metadata": {},
     "output_type": "execute_result"
    }
   ],
   "source": [
    "floor(Int, 11/3)"
   ]
  },
  {
   "cell_type": "code",
   "execution_count": 73,
   "id": "93201e4d-c1a4-4e38-869f-1613fc060a26",
   "metadata": {},
   "outputs": [
    {
     "data": {
      "text/plain": [
       "2"
      ]
     },
     "execution_count": 73,
     "metadata": {},
     "output_type": "execute_result"
    }
   ],
   "source": [
    "11%3"
   ]
  },
  {
   "cell_type": "code",
   "execution_count": 63,
   "id": "c0d2920a-da53-41da-b555-e861f6d39561",
   "metadata": {},
   "outputs": [
    {
     "data": {
      "text/plain": [
       "121"
      ]
     },
     "execution_count": 63,
     "metadata": {},
     "output_type": "execute_result"
    }
   ],
   "source": [
    "7321%150"
   ]
  },
  {
   "cell_type": "code",
   "execution_count": 59,
   "id": "a3a2107c-474e-45bd-bb37-9758f56df606",
   "metadata": {},
   "outputs": [
    {
     "data": {
      "text/plain": [
       "150-element Vector{UnitRange{Int64}}:\n",
       " 1:48\n",
       " 49:96\n",
       " 97:144\n",
       " 145:192\n",
       " 193:240\n",
       " 241:288\n",
       " 289:336\n",
       " 337:384\n",
       " 385:432\n",
       " 433:480\n",
       " 481:528\n",
       " 529:576\n",
       " 577:624\n",
       " ⋮\n",
       " 6625:6672\n",
       " 6673:6720\n",
       " 6721:6768\n",
       " 6769:6816\n",
       " 6817:6864\n",
       " 6865:6912\n",
       " 6913:6960\n",
       " 6961:7008\n",
       " 7009:7056\n",
       " 7057:7104\n",
       " 7105:7152\n",
       " 7153:7321"
      ]
     },
     "execution_count": 59,
     "metadata": {},
     "output_type": "execute_result"
    }
   ],
   "source": [
    "createBlocks(p, 150)"
   ]
  },
  {
   "cell_type": "code",
   "execution_count": 60,
   "id": "5f89b5fe-4abc-4866-91e5-b51c765b4234",
   "metadata": {},
   "outputs": [
    {
     "data": {
      "text/plain": [
       "150-element Vector{UnitRange{Int64}}:\n",
       " 1:49\n",
       " 50:98\n",
       " 99:147\n",
       " 148:196\n",
       " 197:245\n",
       " 246:294\n",
       " 295:343\n",
       " 344:392\n",
       " 393:441\n",
       " 442:490\n",
       " 491:539\n",
       " 540:588\n",
       " 589:637\n",
       " ⋮\n",
       " 6763:6811\n",
       " 6812:6860\n",
       " 6861:6909\n",
       " 6910:6958\n",
       " 6959:7007\n",
       " 7008:7056\n",
       " 7057:7105\n",
       " 7106:7154\n",
       " 7155:7203\n",
       " 7204:7252\n",
       " 7253:7301\n",
       " 7302:7321"
      ]
     },
     "execution_count": 60,
     "metadata": {},
     "output_type": "execute_result"
    }
   ],
   "source": [
    "createBlocks2(p, ceil(Int, p/150))"
   ]
  },
  {
   "cell_type": "code",
   "execution_count": 66,
   "id": "645daae5-3176-463d-af92-108bb926cc82",
   "metadata": {},
   "outputs": [
    {
     "data": {
      "text/plain": [
       "BenchmarkTools.Trial: 18 samples with 1 evaluation.\n",
       " Range \u001b[90m(\u001b[39m\u001b[36m\u001b[1mmin\u001b[22m\u001b[39m … \u001b[35mmax\u001b[39m\u001b[90m):  \u001b[39m\u001b[36m\u001b[1m267.491 ms\u001b[22m\u001b[39m … \u001b[35m307.450 ms\u001b[39m  \u001b[90m┊\u001b[39m GC \u001b[90m(\u001b[39mmin … max\u001b[90m): \u001b[39m0.00% … 0.00%\n",
       " Time  \u001b[90m(\u001b[39m\u001b[34m\u001b[1mmedian\u001b[22m\u001b[39m\u001b[90m):     \u001b[39m\u001b[34m\u001b[1m282.047 ms               \u001b[22m\u001b[39m\u001b[90m┊\u001b[39m GC \u001b[90m(\u001b[39mmedian\u001b[90m):    \u001b[39m0.00%\n",
       " Time  \u001b[90m(\u001b[39m\u001b[32m\u001b[1mmean\u001b[22m\u001b[39m ± \u001b[32mσ\u001b[39m\u001b[90m):   \u001b[39m\u001b[32m\u001b[1m283.897 ms\u001b[22m\u001b[39m ± \u001b[32m 12.539 ms\u001b[39m  \u001b[90m┊\u001b[39m GC \u001b[90m(\u001b[39mmean ± σ\u001b[90m):  \u001b[39m0.63% ± 1.53%\n",
       "\n",
       "  \u001b[39m▁\u001b[39m \u001b[39m▁\u001b[39m▁\u001b[39m▁\u001b[39m \u001b[39m \u001b[39m \u001b[39m▁\u001b[39m \u001b[39m \u001b[39m \u001b[39m▁\u001b[39m \u001b[39m \u001b[39m \u001b[39m▁\u001b[39m \u001b[39m▁\u001b[39m \u001b[34m▁\u001b[39m\u001b[39m \u001b[39m \u001b[39m▁\u001b[39m \u001b[32m \u001b[39m\u001b[39m▁\u001b[39m▁\u001b[39m \u001b[39m▁\u001b[39m \u001b[39m \u001b[39m \u001b[39m \u001b[39m \u001b[39m \u001b[39m \u001b[39m \u001b[39m \u001b[39m \u001b[39m \u001b[39m \u001b[39m \u001b[39m \u001b[39m█\u001b[39m \u001b[39m \u001b[39m \u001b[39m \u001b[39m \u001b[39m \u001b[39m \u001b[39m \u001b[39m█\u001b[39m \u001b[39m \u001b[39m \u001b[39m \u001b[39m \u001b[39m \u001b[39m▁\u001b[39m \u001b[39m \n",
       "  \u001b[39m█\u001b[39m▁\u001b[39m█\u001b[39m█\u001b[39m█\u001b[39m▁\u001b[39m▁\u001b[39m▁\u001b[39m█\u001b[39m▁\u001b[39m▁\u001b[39m▁\u001b[39m█\u001b[39m▁\u001b[39m▁\u001b[39m▁\u001b[39m█\u001b[39m▁\u001b[39m█\u001b[39m▁\u001b[34m█\u001b[39m\u001b[39m▁\u001b[39m▁\u001b[39m█\u001b[39m▁\u001b[32m▁\u001b[39m\u001b[39m█\u001b[39m█\u001b[39m▁\u001b[39m█\u001b[39m▁\u001b[39m▁\u001b[39m▁\u001b[39m▁\u001b[39m▁\u001b[39m▁\u001b[39m▁\u001b[39m▁\u001b[39m▁\u001b[39m▁\u001b[39m▁\u001b[39m▁\u001b[39m▁\u001b[39m▁\u001b[39m█\u001b[39m▁\u001b[39m▁\u001b[39m▁\u001b[39m▁\u001b[39m▁\u001b[39m▁\u001b[39m▁\u001b[39m▁\u001b[39m█\u001b[39m▁\u001b[39m▁\u001b[39m▁\u001b[39m▁\u001b[39m▁\u001b[39m▁\u001b[39m█\u001b[39m \u001b[39m▁\n",
       "  267 ms\u001b[90m           Histogram: frequency by time\u001b[39m          307 ms \u001b[0m\u001b[1m<\u001b[22m\n",
       "\n",
       " Memory estimate\u001b[90m: \u001b[39m\u001b[33m44.51 MiB\u001b[39m, allocs estimate\u001b[90m: \u001b[39m\u001b[33m13274\u001b[39m."
      ]
     },
     "execution_count": 66,
     "metadata": {},
     "output_type": "execute_result"
    }
   ],
   "source": [
    "@benchmark scan_perms_distributed(pheno_y, geno, kinship; reml = false, nperms = 150, rndseed = 0, original = true, \n",
    "    option = \"by blocks\", nblocks = 150)"
   ]
  },
  {
   "cell_type": "code",
   "execution_count": 65,
   "id": "d85bce0c-b78d-444f-8e15-b5c67ee3120d",
   "metadata": {},
   "outputs": [
    {
     "data": {
      "text/plain": [
       "BenchmarkTools.Trial: 10 samples with 1 evaluation.\n",
       " Range \u001b[90m(\u001b[39m\u001b[36m\u001b[1mmin\u001b[22m\u001b[39m … \u001b[35mmax\u001b[39m\u001b[90m):  \u001b[39m\u001b[36m\u001b[1m489.938 ms\u001b[22m\u001b[39m … \u001b[35m539.166 ms\u001b[39m  \u001b[90m┊\u001b[39m GC \u001b[90m(\u001b[39mmin … max\u001b[90m): \u001b[39m0.71% … 0.00%\n",
       " Time  \u001b[90m(\u001b[39m\u001b[34m\u001b[1mmedian\u001b[22m\u001b[39m\u001b[90m):     \u001b[39m\u001b[34m\u001b[1m500.392 ms               \u001b[22m\u001b[39m\u001b[90m┊\u001b[39m GC \u001b[90m(\u001b[39mmedian\u001b[90m):    \u001b[39m0.00%\n",
       " Time  \u001b[90m(\u001b[39m\u001b[32m\u001b[1mmean\u001b[22m\u001b[39m ± \u001b[32mσ\u001b[39m\u001b[90m):   \u001b[39m\u001b[32m\u001b[1m505.726 ms\u001b[22m\u001b[39m ± \u001b[32m 16.178 ms\u001b[39m  \u001b[90m┊\u001b[39m GC \u001b[90m(\u001b[39mmean ± σ\u001b[90m):  \u001b[39m0.34% ± 0.44%\n",
       "\n",
       "  \u001b[39m█\u001b[39m█\u001b[39m \u001b[39m \u001b[39m \u001b[39m \u001b[39m \u001b[39m█\u001b[39m \u001b[39m█\u001b[39m \u001b[39m \u001b[39m█\u001b[34m█\u001b[39m\u001b[39m \u001b[39m \u001b[39m \u001b[39m█\u001b[39m \u001b[39m \u001b[32m \u001b[39m\u001b[39m \u001b[39m \u001b[39m \u001b[39m█\u001b[39m \u001b[39m \u001b[39m \u001b[39m \u001b[39m \u001b[39m \u001b[39m \u001b[39m \u001b[39m \u001b[39m \u001b[39m \u001b[39m \u001b[39m \u001b[39m \u001b[39m \u001b[39m \u001b[39m \u001b[39m \u001b[39m \u001b[39m \u001b[39m \u001b[39m \u001b[39m \u001b[39m█\u001b[39m \u001b[39m \u001b[39m \u001b[39m \u001b[39m \u001b[39m \u001b[39m \u001b[39m \u001b[39m \u001b[39m \u001b[39m \u001b[39m█\u001b[39m \u001b[39m \n",
       "  \u001b[39m█\u001b[39m█\u001b[39m▁\u001b[39m▁\u001b[39m▁\u001b[39m▁\u001b[39m▁\u001b[39m█\u001b[39m▁\u001b[39m█\u001b[39m▁\u001b[39m▁\u001b[39m█\u001b[34m█\u001b[39m\u001b[39m▁\u001b[39m▁\u001b[39m▁\u001b[39m█\u001b[39m▁\u001b[39m▁\u001b[32m▁\u001b[39m\u001b[39m▁\u001b[39m▁\u001b[39m▁\u001b[39m█\u001b[39m▁\u001b[39m▁\u001b[39m▁\u001b[39m▁\u001b[39m▁\u001b[39m▁\u001b[39m▁\u001b[39m▁\u001b[39m▁\u001b[39m▁\u001b[39m▁\u001b[39m▁\u001b[39m▁\u001b[39m▁\u001b[39m▁\u001b[39m▁\u001b[39m▁\u001b[39m▁\u001b[39m▁\u001b[39m▁\u001b[39m▁\u001b[39m▁\u001b[39m▁\u001b[39m█\u001b[39m▁\u001b[39m▁\u001b[39m▁\u001b[39m▁\u001b[39m▁\u001b[39m▁\u001b[39m▁\u001b[39m▁\u001b[39m▁\u001b[39m▁\u001b[39m▁\u001b[39m█\u001b[39m \u001b[39m▁\n",
       "  490 ms\u001b[90m           Histogram: frequency by time\u001b[39m          539 ms \u001b[0m\u001b[1m<\u001b[22m\n",
       "\n",
       " Memory estimate\u001b[90m: \u001b[39m\u001b[33m140.61 MiB\u001b[39m, allocs estimate\u001b[90m: \u001b[39m\u001b[33m15097\u001b[39m."
      ]
     },
     "execution_count": 65,
     "metadata": {},
     "output_type": "execute_result"
    }
   ],
   "source": [
    "@benchmark scan_perms_distributed(pheno_y, geno, kinship; reml = false, nperms = 1000, rndseed = 0, original = true, \n",
    "    option = \"by blocks\", nblocks = 150)"
   ]
  },
  {
   "cell_type": "code",
   "execution_count": 64,
   "id": "f0dd9f79-7651-424e-aaf4-b5d752ae3845",
   "metadata": {},
   "outputs": [
    {
     "data": {
      "text/plain": [
       "BenchmarkTools.Trial: 2 samples with 1 evaluation.\n",
       " Range \u001b[90m(\u001b[39m\u001b[36m\u001b[1mmin\u001b[22m\u001b[39m … \u001b[35mmax\u001b[39m\u001b[90m):  \u001b[39m\u001b[36m\u001b[1m2.600 s\u001b[22m\u001b[39m … \u001b[35m   2.789 s\u001b[39m  \u001b[90m┊\u001b[39m GC \u001b[90m(\u001b[39mmin … max\u001b[90m): \u001b[39m0.32% … 0.15%\n",
       " Time  \u001b[90m(\u001b[39m\u001b[34m\u001b[1mmedian\u001b[22m\u001b[39m\u001b[90m):     \u001b[39m\u001b[34m\u001b[1m2.694 s               \u001b[22m\u001b[39m\u001b[90m┊\u001b[39m GC \u001b[90m(\u001b[39mmedian\u001b[90m):    \u001b[39m0.23%\n",
       " Time  \u001b[90m(\u001b[39m\u001b[32m\u001b[1mmean\u001b[22m\u001b[39m ± \u001b[32mσ\u001b[39m\u001b[90m):   \u001b[39m\u001b[32m\u001b[1m2.694 s\u001b[22m\u001b[39m ± \u001b[32m133.610 ms\u001b[39m  \u001b[90m┊\u001b[39m GC \u001b[90m(\u001b[39mmean ± σ\u001b[90m):  \u001b[39m0.23% ± 0.12%\n",
       "\n",
       "  \u001b[34m█\u001b[39m\u001b[39m \u001b[39m \u001b[39m \u001b[39m \u001b[39m \u001b[39m \u001b[39m \u001b[39m \u001b[39m \u001b[39m \u001b[39m \u001b[39m \u001b[39m \u001b[39m \u001b[39m \u001b[39m \u001b[39m \u001b[39m \u001b[39m \u001b[39m \u001b[39m \u001b[39m \u001b[39m \u001b[39m \u001b[39m \u001b[39m \u001b[39m \u001b[39m \u001b[32m \u001b[39m\u001b[39m \u001b[39m \u001b[39m \u001b[39m \u001b[39m \u001b[39m \u001b[39m \u001b[39m \u001b[39m \u001b[39m \u001b[39m \u001b[39m \u001b[39m \u001b[39m \u001b[39m \u001b[39m \u001b[39m \u001b[39m \u001b[39m \u001b[39m \u001b[39m \u001b[39m \u001b[39m \u001b[39m \u001b[39m \u001b[39m \u001b[39m \u001b[39m█\u001b[39m \u001b[39m \n",
       "  \u001b[34m█\u001b[39m\u001b[39m▁\u001b[39m▁\u001b[39m▁\u001b[39m▁\u001b[39m▁\u001b[39m▁\u001b[39m▁\u001b[39m▁\u001b[39m▁\u001b[39m▁\u001b[39m▁\u001b[39m▁\u001b[39m▁\u001b[39m▁\u001b[39m▁\u001b[39m▁\u001b[39m▁\u001b[39m▁\u001b[39m▁\u001b[39m▁\u001b[39m▁\u001b[39m▁\u001b[39m▁\u001b[39m▁\u001b[39m▁\u001b[39m▁\u001b[39m▁\u001b[39m▁\u001b[32m▁\u001b[39m\u001b[39m▁\u001b[39m▁\u001b[39m▁\u001b[39m▁\u001b[39m▁\u001b[39m▁\u001b[39m▁\u001b[39m▁\u001b[39m▁\u001b[39m▁\u001b[39m▁\u001b[39m▁\u001b[39m▁\u001b[39m▁\u001b[39m▁\u001b[39m▁\u001b[39m▁\u001b[39m▁\u001b[39m▁\u001b[39m▁\u001b[39m▁\u001b[39m▁\u001b[39m▁\u001b[39m▁\u001b[39m▁\u001b[39m▁\u001b[39m▁\u001b[39m█\u001b[39m \u001b[39m▁\n",
       "  2.6 s\u001b[90m          Histogram: frequency by time\u001b[39m         2.79 s \u001b[0m\u001b[1m<\u001b[22m\n",
       "\n",
       " Memory estimate\u001b[90m: \u001b[39m\u001b[33m479.70 MiB\u001b[39m, allocs estimate\u001b[90m: \u001b[39m\u001b[33m19788\u001b[39m."
      ]
     },
     "execution_count": 64,
     "metadata": {},
     "output_type": "execute_result"
    }
   ],
   "source": [
    "@benchmark scan_perms_distributed(pheno_y, geno, kinship; reml = false, nperms = 4000, rndseed = 0, original = true, \n",
    "    option = \"by blocks\", nblocks = 150)"
   ]
  },
  {
   "cell_type": "code",
   "execution_count": 23,
   "id": "e5b2a0f2-8f51-4a97-8989-73009ded30d7",
   "metadata": {},
   "outputs": [
    {
     "data": {
      "text/plain": [
       "BenchmarkTools.Trial: 2 samples with 1 evaluation.\n",
       " Range \u001b[90m(\u001b[39m\u001b[36m\u001b[1mmin\u001b[22m\u001b[39m … \u001b[35mmax\u001b[39m\u001b[90m):  \u001b[39m\u001b[36m\u001b[1m2.809 s\u001b[22m\u001b[39m … \u001b[35m  2.832 s\u001b[39m  \u001b[90m┊\u001b[39m GC \u001b[90m(\u001b[39mmin … max\u001b[90m): \u001b[39m5.75% … 6.13%\n",
       " Time  \u001b[90m(\u001b[39m\u001b[34m\u001b[1mmedian\u001b[22m\u001b[39m\u001b[90m):     \u001b[39m\u001b[34m\u001b[1m2.820 s              \u001b[22m\u001b[39m\u001b[90m┊\u001b[39m GC \u001b[90m(\u001b[39mmedian\u001b[90m):    \u001b[39m5.94%\n",
       " Time  \u001b[90m(\u001b[39m\u001b[32m\u001b[1mmean\u001b[22m\u001b[39m ± \u001b[32mσ\u001b[39m\u001b[90m):   \u001b[39m\u001b[32m\u001b[1m2.820 s\u001b[22m\u001b[39m ± \u001b[32m16.629 ms\u001b[39m  \u001b[90m┊\u001b[39m GC \u001b[90m(\u001b[39mmean ± σ\u001b[90m):  \u001b[39m5.94% ± 0.27%\n",
       "\n",
       "  \u001b[34m█\u001b[39m\u001b[39m \u001b[39m \u001b[39m \u001b[39m \u001b[39m \u001b[39m \u001b[39m \u001b[39m \u001b[39m \u001b[39m \u001b[39m \u001b[39m \u001b[39m \u001b[39m \u001b[39m \u001b[39m \u001b[39m \u001b[39m \u001b[39m \u001b[39m \u001b[39m \u001b[39m \u001b[39m \u001b[39m \u001b[39m \u001b[39m \u001b[39m \u001b[39m \u001b[32m \u001b[39m\u001b[39m \u001b[39m \u001b[39m \u001b[39m \u001b[39m \u001b[39m \u001b[39m \u001b[39m \u001b[39m \u001b[39m \u001b[39m \u001b[39m \u001b[39m \u001b[39m \u001b[39m \u001b[39m \u001b[39m \u001b[39m \u001b[39m \u001b[39m \u001b[39m \u001b[39m \u001b[39m \u001b[39m \u001b[39m \u001b[39m \u001b[39m█\u001b[39m \u001b[39m \n",
       "  \u001b[34m█\u001b[39m\u001b[39m▁\u001b[39m▁\u001b[39m▁\u001b[39m▁\u001b[39m▁\u001b[39m▁\u001b[39m▁\u001b[39m▁\u001b[39m▁\u001b[39m▁\u001b[39m▁\u001b[39m▁\u001b[39m▁\u001b[39m▁\u001b[39m▁\u001b[39m▁\u001b[39m▁\u001b[39m▁\u001b[39m▁\u001b[39m▁\u001b[39m▁\u001b[39m▁\u001b[39m▁\u001b[39m▁\u001b[39m▁\u001b[39m▁\u001b[39m▁\u001b[39m▁\u001b[32m▁\u001b[39m\u001b[39m▁\u001b[39m▁\u001b[39m▁\u001b[39m▁\u001b[39m▁\u001b[39m▁\u001b[39m▁\u001b[39m▁\u001b[39m▁\u001b[39m▁\u001b[39m▁\u001b[39m▁\u001b[39m▁\u001b[39m▁\u001b[39m▁\u001b[39m▁\u001b[39m▁\u001b[39m▁\u001b[39m▁\u001b[39m▁\u001b[39m▁\u001b[39m▁\u001b[39m▁\u001b[39m▁\u001b[39m▁\u001b[39m▁\u001b[39m█\u001b[39m \u001b[39m▁\n",
       "  2.81 s\u001b[90m         Histogram: frequency by time\u001b[39m        2.83 s \u001b[0m\u001b[1m<\u001b[22m\n",
       "\n",
       " Memory estimate\u001b[90m: \u001b[39m\u001b[33m13.30 GiB\u001b[39m, allocs estimate\u001b[90m: \u001b[39m\u001b[33m74635\u001b[39m."
      ]
     },
     "execution_count": 23,
     "metadata": {},
     "output_type": "execute_result"
    }
   ],
   "source": [
    "@benchmark scan_perms(pheno_y, geno, kinship; reml = false, nperms = 1000, rndseed = 0, original = true)"
   ]
  },
  {
   "cell_type": "code",
   "execution_count": 32,
   "id": "3e3b557a-f2d4-48fd-a007-8fff457a4e02",
   "metadata": {},
   "outputs": [
    {
     "data": {
      "text/plain": [
       "BenchmarkTools.Trial: 77 samples with 1 evaluation.\n",
       " Range \u001b[90m(\u001b[39m\u001b[36m\u001b[1mmin\u001b[22m\u001b[39m … \u001b[35mmax\u001b[39m\u001b[90m):  \u001b[39m\u001b[36m\u001b[1m42.756 ms\u001b[22m\u001b[39m … \u001b[35m120.028 ms\u001b[39m  \u001b[90m┊\u001b[39m GC \u001b[90m(\u001b[39mmin … max\u001b[90m): \u001b[39m 0.00% … 57.37%\n",
       " Time  \u001b[90m(\u001b[39m\u001b[34m\u001b[1mmedian\u001b[22m\u001b[39m\u001b[90m):     \u001b[39m\u001b[34m\u001b[1m59.999 ms               \u001b[22m\u001b[39m\u001b[90m┊\u001b[39m GC \u001b[90m(\u001b[39mmedian\u001b[90m):    \u001b[39m 0.00%\n",
       " Time  \u001b[90m(\u001b[39m\u001b[32m\u001b[1mmean\u001b[22m\u001b[39m ± \u001b[32mσ\u001b[39m\u001b[90m):   \u001b[39m\u001b[32m\u001b[1m65.711 ms\u001b[22m\u001b[39m ± \u001b[32m 21.083 ms\u001b[39m  \u001b[90m┊\u001b[39m GC \u001b[90m(\u001b[39mmean ± σ\u001b[90m):  \u001b[39m14.37% ± 19.88%\n",
       "\n",
       "  \u001b[39m▁\u001b[39m \u001b[39m \u001b[39m \u001b[39m \u001b[39m \u001b[39m \u001b[39m \u001b[39m \u001b[39m \u001b[39m \u001b[39m \u001b[39m \u001b[39m█\u001b[34m▃\u001b[39m\u001b[39m \u001b[39m \u001b[39m \u001b[32m \u001b[39m\u001b[39m \u001b[39m \u001b[39m \u001b[39m \u001b[39m \u001b[39m \u001b[39m \u001b[39m \u001b[39m \u001b[39m \u001b[39m \u001b[39m \u001b[39m \u001b[39m \u001b[39m \u001b[39m \u001b[39m \u001b[39m \u001b[39m \u001b[39m \u001b[39m \u001b[39m \u001b[39m \u001b[39m \u001b[39m \u001b[39m \u001b[39m \u001b[39m \u001b[39m \u001b[39m \u001b[39m \u001b[39m \u001b[39m \u001b[39m \u001b[39m \u001b[39m \u001b[39m \u001b[39m \u001b[39m \u001b[39m \u001b[39m \u001b[39m \u001b[39m \n",
       "  \u001b[39m█\u001b[39m▁\u001b[39m▄\u001b[39m▃\u001b[39m▁\u001b[39m▄\u001b[39m▄\u001b[39m▃\u001b[39m▁\u001b[39m▁\u001b[39m▄\u001b[39m▁\u001b[39m▄\u001b[39m█\u001b[34m█\u001b[39m\u001b[39m▃\u001b[39m▄\u001b[39m▅\u001b[32m▄\u001b[39m\u001b[39m▄\u001b[39m▄\u001b[39m▁\u001b[39m▁\u001b[39m▁\u001b[39m▁\u001b[39m▁\u001b[39m▁\u001b[39m▁\u001b[39m▁\u001b[39m▁\u001b[39m▁\u001b[39m▁\u001b[39m▁\u001b[39m▁\u001b[39m▁\u001b[39m▁\u001b[39m▁\u001b[39m▁\u001b[39m▁\u001b[39m▁\u001b[39m▁\u001b[39m▁\u001b[39m▁\u001b[39m▁\u001b[39m▁\u001b[39m▃\u001b[39m▁\u001b[39m▁\u001b[39m▁\u001b[39m▄\u001b[39m▃\u001b[39m▁\u001b[39m▁\u001b[39m▃\u001b[39m▁\u001b[39m▃\u001b[39m▃\u001b[39m▁\u001b[39m▃\u001b[39m▄\u001b[39m \u001b[39m▁\n",
       "  42.8 ms\u001b[90m         Histogram: frequency by time\u001b[39m          118 ms \u001b[0m\u001b[1m<\u001b[22m\n",
       "\n",
       " Memory estimate\u001b[90m: \u001b[39m\u001b[33m33.23 MiB\u001b[39m, allocs estimate\u001b[90m: \u001b[39m\u001b[33m73607\u001b[39m."
      ]
     },
     "execution_count": 32,
     "metadata": {},
     "output_type": "execute_result"
    }
   ],
   "source": [
    "@benchmark scan_null(pheno_y, geno, kinship)"
   ]
  },
  {
   "cell_type": "code",
   "execution_count": 35,
   "id": "749baf16-5e89-4f55-a110-2977392eca21",
   "metadata": {},
   "outputs": [
    {
     "data": {
      "text/plain": [
       "35556"
      ]
     },
     "execution_count": 35,
     "metadata": {},
     "output_type": "execute_result"
    }
   ],
   "source": [
    "m"
   ]
  },
  {
   "cell_type": "code",
   "execution_count": 75,
   "id": "2e28e0d9-c721-4ac4-a345-b7e66e699189",
   "metadata": {},
   "outputs": [
    {
     "data": {
      "text/plain": [
       "2133.36"
      ]
     },
     "execution_count": 75,
     "metadata": {},
     "output_type": "execute_result"
    }
   ],
   "source": [
    "m*60*1e-3"
   ]
  },
  {
   "cell_type": "code",
   "execution_count": 76,
   "id": "99623e47-c7c6-4a44-b6a4-f58ee2ecd90b",
   "metadata": {},
   "outputs": [
    {
     "ename": "LoadError",
     "evalue": "InterruptException:",
     "output_type": "error",
     "traceback": [
      "InterruptException:",
      "",
      "Stacktrace:",
      "  [1] Array",
      "    @ ./boot.jl:461 [inlined]",
      "  [2] Array",
      "    @ ./boot.jl:469 [inlined]",
      "  [3] similar",
      "    @ ./array.jl:378 [inlined]",
      "  [4] copy_similar",
      "    @ ~/software/julia-1.8.1/share/julia/stdlib/v1.8/LinearAlgebra/src/LinearAlgebra.jl:387 [inlined]",
      "  [5] _lucopy",
      "    @ ~/software/julia-1.8.1/share/julia/stdlib/v1.8/LinearAlgebra/src/lu.jl:285 [inlined]",
      "  [6] #lu#179",
      "    @ ~/software/julia-1.8.1/share/julia/stdlib/v1.8/LinearAlgebra/src/lu.jl:279 [inlined]",
      "  [7] lu (repeats 2 times)",
      "    @ ~/software/julia-1.8.1/share/julia/stdlib/v1.8/LinearAlgebra/src/lu.jl:278 [inlined]",
      "  [8] \\(A::Matrix{Float64}, B::Matrix{Float64})",
      "    @ LinearAlgebra ~/software/julia-1.8.1/share/julia/stdlib/v1.8/LinearAlgebra/src/generic.jl:1110",
      "  [9] resid(y::Matrix{Float64}, X::Matrix{Float64}; method::String)",
      "    @ Main ~/github/BulkLMM.jl/src/wls.jl:172",
      " [10] rss(y::Matrix{Float64}, X::Matrix{Float64}; method::String)",
      "    @ Main ~/github/BulkLMM.jl/src/wls.jl:139",
      " [11] rss",
      "    @ ~/github/BulkLMM.jl/src/wls.jl:137 [inlined]",
      " [12] scan_null(y::Matrix{Float64}, g::Matrix{Float64}, K::Matrix{Float64}; reml::Bool)",
      "    @ Main ~/github/BulkLMM.jl/src/scan.jl:105",
      " [13] scan_null",
      "    @ ~/github/BulkLMM.jl/src/scan.jl:81 [inlined]",
      " [14] macro expansion",
      "    @ ./In[76]:4 [inlined]",
      " [15] top-level scope",
      "    @ ./timing.jl:262 [inlined]",
      " [16] top-level scope",
      "    @ ./In[76]:0",
      " [17] eval",
      "    @ ./boot.jl:368 [inlined]",
      " [18] include_string(mapexpr::typeof(REPL.softscope), mod::Module, code::String, filename::String)",
      "    @ Base ./loading.jl:1428"
     ]
    }
   ],
   "source": [
    "@time begin\n",
    "    for i in 1:m\n",
    "        pheno_yi = reshape(pheno[:, i], :, 1);\n",
    "        scan_null(pheno_yi, geno, kinship);\n",
    "    end\n",
    "end"
   ]
  },
  {
   "cell_type": "code",
   "execution_count": 41,
   "id": "104ee3f2-1c0e-43f9-92a5-cf31df99e4fd",
   "metadata": {},
   "outputs": [],
   "source": [
    "heritabilities = Array{Float64, 1}(undef, m);"
   ]
  },
  {
   "cell_type": "code",
   "execution_count": 45,
   "id": "c31f3f3a-e317-44cf-a802-54a78c25e3ff",
   "metadata": {},
   "outputs": [],
   "source": [
    "intercept = ones(n, 1);\n",
    "(Y0, X0, lambda0) = rotateData(pheno, [intercept geno], kinship);"
   ]
  },
  {
   "cell_type": "code",
   "execution_count": 46,
   "id": "9defdd1d-9742-48ab-9a9b-3161001adc3f",
   "metadata": {},
   "outputs": [
    {
     "data": {
      "text/plain": [
       "(79, 35556)"
      ]
     },
     "execution_count": 46,
     "metadata": {},
     "output_type": "execute_result"
    }
   ],
   "source": [
    "size(Y0)"
   ]
  },
  {
   "cell_type": "code",
   "execution_count": 47,
   "id": "4034d111-90f0-47c2-953a-3a57c410de47",
   "metadata": {},
   "outputs": [
    {
     "data": {
      "text/plain": [
       "(79, 7322)"
      ]
     },
     "execution_count": 47,
     "metadata": {},
     "output_type": "execute_result"
    }
   ],
   "source": [
    "size(X0) # intercept + 7321 markers"
   ]
  },
  {
   "cell_type": "code",
   "execution_count": 49,
   "id": "45db6039-db54-42f8-b24c-4d71edbde03d",
   "metadata": {},
   "outputs": [
    {
     "data": {
      "text/plain": [
       "(79, 1)"
      ]
     },
     "execution_count": 49,
     "metadata": {},
     "output_type": "execute_result"
    }
   ],
   "source": [
    "intercept0 = reshape(X0[:, 1], :, 1);\n",
    "size(intercept0)"
   ]
  },
  {
   "cell_type": "code",
   "execution_count": 77,
   "id": "018ab641-983f-402d-b287-c96cb127e956",
   "metadata": {},
   "outputs": [
    {
     "name": "stdout",
     "output_type": "stream",
     "text": [
      " 13.553209 seconds (32.12 M allocations: 12.682 GiB, 14.10% gc time)\n"
     ]
    }
   ],
   "source": [
    "@time begin\n",
    "for i in 1:m\n",
    "    y0_i = reshape(Y0[:, i], :, 1); # the i-th (rotated) trait\n",
    "    heritabilities[i] = fitlmm(y0_i, intercept0, lambda0; reml = true).h2;\n",
    "end\n",
    "end"
   ]
  },
  {
   "cell_type": "code",
   "execution_count": 52,
   "id": "e4e22f4c-bf79-4762-bee8-0372545553a8",
   "metadata": {},
   "outputs": [],
   "source": [
    "using Plots"
   ]
  },
  {
   "cell_type": "markdown",
   "id": "699bd4f1-8097-49ac-8f4d-6aaacc667526",
   "metadata": {},
   "source": [
    "$$h_i^2 = \\frac{\\sigma_{gi}^2}{\\sigma^2_{ei} + \\sigma^2_{gi}}$$"
   ]
  },
  {
   "cell_type": "code",
   "execution_count": 53,
   "id": "ea545b4e-9bce-4bff-887d-84cd1062818a",
   "metadata": {},
   "outputs": [
    {
     "data": {
      "image/svg+xml": [
       "<?xml version=\"1.0\" encoding=\"utf-8\"?>\n",
       "<svg xmlns=\"http://www.w3.org/2000/svg\" xmlns:xlink=\"http://www.w3.org/1999/xlink\" width=\"600\" height=\"400\" viewBox=\"0 0 2400 1600\">\n",
       "<defs>\n",
       "  <clipPath id=\"clip390\">\n",
       "    <rect x=\"0\" y=\"0\" width=\"2400\" height=\"1600\"/>\n",
       "  </clipPath>\n",
       "</defs>\n",
       "<path clip-path=\"url(#clip390)\" d=\"\n",
       "M0 1600 L2400 1600 L2400 0 L0 0  Z\n",
       "  \" fill=\"#ffffff\" fill-rule=\"evenodd\" fill-opacity=\"1\"/>\n",
       "<defs>\n",
       "  <clipPath id=\"clip391\">\n",
       "    <rect x=\"480\" y=\"0\" width=\"1681\" height=\"1600\"/>\n",
       "  </clipPath>\n",
       "</defs>\n",
       "<path clip-path=\"url(#clip390)\" d=\"\n",
       "M304.699 1486.45 L2352.76 1486.45 L2352.76 47.2441 L304.699 47.2441  Z\n",
       "  \" fill=\"#ffffff\" fill-rule=\"evenodd\" fill-opacity=\"1\"/>\n",
       "<defs>\n",
       "  <clipPath id=\"clip392\">\n",
       "    <rect x=\"304\" y=\"47\" width=\"2049\" height=\"1440\"/>\n",
       "  </clipPath>\n",
       "</defs>\n",
       "<polyline clip-path=\"url(#clip392)\" style=\"stroke:#000000; stroke-linecap:round; stroke-linejoin:round; stroke-width:2; stroke-opacity:0.1; fill:none\" points=\"\n",
       "  417.346,1486.45 417.346,47.2441 \n",
       "  \"/>\n",
       "<polyline clip-path=\"url(#clip392)\" style=\"stroke:#000000; stroke-linecap:round; stroke-linejoin:round; stroke-width:2; stroke-opacity:0.1; fill:none\" points=\"\n",
       "  873.037,1486.45 873.037,47.2441 \n",
       "  \"/>\n",
       "<polyline clip-path=\"url(#clip392)\" style=\"stroke:#000000; stroke-linecap:round; stroke-linejoin:round; stroke-width:2; stroke-opacity:0.1; fill:none\" points=\"\n",
       "  1328.73,1486.45 1328.73,47.2441 \n",
       "  \"/>\n",
       "<polyline clip-path=\"url(#clip392)\" style=\"stroke:#000000; stroke-linecap:round; stroke-linejoin:round; stroke-width:2; stroke-opacity:0.1; fill:none\" points=\"\n",
       "  1784.42,1486.45 1784.42,47.2441 \n",
       "  \"/>\n",
       "<polyline clip-path=\"url(#clip392)\" style=\"stroke:#000000; stroke-linecap:round; stroke-linejoin:round; stroke-width:2; stroke-opacity:0.1; fill:none\" points=\"\n",
       "  2240.11,1486.45 2240.11,47.2441 \n",
       "  \"/>\n",
       "<polyline clip-path=\"url(#clip390)\" style=\"stroke:#000000; stroke-linecap:round; stroke-linejoin:round; stroke-width:4; stroke-opacity:1; fill:none\" points=\"\n",
       "  304.699,1486.45 2352.76,1486.45 \n",
       "  \"/>\n",
       "<polyline clip-path=\"url(#clip390)\" style=\"stroke:#000000; stroke-linecap:round; stroke-linejoin:round; stroke-width:4; stroke-opacity:1; fill:none\" points=\"\n",
       "  417.346,1486.45 417.346,1467.55 \n",
       "  \"/>\n",
       "<polyline clip-path=\"url(#clip390)\" style=\"stroke:#000000; stroke-linecap:round; stroke-linejoin:round; stroke-width:4; stroke-opacity:1; fill:none\" points=\"\n",
       "  873.037,1486.45 873.037,1467.55 \n",
       "  \"/>\n",
       "<polyline clip-path=\"url(#clip390)\" style=\"stroke:#000000; stroke-linecap:round; stroke-linejoin:round; stroke-width:4; stroke-opacity:1; fill:none\" points=\"\n",
       "  1328.73,1486.45 1328.73,1467.55 \n",
       "  \"/>\n",
       "<polyline clip-path=\"url(#clip390)\" style=\"stroke:#000000; stroke-linecap:round; stroke-linejoin:round; stroke-width:4; stroke-opacity:1; fill:none\" points=\"\n",
       "  1784.42,1486.45 1784.42,1467.55 \n",
       "  \"/>\n",
       "<polyline clip-path=\"url(#clip390)\" style=\"stroke:#000000; stroke-linecap:round; stroke-linejoin:round; stroke-width:4; stroke-opacity:1; fill:none\" points=\"\n",
       "  2240.11,1486.45 2240.11,1467.55 \n",
       "  \"/>\n",
       "<path clip-path=\"url(#clip390)\" d=\"M379.649 1517.37 Q376.038 1517.37 374.21 1520.93 Q372.404 1524.47 372.404 1531.6 Q372.404 1538.71 374.21 1542.27 Q376.038 1545.82 379.649 1545.82 Q383.284 1545.82 385.089 1542.27 Q386.918 1538.71 386.918 1531.6 Q386.918 1524.47 385.089 1520.93 Q383.284 1517.37 379.649 1517.37 M379.649 1513.66 Q385.46 1513.66 388.515 1518.27 Q391.594 1522.85 391.594 1531.6 Q391.594 1540.33 388.515 1544.94 Q385.46 1549.52 379.649 1549.52 Q373.839 1549.52 370.761 1544.94 Q367.705 1540.33 367.705 1531.6 Q367.705 1522.85 370.761 1518.27 Q373.839 1513.66 379.649 1513.66 Z\" fill=\"#000000\" fill-rule=\"evenodd\" fill-opacity=\"1\" /><path clip-path=\"url(#clip390)\" d=\"M399.811 1542.97 L404.696 1542.97 L404.696 1548.85 L399.811 1548.85 L399.811 1542.97 Z\" fill=\"#000000\" fill-rule=\"evenodd\" fill-opacity=\"1\" /><path clip-path=\"url(#clip390)\" d=\"M424.881 1517.37 Q421.27 1517.37 419.441 1520.93 Q417.635 1524.47 417.635 1531.6 Q417.635 1538.71 419.441 1542.27 Q421.27 1545.82 424.881 1545.82 Q428.515 1545.82 430.321 1542.27 Q432.149 1538.71 432.149 1531.6 Q432.149 1524.47 430.321 1520.93 Q428.515 1517.37 424.881 1517.37 M424.881 1513.66 Q430.691 1513.66 433.746 1518.27 Q436.825 1522.85 436.825 1531.6 Q436.825 1540.33 433.746 1544.94 Q430.691 1549.52 424.881 1549.52 Q419.071 1549.52 415.992 1544.94 Q412.936 1540.33 412.936 1531.6 Q412.936 1522.85 415.992 1518.27 Q419.071 1513.66 424.881 1513.66 Z\" fill=\"#000000\" fill-rule=\"evenodd\" fill-opacity=\"1\" /><path clip-path=\"url(#clip390)\" d=\"M455.043 1517.37 Q451.432 1517.37 449.603 1520.93 Q447.797 1524.47 447.797 1531.6 Q447.797 1538.71 449.603 1542.27 Q451.432 1545.82 455.043 1545.82 Q458.677 1545.82 460.482 1542.27 Q462.311 1538.71 462.311 1531.6 Q462.311 1524.47 460.482 1520.93 Q458.677 1517.37 455.043 1517.37 M455.043 1513.66 Q460.853 1513.66 463.908 1518.27 Q466.987 1522.85 466.987 1531.6 Q466.987 1540.33 463.908 1544.94 Q460.853 1549.52 455.043 1549.52 Q449.232 1549.52 446.154 1544.94 Q443.098 1540.33 443.098 1531.6 Q443.098 1522.85 446.154 1518.27 Q449.232 1513.66 455.043 1513.66 Z\" fill=\"#000000\" fill-rule=\"evenodd\" fill-opacity=\"1\" /><path clip-path=\"url(#clip390)\" d=\"M835.838 1517.37 Q832.227 1517.37 830.398 1520.93 Q828.593 1524.47 828.593 1531.6 Q828.593 1538.71 830.398 1542.27 Q832.227 1545.82 835.838 1545.82 Q839.472 1545.82 841.278 1542.27 Q843.106 1538.71 843.106 1531.6 Q843.106 1524.47 841.278 1520.93 Q839.472 1517.37 835.838 1517.37 M835.838 1513.66 Q841.648 1513.66 844.704 1518.27 Q847.782 1522.85 847.782 1531.6 Q847.782 1540.33 844.704 1544.94 Q841.648 1549.52 835.838 1549.52 Q830.028 1549.52 826.949 1544.94 Q823.894 1540.33 823.894 1531.6 Q823.894 1522.85 826.949 1518.27 Q830.028 1513.66 835.838 1513.66 Z\" fill=\"#000000\" fill-rule=\"evenodd\" fill-opacity=\"1\" /><path clip-path=\"url(#clip390)\" d=\"M856 1542.97 L860.884 1542.97 L860.884 1548.85 L856 1548.85 L856 1542.97 Z\" fill=\"#000000\" fill-rule=\"evenodd\" fill-opacity=\"1\" /><path clip-path=\"url(#clip390)\" d=\"M875.097 1544.91 L891.416 1544.91 L891.416 1548.85 L869.472 1548.85 L869.472 1544.91 Q872.134 1542.16 876.717 1537.53 Q881.324 1532.88 882.504 1531.53 Q884.75 1529.01 885.629 1527.27 Q886.532 1525.51 886.532 1523.82 Q886.532 1521.07 884.588 1519.33 Q882.666 1517.6 879.565 1517.6 Q877.366 1517.6 874.912 1518.36 Q872.481 1519.13 869.704 1520.68 L869.704 1515.95 Q872.528 1514.82 874.981 1514.24 Q877.435 1513.66 879.472 1513.66 Q884.842 1513.66 888.037 1516.35 Q891.231 1519.03 891.231 1523.52 Q891.231 1525.65 890.421 1527.57 Q889.634 1529.47 887.527 1532.07 Q886.949 1532.74 883.847 1535.95 Q880.745 1539.15 875.097 1544.91 Z\" fill=\"#000000\" fill-rule=\"evenodd\" fill-opacity=\"1\" /><path clip-path=\"url(#clip390)\" d=\"M901.277 1514.29 L919.634 1514.29 L919.634 1518.22 L905.56 1518.22 L905.56 1526.7 Q906.578 1526.35 907.597 1526.19 Q908.615 1526 909.634 1526 Q915.421 1526 918.8 1529.17 Q922.18 1532.34 922.18 1537.76 Q922.18 1543.34 918.708 1546.44 Q915.236 1549.52 908.916 1549.52 Q906.74 1549.52 904.472 1549.15 Q902.226 1548.78 899.819 1548.04 L899.819 1543.34 Q901.902 1544.47 904.125 1545.03 Q906.347 1545.58 908.824 1545.58 Q912.828 1545.58 915.166 1543.48 Q917.504 1541.37 917.504 1537.76 Q917.504 1534.15 915.166 1532.04 Q912.828 1529.94 908.824 1529.94 Q906.949 1529.94 905.074 1530.35 Q903.222 1530.77 901.277 1531.65 L901.277 1514.29 Z\" fill=\"#000000\" fill-rule=\"evenodd\" fill-opacity=\"1\" /><path clip-path=\"url(#clip390)\" d=\"M1291.03 1517.37 Q1287.42 1517.37 1285.59 1520.93 Q1283.79 1524.47 1283.79 1531.6 Q1283.79 1538.71 1285.59 1542.27 Q1287.42 1545.82 1291.03 1545.82 Q1294.67 1545.82 1296.47 1542.27 Q1298.3 1538.71 1298.3 1531.6 Q1298.3 1524.47 1296.47 1520.93 Q1294.67 1517.37 1291.03 1517.37 M1291.03 1513.66 Q1296.84 1513.66 1299.9 1518.27 Q1302.98 1522.85 1302.98 1531.6 Q1302.98 1540.33 1299.9 1544.94 Q1296.84 1549.52 1291.03 1549.52 Q1285.22 1549.52 1282.14 1544.94 Q1279.09 1540.33 1279.09 1531.6 Q1279.09 1522.85 1282.14 1518.27 Q1285.22 1513.66 1291.03 1513.66 Z\" fill=\"#000000\" fill-rule=\"evenodd\" fill-opacity=\"1\" /><path clip-path=\"url(#clip390)\" d=\"M1311.19 1542.97 L1316.08 1542.97 L1316.08 1548.85 L1311.19 1548.85 L1311.19 1542.97 Z\" fill=\"#000000\" fill-rule=\"evenodd\" fill-opacity=\"1\" /><path clip-path=\"url(#clip390)\" d=\"M1326.31 1514.29 L1344.67 1514.29 L1344.67 1518.22 L1330.59 1518.22 L1330.59 1526.7 Q1331.61 1526.35 1332.63 1526.19 Q1333.65 1526 1334.67 1526 Q1340.45 1526 1343.83 1529.17 Q1347.21 1532.34 1347.21 1537.76 Q1347.21 1543.34 1343.74 1546.44 Q1340.27 1549.52 1333.95 1549.52 Q1331.77 1549.52 1329.5 1549.15 Q1327.26 1548.78 1324.85 1548.04 L1324.85 1543.34 Q1326.93 1544.47 1329.16 1545.03 Q1331.38 1545.58 1333.85 1545.58 Q1337.86 1545.58 1340.2 1543.48 Q1342.54 1541.37 1342.54 1537.76 Q1342.54 1534.15 1340.2 1532.04 Q1337.86 1529.94 1333.85 1529.94 Q1331.98 1529.94 1330.1 1530.35 Q1328.25 1530.77 1326.31 1531.65 L1326.31 1514.29 Z\" fill=\"#000000\" fill-rule=\"evenodd\" fill-opacity=\"1\" /><path clip-path=\"url(#clip390)\" d=\"M1366.42 1517.37 Q1362.81 1517.37 1360.98 1520.93 Q1359.18 1524.47 1359.18 1531.6 Q1359.18 1538.71 1360.98 1542.27 Q1362.81 1545.82 1366.42 1545.82 Q1370.06 1545.82 1371.86 1542.27 Q1373.69 1538.71 1373.69 1531.6 Q1373.69 1524.47 1371.86 1520.93 Q1370.06 1517.37 1366.42 1517.37 M1366.42 1513.66 Q1372.23 1513.66 1375.29 1518.27 Q1378.37 1522.85 1378.37 1531.6 Q1378.37 1540.33 1375.29 1544.94 Q1372.23 1549.52 1366.42 1549.52 Q1360.61 1549.52 1357.54 1544.94 Q1354.48 1540.33 1354.48 1531.6 Q1354.48 1522.85 1357.54 1518.27 Q1360.61 1513.66 1366.42 1513.66 Z\" fill=\"#000000\" fill-rule=\"evenodd\" fill-opacity=\"1\" /><path clip-path=\"url(#clip390)\" d=\"M1747.22 1517.37 Q1743.61 1517.37 1741.78 1520.93 Q1739.97 1524.47 1739.97 1531.6 Q1739.97 1538.71 1741.78 1542.27 Q1743.61 1545.82 1747.22 1545.82 Q1750.85 1545.82 1752.66 1542.27 Q1754.49 1538.71 1754.49 1531.6 Q1754.49 1524.47 1752.66 1520.93 Q1750.85 1517.37 1747.22 1517.37 M1747.22 1513.66 Q1753.03 1513.66 1756.09 1518.27 Q1759.16 1522.85 1759.16 1531.6 Q1759.16 1540.33 1756.09 1544.94 Q1753.03 1549.52 1747.22 1549.52 Q1741.41 1549.52 1738.33 1544.94 Q1735.28 1540.33 1735.28 1531.6 Q1735.28 1522.85 1738.33 1518.27 Q1741.41 1513.66 1747.22 1513.66 Z\" fill=\"#000000\" fill-rule=\"evenodd\" fill-opacity=\"1\" /><path clip-path=\"url(#clip390)\" d=\"M1767.38 1542.97 L1772.27 1542.97 L1772.27 1548.85 L1767.38 1548.85 L1767.38 1542.97 Z\" fill=\"#000000\" fill-rule=\"evenodd\" fill-opacity=\"1\" /><path clip-path=\"url(#clip390)\" d=\"M1781.27 1514.29 L1803.49 1514.29 L1803.49 1516.28 L1790.95 1548.85 L1786.06 1548.85 L1797.87 1518.22 L1781.27 1518.22 L1781.27 1514.29 Z\" fill=\"#000000\" fill-rule=\"evenodd\" fill-opacity=\"1\" /><path clip-path=\"url(#clip390)\" d=\"M1812.66 1514.29 L1831.02 1514.29 L1831.02 1518.22 L1816.94 1518.22 L1816.94 1526.7 Q1817.96 1526.35 1818.98 1526.19 Q1820 1526 1821.02 1526 Q1826.8 1526 1830.18 1529.17 Q1833.56 1532.34 1833.56 1537.76 Q1833.56 1543.34 1830.09 1546.44 Q1826.62 1549.52 1820.3 1549.52 Q1818.12 1549.52 1815.85 1549.15 Q1813.61 1548.78 1811.2 1548.04 L1811.2 1543.34 Q1813.28 1544.47 1815.51 1545.03 Q1817.73 1545.58 1820.21 1545.58 Q1824.21 1545.58 1826.55 1543.48 Q1828.89 1541.37 1828.89 1537.76 Q1828.89 1534.15 1826.55 1532.04 Q1824.21 1529.94 1820.21 1529.94 Q1818.33 1529.94 1816.46 1530.35 Q1814.6 1530.77 1812.66 1531.65 L1812.66 1514.29 Z\" fill=\"#000000\" fill-rule=\"evenodd\" fill-opacity=\"1\" /><path clip-path=\"url(#clip390)\" d=\"M2192.18 1544.91 L2199.82 1544.91 L2199.82 1518.55 L2191.51 1520.21 L2191.51 1515.95 L2199.77 1514.29 L2204.45 1514.29 L2204.45 1544.91 L2212.09 1544.91 L2212.09 1548.85 L2192.18 1548.85 L2192.18 1544.91 Z\" fill=\"#000000\" fill-rule=\"evenodd\" fill-opacity=\"1\" /><path clip-path=\"url(#clip390)\" d=\"M2221.53 1542.97 L2226.42 1542.97 L2226.42 1548.85 L2221.53 1548.85 L2221.53 1542.97 Z\" fill=\"#000000\" fill-rule=\"evenodd\" fill-opacity=\"1\" /><path clip-path=\"url(#clip390)\" d=\"M2246.6 1517.37 Q2242.99 1517.37 2241.16 1520.93 Q2239.36 1524.47 2239.36 1531.6 Q2239.36 1538.71 2241.16 1542.27 Q2242.99 1545.82 2246.6 1545.82 Q2250.24 1545.82 2252.04 1542.27 Q2253.87 1538.71 2253.87 1531.6 Q2253.87 1524.47 2252.04 1520.93 Q2250.24 1517.37 2246.6 1517.37 M2246.6 1513.66 Q2252.41 1513.66 2255.47 1518.27 Q2258.55 1522.85 2258.55 1531.6 Q2258.55 1540.33 2255.47 1544.94 Q2252.41 1549.52 2246.6 1549.52 Q2240.79 1549.52 2237.71 1544.94 Q2234.66 1540.33 2234.66 1531.6 Q2234.66 1522.85 2237.71 1518.27 Q2240.79 1513.66 2246.6 1513.66 Z\" fill=\"#000000\" fill-rule=\"evenodd\" fill-opacity=\"1\" /><path clip-path=\"url(#clip390)\" d=\"M2276.76 1517.37 Q2273.15 1517.37 2271.32 1520.93 Q2269.52 1524.47 2269.52 1531.6 Q2269.52 1538.71 2271.32 1542.27 Q2273.15 1545.82 2276.76 1545.82 Q2280.4 1545.82 2282.2 1542.27 Q2284.03 1538.71 2284.03 1531.6 Q2284.03 1524.47 2282.2 1520.93 Q2280.4 1517.37 2276.76 1517.37 M2276.76 1513.66 Q2282.57 1513.66 2285.63 1518.27 Q2288.71 1522.85 2288.71 1531.6 Q2288.71 1540.33 2285.63 1544.94 Q2282.57 1549.52 2276.76 1549.52 Q2270.95 1549.52 2267.88 1544.94 Q2264.82 1540.33 2264.82 1531.6 Q2264.82 1522.85 2267.88 1518.27 Q2270.95 1513.66 2276.76 1513.66 Z\" fill=\"#000000\" fill-rule=\"evenodd\" fill-opacity=\"1\" /><polyline clip-path=\"url(#clip392)\" style=\"stroke:#000000; stroke-linecap:round; stroke-linejoin:round; stroke-width:2; stroke-opacity:0.1; fill:none\" points=\"\n",
       "  304.699,1445.72 2352.76,1445.72 \n",
       "  \"/>\n",
       "<polyline clip-path=\"url(#clip392)\" style=\"stroke:#000000; stroke-linecap:round; stroke-linejoin:round; stroke-width:2; stroke-opacity:0.1; fill:none\" points=\"\n",
       "  304.699,999.003 2352.76,999.003 \n",
       "  \"/>\n",
       "<polyline clip-path=\"url(#clip392)\" style=\"stroke:#000000; stroke-linecap:round; stroke-linejoin:round; stroke-width:2; stroke-opacity:0.1; fill:none\" points=\"\n",
       "  304.699,552.29 2352.76,552.29 \n",
       "  \"/>\n",
       "<polyline clip-path=\"url(#clip392)\" style=\"stroke:#000000; stroke-linecap:round; stroke-linejoin:round; stroke-width:2; stroke-opacity:0.1; fill:none\" points=\"\n",
       "  304.699,105.577 2352.76,105.577 \n",
       "  \"/>\n",
       "<polyline clip-path=\"url(#clip390)\" style=\"stroke:#000000; stroke-linecap:round; stroke-linejoin:round; stroke-width:4; stroke-opacity:1; fill:none\" points=\"\n",
       "  304.699,1486.45 304.699,47.2441 \n",
       "  \"/>\n",
       "<polyline clip-path=\"url(#clip390)\" style=\"stroke:#000000; stroke-linecap:round; stroke-linejoin:round; stroke-width:4; stroke-opacity:1; fill:none\" points=\"\n",
       "  304.699,1445.72 323.597,1445.72 \n",
       "  \"/>\n",
       "<polyline clip-path=\"url(#clip390)\" style=\"stroke:#000000; stroke-linecap:round; stroke-linejoin:round; stroke-width:4; stroke-opacity:1; fill:none\" points=\"\n",
       "  304.699,999.003 323.597,999.003 \n",
       "  \"/>\n",
       "<polyline clip-path=\"url(#clip390)\" style=\"stroke:#000000; stroke-linecap:round; stroke-linejoin:round; stroke-width:4; stroke-opacity:1; fill:none\" points=\"\n",
       "  304.699,552.29 323.597,552.29 \n",
       "  \"/>\n",
       "<polyline clip-path=\"url(#clip390)\" style=\"stroke:#000000; stroke-linecap:round; stroke-linejoin:round; stroke-width:4; stroke-opacity:1; fill:none\" points=\"\n",
       "  304.699,105.577 323.597,105.577 \n",
       "  \"/>\n",
       "<path clip-path=\"url(#clip390)\" d=\"M256.755 1431.51 Q253.144 1431.51 251.315 1435.08 Q249.51 1438.62 249.51 1445.75 Q249.51 1452.86 251.315 1456.42 Q253.144 1459.96 256.755 1459.96 Q260.389 1459.96 262.195 1456.42 Q264.023 1452.86 264.023 1445.75 Q264.023 1438.62 262.195 1435.08 Q260.389 1431.51 256.755 1431.51 M256.755 1427.81 Q262.565 1427.81 265.621 1432.42 Q268.699 1437 268.699 1445.75 Q268.699 1454.48 265.621 1459.08 Q262.565 1463.67 256.755 1463.67 Q250.945 1463.67 247.866 1459.08 Q244.811 1454.48 244.811 1445.75 Q244.811 1437 247.866 1432.42 Q250.945 1427.81 256.755 1427.81 Z\" fill=\"#000000\" fill-rule=\"evenodd\" fill-opacity=\"1\" /><path clip-path=\"url(#clip390)\" d=\"M52.8743 988.17 L71.2307 988.17 L71.2307 992.105 L57.1567 992.105 L57.1567 1000.58 Q58.1752 1000.23 59.1938 1000.07 Q60.2123 999.883 61.2308 999.883 Q67.0178 999.883 70.3974 1003.05 Q73.777 1006.23 73.777 1011.64 Q73.777 1017.22 70.3048 1020.32 Q66.8326 1023.4 60.5132 1023.4 Q58.3373 1023.4 56.0688 1023.03 Q53.8234 1022.66 51.416 1021.92 L51.416 1017.22 Q53.4993 1018.36 55.7216 1018.91 Q57.9438 1019.47 60.4206 1019.47 Q64.4252 1019.47 66.7632 1017.36 Q69.1011 1015.25 69.1011 1011.64 Q69.1011 1008.03 66.7632 1005.92 Q64.4252 1003.82 60.4206 1003.82 Q58.5456 1003.82 56.6706 1004.24 Q54.8188 1004.65 52.8743 1005.53 L52.8743 988.17 Z\" fill=\"#000000\" fill-rule=\"evenodd\" fill-opacity=\"1\" /><path clip-path=\"url(#clip390)\" d=\"M82.9899 1016.85 L87.8742 1016.85 L87.8742 1022.73 L82.9899 1022.73 L82.9899 1016.85 Z\" fill=\"#000000\" fill-rule=\"evenodd\" fill-opacity=\"1\" /><path clip-path=\"url(#clip390)\" d=\"M108.059 991.249 Q104.448 991.249 102.619 994.814 Q100.814 998.355 100.814 1005.49 Q100.814 1012.59 102.619 1016.16 Q104.448 1019.7 108.059 1019.7 Q111.693 1019.7 113.499 1016.16 Q115.328 1012.59 115.328 1005.49 Q115.328 998.355 113.499 994.814 Q111.693 991.249 108.059 991.249 M108.059 987.545 Q113.869 987.545 116.925 992.152 Q120.004 996.735 120.004 1005.49 Q120.004 1014.21 116.925 1018.82 Q113.869 1023.4 108.059 1023.4 Q102.249 1023.4 99.1704 1018.82 Q96.1149 1014.21 96.1149 1005.49 Q96.1149 996.735 99.1704 992.152 Q102.249 987.545 108.059 987.545 Z\" fill=\"#000000\" fill-rule=\"evenodd\" fill-opacity=\"1\" /><path clip-path=\"url(#clip390)\" d=\"M138.221 991.249 Q134.61 991.249 132.781 994.814 Q130.976 998.355 130.976 1005.49 Q130.976 1012.59 132.781 1016.16 Q134.61 1019.7 138.221 1019.7 Q141.855 1019.7 143.661 1016.16 Q145.49 1012.59 145.49 1005.49 Q145.49 998.355 143.661 994.814 Q141.855 991.249 138.221 991.249 M138.221 987.545 Q144.031 987.545 147.087 992.152 Q150.165 996.735 150.165 1005.49 Q150.165 1014.21 147.087 1018.82 Q144.031 1023.4 138.221 1023.4 Q132.411 1023.4 129.332 1018.82 Q126.277 1014.21 126.277 1005.49 Q126.277 996.735 129.332 992.152 Q132.411 987.545 138.221 987.545 Z\" fill=\"#000000\" fill-rule=\"evenodd\" fill-opacity=\"1\" /><path clip-path=\"url(#clip390)\" d=\"M186.554 997.267 L175.976 1007.89 L186.554 1018.47 L183.8 1021.27 L173.175 1010.65 L162.55 1021.27 L159.818 1018.47 L170.374 1007.89 L159.818 997.267 L162.55 994.467 L173.175 1005.09 L183.8 994.467 L186.554 997.267 Z\" fill=\"#000000\" fill-rule=\"evenodd\" fill-opacity=\"1\" /><path clip-path=\"url(#clip390)\" d=\"M198.915 1018.8 L206.554 1018.8 L206.554 992.43 L198.244 994.096 L198.244 989.837 L206.508 988.17 L211.184 988.17 L211.184 1018.8 L218.823 1018.8 L218.823 1022.73 L198.915 1022.73 L198.915 1018.8 Z\" fill=\"#000000\" fill-rule=\"evenodd\" fill-opacity=\"1\" /><path clip-path=\"url(#clip390)\" d=\"M238.267 991.249 Q234.656 991.249 232.827 994.814 Q231.022 998.355 231.022 1005.49 Q231.022 1012.59 232.827 1016.16 Q234.656 1019.7 238.267 1019.7 Q241.901 1019.7 243.707 1016.16 Q245.535 1012.59 245.535 1005.49 Q245.535 998.355 243.707 994.814 Q241.901 991.249 238.267 991.249 M238.267 987.545 Q244.077 987.545 247.133 992.152 Q250.211 996.735 250.211 1005.49 Q250.211 1014.21 247.133 1018.82 Q244.077 1023.4 238.267 1023.4 Q232.457 1023.4 229.378 1018.82 Q226.322 1014.21 226.322 1005.49 Q226.322 996.735 229.378 992.152 Q232.457 987.545 238.267 987.545 Z\" fill=\"#000000\" fill-rule=\"evenodd\" fill-opacity=\"1\" /><path clip-path=\"url(#clip390)\" d=\"M262.906 980.18 Q265.634 980.763 267.157 982.606 Q268.699 984.449 268.699 987.157 Q268.699 991.314 265.841 993.59 Q262.982 995.865 257.716 995.865 Q255.948 995.865 254.067 995.508 Q252.205 995.169 250.211 994.474 L250.211 990.806 Q251.791 991.728 253.672 992.198 Q255.553 992.668 257.603 992.668 Q261.176 992.668 263.038 991.257 Q264.919 989.847 264.919 987.157 Q264.919 984.675 263.17 983.283 Q261.439 981.872 258.336 981.872 L255.064 981.872 L255.064 978.75 L258.487 978.75 Q261.289 978.75 262.775 977.641 Q264.261 976.512 264.261 974.406 Q264.261 972.243 262.718 971.096 Q261.195 969.929 258.336 969.929 Q256.775 969.929 254.988 970.268 Q253.202 970.607 251.058 971.321 L251.058 967.936 Q253.22 967.334 255.101 967.033 Q257.001 966.732 258.675 966.732 Q263.001 966.732 265.521 968.707 Q268.041 970.663 268.041 974.011 Q268.041 976.343 266.706 977.96 Q265.37 979.559 262.906 980.18 Z\" fill=\"#000000\" fill-rule=\"evenodd\" fill-opacity=\"1\" /><path clip-path=\"url(#clip390)\" d=\"M51.6634 572.082 L59.3023 572.082 L59.3023 545.717 L50.9921 547.383 L50.9921 543.124 L59.256 541.457 L63.9319 541.457 L63.9319 572.082 L71.5707 572.082 L71.5707 576.017 L51.6634 576.017 L51.6634 572.082 Z\" fill=\"#000000\" fill-rule=\"evenodd\" fill-opacity=\"1\" /><path clip-path=\"url(#clip390)\" d=\"M81.0151 570.138 L85.8993 570.138 L85.8993 576.017 L81.0151 576.017 L81.0151 570.138 Z\" fill=\"#000000\" fill-rule=\"evenodd\" fill-opacity=\"1\" /><path clip-path=\"url(#clip390)\" d=\"M106.084 544.536 Q102.473 544.536 100.645 548.101 Q98.8391 551.642 98.8391 558.772 Q98.8391 565.879 100.645 569.443 Q102.473 572.985 106.084 572.985 Q109.719 572.985 111.524 569.443 Q113.353 565.879 113.353 558.772 Q113.353 551.642 111.524 548.101 Q109.719 544.536 106.084 544.536 M106.084 540.832 Q111.895 540.832 114.95 545.439 Q118.029 550.022 118.029 558.772 Q118.029 567.499 114.95 572.105 Q111.895 576.689 106.084 576.689 Q100.274 576.689 97.1956 572.105 Q94.14 567.499 94.14 558.772 Q94.14 550.022 97.1956 545.439 Q100.274 540.832 106.084 540.832 Z\" fill=\"#000000\" fill-rule=\"evenodd\" fill-opacity=\"1\" /><path clip-path=\"url(#clip390)\" d=\"M136.246 544.536 Q132.635 544.536 130.807 548.101 Q129.001 551.642 129.001 558.772 Q129.001 565.879 130.807 569.443 Q132.635 572.985 136.246 572.985 Q139.881 572.985 141.686 569.443 Q143.515 565.879 143.515 558.772 Q143.515 551.642 141.686 548.101 Q139.881 544.536 136.246 544.536 M136.246 540.832 Q142.056 540.832 145.112 545.439 Q148.191 550.022 148.191 558.772 Q148.191 567.499 145.112 572.105 Q142.056 576.689 136.246 576.689 Q130.436 576.689 127.357 572.105 Q124.302 567.499 124.302 558.772 Q124.302 550.022 127.357 545.439 Q130.436 540.832 136.246 540.832 Z\" fill=\"#000000\" fill-rule=\"evenodd\" fill-opacity=\"1\" /><path clip-path=\"url(#clip390)\" d=\"M184.579 550.555 L174.001 561.179 L184.579 571.758 L181.825 574.559 L171.2 563.934 L160.575 574.559 L157.843 571.758 L168.399 561.179 L157.843 550.555 L160.575 547.754 L171.2 558.379 L181.825 547.754 L184.579 550.555 Z\" fill=\"#000000\" fill-rule=\"evenodd\" fill-opacity=\"1\" /><path clip-path=\"url(#clip390)\" d=\"M196.94 572.082 L204.579 572.082 L204.579 545.717 L196.269 547.383 L196.269 543.124 L204.533 541.457 L209.209 541.457 L209.209 572.082 L216.848 572.082 L216.848 576.017 L196.94 576.017 L196.94 572.082 Z\" fill=\"#000000\" fill-rule=\"evenodd\" fill-opacity=\"1\" /><path clip-path=\"url(#clip390)\" d=\"M236.292 544.536 Q232.681 544.536 230.852 548.101 Q229.047 551.642 229.047 558.772 Q229.047 565.879 230.852 569.443 Q232.681 572.985 236.292 572.985 Q239.926 572.985 241.732 569.443 Q243.561 565.879 243.561 558.772 Q243.561 551.642 241.732 548.101 Q239.926 544.536 236.292 544.536 M236.292 540.832 Q242.102 540.832 245.158 545.439 Q248.236 550.022 248.236 558.772 Q248.236 567.499 245.158 572.105 Q242.102 576.689 236.292 576.689 Q230.482 576.689 227.403 572.105 Q224.348 567.499 224.348 558.772 Q224.348 550.022 227.403 545.439 Q230.482 540.832 236.292 540.832 Z\" fill=\"#000000\" fill-rule=\"evenodd\" fill-opacity=\"1\" /><path clip-path=\"url(#clip390)\" d=\"M260.913 523.837 L251.321 538.827 L260.913 538.827 L260.913 523.837 M259.916 520.527 L264.693 520.527 L264.693 538.827 L268.699 538.827 L268.699 541.987 L264.693 541.987 L264.693 548.607 L260.913 548.607 L260.913 541.987 L248.236 541.987 L248.236 538.319 L259.916 520.527 Z\" fill=\"#000000\" fill-rule=\"evenodd\" fill-opacity=\"1\" /><path clip-path=\"url(#clip390)\" d=\"M51.6634 125.369 L59.3023 125.369 L59.3023 99.0036 L50.9921 100.67 L50.9921 96.411 L59.256 94.7444 L63.9319 94.7444 L63.9319 125.369 L71.5707 125.369 L71.5707 129.304 L51.6634 129.304 L51.6634 125.369 Z\" fill=\"#000000\" fill-rule=\"evenodd\" fill-opacity=\"1\" /><path clip-path=\"url(#clip390)\" d=\"M81.0151 123.425 L85.8993 123.425 L85.8993 129.304 L81.0151 129.304 L81.0151 123.425 Z\" fill=\"#000000\" fill-rule=\"evenodd\" fill-opacity=\"1\" /><path clip-path=\"url(#clip390)\" d=\"M96.1308 94.7444 L114.487 94.7444 L114.487 98.6795 L100.413 98.6795 L100.413 107.152 Q101.432 106.804 102.45 106.642 Q103.469 106.457 104.487 106.457 Q110.274 106.457 113.654 109.629 Q117.033 112.8 117.033 118.216 Q117.033 123.795 113.561 126.897 Q110.089 129.976 103.77 129.976 Q101.594 129.976 99.3252 129.605 Q97.0798 129.235 94.6724 128.494 L94.6724 123.795 Q96.7558 124.929 98.978 125.485 Q101.2 126.04 103.677 126.04 Q107.682 126.04 110.02 123.934 Q112.358 121.828 112.358 118.216 Q112.358 114.605 110.02 112.499 Q107.682 110.392 103.677 110.392 Q101.802 110.392 99.927 110.809 Q98.0752 111.226 96.1308 112.105 L96.1308 94.7444 Z\" fill=\"#000000\" fill-rule=\"evenodd\" fill-opacity=\"1\" /><path clip-path=\"url(#clip390)\" d=\"M136.246 97.8231 Q132.635 97.8231 130.807 101.388 Q129.001 104.929 129.001 112.059 Q129.001 119.166 130.807 122.73 Q132.635 126.272 136.246 126.272 Q139.881 126.272 141.686 122.73 Q143.515 119.166 143.515 112.059 Q143.515 104.929 141.686 101.388 Q139.881 97.8231 136.246 97.8231 M136.246 94.1194 Q142.056 94.1194 145.112 98.7258 Q148.191 103.309 148.191 112.059 Q148.191 120.786 145.112 125.392 Q142.056 129.976 136.246 129.976 Q130.436 129.976 127.357 125.392 Q124.302 120.786 124.302 112.059 Q124.302 103.309 127.357 98.7258 Q130.436 94.1194 136.246 94.1194 Z\" fill=\"#000000\" fill-rule=\"evenodd\" fill-opacity=\"1\" /><path clip-path=\"url(#clip390)\" d=\"M184.579 103.842 L174.001 114.466 L184.579 125.045 L181.825 127.846 L171.2 117.221 L160.575 127.846 L157.843 125.045 L168.399 114.466 L157.843 103.842 L160.575 101.041 L171.2 111.666 L181.825 101.041 L184.579 103.842 Z\" fill=\"#000000\" fill-rule=\"evenodd\" fill-opacity=\"1\" /><path clip-path=\"url(#clip390)\" d=\"M196.94 125.369 L204.579 125.369 L204.579 99.0036 L196.269 100.67 L196.269 96.411 L204.533 94.7444 L209.209 94.7444 L209.209 125.369 L216.848 125.369 L216.848 129.304 L196.94 129.304 L196.94 125.369 Z\" fill=\"#000000\" fill-rule=\"evenodd\" fill-opacity=\"1\" /><path clip-path=\"url(#clip390)\" d=\"M236.292 97.8231 Q232.681 97.8231 230.852 101.388 Q229.047 104.929 229.047 112.059 Q229.047 119.166 230.852 122.73 Q232.681 126.272 236.292 126.272 Q239.926 126.272 241.732 122.73 Q243.561 119.166 243.561 112.059 Q243.561 104.929 241.732 101.388 Q239.926 97.8231 236.292 97.8231 M236.292 94.1194 Q242.102 94.1194 245.158 98.7258 Q248.236 103.309 248.236 112.059 Q248.236 120.786 245.158 125.392 Q242.102 129.976 236.292 129.976 Q230.482 129.976 227.403 125.392 Q224.348 120.786 224.348 112.059 Q224.348 103.309 227.403 98.7258 Q230.482 94.1194 236.292 94.1194 Z\" fill=\"#000000\" fill-rule=\"evenodd\" fill-opacity=\"1\" /><path clip-path=\"url(#clip390)\" d=\"M260.913 77.1241 L251.321 92.1139 L260.913 92.1139 L260.913 77.1241 M259.916 73.814 L264.693 73.814 L264.693 92.1139 L268.699 92.1139 L268.699 95.2736 L264.693 95.2736 L264.693 101.894 L260.913 101.894 L260.913 95.2736 L248.236 95.2736 L248.236 91.6061 L259.916 73.814 Z\" fill=\"#000000\" fill-rule=\"evenodd\" fill-opacity=\"1\" /><path clip-path=\"url(#clip392)\" d=\"\n",
       "M417.346 87.9763 L417.346 1445.72 L453.801 1445.72 L453.801 87.9763 L417.346 87.9763 L417.346 87.9763  Z\n",
       "  \" fill=\"#009af9\" fill-rule=\"evenodd\" fill-opacity=\"1\"/>\n",
       "<polyline clip-path=\"url(#clip392)\" style=\"stroke:#000000; stroke-linecap:round; stroke-linejoin:round; stroke-width:4; stroke-opacity:1; fill:none\" points=\"\n",
       "  417.346,87.9763 417.346,1445.72 453.801,1445.72 453.801,87.9763 417.346,87.9763 \n",
       "  \"/>\n",
       "<path clip-path=\"url(#clip392)\" d=\"\n",
       "M453.801 1389.88 L453.801 1445.72 L490.257 1445.72 L490.257 1389.88 L453.801 1389.88 L453.801 1389.88  Z\n",
       "  \" fill=\"#009af9\" fill-rule=\"evenodd\" fill-opacity=\"1\"/>\n",
       "<polyline clip-path=\"url(#clip392)\" style=\"stroke:#000000; stroke-linecap:round; stroke-linejoin:round; stroke-width:4; stroke-opacity:1; fill:none\" points=\"\n",
       "  453.801,1389.88 453.801,1445.72 490.257,1445.72 490.257,1389.88 453.801,1389.88 \n",
       "  \"/>\n",
       "<path clip-path=\"url(#clip392)\" d=\"\n",
       "M490.257 1393.18 L490.257 1445.72 L526.712 1445.72 L526.712 1393.18 L490.257 1393.18 L490.257 1393.18  Z\n",
       "  \" fill=\"#009af9\" fill-rule=\"evenodd\" fill-opacity=\"1\"/>\n",
       "<polyline clip-path=\"url(#clip392)\" style=\"stroke:#000000; stroke-linecap:round; stroke-linejoin:round; stroke-width:4; stroke-opacity:1; fill:none\" points=\"\n",
       "  490.257,1393.18 490.257,1445.72 526.712,1445.72 526.712,1393.18 490.257,1393.18 \n",
       "  \"/>\n",
       "<path clip-path=\"url(#clip392)\" d=\"\n",
       "M526.712 1387.64 L526.712 1445.72 L563.167 1445.72 L563.167 1387.64 L526.712 1387.64 L526.712 1387.64  Z\n",
       "  \" fill=\"#009af9\" fill-rule=\"evenodd\" fill-opacity=\"1\"/>\n",
       "<polyline clip-path=\"url(#clip392)\" style=\"stroke:#000000; stroke-linecap:round; stroke-linejoin:round; stroke-width:4; stroke-opacity:1; fill:none\" points=\"\n",
       "  526.712,1387.64 526.712,1445.72 563.167,1445.72 563.167,1387.64 526.712,1387.64 \n",
       "  \"/>\n",
       "<path clip-path=\"url(#clip392)\" d=\"\n",
       "M563.167 1387.55 L563.167 1445.72 L599.622 1445.72 L599.622 1387.55 L563.167 1387.55 L563.167 1387.55  Z\n",
       "  \" fill=\"#009af9\" fill-rule=\"evenodd\" fill-opacity=\"1\"/>\n",
       "<polyline clip-path=\"url(#clip392)\" style=\"stroke:#000000; stroke-linecap:round; stroke-linejoin:round; stroke-width:4; stroke-opacity:1; fill:none\" points=\"\n",
       "  563.167,1387.55 563.167,1445.72 599.622,1445.72 599.622,1387.55 563.167,1387.55 \n",
       "  \"/>\n",
       "<path clip-path=\"url(#clip392)\" d=\"\n",
       "M599.622 1386.84 L599.622 1445.72 L636.078 1445.72 L636.078 1386.84 L599.622 1386.84 L599.622 1386.84  Z\n",
       "  \" fill=\"#009af9\" fill-rule=\"evenodd\" fill-opacity=\"1\"/>\n",
       "<polyline clip-path=\"url(#clip392)\" style=\"stroke:#000000; stroke-linecap:round; stroke-linejoin:round; stroke-width:4; stroke-opacity:1; fill:none\" points=\"\n",
       "  599.622,1386.84 599.622,1445.72 636.078,1445.72 636.078,1386.84 599.622,1386.84 \n",
       "  \"/>\n",
       "<path clip-path=\"url(#clip392)\" d=\"\n",
       "M636.078 1386.12 L636.078 1445.72 L672.533 1445.72 L672.533 1386.12 L636.078 1386.12 L636.078 1386.12  Z\n",
       "  \" fill=\"#009af9\" fill-rule=\"evenodd\" fill-opacity=\"1\"/>\n",
       "<polyline clip-path=\"url(#clip392)\" style=\"stroke:#000000; stroke-linecap:round; stroke-linejoin:round; stroke-width:4; stroke-opacity:1; fill:none\" points=\"\n",
       "  636.078,1386.12 636.078,1445.72 672.533,1445.72 672.533,1386.12 636.078,1386.12 \n",
       "  \"/>\n",
       "<path clip-path=\"url(#clip392)\" d=\"\n",
       "M672.533 1383.44 L672.533 1445.72 L708.988 1445.72 L708.988 1383.44 L672.533 1383.44 L672.533 1383.44  Z\n",
       "  \" fill=\"#009af9\" fill-rule=\"evenodd\" fill-opacity=\"1\"/>\n",
       "<polyline clip-path=\"url(#clip392)\" style=\"stroke:#000000; stroke-linecap:round; stroke-linejoin:round; stroke-width:4; stroke-opacity:1; fill:none\" points=\"\n",
       "  672.533,1383.44 672.533,1445.72 708.988,1445.72 708.988,1383.44 672.533,1383.44 \n",
       "  \"/>\n",
       "<path clip-path=\"url(#clip392)\" d=\"\n",
       "M708.988 1378.98 L708.988 1445.72 L745.443 1445.72 L745.443 1378.98 L708.988 1378.98 L708.988 1378.98  Z\n",
       "  \" fill=\"#009af9\" fill-rule=\"evenodd\" fill-opacity=\"1\"/>\n",
       "<polyline clip-path=\"url(#clip392)\" style=\"stroke:#000000; stroke-linecap:round; stroke-linejoin:round; stroke-width:4; stroke-opacity:1; fill:none\" points=\"\n",
       "  708.988,1378.98 708.988,1445.72 745.443,1445.72 745.443,1378.98 708.988,1378.98 \n",
       "  \"/>\n",
       "<path clip-path=\"url(#clip392)\" d=\"\n",
       "M745.443 1385.68 L745.443 1445.72 L781.899 1445.72 L781.899 1385.68 L745.443 1385.68 L745.443 1385.68  Z\n",
       "  \" fill=\"#009af9\" fill-rule=\"evenodd\" fill-opacity=\"1\"/>\n",
       "<polyline clip-path=\"url(#clip392)\" style=\"stroke:#000000; stroke-linecap:round; stroke-linejoin:round; stroke-width:4; stroke-opacity:1; fill:none\" points=\"\n",
       "  745.443,1385.68 745.443,1445.72 781.899,1445.72 781.899,1385.68 745.443,1385.68 \n",
       "  \"/>\n",
       "<path clip-path=\"url(#clip392)\" d=\"\n",
       "M781.899 1380.41 L781.899 1445.72 L818.354 1445.72 L818.354 1380.41 L781.899 1380.41 L781.899 1380.41  Z\n",
       "  \" fill=\"#009af9\" fill-rule=\"evenodd\" fill-opacity=\"1\"/>\n",
       "<polyline clip-path=\"url(#clip392)\" style=\"stroke:#000000; stroke-linecap:round; stroke-linejoin:round; stroke-width:4; stroke-opacity:1; fill:none\" points=\"\n",
       "  781.899,1380.41 781.899,1445.72 818.354,1445.72 818.354,1380.41 781.899,1380.41 \n",
       "  \"/>\n",
       "<path clip-path=\"url(#clip392)\" d=\"\n",
       "M818.354 1380.76 L818.354 1445.72 L854.809 1445.72 L854.809 1380.76 L818.354 1380.76 L818.354 1380.76  Z\n",
       "  \" fill=\"#009af9\" fill-rule=\"evenodd\" fill-opacity=\"1\"/>\n",
       "<polyline clip-path=\"url(#clip392)\" style=\"stroke:#000000; stroke-linecap:round; stroke-linejoin:round; stroke-width:4; stroke-opacity:1; fill:none\" points=\"\n",
       "  818.354,1380.76 818.354,1445.72 854.809,1445.72 854.809,1380.76 818.354,1380.76 \n",
       "  \"/>\n",
       "<path clip-path=\"url(#clip392)\" d=\"\n",
       "M854.809 1383 L854.809 1445.72 L891.264 1445.72 L891.264 1383 L854.809 1383 L854.809 1383  Z\n",
       "  \" fill=\"#009af9\" fill-rule=\"evenodd\" fill-opacity=\"1\"/>\n",
       "<polyline clip-path=\"url(#clip392)\" style=\"stroke:#000000; stroke-linecap:round; stroke-linejoin:round; stroke-width:4; stroke-opacity:1; fill:none\" points=\"\n",
       "  854.809,1383 854.809,1445.72 891.264,1445.72 891.264,1383 854.809,1383 \n",
       "  \"/>\n",
       "<path clip-path=\"url(#clip392)\" d=\"\n",
       "M891.264 1383.8 L891.264 1445.72 L927.72 1445.72 L927.72 1383.8 L891.264 1383.8 L891.264 1383.8  Z\n",
       "  \" fill=\"#009af9\" fill-rule=\"evenodd\" fill-opacity=\"1\"/>\n",
       "<polyline clip-path=\"url(#clip392)\" style=\"stroke:#000000; stroke-linecap:round; stroke-linejoin:round; stroke-width:4; stroke-opacity:1; fill:none\" points=\"\n",
       "  891.264,1383.8 891.264,1445.72 927.72,1445.72 927.72,1383.8 891.264,1383.8 \n",
       "  \"/>\n",
       "<path clip-path=\"url(#clip392)\" d=\"\n",
       "M927.72 1377.64 L927.72 1445.72 L964.175 1445.72 L964.175 1377.64 L927.72 1377.64 L927.72 1377.64  Z\n",
       "  \" fill=\"#009af9\" fill-rule=\"evenodd\" fill-opacity=\"1\"/>\n",
       "<polyline clip-path=\"url(#clip392)\" style=\"stroke:#000000; stroke-linecap:round; stroke-linejoin:round; stroke-width:4; stroke-opacity:1; fill:none\" points=\"\n",
       "  927.72,1377.64 927.72,1445.72 964.175,1445.72 964.175,1377.64 927.72,1377.64 \n",
       "  \"/>\n",
       "<path clip-path=\"url(#clip392)\" d=\"\n",
       "M964.175 1384.87 L964.175 1445.72 L1000.63 1445.72 L1000.63 1384.87 L964.175 1384.87 L964.175 1384.87  Z\n",
       "  \" fill=\"#009af9\" fill-rule=\"evenodd\" fill-opacity=\"1\"/>\n",
       "<polyline clip-path=\"url(#clip392)\" style=\"stroke:#000000; stroke-linecap:round; stroke-linejoin:round; stroke-width:4; stroke-opacity:1; fill:none\" points=\"\n",
       "  964.175,1384.87 964.175,1445.72 1000.63,1445.72 1000.63,1384.87 964.175,1384.87 \n",
       "  \"/>\n",
       "<path clip-path=\"url(#clip392)\" d=\"\n",
       "M1000.63 1387.37 L1000.63 1445.72 L1037.09 1445.72 L1037.09 1387.37 L1000.63 1387.37 L1000.63 1387.37  Z\n",
       "  \" fill=\"#009af9\" fill-rule=\"evenodd\" fill-opacity=\"1\"/>\n",
       "<polyline clip-path=\"url(#clip392)\" style=\"stroke:#000000; stroke-linecap:round; stroke-linejoin:round; stroke-width:4; stroke-opacity:1; fill:none\" points=\"\n",
       "  1000.63,1387.37 1000.63,1445.72 1037.09,1445.72 1037.09,1387.37 1000.63,1387.37 \n",
       "  \"/>\n",
       "<path clip-path=\"url(#clip392)\" d=\"\n",
       "M1037.09 1387.46 L1037.09 1445.72 L1073.54 1445.72 L1073.54 1387.46 L1037.09 1387.46 L1037.09 1387.46  Z\n",
       "  \" fill=\"#009af9\" fill-rule=\"evenodd\" fill-opacity=\"1\"/>\n",
       "<polyline clip-path=\"url(#clip392)\" style=\"stroke:#000000; stroke-linecap:round; stroke-linejoin:round; stroke-width:4; stroke-opacity:1; fill:none\" points=\"\n",
       "  1037.09,1387.46 1037.09,1445.72 1073.54,1445.72 1073.54,1387.46 1037.09,1387.46 \n",
       "  \"/>\n",
       "<path clip-path=\"url(#clip392)\" d=\"\n",
       "M1073.54 1391.75 L1073.54 1445.72 L1110 1445.72 L1110 1391.75 L1073.54 1391.75 L1073.54 1391.75  Z\n",
       "  \" fill=\"#009af9\" fill-rule=\"evenodd\" fill-opacity=\"1\"/>\n",
       "<polyline clip-path=\"url(#clip392)\" style=\"stroke:#000000; stroke-linecap:round; stroke-linejoin:round; stroke-width:4; stroke-opacity:1; fill:none\" points=\"\n",
       "  1073.54,1391.75 1073.54,1445.72 1110,1445.72 1110,1391.75 1073.54,1391.75 \n",
       "  \"/>\n",
       "<path clip-path=\"url(#clip392)\" d=\"\n",
       "M1110 1393 L1110 1445.72 L1146.45 1445.72 L1146.45 1393 L1110 1393 L1110 1393  Z\n",
       "  \" fill=\"#009af9\" fill-rule=\"evenodd\" fill-opacity=\"1\"/>\n",
       "<polyline clip-path=\"url(#clip392)\" style=\"stroke:#000000; stroke-linecap:round; stroke-linejoin:round; stroke-width:4; stroke-opacity:1; fill:none\" points=\"\n",
       "  1110,1393 1110,1445.72 1146.45,1445.72 1146.45,1393 1110,1393 \n",
       "  \"/>\n",
       "<path clip-path=\"url(#clip392)\" d=\"\n",
       "M1146.45 1391.75 L1146.45 1445.72 L1182.91 1445.72 L1182.91 1391.75 L1146.45 1391.75 L1146.45 1391.75  Z\n",
       "  \" fill=\"#009af9\" fill-rule=\"evenodd\" fill-opacity=\"1\"/>\n",
       "<polyline clip-path=\"url(#clip392)\" style=\"stroke:#000000; stroke-linecap:round; stroke-linejoin:round; stroke-width:4; stroke-opacity:1; fill:none\" points=\"\n",
       "  1146.45,1391.75 1146.45,1445.72 1182.91,1445.72 1182.91,1391.75 1146.45,1391.75 \n",
       "  \"/>\n",
       "<path clip-path=\"url(#clip392)\" d=\"\n",
       "M1182.91 1398.9 L1182.91 1445.72 L1219.36 1445.72 L1219.36 1398.9 L1182.91 1398.9 L1182.91 1398.9  Z\n",
       "  \" fill=\"#009af9\" fill-rule=\"evenodd\" fill-opacity=\"1\"/>\n",
       "<polyline clip-path=\"url(#clip392)\" style=\"stroke:#000000; stroke-linecap:round; stroke-linejoin:round; stroke-width:4; stroke-opacity:1; fill:none\" points=\"\n",
       "  1182.91,1398.9 1182.91,1445.72 1219.36,1445.72 1219.36,1398.9 1182.91,1398.9 \n",
       "  \"/>\n",
       "<path clip-path=\"url(#clip392)\" d=\"\n",
       "M1219.36 1398.1 L1219.36 1445.72 L1255.82 1445.72 L1255.82 1398.1 L1219.36 1398.1 L1219.36 1398.1  Z\n",
       "  \" fill=\"#009af9\" fill-rule=\"evenodd\" fill-opacity=\"1\"/>\n",
       "<polyline clip-path=\"url(#clip392)\" style=\"stroke:#000000; stroke-linecap:round; stroke-linejoin:round; stroke-width:4; stroke-opacity:1; fill:none\" points=\"\n",
       "  1219.36,1398.1 1219.36,1445.72 1255.82,1445.72 1255.82,1398.1 1219.36,1398.1 \n",
       "  \"/>\n",
       "<path clip-path=\"url(#clip392)\" d=\"\n",
       "M1255.82 1400.51 L1255.82 1445.72 L1292.27 1445.72 L1292.27 1400.51 L1255.82 1400.51 L1255.82 1400.51  Z\n",
       "  \" fill=\"#009af9\" fill-rule=\"evenodd\" fill-opacity=\"1\"/>\n",
       "<polyline clip-path=\"url(#clip392)\" style=\"stroke:#000000; stroke-linecap:round; stroke-linejoin:round; stroke-width:4; stroke-opacity:1; fill:none\" points=\"\n",
       "  1255.82,1400.51 1255.82,1445.72 1292.27,1445.72 1292.27,1400.51 1255.82,1400.51 \n",
       "  \"/>\n",
       "<path clip-path=\"url(#clip392)\" d=\"\n",
       "M1292.27 1402.74 L1292.27 1445.72 L1328.73 1445.72 L1328.73 1402.74 L1292.27 1402.74 L1292.27 1402.74  Z\n",
       "  \" fill=\"#009af9\" fill-rule=\"evenodd\" fill-opacity=\"1\"/>\n",
       "<polyline clip-path=\"url(#clip392)\" style=\"stroke:#000000; stroke-linecap:round; stroke-linejoin:round; stroke-width:4; stroke-opacity:1; fill:none\" points=\"\n",
       "  1292.27,1402.74 1292.27,1445.72 1328.73,1445.72 1328.73,1402.74 1292.27,1402.74 \n",
       "  \"/>\n",
       "<path clip-path=\"url(#clip392)\" d=\"\n",
       "M1328.73 1406.4 L1328.73 1445.72 L1365.18 1445.72 L1365.18 1406.4 L1328.73 1406.4 L1328.73 1406.4  Z\n",
       "  \" fill=\"#009af9\" fill-rule=\"evenodd\" fill-opacity=\"1\"/>\n",
       "<polyline clip-path=\"url(#clip392)\" style=\"stroke:#000000; stroke-linecap:round; stroke-linejoin:round; stroke-width:4; stroke-opacity:1; fill:none\" points=\"\n",
       "  1328.73,1406.4 1328.73,1445.72 1365.18,1445.72 1365.18,1406.4 1328.73,1406.4 \n",
       "  \"/>\n",
       "<path clip-path=\"url(#clip392)\" d=\"\n",
       "M1365.18 1408.19 L1365.18 1445.72 L1401.64 1445.72 L1401.64 1408.19 L1365.18 1408.19 L1365.18 1408.19  Z\n",
       "  \" fill=\"#009af9\" fill-rule=\"evenodd\" fill-opacity=\"1\"/>\n",
       "<polyline clip-path=\"url(#clip392)\" style=\"stroke:#000000; stroke-linecap:round; stroke-linejoin:round; stroke-width:4; stroke-opacity:1; fill:none\" points=\"\n",
       "  1365.18,1408.19 1365.18,1445.72 1401.64,1445.72 1401.64,1408.19 1365.18,1408.19 \n",
       "  \"/>\n",
       "<path clip-path=\"url(#clip392)\" d=\"\n",
       "M1401.64 1410.16 L1401.64 1445.72 L1438.09 1445.72 L1438.09 1410.16 L1401.64 1410.16 L1401.64 1410.16  Z\n",
       "  \" fill=\"#009af9\" fill-rule=\"evenodd\" fill-opacity=\"1\"/>\n",
       "<polyline clip-path=\"url(#clip392)\" style=\"stroke:#000000; stroke-linecap:round; stroke-linejoin:round; stroke-width:4; stroke-opacity:1; fill:none\" points=\"\n",
       "  1401.64,1410.16 1401.64,1445.72 1438.09,1445.72 1438.09,1410.16 1401.64,1410.16 \n",
       "  \"/>\n",
       "<path clip-path=\"url(#clip392)\" d=\"\n",
       "M1438.09 1412.75 L1438.09 1445.72 L1474.55 1445.72 L1474.55 1412.75 L1438.09 1412.75 L1438.09 1412.75  Z\n",
       "  \" fill=\"#009af9\" fill-rule=\"evenodd\" fill-opacity=\"1\"/>\n",
       "<polyline clip-path=\"url(#clip392)\" style=\"stroke:#000000; stroke-linecap:round; stroke-linejoin:round; stroke-width:4; stroke-opacity:1; fill:none\" points=\"\n",
       "  1438.09,1412.75 1438.09,1445.72 1474.55,1445.72 1474.55,1412.75 1438.09,1412.75 \n",
       "  \"/>\n",
       "<path clip-path=\"url(#clip392)\" d=\"\n",
       "M1474.55 1416.05 L1474.55 1445.72 L1511 1445.72 L1511 1416.05 L1474.55 1416.05 L1474.55 1416.05  Z\n",
       "  \" fill=\"#009af9\" fill-rule=\"evenodd\" fill-opacity=\"1\"/>\n",
       "<polyline clip-path=\"url(#clip392)\" style=\"stroke:#000000; stroke-linecap:round; stroke-linejoin:round; stroke-width:4; stroke-opacity:1; fill:none\" points=\"\n",
       "  1474.55,1416.05 1474.55,1445.72 1511,1445.72 1511,1416.05 1474.55,1416.05 \n",
       "  \"/>\n",
       "<path clip-path=\"url(#clip392)\" d=\"\n",
       "M1511 1418.11 L1511 1445.72 L1547.46 1445.72 L1547.46 1418.11 L1511 1418.11 L1511 1418.11  Z\n",
       "  \" fill=\"#009af9\" fill-rule=\"evenodd\" fill-opacity=\"1\"/>\n",
       "<polyline clip-path=\"url(#clip392)\" style=\"stroke:#000000; stroke-linecap:round; stroke-linejoin:round; stroke-width:4; stroke-opacity:1; fill:none\" points=\"\n",
       "  1511,1418.11 1511,1445.72 1547.46,1445.72 1547.46,1418.11 1511,1418.11 \n",
       "  \"/>\n",
       "<path clip-path=\"url(#clip392)\" d=\"\n",
       "M1547.46 1421.06 L1547.46 1445.72 L1583.91 1445.72 L1583.91 1421.06 L1547.46 1421.06 L1547.46 1421.06  Z\n",
       "  \" fill=\"#009af9\" fill-rule=\"evenodd\" fill-opacity=\"1\"/>\n",
       "<polyline clip-path=\"url(#clip392)\" style=\"stroke:#000000; stroke-linecap:round; stroke-linejoin:round; stroke-width:4; stroke-opacity:1; fill:none\" points=\"\n",
       "  1547.46,1421.06 1547.46,1445.72 1583.91,1445.72 1583.91,1421.06 1547.46,1421.06 \n",
       "  \"/>\n",
       "<path clip-path=\"url(#clip392)\" d=\"\n",
       "M1583.91 1423.47 L1583.91 1445.72 L1620.37 1445.72 L1620.37 1423.47 L1583.91 1423.47 L1583.91 1423.47  Z\n",
       "  \" fill=\"#009af9\" fill-rule=\"evenodd\" fill-opacity=\"1\"/>\n",
       "<polyline clip-path=\"url(#clip392)\" style=\"stroke:#000000; stroke-linecap:round; stroke-linejoin:round; stroke-width:4; stroke-opacity:1; fill:none\" points=\"\n",
       "  1583.91,1423.47 1583.91,1445.72 1620.37,1445.72 1620.37,1423.47 1583.91,1423.47 \n",
       "  \"/>\n",
       "<path clip-path=\"url(#clip392)\" d=\"\n",
       "M1620.37 1425.52 L1620.37 1445.72 L1656.82 1445.72 L1656.82 1425.52 L1620.37 1425.52 L1620.37 1425.52  Z\n",
       "  \" fill=\"#009af9\" fill-rule=\"evenodd\" fill-opacity=\"1\"/>\n",
       "<polyline clip-path=\"url(#clip392)\" style=\"stroke:#000000; stroke-linecap:round; stroke-linejoin:round; stroke-width:4; stroke-opacity:1; fill:none\" points=\"\n",
       "  1620.37,1425.52 1620.37,1445.72 1656.82,1445.72 1656.82,1425.52 1620.37,1425.52 \n",
       "  \"/>\n",
       "<path clip-path=\"url(#clip392)\" d=\"\n",
       "M1656.82 1424.45 L1656.82 1445.72 L1693.28 1445.72 L1693.28 1424.45 L1656.82 1424.45 L1656.82 1424.45  Z\n",
       "  \" fill=\"#009af9\" fill-rule=\"evenodd\" fill-opacity=\"1\"/>\n",
       "<polyline clip-path=\"url(#clip392)\" style=\"stroke:#000000; stroke-linecap:round; stroke-linejoin:round; stroke-width:4; stroke-opacity:1; fill:none\" points=\"\n",
       "  1656.82,1424.45 1656.82,1445.72 1693.28,1445.72 1693.28,1424.45 1656.82,1424.45 \n",
       "  \"/>\n",
       "<path clip-path=\"url(#clip392)\" d=\"\n",
       "M1693.28 1424.45 L1693.28 1445.72 L1729.74 1445.72 L1729.74 1424.45 L1693.28 1424.45 L1693.28 1424.45  Z\n",
       "  \" fill=\"#009af9\" fill-rule=\"evenodd\" fill-opacity=\"1\"/>\n",
       "<polyline clip-path=\"url(#clip392)\" style=\"stroke:#000000; stroke-linecap:round; stroke-linejoin:round; stroke-width:4; stroke-opacity:1; fill:none\" points=\"\n",
       "  1693.28,1424.45 1693.28,1445.72 1729.74,1445.72 1729.74,1424.45 1693.28,1424.45 \n",
       "  \"/>\n",
       "<path clip-path=\"url(#clip392)\" d=\"\n",
       "M1729.74 1429.1 L1729.74 1445.72 L1766.19 1445.72 L1766.19 1429.1 L1729.74 1429.1 L1729.74 1429.1  Z\n",
       "  \" fill=\"#009af9\" fill-rule=\"evenodd\" fill-opacity=\"1\"/>\n",
       "<polyline clip-path=\"url(#clip392)\" style=\"stroke:#000000; stroke-linecap:round; stroke-linejoin:round; stroke-width:4; stroke-opacity:1; fill:none\" points=\"\n",
       "  1729.74,1429.1 1729.74,1445.72 1766.19,1445.72 1766.19,1429.1 1729.74,1429.1 \n",
       "  \"/>\n",
       "<path clip-path=\"url(#clip392)\" d=\"\n",
       "M1766.19 1431.69 L1766.19 1445.72 L1802.65 1445.72 L1802.65 1431.69 L1766.19 1431.69 L1766.19 1431.69  Z\n",
       "  \" fill=\"#009af9\" fill-rule=\"evenodd\" fill-opacity=\"1\"/>\n",
       "<polyline clip-path=\"url(#clip392)\" style=\"stroke:#000000; stroke-linecap:round; stroke-linejoin:round; stroke-width:4; stroke-opacity:1; fill:none\" points=\"\n",
       "  1766.19,1431.69 1766.19,1445.72 1802.65,1445.72 1802.65,1431.69 1766.19,1431.69 \n",
       "  \"/>\n",
       "<path clip-path=\"url(#clip392)\" d=\"\n",
       "M1802.65 1430.88 L1802.65 1445.72 L1839.1 1445.72 L1839.1 1430.88 L1802.65 1430.88 L1802.65 1430.88  Z\n",
       "  \" fill=\"#009af9\" fill-rule=\"evenodd\" fill-opacity=\"1\"/>\n",
       "<polyline clip-path=\"url(#clip392)\" style=\"stroke:#000000; stroke-linecap:round; stroke-linejoin:round; stroke-width:4; stroke-opacity:1; fill:none\" points=\"\n",
       "  1802.65,1430.88 1802.65,1445.72 1839.1,1445.72 1839.1,1430.88 1802.65,1430.88 \n",
       "  \"/>\n",
       "<path clip-path=\"url(#clip392)\" d=\"\n",
       "M1839.1 1434.37 L1839.1 1445.72 L1875.56 1445.72 L1875.56 1434.37 L1839.1 1434.37 L1839.1 1434.37  Z\n",
       "  \" fill=\"#009af9\" fill-rule=\"evenodd\" fill-opacity=\"1\"/>\n",
       "<polyline clip-path=\"url(#clip392)\" style=\"stroke:#000000; stroke-linecap:round; stroke-linejoin:round; stroke-width:4; stroke-opacity:1; fill:none\" points=\"\n",
       "  1839.1,1434.37 1839.1,1445.72 1875.56,1445.72 1875.56,1434.37 1839.1,1434.37 \n",
       "  \"/>\n",
       "<path clip-path=\"url(#clip392)\" d=\"\n",
       "M1875.56 1435.71 L1875.56 1445.72 L1912.01 1445.72 L1912.01 1435.71 L1875.56 1435.71 L1875.56 1435.71  Z\n",
       "  \" fill=\"#009af9\" fill-rule=\"evenodd\" fill-opacity=\"1\"/>\n",
       "<polyline clip-path=\"url(#clip392)\" style=\"stroke:#000000; stroke-linecap:round; stroke-linejoin:round; stroke-width:4; stroke-opacity:1; fill:none\" points=\"\n",
       "  1875.56,1435.71 1875.56,1445.72 1912.01,1445.72 1912.01,1435.71 1875.56,1435.71 \n",
       "  \"/>\n",
       "<path clip-path=\"url(#clip392)\" d=\"\n",
       "M1912.01 1436.25 L1912.01 1445.72 L1948.47 1445.72 L1948.47 1436.25 L1912.01 1436.25 L1912.01 1436.25  Z\n",
       "  \" fill=\"#009af9\" fill-rule=\"evenodd\" fill-opacity=\"1\"/>\n",
       "<polyline clip-path=\"url(#clip392)\" style=\"stroke:#000000; stroke-linecap:round; stroke-linejoin:round; stroke-width:4; stroke-opacity:1; fill:none\" points=\"\n",
       "  1912.01,1436.25 1912.01,1445.72 1948.47,1445.72 1948.47,1436.25 1912.01,1436.25 \n",
       "  \"/>\n",
       "<path clip-path=\"url(#clip392)\" d=\"\n",
       "M1948.47 1438.21 L1948.47 1445.72 L1984.92 1445.72 L1984.92 1438.21 L1948.47 1438.21 L1948.47 1438.21  Z\n",
       "  \" fill=\"#009af9\" fill-rule=\"evenodd\" fill-opacity=\"1\"/>\n",
       "<polyline clip-path=\"url(#clip392)\" style=\"stroke:#000000; stroke-linecap:round; stroke-linejoin:round; stroke-width:4; stroke-opacity:1; fill:none\" points=\"\n",
       "  1948.47,1438.21 1948.47,1445.72 1984.92,1445.72 1984.92,1438.21 1948.47,1438.21 \n",
       "  \"/>\n",
       "<path clip-path=\"url(#clip392)\" d=\"\n",
       "M1984.92 1436.78 L1984.92 1445.72 L2021.38 1445.72 L2021.38 1436.78 L1984.92 1436.78 L1984.92 1436.78  Z\n",
       "  \" fill=\"#009af9\" fill-rule=\"evenodd\" fill-opacity=\"1\"/>\n",
       "<polyline clip-path=\"url(#clip392)\" style=\"stroke:#000000; stroke-linecap:round; stroke-linejoin:round; stroke-width:4; stroke-opacity:1; fill:none\" points=\"\n",
       "  1984.92,1436.78 1984.92,1445.72 2021.38,1445.72 2021.38,1436.78 1984.92,1436.78 \n",
       "  \"/>\n",
       "<path clip-path=\"url(#clip392)\" d=\"\n",
       "M2021.38 1439.37 L2021.38 1445.72 L2057.83 1445.72 L2057.83 1439.37 L2021.38 1439.37 L2021.38 1439.37  Z\n",
       "  \" fill=\"#009af9\" fill-rule=\"evenodd\" fill-opacity=\"1\"/>\n",
       "<polyline clip-path=\"url(#clip392)\" style=\"stroke:#000000; stroke-linecap:round; stroke-linejoin:round; stroke-width:4; stroke-opacity:1; fill:none\" points=\"\n",
       "  2021.38,1439.37 2021.38,1445.72 2057.83,1445.72 2057.83,1439.37 2021.38,1439.37 \n",
       "  \"/>\n",
       "<path clip-path=\"url(#clip392)\" d=\"\n",
       "M2057.83 1439.91 L2057.83 1445.72 L2094.29 1445.72 L2094.29 1439.91 L2057.83 1439.91 L2057.83 1439.91  Z\n",
       "  \" fill=\"#009af9\" fill-rule=\"evenodd\" fill-opacity=\"1\"/>\n",
       "<polyline clip-path=\"url(#clip392)\" style=\"stroke:#000000; stroke-linecap:round; stroke-linejoin:round; stroke-width:4; stroke-opacity:1; fill:none\" points=\"\n",
       "  2057.83,1439.91 2057.83,1445.72 2094.29,1445.72 2094.29,1439.91 2057.83,1439.91 \n",
       "  \"/>\n",
       "<path clip-path=\"url(#clip392)\" d=\"\n",
       "M2094.29 1442.41 L2094.29 1445.72 L2130.74 1445.72 L2130.74 1442.41 L2094.29 1442.41 L2094.29 1442.41  Z\n",
       "  \" fill=\"#009af9\" fill-rule=\"evenodd\" fill-opacity=\"1\"/>\n",
       "<polyline clip-path=\"url(#clip392)\" style=\"stroke:#000000; stroke-linecap:round; stroke-linejoin:round; stroke-width:4; stroke-opacity:1; fill:none\" points=\"\n",
       "  2094.29,1442.41 2094.29,1445.72 2130.74,1445.72 2130.74,1442.41 2094.29,1442.41 \n",
       "  \"/>\n",
       "<path clip-path=\"url(#clip392)\" d=\"\n",
       "M2130.74 1441.7 L2130.74 1445.72 L2167.2 1445.72 L2167.2 1441.7 L2130.74 1441.7 L2130.74 1441.7  Z\n",
       "  \" fill=\"#009af9\" fill-rule=\"evenodd\" fill-opacity=\"1\"/>\n",
       "<polyline clip-path=\"url(#clip392)\" style=\"stroke:#000000; stroke-linecap:round; stroke-linejoin:round; stroke-width:4; stroke-opacity:1; fill:none\" points=\"\n",
       "  2130.74,1441.7 2130.74,1445.72 2167.2,1445.72 2167.2,1441.7 2130.74,1441.7 \n",
       "  \"/>\n",
       "<path clip-path=\"url(#clip392)\" d=\"\n",
       "M2167.2 1442.05 L2167.2 1445.72 L2203.65 1445.72 L2203.65 1442.05 L2167.2 1442.05 L2167.2 1442.05  Z\n",
       "  \" fill=\"#009af9\" fill-rule=\"evenodd\" fill-opacity=\"1\"/>\n",
       "<polyline clip-path=\"url(#clip392)\" style=\"stroke:#000000; stroke-linecap:round; stroke-linejoin:round; stroke-width:4; stroke-opacity:1; fill:none\" points=\"\n",
       "  2167.2,1442.05 2167.2,1445.72 2203.65,1445.72 2203.65,1442.05 2167.2,1442.05 \n",
       "  \"/>\n",
       "<path clip-path=\"url(#clip392)\" d=\"\n",
       "M2203.65 1430.71 L2203.65 1445.72 L2240.11 1445.72 L2240.11 1430.71 L2203.65 1430.71 L2203.65 1430.71  Z\n",
       "  \" fill=\"#009af9\" fill-rule=\"evenodd\" fill-opacity=\"1\"/>\n",
       "<polyline clip-path=\"url(#clip392)\" style=\"stroke:#000000; stroke-linecap:round; stroke-linejoin:round; stroke-width:4; stroke-opacity:1; fill:none\" points=\"\n",
       "  2203.65,1430.71 2203.65,1445.72 2240.11,1445.72 2240.11,1430.71 2203.65,1430.71 \n",
       "  \"/>\n",
       "<circle clip-path=\"url(#clip392)\" style=\"fill:#009af9; stroke:none; fill-opacity:0\" cx=\"435.574\" cy=\"87.9763\" r=\"2\"/>\n",
       "<circle clip-path=\"url(#clip392)\" style=\"fill:#009af9; stroke:none; fill-opacity:0\" cx=\"472.029\" cy=\"1389.88\" r=\"2\"/>\n",
       "<circle clip-path=\"url(#clip392)\" style=\"fill:#009af9; stroke:none; fill-opacity:0\" cx=\"508.484\" cy=\"1393.18\" r=\"2\"/>\n",
       "<circle clip-path=\"url(#clip392)\" style=\"fill:#009af9; stroke:none; fill-opacity:0\" cx=\"544.939\" cy=\"1387.64\" r=\"2\"/>\n",
       "<circle clip-path=\"url(#clip392)\" style=\"fill:#009af9; stroke:none; fill-opacity:0\" cx=\"581.395\" cy=\"1387.55\" r=\"2\"/>\n",
       "<circle clip-path=\"url(#clip392)\" style=\"fill:#009af9; stroke:none; fill-opacity:0\" cx=\"617.85\" cy=\"1386.84\" r=\"2\"/>\n",
       "<circle clip-path=\"url(#clip392)\" style=\"fill:#009af9; stroke:none; fill-opacity:0\" cx=\"654.305\" cy=\"1386.12\" r=\"2\"/>\n",
       "<circle clip-path=\"url(#clip392)\" style=\"fill:#009af9; stroke:none; fill-opacity:0\" cx=\"690.761\" cy=\"1383.44\" r=\"2\"/>\n",
       "<circle clip-path=\"url(#clip392)\" style=\"fill:#009af9; stroke:none; fill-opacity:0\" cx=\"727.216\" cy=\"1378.98\" r=\"2\"/>\n",
       "<circle clip-path=\"url(#clip392)\" style=\"fill:#009af9; stroke:none; fill-opacity:0\" cx=\"763.671\" cy=\"1385.68\" r=\"2\"/>\n",
       "<circle clip-path=\"url(#clip392)\" style=\"fill:#009af9; stroke:none; fill-opacity:0\" cx=\"800.126\" cy=\"1380.41\" r=\"2\"/>\n",
       "<circle clip-path=\"url(#clip392)\" style=\"fill:#009af9; stroke:none; fill-opacity:0\" cx=\"836.582\" cy=\"1380.76\" r=\"2\"/>\n",
       "<circle clip-path=\"url(#clip392)\" style=\"fill:#009af9; stroke:none; fill-opacity:0\" cx=\"873.037\" cy=\"1383\" r=\"2\"/>\n",
       "<circle clip-path=\"url(#clip392)\" style=\"fill:#009af9; stroke:none; fill-opacity:0\" cx=\"909.492\" cy=\"1383.8\" r=\"2\"/>\n",
       "<circle clip-path=\"url(#clip392)\" style=\"fill:#009af9; stroke:none; fill-opacity:0\" cx=\"945.947\" cy=\"1377.64\" r=\"2\"/>\n",
       "<circle clip-path=\"url(#clip392)\" style=\"fill:#009af9; stroke:none; fill-opacity:0\" cx=\"982.403\" cy=\"1384.87\" r=\"2\"/>\n",
       "<circle clip-path=\"url(#clip392)\" style=\"fill:#009af9; stroke:none; fill-opacity:0\" cx=\"1018.86\" cy=\"1387.37\" r=\"2\"/>\n",
       "<circle clip-path=\"url(#clip392)\" style=\"fill:#009af9; stroke:none; fill-opacity:0\" cx=\"1055.31\" cy=\"1387.46\" r=\"2\"/>\n",
       "<circle clip-path=\"url(#clip392)\" style=\"fill:#009af9; stroke:none; fill-opacity:0\" cx=\"1091.77\" cy=\"1391.75\" r=\"2\"/>\n",
       "<circle clip-path=\"url(#clip392)\" style=\"fill:#009af9; stroke:none; fill-opacity:0\" cx=\"1128.22\" cy=\"1393\" r=\"2\"/>\n",
       "<circle clip-path=\"url(#clip392)\" style=\"fill:#009af9; stroke:none; fill-opacity:0\" cx=\"1164.68\" cy=\"1391.75\" r=\"2\"/>\n",
       "<circle clip-path=\"url(#clip392)\" style=\"fill:#009af9; stroke:none; fill-opacity:0\" cx=\"1201.13\" cy=\"1398.9\" r=\"2\"/>\n",
       "<circle clip-path=\"url(#clip392)\" style=\"fill:#009af9; stroke:none; fill-opacity:0\" cx=\"1237.59\" cy=\"1398.1\" r=\"2\"/>\n",
       "<circle clip-path=\"url(#clip392)\" style=\"fill:#009af9; stroke:none; fill-opacity:0\" cx=\"1274.04\" cy=\"1400.51\" r=\"2\"/>\n",
       "<circle clip-path=\"url(#clip392)\" style=\"fill:#009af9; stroke:none; fill-opacity:0\" cx=\"1310.5\" cy=\"1402.74\" r=\"2\"/>\n",
       "<circle clip-path=\"url(#clip392)\" style=\"fill:#009af9; stroke:none; fill-opacity:0\" cx=\"1346.96\" cy=\"1406.4\" r=\"2\"/>\n",
       "<circle clip-path=\"url(#clip392)\" style=\"fill:#009af9; stroke:none; fill-opacity:0\" cx=\"1383.41\" cy=\"1408.19\" r=\"2\"/>\n",
       "<circle clip-path=\"url(#clip392)\" style=\"fill:#009af9; stroke:none; fill-opacity:0\" cx=\"1419.87\" cy=\"1410.16\" r=\"2\"/>\n",
       "<circle clip-path=\"url(#clip392)\" style=\"fill:#009af9; stroke:none; fill-opacity:0\" cx=\"1456.32\" cy=\"1412.75\" r=\"2\"/>\n",
       "<circle clip-path=\"url(#clip392)\" style=\"fill:#009af9; stroke:none; fill-opacity:0\" cx=\"1492.78\" cy=\"1416.05\" r=\"2\"/>\n",
       "<circle clip-path=\"url(#clip392)\" style=\"fill:#009af9; stroke:none; fill-opacity:0\" cx=\"1529.23\" cy=\"1418.11\" r=\"2\"/>\n",
       "<circle clip-path=\"url(#clip392)\" style=\"fill:#009af9; stroke:none; fill-opacity:0\" cx=\"1565.69\" cy=\"1421.06\" r=\"2\"/>\n",
       "<circle clip-path=\"url(#clip392)\" style=\"fill:#009af9; stroke:none; fill-opacity:0\" cx=\"1602.14\" cy=\"1423.47\" r=\"2\"/>\n",
       "<circle clip-path=\"url(#clip392)\" style=\"fill:#009af9; stroke:none; fill-opacity:0\" cx=\"1638.6\" cy=\"1425.52\" r=\"2\"/>\n",
       "<circle clip-path=\"url(#clip392)\" style=\"fill:#009af9; stroke:none; fill-opacity:0\" cx=\"1675.05\" cy=\"1424.45\" r=\"2\"/>\n",
       "<circle clip-path=\"url(#clip392)\" style=\"fill:#009af9; stroke:none; fill-opacity:0\" cx=\"1711.51\" cy=\"1424.45\" r=\"2\"/>\n",
       "<circle clip-path=\"url(#clip392)\" style=\"fill:#009af9; stroke:none; fill-opacity:0\" cx=\"1747.96\" cy=\"1429.1\" r=\"2\"/>\n",
       "<circle clip-path=\"url(#clip392)\" style=\"fill:#009af9; stroke:none; fill-opacity:0\" cx=\"1784.42\" cy=\"1431.69\" r=\"2\"/>\n",
       "<circle clip-path=\"url(#clip392)\" style=\"fill:#009af9; stroke:none; fill-opacity:0\" cx=\"1820.87\" cy=\"1430.88\" r=\"2\"/>\n",
       "<circle clip-path=\"url(#clip392)\" style=\"fill:#009af9; stroke:none; fill-opacity:0\" cx=\"1857.33\" cy=\"1434.37\" r=\"2\"/>\n",
       "<circle clip-path=\"url(#clip392)\" style=\"fill:#009af9; stroke:none; fill-opacity:0\" cx=\"1893.78\" cy=\"1435.71\" r=\"2\"/>\n",
       "<circle clip-path=\"url(#clip392)\" style=\"fill:#009af9; stroke:none; fill-opacity:0\" cx=\"1930.24\" cy=\"1436.25\" r=\"2\"/>\n",
       "<circle clip-path=\"url(#clip392)\" style=\"fill:#009af9; stroke:none; fill-opacity:0\" cx=\"1966.69\" cy=\"1438.21\" r=\"2\"/>\n",
       "<circle clip-path=\"url(#clip392)\" style=\"fill:#009af9; stroke:none; fill-opacity:0\" cx=\"2003.15\" cy=\"1436.78\" r=\"2\"/>\n",
       "<circle clip-path=\"url(#clip392)\" style=\"fill:#009af9; stroke:none; fill-opacity:0\" cx=\"2039.61\" cy=\"1439.37\" r=\"2\"/>\n",
       "<circle clip-path=\"url(#clip392)\" style=\"fill:#009af9; stroke:none; fill-opacity:0\" cx=\"2076.06\" cy=\"1439.91\" r=\"2\"/>\n",
       "<circle clip-path=\"url(#clip392)\" style=\"fill:#009af9; stroke:none; fill-opacity:0\" cx=\"2112.52\" cy=\"1442.41\" r=\"2\"/>\n",
       "<circle clip-path=\"url(#clip392)\" style=\"fill:#009af9; stroke:none; fill-opacity:0\" cx=\"2148.97\" cy=\"1441.7\" r=\"2\"/>\n",
       "<circle clip-path=\"url(#clip392)\" style=\"fill:#009af9; stroke:none; fill-opacity:0\" cx=\"2185.43\" cy=\"1442.05\" r=\"2\"/>\n",
       "<circle clip-path=\"url(#clip392)\" style=\"fill:#009af9; stroke:none; fill-opacity:0\" cx=\"2221.88\" cy=\"1430.71\" r=\"2\"/>\n",
       "<path clip-path=\"url(#clip390)\" d=\"\n",
       "M2004.5 198.898 L2284.49 198.898 L2284.49 95.2176 L2004.5 95.2176  Z\n",
       "  \" fill=\"#ffffff\" fill-rule=\"evenodd\" fill-opacity=\"1\"/>\n",
       "<polyline clip-path=\"url(#clip390)\" style=\"stroke:#000000; stroke-linecap:round; stroke-linejoin:round; stroke-width:4; stroke-opacity:1; fill:none\" points=\"\n",
       "  2004.5,198.898 2284.49,198.898 2284.49,95.2176 2004.5,95.2176 2004.5,198.898 \n",
       "  \"/>\n",
       "<path clip-path=\"url(#clip390)\" d=\"\n",
       "M2027.25 167.794 L2163.79 167.794 L2163.79 126.322 L2027.25 126.322 L2027.25 167.794  Z\n",
       "  \" fill=\"#009af9\" fill-rule=\"evenodd\" fill-opacity=\"1\"/>\n",
       "<polyline clip-path=\"url(#clip390)\" style=\"stroke:#000000; stroke-linecap:round; stroke-linejoin:round; stroke-width:4; stroke-opacity:1; fill:none\" points=\"\n",
       "  2027.25,167.794 2163.79,167.794 2163.79,126.322 2027.25,126.322 2027.25,167.794 \n",
       "  \"/>\n",
       "<path clip-path=\"url(#clip390)\" d=\"M2200.39 166.745 Q2198.58 171.375 2196.87 172.787 Q2195.16 174.199 2192.29 174.199 L2188.88 174.199 L2188.88 170.634 L2191.38 170.634 Q2193.14 170.634 2194.11 169.8 Q2195.09 168.967 2196.27 165.865 L2197.03 163.921 L2186.54 138.412 L2191.06 138.412 L2199.16 158.689 L2207.26 138.412 L2211.78 138.412 L2200.39 166.745 Z\" fill=\"#000000\" fill-rule=\"evenodd\" fill-opacity=\"1\" /><path clip-path=\"url(#clip390)\" d=\"M2219.07 160.402 L2226.71 160.402 L2226.71 134.037 L2218.4 135.703 L2218.4 131.444 L2226.66 129.778 L2231.34 129.778 L2231.34 160.402 L2238.97 160.402 L2238.97 164.338 L2219.07 164.338 L2219.07 160.402 Z\" fill=\"#000000\" fill-rule=\"evenodd\" fill-opacity=\"1\" /></svg>\n"
      ]
     },
     "execution_count": 53,
     "metadata": {},
     "output_type": "execute_result"
    }
   ],
   "source": [
    "histogram(heritabilities)"
   ]
  },
  {
   "cell_type": "code",
   "execution_count": 2,
   "id": "7db370cc-c9c7-4b5e-91bb-7ecbdab620e4",
   "metadata": {},
   "outputs": [
    {
     "data": {
      "text/plain": [
       "0.8057724829266615"
      ]
     },
     "execution_count": 2,
     "metadata": {},
     "output_type": "execute_result"
    }
   ],
   "source": [
    "1.42894/(1.42894+0.344439)"
   ]
  },
  {
   "cell_type": "code",
   "execution_count": 15,
   "id": "c71004b9-4bea-48fb-9d7b-ad6bdebfe19d",
   "metadata": {},
   "outputs": [],
   "source": [
    "x = [1, 1, 0, 0, 0, 1, 1, 0, 1, 1, 0, 0, 1, 0, 0, 0, 0, 1, 1, 1, 0, 1, 0, 0, 1, 1, 1, 1, 1, 1, 1, 1, 1, 0, 1, 0, 1, 1, 0, 1, 1, 1, 0, 0, 1, 0, 1, 1, 1, 0, 1, 1, 0, 0, 0, 0, 0, 1, 0, 1, 1, 0, 1, 1, 1, 1, 0, 0, 0, 1, 0, 1, 0, 0, 0, 1, 1, 1, 0, 0, 1, 0, 1, 1, 0, 1, 0, 0, 1, 1, 1, 1, 1, 0.5, 0, 1, 0, 1, 0.5, 0, 1, 0, 0, 0, 1, 1, 0, 0.5, 1, 1, 0.5, 0, 1, 1, 0, 0, 1, 1, 1, 0, 1, 1, 1, 0.5, 0, 0, 0, 0, 1, 1, 1, 1, 0, 0, 1, 0, 1, 0, 0, 0, 1, 0, 0, 0, 0, 0, 0, 0, 0, 0.5, 1, 1, 1, 1, 1, 0, 1, 0, 0, 1, 0, 1, 0, 1, 1, 0, 0, 1, 1, 0.5, 1, 1, 1, 0, 0, 1, 1, 1, 1, 0, 0, 0, 0, 0, 0, 0.5, 0.5, 1, 0, 1, 0, 0, 1, 0.5, 0, 1, 0.5, 0.5];"
   ]
  },
  {
   "cell_type": "code",
   "execution_count": 28,
   "id": "ca28a877-1a97-4acc-9c7a-f9c8ffad395b",
   "metadata": {},
   "outputs": [
    {
     "data": {
      "text/plain": [
       "0"
      ]
     },
     "execution_count": 28,
     "metadata": {},
     "output_type": "execute_result"
    }
   ],
   "source": [
    "sum(geno[1:20, 1] - x[1:20] .> 0.1)"
   ]
  },
  {
   "cell_type": "code",
   "execution_count": 24,
   "id": "320129c0-dd26-40e9-b613-31c1bd40181b",
   "metadata": {},
   "outputs": [
    {
     "data": {
      "text/plain": [
       "79×2 Matrix{Float64}:\n",
       " 1.0          1.0\n",
       " 1.0          1.0\n",
       " 5.18083e-11  0.0\n",
       " 5.18083e-11  0.0\n",
       " 5.18083e-11  0.0\n",
       " 1.0          1.0\n",
       " 1.0          1.0\n",
       " 5.18083e-11  0.0\n",
       " 1.0          1.0\n",
       " 1.0          1.0\n",
       " 5.18083e-11  0.0\n",
       " 5.18083e-11  0.0\n",
       " 1.0          1.0\n",
       " ⋮            \n",
       " 5.18083e-11  0.0\n",
       " 5.18083e-11  0.0\n",
       " 1.0          1.0\n",
       " 1.0          0.0\n",
       " 1.0          1.0\n",
       " 1.0          0.0\n",
       " 5.18083e-11  0.0\n",
       " 1.0          0.0\n",
       " 1.0          1.0\n",
       " 1.0          1.0\n",
       " 1.0          1.0\n",
       " 1.0          0.0"
      ]
     },
     "execution_count": 24,
     "metadata": {},
     "output_type": "execute_result"
    }
   ],
   "source": [
    "hcat(geno[1:30, 1], x[1:30])"
   ]
  },
  {
   "cell_type": "code",
   "execution_count": 12,
   "id": "97518dd6-3c98-47a9-ae56-6c50c46c0e70",
   "metadata": {},
   "outputs": [
    {
     "data": {
      "text/plain": [
       "79-element Vector{Float64}:\n",
       " 0.999999999948191\n",
       " 0.999999999948193\n",
       " 5.18083214030656e-11\n",
       " 5.18083214030656e-11\n",
       " 5.18083214030656e-11\n",
       " 0.999999999948193\n",
       " 0.999999999948191\n",
       " 5.18083214030656e-11\n",
       " 0.999999999948191\n",
       " 0.999999999948191\n",
       " 5.18083214030656e-11\n",
       " 5.18083214030656e-11\n",
       " 0.999999999948191\n",
       " ⋮\n",
       " 5.18083214030656e-11\n",
       " 5.18083214030656e-11\n",
       " 0.999999999948191\n",
       " 0.999999999948191\n",
       " 0.999999999948194\n",
       " 0.999999999948194\n",
       " 5.18083214030656e-11\n",
       " 0.999999999948194\n",
       " 0.999999999948194\n",
       " 0.999999999948194\n",
       " 0.999999999948194\n",
       " 0.999999999948194"
      ]
     },
     "execution_count": 12,
     "metadata": {},
     "output_type": "execute_result"
    }
   ],
   "source": [
    "geno[:, 1]"
   ]
  },
  {
   "cell_type": "code",
   "execution_count": 32,
   "id": "bacad1d2-48d6-4750-8a36-621a519667e5",
   "metadata": {},
   "outputs": [
    {
     "data": {
      "text/plain": [
       "\"../data/bxdData/BXDgeno_prob.csv\""
      ]
     },
     "execution_count": 32,
     "metadata": {},
     "output_type": "execute_result"
    }
   ],
   "source": [
    "geno_file = \"../data/bxdData/BXDgeno_prob.csv\""
   ]
  },
  {
   "cell_type": "code",
   "execution_count": null,
   "id": "46ffcdc1-093d-499e-b1f6-54f50ea7495c",
   "metadata": {},
   "outputs": [],
   "source": [
    "include(\"../src/readData.jl\");"
   ]
  },
  {
   "cell_type": "code",
   "execution_count": 61,
   "id": "f8829ef4-1b1a-40f2-890b-f90aa37cd687",
   "metadata": {},
   "outputs": [],
   "source": [
    "geno_full = readGenoProb(geno_file);\n",
    "geno_4_gemma = transform_bxd_geno_to_gemma(geno_file, \"whateva\");\n",
    "## minor allele: A (encoded as 1), also the effect allele\n",
    "## major allele: B (encoded as 0)."
   ]
  },
  {
   "cell_type": "code",
   "execution_count": 64,
   "id": "fe3795ef-13cd-4b3e-92ad-f0458a8e3ad9",
   "metadata": {},
   "outputs": [
    {
     "data": {
      "text/plain": [
       "7321×82 Matrix{Any}:\n",
       " \"rs31443144:AA\"     \"A\"  \"B\"  2.0  …  2.0          2.0  2.0          2.0\n",
       " \"rs6269442:AA\"      \"A\"  \"B\"  2.0     2.0          2.0  2.0          2.0\n",
       " \"rs32285189:AA\"     \"A\"  \"B\"  2.0     2.0          2.0  2.0          2.0\n",
       " \"rs258367496:AA\"    \"A\"  \"B\"  2.0     2.0          2.0  2.0          2.0\n",
       " \"rs32430919:AA\"     \"A\"  \"B\"  2.0     2.0          2.0  2.0          2.0\n",
       " \"rs36251697:AA\"     \"A\"  \"B\"  2.0  …  2.0          2.0  2.0          2.0\n",
       " \"rs30658298:AA\"     \"A\"  \"B\"  2.0     2.0          2.0  2.0          2.0\n",
       " \"rs51852623:AA\"     \"A\"  \"B\"  2.0     2.0          2.0  2.0          2.0\n",
       " \"rs31879829:AA\"     \"A\"  \"B\"  2.0     2.0          2.0  2.0          2.0\n",
       " \"rs36742481:AA\"     \"A\"  \"B\"  2.0     2.0          2.0  2.0          2.0\n",
       " \"rs6365999:AA\"      \"A\"  \"B\"  2.0  …  2.0          2.0  2.0          2.0\n",
       " \"rs13470446:AA\"     \"A\"  \"B\"  2.0     2.0          2.0  2.0          2.0\n",
       " \"Affy_10344635:AA\"  \"A\"  \"B\"  2.0     2.0          2.0  2.0          2.0\n",
       " ⋮                                  ⋱                    ⋮            \n",
       " \"rs31466210:AA\"     \"A\"  \"B\"  2       2.20708e-17  2    2.20708e-17  2\n",
       " \"rs212815990:AA\"    \"A\"  \"B\"  2.0  …  6.57906e-13  2.0  6.57906e-13  2.0\n",
       " \"rs227685113:AA\"    \"A\"  \"B\"  2.0     6.57906e-13  2.0  6.57906e-13  2.0\n",
       " \"rs31551153:AA\"     \"A\"  \"B\"  2.0     7.1247e-9    2.0  7.1247e-9    2.0\n",
       " \"rs31556818:AA\"     \"A\"  \"B\"  2.0     7.12776e-13  2.0  7.12776e-13  2.0\n",
       " \"rs31275062:AA\"     \"A\"  \"B\"  2.0     7.12776e-13  2.0  7.12776e-13  2.0\n",
       " \"rs47382998:AA\"     \"A\"  \"B\"  2.0  …  6.57889e-9   2.0  6.57889e-9   2.0\n",
       " \"rs13484107:AA\"     \"A\"  \"B\"  2.0     2.20693e-9   2.0  2.20693e-9   2.0\n",
       " \"rs3693969:AA\"      \"A\"  \"B\"  2.0     2.38997e-9   2.0  2.38997e-9   2.0\n",
       " \"DXMit223:AA\"       \"A\"  \"B\"  2.0     4.76462e-9   2.0  4.76462e-9   2.0\n",
       " \"rs31638776:AA\"     \"A\"  \"B\"  2.0     1.37865e-10  2.0  1.37865e-10  2.0\n",
       " \"rs31639754:AA\"     \"A\"  \"B\"  2.0  …  1.37865e-10  2.0  1.37865e-10  2.0"
      ]
     },
     "execution_count": 64,
     "metadata": {},
     "output_type": "execute_result"
    }
   ],
   "source": [
    "geno_4_gemma[:, :]"
   ]
  },
  {
   "cell_type": "code",
   "execution_count": 66,
   "id": "f6df63a7-c0a9-47c0-86b8-03e40061a0e1",
   "metadata": {},
   "outputs": [
    {
     "data": {
      "text/plain": [
       "2-element Vector{String}:\n",
       " \"Geeks\"\n",
       " \"Fred\""
      ]
     },
     "execution_count": 66,
     "metadata": {},
     "output_type": "execute_result"
    }
   ],
   "source": [
    "st_sets = [\"Geeks\", \"Fred\"]"
   ]
  },
  {
   "cell_type": "code",
   "execution_count": 68,
   "id": "f0ec577e-f5be-45fb-92f4-86a150e019e9",
   "metadata": {},
   "outputs": [
    {
     "name": "stdout",
     "output_type": "stream",
     "text": [
      "SubString{String}[\"Gee\", \"Fre\"]\n"
     ]
    }
   ],
   "source": [
    "println(map(x -> SubString(x, 1, 3), st_sets))"
   ]
  },
  {
   "cell_type": "code",
   "execution_count": 47,
   "id": "89d5ec0c-ca99-4af3-9bcb-c111f950bf61",
   "metadata": {},
   "outputs": [
    {
     "data": {
      "text/plain": [
       "79×2 Matrix{Any}:\n",
       " 2.0          1.0\n",
       " 2.0          1.0\n",
       " 1.03617e-10  5.18083e-11\n",
       " 1.03617e-10  5.18083e-11\n",
       " 1.03617e-10  5.18083e-11\n",
       " 2.0          1.0\n",
       " 2.0          1.0\n",
       " 1.03617e-10  5.18083e-11\n",
       " 2.0          1.0\n",
       " 2.0          1.0\n",
       " 1.03617e-10  5.18083e-11\n",
       " 1.03617e-10  5.18083e-11\n",
       " 2.0          1.0\n",
       " ⋮            \n",
       " 1.03617e-10  5.18083e-11\n",
       " 1.03617e-10  5.18083e-11\n",
       " 2.0          1.0\n",
       " 2.0          1.0\n",
       " 2.0          1.0\n",
       " 2.0          1.0\n",
       " 1.03617e-10  5.18083e-11\n",
       " 2.0          1.0\n",
       " 2.0          1.0\n",
       " 2.0          1.0\n",
       " 2.0          1.0\n",
       " 2.0          1.0"
      ]
     },
     "execution_count": 47,
     "metadata": {},
     "output_type": "execute_result"
    }
   ],
   "source": [
    "hcat(geno_4_gemma[1, 4:end], geno[:, 1])"
   ]
  },
  {
   "cell_type": "code",
   "execution_count": null,
   "id": "ec3ca3f7-09bb-4d68-8683-9bebf418e08e",
   "metadata": {},
   "outputs": [],
   "source": []
  }
 ],
 "metadata": {
  "kernelspec": {
   "display_name": "Julia 1.6.2",
   "language": "julia",
   "name": "julia-1.6"
  },
  "language_info": {
   "file_extension": ".jl",
   "mimetype": "application/julia",
   "name": "julia",
   "version": "1.6.2"
  }
 },
 "nbformat": 4,
 "nbformat_minor": 5
}
