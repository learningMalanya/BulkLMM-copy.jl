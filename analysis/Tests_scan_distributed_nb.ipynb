{
 "cells": [
  {
   "cell_type": "code",
   "execution_count": 1,
   "id": "40e445b9-2cc9-425d-b58b-702d7a82ac45",
   "metadata": {},
   "outputs": [],
   "source": [
    "using Pkg\n",
    "# Pkg.add(\"Profile\")\n",
    "# Pkg.instantiate()"
   ]
  },
  {
   "cell_type": "code",
   "execution_count": 2,
   "id": "657ab3eb-c481-4859-ac1e-250b11780d2d",
   "metadata": {},
   "outputs": [],
   "source": [
    "#= dependencies = [\"DelimitedFiles\", \"LinearAlgebra\", \"Optim\", \"Distributions\", \"Test\",\n",
    "                \"BenchmarkTools\", \"Random\", \"CSV\", \"DataFrames\", \"Distributed\", \"Plots\"];\n",
    "Pkg.add(dependencies) =#"
   ]
  },
  {
   "cell_type": "code",
   "execution_count": 3,
   "id": "140ca48f-88a6-4046-aab9-c17d5f76757b",
   "metadata": {},
   "outputs": [],
   "source": [
    "using DelimitedFiles\n",
    "using LinearAlgebra\n",
    "using Optim\n",
    "using Distributions\n",
    "using Test\n",
    "using BenchmarkTools\n",
    "using Random\n",
    "using CSV\n",
    "using DataFrames\n",
    "using Plots\n",
    "using Profile\n",
    "using Distributed"
   ]
  },
  {
   "cell_type": "code",
   "execution_count": 4,
   "id": "d9e252dc-d685-45d7-af39-667f919940f3",
   "metadata": {},
   "outputs": [
    {
     "data": {
      "text/plain": [
       "\"/home/xyu/github/BulkLMM.jl/analysis\""
      ]
     },
     "execution_count": 4,
     "metadata": {},
     "output_type": "execute_result"
    }
   ],
   "source": [
    "pwd()"
   ]
  },
  {
   "cell_type": "code",
   "execution_count": 5,
   "id": "f590a242-f191-4a0f-b63b-3a452a799585",
   "metadata": {},
   "outputs": [],
   "source": [
    "## Include the source code of BulkLMM to be tested:\n",
    "include(\"../src/scan.jl\");\n",
    "include(\"../src/lmm.jl\");\n",
    "include(\"../src/wls.jl\");\n",
    "include(\"../src/util.jl\");\n",
    "include(\"../src/kinship.jl\");\n",
    "include(\"../src/readData.jl\");\n",
    "include(\"../src/scan_for_tests.jl\")\n",
    "include(\"../src/scan_distributed.jl\") # new function\n",
    "\n",
    "## Also include the helper functions for writing tests:\n",
    "include(\"../test/testHelper.jl\");"
   ]
  },
  {
   "cell_type": "code",
   "execution_count": 6,
   "id": "fbbe790e-aec1-4c4f-a8f4-7c76e964f6f0",
   "metadata": {},
   "outputs": [],
   "source": [
    "## Read in BXD data:\n",
    "pheno_file = \"../data/bxdData/BXDtraits.csv\"\n",
    "pheno = readBXDpheno(pheno_file);\n",
    "geno_file = \"../data/bxdData/BXDgeno_prob.csv\"\n",
    "geno = readGenoProb_ExcludeComplements(geno_file);\n",
    "\n",
    "kinship = calcKinship(geno); # calculate kinship matrix from genotype data"
   ]
  },
  {
   "cell_type": "code",
   "execution_count": 7,
   "id": "cb01140e-afe9-47c9-94a8-e1b5be1252c9",
   "metadata": {},
   "outputs": [],
   "source": [
    "m = size(pheno, 2);\n",
    "p = size(geno, 2); # number of markers"
   ]
  },
  {
   "cell_type": "code",
   "execution_count": 8,
   "id": "6afb06d1-7339-4f95-92ce-2dcb0db38dce",
   "metadata": {},
   "outputs": [],
   "source": [
    "## Consider the 7919-th trait\n",
    "pheno_y = reshape(pheno[:, 7919], :, 1);"
   ]
  },
  {
   "cell_type": "code",
   "execution_count": null,
   "id": "593b0889-9302-422d-bc4d-12c473454cf3",
   "metadata": {},
   "outputs": [],
   "source": []
  },
  {
   "cell_type": "code",
   "execution_count": 9,
   "id": "89880c04-450c-405f-baa8-6e6898366e36",
   "metadata": {},
   "outputs": [],
   "source": [
    "n_seeds = 20;"
   ]
  },
  {
   "cell_type": "code",
   "execution_count": 17,
   "id": "9bbc410d-3c9c-4c5e-afc6-00d8b0a683ad",
   "metadata": {},
   "outputs": [
    {
     "name": "stderr",
     "output_type": "stream",
     "text": [
      "WARNING: using StatsBase.rss in module Main conflicts with an existing identifier.\n"
     ]
    }
   ],
   "source": [
    "using StatsBase"
   ]
  },
  {
   "cell_type": "code",
   "execution_count": 18,
   "id": "10d81d75-65ce-45ce-864e-95b94c615cfe",
   "metadata": {},
   "outputs": [],
   "source": [
    "seeds_list = StatsBase.sample(1:100, n_seeds; replace = false);"
   ]
  },
  {
   "cell_type": "code",
   "execution_count": null,
   "id": "033b21b1-0e1b-4d71-a4d6-957e90f9529c",
   "metadata": {},
   "outputs": [],
   "source": []
  },
  {
   "cell_type": "code",
   "execution_count": 19,
   "id": "e4003791-ceb6-4bd0-8b67-38d7ae000c2f",
   "metadata": {},
   "outputs": [],
   "source": [
    "(y0, X0, lambda0) = transform1(pheno_y, geno, kinship);"
   ]
  },
  {
   "cell_type": "code",
   "execution_count": 20,
   "id": "28770548-b805-4c73-8e0f-90eff2a6fb3f",
   "metadata": {},
   "outputs": [],
   "source": [
    "(r0, X00) = transform2(y0, X0, lambda0; reml = false);"
   ]
  },
  {
   "cell_type": "code",
   "execution_count": null,
   "id": "b6640ac5-9c3a-44ab-88c8-d1f459f00fce",
   "metadata": {},
   "outputs": [],
   "source": []
  },
  {
   "cell_type": "code",
   "execution_count": 21,
   "id": "3413ce79-aa65-4dce-9858-34773041e5f5",
   "metadata": {},
   "outputs": [],
   "source": [
    "# addprocs(10);"
   ]
  },
  {
   "cell_type": "code",
   "execution_count": 22,
   "id": "63364623-7897-4d4c-88da-4880d470cb2d",
   "metadata": {},
   "outputs": [
    {
     "data": {
      "text/plain": [
       "10-element Vector{Int64}:\n",
       "  2\n",
       "  3\n",
       "  4\n",
       "  5\n",
       "  6\n",
       "  7\n",
       "  8\n",
       "  9\n",
       " 10\n",
       " 11"
      ]
     },
     "execution_count": 22,
     "metadata": {},
     "output_type": "execute_result"
    }
   ],
   "source": [
    "workers()"
   ]
  },
  {
   "cell_type": "code",
   "execution_count": 23,
   "id": "95cb0b1e-aa25-47ca-a90b-7568270a0e70",
   "metadata": {},
   "outputs": [],
   "source": [
    "# rmprocs(workers())"
   ]
  },
  {
   "cell_type": "code",
   "execution_count": 24,
   "id": "c5f623da-d4de-417e-bcd7-ed716fa0c737",
   "metadata": {},
   "outputs": [],
   "source": [
    "@everywhere begin\n",
    "    using Random\n",
    "    using LinearAlgebra\n",
    "    using Optim\n",
    "    using Distributed\n",
    "    \n",
    "    ## Include the source code of BulkLMM to be tested:\n",
    "    include(\"../src/scan.jl\");\n",
    "    include(\"../src/lmm.jl\");\n",
    "    include(\"../src/wls.jl\");\n",
    "    include(\"../src/util.jl\");\n",
    "    include(\"../src/kinship.jl\");\n",
    "    include(\"../src/readData.jl\");\n",
    "    include(\"../src/scan_for_tests.jl\")\n",
    "    include(\"../src/scan_distributed.jl\")\n",
    "\n",
    "    include(\"../src/parallel_helpers.jl\")\n",
    "end"
   ]
  },
  {
   "cell_type": "code",
   "execution_count": 25,
   "id": "103325f8-2429-48c8-814c-9b496aa82e1a",
   "metadata": {},
   "outputs": [],
   "source": [
    "LODs_by_blocks = scan_perms_distributed(pheno_y, geno, kinship; reml = false, nperms = 1000, rndseed = 0, original = true, \n",
    "    option = \"by blocks\", nblocks = 1000);"
   ]
  },
  {
   "cell_type": "code",
   "execution_count": 26,
   "id": "001b0ce5-3dba-44e6-b761-dc3464fed78e",
   "metadata": {},
   "outputs": [],
   "source": [
    "LODs_ordinary = scan_perms(pheno_y, geno, kinship; reml = false, nperms = 1000, rndseed = 0, original = true);"
   ]
  },
  {
   "cell_type": "code",
   "execution_count": 27,
   "id": "fd99e486-f40b-4e00-ad2c-6b38437343b9",
   "metadata": {},
   "outputs": [],
   "source": [
    "LODs_by_nperms = scan_perms_distributed(pheno_y, geno, kinship; reml = false, nperms = 1000, original = true, \n",
    "    option = \"by nperms\", ncopies = 10);"
   ]
  },
  {
   "cell_type": "code",
   "execution_count": 28,
   "id": "ef4ce201-07e8-4ec5-b211-6fd00a5855e1",
   "metadata": {},
   "outputs": [
    {
     "data": {
      "text/plain": [
       "7.888609052210118e-29"
      ]
     },
     "execution_count": 28,
     "metadata": {},
     "output_type": "execute_result"
    }
   ],
   "source": [
    "maxSqDiff(LODs_by_blocks, LODs_ordinary)"
   ]
  },
  {
   "cell_type": "code",
   "execution_count": 29,
   "id": "f0dd9f79-7651-424e-aaf4-b5d752ae3845",
   "metadata": {},
   "outputs": [
    {
     "data": {
      "text/plain": [
       "BenchmarkTools.Trial: 8 samples with 1 evaluation.\n",
       " Range \u001b[90m(\u001b[39m\u001b[36m\u001b[1mmin\u001b[22m\u001b[39m … \u001b[35mmax\u001b[39m\u001b[90m):  \u001b[39m\u001b[36m\u001b[1m640.485 ms\u001b[22m\u001b[39m … \u001b[35m771.505 ms\u001b[39m  \u001b[90m┊\u001b[39m GC \u001b[90m(\u001b[39mmin … max\u001b[90m): \u001b[39m0.00% … 0.49%\n",
       " Time  \u001b[90m(\u001b[39m\u001b[34m\u001b[1mmedian\u001b[22m\u001b[39m\u001b[90m):     \u001b[39m\u001b[34m\u001b[1m691.068 ms               \u001b[22m\u001b[39m\u001b[90m┊\u001b[39m GC \u001b[90m(\u001b[39mmedian\u001b[90m):    \u001b[39m0.24%\n",
       " Time  \u001b[90m(\u001b[39m\u001b[32m\u001b[1mmean\u001b[22m\u001b[39m ± \u001b[32mσ\u001b[39m\u001b[90m):   \u001b[39m\u001b[32m\u001b[1m699.525 ms\u001b[22m\u001b[39m ± \u001b[32m 51.946 ms\u001b[39m  \u001b[90m┊\u001b[39m GC \u001b[90m(\u001b[39mmean ± σ\u001b[90m):  \u001b[39m0.38% ± 0.50%\n",
       "\n",
       "  \u001b[39m█\u001b[39m \u001b[39m \u001b[39m \u001b[39m \u001b[39m \u001b[39m \u001b[39m█\u001b[39m█\u001b[39m \u001b[39m█\u001b[34m \u001b[39m\u001b[39m \u001b[39m \u001b[39m \u001b[39m \u001b[39m \u001b[39m \u001b[39m \u001b[39m \u001b[39m \u001b[39m \u001b[39m \u001b[39m \u001b[39m \u001b[39m \u001b[39m \u001b[32m \u001b[39m\u001b[39m \u001b[39m \u001b[39m \u001b[39m \u001b[39m \u001b[39m \u001b[39m \u001b[39m \u001b[39m█\u001b[39m█\u001b[39m \u001b[39m \u001b[39m \u001b[39m \u001b[39m \u001b[39m \u001b[39m \u001b[39m \u001b[39m \u001b[39m \u001b[39m \u001b[39m \u001b[39m \u001b[39m \u001b[39m \u001b[39m \u001b[39m \u001b[39m \u001b[39m \u001b[39m \u001b[39m█\u001b[39m \u001b[39m█\u001b[39m \u001b[39m \n",
       "  \u001b[39m█\u001b[39m▁\u001b[39m▁\u001b[39m▁\u001b[39m▁\u001b[39m▁\u001b[39m▁\u001b[39m█\u001b[39m█\u001b[39m▁\u001b[39m█\u001b[34m▁\u001b[39m\u001b[39m▁\u001b[39m▁\u001b[39m▁\u001b[39m▁\u001b[39m▁\u001b[39m▁\u001b[39m▁\u001b[39m▁\u001b[39m▁\u001b[39m▁\u001b[39m▁\u001b[39m▁\u001b[39m▁\u001b[39m▁\u001b[39m▁\u001b[32m▁\u001b[39m\u001b[39m▁\u001b[39m▁\u001b[39m▁\u001b[39m▁\u001b[39m▁\u001b[39m▁\u001b[39m▁\u001b[39m▁\u001b[39m█\u001b[39m█\u001b[39m▁\u001b[39m▁\u001b[39m▁\u001b[39m▁\u001b[39m▁\u001b[39m▁\u001b[39m▁\u001b[39m▁\u001b[39m▁\u001b[39m▁\u001b[39m▁\u001b[39m▁\u001b[39m▁\u001b[39m▁\u001b[39m▁\u001b[39m▁\u001b[39m▁\u001b[39m▁\u001b[39m▁\u001b[39m▁\u001b[39m█\u001b[39m▁\u001b[39m█\u001b[39m \u001b[39m▁\n",
       "  640 ms\u001b[90m           Histogram: frequency by time\u001b[39m          772 ms \u001b[0m\u001b[1m<\u001b[22m\n",
       "\n",
       " Memory estimate\u001b[90m: \u001b[39m\u001b[33m140.51 MiB\u001b[39m, allocs estimate\u001b[90m: \u001b[39m\u001b[33m12933\u001b[39m."
      ]
     },
     "execution_count": 29,
     "metadata": {},
     "output_type": "execute_result"
    }
   ],
   "source": [
    "@benchmark scan_perms_distributed(pheno_y, geno, kinship; reml = false, nperms = 1000, rndseed = 0, original = true, \n",
    "    option = \"by blocks\", nblocks = 120)"
   ]
  },
  {
   "cell_type": "code",
   "execution_count": 30,
   "id": "e5b2a0f2-8f51-4a97-8989-73009ded30d7",
   "metadata": {},
   "outputs": [
    {
     "data": {
      "text/plain": [
       "BenchmarkTools.Trial: 2 samples with 1 evaluation.\n",
       " Range \u001b[90m(\u001b[39m\u001b[36m\u001b[1mmin\u001b[22m\u001b[39m … \u001b[35mmax\u001b[39m\u001b[90m):  \u001b[39m\u001b[36m\u001b[1m2.619 s\u001b[22m\u001b[39m … \u001b[35m   3.339 s\u001b[39m  \u001b[90m┊\u001b[39m GC \u001b[90m(\u001b[39mmin … max\u001b[90m): \u001b[39m4.83% … 7.61%\n",
       " Time  \u001b[90m(\u001b[39m\u001b[34m\u001b[1mmedian\u001b[22m\u001b[39m\u001b[90m):     \u001b[39m\u001b[34m\u001b[1m2.979 s               \u001b[22m\u001b[39m\u001b[90m┊\u001b[39m GC \u001b[90m(\u001b[39mmedian\u001b[90m):    \u001b[39m6.39%\n",
       " Time  \u001b[90m(\u001b[39m\u001b[32m\u001b[1mmean\u001b[22m\u001b[39m ± \u001b[32mσ\u001b[39m\u001b[90m):   \u001b[39m\u001b[32m\u001b[1m2.979 s\u001b[22m\u001b[39m ± \u001b[32m509.577 ms\u001b[39m  \u001b[90m┊\u001b[39m GC \u001b[90m(\u001b[39mmean ± σ\u001b[90m):  \u001b[39m6.39% ± 1.96%\n",
       "\n",
       "  \u001b[34m█\u001b[39m\u001b[39m \u001b[39m \u001b[39m \u001b[39m \u001b[39m \u001b[39m \u001b[39m \u001b[39m \u001b[39m \u001b[39m \u001b[39m \u001b[39m \u001b[39m \u001b[39m \u001b[39m \u001b[39m \u001b[39m \u001b[39m \u001b[39m \u001b[39m \u001b[39m \u001b[39m \u001b[39m \u001b[39m \u001b[39m \u001b[39m \u001b[39m \u001b[39m \u001b[32m \u001b[39m\u001b[39m \u001b[39m \u001b[39m \u001b[39m \u001b[39m \u001b[39m \u001b[39m \u001b[39m \u001b[39m \u001b[39m \u001b[39m \u001b[39m \u001b[39m \u001b[39m \u001b[39m \u001b[39m \u001b[39m \u001b[39m \u001b[39m \u001b[39m \u001b[39m \u001b[39m \u001b[39m \u001b[39m \u001b[39m \u001b[39m \u001b[39m \u001b[39m█\u001b[39m \u001b[39m \n",
       "  \u001b[34m█\u001b[39m\u001b[39m▁\u001b[39m▁\u001b[39m▁\u001b[39m▁\u001b[39m▁\u001b[39m▁\u001b[39m▁\u001b[39m▁\u001b[39m▁\u001b[39m▁\u001b[39m▁\u001b[39m▁\u001b[39m▁\u001b[39m▁\u001b[39m▁\u001b[39m▁\u001b[39m▁\u001b[39m▁\u001b[39m▁\u001b[39m▁\u001b[39m▁\u001b[39m▁\u001b[39m▁\u001b[39m▁\u001b[39m▁\u001b[39m▁\u001b[39m▁\u001b[39m▁\u001b[32m▁\u001b[39m\u001b[39m▁\u001b[39m▁\u001b[39m▁\u001b[39m▁\u001b[39m▁\u001b[39m▁\u001b[39m▁\u001b[39m▁\u001b[39m▁\u001b[39m▁\u001b[39m▁\u001b[39m▁\u001b[39m▁\u001b[39m▁\u001b[39m▁\u001b[39m▁\u001b[39m▁\u001b[39m▁\u001b[39m▁\u001b[39m▁\u001b[39m▁\u001b[39m▁\u001b[39m▁\u001b[39m▁\u001b[39m▁\u001b[39m▁\u001b[39m▁\u001b[39m█\u001b[39m \u001b[39m▁\n",
       "  2.62 s\u001b[90m         Histogram: frequency by time\u001b[39m         3.34 s \u001b[0m\u001b[1m<\u001b[22m\n",
       "\n",
       " Memory estimate\u001b[90m: \u001b[39m\u001b[33m13.30 GiB\u001b[39m, allocs estimate\u001b[90m: \u001b[39m\u001b[33m74635\u001b[39m."
      ]
     },
     "execution_count": 30,
     "metadata": {},
     "output_type": "execute_result"
    }
   ],
   "source": [
    "@benchmark scan_perms(pheno_y, geno, kinship; reml = false, nperms = 1000, rndseed = 0, original = true)"
   ]
  },
  {
   "cell_type": "code",
   "execution_count": null,
   "id": "3e3b557a-f2d4-48fd-a007-8fff457a4e02",
   "metadata": {},
   "outputs": [],
   "source": []
  },
  {
   "cell_type": "code",
   "execution_count": 33,
   "id": "99623e47-c7c6-4a44-b6a4-f58ee2ecd90b",
   "metadata": {},
   "outputs": [
    {
     "name": "stdout",
     "output_type": "stream",
     "text": [
      "188.028156 seconds (10.97 M allocations: 27.519 GiB, 0.23% gc time)\n"
     ]
    }
   ],
   "source": [
    "@time begin\n",
    "    for i in 1:1000\n",
    "        pheno_yi = reshape(pheno[:, i], :, 1);\n",
    "        scan_perms_distributed(pheno_yi, geno, kinship; reml = false, nperms = 1, rndseed = 0, original = true, \n",
    "                               option = \"by blocks\", nblocks = 120);\n",
    "    end\n",
    "end"
   ]
  },
  {
   "cell_type": "code",
   "execution_count": null,
   "id": "104ee3f2-1c0e-43f9-92a5-cf31df99e4fd",
   "metadata": {},
   "outputs": [],
   "source": []
  },
  {
   "cell_type": "code",
   "execution_count": null,
   "id": "018ab641-983f-402d-b287-c96cb127e956",
   "metadata": {},
   "outputs": [],
   "source": []
  },
  {
   "cell_type": "code",
   "execution_count": null,
   "id": "e4e22f4c-bf79-4762-bee8-0372545553a8",
   "metadata": {},
   "outputs": [],
   "source": []
  }
 ],
 "metadata": {
  "kernelspec": {
   "display_name": "Julia 1.8.1",
   "language": "julia",
   "name": "julia-1.8"
  },
  "language_info": {
   "file_extension": ".jl",
   "mimetype": "application/julia",
   "name": "julia",
   "version": "1.8.1"
  }
 },
 "nbformat": 4,
 "nbformat_minor": 5
}
