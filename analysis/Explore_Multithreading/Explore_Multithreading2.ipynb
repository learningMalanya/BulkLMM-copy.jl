{
 "cells": [
  {
   "cell_type": "code",
   "execution_count": 1,
   "id": "9ffbb53b-3efa-4f9b-8fb8-224fdf8903c1",
   "metadata": {},
   "outputs": [],
   "source": [
    "using Base.Threads"
   ]
  },
  {
   "cell_type": "code",
   "execution_count": 2,
   "id": "b8bc5fe1-2d20-41c0-a7f4-2f67e9ed15b4",
   "metadata": {},
   "outputs": [
    {
     "data": {
      "text/plain": [
       "16"
      ]
     },
     "execution_count": 2,
     "metadata": {},
     "output_type": "execute_result"
    }
   ],
   "source": [
    "Threads.nthreads()"
   ]
  },
  {
   "cell_type": "code",
   "execution_count": 3,
   "id": "bd9dcf1e-3260-4a02-99e4-98b08c48b8c1",
   "metadata": {},
   "outputs": [
    {
     "data": {
      "text/plain": [
       "\"/home/xyu/github/BulkLMM.jl/analysis/Explore_Multithreading\""
      ]
     },
     "execution_count": 3,
     "metadata": {},
     "output_type": "execute_result"
    }
   ],
   "source": [
    "pwd()"
   ]
  },
  {
   "cell_type": "code",
   "execution_count": 4,
   "id": "40bdc435-1622-47c4-8098-d3bb729a2fd9",
   "metadata": {},
   "outputs": [],
   "source": [
    "cd(\"..\")"
   ]
  },
  {
   "cell_type": "code",
   "execution_count": 5,
   "id": "51f2ce44-2f51-4730-ad6b-a0b2e8335edf",
   "metadata": {},
   "outputs": [],
   "source": [
    "include(\"../test/BXDdata_for_test.jl\");"
   ]
  },
  {
   "cell_type": "code",
   "execution_count": 6,
   "id": "207cef13-8e3e-437b-9c59-0da483b3845f",
   "metadata": {},
   "outputs": [],
   "source": [
    "include(\"../src/parallel_helpers.jl\");"
   ]
  },
  {
   "cell_type": "code",
   "execution_count": 7,
   "id": "9a517b04-650c-4f1d-bd4a-e2891e028f14",
   "metadata": {},
   "outputs": [],
   "source": [
    "include(\"../test/testHelper.jl\");"
   ]
  },
  {
   "cell_type": "code",
   "execution_count": 8,
   "id": "f339bd71-8e1f-4a16-aa9d-92b2637c083b",
   "metadata": {},
   "outputs": [
    {
     "data": {
      "text/plain": [
       "scan_perms_threads (generic function with 1 method)"
      ]
     },
     "execution_count": 8,
     "metadata": {},
     "output_type": "execute_result"
    }
   ],
   "source": [
    "function scan_perms_threads(y::Array{Float64,2}, g::Array{Float64,2}, K::Array{Float64,2};\n",
    "              nperms::Int64 = 1024, rndseed::Int64 = 0, \n",
    "              reml::Bool = false, original::Bool = true)\n",
    "\n",
    "    # check the number of traits as this function only works for permutation testing of univariate trait\n",
    "    if(size(y, 2) != 1)\n",
    "        error(\"Can only handle one trait.\")\n",
    "    end\n",
    "\n",
    "    # n - the sample size\n",
    "    # p - the number of markers\n",
    "    (n, p) = size(g)\n",
    "\n",
    "    # make intercept\n",
    "    intercept = ones(n, 1)\n",
    "\n",
    "    # rotate data so errors are uncorrelated\n",
    "    (y0, X0, lambda0) = rotateData(y, [intercept g], K)\n",
    "\n",
    "\n",
    "    ## Note: estimate once the variance components from the null model and use for all marker scans\n",
    "    # fit lmm\n",
    "\n",
    "    # X0_intercept = @view X0[:, 1] # to compare\n",
    "    vc = fitlmm(y0, reshape(X0[:, 1], :, 1), lambda0; reml = reml) # vc.b is estimated through weighted least square\n",
    "    r0 = y0 - X0[:, 1]*vc.b\n",
    "\n",
    "    # weights proportional to the variances\n",
    "    sqrtw = sqrt.(makeweights(vc.h2, lambda0))\n",
    "\n",
    "    # compared runtime of the following with \"wls(X0[:, 2:end], X0[:, 1], wts)\" ?\n",
    "    # rescale by weights; now these have the same mean/variance and are independent\n",
    "    rowMultiply!(r0, sqrtw);\n",
    "    rowMultiply!(X0, sqrtw);\n",
    "\n",
    "    \n",
    "    # after re-weighting X, calling resid on re-weighted X is the same as doing wls on the X after rotation.\n",
    "    X00 = resid(X0[:, 2:end], reshape(X0[:, 1], :, 1)) # consider not using sub-array, consider @view; in-place changes\n",
    "\n",
    "    ## random permutations; the first column is the original trait (after transformation)\n",
    "    rng = MersenneTwister(rndseed);\n",
    "    ## permute r0 (which is an iid, standard normal distributed N-vector under the null)\n",
    "    r0perm = shuffleVector(rng, r0[:, 1], nperms; original = original)\n",
    "\n",
    "    ## Null RSS:\n",
    "    # By null hypothesis, mean is 0. RSS just becomes the sum of squares of the residuals (r0perm's)\n",
    "    # (For theoretical derivation of the results, see notebook)\n",
    "    rss0 = sum(r0perm[:, 1].^2) # a scalar; bc rss0 for every permuted trait is the same under the null (zero mean);\n",
    "    \n",
    "    ## make array to hold Alternative RSS's for each permutated trait\n",
    "    if original\n",
    "        rss1 = Array{Float64, 2}(undef, nperms+1, p)\n",
    "    else\n",
    "        rss1 = Array{Float64, 2}(undef, nperms, p)\n",
    "    end\n",
    "    \n",
    "    ## loop over markers\n",
    "    Threads.@threads for i = 1:p\n",
    "\n",
    "        ## alternative rss\n",
    "        @inbounds rss1[:, i] = rss(r0perm, @view X00[:, i]);\n",
    "        \n",
    "    end\n",
    "\n",
    "    lod = (-n/2)*(log10.(rss1) .- log10(rss0))\n",
    "\n",
    "    return lod\n",
    "\n",
    "end"
   ]
  },
  {
   "cell_type": "code",
   "execution_count": 9,
   "id": "6a65e343-abbe-4bc8-8405-0b36ecc6cf11",
   "metadata": {},
   "outputs": [
    {
     "data": {
      "text/plain": [
       "16"
      ]
     },
     "execution_count": 9,
     "metadata": {},
     "output_type": "execute_result"
    }
   ],
   "source": [
    "BLAS.get_num_threads()"
   ]
  },
  {
   "cell_type": "code",
   "execution_count": 10,
   "id": "9656608b-d744-4054-8a92-ddb66d33693c",
   "metadata": {},
   "outputs": [],
   "source": [
    "BLAS.set_num_threads(2)"
   ]
  },
  {
   "cell_type": "code",
   "execution_count": 11,
   "id": "dbdfd694-ea15-4f14-91f1-1f683994ded8",
   "metadata": {},
   "outputs": [
    {
     "data": {
      "text/plain": [
       "2"
      ]
     },
     "execution_count": 11,
     "metadata": {},
     "output_type": "execute_result"
    }
   ],
   "source": [
    "BLAS.get_num_threads()"
   ]
  },
  {
   "cell_type": "code",
   "execution_count": 12,
   "id": "493f3f91-16a2-43e1-b056-6c81e8c3baf4",
   "metadata": {},
   "outputs": [
    {
     "data": {
      "text/plain": [
       "16"
      ]
     },
     "execution_count": 12,
     "metadata": {},
     "output_type": "execute_result"
    }
   ],
   "source": [
    "Threads.nthreads()"
   ]
  },
  {
   "cell_type": "code",
   "execution_count": 13,
   "id": "3ed544ca-6cfe-4686-8c06-8774076d9d3f",
   "metadata": {},
   "outputs": [
    {
     "data": {
      "text/plain": [
       "BenchmarkTools.Trial: 6 samples with 1 evaluation.\n",
       " Range \u001b[90m(\u001b[39m\u001b[36m\u001b[1mmin\u001b[22m\u001b[39m … \u001b[35mmax\u001b[39m\u001b[90m):  \u001b[39m\u001b[36m\u001b[1m797.424 ms\u001b[22m\u001b[39m … \u001b[35m   1.860 s\u001b[39m  \u001b[90m┊\u001b[39m GC \u001b[90m(\u001b[39mmin … max\u001b[90m): \u001b[39m10.28% … 53.52%\n",
       " Time  \u001b[90m(\u001b[39m\u001b[34m\u001b[1mmedian\u001b[22m\u001b[39m\u001b[90m):     \u001b[39m\u001b[34m\u001b[1m824.175 ms               \u001b[22m\u001b[39m\u001b[90m┊\u001b[39m GC \u001b[90m(\u001b[39mmedian\u001b[90m):    \u001b[39m11.96%\n",
       " Time  \u001b[90m(\u001b[39m\u001b[32m\u001b[1mmean\u001b[22m\u001b[39m ± \u001b[32mσ\u001b[39m\u001b[90m):   \u001b[39m\u001b[32m\u001b[1m   1.069 s\u001b[22m\u001b[39m ± \u001b[32m435.702 ms\u001b[39m  \u001b[90m┊\u001b[39m GC \u001b[90m(\u001b[39mmean ± σ\u001b[90m):  \u001b[39m29.13% ± 19.52%\n",
       "\n",
       "  \u001b[39m█\u001b[34m█\u001b[39m\u001b[39m \u001b[39m \u001b[39m \u001b[39m \u001b[39m \u001b[39m \u001b[39m \u001b[39m \u001b[39m \u001b[39m \u001b[39m \u001b[39m \u001b[39m \u001b[39m \u001b[32m \u001b[39m\u001b[39m \u001b[39m \u001b[39m \u001b[39m \u001b[39m \u001b[39m \u001b[39m \u001b[39m \u001b[39m \u001b[39m \u001b[39m \u001b[39m \u001b[39m▁\u001b[39m \u001b[39m \u001b[39m \u001b[39m \u001b[39m \u001b[39m \u001b[39m \u001b[39m \u001b[39m \u001b[39m \u001b[39m \u001b[39m \u001b[39m \u001b[39m \u001b[39m \u001b[39m \u001b[39m \u001b[39m \u001b[39m \u001b[39m \u001b[39m \u001b[39m \u001b[39m \u001b[39m \u001b[39m \u001b[39m \u001b[39m \u001b[39m \u001b[39m \u001b[39m \u001b[39m▁\u001b[39m \u001b[39m \n",
       "  \u001b[39m█\u001b[34m█\u001b[39m\u001b[39m▁\u001b[39m▁\u001b[39m▁\u001b[39m▁\u001b[39m▁\u001b[39m▁\u001b[39m▁\u001b[39m▁\u001b[39m▁\u001b[39m▁\u001b[39m▁\u001b[39m▁\u001b[39m▁\u001b[39m▁\u001b[32m▁\u001b[39m\u001b[39m▁\u001b[39m▁\u001b[39m▁\u001b[39m▁\u001b[39m▁\u001b[39m▁\u001b[39m▁\u001b[39m▁\u001b[39m▁\u001b[39m▁\u001b[39m▁\u001b[39m▁\u001b[39m█\u001b[39m▁\u001b[39m▁\u001b[39m▁\u001b[39m▁\u001b[39m▁\u001b[39m▁\u001b[39m▁\u001b[39m▁\u001b[39m▁\u001b[39m▁\u001b[39m▁\u001b[39m▁\u001b[39m▁\u001b[39m▁\u001b[39m▁\u001b[39m▁\u001b[39m▁\u001b[39m▁\u001b[39m▁\u001b[39m▁\u001b[39m▁\u001b[39m▁\u001b[39m▁\u001b[39m▁\u001b[39m▁\u001b[39m▁\u001b[39m▁\u001b[39m▁\u001b[39m▁\u001b[39m▁\u001b[39m█\u001b[39m \u001b[39m▁\n",
       "  797 ms\u001b[90m           Histogram: frequency by time\u001b[39m          1.86 s \u001b[0m\u001b[1m<\u001b[22m\n",
       "\n",
       " Memory estimate\u001b[90m: \u001b[39m\u001b[33m13.61 GiB\u001b[39m, allocs estimate\u001b[90m: \u001b[39m\u001b[33m95712\u001b[39m."
      ]
     },
     "execution_count": 13,
     "metadata": {},
     "output_type": "execute_result"
    }
   ],
   "source": [
    "@benchmark scan_perms_threads(pheno_y, geno, kinship; nperms = 1024, rndseed = 0, reml = false, original = true)"
   ]
  },
  {
   "cell_type": "code",
   "execution_count": 14,
   "id": "9c0a6042-15a6-440e-8d5b-6d28647f9952",
   "metadata": {},
   "outputs": [
    {
     "data": {
      "text/plain": [
       "BenchmarkTools.Trial: 2 samples with 1 evaluation.\n",
       " Range \u001b[90m(\u001b[39m\u001b[36m\u001b[1mmin\u001b[22m\u001b[39m … \u001b[35mmax\u001b[39m\u001b[90m):  \u001b[39m\u001b[36m\u001b[1m2.643 s\u001b[22m\u001b[39m … \u001b[35m  2.693 s\u001b[39m  \u001b[90m┊\u001b[39m GC \u001b[90m(\u001b[39mmin … max\u001b[90m): \u001b[39m6.42% … 8.86%\n",
       " Time  \u001b[90m(\u001b[39m\u001b[34m\u001b[1mmedian\u001b[22m\u001b[39m\u001b[90m):     \u001b[39m\u001b[34m\u001b[1m2.668 s              \u001b[22m\u001b[39m\u001b[90m┊\u001b[39m GC \u001b[90m(\u001b[39mmedian\u001b[90m):    \u001b[39m7.65%\n",
       " Time  \u001b[90m(\u001b[39m\u001b[32m\u001b[1mmean\u001b[22m\u001b[39m ± \u001b[32mσ\u001b[39m\u001b[90m):   \u001b[39m\u001b[32m\u001b[1m2.668 s\u001b[22m\u001b[39m ± \u001b[32m35.087 ms\u001b[39m  \u001b[90m┊\u001b[39m GC \u001b[90m(\u001b[39mmean ± σ\u001b[90m):  \u001b[39m7.65% ± 1.73%\n",
       "\n",
       "  \u001b[34m█\u001b[39m\u001b[39m \u001b[39m \u001b[39m \u001b[39m \u001b[39m \u001b[39m \u001b[39m \u001b[39m \u001b[39m \u001b[39m \u001b[39m \u001b[39m \u001b[39m \u001b[39m \u001b[39m \u001b[39m \u001b[39m \u001b[39m \u001b[39m \u001b[39m \u001b[39m \u001b[39m \u001b[39m \u001b[39m \u001b[39m \u001b[39m \u001b[39m \u001b[32m \u001b[39m\u001b[39m \u001b[39m \u001b[39m \u001b[39m \u001b[39m \u001b[39m \u001b[39m \u001b[39m \u001b[39m \u001b[39m \u001b[39m \u001b[39m \u001b[39m \u001b[39m \u001b[39m \u001b[39m \u001b[39m \u001b[39m \u001b[39m \u001b[39m \u001b[39m \u001b[39m \u001b[39m \u001b[39m \u001b[39m \u001b[39m \u001b[39m \u001b[39m█\u001b[39m \u001b[39m \n",
       "  \u001b[34m█\u001b[39m\u001b[39m▁\u001b[39m▁\u001b[39m▁\u001b[39m▁\u001b[39m▁\u001b[39m▁\u001b[39m▁\u001b[39m▁\u001b[39m▁\u001b[39m▁\u001b[39m▁\u001b[39m▁\u001b[39m▁\u001b[39m▁\u001b[39m▁\u001b[39m▁\u001b[39m▁\u001b[39m▁\u001b[39m▁\u001b[39m▁\u001b[39m▁\u001b[39m▁\u001b[39m▁\u001b[39m▁\u001b[39m▁\u001b[39m▁\u001b[39m▁\u001b[32m▁\u001b[39m\u001b[39m▁\u001b[39m▁\u001b[39m▁\u001b[39m▁\u001b[39m▁\u001b[39m▁\u001b[39m▁\u001b[39m▁\u001b[39m▁\u001b[39m▁\u001b[39m▁\u001b[39m▁\u001b[39m▁\u001b[39m▁\u001b[39m▁\u001b[39m▁\u001b[39m▁\u001b[39m▁\u001b[39m▁\u001b[39m▁\u001b[39m▁\u001b[39m▁\u001b[39m▁\u001b[39m▁\u001b[39m▁\u001b[39m▁\u001b[39m▁\u001b[39m█\u001b[39m \u001b[39m▁\n",
       "  2.64 s\u001b[90m         Histogram: frequency by time\u001b[39m        2.69 s \u001b[0m\u001b[1m<\u001b[22m\n",
       "\n",
       " Memory estimate\u001b[90m: \u001b[39m\u001b[33m13.61 GiB\u001b[39m, allocs estimate\u001b[90m: \u001b[39m\u001b[33m74659\u001b[39m."
      ]
     },
     "execution_count": 14,
     "metadata": {},
     "output_type": "execute_result"
    }
   ],
   "source": [
    "@benchmark scan_perms(pheno_y, geno, kinship; nperms = 1024, rndseed = 0, reml = false, original = true)"
   ]
  },
  {
   "cell_type": "code",
   "execution_count": 15,
   "id": "14557871-69a1-4414-b0dd-f09be9809937",
   "metadata": {},
   "outputs": [
    {
     "data": {
      "text/plain": [
       "threads12_by_blocks (generic function with 1 method)"
      ]
     },
     "execution_count": 15,
     "metadata": {},
     "output_type": "execute_result"
    }
   ],
   "source": [
    "function threads12_by_blocks(r0perm::Array{Float64, 2}, X00::Array{Float64, 2}, nblocks::Int64)\n",
    "    # Does distributed processes of calculations of LOD scores for markers in each block\n",
    "\n",
    "    p = size(X00, 2);\n",
    "\n",
    "    ## (Create blocks...)\n",
    "    \n",
    "    block_size = ceil(Int, p/nblocks);\n",
    "    blocks = createBlocks2(p, block_size);\n",
    "    # blocks = createBlocks(p, nblocks);\n",
    "\n",
    "    LODs_blocks = tmap(x -> calcLODs_block(r0perm, X00, x), 16, blocks);\n",
    "    results = reduce(hcat, LODs_blocks);\n",
    "\n",
    "    return results\n",
    "\n",
    "end"
   ]
  },
  {
   "cell_type": "code",
   "execution_count": 16,
   "id": "6d27d669-e567-428e-803a-b026e235eed2",
   "metadata": {},
   "outputs": [
    {
     "data": {
      "text/plain": [
       "scan_perms_threads12 (generic function with 1 method)"
      ]
     },
     "execution_count": 16,
     "metadata": {},
     "output_type": "execute_result"
    }
   ],
   "source": [
    "function scan_perms_threads12(y::Array{Float64,2}, g::Array{Float64,2}, K::Array{Float64,2};\n",
    "                                reml::Bool = false,\n",
    "                                nperms::Int64 = 1024, rndseed::Int64 = 0, original::Bool = true,\n",
    "                                # (options for blocks, nperms distribution methods...)\n",
    "                                option::String = \"by blocks\", nblocks::Int64 = 1, ncopies::Int64 = 1, \n",
    "                                nprocs::Int64 = 0)\n",
    "\n",
    "    (y0, X0, lambda0) = transform_rotation(y, g, K); # rotation of data\n",
    "    (r0, X00) = transform_reweight(y0, X0, lambda0; reml = reml); # reweighting and taking residuals\n",
    "    r0perm = transform_permute(r0; nperms = nperms, rndseed = rndseed, original = original);\n",
    "\n",
    "    if option == \"by blocks\"\n",
    "        results = threads12_by_blocks(r0perm, X00, nblocks);\n",
    "    elseif option == \"by nperms\"\n",
    "        results = distribute_by_nperms(r0, X00, nperms, ncopies, original);\n",
    "    else\n",
    "        throw(error(\"Option unsupported.\"))\n",
    "    end\n",
    "\n",
    "    return results\n",
    "\n",
    "end"
   ]
  },
  {
   "cell_type": "code",
   "execution_count": 17,
   "id": "4b823e6a-c1db-41c5-8020-bae8222fc8ff",
   "metadata": {},
   "outputs": [],
   "source": [
    "using ThreadTools"
   ]
  },
  {
   "cell_type": "code",
   "execution_count": 18,
   "id": "79f59d36-2668-494a-8605-a400340ce70b",
   "metadata": {},
   "outputs": [
    {
     "data": {
      "text/plain": [
       "BenchmarkTools.Trial: 6 samples with 1 evaluation.\n",
       " Range \u001b[90m(\u001b[39m\u001b[36m\u001b[1mmin\u001b[22m\u001b[39m … \u001b[35mmax\u001b[39m\u001b[90m):  \u001b[39m\u001b[36m\u001b[1m517.022 ms\u001b[22m\u001b[39m … \u001b[35m   1.904 s\u001b[39m  \u001b[90m┊\u001b[39m GC \u001b[90m(\u001b[39mmin … max\u001b[90m): \u001b[39m12.63% … 59.25%\n",
       " Time  \u001b[90m(\u001b[39m\u001b[34m\u001b[1mmedian\u001b[22m\u001b[39m\u001b[90m):     \u001b[39m\u001b[34m\u001b[1m576.172 ms               \u001b[22m\u001b[39m\u001b[90m┊\u001b[39m GC \u001b[90m(\u001b[39mmedian\u001b[90m):    \u001b[39m11.57%\n",
       " Time  \u001b[90m(\u001b[39m\u001b[32m\u001b[1mmean\u001b[22m\u001b[39m ± \u001b[32mσ\u001b[39m\u001b[90m):   \u001b[39m\u001b[32m\u001b[1m838.552 ms\u001b[22m\u001b[39m ± \u001b[32m541.451 ms\u001b[39m  \u001b[90m┊\u001b[39m GC \u001b[90m(\u001b[39mmean ± σ\u001b[90m):  \u001b[39m36.09% ± 23.40%\n",
       "\n",
       "  \u001b[39m▁\u001b[39m▁\u001b[34m█\u001b[39m\u001b[39m \u001b[39m \u001b[39m \u001b[39m \u001b[39m \u001b[39m \u001b[39m \u001b[39m \u001b[39m \u001b[39m \u001b[39m \u001b[32m \u001b[39m\u001b[39m \u001b[39m \u001b[39m▁\u001b[39m \u001b[39m \u001b[39m \u001b[39m \u001b[39m \u001b[39m \u001b[39m \u001b[39m \u001b[39m \u001b[39m \u001b[39m \u001b[39m \u001b[39m \u001b[39m \u001b[39m \u001b[39m \u001b[39m \u001b[39m \u001b[39m \u001b[39m \u001b[39m \u001b[39m \u001b[39m \u001b[39m \u001b[39m \u001b[39m \u001b[39m \u001b[39m \u001b[39m \u001b[39m \u001b[39m \u001b[39m \u001b[39m \u001b[39m \u001b[39m \u001b[39m \u001b[39m \u001b[39m \u001b[39m \u001b[39m \u001b[39m \u001b[39m \u001b[39m▁\u001b[39m \u001b[39m \n",
       "  \u001b[39m█\u001b[39m█\u001b[34m█\u001b[39m\u001b[39m▁\u001b[39m▁\u001b[39m▁\u001b[39m▁\u001b[39m▁\u001b[39m▁\u001b[39m▁\u001b[39m▁\u001b[39m▁\u001b[39m▁\u001b[39m▁\u001b[32m▁\u001b[39m\u001b[39m▁\u001b[39m▁\u001b[39m█\u001b[39m▁\u001b[39m▁\u001b[39m▁\u001b[39m▁\u001b[39m▁\u001b[39m▁\u001b[39m▁\u001b[39m▁\u001b[39m▁\u001b[39m▁\u001b[39m▁\u001b[39m▁\u001b[39m▁\u001b[39m▁\u001b[39m▁\u001b[39m▁\u001b[39m▁\u001b[39m▁\u001b[39m▁\u001b[39m▁\u001b[39m▁\u001b[39m▁\u001b[39m▁\u001b[39m▁\u001b[39m▁\u001b[39m▁\u001b[39m▁\u001b[39m▁\u001b[39m▁\u001b[39m▁\u001b[39m▁\u001b[39m▁\u001b[39m▁\u001b[39m▁\u001b[39m▁\u001b[39m▁\u001b[39m▁\u001b[39m▁\u001b[39m▁\u001b[39m▁\u001b[39m▁\u001b[39m▁\u001b[39m█\u001b[39m \u001b[39m▁\n",
       "  517 ms\u001b[90m           Histogram: frequency by time\u001b[39m           1.9 s \u001b[0m\u001b[1m<\u001b[22m\n",
       "\n",
       " Memory estimate\u001b[90m: \u001b[39m\u001b[33m13.67 GiB\u001b[39m, allocs estimate\u001b[90m: \u001b[39m\u001b[33m77069\u001b[39m."
      ]
     },
     "execution_count": 18,
     "metadata": {},
     "output_type": "execute_result"
    }
   ],
   "source": [
    "b = @benchmark scan_perms_threads12(pheno_y, geno, kinship; reml = false, nperms = 1024, rndseed = 0, original = true, option = \"by blocks\", nblocks = 120)"
   ]
  },
  {
   "cell_type": "code",
   "execution_count": 32,
   "id": "b302e0ab-3a90-447b-b4a3-752f918ec0f5",
   "metadata": {},
   "outputs": [
    {
     "data": {
      "text/plain": [
       "9-element Vector{Float64}:\n",
       " 5.24511693e8\n",
       " 4.75740902e8\n",
       " 9.77500076e8\n",
       " 4.91097884e8\n",
       " 5.03934603e8\n",
       " 5.00942729e8\n",
       " 9.41041457e8\n",
       " 4.32836939e8\n",
       " 4.40687622e8"
      ]
     },
     "execution_count": 32,
     "metadata": {},
     "output_type": "execute_result"
    }
   ],
   "source": [
    "b.times"
   ]
  },
  {
   "cell_type": "code",
   "execution_count": 19,
   "id": "1dbe3f05-b084-4d15-82e2-81294a4a92b5",
   "metadata": {},
   "outputs": [
    {
     "data": {
      "text/plain": [
       "5.761715455e8"
      ]
     },
     "execution_count": 19,
     "metadata": {},
     "output_type": "execute_result"
    }
   ],
   "source": [
    "median(b.times)"
   ]
  },
  {
   "cell_type": "code",
   "execution_count": 20,
   "id": "07b83458-47ed-4506-b537-f45766fa001f",
   "metadata": {},
   "outputs": [],
   "source": [
    "runtimes_tmap = Array{Float64, 1}(undef, 10);"
   ]
  },
  {
   "cell_type": "code",
   "execution_count": 43,
   "id": "6ae208d0-7e5d-4ed6-b057-fa4fdb359126",
   "metadata": {},
   "outputs": [],
   "source": [
    "for t in 1:10\n",
    "    \n",
    "    b = @benchmark scan_perms_threads12(pheno_y, geno, kinship; reml = false, nperms = 1024, rndseed = 0, original = true, option = \"by blocks\", nblocks = 120)\n",
    "    runtimes_tmap[t] = mean(b.times)\n",
    "    \n",
    "end"
   ]
  },
  {
   "cell_type": "code",
   "execution_count": 44,
   "id": "0b3219f7-cfc6-46ff-9729-bb2fda7824e7",
   "metadata": {},
   "outputs": [
    {
     "data": {
      "text/plain": [
       "0.5564858359577778"
      ]
     },
     "execution_count": 44,
     "metadata": {},
     "output_type": "execute_result"
    }
   ],
   "source": [
    "mean(runtimes_tmap)/1e9"
   ]
  },
  {
   "cell_type": "code",
   "execution_count": 45,
   "id": "2303cc4e-2e1c-4aca-a6f8-170a70c83650",
   "metadata": {},
   "outputs": [],
   "source": [
    "runtimes_tloops = Array{Float64, 1}(undef, 10);"
   ]
  },
  {
   "cell_type": "code",
   "execution_count": 46,
   "id": "f8756511-42ad-4ee7-9b97-740133c712f5",
   "metadata": {},
   "outputs": [],
   "source": [
    "for t in 1:10\n",
    "    \n",
    "    b_tloops = @benchmark scan_perms_threads(pheno_y, geno, kinship; reml = false, nperms = 1024, rndseed = 0, original = true)\n",
    "    runtimes_tloops[t] = median(b_tloops.times)\n",
    "    \n",
    "end"
   ]
  },
  {
   "cell_type": "code",
   "execution_count": 47,
   "id": "5b8cd49d-a174-4ba3-a442-c716adff0218",
   "metadata": {},
   "outputs": [
    {
     "data": {
      "text/plain": [
       "0.5778656253"
      ]
     },
     "execution_count": 47,
     "metadata": {},
     "output_type": "execute_result"
    }
   ],
   "source": [
    "mean(runtimes_tloops)/1e9"
   ]
  },
  {
   "cell_type": "code",
   "execution_count": 48,
   "id": "e556c158-6797-4f87-89fb-e74608a71c3c",
   "metadata": {},
   "outputs": [
    {
     "data": {
      "text/plain": [
       "16"
      ]
     },
     "execution_count": 48,
     "metadata": {},
     "output_type": "execute_result"
    }
   ],
   "source": [
    "nthreads()"
   ]
  },
  {
   "cell_type": "code",
   "execution_count": 49,
   "id": "2c328e4e-f016-4842-ac81-f62ffc54f49a",
   "metadata": {},
   "outputs": [
    {
     "data": {
      "text/plain": [
       "2"
      ]
     },
     "execution_count": 49,
     "metadata": {},
     "output_type": "execute_result"
    }
   ],
   "source": [
    "BLAS.get_num_threads()"
   ]
  },
  {
   "cell_type": "code",
   "execution_count": 50,
   "id": "44e84561-71a9-408b-9715-ba73eff2def3",
   "metadata": {},
   "outputs": [
    {
     "data": {
      "text/plain": [
       "10-element Vector{Float64}:\n",
       " 5.591043052222222e8\n",
       " 5.598697161111112e8\n",
       " 5.516050436e8\n",
       " 5.899172702222222e8\n",
       " 5.774236751111112e8\n",
       " 5.826831521111112e8\n",
       " 5.147052465e8\n",
       " 5.524582602e8\n",
       " 5.436127193e8\n",
       " 5.334789712e8"
      ]
     },
     "execution_count": 50,
     "metadata": {},
     "output_type": "execute_result"
    }
   ],
   "source": [
    "runtimes_tmap"
   ]
  },
  {
   "cell_type": "code",
   "execution_count": 51,
   "id": "3ba191de-b76b-4e8c-819a-7cd8df7fcb45",
   "metadata": {},
   "outputs": [
    {
     "name": "stdout",
     "output_type": "stream",
     "text": [
      "  0.510240 seconds (77.70 k allocations: 13.675 GiB, 7.06% gc time)\n"
     ]
    }
   ],
   "source": [
    "@time tmap_LODs = scan_perms_threads12(pheno_y, geno, kinship; reml = false, nperms = 1024, rndseed = 0, original = true, option = \"by blocks\", nblocks = 150);"
   ]
  },
  {
   "cell_type": "code",
   "execution_count": 52,
   "id": "f6018135-ba8a-4656-b1e6-e8e46f611216",
   "metadata": {},
   "outputs": [
    {
     "name": "stdout",
     "output_type": "stream",
     "text": [
      "  0.542453 seconds (95.71 k allocations: 13.615 GiB, 5.96% gc time)\n"
     ]
    }
   ],
   "source": [
    "@time tloops_LODs = scan_perms_threads(pheno_y, geno, kinship; nperms = 1024, rndseed = 0, reml = false, original = true);"
   ]
  },
  {
   "cell_type": "code",
   "execution_count": 53,
   "id": "552bba55-1580-4205-889c-74b84c8ec934",
   "metadata": {},
   "outputs": [
    {
     "data": {
      "text/plain": [
       "0.0"
      ]
     },
     "execution_count": 53,
     "metadata": {},
     "output_type": "execute_result"
    }
   ],
   "source": [
    "sumSqDiff(tmap_LODs, tloops_LODs)"
   ]
  },
  {
   "cell_type": "code",
   "execution_count": null,
   "id": "7d2a850f-66cf-4c61-8be1-745e8ad2a326",
   "metadata": {},
   "outputs": [],
   "source": []
  },
  {
   "cell_type": "code",
   "execution_count": null,
   "id": "c38131ec-187f-4339-9632-b6d3d23017b0",
   "metadata": {},
   "outputs": [],
   "source": []
  }
 ],
 "metadata": {
  "kernelspec": {
   "display_name": "Julia 16 Threads 1.8.1",
   "language": "julia",
   "name": "julia-16-threads-1.8"
  },
  "language_info": {
   "file_extension": ".jl",
   "mimetype": "application/julia",
   "name": "julia",
   "version": "1.8.1"
  }
 },
 "nbformat": 4,
 "nbformat_minor": 5
}
