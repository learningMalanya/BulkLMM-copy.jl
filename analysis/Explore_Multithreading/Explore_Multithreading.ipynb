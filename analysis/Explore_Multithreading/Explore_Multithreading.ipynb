{
 "cells": [
  {
   "cell_type": "code",
   "execution_count": 1,
   "id": "27ecb07a-5b0e-4c9c-9a9e-6cb1a5ff4fa4",
   "metadata": {},
   "outputs": [],
   "source": [
    "using Base.Threads"
   ]
  },
  {
   "cell_type": "code",
   "execution_count": 3,
   "id": "b7b3ea8b-796d-4486-920d-e59cf4084815",
   "metadata": {},
   "outputs": [
    {
     "data": {
      "text/plain": [
       "12"
      ]
     },
     "execution_count": 3,
     "metadata": {},
     "output_type": "execute_result"
    }
   ],
   "source": [
    "Threads.nthreads()"
   ]
  },
  {
   "cell_type": "code",
   "execution_count": 7,
   "id": "605a172a-488e-4486-8929-f8bc6a7813b7",
   "metadata": {},
   "outputs": [],
   "source": [
    "cd(\"..\")"
   ]
  },
  {
   "cell_type": "code",
   "execution_count": 8,
   "id": "ba3534f2-8255-44a2-95ae-0310730ea24c",
   "metadata": {},
   "outputs": [
    {
     "data": {
      "text/plain": [
       "\"/Users/zifanyu/Documents/GitHub/BulkLMM.jl/analysis\""
      ]
     },
     "execution_count": 8,
     "metadata": {},
     "output_type": "execute_result"
    }
   ],
   "source": [
    "pwd()"
   ]
  },
  {
   "cell_type": "code",
   "execution_count": 9,
   "id": "d9e85ded-b350-433b-a8b5-242d694a70fe",
   "metadata": {},
   "outputs": [],
   "source": [
    "include(\"../test/BXDdata_for_test.jl\");"
   ]
  },
  {
   "cell_type": "code",
   "execution_count": 10,
   "id": "814ac50f-19ee-4975-a654-e7f000b00eec",
   "metadata": {},
   "outputs": [],
   "source": [
    "include(\"../src/parallel_helpers.jl\");"
   ]
  },
  {
   "cell_type": "code",
   "execution_count": 62,
   "id": "e6567baf-dc08-4221-b1ba-e8f62862bbb3",
   "metadata": {},
   "outputs": [],
   "source": [
    "include(\"../test/testHelper.jl\");"
   ]
  },
  {
   "cell_type": "code",
   "execution_count": 37,
   "id": "9527fd49-be14-4e91-9bd2-aca7a580e31c",
   "metadata": {},
   "outputs": [],
   "source": [
    "# using Pkg\n",
    "# Pkg.add(\"ThreadTools\")\n",
    "using ThreadTools"
   ]
  },
  {
   "cell_type": "code",
   "execution_count": 38,
   "id": "53b471a4-efa2-4e4e-bc2c-af829da1d597",
   "metadata": {},
   "outputs": [
    {
     "name": "stdout",
     "output_type": "stream",
     "text": [
      "search: \u001b[0m\u001b[1mt\u001b[22m\u001b[0m\u001b[1mm\u001b[22m\u001b[0m\u001b[1ma\u001b[22m\u001b[0m\u001b[1mp\u001b[22m \u001b[0m\u001b[1mt\u001b[22m\u001b[0m\u001b[1mm\u001b[22m\u001b[0m\u001b[1ma\u001b[22m\u001b[0m\u001b[1mp\u001b[22m1 @a\u001b[0m\u001b[1mt\u001b[22mo\u001b[0m\u001b[1mm\u001b[22micsw\u001b[0m\u001b[1ma\u001b[22m\u001b[0m\u001b[1mp\u001b[22m Bi\u001b[0m\u001b[1mt\u001b[22m\u001b[0m\u001b[1mM\u001b[22m\u001b[0m\u001b[1ma\u001b[22mtrix Cin\u001b[0m\u001b[1mt\u001b[22m\u001b[0m\u001b[1mm\u001b[22m\u001b[0m\u001b[1ma\u001b[22mx_t floa\u001b[0m\u001b[1mt\u001b[22m\u001b[0m\u001b[1mm\u001b[22m\u001b[0m\u001b[1ma\u001b[22mx @fas\u001b[0m\u001b[1mt\u001b[22m\u001b[0m\u001b[1mm\u001b[22m\u001b[0m\u001b[1ma\u001b[22mth Cuin\u001b[0m\u001b[1mt\u001b[22m\u001b[0m\u001b[1mm\u001b[22m\u001b[0m\u001b[1ma\u001b[22mx_t\n",
      "\n"
     ]
    },
    {
     "data": {
      "text/latex": [
       "\\begin{verbatim}\n",
       "tmap(f, args...)\n",
       "tmap(f, v, T::DataType)\n",
       "tmap(f, nthreads::Int, args...)\n",
       "tmap1(f, args...)\n",
       "tmap1(f, nthreads::Int, args...)\n",
       "\\end{verbatim}\n",
       "Threaded map. The optional argument \\texttt{nthreads} limits the number of threads used in parallel. \\texttt{tmap1} is the same as \\texttt{tmap}, but falls back to a regular \\texttt{map} if julia only has access to one thread. If the eltype \\texttt{T} of the output is specified the call will be type stable.\n",
       "\n"
      ],
      "text/markdown": [
       "```\n",
       "tmap(f, args...)\n",
       "tmap(f, v, T::DataType)\n",
       "tmap(f, nthreads::Int, args...)\n",
       "tmap1(f, args...)\n",
       "tmap1(f, nthreads::Int, args...)\n",
       "```\n",
       "\n",
       "Threaded map. The optional argument `nthreads` limits the number of threads used in parallel. `tmap1` is the same as `tmap`, but falls back to a regular `map` if julia only has access to one thread. If the eltype `T` of the output is specified the call will be type stable.\n"
      ],
      "text/plain": [
       "\u001b[36m  tmap(f, args...)\u001b[39m\n",
       "\u001b[36m  tmap(f, v, T::DataType)\u001b[39m\n",
       "\u001b[36m  tmap(f, nthreads::Int, args...)\u001b[39m\n",
       "\u001b[36m  tmap1(f, args...)\u001b[39m\n",
       "\u001b[36m  tmap1(f, nthreads::Int, args...)\u001b[39m\n",
       "\n",
       "  Threaded map. The optional argument \u001b[36mnthreads\u001b[39m limits the number of threads\n",
       "  used in parallel. \u001b[36mtmap1\u001b[39m is the same as \u001b[36mtmap\u001b[39m, but falls back to a regular \u001b[36mmap\u001b[39m\n",
       "  if julia only has access to one thread. If the eltype \u001b[36mT\u001b[39m of the output is\n",
       "  specified the call will be type stable."
      ]
     },
     "execution_count": 38,
     "metadata": {},
     "output_type": "execute_result"
    }
   ],
   "source": [
    "?tmap"
   ]
  },
  {
   "cell_type": "code",
   "execution_count": 40,
   "id": "af00057b-f7dd-4469-a1a3-3ef97502d402",
   "metadata": {},
   "outputs": [
    {
     "data": {
      "text/plain": [
       "threads12_by_blocks (generic function with 1 method)"
      ]
     },
     "execution_count": 40,
     "metadata": {},
     "output_type": "execute_result"
    }
   ],
   "source": [
    "function threads12_by_blocks(r0perm::Array{Float64, 2}, X00::Array{Float64, 2}, nblocks::Int64)\n",
    "    # Does distributed processes of calculations of LOD scores for markers in each block\n",
    "\n",
    "    p = size(X00, 2);\n",
    "\n",
    "    ## (Create blocks...)\n",
    "    \n",
    "    block_size = ceil(Int, p/nblocks);\n",
    "    blocks = createBlocks2(p, block_size);\n",
    "    # blocks = createBlocks(p, nblocks);\n",
    "\n",
    "    LODs_blocks = tmap(x -> calcLODs_block(r0perm, X00, x), 4, blocks);\n",
    "    results = reduce(hcat, LODs_blocks);\n",
    "\n",
    "    return results\n",
    "\n",
    "end"
   ]
  },
  {
   "cell_type": "code",
   "execution_count": 41,
   "id": "978a2722-91c1-4812-a2fe-099ef7998486",
   "metadata": {},
   "outputs": [
    {
     "data": {
      "text/plain": [
       "scan_perms_threads12 (generic function with 1 method)"
      ]
     },
     "execution_count": 41,
     "metadata": {},
     "output_type": "execute_result"
    }
   ],
   "source": [
    "function scan_perms_threads12(y::Array{Float64,2}, g::Array{Float64,2}, K::Array{Float64,2};\n",
    "                                reml::Bool = false,\n",
    "                                nperms::Int64 = 1024, rndseed::Int64 = 0, original::Bool = true,\n",
    "                                # (options for blocks, nperms distribution methods...)\n",
    "                                option::String = \"by blocks\", nblocks::Int64 = 1, ncopies::Int64 = 1, \n",
    "                                nprocs::Int64 = 0)\n",
    "\n",
    "    # addprocs(nprocs);\n",
    "    # @everywhere using ParallelDataTransfer\n",
    "    # sendto(workers(), y = y);\n",
    "    #sendto(workers(), g = g);\n",
    "    #sendto(workers(), K = K);\n",
    "    #sendto(workers(), reml = reml);\n",
    "\n",
    "    #@everywhere begin\n",
    "        #include(\"../src/parallel_helpers.jl\"); # for now; needs to be revised later\n",
    "        #(y0, X0, lambda0) = transform1(y, g, K); # rotation of data\n",
    "        # (r0, X00) = transform2(y0, X0, lambda0; reml = reml); # reweighting and taking residuals\n",
    "    \n",
    "    #end\n",
    "\n",
    "    (y0, X0, lambda0) = transform_rotation(y, g, K); # rotation of data\n",
    "    (r0, X00) = transform_reweight(y0, X0, lambda0; reml = reml); # reweighting and taking residuals\n",
    "    r0perm = transform_permute(r0; nperms = nperms, rndseed = rndseed, original = original);\n",
    "\n",
    "    if option == \"by blocks\"\n",
    "        # @everywhere r0perm = transform3(r0; nperms = nperms, rndseed = rndseed, original = original); # permutations\n",
    "        results = threads12_by_blocks(r0perm, X00, nblocks);\n",
    "    elseif option == \"by nperms\"\n",
    "        results = distribute_by_nperms(r0, X00, nperms, ncopies, original);\n",
    "    else\n",
    "        throw(error(\"Option unsupported.\"))\n",
    "    end\n",
    "\n",
    "    return results\n",
    "\n",
    "end"
   ]
  },
  {
   "cell_type": "code",
   "execution_count": 58,
   "id": "b8fa0371-b251-4813-be90-18d6e389c7a4",
   "metadata": {},
   "outputs": [
    {
     "name": "stdout",
     "output_type": "stream",
     "text": [
      "  2.438899 seconds (77.84 k allocations: 13.675 GiB, 32.51% gc time)\n"
     ]
    }
   ],
   "source": [
    "@time scan_perms_threads12(pheno_y, geno, kinship; reml = false, nperms = 1024, rndseed = 0, original = true,\n",
    "                                             option = \"by blocks\", nblocks = 150);"
   ]
  },
  {
   "cell_type": "code",
   "execution_count": 60,
   "id": "b43c0a89-4b8c-4a5a-a804-fe0b4a74b7d0",
   "metadata": {},
   "outputs": [],
   "source": [
    "tmap_LODs = scan_perms_threads12(pheno_y, geno, kinship; reml = false, nperms = 1024, rndseed = 0, original = true,\n",
    "                                             option = \"by blocks\", nblocks = 150);"
   ]
  },
  {
   "cell_type": "code",
   "execution_count": 45,
   "id": "dc0b9f6a-3796-4313-af2e-5fe803b2ce5e",
   "metadata": {},
   "outputs": [],
   "source": [
    "using Distributed"
   ]
  },
  {
   "cell_type": "code",
   "execution_count": 49,
   "id": "0c94b40c-f623-47bf-abb5-84c0c4141e6c",
   "metadata": {},
   "outputs": [],
   "source": [
    "# addprocs(4);"
   ]
  },
  {
   "cell_type": "code",
   "execution_count": 50,
   "id": "a5876a22-067d-4d4c-b6b4-fd2688ed47cb",
   "metadata": {},
   "outputs": [
    {
     "data": {
      "text/plain": [
       "5"
      ]
     },
     "execution_count": 50,
     "metadata": {},
     "output_type": "execute_result"
    }
   ],
   "source": [
    "nprocs()"
   ]
  },
  {
   "cell_type": "code",
   "execution_count": 52,
   "id": "4d8b901d-33a9-46c2-a561-afc9beb59a14",
   "metadata": {},
   "outputs": [],
   "source": [
    "@everywhere begin\n",
    "    using Random\n",
    "    using LinearAlgebra\n",
    "    using Optim\n",
    "    using Distributed\n",
    "    \n",
    "    ## Include the source code of BulkLMM to be tested:\n",
    "    include(\"../src/scan.jl\");\n",
    "    include(\"../src/lmm.jl\");\n",
    "    include(\"../src/wls.jl\");\n",
    "    include(\"../src/util.jl\");\n",
    "    include(\"../src/kinship.jl\");\n",
    "    include(\"../src/readData.jl\");\n",
    "    include(\"../src/scan_for_tests.jl\")\n",
    "    include(\"../src/scan_distributed.jl\")\n",
    "\n",
    "    include(\"../src/parallel_helpers.jl\")\n",
    "end"
   ]
  },
  {
   "cell_type": "code",
   "execution_count": 53,
   "id": "b4a6dd95-0602-44d4-b860-4693a7b34009",
   "metadata": {},
   "outputs": [],
   "source": [
    "pmap_LODs = scan_perms_distributed(pheno_y, geno, kinship; reml = false, nperms = 1024, rndseed = 0, original = true,\n",
    "                                             option = \"by blocks\", nblocks = 12);"
   ]
  },
  {
   "cell_type": "code",
   "execution_count": 56,
   "id": "fe0b6097-4ab9-4351-a1d6-be898502464d",
   "metadata": {},
   "outputs": [
    {
     "name": "stdout",
     "output_type": "stream",
     "text": [
      "  2.374277 seconds (77.82 k allocations: 13.675 GiB, 32.41% gc time)\n"
     ]
    }
   ],
   "source": [
    "@time scan_perms_threads12(pheno_y, geno, kinship; reml = false, nperms = 1024, rndseed = 0, original = true,\n",
    "                                             option = \"by blocks\", nblocks = 150);"
   ]
  },
  {
   "cell_type": "code",
   "execution_count": 63,
   "id": "c9c4d295-f94f-43a5-bb92-abd9c4aeec27",
   "metadata": {},
   "outputs": [
    {
     "data": {
      "text/plain": [
       "1025×7321 Matrix{Float64}:\n",
       " 0.00819636   0.00819636   0.00819636   …  0.0128283    0.0128283\n",
       " 1.13823      1.13823      1.13823         1.83125      1.83125\n",
       " 0.182157     0.182157     0.182157        0.0104772    0.0104772\n",
       " 0.0430406    0.0430406    0.0430406       0.248817     0.248817\n",
       " 1.02692      1.02692      1.02692         0.41929      0.41929\n",
       " 0.0273182    0.0273182    0.0273182    …  0.567742     0.567742\n",
       " 0.369665     0.369665     0.369665        0.797462     0.797462\n",
       " 0.0619086    0.0619086    0.0619086       0.120096     0.120096\n",
       " 1.50799      1.50799      1.50799         0.124231     0.124231\n",
       " 0.0214375    0.0214375    0.0214375       0.066094     0.066094\n",
       " 0.457624     0.457624     0.457624     …  0.122794     0.122794\n",
       " 0.0674599    0.0674599    0.0674599       0.781827     0.781827\n",
       " 0.000739424  0.000739424  0.000739424     0.278836     0.278836\n",
       " ⋮                                      ⋱               ⋮\n",
       " 0.305017     0.305017     0.305017        0.647157     0.647157\n",
       " 0.00212608   0.00212608   0.00212608      0.0265099    0.0265099\n",
       " 0.250345     0.250345     0.250345     …  0.175698     0.175698\n",
       " 0.0380598    0.0380598    0.0380598       0.00542945   0.00542945\n",
       " 0.0209724    0.0209724    0.0209724       0.0738415    0.0738415\n",
       " 0.0128091    0.0128091    0.0128091       0.000626453  0.000626453\n",
       " 0.159391     0.159391     0.159391        0.768469     0.768469\n",
       " 0.0195499    0.0195499    0.0195499    …  0.0111358    0.0111358\n",
       " 0.00099766   0.00099766   0.00099766      0.0864127    0.0864127\n",
       " 0.0480193    0.0480193    0.0480193       0.0541757    0.0541757\n",
       " 0.149237     0.149237     0.149237        0.0292594    0.0292594\n",
       " 0.283718     0.283718     0.283718        0.503701     0.503701"
      ]
     },
     "execution_count": 63,
     "metadata": {},
     "output_type": "execute_result"
    }
   ],
   "source": [
    "pmap_LODs"
   ]
  },
  {
   "cell_type": "code",
   "execution_count": 64,
   "id": "10d2ba26-fe02-44c9-9960-ffeb6d71d57f",
   "metadata": {},
   "outputs": [
    {
     "data": {
      "text/plain": [
       "2.5381895448325513e-26"
      ]
     },
     "execution_count": 64,
     "metadata": {},
     "output_type": "execute_result"
    }
   ],
   "source": [
    "# Check the results from tmap and pmap:\n",
    "sumSqDiff(tmap_LODs, pmap_LODs)"
   ]
  },
  {
   "cell_type": "code",
   "execution_count": null,
   "id": "07c690fc-701d-42db-b041-23f84d3fde73",
   "metadata": {},
   "outputs": [],
   "source": []
  }
 ],
 "metadata": {
  "kernelspec": {
   "display_name": "Julia 12 Threads 1.7.3",
   "language": "julia",
   "name": "julia-12-threads-1.7"
  },
  "language_info": {
   "file_extension": ".jl",
   "mimetype": "application/julia",
   "name": "julia",
   "version": "1.7.3"
  }
 },
 "nbformat": 4,
 "nbformat_minor": 5
}
