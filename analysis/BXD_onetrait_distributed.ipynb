{
 "cells": [
  {
   "cell_type": "markdown",
   "id": "be4a68e3-58ba-4c1c-8ce7-4c7215a972a8",
   "metadata": {},
   "source": [
    "## Load-in dependencies:"
   ]
  },
  {
   "cell_type": "code",
   "execution_count": 3,
   "id": "382288c7-7b8e-4371-b2b7-b983334971ef",
   "metadata": {},
   "outputs": [],
   "source": [
    "using Pkg\n",
    "# Pkg.add(\"Profile\")\n",
    "# Pkg.instantiate()"
   ]
  },
  {
   "cell_type": "code",
   "execution_count": 4,
   "id": "a42289c4-20db-4359-b1ac-e171ada4d5f4",
   "metadata": {},
   "outputs": [],
   "source": [
    "#= dependencies = [\"DelimitedFiles\", \"LinearAlgebra\", \"Optim\", \"Distributions\", \"Test\",\n",
    "                \"BenchmarkTools\", \"Random\", \"CSV\", \"DataFrames\", \"Distributed\", \"Plots\"];\n",
    "Pkg.add(dependencies)=#"
   ]
  },
  {
   "cell_type": "code",
   "execution_count": 5,
   "id": "95957479-db20-4ae3-ac09-9a317d2daa8a",
   "metadata": {},
   "outputs": [],
   "source": [
    "using DelimitedFiles\n",
    "using LinearAlgebra\n",
    "using Optim\n",
    "using Distributions\n",
    "using Test\n",
    "using BenchmarkTools\n",
    "using Random\n",
    "using CSV\n",
    "using DataFrames\n",
    "using Distributed\n",
    "using Plots\n",
    "using Profile"
   ]
  },
  {
   "cell_type": "code",
   "execution_count": 6,
   "id": "712736c0-f753-47ad-aa4b-f7a4413d6fc0",
   "metadata": {},
   "outputs": [
    {
     "data": {
      "text/plain": [
       "\"/Users/FredYu/Documents/GitHub/BulkLMM.jl/analysis\""
      ]
     },
     "execution_count": 6,
     "metadata": {},
     "output_type": "execute_result"
    }
   ],
   "source": [
    "pwd()"
   ]
  },
  {
   "cell_type": "code",
   "execution_count": 70,
   "id": "141b951c-fc60-4870-b222-befad56b9703",
   "metadata": {},
   "outputs": [],
   "source": [
    "## Include the source code of BulkLMM to be tested:\n",
    "include(\"../src/scan.jl\");\n",
    "include(\"../src/lmm.jl\");\n",
    "include(\"../src/wls.jl\");\n",
    "include(\"../src/util.jl\");\n",
    "include(\"../src/kinship.jl\");\n",
    "include(\"../src/readData.jl\");\n",
    "include(\"../src/scan_for_tests.jl\")\n",
    "\n",
    "## Also include the helper functions for writing tests:\n",
    "include(\"../test/testHelper.jl\");"
   ]
  },
  {
   "cell_type": "markdown",
   "id": "9cc6f4c7-da1c-43f1-903e-fbb31c632794",
   "metadata": {},
   "source": [
    "## Read in BXD data:"
   ]
  },
  {
   "cell_type": "code",
   "execution_count": 8,
   "id": "38f6c597-0edf-4c3c-bd63-b856a5b9fe65",
   "metadata": {},
   "outputs": [],
   "source": [
    "## Read in BXD data:\n",
    "pheno_file = \"../data/bxdData/BXDtraits.csv\"\n",
    "pheno = readBXDpheno(pheno_file);\n",
    "geno_file = \"../data/bxdData/BXDgeno_prob.csv\"\n",
    "geno = readGenoProb_ExcludeComplements(geno_file);\n",
    "\n",
    "kinship = calcKinship(geno); # calculate kinship matrix from genotype data"
   ]
  },
  {
   "cell_type": "code",
   "execution_count": 9,
   "id": "1acb6c64-4e0d-4839-be95-1ad7d7b9ad0a",
   "metadata": {},
   "outputs": [],
   "source": [
    "nperms = 1024; # number of permutated copies required;\n",
    "m = size(pheno, 2);\n",
    "p = size(geno, 2); # number of markers"
   ]
  },
  {
   "cell_type": "code",
   "execution_count": 10,
   "id": "a5e5184f-9265-446a-9a48-0ce0eb7417d3",
   "metadata": {},
   "outputs": [],
   "source": [
    "## Consider the 7919-th trait\n",
    "pheno_y = reshape(pheno[:, 7919], :, 1);"
   ]
  },
  {
   "cell_type": "code",
   "execution_count": 18,
   "id": "7675ff26-c476-4eea-9f3a-60fade88ba4c",
   "metadata": {},
   "outputs": [
    {
     "name": "stderr",
     "output_type": "stream",
     "text": [
      "WARNING: using StatsBase.rss in module Main conflicts with an existing identifier.\n"
     ]
    }
   ],
   "source": [
    "using StatsBase"
   ]
  },
  {
   "cell_type": "code",
   "execution_count": 38,
   "id": "e29da538-2332-4781-bfd3-2d78daea3c8e",
   "metadata": {},
   "outputs": [
    {
     "data": {
      "text/plain": [
       "10-element Vector{Int64}:\n",
       "  5\n",
       "  4\n",
       "  7\n",
       "  9\n",
       "  3\n",
       "  8\n",
       "  6\n",
       "  2\n",
       " 10\n",
       "  1"
      ]
     },
     "execution_count": 38,
     "metadata": {},
     "output_type": "execute_result"
    }
   ],
   "source": [
    "seeds_list = StatsBase.sample(1:10, 10; replace = false)"
   ]
  },
  {
   "cell_type": "code",
   "execution_count": 71,
   "id": "368c7921-b9e0-4e97-a4cc-ac2164d98ccf",
   "metadata": {},
   "outputs": [
    {
     "data": {
      "text/plain": [
       "BenchmarkTools.Trial: 1 sample with 1 evaluation.\n",
       " Single result which took \u001b[34m7.364 s\u001b[39m (13.03% GC) to evaluate,\n",
       " with a memory estimate of \u001b[33m13.30 GiB\u001b[39m, over \u001b[33m117039\u001b[39m allocations."
      ]
     },
     "execution_count": 71,
     "metadata": {},
     "output_type": "execute_result"
    }
   ],
   "source": [
    "@benchmark scan_perms2(pheno_y, geno, kinship; nperms = 1000)"
   ]
  },
  {
   "cell_type": "code",
   "execution_count": 72,
   "id": "59d61ba3-7c42-427c-ba18-0792acf3698a",
   "metadata": {},
   "outputs": [
    {
     "data": {
      "text/plain": [
       "BenchmarkTools.Trial: 6 samples with 1 evaluation.\n",
       " Range \u001b[90m(\u001b[39m\u001b[36m\u001b[1mmin\u001b[22m\u001b[39m … \u001b[35mmax\u001b[39m\u001b[90m):  \u001b[39m\u001b[36m\u001b[1m813.109 ms\u001b[22m\u001b[39m … \u001b[35m   1.113 s\u001b[39m  \u001b[90m┊\u001b[39m GC \u001b[90m(\u001b[39mmin … max\u001b[90m): \u001b[39m18.59% … 19.99%\n",
       " Time  \u001b[90m(\u001b[39m\u001b[34m\u001b[1mmedian\u001b[22m\u001b[39m\u001b[90m):     \u001b[39m\u001b[34m\u001b[1m859.661 ms               \u001b[22m\u001b[39m\u001b[90m┊\u001b[39m GC \u001b[90m(\u001b[39mmedian\u001b[90m):    \u001b[39m19.73%\n",
       " Time  \u001b[90m(\u001b[39m\u001b[32m\u001b[1mmean\u001b[22m\u001b[39m ± \u001b[32mσ\u001b[39m\u001b[90m):   \u001b[39m\u001b[32m\u001b[1m891.955 ms\u001b[22m\u001b[39m ± \u001b[32m110.631 ms\u001b[39m  \u001b[90m┊\u001b[39m GC \u001b[90m(\u001b[39mmean ± σ\u001b[90m):  \u001b[39m19.94% ±  1.34%\n",
       "\n",
       "  \u001b[39m█\u001b[39m \u001b[39m \u001b[39m \u001b[39m█\u001b[39m \u001b[39m \u001b[39m█\u001b[34m \u001b[39m\u001b[39m \u001b[39m \u001b[39m█\u001b[39m█\u001b[39m \u001b[39m \u001b[39m \u001b[32m \u001b[39m\u001b[39m \u001b[39m \u001b[39m \u001b[39m \u001b[39m \u001b[39m \u001b[39m \u001b[39m \u001b[39m \u001b[39m \u001b[39m \u001b[39m \u001b[39m \u001b[39m \u001b[39m \u001b[39m \u001b[39m \u001b[39m \u001b[39m \u001b[39m \u001b[39m \u001b[39m \u001b[39m \u001b[39m \u001b[39m \u001b[39m \u001b[39m \u001b[39m \u001b[39m \u001b[39m \u001b[39m \u001b[39m \u001b[39m \u001b[39m \u001b[39m \u001b[39m \u001b[39m \u001b[39m \u001b[39m \u001b[39m \u001b[39m \u001b[39m \u001b[39m \u001b[39m█\u001b[39m \u001b[39m \n",
       "  \u001b[39m█\u001b[39m▁\u001b[39m▁\u001b[39m▁\u001b[39m█\u001b[39m▁\u001b[39m▁\u001b[39m█\u001b[34m▁\u001b[39m\u001b[39m▁\u001b[39m▁\u001b[39m█\u001b[39m█\u001b[39m▁\u001b[39m▁\u001b[39m▁\u001b[32m▁\u001b[39m\u001b[39m▁\u001b[39m▁\u001b[39m▁\u001b[39m▁\u001b[39m▁\u001b[39m▁\u001b[39m▁\u001b[39m▁\u001b[39m▁\u001b[39m▁\u001b[39m▁\u001b[39m▁\u001b[39m▁\u001b[39m▁\u001b[39m▁\u001b[39m▁\u001b[39m▁\u001b[39m▁\u001b[39m▁\u001b[39m▁\u001b[39m▁\u001b[39m▁\u001b[39m▁\u001b[39m▁\u001b[39m▁\u001b[39m▁\u001b[39m▁\u001b[39m▁\u001b[39m▁\u001b[39m▁\u001b[39m▁\u001b[39m▁\u001b[39m▁\u001b[39m▁\u001b[39m▁\u001b[39m▁\u001b[39m▁\u001b[39m▁\u001b[39m▁\u001b[39m▁\u001b[39m▁\u001b[39m▁\u001b[39m▁\u001b[39m█\u001b[39m \u001b[39m▁\n",
       "  813 ms\u001b[90m           Histogram: frequency by time\u001b[39m          1.11 s \u001b[0m\u001b[1m<\u001b[22m\n",
       "\n",
       " Memory estimate\u001b[90m: \u001b[39m\u001b[33m1.37 GiB\u001b[39m, allocs estimate\u001b[90m: \u001b[39m\u001b[33m116139\u001b[39m."
      ]
     },
     "execution_count": 72,
     "metadata": {},
     "output_type": "execute_result"
    }
   ],
   "source": [
    "@benchmark scan_perms2(pheno_y, geno, kinship; nperms = 100)"
   ]
  },
  {
   "cell_type": "markdown",
   "id": "7711ff59-862a-44c9-9a82-ccc6190cc307",
   "metadata": {},
   "source": [
    "## Using map() (sequential processing)"
   ]
  },
  {
   "cell_type": "code",
   "execution_count": 81,
   "id": "766dd6a1-e3d0-41d9-b269-a955693c61de",
   "metadata": {},
   "outputs": [
    {
     "ename": "LoadError",
     "evalue": "DimensionMismatch(\"tried to assign 1×100 array to 101×1 destination\")",
     "output_type": "error",
     "traceback": [
      "DimensionMismatch(\"tried to assign 1×100 array to 101×1 destination\")",
      "",
      "Stacktrace:",
      "  [1] throw_setindex_mismatch(X::Matrix{Float64}, I::Tuple{Int64, Int64})",
      "    @ Base ./indices.jl:193",
      "  [2] setindex_shape_check",
      "    @ ./indices.jl:253 [inlined]",
      "  [3] _unsafe_setindex!(::IndexLinear, ::Matrix{Float64}, ::Matrix{Float64}, ::Base.Slice{Base.OneTo{Int64}}, ::Int64)",
      "    @ Base ./multidimensional.jl:896",
      "  [4] _setindex!",
      "    @ ./multidimensional.jl:887 [inlined]",
      "  [5] setindex!",
      "    @ ./abstractarray.jl:1267 [inlined]",
      "  [6] scan_perms2(y::Matrix{Float64}, g::Matrix{Float64}, K::Matrix{Float64}; nperms::Int64, rndseed::Int64, reml::Bool, original::Bool)",
      "    @ Main ~/Documents/GitHub/BulkLMM.jl/src/scan_for_tests.jl:156",
      "  [7] (::var\"#360#361\")(x::Int64)",
      "    @ Main ./In[81]:1",
      "  [8] iterate",
      "    @ ./generator.jl:47 [inlined]",
      "  [9] _collect(c::Vector{Int64}, itr::Base.Generator{Vector{Int64}, var\"#360#361\"}, #unused#::Base.EltypeUnknown, isz::Base.HasShape{1})",
      "    @ Base ./array.jl:691",
      " [10] collect_similar(cont::Vector{Int64}, itr::Base.Generator{Vector{Int64}, var\"#360#361\"})",
      "    @ Base ./array.jl:606",
      " [11] map(f::Function, A::Vector{Int64})",
      "    @ Base ./abstractarray.jl:2294",
      " [12] top-level scope",
      "    @ In[81]:1",
      " [13] eval",
      "    @ ./boot.jl:360 [inlined]",
      " [14] include_string(mapexpr::typeof(REPL.softscope), mod::Module, code::String, filename::String)",
      "    @ Base ./loading.jl:1116"
     ]
    }
   ],
   "source": [
    "map_results = map(x -> scan_perms2(pheno_y, geno, kinship; nperms = 100, rndseed = x, original = false), seeds_list);"
   ]
  },
  {
   "cell_type": "code",
   "execution_count": 82,
   "id": "80f0737e-b7bd-4354-8d12-506d271841ac",
   "metadata": {},
   "outputs": [
    {
     "ename": "LoadError",
     "evalue": "DimensionMismatch(\"tried to assign 1×100 array to 101×1 destination\")",
     "output_type": "error",
     "traceback": [
      "DimensionMismatch(\"tried to assign 1×100 array to 101×1 destination\")",
      "",
      "Stacktrace:",
      "  [1] throw_setindex_mismatch(X::Matrix{Float64}, I::Tuple{Int64, Int64})",
      "    @ Base ./indices.jl:193",
      "  [2] setindex_shape_check",
      "    @ ./indices.jl:253 [inlined]",
      "  [3] _unsafe_setindex!(::IndexLinear, ::Matrix{Float64}, ::Matrix{Float64}, ::Base.Slice{Base.OneTo{Int64}}, ::Int64)",
      "    @ Base ./multidimensional.jl:896",
      "  [4] _setindex!",
      "    @ ./multidimensional.jl:887 [inlined]",
      "  [5] setindex!",
      "    @ ./abstractarray.jl:1267 [inlined]",
      "  [6] scan_perms2(y::Matrix{Float64}, g::Matrix{Float64}, K::Matrix{Float64}; nperms::Int64, rndseed::Int64, reml::Bool, original::Bool)",
      "    @ Main ~/Documents/GitHub/BulkLMM.jl/src/scan_for_tests.jl:156",
      "  [7] (::var\"#362#363\")(x::Int64)",
      "    @ Main ./In[82]:1",
      "  [8] iterate",
      "    @ ./generator.jl:47 [inlined]",
      "  [9] _collect(c::Vector{Int64}, itr::Base.Generator{Vector{Int64}, var\"#362#363\"}, #unused#::Base.EltypeUnknown, isz::Base.HasShape{1})",
      "    @ Base ./array.jl:691",
      " [10] collect_similar(cont::Vector{Int64}, itr::Base.Generator{Vector{Int64}, var\"#362#363\"})",
      "    @ Base ./array.jl:606",
      " [11] map(f::Function, A::Vector{Int64})",
      "    @ Base ./abstractarray.jl:2294",
      " [12] var\"##core#370\"()",
      "    @ Main ~/.julia/packages/BenchmarkTools/tGTCy/src/execution.jl:479",
      " [13] var\"##sample#371\"(__params::BenchmarkTools.Parameters)",
      "    @ Main ~/.julia/packages/BenchmarkTools/tGTCy/src/execution.jl:485",
      " [14] _run(b::BenchmarkTools.Benchmark, p::BenchmarkTools.Parameters; verbose::Bool, pad::String, kwargs::Base.Iterators.Pairs{Symbol, Integer, NTuple{4, Symbol}, NamedTuple{(:samples, :evals, :gctrial, :gcsample), Tuple{Int64, Int64, Bool, Bool}}})",
      "    @ BenchmarkTools ~/.julia/packages/BenchmarkTools/tGTCy/src/execution.jl:98",
      " [15] #invokelatest#2",
      "    @ ./essentials.jl:710 [inlined]",
      " [16] #run_result#45",
      "    @ ~/.julia/packages/BenchmarkTools/tGTCy/src/execution.jl:33 [inlined]",
      " [17] run(b::BenchmarkTools.Benchmark, p::BenchmarkTools.Parameters; progressid::Nothing, nleaves::Float64, ndone::Float64, kwargs::Base.Iterators.Pairs{Symbol, Integer, NTuple{5, Symbol}, NamedTuple{(:verbose, :samples, :evals, :gctrial, :gcsample), Tuple{Bool, Int64, Int64, Bool, Bool}}})",
      "    @ BenchmarkTools ~/.julia/packages/BenchmarkTools/tGTCy/src/execution.jl:116",
      " [18] #warmup#54",
      "    @ ~/.julia/packages/BenchmarkTools/tGTCy/src/execution.jl:168 [inlined]",
      " [19] warmup(item::BenchmarkTools.Benchmark)",
      "    @ BenchmarkTools ~/.julia/packages/BenchmarkTools/tGTCy/src/execution.jl:168",
      " [20] top-level scope",
      "    @ ~/.julia/packages/BenchmarkTools/tGTCy/src/execution.jl:387",
      " [21] eval",
      "    @ ./boot.jl:360 [inlined]",
      " [22] include_string(mapexpr::typeof(REPL.softscope), mod::Module, code::String, filename::String)",
      "    @ Base ./loading.jl:1116"
     ]
    }
   ],
   "source": [
    "@benchmark map(x -> scan_perms2(pheno_y, geno, kinship; nperms = 100, rndseed = x, original = false), seeds_list)"
   ]
  },
  {
   "cell_type": "code",
   "execution_count": 48,
   "id": "98f4112b-6041-4648-9384-697ef858c2af",
   "metadata": {},
   "outputs": [
    {
     "data": {
      "text/plain": [
       "(10,)"
      ]
     },
     "execution_count": 48,
     "metadata": {},
     "output_type": "execute_result"
    }
   ],
   "source": [
    "size(map_results) # results from map is a list of matrices (each matrix is the lod results of 100 permutations, in this case)"
   ]
  },
  {
   "cell_type": "code",
   "execution_count": 49,
   "id": "0c5a6813-44ef-45f5-897b-2e68d3fb0fc4",
   "metadata": {},
   "outputs": [
    {
     "data": {
      "text/plain": [
       "(101, 7321)"
      ]
     },
     "execution_count": 49,
     "metadata": {},
     "output_type": "execute_result"
    }
   ],
   "source": [
    "size(map_results[1])"
   ]
  },
  {
   "cell_type": "code",
   "execution_count": 51,
   "id": "f94631c0-f85c-4918-a24f-bfa59e16d211",
   "metadata": {},
   "outputs": [
    {
     "data": {
      "text/plain": [
       "(101, 7321)"
      ]
     },
     "execution_count": 51,
     "metadata": {},
     "output_type": "execute_result"
    }
   ],
   "source": [
    "size(map_results[10])"
   ]
  },
  {
   "cell_type": "code",
   "execution_count": 79,
   "id": "b8d0842b-c865-4afa-bda2-8af693335a19",
   "metadata": {},
   "outputs": [
    {
     "data": {
      "text/plain": [
       "(1010, 7321)"
      ]
     },
     "execution_count": 79,
     "metadata": {},
     "output_type": "execute_result"
    }
   ],
   "source": [
    "total_LODs_map = map_results[1];\n",
    "\n",
    "for i in 2:length(map_results)\n",
    "    total_LODs_map = vcat(total_LODs_map, map_results[i])\n",
    "end\n",
    "\n",
    "size(total_LODs_map)"
   ]
  },
  {
   "cell_type": "markdown",
   "id": "9ab0e746-6481-4218-bf20-53d3f35b900b",
   "metadata": {},
   "source": [
    "## Using distributed pmap() (parallel processing)"
   ]
  },
  {
   "cell_type": "code",
   "execution_count": null,
   "id": "d87a0750-9ab3-4826-83c9-35e4326a9385",
   "metadata": {},
   "outputs": [],
   "source": []
  }
 ],
 "metadata": {
  "kernelspec": {
   "display_name": "Julia 1.6.2",
   "language": "julia",
   "name": "julia-1.6"
  },
  "language_info": {
   "file_extension": ".jl",
   "mimetype": "application/julia",
   "name": "julia",
   "version": "1.6.2"
  }
 },
 "nbformat": 4,
 "nbformat_minor": 5
}
