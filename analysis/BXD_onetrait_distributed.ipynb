{
 "cells": [
  {
   "cell_type": "markdown",
   "id": "be4a68e3-58ba-4c1c-8ce7-4c7215a972a8",
   "metadata": {},
   "source": [
    "## Load-in dependencies:"
   ]
  },
  {
   "cell_type": "code",
   "execution_count": 1,
   "id": "382288c7-7b8e-4371-b2b7-b983334971ef",
   "metadata": {},
   "outputs": [],
   "source": [
    "using Pkg\n",
    "# Pkg.add(\"Profile\")\n",
    "# Pkg.instantiate()"
   ]
  },
  {
   "cell_type": "code",
   "execution_count": 2,
   "id": "a42289c4-20db-4359-b1ac-e171ada4d5f4",
   "metadata": {},
   "outputs": [],
   "source": [
    "#= dependencies = [\"DelimitedFiles\", \"LinearAlgebra\", \"Optim\", \"Distributions\", \"Test\",\n",
    "                \"BenchmarkTools\", \"Random\", \"CSV\", \"DataFrames\", \"Distributed\", \"Plots\"];\n",
    "Pkg.add(dependencies) =#"
   ]
  },
  {
   "cell_type": "code",
   "execution_count": 3,
   "id": "95957479-db20-4ae3-ac09-9a317d2daa8a",
   "metadata": {},
   "outputs": [],
   "source": [
    "using DelimitedFiles\n",
    "using LinearAlgebra\n",
    "using Optim\n",
    "using Distributions\n",
    "using Test\n",
    "using BenchmarkTools\n",
    "using Random\n",
    "using CSV\n",
    "using DataFrames\n",
    "using Plots\n",
    "using Profile\n",
    "using Distributed"
   ]
  },
  {
   "cell_type": "code",
   "execution_count": 4,
   "id": "712736c0-f753-47ad-aa4b-f7a4413d6fc0",
   "metadata": {},
   "outputs": [
    {
     "data": {
      "text/plain": [
       "\"/home/xyu/github/BulkLMM.jl/analysis\""
      ]
     },
     "execution_count": 4,
     "metadata": {},
     "output_type": "execute_result"
    }
   ],
   "source": [
    "pwd()"
   ]
  },
  {
   "cell_type": "code",
   "execution_count": 5,
   "id": "141b951c-fc60-4870-b222-befad56b9703",
   "metadata": {},
   "outputs": [],
   "source": [
    "## Include the source code of BulkLMM to be tested:\n",
    "include(\"../src/scan.jl\");\n",
    "include(\"../src/lmm.jl\");\n",
    "include(\"../src/wls.jl\");\n",
    "include(\"../src/util.jl\");\n",
    "include(\"../src/kinship.jl\");\n",
    "include(\"../src/readData.jl\");\n",
    "include(\"../src/scan_for_tests.jl\")\n",
    "include(\"../src/scan_distributed.jl\") # new function\n",
    "\n",
    "## Also include the helper functions for writing tests:\n",
    "include(\"../test/testHelper.jl\");"
   ]
  },
  {
   "cell_type": "markdown",
   "id": "9cc6f4c7-da1c-43f1-903e-fbb31c632794",
   "metadata": {},
   "source": [
    "## Read in BXD data:"
   ]
  },
  {
   "cell_type": "code",
   "execution_count": 6,
   "id": "38f6c597-0edf-4c3c-bd63-b856a5b9fe65",
   "metadata": {},
   "outputs": [],
   "source": [
    "## Read in BXD data:\n",
    "pheno_file = \"../data/bxdData/BXDtraits.csv\"\n",
    "pheno = readBXDpheno(pheno_file);\n",
    "geno_file = \"../data/bxdData/BXDgeno_prob.csv\"\n",
    "geno = readGenoProb_ExcludeComplements(geno_file);\n",
    "\n",
    "kinship = calcKinship(geno); # calculate kinship matrix from genotype data"
   ]
  },
  {
   "cell_type": "code",
   "execution_count": 7,
   "id": "1acb6c64-4e0d-4839-be95-1ad7d7b9ad0a",
   "metadata": {},
   "outputs": [],
   "source": [
    "nperms = 1024; # number of permutated copies required;\n",
    "m = size(pheno, 2);\n",
    "p = size(geno, 2); # number of markers"
   ]
  },
  {
   "cell_type": "code",
   "execution_count": 8,
   "id": "a5e5184f-9265-446a-9a48-0ce0eb7417d3",
   "metadata": {},
   "outputs": [],
   "source": [
    "## Consider the 7919-th trait\n",
    "pheno_y = reshape(pheno[:, 7919], :, 1);"
   ]
  },
  {
   "cell_type": "code",
   "execution_count": 9,
   "id": "b678d1cd-a17d-4b45-8e14-577f2a33b5db",
   "metadata": {},
   "outputs": [],
   "source": [
    "# Pkg.add(\"StatsBase\")"
   ]
  },
  {
   "cell_type": "code",
   "execution_count": 10,
   "id": "7675ff26-c476-4eea-9f3a-60fade88ba4c",
   "metadata": {},
   "outputs": [
    {
     "name": "stderr",
     "output_type": "stream",
     "text": [
      "WARNING: using StatsBase.rss in module Main conflicts with an existing identifier.\n"
     ]
    }
   ],
   "source": [
    "using StatsBase"
   ]
  },
  {
   "cell_type": "code",
   "execution_count": 85,
   "id": "6f43f414-80a9-4854-9077-0663399a785f",
   "metadata": {},
   "outputs": [],
   "source": [
    "n_seeds = 20;"
   ]
  },
  {
   "cell_type": "code",
   "execution_count": 86,
   "id": "e29da538-2332-4781-bfd3-2d78daea3c8e",
   "metadata": {},
   "outputs": [
    {
     "data": {
      "text/plain": [
       "20-element Vector{Int64}:\n",
       " 47\n",
       " 42\n",
       " 97\n",
       " 43\n",
       " 96\n",
       "  4\n",
       " 94\n",
       " 11\n",
       " 51\n",
       " 46\n",
       " 48\n",
       " 23\n",
       "  9\n",
       "  2\n",
       " 83\n",
       " 27\n",
       " 56\n",
       " 37\n",
       " 34\n",
       " 74"
      ]
     },
     "execution_count": 86,
     "metadata": {},
     "output_type": "execute_result"
    }
   ],
   "source": [
    "seeds_list = StatsBase.sample(1:100, n_seeds; replace = false)"
   ]
  },
  {
   "cell_type": "markdown",
   "id": "7d63ff9a-50c0-46e7-92d7-9ff7240d12ba",
   "metadata": {},
   "source": [
    "## Three phases of data transformations:"
   ]
  },
  {
   "cell_type": "code",
   "execution_count": 13,
   "id": "252f9cf2-5775-4148-960b-2ee1bdbd74c1",
   "metadata": {},
   "outputs": [],
   "source": [
    "(y0, X0, lambda0) = transform1(pheno_y, geno, kinship);"
   ]
  },
  {
   "cell_type": "code",
   "execution_count": 14,
   "id": "dfc8027f-58e7-44f4-bdcb-857a73ab1027",
   "metadata": {},
   "outputs": [],
   "source": [
    "# unique(round.(lambda0; digits = 3))"
   ]
  },
  {
   "cell_type": "code",
   "execution_count": 15,
   "id": "a05ce101-8fbf-4150-b460-9ca4b28f91da",
   "metadata": {},
   "outputs": [],
   "source": [
    "(r0, X00) = transform2(y0, X0, lambda0; reml = false);"
   ]
  },
  {
   "cell_type": "markdown",
   "id": "7711ff59-862a-44c9-9a82-ccc6190cc307",
   "metadata": {},
   "source": [
    "## Study: distribute over permutations"
   ]
  },
  {
   "cell_type": "markdown",
   "id": "06e355c8-25c3-4eac-bbda-03f50807a92a",
   "metadata": {},
   "source": [
    "### Check results:"
   ]
  },
  {
   "cell_type": "markdown",
   "id": "4e44beec-dd41-4f9a-b99d-7170aa3f8d18",
   "metadata": {},
   "source": [
    "Will the results be consistent, if we fixed the set of rotated data for further algorithm?"
   ]
  },
  {
   "cell_type": "code",
   "execution_count": 16,
   "id": "766dd6a1-e3d0-41d9-b269-a955693c61de",
   "metadata": {},
   "outputs": [],
   "source": [
    "map_results = map(x -> scan_distributed(y0, X0, lambda0; nperms = 100, rndseed = x, original = false), seeds_list);\n",
    "map_LODs = reduce(vcat, map_results);"
   ]
  },
  {
   "cell_type": "code",
   "execution_count": 17,
   "id": "d87a0750-9ab3-4826-83c9-35e4326a9385",
   "metadata": {},
   "outputs": [],
   "source": [
    "using Distributed"
   ]
  },
  {
   "cell_type": "code",
   "execution_count": 18,
   "id": "8eddfec9-ec68-49c5-9ad4-e10695f0321f",
   "metadata": {},
   "outputs": [],
   "source": [
    "addprocs(20);"
   ]
  },
  {
   "cell_type": "code",
   "execution_count": 19,
   "id": "09bddffd-584e-4c67-b11e-23bc02c29dbc",
   "metadata": {},
   "outputs": [],
   "source": [
    "# procs()"
   ]
  },
  {
   "cell_type": "code",
   "execution_count": 20,
   "id": "8b4e841f-6fdf-4e5f-8838-f9c7adb7a941",
   "metadata": {},
   "outputs": [],
   "source": [
    "# rmprocs([2, 3])"
   ]
  },
  {
   "cell_type": "code",
   "execution_count": 21,
   "id": "3b91fc10-96f0-4a7b-93a3-240378ae556b",
   "metadata": {},
   "outputs": [
    {
     "data": {
      "text/plain": [
       "21-element Vector{Int64}:\n",
       "  1\n",
       "  2\n",
       "  3\n",
       "  4\n",
       "  5\n",
       "  6\n",
       "  7\n",
       "  8\n",
       "  9\n",
       " 10\n",
       " 11\n",
       " 12\n",
       " 13\n",
       " 14\n",
       " 15\n",
       " 16\n",
       " 17\n",
       " 18\n",
       " 19\n",
       " 20\n",
       " 21"
      ]
     },
     "execution_count": 21,
     "metadata": {},
     "output_type": "execute_result"
    }
   ],
   "source": [
    "procs()"
   ]
  },
  {
   "cell_type": "code",
   "execution_count": 22,
   "id": "ae45e99e-5ce3-453b-84bb-26c76c968b27",
   "metadata": {},
   "outputs": [],
   "source": [
    "@everywhere begin\n",
    "    using Random\n",
    "    using LinearAlgebra\n",
    "    using Optim\n",
    "    using Distributed\n",
    "    \n",
    "    ## Include the source code of BulkLMM to be tested:\n",
    "    include(\"../src/scan.jl\");\n",
    "    include(\"../src/lmm.jl\");\n",
    "    include(\"../src/wls.jl\");\n",
    "    include(\"../src/util.jl\");\n",
    "    include(\"../src/kinship.jl\");\n",
    "    include(\"../src/readData.jl\");\n",
    "    include(\"../src/scan_for_tests.jl\")\n",
    "    include(\"../src/scan_distributed.jl\")\n",
    "\n",
    "end"
   ]
  },
  {
   "cell_type": "code",
   "execution_count": 23,
   "id": "12c3e863-11bf-4dc5-9b71-ec27d05077dd",
   "metadata": {},
   "outputs": [],
   "source": [
    "pmap_results = pmap(x -> scan_distributed(y0, X0, lambda0; nperms = 100, rndseed = x, original = false), seeds_list);\n",
    "pmap_LODs = reduce(vcat, pmap_results);"
   ]
  },
  {
   "cell_type": "code",
   "execution_count": 24,
   "id": "dc7f09f3-1292-4c6d-acc0-bdc5b4456431",
   "metadata": {},
   "outputs": [
    {
     "data": {
      "text/plain": [
       "(1000, 7321)"
      ]
     },
     "execution_count": 24,
     "metadata": {},
     "output_type": "execute_result"
    }
   ],
   "source": [
    "size(pmap_LODs)"
   ]
  },
  {
   "cell_type": "code",
   "execution_count": 25,
   "id": "fea8edc8-0ece-493f-a979-b999e292a28a",
   "metadata": {},
   "outputs": [
    {
     "data": {
      "text/plain": [
       "6×6 Matrix{Float64}:\n",
       " 0.256678    0.256678    0.256678    0.256678    0.256678    0.256678\n",
       " 0.0608784   0.0608784   0.0608784   0.0608784   0.0608784   0.0608784\n",
       " 0.00186967  0.00186967  0.00186967  0.00186967  0.00186967  0.00186967\n",
       " 0.128721    0.128721    0.128721    0.128721    0.128721    0.128721\n",
       " 0.0241935   0.0241935   0.0241935   0.0241935   0.0241935   0.0241935\n",
       " 0.00746149  0.00746149  0.00746149  0.00746149  0.00746149  0.00746149"
      ]
     },
     "execution_count": 25,
     "metadata": {},
     "output_type": "execute_result"
    }
   ],
   "source": [
    "pmap_LODs[1:6, 1:6]"
   ]
  },
  {
   "cell_type": "code",
   "execution_count": 26,
   "id": "e3d3cebf-b481-4efb-a6c9-ef8bd53614e1",
   "metadata": {},
   "outputs": [
    {
     "data": {
      "text/plain": [
       "6×6 Matrix{Float64}:\n",
       " 0.256678    0.256678    0.256678    0.256678    0.256678    0.256678\n",
       " 0.0608784   0.0608784   0.0608784   0.0608784   0.0608784   0.0608784\n",
       " 0.00186967  0.00186967  0.00186967  0.00186967  0.00186967  0.00186967\n",
       " 0.128721    0.128721    0.128721    0.128721    0.128721    0.128721\n",
       " 0.0241935   0.0241935   0.0241935   0.0241935   0.0241935   0.0241935\n",
       " 0.00746149  0.00746149  0.00746149  0.00746149  0.00746149  0.00746149"
      ]
     },
     "execution_count": 26,
     "metadata": {},
     "output_type": "execute_result"
    }
   ],
   "source": [
    "map_LODs[1:6, 1:6]"
   ]
  },
  {
   "cell_type": "code",
   "execution_count": 27,
   "id": "47b96d51-69e3-441c-bcb9-7010c631afa7",
   "metadata": {},
   "outputs": [
    {
     "data": {
      "text/plain": [
       "0.0"
      ]
     },
     "execution_count": 27,
     "metadata": {},
     "output_type": "execute_result"
    }
   ],
   "source": [
    "maxSqDiff(map_LODs, pmap_LODs) "
   ]
  },
  {
   "cell_type": "markdown",
   "id": "f3aaea5b-9bf0-4d7f-a34b-5f50af86a34a",
   "metadata": {},
   "source": [
    "It turned out that if we give the same set of rotated data, results will match, which implies that the inconsistency of results may only be due to the rotation process (sign ambiguity in eigendecomposition)."
   ]
  },
  {
   "cell_type": "markdown",
   "id": "4a3eef2a-1cb7-4845-8627-7c054c3a8b14",
   "metadata": {},
   "source": [
    "### Benchmarking:"
   ]
  },
  {
   "cell_type": "markdown",
   "id": "703112f2-2a89-4f87-ac34-86e3b6148963",
   "metadata": {},
   "source": [
    "map(permutations)"
   ]
  },
  {
   "cell_type": "code",
   "execution_count": 28,
   "id": "43bc38b5-374a-47e1-ab9b-c593ccd1d67e",
   "metadata": {},
   "outputs": [
    {
     "data": {
      "text/plain": [
       "BenchmarkTools.Trial: 2 samples with 1 evaluation.\n",
       " Range \u001b[90m(\u001b[39m\u001b[36m\u001b[1mmin\u001b[22m\u001b[39m … \u001b[35mmax\u001b[39m\u001b[90m):  \u001b[39m\u001b[36m\u001b[1m2.479 s\u001b[22m\u001b[39m … \u001b[35m  2.569 s\u001b[39m  \u001b[90m┊\u001b[39m GC \u001b[90m(\u001b[39mmin … max\u001b[90m): \u001b[39m5.15% … 6.43%\n",
       " Time  \u001b[90m(\u001b[39m\u001b[34m\u001b[1mmedian\u001b[22m\u001b[39m\u001b[90m):     \u001b[39m\u001b[34m\u001b[1m2.524 s              \u001b[22m\u001b[39m\u001b[90m┊\u001b[39m GC \u001b[90m(\u001b[39mmedian\u001b[90m):    \u001b[39m5.80%\n",
       " Time  \u001b[90m(\u001b[39m\u001b[32m\u001b[1mmean\u001b[22m\u001b[39m ± \u001b[32mσ\u001b[39m\u001b[90m):   \u001b[39m\u001b[32m\u001b[1m2.524 s\u001b[22m\u001b[39m ± \u001b[32m63.945 ms\u001b[39m  \u001b[90m┊\u001b[39m GC \u001b[90m(\u001b[39mmean ± σ\u001b[90m):  \u001b[39m5.80% ± 0.90%\n",
       "\n",
       "  \u001b[34m█\u001b[39m\u001b[39m \u001b[39m \u001b[39m \u001b[39m \u001b[39m \u001b[39m \u001b[39m \u001b[39m \u001b[39m \u001b[39m \u001b[39m \u001b[39m \u001b[39m \u001b[39m \u001b[39m \u001b[39m \u001b[39m \u001b[39m \u001b[39m \u001b[39m \u001b[39m \u001b[39m \u001b[39m \u001b[39m \u001b[39m \u001b[39m \u001b[39m \u001b[39m \u001b[32m \u001b[39m\u001b[39m \u001b[39m \u001b[39m \u001b[39m \u001b[39m \u001b[39m \u001b[39m \u001b[39m \u001b[39m \u001b[39m \u001b[39m \u001b[39m \u001b[39m \u001b[39m \u001b[39m \u001b[39m \u001b[39m \u001b[39m \u001b[39m \u001b[39m \u001b[39m \u001b[39m \u001b[39m \u001b[39m \u001b[39m \u001b[39m \u001b[39m█\u001b[39m \u001b[39m \n",
       "  \u001b[34m█\u001b[39m\u001b[39m▁\u001b[39m▁\u001b[39m▁\u001b[39m▁\u001b[39m▁\u001b[39m▁\u001b[39m▁\u001b[39m▁\u001b[39m▁\u001b[39m▁\u001b[39m▁\u001b[39m▁\u001b[39m▁\u001b[39m▁\u001b[39m▁\u001b[39m▁\u001b[39m▁\u001b[39m▁\u001b[39m▁\u001b[39m▁\u001b[39m▁\u001b[39m▁\u001b[39m▁\u001b[39m▁\u001b[39m▁\u001b[39m▁\u001b[39m▁\u001b[39m▁\u001b[32m▁\u001b[39m\u001b[39m▁\u001b[39m▁\u001b[39m▁\u001b[39m▁\u001b[39m▁\u001b[39m▁\u001b[39m▁\u001b[39m▁\u001b[39m▁\u001b[39m▁\u001b[39m▁\u001b[39m▁\u001b[39m▁\u001b[39m▁\u001b[39m▁\u001b[39m▁\u001b[39m▁\u001b[39m▁\u001b[39m▁\u001b[39m▁\u001b[39m▁\u001b[39m▁\u001b[39m▁\u001b[39m▁\u001b[39m▁\u001b[39m▁\u001b[39m█\u001b[39m \u001b[39m▁\n",
       "  2.48 s\u001b[90m         Histogram: frequency by time\u001b[39m        2.57 s \u001b[0m\u001b[1m<\u001b[22m\n",
       "\n",
       " Memory estimate\u001b[90m: \u001b[39m\u001b[33m13.48 GiB\u001b[39m, allocs estimate\u001b[90m: \u001b[39m\u001b[33m737193\u001b[39m."
      ]
     },
     "execution_count": 28,
     "metadata": {},
     "output_type": "execute_result"
    }
   ],
   "source": [
    "@benchmark begin\n",
    "    transform1(pheno_y, geno, kinship);\n",
    "    map(x -> scan_distributed(y0, X0, lambda0; nperms = 100, rndseed = x, original = false), seeds_list)\n",
    "end"
   ]
  },
  {
   "cell_type": "markdown",
   "id": "80b9d1bc-970c-4879-8311-17bd11d1184e",
   "metadata": {},
   "source": [
    "pmap(permutations)"
   ]
  },
  {
   "cell_type": "code",
   "execution_count": 29,
   "id": "9883cb26-df86-486d-9791-b414d3e9f9dc",
   "metadata": {},
   "outputs": [
    {
     "data": {
      "text/plain": [
       "BenchmarkTools.Trial: 9 samples with 1 evaluation.\n",
       " Range \u001b[90m(\u001b[39m\u001b[36m\u001b[1mmin\u001b[22m\u001b[39m … \u001b[35mmax\u001b[39m\u001b[90m):  \u001b[39m\u001b[36m\u001b[1m422.198 ms\u001b[22m\u001b[39m … \u001b[35m759.604 ms\u001b[39m  \u001b[90m┊\u001b[39m GC \u001b[90m(\u001b[39mmin … max\u001b[90m): \u001b[39m0.00% … 0.00%\n",
       " Time  \u001b[90m(\u001b[39m\u001b[34m\u001b[1mmedian\u001b[22m\u001b[39m\u001b[90m):     \u001b[39m\u001b[34m\u001b[1m678.277 ms               \u001b[22m\u001b[39m\u001b[90m┊\u001b[39m GC \u001b[90m(\u001b[39mmedian\u001b[90m):    \u001b[39m0.00%\n",
       " Time  \u001b[90m(\u001b[39m\u001b[32m\u001b[1mmean\u001b[22m\u001b[39m ± \u001b[32mσ\u001b[39m\u001b[90m):   \u001b[39m\u001b[32m\u001b[1m594.770 ms\u001b[22m\u001b[39m ± \u001b[32m137.832 ms\u001b[39m  \u001b[90m┊\u001b[39m GC \u001b[90m(\u001b[39mmean ± σ\u001b[90m):  \u001b[39m0.07% ± 0.25%\n",
       "\n",
       "  \u001b[39m█\u001b[39m \u001b[39m \u001b[39m█\u001b[39m \u001b[39m \u001b[39m \u001b[39m \u001b[39m█\u001b[34m█\u001b[39m\u001b[39m \u001b[39m \u001b[39m \u001b[39m \u001b[39m \u001b[39m \u001b[39m \u001b[39m \u001b[39m \u001b[39m \u001b[39m \u001b[39m \u001b[39m \u001b[39m \u001b[39m \u001b[39m \u001b[39m \u001b[39m \u001b[39m \u001b[39m \u001b[39m \u001b[32m \u001b[39m\u001b[39m \u001b[39m \u001b[39m \u001b[39m \u001b[39m \u001b[39m \u001b[39m \u001b[39m \u001b[39m \u001b[39m \u001b[39m \u001b[39m \u001b[39m \u001b[39m \u001b[39m█\u001b[39m \u001b[39m \u001b[39m█\u001b[39m█\u001b[39m█\u001b[39m \u001b[39m \u001b[39m \u001b[39m \u001b[39m \u001b[39m \u001b[39m \u001b[39m \u001b[39m█\u001b[39m \u001b[39m \n",
       "  \u001b[39m█\u001b[39m▁\u001b[39m▁\u001b[39m█\u001b[39m▁\u001b[39m▁\u001b[39m▁\u001b[39m▁\u001b[39m█\u001b[34m█\u001b[39m\u001b[39m▁\u001b[39m▁\u001b[39m▁\u001b[39m▁\u001b[39m▁\u001b[39m▁\u001b[39m▁\u001b[39m▁\u001b[39m▁\u001b[39m▁\u001b[39m▁\u001b[39m▁\u001b[39m▁\u001b[39m▁\u001b[39m▁\u001b[39m▁\u001b[39m▁\u001b[39m▁\u001b[39m▁\u001b[39m▁\u001b[39m▁\u001b[32m▁\u001b[39m\u001b[39m▁\u001b[39m▁\u001b[39m▁\u001b[39m▁\u001b[39m▁\u001b[39m▁\u001b[39m▁\u001b[39m▁\u001b[39m▁\u001b[39m▁\u001b[39m▁\u001b[39m▁\u001b[39m▁\u001b[39m▁\u001b[39m█\u001b[39m▁\u001b[39m▁\u001b[39m█\u001b[39m█\u001b[39m█\u001b[39m▁\u001b[39m▁\u001b[39m▁\u001b[39m▁\u001b[39m▁\u001b[39m▁\u001b[39m▁\u001b[39m▁\u001b[39m█\u001b[39m \u001b[39m▁\n",
       "  422 ms\u001b[90m           Histogram: frequency by time\u001b[39m          760 ms \u001b[0m\u001b[1m<\u001b[22m\n",
       "\n",
       " Memory estimate\u001b[90m: \u001b[39m\u001b[33m64.90 MiB\u001b[39m, allocs estimate\u001b[90m: \u001b[39m\u001b[33m997\u001b[39m."
      ]
     },
     "execution_count": 29,
     "metadata": {},
     "output_type": "execute_result"
    }
   ],
   "source": [
    "@benchmark begin\n",
    "    transform1(pheno_y, geno, kinship);\n",
    "    pmap(x -> scan_distributed(y0, X0, lambda0; nperms = 100, rndseed = x, original = false), seeds_list)\n",
    "end"
   ]
  },
  {
   "cell_type": "code",
   "execution_count": 30,
   "id": "47afdcec-4ffd-476a-a0f2-6e6eef625835",
   "metadata": {},
   "outputs": [
    {
     "data": {
      "text/plain": [
       "BenchmarkTools.Trial: 3 samples with 1 evaluation.\n",
       " Range \u001b[90m(\u001b[39m\u001b[36m\u001b[1mmin\u001b[22m\u001b[39m … \u001b[35mmax\u001b[39m\u001b[90m):  \u001b[39m\u001b[36m\u001b[1m2.454 s\u001b[22m\u001b[39m … \u001b[35m  2.510 s\u001b[39m  \u001b[90m┊\u001b[39m GC \u001b[90m(\u001b[39mmin … max\u001b[90m): \u001b[39m4.44% … 5.11%\n",
       " Time  \u001b[90m(\u001b[39m\u001b[34m\u001b[1mmedian\u001b[22m\u001b[39m\u001b[90m):     \u001b[39m\u001b[34m\u001b[1m2.474 s              \u001b[22m\u001b[39m\u001b[90m┊\u001b[39m GC \u001b[90m(\u001b[39mmedian\u001b[90m):    \u001b[39m4.79%\n",
       " Time  \u001b[90m(\u001b[39m\u001b[32m\u001b[1mmean\u001b[22m\u001b[39m ± \u001b[32mσ\u001b[39m\u001b[90m):   \u001b[39m\u001b[32m\u001b[1m2.479 s\u001b[22m\u001b[39m ± \u001b[32m28.328 ms\u001b[39m  \u001b[90m┊\u001b[39m GC \u001b[90m(\u001b[39mmean ± σ\u001b[90m):  \u001b[39m4.78% ± 0.33%\n",
       "\n",
       "  \u001b[34m█\u001b[39m\u001b[39m \u001b[39m \u001b[39m \u001b[39m \u001b[39m \u001b[39m \u001b[39m \u001b[39m \u001b[39m \u001b[39m \u001b[39m \u001b[39m \u001b[39m \u001b[39m \u001b[39m \u001b[39m \u001b[39m \u001b[39m \u001b[39m█\u001b[39m \u001b[39m \u001b[39m \u001b[39m \u001b[39m \u001b[39m \u001b[32m \u001b[39m\u001b[39m \u001b[39m \u001b[39m \u001b[39m \u001b[39m \u001b[39m \u001b[39m \u001b[39m \u001b[39m \u001b[39m \u001b[39m \u001b[39m \u001b[39m \u001b[39m \u001b[39m \u001b[39m \u001b[39m \u001b[39m \u001b[39m \u001b[39m \u001b[39m \u001b[39m \u001b[39m \u001b[39m \u001b[39m \u001b[39m \u001b[39m \u001b[39m \u001b[39m \u001b[39m█\u001b[39m \u001b[39m \n",
       "  \u001b[34m█\u001b[39m\u001b[39m▁\u001b[39m▁\u001b[39m▁\u001b[39m▁\u001b[39m▁\u001b[39m▁\u001b[39m▁\u001b[39m▁\u001b[39m▁\u001b[39m▁\u001b[39m▁\u001b[39m▁\u001b[39m▁\u001b[39m▁\u001b[39m▁\u001b[39m▁\u001b[39m▁\u001b[39m▁\u001b[39m█\u001b[39m▁\u001b[39m▁\u001b[39m▁\u001b[39m▁\u001b[39m▁\u001b[39m▁\u001b[32m▁\u001b[39m\u001b[39m▁\u001b[39m▁\u001b[39m▁\u001b[39m▁\u001b[39m▁\u001b[39m▁\u001b[39m▁\u001b[39m▁\u001b[39m▁\u001b[39m▁\u001b[39m▁\u001b[39m▁\u001b[39m▁\u001b[39m▁\u001b[39m▁\u001b[39m▁\u001b[39m▁\u001b[39m▁\u001b[39m▁\u001b[39m▁\u001b[39m▁\u001b[39m▁\u001b[39m▁\u001b[39m▁\u001b[39m▁\u001b[39m▁\u001b[39m▁\u001b[39m▁\u001b[39m▁\u001b[39m█\u001b[39m \u001b[39m▁\n",
       "  2.45 s\u001b[90m         Histogram: frequency by time\u001b[39m        2.51 s \u001b[0m\u001b[1m<\u001b[22m\n",
       "\n",
       " Memory estimate\u001b[90m: \u001b[39m\u001b[33m13.47 GiB\u001b[39m, allocs estimate\u001b[90m: \u001b[39m\u001b[33m737172\u001b[39m."
      ]
     },
     "execution_count": 30,
     "metadata": {},
     "output_type": "execute_result"
    }
   ],
   "source": [
    "@benchmark map(x -> scan_distributed(y0, X0, lambda0; nperms = 100, rndseed = x, original = false), seeds_list)"
   ]
  },
  {
   "cell_type": "code",
   "execution_count": 88,
   "id": "0ad01b3d-8b44-488f-bfca-4766af36f12e",
   "metadata": {},
   "outputs": [
    {
     "data": {
      "text/plain": [
       "BenchmarkTools.Trial: 11 samples with 1 evaluation.\n",
       " Range \u001b[90m(\u001b[39m\u001b[36m\u001b[1mmin\u001b[22m\u001b[39m … \u001b[35mmax\u001b[39m\u001b[90m):  \u001b[39m\u001b[36m\u001b[1m395.265 ms\u001b[22m\u001b[39m … \u001b[35m855.746 ms\u001b[39m  \u001b[90m┊\u001b[39m GC \u001b[90m(\u001b[39mmin … max\u001b[90m): \u001b[39m0.00% … 0.00%\n",
       " Time  \u001b[90m(\u001b[39m\u001b[34m\u001b[1mmedian\u001b[22m\u001b[39m\u001b[90m):     \u001b[39m\u001b[34m\u001b[1m403.569 ms               \u001b[22m\u001b[39m\u001b[90m┊\u001b[39m GC \u001b[90m(\u001b[39mmedian\u001b[90m):    \u001b[39m0.00%\n",
       " Time  \u001b[90m(\u001b[39m\u001b[32m\u001b[1mmean\u001b[22m\u001b[39m ± \u001b[32mσ\u001b[39m\u001b[90m):   \u001b[39m\u001b[32m\u001b[1m488.600 ms\u001b[22m\u001b[39m ± \u001b[32m157.141 ms\u001b[39m  \u001b[90m┊\u001b[39m GC \u001b[90m(\u001b[39mmean ± σ\u001b[90m):  \u001b[39m0.33% ± 1.30%\n",
       "\n",
       "  \u001b[39m█\u001b[34m▄\u001b[39m\u001b[39m \u001b[39m \u001b[39m \u001b[39m \u001b[39m \u001b[39m \u001b[39m \u001b[39m \u001b[39m \u001b[39m \u001b[32m \u001b[39m\u001b[39m \u001b[39m \u001b[39m \u001b[39m \u001b[39m \u001b[39m \u001b[39m \u001b[39m \u001b[39m \u001b[39m \u001b[39m \u001b[39m \u001b[39m \u001b[39m \u001b[39m \u001b[39m \u001b[39m \u001b[39m \u001b[39m \u001b[39m \u001b[39m \u001b[39m \u001b[39m \u001b[39m \u001b[39m \u001b[39m \u001b[39m \u001b[39m \u001b[39m \u001b[39m \u001b[39m \u001b[39m \u001b[39m \u001b[39m \u001b[39m \u001b[39m \u001b[39m \u001b[39m \u001b[39m \u001b[39m \u001b[39m \u001b[39m \u001b[39m \u001b[39m \u001b[39m \u001b[39m \u001b[39m \u001b[39m \u001b[39m \u001b[39m \n",
       "  \u001b[39m█\u001b[34m█\u001b[39m\u001b[39m▆\u001b[39m▁\u001b[39m▁\u001b[39m▁\u001b[39m▁\u001b[39m▁\u001b[39m▁\u001b[39m▁\u001b[39m▁\u001b[39m▁\u001b[32m▁\u001b[39m\u001b[39m▁\u001b[39m▁\u001b[39m▁\u001b[39m▁\u001b[39m▁\u001b[39m▁\u001b[39m▁\u001b[39m▁\u001b[39m▁\u001b[39m▁\u001b[39m▁\u001b[39m▁\u001b[39m▁\u001b[39m▁\u001b[39m▁\u001b[39m▁\u001b[39m▁\u001b[39m▁\u001b[39m▁\u001b[39m▆\u001b[39m▁\u001b[39m▁\u001b[39m▆\u001b[39m▁\u001b[39m▁\u001b[39m▁\u001b[39m▁\u001b[39m▁\u001b[39m▁\u001b[39m▁\u001b[39m▁\u001b[39m▁\u001b[39m▁\u001b[39m▁\u001b[39m▁\u001b[39m▁\u001b[39m▁\u001b[39m▁\u001b[39m▁\u001b[39m▁\u001b[39m▁\u001b[39m▁\u001b[39m▁\u001b[39m▁\u001b[39m▁\u001b[39m▁\u001b[39m▁\u001b[39m▆\u001b[39m \u001b[39m▁\n",
       "  395 ms\u001b[90m           Histogram: frequency by time\u001b[39m          856 ms \u001b[0m\u001b[1m<\u001b[22m\n",
       "\n",
       " Memory estimate\u001b[90m: \u001b[39m\u001b[33m55.94 MiB\u001b[39m, allocs estimate\u001b[90m: \u001b[39m\u001b[33m2413\u001b[39m."
      ]
     },
     "execution_count": 88,
     "metadata": {},
     "output_type": "execute_result"
    }
   ],
   "source": [
    "@benchmark pmap(x -> scan_distributed(y0, X0, lambda0; nperms = 50, rndseed = x, original = false), seeds_list)"
   ]
  },
  {
   "cell_type": "markdown",
   "id": "0c80c52d-5191-4776-8da5-1c136ab046e3",
   "metadata": {},
   "source": [
    "## Study: distribute over markers"
   ]
  },
  {
   "cell_type": "markdown",
   "id": "cd45a48a-2d99-4a76-bd81-a53f1f656aa8",
   "metadata": {},
   "source": [
    "### Check results:"
   ]
  },
  {
   "cell_type": "code",
   "execution_count": 32,
   "id": "74874ed2-8f8f-48c8-baf1-7ccf853a0001",
   "metadata": {},
   "outputs": [],
   "source": [
    "r0perm = transform3(r0; nperms = 1000, rndseed = 0, original = true);"
   ]
  },
  {
   "cell_type": "code",
   "execution_count": 33,
   "id": "1be41674-fa98-4982-9838-495500bb2c9a",
   "metadata": {},
   "outputs": [
    {
     "data": {
      "text/plain": [
       "(79, 1001)"
      ]
     },
     "execution_count": 33,
     "metadata": {},
     "output_type": "execute_result"
    }
   ],
   "source": [
    "size(r0perm) \n",
    "# 401 permutations of a vector of length 79 (79 measurements), plus the original, for results checking with scan_null"
   ]
  },
  {
   "cell_type": "code",
   "execution_count": 34,
   "id": "2dd81cf3-3c48-4e88-96bd-e9547f2c0305",
   "metadata": {},
   "outputs": [],
   "source": [
    "map_eachMarker_LODs = map(x -> scan_distributed(r0perm, X00, x), 1:7321);\n",
    "map_eachMarker_LODs = reduce(vcat, map_eachMarker_LODs);"
   ]
  },
  {
   "cell_type": "code",
   "execution_count": 35,
   "id": "631c7d1e-b3f9-4393-9df5-402d161ed0ff",
   "metadata": {},
   "outputs": [],
   "source": [
    "pmap_eachMarker_LODs = pmap(x -> scan_distributed(r0perm, X00, x), 1:7321);\n",
    "pmap_eachMarker_LODs = reduce(vcat, pmap_eachMarker_LODs);"
   ]
  },
  {
   "cell_type": "code",
   "execution_count": 36,
   "id": "449e94f5-c300-4a1a-820d-40e250577369",
   "metadata": {},
   "outputs": [],
   "source": [
    "scan_null_original = scan(pheno_y, geno, kinship)[3]; # original trait vector LODs"
   ]
  },
  {
   "cell_type": "code",
   "execution_count": 37,
   "id": "4f499998-9bab-44f2-9295-4f4f41a9285f",
   "metadata": {},
   "outputs": [
    {
     "data": {
      "text/plain": [
       "6×6 Matrix{Float64}:\n",
       " 0.00819636  0.604956  0.0264842  0.00585467  0.477297  0.140293\n",
       " 0.00819636  0.604956  0.0264842  0.00585467  0.477297  0.140293\n",
       " 0.00819636  0.604956  0.0264842  0.00585467  0.477297  0.140293\n",
       " 0.00819636  0.604956  0.0264842  0.00585467  0.477297  0.140293\n",
       " 0.00819636  0.604956  0.0264842  0.00585467  0.477297  0.140293\n",
       " 0.00819636  0.604956  0.0264842  0.00585467  0.477297  0.140293"
      ]
     },
     "execution_count": 37,
     "metadata": {},
     "output_type": "execute_result"
    }
   ],
   "source": [
    "map_eachMarker_LODs[1:6, 1:6]"
   ]
  },
  {
   "cell_type": "code",
   "execution_count": 38,
   "id": "07c937aa-945b-4ca8-8dfa-f08468b62c08",
   "metadata": {},
   "outputs": [
    {
     "data": {
      "text/plain": [
       "6×6 Matrix{Float64}:\n",
       " 0.00819636  0.604956  0.0264842  0.00585467  0.477297  0.140293\n",
       " 0.00819636  0.604956  0.0264842  0.00585467  0.477297  0.140293\n",
       " 0.00819636  0.604956  0.0264842  0.00585467  0.477297  0.140293\n",
       " 0.00819636  0.604956  0.0264842  0.00585467  0.477297  0.140293\n",
       " 0.00819636  0.604956  0.0264842  0.00585467  0.477297  0.140293\n",
       " 0.00819636  0.604956  0.0264842  0.00585467  0.477297  0.140293"
      ]
     },
     "execution_count": 38,
     "metadata": {},
     "output_type": "execute_result"
    }
   ],
   "source": [
    "pmap_eachMarker_LODs[1:6, 1:6]"
   ]
  },
  {
   "cell_type": "code",
   "execution_count": 39,
   "id": "4212c2a7-8856-4dec-a0a0-95d3bfec1b30",
   "metadata": {},
   "outputs": [
    {
     "data": {
      "text/plain": [
       "6-element Vector{Float64}:\n",
       " 0.008196360329322583\n",
       " 0.008196360329322583\n",
       " 0.008196360329322583\n",
       " 0.008196360329322583\n",
       " 0.008196360329322583\n",
       " 0.008196360329322583"
      ]
     },
     "execution_count": 39,
     "metadata": {},
     "output_type": "execute_result"
    }
   ],
   "source": [
    "scan_null_original[1:6]"
   ]
  },
  {
   "cell_type": "code",
   "execution_count": 40,
   "id": "2fddbe9e-c57c-4550-ad90-9e608274f379",
   "metadata": {},
   "outputs": [
    {
     "data": {
      "text/plain": [
       "7.888609052210118e-29"
      ]
     },
     "execution_count": 40,
     "metadata": {},
     "output_type": "execute_result"
    }
   ],
   "source": [
    "maxSqDiff(map_eachMarker_LODs, pmap_eachMarker_LODs)"
   ]
  },
  {
   "cell_type": "code",
   "execution_count": 41,
   "id": "e0521130-09f6-47c8-9f55-a58b506ec780",
   "metadata": {},
   "outputs": [
    {
     "data": {
      "text/plain": [
       "3.077050568427709e-28"
      ]
     },
     "execution_count": 41,
     "metadata": {},
     "output_type": "execute_result"
    }
   ],
   "source": [
    "maxSqDiff(reshape(pmap_eachMarker_LODs[:, 1], :, 1), reshape(scan_null_original, :, 1))"
   ]
  },
  {
   "cell_type": "code",
   "execution_count": 42,
   "id": "c4e4b50b-6ba4-4bab-9210-6feece5eda65",
   "metadata": {},
   "outputs": [],
   "source": [
    "disLoops_LODs = scan_distributed(r0perm, X00);"
   ]
  },
  {
   "cell_type": "code",
   "execution_count": 43,
   "id": "1d54ef5b-e800-4aff-a534-5d001eb4be1b",
   "metadata": {},
   "outputs": [
    {
     "data": {
      "text/plain": [
       "6×6 Matrix{Float64}:\n",
       " 0.00819636  0.604956  0.0264842  0.00585467  0.477297  0.140293\n",
       " 0.00819636  0.604956  0.0264842  0.00585467  0.477297  0.140293\n",
       " 0.00819636  0.604956  0.0264842  0.00585467  0.477297  0.140293\n",
       " 0.00819636  0.604956  0.0264842  0.00585467  0.477297  0.140293\n",
       " 0.00819636  0.604956  0.0264842  0.00585467  0.477297  0.140293\n",
       " 0.00819636  0.604956  0.0264842  0.00585467  0.477297  0.140293"
      ]
     },
     "execution_count": 43,
     "metadata": {},
     "output_type": "execute_result"
    }
   ],
   "source": [
    "disLoops_LODs[1:6, 1:6]"
   ]
  },
  {
   "cell_type": "code",
   "execution_count": 44,
   "id": "5d565857-e1b9-4aec-9643-792794f1c216",
   "metadata": {},
   "outputs": [
    {
     "data": {
      "text/plain": [
       "6×6 Matrix{Float64}:\n",
       " 0.00819636  0.604956  0.0264842  0.00585467  0.477297  0.140293\n",
       " 0.00819636  0.604956  0.0264842  0.00585467  0.477297  0.140293\n",
       " 0.00819636  0.604956  0.0264842  0.00585467  0.477297  0.140293\n",
       " 0.00819636  0.604956  0.0264842  0.00585467  0.477297  0.140293\n",
       " 0.00819636  0.604956  0.0264842  0.00585467  0.477297  0.140293\n",
       " 0.00819636  0.604956  0.0264842  0.00585467  0.477297  0.140293"
      ]
     },
     "execution_count": 44,
     "metadata": {},
     "output_type": "execute_result"
    }
   ],
   "source": [
    "pmap_eachMarker_LODs[1:6, 1:6]"
   ]
  },
  {
   "cell_type": "code",
   "execution_count": 45,
   "id": "7b513651-ba6b-42e7-902a-c6ca5a2f0b64",
   "metadata": {},
   "outputs": [
    {
     "data": {
      "text/plain": [
       "6×6 Matrix{Float64}:\n",
       " 0.00819636  0.604956  0.0264842  0.00585467  0.477297  0.140293\n",
       " 0.00819636  0.604956  0.0264842  0.00585467  0.477297  0.140293\n",
       " 0.00819636  0.604956  0.0264842  0.00585467  0.477297  0.140293\n",
       " 0.00819636  0.604956  0.0264842  0.00585467  0.477297  0.140293\n",
       " 0.00819636  0.604956  0.0264842  0.00585467  0.477297  0.140293\n",
       " 0.00819636  0.604956  0.0264842  0.00585467  0.477297  0.140293"
      ]
     },
     "execution_count": 45,
     "metadata": {},
     "output_type": "execute_result"
    }
   ],
   "source": [
    "permutedims(scan_perms2(pheno_y, geno, kinship; nperms = 400, rndseed = 0, original = true))[1:6, 1:6]"
   ]
  },
  {
   "cell_type": "markdown",
   "id": "b1bd4f30-4ae6-4832-ab0b-37edc7ee3cfc",
   "metadata": {},
   "source": [
    "### Benchmarking:"
   ]
  },
  {
   "cell_type": "code",
   "execution_count": 46,
   "id": "cbe7c522-3f17-48fe-aa46-08a28cc8ce54",
   "metadata": {},
   "outputs": [
    {
     "data": {
      "text/plain": [
       "BenchmarkTools.Trial: 3 samples with 1 evaluation.\n",
       " Range \u001b[90m(\u001b[39m\u001b[36m\u001b[1mmin\u001b[22m\u001b[39m … \u001b[35mmax\u001b[39m\u001b[90m):  \u001b[39m\u001b[36m\u001b[1m2.495 s\u001b[22m\u001b[39m … \u001b[35m 2.512 s\u001b[39m  \u001b[90m┊\u001b[39m GC \u001b[90m(\u001b[39mmin … max\u001b[90m): \u001b[39m3.78% … 3.65%\n",
       " Time  \u001b[90m(\u001b[39m\u001b[34m\u001b[1mmedian\u001b[22m\u001b[39m\u001b[90m):     \u001b[39m\u001b[34m\u001b[1m2.502 s             \u001b[22m\u001b[39m\u001b[90m┊\u001b[39m GC \u001b[90m(\u001b[39mmedian\u001b[90m):    \u001b[39m3.77%\n",
       " Time  \u001b[90m(\u001b[39m\u001b[32m\u001b[1mmean\u001b[22m\u001b[39m ± \u001b[32mσ\u001b[39m\u001b[90m):   \u001b[39m\u001b[32m\u001b[1m2.503 s\u001b[22m\u001b[39m ± \u001b[32m8.688 ms\u001b[39m  \u001b[90m┊\u001b[39m GC \u001b[90m(\u001b[39mmean ± σ\u001b[90m):  \u001b[39m3.77% ± 0.12%\n",
       "\n",
       "  \u001b[34m█\u001b[39m\u001b[39m \u001b[39m \u001b[39m \u001b[39m \u001b[39m \u001b[39m \u001b[39m \u001b[39m \u001b[39m \u001b[39m \u001b[39m \u001b[39m \u001b[39m \u001b[39m \u001b[39m \u001b[39m \u001b[39m \u001b[39m \u001b[39m \u001b[39m \u001b[39m█\u001b[39m \u001b[39m \u001b[39m \u001b[39m \u001b[32m \u001b[39m\u001b[39m \u001b[39m \u001b[39m \u001b[39m \u001b[39m \u001b[39m \u001b[39m \u001b[39m \u001b[39m \u001b[39m \u001b[39m \u001b[39m \u001b[39m \u001b[39m \u001b[39m \u001b[39m \u001b[39m \u001b[39m \u001b[39m \u001b[39m \u001b[39m \u001b[39m \u001b[39m \u001b[39m \u001b[39m \u001b[39m \u001b[39m \u001b[39m \u001b[39m█\u001b[39m \u001b[39m \n",
       "  \u001b[34m█\u001b[39m\u001b[39m▁\u001b[39m▁\u001b[39m▁\u001b[39m▁\u001b[39m▁\u001b[39m▁\u001b[39m▁\u001b[39m▁\u001b[39m▁\u001b[39m▁\u001b[39m▁\u001b[39m▁\u001b[39m▁\u001b[39m▁\u001b[39m▁\u001b[39m▁\u001b[39m▁\u001b[39m▁\u001b[39m▁\u001b[39m▁\u001b[39m█\u001b[39m▁\u001b[39m▁\u001b[39m▁\u001b[39m▁\u001b[32m▁\u001b[39m\u001b[39m▁\u001b[39m▁\u001b[39m▁\u001b[39m▁\u001b[39m▁\u001b[39m▁\u001b[39m▁\u001b[39m▁\u001b[39m▁\u001b[39m▁\u001b[39m▁\u001b[39m▁\u001b[39m▁\u001b[39m▁\u001b[39m▁\u001b[39m▁\u001b[39m▁\u001b[39m▁\u001b[39m▁\u001b[39m▁\u001b[39m▁\u001b[39m▁\u001b[39m▁\u001b[39m▁\u001b[39m▁\u001b[39m▁\u001b[39m▁\u001b[39m▁\u001b[39m█\u001b[39m \u001b[39m▁\n",
       "  2.5 s\u001b[90m         Histogram: frequency by time\u001b[39m        2.51 s \u001b[0m\u001b[1m<\u001b[22m\n",
       "\n",
       " Memory estimate\u001b[90m: \u001b[39m\u001b[33m13.29 GiB\u001b[39m, allocs estimate\u001b[90m: \u001b[39m\u001b[33m109817\u001b[39m."
      ]
     },
     "execution_count": 46,
     "metadata": {},
     "output_type": "execute_result"
    }
   ],
   "source": [
    "@benchmark map(x -> scan_distributed(r0perm, X00, x), 1:7321)"
   ]
  },
  {
   "cell_type": "code",
   "execution_count": 47,
   "id": "ee5be303-4a98-4f0e-b10e-a15946144563",
   "metadata": {},
   "outputs": [
    {
     "data": {
      "text/plain": [
       "BenchmarkTools.Trial: 1 sample with 1 evaluation.\n",
       " Single result which took \u001b[34m9.606 s\u001b[39m (0.00% GC) to evaluate,\n",
       " with a memory estimate of \u001b[33m77.22 MiB\u001b[39m, over \u001b[33m484931\u001b[39m allocations."
      ]
     },
     "execution_count": 47,
     "metadata": {},
     "output_type": "execute_result"
    }
   ],
   "source": [
    "@benchmark pmap(x -> scan_distributed(r0perm, X00, x), 1:7321)"
   ]
  },
  {
   "cell_type": "code",
   "execution_count": 48,
   "id": "a89233e9-df2c-4d6d-8b0e-d0faebe0310c",
   "metadata": {},
   "outputs": [
    {
     "data": {
      "text/plain": [
       "BenchmarkTools.Trial: 5 samples with 1 evaluation.\n",
       " Range \u001b[90m(\u001b[39m\u001b[36m\u001b[1mmin\u001b[22m\u001b[39m … \u001b[35mmax\u001b[39m\u001b[90m):  \u001b[39m\u001b[36m\u001b[1m1.196 s\u001b[22m\u001b[39m … \u001b[35m   1.449 s\u001b[39m  \u001b[90m┊\u001b[39m GC \u001b[90m(\u001b[39mmin … max\u001b[90m): \u001b[39m0.37% … 0.41%\n",
       " Time  \u001b[90m(\u001b[39m\u001b[34m\u001b[1mmedian\u001b[22m\u001b[39m\u001b[90m):     \u001b[39m\u001b[34m\u001b[1m1.221 s               \u001b[22m\u001b[39m\u001b[90m┊\u001b[39m GC \u001b[90m(\u001b[39mmedian\u001b[90m):    \u001b[39m0.75%\n",
       " Time  \u001b[90m(\u001b[39m\u001b[32m\u001b[1mmean\u001b[22m\u001b[39m ± \u001b[32mσ\u001b[39m\u001b[90m):   \u001b[39m\u001b[32m\u001b[1m1.266 s\u001b[22m\u001b[39m ± \u001b[32m104.026 ms\u001b[39m  \u001b[90m┊\u001b[39m GC \u001b[90m(\u001b[39mmean ± σ\u001b[90m):  \u001b[39m0.72% ± 0.39%\n",
       "\n",
       "  \u001b[39m█\u001b[39m \u001b[39m \u001b[34m█\u001b[39m\u001b[39m \u001b[39m█\u001b[39m \u001b[39m \u001b[39m \u001b[39m \u001b[39m \u001b[39m \u001b[39m█\u001b[39m \u001b[39m \u001b[39m \u001b[32m \u001b[39m\u001b[39m \u001b[39m \u001b[39m \u001b[39m \u001b[39m \u001b[39m \u001b[39m \u001b[39m \u001b[39m \u001b[39m \u001b[39m \u001b[39m \u001b[39m \u001b[39m \u001b[39m \u001b[39m \u001b[39m \u001b[39m \u001b[39m \u001b[39m \u001b[39m \u001b[39m \u001b[39m \u001b[39m \u001b[39m \u001b[39m \u001b[39m \u001b[39m \u001b[39m \u001b[39m \u001b[39m \u001b[39m \u001b[39m \u001b[39m \u001b[39m \u001b[39m \u001b[39m \u001b[39m \u001b[39m \u001b[39m \u001b[39m█\u001b[39m \u001b[39m \n",
       "  \u001b[39m█\u001b[39m▁\u001b[39m▁\u001b[34m█\u001b[39m\u001b[39m▁\u001b[39m█\u001b[39m▁\u001b[39m▁\u001b[39m▁\u001b[39m▁\u001b[39m▁\u001b[39m▁\u001b[39m█\u001b[39m▁\u001b[39m▁\u001b[39m▁\u001b[32m▁\u001b[39m\u001b[39m▁\u001b[39m▁\u001b[39m▁\u001b[39m▁\u001b[39m▁\u001b[39m▁\u001b[39m▁\u001b[39m▁\u001b[39m▁\u001b[39m▁\u001b[39m▁\u001b[39m▁\u001b[39m▁\u001b[39m▁\u001b[39m▁\u001b[39m▁\u001b[39m▁\u001b[39m▁\u001b[39m▁\u001b[39m▁\u001b[39m▁\u001b[39m▁\u001b[39m▁\u001b[39m▁\u001b[39m▁\u001b[39m▁\u001b[39m▁\u001b[39m▁\u001b[39m▁\u001b[39m▁\u001b[39m▁\u001b[39m▁\u001b[39m▁\u001b[39m▁\u001b[39m▁\u001b[39m▁\u001b[39m▁\u001b[39m▁\u001b[39m▁\u001b[39m▁\u001b[39m█\u001b[39m \u001b[39m▁\n",
       "  1.2 s\u001b[90m          Histogram: frequency by time\u001b[39m         1.45 s \u001b[0m\u001b[1m<\u001b[22m\n",
       "\n",
       " Memory estimate\u001b[90m: \u001b[39m\u001b[33m752.16 MiB\u001b[39m, allocs estimate\u001b[90m: \u001b[39m\u001b[33m2470\u001b[39m."
      ]
     },
     "execution_count": 48,
     "metadata": {},
     "output_type": "execute_result"
    }
   ],
   "source": [
    "@benchmark scan_distributed(r0perm, X00) # using distributed loops for each marker"
   ]
  },
  {
   "cell_type": "code",
   "execution_count": 49,
   "id": "fb3a393d-e12c-40b9-9bbf-2826bc50ba55",
   "metadata": {},
   "outputs": [
    {
     "data": {
      "text/plain": [
       "BenchmarkTools.Trial: 2 samples with 1 evaluation.\n",
       " Range \u001b[90m(\u001b[39m\u001b[36m\u001b[1mmin\u001b[22m\u001b[39m … \u001b[35mmax\u001b[39m\u001b[90m):  \u001b[39m\u001b[36m\u001b[1m2.518 s\u001b[22m\u001b[39m … \u001b[35m  2.641 s\u001b[39m  \u001b[90m┊\u001b[39m GC \u001b[90m(\u001b[39mmin … max\u001b[90m): \u001b[39m3.21% … 3.98%\n",
       " Time  \u001b[90m(\u001b[39m\u001b[34m\u001b[1mmedian\u001b[22m\u001b[39m\u001b[90m):     \u001b[39m\u001b[34m\u001b[1m2.580 s              \u001b[22m\u001b[39m\u001b[90m┊\u001b[39m GC \u001b[90m(\u001b[39mmedian\u001b[90m):    \u001b[39m3.60%\n",
       " Time  \u001b[90m(\u001b[39m\u001b[32m\u001b[1mmean\u001b[22m\u001b[39m ± \u001b[32mσ\u001b[39m\u001b[90m):   \u001b[39m\u001b[32m\u001b[1m2.580 s\u001b[22m\u001b[39m ± \u001b[32m87.011 ms\u001b[39m  \u001b[90m┊\u001b[39m GC \u001b[90m(\u001b[39mmean ± σ\u001b[90m):  \u001b[39m3.60% ± 0.54%\n",
       "\n",
       "  \u001b[34m█\u001b[39m\u001b[39m \u001b[39m \u001b[39m \u001b[39m \u001b[39m \u001b[39m \u001b[39m \u001b[39m \u001b[39m \u001b[39m \u001b[39m \u001b[39m \u001b[39m \u001b[39m \u001b[39m \u001b[39m \u001b[39m \u001b[39m \u001b[39m \u001b[39m \u001b[39m \u001b[39m \u001b[39m \u001b[39m \u001b[39m \u001b[39m \u001b[39m \u001b[32m \u001b[39m\u001b[39m \u001b[39m \u001b[39m \u001b[39m \u001b[39m \u001b[39m \u001b[39m \u001b[39m \u001b[39m \u001b[39m \u001b[39m \u001b[39m \u001b[39m \u001b[39m \u001b[39m \u001b[39m \u001b[39m \u001b[39m \u001b[39m \u001b[39m \u001b[39m \u001b[39m \u001b[39m \u001b[39m \u001b[39m \u001b[39m \u001b[39m \u001b[39m█\u001b[39m \u001b[39m \n",
       "  \u001b[34m█\u001b[39m\u001b[39m▁\u001b[39m▁\u001b[39m▁\u001b[39m▁\u001b[39m▁\u001b[39m▁\u001b[39m▁\u001b[39m▁\u001b[39m▁\u001b[39m▁\u001b[39m▁\u001b[39m▁\u001b[39m▁\u001b[39m▁\u001b[39m▁\u001b[39m▁\u001b[39m▁\u001b[39m▁\u001b[39m▁\u001b[39m▁\u001b[39m▁\u001b[39m▁\u001b[39m▁\u001b[39m▁\u001b[39m▁\u001b[39m▁\u001b[39m▁\u001b[32m▁\u001b[39m\u001b[39m▁\u001b[39m▁\u001b[39m▁\u001b[39m▁\u001b[39m▁\u001b[39m▁\u001b[39m▁\u001b[39m▁\u001b[39m▁\u001b[39m▁\u001b[39m▁\u001b[39m▁\u001b[39m▁\u001b[39m▁\u001b[39m▁\u001b[39m▁\u001b[39m▁\u001b[39m▁\u001b[39m▁\u001b[39m▁\u001b[39m▁\u001b[39m▁\u001b[39m▁\u001b[39m▁\u001b[39m▁\u001b[39m▁\u001b[39m▁\u001b[39m█\u001b[39m \u001b[39m▁\n",
       "  2.52 s\u001b[90m         Histogram: frequency by time\u001b[39m        2.64 s \u001b[0m\u001b[1m<\u001b[22m\n",
       "\n",
       " Memory estimate\u001b[90m: \u001b[39m\u001b[33m13.30 GiB\u001b[39m, allocs estimate\u001b[90m: \u001b[39m\u001b[33m74635\u001b[39m."
      ]
     },
     "execution_count": 49,
     "metadata": {},
     "output_type": "execute_result"
    }
   ],
   "source": [
    " # using ordinary loops for each marker\n",
    "@benchmark scan_perms2(pheno_y, geno, kinship; nperms = 1000, original = true, rndseed = 0)"
   ]
  },
  {
   "cell_type": "code",
   "execution_count": 50,
   "id": "9313a38e-12fa-456e-864c-8cf595746278",
   "metadata": {},
   "outputs": [
    {
     "data": {
      "text/plain": [
       "UnitRange{Int64}"
      ]
     },
     "execution_count": 50,
     "metadata": {},
     "output_type": "execute_result"
    }
   ],
   "source": [
    "range = 1:6;\n",
    "typeof(range)"
   ]
  },
  {
   "cell_type": "markdown",
   "id": "762463e6-8c38-4b32-a69c-eb0174a0ba23",
   "metadata": {},
   "source": [
    "## Study: distribute over blocks of markers"
   ]
  },
  {
   "cell_type": "markdown",
   "id": "4787b6d4-ad80-440c-ba14-f46ef03687b9",
   "metadata": {},
   "source": [
    "### Check results:"
   ]
  },
  {
   "cell_type": "code",
   "execution_count": 51,
   "id": "0ee91846-4c02-476d-a9ee-daa4811c70e3",
   "metadata": {},
   "outputs": [],
   "source": [
    "r0perm = transform3(r0; nperms = 1000, rndseed = 0, original = true);"
   ]
  },
  {
   "cell_type": "code",
   "execution_count": 52,
   "id": "a5320b53-8296-467b-8501-34e114426d42",
   "metadata": {},
   "outputs": [
    {
     "data": {
      "text/plain": [
       "6×6 Matrix{Float64}:\n",
       " 0.00819636  0.604956  0.0264842  0.00585467  0.477297  0.140293\n",
       " 0.00819636  0.604956  0.0264842  0.00585467  0.477297  0.140293\n",
       " 0.00819636  0.604956  0.0264842  0.00585467  0.477297  0.140293\n",
       " 0.00819636  0.604956  0.0264842  0.00585467  0.477297  0.140293\n",
       " 0.00819636  0.604956  0.0264842  0.00585467  0.477297  0.140293\n",
       " 0.00819636  0.604956  0.0264842  0.00585467  0.477297  0.140293"
      ]
     },
     "execution_count": 52,
     "metadata": {},
     "output_type": "execute_result"
    }
   ],
   "source": [
    "permutedims(scan_distributed_block(r0perm, X00, 1:6))[1:6, 1:6]"
   ]
  },
  {
   "cell_type": "code",
   "execution_count": 53,
   "id": "3e21a30c-022f-4ffc-9374-ae704733f1b0",
   "metadata": {},
   "outputs": [
    {
     "data": {
      "text/plain": [
       "6×6 Matrix{Float64}:\n",
       " 0.00819636  0.604956  0.0264842  0.00585467  0.477297  0.140293\n",
       " 0.00819636  0.604956  0.0264842  0.00585467  0.477297  0.140293\n",
       " 0.00819636  0.604956  0.0264842  0.00585467  0.477297  0.140293\n",
       " 0.00819636  0.604956  0.0264842  0.00585467  0.477297  0.140293\n",
       " 0.00819636  0.604956  0.0264842  0.00585467  0.477297  0.140293\n",
       " 0.00819636  0.604956  0.0264842  0.00585467  0.477297  0.140293"
      ]
     },
     "execution_count": 53,
     "metadata": {},
     "output_type": "execute_result"
    }
   ],
   "source": [
    "pmap_eachMarker_LODs[1:6, 1:6]"
   ]
  },
  {
   "cell_type": "code",
   "execution_count": 54,
   "id": "9d2505af-c668-41e0-9022-9ae7e550ffd5",
   "metadata": {},
   "outputs": [
    {
     "data": {
      "text/plain": [
       "partition_array_indices (generic function with 1 method)"
      ]
     },
     "execution_count": 54,
     "metadata": {},
     "output_type": "execute_result"
    }
   ],
   "source": [
    "## https://stackoverflow.com/questions/26953340/partition-equivalent-in-julia\n",
    "\n",
    "function partition_array_indices(nb_data::Int, nb_data_per_chunk::Int)\n",
    "    nb_chunks = ceil(Int, nb_data / nb_data_per_chunk)\n",
    "    ids = UnitRange{Int}[]\n",
    "    for which_chunk = 1:nb_chunks\n",
    "        id_start::Int = 1 + nb_data_per_chunk * (which_chunk - 1)\n",
    "        id_end::Int = id_start - 1 + nb_data_per_chunk\n",
    "        if id_end > nb_data\n",
    "            id_end = nb_data\n",
    "        end\n",
    "        push!(ids, id_start:id_end)\n",
    "    end\n",
    "    return ids\n",
    "end"
   ]
  },
  {
   "cell_type": "code",
   "execution_count": 55,
   "id": "a4760034-68c1-475e-962d-38a898832858",
   "metadata": {},
   "outputs": [
    {
     "data": {
      "text/plain": [
       "8-element Vector{UnitRange{Int64}}:\n",
       " 1:1000\n",
       " 1001:2000\n",
       " 2001:3000\n",
       " 3001:4000\n",
       " 4001:5000\n",
       " 5001:6000\n",
       " 6001:7000\n",
       " 7001:7321"
      ]
     },
     "execution_count": 55,
     "metadata": {},
     "output_type": "execute_result"
    }
   ],
   "source": [
    "blocks_partitions = partition_array_indices(p, 1000)"
   ]
  },
  {
   "cell_type": "code",
   "execution_count": 56,
   "id": "a83cc9ce-9e02-4635-9462-bf4e94edc1b4",
   "metadata": {},
   "outputs": [],
   "source": [
    "map_blocks_LODs = map(x -> scan_distributed_block(r0perm, X00, x), blocks_partitions);\n",
    "map_blocks_LODs = permutedims(reduce(hcat, map_blocks_LODs));"
   ]
  },
  {
   "cell_type": "code",
   "execution_count": 57,
   "id": "5784aa69-7b3a-493b-b09f-88d67274419f",
   "metadata": {},
   "outputs": [
    {
     "data": {
      "text/plain": [
       "6×6 Matrix{Float64}:\n",
       " 0.00819636  0.604956  0.0264842  0.00585467  0.477297  0.140293\n",
       " 0.00819636  0.604956  0.0264842  0.00585467  0.477297  0.140293\n",
       " 0.00819636  0.604956  0.0264842  0.00585467  0.477297  0.140293\n",
       " 0.00819636  0.604956  0.0264842  0.00585467  0.477297  0.140293\n",
       " 0.00819636  0.604956  0.0264842  0.00585467  0.477297  0.140293\n",
       " 0.00819636  0.604956  0.0264842  0.00585467  0.477297  0.140293"
      ]
     },
     "execution_count": 57,
     "metadata": {},
     "output_type": "execute_result"
    }
   ],
   "source": [
    "map_blocks_LODs[1:6, 1:6]"
   ]
  },
  {
   "cell_type": "code",
   "execution_count": 58,
   "id": "75372147-56fd-4dfe-a9be-3fcf6ff896f2",
   "metadata": {},
   "outputs": [],
   "source": [
    "pmap_blocks_LODs = pmap(x -> scan_distributed_block(r0perm, X00, x), blocks_partitions);\n",
    "pmap_blocks_LODs = permutedims(reduce(hcat, pmap_blocks_LODs));"
   ]
  },
  {
   "cell_type": "code",
   "execution_count": 59,
   "id": "be8c641e-5fb9-4fa9-b45a-8e7adb68b053",
   "metadata": {},
   "outputs": [
    {
     "data": {
      "text/plain": [
       "6×6 Matrix{Float64}:\n",
       " 0.00819636  0.604956  0.0264842  0.00585467  0.477297  0.140293\n",
       " 0.00819636  0.604956  0.0264842  0.00585467  0.477297  0.140293\n",
       " 0.00819636  0.604956  0.0264842  0.00585467  0.477297  0.140293\n",
       " 0.00819636  0.604956  0.0264842  0.00585467  0.477297  0.140293\n",
       " 0.00819636  0.604956  0.0264842  0.00585467  0.477297  0.140293\n",
       " 0.00819636  0.604956  0.0264842  0.00585467  0.477297  0.140293"
      ]
     },
     "execution_count": 59,
     "metadata": {},
     "output_type": "execute_result"
    }
   ],
   "source": [
    "pmap_blocks_LODs[1:6, 1:6]"
   ]
  },
  {
   "cell_type": "code",
   "execution_count": 60,
   "id": "afbd61de-2fb4-49c2-9886-cfde83f17d26",
   "metadata": {},
   "outputs": [],
   "source": [
    "normal_LODs = scan_perms2(pheno_y, geno, kinship; nperms = 1000, rndseed = 0, original = true);\n",
    "normal_LODs = permutedims(normal_LODs);"
   ]
  },
  {
   "cell_type": "code",
   "execution_count": 61,
   "id": "0854c9c5-4218-4a71-a351-7a6d2b46fd7c",
   "metadata": {},
   "outputs": [
    {
     "data": {
      "text/plain": [
       "6×6 Matrix{Float64}:\n",
       " 0.00819636  0.604956  0.0264842  0.00585467  0.477297  0.140293\n",
       " 0.00819636  0.604956  0.0264842  0.00585467  0.477297  0.140293\n",
       " 0.00819636  0.604956  0.0264842  0.00585467  0.477297  0.140293\n",
       " 0.00819636  0.604956  0.0264842  0.00585467  0.477297  0.140293\n",
       " 0.00819636  0.604956  0.0264842  0.00585467  0.477297  0.140293\n",
       " 0.00819636  0.604956  0.0264842  0.00585467  0.477297  0.140293"
      ]
     },
     "execution_count": 61,
     "metadata": {},
     "output_type": "execute_result"
    }
   ],
   "source": [
    "normal_LODs[1:6, 1:6]"
   ]
  },
  {
   "cell_type": "code",
   "execution_count": 62,
   "id": "bdad4276-09f6-4fb6-8655-a9e20a3f62a4",
   "metadata": {},
   "outputs": [
    {
     "data": {
      "text/plain": [
       "7.888609052210118e-29"
      ]
     },
     "execution_count": 62,
     "metadata": {},
     "output_type": "execute_result"
    }
   ],
   "source": [
    "maxSqDiff(pmap_blocks_LODs, normal_LODs)"
   ]
  },
  {
   "cell_type": "markdown",
   "id": "6ae02731-ba9c-4fc7-acf8-0735d4a79ef9",
   "metadata": {},
   "source": [
    "### Benchmarking:"
   ]
  },
  {
   "cell_type": "code",
   "execution_count": 63,
   "id": "e3eca0d8-4744-4612-8981-f45658bdef8e",
   "metadata": {},
   "outputs": [
    {
     "data": {
      "text/plain": [
       "8-element Vector{UnitRange{Int64}}:\n",
       " 1:1000\n",
       " 1001:2000\n",
       " 2001:3000\n",
       " 3001:4000\n",
       " 4001:5000\n",
       " 5001:6000\n",
       " 6001:7000\n",
       " 7001:7321"
      ]
     },
     "execution_count": 63,
     "metadata": {},
     "output_type": "execute_result"
    }
   ],
   "source": [
    "blocks_partitions"
   ]
  },
  {
   "cell_type": "code",
   "execution_count": 64,
   "id": "8cbcf7d5-dca0-45fa-96d1-2b40f32114a8",
   "metadata": {},
   "outputs": [
    {
     "data": {
      "text/plain": [
       "BenchmarkTools.Trial: 2 samples with 1 evaluation.\n",
       " Range \u001b[90m(\u001b[39m\u001b[36m\u001b[1mmin\u001b[22m\u001b[39m … \u001b[35mmax\u001b[39m\u001b[90m):  \u001b[39m\u001b[36m\u001b[1m2.792 s\u001b[22m\u001b[39m … \u001b[35m 2.794 s\u001b[39m  \u001b[90m┊\u001b[39m GC \u001b[90m(\u001b[39mmin … max\u001b[90m): \u001b[39m3.00% … 3.19%\n",
       " Time  \u001b[90m(\u001b[39m\u001b[34m\u001b[1mmedian\u001b[22m\u001b[39m\u001b[90m):     \u001b[39m\u001b[34m\u001b[1m2.793 s             \u001b[22m\u001b[39m\u001b[90m┊\u001b[39m GC \u001b[90m(\u001b[39mmedian\u001b[90m):    \u001b[39m3.10%\n",
       " Time  \u001b[90m(\u001b[39m\u001b[32m\u001b[1mmean\u001b[22m\u001b[39m ± \u001b[32mσ\u001b[39m\u001b[90m):   \u001b[39m\u001b[32m\u001b[1m2.793 s\u001b[22m\u001b[39m ± \u001b[32m1.433 ms\u001b[39m  \u001b[90m┊\u001b[39m GC \u001b[90m(\u001b[39mmean ± σ\u001b[90m):  \u001b[39m3.10% ± 0.14%\n",
       "\n",
       "  \u001b[34m█\u001b[39m\u001b[39m \u001b[39m \u001b[39m \u001b[39m \u001b[39m \u001b[39m \u001b[39m \u001b[39m \u001b[39m \u001b[39m \u001b[39m \u001b[39m \u001b[39m \u001b[39m \u001b[39m \u001b[39m \u001b[39m \u001b[39m \u001b[39m \u001b[39m \u001b[39m \u001b[39m \u001b[39m \u001b[39m \u001b[39m \u001b[39m \u001b[39m \u001b[32m \u001b[39m\u001b[39m \u001b[39m \u001b[39m \u001b[39m \u001b[39m \u001b[39m \u001b[39m \u001b[39m \u001b[39m \u001b[39m \u001b[39m \u001b[39m \u001b[39m \u001b[39m \u001b[39m \u001b[39m \u001b[39m \u001b[39m \u001b[39m \u001b[39m \u001b[39m \u001b[39m \u001b[39m \u001b[39m \u001b[39m \u001b[39m \u001b[39m█\u001b[39m \u001b[39m \n",
       "  \u001b[34m█\u001b[39m\u001b[39m▁\u001b[39m▁\u001b[39m▁\u001b[39m▁\u001b[39m▁\u001b[39m▁\u001b[39m▁\u001b[39m▁\u001b[39m▁\u001b[39m▁\u001b[39m▁\u001b[39m▁\u001b[39m▁\u001b[39m▁\u001b[39m▁\u001b[39m▁\u001b[39m▁\u001b[39m▁\u001b[39m▁\u001b[39m▁\u001b[39m▁\u001b[39m▁\u001b[39m▁\u001b[39m▁\u001b[39m▁\u001b[39m▁\u001b[39m▁\u001b[32m▁\u001b[39m\u001b[39m▁\u001b[39m▁\u001b[39m▁\u001b[39m▁\u001b[39m▁\u001b[39m▁\u001b[39m▁\u001b[39m▁\u001b[39m▁\u001b[39m▁\u001b[39m▁\u001b[39m▁\u001b[39m▁\u001b[39m▁\u001b[39m▁\u001b[39m▁\u001b[39m▁\u001b[39m▁\u001b[39m▁\u001b[39m▁\u001b[39m▁\u001b[39m▁\u001b[39m▁\u001b[39m▁\u001b[39m▁\u001b[39m▁\u001b[39m█\u001b[39m \u001b[39m▁\n",
       "  2.79 s\u001b[90m        Histogram: frequency by time\u001b[39m        2.79 s \u001b[0m\u001b[1m<\u001b[22m\n",
       "\n",
       " Memory estimate\u001b[90m: \u001b[39m\u001b[33m13.27 GiB\u001b[39m, allocs estimate\u001b[90m: \u001b[39m\u001b[33m73284\u001b[39m."
      ]
     },
     "execution_count": 64,
     "metadata": {},
     "output_type": "execute_result"
    }
   ],
   "source": [
    "@benchmark map(x -> scan_distributed_block(r0perm, X00, x), blocks_partitions)"
   ]
  },
  {
   "cell_type": "code",
   "execution_count": 65,
   "id": "dd2f7dee-e958-4ce7-84d2-aad3d07e8af7",
   "metadata": {},
   "outputs": [
    {
     "data": {
      "text/plain": [
       "BenchmarkTools.Trial: 7 samples with 1 evaluation.\n",
       " Range \u001b[90m(\u001b[39m\u001b[36m\u001b[1mmin\u001b[22m\u001b[39m … \u001b[35mmax\u001b[39m\u001b[90m):  \u001b[39m\u001b[36m\u001b[1m488.056 ms\u001b[22m\u001b[39m … \u001b[35m937.970 ms\u001b[39m  \u001b[90m┊\u001b[39m GC \u001b[90m(\u001b[39mmin … max\u001b[90m): \u001b[39m0.00% … 0.00%\n",
       " Time  \u001b[90m(\u001b[39m\u001b[34m\u001b[1mmedian\u001b[22m\u001b[39m\u001b[90m):     \u001b[39m\u001b[34m\u001b[1m750.036 ms               \u001b[22m\u001b[39m\u001b[90m┊\u001b[39m GC \u001b[90m(\u001b[39mmedian\u001b[90m):    \u001b[39m0.00%\n",
       " Time  \u001b[90m(\u001b[39m\u001b[32m\u001b[1mmean\u001b[22m\u001b[39m ± \u001b[32mσ\u001b[39m\u001b[90m):   \u001b[39m\u001b[32m\u001b[1m754.594 ms\u001b[22m\u001b[39m ± \u001b[32m173.541 ms\u001b[39m  \u001b[90m┊\u001b[39m GC \u001b[90m(\u001b[39mmean ± σ\u001b[90m):  \u001b[39m0.00% ± 0.00%\n",
       "\n",
       "  \u001b[39m█\u001b[39m \u001b[39m \u001b[39m \u001b[39m \u001b[39m \u001b[39m \u001b[39m \u001b[39m \u001b[39m \u001b[39m \u001b[39m \u001b[39m \u001b[39m \u001b[39m█\u001b[39m \u001b[39m \u001b[39m \u001b[39m \u001b[39m \u001b[39m \u001b[39m \u001b[39m \u001b[39m \u001b[39m \u001b[39m \u001b[39m \u001b[39m \u001b[34m█\u001b[39m\u001b[39m \u001b[39m \u001b[39m \u001b[39m \u001b[39m \u001b[39m \u001b[39m█\u001b[32m \u001b[39m\u001b[39m \u001b[39m \u001b[39m \u001b[39m \u001b[39m \u001b[39m \u001b[39m \u001b[39m \u001b[39m \u001b[39m \u001b[39m \u001b[39m \u001b[39m \u001b[39m \u001b[39m \u001b[39m \u001b[39m \u001b[39m█\u001b[39m \u001b[39m \u001b[39m \u001b[39m█\u001b[39m \u001b[39m█\u001b[39m \u001b[39m \n",
       "  \u001b[39m█\u001b[39m▁\u001b[39m▁\u001b[39m▁\u001b[39m▁\u001b[39m▁\u001b[39m▁\u001b[39m▁\u001b[39m▁\u001b[39m▁\u001b[39m▁\u001b[39m▁\u001b[39m▁\u001b[39m▁\u001b[39m█\u001b[39m▁\u001b[39m▁\u001b[39m▁\u001b[39m▁\u001b[39m▁\u001b[39m▁\u001b[39m▁\u001b[39m▁\u001b[39m▁\u001b[39m▁\u001b[39m▁\u001b[39m▁\u001b[39m▁\u001b[34m█\u001b[39m\u001b[39m▁\u001b[39m▁\u001b[39m▁\u001b[39m▁\u001b[39m▁\u001b[39m▁\u001b[39m█\u001b[32m▁\u001b[39m\u001b[39m▁\u001b[39m▁\u001b[39m▁\u001b[39m▁\u001b[39m▁\u001b[39m▁\u001b[39m▁\u001b[39m▁\u001b[39m▁\u001b[39m▁\u001b[39m▁\u001b[39m▁\u001b[39m▁\u001b[39m▁\u001b[39m▁\u001b[39m▁\u001b[39m▁\u001b[39m█\u001b[39m▁\u001b[39m▁\u001b[39m▁\u001b[39m█\u001b[39m▁\u001b[39m█\u001b[39m \u001b[39m▁\n",
       "  488 ms\u001b[90m           Histogram: frequency by time\u001b[39m          938 ms \u001b[0m\u001b[1m<\u001b[22m\n",
       "\n",
       " Memory estimate\u001b[90m: \u001b[39m\u001b[33m55.96 MiB\u001b[39m, allocs estimate\u001b[90m: \u001b[39m\u001b[33m1090\u001b[39m."
      ]
     },
     "execution_count": 65,
     "metadata": {},
     "output_type": "execute_result"
    }
   ],
   "source": [
    "@benchmark pmap(x -> scan_distributed_block(r0perm, X00, x), blocks_partitions)"
   ]
  },
  {
   "cell_type": "code",
   "execution_count": 66,
   "id": "a0cf632e-36bf-462a-8a3c-2a9ac70aaac7",
   "metadata": {},
   "outputs": [
    {
     "data": {
      "text/plain": [
       "BenchmarkTools.Trial: 7 samples with 1 evaluation.\n",
       " Range \u001b[90m(\u001b[39m\u001b[36m\u001b[1mmin\u001b[22m\u001b[39m … \u001b[35mmax\u001b[39m\u001b[90m):  \u001b[39m\u001b[36m\u001b[1m509.487 ms\u001b[22m\u001b[39m … \u001b[35m939.704 ms\u001b[39m  \u001b[90m┊\u001b[39m GC \u001b[90m(\u001b[39mmin … max\u001b[90m): \u001b[39m0.00% … 0.00%\n",
       " Time  \u001b[90m(\u001b[39m\u001b[34m\u001b[1mmedian\u001b[22m\u001b[39m\u001b[90m):     \u001b[39m\u001b[34m\u001b[1m751.924 ms               \u001b[22m\u001b[39m\u001b[90m┊\u001b[39m GC \u001b[90m(\u001b[39mmedian\u001b[90m):    \u001b[39m0.00%\n",
       " Time  \u001b[90m(\u001b[39m\u001b[32m\u001b[1mmean\u001b[22m\u001b[39m ± \u001b[32mσ\u001b[39m\u001b[90m):   \u001b[39m\u001b[32m\u001b[1m714.932 ms\u001b[22m\u001b[39m ± \u001b[32m149.797 ms\u001b[39m  \u001b[90m┊\u001b[39m GC \u001b[90m(\u001b[39mmean ± σ\u001b[90m):  \u001b[39m0.00% ± 0.00%\n",
       "\n",
       "  \u001b[39m█\u001b[39m \u001b[39m \u001b[39m█\u001b[39m \u001b[39m \u001b[39m \u001b[39m \u001b[39m \u001b[39m \u001b[39m \u001b[39m \u001b[39m \u001b[39m \u001b[39m \u001b[39m \u001b[39m \u001b[39m \u001b[39m \u001b[39m \u001b[39m \u001b[39m \u001b[39m \u001b[39m \u001b[39m \u001b[39m \u001b[39m \u001b[39m \u001b[39m \u001b[32m \u001b[39m\u001b[39m█\u001b[34m \u001b[39m\u001b[39m \u001b[39m \u001b[39m█\u001b[39m \u001b[39m█\u001b[39m \u001b[39m█\u001b[39m \u001b[39m \u001b[39m \u001b[39m \u001b[39m \u001b[39m \u001b[39m \u001b[39m \u001b[39m \u001b[39m \u001b[39m \u001b[39m \u001b[39m \u001b[39m \u001b[39m \u001b[39m \u001b[39m \u001b[39m \u001b[39m \u001b[39m \u001b[39m \u001b[39m█\u001b[39m \u001b[39m \n",
       "  \u001b[39m█\u001b[39m▁\u001b[39m▁\u001b[39m█\u001b[39m▁\u001b[39m▁\u001b[39m▁\u001b[39m▁\u001b[39m▁\u001b[39m▁\u001b[39m▁\u001b[39m▁\u001b[39m▁\u001b[39m▁\u001b[39m▁\u001b[39m▁\u001b[39m▁\u001b[39m▁\u001b[39m▁\u001b[39m▁\u001b[39m▁\u001b[39m▁\u001b[39m▁\u001b[39m▁\u001b[39m▁\u001b[39m▁\u001b[39m▁\u001b[39m▁\u001b[39m▁\u001b[32m▁\u001b[39m\u001b[39m█\u001b[34m▁\u001b[39m\u001b[39m▁\u001b[39m▁\u001b[39m█\u001b[39m▁\u001b[39m█\u001b[39m▁\u001b[39m█\u001b[39m▁\u001b[39m▁\u001b[39m▁\u001b[39m▁\u001b[39m▁\u001b[39m▁\u001b[39m▁\u001b[39m▁\u001b[39m▁\u001b[39m▁\u001b[39m▁\u001b[39m▁\u001b[39m▁\u001b[39m▁\u001b[39m▁\u001b[39m▁\u001b[39m▁\u001b[39m▁\u001b[39m▁\u001b[39m▁\u001b[39m▁\u001b[39m█\u001b[39m \u001b[39m▁\n",
       "  509 ms\u001b[90m           Histogram: frequency by time\u001b[39m          940 ms \u001b[0m\u001b[1m<\u001b[22m\n",
       "\n",
       " Memory estimate\u001b[90m: \u001b[39m\u001b[33m82.87 MiB\u001b[39m, allocs estimate\u001b[90m: \u001b[39m\u001b[33m1353\u001b[39m."
      ]
     },
     "execution_count": 66,
     "metadata": {},
     "output_type": "execute_result"
    }
   ],
   "source": [
    "@benchmark begin \n",
    "    transform1(pheno_y, geno, kinship);\n",
    "    transform2(y0, X0, lambda0);\n",
    "    pmap(x -> scan_distributed_block(r0perm, X00, x), blocks_partitions);\n",
    "end"
   ]
  },
  {
   "cell_type": "code",
   "execution_count": 67,
   "id": "f25a490f-335b-4cba-8a55-882d327e2286",
   "metadata": {},
   "outputs": [
    {
     "data": {
      "text/plain": [
       "BenchmarkTools.Trial: 2 samples with 1 evaluation.\n",
       " Range \u001b[90m(\u001b[39m\u001b[36m\u001b[1mmin\u001b[22m\u001b[39m … \u001b[35mmax\u001b[39m\u001b[90m):  \u001b[39m\u001b[36m\u001b[1m2.495 s\u001b[22m\u001b[39m … \u001b[35m  2.520 s\u001b[39m  \u001b[90m┊\u001b[39m GC \u001b[90m(\u001b[39mmin … max\u001b[90m): \u001b[39m2.82% … 2.89%\n",
       " Time  \u001b[90m(\u001b[39m\u001b[34m\u001b[1mmedian\u001b[22m\u001b[39m\u001b[90m):     \u001b[39m\u001b[34m\u001b[1m2.508 s              \u001b[22m\u001b[39m\u001b[90m┊\u001b[39m GC \u001b[90m(\u001b[39mmedian\u001b[90m):    \u001b[39m2.85%\n",
       " Time  \u001b[90m(\u001b[39m\u001b[32m\u001b[1mmean\u001b[22m\u001b[39m ± \u001b[32mσ\u001b[39m\u001b[90m):   \u001b[39m\u001b[32m\u001b[1m2.508 s\u001b[22m\u001b[39m ± \u001b[32m17.486 ms\u001b[39m  \u001b[90m┊\u001b[39m GC \u001b[90m(\u001b[39mmean ± σ\u001b[90m):  \u001b[39m2.85% ± 0.05%\n",
       "\n",
       "  \u001b[34m█\u001b[39m\u001b[39m \u001b[39m \u001b[39m \u001b[39m \u001b[39m \u001b[39m \u001b[39m \u001b[39m \u001b[39m \u001b[39m \u001b[39m \u001b[39m \u001b[39m \u001b[39m \u001b[39m \u001b[39m \u001b[39m \u001b[39m \u001b[39m \u001b[39m \u001b[39m \u001b[39m \u001b[39m \u001b[39m \u001b[39m \u001b[39m \u001b[39m \u001b[32m \u001b[39m\u001b[39m \u001b[39m \u001b[39m \u001b[39m \u001b[39m \u001b[39m \u001b[39m \u001b[39m \u001b[39m \u001b[39m \u001b[39m \u001b[39m \u001b[39m \u001b[39m \u001b[39m \u001b[39m \u001b[39m \u001b[39m \u001b[39m \u001b[39m \u001b[39m \u001b[39m \u001b[39m \u001b[39m \u001b[39m \u001b[39m \u001b[39m \u001b[39m█\u001b[39m \u001b[39m \n",
       "  \u001b[34m█\u001b[39m\u001b[39m▁\u001b[39m▁\u001b[39m▁\u001b[39m▁\u001b[39m▁\u001b[39m▁\u001b[39m▁\u001b[39m▁\u001b[39m▁\u001b[39m▁\u001b[39m▁\u001b[39m▁\u001b[39m▁\u001b[39m▁\u001b[39m▁\u001b[39m▁\u001b[39m▁\u001b[39m▁\u001b[39m▁\u001b[39m▁\u001b[39m▁\u001b[39m▁\u001b[39m▁\u001b[39m▁\u001b[39m▁\u001b[39m▁\u001b[39m▁\u001b[32m▁\u001b[39m\u001b[39m▁\u001b[39m▁\u001b[39m▁\u001b[39m▁\u001b[39m▁\u001b[39m▁\u001b[39m▁\u001b[39m▁\u001b[39m▁\u001b[39m▁\u001b[39m▁\u001b[39m▁\u001b[39m▁\u001b[39m▁\u001b[39m▁\u001b[39m▁\u001b[39m▁\u001b[39m▁\u001b[39m▁\u001b[39m▁\u001b[39m▁\u001b[39m▁\u001b[39m▁\u001b[39m▁\u001b[39m▁\u001b[39m▁\u001b[39m▁\u001b[39m█\u001b[39m \u001b[39m▁\n",
       "  2.5 s\u001b[90m          Histogram: frequency by time\u001b[39m        2.52 s \u001b[0m\u001b[1m<\u001b[22m\n",
       "\n",
       " Memory estimate\u001b[90m: \u001b[39m\u001b[33m13.30 GiB\u001b[39m, allocs estimate\u001b[90m: \u001b[39m\u001b[33m74635\u001b[39m."
      ]
     },
     "execution_count": 67,
     "metadata": {},
     "output_type": "execute_result"
    }
   ],
   "source": [
    "@benchmark scan_perms2(pheno_y, geno, kinship; nperms = 1000, rndseed = 0, original = true)"
   ]
  },
  {
   "cell_type": "code",
   "execution_count": 68,
   "id": "1485871f-839b-4886-a75e-8b684aa587e6",
   "metadata": {},
   "outputs": [
    {
     "data": {
      "text/plain": [
       "10-element Vector{Int64}:\n",
       " 29\n",
       " 58\n",
       " 15\n",
       " 87\n",
       " 23\n",
       " 48\n",
       "  8\n",
       " 96\n",
       " 21\n",
       " 53"
      ]
     },
     "execution_count": 68,
     "metadata": {},
     "output_type": "execute_result"
    }
   ],
   "source": [
    "seeds_list"
   ]
  },
  {
   "cell_type": "code",
   "execution_count": 69,
   "id": "00822666-e195-40ec-b0b4-f44556575cdc",
   "metadata": {},
   "outputs": [
    {
     "data": {
      "text/plain": [
       "BenchmarkTools.Trial: 7 samples with 1 evaluation.\n",
       " Range \u001b[90m(\u001b[39m\u001b[36m\u001b[1mmin\u001b[22m\u001b[39m … \u001b[35mmax\u001b[39m\u001b[90m):  \u001b[39m\u001b[36m\u001b[1m521.952 ms\u001b[22m\u001b[39m … \u001b[35m879.590 ms\u001b[39m  \u001b[90m┊\u001b[39m GC \u001b[90m(\u001b[39mmin … max\u001b[90m): \u001b[39m0.00% … 0.00%\n",
       " Time  \u001b[90m(\u001b[39m\u001b[34m\u001b[1mmedian\u001b[22m\u001b[39m\u001b[90m):     \u001b[39m\u001b[34m\u001b[1m757.438 ms               \u001b[22m\u001b[39m\u001b[90m┊\u001b[39m GC \u001b[90m(\u001b[39mmedian\u001b[90m):    \u001b[39m0.00%\n",
       " Time  \u001b[90m(\u001b[39m\u001b[32m\u001b[1mmean\u001b[22m\u001b[39m ± \u001b[32mσ\u001b[39m\u001b[90m):   \u001b[39m\u001b[32m\u001b[1m738.942 ms\u001b[22m\u001b[39m ± \u001b[32m108.022 ms\u001b[39m  \u001b[90m┊\u001b[39m GC \u001b[90m(\u001b[39mmean ± σ\u001b[90m):  \u001b[39m0.00% ± 0.00%\n",
       "\n",
       "  \u001b[39m▁\u001b[39m \u001b[39m \u001b[39m \u001b[39m \u001b[39m \u001b[39m \u001b[39m \u001b[39m \u001b[39m \u001b[39m \u001b[39m \u001b[39m \u001b[39m \u001b[39m \u001b[39m \u001b[39m \u001b[39m \u001b[39m \u001b[39m \u001b[39m \u001b[39m \u001b[39m \u001b[39m \u001b[39m \u001b[39m \u001b[39m \u001b[39m \u001b[39m \u001b[39m \u001b[39m \u001b[39m \u001b[39m \u001b[39m \u001b[39m \u001b[39m▁\u001b[39m▁\u001b[34m \u001b[39m\u001b[39m \u001b[39m \u001b[39m█\u001b[39m \u001b[39m \u001b[39m \u001b[39m \u001b[39m▁\u001b[39m \u001b[39m \u001b[39m \u001b[39m \u001b[39m \u001b[39m \u001b[39m \u001b[39m \u001b[39m \u001b[39m \u001b[39m \u001b[39m \u001b[39m \u001b[39m \u001b[39m▁\u001b[39m \u001b[39m \n",
       "  \u001b[39m█\u001b[39m▁\u001b[39m▁\u001b[39m▁\u001b[39m▁\u001b[39m▁\u001b[39m▁\u001b[39m▁\u001b[39m▁\u001b[39m▁\u001b[39m▁\u001b[39m▁\u001b[39m▁\u001b[39m▁\u001b[39m▁\u001b[39m▁\u001b[39m▁\u001b[39m▁\u001b[39m▁\u001b[39m▁\u001b[39m▁\u001b[39m▁\u001b[39m▁\u001b[39m▁\u001b[39m▁\u001b[39m▁\u001b[39m▁\u001b[39m▁\u001b[39m▁\u001b[39m▁\u001b[39m▁\u001b[39m▁\u001b[39m▁\u001b[39m▁\u001b[39m▁\u001b[39m█\u001b[39m█\u001b[34m▁\u001b[39m\u001b[39m▁\u001b[39m▁\u001b[39m█\u001b[39m▁\u001b[39m▁\u001b[39m▁\u001b[39m▁\u001b[39m█\u001b[39m▁\u001b[39m▁\u001b[39m▁\u001b[39m▁\u001b[39m▁\u001b[39m▁\u001b[39m▁\u001b[39m▁\u001b[39m▁\u001b[39m▁\u001b[39m▁\u001b[39m▁\u001b[39m▁\u001b[39m▁\u001b[39m█\u001b[39m \u001b[39m▁\n",
       "  522 ms\u001b[90m           Histogram: frequency by time\u001b[39m          880 ms \u001b[0m\u001b[1m<\u001b[22m\n",
       "\n",
       " Memory estimate\u001b[90m: \u001b[39m\u001b[33m55.90 MiB\u001b[39m, allocs estimate\u001b[90m: \u001b[39m\u001b[33m1010\u001b[39m."
      ]
     },
     "execution_count": 69,
     "metadata": {},
     "output_type": "execute_result"
    }
   ],
   "source": [
    "@benchmark pmap(x -> scan_distributed(y0, X0, lambda0; nperms = 50, rndseed = x, original = false), seeds_list)"
   ]
  },
  {
   "cell_type": "code",
   "execution_count": null,
   "id": "d04bc17b-10c9-4060-98ec-e3b9b43d690e",
   "metadata": {},
   "outputs": [],
   "source": []
  },
  {
   "cell_type": "code",
   "execution_count": null,
   "id": "153031ba-608e-4912-a531-717c36bb9498",
   "metadata": {},
   "outputs": [],
   "source": []
  },
  {
   "cell_type": "code",
   "execution_count": null,
   "id": "b4d175d4-0be3-42ad-bf94-2605cbec8c16",
   "metadata": {},
   "outputs": [],
   "source": []
  },
  {
   "cell_type": "markdown",
   "id": "03f5478b-eca1-4b1b-a5aa-87aeee194cc4",
   "metadata": {},
   "source": [
    "## Compare times for different choices of nperms and block sizes:"
   ]
  },
  {
   "cell_type": "code",
   "execution_count": 70,
   "id": "1e2bf502-8d14-4d18-bb97-43f363e299ea",
   "metadata": {},
   "outputs": [],
   "source": [
    "r0perm = transform3(r0; nperms = 1000, rndseed = 0, original = false);"
   ]
  },
  {
   "cell_type": "code",
   "execution_count": 71,
   "id": "d4597ba2-7bfe-419d-9a38-3f546b047621",
   "metadata": {},
   "outputs": [],
   "source": [
    "@everywhere nperms_list = [50, 100, 200, 500, 1000];\n",
    "@everywhere bsizes_list = [100, 300, 500, 600, 1000];"
   ]
  },
  {
   "cell_type": "code",
   "execution_count": 72,
   "id": "0948d1eb-f4c9-464f-8d73-5b1d6211f2d7",
   "metadata": {},
   "outputs": [],
   "source": [
    "runtimes_nperms = Array{Float64, 1}(undef, length(nperms_list));\n",
    "runtimes_bsizes = Array{Float64, 1}(undef, length(bsizes_list));"
   ]
  },
  {
   "cell_type": "code",
   "execution_count": 73,
   "id": "1d7bb5bb-6792-461d-a5b8-f0f06e00d40d",
   "metadata": {},
   "outputs": [
    {
     "data": {
      "text/plain": [
       "21-element Vector{Int64}:\n",
       "  1\n",
       "  2\n",
       "  3\n",
       "  4\n",
       "  5\n",
       "  6\n",
       "  7\n",
       "  8\n",
       "  9\n",
       " 10\n",
       " 11\n",
       " 12\n",
       " 13\n",
       " 14\n",
       " 15\n",
       " 16\n",
       " 17\n",
       " 18\n",
       " 19\n",
       " 20\n",
       " 21"
      ]
     },
     "execution_count": 73,
     "metadata": {},
     "output_type": "execute_result"
    }
   ],
   "source": [
    "procs() # check number of procs active rn"
   ]
  },
  {
   "cell_type": "code",
   "execution_count": 74,
   "id": "d230c2ce-dc96-4dd0-8347-da782f95504a",
   "metadata": {},
   "outputs": [
    {
     "data": {
      "text/plain": [
       "15-element Vector{UnitRange{Int64}}:\n",
       " 1:500\n",
       " 501:1000\n",
       " 1001:1500\n",
       " 1501:2000\n",
       " 2001:2500\n",
       " 2501:3000\n",
       " 3001:3500\n",
       " 3501:4000\n",
       " 4001:4500\n",
       " 4501:5000\n",
       " 5001:5500\n",
       " 5501:6000\n",
       " 6001:6500\n",
       " 6501:7000\n",
       " 7001:7321"
      ]
     },
     "execution_count": 74,
     "metadata": {},
     "output_type": "execute_result"
    }
   ],
   "source": [
    "blocks_partitions = partition_array_indices(p, 500)"
   ]
  },
  {
   "cell_type": "code",
   "execution_count": 75,
   "id": "c337fed9-6b67-493a-a30d-6b4e83fde581",
   "metadata": {},
   "outputs": [
    {
     "data": {
      "text/plain": [
       "(79, 1000)"
      ]
     },
     "execution_count": 75,
     "metadata": {},
     "output_type": "execute_result"
    }
   ],
   "source": [
    "size(r0perm)"
   ]
  },
  {
   "cell_type": "code",
   "execution_count": 76,
   "id": "9e5f402d-1b9d-419e-8f9f-2913fe56cd7e",
   "metadata": {},
   "outputs": [
    {
     "data": {
      "text/plain": [
       "BenchmarkTools.Trial: 9 samples with 1 evaluation.\n",
       " Range \u001b[90m(\u001b[39m\u001b[36m\u001b[1mmin\u001b[22m\u001b[39m … \u001b[35mmax\u001b[39m\u001b[90m):  \u001b[39m\u001b[36m\u001b[1m444.367 ms\u001b[22m\u001b[39m … \u001b[35m894.241 ms\u001b[39m  \u001b[90m┊\u001b[39m GC \u001b[90m(\u001b[39mmin … max\u001b[90m): \u001b[39m0.00% … 0.00%\n",
       " Time  \u001b[90m(\u001b[39m\u001b[34m\u001b[1mmedian\u001b[22m\u001b[39m\u001b[90m):     \u001b[39m\u001b[34m\u001b[1m627.615 ms               \u001b[22m\u001b[39m\u001b[90m┊\u001b[39m GC \u001b[90m(\u001b[39mmedian\u001b[90m):    \u001b[39m0.00%\n",
       " Time  \u001b[90m(\u001b[39m\u001b[32m\u001b[1mmean\u001b[22m\u001b[39m ± \u001b[32mσ\u001b[39m\u001b[90m):   \u001b[39m\u001b[32m\u001b[1m642.234 ms\u001b[22m\u001b[39m ± \u001b[32m159.331 ms\u001b[39m  \u001b[90m┊\u001b[39m GC \u001b[90m(\u001b[39mmean ± σ\u001b[90m):  \u001b[39m0.00% ± 0.00%\n",
       "\n",
       "  \u001b[39m█\u001b[39m \u001b[39m \u001b[39m█\u001b[39m \u001b[39m \u001b[39m \u001b[39m \u001b[39m \u001b[39m \u001b[39m█\u001b[39m \u001b[39m█\u001b[34m \u001b[39m\u001b[39m \u001b[39m \u001b[39m \u001b[39m \u001b[39m \u001b[39m \u001b[39m \u001b[39m \u001b[39m \u001b[39m \u001b[39m█\u001b[39m \u001b[39m \u001b[32m \u001b[39m\u001b[39m \u001b[39m \u001b[39m \u001b[39m \u001b[39m \u001b[39m \u001b[39m \u001b[39m \u001b[39m \u001b[39m \u001b[39m \u001b[39m█\u001b[39m \u001b[39m█\u001b[39m \u001b[39m \u001b[39m \u001b[39m \u001b[39m \u001b[39m█\u001b[39m \u001b[39m \u001b[39m \u001b[39m \u001b[39m \u001b[39m \u001b[39m \u001b[39m \u001b[39m \u001b[39m \u001b[39m \u001b[39m \u001b[39m█\u001b[39m \u001b[39m \n",
       "  \u001b[39m█\u001b[39m▁\u001b[39m▁\u001b[39m█\u001b[39m▁\u001b[39m▁\u001b[39m▁\u001b[39m▁\u001b[39m▁\u001b[39m▁\u001b[39m█\u001b[39m▁\u001b[39m█\u001b[34m▁\u001b[39m\u001b[39m▁\u001b[39m▁\u001b[39m▁\u001b[39m▁\u001b[39m▁\u001b[39m▁\u001b[39m▁\u001b[39m▁\u001b[39m▁\u001b[39m▁\u001b[39m█\u001b[39m▁\u001b[39m▁\u001b[32m▁\u001b[39m\u001b[39m▁\u001b[39m▁\u001b[39m▁\u001b[39m▁\u001b[39m▁\u001b[39m▁\u001b[39m▁\u001b[39m▁\u001b[39m▁\u001b[39m▁\u001b[39m▁\u001b[39m█\u001b[39m▁\u001b[39m█\u001b[39m▁\u001b[39m▁\u001b[39m▁\u001b[39m▁\u001b[39m▁\u001b[39m█\u001b[39m▁\u001b[39m▁\u001b[39m▁\u001b[39m▁\u001b[39m▁\u001b[39m▁\u001b[39m▁\u001b[39m▁\u001b[39m▁\u001b[39m▁\u001b[39m▁\u001b[39m▁\u001b[39m█\u001b[39m \u001b[39m▁\n",
       "  444 ms\u001b[90m           Histogram: frequency by time\u001b[39m          894 ms \u001b[0m\u001b[1m<\u001b[22m\n",
       "\n",
       " Memory estimate\u001b[90m: \u001b[39m\u001b[33m55.91 MiB\u001b[39m, allocs estimate\u001b[90m: \u001b[39m\u001b[33m1420\u001b[39m."
      ]
     },
     "execution_count": 76,
     "metadata": {},
     "output_type": "execute_result"
    }
   ],
   "source": [
    "@benchmark pmap(x -> scan_distributed_block(r0perm, X00, x), blocks_partitions)"
   ]
  },
  {
   "cell_type": "code",
   "execution_count": 77,
   "id": "0fc26abe-0fa4-418c-874e-e888fbff9e96",
   "metadata": {},
   "outputs": [],
   "source": [
    "for i in 1:length(nperms_list)\n",
    "    \n",
    "    np = nperms_list[i];\n",
    "    nseeds = Int(1000/np);\n",
    "    \n",
    "    seeds_list = StatsBase.sample(1:100, nseeds; replace = false)\n",
    "    b = @benchmark pmap(x -> scan_distributed(y0, X0, lambda0; nperms = $np, rndseed = x, original = false), seeds_list);\n",
    "    b = median(b)\n",
    "    \n",
    "    runtimes_nperms[i] = time(b)/1e9\n",
    "    \n",
    "end"
   ]
  },
  {
   "cell_type": "code",
   "execution_count": 78,
   "id": "066ee0a6-7581-474f-bec5-82d0e2b48ef8",
   "metadata": {},
   "outputs": [],
   "source": [
    "for i in 1:length(bsizes_list)\n",
    "    \n",
    "    bs = bsizes_list[i];\n",
    "    \n",
    "    blocks_partitions = partition_array_indices(p, bs);\n",
    "\n",
    "    \n",
    "    b = @benchmark pmap(x -> scan_distributed_block(r0perm, X00, x), blocks_partitions);\n",
    "    b = median(b)\n",
    "    \n",
    "    runtimes_bsizes[i] = time(b)/1e9\n",
    "    \n",
    "end"
   ]
  },
  {
   "cell_type": "code",
   "execution_count": 79,
   "id": "5c928a88-0223-4c5b-abbf-1e48c3dd35f0",
   "metadata": {},
   "outputs": [
    {
     "data": {
      "image/svg+xml": [
       "<?xml version=\"1.0\" encoding=\"utf-8\"?>\n",
       "<svg xmlns=\"http://www.w3.org/2000/svg\" xmlns:xlink=\"http://www.w3.org/1999/xlink\" width=\"600\" height=\"400\" viewBox=\"0 0 2400 1600\">\n",
       "<defs>\n",
       "  <clipPath id=\"clip600\">\n",
       "    <rect x=\"0\" y=\"0\" width=\"2400\" height=\"1600\"/>\n",
       "  </clipPath>\n",
       "</defs>\n",
       "<path clip-path=\"url(#clip600)\" d=\"\n",
       "M0 1600 L2400 1600 L2400 0 L0 0  Z\n",
       "  \" fill=\"#ffffff\" fill-rule=\"evenodd\" fill-opacity=\"1\"/>\n",
       "<defs>\n",
       "  <clipPath id=\"clip601\">\n",
       "    <rect x=\"480\" y=\"0\" width=\"1681\" height=\"1600\"/>\n",
       "  </clipPath>\n",
       "</defs>\n",
       "<path clip-path=\"url(#clip600)\" d=\"\n",
       "M219.033 1423.18 L2352.76 1423.18 L2352.76 47.2441 L219.033 47.2441  Z\n",
       "  \" fill=\"#ffffff\" fill-rule=\"evenodd\" fill-opacity=\"1\"/>\n",
       "<defs>\n",
       "  <clipPath id=\"clip602\">\n",
       "    <rect x=\"219\" y=\"47\" width=\"2135\" height=\"1377\"/>\n",
       "  </clipPath>\n",
       "</defs>\n",
       "<polyline clip-path=\"url(#clip602)\" style=\"stroke:#000000; stroke-linecap:round; stroke-linejoin:round; stroke-width:2; stroke-opacity:0.1; fill:none\" points=\"\n",
       "  597.255,1423.18 597.255,47.2441 \n",
       "  \"/>\n",
       "<polyline clip-path=\"url(#clip602)\" style=\"stroke:#000000; stroke-linecap:round; stroke-linejoin:round; stroke-width:2; stroke-opacity:0.1; fill:none\" points=\"\n",
       "  1021.03,1423.18 1021.03,47.2441 \n",
       "  \"/>\n",
       "<polyline clip-path=\"url(#clip602)\" style=\"stroke:#000000; stroke-linecap:round; stroke-linejoin:round; stroke-width:2; stroke-opacity:0.1; fill:none\" points=\"\n",
       "  1444.81,1423.18 1444.81,47.2441 \n",
       "  \"/>\n",
       "<polyline clip-path=\"url(#clip602)\" style=\"stroke:#000000; stroke-linecap:round; stroke-linejoin:round; stroke-width:2; stroke-opacity:0.1; fill:none\" points=\"\n",
       "  1868.59,1423.18 1868.59,47.2441 \n",
       "  \"/>\n",
       "<polyline clip-path=\"url(#clip602)\" style=\"stroke:#000000; stroke-linecap:round; stroke-linejoin:round; stroke-width:2; stroke-opacity:0.1; fill:none\" points=\"\n",
       "  2292.37,1423.18 2292.37,47.2441 \n",
       "  \"/>\n",
       "<polyline clip-path=\"url(#clip600)\" style=\"stroke:#000000; stroke-linecap:round; stroke-linejoin:round; stroke-width:4; stroke-opacity:1; fill:none\" points=\"\n",
       "  219.033,1423.18 2352.76,1423.18 \n",
       "  \"/>\n",
       "<polyline clip-path=\"url(#clip600)\" style=\"stroke:#000000; stroke-linecap:round; stroke-linejoin:round; stroke-width:4; stroke-opacity:1; fill:none\" points=\"\n",
       "  597.255,1423.18 597.255,1404.28 \n",
       "  \"/>\n",
       "<polyline clip-path=\"url(#clip600)\" style=\"stroke:#000000; stroke-linecap:round; stroke-linejoin:round; stroke-width:4; stroke-opacity:1; fill:none\" points=\"\n",
       "  1021.03,1423.18 1021.03,1404.28 \n",
       "  \"/>\n",
       "<polyline clip-path=\"url(#clip600)\" style=\"stroke:#000000; stroke-linecap:round; stroke-linejoin:round; stroke-width:4; stroke-opacity:1; fill:none\" points=\"\n",
       "  1444.81,1423.18 1444.81,1404.28 \n",
       "  \"/>\n",
       "<polyline clip-path=\"url(#clip600)\" style=\"stroke:#000000; stroke-linecap:round; stroke-linejoin:round; stroke-width:4; stroke-opacity:1; fill:none\" points=\"\n",
       "  1868.59,1423.18 1868.59,1404.28 \n",
       "  \"/>\n",
       "<polyline clip-path=\"url(#clip600)\" style=\"stroke:#000000; stroke-linecap:round; stroke-linejoin:round; stroke-width:4; stroke-opacity:1; fill:none\" points=\"\n",
       "  2292.37,1423.18 2292.37,1404.28 \n",
       "  \"/>\n",
       "<path clip-path=\"url(#clip600)\" d=\"M560.947 1481.64 L577.267 1481.64 L577.267 1485.58 L555.322 1485.58 L555.322 1481.64 Q557.984 1478.89 562.568 1474.26 Q567.174 1469.61 568.355 1468.27 Q570.6 1465.74 571.48 1464.01 Q572.382 1462.25 572.382 1460.56 Q572.382 1457.8 570.438 1456.07 Q568.517 1454.33 565.415 1454.33 Q563.216 1454.33 560.762 1455.09 Q558.332 1455.86 555.554 1457.41 L555.554 1452.69 Q558.378 1451.55 560.832 1450.97 Q563.285 1450.39 565.322 1450.39 Q570.693 1450.39 573.887 1453.08 Q577.081 1455.77 577.081 1460.26 Q577.081 1462.39 576.271 1464.31 Q575.484 1466.2 573.378 1468.8 Q572.799 1469.47 569.697 1472.69 Q566.595 1475.88 560.947 1481.64 Z\" fill=\"#000000\" fill-rule=\"evenodd\" fill-opacity=\"1\" /><path clip-path=\"url(#clip600)\" d=\"M597.081 1454.1 Q593.47 1454.1 591.642 1457.66 Q589.836 1461.2 589.836 1468.33 Q589.836 1475.44 591.642 1479.01 Q593.47 1482.55 597.081 1482.55 Q600.716 1482.55 602.521 1479.01 Q604.35 1475.44 604.35 1468.33 Q604.35 1461.2 602.521 1457.66 Q600.716 1454.1 597.081 1454.1 M597.081 1450.39 Q602.891 1450.39 605.947 1455 Q609.026 1459.58 609.026 1468.33 Q609.026 1477.06 605.947 1481.67 Q602.891 1486.25 597.081 1486.25 Q591.271 1486.25 588.192 1481.67 Q585.137 1477.06 585.137 1468.33 Q585.137 1459.58 588.192 1455 Q591.271 1450.39 597.081 1450.39 Z\" fill=\"#000000\" fill-rule=\"evenodd\" fill-opacity=\"1\" /><path clip-path=\"url(#clip600)\" d=\"M627.243 1454.1 Q623.632 1454.1 621.803 1457.66 Q619.998 1461.2 619.998 1468.33 Q619.998 1475.44 621.803 1479.01 Q623.632 1482.55 627.243 1482.55 Q630.877 1482.55 632.683 1479.01 Q634.512 1475.44 634.512 1468.33 Q634.512 1461.2 632.683 1457.66 Q630.877 1454.1 627.243 1454.1 M627.243 1450.39 Q633.053 1450.39 636.109 1455 Q639.188 1459.58 639.188 1468.33 Q639.188 1477.06 636.109 1481.67 Q633.053 1486.25 627.243 1486.25 Q621.433 1486.25 618.354 1481.67 Q615.299 1477.06 615.299 1468.33 Q615.299 1459.58 618.354 1455 Q621.433 1450.39 627.243 1450.39 Z\" fill=\"#000000\" fill-rule=\"evenodd\" fill-opacity=\"1\" /><path clip-path=\"url(#clip600)\" d=\"M994.124 1455.09 L982.318 1473.54 L994.124 1473.54 L994.124 1455.09 M992.897 1451.02 L998.776 1451.02 L998.776 1473.54 L1003.71 1473.54 L1003.71 1477.43 L998.776 1477.43 L998.776 1485.58 L994.124 1485.58 L994.124 1477.43 L978.522 1477.43 L978.522 1472.92 L992.897 1451.02 Z\" fill=\"#000000\" fill-rule=\"evenodd\" fill-opacity=\"1\" /><path clip-path=\"url(#clip600)\" d=\"M1021.44 1454.1 Q1017.83 1454.1 1016 1457.66 Q1014.19 1461.2 1014.19 1468.33 Q1014.19 1475.44 1016 1479.01 Q1017.83 1482.55 1021.44 1482.55 Q1025.07 1482.55 1026.88 1479.01 Q1028.71 1475.44 1028.71 1468.33 Q1028.71 1461.2 1026.88 1457.66 Q1025.07 1454.1 1021.44 1454.1 M1021.44 1450.39 Q1027.25 1450.39 1030.3 1455 Q1033.38 1459.58 1033.38 1468.33 Q1033.38 1477.06 1030.3 1481.67 Q1027.25 1486.25 1021.44 1486.25 Q1015.63 1486.25 1012.55 1481.67 Q1009.49 1477.06 1009.49 1468.33 Q1009.49 1459.58 1012.55 1455 Q1015.63 1450.39 1021.44 1450.39 Z\" fill=\"#000000\" fill-rule=\"evenodd\" fill-opacity=\"1\" /><path clip-path=\"url(#clip600)\" d=\"M1051.6 1454.1 Q1047.99 1454.1 1046.16 1457.66 Q1044.35 1461.2 1044.35 1468.33 Q1044.35 1475.44 1046.16 1479.01 Q1047.99 1482.55 1051.6 1482.55 Q1055.23 1482.55 1057.04 1479.01 Q1058.87 1475.44 1058.87 1468.33 Q1058.87 1461.2 1057.04 1457.66 Q1055.23 1454.1 1051.6 1454.1 M1051.6 1450.39 Q1057.41 1450.39 1060.47 1455 Q1063.54 1459.58 1063.54 1468.33 Q1063.54 1477.06 1060.47 1481.67 Q1057.41 1486.25 1051.6 1486.25 Q1045.79 1486.25 1042.71 1481.67 Q1039.66 1477.06 1039.66 1468.33 Q1039.66 1459.58 1042.71 1455 Q1045.79 1450.39 1051.6 1450.39 Z\" fill=\"#000000\" fill-rule=\"evenodd\" fill-opacity=\"1\" /><path clip-path=\"url(#clip600)\" d=\"M1415.14 1466.44 Q1411.99 1466.44 1410.14 1468.59 Q1408.31 1470.74 1408.31 1474.49 Q1408.31 1478.22 1410.14 1480.39 Q1411.99 1482.55 1415.14 1482.55 Q1418.28 1482.55 1420.11 1480.39 Q1421.96 1478.22 1421.96 1474.49 Q1421.96 1470.74 1420.11 1468.59 Q1418.28 1466.44 1415.14 1466.44 M1424.42 1451.78 L1424.42 1456.04 Q1422.66 1455.21 1420.85 1454.77 Q1419.07 1454.33 1417.31 1454.33 Q1412.68 1454.33 1410.23 1457.45 Q1407.8 1460.58 1407.45 1466.9 Q1408.82 1464.89 1410.88 1463.82 Q1412.94 1462.73 1415.41 1462.73 Q1420.62 1462.73 1423.63 1465.9 Q1426.66 1469.05 1426.66 1474.49 Q1426.66 1479.82 1423.52 1483.03 Q1420.37 1486.25 1415.14 1486.25 Q1409.14 1486.25 1405.97 1481.67 Q1402.8 1477.06 1402.8 1468.33 Q1402.8 1460.14 1406.69 1455.28 Q1410.58 1450.39 1417.13 1450.39 Q1418.89 1450.39 1420.67 1450.74 Q1422.47 1451.09 1424.42 1451.78 Z\" fill=\"#000000\" fill-rule=\"evenodd\" fill-opacity=\"1\" /><path clip-path=\"url(#clip600)\" d=\"M1444.72 1454.1 Q1441.11 1454.1 1439.28 1457.66 Q1437.47 1461.2 1437.47 1468.33 Q1437.47 1475.44 1439.28 1479.01 Q1441.11 1482.55 1444.72 1482.55 Q1448.35 1482.55 1450.16 1479.01 Q1451.99 1475.44 1451.99 1468.33 Q1451.99 1461.2 1450.16 1457.66 Q1448.35 1454.1 1444.72 1454.1 M1444.72 1450.39 Q1450.53 1450.39 1453.58 1455 Q1456.66 1459.58 1456.66 1468.33 Q1456.66 1477.06 1453.58 1481.67 Q1450.53 1486.25 1444.72 1486.25 Q1438.91 1486.25 1435.83 1481.67 Q1432.77 1477.06 1432.77 1468.33 Q1432.77 1459.58 1435.83 1455 Q1438.91 1450.39 1444.72 1450.39 Z\" fill=\"#000000\" fill-rule=\"evenodd\" fill-opacity=\"1\" /><path clip-path=\"url(#clip600)\" d=\"M1474.88 1454.1 Q1471.27 1454.1 1469.44 1457.66 Q1467.64 1461.2 1467.64 1468.33 Q1467.64 1475.44 1469.44 1479.01 Q1471.27 1482.55 1474.88 1482.55 Q1478.51 1482.55 1480.32 1479.01 Q1482.15 1475.44 1482.15 1468.33 Q1482.15 1461.2 1480.32 1457.66 Q1478.51 1454.1 1474.88 1454.1 M1474.88 1450.39 Q1480.69 1450.39 1483.75 1455 Q1486.82 1459.58 1486.82 1468.33 Q1486.82 1477.06 1483.75 1481.67 Q1480.69 1486.25 1474.88 1486.25 Q1469.07 1486.25 1465.99 1481.67 Q1462.94 1477.06 1462.94 1468.33 Q1462.94 1459.58 1465.99 1455 Q1469.07 1450.39 1474.88 1450.39 Z\" fill=\"#000000\" fill-rule=\"evenodd\" fill-opacity=\"1\" /><path clip-path=\"url(#clip600)\" d=\"M1838.38 1469.17 Q1835.05 1469.17 1833.13 1470.95 Q1831.23 1472.73 1831.23 1475.86 Q1831.23 1478.98 1833.13 1480.77 Q1835.05 1482.55 1838.38 1482.55 Q1841.71 1482.55 1843.64 1480.77 Q1845.56 1478.96 1845.56 1475.86 Q1845.56 1472.73 1843.64 1470.95 Q1841.74 1469.17 1838.38 1469.17 M1833.71 1467.18 Q1830.7 1466.44 1829.01 1464.38 Q1827.34 1462.32 1827.34 1459.35 Q1827.34 1455.21 1830.28 1452.8 Q1833.24 1450.39 1838.38 1450.39 Q1843.54 1450.39 1846.48 1452.8 Q1849.42 1455.21 1849.42 1459.35 Q1849.42 1462.32 1847.73 1464.38 Q1846.07 1466.44 1843.08 1467.18 Q1846.46 1467.96 1848.33 1470.26 Q1850.23 1472.55 1850.23 1475.86 Q1850.23 1480.88 1847.15 1483.57 Q1844.1 1486.25 1838.38 1486.25 Q1832.66 1486.25 1829.58 1483.57 Q1826.53 1480.88 1826.53 1475.86 Q1826.53 1472.55 1828.43 1470.26 Q1830.33 1467.96 1833.71 1467.18 M1831.99 1459.79 Q1831.99 1462.48 1833.66 1463.98 Q1835.35 1465.49 1838.38 1465.49 Q1841.39 1465.49 1843.08 1463.98 Q1844.79 1462.48 1844.79 1459.79 Q1844.79 1457.11 1843.08 1455.6 Q1841.39 1454.1 1838.38 1454.1 Q1835.35 1454.1 1833.66 1455.6 Q1831.99 1457.11 1831.99 1459.79 Z\" fill=\"#000000\" fill-rule=\"evenodd\" fill-opacity=\"1\" /><path clip-path=\"url(#clip600)\" d=\"M1868.54 1454.1 Q1864.93 1454.1 1863.1 1457.66 Q1861.3 1461.2 1861.3 1468.33 Q1861.3 1475.44 1863.1 1479.01 Q1864.93 1482.55 1868.54 1482.55 Q1872.18 1482.55 1873.98 1479.01 Q1875.81 1475.44 1875.81 1468.33 Q1875.81 1461.2 1873.98 1457.66 Q1872.18 1454.1 1868.54 1454.1 M1868.54 1450.39 Q1874.35 1450.39 1877.41 1455 Q1880.49 1459.58 1880.49 1468.33 Q1880.49 1477.06 1877.41 1481.67 Q1874.35 1486.25 1868.54 1486.25 Q1862.73 1486.25 1859.65 1481.67 Q1856.6 1477.06 1856.6 1468.33 Q1856.6 1459.58 1859.65 1455 Q1862.73 1450.39 1868.54 1450.39 Z\" fill=\"#000000\" fill-rule=\"evenodd\" fill-opacity=\"1\" /><path clip-path=\"url(#clip600)\" d=\"M1898.7 1454.1 Q1895.09 1454.1 1893.27 1457.66 Q1891.46 1461.2 1891.46 1468.33 Q1891.46 1475.44 1893.27 1479.01 Q1895.09 1482.55 1898.7 1482.55 Q1902.34 1482.55 1904.14 1479.01 Q1905.97 1475.44 1905.97 1468.33 Q1905.97 1461.2 1904.14 1457.66 Q1902.34 1454.1 1898.7 1454.1 M1898.7 1450.39 Q1904.52 1450.39 1907.57 1455 Q1910.65 1459.58 1910.65 1468.33 Q1910.65 1477.06 1907.57 1481.67 Q1904.52 1486.25 1898.7 1486.25 Q1892.89 1486.25 1889.82 1481.67 Q1886.76 1477.06 1886.76 1468.33 Q1886.76 1459.58 1889.82 1455 Q1892.89 1450.39 1898.7 1450.39 Z\" fill=\"#000000\" fill-rule=\"evenodd\" fill-opacity=\"1\" /><path clip-path=\"url(#clip600)\" d=\"M2236.89 1481.64 L2244.53 1481.64 L2244.53 1455.28 L2236.22 1456.95 L2236.22 1452.69 L2244.49 1451.02 L2249.16 1451.02 L2249.16 1481.64 L2256.8 1481.64 L2256.8 1485.58 L2236.89 1485.58 L2236.89 1481.64 Z\" fill=\"#000000\" fill-rule=\"evenodd\" fill-opacity=\"1\" /><path clip-path=\"url(#clip600)\" d=\"M2276.24 1454.1 Q2272.63 1454.1 2270.81 1457.66 Q2269 1461.2 2269 1468.33 Q2269 1475.44 2270.81 1479.01 Q2272.63 1482.55 2276.24 1482.55 Q2279.88 1482.55 2281.68 1479.01 Q2283.51 1475.44 2283.51 1468.33 Q2283.51 1461.2 2281.68 1457.66 Q2279.88 1454.1 2276.24 1454.1 M2276.24 1450.39 Q2282.06 1450.39 2285.11 1455 Q2288.19 1459.58 2288.19 1468.33 Q2288.19 1477.06 2285.11 1481.67 Q2282.06 1486.25 2276.24 1486.25 Q2270.43 1486.25 2267.36 1481.67 Q2264.3 1477.06 2264.3 1468.33 Q2264.3 1459.58 2267.36 1455 Q2270.43 1450.39 2276.24 1450.39 Z\" fill=\"#000000\" fill-rule=\"evenodd\" fill-opacity=\"1\" /><path clip-path=\"url(#clip600)\" d=\"M2306.41 1454.1 Q2302.8 1454.1 2300.97 1457.66 Q2299.16 1461.2 2299.16 1468.33 Q2299.16 1475.44 2300.97 1479.01 Q2302.8 1482.55 2306.41 1482.55 Q2310.04 1482.55 2311.85 1479.01 Q2313.68 1475.44 2313.68 1468.33 Q2313.68 1461.2 2311.85 1457.66 Q2310.04 1454.1 2306.41 1454.1 M2306.41 1450.39 Q2312.22 1450.39 2315.27 1455 Q2318.35 1459.58 2318.35 1468.33 Q2318.35 1477.06 2315.27 1481.67 Q2312.22 1486.25 2306.41 1486.25 Q2300.6 1486.25 2297.52 1481.67 Q2294.46 1477.06 2294.46 1468.33 Q2294.46 1459.58 2297.52 1455 Q2300.6 1450.39 2306.41 1450.39 Z\" fill=\"#000000\" fill-rule=\"evenodd\" fill-opacity=\"1\" /><path clip-path=\"url(#clip600)\" d=\"M2336.57 1454.1 Q2332.96 1454.1 2331.13 1457.66 Q2329.32 1461.2 2329.32 1468.33 Q2329.32 1475.44 2331.13 1479.01 Q2332.96 1482.55 2336.57 1482.55 Q2340.2 1482.55 2342.01 1479.01 Q2343.84 1475.44 2343.84 1468.33 Q2343.84 1461.2 2342.01 1457.66 Q2340.2 1454.1 2336.57 1454.1 M2336.57 1450.39 Q2342.38 1450.39 2345.43 1455 Q2348.51 1459.58 2348.51 1468.33 Q2348.51 1477.06 2345.43 1481.67 Q2342.38 1486.25 2336.57 1486.25 Q2330.76 1486.25 2327.68 1481.67 Q2324.62 1477.06 2324.62 1468.33 Q2324.62 1459.58 2327.68 1455 Q2330.76 1450.39 2336.57 1450.39 Z\" fill=\"#000000\" fill-rule=\"evenodd\" fill-opacity=\"1\" /><path clip-path=\"url(#clip600)\" d=\"M703.671 1520.52 L712.328 1520.52 L733.399 1560.28 L733.399 1520.52 L739.637 1520.52 L739.637 1568.04 L730.98 1568.04 L709.909 1528.29 L709.909 1568.04 L703.671 1568.04 L703.671 1520.52 Z\" fill=\"#000000\" fill-rule=\"evenodd\" fill-opacity=\"1\" /><path clip-path=\"url(#clip600)\" d=\"M751.573 1553.98 L751.573 1532.4 L757.429 1532.4 L757.429 1553.75 Q757.429 1558.81 759.403 1561.36 Q761.376 1563.87 765.323 1563.87 Q770.065 1563.87 772.803 1560.85 Q775.572 1557.83 775.572 1552.61 L775.572 1532.4 L781.428 1532.4 L781.428 1568.04 L775.572 1568.04 L775.572 1562.57 Q773.439 1565.82 770.606 1567.41 Q767.805 1568.97 764.082 1568.97 Q757.939 1568.97 754.756 1565.15 Q751.573 1561.33 751.573 1553.98 M766.31 1531.54 L766.31 1531.54 Z\" fill=\"#000000\" fill-rule=\"evenodd\" fill-opacity=\"1\" /><path clip-path=\"url(#clip600)\" d=\"M821.246 1539.24 Q823.442 1535.29 826.497 1533.41 Q829.553 1531.54 833.691 1531.54 Q839.261 1531.54 842.284 1535.45 Q845.308 1539.33 845.308 1546.53 L845.308 1568.04 L839.42 1568.04 L839.42 1546.72 Q839.42 1541.59 837.605 1539.11 Q835.791 1536.63 832.067 1536.63 Q827.516 1536.63 824.874 1539.65 Q822.232 1542.68 822.232 1547.9 L822.232 1568.04 L816.344 1568.04 L816.344 1546.72 Q816.344 1541.56 814.53 1539.11 Q812.716 1536.63 808.928 1536.63 Q804.44 1536.63 801.798 1539.68 Q799.157 1542.71 799.157 1547.9 L799.157 1568.04 L793.268 1568.04 L793.268 1532.4 L799.157 1532.4 L799.157 1537.93 Q801.162 1534.66 803.963 1533.1 Q806.764 1531.54 810.615 1531.54 Q814.498 1531.54 817.203 1533.51 Q819.941 1535.48 821.246 1539.24 Z\" fill=\"#000000\" fill-rule=\"evenodd\" fill-opacity=\"1\" /><path clip-path=\"url(#clip600)\" d=\"M882.579 1550.25 Q882.579 1543.79 879.906 1540.13 Q877.264 1536.44 872.617 1536.44 Q867.97 1536.44 865.296 1540.13 Q862.655 1543.79 862.655 1550.25 Q862.655 1556.71 865.296 1560.4 Q867.97 1564.07 872.617 1564.07 Q877.264 1564.07 879.906 1560.4 Q882.579 1556.71 882.579 1550.25 M862.655 1537.81 Q864.501 1534.62 867.301 1533.1 Q870.134 1531.54 874.049 1531.54 Q880.542 1531.54 884.584 1536.69 Q888.658 1541.85 888.658 1550.25 Q888.658 1558.65 884.584 1563.81 Q880.542 1568.97 874.049 1568.97 Q870.134 1568.97 867.301 1567.44 Q864.501 1565.88 862.655 1562.7 L862.655 1568.04 L856.766 1568.04 L856.766 1518.52 L862.655 1518.52 L862.655 1537.81 Z\" fill=\"#000000\" fill-rule=\"evenodd\" fill-opacity=\"1\" /><path clip-path=\"url(#clip600)\" d=\"M928.858 1548.76 L928.858 1551.62 L901.931 1551.62 Q902.313 1557.67 905.559 1560.85 Q908.838 1564 914.662 1564 Q918.036 1564 921.187 1563.17 Q924.37 1562.35 927.489 1560.69 L927.489 1566.23 Q924.338 1567.57 921.028 1568.27 Q917.718 1568.97 914.312 1568.97 Q905.782 1568.97 900.785 1564 Q895.82 1559.04 895.82 1550.57 Q895.82 1541.82 900.53 1536.69 Q905.273 1531.54 913.294 1531.54 Q920.487 1531.54 924.656 1536.18 Q928.858 1540.8 928.858 1548.76 M923.001 1547.04 Q922.938 1542.23 920.296 1539.37 Q917.686 1536.5 913.357 1536.5 Q908.456 1536.5 905.496 1539.27 Q902.567 1542.04 902.122 1547.07 L923.001 1547.04 Z\" fill=\"#000000\" fill-rule=\"evenodd\" fill-opacity=\"1\" /><path clip-path=\"url(#clip600)\" d=\"M959.127 1537.87 Q958.14 1537.3 956.962 1537.04 Q955.817 1536.76 954.416 1536.76 Q949.451 1536.76 946.777 1540 Q944.136 1543.22 944.136 1549.27 L944.136 1568.04 L938.247 1568.04 L938.247 1532.4 L944.136 1532.4 L944.136 1537.93 Q945.982 1534.69 948.942 1533.13 Q951.902 1531.54 956.135 1531.54 Q956.74 1531.54 957.472 1531.63 Q958.204 1531.7 959.095 1531.85 L959.127 1537.87 Z\" fill=\"#000000\" fill-rule=\"evenodd\" fill-opacity=\"1\" /><path clip-path=\"url(#clip600)\" d=\"M999.804 1536.5 Q995.093 1536.5 992.356 1540.19 Q989.619 1543.85 989.619 1550.25 Q989.619 1556.65 992.324 1560.34 Q995.061 1564 999.804 1564 Q1004.48 1564 1007.22 1560.31 Q1009.96 1556.62 1009.96 1550.25 Q1009.96 1543.92 1007.22 1540.23 Q1004.48 1536.5 999.804 1536.5 M999.804 1531.54 Q1007.44 1531.54 1011.8 1536.5 Q1016.16 1541.47 1016.16 1550.25 Q1016.16 1559 1011.8 1564 Q1007.44 1568.97 999.804 1568.97 Q992.133 1568.97 987.772 1564 Q983.444 1559 983.444 1550.25 Q983.444 1541.47 987.772 1536.5 Q992.133 1531.54 999.804 1531.54 Z\" fill=\"#000000\" fill-rule=\"evenodd\" fill-opacity=\"1\" /><path clip-path=\"url(#clip600)\" d=\"M1043.92 1518.52 L1043.92 1523.39 L1038.32 1523.39 Q1035.17 1523.39 1033.92 1524.66 Q1032.71 1525.93 1032.71 1529.24 L1032.71 1532.4 L1042.36 1532.4 L1042.36 1536.95 L1032.71 1536.95 L1032.71 1568.04 L1026.83 1568.04 L1026.83 1536.95 L1021.22 1536.95 L1021.22 1532.4 L1026.83 1532.4 L1026.83 1529.91 Q1026.83 1523.96 1029.6 1521.26 Q1032.36 1518.52 1038.38 1518.52 L1043.92 1518.52 Z\" fill=\"#000000\" fill-rule=\"evenodd\" fill-opacity=\"1\" /><path clip-path=\"url(#clip600)\" d=\"M1075.21 1562.7 L1075.21 1581.6 L1069.32 1581.6 L1069.32 1532.4 L1075.21 1532.4 L1075.21 1537.81 Q1077.05 1534.62 1079.85 1533.1 Q1082.69 1531.54 1086.6 1531.54 Q1093.09 1531.54 1097.14 1536.69 Q1101.21 1541.85 1101.21 1550.25 Q1101.21 1558.65 1097.14 1563.81 Q1093.09 1568.97 1086.6 1568.97 Q1082.69 1568.97 1079.85 1567.44 Q1077.05 1565.88 1075.21 1562.7 M1095.13 1550.25 Q1095.13 1543.79 1092.46 1540.13 Q1089.81 1536.44 1085.17 1536.44 Q1080.52 1536.44 1077.85 1540.13 Q1075.21 1543.79 1075.21 1550.25 Q1075.21 1556.71 1077.85 1560.4 Q1080.52 1564.07 1085.17 1564.07 Q1089.81 1564.07 1092.46 1560.4 Q1095.13 1556.71 1095.13 1550.25 Z\" fill=\"#000000\" fill-rule=\"evenodd\" fill-opacity=\"1\" /><path clip-path=\"url(#clip600)\" d=\"M1141.41 1548.76 L1141.41 1551.62 L1114.48 1551.62 Q1114.86 1557.67 1118.11 1560.85 Q1121.39 1564 1127.21 1564 Q1130.59 1564 1133.74 1563.17 Q1136.92 1562.35 1140.04 1560.69 L1140.04 1566.23 Q1136.89 1567.57 1133.58 1568.27 Q1130.27 1568.97 1126.86 1568.97 Q1118.33 1568.97 1113.34 1564 Q1108.37 1559.04 1108.37 1550.57 Q1108.37 1541.82 1113.08 1536.69 Q1117.82 1531.54 1125.84 1531.54 Q1133.04 1531.54 1137.21 1536.18 Q1141.41 1540.8 1141.41 1548.76 M1135.55 1547.04 Q1135.49 1542.23 1132.85 1539.37 Q1130.24 1536.5 1125.91 1536.5 Q1121.01 1536.5 1118.05 1539.27 Q1115.12 1542.04 1114.67 1547.07 L1135.55 1547.04 Z\" fill=\"#000000\" fill-rule=\"evenodd\" fill-opacity=\"1\" /><path clip-path=\"url(#clip600)\" d=\"M1171.68 1537.87 Q1170.69 1537.3 1169.51 1537.04 Q1168.37 1536.76 1166.97 1536.76 Q1162 1536.76 1159.33 1540 Q1156.69 1543.22 1156.69 1549.27 L1156.69 1568.04 L1150.8 1568.04 L1150.8 1532.4 L1156.69 1532.4 L1156.69 1537.93 Q1158.53 1534.69 1161.49 1533.13 Q1164.45 1531.54 1168.69 1531.54 Q1169.29 1531.54 1170.02 1531.63 Q1170.75 1531.7 1171.65 1531.85 L1171.68 1537.87 Z\" fill=\"#000000\" fill-rule=\"evenodd\" fill-opacity=\"1\" /><path clip-path=\"url(#clip600)\" d=\"M1204.43 1539.24 Q1206.63 1535.29 1209.68 1533.41 Q1212.74 1531.54 1216.87 1531.54 Q1222.44 1531.54 1225.47 1535.45 Q1228.49 1539.33 1228.49 1546.53 L1228.49 1568.04 L1222.6 1568.04 L1222.6 1546.72 Q1222.6 1541.59 1220.79 1539.11 Q1218.97 1536.63 1215.25 1536.63 Q1210.7 1536.63 1208.06 1539.65 Q1205.42 1542.68 1205.42 1547.9 L1205.42 1568.04 L1199.53 1568.04 L1199.53 1546.72 Q1199.53 1541.56 1197.71 1539.11 Q1195.9 1536.63 1192.11 1536.63 Q1187.62 1536.63 1184.98 1539.68 Q1182.34 1542.71 1182.34 1547.9 L1182.34 1568.04 L1176.45 1568.04 L1176.45 1532.4 L1182.34 1532.4 L1182.34 1537.93 Q1184.35 1534.66 1187.15 1533.1 Q1189.95 1531.54 1193.8 1531.54 Q1197.68 1531.54 1200.39 1533.51 Q1203.12 1535.48 1204.43 1539.24 Z\" fill=\"#000000\" fill-rule=\"evenodd\" fill-opacity=\"1\" /><path clip-path=\"url(#clip600)\" d=\"M1239.57 1553.98 L1239.57 1532.4 L1245.42 1532.4 L1245.42 1553.75 Q1245.42 1558.81 1247.4 1561.36 Q1249.37 1563.87 1253.32 1563.87 Q1258.06 1563.87 1260.8 1560.85 Q1263.57 1557.83 1263.57 1552.61 L1263.57 1532.4 L1269.42 1532.4 L1269.42 1568.04 L1263.57 1568.04 L1263.57 1562.57 Q1261.43 1565.82 1258.6 1567.41 Q1255.8 1568.97 1252.08 1568.97 Q1245.93 1568.97 1242.75 1565.15 Q1239.57 1561.33 1239.57 1553.98 M1254.3 1531.54 L1254.3 1531.54 Z\" fill=\"#000000\" fill-rule=\"evenodd\" fill-opacity=\"1\" /><path clip-path=\"url(#clip600)\" d=\"M1287.28 1522.27 L1287.28 1532.4 L1299.34 1532.4 L1299.34 1536.95 L1287.28 1536.95 L1287.28 1556.3 Q1287.28 1560.66 1288.46 1561.9 Q1289.67 1563.14 1293.33 1563.14 L1299.34 1563.14 L1299.34 1568.04 L1293.33 1568.04 Q1286.55 1568.04 1283.97 1565.53 Q1281.39 1562.98 1281.39 1556.3 L1281.39 1536.95 L1277.09 1536.95 L1277.09 1532.4 L1281.39 1532.4 L1281.39 1522.27 L1287.28 1522.27 Z\" fill=\"#000000\" fill-rule=\"evenodd\" fill-opacity=\"1\" /><path clip-path=\"url(#clip600)\" d=\"M1323.25 1550.12 Q1316.15 1550.12 1313.41 1551.75 Q1310.67 1553.37 1310.67 1557.29 Q1310.67 1560.4 1312.71 1562.25 Q1314.78 1564.07 1318.31 1564.07 Q1323.18 1564.07 1326.11 1560.63 Q1329.07 1557.16 1329.07 1551.43 L1329.07 1550.12 L1323.25 1550.12 M1334.93 1547.71 L1334.93 1568.04 L1329.07 1568.04 L1329.07 1562.63 Q1327.06 1565.88 1324.07 1567.44 Q1321.08 1568.97 1316.75 1568.97 Q1311.28 1568.97 1308.03 1565.91 Q1304.82 1562.82 1304.82 1557.67 Q1304.82 1551.65 1308.83 1548.6 Q1312.87 1545.54 1320.86 1545.54 L1329.07 1545.54 L1329.07 1544.97 Q1329.07 1540.93 1326.4 1538.73 Q1323.75 1536.5 1318.95 1536.5 Q1315.89 1536.5 1313 1537.23 Q1310.1 1537.97 1307.43 1539.43 L1307.43 1534.02 Q1310.64 1532.78 1313.66 1532.17 Q1316.69 1531.54 1319.55 1531.54 Q1327.29 1531.54 1331.11 1535.55 Q1334.93 1539.56 1334.93 1547.71 Z\" fill=\"#000000\" fill-rule=\"evenodd\" fill-opacity=\"1\" /><path clip-path=\"url(#clip600)\" d=\"M1352.78 1522.27 L1352.78 1532.4 L1364.85 1532.4 L1364.85 1536.95 L1352.78 1536.95 L1352.78 1556.3 Q1352.78 1560.66 1353.96 1561.9 Q1355.17 1563.14 1358.83 1563.14 L1364.85 1563.14 L1364.85 1568.04 L1358.83 1568.04 Q1352.05 1568.04 1349.47 1565.53 Q1346.89 1562.98 1346.89 1556.3 L1346.89 1536.95 L1342.6 1536.95 L1342.6 1532.4 L1346.89 1532.4 L1346.89 1522.27 L1352.78 1522.27 Z\" fill=\"#000000\" fill-rule=\"evenodd\" fill-opacity=\"1\" /><path clip-path=\"url(#clip600)\" d=\"M1372.55 1532.4 L1378.4 1532.4 L1378.4 1568.04 L1372.55 1568.04 L1372.55 1532.4 M1372.55 1518.52 L1378.4 1518.52 L1378.4 1525.93 L1372.55 1525.93 L1372.55 1518.52 Z\" fill=\"#000000\" fill-rule=\"evenodd\" fill-opacity=\"1\" /><path clip-path=\"url(#clip600)\" d=\"M1404.47 1536.5 Q1399.76 1536.5 1397.02 1540.19 Q1394.29 1543.85 1394.29 1550.25 Q1394.29 1556.65 1396.99 1560.34 Q1399.73 1564 1404.47 1564 Q1409.15 1564 1411.89 1560.31 Q1414.62 1556.62 1414.62 1550.25 Q1414.62 1543.92 1411.89 1540.23 Q1409.15 1536.5 1404.47 1536.5 M1404.47 1531.54 Q1412.11 1531.54 1416.47 1536.5 Q1420.83 1541.47 1420.83 1550.25 Q1420.83 1559 1416.47 1564 Q1412.11 1568.97 1404.47 1568.97 Q1396.8 1568.97 1392.44 1564 Q1388.11 1559 1388.11 1550.25 Q1388.11 1541.47 1392.44 1536.5 Q1396.8 1531.54 1404.47 1531.54 Z\" fill=\"#000000\" fill-rule=\"evenodd\" fill-opacity=\"1\" /><path clip-path=\"url(#clip600)\" d=\"M1460.17 1546.53 L1460.17 1568.04 L1454.32 1568.04 L1454.32 1546.72 Q1454.32 1541.66 1452.34 1539.14 Q1450.37 1536.63 1446.42 1536.63 Q1441.68 1536.63 1438.94 1539.65 Q1436.2 1542.68 1436.2 1547.9 L1436.2 1568.04 L1430.32 1568.04 L1430.32 1532.4 L1436.2 1532.4 L1436.2 1537.93 Q1438.31 1534.72 1441.14 1533.13 Q1444 1531.54 1447.73 1531.54 Q1453.87 1531.54 1457.02 1535.36 Q1460.17 1539.14 1460.17 1546.53 Z\" fill=\"#000000\" fill-rule=\"evenodd\" fill-opacity=\"1\" /><path clip-path=\"url(#clip600)\" d=\"M1494.58 1533.45 L1494.58 1538.98 Q1492.1 1537.71 1489.42 1537.07 Q1486.75 1536.44 1483.88 1536.44 Q1479.52 1536.44 1477.33 1537.77 Q1475.16 1539.11 1475.16 1541.79 Q1475.16 1543.82 1476.72 1545 Q1478.28 1546.15 1482.99 1547.2 L1485 1547.64 Q1491.24 1548.98 1493.85 1551.43 Q1496.49 1553.85 1496.49 1558.21 Q1496.49 1563.17 1492.54 1566.07 Q1488.63 1568.97 1481.75 1568.97 Q1478.89 1568.97 1475.77 1568.39 Q1472.68 1567.85 1469.24 1566.74 L1469.24 1560.69 Q1472.49 1562.38 1475.64 1563.24 Q1478.79 1564.07 1481.88 1564.07 Q1486.02 1564.07 1488.24 1562.66 Q1490.47 1561.23 1490.47 1558.65 Q1490.47 1556.27 1488.85 1554.99 Q1487.26 1553.72 1481.81 1552.54 L1479.78 1552.07 Q1474.34 1550.92 1471.92 1548.56 Q1469.5 1546.18 1469.5 1542.04 Q1469.5 1537.01 1473.06 1534.27 Q1476.63 1531.54 1483.18 1531.54 Q1486.43 1531.54 1489.29 1532.01 Q1492.16 1532.49 1494.58 1533.45 Z\" fill=\"#000000\" fill-rule=\"evenodd\" fill-opacity=\"1\" /><path clip-path=\"url(#clip600)\" d=\"M1549.99 1537.81 L1549.99 1518.52 L1555.85 1518.52 L1555.85 1568.04 L1549.99 1568.04 L1549.99 1562.7 Q1548.15 1565.88 1545.31 1567.44 Q1542.51 1568.97 1538.57 1568.97 Q1532.1 1568.97 1528.03 1563.81 Q1523.99 1558.65 1523.99 1550.25 Q1523.99 1541.85 1528.03 1536.69 Q1532.1 1531.54 1538.57 1531.54 Q1542.51 1531.54 1545.31 1533.1 Q1548.15 1534.62 1549.99 1537.81 M1530.04 1550.25 Q1530.04 1556.71 1532.68 1560.4 Q1535.35 1564.07 1540 1564.07 Q1544.64 1564.07 1547.32 1560.4 Q1549.99 1556.71 1549.99 1550.25 Q1549.99 1543.79 1547.32 1540.13 Q1544.64 1536.44 1540 1536.44 Q1535.35 1536.44 1532.68 1540.13 Q1530.04 1543.79 1530.04 1550.25 Z\" fill=\"#000000\" fill-rule=\"evenodd\" fill-opacity=\"1\" /><path clip-path=\"url(#clip600)\" d=\"M1567.91 1532.4 L1573.77 1532.4 L1573.77 1568.04 L1567.91 1568.04 L1567.91 1532.4 M1567.91 1518.52 L1573.77 1518.52 L1573.77 1525.93 L1567.91 1525.93 L1567.91 1518.52 Z\" fill=\"#000000\" fill-rule=\"evenodd\" fill-opacity=\"1\" /><path clip-path=\"url(#clip600)\" d=\"M1608.75 1533.45 L1608.75 1538.98 Q1606.26 1537.71 1603.59 1537.07 Q1600.92 1536.44 1598.05 1536.44 Q1593.69 1536.44 1591.5 1537.77 Q1589.33 1539.11 1589.33 1541.79 Q1589.33 1543.82 1590.89 1545 Q1592.45 1546.15 1597.16 1547.2 L1599.17 1547.64 Q1605.41 1548.98 1608.02 1551.43 Q1610.66 1553.85 1610.66 1558.21 Q1610.66 1563.17 1606.71 1566.07 Q1602.8 1568.97 1595.92 1568.97 Q1593.06 1568.97 1589.94 1568.39 Q1586.85 1567.85 1583.41 1566.74 L1583.41 1560.69 Q1586.66 1562.38 1589.81 1563.24 Q1592.96 1564.07 1596.05 1564.07 Q1600.19 1564.07 1602.41 1562.66 Q1604.64 1561.23 1604.64 1558.65 Q1604.64 1556.27 1603.02 1554.99 Q1601.43 1553.72 1595.98 1552.54 L1593.95 1552.07 Q1588.5 1550.92 1586.09 1548.56 Q1583.67 1546.18 1583.67 1542.04 Q1583.67 1537.01 1587.23 1534.27 Q1590.8 1531.54 1597.35 1531.54 Q1600.6 1531.54 1603.46 1532.01 Q1606.33 1532.49 1608.75 1533.45 Z\" fill=\"#000000\" fill-rule=\"evenodd\" fill-opacity=\"1\" /><path clip-path=\"url(#clip600)\" d=\"M1625.78 1522.27 L1625.78 1532.4 L1637.84 1532.4 L1637.84 1536.95 L1625.78 1536.95 L1625.78 1556.3 Q1625.78 1560.66 1626.95 1561.9 Q1628.16 1563.14 1631.82 1563.14 L1637.84 1563.14 L1637.84 1568.04 L1631.82 1568.04 Q1625.04 1568.04 1622.47 1565.53 Q1619.89 1562.98 1619.89 1556.3 L1619.89 1536.95 L1615.59 1536.95 L1615.59 1532.4 L1619.89 1532.4 L1619.89 1522.27 L1625.78 1522.27 Z\" fill=\"#000000\" fill-rule=\"evenodd\" fill-opacity=\"1\" /><path clip-path=\"url(#clip600)\" d=\"M1666.2 1537.87 Q1665.21 1537.3 1664.03 1537.04 Q1662.89 1536.76 1661.49 1536.76 Q1656.52 1536.76 1653.85 1540 Q1651.21 1543.22 1651.21 1549.27 L1651.21 1568.04 L1645.32 1568.04 L1645.32 1532.4 L1651.21 1532.4 L1651.21 1537.93 Q1653.05 1534.69 1656.01 1533.13 Q1658.97 1531.54 1663.21 1531.54 Q1663.81 1531.54 1664.54 1531.63 Q1665.27 1531.7 1666.17 1531.85 L1666.2 1537.87 Z\" fill=\"#000000\" fill-rule=\"evenodd\" fill-opacity=\"1\" /><path clip-path=\"url(#clip600)\" d=\"M1672.34 1532.4 L1678.2 1532.4 L1678.2 1568.04 L1672.34 1568.04 L1672.34 1532.4 M1672.34 1518.52 L1678.2 1518.52 L1678.2 1525.93 L1672.34 1525.93 L1672.34 1518.52 Z\" fill=\"#000000\" fill-rule=\"evenodd\" fill-opacity=\"1\" /><path clip-path=\"url(#clip600)\" d=\"M1716.04 1550.25 Q1716.04 1543.79 1713.37 1540.13 Q1710.73 1536.44 1706.08 1536.44 Q1701.43 1536.44 1698.76 1540.13 Q1696.12 1543.79 1696.12 1550.25 Q1696.12 1556.71 1698.76 1560.4 Q1701.43 1564.07 1706.08 1564.07 Q1710.73 1564.07 1713.37 1560.4 Q1716.04 1556.71 1716.04 1550.25 M1696.12 1537.81 Q1697.96 1534.62 1700.76 1533.1 Q1703.6 1531.54 1707.51 1531.54 Q1714 1531.54 1718.05 1536.69 Q1722.12 1541.85 1722.12 1550.25 Q1722.12 1558.65 1718.05 1563.81 Q1714 1568.97 1707.51 1568.97 Q1703.6 1568.97 1700.76 1567.44 Q1697.96 1565.88 1696.12 1562.7 L1696.12 1568.04 L1690.23 1568.04 L1690.23 1518.52 L1696.12 1518.52 L1696.12 1537.81 Z\" fill=\"#000000\" fill-rule=\"evenodd\" fill-opacity=\"1\" /><path clip-path=\"url(#clip600)\" d=\"M1731.22 1553.98 L1731.22 1532.4 L1737.08 1532.4 L1737.08 1553.75 Q1737.08 1558.81 1739.05 1561.36 Q1741.03 1563.87 1744.97 1563.87 Q1749.72 1563.87 1752.45 1560.85 Q1755.22 1557.83 1755.22 1552.61 L1755.22 1532.4 L1761.08 1532.4 L1761.08 1568.04 L1755.22 1568.04 L1755.22 1562.57 Q1753.09 1565.82 1750.26 1567.41 Q1747.46 1568.97 1743.73 1568.97 Q1737.59 1568.97 1734.41 1565.15 Q1731.22 1561.33 1731.22 1553.98 M1745.96 1531.54 L1745.96 1531.54 Z\" fill=\"#000000\" fill-rule=\"evenodd\" fill-opacity=\"1\" /><path clip-path=\"url(#clip600)\" d=\"M1778.93 1522.27 L1778.93 1532.4 L1791 1532.4 L1791 1536.95 L1778.93 1536.95 L1778.93 1556.3 Q1778.93 1560.66 1780.11 1561.9 Q1781.32 1563.14 1784.98 1563.14 L1791 1563.14 L1791 1568.04 L1784.98 1568.04 Q1778.2 1568.04 1775.62 1565.53 Q1773.05 1562.98 1773.05 1556.3 L1773.05 1536.95 L1768.75 1536.95 L1768.75 1532.4 L1773.05 1532.4 L1773.05 1522.27 L1778.93 1522.27 Z\" fill=\"#000000\" fill-rule=\"evenodd\" fill-opacity=\"1\" /><path clip-path=\"url(#clip600)\" d=\"M1829.19 1548.76 L1829.19 1551.62 L1802.26 1551.62 Q1802.65 1557.67 1805.89 1560.85 Q1809.17 1564 1815 1564 Q1818.37 1564 1821.52 1563.17 Q1824.7 1562.35 1827.82 1560.69 L1827.82 1566.23 Q1824.67 1567.57 1821.36 1568.27 Q1818.05 1568.97 1814.65 1568.97 Q1806.12 1568.97 1801.12 1564 Q1796.15 1559.04 1796.15 1550.57 Q1796.15 1541.82 1800.86 1536.69 Q1805.61 1531.54 1813.63 1531.54 Q1820.82 1531.54 1824.99 1536.18 Q1829.19 1540.8 1829.19 1548.76 M1823.34 1547.04 Q1823.27 1542.23 1820.63 1539.37 Q1818.02 1536.5 1813.69 1536.5 Q1808.79 1536.5 1805.83 1539.27 Q1802.9 1542.04 1802.46 1547.07 L1823.34 1547.04 Z\" fill=\"#000000\" fill-rule=\"evenodd\" fill-opacity=\"1\" /><path clip-path=\"url(#clip600)\" d=\"M1862.26 1537.81 L1862.26 1518.52 L1868.12 1518.52 L1868.12 1568.04 L1862.26 1568.04 L1862.26 1562.7 Q1860.42 1565.88 1857.58 1567.44 Q1854.78 1568.97 1850.83 1568.97 Q1844.37 1568.97 1840.3 1563.81 Q1836.26 1558.65 1836.26 1550.25 Q1836.26 1541.85 1840.3 1536.69 Q1844.37 1531.54 1850.83 1531.54 Q1854.78 1531.54 1857.58 1533.1 Q1860.42 1534.62 1862.26 1537.81 M1842.3 1550.25 Q1842.3 1556.71 1844.95 1560.4 Q1847.62 1564.07 1852.27 1564.07 Q1856.91 1564.07 1859.59 1560.4 Q1862.26 1556.71 1862.26 1550.25 Q1862.26 1543.79 1859.59 1540.13 Q1856.91 1536.44 1852.27 1536.44 Q1847.62 1536.44 1844.95 1540.13 Q1842.3 1543.79 1842.3 1550.25 Z\" fill=\"#000000\" fill-rule=\"evenodd\" fill-opacity=\"1\" /><polyline clip-path=\"url(#clip602)\" style=\"stroke:#000000; stroke-linecap:round; stroke-linejoin:round; stroke-width:2; stroke-opacity:0.1; fill:none\" points=\"\n",
       "  219.033,1403.89 2352.76,1403.89 \n",
       "  \"/>\n",
       "<polyline clip-path=\"url(#clip602)\" style=\"stroke:#000000; stroke-linecap:round; stroke-linejoin:round; stroke-width:2; stroke-opacity:0.1; fill:none\" points=\"\n",
       "  219.033,1130.45 2352.76,1130.45 \n",
       "  \"/>\n",
       "<polyline clip-path=\"url(#clip602)\" style=\"stroke:#000000; stroke-linecap:round; stroke-linejoin:round; stroke-width:2; stroke-opacity:0.1; fill:none\" points=\"\n",
       "  219.033,857 2352.76,857 \n",
       "  \"/>\n",
       "<polyline clip-path=\"url(#clip602)\" style=\"stroke:#000000; stroke-linecap:round; stroke-linejoin:round; stroke-width:2; stroke-opacity:0.1; fill:none\" points=\"\n",
       "  219.033,583.553 2352.76,583.553 \n",
       "  \"/>\n",
       "<polyline clip-path=\"url(#clip602)\" style=\"stroke:#000000; stroke-linecap:round; stroke-linejoin:round; stroke-width:2; stroke-opacity:0.1; fill:none\" points=\"\n",
       "  219.033,310.105 2352.76,310.105 \n",
       "  \"/>\n",
       "<polyline clip-path=\"url(#clip600)\" style=\"stroke:#000000; stroke-linecap:round; stroke-linejoin:round; stroke-width:4; stroke-opacity:1; fill:none\" points=\"\n",
       "  219.033,1423.18 219.033,47.2441 \n",
       "  \"/>\n",
       "<polyline clip-path=\"url(#clip600)\" style=\"stroke:#000000; stroke-linecap:round; stroke-linejoin:round; stroke-width:4; stroke-opacity:1; fill:none\" points=\"\n",
       "  219.033,1403.89 237.931,1403.89 \n",
       "  \"/>\n",
       "<polyline clip-path=\"url(#clip600)\" style=\"stroke:#000000; stroke-linecap:round; stroke-linejoin:round; stroke-width:4; stroke-opacity:1; fill:none\" points=\"\n",
       "  219.033,1130.45 237.931,1130.45 \n",
       "  \"/>\n",
       "<polyline clip-path=\"url(#clip600)\" style=\"stroke:#000000; stroke-linecap:round; stroke-linejoin:round; stroke-width:4; stroke-opacity:1; fill:none\" points=\"\n",
       "  219.033,857 237.931,857 \n",
       "  \"/>\n",
       "<polyline clip-path=\"url(#clip600)\" style=\"stroke:#000000; stroke-linecap:round; stroke-linejoin:round; stroke-width:4; stroke-opacity:1; fill:none\" points=\"\n",
       "  219.033,583.553 237.931,583.553 \n",
       "  \"/>\n",
       "<polyline clip-path=\"url(#clip600)\" style=\"stroke:#000000; stroke-linecap:round; stroke-linejoin:round; stroke-width:4; stroke-opacity:1; fill:none\" points=\"\n",
       "  219.033,310.105 237.931,310.105 \n",
       "  \"/>\n",
       "<path clip-path=\"url(#clip600)\" d=\"M126.853 1389.69 Q123.242 1389.69 121.413 1393.26 Q119.607 1396.8 119.607 1403.93 Q119.607 1411.04 121.413 1414.6 Q123.242 1418.14 126.853 1418.14 Q130.487 1418.14 132.292 1414.6 Q134.121 1411.04 134.121 1403.93 Q134.121 1396.8 132.292 1393.26 Q130.487 1389.69 126.853 1389.69 M126.853 1385.99 Q132.663 1385.99 135.718 1390.6 Q138.797 1395.18 138.797 1403.93 Q138.797 1412.66 135.718 1417.26 Q132.663 1421.85 126.853 1421.85 Q121.043 1421.85 117.964 1417.26 Q114.908 1412.66 114.908 1403.93 Q114.908 1395.18 117.964 1390.6 Q121.043 1385.99 126.853 1385.99 Z\" fill=\"#000000\" fill-rule=\"evenodd\" fill-opacity=\"1\" /><path clip-path=\"url(#clip600)\" d=\"M147.015 1415.3 L151.899 1415.3 L151.899 1421.17 L147.015 1421.17 L147.015 1415.3 Z\" fill=\"#000000\" fill-rule=\"evenodd\" fill-opacity=\"1\" /><path clip-path=\"url(#clip600)\" d=\"M162.13 1386.61 L180.487 1386.61 L180.487 1390.55 L166.413 1390.55 L166.413 1399.02 Q167.431 1398.68 168.45 1398.51 Q169.468 1398.33 170.487 1398.33 Q176.274 1398.33 179.653 1401.5 Q183.033 1404.67 183.033 1410.09 Q183.033 1415.67 179.561 1418.77 Q176.089 1421.85 169.769 1421.85 Q167.593 1421.85 165.325 1421.48 Q163.079 1421.11 160.672 1420.36 L160.672 1415.67 Q162.755 1416.8 164.977 1417.36 Q167.2 1417.91 169.677 1417.91 Q173.681 1417.91 176.019 1415.8 Q178.357 1413.7 178.357 1410.09 Q178.357 1406.48 176.019 1404.37 Q173.681 1402.26 169.677 1402.26 Q167.802 1402.26 165.927 1402.68 Q164.075 1403.1 162.13 1403.98 L162.13 1386.61 Z\" fill=\"#000000\" fill-rule=\"evenodd\" fill-opacity=\"1\" /><path clip-path=\"url(#clip600)\" d=\"M116.668 1143.79 L124.306 1143.79 L124.306 1117.43 L115.996 1119.09 L115.996 1114.83 L124.26 1113.17 L128.936 1113.17 L128.936 1143.79 L136.575 1143.79 L136.575 1147.73 L116.668 1147.73 L116.668 1143.79 Z\" fill=\"#000000\" fill-rule=\"evenodd\" fill-opacity=\"1\" /><path clip-path=\"url(#clip600)\" d=\"M146.019 1141.85 L150.903 1141.85 L150.903 1147.73 L146.019 1147.73 L146.019 1141.85 Z\" fill=\"#000000\" fill-rule=\"evenodd\" fill-opacity=\"1\" /><path clip-path=\"url(#clip600)\" d=\"M171.089 1116.25 Q167.477 1116.25 165.649 1119.81 Q163.843 1123.35 163.843 1130.48 Q163.843 1137.59 165.649 1141.15 Q167.477 1144.7 171.089 1144.7 Q174.723 1144.7 176.528 1141.15 Q178.357 1137.59 178.357 1130.48 Q178.357 1123.35 176.528 1119.81 Q174.723 1116.25 171.089 1116.25 M171.089 1112.54 Q176.899 1112.54 179.954 1117.15 Q183.033 1121.73 183.033 1130.48 Q183.033 1139.21 179.954 1143.82 Q176.899 1148.4 171.089 1148.4 Q165.278 1148.4 162.2 1143.82 Q159.144 1139.21 159.144 1130.48 Q159.144 1121.73 162.2 1117.15 Q165.278 1112.54 171.089 1112.54 Z\" fill=\"#000000\" fill-rule=\"evenodd\" fill-opacity=\"1\" /><path clip-path=\"url(#clip600)\" d=\"M117.663 870.345 L125.302 870.345 L125.302 843.979 L116.992 845.646 L116.992 841.387 L125.255 839.72 L129.931 839.72 L129.931 870.345 L137.57 870.345 L137.57 874.28 L117.663 874.28 L117.663 870.345 Z\" fill=\"#000000\" fill-rule=\"evenodd\" fill-opacity=\"1\" /><path clip-path=\"url(#clip600)\" d=\"M147.015 868.4 L151.899 868.4 L151.899 874.28 L147.015 874.28 L147.015 868.4 Z\" fill=\"#000000\" fill-rule=\"evenodd\" fill-opacity=\"1\" /><path clip-path=\"url(#clip600)\" d=\"M162.13 839.72 L180.487 839.72 L180.487 843.655 L166.413 843.655 L166.413 852.127 Q167.431 851.78 168.45 851.618 Q169.468 851.433 170.487 851.433 Q176.274 851.433 179.653 854.604 Q183.033 857.776 183.033 863.192 Q183.033 868.771 179.561 871.873 Q176.089 874.951 169.769 874.951 Q167.593 874.951 165.325 874.581 Q163.079 874.211 160.672 873.47 L160.672 868.771 Q162.755 869.905 164.977 870.461 Q167.2 871.016 169.677 871.016 Q173.681 871.016 176.019 868.91 Q178.357 866.803 178.357 863.192 Q178.357 859.581 176.019 857.475 Q173.681 855.368 169.677 855.368 Q167.802 855.368 165.927 855.785 Q164.075 856.201 162.13 857.081 L162.13 839.72 Z\" fill=\"#000000\" fill-rule=\"evenodd\" fill-opacity=\"1\" /><path clip-path=\"url(#clip600)\" d=\"M119.885 596.898 L136.204 596.898 L136.204 600.833 L114.26 600.833 L114.26 596.898 Q116.922 594.143 121.505 589.513 Q126.112 584.861 127.292 583.518 Q129.538 580.995 130.417 579.259 Q131.32 577.499 131.32 575.81 Q131.32 573.055 129.376 571.319 Q127.455 569.583 124.353 569.583 Q122.154 569.583 119.7 570.347 Q117.269 571.111 114.492 572.662 L114.492 567.939 Q117.316 566.805 119.769 566.226 Q122.223 565.648 124.26 565.648 Q129.63 565.648 132.825 568.333 Q136.019 571.018 136.019 575.509 Q136.019 577.638 135.209 579.56 Q134.422 581.458 132.316 584.05 Q131.737 584.722 128.635 587.939 Q125.533 591.134 119.885 596.898 Z\" fill=\"#000000\" fill-rule=\"evenodd\" fill-opacity=\"1\" /><path clip-path=\"url(#clip600)\" d=\"M146.019 594.953 L150.903 594.953 L150.903 600.833 L146.019 600.833 L146.019 594.953 Z\" fill=\"#000000\" fill-rule=\"evenodd\" fill-opacity=\"1\" /><path clip-path=\"url(#clip600)\" d=\"M171.089 569.351 Q167.477 569.351 165.649 572.916 Q163.843 576.458 163.843 583.587 Q163.843 590.694 165.649 594.259 Q167.477 597.8 171.089 597.8 Q174.723 597.8 176.528 594.259 Q178.357 590.694 178.357 583.587 Q178.357 576.458 176.528 572.916 Q174.723 569.351 171.089 569.351 M171.089 565.648 Q176.899 565.648 179.954 570.254 Q183.033 574.837 183.033 583.587 Q183.033 592.314 179.954 596.921 Q176.899 601.504 171.089 601.504 Q165.278 601.504 162.2 596.921 Q159.144 592.314 159.144 583.587 Q159.144 574.837 162.2 570.254 Q165.278 565.648 171.089 565.648 Z\" fill=\"#000000\" fill-rule=\"evenodd\" fill-opacity=\"1\" /><path clip-path=\"url(#clip600)\" d=\"M120.88 323.45 L137.2 323.45 L137.2 327.385 L115.256 327.385 L115.256 323.45 Q117.918 320.695 122.501 316.066 Q127.107 311.413 128.288 310.071 Q130.533 307.547 131.413 305.811 Q132.316 304.052 132.316 302.362 Q132.316 299.608 130.371 297.872 Q128.45 296.135 125.348 296.135 Q123.149 296.135 120.695 296.899 Q118.265 297.663 115.487 299.214 L115.487 294.492 Q118.311 293.358 120.765 292.779 Q123.218 292.2 125.255 292.2 Q130.626 292.2 133.82 294.885 Q137.015 297.571 137.015 302.061 Q137.015 304.191 136.204 306.112 Q135.417 308.01 133.311 310.603 Q132.732 311.274 129.63 314.492 Q126.529 317.686 120.88 323.45 Z\" fill=\"#000000\" fill-rule=\"evenodd\" fill-opacity=\"1\" /><path clip-path=\"url(#clip600)\" d=\"M147.015 321.506 L151.899 321.506 L151.899 327.385 L147.015 327.385 L147.015 321.506 Z\" fill=\"#000000\" fill-rule=\"evenodd\" fill-opacity=\"1\" /><path clip-path=\"url(#clip600)\" d=\"M162.13 292.825 L180.487 292.825 L180.487 296.76 L166.413 296.76 L166.413 305.233 Q167.431 304.885 168.45 304.723 Q169.468 304.538 170.487 304.538 Q176.274 304.538 179.653 307.709 Q183.033 310.881 183.033 316.297 Q183.033 321.876 179.561 324.978 Q176.089 328.057 169.769 328.057 Q167.593 328.057 165.325 327.686 Q163.079 327.316 160.672 326.575 L160.672 321.876 Q162.755 323.01 164.977 323.566 Q167.2 324.121 169.677 324.121 Q173.681 324.121 176.019 322.015 Q178.357 319.908 178.357 316.297 Q178.357 312.686 176.019 310.58 Q173.681 308.473 169.677 308.473 Q167.802 308.473 165.927 308.89 Q164.075 309.307 162.13 310.186 L162.13 292.825 Z\" fill=\"#000000\" fill-rule=\"evenodd\" fill-opacity=\"1\" /><path clip-path=\"url(#clip600)\" d=\"M41.7242 895.58 Q42.4244 893.511 44.7161 891.57 Q47.0077 889.596 51.0181 887.623 L64.0042 881.098 L64.0042 888.005 L51.8138 894.084 Q47.0395 896.439 45.48 898.667 Q43.9204 900.864 43.9204 904.683 L43.9204 911.685 L64.0042 911.685 L64.0042 918.115 L16.4842 918.115 L16.4842 903.601 Q16.4842 895.453 19.8898 891.442 Q23.2955 887.432 30.1704 887.432 Q34.6582 887.432 37.6183 889.533 Q40.5784 891.601 41.7242 895.58 M21.7677 911.685 L38.6368 911.685 L38.6368 903.601 Q38.6368 898.954 36.5043 896.599 Q34.34 894.211 30.1704 894.211 Q26.0009 894.211 23.9002 896.599 Q21.7677 898.954 21.7677 903.601 L21.7677 911.685 Z\" fill=\"#000000\" fill-rule=\"evenodd\" fill-opacity=\"1\" /><path clip-path=\"url(#clip600)\" d=\"M49.9359 876.61 L28.3562 876.61 L28.3562 870.754 L49.7131 870.754 Q54.7739 870.754 57.3202 868.78 Q59.8346 866.807 59.8346 862.86 Q59.8346 858.118 56.8109 855.381 Q53.7872 852.612 48.5673 852.612 L28.3562 852.612 L28.3562 846.755 L64.0042 846.755 L64.0042 852.612 L58.5296 852.612 Q61.7762 854.744 63.3676 857.577 Q64.9272 860.378 64.9272 864.102 Q64.9272 870.245 61.1078 873.427 Q57.2883 876.61 49.9359 876.61 M27.4968 861.874 L27.4968 861.874 Z\" fill=\"#000000\" fill-rule=\"evenodd\" fill-opacity=\"1\" /><path clip-path=\"url(#clip600)\" d=\"M42.4881 805.06 L64.0042 805.06 L64.0042 810.916 L42.679 810.916 Q37.6183 810.916 35.1038 812.89 Q32.5894 814.863 32.5894 818.81 Q32.5894 823.552 35.6131 826.289 Q38.6368 829.027 43.8567 829.027 L64.0042 829.027 L64.0042 834.915 L28.3562 834.915 L28.3562 829.027 L33.8944 829.027 Q30.6797 826.926 29.0883 824.093 Q27.4968 821.229 27.4968 817.505 Q27.4968 811.362 31.3163 808.211 Q35.1038 805.06 42.4881 805.06 Z\" fill=\"#000000\" fill-rule=\"evenodd\" fill-opacity=\"1\" /><path clip-path=\"url(#clip600)\" d=\"M18.2347 787.586 L28.3562 787.586 L28.3562 775.523 L32.9077 775.523 L32.9077 787.586 L52.2594 787.586 Q56.6199 787.586 57.8613 786.408 Q59.1026 785.199 59.1026 781.538 L59.1026 775.523 L64.0042 775.523 L64.0042 781.538 Q64.0042 788.318 61.4897 790.896 Q58.9434 793.474 52.2594 793.474 L32.9077 793.474 L32.9077 797.771 L28.3562 797.771 L28.3562 793.474 L18.2347 793.474 L18.2347 787.586 Z\" fill=\"#000000\" fill-rule=\"evenodd\" fill-opacity=\"1\" /><path clip-path=\"url(#clip600)\" d=\"M28.3562 767.82 L28.3562 761.964 L64.0042 761.964 L64.0042 767.82 L28.3562 767.82 M14.479 767.82 L14.479 761.964 L21.895 761.964 L21.895 767.82 L14.479 767.82 Z\" fill=\"#000000\" fill-rule=\"evenodd\" fill-opacity=\"1\" /><path clip-path=\"url(#clip600)\" d=\"M35.1993 721.955 Q31.2526 719.759 29.3747 716.704 Q27.4968 713.648 27.4968 709.51 Q27.4968 703.94 31.4117 700.917 Q35.2948 697.893 42.4881 697.893 L64.0042 697.893 L64.0042 703.781 L42.679 703.781 Q37.5546 703.781 35.072 705.596 Q32.5894 707.41 32.5894 711.134 Q32.5894 715.685 35.6131 718.327 Q38.6368 720.969 43.8567 720.969 L64.0042 720.969 L64.0042 726.857 L42.679 726.857 Q37.5228 726.857 35.072 728.671 Q32.5894 730.485 32.5894 734.273 Q32.5894 738.761 35.6449 741.403 Q38.6686 744.044 43.8567 744.044 L64.0042 744.044 L64.0042 749.933 L28.3562 749.933 L28.3562 744.044 L33.8944 744.044 Q30.616 742.039 29.0564 739.238 Q27.4968 736.437 27.4968 732.586 Q27.4968 728.703 29.4702 725.998 Q31.4436 723.26 35.1993 721.955 Z\" fill=\"#000000\" fill-rule=\"evenodd\" fill-opacity=\"1\" /><path clip-path=\"url(#clip600)\" d=\"M44.7161 655.72 L47.5806 655.72 L47.5806 682.647 Q53.6281 682.265 56.8109 679.019 Q59.9619 675.74 59.9619 669.916 Q59.9619 666.542 59.1344 663.391 Q58.3069 660.208 56.6518 657.089 L62.1899 657.089 Q63.5267 660.24 64.227 663.55 Q64.9272 666.86 64.9272 670.266 Q64.9272 678.796 59.9619 683.793 Q54.9967 688.758 46.5303 688.758 Q37.7774 688.758 32.6531 684.048 Q27.4968 679.305 27.4968 671.284 Q27.4968 664.091 32.1438 659.922 Q36.7589 655.72 44.7161 655.72 M42.9973 661.577 Q38.1912 661.64 35.3266 664.282 Q32.4621 666.892 32.4621 671.221 Q32.4621 676.122 35.2312 679.082 Q38.0002 682.011 43.0292 682.456 L42.9973 661.577 Z\" fill=\"#000000\" fill-rule=\"evenodd\" fill-opacity=\"1\" /><path clip-path=\"url(#clip600)\" d=\"M14.5426 611.319 Q21.8632 615.584 29.0246 617.653 Q36.186 619.722 43.5384 619.722 Q50.8908 619.722 58.1159 617.653 Q65.3091 615.553 72.5979 611.319 L72.5979 616.412 Q65.1182 621.186 57.8931 623.573 Q50.668 625.929 43.5384 625.929 Q36.4406 625.929 29.2474 623.573 Q22.0542 621.218 14.5426 616.412 L14.5426 611.319 Z\" fill=\"#000000\" fill-rule=\"evenodd\" fill-opacity=\"1\" /><path clip-path=\"url(#clip600)\" d=\"M29.4065 577.231 L34.9447 577.231 Q33.6716 579.714 33.035 582.387 Q32.3984 585.061 32.3984 587.925 Q32.3984 592.286 33.7352 594.482 Q35.072 596.646 37.7456 596.646 Q39.7826 596.646 40.9603 595.087 Q42.1061 593.527 43.1565 588.817 L43.6021 586.811 Q44.9389 580.573 47.3897 577.963 Q49.8086 575.321 54.1691 575.321 Q59.1344 575.321 62.0308 579.268 Q64.9272 583.183 64.9272 590.058 Q64.9272 592.923 64.3543 596.042 Q63.8132 599.129 62.6992 602.567 L56.6518 602.567 Q58.3387 599.32 59.198 596.169 Q60.0256 593.018 60.0256 589.931 Q60.0256 585.793 58.6251 583.565 Q57.1929 581.337 54.6147 581.337 Q52.2276 581.337 50.9545 582.96 Q49.6813 584.552 48.5037 589.994 L48.0262 592.031 Q46.8804 597.474 44.5251 599.893 Q42.138 602.312 38.0002 602.312 Q32.9713 602.312 30.2341 598.747 Q27.4968 595.182 27.4968 588.626 Q27.4968 585.379 27.9743 582.515 Q28.4517 579.65 29.4065 577.231 Z\" fill=\"#000000\" fill-rule=\"evenodd\" fill-opacity=\"1\" /><path clip-path=\"url(#clip600)\" d=\"M14.5426 566.919 L14.5426 561.826 Q22.0542 557.052 29.2474 554.696 Q36.4406 552.309 43.5384 552.309 Q50.668 552.309 57.8931 554.696 Q65.1182 557.052 72.5979 561.826 L72.5979 566.919 Q65.3091 562.685 58.1159 560.617 Q50.8908 558.516 43.5384 558.516 Q36.186 558.516 29.0246 560.617 Q21.8632 562.685 14.5426 566.919 Z\" fill=\"#000000\" fill-rule=\"evenodd\" fill-opacity=\"1\" /><polyline clip-path=\"url(#clip602)\" style=\"stroke:#009af9; stroke-linecap:round; stroke-linejoin:round; stroke-width:4; stroke-opacity:1; fill:none\" points=\"\n",
       "  279.421,1384.24 385.366,1283.29 597.255,1317.37 1232.92,765.909 2292.37,86.1857 \n",
       "  \"/>\n",
       "</svg>\n"
      ]
     },
     "execution_count": 79,
     "metadata": {},
     "output_type": "execute_result"
    }
   ],
   "source": [
    "plot(nperms_list, runtimes_nperms; xlabel= \"Number of permutations distributed\", ylabel = \"Runtime (s)\", legend = false)"
   ]
  },
  {
   "cell_type": "code",
   "execution_count": 80,
   "id": "a536f623-2a77-472a-8b4f-ab85beaaac6c",
   "metadata": {},
   "outputs": [
    {
     "data": {
      "image/svg+xml": [
       "<?xml version=\"1.0\" encoding=\"utf-8\"?>\n",
       "<svg xmlns=\"http://www.w3.org/2000/svg\" xmlns:xlink=\"http://www.w3.org/1999/xlink\" width=\"600\" height=\"400\" viewBox=\"0 0 2400 1600\">\n",
       "<defs>\n",
       "  <clipPath id=\"clip640\">\n",
       "    <rect x=\"0\" y=\"0\" width=\"2400\" height=\"1600\"/>\n",
       "  </clipPath>\n",
       "</defs>\n",
       "<path clip-path=\"url(#clip640)\" d=\"\n",
       "M0 1600 L2400 1600 L2400 0 L0 0  Z\n",
       "  \" fill=\"#ffffff\" fill-rule=\"evenodd\" fill-opacity=\"1\"/>\n",
       "<defs>\n",
       "  <clipPath id=\"clip641\">\n",
       "    <rect x=\"480\" y=\"0\" width=\"1681\" height=\"1600\"/>\n",
       "  </clipPath>\n",
       "</defs>\n",
       "<path clip-path=\"url(#clip640)\" d=\"\n",
       "M219.866 1423.18 L2352.76 1423.18 L2352.76 47.2441 L219.866 47.2441  Z\n",
       "  \" fill=\"#ffffff\" fill-rule=\"evenodd\" fill-opacity=\"1\"/>\n",
       "<defs>\n",
       "  <clipPath id=\"clip642\">\n",
       "    <rect x=\"219\" y=\"47\" width=\"2134\" height=\"1377\"/>\n",
       "  </clipPath>\n",
       "</defs>\n",
       "<polyline clip-path=\"url(#clip642)\" style=\"stroke:#000000; stroke-linecap:round; stroke-linejoin:round; stroke-width:2; stroke-opacity:0.1; fill:none\" points=\"\n",
       "  503.804,1423.18 503.804,47.2441 \n",
       "  \"/>\n",
       "<polyline clip-path=\"url(#clip642)\" style=\"stroke:#000000; stroke-linecap:round; stroke-linejoin:round; stroke-width:2; stroke-opacity:0.1; fill:none\" points=\"\n",
       "  950.951,1423.18 950.951,47.2441 \n",
       "  \"/>\n",
       "<polyline clip-path=\"url(#clip642)\" style=\"stroke:#000000; stroke-linecap:round; stroke-linejoin:round; stroke-width:2; stroke-opacity:0.1; fill:none\" points=\"\n",
       "  1398.1,1423.18 1398.1,47.2441 \n",
       "  \"/>\n",
       "<polyline clip-path=\"url(#clip642)\" style=\"stroke:#000000; stroke-linecap:round; stroke-linejoin:round; stroke-width:2; stroke-opacity:0.1; fill:none\" points=\"\n",
       "  1845.24,1423.18 1845.24,47.2441 \n",
       "  \"/>\n",
       "<polyline clip-path=\"url(#clip642)\" style=\"stroke:#000000; stroke-linecap:round; stroke-linejoin:round; stroke-width:2; stroke-opacity:0.1; fill:none\" points=\"\n",
       "  2292.39,1423.18 2292.39,47.2441 \n",
       "  \"/>\n",
       "<polyline clip-path=\"url(#clip640)\" style=\"stroke:#000000; stroke-linecap:round; stroke-linejoin:round; stroke-width:4; stroke-opacity:1; fill:none\" points=\"\n",
       "  219.866,1423.18 2352.76,1423.18 \n",
       "  \"/>\n",
       "<polyline clip-path=\"url(#clip640)\" style=\"stroke:#000000; stroke-linecap:round; stroke-linejoin:round; stroke-width:4; stroke-opacity:1; fill:none\" points=\"\n",
       "  503.804,1423.18 503.804,1404.28 \n",
       "  \"/>\n",
       "<polyline clip-path=\"url(#clip640)\" style=\"stroke:#000000; stroke-linecap:round; stroke-linejoin:round; stroke-width:4; stroke-opacity:1; fill:none\" points=\"\n",
       "  950.951,1423.18 950.951,1404.28 \n",
       "  \"/>\n",
       "<polyline clip-path=\"url(#clip640)\" style=\"stroke:#000000; stroke-linecap:round; stroke-linejoin:round; stroke-width:4; stroke-opacity:1; fill:none\" points=\"\n",
       "  1398.1,1423.18 1398.1,1404.28 \n",
       "  \"/>\n",
       "<polyline clip-path=\"url(#clip640)\" style=\"stroke:#000000; stroke-linecap:round; stroke-linejoin:round; stroke-width:4; stroke-opacity:1; fill:none\" points=\"\n",
       "  1845.24,1423.18 1845.24,1404.28 \n",
       "  \"/>\n",
       "<polyline clip-path=\"url(#clip640)\" style=\"stroke:#000000; stroke-linecap:round; stroke-linejoin:round; stroke-width:4; stroke-opacity:1; fill:none\" points=\"\n",
       "  2292.39,1423.18 2292.39,1404.28 \n",
       "  \"/>\n",
       "<path clip-path=\"url(#clip640)\" d=\"M467.497 1481.64 L483.816 1481.64 L483.816 1485.58 L461.872 1485.58 L461.872 1481.64 Q464.534 1478.89 469.117 1474.26 Q473.724 1469.61 474.904 1468.27 Q477.149 1465.74 478.029 1464.01 Q478.932 1462.25 478.932 1460.56 Q478.932 1457.8 476.987 1456.07 Q475.066 1454.33 471.964 1454.33 Q469.765 1454.33 467.312 1455.09 Q464.881 1455.86 462.103 1457.41 L462.103 1452.69 Q464.927 1451.55 467.381 1450.97 Q469.835 1450.39 471.872 1450.39 Q477.242 1450.39 480.436 1453.08 Q483.631 1455.77 483.631 1460.26 Q483.631 1462.39 482.821 1464.31 Q482.034 1466.2 479.927 1468.8 Q479.349 1469.47 476.247 1472.69 Q473.145 1475.88 467.497 1481.64 Z\" fill=\"#000000\" fill-rule=\"evenodd\" fill-opacity=\"1\" /><path clip-path=\"url(#clip640)\" d=\"M503.631 1454.1 Q500.02 1454.1 498.191 1457.66 Q496.385 1461.2 496.385 1468.33 Q496.385 1475.44 498.191 1479.01 Q500.02 1482.55 503.631 1482.55 Q507.265 1482.55 509.071 1479.01 Q510.899 1475.44 510.899 1468.33 Q510.899 1461.2 509.071 1457.66 Q507.265 1454.1 503.631 1454.1 M503.631 1450.39 Q509.441 1450.39 512.496 1455 Q515.575 1459.58 515.575 1468.33 Q515.575 1477.06 512.496 1481.67 Q509.441 1486.25 503.631 1486.25 Q497.821 1486.25 494.742 1481.67 Q491.686 1477.06 491.686 1468.33 Q491.686 1459.58 494.742 1455 Q497.821 1450.39 503.631 1450.39 Z\" fill=\"#000000\" fill-rule=\"evenodd\" fill-opacity=\"1\" /><path clip-path=\"url(#clip640)\" d=\"M533.793 1454.1 Q530.182 1454.1 528.353 1457.66 Q526.547 1461.2 526.547 1468.33 Q526.547 1475.44 528.353 1479.01 Q530.182 1482.55 533.793 1482.55 Q537.427 1482.55 539.232 1479.01 Q541.061 1475.44 541.061 1468.33 Q541.061 1461.2 539.232 1457.66 Q537.427 1454.1 533.793 1454.1 M533.793 1450.39 Q539.603 1450.39 542.658 1455 Q545.737 1459.58 545.737 1468.33 Q545.737 1477.06 542.658 1481.67 Q539.603 1486.25 533.793 1486.25 Q527.983 1486.25 524.904 1481.67 Q521.848 1477.06 521.848 1468.33 Q521.848 1459.58 524.904 1455 Q527.983 1450.39 533.793 1450.39 Z\" fill=\"#000000\" fill-rule=\"evenodd\" fill-opacity=\"1\" /><path clip-path=\"url(#clip640)\" d=\"M924.042 1455.09 L912.236 1473.54 L924.042 1473.54 L924.042 1455.09 M922.815 1451.02 L928.694 1451.02 L928.694 1473.54 L933.625 1473.54 L933.625 1477.43 L928.694 1477.43 L928.694 1485.58 L924.042 1485.58 L924.042 1477.43 L908.44 1477.43 L908.44 1472.92 L922.815 1451.02 Z\" fill=\"#000000\" fill-rule=\"evenodd\" fill-opacity=\"1\" /><path clip-path=\"url(#clip640)\" d=\"M951.356 1454.1 Q947.745 1454.1 945.916 1457.66 Q944.111 1461.2 944.111 1468.33 Q944.111 1475.44 945.916 1479.01 Q947.745 1482.55 951.356 1482.55 Q954.99 1482.55 956.796 1479.01 Q958.625 1475.44 958.625 1468.33 Q958.625 1461.2 956.796 1457.66 Q954.99 1454.1 951.356 1454.1 M951.356 1450.39 Q957.166 1450.39 960.222 1455 Q963.301 1459.58 963.301 1468.33 Q963.301 1477.06 960.222 1481.67 Q957.166 1486.25 951.356 1486.25 Q945.546 1486.25 942.467 1481.67 Q939.412 1477.06 939.412 1468.33 Q939.412 1459.58 942.467 1455 Q945.546 1450.39 951.356 1450.39 Z\" fill=\"#000000\" fill-rule=\"evenodd\" fill-opacity=\"1\" /><path clip-path=\"url(#clip640)\" d=\"M981.518 1454.1 Q977.907 1454.1 976.078 1457.66 Q974.273 1461.2 974.273 1468.33 Q974.273 1475.44 976.078 1479.01 Q977.907 1482.55 981.518 1482.55 Q985.152 1482.55 986.958 1479.01 Q988.787 1475.44 988.787 1468.33 Q988.787 1461.2 986.958 1457.66 Q985.152 1454.1 981.518 1454.1 M981.518 1450.39 Q987.328 1450.39 990.384 1455 Q993.462 1459.58 993.462 1468.33 Q993.462 1477.06 990.384 1481.67 Q987.328 1486.25 981.518 1486.25 Q975.708 1486.25 972.629 1481.67 Q969.574 1477.06 969.574 1468.33 Q969.574 1459.58 972.629 1455 Q975.708 1450.39 981.518 1450.39 Z\" fill=\"#000000\" fill-rule=\"evenodd\" fill-opacity=\"1\" /><path clip-path=\"url(#clip640)\" d=\"M1368.42 1466.44 Q1365.27 1466.44 1363.42 1468.59 Q1361.59 1470.74 1361.59 1474.49 Q1361.59 1478.22 1363.42 1480.39 Q1365.27 1482.55 1368.42 1482.55 Q1371.57 1482.55 1373.4 1480.39 Q1375.25 1478.22 1375.25 1474.49 Q1375.25 1470.74 1373.4 1468.59 Q1371.57 1466.44 1368.42 1466.44 M1377.7 1451.78 L1377.7 1456.04 Q1375.95 1455.21 1374.14 1454.77 Q1372.36 1454.33 1370.6 1454.33 Q1365.97 1454.33 1363.51 1457.45 Q1361.08 1460.58 1360.74 1466.9 Q1362.1 1464.89 1364.16 1463.82 Q1366.22 1462.73 1368.7 1462.73 Q1373.91 1462.73 1376.92 1465.9 Q1379.95 1469.05 1379.95 1474.49 Q1379.95 1479.82 1376.8 1483.03 Q1373.65 1486.25 1368.42 1486.25 Q1362.43 1486.25 1359.26 1481.67 Q1356.08 1477.06 1356.08 1468.33 Q1356.08 1460.14 1359.97 1455.28 Q1363.86 1450.39 1370.41 1450.39 Q1372.17 1450.39 1373.95 1450.74 Q1375.76 1451.09 1377.7 1451.78 Z\" fill=\"#000000\" fill-rule=\"evenodd\" fill-opacity=\"1\" /><path clip-path=\"url(#clip640)\" d=\"M1398.01 1454.1 Q1394.39 1454.1 1392.57 1457.66 Q1390.76 1461.2 1390.76 1468.33 Q1390.76 1475.44 1392.57 1479.01 Q1394.39 1482.55 1398.01 1482.55 Q1401.64 1482.55 1403.44 1479.01 Q1405.27 1475.44 1405.27 1468.33 Q1405.27 1461.2 1403.44 1457.66 Q1401.64 1454.1 1398.01 1454.1 M1398.01 1450.39 Q1403.82 1450.39 1406.87 1455 Q1409.95 1459.58 1409.95 1468.33 Q1409.95 1477.06 1406.87 1481.67 Q1403.82 1486.25 1398.01 1486.25 Q1392.2 1486.25 1389.12 1481.67 Q1386.06 1477.06 1386.06 1468.33 Q1386.06 1459.58 1389.12 1455 Q1392.2 1450.39 1398.01 1450.39 Z\" fill=\"#000000\" fill-rule=\"evenodd\" fill-opacity=\"1\" /><path clip-path=\"url(#clip640)\" d=\"M1428.17 1454.1 Q1424.56 1454.1 1422.73 1457.66 Q1420.92 1461.2 1420.92 1468.33 Q1420.92 1475.44 1422.73 1479.01 Q1424.56 1482.55 1428.17 1482.55 Q1431.8 1482.55 1433.61 1479.01 Q1435.44 1475.44 1435.44 1468.33 Q1435.44 1461.2 1433.61 1457.66 Q1431.8 1454.1 1428.17 1454.1 M1428.17 1450.39 Q1433.98 1450.39 1437.03 1455 Q1440.11 1459.58 1440.11 1468.33 Q1440.11 1477.06 1437.03 1481.67 Q1433.98 1486.25 1428.17 1486.25 Q1422.36 1486.25 1419.28 1481.67 Q1416.22 1477.06 1416.22 1468.33 Q1416.22 1459.58 1419.28 1455 Q1422.36 1450.39 1428.17 1450.39 Z\" fill=\"#000000\" fill-rule=\"evenodd\" fill-opacity=\"1\" /><path clip-path=\"url(#clip640)\" d=\"M1815.04 1469.17 Q1811.7 1469.17 1809.78 1470.95 Q1807.88 1472.73 1807.88 1475.86 Q1807.88 1478.98 1809.78 1480.77 Q1811.7 1482.55 1815.04 1482.55 Q1818.37 1482.55 1820.29 1480.77 Q1822.21 1478.96 1822.21 1475.86 Q1822.21 1472.73 1820.29 1470.95 Q1818.39 1469.17 1815.04 1469.17 M1810.36 1467.18 Q1807.35 1466.44 1805.66 1464.38 Q1803.99 1462.32 1803.99 1459.35 Q1803.99 1455.21 1806.93 1452.8 Q1809.9 1450.39 1815.04 1450.39 Q1820.2 1450.39 1823.14 1452.8 Q1826.08 1455.21 1826.08 1459.35 Q1826.08 1462.32 1824.39 1464.38 Q1822.72 1466.44 1819.74 1467.18 Q1823.11 1467.96 1824.99 1470.26 Q1826.89 1472.55 1826.89 1475.86 Q1826.89 1480.88 1823.81 1483.57 Q1820.75 1486.25 1815.04 1486.25 Q1809.32 1486.25 1806.24 1483.57 Q1803.18 1480.88 1803.18 1475.86 Q1803.18 1472.55 1805.08 1470.26 Q1806.98 1467.96 1810.36 1467.18 M1808.65 1459.79 Q1808.65 1462.48 1810.31 1463.98 Q1812 1465.49 1815.04 1465.49 Q1818.05 1465.49 1819.74 1463.98 Q1821.45 1462.48 1821.45 1459.79 Q1821.45 1457.11 1819.74 1455.6 Q1818.05 1454.1 1815.04 1454.1 Q1812 1454.1 1810.31 1455.6 Q1808.65 1457.11 1808.65 1459.79 Z\" fill=\"#000000\" fill-rule=\"evenodd\" fill-opacity=\"1\" /><path clip-path=\"url(#clip640)\" d=\"M1845.2 1454.1 Q1841.59 1454.1 1839.76 1457.66 Q1837.95 1461.2 1837.95 1468.33 Q1837.95 1475.44 1839.76 1479.01 Q1841.59 1482.55 1845.2 1482.55 Q1848.83 1482.55 1850.64 1479.01 Q1852.47 1475.44 1852.47 1468.33 Q1852.47 1461.2 1850.64 1457.66 Q1848.83 1454.1 1845.2 1454.1 M1845.2 1450.39 Q1851.01 1450.39 1854.06 1455 Q1857.14 1459.58 1857.14 1468.33 Q1857.14 1477.06 1854.06 1481.67 Q1851.01 1486.25 1845.2 1486.25 Q1839.39 1486.25 1836.31 1481.67 Q1833.25 1477.06 1833.25 1468.33 Q1833.25 1459.58 1836.31 1455 Q1839.39 1450.39 1845.2 1450.39 Z\" fill=\"#000000\" fill-rule=\"evenodd\" fill-opacity=\"1\" /><path clip-path=\"url(#clip640)\" d=\"M1875.36 1454.1 Q1871.75 1454.1 1869.92 1457.66 Q1868.11 1461.2 1868.11 1468.33 Q1868.11 1475.44 1869.92 1479.01 Q1871.75 1482.55 1875.36 1482.55 Q1878.99 1482.55 1880.8 1479.01 Q1882.63 1475.44 1882.63 1468.33 Q1882.63 1461.2 1880.8 1457.66 Q1878.99 1454.1 1875.36 1454.1 M1875.36 1450.39 Q1881.17 1450.39 1884.23 1455 Q1887.3 1459.58 1887.3 1468.33 Q1887.3 1477.06 1884.23 1481.67 Q1881.17 1486.25 1875.36 1486.25 Q1869.55 1486.25 1866.47 1481.67 Q1863.42 1477.06 1863.42 1468.33 Q1863.42 1459.58 1866.47 1455 Q1869.55 1450.39 1875.36 1450.39 Z\" fill=\"#000000\" fill-rule=\"evenodd\" fill-opacity=\"1\" /><path clip-path=\"url(#clip640)\" d=\"M2236.92 1481.64 L2244.56 1481.64 L2244.56 1455.28 L2236.25 1456.95 L2236.25 1452.69 L2244.51 1451.02 L2249.19 1451.02 L2249.19 1481.64 L2256.82 1481.64 L2256.82 1485.58 L2236.92 1485.58 L2236.92 1481.64 Z\" fill=\"#000000\" fill-rule=\"evenodd\" fill-opacity=\"1\" /><path clip-path=\"url(#clip640)\" d=\"M2276.27 1454.1 Q2272.66 1454.1 2270.83 1457.66 Q2269.02 1461.2 2269.02 1468.33 Q2269.02 1475.44 2270.83 1479.01 Q2272.66 1482.55 2276.27 1482.55 Q2279.9 1482.55 2281.71 1479.01 Q2283.54 1475.44 2283.54 1468.33 Q2283.54 1461.2 2281.71 1457.66 Q2279.9 1454.1 2276.27 1454.1 M2276.27 1450.39 Q2282.08 1450.39 2285.13 1455 Q2288.21 1459.58 2288.21 1468.33 Q2288.21 1477.06 2285.13 1481.67 Q2282.08 1486.25 2276.27 1486.25 Q2270.46 1486.25 2267.38 1481.67 Q2264.32 1477.06 2264.32 1468.33 Q2264.32 1459.58 2267.38 1455 Q2270.46 1450.39 2276.27 1450.39 Z\" fill=\"#000000\" fill-rule=\"evenodd\" fill-opacity=\"1\" /><path clip-path=\"url(#clip640)\" d=\"M2306.43 1454.1 Q2302.82 1454.1 2300.99 1457.66 Q2299.19 1461.2 2299.19 1468.33 Q2299.19 1475.44 2300.99 1479.01 Q2302.82 1482.55 2306.43 1482.55 Q2310.06 1482.55 2311.87 1479.01 Q2313.7 1475.44 2313.7 1468.33 Q2313.7 1461.2 2311.87 1457.66 Q2310.06 1454.1 2306.43 1454.1 M2306.43 1450.39 Q2312.24 1450.39 2315.3 1455 Q2318.37 1459.58 2318.37 1468.33 Q2318.37 1477.06 2315.3 1481.67 Q2312.24 1486.25 2306.43 1486.25 Q2300.62 1486.25 2297.54 1481.67 Q2294.49 1477.06 2294.49 1468.33 Q2294.49 1459.58 2297.54 1455 Q2300.62 1450.39 2306.43 1450.39 Z\" fill=\"#000000\" fill-rule=\"evenodd\" fill-opacity=\"1\" /><path clip-path=\"url(#clip640)\" d=\"M2336.59 1454.1 Q2332.98 1454.1 2331.15 1457.66 Q2329.35 1461.2 2329.35 1468.33 Q2329.35 1475.44 2331.15 1479.01 Q2332.98 1482.55 2336.59 1482.55 Q2340.23 1482.55 2342.03 1479.01 Q2343.86 1475.44 2343.86 1468.33 Q2343.86 1461.2 2342.03 1457.66 Q2340.23 1454.1 2336.59 1454.1 M2336.59 1450.39 Q2342.4 1450.39 2345.46 1455 Q2348.54 1459.58 2348.54 1468.33 Q2348.54 1477.06 2345.46 1481.67 Q2342.4 1486.25 2336.59 1486.25 Q2330.78 1486.25 2327.7 1481.67 Q2324.65 1477.06 2324.65 1468.33 Q2324.65 1459.58 2327.7 1455 Q2330.78 1450.39 2336.59 1450.39 Z\" fill=\"#000000\" fill-rule=\"evenodd\" fill-opacity=\"1\" /><path clip-path=\"url(#clip640)\" d=\"M1135.97 1545.35 L1135.97 1562.76 L1146.28 1562.76 Q1151.47 1562.76 1153.95 1560.63 Q1156.47 1558.46 1156.47 1554.04 Q1156.47 1549.58 1153.95 1547.48 Q1151.47 1545.35 1146.28 1545.35 L1135.97 1545.35 M1135.97 1525.81 L1135.97 1540.13 L1145.49 1540.13 Q1150.2 1540.13 1152.49 1538.38 Q1154.81 1536.6 1154.81 1532.97 Q1154.81 1529.37 1152.49 1527.59 Q1150.2 1525.81 1145.49 1525.81 L1135.97 1525.81 M1129.54 1520.52 L1145.96 1520.52 Q1153.32 1520.52 1157.29 1523.58 Q1161.27 1526.63 1161.27 1532.27 Q1161.27 1536.63 1159.24 1539.21 Q1157.2 1541.79 1153.25 1542.42 Q1157.99 1543.44 1160.6 1546.69 Q1163.25 1549.9 1163.25 1554.74 Q1163.25 1561.11 1158.92 1564.57 Q1154.59 1568.04 1146.6 1568.04 L1129.54 1568.04 L1129.54 1520.52 Z\" fill=\"#000000\" fill-rule=\"evenodd\" fill-opacity=\"1\" /><path clip-path=\"url(#clip640)\" d=\"M1174 1518.52 L1179.86 1518.52 L1179.86 1568.04 L1174 1568.04 L1174 1518.52 Z\" fill=\"#000000\" fill-rule=\"evenodd\" fill-opacity=\"1\" /><path clip-path=\"url(#clip640)\" d=\"M1205.93 1536.5 Q1201.22 1536.5 1198.48 1540.19 Q1195.74 1543.85 1195.74 1550.25 Q1195.74 1556.65 1198.45 1560.34 Q1201.19 1564 1205.93 1564 Q1210.61 1564 1213.34 1560.31 Q1216.08 1556.62 1216.08 1550.25 Q1216.08 1543.92 1213.34 1540.23 Q1210.61 1536.5 1205.93 1536.5 M1205.93 1531.54 Q1213.57 1531.54 1217.93 1536.5 Q1222.29 1541.47 1222.29 1550.25 Q1222.29 1559 1217.93 1564 Q1213.57 1568.97 1205.93 1568.97 Q1198.26 1568.97 1193.9 1564 Q1189.57 1559 1189.57 1550.25 Q1189.57 1541.47 1193.9 1536.5 Q1198.26 1531.54 1205.93 1531.54 Z\" fill=\"#000000\" fill-rule=\"evenodd\" fill-opacity=\"1\" /><path clip-path=\"url(#clip640)\" d=\"M1257.65 1533.76 L1257.65 1539.24 Q1255.17 1537.87 1252.65 1537.2 Q1250.17 1536.5 1247.62 1536.5 Q1241.93 1536.5 1238.78 1540.13 Q1235.62 1543.73 1235.62 1550.25 Q1235.62 1556.78 1238.78 1560.4 Q1241.93 1564 1247.62 1564 Q1250.17 1564 1252.65 1563.33 Q1255.17 1562.63 1257.65 1561.26 L1257.65 1566.68 Q1255.2 1567.82 1252.56 1568.39 Q1249.95 1568.97 1246.99 1568.97 Q1238.93 1568.97 1234.19 1563.91 Q1229.45 1558.85 1229.45 1550.25 Q1229.45 1541.53 1234.22 1536.53 Q1239.03 1531.54 1247.37 1531.54 Q1250.07 1531.54 1252.65 1532.11 Q1255.23 1532.65 1257.65 1533.76 Z\" fill=\"#000000\" fill-rule=\"evenodd\" fill-opacity=\"1\" /><path clip-path=\"url(#clip640)\" d=\"M1267.61 1518.52 L1273.5 1518.52 L1273.5 1547.77 L1290.97 1532.4 L1298.45 1532.4 L1279.55 1549.07 L1299.25 1568.04 L1291.61 1568.04 L1273.5 1550.63 L1273.5 1568.04 L1267.61 1568.04 L1267.61 1518.52 Z\" fill=\"#000000\" fill-rule=\"evenodd\" fill-opacity=\"1\" /><path clip-path=\"url(#clip640)\" d=\"M1349.03 1533.45 L1349.03 1538.98 Q1346.55 1537.71 1343.87 1537.07 Q1341.2 1536.44 1338.33 1536.44 Q1333.97 1536.44 1331.78 1537.77 Q1329.61 1539.11 1329.61 1541.79 Q1329.61 1543.82 1331.17 1545 Q1332.73 1546.15 1337.44 1547.2 L1339.45 1547.64 Q1345.69 1548.98 1348.3 1551.43 Q1350.94 1553.85 1350.94 1558.21 Q1350.94 1563.17 1346.99 1566.07 Q1343.08 1568.97 1336.2 1568.97 Q1333.34 1568.97 1330.22 1568.39 Q1327.13 1567.85 1323.69 1566.74 L1323.69 1560.69 Q1326.94 1562.38 1330.09 1563.24 Q1333.24 1564.07 1336.33 1564.07 Q1340.47 1564.07 1342.7 1562.66 Q1344.92 1561.23 1344.92 1558.65 Q1344.92 1556.27 1343.3 1554.99 Q1341.71 1553.72 1336.27 1552.54 L1334.23 1552.07 Q1328.79 1550.92 1326.37 1548.56 Q1323.95 1546.18 1323.95 1542.04 Q1323.95 1537.01 1327.51 1534.27 Q1331.08 1531.54 1337.63 1531.54 Q1340.88 1531.54 1343.75 1532.01 Q1346.61 1532.49 1349.03 1533.45 Z\" fill=\"#000000\" fill-rule=\"evenodd\" fill-opacity=\"1\" /><path clip-path=\"url(#clip640)\" d=\"M1360.26 1532.4 L1366.12 1532.4 L1366.12 1568.04 L1360.26 1568.04 L1360.26 1532.4 M1360.26 1518.52 L1366.12 1518.52 L1366.12 1525.93 L1360.26 1525.93 L1360.26 1518.52 Z\" fill=\"#000000\" fill-rule=\"evenodd\" fill-opacity=\"1\" /><path clip-path=\"url(#clip640)\" d=\"M1375.83 1532.4 L1403.65 1532.4 L1403.65 1537.74 L1381.62 1563.37 L1403.65 1563.37 L1403.65 1568.04 L1375.03 1568.04 L1375.03 1562.7 L1397.06 1537.07 L1375.83 1537.07 L1375.83 1532.4 Z\" fill=\"#000000\" fill-rule=\"evenodd\" fill-opacity=\"1\" /><path clip-path=\"url(#clip640)\" d=\"M1443.08 1548.76 L1443.08 1551.62 L1416.16 1551.62 Q1416.54 1557.67 1419.78 1560.85 Q1423.06 1564 1428.89 1564 Q1432.26 1564 1435.41 1563.17 Q1438.59 1562.35 1441.71 1560.69 L1441.71 1566.23 Q1438.56 1567.57 1435.25 1568.27 Q1431.94 1568.97 1428.54 1568.97 Q1420.01 1568.97 1415.01 1564 Q1410.04 1559.04 1410.04 1550.57 Q1410.04 1541.82 1414.76 1536.69 Q1419.5 1531.54 1427.52 1531.54 Q1434.71 1531.54 1438.88 1536.18 Q1443.08 1540.8 1443.08 1548.76 M1437.23 1547.04 Q1437.16 1542.23 1434.52 1539.37 Q1431.91 1536.5 1427.58 1536.5 Q1422.68 1536.5 1419.72 1539.27 Q1416.79 1542.04 1416.35 1547.07 L1437.23 1547.04 Z\" fill=\"#000000\" fill-rule=\"evenodd\" fill-opacity=\"1\" /><polyline clip-path=\"url(#clip642)\" style=\"stroke:#000000; stroke-linecap:round; stroke-linejoin:round; stroke-width:2; stroke-opacity:0.1; fill:none\" points=\"\n",
       "  219.866,1389.68 2352.76,1389.68 \n",
       "  \"/>\n",
       "<polyline clip-path=\"url(#clip642)\" style=\"stroke:#000000; stroke-linecap:round; stroke-linejoin:round; stroke-width:2; stroke-opacity:0.1; fill:none\" points=\"\n",
       "  219.866,1003.14 2352.76,1003.14 \n",
       "  \"/>\n",
       "<polyline clip-path=\"url(#clip642)\" style=\"stroke:#000000; stroke-linecap:round; stroke-linejoin:round; stroke-width:2; stroke-opacity:0.1; fill:none\" points=\"\n",
       "  219.866,616.604 2352.76,616.604 \n",
       "  \"/>\n",
       "<polyline clip-path=\"url(#clip642)\" style=\"stroke:#000000; stroke-linecap:round; stroke-linejoin:round; stroke-width:2; stroke-opacity:0.1; fill:none\" points=\"\n",
       "  219.866,230.065 2352.76,230.065 \n",
       "  \"/>\n",
       "<polyline clip-path=\"url(#clip640)\" style=\"stroke:#000000; stroke-linecap:round; stroke-linejoin:round; stroke-width:4; stroke-opacity:1; fill:none\" points=\"\n",
       "  219.866,1423.18 219.866,47.2441 \n",
       "  \"/>\n",
       "<polyline clip-path=\"url(#clip640)\" style=\"stroke:#000000; stroke-linecap:round; stroke-linejoin:round; stroke-width:4; stroke-opacity:1; fill:none\" points=\"\n",
       "  219.866,1389.68 238.764,1389.68 \n",
       "  \"/>\n",
       "<polyline clip-path=\"url(#clip640)\" style=\"stroke:#000000; stroke-linecap:round; stroke-linejoin:round; stroke-width:4; stroke-opacity:1; fill:none\" points=\"\n",
       "  219.866,1003.14 238.764,1003.14 \n",
       "  \"/>\n",
       "<polyline clip-path=\"url(#clip640)\" style=\"stroke:#000000; stroke-linecap:round; stroke-linejoin:round; stroke-width:4; stroke-opacity:1; fill:none\" points=\"\n",
       "  219.866,616.604 238.764,616.604 \n",
       "  \"/>\n",
       "<polyline clip-path=\"url(#clip640)\" style=\"stroke:#000000; stroke-linecap:round; stroke-linejoin:round; stroke-width:4; stroke-opacity:1; fill:none\" points=\"\n",
       "  219.866,230.065 238.764,230.065 \n",
       "  \"/>\n",
       "<path clip-path=\"url(#clip640)\" d=\"M126.205 1375.48 Q122.593 1375.48 120.765 1379.04 Q118.959 1382.59 118.959 1389.72 Q118.959 1396.82 120.765 1400.39 Q122.593 1403.93 126.205 1403.93 Q129.839 1403.93 131.644 1400.39 Q133.473 1396.82 133.473 1389.72 Q133.473 1382.59 131.644 1379.04 Q129.839 1375.48 126.205 1375.48 M126.205 1371.78 Q132.015 1371.78 135.07 1376.38 Q138.149 1380.97 138.149 1389.72 Q138.149 1398.44 135.07 1403.05 Q132.015 1407.63 126.205 1407.63 Q120.394 1407.63 117.316 1403.05 Q114.26 1398.44 114.26 1389.72 Q114.26 1380.97 117.316 1376.38 Q120.394 1371.78 126.205 1371.78 Z\" fill=\"#000000\" fill-rule=\"evenodd\" fill-opacity=\"1\" /><path clip-path=\"url(#clip640)\" d=\"M146.366 1401.08 L151.251 1401.08 L151.251 1406.96 L146.366 1406.96 L146.366 1401.08 Z\" fill=\"#000000\" fill-rule=\"evenodd\" fill-opacity=\"1\" /><path clip-path=\"url(#clip640)\" d=\"M174.283 1376.48 L162.477 1394.92 L174.283 1394.92 L174.283 1376.48 M173.056 1372.4 L178.936 1372.4 L178.936 1394.92 L183.866 1394.92 L183.866 1398.81 L178.936 1398.81 L178.936 1406.96 L174.283 1406.96 L174.283 1398.81 L158.681 1398.81 L158.681 1394.3 L173.056 1372.4 Z\" fill=\"#000000\" fill-rule=\"evenodd\" fill-opacity=\"1\" /><path clip-path=\"url(#clip640)\" d=\"M127.686 988.941 Q124.075 988.941 122.246 992.506 Q120.441 996.048 120.441 1003.18 Q120.441 1010.28 122.246 1013.85 Q124.075 1017.39 127.686 1017.39 Q131.32 1017.39 133.126 1013.85 Q134.954 1010.28 134.954 1003.18 Q134.954 996.048 133.126 992.506 Q131.32 988.941 127.686 988.941 M127.686 985.238 Q133.496 985.238 136.552 989.844 Q139.63 994.427 139.63 1003.18 Q139.63 1011.9 136.552 1016.51 Q133.496 1021.09 127.686 1021.09 Q121.876 1021.09 118.797 1016.51 Q115.742 1011.9 115.742 1003.18 Q115.742 994.427 118.797 989.844 Q121.876 985.238 127.686 985.238 Z\" fill=\"#000000\" fill-rule=\"evenodd\" fill-opacity=\"1\" /><path clip-path=\"url(#clip640)\" d=\"M147.848 1014.54 L152.732 1014.54 L152.732 1020.42 L147.848 1020.42 L147.848 1014.54 Z\" fill=\"#000000\" fill-rule=\"evenodd\" fill-opacity=\"1\" /><path clip-path=\"url(#clip640)\" d=\"M162.964 985.863 L181.32 985.863 L181.32 989.798 L167.246 989.798 L167.246 998.27 Q168.264 997.923 169.283 997.761 Q170.302 997.575 171.32 997.575 Q177.107 997.575 180.487 1000.75 Q183.866 1003.92 183.866 1009.33 Q183.866 1014.91 180.394 1018.02 Q176.922 1021.09 170.602 1021.09 Q168.427 1021.09 166.158 1020.72 Q163.913 1020.35 161.505 1019.61 L161.505 1014.91 Q163.589 1016.05 165.811 1016.6 Q168.033 1017.16 170.51 1017.16 Q174.514 1017.16 176.852 1015.05 Q179.19 1012.95 179.19 1009.33 Q179.19 1005.72 176.852 1003.62 Q174.514 1001.51 170.51 1001.51 Q168.635 1001.51 166.76 1001.93 Q164.908 1002.34 162.964 1003.22 L162.964 985.863 Z\" fill=\"#000000\" fill-rule=\"evenodd\" fill-opacity=\"1\" /><path clip-path=\"url(#clip640)\" d=\"M126.529 602.402 Q122.918 602.402 121.089 605.967 Q119.283 609.509 119.283 616.638 Q119.283 623.745 121.089 627.31 Q122.918 630.851 126.529 630.851 Q130.163 630.851 131.968 627.31 Q133.797 623.745 133.797 616.638 Q133.797 609.509 131.968 605.967 Q130.163 602.402 126.529 602.402 M126.529 598.699 Q132.339 598.699 135.394 603.305 Q138.473 607.888 138.473 616.638 Q138.473 625.365 135.394 629.972 Q132.339 634.555 126.529 634.555 Q120.718 634.555 117.64 629.972 Q114.584 625.365 114.584 616.638 Q114.584 607.888 117.64 603.305 Q120.718 598.699 126.529 598.699 Z\" fill=\"#000000\" fill-rule=\"evenodd\" fill-opacity=\"1\" /><path clip-path=\"url(#clip640)\" d=\"M146.691 628.004 L151.575 628.004 L151.575 633.884 L146.691 633.884 L146.691 628.004 Z\" fill=\"#000000\" fill-rule=\"evenodd\" fill-opacity=\"1\" /><path clip-path=\"url(#clip640)\" d=\"M172.339 614.74 Q169.19 614.74 167.339 616.893 Q165.51 619.046 165.51 622.796 Q165.51 626.523 167.339 628.698 Q169.19 630.851 172.339 630.851 Q175.487 630.851 177.315 628.698 Q179.167 626.523 179.167 622.796 Q179.167 619.046 177.315 616.893 Q175.487 614.74 172.339 614.74 M181.621 600.088 L181.621 604.347 Q179.862 603.513 178.056 603.074 Q176.274 602.634 174.514 602.634 Q169.885 602.634 167.431 605.759 Q165.001 608.884 164.653 615.203 Q166.019 613.189 168.079 612.124 Q170.139 611.037 172.616 611.037 Q177.825 611.037 180.834 614.208 Q183.866 617.356 183.866 622.796 Q183.866 628.12 180.718 631.337 Q177.57 634.555 172.339 634.555 Q166.343 634.555 163.172 629.972 Q160.001 625.365 160.001 616.638 Q160.001 608.444 163.89 603.583 Q167.778 598.699 174.329 598.699 Q176.089 598.699 177.871 599.046 Q179.676 599.393 181.621 600.088 Z\" fill=\"#000000\" fill-rule=\"evenodd\" fill-opacity=\"1\" /><path clip-path=\"url(#clip640)\" d=\"M127.593 215.863 Q123.982 215.863 122.154 219.428 Q120.348 222.97 120.348 230.099 Q120.348 237.206 122.154 240.771 Q123.982 244.312 127.593 244.312 Q131.228 244.312 133.033 240.771 Q134.862 237.206 134.862 230.099 Q134.862 222.97 133.033 219.428 Q131.228 215.863 127.593 215.863 M127.593 212.16 Q133.404 212.16 136.459 216.766 Q139.538 221.349 139.538 230.099 Q139.538 238.826 136.459 243.433 Q133.404 248.016 127.593 248.016 Q121.783 248.016 118.705 243.433 Q115.649 238.826 115.649 230.099 Q115.649 221.349 118.705 216.766 Q121.783 212.16 127.593 212.16 Z\" fill=\"#000000\" fill-rule=\"evenodd\" fill-opacity=\"1\" /><path clip-path=\"url(#clip640)\" d=\"M147.755 241.465 L152.64 241.465 L152.64 247.345 L147.755 247.345 L147.755 241.465 Z\" fill=\"#000000\" fill-rule=\"evenodd\" fill-opacity=\"1\" /><path clip-path=\"url(#clip640)\" d=\"M161.644 212.785 L183.866 212.785 L183.866 214.775 L171.32 247.345 L166.436 247.345 L178.241 216.72 L161.644 216.72 L161.644 212.785 Z\" fill=\"#000000\" fill-rule=\"evenodd\" fill-opacity=\"1\" /><path clip-path=\"url(#clip640)\" d=\"M41.7242 895.58 Q42.4244 893.511 44.7161 891.57 Q47.0077 889.596 51.0181 887.623 L64.0042 881.098 L64.0042 888.005 L51.8138 894.084 Q47.0395 896.439 45.48 898.667 Q43.9204 900.864 43.9204 904.683 L43.9204 911.685 L64.0042 911.685 L64.0042 918.115 L16.4842 918.115 L16.4842 903.601 Q16.4842 895.453 19.8898 891.442 Q23.2955 887.432 30.1704 887.432 Q34.6582 887.432 37.6183 889.533 Q40.5784 891.601 41.7242 895.58 M21.7677 911.685 L38.6368 911.685 L38.6368 903.601 Q38.6368 898.954 36.5043 896.599 Q34.34 894.211 30.1704 894.211 Q26.0009 894.211 23.9002 896.599 Q21.7677 898.954 21.7677 903.601 L21.7677 911.685 Z\" fill=\"#000000\" fill-rule=\"evenodd\" fill-opacity=\"1\" /><path clip-path=\"url(#clip640)\" d=\"M49.9359 876.61 L28.3562 876.61 L28.3562 870.754 L49.7131 870.754 Q54.7739 870.754 57.3202 868.78 Q59.8346 866.807 59.8346 862.86 Q59.8346 858.118 56.8109 855.381 Q53.7872 852.612 48.5673 852.612 L28.3562 852.612 L28.3562 846.755 L64.0042 846.755 L64.0042 852.612 L58.5296 852.612 Q61.7762 854.744 63.3676 857.577 Q64.9272 860.378 64.9272 864.102 Q64.9272 870.245 61.1078 873.427 Q57.2883 876.61 49.9359 876.61 M27.4968 861.874 L27.4968 861.874 Z\" fill=\"#000000\" fill-rule=\"evenodd\" fill-opacity=\"1\" /><path clip-path=\"url(#clip640)\" d=\"M42.4881 805.06 L64.0042 805.06 L64.0042 810.916 L42.679 810.916 Q37.6183 810.916 35.1038 812.89 Q32.5894 814.863 32.5894 818.81 Q32.5894 823.552 35.6131 826.289 Q38.6368 829.027 43.8567 829.027 L64.0042 829.027 L64.0042 834.915 L28.3562 834.915 L28.3562 829.027 L33.8944 829.027 Q30.6797 826.926 29.0883 824.093 Q27.4968 821.229 27.4968 817.505 Q27.4968 811.362 31.3163 808.211 Q35.1038 805.06 42.4881 805.06 Z\" fill=\"#000000\" fill-rule=\"evenodd\" fill-opacity=\"1\" /><path clip-path=\"url(#clip640)\" d=\"M18.2347 787.586 L28.3562 787.586 L28.3562 775.523 L32.9077 775.523 L32.9077 787.586 L52.2594 787.586 Q56.6199 787.586 57.8613 786.408 Q59.1026 785.199 59.1026 781.538 L59.1026 775.523 L64.0042 775.523 L64.0042 781.538 Q64.0042 788.318 61.4897 790.896 Q58.9434 793.474 52.2594 793.474 L32.9077 793.474 L32.9077 797.771 L28.3562 797.771 L28.3562 793.474 L18.2347 793.474 L18.2347 787.586 Z\" fill=\"#000000\" fill-rule=\"evenodd\" fill-opacity=\"1\" /><path clip-path=\"url(#clip640)\" d=\"M28.3562 767.82 L28.3562 761.964 L64.0042 761.964 L64.0042 767.82 L28.3562 767.82 M14.479 767.82 L14.479 761.964 L21.895 761.964 L21.895 767.82 L14.479 767.82 Z\" fill=\"#000000\" fill-rule=\"evenodd\" fill-opacity=\"1\" /><path clip-path=\"url(#clip640)\" d=\"M35.1993 721.955 Q31.2526 719.759 29.3747 716.704 Q27.4968 713.648 27.4968 709.51 Q27.4968 703.94 31.4117 700.917 Q35.2948 697.893 42.4881 697.893 L64.0042 697.893 L64.0042 703.781 L42.679 703.781 Q37.5546 703.781 35.072 705.596 Q32.5894 707.41 32.5894 711.134 Q32.5894 715.685 35.6131 718.327 Q38.6368 720.969 43.8567 720.969 L64.0042 720.969 L64.0042 726.857 L42.679 726.857 Q37.5228 726.857 35.072 728.671 Q32.5894 730.485 32.5894 734.273 Q32.5894 738.761 35.6449 741.403 Q38.6686 744.044 43.8567 744.044 L64.0042 744.044 L64.0042 749.933 L28.3562 749.933 L28.3562 744.044 L33.8944 744.044 Q30.616 742.039 29.0564 739.238 Q27.4968 736.437 27.4968 732.586 Q27.4968 728.703 29.4702 725.998 Q31.4436 723.26 35.1993 721.955 Z\" fill=\"#000000\" fill-rule=\"evenodd\" fill-opacity=\"1\" /><path clip-path=\"url(#clip640)\" d=\"M44.7161 655.72 L47.5806 655.72 L47.5806 682.647 Q53.6281 682.265 56.8109 679.019 Q59.9619 675.74 59.9619 669.916 Q59.9619 666.542 59.1344 663.391 Q58.3069 660.208 56.6518 657.089 L62.1899 657.089 Q63.5267 660.24 64.227 663.55 Q64.9272 666.86 64.9272 670.266 Q64.9272 678.796 59.9619 683.793 Q54.9967 688.758 46.5303 688.758 Q37.7774 688.758 32.6531 684.048 Q27.4968 679.305 27.4968 671.284 Q27.4968 664.091 32.1438 659.922 Q36.7589 655.72 44.7161 655.72 M42.9973 661.577 Q38.1912 661.64 35.3266 664.282 Q32.4621 666.892 32.4621 671.221 Q32.4621 676.122 35.2312 679.082 Q38.0002 682.011 43.0292 682.456 L42.9973 661.577 Z\" fill=\"#000000\" fill-rule=\"evenodd\" fill-opacity=\"1\" /><path clip-path=\"url(#clip640)\" d=\"M14.5426 611.319 Q21.8632 615.584 29.0246 617.653 Q36.186 619.722 43.5384 619.722 Q50.8908 619.722 58.1159 617.653 Q65.3091 615.553 72.5979 611.319 L72.5979 616.412 Q65.1182 621.186 57.8931 623.573 Q50.668 625.929 43.5384 625.929 Q36.4406 625.929 29.2474 623.573 Q22.0542 621.218 14.5426 616.412 L14.5426 611.319 Z\" fill=\"#000000\" fill-rule=\"evenodd\" fill-opacity=\"1\" /><path clip-path=\"url(#clip640)\" d=\"M29.4065 577.231 L34.9447 577.231 Q33.6716 579.714 33.035 582.387 Q32.3984 585.061 32.3984 587.925 Q32.3984 592.286 33.7352 594.482 Q35.072 596.646 37.7456 596.646 Q39.7826 596.646 40.9603 595.087 Q42.1061 593.527 43.1565 588.817 L43.6021 586.811 Q44.9389 580.573 47.3897 577.963 Q49.8086 575.321 54.1691 575.321 Q59.1344 575.321 62.0308 579.268 Q64.9272 583.183 64.9272 590.058 Q64.9272 592.923 64.3543 596.042 Q63.8132 599.129 62.6992 602.567 L56.6518 602.567 Q58.3387 599.32 59.198 596.169 Q60.0256 593.018 60.0256 589.931 Q60.0256 585.793 58.6251 583.565 Q57.1929 581.337 54.6147 581.337 Q52.2276 581.337 50.9545 582.96 Q49.6813 584.552 48.5037 589.994 L48.0262 592.031 Q46.8804 597.474 44.5251 599.893 Q42.138 602.312 38.0002 602.312 Q32.9713 602.312 30.2341 598.747 Q27.4968 595.182 27.4968 588.626 Q27.4968 585.379 27.9743 582.515 Q28.4517 579.65 29.4065 577.231 Z\" fill=\"#000000\" fill-rule=\"evenodd\" fill-opacity=\"1\" /><path clip-path=\"url(#clip640)\" d=\"M14.5426 566.919 L14.5426 561.826 Q22.0542 557.052 29.2474 554.696 Q36.4406 552.309 43.5384 552.309 Q50.668 552.309 57.8931 554.696 Q65.1182 557.052 72.5979 561.826 L72.5979 566.919 Q65.3091 562.685 58.1159 560.617 Q50.8908 558.516 43.5384 558.516 Q36.186 558.516 29.0246 560.617 Q21.8632 562.685 14.5426 566.919 Z\" fill=\"#000000\" fill-rule=\"evenodd\" fill-opacity=\"1\" /><polyline clip-path=\"url(#clip642)\" style=\"stroke:#009af9; stroke-linecap:round; stroke-linejoin:round; stroke-width:4; stroke-opacity:1; fill:none\" points=\"\n",
       "  280.231,1384.24 727.378,710.543 1174.52,619.58 1398.1,496.233 2292.39,86.1857 \n",
       "  \"/>\n",
       "</svg>\n"
      ]
     },
     "execution_count": 80,
     "metadata": {},
     "output_type": "execute_result"
    }
   ],
   "source": [
    "plot(bsizes_list, runtimes_bsizes; xlabel= \"Block size\", ylabel = \"Runtime (s)\", legend = false)"
   ]
  },
  {
   "cell_type": "code",
   "execution_count": 81,
   "id": "1e2a7f2a-7227-489b-824e-202288d7196f",
   "metadata": {},
   "outputs": [
    {
     "data": {
      "text/plain": [
       "74-element Vector{UnitRange{Int64}}:\n",
       " 1:100\n",
       " 101:200\n",
       " 201:300\n",
       " 301:400\n",
       " 401:500\n",
       " 501:600\n",
       " 601:700\n",
       " 701:800\n",
       " 801:900\n",
       " 901:1000\n",
       " 1001:1100\n",
       " 1101:1200\n",
       " 1201:1300\n",
       " ⋮\n",
       " 6201:6300\n",
       " 6301:6400\n",
       " 6401:6500\n",
       " 6501:6600\n",
       " 6601:6700\n",
       " 6701:6800\n",
       " 6801:6900\n",
       " 6901:7000\n",
       " 7001:7100\n",
       " 7101:7200\n",
       " 7201:7300\n",
       " 7301:7321"
      ]
     },
     "execution_count": 81,
     "metadata": {},
     "output_type": "execute_result"
    }
   ],
   "source": [
    "blocks_partitions = partition_array_indices(p, 100)"
   ]
  },
  {
   "cell_type": "code",
   "execution_count": 82,
   "id": "fe56ba78-36d5-413e-b76c-4aa7d4ba562c",
   "metadata": {},
   "outputs": [
    {
     "data": {
      "text/plain": [
       "BenchmarkTools.Trial: 13 samples with 1 evaluation.\n",
       " Range \u001b[90m(\u001b[39m\u001b[36m\u001b[1mmin\u001b[22m\u001b[39m … \u001b[35mmax\u001b[39m\u001b[90m):  \u001b[39m\u001b[36m\u001b[1m388.611 ms\u001b[22m\u001b[39m … \u001b[35m403.443 ms\u001b[39m  \u001b[90m┊\u001b[39m GC \u001b[90m(\u001b[39mmin … max\u001b[90m): \u001b[39m0.00% … 0.00%\n",
       " Time  \u001b[90m(\u001b[39m\u001b[34m\u001b[1mmedian\u001b[22m\u001b[39m\u001b[90m):     \u001b[39m\u001b[34m\u001b[1m394.818 ms               \u001b[22m\u001b[39m\u001b[90m┊\u001b[39m GC \u001b[90m(\u001b[39mmedian\u001b[90m):    \u001b[39m0.00%\n",
       " Time  \u001b[90m(\u001b[39m\u001b[32m\u001b[1mmean\u001b[22m\u001b[39m ± \u001b[32mσ\u001b[39m\u001b[90m):   \u001b[39m\u001b[32m\u001b[1m395.894 ms\u001b[22m\u001b[39m ± \u001b[32m  4.164 ms\u001b[39m  \u001b[90m┊\u001b[39m GC \u001b[90m(\u001b[39mmean ± σ\u001b[90m):  \u001b[39m0.13% ± 0.48%\n",
       "\n",
       "  \u001b[39m█\u001b[39m \u001b[39m \u001b[39m \u001b[39m \u001b[39m \u001b[39m \u001b[39m \u001b[39m \u001b[39m \u001b[39m \u001b[39m \u001b[39m \u001b[39m█\u001b[39m█\u001b[39m \u001b[39m \u001b[39m \u001b[39m \u001b[39m \u001b[39m█\u001b[39m \u001b[39m \u001b[39m█\u001b[34m█\u001b[39m\u001b[39m█\u001b[39m \u001b[39m \u001b[39m \u001b[39m \u001b[32m \u001b[39m\u001b[39m \u001b[39m█\u001b[39m \u001b[39m█\u001b[39m \u001b[39m \u001b[39m \u001b[39m \u001b[39m█\u001b[39m \u001b[39m \u001b[39m \u001b[39m \u001b[39m \u001b[39m \u001b[39m \u001b[39m█\u001b[39m \u001b[39m \u001b[39m \u001b[39m \u001b[39m \u001b[39m█\u001b[39m \u001b[39m \u001b[39m \u001b[39m \u001b[39m \u001b[39m \u001b[39m█\u001b[39m \u001b[39m \n",
       "  \u001b[39m█\u001b[39m▁\u001b[39m▁\u001b[39m▁\u001b[39m▁\u001b[39m▁\u001b[39m▁\u001b[39m▁\u001b[39m▁\u001b[39m▁\u001b[39m▁\u001b[39m▁\u001b[39m▁\u001b[39m█\u001b[39m█\u001b[39m▁\u001b[39m▁\u001b[39m▁\u001b[39m▁\u001b[39m▁\u001b[39m█\u001b[39m▁\u001b[39m▁\u001b[39m█\u001b[34m█\u001b[39m\u001b[39m█\u001b[39m▁\u001b[39m▁\u001b[39m▁\u001b[39m▁\u001b[32m▁\u001b[39m\u001b[39m▁\u001b[39m█\u001b[39m▁\u001b[39m█\u001b[39m▁\u001b[39m▁\u001b[39m▁\u001b[39m▁\u001b[39m█\u001b[39m▁\u001b[39m▁\u001b[39m▁\u001b[39m▁\u001b[39m▁\u001b[39m▁\u001b[39m▁\u001b[39m█\u001b[39m▁\u001b[39m▁\u001b[39m▁\u001b[39m▁\u001b[39m▁\u001b[39m█\u001b[39m▁\u001b[39m▁\u001b[39m▁\u001b[39m▁\u001b[39m▁\u001b[39m▁\u001b[39m█\u001b[39m \u001b[39m▁\n",
       "  389 ms\u001b[90m           Histogram: frequency by time\u001b[39m          403 ms \u001b[0m\u001b[1m<\u001b[22m\n",
       "\n",
       " Memory estimate\u001b[90m: \u001b[39m\u001b[33m56.09 MiB\u001b[39m, allocs estimate\u001b[90m: \u001b[39m\u001b[33m5915\u001b[39m."
      ]
     },
     "execution_count": 82,
     "metadata": {},
     "output_type": "execute_result"
    }
   ],
   "source": [
    "@benchmark pmap(x -> scan_distributed_block(r0perm, X00, x), blocks_partitions)"
   ]
  },
  {
   "cell_type": "code",
   "execution_count": null,
   "id": "7b4a5aba-6807-4314-9300-b2ad17932883",
   "metadata": {},
   "outputs": [],
   "source": []
  },
  {
   "cell_type": "code",
   "execution_count": null,
   "id": "4586d680-b73c-4506-b8b5-0eb6c09e9976",
   "metadata": {},
   "outputs": [],
   "source": []
  },
  {
   "cell_type": "markdown",
   "id": "76e7e55e-1a76-480a-82ca-7172524f4cfc",
   "metadata": {},
   "source": [
    "## Miscellaneous:"
   ]
  },
  {
   "cell_type": "code",
   "execution_count": null,
   "id": "093b3771-eacb-494b-9d2c-477510f03949",
   "metadata": {},
   "outputs": [],
   "source": [
    "n = size(y0, 1)"
   ]
  },
  {
   "cell_type": "code",
   "execution_count": null,
   "id": "bb13ae51-891e-40a9-8275-a633b33c8d40",
   "metadata": {},
   "outputs": [],
   "source": [
    "Loops_y0 = Array{Float64, 2}(undef, n, 10);"
   ]
  },
  {
   "cell_type": "code",
   "execution_count": null,
   "id": "f165bce8-1113-440c-9ea3-30ddbc63c4a0",
   "metadata": {},
   "outputs": [],
   "source": [
    "for i = 1:10\n",
    "    Loops_y0[:, i] = rotateData(pheno_y, geno, kinship)[1]\n",
    "end\n",
    "\n",
    "first_col = Loops_y0[:, 1];"
   ]
  },
  {
   "cell_type": "code",
   "execution_count": null,
   "id": "d55188a7-55db-46db-8a9c-6af98c187b0c",
   "metadata": {},
   "outputs": [],
   "source": [
    "test_list = mapslices(x -> x .- first_col, Loops_y0; dims = 1);"
   ]
  },
  {
   "cell_type": "code",
   "execution_count": null,
   "id": "3810b6c6-a965-4eff-81da-e1d50c8f9ccf",
   "metadata": {},
   "outputs": [],
   "source": [
    "test_list"
   ]
  },
  {
   "cell_type": "code",
   "execution_count": null,
   "id": "186d4346-77c6-41aa-916a-588eb30cc474",
   "metadata": {},
   "outputs": [],
   "source": [
    "# addprocs(7);\n",
    "procs()"
   ]
  },
  {
   "cell_type": "code",
   "execution_count": null,
   "id": "a4e58112-4bc8-451a-939f-84f5d48c7869",
   "metadata": {},
   "outputs": [],
   "source": [
    "@everywhere begin\n",
    "    using Random\n",
    "    using LinearAlgebra\n",
    "    using Optim\n",
    "    using DelimitedFiles\n",
    "    \n",
    "    ## Include the source code of BulkLMM to be tested:\n",
    "    include(\"../src/scan.jl\");\n",
    "    include(\"../src/lmm.jl\");\n",
    "    include(\"../src/wls.jl\");\n",
    "    include(\"../src/util.jl\");\n",
    "    include(\"../src/kinship.jl\");\n",
    "    include(\"../src/readData.jl\");\n",
    "    include(\"../src/scan_for_tests.jl\")\n",
    "    include(\"../src/scan_distributed.jl\")\n",
    "\n",
    "end"
   ]
  },
  {
   "cell_type": "code",
   "execution_count": null,
   "id": "946810d5-3940-4ea9-af22-5e0381b15f97",
   "metadata": {},
   "outputs": [],
   "source": [
    "@everywhere begin \n",
    "    pheno_file = \"../data/bxdData/BXDtraits.csv\"\n",
    "    pheno = readBXDpheno(pheno_file);\n",
    "    geno_file = \"../data/bxdData/BXDgeno_prob.csv\"\n",
    "    geno = readGenoProb_ExcludeComplements(geno_file);\n",
    "\n",
    "    kinship = calcKinship(geno); # calculate kinship matrix from genotype data\n",
    "end"
   ]
  },
  {
   "cell_type": "code",
   "execution_count": null,
   "id": "b92e495f-4b8d-4918-a356-9f3ad38b91da",
   "metadata": {},
   "outputs": [],
   "source": [
    "procs()"
   ]
  },
  {
   "cell_type": "code",
   "execution_count": null,
   "id": "55b94089-413c-4d9a-9390-0659540848f8",
   "metadata": {},
   "outputs": [],
   "source": [
    "# rmprocs([2, 3, 4, 5, 6, 7, 8, 9, 10])"
   ]
  },
  {
   "cell_type": "code",
   "execution_count": null,
   "id": "04c55e2e-9a2f-4426-a373-eb9aa2ef483b",
   "metadata": {},
   "outputs": [],
   "source": [
    "disLoops_y0 = @distributed (hcat) for i = 1:10\n",
    "    rotateData(pheno_y, geno, kinship)[1]\n",
    "end\n",
    "\n",
    "first_dis_col = disLoops_y0[:, 1];\n"
   ]
  },
  {
   "cell_type": "code",
   "execution_count": null,
   "id": "f87da9cb-a31a-426a-b46e-9f3f227b050d",
   "metadata": {},
   "outputs": [],
   "source": [
    "test_dis_list = mapslices(x -> x .- first_dis_col, disLoops_y0; dims = 1);\n",
    "test_dis_list"
   ]
  },
  {
   "cell_type": "code",
   "execution_count": null,
   "id": "c6e7e522-5fff-46d1-b442-83679e1a1239",
   "metadata": {},
   "outputs": [],
   "source": [
    "pmaps_y0"
   ]
  },
  {
   "cell_type": "code",
   "execution_count": null,
   "id": "b101bb2b-f881-47f5-af95-20031f4393f8",
   "metadata": {},
   "outputs": [],
   "source": [
    "Loops_y0[1:15, 1:6]"
   ]
  },
  {
   "cell_type": "code",
   "execution_count": null,
   "id": "f2aa9c07-eef9-4afe-b606-6995796cc30e",
   "metadata": {},
   "outputs": [],
   "source": [
    "disLoops_y0[1:15, 1:6]"
   ]
  },
  {
   "cell_type": "code",
   "execution_count": null,
   "id": "d466472f-37d6-4b7b-9205-d8ad815adb7f",
   "metadata": {},
   "outputs": [],
   "source": [
    "scatter(disLoops_y0[1:15, 1])\n",
    "scatter!(Loops_y0[1:15, 1]; legend = false)"
   ]
  },
  {
   "cell_type": "code",
   "execution_count": null,
   "id": "a59320ea-13fa-4d53-9db9-aee848cc2942",
   "metadata": {},
   "outputs": [],
   "source": [
    "function getMaxLod(results::Array{Float64, 2})\n",
    "    \n",
    "    return mapslices(x -> maximum(x), results; dims = 2);\n",
    "    \n",
    "end"
   ]
  },
  {
   "cell_type": "code",
   "execution_count": null,
   "id": "1b8e9fc8-9046-4261-98a6-3d9fdd4c7d40",
   "metadata": {},
   "outputs": [],
   "source": []
  },
  {
   "cell_type": "code",
   "execution_count": null,
   "id": "938556a2-1125-4dcc-bbc1-304ecc3151e9",
   "metadata": {},
   "outputs": [],
   "source": []
  }
 ],
 "metadata": {
  "kernelspec": {
   "display_name": "Julia 1.8.1",
   "language": "julia",
   "name": "julia-1.8"
  },
  "language_info": {
   "file_extension": ".jl",
   "mimetype": "application/julia",
   "name": "julia",
   "version": "1.8.1"
  }
 },
 "nbformat": 4,
 "nbformat_minor": 5
}
