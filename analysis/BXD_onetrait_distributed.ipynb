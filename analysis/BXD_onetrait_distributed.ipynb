{
 "cells": [
  {
   "cell_type": "markdown",
   "id": "be4a68e3-58ba-4c1c-8ce7-4c7215a972a8",
   "metadata": {},
   "source": [
    "## Load-in dependencies:"
   ]
  },
  {
   "cell_type": "code",
   "execution_count": 1,
   "id": "382288c7-7b8e-4371-b2b7-b983334971ef",
   "metadata": {},
   "outputs": [],
   "source": [
    "using Pkg\n",
    "# Pkg.add(\"Profile\")\n",
    "# Pkg.instantiate()"
   ]
  },
  {
   "cell_type": "code",
   "execution_count": 2,
   "id": "a42289c4-20db-4359-b1ac-e171ada4d5f4",
   "metadata": {},
   "outputs": [],
   "source": [
    "#= dependencies = [\"DelimitedFiles\", \"LinearAlgebra\", \"Optim\", \"Distributions\", \"Test\",\n",
    "                \"BenchmarkTools\", \"Random\", \"CSV\", \"DataFrames\", \"Distributed\", \"Plots\"];\n",
    "Pkg.add(dependencies) =#"
   ]
  },
  {
   "cell_type": "code",
   "execution_count": 3,
   "id": "95957479-db20-4ae3-ac09-9a317d2daa8a",
   "metadata": {},
   "outputs": [],
   "source": [
    "using DelimitedFiles\n",
    "using LinearAlgebra\n",
    "using Optim\n",
    "using Distributions\n",
    "using Test\n",
    "using BenchmarkTools\n",
    "using Random\n",
    "using CSV\n",
    "using DataFrames\n",
    "using Plots\n",
    "using Profile\n",
    "using Distributed"
   ]
  },
  {
   "cell_type": "code",
   "execution_count": 4,
   "id": "712736c0-f753-47ad-aa4b-f7a4413d6fc0",
   "metadata": {},
   "outputs": [
    {
     "data": {
      "text/plain": [
       "\"/Users/FredYu/Documents/GitHub/BulkLMM.jl/analysis\""
      ]
     },
     "execution_count": 4,
     "metadata": {},
     "output_type": "execute_result"
    }
   ],
   "source": [
    "pwd()"
   ]
  },
  {
   "cell_type": "code",
   "execution_count": 5,
   "id": "141b951c-fc60-4870-b222-befad56b9703",
   "metadata": {},
   "outputs": [],
   "source": [
    "## Include the source code of BulkLMM to be tested:\n",
    "include(\"../src/scan.jl\");\n",
    "include(\"../src/lmm.jl\");\n",
    "include(\"../src/wls.jl\");\n",
    "include(\"../src/util.jl\");\n",
    "include(\"../src/kinship.jl\");\n",
    "include(\"../src/readData.jl\");\n",
    "include(\"../src/scan_for_tests.jl\")\n",
    "include(\"../src/scan_distributed.jl\") # new function\n",
    "\n",
    "## Also include the helper functions for writing tests:\n",
    "include(\"../test/testHelper.jl\");"
   ]
  },
  {
   "cell_type": "markdown",
   "id": "9cc6f4c7-da1c-43f1-903e-fbb31c632794",
   "metadata": {},
   "source": [
    "## Read in BXD data:"
   ]
  },
  {
   "cell_type": "code",
   "execution_count": 6,
   "id": "38f6c597-0edf-4c3c-bd63-b856a5b9fe65",
   "metadata": {},
   "outputs": [],
   "source": [
    "## Read in BXD data:\n",
    "pheno_file = \"../data/bxdData/BXDtraits.csv\"\n",
    "pheno = readBXDpheno(pheno_file);\n",
    "geno_file = \"../data/bxdData/BXDgeno_prob.csv\"\n",
    "geno = readGenoProb_ExcludeComplements(geno_file);\n",
    "\n",
    "kinship = calcKinship(geno); # calculate kinship matrix from genotype data"
   ]
  },
  {
   "cell_type": "code",
   "execution_count": 7,
   "id": "1acb6c64-4e0d-4839-be95-1ad7d7b9ad0a",
   "metadata": {},
   "outputs": [],
   "source": [
    "nperms = 1024; # number of permutated copies required;\n",
    "m = size(pheno, 2);\n",
    "p = size(geno, 2); # number of markers"
   ]
  },
  {
   "cell_type": "code",
   "execution_count": 8,
   "id": "a5e5184f-9265-446a-9a48-0ce0eb7417d3",
   "metadata": {},
   "outputs": [],
   "source": [
    "## Consider the 7919-th trait\n",
    "pheno_y = reshape(pheno[:, 7919], :, 1);"
   ]
  },
  {
   "cell_type": "code",
   "execution_count": 9,
   "id": "b678d1cd-a17d-4b45-8e14-577f2a33b5db",
   "metadata": {},
   "outputs": [],
   "source": [
    "# Pkg.add(\"StatsBase\")"
   ]
  },
  {
   "cell_type": "code",
   "execution_count": 10,
   "id": "7675ff26-c476-4eea-9f3a-60fade88ba4c",
   "metadata": {},
   "outputs": [
    {
     "name": "stderr",
     "output_type": "stream",
     "text": [
      "WARNING: using StatsBase.rss in module Main conflicts with an existing identifier.\n"
     ]
    }
   ],
   "source": [
    "using StatsBase"
   ]
  },
  {
   "cell_type": "code",
   "execution_count": 11,
   "id": "6f43f414-80a9-4854-9077-0663399a785f",
   "metadata": {},
   "outputs": [],
   "source": [
    "n_seeds = 20;"
   ]
  },
  {
   "cell_type": "code",
   "execution_count": 12,
   "id": "e29da538-2332-4781-bfd3-2d78daea3c8e",
   "metadata": {},
   "outputs": [
    {
     "data": {
      "text/plain": [
       "20-element Vector{Int64}:\n",
       " 89\n",
       " 29\n",
       " 51\n",
       " 73\n",
       " 28\n",
       " 20\n",
       " 95\n",
       " 88\n",
       "  9\n",
       "  7\n",
       " 36\n",
       " 50\n",
       " 81\n",
       " 13\n",
       " 60\n",
       " 72\n",
       " 96\n",
       " 92\n",
       " 76\n",
       " 37"
      ]
     },
     "execution_count": 12,
     "metadata": {},
     "output_type": "execute_result"
    }
   ],
   "source": [
    "seeds_list = StatsBase.sample(1:100, n_seeds; replace = false)"
   ]
  },
  {
   "cell_type": "markdown",
   "id": "7d63ff9a-50c0-46e7-92d7-9ff7240d12ba",
   "metadata": {},
   "source": [
    "## Three phases of data transformations:"
   ]
  },
  {
   "cell_type": "code",
   "execution_count": 13,
   "id": "252f9cf2-5775-4148-960b-2ee1bdbd74c1",
   "metadata": {},
   "outputs": [],
   "source": [
    "(y0, X0, lambda0) = transform1(pheno_y, geno, kinship);"
   ]
  },
  {
   "cell_type": "code",
   "execution_count": 14,
   "id": "dfc8027f-58e7-44f4-bdcb-857a73ab1027",
   "metadata": {},
   "outputs": [],
   "source": [
    "# unique(round.(lambda0; digits = 3))"
   ]
  },
  {
   "cell_type": "code",
   "execution_count": 15,
   "id": "a05ce101-8fbf-4150-b460-9ca4b28f91da",
   "metadata": {},
   "outputs": [],
   "source": [
    "(r0, X00) = transform2(y0, X0, lambda0; reml = false);"
   ]
  },
  {
   "cell_type": "markdown",
   "id": "7711ff59-862a-44c9-9a82-ccc6190cc307",
   "metadata": {},
   "source": [
    "## Study: distribute over permutations"
   ]
  },
  {
   "cell_type": "markdown",
   "id": "06e355c8-25c3-4eac-bbda-03f50807a92a",
   "metadata": {},
   "source": [
    "### Check results:"
   ]
  },
  {
   "cell_type": "markdown",
   "id": "4e44beec-dd41-4f9a-b99d-7170aa3f8d18",
   "metadata": {},
   "source": [
    "Will the results be consistent, if we fixed the set of rotated data for further algorithm?"
   ]
  },
  {
   "cell_type": "code",
   "execution_count": 16,
   "id": "766dd6a1-e3d0-41d9-b269-a955693c61de",
   "metadata": {},
   "outputs": [],
   "source": [
    "map_results = map(x -> scan_distributed(y0, X0, lambda0; nperms = 100, rndseed = x, original = false), seeds_list);\n",
    "map_LODs = reduce(vcat, map_results);"
   ]
  },
  {
   "cell_type": "code",
   "execution_count": 16,
   "id": "d87a0750-9ab3-4826-83c9-35e4326a9385",
   "metadata": {},
   "outputs": [],
   "source": [
    "using Distributed"
   ]
  },
  {
   "cell_type": "code",
   "execution_count": 17,
   "id": "8eddfec9-ec68-49c5-9ad4-e10695f0321f",
   "metadata": {},
   "outputs": [],
   "source": [
    "addprocs(3);"
   ]
  },
  {
   "cell_type": "code",
   "execution_count": 18,
   "id": "09bddffd-584e-4c67-b11e-23bc02c29dbc",
   "metadata": {},
   "outputs": [
    {
     "data": {
      "text/plain": [
       "4-element Vector{Int64}:\n",
       " 1\n",
       " 2\n",
       " 3\n",
       " 4"
      ]
     },
     "execution_count": 18,
     "metadata": {},
     "output_type": "execute_result"
    }
   ],
   "source": [
    "procs()"
   ]
  },
  {
   "cell_type": "code",
   "execution_count": 20,
   "id": "8b4e841f-6fdf-4e5f-8838-f9c7adb7a941",
   "metadata": {},
   "outputs": [],
   "source": [
    "# rmprocs(collect(1:8))"
   ]
  },
  {
   "cell_type": "code",
   "execution_count": 20,
   "id": "ae45e99e-5ce3-453b-84bb-26c76c968b27",
   "metadata": {},
   "outputs": [],
   "source": [
    "@everywhere begin\n",
    "    using Random\n",
    "    using LinearAlgebra\n",
    "    using Optim\n",
    "    using Distributed\n",
    "    \n",
    "    ## Include the source code of BulkLMM to be tested:\n",
    "    include(\"../src/scan.jl\");\n",
    "    include(\"../src/lmm.jl\");\n",
    "    include(\"../src/wls.jl\");\n",
    "    include(\"../src/util.jl\");\n",
    "    include(\"../src/kinship.jl\");\n",
    "    include(\"../src/readData.jl\");\n",
    "    include(\"../src/scan_for_tests.jl\")\n",
    "    include(\"../src/scan_distributed.jl\")\n",
    "\n",
    "end"
   ]
  },
  {
   "cell_type": "code",
   "execution_count": 23,
   "id": "12c3e863-11bf-4dc5-9b71-ec27d05077dd",
   "metadata": {},
   "outputs": [],
   "source": [
    "pmap_results = pmap(x -> scan_distributed(y0, X0, lambda0; nperms = 100, rndseed = x, original = false), seeds_list);\n",
    "pmap_LODs = reduce(vcat, pmap_results);"
   ]
  },
  {
   "cell_type": "code",
   "execution_count": 24,
   "id": "dc7f09f3-1292-4c6d-acc0-bdc5b4456431",
   "metadata": {},
   "outputs": [
    {
     "data": {
      "text/plain": [
       "(2000, 7321)"
      ]
     },
     "execution_count": 24,
     "metadata": {},
     "output_type": "execute_result"
    }
   ],
   "source": [
    "size(pmap_LODs)"
   ]
  },
  {
   "cell_type": "code",
   "execution_count": 25,
   "id": "fea8edc8-0ece-493f-a979-b999e292a28a",
   "metadata": {},
   "outputs": [
    {
     "data": {
      "text/plain": [
       "6×6 Matrix{Float64}:\n",
       " 0.0609393  0.0609393  0.0609393  0.0609393  0.0609393  0.0609393\n",
       " 0.0829961  0.0829961  0.0829961  0.0829961  0.0829961  0.0829961\n",
       " 0.540679   0.540679   0.540679   0.540679   0.540679   0.540679\n",
       " 0.0118482  0.0118482  0.0118482  0.0118482  0.0118482  0.0118482\n",
       " 0.493782   0.493782   0.493782   0.493782   0.493782   0.493782\n",
       " 0.0472641  0.0472641  0.0472641  0.0472641  0.0472641  0.0472641"
      ]
     },
     "execution_count": 25,
     "metadata": {},
     "output_type": "execute_result"
    }
   ],
   "source": [
    "pmap_LODs[1:6, 1:6]"
   ]
  },
  {
   "cell_type": "code",
   "execution_count": 26,
   "id": "e3d3cebf-b481-4efb-a6c9-ef8bd53614e1",
   "metadata": {},
   "outputs": [
    {
     "data": {
      "text/plain": [
       "6×6 Matrix{Float64}:\n",
       " 0.0609393  0.0609393  0.0609393  0.0609393  0.0609393  0.0609393\n",
       " 0.0829961  0.0829961  0.0829961  0.0829961  0.0829961  0.0829961\n",
       " 0.540679   0.540679   0.540679   0.540679   0.540679   0.540679\n",
       " 0.0118482  0.0118482  0.0118482  0.0118482  0.0118482  0.0118482\n",
       " 0.493782   0.493782   0.493782   0.493782   0.493782   0.493782\n",
       " 0.0472641  0.0472641  0.0472641  0.0472641  0.0472641  0.0472641"
      ]
     },
     "execution_count": 26,
     "metadata": {},
     "output_type": "execute_result"
    }
   ],
   "source": [
    "map_LODs[1:6, 1:6]"
   ]
  },
  {
   "cell_type": "code",
   "execution_count": 27,
   "id": "47b96d51-69e3-441c-bcb9-7010c631afa7",
   "metadata": {},
   "outputs": [
    {
     "data": {
      "text/plain": [
       "0.0"
      ]
     },
     "execution_count": 27,
     "metadata": {},
     "output_type": "execute_result"
    }
   ],
   "source": [
    "maxSqDiff(map_LODs, pmap_LODs) "
   ]
  },
  {
   "cell_type": "markdown",
   "id": "f3aaea5b-9bf0-4d7f-a34b-5f50af86a34a",
   "metadata": {},
   "source": [
    "It turned out that if we give the same set of rotated data, results will match, which implies that the inconsistency of results may only be due to the rotation process (sign ambiguity in eigendecomposition)."
   ]
  },
  {
   "cell_type": "markdown",
   "id": "4a3eef2a-1cb7-4845-8627-7c054c3a8b14",
   "metadata": {},
   "source": [
    "### Benchmarking:"
   ]
  },
  {
   "cell_type": "markdown",
   "id": "703112f2-2a89-4f87-ac34-86e3b6148963",
   "metadata": {},
   "source": [
    "map(permutations)"
   ]
  },
  {
   "cell_type": "code",
   "execution_count": 28,
   "id": "43bc38b5-374a-47e1-ab9b-c593ccd1d67e",
   "metadata": {},
   "outputs": [
    {
     "data": {
      "text/plain": [
       "BenchmarkTools.Trial: 1 sample with 1 evaluation.\n",
       " Single result which took \u001b[34m21.640 s\u001b[39m (20.92% GC) to evaluate,\n",
       " with a memory estimate of \u001b[33m26.96 GiB\u001b[39m, over \u001b[33m1474385\u001b[39m allocations."
      ]
     },
     "execution_count": 28,
     "metadata": {},
     "output_type": "execute_result"
    }
   ],
   "source": [
    "@benchmark begin\n",
    "    transform1(pheno_y, geno, kinship);\n",
    "    map(x -> scan_distributed(y0, X0, lambda0; nperms = 100, rndseed = x, original = false), seeds_list)\n",
    "end"
   ]
  },
  {
   "cell_type": "markdown",
   "id": "80b9d1bc-970c-4879-8311-17bd11d1184e",
   "metadata": {},
   "source": [
    "pmap(permutations)"
   ]
  },
  {
   "cell_type": "code",
   "execution_count": 29,
   "id": "9883cb26-df86-486d-9791-b414d3e9f9dc",
   "metadata": {},
   "outputs": [
    {
     "data": {
      "text/plain": [
       "BenchmarkTools.Trial: 1 sample with 1 evaluation.\n",
       " Single result which took \u001b[34m10.133 s\u001b[39m (0.00% GC) to evaluate,\n",
       " with a memory estimate of \u001b[33m120.84 MiB\u001b[39m, over \u001b[33m4916\u001b[39m allocations."
      ]
     },
     "execution_count": 29,
     "metadata": {},
     "output_type": "execute_result"
    }
   ],
   "source": [
    "@benchmark begin\n",
    "    transform1(pheno_y, geno, kinship);\n",
    "    pmap(x -> scan_distributed(y0, X0, lambda0; nperms = 100, rndseed = x, original = false), seeds_list)\n",
    "end"
   ]
  },
  {
   "cell_type": "code",
   "execution_count": 30,
   "id": "47afdcec-4ffd-476a-a0f2-6e6eef625835",
   "metadata": {},
   "outputs": [
    {
     "data": {
      "text/plain": [
       "BenchmarkTools.Trial: 1 sample with 1 evaluation.\n",
       " Single result which took \u001b[34m20.225 s\u001b[39m (20.48% GC) to evaluate,\n",
       " with a memory estimate of \u001b[33m26.95 GiB\u001b[39m, over \u001b[33m1474362\u001b[39m allocations."
      ]
     },
     "execution_count": 30,
     "metadata": {},
     "output_type": "execute_result"
    }
   ],
   "source": [
    "@benchmark map(x -> scan_distributed(y0, X0, lambda0; nperms = 100, rndseed = x, original = false), seeds_list)"
   ]
  },
  {
   "cell_type": "code",
   "execution_count": 31,
   "id": "0ad01b3d-8b44-488f-bfca-4766af36f12e",
   "metadata": {},
   "outputs": [
    {
     "data": {
      "text/plain": [
       "BenchmarkTools.Trial: 3 samples with 1 evaluation.\n",
       " Range \u001b[90m(\u001b[39m\u001b[36m\u001b[1mmin\u001b[22m\u001b[39m … \u001b[35mmax\u001b[39m\u001b[90m):  \u001b[39m\u001b[36m\u001b[1m2.349 s\u001b[22m\u001b[39m … \u001b[35m  2.416 s\u001b[39m  \u001b[90m┊\u001b[39m GC \u001b[90m(\u001b[39mmin … max\u001b[90m): \u001b[39m0.00% … 0.00%\n",
       " Time  \u001b[90m(\u001b[39m\u001b[34m\u001b[1mmedian\u001b[22m\u001b[39m\u001b[90m):     \u001b[39m\u001b[34m\u001b[1m2.354 s              \u001b[22m\u001b[39m\u001b[90m┊\u001b[39m GC \u001b[90m(\u001b[39mmedian\u001b[90m):    \u001b[39m0.00%\n",
       " Time  \u001b[90m(\u001b[39m\u001b[32m\u001b[1mmean\u001b[22m\u001b[39m ± \u001b[32mσ\u001b[39m\u001b[90m):   \u001b[39m\u001b[32m\u001b[1m2.373 s\u001b[22m\u001b[39m ± \u001b[32m37.436 ms\u001b[39m  \u001b[90m┊\u001b[39m GC \u001b[90m(\u001b[39mmean ± σ\u001b[90m):  \u001b[39m0.00% ± 0.00%\n",
       "\n",
       "  \u001b[34m█\u001b[39m\u001b[39m \u001b[39m \u001b[39m \u001b[39m█\u001b[39m \u001b[39m \u001b[39m \u001b[39m \u001b[39m \u001b[39m \u001b[39m \u001b[39m \u001b[39m \u001b[39m \u001b[39m \u001b[39m \u001b[39m \u001b[39m \u001b[39m \u001b[32m \u001b[39m\u001b[39m \u001b[39m \u001b[39m \u001b[39m \u001b[39m \u001b[39m \u001b[39m \u001b[39m \u001b[39m \u001b[39m \u001b[39m \u001b[39m \u001b[39m \u001b[39m \u001b[39m \u001b[39m \u001b[39m \u001b[39m \u001b[39m \u001b[39m \u001b[39m \u001b[39m \u001b[39m \u001b[39m \u001b[39m \u001b[39m \u001b[39m \u001b[39m \u001b[39m \u001b[39m \u001b[39m \u001b[39m \u001b[39m \u001b[39m \u001b[39m \u001b[39m█\u001b[39m \u001b[39m \n",
       "  \u001b[34m█\u001b[39m\u001b[39m▁\u001b[39m▁\u001b[39m▁\u001b[39m█\u001b[39m▁\u001b[39m▁\u001b[39m▁\u001b[39m▁\u001b[39m▁\u001b[39m▁\u001b[39m▁\u001b[39m▁\u001b[39m▁\u001b[39m▁\u001b[39m▁\u001b[39m▁\u001b[39m▁\u001b[39m▁\u001b[39m▁\u001b[32m▁\u001b[39m\u001b[39m▁\u001b[39m▁\u001b[39m▁\u001b[39m▁\u001b[39m▁\u001b[39m▁\u001b[39m▁\u001b[39m▁\u001b[39m▁\u001b[39m▁\u001b[39m▁\u001b[39m▁\u001b[39m▁\u001b[39m▁\u001b[39m▁\u001b[39m▁\u001b[39m▁\u001b[39m▁\u001b[39m▁\u001b[39m▁\u001b[39m▁\u001b[39m▁\u001b[39m▁\u001b[39m▁\u001b[39m▁\u001b[39m▁\u001b[39m▁\u001b[39m▁\u001b[39m▁\u001b[39m▁\u001b[39m▁\u001b[39m▁\u001b[39m▁\u001b[39m▁\u001b[39m▁\u001b[39m█\u001b[39m \u001b[39m▁\n",
       "  2.35 s\u001b[90m         Histogram: frequency by time\u001b[39m        2.42 s \u001b[0m\u001b[1m<\u001b[22m\n",
       "\n",
       " Memory estimate\u001b[90m: \u001b[39m\u001b[33m55.94 MiB\u001b[39m, allocs estimate\u001b[90m: \u001b[39m\u001b[33m2436\u001b[39m."
      ]
     },
     "execution_count": 31,
     "metadata": {},
     "output_type": "execute_result"
    }
   ],
   "source": [
    "@benchmark pmap(x -> scan_distributed(y0, X0, lambda0; nperms = 50, rndseed = x, original = false), seeds_list)"
   ]
  },
  {
   "cell_type": "markdown",
   "id": "0c80c52d-5191-4776-8da5-1c136ab046e3",
   "metadata": {},
   "source": [
    "## Study: distribute over markers"
   ]
  },
  {
   "cell_type": "markdown",
   "id": "cd45a48a-2d99-4a76-bd81-a53f1f656aa8",
   "metadata": {},
   "source": [
    "### Check results:"
   ]
  },
  {
   "cell_type": "code",
   "execution_count": 32,
   "id": "74874ed2-8f8f-48c8-baf1-7ccf853a0001",
   "metadata": {},
   "outputs": [],
   "source": [
    "r0perm = transform3(r0; nperms = 1000, rndseed = 0, original = true);"
   ]
  },
  {
   "cell_type": "code",
   "execution_count": 33,
   "id": "1be41674-fa98-4982-9838-495500bb2c9a",
   "metadata": {},
   "outputs": [
    {
     "data": {
      "text/plain": [
       "(79, 1001)"
      ]
     },
     "execution_count": 33,
     "metadata": {},
     "output_type": "execute_result"
    }
   ],
   "source": [
    "size(r0perm) \n",
    "# 401 permutations of a vector of length 79 (79 measurements), plus the original, for results checking with scan_null"
   ]
  },
  {
   "cell_type": "code",
   "execution_count": 34,
   "id": "2dd81cf3-3c48-4e88-96bd-e9547f2c0305",
   "metadata": {},
   "outputs": [],
   "source": [
    "map_eachMarker_LODs = map(x -> scan_distributed(r0perm, X00, x), 1:7321);\n",
    "map_eachMarker_LODs = reduce(vcat, map_eachMarker_LODs);"
   ]
  },
  {
   "cell_type": "code",
   "execution_count": 35,
   "id": "631c7d1e-b3f9-4393-9df5-402d161ed0ff",
   "metadata": {},
   "outputs": [],
   "source": [
    "pmap_eachMarker_LODs = pmap(x -> scan_distributed(r0perm, X00, x), 1:7321);\n",
    "pmap_eachMarker_LODs = reduce(vcat, pmap_eachMarker_LODs);"
   ]
  },
  {
   "cell_type": "code",
   "execution_count": 36,
   "id": "449e94f5-c300-4a1a-820d-40e250577369",
   "metadata": {},
   "outputs": [],
   "source": [
    "scan_null_original = scan(pheno_y, geno, kinship)[3]; # original trait vector LODs"
   ]
  },
  {
   "cell_type": "code",
   "execution_count": 37,
   "id": "4f499998-9bab-44f2-9295-4f4f41a9285f",
   "metadata": {},
   "outputs": [
    {
     "data": {
      "text/plain": [
       "6×6 Matrix{Float64}:\n",
       " 0.00819636  1.71913  0.225974  0.0167808  0.0800067  0.000354535\n",
       " 0.00819636  1.71913  0.225974  0.0167808  0.0800067  0.000354535\n",
       " 0.00819636  1.71913  0.225974  0.0167808  0.0800067  0.000354535\n",
       " 0.00819636  1.71913  0.225974  0.0167808  0.0800067  0.000354535\n",
       " 0.00819636  1.71913  0.225974  0.0167808  0.0800067  0.000354535\n",
       " 0.00819636  1.71913  0.225974  0.0167808  0.0800067  0.000354535"
      ]
     },
     "execution_count": 37,
     "metadata": {},
     "output_type": "execute_result"
    }
   ],
   "source": [
    "map_eachMarker_LODs[1:6, 1:6]"
   ]
  },
  {
   "cell_type": "code",
   "execution_count": 38,
   "id": "07c937aa-945b-4ca8-8dfa-f08468b62c08",
   "metadata": {},
   "outputs": [
    {
     "data": {
      "text/plain": [
       "6×6 Matrix{Float64}:\n",
       " 0.00819636  1.71913  0.225974  0.0167808  0.0800067  0.000354535\n",
       " 0.00819636  1.71913  0.225974  0.0167808  0.0800067  0.000354535\n",
       " 0.00819636  1.71913  0.225974  0.0167808  0.0800067  0.000354535\n",
       " 0.00819636  1.71913  0.225974  0.0167808  0.0800067  0.000354535\n",
       " 0.00819636  1.71913  0.225974  0.0167808  0.0800067  0.000354535\n",
       " 0.00819636  1.71913  0.225974  0.0167808  0.0800067  0.000354535"
      ]
     },
     "execution_count": 38,
     "metadata": {},
     "output_type": "execute_result"
    }
   ],
   "source": [
    "pmap_eachMarker_LODs[1:6, 1:6]"
   ]
  },
  {
   "cell_type": "code",
   "execution_count": 39,
   "id": "4212c2a7-8856-4dec-a0a0-95d3bfec1b30",
   "metadata": {},
   "outputs": [
    {
     "data": {
      "text/plain": [
       "6-element Vector{Float64}:\n",
       " 0.008196360329322583\n",
       " 0.008196360329322583\n",
       " 0.008196360329331354\n",
       " 0.008196360329331354\n",
       " 0.008196360329322583\n",
       " 0.008196360329322583"
      ]
     },
     "execution_count": 39,
     "metadata": {},
     "output_type": "execute_result"
    }
   ],
   "source": [
    "scan_null_original[1:6]"
   ]
  },
  {
   "cell_type": "code",
   "execution_count": 40,
   "id": "2fddbe9e-c57c-4550-ad90-9e608274f379",
   "metadata": {},
   "outputs": [
    {
     "data": {
      "text/plain": [
       "7.888609052210118e-29"
      ]
     },
     "execution_count": 40,
     "metadata": {},
     "output_type": "execute_result"
    }
   ],
   "source": [
    "maxSqDiff(map_eachMarker_LODs, pmap_eachMarker_LODs)"
   ]
  },
  {
   "cell_type": "code",
   "execution_count": 41,
   "id": "e0521130-09f6-47c8-9f55-a58b506ec780",
   "metadata": {},
   "outputs": [
    {
     "data": {
      "text/plain": [
       "3.155443620884047e-28"
      ]
     },
     "execution_count": 41,
     "metadata": {},
     "output_type": "execute_result"
    }
   ],
   "source": [
    "maxSqDiff(reshape(pmap_eachMarker_LODs[:, 1], :, 1), reshape(scan_null_original, :, 1))"
   ]
  },
  {
   "cell_type": "code",
   "execution_count": 42,
   "id": "c4e4b50b-6ba4-4bab-9210-6feece5eda65",
   "metadata": {},
   "outputs": [],
   "source": [
    "disLoops_LODs = scan_distributed(r0perm, X00);"
   ]
  },
  {
   "cell_type": "code",
   "execution_count": 43,
   "id": "1d54ef5b-e800-4aff-a534-5d001eb4be1b",
   "metadata": {},
   "outputs": [
    {
     "data": {
      "text/plain": [
       "6×6 Matrix{Float64}:\n",
       " 0.00819636  1.71913  0.225974  0.0167808  0.0800067  0.000354535\n",
       " 0.00819636  1.71913  0.225974  0.0167808  0.0800067  0.000354535\n",
       " 0.00819636  1.71913  0.225974  0.0167808  0.0800067  0.000354535\n",
       " 0.00819636  1.71913  0.225974  0.0167808  0.0800067  0.000354535\n",
       " 0.00819636  1.71913  0.225974  0.0167808  0.0800067  0.000354535\n",
       " 0.00819636  1.71913  0.225974  0.0167808  0.0800067  0.000354535"
      ]
     },
     "execution_count": 43,
     "metadata": {},
     "output_type": "execute_result"
    }
   ],
   "source": [
    "disLoops_LODs[1:6, 1:6]"
   ]
  },
  {
   "cell_type": "code",
   "execution_count": 44,
   "id": "5d565857-e1b9-4aec-9643-792794f1c216",
   "metadata": {},
   "outputs": [
    {
     "data": {
      "text/plain": [
       "6×6 Matrix{Float64}:\n",
       " 0.00819636  1.71913  0.225974  0.0167808  0.0800067  0.000354535\n",
       " 0.00819636  1.71913  0.225974  0.0167808  0.0800067  0.000354535\n",
       " 0.00819636  1.71913  0.225974  0.0167808  0.0800067  0.000354535\n",
       " 0.00819636  1.71913  0.225974  0.0167808  0.0800067  0.000354535\n",
       " 0.00819636  1.71913  0.225974  0.0167808  0.0800067  0.000354535\n",
       " 0.00819636  1.71913  0.225974  0.0167808  0.0800067  0.000354535"
      ]
     },
     "execution_count": 44,
     "metadata": {},
     "output_type": "execute_result"
    }
   ],
   "source": [
    "pmap_eachMarker_LODs[1:6, 1:6]"
   ]
  },
  {
   "cell_type": "code",
   "execution_count": 45,
   "id": "7b513651-ba6b-42e7-902a-c6ca5a2f0b64",
   "metadata": {},
   "outputs": [
    {
     "data": {
      "text/plain": [
       "6×6 Matrix{Float64}:\n",
       " 0.00819636  1.71913  0.225974  0.0167808  0.0800067  0.000354535\n",
       " 0.00819636  1.71913  0.225974  0.0167808  0.0800067  0.000354535\n",
       " 0.00819636  1.71913  0.225974  0.0167808  0.0800067  0.000354535\n",
       " 0.00819636  1.71913  0.225974  0.0167808  0.0800067  0.000354535\n",
       " 0.00819636  1.71913  0.225974  0.0167808  0.0800067  0.000354535\n",
       " 0.00819636  1.71913  0.225974  0.0167808  0.0800067  0.000354535"
      ]
     },
     "execution_count": 45,
     "metadata": {},
     "output_type": "execute_result"
    }
   ],
   "source": [
    "permutedims(scan_perms2(pheno_y, geno, kinship; nperms = 400, rndseed = 0, original = true))[1:6, 1:6]"
   ]
  },
  {
   "cell_type": "markdown",
   "id": "b1bd4f30-4ae6-4832-ab0b-37edc7ee3cfc",
   "metadata": {},
   "source": [
    "### Benchmarking:"
   ]
  },
  {
   "cell_type": "code",
   "execution_count": 46,
   "id": "cbe7c522-3f17-48fe-aa46-08a28cc8ce54",
   "metadata": {},
   "outputs": [
    {
     "data": {
      "text/plain": [
       "BenchmarkTools.Trial: 1 sample with 1 evaluation.\n",
       " Single result which took \u001b[34m8.002 s\u001b[39m (13.76% GC) to evaluate,\n",
       " with a memory estimate of \u001b[33m13.29 GiB\u001b[39m, over \u001b[33m109817\u001b[39m allocations."
      ]
     },
     "execution_count": 46,
     "metadata": {},
     "output_type": "execute_result"
    }
   ],
   "source": [
    "@benchmark map(x -> scan_distributed(r0perm, X00, x), 1:7321)"
   ]
  },
  {
   "cell_type": "code",
   "execution_count": 47,
   "id": "ee5be303-4a98-4f0e-b10e-a15946144563",
   "metadata": {},
   "outputs": [
    {
     "data": {
      "text/plain": [
       "BenchmarkTools.Trial: 1 sample with 1 evaluation.\n",
       " Single result which took \u001b[34m13.347 s\u001b[39m (0.00% GC) to evaluate,\n",
       " with a memory estimate of \u001b[33m79.00 MiB\u001b[39m, over \u001b[33m521916\u001b[39m allocations."
      ]
     },
     "execution_count": 47,
     "metadata": {},
     "output_type": "execute_result"
    }
   ],
   "source": [
    "@benchmark pmap(x -> scan_distributed(r0perm, X00, x), 1:7321)"
   ]
  },
  {
   "cell_type": "code",
   "execution_count": 48,
   "id": "a89233e9-df2c-4d6d-8b0e-d0faebe0310c",
   "metadata": {},
   "outputs": [
    {
     "data": {
      "text/plain": [
       "BenchmarkTools.Trial: 1 sample with 1 evaluation.\n",
       " Single result which took \u001b[34m42.644 s\u001b[39m (0.00% GC) to evaluate,\n",
       " with a memory estimate of \u001b[33m223.80 MiB\u001b[39m, over \u001b[33m7741\u001b[39m allocations."
      ]
     },
     "execution_count": 48,
     "metadata": {},
     "output_type": "execute_result"
    }
   ],
   "source": [
    "@benchmark scan_distributed(r0perm, X00) # using distributed loops for each marker"
   ]
  },
  {
   "cell_type": "code",
   "execution_count": 49,
   "id": "fb3a393d-e12c-40b9-9bbf-2826bc50ba55",
   "metadata": {},
   "outputs": [
    {
     "data": {
      "text/plain": [
       "BenchmarkTools.Trial: 1 sample with 1 evaluation.\n",
       " Single result which took \u001b[34m8.139 s\u001b[39m (13.85% GC) to evaluate,\n",
       " with a memory estimate of \u001b[33m13.30 GiB\u001b[39m, over \u001b[33m117039\u001b[39m allocations."
      ]
     },
     "execution_count": 49,
     "metadata": {},
     "output_type": "execute_result"
    }
   ],
   "source": [
    " # using ordinary loops for each marker\n",
    "@benchmark scan_perms2(pheno_y, geno, kinship; nperms = 1000, original = true, rndseed = 0)"
   ]
  },
  {
   "cell_type": "code",
   "execution_count": 50,
   "id": "9313a38e-12fa-456e-864c-8cf595746278",
   "metadata": {},
   "outputs": [
    {
     "data": {
      "text/plain": [
       "UnitRange{Int64}"
      ]
     },
     "execution_count": 50,
     "metadata": {},
     "output_type": "execute_result"
    }
   ],
   "source": [
    "range = 1:6;\n",
    "typeof(range)"
   ]
  },
  {
   "cell_type": "markdown",
   "id": "762463e6-8c38-4b32-a69c-eb0174a0ba23",
   "metadata": {},
   "source": [
    "## Study: distribute over blocks of markers"
   ]
  },
  {
   "cell_type": "markdown",
   "id": "4787b6d4-ad80-440c-ba14-f46ef03687b9",
   "metadata": {},
   "source": [
    "### Check results:"
   ]
  },
  {
   "cell_type": "code",
   "execution_count": 51,
   "id": "0ee91846-4c02-476d-a9ee-daa4811c70e3",
   "metadata": {},
   "outputs": [],
   "source": [
    "r0perm = transform3(r0; nperms = 1000, rndseed = 0, original = true);"
   ]
  },
  {
   "cell_type": "code",
   "execution_count": 52,
   "id": "a5320b53-8296-467b-8501-34e114426d42",
   "metadata": {},
   "outputs": [
    {
     "data": {
      "text/plain": [
       "6×6 Matrix{Float64}:\n",
       " 0.00819636  1.71913  0.225974  0.0167808  0.0800067  0.000354535\n",
       " 0.00819636  1.71913  0.225974  0.0167808  0.0800067  0.000354535\n",
       " 0.00819636  1.71913  0.225974  0.0167808  0.0800067  0.000354535\n",
       " 0.00819636  1.71913  0.225974  0.0167808  0.0800067  0.000354535\n",
       " 0.00819636  1.71913  0.225974  0.0167808  0.0800067  0.000354535\n",
       " 0.00819636  1.71913  0.225974  0.0167808  0.0800067  0.000354535"
      ]
     },
     "execution_count": 52,
     "metadata": {},
     "output_type": "execute_result"
    }
   ],
   "source": [
    "permutedims(scan_distributed_block(r0perm, X00, 1:6))[1:6, 1:6]"
   ]
  },
  {
   "cell_type": "code",
   "execution_count": 53,
   "id": "3e21a30c-022f-4ffc-9374-ae704733f1b0",
   "metadata": {},
   "outputs": [
    {
     "data": {
      "text/plain": [
       "6×6 Matrix{Float64}:\n",
       " 0.00819636  1.71913  0.225974  0.0167808  0.0800067  0.000354535\n",
       " 0.00819636  1.71913  0.225974  0.0167808  0.0800067  0.000354535\n",
       " 0.00819636  1.71913  0.225974  0.0167808  0.0800067  0.000354535\n",
       " 0.00819636  1.71913  0.225974  0.0167808  0.0800067  0.000354535\n",
       " 0.00819636  1.71913  0.225974  0.0167808  0.0800067  0.000354535\n",
       " 0.00819636  1.71913  0.225974  0.0167808  0.0800067  0.000354535"
      ]
     },
     "execution_count": 53,
     "metadata": {},
     "output_type": "execute_result"
    }
   ],
   "source": [
    "pmap_eachMarker_LODs[1:6, 1:6]"
   ]
  },
  {
   "cell_type": "code",
   "execution_count": 54,
   "id": "9d2505af-c668-41e0-9022-9ae7e550ffd5",
   "metadata": {},
   "outputs": [
    {
     "data": {
      "text/plain": [
       "partition_array_indices (generic function with 1 method)"
      ]
     },
     "execution_count": 54,
     "metadata": {},
     "output_type": "execute_result"
    }
   ],
   "source": [
    "## https://stackoverflow.com/questions/26953340/partition-equivalent-in-julia\n",
    "\n",
    "function partition_array_indices(nb_data::Int, nb_data_per_chunk::Int)\n",
    "    nb_chunks = ceil(Int, nb_data / nb_data_per_chunk)\n",
    "    ids = UnitRange{Int}[]\n",
    "    for which_chunk = 1:nb_chunks\n",
    "        id_start::Int = 1 + nb_data_per_chunk * (which_chunk - 1)\n",
    "        id_end::Int = id_start - 1 + nb_data_per_chunk\n",
    "        if id_end > nb_data\n",
    "            id_end = nb_data\n",
    "        end\n",
    "        push!(ids, id_start:id_end)\n",
    "    end\n",
    "    return ids\n",
    "end"
   ]
  },
  {
   "cell_type": "code",
   "execution_count": 55,
   "id": "a4760034-68c1-475e-962d-38a898832858",
   "metadata": {},
   "outputs": [
    {
     "data": {
      "text/plain": [
       "8-element Vector{UnitRange{Int64}}:\n",
       " 1:1000\n",
       " 1001:2000\n",
       " 2001:3000\n",
       " 3001:4000\n",
       " 4001:5000\n",
       " 5001:6000\n",
       " 6001:7000\n",
       " 7001:7321"
      ]
     },
     "execution_count": 55,
     "metadata": {},
     "output_type": "execute_result"
    }
   ],
   "source": [
    "blocks_partitions = partition_array_indices(p, 1000)"
   ]
  },
  {
   "cell_type": "code",
   "execution_count": 56,
   "id": "a83cc9ce-9e02-4635-9462-bf4e94edc1b4",
   "metadata": {},
   "outputs": [],
   "source": [
    "map_blocks_LODs = map(x -> scan_distributed_block(r0perm, X00, x), blocks_partitions);\n",
    "map_blocks_LODs = permutedims(reduce(hcat, map_blocks_LODs));"
   ]
  },
  {
   "cell_type": "code",
   "execution_count": 57,
   "id": "5784aa69-7b3a-493b-b09f-88d67274419f",
   "metadata": {},
   "outputs": [
    {
     "data": {
      "text/plain": [
       "6×6 Matrix{Float64}:\n",
       " 0.00819636  1.71913  0.225974  0.0167808  0.0800067  0.000354535\n",
       " 0.00819636  1.71913  0.225974  0.0167808  0.0800067  0.000354535\n",
       " 0.00819636  1.71913  0.225974  0.0167808  0.0800067  0.000354535\n",
       " 0.00819636  1.71913  0.225974  0.0167808  0.0800067  0.000354535\n",
       " 0.00819636  1.71913  0.225974  0.0167808  0.0800067  0.000354535\n",
       " 0.00819636  1.71913  0.225974  0.0167808  0.0800067  0.000354535"
      ]
     },
     "execution_count": 57,
     "metadata": {},
     "output_type": "execute_result"
    }
   ],
   "source": [
    "map_blocks_LODs[1:6, 1:6]"
   ]
  },
  {
   "cell_type": "code",
   "execution_count": 58,
   "id": "75372147-56fd-4dfe-a9be-3fcf6ff896f2",
   "metadata": {},
   "outputs": [],
   "source": [
    "pmap_blocks_LODs = pmap(x -> scan_distributed_block(r0perm, X00, x), blocks_partitions);\n",
    "pmap_blocks_LODs = permutedims(reduce(hcat, pmap_blocks_LODs));"
   ]
  },
  {
   "cell_type": "code",
   "execution_count": 59,
   "id": "be8c641e-5fb9-4fa9-b45a-8e7adb68b053",
   "metadata": {},
   "outputs": [
    {
     "data": {
      "text/plain": [
       "6×6 Matrix{Float64}:\n",
       " 0.00819636  1.71913  0.225974  0.0167808  0.0800067  0.000354535\n",
       " 0.00819636  1.71913  0.225974  0.0167808  0.0800067  0.000354535\n",
       " 0.00819636  1.71913  0.225974  0.0167808  0.0800067  0.000354535\n",
       " 0.00819636  1.71913  0.225974  0.0167808  0.0800067  0.000354535\n",
       " 0.00819636  1.71913  0.225974  0.0167808  0.0800067  0.000354535\n",
       " 0.00819636  1.71913  0.225974  0.0167808  0.0800067  0.000354535"
      ]
     },
     "execution_count": 59,
     "metadata": {},
     "output_type": "execute_result"
    }
   ],
   "source": [
    "pmap_blocks_LODs[1:6, 1:6]"
   ]
  },
  {
   "cell_type": "code",
   "execution_count": 60,
   "id": "afbd61de-2fb4-49c2-9886-cfde83f17d26",
   "metadata": {},
   "outputs": [],
   "source": [
    "normal_LODs = scan_perms2(pheno_y, geno, kinship; nperms = 1000, rndseed = 0, original = true);\n",
    "normal_LODs = permutedims(normal_LODs);"
   ]
  },
  {
   "cell_type": "code",
   "execution_count": 61,
   "id": "0854c9c5-4218-4a71-a351-7a6d2b46fd7c",
   "metadata": {},
   "outputs": [
    {
     "data": {
      "text/plain": [
       "6×6 Matrix{Float64}:\n",
       " 0.00819636  1.71913  0.225974  0.0167808  0.0800067  0.000354535\n",
       " 0.00819636  1.71913  0.225974  0.0167808  0.0800067  0.000354535\n",
       " 0.00819636  1.71913  0.225974  0.0167808  0.0800067  0.000354535\n",
       " 0.00819636  1.71913  0.225974  0.0167808  0.0800067  0.000354535\n",
       " 0.00819636  1.71913  0.225974  0.0167808  0.0800067  0.000354535\n",
       " 0.00819636  1.71913  0.225974  0.0167808  0.0800067  0.000354535"
      ]
     },
     "execution_count": 61,
     "metadata": {},
     "output_type": "execute_result"
    }
   ],
   "source": [
    "normal_LODs[1:6, 1:6]"
   ]
  },
  {
   "cell_type": "code",
   "execution_count": 62,
   "id": "bdad4276-09f6-4fb6-8655-a9e20a3f62a4",
   "metadata": {},
   "outputs": [
    {
     "data": {
      "text/plain": [
       "7.888609052210118e-29"
      ]
     },
     "execution_count": 62,
     "metadata": {},
     "output_type": "execute_result"
    }
   ],
   "source": [
    "maxSqDiff(pmap_blocks_LODs, normal_LODs)"
   ]
  },
  {
   "cell_type": "markdown",
   "id": "6ae02731-ba9c-4fc7-acf8-0735d4a79ef9",
   "metadata": {},
   "source": [
    "### Benchmarking:"
   ]
  },
  {
   "cell_type": "code",
   "execution_count": 63,
   "id": "e3eca0d8-4744-4612-8981-f45658bdef8e",
   "metadata": {},
   "outputs": [
    {
     "data": {
      "text/plain": [
       "8-element Vector{UnitRange{Int64}}:\n",
       " 1:1000\n",
       " 1001:2000\n",
       " 2001:3000\n",
       " 3001:4000\n",
       " 4001:5000\n",
       " 5001:6000\n",
       " 6001:7000\n",
       " 7001:7321"
      ]
     },
     "execution_count": 63,
     "metadata": {},
     "output_type": "execute_result"
    }
   ],
   "source": [
    "blocks_partitions"
   ]
  },
  {
   "cell_type": "code",
   "execution_count": 64,
   "id": "8cbcf7d5-dca0-45fa-96d1-2b40f32114a8",
   "metadata": {},
   "outputs": [
    {
     "data": {
      "text/plain": [
       "BenchmarkTools.Trial: 1 sample with 1 evaluation.\n",
       " Single result which took \u001b[34m7.472 s\u001b[39m (12.89% GC) to evaluate,\n",
       " with a memory estimate of \u001b[33m13.27 GiB\u001b[39m, over \u001b[33m73284\u001b[39m allocations."
      ]
     },
     "execution_count": 64,
     "metadata": {},
     "output_type": "execute_result"
    }
   ],
   "source": [
    "@benchmark map(x -> scan_distributed_block(r0perm, X00, x), blocks_partitions)"
   ]
  },
  {
   "cell_type": "code",
   "execution_count": 65,
   "id": "dd2f7dee-e958-4ce7-84d2-aad3d07e8af7",
   "metadata": {},
   "outputs": [
    {
     "data": {
      "text/plain": [
       "BenchmarkTools.Trial: 2 samples with 1 evaluation.\n",
       " Range \u001b[90m(\u001b[39m\u001b[36m\u001b[1mmin\u001b[22m\u001b[39m … \u001b[35mmax\u001b[39m\u001b[90m):  \u001b[39m\u001b[36m\u001b[1m4.061 s\u001b[22m\u001b[39m … \u001b[35m   4.369 s\u001b[39m  \u001b[90m┊\u001b[39m GC \u001b[90m(\u001b[39mmin … max\u001b[90m): \u001b[39m0.00% … 0.00%\n",
       " Time  \u001b[90m(\u001b[39m\u001b[34m\u001b[1mmedian\u001b[22m\u001b[39m\u001b[90m):     \u001b[39m\u001b[34m\u001b[1m4.215 s               \u001b[22m\u001b[39m\u001b[90m┊\u001b[39m GC \u001b[90m(\u001b[39mmedian\u001b[90m):    \u001b[39m0.00%\n",
       " Time  \u001b[90m(\u001b[39m\u001b[32m\u001b[1mmean\u001b[22m\u001b[39m ± \u001b[32mσ\u001b[39m\u001b[90m):   \u001b[39m\u001b[32m\u001b[1m4.215 s\u001b[22m\u001b[39m ± \u001b[32m218.431 ms\u001b[39m  \u001b[90m┊\u001b[39m GC \u001b[90m(\u001b[39mmean ± σ\u001b[90m):  \u001b[39m0.00% ± 0.00%\n",
       "\n",
       "  \u001b[34m█\u001b[39m\u001b[39m \u001b[39m \u001b[39m \u001b[39m \u001b[39m \u001b[39m \u001b[39m \u001b[39m \u001b[39m \u001b[39m \u001b[39m \u001b[39m \u001b[39m \u001b[39m \u001b[39m \u001b[39m \u001b[39m \u001b[39m \u001b[39m \u001b[39m \u001b[39m \u001b[39m \u001b[39m \u001b[39m \u001b[39m \u001b[39m \u001b[39m \u001b[39m \u001b[32m \u001b[39m\u001b[39m \u001b[39m \u001b[39m \u001b[39m \u001b[39m \u001b[39m \u001b[39m \u001b[39m \u001b[39m \u001b[39m \u001b[39m \u001b[39m \u001b[39m \u001b[39m \u001b[39m \u001b[39m \u001b[39m \u001b[39m \u001b[39m \u001b[39m \u001b[39m \u001b[39m \u001b[39m \u001b[39m \u001b[39m \u001b[39m \u001b[39m \u001b[39m█\u001b[39m \u001b[39m \n",
       "  \u001b[34m█\u001b[39m\u001b[39m▁\u001b[39m▁\u001b[39m▁\u001b[39m▁\u001b[39m▁\u001b[39m▁\u001b[39m▁\u001b[39m▁\u001b[39m▁\u001b[39m▁\u001b[39m▁\u001b[39m▁\u001b[39m▁\u001b[39m▁\u001b[39m▁\u001b[39m▁\u001b[39m▁\u001b[39m▁\u001b[39m▁\u001b[39m▁\u001b[39m▁\u001b[39m▁\u001b[39m▁\u001b[39m▁\u001b[39m▁\u001b[39m▁\u001b[39m▁\u001b[39m▁\u001b[32m▁\u001b[39m\u001b[39m▁\u001b[39m▁\u001b[39m▁\u001b[39m▁\u001b[39m▁\u001b[39m▁\u001b[39m▁\u001b[39m▁\u001b[39m▁\u001b[39m▁\u001b[39m▁\u001b[39m▁\u001b[39m▁\u001b[39m▁\u001b[39m▁\u001b[39m▁\u001b[39m▁\u001b[39m▁\u001b[39m▁\u001b[39m▁\u001b[39m▁\u001b[39m▁\u001b[39m▁\u001b[39m▁\u001b[39m▁\u001b[39m▁\u001b[39m▁\u001b[39m█\u001b[39m \u001b[39m▁\n",
       "  460 s\u001b[90m          Histogram: frequency by time\u001b[39m         4.37 s \u001b[0m\u001b[1m<\u001b[22m\n",
       "\n",
       " Memory estimate\u001b[90m: \u001b[39m\u001b[33m56.01 MiB\u001b[39m, allocs estimate\u001b[90m: \u001b[39m\u001b[33m4731\u001b[39m."
      ]
     },
     "execution_count": 65,
     "metadata": {},
     "output_type": "execute_result"
    }
   ],
   "source": [
    "@benchmark pmap(x -> scan_distributed_block(r0perm, X00, x), blocks_partitions)"
   ]
  },
  {
   "cell_type": "code",
   "execution_count": 66,
   "id": "a0cf632e-36bf-462a-8a3c-2a9ac70aaac7",
   "metadata": {},
   "outputs": [
    {
     "data": {
      "text/plain": [
       "BenchmarkTools.Trial: 2 samples with 1 evaluation.\n",
       " Range \u001b[90m(\u001b[39m\u001b[36m\u001b[1mmin\u001b[22m\u001b[39m … \u001b[35mmax\u001b[39m\u001b[90m):  \u001b[39m\u001b[36m\u001b[1m4.168 s\u001b[22m\u001b[39m … \u001b[35m  4.284 s\u001b[39m  \u001b[90m┊\u001b[39m GC \u001b[90m(\u001b[39mmin … max\u001b[90m): \u001b[39m0.00% … 0.00%\n",
       " Time  \u001b[90m(\u001b[39m\u001b[34m\u001b[1mmedian\u001b[22m\u001b[39m\u001b[90m):     \u001b[39m\u001b[34m\u001b[1m4.226 s              \u001b[22m\u001b[39m\u001b[90m┊\u001b[39m GC \u001b[90m(\u001b[39mmedian\u001b[90m):    \u001b[39m0.00%\n",
       " Time  \u001b[90m(\u001b[39m\u001b[32m\u001b[1mmean\u001b[22m\u001b[39m ± \u001b[32mσ\u001b[39m\u001b[90m):   \u001b[39m\u001b[32m\u001b[1m4.226 s\u001b[22m\u001b[39m ± \u001b[32m82.002 ms\u001b[39m  \u001b[90m┊\u001b[39m GC \u001b[90m(\u001b[39mmean ± σ\u001b[90m):  \u001b[39m0.00% ± 0.00%\n",
       "\n",
       "  \u001b[34m█\u001b[39m\u001b[39m \u001b[39m \u001b[39m \u001b[39m \u001b[39m \u001b[39m \u001b[39m \u001b[39m \u001b[39m \u001b[39m \u001b[39m \u001b[39m \u001b[39m \u001b[39m \u001b[39m \u001b[39m \u001b[39m \u001b[39m \u001b[39m \u001b[39m \u001b[39m \u001b[39m \u001b[39m \u001b[39m \u001b[39m \u001b[39m \u001b[39m \u001b[32m \u001b[39m\u001b[39m \u001b[39m \u001b[39m \u001b[39m \u001b[39m \u001b[39m \u001b[39m \u001b[39m \u001b[39m \u001b[39m \u001b[39m \u001b[39m \u001b[39m \u001b[39m \u001b[39m \u001b[39m \u001b[39m \u001b[39m \u001b[39m \u001b[39m \u001b[39m \u001b[39m \u001b[39m \u001b[39m \u001b[39m \u001b[39m \u001b[39m \u001b[39m█\u001b[39m \u001b[39m \n",
       "  \u001b[34m█\u001b[39m\u001b[39m▁\u001b[39m▁\u001b[39m▁\u001b[39m▁\u001b[39m▁\u001b[39m▁\u001b[39m▁\u001b[39m▁\u001b[39m▁\u001b[39m▁\u001b[39m▁\u001b[39m▁\u001b[39m▁\u001b[39m▁\u001b[39m▁\u001b[39m▁\u001b[39m▁\u001b[39m▁\u001b[39m▁\u001b[39m▁\u001b[39m▁\u001b[39m▁\u001b[39m▁\u001b[39m▁\u001b[39m▁\u001b[39m▁\u001b[39m▁\u001b[32m▁\u001b[39m\u001b[39m▁\u001b[39m▁\u001b[39m▁\u001b[39m▁\u001b[39m▁\u001b[39m▁\u001b[39m▁\u001b[39m▁\u001b[39m▁\u001b[39m▁\u001b[39m▁\u001b[39m▁\u001b[39m▁\u001b[39m▁\u001b[39m▁\u001b[39m▁\u001b[39m▁\u001b[39m▁\u001b[39m▁\u001b[39m▁\u001b[39m▁\u001b[39m▁\u001b[39m▁\u001b[39m▁\u001b[39m▁\u001b[39m▁\u001b[39m▁\u001b[39m█\u001b[39m \u001b[39m▁\n",
       "  4.17 s\u001b[90m         Histogram: frequency by time\u001b[39m        4.28 s \u001b[0m\u001b[1m<\u001b[22m\n",
       "\n",
       " Memory estimate\u001b[90m: \u001b[39m\u001b[33m82.87 MiB\u001b[39m, allocs estimate\u001b[90m: \u001b[39m\u001b[33m1642\u001b[39m."
      ]
     },
     "execution_count": 66,
     "metadata": {},
     "output_type": "execute_result"
    }
   ],
   "source": [
    "@benchmark begin \n",
    "    transform1(pheno_y, geno, kinship);\n",
    "    transform2(y0, X0, lambda0);\n",
    "    pmap(x -> scan_distributed_block(r0perm, X00, x), blocks_partitions);\n",
    "end"
   ]
  },
  {
   "cell_type": "code",
   "execution_count": 67,
   "id": "f25a490f-335b-4cba-8a55-882d327e2286",
   "metadata": {},
   "outputs": [
    {
     "data": {
      "text/plain": [
       "BenchmarkTools.Trial: 1 sample with 1 evaluation.\n",
       " Single result which took \u001b[34m7.733 s\u001b[39m (14.20% GC) to evaluate,\n",
       " with a memory estimate of \u001b[33m13.30 GiB\u001b[39m, over \u001b[33m117039\u001b[39m allocations."
      ]
     },
     "execution_count": 67,
     "metadata": {},
     "output_type": "execute_result"
    }
   ],
   "source": [
    "@benchmark scan_perms2(pheno_y, geno, kinship; nperms = 1000, rndseed = 0, original = true)"
   ]
  },
  {
   "cell_type": "code",
   "execution_count": 68,
   "id": "1485871f-839b-4886-a75e-8b684aa587e6",
   "metadata": {},
   "outputs": [
    {
     "data": {
      "text/plain": [
       "20-element Vector{Int64}:\n",
       " 47\n",
       " 96\n",
       "  4\n",
       " 51\n",
       " 37\n",
       " 33\n",
       " 91\n",
       " 38\n",
       " 77\n",
       " 85\n",
       " 52\n",
       " 56\n",
       "  7\n",
       " 23\n",
       " 82\n",
       " 97\n",
       " 46\n",
       " 42\n",
       " 27\n",
       " 18"
      ]
     },
     "execution_count": 68,
     "metadata": {},
     "output_type": "execute_result"
    }
   ],
   "source": [
    "seeds_list"
   ]
  },
  {
   "cell_type": "code",
   "execution_count": 69,
   "id": "00822666-e195-40ec-b0b4-f44556575cdc",
   "metadata": {},
   "outputs": [
    {
     "data": {
      "text/plain": [
       "BenchmarkTools.Trial: 3 samples with 1 evaluation.\n",
       " Range \u001b[90m(\u001b[39m\u001b[36m\u001b[1mmin\u001b[22m\u001b[39m … \u001b[35mmax\u001b[39m\u001b[90m):  \u001b[39m\u001b[36m\u001b[1m2.271 s\u001b[22m\u001b[39m … \u001b[35m  2.375 s\u001b[39m  \u001b[90m┊\u001b[39m GC \u001b[90m(\u001b[39mmin … max\u001b[90m): \u001b[39m0.00% … 0.00%\n",
       " Time  \u001b[90m(\u001b[39m\u001b[34m\u001b[1mmedian\u001b[22m\u001b[39m\u001b[90m):     \u001b[39m\u001b[34m\u001b[1m2.312 s              \u001b[22m\u001b[39m\u001b[90m┊\u001b[39m GC \u001b[90m(\u001b[39mmedian\u001b[90m):    \u001b[39m0.00%\n",
       " Time  \u001b[90m(\u001b[39m\u001b[32m\u001b[1mmean\u001b[22m\u001b[39m ± \u001b[32mσ\u001b[39m\u001b[90m):   \u001b[39m\u001b[32m\u001b[1m2.319 s\u001b[22m\u001b[39m ± \u001b[32m52.140 ms\u001b[39m  \u001b[90m┊\u001b[39m GC \u001b[90m(\u001b[39mmean ± σ\u001b[90m):  \u001b[39m0.00% ± 0.00%\n",
       "\n",
       "  \u001b[34m█\u001b[39m\u001b[39m \u001b[39m \u001b[39m \u001b[39m \u001b[39m \u001b[39m \u001b[39m \u001b[39m \u001b[39m \u001b[39m \u001b[39m \u001b[39m \u001b[39m \u001b[39m \u001b[39m \u001b[39m \u001b[39m \u001b[39m \u001b[39m \u001b[39m \u001b[39m \u001b[39m█\u001b[39m \u001b[39m \u001b[39m \u001b[39m \u001b[32m \u001b[39m\u001b[39m \u001b[39m \u001b[39m \u001b[39m \u001b[39m \u001b[39m \u001b[39m \u001b[39m \u001b[39m \u001b[39m \u001b[39m \u001b[39m \u001b[39m \u001b[39m \u001b[39m \u001b[39m \u001b[39m \u001b[39m \u001b[39m \u001b[39m \u001b[39m \u001b[39m \u001b[39m \u001b[39m \u001b[39m \u001b[39m \u001b[39m \u001b[39m \u001b[39m█\u001b[39m \u001b[39m \n",
       "  \u001b[34m█\u001b[39m\u001b[39m▁\u001b[39m▁\u001b[39m▁\u001b[39m▁\u001b[39m▁\u001b[39m▁\u001b[39m▁\u001b[39m▁\u001b[39m▁\u001b[39m▁\u001b[39m▁\u001b[39m▁\u001b[39m▁\u001b[39m▁\u001b[39m▁\u001b[39m▁\u001b[39m▁\u001b[39m▁\u001b[39m▁\u001b[39m▁\u001b[39m▁\u001b[39m█\u001b[39m▁\u001b[39m▁\u001b[39m▁\u001b[39m▁\u001b[32m▁\u001b[39m\u001b[39m▁\u001b[39m▁\u001b[39m▁\u001b[39m▁\u001b[39m▁\u001b[39m▁\u001b[39m▁\u001b[39m▁\u001b[39m▁\u001b[39m▁\u001b[39m▁\u001b[39m▁\u001b[39m▁\u001b[39m▁\u001b[39m▁\u001b[39m▁\u001b[39m▁\u001b[39m▁\u001b[39m▁\u001b[39m▁\u001b[39m▁\u001b[39m▁\u001b[39m▁\u001b[39m▁\u001b[39m▁\u001b[39m▁\u001b[39m▁\u001b[39m▁\u001b[39m█\u001b[39m \u001b[39m▁\n",
       "  2.27 s\u001b[90m         Histogram: frequency by time\u001b[39m        2.37 s \u001b[0m\u001b[1m<\u001b[22m\n",
       "\n",
       " Memory estimate\u001b[90m: \u001b[39m\u001b[33m55.94 MiB\u001b[39m, allocs estimate\u001b[90m: \u001b[39m\u001b[33m2405\u001b[39m."
      ]
     },
     "execution_count": 69,
     "metadata": {},
     "output_type": "execute_result"
    }
   ],
   "source": [
    "@benchmark pmap(x -> scan_distributed(y0, X0, lambda0; nperms = 50, rndseed = x, original = false), seeds_list)"
   ]
  },
  {
   "cell_type": "code",
   "execution_count": null,
   "id": "d04bc17b-10c9-4060-98ec-e3b9b43d690e",
   "metadata": {},
   "outputs": [],
   "source": []
  },
  {
   "cell_type": "code",
   "execution_count": null,
   "id": "153031ba-608e-4912-a531-717c36bb9498",
   "metadata": {},
   "outputs": [],
   "source": []
  },
  {
   "cell_type": "code",
   "execution_count": null,
   "id": "b4d175d4-0be3-42ad-bf94-2605cbec8c16",
   "metadata": {},
   "outputs": [],
   "source": []
  },
  {
   "cell_type": "markdown",
   "id": "03f5478b-eca1-4b1b-a5aa-87aeee194cc4",
   "metadata": {},
   "source": [
    "## Compare times for different choices of nperms and block sizes:"
   ]
  },
  {
   "cell_type": "code",
   "execution_count": 70,
   "id": "1e2bf502-8d14-4d18-bb97-43f363e299ea",
   "metadata": {},
   "outputs": [],
   "source": [
    "r0perm = transform3(r0; nperms = 1000, rndseed = 0, original = false);"
   ]
  },
  {
   "cell_type": "code",
   "execution_count": 71,
   "id": "d4597ba2-7bfe-419d-9a38-3f546b047621",
   "metadata": {},
   "outputs": [],
   "source": [
    "@everywhere nperms_list = [50, 100, 200, 500, 1000];\n",
    "@everywhere bsizes_list = [100, 300, 500, 600, 1000];\n",
    "@everywhere nblocks_list = [10, 20, 30, 40, 80, 90, 100];"
   ]
  },
  {
   "cell_type": "code",
   "execution_count": 72,
   "id": "0948d1eb-f4c9-464f-8d73-5b1d6211f2d7",
   "metadata": {},
   "outputs": [],
   "source": [
    "runtimes_nperms = Array{Float64, 1}(undef, length(nperms_list));\n",
    "runtimes_bsizes = Array{Float64, 1}(undef, length(bsizes_list));\n",
    "runtimes_nblocks = Array{Float64, 1}(undef, length(nblocks_list));"
   ]
  },
  {
   "cell_type": "code",
   "execution_count": 73,
   "id": "1d7bb5bb-6792-461d-a5b8-f0f06e00d40d",
   "metadata": {},
   "outputs": [
    {
     "data": {
      "text/plain": [
       "3-element Vector{Int64}:\n",
       " 1\n",
       " 2\n",
       " 3"
      ]
     },
     "execution_count": 73,
     "metadata": {},
     "output_type": "execute_result"
    }
   ],
   "source": [
    "procs() # check number of procs active rn"
   ]
  },
  {
   "cell_type": "code",
   "execution_count": 74,
   "id": "0fc26abe-0fa4-418c-874e-e888fbff9e96",
   "metadata": {},
   "outputs": [],
   "source": [
    "for i in 1:length(nperms_list)\n",
    "    \n",
    "    np = nperms_list[i];\n",
    "    nseeds = Int(1000/np);\n",
    "    \n",
    "    seeds_list = StatsBase.sample(1:100, nseeds; replace = false)\n",
    "    b = @benchmark pmap(x -> scan_distributed(y0, X0, lambda0; nperms = $np, rndseed = x, original = false), seeds_list);\n",
    "    b = median(b)\n",
    "    \n",
    "    runtimes_nperms[i] = time(b)/1e9\n",
    "    \n",
    "end"
   ]
  },
  {
   "cell_type": "code",
   "execution_count": 75,
   "id": "066ee0a6-7581-474f-bec5-82d0e2b48ef8",
   "metadata": {},
   "outputs": [],
   "source": [
    "for i in 1:length(bsizes_list)\n",
    "    \n",
    "    bs = bsizes_list[i];\n",
    "    \n",
    "    blocks_partitions = partition_array_indices(p, bs);\n",
    "\n",
    "    \n",
    "    b = @benchmark pmap(x -> scan_distributed_block(r0perm, X00, x), blocks_partitions);\n",
    "    b = median(b)\n",
    "    \n",
    "    runtimes_bsizes[i] = time(b)/1e9\n",
    "    \n",
    "end"
   ]
  },
  {
   "cell_type": "code",
   "execution_count": 76,
   "id": "0f775687-9c31-4e52-9f30-4af90a186c5e",
   "metadata": {},
   "outputs": [],
   "source": [
    "for i in 1:length(nblocks_list)\n",
    "    \n",
    "    bs = Int(ceil(p/nblocks_list[i]));\n",
    "    \n",
    "    blocks_partitions = partition_array_indices(p, bs);\n",
    "\n",
    "    \n",
    "    b = @benchmark pmap(x -> scan_distributed_block(r0perm, X00, x), blocks_partitions);\n",
    "    b = median(b)\n",
    "    \n",
    "    runtimes_nblocks[i] = time(b)/1e9\n",
    "    \n",
    "end"
   ]
  },
  {
   "cell_type": "code",
   "execution_count": 77,
   "id": "5c928a88-0223-4c5b-abbf-1e48c3dd35f0",
   "metadata": {},
   "outputs": [
    {
     "data": {
      "image/svg+xml": [
       "<?xml version=\"1.0\" encoding=\"utf-8\"?>\n",
       "<svg xmlns=\"http://www.w3.org/2000/svg\" xmlns:xlink=\"http://www.w3.org/1999/xlink\" width=\"600\" height=\"400\" viewBox=\"0 0 2400 1600\">\n",
       "<defs>\n",
       "  <clipPath id=\"clip590\">\n",
       "    <rect x=\"0\" y=\"0\" width=\"2400\" height=\"1600\"/>\n",
       "  </clipPath>\n",
       "</defs>\n",
       "<path clip-path=\"url(#clip590)\" d=\"\n",
       "M0 1600 L2400 1600 L2400 0 L0 0  Z\n",
       "  \" fill=\"#ffffff\" fill-rule=\"evenodd\" fill-opacity=\"1\"/>\n",
       "<defs>\n",
       "  <clipPath id=\"clip591\">\n",
       "    <rect x=\"480\" y=\"0\" width=\"1681\" height=\"1600\"/>\n",
       "  </clipPath>\n",
       "</defs>\n",
       "<path clip-path=\"url(#clip590)\" d=\"\n",
       "M175.445 1423.18 L2352.76 1423.18 L2352.76 47.2441 L175.445 47.2441  Z\n",
       "  \" fill=\"#ffffff\" fill-rule=\"evenodd\" fill-opacity=\"1\"/>\n",
       "<defs>\n",
       "  <clipPath id=\"clip592\">\n",
       "    <rect x=\"175\" y=\"47\" width=\"2178\" height=\"1377\"/>\n",
       "  </clipPath>\n",
       "</defs>\n",
       "<polyline clip-path=\"url(#clip592)\" style=\"stroke:#000000; stroke-linecap:butt; stroke-linejoin:round; stroke-width:2; stroke-opacity:0.1; fill:none\" points=\"\n",
       "  561.394,1423.18 561.394,47.2441 \n",
       "  \"/>\n",
       "<polyline clip-path=\"url(#clip592)\" style=\"stroke:#000000; stroke-linecap:butt; stroke-linejoin:round; stroke-width:2; stroke-opacity:0.1; fill:none\" points=\"\n",
       "  993.829,1423.18 993.829,47.2441 \n",
       "  \"/>\n",
       "<polyline clip-path=\"url(#clip592)\" style=\"stroke:#000000; stroke-linecap:butt; stroke-linejoin:round; stroke-width:2; stroke-opacity:0.1; fill:none\" points=\"\n",
       "  1426.26,1423.18 1426.26,47.2441 \n",
       "  \"/>\n",
       "<polyline clip-path=\"url(#clip592)\" style=\"stroke:#000000; stroke-linecap:butt; stroke-linejoin:round; stroke-width:2; stroke-opacity:0.1; fill:none\" points=\"\n",
       "  1858.7,1423.18 1858.7,47.2441 \n",
       "  \"/>\n",
       "<polyline clip-path=\"url(#clip592)\" style=\"stroke:#000000; stroke-linecap:butt; stroke-linejoin:round; stroke-width:2; stroke-opacity:0.1; fill:none\" points=\"\n",
       "  2291.13,1423.18 2291.13,47.2441 \n",
       "  \"/>\n",
       "<polyline clip-path=\"url(#clip590)\" style=\"stroke:#000000; stroke-linecap:butt; stroke-linejoin:round; stroke-width:4; stroke-opacity:1; fill:none\" points=\"\n",
       "  175.445,1423.18 2352.76,1423.18 \n",
       "  \"/>\n",
       "<polyline clip-path=\"url(#clip590)\" style=\"stroke:#000000; stroke-linecap:butt; stroke-linejoin:round; stroke-width:4; stroke-opacity:1; fill:none\" points=\"\n",
       "  561.394,1423.18 561.394,1404.28 \n",
       "  \"/>\n",
       "<polyline clip-path=\"url(#clip590)\" style=\"stroke:#000000; stroke-linecap:butt; stroke-linejoin:round; stroke-width:4; stroke-opacity:1; fill:none\" points=\"\n",
       "  993.829,1423.18 993.829,1404.28 \n",
       "  \"/>\n",
       "<polyline clip-path=\"url(#clip590)\" style=\"stroke:#000000; stroke-linecap:butt; stroke-linejoin:round; stroke-width:4; stroke-opacity:1; fill:none\" points=\"\n",
       "  1426.26,1423.18 1426.26,1404.28 \n",
       "  \"/>\n",
       "<polyline clip-path=\"url(#clip590)\" style=\"stroke:#000000; stroke-linecap:butt; stroke-linejoin:round; stroke-width:4; stroke-opacity:1; fill:none\" points=\"\n",
       "  1858.7,1423.18 1858.7,1404.28 \n",
       "  \"/>\n",
       "<polyline clip-path=\"url(#clip590)\" style=\"stroke:#000000; stroke-linecap:butt; stroke-linejoin:round; stroke-width:4; stroke-opacity:1; fill:none\" points=\"\n",
       "  2291.13,1423.18 2291.13,1404.28 \n",
       "  \"/>\n",
       "<path clip-path=\"url(#clip590)\" d=\"M525.086 1479.92 L541.405 1479.92 L541.405 1483.85 L519.461 1483.85 L519.461 1479.92 Q522.123 1477.16 526.706 1472.53 Q531.313 1467.88 532.493 1466.54 Q534.739 1464.01 535.618 1462.28 Q536.521 1460.52 536.521 1458.83 Q536.521 1456.07 534.577 1454.34 Q532.655 1452.6 529.553 1452.6 Q527.354 1452.6 524.901 1453.37 Q522.47 1454.13 519.692 1455.68 L519.692 1450.96 Q522.516 1449.82 524.97 1449.25 Q527.424 1448.67 529.461 1448.67 Q534.831 1448.67 538.026 1451.35 Q541.22 1454.04 541.22 1458.53 Q541.22 1460.66 540.41 1462.58 Q539.623 1464.48 537.516 1467.07 Q536.938 1467.74 533.836 1470.96 Q530.734 1474.15 525.086 1479.92 Z\" fill=\"#000000\" fill-rule=\"evenodd\" fill-opacity=\"1\" /><path clip-path=\"url(#clip590)\" d=\"M561.22 1452.37 Q557.609 1452.37 555.78 1455.94 Q553.975 1459.48 553.975 1466.61 Q553.975 1473.71 555.78 1477.28 Q557.609 1480.82 561.22 1480.82 Q564.854 1480.82 566.66 1477.28 Q568.488 1473.71 568.488 1466.61 Q568.488 1459.48 566.66 1455.94 Q564.854 1452.37 561.22 1452.37 M561.22 1448.67 Q567.03 1448.67 570.086 1453.27 Q573.164 1457.86 573.164 1466.61 Q573.164 1475.33 570.086 1479.94 Q567.03 1484.52 561.22 1484.52 Q555.41 1484.52 552.331 1479.94 Q549.276 1475.33 549.276 1466.61 Q549.276 1457.86 552.331 1453.27 Q555.41 1448.67 561.22 1448.67 Z\" fill=\"#000000\" fill-rule=\"evenodd\" fill-opacity=\"1\" /><path clip-path=\"url(#clip590)\" d=\"M591.382 1452.37 Q587.771 1452.37 585.942 1455.94 Q584.136 1459.48 584.136 1466.61 Q584.136 1473.71 585.942 1477.28 Q587.771 1480.82 591.382 1480.82 Q595.016 1480.82 596.822 1477.28 Q598.65 1473.71 598.65 1466.61 Q598.65 1459.48 596.822 1455.94 Q595.016 1452.37 591.382 1452.37 M591.382 1448.67 Q597.192 1448.67 600.247 1453.27 Q603.326 1457.86 603.326 1466.61 Q603.326 1475.33 600.247 1479.94 Q597.192 1484.52 591.382 1484.52 Q585.572 1484.52 582.493 1479.94 Q579.437 1475.33 579.437 1466.61 Q579.437 1457.86 582.493 1453.27 Q585.572 1448.67 591.382 1448.67 Z\" fill=\"#000000\" fill-rule=\"evenodd\" fill-opacity=\"1\" /><path clip-path=\"url(#clip590)\" d=\"M966.919 1453.37 L955.114 1471.81 L966.919 1471.81 L966.919 1453.37 M965.692 1449.29 L971.572 1449.29 L971.572 1471.81 L976.502 1471.81 L976.502 1475.7 L971.572 1475.7 L971.572 1483.85 L966.919 1483.85 L966.919 1475.7 L951.317 1475.7 L951.317 1471.19 L965.692 1449.29 Z\" fill=\"#000000\" fill-rule=\"evenodd\" fill-opacity=\"1\" /><path clip-path=\"url(#clip590)\" d=\"M994.234 1452.37 Q990.623 1452.37 988.794 1455.94 Q986.988 1459.48 986.988 1466.61 Q986.988 1473.71 988.794 1477.28 Q990.623 1480.82 994.234 1480.82 Q997.868 1480.82 999.673 1477.28 Q1001.5 1473.71 1001.5 1466.61 Q1001.5 1459.48 999.673 1455.94 Q997.868 1452.37 994.234 1452.37 M994.234 1448.67 Q1000.04 1448.67 1003.1 1453.27 Q1006.18 1457.86 1006.18 1466.61 Q1006.18 1475.33 1003.1 1479.94 Q1000.04 1484.52 994.234 1484.52 Q988.424 1484.52 985.345 1479.94 Q982.289 1475.33 982.289 1466.61 Q982.289 1457.86 985.345 1453.27 Q988.424 1448.67 994.234 1448.67 Z\" fill=\"#000000\" fill-rule=\"evenodd\" fill-opacity=\"1\" /><path clip-path=\"url(#clip590)\" d=\"M1024.4 1452.37 Q1020.78 1452.37 1018.96 1455.94 Q1017.15 1459.48 1017.15 1466.61 Q1017.15 1473.71 1018.96 1477.28 Q1020.78 1480.82 1024.4 1480.82 Q1028.03 1480.82 1029.84 1477.28 Q1031.66 1473.71 1031.66 1466.61 Q1031.66 1459.48 1029.84 1455.94 Q1028.03 1452.37 1024.4 1452.37 M1024.4 1448.67 Q1030.21 1448.67 1033.26 1453.27 Q1036.34 1457.86 1036.34 1466.61 Q1036.34 1475.33 1033.26 1479.94 Q1030.21 1484.52 1024.4 1484.52 Q1018.59 1484.52 1015.51 1479.94 Q1012.45 1475.33 1012.45 1466.61 Q1012.45 1457.86 1015.51 1453.27 Q1018.59 1448.67 1024.4 1448.67 Z\" fill=\"#000000\" fill-rule=\"evenodd\" fill-opacity=\"1\" /><path clip-path=\"url(#clip590)\" d=\"M1396.59 1464.71 Q1393.44 1464.71 1391.59 1466.86 Q1389.76 1469.01 1389.76 1472.76 Q1389.76 1476.49 1391.59 1478.67 Q1393.44 1480.82 1396.59 1480.82 Q1399.74 1480.82 1401.56 1478.67 Q1403.42 1476.49 1403.42 1472.76 Q1403.42 1469.01 1401.56 1466.86 Q1399.74 1464.71 1396.59 1464.71 M1405.87 1450.06 L1405.87 1454.31 Q1404.11 1453.48 1402.31 1453.04 Q1400.52 1452.6 1398.76 1452.6 Q1394.13 1452.6 1391.68 1455.73 Q1389.25 1458.85 1388.9 1465.17 Q1390.27 1463.16 1392.33 1462.09 Q1394.39 1461 1396.87 1461 Q1402.07 1461 1405.08 1464.18 Q1408.12 1467.32 1408.12 1472.76 Q1408.12 1478.09 1404.97 1481.31 Q1401.82 1484.52 1396.59 1484.52 Q1390.59 1484.52 1387.42 1479.94 Q1384.25 1475.33 1384.25 1466.61 Q1384.25 1458.41 1388.14 1453.55 Q1392.03 1448.67 1398.58 1448.67 Q1400.34 1448.67 1402.12 1449.01 Q1403.93 1449.36 1405.87 1450.06 Z\" fill=\"#000000\" fill-rule=\"evenodd\" fill-opacity=\"1\" /><path clip-path=\"url(#clip590)\" d=\"M1426.17 1452.37 Q1422.56 1452.37 1420.73 1455.94 Q1418.93 1459.48 1418.93 1466.61 Q1418.93 1473.71 1420.73 1477.28 Q1422.56 1480.82 1426.17 1480.82 Q1429.81 1480.82 1431.61 1477.28 Q1433.44 1473.71 1433.44 1466.61 Q1433.44 1459.48 1431.61 1455.94 Q1429.81 1452.37 1426.17 1452.37 M1426.17 1448.67 Q1431.98 1448.67 1435.04 1453.27 Q1438.12 1457.86 1438.12 1466.61 Q1438.12 1475.33 1435.04 1479.94 Q1431.98 1484.52 1426.17 1484.52 Q1420.36 1484.52 1417.28 1479.94 Q1414.23 1475.33 1414.23 1466.61 Q1414.23 1457.86 1417.28 1453.27 Q1420.36 1448.67 1426.17 1448.67 Z\" fill=\"#000000\" fill-rule=\"evenodd\" fill-opacity=\"1\" /><path clip-path=\"url(#clip590)\" d=\"M1456.33 1452.37 Q1452.72 1452.37 1450.89 1455.94 Q1449.09 1459.48 1449.09 1466.61 Q1449.09 1473.71 1450.89 1477.28 Q1452.72 1480.82 1456.33 1480.82 Q1459.97 1480.82 1461.77 1477.28 Q1463.6 1473.71 1463.6 1466.61 Q1463.6 1459.48 1461.77 1455.94 Q1459.97 1452.37 1456.33 1452.37 M1456.33 1448.67 Q1462.14 1448.67 1465.2 1453.27 Q1468.28 1457.86 1468.28 1466.61 Q1468.28 1475.33 1465.2 1479.94 Q1462.14 1484.52 1456.33 1484.52 Q1450.52 1484.52 1447.44 1479.94 Q1444.39 1475.33 1444.39 1466.61 Q1444.39 1457.86 1447.44 1453.27 Q1450.52 1448.67 1456.33 1448.67 Z\" fill=\"#000000\" fill-rule=\"evenodd\" fill-opacity=\"1\" /><path clip-path=\"url(#clip590)\" d=\"M1828.49 1467.44 Q1825.16 1467.44 1823.24 1469.22 Q1821.34 1471 1821.34 1474.13 Q1821.34 1477.25 1823.24 1479.04 Q1825.16 1480.82 1828.49 1480.82 Q1831.82 1480.82 1833.75 1479.04 Q1835.67 1477.23 1835.67 1474.13 Q1835.67 1471 1833.75 1469.22 Q1831.85 1467.44 1828.49 1467.44 M1823.81 1465.45 Q1820.81 1464.71 1819.12 1462.65 Q1817.45 1460.59 1817.45 1457.63 Q1817.45 1453.48 1820.39 1451.07 Q1823.35 1448.67 1828.49 1448.67 Q1833.65 1448.67 1836.59 1451.07 Q1839.53 1453.48 1839.53 1457.63 Q1839.53 1460.59 1837.84 1462.65 Q1836.18 1464.71 1833.19 1465.45 Q1836.57 1466.24 1838.44 1468.53 Q1840.34 1470.82 1840.34 1474.13 Q1840.34 1479.15 1837.26 1481.84 Q1834.21 1484.52 1828.49 1484.52 Q1822.77 1484.52 1819.69 1481.84 Q1816.64 1479.15 1816.64 1474.13 Q1816.64 1470.82 1818.54 1468.53 Q1820.44 1466.24 1823.81 1465.45 M1822.1 1458.06 Q1822.1 1460.75 1823.77 1462.25 Q1825.46 1463.76 1828.49 1463.76 Q1831.5 1463.76 1833.19 1462.25 Q1834.9 1460.75 1834.9 1458.06 Q1834.9 1455.38 1833.19 1453.88 Q1831.5 1452.37 1828.49 1452.37 Q1825.46 1452.37 1823.77 1453.88 Q1822.1 1455.38 1822.1 1458.06 Z\" fill=\"#000000\" fill-rule=\"evenodd\" fill-opacity=\"1\" /><path clip-path=\"url(#clip590)\" d=\"M1858.65 1452.37 Q1855.04 1452.37 1853.21 1455.94 Q1851.41 1459.48 1851.41 1466.61 Q1851.41 1473.71 1853.21 1477.28 Q1855.04 1480.82 1858.65 1480.82 Q1862.29 1480.82 1864.09 1477.28 Q1865.92 1473.71 1865.92 1466.61 Q1865.92 1459.48 1864.09 1455.94 Q1862.29 1452.37 1858.65 1452.37 M1858.65 1448.67 Q1864.46 1448.67 1867.52 1453.27 Q1870.6 1457.86 1870.6 1466.61 Q1870.6 1475.33 1867.52 1479.94 Q1864.46 1484.52 1858.65 1484.52 Q1852.84 1484.52 1849.76 1479.94 Q1846.71 1475.33 1846.71 1466.61 Q1846.71 1457.86 1849.76 1453.27 Q1852.84 1448.67 1858.65 1448.67 Z\" fill=\"#000000\" fill-rule=\"evenodd\" fill-opacity=\"1\" /><path clip-path=\"url(#clip590)\" d=\"M1888.81 1452.37 Q1885.2 1452.37 1883.37 1455.94 Q1881.57 1459.48 1881.57 1466.61 Q1881.57 1473.71 1883.37 1477.28 Q1885.2 1480.82 1888.81 1480.82 Q1892.45 1480.82 1894.25 1477.28 Q1896.08 1473.71 1896.08 1466.61 Q1896.08 1459.48 1894.25 1455.94 Q1892.45 1452.37 1888.81 1452.37 M1888.81 1448.67 Q1894.62 1448.67 1897.68 1453.27 Q1900.76 1457.86 1900.76 1466.61 Q1900.76 1475.33 1897.68 1479.94 Q1894.62 1484.52 1888.81 1484.52 Q1883 1484.52 1879.93 1479.94 Q1876.87 1475.33 1876.87 1466.61 Q1876.87 1457.86 1879.93 1453.27 Q1883 1448.67 1888.81 1448.67 Z\" fill=\"#000000\" fill-rule=\"evenodd\" fill-opacity=\"1\" /><path clip-path=\"url(#clip590)\" d=\"M2235.66 1479.92 L2243.3 1479.92 L2243.3 1453.55 L2234.99 1455.22 L2234.99 1450.96 L2243.25 1449.29 L2247.93 1449.29 L2247.93 1479.92 L2255.57 1479.92 L2255.57 1483.85 L2235.66 1483.85 L2235.66 1479.92 Z\" fill=\"#000000\" fill-rule=\"evenodd\" fill-opacity=\"1\" /><path clip-path=\"url(#clip590)\" d=\"M2275.01 1452.37 Q2271.4 1452.37 2269.57 1455.94 Q2267.77 1459.48 2267.77 1466.61 Q2267.77 1473.71 2269.57 1477.28 Q2271.4 1480.82 2275.01 1480.82 Q2278.65 1480.82 2280.45 1477.28 Q2282.28 1473.71 2282.28 1466.61 Q2282.28 1459.48 2280.45 1455.94 Q2278.65 1452.37 2275.01 1452.37 M2275.01 1448.67 Q2280.82 1448.67 2283.88 1453.27 Q2286.96 1457.86 2286.96 1466.61 Q2286.96 1475.33 2283.88 1479.94 Q2280.82 1484.52 2275.01 1484.52 Q2269.2 1484.52 2266.12 1479.94 Q2263.07 1475.33 2263.07 1466.61 Q2263.07 1457.86 2266.12 1453.27 Q2269.2 1448.67 2275.01 1448.67 Z\" fill=\"#000000\" fill-rule=\"evenodd\" fill-opacity=\"1\" /><path clip-path=\"url(#clip590)\" d=\"M2305.17 1452.37 Q2301.56 1452.37 2299.73 1455.94 Q2297.93 1459.48 2297.93 1466.61 Q2297.93 1473.71 2299.73 1477.28 Q2301.56 1480.82 2305.17 1480.82 Q2308.81 1480.82 2310.61 1477.28 Q2312.44 1473.71 2312.44 1466.61 Q2312.44 1459.48 2310.61 1455.94 Q2308.81 1452.37 2305.17 1452.37 M2305.17 1448.67 Q2310.98 1448.67 2314.04 1453.27 Q2317.12 1457.86 2317.12 1466.61 Q2317.12 1475.33 2314.04 1479.94 Q2310.98 1484.52 2305.17 1484.52 Q2299.36 1484.52 2296.28 1479.94 Q2293.23 1475.33 2293.23 1466.61 Q2293.23 1457.86 2296.28 1453.27 Q2299.36 1448.67 2305.17 1448.67 Z\" fill=\"#000000\" fill-rule=\"evenodd\" fill-opacity=\"1\" /><path clip-path=\"url(#clip590)\" d=\"M2335.34 1452.37 Q2331.72 1452.37 2329.9 1455.94 Q2328.09 1459.48 2328.09 1466.61 Q2328.09 1473.71 2329.9 1477.28 Q2331.72 1480.82 2335.34 1480.82 Q2338.97 1480.82 2340.77 1477.28 Q2342.6 1473.71 2342.6 1466.61 Q2342.6 1459.48 2340.77 1455.94 Q2338.97 1452.37 2335.34 1452.37 M2335.34 1448.67 Q2341.15 1448.67 2344.2 1453.27 Q2347.28 1457.86 2347.28 1466.61 Q2347.28 1475.33 2344.2 1479.94 Q2341.15 1484.52 2335.34 1484.52 Q2329.52 1484.52 2326.45 1479.94 Q2323.39 1475.33 2323.39 1466.61 Q2323.39 1457.86 2326.45 1453.27 Q2329.52 1448.67 2335.34 1448.67 Z\" fill=\"#000000\" fill-rule=\"evenodd\" fill-opacity=\"1\" /><path clip-path=\"url(#clip590)\" d=\"M681.877 1520.52 L690.534 1520.52 L711.605 1560.28 L711.605 1520.52 L717.843 1520.52 L717.843 1568.04 L709.186 1568.04 L688.116 1528.29 L688.116 1568.04 L681.877 1568.04 L681.877 1520.52 Z\" fill=\"#000000\" fill-rule=\"evenodd\" fill-opacity=\"1\" /><path clip-path=\"url(#clip590)\" d=\"M729.779 1553.98 L729.779 1532.4 L735.636 1532.4 L735.636 1553.75 Q735.636 1558.81 737.609 1561.36 Q739.582 1563.87 743.529 1563.87 Q748.271 1563.87 751.009 1560.85 Q753.778 1557.83 753.778 1552.61 L753.778 1532.4 L759.634 1532.4 L759.634 1568.04 L753.778 1568.04 L753.778 1562.57 Q751.645 1565.82 748.813 1567.41 Q746.012 1568.97 742.288 1568.97 Q736.145 1568.97 732.962 1565.15 Q729.779 1561.33 729.779 1553.98 M744.516 1531.54 L744.516 1531.54 Z\" fill=\"#000000\" fill-rule=\"evenodd\" fill-opacity=\"1\" /><path clip-path=\"url(#clip590)\" d=\"M799.452 1539.24 Q801.648 1535.29 804.703 1533.41 Q807.759 1531.54 811.897 1531.54 Q817.467 1531.54 820.49 1535.45 Q823.514 1539.33 823.514 1546.53 L823.514 1568.04 L817.626 1568.04 L817.626 1546.72 Q817.626 1541.59 815.812 1539.11 Q813.997 1536.63 810.273 1536.63 Q805.722 1536.63 803.08 1539.65 Q800.438 1542.68 800.438 1547.9 L800.438 1568.04 L794.55 1568.04 L794.55 1546.72 Q794.55 1541.56 792.736 1539.11 Q790.922 1536.63 787.134 1536.63 Q782.646 1536.63 780.004 1539.68 Q777.363 1542.71 777.363 1547.9 L777.363 1568.04 L771.474 1568.04 L771.474 1532.4 L777.363 1532.4 L777.363 1537.93 Q779.368 1534.66 782.169 1533.1 Q784.97 1531.54 788.821 1531.54 Q792.704 1531.54 795.409 1533.51 Q798.147 1535.48 799.452 1539.24 Z\" fill=\"#000000\" fill-rule=\"evenodd\" fill-opacity=\"1\" /><path clip-path=\"url(#clip590)\" d=\"M860.785 1550.25 Q860.785 1543.79 858.112 1540.13 Q855.47 1536.44 850.823 1536.44 Q846.176 1536.44 843.502 1540.13 Q840.861 1543.79 840.861 1550.25 Q840.861 1556.71 843.502 1560.4 Q846.176 1564.07 850.823 1564.07 Q855.47 1564.07 858.112 1560.4 Q860.785 1556.71 860.785 1550.25 M840.861 1537.81 Q842.707 1534.62 845.508 1533.1 Q848.34 1531.54 852.255 1531.54 Q858.748 1531.54 862.79 1536.69 Q866.865 1541.85 866.865 1550.25 Q866.865 1558.65 862.79 1563.81 Q858.748 1568.97 852.255 1568.97 Q848.34 1568.97 845.508 1567.44 Q842.707 1565.88 840.861 1562.7 L840.861 1568.04 L834.972 1568.04 L834.972 1518.52 L840.861 1518.52 L840.861 1537.81 Z\" fill=\"#000000\" fill-rule=\"evenodd\" fill-opacity=\"1\" /><path clip-path=\"url(#clip590)\" d=\"M907.064 1548.76 L907.064 1551.62 L880.137 1551.62 Q880.519 1557.67 883.765 1560.85 Q887.044 1564 892.868 1564 Q896.242 1564 899.393 1563.17 Q902.576 1562.35 905.695 1560.69 L905.695 1566.23 Q902.544 1567.57 899.234 1568.27 Q895.924 1568.97 892.518 1568.97 Q883.988 1568.97 878.991 1564 Q874.026 1559.04 874.026 1550.57 Q874.026 1541.82 878.737 1536.69 Q883.479 1531.54 891.5 1531.54 Q898.693 1531.54 902.863 1536.18 Q907.064 1540.8 907.064 1548.76 M901.208 1547.04 Q901.144 1542.23 898.502 1539.37 Q895.892 1536.5 891.563 1536.5 Q886.662 1536.5 883.702 1539.27 Q880.774 1542.04 880.328 1547.07 L901.208 1547.04 Z\" fill=\"#000000\" fill-rule=\"evenodd\" fill-opacity=\"1\" /><path clip-path=\"url(#clip590)\" d=\"M937.333 1537.87 Q936.346 1537.3 935.169 1537.04 Q934.023 1536.76 932.622 1536.76 Q927.657 1536.76 924.983 1540 Q922.342 1543.22 922.342 1549.27 L922.342 1568.04 L916.453 1568.04 L916.453 1532.4 L922.342 1532.4 L922.342 1537.93 Q924.188 1534.69 927.148 1533.13 Q930.108 1531.54 934.341 1531.54 Q934.946 1531.54 935.678 1531.63 Q936.41 1531.7 937.301 1531.85 L937.333 1537.87 Z\" fill=\"#000000\" fill-rule=\"evenodd\" fill-opacity=\"1\" /><path clip-path=\"url(#clip590)\" d=\"M978.01 1536.5 Q973.299 1536.5 970.562 1540.19 Q967.825 1543.85 967.825 1550.25 Q967.825 1556.65 970.53 1560.34 Q973.267 1564 978.01 1564 Q982.689 1564 985.426 1560.31 Q988.163 1556.62 988.163 1550.25 Q988.163 1543.92 985.426 1540.23 Q982.689 1536.5 978.01 1536.5 M978.01 1531.54 Q985.649 1531.54 990.009 1536.5 Q994.37 1541.47 994.37 1550.25 Q994.37 1559 990.009 1564 Q985.649 1568.97 978.01 1568.97 Q970.339 1568.97 965.979 1564 Q961.65 1559 961.65 1550.25 Q961.65 1541.47 965.979 1536.5 Q970.339 1531.54 978.01 1531.54 Z\" fill=\"#000000\" fill-rule=\"evenodd\" fill-opacity=\"1\" /><path clip-path=\"url(#clip590)\" d=\"M1022.12 1518.52 L1022.12 1523.39 L1016.52 1523.39 Q1013.37 1523.39 1012.13 1524.66 Q1010.92 1525.93 1010.92 1529.24 L1010.92 1532.4 L1020.56 1532.4 L1020.56 1536.95 L1010.92 1536.95 L1010.92 1568.04 L1005.03 1568.04 L1005.03 1536.95 L999.43 1536.95 L999.43 1532.4 L1005.03 1532.4 L1005.03 1529.91 Q1005.03 1523.96 1007.8 1521.26 Q1010.57 1518.52 1016.59 1518.52 L1022.12 1518.52 Z\" fill=\"#000000\" fill-rule=\"evenodd\" fill-opacity=\"1\" /><path clip-path=\"url(#clip590)\" d=\"M1053.41 1562.7 L1053.41 1581.6 L1047.52 1581.6 L1047.52 1532.4 L1053.41 1532.4 L1053.41 1537.81 Q1055.26 1534.62 1058.06 1533.1 Q1060.89 1531.54 1064.81 1531.54 Q1071.3 1531.54 1075.34 1536.69 Q1079.42 1541.85 1079.42 1550.25 Q1079.42 1558.65 1075.34 1563.81 Q1071.3 1568.97 1064.81 1568.97 Q1060.89 1568.97 1058.06 1567.44 Q1055.26 1565.88 1053.41 1562.7 M1073.34 1550.25 Q1073.34 1543.79 1070.66 1540.13 Q1068.02 1536.44 1063.37 1536.44 Q1058.73 1536.44 1056.05 1540.13 Q1053.41 1543.79 1053.41 1550.25 Q1053.41 1556.71 1056.05 1560.4 Q1058.73 1564.07 1063.37 1564.07 Q1068.02 1564.07 1070.66 1560.4 Q1073.34 1556.71 1073.34 1550.25 Z\" fill=\"#000000\" fill-rule=\"evenodd\" fill-opacity=\"1\" /><path clip-path=\"url(#clip590)\" d=\"M1119.61 1548.76 L1119.61 1551.62 L1092.69 1551.62 Q1093.07 1557.67 1096.32 1560.85 Q1099.59 1564 1105.42 1564 Q1108.79 1564 1111.94 1563.17 Q1115.13 1562.35 1118.25 1560.69 L1118.25 1566.23 Q1115.1 1567.57 1111.79 1568.27 Q1108.47 1568.97 1105.07 1568.97 Q1096.54 1568.97 1091.54 1564 Q1086.58 1559.04 1086.58 1550.57 Q1086.58 1541.82 1091.29 1536.69 Q1096.03 1531.54 1104.05 1531.54 Q1111.24 1531.54 1115.41 1536.18 Q1119.61 1540.8 1119.61 1548.76 M1113.76 1547.04 Q1113.69 1542.23 1111.05 1539.37 Q1108.44 1536.5 1104.11 1536.5 Q1099.21 1536.5 1096.25 1539.27 Q1093.32 1542.04 1092.88 1547.07 L1113.76 1547.04 Z\" fill=\"#000000\" fill-rule=\"evenodd\" fill-opacity=\"1\" /><path clip-path=\"url(#clip590)\" d=\"M1149.88 1537.87 Q1148.9 1537.3 1147.72 1537.04 Q1146.57 1536.76 1145.17 1536.76 Q1140.21 1536.76 1137.53 1540 Q1134.89 1543.22 1134.89 1549.27 L1134.89 1568.04 L1129 1568.04 L1129 1532.4 L1134.89 1532.4 L1134.89 1537.93 Q1136.74 1534.69 1139.7 1533.13 Q1142.66 1531.54 1146.89 1531.54 Q1147.5 1531.54 1148.23 1531.63 Q1148.96 1531.7 1149.85 1531.85 L1149.88 1537.87 Z\" fill=\"#000000\" fill-rule=\"evenodd\" fill-opacity=\"1\" /><path clip-path=\"url(#clip590)\" d=\"M1182.64 1539.24 Q1184.83 1535.29 1187.89 1533.41 Q1190.94 1531.54 1195.08 1531.54 Q1200.65 1531.54 1203.67 1535.45 Q1206.7 1539.33 1206.7 1546.53 L1206.7 1568.04 L1200.81 1568.04 L1200.81 1546.72 Q1200.81 1541.59 1199 1539.11 Q1197.18 1536.63 1193.46 1536.63 Q1188.91 1536.63 1186.26 1539.65 Q1183.62 1542.68 1183.62 1547.9 L1183.62 1568.04 L1177.73 1568.04 L1177.73 1546.72 Q1177.73 1541.56 1175.92 1539.11 Q1174.11 1536.63 1170.32 1536.63 Q1165.83 1536.63 1163.19 1539.68 Q1160.55 1542.71 1160.55 1547.9 L1160.55 1568.04 L1154.66 1568.04 L1154.66 1532.4 L1160.55 1532.4 L1160.55 1537.93 Q1162.55 1534.66 1165.35 1533.1 Q1168.15 1531.54 1172 1531.54 Q1175.89 1531.54 1178.59 1533.51 Q1181.33 1535.48 1182.64 1539.24 Z\" fill=\"#000000\" fill-rule=\"evenodd\" fill-opacity=\"1\" /><path clip-path=\"url(#clip590)\" d=\"M1217.77 1553.98 L1217.77 1532.4 L1223.63 1532.4 L1223.63 1553.75 Q1223.63 1558.81 1225.6 1561.36 Q1227.58 1563.87 1231.52 1563.87 Q1236.27 1563.87 1239 1560.85 Q1241.77 1557.83 1241.77 1552.61 L1241.77 1532.4 L1247.63 1532.4 L1247.63 1568.04 L1241.77 1568.04 L1241.77 1562.57 Q1239.64 1565.82 1236.81 1567.41 Q1234.01 1568.97 1230.28 1568.97 Q1224.14 1568.97 1220.96 1565.15 Q1217.77 1561.33 1217.77 1553.98 M1232.51 1531.54 L1232.51 1531.54 Z\" fill=\"#000000\" fill-rule=\"evenodd\" fill-opacity=\"1\" /><path clip-path=\"url(#clip590)\" d=\"M1265.49 1522.27 L1265.49 1532.4 L1277.55 1532.4 L1277.55 1536.95 L1265.49 1536.95 L1265.49 1556.3 Q1265.49 1560.66 1266.66 1561.9 Q1267.87 1563.14 1271.53 1563.14 L1277.55 1563.14 L1277.55 1568.04 L1271.53 1568.04 Q1264.75 1568.04 1262.17 1565.53 Q1259.6 1562.98 1259.6 1556.3 L1259.6 1536.95 L1255.3 1536.95 L1255.3 1532.4 L1259.6 1532.4 L1259.6 1522.27 L1265.49 1522.27 Z\" fill=\"#000000\" fill-rule=\"evenodd\" fill-opacity=\"1\" /><path clip-path=\"url(#clip590)\" d=\"M1301.45 1550.12 Q1294.35 1550.12 1291.62 1551.75 Q1288.88 1553.37 1288.88 1557.29 Q1288.88 1560.4 1290.92 1562.25 Q1292.98 1564.07 1296.52 1564.07 Q1301.39 1564.07 1304.32 1560.63 Q1307.28 1557.16 1307.28 1551.43 L1307.28 1550.12 L1301.45 1550.12 M1313.13 1547.71 L1313.13 1568.04 L1307.28 1568.04 L1307.28 1562.63 Q1305.27 1565.88 1302.28 1567.44 Q1299.29 1568.97 1294.96 1568.97 Q1289.48 1568.97 1286.24 1565.91 Q1283.02 1562.82 1283.02 1557.67 Q1283.02 1551.65 1287.03 1548.6 Q1291.08 1545.54 1299.06 1545.54 L1307.28 1545.54 L1307.28 1544.97 Q1307.28 1540.93 1304.6 1538.73 Q1301.96 1536.5 1297.15 1536.5 Q1294.1 1536.5 1291.2 1537.23 Q1288.31 1537.97 1285.63 1539.43 L1285.63 1534.02 Q1288.85 1532.78 1291.87 1532.17 Q1294.89 1531.54 1297.76 1531.54 Q1305.49 1531.54 1309.31 1535.55 Q1313.13 1539.56 1313.13 1547.71 Z\" fill=\"#000000\" fill-rule=\"evenodd\" fill-opacity=\"1\" /><path clip-path=\"url(#clip590)\" d=\"M1330.99 1522.27 L1330.99 1532.4 L1343.05 1532.4 L1343.05 1536.95 L1330.99 1536.95 L1330.99 1556.3 Q1330.99 1560.66 1332.17 1561.9 Q1333.38 1563.14 1337.04 1563.14 L1343.05 1563.14 L1343.05 1568.04 L1337.04 1568.04 Q1330.26 1568.04 1327.68 1565.53 Q1325.1 1562.98 1325.1 1556.3 L1325.1 1536.95 L1320.8 1536.95 L1320.8 1532.4 L1325.1 1532.4 L1325.1 1522.27 L1330.99 1522.27 Z\" fill=\"#000000\" fill-rule=\"evenodd\" fill-opacity=\"1\" /><path clip-path=\"url(#clip590)\" d=\"M1350.75 1532.4 L1356.61 1532.4 L1356.61 1568.04 L1350.75 1568.04 L1350.75 1532.4 M1350.75 1518.52 L1356.61 1518.52 L1356.61 1525.93 L1350.75 1525.93 L1350.75 1518.52 Z\" fill=\"#000000\" fill-rule=\"evenodd\" fill-opacity=\"1\" /><path clip-path=\"url(#clip590)\" d=\"M1382.68 1536.5 Q1377.97 1536.5 1375.23 1540.19 Q1372.49 1543.85 1372.49 1550.25 Q1372.49 1556.65 1375.2 1560.34 Q1377.94 1564 1382.68 1564 Q1387.36 1564 1390.09 1560.31 Q1392.83 1556.62 1392.83 1550.25 Q1392.83 1543.92 1390.09 1540.23 Q1387.36 1536.5 1382.68 1536.5 M1382.68 1531.54 Q1390.32 1531.54 1394.68 1536.5 Q1399.04 1541.47 1399.04 1550.25 Q1399.04 1559 1394.68 1564 Q1390.32 1568.97 1382.68 1568.97 Q1375.01 1568.97 1370.65 1564 Q1366.32 1559 1366.32 1550.25 Q1366.32 1541.47 1370.65 1536.5 Q1375.01 1531.54 1382.68 1531.54 Z\" fill=\"#000000\" fill-rule=\"evenodd\" fill-opacity=\"1\" /><path clip-path=\"url(#clip590)\" d=\"M1438.38 1546.53 L1438.38 1568.04 L1432.52 1568.04 L1432.52 1546.72 Q1432.52 1541.66 1430.55 1539.14 Q1428.57 1536.63 1424.63 1536.63 Q1419.89 1536.63 1417.15 1539.65 Q1414.41 1542.68 1414.41 1547.9 L1414.41 1568.04 L1408.52 1568.04 L1408.52 1532.4 L1414.41 1532.4 L1414.41 1537.93 Q1416.51 1534.72 1419.34 1533.13 Q1422.21 1531.54 1425.93 1531.54 Q1432.08 1531.54 1435.23 1535.36 Q1438.38 1539.14 1438.38 1546.53 Z\" fill=\"#000000\" fill-rule=\"evenodd\" fill-opacity=\"1\" /><path clip-path=\"url(#clip590)\" d=\"M1472.78 1533.45 L1472.78 1538.98 Q1470.3 1537.71 1467.63 1537.07 Q1464.95 1536.44 1462.09 1536.44 Q1457.73 1536.44 1455.53 1537.77 Q1453.37 1539.11 1453.37 1541.79 Q1453.37 1543.82 1454.93 1545 Q1456.49 1546.15 1461.2 1547.2 L1463.2 1547.64 Q1469.44 1548.98 1472.05 1551.43 Q1474.69 1553.85 1474.69 1558.21 Q1474.69 1563.17 1470.75 1566.07 Q1466.83 1568.97 1459.96 1568.97 Q1457.09 1568.97 1453.97 1568.39 Q1450.89 1567.85 1447.45 1566.74 L1447.45 1560.69 Q1450.7 1562.38 1453.85 1563.24 Q1457 1564.07 1460.08 1564.07 Q1464.22 1564.07 1466.45 1562.66 Q1468.68 1561.23 1468.68 1558.65 Q1468.68 1556.27 1467.06 1554.99 Q1465.46 1553.72 1460.02 1552.54 L1457.98 1552.07 Q1452.54 1550.92 1450.12 1548.56 Q1447.7 1546.18 1447.7 1542.04 Q1447.7 1537.01 1451.27 1534.27 Q1454.83 1531.54 1461.39 1531.54 Q1464.64 1531.54 1467.5 1532.01 Q1470.37 1532.49 1472.78 1533.45 Z\" fill=\"#000000\" fill-rule=\"evenodd\" fill-opacity=\"1\" /><path clip-path=\"url(#clip590)\" d=\"M1528.2 1537.81 L1528.2 1518.52 L1534.05 1518.52 L1534.05 1568.04 L1528.2 1568.04 L1528.2 1562.7 Q1526.35 1565.88 1523.52 1567.44 Q1520.72 1568.97 1516.77 1568.97 Q1510.31 1568.97 1506.24 1563.81 Q1502.19 1558.65 1502.19 1550.25 Q1502.19 1541.85 1506.24 1536.69 Q1510.31 1531.54 1516.77 1531.54 Q1520.72 1531.54 1523.52 1533.1 Q1526.35 1534.62 1528.2 1537.81 M1508.24 1550.25 Q1508.24 1556.71 1510.88 1560.4 Q1513.56 1564.07 1518.2 1564.07 Q1522.85 1564.07 1525.52 1560.4 Q1528.2 1556.71 1528.2 1550.25 Q1528.2 1543.79 1525.52 1540.13 Q1522.85 1536.44 1518.2 1536.44 Q1513.56 1536.44 1510.88 1540.13 Q1508.24 1543.79 1508.24 1550.25 Z\" fill=\"#000000\" fill-rule=\"evenodd\" fill-opacity=\"1\" /><path clip-path=\"url(#clip590)\" d=\"M1546.12 1532.4 L1551.97 1532.4 L1551.97 1568.04 L1546.12 1568.04 L1546.12 1532.4 M1546.12 1518.52 L1551.97 1518.52 L1551.97 1525.93 L1546.12 1525.93 L1546.12 1518.52 Z\" fill=\"#000000\" fill-rule=\"evenodd\" fill-opacity=\"1\" /><path clip-path=\"url(#clip590)\" d=\"M1586.95 1533.45 L1586.95 1538.98 Q1584.47 1537.71 1581.8 1537.07 Q1579.12 1536.44 1576.26 1536.44 Q1571.9 1536.44 1569.7 1537.77 Q1567.54 1539.11 1567.54 1541.79 Q1567.54 1543.82 1569.1 1545 Q1570.66 1546.15 1575.37 1547.2 L1577.37 1547.64 Q1583.61 1548.98 1586.22 1551.43 Q1588.86 1553.85 1588.86 1558.21 Q1588.86 1563.17 1584.92 1566.07 Q1581 1568.97 1574.13 1568.97 Q1571.26 1568.97 1568.14 1568.39 Q1565.06 1567.85 1561.62 1566.74 L1561.62 1560.69 Q1564.86 1562.38 1568.02 1563.24 Q1571.17 1564.07 1574.25 1564.07 Q1578.39 1564.07 1580.62 1562.66 Q1582.85 1561.23 1582.85 1558.65 Q1582.85 1556.27 1581.22 1554.99 Q1579.63 1553.72 1574.19 1552.54 L1572.15 1552.07 Q1566.71 1550.92 1564.29 1548.56 Q1561.87 1546.18 1561.87 1542.04 Q1561.87 1537.01 1565.44 1534.27 Q1569 1531.54 1575.56 1531.54 Q1578.81 1531.54 1581.67 1532.01 Q1584.53 1532.49 1586.95 1533.45 Z\" fill=\"#000000\" fill-rule=\"evenodd\" fill-opacity=\"1\" /><path clip-path=\"url(#clip590)\" d=\"M1603.98 1522.27 L1603.98 1532.4 L1616.04 1532.4 L1616.04 1536.95 L1603.98 1536.95 L1603.98 1556.3 Q1603.98 1560.66 1605.16 1561.9 Q1606.37 1563.14 1610.03 1563.14 L1616.04 1563.14 L1616.04 1568.04 L1610.03 1568.04 Q1603.25 1568.04 1600.67 1565.53 Q1598.09 1562.98 1598.09 1556.3 L1598.09 1536.95 L1593.8 1536.95 L1593.8 1532.4 L1598.09 1532.4 L1598.09 1522.27 L1603.98 1522.27 Z\" fill=\"#000000\" fill-rule=\"evenodd\" fill-opacity=\"1\" /><path clip-path=\"url(#clip590)\" d=\"M1644.4 1537.87 Q1643.42 1537.3 1642.24 1537.04 Q1641.09 1536.76 1639.69 1536.76 Q1634.73 1536.76 1632.05 1540 Q1629.41 1543.22 1629.41 1549.27 L1629.41 1568.04 L1623.52 1568.04 L1623.52 1532.4 L1629.41 1532.4 L1629.41 1537.93 Q1631.26 1534.69 1634.22 1533.13 Q1637.18 1531.54 1641.41 1531.54 Q1642.02 1531.54 1642.75 1531.63 Q1643.48 1531.7 1644.37 1531.85 L1644.4 1537.87 Z\" fill=\"#000000\" fill-rule=\"evenodd\" fill-opacity=\"1\" /><path clip-path=\"url(#clip590)\" d=\"M1650.55 1532.4 L1656.4 1532.4 L1656.4 1568.04 L1650.55 1568.04 L1650.55 1532.4 M1650.55 1518.52 L1656.4 1518.52 L1656.4 1525.93 L1650.55 1525.93 L1650.55 1518.52 Z\" fill=\"#000000\" fill-rule=\"evenodd\" fill-opacity=\"1\" /><path clip-path=\"url(#clip590)\" d=\"M1694.25 1550.25 Q1694.25 1543.79 1691.57 1540.13 Q1688.93 1536.44 1684.28 1536.44 Q1679.64 1536.44 1676.96 1540.13 Q1674.32 1543.79 1674.32 1550.25 Q1674.32 1556.71 1676.96 1560.4 Q1679.64 1564.07 1684.28 1564.07 Q1688.93 1564.07 1691.57 1560.4 Q1694.25 1556.71 1694.25 1550.25 M1674.32 1537.81 Q1676.17 1534.62 1678.97 1533.1 Q1681.8 1531.54 1685.72 1531.54 Q1692.21 1531.54 1696.25 1536.69 Q1700.33 1541.85 1700.33 1550.25 Q1700.33 1558.65 1696.25 1563.81 Q1692.21 1568.97 1685.72 1568.97 Q1681.8 1568.97 1678.97 1567.44 Q1676.17 1565.88 1674.32 1562.7 L1674.32 1568.04 L1668.43 1568.04 L1668.43 1518.52 L1674.32 1518.52 L1674.32 1537.81 Z\" fill=\"#000000\" fill-rule=\"evenodd\" fill-opacity=\"1\" /><path clip-path=\"url(#clip590)\" d=\"M1709.43 1553.98 L1709.43 1532.4 L1715.29 1532.4 L1715.29 1553.75 Q1715.29 1558.81 1717.26 1561.36 Q1719.23 1563.87 1723.18 1563.87 Q1727.92 1563.87 1730.66 1560.85 Q1733.43 1557.83 1733.43 1552.61 L1733.43 1532.4 L1739.28 1532.4 L1739.28 1568.04 L1733.43 1568.04 L1733.43 1562.57 Q1731.3 1565.82 1728.46 1567.41 Q1725.66 1568.97 1721.94 1568.97 Q1715.8 1568.97 1712.61 1565.15 Q1709.43 1561.33 1709.43 1553.98 M1724.17 1531.54 L1724.17 1531.54 Z\" fill=\"#000000\" fill-rule=\"evenodd\" fill-opacity=\"1\" /><path clip-path=\"url(#clip590)\" d=\"M1757.14 1522.27 L1757.14 1532.4 L1769.2 1532.4 L1769.2 1536.95 L1757.14 1536.95 L1757.14 1556.3 Q1757.14 1560.66 1758.32 1561.9 Q1759.53 1563.14 1763.19 1563.14 L1769.2 1563.14 L1769.2 1568.04 L1763.19 1568.04 Q1756.41 1568.04 1753.83 1565.53 Q1751.25 1562.98 1751.25 1556.3 L1751.25 1536.95 L1746.96 1536.95 L1746.96 1532.4 L1751.25 1532.4 L1751.25 1522.27 L1757.14 1522.27 Z\" fill=\"#000000\" fill-rule=\"evenodd\" fill-opacity=\"1\" /><path clip-path=\"url(#clip590)\" d=\"M1807.4 1548.76 L1807.4 1551.62 L1780.47 1551.62 Q1780.85 1557.67 1784.1 1560.85 Q1787.38 1564 1793.2 1564 Q1796.58 1564 1799.73 1563.17 Q1802.91 1562.35 1806.03 1560.69 L1806.03 1566.23 Q1802.88 1567.57 1799.57 1568.27 Q1796.26 1568.97 1792.85 1568.97 Q1784.32 1568.97 1779.32 1564 Q1774.36 1559.04 1774.36 1550.57 Q1774.36 1541.82 1779.07 1536.69 Q1783.81 1531.54 1791.83 1531.54 Q1799.03 1531.54 1803.2 1536.18 Q1807.4 1540.8 1807.4 1548.76 M1801.54 1547.04 Q1801.48 1542.23 1798.84 1539.37 Q1796.23 1536.5 1791.9 1536.5 Q1787 1536.5 1784.04 1539.27 Q1781.11 1542.04 1780.66 1547.07 L1801.54 1547.04 Z\" fill=\"#000000\" fill-rule=\"evenodd\" fill-opacity=\"1\" /><path clip-path=\"url(#clip590)\" d=\"M1840.47 1537.81 L1840.47 1518.52 L1846.32 1518.52 L1846.32 1568.04 L1840.47 1568.04 L1840.47 1562.7 Q1838.62 1565.88 1835.79 1567.44 Q1832.99 1568.97 1829.04 1568.97 Q1822.58 1568.97 1818.51 1563.81 Q1814.46 1558.65 1814.46 1550.25 Q1814.46 1541.85 1818.51 1536.69 Q1822.58 1531.54 1829.04 1531.54 Q1832.99 1531.54 1835.79 1533.1 Q1838.62 1534.62 1840.47 1537.81 M1820.51 1550.25 Q1820.51 1556.71 1823.15 1560.4 Q1825.83 1564.07 1830.47 1564.07 Q1835.12 1564.07 1837.79 1560.4 Q1840.47 1556.71 1840.47 1550.25 Q1840.47 1543.79 1837.79 1540.13 Q1835.12 1536.44 1830.47 1536.44 Q1825.83 1536.44 1823.15 1540.13 Q1820.51 1543.79 1820.51 1550.25 Z\" fill=\"#000000\" fill-rule=\"evenodd\" fill-opacity=\"1\" /><polyline clip-path=\"url(#clip592)\" style=\"stroke:#000000; stroke-linecap:butt; stroke-linejoin:round; stroke-width:2; stroke-opacity:0.1; fill:none\" points=\"\n",
       "  175.445,1245.87 2352.76,1245.87 \n",
       "  \"/>\n",
       "<polyline clip-path=\"url(#clip592)\" style=\"stroke:#000000; stroke-linecap:butt; stroke-linejoin:round; stroke-width:2; stroke-opacity:0.1; fill:none\" points=\"\n",
       "  175.445,1038.54 2352.76,1038.54 \n",
       "  \"/>\n",
       "<polyline clip-path=\"url(#clip592)\" style=\"stroke:#000000; stroke-linecap:butt; stroke-linejoin:round; stroke-width:2; stroke-opacity:0.1; fill:none\" points=\"\n",
       "  175.445,831.214 2352.76,831.214 \n",
       "  \"/>\n",
       "<polyline clip-path=\"url(#clip592)\" style=\"stroke:#000000; stroke-linecap:butt; stroke-linejoin:round; stroke-width:2; stroke-opacity:0.1; fill:none\" points=\"\n",
       "  175.445,623.887 2352.76,623.887 \n",
       "  \"/>\n",
       "<polyline clip-path=\"url(#clip592)\" style=\"stroke:#000000; stroke-linecap:butt; stroke-linejoin:round; stroke-width:2; stroke-opacity:0.1; fill:none\" points=\"\n",
       "  175.445,416.559 2352.76,416.559 \n",
       "  \"/>\n",
       "<polyline clip-path=\"url(#clip592)\" style=\"stroke:#000000; stroke-linecap:butt; stroke-linejoin:round; stroke-width:2; stroke-opacity:0.1; fill:none\" points=\"\n",
       "  175.445,209.232 2352.76,209.232 \n",
       "  \"/>\n",
       "<polyline clip-path=\"url(#clip590)\" style=\"stroke:#000000; stroke-linecap:butt; stroke-linejoin:round; stroke-width:4; stroke-opacity:1; fill:none\" points=\"\n",
       "  175.445,1423.18 175.445,47.2441 \n",
       "  \"/>\n",
       "<polyline clip-path=\"url(#clip590)\" style=\"stroke:#000000; stroke-linecap:butt; stroke-linejoin:round; stroke-width:4; stroke-opacity:1; fill:none\" points=\"\n",
       "  175.445,1245.87 194.343,1245.87 \n",
       "  \"/>\n",
       "<polyline clip-path=\"url(#clip590)\" style=\"stroke:#000000; stroke-linecap:butt; stroke-linejoin:round; stroke-width:4; stroke-opacity:1; fill:none\" points=\"\n",
       "  175.445,1038.54 194.343,1038.54 \n",
       "  \"/>\n",
       "<polyline clip-path=\"url(#clip590)\" style=\"stroke:#000000; stroke-linecap:butt; stroke-linejoin:round; stroke-width:4; stroke-opacity:1; fill:none\" points=\"\n",
       "  175.445,831.214 194.343,831.214 \n",
       "  \"/>\n",
       "<polyline clip-path=\"url(#clip590)\" style=\"stroke:#000000; stroke-linecap:butt; stroke-linejoin:round; stroke-width:4; stroke-opacity:1; fill:none\" points=\"\n",
       "  175.445,623.887 194.343,623.887 \n",
       "  \"/>\n",
       "<polyline clip-path=\"url(#clip590)\" style=\"stroke:#000000; stroke-linecap:butt; stroke-linejoin:round; stroke-width:4; stroke-opacity:1; fill:none\" points=\"\n",
       "  175.445,416.559 194.343,416.559 \n",
       "  \"/>\n",
       "<polyline clip-path=\"url(#clip590)\" style=\"stroke:#000000; stroke-linecap:butt; stroke-linejoin:round; stroke-width:4; stroke-opacity:1; fill:none\" points=\"\n",
       "  175.445,209.232 194.343,209.232 \n",
       "  \"/>\n",
       "<path clip-path=\"url(#clip590)\" d=\"M132.316 1244.52 Q135.672 1245.23 137.547 1247.5 Q139.445 1249.77 139.445 1253.1 Q139.445 1258.22 135.927 1261.02 Q132.408 1263.82 125.927 1263.82 Q123.751 1263.82 121.436 1263.38 Q119.144 1262.96 116.691 1262.11 L116.691 1257.59 Q118.635 1258.73 120.95 1259.31 Q123.265 1259.89 125.788 1259.89 Q130.186 1259.89 132.478 1258.15 Q134.792 1256.41 134.792 1253.1 Q134.792 1250.05 132.64 1248.33 Q130.51 1246.6 126.691 1246.6 L122.663 1246.6 L122.663 1242.76 L126.876 1242.76 Q130.325 1242.76 132.154 1241.39 Q133.982 1240 133.982 1237.41 Q133.982 1234.75 132.084 1233.33 Q130.209 1231.9 126.691 1231.9 Q124.769 1231.9 122.57 1232.32 Q120.371 1232.73 117.732 1233.61 L117.732 1229.45 Q120.394 1228.71 122.709 1228.33 Q125.047 1227.96 127.107 1227.96 Q132.431 1227.96 135.533 1230.4 Q138.635 1232.8 138.635 1236.92 Q138.635 1239.79 136.992 1241.78 Q135.348 1243.75 132.316 1244.52 Z\" fill=\"#000000\" fill-rule=\"evenodd\" fill-opacity=\"1\" /><path clip-path=\"url(#clip590)\" d=\"M129.862 1025.34 L118.056 1043.79 L129.862 1043.79 L129.862 1025.34 M128.635 1021.26 L134.515 1021.26 L134.515 1043.79 L139.445 1043.79 L139.445 1047.67 L134.515 1047.67 L134.515 1055.82 L129.862 1055.82 L129.862 1047.67 L114.26 1047.67 L114.26 1043.16 L128.635 1021.26 Z\" fill=\"#000000\" fill-rule=\"evenodd\" fill-opacity=\"1\" /><path clip-path=\"url(#clip590)\" d=\"M118.543 813.934 L136.899 813.934 L136.899 817.87 L122.825 817.87 L122.825 826.342 Q123.843 825.994 124.862 825.832 Q125.88 825.647 126.899 825.647 Q132.686 825.647 136.066 828.819 Q139.445 831.99 139.445 837.406 Q139.445 842.985 135.973 846.087 Q132.501 849.166 126.181 849.166 Q124.005 849.166 121.737 848.795 Q119.492 848.425 117.084 847.684 L117.084 842.985 Q119.168 844.119 121.39 844.675 Q123.612 845.231 126.089 845.231 Q130.093 845.231 132.431 843.124 Q134.769 841.018 134.769 837.406 Q134.769 833.795 132.431 831.689 Q130.093 829.582 126.089 829.582 Q124.214 829.582 122.339 829.999 Q120.487 830.416 118.543 831.295 L118.543 813.934 Z\" fill=\"#000000\" fill-rule=\"evenodd\" fill-opacity=\"1\" /><path clip-path=\"url(#clip590)\" d=\"M127.917 622.023 Q124.769 622.023 122.918 624.176 Q121.089 626.329 121.089 630.079 Q121.089 633.806 122.918 635.982 Q124.769 638.134 127.917 638.134 Q131.066 638.134 132.894 635.982 Q134.746 633.806 134.746 630.079 Q134.746 626.329 132.894 624.176 Q131.066 622.023 127.917 622.023 M137.2 607.371 L137.2 611.63 Q135.441 610.797 133.635 610.357 Q131.853 609.917 130.093 609.917 Q125.464 609.917 123.01 613.042 Q120.58 616.167 120.232 622.486 Q121.598 620.472 123.658 619.408 Q125.718 618.32 128.195 618.32 Q133.404 618.32 136.413 621.491 Q139.445 624.639 139.445 630.079 Q139.445 635.403 136.297 638.62 Q133.149 641.838 127.917 641.838 Q121.922 641.838 118.751 637.255 Q115.58 632.648 115.58 623.921 Q115.58 615.727 119.468 610.866 Q123.357 605.982 129.908 605.982 Q131.667 605.982 133.45 606.329 Q135.255 606.676 137.2 607.371 Z\" fill=\"#000000\" fill-rule=\"evenodd\" fill-opacity=\"1\" /><path clip-path=\"url(#clip590)\" d=\"M117.223 399.279 L139.445 399.279 L139.445 401.27 L126.899 433.839 L122.015 433.839 L133.82 403.214 L117.223 403.214 L117.223 399.279 Z\" fill=\"#000000\" fill-rule=\"evenodd\" fill-opacity=\"1\" /><path clip-path=\"url(#clip590)\" d=\"M127.593 210.1 Q124.26 210.1 122.339 211.882 Q120.441 213.664 120.441 216.789 Q120.441 219.914 122.339 221.697 Q124.26 223.479 127.593 223.479 Q130.927 223.479 132.848 221.697 Q134.769 219.891 134.769 216.789 Q134.769 213.664 132.848 211.882 Q130.95 210.1 127.593 210.1 M122.918 208.109 Q119.908 207.368 118.218 205.308 Q116.552 203.248 116.552 200.285 Q116.552 196.141 119.492 193.734 Q122.455 191.327 127.593 191.327 Q132.755 191.327 135.695 193.734 Q138.635 196.141 138.635 200.285 Q138.635 203.248 136.945 205.308 Q135.279 207.368 132.292 208.109 Q135.672 208.896 137.547 211.188 Q139.445 213.479 139.445 216.789 Q139.445 221.813 136.367 224.498 Q133.311 227.183 127.593 227.183 Q121.876 227.183 118.797 224.498 Q115.742 221.813 115.742 216.789 Q115.742 213.479 117.64 211.188 Q119.538 208.896 122.918 208.109 M121.205 200.725 Q121.205 203.41 122.871 204.914 Q124.561 206.419 127.593 206.419 Q130.603 206.419 132.292 204.914 Q134.005 203.41 134.005 200.725 Q134.005 198.04 132.292 196.535 Q130.603 195.03 127.593 195.03 Q124.561 195.03 122.871 196.535 Q121.205 198.04 121.205 200.725 Z\" fill=\"#000000\" fill-rule=\"evenodd\" fill-opacity=\"1\" /><path clip-path=\"url(#clip590)\" d=\"M41.7242 895.58 Q42.4244 893.511 44.7161 891.57 Q47.0077 889.596 51.0181 887.623 L64.0042 881.098 L64.0042 888.005 L51.8138 894.084 Q47.0395 896.439 45.48 898.667 Q43.9204 900.864 43.9204 904.683 L43.9204 911.685 L64.0042 911.685 L64.0042 918.115 L16.4842 918.115 L16.4842 903.601 Q16.4842 895.453 19.8898 891.442 Q23.2955 887.432 30.1704 887.432 Q34.6582 887.432 37.6183 889.533 Q40.5784 891.601 41.7242 895.58 M21.7677 911.685 L38.6368 911.685 L38.6368 903.601 Q38.6368 898.954 36.5043 896.599 Q34.34 894.211 30.1704 894.211 Q26.0009 894.211 23.9002 896.599 Q21.7677 898.954 21.7677 903.601 L21.7677 911.685 Z\" fill=\"#000000\" fill-rule=\"evenodd\" fill-opacity=\"1\" /><path clip-path=\"url(#clip590)\" d=\"M49.9359 876.61 L28.3562 876.61 L28.3562 870.754 L49.7131 870.754 Q54.7739 870.754 57.3202 868.78 Q59.8346 866.807 59.8346 862.86 Q59.8346 858.118 56.8109 855.381 Q53.7872 852.612 48.5673 852.612 L28.3562 852.612 L28.3562 846.755 L64.0042 846.755 L64.0042 852.612 L58.5296 852.612 Q61.7762 854.744 63.3676 857.577 Q64.9272 860.378 64.9272 864.102 Q64.9272 870.245 61.1078 873.427 Q57.2883 876.61 49.9359 876.61 M27.4968 861.874 L27.4968 861.874 Z\" fill=\"#000000\" fill-rule=\"evenodd\" fill-opacity=\"1\" /><path clip-path=\"url(#clip590)\" d=\"M42.4881 805.06 L64.0042 805.06 L64.0042 810.916 L42.679 810.916 Q37.6183 810.916 35.1038 812.89 Q32.5894 814.863 32.5894 818.81 Q32.5894 823.552 35.6131 826.289 Q38.6368 829.027 43.8567 829.027 L64.0042 829.027 L64.0042 834.915 L28.3562 834.915 L28.3562 829.027 L33.8944 829.027 Q30.6797 826.926 29.0883 824.093 Q27.4968 821.229 27.4968 817.505 Q27.4968 811.362 31.3163 808.211 Q35.1038 805.06 42.4881 805.06 Z\" fill=\"#000000\" fill-rule=\"evenodd\" fill-opacity=\"1\" /><path clip-path=\"url(#clip590)\" d=\"M18.2347 787.586 L28.3562 787.586 L28.3562 775.523 L32.9077 775.523 L32.9077 787.586 L52.2594 787.586 Q56.6199 787.586 57.8613 786.408 Q59.1026 785.199 59.1026 781.538 L59.1026 775.523 L64.0042 775.523 L64.0042 781.538 Q64.0042 788.318 61.4897 790.896 Q58.9434 793.474 52.2594 793.474 L32.9077 793.474 L32.9077 797.771 L28.3562 797.771 L28.3562 793.474 L18.2347 793.474 L18.2347 787.586 Z\" fill=\"#000000\" fill-rule=\"evenodd\" fill-opacity=\"1\" /><path clip-path=\"url(#clip590)\" d=\"M28.3562 767.82 L28.3562 761.964 L64.0042 761.964 L64.0042 767.82 L28.3562 767.82 M14.479 767.82 L14.479 761.964 L21.895 761.964 L21.895 767.82 L14.479 767.82 Z\" fill=\"#000000\" fill-rule=\"evenodd\" fill-opacity=\"1\" /><path clip-path=\"url(#clip590)\" d=\"M35.1993 721.955 Q31.2526 719.759 29.3747 716.704 Q27.4968 713.648 27.4968 709.51 Q27.4968 703.94 31.4117 700.917 Q35.2948 697.893 42.4881 697.893 L64.0042 697.893 L64.0042 703.781 L42.679 703.781 Q37.5546 703.781 35.072 705.596 Q32.5894 707.41 32.5894 711.134 Q32.5894 715.685 35.6131 718.327 Q38.6368 720.969 43.8567 720.969 L64.0042 720.969 L64.0042 726.857 L42.679 726.857 Q37.5228 726.857 35.072 728.671 Q32.5894 730.485 32.5894 734.273 Q32.5894 738.761 35.6449 741.403 Q38.6686 744.044 43.8567 744.044 L64.0042 744.044 L64.0042 749.933 L28.3562 749.933 L28.3562 744.044 L33.8944 744.044 Q30.616 742.039 29.0564 739.238 Q27.4968 736.437 27.4968 732.586 Q27.4968 728.703 29.4702 725.998 Q31.4436 723.26 35.1993 721.955 Z\" fill=\"#000000\" fill-rule=\"evenodd\" fill-opacity=\"1\" /><path clip-path=\"url(#clip590)\" d=\"M44.7161 655.72 L47.5806 655.72 L47.5806 682.647 Q53.6281 682.265 56.8109 679.019 Q59.9619 675.74 59.9619 669.916 Q59.9619 666.542 59.1344 663.391 Q58.3069 660.208 56.6518 657.089 L62.1899 657.089 Q63.5267 660.24 64.227 663.55 Q64.9272 666.86 64.9272 670.266 Q64.9272 678.796 59.9619 683.793 Q54.9967 688.758 46.5303 688.758 Q37.7774 688.758 32.6531 684.048 Q27.4968 679.305 27.4968 671.284 Q27.4968 664.091 32.1438 659.922 Q36.7589 655.72 44.7161 655.72 M42.9973 661.577 Q38.1912 661.64 35.3266 664.282 Q32.4621 666.892 32.4621 671.221 Q32.4621 676.122 35.2312 679.082 Q38.0002 682.011 43.0292 682.456 L42.9973 661.577 Z\" fill=\"#000000\" fill-rule=\"evenodd\" fill-opacity=\"1\" /><path clip-path=\"url(#clip590)\" d=\"M14.5426 611.319 Q21.8632 615.584 29.0246 617.653 Q36.186 619.722 43.5384 619.722 Q50.8908 619.722 58.1159 617.653 Q65.3091 615.553 72.5979 611.319 L72.5979 616.412 Q65.1182 621.186 57.8931 623.573 Q50.668 625.929 43.5384 625.929 Q36.4406 625.929 29.2474 623.573 Q22.0542 621.218 14.5426 616.412 L14.5426 611.319 Z\" fill=\"#000000\" fill-rule=\"evenodd\" fill-opacity=\"1\" /><path clip-path=\"url(#clip590)\" d=\"M29.4065 577.231 L34.9447 577.231 Q33.6716 579.714 33.035 582.387 Q32.3984 585.061 32.3984 587.925 Q32.3984 592.286 33.7352 594.482 Q35.072 596.646 37.7456 596.646 Q39.7826 596.646 40.9603 595.087 Q42.1061 593.527 43.1565 588.817 L43.6021 586.811 Q44.9389 580.573 47.3897 577.963 Q49.8086 575.321 54.1691 575.321 Q59.1344 575.321 62.0308 579.268 Q64.9272 583.183 64.9272 590.058 Q64.9272 592.923 64.3543 596.042 Q63.8132 599.129 62.6992 602.567 L56.6518 602.567 Q58.3387 599.32 59.198 596.169 Q60.0256 593.018 60.0256 589.931 Q60.0256 585.793 58.6251 583.565 Q57.1929 581.337 54.6147 581.337 Q52.2276 581.337 50.9545 582.96 Q49.6813 584.552 48.5037 589.994 L48.0262 592.031 Q46.8804 597.474 44.5251 599.893 Q42.138 602.312 38.0002 602.312 Q32.9713 602.312 30.2341 598.747 Q27.4968 595.182 27.4968 588.626 Q27.4968 585.379 27.9743 582.515 Q28.4517 579.65 29.4065 577.231 Z\" fill=\"#000000\" fill-rule=\"evenodd\" fill-opacity=\"1\" /><path clip-path=\"url(#clip590)\" d=\"M14.5426 566.919 L14.5426 561.826 Q22.0542 557.052 29.2474 554.696 Q36.4406 552.309 43.5384 552.309 Q50.668 552.309 57.8931 554.696 Q65.1182 557.052 72.5979 561.826 L72.5979 566.919 Q65.3091 562.685 58.1159 560.617 Q50.8908 558.516 43.5384 558.516 Q36.186 558.516 29.0246 560.617 Q21.8632 562.685 14.5426 566.919 Z\" fill=\"#000000\" fill-rule=\"evenodd\" fill-opacity=\"1\" /><polyline clip-path=\"url(#clip592)\" style=\"stroke:#009af9; stroke-linecap:butt; stroke-linejoin:round; stroke-width:4; stroke-opacity:1; fill:none\" points=\"\n",
       "  237.067,1384.24 345.176,797.479 561.394,634.521 1210.05,933.003 2291.13,86.1857 \n",
       "  \"/>\n",
       "</svg>\n"
      ]
     },
     "execution_count": 77,
     "metadata": {},
     "output_type": "execute_result"
    }
   ],
   "source": [
    "plot(nperms_list, runtimes_nperms; xlabel = \"Number of permutations distributed\", ylabel = \"Runtime (s)\", legend = false)"
   ]
  },
  {
   "cell_type": "code",
   "execution_count": 78,
   "id": "a536f623-2a77-472a-8b4f-ab85beaaac6c",
   "metadata": {},
   "outputs": [
    {
     "data": {
      "image/svg+xml": [
       "<?xml version=\"1.0\" encoding=\"utf-8\"?>\n",
       "<svg xmlns=\"http://www.w3.org/2000/svg\" xmlns:xlink=\"http://www.w3.org/1999/xlink\" width=\"600\" height=\"400\" viewBox=\"0 0 2400 1600\">\n",
       "<defs>\n",
       "  <clipPath id=\"clip630\">\n",
       "    <rect x=\"0\" y=\"0\" width=\"2400\" height=\"1600\"/>\n",
       "  </clipPath>\n",
       "</defs>\n",
       "<path clip-path=\"url(#clip630)\" d=\"\n",
       "M0 1600 L2400 1600 L2400 0 L0 0  Z\n",
       "  \" fill=\"#ffffff\" fill-rule=\"evenodd\" fill-opacity=\"1\"/>\n",
       "<defs>\n",
       "  <clipPath id=\"clip631\">\n",
       "    <rect x=\"480\" y=\"0\" width=\"1681\" height=\"1600\"/>\n",
       "  </clipPath>\n",
       "</defs>\n",
       "<path clip-path=\"url(#clip630)\" d=\"\n",
       "M220.676 1423.18 L2352.76 1423.18 L2352.76 47.2441 L220.676 47.2441  Z\n",
       "  \" fill=\"#ffffff\" fill-rule=\"evenodd\" fill-opacity=\"1\"/>\n",
       "<defs>\n",
       "  <clipPath id=\"clip632\">\n",
       "    <rect x=\"220\" y=\"47\" width=\"2133\" height=\"1377\"/>\n",
       "  </clipPath>\n",
       "</defs>\n",
       "<polyline clip-path=\"url(#clip632)\" style=\"stroke:#000000; stroke-linecap:butt; stroke-linejoin:round; stroke-width:2; stroke-opacity:0.1; fill:none\" points=\"\n",
       "  504.507,1423.18 504.507,47.2441 \n",
       "  \"/>\n",
       "<polyline clip-path=\"url(#clip632)\" style=\"stroke:#000000; stroke-linecap:butt; stroke-linejoin:round; stroke-width:2; stroke-opacity:0.1; fill:none\" points=\"\n",
       "  951.484,1423.18 951.484,47.2441 \n",
       "  \"/>\n",
       "<polyline clip-path=\"url(#clip632)\" style=\"stroke:#000000; stroke-linecap:butt; stroke-linejoin:round; stroke-width:2; stroke-opacity:0.1; fill:none\" points=\"\n",
       "  1398.46,1423.18 1398.46,47.2441 \n",
       "  \"/>\n",
       "<polyline clip-path=\"url(#clip632)\" style=\"stroke:#000000; stroke-linecap:butt; stroke-linejoin:round; stroke-width:2; stroke-opacity:0.1; fill:none\" points=\"\n",
       "  1845.44,1423.18 1845.44,47.2441 \n",
       "  \"/>\n",
       "<polyline clip-path=\"url(#clip632)\" style=\"stroke:#000000; stroke-linecap:butt; stroke-linejoin:round; stroke-width:2; stroke-opacity:0.1; fill:none\" points=\"\n",
       "  2292.41,1423.18 2292.41,47.2441 \n",
       "  \"/>\n",
       "<polyline clip-path=\"url(#clip630)\" style=\"stroke:#000000; stroke-linecap:butt; stroke-linejoin:round; stroke-width:4; stroke-opacity:1; fill:none\" points=\"\n",
       "  220.676,1423.18 2352.76,1423.18 \n",
       "  \"/>\n",
       "<polyline clip-path=\"url(#clip630)\" style=\"stroke:#000000; stroke-linecap:butt; stroke-linejoin:round; stroke-width:4; stroke-opacity:1; fill:none\" points=\"\n",
       "  504.507,1423.18 504.507,1404.28 \n",
       "  \"/>\n",
       "<polyline clip-path=\"url(#clip630)\" style=\"stroke:#000000; stroke-linecap:butt; stroke-linejoin:round; stroke-width:4; stroke-opacity:1; fill:none\" points=\"\n",
       "  951.484,1423.18 951.484,1404.28 \n",
       "  \"/>\n",
       "<polyline clip-path=\"url(#clip630)\" style=\"stroke:#000000; stroke-linecap:butt; stroke-linejoin:round; stroke-width:4; stroke-opacity:1; fill:none\" points=\"\n",
       "  1398.46,1423.18 1398.46,1404.28 \n",
       "  \"/>\n",
       "<polyline clip-path=\"url(#clip630)\" style=\"stroke:#000000; stroke-linecap:butt; stroke-linejoin:round; stroke-width:4; stroke-opacity:1; fill:none\" points=\"\n",
       "  1845.44,1423.18 1845.44,1404.28 \n",
       "  \"/>\n",
       "<polyline clip-path=\"url(#clip630)\" style=\"stroke:#000000; stroke-linecap:butt; stroke-linejoin:round; stroke-width:4; stroke-opacity:1; fill:none\" points=\"\n",
       "  2292.41,1423.18 2292.41,1404.28 \n",
       "  \"/>\n",
       "<path clip-path=\"url(#clip630)\" d=\"M468.199 1479.92 L484.518 1479.92 L484.518 1483.85 L462.574 1483.85 L462.574 1479.92 Q465.236 1477.16 469.819 1472.53 Q474.426 1467.88 475.606 1466.54 Q477.852 1464.01 478.731 1462.28 Q479.634 1460.52 479.634 1458.83 Q479.634 1456.07 477.69 1454.34 Q475.768 1452.6 472.667 1452.6 Q470.468 1452.6 468.014 1453.37 Q465.583 1454.13 462.806 1455.68 L462.806 1450.96 Q465.63 1449.82 468.083 1449.25 Q470.537 1448.67 472.574 1448.67 Q477.944 1448.67 481.139 1451.35 Q484.333 1454.04 484.333 1458.53 Q484.333 1460.66 483.523 1462.58 Q482.736 1464.48 480.63 1467.07 Q480.051 1467.74 476.949 1470.96 Q473.847 1474.15 468.199 1479.92 Z\" fill=\"#000000\" fill-rule=\"evenodd\" fill-opacity=\"1\" /><path clip-path=\"url(#clip630)\" d=\"M504.333 1452.37 Q500.722 1452.37 498.893 1455.94 Q497.088 1459.48 497.088 1466.61 Q497.088 1473.71 498.893 1477.28 Q500.722 1480.82 504.333 1480.82 Q507.967 1480.82 509.773 1477.28 Q511.602 1473.71 511.602 1466.61 Q511.602 1459.48 509.773 1455.94 Q507.967 1452.37 504.333 1452.37 M504.333 1448.67 Q510.143 1448.67 513.199 1453.27 Q516.278 1457.86 516.278 1466.61 Q516.278 1475.33 513.199 1479.94 Q510.143 1484.52 504.333 1484.52 Q498.523 1484.52 495.444 1479.94 Q492.389 1475.33 492.389 1466.61 Q492.389 1457.86 495.444 1453.27 Q498.523 1448.67 504.333 1448.67 Z\" fill=\"#000000\" fill-rule=\"evenodd\" fill-opacity=\"1\" /><path clip-path=\"url(#clip630)\" d=\"M534.495 1452.37 Q530.884 1452.37 529.055 1455.94 Q527.25 1459.48 527.25 1466.61 Q527.25 1473.71 529.055 1477.28 Q530.884 1480.82 534.495 1480.82 Q538.129 1480.82 539.935 1477.28 Q541.763 1473.71 541.763 1466.61 Q541.763 1459.48 539.935 1455.94 Q538.129 1452.37 534.495 1452.37 M534.495 1448.67 Q540.305 1448.67 543.361 1453.27 Q546.439 1457.86 546.439 1466.61 Q546.439 1475.33 543.361 1479.94 Q540.305 1484.52 534.495 1484.52 Q528.685 1484.52 525.606 1479.94 Q522.551 1475.33 522.551 1466.61 Q522.551 1457.86 525.606 1453.27 Q528.685 1448.67 534.495 1448.67 Z\" fill=\"#000000\" fill-rule=\"evenodd\" fill-opacity=\"1\" /><path clip-path=\"url(#clip630)\" d=\"M924.574 1453.37 L912.768 1471.81 L924.574 1471.81 L924.574 1453.37 M923.347 1449.29 L929.227 1449.29 L929.227 1471.81 L934.157 1471.81 L934.157 1475.7 L929.227 1475.7 L929.227 1483.85 L924.574 1483.85 L924.574 1475.7 L908.972 1475.7 L908.972 1471.19 L923.347 1449.29 Z\" fill=\"#000000\" fill-rule=\"evenodd\" fill-opacity=\"1\" /><path clip-path=\"url(#clip630)\" d=\"M951.889 1452.37 Q948.278 1452.37 946.449 1455.94 Q944.643 1459.48 944.643 1466.61 Q944.643 1473.71 946.449 1477.28 Q948.278 1480.82 951.889 1480.82 Q955.523 1480.82 957.328 1477.28 Q959.157 1473.71 959.157 1466.61 Q959.157 1459.48 957.328 1455.94 Q955.523 1452.37 951.889 1452.37 M951.889 1448.67 Q957.699 1448.67 960.754 1453.27 Q963.833 1457.86 963.833 1466.61 Q963.833 1475.33 960.754 1479.94 Q957.699 1484.52 951.889 1484.52 Q946.078 1484.52 943 1479.94 Q939.944 1475.33 939.944 1466.61 Q939.944 1457.86 943 1453.27 Q946.078 1448.67 951.889 1448.67 Z\" fill=\"#000000\" fill-rule=\"evenodd\" fill-opacity=\"1\" /><path clip-path=\"url(#clip630)\" d=\"M982.051 1452.37 Q978.439 1452.37 976.611 1455.94 Q974.805 1459.48 974.805 1466.61 Q974.805 1473.71 976.611 1477.28 Q978.439 1480.82 982.051 1480.82 Q985.685 1480.82 987.49 1477.28 Q989.319 1473.71 989.319 1466.61 Q989.319 1459.48 987.49 1455.94 Q985.685 1452.37 982.051 1452.37 M982.051 1448.67 Q987.861 1448.67 990.916 1453.27 Q993.995 1457.86 993.995 1466.61 Q993.995 1475.33 990.916 1479.94 Q987.861 1484.52 982.051 1484.52 Q976.24 1484.52 973.162 1479.94 Q970.106 1475.33 970.106 1466.61 Q970.106 1457.86 973.162 1453.27 Q976.24 1448.67 982.051 1448.67 Z\" fill=\"#000000\" fill-rule=\"evenodd\" fill-opacity=\"1\" /><path clip-path=\"url(#clip630)\" d=\"M1368.78 1464.71 Q1365.64 1464.71 1363.78 1466.86 Q1361.96 1469.01 1361.96 1472.76 Q1361.96 1476.49 1363.78 1478.67 Q1365.64 1480.82 1368.78 1480.82 Q1371.93 1480.82 1373.76 1478.67 Q1375.61 1476.49 1375.61 1472.76 Q1375.61 1469.01 1373.76 1466.86 Q1371.93 1464.71 1368.78 1464.71 M1378.07 1450.06 L1378.07 1454.31 Q1376.31 1453.48 1374.5 1453.04 Q1372.72 1452.6 1370.96 1452.6 Q1366.33 1452.6 1363.88 1455.73 Q1361.45 1458.85 1361.1 1465.17 Q1362.47 1463.16 1364.53 1462.09 Q1366.59 1461 1369.06 1461 Q1374.27 1461 1377.28 1464.18 Q1380.31 1467.32 1380.31 1472.76 Q1380.31 1478.09 1377.16 1481.31 Q1374.02 1484.52 1368.78 1484.52 Q1362.79 1484.52 1359.62 1479.94 Q1356.45 1475.33 1356.45 1466.61 Q1356.45 1458.41 1360.34 1453.55 Q1364.22 1448.67 1370.78 1448.67 Q1372.53 1448.67 1374.32 1449.01 Q1376.12 1449.36 1378.07 1450.06 Z\" fill=\"#000000\" fill-rule=\"evenodd\" fill-opacity=\"1\" /><path clip-path=\"url(#clip630)\" d=\"M1398.37 1452.37 Q1394.76 1452.37 1392.93 1455.94 Q1391.12 1459.48 1391.12 1466.61 Q1391.12 1473.71 1392.93 1477.28 Q1394.76 1480.82 1398.37 1480.82 Q1402 1480.82 1403.81 1477.28 Q1405.64 1473.71 1405.64 1466.61 Q1405.64 1459.48 1403.81 1455.94 Q1402 1452.37 1398.37 1452.37 M1398.37 1448.67 Q1404.18 1448.67 1407.23 1453.27 Q1410.31 1457.86 1410.31 1466.61 Q1410.31 1475.33 1407.23 1479.94 Q1404.18 1484.52 1398.37 1484.52 Q1392.56 1484.52 1389.48 1479.94 Q1386.42 1475.33 1386.42 1466.61 Q1386.42 1457.86 1389.48 1453.27 Q1392.56 1448.67 1398.37 1448.67 Z\" fill=\"#000000\" fill-rule=\"evenodd\" fill-opacity=\"1\" /><path clip-path=\"url(#clip630)\" d=\"M1428.53 1452.37 Q1424.92 1452.37 1423.09 1455.94 Q1421.28 1459.48 1421.28 1466.61 Q1421.28 1473.71 1423.09 1477.28 Q1424.92 1480.82 1428.53 1480.82 Q1432.16 1480.82 1433.97 1477.28 Q1435.8 1473.71 1435.8 1466.61 Q1435.8 1459.48 1433.97 1455.94 Q1432.16 1452.37 1428.53 1452.37 M1428.53 1448.67 Q1434.34 1448.67 1437.4 1453.27 Q1440.47 1457.86 1440.47 1466.61 Q1440.47 1475.33 1437.4 1479.94 Q1434.34 1484.52 1428.53 1484.52 Q1422.72 1484.52 1419.64 1479.94 Q1416.59 1475.33 1416.59 1466.61 Q1416.59 1457.86 1419.64 1453.27 Q1422.72 1448.67 1428.53 1448.67 Z\" fill=\"#000000\" fill-rule=\"evenodd\" fill-opacity=\"1\" /><path clip-path=\"url(#clip630)\" d=\"M1815.23 1467.44 Q1811.9 1467.44 1809.97 1469.22 Q1808.08 1471 1808.08 1474.13 Q1808.08 1477.25 1809.97 1479.04 Q1811.9 1480.82 1815.23 1480.82 Q1818.56 1480.82 1820.48 1479.04 Q1822.4 1477.23 1822.4 1474.13 Q1822.4 1471 1820.48 1469.22 Q1818.59 1467.44 1815.23 1467.44 M1810.55 1465.45 Q1807.54 1464.71 1805.85 1462.65 Q1804.19 1460.59 1804.19 1457.63 Q1804.19 1453.48 1807.13 1451.07 Q1810.09 1448.67 1815.23 1448.67 Q1820.39 1448.67 1823.33 1451.07 Q1826.27 1453.48 1826.27 1457.63 Q1826.27 1460.59 1824.58 1462.65 Q1822.91 1464.71 1819.93 1465.45 Q1823.31 1466.24 1825.18 1468.53 Q1827.08 1470.82 1827.08 1474.13 Q1827.08 1479.15 1824 1481.84 Q1820.95 1484.52 1815.23 1484.52 Q1809.51 1484.52 1806.43 1481.84 Q1803.38 1479.15 1803.38 1474.13 Q1803.38 1470.82 1805.28 1468.53 Q1807.17 1466.24 1810.55 1465.45 M1808.84 1458.06 Q1808.84 1460.75 1810.51 1462.25 Q1812.2 1463.76 1815.23 1463.76 Q1818.24 1463.76 1819.93 1462.25 Q1821.64 1460.75 1821.64 1458.06 Q1821.64 1455.38 1819.93 1453.88 Q1818.24 1452.37 1815.23 1452.37 Q1812.2 1452.37 1810.51 1453.88 Q1808.84 1455.38 1808.84 1458.06 Z\" fill=\"#000000\" fill-rule=\"evenodd\" fill-opacity=\"1\" /><path clip-path=\"url(#clip630)\" d=\"M1845.39 1452.37 Q1841.78 1452.37 1839.95 1455.94 Q1838.15 1459.48 1838.15 1466.61 Q1838.15 1473.71 1839.95 1477.28 Q1841.78 1480.82 1845.39 1480.82 Q1849.03 1480.82 1850.83 1477.28 Q1852.66 1473.71 1852.66 1466.61 Q1852.66 1459.48 1850.83 1455.94 Q1849.03 1452.37 1845.39 1452.37 M1845.39 1448.67 Q1851.2 1448.67 1854.26 1453.27 Q1857.34 1457.86 1857.34 1466.61 Q1857.34 1475.33 1854.26 1479.94 Q1851.2 1484.52 1845.39 1484.52 Q1839.58 1484.52 1836.5 1479.94 Q1833.45 1475.33 1833.45 1466.61 Q1833.45 1457.86 1836.5 1453.27 Q1839.58 1448.67 1845.39 1448.67 Z\" fill=\"#000000\" fill-rule=\"evenodd\" fill-opacity=\"1\" /><path clip-path=\"url(#clip630)\" d=\"M1875.55 1452.37 Q1871.94 1452.37 1870.11 1455.94 Q1868.31 1459.48 1868.31 1466.61 Q1868.31 1473.71 1870.11 1477.28 Q1871.94 1480.82 1875.55 1480.82 Q1879.19 1480.82 1880.99 1477.28 Q1882.82 1473.71 1882.82 1466.61 Q1882.82 1459.48 1880.99 1455.94 Q1879.19 1452.37 1875.55 1452.37 M1875.55 1448.67 Q1881.36 1448.67 1884.42 1453.27 Q1887.5 1457.86 1887.5 1466.61 Q1887.5 1475.33 1884.42 1479.94 Q1881.36 1484.52 1875.55 1484.52 Q1869.74 1484.52 1866.66 1479.94 Q1863.61 1475.33 1863.61 1466.61 Q1863.61 1457.86 1866.66 1453.27 Q1869.74 1448.67 1875.55 1448.67 Z\" fill=\"#000000\" fill-rule=\"evenodd\" fill-opacity=\"1\" /><path clip-path=\"url(#clip630)\" d=\"M2236.94 1479.92 L2244.58 1479.92 L2244.58 1453.55 L2236.27 1455.22 L2236.27 1450.96 L2244.53 1449.29 L2249.21 1449.29 L2249.21 1479.92 L2256.85 1479.92 L2256.85 1483.85 L2236.94 1483.85 L2236.94 1479.92 Z\" fill=\"#000000\" fill-rule=\"evenodd\" fill-opacity=\"1\" /><path clip-path=\"url(#clip630)\" d=\"M2276.29 1452.37 Q2272.68 1452.37 2270.85 1455.94 Q2269.05 1459.48 2269.05 1466.61 Q2269.05 1473.71 2270.85 1477.28 Q2272.68 1480.82 2276.29 1480.82 Q2279.93 1480.82 2281.73 1477.28 Q2283.56 1473.71 2283.56 1466.61 Q2283.56 1459.48 2281.73 1455.94 Q2279.93 1452.37 2276.29 1452.37 M2276.29 1448.67 Q2282.1 1448.67 2285.16 1453.27 Q2288.24 1457.86 2288.24 1466.61 Q2288.24 1475.33 2285.16 1479.94 Q2282.1 1484.52 2276.29 1484.52 Q2270.48 1484.52 2267.4 1479.94 Q2264.35 1475.33 2264.35 1466.61 Q2264.35 1457.86 2267.4 1453.27 Q2270.48 1448.67 2276.29 1448.67 Z\" fill=\"#000000\" fill-rule=\"evenodd\" fill-opacity=\"1\" /><path clip-path=\"url(#clip630)\" d=\"M2306.45 1452.37 Q2302.84 1452.37 2301.01 1455.94 Q2299.21 1459.48 2299.21 1466.61 Q2299.21 1473.71 2301.01 1477.28 Q2302.84 1480.82 2306.45 1480.82 Q2310.09 1480.82 2311.89 1477.28 Q2313.72 1473.71 2313.72 1466.61 Q2313.72 1459.48 2311.89 1455.94 Q2310.09 1452.37 2306.45 1452.37 M2306.45 1448.67 Q2312.26 1448.67 2315.32 1453.27 Q2318.4 1457.86 2318.4 1466.61 Q2318.4 1475.33 2315.32 1479.94 Q2312.26 1484.52 2306.45 1484.52 Q2300.64 1484.52 2297.56 1479.94 Q2294.51 1475.33 2294.51 1466.61 Q2294.51 1457.86 2297.56 1453.27 Q2300.64 1448.67 2306.45 1448.67 Z\" fill=\"#000000\" fill-rule=\"evenodd\" fill-opacity=\"1\" /><path clip-path=\"url(#clip630)\" d=\"M2336.62 1452.37 Q2333 1452.37 2331.18 1455.94 Q2329.37 1459.48 2329.37 1466.61 Q2329.37 1473.71 2331.18 1477.28 Q2333 1480.82 2336.62 1480.82 Q2340.25 1480.82 2342.05 1477.28 Q2343.88 1473.71 2343.88 1466.61 Q2343.88 1459.48 2342.05 1455.94 Q2340.25 1452.37 2336.62 1452.37 M2336.62 1448.67 Q2342.43 1448.67 2345.48 1453.27 Q2348.56 1457.86 2348.56 1466.61 Q2348.56 1475.33 2345.48 1479.94 Q2342.43 1484.52 2336.62 1484.52 Q2330.81 1484.52 2327.73 1479.94 Q2324.67 1475.33 2324.67 1466.61 Q2324.67 1457.86 2327.73 1453.27 Q2330.81 1448.67 2336.62 1448.67 Z\" fill=\"#000000\" fill-rule=\"evenodd\" fill-opacity=\"1\" /><path clip-path=\"url(#clip630)\" d=\"M1136.37 1545.35 L1136.37 1562.76 L1146.69 1562.76 Q1151.87 1562.76 1154.36 1560.63 Q1156.87 1558.46 1156.87 1554.04 Q1156.87 1549.58 1154.36 1547.48 Q1151.87 1545.35 1146.69 1545.35 L1136.37 1545.35 M1136.37 1525.81 L1136.37 1540.13 L1145.89 1540.13 Q1150.6 1540.13 1152.89 1538.38 Q1155.22 1536.6 1155.22 1532.97 Q1155.22 1529.37 1152.89 1527.59 Q1150.6 1525.81 1145.89 1525.81 L1136.37 1525.81 M1129.94 1520.52 L1146.37 1520.52 Q1153.72 1520.52 1157.7 1523.58 Q1161.68 1526.63 1161.68 1532.27 Q1161.68 1536.63 1159.64 1539.21 Q1157.6 1541.79 1153.66 1542.42 Q1158.4 1543.44 1161.01 1546.69 Q1163.65 1549.9 1163.65 1554.74 Q1163.65 1561.11 1159.32 1564.57 Q1154.99 1568.04 1147 1568.04 L1129.94 1568.04 L1129.94 1520.52 Z\" fill=\"#000000\" fill-rule=\"evenodd\" fill-opacity=\"1\" /><path clip-path=\"url(#clip630)\" d=\"M1174.41 1518.52 L1180.27 1518.52 L1180.27 1568.04 L1174.41 1568.04 L1174.41 1518.52 Z\" fill=\"#000000\" fill-rule=\"evenodd\" fill-opacity=\"1\" /><path clip-path=\"url(#clip630)\" d=\"M1206.33 1536.5 Q1201.62 1536.5 1198.89 1540.19 Q1196.15 1543.85 1196.15 1550.25 Q1196.15 1556.65 1198.85 1560.34 Q1201.59 1564 1206.33 1564 Q1211.01 1564 1213.75 1560.31 Q1216.49 1556.62 1216.49 1550.25 Q1216.49 1543.92 1213.75 1540.23 Q1211.01 1536.5 1206.33 1536.5 M1206.33 1531.54 Q1213.97 1531.54 1218.33 1536.5 Q1222.69 1541.47 1222.69 1550.25 Q1222.69 1559 1218.33 1564 Q1213.97 1568.97 1206.33 1568.97 Q1198.66 1568.97 1194.3 1564 Q1189.97 1559 1189.97 1550.25 Q1189.97 1541.47 1194.3 1536.5 Q1198.66 1531.54 1206.33 1531.54 Z\" fill=\"#000000\" fill-rule=\"evenodd\" fill-opacity=\"1\" /><path clip-path=\"url(#clip630)\" d=\"M1258.05 1533.76 L1258.05 1539.24 Q1255.57 1537.87 1253.06 1537.2 Q1250.57 1536.5 1248.03 1536.5 Q1242.33 1536.5 1239.18 1540.13 Q1236.03 1543.73 1236.03 1550.25 Q1236.03 1556.78 1239.18 1560.4 Q1242.33 1564 1248.03 1564 Q1250.57 1564 1253.06 1563.33 Q1255.57 1562.63 1258.05 1561.26 L1258.05 1566.68 Q1255.6 1567.82 1252.96 1568.39 Q1250.35 1568.97 1247.39 1568.97 Q1239.34 1568.97 1234.6 1563.91 Q1229.85 1558.85 1229.85 1550.25 Q1229.85 1541.53 1234.63 1536.53 Q1239.43 1531.54 1247.77 1531.54 Q1250.48 1531.54 1253.06 1532.11 Q1255.64 1532.65 1258.05 1533.76 Z\" fill=\"#000000\" fill-rule=\"evenodd\" fill-opacity=\"1\" /><path clip-path=\"url(#clip630)\" d=\"M1268.02 1518.52 L1273.91 1518.52 L1273.91 1547.77 L1291.38 1532.4 L1298.86 1532.4 L1279.95 1549.07 L1299.65 1568.04 L1292.02 1568.04 L1273.91 1550.63 L1273.91 1568.04 L1268.02 1568.04 L1268.02 1518.52 Z\" fill=\"#000000\" fill-rule=\"evenodd\" fill-opacity=\"1\" /><path clip-path=\"url(#clip630)\" d=\"M1349.43 1533.45 L1349.43 1538.98 Q1346.95 1537.71 1344.28 1537.07 Q1341.6 1536.44 1338.74 1536.44 Q1334.38 1536.44 1332.18 1537.77 Q1330.02 1539.11 1330.02 1541.79 Q1330.02 1543.82 1331.58 1545 Q1333.14 1546.15 1337.85 1547.2 L1339.85 1547.64 Q1346.09 1548.98 1348.7 1551.43 Q1351.34 1553.85 1351.34 1558.21 Q1351.34 1563.17 1347.4 1566.07 Q1343.48 1568.97 1336.61 1568.97 Q1333.74 1568.97 1330.62 1568.39 Q1327.54 1567.85 1324.1 1566.74 L1324.1 1560.69 Q1327.35 1562.38 1330.5 1563.24 Q1333.65 1564.07 1336.73 1564.07 Q1340.87 1564.07 1343.1 1562.66 Q1345.33 1561.23 1345.33 1558.65 Q1345.33 1556.27 1343.71 1554.99 Q1342.11 1553.72 1336.67 1552.54 L1334.63 1552.07 Q1329.19 1550.92 1326.77 1548.56 Q1324.35 1546.18 1324.35 1542.04 Q1324.35 1537.01 1327.92 1534.27 Q1331.48 1531.54 1338.04 1531.54 Q1341.29 1531.54 1344.15 1532.01 Q1347.02 1532.49 1349.43 1533.45 Z\" fill=\"#000000\" fill-rule=\"evenodd\" fill-opacity=\"1\" /><path clip-path=\"url(#clip630)\" d=\"M1360.67 1532.4 L1366.53 1532.4 L1366.53 1568.04 L1360.67 1568.04 L1360.67 1532.4 M1360.67 1518.52 L1366.53 1518.52 L1366.53 1525.93 L1360.67 1525.93 L1360.67 1518.52 Z\" fill=\"#000000\" fill-rule=\"evenodd\" fill-opacity=\"1\" /><path clip-path=\"url(#clip630)\" d=\"M1376.23 1532.4 L1404.05 1532.4 L1404.05 1537.74 L1382.03 1563.37 L1404.05 1563.37 L1404.05 1568.04 L1375.44 1568.04 L1375.44 1562.7 L1397.46 1537.07 L1376.23 1537.07 L1376.23 1532.4 Z\" fill=\"#000000\" fill-rule=\"evenodd\" fill-opacity=\"1\" /><path clip-path=\"url(#clip630)\" d=\"M1443.49 1548.76 L1443.49 1551.62 L1416.56 1551.62 Q1416.94 1557.67 1420.19 1560.85 Q1423.47 1564 1429.29 1564 Q1432.67 1564 1435.82 1563.17 Q1439 1562.35 1442.12 1560.69 L1442.12 1566.23 Q1438.97 1567.57 1435.66 1568.27 Q1432.35 1568.97 1428.94 1568.97 Q1420.41 1568.97 1415.41 1564 Q1410.45 1559.04 1410.45 1550.57 Q1410.45 1541.82 1415.16 1536.69 Q1419.9 1531.54 1427.92 1531.54 Q1435.12 1531.54 1439.29 1536.18 Q1443.49 1540.8 1443.49 1548.76 M1437.63 1547.04 Q1437.57 1542.23 1434.93 1539.37 Q1432.32 1536.5 1427.99 1536.5 Q1423.09 1536.5 1420.13 1539.27 Q1417.2 1542.04 1416.75 1547.07 L1437.63 1547.04 Z\" fill=\"#000000\" fill-rule=\"evenodd\" fill-opacity=\"1\" /><polyline clip-path=\"url(#clip632)\" style=\"stroke:#000000; stroke-linecap:butt; stroke-linejoin:round; stroke-width:2; stroke-opacity:0.1; fill:none\" points=\"\n",
       "  220.676,1128.82 2352.76,1128.82 \n",
       "  \"/>\n",
       "<polyline clip-path=\"url(#clip632)\" style=\"stroke:#000000; stroke-linecap:butt; stroke-linejoin:round; stroke-width:2; stroke-opacity:0.1; fill:none\" points=\"\n",
       "  220.676,820.567 2352.76,820.567 \n",
       "  \"/>\n",
       "<polyline clip-path=\"url(#clip632)\" style=\"stroke:#000000; stroke-linecap:butt; stroke-linejoin:round; stroke-width:2; stroke-opacity:0.1; fill:none\" points=\"\n",
       "  220.676,512.318 2352.76,512.318 \n",
       "  \"/>\n",
       "<polyline clip-path=\"url(#clip632)\" style=\"stroke:#000000; stroke-linecap:butt; stroke-linejoin:round; stroke-width:2; stroke-opacity:0.1; fill:none\" points=\"\n",
       "  220.676,204.068 2352.76,204.068 \n",
       "  \"/>\n",
       "<polyline clip-path=\"url(#clip630)\" style=\"stroke:#000000; stroke-linecap:butt; stroke-linejoin:round; stroke-width:4; stroke-opacity:1; fill:none\" points=\"\n",
       "  220.676,1423.18 220.676,47.2441 \n",
       "  \"/>\n",
       "<polyline clip-path=\"url(#clip630)\" style=\"stroke:#000000; stroke-linecap:butt; stroke-linejoin:round; stroke-width:4; stroke-opacity:1; fill:none\" points=\"\n",
       "  220.676,1128.82 239.574,1128.82 \n",
       "  \"/>\n",
       "<polyline clip-path=\"url(#clip630)\" style=\"stroke:#000000; stroke-linecap:butt; stroke-linejoin:round; stroke-width:4; stroke-opacity:1; fill:none\" points=\"\n",
       "  220.676,820.567 239.574,820.567 \n",
       "  \"/>\n",
       "<polyline clip-path=\"url(#clip630)\" style=\"stroke:#000000; stroke-linecap:butt; stroke-linejoin:round; stroke-width:4; stroke-opacity:1; fill:none\" points=\"\n",
       "  220.676,512.318 239.574,512.318 \n",
       "  \"/>\n",
       "<polyline clip-path=\"url(#clip630)\" style=\"stroke:#000000; stroke-linecap:butt; stroke-linejoin:round; stroke-width:4; stroke-opacity:1; fill:none\" points=\"\n",
       "  220.676,204.068 239.574,204.068 \n",
       "  \"/>\n",
       "<path clip-path=\"url(#clip630)\" d=\"M129.862 1115.61 L118.056 1134.06 L129.862 1134.06 L129.862 1115.61 M128.635 1111.54 L134.515 1111.54 L134.515 1134.06 L139.445 1134.06 L139.445 1137.95 L134.515 1137.95 L134.515 1146.1 L129.862 1146.1 L129.862 1137.95 L114.26 1137.95 L114.26 1133.43 L128.635 1111.54 Z\" fill=\"#000000\" fill-rule=\"evenodd\" fill-opacity=\"1\" /><path clip-path=\"url(#clip630)\" d=\"M147.177 1140.22 L152.061 1140.22 L152.061 1146.1 L147.177 1146.1 L147.177 1140.22 Z\" fill=\"#000000\" fill-rule=\"evenodd\" fill-opacity=\"1\" /><path clip-path=\"url(#clip630)\" d=\"M175.093 1115.61 L163.288 1134.06 L175.093 1134.06 L175.093 1115.61 M173.866 1111.54 L179.746 1111.54 L179.746 1134.06 L184.676 1134.06 L184.676 1137.95 L179.746 1137.95 L179.746 1146.1 L175.093 1146.1 L175.093 1137.95 L159.491 1137.95 L159.491 1133.43 L173.866 1111.54 Z\" fill=\"#000000\" fill-rule=\"evenodd\" fill-opacity=\"1\" /><path clip-path=\"url(#clip630)\" d=\"M131.343 807.361 L119.538 825.81 L131.343 825.81 L131.343 807.361 M130.117 803.287 L135.996 803.287 L135.996 825.81 L140.927 825.81 L140.927 829.699 L135.996 829.699 L135.996 837.847 L131.343 837.847 L131.343 829.699 L115.742 829.699 L115.742 825.185 L130.117 803.287 Z\" fill=\"#000000\" fill-rule=\"evenodd\" fill-opacity=\"1\" /><path clip-path=\"url(#clip630)\" d=\"M148.658 831.968 L153.542 831.968 L153.542 837.847 L148.658 837.847 L148.658 831.968 Z\" fill=\"#000000\" fill-rule=\"evenodd\" fill-opacity=\"1\" /><path clip-path=\"url(#clip630)\" d=\"M163.774 803.287 L182.13 803.287 L182.13 807.223 L168.056 807.223 L168.056 815.695 Q169.075 815.347 170.093 815.185 Q171.112 815 172.13 815 Q177.917 815 181.297 818.172 Q184.676 821.343 184.676 826.759 Q184.676 832.338 181.204 835.44 Q177.732 838.519 171.413 838.519 Q169.237 838.519 166.968 838.148 Q164.723 837.778 162.315 837.037 L162.315 832.338 Q164.399 833.472 166.621 834.028 Q168.843 834.583 171.32 834.583 Q175.325 834.583 177.663 832.477 Q180.001 830.371 180.001 826.759 Q180.001 823.148 177.663 821.042 Q175.325 818.935 171.32 818.935 Q169.445 818.935 167.57 819.352 Q165.718 819.769 163.774 820.648 L163.774 803.287 Z\" fill=\"#000000\" fill-rule=\"evenodd\" fill-opacity=\"1\" /><path clip-path=\"url(#clip630)\" d=\"M130.186 499.112 L118.381 517.561 L130.186 517.561 L130.186 499.112 M128.959 495.038 L134.839 495.038 L134.839 517.561 L139.769 517.561 L139.769 521.45 L134.839 521.45 L134.839 529.598 L130.186 529.598 L130.186 521.45 L114.584 521.45 L114.584 516.936 L128.959 495.038 Z\" fill=\"#000000\" fill-rule=\"evenodd\" fill-opacity=\"1\" /><path clip-path=\"url(#clip630)\" d=\"M147.501 523.718 L152.385 523.718 L152.385 529.598 L147.501 529.598 L147.501 523.718 Z\" fill=\"#000000\" fill-rule=\"evenodd\" fill-opacity=\"1\" /><path clip-path=\"url(#clip630)\" d=\"M173.149 510.454 Q170.001 510.454 168.149 512.607 Q166.32 514.76 166.32 518.51 Q166.32 522.237 168.149 524.413 Q170.001 526.566 173.149 526.566 Q176.297 526.566 178.126 524.413 Q179.977 522.237 179.977 518.51 Q179.977 514.76 178.126 512.607 Q176.297 510.454 173.149 510.454 M182.431 495.802 L182.431 500.061 Q180.672 499.228 178.866 498.788 Q177.084 498.348 175.325 498.348 Q170.695 498.348 168.241 501.473 Q165.811 504.598 165.464 510.917 Q166.829 508.904 168.889 507.839 Q170.95 506.751 173.427 506.751 Q178.635 506.751 181.644 509.922 Q184.676 513.07 184.676 518.51 Q184.676 523.834 181.528 527.052 Q178.38 530.269 173.149 530.269 Q167.153 530.269 163.982 525.686 Q160.811 521.079 160.811 512.353 Q160.811 504.158 164.7 499.297 Q168.589 494.413 175.139 494.413 Q176.899 494.413 178.681 494.76 Q180.487 495.107 182.431 495.802 Z\" fill=\"#000000\" fill-rule=\"evenodd\" fill-opacity=\"1\" /><path clip-path=\"url(#clip630)\" d=\"M131.251 190.862 L119.445 209.311 L131.251 209.311 L131.251 190.862 M130.024 186.788 L135.904 186.788 L135.904 209.311 L140.834 209.311 L140.834 213.2 L135.904 213.2 L135.904 221.348 L131.251 221.348 L131.251 213.2 L115.649 213.2 L115.649 208.686 L130.024 186.788 Z\" fill=\"#000000\" fill-rule=\"evenodd\" fill-opacity=\"1\" /><path clip-path=\"url(#clip630)\" d=\"M148.566 215.469 L153.45 215.469 L153.45 221.348 L148.566 221.348 L148.566 215.469 Z\" fill=\"#000000\" fill-rule=\"evenodd\" fill-opacity=\"1\" /><path clip-path=\"url(#clip630)\" d=\"M162.454 186.788 L184.676 186.788 L184.676 188.779 L172.13 221.348 L167.246 221.348 L179.051 190.724 L162.454 190.724 L162.454 186.788 Z\" fill=\"#000000\" fill-rule=\"evenodd\" fill-opacity=\"1\" /><path clip-path=\"url(#clip630)\" d=\"M41.7242 895.58 Q42.4244 893.511 44.7161 891.57 Q47.0077 889.596 51.0181 887.623 L64.0042 881.098 L64.0042 888.005 L51.8138 894.084 Q47.0395 896.439 45.48 898.667 Q43.9204 900.864 43.9204 904.683 L43.9204 911.685 L64.0042 911.685 L64.0042 918.115 L16.4842 918.115 L16.4842 903.601 Q16.4842 895.453 19.8898 891.442 Q23.2955 887.432 30.1704 887.432 Q34.6582 887.432 37.6183 889.533 Q40.5784 891.601 41.7242 895.58 M21.7677 911.685 L38.6368 911.685 L38.6368 903.601 Q38.6368 898.954 36.5043 896.599 Q34.34 894.211 30.1704 894.211 Q26.0009 894.211 23.9002 896.599 Q21.7677 898.954 21.7677 903.601 L21.7677 911.685 Z\" fill=\"#000000\" fill-rule=\"evenodd\" fill-opacity=\"1\" /><path clip-path=\"url(#clip630)\" d=\"M49.9359 876.61 L28.3562 876.61 L28.3562 870.754 L49.7131 870.754 Q54.7739 870.754 57.3202 868.78 Q59.8346 866.807 59.8346 862.86 Q59.8346 858.118 56.8109 855.381 Q53.7872 852.612 48.5673 852.612 L28.3562 852.612 L28.3562 846.755 L64.0042 846.755 L64.0042 852.612 L58.5296 852.612 Q61.7762 854.744 63.3676 857.577 Q64.9272 860.378 64.9272 864.102 Q64.9272 870.245 61.1078 873.427 Q57.2883 876.61 49.9359 876.61 M27.4968 861.874 L27.4968 861.874 Z\" fill=\"#000000\" fill-rule=\"evenodd\" fill-opacity=\"1\" /><path clip-path=\"url(#clip630)\" d=\"M42.4881 805.06 L64.0042 805.06 L64.0042 810.916 L42.679 810.916 Q37.6183 810.916 35.1038 812.89 Q32.5894 814.863 32.5894 818.81 Q32.5894 823.552 35.6131 826.289 Q38.6368 829.027 43.8567 829.027 L64.0042 829.027 L64.0042 834.915 L28.3562 834.915 L28.3562 829.027 L33.8944 829.027 Q30.6797 826.926 29.0883 824.093 Q27.4968 821.229 27.4968 817.505 Q27.4968 811.362 31.3163 808.211 Q35.1038 805.06 42.4881 805.06 Z\" fill=\"#000000\" fill-rule=\"evenodd\" fill-opacity=\"1\" /><path clip-path=\"url(#clip630)\" d=\"M18.2347 787.586 L28.3562 787.586 L28.3562 775.523 L32.9077 775.523 L32.9077 787.586 L52.2594 787.586 Q56.6199 787.586 57.8613 786.408 Q59.1026 785.199 59.1026 781.538 L59.1026 775.523 L64.0042 775.523 L64.0042 781.538 Q64.0042 788.318 61.4897 790.896 Q58.9434 793.474 52.2594 793.474 L32.9077 793.474 L32.9077 797.771 L28.3562 797.771 L28.3562 793.474 L18.2347 793.474 L18.2347 787.586 Z\" fill=\"#000000\" fill-rule=\"evenodd\" fill-opacity=\"1\" /><path clip-path=\"url(#clip630)\" d=\"M28.3562 767.82 L28.3562 761.964 L64.0042 761.964 L64.0042 767.82 L28.3562 767.82 M14.479 767.82 L14.479 761.964 L21.895 761.964 L21.895 767.82 L14.479 767.82 Z\" fill=\"#000000\" fill-rule=\"evenodd\" fill-opacity=\"1\" /><path clip-path=\"url(#clip630)\" d=\"M35.1993 721.955 Q31.2526 719.759 29.3747 716.704 Q27.4968 713.648 27.4968 709.51 Q27.4968 703.94 31.4117 700.917 Q35.2948 697.893 42.4881 697.893 L64.0042 697.893 L64.0042 703.781 L42.679 703.781 Q37.5546 703.781 35.072 705.596 Q32.5894 707.41 32.5894 711.134 Q32.5894 715.685 35.6131 718.327 Q38.6368 720.969 43.8567 720.969 L64.0042 720.969 L64.0042 726.857 L42.679 726.857 Q37.5228 726.857 35.072 728.671 Q32.5894 730.485 32.5894 734.273 Q32.5894 738.761 35.6449 741.403 Q38.6686 744.044 43.8567 744.044 L64.0042 744.044 L64.0042 749.933 L28.3562 749.933 L28.3562 744.044 L33.8944 744.044 Q30.616 742.039 29.0564 739.238 Q27.4968 736.437 27.4968 732.586 Q27.4968 728.703 29.4702 725.998 Q31.4436 723.26 35.1993 721.955 Z\" fill=\"#000000\" fill-rule=\"evenodd\" fill-opacity=\"1\" /><path clip-path=\"url(#clip630)\" d=\"M44.7161 655.72 L47.5806 655.72 L47.5806 682.647 Q53.6281 682.265 56.8109 679.019 Q59.9619 675.74 59.9619 669.916 Q59.9619 666.542 59.1344 663.391 Q58.3069 660.208 56.6518 657.089 L62.1899 657.089 Q63.5267 660.24 64.227 663.55 Q64.9272 666.86 64.9272 670.266 Q64.9272 678.796 59.9619 683.793 Q54.9967 688.758 46.5303 688.758 Q37.7774 688.758 32.6531 684.048 Q27.4968 679.305 27.4968 671.284 Q27.4968 664.091 32.1438 659.922 Q36.7589 655.72 44.7161 655.72 M42.9973 661.577 Q38.1912 661.64 35.3266 664.282 Q32.4621 666.892 32.4621 671.221 Q32.4621 676.122 35.2312 679.082 Q38.0002 682.011 43.0292 682.456 L42.9973 661.577 Z\" fill=\"#000000\" fill-rule=\"evenodd\" fill-opacity=\"1\" /><path clip-path=\"url(#clip630)\" d=\"M14.5426 611.319 Q21.8632 615.584 29.0246 617.653 Q36.186 619.722 43.5384 619.722 Q50.8908 619.722 58.1159 617.653 Q65.3091 615.553 72.5979 611.319 L72.5979 616.412 Q65.1182 621.186 57.8931 623.573 Q50.668 625.929 43.5384 625.929 Q36.4406 625.929 29.2474 623.573 Q22.0542 621.218 14.5426 616.412 L14.5426 611.319 Z\" fill=\"#000000\" fill-rule=\"evenodd\" fill-opacity=\"1\" /><path clip-path=\"url(#clip630)\" d=\"M29.4065 577.231 L34.9447 577.231 Q33.6716 579.714 33.035 582.387 Q32.3984 585.061 32.3984 587.925 Q32.3984 592.286 33.7352 594.482 Q35.072 596.646 37.7456 596.646 Q39.7826 596.646 40.9603 595.087 Q42.1061 593.527 43.1565 588.817 L43.6021 586.811 Q44.9389 580.573 47.3897 577.963 Q49.8086 575.321 54.1691 575.321 Q59.1344 575.321 62.0308 579.268 Q64.9272 583.183 64.9272 590.058 Q64.9272 592.923 64.3543 596.042 Q63.8132 599.129 62.6992 602.567 L56.6518 602.567 Q58.3387 599.32 59.198 596.169 Q60.0256 593.018 60.0256 589.931 Q60.0256 585.793 58.6251 583.565 Q57.1929 581.337 54.6147 581.337 Q52.2276 581.337 50.9545 582.96 Q49.6813 584.552 48.5037 589.994 L48.0262 592.031 Q46.8804 597.474 44.5251 599.893 Q42.138 602.312 38.0002 602.312 Q32.9713 602.312 30.2341 598.747 Q27.4968 595.182 27.4968 588.626 Q27.4968 585.379 27.9743 582.515 Q28.4517 579.65 29.4065 577.231 Z\" fill=\"#000000\" fill-rule=\"evenodd\" fill-opacity=\"1\" /><path clip-path=\"url(#clip630)\" d=\"M14.5426 566.919 L14.5426 561.826 Q22.0542 557.052 29.2474 554.696 Q36.4406 552.309 43.5384 552.309 Q50.668 552.309 57.8931 554.696 Q65.1182 557.052 72.5979 561.826 L72.5979 566.919 Q65.3091 562.685 58.1159 560.617 Q50.8908 558.516 43.5384 558.516 Q36.186 558.516 29.0246 560.617 Q21.8632 562.685 14.5426 566.919 Z\" fill=\"#000000\" fill-rule=\"evenodd\" fill-opacity=\"1\" /><polyline clip-path=\"url(#clip632)\" style=\"stroke:#009af9; stroke-linecap:butt; stroke-linejoin:round; stroke-width:4; stroke-opacity:1; fill:none\" points=\"\n",
       "  281.018,1384.24 727.995,734.34 1174.97,894.857 1398.46,1101.37 2292.41,86.1857 \n",
       "  \"/>\n",
       "</svg>\n"
      ]
     },
     "execution_count": 78,
     "metadata": {},
     "output_type": "execute_result"
    }
   ],
   "source": [
    "plot(bsizes_list, runtimes_bsizes; xlabel= \"Block size\", ylabel = \"Runtime (s)\", legend = false)"
   ]
  },
  {
   "cell_type": "code",
   "execution_count": 79,
   "id": "a1603a93-9c33-45ed-a68a-47014567292f",
   "metadata": {},
   "outputs": [
    {
     "data": {
      "image/svg+xml": [
       "<?xml version=\"1.0\" encoding=\"utf-8\"?>\n",
       "<svg xmlns=\"http://www.w3.org/2000/svg\" xmlns:xlink=\"http://www.w3.org/1999/xlink\" width=\"600\" height=\"400\" viewBox=\"0 0 2400 1600\">\n",
       "<defs>\n",
       "  <clipPath id=\"clip670\">\n",
       "    <rect x=\"0\" y=\"0\" width=\"2400\" height=\"1600\"/>\n",
       "  </clipPath>\n",
       "</defs>\n",
       "<path clip-path=\"url(#clip670)\" d=\"\n",
       "M0 1600 L2400 1600 L2400 0 L0 0  Z\n",
       "  \" fill=\"#ffffff\" fill-rule=\"evenodd\" fill-opacity=\"1\"/>\n",
       "<defs>\n",
       "  <clipPath id=\"clip671\">\n",
       "    <rect x=\"480\" y=\"0\" width=\"1681\" height=\"1600\"/>\n",
       "  </clipPath>\n",
       "</defs>\n",
       "<path clip-path=\"url(#clip670)\" d=\"\n",
       "M250.352 1423.18 L2352.76 1423.18 L2352.76 47.2441 L250.352 47.2441  Z\n",
       "  \" fill=\"#ffffff\" fill-rule=\"evenodd\" fill-opacity=\"1\"/>\n",
       "<defs>\n",
       "  <clipPath id=\"clip672\">\n",
       "    <rect x=\"250\" y=\"47\" width=\"2103\" height=\"1377\"/>\n",
       "  </clipPath>\n",
       "</defs>\n",
       "<polyline clip-path=\"url(#clip672)\" style=\"stroke:#000000; stroke-linecap:butt; stroke-linejoin:round; stroke-width:2; stroke-opacity:0.1; fill:none\" points=\"\n",
       "  530.232,1423.18 530.232,47.2441 \n",
       "  \"/>\n",
       "<polyline clip-path=\"url(#clip672)\" style=\"stroke:#000000; stroke-linecap:butt; stroke-linejoin:round; stroke-width:2; stroke-opacity:0.1; fill:none\" points=\"\n",
       "  970.987,1423.18 970.987,47.2441 \n",
       "  \"/>\n",
       "<polyline clip-path=\"url(#clip672)\" style=\"stroke:#000000; stroke-linecap:butt; stroke-linejoin:round; stroke-width:2; stroke-opacity:0.1; fill:none\" points=\"\n",
       "  1411.74,1423.18 1411.74,47.2441 \n",
       "  \"/>\n",
       "<polyline clip-path=\"url(#clip672)\" style=\"stroke:#000000; stroke-linecap:butt; stroke-linejoin:round; stroke-width:2; stroke-opacity:0.1; fill:none\" points=\"\n",
       "  1852.5,1423.18 1852.5,47.2441 \n",
       "  \"/>\n",
       "<polyline clip-path=\"url(#clip672)\" style=\"stroke:#000000; stroke-linecap:butt; stroke-linejoin:round; stroke-width:2; stroke-opacity:0.1; fill:none\" points=\"\n",
       "  2293.25,1423.18 2293.25,47.2441 \n",
       "  \"/>\n",
       "<polyline clip-path=\"url(#clip670)\" style=\"stroke:#000000; stroke-linecap:butt; stroke-linejoin:round; stroke-width:4; stroke-opacity:1; fill:none\" points=\"\n",
       "  250.352,1423.18 2352.76,1423.18 \n",
       "  \"/>\n",
       "<polyline clip-path=\"url(#clip670)\" style=\"stroke:#000000; stroke-linecap:butt; stroke-linejoin:round; stroke-width:4; stroke-opacity:1; fill:none\" points=\"\n",
       "  530.232,1423.18 530.232,1404.28 \n",
       "  \"/>\n",
       "<polyline clip-path=\"url(#clip670)\" style=\"stroke:#000000; stroke-linecap:butt; stroke-linejoin:round; stroke-width:4; stroke-opacity:1; fill:none\" points=\"\n",
       "  970.987,1423.18 970.987,1404.28 \n",
       "  \"/>\n",
       "<polyline clip-path=\"url(#clip670)\" style=\"stroke:#000000; stroke-linecap:butt; stroke-linejoin:round; stroke-width:4; stroke-opacity:1; fill:none\" points=\"\n",
       "  1411.74,1423.18 1411.74,1404.28 \n",
       "  \"/>\n",
       "<polyline clip-path=\"url(#clip670)\" style=\"stroke:#000000; stroke-linecap:butt; stroke-linejoin:round; stroke-width:4; stroke-opacity:1; fill:none\" points=\"\n",
       "  1852.5,1423.18 1852.5,1404.28 \n",
       "  \"/>\n",
       "<polyline clip-path=\"url(#clip670)\" style=\"stroke:#000000; stroke-linecap:butt; stroke-linejoin:round; stroke-width:4; stroke-opacity:1; fill:none\" points=\"\n",
       "  2293.25,1423.18 2293.25,1404.28 \n",
       "  \"/>\n",
       "<path clip-path=\"url(#clip670)\" d=\"M509.005 1479.92 L525.325 1479.92 L525.325 1483.85 L503.38 1483.85 L503.38 1479.92 Q506.042 1477.16 510.626 1472.53 Q515.232 1467.88 516.413 1466.54 Q518.658 1464.01 519.538 1462.28 Q520.44 1460.52 520.44 1458.83 Q520.44 1456.07 518.496 1454.34 Q516.575 1452.6 513.473 1452.6 Q511.274 1452.6 508.82 1453.37 Q506.389 1454.13 503.612 1455.68 L503.612 1450.96 Q506.436 1449.82 508.889 1449.25 Q511.343 1448.67 513.38 1448.67 Q518.751 1448.67 521.945 1451.35 Q525.139 1454.04 525.139 1458.53 Q525.139 1460.66 524.329 1462.58 Q523.542 1464.48 521.436 1467.07 Q520.857 1467.74 517.755 1470.96 Q514.653 1474.15 509.005 1479.92 Z\" fill=\"#000000\" fill-rule=\"evenodd\" fill-opacity=\"1\" /><path clip-path=\"url(#clip670)\" d=\"M545.139 1452.37 Q541.528 1452.37 539.699 1455.94 Q537.894 1459.48 537.894 1466.61 Q537.894 1473.71 539.699 1477.28 Q541.528 1480.82 545.139 1480.82 Q548.774 1480.82 550.579 1477.28 Q552.408 1473.71 552.408 1466.61 Q552.408 1459.48 550.579 1455.94 Q548.774 1452.37 545.139 1452.37 M545.139 1448.67 Q550.949 1448.67 554.005 1453.27 Q557.084 1457.86 557.084 1466.61 Q557.084 1475.33 554.005 1479.94 Q550.949 1484.52 545.139 1484.52 Q539.329 1484.52 536.25 1479.94 Q533.195 1475.33 533.195 1466.61 Q533.195 1457.86 536.25 1453.27 Q539.329 1448.67 545.139 1448.67 Z\" fill=\"#000000\" fill-rule=\"evenodd\" fill-opacity=\"1\" /><path clip-path=\"url(#clip670)\" d=\"M959.159 1453.37 L947.353 1471.81 L959.159 1471.81 L959.159 1453.37 M957.932 1449.29 L963.812 1449.29 L963.812 1471.81 L968.742 1471.81 L968.742 1475.7 L963.812 1475.7 L963.812 1483.85 L959.159 1483.85 L959.159 1475.7 L943.557 1475.7 L943.557 1471.19 L957.932 1449.29 Z\" fill=\"#000000\" fill-rule=\"evenodd\" fill-opacity=\"1\" /><path clip-path=\"url(#clip670)\" d=\"M986.473 1452.37 Q982.862 1452.37 981.034 1455.94 Q979.228 1459.48 979.228 1466.61 Q979.228 1473.71 981.034 1477.28 Q982.862 1480.82 986.473 1480.82 Q990.108 1480.82 991.913 1477.28 Q993.742 1473.71 993.742 1466.61 Q993.742 1459.48 991.913 1455.94 Q990.108 1452.37 986.473 1452.37 M986.473 1448.67 Q992.284 1448.67 995.339 1453.27 Q998.418 1457.86 998.418 1466.61 Q998.418 1475.33 995.339 1479.94 Q992.284 1484.52 986.473 1484.52 Q980.663 1484.52 977.585 1479.94 Q974.529 1475.33 974.529 1466.61 Q974.529 1457.86 977.585 1453.27 Q980.663 1448.67 986.473 1448.67 Z\" fill=\"#000000\" fill-rule=\"evenodd\" fill-opacity=\"1\" /><path clip-path=\"url(#clip670)\" d=\"M1397.15 1464.71 Q1394 1464.71 1392.15 1466.86 Q1390.32 1469.01 1390.32 1472.76 Q1390.32 1476.49 1392.15 1478.67 Q1394 1480.82 1397.15 1480.82 Q1400.3 1480.82 1402.12 1478.67 Q1403.98 1476.49 1403.98 1472.76 Q1403.98 1469.01 1402.12 1466.86 Q1400.3 1464.71 1397.15 1464.71 M1406.43 1450.06 L1406.43 1454.31 Q1404.67 1453.48 1402.87 1453.04 Q1401.08 1452.6 1399.32 1452.6 Q1394.69 1452.6 1392.24 1455.73 Q1389.81 1458.85 1389.46 1465.17 Q1390.83 1463.16 1392.89 1462.09 Q1394.95 1461 1397.43 1461 Q1402.63 1461 1405.64 1464.18 Q1408.68 1467.32 1408.68 1472.76 Q1408.68 1478.09 1405.53 1481.31 Q1402.38 1484.52 1397.15 1484.52 Q1391.15 1484.52 1387.98 1479.94 Q1384.81 1475.33 1384.81 1466.61 Q1384.81 1458.41 1388.7 1453.55 Q1392.59 1448.67 1399.14 1448.67 Q1400.9 1448.67 1402.68 1449.01 Q1404.49 1449.36 1406.43 1450.06 Z\" fill=\"#000000\" fill-rule=\"evenodd\" fill-opacity=\"1\" /><path clip-path=\"url(#clip670)\" d=\"M1426.73 1452.37 Q1423.12 1452.37 1421.29 1455.94 Q1419.49 1459.48 1419.49 1466.61 Q1419.49 1473.71 1421.29 1477.28 Q1423.12 1480.82 1426.73 1480.82 Q1430.37 1480.82 1432.17 1477.28 Q1434 1473.71 1434 1466.61 Q1434 1459.48 1432.17 1455.94 Q1430.37 1452.37 1426.73 1452.37 M1426.73 1448.67 Q1432.54 1448.67 1435.6 1453.27 Q1438.68 1457.86 1438.68 1466.61 Q1438.68 1475.33 1435.6 1479.94 Q1432.54 1484.52 1426.73 1484.52 Q1420.92 1484.52 1417.84 1479.94 Q1414.79 1475.33 1414.79 1466.61 Q1414.79 1457.86 1417.84 1453.27 Q1420.92 1448.67 1426.73 1448.67 Z\" fill=\"#000000\" fill-rule=\"evenodd\" fill-opacity=\"1\" /><path clip-path=\"url(#clip670)\" d=\"M1837.37 1467.44 Q1834.04 1467.44 1832.12 1469.22 Q1830.22 1471 1830.22 1474.13 Q1830.22 1477.25 1832.12 1479.04 Q1834.04 1480.82 1837.37 1480.82 Q1840.7 1480.82 1842.63 1479.04 Q1844.55 1477.23 1844.55 1474.13 Q1844.55 1471 1842.63 1469.22 Q1840.73 1467.44 1837.37 1467.44 M1832.7 1465.45 Q1829.69 1464.71 1828 1462.65 Q1826.33 1460.59 1826.33 1457.63 Q1826.33 1453.48 1829.27 1451.07 Q1832.23 1448.67 1837.37 1448.67 Q1842.53 1448.67 1845.47 1451.07 Q1848.41 1453.48 1848.41 1457.63 Q1848.41 1460.59 1846.72 1462.65 Q1845.06 1464.71 1842.07 1465.45 Q1845.45 1466.24 1847.32 1468.53 Q1849.22 1470.82 1849.22 1474.13 Q1849.22 1479.15 1846.14 1481.84 Q1843.09 1484.52 1837.37 1484.52 Q1831.65 1484.52 1828.57 1481.84 Q1825.52 1479.15 1825.52 1474.13 Q1825.52 1470.82 1827.42 1468.53 Q1829.32 1466.24 1832.7 1465.45 M1830.98 1458.06 Q1830.98 1460.75 1832.65 1462.25 Q1834.34 1463.76 1837.37 1463.76 Q1840.38 1463.76 1842.07 1462.25 Q1843.78 1460.75 1843.78 1458.06 Q1843.78 1455.38 1842.07 1453.88 Q1840.38 1452.37 1837.37 1452.37 Q1834.34 1452.37 1832.65 1453.88 Q1830.98 1455.38 1830.98 1458.06 Z\" fill=\"#000000\" fill-rule=\"evenodd\" fill-opacity=\"1\" /><path clip-path=\"url(#clip670)\" d=\"M1867.53 1452.37 Q1863.92 1452.37 1862.09 1455.94 Q1860.29 1459.48 1860.29 1466.61 Q1860.29 1473.71 1862.09 1477.28 Q1863.92 1480.82 1867.53 1480.82 Q1871.17 1480.82 1872.97 1477.28 Q1874.8 1473.71 1874.8 1466.61 Q1874.8 1459.48 1872.97 1455.94 Q1871.17 1452.37 1867.53 1452.37 M1867.53 1448.67 Q1873.34 1448.67 1876.4 1453.27 Q1879.48 1457.86 1879.48 1466.61 Q1879.48 1475.33 1876.4 1479.94 Q1873.34 1484.52 1867.53 1484.52 Q1861.72 1484.52 1858.64 1479.94 Q1855.59 1475.33 1855.59 1466.61 Q1855.59 1457.86 1858.64 1453.27 Q1861.72 1448.67 1867.53 1448.67 Z\" fill=\"#000000\" fill-rule=\"evenodd\" fill-opacity=\"1\" /><path clip-path=\"url(#clip670)\" d=\"M2252.86 1479.92 L2260.5 1479.92 L2260.5 1453.55 L2252.19 1455.22 L2252.19 1450.96 L2260.45 1449.29 L2265.13 1449.29 L2265.13 1479.92 L2272.77 1479.92 L2272.77 1483.85 L2252.86 1483.85 L2252.86 1479.92 Z\" fill=\"#000000\" fill-rule=\"evenodd\" fill-opacity=\"1\" /><path clip-path=\"url(#clip670)\" d=\"M2292.21 1452.37 Q2288.6 1452.37 2286.77 1455.94 Q2284.97 1459.48 2284.97 1466.61 Q2284.97 1473.71 2286.77 1477.28 Q2288.6 1480.82 2292.21 1480.82 Q2295.85 1480.82 2297.65 1477.28 Q2299.48 1473.71 2299.48 1466.61 Q2299.48 1459.48 2297.65 1455.94 Q2295.85 1452.37 2292.21 1452.37 M2292.21 1448.67 Q2298.02 1448.67 2301.08 1453.27 Q2304.16 1457.86 2304.16 1466.61 Q2304.16 1475.33 2301.08 1479.94 Q2298.02 1484.52 2292.21 1484.52 Q2286.4 1484.52 2283.32 1479.94 Q2280.27 1475.33 2280.27 1466.61 Q2280.27 1457.86 2283.32 1453.27 Q2286.4 1448.67 2292.21 1448.67 Z\" fill=\"#000000\" fill-rule=\"evenodd\" fill-opacity=\"1\" /><path clip-path=\"url(#clip670)\" d=\"M2322.37 1452.37 Q2318.76 1452.37 2316.93 1455.94 Q2315.13 1459.48 2315.13 1466.61 Q2315.13 1473.71 2316.93 1477.28 Q2318.76 1480.82 2322.37 1480.82 Q2326.01 1480.82 2327.81 1477.28 Q2329.64 1473.71 2329.64 1466.61 Q2329.64 1459.48 2327.81 1455.94 Q2326.01 1452.37 2322.37 1452.37 M2322.37 1448.67 Q2328.18 1448.67 2331.24 1453.27 Q2334.32 1457.86 2334.32 1466.61 Q2334.32 1475.33 2331.24 1479.94 Q2328.18 1484.52 2322.37 1484.52 Q2316.56 1484.52 2313.49 1479.94 Q2310.43 1475.33 2310.43 1466.61 Q2310.43 1457.86 2313.49 1453.27 Q2316.56 1448.67 2322.37 1448.67 Z\" fill=\"#000000\" fill-rule=\"evenodd\" fill-opacity=\"1\" /><path clip-path=\"url(#clip670)\" d=\"M1019.82 1520.52 L1028.48 1520.52 L1049.55 1560.28 L1049.55 1520.52 L1055.79 1520.52 L1055.79 1568.04 L1047.13 1568.04 L1026.06 1528.29 L1026.06 1568.04 L1019.82 1568.04 L1019.82 1520.52 Z\" fill=\"#000000\" fill-rule=\"evenodd\" fill-opacity=\"1\" /><path clip-path=\"url(#clip670)\" d=\"M1067.73 1553.98 L1067.73 1532.4 L1073.58 1532.4 L1073.58 1553.75 Q1073.58 1558.81 1075.56 1561.36 Q1077.53 1563.87 1081.48 1563.87 Q1086.22 1563.87 1088.96 1560.85 Q1091.72 1557.83 1091.72 1552.61 L1091.72 1532.4 L1097.58 1532.4 L1097.58 1568.04 L1091.72 1568.04 L1091.72 1562.57 Q1089.59 1565.82 1086.76 1567.41 Q1083.96 1568.97 1080.23 1568.97 Q1074.09 1568.97 1070.91 1565.15 Q1067.73 1561.33 1067.73 1553.98 M1082.46 1531.54 L1082.46 1531.54 Z\" fill=\"#000000\" fill-rule=\"evenodd\" fill-opacity=\"1\" /><path clip-path=\"url(#clip670)\" d=\"M1137.4 1539.24 Q1139.59 1535.29 1142.65 1533.41 Q1145.71 1531.54 1149.84 1531.54 Q1155.41 1531.54 1158.44 1535.45 Q1161.46 1539.33 1161.46 1546.53 L1161.46 1568.04 L1155.57 1568.04 L1155.57 1546.72 Q1155.57 1541.59 1153.76 1539.11 Q1151.94 1536.63 1148.22 1536.63 Q1143.67 1536.63 1141.03 1539.65 Q1138.39 1542.68 1138.39 1547.9 L1138.39 1568.04 L1132.5 1568.04 L1132.5 1546.72 Q1132.5 1541.56 1130.68 1539.11 Q1128.87 1536.63 1125.08 1536.63 Q1120.59 1536.63 1117.95 1539.68 Q1115.31 1542.71 1115.31 1547.9 L1115.31 1568.04 L1109.42 1568.04 L1109.42 1532.4 L1115.31 1532.4 L1115.31 1537.93 Q1117.31 1534.66 1120.12 1533.1 Q1122.92 1531.54 1126.77 1531.54 Q1130.65 1531.54 1133.36 1533.51 Q1136.09 1535.48 1137.4 1539.24 Z\" fill=\"#000000\" fill-rule=\"evenodd\" fill-opacity=\"1\" /><path clip-path=\"url(#clip670)\" d=\"M1198.73 1550.25 Q1198.73 1543.79 1196.06 1540.13 Q1193.42 1536.44 1188.77 1536.44 Q1184.12 1536.44 1181.45 1540.13 Q1178.81 1543.79 1178.81 1550.25 Q1178.81 1556.71 1181.45 1560.4 Q1184.12 1564.07 1188.77 1564.07 Q1193.42 1564.07 1196.06 1560.4 Q1198.73 1556.71 1198.73 1550.25 M1178.81 1537.81 Q1180.65 1534.62 1183.45 1533.1 Q1186.29 1531.54 1190.2 1531.54 Q1196.69 1531.54 1200.74 1536.69 Q1204.81 1541.85 1204.81 1550.25 Q1204.81 1558.65 1200.74 1563.81 Q1196.69 1568.97 1190.2 1568.97 Q1186.29 1568.97 1183.45 1567.44 Q1180.65 1565.88 1178.81 1562.7 L1178.81 1568.04 L1172.92 1568.04 L1172.92 1518.52 L1178.81 1518.52 L1178.81 1537.81 Z\" fill=\"#000000\" fill-rule=\"evenodd\" fill-opacity=\"1\" /><path clip-path=\"url(#clip670)\" d=\"M1245.01 1548.76 L1245.01 1551.62 L1218.08 1551.62 Q1218.47 1557.67 1221.71 1560.85 Q1224.99 1564 1230.82 1564 Q1234.19 1564 1237.34 1563.17 Q1240.52 1562.35 1243.64 1560.69 L1243.64 1566.23 Q1240.49 1567.57 1237.18 1568.27 Q1233.87 1568.97 1230.47 1568.97 Q1221.93 1568.97 1216.94 1564 Q1211.97 1559.04 1211.97 1550.57 Q1211.97 1541.82 1216.68 1536.69 Q1221.43 1531.54 1229.45 1531.54 Q1236.64 1531.54 1240.81 1536.18 Q1245.01 1540.8 1245.01 1548.76 M1239.15 1547.04 Q1239.09 1542.23 1236.45 1539.37 Q1233.84 1536.5 1229.51 1536.5 Q1224.61 1536.5 1221.65 1539.27 Q1218.72 1542.04 1218.27 1547.07 L1239.15 1547.04 Z\" fill=\"#000000\" fill-rule=\"evenodd\" fill-opacity=\"1\" /><path clip-path=\"url(#clip670)\" d=\"M1275.28 1537.87 Q1274.29 1537.3 1273.12 1537.04 Q1271.97 1536.76 1270.57 1536.76 Q1265.6 1536.76 1262.93 1540 Q1260.29 1543.22 1260.29 1549.27 L1260.29 1568.04 L1254.4 1568.04 L1254.4 1532.4 L1260.29 1532.4 L1260.29 1537.93 Q1262.13 1534.69 1265.09 1533.13 Q1268.05 1531.54 1272.29 1531.54 Q1272.89 1531.54 1273.62 1531.63 Q1274.36 1531.7 1275.25 1531.85 L1275.28 1537.87 Z\" fill=\"#000000\" fill-rule=\"evenodd\" fill-opacity=\"1\" /><path clip-path=\"url(#clip670)\" d=\"M1315.96 1536.5 Q1311.25 1536.5 1308.51 1540.19 Q1305.77 1543.85 1305.77 1550.25 Q1305.77 1556.65 1308.48 1560.34 Q1311.21 1564 1315.96 1564 Q1320.64 1564 1323.37 1560.31 Q1326.11 1556.62 1326.11 1550.25 Q1326.11 1543.92 1323.37 1540.23 Q1320.64 1536.5 1315.96 1536.5 M1315.96 1531.54 Q1323.6 1531.54 1327.96 1536.5 Q1332.32 1541.47 1332.32 1550.25 Q1332.32 1559 1327.96 1564 Q1323.6 1568.97 1315.96 1568.97 Q1308.29 1568.97 1303.93 1564 Q1299.6 1559 1299.6 1550.25 Q1299.6 1541.47 1303.93 1536.5 Q1308.29 1531.54 1315.96 1531.54 Z\" fill=\"#000000\" fill-rule=\"evenodd\" fill-opacity=\"1\" /><path clip-path=\"url(#clip670)\" d=\"M1360.07 1518.52 L1360.07 1523.39 L1354.47 1523.39 Q1351.32 1523.39 1350.08 1524.66 Q1348.87 1525.93 1348.87 1529.24 L1348.87 1532.4 L1358.51 1532.4 L1358.51 1536.95 L1348.87 1536.95 L1348.87 1568.04 L1342.98 1568.04 L1342.98 1536.95 L1337.38 1536.95 L1337.38 1532.4 L1342.98 1532.4 L1342.98 1529.91 Q1342.98 1523.96 1345.75 1521.26 Q1348.52 1518.52 1354.53 1518.52 L1360.07 1518.52 Z\" fill=\"#000000\" fill-rule=\"evenodd\" fill-opacity=\"1\" /><path clip-path=\"url(#clip670)\" d=\"M1411.28 1550.25 Q1411.28 1543.79 1408.61 1540.13 Q1405.97 1536.44 1401.32 1536.44 Q1396.67 1536.44 1394 1540.13 Q1391.36 1543.79 1391.36 1550.25 Q1391.36 1556.71 1394 1560.4 Q1396.67 1564.07 1401.32 1564.07 Q1405.97 1564.07 1408.61 1560.4 Q1411.28 1556.71 1411.28 1550.25 M1391.36 1537.81 Q1393.2 1534.62 1396.01 1533.1 Q1398.84 1531.54 1402.75 1531.54 Q1409.25 1531.54 1413.29 1536.69 Q1417.36 1541.85 1417.36 1550.25 Q1417.36 1558.65 1413.29 1563.81 Q1409.25 1568.97 1402.75 1568.97 Q1398.84 1568.97 1396.01 1567.44 Q1393.2 1565.88 1391.36 1562.7 L1391.36 1568.04 L1385.47 1568.04 L1385.47 1518.52 L1391.36 1518.52 L1391.36 1537.81 Z\" fill=\"#000000\" fill-rule=\"evenodd\" fill-opacity=\"1\" /><path clip-path=\"url(#clip670)\" d=\"M1427.07 1518.52 L1432.93 1518.52 L1432.93 1568.04 L1427.07 1568.04 L1427.07 1518.52 Z\" fill=\"#000000\" fill-rule=\"evenodd\" fill-opacity=\"1\" /><path clip-path=\"url(#clip670)\" d=\"M1458.99 1536.5 Q1454.28 1536.5 1451.55 1540.19 Q1448.81 1543.85 1448.81 1550.25 Q1448.81 1556.65 1451.51 1560.34 Q1454.25 1564 1458.99 1564 Q1463.67 1564 1466.41 1560.31 Q1469.15 1556.62 1469.15 1550.25 Q1469.15 1543.92 1466.41 1540.23 Q1463.67 1536.5 1458.99 1536.5 M1458.99 1531.54 Q1466.63 1531.54 1470.99 1536.5 Q1475.35 1541.47 1475.35 1550.25 Q1475.35 1559 1470.99 1564 Q1466.63 1568.97 1458.99 1568.97 Q1451.32 1568.97 1446.96 1564 Q1442.63 1559 1442.63 1550.25 Q1442.63 1541.47 1446.96 1536.5 Q1451.32 1531.54 1458.99 1531.54 Z\" fill=\"#000000\" fill-rule=\"evenodd\" fill-opacity=\"1\" /><path clip-path=\"url(#clip670)\" d=\"M1510.72 1533.76 L1510.72 1539.24 Q1508.23 1537.87 1505.72 1537.2 Q1503.24 1536.5 1500.69 1536.5 Q1494.99 1536.5 1491.84 1540.13 Q1488.69 1543.73 1488.69 1550.25 Q1488.69 1556.78 1491.84 1560.4 Q1494.99 1564 1500.69 1564 Q1503.24 1564 1505.72 1563.33 Q1508.23 1562.63 1510.72 1561.26 L1510.72 1566.68 Q1508.26 1567.82 1505.62 1568.39 Q1503.01 1568.97 1500.05 1568.97 Q1492 1568.97 1487.26 1563.91 Q1482.52 1558.85 1482.52 1550.25 Q1482.52 1541.53 1487.29 1536.53 Q1492.1 1531.54 1500.43 1531.54 Q1503.14 1531.54 1505.72 1532.11 Q1508.3 1532.65 1510.72 1533.76 Z\" fill=\"#000000\" fill-rule=\"evenodd\" fill-opacity=\"1\" /><path clip-path=\"url(#clip670)\" d=\"M1520.68 1518.52 L1526.57 1518.52 L1526.57 1547.77 L1544.04 1532.4 L1551.52 1532.4 L1532.61 1549.07 L1552.32 1568.04 L1544.68 1568.04 L1526.57 1550.63 L1526.57 1568.04 L1520.68 1568.04 L1520.68 1518.52 Z\" fill=\"#000000\" fill-rule=\"evenodd\" fill-opacity=\"1\" /><path clip-path=\"url(#clip670)\" d=\"M1581.37 1533.45 L1581.37 1538.98 Q1578.89 1537.71 1576.22 1537.07 Q1573.54 1536.44 1570.68 1536.44 Q1566.32 1536.44 1564.12 1537.77 Q1561.96 1539.11 1561.96 1541.79 Q1561.96 1543.82 1563.52 1545 Q1565.08 1546.15 1569.79 1547.2 L1571.79 1547.64 Q1578.03 1548.98 1580.64 1551.43 Q1583.28 1553.85 1583.28 1558.21 Q1583.28 1563.17 1579.34 1566.07 Q1575.42 1568.97 1568.55 1568.97 Q1565.68 1568.97 1562.56 1568.39 Q1559.48 1567.85 1556.04 1566.74 L1556.04 1560.69 Q1559.29 1562.38 1562.44 1563.24 Q1565.59 1564.07 1568.68 1564.07 Q1572.81 1564.07 1575.04 1562.66 Q1577.27 1561.23 1577.27 1558.65 Q1577.27 1556.27 1575.65 1554.99 Q1574.05 1553.72 1568.61 1552.54 L1566.57 1552.07 Q1561.13 1550.92 1558.71 1548.56 Q1556.29 1546.18 1556.29 1542.04 Q1556.29 1537.01 1559.86 1534.27 Q1563.42 1531.54 1569.98 1531.54 Q1573.23 1531.54 1576.09 1532.01 Q1578.96 1532.49 1581.37 1533.45 Z\" fill=\"#000000\" fill-rule=\"evenodd\" fill-opacity=\"1\" /><polyline clip-path=\"url(#clip672)\" style=\"stroke:#000000; stroke-linecap:butt; stroke-linejoin:round; stroke-width:2; stroke-opacity:0.1; fill:none\" points=\"\n",
       "  250.352,1294.82 2352.76,1294.82 \n",
       "  \"/>\n",
       "<polyline clip-path=\"url(#clip672)\" style=\"stroke:#000000; stroke-linecap:butt; stroke-linejoin:round; stroke-width:2; stroke-opacity:0.1; fill:none\" points=\"\n",
       "  250.352,986.194 2352.76,986.194 \n",
       "  \"/>\n",
       "<polyline clip-path=\"url(#clip672)\" style=\"stroke:#000000; stroke-linecap:butt; stroke-linejoin:round; stroke-width:2; stroke-opacity:0.1; fill:none\" points=\"\n",
       "  250.352,677.569 2352.76,677.569 \n",
       "  \"/>\n",
       "<polyline clip-path=\"url(#clip672)\" style=\"stroke:#000000; stroke-linecap:butt; stroke-linejoin:round; stroke-width:2; stroke-opacity:0.1; fill:none\" points=\"\n",
       "  250.352,368.944 2352.76,368.944 \n",
       "  \"/>\n",
       "<polyline clip-path=\"url(#clip672)\" style=\"stroke:#000000; stroke-linecap:butt; stroke-linejoin:round; stroke-width:2; stroke-opacity:0.1; fill:none\" points=\"\n",
       "  250.352,60.319 2352.76,60.319 \n",
       "  \"/>\n",
       "<polyline clip-path=\"url(#clip670)\" style=\"stroke:#000000; stroke-linecap:butt; stroke-linejoin:round; stroke-width:4; stroke-opacity:1; fill:none\" points=\"\n",
       "  250.352,1423.18 250.352,47.2441 \n",
       "  \"/>\n",
       "<polyline clip-path=\"url(#clip670)\" style=\"stroke:#000000; stroke-linecap:butt; stroke-linejoin:round; stroke-width:4; stroke-opacity:1; fill:none\" points=\"\n",
       "  250.352,1294.82 269.25,1294.82 \n",
       "  \"/>\n",
       "<polyline clip-path=\"url(#clip670)\" style=\"stroke:#000000; stroke-linecap:butt; stroke-linejoin:round; stroke-width:4; stroke-opacity:1; fill:none\" points=\"\n",
       "  250.352,986.194 269.25,986.194 \n",
       "  \"/>\n",
       "<polyline clip-path=\"url(#clip670)\" style=\"stroke:#000000; stroke-linecap:butt; stroke-linejoin:round; stroke-width:4; stroke-opacity:1; fill:none\" points=\"\n",
       "  250.352,677.569 269.25,677.569 \n",
       "  \"/>\n",
       "<polyline clip-path=\"url(#clip670)\" style=\"stroke:#000000; stroke-linecap:butt; stroke-linejoin:round; stroke-width:4; stroke-opacity:1; fill:none\" points=\"\n",
       "  250.352,368.944 269.25,368.944 \n",
       "  \"/>\n",
       "<polyline clip-path=\"url(#clip670)\" style=\"stroke:#000000; stroke-linecap:butt; stroke-linejoin:round; stroke-width:4; stroke-opacity:1; fill:none\" points=\"\n",
       "  250.352,60.319 269.25,60.319 \n",
       "  \"/>\n",
       "<path clip-path=\"url(#clip670)\" d=\"M130.857 1281.61 L119.052 1300.06 L130.857 1300.06 L130.857 1281.61 M129.63 1277.54 L135.51 1277.54 L135.51 1300.06 L140.441 1300.06 L140.441 1303.95 L135.51 1303.95 L135.51 1312.1 L130.857 1312.1 L130.857 1303.95 L115.256 1303.95 L115.256 1299.44 L129.63 1277.54 Z\" fill=\"#000000\" fill-rule=\"evenodd\" fill-opacity=\"1\" /><path clip-path=\"url(#clip670)\" d=\"M148.172 1306.22 L153.056 1306.22 L153.056 1312.1 L148.172 1312.1 L148.172 1306.22 Z\" fill=\"#000000\" fill-rule=\"evenodd\" fill-opacity=\"1\" /><path clip-path=\"url(#clip670)\" d=\"M167.269 1308.16 L183.588 1308.16 L183.588 1312.1 L161.644 1312.1 L161.644 1308.16 Q164.306 1305.41 168.889 1300.78 Q173.496 1296.13 174.677 1294.78 Q176.922 1292.26 177.801 1290.52 Q178.704 1288.77 178.704 1287.08 Q178.704 1284.32 176.76 1282.59 Q174.839 1280.85 171.737 1280.85 Q169.538 1280.85 167.084 1281.61 Q164.653 1282.38 161.876 1283.93 L161.876 1279.21 Q164.7 1278.07 167.153 1277.49 Q169.607 1276.91 171.644 1276.91 Q177.014 1276.91 180.209 1279.6 Q183.403 1282.28 183.403 1286.77 Q183.403 1288.9 182.593 1290.83 Q181.806 1292.72 179.7 1295.32 Q179.121 1295.99 176.019 1299.21 Q172.917 1302.4 167.269 1308.16 Z\" fill=\"#000000\" fill-rule=\"evenodd\" fill-opacity=\"1\" /><path clip-path=\"url(#clip670)\" d=\"M193.45 1277.54 L211.806 1277.54 L211.806 1281.47 L197.732 1281.47 L197.732 1289.95 Q198.75 1289.6 199.769 1289.44 Q200.787 1289.25 201.806 1289.25 Q207.593 1289.25 210.973 1292.42 Q214.352 1295.59 214.352 1301.01 Q214.352 1306.59 210.88 1309.69 Q207.408 1312.77 201.088 1312.77 Q198.912 1312.77 196.644 1312.4 Q194.399 1312.03 191.991 1311.29 L191.991 1306.59 Q194.075 1307.72 196.297 1308.28 Q198.519 1308.84 200.996 1308.84 Q205 1308.84 207.338 1306.73 Q209.676 1304.62 209.676 1301.01 Q209.676 1297.4 207.338 1295.29 Q205 1293.19 200.996 1293.19 Q199.121 1293.19 197.246 1293.6 Q195.394 1294.02 193.45 1294.9 L193.45 1277.54 Z\" fill=\"#000000\" fill-rule=\"evenodd\" fill-opacity=\"1\" /><path clip-path=\"url(#clip670)\" d=\"M129.862 972.988 L118.056 991.437 L129.862 991.437 L129.862 972.988 M128.635 968.914 L134.515 968.914 L134.515 991.437 L139.445 991.437 L139.445 995.326 L134.515 995.326 L134.515 1003.47 L129.862 1003.47 L129.862 995.326 L114.26 995.326 L114.26 990.812 L128.635 968.914 Z\" fill=\"#000000\" fill-rule=\"evenodd\" fill-opacity=\"1\" /><path clip-path=\"url(#clip670)\" d=\"M147.177 997.594 L152.061 997.594 L152.061 1003.47 L147.177 1003.47 L147.177 997.594 Z\" fill=\"#000000\" fill-rule=\"evenodd\" fill-opacity=\"1\" /><path clip-path=\"url(#clip670)\" d=\"M162.292 968.914 L180.649 968.914 L180.649 972.849 L166.575 972.849 L166.575 981.321 Q167.593 980.974 168.612 980.812 Q169.63 980.627 170.649 980.627 Q176.436 980.627 179.815 983.798 Q183.195 986.969 183.195 992.386 Q183.195 997.965 179.723 1001.07 Q176.251 1004.15 169.931 1004.15 Q167.755 1004.15 165.487 1003.77 Q163.241 1003.4 160.834 1002.66 L160.834 997.965 Q162.917 999.099 165.14 999.655 Q167.362 1000.21 169.839 1000.21 Q173.843 1000.21 176.181 998.104 Q178.519 995.997 178.519 992.386 Q178.519 988.775 176.181 986.668 Q173.843 984.562 169.839 984.562 Q167.964 984.562 166.089 984.979 Q164.237 985.395 162.292 986.275 L162.292 968.914 Z\" fill=\"#000000\" fill-rule=\"evenodd\" fill-opacity=\"1\" /><path clip-path=\"url(#clip670)\" d=\"M202.408 971.993 Q198.797 971.993 196.968 975.557 Q195.163 979.099 195.163 986.229 Q195.163 993.335 196.968 996.9 Q198.797 1000.44 202.408 1000.44 Q206.042 1000.44 207.848 996.9 Q209.676 993.335 209.676 986.229 Q209.676 979.099 207.848 975.557 Q206.042 971.993 202.408 971.993 M202.408 968.289 Q208.218 968.289 211.274 972.895 Q214.352 977.479 214.352 986.229 Q214.352 994.955 211.274 999.562 Q208.218 1004.15 202.408 1004.15 Q196.598 1004.15 193.519 999.562 Q190.463 994.955 190.463 986.229 Q190.463 977.479 193.519 972.895 Q196.598 968.289 202.408 968.289 Z\" fill=\"#000000\" fill-rule=\"evenodd\" fill-opacity=\"1\" /><path clip-path=\"url(#clip670)\" d=\"M130.857 664.363 L119.052 682.812 L130.857 682.812 L130.857 664.363 M129.63 660.289 L135.51 660.289 L135.51 682.812 L140.441 682.812 L140.441 686.701 L135.51 686.701 L135.51 694.849 L130.857 694.849 L130.857 686.701 L115.256 686.701 L115.256 682.187 L129.63 660.289 Z\" fill=\"#000000\" fill-rule=\"evenodd\" fill-opacity=\"1\" /><path clip-path=\"url(#clip670)\" d=\"M148.172 688.969 L153.056 688.969 L153.056 694.849 L148.172 694.849 L148.172 688.969 Z\" fill=\"#000000\" fill-rule=\"evenodd\" fill-opacity=\"1\" /><path clip-path=\"url(#clip670)\" d=\"M162.061 660.289 L184.283 660.289 L184.283 662.28 L171.737 694.849 L166.852 694.849 L178.658 664.224 L162.061 664.224 L162.061 660.289 Z\" fill=\"#000000\" fill-rule=\"evenodd\" fill-opacity=\"1\" /><path clip-path=\"url(#clip670)\" d=\"M193.45 660.289 L211.806 660.289 L211.806 664.224 L197.732 664.224 L197.732 672.696 Q198.75 672.349 199.769 672.187 Q200.787 672.002 201.806 672.002 Q207.593 672.002 210.973 675.173 Q214.352 678.344 214.352 683.761 Q214.352 689.34 210.88 692.442 Q207.408 695.52 201.088 695.52 Q198.912 695.52 196.644 695.15 Q194.399 694.78 191.991 694.039 L191.991 689.34 Q194.075 690.474 196.297 691.03 Q198.519 691.585 200.996 691.585 Q205 691.585 207.338 689.479 Q209.676 687.372 209.676 683.761 Q209.676 680.15 207.338 678.044 Q205 675.937 200.996 675.937 Q199.121 675.937 197.246 676.354 Q195.394 676.77 193.45 677.65 L193.45 660.289 Z\" fill=\"#000000\" fill-rule=\"evenodd\" fill-opacity=\"1\" /><path clip-path=\"url(#clip670)\" d=\"M117.061 351.664 L135.417 351.664 L135.417 355.599 L121.343 355.599 L121.343 364.071 Q122.362 363.724 123.38 363.562 Q124.399 363.377 125.418 363.377 Q131.205 363.377 134.584 366.548 Q137.964 369.719 137.964 375.136 Q137.964 380.715 134.492 383.817 Q131.019 386.895 124.7 386.895 Q122.524 386.895 120.255 386.525 Q118.01 386.155 115.603 385.414 L115.603 380.715 Q117.686 381.849 119.908 382.405 Q122.13 382.96 124.607 382.96 Q128.612 382.96 130.95 380.854 Q133.288 378.747 133.288 375.136 Q133.288 371.525 130.95 369.419 Q128.612 367.312 124.607 367.312 Q122.732 367.312 120.857 367.729 Q119.006 368.145 117.061 369.025 L117.061 351.664 Z\" fill=\"#000000\" fill-rule=\"evenodd\" fill-opacity=\"1\" /><path clip-path=\"url(#clip670)\" d=\"M147.177 380.344 L152.061 380.344 L152.061 386.224 L147.177 386.224 L147.177 380.344 Z\" fill=\"#000000\" fill-rule=\"evenodd\" fill-opacity=\"1\" /><path clip-path=\"url(#clip670)\" d=\"M172.246 354.743 Q168.635 354.743 166.806 358.307 Q165.001 361.849 165.001 368.979 Q165.001 376.085 166.806 379.65 Q168.635 383.192 172.246 383.192 Q175.88 383.192 177.686 379.65 Q179.514 376.085 179.514 368.979 Q179.514 361.849 177.686 358.307 Q175.88 354.743 172.246 354.743 M172.246 351.039 Q178.056 351.039 181.112 355.645 Q184.19 360.229 184.19 368.979 Q184.19 377.706 181.112 382.312 Q178.056 386.895 172.246 386.895 Q166.436 386.895 163.357 382.312 Q160.302 377.706 160.302 368.979 Q160.302 360.229 163.357 355.645 Q166.436 351.039 172.246 351.039 Z\" fill=\"#000000\" fill-rule=\"evenodd\" fill-opacity=\"1\" /><path clip-path=\"url(#clip670)\" d=\"M202.408 354.743 Q198.797 354.743 196.968 358.307 Q195.163 361.849 195.163 368.979 Q195.163 376.085 196.968 379.65 Q198.797 383.192 202.408 383.192 Q206.042 383.192 207.848 379.65 Q209.676 376.085 209.676 368.979 Q209.676 361.849 207.848 358.307 Q206.042 354.743 202.408 354.743 M202.408 351.039 Q208.218 351.039 211.274 355.645 Q214.352 360.229 214.352 368.979 Q214.352 377.706 211.274 382.312 Q208.218 386.895 202.408 386.895 Q196.598 386.895 193.519 382.312 Q190.463 377.706 190.463 368.979 Q190.463 360.229 193.519 355.645 Q196.598 351.039 202.408 351.039 Z\" fill=\"#000000\" fill-rule=\"evenodd\" fill-opacity=\"1\" /><path clip-path=\"url(#clip670)\" d=\"M118.056 43.039 L136.413 43.039 L136.413 46.9742 L122.339 46.9742 L122.339 55.4464 Q123.357 55.0991 124.376 54.9371 Q125.394 54.7519 126.413 54.7519 Q132.2 54.7519 135.579 57.9232 Q138.959 61.0945 138.959 66.5111 Q138.959 72.0898 135.487 75.1916 Q132.015 78.2703 125.695 78.2703 Q123.519 78.2703 121.251 77.8999 Q119.006 77.5296 116.598 76.7888 L116.598 72.0898 Q118.681 73.224 120.904 73.7796 Q123.126 74.3351 125.603 74.3351 Q129.607 74.3351 131.945 72.2287 Q134.283 70.1222 134.283 66.5111 Q134.283 62.9 131.945 60.7935 Q129.607 58.6871 125.603 58.6871 Q123.728 58.6871 121.853 59.1037 Q120.001 59.5204 118.056 60.4 L118.056 43.039 Z\" fill=\"#000000\" fill-rule=\"evenodd\" fill-opacity=\"1\" /><path clip-path=\"url(#clip670)\" d=\"M148.172 71.7194 L153.056 71.7194 L153.056 77.599 L148.172 77.599 L148.172 71.7194 Z\" fill=\"#000000\" fill-rule=\"evenodd\" fill-opacity=\"1\" /><path clip-path=\"url(#clip670)\" d=\"M167.269 73.6639 L183.588 73.6639 L183.588 77.599 L161.644 77.599 L161.644 73.6639 Q164.306 70.9092 168.889 66.2796 Q173.496 61.6269 174.677 60.2843 Q176.922 57.7612 177.801 56.0251 Q178.704 54.2658 178.704 52.576 Q178.704 49.8214 176.76 48.0853 Q174.839 46.3492 171.737 46.3492 Q169.538 46.3492 167.084 47.1131 Q164.653 47.877 161.876 49.4279 L161.876 44.7057 Q164.7 43.5714 167.153 42.9927 Q169.607 42.414 171.644 42.414 Q177.014 42.414 180.209 45.0992 Q183.403 47.7844 183.403 52.2751 Q183.403 54.4047 182.593 56.326 Q181.806 58.2241 179.7 60.8167 Q179.121 61.488 176.019 64.7056 Q172.917 67.9 167.269 73.6639 Z\" fill=\"#000000\" fill-rule=\"evenodd\" fill-opacity=\"1\" /><path clip-path=\"url(#clip670)\" d=\"M193.45 43.039 L211.806 43.039 L211.806 46.9742 L197.732 46.9742 L197.732 55.4464 Q198.75 55.0991 199.769 54.9371 Q200.787 54.7519 201.806 54.7519 Q207.593 54.7519 210.973 57.9232 Q214.352 61.0945 214.352 66.5111 Q214.352 72.0898 210.88 75.1916 Q207.408 78.2703 201.088 78.2703 Q198.912 78.2703 196.644 77.8999 Q194.399 77.5296 191.991 76.7888 L191.991 72.0898 Q194.075 73.224 196.297 73.7796 Q198.519 74.3351 200.996 74.3351 Q205 74.3351 207.338 72.2287 Q209.676 70.1222 209.676 66.5111 Q209.676 62.9 207.338 60.7935 Q205 58.6871 200.996 58.6871 Q199.121 58.6871 197.246 59.1037 Q195.394 59.5204 193.45 60.4 L193.45 43.039 Z\" fill=\"#000000\" fill-rule=\"evenodd\" fill-opacity=\"1\" /><path clip-path=\"url(#clip670)\" d=\"M41.7242 895.58 Q42.4244 893.511 44.7161 891.57 Q47.0077 889.596 51.0181 887.623 L64.0042 881.098 L64.0042 888.005 L51.8138 894.084 Q47.0395 896.439 45.48 898.667 Q43.9204 900.864 43.9204 904.683 L43.9204 911.685 L64.0042 911.685 L64.0042 918.115 L16.4842 918.115 L16.4842 903.601 Q16.4842 895.453 19.8898 891.442 Q23.2955 887.432 30.1704 887.432 Q34.6582 887.432 37.6183 889.533 Q40.5784 891.601 41.7242 895.58 M21.7677 911.685 L38.6368 911.685 L38.6368 903.601 Q38.6368 898.954 36.5043 896.599 Q34.34 894.211 30.1704 894.211 Q26.0009 894.211 23.9002 896.599 Q21.7677 898.954 21.7677 903.601 L21.7677 911.685 Z\" fill=\"#000000\" fill-rule=\"evenodd\" fill-opacity=\"1\" /><path clip-path=\"url(#clip670)\" d=\"M49.9359 876.61 L28.3562 876.61 L28.3562 870.754 L49.7131 870.754 Q54.7739 870.754 57.3202 868.78 Q59.8346 866.807 59.8346 862.86 Q59.8346 858.118 56.8109 855.381 Q53.7872 852.612 48.5673 852.612 L28.3562 852.612 L28.3562 846.755 L64.0042 846.755 L64.0042 852.612 L58.5296 852.612 Q61.7762 854.744 63.3676 857.577 Q64.9272 860.378 64.9272 864.102 Q64.9272 870.245 61.1078 873.427 Q57.2883 876.61 49.9359 876.61 M27.4968 861.874 L27.4968 861.874 Z\" fill=\"#000000\" fill-rule=\"evenodd\" fill-opacity=\"1\" /><path clip-path=\"url(#clip670)\" d=\"M42.4881 805.06 L64.0042 805.06 L64.0042 810.916 L42.679 810.916 Q37.6183 810.916 35.1038 812.89 Q32.5894 814.863 32.5894 818.81 Q32.5894 823.552 35.6131 826.289 Q38.6368 829.027 43.8567 829.027 L64.0042 829.027 L64.0042 834.915 L28.3562 834.915 L28.3562 829.027 L33.8944 829.027 Q30.6797 826.926 29.0883 824.093 Q27.4968 821.229 27.4968 817.505 Q27.4968 811.362 31.3163 808.211 Q35.1038 805.06 42.4881 805.06 Z\" fill=\"#000000\" fill-rule=\"evenodd\" fill-opacity=\"1\" /><path clip-path=\"url(#clip670)\" d=\"M18.2347 787.586 L28.3562 787.586 L28.3562 775.523 L32.9077 775.523 L32.9077 787.586 L52.2594 787.586 Q56.6199 787.586 57.8613 786.408 Q59.1026 785.199 59.1026 781.538 L59.1026 775.523 L64.0042 775.523 L64.0042 781.538 Q64.0042 788.318 61.4897 790.896 Q58.9434 793.474 52.2594 793.474 L32.9077 793.474 L32.9077 797.771 L28.3562 797.771 L28.3562 793.474 L18.2347 793.474 L18.2347 787.586 Z\" fill=\"#000000\" fill-rule=\"evenodd\" fill-opacity=\"1\" /><path clip-path=\"url(#clip670)\" d=\"M28.3562 767.82 L28.3562 761.964 L64.0042 761.964 L64.0042 767.82 L28.3562 767.82 M14.479 767.82 L14.479 761.964 L21.895 761.964 L21.895 767.82 L14.479 767.82 Z\" fill=\"#000000\" fill-rule=\"evenodd\" fill-opacity=\"1\" /><path clip-path=\"url(#clip670)\" d=\"M35.1993 721.955 Q31.2526 719.759 29.3747 716.704 Q27.4968 713.648 27.4968 709.51 Q27.4968 703.94 31.4117 700.917 Q35.2948 697.893 42.4881 697.893 L64.0042 697.893 L64.0042 703.781 L42.679 703.781 Q37.5546 703.781 35.072 705.596 Q32.5894 707.41 32.5894 711.134 Q32.5894 715.685 35.6131 718.327 Q38.6368 720.969 43.8567 720.969 L64.0042 720.969 L64.0042 726.857 L42.679 726.857 Q37.5228 726.857 35.072 728.671 Q32.5894 730.485 32.5894 734.273 Q32.5894 738.761 35.6449 741.403 Q38.6686 744.044 43.8567 744.044 L64.0042 744.044 L64.0042 749.933 L28.3562 749.933 L28.3562 744.044 L33.8944 744.044 Q30.616 742.039 29.0564 739.238 Q27.4968 736.437 27.4968 732.586 Q27.4968 728.703 29.4702 725.998 Q31.4436 723.26 35.1993 721.955 Z\" fill=\"#000000\" fill-rule=\"evenodd\" fill-opacity=\"1\" /><path clip-path=\"url(#clip670)\" d=\"M44.7161 655.72 L47.5806 655.72 L47.5806 682.647 Q53.6281 682.265 56.8109 679.019 Q59.9619 675.74 59.9619 669.916 Q59.9619 666.542 59.1344 663.391 Q58.3069 660.208 56.6518 657.089 L62.1899 657.089 Q63.5267 660.24 64.227 663.55 Q64.9272 666.86 64.9272 670.266 Q64.9272 678.796 59.9619 683.793 Q54.9967 688.758 46.5303 688.758 Q37.7774 688.758 32.6531 684.048 Q27.4968 679.305 27.4968 671.284 Q27.4968 664.091 32.1438 659.922 Q36.7589 655.72 44.7161 655.72 M42.9973 661.577 Q38.1912 661.64 35.3266 664.282 Q32.4621 666.892 32.4621 671.221 Q32.4621 676.122 35.2312 679.082 Q38.0002 682.011 43.0292 682.456 L42.9973 661.577 Z\" fill=\"#000000\" fill-rule=\"evenodd\" fill-opacity=\"1\" /><path clip-path=\"url(#clip670)\" d=\"M14.5426 611.319 Q21.8632 615.584 29.0246 617.653 Q36.186 619.722 43.5384 619.722 Q50.8908 619.722 58.1159 617.653 Q65.3091 615.553 72.5979 611.319 L72.5979 616.412 Q65.1182 621.186 57.8931 623.573 Q50.668 625.929 43.5384 625.929 Q36.4406 625.929 29.2474 623.573 Q22.0542 621.218 14.5426 616.412 L14.5426 611.319 Z\" fill=\"#000000\" fill-rule=\"evenodd\" fill-opacity=\"1\" /><path clip-path=\"url(#clip670)\" d=\"M29.4065 577.231 L34.9447 577.231 Q33.6716 579.714 33.035 582.387 Q32.3984 585.061 32.3984 587.925 Q32.3984 592.286 33.7352 594.482 Q35.072 596.646 37.7456 596.646 Q39.7826 596.646 40.9603 595.087 Q42.1061 593.527 43.1565 588.817 L43.6021 586.811 Q44.9389 580.573 47.3897 577.963 Q49.8086 575.321 54.1691 575.321 Q59.1344 575.321 62.0308 579.268 Q64.9272 583.183 64.9272 590.058 Q64.9272 592.923 64.3543 596.042 Q63.8132 599.129 62.6992 602.567 L56.6518 602.567 Q58.3387 599.32 59.198 596.169 Q60.0256 593.018 60.0256 589.931 Q60.0256 585.793 58.6251 583.565 Q57.1929 581.337 54.6147 581.337 Q52.2276 581.337 50.9545 582.96 Q49.6813 584.552 48.5037 589.994 L48.0262 592.031 Q46.8804 597.474 44.5251 599.893 Q42.138 602.312 38.0002 602.312 Q32.9713 602.312 30.2341 598.747 Q27.4968 595.182 27.4968 588.626 Q27.4968 585.379 27.9743 582.515 Q28.4517 579.65 29.4065 577.231 Z\" fill=\"#000000\" fill-rule=\"evenodd\" fill-opacity=\"1\" /><path clip-path=\"url(#clip670)\" d=\"M14.5426 566.919 L14.5426 561.826 Q22.0542 557.052 29.2474 554.696 Q36.4406 552.309 43.5384 552.309 Q50.668 552.309 57.8931 554.696 Q65.1182 557.052 72.5979 561.826 L72.5979 566.919 Q65.3091 562.685 58.1159 560.617 Q50.8908 558.516 43.5384 558.516 Q36.186 558.516 29.0246 560.617 Q21.8632 562.685 14.5426 566.919 Z\" fill=\"#000000\" fill-rule=\"evenodd\" fill-opacity=\"1\" /><polyline clip-path=\"url(#clip672)\" style=\"stroke:#009af9; stroke-linecap:butt; stroke-linejoin:round; stroke-width:4; stroke-opacity:1; fill:none\" points=\"\n",
       "  309.854,1116.96 530.232,1373.77 750.61,1384.24 970.987,906.961 1852.5,327.523 2072.88,870.794 2293.25,86.1857 \n",
       "  \"/>\n",
       "</svg>\n"
      ]
     },
     "execution_count": 79,
     "metadata": {},
     "output_type": "execute_result"
    }
   ],
   "source": [
    "plot(nblocks_list, runtimes_nblocks; xlabel= \"Number of blocks\", ylabel = \"Runtime (s)\", legend = false)"
   ]
  },
  {
   "cell_type": "markdown",
   "id": "f10e5e89-f4e2-4c06-ac4d-606705e675cc",
   "metadata": {},
   "source": [
    "By specifying the number of blocks needed..."
   ]
  },
  {
   "cell_type": "code",
   "execution_count": 80,
   "id": "5584f25b-6c75-4284-85d6-4c5a15b0b032",
   "metadata": {},
   "outputs": [
    {
     "data": {
      "text/plain": [
       "20-element Vector{UnitRange{Int64}}:\n",
       " 1:367\n",
       " 368:734\n",
       " 735:1101\n",
       " 1102:1468\n",
       " 1469:1835\n",
       " 1836:2202\n",
       " 2203:2569\n",
       " 2570:2936\n",
       " 2937:3303\n",
       " 3304:3670\n",
       " 3671:4037\n",
       " 4038:4404\n",
       " 4405:4771\n",
       " 4772:5138\n",
       " 5139:5505\n",
       " 5506:5872\n",
       " 5873:6239\n",
       " 6240:6606\n",
       " 6607:6973\n",
       " 6974:7321"
      ]
     },
     "execution_count": 80,
     "metadata": {},
     "output_type": "execute_result"
    }
   ],
   "source": [
    "bs = Int(ceil(p/20));\n",
    "blocks_partitions = partition_array_indices(p, bs)"
   ]
  },
  {
   "cell_type": "code",
   "execution_count": 81,
   "id": "fe56ba78-36d5-413e-b76c-4aa7d4ba562c",
   "metadata": {},
   "outputs": [
    {
     "data": {
      "text/plain": [
       "BenchmarkTools.Trial: 2 samples with 1 evaluation.\n",
       " Range \u001b[90m(\u001b[39m\u001b[36m\u001b[1mmin\u001b[22m\u001b[39m … \u001b[35mmax\u001b[39m\u001b[90m):  \u001b[39m\u001b[36m\u001b[1m4.319 s\u001b[22m\u001b[39m … \u001b[35m 4.324 s\u001b[39m  \u001b[90m┊\u001b[39m GC \u001b[90m(\u001b[39mmin … max\u001b[90m): \u001b[39m0.00% … 0.00%\n",
       " Time  \u001b[90m(\u001b[39m\u001b[34m\u001b[1mmedian\u001b[22m\u001b[39m\u001b[90m):     \u001b[39m\u001b[34m\u001b[1m4.322 s             \u001b[22m\u001b[39m\u001b[90m┊\u001b[39m GC \u001b[90m(\u001b[39mmedian\u001b[90m):    \u001b[39m0.00%\n",
       " Time  \u001b[90m(\u001b[39m\u001b[32m\u001b[1mmean\u001b[22m\u001b[39m ± \u001b[32mσ\u001b[39m\u001b[90m):   \u001b[39m\u001b[32m\u001b[1m4.322 s\u001b[22m\u001b[39m ± \u001b[32m3.450 ms\u001b[39m  \u001b[90m┊\u001b[39m GC \u001b[90m(\u001b[39mmean ± σ\u001b[90m):  \u001b[39m0.00% ± 0.00%\n",
       "\n",
       "  \u001b[34m█\u001b[39m\u001b[39m \u001b[39m \u001b[39m \u001b[39m \u001b[39m \u001b[39m \u001b[39m \u001b[39m \u001b[39m \u001b[39m \u001b[39m \u001b[39m \u001b[39m \u001b[39m \u001b[39m \u001b[39m \u001b[39m \u001b[39m \u001b[39m \u001b[39m \u001b[39m \u001b[39m \u001b[39m \u001b[39m \u001b[39m \u001b[39m \u001b[39m \u001b[32m \u001b[39m\u001b[39m \u001b[39m \u001b[39m \u001b[39m \u001b[39m \u001b[39m \u001b[39m \u001b[39m \u001b[39m \u001b[39m \u001b[39m \u001b[39m \u001b[39m \u001b[39m \u001b[39m \u001b[39m \u001b[39m \u001b[39m \u001b[39m \u001b[39m \u001b[39m \u001b[39m \u001b[39m \u001b[39m \u001b[39m \u001b[39m \u001b[39m█\u001b[39m \u001b[39m \n",
       "  \u001b[34m█\u001b[39m\u001b[39m▁\u001b[39m▁\u001b[39m▁\u001b[39m▁\u001b[39m▁\u001b[39m▁\u001b[39m▁\u001b[39m▁\u001b[39m▁\u001b[39m▁\u001b[39m▁\u001b[39m▁\u001b[39m▁\u001b[39m▁\u001b[39m▁\u001b[39m▁\u001b[39m▁\u001b[39m▁\u001b[39m▁\u001b[39m▁\u001b[39m▁\u001b[39m▁\u001b[39m▁\u001b[39m▁\u001b[39m▁\u001b[39m▁\u001b[39m▁\u001b[32m▁\u001b[39m\u001b[39m▁\u001b[39m▁\u001b[39m▁\u001b[39m▁\u001b[39m▁\u001b[39m▁\u001b[39m▁\u001b[39m▁\u001b[39m▁\u001b[39m▁\u001b[39m▁\u001b[39m▁\u001b[39m▁\u001b[39m▁\u001b[39m▁\u001b[39m▁\u001b[39m▁\u001b[39m▁\u001b[39m▁\u001b[39m▁\u001b[39m▁\u001b[39m▁\u001b[39m▁\u001b[39m▁\u001b[39m▁\u001b[39m▁\u001b[39m█\u001b[39m \u001b[39m▁\n",
       "  4.32 s\u001b[90m        Histogram: frequency by time\u001b[39m        4.32 s \u001b[0m\u001b[1m<\u001b[22m\n",
       "\n",
       " Memory estimate\u001b[90m: \u001b[39m\u001b[33m55.94 MiB\u001b[39m, allocs estimate\u001b[90m: \u001b[39m\u001b[33m2580\u001b[39m."
      ]
     },
     "execution_count": 81,
     "metadata": {},
     "output_type": "execute_result"
    }
   ],
   "source": [
    "@benchmark pmap(x -> scan_distributed_block(r0perm, X00, x), blocks_partitions)"
   ]
  },
  {
   "cell_type": "code",
   "execution_count": 82,
   "id": "82a9048d-e1e2-42b3-a779-4683edabbc66",
   "metadata": {},
   "outputs": [
    {
     "data": {
      "text/plain": [
       "141-element Vector{UnitRange{Int64}}:\n",
       " 1:52\n",
       " 53:104\n",
       " 105:156\n",
       " 157:208\n",
       " 209:260\n",
       " 261:312\n",
       " 313:364\n",
       " 365:416\n",
       " 417:468\n",
       " 469:520\n",
       " 521:572\n",
       " 573:624\n",
       " 625:676\n",
       " ⋮\n",
       " 6709:6760\n",
       " 6761:6812\n",
       " 6813:6864\n",
       " 6865:6916\n",
       " 6917:6968\n",
       " 6969:7020\n",
       " 7021:7072\n",
       " 7073:7124\n",
       " 7125:7176\n",
       " 7177:7228\n",
       " 7229:7280\n",
       " 7281:7321"
      ]
     },
     "execution_count": 82,
     "metadata": {},
     "output_type": "execute_result"
    }
   ],
   "source": [
    "nblocks = 140;\n",
    "blocks_partitions = partition_array_indices(p, Int(floor(p/nblocks)))"
   ]
  },
  {
   "cell_type": "code",
   "execution_count": 83,
   "id": "0641c042-fe8b-426e-84de-7d6fe3e6fb75",
   "metadata": {},
   "outputs": [
    {
     "data": {
      "text/plain": [
       "BenchmarkTools.Trial: 1 sample with 1 evaluation.\n",
       " Single result which took \u001b[34m5.203 s\u001b[39m (0.00% GC) to evaluate,\n",
       " with a memory estimate of \u001b[33m56.41 MiB\u001b[39m, over \u001b[33m14895\u001b[39m allocations."
      ]
     },
     "execution_count": 83,
     "metadata": {},
     "output_type": "execute_result"
    }
   ],
   "source": [
    "@benchmark pmap(x -> scan_distributed_block(r0perm, X00, x), blocks_partitions)"
   ]
  },
  {
   "cell_type": "code",
   "execution_count": 84,
   "id": "30727d4d-f845-4792-a968-db6d50656bc6",
   "metadata": {},
   "outputs": [
    {
     "data": {
      "text/plain": [
       "204-element Vector{UnitRange{Int64}}:\n",
       " 1:36\n",
       " 37:72\n",
       " 73:108\n",
       " 109:144\n",
       " 145:180\n",
       " 181:216\n",
       " 217:252\n",
       " 253:288\n",
       " 289:324\n",
       " 325:360\n",
       " 361:396\n",
       " 397:432\n",
       " 433:468\n",
       " ⋮\n",
       " 6913:6948\n",
       " 6949:6984\n",
       " 6985:7020\n",
       " 7021:7056\n",
       " 7057:7092\n",
       " 7093:7128\n",
       " 7129:7164\n",
       " 7165:7200\n",
       " 7201:7236\n",
       " 7237:7272\n",
       " 7273:7308\n",
       " 7309:7321"
      ]
     },
     "execution_count": 84,
     "metadata": {},
     "output_type": "execute_result"
    }
   ],
   "source": [
    "nblocks = 200;\n",
    "blocks_partitions = partition_array_indices(p, Int(floor(p/nblocks)))"
   ]
  },
  {
   "cell_type": "code",
   "execution_count": 85,
   "id": "4bc52af4-674d-43d4-9b2f-2c15719e1a85",
   "metadata": {},
   "outputs": [
    {
     "data": {
      "text/plain": [
       "BenchmarkTools.Trial: 2 samples with 1 evaluation.\n",
       " Range \u001b[90m(\u001b[39m\u001b[36m\u001b[1mmin\u001b[22m\u001b[39m … \u001b[35mmax\u001b[39m\u001b[90m):  \u001b[39m\u001b[36m\u001b[1m4.519 s\u001b[22m\u001b[39m … \u001b[35m  4.653 s\u001b[39m  \u001b[90m┊\u001b[39m GC \u001b[90m(\u001b[39mmin … max\u001b[90m): \u001b[39m0.00% … 0.00%\n",
       " Time  \u001b[90m(\u001b[39m\u001b[34m\u001b[1mmedian\u001b[22m\u001b[39m\u001b[90m):     \u001b[39m\u001b[34m\u001b[1m4.586 s              \u001b[22m\u001b[39m\u001b[90m┊\u001b[39m GC \u001b[90m(\u001b[39mmedian\u001b[90m):    \u001b[39m0.00%\n",
       " Time  \u001b[90m(\u001b[39m\u001b[32m\u001b[1mmean\u001b[22m\u001b[39m ± \u001b[32mσ\u001b[39m\u001b[90m):   \u001b[39m\u001b[32m\u001b[1m4.586 s\u001b[22m\u001b[39m ± \u001b[32m94.796 ms\u001b[39m  \u001b[90m┊\u001b[39m GC \u001b[90m(\u001b[39mmean ± σ\u001b[90m):  \u001b[39m0.00% ± 0.00%\n",
       "\n",
       "  \u001b[34m█\u001b[39m\u001b[39m \u001b[39m \u001b[39m \u001b[39m \u001b[39m \u001b[39m \u001b[39m \u001b[39m \u001b[39m \u001b[39m \u001b[39m \u001b[39m \u001b[39m \u001b[39m \u001b[39m \u001b[39m \u001b[39m \u001b[39m \u001b[39m \u001b[39m \u001b[39m \u001b[39m \u001b[39m \u001b[39m \u001b[39m \u001b[39m \u001b[39m \u001b[32m \u001b[39m\u001b[39m \u001b[39m \u001b[39m \u001b[39m \u001b[39m \u001b[39m \u001b[39m \u001b[39m \u001b[39m \u001b[39m \u001b[39m \u001b[39m \u001b[39m \u001b[39m \u001b[39m \u001b[39m \u001b[39m \u001b[39m \u001b[39m \u001b[39m \u001b[39m \u001b[39m \u001b[39m \u001b[39m \u001b[39m \u001b[39m \u001b[39m \u001b[39m█\u001b[39m \u001b[39m \n",
       "  \u001b[34m█\u001b[39m\u001b[39m▁\u001b[39m▁\u001b[39m▁\u001b[39m▁\u001b[39m▁\u001b[39m▁\u001b[39m▁\u001b[39m▁\u001b[39m▁\u001b[39m▁\u001b[39m▁\u001b[39m▁\u001b[39m▁\u001b[39m▁\u001b[39m▁\u001b[39m▁\u001b[39m▁\u001b[39m▁\u001b[39m▁\u001b[39m▁\u001b[39m▁\u001b[39m▁\u001b[39m▁\u001b[39m▁\u001b[39m▁\u001b[39m▁\u001b[39m▁\u001b[32m▁\u001b[39m\u001b[39m▁\u001b[39m▁\u001b[39m▁\u001b[39m▁\u001b[39m▁\u001b[39m▁\u001b[39m▁\u001b[39m▁\u001b[39m▁\u001b[39m▁\u001b[39m▁\u001b[39m▁\u001b[39m▁\u001b[39m▁\u001b[39m▁\u001b[39m▁\u001b[39m▁\u001b[39m▁\u001b[39m▁\u001b[39m▁\u001b[39m▁\u001b[39m▁\u001b[39m▁\u001b[39m▁\u001b[39m▁\u001b[39m▁\u001b[39m▁\u001b[39m█\u001b[39m \u001b[39m▁\n",
       "  4.52 s\u001b[90m         Histogram: frequency by time\u001b[39m        4.65 s \u001b[0m\u001b[1m<\u001b[22m\n",
       "\n",
       " Memory estimate\u001b[90m: \u001b[39m\u001b[33m56.64 MiB\u001b[39m, allocs estimate\u001b[90m: \u001b[39m\u001b[33m20904\u001b[39m."
      ]
     },
     "execution_count": 85,
     "metadata": {},
     "output_type": "execute_result"
    }
   ],
   "source": [
    "@benchmark pmap(x -> scan_distributed_block(r0perm, X00, x), blocks_partitions)"
   ]
  },
  {
   "cell_type": "code",
   "execution_count": 86,
   "id": "7b4a5aba-6807-4314-9300-b2ad17932883",
   "metadata": {},
   "outputs": [
    {
     "data": {
      "text/plain": [
       "732"
      ]
     },
     "execution_count": 86,
     "metadata": {},
     "output_type": "execute_result"
    }
   ],
   "source": [
    "Int(floor(p/10))"
   ]
  },
  {
   "cell_type": "code",
   "execution_count": 87,
   "id": "4586d680-b73c-4506-b8b5-0eb6c09e9976",
   "metadata": {},
   "outputs": [
    {
     "data": {
      "text/plain": [
       "11-element Vector{UnitRange{Int64}}:\n",
       " 1:732\n",
       " 733:1464\n",
       " 1465:2196\n",
       " 2197:2928\n",
       " 2929:3660\n",
       " 3661:4392\n",
       " 4393:5124\n",
       " 5125:5856\n",
       " 5857:6588\n",
       " 6589:7320\n",
       " 7321:7321"
      ]
     },
     "execution_count": 87,
     "metadata": {},
     "output_type": "execute_result"
    }
   ],
   "source": [
    "partition_array_indices(p, 732)"
   ]
  },
  {
   "cell_type": "markdown",
   "id": "76e7e55e-1a76-480a-82ca-7172524f4cfc",
   "metadata": {},
   "source": [
    "## Miscellaneous:"
   ]
  },
  {
   "cell_type": "code",
   "execution_count": 24,
   "id": "274630a3-5571-4286-a348-67c545e3995e",
   "metadata": {},
   "outputs": [],
   "source": [
    "# Pkg.add(\"ParallelDataTransfer\");"
   ]
  },
  {
   "cell_type": "code",
   "execution_count": 30,
   "id": "0bd3d8ec-f179-4b9f-87bd-03ced5eddb30",
   "metadata": {},
   "outputs": [
    {
     "data": {
      "text/plain": [
       "distributed_nperms (generic function with 1 method)"
      ]
     },
     "execution_count": 30,
     "metadata": {},
     "output_type": "execute_result"
    }
   ],
   "source": [
    "include(\"../src/scan.jl\")"
   ]
  },
  {
   "cell_type": "code",
   "execution_count": 31,
   "id": "d1469910-acb7-4406-913a-fc258933ed23",
   "metadata": {},
   "outputs": [],
   "source": [
    "@everywhere include(\"../src/parallel_helpers.jl\")"
   ]
  },
  {
   "cell_type": "code",
   "execution_count": 32,
   "id": "2635d31d-e24a-45fb-b5a0-82da007c2028",
   "metadata": {},
   "outputs": [
    {
     "data": {
      "text/plain": [
       "4-element Vector{Int64}:\n",
       " 1\n",
       " 2\n",
       " 3\n",
       " 4"
      ]
     },
     "execution_count": 32,
     "metadata": {},
     "output_type": "execute_result"
    }
   ],
   "source": [
    "procs()"
   ]
  },
  {
   "cell_type": "code",
   "execution_count": 33,
   "id": "ae8cc892-5cba-412f-ae7c-55a39d777f9b",
   "metadata": {},
   "outputs": [
    {
     "data": {
      "text/plain": [
       "1001×733 Matrix{Float64}:\n",
       " 0.00819636   0.00819636   …  0.14123      0.0754554   0.0754554\n",
       " 1.71913      1.71913         0.0741965    0.093627    0.093627\n",
       " 0.225974     0.225974        0.000789878  0.0212395   0.0212395\n",
       " 0.0167808    0.0167808       0.206583     0.510073    0.510073\n",
       " 0.0800067    0.0800067       0.205652     0.137447    0.137447\n",
       " 0.000354535  0.000354535  …  0.07062      0.0240064   0.0240064\n",
       " 0.58573      0.58573         0.531531     0.995387    0.995387\n",
       " 0.519134     0.519134        0.0131538    0.0343682   0.0343682\n",
       " 3.18899e-5   3.18899e-5      0.0244385    0.0357619   0.0357619\n",
       " 1.03257      1.03257         0.764835     0.689489    0.689489\n",
       " 0.0559665    0.0559665    …  0.821731     0.694895    0.694895\n",
       " 0.0760841    0.0760841       0.0114289    0.0558914   0.0558914\n",
       " 0.0890595    0.0890595       0.000374045  0.0277343   0.0277343\n",
       " ⋮                         ⋱  ⋮                        \n",
       " 0.0242155    0.0242155       1.34862      0.961152    0.961152\n",
       " 0.0236822    0.0236822    …  0.108726     0.257405    0.257405\n",
       " 0.000613761  0.000613761     0.164475     0.327415    0.327415\n",
       " 0.00371975   0.00371975      0.00204766   0.0895316   0.0895316\n",
       " 1.277        1.277           0.145383     0.373612    0.373612\n",
       " 0.271453     0.271453        0.0753369    0.00852811  0.00852811\n",
       " 0.206117     0.206117     …  0.000336332  0.00294561  0.00294561\n",
       " 0.869772     0.869772        0.520986     0.791806    0.791806\n",
       " 0.0701319    0.0701319       0.42491      0.491698    0.491698\n",
       " 0.000851876  0.000851876     0.0406496    0.140995    0.140995\n",
       " 0.180121     0.180121        0.580009     0.361665    0.361665\n",
       " 0.00207536   0.00207536   …  0.00316783   0.0110266   0.0110266"
      ]
     },
     "execution_count": 33,
     "metadata": {},
     "output_type": "execute_result"
    }
   ],
   "source": [
    "scan_perms_distributed(pheno_y, geno, kinship; reml = false, nperms = 1000, rndseed = 0, original = true, \n",
    "    option = \"by blocks\", nblocks = 10)"
   ]
  },
  {
   "cell_type": "code",
   "execution_count": 34,
   "id": "e2ddd6f0-8e83-4db3-9108-66fd87627cc0",
   "metadata": {},
   "outputs": [
    {
     "data": {
      "text/plain": [
       "BenchmarkTools.Trial: 9 samples with 1 evaluation.\n",
       " Range \u001b[90m(\u001b[39m\u001b[36m\u001b[1mmin\u001b[22m\u001b[39m … \u001b[35mmax\u001b[39m\u001b[90m):  \u001b[39m\u001b[36m\u001b[1m593.479 ms\u001b[22m\u001b[39m … \u001b[35m707.250 ms\u001b[39m  \u001b[90m┊\u001b[39m GC \u001b[90m(\u001b[39mmin … max\u001b[90m): \u001b[39m1.01% … 0.00%\n",
       " Time  \u001b[90m(\u001b[39m\u001b[34m\u001b[1mmedian\u001b[22m\u001b[39m\u001b[90m):     \u001b[39m\u001b[34m\u001b[1m603.397 ms               \u001b[22m\u001b[39m\u001b[90m┊\u001b[39m GC \u001b[90m(\u001b[39mmedian\u001b[90m):    \u001b[39m0.00%\n",
       " Time  \u001b[90m(\u001b[39m\u001b[32m\u001b[1mmean\u001b[22m\u001b[39m ± \u001b[32mσ\u001b[39m\u001b[90m):   \u001b[39m\u001b[32m\u001b[1m613.279 ms\u001b[22m\u001b[39m ± \u001b[32m 35.528 ms\u001b[39m  \u001b[90m┊\u001b[39m GC \u001b[90m(\u001b[39mmean ± σ\u001b[90m):  \u001b[39m0.30% ± 0.48%\n",
       "\n",
       "  \u001b[39m▁\u001b[39m▁\u001b[39m \u001b[39m█\u001b[34m \u001b[39m\u001b[39m█\u001b[39m▁\u001b[39m▁\u001b[39m \u001b[39m \u001b[39m \u001b[32m \u001b[39m\u001b[39m \u001b[39m \u001b[39m \u001b[39m \u001b[39m \u001b[39m \u001b[39m \u001b[39m \u001b[39m \u001b[39m \u001b[39m \u001b[39m \u001b[39m \u001b[39m \u001b[39m \u001b[39m \u001b[39m \u001b[39m \u001b[39m \u001b[39m \u001b[39m \u001b[39m \u001b[39m \u001b[39m \u001b[39m \u001b[39m \u001b[39m \u001b[39m \u001b[39m \u001b[39m \u001b[39m \u001b[39m \u001b[39m \u001b[39m \u001b[39m \u001b[39m \u001b[39m \u001b[39m \u001b[39m \u001b[39m \u001b[39m \u001b[39m \u001b[39m \u001b[39m \u001b[39m \u001b[39m \u001b[39m \u001b[39m \u001b[39m▁\u001b[39m \u001b[39m \n",
       "  \u001b[39m█\u001b[39m█\u001b[39m▁\u001b[39m█\u001b[34m▁\u001b[39m\u001b[39m█\u001b[39m█\u001b[39m█\u001b[39m▁\u001b[39m▁\u001b[39m▁\u001b[32m▁\u001b[39m\u001b[39m▁\u001b[39m▁\u001b[39m▁\u001b[39m▁\u001b[39m▁\u001b[39m▁\u001b[39m▁\u001b[39m▁\u001b[39m▁\u001b[39m▁\u001b[39m▁\u001b[39m▁\u001b[39m▁\u001b[39m▁\u001b[39m▁\u001b[39m▁\u001b[39m▁\u001b[39m▁\u001b[39m▁\u001b[39m▁\u001b[39m▁\u001b[39m▁\u001b[39m▁\u001b[39m▁\u001b[39m▁\u001b[39m▁\u001b[39m▁\u001b[39m▁\u001b[39m▁\u001b[39m▁\u001b[39m▁\u001b[39m▁\u001b[39m▁\u001b[39m▁\u001b[39m▁\u001b[39m▁\u001b[39m▁\u001b[39m▁\u001b[39m▁\u001b[39m▁\u001b[39m▁\u001b[39m▁\u001b[39m▁\u001b[39m▁\u001b[39m▁\u001b[39m▁\u001b[39m▁\u001b[39m▁\u001b[39m█\u001b[39m \u001b[39m▁\n",
       "  593 ms\u001b[90m           Histogram: frequency by time\u001b[39m          707 ms \u001b[0m\u001b[1m<\u001b[22m\n",
       "\n",
       " Memory estimate\u001b[90m: \u001b[39m\u001b[33m39.48 MiB\u001b[39m, allocs estimate\u001b[90m: \u001b[39m\u001b[33m2445\u001b[39m."
      ]
     },
     "execution_count": 34,
     "metadata": {},
     "output_type": "execute_result"
    }
   ],
   "source": [
    "@benchmark scan_perms_distributed(pheno_y, geno, kinship; reml = false, nperms = 1000, rndseed = 0, original = true, \n",
    "    option = \"by blocks\", nblocks = 10)"
   ]
  },
  {
   "cell_type": "code",
   "execution_count": 88,
   "id": "093b3771-eacb-494b-9d2c-477510f03949",
   "metadata": {},
   "outputs": [
    {
     "data": {
      "text/plain": [
       "79"
      ]
     },
     "execution_count": 88,
     "metadata": {},
     "output_type": "execute_result"
    }
   ],
   "source": [
    "n = size(y0, 1)"
   ]
  },
  {
   "cell_type": "code",
   "execution_count": 89,
   "id": "bb13ae51-891e-40a9-8275-a633b33c8d40",
   "metadata": {},
   "outputs": [],
   "source": [
    "Loops_y0 = Array{Float64, 2}(undef, n, 10);"
   ]
  },
  {
   "cell_type": "code",
   "execution_count": 90,
   "id": "f165bce8-1113-440c-9ea3-30ddbc63c4a0",
   "metadata": {},
   "outputs": [],
   "source": [
    "for i = 1:10\n",
    "    Loops_y0[:, i] = rotateData(pheno_y, geno, kinship)[1]\n",
    "end\n",
    "\n",
    "first_col = Loops_y0[:, 1];"
   ]
  },
  {
   "cell_type": "code",
   "execution_count": 91,
   "id": "d55188a7-55db-46db-8a9c-6af98c187b0c",
   "metadata": {},
   "outputs": [],
   "source": [
    "test_list = mapslices(x -> x .- first_col, Loops_y0; dims = 1);"
   ]
  },
  {
   "cell_type": "code",
   "execution_count": 92,
   "id": "3810b6c6-a965-4eff-81da-e1d50c8f9ccf",
   "metadata": {},
   "outputs": [
    {
     "data": {
      "text/plain": [
       "79×10 Matrix{Float64}:\n",
       " 0.0  0.0  0.0  0.0  0.0  0.0  0.0  0.0  0.0  0.0\n",
       " 0.0  0.0  0.0  0.0  0.0  0.0  0.0  0.0  0.0  0.0\n",
       " 0.0  0.0  0.0  0.0  0.0  0.0  0.0  0.0  0.0  0.0\n",
       " 0.0  0.0  0.0  0.0  0.0  0.0  0.0  0.0  0.0  0.0\n",
       " 0.0  0.0  0.0  0.0  0.0  0.0  0.0  0.0  0.0  0.0\n",
       " 0.0  0.0  0.0  0.0  0.0  0.0  0.0  0.0  0.0  0.0\n",
       " 0.0  0.0  0.0  0.0  0.0  0.0  0.0  0.0  0.0  0.0\n",
       " 0.0  0.0  0.0  0.0  0.0  0.0  0.0  0.0  0.0  0.0\n",
       " 0.0  0.0  0.0  0.0  0.0  0.0  0.0  0.0  0.0  0.0\n",
       " 0.0  0.0  0.0  0.0  0.0  0.0  0.0  0.0  0.0  0.0\n",
       " 0.0  0.0  0.0  0.0  0.0  0.0  0.0  0.0  0.0  0.0\n",
       " 0.0  0.0  0.0  0.0  0.0  0.0  0.0  0.0  0.0  0.0\n",
       " 0.0  0.0  0.0  0.0  0.0  0.0  0.0  0.0  0.0  0.0\n",
       " ⋮                        ⋮                   \n",
       " 0.0  0.0  0.0  0.0  0.0  0.0  0.0  0.0  0.0  0.0\n",
       " 0.0  0.0  0.0  0.0  0.0  0.0  0.0  0.0  0.0  0.0\n",
       " 0.0  0.0  0.0  0.0  0.0  0.0  0.0  0.0  0.0  0.0\n",
       " 0.0  0.0  0.0  0.0  0.0  0.0  0.0  0.0  0.0  0.0\n",
       " 0.0  0.0  0.0  0.0  0.0  0.0  0.0  0.0  0.0  0.0\n",
       " 0.0  0.0  0.0  0.0  0.0  0.0  0.0  0.0  0.0  0.0\n",
       " 0.0  0.0  0.0  0.0  0.0  0.0  0.0  0.0  0.0  0.0\n",
       " 0.0  0.0  0.0  0.0  0.0  0.0  0.0  0.0  0.0  0.0\n",
       " 0.0  0.0  0.0  0.0  0.0  0.0  0.0  0.0  0.0  0.0\n",
       " 0.0  0.0  0.0  0.0  0.0  0.0  0.0  0.0  0.0  0.0\n",
       " 0.0  0.0  0.0  0.0  0.0  0.0  0.0  0.0  0.0  0.0\n",
       " 0.0  0.0  0.0  0.0  0.0  0.0  0.0  0.0  0.0  0.0"
      ]
     },
     "execution_count": 92,
     "metadata": {},
     "output_type": "execute_result"
    }
   ],
   "source": [
    "test_list"
   ]
  },
  {
   "cell_type": "code",
   "execution_count": 93,
   "id": "186d4346-77c6-41aa-916a-588eb30cc474",
   "metadata": {},
   "outputs": [
    {
     "data": {
      "text/plain": [
       "3-element Vector{Int64}:\n",
       " 1\n",
       " 2\n",
       " 3"
      ]
     },
     "execution_count": 93,
     "metadata": {},
     "output_type": "execute_result"
    }
   ],
   "source": [
    "# addprocs(7);\n",
    "procs()"
   ]
  },
  {
   "cell_type": "code",
   "execution_count": 94,
   "id": "a4e58112-4bc8-451a-939f-84f5d48c7869",
   "metadata": {},
   "outputs": [],
   "source": [
    "@everywhere begin\n",
    "    using Random\n",
    "    using LinearAlgebra\n",
    "    using Optim\n",
    "    using DelimitedFiles\n",
    "    \n",
    "    ## Include the source code of BulkLMM to be tested:\n",
    "    include(\"../src/scan.jl\");\n",
    "    include(\"../src/lmm.jl\");\n",
    "    include(\"../src/wls.jl\");\n",
    "    include(\"../src/util.jl\");\n",
    "    include(\"../src/kinship.jl\");\n",
    "    include(\"../src/readData.jl\");\n",
    "    include(\"../src/scan_for_tests.jl\")\n",
    "    include(\"../src/scan_distributed.jl\")\n",
    "\n",
    "end"
   ]
  },
  {
   "cell_type": "code",
   "execution_count": 95,
   "id": "946810d5-3940-4ea9-af22-5e0381b15f97",
   "metadata": {},
   "outputs": [],
   "source": [
    "@everywhere begin \n",
    "    pheno_file = \"../data/bxdData/BXDtraits.csv\"\n",
    "    pheno = readBXDpheno(pheno_file);\n",
    "    geno_file = \"../data/bxdData/BXDgeno_prob.csv\"\n",
    "    geno = readGenoProb_ExcludeComplements(geno_file);\n",
    "\n",
    "    kinship = calcKinship(geno); # calculate kinship matrix from genotype data\n",
    "end"
   ]
  },
  {
   "cell_type": "code",
   "execution_count": 96,
   "id": "b92e495f-4b8d-4918-a356-9f3ad38b91da",
   "metadata": {},
   "outputs": [
    {
     "data": {
      "text/plain": [
       "3-element Vector{Int64}:\n",
       " 1\n",
       " 2\n",
       " 3"
      ]
     },
     "execution_count": 96,
     "metadata": {},
     "output_type": "execute_result"
    }
   ],
   "source": [
    "procs()"
   ]
  },
  {
   "cell_type": "code",
   "execution_count": 97,
   "id": "55b94089-413c-4d9a-9390-0659540848f8",
   "metadata": {},
   "outputs": [],
   "source": [
    "# rmprocs([2, 3, 4, 5, 6, 7, 8, 9, 10])"
   ]
  },
  {
   "cell_type": "code",
   "execution_count": 98,
   "id": "04c55e2e-9a2f-4426-a373-eb9aa2ef483b",
   "metadata": {},
   "outputs": [],
   "source": [
    "disLoops_y0 = @distributed (hcat) for i = 1:10\n",
    "    rotateData(pheno_y, geno, kinship)[1]\n",
    "end\n",
    "\n",
    "first_dis_col = disLoops_y0[:, 1];\n"
   ]
  },
  {
   "cell_type": "code",
   "execution_count": 99,
   "id": "f87da9cb-a31a-426a-b46e-9f3f227b050d",
   "metadata": {},
   "outputs": [
    {
     "data": {
      "text/plain": [
       "79×10 Matrix{Float64}:\n",
       " 0.0  0.0  0.0  0.0  0.0  0.0  0.0  0.0  0.0  0.0\n",
       " 0.0  0.0  0.0  0.0  0.0  0.0  0.0  0.0  0.0  0.0\n",
       " 0.0  0.0  0.0  0.0  0.0  0.0  0.0  0.0  0.0  0.0\n",
       " 0.0  0.0  0.0  0.0  0.0  0.0  0.0  0.0  0.0  0.0\n",
       " 0.0  0.0  0.0  0.0  0.0  0.0  0.0  0.0  0.0  0.0\n",
       " 0.0  0.0  0.0  0.0  0.0  0.0  0.0  0.0  0.0  0.0\n",
       " 0.0  0.0  0.0  0.0  0.0  0.0  0.0  0.0  0.0  0.0\n",
       " 0.0  0.0  0.0  0.0  0.0  0.0  0.0  0.0  0.0  0.0\n",
       " 0.0  0.0  0.0  0.0  0.0  0.0  0.0  0.0  0.0  0.0\n",
       " 0.0  0.0  0.0  0.0  0.0  0.0  0.0  0.0  0.0  0.0\n",
       " 0.0  0.0  0.0  0.0  0.0  0.0  0.0  0.0  0.0  0.0\n",
       " 0.0  0.0  0.0  0.0  0.0  0.0  0.0  0.0  0.0  0.0\n",
       " 0.0  0.0  0.0  0.0  0.0  0.0  0.0  0.0  0.0  0.0\n",
       " ⋮                        ⋮                   \n",
       " 0.0  0.0  0.0  0.0  0.0  0.0  0.0  0.0  0.0  0.0\n",
       " 0.0  0.0  0.0  0.0  0.0  0.0  0.0  0.0  0.0  0.0\n",
       " 0.0  0.0  0.0  0.0  0.0  0.0  0.0  0.0  0.0  0.0\n",
       " 0.0  0.0  0.0  0.0  0.0  0.0  0.0  0.0  0.0  0.0\n",
       " 0.0  0.0  0.0  0.0  0.0  0.0  0.0  0.0  0.0  0.0\n",
       " 0.0  0.0  0.0  0.0  0.0  0.0  0.0  0.0  0.0  0.0\n",
       " 0.0  0.0  0.0  0.0  0.0  0.0  0.0  0.0  0.0  0.0\n",
       " 0.0  0.0  0.0  0.0  0.0  0.0  0.0  0.0  0.0  0.0\n",
       " 0.0  0.0  0.0  0.0  0.0  0.0  0.0  0.0  0.0  0.0\n",
       " 0.0  0.0  0.0  0.0  0.0  0.0  0.0  0.0  0.0  0.0\n",
       " 0.0  0.0  0.0  0.0  0.0  0.0  0.0  0.0  0.0  0.0\n",
       " 0.0  0.0  0.0  0.0  0.0  0.0  0.0  0.0  0.0  0.0"
      ]
     },
     "execution_count": 99,
     "metadata": {},
     "output_type": "execute_result"
    }
   ],
   "source": [
    "test_dis_list = mapslices(x -> x .- first_dis_col, disLoops_y0; dims = 1);\n",
    "test_dis_list"
   ]
  },
  {
   "cell_type": "code",
   "execution_count": 100,
   "id": "c6e7e522-5fff-46d1-b442-83679e1a1239",
   "metadata": {},
   "outputs": [
    {
     "ename": "LoadError",
     "evalue": "UndefVarError: pmaps_y0 not defined",
     "output_type": "error",
     "traceback": [
      "UndefVarError: pmaps_y0 not defined",
      "",
      "Stacktrace:",
      " [1] top-level scope",
      "   @ :0",
      " [2] eval",
      "   @ ./boot.jl:360 [inlined]",
      " [3] include_string(mapexpr::typeof(REPL.softscope), mod::Module, code::String, filename::String)",
      "   @ Base ./loading.jl:1116"
     ]
    }
   ],
   "source": [
    "pmaps_y0"
   ]
  },
  {
   "cell_type": "code",
   "execution_count": 101,
   "id": "b101bb2b-f881-47f5-af95-20031f4393f8",
   "metadata": {},
   "outputs": [
    {
     "data": {
      "text/plain": [
       "15×6 Matrix{Float64}:\n",
       " -0.154545     -0.154545     -0.154545     …  -0.154545     -0.154545\n",
       " -0.535436     -0.535436     -0.535436        -0.535436     -0.535436\n",
       "  0.533096      0.533096      0.533096         0.533096      0.533096\n",
       " -0.369575     -0.369575     -0.369575        -0.369575     -0.369575\n",
       "  0.593334      0.593334      0.593334         0.593334      0.593334\n",
       "  0.158392      0.158392      0.158392     …   0.158392      0.158392\n",
       "  0.185084      0.185084      0.185084         0.185084      0.185084\n",
       " -0.0298419    -0.0298419    -0.0298419       -0.0298419    -0.0298419\n",
       " -0.340062     -0.340062     -0.340062        -0.340062     -0.340062\n",
       " -0.348007     -0.348007     -0.348007        -0.348007     -0.348007\n",
       "  0.000307749   0.000307749   0.000307749  …   0.000307749   0.000307749\n",
       "  0.101604      0.101604      0.101604         0.101604      0.101604\n",
       " -0.0267104    -0.0267104    -0.0267104       -0.0267104    -0.0267104\n",
       "  0.236609      0.236609      0.236609         0.236609      0.236609\n",
       " -0.481962     -0.481962     -0.481962        -0.481962     -0.481962"
      ]
     },
     "execution_count": 101,
     "metadata": {},
     "output_type": "execute_result"
    }
   ],
   "source": [
    "Loops_y0[1:15, 1:6]"
   ]
  },
  {
   "cell_type": "code",
   "execution_count": 102,
   "id": "f2aa9c07-eef9-4afe-b606-6995796cc30e",
   "metadata": {},
   "outputs": [
    {
     "data": {
      "text/plain": [
       "15×6 Matrix{Float64}:\n",
       " -0.154545     -0.154545     -0.154545     …  -0.154545     -0.154545\n",
       " -0.535436     -0.535436     -0.535436        -0.535436     -0.535436\n",
       " -0.533096     -0.533096     -0.533096        -0.533096     -0.533096\n",
       " -0.369575     -0.369575     -0.369575        -0.369575     -0.369575\n",
       "  0.593334      0.593334      0.593334         0.593334      0.593334\n",
       "  0.158392      0.158392      0.158392     …   0.158392      0.158392\n",
       " -0.185084     -0.185084     -0.185084        -0.185084     -0.185084\n",
       "  0.0298419     0.0298419     0.0298419        0.0298419     0.0298419\n",
       " -0.340062     -0.340062     -0.340062        -0.340062     -0.340062\n",
       " -0.348007     -0.348007     -0.348007        -0.348007     -0.348007\n",
       "  0.000307749   0.000307749   0.000307749  …   0.000307749   0.000307749\n",
       "  0.101604      0.101604      0.101604         0.101604      0.101604\n",
       "  0.0267104     0.0267104     0.0267104        0.0267104     0.0267104\n",
       " -0.236609     -0.236609     -0.236609        -0.236609     -0.236609\n",
       " -0.481962     -0.481962     -0.481962        -0.481962     -0.481962"
      ]
     },
     "execution_count": 102,
     "metadata": {},
     "output_type": "execute_result"
    }
   ],
   "source": [
    "disLoops_y0[1:15, 1:6]"
   ]
  },
  {
   "cell_type": "code",
   "execution_count": 103,
   "id": "d466472f-37d6-4b7b-9205-d8ad815adb7f",
   "metadata": {},
   "outputs": [
    {
     "data": {
      "image/svg+xml": [
       "<?xml version=\"1.0\" encoding=\"utf-8\"?>\n",
       "<svg xmlns=\"http://www.w3.org/2000/svg\" xmlns:xlink=\"http://www.w3.org/1999/xlink\" width=\"600\" height=\"400\" viewBox=\"0 0 2400 1600\">\n",
       "<defs>\n",
       "  <clipPath id=\"clip710\">\n",
       "    <rect x=\"0\" y=\"0\" width=\"2400\" height=\"1600\"/>\n",
       "  </clipPath>\n",
       "</defs>\n",
       "<path clip-path=\"url(#clip710)\" d=\"\n",
       "M0 1600 L2400 1600 L2400 0 L0 0  Z\n",
       "  \" fill=\"#ffffff\" fill-rule=\"evenodd\" fill-opacity=\"1\"/>\n",
       "<defs>\n",
       "  <clipPath id=\"clip711\">\n",
       "    <rect x=\"480\" y=\"0\" width=\"1681\" height=\"1600\"/>\n",
       "  </clipPath>\n",
       "</defs>\n",
       "<path clip-path=\"url(#clip710)\" d=\"\n",
       "M224.098 1486.45 L2352.76 1486.45 L2352.76 47.2441 L224.098 47.2441  Z\n",
       "  \" fill=\"#ffffff\" fill-rule=\"evenodd\" fill-opacity=\"1\"/>\n",
       "<defs>\n",
       "  <clipPath id=\"clip712\">\n",
       "    <rect x=\"224\" y=\"47\" width=\"2130\" height=\"1440\"/>\n",
       "  </clipPath>\n",
       "</defs>\n",
       "<polyline clip-path=\"url(#clip712)\" style=\"stroke:#000000; stroke-linecap:butt; stroke-linejoin:round; stroke-width:2; stroke-opacity:0.1; fill:none\" points=\"\n",
       "  427.783,1486.45 427.783,47.2441 \n",
       "  \"/>\n",
       "<polyline clip-path=\"url(#clip712)\" style=\"stroke:#000000; stroke-linecap:butt; stroke-linejoin:round; stroke-width:2; stroke-opacity:0.1; fill:none\" points=\"\n",
       "  714.665,1486.45 714.665,47.2441 \n",
       "  \"/>\n",
       "<polyline clip-path=\"url(#clip712)\" style=\"stroke:#000000; stroke-linecap:butt; stroke-linejoin:round; stroke-width:2; stroke-opacity:0.1; fill:none\" points=\"\n",
       "  1001.55,1486.45 1001.55,47.2441 \n",
       "  \"/>\n",
       "<polyline clip-path=\"url(#clip712)\" style=\"stroke:#000000; stroke-linecap:butt; stroke-linejoin:round; stroke-width:2; stroke-opacity:0.1; fill:none\" points=\"\n",
       "  1288.43,1486.45 1288.43,47.2441 \n",
       "  \"/>\n",
       "<polyline clip-path=\"url(#clip712)\" style=\"stroke:#000000; stroke-linecap:butt; stroke-linejoin:round; stroke-width:2; stroke-opacity:0.1; fill:none\" points=\"\n",
       "  1575.31,1486.45 1575.31,47.2441 \n",
       "  \"/>\n",
       "<polyline clip-path=\"url(#clip712)\" style=\"stroke:#000000; stroke-linecap:butt; stroke-linejoin:round; stroke-width:2; stroke-opacity:0.1; fill:none\" points=\"\n",
       "  1862.19,1486.45 1862.19,47.2441 \n",
       "  \"/>\n",
       "<polyline clip-path=\"url(#clip712)\" style=\"stroke:#000000; stroke-linecap:butt; stroke-linejoin:round; stroke-width:2; stroke-opacity:0.1; fill:none\" points=\"\n",
       "  2149.07,1486.45 2149.07,47.2441 \n",
       "  \"/>\n",
       "<polyline clip-path=\"url(#clip710)\" style=\"stroke:#000000; stroke-linecap:butt; stroke-linejoin:round; stroke-width:4; stroke-opacity:1; fill:none\" points=\"\n",
       "  224.098,1486.45 2352.76,1486.45 \n",
       "  \"/>\n",
       "<polyline clip-path=\"url(#clip710)\" style=\"stroke:#000000; stroke-linecap:butt; stroke-linejoin:round; stroke-width:4; stroke-opacity:1; fill:none\" points=\"\n",
       "  427.783,1486.45 427.783,1467.55 \n",
       "  \"/>\n",
       "<polyline clip-path=\"url(#clip710)\" style=\"stroke:#000000; stroke-linecap:butt; stroke-linejoin:round; stroke-width:4; stroke-opacity:1; fill:none\" points=\"\n",
       "  714.665,1486.45 714.665,1467.55 \n",
       "  \"/>\n",
       "<polyline clip-path=\"url(#clip710)\" style=\"stroke:#000000; stroke-linecap:butt; stroke-linejoin:round; stroke-width:4; stroke-opacity:1; fill:none\" points=\"\n",
       "  1001.55,1486.45 1001.55,1467.55 \n",
       "  \"/>\n",
       "<polyline clip-path=\"url(#clip710)\" style=\"stroke:#000000; stroke-linecap:butt; stroke-linejoin:round; stroke-width:4; stroke-opacity:1; fill:none\" points=\"\n",
       "  1288.43,1486.45 1288.43,1467.55 \n",
       "  \"/>\n",
       "<polyline clip-path=\"url(#clip710)\" style=\"stroke:#000000; stroke-linecap:butt; stroke-linejoin:round; stroke-width:4; stroke-opacity:1; fill:none\" points=\"\n",
       "  1575.31,1486.45 1575.31,1467.55 \n",
       "  \"/>\n",
       "<polyline clip-path=\"url(#clip710)\" style=\"stroke:#000000; stroke-linecap:butt; stroke-linejoin:round; stroke-width:4; stroke-opacity:1; fill:none\" points=\"\n",
       "  1862.19,1486.45 1862.19,1467.55 \n",
       "  \"/>\n",
       "<polyline clip-path=\"url(#clip710)\" style=\"stroke:#000000; stroke-linecap:butt; stroke-linejoin:round; stroke-width:4; stroke-opacity:1; fill:none\" points=\"\n",
       "  2149.07,1486.45 2149.07,1467.55 \n",
       "  \"/>\n",
       "<path clip-path=\"url(#clip710)\" d=\"M422.436 1543.18 L438.756 1543.18 L438.756 1547.12 L416.811 1547.12 L416.811 1543.18 Q419.473 1540.43 424.057 1535.8 Q428.663 1531.15 429.844 1529.81 Q432.089 1527.28 432.969 1525.55 Q433.871 1523.79 433.871 1522.1 Q433.871 1519.34 431.927 1517.61 Q430.006 1515.87 426.904 1515.87 Q424.705 1515.87 422.251 1516.63 Q419.821 1517.4 417.043 1518.95 L417.043 1514.23 Q419.867 1513.09 422.321 1512.51 Q424.774 1511.93 426.811 1511.93 Q432.182 1511.93 435.376 1514.62 Q438.57 1517.31 438.57 1521.8 Q438.57 1523.93 437.76 1525.85 Q436.973 1527.74 434.867 1530.34 Q434.288 1531.01 431.186 1534.23 Q428.084 1537.42 422.436 1543.18 Z\" fill=\"#000000\" fill-rule=\"evenodd\" fill-opacity=\"1\" /><path clip-path=\"url(#clip710)\" d=\"M717.674 1516.63 L705.868 1535.08 L717.674 1535.08 L717.674 1516.63 M716.447 1512.56 L722.327 1512.56 L722.327 1535.08 L727.257 1535.08 L727.257 1538.97 L722.327 1538.97 L722.327 1547.12 L717.674 1547.12 L717.674 1538.97 L702.072 1538.97 L702.072 1534.46 L716.447 1512.56 Z\" fill=\"#000000\" fill-rule=\"evenodd\" fill-opacity=\"1\" /><path clip-path=\"url(#clip710)\" d=\"M1001.95 1527.98 Q998.803 1527.98 996.951 1530.13 Q995.122 1532.28 995.122 1536.03 Q995.122 1539.76 996.951 1541.93 Q998.803 1544.09 1001.95 1544.09 Q1005.1 1544.09 1006.93 1541.93 Q1008.78 1539.76 1008.78 1536.03 Q1008.78 1532.28 1006.93 1530.13 Q1005.1 1527.98 1001.95 1527.98 M1011.23 1513.32 L1011.23 1517.58 Q1009.47 1516.75 1007.67 1516.31 Q1005.89 1515.87 1004.13 1515.87 Q999.497 1515.87 997.043 1519 Q994.613 1522.12 994.266 1528.44 Q995.631 1526.43 997.692 1525.36 Q999.752 1524.27 1002.23 1524.27 Q1007.44 1524.27 1010.45 1527.44 Q1013.48 1530.59 1013.48 1536.03 Q1013.48 1541.36 1010.33 1544.57 Q1007.18 1547.79 1001.95 1547.79 Q995.956 1547.79 992.784 1543.21 Q989.613 1538.6 989.613 1529.87 Q989.613 1521.68 993.502 1516.82 Q997.391 1511.93 1003.94 1511.93 Q1005.7 1511.93 1007.48 1512.28 Q1009.29 1512.63 1011.23 1513.32 Z\" fill=\"#000000\" fill-rule=\"evenodd\" fill-opacity=\"1\" /><path clip-path=\"url(#clip710)\" d=\"M1288.43 1530.71 Q1285.09 1530.71 1283.17 1532.49 Q1281.27 1534.27 1281.27 1537.4 Q1281.27 1540.52 1283.17 1542.31 Q1285.09 1544.09 1288.43 1544.09 Q1291.76 1544.09 1293.68 1542.31 Q1295.6 1540.5 1295.6 1537.4 Q1295.6 1534.27 1293.68 1532.49 Q1291.78 1530.71 1288.43 1530.71 M1283.75 1528.72 Q1280.74 1527.98 1279.05 1525.92 Q1277.39 1523.86 1277.39 1520.89 Q1277.39 1516.75 1280.33 1514.34 Q1283.29 1511.93 1288.43 1511.93 Q1293.59 1511.93 1296.53 1514.34 Q1299.47 1516.75 1299.47 1520.89 Q1299.47 1523.86 1297.78 1525.92 Q1296.11 1527.98 1293.13 1528.72 Q1296.51 1529.5 1298.38 1531.8 Q1300.28 1534.09 1300.28 1537.4 Q1300.28 1542.42 1297.2 1545.11 Q1294.14 1547.79 1288.43 1547.79 Q1282.71 1547.79 1279.63 1545.11 Q1276.58 1542.42 1276.58 1537.4 Q1276.58 1534.09 1278.47 1531.8 Q1280.37 1529.5 1283.75 1528.72 M1282.04 1521.33 Q1282.04 1524.02 1283.7 1525.52 Q1285.39 1527.03 1288.43 1527.03 Q1291.44 1527.03 1293.13 1525.52 Q1294.84 1524.02 1294.84 1521.33 Q1294.84 1518.65 1293.13 1517.14 Q1291.44 1515.64 1288.43 1515.64 Q1285.39 1515.64 1283.7 1517.14 Q1282.04 1518.65 1282.04 1521.33 Z\" fill=\"#000000\" fill-rule=\"evenodd\" fill-opacity=\"1\" /><path clip-path=\"url(#clip710)\" d=\"M1550 1543.18 L1557.63 1543.18 L1557.63 1516.82 L1549.32 1518.49 L1549.32 1514.23 L1557.59 1512.56 L1562.26 1512.56 L1562.26 1543.18 L1569.9 1543.18 L1569.9 1547.12 L1550 1547.12 L1550 1543.18 Z\" fill=\"#000000\" fill-rule=\"evenodd\" fill-opacity=\"1\" /><path clip-path=\"url(#clip710)\" d=\"M1589.35 1515.64 Q1585.74 1515.64 1583.91 1519.2 Q1582.1 1522.75 1582.1 1529.87 Q1582.1 1536.98 1583.91 1540.55 Q1585.74 1544.09 1589.35 1544.09 Q1592.98 1544.09 1594.79 1540.55 Q1596.62 1536.98 1596.62 1529.87 Q1596.62 1522.75 1594.79 1519.2 Q1592.98 1515.64 1589.35 1515.64 M1589.35 1511.93 Q1595.16 1511.93 1598.21 1516.54 Q1601.29 1521.12 1601.29 1529.87 Q1601.29 1538.6 1598.21 1543.21 Q1595.16 1547.79 1589.35 1547.79 Q1583.54 1547.79 1580.46 1543.21 Q1577.4 1538.6 1577.4 1529.87 Q1577.4 1521.12 1580.46 1516.54 Q1583.54 1511.93 1589.35 1511.93 Z\" fill=\"#000000\" fill-rule=\"evenodd\" fill-opacity=\"1\" /><path clip-path=\"url(#clip710)\" d=\"M1837.68 1543.18 L1845.31 1543.18 L1845.31 1516.82 L1837 1518.49 L1837 1514.23 L1845.27 1512.56 L1849.94 1512.56 L1849.94 1543.18 L1857.58 1543.18 L1857.58 1547.12 L1837.68 1547.12 L1837.68 1543.18 Z\" fill=\"#000000\" fill-rule=\"evenodd\" fill-opacity=\"1\" /><path clip-path=\"url(#clip710)\" d=\"M1871.05 1543.18 L1887.37 1543.18 L1887.37 1547.12 L1865.43 1547.12 L1865.43 1543.18 Q1868.09 1540.43 1872.68 1535.8 Q1877.28 1531.15 1878.46 1529.81 Q1880.71 1527.28 1881.59 1525.55 Q1882.49 1523.79 1882.49 1522.1 Q1882.49 1519.34 1880.55 1517.61 Q1878.62 1515.87 1875.52 1515.87 Q1873.32 1515.87 1870.87 1516.63 Q1868.44 1517.4 1865.66 1518.95 L1865.66 1514.23 Q1868.49 1513.09 1870.94 1512.51 Q1873.39 1511.93 1875.43 1511.93 Q1880.8 1511.93 1883.99 1514.62 Q1887.19 1517.31 1887.19 1521.8 Q1887.19 1523.93 1886.38 1525.85 Q1885.59 1527.74 1883.49 1530.34 Q1882.91 1531.01 1879.8 1534.23 Q1876.7 1537.42 1871.05 1543.18 Z\" fill=\"#000000\" fill-rule=\"evenodd\" fill-opacity=\"1\" /><path clip-path=\"url(#clip710)\" d=\"M2123.51 1543.18 L2131.15 1543.18 L2131.15 1516.82 L2122.84 1518.49 L2122.84 1514.23 L2131.11 1512.56 L2135.78 1512.56 L2135.78 1543.18 L2143.42 1543.18 L2143.42 1547.12 L2123.51 1547.12 L2123.51 1543.18 Z\" fill=\"#000000\" fill-rule=\"evenodd\" fill-opacity=\"1\" /><path clip-path=\"url(#clip710)\" d=\"M2165.71 1516.63 L2153.91 1535.08 L2165.71 1535.08 L2165.71 1516.63 M2164.49 1512.56 L2170.37 1512.56 L2170.37 1535.08 L2175.3 1535.08 L2175.3 1538.97 L2170.37 1538.97 L2170.37 1547.12 L2165.71 1547.12 L2165.71 1538.97 L2150.11 1538.97 L2150.11 1534.46 L2164.49 1512.56 Z\" fill=\"#000000\" fill-rule=\"evenodd\" fill-opacity=\"1\" /><polyline clip-path=\"url(#clip712)\" style=\"stroke:#000000; stroke-linecap:butt; stroke-linejoin:round; stroke-width:2; stroke-opacity:0.1; fill:none\" points=\"\n",
       "  224.098,1403.09 2352.76,1403.09 \n",
       "  \"/>\n",
       "<polyline clip-path=\"url(#clip712)\" style=\"stroke:#000000; stroke-linecap:butt; stroke-linejoin:round; stroke-width:2; stroke-opacity:0.1; fill:none\" points=\"\n",
       "  224.098,1102.38 2352.76,1102.38 \n",
       "  \"/>\n",
       "<polyline clip-path=\"url(#clip712)\" style=\"stroke:#000000; stroke-linecap:butt; stroke-linejoin:round; stroke-width:2; stroke-opacity:0.1; fill:none\" points=\"\n",
       "  224.098,801.667 2352.76,801.667 \n",
       "  \"/>\n",
       "<polyline clip-path=\"url(#clip712)\" style=\"stroke:#000000; stroke-linecap:butt; stroke-linejoin:round; stroke-width:2; stroke-opacity:0.1; fill:none\" points=\"\n",
       "  224.098,500.955 2352.76,500.955 \n",
       "  \"/>\n",
       "<polyline clip-path=\"url(#clip712)\" style=\"stroke:#000000; stroke-linecap:butt; stroke-linejoin:round; stroke-width:2; stroke-opacity:0.1; fill:none\" points=\"\n",
       "  224.098,200.243 2352.76,200.243 \n",
       "  \"/>\n",
       "<polyline clip-path=\"url(#clip710)\" style=\"stroke:#000000; stroke-linecap:butt; stroke-linejoin:round; stroke-width:4; stroke-opacity:1; fill:none\" points=\"\n",
       "  224.098,1486.45 224.098,47.2441 \n",
       "  \"/>\n",
       "<polyline clip-path=\"url(#clip710)\" style=\"stroke:#000000; stroke-linecap:butt; stroke-linejoin:round; stroke-width:4; stroke-opacity:1; fill:none\" points=\"\n",
       "  224.098,1403.09 242.996,1403.09 \n",
       "  \"/>\n",
       "<polyline clip-path=\"url(#clip710)\" style=\"stroke:#000000; stroke-linecap:butt; stroke-linejoin:round; stroke-width:4; stroke-opacity:1; fill:none\" points=\"\n",
       "  224.098,1102.38 242.996,1102.38 \n",
       "  \"/>\n",
       "<polyline clip-path=\"url(#clip710)\" style=\"stroke:#000000; stroke-linecap:butt; stroke-linejoin:round; stroke-width:4; stroke-opacity:1; fill:none\" points=\"\n",
       "  224.098,801.667 242.996,801.667 \n",
       "  \"/>\n",
       "<polyline clip-path=\"url(#clip710)\" style=\"stroke:#000000; stroke-linecap:butt; stroke-linejoin:round; stroke-width:4; stroke-opacity:1; fill:none\" points=\"\n",
       "  224.098,500.955 242.996,500.955 \n",
       "  \"/>\n",
       "<polyline clip-path=\"url(#clip710)\" style=\"stroke:#000000; stroke-linecap:butt; stroke-linejoin:round; stroke-width:4; stroke-opacity:1; fill:none\" points=\"\n",
       "  224.098,200.243 242.996,200.243 \n",
       "  \"/>\n",
       "<path clip-path=\"url(#clip710)\" d=\"M50.9921 1403.54 L80.6679 1403.54 L80.6679 1407.48 L50.9921 1407.48 L50.9921 1403.54 Z\" fill=\"#000000\" fill-rule=\"evenodd\" fill-opacity=\"1\" /><path clip-path=\"url(#clip710)\" d=\"M100.76 1388.89 Q97.1493 1388.89 95.3206 1392.45 Q93.515 1396 93.515 1403.13 Q93.515 1410.23 95.3206 1413.8 Q97.1493 1417.34 100.76 1417.34 Q104.395 1417.34 106.2 1413.8 Q108.029 1410.23 108.029 1403.13 Q108.029 1396 106.2 1392.45 Q104.395 1388.89 100.76 1388.89 M100.76 1385.19 Q106.571 1385.19 109.626 1389.79 Q112.705 1394.38 112.705 1403.13 Q112.705 1411.85 109.626 1416.46 Q106.571 1421.04 100.76 1421.04 Q94.9502 1421.04 91.8715 1416.46 Q88.816 1411.85 88.816 1403.13 Q88.816 1394.38 91.8715 1389.79 Q94.9502 1385.19 100.76 1385.19 Z\" fill=\"#000000\" fill-rule=\"evenodd\" fill-opacity=\"1\" /><path clip-path=\"url(#clip710)\" d=\"M120.922 1414.49 L125.807 1414.49 L125.807 1420.37 L120.922 1420.37 L120.922 1414.49 Z\" fill=\"#000000\" fill-rule=\"evenodd\" fill-opacity=\"1\" /><path clip-path=\"url(#clip710)\" d=\"M136.038 1385.81 L154.394 1385.81 L154.394 1389.75 L140.32 1389.75 L140.32 1398.22 Q141.339 1397.87 142.357 1397.71 Q143.376 1397.52 144.394 1397.52 Q150.181 1397.52 153.561 1400.7 Q156.941 1403.87 156.941 1409.28 Q156.941 1414.86 153.468 1417.96 Q149.996 1421.04 143.677 1421.04 Q141.501 1421.04 139.232 1420.67 Q136.987 1420.3 134.58 1419.56 L134.58 1414.86 Q136.663 1416 138.885 1416.55 Q141.107 1417.11 143.584 1417.11 Q147.589 1417.11 149.927 1415 Q152.265 1412.89 152.265 1409.28 Q152.265 1405.67 149.927 1403.57 Q147.589 1401.46 143.584 1401.46 Q141.709 1401.46 139.834 1401.88 Q137.982 1402.29 136.038 1403.17 L136.038 1385.81 Z\" fill=\"#000000\" fill-rule=\"evenodd\" fill-opacity=\"1\" /><path clip-path=\"url(#clip710)\" d=\"M176.153 1388.89 Q172.542 1388.89 170.714 1392.45 Q168.908 1396 168.908 1403.13 Q168.908 1410.23 170.714 1413.8 Q172.542 1417.34 176.153 1417.34 Q179.788 1417.34 181.593 1413.8 Q183.422 1410.23 183.422 1403.13 Q183.422 1396 181.593 1392.45 Q179.788 1388.89 176.153 1388.89 M176.153 1385.19 Q181.964 1385.19 185.019 1389.79 Q188.098 1394.38 188.098 1403.13 Q188.098 1411.85 185.019 1416.46 Q181.964 1421.04 176.153 1421.04 Q170.343 1421.04 167.265 1416.46 Q164.209 1411.85 164.209 1403.13 Q164.209 1394.38 167.265 1389.79 Q170.343 1385.19 176.153 1385.19 Z\" fill=\"#000000\" fill-rule=\"evenodd\" fill-opacity=\"1\" /><path clip-path=\"url(#clip710)\" d=\"M51.9875 1102.83 L81.6633 1102.83 L81.6633 1106.77 L51.9875 1106.77 L51.9875 1102.83 Z\" fill=\"#000000\" fill-rule=\"evenodd\" fill-opacity=\"1\" /><path clip-path=\"url(#clip710)\" d=\"M101.756 1088.18 Q98.1447 1088.18 96.316 1091.74 Q94.5104 1095.28 94.5104 1102.41 Q94.5104 1109.52 96.316 1113.09 Q98.1447 1116.63 101.756 1116.63 Q105.39 1116.63 107.196 1113.09 Q109.024 1109.52 109.024 1102.41 Q109.024 1095.28 107.196 1091.74 Q105.39 1088.18 101.756 1088.18 M101.756 1084.47 Q107.566 1084.47 110.621 1089.08 Q113.7 1093.66 113.7 1102.41 Q113.7 1111.14 110.621 1115.75 Q107.566 1120.33 101.756 1120.33 Q95.9456 1120.33 92.8669 1115.75 Q89.8114 1111.14 89.8114 1102.41 Q89.8114 1093.66 92.8669 1089.08 Q95.9456 1084.47 101.756 1084.47 Z\" fill=\"#000000\" fill-rule=\"evenodd\" fill-opacity=\"1\" /><path clip-path=\"url(#clip710)\" d=\"M121.918 1113.78 L126.802 1113.78 L126.802 1119.66 L121.918 1119.66 L121.918 1113.78 Z\" fill=\"#000000\" fill-rule=\"evenodd\" fill-opacity=\"1\" /><path clip-path=\"url(#clip710)\" d=\"M141.015 1115.72 L157.334 1115.72 L157.334 1119.66 L135.39 1119.66 L135.39 1115.72 Q138.052 1112.97 142.635 1108.34 Q147.242 1103.69 148.422 1102.34 Q150.668 1099.82 151.547 1098.09 Q152.45 1096.33 152.45 1094.64 Q152.45 1091.88 150.505 1090.15 Q148.584 1088.41 145.482 1088.41 Q143.283 1088.41 140.83 1089.17 Q138.399 1089.94 135.621 1091.49 L135.621 1086.77 Q138.445 1085.63 140.899 1085.05 Q143.353 1084.47 145.39 1084.47 Q150.76 1084.47 153.955 1087.16 Q157.149 1089.84 157.149 1094.34 Q157.149 1096.46 156.339 1098.39 Q155.552 1100.28 153.445 1102.88 Q152.867 1103.55 149.765 1106.77 Q146.663 1109.96 141.015 1115.72 Z\" fill=\"#000000\" fill-rule=\"evenodd\" fill-opacity=\"1\" /><path clip-path=\"url(#clip710)\" d=\"M167.195 1085.1 L185.552 1085.1 L185.552 1089.03 L171.478 1089.03 L171.478 1097.51 Q172.496 1097.16 173.515 1097 Q174.533 1096.81 175.552 1096.81 Q181.339 1096.81 184.718 1099.98 Q188.098 1103.15 188.098 1108.57 Q188.098 1114.15 184.626 1117.25 Q181.153 1120.33 174.834 1120.33 Q172.658 1120.33 170.39 1119.96 Q168.144 1119.59 165.737 1118.85 L165.737 1114.15 Q167.82 1115.28 170.042 1115.84 Q172.265 1116.4 174.741 1116.4 Q178.746 1116.4 181.084 1114.29 Q183.422 1112.18 183.422 1108.57 Q183.422 1104.96 181.084 1102.85 Q178.746 1100.75 174.741 1100.75 Q172.866 1100.75 170.991 1101.16 Q169.14 1101.58 167.195 1102.46 L167.195 1085.1 Z\" fill=\"#000000\" fill-rule=\"evenodd\" fill-opacity=\"1\" /><path clip-path=\"url(#clip710)\" d=\"M100.76 787.466 Q97.1493 787.466 95.3206 791.031 Q93.515 794.572 93.515 801.702 Q93.515 808.808 95.3206 812.373 Q97.1493 815.915 100.76 815.915 Q104.395 815.915 106.2 812.373 Q108.029 808.808 108.029 801.702 Q108.029 794.572 106.2 791.031 Q104.395 787.466 100.76 787.466 M100.76 783.762 Q106.571 783.762 109.626 788.369 Q112.705 792.952 112.705 801.702 Q112.705 810.429 109.626 815.035 Q106.571 819.619 100.76 819.619 Q94.9502 819.619 91.8715 815.035 Q88.816 810.429 88.816 801.702 Q88.816 792.952 91.8715 788.369 Q94.9502 783.762 100.76 783.762 Z\" fill=\"#000000\" fill-rule=\"evenodd\" fill-opacity=\"1\" /><path clip-path=\"url(#clip710)\" d=\"M120.922 813.068 L125.807 813.068 L125.807 818.947 L120.922 818.947 L120.922 813.068 Z\" fill=\"#000000\" fill-rule=\"evenodd\" fill-opacity=\"1\" /><path clip-path=\"url(#clip710)\" d=\"M145.992 787.466 Q142.381 787.466 140.552 791.031 Q138.746 794.572 138.746 801.702 Q138.746 808.808 140.552 812.373 Q142.381 815.915 145.992 815.915 Q149.626 815.915 151.431 812.373 Q153.26 808.808 153.26 801.702 Q153.26 794.572 151.431 791.031 Q149.626 787.466 145.992 787.466 M145.992 783.762 Q151.802 783.762 154.857 788.369 Q157.936 792.952 157.936 801.702 Q157.936 810.429 154.857 815.035 Q151.802 819.619 145.992 819.619 Q140.181 819.619 137.103 815.035 Q134.047 810.429 134.047 801.702 Q134.047 792.952 137.103 788.369 Q140.181 783.762 145.992 783.762 Z\" fill=\"#000000\" fill-rule=\"evenodd\" fill-opacity=\"1\" /><path clip-path=\"url(#clip710)\" d=\"M176.153 787.466 Q172.542 787.466 170.714 791.031 Q168.908 794.572 168.908 801.702 Q168.908 808.808 170.714 812.373 Q172.542 815.915 176.153 815.915 Q179.788 815.915 181.593 812.373 Q183.422 808.808 183.422 801.702 Q183.422 794.572 181.593 791.031 Q179.788 787.466 176.153 787.466 M176.153 783.762 Q181.964 783.762 185.019 788.369 Q188.098 792.952 188.098 801.702 Q188.098 810.429 185.019 815.035 Q181.964 819.619 176.153 819.619 Q170.343 819.619 167.265 815.035 Q164.209 810.429 164.209 801.702 Q164.209 792.952 167.265 788.369 Q170.343 783.762 176.153 783.762 Z\" fill=\"#000000\" fill-rule=\"evenodd\" fill-opacity=\"1\" /><path clip-path=\"url(#clip710)\" d=\"M101.756 486.754 Q98.1447 486.754 96.316 490.319 Q94.5104 493.86 94.5104 500.99 Q94.5104 508.096 96.316 511.661 Q98.1447 515.203 101.756 515.203 Q105.39 515.203 107.196 511.661 Q109.024 508.096 109.024 500.99 Q109.024 493.86 107.196 490.319 Q105.39 486.754 101.756 486.754 M101.756 483.05 Q107.566 483.05 110.621 487.657 Q113.7 492.24 113.7 500.99 Q113.7 509.717 110.621 514.323 Q107.566 518.907 101.756 518.907 Q95.9456 518.907 92.8669 514.323 Q89.8114 509.717 89.8114 500.99 Q89.8114 492.24 92.8669 487.657 Q95.9456 483.05 101.756 483.05 Z\" fill=\"#000000\" fill-rule=\"evenodd\" fill-opacity=\"1\" /><path clip-path=\"url(#clip710)\" d=\"M121.918 512.356 L126.802 512.356 L126.802 518.235 L121.918 518.235 L121.918 512.356 Z\" fill=\"#000000\" fill-rule=\"evenodd\" fill-opacity=\"1\" /><path clip-path=\"url(#clip710)\" d=\"M141.015 514.3 L157.334 514.3 L157.334 518.235 L135.39 518.235 L135.39 514.3 Q138.052 511.546 142.635 506.916 Q147.242 502.263 148.422 500.921 Q150.668 498.397 151.547 496.661 Q152.45 494.902 152.45 493.212 Q152.45 490.458 150.505 488.722 Q148.584 486.985 145.482 486.985 Q143.283 486.985 140.83 487.749 Q138.399 488.513 135.621 490.064 L135.621 485.342 Q138.445 484.208 140.899 483.629 Q143.353 483.05 145.39 483.05 Q150.76 483.05 153.955 485.735 Q157.149 488.421 157.149 492.911 Q157.149 495.041 156.339 496.962 Q155.552 498.86 153.445 501.453 Q152.867 502.124 149.765 505.342 Q146.663 508.536 141.015 514.3 Z\" fill=\"#000000\" fill-rule=\"evenodd\" fill-opacity=\"1\" /><path clip-path=\"url(#clip710)\" d=\"M167.195 483.675 L185.552 483.675 L185.552 487.61 L171.478 487.61 L171.478 496.083 Q172.496 495.735 173.515 495.573 Q174.533 495.388 175.552 495.388 Q181.339 495.388 184.718 498.559 Q188.098 501.731 188.098 507.147 Q188.098 512.726 184.626 515.828 Q181.153 518.907 174.834 518.907 Q172.658 518.907 170.39 518.536 Q168.144 518.166 165.737 517.425 L165.737 512.726 Q167.82 513.86 170.042 514.416 Q172.265 514.971 174.741 514.971 Q178.746 514.971 181.084 512.865 Q183.422 510.759 183.422 507.147 Q183.422 503.536 181.084 501.43 Q178.746 499.323 174.741 499.323 Q172.866 499.323 170.991 499.74 Q169.14 500.157 167.195 501.036 L167.195 483.675 Z\" fill=\"#000000\" fill-rule=\"evenodd\" fill-opacity=\"1\" /><path clip-path=\"url(#clip710)\" d=\"M100.76 186.042 Q97.1493 186.042 95.3206 189.607 Q93.515 193.149 93.515 200.278 Q93.515 207.385 95.3206 210.949 Q97.1493 214.491 100.76 214.491 Q104.395 214.491 106.2 210.949 Q108.029 207.385 108.029 200.278 Q108.029 193.149 106.2 189.607 Q104.395 186.042 100.76 186.042 M100.76 182.338 Q106.571 182.338 109.626 186.945 Q112.705 191.528 112.705 200.278 Q112.705 209.005 109.626 213.611 Q106.571 218.195 100.76 218.195 Q94.9502 218.195 91.8715 213.611 Q88.816 209.005 88.816 200.278 Q88.816 191.528 91.8715 186.945 Q94.9502 182.338 100.76 182.338 Z\" fill=\"#000000\" fill-rule=\"evenodd\" fill-opacity=\"1\" /><path clip-path=\"url(#clip710)\" d=\"M120.922 211.644 L125.807 211.644 L125.807 217.523 L120.922 217.523 L120.922 211.644 Z\" fill=\"#000000\" fill-rule=\"evenodd\" fill-opacity=\"1\" /><path clip-path=\"url(#clip710)\" d=\"M136.038 182.963 L154.394 182.963 L154.394 186.899 L140.32 186.899 L140.32 195.371 Q141.339 195.024 142.357 194.861 Q143.376 194.676 144.394 194.676 Q150.181 194.676 153.561 197.848 Q156.941 201.019 156.941 206.435 Q156.941 212.014 153.468 215.116 Q149.996 218.195 143.677 218.195 Q141.501 218.195 139.232 217.824 Q136.987 217.454 134.58 216.713 L134.58 212.014 Q136.663 213.148 138.885 213.704 Q141.107 214.26 143.584 214.26 Q147.589 214.26 149.927 212.153 Q152.265 210.047 152.265 206.435 Q152.265 202.824 149.927 200.718 Q147.589 198.611 143.584 198.611 Q141.709 198.611 139.834 199.028 Q137.982 199.445 136.038 200.324 L136.038 182.963 Z\" fill=\"#000000\" fill-rule=\"evenodd\" fill-opacity=\"1\" /><path clip-path=\"url(#clip710)\" d=\"M176.153 186.042 Q172.542 186.042 170.714 189.607 Q168.908 193.149 168.908 200.278 Q168.908 207.385 170.714 210.949 Q172.542 214.491 176.153 214.491 Q179.788 214.491 181.593 210.949 Q183.422 207.385 183.422 200.278 Q183.422 193.149 181.593 189.607 Q179.788 186.042 176.153 186.042 M176.153 182.338 Q181.964 182.338 185.019 186.945 Q188.098 191.528 188.098 200.278 Q188.098 209.005 185.019 213.611 Q181.964 218.195 176.153 218.195 Q170.343 218.195 167.265 213.611 Q164.209 209.005 164.209 200.278 Q164.209 191.528 167.265 186.945 Q170.343 182.338 176.153 182.338 Z\" fill=\"#000000\" fill-rule=\"evenodd\" fill-opacity=\"1\" /><circle clip-path=\"url(#clip712)\" cx=\"284.343\" cy=\"987.561\" r=\"14\" fill=\"#009af9\" fill-rule=\"evenodd\" fill-opacity=\"1\" stroke=\"#000000\" stroke-opacity=\"1\" stroke-width=\"3.2\"/>\n",
       "<circle clip-path=\"url(#clip712)\" cx=\"427.783\" cy=\"1445.72\" r=\"14\" fill=\"#009af9\" fill-rule=\"evenodd\" fill-opacity=\"1\" stroke=\"#000000\" stroke-opacity=\"1\" stroke-width=\"3.2\"/>\n",
       "<circle clip-path=\"url(#clip712)\" cx=\"571.224\" cy=\"1442.9\" r=\"14\" fill=\"#009af9\" fill-rule=\"evenodd\" fill-opacity=\"1\" stroke=\"#000000\" stroke-opacity=\"1\" stroke-width=\"3.2\"/>\n",
       "<circle clip-path=\"url(#clip712)\" cx=\"714.665\" cy=\"1246.21\" r=\"14\" fill=\"#009af9\" fill-rule=\"evenodd\" fill-opacity=\"1\" stroke=\"#000000\" stroke-opacity=\"1\" stroke-width=\"3.2\"/>\n",
       "<circle clip-path=\"url(#clip712)\" cx=\"858.105\" cy=\"87.9763\" r=\"14\" fill=\"#009af9\" fill-rule=\"evenodd\" fill-opacity=\"1\" stroke=\"#000000\" stroke-opacity=\"1\" stroke-width=\"3.2\"/>\n",
       "<circle clip-path=\"url(#clip712)\" cx=\"1001.55\" cy=\"611.146\" r=\"14\" fill=\"#009af9\" fill-rule=\"evenodd\" fill-opacity=\"1\" stroke=\"#000000\" stroke-opacity=\"1\" stroke-width=\"3.2\"/>\n",
       "<circle clip-path=\"url(#clip712)\" cx=\"1144.99\" cy=\"1024.3\" r=\"14\" fill=\"#009af9\" fill-rule=\"evenodd\" fill-opacity=\"1\" stroke=\"#000000\" stroke-opacity=\"1\" stroke-width=\"3.2\"/>\n",
       "<circle clip-path=\"url(#clip712)\" cx=\"1288.43\" cy=\"765.772\" r=\"14\" fill=\"#009af9\" fill-rule=\"evenodd\" fill-opacity=\"1\" stroke=\"#000000\" stroke-opacity=\"1\" stroke-width=\"3.2\"/>\n",
       "<circle clip-path=\"url(#clip712)\" cx=\"1431.87\" cy=\"1210.71\" r=\"14\" fill=\"#009af9\" fill-rule=\"evenodd\" fill-opacity=\"1\" stroke=\"#000000\" stroke-opacity=\"1\" stroke-width=\"3.2\"/>\n",
       "<circle clip-path=\"url(#clip712)\" cx=\"1575.31\" cy=\"1220.27\" r=\"14\" fill=\"#009af9\" fill-rule=\"evenodd\" fill-opacity=\"1\" stroke=\"#000000\" stroke-opacity=\"1\" stroke-width=\"3.2\"/>\n",
       "<circle clip-path=\"url(#clip712)\" cx=\"1718.75\" cy=\"801.297\" r=\"14\" fill=\"#009af9\" fill-rule=\"evenodd\" fill-opacity=\"1\" stroke=\"#000000\" stroke-opacity=\"1\" stroke-width=\"3.2\"/>\n",
       "<circle clip-path=\"url(#clip712)\" cx=\"1862.19\" cy=\"679.454\" r=\"14\" fill=\"#009af9\" fill-rule=\"evenodd\" fill-opacity=\"1\" stroke=\"#000000\" stroke-opacity=\"1\" stroke-width=\"3.2\"/>\n",
       "<circle clip-path=\"url(#clip712)\" cx=\"2005.63\" cy=\"769.539\" r=\"14\" fill=\"#009af9\" fill-rule=\"evenodd\" fill-opacity=\"1\" stroke=\"#000000\" stroke-opacity=\"1\" stroke-width=\"3.2\"/>\n",
       "<circle clip-path=\"url(#clip712)\" cx=\"2149.07\" cy=\"1086.27\" r=\"14\" fill=\"#009af9\" fill-rule=\"evenodd\" fill-opacity=\"1\" stroke=\"#000000\" stroke-opacity=\"1\" stroke-width=\"3.2\"/>\n",
       "<circle clip-path=\"url(#clip712)\" cx=\"2292.51\" cy=\"1381.39\" r=\"14\" fill=\"#009af9\" fill-rule=\"evenodd\" fill-opacity=\"1\" stroke=\"#000000\" stroke-opacity=\"1\" stroke-width=\"3.2\"/>\n",
       "<circle clip-path=\"url(#clip712)\" cx=\"284.343\" cy=\"987.561\" r=\"14\" fill=\"#e26f46\" fill-rule=\"evenodd\" fill-opacity=\"1\" stroke=\"#000000\" stroke-opacity=\"1\" stroke-width=\"3.2\"/>\n",
       "<circle clip-path=\"url(#clip712)\" cx=\"427.783\" cy=\"1445.72\" r=\"14\" fill=\"#e26f46\" fill-rule=\"evenodd\" fill-opacity=\"1\" stroke=\"#000000\" stroke-opacity=\"1\" stroke-width=\"3.2\"/>\n",
       "<circle clip-path=\"url(#clip712)\" cx=\"571.224\" cy=\"160.435\" r=\"14\" fill=\"#e26f46\" fill-rule=\"evenodd\" fill-opacity=\"1\" stroke=\"#000000\" stroke-opacity=\"1\" stroke-width=\"3.2\"/>\n",
       "<circle clip-path=\"url(#clip712)\" cx=\"714.665\" cy=\"1246.21\" r=\"14\" fill=\"#e26f46\" fill-rule=\"evenodd\" fill-opacity=\"1\" stroke=\"#000000\" stroke-opacity=\"1\" stroke-width=\"3.2\"/>\n",
       "<circle clip-path=\"url(#clip712)\" cx=\"858.105\" cy=\"87.9763\" r=\"14\" fill=\"#e26f46\" fill-rule=\"evenodd\" fill-opacity=\"1\" stroke=\"#000000\" stroke-opacity=\"1\" stroke-width=\"3.2\"/>\n",
       "<circle clip-path=\"url(#clip712)\" cx=\"1001.55\" cy=\"611.146\" r=\"14\" fill=\"#e26f46\" fill-rule=\"evenodd\" fill-opacity=\"1\" stroke=\"#000000\" stroke-opacity=\"1\" stroke-width=\"3.2\"/>\n",
       "<circle clip-path=\"url(#clip712)\" cx=\"1144.99\" cy=\"579.039\" r=\"14\" fill=\"#e26f46\" fill-rule=\"evenodd\" fill-opacity=\"1\" stroke=\"#000000\" stroke-opacity=\"1\" stroke-width=\"3.2\"/>\n",
       "<circle clip-path=\"url(#clip712)\" cx=\"1288.43\" cy=\"837.563\" r=\"14\" fill=\"#e26f46\" fill-rule=\"evenodd\" fill-opacity=\"1\" stroke=\"#000000\" stroke-opacity=\"1\" stroke-width=\"3.2\"/>\n",
       "<circle clip-path=\"url(#clip712)\" cx=\"1431.87\" cy=\"1210.71\" r=\"14\" fill=\"#e26f46\" fill-rule=\"evenodd\" fill-opacity=\"1\" stroke=\"#000000\" stroke-opacity=\"1\" stroke-width=\"3.2\"/>\n",
       "<circle clip-path=\"url(#clip712)\" cx=\"1575.31\" cy=\"1220.27\" r=\"14\" fill=\"#e26f46\" fill-rule=\"evenodd\" fill-opacity=\"1\" stroke=\"#000000\" stroke-opacity=\"1\" stroke-width=\"3.2\"/>\n",
       "<circle clip-path=\"url(#clip712)\" cx=\"1718.75\" cy=\"801.297\" r=\"14\" fill=\"#e26f46\" fill-rule=\"evenodd\" fill-opacity=\"1\" stroke=\"#000000\" stroke-opacity=\"1\" stroke-width=\"3.2\"/>\n",
       "<circle clip-path=\"url(#clip712)\" cx=\"1862.19\" cy=\"679.454\" r=\"14\" fill=\"#e26f46\" fill-rule=\"evenodd\" fill-opacity=\"1\" stroke=\"#000000\" stroke-opacity=\"1\" stroke-width=\"3.2\"/>\n",
       "<circle clip-path=\"url(#clip712)\" cx=\"2005.63\" cy=\"833.796\" r=\"14\" fill=\"#e26f46\" fill-rule=\"evenodd\" fill-opacity=\"1\" stroke=\"#000000\" stroke-opacity=\"1\" stroke-width=\"3.2\"/>\n",
       "<circle clip-path=\"url(#clip712)\" cx=\"2149.07\" cy=\"517.063\" r=\"14\" fill=\"#e26f46\" fill-rule=\"evenodd\" fill-opacity=\"1\" stroke=\"#000000\" stroke-opacity=\"1\" stroke-width=\"3.2\"/>\n",
       "<circle clip-path=\"url(#clip712)\" cx=\"2292.51\" cy=\"1381.39\" r=\"14\" fill=\"#e26f46\" fill-rule=\"evenodd\" fill-opacity=\"1\" stroke=\"#000000\" stroke-opacity=\"1\" stroke-width=\"3.2\"/>\n",
       "</svg>\n"
      ]
     },
     "execution_count": 103,
     "metadata": {},
     "output_type": "execute_result"
    }
   ],
   "source": [
    "scatter(disLoops_y0[1:15, 1])\n",
    "scatter!(Loops_y0[1:15, 1]; legend = false)"
   ]
  },
  {
   "cell_type": "code",
   "execution_count": 104,
   "id": "a59320ea-13fa-4d53-9db9-aee848cc2942",
   "metadata": {},
   "outputs": [
    {
     "data": {
      "text/plain": [
       "getMaxLod (generic function with 1 method)"
      ]
     },
     "execution_count": 104,
     "metadata": {},
     "output_type": "execute_result"
    }
   ],
   "source": [
    "function getMaxLod(results::Array{Float64, 2})\n",
    "    \n",
    "    return mapslices(x -> maximum(x), results; dims = 2);\n",
    "    \n",
    "end"
   ]
  },
  {
   "cell_type": "code",
   "execution_count": null,
   "id": "1b8e9fc8-9046-4261-98a6-3d9fdd4c7d40",
   "metadata": {},
   "outputs": [],
   "source": []
  },
  {
   "cell_type": "code",
   "execution_count": null,
   "id": "938556a2-1125-4dcc-bbc1-304ecc3151e9",
   "metadata": {},
   "outputs": [],
   "source": []
  }
 ],
 "metadata": {
  "kernelspec": {
   "display_name": "Julia 1.6.2",
   "language": "julia",
   "name": "julia-1.6"
  },
  "language_info": {
   "file_extension": ".jl",
   "mimetype": "application/julia",
   "name": "julia",
   "version": "1.6.2"
  }
 },
 "nbformat": 4,
 "nbformat_minor": 5
}
