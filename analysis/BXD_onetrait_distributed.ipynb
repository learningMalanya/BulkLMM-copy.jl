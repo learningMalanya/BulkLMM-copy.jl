{
 "cells": [
  {
   "cell_type": "markdown",
   "id": "be4a68e3-58ba-4c1c-8ce7-4c7215a972a8",
   "metadata": {},
   "source": [
    "## Load-in dependencies:"
   ]
  },
  {
   "cell_type": "code",
   "execution_count": 1,
   "id": "382288c7-7b8e-4371-b2b7-b983334971ef",
   "metadata": {},
   "outputs": [],
   "source": [
    "using Pkg\n",
    "# Pkg.add(\"Profile\")\n",
    "# Pkg.instantiate()"
   ]
  },
  {
   "cell_type": "code",
   "execution_count": 2,
   "id": "a42289c4-20db-4359-b1ac-e171ada4d5f4",
   "metadata": {},
   "outputs": [],
   "source": [
    "#= dependencies = [\"DelimitedFiles\", \"LinearAlgebra\", \"Optim\", \"Distributions\", \"Test\",\n",
    "                \"BenchmarkTools\", \"Random\", \"CSV\", \"DataFrames\", \"Distributed\", \"Plots\"];\n",
    "Pkg.add(dependencies)=#"
   ]
  },
  {
   "cell_type": "code",
   "execution_count": 3,
   "id": "95957479-db20-4ae3-ac09-9a317d2daa8a",
   "metadata": {},
   "outputs": [],
   "source": [
    "using DelimitedFiles\n",
    "using LinearAlgebra\n",
    "using Optim\n",
    "using Distributions\n",
    "using Test\n",
    "using BenchmarkTools\n",
    "using Random\n",
    "using CSV\n",
    "using DataFrames\n",
    "using Plots\n",
    "using Profile\n",
    "using Distributed"
   ]
  },
  {
   "cell_type": "code",
   "execution_count": 4,
   "id": "712736c0-f753-47ad-aa4b-f7a4413d6fc0",
   "metadata": {},
   "outputs": [
    {
     "data": {
      "text/plain": [
       "\"/Users/FredYu/Documents/GitHub/BulkLMM.jl/analysis\""
      ]
     },
     "execution_count": 4,
     "metadata": {},
     "output_type": "execute_result"
    }
   ],
   "source": [
    "pwd()"
   ]
  },
  {
   "cell_type": "code",
   "execution_count": 5,
   "id": "141b951c-fc60-4870-b222-befad56b9703",
   "metadata": {},
   "outputs": [],
   "source": [
    "## Include the source code of BulkLMM to be tested:\n",
    "include(\"../src/scan.jl\");\n",
    "include(\"../src/lmm.jl\");\n",
    "include(\"../src/wls.jl\");\n",
    "include(\"../src/util.jl\");\n",
    "include(\"../src/kinship.jl\");\n",
    "include(\"../src/readData.jl\");\n",
    "include(\"../src/scan_for_tests.jl\")\n",
    "include(\"../src/scan_distributed.jl\") # new function\n",
    "\n",
    "## Also include the helper functions for writing tests:\n",
    "include(\"../test/testHelper.jl\");"
   ]
  },
  {
   "cell_type": "markdown",
   "id": "9cc6f4c7-da1c-43f1-903e-fbb31c632794",
   "metadata": {},
   "source": [
    "## Read in BXD data:"
   ]
  },
  {
   "cell_type": "code",
   "execution_count": 6,
   "id": "38f6c597-0edf-4c3c-bd63-b856a5b9fe65",
   "metadata": {},
   "outputs": [],
   "source": [
    "## Read in BXD data:\n",
    "pheno_file = \"../data/bxdData/BXDtraits.csv\"\n",
    "pheno = readBXDpheno(pheno_file);\n",
    "geno_file = \"../data/bxdData/BXDgeno_prob.csv\"\n",
    "geno = readGenoProb_ExcludeComplements(geno_file);\n",
    "\n",
    "kinship = calcKinship(geno); # calculate kinship matrix from genotype data"
   ]
  },
  {
   "cell_type": "code",
   "execution_count": 7,
   "id": "1acb6c64-4e0d-4839-be95-1ad7d7b9ad0a",
   "metadata": {},
   "outputs": [],
   "source": [
    "nperms = 1024; # number of permutated copies required;\n",
    "m = size(pheno, 2);\n",
    "p = size(geno, 2); # number of markers"
   ]
  },
  {
   "cell_type": "code",
   "execution_count": 8,
   "id": "a5e5184f-9265-446a-9a48-0ce0eb7417d3",
   "metadata": {},
   "outputs": [],
   "source": [
    "## Consider the 7919-th trait\n",
    "pheno_y = reshape(pheno[:, 7919], :, 1);"
   ]
  },
  {
   "cell_type": "code",
   "execution_count": 9,
   "id": "7675ff26-c476-4eea-9f3a-60fade88ba4c",
   "metadata": {},
   "outputs": [
    {
     "name": "stderr",
     "output_type": "stream",
     "text": [
      "WARNING: using StatsBase.rss in module Main conflicts with an existing identifier.\n"
     ]
    }
   ],
   "source": [
    "using StatsBase"
   ]
  },
  {
   "cell_type": "code",
   "execution_count": 10,
   "id": "6f43f414-80a9-4854-9077-0663399a785f",
   "metadata": {},
   "outputs": [],
   "source": [
    "n_seeds = 4;"
   ]
  },
  {
   "cell_type": "code",
   "execution_count": 11,
   "id": "e29da538-2332-4781-bfd3-2d78daea3c8e",
   "metadata": {},
   "outputs": [
    {
     "data": {
      "text/plain": [
       "4-element Vector{Int64}:\n",
       " 63\n",
       " 81\n",
       "  1\n",
       " 74"
      ]
     },
     "execution_count": 11,
     "metadata": {},
     "output_type": "execute_result"
    }
   ],
   "source": [
    "seeds_list = StatsBase.sample(1:100, n_seeds; replace = false)"
   ]
  },
  {
   "cell_type": "markdown",
   "id": "7d63ff9a-50c0-46e7-92d7-9ff7240d12ba",
   "metadata": {},
   "source": [
    "## Three phases of data transformations:"
   ]
  },
  {
   "cell_type": "code",
   "execution_count": 12,
   "id": "252f9cf2-5775-4148-960b-2ee1bdbd74c1",
   "metadata": {},
   "outputs": [],
   "source": [
    "(y0, X0, lambda0) = transform1(pheno_y, geno, kinship);"
   ]
  },
  {
   "cell_type": "code",
   "execution_count": 13,
   "id": "dfc8027f-58e7-44f4-bdcb-857a73ab1027",
   "metadata": {},
   "outputs": [],
   "source": [
    "# unique(round.(lambda0; digits = 3))"
   ]
  },
  {
   "cell_type": "code",
   "execution_count": 14,
   "id": "a05ce101-8fbf-4150-b460-9ca4b28f91da",
   "metadata": {},
   "outputs": [],
   "source": [
    "(r0, X00) = transform2(y0, X0, lambda0; reml = false);"
   ]
  },
  {
   "cell_type": "code",
   "execution_count": 15,
   "id": "6a72822a-b026-4d97-b6e8-c73139978822",
   "metadata": {},
   "outputs": [],
   "source": [
    "r0perm = transform3(r0; nperms = 400, rndseed = 0, original = false);"
   ]
  },
  {
   "cell_type": "code",
   "execution_count": 16,
   "id": "89285f41-a4bc-4bf9-88b9-d61b4e8d847c",
   "metadata": {},
   "outputs": [
    {
     "data": {
      "text/plain": [
       "(79, 400)"
      ]
     },
     "execution_count": 16,
     "metadata": {},
     "output_type": "execute_result"
    }
   ],
   "source": [
    "size(r0perm)"
   ]
  },
  {
   "cell_type": "markdown",
   "id": "7711ff59-862a-44c9-9a82-ccc6190cc307",
   "metadata": {},
   "source": [
    "## Study: distribute over permutations"
   ]
  },
  {
   "cell_type": "markdown",
   "id": "06e355c8-25c3-4eac-bbda-03f50807a92a",
   "metadata": {},
   "source": [
    "### Check results:"
   ]
  },
  {
   "cell_type": "markdown",
   "id": "4e44beec-dd41-4f9a-b99d-7170aa3f8d18",
   "metadata": {},
   "source": [
    "Will the results be consistent, if we fixed the set of rotated data for further algorithm?"
   ]
  },
  {
   "cell_type": "code",
   "execution_count": 17,
   "id": "766dd6a1-e3d0-41d9-b269-a955693c61de",
   "metadata": {},
   "outputs": [],
   "source": [
    "map_results = map(x -> scan_distributed(y0, X0, lambda0; nperms = 100, rndseed = x, original = false), seeds_list);\n",
    "map_LODs = reduce(vcat, map_results);"
   ]
  },
  {
   "cell_type": "code",
   "execution_count": 18,
   "id": "d87a0750-9ab3-4826-83c9-35e4326a9385",
   "metadata": {},
   "outputs": [],
   "source": [
    "using Distributed"
   ]
  },
  {
   "cell_type": "code",
   "execution_count": 19,
   "id": "8eddfec9-ec68-49c5-9ad4-e10695f0321f",
   "metadata": {},
   "outputs": [],
   "source": [
    "# addprocs(4);"
   ]
  },
  {
   "cell_type": "code",
   "execution_count": 20,
   "id": "09bddffd-584e-4c67-b11e-23bc02c29dbc",
   "metadata": {},
   "outputs": [],
   "source": [
    "# procs()"
   ]
  },
  {
   "cell_type": "code",
   "execution_count": 21,
   "id": "8b4e841f-6fdf-4e5f-8838-f9c7adb7a941",
   "metadata": {},
   "outputs": [],
   "source": [
    "# rmprocs([2, 3])"
   ]
  },
  {
   "cell_type": "code",
   "execution_count": 22,
   "id": "3b91fc10-96f0-4a7b-93a3-240378ae556b",
   "metadata": {},
   "outputs": [
    {
     "data": {
      "text/plain": [
       "5-element Vector{Int64}:\n",
       " 1\n",
       " 2\n",
       " 3\n",
       " 4\n",
       " 5"
      ]
     },
     "execution_count": 22,
     "metadata": {},
     "output_type": "execute_result"
    }
   ],
   "source": [
    "procs()"
   ]
  },
  {
   "cell_type": "code",
   "execution_count": 23,
   "id": "ae45e99e-5ce3-453b-84bb-26c76c968b27",
   "metadata": {},
   "outputs": [],
   "source": [
    "@everywhere begin\n",
    "    using Random\n",
    "    using LinearAlgebra\n",
    "    using Optim\n",
    "    using Distributed\n",
    "    \n",
    "    ## Include the source code of BulkLMM to be tested:\n",
    "    include(\"../src/scan.jl\");\n",
    "    include(\"../src/lmm.jl\");\n",
    "    include(\"../src/wls.jl\");\n",
    "    include(\"../src/util.jl\");\n",
    "    include(\"../src/kinship.jl\");\n",
    "    include(\"../src/readData.jl\");\n",
    "    include(\"../src/scan_for_tests.jl\")\n",
    "    include(\"../src/scan_distributed.jl\")\n",
    "\n",
    "end"
   ]
  },
  {
   "cell_type": "code",
   "execution_count": 24,
   "id": "12c3e863-11bf-4dc5-9b71-ec27d05077dd",
   "metadata": {},
   "outputs": [],
   "source": [
    "pmap_results = pmap(x -> scan_distributed(y0, X0, lambda0; nperms = 100, rndseed = x, original = false), seeds_list);\n",
    "pmap_LODs = reduce(vcat, pmap_results);"
   ]
  },
  {
   "cell_type": "code",
   "execution_count": 25,
   "id": "dc7f09f3-1292-4c6d-acc0-bdc5b4456431",
   "metadata": {},
   "outputs": [
    {
     "data": {
      "text/plain": [
       "(400, 7321)"
      ]
     },
     "execution_count": 25,
     "metadata": {},
     "output_type": "execute_result"
    }
   ],
   "source": [
    "size(pmap_LODs)"
   ]
  },
  {
   "cell_type": "code",
   "execution_count": 26,
   "id": "fea8edc8-0ece-493f-a979-b999e292a28a",
   "metadata": {},
   "outputs": [
    {
     "data": {
      "text/plain": [
       "6×6 Matrix{Float64}:\n",
       " 0.0130505  0.0130505  0.0130505  0.0130505  0.0130505  0.0130505\n",
       " 0.285507   0.285507   0.285507   0.285507   0.285507   0.285507\n",
       " 0.0717116  0.0717116  0.0717116  0.0717116  0.0717116  0.0717116\n",
       " 0.375293   0.375293   0.375293   0.375293   0.375293   0.375293\n",
       " 0.0468444  0.0468444  0.0468444  0.0468444  0.0468444  0.0468444\n",
       " 0.132442   0.132442   0.132442   0.132442   0.132442   0.132442"
      ]
     },
     "execution_count": 26,
     "metadata": {},
     "output_type": "execute_result"
    }
   ],
   "source": [
    "pmap_LODs[1:6, 1:6]"
   ]
  },
  {
   "cell_type": "code",
   "execution_count": 27,
   "id": "e3d3cebf-b481-4efb-a6c9-ef8bd53614e1",
   "metadata": {},
   "outputs": [
    {
     "data": {
      "text/plain": [
       "6×6 Matrix{Float64}:\n",
       " 0.0130505  0.0130505  0.0130505  0.0130505  0.0130505  0.0130505\n",
       " 0.285507   0.285507   0.285507   0.285507   0.285507   0.285507\n",
       " 0.0717116  0.0717116  0.0717116  0.0717116  0.0717116  0.0717116\n",
       " 0.375293   0.375293   0.375293   0.375293   0.375293   0.375293\n",
       " 0.0468444  0.0468444  0.0468444  0.0468444  0.0468444  0.0468444\n",
       " 0.132442   0.132442   0.132442   0.132442   0.132442   0.132442"
      ]
     },
     "execution_count": 27,
     "metadata": {},
     "output_type": "execute_result"
    }
   ],
   "source": [
    "map_LODs[1:6, 1:6]"
   ]
  },
  {
   "cell_type": "code",
   "execution_count": 28,
   "id": "47b96d51-69e3-441c-bcb9-7010c631afa7",
   "metadata": {},
   "outputs": [
    {
     "data": {
      "text/plain": [
       "0.0"
      ]
     },
     "execution_count": 28,
     "metadata": {},
     "output_type": "execute_result"
    }
   ],
   "source": [
    "maxSqDiff(map_LODs, pmap_LODs) "
   ]
  },
  {
   "cell_type": "markdown",
   "id": "f3aaea5b-9bf0-4d7f-a34b-5f50af86a34a",
   "metadata": {},
   "source": [
    "It turned out that if we give the same set of rotated data, results will match, which implies that the inconsistency of results may only be due to the rotation process (sign ambiguity in eigendecomposition)."
   ]
  },
  {
   "cell_type": "markdown",
   "id": "4a3eef2a-1cb7-4845-8627-7c054c3a8b14",
   "metadata": {},
   "source": [
    "### Benchmarking:"
   ]
  },
  {
   "cell_type": "markdown",
   "id": "703112f2-2a89-4f87-ac34-86e3b6148963",
   "metadata": {},
   "source": [
    "map(permutations)"
   ]
  },
  {
   "cell_type": "code",
   "execution_count": 29,
   "id": "43bc38b5-374a-47e1-ab9b-c593ccd1d67e",
   "metadata": {},
   "outputs": [
    {
     "data": {
      "text/plain": [
       "BenchmarkTools.Trial: 2 samples with 1 evaluation.\n",
       " Range \u001b[90m(\u001b[39m\u001b[36m\u001b[1mmin\u001b[22m\u001b[39m … \u001b[35mmax\u001b[39m\u001b[90m):  \u001b[39m\u001b[36m\u001b[1m3.420 s\u001b[22m\u001b[39m … \u001b[35m  3.443 s\u001b[39m  \u001b[90m┊\u001b[39m GC \u001b[90m(\u001b[39mmin … max\u001b[90m): \u001b[39m18.50% … 18.60%\n",
       " Time  \u001b[90m(\u001b[39m\u001b[34m\u001b[1mmedian\u001b[22m\u001b[39m\u001b[90m):     \u001b[39m\u001b[34m\u001b[1m3.431 s              \u001b[22m\u001b[39m\u001b[90m┊\u001b[39m GC \u001b[90m(\u001b[39mmedian\u001b[90m):    \u001b[39m18.55%\n",
       " Time  \u001b[90m(\u001b[39m\u001b[32m\u001b[1mmean\u001b[22m\u001b[39m ± \u001b[32mσ\u001b[39m\u001b[90m):   \u001b[39m\u001b[32m\u001b[1m3.431 s\u001b[22m\u001b[39m ± \u001b[32m16.045 ms\u001b[39m  \u001b[90m┊\u001b[39m GC \u001b[90m(\u001b[39mmean ± σ\u001b[90m):  \u001b[39m18.55% ±  0.07%\n",
       "\n",
       "  \u001b[34m█\u001b[39m\u001b[39m \u001b[39m \u001b[39m \u001b[39m \u001b[39m \u001b[39m \u001b[39m \u001b[39m \u001b[39m \u001b[39m \u001b[39m \u001b[39m \u001b[39m \u001b[39m \u001b[39m \u001b[39m \u001b[39m \u001b[39m \u001b[39m \u001b[39m \u001b[39m \u001b[39m \u001b[39m \u001b[39m \u001b[39m \u001b[39m \u001b[39m \u001b[32m \u001b[39m\u001b[39m \u001b[39m \u001b[39m \u001b[39m \u001b[39m \u001b[39m \u001b[39m \u001b[39m \u001b[39m \u001b[39m \u001b[39m \u001b[39m \u001b[39m \u001b[39m \u001b[39m \u001b[39m \u001b[39m \u001b[39m \u001b[39m \u001b[39m \u001b[39m \u001b[39m \u001b[39m \u001b[39m \u001b[39m \u001b[39m \u001b[39m \u001b[39m█\u001b[39m \u001b[39m \n",
       "  \u001b[34m█\u001b[39m\u001b[39m▁\u001b[39m▁\u001b[39m▁\u001b[39m▁\u001b[39m▁\u001b[39m▁\u001b[39m▁\u001b[39m▁\u001b[39m▁\u001b[39m▁\u001b[39m▁\u001b[39m▁\u001b[39m▁\u001b[39m▁\u001b[39m▁\u001b[39m▁\u001b[39m▁\u001b[39m▁\u001b[39m▁\u001b[39m▁\u001b[39m▁\u001b[39m▁\u001b[39m▁\u001b[39m▁\u001b[39m▁\u001b[39m▁\u001b[39m▁\u001b[32m▁\u001b[39m\u001b[39m▁\u001b[39m▁\u001b[39m▁\u001b[39m▁\u001b[39m▁\u001b[39m▁\u001b[39m▁\u001b[39m▁\u001b[39m▁\u001b[39m▁\u001b[39m▁\u001b[39m▁\u001b[39m▁\u001b[39m▁\u001b[39m▁\u001b[39m▁\u001b[39m▁\u001b[39m▁\u001b[39m▁\u001b[39m▁\u001b[39m▁\u001b[39m▁\u001b[39m▁\u001b[39m▁\u001b[39m▁\u001b[39m▁\u001b[39m▁\u001b[39m█\u001b[39m \u001b[39m▁\n",
       "  3.42 s\u001b[90m         Histogram: frequency by time\u001b[39m        3.44 s \u001b[0m\u001b[1m<\u001b[22m\n",
       "\n",
       " Memory estimate\u001b[90m: \u001b[39m\u001b[33m5.40 GiB\u001b[39m, allocs estimate\u001b[90m: \u001b[39m\u001b[33m294897\u001b[39m."
      ]
     },
     "execution_count": 29,
     "metadata": {},
     "output_type": "execute_result"
    }
   ],
   "source": [
    "@benchmark begin\n",
    "    transform1(pheno_y, geno, kinship);\n",
    "    map(x -> scan_distributed(y0, X0, lambda0; nperms = 100, rndseed = x, original = false), seeds_list)\n",
    "end"
   ]
  },
  {
   "cell_type": "markdown",
   "id": "80b9d1bc-970c-4879-8311-17bd11d1184e",
   "metadata": {},
   "source": [
    "pmap(permutations)"
   ]
  },
  {
   "cell_type": "code",
   "execution_count": 30,
   "id": "9883cb26-df86-486d-9791-b414d3e9f9dc",
   "metadata": {},
   "outputs": [
    {
     "data": {
      "text/plain": [
       "BenchmarkTools.Trial: 5 samples with 1 evaluation.\n",
       " Range \u001b[90m(\u001b[39m\u001b[36m\u001b[1mmin\u001b[22m\u001b[39m … \u001b[35mmax\u001b[39m\u001b[90m):  \u001b[39m\u001b[36m\u001b[1m1.015 s\u001b[22m\u001b[39m … \u001b[35m  1.117 s\u001b[39m  \u001b[90m┊\u001b[39m GC \u001b[90m(\u001b[39mmin … max\u001b[90m): \u001b[39m0.00% … 0.00%\n",
       " Time  \u001b[90m(\u001b[39m\u001b[34m\u001b[1mmedian\u001b[22m\u001b[39m\u001b[90m):     \u001b[39m\u001b[34m\u001b[1m1.078 s              \u001b[22m\u001b[39m\u001b[90m┊\u001b[39m GC \u001b[90m(\u001b[39mmedian\u001b[90m):    \u001b[39m0.00%\n",
       " Time  \u001b[90m(\u001b[39m\u001b[32m\u001b[1mmean\u001b[22m\u001b[39m ± \u001b[32mσ\u001b[39m\u001b[90m):   \u001b[39m\u001b[32m\u001b[1m1.073 s\u001b[22m\u001b[39m ± \u001b[32m36.614 ms\u001b[39m  \u001b[90m┊\u001b[39m GC \u001b[90m(\u001b[39mmean ± σ\u001b[90m):  \u001b[39m0.18% ± 0.40%\n",
       "\n",
       "  \u001b[39m█\u001b[39m \u001b[39m \u001b[39m \u001b[39m \u001b[39m \u001b[39m \u001b[39m \u001b[39m \u001b[39m \u001b[39m \u001b[39m \u001b[39m \u001b[39m \u001b[39m \u001b[39m \u001b[39m \u001b[39m \u001b[39m \u001b[39m \u001b[39m \u001b[39m \u001b[39m \u001b[39m \u001b[39m \u001b[39m \u001b[39m \u001b[39m \u001b[39m \u001b[39m \u001b[39m \u001b[39m \u001b[39m \u001b[32m \u001b[39m\u001b[34m█\u001b[39m\u001b[39m█\u001b[39m█\u001b[39m \u001b[39m \u001b[39m \u001b[39m \u001b[39m \u001b[39m \u001b[39m \u001b[39m \u001b[39m \u001b[39m \u001b[39m \u001b[39m \u001b[39m \u001b[39m \u001b[39m \u001b[39m \u001b[39m \u001b[39m \u001b[39m \u001b[39m█\u001b[39m \u001b[39m \n",
       "  \u001b[39m█\u001b[39m▁\u001b[39m▁\u001b[39m▁\u001b[39m▁\u001b[39m▁\u001b[39m▁\u001b[39m▁\u001b[39m▁\u001b[39m▁\u001b[39m▁\u001b[39m▁\u001b[39m▁\u001b[39m▁\u001b[39m▁\u001b[39m▁\u001b[39m▁\u001b[39m▁\u001b[39m▁\u001b[39m▁\u001b[39m▁\u001b[39m▁\u001b[39m▁\u001b[39m▁\u001b[39m▁\u001b[39m▁\u001b[39m▁\u001b[39m▁\u001b[39m▁\u001b[39m▁\u001b[39m▁\u001b[39m▁\u001b[39m▁\u001b[32m▁\u001b[39m\u001b[34m█\u001b[39m\u001b[39m█\u001b[39m█\u001b[39m▁\u001b[39m▁\u001b[39m▁\u001b[39m▁\u001b[39m▁\u001b[39m▁\u001b[39m▁\u001b[39m▁\u001b[39m▁\u001b[39m▁\u001b[39m▁\u001b[39m▁\u001b[39m▁\u001b[39m▁\u001b[39m▁\u001b[39m▁\u001b[39m▁\u001b[39m▁\u001b[39m▁\u001b[39m█\u001b[39m \u001b[39m▁\n",
       "  110 s\u001b[90m          Histogram: frequency by time\u001b[39m        1.12 s \u001b[0m\u001b[1m<\u001b[22m\n",
       "\n",
       " Memory estimate\u001b[90m: \u001b[39m\u001b[33m31.36 MiB\u001b[39m, allocs estimate\u001b[90m: \u001b[39m\u001b[33m549\u001b[39m."
      ]
     },
     "execution_count": 30,
     "metadata": {},
     "output_type": "execute_result"
    }
   ],
   "source": [
    "@benchmark begin\n",
    "    transform1(pheno_y, geno, kinship);\n",
    "    pmap(x -> scan_distributed(y0, X0, lambda0; nperms = 100, rndseed = x, original = false), seeds_list)\n",
    "end"
   ]
  },
  {
   "cell_type": "code",
   "execution_count": 31,
   "id": "47afdcec-4ffd-476a-a0f2-6e6eef625835",
   "metadata": {},
   "outputs": [
    {
     "data": {
      "text/plain": [
       "BenchmarkTools.Trial: 2 samples with 1 evaluation.\n",
       " Range \u001b[90m(\u001b[39m\u001b[36m\u001b[1mmin\u001b[22m\u001b[39m … \u001b[35mmax\u001b[39m\u001b[90m):  \u001b[39m\u001b[36m\u001b[1m3.417 s\u001b[22m\u001b[39m … \u001b[35m  3.480 s\u001b[39m  \u001b[90m┊\u001b[39m GC \u001b[90m(\u001b[39mmin … max\u001b[90m): \u001b[39m18.49% … 18.51%\n",
       " Time  \u001b[90m(\u001b[39m\u001b[34m\u001b[1mmedian\u001b[22m\u001b[39m\u001b[90m):     \u001b[39m\u001b[34m\u001b[1m3.449 s              \u001b[22m\u001b[39m\u001b[90m┊\u001b[39m GC \u001b[90m(\u001b[39mmedian\u001b[90m):    \u001b[39m18.50%\n",
       " Time  \u001b[90m(\u001b[39m\u001b[32m\u001b[1mmean\u001b[22m\u001b[39m ± \u001b[32mσ\u001b[39m\u001b[90m):   \u001b[39m\u001b[32m\u001b[1m3.449 s\u001b[22m\u001b[39m ± \u001b[32m44.591 ms\u001b[39m  \u001b[90m┊\u001b[39m GC \u001b[90m(\u001b[39mmean ± σ\u001b[90m):  \u001b[39m18.50% ±  0.02%\n",
       "\n",
       "  \u001b[34m█\u001b[39m\u001b[39m \u001b[39m \u001b[39m \u001b[39m \u001b[39m \u001b[39m \u001b[39m \u001b[39m \u001b[39m \u001b[39m \u001b[39m \u001b[39m \u001b[39m \u001b[39m \u001b[39m \u001b[39m \u001b[39m \u001b[39m \u001b[39m \u001b[39m \u001b[39m \u001b[39m \u001b[39m \u001b[39m \u001b[39m \u001b[39m \u001b[39m \u001b[32m \u001b[39m\u001b[39m \u001b[39m \u001b[39m \u001b[39m \u001b[39m \u001b[39m \u001b[39m \u001b[39m \u001b[39m \u001b[39m \u001b[39m \u001b[39m \u001b[39m \u001b[39m \u001b[39m \u001b[39m \u001b[39m \u001b[39m \u001b[39m \u001b[39m \u001b[39m \u001b[39m \u001b[39m \u001b[39m \u001b[39m \u001b[39m \u001b[39m \u001b[39m█\u001b[39m \u001b[39m \n",
       "  \u001b[34m█\u001b[39m\u001b[39m▁\u001b[39m▁\u001b[39m▁\u001b[39m▁\u001b[39m▁\u001b[39m▁\u001b[39m▁\u001b[39m▁\u001b[39m▁\u001b[39m▁\u001b[39m▁\u001b[39m▁\u001b[39m▁\u001b[39m▁\u001b[39m▁\u001b[39m▁\u001b[39m▁\u001b[39m▁\u001b[39m▁\u001b[39m▁\u001b[39m▁\u001b[39m▁\u001b[39m▁\u001b[39m▁\u001b[39m▁\u001b[39m▁\u001b[39m▁\u001b[32m▁\u001b[39m\u001b[39m▁\u001b[39m▁\u001b[39m▁\u001b[39m▁\u001b[39m▁\u001b[39m▁\u001b[39m▁\u001b[39m▁\u001b[39m▁\u001b[39m▁\u001b[39m▁\u001b[39m▁\u001b[39m▁\u001b[39m▁\u001b[39m▁\u001b[39m▁\u001b[39m▁\u001b[39m▁\u001b[39m▁\u001b[39m▁\u001b[39m▁\u001b[39m▁\u001b[39m▁\u001b[39m▁\u001b[39m▁\u001b[39m▁\u001b[39m▁\u001b[39m█\u001b[39m \u001b[39m▁\n",
       "  3.42 s\u001b[90m         Histogram: frequency by time\u001b[39m        3.48 s \u001b[0m\u001b[1m<\u001b[22m\n",
       "\n",
       " Memory estimate\u001b[90m: \u001b[39m\u001b[33m5.39 GiB\u001b[39m, allocs estimate\u001b[90m: \u001b[39m\u001b[33m294874\u001b[39m."
      ]
     },
     "execution_count": 31,
     "metadata": {},
     "output_type": "execute_result"
    }
   ],
   "source": [
    "@benchmark map(x -> scan_distributed(y0, X0, lambda0; nperms = 100, rndseed = x, original = false), seeds_list)"
   ]
  },
  {
   "cell_type": "code",
   "execution_count": 32,
   "id": "0ad01b3d-8b44-488f-bfca-4766af36f12e",
   "metadata": {},
   "outputs": [
    {
     "data": {
      "text/plain": [
       "BenchmarkTools.Trial: 5 samples with 1 evaluation.\n",
       " Range \u001b[90m(\u001b[39m\u001b[36m\u001b[1mmin\u001b[22m\u001b[39m … \u001b[35mmax\u001b[39m\u001b[90m):  \u001b[39m\u001b[36m\u001b[1m914.562 ms\u001b[22m\u001b[39m … \u001b[35m  1.064 s\u001b[39m  \u001b[90m┊\u001b[39m GC \u001b[90m(\u001b[39mmin … max\u001b[90m): \u001b[39m0.00% … 0.00%\n",
       " Time  \u001b[90m(\u001b[39m\u001b[34m\u001b[1mmedian\u001b[22m\u001b[39m\u001b[90m):     \u001b[39m\u001b[34m\u001b[1m   1.048 s              \u001b[22m\u001b[39m\u001b[90m┊\u001b[39m GC \u001b[90m(\u001b[39mmedian\u001b[90m):    \u001b[39m0.00%\n",
       " Time  \u001b[90m(\u001b[39m\u001b[32m\u001b[1mmean\u001b[22m\u001b[39m ± \u001b[32mσ\u001b[39m\u001b[90m):   \u001b[39m\u001b[32m\u001b[1m   1.023 s\u001b[22m\u001b[39m ± \u001b[32m61.312 ms\u001b[39m  \u001b[90m┊\u001b[39m GC \u001b[90m(\u001b[39mmean ± σ\u001b[90m):  \u001b[39m0.00% ± 0.00%\n",
       "\n",
       "  \u001b[39m▁\u001b[39m \u001b[39m \u001b[39m \u001b[39m \u001b[39m \u001b[39m \u001b[39m \u001b[39m \u001b[39m \u001b[39m \u001b[39m \u001b[39m \u001b[39m \u001b[39m \u001b[39m \u001b[39m \u001b[39m \u001b[39m \u001b[39m \u001b[39m \u001b[39m \u001b[39m \u001b[39m \u001b[39m \u001b[39m \u001b[39m \u001b[39m \u001b[39m \u001b[39m \u001b[39m \u001b[39m \u001b[39m \u001b[39m \u001b[39m \u001b[39m \u001b[39m \u001b[39m \u001b[39m \u001b[39m \u001b[39m \u001b[39m \u001b[39m \u001b[39m \u001b[32m \u001b[39m\u001b[39m \u001b[39m \u001b[39m \u001b[39m \u001b[39m \u001b[39m \u001b[34m▁\u001b[39m\u001b[39m \u001b[39m█\u001b[39m \u001b[39m \u001b[39m \u001b[39m \u001b[39m \u001b[39m▁\u001b[39m \u001b[39m \n",
       "  \u001b[39m█\u001b[39m▁\u001b[39m▁\u001b[39m▁\u001b[39m▁\u001b[39m▁\u001b[39m▁\u001b[39m▁\u001b[39m▁\u001b[39m▁\u001b[39m▁\u001b[39m▁\u001b[39m▁\u001b[39m▁\u001b[39m▁\u001b[39m▁\u001b[39m▁\u001b[39m▁\u001b[39m▁\u001b[39m▁\u001b[39m▁\u001b[39m▁\u001b[39m▁\u001b[39m▁\u001b[39m▁\u001b[39m▁\u001b[39m▁\u001b[39m▁\u001b[39m▁\u001b[39m▁\u001b[39m▁\u001b[39m▁\u001b[39m▁\u001b[39m▁\u001b[39m▁\u001b[39m▁\u001b[39m▁\u001b[39m▁\u001b[39m▁\u001b[39m▁\u001b[39m▁\u001b[39m▁\u001b[39m▁\u001b[39m▁\u001b[32m▁\u001b[39m\u001b[39m▁\u001b[39m▁\u001b[39m▁\u001b[39m▁\u001b[39m▁\u001b[39m▁\u001b[34m█\u001b[39m\u001b[39m▁\u001b[39m█\u001b[39m▁\u001b[39m▁\u001b[39m▁\u001b[39m▁\u001b[39m▁\u001b[39m█\u001b[39m \u001b[39m▁\n",
       "  915 ms\u001b[90m          Histogram: frequency by time\u001b[39m           160 s \u001b[0m\u001b[1m<\u001b[22m\n",
       "\n",
       " Memory estimate\u001b[90m: \u001b[39m\u001b[33m22.36 MiB\u001b[39m, allocs estimate\u001b[90m: \u001b[39m\u001b[33m565\u001b[39m."
      ]
     },
     "execution_count": 32,
     "metadata": {},
     "output_type": "execute_result"
    }
   ],
   "source": [
    "@benchmark pmap(x -> scan_distributed(y0, X0, lambda0; nperms = 100, rndseed = x, original = false), seeds_list)"
   ]
  },
  {
   "cell_type": "markdown",
   "id": "0c80c52d-5191-4776-8da5-1c136ab046e3",
   "metadata": {},
   "source": [
    "## Study: distribute over markers"
   ]
  },
  {
   "cell_type": "markdown",
   "id": "cd45a48a-2d99-4a76-bd81-a53f1f656aa8",
   "metadata": {},
   "source": [
    "### Check results:"
   ]
  },
  {
   "cell_type": "code",
   "execution_count": 33,
   "id": "74874ed2-8f8f-48c8-baf1-7ccf853a0001",
   "metadata": {},
   "outputs": [],
   "source": [
    "r0perm = transform3(r0; nperms = 400, rndseed = 0, original = true);"
   ]
  },
  {
   "cell_type": "code",
   "execution_count": 34,
   "id": "1be41674-fa98-4982-9838-495500bb2c9a",
   "metadata": {},
   "outputs": [
    {
     "data": {
      "text/plain": [
       "(79, 401)"
      ]
     },
     "execution_count": 34,
     "metadata": {},
     "output_type": "execute_result"
    }
   ],
   "source": [
    "size(r0perm) \n",
    "# 401 permutations of a vector of length 79 (79 measurements), plus the original, for results checking with scan_null"
   ]
  },
  {
   "cell_type": "code",
   "execution_count": 35,
   "id": "2dd81cf3-3c48-4e88-96bd-e9547f2c0305",
   "metadata": {},
   "outputs": [],
   "source": [
    "map_eachMarker_LODs = map(x -> scan_distributed(r0perm, X00, x), 1:7321);\n",
    "map_eachMarker_LODs = reduce(vcat, map_eachMarker_LODs);"
   ]
  },
  {
   "cell_type": "code",
   "execution_count": 36,
   "id": "631c7d1e-b3f9-4393-9df5-402d161ed0ff",
   "metadata": {},
   "outputs": [],
   "source": [
    "pmap_eachMarker_LODs = pmap(x -> scan_distributed(r0perm, X00, x), 1:7321);\n",
    "pmap_eachMarker_LODs = reduce(vcat, pmap_eachMarker_LODs);"
   ]
  },
  {
   "cell_type": "code",
   "execution_count": 37,
   "id": "449e94f5-c300-4a1a-820d-40e250577369",
   "metadata": {},
   "outputs": [],
   "source": [
    "scan_null_original = scan(pheno_y, geno, kinship)[3]; # original trait vector LODs"
   ]
  },
  {
   "cell_type": "code",
   "execution_count": 38,
   "id": "4f499998-9bab-44f2-9295-4f4f41a9285f",
   "metadata": {},
   "outputs": [
    {
     "data": {
      "text/plain": [
       "6×6 Matrix{Float64}:\n",
       " 0.00819636  1.71913  0.225974  0.0167808  0.0800067  0.000354535\n",
       " 0.00819636  1.71913  0.225974  0.0167808  0.0800067  0.000354535\n",
       " 0.00819636  1.71913  0.225974  0.0167808  0.0800067  0.000354535\n",
       " 0.00819636  1.71913  0.225974  0.0167808  0.0800067  0.000354535\n",
       " 0.00819636  1.71913  0.225974  0.0167808  0.0800067  0.000354535\n",
       " 0.00819636  1.71913  0.225974  0.0167808  0.0800067  0.000354535"
      ]
     },
     "execution_count": 38,
     "metadata": {},
     "output_type": "execute_result"
    }
   ],
   "source": [
    "map_eachMarker_LODs[1:6, 1:6]"
   ]
  },
  {
   "cell_type": "code",
   "execution_count": 39,
   "id": "07c937aa-945b-4ca8-8dfa-f08468b62c08",
   "metadata": {},
   "outputs": [
    {
     "data": {
      "text/plain": [
       "6×6 Matrix{Float64}:\n",
       " 0.00819636  1.71913  0.225974  0.0167808  0.0800067  0.000354535\n",
       " 0.00819636  1.71913  0.225974  0.0167808  0.0800067  0.000354535\n",
       " 0.00819636  1.71913  0.225974  0.0167808  0.0800067  0.000354535\n",
       " 0.00819636  1.71913  0.225974  0.0167808  0.0800067  0.000354535\n",
       " 0.00819636  1.71913  0.225974  0.0167808  0.0800067  0.000354535\n",
       " 0.00819636  1.71913  0.225974  0.0167808  0.0800067  0.000354535"
      ]
     },
     "execution_count": 39,
     "metadata": {},
     "output_type": "execute_result"
    }
   ],
   "source": [
    "pmap_eachMarker_LODs[1:6, 1:6]"
   ]
  },
  {
   "cell_type": "code",
   "execution_count": 40,
   "id": "4212c2a7-8856-4dec-a0a0-95d3bfec1b30",
   "metadata": {},
   "outputs": [
    {
     "data": {
      "text/plain": [
       "6-element Vector{Float64}:\n",
       " 0.008196360329322583\n",
       " 0.008196360329322583\n",
       " 0.008196360329331354\n",
       " 0.008196360329331354\n",
       " 0.008196360329322583\n",
       " 0.008196360329322583"
      ]
     },
     "execution_count": 40,
     "metadata": {},
     "output_type": "execute_result"
    }
   ],
   "source": [
    "scan_null_original[1:6]"
   ]
  },
  {
   "cell_type": "code",
   "execution_count": 41,
   "id": "2fddbe9e-c57c-4550-ad90-9e608274f379",
   "metadata": {},
   "outputs": [
    {
     "data": {
      "text/plain": [
       "7.888609052210118e-29"
      ]
     },
     "execution_count": 41,
     "metadata": {},
     "output_type": "execute_result"
    }
   ],
   "source": [
    "maxSqDiff(map_eachMarker_LODs, pmap_eachMarker_LODs)"
   ]
  },
  {
   "cell_type": "code",
   "execution_count": 42,
   "id": "e0521130-09f6-47c8-9f55-a58b506ec780",
   "metadata": {},
   "outputs": [
    {
     "data": {
      "text/plain": [
       "3.155443620884047e-28"
      ]
     },
     "execution_count": 42,
     "metadata": {},
     "output_type": "execute_result"
    }
   ],
   "source": [
    "maxSqDiff(reshape(pmap_eachMarker_LODs[:, 1], :, 1), reshape(scan_null_original, :, 1))"
   ]
  },
  {
   "cell_type": "code",
   "execution_count": 43,
   "id": "c4e4b50b-6ba4-4bab-9210-6feece5eda65",
   "metadata": {},
   "outputs": [],
   "source": [
    "disLoops_LODs = scan_distributed(r0perm, X00);"
   ]
  },
  {
   "cell_type": "code",
   "execution_count": 44,
   "id": "1d54ef5b-e800-4aff-a534-5d001eb4be1b",
   "metadata": {},
   "outputs": [
    {
     "data": {
      "text/plain": [
       "6×6 Matrix{Float64}:\n",
       " 0.00819636  1.71913  0.225974  0.0167808  0.0800067  0.000354535\n",
       " 0.00819636  1.71913  0.225974  0.0167808  0.0800067  0.000354535\n",
       " 0.00819636  1.71913  0.225974  0.0167808  0.0800067  0.000354535\n",
       " 0.00819636  1.71913  0.225974  0.0167808  0.0800067  0.000354535\n",
       " 0.00819636  1.71913  0.225974  0.0167808  0.0800067  0.000354535\n",
       " 0.00819636  1.71913  0.225974  0.0167808  0.0800067  0.000354535"
      ]
     },
     "execution_count": 44,
     "metadata": {},
     "output_type": "execute_result"
    }
   ],
   "source": [
    "disLoops_LODs[1:6, 1:6]"
   ]
  },
  {
   "cell_type": "code",
   "execution_count": 45,
   "id": "5d565857-e1b9-4aec-9643-792794f1c216",
   "metadata": {},
   "outputs": [
    {
     "data": {
      "text/plain": [
       "6×6 Matrix{Float64}:\n",
       " 0.00819636  1.71913  0.225974  0.0167808  0.0800067  0.000354535\n",
       " 0.00819636  1.71913  0.225974  0.0167808  0.0800067  0.000354535\n",
       " 0.00819636  1.71913  0.225974  0.0167808  0.0800067  0.000354535\n",
       " 0.00819636  1.71913  0.225974  0.0167808  0.0800067  0.000354535\n",
       " 0.00819636  1.71913  0.225974  0.0167808  0.0800067  0.000354535\n",
       " 0.00819636  1.71913  0.225974  0.0167808  0.0800067  0.000354535"
      ]
     },
     "execution_count": 45,
     "metadata": {},
     "output_type": "execute_result"
    }
   ],
   "source": [
    "pmap_eachMarker_LODs[1:6, 1:6]"
   ]
  },
  {
   "cell_type": "code",
   "execution_count": 46,
   "id": "7b513651-ba6b-42e7-902a-c6ca5a2f0b64",
   "metadata": {},
   "outputs": [
    {
     "data": {
      "text/plain": [
       "6×6 Matrix{Float64}:\n",
       " 0.00819636  1.71913  0.225974  0.0167808  0.0800067  0.000354535\n",
       " 0.00819636  1.71913  0.225974  0.0167808  0.0800067  0.000354535\n",
       " 0.00819636  1.71913  0.225974  0.0167808  0.0800067  0.000354535\n",
       " 0.00819636  1.71913  0.225974  0.0167808  0.0800067  0.000354535\n",
       " 0.00819636  1.71913  0.225974  0.0167808  0.0800067  0.000354535\n",
       " 0.00819636  1.71913  0.225974  0.0167808  0.0800067  0.000354535"
      ]
     },
     "execution_count": 46,
     "metadata": {},
     "output_type": "execute_result"
    }
   ],
   "source": [
    "permutedims(scan_perms2(pheno_y, geno, kinship; nperms = 400, rndseed = 0, original = true))[1:6, 1:6]"
   ]
  },
  {
   "cell_type": "markdown",
   "id": "b1bd4f30-4ae6-4832-ab0b-37edc7ee3cfc",
   "metadata": {},
   "source": [
    "### Benchmarking:"
   ]
  },
  {
   "cell_type": "code",
   "execution_count": 47,
   "id": "cbe7c522-3f17-48fe-aa46-08a28cc8ce54",
   "metadata": {},
   "outputs": [
    {
     "data": {
      "text/plain": [
       "BenchmarkTools.Trial: 2 samples with 1 evaluation.\n",
       " Range \u001b[90m(\u001b[39m\u001b[36m\u001b[1mmin\u001b[22m\u001b[39m … \u001b[35mmax\u001b[39m\u001b[90m):  \u001b[39m\u001b[36m\u001b[1m3.058 s\u001b[22m\u001b[39m … \u001b[35m  3.102 s\u001b[39m  \u001b[90m┊\u001b[39m GC \u001b[90m(\u001b[39mmin … max\u001b[90m): \u001b[39m14.40% … 15.41%\n",
       " Time  \u001b[90m(\u001b[39m\u001b[34m\u001b[1mmedian\u001b[22m\u001b[39m\u001b[90m):     \u001b[39m\u001b[34m\u001b[1m3.080 s              \u001b[22m\u001b[39m\u001b[90m┊\u001b[39m GC \u001b[90m(\u001b[39mmedian\u001b[90m):    \u001b[39m14.91%\n",
       " Time  \u001b[90m(\u001b[39m\u001b[32m\u001b[1mmean\u001b[22m\u001b[39m ± \u001b[32mσ\u001b[39m\u001b[90m):   \u001b[39m\u001b[32m\u001b[1m3.080 s\u001b[22m\u001b[39m ± \u001b[32m30.927 ms\u001b[39m  \u001b[90m┊\u001b[39m GC \u001b[90m(\u001b[39mmean ± σ\u001b[90m):  \u001b[39m14.91% ±  0.71%\n",
       "\n",
       "  \u001b[34m█\u001b[39m\u001b[39m \u001b[39m \u001b[39m \u001b[39m \u001b[39m \u001b[39m \u001b[39m \u001b[39m \u001b[39m \u001b[39m \u001b[39m \u001b[39m \u001b[39m \u001b[39m \u001b[39m \u001b[39m \u001b[39m \u001b[39m \u001b[39m \u001b[39m \u001b[39m \u001b[39m \u001b[39m \u001b[39m \u001b[39m \u001b[39m \u001b[39m \u001b[32m \u001b[39m\u001b[39m \u001b[39m \u001b[39m \u001b[39m \u001b[39m \u001b[39m \u001b[39m \u001b[39m \u001b[39m \u001b[39m \u001b[39m \u001b[39m \u001b[39m \u001b[39m \u001b[39m \u001b[39m \u001b[39m \u001b[39m \u001b[39m \u001b[39m \u001b[39m \u001b[39m \u001b[39m \u001b[39m \u001b[39m \u001b[39m \u001b[39m \u001b[39m█\u001b[39m \u001b[39m \n",
       "  \u001b[34m█\u001b[39m\u001b[39m▁\u001b[39m▁\u001b[39m▁\u001b[39m▁\u001b[39m▁\u001b[39m▁\u001b[39m▁\u001b[39m▁\u001b[39m▁\u001b[39m▁\u001b[39m▁\u001b[39m▁\u001b[39m▁\u001b[39m▁\u001b[39m▁\u001b[39m▁\u001b[39m▁\u001b[39m▁\u001b[39m▁\u001b[39m▁\u001b[39m▁\u001b[39m▁\u001b[39m▁\u001b[39m▁\u001b[39m▁\u001b[39m▁\u001b[39m▁\u001b[32m▁\u001b[39m\u001b[39m▁\u001b[39m▁\u001b[39m▁\u001b[39m▁\u001b[39m▁\u001b[39m▁\u001b[39m▁\u001b[39m▁\u001b[39m▁\u001b[39m▁\u001b[39m▁\u001b[39m▁\u001b[39m▁\u001b[39m▁\u001b[39m▁\u001b[39m▁\u001b[39m▁\u001b[39m▁\u001b[39m▁\u001b[39m▁\u001b[39m▁\u001b[39m▁\u001b[39m▁\u001b[39m▁\u001b[39m▁\u001b[39m▁\u001b[39m▁\u001b[39m█\u001b[39m \u001b[39m▁\n",
       "  360 s\u001b[90m          Histogram: frequency by time\u001b[39m         3.1 s \u001b[0m\u001b[1m<\u001b[22m\n",
       "\n",
       " Memory estimate\u001b[90m: \u001b[39m\u001b[33m5.33 GiB\u001b[39m, allocs estimate\u001b[90m: \u001b[39m\u001b[33m109817\u001b[39m."
      ]
     },
     "execution_count": 47,
     "metadata": {},
     "output_type": "execute_result"
    }
   ],
   "source": [
    "@benchmark map(x -> scan_distributed(r0perm, X00, x), 1:7321)"
   ]
  },
  {
   "cell_type": "code",
   "execution_count": 48,
   "id": "ee5be303-4a98-4f0e-b10e-a15946144563",
   "metadata": {},
   "outputs": [
    {
     "data": {
      "text/plain": [
       "BenchmarkTools.Trial: 1 sample with 1 evaluation.\n",
       " Single result which took \u001b[34m11.191 s\u001b[39m (0.00% GC) to evaluate,\n",
       " with a memory estimate of \u001b[33m45.25 MiB\u001b[39m, over \u001b[33m506817\u001b[39m allocations."
      ]
     },
     "execution_count": 48,
     "metadata": {},
     "output_type": "execute_result"
    }
   ],
   "source": [
    "@benchmark pmap(x -> scan_distributed(r0perm, X00, x), 1:7321)"
   ]
  },
  {
   "cell_type": "code",
   "execution_count": 49,
   "id": "a89233e9-df2c-4d6d-8b0e-d0faebe0310c",
   "metadata": {},
   "outputs": [
    {
     "data": {
      "text/plain": [
       "BenchmarkTools.Trial: 2 samples with 1 evaluation.\n",
       " Range \u001b[90m(\u001b[39m\u001b[36m\u001b[1mmin\u001b[22m\u001b[39m … \u001b[35mmax\u001b[39m\u001b[90m):  \u001b[39m\u001b[36m\u001b[1m4.635 s\u001b[22m\u001b[39m … \u001b[35m  4.703 s\u001b[39m  \u001b[90m┊\u001b[39m GC \u001b[90m(\u001b[39mmin … max\u001b[90m): \u001b[39m0.00% … 0.18%\n",
       " Time  \u001b[90m(\u001b[39m\u001b[34m\u001b[1mmedian\u001b[22m\u001b[39m\u001b[90m):     \u001b[39m\u001b[34m\u001b[1m4.669 s              \u001b[22m\u001b[39m\u001b[90m┊\u001b[39m GC \u001b[90m(\u001b[39mmedian\u001b[90m):    \u001b[39m0.09%\n",
       " Time  \u001b[90m(\u001b[39m\u001b[32m\u001b[1mmean\u001b[22m\u001b[39m ± \u001b[32mσ\u001b[39m\u001b[90m):   \u001b[39m\u001b[32m\u001b[1m4.669 s\u001b[22m\u001b[39m ± \u001b[32m47.973 ms\u001b[39m  \u001b[90m┊\u001b[39m GC \u001b[90m(\u001b[39mmean ± σ\u001b[90m):  \u001b[39m0.09% ± 0.13%\n",
       "\n",
       "  \u001b[34m█\u001b[39m\u001b[39m \u001b[39m \u001b[39m \u001b[39m \u001b[39m \u001b[39m \u001b[39m \u001b[39m \u001b[39m \u001b[39m \u001b[39m \u001b[39m \u001b[39m \u001b[39m \u001b[39m \u001b[39m \u001b[39m \u001b[39m \u001b[39m \u001b[39m \u001b[39m \u001b[39m \u001b[39m \u001b[39m \u001b[39m \u001b[39m \u001b[39m \u001b[32m \u001b[39m\u001b[39m \u001b[39m \u001b[39m \u001b[39m \u001b[39m \u001b[39m \u001b[39m \u001b[39m \u001b[39m \u001b[39m \u001b[39m \u001b[39m \u001b[39m \u001b[39m \u001b[39m \u001b[39m \u001b[39m \u001b[39m \u001b[39m \u001b[39m \u001b[39m \u001b[39m \u001b[39m \u001b[39m \u001b[39m \u001b[39m \u001b[39m \u001b[39m█\u001b[39m \u001b[39m \n",
       "  \u001b[34m█\u001b[39m\u001b[39m▁\u001b[39m▁\u001b[39m▁\u001b[39m▁\u001b[39m▁\u001b[39m▁\u001b[39m▁\u001b[39m▁\u001b[39m▁\u001b[39m▁\u001b[39m▁\u001b[39m▁\u001b[39m▁\u001b[39m▁\u001b[39m▁\u001b[39m▁\u001b[39m▁\u001b[39m▁\u001b[39m▁\u001b[39m▁\u001b[39m▁\u001b[39m▁\u001b[39m▁\u001b[39m▁\u001b[39m▁\u001b[39m▁\u001b[39m▁\u001b[32m▁\u001b[39m\u001b[39m▁\u001b[39m▁\u001b[39m▁\u001b[39m▁\u001b[39m▁\u001b[39m▁\u001b[39m▁\u001b[39m▁\u001b[39m▁\u001b[39m▁\u001b[39m▁\u001b[39m▁\u001b[39m▁\u001b[39m▁\u001b[39m▁\u001b[39m▁\u001b[39m▁\u001b[39m▁\u001b[39m▁\u001b[39m▁\u001b[39m▁\u001b[39m▁\u001b[39m▁\u001b[39m▁\u001b[39m▁\u001b[39m▁\u001b[39m▁\u001b[39m█\u001b[39m \u001b[39m▁\n",
       "  4.64 s\u001b[90m         Histogram: frequency by time\u001b[39m         4.7 s \u001b[0m\u001b[1m<\u001b[22m\n",
       "\n",
       " Memory estimate\u001b[90m: \u001b[39m\u001b[33m117.63 MiB\u001b[39m, allocs estimate\u001b[90m: \u001b[39m\u001b[33m1305\u001b[39m."
      ]
     },
     "execution_count": 49,
     "metadata": {},
     "output_type": "execute_result"
    }
   ],
   "source": [
    "@benchmark scan_distributed(r0perm, X00) # using distributed loops for each marker"
   ]
  },
  {
   "cell_type": "code",
   "execution_count": 50,
   "id": "fb3a393d-e12c-40b9-9bbf-2826bc50ba55",
   "metadata": {},
   "outputs": [
    {
     "data": {
      "text/plain": [
       "BenchmarkTools.Trial: 2 samples with 1 evaluation.\n",
       " Range \u001b[90m(\u001b[39m\u001b[36m\u001b[1mmin\u001b[22m\u001b[39m … \u001b[35mmax\u001b[39m\u001b[90m):  \u001b[39m\u001b[36m\u001b[1m3.181 s\u001b[22m\u001b[39m … \u001b[35m  3.264 s\u001b[39m  \u001b[90m┊\u001b[39m GC \u001b[90m(\u001b[39mmin … max\u001b[90m): \u001b[39m16.02% … 15.78%\n",
       " Time  \u001b[90m(\u001b[39m\u001b[34m\u001b[1mmedian\u001b[22m\u001b[39m\u001b[90m):     \u001b[39m\u001b[34m\u001b[1m3.222 s              \u001b[22m\u001b[39m\u001b[90m┊\u001b[39m GC \u001b[90m(\u001b[39mmedian\u001b[90m):    \u001b[39m15.90%\n",
       " Time  \u001b[90m(\u001b[39m\u001b[32m\u001b[1mmean\u001b[22m\u001b[39m ± \u001b[32mσ\u001b[39m\u001b[90m):   \u001b[39m\u001b[32m\u001b[1m3.222 s\u001b[22m\u001b[39m ± \u001b[32m58.259 ms\u001b[39m  \u001b[90m┊\u001b[39m GC \u001b[90m(\u001b[39mmean ± σ\u001b[90m):  \u001b[39m15.90% ±  0.17%\n",
       "\n",
       "  \u001b[34m█\u001b[39m\u001b[39m \u001b[39m \u001b[39m \u001b[39m \u001b[39m \u001b[39m \u001b[39m \u001b[39m \u001b[39m \u001b[39m \u001b[39m \u001b[39m \u001b[39m \u001b[39m \u001b[39m \u001b[39m \u001b[39m \u001b[39m \u001b[39m \u001b[39m \u001b[39m \u001b[39m \u001b[39m \u001b[39m \u001b[39m \u001b[39m \u001b[39m \u001b[32m \u001b[39m\u001b[39m \u001b[39m \u001b[39m \u001b[39m \u001b[39m \u001b[39m \u001b[39m \u001b[39m \u001b[39m \u001b[39m \u001b[39m \u001b[39m \u001b[39m \u001b[39m \u001b[39m \u001b[39m \u001b[39m \u001b[39m \u001b[39m \u001b[39m \u001b[39m \u001b[39m \u001b[39m \u001b[39m \u001b[39m \u001b[39m \u001b[39m \u001b[39m█\u001b[39m \u001b[39m \n",
       "  \u001b[34m█\u001b[39m\u001b[39m▁\u001b[39m▁\u001b[39m▁\u001b[39m▁\u001b[39m▁\u001b[39m▁\u001b[39m▁\u001b[39m▁\u001b[39m▁\u001b[39m▁\u001b[39m▁\u001b[39m▁\u001b[39m▁\u001b[39m▁\u001b[39m▁\u001b[39m▁\u001b[39m▁\u001b[39m▁\u001b[39m▁\u001b[39m▁\u001b[39m▁\u001b[39m▁\u001b[39m▁\u001b[39m▁\u001b[39m▁\u001b[39m▁\u001b[39m▁\u001b[32m▁\u001b[39m\u001b[39m▁\u001b[39m▁\u001b[39m▁\u001b[39m▁\u001b[39m▁\u001b[39m▁\u001b[39m▁\u001b[39m▁\u001b[39m▁\u001b[39m▁\u001b[39m▁\u001b[39m▁\u001b[39m▁\u001b[39m▁\u001b[39m▁\u001b[39m▁\u001b[39m▁\u001b[39m▁\u001b[39m▁\u001b[39m▁\u001b[39m▁\u001b[39m▁\u001b[39m▁\u001b[39m▁\u001b[39m▁\u001b[39m▁\u001b[39m▁\u001b[39m█\u001b[39m \u001b[39m▁\n",
       "  3.18 s\u001b[90m         Histogram: frequency by time\u001b[39m        3.26 s \u001b[0m\u001b[1m<\u001b[22m\n",
       "\n",
       " Memory estimate\u001b[90m: \u001b[39m\u001b[33m5.34 GiB\u001b[39m, allocs estimate\u001b[90m: \u001b[39m\u001b[33m116439\u001b[39m."
      ]
     },
     "execution_count": 50,
     "metadata": {},
     "output_type": "execute_result"
    }
   ],
   "source": [
    " # using ordinary loops for each marker\n",
    "@benchmark scan_perms2(pheno_y, geno, kinship; nperms = 400, original = true, rndseed = 0)"
   ]
  },
  {
   "cell_type": "code",
   "execution_count": 51,
   "id": "9313a38e-12fa-456e-864c-8cf595746278",
   "metadata": {},
   "outputs": [
    {
     "data": {
      "text/plain": [
       "UnitRange{Int64}"
      ]
     },
     "execution_count": 51,
     "metadata": {},
     "output_type": "execute_result"
    }
   ],
   "source": [
    "range = 1:6;\n",
    "typeof(range)"
   ]
  },
  {
   "cell_type": "code",
   "execution_count": null,
   "id": "b7beb5d7-328a-4b4a-bcf4-59c6c068811b",
   "metadata": {},
   "outputs": [],
   "source": []
  },
  {
   "cell_type": "markdown",
   "id": "762463e6-8c38-4b32-a69c-eb0174a0ba23",
   "metadata": {},
   "source": [
    "## Study: distribute over blocks of markers"
   ]
  },
  {
   "cell_type": "markdown",
   "id": "4787b6d4-ad80-440c-ba14-f46ef03687b9",
   "metadata": {},
   "source": [
    "### Check results:"
   ]
  },
  {
   "cell_type": "code",
   "execution_count": 52,
   "id": "a5320b53-8296-467b-8501-34e114426d42",
   "metadata": {},
   "outputs": [
    {
     "data": {
      "text/plain": [
       "6×6 Matrix{Float64}:\n",
       " 0.00819636  1.71913  0.225974  0.0167808  0.0800067  0.000354535\n",
       " 0.00819636  1.71913  0.225974  0.0167808  0.0800067  0.000354535\n",
       " 0.00819636  1.71913  0.225974  0.0167808  0.0800067  0.000354535\n",
       " 0.00819636  1.71913  0.225974  0.0167808  0.0800067  0.000354535\n",
       " 0.00819636  1.71913  0.225974  0.0167808  0.0800067  0.000354535\n",
       " 0.00819636  1.71913  0.225974  0.0167808  0.0800067  0.000354535"
      ]
     },
     "execution_count": 52,
     "metadata": {},
     "output_type": "execute_result"
    }
   ],
   "source": [
    "permutedims(scan_distributed_block(r0perm, X00, 1:6))[1:6, 1:6]"
   ]
  },
  {
   "cell_type": "code",
   "execution_count": 53,
   "id": "3e21a30c-022f-4ffc-9374-ae704733f1b0",
   "metadata": {},
   "outputs": [
    {
     "data": {
      "text/plain": [
       "6×6 Matrix{Float64}:\n",
       " 0.00819636  1.71913  0.225974  0.0167808  0.0800067  0.000354535\n",
       " 0.00819636  1.71913  0.225974  0.0167808  0.0800067  0.000354535\n",
       " 0.00819636  1.71913  0.225974  0.0167808  0.0800067  0.000354535\n",
       " 0.00819636  1.71913  0.225974  0.0167808  0.0800067  0.000354535\n",
       " 0.00819636  1.71913  0.225974  0.0167808  0.0800067  0.000354535\n",
       " 0.00819636  1.71913  0.225974  0.0167808  0.0800067  0.000354535"
      ]
     },
     "execution_count": 53,
     "metadata": {},
     "output_type": "execute_result"
    }
   ],
   "source": [
    "pmap_eachMarker_LODs[1:6, 1:6]"
   ]
  },
  {
   "cell_type": "code",
   "execution_count": 54,
   "id": "9d2505af-c668-41e0-9022-9ae7e550ffd5",
   "metadata": {},
   "outputs": [
    {
     "data": {
      "text/plain": [
       "partition_array_indices (generic function with 1 method)"
      ]
     },
     "execution_count": 54,
     "metadata": {},
     "output_type": "execute_result"
    }
   ],
   "source": [
    "## https://stackoverflow.com/questions/26953340/partition-equivalent-in-julia\n",
    "\n",
    "function partition_array_indices(nb_data::Int, nb_data_per_chunk::Int)\n",
    "    nb_chunks = ceil(Int, nb_data / nb_data_per_chunk)\n",
    "    ids = UnitRange{Int}[]\n",
    "    for which_chunk = 1:nb_chunks\n",
    "        id_start::Int = 1 + nb_data_per_chunk * (which_chunk - 1)\n",
    "        id_end::Int = id_start - 1 + nb_data_per_chunk\n",
    "        if id_end > nb_data\n",
    "            id_end = nb_data\n",
    "        end\n",
    "        push!(ids, id_start:id_end)\n",
    "    end\n",
    "    return ids\n",
    "end"
   ]
  },
  {
   "cell_type": "code",
   "execution_count": 55,
   "id": "a4760034-68c1-475e-962d-38a898832858",
   "metadata": {},
   "outputs": [
    {
     "data": {
      "text/plain": [
       "8-element Vector{UnitRange{Int64}}:\n",
       " 1:1000\n",
       " 1001:2000\n",
       " 2001:3000\n",
       " 3001:4000\n",
       " 4001:5000\n",
       " 5001:6000\n",
       " 6001:7000\n",
       " 7001:7321"
      ]
     },
     "execution_count": 55,
     "metadata": {},
     "output_type": "execute_result"
    }
   ],
   "source": [
    "blocks_partitions = partition_array_indices(p, 1000)"
   ]
  },
  {
   "cell_type": "code",
   "execution_count": 56,
   "id": "a83cc9ce-9e02-4635-9462-bf4e94edc1b4",
   "metadata": {},
   "outputs": [],
   "source": [
    "map_blocks_LODs = map(x -> scan_distributed_block(r0perm, X00, x), blocks_partitions);\n",
    "map_blocks_LODs = permutedims(reduce(hcat, map_blocks_LODs));"
   ]
  },
  {
   "cell_type": "code",
   "execution_count": 57,
   "id": "5784aa69-7b3a-493b-b09f-88d67274419f",
   "metadata": {},
   "outputs": [
    {
     "data": {
      "text/plain": [
       "6×6 Matrix{Float64}:\n",
       " 0.00819636  1.71913  0.225974  0.0167808  0.0800067  0.000354535\n",
       " 0.00819636  1.71913  0.225974  0.0167808  0.0800067  0.000354535\n",
       " 0.00819636  1.71913  0.225974  0.0167808  0.0800067  0.000354535\n",
       " 0.00819636  1.71913  0.225974  0.0167808  0.0800067  0.000354535\n",
       " 0.00819636  1.71913  0.225974  0.0167808  0.0800067  0.000354535\n",
       " 0.00819636  1.71913  0.225974  0.0167808  0.0800067  0.000354535"
      ]
     },
     "execution_count": 57,
     "metadata": {},
     "output_type": "execute_result"
    }
   ],
   "source": [
    "map_blocks_LODs[1:6, 1:6]"
   ]
  },
  {
   "cell_type": "code",
   "execution_count": 58,
   "id": "75372147-56fd-4dfe-a9be-3fcf6ff896f2",
   "metadata": {},
   "outputs": [],
   "source": [
    "pmap_blocks_LODs = pmap(x -> scan_distributed_block(r0perm, X00, x), blocks_partitions);\n",
    "pmap_blocks_LODs = permutedims(reduce(hcat, pmap_blocks_LODs));"
   ]
  },
  {
   "cell_type": "code",
   "execution_count": 59,
   "id": "be8c641e-5fb9-4fa9-b45a-8e7adb68b053",
   "metadata": {},
   "outputs": [
    {
     "data": {
      "text/plain": [
       "6×6 Matrix{Float64}:\n",
       " 0.00819636  1.71913  0.225974  0.0167808  0.0800067  0.000354535\n",
       " 0.00819636  1.71913  0.225974  0.0167808  0.0800067  0.000354535\n",
       " 0.00819636  1.71913  0.225974  0.0167808  0.0800067  0.000354535\n",
       " 0.00819636  1.71913  0.225974  0.0167808  0.0800067  0.000354535\n",
       " 0.00819636  1.71913  0.225974  0.0167808  0.0800067  0.000354535\n",
       " 0.00819636  1.71913  0.225974  0.0167808  0.0800067  0.000354535"
      ]
     },
     "execution_count": 59,
     "metadata": {},
     "output_type": "execute_result"
    }
   ],
   "source": [
    "pmap_blocks_LODs[1:6, 1:6]"
   ]
  },
  {
   "cell_type": "code",
   "execution_count": 60,
   "id": "afbd61de-2fb4-49c2-9886-cfde83f17d26",
   "metadata": {},
   "outputs": [],
   "source": [
    "normal_LODs = scan_perms2(pheno_y, geno, kinship; nperms = 400, rndseed = 0, original = true);\n",
    "normal_LODs = permutedims(normal_LODs);"
   ]
  },
  {
   "cell_type": "code",
   "execution_count": 61,
   "id": "0854c9c5-4218-4a71-a351-7a6d2b46fd7c",
   "metadata": {},
   "outputs": [
    {
     "data": {
      "text/plain": [
       "6×6 Matrix{Float64}:\n",
       " 0.00819636  1.71913  0.225974  0.0167808  0.0800067  0.000354535\n",
       " 0.00819636  1.71913  0.225974  0.0167808  0.0800067  0.000354535\n",
       " 0.00819636  1.71913  0.225974  0.0167808  0.0800067  0.000354535\n",
       " 0.00819636  1.71913  0.225974  0.0167808  0.0800067  0.000354535\n",
       " 0.00819636  1.71913  0.225974  0.0167808  0.0800067  0.000354535\n",
       " 0.00819636  1.71913  0.225974  0.0167808  0.0800067  0.000354535"
      ]
     },
     "execution_count": 61,
     "metadata": {},
     "output_type": "execute_result"
    }
   ],
   "source": [
    "normal_LODs[1:6, 1:6]"
   ]
  },
  {
   "cell_type": "code",
   "execution_count": 62,
   "id": "bdad4276-09f6-4fb6-8655-a9e20a3f62a4",
   "metadata": {},
   "outputs": [
    {
     "data": {
      "text/plain": [
       "7.888609052210118e-29"
      ]
     },
     "execution_count": 62,
     "metadata": {},
     "output_type": "execute_result"
    }
   ],
   "source": [
    "maxSqDiff(pmap_blocks_LODs, normal_LODs)"
   ]
  },
  {
   "cell_type": "markdown",
   "id": "6ae02731-ba9c-4fc7-acf8-0735d4a79ef9",
   "metadata": {},
   "source": [
    "### Benchmarking:"
   ]
  },
  {
   "cell_type": "code",
   "execution_count": 63,
   "id": "e3eca0d8-4744-4612-8981-f45658bdef8e",
   "metadata": {},
   "outputs": [
    {
     "data": {
      "text/plain": [
       "8-element Vector{UnitRange{Int64}}:\n",
       " 1:1000\n",
       " 1001:2000\n",
       " 2001:3000\n",
       " 3001:4000\n",
       " 4001:5000\n",
       " 5001:6000\n",
       " 6001:7000\n",
       " 7001:7321"
      ]
     },
     "execution_count": 63,
     "metadata": {},
     "output_type": "execute_result"
    }
   ],
   "source": [
    "blocks_partitions"
   ]
  },
  {
   "cell_type": "code",
   "execution_count": 64,
   "id": "8cbcf7d5-dca0-45fa-96d1-2b40f32114a8",
   "metadata": {},
   "outputs": [
    {
     "data": {
      "text/plain": [
       "BenchmarkTools.Trial: 2 samples with 1 evaluation.\n",
       " Range \u001b[90m(\u001b[39m\u001b[36m\u001b[1mmin\u001b[22m\u001b[39m … \u001b[35mmax\u001b[39m\u001b[90m):  \u001b[39m\u001b[36m\u001b[1m3.324 s\u001b[22m\u001b[39m … \u001b[35m  3.391 s\u001b[39m  \u001b[90m┊\u001b[39m GC \u001b[90m(\u001b[39mmin … max\u001b[90m): \u001b[39m16.55% … 16.72%\n",
       " Time  \u001b[90m(\u001b[39m\u001b[34m\u001b[1mmedian\u001b[22m\u001b[39m\u001b[90m):     \u001b[39m\u001b[34m\u001b[1m3.357 s              \u001b[22m\u001b[39m\u001b[90m┊\u001b[39m GC \u001b[90m(\u001b[39mmedian\u001b[90m):    \u001b[39m16.64%\n",
       " Time  \u001b[90m(\u001b[39m\u001b[32m\u001b[1mmean\u001b[22m\u001b[39m ± \u001b[32mσ\u001b[39m\u001b[90m):   \u001b[39m\u001b[32m\u001b[1m3.357 s\u001b[22m\u001b[39m ± \u001b[32m46.925 ms\u001b[39m  \u001b[90m┊\u001b[39m GC \u001b[90m(\u001b[39mmean ± σ\u001b[90m):  \u001b[39m16.64% ±  0.12%\n",
       "\n",
       "  \u001b[34m█\u001b[39m\u001b[39m \u001b[39m \u001b[39m \u001b[39m \u001b[39m \u001b[39m \u001b[39m \u001b[39m \u001b[39m \u001b[39m \u001b[39m \u001b[39m \u001b[39m \u001b[39m \u001b[39m \u001b[39m \u001b[39m \u001b[39m \u001b[39m \u001b[39m \u001b[39m \u001b[39m \u001b[39m \u001b[39m \u001b[39m \u001b[39m \u001b[39m \u001b[32m \u001b[39m\u001b[39m \u001b[39m \u001b[39m \u001b[39m \u001b[39m \u001b[39m \u001b[39m \u001b[39m \u001b[39m \u001b[39m \u001b[39m \u001b[39m \u001b[39m \u001b[39m \u001b[39m \u001b[39m \u001b[39m \u001b[39m \u001b[39m \u001b[39m \u001b[39m \u001b[39m \u001b[39m \u001b[39m \u001b[39m \u001b[39m \u001b[39m \u001b[39m█\u001b[39m \u001b[39m \n",
       "  \u001b[34m█\u001b[39m\u001b[39m▁\u001b[39m▁\u001b[39m▁\u001b[39m▁\u001b[39m▁\u001b[39m▁\u001b[39m▁\u001b[39m▁\u001b[39m▁\u001b[39m▁\u001b[39m▁\u001b[39m▁\u001b[39m▁\u001b[39m▁\u001b[39m▁\u001b[39m▁\u001b[39m▁\u001b[39m▁\u001b[39m▁\u001b[39m▁\u001b[39m▁\u001b[39m▁\u001b[39m▁\u001b[39m▁\u001b[39m▁\u001b[39m▁\u001b[39m▁\u001b[32m▁\u001b[39m\u001b[39m▁\u001b[39m▁\u001b[39m▁\u001b[39m▁\u001b[39m▁\u001b[39m▁\u001b[39m▁\u001b[39m▁\u001b[39m▁\u001b[39m▁\u001b[39m▁\u001b[39m▁\u001b[39m▁\u001b[39m▁\u001b[39m▁\u001b[39m▁\u001b[39m▁\u001b[39m▁\u001b[39m▁\u001b[39m▁\u001b[39m▁\u001b[39m▁\u001b[39m▁\u001b[39m▁\u001b[39m▁\u001b[39m▁\u001b[39m▁\u001b[39m█\u001b[39m \u001b[39m▁\n",
       "  3.32 s\u001b[90m         Histogram: frequency by time\u001b[39m        3.39 s \u001b[0m\u001b[1m<\u001b[22m\n",
       "\n",
       " Memory estimate\u001b[90m: \u001b[39m\u001b[33m5.32 GiB\u001b[39m, allocs estimate\u001b[90m: \u001b[39m\u001b[33m73284\u001b[39m."
      ]
     },
     "execution_count": 64,
     "metadata": {},
     "output_type": "execute_result"
    }
   ],
   "source": [
    "@benchmark map(x -> scan_distributed_block(r0perm, X00, x), blocks_partitions)"
   ]
  },
  {
   "cell_type": "code",
   "execution_count": 65,
   "id": "dd2f7dee-e958-4ce7-84d2-aad3d07e8af7",
   "metadata": {},
   "outputs": [
    {
     "data": {
      "text/plain": [
       "BenchmarkTools.Trial: 5 samples with 1 evaluation.\n",
       " Range \u001b[90m(\u001b[39m\u001b[36m\u001b[1mmin\u001b[22m\u001b[39m … \u001b[35mmax\u001b[39m\u001b[90m):  \u001b[39m\u001b[36m\u001b[1m938.110 ms\u001b[22m\u001b[39m … \u001b[35m  1.088 s\u001b[39m  \u001b[90m┊\u001b[39m GC \u001b[90m(\u001b[39mmin … max\u001b[90m): \u001b[39m0.00% … 0.00%\n",
       " Time  \u001b[90m(\u001b[39m\u001b[34m\u001b[1mmedian\u001b[22m\u001b[39m\u001b[90m):     \u001b[39m\u001b[34m\u001b[1m   1.044 s              \u001b[22m\u001b[39m\u001b[90m┊\u001b[39m GC \u001b[90m(\u001b[39mmedian\u001b[90m):    \u001b[39m0.00%\n",
       " Time  \u001b[90m(\u001b[39m\u001b[32m\u001b[1mmean\u001b[22m\u001b[39m ± \u001b[32mσ\u001b[39m\u001b[90m):   \u001b[39m\u001b[32m\u001b[1m   1.029 s\u001b[22m\u001b[39m ± \u001b[32m62.306 ms\u001b[39m  \u001b[90m┊\u001b[39m GC \u001b[90m(\u001b[39mmean ± σ\u001b[90m):  \u001b[39m0.00% ± 0.00%\n",
       "\n",
       "  \u001b[39m█\u001b[39m \u001b[39m \u001b[39m \u001b[39m \u001b[39m \u001b[39m \u001b[39m \u001b[39m \u001b[39m \u001b[39m \u001b[39m \u001b[39m \u001b[39m \u001b[39m \u001b[39m \u001b[39m \u001b[39m \u001b[39m \u001b[39m \u001b[39m \u001b[39m \u001b[39m \u001b[34m█\u001b[39m\u001b[39m \u001b[39m \u001b[39m \u001b[39m \u001b[39m \u001b[39m \u001b[39m \u001b[39m \u001b[39m \u001b[39m \u001b[39m \u001b[39m \u001b[39m \u001b[32m \u001b[39m\u001b[39m \u001b[39m \u001b[39m \u001b[39m \u001b[39m█\u001b[39m \u001b[39m \u001b[39m \u001b[39m \u001b[39m \u001b[39m \u001b[39m \u001b[39m \u001b[39m \u001b[39m \u001b[39m \u001b[39m \u001b[39m \u001b[39m█\u001b[39m \u001b[39m \u001b[39m█\u001b[39m \u001b[39m \n",
       "  \u001b[39m█\u001b[39m▁\u001b[39m▁\u001b[39m▁\u001b[39m▁\u001b[39m▁\u001b[39m▁\u001b[39m▁\u001b[39m▁\u001b[39m▁\u001b[39m▁\u001b[39m▁\u001b[39m▁\u001b[39m▁\u001b[39m▁\u001b[39m▁\u001b[39m▁\u001b[39m▁\u001b[39m▁\u001b[39m▁\u001b[39m▁\u001b[39m▁\u001b[39m▁\u001b[34m█\u001b[39m\u001b[39m▁\u001b[39m▁\u001b[39m▁\u001b[39m▁\u001b[39m▁\u001b[39m▁\u001b[39m▁\u001b[39m▁\u001b[39m▁\u001b[39m▁\u001b[39m▁\u001b[39m▁\u001b[39m▁\u001b[32m▁\u001b[39m\u001b[39m▁\u001b[39m▁\u001b[39m▁\u001b[39m▁\u001b[39m█\u001b[39m▁\u001b[39m▁\u001b[39m▁\u001b[39m▁\u001b[39m▁\u001b[39m▁\u001b[39m▁\u001b[39m▁\u001b[39m▁\u001b[39m▁\u001b[39m▁\u001b[39m▁\u001b[39m▁\u001b[39m█\u001b[39m▁\u001b[39m▁\u001b[39m█\u001b[39m \u001b[39m▁\n",
       "  938 ms\u001b[90m          Histogram: frequency by time\u001b[39m           190 s \u001b[0m\u001b[1m<\u001b[22m\n",
       "\n",
       " Memory estimate\u001b[90m: \u001b[39m\u001b[33m22.43 MiB\u001b[39m, allocs estimate\u001b[90m: \u001b[39m\u001b[33m930\u001b[39m."
      ]
     },
     "execution_count": 65,
     "metadata": {},
     "output_type": "execute_result"
    }
   ],
   "source": [
    "@benchmark pmap(x -> scan_distributed_block(r0perm, X00, x), blocks_partitions)"
   ]
  },
  {
   "cell_type": "code",
   "execution_count": 66,
   "id": "a0cf632e-36bf-462a-8a3c-2a9ac70aaac7",
   "metadata": {},
   "outputs": [
    {
     "data": {
      "text/plain": [
       "BenchmarkTools.Trial: 6 samples with 1 evaluation.\n",
       " Range \u001b[90m(\u001b[39m\u001b[36m\u001b[1mmin\u001b[22m\u001b[39m … \u001b[35mmax\u001b[39m\u001b[90m):  \u001b[39m\u001b[36m\u001b[1m943.908 ms\u001b[22m\u001b[39m … \u001b[35m  1.113 s\u001b[39m  \u001b[90m┊\u001b[39m GC \u001b[90m(\u001b[39mmin … max\u001b[90m): \u001b[39m0.00% … 2.13%\n",
       " Time  \u001b[90m(\u001b[39m\u001b[34m\u001b[1mmedian\u001b[22m\u001b[39m\u001b[90m):     \u001b[39m\u001b[34m\u001b[1m955.054 ms              \u001b[22m\u001b[39m\u001b[90m┊\u001b[39m GC \u001b[90m(\u001b[39mmedian\u001b[90m):    \u001b[39m0.00%\n",
       " Time  \u001b[90m(\u001b[39m\u001b[32m\u001b[1mmean\u001b[22m\u001b[39m ± \u001b[32mσ\u001b[39m\u001b[90m):   \u001b[39m\u001b[32m\u001b[1m982.581 ms\u001b[22m\u001b[39m ± \u001b[32m65.391 ms\u001b[39m  \u001b[90m┊\u001b[39m GC \u001b[90m(\u001b[39mmean ± σ\u001b[90m):  \u001b[39m0.40% ± 0.87%\n",
       "\n",
       "  \u001b[39m█\u001b[39m \u001b[39m \u001b[39m▁\u001b[34m▁\u001b[39m\u001b[39m \u001b[39m \u001b[39m \u001b[39m \u001b[39m \u001b[39m \u001b[39m \u001b[39m \u001b[39m▁\u001b[32m \u001b[39m\u001b[39m \u001b[39m \u001b[39m \u001b[39m \u001b[39m \u001b[39m \u001b[39m \u001b[39m \u001b[39m \u001b[39m \u001b[39m \u001b[39m \u001b[39m \u001b[39m \u001b[39m \u001b[39m \u001b[39m \u001b[39m \u001b[39m \u001b[39m \u001b[39m \u001b[39m \u001b[39m \u001b[39m \u001b[39m \u001b[39m \u001b[39m \u001b[39m \u001b[39m \u001b[39m \u001b[39m \u001b[39m \u001b[39m \u001b[39m \u001b[39m \u001b[39m \u001b[39m \u001b[39m \u001b[39m \u001b[39m \u001b[39m \u001b[39m \u001b[39m \u001b[39m \u001b[39m▁\u001b[39m \u001b[39m \n",
       "  \u001b[39m█\u001b[39m▁\u001b[39m▁\u001b[39m█\u001b[34m█\u001b[39m\u001b[39m▁\u001b[39m▁\u001b[39m▁\u001b[39m▁\u001b[39m▁\u001b[39m▁\u001b[39m▁\u001b[39m▁\u001b[39m█\u001b[32m▁\u001b[39m\u001b[39m▁\u001b[39m▁\u001b[39m▁\u001b[39m▁\u001b[39m▁\u001b[39m▁\u001b[39m▁\u001b[39m▁\u001b[39m▁\u001b[39m▁\u001b[39m▁\u001b[39m▁\u001b[39m▁\u001b[39m▁\u001b[39m▁\u001b[39m▁\u001b[39m▁\u001b[39m▁\u001b[39m▁\u001b[39m▁\u001b[39m▁\u001b[39m▁\u001b[39m▁\u001b[39m▁\u001b[39m▁\u001b[39m▁\u001b[39m▁\u001b[39m▁\u001b[39m▁\u001b[39m▁\u001b[39m▁\u001b[39m▁\u001b[39m▁\u001b[39m▁\u001b[39m▁\u001b[39m▁\u001b[39m▁\u001b[39m▁\u001b[39m▁\u001b[39m▁\u001b[39m▁\u001b[39m▁\u001b[39m▁\u001b[39m▁\u001b[39m█\u001b[39m \u001b[39m▁\n",
       "  944 ms\u001b[90m          Histogram: frequency by time\u001b[39m          1.11 s \u001b[0m\u001b[1m<\u001b[22m\n",
       "\n",
       " Memory estimate\u001b[90m: \u001b[39m\u001b[33m49.35 MiB\u001b[39m, allocs estimate\u001b[90m: \u001b[39m\u001b[33m1367\u001b[39m."
      ]
     },
     "execution_count": 66,
     "metadata": {},
     "output_type": "execute_result"
    }
   ],
   "source": [
    "@benchmark begin \n",
    "    transform1(pheno_y, geno, kinship);\n",
    "    transform2(y0, X0, lambda0);\n",
    "    pmap(x -> scan_distributed_block(r0perm, X00, x), blocks_partitions);\n",
    "end"
   ]
  },
  {
   "cell_type": "code",
   "execution_count": 67,
   "id": "f25a490f-335b-4cba-8a55-882d327e2286",
   "metadata": {},
   "outputs": [
    {
     "data": {
      "text/plain": [
       "BenchmarkTools.Trial: 2 samples with 1 evaluation.\n",
       " Range \u001b[90m(\u001b[39m\u001b[36m\u001b[1mmin\u001b[22m\u001b[39m … \u001b[35mmax\u001b[39m\u001b[90m):  \u001b[39m\u001b[36m\u001b[1m3.205 s\u001b[22m\u001b[39m … \u001b[35m  3.225 s\u001b[39m  \u001b[90m┊\u001b[39m GC \u001b[90m(\u001b[39mmin … max\u001b[90m): \u001b[39m16.22% … 16.41%\n",
       " Time  \u001b[90m(\u001b[39m\u001b[34m\u001b[1mmedian\u001b[22m\u001b[39m\u001b[90m):     \u001b[39m\u001b[34m\u001b[1m3.215 s              \u001b[22m\u001b[39m\u001b[90m┊\u001b[39m GC \u001b[90m(\u001b[39mmedian\u001b[90m):    \u001b[39m16.32%\n",
       " Time  \u001b[90m(\u001b[39m\u001b[32m\u001b[1mmean\u001b[22m\u001b[39m ± \u001b[32mσ\u001b[39m\u001b[90m):   \u001b[39m\u001b[32m\u001b[1m3.215 s\u001b[22m\u001b[39m ± \u001b[32m14.648 ms\u001b[39m  \u001b[90m┊\u001b[39m GC \u001b[90m(\u001b[39mmean ± σ\u001b[90m):  \u001b[39m16.32% ±  0.13%\n",
       "\n",
       "  \u001b[34m█\u001b[39m\u001b[39m \u001b[39m \u001b[39m \u001b[39m \u001b[39m \u001b[39m \u001b[39m \u001b[39m \u001b[39m \u001b[39m \u001b[39m \u001b[39m \u001b[39m \u001b[39m \u001b[39m \u001b[39m \u001b[39m \u001b[39m \u001b[39m \u001b[39m \u001b[39m \u001b[39m \u001b[39m \u001b[39m \u001b[39m \u001b[39m \u001b[39m \u001b[32m \u001b[39m\u001b[39m \u001b[39m \u001b[39m \u001b[39m \u001b[39m \u001b[39m \u001b[39m \u001b[39m \u001b[39m \u001b[39m \u001b[39m \u001b[39m \u001b[39m \u001b[39m \u001b[39m \u001b[39m \u001b[39m \u001b[39m \u001b[39m \u001b[39m \u001b[39m \u001b[39m \u001b[39m \u001b[39m \u001b[39m \u001b[39m \u001b[39m \u001b[39m█\u001b[39m \u001b[39m \n",
       "  \u001b[34m█\u001b[39m\u001b[39m▁\u001b[39m▁\u001b[39m▁\u001b[39m▁\u001b[39m▁\u001b[39m▁\u001b[39m▁\u001b[39m▁\u001b[39m▁\u001b[39m▁\u001b[39m▁\u001b[39m▁\u001b[39m▁\u001b[39m▁\u001b[39m▁\u001b[39m▁\u001b[39m▁\u001b[39m▁\u001b[39m▁\u001b[39m▁\u001b[39m▁\u001b[39m▁\u001b[39m▁\u001b[39m▁\u001b[39m▁\u001b[39m▁\u001b[39m▁\u001b[32m▁\u001b[39m\u001b[39m▁\u001b[39m▁\u001b[39m▁\u001b[39m▁\u001b[39m▁\u001b[39m▁\u001b[39m▁\u001b[39m▁\u001b[39m▁\u001b[39m▁\u001b[39m▁\u001b[39m▁\u001b[39m▁\u001b[39m▁\u001b[39m▁\u001b[39m▁\u001b[39m▁\u001b[39m▁\u001b[39m▁\u001b[39m▁\u001b[39m▁\u001b[39m▁\u001b[39m▁\u001b[39m▁\u001b[39m▁\u001b[39m▁\u001b[39m▁\u001b[39m█\u001b[39m \u001b[39m▁\n",
       "  3.2 s\u001b[90m          Histogram: frequency by time\u001b[39m        3.23 s \u001b[0m\u001b[1m<\u001b[22m\n",
       "\n",
       " Memory estimate\u001b[90m: \u001b[39m\u001b[33m5.34 GiB\u001b[39m, allocs estimate\u001b[90m: \u001b[39m\u001b[33m116439\u001b[39m."
      ]
     },
     "execution_count": 67,
     "metadata": {},
     "output_type": "execute_result"
    }
   ],
   "source": [
    "@benchmark scan_perms2(pheno_y, geno, kinship; nperms = 400, rndseed = 0, original = true)"
   ]
  },
  {
   "cell_type": "code",
   "execution_count": 68,
   "id": "00822666-e195-40ec-b0b4-f44556575cdc",
   "metadata": {},
   "outputs": [
    {
     "data": {
      "text/plain": [
       "BenchmarkTools.Trial: 5 samples with 1 evaluation.\n",
       " Range \u001b[90m(\u001b[39m\u001b[36m\u001b[1mmin\u001b[22m\u001b[39m … \u001b[35mmax\u001b[39m\u001b[90m):  \u001b[39m\u001b[36m\u001b[1m967.740 ms\u001b[22m\u001b[39m … \u001b[35m   1.344 s\u001b[39m  \u001b[90m┊\u001b[39m GC \u001b[90m(\u001b[39mmin … max\u001b[90m): \u001b[39m0.00% … 0.00%\n",
       " Time  \u001b[90m(\u001b[39m\u001b[34m\u001b[1mmedian\u001b[22m\u001b[39m\u001b[90m):     \u001b[39m\u001b[34m\u001b[1m   1.112 s               \u001b[22m\u001b[39m\u001b[90m┊\u001b[39m GC \u001b[90m(\u001b[39mmedian\u001b[90m):    \u001b[39m0.00%\n",
       " Time  \u001b[90m(\u001b[39m\u001b[32m\u001b[1mmean\u001b[22m\u001b[39m ± \u001b[32mσ\u001b[39m\u001b[90m):   \u001b[39m\u001b[32m\u001b[1m   1.106 s\u001b[22m\u001b[39m ± \u001b[32m151.286 ms\u001b[39m  \u001b[90m┊\u001b[39m GC \u001b[90m(\u001b[39mmean ± σ\u001b[90m):  \u001b[39m0.00% ± 0.00%\n",
       "\n",
       "  \u001b[39m█\u001b[39m \u001b[34m█\u001b[39m\u001b[39m \u001b[39m \u001b[39m \u001b[39m \u001b[39m \u001b[39m \u001b[39m \u001b[39m \u001b[39m \u001b[39m \u001b[39m \u001b[39m \u001b[39m \u001b[39m \u001b[39m \u001b[39m \u001b[39m \u001b[39m \u001b[39m \u001b[32m \u001b[39m\u001b[39m█\u001b[39m \u001b[39m█\u001b[39m \u001b[39m \u001b[39m \u001b[39m \u001b[39m \u001b[39m \u001b[39m \u001b[39m \u001b[39m \u001b[39m \u001b[39m \u001b[39m \u001b[39m \u001b[39m \u001b[39m \u001b[39m \u001b[39m \u001b[39m \u001b[39m \u001b[39m \u001b[39m \u001b[39m \u001b[39m \u001b[39m \u001b[39m \u001b[39m \u001b[39m \u001b[39m \u001b[39m \u001b[39m \u001b[39m \u001b[39m \u001b[39m \u001b[39m \u001b[39m█\u001b[39m \u001b[39m \n",
       "  \u001b[39m█\u001b[39m▁\u001b[34m█\u001b[39m\u001b[39m▁\u001b[39m▁\u001b[39m▁\u001b[39m▁\u001b[39m▁\u001b[39m▁\u001b[39m▁\u001b[39m▁\u001b[39m▁\u001b[39m▁\u001b[39m▁\u001b[39m▁\u001b[39m▁\u001b[39m▁\u001b[39m▁\u001b[39m▁\u001b[39m▁\u001b[39m▁\u001b[39m▁\u001b[32m▁\u001b[39m\u001b[39m█\u001b[39m▁\u001b[39m█\u001b[39m▁\u001b[39m▁\u001b[39m▁\u001b[39m▁\u001b[39m▁\u001b[39m▁\u001b[39m▁\u001b[39m▁\u001b[39m▁\u001b[39m▁\u001b[39m▁\u001b[39m▁\u001b[39m▁\u001b[39m▁\u001b[39m▁\u001b[39m▁\u001b[39m▁\u001b[39m▁\u001b[39m▁\u001b[39m▁\u001b[39m▁\u001b[39m▁\u001b[39m▁\u001b[39m▁\u001b[39m▁\u001b[39m▁\u001b[39m▁\u001b[39m▁\u001b[39m▁\u001b[39m▁\u001b[39m▁\u001b[39m▁\u001b[39m▁\u001b[39m▁\u001b[39m█\u001b[39m \u001b[39m▁\n",
       "  968 ms\u001b[90m           Histogram: frequency by time\u001b[39m          1.34 s \u001b[0m\u001b[1m<\u001b[22m\n",
       "\n",
       " Memory estimate\u001b[90m: \u001b[39m\u001b[33m22.36 MiB\u001b[39m, allocs estimate\u001b[90m: \u001b[39m\u001b[33m568\u001b[39m."
      ]
     },
     "execution_count": 68,
     "metadata": {},
     "output_type": "execute_result"
    }
   ],
   "source": [
    "@benchmark pmap(x -> scan_distributed(y0, X0, lambda0; nperms = 100, rndseed = x, original = false), seeds_list)"
   ]
  },
  {
   "cell_type": "code",
   "execution_count": null,
   "id": "d04bc17b-10c9-4060-98ec-e3b9b43d690e",
   "metadata": {},
   "outputs": [],
   "source": []
  },
  {
   "cell_type": "code",
   "execution_count": null,
   "id": "153031ba-608e-4912-a531-717c36bb9498",
   "metadata": {},
   "outputs": [],
   "source": []
  },
  {
   "cell_type": "code",
   "execution_count": null,
   "id": "b4d175d4-0be3-42ad-bf94-2605cbec8c16",
   "metadata": {},
   "outputs": [],
   "source": []
  },
  {
   "cell_type": "markdown",
   "id": "03f5478b-eca1-4b1b-a5aa-87aeee194cc4",
   "metadata": {},
   "source": [
    "## Compare times for different choices of nperms and block sizes:"
   ]
  },
  {
   "cell_type": "code",
   "execution_count": 69,
   "id": "d4597ba2-7bfe-419d-9a38-3f546b047621",
   "metadata": {},
   "outputs": [],
   "source": [
    "@everywhere nperms_list = [50, 80, 100, 200, 400];\n",
    "@everywhere bsizes_list = [100, 300, 500, 600, 1000];"
   ]
  },
  {
   "cell_type": "code",
   "execution_count": 70,
   "id": "0948d1eb-f4c9-464f-8d73-5b1d6211f2d7",
   "metadata": {},
   "outputs": [],
   "source": [
    "runtimes_nperms = Array{Float64, 1}(undef, length(nperms_list));\n",
    "runtimes_bsizes = Array{Float64, 1}(undef, length(bsizes_list));"
   ]
  },
  {
   "cell_type": "code",
   "execution_count": 71,
   "id": "1d7bb5bb-6792-461d-a5b8-f0f06e00d40d",
   "metadata": {},
   "outputs": [
    {
     "data": {
      "text/plain": [
       "5-element Vector{Int64}:\n",
       " 1\n",
       " 2\n",
       " 3\n",
       " 4\n",
       " 5"
      ]
     },
     "execution_count": 71,
     "metadata": {},
     "output_type": "execute_result"
    }
   ],
   "source": [
    "procs() # check number of procs active rn"
   ]
  },
  {
   "cell_type": "code",
   "execution_count": 72,
   "id": "d230c2ce-dc96-4dd0-8347-da782f95504a",
   "metadata": {},
   "outputs": [
    {
     "data": {
      "text/plain": [
       "15-element Vector{UnitRange{Int64}}:\n",
       " 1:500\n",
       " 501:1000\n",
       " 1001:1500\n",
       " 1501:2000\n",
       " 2001:2500\n",
       " 2501:3000\n",
       " 3001:3500\n",
       " 3501:4000\n",
       " 4001:4500\n",
       " 4501:5000\n",
       " 5001:5500\n",
       " 5501:6000\n",
       " 6001:6500\n",
       " 6501:7000\n",
       " 7001:7321"
      ]
     },
     "execution_count": 72,
     "metadata": {},
     "output_type": "execute_result"
    }
   ],
   "source": [
    "blocks_partitions = partition_array_indices(p, 500)"
   ]
  },
  {
   "cell_type": "code",
   "execution_count": 97,
   "id": "c337fed9-6b67-493a-a30d-6b4e83fde581",
   "metadata": {},
   "outputs": [
    {
     "data": {
      "text/plain": [
       "(79, 401)"
      ]
     },
     "execution_count": 97,
     "metadata": {},
     "output_type": "execute_result"
    }
   ],
   "source": [
    "size(r0perm)"
   ]
  },
  {
   "cell_type": "code",
   "execution_count": 73,
   "id": "9e5f402d-1b9d-419e-8f9f-2913fe56cd7e",
   "metadata": {},
   "outputs": [
    {
     "data": {
      "text/plain": [
       "BenchmarkTools.Trial: 6 samples with 1 evaluation.\n",
       " Range \u001b[90m(\u001b[39m\u001b[36m\u001b[1mmin\u001b[22m\u001b[39m … \u001b[35mmax\u001b[39m\u001b[90m):  \u001b[39m\u001b[36m\u001b[1m931.019 ms\u001b[22m\u001b[39m … \u001b[35m  1.016 s\u001b[39m  \u001b[90m┊\u001b[39m GC \u001b[90m(\u001b[39mmin … max\u001b[90m): \u001b[39m0.00% … 0.00%\n",
       " Time  \u001b[90m(\u001b[39m\u001b[34m\u001b[1mmedian\u001b[22m\u001b[39m\u001b[90m):     \u001b[39m\u001b[34m\u001b[1m970.293 ms              \u001b[22m\u001b[39m\u001b[90m┊\u001b[39m GC \u001b[90m(\u001b[39mmedian\u001b[90m):    \u001b[39m0.00%\n",
       " Time  \u001b[90m(\u001b[39m\u001b[32m\u001b[1mmean\u001b[22m\u001b[39m ± \u001b[32mσ\u001b[39m\u001b[90m):   \u001b[39m\u001b[32m\u001b[1m972.562 ms\u001b[22m\u001b[39m ± \u001b[32m33.542 ms\u001b[39m  \u001b[90m┊\u001b[39m GC \u001b[90m(\u001b[39mmean ± σ\u001b[90m):  \u001b[39m0.00% ± 0.00%\n",
       "\n",
       "  \u001b[39m█\u001b[39m \u001b[39m \u001b[39m \u001b[39m \u001b[39m \u001b[39m \u001b[39m \u001b[39m \u001b[39m█\u001b[39m \u001b[39m \u001b[39m \u001b[39m \u001b[39m \u001b[39m \u001b[39m \u001b[39m \u001b[39m \u001b[39m \u001b[34m█\u001b[39m\u001b[39m \u001b[39m \u001b[39m \u001b[39m \u001b[39m \u001b[39m \u001b[39m \u001b[39m \u001b[32m \u001b[39m\u001b[39m \u001b[39m \u001b[39m \u001b[39m \u001b[39m \u001b[39m█\u001b[39m \u001b[39m \u001b[39m \u001b[39m \u001b[39m \u001b[39m \u001b[39m \u001b[39m \u001b[39m \u001b[39m \u001b[39m \u001b[39m \u001b[39m \u001b[39m \u001b[39m \u001b[39m█\u001b[39m \u001b[39m \u001b[39m \u001b[39m \u001b[39m \u001b[39m \u001b[39m \u001b[39m█\u001b[39m \u001b[39m \n",
       "  \u001b[39m█\u001b[39m▁\u001b[39m▁\u001b[39m▁\u001b[39m▁\u001b[39m▁\u001b[39m▁\u001b[39m▁\u001b[39m▁\u001b[39m█\u001b[39m▁\u001b[39m▁\u001b[39m▁\u001b[39m▁\u001b[39m▁\u001b[39m▁\u001b[39m▁\u001b[39m▁\u001b[39m▁\u001b[39m▁\u001b[34m█\u001b[39m\u001b[39m▁\u001b[39m▁\u001b[39m▁\u001b[39m▁\u001b[39m▁\u001b[39m▁\u001b[39m▁\u001b[39m▁\u001b[32m▁\u001b[39m\u001b[39m▁\u001b[39m▁\u001b[39m▁\u001b[39m▁\u001b[39m▁\u001b[39m█\u001b[39m▁\u001b[39m▁\u001b[39m▁\u001b[39m▁\u001b[39m▁\u001b[39m▁\u001b[39m▁\u001b[39m▁\u001b[39m▁\u001b[39m▁\u001b[39m▁\u001b[39m▁\u001b[39m▁\u001b[39m▁\u001b[39m▁\u001b[39m█\u001b[39m▁\u001b[39m▁\u001b[39m▁\u001b[39m▁\u001b[39m▁\u001b[39m▁\u001b[39m▁\u001b[39m█\u001b[39m \u001b[39m▁\n",
       "  931 ms\u001b[90m          Histogram: frequency by time\u001b[39m           120 s \u001b[0m\u001b[1m<\u001b[22m\n",
       "\n",
       " Memory estimate\u001b[90m: \u001b[39m\u001b[33m22.46 MiB\u001b[39m, allocs estimate\u001b[90m: \u001b[39m\u001b[33m1544\u001b[39m."
      ]
     },
     "execution_count": 73,
     "metadata": {},
     "output_type": "execute_result"
    }
   ],
   "source": [
    "@benchmark pmap(x -> scan_distributed_block(r0perm, X00, x), blocks_partitions)"
   ]
  },
  {
   "cell_type": "code",
   "execution_count": 74,
   "id": "0fc26abe-0fa4-418c-874e-e888fbff9e96",
   "metadata": {},
   "outputs": [],
   "source": [
    "for i in 1:length(nperms_list)\n",
    "    \n",
    "    np = nperms_list[i];\n",
    "    nseeds = Int(400/np);\n",
    "    \n",
    "    seeds_list = StatsBase.sample(1:100, nseeds; replace = false)\n",
    "    b = @benchmark pmap(x -> scan_distributed(y0, X0, lambda0; nperms = $np, rndseed = x, original = false), seeds_list);\n",
    "    b = median(b)\n",
    "    \n",
    "    runtimes_nperms[i] = time(b)/1e9\n",
    "    \n",
    "end"
   ]
  },
  {
   "cell_type": "code",
   "execution_count": 98,
   "id": "066ee0a6-7581-474f-bec5-82d0e2b48ef8",
   "metadata": {},
   "outputs": [],
   "source": [
    "for i in 1:length(bsizes_list)\n",
    "    \n",
    "    bs = bsizes_list[i];\n",
    "    \n",
    "    blocks_partitions = partition_array_indices(p, bs);\n",
    "\n",
    "    \n",
    "    b = @benchmark pmap(x -> scan_distributed_block(r0perm, X00, x), blocks_partitions);\n",
    "    b = median(b)\n",
    "    \n",
    "    runtimes_bsizes[i] = time(b)/1e9\n",
    "    \n",
    "end"
   ]
  },
  {
   "cell_type": "code",
   "execution_count": 108,
   "id": "5c928a88-0223-4c5b-abbf-1e48c3dd35f0",
   "metadata": {},
   "outputs": [
    {
     "data": {
      "image/svg+xml": [
       "<?xml version=\"1.0\" encoding=\"utf-8\"?>\n",
       "<svg xmlns=\"http://www.w3.org/2000/svg\" xmlns:xlink=\"http://www.w3.org/1999/xlink\" width=\"600\" height=\"400\" viewBox=\"0 0 2400 1600\">\n",
       "<defs>\n",
       "  <clipPath id=\"clip520\">\n",
       "    <rect x=\"0\" y=\"0\" width=\"2400\" height=\"1600\"/>\n",
       "  </clipPath>\n",
       "</defs>\n",
       "<path clip-path=\"url(#clip520)\" d=\"\n",
       "M0 1600 L2400 1600 L2400 0 L0 0  Z\n",
       "  \" fill=\"#ffffff\" fill-rule=\"evenodd\" fill-opacity=\"1\"/>\n",
       "<defs>\n",
       "  <clipPath id=\"clip521\">\n",
       "    <rect x=\"480\" y=\"0\" width=\"1681\" height=\"1600\"/>\n",
       "  </clipPath>\n",
       "</defs>\n",
       "<path clip-path=\"url(#clip520)\" d=\"\n",
       "M219.033 1423.18 L2352.76 1423.18 L2352.76 47.2441 L219.033 47.2441  Z\n",
       "  \" fill=\"#ffffff\" fill-rule=\"evenodd\" fill-opacity=\"1\"/>\n",
       "<defs>\n",
       "  <clipPath id=\"clip522\">\n",
       "    <rect x=\"219\" y=\"47\" width=\"2135\" height=\"1377\"/>\n",
       "  </clipPath>\n",
       "</defs>\n",
       "<polyline clip-path=\"url(#clip522)\" style=\"stroke:#000000; stroke-linecap:butt; stroke-linejoin:round; stroke-width:2; stroke-opacity:0.1; fill:none\" points=\"\n",
       "  566.985,1423.18 566.985,47.2441 \n",
       "  \"/>\n",
       "<polyline clip-path=\"url(#clip522)\" style=\"stroke:#000000; stroke-linecap:butt; stroke-linejoin:round; stroke-width:2; stroke-opacity:0.1; fill:none\" points=\"\n",
       "  1142.11,1423.18 1142.11,47.2441 \n",
       "  \"/>\n",
       "<polyline clip-path=\"url(#clip522)\" style=\"stroke:#000000; stroke-linecap:butt; stroke-linejoin:round; stroke-width:2; stroke-opacity:0.1; fill:none\" points=\"\n",
       "  1717.24,1423.18 1717.24,47.2441 \n",
       "  \"/>\n",
       "<polyline clip-path=\"url(#clip522)\" style=\"stroke:#000000; stroke-linecap:butt; stroke-linejoin:round; stroke-width:2; stroke-opacity:0.1; fill:none\" points=\"\n",
       "  2292.37,1423.18 2292.37,47.2441 \n",
       "  \"/>\n",
       "<polyline clip-path=\"url(#clip520)\" style=\"stroke:#000000; stroke-linecap:butt; stroke-linejoin:round; stroke-width:4; stroke-opacity:1; fill:none\" points=\"\n",
       "  219.033,1423.18 2352.76,1423.18 \n",
       "  \"/>\n",
       "<polyline clip-path=\"url(#clip520)\" style=\"stroke:#000000; stroke-linecap:butt; stroke-linejoin:round; stroke-width:4; stroke-opacity:1; fill:none\" points=\"\n",
       "  566.985,1423.18 566.985,1404.28 \n",
       "  \"/>\n",
       "<polyline clip-path=\"url(#clip520)\" style=\"stroke:#000000; stroke-linecap:butt; stroke-linejoin:round; stroke-width:4; stroke-opacity:1; fill:none\" points=\"\n",
       "  1142.11,1423.18 1142.11,1404.28 \n",
       "  \"/>\n",
       "<polyline clip-path=\"url(#clip520)\" style=\"stroke:#000000; stroke-linecap:butt; stroke-linejoin:round; stroke-width:4; stroke-opacity:1; fill:none\" points=\"\n",
       "  1717.24,1423.18 1717.24,1404.28 \n",
       "  \"/>\n",
       "<polyline clip-path=\"url(#clip520)\" style=\"stroke:#000000; stroke-linecap:butt; stroke-linejoin:round; stroke-width:4; stroke-opacity:1; fill:none\" points=\"\n",
       "  2292.37,1423.18 2292.37,1404.28 \n",
       "  \"/>\n",
       "<path clip-path=\"url(#clip520)\" d=\"M526.592 1479.92 L534.231 1479.92 L534.231 1453.55 L525.92 1455.22 L525.92 1450.96 L534.184 1449.29 L538.86 1449.29 L538.86 1479.92 L546.499 1479.92 L546.499 1483.85 L526.592 1483.85 L526.592 1479.92 Z\" fill=\"#000000\" fill-rule=\"evenodd\" fill-opacity=\"1\" /><path clip-path=\"url(#clip520)\" d=\"M565.943 1452.37 Q562.332 1452.37 560.504 1455.94 Q558.698 1459.48 558.698 1466.61 Q558.698 1473.71 560.504 1477.28 Q562.332 1480.82 565.943 1480.82 Q569.578 1480.82 571.383 1477.28 Q573.212 1473.71 573.212 1466.61 Q573.212 1459.48 571.383 1455.94 Q569.578 1452.37 565.943 1452.37 M565.943 1448.67 Q571.754 1448.67 574.809 1453.27 Q577.888 1457.86 577.888 1466.61 Q577.888 1475.33 574.809 1479.94 Q571.754 1484.52 565.943 1484.52 Q560.133 1484.52 557.055 1479.94 Q553.999 1475.33 553.999 1466.61 Q553.999 1457.86 557.055 1453.27 Q560.133 1448.67 565.943 1448.67 Z\" fill=\"#000000\" fill-rule=\"evenodd\" fill-opacity=\"1\" /><path clip-path=\"url(#clip520)\" d=\"M596.105 1452.37 Q592.494 1452.37 590.665 1455.94 Q588.86 1459.48 588.86 1466.61 Q588.86 1473.71 590.665 1477.28 Q592.494 1480.82 596.105 1480.82 Q599.74 1480.82 601.545 1477.28 Q603.374 1473.71 603.374 1466.61 Q603.374 1459.48 601.545 1455.94 Q599.74 1452.37 596.105 1452.37 M596.105 1448.67 Q601.915 1448.67 604.971 1453.27 Q608.05 1457.86 608.05 1466.61 Q608.05 1475.33 604.971 1479.94 Q601.915 1484.52 596.105 1484.52 Q590.295 1484.52 587.216 1479.94 Q584.161 1475.33 584.161 1466.61 Q584.161 1457.86 587.216 1453.27 Q590.295 1448.67 596.105 1448.67 Z\" fill=\"#000000\" fill-rule=\"evenodd\" fill-opacity=\"1\" /><path clip-path=\"url(#clip520)\" d=\"M1105.8 1479.92 L1122.12 1479.92 L1122.12 1483.85 L1100.18 1483.85 L1100.18 1479.92 Q1102.84 1477.16 1107.43 1472.53 Q1112.03 1467.88 1113.21 1466.54 Q1115.46 1464.01 1116.34 1462.28 Q1117.24 1460.52 1117.24 1458.83 Q1117.24 1456.07 1115.3 1454.34 Q1113.37 1452.6 1110.27 1452.6 Q1108.07 1452.6 1105.62 1453.37 Q1103.19 1454.13 1100.41 1455.68 L1100.41 1450.96 Q1103.24 1449.82 1105.69 1449.25 Q1108.14 1448.67 1110.18 1448.67 Q1115.55 1448.67 1118.74 1451.35 Q1121.94 1454.04 1121.94 1458.53 Q1121.94 1460.66 1121.13 1462.58 Q1120.34 1464.48 1118.24 1467.07 Q1117.66 1467.74 1114.55 1470.96 Q1111.45 1474.15 1105.8 1479.92 Z\" fill=\"#000000\" fill-rule=\"evenodd\" fill-opacity=\"1\" /><path clip-path=\"url(#clip520)\" d=\"M1141.94 1452.37 Q1138.33 1452.37 1136.5 1455.94 Q1134.69 1459.48 1134.69 1466.61 Q1134.69 1473.71 1136.5 1477.28 Q1138.33 1480.82 1141.94 1480.82 Q1145.57 1480.82 1147.38 1477.28 Q1149.21 1473.71 1149.21 1466.61 Q1149.21 1459.48 1147.38 1455.94 Q1145.57 1452.37 1141.94 1452.37 M1141.94 1448.67 Q1147.75 1448.67 1150.8 1453.27 Q1153.88 1457.86 1153.88 1466.61 Q1153.88 1475.33 1150.8 1479.94 Q1147.75 1484.52 1141.94 1484.52 Q1136.13 1484.52 1133.05 1479.94 Q1129.99 1475.33 1129.99 1466.61 Q1129.99 1457.86 1133.05 1453.27 Q1136.13 1448.67 1141.94 1448.67 Z\" fill=\"#000000\" fill-rule=\"evenodd\" fill-opacity=\"1\" /><path clip-path=\"url(#clip520)\" d=\"M1172.1 1452.37 Q1168.49 1452.37 1166.66 1455.94 Q1164.86 1459.48 1164.86 1466.61 Q1164.86 1473.71 1166.66 1477.28 Q1168.49 1480.82 1172.1 1480.82 Q1175.74 1480.82 1177.54 1477.28 Q1179.37 1473.71 1179.37 1466.61 Q1179.37 1459.48 1177.54 1455.94 Q1175.74 1452.37 1172.1 1452.37 M1172.1 1448.67 Q1177.91 1448.67 1180.97 1453.27 Q1184.05 1457.86 1184.05 1466.61 Q1184.05 1475.33 1180.97 1479.94 Q1177.91 1484.52 1172.1 1484.52 Q1166.29 1484.52 1163.21 1479.94 Q1160.16 1475.33 1160.16 1466.61 Q1160.16 1457.86 1163.21 1453.27 Q1166.29 1448.67 1172.1 1448.67 Z\" fill=\"#000000\" fill-rule=\"evenodd\" fill-opacity=\"1\" /><path clip-path=\"url(#clip520)\" d=\"M1691 1465.22 Q1694.36 1465.94 1696.23 1468.2 Q1698.13 1470.47 1698.13 1473.81 Q1698.13 1478.92 1694.61 1481.72 Q1691.09 1484.52 1684.61 1484.52 Q1682.44 1484.52 1680.12 1484.08 Q1677.83 1483.67 1675.38 1482.81 L1675.38 1478.3 Q1677.32 1479.43 1679.64 1480.01 Q1681.95 1480.59 1684.47 1480.59 Q1688.87 1480.59 1691.16 1478.85 Q1693.48 1477.12 1693.48 1473.81 Q1693.48 1470.75 1691.33 1469.04 Q1689.2 1467.3 1685.38 1467.3 L1681.35 1467.3 L1681.35 1463.46 L1685.56 1463.46 Q1689.01 1463.46 1690.84 1462.09 Q1692.67 1460.7 1692.67 1458.11 Q1692.67 1455.45 1690.77 1454.04 Q1688.9 1452.6 1685.38 1452.6 Q1683.46 1452.6 1681.26 1453.02 Q1679.06 1453.44 1676.42 1454.31 L1676.42 1450.15 Q1679.08 1449.41 1681.4 1449.04 Q1683.73 1448.67 1685.79 1448.67 Q1691.12 1448.67 1694.22 1451.1 Q1697.32 1453.5 1697.32 1457.63 Q1697.32 1460.5 1695.68 1462.49 Q1694.03 1464.45 1691 1465.22 Z\" fill=\"#000000\" fill-rule=\"evenodd\" fill-opacity=\"1\" /><path clip-path=\"url(#clip520)\" d=\"M1717 1452.37 Q1713.39 1452.37 1711.56 1455.94 Q1709.75 1459.48 1709.75 1466.61 Q1709.75 1473.71 1711.56 1477.28 Q1713.39 1480.82 1717 1480.82 Q1720.63 1480.82 1722.44 1477.28 Q1724.27 1473.71 1724.27 1466.61 Q1724.27 1459.48 1722.44 1455.94 Q1720.63 1452.37 1717 1452.37 M1717 1448.67 Q1722.81 1448.67 1725.86 1453.27 Q1728.94 1457.86 1728.94 1466.61 Q1728.94 1475.33 1725.86 1479.94 Q1722.81 1484.52 1717 1484.52 Q1711.19 1484.52 1708.11 1479.94 Q1705.05 1475.33 1705.05 1466.61 Q1705.05 1457.86 1708.11 1453.27 Q1711.19 1448.67 1717 1448.67 Z\" fill=\"#000000\" fill-rule=\"evenodd\" fill-opacity=\"1\" /><path clip-path=\"url(#clip520)\" d=\"M1747.16 1452.37 Q1743.55 1452.37 1741.72 1455.94 Q1739.91 1459.48 1739.91 1466.61 Q1739.91 1473.71 1741.72 1477.28 Q1743.55 1480.82 1747.16 1480.82 Q1750.79 1480.82 1752.6 1477.28 Q1754.43 1473.71 1754.43 1466.61 Q1754.43 1459.48 1752.6 1455.94 Q1750.79 1452.37 1747.16 1452.37 M1747.16 1448.67 Q1752.97 1448.67 1756.02 1453.27 Q1759.1 1457.86 1759.1 1466.61 Q1759.1 1475.33 1756.02 1479.94 Q1752.97 1484.52 1747.16 1484.52 Q1741.35 1484.52 1738.27 1479.94 Q1735.21 1475.33 1735.21 1466.61 Q1735.21 1457.86 1738.27 1453.27 Q1741.35 1448.67 1747.16 1448.67 Z\" fill=\"#000000\" fill-rule=\"evenodd\" fill-opacity=\"1\" /><path clip-path=\"url(#clip520)\" d=\"M2265.46 1453.37 L2253.65 1471.81 L2265.46 1471.81 L2265.46 1453.37 M2264.23 1449.29 L2270.11 1449.29 L2270.11 1471.81 L2275.04 1471.81 L2275.04 1475.7 L2270.11 1475.7 L2270.11 1483.85 L2265.46 1483.85 L2265.46 1475.7 L2249.86 1475.7 L2249.86 1471.19 L2264.23 1449.29 Z\" fill=\"#000000\" fill-rule=\"evenodd\" fill-opacity=\"1\" /><path clip-path=\"url(#clip520)\" d=\"M2292.77 1452.37 Q2289.16 1452.37 2287.33 1455.94 Q2285.53 1459.48 2285.53 1466.61 Q2285.53 1473.71 2287.33 1477.28 Q2289.16 1480.82 2292.77 1480.82 Q2296.41 1480.82 2298.21 1477.28 Q2300.04 1473.71 2300.04 1466.61 Q2300.04 1459.48 2298.21 1455.94 Q2296.41 1452.37 2292.77 1452.37 M2292.77 1448.67 Q2298.58 1448.67 2301.64 1453.27 Q2304.72 1457.86 2304.72 1466.61 Q2304.72 1475.33 2301.64 1479.94 Q2298.58 1484.52 2292.77 1484.52 Q2286.96 1484.52 2283.88 1479.94 Q2280.83 1475.33 2280.83 1466.61 Q2280.83 1457.86 2283.88 1453.27 Q2286.96 1448.67 2292.77 1448.67 Z\" fill=\"#000000\" fill-rule=\"evenodd\" fill-opacity=\"1\" /><path clip-path=\"url(#clip520)\" d=\"M2322.93 1452.37 Q2319.32 1452.37 2317.49 1455.94 Q2315.69 1459.48 2315.69 1466.61 Q2315.69 1473.71 2317.49 1477.28 Q2319.32 1480.82 2322.93 1480.82 Q2326.57 1480.82 2328.37 1477.28 Q2330.2 1473.71 2330.2 1466.61 Q2330.2 1459.48 2328.37 1455.94 Q2326.57 1452.37 2322.93 1452.37 M2322.93 1448.67 Q2328.74 1448.67 2331.8 1453.27 Q2334.88 1457.86 2334.88 1466.61 Q2334.88 1475.33 2331.8 1479.94 Q2328.74 1484.52 2322.93 1484.52 Q2317.12 1484.52 2314.05 1479.94 Q2310.99 1475.33 2310.99 1466.61 Q2310.99 1457.86 2314.05 1453.27 Q2317.12 1448.67 2322.93 1448.67 Z\" fill=\"#000000\" fill-rule=\"evenodd\" fill-opacity=\"1\" /><path clip-path=\"url(#clip520)\" d=\"M703.671 1520.52 L712.328 1520.52 L733.399 1560.28 L733.399 1520.52 L739.637 1520.52 L739.637 1568.04 L730.98 1568.04 L709.909 1528.29 L709.909 1568.04 L703.671 1568.04 L703.671 1520.52 Z\" fill=\"#000000\" fill-rule=\"evenodd\" fill-opacity=\"1\" /><path clip-path=\"url(#clip520)\" d=\"M751.573 1553.98 L751.573 1532.4 L757.429 1532.4 L757.429 1553.75 Q757.429 1558.81 759.403 1561.36 Q761.376 1563.87 765.323 1563.87 Q770.065 1563.87 772.803 1560.85 Q775.572 1557.83 775.572 1552.61 L775.572 1532.4 L781.428 1532.4 L781.428 1568.04 L775.572 1568.04 L775.572 1562.57 Q773.439 1565.82 770.606 1567.41 Q767.805 1568.97 764.082 1568.97 Q757.939 1568.97 754.756 1565.15 Q751.573 1561.33 751.573 1553.98 M766.31 1531.54 L766.31 1531.54 Z\" fill=\"#000000\" fill-rule=\"evenodd\" fill-opacity=\"1\" /><path clip-path=\"url(#clip520)\" d=\"M821.246 1539.24 Q823.442 1535.29 826.497 1533.41 Q829.553 1531.54 833.691 1531.54 Q839.261 1531.54 842.284 1535.45 Q845.308 1539.33 845.308 1546.53 L845.308 1568.04 L839.42 1568.04 L839.42 1546.72 Q839.42 1541.59 837.605 1539.11 Q835.791 1536.63 832.067 1536.63 Q827.516 1536.63 824.874 1539.65 Q822.232 1542.68 822.232 1547.9 L822.232 1568.04 L816.344 1568.04 L816.344 1546.72 Q816.344 1541.56 814.53 1539.11 Q812.716 1536.63 808.928 1536.63 Q804.44 1536.63 801.798 1539.68 Q799.157 1542.71 799.157 1547.9 L799.157 1568.04 L793.268 1568.04 L793.268 1532.4 L799.157 1532.4 L799.157 1537.93 Q801.162 1534.66 803.963 1533.1 Q806.764 1531.54 810.615 1531.54 Q814.498 1531.54 817.203 1533.51 Q819.941 1535.48 821.246 1539.24 Z\" fill=\"#000000\" fill-rule=\"evenodd\" fill-opacity=\"1\" /><path clip-path=\"url(#clip520)\" d=\"M882.579 1550.25 Q882.579 1543.79 879.906 1540.13 Q877.264 1536.44 872.617 1536.44 Q867.97 1536.44 865.296 1540.13 Q862.655 1543.79 862.655 1550.25 Q862.655 1556.71 865.296 1560.4 Q867.97 1564.07 872.617 1564.07 Q877.264 1564.07 879.906 1560.4 Q882.579 1556.71 882.579 1550.25 M862.655 1537.81 Q864.501 1534.62 867.301 1533.1 Q870.134 1531.54 874.049 1531.54 Q880.542 1531.54 884.584 1536.69 Q888.658 1541.85 888.658 1550.25 Q888.658 1558.65 884.584 1563.81 Q880.542 1568.97 874.049 1568.97 Q870.134 1568.97 867.301 1567.44 Q864.501 1565.88 862.655 1562.7 L862.655 1568.04 L856.766 1568.04 L856.766 1518.52 L862.655 1518.52 L862.655 1537.81 Z\" fill=\"#000000\" fill-rule=\"evenodd\" fill-opacity=\"1\" /><path clip-path=\"url(#clip520)\" d=\"M928.858 1548.76 L928.858 1551.62 L901.931 1551.62 Q902.313 1557.67 905.559 1560.85 Q908.838 1564 914.662 1564 Q918.036 1564 921.187 1563.17 Q924.37 1562.35 927.489 1560.69 L927.489 1566.23 Q924.338 1567.57 921.028 1568.27 Q917.718 1568.97 914.312 1568.97 Q905.782 1568.97 900.785 1564 Q895.82 1559.04 895.82 1550.57 Q895.82 1541.82 900.53 1536.69 Q905.273 1531.54 913.294 1531.54 Q920.487 1531.54 924.656 1536.18 Q928.858 1540.8 928.858 1548.76 M923.001 1547.04 Q922.938 1542.23 920.296 1539.37 Q917.686 1536.5 913.357 1536.5 Q908.456 1536.5 905.496 1539.27 Q902.567 1542.04 902.122 1547.07 L923.001 1547.04 Z\" fill=\"#000000\" fill-rule=\"evenodd\" fill-opacity=\"1\" /><path clip-path=\"url(#clip520)\" d=\"M959.127 1537.87 Q958.14 1537.3 956.962 1537.04 Q955.817 1536.76 954.416 1536.76 Q949.451 1536.76 946.777 1540 Q944.136 1543.22 944.136 1549.27 L944.136 1568.04 L938.247 1568.04 L938.247 1532.4 L944.136 1532.4 L944.136 1537.93 Q945.982 1534.69 948.942 1533.13 Q951.902 1531.54 956.135 1531.54 Q956.74 1531.54 957.472 1531.63 Q958.204 1531.7 959.095 1531.85 L959.127 1537.87 Z\" fill=\"#000000\" fill-rule=\"evenodd\" fill-opacity=\"1\" /><path clip-path=\"url(#clip520)\" d=\"M999.804 1536.5 Q995.093 1536.5 992.356 1540.19 Q989.619 1543.85 989.619 1550.25 Q989.619 1556.65 992.324 1560.34 Q995.061 1564 999.804 1564 Q1004.48 1564 1007.22 1560.31 Q1009.96 1556.62 1009.96 1550.25 Q1009.96 1543.92 1007.22 1540.23 Q1004.48 1536.5 999.804 1536.5 M999.804 1531.54 Q1007.44 1531.54 1011.8 1536.5 Q1016.16 1541.47 1016.16 1550.25 Q1016.16 1559 1011.8 1564 Q1007.44 1568.97 999.804 1568.97 Q992.133 1568.97 987.772 1564 Q983.444 1559 983.444 1550.25 Q983.444 1541.47 987.772 1536.5 Q992.133 1531.54 999.804 1531.54 Z\" fill=\"#000000\" fill-rule=\"evenodd\" fill-opacity=\"1\" /><path clip-path=\"url(#clip520)\" d=\"M1043.92 1518.52 L1043.92 1523.39 L1038.32 1523.39 Q1035.17 1523.39 1033.92 1524.66 Q1032.71 1525.93 1032.71 1529.24 L1032.71 1532.4 L1042.36 1532.4 L1042.36 1536.95 L1032.71 1536.95 L1032.71 1568.04 L1026.83 1568.04 L1026.83 1536.95 L1021.22 1536.95 L1021.22 1532.4 L1026.83 1532.4 L1026.83 1529.91 Q1026.83 1523.96 1029.6 1521.26 Q1032.36 1518.52 1038.38 1518.52 L1043.92 1518.52 Z\" fill=\"#000000\" fill-rule=\"evenodd\" fill-opacity=\"1\" /><path clip-path=\"url(#clip520)\" d=\"M1075.21 1562.7 L1075.21 1581.6 L1069.32 1581.6 L1069.32 1532.4 L1075.21 1532.4 L1075.21 1537.81 Q1077.05 1534.62 1079.85 1533.1 Q1082.69 1531.54 1086.6 1531.54 Q1093.09 1531.54 1097.14 1536.69 Q1101.21 1541.85 1101.21 1550.25 Q1101.21 1558.65 1097.14 1563.81 Q1093.09 1568.97 1086.6 1568.97 Q1082.69 1568.97 1079.85 1567.44 Q1077.05 1565.88 1075.21 1562.7 M1095.13 1550.25 Q1095.13 1543.79 1092.46 1540.13 Q1089.81 1536.44 1085.17 1536.44 Q1080.52 1536.44 1077.85 1540.13 Q1075.21 1543.79 1075.21 1550.25 Q1075.21 1556.71 1077.85 1560.4 Q1080.52 1564.07 1085.17 1564.07 Q1089.81 1564.07 1092.46 1560.4 Q1095.13 1556.71 1095.13 1550.25 Z\" fill=\"#000000\" fill-rule=\"evenodd\" fill-opacity=\"1\" /><path clip-path=\"url(#clip520)\" d=\"M1141.41 1548.76 L1141.41 1551.62 L1114.48 1551.62 Q1114.86 1557.67 1118.11 1560.85 Q1121.39 1564 1127.21 1564 Q1130.59 1564 1133.74 1563.17 Q1136.92 1562.35 1140.04 1560.69 L1140.04 1566.23 Q1136.89 1567.57 1133.58 1568.27 Q1130.27 1568.97 1126.86 1568.97 Q1118.33 1568.97 1113.34 1564 Q1108.37 1559.04 1108.37 1550.57 Q1108.37 1541.82 1113.08 1536.69 Q1117.82 1531.54 1125.84 1531.54 Q1133.04 1531.54 1137.21 1536.18 Q1141.41 1540.8 1141.41 1548.76 M1135.55 1547.04 Q1135.49 1542.23 1132.85 1539.37 Q1130.24 1536.5 1125.91 1536.5 Q1121.01 1536.5 1118.05 1539.27 Q1115.12 1542.04 1114.67 1547.07 L1135.55 1547.04 Z\" fill=\"#000000\" fill-rule=\"evenodd\" fill-opacity=\"1\" /><path clip-path=\"url(#clip520)\" d=\"M1171.68 1537.87 Q1170.69 1537.3 1169.51 1537.04 Q1168.37 1536.76 1166.97 1536.76 Q1162 1536.76 1159.33 1540 Q1156.69 1543.22 1156.69 1549.27 L1156.69 1568.04 L1150.8 1568.04 L1150.8 1532.4 L1156.69 1532.4 L1156.69 1537.93 Q1158.53 1534.69 1161.49 1533.13 Q1164.45 1531.54 1168.69 1531.54 Q1169.29 1531.54 1170.02 1531.63 Q1170.75 1531.7 1171.65 1531.85 L1171.68 1537.87 Z\" fill=\"#000000\" fill-rule=\"evenodd\" fill-opacity=\"1\" /><path clip-path=\"url(#clip520)\" d=\"M1204.43 1539.24 Q1206.63 1535.29 1209.68 1533.41 Q1212.74 1531.54 1216.87 1531.54 Q1222.44 1531.54 1225.47 1535.45 Q1228.49 1539.33 1228.49 1546.53 L1228.49 1568.04 L1222.6 1568.04 L1222.6 1546.72 Q1222.6 1541.59 1220.79 1539.11 Q1218.97 1536.63 1215.25 1536.63 Q1210.7 1536.63 1208.06 1539.65 Q1205.42 1542.68 1205.42 1547.9 L1205.42 1568.04 L1199.53 1568.04 L1199.53 1546.72 Q1199.53 1541.56 1197.71 1539.11 Q1195.9 1536.63 1192.11 1536.63 Q1187.62 1536.63 1184.98 1539.68 Q1182.34 1542.71 1182.34 1547.9 L1182.34 1568.04 L1176.45 1568.04 L1176.45 1532.4 L1182.34 1532.4 L1182.34 1537.93 Q1184.35 1534.66 1187.15 1533.1 Q1189.95 1531.54 1193.8 1531.54 Q1197.68 1531.54 1200.39 1533.51 Q1203.12 1535.48 1204.43 1539.24 Z\" fill=\"#000000\" fill-rule=\"evenodd\" fill-opacity=\"1\" /><path clip-path=\"url(#clip520)\" d=\"M1239.57 1553.98 L1239.57 1532.4 L1245.42 1532.4 L1245.42 1553.75 Q1245.42 1558.81 1247.4 1561.36 Q1249.37 1563.87 1253.32 1563.87 Q1258.06 1563.87 1260.8 1560.85 Q1263.57 1557.83 1263.57 1552.61 L1263.57 1532.4 L1269.42 1532.4 L1269.42 1568.04 L1263.57 1568.04 L1263.57 1562.57 Q1261.43 1565.82 1258.6 1567.41 Q1255.8 1568.97 1252.08 1568.97 Q1245.93 1568.97 1242.75 1565.15 Q1239.57 1561.33 1239.57 1553.98 M1254.3 1531.54 L1254.3 1531.54 Z\" fill=\"#000000\" fill-rule=\"evenodd\" fill-opacity=\"1\" /><path clip-path=\"url(#clip520)\" d=\"M1287.28 1522.27 L1287.28 1532.4 L1299.34 1532.4 L1299.34 1536.95 L1287.28 1536.95 L1287.28 1556.3 Q1287.28 1560.66 1288.46 1561.9 Q1289.67 1563.14 1293.33 1563.14 L1299.34 1563.14 L1299.34 1568.04 L1293.33 1568.04 Q1286.55 1568.04 1283.97 1565.53 Q1281.39 1562.98 1281.39 1556.3 L1281.39 1536.95 L1277.09 1536.95 L1277.09 1532.4 L1281.39 1532.4 L1281.39 1522.27 L1287.28 1522.27 Z\" fill=\"#000000\" fill-rule=\"evenodd\" fill-opacity=\"1\" /><path clip-path=\"url(#clip520)\" d=\"M1323.25 1550.12 Q1316.15 1550.12 1313.41 1551.75 Q1310.67 1553.37 1310.67 1557.29 Q1310.67 1560.4 1312.71 1562.25 Q1314.78 1564.07 1318.31 1564.07 Q1323.18 1564.07 1326.11 1560.63 Q1329.07 1557.16 1329.07 1551.43 L1329.07 1550.12 L1323.25 1550.12 M1334.93 1547.71 L1334.93 1568.04 L1329.07 1568.04 L1329.07 1562.63 Q1327.06 1565.88 1324.07 1567.44 Q1321.08 1568.97 1316.75 1568.97 Q1311.28 1568.97 1308.03 1565.91 Q1304.82 1562.82 1304.82 1557.67 Q1304.82 1551.65 1308.83 1548.6 Q1312.87 1545.54 1320.86 1545.54 L1329.07 1545.54 L1329.07 1544.97 Q1329.07 1540.93 1326.4 1538.73 Q1323.75 1536.5 1318.95 1536.5 Q1315.89 1536.5 1313 1537.23 Q1310.1 1537.97 1307.43 1539.43 L1307.43 1534.02 Q1310.64 1532.78 1313.66 1532.17 Q1316.69 1531.54 1319.55 1531.54 Q1327.29 1531.54 1331.11 1535.55 Q1334.93 1539.56 1334.93 1547.71 Z\" fill=\"#000000\" fill-rule=\"evenodd\" fill-opacity=\"1\" /><path clip-path=\"url(#clip520)\" d=\"M1352.78 1522.27 L1352.78 1532.4 L1364.85 1532.4 L1364.85 1536.95 L1352.78 1536.95 L1352.78 1556.3 Q1352.78 1560.66 1353.96 1561.9 Q1355.17 1563.14 1358.83 1563.14 L1364.85 1563.14 L1364.85 1568.04 L1358.83 1568.04 Q1352.05 1568.04 1349.47 1565.53 Q1346.89 1562.98 1346.89 1556.3 L1346.89 1536.95 L1342.6 1536.95 L1342.6 1532.4 L1346.89 1532.4 L1346.89 1522.27 L1352.78 1522.27 Z\" fill=\"#000000\" fill-rule=\"evenodd\" fill-opacity=\"1\" /><path clip-path=\"url(#clip520)\" d=\"M1372.55 1532.4 L1378.4 1532.4 L1378.4 1568.04 L1372.55 1568.04 L1372.55 1532.4 M1372.55 1518.52 L1378.4 1518.52 L1378.4 1525.93 L1372.55 1525.93 L1372.55 1518.52 Z\" fill=\"#000000\" fill-rule=\"evenodd\" fill-opacity=\"1\" /><path clip-path=\"url(#clip520)\" d=\"M1404.47 1536.5 Q1399.76 1536.5 1397.02 1540.19 Q1394.29 1543.85 1394.29 1550.25 Q1394.29 1556.65 1396.99 1560.34 Q1399.73 1564 1404.47 1564 Q1409.15 1564 1411.89 1560.31 Q1414.62 1556.62 1414.62 1550.25 Q1414.62 1543.92 1411.89 1540.23 Q1409.15 1536.5 1404.47 1536.5 M1404.47 1531.54 Q1412.11 1531.54 1416.47 1536.5 Q1420.83 1541.47 1420.83 1550.25 Q1420.83 1559 1416.47 1564 Q1412.11 1568.97 1404.47 1568.97 Q1396.8 1568.97 1392.44 1564 Q1388.11 1559 1388.11 1550.25 Q1388.11 1541.47 1392.44 1536.5 Q1396.8 1531.54 1404.47 1531.54 Z\" fill=\"#000000\" fill-rule=\"evenodd\" fill-opacity=\"1\" /><path clip-path=\"url(#clip520)\" d=\"M1460.17 1546.53 L1460.17 1568.04 L1454.32 1568.04 L1454.32 1546.72 Q1454.32 1541.66 1452.34 1539.14 Q1450.37 1536.63 1446.42 1536.63 Q1441.68 1536.63 1438.94 1539.65 Q1436.2 1542.68 1436.2 1547.9 L1436.2 1568.04 L1430.32 1568.04 L1430.32 1532.4 L1436.2 1532.4 L1436.2 1537.93 Q1438.31 1534.72 1441.14 1533.13 Q1444 1531.54 1447.73 1531.54 Q1453.87 1531.54 1457.02 1535.36 Q1460.17 1539.14 1460.17 1546.53 Z\" fill=\"#000000\" fill-rule=\"evenodd\" fill-opacity=\"1\" /><path clip-path=\"url(#clip520)\" d=\"M1494.58 1533.45 L1494.58 1538.98 Q1492.1 1537.71 1489.42 1537.07 Q1486.75 1536.44 1483.88 1536.44 Q1479.52 1536.44 1477.33 1537.77 Q1475.16 1539.11 1475.16 1541.79 Q1475.16 1543.82 1476.72 1545 Q1478.28 1546.15 1482.99 1547.2 L1485 1547.64 Q1491.24 1548.98 1493.85 1551.43 Q1496.49 1553.85 1496.49 1558.21 Q1496.49 1563.17 1492.54 1566.07 Q1488.63 1568.97 1481.75 1568.97 Q1478.89 1568.97 1475.77 1568.39 Q1472.68 1567.85 1469.24 1566.74 L1469.24 1560.69 Q1472.49 1562.38 1475.64 1563.24 Q1478.79 1564.07 1481.88 1564.07 Q1486.02 1564.07 1488.24 1562.66 Q1490.47 1561.23 1490.47 1558.65 Q1490.47 1556.27 1488.85 1554.99 Q1487.26 1553.72 1481.81 1552.54 L1479.78 1552.07 Q1474.34 1550.92 1471.92 1548.56 Q1469.5 1546.18 1469.5 1542.04 Q1469.5 1537.01 1473.06 1534.27 Q1476.63 1531.54 1483.18 1531.54 Q1486.43 1531.54 1489.29 1532.01 Q1492.16 1532.49 1494.58 1533.45 Z\" fill=\"#000000\" fill-rule=\"evenodd\" fill-opacity=\"1\" /><path clip-path=\"url(#clip520)\" d=\"M1549.99 1537.81 L1549.99 1518.52 L1555.85 1518.52 L1555.85 1568.04 L1549.99 1568.04 L1549.99 1562.7 Q1548.15 1565.88 1545.31 1567.44 Q1542.51 1568.97 1538.57 1568.97 Q1532.1 1568.97 1528.03 1563.81 Q1523.99 1558.65 1523.99 1550.25 Q1523.99 1541.85 1528.03 1536.69 Q1532.1 1531.54 1538.57 1531.54 Q1542.51 1531.54 1545.31 1533.1 Q1548.15 1534.62 1549.99 1537.81 M1530.04 1550.25 Q1530.04 1556.71 1532.68 1560.4 Q1535.35 1564.07 1540 1564.07 Q1544.64 1564.07 1547.32 1560.4 Q1549.99 1556.71 1549.99 1550.25 Q1549.99 1543.79 1547.32 1540.13 Q1544.64 1536.44 1540 1536.44 Q1535.35 1536.44 1532.68 1540.13 Q1530.04 1543.79 1530.04 1550.25 Z\" fill=\"#000000\" fill-rule=\"evenodd\" fill-opacity=\"1\" /><path clip-path=\"url(#clip520)\" d=\"M1567.91 1532.4 L1573.77 1532.4 L1573.77 1568.04 L1567.91 1568.04 L1567.91 1532.4 M1567.91 1518.52 L1573.77 1518.52 L1573.77 1525.93 L1567.91 1525.93 L1567.91 1518.52 Z\" fill=\"#000000\" fill-rule=\"evenodd\" fill-opacity=\"1\" /><path clip-path=\"url(#clip520)\" d=\"M1608.75 1533.45 L1608.75 1538.98 Q1606.26 1537.71 1603.59 1537.07 Q1600.92 1536.44 1598.05 1536.44 Q1593.69 1536.44 1591.5 1537.77 Q1589.33 1539.11 1589.33 1541.79 Q1589.33 1543.82 1590.89 1545 Q1592.45 1546.15 1597.16 1547.2 L1599.17 1547.64 Q1605.41 1548.98 1608.02 1551.43 Q1610.66 1553.85 1610.66 1558.21 Q1610.66 1563.17 1606.71 1566.07 Q1602.8 1568.97 1595.92 1568.97 Q1593.06 1568.97 1589.94 1568.39 Q1586.85 1567.85 1583.41 1566.74 L1583.41 1560.69 Q1586.66 1562.38 1589.81 1563.24 Q1592.96 1564.07 1596.05 1564.07 Q1600.19 1564.07 1602.41 1562.66 Q1604.64 1561.23 1604.64 1558.65 Q1604.64 1556.27 1603.02 1554.99 Q1601.43 1553.72 1595.98 1552.54 L1593.95 1552.07 Q1588.5 1550.92 1586.09 1548.56 Q1583.67 1546.18 1583.67 1542.04 Q1583.67 1537.01 1587.23 1534.27 Q1590.8 1531.54 1597.35 1531.54 Q1600.6 1531.54 1603.46 1532.01 Q1606.33 1532.49 1608.75 1533.45 Z\" fill=\"#000000\" fill-rule=\"evenodd\" fill-opacity=\"1\" /><path clip-path=\"url(#clip520)\" d=\"M1625.78 1522.27 L1625.78 1532.4 L1637.84 1532.4 L1637.84 1536.95 L1625.78 1536.95 L1625.78 1556.3 Q1625.78 1560.66 1626.95 1561.9 Q1628.16 1563.14 1631.82 1563.14 L1637.84 1563.14 L1637.84 1568.04 L1631.82 1568.04 Q1625.04 1568.04 1622.47 1565.53 Q1619.89 1562.98 1619.89 1556.3 L1619.89 1536.95 L1615.59 1536.95 L1615.59 1532.4 L1619.89 1532.4 L1619.89 1522.27 L1625.78 1522.27 Z\" fill=\"#000000\" fill-rule=\"evenodd\" fill-opacity=\"1\" /><path clip-path=\"url(#clip520)\" d=\"M1666.2 1537.87 Q1665.21 1537.3 1664.03 1537.04 Q1662.89 1536.76 1661.49 1536.76 Q1656.52 1536.76 1653.85 1540 Q1651.21 1543.22 1651.21 1549.27 L1651.21 1568.04 L1645.32 1568.04 L1645.32 1532.4 L1651.21 1532.4 L1651.21 1537.93 Q1653.05 1534.69 1656.01 1533.13 Q1658.97 1531.54 1663.21 1531.54 Q1663.81 1531.54 1664.54 1531.63 Q1665.27 1531.7 1666.17 1531.85 L1666.2 1537.87 Z\" fill=\"#000000\" fill-rule=\"evenodd\" fill-opacity=\"1\" /><path clip-path=\"url(#clip520)\" d=\"M1672.34 1532.4 L1678.2 1532.4 L1678.2 1568.04 L1672.34 1568.04 L1672.34 1532.4 M1672.34 1518.52 L1678.2 1518.52 L1678.2 1525.93 L1672.34 1525.93 L1672.34 1518.52 Z\" fill=\"#000000\" fill-rule=\"evenodd\" fill-opacity=\"1\" /><path clip-path=\"url(#clip520)\" d=\"M1716.04 1550.25 Q1716.04 1543.79 1713.37 1540.13 Q1710.73 1536.44 1706.08 1536.44 Q1701.43 1536.44 1698.76 1540.13 Q1696.12 1543.79 1696.12 1550.25 Q1696.12 1556.71 1698.76 1560.4 Q1701.43 1564.07 1706.08 1564.07 Q1710.73 1564.07 1713.37 1560.4 Q1716.04 1556.71 1716.04 1550.25 M1696.12 1537.81 Q1697.96 1534.62 1700.76 1533.1 Q1703.6 1531.54 1707.51 1531.54 Q1714 1531.54 1718.05 1536.69 Q1722.12 1541.85 1722.12 1550.25 Q1722.12 1558.65 1718.05 1563.81 Q1714 1568.97 1707.51 1568.97 Q1703.6 1568.97 1700.76 1567.44 Q1697.96 1565.88 1696.12 1562.7 L1696.12 1568.04 L1690.23 1568.04 L1690.23 1518.52 L1696.12 1518.52 L1696.12 1537.81 Z\" fill=\"#000000\" fill-rule=\"evenodd\" fill-opacity=\"1\" /><path clip-path=\"url(#clip520)\" d=\"M1731.22 1553.98 L1731.22 1532.4 L1737.08 1532.4 L1737.08 1553.75 Q1737.08 1558.81 1739.05 1561.36 Q1741.03 1563.87 1744.97 1563.87 Q1749.72 1563.87 1752.45 1560.85 Q1755.22 1557.83 1755.22 1552.61 L1755.22 1532.4 L1761.08 1532.4 L1761.08 1568.04 L1755.22 1568.04 L1755.22 1562.57 Q1753.09 1565.82 1750.26 1567.41 Q1747.46 1568.97 1743.73 1568.97 Q1737.59 1568.97 1734.41 1565.15 Q1731.22 1561.33 1731.22 1553.98 M1745.96 1531.54 L1745.96 1531.54 Z\" fill=\"#000000\" fill-rule=\"evenodd\" fill-opacity=\"1\" /><path clip-path=\"url(#clip520)\" d=\"M1778.93 1522.27 L1778.93 1532.4 L1791 1532.4 L1791 1536.95 L1778.93 1536.95 L1778.93 1556.3 Q1778.93 1560.66 1780.11 1561.9 Q1781.32 1563.14 1784.98 1563.14 L1791 1563.14 L1791 1568.04 L1784.98 1568.04 Q1778.2 1568.04 1775.62 1565.53 Q1773.05 1562.98 1773.05 1556.3 L1773.05 1536.95 L1768.75 1536.95 L1768.75 1532.4 L1773.05 1532.4 L1773.05 1522.27 L1778.93 1522.27 Z\" fill=\"#000000\" fill-rule=\"evenodd\" fill-opacity=\"1\" /><path clip-path=\"url(#clip520)\" d=\"M1829.19 1548.76 L1829.19 1551.62 L1802.26 1551.62 Q1802.65 1557.67 1805.89 1560.85 Q1809.17 1564 1815 1564 Q1818.37 1564 1821.52 1563.17 Q1824.7 1562.35 1827.82 1560.69 L1827.82 1566.23 Q1824.67 1567.57 1821.36 1568.27 Q1818.05 1568.97 1814.65 1568.97 Q1806.12 1568.97 1801.12 1564 Q1796.15 1559.04 1796.15 1550.57 Q1796.15 1541.82 1800.86 1536.69 Q1805.61 1531.54 1813.63 1531.54 Q1820.82 1531.54 1824.99 1536.18 Q1829.19 1540.8 1829.19 1548.76 M1823.34 1547.04 Q1823.27 1542.23 1820.63 1539.37 Q1818.02 1536.5 1813.69 1536.5 Q1808.79 1536.5 1805.83 1539.27 Q1802.9 1542.04 1802.46 1547.07 L1823.34 1547.04 Z\" fill=\"#000000\" fill-rule=\"evenodd\" fill-opacity=\"1\" /><path clip-path=\"url(#clip520)\" d=\"M1862.26 1537.81 L1862.26 1518.52 L1868.12 1518.52 L1868.12 1568.04 L1862.26 1568.04 L1862.26 1562.7 Q1860.42 1565.88 1857.58 1567.44 Q1854.78 1568.97 1850.83 1568.97 Q1844.37 1568.97 1840.3 1563.81 Q1836.26 1558.65 1836.26 1550.25 Q1836.26 1541.85 1840.3 1536.69 Q1844.37 1531.54 1850.83 1531.54 Q1854.78 1531.54 1857.58 1533.1 Q1860.42 1534.62 1862.26 1537.81 M1842.3 1550.25 Q1842.3 1556.71 1844.95 1560.4 Q1847.62 1564.07 1852.27 1564.07 Q1856.91 1564.07 1859.59 1560.4 Q1862.26 1556.71 1862.26 1550.25 Q1862.26 1543.79 1859.59 1540.13 Q1856.91 1536.44 1852.27 1536.44 Q1847.62 1536.44 1844.95 1540.13 Q1842.3 1543.79 1842.3 1550.25 Z\" fill=\"#000000\" fill-rule=\"evenodd\" fill-opacity=\"1\" /><polyline clip-path=\"url(#clip522)\" style=\"stroke:#000000; stroke-linecap:butt; stroke-linejoin:round; stroke-width:2; stroke-opacity:0.1; fill:none\" points=\"\n",
       "  219.033,1200.85 2352.76,1200.85 \n",
       "  \"/>\n",
       "<polyline clip-path=\"url(#clip522)\" style=\"stroke:#000000; stroke-linecap:butt; stroke-linejoin:round; stroke-width:2; stroke-opacity:0.1; fill:none\" points=\"\n",
       "  219.033,946.152 2352.76,946.152 \n",
       "  \"/>\n",
       "<polyline clip-path=\"url(#clip522)\" style=\"stroke:#000000; stroke-linecap:butt; stroke-linejoin:round; stroke-width:2; stroke-opacity:0.1; fill:none\" points=\"\n",
       "  219.033,691.457 2352.76,691.457 \n",
       "  \"/>\n",
       "<polyline clip-path=\"url(#clip522)\" style=\"stroke:#000000; stroke-linecap:butt; stroke-linejoin:round; stroke-width:2; stroke-opacity:0.1; fill:none\" points=\"\n",
       "  219.033,436.761 2352.76,436.761 \n",
       "  \"/>\n",
       "<polyline clip-path=\"url(#clip522)\" style=\"stroke:#000000; stroke-linecap:butt; stroke-linejoin:round; stroke-width:2; stroke-opacity:0.1; fill:none\" points=\"\n",
       "  219.033,182.066 2352.76,182.066 \n",
       "  \"/>\n",
       "<polyline clip-path=\"url(#clip520)\" style=\"stroke:#000000; stroke-linecap:butt; stroke-linejoin:round; stroke-width:4; stroke-opacity:1; fill:none\" points=\"\n",
       "  219.033,1423.18 219.033,47.2441 \n",
       "  \"/>\n",
       "<polyline clip-path=\"url(#clip520)\" style=\"stroke:#000000; stroke-linecap:butt; stroke-linejoin:round; stroke-width:4; stroke-opacity:1; fill:none\" points=\"\n",
       "  219.033,1200.85 237.931,1200.85 \n",
       "  \"/>\n",
       "<polyline clip-path=\"url(#clip520)\" style=\"stroke:#000000; stroke-linecap:butt; stroke-linejoin:round; stroke-width:4; stroke-opacity:1; fill:none\" points=\"\n",
       "  219.033,946.152 237.931,946.152 \n",
       "  \"/>\n",
       "<polyline clip-path=\"url(#clip520)\" style=\"stroke:#000000; stroke-linecap:butt; stroke-linejoin:round; stroke-width:4; stroke-opacity:1; fill:none\" points=\"\n",
       "  219.033,691.457 237.931,691.457 \n",
       "  \"/>\n",
       "<polyline clip-path=\"url(#clip520)\" style=\"stroke:#000000; stroke-linecap:butt; stroke-linejoin:round; stroke-width:4; stroke-opacity:1; fill:none\" points=\"\n",
       "  219.033,436.761 237.931,436.761 \n",
       "  \"/>\n",
       "<polyline clip-path=\"url(#clip520)\" style=\"stroke:#000000; stroke-linecap:butt; stroke-linejoin:round; stroke-width:4; stroke-opacity:1; fill:none\" points=\"\n",
       "  219.033,182.066 237.931,182.066 \n",
       "  \"/>\n",
       "<path clip-path=\"url(#clip520)\" d=\"M116.668 1214.19 L124.306 1214.19 L124.306 1187.83 L115.996 1189.49 L115.996 1185.23 L124.26 1183.57 L128.936 1183.57 L128.936 1214.19 L136.575 1214.19 L136.575 1218.13 L116.668 1218.13 L116.668 1214.19 Z\" fill=\"#000000\" fill-rule=\"evenodd\" fill-opacity=\"1\" /><path clip-path=\"url(#clip520)\" d=\"M146.019 1212.25 L150.903 1212.25 L150.903 1218.13 L146.019 1218.13 L146.019 1212.25 Z\" fill=\"#000000\" fill-rule=\"evenodd\" fill-opacity=\"1\" /><path clip-path=\"url(#clip520)\" d=\"M171.089 1186.65 Q167.477 1186.65 165.649 1190.21 Q163.843 1193.75 163.843 1200.88 Q163.843 1207.99 165.649 1211.55 Q167.477 1215.09 171.089 1215.09 Q174.723 1215.09 176.528 1211.55 Q178.357 1207.99 178.357 1200.88 Q178.357 1193.75 176.528 1190.21 Q174.723 1186.65 171.089 1186.65 M171.089 1182.94 Q176.899 1182.94 179.954 1187.55 Q183.033 1192.13 183.033 1200.88 Q183.033 1209.61 179.954 1214.22 Q176.899 1218.8 171.089 1218.8 Q165.278 1218.8 162.2 1214.22 Q159.144 1209.61 159.144 1200.88 Q159.144 1192.13 162.2 1187.55 Q165.278 1182.94 171.089 1182.94 Z\" fill=\"#000000\" fill-rule=\"evenodd\" fill-opacity=\"1\" /><path clip-path=\"url(#clip520)\" d=\"M117.663 959.497 L125.302 959.497 L125.302 933.131 L116.992 934.798 L116.992 930.539 L125.255 928.872 L129.931 928.872 L129.931 959.497 L137.57 959.497 L137.57 963.432 L117.663 963.432 L117.663 959.497 Z\" fill=\"#000000\" fill-rule=\"evenodd\" fill-opacity=\"1\" /><path clip-path=\"url(#clip520)\" d=\"M147.015 957.552 L151.899 957.552 L151.899 963.432 L147.015 963.432 L147.015 957.552 Z\" fill=\"#000000\" fill-rule=\"evenodd\" fill-opacity=\"1\" /><path clip-path=\"url(#clip520)\" d=\"M162.13 928.872 L180.487 928.872 L180.487 932.807 L166.413 932.807 L166.413 941.279 Q167.431 940.932 168.45 940.77 Q169.468 940.585 170.487 940.585 Q176.274 940.585 179.653 943.756 Q183.033 946.927 183.033 952.344 Q183.033 957.923 179.561 961.024 Q176.089 964.103 169.769 964.103 Q167.593 964.103 165.325 963.733 Q163.079 963.362 160.672 962.622 L160.672 957.923 Q162.755 959.057 164.977 959.612 Q167.2 960.168 169.677 960.168 Q173.681 960.168 176.019 958.062 Q178.357 955.955 178.357 952.344 Q178.357 948.733 176.019 946.626 Q173.681 944.52 169.677 944.52 Q167.802 944.52 165.927 944.937 Q164.075 945.353 162.13 946.233 L162.13 928.872 Z\" fill=\"#000000\" fill-rule=\"evenodd\" fill-opacity=\"1\" /><path clip-path=\"url(#clip520)\" d=\"M119.885 704.801 L136.204 704.801 L136.204 708.737 L114.26 708.737 L114.26 704.801 Q116.922 702.047 121.505 697.417 Q126.112 692.764 127.292 691.422 Q129.538 688.899 130.417 687.163 Q131.32 685.403 131.32 683.714 Q131.32 680.959 129.376 679.223 Q127.455 677.487 124.353 677.487 Q122.154 677.487 119.7 678.251 Q117.269 679.014 114.492 680.565 L114.492 675.843 Q117.316 674.709 119.769 674.13 Q122.223 673.552 124.26 673.552 Q129.63 673.552 132.825 676.237 Q136.019 678.922 136.019 683.413 Q136.019 685.542 135.209 687.464 Q134.422 689.362 132.316 691.954 Q131.737 692.626 128.635 695.843 Q125.533 699.038 119.885 704.801 Z\" fill=\"#000000\" fill-rule=\"evenodd\" fill-opacity=\"1\" /><path clip-path=\"url(#clip520)\" d=\"M146.019 702.857 L150.903 702.857 L150.903 708.737 L146.019 708.737 L146.019 702.857 Z\" fill=\"#000000\" fill-rule=\"evenodd\" fill-opacity=\"1\" /><path clip-path=\"url(#clip520)\" d=\"M171.089 677.255 Q167.477 677.255 165.649 680.82 Q163.843 684.362 163.843 691.491 Q163.843 698.598 165.649 702.163 Q167.477 705.704 171.089 705.704 Q174.723 705.704 176.528 702.163 Q178.357 698.598 178.357 691.491 Q178.357 684.362 176.528 680.82 Q174.723 677.255 171.089 677.255 M171.089 673.552 Q176.899 673.552 179.954 678.158 Q183.033 682.741 183.033 691.491 Q183.033 700.218 179.954 704.825 Q176.899 709.408 171.089 709.408 Q165.278 709.408 162.2 704.825 Q159.144 700.218 159.144 691.491 Q159.144 682.741 162.2 678.158 Q165.278 673.552 171.089 673.552 Z\" fill=\"#000000\" fill-rule=\"evenodd\" fill-opacity=\"1\" /><path clip-path=\"url(#clip520)\" d=\"M120.88 450.106 L137.2 450.106 L137.2 454.041 L115.256 454.041 L115.256 450.106 Q117.918 447.351 122.501 442.722 Q127.107 438.069 128.288 436.727 Q130.533 434.203 131.413 432.467 Q132.316 430.708 132.316 429.018 Q132.316 426.264 130.371 424.527 Q128.45 422.791 125.348 422.791 Q123.149 422.791 120.695 423.555 Q118.265 424.319 115.487 425.87 L115.487 421.148 Q118.311 420.014 120.765 419.435 Q123.218 418.856 125.255 418.856 Q130.626 418.856 133.82 421.541 Q137.015 424.227 137.015 428.717 Q137.015 430.847 136.204 432.768 Q135.417 434.666 133.311 437.259 Q132.732 437.93 129.63 441.148 Q126.529 444.342 120.88 450.106 Z\" fill=\"#000000\" fill-rule=\"evenodd\" fill-opacity=\"1\" /><path clip-path=\"url(#clip520)\" d=\"M147.015 448.162 L151.899 448.162 L151.899 454.041 L147.015 454.041 L147.015 448.162 Z\" fill=\"#000000\" fill-rule=\"evenodd\" fill-opacity=\"1\" /><path clip-path=\"url(#clip520)\" d=\"M162.13 419.481 L180.487 419.481 L180.487 423.416 L166.413 423.416 L166.413 431.889 Q167.431 431.541 168.45 431.379 Q169.468 431.194 170.487 431.194 Q176.274 431.194 179.653 434.365 Q183.033 437.537 183.033 442.953 Q183.033 448.532 179.561 451.634 Q176.089 454.713 169.769 454.713 Q167.593 454.713 165.325 454.342 Q163.079 453.972 160.672 453.231 L160.672 448.532 Q162.755 449.666 164.977 450.222 Q167.2 450.777 169.677 450.777 Q173.681 450.777 176.019 448.671 Q178.357 446.564 178.357 442.953 Q178.357 439.342 176.019 437.236 Q173.681 435.129 169.677 435.129 Q167.802 435.129 165.927 435.546 Q164.075 435.963 162.13 436.842 L162.13 419.481 Z\" fill=\"#000000\" fill-rule=\"evenodd\" fill-opacity=\"1\" /><path clip-path=\"url(#clip520)\" d=\"M130.024 180.712 Q133.38 181.429 135.255 183.698 Q137.154 185.966 137.154 189.3 Q137.154 194.415 133.635 197.216 Q130.117 200.017 123.635 200.017 Q121.459 200.017 119.144 199.577 Q116.853 199.161 114.399 198.304 L114.399 193.79 Q116.343 194.925 118.658 195.503 Q120.973 196.082 123.496 196.082 Q127.894 196.082 130.186 194.346 Q132.501 192.61 132.501 189.3 Q132.501 186.244 130.348 184.531 Q128.218 182.795 124.399 182.795 L120.371 182.795 L120.371 178.953 L124.584 178.953 Q128.033 178.953 129.862 177.587 Q131.691 176.198 131.691 173.605 Q131.691 170.943 129.792 169.531 Q127.917 168.096 124.399 168.096 Q122.478 168.096 120.279 168.513 Q118.08 168.929 115.441 169.809 L115.441 165.642 Q118.103 164.902 120.418 164.531 Q122.755 164.161 124.816 164.161 Q130.14 164.161 133.242 166.591 Q136.343 168.999 136.343 173.119 Q136.343 175.99 134.7 177.98 Q133.056 179.948 130.024 180.712 Z\" fill=\"#000000\" fill-rule=\"evenodd\" fill-opacity=\"1\" /><path clip-path=\"url(#clip520)\" d=\"M146.019 193.466 L150.903 193.466 L150.903 199.346 L146.019 199.346 L146.019 193.466 Z\" fill=\"#000000\" fill-rule=\"evenodd\" fill-opacity=\"1\" /><path clip-path=\"url(#clip520)\" d=\"M171.089 167.865 Q167.477 167.865 165.649 171.429 Q163.843 174.971 163.843 182.101 Q163.843 189.207 165.649 192.772 Q167.477 196.314 171.089 196.314 Q174.723 196.314 176.528 192.772 Q178.357 189.207 178.357 182.101 Q178.357 174.971 176.528 171.429 Q174.723 167.865 171.089 167.865 M171.089 164.161 Q176.899 164.161 179.954 168.767 Q183.033 173.351 183.033 182.101 Q183.033 190.827 179.954 195.434 Q176.899 200.017 171.089 200.017 Q165.278 200.017 162.2 195.434 Q159.144 190.827 159.144 182.101 Q159.144 173.351 162.2 168.767 Q165.278 164.161 171.089 164.161 Z\" fill=\"#000000\" fill-rule=\"evenodd\" fill-opacity=\"1\" /><path clip-path=\"url(#clip520)\" d=\"M41.7242 895.58 Q42.4244 893.511 44.7161 891.57 Q47.0077 889.596 51.0181 887.623 L64.0042 881.098 L64.0042 888.005 L51.8138 894.084 Q47.0395 896.439 45.48 898.667 Q43.9204 900.864 43.9204 904.683 L43.9204 911.685 L64.0042 911.685 L64.0042 918.115 L16.4842 918.115 L16.4842 903.601 Q16.4842 895.453 19.8898 891.442 Q23.2955 887.432 30.1704 887.432 Q34.6582 887.432 37.6183 889.533 Q40.5784 891.601 41.7242 895.58 M21.7677 911.685 L38.6368 911.685 L38.6368 903.601 Q38.6368 898.954 36.5043 896.599 Q34.34 894.211 30.1704 894.211 Q26.0009 894.211 23.9002 896.599 Q21.7677 898.954 21.7677 903.601 L21.7677 911.685 Z\" fill=\"#000000\" fill-rule=\"evenodd\" fill-opacity=\"1\" /><path clip-path=\"url(#clip520)\" d=\"M49.9359 876.61 L28.3562 876.61 L28.3562 870.754 L49.7131 870.754 Q54.7739 870.754 57.3202 868.78 Q59.8346 866.807 59.8346 862.86 Q59.8346 858.118 56.8109 855.381 Q53.7872 852.612 48.5673 852.612 L28.3562 852.612 L28.3562 846.755 L64.0042 846.755 L64.0042 852.612 L58.5296 852.612 Q61.7762 854.744 63.3676 857.577 Q64.9272 860.378 64.9272 864.102 Q64.9272 870.245 61.1078 873.427 Q57.2883 876.61 49.9359 876.61 M27.4968 861.874 L27.4968 861.874 Z\" fill=\"#000000\" fill-rule=\"evenodd\" fill-opacity=\"1\" /><path clip-path=\"url(#clip520)\" d=\"M42.4881 805.06 L64.0042 805.06 L64.0042 810.916 L42.679 810.916 Q37.6183 810.916 35.1038 812.89 Q32.5894 814.863 32.5894 818.81 Q32.5894 823.552 35.6131 826.289 Q38.6368 829.027 43.8567 829.027 L64.0042 829.027 L64.0042 834.915 L28.3562 834.915 L28.3562 829.027 L33.8944 829.027 Q30.6797 826.926 29.0883 824.093 Q27.4968 821.229 27.4968 817.505 Q27.4968 811.362 31.3163 808.211 Q35.1038 805.06 42.4881 805.06 Z\" fill=\"#000000\" fill-rule=\"evenodd\" fill-opacity=\"1\" /><path clip-path=\"url(#clip520)\" d=\"M18.2347 787.586 L28.3562 787.586 L28.3562 775.523 L32.9077 775.523 L32.9077 787.586 L52.2594 787.586 Q56.6199 787.586 57.8613 786.408 Q59.1026 785.199 59.1026 781.538 L59.1026 775.523 L64.0042 775.523 L64.0042 781.538 Q64.0042 788.318 61.4897 790.896 Q58.9434 793.474 52.2594 793.474 L32.9077 793.474 L32.9077 797.771 L28.3562 797.771 L28.3562 793.474 L18.2347 793.474 L18.2347 787.586 Z\" fill=\"#000000\" fill-rule=\"evenodd\" fill-opacity=\"1\" /><path clip-path=\"url(#clip520)\" d=\"M28.3562 767.82 L28.3562 761.964 L64.0042 761.964 L64.0042 767.82 L28.3562 767.82 M14.479 767.82 L14.479 761.964 L21.895 761.964 L21.895 767.82 L14.479 767.82 Z\" fill=\"#000000\" fill-rule=\"evenodd\" fill-opacity=\"1\" /><path clip-path=\"url(#clip520)\" d=\"M35.1993 721.955 Q31.2526 719.759 29.3747 716.704 Q27.4968 713.648 27.4968 709.51 Q27.4968 703.94 31.4117 700.917 Q35.2948 697.893 42.4881 697.893 L64.0042 697.893 L64.0042 703.781 L42.679 703.781 Q37.5546 703.781 35.072 705.596 Q32.5894 707.41 32.5894 711.134 Q32.5894 715.685 35.6131 718.327 Q38.6368 720.969 43.8567 720.969 L64.0042 720.969 L64.0042 726.857 L42.679 726.857 Q37.5228 726.857 35.072 728.671 Q32.5894 730.485 32.5894 734.273 Q32.5894 738.761 35.6449 741.403 Q38.6686 744.044 43.8567 744.044 L64.0042 744.044 L64.0042 749.933 L28.3562 749.933 L28.3562 744.044 L33.8944 744.044 Q30.616 742.039 29.0564 739.238 Q27.4968 736.437 27.4968 732.586 Q27.4968 728.703 29.4702 725.998 Q31.4436 723.26 35.1993 721.955 Z\" fill=\"#000000\" fill-rule=\"evenodd\" fill-opacity=\"1\" /><path clip-path=\"url(#clip520)\" d=\"M44.7161 655.72 L47.5806 655.72 L47.5806 682.647 Q53.6281 682.265 56.8109 679.019 Q59.9619 675.74 59.9619 669.916 Q59.9619 666.542 59.1344 663.391 Q58.3069 660.208 56.6518 657.089 L62.1899 657.089 Q63.5267 660.24 64.227 663.55 Q64.9272 666.86 64.9272 670.266 Q64.9272 678.796 59.9619 683.793 Q54.9967 688.758 46.5303 688.758 Q37.7774 688.758 32.6531 684.048 Q27.4968 679.305 27.4968 671.284 Q27.4968 664.091 32.1438 659.922 Q36.7589 655.72 44.7161 655.72 M42.9973 661.577 Q38.1912 661.64 35.3266 664.282 Q32.4621 666.892 32.4621 671.221 Q32.4621 676.122 35.2312 679.082 Q38.0002 682.011 43.0292 682.456 L42.9973 661.577 Z\" fill=\"#000000\" fill-rule=\"evenodd\" fill-opacity=\"1\" /><path clip-path=\"url(#clip520)\" d=\"M14.5426 611.319 Q21.8632 615.584 29.0246 617.653 Q36.186 619.722 43.5384 619.722 Q50.8908 619.722 58.1159 617.653 Q65.3091 615.553 72.5979 611.319 L72.5979 616.412 Q65.1182 621.186 57.8931 623.573 Q50.668 625.929 43.5384 625.929 Q36.4406 625.929 29.2474 623.573 Q22.0542 621.218 14.5426 616.412 L14.5426 611.319 Z\" fill=\"#000000\" fill-rule=\"evenodd\" fill-opacity=\"1\" /><path clip-path=\"url(#clip520)\" d=\"M29.4065 577.231 L34.9447 577.231 Q33.6716 579.714 33.035 582.387 Q32.3984 585.061 32.3984 587.925 Q32.3984 592.286 33.7352 594.482 Q35.072 596.646 37.7456 596.646 Q39.7826 596.646 40.9603 595.087 Q42.1061 593.527 43.1565 588.817 L43.6021 586.811 Q44.9389 580.573 47.3897 577.963 Q49.8086 575.321 54.1691 575.321 Q59.1344 575.321 62.0308 579.268 Q64.9272 583.183 64.9272 590.058 Q64.9272 592.923 64.3543 596.042 Q63.8132 599.129 62.6992 602.567 L56.6518 602.567 Q58.3387 599.32 59.198 596.169 Q60.0256 593.018 60.0256 589.931 Q60.0256 585.793 58.6251 583.565 Q57.1929 581.337 54.6147 581.337 Q52.2276 581.337 50.9545 582.96 Q49.6813 584.552 48.5037 589.994 L48.0262 592.031 Q46.8804 597.474 44.5251 599.893 Q42.138 602.312 38.0002 602.312 Q32.9713 602.312 30.2341 598.747 Q27.4968 595.182 27.4968 588.626 Q27.4968 585.379 27.9743 582.515 Q28.4517 579.65 29.4065 577.231 Z\" fill=\"#000000\" fill-rule=\"evenodd\" fill-opacity=\"1\" /><path clip-path=\"url(#clip520)\" d=\"M14.5426 566.919 L14.5426 561.826 Q22.0542 557.052 29.2474 554.696 Q36.4406 552.309 43.5384 552.309 Q50.668 552.309 57.8931 554.696 Q65.1182 557.052 72.5979 561.826 L72.5979 566.919 Q65.3091 562.685 58.1159 560.617 Q50.8908 558.516 43.5384 558.516 Q36.186 558.516 29.0246 560.617 Q21.8632 562.685 14.5426 566.919 Z\" fill=\"#000000\" fill-rule=\"evenodd\" fill-opacity=\"1\" /><polyline clip-path=\"url(#clip522)\" style=\"stroke:#009af9; stroke-linecap:butt; stroke-linejoin:round; stroke-width:4; stroke-opacity:1; fill:none\" points=\"\n",
       "  279.421,1384.24 451.96,783.507 566.985,1157.75 1142.11,629.27 2292.37,86.1857 \n",
       "  \"/>\n",
       "</svg>\n"
      ]
     },
     "execution_count": 108,
     "metadata": {},
     "output_type": "execute_result"
    }
   ],
   "source": [
    "plot(nperms_list, runtimes_nperms; xlabel= \"Number of permutations distributed\", ylabel = \"Runtime (s)\", legend = false)"
   ]
  },
  {
   "cell_type": "code",
   "execution_count": 109,
   "id": "a536f623-2a77-472a-8b4f-ab85beaaac6c",
   "metadata": {},
   "outputs": [
    {
     "data": {
      "image/svg+xml": [
       "<?xml version=\"1.0\" encoding=\"utf-8\"?>\n",
       "<svg xmlns=\"http://www.w3.org/2000/svg\" xmlns:xlink=\"http://www.w3.org/1999/xlink\" width=\"600\" height=\"400\" viewBox=\"0 0 2400 1600\">\n",
       "<defs>\n",
       "  <clipPath id=\"clip560\">\n",
       "    <rect x=\"0\" y=\"0\" width=\"2400\" height=\"1600\"/>\n",
       "  </clipPath>\n",
       "</defs>\n",
       "<path clip-path=\"url(#clip560)\" d=\"\n",
       "M0 1600 L2400 1600 L2400 0 L0 0  Z\n",
       "  \" fill=\"#ffffff\" fill-rule=\"evenodd\" fill-opacity=\"1\"/>\n",
       "<defs>\n",
       "  <clipPath id=\"clip561\">\n",
       "    <rect x=\"480\" y=\"0\" width=\"1681\" height=\"1600\"/>\n",
       "  </clipPath>\n",
       "</defs>\n",
       "<path clip-path=\"url(#clip560)\" d=\"\n",
       "M250.028 1423.18 L2352.76 1423.18 L2352.76 47.2441 L250.028 47.2441  Z\n",
       "  \" fill=\"#ffffff\" fill-rule=\"evenodd\" fill-opacity=\"1\"/>\n",
       "<defs>\n",
       "  <clipPath id=\"clip562\">\n",
       "    <rect x=\"250\" y=\"47\" width=\"2104\" height=\"1377\"/>\n",
       "  </clipPath>\n",
       "</defs>\n",
       "<polyline clip-path=\"url(#clip562)\" style=\"stroke:#000000; stroke-linecap:butt; stroke-linejoin:round; stroke-width:2; stroke-opacity:0.1; fill:none\" points=\"\n",
       "  529.951,1423.18 529.951,47.2441 \n",
       "  \"/>\n",
       "<polyline clip-path=\"url(#clip562)\" style=\"stroke:#000000; stroke-linecap:butt; stroke-linejoin:round; stroke-width:2; stroke-opacity:0.1; fill:none\" points=\"\n",
       "  970.774,1423.18 970.774,47.2441 \n",
       "  \"/>\n",
       "<polyline clip-path=\"url(#clip562)\" style=\"stroke:#000000; stroke-linecap:butt; stroke-linejoin:round; stroke-width:2; stroke-opacity:0.1; fill:none\" points=\"\n",
       "  1411.6,1423.18 1411.6,47.2441 \n",
       "  \"/>\n",
       "<polyline clip-path=\"url(#clip562)\" style=\"stroke:#000000; stroke-linecap:butt; stroke-linejoin:round; stroke-width:2; stroke-opacity:0.1; fill:none\" points=\"\n",
       "  1852.42,1423.18 1852.42,47.2441 \n",
       "  \"/>\n",
       "<polyline clip-path=\"url(#clip562)\" style=\"stroke:#000000; stroke-linecap:butt; stroke-linejoin:round; stroke-width:2; stroke-opacity:0.1; fill:none\" points=\"\n",
       "  2293.24,1423.18 2293.24,47.2441 \n",
       "  \"/>\n",
       "<polyline clip-path=\"url(#clip560)\" style=\"stroke:#000000; stroke-linecap:butt; stroke-linejoin:round; stroke-width:4; stroke-opacity:1; fill:none\" points=\"\n",
       "  250.028,1423.18 2352.76,1423.18 \n",
       "  \"/>\n",
       "<polyline clip-path=\"url(#clip560)\" style=\"stroke:#000000; stroke-linecap:butt; stroke-linejoin:round; stroke-width:4; stroke-opacity:1; fill:none\" points=\"\n",
       "  529.951,1423.18 529.951,1404.28 \n",
       "  \"/>\n",
       "<polyline clip-path=\"url(#clip560)\" style=\"stroke:#000000; stroke-linecap:butt; stroke-linejoin:round; stroke-width:4; stroke-opacity:1; fill:none\" points=\"\n",
       "  970.774,1423.18 970.774,1404.28 \n",
       "  \"/>\n",
       "<polyline clip-path=\"url(#clip560)\" style=\"stroke:#000000; stroke-linecap:butt; stroke-linejoin:round; stroke-width:4; stroke-opacity:1; fill:none\" points=\"\n",
       "  1411.6,1423.18 1411.6,1404.28 \n",
       "  \"/>\n",
       "<polyline clip-path=\"url(#clip560)\" style=\"stroke:#000000; stroke-linecap:butt; stroke-linejoin:round; stroke-width:4; stroke-opacity:1; fill:none\" points=\"\n",
       "  1852.42,1423.18 1852.42,1404.28 \n",
       "  \"/>\n",
       "<polyline clip-path=\"url(#clip560)\" style=\"stroke:#000000; stroke-linecap:butt; stroke-linejoin:round; stroke-width:4; stroke-opacity:1; fill:none\" points=\"\n",
       "  2293.24,1423.18 2293.24,1404.28 \n",
       "  \"/>\n",
       "<path clip-path=\"url(#clip560)\" d=\"M493.643 1479.92 L509.963 1479.92 L509.963 1483.85 L488.018 1483.85 L488.018 1479.92 Q490.68 1477.16 495.264 1472.53 Q499.87 1467.88 501.051 1466.54 Q503.296 1464.01 504.176 1462.28 Q505.078 1460.52 505.078 1458.83 Q505.078 1456.07 503.134 1454.34 Q501.213 1452.6 498.111 1452.6 Q495.912 1452.6 493.458 1453.37 Q491.028 1454.13 488.25 1455.68 L488.25 1450.96 Q491.074 1449.82 493.528 1449.25 Q495.981 1448.67 498.018 1448.67 Q503.389 1448.67 506.583 1451.35 Q509.778 1454.04 509.778 1458.53 Q509.778 1460.66 508.967 1462.58 Q508.18 1464.48 506.074 1467.07 Q505.495 1467.74 502.393 1470.96 Q499.291 1474.15 493.643 1479.92 Z\" fill=\"#000000\" fill-rule=\"evenodd\" fill-opacity=\"1\" /><path clip-path=\"url(#clip560)\" d=\"M529.777 1452.37 Q526.166 1452.37 524.338 1455.94 Q522.532 1459.48 522.532 1466.61 Q522.532 1473.71 524.338 1477.28 Q526.166 1480.82 529.777 1480.82 Q533.412 1480.82 535.217 1477.28 Q537.046 1473.71 537.046 1466.61 Q537.046 1459.48 535.217 1455.94 Q533.412 1452.37 529.777 1452.37 M529.777 1448.67 Q535.588 1448.67 538.643 1453.27 Q541.722 1457.86 541.722 1466.61 Q541.722 1475.33 538.643 1479.94 Q535.588 1484.52 529.777 1484.52 Q523.967 1484.52 520.889 1479.94 Q517.833 1475.33 517.833 1466.61 Q517.833 1457.86 520.889 1453.27 Q523.967 1448.67 529.777 1448.67 Z\" fill=\"#000000\" fill-rule=\"evenodd\" fill-opacity=\"1\" /><path clip-path=\"url(#clip560)\" d=\"M559.939 1452.37 Q556.328 1452.37 554.499 1455.94 Q552.694 1459.48 552.694 1466.61 Q552.694 1473.71 554.499 1477.28 Q556.328 1480.82 559.939 1480.82 Q563.574 1480.82 565.379 1477.28 Q567.208 1473.71 567.208 1466.61 Q567.208 1459.48 565.379 1455.94 Q563.574 1452.37 559.939 1452.37 M559.939 1448.67 Q565.749 1448.67 568.805 1453.27 Q571.884 1457.86 571.884 1466.61 Q571.884 1475.33 568.805 1479.94 Q565.749 1484.52 559.939 1484.52 Q554.129 1484.52 551.05 1479.94 Q547.995 1475.33 547.995 1466.61 Q547.995 1457.86 551.05 1453.27 Q554.129 1448.67 559.939 1448.67 Z\" fill=\"#000000\" fill-rule=\"evenodd\" fill-opacity=\"1\" /><path clip-path=\"url(#clip560)\" d=\"M943.865 1453.37 L932.059 1471.81 L943.865 1471.81 L943.865 1453.37 M942.638 1449.29 L948.518 1449.29 L948.518 1471.81 L953.448 1471.81 L953.448 1475.7 L948.518 1475.7 L948.518 1483.85 L943.865 1483.85 L943.865 1475.7 L928.263 1475.7 L928.263 1471.19 L942.638 1449.29 Z\" fill=\"#000000\" fill-rule=\"evenodd\" fill-opacity=\"1\" /><path clip-path=\"url(#clip560)\" d=\"M971.18 1452.37 Q967.568 1452.37 965.74 1455.94 Q963.934 1459.48 963.934 1466.61 Q963.934 1473.71 965.74 1477.28 Q967.568 1480.82 971.18 1480.82 Q974.814 1480.82 976.619 1477.28 Q978.448 1473.71 978.448 1466.61 Q978.448 1459.48 976.619 1455.94 Q974.814 1452.37 971.18 1452.37 M971.18 1448.67 Q976.99 1448.67 980.045 1453.27 Q983.124 1457.86 983.124 1466.61 Q983.124 1475.33 980.045 1479.94 Q976.99 1484.52 971.18 1484.52 Q965.369 1484.52 962.291 1479.94 Q959.235 1475.33 959.235 1466.61 Q959.235 1457.86 962.291 1453.27 Q965.369 1448.67 971.18 1448.67 Z\" fill=\"#000000\" fill-rule=\"evenodd\" fill-opacity=\"1\" /><path clip-path=\"url(#clip560)\" d=\"M1001.34 1452.37 Q997.73 1452.37 995.902 1455.94 Q994.096 1459.48 994.096 1466.61 Q994.096 1473.71 995.902 1477.28 Q997.73 1480.82 1001.34 1480.82 Q1004.98 1480.82 1006.78 1477.28 Q1008.61 1473.71 1008.61 1466.61 Q1008.61 1459.48 1006.78 1455.94 Q1004.98 1452.37 1001.34 1452.37 M1001.34 1448.67 Q1007.15 1448.67 1010.21 1453.27 Q1013.29 1457.86 1013.29 1466.61 Q1013.29 1475.33 1010.21 1479.94 Q1007.15 1484.52 1001.34 1484.52 Q995.531 1484.52 992.453 1479.94 Q989.397 1475.33 989.397 1466.61 Q989.397 1457.86 992.453 1453.27 Q995.531 1448.67 1001.34 1448.67 Z\" fill=\"#000000\" fill-rule=\"evenodd\" fill-opacity=\"1\" /><path clip-path=\"url(#clip560)\" d=\"M1381.92 1464.71 Q1378.77 1464.71 1376.92 1466.86 Q1375.09 1469.01 1375.09 1472.76 Q1375.09 1476.49 1376.92 1478.67 Q1378.77 1480.82 1381.92 1480.82 Q1385.07 1480.82 1386.9 1478.67 Q1388.75 1476.49 1388.75 1472.76 Q1388.75 1469.01 1386.9 1466.86 Q1385.07 1464.71 1381.92 1464.71 M1391.2 1450.06 L1391.2 1454.31 Q1389.45 1453.48 1387.64 1453.04 Q1385.86 1452.6 1384.1 1452.6 Q1379.47 1452.6 1377.01 1455.73 Q1374.58 1458.85 1374.24 1465.17 Q1375.6 1463.16 1377.66 1462.09 Q1379.72 1461 1382.2 1461 Q1387.41 1461 1390.42 1464.18 Q1393.45 1467.32 1393.45 1472.76 Q1393.45 1478.09 1390.3 1481.31 Q1387.15 1484.52 1381.92 1484.52 Q1375.93 1484.52 1372.76 1479.94 Q1369.58 1475.33 1369.58 1466.61 Q1369.58 1458.41 1373.47 1453.55 Q1377.36 1448.67 1383.91 1448.67 Q1385.67 1448.67 1387.45 1449.01 Q1389.26 1449.36 1391.2 1450.06 Z\" fill=\"#000000\" fill-rule=\"evenodd\" fill-opacity=\"1\" /><path clip-path=\"url(#clip560)\" d=\"M1411.51 1452.37 Q1407.89 1452.37 1406.07 1455.94 Q1404.26 1459.48 1404.26 1466.61 Q1404.26 1473.71 1406.07 1477.28 Q1407.89 1480.82 1411.51 1480.82 Q1415.14 1480.82 1416.95 1477.28 Q1418.77 1473.71 1418.77 1466.61 Q1418.77 1459.48 1416.95 1455.94 Q1415.14 1452.37 1411.51 1452.37 M1411.51 1448.67 Q1417.32 1448.67 1420.37 1453.27 Q1423.45 1457.86 1423.45 1466.61 Q1423.45 1475.33 1420.37 1479.94 Q1417.32 1484.52 1411.51 1484.52 Q1405.7 1484.52 1402.62 1479.94 Q1399.56 1475.33 1399.56 1466.61 Q1399.56 1457.86 1402.62 1453.27 Q1405.7 1448.67 1411.51 1448.67 Z\" fill=\"#000000\" fill-rule=\"evenodd\" fill-opacity=\"1\" /><path clip-path=\"url(#clip560)\" d=\"M1441.67 1452.37 Q1438.06 1452.37 1436.23 1455.94 Q1434.42 1459.48 1434.42 1466.61 Q1434.42 1473.71 1436.23 1477.28 Q1438.06 1480.82 1441.67 1480.82 Q1445.3 1480.82 1447.11 1477.28 Q1448.94 1473.71 1448.94 1466.61 Q1448.94 1459.48 1447.11 1455.94 Q1445.3 1452.37 1441.67 1452.37 M1441.67 1448.67 Q1447.48 1448.67 1450.53 1453.27 Q1453.61 1457.86 1453.61 1466.61 Q1453.61 1475.33 1450.53 1479.94 Q1447.48 1484.52 1441.67 1484.52 Q1435.86 1484.52 1432.78 1479.94 Q1429.72 1475.33 1429.72 1466.61 Q1429.72 1457.86 1432.78 1453.27 Q1435.86 1448.67 1441.67 1448.67 Z\" fill=\"#000000\" fill-rule=\"evenodd\" fill-opacity=\"1\" /><path clip-path=\"url(#clip560)\" d=\"M1822.21 1467.44 Q1818.88 1467.44 1816.96 1469.22 Q1815.06 1471 1815.06 1474.13 Q1815.06 1477.25 1816.96 1479.04 Q1818.88 1480.82 1822.21 1480.82 Q1825.55 1480.82 1827.47 1479.04 Q1829.39 1477.23 1829.39 1474.13 Q1829.39 1471 1827.47 1469.22 Q1825.57 1467.44 1822.21 1467.44 M1817.54 1465.45 Q1814.53 1464.71 1812.84 1462.65 Q1811.17 1460.59 1811.17 1457.63 Q1811.17 1453.48 1814.11 1451.07 Q1817.07 1448.67 1822.21 1448.67 Q1827.38 1448.67 1830.31 1451.07 Q1833.25 1453.48 1833.25 1457.63 Q1833.25 1460.59 1831.56 1462.65 Q1829.9 1464.71 1826.91 1465.45 Q1830.29 1466.24 1832.17 1468.53 Q1834.06 1470.82 1834.06 1474.13 Q1834.06 1479.15 1830.99 1481.84 Q1827.93 1484.52 1822.21 1484.52 Q1816.5 1484.52 1813.42 1481.84 Q1810.36 1479.15 1810.36 1474.13 Q1810.36 1470.82 1812.26 1468.53 Q1814.16 1466.24 1817.54 1465.45 M1815.82 1458.06 Q1815.82 1460.75 1817.49 1462.25 Q1819.18 1463.76 1822.21 1463.76 Q1825.22 1463.76 1826.91 1462.25 Q1828.63 1460.75 1828.63 1458.06 Q1828.63 1455.38 1826.91 1453.88 Q1825.22 1452.37 1822.21 1452.37 Q1819.18 1452.37 1817.49 1453.88 Q1815.82 1455.38 1815.82 1458.06 Z\" fill=\"#000000\" fill-rule=\"evenodd\" fill-opacity=\"1\" /><path clip-path=\"url(#clip560)\" d=\"M1852.38 1452.37 Q1848.76 1452.37 1846.94 1455.94 Q1845.13 1459.48 1845.13 1466.61 Q1845.13 1473.71 1846.94 1477.28 Q1848.76 1480.82 1852.38 1480.82 Q1856.01 1480.82 1857.81 1477.28 Q1859.64 1473.71 1859.64 1466.61 Q1859.64 1459.48 1857.81 1455.94 Q1856.01 1452.37 1852.38 1452.37 M1852.38 1448.67 Q1858.19 1448.67 1861.24 1453.27 Q1864.32 1457.86 1864.32 1466.61 Q1864.32 1475.33 1861.24 1479.94 Q1858.19 1484.52 1852.38 1484.52 Q1846.56 1484.52 1843.49 1479.94 Q1840.43 1475.33 1840.43 1466.61 Q1840.43 1457.86 1843.49 1453.27 Q1846.56 1448.67 1852.38 1448.67 Z\" fill=\"#000000\" fill-rule=\"evenodd\" fill-opacity=\"1\" /><path clip-path=\"url(#clip560)\" d=\"M1882.54 1452.37 Q1878.93 1452.37 1877.1 1455.94 Q1875.29 1459.48 1875.29 1466.61 Q1875.29 1473.71 1877.1 1477.28 Q1878.93 1480.82 1882.54 1480.82 Q1886.17 1480.82 1887.98 1477.28 Q1889.81 1473.71 1889.81 1466.61 Q1889.81 1459.48 1887.98 1455.94 Q1886.17 1452.37 1882.54 1452.37 M1882.54 1448.67 Q1888.35 1448.67 1891.4 1453.27 Q1894.48 1457.86 1894.48 1466.61 Q1894.48 1475.33 1891.4 1479.94 Q1888.35 1484.52 1882.54 1484.52 Q1876.73 1484.52 1873.65 1479.94 Q1870.59 1475.33 1870.59 1466.61 Q1870.59 1457.86 1873.65 1453.27 Q1876.73 1448.67 1882.54 1448.67 Z\" fill=\"#000000\" fill-rule=\"evenodd\" fill-opacity=\"1\" /><path clip-path=\"url(#clip560)\" d=\"M2237.77 1479.92 L2245.41 1479.92 L2245.41 1453.55 L2237.1 1455.22 L2237.1 1450.96 L2245.36 1449.29 L2250.04 1449.29 L2250.04 1479.92 L2257.68 1479.92 L2257.68 1483.85 L2237.77 1483.85 L2237.77 1479.92 Z\" fill=\"#000000\" fill-rule=\"evenodd\" fill-opacity=\"1\" /><path clip-path=\"url(#clip560)\" d=\"M2277.12 1452.37 Q2273.51 1452.37 2271.68 1455.94 Q2269.88 1459.48 2269.88 1466.61 Q2269.88 1473.71 2271.68 1477.28 Q2273.51 1480.82 2277.12 1480.82 Q2280.76 1480.82 2282.56 1477.28 Q2284.39 1473.71 2284.39 1466.61 Q2284.39 1459.48 2282.56 1455.94 Q2280.76 1452.37 2277.12 1452.37 M2277.12 1448.67 Q2282.93 1448.67 2285.99 1453.27 Q2289.07 1457.86 2289.07 1466.61 Q2289.07 1475.33 2285.99 1479.94 Q2282.93 1484.52 2277.12 1484.52 Q2271.31 1484.52 2268.23 1479.94 Q2265.18 1475.33 2265.18 1466.61 Q2265.18 1457.86 2268.23 1453.27 Q2271.31 1448.67 2277.12 1448.67 Z\" fill=\"#000000\" fill-rule=\"evenodd\" fill-opacity=\"1\" /><path clip-path=\"url(#clip560)\" d=\"M2307.28 1452.37 Q2303.67 1452.37 2301.84 1455.94 Q2300.04 1459.48 2300.04 1466.61 Q2300.04 1473.71 2301.84 1477.28 Q2303.67 1480.82 2307.28 1480.82 Q2310.92 1480.82 2312.72 1477.28 Q2314.55 1473.71 2314.55 1466.61 Q2314.55 1459.48 2312.72 1455.94 Q2310.92 1452.37 2307.28 1452.37 M2307.28 1448.67 Q2313.09 1448.67 2316.15 1453.27 Q2319.23 1457.86 2319.23 1466.61 Q2319.23 1475.33 2316.15 1479.94 Q2313.09 1484.52 2307.28 1484.52 Q2301.47 1484.52 2298.4 1479.94 Q2295.34 1475.33 2295.34 1466.61 Q2295.34 1457.86 2298.4 1453.27 Q2301.47 1448.67 2307.28 1448.67 Z\" fill=\"#000000\" fill-rule=\"evenodd\" fill-opacity=\"1\" /><path clip-path=\"url(#clip560)\" d=\"M2337.45 1452.37 Q2333.83 1452.37 2332.01 1455.94 Q2330.2 1459.48 2330.2 1466.61 Q2330.2 1473.71 2332.01 1477.28 Q2333.83 1480.82 2337.45 1480.82 Q2341.08 1480.82 2342.89 1477.28 Q2344.71 1473.71 2344.71 1466.61 Q2344.71 1459.48 2342.89 1455.94 Q2341.08 1452.37 2337.45 1452.37 M2337.45 1448.67 Q2343.26 1448.67 2346.31 1453.27 Q2349.39 1457.86 2349.39 1466.61 Q2349.39 1475.33 2346.31 1479.94 Q2343.26 1484.52 2337.45 1484.52 Q2331.64 1484.52 2328.56 1479.94 Q2325.5 1475.33 2325.5 1466.61 Q2325.5 1457.86 2328.56 1453.27 Q2331.64 1448.67 2337.45 1448.67 Z\" fill=\"#000000\" fill-rule=\"evenodd\" fill-opacity=\"1\" /><path clip-path=\"url(#clip560)\" d=\"M1151.05 1545.35 L1151.05 1562.76 L1161.36 1562.76 Q1166.55 1562.76 1169.03 1560.63 Q1171.55 1558.46 1171.55 1554.04 Q1171.55 1549.58 1169.03 1547.48 Q1166.55 1545.35 1161.36 1545.35 L1151.05 1545.35 M1151.05 1525.81 L1151.05 1540.13 L1160.57 1540.13 Q1165.28 1540.13 1167.57 1538.38 Q1169.89 1536.6 1169.89 1532.97 Q1169.89 1529.37 1167.57 1527.59 Q1165.28 1525.81 1160.57 1525.81 L1151.05 1525.81 M1144.62 1520.52 L1161.04 1520.52 Q1168.4 1520.52 1172.38 1523.58 Q1176.35 1526.63 1176.35 1532.27 Q1176.35 1536.63 1174.32 1539.21 Q1172.28 1541.79 1168.33 1542.42 Q1173.08 1543.44 1175.69 1546.69 Q1178.33 1549.9 1178.33 1554.74 Q1178.33 1561.11 1174 1564.57 Q1169.67 1568.04 1161.68 1568.04 L1144.62 1568.04 L1144.62 1520.52 Z\" fill=\"#000000\" fill-rule=\"evenodd\" fill-opacity=\"1\" /><path clip-path=\"url(#clip560)\" d=\"M1189.09 1518.52 L1194.94 1518.52 L1194.94 1568.04 L1189.09 1568.04 L1189.09 1518.52 Z\" fill=\"#000000\" fill-rule=\"evenodd\" fill-opacity=\"1\" /><path clip-path=\"url(#clip560)\" d=\"M1221.01 1536.5 Q1216.3 1536.5 1213.56 1540.19 Q1210.82 1543.85 1210.82 1550.25 Q1210.82 1556.65 1213.53 1560.34 Q1216.27 1564 1221.01 1564 Q1225.69 1564 1228.43 1560.31 Q1231.16 1556.62 1231.16 1550.25 Q1231.16 1543.92 1228.43 1540.23 Q1225.69 1536.5 1221.01 1536.5 M1221.01 1531.54 Q1228.65 1531.54 1233.01 1536.5 Q1237.37 1541.47 1237.37 1550.25 Q1237.37 1559 1233.01 1564 Q1228.65 1568.97 1221.01 1568.97 Q1213.34 1568.97 1208.98 1564 Q1204.65 1559 1204.65 1550.25 Q1204.65 1541.47 1208.98 1536.5 Q1213.34 1531.54 1221.01 1531.54 Z\" fill=\"#000000\" fill-rule=\"evenodd\" fill-opacity=\"1\" /><path clip-path=\"url(#clip560)\" d=\"M1272.73 1533.76 L1272.73 1539.24 Q1270.25 1537.87 1267.73 1537.2 Q1265.25 1536.5 1262.7 1536.5 Q1257.01 1536.5 1253.86 1540.13 Q1250.71 1543.73 1250.71 1550.25 Q1250.71 1556.78 1253.86 1560.4 Q1257.01 1564 1262.7 1564 Q1265.25 1564 1267.73 1563.33 Q1270.25 1562.63 1272.73 1561.26 L1272.73 1566.68 Q1270.28 1567.82 1267.64 1568.39 Q1265.03 1568.97 1262.07 1568.97 Q1254.02 1568.97 1249.27 1563.91 Q1244.53 1558.85 1244.53 1550.25 Q1244.53 1541.53 1249.3 1536.53 Q1254.11 1531.54 1262.45 1531.54 Q1265.16 1531.54 1267.73 1532.11 Q1270.31 1532.65 1272.73 1533.76 Z\" fill=\"#000000\" fill-rule=\"evenodd\" fill-opacity=\"1\" /><path clip-path=\"url(#clip560)\" d=\"M1282.69 1518.52 L1288.58 1518.52 L1288.58 1547.77 L1306.05 1532.4 L1313.53 1532.4 L1294.63 1549.07 L1314.33 1568.04 L1306.69 1568.04 L1288.58 1550.63 L1288.58 1568.04 L1282.69 1568.04 L1282.69 1518.52 Z\" fill=\"#000000\" fill-rule=\"evenodd\" fill-opacity=\"1\" /><path clip-path=\"url(#clip560)\" d=\"M1364.11 1533.45 L1364.11 1538.98 Q1361.63 1537.71 1358.95 1537.07 Q1356.28 1536.44 1353.42 1536.44 Q1349.06 1536.44 1346.86 1537.77 Q1344.69 1539.11 1344.69 1541.79 Q1344.69 1543.82 1346.25 1545 Q1347.81 1546.15 1352.52 1547.2 L1354.53 1547.64 Q1360.77 1548.98 1363.38 1551.43 Q1366.02 1553.85 1366.02 1558.21 Q1366.02 1563.17 1362.07 1566.07 Q1358.16 1568.97 1351.28 1568.97 Q1348.42 1568.97 1345.3 1568.39 Q1342.21 1567.85 1338.77 1566.74 L1338.77 1560.69 Q1342.02 1562.38 1345.17 1563.24 Q1348.32 1564.07 1351.41 1564.07 Q1355.55 1564.07 1357.78 1562.66 Q1360 1561.23 1360 1558.65 Q1360 1556.27 1358.38 1554.99 Q1356.79 1553.72 1351.35 1552.54 L1349.31 1552.07 Q1343.87 1550.92 1341.45 1548.56 Q1339.03 1546.18 1339.03 1542.04 Q1339.03 1537.01 1342.59 1534.27 Q1346.16 1531.54 1352.72 1531.54 Q1355.96 1531.54 1358.83 1532.01 Q1361.69 1532.49 1364.11 1533.45 Z\" fill=\"#000000\" fill-rule=\"evenodd\" fill-opacity=\"1\" /><path clip-path=\"url(#clip560)\" d=\"M1375.35 1532.4 L1381.2 1532.4 L1381.2 1568.04 L1375.35 1568.04 L1375.35 1532.4 M1375.35 1518.52 L1381.2 1518.52 L1381.2 1525.93 L1375.35 1525.93 L1375.35 1518.52 Z\" fill=\"#000000\" fill-rule=\"evenodd\" fill-opacity=\"1\" /><path clip-path=\"url(#clip560)\" d=\"M1390.91 1532.4 L1418.73 1532.4 L1418.73 1537.74 L1396.7 1563.37 L1418.73 1563.37 L1418.73 1568.04 L1390.11 1568.04 L1390.11 1562.7 L1412.14 1537.07 L1390.91 1537.07 L1390.91 1532.4 Z\" fill=\"#000000\" fill-rule=\"evenodd\" fill-opacity=\"1\" /><path clip-path=\"url(#clip560)\" d=\"M1458.16 1548.76 L1458.16 1551.62 L1431.24 1551.62 Q1431.62 1557.67 1434.86 1560.85 Q1438.14 1564 1443.97 1564 Q1447.34 1564 1450.49 1563.17 Q1453.68 1562.35 1456.79 1560.69 L1456.79 1566.23 Q1453.64 1567.57 1450.33 1568.27 Q1447.02 1568.97 1443.62 1568.97 Q1435.09 1568.97 1430.09 1564 Q1425.13 1559.04 1425.13 1550.57 Q1425.13 1541.82 1429.84 1536.69 Q1434.58 1531.54 1442.6 1531.54 Q1449.79 1531.54 1453.96 1536.18 Q1458.16 1540.8 1458.16 1548.76 M1452.31 1547.04 Q1452.24 1542.23 1449.6 1539.37 Q1446.99 1536.5 1442.66 1536.5 Q1437.76 1536.5 1434.8 1539.27 Q1431.87 1542.04 1431.43 1547.07 L1452.31 1547.04 Z\" fill=\"#000000\" fill-rule=\"evenodd\" fill-opacity=\"1\" /><polyline clip-path=\"url(#clip562)\" style=\"stroke:#000000; stroke-linecap:butt; stroke-linejoin:round; stroke-width:2; stroke-opacity:0.1; fill:none\" points=\"\n",
       "  250.028,1375.67 2352.76,1375.67 \n",
       "  \"/>\n",
       "<polyline clip-path=\"url(#clip562)\" style=\"stroke:#000000; stroke-linecap:butt; stroke-linejoin:round; stroke-width:2; stroke-opacity:0.1; fill:none\" points=\"\n",
       "  250.028,1093.82 2352.76,1093.82 \n",
       "  \"/>\n",
       "<polyline clip-path=\"url(#clip562)\" style=\"stroke:#000000; stroke-linecap:butt; stroke-linejoin:round; stroke-width:2; stroke-opacity:0.1; fill:none\" points=\"\n",
       "  250.028,811.957 2352.76,811.957 \n",
       "  \"/>\n",
       "<polyline clip-path=\"url(#clip562)\" style=\"stroke:#000000; stroke-linecap:butt; stroke-linejoin:round; stroke-width:2; stroke-opacity:0.1; fill:none\" points=\"\n",
       "  250.028,530.099 2352.76,530.099 \n",
       "  \"/>\n",
       "<polyline clip-path=\"url(#clip562)\" style=\"stroke:#000000; stroke-linecap:butt; stroke-linejoin:round; stroke-width:2; stroke-opacity:0.1; fill:none\" points=\"\n",
       "  250.028,248.241 2352.76,248.241 \n",
       "  \"/>\n",
       "<polyline clip-path=\"url(#clip560)\" style=\"stroke:#000000; stroke-linecap:butt; stroke-linejoin:round; stroke-width:4; stroke-opacity:1; fill:none\" points=\"\n",
       "  250.028,1423.18 250.028,47.2441 \n",
       "  \"/>\n",
       "<polyline clip-path=\"url(#clip560)\" style=\"stroke:#000000; stroke-linecap:butt; stroke-linejoin:round; stroke-width:4; stroke-opacity:1; fill:none\" points=\"\n",
       "  250.028,1375.67 268.926,1375.67 \n",
       "  \"/>\n",
       "<polyline clip-path=\"url(#clip560)\" style=\"stroke:#000000; stroke-linecap:butt; stroke-linejoin:round; stroke-width:4; stroke-opacity:1; fill:none\" points=\"\n",
       "  250.028,1093.82 268.926,1093.82 \n",
       "  \"/>\n",
       "<polyline clip-path=\"url(#clip560)\" style=\"stroke:#000000; stroke-linecap:butt; stroke-linejoin:round; stroke-width:4; stroke-opacity:1; fill:none\" points=\"\n",
       "  250.028,811.957 268.926,811.957 \n",
       "  \"/>\n",
       "<polyline clip-path=\"url(#clip560)\" style=\"stroke:#000000; stroke-linecap:butt; stroke-linejoin:round; stroke-width:4; stroke-opacity:1; fill:none\" points=\"\n",
       "  250.028,530.099 268.926,530.099 \n",
       "  \"/>\n",
       "<polyline clip-path=\"url(#clip560)\" style=\"stroke:#000000; stroke-linecap:butt; stroke-linejoin:round; stroke-width:4; stroke-opacity:1; fill:none\" points=\"\n",
       "  250.028,248.241 268.926,248.241 \n",
       "  \"/>\n",
       "<path clip-path=\"url(#clip560)\" d=\"M126.783 1361.47 Q123.172 1361.47 121.343 1365.04 Q119.538 1368.58 119.538 1375.71 Q119.538 1382.81 121.343 1386.38 Q123.172 1389.92 126.783 1389.92 Q130.417 1389.92 132.223 1386.38 Q134.052 1382.81 134.052 1375.71 Q134.052 1368.58 132.223 1365.04 Q130.417 1361.47 126.783 1361.47 M126.783 1357.77 Q132.593 1357.77 135.649 1362.38 Q138.728 1366.96 138.728 1375.71 Q138.728 1384.44 135.649 1389.04 Q132.593 1393.62 126.783 1393.62 Q120.973 1393.62 117.894 1389.04 Q114.839 1384.44 114.839 1375.71 Q114.839 1366.96 117.894 1362.38 Q120.973 1357.77 126.783 1357.77 Z\" fill=\"#000000\" fill-rule=\"evenodd\" fill-opacity=\"1\" /><path clip-path=\"url(#clip560)\" d=\"M146.945 1387.07 L151.829 1387.07 L151.829 1392.95 L146.945 1392.95 L146.945 1387.07 Z\" fill=\"#000000\" fill-rule=\"evenodd\" fill-opacity=\"1\" /><path clip-path=\"url(#clip560)\" d=\"M172.014 1376.54 Q168.681 1376.54 166.76 1378.32 Q164.862 1380.11 164.862 1383.23 Q164.862 1386.36 166.76 1388.14 Q168.681 1389.92 172.014 1389.92 Q175.348 1389.92 177.269 1388.14 Q179.19 1386.33 179.19 1383.23 Q179.19 1380.11 177.269 1378.32 Q175.371 1376.54 172.014 1376.54 M167.339 1374.55 Q164.329 1373.81 162.64 1371.75 Q160.973 1369.69 160.973 1366.73 Q160.973 1362.58 163.913 1360.18 Q166.876 1357.77 172.014 1357.77 Q177.176 1357.77 180.116 1360.18 Q183.056 1362.58 183.056 1366.73 Q183.056 1369.69 181.366 1371.75 Q179.7 1373.81 176.714 1374.55 Q180.093 1375.34 181.968 1377.63 Q183.866 1379.92 183.866 1383.23 Q183.866 1388.25 180.788 1390.94 Q177.732 1393.62 172.014 1393.62 Q166.297 1393.62 163.218 1390.94 Q160.163 1388.25 160.163 1383.23 Q160.163 1379.92 162.061 1377.63 Q163.959 1375.34 167.339 1374.55 M165.626 1367.17 Q165.626 1369.85 167.292 1371.36 Q168.982 1372.86 172.014 1372.86 Q175.024 1372.86 176.714 1371.36 Q178.426 1369.85 178.426 1367.17 Q178.426 1364.48 176.714 1362.98 Q175.024 1361.47 172.014 1361.47 Q168.982 1361.47 167.292 1362.98 Q165.626 1364.48 165.626 1367.17 Z\" fill=\"#000000\" fill-rule=\"evenodd\" fill-opacity=\"1\" /><path clip-path=\"url(#clip560)\" d=\"M202.176 1376.54 Q198.843 1376.54 196.922 1378.32 Q195.024 1380.11 195.024 1383.23 Q195.024 1386.36 196.922 1388.14 Q198.843 1389.92 202.176 1389.92 Q205.51 1389.92 207.431 1388.14 Q209.352 1386.33 209.352 1383.23 Q209.352 1380.11 207.431 1378.32 Q205.533 1376.54 202.176 1376.54 M197.5 1374.55 Q194.491 1373.81 192.801 1371.75 Q191.135 1369.69 191.135 1366.73 Q191.135 1362.58 194.075 1360.18 Q197.037 1357.77 202.176 1357.77 Q207.338 1357.77 210.278 1360.18 Q213.218 1362.58 213.218 1366.73 Q213.218 1369.69 211.528 1371.75 Q209.861 1373.81 206.875 1374.55 Q210.255 1375.34 212.13 1377.63 Q214.028 1379.92 214.028 1383.23 Q214.028 1388.25 210.949 1390.94 Q207.894 1393.62 202.176 1393.62 Q196.459 1393.62 193.38 1390.94 Q190.325 1388.25 190.325 1383.23 Q190.325 1379.92 192.223 1377.63 Q194.121 1375.34 197.5 1374.55 M195.787 1367.17 Q195.787 1369.85 197.454 1371.36 Q199.144 1372.86 202.176 1372.86 Q205.186 1372.86 206.875 1371.36 Q208.588 1369.85 208.588 1367.17 Q208.588 1364.48 206.875 1362.98 Q205.186 1361.47 202.176 1361.47 Q199.144 1361.47 197.454 1362.98 Q195.787 1364.48 195.787 1367.17 Z\" fill=\"#000000\" fill-rule=\"evenodd\" fill-opacity=\"1\" /><path clip-path=\"url(#clip560)\" d=\"M126.691 1079.61 Q123.08 1079.61 121.251 1083.18 Q119.445 1086.72 119.445 1093.85 Q119.445 1100.96 121.251 1104.52 Q123.08 1108.06 126.691 1108.06 Q130.325 1108.06 132.13 1104.52 Q133.959 1100.96 133.959 1093.85 Q133.959 1086.72 132.13 1083.18 Q130.325 1079.61 126.691 1079.61 M126.691 1075.91 Q132.501 1075.91 135.556 1080.52 Q138.635 1085.1 138.635 1093.85 Q138.635 1102.58 135.556 1107.18 Q132.501 1111.77 126.691 1111.77 Q120.88 1111.77 117.802 1107.18 Q114.746 1102.58 114.746 1093.85 Q114.746 1085.1 117.802 1080.52 Q120.88 1075.91 126.691 1075.91 Z\" fill=\"#000000\" fill-rule=\"evenodd\" fill-opacity=\"1\" /><path clip-path=\"url(#clip560)\" d=\"M146.853 1105.22 L151.737 1105.22 L151.737 1111.1 L146.853 1111.1 L146.853 1105.22 Z\" fill=\"#000000\" fill-rule=\"evenodd\" fill-opacity=\"1\" /><path clip-path=\"url(#clip560)\" d=\"M162.061 1110.38 L162.061 1106.12 Q163.82 1106.95 165.626 1107.39 Q167.431 1107.83 169.167 1107.83 Q173.797 1107.83 176.227 1104.73 Q178.681 1101.6 179.028 1095.26 Q177.686 1097.25 175.626 1098.32 Q173.565 1099.38 171.065 1099.38 Q165.88 1099.38 162.848 1096.26 Q159.839 1093.11 159.839 1087.67 Q159.839 1082.35 162.987 1079.13 Q166.135 1075.91 171.366 1075.91 Q177.362 1075.91 180.51 1080.52 Q183.681 1085.1 183.681 1093.85 Q183.681 1102.02 179.792 1106.91 Q175.926 1111.77 169.376 1111.77 Q167.616 1111.77 165.811 1111.42 Q164.005 1111.07 162.061 1110.38 M171.366 1095.73 Q174.514 1095.73 176.343 1093.57 Q178.195 1091.42 178.195 1087.67 Q178.195 1083.94 176.343 1081.79 Q174.514 1079.61 171.366 1079.61 Q168.218 1079.61 166.366 1081.79 Q164.538 1083.94 164.538 1087.67 Q164.538 1091.42 166.366 1093.57 Q168.218 1095.73 171.366 1095.73 Z\" fill=\"#000000\" fill-rule=\"evenodd\" fill-opacity=\"1\" /><path clip-path=\"url(#clip560)\" d=\"M202.084 1079.61 Q198.473 1079.61 196.644 1083.18 Q194.838 1086.72 194.838 1093.85 Q194.838 1100.96 196.644 1104.52 Q198.473 1108.06 202.084 1108.06 Q205.718 1108.06 207.524 1104.52 Q209.352 1100.96 209.352 1093.85 Q209.352 1086.72 207.524 1083.18 Q205.718 1079.61 202.084 1079.61 M202.084 1075.91 Q207.894 1075.91 210.949 1080.52 Q214.028 1085.1 214.028 1093.85 Q214.028 1102.58 210.949 1107.18 Q207.894 1111.77 202.084 1111.77 Q196.274 1111.77 193.195 1107.18 Q190.139 1102.58 190.139 1093.85 Q190.139 1085.1 193.195 1080.52 Q196.274 1075.91 202.084 1075.91 Z\" fill=\"#000000\" fill-rule=\"evenodd\" fill-opacity=\"1\" /><path clip-path=\"url(#clip560)\" d=\"M128.288 797.756 Q124.677 797.756 122.848 801.321 Q121.043 804.862 121.043 811.992 Q121.043 819.099 122.848 822.663 Q124.677 826.205 128.288 826.205 Q131.922 826.205 133.728 822.663 Q135.556 819.099 135.556 811.992 Q135.556 804.862 133.728 801.321 Q131.922 797.756 128.288 797.756 M128.288 794.052 Q134.098 794.052 137.154 798.659 Q140.232 803.242 140.232 811.992 Q140.232 820.719 137.154 825.325 Q134.098 829.909 128.288 829.909 Q122.478 829.909 119.399 825.325 Q116.343 820.719 116.343 811.992 Q116.343 803.242 119.399 798.659 Q122.478 794.052 128.288 794.052 Z\" fill=\"#000000\" fill-rule=\"evenodd\" fill-opacity=\"1\" /><path clip-path=\"url(#clip560)\" d=\"M148.45 823.358 L153.334 823.358 L153.334 829.237 L148.45 829.237 L148.45 823.358 Z\" fill=\"#000000\" fill-rule=\"evenodd\" fill-opacity=\"1\" /><path clip-path=\"url(#clip560)\" d=\"M163.658 828.52 L163.658 824.261 Q165.417 825.094 167.223 825.534 Q169.028 825.973 170.764 825.973 Q175.394 825.973 177.825 822.872 Q180.278 819.747 180.626 813.404 Q179.283 815.395 177.223 816.46 Q175.163 817.524 172.663 817.524 Q167.477 817.524 164.445 814.399 Q161.436 811.251 161.436 805.812 Q161.436 800.488 164.584 797.27 Q167.732 794.052 172.964 794.052 Q178.959 794.052 182.107 798.659 Q185.278 803.242 185.278 811.992 Q185.278 820.163 181.389 825.048 Q177.524 829.909 170.973 829.909 Q169.214 829.909 167.408 829.561 Q165.602 829.214 163.658 828.52 M172.964 813.867 Q176.112 813.867 177.94 811.714 Q179.792 809.562 179.792 805.812 Q179.792 802.085 177.94 799.932 Q176.112 797.756 172.964 797.756 Q169.815 797.756 167.964 799.932 Q166.135 802.085 166.135 805.812 Q166.135 809.562 167.964 811.714 Q169.815 813.867 172.964 813.867 Z\" fill=\"#000000\" fill-rule=\"evenodd\" fill-opacity=\"1\" /><path clip-path=\"url(#clip560)\" d=\"M197.709 825.302 L214.028 825.302 L214.028 829.237 L192.084 829.237 L192.084 825.302 Q194.746 822.548 199.329 817.918 Q203.936 813.265 205.116 811.923 Q207.362 809.399 208.241 807.663 Q209.144 805.904 209.144 804.214 Q209.144 801.46 207.199 799.724 Q205.278 797.988 202.176 797.988 Q199.977 797.988 197.524 798.751 Q195.093 799.515 192.315 801.066 L192.315 796.344 Q195.139 795.21 197.593 794.631 Q200.047 794.052 202.084 794.052 Q207.454 794.052 210.649 796.738 Q213.843 799.423 213.843 803.913 Q213.843 806.043 213.033 807.964 Q212.246 809.862 210.139 812.455 Q209.561 813.126 206.459 816.344 Q203.357 819.538 197.709 825.302 Z\" fill=\"#000000\" fill-rule=\"evenodd\" fill-opacity=\"1\" /><path clip-path=\"url(#clip560)\" d=\"M126.205 515.898 Q122.593 515.898 120.765 519.463 Q118.959 523.004 118.959 530.134 Q118.959 537.24 120.765 540.805 Q122.593 544.347 126.205 544.347 Q129.839 544.347 131.644 540.805 Q133.473 537.24 133.473 530.134 Q133.473 523.004 131.644 519.463 Q129.839 515.898 126.205 515.898 M126.205 512.194 Q132.015 512.194 135.07 516.801 Q138.149 521.384 138.149 530.134 Q138.149 538.861 135.07 543.467 Q132.015 548.051 126.205 548.051 Q120.394 548.051 117.316 543.467 Q114.26 538.861 114.26 530.134 Q114.26 521.384 117.316 516.801 Q120.394 512.194 126.205 512.194 Z\" fill=\"#000000\" fill-rule=\"evenodd\" fill-opacity=\"1\" /><path clip-path=\"url(#clip560)\" d=\"M146.366 541.5 L151.251 541.5 L151.251 547.379 L146.366 547.379 L146.366 541.5 Z\" fill=\"#000000\" fill-rule=\"evenodd\" fill-opacity=\"1\" /><path clip-path=\"url(#clip560)\" d=\"M161.575 546.662 L161.575 542.402 Q163.334 543.236 165.14 543.676 Q166.945 544.115 168.681 544.115 Q173.311 544.115 175.741 541.014 Q178.195 537.889 178.542 531.546 Q177.2 533.537 175.139 534.602 Q173.079 535.666 170.579 535.666 Q165.394 535.666 162.362 532.541 Q159.353 529.393 159.353 523.953 Q159.353 518.629 162.501 515.412 Q165.649 512.194 170.88 512.194 Q176.876 512.194 180.024 516.801 Q183.195 521.384 183.195 530.134 Q183.195 538.305 179.306 543.189 Q175.44 548.051 168.889 548.051 Q167.13 548.051 165.325 547.703 Q163.519 547.356 161.575 546.662 M170.88 532.009 Q174.028 532.009 175.857 529.856 Q177.709 527.703 177.709 523.953 Q177.709 520.227 175.857 518.074 Q174.028 515.898 170.88 515.898 Q167.732 515.898 165.88 518.074 Q164.052 520.227 164.052 523.953 Q164.052 527.703 165.88 529.856 Q167.732 532.009 170.88 532.009 Z\" fill=\"#000000\" fill-rule=\"evenodd\" fill-opacity=\"1\" /><path clip-path=\"url(#clip560)\" d=\"M204.445 516.893 L192.639 535.342 L204.445 535.342 L204.445 516.893 M203.218 512.819 L209.098 512.819 L209.098 535.342 L214.028 535.342 L214.028 539.231 L209.098 539.231 L209.098 547.379 L204.445 547.379 L204.445 539.231 L188.843 539.231 L188.843 534.717 L203.218 512.819 Z\" fill=\"#000000\" fill-rule=\"evenodd\" fill-opacity=\"1\" /><path clip-path=\"url(#clip560)\" d=\"M126.529 234.04 Q122.918 234.04 121.089 237.605 Q119.283 241.146 119.283 248.276 Q119.283 255.382 121.089 258.947 Q122.918 262.489 126.529 262.489 Q130.163 262.489 131.968 258.947 Q133.797 255.382 133.797 248.276 Q133.797 241.146 131.968 237.605 Q130.163 234.04 126.529 234.04 M126.529 230.336 Q132.339 230.336 135.394 234.943 Q138.473 239.526 138.473 248.276 Q138.473 257.003 135.394 261.609 Q132.339 266.192 126.529 266.192 Q120.718 266.192 117.64 261.609 Q114.584 257.003 114.584 248.276 Q114.584 239.526 117.64 234.943 Q120.718 230.336 126.529 230.336 Z\" fill=\"#000000\" fill-rule=\"evenodd\" fill-opacity=\"1\" /><path clip-path=\"url(#clip560)\" d=\"M146.691 259.641 L151.575 259.641 L151.575 265.521 L146.691 265.521 L146.691 259.641 Z\" fill=\"#000000\" fill-rule=\"evenodd\" fill-opacity=\"1\" /><path clip-path=\"url(#clip560)\" d=\"M161.899 264.803 L161.899 260.544 Q163.658 261.378 165.464 261.817 Q167.269 262.257 169.005 262.257 Q173.635 262.257 176.065 259.155 Q178.519 256.03 178.866 249.688 Q177.524 251.679 175.464 252.743 Q173.403 253.808 170.903 253.808 Q165.718 253.808 162.686 250.683 Q159.677 247.535 159.677 242.095 Q159.677 236.771 162.825 233.554 Q165.973 230.336 171.204 230.336 Q177.2 230.336 180.348 234.943 Q183.519 239.526 183.519 248.276 Q183.519 256.447 179.63 261.331 Q175.764 266.192 169.214 266.192 Q167.454 266.192 165.649 265.845 Q163.843 265.498 161.899 264.803 M171.204 250.151 Q174.352 250.151 176.181 247.998 Q178.033 245.845 178.033 242.095 Q178.033 238.368 176.181 236.216 Q174.352 234.04 171.204 234.04 Q168.056 234.04 166.204 236.216 Q164.376 238.368 164.376 242.095 Q164.376 245.845 166.204 247.998 Q168.056 250.151 171.204 250.151 Z\" fill=\"#000000\" fill-rule=\"evenodd\" fill-opacity=\"1\" /><path clip-path=\"url(#clip560)\" d=\"M202.5 246.378 Q199.352 246.378 197.5 248.53 Q195.672 250.683 195.672 254.433 Q195.672 258.16 197.5 260.336 Q199.352 262.489 202.5 262.489 Q205.649 262.489 207.477 260.336 Q209.329 258.16 209.329 254.433 Q209.329 250.683 207.477 248.53 Q205.649 246.378 202.5 246.378 M211.783 231.725 L211.783 235.984 Q210.024 235.151 208.218 234.711 Q206.436 234.271 204.676 234.271 Q200.047 234.271 197.593 237.396 Q195.163 240.521 194.815 246.841 Q196.181 244.827 198.241 243.762 Q200.301 242.674 202.778 242.674 Q207.987 242.674 210.996 245.845 Q214.028 248.993 214.028 254.433 Q214.028 259.757 210.88 262.975 Q207.732 266.192 202.5 266.192 Q196.505 266.192 193.334 261.609 Q190.163 257.003 190.163 248.276 Q190.163 240.081 194.051 235.22 Q197.94 230.336 204.491 230.336 Q206.25 230.336 208.033 230.683 Q209.838 231.031 211.783 231.725 Z\" fill=\"#000000\" fill-rule=\"evenodd\" fill-opacity=\"1\" /><path clip-path=\"url(#clip560)\" d=\"M41.7242 895.58 Q42.4244 893.511 44.7161 891.57 Q47.0077 889.596 51.0181 887.623 L64.0042 881.098 L64.0042 888.005 L51.8138 894.084 Q47.0395 896.439 45.48 898.667 Q43.9204 900.864 43.9204 904.683 L43.9204 911.685 L64.0042 911.685 L64.0042 918.115 L16.4842 918.115 L16.4842 903.601 Q16.4842 895.453 19.8898 891.442 Q23.2955 887.432 30.1704 887.432 Q34.6582 887.432 37.6183 889.533 Q40.5784 891.601 41.7242 895.58 M21.7677 911.685 L38.6368 911.685 L38.6368 903.601 Q38.6368 898.954 36.5043 896.599 Q34.34 894.211 30.1704 894.211 Q26.0009 894.211 23.9002 896.599 Q21.7677 898.954 21.7677 903.601 L21.7677 911.685 Z\" fill=\"#000000\" fill-rule=\"evenodd\" fill-opacity=\"1\" /><path clip-path=\"url(#clip560)\" d=\"M49.9359 876.61 L28.3562 876.61 L28.3562 870.754 L49.7131 870.754 Q54.7739 870.754 57.3202 868.78 Q59.8346 866.807 59.8346 862.86 Q59.8346 858.118 56.8109 855.381 Q53.7872 852.612 48.5673 852.612 L28.3562 852.612 L28.3562 846.755 L64.0042 846.755 L64.0042 852.612 L58.5296 852.612 Q61.7762 854.744 63.3676 857.577 Q64.9272 860.378 64.9272 864.102 Q64.9272 870.245 61.1078 873.427 Q57.2883 876.61 49.9359 876.61 M27.4968 861.874 L27.4968 861.874 Z\" fill=\"#000000\" fill-rule=\"evenodd\" fill-opacity=\"1\" /><path clip-path=\"url(#clip560)\" d=\"M42.4881 805.06 L64.0042 805.06 L64.0042 810.916 L42.679 810.916 Q37.6183 810.916 35.1038 812.89 Q32.5894 814.863 32.5894 818.81 Q32.5894 823.552 35.6131 826.289 Q38.6368 829.027 43.8567 829.027 L64.0042 829.027 L64.0042 834.915 L28.3562 834.915 L28.3562 829.027 L33.8944 829.027 Q30.6797 826.926 29.0883 824.093 Q27.4968 821.229 27.4968 817.505 Q27.4968 811.362 31.3163 808.211 Q35.1038 805.06 42.4881 805.06 Z\" fill=\"#000000\" fill-rule=\"evenodd\" fill-opacity=\"1\" /><path clip-path=\"url(#clip560)\" d=\"M18.2347 787.586 L28.3562 787.586 L28.3562 775.523 L32.9077 775.523 L32.9077 787.586 L52.2594 787.586 Q56.6199 787.586 57.8613 786.408 Q59.1026 785.199 59.1026 781.538 L59.1026 775.523 L64.0042 775.523 L64.0042 781.538 Q64.0042 788.318 61.4897 790.896 Q58.9434 793.474 52.2594 793.474 L32.9077 793.474 L32.9077 797.771 L28.3562 797.771 L28.3562 793.474 L18.2347 793.474 L18.2347 787.586 Z\" fill=\"#000000\" fill-rule=\"evenodd\" fill-opacity=\"1\" /><path clip-path=\"url(#clip560)\" d=\"M28.3562 767.82 L28.3562 761.964 L64.0042 761.964 L64.0042 767.82 L28.3562 767.82 M14.479 767.82 L14.479 761.964 L21.895 761.964 L21.895 767.82 L14.479 767.82 Z\" fill=\"#000000\" fill-rule=\"evenodd\" fill-opacity=\"1\" /><path clip-path=\"url(#clip560)\" d=\"M35.1993 721.955 Q31.2526 719.759 29.3747 716.704 Q27.4968 713.648 27.4968 709.51 Q27.4968 703.94 31.4117 700.917 Q35.2948 697.893 42.4881 697.893 L64.0042 697.893 L64.0042 703.781 L42.679 703.781 Q37.5546 703.781 35.072 705.596 Q32.5894 707.41 32.5894 711.134 Q32.5894 715.685 35.6131 718.327 Q38.6368 720.969 43.8567 720.969 L64.0042 720.969 L64.0042 726.857 L42.679 726.857 Q37.5228 726.857 35.072 728.671 Q32.5894 730.485 32.5894 734.273 Q32.5894 738.761 35.6449 741.403 Q38.6686 744.044 43.8567 744.044 L64.0042 744.044 L64.0042 749.933 L28.3562 749.933 L28.3562 744.044 L33.8944 744.044 Q30.616 742.039 29.0564 739.238 Q27.4968 736.437 27.4968 732.586 Q27.4968 728.703 29.4702 725.998 Q31.4436 723.26 35.1993 721.955 Z\" fill=\"#000000\" fill-rule=\"evenodd\" fill-opacity=\"1\" /><path clip-path=\"url(#clip560)\" d=\"M44.7161 655.72 L47.5806 655.72 L47.5806 682.647 Q53.6281 682.265 56.8109 679.019 Q59.9619 675.74 59.9619 669.916 Q59.9619 666.542 59.1344 663.391 Q58.3069 660.208 56.6518 657.089 L62.1899 657.089 Q63.5267 660.24 64.227 663.55 Q64.9272 666.86 64.9272 670.266 Q64.9272 678.796 59.9619 683.793 Q54.9967 688.758 46.5303 688.758 Q37.7774 688.758 32.6531 684.048 Q27.4968 679.305 27.4968 671.284 Q27.4968 664.091 32.1438 659.922 Q36.7589 655.72 44.7161 655.72 M42.9973 661.577 Q38.1912 661.64 35.3266 664.282 Q32.4621 666.892 32.4621 671.221 Q32.4621 676.122 35.2312 679.082 Q38.0002 682.011 43.0292 682.456 L42.9973 661.577 Z\" fill=\"#000000\" fill-rule=\"evenodd\" fill-opacity=\"1\" /><path clip-path=\"url(#clip560)\" d=\"M14.5426 611.319 Q21.8632 615.584 29.0246 617.653 Q36.186 619.722 43.5384 619.722 Q50.8908 619.722 58.1159 617.653 Q65.3091 615.553 72.5979 611.319 L72.5979 616.412 Q65.1182 621.186 57.8931 623.573 Q50.668 625.929 43.5384 625.929 Q36.4406 625.929 29.2474 623.573 Q22.0542 621.218 14.5426 616.412 L14.5426 611.319 Z\" fill=\"#000000\" fill-rule=\"evenodd\" fill-opacity=\"1\" /><path clip-path=\"url(#clip560)\" d=\"M29.4065 577.231 L34.9447 577.231 Q33.6716 579.714 33.035 582.387 Q32.3984 585.061 32.3984 587.925 Q32.3984 592.286 33.7352 594.482 Q35.072 596.646 37.7456 596.646 Q39.7826 596.646 40.9603 595.087 Q42.1061 593.527 43.1565 588.817 L43.6021 586.811 Q44.9389 580.573 47.3897 577.963 Q49.8086 575.321 54.1691 575.321 Q59.1344 575.321 62.0308 579.268 Q64.9272 583.183 64.9272 590.058 Q64.9272 592.923 64.3543 596.042 Q63.8132 599.129 62.6992 602.567 L56.6518 602.567 Q58.3387 599.32 59.198 596.169 Q60.0256 593.018 60.0256 589.931 Q60.0256 585.793 58.6251 583.565 Q57.1929 581.337 54.6147 581.337 Q52.2276 581.337 50.9545 582.96 Q49.6813 584.552 48.5037 589.994 L48.0262 592.031 Q46.8804 597.474 44.5251 599.893 Q42.138 602.312 38.0002 602.312 Q32.9713 602.312 30.2341 598.747 Q27.4968 595.182 27.4968 588.626 Q27.4968 585.379 27.9743 582.515 Q28.4517 579.65 29.4065 577.231 Z\" fill=\"#000000\" fill-rule=\"evenodd\" fill-opacity=\"1\" /><path clip-path=\"url(#clip560)\" d=\"M14.5426 566.919 L14.5426 561.826 Q22.0542 557.052 29.2474 554.696 Q36.4406 552.309 43.5384 552.309 Q50.668 552.309 57.8931 554.696 Q65.1182 557.052 72.5979 561.826 L72.5979 566.919 Q65.3091 562.685 58.1159 560.617 Q50.8908 558.516 43.5384 558.516 Q36.186 558.516 29.0246 560.617 Q21.8632 562.685 14.5426 566.919 Z\" fill=\"#000000\" fill-rule=\"evenodd\" fill-opacity=\"1\" /><polyline clip-path=\"url(#clip562)\" style=\"stroke:#009af9; stroke-linecap:butt; stroke-linejoin:round; stroke-width:4; stroke-opacity:1; fill:none\" points=\"\n",
       "  309.539,86.1857 750.363,1299.38 1191.19,649.507 1411.6,1384.24 2293.24,886.116 \n",
       "  \"/>\n",
       "</svg>\n"
      ]
     },
     "execution_count": 109,
     "metadata": {},
     "output_type": "execute_result"
    }
   ],
   "source": [
    "plot(bsizes_list, runtimes_bsizes; xlabel= \"Block size\", ylabel = \"Runtime (s)\", legend = false)"
   ]
  },
  {
   "cell_type": "code",
   "execution_count": 110,
   "id": "1e2a7f2a-7227-489b-824e-202288d7196f",
   "metadata": {},
   "outputs": [
    {
     "data": {
      "text/plain": [
       "13-element Vector{UnitRange{Int64}}:\n",
       " 1:600\n",
       " 601:1200\n",
       " 1201:1800\n",
       " 1801:2400\n",
       " 2401:3000\n",
       " 3001:3600\n",
       " 3601:4200\n",
       " 4201:4800\n",
       " 4801:5400\n",
       " 5401:6000\n",
       " 6001:6600\n",
       " 6601:7200\n",
       " 7201:7321"
      ]
     },
     "execution_count": 110,
     "metadata": {},
     "output_type": "execute_result"
    }
   ],
   "source": [
    "blocks_partitions = partition_array_indices(p, 600)"
   ]
  },
  {
   "cell_type": "code",
   "execution_count": 111,
   "id": "fe56ba78-36d5-413e-b76c-4aa7d4ba562c",
   "metadata": {},
   "outputs": [
    {
     "data": {
      "text/plain": [
       "BenchmarkTools.Trial: 6 samples with 1 evaluation.\n",
       " Range \u001b[90m(\u001b[39m\u001b[36m\u001b[1mmin\u001b[22m\u001b[39m … \u001b[35mmax\u001b[39m\u001b[90m):  \u001b[39m\u001b[36m\u001b[1m876.530 ms\u001b[22m\u001b[39m … \u001b[35m933.049 ms\u001b[39m  \u001b[90m┊\u001b[39m GC \u001b[90m(\u001b[39mmin … max\u001b[90m): \u001b[39m0.00% … 0.00%\n",
       " Time  \u001b[90m(\u001b[39m\u001b[34m\u001b[1mmedian\u001b[22m\u001b[39m\u001b[90m):     \u001b[39m\u001b[34m\u001b[1m893.107 ms               \u001b[22m\u001b[39m\u001b[90m┊\u001b[39m GC \u001b[90m(\u001b[39mmedian\u001b[90m):    \u001b[39m0.00%\n",
       " Time  \u001b[90m(\u001b[39m\u001b[32m\u001b[1mmean\u001b[22m\u001b[39m ± \u001b[32mσ\u001b[39m\u001b[90m):   \u001b[39m\u001b[32m\u001b[1m900.469 ms\u001b[22m\u001b[39m ± \u001b[32m 23.321 ms\u001b[39m  \u001b[90m┊\u001b[39m GC \u001b[90m(\u001b[39mmean ± σ\u001b[90m):  \u001b[39m0.00% ± 0.00%\n",
       "\n",
       "  \u001b[39m█\u001b[39m \u001b[39m \u001b[39m \u001b[39m \u001b[39m█\u001b[39m \u001b[39m \u001b[39m \u001b[39m \u001b[39m \u001b[39m \u001b[39m \u001b[39m \u001b[39m \u001b[39m \u001b[34m█\u001b[39m\u001b[39m \u001b[39m \u001b[39m█\u001b[39m \u001b[39m \u001b[39m \u001b[39m \u001b[39m \u001b[39m \u001b[32m \u001b[39m\u001b[39m \u001b[39m \u001b[39m \u001b[39m \u001b[39m \u001b[39m \u001b[39m \u001b[39m \u001b[39m \u001b[39m \u001b[39m \u001b[39m \u001b[39m \u001b[39m \u001b[39m \u001b[39m \u001b[39m \u001b[39m \u001b[39m \u001b[39m \u001b[39m \u001b[39m \u001b[39m \u001b[39m \u001b[39m \u001b[39m█\u001b[39m \u001b[39m \u001b[39m \u001b[39m \u001b[39m \u001b[39m \u001b[39m \u001b[39m█\u001b[39m \u001b[39m \n",
       "  \u001b[39m█\u001b[39m▁\u001b[39m▁\u001b[39m▁\u001b[39m▁\u001b[39m█\u001b[39m▁\u001b[39m▁\u001b[39m▁\u001b[39m▁\u001b[39m▁\u001b[39m▁\u001b[39m▁\u001b[39m▁\u001b[39m▁\u001b[39m▁\u001b[34m█\u001b[39m\u001b[39m▁\u001b[39m▁\u001b[39m█\u001b[39m▁\u001b[39m▁\u001b[39m▁\u001b[39m▁\u001b[39m▁\u001b[39m▁\u001b[32m▁\u001b[39m\u001b[39m▁\u001b[39m▁\u001b[39m▁\u001b[39m▁\u001b[39m▁\u001b[39m▁\u001b[39m▁\u001b[39m▁\u001b[39m▁\u001b[39m▁\u001b[39m▁\u001b[39m▁\u001b[39m▁\u001b[39m▁\u001b[39m▁\u001b[39m▁\u001b[39m▁\u001b[39m▁\u001b[39m▁\u001b[39m▁\u001b[39m▁\u001b[39m▁\u001b[39m▁\u001b[39m▁\u001b[39m▁\u001b[39m█\u001b[39m▁\u001b[39m▁\u001b[39m▁\u001b[39m▁\u001b[39m▁\u001b[39m▁\u001b[39m▁\u001b[39m█\u001b[39m \u001b[39m▁\n",
       "  877 ms\u001b[90m           Histogram: frequency by time\u001b[39m          933 ms \u001b[0m\u001b[1m<\u001b[22m\n",
       "\n",
       " Memory estimate\u001b[90m: \u001b[39m\u001b[33m22.45 MiB\u001b[39m, allocs estimate\u001b[90m: \u001b[39m\u001b[33m1397\u001b[39m."
      ]
     },
     "execution_count": 111,
     "metadata": {},
     "output_type": "execute_result"
    }
   ],
   "source": [
    "@benchmark pmap(x -> scan_distributed_block(r0perm, X00, x), blocks_partitions)"
   ]
  },
  {
   "cell_type": "code",
   "execution_count": 78,
   "id": "b8f64e5d-ac63-4134-bbe5-fca9c9f7028e",
   "metadata": {},
   "outputs": [
    {
     "data": {
      "text/plain": [
       "8"
      ]
     },
     "execution_count": 78,
     "metadata": {},
     "output_type": "execute_result"
    }
   ],
   "source": [
    "Int(400/50)"
   ]
  },
  {
   "cell_type": "code",
   "execution_count": 79,
   "id": "bf637b42-22e9-49da-ab84-ca3270d16316",
   "metadata": {},
   "outputs": [
    {
     "name": "stdout",
     "output_type": "stream",
     "text": [
      "search: \u001b[0m\u001b[1ms\u001b[22m\u001b[0m\u001b[1ma\u001b[22m\u001b[0m\u001b[1mm\u001b[22m\u001b[0m\u001b[1mp\u001b[22m\u001b[0m\u001b[1ml\u001b[22m\u001b[0m\u001b[1me\u001b[22m \u001b[0m\u001b[1ms\u001b[22m\u001b[0m\u001b[1ma\u001b[22m\u001b[0m\u001b[1mm\u001b[22m\u001b[0m\u001b[1mp\u001b[22m\u001b[0m\u001b[1ml\u001b[22m\u001b[0m\u001b[1me\u001b[22mr \u001b[0m\u001b[1ms\u001b[22m\u001b[0m\u001b[1ma\u001b[22m\u001b[0m\u001b[1mm\u001b[22m\u001b[0m\u001b[1mp\u001b[22m\u001b[0m\u001b[1ml\u001b[22m\u001b[0m\u001b[1me\u001b[22m! \u001b[0m\u001b[1ms\u001b[22m\u001b[0m\u001b[1ma\u001b[22m\u001b[0m\u001b[1mm\u001b[22m\u001b[0m\u001b[1mp\u001b[22m\u001b[0m\u001b[1ml\u001b[22m\u001b[0m\u001b[1me\u001b[22mpair \u001b[0m\u001b[1mS\u001b[22m\u001b[0m\u001b[1ma\u001b[22m\u001b[0m\u001b[1mm\u001b[22m\u001b[0m\u001b[1mp\u001b[22m\u001b[0m\u001b[1ml\u001b[22m\u001b[0m\u001b[1me\u001b[22mable w\u001b[0m\u001b[1ms\u001b[22m\u001b[0m\u001b[1ma\u001b[22m\u001b[0m\u001b[1mm\u001b[22m\u001b[0m\u001b[1mp\u001b[22m\u001b[0m\u001b[1ml\u001b[22m\u001b[0m\u001b[1me\u001b[22m n\u001b[0m\u001b[1ms\u001b[22m\u001b[0m\u001b[1ma\u001b[22m\u001b[0m\u001b[1mm\u001b[22m\u001b[0m\u001b[1mp\u001b[22m\u001b[0m\u001b[1ml\u001b[22m\u001b[0m\u001b[1me\u001b[22ms w\u001b[0m\u001b[1ms\u001b[22m\u001b[0m\u001b[1ma\u001b[22m\u001b[0m\u001b[1mm\u001b[22m\u001b[0m\u001b[1mp\u001b[22m\u001b[0m\u001b[1ml\u001b[22m\u001b[0m\u001b[1me\u001b[22m!\n",
      "\n"
     ]
    },
    {
     "data": {
      "text/latex": [
       "\\begin{verbatim}\n",
       "sample([rng], a, [wv::AbstractWeights])\n",
       "\\end{verbatim}\n",
       "Select a single random element of \\texttt{a}. Sampling probabilities are proportional to the weights given in \\texttt{wv}, if provided.\n",
       "\n",
       "Optionally specify a random number generator \\texttt{rng} as the first argument (defaults to \\texttt{Random.GLOBAL\\_RNG}).\n",
       "\n",
       "\\rule{\\textwidth}{1pt}\n",
       "\\begin{verbatim}\n",
       "sample([rng], a, [wv::AbstractWeights], n::Integer; replace=true, ordered=false)\n",
       "\\end{verbatim}\n",
       "Select a random, optionally weighted sample of size \\texttt{n} from an array \\texttt{a} using a polyalgorithm. Sampling probabilities are proportional to the weights given in \\texttt{wv}, if provided. \\texttt{replace} dictates whether sampling is performed with replacement. \\texttt{ordered} dictates whether an ordered sample (also called a sequential sample, i.e. a sample where items appear in the same order as in \\texttt{a}) should be taken.\n",
       "\n",
       "Optionally specify a random number generator \\texttt{rng} as the first argument (defaults to \\texttt{Random.GLOBAL\\_RNG}).\n",
       "\n",
       "\\rule{\\textwidth}{1pt}\n",
       "\\begin{verbatim}\n",
       "sample([rng], a, [wv::AbstractWeights], dims::Dims; replace=true, ordered=false)\n",
       "\\end{verbatim}\n",
       "Select a random, optionally weighted sample from an array \\texttt{a} specifying the dimensions \\texttt{dims} of the output array. Sampling probabilities are proportional to the weights given in \\texttt{wv}, if provided. \\texttt{replace} dictates whether sampling is performed with replacement. \\texttt{ordered} dictates whether an ordered sample (also called a sequential sample, i.e. a sample where items appear in the same order as in \\texttt{a}) should be taken.\n",
       "\n",
       "Optionally specify a random number generator \\texttt{rng} as the first argument (defaults to \\texttt{Random.GLOBAL\\_RNG}).\n",
       "\n",
       "\\rule{\\textwidth}{1pt}\n",
       "\\begin{verbatim}\n",
       "sample([rng], wv::AbstractWeights)\n",
       "\\end{verbatim}\n",
       "Select a single random integer in \\texttt{1:length(wv)} with probabilities proportional to the weights given in \\texttt{wv}.\n",
       "\n",
       "Optionally specify a random number generator \\texttt{rng} as the first argument (defaults to \\texttt{Random.GLOBAL\\_RNG}).\n",
       "\n"
      ],
      "text/markdown": [
       "```\n",
       "sample([rng], a, [wv::AbstractWeights])\n",
       "```\n",
       "\n",
       "Select a single random element of `a`. Sampling probabilities are proportional to the weights given in `wv`, if provided.\n",
       "\n",
       "Optionally specify a random number generator `rng` as the first argument (defaults to `Random.GLOBAL_RNG`).\n",
       "\n",
       "---\n",
       "\n",
       "```\n",
       "sample([rng], a, [wv::AbstractWeights], n::Integer; replace=true, ordered=false)\n",
       "```\n",
       "\n",
       "Select a random, optionally weighted sample of size `n` from an array `a` using a polyalgorithm. Sampling probabilities are proportional to the weights given in `wv`, if provided. `replace` dictates whether sampling is performed with replacement. `ordered` dictates whether an ordered sample (also called a sequential sample, i.e. a sample where items appear in the same order as in `a`) should be taken.\n",
       "\n",
       "Optionally specify a random number generator `rng` as the first argument (defaults to `Random.GLOBAL_RNG`).\n",
       "\n",
       "---\n",
       "\n",
       "```\n",
       "sample([rng], a, [wv::AbstractWeights], dims::Dims; replace=true, ordered=false)\n",
       "```\n",
       "\n",
       "Select a random, optionally weighted sample from an array `a` specifying the dimensions `dims` of the output array. Sampling probabilities are proportional to the weights given in `wv`, if provided. `replace` dictates whether sampling is performed with replacement. `ordered` dictates whether an ordered sample (also called a sequential sample, i.e. a sample where items appear in the same order as in `a`) should be taken.\n",
       "\n",
       "Optionally specify a random number generator `rng` as the first argument (defaults to `Random.GLOBAL_RNG`).\n",
       "\n",
       "---\n",
       "\n",
       "```\n",
       "sample([rng], wv::AbstractWeights)\n",
       "```\n",
       "\n",
       "Select a single random integer in `1:length(wv)` with probabilities proportional to the weights given in `wv`.\n",
       "\n",
       "Optionally specify a random number generator `rng` as the first argument (defaults to `Random.GLOBAL_RNG`).\n"
      ],
      "text/plain": [
       "\u001b[36m  sample([rng], a, [wv::AbstractWeights])\u001b[39m\n",
       "\n",
       "  Select a single random element of \u001b[36ma\u001b[39m. Sampling probabilities are proportional\n",
       "  to the weights given in \u001b[36mwv\u001b[39m, if provided.\n",
       "\n",
       "  Optionally specify a random number generator \u001b[36mrng\u001b[39m as the first argument\n",
       "  (defaults to \u001b[36mRandom.GLOBAL_RNG\u001b[39m).\n",
       "\n",
       "  ────────────────────────────────────────────────────────────────────────────\n",
       "\n",
       "\u001b[36m  sample([rng], a, [wv::AbstractWeights], n::Integer; replace=true, ordered=false)\u001b[39m\n",
       "\n",
       "  Select a random, optionally weighted sample of size \u001b[36mn\u001b[39m from an array \u001b[36ma\u001b[39m using\n",
       "  a polyalgorithm. Sampling probabilities are proportional to the weights\n",
       "  given in \u001b[36mwv\u001b[39m, if provided. \u001b[36mreplace\u001b[39m dictates whether sampling is performed\n",
       "  with replacement. \u001b[36mordered\u001b[39m dictates whether an ordered sample (also called a\n",
       "  sequential sample, i.e. a sample where items appear in the same order as in\n",
       "  \u001b[36ma\u001b[39m) should be taken.\n",
       "\n",
       "  Optionally specify a random number generator \u001b[36mrng\u001b[39m as the first argument\n",
       "  (defaults to \u001b[36mRandom.GLOBAL_RNG\u001b[39m).\n",
       "\n",
       "  ────────────────────────────────────────────────────────────────────────────\n",
       "\n",
       "\u001b[36m  sample([rng], a, [wv::AbstractWeights], dims::Dims; replace=true, ordered=false)\u001b[39m\n",
       "\n",
       "  Select a random, optionally weighted sample from an array \u001b[36ma\u001b[39m specifying the\n",
       "  dimensions \u001b[36mdims\u001b[39m of the output array. Sampling probabilities are proportional\n",
       "  to the weights given in \u001b[36mwv\u001b[39m, if provided. \u001b[36mreplace\u001b[39m dictates whether sampling\n",
       "  is performed with replacement. \u001b[36mordered\u001b[39m dictates whether an ordered sample\n",
       "  (also called a sequential sample, i.e. a sample where items appear in the\n",
       "  same order as in \u001b[36ma\u001b[39m) should be taken.\n",
       "\n",
       "  Optionally specify a random number generator \u001b[36mrng\u001b[39m as the first argument\n",
       "  (defaults to \u001b[36mRandom.GLOBAL_RNG\u001b[39m).\n",
       "\n",
       "  ────────────────────────────────────────────────────────────────────────────\n",
       "\n",
       "\u001b[36m  sample([rng], wv::AbstractWeights)\u001b[39m\n",
       "\n",
       "  Select a single random integer in \u001b[36m1:length(wv)\u001b[39m with probabilities\n",
       "  proportional to the weights given in \u001b[36mwv\u001b[39m.\n",
       "\n",
       "  Optionally specify a random number generator \u001b[36mrng\u001b[39m as the first argument\n",
       "  (defaults to \u001b[36mRandom.GLOBAL_RNG\u001b[39m)."
      ]
     },
     "execution_count": 79,
     "metadata": {},
     "output_type": "execute_result"
    }
   ],
   "source": [
    "?sample"
   ]
  },
  {
   "cell_type": "code",
   "execution_count": null,
   "id": "7b4a5aba-6807-4314-9300-b2ad17932883",
   "metadata": {},
   "outputs": [],
   "source": []
  },
  {
   "cell_type": "code",
   "execution_count": null,
   "id": "4586d680-b73c-4506-b8b5-0eb6c09e9976",
   "metadata": {},
   "outputs": [],
   "source": []
  },
  {
   "cell_type": "markdown",
   "id": "76e7e55e-1a76-480a-82ca-7172524f4cfc",
   "metadata": {},
   "source": [
    "## Miscellaneous:"
   ]
  },
  {
   "cell_type": "code",
   "execution_count": 80,
   "id": "093b3771-eacb-494b-9d2c-477510f03949",
   "metadata": {},
   "outputs": [
    {
     "data": {
      "text/plain": [
       "79"
      ]
     },
     "execution_count": 80,
     "metadata": {},
     "output_type": "execute_result"
    }
   ],
   "source": [
    "n = size(y0, 1)"
   ]
  },
  {
   "cell_type": "code",
   "execution_count": 81,
   "id": "bb13ae51-891e-40a9-8275-a633b33c8d40",
   "metadata": {},
   "outputs": [],
   "source": [
    "Loops_y0 = Array{Float64, 2}(undef, n, 10);"
   ]
  },
  {
   "cell_type": "code",
   "execution_count": 82,
   "id": "f165bce8-1113-440c-9ea3-30ddbc63c4a0",
   "metadata": {},
   "outputs": [],
   "source": [
    "for i = 1:10\n",
    "    Loops_y0[:, i] = rotateData(pheno_y, geno, kinship)[1]\n",
    "end\n",
    "\n",
    "first_col = Loops_y0[:, 1];"
   ]
  },
  {
   "cell_type": "code",
   "execution_count": 83,
   "id": "d55188a7-55db-46db-8a9c-6af98c187b0c",
   "metadata": {},
   "outputs": [],
   "source": [
    "test_list = mapslices(x -> x .- first_col, Loops_y0; dims = 1);"
   ]
  },
  {
   "cell_type": "code",
   "execution_count": 84,
   "id": "3810b6c6-a965-4eff-81da-e1d50c8f9ccf",
   "metadata": {},
   "outputs": [
    {
     "data": {
      "text/plain": [
       "79×10 Matrix{Float64}:\n",
       " 0.0  0.0  0.0  0.0  0.0  0.0  0.0  0.0  0.0  0.0\n",
       " 0.0  0.0  0.0  0.0  0.0  0.0  0.0  0.0  0.0  0.0\n",
       " 0.0  0.0  0.0  0.0  0.0  0.0  0.0  0.0  0.0  0.0\n",
       " 0.0  0.0  0.0  0.0  0.0  0.0  0.0  0.0  0.0  0.0\n",
       " 0.0  0.0  0.0  0.0  0.0  0.0  0.0  0.0  0.0  0.0\n",
       " 0.0  0.0  0.0  0.0  0.0  0.0  0.0  0.0  0.0  0.0\n",
       " 0.0  0.0  0.0  0.0  0.0  0.0  0.0  0.0  0.0  0.0\n",
       " 0.0  0.0  0.0  0.0  0.0  0.0  0.0  0.0  0.0  0.0\n",
       " 0.0  0.0  0.0  0.0  0.0  0.0  0.0  0.0  0.0  0.0\n",
       " 0.0  0.0  0.0  0.0  0.0  0.0  0.0  0.0  0.0  0.0\n",
       " 0.0  0.0  0.0  0.0  0.0  0.0  0.0  0.0  0.0  0.0\n",
       " 0.0  0.0  0.0  0.0  0.0  0.0  0.0  0.0  0.0  0.0\n",
       " 0.0  0.0  0.0  0.0  0.0  0.0  0.0  0.0  0.0  0.0\n",
       " ⋮                        ⋮                   \n",
       " 0.0  0.0  0.0  0.0  0.0  0.0  0.0  0.0  0.0  0.0\n",
       " 0.0  0.0  0.0  0.0  0.0  0.0  0.0  0.0  0.0  0.0\n",
       " 0.0  0.0  0.0  0.0  0.0  0.0  0.0  0.0  0.0  0.0\n",
       " 0.0  0.0  0.0  0.0  0.0  0.0  0.0  0.0  0.0  0.0\n",
       " 0.0  0.0  0.0  0.0  0.0  0.0  0.0  0.0  0.0  0.0\n",
       " 0.0  0.0  0.0  0.0  0.0  0.0  0.0  0.0  0.0  0.0\n",
       " 0.0  0.0  0.0  0.0  0.0  0.0  0.0  0.0  0.0  0.0\n",
       " 0.0  0.0  0.0  0.0  0.0  0.0  0.0  0.0  0.0  0.0\n",
       " 0.0  0.0  0.0  0.0  0.0  0.0  0.0  0.0  0.0  0.0\n",
       " 0.0  0.0  0.0  0.0  0.0  0.0  0.0  0.0  0.0  0.0\n",
       " 0.0  0.0  0.0  0.0  0.0  0.0  0.0  0.0  0.0  0.0\n",
       " 0.0  0.0  0.0  0.0  0.0  0.0  0.0  0.0  0.0  0.0"
      ]
     },
     "execution_count": 84,
     "metadata": {},
     "output_type": "execute_result"
    }
   ],
   "source": [
    "test_list"
   ]
  },
  {
   "cell_type": "code",
   "execution_count": 85,
   "id": "186d4346-77c6-41aa-916a-588eb30cc474",
   "metadata": {},
   "outputs": [
    {
     "data": {
      "text/plain": [
       "5-element Vector{Int64}:\n",
       " 1\n",
       " 2\n",
       " 3\n",
       " 4\n",
       " 5"
      ]
     },
     "execution_count": 85,
     "metadata": {},
     "output_type": "execute_result"
    }
   ],
   "source": [
    "# addprocs(7);\n",
    "procs()"
   ]
  },
  {
   "cell_type": "code",
   "execution_count": 86,
   "id": "a4e58112-4bc8-451a-939f-84f5d48c7869",
   "metadata": {},
   "outputs": [],
   "source": [
    "@everywhere begin\n",
    "    using Random\n",
    "    using LinearAlgebra\n",
    "    using Optim\n",
    "    using DelimitedFiles\n",
    "    \n",
    "    ## Include the source code of BulkLMM to be tested:\n",
    "    include(\"../src/scan.jl\");\n",
    "    include(\"../src/lmm.jl\");\n",
    "    include(\"../src/wls.jl\");\n",
    "    include(\"../src/util.jl\");\n",
    "    include(\"../src/kinship.jl\");\n",
    "    include(\"../src/readData.jl\");\n",
    "    include(\"../src/scan_for_tests.jl\")\n",
    "    include(\"../src/scan_distributed.jl\")\n",
    "\n",
    "end"
   ]
  },
  {
   "cell_type": "code",
   "execution_count": 87,
   "id": "946810d5-3940-4ea9-af22-5e0381b15f97",
   "metadata": {},
   "outputs": [],
   "source": [
    "@everywhere begin \n",
    "    pheno_file = \"../data/bxdData/BXDtraits.csv\"\n",
    "    pheno = readBXDpheno(pheno_file);\n",
    "    geno_file = \"../data/bxdData/BXDgeno_prob.csv\"\n",
    "    geno = readGenoProb_ExcludeComplements(geno_file);\n",
    "\n",
    "    kinship = calcKinship(geno); # calculate kinship matrix from genotype data\n",
    "end"
   ]
  },
  {
   "cell_type": "code",
   "execution_count": 88,
   "id": "b92e495f-4b8d-4918-a356-9f3ad38b91da",
   "metadata": {},
   "outputs": [
    {
     "data": {
      "text/plain": [
       "5-element Vector{Int64}:\n",
       " 1\n",
       " 2\n",
       " 3\n",
       " 4\n",
       " 5"
      ]
     },
     "execution_count": 88,
     "metadata": {},
     "output_type": "execute_result"
    }
   ],
   "source": [
    "procs()"
   ]
  },
  {
   "cell_type": "code",
   "execution_count": 89,
   "id": "55b94089-413c-4d9a-9390-0659540848f8",
   "metadata": {},
   "outputs": [],
   "source": [
    "# rmprocs([2, 3, 4, 5, 6, 7, 8, 9, 10])"
   ]
  },
  {
   "cell_type": "code",
   "execution_count": 90,
   "id": "04c55e2e-9a2f-4426-a373-eb9aa2ef483b",
   "metadata": {},
   "outputs": [],
   "source": [
    "disLoops_y0 = @distributed (hcat) for i = 1:10\n",
    "    rotateData(pheno_y, geno, kinship)[1]\n",
    "end\n",
    "\n",
    "first_dis_col = disLoops_y0[:, 1];\n"
   ]
  },
  {
   "cell_type": "code",
   "execution_count": 91,
   "id": "f87da9cb-a31a-426a-b46e-9f3f227b050d",
   "metadata": {},
   "outputs": [
    {
     "data": {
      "text/plain": [
       "79×10 Matrix{Float64}:\n",
       " 0.0  0.0  0.0  0.0  0.0  0.0  0.0  0.0  0.0  0.0\n",
       " 0.0  0.0  0.0  0.0  0.0  0.0  0.0  0.0  0.0  0.0\n",
       " 0.0  0.0  0.0  0.0  0.0  0.0  0.0  0.0  0.0  0.0\n",
       " 0.0  0.0  0.0  0.0  0.0  0.0  0.0  0.0  0.0  0.0\n",
       " 0.0  0.0  0.0  0.0  0.0  0.0  0.0  0.0  0.0  0.0\n",
       " 0.0  0.0  0.0  0.0  0.0  0.0  0.0  0.0  0.0  0.0\n",
       " 0.0  0.0  0.0  0.0  0.0  0.0  0.0  0.0  0.0  0.0\n",
       " 0.0  0.0  0.0  0.0  0.0  0.0  0.0  0.0  0.0  0.0\n",
       " 0.0  0.0  0.0  0.0  0.0  0.0  0.0  0.0  0.0  0.0\n",
       " 0.0  0.0  0.0  0.0  0.0  0.0  0.0  0.0  0.0  0.0\n",
       " 0.0  0.0  0.0  0.0  0.0  0.0  0.0  0.0  0.0  0.0\n",
       " 0.0  0.0  0.0  0.0  0.0  0.0  0.0  0.0  0.0  0.0\n",
       " 0.0  0.0  0.0  0.0  0.0  0.0  0.0  0.0  0.0  0.0\n",
       " ⋮                        ⋮                   \n",
       " 0.0  0.0  0.0  0.0  0.0  0.0  0.0  0.0  0.0  0.0\n",
       " 0.0  0.0  0.0  0.0  0.0  0.0  0.0  0.0  0.0  0.0\n",
       " 0.0  0.0  0.0  0.0  0.0  0.0  0.0  0.0  0.0  0.0\n",
       " 0.0  0.0  0.0  0.0  0.0  0.0  0.0  0.0  0.0  0.0\n",
       " 0.0  0.0  0.0  0.0  0.0  0.0  0.0  0.0  0.0  0.0\n",
       " 0.0  0.0  0.0  0.0  0.0  0.0  0.0  0.0  0.0  0.0\n",
       " 0.0  0.0  0.0  0.0  0.0  0.0  0.0  0.0  0.0  0.0\n",
       " 0.0  0.0  0.0  0.0  0.0  0.0  0.0  0.0  0.0  0.0\n",
       " 0.0  0.0  0.0  0.0  0.0  0.0  0.0  0.0  0.0  0.0\n",
       " 0.0  0.0  0.0  0.0  0.0  0.0  0.0  0.0  0.0  0.0\n",
       " 0.0  0.0  0.0  0.0  0.0  0.0  0.0  0.0  0.0  0.0\n",
       " 0.0  0.0  0.0  0.0  0.0  0.0  0.0  0.0  0.0  0.0"
      ]
     },
     "execution_count": 91,
     "metadata": {},
     "output_type": "execute_result"
    }
   ],
   "source": [
    "test_dis_list = mapslices(x -> x .- first_dis_col, disLoops_y0; dims = 1);\n",
    "test_dis_list"
   ]
  },
  {
   "cell_type": "code",
   "execution_count": 92,
   "id": "c6e7e522-5fff-46d1-b442-83679e1a1239",
   "metadata": {},
   "outputs": [
    {
     "ename": "LoadError",
     "evalue": "UndefVarError: pmaps_y0 not defined",
     "output_type": "error",
     "traceback": [
      "UndefVarError: pmaps_y0 not defined",
      "",
      "Stacktrace:",
      " [1] top-level scope",
      "   @ :0",
      " [2] eval",
      "   @ ./boot.jl:360 [inlined]",
      " [3] include_string(mapexpr::typeof(REPL.softscope), mod::Module, code::String, filename::String)",
      "   @ Base ./loading.jl:1116"
     ]
    }
   ],
   "source": [
    "pmaps_y0"
   ]
  },
  {
   "cell_type": "code",
   "execution_count": 93,
   "id": "b101bb2b-f881-47f5-af95-20031f4393f8",
   "metadata": {},
   "outputs": [
    {
     "data": {
      "text/plain": [
       "15×6 Matrix{Float64}:\n",
       " -0.154545     -0.154545     -0.154545     …  -0.154545     -0.154545\n",
       " -0.535436     -0.535436     -0.535436        -0.535436     -0.535436\n",
       "  0.533096      0.533096      0.533096         0.533096      0.533096\n",
       " -0.369575     -0.369575     -0.369575        -0.369575     -0.369575\n",
       "  0.593334      0.593334      0.593334         0.593334      0.593334\n",
       "  0.158392      0.158392      0.158392     …   0.158392      0.158392\n",
       "  0.185084      0.185084      0.185084         0.185084      0.185084\n",
       " -0.0298419    -0.0298419    -0.0298419       -0.0298419    -0.0298419\n",
       " -0.340062     -0.340062     -0.340062        -0.340062     -0.340062\n",
       " -0.348007     -0.348007     -0.348007        -0.348007     -0.348007\n",
       "  0.000307749   0.000307749   0.000307749  …   0.000307749   0.000307749\n",
       "  0.101604      0.101604      0.101604         0.101604      0.101604\n",
       " -0.0267104    -0.0267104    -0.0267104       -0.0267104    -0.0267104\n",
       "  0.236609      0.236609      0.236609         0.236609      0.236609\n",
       " -0.481962     -0.481962     -0.481962        -0.481962     -0.481962"
      ]
     },
     "execution_count": 93,
     "metadata": {},
     "output_type": "execute_result"
    }
   ],
   "source": [
    "Loops_y0[1:15, 1:6]"
   ]
  },
  {
   "cell_type": "code",
   "execution_count": 94,
   "id": "f2aa9c07-eef9-4afe-b606-6995796cc30e",
   "metadata": {},
   "outputs": [
    {
     "data": {
      "text/plain": [
       "15×6 Matrix{Float64}:\n",
       " -0.154545     -0.154545     -0.154545     …  -0.154545     -0.154545\n",
       " -0.535436     -0.535436     -0.535436        -0.535436     -0.535436\n",
       " -0.533096     -0.533096     -0.533096        -0.533096     -0.533096\n",
       " -0.369575     -0.369575     -0.369575        -0.369575     -0.369575\n",
       "  0.593334      0.593334      0.593334         0.593334      0.593334\n",
       "  0.158392      0.158392      0.158392     …   0.158392      0.158392\n",
       " -0.185084     -0.185084     -0.185084        -0.185084     -0.185084\n",
       "  0.0298419     0.0298419     0.0298419        0.0298419     0.0298419\n",
       " -0.340062     -0.340062     -0.340062        -0.340062     -0.340062\n",
       " -0.348007     -0.348007     -0.348007        -0.348007     -0.348007\n",
       "  0.000307749   0.000307749   0.000307749  …   0.000307749   0.000307749\n",
       "  0.101604      0.101604      0.101604         0.101604      0.101604\n",
       "  0.0267104     0.0267104     0.0267104        0.0267104     0.0267104\n",
       " -0.236609     -0.236609     -0.236609        -0.236609     -0.236609\n",
       " -0.481962     -0.481962     -0.481962        -0.481962     -0.481962"
      ]
     },
     "execution_count": 94,
     "metadata": {},
     "output_type": "execute_result"
    }
   ],
   "source": [
    "disLoops_y0[1:15, 1:6]"
   ]
  },
  {
   "cell_type": "code",
   "execution_count": 95,
   "id": "d466472f-37d6-4b7b-9205-d8ad815adb7f",
   "metadata": {},
   "outputs": [
    {
     "data": {
      "image/svg+xml": [
       "<?xml version=\"1.0\" encoding=\"utf-8\"?>\n",
       "<svg xmlns=\"http://www.w3.org/2000/svg\" xmlns:xlink=\"http://www.w3.org/1999/xlink\" width=\"600\" height=\"400\" viewBox=\"0 0 2400 1600\">\n",
       "<defs>\n",
       "  <clipPath id=\"clip160\">\n",
       "    <rect x=\"0\" y=\"0\" width=\"2400\" height=\"1600\"/>\n",
       "  </clipPath>\n",
       "</defs>\n",
       "<path clip-path=\"url(#clip160)\" d=\"\n",
       "M0 1600 L2400 1600 L2400 0 L0 0  Z\n",
       "  \" fill=\"#ffffff\" fill-rule=\"evenodd\" fill-opacity=\"1\"/>\n",
       "<defs>\n",
       "  <clipPath id=\"clip161\">\n",
       "    <rect x=\"480\" y=\"0\" width=\"1681\" height=\"1600\"/>\n",
       "  </clipPath>\n",
       "</defs>\n",
       "<path clip-path=\"url(#clip160)\" d=\"\n",
       "M224.098 1486.45 L2352.76 1486.45 L2352.76 47.2441 L224.098 47.2441  Z\n",
       "  \" fill=\"#ffffff\" fill-rule=\"evenodd\" fill-opacity=\"1\"/>\n",
       "<defs>\n",
       "  <clipPath id=\"clip162\">\n",
       "    <rect x=\"224\" y=\"47\" width=\"2130\" height=\"1440\"/>\n",
       "  </clipPath>\n",
       "</defs>\n",
       "<polyline clip-path=\"url(#clip162)\" style=\"stroke:#000000; stroke-linecap:butt; stroke-linejoin:round; stroke-width:2; stroke-opacity:0.1; fill:none\" points=\"\n",
       "  427.783,1486.45 427.783,47.2441 \n",
       "  \"/>\n",
       "<polyline clip-path=\"url(#clip162)\" style=\"stroke:#000000; stroke-linecap:butt; stroke-linejoin:round; stroke-width:2; stroke-opacity:0.1; fill:none\" points=\"\n",
       "  714.665,1486.45 714.665,47.2441 \n",
       "  \"/>\n",
       "<polyline clip-path=\"url(#clip162)\" style=\"stroke:#000000; stroke-linecap:butt; stroke-linejoin:round; stroke-width:2; stroke-opacity:0.1; fill:none\" points=\"\n",
       "  1001.55,1486.45 1001.55,47.2441 \n",
       "  \"/>\n",
       "<polyline clip-path=\"url(#clip162)\" style=\"stroke:#000000; stroke-linecap:butt; stroke-linejoin:round; stroke-width:2; stroke-opacity:0.1; fill:none\" points=\"\n",
       "  1288.43,1486.45 1288.43,47.2441 \n",
       "  \"/>\n",
       "<polyline clip-path=\"url(#clip162)\" style=\"stroke:#000000; stroke-linecap:butt; stroke-linejoin:round; stroke-width:2; stroke-opacity:0.1; fill:none\" points=\"\n",
       "  1575.31,1486.45 1575.31,47.2441 \n",
       "  \"/>\n",
       "<polyline clip-path=\"url(#clip162)\" style=\"stroke:#000000; stroke-linecap:butt; stroke-linejoin:round; stroke-width:2; stroke-opacity:0.1; fill:none\" points=\"\n",
       "  1862.19,1486.45 1862.19,47.2441 \n",
       "  \"/>\n",
       "<polyline clip-path=\"url(#clip162)\" style=\"stroke:#000000; stroke-linecap:butt; stroke-linejoin:round; stroke-width:2; stroke-opacity:0.1; fill:none\" points=\"\n",
       "  2149.07,1486.45 2149.07,47.2441 \n",
       "  \"/>\n",
       "<polyline clip-path=\"url(#clip160)\" style=\"stroke:#000000; stroke-linecap:butt; stroke-linejoin:round; stroke-width:4; stroke-opacity:1; fill:none\" points=\"\n",
       "  224.098,1486.45 2352.76,1486.45 \n",
       "  \"/>\n",
       "<polyline clip-path=\"url(#clip160)\" style=\"stroke:#000000; stroke-linecap:butt; stroke-linejoin:round; stroke-width:4; stroke-opacity:1; fill:none\" points=\"\n",
       "  427.783,1486.45 427.783,1467.55 \n",
       "  \"/>\n",
       "<polyline clip-path=\"url(#clip160)\" style=\"stroke:#000000; stroke-linecap:butt; stroke-linejoin:round; stroke-width:4; stroke-opacity:1; fill:none\" points=\"\n",
       "  714.665,1486.45 714.665,1467.55 \n",
       "  \"/>\n",
       "<polyline clip-path=\"url(#clip160)\" style=\"stroke:#000000; stroke-linecap:butt; stroke-linejoin:round; stroke-width:4; stroke-opacity:1; fill:none\" points=\"\n",
       "  1001.55,1486.45 1001.55,1467.55 \n",
       "  \"/>\n",
       "<polyline clip-path=\"url(#clip160)\" style=\"stroke:#000000; stroke-linecap:butt; stroke-linejoin:round; stroke-width:4; stroke-opacity:1; fill:none\" points=\"\n",
       "  1288.43,1486.45 1288.43,1467.55 \n",
       "  \"/>\n",
       "<polyline clip-path=\"url(#clip160)\" style=\"stroke:#000000; stroke-linecap:butt; stroke-linejoin:round; stroke-width:4; stroke-opacity:1; fill:none\" points=\"\n",
       "  1575.31,1486.45 1575.31,1467.55 \n",
       "  \"/>\n",
       "<polyline clip-path=\"url(#clip160)\" style=\"stroke:#000000; stroke-linecap:butt; stroke-linejoin:round; stroke-width:4; stroke-opacity:1; fill:none\" points=\"\n",
       "  1862.19,1486.45 1862.19,1467.55 \n",
       "  \"/>\n",
       "<polyline clip-path=\"url(#clip160)\" style=\"stroke:#000000; stroke-linecap:butt; stroke-linejoin:round; stroke-width:4; stroke-opacity:1; fill:none\" points=\"\n",
       "  2149.07,1486.45 2149.07,1467.55 \n",
       "  \"/>\n",
       "<path clip-path=\"url(#clip160)\" d=\"M422.436 1543.18 L438.756 1543.18 L438.756 1547.12 L416.811 1547.12 L416.811 1543.18 Q419.473 1540.43 424.057 1535.8 Q428.663 1531.15 429.844 1529.81 Q432.089 1527.28 432.969 1525.55 Q433.871 1523.79 433.871 1522.1 Q433.871 1519.34 431.927 1517.61 Q430.006 1515.87 426.904 1515.87 Q424.705 1515.87 422.251 1516.63 Q419.821 1517.4 417.043 1518.95 L417.043 1514.23 Q419.867 1513.09 422.321 1512.51 Q424.774 1511.93 426.811 1511.93 Q432.182 1511.93 435.376 1514.62 Q438.57 1517.31 438.57 1521.8 Q438.57 1523.93 437.76 1525.85 Q436.973 1527.74 434.867 1530.34 Q434.288 1531.01 431.186 1534.23 Q428.084 1537.42 422.436 1543.18 Z\" fill=\"#000000\" fill-rule=\"evenodd\" fill-opacity=\"1\" /><path clip-path=\"url(#clip160)\" d=\"M717.674 1516.63 L705.868 1535.08 L717.674 1535.08 L717.674 1516.63 M716.447 1512.56 L722.327 1512.56 L722.327 1535.08 L727.257 1535.08 L727.257 1538.97 L722.327 1538.97 L722.327 1547.12 L717.674 1547.12 L717.674 1538.97 L702.072 1538.97 L702.072 1534.46 L716.447 1512.56 Z\" fill=\"#000000\" fill-rule=\"evenodd\" fill-opacity=\"1\" /><path clip-path=\"url(#clip160)\" d=\"M1001.95 1527.98 Q998.803 1527.98 996.951 1530.13 Q995.122 1532.28 995.122 1536.03 Q995.122 1539.76 996.951 1541.93 Q998.803 1544.09 1001.95 1544.09 Q1005.1 1544.09 1006.93 1541.93 Q1008.78 1539.76 1008.78 1536.03 Q1008.78 1532.28 1006.93 1530.13 Q1005.1 1527.98 1001.95 1527.98 M1011.23 1513.32 L1011.23 1517.58 Q1009.47 1516.75 1007.67 1516.31 Q1005.89 1515.87 1004.13 1515.87 Q999.497 1515.87 997.043 1519 Q994.613 1522.12 994.266 1528.44 Q995.631 1526.43 997.692 1525.36 Q999.752 1524.27 1002.23 1524.27 Q1007.44 1524.27 1010.45 1527.44 Q1013.48 1530.59 1013.48 1536.03 Q1013.48 1541.36 1010.33 1544.57 Q1007.18 1547.79 1001.95 1547.79 Q995.956 1547.79 992.784 1543.21 Q989.613 1538.6 989.613 1529.87 Q989.613 1521.68 993.502 1516.82 Q997.391 1511.93 1003.94 1511.93 Q1005.7 1511.93 1007.48 1512.28 Q1009.29 1512.63 1011.23 1513.32 Z\" fill=\"#000000\" fill-rule=\"evenodd\" fill-opacity=\"1\" /><path clip-path=\"url(#clip160)\" d=\"M1288.43 1530.71 Q1285.09 1530.71 1283.17 1532.49 Q1281.27 1534.27 1281.27 1537.4 Q1281.27 1540.52 1283.17 1542.31 Q1285.09 1544.09 1288.43 1544.09 Q1291.76 1544.09 1293.68 1542.31 Q1295.6 1540.5 1295.6 1537.4 Q1295.6 1534.27 1293.68 1532.49 Q1291.78 1530.71 1288.43 1530.71 M1283.75 1528.72 Q1280.74 1527.98 1279.05 1525.92 Q1277.39 1523.86 1277.39 1520.89 Q1277.39 1516.75 1280.33 1514.34 Q1283.29 1511.93 1288.43 1511.93 Q1293.59 1511.93 1296.53 1514.34 Q1299.47 1516.75 1299.47 1520.89 Q1299.47 1523.86 1297.78 1525.92 Q1296.11 1527.98 1293.13 1528.72 Q1296.51 1529.5 1298.38 1531.8 Q1300.28 1534.09 1300.28 1537.4 Q1300.28 1542.42 1297.2 1545.11 Q1294.14 1547.79 1288.43 1547.79 Q1282.71 1547.79 1279.63 1545.11 Q1276.58 1542.42 1276.58 1537.4 Q1276.58 1534.09 1278.47 1531.8 Q1280.37 1529.5 1283.75 1528.72 M1282.04 1521.33 Q1282.04 1524.02 1283.7 1525.52 Q1285.39 1527.03 1288.43 1527.03 Q1291.44 1527.03 1293.13 1525.52 Q1294.84 1524.02 1294.84 1521.33 Q1294.84 1518.65 1293.13 1517.14 Q1291.44 1515.64 1288.43 1515.64 Q1285.39 1515.64 1283.7 1517.14 Q1282.04 1518.65 1282.04 1521.33 Z\" fill=\"#000000\" fill-rule=\"evenodd\" fill-opacity=\"1\" /><path clip-path=\"url(#clip160)\" d=\"M1550 1543.18 L1557.63 1543.18 L1557.63 1516.82 L1549.32 1518.49 L1549.32 1514.23 L1557.59 1512.56 L1562.26 1512.56 L1562.26 1543.18 L1569.9 1543.18 L1569.9 1547.12 L1550 1547.12 L1550 1543.18 Z\" fill=\"#000000\" fill-rule=\"evenodd\" fill-opacity=\"1\" /><path clip-path=\"url(#clip160)\" d=\"M1589.35 1515.64 Q1585.74 1515.64 1583.91 1519.2 Q1582.1 1522.75 1582.1 1529.87 Q1582.1 1536.98 1583.91 1540.55 Q1585.74 1544.09 1589.35 1544.09 Q1592.98 1544.09 1594.79 1540.55 Q1596.62 1536.98 1596.62 1529.87 Q1596.62 1522.75 1594.79 1519.2 Q1592.98 1515.64 1589.35 1515.64 M1589.35 1511.93 Q1595.16 1511.93 1598.21 1516.54 Q1601.29 1521.12 1601.29 1529.87 Q1601.29 1538.6 1598.21 1543.21 Q1595.16 1547.79 1589.35 1547.79 Q1583.54 1547.79 1580.46 1543.21 Q1577.4 1538.6 1577.4 1529.87 Q1577.4 1521.12 1580.46 1516.54 Q1583.54 1511.93 1589.35 1511.93 Z\" fill=\"#000000\" fill-rule=\"evenodd\" fill-opacity=\"1\" /><path clip-path=\"url(#clip160)\" d=\"M1837.68 1543.18 L1845.31 1543.18 L1845.31 1516.82 L1837 1518.49 L1837 1514.23 L1845.27 1512.56 L1849.94 1512.56 L1849.94 1543.18 L1857.58 1543.18 L1857.58 1547.12 L1837.68 1547.12 L1837.68 1543.18 Z\" fill=\"#000000\" fill-rule=\"evenodd\" fill-opacity=\"1\" /><path clip-path=\"url(#clip160)\" d=\"M1871.05 1543.18 L1887.37 1543.18 L1887.37 1547.12 L1865.43 1547.12 L1865.43 1543.18 Q1868.09 1540.43 1872.68 1535.8 Q1877.28 1531.15 1878.46 1529.81 Q1880.71 1527.28 1881.59 1525.55 Q1882.49 1523.79 1882.49 1522.1 Q1882.49 1519.34 1880.55 1517.61 Q1878.62 1515.87 1875.52 1515.87 Q1873.32 1515.87 1870.87 1516.63 Q1868.44 1517.4 1865.66 1518.95 L1865.66 1514.23 Q1868.49 1513.09 1870.94 1512.51 Q1873.39 1511.93 1875.43 1511.93 Q1880.8 1511.93 1883.99 1514.62 Q1887.19 1517.31 1887.19 1521.8 Q1887.19 1523.93 1886.38 1525.85 Q1885.59 1527.74 1883.49 1530.34 Q1882.91 1531.01 1879.8 1534.23 Q1876.7 1537.42 1871.05 1543.18 Z\" fill=\"#000000\" fill-rule=\"evenodd\" fill-opacity=\"1\" /><path clip-path=\"url(#clip160)\" d=\"M2123.51 1543.18 L2131.15 1543.18 L2131.15 1516.82 L2122.84 1518.49 L2122.84 1514.23 L2131.11 1512.56 L2135.78 1512.56 L2135.78 1543.18 L2143.42 1543.18 L2143.42 1547.12 L2123.51 1547.12 L2123.51 1543.18 Z\" fill=\"#000000\" fill-rule=\"evenodd\" fill-opacity=\"1\" /><path clip-path=\"url(#clip160)\" d=\"M2165.71 1516.63 L2153.91 1535.08 L2165.71 1535.08 L2165.71 1516.63 M2164.49 1512.56 L2170.37 1512.56 L2170.37 1535.08 L2175.3 1535.08 L2175.3 1538.97 L2170.37 1538.97 L2170.37 1547.12 L2165.71 1547.12 L2165.71 1538.97 L2150.11 1538.97 L2150.11 1534.46 L2164.49 1512.56 Z\" fill=\"#000000\" fill-rule=\"evenodd\" fill-opacity=\"1\" /><polyline clip-path=\"url(#clip162)\" style=\"stroke:#000000; stroke-linecap:butt; stroke-linejoin:round; stroke-width:2; stroke-opacity:0.1; fill:none\" points=\"\n",
       "  224.098,1403.09 2352.76,1403.09 \n",
       "  \"/>\n",
       "<polyline clip-path=\"url(#clip162)\" style=\"stroke:#000000; stroke-linecap:butt; stroke-linejoin:round; stroke-width:2; stroke-opacity:0.1; fill:none\" points=\"\n",
       "  224.098,1102.38 2352.76,1102.38 \n",
       "  \"/>\n",
       "<polyline clip-path=\"url(#clip162)\" style=\"stroke:#000000; stroke-linecap:butt; stroke-linejoin:round; stroke-width:2; stroke-opacity:0.1; fill:none\" points=\"\n",
       "  224.098,801.667 2352.76,801.667 \n",
       "  \"/>\n",
       "<polyline clip-path=\"url(#clip162)\" style=\"stroke:#000000; stroke-linecap:butt; stroke-linejoin:round; stroke-width:2; stroke-opacity:0.1; fill:none\" points=\"\n",
       "  224.098,500.955 2352.76,500.955 \n",
       "  \"/>\n",
       "<polyline clip-path=\"url(#clip162)\" style=\"stroke:#000000; stroke-linecap:butt; stroke-linejoin:round; stroke-width:2; stroke-opacity:0.1; fill:none\" points=\"\n",
       "  224.098,200.243 2352.76,200.243 \n",
       "  \"/>\n",
       "<polyline clip-path=\"url(#clip160)\" style=\"stroke:#000000; stroke-linecap:butt; stroke-linejoin:round; stroke-width:4; stroke-opacity:1; fill:none\" points=\"\n",
       "  224.098,1486.45 224.098,47.2441 \n",
       "  \"/>\n",
       "<polyline clip-path=\"url(#clip160)\" style=\"stroke:#000000; stroke-linecap:butt; stroke-linejoin:round; stroke-width:4; stroke-opacity:1; fill:none\" points=\"\n",
       "  224.098,1403.09 242.996,1403.09 \n",
       "  \"/>\n",
       "<polyline clip-path=\"url(#clip160)\" style=\"stroke:#000000; stroke-linecap:butt; stroke-linejoin:round; stroke-width:4; stroke-opacity:1; fill:none\" points=\"\n",
       "  224.098,1102.38 242.996,1102.38 \n",
       "  \"/>\n",
       "<polyline clip-path=\"url(#clip160)\" style=\"stroke:#000000; stroke-linecap:butt; stroke-linejoin:round; stroke-width:4; stroke-opacity:1; fill:none\" points=\"\n",
       "  224.098,801.667 242.996,801.667 \n",
       "  \"/>\n",
       "<polyline clip-path=\"url(#clip160)\" style=\"stroke:#000000; stroke-linecap:butt; stroke-linejoin:round; stroke-width:4; stroke-opacity:1; fill:none\" points=\"\n",
       "  224.098,500.955 242.996,500.955 \n",
       "  \"/>\n",
       "<polyline clip-path=\"url(#clip160)\" style=\"stroke:#000000; stroke-linecap:butt; stroke-linejoin:round; stroke-width:4; stroke-opacity:1; fill:none\" points=\"\n",
       "  224.098,200.243 242.996,200.243 \n",
       "  \"/>\n",
       "<path clip-path=\"url(#clip160)\" d=\"M50.9921 1403.54 L80.6679 1403.54 L80.6679 1407.48 L50.9921 1407.48 L50.9921 1403.54 Z\" fill=\"#000000\" fill-rule=\"evenodd\" fill-opacity=\"1\" /><path clip-path=\"url(#clip160)\" d=\"M100.76 1388.89 Q97.1493 1388.89 95.3206 1392.45 Q93.515 1396 93.515 1403.13 Q93.515 1410.23 95.3206 1413.8 Q97.1493 1417.34 100.76 1417.34 Q104.395 1417.34 106.2 1413.8 Q108.029 1410.23 108.029 1403.13 Q108.029 1396 106.2 1392.45 Q104.395 1388.89 100.76 1388.89 M100.76 1385.19 Q106.571 1385.19 109.626 1389.79 Q112.705 1394.38 112.705 1403.13 Q112.705 1411.85 109.626 1416.46 Q106.571 1421.04 100.76 1421.04 Q94.9502 1421.04 91.8715 1416.46 Q88.816 1411.85 88.816 1403.13 Q88.816 1394.38 91.8715 1389.79 Q94.9502 1385.19 100.76 1385.19 Z\" fill=\"#000000\" fill-rule=\"evenodd\" fill-opacity=\"1\" /><path clip-path=\"url(#clip160)\" d=\"M120.922 1414.49 L125.807 1414.49 L125.807 1420.37 L120.922 1420.37 L120.922 1414.49 Z\" fill=\"#000000\" fill-rule=\"evenodd\" fill-opacity=\"1\" /><path clip-path=\"url(#clip160)\" d=\"M136.038 1385.81 L154.394 1385.81 L154.394 1389.75 L140.32 1389.75 L140.32 1398.22 Q141.339 1397.87 142.357 1397.71 Q143.376 1397.52 144.394 1397.52 Q150.181 1397.52 153.561 1400.7 Q156.941 1403.87 156.941 1409.28 Q156.941 1414.86 153.468 1417.96 Q149.996 1421.04 143.677 1421.04 Q141.501 1421.04 139.232 1420.67 Q136.987 1420.3 134.58 1419.56 L134.58 1414.86 Q136.663 1416 138.885 1416.55 Q141.107 1417.11 143.584 1417.11 Q147.589 1417.11 149.927 1415 Q152.265 1412.89 152.265 1409.28 Q152.265 1405.67 149.927 1403.57 Q147.589 1401.46 143.584 1401.46 Q141.709 1401.46 139.834 1401.88 Q137.982 1402.29 136.038 1403.17 L136.038 1385.81 Z\" fill=\"#000000\" fill-rule=\"evenodd\" fill-opacity=\"1\" /><path clip-path=\"url(#clip160)\" d=\"M176.153 1388.89 Q172.542 1388.89 170.714 1392.45 Q168.908 1396 168.908 1403.13 Q168.908 1410.23 170.714 1413.8 Q172.542 1417.34 176.153 1417.34 Q179.788 1417.34 181.593 1413.8 Q183.422 1410.23 183.422 1403.13 Q183.422 1396 181.593 1392.45 Q179.788 1388.89 176.153 1388.89 M176.153 1385.19 Q181.964 1385.19 185.019 1389.79 Q188.098 1394.38 188.098 1403.13 Q188.098 1411.85 185.019 1416.46 Q181.964 1421.04 176.153 1421.04 Q170.343 1421.04 167.265 1416.46 Q164.209 1411.85 164.209 1403.13 Q164.209 1394.38 167.265 1389.79 Q170.343 1385.19 176.153 1385.19 Z\" fill=\"#000000\" fill-rule=\"evenodd\" fill-opacity=\"1\" /><path clip-path=\"url(#clip160)\" d=\"M51.9875 1102.83 L81.6633 1102.83 L81.6633 1106.77 L51.9875 1106.77 L51.9875 1102.83 Z\" fill=\"#000000\" fill-rule=\"evenodd\" fill-opacity=\"1\" /><path clip-path=\"url(#clip160)\" d=\"M101.756 1088.18 Q98.1447 1088.18 96.316 1091.74 Q94.5104 1095.28 94.5104 1102.41 Q94.5104 1109.52 96.316 1113.09 Q98.1447 1116.63 101.756 1116.63 Q105.39 1116.63 107.196 1113.09 Q109.024 1109.52 109.024 1102.41 Q109.024 1095.28 107.196 1091.74 Q105.39 1088.18 101.756 1088.18 M101.756 1084.47 Q107.566 1084.47 110.621 1089.08 Q113.7 1093.66 113.7 1102.41 Q113.7 1111.14 110.621 1115.75 Q107.566 1120.33 101.756 1120.33 Q95.9456 1120.33 92.8669 1115.75 Q89.8114 1111.14 89.8114 1102.41 Q89.8114 1093.66 92.8669 1089.08 Q95.9456 1084.47 101.756 1084.47 Z\" fill=\"#000000\" fill-rule=\"evenodd\" fill-opacity=\"1\" /><path clip-path=\"url(#clip160)\" d=\"M121.918 1113.78 L126.802 1113.78 L126.802 1119.66 L121.918 1119.66 L121.918 1113.78 Z\" fill=\"#000000\" fill-rule=\"evenodd\" fill-opacity=\"1\" /><path clip-path=\"url(#clip160)\" d=\"M141.015 1115.72 L157.334 1115.72 L157.334 1119.66 L135.39 1119.66 L135.39 1115.72 Q138.052 1112.97 142.635 1108.34 Q147.242 1103.69 148.422 1102.34 Q150.668 1099.82 151.547 1098.09 Q152.45 1096.33 152.45 1094.64 Q152.45 1091.88 150.505 1090.15 Q148.584 1088.41 145.482 1088.41 Q143.283 1088.41 140.83 1089.17 Q138.399 1089.94 135.621 1091.49 L135.621 1086.77 Q138.445 1085.63 140.899 1085.05 Q143.353 1084.47 145.39 1084.47 Q150.76 1084.47 153.955 1087.16 Q157.149 1089.84 157.149 1094.34 Q157.149 1096.46 156.339 1098.39 Q155.552 1100.28 153.445 1102.88 Q152.867 1103.55 149.765 1106.77 Q146.663 1109.96 141.015 1115.72 Z\" fill=\"#000000\" fill-rule=\"evenodd\" fill-opacity=\"1\" /><path clip-path=\"url(#clip160)\" d=\"M167.195 1085.1 L185.552 1085.1 L185.552 1089.03 L171.478 1089.03 L171.478 1097.51 Q172.496 1097.16 173.515 1097 Q174.533 1096.81 175.552 1096.81 Q181.339 1096.81 184.718 1099.98 Q188.098 1103.15 188.098 1108.57 Q188.098 1114.15 184.626 1117.25 Q181.153 1120.33 174.834 1120.33 Q172.658 1120.33 170.39 1119.96 Q168.144 1119.59 165.737 1118.85 L165.737 1114.15 Q167.82 1115.28 170.042 1115.84 Q172.265 1116.4 174.741 1116.4 Q178.746 1116.4 181.084 1114.29 Q183.422 1112.18 183.422 1108.57 Q183.422 1104.96 181.084 1102.85 Q178.746 1100.75 174.741 1100.75 Q172.866 1100.75 170.991 1101.16 Q169.14 1101.58 167.195 1102.46 L167.195 1085.1 Z\" fill=\"#000000\" fill-rule=\"evenodd\" fill-opacity=\"1\" /><path clip-path=\"url(#clip160)\" d=\"M100.76 787.466 Q97.1493 787.466 95.3206 791.031 Q93.515 794.572 93.515 801.702 Q93.515 808.808 95.3206 812.373 Q97.1493 815.915 100.76 815.915 Q104.395 815.915 106.2 812.373 Q108.029 808.808 108.029 801.702 Q108.029 794.572 106.2 791.031 Q104.395 787.466 100.76 787.466 M100.76 783.762 Q106.571 783.762 109.626 788.369 Q112.705 792.952 112.705 801.702 Q112.705 810.429 109.626 815.035 Q106.571 819.619 100.76 819.619 Q94.9502 819.619 91.8715 815.035 Q88.816 810.429 88.816 801.702 Q88.816 792.952 91.8715 788.369 Q94.9502 783.762 100.76 783.762 Z\" fill=\"#000000\" fill-rule=\"evenodd\" fill-opacity=\"1\" /><path clip-path=\"url(#clip160)\" d=\"M120.922 813.068 L125.807 813.068 L125.807 818.947 L120.922 818.947 L120.922 813.068 Z\" fill=\"#000000\" fill-rule=\"evenodd\" fill-opacity=\"1\" /><path clip-path=\"url(#clip160)\" d=\"M145.992 787.466 Q142.381 787.466 140.552 791.031 Q138.746 794.572 138.746 801.702 Q138.746 808.808 140.552 812.373 Q142.381 815.915 145.992 815.915 Q149.626 815.915 151.431 812.373 Q153.26 808.808 153.26 801.702 Q153.26 794.572 151.431 791.031 Q149.626 787.466 145.992 787.466 M145.992 783.762 Q151.802 783.762 154.857 788.369 Q157.936 792.952 157.936 801.702 Q157.936 810.429 154.857 815.035 Q151.802 819.619 145.992 819.619 Q140.181 819.619 137.103 815.035 Q134.047 810.429 134.047 801.702 Q134.047 792.952 137.103 788.369 Q140.181 783.762 145.992 783.762 Z\" fill=\"#000000\" fill-rule=\"evenodd\" fill-opacity=\"1\" /><path clip-path=\"url(#clip160)\" d=\"M176.153 787.466 Q172.542 787.466 170.714 791.031 Q168.908 794.572 168.908 801.702 Q168.908 808.808 170.714 812.373 Q172.542 815.915 176.153 815.915 Q179.788 815.915 181.593 812.373 Q183.422 808.808 183.422 801.702 Q183.422 794.572 181.593 791.031 Q179.788 787.466 176.153 787.466 M176.153 783.762 Q181.964 783.762 185.019 788.369 Q188.098 792.952 188.098 801.702 Q188.098 810.429 185.019 815.035 Q181.964 819.619 176.153 819.619 Q170.343 819.619 167.265 815.035 Q164.209 810.429 164.209 801.702 Q164.209 792.952 167.265 788.369 Q170.343 783.762 176.153 783.762 Z\" fill=\"#000000\" fill-rule=\"evenodd\" fill-opacity=\"1\" /><path clip-path=\"url(#clip160)\" d=\"M101.756 486.754 Q98.1447 486.754 96.316 490.319 Q94.5104 493.86 94.5104 500.99 Q94.5104 508.096 96.316 511.661 Q98.1447 515.203 101.756 515.203 Q105.39 515.203 107.196 511.661 Q109.024 508.096 109.024 500.99 Q109.024 493.86 107.196 490.319 Q105.39 486.754 101.756 486.754 M101.756 483.05 Q107.566 483.05 110.621 487.657 Q113.7 492.24 113.7 500.99 Q113.7 509.717 110.621 514.323 Q107.566 518.907 101.756 518.907 Q95.9456 518.907 92.8669 514.323 Q89.8114 509.717 89.8114 500.99 Q89.8114 492.24 92.8669 487.657 Q95.9456 483.05 101.756 483.05 Z\" fill=\"#000000\" fill-rule=\"evenodd\" fill-opacity=\"1\" /><path clip-path=\"url(#clip160)\" d=\"M121.918 512.356 L126.802 512.356 L126.802 518.235 L121.918 518.235 L121.918 512.356 Z\" fill=\"#000000\" fill-rule=\"evenodd\" fill-opacity=\"1\" /><path clip-path=\"url(#clip160)\" d=\"M141.015 514.3 L157.334 514.3 L157.334 518.235 L135.39 518.235 L135.39 514.3 Q138.052 511.546 142.635 506.916 Q147.242 502.263 148.422 500.921 Q150.668 498.397 151.547 496.661 Q152.45 494.902 152.45 493.212 Q152.45 490.458 150.505 488.722 Q148.584 486.985 145.482 486.985 Q143.283 486.985 140.83 487.749 Q138.399 488.513 135.621 490.064 L135.621 485.342 Q138.445 484.208 140.899 483.629 Q143.353 483.05 145.39 483.05 Q150.76 483.05 153.955 485.735 Q157.149 488.421 157.149 492.911 Q157.149 495.041 156.339 496.962 Q155.552 498.86 153.445 501.453 Q152.867 502.124 149.765 505.342 Q146.663 508.536 141.015 514.3 Z\" fill=\"#000000\" fill-rule=\"evenodd\" fill-opacity=\"1\" /><path clip-path=\"url(#clip160)\" d=\"M167.195 483.675 L185.552 483.675 L185.552 487.61 L171.478 487.61 L171.478 496.083 Q172.496 495.735 173.515 495.573 Q174.533 495.388 175.552 495.388 Q181.339 495.388 184.718 498.559 Q188.098 501.731 188.098 507.147 Q188.098 512.726 184.626 515.828 Q181.153 518.907 174.834 518.907 Q172.658 518.907 170.39 518.536 Q168.144 518.166 165.737 517.425 L165.737 512.726 Q167.82 513.86 170.042 514.416 Q172.265 514.971 174.741 514.971 Q178.746 514.971 181.084 512.865 Q183.422 510.759 183.422 507.147 Q183.422 503.536 181.084 501.43 Q178.746 499.323 174.741 499.323 Q172.866 499.323 170.991 499.74 Q169.14 500.157 167.195 501.036 L167.195 483.675 Z\" fill=\"#000000\" fill-rule=\"evenodd\" fill-opacity=\"1\" /><path clip-path=\"url(#clip160)\" d=\"M100.76 186.042 Q97.1493 186.042 95.3206 189.607 Q93.515 193.149 93.515 200.278 Q93.515 207.385 95.3206 210.949 Q97.1493 214.491 100.76 214.491 Q104.395 214.491 106.2 210.949 Q108.029 207.385 108.029 200.278 Q108.029 193.149 106.2 189.607 Q104.395 186.042 100.76 186.042 M100.76 182.338 Q106.571 182.338 109.626 186.945 Q112.705 191.528 112.705 200.278 Q112.705 209.005 109.626 213.611 Q106.571 218.195 100.76 218.195 Q94.9502 218.195 91.8715 213.611 Q88.816 209.005 88.816 200.278 Q88.816 191.528 91.8715 186.945 Q94.9502 182.338 100.76 182.338 Z\" fill=\"#000000\" fill-rule=\"evenodd\" fill-opacity=\"1\" /><path clip-path=\"url(#clip160)\" d=\"M120.922 211.644 L125.807 211.644 L125.807 217.523 L120.922 217.523 L120.922 211.644 Z\" fill=\"#000000\" fill-rule=\"evenodd\" fill-opacity=\"1\" /><path clip-path=\"url(#clip160)\" d=\"M136.038 182.963 L154.394 182.963 L154.394 186.899 L140.32 186.899 L140.32 195.371 Q141.339 195.024 142.357 194.861 Q143.376 194.676 144.394 194.676 Q150.181 194.676 153.561 197.848 Q156.941 201.019 156.941 206.435 Q156.941 212.014 153.468 215.116 Q149.996 218.195 143.677 218.195 Q141.501 218.195 139.232 217.824 Q136.987 217.454 134.58 216.713 L134.58 212.014 Q136.663 213.148 138.885 213.704 Q141.107 214.26 143.584 214.26 Q147.589 214.26 149.927 212.153 Q152.265 210.047 152.265 206.435 Q152.265 202.824 149.927 200.718 Q147.589 198.611 143.584 198.611 Q141.709 198.611 139.834 199.028 Q137.982 199.445 136.038 200.324 L136.038 182.963 Z\" fill=\"#000000\" fill-rule=\"evenodd\" fill-opacity=\"1\" /><path clip-path=\"url(#clip160)\" d=\"M176.153 186.042 Q172.542 186.042 170.714 189.607 Q168.908 193.149 168.908 200.278 Q168.908 207.385 170.714 210.949 Q172.542 214.491 176.153 214.491 Q179.788 214.491 181.593 210.949 Q183.422 207.385 183.422 200.278 Q183.422 193.149 181.593 189.607 Q179.788 186.042 176.153 186.042 M176.153 182.338 Q181.964 182.338 185.019 186.945 Q188.098 191.528 188.098 200.278 Q188.098 209.005 185.019 213.611 Q181.964 218.195 176.153 218.195 Q170.343 218.195 167.265 213.611 Q164.209 209.005 164.209 200.278 Q164.209 191.528 167.265 186.945 Q170.343 182.338 176.153 182.338 Z\" fill=\"#000000\" fill-rule=\"evenodd\" fill-opacity=\"1\" /><circle clip-path=\"url(#clip162)\" cx=\"284.343\" cy=\"987.561\" r=\"14\" fill=\"#009af9\" fill-rule=\"evenodd\" fill-opacity=\"1\" stroke=\"#000000\" stroke-opacity=\"1\" stroke-width=\"3.2\"/>\n",
       "<circle clip-path=\"url(#clip162)\" cx=\"427.783\" cy=\"1445.72\" r=\"14\" fill=\"#009af9\" fill-rule=\"evenodd\" fill-opacity=\"1\" stroke=\"#000000\" stroke-opacity=\"1\" stroke-width=\"3.2\"/>\n",
       "<circle clip-path=\"url(#clip162)\" cx=\"571.224\" cy=\"1442.9\" r=\"14\" fill=\"#009af9\" fill-rule=\"evenodd\" fill-opacity=\"1\" stroke=\"#000000\" stroke-opacity=\"1\" stroke-width=\"3.2\"/>\n",
       "<circle clip-path=\"url(#clip162)\" cx=\"714.665\" cy=\"1246.21\" r=\"14\" fill=\"#009af9\" fill-rule=\"evenodd\" fill-opacity=\"1\" stroke=\"#000000\" stroke-opacity=\"1\" stroke-width=\"3.2\"/>\n",
       "<circle clip-path=\"url(#clip162)\" cx=\"858.105\" cy=\"87.9763\" r=\"14\" fill=\"#009af9\" fill-rule=\"evenodd\" fill-opacity=\"1\" stroke=\"#000000\" stroke-opacity=\"1\" stroke-width=\"3.2\"/>\n",
       "<circle clip-path=\"url(#clip162)\" cx=\"1001.55\" cy=\"611.146\" r=\"14\" fill=\"#009af9\" fill-rule=\"evenodd\" fill-opacity=\"1\" stroke=\"#000000\" stroke-opacity=\"1\" stroke-width=\"3.2\"/>\n",
       "<circle clip-path=\"url(#clip162)\" cx=\"1144.99\" cy=\"1024.3\" r=\"14\" fill=\"#009af9\" fill-rule=\"evenodd\" fill-opacity=\"1\" stroke=\"#000000\" stroke-opacity=\"1\" stroke-width=\"3.2\"/>\n",
       "<circle clip-path=\"url(#clip162)\" cx=\"1288.43\" cy=\"765.772\" r=\"14\" fill=\"#009af9\" fill-rule=\"evenodd\" fill-opacity=\"1\" stroke=\"#000000\" stroke-opacity=\"1\" stroke-width=\"3.2\"/>\n",
       "<circle clip-path=\"url(#clip162)\" cx=\"1431.87\" cy=\"1210.71\" r=\"14\" fill=\"#009af9\" fill-rule=\"evenodd\" fill-opacity=\"1\" stroke=\"#000000\" stroke-opacity=\"1\" stroke-width=\"3.2\"/>\n",
       "<circle clip-path=\"url(#clip162)\" cx=\"1575.31\" cy=\"1220.27\" r=\"14\" fill=\"#009af9\" fill-rule=\"evenodd\" fill-opacity=\"1\" stroke=\"#000000\" stroke-opacity=\"1\" stroke-width=\"3.2\"/>\n",
       "<circle clip-path=\"url(#clip162)\" cx=\"1718.75\" cy=\"801.297\" r=\"14\" fill=\"#009af9\" fill-rule=\"evenodd\" fill-opacity=\"1\" stroke=\"#000000\" stroke-opacity=\"1\" stroke-width=\"3.2\"/>\n",
       "<circle clip-path=\"url(#clip162)\" cx=\"1862.19\" cy=\"679.454\" r=\"14\" fill=\"#009af9\" fill-rule=\"evenodd\" fill-opacity=\"1\" stroke=\"#000000\" stroke-opacity=\"1\" stroke-width=\"3.2\"/>\n",
       "<circle clip-path=\"url(#clip162)\" cx=\"2005.63\" cy=\"769.539\" r=\"14\" fill=\"#009af9\" fill-rule=\"evenodd\" fill-opacity=\"1\" stroke=\"#000000\" stroke-opacity=\"1\" stroke-width=\"3.2\"/>\n",
       "<circle clip-path=\"url(#clip162)\" cx=\"2149.07\" cy=\"1086.27\" r=\"14\" fill=\"#009af9\" fill-rule=\"evenodd\" fill-opacity=\"1\" stroke=\"#000000\" stroke-opacity=\"1\" stroke-width=\"3.2\"/>\n",
       "<circle clip-path=\"url(#clip162)\" cx=\"2292.51\" cy=\"1381.39\" r=\"14\" fill=\"#009af9\" fill-rule=\"evenodd\" fill-opacity=\"1\" stroke=\"#000000\" stroke-opacity=\"1\" stroke-width=\"3.2\"/>\n",
       "<circle clip-path=\"url(#clip162)\" cx=\"284.343\" cy=\"987.561\" r=\"14\" fill=\"#e26f46\" fill-rule=\"evenodd\" fill-opacity=\"1\" stroke=\"#000000\" stroke-opacity=\"1\" stroke-width=\"3.2\"/>\n",
       "<circle clip-path=\"url(#clip162)\" cx=\"427.783\" cy=\"1445.72\" r=\"14\" fill=\"#e26f46\" fill-rule=\"evenodd\" fill-opacity=\"1\" stroke=\"#000000\" stroke-opacity=\"1\" stroke-width=\"3.2\"/>\n",
       "<circle clip-path=\"url(#clip162)\" cx=\"571.224\" cy=\"160.435\" r=\"14\" fill=\"#e26f46\" fill-rule=\"evenodd\" fill-opacity=\"1\" stroke=\"#000000\" stroke-opacity=\"1\" stroke-width=\"3.2\"/>\n",
       "<circle clip-path=\"url(#clip162)\" cx=\"714.665\" cy=\"1246.21\" r=\"14\" fill=\"#e26f46\" fill-rule=\"evenodd\" fill-opacity=\"1\" stroke=\"#000000\" stroke-opacity=\"1\" stroke-width=\"3.2\"/>\n",
       "<circle clip-path=\"url(#clip162)\" cx=\"858.105\" cy=\"87.9763\" r=\"14\" fill=\"#e26f46\" fill-rule=\"evenodd\" fill-opacity=\"1\" stroke=\"#000000\" stroke-opacity=\"1\" stroke-width=\"3.2\"/>\n",
       "<circle clip-path=\"url(#clip162)\" cx=\"1001.55\" cy=\"611.146\" r=\"14\" fill=\"#e26f46\" fill-rule=\"evenodd\" fill-opacity=\"1\" stroke=\"#000000\" stroke-opacity=\"1\" stroke-width=\"3.2\"/>\n",
       "<circle clip-path=\"url(#clip162)\" cx=\"1144.99\" cy=\"579.039\" r=\"14\" fill=\"#e26f46\" fill-rule=\"evenodd\" fill-opacity=\"1\" stroke=\"#000000\" stroke-opacity=\"1\" stroke-width=\"3.2\"/>\n",
       "<circle clip-path=\"url(#clip162)\" cx=\"1288.43\" cy=\"837.563\" r=\"14\" fill=\"#e26f46\" fill-rule=\"evenodd\" fill-opacity=\"1\" stroke=\"#000000\" stroke-opacity=\"1\" stroke-width=\"3.2\"/>\n",
       "<circle clip-path=\"url(#clip162)\" cx=\"1431.87\" cy=\"1210.71\" r=\"14\" fill=\"#e26f46\" fill-rule=\"evenodd\" fill-opacity=\"1\" stroke=\"#000000\" stroke-opacity=\"1\" stroke-width=\"3.2\"/>\n",
       "<circle clip-path=\"url(#clip162)\" cx=\"1575.31\" cy=\"1220.27\" r=\"14\" fill=\"#e26f46\" fill-rule=\"evenodd\" fill-opacity=\"1\" stroke=\"#000000\" stroke-opacity=\"1\" stroke-width=\"3.2\"/>\n",
       "<circle clip-path=\"url(#clip162)\" cx=\"1718.75\" cy=\"801.297\" r=\"14\" fill=\"#e26f46\" fill-rule=\"evenodd\" fill-opacity=\"1\" stroke=\"#000000\" stroke-opacity=\"1\" stroke-width=\"3.2\"/>\n",
       "<circle clip-path=\"url(#clip162)\" cx=\"1862.19\" cy=\"679.454\" r=\"14\" fill=\"#e26f46\" fill-rule=\"evenodd\" fill-opacity=\"1\" stroke=\"#000000\" stroke-opacity=\"1\" stroke-width=\"3.2\"/>\n",
       "<circle clip-path=\"url(#clip162)\" cx=\"2005.63\" cy=\"833.796\" r=\"14\" fill=\"#e26f46\" fill-rule=\"evenodd\" fill-opacity=\"1\" stroke=\"#000000\" stroke-opacity=\"1\" stroke-width=\"3.2\"/>\n",
       "<circle clip-path=\"url(#clip162)\" cx=\"2149.07\" cy=\"517.063\" r=\"14\" fill=\"#e26f46\" fill-rule=\"evenodd\" fill-opacity=\"1\" stroke=\"#000000\" stroke-opacity=\"1\" stroke-width=\"3.2\"/>\n",
       "<circle clip-path=\"url(#clip162)\" cx=\"2292.51\" cy=\"1381.39\" r=\"14\" fill=\"#e26f46\" fill-rule=\"evenodd\" fill-opacity=\"1\" stroke=\"#000000\" stroke-opacity=\"1\" stroke-width=\"3.2\"/>\n",
       "</svg>\n"
      ]
     },
     "execution_count": 95,
     "metadata": {},
     "output_type": "execute_result"
    }
   ],
   "source": [
    "scatter(disLoops_y0[1:15, 1])\n",
    "scatter!(Loops_y0[1:15, 1]; legend = false)"
   ]
  },
  {
   "cell_type": "code",
   "execution_count": 96,
   "id": "a59320ea-13fa-4d53-9db9-aee848cc2942",
   "metadata": {},
   "outputs": [
    {
     "data": {
      "text/plain": [
       "getMaxLod (generic function with 1 method)"
      ]
     },
     "execution_count": 96,
     "metadata": {},
     "output_type": "execute_result"
    }
   ],
   "source": [
    "function getMaxLod(results::Array{Float64, 2})\n",
    "    \n",
    "    return mapslices(x -> maximum(x), results; dims = 2);\n",
    "    \n",
    "end"
   ]
  },
  {
   "cell_type": "code",
   "execution_count": null,
   "id": "1b8e9fc8-9046-4261-98a6-3d9fdd4c7d40",
   "metadata": {},
   "outputs": [],
   "source": []
  },
  {
   "cell_type": "code",
   "execution_count": null,
   "id": "938556a2-1125-4dcc-bbc1-304ecc3151e9",
   "metadata": {},
   "outputs": [],
   "source": []
  },
  {
   "cell_type": "code",
   "execution_count": null,
   "id": "8e3dc72a-329c-457a-857a-7c64b464a967",
   "metadata": {},
   "outputs": [],
   "source": []
  }
 ],
 "metadata": {
  "kernelspec": {
   "display_name": "Julia 1.6.2",
   "language": "julia",
   "name": "julia-1.6"
  },
  "language_info": {
   "file_extension": ".jl",
   "mimetype": "application/julia",
   "name": "julia",
   "version": "1.6.2"
  }
 },
 "nbformat": 4,
 "nbformat_minor": 5
}
