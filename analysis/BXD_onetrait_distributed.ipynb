{
 "cells": [
  {
   "cell_type": "markdown",
   "id": "be4a68e3-58ba-4c1c-8ce7-4c7215a972a8",
   "metadata": {},
   "source": [
    "## Load-in dependencies:"
   ]
  },
  {
   "cell_type": "code",
   "execution_count": 1,
   "id": "382288c7-7b8e-4371-b2b7-b983334971ef",
   "metadata": {},
   "outputs": [],
   "source": [
    "using Pkg\n",
    "# Pkg.add(\"Profile\")\n",
    "# Pkg.instantiate()"
   ]
  },
  {
   "cell_type": "code",
   "execution_count": 2,
   "id": "a42289c4-20db-4359-b1ac-e171ada4d5f4",
   "metadata": {},
   "outputs": [],
   "source": [
    "#= dependencies = [\"DelimitedFiles\", \"LinearAlgebra\", \"Optim\", \"Distributions\", \"Test\",\n",
    "                \"BenchmarkTools\", \"Random\", \"CSV\", \"DataFrames\", \"Distributed\", \"Plots\"];\n",
    "Pkg.add(dependencies) =#"
   ]
  },
  {
   "cell_type": "code",
   "execution_count": 3,
   "id": "95957479-db20-4ae3-ac09-9a317d2daa8a",
   "metadata": {},
   "outputs": [],
   "source": [
    "using DelimitedFiles\n",
    "using LinearAlgebra\n",
    "using Optim\n",
    "using Distributions\n",
    "using Test\n",
    "using BenchmarkTools\n",
    "using Random\n",
    "using CSV\n",
    "using DataFrames\n",
    "using Plots\n",
    "using Profile\n",
    "using Distributed"
   ]
  },
  {
   "cell_type": "code",
   "execution_count": 4,
   "id": "712736c0-f753-47ad-aa4b-f7a4413d6fc0",
   "metadata": {},
   "outputs": [
    {
     "data": {
      "text/plain": [
       "\"/home/xyu/github/BulkLMM.jl/analysis\""
      ]
     },
     "execution_count": 4,
     "metadata": {},
     "output_type": "execute_result"
    }
   ],
   "source": [
    "pwd()"
   ]
  },
  {
   "cell_type": "code",
   "execution_count": 5,
   "id": "141b951c-fc60-4870-b222-befad56b9703",
   "metadata": {},
   "outputs": [],
   "source": [
    "## Include the source code of BulkLMM to be tested:\n",
    "include(\"../src/scan.jl\");\n",
    "include(\"../src/lmm.jl\");\n",
    "include(\"../src/wls.jl\");\n",
    "include(\"../src/util.jl\");\n",
    "include(\"../src/kinship.jl\");\n",
    "include(\"../src/readData.jl\");\n",
    "include(\"../src/scan_for_tests.jl\")\n",
    "include(\"../src/scan_distributed.jl\") # new function\n",
    "\n",
    "## Also include the helper functions for writing tests:\n",
    "include(\"../test/testHelper.jl\");"
   ]
  },
  {
   "cell_type": "markdown",
   "id": "9cc6f4c7-da1c-43f1-903e-fbb31c632794",
   "metadata": {},
   "source": [
    "## Read in BXD data:"
   ]
  },
  {
   "cell_type": "code",
   "execution_count": 6,
   "id": "38f6c597-0edf-4c3c-bd63-b856a5b9fe65",
   "metadata": {},
   "outputs": [],
   "source": [
    "## Read in BXD data:\n",
    "pheno_file = \"../data/bxdData/BXDtraits.csv\"\n",
    "pheno = readBXDpheno(pheno_file);\n",
    "geno_file = \"../data/bxdData/BXDgeno_prob.csv\"\n",
    "geno = readGenoProb_ExcludeComplements(geno_file);\n",
    "\n",
    "kinship = calcKinship(geno); # calculate kinship matrix from genotype data"
   ]
  },
  {
   "cell_type": "code",
   "execution_count": 7,
   "id": "1acb6c64-4e0d-4839-be95-1ad7d7b9ad0a",
   "metadata": {},
   "outputs": [],
   "source": [
    "nperms = 1024; # number of permutated copies required;\n",
    "m = size(pheno, 2);\n",
    "p = size(geno, 2); # number of markers"
   ]
  },
  {
   "cell_type": "code",
   "execution_count": 8,
   "id": "a5e5184f-9265-446a-9a48-0ce0eb7417d3",
   "metadata": {},
   "outputs": [],
   "source": [
    "## Consider the 7919-th trait\n",
    "pheno_y = reshape(pheno[:, 7919], :, 1);"
   ]
  },
  {
   "cell_type": "code",
   "execution_count": 9,
   "id": "b678d1cd-a17d-4b45-8e14-577f2a33b5db",
   "metadata": {},
   "outputs": [],
   "source": [
    "# Pkg.add(\"StatsBase\")"
   ]
  },
  {
   "cell_type": "code",
   "execution_count": 10,
   "id": "7675ff26-c476-4eea-9f3a-60fade88ba4c",
   "metadata": {},
   "outputs": [
    {
     "name": "stderr",
     "output_type": "stream",
     "text": [
      "WARNING: using StatsBase.rss in module Main conflicts with an existing identifier.\n"
     ]
    }
   ],
   "source": [
    "using StatsBase"
   ]
  },
  {
   "cell_type": "code",
   "execution_count": 11,
   "id": "6f43f414-80a9-4854-9077-0663399a785f",
   "metadata": {},
   "outputs": [],
   "source": [
    "n_seeds = 20;"
   ]
  },
  {
   "cell_type": "code",
   "execution_count": 12,
   "id": "e29da538-2332-4781-bfd3-2d78daea3c8e",
   "metadata": {},
   "outputs": [
    {
     "data": {
      "text/plain": [
       "20-element Vector{Int64}:\n",
       " 14\n",
       " 60\n",
       " 11\n",
       " 81\n",
       " 15\n",
       " 36\n",
       " 62\n",
       " 41\n",
       " 90\n",
       " 99\n",
       " 16\n",
       " 80\n",
       " 59\n",
       " 40\n",
       " 26\n",
       " 50\n",
       " 49\n",
       "  7\n",
       " 25\n",
       " 31"
      ]
     },
     "execution_count": 12,
     "metadata": {},
     "output_type": "execute_result"
    }
   ],
   "source": [
    "seeds_list = StatsBase.sample(1:100, n_seeds; replace = false)"
   ]
  },
  {
   "cell_type": "markdown",
   "id": "7d63ff9a-50c0-46e7-92d7-9ff7240d12ba",
   "metadata": {},
   "source": [
    "## Three phases of data transformations:"
   ]
  },
  {
   "cell_type": "code",
   "execution_count": 13,
   "id": "252f9cf2-5775-4148-960b-2ee1bdbd74c1",
   "metadata": {},
   "outputs": [],
   "source": [
    "(y0, X0, lambda0) = transform1(pheno_y, geno, kinship);"
   ]
  },
  {
   "cell_type": "code",
   "execution_count": 14,
   "id": "dfc8027f-58e7-44f4-bdcb-857a73ab1027",
   "metadata": {},
   "outputs": [],
   "source": [
    "# unique(round.(lambda0; digits = 3))"
   ]
  },
  {
   "cell_type": "code",
   "execution_count": 15,
   "id": "a05ce101-8fbf-4150-b460-9ca4b28f91da",
   "metadata": {},
   "outputs": [],
   "source": [
    "(r0, X00) = transform2(y0, X0, lambda0; reml = false);"
   ]
  },
  {
   "cell_type": "markdown",
   "id": "7711ff59-862a-44c9-9a82-ccc6190cc307",
   "metadata": {},
   "source": [
    "## Study: distribute over permutations"
   ]
  },
  {
   "cell_type": "markdown",
   "id": "06e355c8-25c3-4eac-bbda-03f50807a92a",
   "metadata": {},
   "source": [
    "### Check results:"
   ]
  },
  {
   "cell_type": "markdown",
   "id": "4e44beec-dd41-4f9a-b99d-7170aa3f8d18",
   "metadata": {},
   "source": [
    "Will the results be consistent, if we fixed the set of rotated data for further algorithm?"
   ]
  },
  {
   "cell_type": "code",
   "execution_count": 16,
   "id": "766dd6a1-e3d0-41d9-b269-a955693c61de",
   "metadata": {},
   "outputs": [],
   "source": [
    "map_results = map(x -> scan_distributed(y0, X0, lambda0; nperms = 100, rndseed = x, original = false), seeds_list);\n",
    "map_LODs = reduce(vcat, map_results);"
   ]
  },
  {
   "cell_type": "code",
   "execution_count": 17,
   "id": "d87a0750-9ab3-4826-83c9-35e4326a9385",
   "metadata": {},
   "outputs": [],
   "source": [
    "using Distributed"
   ]
  },
  {
   "cell_type": "code",
   "execution_count": 105,
   "id": "8eddfec9-ec68-49c5-9ad4-e10695f0321f",
   "metadata": {},
   "outputs": [],
   "source": [
    "addprocs(2);"
   ]
  },
  {
   "cell_type": "code",
   "execution_count": 19,
   "id": "09bddffd-584e-4c67-b11e-23bc02c29dbc",
   "metadata": {},
   "outputs": [],
   "source": [
    "# procs()"
   ]
  },
  {
   "cell_type": "code",
   "execution_count": 20,
   "id": "8b4e841f-6fdf-4e5f-8838-f9c7adb7a941",
   "metadata": {},
   "outputs": [],
   "source": [
    "# rmprocs(collect(1:8))"
   ]
  },
  {
   "cell_type": "code",
   "execution_count": 21,
   "id": "3b91fc10-96f0-4a7b-93a3-240378ae556b",
   "metadata": {},
   "outputs": [
    {
     "data": {
      "text/plain": [
       "9-element Vector{Int64}:\n",
       " 1\n",
       " 2\n",
       " 3\n",
       " 4\n",
       " 5\n",
       " 6\n",
       " 7\n",
       " 8\n",
       " 9"
      ]
     },
     "execution_count": 21,
     "metadata": {},
     "output_type": "execute_result"
    }
   ],
   "source": [
    "procs()"
   ]
  },
  {
   "cell_type": "code",
   "execution_count": 106,
   "id": "ae45e99e-5ce3-453b-84bb-26c76c968b27",
   "metadata": {},
   "outputs": [],
   "source": [
    "@everywhere begin\n",
    "    using Random\n",
    "    using LinearAlgebra\n",
    "    using Optim\n",
    "    using Distributed\n",
    "    \n",
    "    ## Include the source code of BulkLMM to be tested:\n",
    "    include(\"../src/scan.jl\");\n",
    "    include(\"../src/lmm.jl\");\n",
    "    include(\"../src/wls.jl\");\n",
    "    include(\"../src/util.jl\");\n",
    "    include(\"../src/kinship.jl\");\n",
    "    include(\"../src/readData.jl\");\n",
    "    include(\"../src/scan_for_tests.jl\")\n",
    "    include(\"../src/scan_distributed.jl\")\n",
    "\n",
    "end"
   ]
  },
  {
   "cell_type": "code",
   "execution_count": 23,
   "id": "12c3e863-11bf-4dc5-9b71-ec27d05077dd",
   "metadata": {},
   "outputs": [],
   "source": [
    "pmap_results = pmap(x -> scan_distributed(y0, X0, lambda0; nperms = 100, rndseed = x, original = false), seeds_list);\n",
    "pmap_LODs = reduce(vcat, pmap_results);"
   ]
  },
  {
   "cell_type": "code",
   "execution_count": 24,
   "id": "dc7f09f3-1292-4c6d-acc0-bdc5b4456431",
   "metadata": {},
   "outputs": [
    {
     "data": {
      "text/plain": [
       "(2000, 7321)"
      ]
     },
     "execution_count": 24,
     "metadata": {},
     "output_type": "execute_result"
    }
   ],
   "source": [
    "size(pmap_LODs)"
   ]
  },
  {
   "cell_type": "code",
   "execution_count": 25,
   "id": "fea8edc8-0ece-493f-a979-b999e292a28a",
   "metadata": {},
   "outputs": [
    {
     "data": {
      "text/plain": [
       "6×6 Matrix{Float64}:\n",
       " 0.165284    0.165284    0.165284    0.165284    0.165284    0.165284\n",
       " 0.123089    0.123089    0.123089    0.123089    0.123089    0.123089\n",
       " 0.976772    0.976772    0.976772    0.976772    0.976772    0.976772\n",
       " 0.0388744   0.0388744   0.0388744   0.0388744   0.0388744   0.0388744\n",
       " 7.36844e-5  7.36844e-5  7.36844e-5  7.36844e-5  7.36844e-5  7.36844e-5\n",
       " 0.0812383   0.0812383   0.0812383   0.0812383   0.0812383   0.0812383"
      ]
     },
     "execution_count": 25,
     "metadata": {},
     "output_type": "execute_result"
    }
   ],
   "source": [
    "pmap_LODs[1:6, 1:6]"
   ]
  },
  {
   "cell_type": "code",
   "execution_count": 26,
   "id": "e3d3cebf-b481-4efb-a6c9-ef8bd53614e1",
   "metadata": {},
   "outputs": [
    {
     "data": {
      "text/plain": [
       "6×6 Matrix{Float64}:\n",
       " 0.165284    0.165284    0.165284    0.165284    0.165284    0.165284\n",
       " 0.123089    0.123089    0.123089    0.123089    0.123089    0.123089\n",
       " 0.976772    0.976772    0.976772    0.976772    0.976772    0.976772\n",
       " 0.0388744   0.0388744   0.0388744   0.0388744   0.0388744   0.0388744\n",
       " 7.36844e-5  7.36844e-5  7.36844e-5  7.36844e-5  7.36844e-5  7.36844e-5\n",
       " 0.0812383   0.0812383   0.0812383   0.0812383   0.0812383   0.0812383"
      ]
     },
     "execution_count": 26,
     "metadata": {},
     "output_type": "execute_result"
    }
   ],
   "source": [
    "map_LODs[1:6, 1:6]"
   ]
  },
  {
   "cell_type": "code",
   "execution_count": 27,
   "id": "47b96d51-69e3-441c-bcb9-7010c631afa7",
   "metadata": {},
   "outputs": [
    {
     "data": {
      "text/plain": [
       "0.0"
      ]
     },
     "execution_count": 27,
     "metadata": {},
     "output_type": "execute_result"
    }
   ],
   "source": [
    "maxSqDiff(map_LODs, pmap_LODs) "
   ]
  },
  {
   "cell_type": "markdown",
   "id": "f3aaea5b-9bf0-4d7f-a34b-5f50af86a34a",
   "metadata": {},
   "source": [
    "It turned out that if we give the same set of rotated data, results will match, which implies that the inconsistency of results may only be due to the rotation process (sign ambiguity in eigendecomposition)."
   ]
  },
  {
   "cell_type": "markdown",
   "id": "4a3eef2a-1cb7-4845-8627-7c054c3a8b14",
   "metadata": {},
   "source": [
    "### Benchmarking:"
   ]
  },
  {
   "cell_type": "markdown",
   "id": "703112f2-2a89-4f87-ac34-86e3b6148963",
   "metadata": {},
   "source": [
    "map(permutations)"
   ]
  },
  {
   "cell_type": "code",
   "execution_count": 28,
   "id": "43bc38b5-374a-47e1-ab9b-c593ccd1d67e",
   "metadata": {},
   "outputs": [
    {
     "data": {
      "text/plain": [
       "BenchmarkTools.Trial: 2 samples with 1 evaluation.\n",
       " Range \u001b[90m(\u001b[39m\u001b[36m\u001b[1mmin\u001b[22m\u001b[39m … \u001b[35mmax\u001b[39m\u001b[90m):  \u001b[39m\u001b[36m\u001b[1m4.956 s\u001b[22m\u001b[39m … \u001b[35m  4.983 s\u001b[39m  \u001b[90m┊\u001b[39m GC \u001b[90m(\u001b[39mmin … max\u001b[90m): \u001b[39m4.74% … 4.18%\n",
       " Time  \u001b[90m(\u001b[39m\u001b[34m\u001b[1mmedian\u001b[22m\u001b[39m\u001b[90m):     \u001b[39m\u001b[34m\u001b[1m4.969 s              \u001b[22m\u001b[39m\u001b[90m┊\u001b[39m GC \u001b[90m(\u001b[39mmedian\u001b[90m):    \u001b[39m4.46%\n",
       " Time  \u001b[90m(\u001b[39m\u001b[32m\u001b[1mmean\u001b[22m\u001b[39m ± \u001b[32mσ\u001b[39m\u001b[90m):   \u001b[39m\u001b[32m\u001b[1m4.969 s\u001b[22m\u001b[39m ± \u001b[32m18.865 ms\u001b[39m  \u001b[90m┊\u001b[39m GC \u001b[90m(\u001b[39mmean ± σ\u001b[90m):  \u001b[39m4.46% ± 0.40%\n",
       "\n",
       "  \u001b[34m█\u001b[39m\u001b[39m \u001b[39m \u001b[39m \u001b[39m \u001b[39m \u001b[39m \u001b[39m \u001b[39m \u001b[39m \u001b[39m \u001b[39m \u001b[39m \u001b[39m \u001b[39m \u001b[39m \u001b[39m \u001b[39m \u001b[39m \u001b[39m \u001b[39m \u001b[39m \u001b[39m \u001b[39m \u001b[39m \u001b[39m \u001b[39m \u001b[39m \u001b[32m \u001b[39m\u001b[39m \u001b[39m \u001b[39m \u001b[39m \u001b[39m \u001b[39m \u001b[39m \u001b[39m \u001b[39m \u001b[39m \u001b[39m \u001b[39m \u001b[39m \u001b[39m \u001b[39m \u001b[39m \u001b[39m \u001b[39m \u001b[39m \u001b[39m \u001b[39m \u001b[39m \u001b[39m \u001b[39m \u001b[39m \u001b[39m \u001b[39m \u001b[39m█\u001b[39m \u001b[39m \n",
       "  \u001b[34m█\u001b[39m\u001b[39m▁\u001b[39m▁\u001b[39m▁\u001b[39m▁\u001b[39m▁\u001b[39m▁\u001b[39m▁\u001b[39m▁\u001b[39m▁\u001b[39m▁\u001b[39m▁\u001b[39m▁\u001b[39m▁\u001b[39m▁\u001b[39m▁\u001b[39m▁\u001b[39m▁\u001b[39m▁\u001b[39m▁\u001b[39m▁\u001b[39m▁\u001b[39m▁\u001b[39m▁\u001b[39m▁\u001b[39m▁\u001b[39m▁\u001b[39m▁\u001b[32m▁\u001b[39m\u001b[39m▁\u001b[39m▁\u001b[39m▁\u001b[39m▁\u001b[39m▁\u001b[39m▁\u001b[39m▁\u001b[39m▁\u001b[39m▁\u001b[39m▁\u001b[39m▁\u001b[39m▁\u001b[39m▁\u001b[39m▁\u001b[39m▁\u001b[39m▁\u001b[39m▁\u001b[39m▁\u001b[39m▁\u001b[39m▁\u001b[39m▁\u001b[39m▁\u001b[39m▁\u001b[39m▁\u001b[39m▁\u001b[39m▁\u001b[39m▁\u001b[39m█\u001b[39m \u001b[39m▁\n",
       "  4.96 s\u001b[90m         Histogram: frequency by time\u001b[39m        4.98 s \u001b[0m\u001b[1m<\u001b[22m\n",
       "\n",
       " Memory estimate\u001b[90m: \u001b[39m\u001b[33m26.95 GiB\u001b[39m, allocs estimate\u001b[90m: \u001b[39m\u001b[33m1474363\u001b[39m."
      ]
     },
     "execution_count": 28,
     "metadata": {},
     "output_type": "execute_result"
    }
   ],
   "source": [
    "@benchmark begin\n",
    "    transform1(pheno_y, geno, kinship);\n",
    "    map(x -> scan_distributed(y0, X0, lambda0; nperms = 100, rndseed = x, original = false), seeds_list)\n",
    "end"
   ]
  },
  {
   "cell_type": "markdown",
   "id": "80b9d1bc-970c-4879-8311-17bd11d1184e",
   "metadata": {},
   "source": [
    "pmap(permutations)"
   ]
  },
  {
   "cell_type": "code",
   "execution_count": 29,
   "id": "9883cb26-df86-486d-9791-b414d3e9f9dc",
   "metadata": {},
   "outputs": [
    {
     "data": {
      "text/plain": [
       "BenchmarkTools.Trial: 5 samples with 1 evaluation.\n",
       " Range \u001b[90m(\u001b[39m\u001b[36m\u001b[1mmin\u001b[22m\u001b[39m … \u001b[35mmax\u001b[39m\u001b[90m):  \u001b[39m\u001b[36m\u001b[1m1.035 s\u001b[22m\u001b[39m … \u001b[35m   1.303 s\u001b[39m  \u001b[90m┊\u001b[39m GC \u001b[90m(\u001b[39mmin … max\u001b[90m): \u001b[39m0.00% … 0.00%\n",
       " Time  \u001b[90m(\u001b[39m\u001b[34m\u001b[1mmedian\u001b[22m\u001b[39m\u001b[90m):     \u001b[39m\u001b[34m\u001b[1m1.233 s               \u001b[22m\u001b[39m\u001b[90m┊\u001b[39m GC \u001b[90m(\u001b[39mmedian\u001b[90m):    \u001b[39m0.00%\n",
       " Time  \u001b[90m(\u001b[39m\u001b[32m\u001b[1mmean\u001b[22m\u001b[39m ± \u001b[32mσ\u001b[39m\u001b[90m):   \u001b[39m\u001b[32m\u001b[1m1.174 s\u001b[22m\u001b[39m ± \u001b[32m126.347 ms\u001b[39m  \u001b[90m┊\u001b[39m GC \u001b[90m(\u001b[39mmean ± σ\u001b[90m):  \u001b[39m0.44% ± 1.11%\n",
       "\n",
       "  \u001b[39m█\u001b[39m█\u001b[34m \u001b[39m\u001b[39m \u001b[39m \u001b[39m \u001b[39m \u001b[39m \u001b[39m \u001b[39m \u001b[39m \u001b[39m \u001b[39m \u001b[39m \u001b[39m \u001b[39m \u001b[39m \u001b[39m \u001b[39m \u001b[39m \u001b[39m \u001b[39m \u001b[39m \u001b[39m \u001b[39m \u001b[39m \u001b[39m \u001b[39m \u001b[39m \u001b[39m \u001b[32m \u001b[39m\u001b[39m \u001b[39m \u001b[39m \u001b[39m \u001b[39m \u001b[39m \u001b[39m \u001b[39m \u001b[39m \u001b[39m \u001b[39m \u001b[39m█\u001b[39m \u001b[39m \u001b[39m \u001b[39m \u001b[39m \u001b[39m█\u001b[39m \u001b[39m \u001b[39m \u001b[39m \u001b[39m \u001b[39m \u001b[39m \u001b[39m \u001b[39m█\u001b[39m \u001b[39m \n",
       "  \u001b[39m█\u001b[39m█\u001b[34m▁\u001b[39m\u001b[39m▁\u001b[39m▁\u001b[39m▁\u001b[39m▁\u001b[39m▁\u001b[39m▁\u001b[39m▁\u001b[39m▁\u001b[39m▁\u001b[39m▁\u001b[39m▁\u001b[39m▁\u001b[39m▁\u001b[39m▁\u001b[39m▁\u001b[39m▁\u001b[39m▁\u001b[39m▁\u001b[39m▁\u001b[39m▁\u001b[39m▁\u001b[39m▁\u001b[39m▁\u001b[39m▁\u001b[39m▁\u001b[39m▁\u001b[39m▁\u001b[32m▁\u001b[39m\u001b[39m▁\u001b[39m▁\u001b[39m▁\u001b[39m▁\u001b[39m▁\u001b[39m▁\u001b[39m▁\u001b[39m▁\u001b[39m▁\u001b[39m▁\u001b[39m▁\u001b[39m█\u001b[39m▁\u001b[39m▁\u001b[39m▁\u001b[39m▁\u001b[39m▁\u001b[39m█\u001b[39m▁\u001b[39m▁\u001b[39m▁\u001b[39m▁\u001b[39m▁\u001b[39m▁\u001b[39m▁\u001b[39m▁\u001b[39m█\u001b[39m \u001b[39m▁\n",
       "  1.03 s\u001b[90m         Histogram: frequency by time\u001b[39m          1.3 s \u001b[0m\u001b[1m<\u001b[22m\n",
       "\n",
       " Memory estimate\u001b[90m: \u001b[39m\u001b[33m120.79 MiB\u001b[39m, allocs estimate\u001b[90m: \u001b[39m\u001b[33m2163\u001b[39m."
      ]
     },
     "execution_count": 29,
     "metadata": {},
     "output_type": "execute_result"
    }
   ],
   "source": [
    "@benchmark begin\n",
    "    transform1(pheno_y, geno, kinship);\n",
    "    pmap(x -> scan_distributed(y0, X0, lambda0; nperms = 100, rndseed = x, original = false), seeds_list)\n",
    "end"
   ]
  },
  {
   "cell_type": "code",
   "execution_count": 30,
   "id": "47afdcec-4ffd-476a-a0f2-6e6eef625835",
   "metadata": {},
   "outputs": [
    {
     "data": {
      "text/plain": [
       "BenchmarkTools.Trial: 2 samples with 1 evaluation.\n",
       " Range \u001b[90m(\u001b[39m\u001b[36m\u001b[1mmin\u001b[22m\u001b[39m … \u001b[35mmax\u001b[39m\u001b[90m):  \u001b[39m\u001b[36m\u001b[1m4.797 s\u001b[22m\u001b[39m … \u001b[35m  4.862 s\u001b[39m  \u001b[90m┊\u001b[39m GC \u001b[90m(\u001b[39mmin … max\u001b[90m): \u001b[39m4.48% … 4.69%\n",
       " Time  \u001b[90m(\u001b[39m\u001b[34m\u001b[1mmedian\u001b[22m\u001b[39m\u001b[90m):     \u001b[39m\u001b[34m\u001b[1m4.829 s              \u001b[22m\u001b[39m\u001b[90m┊\u001b[39m GC \u001b[90m(\u001b[39mmedian\u001b[90m):    \u001b[39m4.58%\n",
       " Time  \u001b[90m(\u001b[39m\u001b[32m\u001b[1mmean\u001b[22m\u001b[39m ± \u001b[32mσ\u001b[39m\u001b[90m):   \u001b[39m\u001b[32m\u001b[1m4.829 s\u001b[22m\u001b[39m ± \u001b[32m45.881 ms\u001b[39m  \u001b[90m┊\u001b[39m GC \u001b[90m(\u001b[39mmean ± σ\u001b[90m):  \u001b[39m4.58% ± 0.15%\n",
       "\n",
       "  \u001b[34m█\u001b[39m\u001b[39m \u001b[39m \u001b[39m \u001b[39m \u001b[39m \u001b[39m \u001b[39m \u001b[39m \u001b[39m \u001b[39m \u001b[39m \u001b[39m \u001b[39m \u001b[39m \u001b[39m \u001b[39m \u001b[39m \u001b[39m \u001b[39m \u001b[39m \u001b[39m \u001b[39m \u001b[39m \u001b[39m \u001b[39m \u001b[39m \u001b[39m \u001b[32m \u001b[39m\u001b[39m \u001b[39m \u001b[39m \u001b[39m \u001b[39m \u001b[39m \u001b[39m \u001b[39m \u001b[39m \u001b[39m \u001b[39m \u001b[39m \u001b[39m \u001b[39m \u001b[39m \u001b[39m \u001b[39m \u001b[39m \u001b[39m \u001b[39m \u001b[39m \u001b[39m \u001b[39m \u001b[39m \u001b[39m \u001b[39m \u001b[39m \u001b[39m█\u001b[39m \u001b[39m \n",
       "  \u001b[34m█\u001b[39m\u001b[39m▁\u001b[39m▁\u001b[39m▁\u001b[39m▁\u001b[39m▁\u001b[39m▁\u001b[39m▁\u001b[39m▁\u001b[39m▁\u001b[39m▁\u001b[39m▁\u001b[39m▁\u001b[39m▁\u001b[39m▁\u001b[39m▁\u001b[39m▁\u001b[39m▁\u001b[39m▁\u001b[39m▁\u001b[39m▁\u001b[39m▁\u001b[39m▁\u001b[39m▁\u001b[39m▁\u001b[39m▁\u001b[39m▁\u001b[39m▁\u001b[32m▁\u001b[39m\u001b[39m▁\u001b[39m▁\u001b[39m▁\u001b[39m▁\u001b[39m▁\u001b[39m▁\u001b[39m▁\u001b[39m▁\u001b[39m▁\u001b[39m▁\u001b[39m▁\u001b[39m▁\u001b[39m▁\u001b[39m▁\u001b[39m▁\u001b[39m▁\u001b[39m▁\u001b[39m▁\u001b[39m▁\u001b[39m▁\u001b[39m▁\u001b[39m▁\u001b[39m▁\u001b[39m▁\u001b[39m▁\u001b[39m▁\u001b[39m▁\u001b[39m█\u001b[39m \u001b[39m▁\n",
       "  4.8 s\u001b[90m          Histogram: frequency by time\u001b[39m        4.86 s \u001b[0m\u001b[1m<\u001b[22m\n",
       "\n",
       " Memory estimate\u001b[90m: \u001b[39m\u001b[33m26.94 GiB\u001b[39m, allocs estimate\u001b[90m: \u001b[39m\u001b[33m1474342\u001b[39m."
      ]
     },
     "execution_count": 30,
     "metadata": {},
     "output_type": "execute_result"
    }
   ],
   "source": [
    "@benchmark map(x -> scan_distributed(y0, X0, lambda0; nperms = 100, rndseed = x, original = false), seeds_list)"
   ]
  },
  {
   "cell_type": "code",
   "execution_count": 31,
   "id": "0ad01b3d-8b44-488f-bfca-4766af36f12e",
   "metadata": {},
   "outputs": [
    {
     "data": {
      "text/plain": [
       "BenchmarkTools.Trial: 8 samples with 1 evaluation.\n",
       " Range \u001b[90m(\u001b[39m\u001b[36m\u001b[1mmin\u001b[22m\u001b[39m … \u001b[35mmax\u001b[39m\u001b[90m):  \u001b[39m\u001b[36m\u001b[1m511.293 ms\u001b[22m\u001b[39m … \u001b[35m826.507 ms\u001b[39m  \u001b[90m┊\u001b[39m GC \u001b[90m(\u001b[39mmin … max\u001b[90m): \u001b[39m0.00% … 0.00%\n",
       " Time  \u001b[90m(\u001b[39m\u001b[34m\u001b[1mmedian\u001b[22m\u001b[39m\u001b[90m):     \u001b[39m\u001b[34m\u001b[1m670.361 ms               \u001b[22m\u001b[39m\u001b[90m┊\u001b[39m GC \u001b[90m(\u001b[39mmedian\u001b[90m):    \u001b[39m0.00%\n",
       " Time  \u001b[90m(\u001b[39m\u001b[32m\u001b[1mmean\u001b[22m\u001b[39m ± \u001b[32mσ\u001b[39m\u001b[90m):   \u001b[39m\u001b[32m\u001b[1m658.623 ms\u001b[22m\u001b[39m ± \u001b[32m118.541 ms\u001b[39m  \u001b[90m┊\u001b[39m GC \u001b[90m(\u001b[39mmean ± σ\u001b[90m):  \u001b[39m0.00% ± 0.00%\n",
       "\n",
       "  \u001b[39m█\u001b[39m \u001b[39m \u001b[39m \u001b[39m█\u001b[39m \u001b[39m█\u001b[39m \u001b[39m \u001b[39m \u001b[39m \u001b[39m \u001b[39m \u001b[39m \u001b[39m \u001b[39m \u001b[39m \u001b[39m \u001b[39m \u001b[39m \u001b[39m \u001b[39m \u001b[39m \u001b[39m \u001b[39m \u001b[39m \u001b[39m \u001b[39m█\u001b[34m \u001b[39m\u001b[32m \u001b[39m\u001b[39m \u001b[39m \u001b[39m \u001b[39m \u001b[39m█\u001b[39m \u001b[39m \u001b[39m \u001b[39m \u001b[39m \u001b[39m \u001b[39m \u001b[39m \u001b[39m \u001b[39m \u001b[39m█\u001b[39m \u001b[39m \u001b[39m \u001b[39m█\u001b[39m \u001b[39m \u001b[39m \u001b[39m \u001b[39m \u001b[39m \u001b[39m \u001b[39m \u001b[39m \u001b[39m \u001b[39m█\u001b[39m \u001b[39m \n",
       "  \u001b[39m█\u001b[39m▁\u001b[39m▁\u001b[39m▁\u001b[39m█\u001b[39m▁\u001b[39m█\u001b[39m▁\u001b[39m▁\u001b[39m▁\u001b[39m▁\u001b[39m▁\u001b[39m▁\u001b[39m▁\u001b[39m▁\u001b[39m▁\u001b[39m▁\u001b[39m▁\u001b[39m▁\u001b[39m▁\u001b[39m▁\u001b[39m▁\u001b[39m▁\u001b[39m▁\u001b[39m▁\u001b[39m▁\u001b[39m▁\u001b[39m█\u001b[34m▁\u001b[39m\u001b[32m▁\u001b[39m\u001b[39m▁\u001b[39m▁\u001b[39m▁\u001b[39m▁\u001b[39m█\u001b[39m▁\u001b[39m▁\u001b[39m▁\u001b[39m▁\u001b[39m▁\u001b[39m▁\u001b[39m▁\u001b[39m▁\u001b[39m▁\u001b[39m▁\u001b[39m█\u001b[39m▁\u001b[39m▁\u001b[39m▁\u001b[39m█\u001b[39m▁\u001b[39m▁\u001b[39m▁\u001b[39m▁\u001b[39m▁\u001b[39m▁\u001b[39m▁\u001b[39m▁\u001b[39m▁\u001b[39m▁\u001b[39m█\u001b[39m \u001b[39m▁\n",
       "  511 ms\u001b[90m           Histogram: frequency by time\u001b[39m          827 ms \u001b[0m\u001b[1m<\u001b[22m\n",
       "\n",
       " Memory estimate\u001b[90m: \u001b[39m\u001b[33m55.92 MiB\u001b[39m, allocs estimate\u001b[90m: \u001b[39m\u001b[33m1663\u001b[39m."
      ]
     },
     "execution_count": 31,
     "metadata": {},
     "output_type": "execute_result"
    }
   ],
   "source": [
    "@benchmark pmap(x -> scan_distributed(y0, X0, lambda0; nperms = 50, rndseed = x, original = false), seeds_list)"
   ]
  },
  {
   "cell_type": "markdown",
   "id": "0c80c52d-5191-4776-8da5-1c136ab046e3",
   "metadata": {},
   "source": [
    "## Study: distribute over markers"
   ]
  },
  {
   "cell_type": "markdown",
   "id": "cd45a48a-2d99-4a76-bd81-a53f1f656aa8",
   "metadata": {},
   "source": [
    "### Check results:"
   ]
  },
  {
   "cell_type": "code",
   "execution_count": 32,
   "id": "74874ed2-8f8f-48c8-baf1-7ccf853a0001",
   "metadata": {},
   "outputs": [],
   "source": [
    "r0perm = transform3(r0; nperms = 1000, rndseed = 0, original = true);"
   ]
  },
  {
   "cell_type": "code",
   "execution_count": 33,
   "id": "1be41674-fa98-4982-9838-495500bb2c9a",
   "metadata": {},
   "outputs": [
    {
     "data": {
      "text/plain": [
       "(79, 1001)"
      ]
     },
     "execution_count": 33,
     "metadata": {},
     "output_type": "execute_result"
    }
   ],
   "source": [
    "size(r0perm) \n",
    "# 401 permutations of a vector of length 79 (79 measurements), plus the original, for results checking with scan_null"
   ]
  },
  {
   "cell_type": "code",
   "execution_count": 34,
   "id": "2dd81cf3-3c48-4e88-96bd-e9547f2c0305",
   "metadata": {},
   "outputs": [],
   "source": [
    "map_eachMarker_LODs = map(x -> scan_distributed(r0perm, X00, x), 1:7321);\n",
    "map_eachMarker_LODs = reduce(vcat, map_eachMarker_LODs);"
   ]
  },
  {
   "cell_type": "code",
   "execution_count": 35,
   "id": "631c7d1e-b3f9-4393-9df5-402d161ed0ff",
   "metadata": {},
   "outputs": [],
   "source": [
    "pmap_eachMarker_LODs = pmap(x -> scan_distributed(r0perm, X00, x), 1:7321);\n",
    "pmap_eachMarker_LODs = reduce(vcat, pmap_eachMarker_LODs);"
   ]
  },
  {
   "cell_type": "code",
   "execution_count": 36,
   "id": "449e94f5-c300-4a1a-820d-40e250577369",
   "metadata": {},
   "outputs": [],
   "source": [
    "scan_null_original = scan(pheno_y, geno, kinship)[3]; # original trait vector LODs"
   ]
  },
  {
   "cell_type": "code",
   "execution_count": 37,
   "id": "4f499998-9bab-44f2-9295-4f4f41a9285f",
   "metadata": {},
   "outputs": [
    {
     "data": {
      "text/plain": [
       "6×6 Matrix{Float64}:\n",
       " 0.00819636  0.604956  0.0264842  0.00585467  0.477297  0.140293\n",
       " 0.00819636  0.604956  0.0264842  0.00585467  0.477297  0.140293\n",
       " 0.00819636  0.604956  0.0264842  0.00585467  0.477297  0.140293\n",
       " 0.00819636  0.604956  0.0264842  0.00585467  0.477297  0.140293\n",
       " 0.00819636  0.604956  0.0264842  0.00585467  0.477297  0.140293\n",
       " 0.00819636  0.604956  0.0264842  0.00585467  0.477297  0.140293"
      ]
     },
     "execution_count": 37,
     "metadata": {},
     "output_type": "execute_result"
    }
   ],
   "source": [
    "map_eachMarker_LODs[1:6, 1:6]"
   ]
  },
  {
   "cell_type": "code",
   "execution_count": 38,
   "id": "07c937aa-945b-4ca8-8dfa-f08468b62c08",
   "metadata": {},
   "outputs": [
    {
     "data": {
      "text/plain": [
       "6×6 Matrix{Float64}:\n",
       " 0.00819636  0.604956  0.0264842  0.00585467  0.477297  0.140293\n",
       " 0.00819636  0.604956  0.0264842  0.00585467  0.477297  0.140293\n",
       " 0.00819636  0.604956  0.0264842  0.00585467  0.477297  0.140293\n",
       " 0.00819636  0.604956  0.0264842  0.00585467  0.477297  0.140293\n",
       " 0.00819636  0.604956  0.0264842  0.00585467  0.477297  0.140293\n",
       " 0.00819636  0.604956  0.0264842  0.00585467  0.477297  0.140293"
      ]
     },
     "execution_count": 38,
     "metadata": {},
     "output_type": "execute_result"
    }
   ],
   "source": [
    "pmap_eachMarker_LODs[1:6, 1:6]"
   ]
  },
  {
   "cell_type": "code",
   "execution_count": 39,
   "id": "4212c2a7-8856-4dec-a0a0-95d3bfec1b30",
   "metadata": {},
   "outputs": [
    {
     "data": {
      "text/plain": [
       "6-element Vector{Float64}:\n",
       " 0.008196360329322583\n",
       " 0.008196360329322583\n",
       " 0.008196360329322583\n",
       " 0.008196360329322583\n",
       " 0.008196360329322583\n",
       " 0.008196360329322583"
      ]
     },
     "execution_count": 39,
     "metadata": {},
     "output_type": "execute_result"
    }
   ],
   "source": [
    "scan_null_original[1:6]"
   ]
  },
  {
   "cell_type": "code",
   "execution_count": 40,
   "id": "2fddbe9e-c57c-4550-ad90-9e608274f379",
   "metadata": {},
   "outputs": [
    {
     "data": {
      "text/plain": [
       "7.888609052210118e-29"
      ]
     },
     "execution_count": 40,
     "metadata": {},
     "output_type": "execute_result"
    }
   ],
   "source": [
    "maxSqDiff(map_eachMarker_LODs, pmap_eachMarker_LODs)"
   ]
  },
  {
   "cell_type": "code",
   "execution_count": 41,
   "id": "e0521130-09f6-47c8-9f55-a58b506ec780",
   "metadata": {},
   "outputs": [
    {
     "data": {
      "text/plain": [
       "3.077050568427709e-28"
      ]
     },
     "execution_count": 41,
     "metadata": {},
     "output_type": "execute_result"
    }
   ],
   "source": [
    "maxSqDiff(reshape(pmap_eachMarker_LODs[:, 1], :, 1), reshape(scan_null_original, :, 1))"
   ]
  },
  {
   "cell_type": "code",
   "execution_count": 42,
   "id": "c4e4b50b-6ba4-4bab-9210-6feece5eda65",
   "metadata": {},
   "outputs": [],
   "source": [
    "disLoops_LODs = scan_distributed(r0perm, X00);"
   ]
  },
  {
   "cell_type": "code",
   "execution_count": 43,
   "id": "1d54ef5b-e800-4aff-a534-5d001eb4be1b",
   "metadata": {},
   "outputs": [
    {
     "data": {
      "text/plain": [
       "6×6 Matrix{Float64}:\n",
       " 0.00819636  0.604956  0.0264842  0.00585467  0.477297  0.140293\n",
       " 0.00819636  0.604956  0.0264842  0.00585467  0.477297  0.140293\n",
       " 0.00819636  0.604956  0.0264842  0.00585467  0.477297  0.140293\n",
       " 0.00819636  0.604956  0.0264842  0.00585467  0.477297  0.140293\n",
       " 0.00819636  0.604956  0.0264842  0.00585467  0.477297  0.140293\n",
       " 0.00819636  0.604956  0.0264842  0.00585467  0.477297  0.140293"
      ]
     },
     "execution_count": 43,
     "metadata": {},
     "output_type": "execute_result"
    }
   ],
   "source": [
    "disLoops_LODs[1:6, 1:6]"
   ]
  },
  {
   "cell_type": "code",
   "execution_count": 44,
   "id": "5d565857-e1b9-4aec-9643-792794f1c216",
   "metadata": {},
   "outputs": [
    {
     "data": {
      "text/plain": [
       "6×6 Matrix{Float64}:\n",
       " 0.00819636  0.604956  0.0264842  0.00585467  0.477297  0.140293\n",
       " 0.00819636  0.604956  0.0264842  0.00585467  0.477297  0.140293\n",
       " 0.00819636  0.604956  0.0264842  0.00585467  0.477297  0.140293\n",
       " 0.00819636  0.604956  0.0264842  0.00585467  0.477297  0.140293\n",
       " 0.00819636  0.604956  0.0264842  0.00585467  0.477297  0.140293\n",
       " 0.00819636  0.604956  0.0264842  0.00585467  0.477297  0.140293"
      ]
     },
     "execution_count": 44,
     "metadata": {},
     "output_type": "execute_result"
    }
   ],
   "source": [
    "pmap_eachMarker_LODs[1:6, 1:6]"
   ]
  },
  {
   "cell_type": "code",
   "execution_count": 45,
   "id": "7b513651-ba6b-42e7-902a-c6ca5a2f0b64",
   "metadata": {},
   "outputs": [
    {
     "data": {
      "text/plain": [
       "6×6 Matrix{Float64}:\n",
       " 0.00819636  0.604956  0.0264842  0.00585467  0.477297  0.140293\n",
       " 0.00819636  0.604956  0.0264842  0.00585467  0.477297  0.140293\n",
       " 0.00819636  0.604956  0.0264842  0.00585467  0.477297  0.140293\n",
       " 0.00819636  0.604956  0.0264842  0.00585467  0.477297  0.140293\n",
       " 0.00819636  0.604956  0.0264842  0.00585467  0.477297  0.140293\n",
       " 0.00819636  0.604956  0.0264842  0.00585467  0.477297  0.140293"
      ]
     },
     "execution_count": 45,
     "metadata": {},
     "output_type": "execute_result"
    }
   ],
   "source": [
    "permutedims(scan_perms2(pheno_y, geno, kinship; nperms = 400, rndseed = 0, original = true))[1:6, 1:6]"
   ]
  },
  {
   "cell_type": "markdown",
   "id": "b1bd4f30-4ae6-4832-ab0b-37edc7ee3cfc",
   "metadata": {},
   "source": [
    "### Benchmarking:"
   ]
  },
  {
   "cell_type": "code",
   "execution_count": 46,
   "id": "cbe7c522-3f17-48fe-aa46-08a28cc8ce54",
   "metadata": {},
   "outputs": [
    {
     "data": {
      "text/plain": [
       "BenchmarkTools.Trial: 2 samples with 1 evaluation.\n",
       " Range \u001b[90m(\u001b[39m\u001b[36m\u001b[1mmin\u001b[22m\u001b[39m … \u001b[35mmax\u001b[39m\u001b[90m):  \u001b[39m\u001b[36m\u001b[1m2.531 s\u001b[22m\u001b[39m … \u001b[35m  2.546 s\u001b[39m  \u001b[90m┊\u001b[39m GC \u001b[90m(\u001b[39mmin … max\u001b[90m): \u001b[39m3.15% … 3.25%\n",
       " Time  \u001b[90m(\u001b[39m\u001b[34m\u001b[1mmedian\u001b[22m\u001b[39m\u001b[90m):     \u001b[39m\u001b[34m\u001b[1m2.539 s              \u001b[22m\u001b[39m\u001b[90m┊\u001b[39m GC \u001b[90m(\u001b[39mmedian\u001b[90m):    \u001b[39m3.20%\n",
       " Time  \u001b[90m(\u001b[39m\u001b[32m\u001b[1mmean\u001b[22m\u001b[39m ± \u001b[32mσ\u001b[39m\u001b[90m):   \u001b[39m\u001b[32m\u001b[1m2.539 s\u001b[22m\u001b[39m ± \u001b[32m10.578 ms\u001b[39m  \u001b[90m┊\u001b[39m GC \u001b[90m(\u001b[39mmean ± σ\u001b[90m):  \u001b[39m3.20% ± 0.07%\n",
       "\n",
       "  \u001b[34m█\u001b[39m\u001b[39m \u001b[39m \u001b[39m \u001b[39m \u001b[39m \u001b[39m \u001b[39m \u001b[39m \u001b[39m \u001b[39m \u001b[39m \u001b[39m \u001b[39m \u001b[39m \u001b[39m \u001b[39m \u001b[39m \u001b[39m \u001b[39m \u001b[39m \u001b[39m \u001b[39m \u001b[39m \u001b[39m \u001b[39m \u001b[39m \u001b[39m \u001b[32m \u001b[39m\u001b[39m \u001b[39m \u001b[39m \u001b[39m \u001b[39m \u001b[39m \u001b[39m \u001b[39m \u001b[39m \u001b[39m \u001b[39m \u001b[39m \u001b[39m \u001b[39m \u001b[39m \u001b[39m \u001b[39m \u001b[39m \u001b[39m \u001b[39m \u001b[39m \u001b[39m \u001b[39m \u001b[39m \u001b[39m \u001b[39m \u001b[39m \u001b[39m█\u001b[39m \u001b[39m \n",
       "  \u001b[34m█\u001b[39m\u001b[39m▁\u001b[39m▁\u001b[39m▁\u001b[39m▁\u001b[39m▁\u001b[39m▁\u001b[39m▁\u001b[39m▁\u001b[39m▁\u001b[39m▁\u001b[39m▁\u001b[39m▁\u001b[39m▁\u001b[39m▁\u001b[39m▁\u001b[39m▁\u001b[39m▁\u001b[39m▁\u001b[39m▁\u001b[39m▁\u001b[39m▁\u001b[39m▁\u001b[39m▁\u001b[39m▁\u001b[39m▁\u001b[39m▁\u001b[39m▁\u001b[32m▁\u001b[39m\u001b[39m▁\u001b[39m▁\u001b[39m▁\u001b[39m▁\u001b[39m▁\u001b[39m▁\u001b[39m▁\u001b[39m▁\u001b[39m▁\u001b[39m▁\u001b[39m▁\u001b[39m▁\u001b[39m▁\u001b[39m▁\u001b[39m▁\u001b[39m▁\u001b[39m▁\u001b[39m▁\u001b[39m▁\u001b[39m▁\u001b[39m▁\u001b[39m▁\u001b[39m▁\u001b[39m▁\u001b[39m▁\u001b[39m▁\u001b[39m▁\u001b[39m█\u001b[39m \u001b[39m▁\n",
       "  2.53 s\u001b[90m         Histogram: frequency by time\u001b[39m        2.55 s \u001b[0m\u001b[1m<\u001b[22m\n",
       "\n",
       " Memory estimate\u001b[90m: \u001b[39m\u001b[33m13.29 GiB\u001b[39m, allocs estimate\u001b[90m: \u001b[39m\u001b[33m109817\u001b[39m."
      ]
     },
     "execution_count": 46,
     "metadata": {},
     "output_type": "execute_result"
    }
   ],
   "source": [
    "@benchmark map(x -> scan_distributed(r0perm, X00, x), 1:7321)"
   ]
  },
  {
   "cell_type": "code",
   "execution_count": 47,
   "id": "ee5be303-4a98-4f0e-b10e-a15946144563",
   "metadata": {},
   "outputs": [
    {
     "data": {
      "text/plain": [
       "BenchmarkTools.Trial: 1 sample with 1 evaluation.\n",
       " Single result which took \u001b[34m9.476 s\u001b[39m (0.00% GC) to evaluate,\n",
       " with a memory estimate of \u001b[33m77.23 MiB\u001b[39m, over \u001b[33m485338\u001b[39m allocations."
      ]
     },
     "execution_count": 47,
     "metadata": {},
     "output_type": "execute_result"
    }
   ],
   "source": [
    "@benchmark pmap(x -> scan_distributed(r0perm, X00, x), 1:7321)"
   ]
  },
  {
   "cell_type": "code",
   "execution_count": 48,
   "id": "a89233e9-df2c-4d6d-8b0e-d0faebe0310c",
   "metadata": {},
   "outputs": [
    {
     "data": {
      "text/plain": [
       "BenchmarkTools.Trial: 3 samples with 1 evaluation.\n",
       " Range \u001b[90m(\u001b[39m\u001b[36m\u001b[1mmin\u001b[22m\u001b[39m … \u001b[35mmax\u001b[39m\u001b[90m):  \u001b[39m\u001b[36m\u001b[1m1.760 s\u001b[22m\u001b[39m … \u001b[35m  1.937 s\u001b[39m  \u001b[90m┊\u001b[39m GC \u001b[90m(\u001b[39mmin … max\u001b[90m): \u001b[39m0.33% … 0.00%\n",
       " Time  \u001b[90m(\u001b[39m\u001b[34m\u001b[1mmedian\u001b[22m\u001b[39m\u001b[90m):     \u001b[39m\u001b[34m\u001b[1m1.824 s              \u001b[22m\u001b[39m\u001b[90m┊\u001b[39m GC \u001b[90m(\u001b[39mmedian\u001b[90m):    \u001b[39m0.30%\n",
       " Time  \u001b[90m(\u001b[39m\u001b[32m\u001b[1mmean\u001b[22m\u001b[39m ± \u001b[32mσ\u001b[39m\u001b[90m):   \u001b[39m\u001b[32m\u001b[1m1.840 s\u001b[22m\u001b[39m ± \u001b[32m89.220 ms\u001b[39m  \u001b[90m┊\u001b[39m GC \u001b[90m(\u001b[39mmean ± σ\u001b[90m):  \u001b[39m0.21% ± 0.18%\n",
       "\n",
       "  \u001b[34m█\u001b[39m\u001b[39m \u001b[39m \u001b[39m \u001b[39m \u001b[39m \u001b[39m \u001b[39m \u001b[39m \u001b[39m \u001b[39m \u001b[39m \u001b[39m \u001b[39m \u001b[39m \u001b[39m \u001b[39m \u001b[39m \u001b[39m \u001b[39m \u001b[39m█\u001b[39m \u001b[39m \u001b[39m \u001b[39m \u001b[39m \u001b[32m \u001b[39m\u001b[39m \u001b[39m \u001b[39m \u001b[39m \u001b[39m \u001b[39m \u001b[39m \u001b[39m \u001b[39m \u001b[39m \u001b[39m \u001b[39m \u001b[39m \u001b[39m \u001b[39m \u001b[39m \u001b[39m \u001b[39m \u001b[39m \u001b[39m \u001b[39m \u001b[39m \u001b[39m \u001b[39m \u001b[39m \u001b[39m \u001b[39m \u001b[39m \u001b[39m \u001b[39m█\u001b[39m \u001b[39m \n",
       "  \u001b[34m█\u001b[39m\u001b[39m▁\u001b[39m▁\u001b[39m▁\u001b[39m▁\u001b[39m▁\u001b[39m▁\u001b[39m▁\u001b[39m▁\u001b[39m▁\u001b[39m▁\u001b[39m▁\u001b[39m▁\u001b[39m▁\u001b[39m▁\u001b[39m▁\u001b[39m▁\u001b[39m▁\u001b[39m▁\u001b[39m▁\u001b[39m█\u001b[39m▁\u001b[39m▁\u001b[39m▁\u001b[39m▁\u001b[39m▁\u001b[32m▁\u001b[39m\u001b[39m▁\u001b[39m▁\u001b[39m▁\u001b[39m▁\u001b[39m▁\u001b[39m▁\u001b[39m▁\u001b[39m▁\u001b[39m▁\u001b[39m▁\u001b[39m▁\u001b[39m▁\u001b[39m▁\u001b[39m▁\u001b[39m▁\u001b[39m▁\u001b[39m▁\u001b[39m▁\u001b[39m▁\u001b[39m▁\u001b[39m▁\u001b[39m▁\u001b[39m▁\u001b[39m▁\u001b[39m▁\u001b[39m▁\u001b[39m▁\u001b[39m▁\u001b[39m▁\u001b[39m█\u001b[39m \u001b[39m▁\n",
       "  1.76 s\u001b[90m         Histogram: frequency by time\u001b[39m        1.94 s \u001b[0m\u001b[1m<\u001b[22m\n",
       "\n",
       " Memory estimate\u001b[90m: \u001b[39m\u001b[33m412.41 MiB\u001b[39m, allocs estimate\u001b[90m: \u001b[39m\u001b[33m1212\u001b[39m."
      ]
     },
     "execution_count": 48,
     "metadata": {},
     "output_type": "execute_result"
    }
   ],
   "source": [
    "@benchmark scan_distributed(r0perm, X00) # using distributed loops for each marker"
   ]
  },
  {
   "cell_type": "code",
   "execution_count": 49,
   "id": "fb3a393d-e12c-40b9-9bbf-2826bc50ba55",
   "metadata": {},
   "outputs": [
    {
     "data": {
      "text/plain": [
       "BenchmarkTools.Trial: 2 samples with 1 evaluation.\n",
       " Range \u001b[90m(\u001b[39m\u001b[36m\u001b[1mmin\u001b[22m\u001b[39m … \u001b[35mmax\u001b[39m\u001b[90m):  \u001b[39m\u001b[36m\u001b[1m2.502 s\u001b[22m\u001b[39m … \u001b[35m  2.565 s\u001b[39m  \u001b[90m┊\u001b[39m GC \u001b[90m(\u001b[39mmin … max\u001b[90m): \u001b[39m2.79% … 3.68%\n",
       " Time  \u001b[90m(\u001b[39m\u001b[34m\u001b[1mmedian\u001b[22m\u001b[39m\u001b[90m):     \u001b[39m\u001b[34m\u001b[1m2.534 s              \u001b[22m\u001b[39m\u001b[90m┊\u001b[39m GC \u001b[90m(\u001b[39mmedian\u001b[90m):    \u001b[39m3.24%\n",
       " Time  \u001b[90m(\u001b[39m\u001b[32m\u001b[1mmean\u001b[22m\u001b[39m ± \u001b[32mσ\u001b[39m\u001b[90m):   \u001b[39m\u001b[32m\u001b[1m2.534 s\u001b[22m\u001b[39m ± \u001b[32m44.585 ms\u001b[39m  \u001b[90m┊\u001b[39m GC \u001b[90m(\u001b[39mmean ± σ\u001b[90m):  \u001b[39m3.24% ± 0.63%\n",
       "\n",
       "  \u001b[34m█\u001b[39m\u001b[39m \u001b[39m \u001b[39m \u001b[39m \u001b[39m \u001b[39m \u001b[39m \u001b[39m \u001b[39m \u001b[39m \u001b[39m \u001b[39m \u001b[39m \u001b[39m \u001b[39m \u001b[39m \u001b[39m \u001b[39m \u001b[39m \u001b[39m \u001b[39m \u001b[39m \u001b[39m \u001b[39m \u001b[39m \u001b[39m \u001b[39m \u001b[39m \u001b[32m \u001b[39m\u001b[39m \u001b[39m \u001b[39m \u001b[39m \u001b[39m \u001b[39m \u001b[39m \u001b[39m \u001b[39m \u001b[39m \u001b[39m \u001b[39m \u001b[39m \u001b[39m \u001b[39m \u001b[39m \u001b[39m \u001b[39m \u001b[39m \u001b[39m \u001b[39m \u001b[39m \u001b[39m \u001b[39m \u001b[39m \u001b[39m \u001b[39m█\u001b[39m \u001b[39m \n",
       "  \u001b[34m█\u001b[39m\u001b[39m▁\u001b[39m▁\u001b[39m▁\u001b[39m▁\u001b[39m▁\u001b[39m▁\u001b[39m▁\u001b[39m▁\u001b[39m▁\u001b[39m▁\u001b[39m▁\u001b[39m▁\u001b[39m▁\u001b[39m▁\u001b[39m▁\u001b[39m▁\u001b[39m▁\u001b[39m▁\u001b[39m▁\u001b[39m▁\u001b[39m▁\u001b[39m▁\u001b[39m▁\u001b[39m▁\u001b[39m▁\u001b[39m▁\u001b[39m▁\u001b[39m▁\u001b[32m▁\u001b[39m\u001b[39m▁\u001b[39m▁\u001b[39m▁\u001b[39m▁\u001b[39m▁\u001b[39m▁\u001b[39m▁\u001b[39m▁\u001b[39m▁\u001b[39m▁\u001b[39m▁\u001b[39m▁\u001b[39m▁\u001b[39m▁\u001b[39m▁\u001b[39m▁\u001b[39m▁\u001b[39m▁\u001b[39m▁\u001b[39m▁\u001b[39m▁\u001b[39m▁\u001b[39m▁\u001b[39m▁\u001b[39m▁\u001b[39m▁\u001b[39m█\u001b[39m \u001b[39m▁\n",
       "  2.5 s\u001b[90m          Histogram: frequency by time\u001b[39m        2.57 s \u001b[0m\u001b[1m<\u001b[22m\n",
       "\n",
       " Memory estimate\u001b[90m: \u001b[39m\u001b[33m13.30 GiB\u001b[39m, allocs estimate\u001b[90m: \u001b[39m\u001b[33m74635\u001b[39m."
      ]
     },
     "execution_count": 49,
     "metadata": {},
     "output_type": "execute_result"
    }
   ],
   "source": [
    " # using ordinary loops for each marker\n",
    "@benchmark scan_perms2(pheno_y, geno, kinship; nperms = 1000, original = true, rndseed = 0)"
   ]
  },
  {
   "cell_type": "code",
   "execution_count": 50,
   "id": "9313a38e-12fa-456e-864c-8cf595746278",
   "metadata": {},
   "outputs": [
    {
     "data": {
      "text/plain": [
       "UnitRange{Int64}"
      ]
     },
     "execution_count": 50,
     "metadata": {},
     "output_type": "execute_result"
    }
   ],
   "source": [
    "range = 1:6;\n",
    "typeof(range)"
   ]
  },
  {
   "cell_type": "markdown",
   "id": "762463e6-8c38-4b32-a69c-eb0174a0ba23",
   "metadata": {},
   "source": [
    "## Study: distribute over blocks of markers"
   ]
  },
  {
   "cell_type": "markdown",
   "id": "4787b6d4-ad80-440c-ba14-f46ef03687b9",
   "metadata": {},
   "source": [
    "### Check results:"
   ]
  },
  {
   "cell_type": "code",
   "execution_count": 51,
   "id": "0ee91846-4c02-476d-a9ee-daa4811c70e3",
   "metadata": {},
   "outputs": [],
   "source": [
    "r0perm = transform3(r0; nperms = 1000, rndseed = 0, original = true);"
   ]
  },
  {
   "cell_type": "code",
   "execution_count": 52,
   "id": "a5320b53-8296-467b-8501-34e114426d42",
   "metadata": {},
   "outputs": [
    {
     "data": {
      "text/plain": [
       "6×6 Matrix{Float64}:\n",
       " 0.00819636  0.604956  0.0264842  0.00585467  0.477297  0.140293\n",
       " 0.00819636  0.604956  0.0264842  0.00585467  0.477297  0.140293\n",
       " 0.00819636  0.604956  0.0264842  0.00585467  0.477297  0.140293\n",
       " 0.00819636  0.604956  0.0264842  0.00585467  0.477297  0.140293\n",
       " 0.00819636  0.604956  0.0264842  0.00585467  0.477297  0.140293\n",
       " 0.00819636  0.604956  0.0264842  0.00585467  0.477297  0.140293"
      ]
     },
     "execution_count": 52,
     "metadata": {},
     "output_type": "execute_result"
    }
   ],
   "source": [
    "permutedims(scan_distributed_block(r0perm, X00, 1:6))[1:6, 1:6]"
   ]
  },
  {
   "cell_type": "code",
   "execution_count": 53,
   "id": "3e21a30c-022f-4ffc-9374-ae704733f1b0",
   "metadata": {},
   "outputs": [
    {
     "data": {
      "text/plain": [
       "6×6 Matrix{Float64}:\n",
       " 0.00819636  0.604956  0.0264842  0.00585467  0.477297  0.140293\n",
       " 0.00819636  0.604956  0.0264842  0.00585467  0.477297  0.140293\n",
       " 0.00819636  0.604956  0.0264842  0.00585467  0.477297  0.140293\n",
       " 0.00819636  0.604956  0.0264842  0.00585467  0.477297  0.140293\n",
       " 0.00819636  0.604956  0.0264842  0.00585467  0.477297  0.140293\n",
       " 0.00819636  0.604956  0.0264842  0.00585467  0.477297  0.140293"
      ]
     },
     "execution_count": 53,
     "metadata": {},
     "output_type": "execute_result"
    }
   ],
   "source": [
    "pmap_eachMarker_LODs[1:6, 1:6]"
   ]
  },
  {
   "cell_type": "code",
   "execution_count": 54,
   "id": "9d2505af-c668-41e0-9022-9ae7e550ffd5",
   "metadata": {},
   "outputs": [
    {
     "data": {
      "text/plain": [
       "partition_array_indices (generic function with 1 method)"
      ]
     },
     "execution_count": 54,
     "metadata": {},
     "output_type": "execute_result"
    }
   ],
   "source": [
    "## https://stackoverflow.com/questions/26953340/partition-equivalent-in-julia\n",
    "\n",
    "function partition_array_indices(nb_data::Int, nb_data_per_chunk::Int)\n",
    "    nb_chunks = ceil(Int, nb_data / nb_data_per_chunk)\n",
    "    ids = UnitRange{Int}[]\n",
    "    for which_chunk = 1:nb_chunks\n",
    "        id_start::Int = 1 + nb_data_per_chunk * (which_chunk - 1)\n",
    "        id_end::Int = id_start - 1 + nb_data_per_chunk\n",
    "        if id_end > nb_data\n",
    "            id_end = nb_data\n",
    "        end\n",
    "        push!(ids, id_start:id_end)\n",
    "    end\n",
    "    return ids\n",
    "end"
   ]
  },
  {
   "cell_type": "code",
   "execution_count": 55,
   "id": "a4760034-68c1-475e-962d-38a898832858",
   "metadata": {},
   "outputs": [
    {
     "data": {
      "text/plain": [
       "8-element Vector{UnitRange{Int64}}:\n",
       " 1:1000\n",
       " 1001:2000\n",
       " 2001:3000\n",
       " 3001:4000\n",
       " 4001:5000\n",
       " 5001:6000\n",
       " 6001:7000\n",
       " 7001:7321"
      ]
     },
     "execution_count": 55,
     "metadata": {},
     "output_type": "execute_result"
    }
   ],
   "source": [
    "blocks_partitions = partition_array_indices(p, 1000)"
   ]
  },
  {
   "cell_type": "code",
   "execution_count": 56,
   "id": "a83cc9ce-9e02-4635-9462-bf4e94edc1b4",
   "metadata": {},
   "outputs": [],
   "source": [
    "map_blocks_LODs = map(x -> scan_distributed_block(r0perm, X00, x), blocks_partitions);\n",
    "map_blocks_LODs = permutedims(reduce(hcat, map_blocks_LODs));"
   ]
  },
  {
   "cell_type": "code",
   "execution_count": 57,
   "id": "5784aa69-7b3a-493b-b09f-88d67274419f",
   "metadata": {},
   "outputs": [
    {
     "data": {
      "text/plain": [
       "6×6 Matrix{Float64}:\n",
       " 0.00819636  0.604956  0.0264842  0.00585467  0.477297  0.140293\n",
       " 0.00819636  0.604956  0.0264842  0.00585467  0.477297  0.140293\n",
       " 0.00819636  0.604956  0.0264842  0.00585467  0.477297  0.140293\n",
       " 0.00819636  0.604956  0.0264842  0.00585467  0.477297  0.140293\n",
       " 0.00819636  0.604956  0.0264842  0.00585467  0.477297  0.140293\n",
       " 0.00819636  0.604956  0.0264842  0.00585467  0.477297  0.140293"
      ]
     },
     "execution_count": 57,
     "metadata": {},
     "output_type": "execute_result"
    }
   ],
   "source": [
    "map_blocks_LODs[1:6, 1:6]"
   ]
  },
  {
   "cell_type": "code",
   "execution_count": 58,
   "id": "75372147-56fd-4dfe-a9be-3fcf6ff896f2",
   "metadata": {},
   "outputs": [],
   "source": [
    "pmap_blocks_LODs = pmap(x -> scan_distributed_block(r0perm, X00, x), blocks_partitions);\n",
    "pmap_blocks_LODs = permutedims(reduce(hcat, pmap_blocks_LODs));"
   ]
  },
  {
   "cell_type": "code",
   "execution_count": 59,
   "id": "be8c641e-5fb9-4fa9-b45a-8e7adb68b053",
   "metadata": {},
   "outputs": [
    {
     "data": {
      "text/plain": [
       "6×6 Matrix{Float64}:\n",
       " 0.00819636  0.604956  0.0264842  0.00585467  0.477297  0.140293\n",
       " 0.00819636  0.604956  0.0264842  0.00585467  0.477297  0.140293\n",
       " 0.00819636  0.604956  0.0264842  0.00585467  0.477297  0.140293\n",
       " 0.00819636  0.604956  0.0264842  0.00585467  0.477297  0.140293\n",
       " 0.00819636  0.604956  0.0264842  0.00585467  0.477297  0.140293\n",
       " 0.00819636  0.604956  0.0264842  0.00585467  0.477297  0.140293"
      ]
     },
     "execution_count": 59,
     "metadata": {},
     "output_type": "execute_result"
    }
   ],
   "source": [
    "pmap_blocks_LODs[1:6, 1:6]"
   ]
  },
  {
   "cell_type": "code",
   "execution_count": 60,
   "id": "afbd61de-2fb4-49c2-9886-cfde83f17d26",
   "metadata": {},
   "outputs": [],
   "source": [
    "normal_LODs = scan_perms2(pheno_y, geno, kinship; nperms = 1000, rndseed = 0, original = true);\n",
    "normal_LODs = permutedims(normal_LODs);"
   ]
  },
  {
   "cell_type": "code",
   "execution_count": 61,
   "id": "0854c9c5-4218-4a71-a351-7a6d2b46fd7c",
   "metadata": {},
   "outputs": [
    {
     "data": {
      "text/plain": [
       "6×6 Matrix{Float64}:\n",
       " 0.00819636  0.604956  0.0264842  0.00585467  0.477297  0.140293\n",
       " 0.00819636  0.604956  0.0264842  0.00585467  0.477297  0.140293\n",
       " 0.00819636  0.604956  0.0264842  0.00585467  0.477297  0.140293\n",
       " 0.00819636  0.604956  0.0264842  0.00585467  0.477297  0.140293\n",
       " 0.00819636  0.604956  0.0264842  0.00585467  0.477297  0.140293\n",
       " 0.00819636  0.604956  0.0264842  0.00585467  0.477297  0.140293"
      ]
     },
     "execution_count": 61,
     "metadata": {},
     "output_type": "execute_result"
    }
   ],
   "source": [
    "normal_LODs[1:6, 1:6]"
   ]
  },
  {
   "cell_type": "code",
   "execution_count": 62,
   "id": "bdad4276-09f6-4fb6-8655-a9e20a3f62a4",
   "metadata": {},
   "outputs": [
    {
     "data": {
      "text/plain": [
       "7.888609052210118e-29"
      ]
     },
     "execution_count": 62,
     "metadata": {},
     "output_type": "execute_result"
    }
   ],
   "source": [
    "maxSqDiff(pmap_blocks_LODs, normal_LODs)"
   ]
  },
  {
   "cell_type": "markdown",
   "id": "6ae02731-ba9c-4fc7-acf8-0735d4a79ef9",
   "metadata": {},
   "source": [
    "### Benchmarking:"
   ]
  },
  {
   "cell_type": "code",
   "execution_count": 63,
   "id": "e3eca0d8-4744-4612-8981-f45658bdef8e",
   "metadata": {},
   "outputs": [
    {
     "data": {
      "text/plain": [
       "8-element Vector{UnitRange{Int64}}:\n",
       " 1:1000\n",
       " 1001:2000\n",
       " 2001:3000\n",
       " 3001:4000\n",
       " 4001:5000\n",
       " 5001:6000\n",
       " 6001:7000\n",
       " 7001:7321"
      ]
     },
     "execution_count": 63,
     "metadata": {},
     "output_type": "execute_result"
    }
   ],
   "source": [
    "blocks_partitions"
   ]
  },
  {
   "cell_type": "code",
   "execution_count": 64,
   "id": "8cbcf7d5-dca0-45fa-96d1-2b40f32114a8",
   "metadata": {},
   "outputs": [
    {
     "data": {
      "text/plain": [
       "BenchmarkTools.Trial: 2 samples with 1 evaluation.\n",
       " Range \u001b[90m(\u001b[39m\u001b[36m\u001b[1mmin\u001b[22m\u001b[39m … \u001b[35mmax\u001b[39m\u001b[90m):  \u001b[39m\u001b[36m\u001b[1m2.548 s\u001b[22m\u001b[39m … \u001b[35m  2.669 s\u001b[39m  \u001b[90m┊\u001b[39m GC \u001b[90m(\u001b[39mmin … max\u001b[90m): \u001b[39m2.68% … 3.01%\n",
       " Time  \u001b[90m(\u001b[39m\u001b[34m\u001b[1mmedian\u001b[22m\u001b[39m\u001b[90m):     \u001b[39m\u001b[34m\u001b[1m2.608 s              \u001b[22m\u001b[39m\u001b[90m┊\u001b[39m GC \u001b[90m(\u001b[39mmedian\u001b[90m):    \u001b[39m2.85%\n",
       " Time  \u001b[90m(\u001b[39m\u001b[32m\u001b[1mmean\u001b[22m\u001b[39m ± \u001b[32mσ\u001b[39m\u001b[90m):   \u001b[39m\u001b[32m\u001b[1m2.608 s\u001b[22m\u001b[39m ± \u001b[32m85.991 ms\u001b[39m  \u001b[90m┊\u001b[39m GC \u001b[90m(\u001b[39mmean ± σ\u001b[90m):  \u001b[39m2.85% ± 0.23%\n",
       "\n",
       "  \u001b[34m█\u001b[39m\u001b[39m \u001b[39m \u001b[39m \u001b[39m \u001b[39m \u001b[39m \u001b[39m \u001b[39m \u001b[39m \u001b[39m \u001b[39m \u001b[39m \u001b[39m \u001b[39m \u001b[39m \u001b[39m \u001b[39m \u001b[39m \u001b[39m \u001b[39m \u001b[39m \u001b[39m \u001b[39m \u001b[39m \u001b[39m \u001b[39m \u001b[39m \u001b[32m \u001b[39m\u001b[39m \u001b[39m \u001b[39m \u001b[39m \u001b[39m \u001b[39m \u001b[39m \u001b[39m \u001b[39m \u001b[39m \u001b[39m \u001b[39m \u001b[39m \u001b[39m \u001b[39m \u001b[39m \u001b[39m \u001b[39m \u001b[39m \u001b[39m \u001b[39m \u001b[39m \u001b[39m \u001b[39m \u001b[39m \u001b[39m \u001b[39m \u001b[39m█\u001b[39m \u001b[39m \n",
       "  \u001b[34m█\u001b[39m\u001b[39m▁\u001b[39m▁\u001b[39m▁\u001b[39m▁\u001b[39m▁\u001b[39m▁\u001b[39m▁\u001b[39m▁\u001b[39m▁\u001b[39m▁\u001b[39m▁\u001b[39m▁\u001b[39m▁\u001b[39m▁\u001b[39m▁\u001b[39m▁\u001b[39m▁\u001b[39m▁\u001b[39m▁\u001b[39m▁\u001b[39m▁\u001b[39m▁\u001b[39m▁\u001b[39m▁\u001b[39m▁\u001b[39m▁\u001b[39m▁\u001b[32m▁\u001b[39m\u001b[39m▁\u001b[39m▁\u001b[39m▁\u001b[39m▁\u001b[39m▁\u001b[39m▁\u001b[39m▁\u001b[39m▁\u001b[39m▁\u001b[39m▁\u001b[39m▁\u001b[39m▁\u001b[39m▁\u001b[39m▁\u001b[39m▁\u001b[39m▁\u001b[39m▁\u001b[39m▁\u001b[39m▁\u001b[39m▁\u001b[39m▁\u001b[39m▁\u001b[39m▁\u001b[39m▁\u001b[39m▁\u001b[39m▁\u001b[39m▁\u001b[39m█\u001b[39m \u001b[39m▁\n",
       "  2.55 s\u001b[90m         Histogram: frequency by time\u001b[39m        2.67 s \u001b[0m\u001b[1m<\u001b[22m\n",
       "\n",
       " Memory estimate\u001b[90m: \u001b[39m\u001b[33m13.27 GiB\u001b[39m, allocs estimate\u001b[90m: \u001b[39m\u001b[33m73284\u001b[39m."
      ]
     },
     "execution_count": 64,
     "metadata": {},
     "output_type": "execute_result"
    }
   ],
   "source": [
    "@benchmark map(x -> scan_distributed_block(r0perm, X00, x), blocks_partitions)"
   ]
  },
  {
   "cell_type": "code",
   "execution_count": 65,
   "id": "dd2f7dee-e958-4ce7-84d2-aad3d07e8af7",
   "metadata": {},
   "outputs": [
    {
     "data": {
      "text/plain": [
       "BenchmarkTools.Trial: 8 samples with 1 evaluation.\n",
       " Range \u001b[90m(\u001b[39m\u001b[36m\u001b[1mmin\u001b[22m\u001b[39m … \u001b[35mmax\u001b[39m\u001b[90m):  \u001b[39m\u001b[36m\u001b[1m462.300 ms\u001b[22m\u001b[39m … \u001b[35m766.310 ms\u001b[39m  \u001b[90m┊\u001b[39m GC \u001b[90m(\u001b[39mmin … max\u001b[90m): \u001b[39m0.00% … 0.00%\n",
       " Time  \u001b[90m(\u001b[39m\u001b[34m\u001b[1mmedian\u001b[22m\u001b[39m\u001b[90m):     \u001b[39m\u001b[34m\u001b[1m712.439 ms               \u001b[22m\u001b[39m\u001b[90m┊\u001b[39m GC \u001b[90m(\u001b[39mmedian\u001b[90m):    \u001b[39m0.00%\n",
       " Time  \u001b[90m(\u001b[39m\u001b[32m\u001b[1mmean\u001b[22m\u001b[39m ± \u001b[32mσ\u001b[39m\u001b[90m):   \u001b[39m\u001b[32m\u001b[1m689.057 ms\u001b[22m\u001b[39m ± \u001b[32m 95.815 ms\u001b[39m  \u001b[90m┊\u001b[39m GC \u001b[90m(\u001b[39mmean ± σ\u001b[90m):  \u001b[39m0.00% ± 0.00%\n",
       "\n",
       "  \u001b[39m█\u001b[39m \u001b[39m \u001b[39m \u001b[39m \u001b[39m \u001b[39m \u001b[39m \u001b[39m \u001b[39m \u001b[39m \u001b[39m \u001b[39m \u001b[39m \u001b[39m \u001b[39m \u001b[39m \u001b[39m \u001b[39m \u001b[39m \u001b[39m \u001b[39m \u001b[39m \u001b[39m \u001b[39m \u001b[39m \u001b[39m \u001b[39m \u001b[39m \u001b[39m \u001b[39m \u001b[39m \u001b[39m \u001b[39m \u001b[39m \u001b[39m \u001b[39m \u001b[39m \u001b[39m \u001b[39m \u001b[39m \u001b[39m \u001b[39m \u001b[39m \u001b[39m█\u001b[32m \u001b[39m\u001b[39m \u001b[39m█\u001b[39m \u001b[39m█\u001b[34m█\u001b[39m\u001b[39m█\u001b[39m \u001b[39m \u001b[39m \u001b[39m \u001b[39m \u001b[39m \u001b[39m \u001b[39m█\u001b[39m█\u001b[39m \u001b[39m \n",
       "  \u001b[39m█\u001b[39m▁\u001b[39m▁\u001b[39m▁\u001b[39m▁\u001b[39m▁\u001b[39m▁\u001b[39m▁\u001b[39m▁\u001b[39m▁\u001b[39m▁\u001b[39m▁\u001b[39m▁\u001b[39m▁\u001b[39m▁\u001b[39m▁\u001b[39m▁\u001b[39m▁\u001b[39m▁\u001b[39m▁\u001b[39m▁\u001b[39m▁\u001b[39m▁\u001b[39m▁\u001b[39m▁\u001b[39m▁\u001b[39m▁\u001b[39m▁\u001b[39m▁\u001b[39m▁\u001b[39m▁\u001b[39m▁\u001b[39m▁\u001b[39m▁\u001b[39m▁\u001b[39m▁\u001b[39m▁\u001b[39m▁\u001b[39m▁\u001b[39m▁\u001b[39m▁\u001b[39m▁\u001b[39m▁\u001b[39m▁\u001b[39m█\u001b[32m▁\u001b[39m\u001b[39m▁\u001b[39m█\u001b[39m▁\u001b[39m█\u001b[34m█\u001b[39m\u001b[39m█\u001b[39m▁\u001b[39m▁\u001b[39m▁\u001b[39m▁\u001b[39m▁\u001b[39m▁\u001b[39m▁\u001b[39m█\u001b[39m█\u001b[39m \u001b[39m▁\n",
       "  462 ms\u001b[90m           Histogram: frequency by time\u001b[39m          766 ms \u001b[0m\u001b[1m<\u001b[22m\n",
       "\n",
       " Memory estimate\u001b[90m: \u001b[39m\u001b[33m55.95 MiB\u001b[39m, allocs estimate\u001b[90m: \u001b[39m\u001b[33m1044\u001b[39m."
      ]
     },
     "execution_count": 65,
     "metadata": {},
     "output_type": "execute_result"
    }
   ],
   "source": [
    "@benchmark pmap(x -> scan_distributed_block(r0perm, X00, x), blocks_partitions)"
   ]
  },
  {
   "cell_type": "code",
   "execution_count": 66,
   "id": "a0cf632e-36bf-462a-8a3c-2a9ac70aaac7",
   "metadata": {},
   "outputs": [
    {
     "data": {
      "text/plain": [
       "BenchmarkTools.Trial: 8 samples with 1 evaluation.\n",
       " Range \u001b[90m(\u001b[39m\u001b[36m\u001b[1mmin\u001b[22m\u001b[39m … \u001b[35mmax\u001b[39m\u001b[90m):  \u001b[39m\u001b[36m\u001b[1m479.486 ms\u001b[22m\u001b[39m … \u001b[35m774.949 ms\u001b[39m  \u001b[90m┊\u001b[39m GC \u001b[90m(\u001b[39mmin … max\u001b[90m): \u001b[39m0.00% … 0.49%\n",
       " Time  \u001b[90m(\u001b[39m\u001b[34m\u001b[1mmedian\u001b[22m\u001b[39m\u001b[90m):     \u001b[39m\u001b[34m\u001b[1m740.915 ms               \u001b[22m\u001b[39m\u001b[90m┊\u001b[39m GC \u001b[90m(\u001b[39mmedian\u001b[90m):    \u001b[39m0.00%\n",
       " Time  \u001b[90m(\u001b[39m\u001b[32m\u001b[1mmean\u001b[22m\u001b[39m ± \u001b[32mσ\u001b[39m\u001b[90m):   \u001b[39m\u001b[32m\u001b[1m662.214 ms\u001b[22m\u001b[39m ± \u001b[32m130.563 ms\u001b[39m  \u001b[90m┊\u001b[39m GC \u001b[90m(\u001b[39mmean ± σ\u001b[90m):  \u001b[39m0.07% ± 0.17%\n",
       "\n",
       "  \u001b[39m▁\u001b[39m \u001b[39m \u001b[39m \u001b[39m \u001b[39m \u001b[39m▁\u001b[39m \u001b[39m \u001b[39m▁\u001b[39m \u001b[39m \u001b[39m \u001b[39m \u001b[39m \u001b[39m \u001b[39m \u001b[39m \u001b[39m \u001b[39m \u001b[39m \u001b[39m \u001b[39m \u001b[39m \u001b[39m \u001b[39m \u001b[39m \u001b[39m \u001b[39m \u001b[39m \u001b[39m \u001b[39m \u001b[39m \u001b[39m \u001b[39m \u001b[39m \u001b[39m \u001b[39m \u001b[32m \u001b[39m\u001b[39m \u001b[39m \u001b[39m \u001b[39m \u001b[39m \u001b[39m \u001b[39m \u001b[39m \u001b[39m \u001b[39m \u001b[39m \u001b[39m \u001b[39m \u001b[39m \u001b[39m▁\u001b[34m▁\u001b[39m\u001b[39m \u001b[39m▁\u001b[39m \u001b[39m \u001b[39m \u001b[39m█\u001b[39m \u001b[39m \n",
       "  \u001b[39m█\u001b[39m▁\u001b[39m▁\u001b[39m▁\u001b[39m▁\u001b[39m▁\u001b[39m█\u001b[39m▁\u001b[39m▁\u001b[39m█\u001b[39m▁\u001b[39m▁\u001b[39m▁\u001b[39m▁\u001b[39m▁\u001b[39m▁\u001b[39m▁\u001b[39m▁\u001b[39m▁\u001b[39m▁\u001b[39m▁\u001b[39m▁\u001b[39m▁\u001b[39m▁\u001b[39m▁\u001b[39m▁\u001b[39m▁\u001b[39m▁\u001b[39m▁\u001b[39m▁\u001b[39m▁\u001b[39m▁\u001b[39m▁\u001b[39m▁\u001b[39m▁\u001b[39m▁\u001b[39m▁\u001b[39m▁\u001b[32m▁\u001b[39m\u001b[39m▁\u001b[39m▁\u001b[39m▁\u001b[39m▁\u001b[39m▁\u001b[39m▁\u001b[39m▁\u001b[39m▁\u001b[39m▁\u001b[39m▁\u001b[39m▁\u001b[39m▁\u001b[39m▁\u001b[39m▁\u001b[39m█\u001b[34m█\u001b[39m\u001b[39m▁\u001b[39m█\u001b[39m▁\u001b[39m▁\u001b[39m▁\u001b[39m█\u001b[39m \u001b[39m▁\n",
       "  479 ms\u001b[90m           Histogram: frequency by time\u001b[39m          775 ms \u001b[0m\u001b[1m<\u001b[22m\n",
       "\n",
       " Memory estimate\u001b[90m: \u001b[39m\u001b[33m82.86 MiB\u001b[39m, allocs estimate\u001b[90m: \u001b[39m\u001b[33m1275\u001b[39m."
      ]
     },
     "execution_count": 66,
     "metadata": {},
     "output_type": "execute_result"
    }
   ],
   "source": [
    "@benchmark begin \n",
    "    transform1(pheno_y, geno, kinship);\n",
    "    transform2(y0, X0, lambda0);\n",
    "    pmap(x -> scan_distributed_block(r0perm, X00, x), blocks_partitions);\n",
    "end"
   ]
  },
  {
   "cell_type": "code",
   "execution_count": 67,
   "id": "f25a490f-335b-4cba-8a55-882d327e2286",
   "metadata": {},
   "outputs": [
    {
     "data": {
      "text/plain": [
       "BenchmarkTools.Trial: 2 samples with 1 evaluation.\n",
       " Range \u001b[90m(\u001b[39m\u001b[36m\u001b[1mmin\u001b[22m\u001b[39m … \u001b[35mmax\u001b[39m\u001b[90m):  \u001b[39m\u001b[36m\u001b[1m2.498 s\u001b[22m\u001b[39m … \u001b[35m  2.593 s\u001b[39m  \u001b[90m┊\u001b[39m GC \u001b[90m(\u001b[39mmin … max\u001b[90m): \u001b[39m2.66% … 2.61%\n",
       " Time  \u001b[90m(\u001b[39m\u001b[34m\u001b[1mmedian\u001b[22m\u001b[39m\u001b[90m):     \u001b[39m\u001b[34m\u001b[1m2.545 s              \u001b[22m\u001b[39m\u001b[90m┊\u001b[39m GC \u001b[90m(\u001b[39mmedian\u001b[90m):    \u001b[39m2.64%\n",
       " Time  \u001b[90m(\u001b[39m\u001b[32m\u001b[1mmean\u001b[22m\u001b[39m ± \u001b[32mσ\u001b[39m\u001b[90m):   \u001b[39m\u001b[32m\u001b[1m2.545 s\u001b[22m\u001b[39m ± \u001b[32m67.386 ms\u001b[39m  \u001b[90m┊\u001b[39m GC \u001b[90m(\u001b[39mmean ± σ\u001b[90m):  \u001b[39m2.64% ± 0.03%\n",
       "\n",
       "  \u001b[34m█\u001b[39m\u001b[39m \u001b[39m \u001b[39m \u001b[39m \u001b[39m \u001b[39m \u001b[39m \u001b[39m \u001b[39m \u001b[39m \u001b[39m \u001b[39m \u001b[39m \u001b[39m \u001b[39m \u001b[39m \u001b[39m \u001b[39m \u001b[39m \u001b[39m \u001b[39m \u001b[39m \u001b[39m \u001b[39m \u001b[39m \u001b[39m \u001b[39m \u001b[32m \u001b[39m\u001b[39m \u001b[39m \u001b[39m \u001b[39m \u001b[39m \u001b[39m \u001b[39m \u001b[39m \u001b[39m \u001b[39m \u001b[39m \u001b[39m \u001b[39m \u001b[39m \u001b[39m \u001b[39m \u001b[39m \u001b[39m \u001b[39m \u001b[39m \u001b[39m \u001b[39m \u001b[39m \u001b[39m \u001b[39m \u001b[39m \u001b[39m \u001b[39m█\u001b[39m \u001b[39m \n",
       "  \u001b[34m█\u001b[39m\u001b[39m▁\u001b[39m▁\u001b[39m▁\u001b[39m▁\u001b[39m▁\u001b[39m▁\u001b[39m▁\u001b[39m▁\u001b[39m▁\u001b[39m▁\u001b[39m▁\u001b[39m▁\u001b[39m▁\u001b[39m▁\u001b[39m▁\u001b[39m▁\u001b[39m▁\u001b[39m▁\u001b[39m▁\u001b[39m▁\u001b[39m▁\u001b[39m▁\u001b[39m▁\u001b[39m▁\u001b[39m▁\u001b[39m▁\u001b[39m▁\u001b[32m▁\u001b[39m\u001b[39m▁\u001b[39m▁\u001b[39m▁\u001b[39m▁\u001b[39m▁\u001b[39m▁\u001b[39m▁\u001b[39m▁\u001b[39m▁\u001b[39m▁\u001b[39m▁\u001b[39m▁\u001b[39m▁\u001b[39m▁\u001b[39m▁\u001b[39m▁\u001b[39m▁\u001b[39m▁\u001b[39m▁\u001b[39m▁\u001b[39m▁\u001b[39m▁\u001b[39m▁\u001b[39m▁\u001b[39m▁\u001b[39m▁\u001b[39m▁\u001b[39m█\u001b[39m \u001b[39m▁\n",
       "  2.5 s\u001b[90m          Histogram: frequency by time\u001b[39m        2.59 s \u001b[0m\u001b[1m<\u001b[22m\n",
       "\n",
       " Memory estimate\u001b[90m: \u001b[39m\u001b[33m13.30 GiB\u001b[39m, allocs estimate\u001b[90m: \u001b[39m\u001b[33m74635\u001b[39m."
      ]
     },
     "execution_count": 67,
     "metadata": {},
     "output_type": "execute_result"
    }
   ],
   "source": [
    "@benchmark scan_perms2(pheno_y, geno, kinship; nperms = 1000, rndseed = 0, original = true)"
   ]
  },
  {
   "cell_type": "code",
   "execution_count": 68,
   "id": "1485871f-839b-4886-a75e-8b684aa587e6",
   "metadata": {},
   "outputs": [
    {
     "data": {
      "text/plain": [
       "20-element Vector{Int64}:\n",
       " 14\n",
       " 60\n",
       " 11\n",
       " 81\n",
       " 15\n",
       " 36\n",
       " 62\n",
       " 41\n",
       " 90\n",
       " 99\n",
       " 16\n",
       " 80\n",
       " 59\n",
       " 40\n",
       " 26\n",
       " 50\n",
       " 49\n",
       "  7\n",
       " 25\n",
       " 31"
      ]
     },
     "execution_count": 68,
     "metadata": {},
     "output_type": "execute_result"
    }
   ],
   "source": [
    "seeds_list"
   ]
  },
  {
   "cell_type": "code",
   "execution_count": 69,
   "id": "00822666-e195-40ec-b0b4-f44556575cdc",
   "metadata": {},
   "outputs": [
    {
     "data": {
      "text/plain": [
       "BenchmarkTools.Trial: 9 samples with 1 evaluation.\n",
       " Range \u001b[90m(\u001b[39m\u001b[36m\u001b[1mmin\u001b[22m\u001b[39m … \u001b[35mmax\u001b[39m\u001b[90m):  \u001b[39m\u001b[36m\u001b[1m523.233 ms\u001b[22m\u001b[39m … \u001b[35m802.426 ms\u001b[39m  \u001b[90m┊\u001b[39m GC \u001b[90m(\u001b[39mmin … max\u001b[90m): \u001b[39m0.00% … 0.00%\n",
       " Time  \u001b[90m(\u001b[39m\u001b[34m\u001b[1mmedian\u001b[22m\u001b[39m\u001b[90m):     \u001b[39m\u001b[34m\u001b[1m549.232 ms               \u001b[22m\u001b[39m\u001b[90m┊\u001b[39m GC \u001b[90m(\u001b[39mmedian\u001b[90m):    \u001b[39m0.00%\n",
       " Time  \u001b[90m(\u001b[39m\u001b[32m\u001b[1mmean\u001b[22m\u001b[39m ± \u001b[32mσ\u001b[39m\u001b[90m):   \u001b[39m\u001b[32m\u001b[1m625.690 ms\u001b[22m\u001b[39m ± \u001b[32m115.921 ms\u001b[39m  \u001b[90m┊\u001b[39m GC \u001b[90m(\u001b[39mmean ± σ\u001b[90m):  \u001b[39m0.00% ± 0.00%\n",
       "\n",
       "  \u001b[39m█\u001b[39m \u001b[39m \u001b[39m█\u001b[34m \u001b[39m\u001b[39m▁\u001b[39m \u001b[39m \u001b[39m \u001b[39m \u001b[39m \u001b[39m \u001b[39m \u001b[39m \u001b[39m \u001b[39m \u001b[39m \u001b[39m \u001b[39m \u001b[39m \u001b[39m \u001b[39m \u001b[32m \u001b[39m\u001b[39m \u001b[39m \u001b[39m▁\u001b[39m \u001b[39m \u001b[39m \u001b[39m \u001b[39m \u001b[39m \u001b[39m \u001b[39m \u001b[39m \u001b[39m \u001b[39m \u001b[39m \u001b[39m \u001b[39m \u001b[39m \u001b[39m \u001b[39m \u001b[39m \u001b[39m \u001b[39m \u001b[39m \u001b[39m \u001b[39m \u001b[39m \u001b[39m▁\u001b[39m▁\u001b[39m \u001b[39m \u001b[39m \u001b[39m \u001b[39m \u001b[39m \u001b[39m \u001b[39m \u001b[39m▁\u001b[39m \u001b[39m \n",
       "  \u001b[39m█\u001b[39m▁\u001b[39m▁\u001b[39m█\u001b[34m▁\u001b[39m\u001b[39m█\u001b[39m▁\u001b[39m▁\u001b[39m▁\u001b[39m▁\u001b[39m▁\u001b[39m▁\u001b[39m▁\u001b[39m▁\u001b[39m▁\u001b[39m▁\u001b[39m▁\u001b[39m▁\u001b[39m▁\u001b[39m▁\u001b[39m▁\u001b[39m▁\u001b[32m▁\u001b[39m\u001b[39m▁\u001b[39m▁\u001b[39m█\u001b[39m▁\u001b[39m▁\u001b[39m▁\u001b[39m▁\u001b[39m▁\u001b[39m▁\u001b[39m▁\u001b[39m▁\u001b[39m▁\u001b[39m▁\u001b[39m▁\u001b[39m▁\u001b[39m▁\u001b[39m▁\u001b[39m▁\u001b[39m▁\u001b[39m▁\u001b[39m▁\u001b[39m▁\u001b[39m▁\u001b[39m▁\u001b[39m▁\u001b[39m▁\u001b[39m▁\u001b[39m█\u001b[39m█\u001b[39m▁\u001b[39m▁\u001b[39m▁\u001b[39m▁\u001b[39m▁\u001b[39m▁\u001b[39m▁\u001b[39m▁\u001b[39m█\u001b[39m \u001b[39m▁\n",
       "  523 ms\u001b[90m           Histogram: frequency by time\u001b[39m          802 ms \u001b[0m\u001b[1m<\u001b[22m\n",
       "\n",
       " Memory estimate\u001b[90m: \u001b[39m\u001b[33m55.92 MiB\u001b[39m, allocs estimate\u001b[90m: \u001b[39m\u001b[33m1680\u001b[39m."
      ]
     },
     "execution_count": 69,
     "metadata": {},
     "output_type": "execute_result"
    }
   ],
   "source": [
    "@benchmark pmap(x -> scan_distributed(y0, X0, lambda0; nperms = 50, rndseed = x, original = false), seeds_list)"
   ]
  },
  {
   "cell_type": "code",
   "execution_count": null,
   "id": "d04bc17b-10c9-4060-98ec-e3b9b43d690e",
   "metadata": {},
   "outputs": [],
   "source": []
  },
  {
   "cell_type": "code",
   "execution_count": null,
   "id": "153031ba-608e-4912-a531-717c36bb9498",
   "metadata": {},
   "outputs": [],
   "source": []
  },
  {
   "cell_type": "code",
   "execution_count": null,
   "id": "b4d175d4-0be3-42ad-bf94-2605cbec8c16",
   "metadata": {},
   "outputs": [],
   "source": []
  },
  {
   "cell_type": "markdown",
   "id": "03f5478b-eca1-4b1b-a5aa-87aeee194cc4",
   "metadata": {},
   "source": [
    "## Compare times for different choices of nperms and block sizes:"
   ]
  },
  {
   "cell_type": "code",
   "execution_count": 110,
   "id": "1e2bf502-8d14-4d18-bb97-43f363e299ea",
   "metadata": {},
   "outputs": [],
   "source": [
    "r0perm = transform3(r0; nperms = 1000, rndseed = 0, original = false);"
   ]
  },
  {
   "cell_type": "code",
   "execution_count": 111,
   "id": "d4597ba2-7bfe-419d-9a38-3f546b047621",
   "metadata": {},
   "outputs": [],
   "source": [
    "@everywhere nperms_list = [50, 100, 200, 500, 1000];\n",
    "@everywhere bsizes_list = [100, 300, 500, 600, 1000];\n",
    "@everywhere nblocks_list = [10, 20, 30, 40, 80, 90, 100];"
   ]
  },
  {
   "cell_type": "code",
   "execution_count": 112,
   "id": "0948d1eb-f4c9-464f-8d73-5b1d6211f2d7",
   "metadata": {},
   "outputs": [],
   "source": [
    "runtimes_nperms = Array{Float64, 1}(undef, length(nperms_list));\n",
    "runtimes_bsizes = Array{Float64, 1}(undef, length(bsizes_list));\n",
    "runtimes_nblocks = Array{Float64, 1}(undef, length(nblocks_list));"
   ]
  },
  {
   "cell_type": "code",
   "execution_count": 113,
   "id": "1d7bb5bb-6792-461d-a5b8-f0f06e00d40d",
   "metadata": {},
   "outputs": [
    {
     "data": {
      "text/plain": [
       "11-element Vector{Int64}:\n",
       "  1\n",
       "  2\n",
       "  3\n",
       "  4\n",
       "  5\n",
       "  6\n",
       "  7\n",
       "  8\n",
       "  9\n",
       " 10\n",
       " 11"
      ]
     },
     "execution_count": 113,
     "metadata": {},
     "output_type": "execute_result"
    }
   ],
   "source": [
    "procs() # check number of procs active rn"
   ]
  },
  {
   "cell_type": "code",
   "execution_count": 74,
   "id": "0fc26abe-0fa4-418c-874e-e888fbff9e96",
   "metadata": {},
   "outputs": [],
   "source": [
    "for i in 1:length(nperms_list)\n",
    "    \n",
    "    np = nperms_list[i];\n",
    "    nseeds = Int(1000/np);\n",
    "    \n",
    "    seeds_list = StatsBase.sample(1:100, nseeds; replace = false)\n",
    "    b = @benchmark pmap(x -> scan_distributed(y0, X0, lambda0; nperms = $np, rndseed = x, original = false), seeds_list);\n",
    "    b = median(b)\n",
    "    \n",
    "    runtimes_nperms[i] = time(b)/1e9\n",
    "    \n",
    "end"
   ]
  },
  {
   "cell_type": "code",
   "execution_count": 75,
   "id": "066ee0a6-7581-474f-bec5-82d0e2b48ef8",
   "metadata": {},
   "outputs": [],
   "source": [
    "for i in 1:length(bsizes_list)\n",
    "    \n",
    "    bs = bsizes_list[i];\n",
    "    \n",
    "    blocks_partitions = partition_array_indices(p, bs);\n",
    "\n",
    "    \n",
    "    b = @benchmark pmap(x -> scan_distributed_block(r0perm, X00, x), blocks_partitions);\n",
    "    b = median(b)\n",
    "    \n",
    "    runtimes_bsizes[i] = time(b)/1e9\n",
    "    \n",
    "end"
   ]
  },
  {
   "cell_type": "code",
   "execution_count": 114,
   "id": "0f775687-9c31-4e52-9f30-4af90a186c5e",
   "metadata": {},
   "outputs": [],
   "source": [
    "for i in 1:length(nblocks_list)\n",
    "    \n",
    "    bs = Int(ceil(p/nblocks_list[i]));\n",
    "    \n",
    "    blocks_partitions = partition_array_indices(p, bs);\n",
    "\n",
    "    \n",
    "    b = @benchmark pmap(x -> scan_distributed_block(r0perm, X00, x), blocks_partitions);\n",
    "    b = median(b)\n",
    "    \n",
    "    runtimes_nblocks[i] = time(b)/1e9\n",
    "    \n",
    "end"
   ]
  },
  {
   "cell_type": "code",
   "execution_count": 77,
   "id": "5c928a88-0223-4c5b-abbf-1e48c3dd35f0",
   "metadata": {},
   "outputs": [
    {
     "data": {
      "image/svg+xml": [
       "<?xml version=\"1.0\" encoding=\"utf-8\"?>\n",
       "<svg xmlns=\"http://www.w3.org/2000/svg\" xmlns:xlink=\"http://www.w3.org/1999/xlink\" width=\"600\" height=\"400\" viewBox=\"0 0 2400 1600\">\n",
       "<defs>\n",
       "  <clipPath id=\"clip540\">\n",
       "    <rect x=\"0\" y=\"0\" width=\"2400\" height=\"1600\"/>\n",
       "  </clipPath>\n",
       "</defs>\n",
       "<path clip-path=\"url(#clip540)\" d=\"\n",
       "M0 1600 L2400 1600 L2400 0 L0 0  Z\n",
       "  \" fill=\"#ffffff\" fill-rule=\"evenodd\" fill-opacity=\"1\"/>\n",
       "<defs>\n",
       "  <clipPath id=\"clip541\">\n",
       "    <rect x=\"480\" y=\"0\" width=\"1681\" height=\"1600\"/>\n",
       "  </clipPath>\n",
       "</defs>\n",
       "<path clip-path=\"url(#clip540)\" d=\"\n",
       "M219.033 1423.18 L2352.76 1423.18 L2352.76 47.2441 L219.033 47.2441  Z\n",
       "  \" fill=\"#ffffff\" fill-rule=\"evenodd\" fill-opacity=\"1\"/>\n",
       "<defs>\n",
       "  <clipPath id=\"clip542\">\n",
       "    <rect x=\"219\" y=\"47\" width=\"2135\" height=\"1377\"/>\n",
       "  </clipPath>\n",
       "</defs>\n",
       "<polyline clip-path=\"url(#clip542)\" style=\"stroke:#000000; stroke-linecap:round; stroke-linejoin:round; stroke-width:2; stroke-opacity:0.1; fill:none\" points=\"\n",
       "  597.255,1423.18 597.255,47.2441 \n",
       "  \"/>\n",
       "<polyline clip-path=\"url(#clip542)\" style=\"stroke:#000000; stroke-linecap:round; stroke-linejoin:round; stroke-width:2; stroke-opacity:0.1; fill:none\" points=\"\n",
       "  1021.03,1423.18 1021.03,47.2441 \n",
       "  \"/>\n",
       "<polyline clip-path=\"url(#clip542)\" style=\"stroke:#000000; stroke-linecap:round; stroke-linejoin:round; stroke-width:2; stroke-opacity:0.1; fill:none\" points=\"\n",
       "  1444.81,1423.18 1444.81,47.2441 \n",
       "  \"/>\n",
       "<polyline clip-path=\"url(#clip542)\" style=\"stroke:#000000; stroke-linecap:round; stroke-linejoin:round; stroke-width:2; stroke-opacity:0.1; fill:none\" points=\"\n",
       "  1868.59,1423.18 1868.59,47.2441 \n",
       "  \"/>\n",
       "<polyline clip-path=\"url(#clip542)\" style=\"stroke:#000000; stroke-linecap:round; stroke-linejoin:round; stroke-width:2; stroke-opacity:0.1; fill:none\" points=\"\n",
       "  2292.37,1423.18 2292.37,47.2441 \n",
       "  \"/>\n",
       "<polyline clip-path=\"url(#clip540)\" style=\"stroke:#000000; stroke-linecap:round; stroke-linejoin:round; stroke-width:4; stroke-opacity:1; fill:none\" points=\"\n",
       "  219.033,1423.18 2352.76,1423.18 \n",
       "  \"/>\n",
       "<polyline clip-path=\"url(#clip540)\" style=\"stroke:#000000; stroke-linecap:round; stroke-linejoin:round; stroke-width:4; stroke-opacity:1; fill:none\" points=\"\n",
       "  597.255,1423.18 597.255,1404.28 \n",
       "  \"/>\n",
       "<polyline clip-path=\"url(#clip540)\" style=\"stroke:#000000; stroke-linecap:round; stroke-linejoin:round; stroke-width:4; stroke-opacity:1; fill:none\" points=\"\n",
       "  1021.03,1423.18 1021.03,1404.28 \n",
       "  \"/>\n",
       "<polyline clip-path=\"url(#clip540)\" style=\"stroke:#000000; stroke-linecap:round; stroke-linejoin:round; stroke-width:4; stroke-opacity:1; fill:none\" points=\"\n",
       "  1444.81,1423.18 1444.81,1404.28 \n",
       "  \"/>\n",
       "<polyline clip-path=\"url(#clip540)\" style=\"stroke:#000000; stroke-linecap:round; stroke-linejoin:round; stroke-width:4; stroke-opacity:1; fill:none\" points=\"\n",
       "  1868.59,1423.18 1868.59,1404.28 \n",
       "  \"/>\n",
       "<polyline clip-path=\"url(#clip540)\" style=\"stroke:#000000; stroke-linecap:round; stroke-linejoin:round; stroke-width:4; stroke-opacity:1; fill:none\" points=\"\n",
       "  2292.37,1423.18 2292.37,1404.28 \n",
       "  \"/>\n",
       "<path clip-path=\"url(#clip540)\" d=\"M560.947 1481.64 L577.267 1481.64 L577.267 1485.58 L555.322 1485.58 L555.322 1481.64 Q557.984 1478.89 562.568 1474.26 Q567.174 1469.61 568.355 1468.27 Q570.6 1465.74 571.48 1464.01 Q572.382 1462.25 572.382 1460.56 Q572.382 1457.8 570.438 1456.07 Q568.517 1454.33 565.415 1454.33 Q563.216 1454.33 560.762 1455.09 Q558.332 1455.86 555.554 1457.41 L555.554 1452.69 Q558.378 1451.55 560.832 1450.97 Q563.285 1450.39 565.322 1450.39 Q570.693 1450.39 573.887 1453.08 Q577.081 1455.77 577.081 1460.26 Q577.081 1462.39 576.271 1464.31 Q575.484 1466.2 573.378 1468.8 Q572.799 1469.47 569.697 1472.69 Q566.595 1475.88 560.947 1481.64 Z\" fill=\"#000000\" fill-rule=\"evenodd\" fill-opacity=\"1\" /><path clip-path=\"url(#clip540)\" d=\"M597.081 1454.1 Q593.47 1454.1 591.642 1457.66 Q589.836 1461.2 589.836 1468.33 Q589.836 1475.44 591.642 1479.01 Q593.47 1482.55 597.081 1482.55 Q600.716 1482.55 602.521 1479.01 Q604.35 1475.44 604.35 1468.33 Q604.35 1461.2 602.521 1457.66 Q600.716 1454.1 597.081 1454.1 M597.081 1450.39 Q602.891 1450.39 605.947 1455 Q609.026 1459.58 609.026 1468.33 Q609.026 1477.06 605.947 1481.67 Q602.891 1486.25 597.081 1486.25 Q591.271 1486.25 588.192 1481.67 Q585.137 1477.06 585.137 1468.33 Q585.137 1459.58 588.192 1455 Q591.271 1450.39 597.081 1450.39 Z\" fill=\"#000000\" fill-rule=\"evenodd\" fill-opacity=\"1\" /><path clip-path=\"url(#clip540)\" d=\"M627.243 1454.1 Q623.632 1454.1 621.803 1457.66 Q619.998 1461.2 619.998 1468.33 Q619.998 1475.44 621.803 1479.01 Q623.632 1482.55 627.243 1482.55 Q630.877 1482.55 632.683 1479.01 Q634.512 1475.44 634.512 1468.33 Q634.512 1461.2 632.683 1457.66 Q630.877 1454.1 627.243 1454.1 M627.243 1450.39 Q633.053 1450.39 636.109 1455 Q639.188 1459.58 639.188 1468.33 Q639.188 1477.06 636.109 1481.67 Q633.053 1486.25 627.243 1486.25 Q621.433 1486.25 618.354 1481.67 Q615.299 1477.06 615.299 1468.33 Q615.299 1459.58 618.354 1455 Q621.433 1450.39 627.243 1450.39 Z\" fill=\"#000000\" fill-rule=\"evenodd\" fill-opacity=\"1\" /><path clip-path=\"url(#clip540)\" d=\"M994.124 1455.09 L982.318 1473.54 L994.124 1473.54 L994.124 1455.09 M992.897 1451.02 L998.776 1451.02 L998.776 1473.54 L1003.71 1473.54 L1003.71 1477.43 L998.776 1477.43 L998.776 1485.58 L994.124 1485.58 L994.124 1477.43 L978.522 1477.43 L978.522 1472.92 L992.897 1451.02 Z\" fill=\"#000000\" fill-rule=\"evenodd\" fill-opacity=\"1\" /><path clip-path=\"url(#clip540)\" d=\"M1021.44 1454.1 Q1017.83 1454.1 1016 1457.66 Q1014.19 1461.2 1014.19 1468.33 Q1014.19 1475.44 1016 1479.01 Q1017.83 1482.55 1021.44 1482.55 Q1025.07 1482.55 1026.88 1479.01 Q1028.71 1475.44 1028.71 1468.33 Q1028.71 1461.2 1026.88 1457.66 Q1025.07 1454.1 1021.44 1454.1 M1021.44 1450.39 Q1027.25 1450.39 1030.3 1455 Q1033.38 1459.58 1033.38 1468.33 Q1033.38 1477.06 1030.3 1481.67 Q1027.25 1486.25 1021.44 1486.25 Q1015.63 1486.25 1012.55 1481.67 Q1009.49 1477.06 1009.49 1468.33 Q1009.49 1459.58 1012.55 1455 Q1015.63 1450.39 1021.44 1450.39 Z\" fill=\"#000000\" fill-rule=\"evenodd\" fill-opacity=\"1\" /><path clip-path=\"url(#clip540)\" d=\"M1051.6 1454.1 Q1047.99 1454.1 1046.16 1457.66 Q1044.35 1461.2 1044.35 1468.33 Q1044.35 1475.44 1046.16 1479.01 Q1047.99 1482.55 1051.6 1482.55 Q1055.23 1482.55 1057.04 1479.01 Q1058.87 1475.44 1058.87 1468.33 Q1058.87 1461.2 1057.04 1457.66 Q1055.23 1454.1 1051.6 1454.1 M1051.6 1450.39 Q1057.41 1450.39 1060.47 1455 Q1063.54 1459.58 1063.54 1468.33 Q1063.54 1477.06 1060.47 1481.67 Q1057.41 1486.25 1051.6 1486.25 Q1045.79 1486.25 1042.71 1481.67 Q1039.66 1477.06 1039.66 1468.33 Q1039.66 1459.58 1042.71 1455 Q1045.79 1450.39 1051.6 1450.39 Z\" fill=\"#000000\" fill-rule=\"evenodd\" fill-opacity=\"1\" /><path clip-path=\"url(#clip540)\" d=\"M1415.14 1466.44 Q1411.99 1466.44 1410.14 1468.59 Q1408.31 1470.74 1408.31 1474.49 Q1408.31 1478.22 1410.14 1480.39 Q1411.99 1482.55 1415.14 1482.55 Q1418.28 1482.55 1420.11 1480.39 Q1421.96 1478.22 1421.96 1474.49 Q1421.96 1470.74 1420.11 1468.59 Q1418.28 1466.44 1415.14 1466.44 M1424.42 1451.78 L1424.42 1456.04 Q1422.66 1455.21 1420.85 1454.77 Q1419.07 1454.33 1417.31 1454.33 Q1412.68 1454.33 1410.23 1457.45 Q1407.8 1460.58 1407.45 1466.9 Q1408.82 1464.89 1410.88 1463.82 Q1412.94 1462.73 1415.41 1462.73 Q1420.62 1462.73 1423.63 1465.9 Q1426.66 1469.05 1426.66 1474.49 Q1426.66 1479.82 1423.52 1483.03 Q1420.37 1486.25 1415.14 1486.25 Q1409.14 1486.25 1405.97 1481.67 Q1402.8 1477.06 1402.8 1468.33 Q1402.8 1460.14 1406.69 1455.28 Q1410.58 1450.39 1417.13 1450.39 Q1418.89 1450.39 1420.67 1450.74 Q1422.47 1451.09 1424.42 1451.78 Z\" fill=\"#000000\" fill-rule=\"evenodd\" fill-opacity=\"1\" /><path clip-path=\"url(#clip540)\" d=\"M1444.72 1454.1 Q1441.11 1454.1 1439.28 1457.66 Q1437.47 1461.2 1437.47 1468.33 Q1437.47 1475.44 1439.28 1479.01 Q1441.11 1482.55 1444.72 1482.55 Q1448.35 1482.55 1450.16 1479.01 Q1451.99 1475.44 1451.99 1468.33 Q1451.99 1461.2 1450.16 1457.66 Q1448.35 1454.1 1444.72 1454.1 M1444.72 1450.39 Q1450.53 1450.39 1453.58 1455 Q1456.66 1459.58 1456.66 1468.33 Q1456.66 1477.06 1453.58 1481.67 Q1450.53 1486.25 1444.72 1486.25 Q1438.91 1486.25 1435.83 1481.67 Q1432.77 1477.06 1432.77 1468.33 Q1432.77 1459.58 1435.83 1455 Q1438.91 1450.39 1444.72 1450.39 Z\" fill=\"#000000\" fill-rule=\"evenodd\" fill-opacity=\"1\" /><path clip-path=\"url(#clip540)\" d=\"M1474.88 1454.1 Q1471.27 1454.1 1469.44 1457.66 Q1467.64 1461.2 1467.64 1468.33 Q1467.64 1475.44 1469.44 1479.01 Q1471.27 1482.55 1474.88 1482.55 Q1478.51 1482.55 1480.32 1479.01 Q1482.15 1475.44 1482.15 1468.33 Q1482.15 1461.2 1480.32 1457.66 Q1478.51 1454.1 1474.88 1454.1 M1474.88 1450.39 Q1480.69 1450.39 1483.75 1455 Q1486.82 1459.58 1486.82 1468.33 Q1486.82 1477.06 1483.75 1481.67 Q1480.69 1486.25 1474.88 1486.25 Q1469.07 1486.25 1465.99 1481.67 Q1462.94 1477.06 1462.94 1468.33 Q1462.94 1459.58 1465.99 1455 Q1469.07 1450.39 1474.88 1450.39 Z\" fill=\"#000000\" fill-rule=\"evenodd\" fill-opacity=\"1\" /><path clip-path=\"url(#clip540)\" d=\"M1838.38 1469.17 Q1835.05 1469.17 1833.13 1470.95 Q1831.23 1472.73 1831.23 1475.86 Q1831.23 1478.98 1833.13 1480.77 Q1835.05 1482.55 1838.38 1482.55 Q1841.71 1482.55 1843.64 1480.77 Q1845.56 1478.96 1845.56 1475.86 Q1845.56 1472.73 1843.64 1470.95 Q1841.74 1469.17 1838.38 1469.17 M1833.71 1467.18 Q1830.7 1466.44 1829.01 1464.38 Q1827.34 1462.32 1827.34 1459.35 Q1827.34 1455.21 1830.28 1452.8 Q1833.24 1450.39 1838.38 1450.39 Q1843.54 1450.39 1846.48 1452.8 Q1849.42 1455.21 1849.42 1459.35 Q1849.42 1462.32 1847.73 1464.38 Q1846.07 1466.44 1843.08 1467.18 Q1846.46 1467.96 1848.33 1470.26 Q1850.23 1472.55 1850.23 1475.86 Q1850.23 1480.88 1847.15 1483.57 Q1844.1 1486.25 1838.38 1486.25 Q1832.66 1486.25 1829.58 1483.57 Q1826.53 1480.88 1826.53 1475.86 Q1826.53 1472.55 1828.43 1470.26 Q1830.33 1467.96 1833.71 1467.18 M1831.99 1459.79 Q1831.99 1462.48 1833.66 1463.98 Q1835.35 1465.49 1838.38 1465.49 Q1841.39 1465.49 1843.08 1463.98 Q1844.79 1462.48 1844.79 1459.79 Q1844.79 1457.11 1843.08 1455.6 Q1841.39 1454.1 1838.38 1454.1 Q1835.35 1454.1 1833.66 1455.6 Q1831.99 1457.11 1831.99 1459.79 Z\" fill=\"#000000\" fill-rule=\"evenodd\" fill-opacity=\"1\" /><path clip-path=\"url(#clip540)\" d=\"M1868.54 1454.1 Q1864.93 1454.1 1863.1 1457.66 Q1861.3 1461.2 1861.3 1468.33 Q1861.3 1475.44 1863.1 1479.01 Q1864.93 1482.55 1868.54 1482.55 Q1872.18 1482.55 1873.98 1479.01 Q1875.81 1475.44 1875.81 1468.33 Q1875.81 1461.2 1873.98 1457.66 Q1872.18 1454.1 1868.54 1454.1 M1868.54 1450.39 Q1874.35 1450.39 1877.41 1455 Q1880.49 1459.58 1880.49 1468.33 Q1880.49 1477.06 1877.41 1481.67 Q1874.35 1486.25 1868.54 1486.25 Q1862.73 1486.25 1859.65 1481.67 Q1856.6 1477.06 1856.6 1468.33 Q1856.6 1459.58 1859.65 1455 Q1862.73 1450.39 1868.54 1450.39 Z\" fill=\"#000000\" fill-rule=\"evenodd\" fill-opacity=\"1\" /><path clip-path=\"url(#clip540)\" d=\"M1898.7 1454.1 Q1895.09 1454.1 1893.27 1457.66 Q1891.46 1461.2 1891.46 1468.33 Q1891.46 1475.44 1893.27 1479.01 Q1895.09 1482.55 1898.7 1482.55 Q1902.34 1482.55 1904.14 1479.01 Q1905.97 1475.44 1905.97 1468.33 Q1905.97 1461.2 1904.14 1457.66 Q1902.34 1454.1 1898.7 1454.1 M1898.7 1450.39 Q1904.52 1450.39 1907.57 1455 Q1910.65 1459.58 1910.65 1468.33 Q1910.65 1477.06 1907.57 1481.67 Q1904.52 1486.25 1898.7 1486.25 Q1892.89 1486.25 1889.82 1481.67 Q1886.76 1477.06 1886.76 1468.33 Q1886.76 1459.58 1889.82 1455 Q1892.89 1450.39 1898.7 1450.39 Z\" fill=\"#000000\" fill-rule=\"evenodd\" fill-opacity=\"1\" /><path clip-path=\"url(#clip540)\" d=\"M2236.89 1481.64 L2244.53 1481.64 L2244.53 1455.28 L2236.22 1456.95 L2236.22 1452.69 L2244.49 1451.02 L2249.16 1451.02 L2249.16 1481.64 L2256.8 1481.64 L2256.8 1485.58 L2236.89 1485.58 L2236.89 1481.64 Z\" fill=\"#000000\" fill-rule=\"evenodd\" fill-opacity=\"1\" /><path clip-path=\"url(#clip540)\" d=\"M2276.24 1454.1 Q2272.63 1454.1 2270.81 1457.66 Q2269 1461.2 2269 1468.33 Q2269 1475.44 2270.81 1479.01 Q2272.63 1482.55 2276.24 1482.55 Q2279.88 1482.55 2281.68 1479.01 Q2283.51 1475.44 2283.51 1468.33 Q2283.51 1461.2 2281.68 1457.66 Q2279.88 1454.1 2276.24 1454.1 M2276.24 1450.39 Q2282.06 1450.39 2285.11 1455 Q2288.19 1459.58 2288.19 1468.33 Q2288.19 1477.06 2285.11 1481.67 Q2282.06 1486.25 2276.24 1486.25 Q2270.43 1486.25 2267.36 1481.67 Q2264.3 1477.06 2264.3 1468.33 Q2264.3 1459.58 2267.36 1455 Q2270.43 1450.39 2276.24 1450.39 Z\" fill=\"#000000\" fill-rule=\"evenodd\" fill-opacity=\"1\" /><path clip-path=\"url(#clip540)\" d=\"M2306.41 1454.1 Q2302.8 1454.1 2300.97 1457.66 Q2299.16 1461.2 2299.16 1468.33 Q2299.16 1475.44 2300.97 1479.01 Q2302.8 1482.55 2306.41 1482.55 Q2310.04 1482.55 2311.85 1479.01 Q2313.68 1475.44 2313.68 1468.33 Q2313.68 1461.2 2311.85 1457.66 Q2310.04 1454.1 2306.41 1454.1 M2306.41 1450.39 Q2312.22 1450.39 2315.27 1455 Q2318.35 1459.58 2318.35 1468.33 Q2318.35 1477.06 2315.27 1481.67 Q2312.22 1486.25 2306.41 1486.25 Q2300.6 1486.25 2297.52 1481.67 Q2294.46 1477.06 2294.46 1468.33 Q2294.46 1459.58 2297.52 1455 Q2300.6 1450.39 2306.41 1450.39 Z\" fill=\"#000000\" fill-rule=\"evenodd\" fill-opacity=\"1\" /><path clip-path=\"url(#clip540)\" d=\"M2336.57 1454.1 Q2332.96 1454.1 2331.13 1457.66 Q2329.32 1461.2 2329.32 1468.33 Q2329.32 1475.44 2331.13 1479.01 Q2332.96 1482.55 2336.57 1482.55 Q2340.2 1482.55 2342.01 1479.01 Q2343.84 1475.44 2343.84 1468.33 Q2343.84 1461.2 2342.01 1457.66 Q2340.2 1454.1 2336.57 1454.1 M2336.57 1450.39 Q2342.38 1450.39 2345.43 1455 Q2348.51 1459.58 2348.51 1468.33 Q2348.51 1477.06 2345.43 1481.67 Q2342.38 1486.25 2336.57 1486.25 Q2330.76 1486.25 2327.68 1481.67 Q2324.62 1477.06 2324.62 1468.33 Q2324.62 1459.58 2327.68 1455 Q2330.76 1450.39 2336.57 1450.39 Z\" fill=\"#000000\" fill-rule=\"evenodd\" fill-opacity=\"1\" /><path clip-path=\"url(#clip540)\" d=\"M703.671 1520.52 L712.328 1520.52 L733.399 1560.28 L733.399 1520.52 L739.637 1520.52 L739.637 1568.04 L730.98 1568.04 L709.909 1528.29 L709.909 1568.04 L703.671 1568.04 L703.671 1520.52 Z\" fill=\"#000000\" fill-rule=\"evenodd\" fill-opacity=\"1\" /><path clip-path=\"url(#clip540)\" d=\"M751.573 1553.98 L751.573 1532.4 L757.429 1532.4 L757.429 1553.75 Q757.429 1558.81 759.403 1561.36 Q761.376 1563.87 765.323 1563.87 Q770.065 1563.87 772.803 1560.85 Q775.572 1557.83 775.572 1552.61 L775.572 1532.4 L781.428 1532.4 L781.428 1568.04 L775.572 1568.04 L775.572 1562.57 Q773.439 1565.82 770.606 1567.41 Q767.805 1568.97 764.082 1568.97 Q757.939 1568.97 754.756 1565.15 Q751.573 1561.33 751.573 1553.98 M766.31 1531.54 L766.31 1531.54 Z\" fill=\"#000000\" fill-rule=\"evenodd\" fill-opacity=\"1\" /><path clip-path=\"url(#clip540)\" d=\"M821.246 1539.24 Q823.442 1535.29 826.497 1533.41 Q829.553 1531.54 833.691 1531.54 Q839.261 1531.54 842.284 1535.45 Q845.308 1539.33 845.308 1546.53 L845.308 1568.04 L839.42 1568.04 L839.42 1546.72 Q839.42 1541.59 837.605 1539.11 Q835.791 1536.63 832.067 1536.63 Q827.516 1536.63 824.874 1539.65 Q822.232 1542.68 822.232 1547.9 L822.232 1568.04 L816.344 1568.04 L816.344 1546.72 Q816.344 1541.56 814.53 1539.11 Q812.716 1536.63 808.928 1536.63 Q804.44 1536.63 801.798 1539.68 Q799.157 1542.71 799.157 1547.9 L799.157 1568.04 L793.268 1568.04 L793.268 1532.4 L799.157 1532.4 L799.157 1537.93 Q801.162 1534.66 803.963 1533.1 Q806.764 1531.54 810.615 1531.54 Q814.498 1531.54 817.203 1533.51 Q819.941 1535.48 821.246 1539.24 Z\" fill=\"#000000\" fill-rule=\"evenodd\" fill-opacity=\"1\" /><path clip-path=\"url(#clip540)\" d=\"M882.579 1550.25 Q882.579 1543.79 879.906 1540.13 Q877.264 1536.44 872.617 1536.44 Q867.97 1536.44 865.296 1540.13 Q862.655 1543.79 862.655 1550.25 Q862.655 1556.71 865.296 1560.4 Q867.97 1564.07 872.617 1564.07 Q877.264 1564.07 879.906 1560.4 Q882.579 1556.71 882.579 1550.25 M862.655 1537.81 Q864.501 1534.62 867.301 1533.1 Q870.134 1531.54 874.049 1531.54 Q880.542 1531.54 884.584 1536.69 Q888.658 1541.85 888.658 1550.25 Q888.658 1558.65 884.584 1563.81 Q880.542 1568.97 874.049 1568.97 Q870.134 1568.97 867.301 1567.44 Q864.501 1565.88 862.655 1562.7 L862.655 1568.04 L856.766 1568.04 L856.766 1518.52 L862.655 1518.52 L862.655 1537.81 Z\" fill=\"#000000\" fill-rule=\"evenodd\" fill-opacity=\"1\" /><path clip-path=\"url(#clip540)\" d=\"M928.858 1548.76 L928.858 1551.62 L901.931 1551.62 Q902.313 1557.67 905.559 1560.85 Q908.838 1564 914.662 1564 Q918.036 1564 921.187 1563.17 Q924.37 1562.35 927.489 1560.69 L927.489 1566.23 Q924.338 1567.57 921.028 1568.27 Q917.718 1568.97 914.312 1568.97 Q905.782 1568.97 900.785 1564 Q895.82 1559.04 895.82 1550.57 Q895.82 1541.82 900.53 1536.69 Q905.273 1531.54 913.294 1531.54 Q920.487 1531.54 924.656 1536.18 Q928.858 1540.8 928.858 1548.76 M923.001 1547.04 Q922.938 1542.23 920.296 1539.37 Q917.686 1536.5 913.357 1536.5 Q908.456 1536.5 905.496 1539.27 Q902.567 1542.04 902.122 1547.07 L923.001 1547.04 Z\" fill=\"#000000\" fill-rule=\"evenodd\" fill-opacity=\"1\" /><path clip-path=\"url(#clip540)\" d=\"M959.127 1537.87 Q958.14 1537.3 956.962 1537.04 Q955.817 1536.76 954.416 1536.76 Q949.451 1536.76 946.777 1540 Q944.136 1543.22 944.136 1549.27 L944.136 1568.04 L938.247 1568.04 L938.247 1532.4 L944.136 1532.4 L944.136 1537.93 Q945.982 1534.69 948.942 1533.13 Q951.902 1531.54 956.135 1531.54 Q956.74 1531.54 957.472 1531.63 Q958.204 1531.7 959.095 1531.85 L959.127 1537.87 Z\" fill=\"#000000\" fill-rule=\"evenodd\" fill-opacity=\"1\" /><path clip-path=\"url(#clip540)\" d=\"M999.804 1536.5 Q995.093 1536.5 992.356 1540.19 Q989.619 1543.85 989.619 1550.25 Q989.619 1556.65 992.324 1560.34 Q995.061 1564 999.804 1564 Q1004.48 1564 1007.22 1560.31 Q1009.96 1556.62 1009.96 1550.25 Q1009.96 1543.92 1007.22 1540.23 Q1004.48 1536.5 999.804 1536.5 M999.804 1531.54 Q1007.44 1531.54 1011.8 1536.5 Q1016.16 1541.47 1016.16 1550.25 Q1016.16 1559 1011.8 1564 Q1007.44 1568.97 999.804 1568.97 Q992.133 1568.97 987.772 1564 Q983.444 1559 983.444 1550.25 Q983.444 1541.47 987.772 1536.5 Q992.133 1531.54 999.804 1531.54 Z\" fill=\"#000000\" fill-rule=\"evenodd\" fill-opacity=\"1\" /><path clip-path=\"url(#clip540)\" d=\"M1043.92 1518.52 L1043.92 1523.39 L1038.32 1523.39 Q1035.17 1523.39 1033.92 1524.66 Q1032.71 1525.93 1032.71 1529.24 L1032.71 1532.4 L1042.36 1532.4 L1042.36 1536.95 L1032.71 1536.95 L1032.71 1568.04 L1026.83 1568.04 L1026.83 1536.95 L1021.22 1536.95 L1021.22 1532.4 L1026.83 1532.4 L1026.83 1529.91 Q1026.83 1523.96 1029.6 1521.26 Q1032.36 1518.52 1038.38 1518.52 L1043.92 1518.52 Z\" fill=\"#000000\" fill-rule=\"evenodd\" fill-opacity=\"1\" /><path clip-path=\"url(#clip540)\" d=\"M1075.21 1562.7 L1075.21 1581.6 L1069.32 1581.6 L1069.32 1532.4 L1075.21 1532.4 L1075.21 1537.81 Q1077.05 1534.62 1079.85 1533.1 Q1082.69 1531.54 1086.6 1531.54 Q1093.09 1531.54 1097.14 1536.69 Q1101.21 1541.85 1101.21 1550.25 Q1101.21 1558.65 1097.14 1563.81 Q1093.09 1568.97 1086.6 1568.97 Q1082.69 1568.97 1079.85 1567.44 Q1077.05 1565.88 1075.21 1562.7 M1095.13 1550.25 Q1095.13 1543.79 1092.46 1540.13 Q1089.81 1536.44 1085.17 1536.44 Q1080.52 1536.44 1077.85 1540.13 Q1075.21 1543.79 1075.21 1550.25 Q1075.21 1556.71 1077.85 1560.4 Q1080.52 1564.07 1085.17 1564.07 Q1089.81 1564.07 1092.46 1560.4 Q1095.13 1556.71 1095.13 1550.25 Z\" fill=\"#000000\" fill-rule=\"evenodd\" fill-opacity=\"1\" /><path clip-path=\"url(#clip540)\" d=\"M1141.41 1548.76 L1141.41 1551.62 L1114.48 1551.62 Q1114.86 1557.67 1118.11 1560.85 Q1121.39 1564 1127.21 1564 Q1130.59 1564 1133.74 1563.17 Q1136.92 1562.35 1140.04 1560.69 L1140.04 1566.23 Q1136.89 1567.57 1133.58 1568.27 Q1130.27 1568.97 1126.86 1568.97 Q1118.33 1568.97 1113.34 1564 Q1108.37 1559.04 1108.37 1550.57 Q1108.37 1541.82 1113.08 1536.69 Q1117.82 1531.54 1125.84 1531.54 Q1133.04 1531.54 1137.21 1536.18 Q1141.41 1540.8 1141.41 1548.76 M1135.55 1547.04 Q1135.49 1542.23 1132.85 1539.37 Q1130.24 1536.5 1125.91 1536.5 Q1121.01 1536.5 1118.05 1539.27 Q1115.12 1542.04 1114.67 1547.07 L1135.55 1547.04 Z\" fill=\"#000000\" fill-rule=\"evenodd\" fill-opacity=\"1\" /><path clip-path=\"url(#clip540)\" d=\"M1171.68 1537.87 Q1170.69 1537.3 1169.51 1537.04 Q1168.37 1536.76 1166.97 1536.76 Q1162 1536.76 1159.33 1540 Q1156.69 1543.22 1156.69 1549.27 L1156.69 1568.04 L1150.8 1568.04 L1150.8 1532.4 L1156.69 1532.4 L1156.69 1537.93 Q1158.53 1534.69 1161.49 1533.13 Q1164.45 1531.54 1168.69 1531.54 Q1169.29 1531.54 1170.02 1531.63 Q1170.75 1531.7 1171.65 1531.85 L1171.68 1537.87 Z\" fill=\"#000000\" fill-rule=\"evenodd\" fill-opacity=\"1\" /><path clip-path=\"url(#clip540)\" d=\"M1204.43 1539.24 Q1206.63 1535.29 1209.68 1533.41 Q1212.74 1531.54 1216.87 1531.54 Q1222.44 1531.54 1225.47 1535.45 Q1228.49 1539.33 1228.49 1546.53 L1228.49 1568.04 L1222.6 1568.04 L1222.6 1546.72 Q1222.6 1541.59 1220.79 1539.11 Q1218.97 1536.63 1215.25 1536.63 Q1210.7 1536.63 1208.06 1539.65 Q1205.42 1542.68 1205.42 1547.9 L1205.42 1568.04 L1199.53 1568.04 L1199.53 1546.72 Q1199.53 1541.56 1197.71 1539.11 Q1195.9 1536.63 1192.11 1536.63 Q1187.62 1536.63 1184.98 1539.68 Q1182.34 1542.71 1182.34 1547.9 L1182.34 1568.04 L1176.45 1568.04 L1176.45 1532.4 L1182.34 1532.4 L1182.34 1537.93 Q1184.35 1534.66 1187.15 1533.1 Q1189.95 1531.54 1193.8 1531.54 Q1197.68 1531.54 1200.39 1533.51 Q1203.12 1535.48 1204.43 1539.24 Z\" fill=\"#000000\" fill-rule=\"evenodd\" fill-opacity=\"1\" /><path clip-path=\"url(#clip540)\" d=\"M1239.57 1553.98 L1239.57 1532.4 L1245.42 1532.4 L1245.42 1553.75 Q1245.42 1558.81 1247.4 1561.36 Q1249.37 1563.87 1253.32 1563.87 Q1258.06 1563.87 1260.8 1560.85 Q1263.57 1557.83 1263.57 1552.61 L1263.57 1532.4 L1269.42 1532.4 L1269.42 1568.04 L1263.57 1568.04 L1263.57 1562.57 Q1261.43 1565.82 1258.6 1567.41 Q1255.8 1568.97 1252.08 1568.97 Q1245.93 1568.97 1242.75 1565.15 Q1239.57 1561.33 1239.57 1553.98 M1254.3 1531.54 L1254.3 1531.54 Z\" fill=\"#000000\" fill-rule=\"evenodd\" fill-opacity=\"1\" /><path clip-path=\"url(#clip540)\" d=\"M1287.28 1522.27 L1287.28 1532.4 L1299.34 1532.4 L1299.34 1536.95 L1287.28 1536.95 L1287.28 1556.3 Q1287.28 1560.66 1288.46 1561.9 Q1289.67 1563.14 1293.33 1563.14 L1299.34 1563.14 L1299.34 1568.04 L1293.33 1568.04 Q1286.55 1568.04 1283.97 1565.53 Q1281.39 1562.98 1281.39 1556.3 L1281.39 1536.95 L1277.09 1536.95 L1277.09 1532.4 L1281.39 1532.4 L1281.39 1522.27 L1287.28 1522.27 Z\" fill=\"#000000\" fill-rule=\"evenodd\" fill-opacity=\"1\" /><path clip-path=\"url(#clip540)\" d=\"M1323.25 1550.12 Q1316.15 1550.12 1313.41 1551.75 Q1310.67 1553.37 1310.67 1557.29 Q1310.67 1560.4 1312.71 1562.25 Q1314.78 1564.07 1318.31 1564.07 Q1323.18 1564.07 1326.11 1560.63 Q1329.07 1557.16 1329.07 1551.43 L1329.07 1550.12 L1323.25 1550.12 M1334.93 1547.71 L1334.93 1568.04 L1329.07 1568.04 L1329.07 1562.63 Q1327.06 1565.88 1324.07 1567.44 Q1321.08 1568.97 1316.75 1568.97 Q1311.28 1568.97 1308.03 1565.91 Q1304.82 1562.82 1304.82 1557.67 Q1304.82 1551.65 1308.83 1548.6 Q1312.87 1545.54 1320.86 1545.54 L1329.07 1545.54 L1329.07 1544.97 Q1329.07 1540.93 1326.4 1538.73 Q1323.75 1536.5 1318.95 1536.5 Q1315.89 1536.5 1313 1537.23 Q1310.1 1537.97 1307.43 1539.43 L1307.43 1534.02 Q1310.64 1532.78 1313.66 1532.17 Q1316.69 1531.54 1319.55 1531.54 Q1327.29 1531.54 1331.11 1535.55 Q1334.93 1539.56 1334.93 1547.71 Z\" fill=\"#000000\" fill-rule=\"evenodd\" fill-opacity=\"1\" /><path clip-path=\"url(#clip540)\" d=\"M1352.78 1522.27 L1352.78 1532.4 L1364.85 1532.4 L1364.85 1536.95 L1352.78 1536.95 L1352.78 1556.3 Q1352.78 1560.66 1353.96 1561.9 Q1355.17 1563.14 1358.83 1563.14 L1364.85 1563.14 L1364.85 1568.04 L1358.83 1568.04 Q1352.05 1568.04 1349.47 1565.53 Q1346.89 1562.98 1346.89 1556.3 L1346.89 1536.95 L1342.6 1536.95 L1342.6 1532.4 L1346.89 1532.4 L1346.89 1522.27 L1352.78 1522.27 Z\" fill=\"#000000\" fill-rule=\"evenodd\" fill-opacity=\"1\" /><path clip-path=\"url(#clip540)\" d=\"M1372.55 1532.4 L1378.4 1532.4 L1378.4 1568.04 L1372.55 1568.04 L1372.55 1532.4 M1372.55 1518.52 L1378.4 1518.52 L1378.4 1525.93 L1372.55 1525.93 L1372.55 1518.52 Z\" fill=\"#000000\" fill-rule=\"evenodd\" fill-opacity=\"1\" /><path clip-path=\"url(#clip540)\" d=\"M1404.47 1536.5 Q1399.76 1536.5 1397.02 1540.19 Q1394.29 1543.85 1394.29 1550.25 Q1394.29 1556.65 1396.99 1560.34 Q1399.73 1564 1404.47 1564 Q1409.15 1564 1411.89 1560.31 Q1414.62 1556.62 1414.62 1550.25 Q1414.62 1543.92 1411.89 1540.23 Q1409.15 1536.5 1404.47 1536.5 M1404.47 1531.54 Q1412.11 1531.54 1416.47 1536.5 Q1420.83 1541.47 1420.83 1550.25 Q1420.83 1559 1416.47 1564 Q1412.11 1568.97 1404.47 1568.97 Q1396.8 1568.97 1392.44 1564 Q1388.11 1559 1388.11 1550.25 Q1388.11 1541.47 1392.44 1536.5 Q1396.8 1531.54 1404.47 1531.54 Z\" fill=\"#000000\" fill-rule=\"evenodd\" fill-opacity=\"1\" /><path clip-path=\"url(#clip540)\" d=\"M1460.17 1546.53 L1460.17 1568.04 L1454.32 1568.04 L1454.32 1546.72 Q1454.32 1541.66 1452.34 1539.14 Q1450.37 1536.63 1446.42 1536.63 Q1441.68 1536.63 1438.94 1539.65 Q1436.2 1542.68 1436.2 1547.9 L1436.2 1568.04 L1430.32 1568.04 L1430.32 1532.4 L1436.2 1532.4 L1436.2 1537.93 Q1438.31 1534.72 1441.14 1533.13 Q1444 1531.54 1447.73 1531.54 Q1453.87 1531.54 1457.02 1535.36 Q1460.17 1539.14 1460.17 1546.53 Z\" fill=\"#000000\" fill-rule=\"evenodd\" fill-opacity=\"1\" /><path clip-path=\"url(#clip540)\" d=\"M1494.58 1533.45 L1494.58 1538.98 Q1492.1 1537.71 1489.42 1537.07 Q1486.75 1536.44 1483.88 1536.44 Q1479.52 1536.44 1477.33 1537.77 Q1475.16 1539.11 1475.16 1541.79 Q1475.16 1543.82 1476.72 1545 Q1478.28 1546.15 1482.99 1547.2 L1485 1547.64 Q1491.24 1548.98 1493.85 1551.43 Q1496.49 1553.85 1496.49 1558.21 Q1496.49 1563.17 1492.54 1566.07 Q1488.63 1568.97 1481.75 1568.97 Q1478.89 1568.97 1475.77 1568.39 Q1472.68 1567.85 1469.24 1566.74 L1469.24 1560.69 Q1472.49 1562.38 1475.64 1563.24 Q1478.79 1564.07 1481.88 1564.07 Q1486.02 1564.07 1488.24 1562.66 Q1490.47 1561.23 1490.47 1558.65 Q1490.47 1556.27 1488.85 1554.99 Q1487.26 1553.72 1481.81 1552.54 L1479.78 1552.07 Q1474.34 1550.92 1471.92 1548.56 Q1469.5 1546.18 1469.5 1542.04 Q1469.5 1537.01 1473.06 1534.27 Q1476.63 1531.54 1483.18 1531.54 Q1486.43 1531.54 1489.29 1532.01 Q1492.16 1532.49 1494.58 1533.45 Z\" fill=\"#000000\" fill-rule=\"evenodd\" fill-opacity=\"1\" /><path clip-path=\"url(#clip540)\" d=\"M1549.99 1537.81 L1549.99 1518.52 L1555.85 1518.52 L1555.85 1568.04 L1549.99 1568.04 L1549.99 1562.7 Q1548.15 1565.88 1545.31 1567.44 Q1542.51 1568.97 1538.57 1568.97 Q1532.1 1568.97 1528.03 1563.81 Q1523.99 1558.65 1523.99 1550.25 Q1523.99 1541.85 1528.03 1536.69 Q1532.1 1531.54 1538.57 1531.54 Q1542.51 1531.54 1545.31 1533.1 Q1548.15 1534.62 1549.99 1537.81 M1530.04 1550.25 Q1530.04 1556.71 1532.68 1560.4 Q1535.35 1564.07 1540 1564.07 Q1544.64 1564.07 1547.32 1560.4 Q1549.99 1556.71 1549.99 1550.25 Q1549.99 1543.79 1547.32 1540.13 Q1544.64 1536.44 1540 1536.44 Q1535.35 1536.44 1532.68 1540.13 Q1530.04 1543.79 1530.04 1550.25 Z\" fill=\"#000000\" fill-rule=\"evenodd\" fill-opacity=\"1\" /><path clip-path=\"url(#clip540)\" d=\"M1567.91 1532.4 L1573.77 1532.4 L1573.77 1568.04 L1567.91 1568.04 L1567.91 1532.4 M1567.91 1518.52 L1573.77 1518.52 L1573.77 1525.93 L1567.91 1525.93 L1567.91 1518.52 Z\" fill=\"#000000\" fill-rule=\"evenodd\" fill-opacity=\"1\" /><path clip-path=\"url(#clip540)\" d=\"M1608.75 1533.45 L1608.75 1538.98 Q1606.26 1537.71 1603.59 1537.07 Q1600.92 1536.44 1598.05 1536.44 Q1593.69 1536.44 1591.5 1537.77 Q1589.33 1539.11 1589.33 1541.79 Q1589.33 1543.82 1590.89 1545 Q1592.45 1546.15 1597.16 1547.2 L1599.17 1547.64 Q1605.41 1548.98 1608.02 1551.43 Q1610.66 1553.85 1610.66 1558.21 Q1610.66 1563.17 1606.71 1566.07 Q1602.8 1568.97 1595.92 1568.97 Q1593.06 1568.97 1589.94 1568.39 Q1586.85 1567.85 1583.41 1566.74 L1583.41 1560.69 Q1586.66 1562.38 1589.81 1563.24 Q1592.96 1564.07 1596.05 1564.07 Q1600.19 1564.07 1602.41 1562.66 Q1604.64 1561.23 1604.64 1558.65 Q1604.64 1556.27 1603.02 1554.99 Q1601.43 1553.72 1595.98 1552.54 L1593.95 1552.07 Q1588.5 1550.92 1586.09 1548.56 Q1583.67 1546.18 1583.67 1542.04 Q1583.67 1537.01 1587.23 1534.27 Q1590.8 1531.54 1597.35 1531.54 Q1600.6 1531.54 1603.46 1532.01 Q1606.33 1532.49 1608.75 1533.45 Z\" fill=\"#000000\" fill-rule=\"evenodd\" fill-opacity=\"1\" /><path clip-path=\"url(#clip540)\" d=\"M1625.78 1522.27 L1625.78 1532.4 L1637.84 1532.4 L1637.84 1536.95 L1625.78 1536.95 L1625.78 1556.3 Q1625.78 1560.66 1626.95 1561.9 Q1628.16 1563.14 1631.82 1563.14 L1637.84 1563.14 L1637.84 1568.04 L1631.82 1568.04 Q1625.04 1568.04 1622.47 1565.53 Q1619.89 1562.98 1619.89 1556.3 L1619.89 1536.95 L1615.59 1536.95 L1615.59 1532.4 L1619.89 1532.4 L1619.89 1522.27 L1625.78 1522.27 Z\" fill=\"#000000\" fill-rule=\"evenodd\" fill-opacity=\"1\" /><path clip-path=\"url(#clip540)\" d=\"M1666.2 1537.87 Q1665.21 1537.3 1664.03 1537.04 Q1662.89 1536.76 1661.49 1536.76 Q1656.52 1536.76 1653.85 1540 Q1651.21 1543.22 1651.21 1549.27 L1651.21 1568.04 L1645.32 1568.04 L1645.32 1532.4 L1651.21 1532.4 L1651.21 1537.93 Q1653.05 1534.69 1656.01 1533.13 Q1658.97 1531.54 1663.21 1531.54 Q1663.81 1531.54 1664.54 1531.63 Q1665.27 1531.7 1666.17 1531.85 L1666.2 1537.87 Z\" fill=\"#000000\" fill-rule=\"evenodd\" fill-opacity=\"1\" /><path clip-path=\"url(#clip540)\" d=\"M1672.34 1532.4 L1678.2 1532.4 L1678.2 1568.04 L1672.34 1568.04 L1672.34 1532.4 M1672.34 1518.52 L1678.2 1518.52 L1678.2 1525.93 L1672.34 1525.93 L1672.34 1518.52 Z\" fill=\"#000000\" fill-rule=\"evenodd\" fill-opacity=\"1\" /><path clip-path=\"url(#clip540)\" d=\"M1716.04 1550.25 Q1716.04 1543.79 1713.37 1540.13 Q1710.73 1536.44 1706.08 1536.44 Q1701.43 1536.44 1698.76 1540.13 Q1696.12 1543.79 1696.12 1550.25 Q1696.12 1556.71 1698.76 1560.4 Q1701.43 1564.07 1706.08 1564.07 Q1710.73 1564.07 1713.37 1560.4 Q1716.04 1556.71 1716.04 1550.25 M1696.12 1537.81 Q1697.96 1534.62 1700.76 1533.1 Q1703.6 1531.54 1707.51 1531.54 Q1714 1531.54 1718.05 1536.69 Q1722.12 1541.85 1722.12 1550.25 Q1722.12 1558.65 1718.05 1563.81 Q1714 1568.97 1707.51 1568.97 Q1703.6 1568.97 1700.76 1567.44 Q1697.96 1565.88 1696.12 1562.7 L1696.12 1568.04 L1690.23 1568.04 L1690.23 1518.52 L1696.12 1518.52 L1696.12 1537.81 Z\" fill=\"#000000\" fill-rule=\"evenodd\" fill-opacity=\"1\" /><path clip-path=\"url(#clip540)\" d=\"M1731.22 1553.98 L1731.22 1532.4 L1737.08 1532.4 L1737.08 1553.75 Q1737.08 1558.81 1739.05 1561.36 Q1741.03 1563.87 1744.97 1563.87 Q1749.72 1563.87 1752.45 1560.85 Q1755.22 1557.83 1755.22 1552.61 L1755.22 1532.4 L1761.08 1532.4 L1761.08 1568.04 L1755.22 1568.04 L1755.22 1562.57 Q1753.09 1565.82 1750.26 1567.41 Q1747.46 1568.97 1743.73 1568.97 Q1737.59 1568.97 1734.41 1565.15 Q1731.22 1561.33 1731.22 1553.98 M1745.96 1531.54 L1745.96 1531.54 Z\" fill=\"#000000\" fill-rule=\"evenodd\" fill-opacity=\"1\" /><path clip-path=\"url(#clip540)\" d=\"M1778.93 1522.27 L1778.93 1532.4 L1791 1532.4 L1791 1536.95 L1778.93 1536.95 L1778.93 1556.3 Q1778.93 1560.66 1780.11 1561.9 Q1781.32 1563.14 1784.98 1563.14 L1791 1563.14 L1791 1568.04 L1784.98 1568.04 Q1778.2 1568.04 1775.62 1565.53 Q1773.05 1562.98 1773.05 1556.3 L1773.05 1536.95 L1768.75 1536.95 L1768.75 1532.4 L1773.05 1532.4 L1773.05 1522.27 L1778.93 1522.27 Z\" fill=\"#000000\" fill-rule=\"evenodd\" fill-opacity=\"1\" /><path clip-path=\"url(#clip540)\" d=\"M1829.19 1548.76 L1829.19 1551.62 L1802.26 1551.62 Q1802.65 1557.67 1805.89 1560.85 Q1809.17 1564 1815 1564 Q1818.37 1564 1821.52 1563.17 Q1824.7 1562.35 1827.82 1560.69 L1827.82 1566.23 Q1824.67 1567.57 1821.36 1568.27 Q1818.05 1568.97 1814.65 1568.97 Q1806.12 1568.97 1801.12 1564 Q1796.15 1559.04 1796.15 1550.57 Q1796.15 1541.82 1800.86 1536.69 Q1805.61 1531.54 1813.63 1531.54 Q1820.82 1531.54 1824.99 1536.18 Q1829.19 1540.8 1829.19 1548.76 M1823.34 1547.04 Q1823.27 1542.23 1820.63 1539.37 Q1818.02 1536.5 1813.69 1536.5 Q1808.79 1536.5 1805.83 1539.27 Q1802.9 1542.04 1802.46 1547.07 L1823.34 1547.04 Z\" fill=\"#000000\" fill-rule=\"evenodd\" fill-opacity=\"1\" /><path clip-path=\"url(#clip540)\" d=\"M1862.26 1537.81 L1862.26 1518.52 L1868.12 1518.52 L1868.12 1568.04 L1862.26 1568.04 L1862.26 1562.7 Q1860.42 1565.88 1857.58 1567.44 Q1854.78 1568.97 1850.83 1568.97 Q1844.37 1568.97 1840.3 1563.81 Q1836.26 1558.65 1836.26 1550.25 Q1836.26 1541.85 1840.3 1536.69 Q1844.37 1531.54 1850.83 1531.54 Q1854.78 1531.54 1857.58 1533.1 Q1860.42 1534.62 1862.26 1537.81 M1842.3 1550.25 Q1842.3 1556.71 1844.95 1560.4 Q1847.62 1564.07 1852.27 1564.07 Q1856.91 1564.07 1859.59 1560.4 Q1862.26 1556.71 1862.26 1550.25 Q1862.26 1543.79 1859.59 1540.13 Q1856.91 1536.44 1852.27 1536.44 Q1847.62 1536.44 1844.95 1540.13 Q1842.3 1543.79 1842.3 1550.25 Z\" fill=\"#000000\" fill-rule=\"evenodd\" fill-opacity=\"1\" /><polyline clip-path=\"url(#clip542)\" style=\"stroke:#000000; stroke-linecap:round; stroke-linejoin:round; stroke-width:2; stroke-opacity:0.1; fill:none\" points=\"\n",
       "  219.033,1131.93 2352.76,1131.93 \n",
       "  \"/>\n",
       "<polyline clip-path=\"url(#clip542)\" style=\"stroke:#000000; stroke-linecap:round; stroke-linejoin:round; stroke-width:2; stroke-opacity:0.1; fill:none\" points=\"\n",
       "  219.033,790.878 2352.76,790.878 \n",
       "  \"/>\n",
       "<polyline clip-path=\"url(#clip542)\" style=\"stroke:#000000; stroke-linecap:round; stroke-linejoin:round; stroke-width:2; stroke-opacity:0.1; fill:none\" points=\"\n",
       "  219.033,449.826 2352.76,449.826 \n",
       "  \"/>\n",
       "<polyline clip-path=\"url(#clip542)\" style=\"stroke:#000000; stroke-linecap:round; stroke-linejoin:round; stroke-width:2; stroke-opacity:0.1; fill:none\" points=\"\n",
       "  219.033,108.775 2352.76,108.775 \n",
       "  \"/>\n",
       "<polyline clip-path=\"url(#clip540)\" style=\"stroke:#000000; stroke-linecap:round; stroke-linejoin:round; stroke-width:4; stroke-opacity:1; fill:none\" points=\"\n",
       "  219.033,1423.18 219.033,47.2441 \n",
       "  \"/>\n",
       "<polyline clip-path=\"url(#clip540)\" style=\"stroke:#000000; stroke-linecap:round; stroke-linejoin:round; stroke-width:4; stroke-opacity:1; fill:none\" points=\"\n",
       "  219.033,1131.93 237.931,1131.93 \n",
       "  \"/>\n",
       "<polyline clip-path=\"url(#clip540)\" style=\"stroke:#000000; stroke-linecap:round; stroke-linejoin:round; stroke-width:4; stroke-opacity:1; fill:none\" points=\"\n",
       "  219.033,790.878 237.931,790.878 \n",
       "  \"/>\n",
       "<polyline clip-path=\"url(#clip540)\" style=\"stroke:#000000; stroke-linecap:round; stroke-linejoin:round; stroke-width:4; stroke-opacity:1; fill:none\" points=\"\n",
       "  219.033,449.826 237.931,449.826 \n",
       "  \"/>\n",
       "<polyline clip-path=\"url(#clip540)\" style=\"stroke:#000000; stroke-linecap:round; stroke-linejoin:round; stroke-width:4; stroke-opacity:1; fill:none\" points=\"\n",
       "  219.033,108.775 237.931,108.775 \n",
       "  \"/>\n",
       "<path clip-path=\"url(#clip540)\" d=\"M116.668 1145.27 L124.306 1145.27 L124.306 1118.91 L115.996 1120.58 L115.996 1116.32 L124.26 1114.65 L128.936 1114.65 L128.936 1145.27 L136.575 1145.27 L136.575 1149.21 L116.668 1149.21 L116.668 1145.27 Z\" fill=\"#000000\" fill-rule=\"evenodd\" fill-opacity=\"1\" /><path clip-path=\"url(#clip540)\" d=\"M146.019 1143.33 L150.903 1143.33 L150.903 1149.21 L146.019 1149.21 L146.019 1143.33 Z\" fill=\"#000000\" fill-rule=\"evenodd\" fill-opacity=\"1\" /><path clip-path=\"url(#clip540)\" d=\"M171.089 1117.73 Q167.477 1117.73 165.649 1121.29 Q163.843 1124.83 163.843 1131.96 Q163.843 1139.07 165.649 1142.64 Q167.477 1146.18 171.089 1146.18 Q174.723 1146.18 176.528 1142.64 Q178.357 1139.07 178.357 1131.96 Q178.357 1124.83 176.528 1121.29 Q174.723 1117.73 171.089 1117.73 M171.089 1114.02 Q176.899 1114.02 179.954 1118.63 Q183.033 1123.21 183.033 1131.96 Q183.033 1140.69 179.954 1145.3 Q176.899 1149.88 171.089 1149.88 Q165.278 1149.88 162.2 1145.3 Q159.144 1140.69 159.144 1131.96 Q159.144 1123.21 162.2 1118.63 Q165.278 1114.02 171.089 1114.02 Z\" fill=\"#000000\" fill-rule=\"evenodd\" fill-opacity=\"1\" /><path clip-path=\"url(#clip540)\" d=\"M117.663 804.223 L125.302 804.223 L125.302 777.857 L116.992 779.524 L116.992 775.265 L125.255 773.598 L129.931 773.598 L129.931 804.223 L137.57 804.223 L137.57 808.158 L117.663 808.158 L117.663 804.223 Z\" fill=\"#000000\" fill-rule=\"evenodd\" fill-opacity=\"1\" /><path clip-path=\"url(#clip540)\" d=\"M147.015 802.279 L151.899 802.279 L151.899 808.158 L147.015 808.158 L147.015 802.279 Z\" fill=\"#000000\" fill-rule=\"evenodd\" fill-opacity=\"1\" /><path clip-path=\"url(#clip540)\" d=\"M162.13 773.598 L180.487 773.598 L180.487 777.533 L166.413 777.533 L166.413 786.005 Q167.431 785.658 168.45 785.496 Q169.468 785.311 170.487 785.311 Q176.274 785.311 179.653 788.482 Q183.033 791.654 183.033 797.07 Q183.033 802.649 179.561 805.751 Q176.089 808.829 169.769 808.829 Q167.593 808.829 165.325 808.459 Q163.079 808.089 160.672 807.348 L160.672 802.649 Q162.755 803.783 164.977 804.339 Q167.2 804.894 169.677 804.894 Q173.681 804.894 176.019 802.788 Q178.357 800.681 178.357 797.07 Q178.357 793.459 176.019 791.353 Q173.681 789.246 169.677 789.246 Q167.802 789.246 165.927 789.663 Q164.075 790.08 162.13 790.959 L162.13 773.598 Z\" fill=\"#000000\" fill-rule=\"evenodd\" fill-opacity=\"1\" /><path clip-path=\"url(#clip540)\" d=\"M119.885 463.171 L136.204 463.171 L136.204 467.106 L114.26 467.106 L114.26 463.171 Q116.922 460.417 121.505 455.787 Q126.112 451.134 127.292 449.792 Q129.538 447.269 130.417 445.532 Q131.32 443.773 131.32 442.083 Q131.32 439.329 129.376 437.593 Q127.455 435.857 124.353 435.857 Q122.154 435.857 119.7 436.62 Q117.269 437.384 114.492 438.935 L114.492 434.213 Q117.316 433.079 119.769 432.5 Q122.223 431.921 124.26 431.921 Q129.63 431.921 132.825 434.607 Q136.019 437.292 136.019 441.782 Q136.019 443.912 135.209 445.833 Q134.422 447.731 132.316 450.324 Q131.737 450.995 128.635 454.213 Q125.533 457.407 119.885 463.171 Z\" fill=\"#000000\" fill-rule=\"evenodd\" fill-opacity=\"1\" /><path clip-path=\"url(#clip540)\" d=\"M146.019 461.227 L150.903 461.227 L150.903 467.106 L146.019 467.106 L146.019 461.227 Z\" fill=\"#000000\" fill-rule=\"evenodd\" fill-opacity=\"1\" /><path clip-path=\"url(#clip540)\" d=\"M171.089 435.625 Q167.477 435.625 165.649 439.19 Q163.843 442.732 163.843 449.861 Q163.843 456.968 165.649 460.532 Q167.477 464.074 171.089 464.074 Q174.723 464.074 176.528 460.532 Q178.357 456.968 178.357 449.861 Q178.357 442.732 176.528 439.19 Q174.723 435.625 171.089 435.625 M171.089 431.921 Q176.899 431.921 179.954 436.528 Q183.033 441.111 183.033 449.861 Q183.033 458.588 179.954 463.194 Q176.899 467.778 171.089 467.778 Q165.278 467.778 162.2 463.194 Q159.144 458.588 159.144 449.861 Q159.144 441.111 162.2 436.528 Q165.278 431.921 171.089 431.921 Z\" fill=\"#000000\" fill-rule=\"evenodd\" fill-opacity=\"1\" /><path clip-path=\"url(#clip540)\" d=\"M120.88 122.119 L137.2 122.119 L137.2 126.055 L115.256 126.055 L115.256 122.119 Q117.918 119.365 122.501 114.735 Q127.107 110.083 128.288 108.74 Q130.533 106.217 131.413 104.481 Q132.316 102.721 132.316 101.032 Q132.316 98.277 130.371 96.5409 Q128.45 94.8048 125.348 94.8048 Q123.149 94.8048 120.695 95.5687 Q118.265 96.3326 115.487 97.8835 L115.487 93.1613 Q118.311 92.027 120.765 91.4483 Q123.218 90.8696 125.255 90.8696 Q130.626 90.8696 133.82 93.5548 Q137.015 96.24 137.015 100.731 Q137.015 102.86 136.204 104.782 Q135.417 106.68 133.311 109.272 Q132.732 109.944 129.63 113.161 Q126.529 116.356 120.88 122.119 Z\" fill=\"#000000\" fill-rule=\"evenodd\" fill-opacity=\"1\" /><path clip-path=\"url(#clip540)\" d=\"M147.015 120.175 L151.899 120.175 L151.899 126.055 L147.015 126.055 L147.015 120.175 Z\" fill=\"#000000\" fill-rule=\"evenodd\" fill-opacity=\"1\" /><path clip-path=\"url(#clip540)\" d=\"M162.13 91.4946 L180.487 91.4946 L180.487 95.4298 L166.413 95.4298 L166.413 103.902 Q167.431 103.555 168.45 103.393 Q169.468 103.208 170.487 103.208 Q176.274 103.208 179.653 106.379 Q183.033 109.55 183.033 114.967 Q183.033 120.545 179.561 123.647 Q176.089 126.726 169.769 126.726 Q167.593 126.726 165.325 126.356 Q163.079 125.985 160.672 125.244 L160.672 120.545 Q162.755 121.68 164.977 122.235 Q167.2 122.791 169.677 122.791 Q173.681 122.791 176.019 120.684 Q178.357 118.578 178.357 114.967 Q178.357 111.356 176.019 109.249 Q173.681 107.143 169.677 107.143 Q167.802 107.143 165.927 107.559 Q164.075 107.976 162.13 108.856 L162.13 91.4946 Z\" fill=\"#000000\" fill-rule=\"evenodd\" fill-opacity=\"1\" /><path clip-path=\"url(#clip540)\" d=\"M41.7242 895.58 Q42.4244 893.511 44.7161 891.57 Q47.0077 889.596 51.0181 887.623 L64.0042 881.098 L64.0042 888.005 L51.8138 894.084 Q47.0395 896.439 45.48 898.667 Q43.9204 900.864 43.9204 904.683 L43.9204 911.685 L64.0042 911.685 L64.0042 918.115 L16.4842 918.115 L16.4842 903.601 Q16.4842 895.453 19.8898 891.442 Q23.2955 887.432 30.1704 887.432 Q34.6582 887.432 37.6183 889.533 Q40.5784 891.601 41.7242 895.58 M21.7677 911.685 L38.6368 911.685 L38.6368 903.601 Q38.6368 898.954 36.5043 896.599 Q34.34 894.211 30.1704 894.211 Q26.0009 894.211 23.9002 896.599 Q21.7677 898.954 21.7677 903.601 L21.7677 911.685 Z\" fill=\"#000000\" fill-rule=\"evenodd\" fill-opacity=\"1\" /><path clip-path=\"url(#clip540)\" d=\"M49.9359 876.61 L28.3562 876.61 L28.3562 870.754 L49.7131 870.754 Q54.7739 870.754 57.3202 868.78 Q59.8346 866.807 59.8346 862.86 Q59.8346 858.118 56.8109 855.381 Q53.7872 852.612 48.5673 852.612 L28.3562 852.612 L28.3562 846.755 L64.0042 846.755 L64.0042 852.612 L58.5296 852.612 Q61.7762 854.744 63.3676 857.577 Q64.9272 860.378 64.9272 864.102 Q64.9272 870.245 61.1078 873.427 Q57.2883 876.61 49.9359 876.61 M27.4968 861.874 L27.4968 861.874 Z\" fill=\"#000000\" fill-rule=\"evenodd\" fill-opacity=\"1\" /><path clip-path=\"url(#clip540)\" d=\"M42.4881 805.06 L64.0042 805.06 L64.0042 810.916 L42.679 810.916 Q37.6183 810.916 35.1038 812.89 Q32.5894 814.863 32.5894 818.81 Q32.5894 823.552 35.6131 826.289 Q38.6368 829.027 43.8567 829.027 L64.0042 829.027 L64.0042 834.915 L28.3562 834.915 L28.3562 829.027 L33.8944 829.027 Q30.6797 826.926 29.0883 824.093 Q27.4968 821.229 27.4968 817.505 Q27.4968 811.362 31.3163 808.211 Q35.1038 805.06 42.4881 805.06 Z\" fill=\"#000000\" fill-rule=\"evenodd\" fill-opacity=\"1\" /><path clip-path=\"url(#clip540)\" d=\"M18.2347 787.586 L28.3562 787.586 L28.3562 775.523 L32.9077 775.523 L32.9077 787.586 L52.2594 787.586 Q56.6199 787.586 57.8613 786.408 Q59.1026 785.199 59.1026 781.538 L59.1026 775.523 L64.0042 775.523 L64.0042 781.538 Q64.0042 788.318 61.4897 790.896 Q58.9434 793.474 52.2594 793.474 L32.9077 793.474 L32.9077 797.771 L28.3562 797.771 L28.3562 793.474 L18.2347 793.474 L18.2347 787.586 Z\" fill=\"#000000\" fill-rule=\"evenodd\" fill-opacity=\"1\" /><path clip-path=\"url(#clip540)\" d=\"M28.3562 767.82 L28.3562 761.964 L64.0042 761.964 L64.0042 767.82 L28.3562 767.82 M14.479 767.82 L14.479 761.964 L21.895 761.964 L21.895 767.82 L14.479 767.82 Z\" fill=\"#000000\" fill-rule=\"evenodd\" fill-opacity=\"1\" /><path clip-path=\"url(#clip540)\" d=\"M35.1993 721.955 Q31.2526 719.759 29.3747 716.704 Q27.4968 713.648 27.4968 709.51 Q27.4968 703.94 31.4117 700.917 Q35.2948 697.893 42.4881 697.893 L64.0042 697.893 L64.0042 703.781 L42.679 703.781 Q37.5546 703.781 35.072 705.596 Q32.5894 707.41 32.5894 711.134 Q32.5894 715.685 35.6131 718.327 Q38.6368 720.969 43.8567 720.969 L64.0042 720.969 L64.0042 726.857 L42.679 726.857 Q37.5228 726.857 35.072 728.671 Q32.5894 730.485 32.5894 734.273 Q32.5894 738.761 35.6449 741.403 Q38.6686 744.044 43.8567 744.044 L64.0042 744.044 L64.0042 749.933 L28.3562 749.933 L28.3562 744.044 L33.8944 744.044 Q30.616 742.039 29.0564 739.238 Q27.4968 736.437 27.4968 732.586 Q27.4968 728.703 29.4702 725.998 Q31.4436 723.26 35.1993 721.955 Z\" fill=\"#000000\" fill-rule=\"evenodd\" fill-opacity=\"1\" /><path clip-path=\"url(#clip540)\" d=\"M44.7161 655.72 L47.5806 655.72 L47.5806 682.647 Q53.6281 682.265 56.8109 679.019 Q59.9619 675.74 59.9619 669.916 Q59.9619 666.542 59.1344 663.391 Q58.3069 660.208 56.6518 657.089 L62.1899 657.089 Q63.5267 660.24 64.227 663.55 Q64.9272 666.86 64.9272 670.266 Q64.9272 678.796 59.9619 683.793 Q54.9967 688.758 46.5303 688.758 Q37.7774 688.758 32.6531 684.048 Q27.4968 679.305 27.4968 671.284 Q27.4968 664.091 32.1438 659.922 Q36.7589 655.72 44.7161 655.72 M42.9973 661.577 Q38.1912 661.64 35.3266 664.282 Q32.4621 666.892 32.4621 671.221 Q32.4621 676.122 35.2312 679.082 Q38.0002 682.011 43.0292 682.456 L42.9973 661.577 Z\" fill=\"#000000\" fill-rule=\"evenodd\" fill-opacity=\"1\" /><path clip-path=\"url(#clip540)\" d=\"M14.5426 611.319 Q21.8632 615.584 29.0246 617.653 Q36.186 619.722 43.5384 619.722 Q50.8908 619.722 58.1159 617.653 Q65.3091 615.553 72.5979 611.319 L72.5979 616.412 Q65.1182 621.186 57.8931 623.573 Q50.668 625.929 43.5384 625.929 Q36.4406 625.929 29.2474 623.573 Q22.0542 621.218 14.5426 616.412 L14.5426 611.319 Z\" fill=\"#000000\" fill-rule=\"evenodd\" fill-opacity=\"1\" /><path clip-path=\"url(#clip540)\" d=\"M29.4065 577.231 L34.9447 577.231 Q33.6716 579.714 33.035 582.387 Q32.3984 585.061 32.3984 587.925 Q32.3984 592.286 33.7352 594.482 Q35.072 596.646 37.7456 596.646 Q39.7826 596.646 40.9603 595.087 Q42.1061 593.527 43.1565 588.817 L43.6021 586.811 Q44.9389 580.573 47.3897 577.963 Q49.8086 575.321 54.1691 575.321 Q59.1344 575.321 62.0308 579.268 Q64.9272 583.183 64.9272 590.058 Q64.9272 592.923 64.3543 596.042 Q63.8132 599.129 62.6992 602.567 L56.6518 602.567 Q58.3387 599.32 59.198 596.169 Q60.0256 593.018 60.0256 589.931 Q60.0256 585.793 58.6251 583.565 Q57.1929 581.337 54.6147 581.337 Q52.2276 581.337 50.9545 582.96 Q49.6813 584.552 48.5037 589.994 L48.0262 592.031 Q46.8804 597.474 44.5251 599.893 Q42.138 602.312 38.0002 602.312 Q32.9713 602.312 30.2341 598.747 Q27.4968 595.182 27.4968 588.626 Q27.4968 585.379 27.9743 582.515 Q28.4517 579.65 29.4065 577.231 Z\" fill=\"#000000\" fill-rule=\"evenodd\" fill-opacity=\"1\" /><path clip-path=\"url(#clip540)\" d=\"M14.5426 566.919 L14.5426 561.826 Q22.0542 557.052 29.2474 554.696 Q36.4406 552.309 43.5384 552.309 Q50.668 552.309 57.8931 554.696 Q65.1182 557.052 72.5979 561.826 L72.5979 566.919 Q65.3091 562.685 58.1159 560.617 Q50.8908 558.516 43.5384 558.516 Q36.186 558.516 29.0246 560.617 Q21.8632 562.685 14.5426 566.919 Z\" fill=\"#000000\" fill-rule=\"evenodd\" fill-opacity=\"1\" /><polyline clip-path=\"url(#clip542)\" style=\"stroke:#009af9; stroke-linecap:round; stroke-linejoin:round; stroke-width:4; stroke-opacity:1; fill:none\" points=\"\n",
       "  279.421,1373.13 385.366,1384.24 597.255,1186.08 1232.92,760.006 2292.37,86.1857 \n",
       "  \"/>\n",
       "</svg>\n"
      ]
     },
     "execution_count": 77,
     "metadata": {},
     "output_type": "execute_result"
    }
   ],
   "source": [
    "plot(nperms_list, runtimes_nperms; xlabel = \"Number of permutations distributed\", ylabel = \"Runtime (s)\", legend = false)"
   ]
  },
  {
   "cell_type": "code",
   "execution_count": 78,
   "id": "a536f623-2a77-472a-8b4f-ab85beaaac6c",
   "metadata": {},
   "outputs": [
    {
     "data": {
      "image/svg+xml": [
       "<?xml version=\"1.0\" encoding=\"utf-8\"?>\n",
       "<svg xmlns=\"http://www.w3.org/2000/svg\" xmlns:xlink=\"http://www.w3.org/1999/xlink\" width=\"600\" height=\"400\" viewBox=\"0 0 2400 1600\">\n",
       "<defs>\n",
       "  <clipPath id=\"clip580\">\n",
       "    <rect x=\"0\" y=\"0\" width=\"2400\" height=\"1600\"/>\n",
       "  </clipPath>\n",
       "</defs>\n",
       "<path clip-path=\"url(#clip580)\" d=\"\n",
       "M0 1600 L2400 1600 L2400 0 L0 0  Z\n",
       "  \" fill=\"#ffffff\" fill-rule=\"evenodd\" fill-opacity=\"1\"/>\n",
       "<defs>\n",
       "  <clipPath id=\"clip581\">\n",
       "    <rect x=\"480\" y=\"0\" width=\"1681\" height=\"1600\"/>\n",
       "  </clipPath>\n",
       "</defs>\n",
       "<path clip-path=\"url(#clip580)\" d=\"\n",
       "M250.028 1423.18 L2352.76 1423.18 L2352.76 47.2441 L250.028 47.2441  Z\n",
       "  \" fill=\"#ffffff\" fill-rule=\"evenodd\" fill-opacity=\"1\"/>\n",
       "<defs>\n",
       "  <clipPath id=\"clip582\">\n",
       "    <rect x=\"250\" y=\"47\" width=\"2104\" height=\"1377\"/>\n",
       "  </clipPath>\n",
       "</defs>\n",
       "<polyline clip-path=\"url(#clip582)\" style=\"stroke:#000000; stroke-linecap:round; stroke-linejoin:round; stroke-width:2; stroke-opacity:0.1; fill:none\" points=\"\n",
       "  529.951,1423.18 529.951,47.2441 \n",
       "  \"/>\n",
       "<polyline clip-path=\"url(#clip582)\" style=\"stroke:#000000; stroke-linecap:round; stroke-linejoin:round; stroke-width:2; stroke-opacity:0.1; fill:none\" points=\"\n",
       "  970.774,1423.18 970.774,47.2441 \n",
       "  \"/>\n",
       "<polyline clip-path=\"url(#clip582)\" style=\"stroke:#000000; stroke-linecap:round; stroke-linejoin:round; stroke-width:2; stroke-opacity:0.1; fill:none\" points=\"\n",
       "  1411.6,1423.18 1411.6,47.2441 \n",
       "  \"/>\n",
       "<polyline clip-path=\"url(#clip582)\" style=\"stroke:#000000; stroke-linecap:round; stroke-linejoin:round; stroke-width:2; stroke-opacity:0.1; fill:none\" points=\"\n",
       "  1852.42,1423.18 1852.42,47.2441 \n",
       "  \"/>\n",
       "<polyline clip-path=\"url(#clip582)\" style=\"stroke:#000000; stroke-linecap:round; stroke-linejoin:round; stroke-width:2; stroke-opacity:0.1; fill:none\" points=\"\n",
       "  2293.24,1423.18 2293.24,47.2441 \n",
       "  \"/>\n",
       "<polyline clip-path=\"url(#clip580)\" style=\"stroke:#000000; stroke-linecap:round; stroke-linejoin:round; stroke-width:4; stroke-opacity:1; fill:none\" points=\"\n",
       "  250.028,1423.18 2352.76,1423.18 \n",
       "  \"/>\n",
       "<polyline clip-path=\"url(#clip580)\" style=\"stroke:#000000; stroke-linecap:round; stroke-linejoin:round; stroke-width:4; stroke-opacity:1; fill:none\" points=\"\n",
       "  529.951,1423.18 529.951,1404.28 \n",
       "  \"/>\n",
       "<polyline clip-path=\"url(#clip580)\" style=\"stroke:#000000; stroke-linecap:round; stroke-linejoin:round; stroke-width:4; stroke-opacity:1; fill:none\" points=\"\n",
       "  970.774,1423.18 970.774,1404.28 \n",
       "  \"/>\n",
       "<polyline clip-path=\"url(#clip580)\" style=\"stroke:#000000; stroke-linecap:round; stroke-linejoin:round; stroke-width:4; stroke-opacity:1; fill:none\" points=\"\n",
       "  1411.6,1423.18 1411.6,1404.28 \n",
       "  \"/>\n",
       "<polyline clip-path=\"url(#clip580)\" style=\"stroke:#000000; stroke-linecap:round; stroke-linejoin:round; stroke-width:4; stroke-opacity:1; fill:none\" points=\"\n",
       "  1852.42,1423.18 1852.42,1404.28 \n",
       "  \"/>\n",
       "<polyline clip-path=\"url(#clip580)\" style=\"stroke:#000000; stroke-linecap:round; stroke-linejoin:round; stroke-width:4; stroke-opacity:1; fill:none\" points=\"\n",
       "  2293.24,1423.18 2293.24,1404.28 \n",
       "  \"/>\n",
       "<path clip-path=\"url(#clip580)\" d=\"M493.643 1481.64 L509.963 1481.64 L509.963 1485.58 L488.018 1485.58 L488.018 1481.64 Q490.68 1478.89 495.264 1474.26 Q499.87 1469.61 501.051 1468.27 Q503.296 1465.74 504.176 1464.01 Q505.078 1462.25 505.078 1460.56 Q505.078 1457.8 503.134 1456.07 Q501.213 1454.33 498.111 1454.33 Q495.912 1454.33 493.458 1455.09 Q491.028 1455.86 488.25 1457.41 L488.25 1452.69 Q491.074 1451.55 493.528 1450.97 Q495.981 1450.39 498.018 1450.39 Q503.389 1450.39 506.583 1453.08 Q509.778 1455.77 509.778 1460.26 Q509.778 1462.39 508.967 1464.31 Q508.18 1466.2 506.074 1468.8 Q505.495 1469.47 502.393 1472.69 Q499.291 1475.88 493.643 1481.64 Z\" fill=\"#000000\" fill-rule=\"evenodd\" fill-opacity=\"1\" /><path clip-path=\"url(#clip580)\" d=\"M529.777 1454.1 Q526.166 1454.1 524.338 1457.66 Q522.532 1461.2 522.532 1468.33 Q522.532 1475.44 524.338 1479.01 Q526.166 1482.55 529.777 1482.55 Q533.412 1482.55 535.217 1479.01 Q537.046 1475.44 537.046 1468.33 Q537.046 1461.2 535.217 1457.66 Q533.412 1454.1 529.777 1454.1 M529.777 1450.39 Q535.588 1450.39 538.643 1455 Q541.722 1459.58 541.722 1468.33 Q541.722 1477.06 538.643 1481.67 Q535.588 1486.25 529.777 1486.25 Q523.967 1486.25 520.889 1481.67 Q517.833 1477.06 517.833 1468.33 Q517.833 1459.58 520.889 1455 Q523.967 1450.39 529.777 1450.39 Z\" fill=\"#000000\" fill-rule=\"evenodd\" fill-opacity=\"1\" /><path clip-path=\"url(#clip580)\" d=\"M559.939 1454.1 Q556.328 1454.1 554.499 1457.66 Q552.694 1461.2 552.694 1468.33 Q552.694 1475.44 554.499 1479.01 Q556.328 1482.55 559.939 1482.55 Q563.574 1482.55 565.379 1479.01 Q567.208 1475.44 567.208 1468.33 Q567.208 1461.2 565.379 1457.66 Q563.574 1454.1 559.939 1454.1 M559.939 1450.39 Q565.749 1450.39 568.805 1455 Q571.884 1459.58 571.884 1468.33 Q571.884 1477.06 568.805 1481.67 Q565.749 1486.25 559.939 1486.25 Q554.129 1486.25 551.05 1481.67 Q547.995 1477.06 547.995 1468.33 Q547.995 1459.58 551.05 1455 Q554.129 1450.39 559.939 1450.39 Z\" fill=\"#000000\" fill-rule=\"evenodd\" fill-opacity=\"1\" /><path clip-path=\"url(#clip580)\" d=\"M943.865 1455.09 L932.059 1473.54 L943.865 1473.54 L943.865 1455.09 M942.638 1451.02 L948.518 1451.02 L948.518 1473.54 L953.448 1473.54 L953.448 1477.43 L948.518 1477.43 L948.518 1485.58 L943.865 1485.58 L943.865 1477.43 L928.263 1477.43 L928.263 1472.92 L942.638 1451.02 Z\" fill=\"#000000\" fill-rule=\"evenodd\" fill-opacity=\"1\" /><path clip-path=\"url(#clip580)\" d=\"M971.18 1454.1 Q967.568 1454.1 965.74 1457.66 Q963.934 1461.2 963.934 1468.33 Q963.934 1475.44 965.74 1479.01 Q967.568 1482.55 971.18 1482.55 Q974.814 1482.55 976.619 1479.01 Q978.448 1475.44 978.448 1468.33 Q978.448 1461.2 976.619 1457.66 Q974.814 1454.1 971.18 1454.1 M971.18 1450.39 Q976.99 1450.39 980.045 1455 Q983.124 1459.58 983.124 1468.33 Q983.124 1477.06 980.045 1481.67 Q976.99 1486.25 971.18 1486.25 Q965.369 1486.25 962.291 1481.67 Q959.235 1477.06 959.235 1468.33 Q959.235 1459.58 962.291 1455 Q965.369 1450.39 971.18 1450.39 Z\" fill=\"#000000\" fill-rule=\"evenodd\" fill-opacity=\"1\" /><path clip-path=\"url(#clip580)\" d=\"M1001.34 1454.1 Q997.73 1454.1 995.902 1457.66 Q994.096 1461.2 994.096 1468.33 Q994.096 1475.44 995.902 1479.01 Q997.73 1482.55 1001.34 1482.55 Q1004.98 1482.55 1006.78 1479.01 Q1008.61 1475.44 1008.61 1468.33 Q1008.61 1461.2 1006.78 1457.66 Q1004.98 1454.1 1001.34 1454.1 M1001.34 1450.39 Q1007.15 1450.39 1010.21 1455 Q1013.29 1459.58 1013.29 1468.33 Q1013.29 1477.06 1010.21 1481.67 Q1007.15 1486.25 1001.34 1486.25 Q995.531 1486.25 992.453 1481.67 Q989.397 1477.06 989.397 1468.33 Q989.397 1459.58 992.453 1455 Q995.531 1450.39 1001.34 1450.39 Z\" fill=\"#000000\" fill-rule=\"evenodd\" fill-opacity=\"1\" /><path clip-path=\"url(#clip580)\" d=\"M1381.92 1466.44 Q1378.77 1466.44 1376.92 1468.59 Q1375.09 1470.74 1375.09 1474.49 Q1375.09 1478.22 1376.92 1480.39 Q1378.77 1482.55 1381.92 1482.55 Q1385.07 1482.55 1386.9 1480.39 Q1388.75 1478.22 1388.75 1474.49 Q1388.75 1470.74 1386.9 1468.59 Q1385.07 1466.44 1381.92 1466.44 M1391.2 1451.78 L1391.2 1456.04 Q1389.45 1455.21 1387.64 1454.77 Q1385.86 1454.33 1384.1 1454.33 Q1379.47 1454.33 1377.01 1457.45 Q1374.58 1460.58 1374.24 1466.9 Q1375.6 1464.89 1377.66 1463.82 Q1379.72 1462.73 1382.2 1462.73 Q1387.41 1462.73 1390.42 1465.9 Q1393.45 1469.05 1393.45 1474.49 Q1393.45 1479.82 1390.3 1483.03 Q1387.15 1486.25 1381.92 1486.25 Q1375.93 1486.25 1372.76 1481.67 Q1369.58 1477.06 1369.58 1468.33 Q1369.58 1460.14 1373.47 1455.28 Q1377.36 1450.39 1383.91 1450.39 Q1385.67 1450.39 1387.45 1450.74 Q1389.26 1451.09 1391.2 1451.78 Z\" fill=\"#000000\" fill-rule=\"evenodd\" fill-opacity=\"1\" /><path clip-path=\"url(#clip580)\" d=\"M1411.51 1454.1 Q1407.89 1454.1 1406.07 1457.66 Q1404.26 1461.2 1404.26 1468.33 Q1404.26 1475.44 1406.07 1479.01 Q1407.89 1482.55 1411.51 1482.55 Q1415.14 1482.55 1416.95 1479.01 Q1418.77 1475.44 1418.77 1468.33 Q1418.77 1461.2 1416.95 1457.66 Q1415.14 1454.1 1411.51 1454.1 M1411.51 1450.39 Q1417.32 1450.39 1420.37 1455 Q1423.45 1459.58 1423.45 1468.33 Q1423.45 1477.06 1420.37 1481.67 Q1417.32 1486.25 1411.51 1486.25 Q1405.7 1486.25 1402.62 1481.67 Q1399.56 1477.06 1399.56 1468.33 Q1399.56 1459.58 1402.62 1455 Q1405.7 1450.39 1411.51 1450.39 Z\" fill=\"#000000\" fill-rule=\"evenodd\" fill-opacity=\"1\" /><path clip-path=\"url(#clip580)\" d=\"M1441.67 1454.1 Q1438.06 1454.1 1436.23 1457.66 Q1434.42 1461.2 1434.42 1468.33 Q1434.42 1475.44 1436.23 1479.01 Q1438.06 1482.55 1441.67 1482.55 Q1445.3 1482.55 1447.11 1479.01 Q1448.94 1475.44 1448.94 1468.33 Q1448.94 1461.2 1447.11 1457.66 Q1445.3 1454.1 1441.67 1454.1 M1441.67 1450.39 Q1447.48 1450.39 1450.53 1455 Q1453.61 1459.58 1453.61 1468.33 Q1453.61 1477.06 1450.53 1481.67 Q1447.48 1486.25 1441.67 1486.25 Q1435.86 1486.25 1432.78 1481.67 Q1429.72 1477.06 1429.72 1468.33 Q1429.72 1459.58 1432.78 1455 Q1435.86 1450.39 1441.67 1450.39 Z\" fill=\"#000000\" fill-rule=\"evenodd\" fill-opacity=\"1\" /><path clip-path=\"url(#clip580)\" d=\"M1822.21 1469.17 Q1818.88 1469.17 1816.96 1470.95 Q1815.06 1472.73 1815.06 1475.86 Q1815.06 1478.98 1816.96 1480.77 Q1818.88 1482.55 1822.21 1482.55 Q1825.55 1482.55 1827.47 1480.77 Q1829.39 1478.96 1829.39 1475.86 Q1829.39 1472.73 1827.47 1470.95 Q1825.57 1469.17 1822.21 1469.17 M1817.54 1467.18 Q1814.53 1466.44 1812.84 1464.38 Q1811.17 1462.32 1811.17 1459.35 Q1811.17 1455.21 1814.11 1452.8 Q1817.07 1450.39 1822.21 1450.39 Q1827.38 1450.39 1830.31 1452.8 Q1833.25 1455.21 1833.25 1459.35 Q1833.25 1462.32 1831.56 1464.38 Q1829.9 1466.44 1826.91 1467.18 Q1830.29 1467.96 1832.17 1470.26 Q1834.06 1472.55 1834.06 1475.86 Q1834.06 1480.88 1830.99 1483.57 Q1827.93 1486.25 1822.21 1486.25 Q1816.5 1486.25 1813.42 1483.57 Q1810.36 1480.88 1810.36 1475.86 Q1810.36 1472.55 1812.26 1470.26 Q1814.16 1467.96 1817.54 1467.18 M1815.82 1459.79 Q1815.82 1462.48 1817.49 1463.98 Q1819.18 1465.49 1822.21 1465.49 Q1825.22 1465.49 1826.91 1463.98 Q1828.63 1462.48 1828.63 1459.79 Q1828.63 1457.11 1826.91 1455.6 Q1825.22 1454.1 1822.21 1454.1 Q1819.18 1454.1 1817.49 1455.6 Q1815.82 1457.11 1815.82 1459.79 Z\" fill=\"#000000\" fill-rule=\"evenodd\" fill-opacity=\"1\" /><path clip-path=\"url(#clip580)\" d=\"M1852.38 1454.1 Q1848.76 1454.1 1846.94 1457.66 Q1845.13 1461.2 1845.13 1468.33 Q1845.13 1475.44 1846.94 1479.01 Q1848.76 1482.55 1852.38 1482.55 Q1856.01 1482.55 1857.81 1479.01 Q1859.64 1475.44 1859.64 1468.33 Q1859.64 1461.2 1857.81 1457.66 Q1856.01 1454.1 1852.38 1454.1 M1852.38 1450.39 Q1858.19 1450.39 1861.24 1455 Q1864.32 1459.58 1864.32 1468.33 Q1864.32 1477.06 1861.24 1481.67 Q1858.19 1486.25 1852.38 1486.25 Q1846.56 1486.25 1843.49 1481.67 Q1840.43 1477.06 1840.43 1468.33 Q1840.43 1459.58 1843.49 1455 Q1846.56 1450.39 1852.38 1450.39 Z\" fill=\"#000000\" fill-rule=\"evenodd\" fill-opacity=\"1\" /><path clip-path=\"url(#clip580)\" d=\"M1882.54 1454.1 Q1878.93 1454.1 1877.1 1457.66 Q1875.29 1461.2 1875.29 1468.33 Q1875.29 1475.44 1877.1 1479.01 Q1878.93 1482.55 1882.54 1482.55 Q1886.17 1482.55 1887.98 1479.01 Q1889.81 1475.44 1889.81 1468.33 Q1889.81 1461.2 1887.98 1457.66 Q1886.17 1454.1 1882.54 1454.1 M1882.54 1450.39 Q1888.35 1450.39 1891.4 1455 Q1894.48 1459.58 1894.48 1468.33 Q1894.48 1477.06 1891.4 1481.67 Q1888.35 1486.25 1882.54 1486.25 Q1876.73 1486.25 1873.65 1481.67 Q1870.59 1477.06 1870.59 1468.33 Q1870.59 1459.58 1873.65 1455 Q1876.73 1450.39 1882.54 1450.39 Z\" fill=\"#000000\" fill-rule=\"evenodd\" fill-opacity=\"1\" /><path clip-path=\"url(#clip580)\" d=\"M2237.77 1481.64 L2245.41 1481.64 L2245.41 1455.28 L2237.1 1456.95 L2237.1 1452.69 L2245.36 1451.02 L2250.04 1451.02 L2250.04 1481.64 L2257.68 1481.64 L2257.68 1485.58 L2237.77 1485.58 L2237.77 1481.64 Z\" fill=\"#000000\" fill-rule=\"evenodd\" fill-opacity=\"1\" /><path clip-path=\"url(#clip580)\" d=\"M2277.12 1454.1 Q2273.51 1454.1 2271.68 1457.66 Q2269.88 1461.2 2269.88 1468.33 Q2269.88 1475.44 2271.68 1479.01 Q2273.51 1482.55 2277.12 1482.55 Q2280.76 1482.55 2282.56 1479.01 Q2284.39 1475.44 2284.39 1468.33 Q2284.39 1461.2 2282.56 1457.66 Q2280.76 1454.1 2277.12 1454.1 M2277.12 1450.39 Q2282.93 1450.39 2285.99 1455 Q2289.07 1459.58 2289.07 1468.33 Q2289.07 1477.06 2285.99 1481.67 Q2282.93 1486.25 2277.12 1486.25 Q2271.31 1486.25 2268.23 1481.67 Q2265.18 1477.06 2265.18 1468.33 Q2265.18 1459.58 2268.23 1455 Q2271.31 1450.39 2277.12 1450.39 Z\" fill=\"#000000\" fill-rule=\"evenodd\" fill-opacity=\"1\" /><path clip-path=\"url(#clip580)\" d=\"M2307.28 1454.1 Q2303.67 1454.1 2301.84 1457.66 Q2300.04 1461.2 2300.04 1468.33 Q2300.04 1475.44 2301.84 1479.01 Q2303.67 1482.55 2307.28 1482.55 Q2310.92 1482.55 2312.72 1479.01 Q2314.55 1475.44 2314.55 1468.33 Q2314.55 1461.2 2312.72 1457.66 Q2310.92 1454.1 2307.28 1454.1 M2307.28 1450.39 Q2313.09 1450.39 2316.15 1455 Q2319.23 1459.58 2319.23 1468.33 Q2319.23 1477.06 2316.15 1481.67 Q2313.09 1486.25 2307.28 1486.25 Q2301.47 1486.25 2298.4 1481.67 Q2295.34 1477.06 2295.34 1468.33 Q2295.34 1459.58 2298.4 1455 Q2301.47 1450.39 2307.28 1450.39 Z\" fill=\"#000000\" fill-rule=\"evenodd\" fill-opacity=\"1\" /><path clip-path=\"url(#clip580)\" d=\"M2337.45 1454.1 Q2333.83 1454.1 2332.01 1457.66 Q2330.2 1461.2 2330.2 1468.33 Q2330.2 1475.44 2332.01 1479.01 Q2333.83 1482.55 2337.45 1482.55 Q2341.08 1482.55 2342.89 1479.01 Q2344.71 1475.44 2344.71 1468.33 Q2344.71 1461.2 2342.89 1457.66 Q2341.08 1454.1 2337.45 1454.1 M2337.45 1450.39 Q2343.26 1450.39 2346.31 1455 Q2349.39 1459.58 2349.39 1468.33 Q2349.39 1477.06 2346.31 1481.67 Q2343.26 1486.25 2337.45 1486.25 Q2331.64 1486.25 2328.56 1481.67 Q2325.5 1477.06 2325.5 1468.33 Q2325.5 1459.58 2328.56 1455 Q2331.64 1450.39 2337.45 1450.39 Z\" fill=\"#000000\" fill-rule=\"evenodd\" fill-opacity=\"1\" /><path clip-path=\"url(#clip580)\" d=\"M1151.05 1545.35 L1151.05 1562.76 L1161.36 1562.76 Q1166.55 1562.76 1169.03 1560.63 Q1171.55 1558.46 1171.55 1554.04 Q1171.55 1549.58 1169.03 1547.48 Q1166.55 1545.35 1161.36 1545.35 L1151.05 1545.35 M1151.05 1525.81 L1151.05 1540.13 L1160.57 1540.13 Q1165.28 1540.13 1167.57 1538.38 Q1169.89 1536.6 1169.89 1532.97 Q1169.89 1529.37 1167.57 1527.59 Q1165.28 1525.81 1160.57 1525.81 L1151.05 1525.81 M1144.62 1520.52 L1161.04 1520.52 Q1168.4 1520.52 1172.38 1523.58 Q1176.35 1526.63 1176.35 1532.27 Q1176.35 1536.63 1174.32 1539.21 Q1172.28 1541.79 1168.33 1542.42 Q1173.08 1543.44 1175.69 1546.69 Q1178.33 1549.9 1178.33 1554.74 Q1178.33 1561.11 1174 1564.57 Q1169.67 1568.04 1161.68 1568.04 L1144.62 1568.04 L1144.62 1520.52 Z\" fill=\"#000000\" fill-rule=\"evenodd\" fill-opacity=\"1\" /><path clip-path=\"url(#clip580)\" d=\"M1189.09 1518.52 L1194.94 1518.52 L1194.94 1568.04 L1189.09 1568.04 L1189.09 1518.52 Z\" fill=\"#000000\" fill-rule=\"evenodd\" fill-opacity=\"1\" /><path clip-path=\"url(#clip580)\" d=\"M1221.01 1536.5 Q1216.3 1536.5 1213.56 1540.19 Q1210.82 1543.85 1210.82 1550.25 Q1210.82 1556.65 1213.53 1560.34 Q1216.27 1564 1221.01 1564 Q1225.69 1564 1228.43 1560.31 Q1231.16 1556.62 1231.16 1550.25 Q1231.16 1543.92 1228.43 1540.23 Q1225.69 1536.5 1221.01 1536.5 M1221.01 1531.54 Q1228.65 1531.54 1233.01 1536.5 Q1237.37 1541.47 1237.37 1550.25 Q1237.37 1559 1233.01 1564 Q1228.65 1568.97 1221.01 1568.97 Q1213.34 1568.97 1208.98 1564 Q1204.65 1559 1204.65 1550.25 Q1204.65 1541.47 1208.98 1536.5 Q1213.34 1531.54 1221.01 1531.54 Z\" fill=\"#000000\" fill-rule=\"evenodd\" fill-opacity=\"1\" /><path clip-path=\"url(#clip580)\" d=\"M1272.73 1533.76 L1272.73 1539.24 Q1270.25 1537.87 1267.73 1537.2 Q1265.25 1536.5 1262.7 1536.5 Q1257.01 1536.5 1253.86 1540.13 Q1250.71 1543.73 1250.71 1550.25 Q1250.71 1556.78 1253.86 1560.4 Q1257.01 1564 1262.7 1564 Q1265.25 1564 1267.73 1563.33 Q1270.25 1562.63 1272.73 1561.26 L1272.73 1566.68 Q1270.28 1567.82 1267.64 1568.39 Q1265.03 1568.97 1262.07 1568.97 Q1254.02 1568.97 1249.27 1563.91 Q1244.53 1558.85 1244.53 1550.25 Q1244.53 1541.53 1249.3 1536.53 Q1254.11 1531.54 1262.45 1531.54 Q1265.16 1531.54 1267.73 1532.11 Q1270.31 1532.65 1272.73 1533.76 Z\" fill=\"#000000\" fill-rule=\"evenodd\" fill-opacity=\"1\" /><path clip-path=\"url(#clip580)\" d=\"M1282.69 1518.52 L1288.58 1518.52 L1288.58 1547.77 L1306.05 1532.4 L1313.53 1532.4 L1294.63 1549.07 L1314.33 1568.04 L1306.69 1568.04 L1288.58 1550.63 L1288.58 1568.04 L1282.69 1568.04 L1282.69 1518.52 Z\" fill=\"#000000\" fill-rule=\"evenodd\" fill-opacity=\"1\" /><path clip-path=\"url(#clip580)\" d=\"M1364.11 1533.45 L1364.11 1538.98 Q1361.63 1537.71 1358.95 1537.07 Q1356.28 1536.44 1353.42 1536.44 Q1349.06 1536.44 1346.86 1537.77 Q1344.69 1539.11 1344.69 1541.79 Q1344.69 1543.82 1346.25 1545 Q1347.81 1546.15 1352.52 1547.2 L1354.53 1547.64 Q1360.77 1548.98 1363.38 1551.43 Q1366.02 1553.85 1366.02 1558.21 Q1366.02 1563.17 1362.07 1566.07 Q1358.16 1568.97 1351.28 1568.97 Q1348.42 1568.97 1345.3 1568.39 Q1342.21 1567.85 1338.77 1566.74 L1338.77 1560.69 Q1342.02 1562.38 1345.17 1563.24 Q1348.32 1564.07 1351.41 1564.07 Q1355.55 1564.07 1357.78 1562.66 Q1360 1561.23 1360 1558.65 Q1360 1556.27 1358.38 1554.99 Q1356.79 1553.72 1351.35 1552.54 L1349.31 1552.07 Q1343.87 1550.92 1341.45 1548.56 Q1339.03 1546.18 1339.03 1542.04 Q1339.03 1537.01 1342.59 1534.27 Q1346.16 1531.54 1352.72 1531.54 Q1355.96 1531.54 1358.83 1532.01 Q1361.69 1532.49 1364.11 1533.45 Z\" fill=\"#000000\" fill-rule=\"evenodd\" fill-opacity=\"1\" /><path clip-path=\"url(#clip580)\" d=\"M1375.35 1532.4 L1381.2 1532.4 L1381.2 1568.04 L1375.35 1568.04 L1375.35 1532.4 M1375.35 1518.52 L1381.2 1518.52 L1381.2 1525.93 L1375.35 1525.93 L1375.35 1518.52 Z\" fill=\"#000000\" fill-rule=\"evenodd\" fill-opacity=\"1\" /><path clip-path=\"url(#clip580)\" d=\"M1390.91 1532.4 L1418.73 1532.4 L1418.73 1537.74 L1396.7 1563.37 L1418.73 1563.37 L1418.73 1568.04 L1390.11 1568.04 L1390.11 1562.7 L1412.14 1537.07 L1390.91 1537.07 L1390.91 1532.4 Z\" fill=\"#000000\" fill-rule=\"evenodd\" fill-opacity=\"1\" /><path clip-path=\"url(#clip580)\" d=\"M1458.16 1548.76 L1458.16 1551.62 L1431.24 1551.62 Q1431.62 1557.67 1434.86 1560.85 Q1438.14 1564 1443.97 1564 Q1447.34 1564 1450.49 1563.17 Q1453.68 1562.35 1456.79 1560.69 L1456.79 1566.23 Q1453.64 1567.57 1450.33 1568.27 Q1447.02 1568.97 1443.62 1568.97 Q1435.09 1568.97 1430.09 1564 Q1425.13 1559.04 1425.13 1550.57 Q1425.13 1541.82 1429.84 1536.69 Q1434.58 1531.54 1442.6 1531.54 Q1449.79 1531.54 1453.96 1536.18 Q1458.16 1540.8 1458.16 1548.76 M1452.31 1547.04 Q1452.24 1542.23 1449.6 1539.37 Q1446.99 1536.5 1442.66 1536.5 Q1437.76 1536.5 1434.8 1539.27 Q1431.87 1542.04 1431.43 1547.07 L1452.31 1547.04 Z\" fill=\"#000000\" fill-rule=\"evenodd\" fill-opacity=\"1\" /><polyline clip-path=\"url(#clip582)\" style=\"stroke:#000000; stroke-linecap:round; stroke-linejoin:round; stroke-width:2; stroke-opacity:0.1; fill:none\" points=\"\n",
       "  250.028,1389.19 2352.76,1389.19 \n",
       "  \"/>\n",
       "<polyline clip-path=\"url(#clip582)\" style=\"stroke:#000000; stroke-linecap:round; stroke-linejoin:round; stroke-width:2; stroke-opacity:0.1; fill:none\" points=\"\n",
       "  250.028,1070.11 2352.76,1070.11 \n",
       "  \"/>\n",
       "<polyline clip-path=\"url(#clip582)\" style=\"stroke:#000000; stroke-linecap:round; stroke-linejoin:round; stroke-width:2; stroke-opacity:0.1; fill:none\" points=\"\n",
       "  250.028,751.022 2352.76,751.022 \n",
       "  \"/>\n",
       "<polyline clip-path=\"url(#clip582)\" style=\"stroke:#000000; stroke-linecap:round; stroke-linejoin:round; stroke-width:2; stroke-opacity:0.1; fill:none\" points=\"\n",
       "  250.028,431.937 2352.76,431.937 \n",
       "  \"/>\n",
       "<polyline clip-path=\"url(#clip582)\" style=\"stroke:#000000; stroke-linecap:round; stroke-linejoin:round; stroke-width:2; stroke-opacity:0.1; fill:none\" points=\"\n",
       "  250.028,112.852 2352.76,112.852 \n",
       "  \"/>\n",
       "<polyline clip-path=\"url(#clip580)\" style=\"stroke:#000000; stroke-linecap:round; stroke-linejoin:round; stroke-width:4; stroke-opacity:1; fill:none\" points=\"\n",
       "  250.028,1423.18 250.028,47.2441 \n",
       "  \"/>\n",
       "<polyline clip-path=\"url(#clip580)\" style=\"stroke:#000000; stroke-linecap:round; stroke-linejoin:round; stroke-width:4; stroke-opacity:1; fill:none\" points=\"\n",
       "  250.028,1389.19 268.926,1389.19 \n",
       "  \"/>\n",
       "<polyline clip-path=\"url(#clip580)\" style=\"stroke:#000000; stroke-linecap:round; stroke-linejoin:round; stroke-width:4; stroke-opacity:1; fill:none\" points=\"\n",
       "  250.028,1070.11 268.926,1070.11 \n",
       "  \"/>\n",
       "<polyline clip-path=\"url(#clip580)\" style=\"stroke:#000000; stroke-linecap:round; stroke-linejoin:round; stroke-width:4; stroke-opacity:1; fill:none\" points=\"\n",
       "  250.028,751.022 268.926,751.022 \n",
       "  \"/>\n",
       "<polyline clip-path=\"url(#clip580)\" style=\"stroke:#000000; stroke-linecap:round; stroke-linejoin:round; stroke-width:4; stroke-opacity:1; fill:none\" points=\"\n",
       "  250.028,431.937 268.926,431.937 \n",
       "  \"/>\n",
       "<polyline clip-path=\"url(#clip580)\" style=\"stroke:#000000; stroke-linecap:round; stroke-linejoin:round; stroke-width:4; stroke-opacity:1; fill:none\" points=\"\n",
       "  250.028,112.852 268.926,112.852 \n",
       "  \"/>\n",
       "<path clip-path=\"url(#clip580)\" d=\"M126.529 1374.99 Q122.918 1374.99 121.089 1378.56 Q119.283 1382.1 119.283 1389.23 Q119.283 1396.33 121.089 1399.9 Q122.918 1403.44 126.529 1403.44 Q130.163 1403.44 131.968 1399.9 Q133.797 1396.33 133.797 1389.23 Q133.797 1382.1 131.968 1378.56 Q130.163 1374.99 126.529 1374.99 M126.529 1371.29 Q132.339 1371.29 135.394 1375.89 Q138.473 1380.48 138.473 1389.23 Q138.473 1397.95 135.394 1402.56 Q132.339 1407.14 126.529 1407.14 Q120.718 1407.14 117.64 1402.56 Q114.584 1397.95 114.584 1389.23 Q114.584 1380.48 117.64 1375.89 Q120.718 1371.29 126.529 1371.29 Z\" fill=\"#000000\" fill-rule=\"evenodd\" fill-opacity=\"1\" /><path clip-path=\"url(#clip580)\" d=\"M146.691 1400.59 L151.575 1400.59 L151.575 1406.47 L146.691 1406.47 L146.691 1400.59 Z\" fill=\"#000000\" fill-rule=\"evenodd\" fill-opacity=\"1\" /><path clip-path=\"url(#clip580)\" d=\"M174.607 1375.99 L162.802 1394.43 L174.607 1394.43 L174.607 1375.99 M173.38 1371.91 L179.26 1371.91 L179.26 1394.43 L184.19 1394.43 L184.19 1398.32 L179.26 1398.32 L179.26 1406.47 L174.607 1406.47 L174.607 1398.32 L159.005 1398.32 L159.005 1393.81 L173.38 1371.91 Z\" fill=\"#000000\" fill-rule=\"evenodd\" fill-opacity=\"1\" /><path clip-path=\"url(#clip580)\" d=\"M202.5 1387.33 Q199.352 1387.33 197.5 1389.48 Q195.672 1391.63 195.672 1395.38 Q195.672 1399.11 197.5 1401.29 Q199.352 1403.44 202.5 1403.44 Q205.649 1403.44 207.477 1401.29 Q209.329 1399.11 209.329 1395.38 Q209.329 1391.63 207.477 1389.48 Q205.649 1387.33 202.5 1387.33 M211.783 1372.68 L211.783 1376.93 Q210.024 1376.1 208.218 1375.66 Q206.436 1375.22 204.676 1375.22 Q200.047 1375.22 197.593 1378.35 Q195.163 1381.47 194.815 1387.79 Q196.181 1385.78 198.241 1384.71 Q200.301 1383.62 202.778 1383.62 Q207.987 1383.62 210.996 1386.8 Q214.028 1389.94 214.028 1395.38 Q214.028 1400.71 210.88 1403.93 Q207.732 1407.14 202.5 1407.14 Q196.505 1407.14 193.334 1402.56 Q190.163 1397.95 190.163 1389.23 Q190.163 1381.03 194.051 1376.17 Q197.94 1371.29 204.491 1371.29 Q206.25 1371.29 208.033 1371.63 Q209.838 1371.98 211.783 1372.68 Z\" fill=\"#000000\" fill-rule=\"evenodd\" fill-opacity=\"1\" /><path clip-path=\"url(#clip580)\" d=\"M126.783 1055.91 Q123.172 1055.91 121.343 1059.47 Q119.538 1063.01 119.538 1070.14 Q119.538 1077.25 121.343 1080.81 Q123.172 1084.35 126.783 1084.35 Q130.417 1084.35 132.223 1080.81 Q134.052 1077.25 134.052 1070.14 Q134.052 1063.01 132.223 1059.47 Q130.417 1055.91 126.783 1055.91 M126.783 1052.2 Q132.593 1052.2 135.649 1056.81 Q138.728 1061.39 138.728 1070.14 Q138.728 1078.87 135.649 1083.47 Q132.593 1088.06 126.783 1088.06 Q120.973 1088.06 117.894 1083.47 Q114.839 1078.87 114.839 1070.14 Q114.839 1061.39 117.894 1056.81 Q120.973 1052.2 126.783 1052.2 Z\" fill=\"#000000\" fill-rule=\"evenodd\" fill-opacity=\"1\" /><path clip-path=\"url(#clip580)\" d=\"M146.945 1081.51 L151.829 1081.51 L151.829 1087.39 L146.945 1087.39 L146.945 1081.51 Z\" fill=\"#000000\" fill-rule=\"evenodd\" fill-opacity=\"1\" /><path clip-path=\"url(#clip580)\" d=\"M174.862 1056.9 L163.056 1075.35 L174.862 1075.35 L174.862 1056.9 M173.635 1052.83 L179.514 1052.83 L179.514 1075.35 L184.445 1075.35 L184.445 1079.24 L179.514 1079.24 L179.514 1087.39 L174.862 1087.39 L174.862 1079.24 L159.26 1079.24 L159.26 1074.72 L173.635 1052.83 Z\" fill=\"#000000\" fill-rule=\"evenodd\" fill-opacity=\"1\" /><path clip-path=\"url(#clip580)\" d=\"M202.176 1070.97 Q198.843 1070.97 196.922 1072.76 Q195.024 1074.54 195.024 1077.66 Q195.024 1080.79 196.922 1082.57 Q198.843 1084.35 202.176 1084.35 Q205.51 1084.35 207.431 1082.57 Q209.352 1080.77 209.352 1077.66 Q209.352 1074.54 207.431 1072.76 Q205.533 1070.97 202.176 1070.97 M197.5 1068.98 Q194.491 1068.24 192.801 1066.18 Q191.135 1064.12 191.135 1061.16 Q191.135 1057.02 194.075 1054.61 Q197.037 1052.2 202.176 1052.2 Q207.338 1052.2 210.278 1054.61 Q213.218 1057.02 213.218 1061.16 Q213.218 1064.12 211.528 1066.18 Q209.861 1068.24 206.875 1068.98 Q210.255 1069.77 212.13 1072.06 Q214.028 1074.35 214.028 1077.66 Q214.028 1082.69 210.949 1085.37 Q207.894 1088.06 202.176 1088.06 Q196.459 1088.06 193.38 1085.37 Q190.325 1082.69 190.325 1077.66 Q190.325 1074.35 192.223 1072.06 Q194.121 1069.77 197.5 1068.98 M195.787 1061.6 Q195.787 1064.28 197.454 1065.79 Q199.144 1067.29 202.176 1067.29 Q205.186 1067.29 206.875 1065.79 Q208.588 1064.28 208.588 1061.6 Q208.588 1058.91 206.875 1057.41 Q205.186 1055.91 202.176 1055.91 Q199.144 1055.91 197.454 1057.41 Q195.787 1058.91 195.787 1061.6 Z\" fill=\"#000000\" fill-rule=\"evenodd\" fill-opacity=\"1\" /><path clip-path=\"url(#clip580)\" d=\"M126.691 736.821 Q123.08 736.821 121.251 740.385 Q119.445 743.927 119.445 751.057 Q119.445 758.163 121.251 761.728 Q123.08 765.269 126.691 765.269 Q130.325 765.269 132.13 761.728 Q133.959 758.163 133.959 751.057 Q133.959 743.927 132.13 740.385 Q130.325 736.821 126.691 736.821 M126.691 733.117 Q132.501 733.117 135.556 737.723 Q138.635 742.307 138.635 751.057 Q138.635 759.783 135.556 764.39 Q132.501 768.973 126.691 768.973 Q120.88 768.973 117.802 764.39 Q114.746 759.783 114.746 751.057 Q114.746 742.307 117.802 737.723 Q120.88 733.117 126.691 733.117 Z\" fill=\"#000000\" fill-rule=\"evenodd\" fill-opacity=\"1\" /><path clip-path=\"url(#clip580)\" d=\"M146.853 762.422 L151.737 762.422 L151.737 768.302 L146.853 768.302 L146.853 762.422 Z\" fill=\"#000000\" fill-rule=\"evenodd\" fill-opacity=\"1\" /><path clip-path=\"url(#clip580)\" d=\"M161.968 733.742 L180.325 733.742 L180.325 737.677 L166.251 737.677 L166.251 746.149 Q167.269 745.802 168.288 745.64 Q169.306 745.455 170.325 745.455 Q176.112 745.455 179.491 748.626 Q182.871 751.797 182.871 757.214 Q182.871 762.793 179.399 765.894 Q175.926 768.973 169.607 768.973 Q167.431 768.973 165.163 768.603 Q162.917 768.232 160.51 767.492 L160.51 762.793 Q162.593 763.927 164.815 764.482 Q167.038 765.038 169.514 765.038 Q173.519 765.038 175.857 762.932 Q178.195 760.825 178.195 757.214 Q178.195 753.603 175.857 751.496 Q173.519 749.39 169.514 749.39 Q167.64 749.39 165.765 749.807 Q163.913 750.223 161.968 751.103 L161.968 733.742 Z\" fill=\"#000000\" fill-rule=\"evenodd\" fill-opacity=\"1\" /><path clip-path=\"url(#clip580)\" d=\"M202.084 736.821 Q198.473 736.821 196.644 740.385 Q194.838 743.927 194.838 751.057 Q194.838 758.163 196.644 761.728 Q198.473 765.269 202.084 765.269 Q205.718 765.269 207.524 761.728 Q209.352 758.163 209.352 751.057 Q209.352 743.927 207.524 740.385 Q205.718 736.821 202.084 736.821 M202.084 733.117 Q207.894 733.117 210.949 737.723 Q214.028 742.307 214.028 751.057 Q214.028 759.783 210.949 764.39 Q207.894 768.973 202.084 768.973 Q196.274 768.973 193.195 764.39 Q190.139 759.783 190.139 751.057 Q190.139 742.307 193.195 737.723 Q196.274 733.117 202.084 733.117 Z\" fill=\"#000000\" fill-rule=\"evenodd\" fill-opacity=\"1\" /><path clip-path=\"url(#clip580)\" d=\"M128.288 417.736 Q124.677 417.736 122.848 421.3 Q121.043 424.842 121.043 431.972 Q121.043 439.078 122.848 442.643 Q124.677 446.185 128.288 446.185 Q131.922 446.185 133.728 442.643 Q135.556 439.078 135.556 431.972 Q135.556 424.842 133.728 421.3 Q131.922 417.736 128.288 417.736 M128.288 414.032 Q134.098 414.032 137.154 418.638 Q140.232 423.222 140.232 431.972 Q140.232 440.699 137.154 445.305 Q134.098 449.888 128.288 449.888 Q122.478 449.888 119.399 445.305 Q116.343 440.699 116.343 431.972 Q116.343 423.222 119.399 418.638 Q122.478 414.032 128.288 414.032 Z\" fill=\"#000000\" fill-rule=\"evenodd\" fill-opacity=\"1\" /><path clip-path=\"url(#clip580)\" d=\"M148.45 443.337 L153.334 443.337 L153.334 449.217 L148.45 449.217 L148.45 443.337 Z\" fill=\"#000000\" fill-rule=\"evenodd\" fill-opacity=\"1\" /><path clip-path=\"url(#clip580)\" d=\"M163.565 414.657 L181.922 414.657 L181.922 418.592 L167.848 418.592 L167.848 427.064 Q168.866 426.717 169.885 426.555 Q170.903 426.37 171.922 426.37 Q177.709 426.37 181.089 429.541 Q184.468 432.712 184.468 438.129 Q184.468 443.708 180.996 446.81 Q177.524 449.888 171.204 449.888 Q169.028 449.888 166.76 449.518 Q164.515 449.148 162.107 448.407 L162.107 443.708 Q164.19 444.842 166.413 445.398 Q168.635 445.953 171.112 445.953 Q175.116 445.953 177.454 443.847 Q179.792 441.74 179.792 438.129 Q179.792 434.518 177.454 432.412 Q175.116 430.305 171.112 430.305 Q169.237 430.305 167.362 430.722 Q165.51 431.138 163.565 432.018 L163.565 414.657 Z\" fill=\"#000000\" fill-rule=\"evenodd\" fill-opacity=\"1\" /><path clip-path=\"url(#clip580)\" d=\"M197.709 445.282 L214.028 445.282 L214.028 449.217 L192.084 449.217 L192.084 445.282 Q194.746 442.527 199.329 437.898 Q203.936 433.245 205.116 431.902 Q207.362 429.379 208.241 427.643 Q209.144 425.884 209.144 424.194 Q209.144 421.439 207.199 419.703 Q205.278 417.967 202.176 417.967 Q199.977 417.967 197.524 418.731 Q195.093 419.495 192.315 421.046 L192.315 416.324 Q195.139 415.189 197.593 414.611 Q200.047 414.032 202.084 414.032 Q207.454 414.032 210.649 416.717 Q213.843 419.402 213.843 423.893 Q213.843 426.023 213.033 427.944 Q212.246 429.842 210.139 432.435 Q209.561 433.106 206.459 436.324 Q203.357 439.518 197.709 445.282 Z\" fill=\"#000000\" fill-rule=\"evenodd\" fill-opacity=\"1\" /><path clip-path=\"url(#clip580)\" d=\"M126.205 98.6508 Q122.593 98.6508 120.765 102.216 Q118.959 105.757 118.959 112.887 Q118.959 119.993 120.765 123.558 Q122.593 127.1 126.205 127.1 Q129.839 127.1 131.644 123.558 Q133.473 119.993 133.473 112.887 Q133.473 105.757 131.644 102.216 Q129.839 98.6508 126.205 98.6508 M126.205 94.9471 Q132.015 94.9471 135.07 99.5536 Q138.149 104.137 138.149 112.887 Q138.149 121.614 135.07 126.22 Q132.015 130.803 126.205 130.803 Q120.394 130.803 117.316 126.22 Q114.26 121.614 114.26 112.887 Q114.26 104.137 117.316 99.5536 Q120.394 94.9471 126.205 94.9471 Z\" fill=\"#000000\" fill-rule=\"evenodd\" fill-opacity=\"1\" /><path clip-path=\"url(#clip580)\" d=\"M146.366 124.253 L151.251 124.253 L151.251 130.132 L146.366 130.132 L146.366 124.253 Z\" fill=\"#000000\" fill-rule=\"evenodd\" fill-opacity=\"1\" /><path clip-path=\"url(#clip580)\" d=\"M161.482 95.5721 L179.839 95.5721 L179.839 99.5073 L165.765 99.5073 L165.765 107.979 Q166.783 107.632 167.802 107.47 Q168.82 107.285 169.839 107.285 Q175.626 107.285 179.005 110.456 Q182.385 113.628 182.385 119.044 Q182.385 124.623 178.913 127.725 Q175.44 130.803 169.121 130.803 Q166.945 130.803 164.677 130.433 Q162.431 130.063 160.024 129.322 L160.024 124.623 Q162.107 125.757 164.329 126.313 Q166.552 126.868 169.028 126.868 Q173.033 126.868 175.371 124.762 Q177.709 122.655 177.709 119.044 Q177.709 115.433 175.371 113.327 Q173.033 111.22 169.028 111.22 Q167.153 111.22 165.278 111.637 Q163.427 112.053 161.482 112.933 L161.482 95.5721 Z\" fill=\"#000000\" fill-rule=\"evenodd\" fill-opacity=\"1\" /><path clip-path=\"url(#clip580)\" d=\"M204.445 99.6462 L192.639 118.095 L204.445 118.095 L204.445 99.6462 M203.218 95.5721 L209.098 95.5721 L209.098 118.095 L214.028 118.095 L214.028 121.984 L209.098 121.984 L209.098 130.132 L204.445 130.132 L204.445 121.984 L188.843 121.984 L188.843 117.47 L203.218 95.5721 Z\" fill=\"#000000\" fill-rule=\"evenodd\" fill-opacity=\"1\" /><path clip-path=\"url(#clip580)\" d=\"M41.7242 895.58 Q42.4244 893.511 44.7161 891.57 Q47.0077 889.596 51.0181 887.623 L64.0042 881.098 L64.0042 888.005 L51.8138 894.084 Q47.0395 896.439 45.48 898.667 Q43.9204 900.864 43.9204 904.683 L43.9204 911.685 L64.0042 911.685 L64.0042 918.115 L16.4842 918.115 L16.4842 903.601 Q16.4842 895.453 19.8898 891.442 Q23.2955 887.432 30.1704 887.432 Q34.6582 887.432 37.6183 889.533 Q40.5784 891.601 41.7242 895.58 M21.7677 911.685 L38.6368 911.685 L38.6368 903.601 Q38.6368 898.954 36.5043 896.599 Q34.34 894.211 30.1704 894.211 Q26.0009 894.211 23.9002 896.599 Q21.7677 898.954 21.7677 903.601 L21.7677 911.685 Z\" fill=\"#000000\" fill-rule=\"evenodd\" fill-opacity=\"1\" /><path clip-path=\"url(#clip580)\" d=\"M49.9359 876.61 L28.3562 876.61 L28.3562 870.754 L49.7131 870.754 Q54.7739 870.754 57.3202 868.78 Q59.8346 866.807 59.8346 862.86 Q59.8346 858.118 56.8109 855.381 Q53.7872 852.612 48.5673 852.612 L28.3562 852.612 L28.3562 846.755 L64.0042 846.755 L64.0042 852.612 L58.5296 852.612 Q61.7762 854.744 63.3676 857.577 Q64.9272 860.378 64.9272 864.102 Q64.9272 870.245 61.1078 873.427 Q57.2883 876.61 49.9359 876.61 M27.4968 861.874 L27.4968 861.874 Z\" fill=\"#000000\" fill-rule=\"evenodd\" fill-opacity=\"1\" /><path clip-path=\"url(#clip580)\" d=\"M42.4881 805.06 L64.0042 805.06 L64.0042 810.916 L42.679 810.916 Q37.6183 810.916 35.1038 812.89 Q32.5894 814.863 32.5894 818.81 Q32.5894 823.552 35.6131 826.289 Q38.6368 829.027 43.8567 829.027 L64.0042 829.027 L64.0042 834.915 L28.3562 834.915 L28.3562 829.027 L33.8944 829.027 Q30.6797 826.926 29.0883 824.093 Q27.4968 821.229 27.4968 817.505 Q27.4968 811.362 31.3163 808.211 Q35.1038 805.06 42.4881 805.06 Z\" fill=\"#000000\" fill-rule=\"evenodd\" fill-opacity=\"1\" /><path clip-path=\"url(#clip580)\" d=\"M18.2347 787.586 L28.3562 787.586 L28.3562 775.523 L32.9077 775.523 L32.9077 787.586 L52.2594 787.586 Q56.6199 787.586 57.8613 786.408 Q59.1026 785.199 59.1026 781.538 L59.1026 775.523 L64.0042 775.523 L64.0042 781.538 Q64.0042 788.318 61.4897 790.896 Q58.9434 793.474 52.2594 793.474 L32.9077 793.474 L32.9077 797.771 L28.3562 797.771 L28.3562 793.474 L18.2347 793.474 L18.2347 787.586 Z\" fill=\"#000000\" fill-rule=\"evenodd\" fill-opacity=\"1\" /><path clip-path=\"url(#clip580)\" d=\"M28.3562 767.82 L28.3562 761.964 L64.0042 761.964 L64.0042 767.82 L28.3562 767.82 M14.479 767.82 L14.479 761.964 L21.895 761.964 L21.895 767.82 L14.479 767.82 Z\" fill=\"#000000\" fill-rule=\"evenodd\" fill-opacity=\"1\" /><path clip-path=\"url(#clip580)\" d=\"M35.1993 721.955 Q31.2526 719.759 29.3747 716.704 Q27.4968 713.648 27.4968 709.51 Q27.4968 703.94 31.4117 700.917 Q35.2948 697.893 42.4881 697.893 L64.0042 697.893 L64.0042 703.781 L42.679 703.781 Q37.5546 703.781 35.072 705.596 Q32.5894 707.41 32.5894 711.134 Q32.5894 715.685 35.6131 718.327 Q38.6368 720.969 43.8567 720.969 L64.0042 720.969 L64.0042 726.857 L42.679 726.857 Q37.5228 726.857 35.072 728.671 Q32.5894 730.485 32.5894 734.273 Q32.5894 738.761 35.6449 741.403 Q38.6686 744.044 43.8567 744.044 L64.0042 744.044 L64.0042 749.933 L28.3562 749.933 L28.3562 744.044 L33.8944 744.044 Q30.616 742.039 29.0564 739.238 Q27.4968 736.437 27.4968 732.586 Q27.4968 728.703 29.4702 725.998 Q31.4436 723.26 35.1993 721.955 Z\" fill=\"#000000\" fill-rule=\"evenodd\" fill-opacity=\"1\" /><path clip-path=\"url(#clip580)\" d=\"M44.7161 655.72 L47.5806 655.72 L47.5806 682.647 Q53.6281 682.265 56.8109 679.019 Q59.9619 675.74 59.9619 669.916 Q59.9619 666.542 59.1344 663.391 Q58.3069 660.208 56.6518 657.089 L62.1899 657.089 Q63.5267 660.24 64.227 663.55 Q64.9272 666.86 64.9272 670.266 Q64.9272 678.796 59.9619 683.793 Q54.9967 688.758 46.5303 688.758 Q37.7774 688.758 32.6531 684.048 Q27.4968 679.305 27.4968 671.284 Q27.4968 664.091 32.1438 659.922 Q36.7589 655.72 44.7161 655.72 M42.9973 661.577 Q38.1912 661.64 35.3266 664.282 Q32.4621 666.892 32.4621 671.221 Q32.4621 676.122 35.2312 679.082 Q38.0002 682.011 43.0292 682.456 L42.9973 661.577 Z\" fill=\"#000000\" fill-rule=\"evenodd\" fill-opacity=\"1\" /><path clip-path=\"url(#clip580)\" d=\"M14.5426 611.319 Q21.8632 615.584 29.0246 617.653 Q36.186 619.722 43.5384 619.722 Q50.8908 619.722 58.1159 617.653 Q65.3091 615.553 72.5979 611.319 L72.5979 616.412 Q65.1182 621.186 57.8931 623.573 Q50.668 625.929 43.5384 625.929 Q36.4406 625.929 29.2474 623.573 Q22.0542 621.218 14.5426 616.412 L14.5426 611.319 Z\" fill=\"#000000\" fill-rule=\"evenodd\" fill-opacity=\"1\" /><path clip-path=\"url(#clip580)\" d=\"M29.4065 577.231 L34.9447 577.231 Q33.6716 579.714 33.035 582.387 Q32.3984 585.061 32.3984 587.925 Q32.3984 592.286 33.7352 594.482 Q35.072 596.646 37.7456 596.646 Q39.7826 596.646 40.9603 595.087 Q42.1061 593.527 43.1565 588.817 L43.6021 586.811 Q44.9389 580.573 47.3897 577.963 Q49.8086 575.321 54.1691 575.321 Q59.1344 575.321 62.0308 579.268 Q64.9272 583.183 64.9272 590.058 Q64.9272 592.923 64.3543 596.042 Q63.8132 599.129 62.6992 602.567 L56.6518 602.567 Q58.3387 599.32 59.198 596.169 Q60.0256 593.018 60.0256 589.931 Q60.0256 585.793 58.6251 583.565 Q57.1929 581.337 54.6147 581.337 Q52.2276 581.337 50.9545 582.96 Q49.6813 584.552 48.5037 589.994 L48.0262 592.031 Q46.8804 597.474 44.5251 599.893 Q42.138 602.312 38.0002 602.312 Q32.9713 602.312 30.2341 598.747 Q27.4968 595.182 27.4968 588.626 Q27.4968 585.379 27.9743 582.515 Q28.4517 579.65 29.4065 577.231 Z\" fill=\"#000000\" fill-rule=\"evenodd\" fill-opacity=\"1\" /><path clip-path=\"url(#clip580)\" d=\"M14.5426 566.919 L14.5426 561.826 Q22.0542 557.052 29.2474 554.696 Q36.4406 552.309 43.5384 552.309 Q50.668 552.309 57.8931 554.696 Q65.1182 557.052 72.5979 561.826 L72.5979 566.919 Q65.3091 562.685 58.1159 560.617 Q50.8908 558.516 43.5384 558.516 Q36.186 558.516 29.0246 560.617 Q21.8632 562.685 14.5426 566.919 Z\" fill=\"#000000\" fill-rule=\"evenodd\" fill-opacity=\"1\" /><polyline clip-path=\"url(#clip582)\" style=\"stroke:#009af9; stroke-linecap:round; stroke-linejoin:round; stroke-width:4; stroke-opacity:1; fill:none\" points=\"\n",
       "  309.539,1384.24 750.363,956.383 1191.19,1122.61 1411.6,86.1857 2293.24,1229.76 \n",
       "  \"/>\n",
       "</svg>\n"
      ]
     },
     "execution_count": 78,
     "metadata": {},
     "output_type": "execute_result"
    }
   ],
   "source": [
    "plot(bsizes_list, runtimes_bsizes; xlabel= \"Block size\", ylabel = \"Runtime (s)\", legend = false)"
   ]
  },
  {
   "cell_type": "code",
   "execution_count": 116,
   "id": "a1603a93-9c33-45ed-a68a-47014567292f",
   "metadata": {},
   "outputs": [
    {
     "data": {
      "image/svg+xml": [
       "<?xml version=\"1.0\" encoding=\"utf-8\"?>\n",
       "<svg xmlns=\"http://www.w3.org/2000/svg\" xmlns:xlink=\"http://www.w3.org/1999/xlink\" width=\"600\" height=\"400\" viewBox=\"0 0 2400 1600\">\n",
       "<defs>\n",
       "  <clipPath id=\"clip740\">\n",
       "    <rect x=\"0\" y=\"0\" width=\"2400\" height=\"1600\"/>\n",
       "  </clipPath>\n",
       "</defs>\n",
       "<path clip-path=\"url(#clip740)\" d=\"\n",
       "M0 1600 L2400 1600 L2400 0 L0 0  Z\n",
       "  \" fill=\"#ffffff\" fill-rule=\"evenodd\" fill-opacity=\"1\"/>\n",
       "<defs>\n",
       "  <clipPath id=\"clip741\">\n",
       "    <rect x=\"480\" y=\"0\" width=\"1681\" height=\"1600\"/>\n",
       "  </clipPath>\n",
       "</defs>\n",
       "<path clip-path=\"url(#clip740)\" d=\"\n",
       "M250.028 1423.18 L2352.76 1423.18 L2352.76 47.2441 L250.028 47.2441  Z\n",
       "  \" fill=\"#ffffff\" fill-rule=\"evenodd\" fill-opacity=\"1\"/>\n",
       "<defs>\n",
       "  <clipPath id=\"clip742\">\n",
       "    <rect x=\"250\" y=\"47\" width=\"2104\" height=\"1377\"/>\n",
       "  </clipPath>\n",
       "</defs>\n",
       "<polyline clip-path=\"url(#clip742)\" style=\"stroke:#000000; stroke-linecap:round; stroke-linejoin:round; stroke-width:2; stroke-opacity:0.1; fill:none\" points=\"\n",
       "  529.951,1423.18 529.951,47.2441 \n",
       "  \"/>\n",
       "<polyline clip-path=\"url(#clip742)\" style=\"stroke:#000000; stroke-linecap:round; stroke-linejoin:round; stroke-width:2; stroke-opacity:0.1; fill:none\" points=\"\n",
       "  970.774,1423.18 970.774,47.2441 \n",
       "  \"/>\n",
       "<polyline clip-path=\"url(#clip742)\" style=\"stroke:#000000; stroke-linecap:round; stroke-linejoin:round; stroke-width:2; stroke-opacity:0.1; fill:none\" points=\"\n",
       "  1411.6,1423.18 1411.6,47.2441 \n",
       "  \"/>\n",
       "<polyline clip-path=\"url(#clip742)\" style=\"stroke:#000000; stroke-linecap:round; stroke-linejoin:round; stroke-width:2; stroke-opacity:0.1; fill:none\" points=\"\n",
       "  1852.42,1423.18 1852.42,47.2441 \n",
       "  \"/>\n",
       "<polyline clip-path=\"url(#clip742)\" style=\"stroke:#000000; stroke-linecap:round; stroke-linejoin:round; stroke-width:2; stroke-opacity:0.1; fill:none\" points=\"\n",
       "  2293.24,1423.18 2293.24,47.2441 \n",
       "  \"/>\n",
       "<polyline clip-path=\"url(#clip740)\" style=\"stroke:#000000; stroke-linecap:round; stroke-linejoin:round; stroke-width:4; stroke-opacity:1; fill:none\" points=\"\n",
       "  250.028,1423.18 2352.76,1423.18 \n",
       "  \"/>\n",
       "<polyline clip-path=\"url(#clip740)\" style=\"stroke:#000000; stroke-linecap:round; stroke-linejoin:round; stroke-width:4; stroke-opacity:1; fill:none\" points=\"\n",
       "  529.951,1423.18 529.951,1404.28 \n",
       "  \"/>\n",
       "<polyline clip-path=\"url(#clip740)\" style=\"stroke:#000000; stroke-linecap:round; stroke-linejoin:round; stroke-width:4; stroke-opacity:1; fill:none\" points=\"\n",
       "  970.774,1423.18 970.774,1404.28 \n",
       "  \"/>\n",
       "<polyline clip-path=\"url(#clip740)\" style=\"stroke:#000000; stroke-linecap:round; stroke-linejoin:round; stroke-width:4; stroke-opacity:1; fill:none\" points=\"\n",
       "  1411.6,1423.18 1411.6,1404.28 \n",
       "  \"/>\n",
       "<polyline clip-path=\"url(#clip740)\" style=\"stroke:#000000; stroke-linecap:round; stroke-linejoin:round; stroke-width:4; stroke-opacity:1; fill:none\" points=\"\n",
       "  1852.42,1423.18 1852.42,1404.28 \n",
       "  \"/>\n",
       "<polyline clip-path=\"url(#clip740)\" style=\"stroke:#000000; stroke-linecap:round; stroke-linejoin:round; stroke-width:4; stroke-opacity:1; fill:none\" points=\"\n",
       "  2293.24,1423.18 2293.24,1404.28 \n",
       "  \"/>\n",
       "<path clip-path=\"url(#clip740)\" d=\"M508.724 1481.64 L525.044 1481.64 L525.044 1485.58 L503.099 1485.58 L503.099 1481.64 Q505.761 1478.89 510.345 1474.26 Q514.951 1469.61 516.132 1468.27 Q518.377 1465.74 519.257 1464.01 Q520.159 1462.25 520.159 1460.56 Q520.159 1457.8 518.215 1456.07 Q516.294 1454.33 513.192 1454.33 Q510.993 1454.33 508.539 1455.09 Q506.109 1455.86 503.331 1457.41 L503.331 1452.69 Q506.155 1451.55 508.609 1450.97 Q511.062 1450.39 513.099 1450.39 Q518.47 1450.39 521.664 1453.08 Q524.858 1455.77 524.858 1460.26 Q524.858 1462.39 524.048 1464.31 Q523.261 1466.2 521.155 1468.8 Q520.576 1469.47 517.474 1472.69 Q514.372 1475.88 508.724 1481.64 Z\" fill=\"#000000\" fill-rule=\"evenodd\" fill-opacity=\"1\" /><path clip-path=\"url(#clip740)\" d=\"M544.858 1454.1 Q541.247 1454.1 539.419 1457.66 Q537.613 1461.2 537.613 1468.33 Q537.613 1475.44 539.419 1479.01 Q541.247 1482.55 544.858 1482.55 Q548.493 1482.55 550.298 1479.01 Q552.127 1475.44 552.127 1468.33 Q552.127 1461.2 550.298 1457.66 Q548.493 1454.1 544.858 1454.1 M544.858 1450.39 Q550.669 1450.39 553.724 1455 Q556.803 1459.58 556.803 1468.33 Q556.803 1477.06 553.724 1481.67 Q550.669 1486.25 544.858 1486.25 Q539.048 1486.25 535.97 1481.67 Q532.914 1477.06 532.914 1468.33 Q532.914 1459.58 535.97 1455 Q539.048 1450.39 544.858 1450.39 Z\" fill=\"#000000\" fill-rule=\"evenodd\" fill-opacity=\"1\" /><path clip-path=\"url(#clip740)\" d=\"M958.946 1455.09 L947.14 1473.54 L958.946 1473.54 L958.946 1455.09 M957.719 1451.02 L963.599 1451.02 L963.599 1473.54 L968.529 1473.54 L968.529 1477.43 L963.599 1477.43 L963.599 1485.58 L958.946 1485.58 L958.946 1477.43 L943.344 1477.43 L943.344 1472.92 L957.719 1451.02 Z\" fill=\"#000000\" fill-rule=\"evenodd\" fill-opacity=\"1\" /><path clip-path=\"url(#clip740)\" d=\"M986.26 1454.1 Q982.649 1454.1 980.821 1457.66 Q979.015 1461.2 979.015 1468.33 Q979.015 1475.44 980.821 1479.01 Q982.649 1482.55 986.26 1482.55 Q989.895 1482.55 991.7 1479.01 Q993.529 1475.44 993.529 1468.33 Q993.529 1461.2 991.7 1457.66 Q989.895 1454.1 986.26 1454.1 M986.26 1450.39 Q992.071 1450.39 995.126 1455 Q998.205 1459.58 998.205 1468.33 Q998.205 1477.06 995.126 1481.67 Q992.071 1486.25 986.26 1486.25 Q980.45 1486.25 977.372 1481.67 Q974.316 1477.06 974.316 1468.33 Q974.316 1459.58 977.372 1455 Q980.45 1450.39 986.26 1450.39 Z\" fill=\"#000000\" fill-rule=\"evenodd\" fill-opacity=\"1\" /><path clip-path=\"url(#clip740)\" d=\"M1397 1466.44 Q1393.85 1466.44 1392 1468.59 Q1390.17 1470.74 1390.17 1474.49 Q1390.17 1478.22 1392 1480.39 Q1393.85 1482.55 1397 1482.55 Q1400.15 1482.55 1401.98 1480.39 Q1403.83 1478.22 1403.83 1474.49 Q1403.83 1470.74 1401.98 1468.59 Q1400.15 1466.44 1397 1466.44 M1406.29 1451.78 L1406.29 1456.04 Q1404.53 1455.21 1402.72 1454.77 Q1400.94 1454.33 1399.18 1454.33 Q1394.55 1454.33 1392.1 1457.45 Q1389.67 1460.58 1389.32 1466.9 Q1390.68 1464.89 1392.74 1463.82 Q1394.8 1462.73 1397.28 1462.73 Q1402.49 1462.73 1405.5 1465.9 Q1408.53 1469.05 1408.53 1474.49 Q1408.53 1479.82 1405.38 1483.03 Q1402.23 1486.25 1397 1486.25 Q1391.01 1486.25 1387.84 1481.67 Q1384.67 1477.06 1384.67 1468.33 Q1384.67 1460.14 1388.55 1455.28 Q1392.44 1450.39 1398.99 1450.39 Q1400.75 1450.39 1402.54 1450.74 Q1404.34 1451.09 1406.29 1451.78 Z\" fill=\"#000000\" fill-rule=\"evenodd\" fill-opacity=\"1\" /><path clip-path=\"url(#clip740)\" d=\"M1426.59 1454.1 Q1422.98 1454.1 1421.15 1457.66 Q1419.34 1461.2 1419.34 1468.33 Q1419.34 1475.44 1421.15 1479.01 Q1422.98 1482.55 1426.59 1482.55 Q1430.22 1482.55 1432.03 1479.01 Q1433.85 1475.44 1433.85 1468.33 Q1433.85 1461.2 1432.03 1457.66 Q1430.22 1454.1 1426.59 1454.1 M1426.59 1450.39 Q1432.4 1450.39 1435.45 1455 Q1438.53 1459.58 1438.53 1468.33 Q1438.53 1477.06 1435.45 1481.67 Q1432.4 1486.25 1426.59 1486.25 Q1420.78 1486.25 1417.7 1481.67 Q1414.64 1477.06 1414.64 1468.33 Q1414.64 1459.58 1417.7 1455 Q1420.78 1450.39 1426.59 1450.39 Z\" fill=\"#000000\" fill-rule=\"evenodd\" fill-opacity=\"1\" /><path clip-path=\"url(#clip740)\" d=\"M1837.29 1469.17 Q1833.96 1469.17 1832.04 1470.95 Q1830.14 1472.73 1830.14 1475.86 Q1830.14 1478.98 1832.04 1480.77 Q1833.96 1482.55 1837.29 1482.55 Q1840.63 1482.55 1842.55 1480.77 Q1844.47 1478.96 1844.47 1475.86 Q1844.47 1472.73 1842.55 1470.95 Q1840.65 1469.17 1837.29 1469.17 M1832.62 1467.18 Q1829.61 1466.44 1827.92 1464.38 Q1826.25 1462.32 1826.25 1459.35 Q1826.25 1455.21 1829.19 1452.8 Q1832.16 1450.39 1837.29 1450.39 Q1842.46 1450.39 1845.4 1452.8 Q1848.34 1455.21 1848.34 1459.35 Q1848.34 1462.32 1846.65 1464.38 Q1844.98 1466.44 1841.99 1467.18 Q1845.37 1467.96 1847.25 1470.26 Q1849.15 1472.55 1849.15 1475.86 Q1849.15 1480.88 1846.07 1483.57 Q1843.01 1486.25 1837.29 1486.25 Q1831.58 1486.25 1828.5 1483.57 Q1825.44 1480.88 1825.44 1475.86 Q1825.44 1472.55 1827.34 1470.26 Q1829.24 1467.96 1832.62 1467.18 M1830.91 1459.79 Q1830.91 1462.48 1832.57 1463.98 Q1834.26 1465.49 1837.29 1465.49 Q1840.3 1465.49 1841.99 1463.98 Q1843.71 1462.48 1843.71 1459.79 Q1843.71 1457.11 1841.99 1455.6 Q1840.3 1454.1 1837.29 1454.1 Q1834.26 1454.1 1832.57 1455.6 Q1830.91 1457.11 1830.91 1459.79 Z\" fill=\"#000000\" fill-rule=\"evenodd\" fill-opacity=\"1\" /><path clip-path=\"url(#clip740)\" d=\"M1867.46 1454.1 Q1863.84 1454.1 1862.02 1457.66 Q1860.21 1461.2 1860.21 1468.33 Q1860.21 1475.44 1862.02 1479.01 Q1863.84 1482.55 1867.46 1482.55 Q1871.09 1482.55 1872.9 1479.01 Q1874.72 1475.44 1874.72 1468.33 Q1874.72 1461.2 1872.9 1457.66 Q1871.09 1454.1 1867.46 1454.1 M1867.46 1450.39 Q1873.27 1450.39 1876.32 1455 Q1879.4 1459.58 1879.4 1468.33 Q1879.4 1477.06 1876.32 1481.67 Q1873.27 1486.25 1867.46 1486.25 Q1861.65 1486.25 1858.57 1481.67 Q1855.51 1477.06 1855.51 1468.33 Q1855.51 1459.58 1858.57 1455 Q1861.65 1450.39 1867.46 1450.39 Z\" fill=\"#000000\" fill-rule=\"evenodd\" fill-opacity=\"1\" /><path clip-path=\"url(#clip740)\" d=\"M2252.85 1481.64 L2260.49 1481.64 L2260.49 1455.28 L2252.18 1456.95 L2252.18 1452.69 L2260.44 1451.02 L2265.12 1451.02 L2265.12 1481.64 L2272.76 1481.64 L2272.76 1485.58 L2252.85 1485.58 L2252.85 1481.64 Z\" fill=\"#000000\" fill-rule=\"evenodd\" fill-opacity=\"1\" /><path clip-path=\"url(#clip740)\" d=\"M2292.2 1454.1 Q2288.59 1454.1 2286.76 1457.66 Q2284.96 1461.2 2284.96 1468.33 Q2284.96 1475.44 2286.76 1479.01 Q2288.59 1482.55 2292.2 1482.55 Q2295.84 1482.55 2297.64 1479.01 Q2299.47 1475.44 2299.47 1468.33 Q2299.47 1461.2 2297.64 1457.66 Q2295.84 1454.1 2292.2 1454.1 M2292.2 1450.39 Q2298.01 1450.39 2301.07 1455 Q2304.15 1459.58 2304.15 1468.33 Q2304.15 1477.06 2301.07 1481.67 Q2298.01 1486.25 2292.2 1486.25 Q2286.39 1486.25 2283.31 1481.67 Q2280.26 1477.06 2280.26 1468.33 Q2280.26 1459.58 2283.31 1455 Q2286.39 1450.39 2292.2 1450.39 Z\" fill=\"#000000\" fill-rule=\"evenodd\" fill-opacity=\"1\" /><path clip-path=\"url(#clip740)\" d=\"M2322.36 1454.1 Q2318.75 1454.1 2316.93 1457.66 Q2315.12 1461.2 2315.12 1468.33 Q2315.12 1475.44 2316.93 1479.01 Q2318.75 1482.55 2322.36 1482.55 Q2326 1482.55 2327.8 1479.01 Q2329.63 1475.44 2329.63 1468.33 Q2329.63 1461.2 2327.8 1457.66 Q2326 1454.1 2322.36 1454.1 M2322.36 1450.39 Q2328.18 1450.39 2331.23 1455 Q2334.31 1459.58 2334.31 1468.33 Q2334.31 1477.06 2331.23 1481.67 Q2328.18 1486.25 2322.36 1486.25 Q2316.55 1486.25 2313.48 1481.67 Q2310.42 1477.06 2310.42 1468.33 Q2310.42 1459.58 2313.48 1455 Q2316.55 1450.39 2322.36 1450.39 Z\" fill=\"#000000\" fill-rule=\"evenodd\" fill-opacity=\"1\" /><path clip-path=\"url(#clip740)\" d=\"M1019.66 1520.52 L1028.32 1520.52 L1049.39 1560.28 L1049.39 1520.52 L1055.63 1520.52 L1055.63 1568.04 L1046.97 1568.04 L1025.9 1528.29 L1025.9 1568.04 L1019.66 1568.04 L1019.66 1520.52 Z\" fill=\"#000000\" fill-rule=\"evenodd\" fill-opacity=\"1\" /><path clip-path=\"url(#clip740)\" d=\"M1067.56 1553.98 L1067.56 1532.4 L1073.42 1532.4 L1073.42 1553.75 Q1073.42 1558.81 1075.39 1561.36 Q1077.37 1563.87 1081.31 1563.87 Q1086.06 1563.87 1088.79 1560.85 Q1091.56 1557.83 1091.56 1552.61 L1091.56 1532.4 L1097.42 1532.4 L1097.42 1568.04 L1091.56 1568.04 L1091.56 1562.57 Q1089.43 1565.82 1086.6 1567.41 Q1083.8 1568.97 1080.07 1568.97 Q1073.93 1568.97 1070.75 1565.15 Q1067.56 1561.33 1067.56 1553.98 M1082.3 1531.54 L1082.3 1531.54 Z\" fill=\"#000000\" fill-rule=\"evenodd\" fill-opacity=\"1\" /><path clip-path=\"url(#clip740)\" d=\"M1137.24 1539.24 Q1139.43 1535.29 1142.49 1533.41 Q1145.54 1531.54 1149.68 1531.54 Q1155.25 1531.54 1158.28 1535.45 Q1161.3 1539.33 1161.3 1546.53 L1161.3 1568.04 L1155.41 1568.04 L1155.41 1546.72 Q1155.41 1541.59 1153.6 1539.11 Q1151.78 1536.63 1148.06 1536.63 Q1143.51 1536.63 1140.86 1539.65 Q1138.22 1542.68 1138.22 1547.9 L1138.22 1568.04 L1132.33 1568.04 L1132.33 1546.72 Q1132.33 1541.56 1130.52 1539.11 Q1128.71 1536.63 1124.92 1536.63 Q1120.43 1536.63 1117.79 1539.68 Q1115.15 1542.71 1115.15 1547.9 L1115.15 1568.04 L1109.26 1568.04 L1109.26 1532.4 L1115.15 1532.4 L1115.15 1537.93 Q1117.15 1534.66 1119.95 1533.1 Q1122.75 1531.54 1126.61 1531.54 Q1130.49 1531.54 1133.19 1533.51 Q1135.93 1535.48 1137.24 1539.24 Z\" fill=\"#000000\" fill-rule=\"evenodd\" fill-opacity=\"1\" /><path clip-path=\"url(#clip740)\" d=\"M1198.57 1550.25 Q1198.57 1543.79 1195.9 1540.13 Q1193.25 1536.44 1188.61 1536.44 Q1183.96 1536.44 1181.29 1540.13 Q1178.65 1543.79 1178.65 1550.25 Q1178.65 1556.71 1181.29 1560.4 Q1183.96 1564.07 1188.61 1564.07 Q1193.25 1564.07 1195.9 1560.4 Q1198.57 1556.71 1198.57 1550.25 M1178.65 1537.81 Q1180.49 1534.62 1183.29 1533.1 Q1186.12 1531.54 1190.04 1531.54 Q1196.53 1531.54 1200.58 1536.69 Q1204.65 1541.85 1204.65 1550.25 Q1204.65 1558.65 1200.58 1563.81 Q1196.53 1568.97 1190.04 1568.97 Q1186.12 1568.97 1183.29 1567.44 Q1180.49 1565.88 1178.65 1562.7 L1178.65 1568.04 L1172.76 1568.04 L1172.76 1518.52 L1178.65 1518.52 L1178.65 1537.81 Z\" fill=\"#000000\" fill-rule=\"evenodd\" fill-opacity=\"1\" /><path clip-path=\"url(#clip740)\" d=\"M1244.85 1548.76 L1244.85 1551.62 L1217.92 1551.62 Q1218.3 1557.67 1221.55 1560.85 Q1224.83 1564 1230.65 1564 Q1234.03 1564 1237.18 1563.17 Q1240.36 1562.35 1243.48 1560.69 L1243.48 1566.23 Q1240.33 1567.57 1237.02 1568.27 Q1233.71 1568.97 1230.3 1568.97 Q1221.77 1568.97 1216.78 1564 Q1211.81 1559.04 1211.81 1550.57 Q1211.81 1541.82 1216.52 1536.69 Q1221.26 1531.54 1229.28 1531.54 Q1236.48 1531.54 1240.65 1536.18 Q1244.85 1540.8 1244.85 1548.76 M1238.99 1547.04 Q1238.93 1542.23 1236.29 1539.37 Q1233.68 1536.5 1229.35 1536.5 Q1224.45 1536.5 1221.49 1539.27 Q1218.56 1542.04 1218.11 1547.07 L1238.99 1547.04 Z\" fill=\"#000000\" fill-rule=\"evenodd\" fill-opacity=\"1\" /><path clip-path=\"url(#clip740)\" d=\"M1275.12 1537.87 Q1274.13 1537.3 1272.95 1537.04 Q1271.81 1536.76 1270.41 1536.76 Q1265.44 1536.76 1262.77 1540 Q1260.13 1543.22 1260.13 1549.27 L1260.13 1568.04 L1254.24 1568.04 L1254.24 1532.4 L1260.13 1532.4 L1260.13 1537.93 Q1261.97 1534.69 1264.93 1533.13 Q1267.89 1531.54 1272.13 1531.54 Q1272.73 1531.54 1273.46 1531.63 Q1274.19 1531.7 1275.09 1531.85 L1275.12 1537.87 Z\" fill=\"#000000\" fill-rule=\"evenodd\" fill-opacity=\"1\" /><path clip-path=\"url(#clip740)\" d=\"M1315.79 1536.5 Q1311.08 1536.5 1308.35 1540.19 Q1305.61 1543.85 1305.61 1550.25 Q1305.61 1556.65 1308.31 1560.34 Q1311.05 1564 1315.79 1564 Q1320.47 1564 1323.21 1560.31 Q1325.95 1556.62 1325.95 1550.25 Q1325.95 1543.92 1323.21 1540.23 Q1320.47 1536.5 1315.79 1536.5 M1315.79 1531.54 Q1323.43 1531.54 1327.79 1536.5 Q1332.15 1541.47 1332.15 1550.25 Q1332.15 1559 1327.79 1564 Q1323.43 1568.97 1315.79 1568.97 Q1308.12 1568.97 1303.76 1564 Q1299.43 1559 1299.43 1550.25 Q1299.43 1541.47 1303.76 1536.5 Q1308.12 1531.54 1315.79 1531.54 Z\" fill=\"#000000\" fill-rule=\"evenodd\" fill-opacity=\"1\" /><path clip-path=\"url(#clip740)\" d=\"M1359.91 1518.52 L1359.91 1523.39 L1354.31 1523.39 Q1351.16 1523.39 1349.91 1524.66 Q1348.71 1525.93 1348.71 1529.24 L1348.71 1532.4 L1358.35 1532.4 L1358.35 1536.95 L1348.71 1536.95 L1348.71 1568.04 L1342.82 1568.04 L1342.82 1536.95 L1337.22 1536.95 L1337.22 1532.4 L1342.82 1532.4 L1342.82 1529.91 Q1342.82 1523.96 1345.59 1521.26 Q1348.36 1518.52 1354.37 1518.52 L1359.91 1518.52 Z\" fill=\"#000000\" fill-rule=\"evenodd\" fill-opacity=\"1\" /><path clip-path=\"url(#clip740)\" d=\"M1411.12 1550.25 Q1411.12 1543.79 1408.45 1540.13 Q1405.81 1536.44 1401.16 1536.44 Q1396.51 1536.44 1393.84 1540.13 Q1391.2 1543.79 1391.2 1550.25 Q1391.2 1556.71 1393.84 1560.4 Q1396.51 1564.07 1401.16 1564.07 Q1405.81 1564.07 1408.45 1560.4 Q1411.12 1556.71 1411.12 1550.25 M1391.2 1537.81 Q1393.04 1534.62 1395.84 1533.1 Q1398.68 1531.54 1402.59 1531.54 Q1409.08 1531.54 1413.13 1536.69 Q1417.2 1541.85 1417.2 1550.25 Q1417.2 1558.65 1413.13 1563.81 Q1409.08 1568.97 1402.59 1568.97 Q1398.68 1568.97 1395.84 1567.44 Q1393.04 1565.88 1391.2 1562.7 L1391.2 1568.04 L1385.31 1568.04 L1385.31 1518.52 L1391.2 1518.52 L1391.2 1537.81 Z\" fill=\"#000000\" fill-rule=\"evenodd\" fill-opacity=\"1\" /><path clip-path=\"url(#clip740)\" d=\"M1426.91 1518.52 L1432.76 1518.52 L1432.76 1568.04 L1426.91 1568.04 L1426.91 1518.52 Z\" fill=\"#000000\" fill-rule=\"evenodd\" fill-opacity=\"1\" /><path clip-path=\"url(#clip740)\" d=\"M1458.83 1536.5 Q1454.12 1536.5 1451.38 1540.19 Q1448.65 1543.85 1448.65 1550.25 Q1448.65 1556.65 1451.35 1560.34 Q1454.09 1564 1458.83 1564 Q1463.51 1564 1466.25 1560.31 Q1468.99 1556.62 1468.99 1550.25 Q1468.99 1543.92 1466.25 1540.23 Q1463.51 1536.5 1458.83 1536.5 M1458.83 1531.54 Q1466.47 1531.54 1470.83 1536.5 Q1475.19 1541.47 1475.19 1550.25 Q1475.19 1559 1470.83 1564 Q1466.47 1568.97 1458.83 1568.97 Q1451.16 1568.97 1446.8 1564 Q1442.47 1559 1442.47 1550.25 Q1442.47 1541.47 1446.8 1536.5 Q1451.16 1531.54 1458.83 1531.54 Z\" fill=\"#000000\" fill-rule=\"evenodd\" fill-opacity=\"1\" /><path clip-path=\"url(#clip740)\" d=\"M1510.55 1533.76 L1510.55 1539.24 Q1508.07 1537.87 1505.56 1537.2 Q1503.07 1536.5 1500.53 1536.5 Q1494.83 1536.5 1491.68 1540.13 Q1488.53 1543.73 1488.53 1550.25 Q1488.53 1556.78 1491.68 1560.4 Q1494.83 1564 1500.53 1564 Q1503.07 1564 1505.56 1563.33 Q1508.07 1562.63 1510.55 1561.26 L1510.55 1566.68 Q1508.1 1567.82 1505.46 1568.39 Q1502.85 1568.97 1499.89 1568.97 Q1491.84 1568.97 1487.1 1563.91 Q1482.35 1558.85 1482.35 1550.25 Q1482.35 1541.53 1487.13 1536.53 Q1491.93 1531.54 1500.27 1531.54 Q1502.98 1531.54 1505.56 1532.11 Q1508.13 1532.65 1510.55 1533.76 Z\" fill=\"#000000\" fill-rule=\"evenodd\" fill-opacity=\"1\" /><path clip-path=\"url(#clip740)\" d=\"M1520.52 1518.52 L1526.4 1518.52 L1526.4 1547.77 L1543.88 1532.4 L1551.36 1532.4 L1532.45 1549.07 L1552.15 1568.04 L1544.51 1568.04 L1526.4 1550.63 L1526.4 1568.04 L1520.52 1568.04 L1520.52 1518.52 Z\" fill=\"#000000\" fill-rule=\"evenodd\" fill-opacity=\"1\" /><path clip-path=\"url(#clip740)\" d=\"M1581.21 1533.45 L1581.21 1538.98 Q1578.73 1537.71 1576.06 1537.07 Q1573.38 1536.44 1570.52 1536.44 Q1566.16 1536.44 1563.96 1537.77 Q1561.8 1539.11 1561.8 1541.79 Q1561.8 1543.82 1563.36 1545 Q1564.92 1546.15 1569.63 1547.2 L1571.63 1547.64 Q1577.87 1548.98 1580.48 1551.43 Q1583.12 1553.85 1583.12 1558.21 Q1583.12 1563.17 1579.18 1566.07 Q1575.26 1568.97 1568.39 1568.97 Q1565.52 1568.97 1562.4 1568.39 Q1559.31 1567.85 1555.88 1566.74 L1555.88 1560.69 Q1559.12 1562.38 1562.27 1563.24 Q1565.43 1564.07 1568.51 1564.07 Q1572.65 1564.07 1574.88 1562.66 Q1577.11 1561.23 1577.11 1558.65 Q1577.11 1556.27 1575.48 1554.99 Q1573.89 1553.72 1568.45 1552.54 L1566.41 1552.07 Q1560.97 1550.92 1558.55 1548.56 Q1556.13 1546.18 1556.13 1542.04 Q1556.13 1537.01 1559.7 1534.27 Q1563.26 1531.54 1569.82 1531.54 Q1573.06 1531.54 1575.93 1532.01 Q1578.79 1532.49 1581.21 1533.45 Z\" fill=\"#000000\" fill-rule=\"evenodd\" fill-opacity=\"1\" /><polyline clip-path=\"url(#clip742)\" style=\"stroke:#000000; stroke-linecap:round; stroke-linejoin:round; stroke-width:2; stroke-opacity:0.1; fill:none\" points=\"\n",
       "  250.028,1211.47 2352.76,1211.47 \n",
       "  \"/>\n",
       "<polyline clip-path=\"url(#clip742)\" style=\"stroke:#000000; stroke-linecap:round; stroke-linejoin:round; stroke-width:2; stroke-opacity:0.1; fill:none\" points=\"\n",
       "  250.028,890.119 2352.76,890.119 \n",
       "  \"/>\n",
       "<polyline clip-path=\"url(#clip742)\" style=\"stroke:#000000; stroke-linecap:round; stroke-linejoin:round; stroke-width:2; stroke-opacity:0.1; fill:none\" points=\"\n",
       "  250.028,568.771 2352.76,568.771 \n",
       "  \"/>\n",
       "<polyline clip-path=\"url(#clip742)\" style=\"stroke:#000000; stroke-linecap:round; stroke-linejoin:round; stroke-width:2; stroke-opacity:0.1; fill:none\" points=\"\n",
       "  250.028,247.423 2352.76,247.423 \n",
       "  \"/>\n",
       "<polyline clip-path=\"url(#clip740)\" style=\"stroke:#000000; stroke-linecap:round; stroke-linejoin:round; stroke-width:4; stroke-opacity:1; fill:none\" points=\"\n",
       "  250.028,1423.18 250.028,47.2441 \n",
       "  \"/>\n",
       "<polyline clip-path=\"url(#clip740)\" style=\"stroke:#000000; stroke-linecap:round; stroke-linejoin:round; stroke-width:4; stroke-opacity:1; fill:none\" points=\"\n",
       "  250.028,1211.47 268.926,1211.47 \n",
       "  \"/>\n",
       "<polyline clip-path=\"url(#clip740)\" style=\"stroke:#000000; stroke-linecap:round; stroke-linejoin:round; stroke-width:4; stroke-opacity:1; fill:none\" points=\"\n",
       "  250.028,890.119 268.926,890.119 \n",
       "  \"/>\n",
       "<polyline clip-path=\"url(#clip740)\" style=\"stroke:#000000; stroke-linecap:round; stroke-linejoin:round; stroke-width:4; stroke-opacity:1; fill:none\" points=\"\n",
       "  250.028,568.771 268.926,568.771 \n",
       "  \"/>\n",
       "<polyline clip-path=\"url(#clip740)\" style=\"stroke:#000000; stroke-linecap:round; stroke-linejoin:round; stroke-width:4; stroke-opacity:1; fill:none\" points=\"\n",
       "  250.028,247.423 268.926,247.423 \n",
       "  \"/>\n",
       "<path clip-path=\"url(#clip740)\" d=\"M127.339 1197.27 Q123.728 1197.27 121.899 1200.83 Q120.093 1204.37 120.093 1211.5 Q120.093 1218.61 121.899 1222.17 Q123.728 1225.71 127.339 1225.71 Q130.973 1225.71 132.779 1222.17 Q134.607 1218.61 134.607 1211.5 Q134.607 1204.37 132.779 1200.83 Q130.973 1197.27 127.339 1197.27 M127.339 1193.56 Q133.149 1193.56 136.204 1198.17 Q139.283 1202.75 139.283 1211.5 Q139.283 1220.23 136.204 1224.83 Q133.149 1229.42 127.339 1229.42 Q121.529 1229.42 118.45 1224.83 Q115.394 1220.23 115.394 1211.5 Q115.394 1202.75 118.45 1198.17 Q121.529 1193.56 127.339 1193.56 Z\" fill=\"#000000\" fill-rule=\"evenodd\" fill-opacity=\"1\" /><path clip-path=\"url(#clip740)\" d=\"M147.501 1222.87 L152.385 1222.87 L152.385 1228.75 L147.501 1228.75 L147.501 1222.87 Z\" fill=\"#000000\" fill-rule=\"evenodd\" fill-opacity=\"1\" /><path clip-path=\"url(#clip740)\" d=\"M175.417 1198.26 L163.612 1216.71 L175.417 1216.71 L175.417 1198.26 M174.19 1194.19 L180.07 1194.19 L180.07 1216.71 L185.001 1216.71 L185.001 1220.6 L180.07 1220.6 L180.07 1228.75 L175.417 1228.75 L175.417 1220.6 L159.815 1220.6 L159.815 1216.08 L174.19 1194.19 Z\" fill=\"#000000\" fill-rule=\"evenodd\" fill-opacity=\"1\" /><path clip-path=\"url(#clip740)\" d=\"M206.899 1210.11 Q210.255 1210.83 212.13 1213.1 Q214.028 1215.37 214.028 1218.7 Q214.028 1223.82 210.51 1226.62 Q206.991 1229.42 200.51 1229.42 Q198.334 1229.42 196.019 1228.98 Q193.727 1228.56 191.274 1227.7 L191.274 1223.19 Q193.218 1224.33 195.533 1224.9 Q197.848 1225.48 200.371 1225.48 Q204.769 1225.48 207.061 1223.75 Q209.375 1222.01 209.375 1218.7 Q209.375 1215.64 207.223 1213.93 Q205.093 1212.2 201.274 1212.2 L197.246 1212.2 L197.246 1208.35 L201.459 1208.35 Q204.908 1208.35 206.737 1206.99 Q208.565 1205.6 208.565 1203.01 Q208.565 1200.34 206.667 1198.93 Q204.792 1197.5 201.274 1197.5 Q199.352 1197.5 197.153 1197.91 Q194.954 1198.33 192.315 1199.21 L192.315 1195.04 Q194.977 1194.3 197.292 1193.93 Q199.63 1193.56 201.69 1193.56 Q207.014 1193.56 210.116 1195.99 Q213.218 1198.4 213.218 1202.52 Q213.218 1205.39 211.574 1207.38 Q209.931 1209.35 206.899 1210.11 Z\" fill=\"#000000\" fill-rule=\"evenodd\" fill-opacity=\"1\" /><path clip-path=\"url(#clip740)\" d=\"M126.205 875.917 Q122.593 875.917 120.765 879.482 Q118.959 883.024 118.959 890.153 Q118.959 897.26 120.765 900.825 Q122.593 904.366 126.205 904.366 Q129.839 904.366 131.644 900.825 Q133.473 897.26 133.473 890.153 Q133.473 883.024 131.644 879.482 Q129.839 875.917 126.205 875.917 M126.205 872.214 Q132.015 872.214 135.07 876.82 Q138.149 881.403 138.149 890.153 Q138.149 898.88 135.07 903.487 Q132.015 908.07 126.205 908.07 Q120.394 908.07 117.316 903.487 Q114.26 898.88 114.26 890.153 Q114.26 881.403 117.316 876.82 Q120.394 872.214 126.205 872.214 Z\" fill=\"#000000\" fill-rule=\"evenodd\" fill-opacity=\"1\" /><path clip-path=\"url(#clip740)\" d=\"M146.366 901.519 L151.251 901.519 L151.251 907.399 L146.366 907.399 L146.366 901.519 Z\" fill=\"#000000\" fill-rule=\"evenodd\" fill-opacity=\"1\" /><path clip-path=\"url(#clip740)\" d=\"M174.283 876.913 L162.477 895.362 L174.283 895.362 L174.283 876.913 M173.056 872.839 L178.936 872.839 L178.936 895.362 L183.866 895.362 L183.866 899.25 L178.936 899.25 L178.936 907.399 L174.283 907.399 L174.283 899.25 L158.681 899.25 L158.681 894.737 L173.056 872.839 Z\" fill=\"#000000\" fill-rule=\"evenodd\" fill-opacity=\"1\" /><path clip-path=\"url(#clip740)\" d=\"M204.445 876.913 L192.639 895.362 L204.445 895.362 L204.445 876.913 M203.218 872.839 L209.098 872.839 L209.098 895.362 L214.028 895.362 L214.028 899.25 L209.098 899.25 L209.098 907.399 L204.445 907.399 L204.445 899.25 L188.843 899.25 L188.843 894.737 L203.218 872.839 Z\" fill=\"#000000\" fill-rule=\"evenodd\" fill-opacity=\"1\" /><path clip-path=\"url(#clip740)\" d=\"M127.686 554.569 Q124.075 554.569 122.246 558.134 Q120.441 561.676 120.441 568.805 Q120.441 575.912 122.246 579.476 Q124.075 583.018 127.686 583.018 Q131.32 583.018 133.126 579.476 Q134.954 575.912 134.954 568.805 Q134.954 561.676 133.126 558.134 Q131.32 554.569 127.686 554.569 M127.686 550.866 Q133.496 550.866 136.552 555.472 Q139.63 560.055 139.63 568.805 Q139.63 577.532 136.552 582.139 Q133.496 586.722 127.686 586.722 Q121.876 586.722 118.797 582.139 Q115.742 577.532 115.742 568.805 Q115.742 560.055 118.797 555.472 Q121.876 550.866 127.686 550.866 Z\" fill=\"#000000\" fill-rule=\"evenodd\" fill-opacity=\"1\" /><path clip-path=\"url(#clip740)\" d=\"M147.848 580.171 L152.732 580.171 L152.732 586.051 L147.848 586.051 L147.848 580.171 Z\" fill=\"#000000\" fill-rule=\"evenodd\" fill-opacity=\"1\" /><path clip-path=\"url(#clip740)\" d=\"M175.764 555.565 L163.959 574.014 L175.764 574.014 L175.764 555.565 M174.538 551.491 L180.417 551.491 L180.417 574.014 L185.348 574.014 L185.348 577.902 L180.417 577.902 L180.417 586.051 L175.764 586.051 L175.764 577.902 L160.163 577.902 L160.163 573.389 L174.538 551.491 Z\" fill=\"#000000\" fill-rule=\"evenodd\" fill-opacity=\"1\" /><path clip-path=\"url(#clip740)\" d=\"M193.125 551.491 L211.482 551.491 L211.482 555.426 L197.408 555.426 L197.408 563.898 Q198.426 563.551 199.445 563.389 Q200.463 563.203 201.482 563.203 Q207.269 563.203 210.649 566.375 Q214.028 569.546 214.028 574.963 Q214.028 580.541 210.556 583.643 Q207.084 586.722 200.764 586.722 Q198.588 586.722 196.32 586.351 Q194.075 585.981 191.667 585.24 L191.667 580.541 Q193.75 581.676 195.973 582.231 Q198.195 582.787 200.672 582.787 Q204.676 582.787 207.014 580.68 Q209.352 578.574 209.352 574.963 Q209.352 571.352 207.014 569.245 Q204.676 567.139 200.672 567.139 Q198.797 567.139 196.922 567.555 Q195.07 567.972 193.125 568.852 L193.125 551.491 Z\" fill=\"#000000\" fill-rule=\"evenodd\" fill-opacity=\"1\" /><path clip-path=\"url(#clip740)\" d=\"M126.529 233.221 Q122.918 233.221 121.089 236.786 Q119.283 240.328 119.283 247.457 Q119.283 254.564 121.089 258.128 Q122.918 261.67 126.529 261.67 Q130.163 261.67 131.968 258.128 Q133.797 254.564 133.797 247.457 Q133.797 240.328 131.968 236.786 Q130.163 233.221 126.529 233.221 M126.529 229.518 Q132.339 229.518 135.394 234.124 Q138.473 238.707 138.473 247.457 Q138.473 256.184 135.394 260.791 Q132.339 265.374 126.529 265.374 Q120.718 265.374 117.64 260.791 Q114.584 256.184 114.584 247.457 Q114.584 238.707 117.64 234.124 Q120.718 229.518 126.529 229.518 Z\" fill=\"#000000\" fill-rule=\"evenodd\" fill-opacity=\"1\" /><path clip-path=\"url(#clip740)\" d=\"M146.691 258.823 L151.575 258.823 L151.575 264.703 L146.691 264.703 L146.691 258.823 Z\" fill=\"#000000\" fill-rule=\"evenodd\" fill-opacity=\"1\" /><path clip-path=\"url(#clip740)\" d=\"M174.607 234.217 L162.802 252.666 L174.607 252.666 L174.607 234.217 M173.38 230.143 L179.26 230.143 L179.26 252.666 L184.19 252.666 L184.19 256.554 L179.26 256.554 L179.26 264.703 L174.607 264.703 L174.607 256.554 L159.005 256.554 L159.005 252.041 L173.38 230.143 Z\" fill=\"#000000\" fill-rule=\"evenodd\" fill-opacity=\"1\" /><path clip-path=\"url(#clip740)\" d=\"M202.5 245.559 Q199.352 245.559 197.5 247.712 Q195.672 249.865 195.672 253.615 Q195.672 257.341 197.5 259.517 Q199.352 261.67 202.5 261.67 Q205.649 261.67 207.477 259.517 Q209.329 257.341 209.329 253.615 Q209.329 249.865 207.477 247.712 Q205.649 245.559 202.5 245.559 M211.783 230.906 L211.783 235.166 Q210.024 234.332 208.218 233.892 Q206.436 233.453 204.676 233.453 Q200.047 233.453 197.593 236.578 Q195.163 239.703 194.815 246.022 Q196.181 244.008 198.241 242.943 Q200.301 241.855 202.778 241.855 Q207.987 241.855 210.996 245.027 Q214.028 248.175 214.028 253.615 Q214.028 258.939 210.88 262.156 Q207.732 265.374 202.5 265.374 Q196.505 265.374 193.334 260.791 Q190.163 256.184 190.163 247.457 Q190.163 239.263 194.051 234.402 Q197.94 229.518 204.491 229.518 Q206.25 229.518 208.033 229.865 Q209.838 230.212 211.783 230.906 Z\" fill=\"#000000\" fill-rule=\"evenodd\" fill-opacity=\"1\" /><path clip-path=\"url(#clip740)\" d=\"M41.7242 895.58 Q42.4244 893.511 44.7161 891.57 Q47.0077 889.596 51.0181 887.623 L64.0042 881.098 L64.0042 888.005 L51.8138 894.084 Q47.0395 896.439 45.48 898.667 Q43.9204 900.864 43.9204 904.683 L43.9204 911.685 L64.0042 911.685 L64.0042 918.115 L16.4842 918.115 L16.4842 903.601 Q16.4842 895.453 19.8898 891.442 Q23.2955 887.432 30.1704 887.432 Q34.6582 887.432 37.6183 889.533 Q40.5784 891.601 41.7242 895.58 M21.7677 911.685 L38.6368 911.685 L38.6368 903.601 Q38.6368 898.954 36.5043 896.599 Q34.34 894.211 30.1704 894.211 Q26.0009 894.211 23.9002 896.599 Q21.7677 898.954 21.7677 903.601 L21.7677 911.685 Z\" fill=\"#000000\" fill-rule=\"evenodd\" fill-opacity=\"1\" /><path clip-path=\"url(#clip740)\" d=\"M49.9359 876.61 L28.3562 876.61 L28.3562 870.754 L49.7131 870.754 Q54.7739 870.754 57.3202 868.78 Q59.8346 866.807 59.8346 862.86 Q59.8346 858.118 56.8109 855.381 Q53.7872 852.612 48.5673 852.612 L28.3562 852.612 L28.3562 846.755 L64.0042 846.755 L64.0042 852.612 L58.5296 852.612 Q61.7762 854.744 63.3676 857.577 Q64.9272 860.378 64.9272 864.102 Q64.9272 870.245 61.1078 873.427 Q57.2883 876.61 49.9359 876.61 M27.4968 861.874 L27.4968 861.874 Z\" fill=\"#000000\" fill-rule=\"evenodd\" fill-opacity=\"1\" /><path clip-path=\"url(#clip740)\" d=\"M42.4881 805.06 L64.0042 805.06 L64.0042 810.916 L42.679 810.916 Q37.6183 810.916 35.1038 812.89 Q32.5894 814.863 32.5894 818.81 Q32.5894 823.552 35.6131 826.289 Q38.6368 829.027 43.8567 829.027 L64.0042 829.027 L64.0042 834.915 L28.3562 834.915 L28.3562 829.027 L33.8944 829.027 Q30.6797 826.926 29.0883 824.093 Q27.4968 821.229 27.4968 817.505 Q27.4968 811.362 31.3163 808.211 Q35.1038 805.06 42.4881 805.06 Z\" fill=\"#000000\" fill-rule=\"evenodd\" fill-opacity=\"1\" /><path clip-path=\"url(#clip740)\" d=\"M18.2347 787.586 L28.3562 787.586 L28.3562 775.523 L32.9077 775.523 L32.9077 787.586 L52.2594 787.586 Q56.6199 787.586 57.8613 786.408 Q59.1026 785.199 59.1026 781.538 L59.1026 775.523 L64.0042 775.523 L64.0042 781.538 Q64.0042 788.318 61.4897 790.896 Q58.9434 793.474 52.2594 793.474 L32.9077 793.474 L32.9077 797.771 L28.3562 797.771 L28.3562 793.474 L18.2347 793.474 L18.2347 787.586 Z\" fill=\"#000000\" fill-rule=\"evenodd\" fill-opacity=\"1\" /><path clip-path=\"url(#clip740)\" d=\"M28.3562 767.82 L28.3562 761.964 L64.0042 761.964 L64.0042 767.82 L28.3562 767.82 M14.479 767.82 L14.479 761.964 L21.895 761.964 L21.895 767.82 L14.479 767.82 Z\" fill=\"#000000\" fill-rule=\"evenodd\" fill-opacity=\"1\" /><path clip-path=\"url(#clip740)\" d=\"M35.1993 721.955 Q31.2526 719.759 29.3747 716.704 Q27.4968 713.648 27.4968 709.51 Q27.4968 703.94 31.4117 700.917 Q35.2948 697.893 42.4881 697.893 L64.0042 697.893 L64.0042 703.781 L42.679 703.781 Q37.5546 703.781 35.072 705.596 Q32.5894 707.41 32.5894 711.134 Q32.5894 715.685 35.6131 718.327 Q38.6368 720.969 43.8567 720.969 L64.0042 720.969 L64.0042 726.857 L42.679 726.857 Q37.5228 726.857 35.072 728.671 Q32.5894 730.485 32.5894 734.273 Q32.5894 738.761 35.6449 741.403 Q38.6686 744.044 43.8567 744.044 L64.0042 744.044 L64.0042 749.933 L28.3562 749.933 L28.3562 744.044 L33.8944 744.044 Q30.616 742.039 29.0564 739.238 Q27.4968 736.437 27.4968 732.586 Q27.4968 728.703 29.4702 725.998 Q31.4436 723.26 35.1993 721.955 Z\" fill=\"#000000\" fill-rule=\"evenodd\" fill-opacity=\"1\" /><path clip-path=\"url(#clip740)\" d=\"M44.7161 655.72 L47.5806 655.72 L47.5806 682.647 Q53.6281 682.265 56.8109 679.019 Q59.9619 675.74 59.9619 669.916 Q59.9619 666.542 59.1344 663.391 Q58.3069 660.208 56.6518 657.089 L62.1899 657.089 Q63.5267 660.24 64.227 663.55 Q64.9272 666.86 64.9272 670.266 Q64.9272 678.796 59.9619 683.793 Q54.9967 688.758 46.5303 688.758 Q37.7774 688.758 32.6531 684.048 Q27.4968 679.305 27.4968 671.284 Q27.4968 664.091 32.1438 659.922 Q36.7589 655.72 44.7161 655.72 M42.9973 661.577 Q38.1912 661.64 35.3266 664.282 Q32.4621 666.892 32.4621 671.221 Q32.4621 676.122 35.2312 679.082 Q38.0002 682.011 43.0292 682.456 L42.9973 661.577 Z\" fill=\"#000000\" fill-rule=\"evenodd\" fill-opacity=\"1\" /><path clip-path=\"url(#clip740)\" d=\"M14.5426 611.319 Q21.8632 615.584 29.0246 617.653 Q36.186 619.722 43.5384 619.722 Q50.8908 619.722 58.1159 617.653 Q65.3091 615.553 72.5979 611.319 L72.5979 616.412 Q65.1182 621.186 57.8931 623.573 Q50.668 625.929 43.5384 625.929 Q36.4406 625.929 29.2474 623.573 Q22.0542 621.218 14.5426 616.412 L14.5426 611.319 Z\" fill=\"#000000\" fill-rule=\"evenodd\" fill-opacity=\"1\" /><path clip-path=\"url(#clip740)\" d=\"M29.4065 577.231 L34.9447 577.231 Q33.6716 579.714 33.035 582.387 Q32.3984 585.061 32.3984 587.925 Q32.3984 592.286 33.7352 594.482 Q35.072 596.646 37.7456 596.646 Q39.7826 596.646 40.9603 595.087 Q42.1061 593.527 43.1565 588.817 L43.6021 586.811 Q44.9389 580.573 47.3897 577.963 Q49.8086 575.321 54.1691 575.321 Q59.1344 575.321 62.0308 579.268 Q64.9272 583.183 64.9272 590.058 Q64.9272 592.923 64.3543 596.042 Q63.8132 599.129 62.6992 602.567 L56.6518 602.567 Q58.3387 599.32 59.198 596.169 Q60.0256 593.018 60.0256 589.931 Q60.0256 585.793 58.6251 583.565 Q57.1929 581.337 54.6147 581.337 Q52.2276 581.337 50.9545 582.96 Q49.6813 584.552 48.5037 589.994 L48.0262 592.031 Q46.8804 597.474 44.5251 599.893 Q42.138 602.312 38.0002 602.312 Q32.9713 602.312 30.2341 598.747 Q27.4968 595.182 27.4968 588.626 Q27.4968 585.379 27.9743 582.515 Q28.4517 579.65 29.4065 577.231 Z\" fill=\"#000000\" fill-rule=\"evenodd\" fill-opacity=\"1\" /><path clip-path=\"url(#clip740)\" d=\"M14.5426 566.919 L14.5426 561.826 Q22.0542 557.052 29.2474 554.696 Q36.4406 552.309 43.5384 552.309 Q50.668 552.309 57.8931 554.696 Q65.1182 557.052 72.5979 561.826 L72.5979 566.919 Q65.3091 562.685 58.1159 560.617 Q50.8908 558.516 43.5384 558.516 Q36.186 558.516 29.0246 560.617 Q21.8632 562.685 14.5426 566.919 Z\" fill=\"#000000\" fill-rule=\"evenodd\" fill-opacity=\"1\" /><polyline clip-path=\"url(#clip742)\" style=\"stroke:#009af9; stroke-linecap:round; stroke-linejoin:round; stroke-width:4; stroke-opacity:1; fill:none\" points=\"\n",
       "  309.539,421.939 529.951,86.1857 750.363,302.791 970.774,864.496 1852.42,1384.24 2072.83,1215.15 2293.24,1053.24 \n",
       "  \"/>\n",
       "</svg>\n"
      ]
     },
     "execution_count": 116,
     "metadata": {},
     "output_type": "execute_result"
    }
   ],
   "source": [
    "plot(nblocks_list, runtimes_nblocks; xlabel= \"Number of blocks\", ylabel = \"Runtime (s)\", legend = false)"
   ]
  },
  {
   "cell_type": "markdown",
   "id": "f10e5e89-f4e2-4c06-ac4d-606705e675cc",
   "metadata": {},
   "source": [
    "By specifying the number of blocks needed..."
   ]
  },
  {
   "cell_type": "code",
   "execution_count": 119,
   "id": "5584f25b-6c75-4284-85d6-4c5a15b0b032",
   "metadata": {},
   "outputs": [
    {
     "data": {
      "text/plain": [
       "20-element Vector{UnitRange{Int64}}:\n",
       " 1:367\n",
       " 368:734\n",
       " 735:1101\n",
       " 1102:1468\n",
       " 1469:1835\n",
       " 1836:2202\n",
       " 2203:2569\n",
       " 2570:2936\n",
       " 2937:3303\n",
       " 3304:3670\n",
       " 3671:4037\n",
       " 4038:4404\n",
       " 4405:4771\n",
       " 4772:5138\n",
       " 5139:5505\n",
       " 5506:5872\n",
       " 5873:6239\n",
       " 6240:6606\n",
       " 6607:6973\n",
       " 6974:7321"
      ]
     },
     "execution_count": 119,
     "metadata": {},
     "output_type": "execute_result"
    }
   ],
   "source": [
    "bs = Int(ceil(p/20));\n",
    "blocks_partitions = partition_array_indices(p, bs)"
   ]
  },
  {
   "cell_type": "code",
   "execution_count": 120,
   "id": "fe56ba78-36d5-413e-b76c-4aa7d4ba562c",
   "metadata": {},
   "outputs": [
    {
     "data": {
      "text/plain": [
       "BenchmarkTools.Trial: 9 samples with 1 evaluation.\n",
       " Range \u001b[90m(\u001b[39m\u001b[36m\u001b[1mmin\u001b[22m\u001b[39m … \u001b[35mmax\u001b[39m\u001b[90m):  \u001b[39m\u001b[36m\u001b[1m456.133 ms\u001b[22m\u001b[39m … \u001b[35m721.516 ms\u001b[39m  \u001b[90m┊\u001b[39m GC \u001b[90m(\u001b[39mmin … max\u001b[90m): \u001b[39m0.00% … 0.00%\n",
       " Time  \u001b[90m(\u001b[39m\u001b[34m\u001b[1mmedian\u001b[22m\u001b[39m\u001b[90m):     \u001b[39m\u001b[34m\u001b[1m559.016 ms               \u001b[22m\u001b[39m\u001b[90m┊\u001b[39m GC \u001b[90m(\u001b[39mmedian\u001b[90m):    \u001b[39m0.00%\n",
       " Time  \u001b[90m(\u001b[39m\u001b[32m\u001b[1mmean\u001b[22m\u001b[39m ± \u001b[32mσ\u001b[39m\u001b[90m):   \u001b[39m\u001b[32m\u001b[1m563.718 ms\u001b[22m\u001b[39m ± \u001b[32m105.480 ms\u001b[39m  \u001b[90m┊\u001b[39m GC \u001b[90m(\u001b[39mmean ± σ\u001b[90m):  \u001b[39m0.00% ± 0.00%\n",
       "\n",
       "  \u001b[39m█\u001b[39m \u001b[39m \u001b[39m \u001b[39m \u001b[39m \u001b[39m \u001b[39m \u001b[39m \u001b[39m \u001b[39m \u001b[34m \u001b[39m\u001b[39m \u001b[39m \u001b[39m \u001b[39m \u001b[39m \u001b[39m \u001b[39m \u001b[39m \u001b[39m \u001b[39m \u001b[39m \u001b[39m \u001b[39m \u001b[32m \u001b[39m\u001b[39m \u001b[39m \u001b[39m \u001b[39m \u001b[39m \u001b[39m \u001b[39m \u001b[39m \u001b[39m \u001b[39m \u001b[39m \u001b[39m \u001b[39m \u001b[39m \u001b[39m \u001b[39m \u001b[39m \u001b[39m \u001b[39m \u001b[39m \u001b[39m \u001b[39m \u001b[39m \u001b[39m \u001b[39m \u001b[39m \u001b[39m \u001b[39m \u001b[39m \u001b[39m \u001b[39m \u001b[39m \u001b[39m \u001b[39m \u001b[39m▃\u001b[39m \u001b[39m \n",
       "  \u001b[39m█\u001b[39m▁\u001b[39m▁\u001b[39m▁\u001b[39m▁\u001b[39m▁\u001b[39m▁\u001b[39m▁\u001b[39m▁\u001b[39m▁\u001b[39m▁\u001b[34m▇\u001b[39m\u001b[39m▁\u001b[39m▁\u001b[39m▁\u001b[39m▁\u001b[39m▁\u001b[39m▁\u001b[39m▁\u001b[39m▁\u001b[39m▁\u001b[39m▁\u001b[39m▁\u001b[39m▇\u001b[39m▁\u001b[32m▁\u001b[39m\u001b[39m▁\u001b[39m▁\u001b[39m▇\u001b[39m▁\u001b[39m▁\u001b[39m▁\u001b[39m▁\u001b[39m▁\u001b[39m▁\u001b[39m▁\u001b[39m▇\u001b[39m▁\u001b[39m▁\u001b[39m▁\u001b[39m▁\u001b[39m▁\u001b[39m▁\u001b[39m▁\u001b[39m▁\u001b[39m▁\u001b[39m▁\u001b[39m▁\u001b[39m▁\u001b[39m▁\u001b[39m▁\u001b[39m▁\u001b[39m▁\u001b[39m▁\u001b[39m▁\u001b[39m▁\u001b[39m▁\u001b[39m▁\u001b[39m▁\u001b[39m▁\u001b[39m█\u001b[39m \u001b[39m▁\n",
       "  456 ms\u001b[90m           Histogram: frequency by time\u001b[39m          722 ms \u001b[0m\u001b[1m<\u001b[22m\n",
       "\n",
       " Memory estimate\u001b[90m: \u001b[39m\u001b[33m55.93 MiB\u001b[39m, allocs estimate\u001b[90m: \u001b[39m\u001b[33m1898\u001b[39m."
      ]
     },
     "execution_count": 120,
     "metadata": {},
     "output_type": "execute_result"
    }
   ],
   "source": [
    "@benchmark pmap(x -> scan_distributed_block(r0perm, X00, x), blocks_partitions)"
   ]
  },
  {
   "cell_type": "code",
   "execution_count": 82,
   "id": "82a9048d-e1e2-42b3-a779-4683edabbc66",
   "metadata": {},
   "outputs": [
    {
     "data": {
      "text/plain": [
       "141-element Vector{UnitRange{Int64}}:\n",
       " 1:52\n",
       " 53:104\n",
       " 105:156\n",
       " 157:208\n",
       " 209:260\n",
       " 261:312\n",
       " 313:364\n",
       " 365:416\n",
       " 417:468\n",
       " 469:520\n",
       " 521:572\n",
       " 573:624\n",
       " 625:676\n",
       " ⋮\n",
       " 6709:6760\n",
       " 6761:6812\n",
       " 6813:6864\n",
       " 6865:6916\n",
       " 6917:6968\n",
       " 6969:7020\n",
       " 7021:7072\n",
       " 7073:7124\n",
       " 7125:7176\n",
       " 7177:7228\n",
       " 7229:7280\n",
       " 7281:7321"
      ]
     },
     "execution_count": 82,
     "metadata": {},
     "output_type": "execute_result"
    }
   ],
   "source": [
    "nblocks = 140;\n",
    "blocks_partitions = partition_array_indices(p, Int(floor(p/nblocks)))"
   ]
  },
  {
   "cell_type": "code",
   "execution_count": 83,
   "id": "0641c042-fe8b-426e-84de-7d6fe3e6fb75",
   "metadata": {},
   "outputs": [
    {
     "data": {
      "text/plain": [
       "BenchmarkTools.Trial: 11 samples with 1 evaluation.\n",
       " Range \u001b[90m(\u001b[39m\u001b[36m\u001b[1mmin\u001b[22m\u001b[39m … \u001b[35mmax\u001b[39m\u001b[90m):  \u001b[39m\u001b[36m\u001b[1m463.442 ms\u001b[22m\u001b[39m … \u001b[35m472.534 ms\u001b[39m  \u001b[90m┊\u001b[39m GC \u001b[90m(\u001b[39mmin … max\u001b[90m): \u001b[39m0.00% … 0.00%\n",
       " Time  \u001b[90m(\u001b[39m\u001b[34m\u001b[1mmedian\u001b[22m\u001b[39m\u001b[90m):     \u001b[39m\u001b[34m\u001b[1m467.622 ms               \u001b[22m\u001b[39m\u001b[90m┊\u001b[39m GC \u001b[90m(\u001b[39mmedian\u001b[90m):    \u001b[39m0.00%\n",
       " Time  \u001b[90m(\u001b[39m\u001b[32m\u001b[1mmean\u001b[22m\u001b[39m ± \u001b[32mσ\u001b[39m\u001b[90m):   \u001b[39m\u001b[32m\u001b[1m467.717 ms\u001b[22m\u001b[39m ± \u001b[32m  2.425 ms\u001b[39m  \u001b[90m┊\u001b[39m GC \u001b[90m(\u001b[39mmean ± σ\u001b[90m):  \u001b[39m0.00% ± 0.00%\n",
       "\n",
       "  \u001b[39m█\u001b[39m \u001b[39m \u001b[39m \u001b[39m \u001b[39m \u001b[39m \u001b[39m \u001b[39m \u001b[39m \u001b[39m█\u001b[39m \u001b[39m \u001b[39m \u001b[39m \u001b[39m \u001b[39m \u001b[39m \u001b[39m█\u001b[39m \u001b[39m \u001b[39m \u001b[39m \u001b[39m \u001b[39m█\u001b[34m█\u001b[39m\u001b[39m \u001b[39m \u001b[39m█\u001b[32m \u001b[39m\u001b[39m \u001b[39m \u001b[39m█\u001b[39m \u001b[39m \u001b[39m█\u001b[39m \u001b[39m \u001b[39m█\u001b[39m \u001b[39m█\u001b[39m \u001b[39m \u001b[39m \u001b[39m \u001b[39m \u001b[39m \u001b[39m \u001b[39m \u001b[39m \u001b[39m \u001b[39m \u001b[39m \u001b[39m \u001b[39m \u001b[39m \u001b[39m \u001b[39m \u001b[39m \u001b[39m \u001b[39m█\u001b[39m \u001b[39m \n",
       "  \u001b[39m█\u001b[39m▁\u001b[39m▁\u001b[39m▁\u001b[39m▁\u001b[39m▁\u001b[39m▁\u001b[39m▁\u001b[39m▁\u001b[39m▁\u001b[39m█\u001b[39m▁\u001b[39m▁\u001b[39m▁\u001b[39m▁\u001b[39m▁\u001b[39m▁\u001b[39m▁\u001b[39m█\u001b[39m▁\u001b[39m▁\u001b[39m▁\u001b[39m▁\u001b[39m▁\u001b[39m█\u001b[34m█\u001b[39m\u001b[39m▁\u001b[39m▁\u001b[39m█\u001b[32m▁\u001b[39m\u001b[39m▁\u001b[39m▁\u001b[39m█\u001b[39m▁\u001b[39m▁\u001b[39m█\u001b[39m▁\u001b[39m▁\u001b[39m█\u001b[39m▁\u001b[39m█\u001b[39m▁\u001b[39m▁\u001b[39m▁\u001b[39m▁\u001b[39m▁\u001b[39m▁\u001b[39m▁\u001b[39m▁\u001b[39m▁\u001b[39m▁\u001b[39m▁\u001b[39m▁\u001b[39m▁\u001b[39m▁\u001b[39m▁\u001b[39m▁\u001b[39m▁\u001b[39m▁\u001b[39m▁\u001b[39m█\u001b[39m \u001b[39m▁\n",
       "  463 ms\u001b[90m           Histogram: frequency by time\u001b[39m          473 ms \u001b[0m\u001b[1m<\u001b[22m\n",
       "\n",
       " Memory estimate\u001b[90m: \u001b[39m\u001b[33m56.31 MiB\u001b[39m, allocs estimate\u001b[90m: \u001b[39m\u001b[33m11480\u001b[39m."
      ]
     },
     "execution_count": 83,
     "metadata": {},
     "output_type": "execute_result"
    }
   ],
   "source": [
    "@benchmark pmap(x -> scan_distributed_block(r0perm, X00, x), blocks_partitions)"
   ]
  },
  {
   "cell_type": "code",
   "execution_count": 84,
   "id": "30727d4d-f845-4792-a968-db6d50656bc6",
   "metadata": {},
   "outputs": [
    {
     "data": {
      "text/plain": [
       "204-element Vector{UnitRange{Int64}}:\n",
       " 1:36\n",
       " 37:72\n",
       " 73:108\n",
       " 109:144\n",
       " 145:180\n",
       " 181:216\n",
       " 217:252\n",
       " 253:288\n",
       " 289:324\n",
       " 325:360\n",
       " 361:396\n",
       " 397:432\n",
       " 433:468\n",
       " ⋮\n",
       " 6913:6948\n",
       " 6949:6984\n",
       " 6985:7020\n",
       " 7021:7056\n",
       " 7057:7092\n",
       " 7093:7128\n",
       " 7129:7164\n",
       " 7165:7200\n",
       " 7201:7236\n",
       " 7237:7272\n",
       " 7273:7308\n",
       " 7309:7321"
      ]
     },
     "execution_count": 84,
     "metadata": {},
     "output_type": "execute_result"
    }
   ],
   "source": [
    "nblocks = 200;\n",
    "blocks_partitions = partition_array_indices(p, Int(floor(p/nblocks)))"
   ]
  },
  {
   "cell_type": "code",
   "execution_count": 85,
   "id": "4bc52af4-674d-43d4-9b2f-2c15719e1a85",
   "metadata": {},
   "outputs": [
    {
     "data": {
      "text/plain": [
       "BenchmarkTools.Trial: 10 samples with 1 evaluation.\n",
       " Range \u001b[90m(\u001b[39m\u001b[36m\u001b[1mmin\u001b[22m\u001b[39m … \u001b[35mmax\u001b[39m\u001b[90m):  \u001b[39m\u001b[36m\u001b[1m493.522 ms\u001b[22m\u001b[39m … \u001b[35m563.766 ms\u001b[39m  \u001b[90m┊\u001b[39m GC \u001b[90m(\u001b[39mmin … max\u001b[90m): \u001b[39m0.00% … 0.00%\n",
       " Time  \u001b[90m(\u001b[39m\u001b[34m\u001b[1mmedian\u001b[22m\u001b[39m\u001b[90m):     \u001b[39m\u001b[34m\u001b[1m533.823 ms               \u001b[22m\u001b[39m\u001b[90m┊\u001b[39m GC \u001b[90m(\u001b[39mmedian\u001b[90m):    \u001b[39m0.00%\n",
       " Time  \u001b[90m(\u001b[39m\u001b[32m\u001b[1mmean\u001b[22m\u001b[39m ± \u001b[32mσ\u001b[39m\u001b[90m):   \u001b[39m\u001b[32m\u001b[1m530.495 ms\u001b[22m\u001b[39m ± \u001b[32m 30.482 ms\u001b[39m  \u001b[90m┊\u001b[39m GC \u001b[90m(\u001b[39mmean ± σ\u001b[90m):  \u001b[39m0.00% ± 0.00%\n",
       "\n",
       "  \u001b[39m█\u001b[39m \u001b[39m \u001b[39m \u001b[39m▁\u001b[39m \u001b[39m \u001b[39m \u001b[39m \u001b[39m▁\u001b[39m \u001b[39m \u001b[39m \u001b[39m \u001b[39m \u001b[39m \u001b[39m \u001b[39m \u001b[39m \u001b[39m \u001b[39m \u001b[39m \u001b[39m \u001b[39m \u001b[39m \u001b[39m \u001b[39m \u001b[39m \u001b[39m \u001b[39m \u001b[39m \u001b[34m▁\u001b[39m\u001b[32m \u001b[39m\u001b[39m \u001b[39m \u001b[39m \u001b[39m \u001b[39m \u001b[39m▁\u001b[39m \u001b[39m \u001b[39m \u001b[39m \u001b[39m \u001b[39m \u001b[39m \u001b[39m \u001b[39m \u001b[39m \u001b[39m \u001b[39m \u001b[39m \u001b[39m \u001b[39m \u001b[39m \u001b[39m \u001b[39m \u001b[39m▁\u001b[39m▁\u001b[39m▁\u001b[39m▁\u001b[39m \u001b[39m \n",
       "  \u001b[39m█\u001b[39m▁\u001b[39m▁\u001b[39m▁\u001b[39m█\u001b[39m▁\u001b[39m▁\u001b[39m▁\u001b[39m▁\u001b[39m█\u001b[39m▁\u001b[39m▁\u001b[39m▁\u001b[39m▁\u001b[39m▁\u001b[39m▁\u001b[39m▁\u001b[39m▁\u001b[39m▁\u001b[39m▁\u001b[39m▁\u001b[39m▁\u001b[39m▁\u001b[39m▁\u001b[39m▁\u001b[39m▁\u001b[39m▁\u001b[39m▁\u001b[39m▁\u001b[39m▁\u001b[39m▁\u001b[34m█\u001b[39m\u001b[32m▁\u001b[39m\u001b[39m▁\u001b[39m▁\u001b[39m▁\u001b[39m▁\u001b[39m▁\u001b[39m█\u001b[39m▁\u001b[39m▁\u001b[39m▁\u001b[39m▁\u001b[39m▁\u001b[39m▁\u001b[39m▁\u001b[39m▁\u001b[39m▁\u001b[39m▁\u001b[39m▁\u001b[39m▁\u001b[39m▁\u001b[39m▁\u001b[39m▁\u001b[39m▁\u001b[39m▁\u001b[39m▁\u001b[39m█\u001b[39m█\u001b[39m█\u001b[39m█\u001b[39m \u001b[39m▁\n",
       "  494 ms\u001b[90m           Histogram: frequency by time\u001b[39m          564 ms \u001b[0m\u001b[1m<\u001b[22m\n",
       "\n",
       " Memory estimate\u001b[90m: \u001b[39m\u001b[33m56.47 MiB\u001b[39m, allocs estimate\u001b[90m: \u001b[39m\u001b[33m15315\u001b[39m."
      ]
     },
     "execution_count": 85,
     "metadata": {},
     "output_type": "execute_result"
    }
   ],
   "source": [
    "@benchmark pmap(x -> scan_distributed_block(r0perm, X00, x), blocks_partitions)"
   ]
  },
  {
   "cell_type": "code",
   "execution_count": 86,
   "id": "7b4a5aba-6807-4314-9300-b2ad17932883",
   "metadata": {},
   "outputs": [
    {
     "data": {
      "text/plain": [
       "732"
      ]
     },
     "execution_count": 86,
     "metadata": {},
     "output_type": "execute_result"
    }
   ],
   "source": [
    "Int(floor(p/10))"
   ]
  },
  {
   "cell_type": "code",
   "execution_count": 87,
   "id": "4586d680-b73c-4506-b8b5-0eb6c09e9976",
   "metadata": {},
   "outputs": [
    {
     "data": {
      "text/plain": [
       "11-element Vector{UnitRange{Int64}}:\n",
       " 1:732\n",
       " 733:1464\n",
       " 1465:2196\n",
       " 2197:2928\n",
       " 2929:3660\n",
       " 3661:4392\n",
       " 4393:5124\n",
       " 5125:5856\n",
       " 5857:6588\n",
       " 6589:7320\n",
       " 7321:7321"
      ]
     },
     "execution_count": 87,
     "metadata": {},
     "output_type": "execute_result"
    }
   ],
   "source": [
    "partition_array_indices(p, 732)"
   ]
  },
  {
   "cell_type": "markdown",
   "id": "76e7e55e-1a76-480a-82ca-7172524f4cfc",
   "metadata": {},
   "source": [
    "## Miscellaneous:"
   ]
  },
  {
   "cell_type": "code",
   "execution_count": 88,
   "id": "093b3771-eacb-494b-9d2c-477510f03949",
   "metadata": {},
   "outputs": [
    {
     "data": {
      "text/plain": [
       "79"
      ]
     },
     "execution_count": 88,
     "metadata": {},
     "output_type": "execute_result"
    }
   ],
   "source": [
    "n = size(y0, 1)"
   ]
  },
  {
   "cell_type": "code",
   "execution_count": 89,
   "id": "bb13ae51-891e-40a9-8275-a633b33c8d40",
   "metadata": {},
   "outputs": [],
   "source": [
    "Loops_y0 = Array{Float64, 2}(undef, n, 10);"
   ]
  },
  {
   "cell_type": "code",
   "execution_count": 90,
   "id": "f165bce8-1113-440c-9ea3-30ddbc63c4a0",
   "metadata": {},
   "outputs": [],
   "source": [
    "for i = 1:10\n",
    "    Loops_y0[:, i] = rotateData(pheno_y, geno, kinship)[1]\n",
    "end\n",
    "\n",
    "first_col = Loops_y0[:, 1];"
   ]
  },
  {
   "cell_type": "code",
   "execution_count": 91,
   "id": "d55188a7-55db-46db-8a9c-6af98c187b0c",
   "metadata": {},
   "outputs": [],
   "source": [
    "test_list = mapslices(x -> x .- first_col, Loops_y0; dims = 1);"
   ]
  },
  {
   "cell_type": "code",
   "execution_count": 92,
   "id": "3810b6c6-a965-4eff-81da-e1d50c8f9ccf",
   "metadata": {},
   "outputs": [
    {
     "data": {
      "text/plain": [
       "79×10 Matrix{Float64}:\n",
       " 0.0  0.0  0.0  0.0  0.0  0.0  0.0  0.0  0.0  0.0\n",
       " 0.0  0.0  0.0  0.0  0.0  0.0  0.0  0.0  0.0  0.0\n",
       " 0.0  0.0  0.0  0.0  0.0  0.0  0.0  0.0  0.0  0.0\n",
       " 0.0  0.0  0.0  0.0  0.0  0.0  0.0  0.0  0.0  0.0\n",
       " 0.0  0.0  0.0  0.0  0.0  0.0  0.0  0.0  0.0  0.0\n",
       " 0.0  0.0  0.0  0.0  0.0  0.0  0.0  0.0  0.0  0.0\n",
       " 0.0  0.0  0.0  0.0  0.0  0.0  0.0  0.0  0.0  0.0\n",
       " 0.0  0.0  0.0  0.0  0.0  0.0  0.0  0.0  0.0  0.0\n",
       " 0.0  0.0  0.0  0.0  0.0  0.0  0.0  0.0  0.0  0.0\n",
       " 0.0  0.0  0.0  0.0  0.0  0.0  0.0  0.0  0.0  0.0\n",
       " 0.0  0.0  0.0  0.0  0.0  0.0  0.0  0.0  0.0  0.0\n",
       " 0.0  0.0  0.0  0.0  0.0  0.0  0.0  0.0  0.0  0.0\n",
       " 0.0  0.0  0.0  0.0  0.0  0.0  0.0  0.0  0.0  0.0\n",
       " ⋮                        ⋮                   \n",
       " 0.0  0.0  0.0  0.0  0.0  0.0  0.0  0.0  0.0  0.0\n",
       " 0.0  0.0  0.0  0.0  0.0  0.0  0.0  0.0  0.0  0.0\n",
       " 0.0  0.0  0.0  0.0  0.0  0.0  0.0  0.0  0.0  0.0\n",
       " 0.0  0.0  0.0  0.0  0.0  0.0  0.0  0.0  0.0  0.0\n",
       " 0.0  0.0  0.0  0.0  0.0  0.0  0.0  0.0  0.0  0.0\n",
       " 0.0  0.0  0.0  0.0  0.0  0.0  0.0  0.0  0.0  0.0\n",
       " 0.0  0.0  0.0  0.0  0.0  0.0  0.0  0.0  0.0  0.0\n",
       " 0.0  0.0  0.0  0.0  0.0  0.0  0.0  0.0  0.0  0.0\n",
       " 0.0  0.0  0.0  0.0  0.0  0.0  0.0  0.0  0.0  0.0\n",
       " 0.0  0.0  0.0  0.0  0.0  0.0  0.0  0.0  0.0  0.0\n",
       " 0.0  0.0  0.0  0.0  0.0  0.0  0.0  0.0  0.0  0.0\n",
       " 0.0  0.0  0.0  0.0  0.0  0.0  0.0  0.0  0.0  0.0"
      ]
     },
     "execution_count": 92,
     "metadata": {},
     "output_type": "execute_result"
    }
   ],
   "source": [
    "test_list"
   ]
  },
  {
   "cell_type": "code",
   "execution_count": 93,
   "id": "186d4346-77c6-41aa-916a-588eb30cc474",
   "metadata": {},
   "outputs": [
    {
     "data": {
      "text/plain": [
       "9-element Vector{Int64}:\n",
       " 1\n",
       " 2\n",
       " 3\n",
       " 4\n",
       " 5\n",
       " 6\n",
       " 7\n",
       " 8\n",
       " 9"
      ]
     },
     "execution_count": 93,
     "metadata": {},
     "output_type": "execute_result"
    }
   ],
   "source": [
    "# addprocs(7);\n",
    "procs()"
   ]
  },
  {
   "cell_type": "code",
   "execution_count": 94,
   "id": "a4e58112-4bc8-451a-939f-84f5d48c7869",
   "metadata": {},
   "outputs": [],
   "source": [
    "@everywhere begin\n",
    "    using Random\n",
    "    using LinearAlgebra\n",
    "    using Optim\n",
    "    using DelimitedFiles\n",
    "    \n",
    "    ## Include the source code of BulkLMM to be tested:\n",
    "    include(\"../src/scan.jl\");\n",
    "    include(\"../src/lmm.jl\");\n",
    "    include(\"../src/wls.jl\");\n",
    "    include(\"../src/util.jl\");\n",
    "    include(\"../src/kinship.jl\");\n",
    "    include(\"../src/readData.jl\");\n",
    "    include(\"../src/scan_for_tests.jl\")\n",
    "    include(\"../src/scan_distributed.jl\")\n",
    "\n",
    "end"
   ]
  },
  {
   "cell_type": "code",
   "execution_count": 95,
   "id": "946810d5-3940-4ea9-af22-5e0381b15f97",
   "metadata": {},
   "outputs": [],
   "source": [
    "@everywhere begin \n",
    "    pheno_file = \"../data/bxdData/BXDtraits.csv\"\n",
    "    pheno = readBXDpheno(pheno_file);\n",
    "    geno_file = \"../data/bxdData/BXDgeno_prob.csv\"\n",
    "    geno = readGenoProb_ExcludeComplements(geno_file);\n",
    "\n",
    "    kinship = calcKinship(geno); # calculate kinship matrix from genotype data\n",
    "end"
   ]
  },
  {
   "cell_type": "code",
   "execution_count": 96,
   "id": "b92e495f-4b8d-4918-a356-9f3ad38b91da",
   "metadata": {},
   "outputs": [
    {
     "data": {
      "text/plain": [
       "9-element Vector{Int64}:\n",
       " 1\n",
       " 2\n",
       " 3\n",
       " 4\n",
       " 5\n",
       " 6\n",
       " 7\n",
       " 8\n",
       " 9"
      ]
     },
     "execution_count": 96,
     "metadata": {},
     "output_type": "execute_result"
    }
   ],
   "source": [
    "procs()"
   ]
  },
  {
   "cell_type": "code",
   "execution_count": 97,
   "id": "55b94089-413c-4d9a-9390-0659540848f8",
   "metadata": {},
   "outputs": [],
   "source": [
    "# rmprocs([2, 3, 4, 5, 6, 7, 8, 9, 10])"
   ]
  },
  {
   "cell_type": "code",
   "execution_count": 98,
   "id": "04c55e2e-9a2f-4426-a373-eb9aa2ef483b",
   "metadata": {},
   "outputs": [],
   "source": [
    "disLoops_y0 = @distributed (hcat) for i = 1:10\n",
    "    rotateData(pheno_y, geno, kinship)[1]\n",
    "end\n",
    "\n",
    "first_dis_col = disLoops_y0[:, 1];\n"
   ]
  },
  {
   "cell_type": "code",
   "execution_count": 99,
   "id": "f87da9cb-a31a-426a-b46e-9f3f227b050d",
   "metadata": {},
   "outputs": [
    {
     "data": {
      "text/plain": [
       "79×10 Matrix{Float64}:\n",
       " 0.0  0.0  0.0  0.0  0.0  0.0  0.0  0.0  0.0  0.0\n",
       " 0.0  0.0  0.0  0.0  0.0  0.0  0.0  0.0  0.0  0.0\n",
       " 0.0  0.0  0.0  0.0  0.0  0.0  0.0  0.0  0.0  0.0\n",
       " 0.0  0.0  0.0  0.0  0.0  0.0  0.0  0.0  0.0  0.0\n",
       " 0.0  0.0  0.0  0.0  0.0  0.0  0.0  0.0  0.0  0.0\n",
       " 0.0  0.0  0.0  0.0  0.0  0.0  0.0  0.0  0.0  0.0\n",
       " 0.0  0.0  0.0  0.0  0.0  0.0  0.0  0.0  0.0  0.0\n",
       " 0.0  0.0  0.0  0.0  0.0  0.0  0.0  0.0  0.0  0.0\n",
       " 0.0  0.0  0.0  0.0  0.0  0.0  0.0  0.0  0.0  0.0\n",
       " 0.0  0.0  0.0  0.0  0.0  0.0  0.0  0.0  0.0  0.0\n",
       " 0.0  0.0  0.0  0.0  0.0  0.0  0.0  0.0  0.0  0.0\n",
       " 0.0  0.0  0.0  0.0  0.0  0.0  0.0  0.0  0.0  0.0\n",
       " 0.0  0.0  0.0  0.0  0.0  0.0  0.0  0.0  0.0  0.0\n",
       " ⋮                        ⋮                   \n",
       " 0.0  0.0  0.0  0.0  0.0  0.0  0.0  0.0  0.0  0.0\n",
       " 0.0  0.0  0.0  0.0  0.0  0.0  0.0  0.0  0.0  0.0\n",
       " 0.0  0.0  0.0  0.0  0.0  0.0  0.0  0.0  0.0  0.0\n",
       " 0.0  0.0  0.0  0.0  0.0  0.0  0.0  0.0  0.0  0.0\n",
       " 0.0  0.0  0.0  0.0  0.0  0.0  0.0  0.0  0.0  0.0\n",
       " 0.0  0.0  0.0  0.0  0.0  0.0  0.0  0.0  0.0  0.0\n",
       " 0.0  0.0  0.0  0.0  0.0  0.0  0.0  0.0  0.0  0.0\n",
       " 0.0  0.0  0.0  0.0  0.0  0.0  0.0  0.0  0.0  0.0\n",
       " 0.0  0.0  0.0  0.0  0.0  0.0  0.0  0.0  0.0  0.0\n",
       " 0.0  0.0  0.0  0.0  0.0  0.0  0.0  0.0  0.0  0.0\n",
       " 0.0  0.0  0.0  0.0  0.0  0.0  0.0  0.0  0.0  0.0\n",
       " 0.0  0.0  0.0  0.0  0.0  0.0  0.0  0.0  0.0  0.0"
      ]
     },
     "execution_count": 99,
     "metadata": {},
     "output_type": "execute_result"
    }
   ],
   "source": [
    "test_dis_list = mapslices(x -> x .- first_dis_col, disLoops_y0; dims = 1);\n",
    "test_dis_list"
   ]
  },
  {
   "cell_type": "code",
   "execution_count": 100,
   "id": "c6e7e522-5fff-46d1-b442-83679e1a1239",
   "metadata": {},
   "outputs": [
    {
     "ename": "LoadError",
     "evalue": "UndefVarError: pmaps_y0 not defined",
     "output_type": "error",
     "traceback": [
      "UndefVarError: pmaps_y0 not defined",
      "",
      "Stacktrace:",
      " [1] top-level scope",
      "   @ :0",
      " [2] eval",
      "   @ ./boot.jl:368 [inlined]",
      " [3] include_string(mapexpr::typeof(REPL.softscope), mod::Module, code::String, filename::String)",
      "   @ Base ./loading.jl:1428"
     ]
    }
   ],
   "source": [
    "pmaps_y0"
   ]
  },
  {
   "cell_type": "code",
   "execution_count": 101,
   "id": "b101bb2b-f881-47f5-af95-20031f4393f8",
   "metadata": {},
   "outputs": [
    {
     "data": {
      "text/plain": [
       "15×6 Matrix{Float64}:\n",
       " -0.154545     -0.154545     -0.154545     …  -0.154545     -0.154545\n",
       " -0.535436     -0.535436     -0.535436        -0.535436     -0.535436\n",
       " -0.533096     -0.533096     -0.533096        -0.533096     -0.533096\n",
       "  0.369575      0.369575      0.369575         0.369575      0.369575\n",
       "  0.593334      0.593334      0.593334         0.593334      0.593334\n",
       "  0.158392      0.158392      0.158392     …   0.158392      0.158392\n",
       " -0.185084     -0.185084     -0.185084        -0.185084     -0.185084\n",
       "  0.0298419     0.0298419     0.0298419        0.0298419     0.0298419\n",
       " -0.340062     -0.340062     -0.340062        -0.340062     -0.340062\n",
       " -0.348007     -0.348007     -0.348007        -0.348007     -0.348007\n",
       "  0.000307749   0.000307749   0.000307749  …   0.000307749   0.000307749\n",
       "  0.101604      0.101604      0.101604         0.101604      0.101604\n",
       "  0.0267104     0.0267104     0.0267104        0.0267104     0.0267104\n",
       " -0.236609     -0.236609     -0.236609        -0.236609     -0.236609\n",
       " -0.481962     -0.481962     -0.481962        -0.481962     -0.481962"
      ]
     },
     "execution_count": 101,
     "metadata": {},
     "output_type": "execute_result"
    }
   ],
   "source": [
    "Loops_y0[1:15, 1:6]"
   ]
  },
  {
   "cell_type": "code",
   "execution_count": 102,
   "id": "f2aa9c07-eef9-4afe-b606-6995796cc30e",
   "metadata": {},
   "outputs": [
    {
     "data": {
      "text/plain": [
       "15×6 Matrix{Float64}:\n",
       " -0.154545     -0.154545     -0.154545     …  -0.154545     -0.154545\n",
       "  0.535436      0.535436      0.535436         0.535436      0.535436\n",
       " -0.533096     -0.533096     -0.533096        -0.533096     -0.533096\n",
       " -0.369575     -0.369575     -0.369575        -0.369575     -0.369575\n",
       " -0.593334     -0.593334     -0.593334        -0.593334     -0.593334\n",
       " -0.158392     -0.158392     -0.158392     …  -0.158392     -0.158392\n",
       " -0.185084     -0.185084     -0.185084        -0.185084     -0.185084\n",
       " -0.0298419    -0.0298419    -0.0298419       -0.0298419    -0.0298419\n",
       " -0.340062     -0.340062     -0.340062        -0.340062     -0.340062\n",
       "  0.348007      0.348007      0.348007         0.348007      0.348007\n",
       "  0.000307749   0.000307749   0.000307749  …   0.000307749   0.000307749\n",
       "  0.101604      0.101604      0.101604         0.101604      0.101604\n",
       "  0.0267104     0.0267104     0.0267104        0.0267104     0.0267104\n",
       " -0.236609     -0.236609     -0.236609        -0.236609     -0.236609\n",
       " -0.481962     -0.481962     -0.481962        -0.481962     -0.481962"
      ]
     },
     "execution_count": 102,
     "metadata": {},
     "output_type": "execute_result"
    }
   ],
   "source": [
    "disLoops_y0[1:15, 1:6]"
   ]
  },
  {
   "cell_type": "code",
   "execution_count": 103,
   "id": "d466472f-37d6-4b7b-9205-d8ad815adb7f",
   "metadata": {},
   "outputs": [
    {
     "data": {
      "image/svg+xml": [
       "<?xml version=\"1.0\" encoding=\"utf-8\"?>\n",
       "<svg xmlns=\"http://www.w3.org/2000/svg\" xmlns:xlink=\"http://www.w3.org/1999/xlink\" width=\"600\" height=\"400\" viewBox=\"0 0 2400 1600\">\n",
       "<defs>\n",
       "  <clipPath id=\"clip660\">\n",
       "    <rect x=\"0\" y=\"0\" width=\"2400\" height=\"1600\"/>\n",
       "  </clipPath>\n",
       "</defs>\n",
       "<path clip-path=\"url(#clip660)\" d=\"\n",
       "M0 1600 L2400 1600 L2400 0 L0 0  Z\n",
       "  \" fill=\"#ffffff\" fill-rule=\"evenodd\" fill-opacity=\"1\"/>\n",
       "<defs>\n",
       "  <clipPath id=\"clip661\">\n",
       "    <rect x=\"480\" y=\"0\" width=\"1681\" height=\"1600\"/>\n",
       "  </clipPath>\n",
       "</defs>\n",
       "<path clip-path=\"url(#clip660)\" d=\"\n",
       "M224.098 1486.45 L2352.76 1486.45 L2352.76 47.2441 L224.098 47.2441  Z\n",
       "  \" fill=\"#ffffff\" fill-rule=\"evenodd\" fill-opacity=\"1\"/>\n",
       "<defs>\n",
       "  <clipPath id=\"clip662\">\n",
       "    <rect x=\"224\" y=\"47\" width=\"2130\" height=\"1440\"/>\n",
       "  </clipPath>\n",
       "</defs>\n",
       "<polyline clip-path=\"url(#clip662)\" style=\"stroke:#000000; stroke-linecap:round; stroke-linejoin:round; stroke-width:2; stroke-opacity:0.1; fill:none\" points=\"\n",
       "  427.783,1486.45 427.783,47.2441 \n",
       "  \"/>\n",
       "<polyline clip-path=\"url(#clip662)\" style=\"stroke:#000000; stroke-linecap:round; stroke-linejoin:round; stroke-width:2; stroke-opacity:0.1; fill:none\" points=\"\n",
       "  714.665,1486.45 714.665,47.2441 \n",
       "  \"/>\n",
       "<polyline clip-path=\"url(#clip662)\" style=\"stroke:#000000; stroke-linecap:round; stroke-linejoin:round; stroke-width:2; stroke-opacity:0.1; fill:none\" points=\"\n",
       "  1001.55,1486.45 1001.55,47.2441 \n",
       "  \"/>\n",
       "<polyline clip-path=\"url(#clip662)\" style=\"stroke:#000000; stroke-linecap:round; stroke-linejoin:round; stroke-width:2; stroke-opacity:0.1; fill:none\" points=\"\n",
       "  1288.43,1486.45 1288.43,47.2441 \n",
       "  \"/>\n",
       "<polyline clip-path=\"url(#clip662)\" style=\"stroke:#000000; stroke-linecap:round; stroke-linejoin:round; stroke-width:2; stroke-opacity:0.1; fill:none\" points=\"\n",
       "  1575.31,1486.45 1575.31,47.2441 \n",
       "  \"/>\n",
       "<polyline clip-path=\"url(#clip662)\" style=\"stroke:#000000; stroke-linecap:round; stroke-linejoin:round; stroke-width:2; stroke-opacity:0.1; fill:none\" points=\"\n",
       "  1862.19,1486.45 1862.19,47.2441 \n",
       "  \"/>\n",
       "<polyline clip-path=\"url(#clip662)\" style=\"stroke:#000000; stroke-linecap:round; stroke-linejoin:round; stroke-width:2; stroke-opacity:0.1; fill:none\" points=\"\n",
       "  2149.07,1486.45 2149.07,47.2441 \n",
       "  \"/>\n",
       "<polyline clip-path=\"url(#clip660)\" style=\"stroke:#000000; stroke-linecap:round; stroke-linejoin:round; stroke-width:4; stroke-opacity:1; fill:none\" points=\"\n",
       "  224.098,1486.45 2352.76,1486.45 \n",
       "  \"/>\n",
       "<polyline clip-path=\"url(#clip660)\" style=\"stroke:#000000; stroke-linecap:round; stroke-linejoin:round; stroke-width:4; stroke-opacity:1; fill:none\" points=\"\n",
       "  427.783,1486.45 427.783,1467.55 \n",
       "  \"/>\n",
       "<polyline clip-path=\"url(#clip660)\" style=\"stroke:#000000; stroke-linecap:round; stroke-linejoin:round; stroke-width:4; stroke-opacity:1; fill:none\" points=\"\n",
       "  714.665,1486.45 714.665,1467.55 \n",
       "  \"/>\n",
       "<polyline clip-path=\"url(#clip660)\" style=\"stroke:#000000; stroke-linecap:round; stroke-linejoin:round; stroke-width:4; stroke-opacity:1; fill:none\" points=\"\n",
       "  1001.55,1486.45 1001.55,1467.55 \n",
       "  \"/>\n",
       "<polyline clip-path=\"url(#clip660)\" style=\"stroke:#000000; stroke-linecap:round; stroke-linejoin:round; stroke-width:4; stroke-opacity:1; fill:none\" points=\"\n",
       "  1288.43,1486.45 1288.43,1467.55 \n",
       "  \"/>\n",
       "<polyline clip-path=\"url(#clip660)\" style=\"stroke:#000000; stroke-linecap:round; stroke-linejoin:round; stroke-width:4; stroke-opacity:1; fill:none\" points=\"\n",
       "  1575.31,1486.45 1575.31,1467.55 \n",
       "  \"/>\n",
       "<polyline clip-path=\"url(#clip660)\" style=\"stroke:#000000; stroke-linecap:round; stroke-linejoin:round; stroke-width:4; stroke-opacity:1; fill:none\" points=\"\n",
       "  1862.19,1486.45 1862.19,1467.55 \n",
       "  \"/>\n",
       "<polyline clip-path=\"url(#clip660)\" style=\"stroke:#000000; stroke-linecap:round; stroke-linejoin:round; stroke-width:4; stroke-opacity:1; fill:none\" points=\"\n",
       "  2149.07,1486.45 2149.07,1467.55 \n",
       "  \"/>\n",
       "<path clip-path=\"url(#clip660)\" d=\"M422.436 1544.91 L438.756 1544.91 L438.756 1548.85 L416.811 1548.85 L416.811 1544.91 Q419.473 1542.16 424.057 1537.53 Q428.663 1532.88 429.844 1531.53 Q432.089 1529.01 432.969 1527.27 Q433.871 1525.51 433.871 1523.82 Q433.871 1521.07 431.927 1519.33 Q430.006 1517.6 426.904 1517.6 Q424.705 1517.6 422.251 1518.36 Q419.821 1519.13 417.043 1520.68 L417.043 1515.95 Q419.867 1514.82 422.321 1514.24 Q424.774 1513.66 426.811 1513.66 Q432.182 1513.66 435.376 1516.35 Q438.57 1519.03 438.57 1523.52 Q438.57 1525.65 437.76 1527.57 Q436.973 1529.47 434.867 1532.07 Q434.288 1532.74 431.186 1535.95 Q428.084 1539.15 422.436 1544.91 Z\" fill=\"#000000\" fill-rule=\"evenodd\" fill-opacity=\"1\" /><path clip-path=\"url(#clip660)\" d=\"M717.674 1518.36 L705.868 1536.81 L717.674 1536.81 L717.674 1518.36 M716.447 1514.29 L722.327 1514.29 L722.327 1536.81 L727.257 1536.81 L727.257 1540.7 L722.327 1540.7 L722.327 1548.85 L717.674 1548.85 L717.674 1540.7 L702.072 1540.7 L702.072 1536.19 L716.447 1514.29 Z\" fill=\"#000000\" fill-rule=\"evenodd\" fill-opacity=\"1\" /><path clip-path=\"url(#clip660)\" d=\"M1001.95 1529.7 Q998.803 1529.7 996.951 1531.86 Q995.122 1534.01 995.122 1537.76 Q995.122 1541.49 996.951 1543.66 Q998.803 1545.82 1001.95 1545.82 Q1005.1 1545.82 1006.93 1543.66 Q1008.78 1541.49 1008.78 1537.76 Q1008.78 1534.01 1006.93 1531.86 Q1005.1 1529.7 1001.95 1529.7 M1011.23 1515.05 L1011.23 1519.31 Q1009.47 1518.48 1007.67 1518.04 Q1005.89 1517.6 1004.13 1517.6 Q999.497 1517.6 997.043 1520.72 Q994.613 1523.85 994.266 1530.17 Q995.631 1528.15 997.692 1527.09 Q999.752 1526 1002.23 1526 Q1007.44 1526 1010.45 1529.17 Q1013.48 1532.32 1013.48 1537.76 Q1013.48 1543.08 1010.33 1546.3 Q1007.18 1549.52 1001.95 1549.52 Q995.956 1549.52 992.784 1544.94 Q989.613 1540.33 989.613 1531.6 Q989.613 1523.41 993.502 1518.55 Q997.391 1513.66 1003.94 1513.66 Q1005.7 1513.66 1007.48 1514.01 Q1009.29 1514.36 1011.23 1515.05 Z\" fill=\"#000000\" fill-rule=\"evenodd\" fill-opacity=\"1\" /><path clip-path=\"url(#clip660)\" d=\"M1288.43 1532.44 Q1285.09 1532.44 1283.17 1534.22 Q1281.27 1536 1281.27 1539.13 Q1281.27 1542.25 1283.17 1544.03 Q1285.09 1545.82 1288.43 1545.82 Q1291.76 1545.82 1293.68 1544.03 Q1295.6 1542.23 1295.6 1539.13 Q1295.6 1536 1293.68 1534.22 Q1291.78 1532.44 1288.43 1532.44 M1283.75 1530.45 Q1280.74 1529.7 1279.05 1527.64 Q1277.39 1525.58 1277.39 1522.62 Q1277.39 1518.48 1280.33 1516.07 Q1283.29 1513.66 1288.43 1513.66 Q1293.59 1513.66 1296.53 1516.07 Q1299.47 1518.48 1299.47 1522.62 Q1299.47 1525.58 1297.78 1527.64 Q1296.11 1529.7 1293.13 1530.45 Q1296.51 1531.23 1298.38 1533.52 Q1300.28 1535.82 1300.28 1539.13 Q1300.28 1544.15 1297.2 1546.83 Q1294.14 1549.52 1288.43 1549.52 Q1282.71 1549.52 1279.63 1546.83 Q1276.58 1544.15 1276.58 1539.13 Q1276.58 1535.82 1278.47 1533.52 Q1280.37 1531.23 1283.75 1530.45 M1282.04 1523.06 Q1282.04 1525.75 1283.7 1527.25 Q1285.39 1528.76 1288.43 1528.76 Q1291.44 1528.76 1293.13 1527.25 Q1294.84 1525.75 1294.84 1523.06 Q1294.84 1520.38 1293.13 1518.87 Q1291.44 1517.37 1288.43 1517.37 Q1285.39 1517.37 1283.7 1518.87 Q1282.04 1520.38 1282.04 1523.06 Z\" fill=\"#000000\" fill-rule=\"evenodd\" fill-opacity=\"1\" /><path clip-path=\"url(#clip660)\" d=\"M1550 1544.91 L1557.63 1544.91 L1557.63 1518.55 L1549.32 1520.21 L1549.32 1515.95 L1557.59 1514.29 L1562.26 1514.29 L1562.26 1544.91 L1569.9 1544.91 L1569.9 1548.85 L1550 1548.85 L1550 1544.91 Z\" fill=\"#000000\" fill-rule=\"evenodd\" fill-opacity=\"1\" /><path clip-path=\"url(#clip660)\" d=\"M1589.35 1517.37 Q1585.74 1517.37 1583.91 1520.93 Q1582.1 1524.47 1582.1 1531.6 Q1582.1 1538.71 1583.91 1542.27 Q1585.74 1545.82 1589.35 1545.82 Q1592.98 1545.82 1594.79 1542.27 Q1596.62 1538.71 1596.62 1531.6 Q1596.62 1524.47 1594.79 1520.93 Q1592.98 1517.37 1589.35 1517.37 M1589.35 1513.66 Q1595.16 1513.66 1598.21 1518.27 Q1601.29 1522.85 1601.29 1531.6 Q1601.29 1540.33 1598.21 1544.94 Q1595.16 1549.52 1589.35 1549.52 Q1583.54 1549.52 1580.46 1544.94 Q1577.4 1540.33 1577.4 1531.6 Q1577.4 1522.85 1580.46 1518.27 Q1583.54 1513.66 1589.35 1513.66 Z\" fill=\"#000000\" fill-rule=\"evenodd\" fill-opacity=\"1\" /><path clip-path=\"url(#clip660)\" d=\"M1837.68 1544.91 L1845.31 1544.91 L1845.31 1518.55 L1837 1520.21 L1837 1515.95 L1845.27 1514.29 L1849.94 1514.29 L1849.94 1544.91 L1857.58 1544.91 L1857.58 1548.85 L1837.68 1548.85 L1837.68 1544.91 Z\" fill=\"#000000\" fill-rule=\"evenodd\" fill-opacity=\"1\" /><path clip-path=\"url(#clip660)\" d=\"M1871.05 1544.91 L1887.37 1544.91 L1887.37 1548.85 L1865.43 1548.85 L1865.43 1544.91 Q1868.09 1542.16 1872.68 1537.53 Q1877.28 1532.88 1878.46 1531.53 Q1880.71 1529.01 1881.59 1527.27 Q1882.49 1525.51 1882.49 1523.82 Q1882.49 1521.07 1880.55 1519.33 Q1878.62 1517.6 1875.52 1517.6 Q1873.32 1517.6 1870.87 1518.36 Q1868.44 1519.13 1865.66 1520.68 L1865.66 1515.95 Q1868.49 1514.82 1870.94 1514.24 Q1873.39 1513.66 1875.43 1513.66 Q1880.8 1513.66 1883.99 1516.35 Q1887.19 1519.03 1887.19 1523.52 Q1887.19 1525.65 1886.38 1527.57 Q1885.59 1529.47 1883.49 1532.07 Q1882.91 1532.74 1879.8 1535.95 Q1876.7 1539.15 1871.05 1544.91 Z\" fill=\"#000000\" fill-rule=\"evenodd\" fill-opacity=\"1\" /><path clip-path=\"url(#clip660)\" d=\"M2123.51 1544.91 L2131.15 1544.91 L2131.15 1518.55 L2122.84 1520.21 L2122.84 1515.95 L2131.11 1514.29 L2135.78 1514.29 L2135.78 1544.91 L2143.42 1544.91 L2143.42 1548.85 L2123.51 1548.85 L2123.51 1544.91 Z\" fill=\"#000000\" fill-rule=\"evenodd\" fill-opacity=\"1\" /><path clip-path=\"url(#clip660)\" d=\"M2165.71 1518.36 L2153.91 1536.81 L2165.71 1536.81 L2165.71 1518.36 M2164.49 1514.29 L2170.37 1514.29 L2170.37 1536.81 L2175.3 1536.81 L2175.3 1540.7 L2170.37 1540.7 L2170.37 1548.85 L2165.71 1548.85 L2165.71 1540.7 L2150.11 1540.7 L2150.11 1536.19 L2164.49 1514.29 Z\" fill=\"#000000\" fill-rule=\"evenodd\" fill-opacity=\"1\" /><polyline clip-path=\"url(#clip662)\" style=\"stroke:#000000; stroke-linecap:round; stroke-linejoin:round; stroke-width:2; stroke-opacity:0.1; fill:none\" points=\"\n",
       "  224.098,1338.93 2352.76,1338.93 \n",
       "  \"/>\n",
       "<polyline clip-path=\"url(#clip662)\" style=\"stroke:#000000; stroke-linecap:round; stroke-linejoin:round; stroke-width:2; stroke-opacity:0.1; fill:none\" points=\"\n",
       "  224.098,1052.89 2352.76,1052.89 \n",
       "  \"/>\n",
       "<polyline clip-path=\"url(#clip662)\" style=\"stroke:#000000; stroke-linecap:round; stroke-linejoin:round; stroke-width:2; stroke-opacity:0.1; fill:none\" points=\"\n",
       "  224.098,766.846 2352.76,766.846 \n",
       "  \"/>\n",
       "<polyline clip-path=\"url(#clip662)\" style=\"stroke:#000000; stroke-linecap:round; stroke-linejoin:round; stroke-width:2; stroke-opacity:0.1; fill:none\" points=\"\n",
       "  224.098,480.806 2352.76,480.806 \n",
       "  \"/>\n",
       "<polyline clip-path=\"url(#clip662)\" style=\"stroke:#000000; stroke-linecap:round; stroke-linejoin:round; stroke-width:2; stroke-opacity:0.1; fill:none\" points=\"\n",
       "  224.098,194.766 2352.76,194.766 \n",
       "  \"/>\n",
       "<polyline clip-path=\"url(#clip660)\" style=\"stroke:#000000; stroke-linecap:round; stroke-linejoin:round; stroke-width:4; stroke-opacity:1; fill:none\" points=\"\n",
       "  224.098,1486.45 224.098,47.2441 \n",
       "  \"/>\n",
       "<polyline clip-path=\"url(#clip660)\" style=\"stroke:#000000; stroke-linecap:round; stroke-linejoin:round; stroke-width:4; stroke-opacity:1; fill:none\" points=\"\n",
       "  224.098,1338.93 242.996,1338.93 \n",
       "  \"/>\n",
       "<polyline clip-path=\"url(#clip660)\" style=\"stroke:#000000; stroke-linecap:round; stroke-linejoin:round; stroke-width:4; stroke-opacity:1; fill:none\" points=\"\n",
       "  224.098,1052.89 242.996,1052.89 \n",
       "  \"/>\n",
       "<polyline clip-path=\"url(#clip660)\" style=\"stroke:#000000; stroke-linecap:round; stroke-linejoin:round; stroke-width:4; stroke-opacity:1; fill:none\" points=\"\n",
       "  224.098,766.846 242.996,766.846 \n",
       "  \"/>\n",
       "<polyline clip-path=\"url(#clip660)\" style=\"stroke:#000000; stroke-linecap:round; stroke-linejoin:round; stroke-width:4; stroke-opacity:1; fill:none\" points=\"\n",
       "  224.098,480.806 242.996,480.806 \n",
       "  \"/>\n",
       "<polyline clip-path=\"url(#clip660)\" style=\"stroke:#000000; stroke-linecap:round; stroke-linejoin:round; stroke-width:4; stroke-opacity:1; fill:none\" points=\"\n",
       "  224.098,194.766 242.996,194.766 \n",
       "  \"/>\n",
       "<path clip-path=\"url(#clip660)\" d=\"M50.9921 1339.38 L80.6679 1339.38 L80.6679 1343.31 L50.9921 1343.31 L50.9921 1339.38 Z\" fill=\"#000000\" fill-rule=\"evenodd\" fill-opacity=\"1\" /><path clip-path=\"url(#clip660)\" d=\"M100.76 1324.72 Q97.1493 1324.72 95.3206 1328.29 Q93.515 1331.83 93.515 1338.96 Q93.515 1346.07 95.3206 1349.63 Q97.1493 1353.17 100.76 1353.17 Q104.395 1353.17 106.2 1349.63 Q108.029 1346.07 108.029 1338.96 Q108.029 1331.83 106.2 1328.29 Q104.395 1324.72 100.76 1324.72 M100.76 1321.02 Q106.571 1321.02 109.626 1325.63 Q112.705 1330.21 112.705 1338.96 Q112.705 1347.69 109.626 1352.29 Q106.571 1356.88 100.76 1356.88 Q94.9502 1356.88 91.8715 1352.29 Q88.816 1347.69 88.816 1338.96 Q88.816 1330.21 91.8715 1325.63 Q94.9502 1321.02 100.76 1321.02 Z\" fill=\"#000000\" fill-rule=\"evenodd\" fill-opacity=\"1\" /><path clip-path=\"url(#clip660)\" d=\"M120.922 1350.33 L125.807 1350.33 L125.807 1356.21 L120.922 1356.21 L120.922 1350.33 Z\" fill=\"#000000\" fill-rule=\"evenodd\" fill-opacity=\"1\" /><path clip-path=\"url(#clip660)\" d=\"M136.038 1321.65 L154.394 1321.65 L154.394 1325.58 L140.32 1325.58 L140.32 1334.05 Q141.339 1333.71 142.357 1333.54 Q143.376 1333.36 144.394 1333.36 Q150.181 1333.36 153.561 1336.53 Q156.941 1339.7 156.941 1345.12 Q156.941 1350.7 153.468 1353.8 Q149.996 1356.88 143.677 1356.88 Q141.501 1356.88 139.232 1356.51 Q136.987 1356.14 134.58 1355.4 L134.58 1350.7 Q136.663 1351.83 138.885 1352.39 Q141.107 1352.94 143.584 1352.94 Q147.589 1352.94 149.927 1350.84 Q152.265 1348.73 152.265 1345.12 Q152.265 1341.51 149.927 1339.4 Q147.589 1337.29 143.584 1337.29 Q141.709 1337.29 139.834 1337.71 Q137.982 1338.13 136.038 1339.01 L136.038 1321.65 Z\" fill=\"#000000\" fill-rule=\"evenodd\" fill-opacity=\"1\" /><path clip-path=\"url(#clip660)\" d=\"M176.153 1324.72 Q172.542 1324.72 170.714 1328.29 Q168.908 1331.83 168.908 1338.96 Q168.908 1346.07 170.714 1349.63 Q172.542 1353.17 176.153 1353.17 Q179.788 1353.17 181.593 1349.63 Q183.422 1346.07 183.422 1338.96 Q183.422 1331.83 181.593 1328.29 Q179.788 1324.72 176.153 1324.72 M176.153 1321.02 Q181.964 1321.02 185.019 1325.63 Q188.098 1330.21 188.098 1338.96 Q188.098 1347.69 185.019 1352.29 Q181.964 1356.88 176.153 1356.88 Q170.343 1356.88 167.265 1352.29 Q164.209 1347.69 164.209 1338.96 Q164.209 1330.21 167.265 1325.63 Q170.343 1321.02 176.153 1321.02 Z\" fill=\"#000000\" fill-rule=\"evenodd\" fill-opacity=\"1\" /><path clip-path=\"url(#clip660)\" d=\"M51.9875 1053.34 L81.6633 1053.34 L81.6633 1057.27 L51.9875 1057.27 L51.9875 1053.34 Z\" fill=\"#000000\" fill-rule=\"evenodd\" fill-opacity=\"1\" /><path clip-path=\"url(#clip660)\" d=\"M101.756 1038.68 Q98.1447 1038.68 96.316 1042.25 Q94.5104 1045.79 94.5104 1052.92 Q94.5104 1060.03 96.316 1063.59 Q98.1447 1067.13 101.756 1067.13 Q105.39 1067.13 107.196 1063.59 Q109.024 1060.03 109.024 1052.92 Q109.024 1045.79 107.196 1042.25 Q105.39 1038.68 101.756 1038.68 M101.756 1034.98 Q107.566 1034.98 110.621 1039.59 Q113.7 1044.17 113.7 1052.92 Q113.7 1061.65 110.621 1066.25 Q107.566 1070.84 101.756 1070.84 Q95.9456 1070.84 92.8669 1066.25 Q89.8114 1061.65 89.8114 1052.92 Q89.8114 1044.17 92.8669 1039.59 Q95.9456 1034.98 101.756 1034.98 Z\" fill=\"#000000\" fill-rule=\"evenodd\" fill-opacity=\"1\" /><path clip-path=\"url(#clip660)\" d=\"M121.918 1064.29 L126.802 1064.29 L126.802 1070.17 L121.918 1070.17 L121.918 1064.29 Z\" fill=\"#000000\" fill-rule=\"evenodd\" fill-opacity=\"1\" /><path clip-path=\"url(#clip660)\" d=\"M141.015 1066.23 L157.334 1066.23 L157.334 1070.17 L135.39 1070.17 L135.39 1066.23 Q138.052 1063.48 142.635 1058.85 Q147.242 1054.19 148.422 1052.85 Q150.668 1050.33 151.547 1048.59 Q152.45 1046.83 152.45 1045.14 Q152.45 1042.39 150.505 1040.65 Q148.584 1038.92 145.482 1038.92 Q143.283 1038.92 140.83 1039.68 Q138.399 1040.44 135.621 1041.99 L135.621 1037.27 Q138.445 1036.14 140.899 1035.56 Q143.353 1034.98 145.39 1034.98 Q150.76 1034.98 153.955 1037.67 Q157.149 1040.35 157.149 1044.84 Q157.149 1046.97 156.339 1048.89 Q155.552 1050.79 153.445 1053.38 Q152.867 1054.06 149.765 1057.27 Q146.663 1060.47 141.015 1066.23 Z\" fill=\"#000000\" fill-rule=\"evenodd\" fill-opacity=\"1\" /><path clip-path=\"url(#clip660)\" d=\"M167.195 1035.61 L185.552 1035.61 L185.552 1039.54 L171.478 1039.54 L171.478 1048.01 Q172.496 1047.67 173.515 1047.5 Q174.533 1047.32 175.552 1047.32 Q181.339 1047.32 184.718 1050.49 Q188.098 1053.66 188.098 1059.08 Q188.098 1064.66 184.626 1067.76 Q181.153 1070.84 174.834 1070.84 Q172.658 1070.84 170.39 1070.47 Q168.144 1070.1 165.737 1069.36 L165.737 1064.66 Q167.82 1065.79 170.042 1066.35 Q172.265 1066.9 174.741 1066.9 Q178.746 1066.9 181.084 1064.8 Q183.422 1062.69 183.422 1059.08 Q183.422 1055.47 181.084 1053.36 Q178.746 1051.25 174.741 1051.25 Q172.866 1051.25 170.991 1051.67 Q169.14 1052.09 167.195 1052.97 L167.195 1035.61 Z\" fill=\"#000000\" fill-rule=\"evenodd\" fill-opacity=\"1\" /><path clip-path=\"url(#clip660)\" d=\"M100.76 752.645 Q97.1493 752.645 95.3206 756.209 Q93.515 759.751 93.515 766.881 Q93.515 773.987 95.3206 777.552 Q97.1493 781.094 100.76 781.094 Q104.395 781.094 106.2 777.552 Q108.029 773.987 108.029 766.881 Q108.029 759.751 106.2 756.209 Q104.395 752.645 100.76 752.645 M100.76 748.941 Q106.571 748.941 109.626 753.547 Q112.705 758.131 112.705 766.881 Q112.705 775.608 109.626 780.214 Q106.571 784.797 100.76 784.797 Q94.9502 784.797 91.8715 780.214 Q88.816 775.608 88.816 766.881 Q88.816 758.131 91.8715 753.547 Q94.9502 748.941 100.76 748.941 Z\" fill=\"#000000\" fill-rule=\"evenodd\" fill-opacity=\"1\" /><path clip-path=\"url(#clip660)\" d=\"M120.922 778.246 L125.807 778.246 L125.807 784.126 L120.922 784.126 L120.922 778.246 Z\" fill=\"#000000\" fill-rule=\"evenodd\" fill-opacity=\"1\" /><path clip-path=\"url(#clip660)\" d=\"M145.992 752.645 Q142.381 752.645 140.552 756.209 Q138.746 759.751 138.746 766.881 Q138.746 773.987 140.552 777.552 Q142.381 781.094 145.992 781.094 Q149.626 781.094 151.431 777.552 Q153.26 773.987 153.26 766.881 Q153.26 759.751 151.431 756.209 Q149.626 752.645 145.992 752.645 M145.992 748.941 Q151.802 748.941 154.857 753.547 Q157.936 758.131 157.936 766.881 Q157.936 775.608 154.857 780.214 Q151.802 784.797 145.992 784.797 Q140.181 784.797 137.103 780.214 Q134.047 775.608 134.047 766.881 Q134.047 758.131 137.103 753.547 Q140.181 748.941 145.992 748.941 Z\" fill=\"#000000\" fill-rule=\"evenodd\" fill-opacity=\"1\" /><path clip-path=\"url(#clip660)\" d=\"M176.153 752.645 Q172.542 752.645 170.714 756.209 Q168.908 759.751 168.908 766.881 Q168.908 773.987 170.714 777.552 Q172.542 781.094 176.153 781.094 Q179.788 781.094 181.593 777.552 Q183.422 773.987 183.422 766.881 Q183.422 759.751 181.593 756.209 Q179.788 752.645 176.153 752.645 M176.153 748.941 Q181.964 748.941 185.019 753.547 Q188.098 758.131 188.098 766.881 Q188.098 775.608 185.019 780.214 Q181.964 784.797 176.153 784.797 Q170.343 784.797 167.265 780.214 Q164.209 775.608 164.209 766.881 Q164.209 758.131 167.265 753.547 Q170.343 748.941 176.153 748.941 Z\" fill=\"#000000\" fill-rule=\"evenodd\" fill-opacity=\"1\" /><path clip-path=\"url(#clip660)\" d=\"M101.756 466.605 Q98.1447 466.605 96.316 470.169 Q94.5104 473.711 94.5104 480.841 Q94.5104 487.947 96.316 491.512 Q98.1447 495.054 101.756 495.054 Q105.39 495.054 107.196 491.512 Q109.024 487.947 109.024 480.841 Q109.024 473.711 107.196 470.169 Q105.39 466.605 101.756 466.605 M101.756 462.901 Q107.566 462.901 110.621 467.507 Q113.7 472.091 113.7 480.841 Q113.7 489.567 110.621 494.174 Q107.566 498.757 101.756 498.757 Q95.9456 498.757 92.8669 494.174 Q89.8114 489.567 89.8114 480.841 Q89.8114 472.091 92.8669 467.507 Q95.9456 462.901 101.756 462.901 Z\" fill=\"#000000\" fill-rule=\"evenodd\" fill-opacity=\"1\" /><path clip-path=\"url(#clip660)\" d=\"M121.918 492.206 L126.802 492.206 L126.802 498.086 L121.918 498.086 L121.918 492.206 Z\" fill=\"#000000\" fill-rule=\"evenodd\" fill-opacity=\"1\" /><path clip-path=\"url(#clip660)\" d=\"M141.015 494.151 L157.334 494.151 L157.334 498.086 L135.39 498.086 L135.39 494.151 Q138.052 491.396 142.635 486.767 Q147.242 482.114 148.422 480.771 Q150.668 478.248 151.547 476.512 Q152.45 474.753 152.45 473.063 Q152.45 470.308 150.505 468.572 Q148.584 466.836 145.482 466.836 Q143.283 466.836 140.83 467.6 Q138.399 468.364 135.621 469.915 L135.621 465.193 Q138.445 464.058 140.899 463.48 Q143.353 462.901 145.39 462.901 Q150.76 462.901 153.955 465.586 Q157.149 468.271 157.149 472.762 Q157.149 474.892 156.339 476.813 Q155.552 478.711 153.445 481.304 Q152.867 481.975 149.765 485.192 Q146.663 488.387 141.015 494.151 Z\" fill=\"#000000\" fill-rule=\"evenodd\" fill-opacity=\"1\" /><path clip-path=\"url(#clip660)\" d=\"M167.195 463.526 L185.552 463.526 L185.552 467.461 L171.478 467.461 L171.478 475.933 Q172.496 475.586 173.515 475.424 Q174.533 475.239 175.552 475.239 Q181.339 475.239 184.718 478.41 Q188.098 481.581 188.098 486.998 Q188.098 492.577 184.626 495.679 Q181.153 498.757 174.834 498.757 Q172.658 498.757 170.39 498.387 Q168.144 498.016 165.737 497.276 L165.737 492.577 Q167.82 493.711 170.042 494.266 Q172.265 494.822 174.741 494.822 Q178.746 494.822 181.084 492.716 Q183.422 490.609 183.422 486.998 Q183.422 483.387 181.084 481.28 Q178.746 479.174 174.741 479.174 Q172.866 479.174 170.991 479.591 Q169.14 480.007 167.195 480.887 L167.195 463.526 Z\" fill=\"#000000\" fill-rule=\"evenodd\" fill-opacity=\"1\" /><path clip-path=\"url(#clip660)\" d=\"M100.76 180.565 Q97.1493 180.565 95.3206 184.129 Q93.515 187.671 93.515 194.801 Q93.515 201.907 95.3206 205.472 Q97.1493 209.013 100.76 209.013 Q104.395 209.013 106.2 205.472 Q108.029 201.907 108.029 194.801 Q108.029 187.671 106.2 184.129 Q104.395 180.565 100.76 180.565 M100.76 176.861 Q106.571 176.861 109.626 181.467 Q112.705 186.051 112.705 194.801 Q112.705 203.527 109.626 208.134 Q106.571 212.717 100.76 212.717 Q94.9502 212.717 91.8715 208.134 Q88.816 203.527 88.816 194.801 Q88.816 186.051 91.8715 181.467 Q94.9502 176.861 100.76 176.861 Z\" fill=\"#000000\" fill-rule=\"evenodd\" fill-opacity=\"1\" /><path clip-path=\"url(#clip660)\" d=\"M120.922 206.166 L125.807 206.166 L125.807 212.046 L120.922 212.046 L120.922 206.166 Z\" fill=\"#000000\" fill-rule=\"evenodd\" fill-opacity=\"1\" /><path clip-path=\"url(#clip660)\" d=\"M136.038 177.486 L154.394 177.486 L154.394 181.421 L140.32 181.421 L140.32 189.893 Q141.339 189.546 142.357 189.384 Q143.376 189.199 144.394 189.199 Q150.181 189.199 153.561 192.37 Q156.941 195.541 156.941 200.958 Q156.941 206.537 153.468 209.638 Q149.996 212.717 143.677 212.717 Q141.501 212.717 139.232 212.347 Q136.987 211.976 134.58 211.236 L134.58 206.537 Q136.663 207.671 138.885 208.226 Q141.107 208.782 143.584 208.782 Q147.589 208.782 149.927 206.675 Q152.265 204.569 152.265 200.958 Q152.265 197.347 149.927 195.24 Q147.589 193.134 143.584 193.134 Q141.709 193.134 139.834 193.551 Q137.982 193.967 136.038 194.847 L136.038 177.486 Z\" fill=\"#000000\" fill-rule=\"evenodd\" fill-opacity=\"1\" /><path clip-path=\"url(#clip660)\" d=\"M176.153 180.565 Q172.542 180.565 170.714 184.129 Q168.908 187.671 168.908 194.801 Q168.908 201.907 170.714 205.472 Q172.542 209.013 176.153 209.013 Q179.788 209.013 181.593 205.472 Q183.422 201.907 183.422 194.801 Q183.422 187.671 181.593 184.129 Q179.788 180.565 176.153 180.565 M176.153 176.861 Q181.964 176.861 185.019 181.467 Q188.098 186.051 188.098 194.801 Q188.098 203.527 185.019 208.134 Q181.964 212.717 176.153 212.717 Q170.343 212.717 167.265 208.134 Q164.209 203.527 164.209 194.801 Q164.209 186.051 167.265 181.467 Q170.343 176.861 176.153 176.861 Z\" fill=\"#000000\" fill-rule=\"evenodd\" fill-opacity=\"1\" /><circle clip-path=\"url(#clip662)\" cx=\"284.343\" cy=\"943.67\" r=\"14.4\" fill=\"#009af9\" fill-rule=\"evenodd\" fill-opacity=\"1\" stroke=\"#000000\" stroke-opacity=\"1\" stroke-width=\"3.2\"/>\n",
       "<circle clip-path=\"url(#clip662)\" cx=\"427.783\" cy=\"154.221\" r=\"14.4\" fill=\"#009af9\" fill-rule=\"evenodd\" fill-opacity=\"1\" stroke=\"#000000\" stroke-opacity=\"1\" stroke-width=\"3.2\"/>\n",
       "<circle clip-path=\"url(#clip662)\" cx=\"571.224\" cy=\"1376.79\" r=\"14.4\" fill=\"#009af9\" fill-rule=\"evenodd\" fill-opacity=\"1\" stroke=\"#000000\" stroke-opacity=\"1\" stroke-width=\"3.2\"/>\n",
       "<circle clip-path=\"url(#clip662)\" cx=\"714.665\" cy=\"1189.7\" r=\"14.4\" fill=\"#009af9\" fill-rule=\"evenodd\" fill-opacity=\"1\" stroke=\"#000000\" stroke-opacity=\"1\" stroke-width=\"3.2\"/>\n",
       "<circle clip-path=\"url(#clip662)\" cx=\"858.105\" cy=\"1445.72\" r=\"14.4\" fill=\"#009af9\" fill-rule=\"evenodd\" fill-opacity=\"1\" stroke=\"#000000\" stroke-opacity=\"1\" stroke-width=\"3.2\"/>\n",
       "<circle clip-path=\"url(#clip662)\" cx=\"1001.55\" cy=\"948.072\" r=\"14.4\" fill=\"#009af9\" fill-rule=\"evenodd\" fill-opacity=\"1\" stroke=\"#000000\" stroke-opacity=\"1\" stroke-width=\"3.2\"/>\n",
       "<circle clip-path=\"url(#clip662)\" cx=\"1144.99\" cy=\"978.612\" r=\"14.4\" fill=\"#009af9\" fill-rule=\"evenodd\" fill-opacity=\"1\" stroke=\"#000000\" stroke-opacity=\"1\" stroke-width=\"3.2\"/>\n",
       "<circle clip-path=\"url(#clip662)\" cx=\"1288.43\" cy=\"800.99\" r=\"14.4\" fill=\"#009af9\" fill-rule=\"evenodd\" fill-opacity=\"1\" stroke=\"#000000\" stroke-opacity=\"1\" stroke-width=\"3.2\"/>\n",
       "<circle clip-path=\"url(#clip662)\" cx=\"1431.87\" cy=\"1155.93\" r=\"14.4\" fill=\"#009af9\" fill-rule=\"evenodd\" fill-opacity=\"1\" stroke=\"#000000\" stroke-opacity=\"1\" stroke-width=\"3.2\"/>\n",
       "<circle clip-path=\"url(#clip662)\" cx=\"1575.31\" cy=\"368.67\" r=\"14.4\" fill=\"#009af9\" fill-rule=\"evenodd\" fill-opacity=\"1\" stroke=\"#000000\" stroke-opacity=\"1\" stroke-width=\"3.2\"/>\n",
       "<circle clip-path=\"url(#clip662)\" cx=\"1718.75\" cy=\"766.494\" r=\"14.4\" fill=\"#009af9\" fill-rule=\"evenodd\" fill-opacity=\"1\" stroke=\"#000000\" stroke-opacity=\"1\" stroke-width=\"3.2\"/>\n",
       "<circle clip-path=\"url(#clip662)\" cx=\"1862.19\" cy=\"650.595\" r=\"14.4\" fill=\"#009af9\" fill-rule=\"evenodd\" fill-opacity=\"1\" stroke=\"#000000\" stroke-opacity=\"1\" stroke-width=\"3.2\"/>\n",
       "<circle clip-path=\"url(#clip662)\" cx=\"2005.63\" cy=\"736.285\" r=\"14.4\" fill=\"#009af9\" fill-rule=\"evenodd\" fill-opacity=\"1\" stroke=\"#000000\" stroke-opacity=\"1\" stroke-width=\"3.2\"/>\n",
       "<circle clip-path=\"url(#clip662)\" cx=\"2149.07\" cy=\"1037.56\" r=\"14.4\" fill=\"#009af9\" fill-rule=\"evenodd\" fill-opacity=\"1\" stroke=\"#000000\" stroke-opacity=\"1\" stroke-width=\"3.2\"/>\n",
       "<circle clip-path=\"url(#clip662)\" cx=\"2292.51\" cy=\"1318.29\" r=\"14.4\" fill=\"#009af9\" fill-rule=\"evenodd\" fill-opacity=\"1\" stroke=\"#000000\" stroke-opacity=\"1\" stroke-width=\"3.2\"/>\n",
       "<circle clip-path=\"url(#clip662)\" cx=\"284.343\" cy=\"943.67\" r=\"14.4\" fill=\"#e26f46\" fill-rule=\"evenodd\" fill-opacity=\"1\" stroke=\"#000000\" stroke-opacity=\"1\" stroke-width=\"3.2\"/>\n",
       "<circle clip-path=\"url(#clip662)\" cx=\"427.783\" cy=\"1379.47\" r=\"14.4\" fill=\"#e26f46\" fill-rule=\"evenodd\" fill-opacity=\"1\" stroke=\"#000000\" stroke-opacity=\"1\" stroke-width=\"3.2\"/>\n",
       "<circle clip-path=\"url(#clip662)\" cx=\"571.224\" cy=\"1376.79\" r=\"14.4\" fill=\"#e26f46\" fill-rule=\"evenodd\" fill-opacity=\"1\" stroke=\"#000000\" stroke-opacity=\"1\" stroke-width=\"3.2\"/>\n",
       "<circle clip-path=\"url(#clip662)\" cx=\"714.665\" cy=\"343.993\" r=\"14.4\" fill=\"#e26f46\" fill-rule=\"evenodd\" fill-opacity=\"1\" stroke=\"#000000\" stroke-opacity=\"1\" stroke-width=\"3.2\"/>\n",
       "<circle clip-path=\"url(#clip662)\" cx=\"858.105\" cy=\"87.9763\" r=\"14.4\" fill=\"#e26f46\" fill-rule=\"evenodd\" fill-opacity=\"1\" stroke=\"#000000\" stroke-opacity=\"1\" stroke-width=\"3.2\"/>\n",
       "<circle clip-path=\"url(#clip662)\" cx=\"1001.55\" cy=\"585.62\" r=\"14.4\" fill=\"#e26f46\" fill-rule=\"evenodd\" fill-opacity=\"1\" stroke=\"#000000\" stroke-opacity=\"1\" stroke-width=\"3.2\"/>\n",
       "<circle clip-path=\"url(#clip662)\" cx=\"1144.99\" cy=\"978.612\" r=\"14.4\" fill=\"#e26f46\" fill-rule=\"evenodd\" fill-opacity=\"1\" stroke=\"#000000\" stroke-opacity=\"1\" stroke-width=\"3.2\"/>\n",
       "<circle clip-path=\"url(#clip662)\" cx=\"1288.43\" cy=\"732.702\" r=\"14.4\" fill=\"#e26f46\" fill-rule=\"evenodd\" fill-opacity=\"1\" stroke=\"#000000\" stroke-opacity=\"1\" stroke-width=\"3.2\"/>\n",
       "<circle clip-path=\"url(#clip662)\" cx=\"1431.87\" cy=\"1155.93\" r=\"14.4\" fill=\"#e26f46\" fill-rule=\"evenodd\" fill-opacity=\"1\" stroke=\"#000000\" stroke-opacity=\"1\" stroke-width=\"3.2\"/>\n",
       "<circle clip-path=\"url(#clip662)\" cx=\"1575.31\" cy=\"1165.02\" r=\"14.4\" fill=\"#e26f46\" fill-rule=\"evenodd\" fill-opacity=\"1\" stroke=\"#000000\" stroke-opacity=\"1\" stroke-width=\"3.2\"/>\n",
       "<circle clip-path=\"url(#clip662)\" cx=\"1718.75\" cy=\"766.494\" r=\"14.4\" fill=\"#e26f46\" fill-rule=\"evenodd\" fill-opacity=\"1\" stroke=\"#000000\" stroke-opacity=\"1\" stroke-width=\"3.2\"/>\n",
       "<circle clip-path=\"url(#clip662)\" cx=\"1862.19\" cy=\"650.595\" r=\"14.4\" fill=\"#e26f46\" fill-rule=\"evenodd\" fill-opacity=\"1\" stroke=\"#000000\" stroke-opacity=\"1\" stroke-width=\"3.2\"/>\n",
       "<circle clip-path=\"url(#clip662)\" cx=\"2005.63\" cy=\"736.285\" r=\"14.4\" fill=\"#e26f46\" fill-rule=\"evenodd\" fill-opacity=\"1\" stroke=\"#000000\" stroke-opacity=\"1\" stroke-width=\"3.2\"/>\n",
       "<circle clip-path=\"url(#clip662)\" cx=\"2149.07\" cy=\"1037.56\" r=\"14.4\" fill=\"#e26f46\" fill-rule=\"evenodd\" fill-opacity=\"1\" stroke=\"#000000\" stroke-opacity=\"1\" stroke-width=\"3.2\"/>\n",
       "<circle clip-path=\"url(#clip662)\" cx=\"2292.51\" cy=\"1318.29\" r=\"14.4\" fill=\"#e26f46\" fill-rule=\"evenodd\" fill-opacity=\"1\" stroke=\"#000000\" stroke-opacity=\"1\" stroke-width=\"3.2\"/>\n",
       "</svg>\n"
      ]
     },
     "execution_count": 103,
     "metadata": {},
     "output_type": "execute_result"
    }
   ],
   "source": [
    "scatter(disLoops_y0[1:15, 1])\n",
    "scatter!(Loops_y0[1:15, 1]; legend = false)"
   ]
  },
  {
   "cell_type": "code",
   "execution_count": 104,
   "id": "a59320ea-13fa-4d53-9db9-aee848cc2942",
   "metadata": {},
   "outputs": [
    {
     "data": {
      "text/plain": [
       "getMaxLod (generic function with 1 method)"
      ]
     },
     "execution_count": 104,
     "metadata": {},
     "output_type": "execute_result"
    }
   ],
   "source": [
    "function getMaxLod(results::Array{Float64, 2})\n",
    "    \n",
    "    return mapslices(x -> maximum(x), results; dims = 2);\n",
    "    \n",
    "end"
   ]
  },
  {
   "cell_type": "code",
   "execution_count": null,
   "id": "1b8e9fc8-9046-4261-98a6-3d9fdd4c7d40",
   "metadata": {},
   "outputs": [],
   "source": []
  },
  {
   "cell_type": "code",
   "execution_count": null,
   "id": "938556a2-1125-4dcc-bbc1-304ecc3151e9",
   "metadata": {},
   "outputs": [],
   "source": []
  }
 ],
 "metadata": {
  "kernelspec": {
   "display_name": "Julia 1.8.1",
   "language": "julia",
   "name": "julia-1.8"
  },
  "language_info": {
   "file_extension": ".jl",
   "mimetype": "application/julia",
   "name": "julia",
   "version": "1.8.1"
  }
 },
 "nbformat": 4,
 "nbformat_minor": 5
}
