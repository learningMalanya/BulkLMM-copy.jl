{
 "cells": [
  {
   "cell_type": "markdown",
   "id": "be4a68e3-58ba-4c1c-8ce7-4c7215a972a8",
   "metadata": {},
   "source": [
    "## Load-in dependencies:"
   ]
  },
  {
   "cell_type": "code",
   "execution_count": 1,
   "id": "382288c7-7b8e-4371-b2b7-b983334971ef",
   "metadata": {},
   "outputs": [],
   "source": [
    "using Pkg\n",
    "# Pkg.add(\"Profile\")\n",
    "# Pkg.instantiate()"
   ]
  },
  {
   "cell_type": "code",
   "execution_count": 2,
   "id": "a42289c4-20db-4359-b1ac-e171ada4d5f4",
   "metadata": {},
   "outputs": [],
   "source": [
    "#= dependencies = [\"DelimitedFiles\", \"LinearAlgebra\", \"Optim\", \"Distributions\", \"Test\",\n",
    "                \"BenchmarkTools\", \"Random\", \"CSV\", \"DataFrames\", \"Distributed\", \"Plots\"];\n",
    "Pkg.add(dependencies) =#"
   ]
  },
  {
   "cell_type": "code",
   "execution_count": 3,
   "id": "95957479-db20-4ae3-ac09-9a317d2daa8a",
   "metadata": {},
   "outputs": [],
   "source": [
    "using DelimitedFiles\n",
    "using LinearAlgebra\n",
    "using Optim\n",
    "using Distributions\n",
    "using Test\n",
    "using BenchmarkTools\n",
    "using Random\n",
    "using CSV\n",
    "using DataFrames\n",
    "using Plots\n",
    "using Profile\n",
    "using Distributed"
   ]
  },
  {
   "cell_type": "code",
   "execution_count": 4,
   "id": "712736c0-f753-47ad-aa4b-f7a4413d6fc0",
   "metadata": {},
   "outputs": [
    {
     "data": {
      "text/plain": [
       "\"/home/xyu/github/BulkLMM.jl/analysis\""
      ]
     },
     "execution_count": 4,
     "metadata": {},
     "output_type": "execute_result"
    }
   ],
   "source": [
    "pwd()"
   ]
  },
  {
   "cell_type": "code",
   "execution_count": 5,
   "id": "141b951c-fc60-4870-b222-befad56b9703",
   "metadata": {},
   "outputs": [],
   "source": [
    "## Include the source code of BulkLMM to be tested:\n",
    "include(\"../src/scan.jl\");\n",
    "include(\"../src/lmm.jl\");\n",
    "include(\"../src/wls.jl\");\n",
    "include(\"../src/util.jl\");\n",
    "include(\"../src/kinship.jl\");\n",
    "include(\"../src/readData.jl\");\n",
    "include(\"../src/scan_for_tests.jl\")\n",
    "include(\"../src/scan_distributed.jl\") # new function\n",
    "\n",
    "## Also include the helper functions for writing tests:\n",
    "include(\"../test/testHelper.jl\");"
   ]
  },
  {
   "cell_type": "markdown",
   "id": "9cc6f4c7-da1c-43f1-903e-fbb31c632794",
   "metadata": {},
   "source": [
    "## Read in BXD data:"
   ]
  },
  {
   "cell_type": "code",
   "execution_count": 6,
   "id": "38f6c597-0edf-4c3c-bd63-b856a5b9fe65",
   "metadata": {},
   "outputs": [],
   "source": [
    "## Read in BXD data:\n",
    "pheno_file = \"../data/bxdData/BXDtraits.csv\"\n",
    "pheno = readBXDpheno(pheno_file);\n",
    "geno_file = \"../data/bxdData/BXDgeno_prob.csv\"\n",
    "geno = readGenoProb_ExcludeComplements(geno_file);\n",
    "\n",
    "kinship = calcKinship(geno); # calculate kinship matrix from genotype data"
   ]
  },
  {
   "cell_type": "code",
   "execution_count": 7,
   "id": "1acb6c64-4e0d-4839-be95-1ad7d7b9ad0a",
   "metadata": {},
   "outputs": [],
   "source": [
    "nperms = 1024; # number of permutated copies required;\n",
    "m = size(pheno, 2);\n",
    "p = size(geno, 2); # number of markers"
   ]
  },
  {
   "cell_type": "code",
   "execution_count": 8,
   "id": "a5e5184f-9265-446a-9a48-0ce0eb7417d3",
   "metadata": {},
   "outputs": [],
   "source": [
    "## Consider the 7919-th trait\n",
    "pheno_y = reshape(pheno[:, 7919], :, 1);"
   ]
  },
  {
   "cell_type": "code",
   "execution_count": 9,
   "id": "b678d1cd-a17d-4b45-8e14-577f2a33b5db",
   "metadata": {},
   "outputs": [],
   "source": [
    "# Pkg.add(\"StatsBase\")"
   ]
  },
  {
   "cell_type": "code",
   "execution_count": 10,
   "id": "7675ff26-c476-4eea-9f3a-60fade88ba4c",
   "metadata": {},
   "outputs": [
    {
     "name": "stderr",
     "output_type": "stream",
     "text": [
      "WARNING: using StatsBase.rss in module Main conflicts with an existing identifier.\n"
     ]
    }
   ],
   "source": [
    "using StatsBase"
   ]
  },
  {
   "cell_type": "code",
   "execution_count": 11,
   "id": "6f43f414-80a9-4854-9077-0663399a785f",
   "metadata": {},
   "outputs": [],
   "source": [
    "n_seeds = 20;"
   ]
  },
  {
   "cell_type": "code",
   "execution_count": 12,
   "id": "e29da538-2332-4781-bfd3-2d78daea3c8e",
   "metadata": {},
   "outputs": [
    {
     "data": {
      "text/plain": [
       "20-element Vector{Int64}:\n",
       " 10\n",
       " 17\n",
       " 43\n",
       "  5\n",
       " 16\n",
       " 69\n",
       " 64\n",
       " 78\n",
       " 59\n",
       "  7\n",
       " 22\n",
       " 96\n",
       "  6\n",
       " 87\n",
       " 28\n",
       " 39\n",
       " 18\n",
       " 82\n",
       " 35\n",
       " 25"
      ]
     },
     "execution_count": 12,
     "metadata": {},
     "output_type": "execute_result"
    }
   ],
   "source": [
    "seeds_list = StatsBase.sample(1:100, n_seeds; replace = false)"
   ]
  },
  {
   "cell_type": "markdown",
   "id": "7d63ff9a-50c0-46e7-92d7-9ff7240d12ba",
   "metadata": {},
   "source": [
    "## Three phases of data transformations:"
   ]
  },
  {
   "cell_type": "code",
   "execution_count": 13,
   "id": "252f9cf2-5775-4148-960b-2ee1bdbd74c1",
   "metadata": {},
   "outputs": [],
   "source": [
    "(y0, X0, lambda0) = transform1(pheno_y, geno, kinship);"
   ]
  },
  {
   "cell_type": "code",
   "execution_count": 14,
   "id": "dfc8027f-58e7-44f4-bdcb-857a73ab1027",
   "metadata": {},
   "outputs": [],
   "source": [
    "# unique(round.(lambda0; digits = 3))"
   ]
  },
  {
   "cell_type": "code",
   "execution_count": 15,
   "id": "a05ce101-8fbf-4150-b460-9ca4b28f91da",
   "metadata": {},
   "outputs": [],
   "source": [
    "(r0, X00) = transform2(y0, X0, lambda0; reml = false);"
   ]
  },
  {
   "cell_type": "markdown",
   "id": "7711ff59-862a-44c9-9a82-ccc6190cc307",
   "metadata": {},
   "source": [
    "## Study: distribute over permutations"
   ]
  },
  {
   "cell_type": "markdown",
   "id": "06e355c8-25c3-4eac-bbda-03f50807a92a",
   "metadata": {},
   "source": [
    "### Check results:"
   ]
  },
  {
   "cell_type": "markdown",
   "id": "4e44beec-dd41-4f9a-b99d-7170aa3f8d18",
   "metadata": {},
   "source": [
    "Will the results be consistent, if we fixed the set of rotated data for further algorithm?"
   ]
  },
  {
   "cell_type": "code",
   "execution_count": 16,
   "id": "766dd6a1-e3d0-41d9-b269-a955693c61de",
   "metadata": {},
   "outputs": [],
   "source": [
    "map_results = map(x -> scan_distributed(y0, X0, lambda0; nperms = 100, rndseed = x, original = false), seeds_list);\n",
    "map_LODs = reduce(vcat, map_results);"
   ]
  },
  {
   "cell_type": "code",
   "execution_count": 17,
   "id": "d87a0750-9ab3-4826-83c9-35e4326a9385",
   "metadata": {},
   "outputs": [],
   "source": [
    "using Distributed"
   ]
  },
  {
   "cell_type": "code",
   "execution_count": 21,
   "id": "8eddfec9-ec68-49c5-9ad4-e10695f0321f",
   "metadata": {},
   "outputs": [],
   "source": [
    "addprocs(10);"
   ]
  },
  {
   "cell_type": "code",
   "execution_count": 22,
   "id": "09bddffd-584e-4c67-b11e-23bc02c29dbc",
   "metadata": {},
   "outputs": [
    {
     "data": {
      "text/plain": [
       "11-element Vector{Int64}:\n",
       "  1\n",
       " 10\n",
       " 11\n",
       " 12\n",
       " 13\n",
       " 14\n",
       " 15\n",
       " 16\n",
       " 17\n",
       " 18\n",
       " 19"
      ]
     },
     "execution_count": 22,
     "metadata": {},
     "output_type": "execute_result"
    }
   ],
   "source": [
    "procs()"
   ]
  },
  {
   "cell_type": "code",
   "execution_count": 20,
   "id": "8b4e841f-6fdf-4e5f-8838-f9c7adb7a941",
   "metadata": {},
   "outputs": [
    {
     "data": {
      "text/plain": [
       "Task (done) @0x00007f2344ea4a20"
      ]
     },
     "execution_count": 20,
     "metadata": {},
     "output_type": "execute_result"
    }
   ],
   "source": [
    "# rmprocs(workers())"
   ]
  },
  {
   "cell_type": "code",
   "execution_count": 23,
   "id": "ae45e99e-5ce3-453b-84bb-26c76c968b27",
   "metadata": {},
   "outputs": [],
   "source": [
    "@everywhere begin\n",
    "    using Random\n",
    "    using LinearAlgebra\n",
    "    using Optim\n",
    "    using Distributed\n",
    "    \n",
    "    ## Include the source code of BulkLMM to be tested:\n",
    "    include(\"../src/scan.jl\");\n",
    "    include(\"../src/lmm.jl\");\n",
    "    include(\"../src/wls.jl\");\n",
    "    include(\"../src/util.jl\");\n",
    "    include(\"../src/kinship.jl\");\n",
    "    include(\"../src/readData.jl\");\n",
    "    include(\"../src/scan_for_tests.jl\")\n",
    "    include(\"../src/scan_distributed.jl\")\n",
    "\n",
    "end"
   ]
  },
  {
   "cell_type": "code",
   "execution_count": 23,
   "id": "12c3e863-11bf-4dc5-9b71-ec27d05077dd",
   "metadata": {},
   "outputs": [],
   "source": [
    "pmap_results = pmap(x -> scan_distributed(y0, X0, lambda0; nperms = 100, rndseed = x, original = false), seeds_list);\n",
    "pmap_LODs = reduce(vcat, pmap_results);"
   ]
  },
  {
   "cell_type": "code",
   "execution_count": 24,
   "id": "dc7f09f3-1292-4c6d-acc0-bdc5b4456431",
   "metadata": {},
   "outputs": [
    {
     "data": {
      "text/plain": [
       "(2000, 7321)"
      ]
     },
     "execution_count": 24,
     "metadata": {},
     "output_type": "execute_result"
    }
   ],
   "source": [
    "size(pmap_LODs)"
   ]
  },
  {
   "cell_type": "code",
   "execution_count": 25,
   "id": "fea8edc8-0ece-493f-a979-b999e292a28a",
   "metadata": {},
   "outputs": [
    {
     "data": {
      "text/plain": [
       "6×6 Matrix{Float64}:\n",
       " 0.0609393  0.0609393  0.0609393  0.0609393  0.0609393  0.0609393\n",
       " 0.0829961  0.0829961  0.0829961  0.0829961  0.0829961  0.0829961\n",
       " 0.540679   0.540679   0.540679   0.540679   0.540679   0.540679\n",
       " 0.0118482  0.0118482  0.0118482  0.0118482  0.0118482  0.0118482\n",
       " 0.493782   0.493782   0.493782   0.493782   0.493782   0.493782\n",
       " 0.0472641  0.0472641  0.0472641  0.0472641  0.0472641  0.0472641"
      ]
     },
     "execution_count": 25,
     "metadata": {},
     "output_type": "execute_result"
    }
   ],
   "source": [
    "pmap_LODs[1:6, 1:6]"
   ]
  },
  {
   "cell_type": "code",
   "execution_count": 26,
   "id": "e3d3cebf-b481-4efb-a6c9-ef8bd53614e1",
   "metadata": {},
   "outputs": [
    {
     "data": {
      "text/plain": [
       "6×6 Matrix{Float64}:\n",
       " 0.0609393  0.0609393  0.0609393  0.0609393  0.0609393  0.0609393\n",
       " 0.0829961  0.0829961  0.0829961  0.0829961  0.0829961  0.0829961\n",
       " 0.540679   0.540679   0.540679   0.540679   0.540679   0.540679\n",
       " 0.0118482  0.0118482  0.0118482  0.0118482  0.0118482  0.0118482\n",
       " 0.493782   0.493782   0.493782   0.493782   0.493782   0.493782\n",
       " 0.0472641  0.0472641  0.0472641  0.0472641  0.0472641  0.0472641"
      ]
     },
     "execution_count": 26,
     "metadata": {},
     "output_type": "execute_result"
    }
   ],
   "source": [
    "map_LODs[1:6, 1:6]"
   ]
  },
  {
   "cell_type": "code",
   "execution_count": 27,
   "id": "47b96d51-69e3-441c-bcb9-7010c631afa7",
   "metadata": {},
   "outputs": [
    {
     "data": {
      "text/plain": [
       "0.0"
      ]
     },
     "execution_count": 27,
     "metadata": {},
     "output_type": "execute_result"
    }
   ],
   "source": [
    "maxSqDiff(map_LODs, pmap_LODs) "
   ]
  },
  {
   "cell_type": "markdown",
   "id": "f3aaea5b-9bf0-4d7f-a34b-5f50af86a34a",
   "metadata": {},
   "source": [
    "It turned out that if we give the same set of rotated data, results will match, which implies that the inconsistency of results may only be due to the rotation process (sign ambiguity in eigendecomposition)."
   ]
  },
  {
   "cell_type": "markdown",
   "id": "4a3eef2a-1cb7-4845-8627-7c054c3a8b14",
   "metadata": {},
   "source": [
    "### Benchmarking:"
   ]
  },
  {
   "cell_type": "markdown",
   "id": "703112f2-2a89-4f87-ac34-86e3b6148963",
   "metadata": {},
   "source": [
    "map(permutations)"
   ]
  },
  {
   "cell_type": "code",
   "execution_count": 28,
   "id": "43bc38b5-374a-47e1-ab9b-c593ccd1d67e",
   "metadata": {},
   "outputs": [
    {
     "data": {
      "text/plain": [
       "BenchmarkTools.Trial: 1 sample with 1 evaluation.\n",
       " Single result which took \u001b[34m21.640 s\u001b[39m (20.92% GC) to evaluate,\n",
       " with a memory estimate of \u001b[33m26.96 GiB\u001b[39m, over \u001b[33m1474385\u001b[39m allocations."
      ]
     },
     "execution_count": 28,
     "metadata": {},
     "output_type": "execute_result"
    }
   ],
   "source": [
    "@benchmark begin\n",
    "    transform1(pheno_y, geno, kinship);\n",
    "    map(x -> scan_distributed(y0, X0, lambda0; nperms = 100, rndseed = x, original = false), seeds_list)\n",
    "end"
   ]
  },
  {
   "cell_type": "markdown",
   "id": "80b9d1bc-970c-4879-8311-17bd11d1184e",
   "metadata": {},
   "source": [
    "pmap(permutations)"
   ]
  },
  {
   "cell_type": "code",
   "execution_count": 29,
   "id": "9883cb26-df86-486d-9791-b414d3e9f9dc",
   "metadata": {},
   "outputs": [
    {
     "data": {
      "text/plain": [
       "BenchmarkTools.Trial: 1 sample with 1 evaluation.\n",
       " Single result which took \u001b[34m10.133 s\u001b[39m (0.00% GC) to evaluate,\n",
       " with a memory estimate of \u001b[33m120.84 MiB\u001b[39m, over \u001b[33m4916\u001b[39m allocations."
      ]
     },
     "execution_count": 29,
     "metadata": {},
     "output_type": "execute_result"
    }
   ],
   "source": [
    "@benchmark begin\n",
    "    transform1(pheno_y, geno, kinship);\n",
    "    pmap(x -> scan_distributed(y0, X0, lambda0; nperms = 100, rndseed = x, original = false), seeds_list)\n",
    "end"
   ]
  },
  {
   "cell_type": "code",
   "execution_count": 30,
   "id": "47afdcec-4ffd-476a-a0f2-6e6eef625835",
   "metadata": {},
   "outputs": [
    {
     "data": {
      "text/plain": [
       "BenchmarkTools.Trial: 1 sample with 1 evaluation.\n",
       " Single result which took \u001b[34m20.225 s\u001b[39m (20.48% GC) to evaluate,\n",
       " with a memory estimate of \u001b[33m26.95 GiB\u001b[39m, over \u001b[33m1474362\u001b[39m allocations."
      ]
     },
     "execution_count": 30,
     "metadata": {},
     "output_type": "execute_result"
    }
   ],
   "source": [
    "@benchmark map(x -> scan_distributed(y0, X0, lambda0; nperms = 100, rndseed = x, original = false), seeds_list)"
   ]
  },
  {
   "cell_type": "code",
   "execution_count": 31,
   "id": "0ad01b3d-8b44-488f-bfca-4766af36f12e",
   "metadata": {},
   "outputs": [
    {
     "data": {
      "text/plain": [
       "BenchmarkTools.Trial: 3 samples with 1 evaluation.\n",
       " Range \u001b[90m(\u001b[39m\u001b[36m\u001b[1mmin\u001b[22m\u001b[39m … \u001b[35mmax\u001b[39m\u001b[90m):  \u001b[39m\u001b[36m\u001b[1m2.349 s\u001b[22m\u001b[39m … \u001b[35m  2.416 s\u001b[39m  \u001b[90m┊\u001b[39m GC \u001b[90m(\u001b[39mmin … max\u001b[90m): \u001b[39m0.00% … 0.00%\n",
       " Time  \u001b[90m(\u001b[39m\u001b[34m\u001b[1mmedian\u001b[22m\u001b[39m\u001b[90m):     \u001b[39m\u001b[34m\u001b[1m2.354 s              \u001b[22m\u001b[39m\u001b[90m┊\u001b[39m GC \u001b[90m(\u001b[39mmedian\u001b[90m):    \u001b[39m0.00%\n",
       " Time  \u001b[90m(\u001b[39m\u001b[32m\u001b[1mmean\u001b[22m\u001b[39m ± \u001b[32mσ\u001b[39m\u001b[90m):   \u001b[39m\u001b[32m\u001b[1m2.373 s\u001b[22m\u001b[39m ± \u001b[32m37.436 ms\u001b[39m  \u001b[90m┊\u001b[39m GC \u001b[90m(\u001b[39mmean ± σ\u001b[90m):  \u001b[39m0.00% ± 0.00%\n",
       "\n",
       "  \u001b[34m█\u001b[39m\u001b[39m \u001b[39m \u001b[39m \u001b[39m█\u001b[39m \u001b[39m \u001b[39m \u001b[39m \u001b[39m \u001b[39m \u001b[39m \u001b[39m \u001b[39m \u001b[39m \u001b[39m \u001b[39m \u001b[39m \u001b[39m \u001b[39m \u001b[32m \u001b[39m\u001b[39m \u001b[39m \u001b[39m \u001b[39m \u001b[39m \u001b[39m \u001b[39m \u001b[39m \u001b[39m \u001b[39m \u001b[39m \u001b[39m \u001b[39m \u001b[39m \u001b[39m \u001b[39m \u001b[39m \u001b[39m \u001b[39m \u001b[39m \u001b[39m \u001b[39m \u001b[39m \u001b[39m \u001b[39m \u001b[39m \u001b[39m \u001b[39m \u001b[39m \u001b[39m \u001b[39m \u001b[39m \u001b[39m \u001b[39m \u001b[39m \u001b[39m█\u001b[39m \u001b[39m \n",
       "  \u001b[34m█\u001b[39m\u001b[39m▁\u001b[39m▁\u001b[39m▁\u001b[39m█\u001b[39m▁\u001b[39m▁\u001b[39m▁\u001b[39m▁\u001b[39m▁\u001b[39m▁\u001b[39m▁\u001b[39m▁\u001b[39m▁\u001b[39m▁\u001b[39m▁\u001b[39m▁\u001b[39m▁\u001b[39m▁\u001b[39m▁\u001b[32m▁\u001b[39m\u001b[39m▁\u001b[39m▁\u001b[39m▁\u001b[39m▁\u001b[39m▁\u001b[39m▁\u001b[39m▁\u001b[39m▁\u001b[39m▁\u001b[39m▁\u001b[39m▁\u001b[39m▁\u001b[39m▁\u001b[39m▁\u001b[39m▁\u001b[39m▁\u001b[39m▁\u001b[39m▁\u001b[39m▁\u001b[39m▁\u001b[39m▁\u001b[39m▁\u001b[39m▁\u001b[39m▁\u001b[39m▁\u001b[39m▁\u001b[39m▁\u001b[39m▁\u001b[39m▁\u001b[39m▁\u001b[39m▁\u001b[39m▁\u001b[39m▁\u001b[39m▁\u001b[39m▁\u001b[39m█\u001b[39m \u001b[39m▁\n",
       "  2.35 s\u001b[90m         Histogram: frequency by time\u001b[39m        2.42 s \u001b[0m\u001b[1m<\u001b[22m\n",
       "\n",
       " Memory estimate\u001b[90m: \u001b[39m\u001b[33m55.94 MiB\u001b[39m, allocs estimate\u001b[90m: \u001b[39m\u001b[33m2436\u001b[39m."
      ]
     },
     "execution_count": 31,
     "metadata": {},
     "output_type": "execute_result"
    }
   ],
   "source": [
    "@benchmark pmap(x -> scan_distributed(y0, X0, lambda0; nperms = 50, rndseed = x, original = false), seeds_list)"
   ]
  },
  {
   "cell_type": "markdown",
   "id": "0c80c52d-5191-4776-8da5-1c136ab046e3",
   "metadata": {},
   "source": [
    "## Study: distribute over markers"
   ]
  },
  {
   "cell_type": "markdown",
   "id": "cd45a48a-2d99-4a76-bd81-a53f1f656aa8",
   "metadata": {},
   "source": [
    "### Check results:"
   ]
  },
  {
   "cell_type": "code",
   "execution_count": 32,
   "id": "74874ed2-8f8f-48c8-baf1-7ccf853a0001",
   "metadata": {},
   "outputs": [],
   "source": [
    "r0perm = transform3(r0; nperms = 1000, rndseed = 0, original = true);"
   ]
  },
  {
   "cell_type": "code",
   "execution_count": 33,
   "id": "1be41674-fa98-4982-9838-495500bb2c9a",
   "metadata": {},
   "outputs": [
    {
     "data": {
      "text/plain": [
       "(79, 1001)"
      ]
     },
     "execution_count": 33,
     "metadata": {},
     "output_type": "execute_result"
    }
   ],
   "source": [
    "size(r0perm) \n",
    "# 401 permutations of a vector of length 79 (79 measurements), plus the original, for results checking with scan_null"
   ]
  },
  {
   "cell_type": "code",
   "execution_count": 34,
   "id": "2dd81cf3-3c48-4e88-96bd-e9547f2c0305",
   "metadata": {},
   "outputs": [],
   "source": [
    "map_eachMarker_LODs = map(x -> scan_distributed(r0perm, X00, x), 1:7321);\n",
    "map_eachMarker_LODs = reduce(vcat, map_eachMarker_LODs);"
   ]
  },
  {
   "cell_type": "code",
   "execution_count": 35,
   "id": "631c7d1e-b3f9-4393-9df5-402d161ed0ff",
   "metadata": {},
   "outputs": [],
   "source": [
    "pmap_eachMarker_LODs = pmap(x -> scan_distributed(r0perm, X00, x), 1:7321);\n",
    "pmap_eachMarker_LODs = reduce(vcat, pmap_eachMarker_LODs);"
   ]
  },
  {
   "cell_type": "code",
   "execution_count": 36,
   "id": "449e94f5-c300-4a1a-820d-40e250577369",
   "metadata": {},
   "outputs": [],
   "source": [
    "scan_null_original = scan(pheno_y, geno, kinship)[3]; # original trait vector LODs"
   ]
  },
  {
   "cell_type": "code",
   "execution_count": 37,
   "id": "4f499998-9bab-44f2-9295-4f4f41a9285f",
   "metadata": {},
   "outputs": [
    {
     "data": {
      "text/plain": [
       "6×6 Matrix{Float64}:\n",
       " 0.00819636  1.71913  0.225974  0.0167808  0.0800067  0.000354535\n",
       " 0.00819636  1.71913  0.225974  0.0167808  0.0800067  0.000354535\n",
       " 0.00819636  1.71913  0.225974  0.0167808  0.0800067  0.000354535\n",
       " 0.00819636  1.71913  0.225974  0.0167808  0.0800067  0.000354535\n",
       " 0.00819636  1.71913  0.225974  0.0167808  0.0800067  0.000354535\n",
       " 0.00819636  1.71913  0.225974  0.0167808  0.0800067  0.000354535"
      ]
     },
     "execution_count": 37,
     "metadata": {},
     "output_type": "execute_result"
    }
   ],
   "source": [
    "map_eachMarker_LODs[1:6, 1:6]"
   ]
  },
  {
   "cell_type": "code",
   "execution_count": 38,
   "id": "07c937aa-945b-4ca8-8dfa-f08468b62c08",
   "metadata": {},
   "outputs": [
    {
     "data": {
      "text/plain": [
       "6×6 Matrix{Float64}:\n",
       " 0.00819636  1.71913  0.225974  0.0167808  0.0800067  0.000354535\n",
       " 0.00819636  1.71913  0.225974  0.0167808  0.0800067  0.000354535\n",
       " 0.00819636  1.71913  0.225974  0.0167808  0.0800067  0.000354535\n",
       " 0.00819636  1.71913  0.225974  0.0167808  0.0800067  0.000354535\n",
       " 0.00819636  1.71913  0.225974  0.0167808  0.0800067  0.000354535\n",
       " 0.00819636  1.71913  0.225974  0.0167808  0.0800067  0.000354535"
      ]
     },
     "execution_count": 38,
     "metadata": {},
     "output_type": "execute_result"
    }
   ],
   "source": [
    "pmap_eachMarker_LODs[1:6, 1:6]"
   ]
  },
  {
   "cell_type": "code",
   "execution_count": 39,
   "id": "4212c2a7-8856-4dec-a0a0-95d3bfec1b30",
   "metadata": {},
   "outputs": [
    {
     "data": {
      "text/plain": [
       "6-element Vector{Float64}:\n",
       " 0.008196360329322583\n",
       " 0.008196360329322583\n",
       " 0.008196360329331354\n",
       " 0.008196360329331354\n",
       " 0.008196360329322583\n",
       " 0.008196360329322583"
      ]
     },
     "execution_count": 39,
     "metadata": {},
     "output_type": "execute_result"
    }
   ],
   "source": [
    "scan_null_original[1:6]"
   ]
  },
  {
   "cell_type": "code",
   "execution_count": 40,
   "id": "2fddbe9e-c57c-4550-ad90-9e608274f379",
   "metadata": {},
   "outputs": [
    {
     "data": {
      "text/plain": [
       "7.888609052210118e-29"
      ]
     },
     "execution_count": 40,
     "metadata": {},
     "output_type": "execute_result"
    }
   ],
   "source": [
    "maxSqDiff(map_eachMarker_LODs, pmap_eachMarker_LODs)"
   ]
  },
  {
   "cell_type": "code",
   "execution_count": 41,
   "id": "e0521130-09f6-47c8-9f55-a58b506ec780",
   "metadata": {},
   "outputs": [
    {
     "data": {
      "text/plain": [
       "3.155443620884047e-28"
      ]
     },
     "execution_count": 41,
     "metadata": {},
     "output_type": "execute_result"
    }
   ],
   "source": [
    "maxSqDiff(reshape(pmap_eachMarker_LODs[:, 1], :, 1), reshape(scan_null_original, :, 1))"
   ]
  },
  {
   "cell_type": "code",
   "execution_count": 42,
   "id": "c4e4b50b-6ba4-4bab-9210-6feece5eda65",
   "metadata": {},
   "outputs": [],
   "source": [
    "disLoops_LODs = scan_distributed(r0perm, X00);"
   ]
  },
  {
   "cell_type": "code",
   "execution_count": 43,
   "id": "1d54ef5b-e800-4aff-a534-5d001eb4be1b",
   "metadata": {},
   "outputs": [
    {
     "data": {
      "text/plain": [
       "6×6 Matrix{Float64}:\n",
       " 0.00819636  1.71913  0.225974  0.0167808  0.0800067  0.000354535\n",
       " 0.00819636  1.71913  0.225974  0.0167808  0.0800067  0.000354535\n",
       " 0.00819636  1.71913  0.225974  0.0167808  0.0800067  0.000354535\n",
       " 0.00819636  1.71913  0.225974  0.0167808  0.0800067  0.000354535\n",
       " 0.00819636  1.71913  0.225974  0.0167808  0.0800067  0.000354535\n",
       " 0.00819636  1.71913  0.225974  0.0167808  0.0800067  0.000354535"
      ]
     },
     "execution_count": 43,
     "metadata": {},
     "output_type": "execute_result"
    }
   ],
   "source": [
    "disLoops_LODs[1:6, 1:6]"
   ]
  },
  {
   "cell_type": "code",
   "execution_count": 44,
   "id": "5d565857-e1b9-4aec-9643-792794f1c216",
   "metadata": {},
   "outputs": [
    {
     "data": {
      "text/plain": [
       "6×6 Matrix{Float64}:\n",
       " 0.00819636  1.71913  0.225974  0.0167808  0.0800067  0.000354535\n",
       " 0.00819636  1.71913  0.225974  0.0167808  0.0800067  0.000354535\n",
       " 0.00819636  1.71913  0.225974  0.0167808  0.0800067  0.000354535\n",
       " 0.00819636  1.71913  0.225974  0.0167808  0.0800067  0.000354535\n",
       " 0.00819636  1.71913  0.225974  0.0167808  0.0800067  0.000354535\n",
       " 0.00819636  1.71913  0.225974  0.0167808  0.0800067  0.000354535"
      ]
     },
     "execution_count": 44,
     "metadata": {},
     "output_type": "execute_result"
    }
   ],
   "source": [
    "pmap_eachMarker_LODs[1:6, 1:6]"
   ]
  },
  {
   "cell_type": "code",
   "execution_count": 45,
   "id": "7b513651-ba6b-42e7-902a-c6ca5a2f0b64",
   "metadata": {},
   "outputs": [
    {
     "data": {
      "text/plain": [
       "6×6 Matrix{Float64}:\n",
       " 0.00819636  1.71913  0.225974  0.0167808  0.0800067  0.000354535\n",
       " 0.00819636  1.71913  0.225974  0.0167808  0.0800067  0.000354535\n",
       " 0.00819636  1.71913  0.225974  0.0167808  0.0800067  0.000354535\n",
       " 0.00819636  1.71913  0.225974  0.0167808  0.0800067  0.000354535\n",
       " 0.00819636  1.71913  0.225974  0.0167808  0.0800067  0.000354535\n",
       " 0.00819636  1.71913  0.225974  0.0167808  0.0800067  0.000354535"
      ]
     },
     "execution_count": 45,
     "metadata": {},
     "output_type": "execute_result"
    }
   ],
   "source": [
    "permutedims(scan_perms2(pheno_y, geno, kinship; nperms = 400, rndseed = 0, original = true))[1:6, 1:6]"
   ]
  },
  {
   "cell_type": "markdown",
   "id": "b1bd4f30-4ae6-4832-ab0b-37edc7ee3cfc",
   "metadata": {},
   "source": [
    "### Benchmarking:"
   ]
  },
  {
   "cell_type": "code",
   "execution_count": 46,
   "id": "cbe7c522-3f17-48fe-aa46-08a28cc8ce54",
   "metadata": {},
   "outputs": [
    {
     "data": {
      "text/plain": [
       "BenchmarkTools.Trial: 1 sample with 1 evaluation.\n",
       " Single result which took \u001b[34m8.002 s\u001b[39m (13.76% GC) to evaluate,\n",
       " with a memory estimate of \u001b[33m13.29 GiB\u001b[39m, over \u001b[33m109817\u001b[39m allocations."
      ]
     },
     "execution_count": 46,
     "metadata": {},
     "output_type": "execute_result"
    }
   ],
   "source": [
    "@benchmark map(x -> scan_distributed(r0perm, X00, x), 1:7321)"
   ]
  },
  {
   "cell_type": "code",
   "execution_count": 47,
   "id": "ee5be303-4a98-4f0e-b10e-a15946144563",
   "metadata": {},
   "outputs": [
    {
     "data": {
      "text/plain": [
       "BenchmarkTools.Trial: 1 sample with 1 evaluation.\n",
       " Single result which took \u001b[34m13.347 s\u001b[39m (0.00% GC) to evaluate,\n",
       " with a memory estimate of \u001b[33m79.00 MiB\u001b[39m, over \u001b[33m521916\u001b[39m allocations."
      ]
     },
     "execution_count": 47,
     "metadata": {},
     "output_type": "execute_result"
    }
   ],
   "source": [
    "@benchmark pmap(x -> scan_distributed(r0perm, X00, x), 1:7321)"
   ]
  },
  {
   "cell_type": "code",
   "execution_count": 48,
   "id": "a89233e9-df2c-4d6d-8b0e-d0faebe0310c",
   "metadata": {},
   "outputs": [
    {
     "data": {
      "text/plain": [
       "BenchmarkTools.Trial: 1 sample with 1 evaluation.\n",
       " Single result which took \u001b[34m42.644 s\u001b[39m (0.00% GC) to evaluate,\n",
       " with a memory estimate of \u001b[33m223.80 MiB\u001b[39m, over \u001b[33m7741\u001b[39m allocations."
      ]
     },
     "execution_count": 48,
     "metadata": {},
     "output_type": "execute_result"
    }
   ],
   "source": [
    "@benchmark scan_distributed(r0perm, X00) # using distributed loops for each marker"
   ]
  },
  {
   "cell_type": "code",
   "execution_count": 49,
   "id": "fb3a393d-e12c-40b9-9bbf-2826bc50ba55",
   "metadata": {},
   "outputs": [
    {
     "data": {
      "text/plain": [
       "BenchmarkTools.Trial: 1 sample with 1 evaluation.\n",
       " Single result which took \u001b[34m8.139 s\u001b[39m (13.85% GC) to evaluate,\n",
       " with a memory estimate of \u001b[33m13.30 GiB\u001b[39m, over \u001b[33m117039\u001b[39m allocations."
      ]
     },
     "execution_count": 49,
     "metadata": {},
     "output_type": "execute_result"
    }
   ],
   "source": [
    " # using ordinary loops for each marker\n",
    "@benchmark scan_perms2(pheno_y, geno, kinship; nperms = 1000, original = true, rndseed = 0)"
   ]
  },
  {
   "cell_type": "code",
   "execution_count": 50,
   "id": "9313a38e-12fa-456e-864c-8cf595746278",
   "metadata": {},
   "outputs": [
    {
     "data": {
      "text/plain": [
       "UnitRange{Int64}"
      ]
     },
     "execution_count": 50,
     "metadata": {},
     "output_type": "execute_result"
    }
   ],
   "source": [
    "range = 1:6;\n",
    "typeof(range)"
   ]
  },
  {
   "cell_type": "markdown",
   "id": "762463e6-8c38-4b32-a69c-eb0174a0ba23",
   "metadata": {},
   "source": [
    "## Study: distribute over blocks of markers"
   ]
  },
  {
   "cell_type": "markdown",
   "id": "4787b6d4-ad80-440c-ba14-f46ef03687b9",
   "metadata": {},
   "source": [
    "### Check results:"
   ]
  },
  {
   "cell_type": "code",
   "execution_count": 21,
   "id": "0ee91846-4c02-476d-a9ee-daa4811c70e3",
   "metadata": {},
   "outputs": [],
   "source": [
    "r0perm = transform3(r0; nperms = 1000, rndseed = 0, original = true);"
   ]
  },
  {
   "cell_type": "code",
   "execution_count": 25,
   "id": "a5320b53-8296-467b-8501-34e114426d42",
   "metadata": {},
   "outputs": [
    {
     "data": {
      "text/plain": [
       "6×6 Matrix{Float64}:\n",
       " 0.00819636  1.13823  0.182157  0.0430406  1.02692  0.0273182\n",
       " 0.00819636  1.13823  0.182157  0.0430406  1.02692  0.0273182\n",
       " 0.00819636  1.13823  0.182157  0.0430406  1.02692  0.0273182\n",
       " 0.00819636  1.13823  0.182157  0.0430406  1.02692  0.0273182\n",
       " 0.00819636  1.13823  0.182157  0.0430406  1.02692  0.0273182\n",
       " 0.00819636  1.13823  0.182157  0.0430406  1.02692  0.0273182"
      ]
     },
     "execution_count": 25,
     "metadata": {},
     "output_type": "execute_result"
    }
   ],
   "source": [
    "permutedims(scan_distributed_block(r0perm, X00, 1:6))[:, 1:6]"
   ]
  },
  {
   "cell_type": "code",
   "execution_count": 30,
   "id": "9d2505af-c668-41e0-9022-9ae7e550ffd5",
   "metadata": {},
   "outputs": [
    {
     "data": {
      "text/plain": [
       "partition_array_indices (generic function with 1 method)"
      ]
     },
     "execution_count": 30,
     "metadata": {},
     "output_type": "execute_result"
    }
   ],
   "source": [
    "## https://stackoverflow.com/questions/26953340/partition-equivalent-in-julia\n",
    "\n",
    "function partition_array_indices(nb_data::Int, nb_data_per_chunk::Int)\n",
    "    nb_chunks = ceil(Int, nb_data / nb_data_per_chunk)\n",
    "    ids = UnitRange{Int}[]\n",
    "    for which_chunk = 1:nb_chunks\n",
    "        id_start::Int = 1 + nb_data_per_chunk * (which_chunk - 1)\n",
    "        id_end::Int = id_start - 1 + nb_data_per_chunk\n",
    "        if id_end > nb_data\n",
    "            id_end = nb_data\n",
    "        end\n",
    "        push!(ids, id_start:id_end)\n",
    "    end\n",
    "    return ids\n",
    "end"
   ]
  },
  {
   "cell_type": "code",
   "execution_count": 27,
   "id": "a4760034-68c1-475e-962d-38a898832858",
   "metadata": {},
   "outputs": [
    {
     "data": {
      "text/plain": [
       "8-element Vector{UnitRange{Int64}}:\n",
       " 1:1000\n",
       " 1001:2000\n",
       " 2001:3000\n",
       " 3001:4000\n",
       " 4001:5000\n",
       " 5001:6000\n",
       " 6001:7000\n",
       " 7001:7321"
      ]
     },
     "execution_count": 27,
     "metadata": {},
     "output_type": "execute_result"
    }
   ],
   "source": [
    "blocks_partitions = partition_array_indices(p, 1000)"
   ]
  },
  {
   "cell_type": "code",
   "execution_count": 28,
   "id": "a83cc9ce-9e02-4635-9462-bf4e94edc1b4",
   "metadata": {},
   "outputs": [],
   "source": [
    "map_blocks_LODs = map(x -> scan_distributed_block(r0perm, X00, x), blocks_partitions);\n",
    "map_blocks_LODs = permutedims(reduce(hcat, map_blocks_LODs));"
   ]
  },
  {
   "cell_type": "code",
   "execution_count": 29,
   "id": "5784aa69-7b3a-493b-b09f-88d67274419f",
   "metadata": {},
   "outputs": [
    {
     "data": {
      "text/plain": [
       "6×6 Matrix{Float64}:\n",
       " 0.00819636  1.13823  0.182157  0.0430406  1.02692  0.0273182\n",
       " 0.00819636  1.13823  0.182157  0.0430406  1.02692  0.0273182\n",
       " 0.00819636  1.13823  0.182157  0.0430406  1.02692  0.0273182\n",
       " 0.00819636  1.13823  0.182157  0.0430406  1.02692  0.0273182\n",
       " 0.00819636  1.13823  0.182157  0.0430406  1.02692  0.0273182\n",
       " 0.00819636  1.13823  0.182157  0.0430406  1.02692  0.0273182"
      ]
     },
     "execution_count": 29,
     "metadata": {},
     "output_type": "execute_result"
    }
   ],
   "source": [
    "map_blocks_LODs[1:6, 1:6]"
   ]
  },
  {
   "cell_type": "code",
   "execution_count": 30,
   "id": "75372147-56fd-4dfe-a9be-3fcf6ff896f2",
   "metadata": {},
   "outputs": [],
   "source": [
    "pmap_blocks_LODs = pmap(x -> scan_distributed_block(r0perm, X00, x), blocks_partitions);\n",
    "pmap_blocks_LODs = permutedims(reduce(hcat, pmap_blocks_LODs));"
   ]
  },
  {
   "cell_type": "code",
   "execution_count": 31,
   "id": "be8c641e-5fb9-4fa9-b45a-8e7adb68b053",
   "metadata": {},
   "outputs": [
    {
     "data": {
      "text/plain": [
       "6×6 Matrix{Float64}:\n",
       " 0.00819636  1.13823  0.182157  0.0430406  1.02692  0.0273182\n",
       " 0.00819636  1.13823  0.182157  0.0430406  1.02692  0.0273182\n",
       " 0.00819636  1.13823  0.182157  0.0430406  1.02692  0.0273182\n",
       " 0.00819636  1.13823  0.182157  0.0430406  1.02692  0.0273182\n",
       " 0.00819636  1.13823  0.182157  0.0430406  1.02692  0.0273182\n",
       " 0.00819636  1.13823  0.182157  0.0430406  1.02692  0.0273182"
      ]
     },
     "execution_count": 31,
     "metadata": {},
     "output_type": "execute_result"
    }
   ],
   "source": [
    "pmap_blocks_LODs[1:6, 1:6]"
   ]
  },
  {
   "cell_type": "code",
   "execution_count": 32,
   "id": "afbd61de-2fb4-49c2-9886-cfde83f17d26",
   "metadata": {},
   "outputs": [],
   "source": [
    "normal_LODs = scan_perms2(pheno_y, geno, kinship; nperms = 1000, rndseed = 0, original = true);\n",
    "normal_LODs = permutedims(normal_LODs);"
   ]
  },
  {
   "cell_type": "code",
   "execution_count": 33,
   "id": "0854c9c5-4218-4a71-a351-7a6d2b46fd7c",
   "metadata": {},
   "outputs": [
    {
     "data": {
      "text/plain": [
       "6×6 Matrix{Float64}:\n",
       " 0.00819636  1.13823  0.182157  0.0430406  1.02692  0.0273182\n",
       " 0.00819636  1.13823  0.182157  0.0430406  1.02692  0.0273182\n",
       " 0.00819636  1.13823  0.182157  0.0430406  1.02692  0.0273182\n",
       " 0.00819636  1.13823  0.182157  0.0430406  1.02692  0.0273182\n",
       " 0.00819636  1.13823  0.182157  0.0430406  1.02692  0.0273182\n",
       " 0.00819636  1.13823  0.182157  0.0430406  1.02692  0.0273182"
      ]
     },
     "execution_count": 33,
     "metadata": {},
     "output_type": "execute_result"
    }
   ],
   "source": [
    "normal_LODs[1:6, 1:6]"
   ]
  },
  {
   "cell_type": "code",
   "execution_count": 34,
   "id": "bdad4276-09f6-4fb6-8655-a9e20a3f62a4",
   "metadata": {},
   "outputs": [
    {
     "data": {
      "text/plain": [
       "7.888609052210118e-29"
      ]
     },
     "execution_count": 34,
     "metadata": {},
     "output_type": "execute_result"
    }
   ],
   "source": [
    "maxSqDiff(pmap_blocks_LODs, normal_LODs)"
   ]
  },
  {
   "cell_type": "markdown",
   "id": "6ae02731-ba9c-4fc7-acf8-0735d4a79ef9",
   "metadata": {},
   "source": [
    "### Benchmarking:"
   ]
  },
  {
   "cell_type": "code",
   "execution_count": 35,
   "id": "e3eca0d8-4744-4612-8981-f45658bdef8e",
   "metadata": {},
   "outputs": [
    {
     "data": {
      "text/plain": [
       "8-element Vector{UnitRange{Int64}}:\n",
       " 1:1000\n",
       " 1001:2000\n",
       " 2001:3000\n",
       " 3001:4000\n",
       " 4001:5000\n",
       " 5001:6000\n",
       " 6001:7000\n",
       " 7001:7321"
      ]
     },
     "execution_count": 35,
     "metadata": {},
     "output_type": "execute_result"
    }
   ],
   "source": [
    "blocks_partitions"
   ]
  },
  {
   "cell_type": "code",
   "execution_count": 36,
   "id": "8cbcf7d5-dca0-45fa-96d1-2b40f32114a8",
   "metadata": {},
   "outputs": [
    {
     "data": {
      "text/plain": [
       "BenchmarkTools.Trial: 2 samples with 1 evaluation.\n",
       " Range \u001b[90m(\u001b[39m\u001b[36m\u001b[1mmin\u001b[22m\u001b[39m … \u001b[35mmax\u001b[39m\u001b[90m):  \u001b[39m\u001b[36m\u001b[1m3.125 s\u001b[22m\u001b[39m … \u001b[35m   4.228 s\u001b[39m  \u001b[90m┊\u001b[39m GC \u001b[90m(\u001b[39mmin … max\u001b[90m): \u001b[39m33.92% … 49.04%\n",
       " Time  \u001b[90m(\u001b[39m\u001b[34m\u001b[1mmedian\u001b[22m\u001b[39m\u001b[90m):     \u001b[39m\u001b[34m\u001b[1m3.677 s               \u001b[22m\u001b[39m\u001b[90m┊\u001b[39m GC \u001b[90m(\u001b[39mmedian\u001b[90m):    \u001b[39m42.62%\n",
       " Time  \u001b[90m(\u001b[39m\u001b[32m\u001b[1mmean\u001b[22m\u001b[39m ± \u001b[32mσ\u001b[39m\u001b[90m):   \u001b[39m\u001b[32m\u001b[1m3.677 s\u001b[22m\u001b[39m ± \u001b[32m780.142 ms\u001b[39m  \u001b[90m┊\u001b[39m GC \u001b[90m(\u001b[39mmean ± σ\u001b[90m):  \u001b[39m42.62% ± 10.69%\n",
       "\n",
       "  \u001b[34m█\u001b[39m\u001b[39m \u001b[39m \u001b[39m \u001b[39m \u001b[39m \u001b[39m \u001b[39m \u001b[39m \u001b[39m \u001b[39m \u001b[39m \u001b[39m \u001b[39m \u001b[39m \u001b[39m \u001b[39m \u001b[39m \u001b[39m \u001b[39m \u001b[39m \u001b[39m \u001b[39m \u001b[39m \u001b[39m \u001b[39m \u001b[39m \u001b[39m \u001b[39m \u001b[32m \u001b[39m\u001b[39m \u001b[39m \u001b[39m \u001b[39m \u001b[39m \u001b[39m \u001b[39m \u001b[39m \u001b[39m \u001b[39m \u001b[39m \u001b[39m \u001b[39m \u001b[39m \u001b[39m \u001b[39m \u001b[39m \u001b[39m \u001b[39m \u001b[39m \u001b[39m \u001b[39m \u001b[39m \u001b[39m \u001b[39m \u001b[39m \u001b[39m \u001b[39m█\u001b[39m \u001b[39m \n",
       "  \u001b[34m█\u001b[39m\u001b[39m▁\u001b[39m▁\u001b[39m▁\u001b[39m▁\u001b[39m▁\u001b[39m▁\u001b[39m▁\u001b[39m▁\u001b[39m▁\u001b[39m▁\u001b[39m▁\u001b[39m▁\u001b[39m▁\u001b[39m▁\u001b[39m▁\u001b[39m▁\u001b[39m▁\u001b[39m▁\u001b[39m▁\u001b[39m▁\u001b[39m▁\u001b[39m▁\u001b[39m▁\u001b[39m▁\u001b[39m▁\u001b[39m▁\u001b[39m▁\u001b[39m▁\u001b[32m▁\u001b[39m\u001b[39m▁\u001b[39m▁\u001b[39m▁\u001b[39m▁\u001b[39m▁\u001b[39m▁\u001b[39m▁\u001b[39m▁\u001b[39m▁\u001b[39m▁\u001b[39m▁\u001b[39m▁\u001b[39m▁\u001b[39m▁\u001b[39m▁\u001b[39m▁\u001b[39m▁\u001b[39m▁\u001b[39m▁\u001b[39m▁\u001b[39m▁\u001b[39m▁\u001b[39m▁\u001b[39m▁\u001b[39m▁\u001b[39m▁\u001b[39m▁\u001b[39m█\u001b[39m \u001b[39m▁\n",
       "  3.12 s\u001b[90m         Histogram: frequency by time\u001b[39m         4.23 s \u001b[0m\u001b[1m<\u001b[22m\n",
       "\n",
       " Memory estimate\u001b[90m: \u001b[39m\u001b[33m13.27 GiB\u001b[39m, allocs estimate\u001b[90m: \u001b[39m\u001b[33m73284\u001b[39m."
      ]
     },
     "execution_count": 36,
     "metadata": {},
     "output_type": "execute_result"
    }
   ],
   "source": [
    "@benchmark map(x -> scan_distributed_block(r0perm, X00, x), blocks_partitions)"
   ]
  },
  {
   "cell_type": "code",
   "execution_count": 37,
   "id": "dd2f7dee-e958-4ce7-84d2-aad3d07e8af7",
   "metadata": {},
   "outputs": [
    {
     "data": {
      "text/plain": [
       "BenchmarkTools.Trial: 3 samples with 1 evaluation.\n",
       " Range \u001b[90m(\u001b[39m\u001b[36m\u001b[1mmin\u001b[22m\u001b[39m … \u001b[35mmax\u001b[39m\u001b[90m):  \u001b[39m\u001b[36m\u001b[1m2.075 s\u001b[22m\u001b[39m … \u001b[35m   2.388 s\u001b[39m  \u001b[90m┊\u001b[39m GC \u001b[90m(\u001b[39mmin … max\u001b[90m): \u001b[39m0.00% … 0.00%\n",
       " Time  \u001b[90m(\u001b[39m\u001b[34m\u001b[1mmedian\u001b[22m\u001b[39m\u001b[90m):     \u001b[39m\u001b[34m\u001b[1m2.367 s               \u001b[22m\u001b[39m\u001b[90m┊\u001b[39m GC \u001b[90m(\u001b[39mmedian\u001b[90m):    \u001b[39m0.00%\n",
       " Time  \u001b[90m(\u001b[39m\u001b[32m\u001b[1mmean\u001b[22m\u001b[39m ± \u001b[32mσ\u001b[39m\u001b[90m):   \u001b[39m\u001b[32m\u001b[1m2.276 s\u001b[22m\u001b[39m ± \u001b[32m174.766 ms\u001b[39m  \u001b[90m┊\u001b[39m GC \u001b[90m(\u001b[39mmean ± σ\u001b[90m):  \u001b[39m0.00% ± 0.00%\n",
       "\n",
       "  \u001b[34m█\u001b[39m\u001b[39m \u001b[39m \u001b[39m \u001b[39m \u001b[39m \u001b[39m \u001b[39m \u001b[39m \u001b[39m \u001b[39m \u001b[39m \u001b[39m \u001b[39m \u001b[39m \u001b[39m \u001b[39m \u001b[39m \u001b[39m \u001b[39m \u001b[39m \u001b[39m \u001b[39m \u001b[39m \u001b[39m \u001b[39m \u001b[39m \u001b[39m \u001b[39m \u001b[39m \u001b[39m \u001b[39m \u001b[39m \u001b[39m \u001b[39m \u001b[39m \u001b[39m \u001b[32m \u001b[39m\u001b[39m \u001b[39m \u001b[39m \u001b[39m \u001b[39m \u001b[39m \u001b[39m \u001b[39m \u001b[39m \u001b[39m \u001b[39m \u001b[39m \u001b[39m \u001b[39m \u001b[39m \u001b[39m \u001b[39m█\u001b[39m \u001b[39m \u001b[39m█\u001b[39m \u001b[39m \n",
       "  \u001b[34m█\u001b[39m\u001b[39m▁\u001b[39m▁\u001b[39m▁\u001b[39m▁\u001b[39m▁\u001b[39m▁\u001b[39m▁\u001b[39m▁\u001b[39m▁\u001b[39m▁\u001b[39m▁\u001b[39m▁\u001b[39m▁\u001b[39m▁\u001b[39m▁\u001b[39m▁\u001b[39m▁\u001b[39m▁\u001b[39m▁\u001b[39m▁\u001b[39m▁\u001b[39m▁\u001b[39m▁\u001b[39m▁\u001b[39m▁\u001b[39m▁\u001b[39m▁\u001b[39m▁\u001b[39m▁\u001b[39m▁\u001b[39m▁\u001b[39m▁\u001b[39m▁\u001b[39m▁\u001b[39m▁\u001b[39m▁\u001b[32m▁\u001b[39m\u001b[39m▁\u001b[39m▁\u001b[39m▁\u001b[39m▁\u001b[39m▁\u001b[39m▁\u001b[39m▁\u001b[39m▁\u001b[39m▁\u001b[39m▁\u001b[39m▁\u001b[39m▁\u001b[39m▁\u001b[39m▁\u001b[39m▁\u001b[39m▁\u001b[39m█\u001b[39m▁\u001b[39m▁\u001b[39m█\u001b[39m \u001b[39m▁\n",
       "  2.07 s\u001b[90m         Histogram: frequency by time\u001b[39m         2.39 s \u001b[0m\u001b[1m<\u001b[22m\n",
       "\n",
       " Memory estimate\u001b[90m: \u001b[39m\u001b[33m55.97 MiB\u001b[39m, allocs estimate\u001b[90m: \u001b[39m\u001b[33m2006\u001b[39m."
      ]
     },
     "execution_count": 37,
     "metadata": {},
     "output_type": "execute_result"
    }
   ],
   "source": [
    "@benchmark pmap(x -> scan_distributed_block(r0perm, X00, x), blocks_partitions)"
   ]
  },
  {
   "cell_type": "code",
   "execution_count": 38,
   "id": "a0cf632e-36bf-462a-8a3c-2a9ac70aaac7",
   "metadata": {},
   "outputs": [
    {
     "data": {
      "text/plain": [
       "BenchmarkTools.Trial: 3 samples with 1 evaluation.\n",
       " Range \u001b[90m(\u001b[39m\u001b[36m\u001b[1mmin\u001b[22m\u001b[39m … \u001b[35mmax\u001b[39m\u001b[90m):  \u001b[39m\u001b[36m\u001b[1m2.291 s\u001b[22m\u001b[39m … \u001b[35m  2.332 s\u001b[39m  \u001b[90m┊\u001b[39m GC \u001b[90m(\u001b[39mmin … max\u001b[90m): \u001b[39m0.00% … 0.00%\n",
       " Time  \u001b[90m(\u001b[39m\u001b[34m\u001b[1mmedian\u001b[22m\u001b[39m\u001b[90m):     \u001b[39m\u001b[34m\u001b[1m2.320 s              \u001b[22m\u001b[39m\u001b[90m┊\u001b[39m GC \u001b[90m(\u001b[39mmedian\u001b[90m):    \u001b[39m0.00%\n",
       " Time  \u001b[90m(\u001b[39m\u001b[32m\u001b[1mmean\u001b[22m\u001b[39m ± \u001b[32mσ\u001b[39m\u001b[90m):   \u001b[39m\u001b[32m\u001b[1m2.314 s\u001b[22m\u001b[39m ± \u001b[32m20.927 ms\u001b[39m  \u001b[90m┊\u001b[39m GC \u001b[90m(\u001b[39mmean ± σ\u001b[90m):  \u001b[39m0.05% ± 0.09%\n",
       "\n",
       "  \u001b[34m█\u001b[39m\u001b[39m \u001b[39m \u001b[39m \u001b[39m \u001b[39m \u001b[39m \u001b[39m \u001b[39m \u001b[39m \u001b[39m \u001b[39m \u001b[39m \u001b[39m \u001b[39m \u001b[39m \u001b[39m \u001b[39m \u001b[39m \u001b[39m \u001b[39m \u001b[39m \u001b[39m \u001b[39m \u001b[39m \u001b[39m \u001b[39m \u001b[39m \u001b[39m \u001b[39m \u001b[39m \u001b[39m \u001b[39m \u001b[32m \u001b[39m\u001b[39m \u001b[39m \u001b[39m \u001b[39m \u001b[39m \u001b[39m \u001b[39m \u001b[39m█\u001b[39m \u001b[39m \u001b[39m \u001b[39m \u001b[39m \u001b[39m \u001b[39m \u001b[39m \u001b[39m \u001b[39m \u001b[39m \u001b[39m \u001b[39m \u001b[39m \u001b[39m█\u001b[39m \u001b[39m \n",
       "  \u001b[34m█\u001b[39m\u001b[39m▁\u001b[39m▁\u001b[39m▁\u001b[39m▁\u001b[39m▁\u001b[39m▁\u001b[39m▁\u001b[39m▁\u001b[39m▁\u001b[39m▁\u001b[39m▁\u001b[39m▁\u001b[39m▁\u001b[39m▁\u001b[39m▁\u001b[39m▁\u001b[39m▁\u001b[39m▁\u001b[39m▁\u001b[39m▁\u001b[39m▁\u001b[39m▁\u001b[39m▁\u001b[39m▁\u001b[39m▁\u001b[39m▁\u001b[39m▁\u001b[39m▁\u001b[39m▁\u001b[39m▁\u001b[39m▁\u001b[39m▁\u001b[32m▁\u001b[39m\u001b[39m▁\u001b[39m▁\u001b[39m▁\u001b[39m▁\u001b[39m▁\u001b[39m▁\u001b[39m▁\u001b[39m█\u001b[39m▁\u001b[39m▁\u001b[39m▁\u001b[39m▁\u001b[39m▁\u001b[39m▁\u001b[39m▁\u001b[39m▁\u001b[39m▁\u001b[39m▁\u001b[39m▁\u001b[39m▁\u001b[39m▁\u001b[39m▁\u001b[39m█\u001b[39m \u001b[39m▁\n",
       "  2.29 s\u001b[90m         Histogram: frequency by time\u001b[39m        2.33 s \u001b[0m\u001b[1m<\u001b[22m\n",
       "\n",
       " Memory estimate\u001b[90m: \u001b[39m\u001b[33m82.88 MiB\u001b[39m, allocs estimate\u001b[90m: \u001b[39m\u001b[33m2177\u001b[39m."
      ]
     },
     "execution_count": 38,
     "metadata": {},
     "output_type": "execute_result"
    }
   ],
   "source": [
    "@benchmark begin \n",
    "    transform1(pheno_y, geno, kinship);\n",
    "    transform2(y0, X0, lambda0);\n",
    "    pmap(x -> scan_distributed_block(r0perm, X00, x), blocks_partitions);\n",
    "end"
   ]
  },
  {
   "cell_type": "code",
   "execution_count": 39,
   "id": "f25a490f-335b-4cba-8a55-882d327e2286",
   "metadata": {},
   "outputs": [
    {
     "data": {
      "text/plain": [
       "BenchmarkTools.Trial: 2 samples with 1 evaluation.\n",
       " Range \u001b[90m(\u001b[39m\u001b[36m\u001b[1mmin\u001b[22m\u001b[39m … \u001b[35mmax\u001b[39m\u001b[90m):  \u001b[39m\u001b[36m\u001b[1m4.671 s\u001b[22m\u001b[39m … \u001b[35m  4.795 s\u001b[39m  \u001b[90m┊\u001b[39m GC \u001b[90m(\u001b[39mmin … max\u001b[90m): \u001b[39m53.15% … 54.33%\n",
       " Time  \u001b[90m(\u001b[39m\u001b[34m\u001b[1mmedian\u001b[22m\u001b[39m\u001b[90m):     \u001b[39m\u001b[34m\u001b[1m4.733 s              \u001b[22m\u001b[39m\u001b[90m┊\u001b[39m GC \u001b[90m(\u001b[39mmedian\u001b[90m):    \u001b[39m53.75%\n",
       " Time  \u001b[90m(\u001b[39m\u001b[32m\u001b[1mmean\u001b[22m\u001b[39m ± \u001b[32mσ\u001b[39m\u001b[90m):   \u001b[39m\u001b[32m\u001b[1m4.733 s\u001b[22m\u001b[39m ± \u001b[32m87.324 ms\u001b[39m  \u001b[90m┊\u001b[39m GC \u001b[90m(\u001b[39mmean ± σ\u001b[90m):  \u001b[39m53.75% ±  0.84%\n",
       "\n",
       "  \u001b[34m█\u001b[39m\u001b[39m \u001b[39m \u001b[39m \u001b[39m \u001b[39m \u001b[39m \u001b[39m \u001b[39m \u001b[39m \u001b[39m \u001b[39m \u001b[39m \u001b[39m \u001b[39m \u001b[39m \u001b[39m \u001b[39m \u001b[39m \u001b[39m \u001b[39m \u001b[39m \u001b[39m \u001b[39m \u001b[39m \u001b[39m \u001b[39m \u001b[39m \u001b[39m \u001b[32m \u001b[39m\u001b[39m \u001b[39m \u001b[39m \u001b[39m \u001b[39m \u001b[39m \u001b[39m \u001b[39m \u001b[39m \u001b[39m \u001b[39m \u001b[39m \u001b[39m \u001b[39m \u001b[39m \u001b[39m \u001b[39m \u001b[39m \u001b[39m \u001b[39m \u001b[39m \u001b[39m \u001b[39m \u001b[39m \u001b[39m \u001b[39m \u001b[39m█\u001b[39m \u001b[39m \n",
       "  \u001b[34m█\u001b[39m\u001b[39m▁\u001b[39m▁\u001b[39m▁\u001b[39m▁\u001b[39m▁\u001b[39m▁\u001b[39m▁\u001b[39m▁\u001b[39m▁\u001b[39m▁\u001b[39m▁\u001b[39m▁\u001b[39m▁\u001b[39m▁\u001b[39m▁\u001b[39m▁\u001b[39m▁\u001b[39m▁\u001b[39m▁\u001b[39m▁\u001b[39m▁\u001b[39m▁\u001b[39m▁\u001b[39m▁\u001b[39m▁\u001b[39m▁\u001b[39m▁\u001b[39m▁\u001b[32m▁\u001b[39m\u001b[39m▁\u001b[39m▁\u001b[39m▁\u001b[39m▁\u001b[39m▁\u001b[39m▁\u001b[39m▁\u001b[39m▁\u001b[39m▁\u001b[39m▁\u001b[39m▁\u001b[39m▁\u001b[39m▁\u001b[39m▁\u001b[39m▁\u001b[39m▁\u001b[39m▁\u001b[39m▁\u001b[39m▁\u001b[39m▁\u001b[39m▁\u001b[39m▁\u001b[39m▁\u001b[39m▁\u001b[39m▁\u001b[39m▁\u001b[39m█\u001b[39m \u001b[39m▁\n",
       "  4.67 s\u001b[90m         Histogram: frequency by time\u001b[39m        4.79 s \u001b[0m\u001b[1m<\u001b[22m\n",
       "\n",
       " Memory estimate\u001b[90m: \u001b[39m\u001b[33m13.30 GiB\u001b[39m, allocs estimate\u001b[90m: \u001b[39m\u001b[33m74637\u001b[39m."
      ]
     },
     "execution_count": 39,
     "metadata": {},
     "output_type": "execute_result"
    }
   ],
   "source": [
    "@benchmark scan_perms2(pheno_y, geno, kinship; nperms = 1000, rndseed = 0, original = true)"
   ]
  },
  {
   "cell_type": "code",
   "execution_count": 40,
   "id": "1485871f-839b-4886-a75e-8b684aa587e6",
   "metadata": {},
   "outputs": [
    {
     "ename": "LoadError",
     "evalue": "UndefVarError: seeds_list not defined",
     "output_type": "error",
     "traceback": [
      "UndefVarError: seeds_list not defined",
      "",
      "Stacktrace:",
      " [1] top-level scope",
      "   @ :0",
      " [2] eval",
      "   @ ./boot.jl:373 [inlined]",
      " [3] include_string(mapexpr::typeof(REPL.softscope), mod::Module, code::String, filename::String)",
      "   @ Base ./loading.jl:1196"
     ]
    }
   ],
   "source": [
    "seeds_list"
   ]
  },
  {
   "cell_type": "code",
   "execution_count": 41,
   "id": "00822666-e195-40ec-b0b4-f44556575cdc",
   "metadata": {},
   "outputs": [
    {
     "ename": "LoadError",
     "evalue": "UndefVarError: seeds_list not defined",
     "output_type": "error",
     "traceback": [
      "UndefVarError: seeds_list not defined",
      "",
      "Stacktrace:",
      "  [1] var\"##core#305\"()",
      "    @ Main ~/.julia/packages/BenchmarkTools/7xSXH/src/execution.jl:489",
      "  [2] var\"##sample#306\"(::Tuple{}, __params::BenchmarkTools.Parameters)",
      "    @ Main ~/.julia/packages/BenchmarkTools/7xSXH/src/execution.jl:495",
      "  [3] _run(b::BenchmarkTools.Benchmark, p::BenchmarkTools.Parameters; verbose::Bool, pad::String, kwargs::Base.Pairs{Symbol, Integer, NTuple{4, Symbol}, NamedTuple{(:samples, :evals, :gctrial, :gcsample), Tuple{Int64, Int64, Bool, Bool}}})",
      "    @ BenchmarkTools ~/.julia/packages/BenchmarkTools/7xSXH/src/execution.jl:99",
      "  [4] #invokelatest#2",
      "    @ ./essentials.jl:718 [inlined]",
      "  [5] #run_result#45",
      "    @ ~/.julia/packages/BenchmarkTools/7xSXH/src/execution.jl:34 [inlined]",
      "  [6] run(b::BenchmarkTools.Benchmark, p::BenchmarkTools.Parameters; progressid::Nothing, nleaves::Float64, ndone::Float64, kwargs::Base.Pairs{Symbol, Integer, NTuple{5, Symbol}, NamedTuple{(:verbose, :samples, :evals, :gctrial, :gcsample), Tuple{Bool, Int64, Int64, Bool, Bool}}})",
      "    @ BenchmarkTools ~/.julia/packages/BenchmarkTools/7xSXH/src/execution.jl:117",
      "  [7] #warmup#54",
      "    @ ~/.julia/packages/BenchmarkTools/7xSXH/src/execution.jl:169 [inlined]",
      "  [8] warmup(item::BenchmarkTools.Benchmark)",
      "    @ BenchmarkTools ~/.julia/packages/BenchmarkTools/7xSXH/src/execution.jl:169",
      "  [9] top-level scope",
      "    @ ~/.julia/packages/BenchmarkTools/7xSXH/src/execution.jl:393",
      " [10] eval",
      "    @ ./boot.jl:373 [inlined]",
      " [11] include_string(mapexpr::typeof(REPL.softscope), mod::Module, code::String, filename::String)",
      "    @ Base ./loading.jl:1196"
     ]
    }
   ],
   "source": [
    "@benchmark pmap(x -> scan_distributed(y0, X0, lambda0; nperms = 50, rndseed = x, original = false), seeds_list)"
   ]
  },
  {
   "cell_type": "code",
   "execution_count": 42,
   "id": "d04bc17b-10c9-4060-98ec-e3b9b43d690e",
   "metadata": {},
   "outputs": [
    {
     "ename": "LoadError",
     "evalue": "UndefVarError: createBlocks not defined",
     "output_type": "error",
     "traceback": [
      "UndefVarError: createBlocks not defined",
      "",
      "Stacktrace:",
      " [1] top-level scope",
      "   @ In[42]:1",
      " [2] eval",
      "   @ ./boot.jl:373 [inlined]",
      " [3] include_string(mapexpr::typeof(REPL.softscope), mod::Module, code::String, filename::String)",
      "   @ Base ./loading.jl:1196"
     ]
    }
   ],
   "source": [
    "createBlocks(7332, 1000)"
   ]
  },
  {
   "cell_type": "code",
   "execution_count": 43,
   "id": "153031ba-608e-4912-a531-717c36bb9498",
   "metadata": {},
   "outputs": [
    {
     "data": {
      "text/plain": [
       "8.0"
      ]
     },
     "execution_count": 43,
     "metadata": {},
     "output_type": "execute_result"
    }
   ],
   "source": [
    "ceil(7332/1000)"
   ]
  },
  {
   "cell_type": "code",
   "execution_count": null,
   "id": "b4d175d4-0be3-42ad-bf94-2605cbec8c16",
   "metadata": {},
   "outputs": [],
   "source": []
  },
  {
   "cell_type": "markdown",
   "id": "03f5478b-eca1-4b1b-a5aa-87aeee194cc4",
   "metadata": {},
   "source": [
    "## Compare times for different choices of nperms and block sizes:"
   ]
  },
  {
   "cell_type": "code",
   "execution_count": 41,
   "id": "1e2bf502-8d14-4d18-bb97-43f363e299ea",
   "metadata": {},
   "outputs": [],
   "source": [
    "r0perm = transform3(r0; nperms = 1000, rndseed = 0, original = true);"
   ]
  },
  {
   "cell_type": "code",
   "execution_count": 42,
   "id": "d4597ba2-7bfe-419d-9a38-3f546b047621",
   "metadata": {},
   "outputs": [],
   "source": [
    "@everywhere nperms_list = [50, 100, 200, 500, 1000];\n",
    "@everywhere bsizes_list = [100, 300, 500, 600, 1000];\n",
    "@everywhere nblocks_list = [10, 20, 30, 40, 50, 60, 70, 80, 90, 100];"
   ]
  },
  {
   "cell_type": "code",
   "execution_count": 27,
   "id": "0948d1eb-f4c9-464f-8d73-5b1d6211f2d7",
   "metadata": {},
   "outputs": [],
   "source": [
    "runtimes_nperms = Array{Float64, 1}(undef, length(nperms_list));\n",
    "runtimes_bsizes = Array{Float64, 1}(undef, length(bsizes_list));\n",
    "runtimes_nblocks = Array{Float64, 1}(undef, length(nblocks_list));"
   ]
  },
  {
   "cell_type": "code",
   "execution_count": 28,
   "id": "1d7bb5bb-6792-461d-a5b8-f0f06e00d40d",
   "metadata": {},
   "outputs": [
    {
     "data": {
      "text/plain": [
       "11-element Vector{Int64}:\n",
       "  1\n",
       " 10\n",
       " 11\n",
       " 12\n",
       " 13\n",
       " 14\n",
       " 15\n",
       " 16\n",
       " 17\n",
       " 18\n",
       " 19"
      ]
     },
     "execution_count": 28,
     "metadata": {},
     "output_type": "execute_result"
    }
   ],
   "source": [
    "procs() # check number of procs active rn"
   ]
  },
  {
   "cell_type": "code",
   "execution_count": 70,
   "id": "524aa1fc-3576-46c9-ad8e-3bb6e124ee4f",
   "metadata": {},
   "outputs": [],
   "source": [
    "# Pkg.add(\"StatsBase\")"
   ]
  },
  {
   "cell_type": "code",
   "execution_count": 71,
   "id": "820a0f13-92de-40ab-89ee-edc81233c632",
   "metadata": {},
   "outputs": [],
   "source": [
    "using StatsBase"
   ]
  },
  {
   "cell_type": "code",
   "execution_count": 73,
   "id": "0fc26abe-0fa4-418c-874e-e888fbff9e96",
   "metadata": {},
   "outputs": [],
   "source": [
    "for i in 1:length(nperms_list)\n",
    "    \n",
    "    np = nperms_list[i];\n",
    "    nseeds = Int(1000/np);\n",
    "    \n",
    "    seeds_list = sample(1:100, nseeds; replace = false);\n",
    "    b = @benchmark pmap(x -> scan_distributed(y0, X0, lambda0; nperms = $np, rndseed = x, original = false), $seeds_list);\n",
    "    b = median(b)\n",
    "    \n",
    "    runtimes_nperms[i] = time(b)/1e9\n",
    "    \n",
    "end"
   ]
  },
  {
   "cell_type": "code",
   "execution_count": 65,
   "id": "066ee0a6-7581-474f-bec5-82d0e2b48ef8",
   "metadata": {},
   "outputs": [
    {
     "ename": "LoadError",
     "evalue": "InterruptException:",
     "output_type": "error",
     "traceback": [
      "InterruptException:",
      "",
      "Stacktrace:",
      "  [1] (::Base.var\"#898#900\")(x::Task)",
      "    @ Base ./asyncmap.jl:177",
      "  [2] foreach(f::Base.var\"#898#900\", itr::Vector{Any})",
      "    @ Base ./abstractarray.jl:2712",
      "  [3] maptwice(wrapped_f::Function, chnl::Channel{Any}, worker_tasks::Vector{Any}, c::Vector{UnitRange{Int64}})",
      "    @ Base ./asyncmap.jl:177",
      "  [4] wrap_n_exec_twice",
      "    @ ./asyncmap.jl:153 [inlined]",
      "  [5] #async_usemap#883",
      "    @ ./asyncmap.jl:103 [inlined]",
      "  [6] #asyncmap#882",
      "    @ ./asyncmap.jl:81 [inlined]",
      "  [7] pmap(f::Function, p::WorkerPool, c::Vector{UnitRange{Int64}}; distributed::Bool, batch_size::Int64, on_error::Nothing, retry_delays::Vector{Any}, retry_check::Nothing)",
      "    @ Distributed /Applications/Julia-1.7.app/Contents/Resources/julia/share/julia/stdlib/v1.7/Distributed/src/pmap.jl:126",
      "  [8] pmap(f::Function, p::WorkerPool, c::Vector{UnitRange{Int64}})",
      "    @ Distributed /Applications/Julia-1.7.app/Contents/Resources/julia/share/julia/stdlib/v1.7/Distributed/src/pmap.jl:101",
      "  [9] pmap(f::Function, c::Vector{UnitRange{Int64}}; kwargs::Base.Pairs{Symbol, Union{}, Tuple{}, NamedTuple{(), Tuple{}}})",
      "    @ Distributed /Applications/Julia-1.7.app/Contents/Resources/julia/share/julia/stdlib/v1.7/Distributed/src/pmap.jl:156",
      " [10] pmap(f::Function, c::Vector{UnitRange{Int64}})",
      "    @ Distributed /Applications/Julia-1.7.app/Contents/Resources/julia/share/julia/stdlib/v1.7/Distributed/src/pmap.jl:156",
      " [11] var\"##core#366\"()",
      "    @ Main ~/.julia/packages/BenchmarkTools/7xSXH/src/execution.jl:489",
      " [12] var\"##sample#367\"(::Tuple{}, __params::BenchmarkTools.Parameters)",
      "    @ Main ~/.julia/packages/BenchmarkTools/7xSXH/src/execution.jl:495",
      " [13] _run(b::BenchmarkTools.Benchmark, p::BenchmarkTools.Parameters; verbose::Bool, pad::String, kwargs::Base.Pairs{Symbol, Integer, NTuple{4, Symbol}, NamedTuple{(:samples, :evals, :gctrial, :gcsample), Tuple{Int64, Int64, Bool, Bool}}})",
      "    @ BenchmarkTools ~/.julia/packages/BenchmarkTools/7xSXH/src/execution.jl:99",
      " [14] #invokelatest#2",
      "    @ ./essentials.jl:718 [inlined]",
      " [15] #run_result#45",
      "    @ ~/.julia/packages/BenchmarkTools/7xSXH/src/execution.jl:34 [inlined]",
      " [16] run(b::BenchmarkTools.Benchmark, p::BenchmarkTools.Parameters; progressid::Nothing, nleaves::Float64, ndone::Float64, kwargs::Base.Pairs{Symbol, Integer, NTuple{5, Symbol}, NamedTuple{(:verbose, :samples, :evals, :gctrial, :gcsample), Tuple{Bool, Int64, Int64, Bool, Bool}}})",
      "    @ BenchmarkTools ~/.julia/packages/BenchmarkTools/7xSXH/src/execution.jl:117",
      " [17] #warmup#54",
      "    @ ~/.julia/packages/BenchmarkTools/7xSXH/src/execution.jl:169 [inlined]",
      " [18] tune!(b::BenchmarkTools.Benchmark, p::BenchmarkTools.Parameters; progressid::Nothing, nleaves::Float64, ndone::Float64, verbose::Bool, pad::String, kwargs::Base.Pairs{Symbol, Union{}, Tuple{}, NamedTuple{(), Tuple{}}})",
      "    @ BenchmarkTools ~/.julia/packages/BenchmarkTools/7xSXH/src/execution.jl:250",
      " [19] tune! (repeats 2 times)",
      "    @ ~/.julia/packages/BenchmarkTools/7xSXH/src/execution.jl:250 [inlined]",
      " [20] macro expansion",
      "    @ ~/.julia/packages/BenchmarkTools/7xSXH/src/execution.jl:394 [inlined]",
      " [21] top-level scope",
      "    @ In[65]:8",
      " [22] eval",
      "    @ ./boot.jl:373 [inlined]",
      " [23] include_string(mapexpr::typeof(REPL.softscope), mod::Module, code::String, filename::String)",
      "    @ Base ./loading.jl:1196"
     ]
    }
   ],
   "source": [
    "for i in 1:length(bsizes_list)\n",
    "    \n",
    "    bs = bsizes_list[i];\n",
    "    \n",
    "    blocks_partitions = partition_array_indices(p, bs);\n",
    "\n",
    "    \n",
    "    b = @benchmark pmap(x -> scan_distributed_block(r0perm, X00, x), blocks_partitions);\n",
    "    b = median(b)\n",
    "    \n",
    "    runtimes_bsizes[i] = time(b)/1e9\n",
    "    \n",
    "end"
   ]
  },
  {
   "cell_type": "code",
   "execution_count": 32,
   "id": "0f775687-9c31-4e52-9f30-4af90a186c5e",
   "metadata": {},
   "outputs": [],
   "source": [
    "for i in 1:length(nblocks_list)\n",
    "    \n",
    "    bs = Int(ceil(p/nblocks_list[i]));\n",
    "    \n",
    "    blocks_partitions = partition_array_indices(p, bs);\n",
    "\n",
    "    \n",
    "    b = @benchmark pmap(x -> scan_distributed_block(r0perm, X00, x), $blocks_partitions);\n",
    "    b = median(b)\n",
    "    \n",
    "    runtimes_nblocks[i] = time(b)/1e9\n",
    "    \n",
    "end"
   ]
  },
  {
   "cell_type": "code",
   "execution_count": 74,
   "id": "5c928a88-0223-4c5b-abbf-1e48c3dd35f0",
   "metadata": {},
   "outputs": [
    {
     "data": {
      "image/svg+xml": [
       "<?xml version=\"1.0\" encoding=\"utf-8\"?>\n",
       "<svg xmlns=\"http://www.w3.org/2000/svg\" xmlns:xlink=\"http://www.w3.org/1999/xlink\" width=\"600\" height=\"400\" viewBox=\"0 0 2400 1600\">\n",
       "<defs>\n",
       "  <clipPath id=\"clip970\">\n",
       "    <rect x=\"0\" y=\"0\" width=\"2400\" height=\"1600\"/>\n",
       "  </clipPath>\n",
       "</defs>\n",
       "<path clip-path=\"url(#clip970)\" d=\"\n",
       "M0 1600 L2400 1600 L2400 0 L0 0  Z\n",
       "  \" fill=\"#ffffff\" fill-rule=\"evenodd\" fill-opacity=\"1\"/>\n",
       "<defs>\n",
       "  <clipPath id=\"clip971\">\n",
       "    <rect x=\"480\" y=\"0\" width=\"1681\" height=\"1600\"/>\n",
       "  </clipPath>\n",
       "</defs>\n",
       "<path clip-path=\"url(#clip970)\" d=\"\n",
       "M220.19 1423.18 L2352.76 1423.18 L2352.76 47.2441 L220.19 47.2441  Z\n",
       "  \" fill=\"#ffffff\" fill-rule=\"evenodd\" fill-opacity=\"1\"/>\n",
       "<defs>\n",
       "  <clipPath id=\"clip972\">\n",
       "    <rect x=\"220\" y=\"47\" width=\"2134\" height=\"1377\"/>\n",
       "  </clipPath>\n",
       "</defs>\n",
       "<polyline clip-path=\"url(#clip972)\" style=\"stroke:#000000; stroke-linecap:butt; stroke-linejoin:round; stroke-width:2; stroke-opacity:0.1; fill:none\" points=\"\n",
       "  598.207,1423.18 598.207,47.2441 \n",
       "  \"/>\n",
       "<polyline clip-path=\"url(#clip972)\" style=\"stroke:#000000; stroke-linecap:butt; stroke-linejoin:round; stroke-width:2; stroke-opacity:0.1; fill:none\" points=\"\n",
       "  1021.76,1423.18 1021.76,47.2441 \n",
       "  \"/>\n",
       "<polyline clip-path=\"url(#clip972)\" style=\"stroke:#000000; stroke-linecap:butt; stroke-linejoin:round; stroke-width:2; stroke-opacity:0.1; fill:none\" points=\"\n",
       "  1445.3,1423.18 1445.3,47.2441 \n",
       "  \"/>\n",
       "<polyline clip-path=\"url(#clip972)\" style=\"stroke:#000000; stroke-linecap:butt; stroke-linejoin:round; stroke-width:2; stroke-opacity:0.1; fill:none\" points=\"\n",
       "  1868.85,1423.18 1868.85,47.2441 \n",
       "  \"/>\n",
       "<polyline clip-path=\"url(#clip972)\" style=\"stroke:#000000; stroke-linecap:butt; stroke-linejoin:round; stroke-width:2; stroke-opacity:0.1; fill:none\" points=\"\n",
       "  2292.4,1423.18 2292.4,47.2441 \n",
       "  \"/>\n",
       "<polyline clip-path=\"url(#clip970)\" style=\"stroke:#000000; stroke-linecap:butt; stroke-linejoin:round; stroke-width:4; stroke-opacity:1; fill:none\" points=\"\n",
       "  220.19,1423.18 2352.76,1423.18 \n",
       "  \"/>\n",
       "<polyline clip-path=\"url(#clip970)\" style=\"stroke:#000000; stroke-linecap:butt; stroke-linejoin:round; stroke-width:4; stroke-opacity:1; fill:none\" points=\"\n",
       "  598.207,1423.18 598.207,1404.28 \n",
       "  \"/>\n",
       "<polyline clip-path=\"url(#clip970)\" style=\"stroke:#000000; stroke-linecap:butt; stroke-linejoin:round; stroke-width:4; stroke-opacity:1; fill:none\" points=\"\n",
       "  1021.76,1423.18 1021.76,1404.28 \n",
       "  \"/>\n",
       "<polyline clip-path=\"url(#clip970)\" style=\"stroke:#000000; stroke-linecap:butt; stroke-linejoin:round; stroke-width:4; stroke-opacity:1; fill:none\" points=\"\n",
       "  1445.3,1423.18 1445.3,1404.28 \n",
       "  \"/>\n",
       "<polyline clip-path=\"url(#clip970)\" style=\"stroke:#000000; stroke-linecap:butt; stroke-linejoin:round; stroke-width:4; stroke-opacity:1; fill:none\" points=\"\n",
       "  1868.85,1423.18 1868.85,1404.28 \n",
       "  \"/>\n",
       "<polyline clip-path=\"url(#clip970)\" style=\"stroke:#000000; stroke-linecap:butt; stroke-linejoin:round; stroke-width:4; stroke-opacity:1; fill:none\" points=\"\n",
       "  2292.4,1423.18 2292.4,1404.28 \n",
       "  \"/>\n",
       "<path clip-path=\"url(#clip970)\" d=\"M561.899 1481.64 L578.219 1481.64 L578.219 1485.58 L556.275 1485.58 L556.275 1481.64 Q558.937 1478.89 563.52 1474.26 Q568.126 1469.61 569.307 1468.27 Q571.552 1465.74 572.432 1464.01 Q573.335 1462.25 573.335 1460.56 Q573.335 1457.8 571.39 1456.07 Q569.469 1454.33 566.367 1454.33 Q564.168 1454.33 561.714 1455.09 Q559.284 1455.86 556.506 1457.41 L556.506 1452.69 Q559.33 1451.55 561.784 1450.97 Q564.237 1450.39 566.274 1450.39 Q571.645 1450.39 574.839 1453.08 Q578.034 1455.77 578.034 1460.26 Q578.034 1462.39 577.223 1464.31 Q576.436 1466.2 574.33 1468.8 Q573.751 1469.47 570.649 1472.69 Q567.548 1475.88 561.899 1481.64 Z\" fill=\"#000000\" fill-rule=\"evenodd\" fill-opacity=\"1\" /><path clip-path=\"url(#clip970)\" d=\"M598.034 1454.1 Q594.422 1454.1 592.594 1457.66 Q590.788 1461.2 590.788 1468.33 Q590.788 1475.44 592.594 1479.01 Q594.422 1482.55 598.034 1482.55 Q601.668 1482.55 603.473 1479.01 Q605.302 1475.44 605.302 1468.33 Q605.302 1461.2 603.473 1457.66 Q601.668 1454.1 598.034 1454.1 M598.034 1450.39 Q603.844 1450.39 606.899 1455 Q609.978 1459.58 609.978 1468.33 Q609.978 1477.06 606.899 1481.67 Q603.844 1486.25 598.034 1486.25 Q592.223 1486.25 589.145 1481.67 Q586.089 1477.06 586.089 1468.33 Q586.089 1459.58 589.145 1455 Q592.223 1450.39 598.034 1450.39 Z\" fill=\"#000000\" fill-rule=\"evenodd\" fill-opacity=\"1\" /><path clip-path=\"url(#clip970)\" d=\"M628.195 1454.1 Q624.584 1454.1 622.756 1457.66 Q620.95 1461.2 620.95 1468.33 Q620.95 1475.44 622.756 1479.01 Q624.584 1482.55 628.195 1482.55 Q631.83 1482.55 633.635 1479.01 Q635.464 1475.44 635.464 1468.33 Q635.464 1461.2 633.635 1457.66 Q631.83 1454.1 628.195 1454.1 M628.195 1450.39 Q634.006 1450.39 637.061 1455 Q640.14 1459.58 640.14 1468.33 Q640.14 1477.06 637.061 1481.67 Q634.006 1486.25 628.195 1486.25 Q622.385 1486.25 619.307 1481.67 Q616.251 1477.06 616.251 1468.33 Q616.251 1459.58 619.307 1455 Q622.385 1450.39 628.195 1450.39 Z\" fill=\"#000000\" fill-rule=\"evenodd\" fill-opacity=\"1\" /><path clip-path=\"url(#clip970)\" d=\"M994.846 1455.09 L983.04 1473.54 L994.846 1473.54 L994.846 1455.09 M993.619 1451.02 L999.499 1451.02 L999.499 1473.54 L1004.43 1473.54 L1004.43 1477.43 L999.499 1477.43 L999.499 1485.58 L994.846 1485.58 L994.846 1477.43 L979.244 1477.43 L979.244 1472.92 L993.619 1451.02 Z\" fill=\"#000000\" fill-rule=\"evenodd\" fill-opacity=\"1\" /><path clip-path=\"url(#clip970)\" d=\"M1022.16 1454.1 Q1018.55 1454.1 1016.72 1457.66 Q1014.92 1461.2 1014.92 1468.33 Q1014.92 1475.44 1016.72 1479.01 Q1018.55 1482.55 1022.16 1482.55 Q1025.79 1482.55 1027.6 1479.01 Q1029.43 1475.44 1029.43 1468.33 Q1029.43 1461.2 1027.6 1457.66 Q1025.79 1454.1 1022.16 1454.1 M1022.16 1450.39 Q1027.97 1450.39 1031.03 1455 Q1034.1 1459.58 1034.1 1468.33 Q1034.1 1477.06 1031.03 1481.67 Q1027.97 1486.25 1022.16 1486.25 Q1016.35 1486.25 1013.27 1481.67 Q1010.22 1477.06 1010.22 1468.33 Q1010.22 1459.58 1013.27 1455 Q1016.35 1450.39 1022.16 1450.39 Z\" fill=\"#000000\" fill-rule=\"evenodd\" fill-opacity=\"1\" /><path clip-path=\"url(#clip970)\" d=\"M1052.32 1454.1 Q1048.71 1454.1 1046.88 1457.66 Q1045.08 1461.2 1045.08 1468.33 Q1045.08 1475.44 1046.88 1479.01 Q1048.71 1482.55 1052.32 1482.55 Q1055.96 1482.55 1057.76 1479.01 Q1059.59 1475.44 1059.59 1468.33 Q1059.59 1461.2 1057.76 1457.66 Q1055.96 1454.1 1052.32 1454.1 M1052.32 1450.39 Q1058.13 1450.39 1061.19 1455 Q1064.27 1459.58 1064.27 1468.33 Q1064.27 1477.06 1061.19 1481.67 Q1058.13 1486.25 1052.32 1486.25 Q1046.51 1486.25 1043.43 1481.67 Q1040.38 1477.06 1040.38 1468.33 Q1040.38 1459.58 1043.43 1455 Q1046.51 1450.39 1052.32 1450.39 Z\" fill=\"#000000\" fill-rule=\"evenodd\" fill-opacity=\"1\" /><path clip-path=\"url(#clip970)\" d=\"M1415.63 1466.44 Q1412.48 1466.44 1410.63 1468.59 Q1408.8 1470.74 1408.8 1474.49 Q1408.8 1478.22 1410.63 1480.39 Q1412.48 1482.55 1415.63 1482.55 Q1418.78 1482.55 1420.6 1480.39 Q1422.46 1478.22 1422.46 1474.49 Q1422.46 1470.74 1420.6 1468.59 Q1418.78 1466.44 1415.63 1466.44 M1424.91 1451.78 L1424.91 1456.04 Q1423.15 1455.21 1421.35 1454.77 Q1419.56 1454.33 1417.8 1454.33 Q1413.17 1454.33 1410.72 1457.45 Q1408.29 1460.58 1407.94 1466.9 Q1409.31 1464.89 1411.37 1463.82 Q1413.43 1462.73 1415.91 1462.73 Q1421.11 1462.73 1424.12 1465.9 Q1427.16 1469.05 1427.16 1474.49 Q1427.16 1479.82 1424.01 1483.03 Q1420.86 1486.25 1415.63 1486.25 Q1409.63 1486.25 1406.46 1481.67 Q1403.29 1477.06 1403.29 1468.33 Q1403.29 1460.14 1407.18 1455.28 Q1411.07 1450.39 1417.62 1450.39 Q1419.38 1450.39 1421.16 1450.74 Q1422.97 1451.09 1424.91 1451.78 Z\" fill=\"#000000\" fill-rule=\"evenodd\" fill-opacity=\"1\" /><path clip-path=\"url(#clip970)\" d=\"M1445.21 1454.1 Q1441.6 1454.1 1439.77 1457.66 Q1437.97 1461.2 1437.97 1468.33 Q1437.97 1475.44 1439.77 1479.01 Q1441.6 1482.55 1445.21 1482.55 Q1448.85 1482.55 1450.65 1479.01 Q1452.48 1475.44 1452.48 1468.33 Q1452.48 1461.2 1450.65 1457.66 Q1448.85 1454.1 1445.21 1454.1 M1445.21 1450.39 Q1451.02 1450.39 1454.08 1455 Q1457.16 1459.58 1457.16 1468.33 Q1457.16 1477.06 1454.08 1481.67 Q1451.02 1486.25 1445.21 1486.25 Q1439.4 1486.25 1436.32 1481.67 Q1433.27 1477.06 1433.27 1468.33 Q1433.27 1459.58 1436.32 1455 Q1439.4 1450.39 1445.21 1450.39 Z\" fill=\"#000000\" fill-rule=\"evenodd\" fill-opacity=\"1\" /><path clip-path=\"url(#clip970)\" d=\"M1475.37 1454.1 Q1471.76 1454.1 1469.93 1457.66 Q1468.13 1461.2 1468.13 1468.33 Q1468.13 1475.44 1469.93 1479.01 Q1471.76 1482.55 1475.37 1482.55 Q1479.01 1482.55 1480.81 1479.01 Q1482.64 1475.44 1482.64 1468.33 Q1482.64 1461.2 1480.81 1457.66 Q1479.01 1454.1 1475.37 1454.1 M1475.37 1450.39 Q1481.18 1450.39 1484.24 1455 Q1487.32 1459.58 1487.32 1468.33 Q1487.32 1477.06 1484.24 1481.67 Q1481.18 1486.25 1475.37 1486.25 Q1469.56 1486.25 1466.48 1481.67 Q1463.43 1477.06 1463.43 1468.33 Q1463.43 1459.58 1466.48 1455 Q1469.56 1450.39 1475.37 1450.39 Z\" fill=\"#000000\" fill-rule=\"evenodd\" fill-opacity=\"1\" /><path clip-path=\"url(#clip970)\" d=\"M1838.64 1469.17 Q1835.31 1469.17 1833.39 1470.95 Q1831.49 1472.73 1831.49 1475.86 Q1831.49 1478.98 1833.39 1480.77 Q1835.31 1482.55 1838.64 1482.55 Q1841.98 1482.55 1843.9 1480.77 Q1845.82 1478.96 1845.82 1475.86 Q1845.82 1472.73 1843.9 1470.95 Q1842 1469.17 1838.64 1469.17 M1833.97 1467.18 Q1830.96 1466.44 1829.27 1464.38 Q1827.6 1462.32 1827.6 1459.35 Q1827.6 1455.21 1830.54 1452.8 Q1833.5 1450.39 1838.64 1450.39 Q1843.81 1450.39 1846.75 1452.8 Q1849.69 1455.21 1849.69 1459.35 Q1849.69 1462.32 1848 1464.38 Q1846.33 1466.44 1843.34 1467.18 Q1846.72 1467.96 1848.6 1470.26 Q1850.5 1472.55 1850.5 1475.86 Q1850.5 1480.88 1847.42 1483.57 Q1844.36 1486.25 1838.64 1486.25 Q1832.93 1486.25 1829.85 1483.57 Q1826.79 1480.88 1826.79 1475.86 Q1826.79 1472.55 1828.69 1470.26 Q1830.59 1467.96 1833.97 1467.18 M1832.25 1459.79 Q1832.25 1462.48 1833.92 1463.98 Q1835.61 1465.49 1838.64 1465.49 Q1841.65 1465.49 1843.34 1463.98 Q1845.06 1462.48 1845.06 1459.79 Q1845.06 1457.11 1843.34 1455.6 Q1841.65 1454.1 1838.64 1454.1 Q1835.61 1454.1 1833.92 1455.6 Q1832.25 1457.11 1832.25 1459.79 Z\" fill=\"#000000\" fill-rule=\"evenodd\" fill-opacity=\"1\" /><path clip-path=\"url(#clip970)\" d=\"M1868.81 1454.1 Q1865.19 1454.1 1863.37 1457.66 Q1861.56 1461.2 1861.56 1468.33 Q1861.56 1475.44 1863.37 1479.01 Q1865.19 1482.55 1868.81 1482.55 Q1872.44 1482.55 1874.25 1479.01 Q1876.07 1475.44 1876.07 1468.33 Q1876.07 1461.2 1874.25 1457.66 Q1872.44 1454.1 1868.81 1454.1 M1868.81 1450.39 Q1874.62 1450.39 1877.67 1455 Q1880.75 1459.58 1880.75 1468.33 Q1880.75 1477.06 1877.67 1481.67 Q1874.62 1486.25 1868.81 1486.25 Q1863 1486.25 1859.92 1481.67 Q1856.86 1477.06 1856.86 1468.33 Q1856.86 1459.58 1859.92 1455 Q1863 1450.39 1868.81 1450.39 Z\" fill=\"#000000\" fill-rule=\"evenodd\" fill-opacity=\"1\" /><path clip-path=\"url(#clip970)\" d=\"M1898.97 1454.1 Q1895.36 1454.1 1893.53 1457.66 Q1891.72 1461.2 1891.72 1468.33 Q1891.72 1475.44 1893.53 1479.01 Q1895.36 1482.55 1898.97 1482.55 Q1902.6 1482.55 1904.41 1479.01 Q1906.24 1475.44 1906.24 1468.33 Q1906.24 1461.2 1904.41 1457.66 Q1902.6 1454.1 1898.97 1454.1 M1898.97 1450.39 Q1904.78 1450.39 1907.83 1455 Q1910.91 1459.58 1910.91 1468.33 Q1910.91 1477.06 1907.83 1481.67 Q1904.78 1486.25 1898.97 1486.25 Q1893.16 1486.25 1890.08 1481.67 Q1887.02 1477.06 1887.02 1468.33 Q1887.02 1459.58 1890.08 1455 Q1893.16 1450.39 1898.97 1450.39 Z\" fill=\"#000000\" fill-rule=\"evenodd\" fill-opacity=\"1\" /><path clip-path=\"url(#clip970)\" d=\"M2236.93 1481.64 L2244.56 1481.64 L2244.56 1455.28 L2236.25 1456.95 L2236.25 1452.69 L2244.52 1451.02 L2249.19 1451.02 L2249.19 1481.64 L2256.83 1481.64 L2256.83 1485.58 L2236.93 1485.58 L2236.93 1481.64 Z\" fill=\"#000000\" fill-rule=\"evenodd\" fill-opacity=\"1\" /><path clip-path=\"url(#clip970)\" d=\"M2276.28 1454.1 Q2272.67 1454.1 2270.84 1457.66 Q2269.03 1461.2 2269.03 1468.33 Q2269.03 1475.44 2270.84 1479.01 Q2272.67 1482.55 2276.28 1482.55 Q2279.91 1482.55 2281.72 1479.01 Q2283.55 1475.44 2283.55 1468.33 Q2283.55 1461.2 2281.72 1457.66 Q2279.91 1454.1 2276.28 1454.1 M2276.28 1450.39 Q2282.09 1450.39 2285.14 1455 Q2288.22 1459.58 2288.22 1468.33 Q2288.22 1477.06 2285.14 1481.67 Q2282.09 1486.25 2276.28 1486.25 Q2270.47 1486.25 2267.39 1481.67 Q2264.33 1477.06 2264.33 1468.33 Q2264.33 1459.58 2267.39 1455 Q2270.47 1450.39 2276.28 1450.39 Z\" fill=\"#000000\" fill-rule=\"evenodd\" fill-opacity=\"1\" /><path clip-path=\"url(#clip970)\" d=\"M2306.44 1454.1 Q2302.83 1454.1 2301 1457.66 Q2299.19 1461.2 2299.19 1468.33 Q2299.19 1475.44 2301 1479.01 Q2302.83 1482.55 2306.44 1482.55 Q2310.07 1482.55 2311.88 1479.01 Q2313.71 1475.44 2313.71 1468.33 Q2313.71 1461.2 2311.88 1457.66 Q2310.07 1454.1 2306.44 1454.1 M2306.44 1450.39 Q2312.25 1450.39 2315.31 1455 Q2318.38 1459.58 2318.38 1468.33 Q2318.38 1477.06 2315.31 1481.67 Q2312.25 1486.25 2306.44 1486.25 Q2300.63 1486.25 2297.55 1481.67 Q2294.5 1477.06 2294.5 1468.33 Q2294.5 1459.58 2297.55 1455 Q2300.63 1450.39 2306.44 1450.39 Z\" fill=\"#000000\" fill-rule=\"evenodd\" fill-opacity=\"1\" /><path clip-path=\"url(#clip970)\" d=\"M2336.6 1454.1 Q2332.99 1454.1 2331.16 1457.66 Q2329.36 1461.2 2329.36 1468.33 Q2329.36 1475.44 2331.16 1479.01 Q2332.99 1482.55 2336.6 1482.55 Q2340.24 1482.55 2342.04 1479.01 Q2343.87 1475.44 2343.87 1468.33 Q2343.87 1461.2 2342.04 1457.66 Q2340.24 1454.1 2336.6 1454.1 M2336.6 1450.39 Q2342.41 1450.39 2345.47 1455 Q2348.55 1459.58 2348.55 1468.33 Q2348.55 1477.06 2345.47 1481.67 Q2342.41 1486.25 2336.6 1486.25 Q2330.79 1486.25 2327.71 1481.67 Q2324.66 1477.06 2324.66 1468.33 Q2324.66 1459.58 2327.71 1455 Q2330.79 1450.39 2336.6 1450.39 Z\" fill=\"#000000\" fill-rule=\"evenodd\" fill-opacity=\"1\" /><path clip-path=\"url(#clip970)\" d=\"M704.25 1520.52 L712.907 1520.52 L733.978 1560.28 L733.978 1520.52 L740.216 1520.52 L740.216 1568.04 L731.559 1568.04 L710.488 1528.29 L710.488 1568.04 L704.25 1568.04 L704.25 1520.52 Z\" fill=\"#000000\" fill-rule=\"evenodd\" fill-opacity=\"1\" /><path clip-path=\"url(#clip970)\" d=\"M752.152 1553.98 L752.152 1532.4 L758.008 1532.4 L758.008 1553.75 Q758.008 1558.81 759.981 1561.36 Q761.955 1563.87 765.902 1563.87 Q770.644 1563.87 773.381 1560.85 Q776.15 1557.83 776.15 1552.61 L776.15 1532.4 L782.007 1532.4 L782.007 1568.04 L776.15 1568.04 L776.15 1562.57 Q774.018 1565.82 771.185 1567.41 Q768.384 1568.97 764.66 1568.97 Q758.517 1568.97 755.334 1565.15 Q752.152 1561.33 752.152 1553.98 M766.888 1531.54 L766.888 1531.54 Z\" fill=\"#000000\" fill-rule=\"evenodd\" fill-opacity=\"1\" /><path clip-path=\"url(#clip970)\" d=\"M821.824 1539.24 Q824.02 1535.29 827.076 1533.41 Q830.132 1531.54 834.269 1531.54 Q839.839 1531.54 842.863 1535.45 Q845.887 1539.33 845.887 1546.53 L845.887 1568.04 L839.998 1568.04 L839.998 1546.72 Q839.998 1541.59 838.184 1539.11 Q836.37 1536.63 832.646 1536.63 Q828.095 1536.63 825.453 1539.65 Q822.811 1542.68 822.811 1547.9 L822.811 1568.04 L816.923 1568.04 L816.923 1546.72 Q816.923 1541.56 815.108 1539.11 Q813.294 1536.63 809.507 1536.63 Q805.019 1536.63 802.377 1539.68 Q799.735 1542.71 799.735 1547.9 L799.735 1568.04 L793.847 1568.04 L793.847 1532.4 L799.735 1532.4 L799.735 1537.93 Q801.74 1534.66 804.541 1533.1 Q807.342 1531.54 811.194 1531.54 Q815.077 1531.54 817.782 1533.51 Q820.519 1535.48 821.824 1539.24 Z\" fill=\"#000000\" fill-rule=\"evenodd\" fill-opacity=\"1\" /><path clip-path=\"url(#clip970)\" d=\"M883.158 1550.25 Q883.158 1543.79 880.484 1540.13 Q877.842 1536.44 873.196 1536.44 Q868.549 1536.44 865.875 1540.13 Q863.233 1543.79 863.233 1550.25 Q863.233 1556.71 865.875 1560.4 Q868.549 1564.07 873.196 1564.07 Q877.842 1564.07 880.484 1560.4 Q883.158 1556.71 883.158 1550.25 M863.233 1537.81 Q865.079 1534.62 867.88 1533.1 Q870.713 1531.54 874.628 1531.54 Q881.121 1531.54 885.163 1536.69 Q889.237 1541.85 889.237 1550.25 Q889.237 1558.65 885.163 1563.81 Q881.121 1568.97 874.628 1568.97 Q870.713 1568.97 867.88 1567.44 Q865.079 1565.88 863.233 1562.7 L863.233 1568.04 L857.345 1568.04 L857.345 1518.52 L863.233 1518.52 L863.233 1537.81 Z\" fill=\"#000000\" fill-rule=\"evenodd\" fill-opacity=\"1\" /><path clip-path=\"url(#clip970)\" d=\"M929.437 1548.76 L929.437 1551.62 L902.51 1551.62 Q902.892 1557.67 906.138 1560.85 Q909.416 1564 915.241 1564 Q918.615 1564 921.766 1563.17 Q924.949 1562.35 928.068 1560.69 L928.068 1566.23 Q924.917 1567.57 921.607 1568.27 Q918.297 1568.97 914.891 1568.97 Q906.361 1568.97 901.364 1564 Q896.399 1559.04 896.399 1550.57 Q896.399 1541.82 901.109 1536.69 Q905.852 1531.54 913.872 1531.54 Q921.066 1531.54 925.235 1536.18 Q929.437 1540.8 929.437 1548.76 M923.58 1547.04 Q923.516 1542.23 920.875 1539.37 Q918.265 1536.5 913.936 1536.5 Q909.034 1536.5 906.074 1539.27 Q903.146 1542.04 902.701 1547.07 L923.58 1547.04 Z\" fill=\"#000000\" fill-rule=\"evenodd\" fill-opacity=\"1\" /><path clip-path=\"url(#clip970)\" d=\"M959.705 1537.87 Q958.719 1537.3 957.541 1537.04 Q956.395 1536.76 954.995 1536.76 Q950.03 1536.76 947.356 1540 Q944.714 1543.22 944.714 1549.27 L944.714 1568.04 L938.826 1568.04 L938.826 1532.4 L944.714 1532.4 L944.714 1537.93 Q946.56 1534.69 949.52 1533.13 Q952.48 1531.54 956.714 1531.54 Q957.318 1531.54 958.05 1531.63 Q958.782 1531.7 959.674 1531.85 L959.705 1537.87 Z\" fill=\"#000000\" fill-rule=\"evenodd\" fill-opacity=\"1\" /><path clip-path=\"url(#clip970)\" d=\"M1000.38 1536.5 Q995.672 1536.5 992.934 1540.19 Q990.197 1543.85 990.197 1550.25 Q990.197 1556.65 992.903 1560.34 Q995.64 1564 1000.38 1564 Q1005.06 1564 1007.8 1560.31 Q1010.54 1556.62 1010.54 1550.25 Q1010.54 1543.92 1007.8 1540.23 Q1005.06 1536.5 1000.38 1536.5 M1000.38 1531.54 Q1008.02 1531.54 1012.38 1536.5 Q1016.74 1541.47 1016.74 1550.25 Q1016.74 1559 1012.38 1564 Q1008.02 1568.97 1000.38 1568.97 Q992.712 1568.97 988.351 1564 Q984.022 1559 984.022 1550.25 Q984.022 1541.47 988.351 1536.5 Q992.712 1531.54 1000.38 1531.54 Z\" fill=\"#000000\" fill-rule=\"evenodd\" fill-opacity=\"1\" /><path clip-path=\"url(#clip970)\" d=\"M1044.5 1518.52 L1044.5 1523.39 L1038.89 1523.39 Q1035.74 1523.39 1034.5 1524.66 Q1033.29 1525.93 1033.29 1529.24 L1033.29 1532.4 L1042.94 1532.4 L1042.94 1536.95 L1033.29 1536.95 L1033.29 1568.04 L1027.4 1568.04 L1027.4 1536.95 L1021.8 1536.95 L1021.8 1532.4 L1027.4 1532.4 L1027.4 1529.91 Q1027.4 1523.96 1030.17 1521.26 Q1032.94 1518.52 1038.96 1518.52 L1044.5 1518.52 Z\" fill=\"#000000\" fill-rule=\"evenodd\" fill-opacity=\"1\" /><path clip-path=\"url(#clip970)\" d=\"M1075.78 1562.7 L1075.78 1581.6 L1069.9 1581.6 L1069.9 1532.4 L1075.78 1532.4 L1075.78 1537.81 Q1077.63 1534.62 1080.43 1533.1 Q1083.26 1531.54 1087.18 1531.54 Q1093.67 1531.54 1097.71 1536.69 Q1101.79 1541.85 1101.79 1550.25 Q1101.79 1558.65 1097.71 1563.81 Q1093.67 1568.97 1087.18 1568.97 Q1083.26 1568.97 1080.43 1567.44 Q1077.63 1565.88 1075.78 1562.7 M1095.71 1550.25 Q1095.71 1543.79 1093.04 1540.13 Q1090.39 1536.44 1085.75 1536.44 Q1081.1 1536.44 1078.43 1540.13 Q1075.78 1543.79 1075.78 1550.25 Q1075.78 1556.71 1078.43 1560.4 Q1081.1 1564.07 1085.75 1564.07 Q1090.39 1564.07 1093.04 1560.4 Q1095.71 1556.71 1095.71 1550.25 Z\" fill=\"#000000\" fill-rule=\"evenodd\" fill-opacity=\"1\" /><path clip-path=\"url(#clip970)\" d=\"M1141.99 1548.76 L1141.99 1551.62 L1115.06 1551.62 Q1115.44 1557.67 1118.69 1560.85 Q1121.97 1564 1127.79 1564 Q1131.17 1564 1134.32 1563.17 Q1137.5 1562.35 1140.62 1560.69 L1140.62 1566.23 Q1137.47 1567.57 1134.16 1568.27 Q1130.85 1568.97 1127.44 1568.97 Q1118.91 1568.97 1113.91 1564 Q1108.95 1559.04 1108.95 1550.57 Q1108.95 1541.82 1113.66 1536.69 Q1118.4 1531.54 1126.42 1531.54 Q1133.62 1531.54 1137.79 1536.18 Q1141.99 1540.8 1141.99 1548.76 M1136.13 1547.04 Q1136.07 1542.23 1133.43 1539.37 Q1130.82 1536.5 1126.49 1536.5 Q1121.59 1536.5 1118.63 1539.27 Q1115.7 1542.04 1115.25 1547.07 L1136.13 1547.04 Z\" fill=\"#000000\" fill-rule=\"evenodd\" fill-opacity=\"1\" /><path clip-path=\"url(#clip970)\" d=\"M1172.26 1537.87 Q1171.27 1537.3 1170.09 1537.04 Q1168.95 1536.76 1167.55 1536.76 Q1162.58 1536.76 1159.91 1540 Q1157.27 1543.22 1157.27 1549.27 L1157.27 1568.04 L1151.38 1568.04 L1151.38 1532.4 L1157.27 1532.4 L1157.27 1537.93 Q1159.11 1534.69 1162.07 1533.13 Q1165.03 1531.54 1169.26 1531.54 Q1169.87 1531.54 1170.6 1531.63 Q1171.33 1531.7 1172.22 1531.85 L1172.26 1537.87 Z\" fill=\"#000000\" fill-rule=\"evenodd\" fill-opacity=\"1\" /><path clip-path=\"url(#clip970)\" d=\"M1205.01 1539.24 Q1207.2 1535.29 1210.26 1533.41 Q1213.32 1531.54 1217.45 1531.54 Q1223.02 1531.54 1226.05 1535.45 Q1229.07 1539.33 1229.07 1546.53 L1229.07 1568.04 L1223.18 1568.04 L1223.18 1546.72 Q1223.18 1541.59 1221.37 1539.11 Q1219.55 1536.63 1215.83 1536.63 Q1211.28 1536.63 1208.64 1539.65 Q1205.99 1542.68 1205.99 1547.9 L1205.99 1568.04 L1200.11 1568.04 L1200.11 1546.72 Q1200.11 1541.56 1198.29 1539.11 Q1196.48 1536.63 1192.69 1536.63 Q1188.2 1536.63 1185.56 1539.68 Q1182.92 1542.71 1182.92 1547.9 L1182.92 1568.04 L1177.03 1568.04 L1177.03 1532.4 L1182.92 1532.4 L1182.92 1537.93 Q1184.92 1534.66 1187.73 1533.1 Q1190.53 1531.54 1194.38 1531.54 Q1198.26 1531.54 1200.97 1533.51 Q1203.7 1535.48 1205.01 1539.24 Z\" fill=\"#000000\" fill-rule=\"evenodd\" fill-opacity=\"1\" /><path clip-path=\"url(#clip970)\" d=\"M1240.15 1553.98 L1240.15 1532.4 L1246 1532.4 L1246 1553.75 Q1246 1558.81 1247.98 1561.36 Q1249.95 1563.87 1253.9 1563.87 Q1258.64 1563.87 1261.38 1560.85 Q1264.15 1557.83 1264.15 1552.61 L1264.15 1532.4 L1270 1532.4 L1270 1568.04 L1264.15 1568.04 L1264.15 1562.57 Q1262.01 1565.82 1259.18 1567.41 Q1256.38 1568.97 1252.66 1568.97 Q1246.51 1568.97 1243.33 1565.15 Q1240.15 1561.33 1240.15 1553.98 M1254.88 1531.54 L1254.88 1531.54 Z\" fill=\"#000000\" fill-rule=\"evenodd\" fill-opacity=\"1\" /><path clip-path=\"url(#clip970)\" d=\"M1287.86 1522.27 L1287.86 1532.4 L1299.92 1532.4 L1299.92 1536.95 L1287.86 1536.95 L1287.86 1556.3 Q1287.86 1560.66 1289.04 1561.9 Q1290.24 1563.14 1293.91 1563.14 L1299.92 1563.14 L1299.92 1568.04 L1293.91 1568.04 Q1287.13 1568.04 1284.55 1565.53 Q1281.97 1562.98 1281.97 1556.3 L1281.97 1536.95 L1277.67 1536.95 L1277.67 1532.4 L1281.97 1532.4 L1281.97 1522.27 L1287.86 1522.27 Z\" fill=\"#000000\" fill-rule=\"evenodd\" fill-opacity=\"1\" /><path clip-path=\"url(#clip970)\" d=\"M1323.82 1550.12 Q1316.73 1550.12 1313.99 1551.75 Q1311.25 1553.37 1311.25 1557.29 Q1311.25 1560.4 1313.29 1562.25 Q1315.36 1564.07 1318.89 1564.07 Q1323.76 1564.07 1326.69 1560.63 Q1329.65 1557.16 1329.65 1551.43 L1329.65 1550.12 L1323.82 1550.12 M1335.5 1547.71 L1335.5 1568.04 L1329.65 1568.04 L1329.65 1562.63 Q1327.64 1565.88 1324.65 1567.44 Q1321.66 1568.97 1317.33 1568.97 Q1311.86 1568.97 1308.61 1565.91 Q1305.4 1562.82 1305.4 1557.67 Q1305.4 1551.65 1309.41 1548.6 Q1313.45 1545.54 1321.44 1545.54 L1329.65 1545.54 L1329.65 1544.97 Q1329.65 1540.93 1326.97 1538.73 Q1324.33 1536.5 1319.53 1536.5 Q1316.47 1536.5 1313.58 1537.23 Q1310.68 1537.97 1308.01 1539.43 L1308.01 1534.02 Q1311.22 1532.78 1314.24 1532.17 Q1317.27 1531.54 1320.13 1531.54 Q1327.87 1531.54 1331.69 1535.55 Q1335.5 1539.56 1335.5 1547.71 Z\" fill=\"#000000\" fill-rule=\"evenodd\" fill-opacity=\"1\" /><path clip-path=\"url(#clip970)\" d=\"M1353.36 1522.27 L1353.36 1532.4 L1365.42 1532.4 L1365.42 1536.95 L1353.36 1536.95 L1353.36 1556.3 Q1353.36 1560.66 1354.54 1561.9 Q1355.75 1563.14 1359.41 1563.14 L1365.42 1563.14 L1365.42 1568.04 L1359.41 1568.04 Q1352.63 1568.04 1350.05 1565.53 Q1347.47 1562.98 1347.47 1556.3 L1347.47 1536.95 L1343.18 1536.95 L1343.18 1532.4 L1347.47 1532.4 L1347.47 1522.27 L1353.36 1522.27 Z\" fill=\"#000000\" fill-rule=\"evenodd\" fill-opacity=\"1\" /><path clip-path=\"url(#clip970)\" d=\"M1373.13 1532.4 L1378.98 1532.4 L1378.98 1568.04 L1373.13 1568.04 L1373.13 1532.4 M1373.13 1518.52 L1378.98 1518.52 L1378.98 1525.93 L1373.13 1525.93 L1373.13 1518.52 Z\" fill=\"#000000\" fill-rule=\"evenodd\" fill-opacity=\"1\" /><path clip-path=\"url(#clip970)\" d=\"M1405.05 1536.5 Q1400.34 1536.5 1397.6 1540.19 Q1394.87 1543.85 1394.87 1550.25 Q1394.87 1556.65 1397.57 1560.34 Q1400.31 1564 1405.05 1564 Q1409.73 1564 1412.47 1560.31 Q1415.2 1556.62 1415.2 1550.25 Q1415.2 1543.92 1412.47 1540.23 Q1409.73 1536.5 1405.05 1536.5 M1405.05 1531.54 Q1412.69 1531.54 1417.05 1536.5 Q1421.41 1541.47 1421.41 1550.25 Q1421.41 1559 1417.05 1564 Q1412.69 1568.97 1405.05 1568.97 Q1397.38 1568.97 1393.02 1564 Q1388.69 1559 1388.69 1550.25 Q1388.69 1541.47 1393.02 1536.5 Q1397.38 1531.54 1405.05 1531.54 Z\" fill=\"#000000\" fill-rule=\"evenodd\" fill-opacity=\"1\" /><path clip-path=\"url(#clip970)\" d=\"M1460.75 1546.53 L1460.75 1568.04 L1454.89 1568.04 L1454.89 1546.72 Q1454.89 1541.66 1452.92 1539.14 Q1450.95 1536.63 1447 1536.63 Q1442.26 1536.63 1439.52 1539.65 Q1436.78 1542.68 1436.78 1547.9 L1436.78 1568.04 L1430.9 1568.04 L1430.9 1532.4 L1436.78 1532.4 L1436.78 1537.93 Q1438.88 1534.72 1441.72 1533.13 Q1444.58 1531.54 1448.31 1531.54 Q1454.45 1531.54 1457.6 1535.36 Q1460.75 1539.14 1460.75 1546.53 Z\" fill=\"#000000\" fill-rule=\"evenodd\" fill-opacity=\"1\" /><path clip-path=\"url(#clip970)\" d=\"M1495.16 1533.45 L1495.16 1538.98 Q1492.67 1537.71 1490 1537.07 Q1487.33 1536.44 1484.46 1536.44 Q1480.1 1536.44 1477.91 1537.77 Q1475.74 1539.11 1475.74 1541.79 Q1475.74 1543.82 1477.3 1545 Q1478.86 1546.15 1483.57 1547.2 L1485.58 1547.64 Q1491.81 1548.98 1494.42 1551.43 Q1497.07 1553.85 1497.07 1558.21 Q1497.07 1563.17 1493.12 1566.07 Q1489.2 1568.97 1482.33 1568.97 Q1479.47 1568.97 1476.35 1568.39 Q1473.26 1567.85 1469.82 1566.74 L1469.82 1560.69 Q1473.07 1562.38 1476.22 1563.24 Q1479.37 1564.07 1482.46 1564.07 Q1486.6 1564.07 1488.82 1562.66 Q1491.05 1561.23 1491.05 1558.65 Q1491.05 1556.27 1489.43 1554.99 Q1487.84 1553.72 1482.39 1552.54 L1480.36 1552.07 Q1474.91 1550.92 1472.49 1548.56 Q1470.08 1546.18 1470.08 1542.04 Q1470.08 1537.01 1473.64 1534.27 Q1477.21 1531.54 1483.76 1531.54 Q1487.01 1531.54 1489.87 1532.01 Q1492.74 1532.49 1495.16 1533.45 Z\" fill=\"#000000\" fill-rule=\"evenodd\" fill-opacity=\"1\" /><path clip-path=\"url(#clip970)\" d=\"M1550.57 1537.81 L1550.57 1518.52 L1556.43 1518.52 L1556.43 1568.04 L1550.57 1568.04 L1550.57 1562.7 Q1548.72 1565.88 1545.89 1567.44 Q1543.09 1568.97 1539.14 1568.97 Q1532.68 1568.97 1528.61 1563.81 Q1524.57 1558.65 1524.57 1550.25 Q1524.57 1541.85 1528.61 1536.69 Q1532.68 1531.54 1539.14 1531.54 Q1543.09 1531.54 1545.89 1533.1 Q1548.72 1534.62 1550.57 1537.81 M1530.61 1550.25 Q1530.61 1556.71 1533.26 1560.4 Q1535.93 1564.07 1540.58 1564.07 Q1545.22 1564.07 1547.9 1560.4 Q1550.57 1556.71 1550.57 1550.25 Q1550.57 1543.79 1547.9 1540.13 Q1545.22 1536.44 1540.58 1536.44 Q1535.93 1536.44 1533.26 1540.13 Q1530.61 1543.79 1530.61 1550.25 Z\" fill=\"#000000\" fill-rule=\"evenodd\" fill-opacity=\"1\" /><path clip-path=\"url(#clip970)\" d=\"M1568.49 1532.4 L1574.35 1532.4 L1574.35 1568.04 L1568.49 1568.04 L1568.49 1532.4 M1568.49 1518.52 L1574.35 1518.52 L1574.35 1525.93 L1568.49 1525.93 L1568.49 1518.52 Z\" fill=\"#000000\" fill-rule=\"evenodd\" fill-opacity=\"1\" /><path clip-path=\"url(#clip970)\" d=\"M1609.33 1533.45 L1609.33 1538.98 Q1606.84 1537.71 1604.17 1537.07 Q1601.5 1536.44 1598.63 1536.44 Q1594.27 1536.44 1592.07 1537.77 Q1589.91 1539.11 1589.91 1541.79 Q1589.91 1543.82 1591.47 1545 Q1593.03 1546.15 1597.74 1547.2 L1599.75 1547.64 Q1605.98 1548.98 1608.59 1551.43 Q1611.24 1553.85 1611.24 1558.21 Q1611.24 1563.17 1607.29 1566.07 Q1603.37 1568.97 1596.5 1568.97 Q1593.63 1568.97 1590.52 1568.39 Q1587.43 1567.85 1583.99 1566.74 L1583.99 1560.69 Q1587.24 1562.38 1590.39 1563.24 Q1593.54 1564.07 1596.63 1564.07 Q1600.76 1564.07 1602.99 1562.66 Q1605.22 1561.23 1605.22 1558.65 Q1605.22 1556.27 1603.6 1554.99 Q1602.01 1553.72 1596.56 1552.54 L1594.53 1552.07 Q1589.08 1550.92 1586.66 1548.56 Q1584.24 1546.18 1584.24 1542.04 Q1584.24 1537.01 1587.81 1534.27 Q1591.37 1531.54 1597.93 1531.54 Q1601.18 1531.54 1604.04 1532.01 Q1606.91 1532.49 1609.33 1533.45 Z\" fill=\"#000000\" fill-rule=\"evenodd\" fill-opacity=\"1\" /><path clip-path=\"url(#clip970)\" d=\"M1626.35 1522.27 L1626.35 1532.4 L1638.42 1532.4 L1638.42 1536.95 L1626.35 1536.95 L1626.35 1556.3 Q1626.35 1560.66 1627.53 1561.9 Q1628.74 1563.14 1632.4 1563.14 L1638.42 1563.14 L1638.42 1568.04 L1632.4 1568.04 Q1625.62 1568.04 1623.04 1565.53 Q1620.47 1562.98 1620.47 1556.3 L1620.47 1536.95 L1616.17 1536.95 L1616.17 1532.4 L1620.47 1532.4 L1620.47 1522.27 L1626.35 1522.27 Z\" fill=\"#000000\" fill-rule=\"evenodd\" fill-opacity=\"1\" /><path clip-path=\"url(#clip970)\" d=\"M1666.78 1537.87 Q1665.79 1537.3 1664.61 1537.04 Q1663.47 1536.76 1662.07 1536.76 Q1657.1 1536.76 1654.43 1540 Q1651.79 1543.22 1651.79 1549.27 L1651.79 1568.04 L1645.9 1568.04 L1645.9 1532.4 L1651.79 1532.4 L1651.79 1537.93 Q1653.63 1534.69 1656.59 1533.13 Q1659.55 1531.54 1663.78 1531.54 Q1664.39 1531.54 1665.12 1531.63 Q1665.85 1531.7 1666.74 1531.85 L1666.78 1537.87 Z\" fill=\"#000000\" fill-rule=\"evenodd\" fill-opacity=\"1\" /><path clip-path=\"url(#clip970)\" d=\"M1672.92 1532.4 L1678.78 1532.4 L1678.78 1568.04 L1672.92 1568.04 L1672.92 1532.4 M1672.92 1518.52 L1678.78 1518.52 L1678.78 1525.93 L1672.92 1525.93 L1672.92 1518.52 Z\" fill=\"#000000\" fill-rule=\"evenodd\" fill-opacity=\"1\" /><path clip-path=\"url(#clip970)\" d=\"M1716.62 1550.25 Q1716.62 1543.79 1713.95 1540.13 Q1711.3 1536.44 1706.66 1536.44 Q1702.01 1536.44 1699.34 1540.13 Q1696.7 1543.79 1696.7 1550.25 Q1696.7 1556.71 1699.34 1560.4 Q1702.01 1564.07 1706.66 1564.07 Q1711.3 1564.07 1713.95 1560.4 Q1716.62 1556.71 1716.62 1550.25 M1696.7 1537.81 Q1698.54 1534.62 1701.34 1533.1 Q1704.17 1531.54 1708.09 1531.54 Q1714.58 1531.54 1718.63 1536.69 Q1722.7 1541.85 1722.7 1550.25 Q1722.7 1558.65 1718.63 1563.81 Q1714.58 1568.97 1708.09 1568.97 Q1704.17 1568.97 1701.34 1567.44 Q1698.54 1565.88 1696.7 1562.7 L1696.7 1568.04 L1690.81 1568.04 L1690.81 1518.52 L1696.7 1518.52 L1696.7 1537.81 Z\" fill=\"#000000\" fill-rule=\"evenodd\" fill-opacity=\"1\" /><path clip-path=\"url(#clip970)\" d=\"M1731.8 1553.98 L1731.8 1532.4 L1737.66 1532.4 L1737.66 1553.75 Q1737.66 1558.81 1739.63 1561.36 Q1741.61 1563.87 1745.55 1563.87 Q1750.29 1563.87 1753.03 1560.85 Q1755.8 1557.83 1755.8 1552.61 L1755.8 1532.4 L1761.66 1532.4 L1761.66 1568.04 L1755.8 1568.04 L1755.8 1562.57 Q1753.67 1565.82 1750.84 1567.41 Q1748.03 1568.97 1744.31 1568.97 Q1738.17 1568.97 1734.98 1565.15 Q1731.8 1561.33 1731.8 1553.98 M1746.54 1531.54 L1746.54 1531.54 Z\" fill=\"#000000\" fill-rule=\"evenodd\" fill-opacity=\"1\" /><path clip-path=\"url(#clip970)\" d=\"M1779.51 1522.27 L1779.51 1532.4 L1791.58 1532.4 L1791.58 1536.95 L1779.51 1536.95 L1779.51 1556.3 Q1779.51 1560.66 1780.69 1561.9 Q1781.9 1563.14 1785.56 1563.14 L1791.58 1563.14 L1791.58 1568.04 L1785.56 1568.04 Q1778.78 1568.04 1776.2 1565.53 Q1773.62 1562.98 1773.62 1556.3 L1773.62 1536.95 L1769.33 1536.95 L1769.33 1532.4 L1773.62 1532.4 L1773.62 1522.27 L1779.51 1522.27 Z\" fill=\"#000000\" fill-rule=\"evenodd\" fill-opacity=\"1\" /><path clip-path=\"url(#clip970)\" d=\"M1829.77 1548.76 L1829.77 1551.62 L1802.84 1551.62 Q1803.23 1557.67 1806.47 1560.85 Q1809.75 1564 1815.57 1564 Q1818.95 1564 1822.1 1563.17 Q1825.28 1562.35 1828.4 1560.69 L1828.4 1566.23 Q1825.25 1567.57 1821.94 1568.27 Q1818.63 1568.97 1815.22 1568.97 Q1806.69 1568.97 1801.7 1564 Q1796.73 1559.04 1796.73 1550.57 Q1796.73 1541.82 1801.44 1536.69 Q1806.19 1531.54 1814.21 1531.54 Q1821.4 1531.54 1825.57 1536.18 Q1829.77 1540.8 1829.77 1548.76 M1823.91 1547.04 Q1823.85 1542.23 1821.21 1539.37 Q1818.6 1536.5 1814.27 1536.5 Q1809.37 1536.5 1806.41 1539.27 Q1803.48 1542.04 1803.03 1547.07 L1823.91 1547.04 Z\" fill=\"#000000\" fill-rule=\"evenodd\" fill-opacity=\"1\" /><path clip-path=\"url(#clip970)\" d=\"M1862.84 1537.81 L1862.84 1518.52 L1868.7 1518.52 L1868.7 1568.04 L1862.84 1568.04 L1862.84 1562.7 Q1860.99 1565.88 1858.16 1567.44 Q1855.36 1568.97 1851.41 1568.97 Q1844.95 1568.97 1840.88 1563.81 Q1836.84 1558.65 1836.84 1550.25 Q1836.84 1541.85 1840.88 1536.69 Q1844.95 1531.54 1851.41 1531.54 Q1855.36 1531.54 1858.16 1533.1 Q1860.99 1534.62 1862.84 1537.81 M1842.88 1550.25 Q1842.88 1556.71 1845.53 1560.4 Q1848.2 1564.07 1852.85 1564.07 Q1857.49 1564.07 1860.17 1560.4 Q1862.84 1556.71 1862.84 1550.25 Q1862.84 1543.79 1860.17 1540.13 Q1857.49 1536.44 1852.85 1536.44 Q1848.2 1536.44 1845.53 1540.13 Q1842.88 1543.79 1842.88 1550.25 Z\" fill=\"#000000\" fill-rule=\"evenodd\" fill-opacity=\"1\" /><polyline clip-path=\"url(#clip972)\" style=\"stroke:#000000; stroke-linecap:butt; stroke-linejoin:round; stroke-width:2; stroke-opacity:0.1; fill:none\" points=\"\n",
       "  220.19,1295.26 2352.76,1295.26 \n",
       "  \"/>\n",
       "<polyline clip-path=\"url(#clip972)\" style=\"stroke:#000000; stroke-linecap:butt; stroke-linejoin:round; stroke-width:2; stroke-opacity:0.1; fill:none\" points=\"\n",
       "  220.19,1070 2352.76,1070 \n",
       "  \"/>\n",
       "<polyline clip-path=\"url(#clip972)\" style=\"stroke:#000000; stroke-linecap:butt; stroke-linejoin:round; stroke-width:2; stroke-opacity:0.1; fill:none\" points=\"\n",
       "  220.19,844.739 2352.76,844.739 \n",
       "  \"/>\n",
       "<polyline clip-path=\"url(#clip972)\" style=\"stroke:#000000; stroke-linecap:butt; stroke-linejoin:round; stroke-width:2; stroke-opacity:0.1; fill:none\" points=\"\n",
       "  220.19,619.477 2352.76,619.477 \n",
       "  \"/>\n",
       "<polyline clip-path=\"url(#clip972)\" style=\"stroke:#000000; stroke-linecap:butt; stroke-linejoin:round; stroke-width:2; stroke-opacity:0.1; fill:none\" points=\"\n",
       "  220.19,394.215 2352.76,394.215 \n",
       "  \"/>\n",
       "<polyline clip-path=\"url(#clip972)\" style=\"stroke:#000000; stroke-linecap:butt; stroke-linejoin:round; stroke-width:2; stroke-opacity:0.1; fill:none\" points=\"\n",
       "  220.19,168.953 2352.76,168.953 \n",
       "  \"/>\n",
       "<polyline clip-path=\"url(#clip970)\" style=\"stroke:#000000; stroke-linecap:butt; stroke-linejoin:round; stroke-width:4; stroke-opacity:1; fill:none\" points=\"\n",
       "  220.19,1423.18 220.19,47.2441 \n",
       "  \"/>\n",
       "<polyline clip-path=\"url(#clip970)\" style=\"stroke:#000000; stroke-linecap:butt; stroke-linejoin:round; stroke-width:4; stroke-opacity:1; fill:none\" points=\"\n",
       "  220.19,1295.26 239.088,1295.26 \n",
       "  \"/>\n",
       "<polyline clip-path=\"url(#clip970)\" style=\"stroke:#000000; stroke-linecap:butt; stroke-linejoin:round; stroke-width:4; stroke-opacity:1; fill:none\" points=\"\n",
       "  220.19,1070 239.088,1070 \n",
       "  \"/>\n",
       "<polyline clip-path=\"url(#clip970)\" style=\"stroke:#000000; stroke-linecap:butt; stroke-linejoin:round; stroke-width:4; stroke-opacity:1; fill:none\" points=\"\n",
       "  220.19,844.739 239.088,844.739 \n",
       "  \"/>\n",
       "<polyline clip-path=\"url(#clip970)\" style=\"stroke:#000000; stroke-linecap:butt; stroke-linejoin:round; stroke-width:4; stroke-opacity:1; fill:none\" points=\"\n",
       "  220.19,619.477 239.088,619.477 \n",
       "  \"/>\n",
       "<polyline clip-path=\"url(#clip970)\" style=\"stroke:#000000; stroke-linecap:butt; stroke-linejoin:round; stroke-width:4; stroke-opacity:1; fill:none\" points=\"\n",
       "  220.19,394.215 239.088,394.215 \n",
       "  \"/>\n",
       "<polyline clip-path=\"url(#clip970)\" style=\"stroke:#000000; stroke-linecap:butt; stroke-linejoin:round; stroke-width:4; stroke-opacity:1; fill:none\" points=\"\n",
       "  220.19,168.953 239.088,168.953 \n",
       "  \"/>\n",
       "<path clip-path=\"url(#clip970)\" d=\"M121.043 1308.61 L137.362 1308.61 L137.362 1312.54 L115.418 1312.54 L115.418 1308.61 Q118.08 1305.85 122.663 1301.22 Q127.269 1296.57 128.45 1295.23 Q130.695 1292.71 131.575 1290.97 Q132.478 1289.21 132.478 1287.52 Q132.478 1284.77 130.533 1283.03 Q128.612 1281.29 125.51 1281.29 Q123.311 1281.29 120.857 1282.06 Q118.427 1282.82 115.649 1284.37 L115.649 1279.65 Q118.473 1278.52 120.927 1277.94 Q123.38 1277.36 125.418 1277.36 Q130.788 1277.36 133.982 1280.04 Q137.177 1282.73 137.177 1287.22 Q137.177 1289.35 136.367 1291.27 Q135.579 1293.17 133.473 1295.76 Q132.894 1296.43 129.792 1299.65 Q126.691 1302.84 121.043 1308.61 Z\" fill=\"#000000\" fill-rule=\"evenodd\" fill-opacity=\"1\" /><path clip-path=\"url(#clip970)\" d=\"M147.177 1306.66 L152.061 1306.66 L152.061 1312.54 L147.177 1312.54 L147.177 1306.66 Z\" fill=\"#000000\" fill-rule=\"evenodd\" fill-opacity=\"1\" /><path clip-path=\"url(#clip970)\" d=\"M172.246 1281.06 Q168.635 1281.06 166.806 1284.63 Q165.001 1288.17 165.001 1295.3 Q165.001 1302.4 166.806 1305.97 Q168.635 1309.51 172.246 1309.51 Q175.88 1309.51 177.686 1305.97 Q179.514 1302.4 179.514 1295.3 Q179.514 1288.17 177.686 1284.63 Q175.88 1281.06 172.246 1281.06 M172.246 1277.36 Q178.056 1277.36 181.112 1281.96 Q184.19 1286.55 184.19 1295.3 Q184.19 1304.02 181.112 1308.63 Q178.056 1313.21 172.246 1313.21 Q166.436 1313.21 163.357 1308.63 Q160.302 1304.02 160.302 1295.3 Q160.302 1286.55 163.357 1281.96 Q166.436 1277.36 172.246 1277.36 Z\" fill=\"#000000\" fill-rule=\"evenodd\" fill-opacity=\"1\" /><path clip-path=\"url(#clip970)\" d=\"M122.038 1083.35 L138.357 1083.35 L138.357 1087.28 L116.413 1087.28 L116.413 1083.35 Q119.075 1080.59 123.658 1075.96 Q128.265 1071.31 129.445 1069.97 Q131.691 1067.44 132.57 1065.71 Q133.473 1063.95 133.473 1062.26 Q133.473 1059.5 131.529 1057.77 Q129.607 1056.03 126.505 1056.03 Q124.306 1056.03 121.853 1056.8 Q119.422 1057.56 116.644 1059.11 L116.644 1054.39 Q119.468 1053.25 121.922 1052.68 Q124.376 1052.1 126.413 1052.1 Q131.783 1052.1 134.978 1054.78 Q138.172 1057.47 138.172 1061.96 Q138.172 1064.09 137.362 1066.01 Q136.575 1067.91 134.468 1070.5 Q133.89 1071.17 130.788 1074.39 Q127.686 1077.58 122.038 1083.35 Z\" fill=\"#000000\" fill-rule=\"evenodd\" fill-opacity=\"1\" /><path clip-path=\"url(#clip970)\" d=\"M148.172 1081.4 L153.056 1081.4 L153.056 1087.28 L148.172 1087.28 L148.172 1081.4 Z\" fill=\"#000000\" fill-rule=\"evenodd\" fill-opacity=\"1\" /><path clip-path=\"url(#clip970)\" d=\"M163.288 1052.72 L181.644 1052.72 L181.644 1056.66 L167.57 1056.66 L167.57 1065.13 Q168.589 1064.78 169.607 1064.62 Q170.626 1064.43 171.644 1064.43 Q177.431 1064.43 180.811 1067.61 Q184.19 1070.78 184.19 1076.19 Q184.19 1081.77 180.718 1084.87 Q177.246 1087.95 170.927 1087.95 Q168.751 1087.95 166.482 1087.58 Q164.237 1087.21 161.829 1086.47 L161.829 1081.77 Q163.913 1082.91 166.135 1083.46 Q168.357 1084.02 170.834 1084.02 Q174.839 1084.02 177.176 1081.91 Q179.514 1079.8 179.514 1076.19 Q179.514 1072.58 177.176 1070.48 Q174.839 1068.37 170.834 1068.37 Q168.959 1068.37 167.084 1068.79 Q165.232 1069.2 163.288 1070.08 L163.288 1052.72 Z\" fill=\"#000000\" fill-rule=\"evenodd\" fill-opacity=\"1\" /><path clip-path=\"url(#clip970)\" d=\"M131.181 843.385 Q134.538 844.103 136.413 846.371 Q138.311 848.64 138.311 851.973 Q138.311 857.089 134.792 859.89 Q131.274 862.691 124.793 862.691 Q122.617 862.691 120.302 862.251 Q118.01 861.834 115.556 860.978 L115.556 856.464 Q117.501 857.598 119.816 858.177 Q122.13 858.755 124.654 858.755 Q129.052 858.755 131.343 857.019 Q133.658 855.283 133.658 851.973 Q133.658 848.917 131.505 847.204 Q129.376 845.468 125.556 845.468 L121.529 845.468 L121.529 841.626 L125.742 841.626 Q129.191 841.626 131.019 840.26 Q132.848 838.871 132.848 836.279 Q132.848 833.617 130.95 832.205 Q129.075 830.769 125.556 830.769 Q123.635 830.769 121.436 831.186 Q119.237 831.603 116.598 832.482 L116.598 828.316 Q119.26 827.575 121.575 827.205 Q123.913 826.834 125.973 826.834 Q131.297 826.834 134.399 829.265 Q137.501 831.672 137.501 835.793 Q137.501 838.663 135.857 840.654 Q134.214 842.621 131.181 843.385 Z\" fill=\"#000000\" fill-rule=\"evenodd\" fill-opacity=\"1\" /><path clip-path=\"url(#clip970)\" d=\"M147.177 856.14 L152.061 856.14 L152.061 862.019 L147.177 862.019 L147.177 856.14 Z\" fill=\"#000000\" fill-rule=\"evenodd\" fill-opacity=\"1\" /><path clip-path=\"url(#clip970)\" d=\"M172.246 830.538 Q168.635 830.538 166.806 834.103 Q165.001 837.644 165.001 844.774 Q165.001 851.88 166.806 855.445 Q168.635 858.987 172.246 858.987 Q175.88 858.987 177.686 855.445 Q179.514 851.88 179.514 844.774 Q179.514 837.644 177.686 834.103 Q175.88 830.538 172.246 830.538 M172.246 826.834 Q178.056 826.834 181.112 831.441 Q184.19 836.024 184.19 844.774 Q184.19 853.501 181.112 858.107 Q178.056 862.691 172.246 862.691 Q166.436 862.691 163.357 858.107 Q160.302 853.501 160.302 844.774 Q160.302 836.024 163.357 831.441 Q166.436 826.834 172.246 826.834 Z\" fill=\"#000000\" fill-rule=\"evenodd\" fill-opacity=\"1\" /><path clip-path=\"url(#clip970)\" d=\"M132.177 618.123 Q135.533 618.841 137.408 621.109 Q139.306 623.378 139.306 626.711 Q139.306 631.827 135.788 634.628 Q132.269 637.428 125.788 637.428 Q123.612 637.428 121.297 636.989 Q119.006 636.572 116.552 635.715 L116.552 631.202 Q118.496 632.336 120.811 632.915 Q123.126 633.493 125.649 633.493 Q130.047 633.493 132.339 631.757 Q134.654 630.021 134.654 626.711 Q134.654 623.655 132.501 621.942 Q130.371 620.206 126.552 620.206 L122.524 620.206 L122.524 616.364 L126.737 616.364 Q130.186 616.364 132.015 614.998 Q133.843 613.609 133.843 611.017 Q133.843 608.355 131.945 606.942 Q130.07 605.507 126.552 605.507 Q124.63 605.507 122.431 605.924 Q120.232 606.341 117.593 607.22 L117.593 603.054 Q120.255 602.313 122.57 601.943 Q124.908 601.572 126.968 601.572 Q132.292 601.572 135.394 604.003 Q138.496 606.41 138.496 610.53 Q138.496 613.401 136.853 615.392 Q135.209 617.359 132.177 618.123 Z\" fill=\"#000000\" fill-rule=\"evenodd\" fill-opacity=\"1\" /><path clip-path=\"url(#clip970)\" d=\"M148.172 630.878 L153.056 630.878 L153.056 636.757 L148.172 636.757 L148.172 630.878 Z\" fill=\"#000000\" fill-rule=\"evenodd\" fill-opacity=\"1\" /><path clip-path=\"url(#clip970)\" d=\"M163.288 602.197 L181.644 602.197 L181.644 606.132 L167.57 606.132 L167.57 614.604 Q168.589 614.257 169.607 614.095 Q170.626 613.91 171.644 613.91 Q177.431 613.91 180.811 617.081 Q184.19 620.253 184.19 625.669 Q184.19 631.248 180.718 634.35 Q177.246 637.428 170.927 637.428 Q168.751 637.428 166.482 637.058 Q164.237 636.688 161.829 635.947 L161.829 631.248 Q163.913 632.382 166.135 632.938 Q168.357 633.493 170.834 633.493 Q174.839 633.493 177.176 631.387 Q179.514 629.28 179.514 625.669 Q179.514 622.058 177.176 619.952 Q174.839 617.845 170.834 617.845 Q168.959 617.845 167.084 618.262 Q165.232 618.679 163.288 619.558 L163.288 602.197 Z\" fill=\"#000000\" fill-rule=\"evenodd\" fill-opacity=\"1\" /><path clip-path=\"url(#clip970)\" d=\"M129.862 381.009 L118.056 399.458 L129.862 399.458 L129.862 381.009 M128.635 376.935 L134.515 376.935 L134.515 399.458 L139.445 399.458 L139.445 403.347 L134.515 403.347 L134.515 411.495 L129.862 411.495 L129.862 403.347 L114.26 403.347 L114.26 398.833 L128.635 376.935 Z\" fill=\"#000000\" fill-rule=\"evenodd\" fill-opacity=\"1\" /><path clip-path=\"url(#clip970)\" d=\"M147.177 405.615 L152.061 405.615 L152.061 411.495 L147.177 411.495 L147.177 405.615 Z\" fill=\"#000000\" fill-rule=\"evenodd\" fill-opacity=\"1\" /><path clip-path=\"url(#clip970)\" d=\"M172.246 380.014 Q168.635 380.014 166.806 383.579 Q165.001 387.12 165.001 394.25 Q165.001 401.356 166.806 404.921 Q168.635 408.463 172.246 408.463 Q175.88 408.463 177.686 404.921 Q179.514 401.356 179.514 394.25 Q179.514 387.12 177.686 383.579 Q175.88 380.014 172.246 380.014 M172.246 376.31 Q178.056 376.31 181.112 380.916 Q184.19 385.5 184.19 394.25 Q184.19 402.977 181.112 407.583 Q178.056 412.166 172.246 412.166 Q166.436 412.166 163.357 407.583 Q160.302 402.977 160.302 394.25 Q160.302 385.5 163.357 380.916 Q166.436 376.31 172.246 376.31 Z\" fill=\"#000000\" fill-rule=\"evenodd\" fill-opacity=\"1\" /><path clip-path=\"url(#clip970)\" d=\"M130.857 155.747 L119.052 174.196 L130.857 174.196 L130.857 155.747 M129.63 151.673 L135.51 151.673 L135.51 174.196 L140.441 174.196 L140.441 178.085 L135.51 178.085 L135.51 186.233 L130.857 186.233 L130.857 178.085 L115.256 178.085 L115.256 173.571 L129.63 151.673 Z\" fill=\"#000000\" fill-rule=\"evenodd\" fill-opacity=\"1\" /><path clip-path=\"url(#clip970)\" d=\"M148.172 180.353 L153.056 180.353 L153.056 186.233 L148.172 186.233 L148.172 180.353 Z\" fill=\"#000000\" fill-rule=\"evenodd\" fill-opacity=\"1\" /><path clip-path=\"url(#clip970)\" d=\"M163.288 151.673 L181.644 151.673 L181.644 155.608 L167.57 155.608 L167.57 164.08 Q168.589 163.733 169.607 163.571 Q170.626 163.386 171.644 163.386 Q177.431 163.386 180.811 166.557 Q184.19 169.728 184.19 175.145 Q184.19 180.724 180.718 183.826 Q177.246 186.904 170.927 186.904 Q168.751 186.904 166.482 186.534 Q164.237 186.163 161.829 185.423 L161.829 180.724 Q163.913 181.858 166.135 182.413 Q168.357 182.969 170.834 182.969 Q174.839 182.969 177.176 180.863 Q179.514 178.756 179.514 175.145 Q179.514 171.534 177.176 169.427 Q174.839 167.321 170.834 167.321 Q168.959 167.321 167.084 167.738 Q165.232 168.154 163.288 169.034 L163.288 151.673 Z\" fill=\"#000000\" fill-rule=\"evenodd\" fill-opacity=\"1\" /><path clip-path=\"url(#clip970)\" d=\"M41.7242 895.58 Q42.4244 893.511 44.7161 891.57 Q47.0077 889.596 51.0181 887.623 L64.0042 881.098 L64.0042 888.005 L51.8138 894.084 Q47.0395 896.439 45.48 898.667 Q43.9204 900.864 43.9204 904.683 L43.9204 911.685 L64.0042 911.685 L64.0042 918.115 L16.4842 918.115 L16.4842 903.601 Q16.4842 895.453 19.8898 891.442 Q23.2955 887.432 30.1704 887.432 Q34.6582 887.432 37.6183 889.533 Q40.5784 891.601 41.7242 895.58 M21.7677 911.685 L38.6368 911.685 L38.6368 903.601 Q38.6368 898.954 36.5043 896.599 Q34.34 894.211 30.1704 894.211 Q26.0009 894.211 23.9002 896.599 Q21.7677 898.954 21.7677 903.601 L21.7677 911.685 Z\" fill=\"#000000\" fill-rule=\"evenodd\" fill-opacity=\"1\" /><path clip-path=\"url(#clip970)\" d=\"M49.9359 876.61 L28.3562 876.61 L28.3562 870.754 L49.7131 870.754 Q54.7739 870.754 57.3202 868.78 Q59.8346 866.807 59.8346 862.86 Q59.8346 858.118 56.8109 855.381 Q53.7872 852.612 48.5673 852.612 L28.3562 852.612 L28.3562 846.755 L64.0042 846.755 L64.0042 852.612 L58.5296 852.612 Q61.7762 854.744 63.3676 857.577 Q64.9272 860.378 64.9272 864.102 Q64.9272 870.245 61.1078 873.427 Q57.2883 876.61 49.9359 876.61 M27.4968 861.874 L27.4968 861.874 Z\" fill=\"#000000\" fill-rule=\"evenodd\" fill-opacity=\"1\" /><path clip-path=\"url(#clip970)\" d=\"M42.4881 805.06 L64.0042 805.06 L64.0042 810.916 L42.679 810.916 Q37.6183 810.916 35.1038 812.89 Q32.5894 814.863 32.5894 818.81 Q32.5894 823.552 35.6131 826.289 Q38.6368 829.027 43.8567 829.027 L64.0042 829.027 L64.0042 834.915 L28.3562 834.915 L28.3562 829.027 L33.8944 829.027 Q30.6797 826.926 29.0883 824.093 Q27.4968 821.229 27.4968 817.505 Q27.4968 811.362 31.3163 808.211 Q35.1038 805.06 42.4881 805.06 Z\" fill=\"#000000\" fill-rule=\"evenodd\" fill-opacity=\"1\" /><path clip-path=\"url(#clip970)\" d=\"M18.2347 787.586 L28.3562 787.586 L28.3562 775.523 L32.9077 775.523 L32.9077 787.586 L52.2594 787.586 Q56.6199 787.586 57.8613 786.408 Q59.1026 785.199 59.1026 781.538 L59.1026 775.523 L64.0042 775.523 L64.0042 781.538 Q64.0042 788.318 61.4897 790.896 Q58.9434 793.474 52.2594 793.474 L32.9077 793.474 L32.9077 797.771 L28.3562 797.771 L28.3562 793.474 L18.2347 793.474 L18.2347 787.586 Z\" fill=\"#000000\" fill-rule=\"evenodd\" fill-opacity=\"1\" /><path clip-path=\"url(#clip970)\" d=\"M28.3562 767.82 L28.3562 761.964 L64.0042 761.964 L64.0042 767.82 L28.3562 767.82 M14.479 767.82 L14.479 761.964 L21.895 761.964 L21.895 767.82 L14.479 767.82 Z\" fill=\"#000000\" fill-rule=\"evenodd\" fill-opacity=\"1\" /><path clip-path=\"url(#clip970)\" d=\"M35.1993 721.955 Q31.2526 719.759 29.3747 716.704 Q27.4968 713.648 27.4968 709.51 Q27.4968 703.94 31.4117 700.917 Q35.2948 697.893 42.4881 697.893 L64.0042 697.893 L64.0042 703.781 L42.679 703.781 Q37.5546 703.781 35.072 705.596 Q32.5894 707.41 32.5894 711.134 Q32.5894 715.685 35.6131 718.327 Q38.6368 720.969 43.8567 720.969 L64.0042 720.969 L64.0042 726.857 L42.679 726.857 Q37.5228 726.857 35.072 728.671 Q32.5894 730.485 32.5894 734.273 Q32.5894 738.761 35.6449 741.403 Q38.6686 744.044 43.8567 744.044 L64.0042 744.044 L64.0042 749.933 L28.3562 749.933 L28.3562 744.044 L33.8944 744.044 Q30.616 742.039 29.0564 739.238 Q27.4968 736.437 27.4968 732.586 Q27.4968 728.703 29.4702 725.998 Q31.4436 723.26 35.1993 721.955 Z\" fill=\"#000000\" fill-rule=\"evenodd\" fill-opacity=\"1\" /><path clip-path=\"url(#clip970)\" d=\"M44.7161 655.72 L47.5806 655.72 L47.5806 682.647 Q53.6281 682.265 56.8109 679.019 Q59.9619 675.74 59.9619 669.916 Q59.9619 666.542 59.1344 663.391 Q58.3069 660.208 56.6518 657.089 L62.1899 657.089 Q63.5267 660.24 64.227 663.55 Q64.9272 666.86 64.9272 670.266 Q64.9272 678.796 59.9619 683.793 Q54.9967 688.758 46.5303 688.758 Q37.7774 688.758 32.6531 684.048 Q27.4968 679.305 27.4968 671.284 Q27.4968 664.091 32.1438 659.922 Q36.7589 655.72 44.7161 655.72 M42.9973 661.577 Q38.1912 661.64 35.3266 664.282 Q32.4621 666.892 32.4621 671.221 Q32.4621 676.122 35.2312 679.082 Q38.0002 682.011 43.0292 682.456 L42.9973 661.577 Z\" fill=\"#000000\" fill-rule=\"evenodd\" fill-opacity=\"1\" /><path clip-path=\"url(#clip970)\" d=\"M14.5426 611.319 Q21.8632 615.584 29.0246 617.653 Q36.186 619.722 43.5384 619.722 Q50.8908 619.722 58.1159 617.653 Q65.3091 615.553 72.5979 611.319 L72.5979 616.412 Q65.1182 621.186 57.8931 623.573 Q50.668 625.929 43.5384 625.929 Q36.4406 625.929 29.2474 623.573 Q22.0542 621.218 14.5426 616.412 L14.5426 611.319 Z\" fill=\"#000000\" fill-rule=\"evenodd\" fill-opacity=\"1\" /><path clip-path=\"url(#clip970)\" d=\"M29.4065 577.231 L34.9447 577.231 Q33.6716 579.714 33.035 582.387 Q32.3984 585.061 32.3984 587.925 Q32.3984 592.286 33.7352 594.482 Q35.072 596.646 37.7456 596.646 Q39.7826 596.646 40.9603 595.087 Q42.1061 593.527 43.1565 588.817 L43.6021 586.811 Q44.9389 580.573 47.3897 577.963 Q49.8086 575.321 54.1691 575.321 Q59.1344 575.321 62.0308 579.268 Q64.9272 583.183 64.9272 590.058 Q64.9272 592.923 64.3543 596.042 Q63.8132 599.129 62.6992 602.567 L56.6518 602.567 Q58.3387 599.32 59.198 596.169 Q60.0256 593.018 60.0256 589.931 Q60.0256 585.793 58.6251 583.565 Q57.1929 581.337 54.6147 581.337 Q52.2276 581.337 50.9545 582.96 Q49.6813 584.552 48.5037 589.994 L48.0262 592.031 Q46.8804 597.474 44.5251 599.893 Q42.138 602.312 38.0002 602.312 Q32.9713 602.312 30.2341 598.747 Q27.4968 595.182 27.4968 588.626 Q27.4968 585.379 27.9743 582.515 Q28.4517 579.65 29.4065 577.231 Z\" fill=\"#000000\" fill-rule=\"evenodd\" fill-opacity=\"1\" /><path clip-path=\"url(#clip970)\" d=\"M14.5426 566.919 L14.5426 561.826 Q22.0542 557.052 29.2474 554.696 Q36.4406 552.309 43.5384 552.309 Q50.668 552.309 57.8931 554.696 Q65.1182 557.052 72.5979 561.826 L72.5979 566.919 Q65.3091 562.685 58.1159 560.617 Q50.8908 558.516 43.5384 558.516 Q36.186 558.516 29.0246 560.617 Q21.8632 562.685 14.5426 566.919 Z\" fill=\"#000000\" fill-rule=\"evenodd\" fill-opacity=\"1\" /><polyline clip-path=\"url(#clip972)\" style=\"stroke:#009af9; stroke-linecap:butt; stroke-linejoin:round; stroke-width:4; stroke-opacity:1; fill:none\" points=\"\n",
       "  280.546,1384.24 386.433,1375.36 598.207,1202.72 1233.53,817.387 2292.4,86.1857 \n",
       "  \"/>\n",
       "</svg>\n"
      ]
     },
     "execution_count": 74,
     "metadata": {},
     "output_type": "execute_result"
    }
   ],
   "source": [
    "plot(nperms_list, runtimes_nperms; xlabel = \"Number of permutations distributed\", ylabel = \"Runtime (s)\", legend = false)"
   ]
  },
  {
   "cell_type": "code",
   "execution_count": 52,
   "id": "a536f623-2a77-472a-8b4f-ab85beaaac6c",
   "metadata": {},
   "outputs": [
    {
     "data": {
      "image/svg+xml": [
       "<?xml version=\"1.0\" encoding=\"utf-8\"?>\n",
       "<svg xmlns=\"http://www.w3.org/2000/svg\" xmlns:xlink=\"http://www.w3.org/1999/xlink\" width=\"600\" height=\"400\" viewBox=\"0 0 2400 1600\">\n",
       "<defs>\n",
       "  <clipPath id=\"clip890\">\n",
       "    <rect x=\"0\" y=\"0\" width=\"2400\" height=\"1600\"/>\n",
       "  </clipPath>\n",
       "</defs>\n",
       "<path clip-path=\"url(#clip890)\" d=\"\n",
       "M0 1600 L2400 1600 L2400 0 L0 0  Z\n",
       "  \" fill=\"#ffffff\" fill-rule=\"evenodd\" fill-opacity=\"1\"/>\n",
       "<defs>\n",
       "  <clipPath id=\"clip891\">\n",
       "    <rect x=\"480\" y=\"0\" width=\"1681\" height=\"1600\"/>\n",
       "  </clipPath>\n",
       "</defs>\n",
       "<path clip-path=\"url(#clip890)\" d=\"\n",
       "M219.519 1423.18 L2352.76 1423.18 L2352.76 47.2441 L219.519 47.2441  Z\n",
       "  \" fill=\"#ffffff\" fill-rule=\"evenodd\" fill-opacity=\"1\"/>\n",
       "<defs>\n",
       "  <clipPath id=\"clip892\">\n",
       "    <rect x=\"219\" y=\"47\" width=\"2134\" height=\"1377\"/>\n",
       "  </clipPath>\n",
       "</defs>\n",
       "<polyline clip-path=\"url(#clip892)\" style=\"stroke:#000000; stroke-linecap:butt; stroke-linejoin:round; stroke-width:2; stroke-opacity:0.1; fill:none\" points=\"\n",
       "  503.503,1423.18 503.503,47.2441 \n",
       "  \"/>\n",
       "<polyline clip-path=\"url(#clip892)\" style=\"stroke:#000000; stroke-linecap:butt; stroke-linejoin:round; stroke-width:2; stroke-opacity:0.1; fill:none\" points=\"\n",
       "  950.723,1423.18 950.723,47.2441 \n",
       "  \"/>\n",
       "<polyline clip-path=\"url(#clip892)\" style=\"stroke:#000000; stroke-linecap:butt; stroke-linejoin:round; stroke-width:2; stroke-opacity:0.1; fill:none\" points=\"\n",
       "  1397.94,1423.18 1397.94,47.2441 \n",
       "  \"/>\n",
       "<polyline clip-path=\"url(#clip892)\" style=\"stroke:#000000; stroke-linecap:butt; stroke-linejoin:round; stroke-width:2; stroke-opacity:0.1; fill:none\" points=\"\n",
       "  1845.16,1423.18 1845.16,47.2441 \n",
       "  \"/>\n",
       "<polyline clip-path=\"url(#clip892)\" style=\"stroke:#000000; stroke-linecap:butt; stroke-linejoin:round; stroke-width:2; stroke-opacity:0.1; fill:none\" points=\"\n",
       "  2292.38,1423.18 2292.38,47.2441 \n",
       "  \"/>\n",
       "<polyline clip-path=\"url(#clip890)\" style=\"stroke:#000000; stroke-linecap:butt; stroke-linejoin:round; stroke-width:4; stroke-opacity:1; fill:none\" points=\"\n",
       "  219.519,1423.18 2352.76,1423.18 \n",
       "  \"/>\n",
       "<polyline clip-path=\"url(#clip890)\" style=\"stroke:#000000; stroke-linecap:butt; stroke-linejoin:round; stroke-width:4; stroke-opacity:1; fill:none\" points=\"\n",
       "  503.503,1423.18 503.503,1404.28 \n",
       "  \"/>\n",
       "<polyline clip-path=\"url(#clip890)\" style=\"stroke:#000000; stroke-linecap:butt; stroke-linejoin:round; stroke-width:4; stroke-opacity:1; fill:none\" points=\"\n",
       "  950.723,1423.18 950.723,1404.28 \n",
       "  \"/>\n",
       "<polyline clip-path=\"url(#clip890)\" style=\"stroke:#000000; stroke-linecap:butt; stroke-linejoin:round; stroke-width:4; stroke-opacity:1; fill:none\" points=\"\n",
       "  1397.94,1423.18 1397.94,1404.28 \n",
       "  \"/>\n",
       "<polyline clip-path=\"url(#clip890)\" style=\"stroke:#000000; stroke-linecap:butt; stroke-linejoin:round; stroke-width:4; stroke-opacity:1; fill:none\" points=\"\n",
       "  1845.16,1423.18 1845.16,1404.28 \n",
       "  \"/>\n",
       "<polyline clip-path=\"url(#clip890)\" style=\"stroke:#000000; stroke-linecap:butt; stroke-linejoin:round; stroke-width:4; stroke-opacity:1; fill:none\" points=\"\n",
       "  2292.38,1423.18 2292.38,1404.28 \n",
       "  \"/>\n",
       "<path clip-path=\"url(#clip890)\" d=\"M467.196 1481.64 L483.515 1481.64 L483.515 1485.58 L461.571 1485.58 L461.571 1481.64 Q464.233 1478.89 468.816 1474.26 Q473.423 1469.61 474.603 1468.27 Q476.848 1465.74 477.728 1464.01 Q478.631 1462.25 478.631 1460.56 Q478.631 1457.8 476.686 1456.07 Q474.765 1454.33 471.663 1454.33 Q469.464 1454.33 467.011 1455.09 Q464.58 1455.86 461.802 1457.41 L461.802 1452.69 Q464.626 1451.55 467.08 1450.97 Q469.534 1450.39 471.571 1450.39 Q476.941 1450.39 480.135 1453.08 Q483.33 1455.77 483.33 1460.26 Q483.33 1462.39 482.52 1464.31 Q481.733 1466.2 479.626 1468.8 Q479.048 1469.47 475.946 1472.69 Q472.844 1475.88 467.196 1481.64 Z\" fill=\"#000000\" fill-rule=\"evenodd\" fill-opacity=\"1\" /><path clip-path=\"url(#clip890)\" d=\"M503.33 1454.1 Q499.719 1454.1 497.89 1457.66 Q496.084 1461.2 496.084 1468.33 Q496.084 1475.44 497.89 1479.01 Q499.719 1482.55 503.33 1482.55 Q506.964 1482.55 508.77 1479.01 Q510.598 1475.44 510.598 1468.33 Q510.598 1461.2 508.77 1457.66 Q506.964 1454.1 503.33 1454.1 M503.33 1450.39 Q509.14 1450.39 512.195 1455 Q515.274 1459.58 515.274 1468.33 Q515.274 1477.06 512.195 1481.67 Q509.14 1486.25 503.33 1486.25 Q497.52 1486.25 494.441 1481.67 Q491.385 1477.06 491.385 1468.33 Q491.385 1459.58 494.441 1455 Q497.52 1450.39 503.33 1450.39 Z\" fill=\"#000000\" fill-rule=\"evenodd\" fill-opacity=\"1\" /><path clip-path=\"url(#clip890)\" d=\"M533.492 1454.1 Q529.881 1454.1 528.052 1457.66 Q526.246 1461.2 526.246 1468.33 Q526.246 1475.44 528.052 1479.01 Q529.881 1482.55 533.492 1482.55 Q537.126 1482.55 538.931 1479.01 Q540.76 1475.44 540.76 1468.33 Q540.76 1461.2 538.931 1457.66 Q537.126 1454.1 533.492 1454.1 M533.492 1450.39 Q539.302 1450.39 542.357 1455 Q545.436 1459.58 545.436 1468.33 Q545.436 1477.06 542.357 1481.67 Q539.302 1486.25 533.492 1486.25 Q527.682 1486.25 524.603 1481.67 Q521.547 1477.06 521.547 1468.33 Q521.547 1459.58 524.603 1455 Q527.682 1450.39 533.492 1450.39 Z\" fill=\"#000000\" fill-rule=\"evenodd\" fill-opacity=\"1\" /><path clip-path=\"url(#clip890)\" d=\"M923.813 1455.09 L912.008 1473.54 L923.813 1473.54 L923.813 1455.09 M922.586 1451.02 L928.466 1451.02 L928.466 1473.54 L933.397 1473.54 L933.397 1477.43 L928.466 1477.43 L928.466 1485.58 L923.813 1485.58 L923.813 1477.43 L908.212 1477.43 L908.212 1472.92 L922.586 1451.02 Z\" fill=\"#000000\" fill-rule=\"evenodd\" fill-opacity=\"1\" /><path clip-path=\"url(#clip890)\" d=\"M951.128 1454.1 Q947.517 1454.1 945.688 1457.66 Q943.883 1461.2 943.883 1468.33 Q943.883 1475.44 945.688 1479.01 Q947.517 1482.55 951.128 1482.55 Q954.762 1482.55 956.568 1479.01 Q958.396 1475.44 958.396 1468.33 Q958.396 1461.2 956.568 1457.66 Q954.762 1454.1 951.128 1454.1 M951.128 1450.39 Q956.938 1450.39 959.994 1455 Q963.072 1459.58 963.072 1468.33 Q963.072 1477.06 959.994 1481.67 Q956.938 1486.25 951.128 1486.25 Q945.318 1486.25 942.239 1481.67 Q939.184 1477.06 939.184 1468.33 Q939.184 1459.58 942.239 1455 Q945.318 1450.39 951.128 1450.39 Z\" fill=\"#000000\" fill-rule=\"evenodd\" fill-opacity=\"1\" /><path clip-path=\"url(#clip890)\" d=\"M981.29 1454.1 Q977.679 1454.1 975.85 1457.66 Q974.045 1461.2 974.045 1468.33 Q974.045 1475.44 975.85 1479.01 Q977.679 1482.55 981.29 1482.55 Q984.924 1482.55 986.73 1479.01 Q988.558 1475.44 988.558 1468.33 Q988.558 1461.2 986.73 1457.66 Q984.924 1454.1 981.29 1454.1 M981.29 1450.39 Q987.1 1450.39 990.156 1455 Q993.234 1459.58 993.234 1468.33 Q993.234 1477.06 990.156 1481.67 Q987.1 1486.25 981.29 1486.25 Q975.48 1486.25 972.401 1481.67 Q969.345 1477.06 969.345 1468.33 Q969.345 1459.58 972.401 1455 Q975.48 1450.39 981.29 1450.39 Z\" fill=\"#000000\" fill-rule=\"evenodd\" fill-opacity=\"1\" /><path clip-path=\"url(#clip890)\" d=\"M1368.27 1466.44 Q1365.12 1466.44 1363.27 1468.59 Q1361.44 1470.74 1361.44 1474.49 Q1361.44 1478.22 1363.27 1480.39 Q1365.12 1482.55 1368.27 1482.55 Q1371.41 1482.55 1373.24 1480.39 Q1375.1 1478.22 1375.1 1474.49 Q1375.1 1470.74 1373.24 1468.59 Q1371.41 1466.44 1368.27 1466.44 M1377.55 1451.78 L1377.55 1456.04 Q1375.79 1455.21 1373.98 1454.77 Q1372.2 1454.33 1370.44 1454.33 Q1365.81 1454.33 1363.36 1457.45 Q1360.93 1460.58 1360.58 1466.9 Q1361.95 1464.89 1364.01 1463.82 Q1366.07 1462.73 1368.54 1462.73 Q1373.75 1462.73 1376.76 1465.9 Q1379.79 1469.05 1379.79 1474.49 Q1379.79 1479.82 1376.65 1483.03 Q1373.5 1486.25 1368.27 1486.25 Q1362.27 1486.25 1359.1 1481.67 Q1355.93 1477.06 1355.93 1468.33 Q1355.93 1460.14 1359.82 1455.28 Q1363.71 1450.39 1370.26 1450.39 Q1372.02 1450.39 1373.8 1450.74 Q1375.6 1451.09 1377.55 1451.78 Z\" fill=\"#000000\" fill-rule=\"evenodd\" fill-opacity=\"1\" /><path clip-path=\"url(#clip890)\" d=\"M1397.85 1454.1 Q1394.24 1454.1 1392.41 1457.66 Q1390.6 1461.2 1390.6 1468.33 Q1390.6 1475.44 1392.41 1479.01 Q1394.24 1482.55 1397.85 1482.55 Q1401.48 1482.55 1403.29 1479.01 Q1405.12 1475.44 1405.12 1468.33 Q1405.12 1461.2 1403.29 1457.66 Q1401.48 1454.1 1397.85 1454.1 M1397.85 1450.39 Q1403.66 1450.39 1406.72 1455 Q1409.79 1459.58 1409.79 1468.33 Q1409.79 1477.06 1406.72 1481.67 Q1403.66 1486.25 1397.85 1486.25 Q1392.04 1486.25 1388.96 1481.67 Q1385.91 1477.06 1385.91 1468.33 Q1385.91 1459.58 1388.96 1455 Q1392.04 1450.39 1397.85 1450.39 Z\" fill=\"#000000\" fill-rule=\"evenodd\" fill-opacity=\"1\" /><path clip-path=\"url(#clip890)\" d=\"M1428.01 1454.1 Q1424.4 1454.1 1422.57 1457.66 Q1420.77 1461.2 1420.77 1468.33 Q1420.77 1475.44 1422.57 1479.01 Q1424.4 1482.55 1428.01 1482.55 Q1431.65 1482.55 1433.45 1479.01 Q1435.28 1475.44 1435.28 1468.33 Q1435.28 1461.2 1433.45 1457.66 Q1431.65 1454.1 1428.01 1454.1 M1428.01 1450.39 Q1433.82 1450.39 1436.88 1455 Q1439.96 1459.58 1439.96 1468.33 Q1439.96 1477.06 1436.88 1481.67 Q1433.82 1486.25 1428.01 1486.25 Q1422.2 1486.25 1419.12 1481.67 Q1416.07 1477.06 1416.07 1468.33 Q1416.07 1459.58 1419.12 1455 Q1422.2 1450.39 1428.01 1450.39 Z\" fill=\"#000000\" fill-rule=\"evenodd\" fill-opacity=\"1\" /><path clip-path=\"url(#clip890)\" d=\"M1814.95 1469.17 Q1811.62 1469.17 1809.7 1470.95 Q1807.8 1472.73 1807.8 1475.86 Q1807.8 1478.98 1809.7 1480.77 Q1811.62 1482.55 1814.95 1482.55 Q1818.29 1482.55 1820.21 1480.77 Q1822.13 1478.96 1822.13 1475.86 Q1822.13 1472.73 1820.21 1470.95 Q1818.31 1469.17 1814.95 1469.17 M1810.28 1467.18 Q1807.27 1466.44 1805.58 1464.38 Q1803.91 1462.32 1803.91 1459.35 Q1803.91 1455.21 1806.85 1452.8 Q1809.81 1450.39 1814.95 1450.39 Q1820.12 1450.39 1823.06 1452.8 Q1826 1455.21 1826 1459.35 Q1826 1462.32 1824.31 1464.38 Q1822.64 1466.44 1819.65 1467.18 Q1823.03 1467.96 1824.91 1470.26 Q1826.81 1472.55 1826.81 1475.86 Q1826.81 1480.88 1823.73 1483.57 Q1820.67 1486.25 1814.95 1486.25 Q1809.24 1486.25 1806.16 1483.57 Q1803.1 1480.88 1803.1 1475.86 Q1803.1 1472.55 1805 1470.26 Q1806.9 1467.96 1810.28 1467.18 M1808.56 1459.79 Q1808.56 1462.48 1810.23 1463.98 Q1811.92 1465.49 1814.95 1465.49 Q1817.96 1465.49 1819.65 1463.98 Q1821.37 1462.48 1821.37 1459.79 Q1821.37 1457.11 1819.65 1455.6 Q1817.96 1454.1 1814.95 1454.1 Q1811.92 1454.1 1810.23 1455.6 Q1808.56 1457.11 1808.56 1459.79 Z\" fill=\"#000000\" fill-rule=\"evenodd\" fill-opacity=\"1\" /><path clip-path=\"url(#clip890)\" d=\"M1845.12 1454.1 Q1841.5 1454.1 1839.68 1457.66 Q1837.87 1461.2 1837.87 1468.33 Q1837.87 1475.44 1839.68 1479.01 Q1841.5 1482.55 1845.12 1482.55 Q1848.75 1482.55 1850.56 1479.01 Q1852.38 1475.44 1852.38 1468.33 Q1852.38 1461.2 1850.56 1457.66 Q1848.75 1454.1 1845.12 1454.1 M1845.12 1450.39 Q1850.93 1450.39 1853.98 1455 Q1857.06 1459.58 1857.06 1468.33 Q1857.06 1477.06 1853.98 1481.67 Q1850.93 1486.25 1845.12 1486.25 Q1839.31 1486.25 1836.23 1481.67 Q1833.17 1477.06 1833.17 1468.33 Q1833.17 1459.58 1836.23 1455 Q1839.31 1450.39 1845.12 1450.39 Z\" fill=\"#000000\" fill-rule=\"evenodd\" fill-opacity=\"1\" /><path clip-path=\"url(#clip890)\" d=\"M1875.28 1454.1 Q1871.67 1454.1 1869.84 1457.66 Q1868.03 1461.2 1868.03 1468.33 Q1868.03 1475.44 1869.84 1479.01 Q1871.67 1482.55 1875.28 1482.55 Q1878.91 1482.55 1880.72 1479.01 Q1882.55 1475.44 1882.55 1468.33 Q1882.55 1461.2 1880.72 1457.66 Q1878.91 1454.1 1875.28 1454.1 M1875.28 1450.39 Q1881.09 1450.39 1884.14 1455 Q1887.22 1459.58 1887.22 1468.33 Q1887.22 1477.06 1884.14 1481.67 Q1881.09 1486.25 1875.28 1486.25 Q1869.47 1486.25 1866.39 1481.67 Q1863.33 1477.06 1863.33 1468.33 Q1863.33 1459.58 1866.39 1455 Q1869.47 1450.39 1875.28 1450.39 Z\" fill=\"#000000\" fill-rule=\"evenodd\" fill-opacity=\"1\" /><path clip-path=\"url(#clip890)\" d=\"M2236.91 1481.64 L2244.55 1481.64 L2244.55 1455.28 L2236.24 1456.95 L2236.24 1452.69 L2244.5 1451.02 L2249.18 1451.02 L2249.18 1481.64 L2256.81 1481.64 L2256.81 1485.58 L2236.91 1485.58 L2236.91 1481.64 Z\" fill=\"#000000\" fill-rule=\"evenodd\" fill-opacity=\"1\" /><path clip-path=\"url(#clip890)\" d=\"M2276.26 1454.1 Q2272.65 1454.1 2270.82 1457.66 Q2269.01 1461.2 2269.01 1468.33 Q2269.01 1475.44 2270.82 1479.01 Q2272.65 1482.55 2276.26 1482.55 Q2279.89 1482.55 2281.7 1479.01 Q2283.53 1475.44 2283.53 1468.33 Q2283.53 1461.2 2281.7 1457.66 Q2279.89 1454.1 2276.26 1454.1 M2276.26 1450.39 Q2282.07 1450.39 2285.12 1455 Q2288.2 1459.58 2288.2 1468.33 Q2288.2 1477.06 2285.12 1481.67 Q2282.07 1486.25 2276.26 1486.25 Q2270.45 1486.25 2267.37 1481.67 Q2264.31 1477.06 2264.31 1468.33 Q2264.31 1459.58 2267.37 1455 Q2270.45 1450.39 2276.26 1450.39 Z\" fill=\"#000000\" fill-rule=\"evenodd\" fill-opacity=\"1\" /><path clip-path=\"url(#clip890)\" d=\"M2306.42 1454.1 Q2302.81 1454.1 2300.98 1457.66 Q2299.18 1461.2 2299.18 1468.33 Q2299.18 1475.44 2300.98 1479.01 Q2302.81 1482.55 2306.42 1482.55 Q2310.05 1482.55 2311.86 1479.01 Q2313.69 1475.44 2313.69 1468.33 Q2313.69 1461.2 2311.86 1457.66 Q2310.05 1454.1 2306.42 1454.1 M2306.42 1450.39 Q2312.23 1450.39 2315.29 1455 Q2318.36 1459.58 2318.36 1468.33 Q2318.36 1477.06 2315.29 1481.67 Q2312.23 1486.25 2306.42 1486.25 Q2300.61 1486.25 2297.53 1481.67 Q2294.48 1477.06 2294.48 1468.33 Q2294.48 1459.58 2297.53 1455 Q2300.61 1450.39 2306.42 1450.39 Z\" fill=\"#000000\" fill-rule=\"evenodd\" fill-opacity=\"1\" /><path clip-path=\"url(#clip890)\" d=\"M2336.58 1454.1 Q2332.97 1454.1 2331.14 1457.66 Q2329.34 1461.2 2329.34 1468.33 Q2329.34 1475.44 2331.14 1479.01 Q2332.97 1482.55 2336.58 1482.55 Q2340.22 1482.55 2342.02 1479.01 Q2343.85 1475.44 2343.85 1468.33 Q2343.85 1461.2 2342.02 1457.66 Q2340.22 1454.1 2336.58 1454.1 M2336.58 1450.39 Q2342.39 1450.39 2345.45 1455 Q2348.53 1459.58 2348.53 1468.33 Q2348.53 1477.06 2345.45 1481.67 Q2342.39 1486.25 2336.58 1486.25 Q2330.77 1486.25 2327.69 1481.67 Q2324.64 1477.06 2324.64 1468.33 Q2324.64 1459.58 2327.69 1455 Q2330.77 1450.39 2336.58 1450.39 Z\" fill=\"#000000\" fill-rule=\"evenodd\" fill-opacity=\"1\" /><path clip-path=\"url(#clip890)\" d=\"M1135.8 1545.35 L1135.8 1562.76 L1146.11 1562.76 Q1151.3 1562.76 1153.78 1560.63 Q1156.29 1558.46 1156.29 1554.04 Q1156.29 1549.58 1153.78 1547.48 Q1151.3 1545.35 1146.11 1545.35 L1135.8 1545.35 M1135.8 1525.81 L1135.8 1540.13 L1145.31 1540.13 Q1150.02 1540.13 1152.31 1538.38 Q1154.64 1536.6 1154.64 1532.97 Q1154.64 1529.37 1152.31 1527.59 Q1150.02 1525.81 1145.31 1525.81 L1135.8 1525.81 M1129.37 1520.52 L1145.79 1520.52 Q1153.14 1520.52 1157.12 1523.58 Q1161.1 1526.63 1161.1 1532.27 Q1161.1 1536.63 1159.06 1539.21 Q1157.03 1541.79 1153.08 1542.42 Q1157.82 1543.44 1160.43 1546.69 Q1163.07 1549.9 1163.07 1554.74 Q1163.07 1561.11 1158.74 1564.57 Q1154.42 1568.04 1146.43 1568.04 L1129.37 1568.04 L1129.37 1520.52 Z\" fill=\"#000000\" fill-rule=\"evenodd\" fill-opacity=\"1\" /><path clip-path=\"url(#clip890)\" d=\"M1173.83 1518.52 L1179.69 1518.52 L1179.69 1568.04 L1173.83 1568.04 L1173.83 1518.52 Z\" fill=\"#000000\" fill-rule=\"evenodd\" fill-opacity=\"1\" /><path clip-path=\"url(#clip890)\" d=\"M1205.75 1536.5 Q1201.04 1536.5 1198.31 1540.19 Q1195.57 1543.85 1195.57 1550.25 Q1195.57 1556.65 1198.27 1560.34 Q1201.01 1564 1205.75 1564 Q1210.43 1564 1213.17 1560.31 Q1215.91 1556.62 1215.91 1550.25 Q1215.91 1543.92 1213.17 1540.23 Q1210.43 1536.5 1205.75 1536.5 M1205.75 1531.54 Q1213.39 1531.54 1217.75 1536.5 Q1222.11 1541.47 1222.11 1550.25 Q1222.11 1559 1217.75 1564 Q1213.39 1568.97 1205.75 1568.97 Q1198.08 1568.97 1193.72 1564 Q1189.39 1559 1189.39 1550.25 Q1189.39 1541.47 1193.72 1536.5 Q1198.08 1531.54 1205.75 1531.54 Z\" fill=\"#000000\" fill-rule=\"evenodd\" fill-opacity=\"1\" /><path clip-path=\"url(#clip890)\" d=\"M1257.48 1533.76 L1257.48 1539.24 Q1254.99 1537.87 1252.48 1537.2 Q1250 1536.5 1247.45 1536.5 Q1241.75 1536.5 1238.6 1540.13 Q1235.45 1543.73 1235.45 1550.25 Q1235.45 1556.78 1238.6 1560.4 Q1241.75 1564 1247.45 1564 Q1250 1564 1252.48 1563.33 Q1254.99 1562.63 1257.48 1561.26 L1257.48 1566.68 Q1255.03 1567.82 1252.38 1568.39 Q1249.77 1568.97 1246.81 1568.97 Q1238.76 1568.97 1234.02 1563.91 Q1229.28 1558.85 1229.28 1550.25 Q1229.28 1541.53 1234.05 1536.53 Q1238.86 1531.54 1247.2 1531.54 Q1249.9 1531.54 1252.48 1532.11 Q1255.06 1532.65 1257.48 1533.76 Z\" fill=\"#000000\" fill-rule=\"evenodd\" fill-opacity=\"1\" /><path clip-path=\"url(#clip890)\" d=\"M1267.44 1518.52 L1273.33 1518.52 L1273.33 1547.77 L1290.8 1532.4 L1298.28 1532.4 L1279.37 1549.07 L1299.08 1568.04 L1291.44 1568.04 L1273.33 1550.63 L1273.33 1568.04 L1267.44 1568.04 L1267.44 1518.52 Z\" fill=\"#000000\" fill-rule=\"evenodd\" fill-opacity=\"1\" /><path clip-path=\"url(#clip890)\" d=\"M1348.86 1533.45 L1348.86 1538.98 Q1346.37 1537.71 1343.7 1537.07 Q1341.03 1536.44 1338.16 1536.44 Q1333.8 1536.44 1331.6 1537.77 Q1329.44 1539.11 1329.44 1541.79 Q1329.44 1543.82 1331 1545 Q1332.56 1546.15 1337.27 1547.2 L1339.28 1547.64 Q1345.51 1548.98 1348.12 1551.43 Q1350.77 1553.85 1350.77 1558.21 Q1350.77 1563.17 1346.82 1566.07 Q1342.9 1568.97 1336.03 1568.97 Q1333.16 1568.97 1330.04 1568.39 Q1326.96 1567.85 1323.52 1566.74 L1323.52 1560.69 Q1326.77 1562.38 1329.92 1563.24 Q1333.07 1564.07 1336.16 1564.07 Q1340.29 1564.07 1342.52 1562.66 Q1344.75 1561.23 1344.75 1558.65 Q1344.75 1556.27 1343.13 1554.99 Q1341.54 1553.72 1336.09 1552.54 L1334.06 1552.07 Q1328.61 1550.92 1326.19 1548.56 Q1323.77 1546.18 1323.77 1542.04 Q1323.77 1537.01 1327.34 1534.27 Q1330.9 1531.54 1337.46 1531.54 Q1340.71 1531.54 1343.57 1532.01 Q1346.44 1532.49 1348.86 1533.45 Z\" fill=\"#000000\" fill-rule=\"evenodd\" fill-opacity=\"1\" /><path clip-path=\"url(#clip890)\" d=\"M1360.09 1532.4 L1365.95 1532.4 L1365.95 1568.04 L1360.09 1568.04 L1360.09 1532.4 M1360.09 1518.52 L1365.95 1518.52 L1365.95 1525.93 L1360.09 1525.93 L1360.09 1518.52 Z\" fill=\"#000000\" fill-rule=\"evenodd\" fill-opacity=\"1\" /><path clip-path=\"url(#clip890)\" d=\"M1375.66 1532.4 L1403.47 1532.4 L1403.47 1537.74 L1381.45 1563.37 L1403.47 1563.37 L1403.47 1568.04 L1374.86 1568.04 L1374.86 1562.7 L1396.88 1537.07 L1375.66 1537.07 L1375.66 1532.4 Z\" fill=\"#000000\" fill-rule=\"evenodd\" fill-opacity=\"1\" /><path clip-path=\"url(#clip890)\" d=\"M1442.91 1548.76 L1442.91 1551.62 L1415.98 1551.62 Q1416.36 1557.67 1419.61 1560.85 Q1422.89 1564 1428.71 1564 Q1432.09 1564 1435.24 1563.17 Q1438.42 1562.35 1441.54 1560.69 L1441.54 1566.23 Q1438.39 1567.57 1435.08 1568.27 Q1431.77 1568.97 1428.36 1568.97 Q1419.83 1568.97 1414.84 1564 Q1409.87 1559.04 1409.87 1550.57 Q1409.87 1541.82 1414.58 1536.69 Q1419.32 1531.54 1427.34 1531.54 Q1434.54 1531.54 1438.71 1536.18 Q1442.91 1540.8 1442.91 1548.76 M1437.05 1547.04 Q1436.99 1542.23 1434.35 1539.37 Q1431.74 1536.5 1427.41 1536.5 Q1422.51 1536.5 1419.55 1539.27 Q1416.62 1542.04 1416.17 1547.07 L1437.05 1547.04 Z\" fill=\"#000000\" fill-rule=\"evenodd\" fill-opacity=\"1\" /><polyline clip-path=\"url(#clip892)\" style=\"stroke:#000000; stroke-linecap:butt; stroke-linejoin:round; stroke-width:2; stroke-opacity:0.1; fill:none\" points=\"\n",
       "  219.519,1215.74 2352.76,1215.74 \n",
       "  \"/>\n",
       "<polyline clip-path=\"url(#clip892)\" style=\"stroke:#000000; stroke-linecap:butt; stroke-linejoin:round; stroke-width:2; stroke-opacity:0.1; fill:none\" points=\"\n",
       "  219.519,948.592 2352.76,948.592 \n",
       "  \"/>\n",
       "<polyline clip-path=\"url(#clip892)\" style=\"stroke:#000000; stroke-linecap:butt; stroke-linejoin:round; stroke-width:2; stroke-opacity:0.1; fill:none\" points=\"\n",
       "  219.519,681.445 2352.76,681.445 \n",
       "  \"/>\n",
       "<polyline clip-path=\"url(#clip892)\" style=\"stroke:#000000; stroke-linecap:butt; stroke-linejoin:round; stroke-width:2; stroke-opacity:0.1; fill:none\" points=\"\n",
       "  219.519,414.297 2352.76,414.297 \n",
       "  \"/>\n",
       "<polyline clip-path=\"url(#clip892)\" style=\"stroke:#000000; stroke-linecap:butt; stroke-linejoin:round; stroke-width:2; stroke-opacity:0.1; fill:none\" points=\"\n",
       "  219.519,147.149 2352.76,147.149 \n",
       "  \"/>\n",
       "<polyline clip-path=\"url(#clip890)\" style=\"stroke:#000000; stroke-linecap:butt; stroke-linejoin:round; stroke-width:4; stroke-opacity:1; fill:none\" points=\"\n",
       "  219.519,1423.18 219.519,47.2441 \n",
       "  \"/>\n",
       "<polyline clip-path=\"url(#clip890)\" style=\"stroke:#000000; stroke-linecap:butt; stroke-linejoin:round; stroke-width:4; stroke-opacity:1; fill:none\" points=\"\n",
       "  219.519,1215.74 238.417,1215.74 \n",
       "  \"/>\n",
       "<polyline clip-path=\"url(#clip890)\" style=\"stroke:#000000; stroke-linecap:butt; stroke-linejoin:round; stroke-width:4; stroke-opacity:1; fill:none\" points=\"\n",
       "  219.519,948.592 238.417,948.592 \n",
       "  \"/>\n",
       "<polyline clip-path=\"url(#clip890)\" style=\"stroke:#000000; stroke-linecap:butt; stroke-linejoin:round; stroke-width:4; stroke-opacity:1; fill:none\" points=\"\n",
       "  219.519,681.445 238.417,681.445 \n",
       "  \"/>\n",
       "<polyline clip-path=\"url(#clip890)\" style=\"stroke:#000000; stroke-linecap:butt; stroke-linejoin:round; stroke-width:4; stroke-opacity:1; fill:none\" points=\"\n",
       "  219.519,414.297 238.417,414.297 \n",
       "  \"/>\n",
       "<polyline clip-path=\"url(#clip890)\" style=\"stroke:#000000; stroke-linecap:butt; stroke-linejoin:round; stroke-width:4; stroke-opacity:1; fill:none\" points=\"\n",
       "  219.519,147.149 238.417,147.149 \n",
       "  \"/>\n",
       "<path clip-path=\"url(#clip890)\" d=\"M121.968 1229.08 L138.288 1229.08 L138.288 1233.02 L116.343 1233.02 L116.343 1229.08 Q119.006 1226.33 123.589 1221.7 Q128.195 1217.05 129.376 1215.71 Q131.621 1213.18 132.501 1211.45 Q133.404 1209.69 133.404 1208 Q133.404 1205.24 131.459 1203.51 Q129.538 1201.77 126.436 1201.77 Q124.237 1201.77 121.783 1202.53 Q119.353 1203.3 116.575 1204.85 L116.575 1200.13 Q119.399 1198.99 121.853 1198.41 Q124.306 1197.84 126.343 1197.84 Q131.714 1197.84 134.908 1200.52 Q138.103 1203.21 138.103 1207.7 Q138.103 1209.83 137.292 1211.75 Q136.505 1213.65 134.399 1216.24 Q133.82 1216.91 130.718 1220.13 Q127.617 1223.32 121.968 1229.08 Z\" fill=\"#000000\" fill-rule=\"evenodd\" fill-opacity=\"1\" /><path clip-path=\"url(#clip890)\" d=\"M148.103 1227.14 L152.987 1227.14 L152.987 1233.02 L148.103 1233.02 L148.103 1227.14 Z\" fill=\"#000000\" fill-rule=\"evenodd\" fill-opacity=\"1\" /><path clip-path=\"url(#clip890)\" d=\"M167.2 1229.08 L183.519 1229.08 L183.519 1233.02 L161.575 1233.02 L161.575 1229.08 Q164.237 1226.33 168.82 1221.7 Q173.427 1217.05 174.607 1215.71 Q176.852 1213.18 177.732 1211.45 Q178.635 1209.69 178.635 1208 Q178.635 1205.24 176.69 1203.51 Q174.769 1201.77 171.667 1201.77 Q169.468 1201.77 167.015 1202.53 Q164.584 1203.3 161.806 1204.85 L161.806 1200.13 Q164.63 1198.99 167.084 1198.41 Q169.538 1197.84 171.575 1197.84 Q176.945 1197.84 180.139 1200.52 Q183.334 1203.21 183.334 1207.7 Q183.334 1209.83 182.524 1211.75 Q181.737 1213.65 179.63 1216.24 Q179.051 1216.91 175.95 1220.13 Q172.848 1223.32 167.2 1229.08 Z\" fill=\"#000000\" fill-rule=\"evenodd\" fill-opacity=\"1\" /><path clip-path=\"url(#clip890)\" d=\"M121.019 961.937 L137.339 961.937 L137.339 965.872 L115.394 965.872 L115.394 961.937 Q118.056 959.183 122.64 954.553 Q127.246 949.9 128.427 948.558 Q130.672 946.035 131.552 944.298 Q132.455 942.539 132.455 940.849 Q132.455 938.095 130.51 936.359 Q128.589 934.623 125.487 934.623 Q123.288 934.623 120.834 935.386 Q118.404 936.15 115.626 937.701 L115.626 932.979 Q118.45 931.845 120.904 931.266 Q123.357 930.687 125.394 930.687 Q130.765 930.687 133.959 933.373 Q137.154 936.058 137.154 940.548 Q137.154 942.678 136.343 944.599 Q135.556 946.497 133.45 949.09 Q132.871 949.761 129.769 952.979 Q126.667 956.173 121.019 961.937 Z\" fill=\"#000000\" fill-rule=\"evenodd\" fill-opacity=\"1\" /><path clip-path=\"url(#clip890)\" d=\"M147.153 959.993 L152.038 959.993 L152.038 965.872 L147.153 965.872 L147.153 959.993 Z\" fill=\"#000000\" fill-rule=\"evenodd\" fill-opacity=\"1\" /><path clip-path=\"url(#clip890)\" d=\"M176.389 947.238 Q179.746 947.956 181.621 950.224 Q183.519 952.493 183.519 955.826 Q183.519 960.942 180.001 963.743 Q176.482 966.544 170.001 966.544 Q167.825 966.544 165.51 966.104 Q163.218 965.687 160.765 964.831 L160.765 960.317 Q162.709 961.451 165.024 962.03 Q167.339 962.609 169.862 962.609 Q174.26 962.609 176.551 960.872 Q178.866 959.136 178.866 955.826 Q178.866 952.771 176.714 951.058 Q174.584 949.322 170.764 949.322 L166.737 949.322 L166.737 945.479 L170.95 945.479 Q174.399 945.479 176.227 944.113 Q178.056 942.724 178.056 940.132 Q178.056 937.47 176.158 936.058 Q174.283 934.623 170.764 934.623 Q168.843 934.623 166.644 935.039 Q164.445 935.456 161.806 936.336 L161.806 932.169 Q164.468 931.428 166.783 931.058 Q169.121 930.687 171.181 930.687 Q176.505 930.687 179.607 933.118 Q182.709 935.525 182.709 939.646 Q182.709 942.516 181.065 944.507 Q179.422 946.474 176.389 947.238 Z\" fill=\"#000000\" fill-rule=\"evenodd\" fill-opacity=\"1\" /><path clip-path=\"url(#clip890)\" d=\"M119.885 694.79 L136.204 694.79 L136.204 698.725 L114.26 698.725 L114.26 694.79 Q116.922 692.035 121.505 687.405 Q126.112 682.753 127.292 681.41 Q129.538 678.887 130.417 677.151 Q131.32 675.391 131.32 673.702 Q131.32 670.947 129.376 669.211 Q127.455 667.475 124.353 667.475 Q122.154 667.475 119.7 668.239 Q117.269 669.003 114.492 670.554 L114.492 665.831 Q117.316 664.697 119.769 664.118 Q122.223 663.54 124.26 663.54 Q129.63 663.54 132.825 666.225 Q136.019 668.91 136.019 673.401 Q136.019 675.53 135.209 677.452 Q134.422 679.35 132.316 681.942 Q131.737 682.614 128.635 685.831 Q125.533 689.026 119.885 694.79 Z\" fill=\"#000000\" fill-rule=\"evenodd\" fill-opacity=\"1\" /><path clip-path=\"url(#clip890)\" d=\"M146.019 692.845 L150.903 692.845 L150.903 698.725 L146.019 698.725 L146.019 692.845 Z\" fill=\"#000000\" fill-rule=\"evenodd\" fill-opacity=\"1\" /><path clip-path=\"url(#clip890)\" d=\"M173.936 668.239 L162.13 686.688 L173.936 686.688 L173.936 668.239 M172.709 664.165 L178.589 664.165 L178.589 686.688 L183.519 686.688 L183.519 690.577 L178.589 690.577 L178.589 698.725 L173.936 698.725 L173.936 690.577 L158.334 690.577 L158.334 686.063 L172.709 664.165 Z\" fill=\"#000000\" fill-rule=\"evenodd\" fill-opacity=\"1\" /><path clip-path=\"url(#clip890)\" d=\"M121.367 427.642 L137.686 427.642 L137.686 431.577 L115.742 431.577 L115.742 427.642 Q118.404 424.887 122.987 420.258 Q127.593 415.605 128.774 414.262 Q131.019 411.739 131.899 410.003 Q132.802 408.244 132.802 406.554 Q132.802 403.799 130.857 402.063 Q128.936 400.327 125.834 400.327 Q123.635 400.327 121.181 401.091 Q118.751 401.855 115.973 403.406 L115.973 398.684 Q118.797 397.549 121.251 396.971 Q123.705 396.392 125.742 396.392 Q131.112 396.392 134.306 399.077 Q137.501 401.762 137.501 406.253 Q137.501 408.383 136.691 410.304 Q135.904 412.202 133.797 414.795 Q133.218 415.466 130.117 418.684 Q127.015 421.878 121.367 427.642 Z\" fill=\"#000000\" fill-rule=\"evenodd\" fill-opacity=\"1\" /><path clip-path=\"url(#clip890)\" d=\"M147.501 425.697 L152.385 425.697 L152.385 431.577 L147.501 431.577 L147.501 425.697 Z\" fill=\"#000000\" fill-rule=\"evenodd\" fill-opacity=\"1\" /><path clip-path=\"url(#clip890)\" d=\"M162.616 397.017 L180.973 397.017 L180.973 400.952 L166.899 400.952 L166.899 409.424 Q167.917 409.077 168.936 408.915 Q169.954 408.73 170.973 408.73 Q176.76 408.73 180.139 411.901 Q183.519 415.072 183.519 420.489 Q183.519 426.068 180.047 429.17 Q176.575 432.248 170.255 432.248 Q168.079 432.248 165.811 431.878 Q163.565 431.508 161.158 430.767 L161.158 426.068 Q163.241 427.202 165.464 427.758 Q167.686 428.313 170.163 428.313 Q174.167 428.313 176.505 426.207 Q178.843 424.1 178.843 420.489 Q178.843 416.878 176.505 414.772 Q174.167 412.665 170.163 412.665 Q168.288 412.665 166.413 413.082 Q164.561 413.498 162.616 414.378 L162.616 397.017 Z\" fill=\"#000000\" fill-rule=\"evenodd\" fill-opacity=\"1\" /><path clip-path=\"url(#clip890)\" d=\"M120.209 160.494 L136.529 160.494 L136.529 164.429 L114.584 164.429 L114.584 160.494 Q117.246 157.74 121.83 153.11 Q126.436 148.457 127.617 147.115 Q129.862 144.591 130.742 142.855 Q131.644 141.096 131.644 139.406 Q131.644 136.652 129.7 134.916 Q127.779 133.18 124.677 133.18 Q122.478 133.18 120.024 133.943 Q117.593 134.707 114.816 136.258 L114.816 131.536 Q117.64 130.402 120.093 129.823 Q122.547 129.244 124.584 129.244 Q129.955 129.244 133.149 131.93 Q136.343 134.615 136.343 139.105 Q136.343 141.235 135.533 143.156 Q134.746 145.054 132.64 147.647 Q132.061 148.318 128.959 151.536 Q125.857 154.73 120.209 160.494 Z\" fill=\"#000000\" fill-rule=\"evenodd\" fill-opacity=\"1\" /><path clip-path=\"url(#clip890)\" d=\"M146.343 158.55 L151.228 158.55 L151.228 164.429 L146.343 164.429 L146.343 158.55 Z\" fill=\"#000000\" fill-rule=\"evenodd\" fill-opacity=\"1\" /><path clip-path=\"url(#clip890)\" d=\"M171.991 145.286 Q168.843 145.286 166.991 147.439 Q165.163 149.591 165.163 153.341 Q165.163 157.068 166.991 159.244 Q168.843 161.397 171.991 161.397 Q175.139 161.397 176.968 159.244 Q178.82 157.068 178.82 153.341 Q178.82 149.591 176.968 147.439 Q175.139 145.286 171.991 145.286 M181.274 130.633 L181.274 134.892 Q179.514 134.059 177.709 133.619 Q175.926 133.18 174.167 133.18 Q169.538 133.18 167.084 136.304 Q164.653 139.429 164.306 145.749 Q165.672 143.735 167.732 142.67 Q169.792 141.582 172.269 141.582 Q177.477 141.582 180.487 144.754 Q183.519 147.902 183.519 153.341 Q183.519 158.665 180.371 161.883 Q177.223 165.101 171.991 165.101 Q165.996 165.101 162.825 160.517 Q159.653 155.911 159.653 147.184 Q159.653 138.99 163.542 134.129 Q167.431 129.244 173.982 129.244 Q175.741 129.244 177.524 129.592 Q179.329 129.939 181.274 130.633 Z\" fill=\"#000000\" fill-rule=\"evenodd\" fill-opacity=\"1\" /><path clip-path=\"url(#clip890)\" d=\"M41.7242 895.58 Q42.4244 893.511 44.7161 891.57 Q47.0077 889.596 51.0181 887.623 L64.0042 881.098 L64.0042 888.005 L51.8138 894.084 Q47.0395 896.439 45.48 898.667 Q43.9204 900.864 43.9204 904.683 L43.9204 911.685 L64.0042 911.685 L64.0042 918.115 L16.4842 918.115 L16.4842 903.601 Q16.4842 895.453 19.8898 891.442 Q23.2955 887.432 30.1704 887.432 Q34.6582 887.432 37.6183 889.533 Q40.5784 891.601 41.7242 895.58 M21.7677 911.685 L38.6368 911.685 L38.6368 903.601 Q38.6368 898.954 36.5043 896.599 Q34.34 894.211 30.1704 894.211 Q26.0009 894.211 23.9002 896.599 Q21.7677 898.954 21.7677 903.601 L21.7677 911.685 Z\" fill=\"#000000\" fill-rule=\"evenodd\" fill-opacity=\"1\" /><path clip-path=\"url(#clip890)\" d=\"M49.9359 876.61 L28.3562 876.61 L28.3562 870.754 L49.7131 870.754 Q54.7739 870.754 57.3202 868.78 Q59.8346 866.807 59.8346 862.86 Q59.8346 858.118 56.8109 855.381 Q53.7872 852.612 48.5673 852.612 L28.3562 852.612 L28.3562 846.755 L64.0042 846.755 L64.0042 852.612 L58.5296 852.612 Q61.7762 854.744 63.3676 857.577 Q64.9272 860.378 64.9272 864.102 Q64.9272 870.245 61.1078 873.427 Q57.2883 876.61 49.9359 876.61 M27.4968 861.874 L27.4968 861.874 Z\" fill=\"#000000\" fill-rule=\"evenodd\" fill-opacity=\"1\" /><path clip-path=\"url(#clip890)\" d=\"M42.4881 805.06 L64.0042 805.06 L64.0042 810.916 L42.679 810.916 Q37.6183 810.916 35.1038 812.89 Q32.5894 814.863 32.5894 818.81 Q32.5894 823.552 35.6131 826.289 Q38.6368 829.027 43.8567 829.027 L64.0042 829.027 L64.0042 834.915 L28.3562 834.915 L28.3562 829.027 L33.8944 829.027 Q30.6797 826.926 29.0883 824.093 Q27.4968 821.229 27.4968 817.505 Q27.4968 811.362 31.3163 808.211 Q35.1038 805.06 42.4881 805.06 Z\" fill=\"#000000\" fill-rule=\"evenodd\" fill-opacity=\"1\" /><path clip-path=\"url(#clip890)\" d=\"M18.2347 787.586 L28.3562 787.586 L28.3562 775.523 L32.9077 775.523 L32.9077 787.586 L52.2594 787.586 Q56.6199 787.586 57.8613 786.408 Q59.1026 785.199 59.1026 781.538 L59.1026 775.523 L64.0042 775.523 L64.0042 781.538 Q64.0042 788.318 61.4897 790.896 Q58.9434 793.474 52.2594 793.474 L32.9077 793.474 L32.9077 797.771 L28.3562 797.771 L28.3562 793.474 L18.2347 793.474 L18.2347 787.586 Z\" fill=\"#000000\" fill-rule=\"evenodd\" fill-opacity=\"1\" /><path clip-path=\"url(#clip890)\" d=\"M28.3562 767.82 L28.3562 761.964 L64.0042 761.964 L64.0042 767.82 L28.3562 767.82 M14.479 767.82 L14.479 761.964 L21.895 761.964 L21.895 767.82 L14.479 767.82 Z\" fill=\"#000000\" fill-rule=\"evenodd\" fill-opacity=\"1\" /><path clip-path=\"url(#clip890)\" d=\"M35.1993 721.955 Q31.2526 719.759 29.3747 716.704 Q27.4968 713.648 27.4968 709.51 Q27.4968 703.94 31.4117 700.917 Q35.2948 697.893 42.4881 697.893 L64.0042 697.893 L64.0042 703.781 L42.679 703.781 Q37.5546 703.781 35.072 705.596 Q32.5894 707.41 32.5894 711.134 Q32.5894 715.685 35.6131 718.327 Q38.6368 720.969 43.8567 720.969 L64.0042 720.969 L64.0042 726.857 L42.679 726.857 Q37.5228 726.857 35.072 728.671 Q32.5894 730.485 32.5894 734.273 Q32.5894 738.761 35.6449 741.403 Q38.6686 744.044 43.8567 744.044 L64.0042 744.044 L64.0042 749.933 L28.3562 749.933 L28.3562 744.044 L33.8944 744.044 Q30.616 742.039 29.0564 739.238 Q27.4968 736.437 27.4968 732.586 Q27.4968 728.703 29.4702 725.998 Q31.4436 723.26 35.1993 721.955 Z\" fill=\"#000000\" fill-rule=\"evenodd\" fill-opacity=\"1\" /><path clip-path=\"url(#clip890)\" d=\"M44.7161 655.72 L47.5806 655.72 L47.5806 682.647 Q53.6281 682.265 56.8109 679.019 Q59.9619 675.74 59.9619 669.916 Q59.9619 666.542 59.1344 663.391 Q58.3069 660.208 56.6518 657.089 L62.1899 657.089 Q63.5267 660.24 64.227 663.55 Q64.9272 666.86 64.9272 670.266 Q64.9272 678.796 59.9619 683.793 Q54.9967 688.758 46.5303 688.758 Q37.7774 688.758 32.6531 684.048 Q27.4968 679.305 27.4968 671.284 Q27.4968 664.091 32.1438 659.922 Q36.7589 655.72 44.7161 655.72 M42.9973 661.577 Q38.1912 661.64 35.3266 664.282 Q32.4621 666.892 32.4621 671.221 Q32.4621 676.122 35.2312 679.082 Q38.0002 682.011 43.0292 682.456 L42.9973 661.577 Z\" fill=\"#000000\" fill-rule=\"evenodd\" fill-opacity=\"1\" /><path clip-path=\"url(#clip890)\" d=\"M14.5426 611.319 Q21.8632 615.584 29.0246 617.653 Q36.186 619.722 43.5384 619.722 Q50.8908 619.722 58.1159 617.653 Q65.3091 615.553 72.5979 611.319 L72.5979 616.412 Q65.1182 621.186 57.8931 623.573 Q50.668 625.929 43.5384 625.929 Q36.4406 625.929 29.2474 623.573 Q22.0542 621.218 14.5426 616.412 L14.5426 611.319 Z\" fill=\"#000000\" fill-rule=\"evenodd\" fill-opacity=\"1\" /><path clip-path=\"url(#clip890)\" d=\"M29.4065 577.231 L34.9447 577.231 Q33.6716 579.714 33.035 582.387 Q32.3984 585.061 32.3984 587.925 Q32.3984 592.286 33.7352 594.482 Q35.072 596.646 37.7456 596.646 Q39.7826 596.646 40.9603 595.087 Q42.1061 593.527 43.1565 588.817 L43.6021 586.811 Q44.9389 580.573 47.3897 577.963 Q49.8086 575.321 54.1691 575.321 Q59.1344 575.321 62.0308 579.268 Q64.9272 583.183 64.9272 590.058 Q64.9272 592.923 64.3543 596.042 Q63.8132 599.129 62.6992 602.567 L56.6518 602.567 Q58.3387 599.32 59.198 596.169 Q60.0256 593.018 60.0256 589.931 Q60.0256 585.793 58.6251 583.565 Q57.1929 581.337 54.6147 581.337 Q52.2276 581.337 50.9545 582.96 Q49.6813 584.552 48.5037 589.994 L48.0262 592.031 Q46.8804 597.474 44.5251 599.893 Q42.138 602.312 38.0002 602.312 Q32.9713 602.312 30.2341 598.747 Q27.4968 595.182 27.4968 588.626 Q27.4968 585.379 27.9743 582.515 Q28.4517 579.65 29.4065 577.231 Z\" fill=\"#000000\" fill-rule=\"evenodd\" fill-opacity=\"1\" /><path clip-path=\"url(#clip890)\" d=\"M14.5426 566.919 L14.5426 561.826 Q22.0542 557.052 29.2474 554.696 Q36.4406 552.309 43.5384 552.309 Q50.668 552.309 57.8931 554.696 Q65.1182 557.052 72.5979 561.826 L72.5979 566.919 Q65.3091 562.685 58.1159 560.617 Q50.8908 558.516 43.5384 558.516 Q36.186 558.516 29.0246 560.617 Q21.8632 562.685 14.5426 566.919 Z\" fill=\"#000000\" fill-rule=\"evenodd\" fill-opacity=\"1\" /><polyline clip-path=\"url(#clip892)\" style=\"stroke:#009af9; stroke-linecap:butt; stroke-linejoin:round; stroke-width:4; stroke-opacity:1; fill:none\" points=\"\n",
       "  279.894,86.1857 727.113,1001.51 1174.33,1384.24 1397.94,1047.24 2292.38,841.955 \n",
       "  \"/>\n",
       "</svg>\n"
      ]
     },
     "execution_count": 52,
     "metadata": {},
     "output_type": "execute_result"
    }
   ],
   "source": [
    "plot(bsizes_list, runtimes_bsizes; xlabel= \"Block size\", ylabel = \"Runtime (s)\", legend = false)"
   ]
  },
  {
   "cell_type": "code",
   "execution_count": 34,
   "id": "a1603a93-9c33-45ed-a68a-47014567292f",
   "metadata": {},
   "outputs": [
    {
     "data": {
      "image/svg+xml": [
       "<?xml version=\"1.0\" encoding=\"utf-8\"?>\n",
       "<svg xmlns=\"http://www.w3.org/2000/svg\" xmlns:xlink=\"http://www.w3.org/1999/xlink\" width=\"600\" height=\"400\" viewBox=\"0 0 2400 1600\">\n",
       "<defs>\n",
       "  <clipPath id=\"clip310\">\n",
       "    <rect x=\"0\" y=\"0\" width=\"2400\" height=\"1600\"/>\n",
       "  </clipPath>\n",
       "</defs>\n",
       "<path clip-path=\"url(#clip310)\" d=\"\n",
       "M0 1600 L2400 1600 L2400 0 L0 0  Z\n",
       "  \" fill=\"#ffffff\" fill-rule=\"evenodd\" fill-opacity=\"1\"/>\n",
       "<defs>\n",
       "  <clipPath id=\"clip311\">\n",
       "    <rect x=\"480\" y=\"0\" width=\"1681\" height=\"1600\"/>\n",
       "  </clipPath>\n",
       "</defs>\n",
       "<path clip-path=\"url(#clip310)\" d=\"\n",
       "M249.542 1423.18 L2352.76 1423.18 L2352.76 47.2441 L249.542 47.2441  Z\n",
       "  \" fill=\"#ffffff\" fill-rule=\"evenodd\" fill-opacity=\"1\"/>\n",
       "<defs>\n",
       "  <clipPath id=\"clip312\">\n",
       "    <rect x=\"249\" y=\"47\" width=\"2104\" height=\"1377\"/>\n",
       "  </clipPath>\n",
       "</defs>\n",
       "<polyline clip-path=\"url(#clip312)\" style=\"stroke:#000000; stroke-linecap:round; stroke-linejoin:round; stroke-width:2; stroke-opacity:0.1; fill:none\" points=\"\n",
       "  529.53,1423.18 529.53,47.2441 \n",
       "  \"/>\n",
       "<polyline clip-path=\"url(#clip312)\" style=\"stroke:#000000; stroke-linecap:round; stroke-linejoin:round; stroke-width:2; stroke-opacity:0.1; fill:none\" points=\"\n",
       "  970.455,1423.18 970.455,47.2441 \n",
       "  \"/>\n",
       "<polyline clip-path=\"url(#clip312)\" style=\"stroke:#000000; stroke-linecap:round; stroke-linejoin:round; stroke-width:2; stroke-opacity:0.1; fill:none\" points=\"\n",
       "  1411.38,1423.18 1411.38,47.2441 \n",
       "  \"/>\n",
       "<polyline clip-path=\"url(#clip312)\" style=\"stroke:#000000; stroke-linecap:round; stroke-linejoin:round; stroke-width:2; stroke-opacity:0.1; fill:none\" points=\"\n",
       "  1852.31,1423.18 1852.31,47.2441 \n",
       "  \"/>\n",
       "<polyline clip-path=\"url(#clip312)\" style=\"stroke:#000000; stroke-linecap:round; stroke-linejoin:round; stroke-width:2; stroke-opacity:0.1; fill:none\" points=\"\n",
       "  2293.23,1423.18 2293.23,47.2441 \n",
       "  \"/>\n",
       "<polyline clip-path=\"url(#clip310)\" style=\"stroke:#000000; stroke-linecap:round; stroke-linejoin:round; stroke-width:4; stroke-opacity:1; fill:none\" points=\"\n",
       "  249.542,1423.18 2352.76,1423.18 \n",
       "  \"/>\n",
       "<polyline clip-path=\"url(#clip310)\" style=\"stroke:#000000; stroke-linecap:round; stroke-linejoin:round; stroke-width:4; stroke-opacity:1; fill:none\" points=\"\n",
       "  529.53,1423.18 529.53,1404.28 \n",
       "  \"/>\n",
       "<polyline clip-path=\"url(#clip310)\" style=\"stroke:#000000; stroke-linecap:round; stroke-linejoin:round; stroke-width:4; stroke-opacity:1; fill:none\" points=\"\n",
       "  970.455,1423.18 970.455,1404.28 \n",
       "  \"/>\n",
       "<polyline clip-path=\"url(#clip310)\" style=\"stroke:#000000; stroke-linecap:round; stroke-linejoin:round; stroke-width:4; stroke-opacity:1; fill:none\" points=\"\n",
       "  1411.38,1423.18 1411.38,1404.28 \n",
       "  \"/>\n",
       "<polyline clip-path=\"url(#clip310)\" style=\"stroke:#000000; stroke-linecap:round; stroke-linejoin:round; stroke-width:4; stroke-opacity:1; fill:none\" points=\"\n",
       "  1852.31,1423.18 1852.31,1404.28 \n",
       "  \"/>\n",
       "<polyline clip-path=\"url(#clip310)\" style=\"stroke:#000000; stroke-linecap:round; stroke-linejoin:round; stroke-width:4; stroke-opacity:1; fill:none\" points=\"\n",
       "  2293.23,1423.18 2293.23,1404.28 \n",
       "  \"/>\n",
       "<path clip-path=\"url(#clip310)\" d=\"M508.303 1481.64 L524.622 1481.64 L524.622 1485.58 L502.678 1485.58 L502.678 1481.64 Q505.34 1478.89 509.923 1474.26 Q514.53 1469.61 515.71 1468.27 Q517.956 1465.74 518.835 1464.01 Q519.738 1462.25 519.738 1460.56 Q519.738 1457.8 517.794 1456.07 Q515.872 1454.33 512.77 1454.33 Q510.571 1454.33 508.118 1455.09 Q505.687 1455.86 502.909 1457.41 L502.909 1452.69 Q505.733 1451.55 508.187 1450.97 Q510.641 1450.39 512.678 1450.39 Q518.048 1450.39 521.243 1453.08 Q524.437 1455.77 524.437 1460.26 Q524.437 1462.39 523.627 1464.31 Q522.84 1466.2 520.733 1468.8 Q520.155 1469.47 517.053 1472.69 Q513.951 1475.88 508.303 1481.64 Z\" fill=\"#000000\" fill-rule=\"evenodd\" fill-opacity=\"1\" /><path clip-path=\"url(#clip310)\" d=\"M544.437 1454.1 Q540.826 1454.1 538.997 1457.66 Q537.192 1461.2 537.192 1468.33 Q537.192 1475.44 538.997 1479.01 Q540.826 1482.55 544.437 1482.55 Q548.071 1482.55 549.877 1479.01 Q551.705 1475.44 551.705 1468.33 Q551.705 1461.2 549.877 1457.66 Q548.071 1454.1 544.437 1454.1 M544.437 1450.39 Q550.247 1450.39 553.303 1455 Q556.381 1459.58 556.381 1468.33 Q556.381 1477.06 553.303 1481.67 Q550.247 1486.25 544.437 1486.25 Q538.627 1486.25 535.548 1481.67 Q532.493 1477.06 532.493 1468.33 Q532.493 1459.58 535.548 1455 Q538.627 1450.39 544.437 1450.39 Z\" fill=\"#000000\" fill-rule=\"evenodd\" fill-opacity=\"1\" /><path clip-path=\"url(#clip310)\" d=\"M958.626 1455.09 L946.821 1473.54 L958.626 1473.54 L958.626 1455.09 M957.399 1451.02 L963.279 1451.02 L963.279 1473.54 L968.21 1473.54 L968.21 1477.43 L963.279 1477.43 L963.279 1485.58 L958.626 1485.58 L958.626 1477.43 L943.025 1477.43 L943.025 1472.92 L957.399 1451.02 Z\" fill=\"#000000\" fill-rule=\"evenodd\" fill-opacity=\"1\" /><path clip-path=\"url(#clip310)\" d=\"M985.941 1454.1 Q982.33 1454.1 980.501 1457.66 Q978.696 1461.2 978.696 1468.33 Q978.696 1475.44 980.501 1479.01 Q982.33 1482.55 985.941 1482.55 Q989.575 1482.55 991.381 1479.01 Q993.209 1475.44 993.209 1468.33 Q993.209 1461.2 991.381 1457.66 Q989.575 1454.1 985.941 1454.1 M985.941 1450.39 Q991.751 1450.39 994.807 1455 Q997.885 1459.58 997.885 1468.33 Q997.885 1477.06 994.807 1481.67 Q991.751 1486.25 985.941 1486.25 Q980.131 1486.25 977.052 1481.67 Q973.997 1477.06 973.997 1468.33 Q973.997 1459.58 977.052 1455 Q980.131 1450.39 985.941 1450.39 Z\" fill=\"#000000\" fill-rule=\"evenodd\" fill-opacity=\"1\" /><path clip-path=\"url(#clip310)\" d=\"M1396.79 1466.44 Q1393.64 1466.44 1391.79 1468.59 Q1389.96 1470.74 1389.96 1474.49 Q1389.96 1478.22 1391.79 1480.39 Q1393.64 1482.55 1396.79 1482.55 Q1399.93 1482.55 1401.76 1480.39 Q1403.61 1478.22 1403.61 1474.49 Q1403.61 1470.74 1401.76 1468.59 Q1399.93 1466.44 1396.79 1466.44 M1406.07 1451.78 L1406.07 1456.04 Q1404.31 1455.21 1402.5 1454.77 Q1400.72 1454.33 1398.96 1454.33 Q1394.33 1454.33 1391.88 1457.45 Q1389.45 1460.58 1389.1 1466.9 Q1390.47 1464.89 1392.53 1463.82 Q1394.59 1462.73 1397.06 1462.73 Q1402.27 1462.73 1405.28 1465.9 Q1408.31 1469.05 1408.31 1474.49 Q1408.31 1479.82 1405.17 1483.03 Q1402.02 1486.25 1396.79 1486.25 Q1390.79 1486.25 1387.62 1481.67 Q1384.45 1477.06 1384.45 1468.33 Q1384.45 1460.14 1388.34 1455.28 Q1392.23 1450.39 1398.78 1450.39 Q1400.54 1450.39 1402.32 1450.74 Q1404.12 1451.09 1406.07 1451.78 Z\" fill=\"#000000\" fill-rule=\"evenodd\" fill-opacity=\"1\" /><path clip-path=\"url(#clip310)\" d=\"M1426.37 1454.1 Q1422.76 1454.1 1420.93 1457.66 Q1419.12 1461.2 1419.12 1468.33 Q1419.12 1475.44 1420.93 1479.01 Q1422.76 1482.55 1426.37 1482.55 Q1430 1482.55 1431.81 1479.01 Q1433.64 1475.44 1433.64 1468.33 Q1433.64 1461.2 1431.81 1457.66 Q1430 1454.1 1426.37 1454.1 M1426.37 1450.39 Q1432.18 1450.39 1435.23 1455 Q1438.31 1459.58 1438.31 1468.33 Q1438.31 1477.06 1435.23 1481.67 Q1432.18 1486.25 1426.37 1486.25 Q1420.56 1486.25 1417.48 1481.67 Q1414.42 1477.06 1414.42 1468.33 Q1414.42 1459.58 1417.48 1455 Q1420.56 1450.39 1426.37 1450.39 Z\" fill=\"#000000\" fill-rule=\"evenodd\" fill-opacity=\"1\" /><path clip-path=\"url(#clip310)\" d=\"M1837.18 1469.17 Q1833.85 1469.17 1831.92 1470.95 Q1830.03 1472.73 1830.03 1475.86 Q1830.03 1478.98 1831.92 1480.77 Q1833.85 1482.55 1837.18 1482.55 Q1840.51 1482.55 1842.43 1480.77 Q1844.35 1478.96 1844.35 1475.86 Q1844.35 1472.73 1842.43 1470.95 Q1840.53 1469.17 1837.18 1469.17 M1832.5 1467.18 Q1829.49 1466.44 1827.8 1464.38 Q1826.14 1462.32 1826.14 1459.35 Q1826.14 1455.21 1829.08 1452.8 Q1832.04 1450.39 1837.18 1450.39 Q1842.34 1450.39 1845.28 1452.8 Q1848.22 1455.21 1848.22 1459.35 Q1848.22 1462.32 1846.53 1464.38 Q1844.86 1466.44 1841.88 1467.18 Q1845.26 1467.96 1847.13 1470.26 Q1849.03 1472.55 1849.03 1475.86 Q1849.03 1480.88 1845.95 1483.57 Q1842.9 1486.25 1837.18 1486.25 Q1831.46 1486.25 1828.38 1483.57 Q1825.33 1480.88 1825.33 1475.86 Q1825.33 1472.55 1827.22 1470.26 Q1829.12 1467.96 1832.5 1467.18 M1830.79 1459.79 Q1830.79 1462.48 1832.46 1463.98 Q1834.15 1465.49 1837.18 1465.49 Q1840.19 1465.49 1841.88 1463.98 Q1843.59 1462.48 1843.59 1459.79 Q1843.59 1457.11 1841.88 1455.6 Q1840.19 1454.1 1837.18 1454.1 Q1834.15 1454.1 1832.46 1455.6 Q1830.79 1457.11 1830.79 1459.79 Z\" fill=\"#000000\" fill-rule=\"evenodd\" fill-opacity=\"1\" /><path clip-path=\"url(#clip310)\" d=\"M1867.34 1454.1 Q1863.73 1454.1 1861.9 1457.66 Q1860.09 1461.2 1860.09 1468.33 Q1860.09 1475.44 1861.9 1479.01 Q1863.73 1482.55 1867.34 1482.55 Q1870.97 1482.55 1872.78 1479.01 Q1874.61 1475.44 1874.61 1468.33 Q1874.61 1461.2 1872.78 1457.66 Q1870.97 1454.1 1867.34 1454.1 M1867.34 1450.39 Q1873.15 1450.39 1876.21 1455 Q1879.28 1459.58 1879.28 1468.33 Q1879.28 1477.06 1876.21 1481.67 Q1873.15 1486.25 1867.34 1486.25 Q1861.53 1486.25 1858.45 1481.67 Q1855.4 1477.06 1855.4 1468.33 Q1855.4 1459.58 1858.45 1455 Q1861.53 1450.39 1867.34 1450.39 Z\" fill=\"#000000\" fill-rule=\"evenodd\" fill-opacity=\"1\" /><path clip-path=\"url(#clip310)\" d=\"M2252.84 1481.64 L2260.48 1481.64 L2260.48 1455.28 L2252.17 1456.95 L2252.17 1452.69 L2260.43 1451.02 L2265.11 1451.02 L2265.11 1481.64 L2272.74 1481.64 L2272.74 1485.58 L2252.84 1485.58 L2252.84 1481.64 Z\" fill=\"#000000\" fill-rule=\"evenodd\" fill-opacity=\"1\" /><path clip-path=\"url(#clip310)\" d=\"M2292.19 1454.1 Q2288.58 1454.1 2286.75 1457.66 Q2284.94 1461.2 2284.94 1468.33 Q2284.94 1475.44 2286.75 1479.01 Q2288.58 1482.55 2292.19 1482.55 Q2295.82 1482.55 2297.63 1479.01 Q2299.46 1475.44 2299.46 1468.33 Q2299.46 1461.2 2297.63 1457.66 Q2295.82 1454.1 2292.19 1454.1 M2292.19 1450.39 Q2298 1450.39 2301.06 1455 Q2304.13 1459.58 2304.13 1468.33 Q2304.13 1477.06 2301.06 1481.67 Q2298 1486.25 2292.19 1486.25 Q2286.38 1486.25 2283.3 1481.67 Q2280.24 1477.06 2280.24 1468.33 Q2280.24 1459.58 2283.3 1455 Q2286.38 1450.39 2292.19 1450.39 Z\" fill=\"#000000\" fill-rule=\"evenodd\" fill-opacity=\"1\" /><path clip-path=\"url(#clip310)\" d=\"M2322.35 1454.1 Q2318.74 1454.1 2316.91 1457.66 Q2315.11 1461.2 2315.11 1468.33 Q2315.11 1475.44 2316.91 1479.01 Q2318.74 1482.55 2322.35 1482.55 Q2325.99 1482.55 2327.79 1479.01 Q2329.62 1475.44 2329.62 1468.33 Q2329.62 1461.2 2327.79 1457.66 Q2325.99 1454.1 2322.35 1454.1 M2322.35 1450.39 Q2328.16 1450.39 2331.22 1455 Q2334.3 1459.58 2334.3 1468.33 Q2334.3 1477.06 2331.22 1481.67 Q2328.16 1486.25 2322.35 1486.25 Q2316.54 1486.25 2313.46 1481.67 Q2310.41 1477.06 2310.41 1468.33 Q2310.41 1459.58 2313.46 1455 Q2316.54 1450.39 2322.35 1450.39 Z\" fill=\"#000000\" fill-rule=\"evenodd\" fill-opacity=\"1\" /><path clip-path=\"url(#clip310)\" d=\"M1019.42 1520.52 L1028.08 1520.52 L1049.15 1560.28 L1049.15 1520.52 L1055.38 1520.52 L1055.38 1568.04 L1046.73 1568.04 L1025.66 1528.29 L1025.66 1568.04 L1019.42 1568.04 L1019.42 1520.52 Z\" fill=\"#000000\" fill-rule=\"evenodd\" fill-opacity=\"1\" /><path clip-path=\"url(#clip310)\" d=\"M1067.32 1553.98 L1067.32 1532.4 L1073.18 1532.4 L1073.18 1553.75 Q1073.18 1558.81 1075.15 1561.36 Q1077.12 1563.87 1081.07 1563.87 Q1085.81 1563.87 1088.55 1560.85 Q1091.32 1557.83 1091.32 1552.61 L1091.32 1532.4 L1097.18 1532.4 L1097.18 1568.04 L1091.32 1568.04 L1091.32 1562.57 Q1089.19 1565.82 1086.35 1567.41 Q1083.55 1568.97 1079.83 1568.97 Q1073.69 1568.97 1070.5 1565.15 Q1067.32 1561.33 1067.32 1553.98 M1082.06 1531.54 L1082.06 1531.54 Z\" fill=\"#000000\" fill-rule=\"evenodd\" fill-opacity=\"1\" /><path clip-path=\"url(#clip310)\" d=\"M1136.99 1539.24 Q1139.19 1535.29 1142.25 1533.41 Q1145.3 1531.54 1149.44 1531.54 Q1155.01 1531.54 1158.03 1535.45 Q1161.06 1539.33 1161.06 1546.53 L1161.06 1568.04 L1155.17 1568.04 L1155.17 1546.72 Q1155.17 1541.59 1153.35 1539.11 Q1151.54 1536.63 1147.82 1536.63 Q1143.26 1536.63 1140.62 1539.65 Q1137.98 1542.68 1137.98 1547.9 L1137.98 1568.04 L1132.09 1568.04 L1132.09 1546.72 Q1132.09 1541.56 1130.28 1539.11 Q1128.46 1536.63 1124.68 1536.63 Q1120.19 1536.63 1117.55 1539.68 Q1114.9 1542.71 1114.9 1547.9 L1114.9 1568.04 L1109.02 1568.04 L1109.02 1532.4 L1114.9 1532.4 L1114.9 1537.93 Q1116.91 1534.66 1119.71 1533.1 Q1122.51 1531.54 1126.36 1531.54 Q1130.25 1531.54 1132.95 1533.51 Q1135.69 1535.48 1136.99 1539.24 Z\" fill=\"#000000\" fill-rule=\"evenodd\" fill-opacity=\"1\" /><path clip-path=\"url(#clip310)\" d=\"M1198.33 1550.25 Q1198.33 1543.79 1195.65 1540.13 Q1193.01 1536.44 1188.36 1536.44 Q1183.72 1536.44 1181.04 1540.13 Q1178.4 1543.79 1178.4 1550.25 Q1178.4 1556.71 1181.04 1560.4 Q1183.72 1564.07 1188.36 1564.07 Q1193.01 1564.07 1195.65 1560.4 Q1198.33 1556.71 1198.33 1550.25 M1178.4 1537.81 Q1180.25 1534.62 1183.05 1533.1 Q1185.88 1531.54 1189.8 1531.54 Q1196.29 1531.54 1200.33 1536.69 Q1204.41 1541.85 1204.41 1550.25 Q1204.41 1558.65 1200.33 1563.81 Q1196.29 1568.97 1189.8 1568.97 Q1185.88 1568.97 1183.05 1567.44 Q1180.25 1565.88 1178.4 1562.7 L1178.4 1568.04 L1172.51 1568.04 L1172.51 1518.52 L1178.4 1518.52 L1178.4 1537.81 Z\" fill=\"#000000\" fill-rule=\"evenodd\" fill-opacity=\"1\" /><path clip-path=\"url(#clip310)\" d=\"M1244.61 1548.76 L1244.61 1551.62 L1217.68 1551.62 Q1218.06 1557.67 1221.31 1560.85 Q1224.59 1564 1230.41 1564 Q1233.78 1564 1236.93 1563.17 Q1240.12 1562.35 1243.24 1560.69 L1243.24 1566.23 Q1240.09 1567.57 1236.78 1568.27 Q1233.47 1568.97 1230.06 1568.97 Q1221.53 1568.97 1216.53 1564 Q1211.57 1559.04 1211.57 1550.57 Q1211.57 1541.82 1216.28 1536.69 Q1221.02 1531.54 1229.04 1531.54 Q1236.23 1531.54 1240.4 1536.18 Q1244.61 1540.8 1244.61 1548.76 M1238.75 1547.04 Q1238.69 1542.23 1236.04 1539.37 Q1233.43 1536.5 1229.11 1536.5 Q1224.2 1536.5 1221.24 1539.27 Q1218.32 1542.04 1217.87 1547.07 L1238.75 1547.04 Z\" fill=\"#000000\" fill-rule=\"evenodd\" fill-opacity=\"1\" /><path clip-path=\"url(#clip310)\" d=\"M1274.87 1537.87 Q1273.89 1537.3 1272.71 1537.04 Q1271.56 1536.76 1270.16 1536.76 Q1265.2 1536.76 1262.53 1540 Q1259.88 1543.22 1259.88 1549.27 L1259.88 1568.04 L1253.99 1568.04 L1253.99 1532.4 L1259.88 1532.4 L1259.88 1537.93 Q1261.73 1534.69 1264.69 1533.13 Q1267.65 1531.54 1271.88 1531.54 Q1272.49 1531.54 1273.22 1531.63 Q1273.95 1531.7 1274.84 1531.85 L1274.87 1537.87 Z\" fill=\"#000000\" fill-rule=\"evenodd\" fill-opacity=\"1\" /><path clip-path=\"url(#clip310)\" d=\"M1315.55 1536.5 Q1310.84 1536.5 1308.1 1540.19 Q1305.37 1543.85 1305.37 1550.25 Q1305.37 1556.65 1308.07 1560.34 Q1310.81 1564 1315.55 1564 Q1320.23 1564 1322.97 1560.31 Q1325.7 1556.62 1325.7 1550.25 Q1325.7 1543.92 1322.97 1540.23 Q1320.23 1536.5 1315.55 1536.5 M1315.55 1531.54 Q1323.19 1531.54 1327.55 1536.5 Q1331.91 1541.47 1331.91 1550.25 Q1331.91 1559 1327.55 1564 Q1323.19 1568.97 1315.55 1568.97 Q1307.88 1568.97 1303.52 1564 Q1299.19 1559 1299.19 1550.25 Q1299.19 1541.47 1303.52 1536.5 Q1307.88 1531.54 1315.55 1531.54 Z\" fill=\"#000000\" fill-rule=\"evenodd\" fill-opacity=\"1\" /><path clip-path=\"url(#clip310)\" d=\"M1359.67 1518.52 L1359.67 1523.39 L1354.06 1523.39 Q1350.91 1523.39 1349.67 1524.66 Q1348.46 1525.93 1348.46 1529.24 L1348.46 1532.4 L1358.11 1532.4 L1358.11 1536.95 L1348.46 1536.95 L1348.46 1568.04 L1342.57 1568.04 L1342.57 1536.95 L1336.97 1536.95 L1336.97 1532.4 L1342.57 1532.4 L1342.57 1529.91 Q1342.57 1523.96 1345.34 1521.26 Q1348.11 1518.52 1354.13 1518.52 L1359.67 1518.52 Z\" fill=\"#000000\" fill-rule=\"evenodd\" fill-opacity=\"1\" /><path clip-path=\"url(#clip310)\" d=\"M1410.88 1550.25 Q1410.88 1543.79 1408.2 1540.13 Q1405.56 1536.44 1400.92 1536.44 Q1396.27 1536.44 1393.59 1540.13 Q1390.95 1543.79 1390.95 1550.25 Q1390.95 1556.71 1393.59 1560.4 Q1396.27 1564.07 1400.92 1564.07 Q1405.56 1564.07 1408.2 1560.4 Q1410.88 1556.71 1410.88 1550.25 M1390.95 1537.81 Q1392.8 1534.62 1395.6 1533.1 Q1398.43 1531.54 1402.35 1531.54 Q1408.84 1531.54 1412.88 1536.69 Q1416.96 1541.85 1416.96 1550.25 Q1416.96 1558.65 1412.88 1563.81 Q1408.84 1568.97 1402.35 1568.97 Q1398.43 1568.97 1395.6 1567.44 Q1392.8 1565.88 1390.95 1562.7 L1390.95 1568.04 L1385.06 1568.04 L1385.06 1518.52 L1390.95 1518.52 L1390.95 1537.81 Z\" fill=\"#000000\" fill-rule=\"evenodd\" fill-opacity=\"1\" /><path clip-path=\"url(#clip310)\" d=\"M1426.66 1518.52 L1432.52 1518.52 L1432.52 1568.04 L1426.66 1568.04 L1426.66 1518.52 Z\" fill=\"#000000\" fill-rule=\"evenodd\" fill-opacity=\"1\" /><path clip-path=\"url(#clip310)\" d=\"M1458.59 1536.5 Q1453.88 1536.5 1451.14 1540.19 Q1448.4 1543.85 1448.4 1550.25 Q1448.4 1556.65 1451.11 1560.34 Q1453.85 1564 1458.59 1564 Q1463.27 1564 1466 1560.31 Q1468.74 1556.62 1468.74 1550.25 Q1468.74 1543.92 1466 1540.23 Q1463.27 1536.5 1458.59 1536.5 M1458.59 1531.54 Q1466.23 1531.54 1470.59 1536.5 Q1474.95 1541.47 1474.95 1550.25 Q1474.95 1559 1470.59 1564 Q1466.23 1568.97 1458.59 1568.97 Q1450.92 1568.97 1446.56 1564 Q1442.23 1559 1442.23 1550.25 Q1442.23 1541.47 1446.56 1536.5 Q1450.92 1531.54 1458.59 1531.54 Z\" fill=\"#000000\" fill-rule=\"evenodd\" fill-opacity=\"1\" /><path clip-path=\"url(#clip310)\" d=\"M1510.31 1533.76 L1510.31 1539.24 Q1507.83 1537.87 1505.31 1537.2 Q1502.83 1536.5 1500.28 1536.5 Q1494.59 1536.5 1491.44 1540.13 Q1488.28 1543.73 1488.28 1550.25 Q1488.28 1556.78 1491.44 1560.4 Q1494.59 1564 1500.28 1564 Q1502.83 1564 1505.31 1563.33 Q1507.83 1562.63 1510.31 1561.26 L1510.31 1566.68 Q1507.86 1567.82 1505.22 1568.39 Q1502.61 1568.97 1499.65 1568.97 Q1491.59 1568.97 1486.85 1563.91 Q1482.11 1558.85 1482.11 1550.25 Q1482.11 1541.53 1486.88 1536.53 Q1491.69 1531.54 1500.03 1531.54 Q1502.73 1531.54 1505.31 1532.11 Q1507.89 1532.65 1510.31 1533.76 Z\" fill=\"#000000\" fill-rule=\"evenodd\" fill-opacity=\"1\" /><path clip-path=\"url(#clip310)\" d=\"M1520.27 1518.52 L1526.16 1518.52 L1526.16 1547.77 L1543.63 1532.4 L1551.11 1532.4 L1532.21 1549.07 L1551.91 1568.04 L1544.27 1568.04 L1526.16 1550.63 L1526.16 1568.04 L1520.27 1568.04 L1520.27 1518.52 Z\" fill=\"#000000\" fill-rule=\"evenodd\" fill-opacity=\"1\" /><path clip-path=\"url(#clip310)\" d=\"M1580.97 1533.45 L1580.97 1538.98 Q1578.49 1537.71 1575.81 1537.07 Q1573.14 1536.44 1570.28 1536.44 Q1565.91 1536.44 1563.72 1537.77 Q1561.55 1539.11 1561.55 1541.79 Q1561.55 1543.82 1563.11 1545 Q1564.67 1546.15 1569.38 1547.2 L1571.39 1547.64 Q1577.63 1548.98 1580.24 1551.43 Q1582.88 1553.85 1582.88 1558.21 Q1582.88 1563.17 1578.93 1566.07 Q1575.02 1568.97 1568.14 1568.97 Q1565.28 1568.97 1562.16 1568.39 Q1559.07 1567.85 1555.63 1566.74 L1555.63 1560.69 Q1558.88 1562.38 1562.03 1563.24 Q1565.18 1564.07 1568.27 1564.07 Q1572.41 1564.07 1574.64 1562.66 Q1576.86 1561.23 1576.86 1558.65 Q1576.86 1556.27 1575.24 1554.99 Q1573.65 1553.72 1568.21 1552.54 L1566.17 1552.07 Q1560.73 1550.92 1558.31 1548.56 Q1555.89 1546.18 1555.89 1542.04 Q1555.89 1537.01 1559.45 1534.27 Q1563.02 1531.54 1569.57 1531.54 Q1572.82 1531.54 1575.69 1532.01 Q1578.55 1532.49 1580.97 1533.45 Z\" fill=\"#000000\" fill-rule=\"evenodd\" fill-opacity=\"1\" /><polyline clip-path=\"url(#clip312)\" style=\"stroke:#000000; stroke-linecap:round; stroke-linejoin:round; stroke-width:2; stroke-opacity:0.1; fill:none\" points=\"\n",
       "  249.542,1280.2 2352.76,1280.2 \n",
       "  \"/>\n",
       "<polyline clip-path=\"url(#clip312)\" style=\"stroke:#000000; stroke-linecap:round; stroke-linejoin:round; stroke-width:2; stroke-opacity:0.1; fill:none\" points=\"\n",
       "  249.542,971.919 2352.76,971.919 \n",
       "  \"/>\n",
       "<polyline clip-path=\"url(#clip312)\" style=\"stroke:#000000; stroke-linecap:round; stroke-linejoin:round; stroke-width:2; stroke-opacity:0.1; fill:none\" points=\"\n",
       "  249.542,663.638 2352.76,663.638 \n",
       "  \"/>\n",
       "<polyline clip-path=\"url(#clip312)\" style=\"stroke:#000000; stroke-linecap:round; stroke-linejoin:round; stroke-width:2; stroke-opacity:0.1; fill:none\" points=\"\n",
       "  249.542,355.357 2352.76,355.357 \n",
       "  \"/>\n",
       "<polyline clip-path=\"url(#clip310)\" style=\"stroke:#000000; stroke-linecap:round; stroke-linejoin:round; stroke-width:4; stroke-opacity:1; fill:none\" points=\"\n",
       "  249.542,1423.18 249.542,47.2441 \n",
       "  \"/>\n",
       "<polyline clip-path=\"url(#clip310)\" style=\"stroke:#000000; stroke-linecap:round; stroke-linejoin:round; stroke-width:4; stroke-opacity:1; fill:none\" points=\"\n",
       "  249.542,1280.2 268.44,1280.2 \n",
       "  \"/>\n",
       "<polyline clip-path=\"url(#clip310)\" style=\"stroke:#000000; stroke-linecap:round; stroke-linejoin:round; stroke-width:4; stroke-opacity:1; fill:none\" points=\"\n",
       "  249.542,971.919 268.44,971.919 \n",
       "  \"/>\n",
       "<polyline clip-path=\"url(#clip310)\" style=\"stroke:#000000; stroke-linecap:round; stroke-linejoin:round; stroke-width:4; stroke-opacity:1; fill:none\" points=\"\n",
       "  249.542,663.638 268.44,663.638 \n",
       "  \"/>\n",
       "<polyline clip-path=\"url(#clip310)\" style=\"stroke:#000000; stroke-linecap:round; stroke-linejoin:round; stroke-width:4; stroke-opacity:1; fill:none\" points=\"\n",
       "  249.542,355.357 268.44,355.357 \n",
       "  \"/>\n",
       "<path clip-path=\"url(#clip310)\" d=\"M127.2 1266 Q123.589 1266 121.76 1269.56 Q119.955 1273.11 119.955 1280.23 Q119.955 1287.34 121.76 1290.91 Q123.589 1294.45 127.2 1294.45 Q130.834 1294.45 132.64 1290.91 Q134.468 1287.34 134.468 1280.23 Q134.468 1273.11 132.64 1269.56 Q130.834 1266 127.2 1266 M127.2 1262.3 Q133.01 1262.3 136.066 1266.9 Q139.144 1271.48 139.144 1280.23 Q139.144 1288.96 136.066 1293.57 Q133.01 1298.15 127.2 1298.15 Q121.39 1298.15 118.311 1293.57 Q115.256 1288.96 115.256 1280.23 Q115.256 1271.48 118.311 1266.9 Q121.39 1262.3 127.2 1262.3 Z\" fill=\"#000000\" fill-rule=\"evenodd\" fill-opacity=\"1\" /><path clip-path=\"url(#clip310)\" d=\"M147.362 1291.6 L152.246 1291.6 L152.246 1297.48 L147.362 1297.48 L147.362 1291.6 Z\" fill=\"#000000\" fill-rule=\"evenodd\" fill-opacity=\"1\" /><path clip-path=\"url(#clip310)\" d=\"M175.278 1266.99 L163.473 1285.44 L175.278 1285.44 L175.278 1266.99 M174.052 1262.92 L179.931 1262.92 L179.931 1285.44 L184.862 1285.44 L184.862 1289.33 L179.931 1289.33 L179.931 1297.48 L175.278 1297.48 L175.278 1289.33 L159.677 1289.33 L159.677 1284.82 L174.052 1262.92 Z\" fill=\"#000000\" fill-rule=\"evenodd\" fill-opacity=\"1\" /><path clip-path=\"url(#clip310)\" d=\"M192.639 1262.92 L210.996 1262.92 L210.996 1266.86 L196.922 1266.86 L196.922 1275.33 Q197.94 1274.98 198.959 1274.82 Q199.977 1274.63 200.996 1274.63 Q206.783 1274.63 210.162 1277.8 Q213.542 1280.98 213.542 1286.39 Q213.542 1291.97 210.07 1295.07 Q206.598 1298.15 200.278 1298.15 Q198.102 1298.15 195.834 1297.78 Q193.588 1297.41 191.181 1296.67 L191.181 1291.97 Q193.264 1293.11 195.487 1293.66 Q197.709 1294.22 200.186 1294.22 Q204.19 1294.22 206.528 1292.11 Q208.866 1290 208.866 1286.39 Q208.866 1282.78 206.528 1280.67 Q204.19 1278.57 200.186 1278.57 Q198.311 1278.57 196.436 1278.98 Q194.584 1279.4 192.639 1280.28 L192.639 1262.92 Z\" fill=\"#000000\" fill-rule=\"evenodd\" fill-opacity=\"1\" /><path clip-path=\"url(#clip310)\" d=\"M126.205 957.718 Q122.593 957.718 120.765 961.282 Q118.959 964.824 118.959 971.954 Q118.959 979.06 120.765 982.625 Q122.593 986.166 126.205 986.166 Q129.839 986.166 131.644 982.625 Q133.473 979.06 133.473 971.954 Q133.473 964.824 131.644 961.282 Q129.839 957.718 126.205 957.718 M126.205 954.014 Q132.015 954.014 135.07 958.62 Q138.149 963.204 138.149 971.954 Q138.149 980.68 135.07 985.287 Q132.015 989.87 126.205 989.87 Q120.394 989.87 117.316 985.287 Q114.26 980.68 114.26 971.954 Q114.26 963.204 117.316 958.62 Q120.394 954.014 126.205 954.014 Z\" fill=\"#000000\" fill-rule=\"evenodd\" fill-opacity=\"1\" /><path clip-path=\"url(#clip310)\" d=\"M146.366 983.319 L151.251 983.319 L151.251 989.199 L146.366 989.199 L146.366 983.319 Z\" fill=\"#000000\" fill-rule=\"evenodd\" fill-opacity=\"1\" /><path clip-path=\"url(#clip310)\" d=\"M161.482 954.639 L179.839 954.639 L179.839 958.574 L165.765 958.574 L165.765 967.046 Q166.783 966.699 167.802 966.537 Q168.82 966.352 169.839 966.352 Q175.626 966.352 179.005 969.523 Q182.385 972.694 182.385 978.111 Q182.385 983.69 178.913 986.791 Q175.44 989.87 169.121 989.87 Q166.945 989.87 164.677 989.5 Q162.431 989.129 160.024 988.389 L160.024 983.69 Q162.107 984.824 164.329 985.379 Q166.552 985.935 169.028 985.935 Q173.033 985.935 175.371 983.829 Q177.709 981.722 177.709 978.111 Q177.709 974.5 175.371 972.393 Q173.033 970.287 169.028 970.287 Q167.153 970.287 165.278 970.704 Q163.427 971.12 161.482 972 L161.482 954.639 Z\" fill=\"#000000\" fill-rule=\"evenodd\" fill-opacity=\"1\" /><path clip-path=\"url(#clip310)\" d=\"M201.598 957.718 Q197.987 957.718 196.158 961.282 Q194.352 964.824 194.352 971.954 Q194.352 979.06 196.158 982.625 Q197.987 986.166 201.598 986.166 Q205.232 986.166 207.037 982.625 Q208.866 979.06 208.866 971.954 Q208.866 964.824 207.037 961.282 Q205.232 957.718 201.598 957.718 M201.598 954.014 Q207.408 954.014 210.463 958.62 Q213.542 963.204 213.542 971.954 Q213.542 980.68 210.463 985.287 Q207.408 989.87 201.598 989.87 Q195.787 989.87 192.709 985.287 Q189.653 980.68 189.653 971.954 Q189.653 963.204 192.709 958.62 Q195.787 954.014 201.598 954.014 Z\" fill=\"#000000\" fill-rule=\"evenodd\" fill-opacity=\"1\" /><path clip-path=\"url(#clip310)\" d=\"M127.2 649.436 Q123.589 649.436 121.76 653.001 Q119.955 656.543 119.955 663.672 Q119.955 670.779 121.76 674.344 Q123.589 677.885 127.2 677.885 Q130.834 677.885 132.64 674.344 Q134.468 670.779 134.468 663.672 Q134.468 656.543 132.64 653.001 Q130.834 649.436 127.2 649.436 M127.2 645.733 Q133.01 645.733 136.066 650.339 Q139.144 654.922 139.144 663.672 Q139.144 672.399 136.066 677.006 Q133.01 681.589 127.2 681.589 Q121.39 681.589 118.311 677.006 Q115.256 672.399 115.256 663.672 Q115.256 654.922 118.311 650.339 Q121.39 645.733 127.2 645.733 Z\" fill=\"#000000\" fill-rule=\"evenodd\" fill-opacity=\"1\" /><path clip-path=\"url(#clip310)\" d=\"M147.362 675.038 L152.246 675.038 L152.246 680.918 L147.362 680.918 L147.362 675.038 Z\" fill=\"#000000\" fill-rule=\"evenodd\" fill-opacity=\"1\" /><path clip-path=\"url(#clip310)\" d=\"M162.477 646.358 L180.834 646.358 L180.834 650.293 L166.76 650.293 L166.76 658.765 Q167.778 658.418 168.797 658.256 Q169.815 658.071 170.834 658.071 Q176.621 658.071 180.001 661.242 Q183.38 664.413 183.38 669.83 Q183.38 675.408 179.908 678.51 Q176.436 681.589 170.116 681.589 Q167.94 681.589 165.672 681.219 Q163.427 680.848 161.019 680.108 L161.019 675.408 Q163.102 676.543 165.325 677.098 Q167.547 677.654 170.024 677.654 Q174.028 677.654 176.366 675.547 Q178.704 673.441 178.704 669.83 Q178.704 666.219 176.366 664.112 Q174.028 662.006 170.024 662.006 Q168.149 662.006 166.274 662.422 Q164.422 662.839 162.477 663.719 L162.477 646.358 Z\" fill=\"#000000\" fill-rule=\"evenodd\" fill-opacity=\"1\" /><path clip-path=\"url(#clip310)\" d=\"M192.639 646.358 L210.996 646.358 L210.996 650.293 L196.922 650.293 L196.922 658.765 Q197.94 658.418 198.959 658.256 Q199.977 658.071 200.996 658.071 Q206.783 658.071 210.162 661.242 Q213.542 664.413 213.542 669.83 Q213.542 675.408 210.07 678.51 Q206.598 681.589 200.278 681.589 Q198.102 681.589 195.834 681.219 Q193.588 680.848 191.181 680.108 L191.181 675.408 Q193.264 676.543 195.487 677.098 Q197.709 677.654 200.186 677.654 Q204.19 677.654 206.528 675.547 Q208.866 673.441 208.866 669.83 Q208.866 666.219 206.528 664.112 Q204.19 662.006 200.186 662.006 Q198.311 662.006 196.436 662.422 Q194.584 662.839 192.639 663.719 L192.639 646.358 Z\" fill=\"#000000\" fill-rule=\"evenodd\" fill-opacity=\"1\" /><path clip-path=\"url(#clip310)\" d=\"M126.205 341.155 Q122.593 341.155 120.765 344.72 Q118.959 348.262 118.959 355.391 Q118.959 362.498 120.765 366.062 Q122.593 369.604 126.205 369.604 Q129.839 369.604 131.644 366.062 Q133.473 362.498 133.473 355.391 Q133.473 348.262 131.644 344.72 Q129.839 341.155 126.205 341.155 M126.205 337.452 Q132.015 337.452 135.07 342.058 Q138.149 346.641 138.149 355.391 Q138.149 364.118 135.07 368.725 Q132.015 373.308 126.205 373.308 Q120.394 373.308 117.316 368.725 Q114.26 364.118 114.26 355.391 Q114.26 346.641 117.316 342.058 Q120.394 337.452 126.205 337.452 Z\" fill=\"#000000\" fill-rule=\"evenodd\" fill-opacity=\"1\" /><path clip-path=\"url(#clip310)\" d=\"M146.366 366.757 L151.251 366.757 L151.251 372.637 L146.366 372.637 L146.366 366.757 Z\" fill=\"#000000\" fill-rule=\"evenodd\" fill-opacity=\"1\" /><path clip-path=\"url(#clip310)\" d=\"M172.014 353.493 Q168.866 353.493 167.015 355.646 Q165.186 357.799 165.186 361.549 Q165.186 365.275 167.015 367.451 Q168.866 369.604 172.014 369.604 Q175.163 369.604 176.991 367.451 Q178.843 365.275 178.843 361.549 Q178.843 357.799 176.991 355.646 Q175.163 353.493 172.014 353.493 M181.297 338.84 L181.297 343.1 Q179.538 342.266 177.732 341.827 Q175.95 341.387 174.19 341.387 Q169.561 341.387 167.107 344.512 Q164.677 347.637 164.329 353.956 Q165.695 351.942 167.755 350.877 Q169.815 349.789 172.292 349.789 Q177.501 349.789 180.51 352.961 Q183.542 356.109 183.542 361.549 Q183.542 366.873 180.394 370.09 Q177.246 373.308 172.014 373.308 Q166.019 373.308 162.848 368.725 Q159.677 364.118 159.677 355.391 Q159.677 347.197 163.565 342.336 Q167.454 337.452 174.005 337.452 Q175.764 337.452 177.547 337.799 Q179.352 338.146 181.297 338.84 Z\" fill=\"#000000\" fill-rule=\"evenodd\" fill-opacity=\"1\" /><path clip-path=\"url(#clip310)\" d=\"M201.598 341.155 Q197.987 341.155 196.158 344.72 Q194.352 348.262 194.352 355.391 Q194.352 362.498 196.158 366.062 Q197.987 369.604 201.598 369.604 Q205.232 369.604 207.037 366.062 Q208.866 362.498 208.866 355.391 Q208.866 348.262 207.037 344.72 Q205.232 341.155 201.598 341.155 M201.598 337.452 Q207.408 337.452 210.463 342.058 Q213.542 346.641 213.542 355.391 Q213.542 364.118 210.463 368.725 Q207.408 373.308 201.598 373.308 Q195.787 373.308 192.709 368.725 Q189.653 364.118 189.653 355.391 Q189.653 346.641 192.709 342.058 Q195.787 337.452 201.598 337.452 Z\" fill=\"#000000\" fill-rule=\"evenodd\" fill-opacity=\"1\" /><path clip-path=\"url(#clip310)\" d=\"M41.7242 895.58 Q42.4244 893.511 44.7161 891.57 Q47.0077 889.596 51.0181 887.623 L64.0042 881.098 L64.0042 888.005 L51.8138 894.084 Q47.0395 896.439 45.48 898.667 Q43.9204 900.864 43.9204 904.683 L43.9204 911.685 L64.0042 911.685 L64.0042 918.115 L16.4842 918.115 L16.4842 903.601 Q16.4842 895.453 19.8898 891.442 Q23.2955 887.432 30.1704 887.432 Q34.6582 887.432 37.6183 889.533 Q40.5784 891.601 41.7242 895.58 M21.7677 911.685 L38.6368 911.685 L38.6368 903.601 Q38.6368 898.954 36.5043 896.599 Q34.34 894.211 30.1704 894.211 Q26.0009 894.211 23.9002 896.599 Q21.7677 898.954 21.7677 903.601 L21.7677 911.685 Z\" fill=\"#000000\" fill-rule=\"evenodd\" fill-opacity=\"1\" /><path clip-path=\"url(#clip310)\" d=\"M49.9359 876.61 L28.3562 876.61 L28.3562 870.754 L49.7131 870.754 Q54.7739 870.754 57.3202 868.78 Q59.8346 866.807 59.8346 862.86 Q59.8346 858.118 56.8109 855.381 Q53.7872 852.612 48.5673 852.612 L28.3562 852.612 L28.3562 846.755 L64.0042 846.755 L64.0042 852.612 L58.5296 852.612 Q61.7762 854.744 63.3676 857.577 Q64.9272 860.378 64.9272 864.102 Q64.9272 870.245 61.1078 873.427 Q57.2883 876.61 49.9359 876.61 M27.4968 861.874 L27.4968 861.874 Z\" fill=\"#000000\" fill-rule=\"evenodd\" fill-opacity=\"1\" /><path clip-path=\"url(#clip310)\" d=\"M42.4881 805.06 L64.0042 805.06 L64.0042 810.916 L42.679 810.916 Q37.6183 810.916 35.1038 812.89 Q32.5894 814.863 32.5894 818.81 Q32.5894 823.552 35.6131 826.289 Q38.6368 829.027 43.8567 829.027 L64.0042 829.027 L64.0042 834.915 L28.3562 834.915 L28.3562 829.027 L33.8944 829.027 Q30.6797 826.926 29.0883 824.093 Q27.4968 821.229 27.4968 817.505 Q27.4968 811.362 31.3163 808.211 Q35.1038 805.06 42.4881 805.06 Z\" fill=\"#000000\" fill-rule=\"evenodd\" fill-opacity=\"1\" /><path clip-path=\"url(#clip310)\" d=\"M18.2347 787.586 L28.3562 787.586 L28.3562 775.523 L32.9077 775.523 L32.9077 787.586 L52.2594 787.586 Q56.6199 787.586 57.8613 786.408 Q59.1026 785.199 59.1026 781.538 L59.1026 775.523 L64.0042 775.523 L64.0042 781.538 Q64.0042 788.318 61.4897 790.896 Q58.9434 793.474 52.2594 793.474 L32.9077 793.474 L32.9077 797.771 L28.3562 797.771 L28.3562 793.474 L18.2347 793.474 L18.2347 787.586 Z\" fill=\"#000000\" fill-rule=\"evenodd\" fill-opacity=\"1\" /><path clip-path=\"url(#clip310)\" d=\"M28.3562 767.82 L28.3562 761.964 L64.0042 761.964 L64.0042 767.82 L28.3562 767.82 M14.479 767.82 L14.479 761.964 L21.895 761.964 L21.895 767.82 L14.479 767.82 Z\" fill=\"#000000\" fill-rule=\"evenodd\" fill-opacity=\"1\" /><path clip-path=\"url(#clip310)\" d=\"M35.1993 721.955 Q31.2526 719.759 29.3747 716.704 Q27.4968 713.648 27.4968 709.51 Q27.4968 703.94 31.4117 700.917 Q35.2948 697.893 42.4881 697.893 L64.0042 697.893 L64.0042 703.781 L42.679 703.781 Q37.5546 703.781 35.072 705.596 Q32.5894 707.41 32.5894 711.134 Q32.5894 715.685 35.6131 718.327 Q38.6368 720.969 43.8567 720.969 L64.0042 720.969 L64.0042 726.857 L42.679 726.857 Q37.5228 726.857 35.072 728.671 Q32.5894 730.485 32.5894 734.273 Q32.5894 738.761 35.6449 741.403 Q38.6686 744.044 43.8567 744.044 L64.0042 744.044 L64.0042 749.933 L28.3562 749.933 L28.3562 744.044 L33.8944 744.044 Q30.616 742.039 29.0564 739.238 Q27.4968 736.437 27.4968 732.586 Q27.4968 728.703 29.4702 725.998 Q31.4436 723.26 35.1993 721.955 Z\" fill=\"#000000\" fill-rule=\"evenodd\" fill-opacity=\"1\" /><path clip-path=\"url(#clip310)\" d=\"M44.7161 655.72 L47.5806 655.72 L47.5806 682.647 Q53.6281 682.265 56.8109 679.019 Q59.9619 675.74 59.9619 669.916 Q59.9619 666.542 59.1344 663.391 Q58.3069 660.208 56.6518 657.089 L62.1899 657.089 Q63.5267 660.24 64.227 663.55 Q64.9272 666.86 64.9272 670.266 Q64.9272 678.796 59.9619 683.793 Q54.9967 688.758 46.5303 688.758 Q37.7774 688.758 32.6531 684.048 Q27.4968 679.305 27.4968 671.284 Q27.4968 664.091 32.1438 659.922 Q36.7589 655.72 44.7161 655.72 M42.9973 661.577 Q38.1912 661.64 35.3266 664.282 Q32.4621 666.892 32.4621 671.221 Q32.4621 676.122 35.2312 679.082 Q38.0002 682.011 43.0292 682.456 L42.9973 661.577 Z\" fill=\"#000000\" fill-rule=\"evenodd\" fill-opacity=\"1\" /><path clip-path=\"url(#clip310)\" d=\"M14.5426 611.319 Q21.8632 615.584 29.0246 617.653 Q36.186 619.722 43.5384 619.722 Q50.8908 619.722 58.1159 617.653 Q65.3091 615.553 72.5979 611.319 L72.5979 616.412 Q65.1182 621.186 57.8931 623.573 Q50.668 625.929 43.5384 625.929 Q36.4406 625.929 29.2474 623.573 Q22.0542 621.218 14.5426 616.412 L14.5426 611.319 Z\" fill=\"#000000\" fill-rule=\"evenodd\" fill-opacity=\"1\" /><path clip-path=\"url(#clip310)\" d=\"M29.4065 577.231 L34.9447 577.231 Q33.6716 579.714 33.035 582.387 Q32.3984 585.061 32.3984 587.925 Q32.3984 592.286 33.7352 594.482 Q35.072 596.646 37.7456 596.646 Q39.7826 596.646 40.9603 595.087 Q42.1061 593.527 43.1565 588.817 L43.6021 586.811 Q44.9389 580.573 47.3897 577.963 Q49.8086 575.321 54.1691 575.321 Q59.1344 575.321 62.0308 579.268 Q64.9272 583.183 64.9272 590.058 Q64.9272 592.923 64.3543 596.042 Q63.8132 599.129 62.6992 602.567 L56.6518 602.567 Q58.3387 599.32 59.198 596.169 Q60.0256 593.018 60.0256 589.931 Q60.0256 585.793 58.6251 583.565 Q57.1929 581.337 54.6147 581.337 Q52.2276 581.337 50.9545 582.96 Q49.6813 584.552 48.5037 589.994 L48.0262 592.031 Q46.8804 597.474 44.5251 599.893 Q42.138 602.312 38.0002 602.312 Q32.9713 602.312 30.2341 598.747 Q27.4968 595.182 27.4968 588.626 Q27.4968 585.379 27.9743 582.515 Q28.4517 579.65 29.4065 577.231 Z\" fill=\"#000000\" fill-rule=\"evenodd\" fill-opacity=\"1\" /><path clip-path=\"url(#clip310)\" d=\"M14.5426 566.919 L14.5426 561.826 Q22.0542 557.052 29.2474 554.696 Q36.4406 552.309 43.5384 552.309 Q50.668 552.309 57.8931 554.696 Q65.1182 557.052 72.5979 561.826 L72.5979 566.919 Q65.3091 562.685 58.1159 560.617 Q50.8908 558.516 43.5384 558.516 Q36.186 558.516 29.0246 560.617 Q21.8632 562.685 14.5426 566.919 Z\" fill=\"#000000\" fill-rule=\"evenodd\" fill-opacity=\"1\" /><polyline clip-path=\"url(#clip312)\" style=\"stroke:#009af9; stroke-linecap:round; stroke-linejoin:round; stroke-width:4; stroke-opacity:1; fill:none\" points=\"\n",
       "  309.067,1384.24 529.53,695.526 749.992,86.1857 970.455,184.995 1190.92,135.44 1411.38,801.407 1631.84,594.635 1852.31,677.807 2072.77,679.046 2293.23,763.975 \n",
       "  \n",
       "  \"/>\n",
       "</svg>\n"
      ]
     },
     "execution_count": 34,
     "metadata": {},
     "output_type": "execute_result"
    }
   ],
   "source": [
    "plot(nblocks_list, runtimes_nblocks; xlabel= \"Number of blocks\", ylabel = \"Runtime (s)\", legend = false)"
   ]
  },
  {
   "cell_type": "markdown",
   "id": "f10e5e89-f4e2-4c06-ac4d-606705e675cc",
   "metadata": {},
   "source": [
    "By specifying the number of blocks needed..."
   ]
  },
  {
   "cell_type": "code",
   "execution_count": 35,
   "id": "9e151f0f-8067-46aa-b42b-a8943ebe086d",
   "metadata": {},
   "outputs": [
    {
     "data": {
      "text/plain": [
       "7.321"
      ]
     },
     "execution_count": 35,
     "metadata": {},
     "output_type": "execute_result"
    }
   ],
   "source": [
    "p/1000"
   ]
  },
  {
   "cell_type": "code",
   "execution_count": 46,
   "id": "5584f25b-6c75-4284-85d6-4c5a15b0b032",
   "metadata": {},
   "outputs": [
    {
     "data": {
      "text/plain": [
       "119-element Vector{UnitRange{Int64}}:\n",
       " 1:62\n",
       " 63:124\n",
       " 125:186\n",
       " 187:248\n",
       " 249:310\n",
       " 311:372\n",
       " 373:434\n",
       " 435:496\n",
       " 497:558\n",
       " 559:620\n",
       " 621:682\n",
       " 683:744\n",
       " 745:806\n",
       " ⋮\n",
       " 6635:6696\n",
       " 6697:6758\n",
       " 6759:6820\n",
       " 6821:6882\n",
       " 6883:6944\n",
       " 6945:7006\n",
       " 7007:7068\n",
       " 7069:7130\n",
       " 7131:7192\n",
       " 7193:7254\n",
       " 7255:7316\n",
       " 7317:7321"
      ]
     },
     "execution_count": 46,
     "metadata": {},
     "output_type": "execute_result"
    }
   ],
   "source": [
    "bs = Int(ceil(p/120));\n",
    "blocks_partitions = partition_array_indices(p, bs)"
   ]
  },
  {
   "cell_type": "code",
   "execution_count": 47,
   "id": "fe56ba78-36d5-413e-b76c-4aa7d4ba562c",
   "metadata": {},
   "outputs": [
    {
     "data": {
      "text/plain": [
       "BenchmarkTools.Trial: 11 samples with 1 evaluation.\n",
       " Range \u001b[90m(\u001b[39m\u001b[36m\u001b[1mmin\u001b[22m\u001b[39m … \u001b[35mmax\u001b[39m\u001b[90m):  \u001b[39m\u001b[36m\u001b[1m436.641 ms\u001b[22m\u001b[39m … \u001b[35m548.578 ms\u001b[39m  \u001b[90m┊\u001b[39m GC \u001b[90m(\u001b[39mmin … max\u001b[90m): \u001b[39m0.00% … 0.00%\n",
       " Time  \u001b[90m(\u001b[39m\u001b[34m\u001b[1mmedian\u001b[22m\u001b[39m\u001b[90m):     \u001b[39m\u001b[34m\u001b[1m448.174 ms               \u001b[22m\u001b[39m\u001b[90m┊\u001b[39m GC \u001b[90m(\u001b[39mmedian\u001b[90m):    \u001b[39m0.00%\n",
       " Time  \u001b[90m(\u001b[39m\u001b[32m\u001b[1mmean\u001b[22m\u001b[39m ± \u001b[32mσ\u001b[39m\u001b[90m):   \u001b[39m\u001b[32m\u001b[1m478.512 ms\u001b[22m\u001b[39m ± \u001b[32m 47.383 ms\u001b[39m  \u001b[90m┊\u001b[39m GC \u001b[90m(\u001b[39mmean ± σ\u001b[90m):  \u001b[39m0.39% ± 0.98%\n",
       "\n",
       "  \u001b[39m█\u001b[39m \u001b[39m▁\u001b[39m \u001b[39m█\u001b[34m \u001b[39m\u001b[39m▁\u001b[39m \u001b[39m \u001b[39m \u001b[39m \u001b[39m \u001b[39m▁\u001b[39m \u001b[39m \u001b[39m \u001b[39m \u001b[39m \u001b[39m \u001b[39m \u001b[39m \u001b[39m \u001b[39m \u001b[32m \u001b[39m\u001b[39m \u001b[39m \u001b[39m \u001b[39m \u001b[39m \u001b[39m \u001b[39m \u001b[39m \u001b[39m \u001b[39m \u001b[39m \u001b[39m \u001b[39m \u001b[39m \u001b[39m \u001b[39m \u001b[39m \u001b[39m \u001b[39m \u001b[39m \u001b[39m \u001b[39m \u001b[39m \u001b[39m \u001b[39m \u001b[39m▁\u001b[39m \u001b[39m \u001b[39m▁\u001b[39m \u001b[39m \u001b[39m \u001b[39m▁\u001b[39m \u001b[39m \u001b[39m \u001b[39m▁\u001b[39m \u001b[39m \n",
       "  \u001b[39m█\u001b[39m▁\u001b[39m█\u001b[39m▁\u001b[39m█\u001b[34m▁\u001b[39m\u001b[39m█\u001b[39m▁\u001b[39m▁\u001b[39m▁\u001b[39m▁\u001b[39m▁\u001b[39m█\u001b[39m▁\u001b[39m▁\u001b[39m▁\u001b[39m▁\u001b[39m▁\u001b[39m▁\u001b[39m▁\u001b[39m▁\u001b[39m▁\u001b[39m▁\u001b[32m▁\u001b[39m\u001b[39m▁\u001b[39m▁\u001b[39m▁\u001b[39m▁\u001b[39m▁\u001b[39m▁\u001b[39m▁\u001b[39m▁\u001b[39m▁\u001b[39m▁\u001b[39m▁\u001b[39m▁\u001b[39m▁\u001b[39m▁\u001b[39m▁\u001b[39m▁\u001b[39m▁\u001b[39m▁\u001b[39m▁\u001b[39m▁\u001b[39m▁\u001b[39m▁\u001b[39m▁\u001b[39m▁\u001b[39m▁\u001b[39m█\u001b[39m▁\u001b[39m▁\u001b[39m█\u001b[39m▁\u001b[39m▁\u001b[39m▁\u001b[39m█\u001b[39m▁\u001b[39m▁\u001b[39m▁\u001b[39m█\u001b[39m \u001b[39m▁\n",
       "  437 ms\u001b[90m           Histogram: frequency by time\u001b[39m          549 ms \u001b[0m\u001b[1m<\u001b[22m\n",
       "\n",
       " Memory estimate\u001b[90m: \u001b[39m\u001b[33m56.29 MiB\u001b[39m, allocs estimate\u001b[90m: \u001b[39m\u001b[33m9393\u001b[39m."
      ]
     },
     "execution_count": 47,
     "metadata": {},
     "output_type": "execute_result"
    }
   ],
   "source": [
    "@benchmark pmap(x -> scan_distributed_block(r0perm, X00, x), blocks_partitions)"
   ]
  },
  {
   "cell_type": "code",
   "execution_count": 57,
   "id": "8445e62a-1fc6-4f0e-aa72-957cffc8bd01",
   "metadata": {},
   "outputs": [
    {
     "data": {
      "text/plain": [
       "1001×7321 Matrix{Float64}:\n",
       " 0.00819636   0.00819636   …  0.0449878    0.0128283   0.0128283\n",
       " 0.604956     0.604956        1.33928      1.29426     1.29426\n",
       " 0.0264842    0.0264842       0.16927      0.069518    0.069518\n",
       " 0.00585467   0.00585467      0.589608     0.14854     0.14854\n",
       " 0.477297     0.477297        0.0317133    0.0625366   0.0625366\n",
       " 0.140293     0.140293     …  0.0400303    0.0338204   0.0338204\n",
       " 0.45141      0.45141         0.459152     0.278652    0.278652\n",
       " 0.179818     0.179818        0.0430329    0.0218039   0.0218039\n",
       " 0.213351     0.213351        0.179031     0.193549    0.193549\n",
       " 0.0250041    0.0250041       0.0679043    0.00622826  0.00622826\n",
       " 0.801668     0.801668     …  0.42936      0.123412    0.123412\n",
       " 0.0351507    0.0351507       0.296432     0.0480549   0.0480549\n",
       " 0.053255     0.053255        0.281489     0.11254     0.11254\n",
       " ⋮                         ⋱                           ⋮\n",
       " 0.104779     0.104779        0.159406     0.0806087   0.0806087\n",
       " 0.552277     0.552277     …  0.0646045    0.141889    0.141889\n",
       " 0.139783     0.139783        0.439375     0.441454    0.441454\n",
       " 0.112876     0.112876        0.35686      0.280429    0.280429\n",
       " 0.00631154   0.00631154      0.00726865   0.0104656   0.0104656\n",
       " 0.318243     0.318243        0.19142      0.199141    0.199141\n",
       " 0.208951     0.208951     …  0.411456     0.289409    0.289409\n",
       " 0.000193035  0.000193035     0.0746521    0.0573068   0.0573068\n",
       " 0.00138088   0.00138088      0.000746908  0.0950779   0.0950779\n",
       " 0.0437531    0.0437531       0.00567214   0.0500283   0.0500283\n",
       " 6.24042e-5   6.24042e-5      0.00915104   0.0157686   0.0157686\n",
       " 0.00640955   0.00640955   …  0.0695063    0.0689119   0.0689119"
      ]
     },
     "execution_count": 57,
     "metadata": {},
     "output_type": "execute_result"
    }
   ],
   "source": [
    "reduce(hcat, pmap(x -> scan_distributed_block(r0perm, X00, x), blocks_partitions))"
   ]
  },
  {
   "cell_type": "code",
   "execution_count": 82,
   "id": "82a9048d-e1e2-42b3-a779-4683edabbc66",
   "metadata": {},
   "outputs": [
    {
     "data": {
      "text/plain": [
       "141-element Vector{UnitRange{Int64}}:\n",
       " 1:52\n",
       " 53:104\n",
       " 105:156\n",
       " 157:208\n",
       " 209:260\n",
       " 261:312\n",
       " 313:364\n",
       " 365:416\n",
       " 417:468\n",
       " 469:520\n",
       " 521:572\n",
       " 573:624\n",
       " 625:676\n",
       " ⋮\n",
       " 6709:6760\n",
       " 6761:6812\n",
       " 6813:6864\n",
       " 6865:6916\n",
       " 6917:6968\n",
       " 6969:7020\n",
       " 7021:7072\n",
       " 7073:7124\n",
       " 7125:7176\n",
       " 7177:7228\n",
       " 7229:7280\n",
       " 7281:7321"
      ]
     },
     "execution_count": 82,
     "metadata": {},
     "output_type": "execute_result"
    }
   ],
   "source": [
    "nblocks = 140;\n",
    "blocks_partitions = partition_array_indices(p, Int(floor(p/nblocks)))"
   ]
  },
  {
   "cell_type": "code",
   "execution_count": 43,
   "id": "0641c042-fe8b-426e-84de-7d6fe3e6fb75",
   "metadata": {},
   "outputs": [
    {
     "data": {
      "text/plain": [
       "BenchmarkTools.Trial: 11 samples with 1 evaluation.\n",
       " Range \u001b[90m(\u001b[39m\u001b[36m\u001b[1mmin\u001b[22m\u001b[39m … \u001b[35mmax\u001b[39m\u001b[90m):  \u001b[39m\u001b[36m\u001b[1m422.230 ms\u001b[22m\u001b[39m … \u001b[35m561.816 ms\u001b[39m  \u001b[90m┊\u001b[39m GC \u001b[90m(\u001b[39mmin … max\u001b[90m): \u001b[39m0.00% … 0.00%\n",
       " Time  \u001b[90m(\u001b[39m\u001b[34m\u001b[1mmedian\u001b[22m\u001b[39m\u001b[90m):     \u001b[39m\u001b[34m\u001b[1m443.351 ms               \u001b[22m\u001b[39m\u001b[90m┊\u001b[39m GC \u001b[90m(\u001b[39mmedian\u001b[90m):    \u001b[39m0.00%\n",
       " Time  \u001b[90m(\u001b[39m\u001b[32m\u001b[1mmean\u001b[22m\u001b[39m ± \u001b[32mσ\u001b[39m\u001b[90m):   \u001b[39m\u001b[32m\u001b[1m473.718 ms\u001b[22m\u001b[39m ± \u001b[32m 54.315 ms\u001b[39m  \u001b[90m┊\u001b[39m GC \u001b[90m(\u001b[39mmean ± σ\u001b[90m):  \u001b[39m0.19% ± 0.45%\n",
       "\n",
       "  \u001b[39m▁\u001b[39m \u001b[39m \u001b[39m█\u001b[39m \u001b[39m \u001b[39m \u001b[39m▁\u001b[39m \u001b[34m█\u001b[39m\u001b[39m \u001b[39m \u001b[39m \u001b[39m \u001b[39m \u001b[39m \u001b[39m▁\u001b[39m \u001b[39m \u001b[39m \u001b[39m \u001b[39m \u001b[39m \u001b[32m \u001b[39m\u001b[39m \u001b[39m▁\u001b[39m \u001b[39m \u001b[39m \u001b[39m \u001b[39m \u001b[39m \u001b[39m \u001b[39m \u001b[39m \u001b[39m \u001b[39m \u001b[39m \u001b[39m \u001b[39m \u001b[39m \u001b[39m \u001b[39m \u001b[39m \u001b[39m \u001b[39m \u001b[39m \u001b[39m \u001b[39m \u001b[39m \u001b[39m \u001b[39m \u001b[39m \u001b[39m \u001b[39m \u001b[39m▁\u001b[39m \u001b[39m▁\u001b[39m \u001b[39m \u001b[39m▁\u001b[39m \u001b[39m \n",
       "  \u001b[39m█\u001b[39m▁\u001b[39m▁\u001b[39m█\u001b[39m▁\u001b[39m▁\u001b[39m▁\u001b[39m█\u001b[39m▁\u001b[34m█\u001b[39m\u001b[39m▁\u001b[39m▁\u001b[39m▁\u001b[39m▁\u001b[39m▁\u001b[39m▁\u001b[39m█\u001b[39m▁\u001b[39m▁\u001b[39m▁\u001b[39m▁\u001b[39m▁\u001b[39m▁\u001b[32m▁\u001b[39m\u001b[39m▁\u001b[39m█\u001b[39m▁\u001b[39m▁\u001b[39m▁\u001b[39m▁\u001b[39m▁\u001b[39m▁\u001b[39m▁\u001b[39m▁\u001b[39m▁\u001b[39m▁\u001b[39m▁\u001b[39m▁\u001b[39m▁\u001b[39m▁\u001b[39m▁\u001b[39m▁\u001b[39m▁\u001b[39m▁\u001b[39m▁\u001b[39m▁\u001b[39m▁\u001b[39m▁\u001b[39m▁\u001b[39m▁\u001b[39m▁\u001b[39m▁\u001b[39m▁\u001b[39m▁\u001b[39m▁\u001b[39m█\u001b[39m▁\u001b[39m█\u001b[39m▁\u001b[39m▁\u001b[39m█\u001b[39m \u001b[39m▁\n",
       "  422 ms\u001b[90m           Histogram: frequency by time\u001b[39m          562 ms \u001b[0m\u001b[1m<\u001b[22m\n",
       "\n",
       " Memory estimate\u001b[90m: \u001b[39m\u001b[33m56.28 MiB\u001b[39m, allocs estimate\u001b[90m: \u001b[39m\u001b[33m9380\u001b[39m."
      ]
     },
     "execution_count": 43,
     "metadata": {},
     "output_type": "execute_result"
    }
   ],
   "source": [
    "@benchmark pmap(x -> scan_distributed_block(r0perm, X00, x), blocks_partitions)"
   ]
  },
  {
   "cell_type": "code",
   "execution_count": 84,
   "id": "30727d4d-f845-4792-a968-db6d50656bc6",
   "metadata": {},
   "outputs": [
    {
     "data": {
      "text/plain": [
       "204-element Vector{UnitRange{Int64}}:\n",
       " 1:36\n",
       " 37:72\n",
       " 73:108\n",
       " 109:144\n",
       " 145:180\n",
       " 181:216\n",
       " 217:252\n",
       " 253:288\n",
       " 289:324\n",
       " 325:360\n",
       " 361:396\n",
       " 397:432\n",
       " 433:468\n",
       " ⋮\n",
       " 6913:6948\n",
       " 6949:6984\n",
       " 6985:7020\n",
       " 7021:7056\n",
       " 7057:7092\n",
       " 7093:7128\n",
       " 7129:7164\n",
       " 7165:7200\n",
       " 7201:7236\n",
       " 7237:7272\n",
       " 7273:7308\n",
       " 7309:7321"
      ]
     },
     "execution_count": 84,
     "metadata": {},
     "output_type": "execute_result"
    }
   ],
   "source": [
    "nblocks = 200;\n",
    "blocks_partitions = partition_array_indices(p, Int(floor(p/nblocks)))"
   ]
  },
  {
   "cell_type": "code",
   "execution_count": 85,
   "id": "4bc52af4-674d-43d4-9b2f-2c15719e1a85",
   "metadata": {},
   "outputs": [
    {
     "data": {
      "text/plain": [
       "BenchmarkTools.Trial: 2 samples with 1 evaluation.\n",
       " Range \u001b[90m(\u001b[39m\u001b[36m\u001b[1mmin\u001b[22m\u001b[39m … \u001b[35mmax\u001b[39m\u001b[90m):  \u001b[39m\u001b[36m\u001b[1m4.519 s\u001b[22m\u001b[39m … \u001b[35m  4.653 s\u001b[39m  \u001b[90m┊\u001b[39m GC \u001b[90m(\u001b[39mmin … max\u001b[90m): \u001b[39m0.00% … 0.00%\n",
       " Time  \u001b[90m(\u001b[39m\u001b[34m\u001b[1mmedian\u001b[22m\u001b[39m\u001b[90m):     \u001b[39m\u001b[34m\u001b[1m4.586 s              \u001b[22m\u001b[39m\u001b[90m┊\u001b[39m GC \u001b[90m(\u001b[39mmedian\u001b[90m):    \u001b[39m0.00%\n",
       " Time  \u001b[90m(\u001b[39m\u001b[32m\u001b[1mmean\u001b[22m\u001b[39m ± \u001b[32mσ\u001b[39m\u001b[90m):   \u001b[39m\u001b[32m\u001b[1m4.586 s\u001b[22m\u001b[39m ± \u001b[32m94.796 ms\u001b[39m  \u001b[90m┊\u001b[39m GC \u001b[90m(\u001b[39mmean ± σ\u001b[90m):  \u001b[39m0.00% ± 0.00%\n",
       "\n",
       "  \u001b[34m█\u001b[39m\u001b[39m \u001b[39m \u001b[39m \u001b[39m \u001b[39m \u001b[39m \u001b[39m \u001b[39m \u001b[39m \u001b[39m \u001b[39m \u001b[39m \u001b[39m \u001b[39m \u001b[39m \u001b[39m \u001b[39m \u001b[39m \u001b[39m \u001b[39m \u001b[39m \u001b[39m \u001b[39m \u001b[39m \u001b[39m \u001b[39m \u001b[39m \u001b[32m \u001b[39m\u001b[39m \u001b[39m \u001b[39m \u001b[39m \u001b[39m \u001b[39m \u001b[39m \u001b[39m \u001b[39m \u001b[39m \u001b[39m \u001b[39m \u001b[39m \u001b[39m \u001b[39m \u001b[39m \u001b[39m \u001b[39m \u001b[39m \u001b[39m \u001b[39m \u001b[39m \u001b[39m \u001b[39m \u001b[39m \u001b[39m \u001b[39m \u001b[39m█\u001b[39m \u001b[39m \n",
       "  \u001b[34m█\u001b[39m\u001b[39m▁\u001b[39m▁\u001b[39m▁\u001b[39m▁\u001b[39m▁\u001b[39m▁\u001b[39m▁\u001b[39m▁\u001b[39m▁\u001b[39m▁\u001b[39m▁\u001b[39m▁\u001b[39m▁\u001b[39m▁\u001b[39m▁\u001b[39m▁\u001b[39m▁\u001b[39m▁\u001b[39m▁\u001b[39m▁\u001b[39m▁\u001b[39m▁\u001b[39m▁\u001b[39m▁\u001b[39m▁\u001b[39m▁\u001b[39m▁\u001b[32m▁\u001b[39m\u001b[39m▁\u001b[39m▁\u001b[39m▁\u001b[39m▁\u001b[39m▁\u001b[39m▁\u001b[39m▁\u001b[39m▁\u001b[39m▁\u001b[39m▁\u001b[39m▁\u001b[39m▁\u001b[39m▁\u001b[39m▁\u001b[39m▁\u001b[39m▁\u001b[39m▁\u001b[39m▁\u001b[39m▁\u001b[39m▁\u001b[39m▁\u001b[39m▁\u001b[39m▁\u001b[39m▁\u001b[39m▁\u001b[39m▁\u001b[39m▁\u001b[39m█\u001b[39m \u001b[39m▁\n",
       "  4.52 s\u001b[90m         Histogram: frequency by time\u001b[39m        4.65 s \u001b[0m\u001b[1m<\u001b[22m\n",
       "\n",
       " Memory estimate\u001b[90m: \u001b[39m\u001b[33m56.64 MiB\u001b[39m, allocs estimate\u001b[90m: \u001b[39m\u001b[33m20904\u001b[39m."
      ]
     },
     "execution_count": 85,
     "metadata": {},
     "output_type": "execute_result"
    }
   ],
   "source": [
    "@benchmark pmap(x -> scan_distributed_block(r0perm, X00, x), blocks_partitions)"
   ]
  },
  {
   "cell_type": "code",
   "execution_count": 86,
   "id": "7b4a5aba-6807-4314-9300-b2ad17932883",
   "metadata": {},
   "outputs": [
    {
     "data": {
      "text/plain": [
       "732"
      ]
     },
     "execution_count": 86,
     "metadata": {},
     "output_type": "execute_result"
    }
   ],
   "source": [
    "Int(floor(p/10))"
   ]
  },
  {
   "cell_type": "code",
   "execution_count": 87,
   "id": "4586d680-b73c-4506-b8b5-0eb6c09e9976",
   "metadata": {},
   "outputs": [
    {
     "data": {
      "text/plain": [
       "11-element Vector{UnitRange{Int64}}:\n",
       " 1:732\n",
       " 733:1464\n",
       " 1465:2196\n",
       " 2197:2928\n",
       " 2929:3660\n",
       " 3661:4392\n",
       " 4393:5124\n",
       " 5125:5856\n",
       " 5857:6588\n",
       " 6589:7320\n",
       " 7321:7321"
      ]
     },
     "execution_count": 87,
     "metadata": {},
     "output_type": "execute_result"
    }
   ],
   "source": [
    "partition_array_indices(p, 732)"
   ]
  },
  {
   "cell_type": "markdown",
   "id": "76e7e55e-1a76-480a-82ca-7172524f4cfc",
   "metadata": {},
   "source": [
    "## Miscellaneous:"
   ]
  },
  {
   "cell_type": "code",
   "execution_count": 24,
   "id": "274630a3-5571-4286-a348-67c545e3995e",
   "metadata": {},
   "outputs": [],
   "source": [
    "# Pkg.add(\"ParallelDataTransfer\");"
   ]
  },
  {
   "cell_type": "code",
   "execution_count": 48,
   "id": "0bd3d8ec-f179-4b9f-87bd-03ced5eddb30",
   "metadata": {},
   "outputs": [
    {
     "data": {
      "text/plain": [
       "distribute_by_nperms (generic function with 1 method)"
      ]
     },
     "execution_count": 48,
     "metadata": {},
     "output_type": "execute_result"
    }
   ],
   "source": [
    "include(\"../src/scan.jl\")"
   ]
  },
  {
   "cell_type": "code",
   "execution_count": 49,
   "id": "e9022428-c164-4292-a798-6409c1aecdc2",
   "metadata": {},
   "outputs": [],
   "source": [
    "# addprocs(4)"
   ]
  },
  {
   "cell_type": "code",
   "execution_count": 50,
   "id": "f0973e38-2776-4e0d-8eb1-6b9c1ac36845",
   "metadata": {},
   "outputs": [],
   "source": [
    "@everywhere begin\n",
    "    using Random\n",
    "    using LinearAlgebra\n",
    "    using Optim\n",
    "    using Distributed\n",
    "    \n",
    "    ## Include the source code of BulkLMM to be tested:\n",
    "    include(\"../src/scan.jl\");\n",
    "    include(\"../src/lmm.jl\");\n",
    "    include(\"../src/wls.jl\");\n",
    "    include(\"../src/util.jl\");\n",
    "    include(\"../src/kinship.jl\");\n",
    "    include(\"../src/readData.jl\");\n",
    "    include(\"../src/scan_for_tests.jl\")\n",
    "    include(\"../src/scan_distributed.jl\")\n",
    "\n",
    "end"
   ]
  },
  {
   "cell_type": "code",
   "execution_count": 51,
   "id": "d1469910-acb7-4406-913a-fc258933ed23",
   "metadata": {},
   "outputs": [],
   "source": [
    "@everywhere include(\"../src/parallel_helpers.jl\")"
   ]
  },
  {
   "cell_type": "code",
   "execution_count": 52,
   "id": "af518906-7328-4933-9a6f-8f49089d5b0e",
   "metadata": {},
   "outputs": [
    {
     "data": {
      "text/plain": [
       "1000-element Vector{UnitRange{Int64}}:\n",
       " 1:7\n",
       " 8:14\n",
       " 15:21\n",
       " 22:28\n",
       " 29:35\n",
       " 36:42\n",
       " 43:49\n",
       " 50:56\n",
       " 57:63\n",
       " 64:70\n",
       " 71:77\n",
       " 78:84\n",
       " 85:91\n",
       " ⋮\n",
       " 6917:6923\n",
       " 6924:6930\n",
       " 6931:6937\n",
       " 6938:6944\n",
       " 6945:6951\n",
       " 6952:6958\n",
       " 6959:6965\n",
       " 6966:6972\n",
       " 6973:6979\n",
       " 6980:6986\n",
       " 6987:6993\n",
       " 6994:7321"
      ]
     },
     "execution_count": 52,
     "metadata": {},
     "output_type": "execute_result"
    }
   ],
   "source": [
    "createBlocks(7321, 1000)"
   ]
  },
  {
   "cell_type": "code",
   "execution_count": 65,
   "id": "d21931a3-b964-4502-96a4-006f16a9e735",
   "metadata": {},
   "outputs": [
    {
     "data": {
      "text/plain": [
       "8-element Vector{UnitRange{Int64}}:\n",
       " 1:1000\n",
       " 1001:2000\n",
       " 2001:3000\n",
       " 3001:4000\n",
       " 4001:5000\n",
       " 5001:6000\n",
       " 6001:7000\n",
       " 7001:7321"
      ]
     },
     "execution_count": 65,
     "metadata": {},
     "output_type": "execute_result"
    }
   ],
   "source": [
    "createBlocks2(7321, 1000)"
   ]
  },
  {
   "cell_type": "code",
   "execution_count": 54,
   "id": "2635d31d-e24a-45fb-b5a0-82da007c2028",
   "metadata": {},
   "outputs": [
    {
     "data": {
      "text/plain": [
       "11-element Vector{Int64}:\n",
       "  1\n",
       " 10\n",
       " 11\n",
       " 12\n",
       " 13\n",
       " 14\n",
       " 15\n",
       " 16\n",
       " 17\n",
       " 18\n",
       " 19"
      ]
     },
     "execution_count": 54,
     "metadata": {},
     "output_type": "execute_result"
    }
   ],
   "source": [
    "procs()"
   ]
  },
  {
   "cell_type": "code",
   "execution_count": 63,
   "id": "ae8cc892-5cba-412f-ae7c-55a39d777f9b",
   "metadata": {},
   "outputs": [
    {
     "data": {
      "text/plain": [
       "1001×7321 Matrix{Float64}:\n",
       " 0.00819636   0.00819636   …  0.0449878    0.0128283   0.0128283\n",
       " 0.604956     0.604956        1.33928      1.29426     1.29426\n",
       " 0.0264842    0.0264842       0.16927      0.069518    0.069518\n",
       " 0.00585467   0.00585467      0.589608     0.14854     0.14854\n",
       " 0.477297     0.477297        0.0317133    0.0625366   0.0625366\n",
       " 0.140293     0.140293     …  0.0400303    0.0338204   0.0338204\n",
       " 0.45141      0.45141         0.459152     0.278652    0.278652\n",
       " 0.179818     0.179818        0.0430329    0.0218039   0.0218039\n",
       " 0.213351     0.213351        0.179031     0.193549    0.193549\n",
       " 0.0250041    0.0250041       0.0679043    0.00622826  0.00622826\n",
       " 0.801668     0.801668     …  0.42936      0.123412    0.123412\n",
       " 0.0351507    0.0351507       0.296432     0.0480549   0.0480549\n",
       " 0.053255     0.053255        0.281489     0.11254     0.11254\n",
       " ⋮                         ⋱                           ⋮\n",
       " 0.104779     0.104779        0.159406     0.0806087   0.0806087\n",
       " 0.552277     0.552277     …  0.0646045    0.141889    0.141889\n",
       " 0.139783     0.139783        0.439375     0.441454    0.441454\n",
       " 0.112876     0.112876        0.35686      0.280429    0.280429\n",
       " 0.00631154   0.00631154      0.00726865   0.0104656   0.0104656\n",
       " 0.318243     0.318243        0.19142      0.199141    0.199141\n",
       " 0.208951     0.208951     …  0.411456     0.289409    0.289409\n",
       " 0.000193035  0.000193035     0.0746521    0.0573068   0.0573068\n",
       " 0.00138088   0.00138088      0.000746908  0.0950779   0.0950779\n",
       " 0.0437531    0.0437531       0.00567214   0.0500283   0.0500283\n",
       " 6.24042e-5   6.24042e-5      0.00915104   0.0157686   0.0157686\n",
       " 0.00640955   0.00640955   …  0.0695063    0.0689119   0.0689119"
      ]
     },
     "execution_count": 63,
     "metadata": {},
     "output_type": "execute_result"
    }
   ],
   "source": [
    "scan_perms_distributed(pheno_y, geno, kinship; reml = false, nperms = 1000, rndseed = 0, original = true, \n",
    "    option = \"by blocks\", nblocks = 1000)"
   ]
  },
  {
   "cell_type": "code",
   "execution_count": 64,
   "id": "88103e85-da86-42ec-adb4-5a06777d0b63",
   "metadata": {},
   "outputs": [
    {
     "data": {
      "text/plain": [
       "1001×7321 Matrix{Float64}:\n",
       " 0.00819636  0.00819636  0.00819636  0.00819636  …  0.0128283    0.0128283\n",
       " 0.27209     0.27209     0.27209     0.27209        0.0322812    0.0322812\n",
       " 0.00179681  0.00179681  0.00179681  0.00179681     0.0802721    0.0802721\n",
       " 0.869349    0.869349    0.869349    0.869349       0.110376     0.110376\n",
       " 0.00256127  0.00256127  0.00256127  0.00256127     0.894692     0.894692\n",
       " 0.129985    0.129985    0.129985    0.129985    …  0.253105     0.253105\n",
       " 0.171746    0.171746    0.171746    0.171746       0.185423     0.185423\n",
       " 0.0195727   0.0195727   0.0195727   0.0195727      0.217267     0.217267\n",
       " 0.112309    0.112309    0.112309    0.112309       0.347915     0.347915\n",
       " 0.156188    0.156188    0.156188    0.156188       0.000510834  0.000510834\n",
       " 0.326637    0.326637    0.326637    0.326637    …  0.962135     0.962135\n",
       " 0.32494     0.32494     0.32494     0.32494        0.348019     0.348019\n",
       " 0.285773    0.285773    0.285773    0.285773       0.24345      0.24345\n",
       " ⋮                                               ⋱               ⋮\n",
       " 0.49641     0.49641     0.49641     0.49641        0.0235569    0.0235569\n",
       " 0.632167    0.632167    0.632167    0.632167    …  6.14038e-6   6.14038e-6\n",
       " 0.00471127  0.00471127  0.00471127  0.00471127     0.0747946    0.0747946\n",
       " 0.0628444   0.0628444   0.0628444   0.0628444      0.0703943    0.0703943\n",
       " 0.0203526   0.0203526   0.0203526   0.0203526      0.0482505    0.0482505\n",
       " 2.53239e-5  2.53239e-5  2.53239e-5  2.53239e-5     0.0889951    0.0889951\n",
       " 0.566619    0.566619    0.566619    0.566619    …  0.08531      0.08531\n",
       " 0.099137    0.099137    0.099137    0.099137       0.135868     0.135868\n",
       " 0.0022596   0.0022596   0.0022596   0.0022596      0.588676     0.588676\n",
       " 0.00921069  0.00921069  0.00921069  0.00921069     0.0281026    0.0281026\n",
       " 0.0321142   0.0321142   0.0321142   0.0321142      1.04603      1.04603\n",
       " 0.517392    0.517392    0.517392    0.517392    …  0.187448     0.187448"
      ]
     },
     "execution_count": 64,
     "metadata": {},
     "output_type": "execute_result"
    }
   ],
   "source": [
    "scan_perms_distributed(pheno_y, geno, kinship; reml = false, nperms = 1000, original = true, \n",
    "    option = \"by nperms\", ncopies = 10)"
   ]
  },
  {
   "cell_type": "code",
   "execution_count": 58,
   "id": "e2ddd6f0-8e83-4db3-9108-66fd87627cc0",
   "metadata": {},
   "outputs": [
    {
     "data": {
      "text/plain": [
       "BenchmarkTools.Trial: 4 samples with 1 evaluation.\n",
       " Range \u001b[90m(\u001b[39m\u001b[36m\u001b[1mmin\u001b[22m\u001b[39m … \u001b[35mmax\u001b[39m\u001b[90m):  \u001b[39m\u001b[36m\u001b[1m1.532 s\u001b[22m\u001b[39m … \u001b[35m  1.728 s\u001b[39m  \u001b[90m┊\u001b[39m GC \u001b[90m(\u001b[39mmin … max\u001b[90m): \u001b[39m0.00% … 0.00%\n",
       " Time  \u001b[90m(\u001b[39m\u001b[34m\u001b[1mmedian\u001b[22m\u001b[39m\u001b[90m):     \u001b[39m\u001b[34m\u001b[1m1.540 s              \u001b[22m\u001b[39m\u001b[90m┊\u001b[39m GC \u001b[90m(\u001b[39mmedian\u001b[90m):    \u001b[39m0.00%\n",
       " Time  \u001b[90m(\u001b[39m\u001b[32m\u001b[1mmean\u001b[22m\u001b[39m ± \u001b[32mσ\u001b[39m\u001b[90m):   \u001b[39m\u001b[32m\u001b[1m1.585 s\u001b[22m\u001b[39m ± \u001b[32m95.774 ms\u001b[39m  \u001b[90m┊\u001b[39m GC \u001b[90m(\u001b[39mmean ± σ\u001b[90m):  \u001b[39m0.25% ± 0.51%\n",
       "\n",
       "  \u001b[39m█\u001b[34m█\u001b[39m\u001b[39m \u001b[39m█\u001b[39m \u001b[39m \u001b[39m \u001b[39m \u001b[39m \u001b[39m \u001b[39m \u001b[39m \u001b[39m \u001b[39m \u001b[39m \u001b[32m \u001b[39m\u001b[39m \u001b[39m \u001b[39m \u001b[39m \u001b[39m \u001b[39m \u001b[39m \u001b[39m \u001b[39m \u001b[39m \u001b[39m \u001b[39m \u001b[39m \u001b[39m \u001b[39m \u001b[39m \u001b[39m \u001b[39m \u001b[39m \u001b[39m \u001b[39m \u001b[39m \u001b[39m \u001b[39m \u001b[39m \u001b[39m \u001b[39m \u001b[39m \u001b[39m \u001b[39m \u001b[39m \u001b[39m \u001b[39m \u001b[39m \u001b[39m \u001b[39m \u001b[39m \u001b[39m \u001b[39m \u001b[39m \u001b[39m█\u001b[39m \u001b[39m \n",
       "  \u001b[39m█\u001b[34m█\u001b[39m\u001b[39m▁\u001b[39m█\u001b[39m▁\u001b[39m▁\u001b[39m▁\u001b[39m▁\u001b[39m▁\u001b[39m▁\u001b[39m▁\u001b[39m▁\u001b[39m▁\u001b[39m▁\u001b[39m▁\u001b[32m▁\u001b[39m\u001b[39m▁\u001b[39m▁\u001b[39m▁\u001b[39m▁\u001b[39m▁\u001b[39m▁\u001b[39m▁\u001b[39m▁\u001b[39m▁\u001b[39m▁\u001b[39m▁\u001b[39m▁\u001b[39m▁\u001b[39m▁\u001b[39m▁\u001b[39m▁\u001b[39m▁\u001b[39m▁\u001b[39m▁\u001b[39m▁\u001b[39m▁\u001b[39m▁\u001b[39m▁\u001b[39m▁\u001b[39m▁\u001b[39m▁\u001b[39m▁\u001b[39m▁\u001b[39m▁\u001b[39m▁\u001b[39m▁\u001b[39m▁\u001b[39m▁\u001b[39m▁\u001b[39m▁\u001b[39m▁\u001b[39m▁\u001b[39m▁\u001b[39m▁\u001b[39m▁\u001b[39m█\u001b[39m \u001b[39m▁\n",
       "  1.53 s\u001b[90m         Histogram: frequency by time\u001b[39m        1.73 s \u001b[0m\u001b[1m<\u001b[22m\n",
       "\n",
       " Memory estimate\u001b[90m: \u001b[39m\u001b[33m142.61 MiB\u001b[39m, allocs estimate\u001b[90m: \u001b[39m\u001b[33m63727\u001b[39m."
      ]
     },
     "execution_count": 58,
     "metadata": {},
     "output_type": "execute_result"
    }
   ],
   "source": [
    "@benchmark scan_perms_distributed(pheno_y, geno, kinship; reml = false, nperms = 1000, rndseed = 0, original = true, \n",
    "    option = \"by blocks\", nblocks = 10)"
   ]
  },
  {
   "cell_type": "code",
   "execution_count": 62,
   "id": "f1f8f1b5-61b9-4325-b09d-a612a810d033",
   "metadata": {},
   "outputs": [
    {
     "data": {
      "text/plain": [
       "BenchmarkTools.Trial: 7 samples with 1 evaluation.\n",
       " Range \u001b[90m(\u001b[39m\u001b[36m\u001b[1mmin\u001b[22m\u001b[39m … \u001b[35mmax\u001b[39m\u001b[90m):  \u001b[39m\u001b[36m\u001b[1m590.534 ms\u001b[22m\u001b[39m … \u001b[35m827.203 ms\u001b[39m  \u001b[90m┊\u001b[39m GC \u001b[90m(\u001b[39mmin … max\u001b[90m): \u001b[39m0.00% … 2.82%\n",
       " Time  \u001b[90m(\u001b[39m\u001b[34m\u001b[1mmedian\u001b[22m\u001b[39m\u001b[90m):     \u001b[39m\u001b[34m\u001b[1m776.620 ms               \u001b[22m\u001b[39m\u001b[90m┊\u001b[39m GC \u001b[90m(\u001b[39mmedian\u001b[90m):    \u001b[39m0.00%\n",
       " Time  \u001b[90m(\u001b[39m\u001b[32m\u001b[1mmean\u001b[22m\u001b[39m ± \u001b[32mσ\u001b[39m\u001b[90m):   \u001b[39m\u001b[32m\u001b[1m753.427 ms\u001b[22m\u001b[39m ± \u001b[32m 76.261 ms\u001b[39m  \u001b[90m┊\u001b[39m GC \u001b[90m(\u001b[39mmean ± σ\u001b[90m):  \u001b[39m0.54% ± 1.05%\n",
       "\n",
       "  \u001b[39m▁\u001b[39m \u001b[39m \u001b[39m \u001b[39m \u001b[39m \u001b[39m \u001b[39m \u001b[39m \u001b[39m \u001b[39m \u001b[39m \u001b[39m \u001b[39m \u001b[39m \u001b[39m \u001b[39m \u001b[39m \u001b[39m \u001b[39m \u001b[39m \u001b[39m \u001b[39m \u001b[39m \u001b[39m \u001b[39m \u001b[39m \u001b[39m \u001b[39m \u001b[39m \u001b[39m \u001b[39m \u001b[39m \u001b[39m \u001b[39m \u001b[39m \u001b[39m \u001b[39m \u001b[39m \u001b[39m \u001b[39m \u001b[39m█\u001b[34m \u001b[39m\u001b[39m \u001b[39m \u001b[39m \u001b[39m \u001b[39m▁\u001b[39m▁\u001b[39m \u001b[39m \u001b[39m \u001b[39m▁\u001b[39m \u001b[39m \u001b[39m \u001b[39m \u001b[39m \u001b[39m \u001b[39m \u001b[39m▁\u001b[39m \u001b[39m \n",
       "  \u001b[39m█\u001b[39m▁\u001b[39m▁\u001b[39m▁\u001b[39m▁\u001b[39m▁\u001b[39m▁\u001b[39m▁\u001b[39m▁\u001b[39m▁\u001b[39m▁\u001b[39m▁\u001b[39m▁\u001b[39m▁\u001b[39m▁\u001b[39m▁\u001b[39m▁\u001b[39m▁\u001b[39m▁\u001b[39m▁\u001b[39m▁\u001b[39m▁\u001b[39m▁\u001b[39m▁\u001b[39m▁\u001b[39m▁\u001b[39m▁\u001b[39m▁\u001b[39m▁\u001b[39m▁\u001b[39m▁\u001b[39m▁\u001b[39m▁\u001b[39m▁\u001b[39m▁\u001b[39m▁\u001b[39m▁\u001b[39m▁\u001b[39m▁\u001b[39m▁\u001b[39m▁\u001b[39m█\u001b[34m▁\u001b[39m\u001b[39m▁\u001b[39m▁\u001b[39m▁\u001b[39m▁\u001b[39m█\u001b[39m█\u001b[39m▁\u001b[39m▁\u001b[39m▁\u001b[39m█\u001b[39m▁\u001b[39m▁\u001b[39m▁\u001b[39m▁\u001b[39m▁\u001b[39m▁\u001b[39m▁\u001b[39m█\u001b[39m \u001b[39m▁\n",
       "  591 ms\u001b[90m           Histogram: frequency by time\u001b[39m          827 ms \u001b[0m\u001b[1m<\u001b[22m\n",
       "\n",
       " Memory estimate\u001b[90m: \u001b[39m\u001b[33m140.10 MiB\u001b[39m, allocs estimate\u001b[90m: \u001b[39m\u001b[33m2354\u001b[39m."
      ]
     },
     "execution_count": 62,
     "metadata": {},
     "output_type": "execute_result"
    }
   ],
   "source": [
    "@benchmark scan_perms_distributed(pheno_y, geno, kinship; reml = false, nperms = 1000, rndseed = 0, original = true, \n",
    "    option = \"by blocks\", nblocks = 1000)"
   ]
  },
  {
   "cell_type": "code",
   "execution_count": 88,
   "id": "093b3771-eacb-494b-9d2c-477510f03949",
   "metadata": {},
   "outputs": [
    {
     "data": {
      "text/plain": [
       "79"
      ]
     },
     "execution_count": 88,
     "metadata": {},
     "output_type": "execute_result"
    }
   ],
   "source": [
    "n = size(y0, 1)"
   ]
  },
  {
   "cell_type": "code",
   "execution_count": 89,
   "id": "bb13ae51-891e-40a9-8275-a633b33c8d40",
   "metadata": {},
   "outputs": [],
   "source": [
    "Loops_y0 = Array{Float64, 2}(undef, n, 10);"
   ]
  },
  {
   "cell_type": "code",
   "execution_count": 90,
   "id": "f165bce8-1113-440c-9ea3-30ddbc63c4a0",
   "metadata": {},
   "outputs": [],
   "source": [
    "for i = 1:10\n",
    "    Loops_y0[:, i] = rotateData(pheno_y, geno, kinship)[1]\n",
    "end\n",
    "\n",
    "first_col = Loops_y0[:, 1];"
   ]
  },
  {
   "cell_type": "code",
   "execution_count": 91,
   "id": "d55188a7-55db-46db-8a9c-6af98c187b0c",
   "metadata": {},
   "outputs": [],
   "source": [
    "test_list = mapslices(x -> x .- first_col, Loops_y0; dims = 1);"
   ]
  },
  {
   "cell_type": "code",
   "execution_count": 92,
   "id": "3810b6c6-a965-4eff-81da-e1d50c8f9ccf",
   "metadata": {},
   "outputs": [
    {
     "data": {
      "text/plain": [
       "79×10 Matrix{Float64}:\n",
       " 0.0  0.0  0.0  0.0  0.0  0.0  0.0  0.0  0.0  0.0\n",
       " 0.0  0.0  0.0  0.0  0.0  0.0  0.0  0.0  0.0  0.0\n",
       " 0.0  0.0  0.0  0.0  0.0  0.0  0.0  0.0  0.0  0.0\n",
       " 0.0  0.0  0.0  0.0  0.0  0.0  0.0  0.0  0.0  0.0\n",
       " 0.0  0.0  0.0  0.0  0.0  0.0  0.0  0.0  0.0  0.0\n",
       " 0.0  0.0  0.0  0.0  0.0  0.0  0.0  0.0  0.0  0.0\n",
       " 0.0  0.0  0.0  0.0  0.0  0.0  0.0  0.0  0.0  0.0\n",
       " 0.0  0.0  0.0  0.0  0.0  0.0  0.0  0.0  0.0  0.0\n",
       " 0.0  0.0  0.0  0.0  0.0  0.0  0.0  0.0  0.0  0.0\n",
       " 0.0  0.0  0.0  0.0  0.0  0.0  0.0  0.0  0.0  0.0\n",
       " 0.0  0.0  0.0  0.0  0.0  0.0  0.0  0.0  0.0  0.0\n",
       " 0.0  0.0  0.0  0.0  0.0  0.0  0.0  0.0  0.0  0.0\n",
       " 0.0  0.0  0.0  0.0  0.0  0.0  0.0  0.0  0.0  0.0\n",
       " ⋮                        ⋮                   \n",
       " 0.0  0.0  0.0  0.0  0.0  0.0  0.0  0.0  0.0  0.0\n",
       " 0.0  0.0  0.0  0.0  0.0  0.0  0.0  0.0  0.0  0.0\n",
       " 0.0  0.0  0.0  0.0  0.0  0.0  0.0  0.0  0.0  0.0\n",
       " 0.0  0.0  0.0  0.0  0.0  0.0  0.0  0.0  0.0  0.0\n",
       " 0.0  0.0  0.0  0.0  0.0  0.0  0.0  0.0  0.0  0.0\n",
       " 0.0  0.0  0.0  0.0  0.0  0.0  0.0  0.0  0.0  0.0\n",
       " 0.0  0.0  0.0  0.0  0.0  0.0  0.0  0.0  0.0  0.0\n",
       " 0.0  0.0  0.0  0.0  0.0  0.0  0.0  0.0  0.0  0.0\n",
       " 0.0  0.0  0.0  0.0  0.0  0.0  0.0  0.0  0.0  0.0\n",
       " 0.0  0.0  0.0  0.0  0.0  0.0  0.0  0.0  0.0  0.0\n",
       " 0.0  0.0  0.0  0.0  0.0  0.0  0.0  0.0  0.0  0.0\n",
       " 0.0  0.0  0.0  0.0  0.0  0.0  0.0  0.0  0.0  0.0"
      ]
     },
     "execution_count": 92,
     "metadata": {},
     "output_type": "execute_result"
    }
   ],
   "source": [
    "test_list"
   ]
  },
  {
   "cell_type": "code",
   "execution_count": 93,
   "id": "186d4346-77c6-41aa-916a-588eb30cc474",
   "metadata": {},
   "outputs": [
    {
     "data": {
      "text/plain": [
       "3-element Vector{Int64}:\n",
       " 1\n",
       " 2\n",
       " 3"
      ]
     },
     "execution_count": 93,
     "metadata": {},
     "output_type": "execute_result"
    }
   ],
   "source": [
    "# addprocs(7);\n",
    "procs()"
   ]
  },
  {
   "cell_type": "code",
   "execution_count": 94,
   "id": "a4e58112-4bc8-451a-939f-84f5d48c7869",
   "metadata": {},
   "outputs": [],
   "source": [
    "@everywhere begin\n",
    "    using Random\n",
    "    using LinearAlgebra\n",
    "    using Optim\n",
    "    using DelimitedFiles\n",
    "    \n",
    "    ## Include the source code of BulkLMM to be tested:\n",
    "    include(\"../src/scan.jl\");\n",
    "    include(\"../src/lmm.jl\");\n",
    "    include(\"../src/wls.jl\");\n",
    "    include(\"../src/util.jl\");\n",
    "    include(\"../src/kinship.jl\");\n",
    "    include(\"../src/readData.jl\");\n",
    "    include(\"../src/scan_for_tests.jl\")\n",
    "    include(\"../src/scan_distributed.jl\")\n",
    "\n",
    "end"
   ]
  },
  {
   "cell_type": "code",
   "execution_count": 95,
   "id": "946810d5-3940-4ea9-af22-5e0381b15f97",
   "metadata": {},
   "outputs": [],
   "source": [
    "@everywhere begin \n",
    "    pheno_file = \"../data/bxdData/BXDtraits.csv\"\n",
    "    pheno = readBXDpheno(pheno_file);\n",
    "    geno_file = \"../data/bxdData/BXDgeno_prob.csv\"\n",
    "    geno = readGenoProb_ExcludeComplements(geno_file);\n",
    "\n",
    "    kinship = calcKinship(geno); # calculate kinship matrix from genotype data\n",
    "end"
   ]
  },
  {
   "cell_type": "code",
   "execution_count": 96,
   "id": "b92e495f-4b8d-4918-a356-9f3ad38b91da",
   "metadata": {},
   "outputs": [
    {
     "data": {
      "text/plain": [
       "3-element Vector{Int64}:\n",
       " 1\n",
       " 2\n",
       " 3"
      ]
     },
     "execution_count": 96,
     "metadata": {},
     "output_type": "execute_result"
    }
   ],
   "source": [
    "procs()"
   ]
  },
  {
   "cell_type": "code",
   "execution_count": 97,
   "id": "55b94089-413c-4d9a-9390-0659540848f8",
   "metadata": {},
   "outputs": [],
   "source": [
    "# rmprocs([2, 3, 4, 5, 6, 7, 8, 9, 10])"
   ]
  },
  {
   "cell_type": "code",
   "execution_count": 98,
   "id": "04c55e2e-9a2f-4426-a373-eb9aa2ef483b",
   "metadata": {},
   "outputs": [],
   "source": [
    "disLoops_y0 = @distributed (hcat) for i = 1:10\n",
    "    rotateData(pheno_y, geno, kinship)[1]\n",
    "end\n",
    "\n",
    "first_dis_col = disLoops_y0[:, 1];\n"
   ]
  },
  {
   "cell_type": "code",
   "execution_count": 99,
   "id": "f87da9cb-a31a-426a-b46e-9f3f227b050d",
   "metadata": {},
   "outputs": [
    {
     "data": {
      "text/plain": [
       "79×10 Matrix{Float64}:\n",
       " 0.0  0.0  0.0  0.0  0.0  0.0  0.0  0.0  0.0  0.0\n",
       " 0.0  0.0  0.0  0.0  0.0  0.0  0.0  0.0  0.0  0.0\n",
       " 0.0  0.0  0.0  0.0  0.0  0.0  0.0  0.0  0.0  0.0\n",
       " 0.0  0.0  0.0  0.0  0.0  0.0  0.0  0.0  0.0  0.0\n",
       " 0.0  0.0  0.0  0.0  0.0  0.0  0.0  0.0  0.0  0.0\n",
       " 0.0  0.0  0.0  0.0  0.0  0.0  0.0  0.0  0.0  0.0\n",
       " 0.0  0.0  0.0  0.0  0.0  0.0  0.0  0.0  0.0  0.0\n",
       " 0.0  0.0  0.0  0.0  0.0  0.0  0.0  0.0  0.0  0.0\n",
       " 0.0  0.0  0.0  0.0  0.0  0.0  0.0  0.0  0.0  0.0\n",
       " 0.0  0.0  0.0  0.0  0.0  0.0  0.0  0.0  0.0  0.0\n",
       " 0.0  0.0  0.0  0.0  0.0  0.0  0.0  0.0  0.0  0.0\n",
       " 0.0  0.0  0.0  0.0  0.0  0.0  0.0  0.0  0.0  0.0\n",
       " 0.0  0.0  0.0  0.0  0.0  0.0  0.0  0.0  0.0  0.0\n",
       " ⋮                        ⋮                   \n",
       " 0.0  0.0  0.0  0.0  0.0  0.0  0.0  0.0  0.0  0.0\n",
       " 0.0  0.0  0.0  0.0  0.0  0.0  0.0  0.0  0.0  0.0\n",
       " 0.0  0.0  0.0  0.0  0.0  0.0  0.0  0.0  0.0  0.0\n",
       " 0.0  0.0  0.0  0.0  0.0  0.0  0.0  0.0  0.0  0.0\n",
       " 0.0  0.0  0.0  0.0  0.0  0.0  0.0  0.0  0.0  0.0\n",
       " 0.0  0.0  0.0  0.0  0.0  0.0  0.0  0.0  0.0  0.0\n",
       " 0.0  0.0  0.0  0.0  0.0  0.0  0.0  0.0  0.0  0.0\n",
       " 0.0  0.0  0.0  0.0  0.0  0.0  0.0  0.0  0.0  0.0\n",
       " 0.0  0.0  0.0  0.0  0.0  0.0  0.0  0.0  0.0  0.0\n",
       " 0.0  0.0  0.0  0.0  0.0  0.0  0.0  0.0  0.0  0.0\n",
       " 0.0  0.0  0.0  0.0  0.0  0.0  0.0  0.0  0.0  0.0\n",
       " 0.0  0.0  0.0  0.0  0.0  0.0  0.0  0.0  0.0  0.0"
      ]
     },
     "execution_count": 99,
     "metadata": {},
     "output_type": "execute_result"
    }
   ],
   "source": [
    "test_dis_list = mapslices(x -> x .- first_dis_col, disLoops_y0; dims = 1);\n",
    "test_dis_list"
   ]
  },
  {
   "cell_type": "code",
   "execution_count": 100,
   "id": "c6e7e522-5fff-46d1-b442-83679e1a1239",
   "metadata": {},
   "outputs": [
    {
     "ename": "LoadError",
     "evalue": "UndefVarError: pmaps_y0 not defined",
     "output_type": "error",
     "traceback": [
      "UndefVarError: pmaps_y0 not defined",
      "",
      "Stacktrace:",
      " [1] top-level scope",
      "   @ :0",
      " [2] eval",
      "   @ ./boot.jl:360 [inlined]",
      " [3] include_string(mapexpr::typeof(REPL.softscope), mod::Module, code::String, filename::String)",
      "   @ Base ./loading.jl:1116"
     ]
    }
   ],
   "source": [
    "pmaps_y0"
   ]
  },
  {
   "cell_type": "code",
   "execution_count": 101,
   "id": "b101bb2b-f881-47f5-af95-20031f4393f8",
   "metadata": {},
   "outputs": [
    {
     "data": {
      "text/plain": [
       "15×6 Matrix{Float64}:\n",
       " -0.154545     -0.154545     -0.154545     …  -0.154545     -0.154545\n",
       " -0.535436     -0.535436     -0.535436        -0.535436     -0.535436\n",
       "  0.533096      0.533096      0.533096         0.533096      0.533096\n",
       " -0.369575     -0.369575     -0.369575        -0.369575     -0.369575\n",
       "  0.593334      0.593334      0.593334         0.593334      0.593334\n",
       "  0.158392      0.158392      0.158392     …   0.158392      0.158392\n",
       "  0.185084      0.185084      0.185084         0.185084      0.185084\n",
       " -0.0298419    -0.0298419    -0.0298419       -0.0298419    -0.0298419\n",
       " -0.340062     -0.340062     -0.340062        -0.340062     -0.340062\n",
       " -0.348007     -0.348007     -0.348007        -0.348007     -0.348007\n",
       "  0.000307749   0.000307749   0.000307749  …   0.000307749   0.000307749\n",
       "  0.101604      0.101604      0.101604         0.101604      0.101604\n",
       " -0.0267104    -0.0267104    -0.0267104       -0.0267104    -0.0267104\n",
       "  0.236609      0.236609      0.236609         0.236609      0.236609\n",
       " -0.481962     -0.481962     -0.481962        -0.481962     -0.481962"
      ]
     },
     "execution_count": 101,
     "metadata": {},
     "output_type": "execute_result"
    }
   ],
   "source": [
    "Loops_y0[1:15, 1:6]"
   ]
  },
  {
   "cell_type": "code",
   "execution_count": 102,
   "id": "f2aa9c07-eef9-4afe-b606-6995796cc30e",
   "metadata": {},
   "outputs": [
    {
     "data": {
      "text/plain": [
       "15×6 Matrix{Float64}:\n",
       " -0.154545     -0.154545     -0.154545     …  -0.154545     -0.154545\n",
       " -0.535436     -0.535436     -0.535436        -0.535436     -0.535436\n",
       " -0.533096     -0.533096     -0.533096        -0.533096     -0.533096\n",
       " -0.369575     -0.369575     -0.369575        -0.369575     -0.369575\n",
       "  0.593334      0.593334      0.593334         0.593334      0.593334\n",
       "  0.158392      0.158392      0.158392     …   0.158392      0.158392\n",
       " -0.185084     -0.185084     -0.185084        -0.185084     -0.185084\n",
       "  0.0298419     0.0298419     0.0298419        0.0298419     0.0298419\n",
       " -0.340062     -0.340062     -0.340062        -0.340062     -0.340062\n",
       " -0.348007     -0.348007     -0.348007        -0.348007     -0.348007\n",
       "  0.000307749   0.000307749   0.000307749  …   0.000307749   0.000307749\n",
       "  0.101604      0.101604      0.101604         0.101604      0.101604\n",
       "  0.0267104     0.0267104     0.0267104        0.0267104     0.0267104\n",
       " -0.236609     -0.236609     -0.236609        -0.236609     -0.236609\n",
       " -0.481962     -0.481962     -0.481962        -0.481962     -0.481962"
      ]
     },
     "execution_count": 102,
     "metadata": {},
     "output_type": "execute_result"
    }
   ],
   "source": [
    "disLoops_y0[1:15, 1:6]"
   ]
  },
  {
   "cell_type": "code",
   "execution_count": 103,
   "id": "d466472f-37d6-4b7b-9205-d8ad815adb7f",
   "metadata": {},
   "outputs": [
    {
     "data": {
      "image/svg+xml": [
       "<?xml version=\"1.0\" encoding=\"utf-8\"?>\n",
       "<svg xmlns=\"http://www.w3.org/2000/svg\" xmlns:xlink=\"http://www.w3.org/1999/xlink\" width=\"600\" height=\"400\" viewBox=\"0 0 2400 1600\">\n",
       "<defs>\n",
       "  <clipPath id=\"clip710\">\n",
       "    <rect x=\"0\" y=\"0\" width=\"2400\" height=\"1600\"/>\n",
       "  </clipPath>\n",
       "</defs>\n",
       "<path clip-path=\"url(#clip710)\" d=\"\n",
       "M0 1600 L2400 1600 L2400 0 L0 0  Z\n",
       "  \" fill=\"#ffffff\" fill-rule=\"evenodd\" fill-opacity=\"1\"/>\n",
       "<defs>\n",
       "  <clipPath id=\"clip711\">\n",
       "    <rect x=\"480\" y=\"0\" width=\"1681\" height=\"1600\"/>\n",
       "  </clipPath>\n",
       "</defs>\n",
       "<path clip-path=\"url(#clip710)\" d=\"\n",
       "M224.098 1486.45 L2352.76 1486.45 L2352.76 47.2441 L224.098 47.2441  Z\n",
       "  \" fill=\"#ffffff\" fill-rule=\"evenodd\" fill-opacity=\"1\"/>\n",
       "<defs>\n",
       "  <clipPath id=\"clip712\">\n",
       "    <rect x=\"224\" y=\"47\" width=\"2130\" height=\"1440\"/>\n",
       "  </clipPath>\n",
       "</defs>\n",
       "<polyline clip-path=\"url(#clip712)\" style=\"stroke:#000000; stroke-linecap:butt; stroke-linejoin:round; stroke-width:2; stroke-opacity:0.1; fill:none\" points=\"\n",
       "  427.783,1486.45 427.783,47.2441 \n",
       "  \"/>\n",
       "<polyline clip-path=\"url(#clip712)\" style=\"stroke:#000000; stroke-linecap:butt; stroke-linejoin:round; stroke-width:2; stroke-opacity:0.1; fill:none\" points=\"\n",
       "  714.665,1486.45 714.665,47.2441 \n",
       "  \"/>\n",
       "<polyline clip-path=\"url(#clip712)\" style=\"stroke:#000000; stroke-linecap:butt; stroke-linejoin:round; stroke-width:2; stroke-opacity:0.1; fill:none\" points=\"\n",
       "  1001.55,1486.45 1001.55,47.2441 \n",
       "  \"/>\n",
       "<polyline clip-path=\"url(#clip712)\" style=\"stroke:#000000; stroke-linecap:butt; stroke-linejoin:round; stroke-width:2; stroke-opacity:0.1; fill:none\" points=\"\n",
       "  1288.43,1486.45 1288.43,47.2441 \n",
       "  \"/>\n",
       "<polyline clip-path=\"url(#clip712)\" style=\"stroke:#000000; stroke-linecap:butt; stroke-linejoin:round; stroke-width:2; stroke-opacity:0.1; fill:none\" points=\"\n",
       "  1575.31,1486.45 1575.31,47.2441 \n",
       "  \"/>\n",
       "<polyline clip-path=\"url(#clip712)\" style=\"stroke:#000000; stroke-linecap:butt; stroke-linejoin:round; stroke-width:2; stroke-opacity:0.1; fill:none\" points=\"\n",
       "  1862.19,1486.45 1862.19,47.2441 \n",
       "  \"/>\n",
       "<polyline clip-path=\"url(#clip712)\" style=\"stroke:#000000; stroke-linecap:butt; stroke-linejoin:round; stroke-width:2; stroke-opacity:0.1; fill:none\" points=\"\n",
       "  2149.07,1486.45 2149.07,47.2441 \n",
       "  \"/>\n",
       "<polyline clip-path=\"url(#clip710)\" style=\"stroke:#000000; stroke-linecap:butt; stroke-linejoin:round; stroke-width:4; stroke-opacity:1; fill:none\" points=\"\n",
       "  224.098,1486.45 2352.76,1486.45 \n",
       "  \"/>\n",
       "<polyline clip-path=\"url(#clip710)\" style=\"stroke:#000000; stroke-linecap:butt; stroke-linejoin:round; stroke-width:4; stroke-opacity:1; fill:none\" points=\"\n",
       "  427.783,1486.45 427.783,1467.55 \n",
       "  \"/>\n",
       "<polyline clip-path=\"url(#clip710)\" style=\"stroke:#000000; stroke-linecap:butt; stroke-linejoin:round; stroke-width:4; stroke-opacity:1; fill:none\" points=\"\n",
       "  714.665,1486.45 714.665,1467.55 \n",
       "  \"/>\n",
       "<polyline clip-path=\"url(#clip710)\" style=\"stroke:#000000; stroke-linecap:butt; stroke-linejoin:round; stroke-width:4; stroke-opacity:1; fill:none\" points=\"\n",
       "  1001.55,1486.45 1001.55,1467.55 \n",
       "  \"/>\n",
       "<polyline clip-path=\"url(#clip710)\" style=\"stroke:#000000; stroke-linecap:butt; stroke-linejoin:round; stroke-width:4; stroke-opacity:1; fill:none\" points=\"\n",
       "  1288.43,1486.45 1288.43,1467.55 \n",
       "  \"/>\n",
       "<polyline clip-path=\"url(#clip710)\" style=\"stroke:#000000; stroke-linecap:butt; stroke-linejoin:round; stroke-width:4; stroke-opacity:1; fill:none\" points=\"\n",
       "  1575.31,1486.45 1575.31,1467.55 \n",
       "  \"/>\n",
       "<polyline clip-path=\"url(#clip710)\" style=\"stroke:#000000; stroke-linecap:butt; stroke-linejoin:round; stroke-width:4; stroke-opacity:1; fill:none\" points=\"\n",
       "  1862.19,1486.45 1862.19,1467.55 \n",
       "  \"/>\n",
       "<polyline clip-path=\"url(#clip710)\" style=\"stroke:#000000; stroke-linecap:butt; stroke-linejoin:round; stroke-width:4; stroke-opacity:1; fill:none\" points=\"\n",
       "  2149.07,1486.45 2149.07,1467.55 \n",
       "  \"/>\n",
       "<path clip-path=\"url(#clip710)\" d=\"M422.436 1543.18 L438.756 1543.18 L438.756 1547.12 L416.811 1547.12 L416.811 1543.18 Q419.473 1540.43 424.057 1535.8 Q428.663 1531.15 429.844 1529.81 Q432.089 1527.28 432.969 1525.55 Q433.871 1523.79 433.871 1522.1 Q433.871 1519.34 431.927 1517.61 Q430.006 1515.87 426.904 1515.87 Q424.705 1515.87 422.251 1516.63 Q419.821 1517.4 417.043 1518.95 L417.043 1514.23 Q419.867 1513.09 422.321 1512.51 Q424.774 1511.93 426.811 1511.93 Q432.182 1511.93 435.376 1514.62 Q438.57 1517.31 438.57 1521.8 Q438.57 1523.93 437.76 1525.85 Q436.973 1527.74 434.867 1530.34 Q434.288 1531.01 431.186 1534.23 Q428.084 1537.42 422.436 1543.18 Z\" fill=\"#000000\" fill-rule=\"evenodd\" fill-opacity=\"1\" /><path clip-path=\"url(#clip710)\" d=\"M717.674 1516.63 L705.868 1535.08 L717.674 1535.08 L717.674 1516.63 M716.447 1512.56 L722.327 1512.56 L722.327 1535.08 L727.257 1535.08 L727.257 1538.97 L722.327 1538.97 L722.327 1547.12 L717.674 1547.12 L717.674 1538.97 L702.072 1538.97 L702.072 1534.46 L716.447 1512.56 Z\" fill=\"#000000\" fill-rule=\"evenodd\" fill-opacity=\"1\" /><path clip-path=\"url(#clip710)\" d=\"M1001.95 1527.98 Q998.803 1527.98 996.951 1530.13 Q995.122 1532.28 995.122 1536.03 Q995.122 1539.76 996.951 1541.93 Q998.803 1544.09 1001.95 1544.09 Q1005.1 1544.09 1006.93 1541.93 Q1008.78 1539.76 1008.78 1536.03 Q1008.78 1532.28 1006.93 1530.13 Q1005.1 1527.98 1001.95 1527.98 M1011.23 1513.32 L1011.23 1517.58 Q1009.47 1516.75 1007.67 1516.31 Q1005.89 1515.87 1004.13 1515.87 Q999.497 1515.87 997.043 1519 Q994.613 1522.12 994.266 1528.44 Q995.631 1526.43 997.692 1525.36 Q999.752 1524.27 1002.23 1524.27 Q1007.44 1524.27 1010.45 1527.44 Q1013.48 1530.59 1013.48 1536.03 Q1013.48 1541.36 1010.33 1544.57 Q1007.18 1547.79 1001.95 1547.79 Q995.956 1547.79 992.784 1543.21 Q989.613 1538.6 989.613 1529.87 Q989.613 1521.68 993.502 1516.82 Q997.391 1511.93 1003.94 1511.93 Q1005.7 1511.93 1007.48 1512.28 Q1009.29 1512.63 1011.23 1513.32 Z\" fill=\"#000000\" fill-rule=\"evenodd\" fill-opacity=\"1\" /><path clip-path=\"url(#clip710)\" d=\"M1288.43 1530.71 Q1285.09 1530.71 1283.17 1532.49 Q1281.27 1534.27 1281.27 1537.4 Q1281.27 1540.52 1283.17 1542.31 Q1285.09 1544.09 1288.43 1544.09 Q1291.76 1544.09 1293.68 1542.31 Q1295.6 1540.5 1295.6 1537.4 Q1295.6 1534.27 1293.68 1532.49 Q1291.78 1530.71 1288.43 1530.71 M1283.75 1528.72 Q1280.74 1527.98 1279.05 1525.92 Q1277.39 1523.86 1277.39 1520.89 Q1277.39 1516.75 1280.33 1514.34 Q1283.29 1511.93 1288.43 1511.93 Q1293.59 1511.93 1296.53 1514.34 Q1299.47 1516.75 1299.47 1520.89 Q1299.47 1523.86 1297.78 1525.92 Q1296.11 1527.98 1293.13 1528.72 Q1296.51 1529.5 1298.38 1531.8 Q1300.28 1534.09 1300.28 1537.4 Q1300.28 1542.42 1297.2 1545.11 Q1294.14 1547.79 1288.43 1547.79 Q1282.71 1547.79 1279.63 1545.11 Q1276.58 1542.42 1276.58 1537.4 Q1276.58 1534.09 1278.47 1531.8 Q1280.37 1529.5 1283.75 1528.72 M1282.04 1521.33 Q1282.04 1524.02 1283.7 1525.52 Q1285.39 1527.03 1288.43 1527.03 Q1291.44 1527.03 1293.13 1525.52 Q1294.84 1524.02 1294.84 1521.33 Q1294.84 1518.65 1293.13 1517.14 Q1291.44 1515.64 1288.43 1515.64 Q1285.39 1515.64 1283.7 1517.14 Q1282.04 1518.65 1282.04 1521.33 Z\" fill=\"#000000\" fill-rule=\"evenodd\" fill-opacity=\"1\" /><path clip-path=\"url(#clip710)\" d=\"M1550 1543.18 L1557.63 1543.18 L1557.63 1516.82 L1549.32 1518.49 L1549.32 1514.23 L1557.59 1512.56 L1562.26 1512.56 L1562.26 1543.18 L1569.9 1543.18 L1569.9 1547.12 L1550 1547.12 L1550 1543.18 Z\" fill=\"#000000\" fill-rule=\"evenodd\" fill-opacity=\"1\" /><path clip-path=\"url(#clip710)\" d=\"M1589.35 1515.64 Q1585.74 1515.64 1583.91 1519.2 Q1582.1 1522.75 1582.1 1529.87 Q1582.1 1536.98 1583.91 1540.55 Q1585.74 1544.09 1589.35 1544.09 Q1592.98 1544.09 1594.79 1540.55 Q1596.62 1536.98 1596.62 1529.87 Q1596.62 1522.75 1594.79 1519.2 Q1592.98 1515.64 1589.35 1515.64 M1589.35 1511.93 Q1595.16 1511.93 1598.21 1516.54 Q1601.29 1521.12 1601.29 1529.87 Q1601.29 1538.6 1598.21 1543.21 Q1595.16 1547.79 1589.35 1547.79 Q1583.54 1547.79 1580.46 1543.21 Q1577.4 1538.6 1577.4 1529.87 Q1577.4 1521.12 1580.46 1516.54 Q1583.54 1511.93 1589.35 1511.93 Z\" fill=\"#000000\" fill-rule=\"evenodd\" fill-opacity=\"1\" /><path clip-path=\"url(#clip710)\" d=\"M1837.68 1543.18 L1845.31 1543.18 L1845.31 1516.82 L1837 1518.49 L1837 1514.23 L1845.27 1512.56 L1849.94 1512.56 L1849.94 1543.18 L1857.58 1543.18 L1857.58 1547.12 L1837.68 1547.12 L1837.68 1543.18 Z\" fill=\"#000000\" fill-rule=\"evenodd\" fill-opacity=\"1\" /><path clip-path=\"url(#clip710)\" d=\"M1871.05 1543.18 L1887.37 1543.18 L1887.37 1547.12 L1865.43 1547.12 L1865.43 1543.18 Q1868.09 1540.43 1872.68 1535.8 Q1877.28 1531.15 1878.46 1529.81 Q1880.71 1527.28 1881.59 1525.55 Q1882.49 1523.79 1882.49 1522.1 Q1882.49 1519.34 1880.55 1517.61 Q1878.62 1515.87 1875.52 1515.87 Q1873.32 1515.87 1870.87 1516.63 Q1868.44 1517.4 1865.66 1518.95 L1865.66 1514.23 Q1868.49 1513.09 1870.94 1512.51 Q1873.39 1511.93 1875.43 1511.93 Q1880.8 1511.93 1883.99 1514.62 Q1887.19 1517.31 1887.19 1521.8 Q1887.19 1523.93 1886.38 1525.85 Q1885.59 1527.74 1883.49 1530.34 Q1882.91 1531.01 1879.8 1534.23 Q1876.7 1537.42 1871.05 1543.18 Z\" fill=\"#000000\" fill-rule=\"evenodd\" fill-opacity=\"1\" /><path clip-path=\"url(#clip710)\" d=\"M2123.51 1543.18 L2131.15 1543.18 L2131.15 1516.82 L2122.84 1518.49 L2122.84 1514.23 L2131.11 1512.56 L2135.78 1512.56 L2135.78 1543.18 L2143.42 1543.18 L2143.42 1547.12 L2123.51 1547.12 L2123.51 1543.18 Z\" fill=\"#000000\" fill-rule=\"evenodd\" fill-opacity=\"1\" /><path clip-path=\"url(#clip710)\" d=\"M2165.71 1516.63 L2153.91 1535.08 L2165.71 1535.08 L2165.71 1516.63 M2164.49 1512.56 L2170.37 1512.56 L2170.37 1535.08 L2175.3 1535.08 L2175.3 1538.97 L2170.37 1538.97 L2170.37 1547.12 L2165.71 1547.12 L2165.71 1538.97 L2150.11 1538.97 L2150.11 1534.46 L2164.49 1512.56 Z\" fill=\"#000000\" fill-rule=\"evenodd\" fill-opacity=\"1\" /><polyline clip-path=\"url(#clip712)\" style=\"stroke:#000000; stroke-linecap:butt; stroke-linejoin:round; stroke-width:2; stroke-opacity:0.1; fill:none\" points=\"\n",
       "  224.098,1403.09 2352.76,1403.09 \n",
       "  \"/>\n",
       "<polyline clip-path=\"url(#clip712)\" style=\"stroke:#000000; stroke-linecap:butt; stroke-linejoin:round; stroke-width:2; stroke-opacity:0.1; fill:none\" points=\"\n",
       "  224.098,1102.38 2352.76,1102.38 \n",
       "  \"/>\n",
       "<polyline clip-path=\"url(#clip712)\" style=\"stroke:#000000; stroke-linecap:butt; stroke-linejoin:round; stroke-width:2; stroke-opacity:0.1; fill:none\" points=\"\n",
       "  224.098,801.667 2352.76,801.667 \n",
       "  \"/>\n",
       "<polyline clip-path=\"url(#clip712)\" style=\"stroke:#000000; stroke-linecap:butt; stroke-linejoin:round; stroke-width:2; stroke-opacity:0.1; fill:none\" points=\"\n",
       "  224.098,500.955 2352.76,500.955 \n",
       "  \"/>\n",
       "<polyline clip-path=\"url(#clip712)\" style=\"stroke:#000000; stroke-linecap:butt; stroke-linejoin:round; stroke-width:2; stroke-opacity:0.1; fill:none\" points=\"\n",
       "  224.098,200.243 2352.76,200.243 \n",
       "  \"/>\n",
       "<polyline clip-path=\"url(#clip710)\" style=\"stroke:#000000; stroke-linecap:butt; stroke-linejoin:round; stroke-width:4; stroke-opacity:1; fill:none\" points=\"\n",
       "  224.098,1486.45 224.098,47.2441 \n",
       "  \"/>\n",
       "<polyline clip-path=\"url(#clip710)\" style=\"stroke:#000000; stroke-linecap:butt; stroke-linejoin:round; stroke-width:4; stroke-opacity:1; fill:none\" points=\"\n",
       "  224.098,1403.09 242.996,1403.09 \n",
       "  \"/>\n",
       "<polyline clip-path=\"url(#clip710)\" style=\"stroke:#000000; stroke-linecap:butt; stroke-linejoin:round; stroke-width:4; stroke-opacity:1; fill:none\" points=\"\n",
       "  224.098,1102.38 242.996,1102.38 \n",
       "  \"/>\n",
       "<polyline clip-path=\"url(#clip710)\" style=\"stroke:#000000; stroke-linecap:butt; stroke-linejoin:round; stroke-width:4; stroke-opacity:1; fill:none\" points=\"\n",
       "  224.098,801.667 242.996,801.667 \n",
       "  \"/>\n",
       "<polyline clip-path=\"url(#clip710)\" style=\"stroke:#000000; stroke-linecap:butt; stroke-linejoin:round; stroke-width:4; stroke-opacity:1; fill:none\" points=\"\n",
       "  224.098,500.955 242.996,500.955 \n",
       "  \"/>\n",
       "<polyline clip-path=\"url(#clip710)\" style=\"stroke:#000000; stroke-linecap:butt; stroke-linejoin:round; stroke-width:4; stroke-opacity:1; fill:none\" points=\"\n",
       "  224.098,200.243 242.996,200.243 \n",
       "  \"/>\n",
       "<path clip-path=\"url(#clip710)\" d=\"M50.9921 1403.54 L80.6679 1403.54 L80.6679 1407.48 L50.9921 1407.48 L50.9921 1403.54 Z\" fill=\"#000000\" fill-rule=\"evenodd\" fill-opacity=\"1\" /><path clip-path=\"url(#clip710)\" d=\"M100.76 1388.89 Q97.1493 1388.89 95.3206 1392.45 Q93.515 1396 93.515 1403.13 Q93.515 1410.23 95.3206 1413.8 Q97.1493 1417.34 100.76 1417.34 Q104.395 1417.34 106.2 1413.8 Q108.029 1410.23 108.029 1403.13 Q108.029 1396 106.2 1392.45 Q104.395 1388.89 100.76 1388.89 M100.76 1385.19 Q106.571 1385.19 109.626 1389.79 Q112.705 1394.38 112.705 1403.13 Q112.705 1411.85 109.626 1416.46 Q106.571 1421.04 100.76 1421.04 Q94.9502 1421.04 91.8715 1416.46 Q88.816 1411.85 88.816 1403.13 Q88.816 1394.38 91.8715 1389.79 Q94.9502 1385.19 100.76 1385.19 Z\" fill=\"#000000\" fill-rule=\"evenodd\" fill-opacity=\"1\" /><path clip-path=\"url(#clip710)\" d=\"M120.922 1414.49 L125.807 1414.49 L125.807 1420.37 L120.922 1420.37 L120.922 1414.49 Z\" fill=\"#000000\" fill-rule=\"evenodd\" fill-opacity=\"1\" /><path clip-path=\"url(#clip710)\" d=\"M136.038 1385.81 L154.394 1385.81 L154.394 1389.75 L140.32 1389.75 L140.32 1398.22 Q141.339 1397.87 142.357 1397.71 Q143.376 1397.52 144.394 1397.52 Q150.181 1397.52 153.561 1400.7 Q156.941 1403.87 156.941 1409.28 Q156.941 1414.86 153.468 1417.96 Q149.996 1421.04 143.677 1421.04 Q141.501 1421.04 139.232 1420.67 Q136.987 1420.3 134.58 1419.56 L134.58 1414.86 Q136.663 1416 138.885 1416.55 Q141.107 1417.11 143.584 1417.11 Q147.589 1417.11 149.927 1415 Q152.265 1412.89 152.265 1409.28 Q152.265 1405.67 149.927 1403.57 Q147.589 1401.46 143.584 1401.46 Q141.709 1401.46 139.834 1401.88 Q137.982 1402.29 136.038 1403.17 L136.038 1385.81 Z\" fill=\"#000000\" fill-rule=\"evenodd\" fill-opacity=\"1\" /><path clip-path=\"url(#clip710)\" d=\"M176.153 1388.89 Q172.542 1388.89 170.714 1392.45 Q168.908 1396 168.908 1403.13 Q168.908 1410.23 170.714 1413.8 Q172.542 1417.34 176.153 1417.34 Q179.788 1417.34 181.593 1413.8 Q183.422 1410.23 183.422 1403.13 Q183.422 1396 181.593 1392.45 Q179.788 1388.89 176.153 1388.89 M176.153 1385.19 Q181.964 1385.19 185.019 1389.79 Q188.098 1394.38 188.098 1403.13 Q188.098 1411.85 185.019 1416.46 Q181.964 1421.04 176.153 1421.04 Q170.343 1421.04 167.265 1416.46 Q164.209 1411.85 164.209 1403.13 Q164.209 1394.38 167.265 1389.79 Q170.343 1385.19 176.153 1385.19 Z\" fill=\"#000000\" fill-rule=\"evenodd\" fill-opacity=\"1\" /><path clip-path=\"url(#clip710)\" d=\"M51.9875 1102.83 L81.6633 1102.83 L81.6633 1106.77 L51.9875 1106.77 L51.9875 1102.83 Z\" fill=\"#000000\" fill-rule=\"evenodd\" fill-opacity=\"1\" /><path clip-path=\"url(#clip710)\" d=\"M101.756 1088.18 Q98.1447 1088.18 96.316 1091.74 Q94.5104 1095.28 94.5104 1102.41 Q94.5104 1109.52 96.316 1113.09 Q98.1447 1116.63 101.756 1116.63 Q105.39 1116.63 107.196 1113.09 Q109.024 1109.52 109.024 1102.41 Q109.024 1095.28 107.196 1091.74 Q105.39 1088.18 101.756 1088.18 M101.756 1084.47 Q107.566 1084.47 110.621 1089.08 Q113.7 1093.66 113.7 1102.41 Q113.7 1111.14 110.621 1115.75 Q107.566 1120.33 101.756 1120.33 Q95.9456 1120.33 92.8669 1115.75 Q89.8114 1111.14 89.8114 1102.41 Q89.8114 1093.66 92.8669 1089.08 Q95.9456 1084.47 101.756 1084.47 Z\" fill=\"#000000\" fill-rule=\"evenodd\" fill-opacity=\"1\" /><path clip-path=\"url(#clip710)\" d=\"M121.918 1113.78 L126.802 1113.78 L126.802 1119.66 L121.918 1119.66 L121.918 1113.78 Z\" fill=\"#000000\" fill-rule=\"evenodd\" fill-opacity=\"1\" /><path clip-path=\"url(#clip710)\" d=\"M141.015 1115.72 L157.334 1115.72 L157.334 1119.66 L135.39 1119.66 L135.39 1115.72 Q138.052 1112.97 142.635 1108.34 Q147.242 1103.69 148.422 1102.34 Q150.668 1099.82 151.547 1098.09 Q152.45 1096.33 152.45 1094.64 Q152.45 1091.88 150.505 1090.15 Q148.584 1088.41 145.482 1088.41 Q143.283 1088.41 140.83 1089.17 Q138.399 1089.94 135.621 1091.49 L135.621 1086.77 Q138.445 1085.63 140.899 1085.05 Q143.353 1084.47 145.39 1084.47 Q150.76 1084.47 153.955 1087.16 Q157.149 1089.84 157.149 1094.34 Q157.149 1096.46 156.339 1098.39 Q155.552 1100.28 153.445 1102.88 Q152.867 1103.55 149.765 1106.77 Q146.663 1109.96 141.015 1115.72 Z\" fill=\"#000000\" fill-rule=\"evenodd\" fill-opacity=\"1\" /><path clip-path=\"url(#clip710)\" d=\"M167.195 1085.1 L185.552 1085.1 L185.552 1089.03 L171.478 1089.03 L171.478 1097.51 Q172.496 1097.16 173.515 1097 Q174.533 1096.81 175.552 1096.81 Q181.339 1096.81 184.718 1099.98 Q188.098 1103.15 188.098 1108.57 Q188.098 1114.15 184.626 1117.25 Q181.153 1120.33 174.834 1120.33 Q172.658 1120.33 170.39 1119.96 Q168.144 1119.59 165.737 1118.85 L165.737 1114.15 Q167.82 1115.28 170.042 1115.84 Q172.265 1116.4 174.741 1116.4 Q178.746 1116.4 181.084 1114.29 Q183.422 1112.18 183.422 1108.57 Q183.422 1104.96 181.084 1102.85 Q178.746 1100.75 174.741 1100.75 Q172.866 1100.75 170.991 1101.16 Q169.14 1101.58 167.195 1102.46 L167.195 1085.1 Z\" fill=\"#000000\" fill-rule=\"evenodd\" fill-opacity=\"1\" /><path clip-path=\"url(#clip710)\" d=\"M100.76 787.466 Q97.1493 787.466 95.3206 791.031 Q93.515 794.572 93.515 801.702 Q93.515 808.808 95.3206 812.373 Q97.1493 815.915 100.76 815.915 Q104.395 815.915 106.2 812.373 Q108.029 808.808 108.029 801.702 Q108.029 794.572 106.2 791.031 Q104.395 787.466 100.76 787.466 M100.76 783.762 Q106.571 783.762 109.626 788.369 Q112.705 792.952 112.705 801.702 Q112.705 810.429 109.626 815.035 Q106.571 819.619 100.76 819.619 Q94.9502 819.619 91.8715 815.035 Q88.816 810.429 88.816 801.702 Q88.816 792.952 91.8715 788.369 Q94.9502 783.762 100.76 783.762 Z\" fill=\"#000000\" fill-rule=\"evenodd\" fill-opacity=\"1\" /><path clip-path=\"url(#clip710)\" d=\"M120.922 813.068 L125.807 813.068 L125.807 818.947 L120.922 818.947 L120.922 813.068 Z\" fill=\"#000000\" fill-rule=\"evenodd\" fill-opacity=\"1\" /><path clip-path=\"url(#clip710)\" d=\"M145.992 787.466 Q142.381 787.466 140.552 791.031 Q138.746 794.572 138.746 801.702 Q138.746 808.808 140.552 812.373 Q142.381 815.915 145.992 815.915 Q149.626 815.915 151.431 812.373 Q153.26 808.808 153.26 801.702 Q153.26 794.572 151.431 791.031 Q149.626 787.466 145.992 787.466 M145.992 783.762 Q151.802 783.762 154.857 788.369 Q157.936 792.952 157.936 801.702 Q157.936 810.429 154.857 815.035 Q151.802 819.619 145.992 819.619 Q140.181 819.619 137.103 815.035 Q134.047 810.429 134.047 801.702 Q134.047 792.952 137.103 788.369 Q140.181 783.762 145.992 783.762 Z\" fill=\"#000000\" fill-rule=\"evenodd\" fill-opacity=\"1\" /><path clip-path=\"url(#clip710)\" d=\"M176.153 787.466 Q172.542 787.466 170.714 791.031 Q168.908 794.572 168.908 801.702 Q168.908 808.808 170.714 812.373 Q172.542 815.915 176.153 815.915 Q179.788 815.915 181.593 812.373 Q183.422 808.808 183.422 801.702 Q183.422 794.572 181.593 791.031 Q179.788 787.466 176.153 787.466 M176.153 783.762 Q181.964 783.762 185.019 788.369 Q188.098 792.952 188.098 801.702 Q188.098 810.429 185.019 815.035 Q181.964 819.619 176.153 819.619 Q170.343 819.619 167.265 815.035 Q164.209 810.429 164.209 801.702 Q164.209 792.952 167.265 788.369 Q170.343 783.762 176.153 783.762 Z\" fill=\"#000000\" fill-rule=\"evenodd\" fill-opacity=\"1\" /><path clip-path=\"url(#clip710)\" d=\"M101.756 486.754 Q98.1447 486.754 96.316 490.319 Q94.5104 493.86 94.5104 500.99 Q94.5104 508.096 96.316 511.661 Q98.1447 515.203 101.756 515.203 Q105.39 515.203 107.196 511.661 Q109.024 508.096 109.024 500.99 Q109.024 493.86 107.196 490.319 Q105.39 486.754 101.756 486.754 M101.756 483.05 Q107.566 483.05 110.621 487.657 Q113.7 492.24 113.7 500.99 Q113.7 509.717 110.621 514.323 Q107.566 518.907 101.756 518.907 Q95.9456 518.907 92.8669 514.323 Q89.8114 509.717 89.8114 500.99 Q89.8114 492.24 92.8669 487.657 Q95.9456 483.05 101.756 483.05 Z\" fill=\"#000000\" fill-rule=\"evenodd\" fill-opacity=\"1\" /><path clip-path=\"url(#clip710)\" d=\"M121.918 512.356 L126.802 512.356 L126.802 518.235 L121.918 518.235 L121.918 512.356 Z\" fill=\"#000000\" fill-rule=\"evenodd\" fill-opacity=\"1\" /><path clip-path=\"url(#clip710)\" d=\"M141.015 514.3 L157.334 514.3 L157.334 518.235 L135.39 518.235 L135.39 514.3 Q138.052 511.546 142.635 506.916 Q147.242 502.263 148.422 500.921 Q150.668 498.397 151.547 496.661 Q152.45 494.902 152.45 493.212 Q152.45 490.458 150.505 488.722 Q148.584 486.985 145.482 486.985 Q143.283 486.985 140.83 487.749 Q138.399 488.513 135.621 490.064 L135.621 485.342 Q138.445 484.208 140.899 483.629 Q143.353 483.05 145.39 483.05 Q150.76 483.05 153.955 485.735 Q157.149 488.421 157.149 492.911 Q157.149 495.041 156.339 496.962 Q155.552 498.86 153.445 501.453 Q152.867 502.124 149.765 505.342 Q146.663 508.536 141.015 514.3 Z\" fill=\"#000000\" fill-rule=\"evenodd\" fill-opacity=\"1\" /><path clip-path=\"url(#clip710)\" d=\"M167.195 483.675 L185.552 483.675 L185.552 487.61 L171.478 487.61 L171.478 496.083 Q172.496 495.735 173.515 495.573 Q174.533 495.388 175.552 495.388 Q181.339 495.388 184.718 498.559 Q188.098 501.731 188.098 507.147 Q188.098 512.726 184.626 515.828 Q181.153 518.907 174.834 518.907 Q172.658 518.907 170.39 518.536 Q168.144 518.166 165.737 517.425 L165.737 512.726 Q167.82 513.86 170.042 514.416 Q172.265 514.971 174.741 514.971 Q178.746 514.971 181.084 512.865 Q183.422 510.759 183.422 507.147 Q183.422 503.536 181.084 501.43 Q178.746 499.323 174.741 499.323 Q172.866 499.323 170.991 499.74 Q169.14 500.157 167.195 501.036 L167.195 483.675 Z\" fill=\"#000000\" fill-rule=\"evenodd\" fill-opacity=\"1\" /><path clip-path=\"url(#clip710)\" d=\"M100.76 186.042 Q97.1493 186.042 95.3206 189.607 Q93.515 193.149 93.515 200.278 Q93.515 207.385 95.3206 210.949 Q97.1493 214.491 100.76 214.491 Q104.395 214.491 106.2 210.949 Q108.029 207.385 108.029 200.278 Q108.029 193.149 106.2 189.607 Q104.395 186.042 100.76 186.042 M100.76 182.338 Q106.571 182.338 109.626 186.945 Q112.705 191.528 112.705 200.278 Q112.705 209.005 109.626 213.611 Q106.571 218.195 100.76 218.195 Q94.9502 218.195 91.8715 213.611 Q88.816 209.005 88.816 200.278 Q88.816 191.528 91.8715 186.945 Q94.9502 182.338 100.76 182.338 Z\" fill=\"#000000\" fill-rule=\"evenodd\" fill-opacity=\"1\" /><path clip-path=\"url(#clip710)\" d=\"M120.922 211.644 L125.807 211.644 L125.807 217.523 L120.922 217.523 L120.922 211.644 Z\" fill=\"#000000\" fill-rule=\"evenodd\" fill-opacity=\"1\" /><path clip-path=\"url(#clip710)\" d=\"M136.038 182.963 L154.394 182.963 L154.394 186.899 L140.32 186.899 L140.32 195.371 Q141.339 195.024 142.357 194.861 Q143.376 194.676 144.394 194.676 Q150.181 194.676 153.561 197.848 Q156.941 201.019 156.941 206.435 Q156.941 212.014 153.468 215.116 Q149.996 218.195 143.677 218.195 Q141.501 218.195 139.232 217.824 Q136.987 217.454 134.58 216.713 L134.58 212.014 Q136.663 213.148 138.885 213.704 Q141.107 214.26 143.584 214.26 Q147.589 214.26 149.927 212.153 Q152.265 210.047 152.265 206.435 Q152.265 202.824 149.927 200.718 Q147.589 198.611 143.584 198.611 Q141.709 198.611 139.834 199.028 Q137.982 199.445 136.038 200.324 L136.038 182.963 Z\" fill=\"#000000\" fill-rule=\"evenodd\" fill-opacity=\"1\" /><path clip-path=\"url(#clip710)\" d=\"M176.153 186.042 Q172.542 186.042 170.714 189.607 Q168.908 193.149 168.908 200.278 Q168.908 207.385 170.714 210.949 Q172.542 214.491 176.153 214.491 Q179.788 214.491 181.593 210.949 Q183.422 207.385 183.422 200.278 Q183.422 193.149 181.593 189.607 Q179.788 186.042 176.153 186.042 M176.153 182.338 Q181.964 182.338 185.019 186.945 Q188.098 191.528 188.098 200.278 Q188.098 209.005 185.019 213.611 Q181.964 218.195 176.153 218.195 Q170.343 218.195 167.265 213.611 Q164.209 209.005 164.209 200.278 Q164.209 191.528 167.265 186.945 Q170.343 182.338 176.153 182.338 Z\" fill=\"#000000\" fill-rule=\"evenodd\" fill-opacity=\"1\" /><circle clip-path=\"url(#clip712)\" cx=\"284.343\" cy=\"987.561\" r=\"14\" fill=\"#009af9\" fill-rule=\"evenodd\" fill-opacity=\"1\" stroke=\"#000000\" stroke-opacity=\"1\" stroke-width=\"3.2\"/>\n",
       "<circle clip-path=\"url(#clip712)\" cx=\"427.783\" cy=\"1445.72\" r=\"14\" fill=\"#009af9\" fill-rule=\"evenodd\" fill-opacity=\"1\" stroke=\"#000000\" stroke-opacity=\"1\" stroke-width=\"3.2\"/>\n",
       "<circle clip-path=\"url(#clip712)\" cx=\"571.224\" cy=\"1442.9\" r=\"14\" fill=\"#009af9\" fill-rule=\"evenodd\" fill-opacity=\"1\" stroke=\"#000000\" stroke-opacity=\"1\" stroke-width=\"3.2\"/>\n",
       "<circle clip-path=\"url(#clip712)\" cx=\"714.665\" cy=\"1246.21\" r=\"14\" fill=\"#009af9\" fill-rule=\"evenodd\" fill-opacity=\"1\" stroke=\"#000000\" stroke-opacity=\"1\" stroke-width=\"3.2\"/>\n",
       "<circle clip-path=\"url(#clip712)\" cx=\"858.105\" cy=\"87.9763\" r=\"14\" fill=\"#009af9\" fill-rule=\"evenodd\" fill-opacity=\"1\" stroke=\"#000000\" stroke-opacity=\"1\" stroke-width=\"3.2\"/>\n",
       "<circle clip-path=\"url(#clip712)\" cx=\"1001.55\" cy=\"611.146\" r=\"14\" fill=\"#009af9\" fill-rule=\"evenodd\" fill-opacity=\"1\" stroke=\"#000000\" stroke-opacity=\"1\" stroke-width=\"3.2\"/>\n",
       "<circle clip-path=\"url(#clip712)\" cx=\"1144.99\" cy=\"1024.3\" r=\"14\" fill=\"#009af9\" fill-rule=\"evenodd\" fill-opacity=\"1\" stroke=\"#000000\" stroke-opacity=\"1\" stroke-width=\"3.2\"/>\n",
       "<circle clip-path=\"url(#clip712)\" cx=\"1288.43\" cy=\"765.772\" r=\"14\" fill=\"#009af9\" fill-rule=\"evenodd\" fill-opacity=\"1\" stroke=\"#000000\" stroke-opacity=\"1\" stroke-width=\"3.2\"/>\n",
       "<circle clip-path=\"url(#clip712)\" cx=\"1431.87\" cy=\"1210.71\" r=\"14\" fill=\"#009af9\" fill-rule=\"evenodd\" fill-opacity=\"1\" stroke=\"#000000\" stroke-opacity=\"1\" stroke-width=\"3.2\"/>\n",
       "<circle clip-path=\"url(#clip712)\" cx=\"1575.31\" cy=\"1220.27\" r=\"14\" fill=\"#009af9\" fill-rule=\"evenodd\" fill-opacity=\"1\" stroke=\"#000000\" stroke-opacity=\"1\" stroke-width=\"3.2\"/>\n",
       "<circle clip-path=\"url(#clip712)\" cx=\"1718.75\" cy=\"801.297\" r=\"14\" fill=\"#009af9\" fill-rule=\"evenodd\" fill-opacity=\"1\" stroke=\"#000000\" stroke-opacity=\"1\" stroke-width=\"3.2\"/>\n",
       "<circle clip-path=\"url(#clip712)\" cx=\"1862.19\" cy=\"679.454\" r=\"14\" fill=\"#009af9\" fill-rule=\"evenodd\" fill-opacity=\"1\" stroke=\"#000000\" stroke-opacity=\"1\" stroke-width=\"3.2\"/>\n",
       "<circle clip-path=\"url(#clip712)\" cx=\"2005.63\" cy=\"769.539\" r=\"14\" fill=\"#009af9\" fill-rule=\"evenodd\" fill-opacity=\"1\" stroke=\"#000000\" stroke-opacity=\"1\" stroke-width=\"3.2\"/>\n",
       "<circle clip-path=\"url(#clip712)\" cx=\"2149.07\" cy=\"1086.27\" r=\"14\" fill=\"#009af9\" fill-rule=\"evenodd\" fill-opacity=\"1\" stroke=\"#000000\" stroke-opacity=\"1\" stroke-width=\"3.2\"/>\n",
       "<circle clip-path=\"url(#clip712)\" cx=\"2292.51\" cy=\"1381.39\" r=\"14\" fill=\"#009af9\" fill-rule=\"evenodd\" fill-opacity=\"1\" stroke=\"#000000\" stroke-opacity=\"1\" stroke-width=\"3.2\"/>\n",
       "<circle clip-path=\"url(#clip712)\" cx=\"284.343\" cy=\"987.561\" r=\"14\" fill=\"#e26f46\" fill-rule=\"evenodd\" fill-opacity=\"1\" stroke=\"#000000\" stroke-opacity=\"1\" stroke-width=\"3.2\"/>\n",
       "<circle clip-path=\"url(#clip712)\" cx=\"427.783\" cy=\"1445.72\" r=\"14\" fill=\"#e26f46\" fill-rule=\"evenodd\" fill-opacity=\"1\" stroke=\"#000000\" stroke-opacity=\"1\" stroke-width=\"3.2\"/>\n",
       "<circle clip-path=\"url(#clip712)\" cx=\"571.224\" cy=\"160.435\" r=\"14\" fill=\"#e26f46\" fill-rule=\"evenodd\" fill-opacity=\"1\" stroke=\"#000000\" stroke-opacity=\"1\" stroke-width=\"3.2\"/>\n",
       "<circle clip-path=\"url(#clip712)\" cx=\"714.665\" cy=\"1246.21\" r=\"14\" fill=\"#e26f46\" fill-rule=\"evenodd\" fill-opacity=\"1\" stroke=\"#000000\" stroke-opacity=\"1\" stroke-width=\"3.2\"/>\n",
       "<circle clip-path=\"url(#clip712)\" cx=\"858.105\" cy=\"87.9763\" r=\"14\" fill=\"#e26f46\" fill-rule=\"evenodd\" fill-opacity=\"1\" stroke=\"#000000\" stroke-opacity=\"1\" stroke-width=\"3.2\"/>\n",
       "<circle clip-path=\"url(#clip712)\" cx=\"1001.55\" cy=\"611.146\" r=\"14\" fill=\"#e26f46\" fill-rule=\"evenodd\" fill-opacity=\"1\" stroke=\"#000000\" stroke-opacity=\"1\" stroke-width=\"3.2\"/>\n",
       "<circle clip-path=\"url(#clip712)\" cx=\"1144.99\" cy=\"579.039\" r=\"14\" fill=\"#e26f46\" fill-rule=\"evenodd\" fill-opacity=\"1\" stroke=\"#000000\" stroke-opacity=\"1\" stroke-width=\"3.2\"/>\n",
       "<circle clip-path=\"url(#clip712)\" cx=\"1288.43\" cy=\"837.563\" r=\"14\" fill=\"#e26f46\" fill-rule=\"evenodd\" fill-opacity=\"1\" stroke=\"#000000\" stroke-opacity=\"1\" stroke-width=\"3.2\"/>\n",
       "<circle clip-path=\"url(#clip712)\" cx=\"1431.87\" cy=\"1210.71\" r=\"14\" fill=\"#e26f46\" fill-rule=\"evenodd\" fill-opacity=\"1\" stroke=\"#000000\" stroke-opacity=\"1\" stroke-width=\"3.2\"/>\n",
       "<circle clip-path=\"url(#clip712)\" cx=\"1575.31\" cy=\"1220.27\" r=\"14\" fill=\"#e26f46\" fill-rule=\"evenodd\" fill-opacity=\"1\" stroke=\"#000000\" stroke-opacity=\"1\" stroke-width=\"3.2\"/>\n",
       "<circle clip-path=\"url(#clip712)\" cx=\"1718.75\" cy=\"801.297\" r=\"14\" fill=\"#e26f46\" fill-rule=\"evenodd\" fill-opacity=\"1\" stroke=\"#000000\" stroke-opacity=\"1\" stroke-width=\"3.2\"/>\n",
       "<circle clip-path=\"url(#clip712)\" cx=\"1862.19\" cy=\"679.454\" r=\"14\" fill=\"#e26f46\" fill-rule=\"evenodd\" fill-opacity=\"1\" stroke=\"#000000\" stroke-opacity=\"1\" stroke-width=\"3.2\"/>\n",
       "<circle clip-path=\"url(#clip712)\" cx=\"2005.63\" cy=\"833.796\" r=\"14\" fill=\"#e26f46\" fill-rule=\"evenodd\" fill-opacity=\"1\" stroke=\"#000000\" stroke-opacity=\"1\" stroke-width=\"3.2\"/>\n",
       "<circle clip-path=\"url(#clip712)\" cx=\"2149.07\" cy=\"517.063\" r=\"14\" fill=\"#e26f46\" fill-rule=\"evenodd\" fill-opacity=\"1\" stroke=\"#000000\" stroke-opacity=\"1\" stroke-width=\"3.2\"/>\n",
       "<circle clip-path=\"url(#clip712)\" cx=\"2292.51\" cy=\"1381.39\" r=\"14\" fill=\"#e26f46\" fill-rule=\"evenodd\" fill-opacity=\"1\" stroke=\"#000000\" stroke-opacity=\"1\" stroke-width=\"3.2\"/>\n",
       "</svg>\n"
      ]
     },
     "execution_count": 103,
     "metadata": {},
     "output_type": "execute_result"
    }
   ],
   "source": [
    "scatter(disLoops_y0[1:15, 1])\n",
    "scatter!(Loops_y0[1:15, 1]; legend = false)"
   ]
  },
  {
   "cell_type": "code",
   "execution_count": 104,
   "id": "a59320ea-13fa-4d53-9db9-aee848cc2942",
   "metadata": {},
   "outputs": [
    {
     "data": {
      "text/plain": [
       "getMaxLod (generic function with 1 method)"
      ]
     },
     "execution_count": 104,
     "metadata": {},
     "output_type": "execute_result"
    }
   ],
   "source": [
    "function getMaxLod(results::Array{Float64, 2})\n",
    "    \n",
    "    return mapslices(x -> maximum(x), results; dims = 2);\n",
    "    \n",
    "end"
   ]
  },
  {
   "cell_type": "code",
   "execution_count": null,
   "id": "1b8e9fc8-9046-4261-98a6-3d9fdd4c7d40",
   "metadata": {},
   "outputs": [],
   "source": []
  },
  {
   "cell_type": "code",
   "execution_count": null,
   "id": "938556a2-1125-4dcc-bbc1-304ecc3151e9",
   "metadata": {},
   "outputs": [],
   "source": []
  }
 ],
 "metadata": {
  "kernelspec": {
   "display_name": "Julia 1.7.3",
   "language": "julia",
   "name": "julia-1.7"
  },
  "language_info": {
   "file_extension": ".jl",
   "mimetype": "application/julia",
   "name": "julia",
   "version": "1.7.3"
  }
 },
 "nbformat": 4,
 "nbformat_minor": 5
}
