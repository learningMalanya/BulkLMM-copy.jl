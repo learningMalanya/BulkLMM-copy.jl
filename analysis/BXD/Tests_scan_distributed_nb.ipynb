{
 "cells": [
  {
   "cell_type": "code",
   "execution_count": 1,
   "id": "40e445b9-2cc9-425d-b58b-702d7a82ac45",
   "metadata": {},
   "outputs": [],
   "source": [
    "using Pkg\n",
    "# Pkg.add(\"Profile\")\n",
    "# Pkg.instantiate()"
   ]
  },
  {
   "cell_type": "code",
   "execution_count": 2,
   "id": "657ab3eb-c481-4859-ac1e-250b11780d2d",
   "metadata": {},
   "outputs": [],
   "source": [
    "#= dependencies = [\"DelimitedFiles\", \"LinearAlgebra\", \"Optim\", \"Distributions\", \"Test\",\n",
    "                \"BenchmarkTools\", \"Random\", \"CSV\", \"DataFrames\", \"Distributed\", \"Plots\"];\n",
    "Pkg.add(dependencies) =#"
   ]
  },
  {
   "cell_type": "code",
   "execution_count": 3,
   "id": "140ca48f-88a6-4046-aab9-c17d5f76757b",
   "metadata": {},
   "outputs": [],
   "source": [
    "using DelimitedFiles\n",
    "using LinearAlgebra\n",
    "using Optim\n",
    "using Distributions\n",
    "using Test\n",
    "using BenchmarkTools\n",
    "using Random\n",
    "using CSV\n",
    "using DataFrames\n",
    "using Plots\n",
    "using Profile\n",
    "using Distributed"
   ]
  },
  {
   "cell_type": "code",
   "execution_count": 4,
   "id": "d9e252dc-d685-45d7-af39-667f919940f3",
   "metadata": {},
   "outputs": [
    {
     "data": {
      "text/plain": [
       "\"/home/xyu/github/BulkLMM.jl/analysis/BXD\""
      ]
     },
     "execution_count": 4,
     "metadata": {},
     "output_type": "execute_result"
    }
   ],
   "source": [
    "pwd()"
   ]
  },
  {
   "cell_type": "code",
   "execution_count": 5,
   "id": "cffc6e1b-35a1-447f-ae24-0443df9df3c7",
   "metadata": {},
   "outputs": [],
   "source": [
    "cd(\"..\")"
   ]
  },
  {
   "cell_type": "code",
   "execution_count": 15,
   "id": "f590a242-f191-4a0f-b63b-3a452a799585",
   "metadata": {},
   "outputs": [],
   "source": [
    "## Include the source code of BulkLMM to be tested:\n",
    "include(\"../src/scan.jl\");\n",
    "include(\"../src/lmm.jl\");\n",
    "include(\"../src/wls.jl\");\n",
    "include(\"../src/util.jl\");\n",
    "include(\"../src/kinship.jl\");\n",
    "include(\"../src/readData.jl\");\n",
    "include(\"../src/parallel_helpers.jl\")\n",
    "## Also include the helper functions for writing tests:\n",
    "include(\"../test/testHelper.jl\");"
   ]
  },
  {
   "cell_type": "code",
   "execution_count": 16,
   "id": "fbbe790e-aec1-4c4f-a8f4-7c76e964f6f0",
   "metadata": {},
   "outputs": [],
   "source": [
    "## Read in BXD data:\n",
    "pheno_file = \"../data/bxdData/BXDtraits.csv\"\n",
    "pheno = readBXDpheno(pheno_file);\n",
    "geno_file = \"../data/bxdData/BXDgeno_prob.csv\"\n",
    "geno = readGenoProb_ExcludeComplements(geno_file);\n",
    "\n",
    "kinship = calcKinship(geno); # calculate kinship matrix from genotype data"
   ]
  },
  {
   "cell_type": "code",
   "execution_count": 17,
   "id": "cb01140e-afe9-47c9-94a8-e1b5be1252c9",
   "metadata": {},
   "outputs": [],
   "source": [
    "m = size(pheno, 2);\n",
    "(n, p) = size(geno); # number of markers"
   ]
  },
  {
   "cell_type": "code",
   "execution_count": 18,
   "id": "6afb06d1-7339-4f95-92ce-2dcb0db38dce",
   "metadata": {},
   "outputs": [],
   "source": [
    "## Consider the 7919-th trait\n",
    "pheno_y = reshape(pheno[:, 7919], :, 1);"
   ]
  },
  {
   "cell_type": "code",
   "execution_count": 19,
   "id": "89880c04-450c-405f-baa8-6e6898366e36",
   "metadata": {},
   "outputs": [],
   "source": [
    "n_seeds = 20;"
   ]
  },
  {
   "cell_type": "code",
   "execution_count": 20,
   "id": "9bbc410d-3c9c-4c5e-afc6-00d8b0a683ad",
   "metadata": {},
   "outputs": [],
   "source": [
    "using StatsBase"
   ]
  },
  {
   "cell_type": "code",
   "execution_count": 21,
   "id": "10d81d75-65ce-45ce-864e-95b94c615cfe",
   "metadata": {},
   "outputs": [],
   "source": [
    "seeds_list = StatsBase.sample(1:100, n_seeds; replace = false);"
   ]
  },
  {
   "cell_type": "code",
   "execution_count": 22,
   "id": "e4003791-ceb6-4bd0-8b67-38d7ae000c2f",
   "metadata": {},
   "outputs": [],
   "source": [
    "(y0, X0, lambda0) = transform_rotation(pheno_y, geno, kinship);"
   ]
  },
  {
   "cell_type": "code",
   "execution_count": 23,
   "id": "28770548-b805-4c73-8e0f-90eff2a6fb3f",
   "metadata": {},
   "outputs": [],
   "source": [
    "(r0, X00) = transform_reweight(y0, X0, lambda0; reml = false);"
   ]
  },
  {
   "cell_type": "code",
   "execution_count": null,
   "id": "b6640ac5-9c3a-44ab-88c8-d1f459f00fce",
   "metadata": {},
   "outputs": [],
   "source": []
  },
  {
   "cell_type": "code",
   "execution_count": 26,
   "id": "3413ce79-aa65-4dce-9858-34773041e5f5",
   "metadata": {},
   "outputs": [],
   "source": [
    "#addprocs(10);"
   ]
  },
  {
   "cell_type": "code",
   "execution_count": 27,
   "id": "63364623-7897-4d4c-88da-4880d470cb2d",
   "metadata": {},
   "outputs": [
    {
     "data": {
      "text/plain": [
       "10-element Vector{Int64}:\n",
       "  2\n",
       "  3\n",
       "  4\n",
       "  5\n",
       "  6\n",
       "  7\n",
       "  8\n",
       "  9\n",
       " 10\n",
       " 11"
      ]
     },
     "execution_count": 27,
     "metadata": {},
     "output_type": "execute_result"
    }
   ],
   "source": [
    "workers()"
   ]
  },
  {
   "cell_type": "code",
   "execution_count": 28,
   "id": "95cb0b1e-aa25-47ca-a90b-7568270a0e70",
   "metadata": {},
   "outputs": [],
   "source": [
    "# rmprocs(workers())"
   ]
  },
  {
   "cell_type": "code",
   "execution_count": 30,
   "id": "c5f623da-d4de-417e-bcd7-ed716fa0c737",
   "metadata": {},
   "outputs": [],
   "source": [
    "@everywhere begin\n",
    "    using Random\n",
    "    using LinearAlgebra\n",
    "    using Optim\n",
    "    using Distributed\n",
    "    \n",
    "    ## Include the source code of BulkLMM to be tested:\n",
    "    include(\"../src/scan.jl\");\n",
    "    include(\"../src/lmm.jl\");\n",
    "    include(\"../src/wls.jl\");\n",
    "    include(\"../src/util.jl\");\n",
    "    include(\"../src/kinship.jl\");\n",
    "    include(\"../src/readData.jl\");\n",
    "    include(\"../src/parallel_helpers.jl\")\n",
    "end"
   ]
  },
  {
   "cell_type": "code",
   "execution_count": 32,
   "id": "103325f8-2429-48c8-814c-9b496aa82e1a",
   "metadata": {},
   "outputs": [],
   "source": [
    "LODs_by_blocks = scan_perms_distributed(pheno_y, geno, kinship; reml = false, nperms = 1000, rndseed = 0, original = true, \n",
    "    option = \"by blocks\", nblocks = 1000);"
   ]
  },
  {
   "cell_type": "code",
   "execution_count": 33,
   "id": "001b0ce5-3dba-44e6-b761-dc3464fed78e",
   "metadata": {},
   "outputs": [],
   "source": [
    "LODs_ordinary = scan_perms(pheno_y, geno, kinship; reml = false, nperms = 1000, rndseed = 0, original = true);"
   ]
  },
  {
   "cell_type": "code",
   "execution_count": 34,
   "id": "fd99e486-f40b-4e00-ad2c-6b38437343b9",
   "metadata": {},
   "outputs": [],
   "source": [
    "LODs_by_nperms = scan_perms_distributed(pheno_y, geno, kinship; reml = false, nperms = 1000, original = true, \n",
    "    option = \"by nperms\", ncopies = 10);"
   ]
  },
  {
   "cell_type": "code",
   "execution_count": 35,
   "id": "6fd187b0-e7fd-4810-8756-70dcea9b950d",
   "metadata": {},
   "outputs": [
    {
     "data": {
      "text/plain": [
       "6×7321 Matrix{Float64}:\n",
       " 0.00819636  0.00819636  0.00819636  …  0.0449878  0.0128283  0.0128283\n",
       " 0.604956    0.604956    0.604956       1.33928    1.29426    1.29426\n",
       " 0.0264842   0.0264842   0.0264842      0.16927    0.069518   0.069518\n",
       " 0.00585467  0.00585467  0.00585467     0.589608   0.14854    0.14854\n",
       " 0.477297    0.477297    0.477297       0.0317133  0.0625366  0.0625366\n",
       " 0.140293    0.140293    0.140293    …  0.0400303  0.0338204  0.0338204"
      ]
     },
     "execution_count": 35,
     "metadata": {},
     "output_type": "execute_result"
    }
   ],
   "source": [
    "LODs_by_blocks[1:6, :]"
   ]
  },
  {
   "cell_type": "code",
   "execution_count": 36,
   "id": "6550382c-841a-45cd-adb6-08d28924cf05",
   "metadata": {},
   "outputs": [
    {
     "data": {
      "text/plain": [
       "6×7321 Matrix{Float64}:\n",
       " 0.00819636  0.00819636  0.00819636  …  0.0449878  0.0128283  0.0128283\n",
       " 0.604956    0.604956    0.604956       1.33928    1.29426    1.29426\n",
       " 0.0264842   0.0264842   0.0264842      0.16927    0.069518   0.069518\n",
       " 0.00585467  0.00585467  0.00585467     0.589608   0.14854    0.14854\n",
       " 0.477297    0.477297    0.477297       0.0317133  0.0625366  0.0625366\n",
       " 0.140293    0.140293    0.140293    …  0.0400303  0.0338204  0.0338204"
      ]
     },
     "execution_count": 36,
     "metadata": {},
     "output_type": "execute_result"
    }
   ],
   "source": [
    "LODs_ordinary[1:6, :]"
   ]
  },
  {
   "cell_type": "code",
   "execution_count": 37,
   "id": "8d93496f-f65a-4a0d-8178-36ed8d7e8853",
   "metadata": {},
   "outputs": [
    {
     "data": {
      "text/plain": [
       "6×7321 Matrix{Float64}:\n",
       " 0.00819636  0.00819636  0.00819636  0.00819636  …  0.0128283    0.0128283\n",
       " 0.152739    0.152739    0.152739    0.152739       0.0338036    0.0338036\n",
       " 0.377097    0.377097    0.377097    0.377097       0.317929     0.317929\n",
       " 0.0185493   0.0185493   0.0185493   0.0185493      0.381719     0.381719\n",
       " 0.00721091  0.00721091  0.00721091  0.00721091     0.000609896  0.000609896\n",
       " 0.00395086  0.00395086  0.00395086  0.00395086  …  0.0105481    0.0105481"
      ]
     },
     "execution_count": 37,
     "metadata": {},
     "output_type": "execute_result"
    }
   ],
   "source": [
    "LODs_by_nperms[1:6, :]"
   ]
  },
  {
   "cell_type": "code",
   "execution_count": 38,
   "id": "ef4ce201-07e8-4ec5-b211-6fd00a5855e1",
   "metadata": {},
   "outputs": [
    {
     "data": {
      "text/plain": [
       "7.888609052210118e-29"
      ]
     },
     "execution_count": 38,
     "metadata": {},
     "output_type": "execute_result"
    }
   ],
   "source": [
    "maxSqDiff(LODs_by_blocks, LODs_ordinary)"
   ]
  },
  {
   "cell_type": "code",
   "execution_count": 39,
   "id": "df2c22fe-0652-4124-abf4-95d327ea90e4",
   "metadata": {},
   "outputs": [
    {
     "data": {
      "text/plain": [
       "7321"
      ]
     },
     "execution_count": 39,
     "metadata": {},
     "output_type": "execute_result"
    }
   ],
   "source": [
    "p"
   ]
  },
  {
   "cell_type": "code",
   "execution_count": 40,
   "id": "b8248121-9d3e-40d6-bdc6-8f8eb6001c8b",
   "metadata": {},
   "outputs": [
    {
     "data": {
      "text/plain": [
       "3"
      ]
     },
     "execution_count": 40,
     "metadata": {},
     "output_type": "execute_result"
    }
   ],
   "source": [
    "floor(Int, 11/3)"
   ]
  },
  {
   "cell_type": "code",
   "execution_count": 41,
   "id": "93201e4d-c1a4-4e38-869f-1613fc060a26",
   "metadata": {},
   "outputs": [
    {
     "data": {
      "text/plain": [
       "2"
      ]
     },
     "execution_count": 41,
     "metadata": {},
     "output_type": "execute_result"
    }
   ],
   "source": [
    "11%3"
   ]
  },
  {
   "cell_type": "code",
   "execution_count": 42,
   "id": "c0d2920a-da53-41da-b555-e861f6d39561",
   "metadata": {},
   "outputs": [
    {
     "data": {
      "text/plain": [
       "121"
      ]
     },
     "execution_count": 42,
     "metadata": {},
     "output_type": "execute_result"
    }
   ],
   "source": [
    "7321%150"
   ]
  },
  {
   "cell_type": "code",
   "execution_count": 43,
   "id": "5f89b5fe-4abc-4866-91e5-b51c765b4234",
   "metadata": {},
   "outputs": [
    {
     "data": {
      "text/plain": [
       "150-element Vector{UnitRange{Int64}}:\n",
       " 1:49\n",
       " 50:98\n",
       " 99:147\n",
       " 148:196\n",
       " 197:245\n",
       " 246:294\n",
       " 295:343\n",
       " 344:392\n",
       " 393:441\n",
       " 442:490\n",
       " 491:539\n",
       " 540:588\n",
       " 589:637\n",
       " ⋮\n",
       " 6763:6811\n",
       " 6812:6860\n",
       " 6861:6909\n",
       " 6910:6958\n",
       " 6959:7007\n",
       " 7008:7056\n",
       " 7057:7105\n",
       " 7106:7154\n",
       " 7155:7203\n",
       " 7204:7252\n",
       " 7253:7301\n",
       " 7302:7321"
      ]
     },
     "execution_count": 43,
     "metadata": {},
     "output_type": "execute_result"
    }
   ],
   "source": [
    "createBlocks(p, ceil(Int, p/150))"
   ]
  },
  {
   "cell_type": "code",
   "execution_count": 44,
   "id": "82aa06a7-7a44-4608-b468-ff8d0ffc82a6",
   "metadata": {},
   "outputs": [
    {
     "data": {
      "text/plain": [
       "151×7321 Matrix{Float64}:\n",
       " 0.00819636  0.00819636  0.00819636  0.00819636  …  0.0128283    0.0128283\n",
       " 0.604956    0.604956    0.604956    0.604956       1.29426      1.29426\n",
       " 0.0264842   0.0264842   0.0264842   0.0264842      0.069518     0.069518\n",
       " 0.00585467  0.00585467  0.00585467  0.00585467     0.14854      0.14854\n",
       " 0.477297    0.477297    0.477297    0.477297       0.0625366    0.0625366\n",
       " 0.140293    0.140293    0.140293    0.140293    …  0.0338204    0.0338204\n",
       " 0.45141     0.45141     0.45141     0.45141        0.278652     0.278652\n",
       " 0.179818    0.179818    0.179818    0.179818       0.0218039    0.0218039\n",
       " 0.213351    0.213351    0.213351    0.213351       0.193549     0.193549\n",
       " 0.0250041   0.0250041   0.0250041   0.0250041      0.00622826   0.00622826\n",
       " 0.801668    0.801668    0.801668    0.801668    …  0.123412     0.123412\n",
       " 0.0351507   0.0351507   0.0351507   0.0351507      0.0480549    0.0480549\n",
       " 0.053255    0.053255    0.053255    0.053255       0.11254      0.11254\n",
       " ⋮                                               ⋱               ⋮\n",
       " 0.00483049  0.00483049  0.00483049  0.00483049     0.459311     0.459311\n",
       " 0.0412246   0.0412246   0.0412246   0.0412246   …  0.0401277    0.0401277\n",
       " 4.53453e-5  4.53453e-5  4.53453e-5  4.53453e-5     0.196684     0.196684\n",
       " 0.32485     0.32485     0.32485     0.32485        0.135021     0.135021\n",
       " 0.0399362   0.0399362   0.0399362   0.0399362      0.093595     0.093595\n",
       " 0.56184     0.56184     0.56184     0.56184        0.000123341  0.000123341\n",
       " 0.135765    0.135765    0.135765    0.135765    …  0.208221     0.208221\n",
       " 0.0294291   0.0294291   0.0294291   0.0294291      0.203095     0.203095\n",
       " 0.046853    0.046853    0.046853    0.046853       0.00101948   0.00101948\n",
       " 0.0827386   0.0827386   0.0827386   0.0827386      0.519561     0.519561\n",
       " 0.068359    0.068359    0.068359    0.068359       0.463478     0.463478\n",
       " 0.757446    0.757446    0.757446    0.757446    …  0.237061     0.237061"
      ]
     },
     "execution_count": 44,
     "metadata": {},
     "output_type": "execute_result"
    }
   ],
   "source": [
    "scan_perms_distributed(pheno_y, geno, kinship; reml = false, nperms = 150, rndseed = 0, original = true, \n",
    "    option = \"by blocks\", nblocks = 150)"
   ]
  },
  {
   "cell_type": "code",
   "execution_count": 45,
   "id": "645daae5-3176-463d-af92-108bb926cc82",
   "metadata": {},
   "outputs": [
    {
     "data": {
      "text/plain": [
       "BenchmarkTools.Trial: 18 samples with 1 evaluation.\n",
       " Range \u001b[90m(\u001b[39m\u001b[36m\u001b[1mmin\u001b[22m\u001b[39m … \u001b[35mmax\u001b[39m\u001b[90m):  \u001b[39m\u001b[36m\u001b[1m270.318 ms\u001b[22m\u001b[39m … \u001b[35m315.843 ms\u001b[39m  \u001b[90m┊\u001b[39m GC \u001b[90m(\u001b[39mmin … max\u001b[90m): \u001b[39m0.00% … 0.00%\n",
       " Time  \u001b[90m(\u001b[39m\u001b[34m\u001b[1mmedian\u001b[22m\u001b[39m\u001b[90m):     \u001b[39m\u001b[34m\u001b[1m279.174 ms               \u001b[22m\u001b[39m\u001b[90m┊\u001b[39m GC \u001b[90m(\u001b[39mmedian\u001b[90m):    \u001b[39m0.00%\n",
       " Time  \u001b[90m(\u001b[39m\u001b[32m\u001b[1mmean\u001b[22m\u001b[39m ± \u001b[32mσ\u001b[39m\u001b[90m):   \u001b[39m\u001b[32m\u001b[1m287.181 ms\u001b[22m\u001b[39m ± \u001b[32m 14.976 ms\u001b[39m  \u001b[90m┊\u001b[39m GC \u001b[90m(\u001b[39mmean ± σ\u001b[90m):  \u001b[39m0.20% ± 0.45%\n",
       "\n",
       "  \u001b[39m \u001b[39m \u001b[39m \u001b[39m \u001b[39m \u001b[39m \u001b[39m█\u001b[39m \u001b[39m \u001b[39m▃\u001b[39m \u001b[39m \u001b[34m \u001b[39m\u001b[39m \u001b[39m \u001b[39m \u001b[39m \u001b[39m \u001b[39m \u001b[39m \u001b[39m \u001b[39m \u001b[39m \u001b[32m \u001b[39m\u001b[39m \u001b[39m \u001b[39m \u001b[39m \u001b[39m \u001b[39m \u001b[39m \u001b[39m \u001b[39m \u001b[39m \u001b[39m \u001b[39m \u001b[39m \u001b[39m \u001b[39m \u001b[39m \u001b[39m \u001b[39m \u001b[39m \u001b[39m \u001b[39m \u001b[39m \u001b[39m \u001b[39m \u001b[39m \u001b[39m \u001b[39m \u001b[39m \u001b[39m \u001b[39m \u001b[39m \u001b[39m \u001b[39m \u001b[39m \u001b[39m \u001b[39m \u001b[39m \u001b[39m \u001b[39m \n",
       "  \u001b[39m▇\u001b[39m▁\u001b[39m▁\u001b[39m▇\u001b[39m▇\u001b[39m▁\u001b[39m█\u001b[39m▁\u001b[39m▁\u001b[39m█\u001b[39m▁\u001b[39m▇\u001b[34m▇\u001b[39m\u001b[39m▁\u001b[39m▁\u001b[39m▁\u001b[39m▁\u001b[39m▇\u001b[39m▁\u001b[39m▁\u001b[39m▁\u001b[39m▁\u001b[39m▁\u001b[32m▁\u001b[39m\u001b[39m▁\u001b[39m▁\u001b[39m▁\u001b[39m▁\u001b[39m▁\u001b[39m▁\u001b[39m▁\u001b[39m▁\u001b[39m▇\u001b[39m▁\u001b[39m▁\u001b[39m▁\u001b[39m▁\u001b[39m▇\u001b[39m▁\u001b[39m▁\u001b[39m▇\u001b[39m▁\u001b[39m▁\u001b[39m▁\u001b[39m▁\u001b[39m▁\u001b[39m▁\u001b[39m▇\u001b[39m▇\u001b[39m▁\u001b[39m▁\u001b[39m▇\u001b[39m▁\u001b[39m▁\u001b[39m▁\u001b[39m▁\u001b[39m▁\u001b[39m▁\u001b[39m▁\u001b[39m▁\u001b[39m▇\u001b[39m \u001b[39m▁\n",
       "  270 ms\u001b[90m           Histogram: frequency by time\u001b[39m          316 ms \u001b[0m\u001b[1m<\u001b[22m\n",
       "\n",
       " Memory estimate\u001b[90m: \u001b[39m\u001b[33m44.51 MiB\u001b[39m, allocs estimate\u001b[90m: \u001b[39m\u001b[33m13273\u001b[39m."
      ]
     },
     "execution_count": 45,
     "metadata": {},
     "output_type": "execute_result"
    }
   ],
   "source": [
    "@benchmark scan_perms_distributed(pheno_y, geno, kinship; reml = false, nperms = 150, rndseed = 0, original = true, \n",
    "    option = \"by blocks\", nblocks = 150)"
   ]
  },
  {
   "cell_type": "code",
   "execution_count": 46,
   "id": "d85bce0c-b78d-444f-8e15-b5c67ee3120d",
   "metadata": {},
   "outputs": [
    {
     "data": {
      "text/plain": [
       "BenchmarkTools.Trial: 6 samples with 1 evaluation.\n",
       " Range \u001b[90m(\u001b[39m\u001b[36m\u001b[1mmin\u001b[22m\u001b[39m … \u001b[35mmax\u001b[39m\u001b[90m):  \u001b[39m\u001b[36m\u001b[1m801.650 ms\u001b[22m\u001b[39m … \u001b[35m951.926 ms\u001b[39m  \u001b[90m┊\u001b[39m GC \u001b[90m(\u001b[39mmin … max\u001b[90m): \u001b[39m1.16% … 1.68%\n",
       " Time  \u001b[90m(\u001b[39m\u001b[34m\u001b[1mmedian\u001b[22m\u001b[39m\u001b[90m):     \u001b[39m\u001b[34m\u001b[1m821.979 ms               \u001b[22m\u001b[39m\u001b[90m┊\u001b[39m GC \u001b[90m(\u001b[39mmedian\u001b[90m):    \u001b[39m0.50%\n",
       " Time  \u001b[90m(\u001b[39m\u001b[32m\u001b[1mmean\u001b[22m\u001b[39m ± \u001b[32mσ\u001b[39m\u001b[90m):   \u001b[39m\u001b[32m\u001b[1m843.708 ms\u001b[22m\u001b[39m ± \u001b[32m 54.664 ms\u001b[39m  \u001b[90m┊\u001b[39m GC \u001b[90m(\u001b[39mmean ± σ\u001b[90m):  \u001b[39m0.66% ± 0.74%\n",
       "\n",
       "  \u001b[39m▁\u001b[39m \u001b[39m \u001b[39m \u001b[39m \u001b[39m \u001b[39m \u001b[39m▁\u001b[34m█\u001b[39m\u001b[39m \u001b[39m \u001b[39m \u001b[39m \u001b[39m \u001b[39m \u001b[39m \u001b[39m \u001b[32m▁\u001b[39m\u001b[39m \u001b[39m \u001b[39m \u001b[39m \u001b[39m \u001b[39m \u001b[39m \u001b[39m \u001b[39m \u001b[39m \u001b[39m \u001b[39m \u001b[39m \u001b[39m \u001b[39m \u001b[39m \u001b[39m \u001b[39m \u001b[39m \u001b[39m \u001b[39m \u001b[39m \u001b[39m \u001b[39m \u001b[39m \u001b[39m \u001b[39m \u001b[39m \u001b[39m \u001b[39m \u001b[39m \u001b[39m \u001b[39m \u001b[39m \u001b[39m \u001b[39m \u001b[39m \u001b[39m \u001b[39m \u001b[39m \u001b[39m \u001b[39m \u001b[39m▁\u001b[39m \u001b[39m \n",
       "  \u001b[39m█\u001b[39m▁\u001b[39m▁\u001b[39m▁\u001b[39m▁\u001b[39m▁\u001b[39m▁\u001b[39m█\u001b[34m█\u001b[39m\u001b[39m▁\u001b[39m▁\u001b[39m▁\u001b[39m▁\u001b[39m▁\u001b[39m▁\u001b[39m▁\u001b[39m▁\u001b[32m█\u001b[39m\u001b[39m▁\u001b[39m▁\u001b[39m▁\u001b[39m▁\u001b[39m▁\u001b[39m▁\u001b[39m▁\u001b[39m▁\u001b[39m▁\u001b[39m▁\u001b[39m▁\u001b[39m▁\u001b[39m▁\u001b[39m▁\u001b[39m▁\u001b[39m▁\u001b[39m▁\u001b[39m▁\u001b[39m▁\u001b[39m▁\u001b[39m▁\u001b[39m▁\u001b[39m▁\u001b[39m▁\u001b[39m▁\u001b[39m▁\u001b[39m▁\u001b[39m▁\u001b[39m▁\u001b[39m▁\u001b[39m▁\u001b[39m▁\u001b[39m▁\u001b[39m▁\u001b[39m▁\u001b[39m▁\u001b[39m▁\u001b[39m▁\u001b[39m▁\u001b[39m▁\u001b[39m▁\u001b[39m▁\u001b[39m█\u001b[39m \u001b[39m▁\n",
       "  802 ms\u001b[90m           Histogram: frequency by time\u001b[39m          952 ms \u001b[0m\u001b[1m<\u001b[22m\n",
       "\n",
       " Memory estimate\u001b[90m: \u001b[39m\u001b[33m140.62 MiB\u001b[39m, allocs estimate\u001b[90m: \u001b[39m\u001b[33m15661\u001b[39m."
      ]
     },
     "execution_count": 46,
     "metadata": {},
     "output_type": "execute_result"
    }
   ],
   "source": [
    "@benchmark scan_perms_distributed(pheno_y, geno, kinship; reml = false, nperms = 1000, rndseed = 0, original = true, \n",
    "    option = \"by blocks\", nblocks = 150)"
   ]
  },
  {
   "cell_type": "code",
   "execution_count": 47,
   "id": "e5b2a0f2-8f51-4a97-8989-73009ded30d7",
   "metadata": {},
   "outputs": [
    {
     "data": {
      "text/plain": [
       "BenchmarkTools.Trial: 2 samples with 1 evaluation.\n",
       " Range \u001b[90m(\u001b[39m\u001b[36m\u001b[1mmin\u001b[22m\u001b[39m … \u001b[35mmax\u001b[39m\u001b[90m):  \u001b[39m\u001b[36m\u001b[1m2.598 s\u001b[22m\u001b[39m … \u001b[35m   2.816 s\u001b[39m  \u001b[90m┊\u001b[39m GC \u001b[90m(\u001b[39mmin … max\u001b[90m): \u001b[39m5.32% … 6.68%\n",
       " Time  \u001b[90m(\u001b[39m\u001b[34m\u001b[1mmedian\u001b[22m\u001b[39m\u001b[90m):     \u001b[39m\u001b[34m\u001b[1m2.707 s               \u001b[22m\u001b[39m\u001b[90m┊\u001b[39m GC \u001b[90m(\u001b[39mmedian\u001b[90m):    \u001b[39m6.03%\n",
       " Time  \u001b[90m(\u001b[39m\u001b[32m\u001b[1mmean\u001b[22m\u001b[39m ± \u001b[32mσ\u001b[39m\u001b[90m):   \u001b[39m\u001b[32m\u001b[1m2.707 s\u001b[22m\u001b[39m ± \u001b[32m154.488 ms\u001b[39m  \u001b[90m┊\u001b[39m GC \u001b[90m(\u001b[39mmean ± σ\u001b[90m):  \u001b[39m6.03% ± 0.96%\n",
       "\n",
       "  \u001b[34m█\u001b[39m\u001b[39m \u001b[39m \u001b[39m \u001b[39m \u001b[39m \u001b[39m \u001b[39m \u001b[39m \u001b[39m \u001b[39m \u001b[39m \u001b[39m \u001b[39m \u001b[39m \u001b[39m \u001b[39m \u001b[39m \u001b[39m \u001b[39m \u001b[39m \u001b[39m \u001b[39m \u001b[39m \u001b[39m \u001b[39m \u001b[39m \u001b[39m \u001b[39m \u001b[32m \u001b[39m\u001b[39m \u001b[39m \u001b[39m \u001b[39m \u001b[39m \u001b[39m \u001b[39m \u001b[39m \u001b[39m \u001b[39m \u001b[39m \u001b[39m \u001b[39m \u001b[39m \u001b[39m \u001b[39m \u001b[39m \u001b[39m \u001b[39m \u001b[39m \u001b[39m \u001b[39m \u001b[39m \u001b[39m \u001b[39m \u001b[39m \u001b[39m \u001b[39m█\u001b[39m \u001b[39m \n",
       "  \u001b[34m█\u001b[39m\u001b[39m▁\u001b[39m▁\u001b[39m▁\u001b[39m▁\u001b[39m▁\u001b[39m▁\u001b[39m▁\u001b[39m▁\u001b[39m▁\u001b[39m▁\u001b[39m▁\u001b[39m▁\u001b[39m▁\u001b[39m▁\u001b[39m▁\u001b[39m▁\u001b[39m▁\u001b[39m▁\u001b[39m▁\u001b[39m▁\u001b[39m▁\u001b[39m▁\u001b[39m▁\u001b[39m▁\u001b[39m▁\u001b[39m▁\u001b[39m▁\u001b[39m▁\u001b[32m▁\u001b[39m\u001b[39m▁\u001b[39m▁\u001b[39m▁\u001b[39m▁\u001b[39m▁\u001b[39m▁\u001b[39m▁\u001b[39m▁\u001b[39m▁\u001b[39m▁\u001b[39m▁\u001b[39m▁\u001b[39m▁\u001b[39m▁\u001b[39m▁\u001b[39m▁\u001b[39m▁\u001b[39m▁\u001b[39m▁\u001b[39m▁\u001b[39m▁\u001b[39m▁\u001b[39m▁\u001b[39m▁\u001b[39m▁\u001b[39m▁\u001b[39m▁\u001b[39m█\u001b[39m \u001b[39m▁\n",
       "  2.6 s\u001b[90m          Histogram: frequency by time\u001b[39m         2.82 s \u001b[0m\u001b[1m<\u001b[22m\n",
       "\n",
       " Memory estimate\u001b[90m: \u001b[39m\u001b[33m13.30 GiB\u001b[39m, allocs estimate\u001b[90m: \u001b[39m\u001b[33m74635\u001b[39m."
      ]
     },
     "execution_count": 47,
     "metadata": {},
     "output_type": "execute_result"
    }
   ],
   "source": [
    "@benchmark scan_perms(pheno_y, geno, kinship; reml = false, nperms = 1000, rndseed = 0, original = true)"
   ]
  },
  {
   "cell_type": "code",
   "execution_count": 48,
   "id": "3e3b557a-f2d4-48fd-a007-8fff457a4e02",
   "metadata": {},
   "outputs": [
    {
     "data": {
      "text/plain": [
       "BenchmarkTools.Trial: 112 samples with 1 evaluation.\n",
       " Range \u001b[90m(\u001b[39m\u001b[36m\u001b[1mmin\u001b[22m\u001b[39m … \u001b[35mmax\u001b[39m\u001b[90m):  \u001b[39m\u001b[36m\u001b[1m27.908 ms\u001b[22m\u001b[39m … \u001b[35m100.228 ms\u001b[39m  \u001b[90m┊\u001b[39m GC \u001b[90m(\u001b[39mmin … max\u001b[90m): \u001b[39m 0.00% … 62.44%\n",
       " Time  \u001b[90m(\u001b[39m\u001b[34m\u001b[1mmedian\u001b[22m\u001b[39m\u001b[90m):     \u001b[39m\u001b[34m\u001b[1m40.179 ms               \u001b[22m\u001b[39m\u001b[90m┊\u001b[39m GC \u001b[90m(\u001b[39mmedian\u001b[90m):    \u001b[39m 0.00%\n",
       " Time  \u001b[90m(\u001b[39m\u001b[32m\u001b[1mmean\u001b[22m\u001b[39m ± \u001b[32mσ\u001b[39m\u001b[90m):   \u001b[39m\u001b[32m\u001b[1m44.629 ms\u001b[22m\u001b[39m ± \u001b[32m 18.538 ms\u001b[39m  \u001b[90m┊\u001b[39m GC \u001b[90m(\u001b[39mmean ± σ\u001b[90m):  \u001b[39m18.37% ± 22.57%\n",
       "\n",
       "  \u001b[39m▄\u001b[39m \u001b[39m▁\u001b[39m \u001b[39m \u001b[39m \u001b[39m \u001b[39m \u001b[39m \u001b[39m▁\u001b[39m \u001b[34m█\u001b[39m\u001b[39m \u001b[39m \u001b[39m \u001b[39m \u001b[32m \u001b[39m\u001b[39m \u001b[39m \u001b[39m \u001b[39m \u001b[39m \u001b[39m \u001b[39m \u001b[39m \u001b[39m \u001b[39m \u001b[39m \u001b[39m \u001b[39m \u001b[39m \u001b[39m \u001b[39m \u001b[39m \u001b[39m \u001b[39m \u001b[39m \u001b[39m \u001b[39m \u001b[39m \u001b[39m \u001b[39m \u001b[39m \u001b[39m \u001b[39m \u001b[39m \u001b[39m \u001b[39m \u001b[39m▁\u001b[39m \u001b[39m \u001b[39m \u001b[39m \u001b[39m \u001b[39m \u001b[39m \u001b[39m \u001b[39m \u001b[39m \u001b[39m▁\u001b[39m \u001b[39m \n",
       "  \u001b[39m█\u001b[39m▆\u001b[39m█\u001b[39m▁\u001b[39m▁\u001b[39m▁\u001b[39m▁\u001b[39m▄\u001b[39m▁\u001b[39m█\u001b[39m▄\u001b[34m█\u001b[39m\u001b[39m▄\u001b[39m▁\u001b[39m▁\u001b[39m▁\u001b[32m▁\u001b[39m\u001b[39m▁\u001b[39m▁\u001b[39m▁\u001b[39m▁\u001b[39m▁\u001b[39m▁\u001b[39m▁\u001b[39m▁\u001b[39m▁\u001b[39m▁\u001b[39m▁\u001b[39m▁\u001b[39m▁\u001b[39m▁\u001b[39m▁\u001b[39m▁\u001b[39m▁\u001b[39m▁\u001b[39m▁\u001b[39m▁\u001b[39m▁\u001b[39m▁\u001b[39m▁\u001b[39m▁\u001b[39m▁\u001b[39m▁\u001b[39m▁\u001b[39m▁\u001b[39m▁\u001b[39m▁\u001b[39m▁\u001b[39m█\u001b[39m▆\u001b[39m▁\u001b[39m▁\u001b[39m▁\u001b[39m▁\u001b[39m▁\u001b[39m▁\u001b[39m▁\u001b[39m▁\u001b[39m▁\u001b[39m█\u001b[39m \u001b[39m▄\n",
       "  27.9 ms\u001b[90m       \u001b[39m\u001b[90mHistogram: \u001b[39m\u001b[90m\u001b[1mlog(\u001b[22m\u001b[39m\u001b[90mfrequency\u001b[39m\u001b[90m\u001b[1m)\u001b[22m\u001b[39m\u001b[90m by time\u001b[39m      92.6 ms \u001b[0m\u001b[1m<\u001b[22m\n",
       "\n",
       " Memory estimate\u001b[90m: \u001b[39m\u001b[33m33.23 MiB\u001b[39m, allocs estimate\u001b[90m: \u001b[39m\u001b[33m73607\u001b[39m."
      ]
     },
     "execution_count": 48,
     "metadata": {},
     "output_type": "execute_result"
    }
   ],
   "source": [
    "@benchmark scan_null(pheno_y, geno, kinship)"
   ]
  },
  {
   "cell_type": "code",
   "execution_count": 49,
   "id": "749baf16-5e89-4f55-a110-2977392eca21",
   "metadata": {},
   "outputs": [
    {
     "data": {
      "text/plain": [
       "35556"
      ]
     },
     "execution_count": 49,
     "metadata": {},
     "output_type": "execute_result"
    }
   ],
   "source": [
    "m"
   ]
  },
  {
   "cell_type": "code",
   "execution_count": 50,
   "id": "4b63ccea-7361-4c58-82ed-b9c18b2486df",
   "metadata": {},
   "outputs": [
    {
     "name": "stdout",
     "output_type": "stream",
     "text": [
      "search: \u001b[0m\u001b[1mt\u001b[22m\u001b[0m\u001b[1mr\u001b[22m\u001b[0m\u001b[1ma\u001b[22m\u001b[0m\u001b[1mn\u001b[22m\u001b[0m\u001b[1ms\u001b[22m\u001b[0m\u001b[1mf\u001b[22m\u001b[0m\u001b[1mo\u001b[22m\u001b[0m\u001b[1mr\u001b[22m\u001b[0m\u001b[1mm\u001b[22m\u001b[0m\u001b[1m_\u001b[22m\u001b[0m\u001b[1mp\u001b[22m\u001b[0m\u001b[1me\u001b[22m\u001b[0m\u001b[1mr\u001b[22m\u001b[0m\u001b[1mm\u001b[22m\u001b[0m\u001b[1mu\u001b[22m\u001b[0m\u001b[1mt\u001b[22m\u001b[0m\u001b[1me\u001b[22m \u001b[0m\u001b[1mt\u001b[22m\u001b[0m\u001b[1mr\u001b[22m\u001b[0m\u001b[1ma\u001b[22m\u001b[0m\u001b[1mn\u001b[22m\u001b[0m\u001b[1ms\u001b[22m\u001b[0m\u001b[1mf\u001b[22m\u001b[0m\u001b[1mo\u001b[22m\u001b[0m\u001b[1mr\u001b[22m\u001b[0m\u001b[1mm\u001b[22m\u001b[0m\u001b[1m_\u001b[22mbxd_\u001b[0m\u001b[1mp\u001b[22mh\u001b[0m\u001b[1me\u001b[22mno_to_gemma\n",
      "\n"
     ]
    },
    {
     "data": {
      "text/latex": [
       "No documentation found.\n",
       "\n",
       "\\texttt{transform\\_permute} is a \\texttt{Function}.\n",
       "\n",
       "\\begin{verbatim}\n",
       "# 1 method for generic function \"transform_permute\":\n",
       "[1] transform_permute(r0::Matrix{Float64}; nperms, rndseed, original) in Main at /home/xyu/github/BulkLMM.jl/src/parallel_helpers.jl:175\n",
       "\\end{verbatim}\n"
      ],
      "text/markdown": [
       "No documentation found.\n",
       "\n",
       "`transform_permute` is a `Function`.\n",
       "\n",
       "```\n",
       "# 1 method for generic function \"transform_permute\":\n",
       "[1] transform_permute(r0::Matrix{Float64}; nperms, rndseed, original) in Main at /home/xyu/github/BulkLMM.jl/src/parallel_helpers.jl:175\n",
       "```\n"
      ],
      "text/plain": [
       "  No documentation found.\n",
       "\n",
       "  \u001b[36mtransform_permute\u001b[39m is a \u001b[36mFunction\u001b[39m.\n",
       "\n",
       "\u001b[36m  # 1 method for generic function \"transform_permute\":\u001b[39m\n",
       "\u001b[36m  [1] transform_permute(r0::Matrix{Float64}; nperms, rndseed, original) in Main at /home/xyu/github/BulkLMM.jl/src/parallel_helpers.jl:175\u001b[39m"
      ]
     },
     "execution_count": 50,
     "metadata": {},
     "output_type": "execute_result"
    }
   ],
   "source": [
    "?transform_permute"
   ]
  },
  {
   "cell_type": "code",
   "execution_count": 51,
   "id": "cde7aec0-d09b-448a-a804-e8426c4589bc",
   "metadata": {},
   "outputs": [
    {
     "data": {
      "text/plain": [
       "79×11 Matrix{Float64}:\n",
       " -0.42257    -0.399306   0.106865   …  -0.528949    0.54331    -0.430699\n",
       " -1.48199     0.200302  -0.327519       0.207851   -1.44553    -0.220243\n",
       " -1.44553     0.111675   0.699129       0.511444   -0.119937   -0.137428\n",
       "  0.699129    0.812863  -0.131841      -0.220243    0.768221   -1.39413\n",
       "  1.27625     1.12818    0.31017       -0.137428    1.27625     0.404775\n",
       "  0.425936   -0.220243  -1.27416    …  -0.430699    0.511444   -0.156672\n",
       " -0.365797   -0.463753   0.768221      -0.641664    0.574367    1.27625\n",
       " -0.0704027  -0.746313  -0.365797       0.517884    0.517884   -0.399306\n",
       " -0.703862   -0.288931   0.0414604      0.617305   -0.746313    0.699129\n",
       " -0.653201    0.101631  -0.746313       0.0543167  -0.137428   -0.365797\n",
       " -0.0971895  -0.580751  -1.13838    …  -0.746313    0.0414604  -1.48199\n",
       "  0.225635    0.54331   -0.883433      -0.365797   -0.365797    0.656254\n",
       "  0.171204    0.106865  -1.44553        0.106865   -0.430699   -0.313615\n",
       "  ⋮                                 ⋱                           ⋮\n",
       " -0.341372    1.27625   -0.0971895     -1.13838     0.812863    0.0575094\n",
       " -0.119937   -0.313615  -0.528949      -0.0704027  -0.703862    0.768221\n",
       " -0.430699    0.425936  -1.48933        0.455539    0.0701991   0.0414604\n",
       " -1.31797     0.225635  -0.0704027  …  -1.48199     0.495717    0.225635\n",
       " -0.668452    0.455539   0.179878       0.651152   -0.86486     0.200302\n",
       "  0.812863    0.31017   -0.668452       0.586946   -0.0704027  -0.668452\n",
       " -1.68697    -0.31518   -0.86486        0.425936    0.656254    0.101631\n",
       "  1.12818    -0.42257   -0.220243      -0.580751    0.101631    0.246757\n",
       "  0.0154812  -0.327519   0.651152   …   1.12818    -0.0514522  -0.918951\n",
       " -0.641664   -0.86486    0.404775       0.537154   -0.641664   -0.463753\n",
       " -1.48933    -1.54532   -0.703862      -0.653201   -0.156672   -1.27416\n",
       "  0.111675    0.617305   0.586946      -0.668452   -0.341372    0.455539"
      ]
     },
     "execution_count": 51,
     "metadata": {},
     "output_type": "execute_result"
    }
   ],
   "source": [
    "test_perm = transform_permute(r0; nperms = 10, rndseed = 0, original = true)"
   ]
  },
  {
   "cell_type": "code",
   "execution_count": 52,
   "id": "ca2c0488-8e13-4059-9a16-59ae3877cf21",
   "metadata": {},
   "outputs": [
    {
     "data": {
      "text/plain": [
       "11×7321 Matrix{Float64}:\n",
       " 0.00819636  0.00819636  0.00819636  …  0.0449878  0.0128283   0.0128283\n",
       " 0.604956    0.604956    0.604956       1.33928    1.29426     1.29426\n",
       " 0.0264842   0.0264842   0.0264842      0.16927    0.069518    0.069518\n",
       " 0.00585467  0.00585467  0.00585467     0.589608   0.14854     0.14854\n",
       " 0.477297    0.477297    0.477297       0.0317133  0.0625366   0.0625366\n",
       " 0.140293    0.140293    0.140293    …  0.0400303  0.0338204   0.0338204\n",
       " 0.45141     0.45141     0.45141        0.459152   0.278652    0.278652\n",
       " 0.179818    0.179818    0.179818       0.0430329  0.0218039   0.0218039\n",
       " 0.213351    0.213351    0.213351       0.179031   0.193549    0.193549\n",
       " 0.0250041   0.0250041   0.0250041      0.0679043  0.00622826  0.00622826\n",
       " 0.801668    0.801668    0.801668    …  0.42936    0.123412    0.123412"
      ]
     },
     "execution_count": 52,
     "metadata": {},
     "output_type": "execute_result"
    }
   ],
   "source": [
    "test_univar = scan_perms_distributed(pheno_y, geno, kinship; reml = false, nperms = 10, rndseed = 0, original = true, \n",
    "    option = \"by blocks\", nblocks = 150)"
   ]
  },
  {
   "cell_type": "code",
   "execution_count": 53,
   "id": "c129ec38-0f3d-432b-810f-33abb216214e",
   "metadata": {},
   "outputs": [
    {
     "data": {
      "text/plain": [
       "11×7321 Matrix{Float64}:\n",
       " 0.00819636  0.00819636  0.00819636  …  0.0449878  0.0128283   0.0128283\n",
       " 0.604956    0.604956    0.604956       1.33928    1.29426     1.29426\n",
       " 0.0264842   0.0264842   0.0264842      0.16927    0.069518    0.069518\n",
       " 0.00585467  0.00585467  0.00585467     0.589608   0.14854     0.14854\n",
       " 0.477297    0.477297    0.477297       0.0317133  0.0625366   0.0625366\n",
       " 0.140293    0.140293    0.140293    …  0.0400303  0.0338204   0.0338204\n",
       " 0.45141     0.45141     0.45141        0.459152   0.278652    0.278652\n",
       " 0.179818    0.179818    0.179818       0.0430329  0.0218039   0.0218039\n",
       " 0.213351    0.213351    0.213351       0.179031   0.193549    0.193549\n",
       " 0.0250041   0.0250041   0.0250041      0.0679043  0.00622826  0.00622826\n",
       " 0.801668    0.801668    0.801668    …  0.42936    0.123412    0.123412"
      ]
     },
     "execution_count": 53,
     "metadata": {},
     "output_type": "execute_result"
    }
   ],
   "source": [
    "scan_perms(pheno_y, geno, kinship; nperms = 10, rndseed = 0, original = true)"
   ]
  },
  {
   "cell_type": "code",
   "execution_count": 54,
   "id": "e8338f6b-d9ea-45a1-80bc-42b9febc49cd",
   "metadata": {},
   "outputs": [
    {
     "data": {
      "text/plain": [
       "79×7321 Matrix{Float64}:\n",
       "  0.285431     0.285431     0.285431    …  -0.263737    -0.263737\n",
       "  0.831539     0.831539     0.831539       -0.0785915   -0.0785915\n",
       " -1.66534     -1.66534     -1.66534        -0.200825    -0.200825\n",
       " -0.108772    -0.108772    -0.108772       -0.595318    -0.595318\n",
       "  0.303485     0.303485     0.303485       -0.0773292   -0.0773292\n",
       "  0.120631     0.120631     0.120631    …   0.0323032    0.0323032\n",
       " -0.120643    -0.120643    -0.120643        0.212935     0.212935\n",
       "  0.165916     0.165916     0.165916        0.477606     0.477606\n",
       " -0.00450792  -0.00450792  -0.00450792     -1.36891     -1.36891\n",
       " -0.447304    -0.447304    -0.447304       -0.229852    -0.229852\n",
       " -0.0323028   -0.0323028   -0.0323028   …  -0.43835     -0.43835\n",
       "  0.18168      0.18168      0.18168        -0.578258    -0.578258\n",
       " -0.438445    -0.438445    -0.438445       -0.66382     -0.66382\n",
       "  ⋮                                     ⋱                ⋮\n",
       "  1.09159      1.09159      1.09159         0.433778     0.433778\n",
       "  0.997817     0.997817     0.997817        0.0323762    0.0323762\n",
       " -0.313155    -0.313155    -0.313155       -0.0928109   -0.0928109\n",
       "  0.214293     0.214293     0.214293    …  -0.00212371  -0.00212371\n",
       "  0.308623     0.308623     0.308623       -0.73571     -0.73571\n",
       " -1.1992      -1.1992      -1.1992         -1.17048     -1.17048\n",
       "  0.249143     0.249143     0.249143        0.458595     0.458595\n",
       "  0.830919     0.830919     0.830919       -0.476842    -0.476842\n",
       " -0.465574    -0.465574    -0.465574    …   0.181589     0.181589\n",
       " -1.29619     -1.29619     -1.29619         1.11956      1.11956\n",
       " -0.268891    -0.268891    -0.268891       -0.334081    -0.334081\n",
       "  0.00799623   0.00799623   0.00799623     -0.161643    -0.161643"
      ]
     },
     "execution_count": 54,
     "metadata": {},
     "output_type": "execute_result"
    }
   ],
   "source": [
    "X00"
   ]
  },
  {
   "cell_type": "code",
   "execution_count": 55,
   "id": "caf2aece-f7f6-467f-bf26-ea3ac828fd06",
   "metadata": {},
   "outputs": [],
   "source": [
    "# colStandardize!(X00)"
   ]
  },
  {
   "cell_type": "code",
   "execution_count": 56,
   "id": "b3e5451f-6e82-41cd-af9d-bc9e1d6b5cf2",
   "metadata": {},
   "outputs": [],
   "source": [
    "# colStandardize!(test_perm)"
   ]
  },
  {
   "cell_type": "code",
   "execution_count": 57,
   "id": "7b32a206-dea2-4aa5-b961-33cecf33f271",
   "metadata": {},
   "outputs": [
    {
     "ename": "LoadError",
     "evalue": "UndefVarError: r2lod not defined",
     "output_type": "error",
     "traceback": [
      "UndefVarError: r2lod not defined",
      "",
      "Stacktrace:",
      " [1] top-level scope",
      "   @ In[57]:1",
      " [2] eval",
      "   @ ./boot.jl:368 [inlined]",
      " [3] include_string(mapexpr::typeof(REPL.softscope), mod::Module, code::String, filename::String)",
      "   @ Base ./loading.jl:1428"
     ]
    }
   ],
   "source": [
    "r2lod(cor(test_perm[:, 1], X00[:, 1]), n)"
   ]
  },
  {
   "cell_type": "code",
   "execution_count": null,
   "id": "e3df6120-144c-40e1-a91a-1c1401240cf2",
   "metadata": {},
   "outputs": [],
   "source": []
  },
  {
   "cell_type": "code",
   "execution_count": 58,
   "id": "a30c384c-7b03-470e-9371-c7684bc91f32",
   "metadata": {},
   "outputs": [
    {
     "data": {
      "text/plain": [
       "r2lod (generic function with 1 method)"
      ]
     },
     "execution_count": 58,
     "metadata": {},
     "output_type": "execute_result"
    }
   ],
   "source": [
    "function r2lod(r::Float64, n::Int64)\n",
    "    \n",
    "    return n/2 * log10(1-r^2)\n",
    "    \n",
    "end"
   ]
  },
  {
   "cell_type": "code",
   "execution_count": 59,
   "id": "c5d2446d-5fb8-4605-b42b-401adb3d2321",
   "metadata": {},
   "outputs": [
    {
     "data": {
      "text/plain": [
       "11×7321 Matrix{Float64}:\n",
       " -0.736914  -0.736914  -0.736914  …  -1.88829  -1.00027   -1.00027\n",
       "  6.27628    6.27628    6.27628      10.1116    9.8625     9.8625\n",
       " -1.32429   -1.32429   -1.32429      -3.65616  -2.32662   -2.32662\n",
       " -0.622834  -0.622834  -0.622834      6.78214   3.39703    3.39703\n",
       " -5.5852    -5.5852    -5.5852       -1.58572  -2.20693   -2.20693\n",
       " -3.04291   -3.04291   -3.04291   …  -1.78134  -1.62365   -1.62365\n",
       "  5.43366    5.43366    5.43366      -5.99632  -4.64393   -4.64393\n",
       "  3.443      3.443      3.443         1.84686   1.3039     1.3039\n",
       " -3.74849   -3.74849   -3.74849      -3.75957  -3.87515   -3.87515\n",
       "  1.28678    1.28678    1.28678       2.31913   0.697044   0.697044\n",
       "  7.20446    7.20446    7.20446   …  -5.80103  -3.09752   -3.09752"
      ]
     },
     "execution_count": 59,
     "metadata": {},
     "output_type": "execute_result"
    }
   ],
   "source": [
    "test_r2 = transpose(test_perm)*X00"
   ]
  },
  {
   "cell_type": "code",
   "execution_count": 60,
   "id": "801334e1-370d-413b-9f4f-906f18d3aae9",
   "metadata": {},
   "outputs": [
    {
     "data": {
      "text/plain": [
       "11×7321 Matrix{Float64}:\n",
       "  0.543042   0.543042   0.543042   0.543042  …    3.56564   1.00055   1.00055\n",
       " 39.3917    39.3917    39.3917    39.3917       102.245    97.2689   97.2689\n",
       "  1.75375    1.75375    1.75375    1.75375       13.3675    5.41315   5.41315\n",
       "  0.387922   0.387922   0.387922   0.387922      45.9974   11.5398   11.5398\n",
       " 31.1945    31.1945    31.1945    31.1945         2.51451   4.87052   4.87052\n",
       "  9.25928    9.25928    9.25928    9.25928   …    3.17318   2.63623   2.63623\n",
       " 29.5247    29.5247    29.5247    29.5247        35.9559   21.5661   21.5661\n",
       " 11.8543    11.8543    11.8543    11.8543         3.4109    1.70017   1.70017\n",
       " 14.0512    14.0512    14.0512    14.0512        14.1343   15.0168   15.0168\n",
       "  1.65581    1.65581    1.65581    1.65581        5.37837   0.48587   0.48587\n",
       " 51.9042    51.9042    51.9042    51.9042    …   33.6519    9.59462   9.59462"
      ]
     },
     "execution_count": 60,
     "metadata": {},
     "output_type": "execute_result"
    }
   ],
   "source": [
    "test_r2 .^2"
   ]
  },
  {
   "cell_type": "code",
   "execution_count": null,
   "id": "e3fb0073-ae87-4d9c-8bbf-9a687b9e728b",
   "metadata": {},
   "outputs": [],
   "source": []
  },
  {
   "cell_type": "code",
   "execution_count": 61,
   "id": "979bd9f8-77b6-4ff3-a2cf-bfbc84f9eba5",
   "metadata": {},
   "outputs": [
    {
     "data": {
      "text/plain": [
       "79"
      ]
     },
     "execution_count": 61,
     "metadata": {},
     "output_type": "execute_result"
    }
   ],
   "source": [
    "n"
   ]
  },
  {
   "cell_type": "code",
   "execution_count": 62,
   "id": "73e73c9e-c199-4ba8-86cd-ed46d4019823",
   "metadata": {},
   "outputs": [
    {
     "ename": "LoadError",
     "evalue": "DomainError with -38.39174317162547:\nlog10 will only return a complex result if called with a complex argument. Try log10(Complex(x)).",
     "output_type": "error",
     "traceback": [
      "DomainError with -38.39174317162547:\nlog10 will only return a complex result if called with a complex argument. Try log10(Complex(x)).",
      "",
      "Stacktrace:",
      "  [1] throw_complex_domainerror(f::Symbol, x::Float64)",
      "    @ Base.Math ./math.jl:33",
      "  [2] _log(x::Float64, base::Val{10}, func::Symbol)",
      "    @ Base.Math ./special/log.jl:301",
      "  [3] log10",
      "    @ ./special/log.jl:268 [inlined]",
      "  [4] _broadcast_getindex_evalf",
      "    @ ./broadcast.jl:670 [inlined]",
      "  [5] _broadcast_getindex",
      "    @ ./broadcast.jl:643 [inlined]",
      "  [6] getindex",
      "    @ ./broadcast.jl:597 [inlined]",
      "  [7] macro expansion",
      "    @ ./broadcast.jl:961 [inlined]",
      "  [8] macro expansion",
      "    @ ./simdloop.jl:77 [inlined]",
      "  [9] copyto!",
      "    @ ./broadcast.jl:960 [inlined]",
      " [10] copyto!",
      "    @ ./broadcast.jl:913 [inlined]",
      " [11] copy",
      "    @ ./broadcast.jl:885 [inlined]",
      " [12] materialize",
      "    @ ./broadcast.jl:860 [inlined]",
      " [13] (::var\"#124#125\")(x::Vector{Float64})",
      "    @ Main ./In[62]:1",
      " [14] mapslices(f::var\"#124#125\", A::Matrix{Float64}; dims::Int64)",
      "    @ Base ./abstractarray.jl:2850",
      " [15] top-level scope",
      "    @ In[62]:1",
      " [16] eval",
      "    @ ./boot.jl:368 [inlined]",
      " [17] include_string(mapexpr::typeof(REPL.softscope), mod::Module, code::String, filename::String)",
      "    @ Base ./loading.jl:1428"
     ]
    }
   ],
   "source": [
    "test_lods_liteQTL = mapslices(x -> n/2 * log10.(1 .- x.^2), test_r2; dims = 1)"
   ]
  },
  {
   "cell_type": "code",
   "execution_count": 63,
   "id": "ad844929-59db-48e1-8980-207484228289",
   "metadata": {},
   "outputs": [
    {
     "name": "stdout",
     "output_type": "stream",
     "text": [
      "search: \u001b[0m\u001b[1mm\u001b[22m\u001b[0m\u001b[1ma\u001b[22m\u001b[0m\u001b[1mp\u001b[22m \u001b[0m\u001b[1mm\u001b[22m\u001b[0m\u001b[1ma\u001b[22m\u001b[0m\u001b[1mp\u001b[22m! \u001b[0m\u001b[1mm\u001b[22m\u001b[0m\u001b[1ma\u001b[22m\u001b[0m\u001b[1mp\u001b[22mc \u001b[0m\u001b[1mm\u001b[22m\u001b[0m\u001b[1ma\u001b[22m\u001b[0m\u001b[1mp\u001b[22mcols \u001b[0m\u001b[1mm\u001b[22m\u001b[0m\u001b[1ma\u001b[22m\u001b[0m\u001b[1mp\u001b[22mfoldr \u001b[0m\u001b[1mm\u001b[22m\u001b[0m\u001b[1ma\u001b[22m\u001b[0m\u001b[1mp\u001b[22mfoldl \u001b[0m\u001b[1mm\u001b[22m\u001b[0m\u001b[1ma\u001b[22m\u001b[0m\u001b[1mp\u001b[22mcols! \u001b[0m\u001b[1mm\u001b[22m\u001b[0m\u001b[1ma\u001b[22m\u001b[0m\u001b[1mp\u001b[22mslices \u001b[0m\u001b[1mm\u001b[22m\u001b[0m\u001b[1ma\u001b[22m\u001b[0m\u001b[1mp\u001b[22mreduce\n",
      "\n"
     ]
    },
    {
     "data": {
      "text/latex": [
       "\\begin{verbatim}\n",
       "map(f, c...) -> collection\n",
       "\\end{verbatim}\n",
       "Transform collection \\texttt{c} by applying \\texttt{f} to each element. For multiple collection arguments, apply \\texttt{f} elementwise, and stop when when any of them is exhausted.\n",
       "\n",
       "See also \\href{@ref}{\\texttt{map!}}, \\href{@ref}{\\texttt{foreach}}, \\href{@ref}{\\texttt{mapreduce}}, \\href{@ref}{\\texttt{mapslices}}, \\href{@ref}{\\texttt{zip}}, \\href{@ref}{\\texttt{Iterators.map}}.\n",
       "\n",
       "\\section{Examples}\n",
       "\\begin{verbatim}\n",
       "julia> map(x -> x * 2, [1, 2, 3])\n",
       "3-element Vector{Int64}:\n",
       " 2\n",
       " 4\n",
       " 6\n",
       "\n",
       "julia> map(+, [1, 2, 3], [10, 20, 30, 400, 5000])\n",
       "3-element Vector{Int64}:\n",
       " 11\n",
       " 22\n",
       " 33\n",
       "\\end{verbatim}\n",
       "\\rule{\\textwidth}{1pt}\n",
       "\\begin{verbatim}\n",
       "map(f, A::AbstractArray...) -> N-array\n",
       "\\end{verbatim}\n",
       "When acting on multi-dimensional arrays of the same \\href{@ref}{\\texttt{ndims}}, they must all have the same \\href{@ref}{\\texttt{axes}}, and the answer will too.\n",
       "\n",
       "See also \\href{@ref}{\\texttt{broadcast}}, which allows mismatched sizes.\n",
       "\n",
       "\\section{Examples}\n",
       "\\begin{verbatim}\n",
       "julia> map(//, [1 2; 3 4], [4 3; 2 1])\n",
       "2×2 Matrix{Rational{Int64}}:\n",
       " 1//4  2//3\n",
       " 3//2  4//1\n",
       "\n",
       "julia> map(+, [1 2; 3 4], zeros(2,1))\n",
       "ERROR: DimensionMismatch\n",
       "\n",
       "julia> map(+, [1 2; 3 4], [1,10,100,1000], zeros(3,1))  # iterates until 3rd is exhausted\n",
       "3-element Vector{Float64}:\n",
       "   2.0\n",
       "  13.0\n",
       " 102.0\n",
       "\\end{verbatim}\n",
       "\\rule{\\textwidth}{1pt}\n",
       "\\begin{verbatim}\n",
       "map(f, x::PooledArray; pure::Bool=false)\n",
       "\\end{verbatim}\n",
       "Transform \\texttt{PooledArray} \\texttt{x} by applying \\texttt{f} to each element.\n",
       "\n",
       "If \\texttt{pure=true} then \\texttt{f} is applied to each element of pool of \\texttt{x} exactly once (even if some elements in pool are not present it \\texttt{x}). This will typically be much faster when the proportion of unique values in \\texttt{x} is small.\n",
       "\n",
       "If \\texttt{pure=false}, the returned array will use the same reference type as \\texttt{x}, or \\texttt{Int} if the number of unique values in the result is too large to fit in that type.\n",
       "\n"
      ],
      "text/markdown": [
       "```\n",
       "map(f, c...) -> collection\n",
       "```\n",
       "\n",
       "Transform collection `c` by applying `f` to each element. For multiple collection arguments, apply `f` elementwise, and stop when when any of them is exhausted.\n",
       "\n",
       "See also [`map!`](@ref), [`foreach`](@ref), [`mapreduce`](@ref), [`mapslices`](@ref), [`zip`](@ref), [`Iterators.map`](@ref).\n",
       "\n",
       "# Examples\n",
       "\n",
       "```jldoctest\n",
       "julia> map(x -> x * 2, [1, 2, 3])\n",
       "3-element Vector{Int64}:\n",
       " 2\n",
       " 4\n",
       " 6\n",
       "\n",
       "julia> map(+, [1, 2, 3], [10, 20, 30, 400, 5000])\n",
       "3-element Vector{Int64}:\n",
       " 11\n",
       " 22\n",
       " 33\n",
       "```\n",
       "\n",
       "---\n",
       "\n",
       "```\n",
       "map(f, A::AbstractArray...) -> N-array\n",
       "```\n",
       "\n",
       "When acting on multi-dimensional arrays of the same [`ndims`](@ref), they must all have the same [`axes`](@ref), and the answer will too.\n",
       "\n",
       "See also [`broadcast`](@ref), which allows mismatched sizes.\n",
       "\n",
       "# Examples\n",
       "\n",
       "```\n",
       "julia> map(//, [1 2; 3 4], [4 3; 2 1])\n",
       "2×2 Matrix{Rational{Int64}}:\n",
       " 1//4  2//3\n",
       " 3//2  4//1\n",
       "\n",
       "julia> map(+, [1 2; 3 4], zeros(2,1))\n",
       "ERROR: DimensionMismatch\n",
       "\n",
       "julia> map(+, [1 2; 3 4], [1,10,100,1000], zeros(3,1))  # iterates until 3rd is exhausted\n",
       "3-element Vector{Float64}:\n",
       "   2.0\n",
       "  13.0\n",
       " 102.0\n",
       "```\n",
       "\n",
       "---\n",
       "\n",
       "```\n",
       "map(f, x::PooledArray; pure::Bool=false)\n",
       "```\n",
       "\n",
       "Transform `PooledArray` `x` by applying `f` to each element.\n",
       "\n",
       "If `pure=true` then `f` is applied to each element of pool of `x` exactly once (even if some elements in pool are not present it `x`). This will typically be much faster when the proportion of unique values in `x` is small.\n",
       "\n",
       "If `pure=false`, the returned array will use the same reference type as `x`, or `Int` if the number of unique values in the result is too large to fit in that type.\n"
      ],
      "text/plain": [
       "\u001b[36m  map(f, c...) -> collection\u001b[39m\n",
       "\n",
       "  Transform collection \u001b[36mc\u001b[39m by applying \u001b[36mf\u001b[39m to each element. For multiple\n",
       "  collection arguments, apply \u001b[36mf\u001b[39m elementwise, and stop when when any of them is\n",
       "  exhausted.\n",
       "\n",
       "  See also \u001b[36mmap!\u001b[39m, \u001b[36mforeach\u001b[39m, \u001b[36mmapreduce\u001b[39m, \u001b[36mmapslices\u001b[39m, \u001b[36mzip\u001b[39m, \u001b[36mIterators.map\u001b[39m.\n",
       "\n",
       "\u001b[1m  Examples\u001b[22m\n",
       "\u001b[1m  ≡≡≡≡≡≡≡≡≡≡\u001b[22m\n",
       "\n",
       "\u001b[36m  julia> map(x -> x * 2, [1, 2, 3])\u001b[39m\n",
       "\u001b[36m  3-element Vector{Int64}:\u001b[39m\n",
       "\u001b[36m   2\u001b[39m\n",
       "\u001b[36m   4\u001b[39m\n",
       "\u001b[36m   6\u001b[39m\n",
       "\u001b[36m  \u001b[39m\n",
       "\u001b[36m  julia> map(+, [1, 2, 3], [10, 20, 30, 400, 5000])\u001b[39m\n",
       "\u001b[36m  3-element Vector{Int64}:\u001b[39m\n",
       "\u001b[36m   11\u001b[39m\n",
       "\u001b[36m   22\u001b[39m\n",
       "\u001b[36m   33\u001b[39m\n",
       "\n",
       "  ────────────────────────────────────────────────────────────────────────────\n",
       "\n",
       "\u001b[36m  map(f, A::AbstractArray...) -> N-array\u001b[39m\n",
       "\n",
       "  When acting on multi-dimensional arrays of the same \u001b[36mndims\u001b[39m, they must all\n",
       "  have the same \u001b[36maxes\u001b[39m, and the answer will too.\n",
       "\n",
       "  See also \u001b[36mbroadcast\u001b[39m, which allows mismatched sizes.\n",
       "\n",
       "\u001b[1m  Examples\u001b[22m\n",
       "\u001b[1m  ≡≡≡≡≡≡≡≡≡≡\u001b[22m\n",
       "\n",
       "\u001b[36m  julia> map(//, [1 2; 3 4], [4 3; 2 1])\u001b[39m\n",
       "\u001b[36m  2×2 Matrix{Rational{Int64}}:\u001b[39m\n",
       "\u001b[36m   1//4  2//3\u001b[39m\n",
       "\u001b[36m   3//2  4//1\u001b[39m\n",
       "\u001b[36m  \u001b[39m\n",
       "\u001b[36m  julia> map(+, [1 2; 3 4], zeros(2,1))\u001b[39m\n",
       "\u001b[36m  ERROR: DimensionMismatch\u001b[39m\n",
       "\u001b[36m  \u001b[39m\n",
       "\u001b[36m  julia> map(+, [1 2; 3 4], [1,10,100,1000], zeros(3,1))  # iterates until 3rd is exhausted\u001b[39m\n",
       "\u001b[36m  3-element Vector{Float64}:\u001b[39m\n",
       "\u001b[36m     2.0\u001b[39m\n",
       "\u001b[36m    13.0\u001b[39m\n",
       "\u001b[36m   102.0\u001b[39m\n",
       "\n",
       "  ────────────────────────────────────────────────────────────────────────────\n",
       "\n",
       "\u001b[36m  map(f, x::PooledArray; pure::Bool=false)\u001b[39m\n",
       "\n",
       "  Transform \u001b[36mPooledArray\u001b[39m \u001b[36mx\u001b[39m by applying \u001b[36mf\u001b[39m to each element.\n",
       "\n",
       "  If \u001b[36mpure=true\u001b[39m then \u001b[36mf\u001b[39m is applied to each element of pool of \u001b[36mx\u001b[39m exactly once\n",
       "  (even if some elements in pool are not present it \u001b[36mx\u001b[39m). This will typically be\n",
       "  much faster when the proportion of unique values in \u001b[36mx\u001b[39m is small.\n",
       "\n",
       "  If \u001b[36mpure=false\u001b[39m, the returned array will use the same reference type as \u001b[36mx\u001b[39m, or\n",
       "  \u001b[36mInt\u001b[39m if the number of unique values in the result is too large to fit in that\n",
       "  type."
      ]
     },
     "execution_count": 63,
     "metadata": {},
     "output_type": "execute_result"
    }
   ],
   "source": [
    "?map"
   ]
  },
  {
   "cell_type": "code",
   "execution_count": null,
   "id": "53252799-99b3-40a3-84af-b384fb929ea9",
   "metadata": {},
   "outputs": [],
   "source": []
  },
  {
   "cell_type": "code",
   "execution_count": null,
   "id": "d8d90ed9-80ab-43f6-8dbb-e08428bdbe7f",
   "metadata": {},
   "outputs": [],
   "source": []
  }
 ],
 "metadata": {
  "kernelspec": {
   "display_name": "Julia 1.8.1",
   "language": "julia",
   "name": "julia-1.8"
  },
  "language_info": {
   "file_extension": ".jl",
   "mimetype": "application/julia",
   "name": "julia",
   "version": "1.8.1"
  }
 },
 "nbformat": 4,
 "nbformat_minor": 5
}
