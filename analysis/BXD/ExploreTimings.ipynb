{
 "cells": [
  {
   "cell_type": "markdown",
   "id": "a6823e97-cece-4715-b2da-abe4e9ebf923",
   "metadata": {},
   "source": [
    "# Explore Runtimes:"
   ]
  },
  {
   "cell_type": "code",
   "execution_count": 1,
   "id": "965cce00-59f7-4602-87cf-ef609bc4f2f3",
   "metadata": {},
   "outputs": [
    {
     "data": {
      "text/plain": [
       "\"/home/zyu20/git/BulkLMM.jl/analysis/BXD\""
      ]
     },
     "execution_count": 1,
     "metadata": {},
     "output_type": "execute_result"
    }
   ],
   "source": [
    "pwd()"
   ]
  },
  {
   "cell_type": "code",
   "execution_count": 2,
   "id": "9bc2ce7d-092a-4373-89b4-c86d983ad985",
   "metadata": {},
   "outputs": [],
   "source": [
    "using LoopVectorization"
   ]
  },
  {
   "cell_type": "code",
   "execution_count": 3,
   "id": "54153196-a048-488b-af8e-45f52d1af76b",
   "metadata": {},
   "outputs": [],
   "source": [
    "cd(\"..\")"
   ]
  },
  {
   "cell_type": "code",
   "execution_count": 4,
   "id": "fc3b6ede-0266-46cd-8528-981770c07f67",
   "metadata": {},
   "outputs": [],
   "source": [
    "include(\"../test/BXDdata_for_test.jl\");"
   ]
  },
  {
   "cell_type": "code",
   "execution_count": 5,
   "id": "d5599580-c9af-47be-9723-d6b8a2437ef1",
   "metadata": {},
   "outputs": [],
   "source": [
    "include(\"../src/parallel_helpers.jl\");"
   ]
  },
  {
   "cell_type": "code",
   "execution_count": 6,
   "id": "3d8e5841-bfbc-4d35-bff9-920c73705424",
   "metadata": {},
   "outputs": [
    {
     "data": {
      "text/plain": [
       "(79, 35556)"
      ]
     },
     "execution_count": 6,
     "metadata": {},
     "output_type": "execute_result"
    }
   ],
   "source": [
    "size(pheno)"
   ]
  },
  {
   "cell_type": "code",
   "execution_count": 7,
   "id": "5af01511-8d3e-4630-9e37-3471bc6c1ece",
   "metadata": {},
   "outputs": [
    {
     "data": {
      "text/plain": [
       "(79, 1)"
      ]
     },
     "execution_count": 7,
     "metadata": {},
     "output_type": "execute_result"
    }
   ],
   "source": [
    "size(pheno_y)"
   ]
  },
  {
   "cell_type": "code",
   "execution_count": 8,
   "id": "fd6dc879-63b9-4e9d-876d-87c00591dca8",
   "metadata": {},
   "outputs": [
    {
     "data": {
      "text/plain": [
       "(79, 7321)"
      ]
     },
     "execution_count": 8,
     "metadata": {},
     "output_type": "execute_result"
    }
   ],
   "source": [
    "size(geno)"
   ]
  },
  {
   "cell_type": "code",
   "execution_count": 9,
   "id": "4574cb5d-84b2-4d56-9f61-22505d5d8c79",
   "metadata": {},
   "outputs": [
    {
     "data": {
      "text/plain": [
       "(79, 79)"
      ]
     },
     "execution_count": 9,
     "metadata": {},
     "output_type": "execute_result"
    }
   ],
   "source": [
    "size(kinship)"
   ]
  },
  {
   "cell_type": "code",
   "execution_count": 10,
   "id": "8dfb655e-db19-4386-98a7-75845de3b17c",
   "metadata": {},
   "outputs": [
    {
     "data": {
      "text/plain": [
       "(79, 35556, 7321)"
      ]
     },
     "execution_count": 10,
     "metadata": {},
     "output_type": "execute_result"
    }
   ],
   "source": [
    "(n, m, p)"
   ]
  },
  {
   "cell_type": "code",
   "execution_count": 11,
   "id": "b8250a67-36b9-4b10-89cd-942196e4edf6",
   "metadata": {},
   "outputs": [
    {
     "data": {
      "text/plain": [
       "24"
      ]
     },
     "execution_count": 11,
     "metadata": {},
     "output_type": "execute_result"
    }
   ],
   "source": [
    "Threads.nthreads()"
   ]
  },
  {
   "cell_type": "code",
   "execution_count": 12,
   "id": "63d3c12d-3df8-4b3b-92f9-a0217cbb5cfb",
   "metadata": {},
   "outputs": [],
   "source": [
    "using LinearAlgebra"
   ]
  },
  {
   "cell_type": "code",
   "execution_count": 13,
   "id": "019d7aa0-91ba-46a3-88fd-d96c6bf5f501",
   "metadata": {},
   "outputs": [
    {
     "data": {
      "text/plain": [
       "8"
      ]
     },
     "execution_count": 13,
     "metadata": {},
     "output_type": "execute_result"
    }
   ],
   "source": [
    "BLAS.get_num_threads()"
   ]
  },
  {
   "cell_type": "code",
   "execution_count": 14,
   "id": "65a13375-efa7-43d9-9061-15d142ab578d",
   "metadata": {},
   "outputs": [],
   "source": [
    "BLAS.set_num_threads(24);"
   ]
  },
  {
   "cell_type": "code",
   "execution_count": 15,
   "id": "312326e6-e3d1-443a-be1c-24864d293c8e",
   "metadata": {},
   "outputs": [
    {
     "data": {
      "text/plain": [
       "24"
      ]
     },
     "execution_count": 15,
     "metadata": {},
     "output_type": "execute_result"
    }
   ],
   "source": [
    "BLAS.get_num_threads()"
   ]
  },
  {
   "cell_type": "code",
   "execution_count": 14,
   "id": "b6e3ff9d-7628-4f60-9de9-7d90dfb23c1c",
   "metadata": {},
   "outputs": [
    {
     "data": {
      "text/plain": [
       "scan_ordinary (generic function with 1 method)"
      ]
     },
     "execution_count": 14,
     "metadata": {},
     "output_type": "execute_result"
    }
   ],
   "source": [
    "function scan_ordinary(Y0::Array{Float64, 2}, X0::Array{Float64, 2}, lambda0::Array{Float64, 1}; reml::Bool = true)\n",
    "    \n",
    "    X0_inter = reshape(X0[:, 1], :, 1);\n",
    "    \n",
    "    full_results_ordinary = Array{Float64, 2}(undef, p, m);\n",
    "    \n",
    "    for i in 1:m\n",
    "        y0i = reshape(Y0[:, i], :, 1);\n",
    "        out00 = fitlmm(y0i, X0_inter, lambda0; reml = true);\n",
    "        sqrtw = sqrt.(makeweights(out00.h2, lambda0))\n",
    "        \n",
    "        yw_i = rowMultiply(y0i, sqrtw);\n",
    "        Xw = rowMultiply(X0, sqrtw);\n",
    "        \n",
    "        out0 = rss(yw_i, reshape(Xw[:, 1], :, 1));\n",
    "        lod = Array{Float64, 1}(undef, p);\n",
    "        \n",
    "        X = Array{Float64, 2}(undef, n, 2);\n",
    "        X[:, 1] = Xw[:, 1];\n",
    "        \n",
    "        for j in 1:p\n",
    "            X[:, 2] = Xw[:, j+1];\n",
    "            \n",
    "            out1 = rss(yw_i, X);\n",
    "            lod[j] = (n/2)*(log10(out0[1]) - log10(out1[1]))\n",
    "        end\n",
    "        \n",
    "        full_results_ordinary[:, i] = lod;\n",
    "\n",
    "    end\n",
    "    \n",
    "    \n",
    "    return full_results_ordinary\n",
    "end"
   ]
  },
  {
   "cell_type": "code",
   "execution_count": null,
   "id": "b084bf2e-7a54-402e-91e5-6c17a57387d7",
   "metadata": {},
   "outputs": [],
   "source": [
    "@time begin\n",
    "    \n",
    "    (Y0, X0, lambda0) = transform_rotation(pheno, geno, kinship);\n",
    "    full_results_ordinary = scan_ordinary(Y0, X0, lambda0);\n",
    "    \n",
    "end"
   ]
  },
  {
   "cell_type": "markdown",
   "id": "e1c7fd39-cbc7-4ac5-9565-482303103b90",
   "metadata": {},
   "source": [
    "## LiteQTL:"
   ]
  },
  {
   "cell_type": "code",
   "execution_count": 149,
   "id": "2381bdd8-1310-40a4-9f4a-c20baef656e3",
   "metadata": {},
   "outputs": [
    {
     "data": {
      "text/plain": [
       "(35556, 79, 7321)"
      ]
     },
     "execution_count": 149,
     "metadata": {},
     "output_type": "execute_result"
    }
   ],
   "source": [
    "(m, n, p)"
   ]
  },
  {
   "cell_type": "code",
   "execution_count": 150,
   "id": "7dc88b44-459f-4bb4-bddd-1dba94329c2f",
   "metadata": {},
   "outputs": [
    {
     "data": {
      "text/plain": [
       "r2lod (generic function with 1 method)"
      ]
     },
     "execution_count": 150,
     "metadata": {},
     "output_type": "execute_result"
    }
   ],
   "source": [
    "function r2lod(r::Float64, n::Int64)\n",
    "    rsq = (r/n)^2;\n",
    "    return -(n/2.0) * log10(1.0-rsq);\n",
    "end"
   ]
  },
  {
   "cell_type": "code",
   "execution_count": 151,
   "id": "c4784174-aa3c-4320-a5c5-57f79d035eee",
   "metadata": {},
   "outputs": [
    {
     "data": {
      "text/plain": [
       "2-element Vector{Float64}:\n",
       " 0.0022265908888506967\n",
       " 2.748701454592006e-5"
      ]
     },
     "execution_count": 151,
     "metadata": {},
     "output_type": "execute_result"
    }
   ],
   "source": [
    "map(x -> r2lod(x, n), [0.9, 0.1])"
   ]
  },
  {
   "cell_type": "code",
   "execution_count": 152,
   "id": "c38e9b62-7717-4f09-a0da-34c06ced10fb",
   "metadata": {},
   "outputs": [],
   "source": [
    "full_results_lite = Array{Float64, 2}(undef, p, m);"
   ]
  },
  {
   "cell_type": "code",
   "execution_count": 153,
   "id": "fbff02ba-a0e6-4467-9152-98a0364b17cc",
   "metadata": {},
   "outputs": [
    {
     "name": "stdout",
     "output_type": "stream",
     "text": [
      "238.296716 seconds (33.91 M allocations: 484.267 GiB, 9.37% gc time)\n"
     ]
    }
   ],
   "source": [
    "@time begin\n",
    "    (Y0, X0, lambda0) = transform_rotation(pheno, geno, kinship);\n",
    "    X0_intercept = reshape(X0[:, 1], :, 1);\n",
    "    #copyX0_intercept = deepcopy(X0_intercept);\n",
    "    X0_covar = X0[:, 2:end];\n",
    "    #copyX0_covar = deepcopy(X0_covar);\n",
    "    \n",
    "    for i in 1:m\n",
    "        pheno_y0i = reshape(Y0[:, i], :, 1);\n",
    "        vc = fitlmm(pheno_y0i, X0_intercept, lambda0; reml = true);\n",
    "        sqrtw = sqrt.(makeweights(vc.h2, lambda0));\n",
    "    \n",
    "        pheno_y00i = rowMultiply(pheno_y0i, sqrtw);\n",
    "        X00_intercept = rowMultiply(X0_intercept, sqrtw);\n",
    "        X00_covar = rowMultiply(X0_covar, sqrtw);\n",
    "    \n",
    "        y00 = resid(pheno_y00i, X00_intercept);\n",
    "        X00 = resid(X00_covar, X00_intercept);\n",
    "        \n",
    "        sy = std(y00, dims = 1) |> vec;\n",
    "        sx = std(X00, dims = 1) |> vec;\n",
    "        colDivide!(y00, sy);\n",
    "        colDivide!(X00, sx);\n",
    "        R = y00' * X00;\n",
    "    \n",
    "        full_results_lite[:, i] = r2lod.(R, 79);\n",
    "    \n",
    "    end\n",
    "\n",
    "end"
   ]
  },
  {
   "cell_type": "code",
   "execution_count": 154,
   "id": "99e46f8d-b197-4960-91bc-82121f73dfe4",
   "metadata": {},
   "outputs": [],
   "source": [
    "full_results_lite[1:6, :];"
   ]
  },
  {
   "cell_type": "markdown",
   "id": "6f24ef12-b445-4ed6-85bd-d500c3f9c366",
   "metadata": {},
   "source": [
    "### Multi-threading LiteQTL:"
   ]
  },
  {
   "cell_type": "code",
   "execution_count": 155,
   "id": "e6cc9013-3232-4d0a-aeec-4a92e7b0bf1d",
   "metadata": {},
   "outputs": [
    {
     "data": {
      "text/plain": [
       "24"
      ]
     },
     "execution_count": 155,
     "metadata": {},
     "output_type": "execute_result"
    }
   ],
   "source": [
    "Threads.nthreads()"
   ]
  },
  {
   "cell_type": "code",
   "execution_count": 156,
   "id": "4541b393-1565-4382-90f7-17f24075a550",
   "metadata": {},
   "outputs": [],
   "source": [
    "nblocks = Threads.nthreads();"
   ]
  },
  {
   "cell_type": "code",
   "execution_count": 31,
   "id": "e6e1ba9e-5ab5-4fdb-bf72-c843b1ebe709",
   "metadata": {},
   "outputs": [],
   "source": [
    "if nblocks == Threads.nthreads()\n",
    "    BLAS.set_num_threads(1)\n",
    "else\n",
    "    BLAS.set_num_threads(Threads.nthreads() - nblocks)\n",
    "end"
   ]
  },
  {
   "cell_type": "code",
   "execution_count": 33,
   "id": "a39c870a-3eda-4c45-a835-f378a9da4e93",
   "metadata": {},
   "outputs": [
    {
     "data": {
      "text/plain": [
       "1"
      ]
     },
     "execution_count": 33,
     "metadata": {},
     "output_type": "execute_result"
    }
   ],
   "source": [
    "BLAS.get_num_threads()"
   ]
  },
  {
   "cell_type": "code",
   "execution_count": 272,
   "id": "05e2f33e-5c2c-4afc-860c-d1d8429b0800",
   "metadata": {},
   "outputs": [
    {
     "data": {
      "text/plain": [
       "(8889, 0)"
      ]
     },
     "execution_count": 272,
     "metadata": {},
     "output_type": "execute_result"
    }
   ],
   "source": [
    "divrem(m, 4)"
   ]
  },
  {
   "cell_type": "code",
   "execution_count": 273,
   "id": "ae96914c-6384-423e-85d4-5fc07aa33eed",
   "metadata": {},
   "outputs": [
    {
     "data": {
      "text/plain": [
       "scan_lite_univar (generic function with 1 method)"
      ]
     },
     "execution_count": 273,
     "metadata": {},
     "output_type": "execute_result"
    }
   ],
   "source": [
    "function scan_lite_univar(y0_j::Array{Float64, 1}, X0_intercept::Array{Float64, 2}, \n",
    "                            X0_covar::Array{Float64, 2}, lambda0::Array{Float64, 1};\n",
    "                            reml::Bool = true)\n",
    "    \n",
    "    n = size(y0_j, 1);\n",
    "    \n",
    "    y0 = reshape(y0_j, :, 1);\n",
    "    vc = fitlmm(y0, X0_intercept, lambda0; reml = reml);\n",
    "    sqrtw = sqrt.(makeweights(vc.h2, lambda0));\n",
    "    \n",
    "    wy0 = rowMultiply(y0, sqrtw);\n",
    "    wX0_intercept = rowMultiply(X0_intercept, sqrtw);\n",
    "    wX0_covar = rowMultiply(X0_covar, sqrtw);\n",
    "    \n",
    "    y00 = resid(wy0, wX0_intercept);\n",
    "    X00 = resid(wX0_covar, wX0_intercept);\n",
    "        \n",
    "        \n",
    "    sy = std(y00, dims = 1) |> vec;\n",
    "    sx = std(X00, dims = 1) |> vec;\n",
    "    colDivide!(y00, sy);\n",
    "    colDivide!(X00, sx);\n",
    "    \n",
    "    R = X00' * y00; # p-by-1 matrix\n",
    "    \n",
    "    return r2lod.(R, n); # results will be p-by-1, i.e. all LOD scores for the j-th trait and p markers\n",
    "end"
   ]
  },
  {
   "cell_type": "code",
   "execution_count": 274,
   "id": "f9bbb88e-9f2f-448b-bbf0-682c30163a8b",
   "metadata": {},
   "outputs": [
    {
     "data": {
      "text/plain": [
       "scan_lite_multithreads (generic function with 1 method)"
      ]
     },
     "execution_count": 274,
     "metadata": {},
     "output_type": "execute_result"
    }
   ],
   "source": [
    "function scan_lite_multithreads(Y::Array{Float64, 2}, G::Array{Float64, 2}, K::Array{Float64, 2}, nb::Int64;\n",
    "                                reml::Bool = true)\n",
    "    (n, m) = size(Y);\n",
    "    p = size(G, 2);\n",
    "    \n",
    "    # rotate data\n",
    "    (Y0, X0, lambda0) = transform_rotation(Y, G, K);\n",
    "    X0_intercept = reshape(X0[:, 1], :, 1);\n",
    "    X0_covar = X0[:, 2:end];\n",
    "    \n",
    "    (len, rem) = divrem(m, nb);\n",
    "    \n",
    "    results = Array{Array{Float64, 2}, 1}(undef, nb);\n",
    "    \n",
    "    Threads.@threads for t = 1:nb # so the N blocks will share the (nthreads - N) BLAS threads\n",
    "        \n",
    "        lods_currBlock = Array{Float64, 2}(undef, p, len);\n",
    "        \n",
    "        @simd for i = 1:len\n",
    "            \n",
    "            j = i+(t-1)*len;\n",
    "            #@inbounds\n",
    "            lods_currBlock[:, i] = scan_lite_univar(Y0[:, j], X0_intercept, X0_covar, lambda0;\n",
    "                                                    reml = reml);\n",
    "        end\n",
    "                    \n",
    "        results[t] = lods_currBlock;\n",
    "        \n",
    "    end\n",
    "    \n",
    "    # process up the remaining data\n",
    "    lods_remBlock = Array{Float64, 2}(undef, p, rem);\n",
    "    for i in 1:rem\n",
    "        \n",
    "        j = m-rem+i;\n",
    "        \n",
    "        lods_remBlock[:, i] = scan_lite_univar(Y0[:, j], X0_intercept, X0_covar, lambda0;\n",
    "                                               reml = reml);\n",
    "        \n",
    "    end\n",
    "    \n",
    "    LODs_all = reduce(hcat, results);\n",
    "    LODs_all = hcat(LODs_all, lods_remBlock);\n",
    "    \n",
    "    return LODs_all\n",
    "    \n",
    "end"
   ]
  },
  {
   "cell_type": "code",
   "execution_count": 31,
   "id": "4cb59b6c-445d-4828-acfe-04cc3b1d0962",
   "metadata": {},
   "outputs": [
    {
     "name": "stdout",
     "output_type": "stream",
     "text": [
      " 44.322109 seconds (33.66 M allocations: 490.079 GiB, 10.42% gc time)\n"
     ]
    }
   ],
   "source": [
    "@time full_results_lite_multithreads = scan_lite_multithreads(pheno, geno, kinship, nblocks; reml = true);"
   ]
  },
  {
   "cell_type": "code",
   "execution_count": 32,
   "id": "b816c121-5a6b-46bc-8fb9-3ea6874d34e9",
   "metadata": {},
   "outputs": [
    {
     "ename": "LoadError",
     "evalue": "UndefVarError: full_results_lite not defined",
     "output_type": "error",
     "traceback": [
      "UndefVarError: full_results_lite not defined",
      "",
      "Stacktrace:",
      " [1] top-level scope",
      "   @ In[32]:1",
      " [2] eval",
      "   @ ./boot.jl:373 [inlined]",
      " [3] include_string(mapexpr::typeof(REPL.softscope), mod::Module, code::String, filename::String)",
      "   @ Base ./loading.jl:1196"
     ]
    }
   ],
   "source": [
    "full_results_lite[1:6, :]"
   ]
  },
  {
   "cell_type": "code",
   "execution_count": 33,
   "id": "ffdb74ba-8c2d-44cf-8783-ed3185833dba",
   "metadata": {},
   "outputs": [
    {
     "data": {
      "text/plain": [
       "6×35556 Matrix{Float64}:\n",
       " 0.000117904  0.0449468  0.00289554  …  0.0457906  0.00329113  0.344878\n",
       " 0.000117904  0.0449468  0.00289554     0.0457906  0.00329113  0.344878\n",
       " 0.000117904  0.0449468  0.00289554     0.0457906  0.00329113  0.344878\n",
       " 0.000117904  0.0449468  0.00289554     0.0457906  0.00329113  0.344878\n",
       " 0.000117904  0.0449468  0.00289554     0.0457906  0.00329113  0.344878\n",
       " 0.000117904  0.0449468  0.00289554  …  0.0457906  0.00329113  0.344878"
      ]
     },
     "execution_count": 33,
     "metadata": {},
     "output_type": "execute_result"
    }
   ],
   "source": [
    "full_results_lite_multithreads[1:6, :]"
   ]
  },
  {
   "cell_type": "code",
   "execution_count": 29,
   "id": "90a67c6d-35cb-42dd-bebc-bd9702800336",
   "metadata": {},
   "outputs": [
    {
     "ename": "LoadError",
     "evalue": "UndefVarError: full_results_lite not defined",
     "output_type": "error",
     "traceback": [
      "UndefVarError: full_results_lite not defined",
      "",
      "Stacktrace:",
      " [1] top-level scope",
      "   @ In[29]:1",
      " [2] eval",
      "   @ ./boot.jl:373 [inlined]",
      " [3] include_string(mapexpr::typeof(REPL.softscope), mod::Module, code::String, filename::String)",
      "   @ Base ./loading.jl:1196"
     ]
    }
   ],
   "source": [
    "maxSqDiff(full_results_lite, full_results_lite_multithreads)"
   ]
  },
  {
   "cell_type": "code",
   "execution_count": 34,
   "id": "41eda6c1-6666-49a2-a316-06609b04dd09",
   "metadata": {},
   "outputs": [
    {
     "data": {
      "text/plain": [
       "false"
      ]
     },
     "execution_count": 34,
     "metadata": {},
     "output_type": "execute_result"
    }
   ],
   "source": [
    "any(full_results_lite_multithreads .< 0.0)"
   ]
  },
  {
   "cell_type": "code",
   "execution_count": null,
   "id": "2a47aecc-33ca-4a30-8a57-3d2c52eee60b",
   "metadata": {},
   "outputs": [],
   "source": [
    "test[2] = [1 2; 3 4; 5 6]"
   ]
  },
  {
   "cell_type": "code",
   "execution_count": null,
   "id": "bf2f695c-678c-4ed6-a48d-596e536a7a0e",
   "metadata": {},
   "outputs": [],
   "source": [
    "test"
   ]
  },
  {
   "cell_type": "code",
   "execution_count": null,
   "id": "77dd86d0-955e-41b3-93f3-0593a6f413d3",
   "metadata": {},
   "outputs": [],
   "source": [
    "reduce(hcat, test[1:2])"
   ]
  },
  {
   "cell_type": "markdown",
   "id": "37123659-95e7-4891-90be-c1bdfa04ddc5",
   "metadata": {},
   "source": [
    "### \"Bulk\" Calculation:"
   ]
  },
  {
   "cell_type": "code",
   "execution_count": 158,
   "id": "37503848-7b34-42d1-a478-88b6f09d737a",
   "metadata": {},
   "outputs": [
    {
     "data": {
      "text/plain": [
       "scan_lite_multivar (generic function with 1 method)"
      ]
     },
     "execution_count": 158,
     "metadata": {},
     "output_type": "execute_result"
    }
   ],
   "source": [
    "function scan_lite_multivar(Y0::Array{Float64, 2}, X0::Array{Float64, 2}, \n",
    "                            hsq::Float64, lambda0::Array{Float64, 1};\n",
    "                            reml::Bool = true)\n",
    "    \n",
    "    n = size(Y0, 1)\n",
    "    sqrtw = sqrt.(makeweights(hsq, lambda0));\n",
    "    \n",
    "    wY0 = rowMultiply(Y0, sqrtw);\n",
    "    wX0 = rowMultiply(X0, sqrtw);\n",
    "    \n",
    "    wX0_intercept = wX0[:, 1];\n",
    "    wX0_covar = wX0[:, 2:end];\n",
    "    \n",
    "    Y00 = resid(wY0, wX0_intercept);\n",
    "    X00 = resid(wX0_covar, wX0_intercept);\n",
    "        \n",
    "        \n",
    "    sy = std(Y00, dims = 1) |> vec;\n",
    "    sx = std(X00, dims = 1) |> vec;\n",
    "    colDivide!(Y00, sy);\n",
    "    colDivide!(X00, sx);\n",
    "    \n",
    "    R = X00' * Y00; # p-by-m matrix\n",
    "    \n",
    "    return r2lod.(R, n); # results will be p-by-1, i.e. all LOD scores for the j-th trait and p markers\n",
    "end"
   ]
  },
  {
   "cell_type": "code",
   "execution_count": 159,
   "id": "d05a7786-0bb4-44dc-ac1c-bf7c3878222f",
   "metadata": {},
   "outputs": [],
   "source": [
    "(Y0, X0, lambda0) = transform_rotation(pheno, geno, kinship);"
   ]
  },
  {
   "cell_type": "code",
   "execution_count": 160,
   "id": "03b93fe8-2734-4a09-ae0e-13680b925f64",
   "metadata": {},
   "outputs": [],
   "source": [
    "test_w = sqrt.(makeweights(0.1, lambda0));"
   ]
  },
  {
   "cell_type": "code",
   "execution_count": 161,
   "id": "a20fec3c-f59f-4d1b-9e12-1df68be77541",
   "metadata": {},
   "outputs": [
    {
     "name": "stdout",
     "output_type": "stream",
     "text": [
      "  0.025660 seconds (4 allocations: 25.844 MiB, 64.97% gc time)\n"
     ]
    }
   ],
   "source": [
    "@time begin\n",
    "    test_wY0 = rowMultiply(Y0, test_w);\n",
    "    test_wX0 = rowMultiply(X0, test_w);\n",
    "end;"
   ]
  },
  {
   "cell_type": "code",
   "execution_count": 162,
   "id": "5ded6113-4d12-44aa-b051-d924b9932ec5",
   "metadata": {},
   "outputs": [
    {
     "name": "stdout",
     "output_type": "stream",
     "text": [
      "  0.001063 seconds (8 allocations: 4.413 MiB)\n"
     ]
    }
   ],
   "source": [
    "@time begin\n",
    "    test_wX0_intercept = test_wX0[:, 1];\n",
    "    test_wX0_covar = test_wX0[:, 2:end];\n",
    "end;"
   ]
  },
  {
   "cell_type": "code",
   "execution_count": 163,
   "id": "d9405e29-7df2-40db-a778-9201b6b7dfa8",
   "metadata": {},
   "outputs": [
    {
     "name": "stdout",
     "output_type": "stream",
     "text": [
      "  0.022058 seconds (18 allocations: 52.341 MiB, 17.76% gc time)\n"
     ]
    }
   ],
   "source": [
    "@time begin\n",
    "    test_Y00 = resid(test_wY0, test_wX0_intercept);\n",
    "    test_X00 = resid(test_wX0_covar, test_wX0_intercept);\n",
    "end;"
   ]
  },
  {
   "cell_type": "code",
   "execution_count": 164,
   "id": "1cf7a7e5-a6c3-4f19-922d-ff4e016b42a0",
   "metadata": {},
   "outputs": [
    {
     "name": "stdout",
     "output_type": "stream",
     "text": [
      "  0.021850 seconds (24 allocations: 671.531 KiB)\n"
     ]
    }
   ],
   "source": [
    "@time begin\n",
    "    sy = std(test_Y00, dims = 1) |> vec;\n",
    "    sx = std(test_X00, dims = 1) |> vec;\n",
    "    colDivide!(test_Y00, sy);\n",
    "    colDivide!(test_X00, sx);\n",
    "end;"
   ]
  },
  {
   "cell_type": "code",
   "execution_count": 165,
   "id": "703fb230-2ea2-4a66-be76-d3faee5380a1",
   "metadata": {},
   "outputs": [
    {
     "data": {
      "text/plain": [
       "24"
      ]
     },
     "execution_count": 165,
     "metadata": {},
     "output_type": "execute_result"
    }
   ],
   "source": [
    "Threads.nthreads()"
   ]
  },
  {
   "cell_type": "code",
   "execution_count": 166,
   "id": "9539244c-bd8a-4238-9578-c559abed44de",
   "metadata": {},
   "outputs": [],
   "source": [
    "BLAS.set_num_threads(24)"
   ]
  },
  {
   "cell_type": "code",
   "execution_count": 167,
   "id": "4dda7d51-21ef-4218-9591-cfef005e9b90",
   "metadata": {},
   "outputs": [
    {
     "name": "stdout",
     "output_type": "stream",
     "text": [
      "  0.810603 seconds (3 allocations: 1.939 GiB, 0.47% gc time)\n"
     ]
    }
   ],
   "source": [
    "@time test_R = test_X00' * test_Y00;"
   ]
  },
  {
   "cell_type": "code",
   "execution_count": 168,
   "id": "65a0d6e2-6b63-437c-9e3a-eadd29d1aa71",
   "metadata": {},
   "outputs": [],
   "source": [
    "ctest_R = copy(test_R);"
   ]
  },
  {
   "cell_type": "code",
   "execution_count": 169,
   "id": "5e859bc4-239b-4f4b-a356-736cf9a66b0e",
   "metadata": {},
   "outputs": [
    {
     "name": "stdout",
     "output_type": "stream",
     "text": [
      "  3.358308 seconds (60.20 k allocations: 1.943 GiB, 4.24% gc time, 0.98% compilation time)\n"
     ]
    }
   ],
   "source": [
    "@time test_L = map(x -> r2lod(x, 79), test_R);"
   ]
  },
  {
   "cell_type": "code",
   "execution_count": 170,
   "id": "6a6019f6-f265-49a3-9abc-322f2d6b0220",
   "metadata": {},
   "outputs": [
    {
     "name": "stdout",
     "output_type": "stream",
     "text": [
      "  4.420124 seconds (57 allocations: 3.960 GiB, 4.80% gc time)\n"
     ]
    }
   ],
   "source": [
    "@time scan_lite_multivar(Y0, X0, 0.1, lambda0);"
   ]
  },
  {
   "cell_type": "code",
   "execution_count": 171,
   "id": "36427126-3743-4f8e-9a5f-9e30eb536e9c",
   "metadata": {},
   "outputs": [
    {
     "data": {
      "text/plain": [
       "bulk_scan (generic function with 1 method)"
      ]
     },
     "execution_count": 171,
     "metadata": {},
     "output_type": "execute_result"
    }
   ],
   "source": [
    "function bulk_scan(Y::Array{Float64, 2}, G::Array{Float64, 2}, K::Array{Float64, 2}, hsq_list::Array{Float64, 1};\n",
    "                reml::Bool = true)\n",
    "    \n",
    "    (Y0, X0, lambda0) = transform_rotation(Y, G, K);\n",
    "    \n",
    "    maxL = scan_lite_multivar(Y0, X0, hsq_list[1], lambda0);\n",
    "    \n",
    "    for hsq in hsq_list[2:end]\n",
    "        \n",
    "        currL = scan_lite_multivar(Y0, X0, hsq, lambda0);\n",
    "        maxL = max.(maxL, currL);\n",
    "        \n",
    "    end\n",
    "    \n",
    "    return maxL\n",
    "      \n",
    "end"
   ]
  },
  {
   "cell_type": "code",
   "execution_count": 172,
   "id": "6287549b-9ca0-44ad-8036-80943d0fd7a9",
   "metadata": {},
   "outputs": [],
   "source": [
    "hsq_grids = [0.0, 0.1, 0.2, 0.3, 0.4, 0.5, 0.6, 0.7, 0.8, 0.9, 1.0];"
   ]
  },
  {
   "cell_type": "code",
   "execution_count": 173,
   "id": "3efebd72-d3aa-45da-a5da-3b0963c99dee",
   "metadata": {},
   "outputs": [
    {
     "name": "stdout",
     "output_type": "stream",
     "text": [
      " 57.248463 seconds (672 allocations: 62.986 GiB, 5.58% gc time)\n"
     ]
    }
   ],
   "source": [
    "@time full_results_bulkscan = bulk_scan(pheno, geno, kinship, hsq_grids; reml = true);"
   ]
  },
  {
   "cell_type": "markdown",
   "id": "d55cdb9f-6d94-4a6b-83bc-9505d46f8300",
   "metadata": {},
   "source": [
    "### Explore Multithreading the map:"
   ]
  },
  {
   "cell_type": "markdown",
   "id": "dd6d1b9f-9fab-4eef-9cc4-57b4d3bb6e60",
   "metadata": {},
   "source": [
    "#### Multithreading the R2LOD map:"
   ]
  },
  {
   "cell_type": "markdown",
   "id": "cca525b8-e0a2-4f23-b5e9-43172b0e6803",
   "metadata": {},
   "source": [
    "Imagine we parallelize the map for converting of $r$ to LOD over a grid of $r$'s, across the columns. To process one column, the runtime is:"
   ]
  },
  {
   "cell_type": "code",
   "execution_count": 157,
   "id": "de8673a5-945f-415a-934d-582f65dce562",
   "metadata": {},
   "outputs": [
    {
     "data": {
      "text/plain": [
       "(7321, 35556)"
      ]
     },
     "execution_count": 157,
     "metadata": {},
     "output_type": "execute_result"
    }
   ],
   "source": [
    "size(test_R)"
   ]
  },
  {
   "cell_type": "code",
   "execution_count": 99,
   "id": "97f3cc11-db7f-459b-b299-a5eb228e6ddc",
   "metadata": {},
   "outputs": [
    {
     "name": "stdout",
     "output_type": "stream",
     "text": [
      "  0.000129 seconds (7 allocations: 114.672 KiB)\n"
     ]
    }
   ],
   "source": [
    "@time r2lod.(test_R[:, 1], 79);"
   ]
  },
  {
   "cell_type": "code",
   "execution_count": 97,
   "id": "207a2be1-7c6c-4309-8378-25b1fbd0cc08",
   "metadata": {},
   "outputs": [
    {
     "data": {
      "text/plain": [
       "(2222, 4)"
      ]
     },
     "execution_count": 97,
     "metadata": {},
     "output_type": "execute_result"
    }
   ],
   "source": [
    "divrem(size(test_R, 2), 16)"
   ]
  },
  {
   "cell_type": "markdown",
   "id": "fd48e14f-9646-45d2-a068-95acf78779e1",
   "metadata": {},
   "source": [
    "Then, if using 16 threads, as processing one block of traits takes about"
   ]
  },
  {
   "cell_type": "code",
   "execution_count": 101,
   "id": "8d288ffe-ac59-4b7c-95a6-10c33015c980",
   "metadata": {},
   "outputs": [
    {
     "name": "stdout",
     "output_type": "stream",
     "text": [
      "  0.256500 seconds (8 allocations: 248.219 MiB, 1.59% gc time)\n"
     ]
    }
   ],
   "source": [
    "@time r2lod.(test_R[:, 1:2222], 79);"
   ]
  },
  {
   "cell_type": "markdown",
   "id": "0c346ea8-1f0e-46aa-8095-9ce23e71c4be",
   "metadata": {},
   "source": [
    "we would expect to compute one frame of LOD scores corresponding to one $h^2$ to be done in less than 0.5 seconds"
   ]
  },
  {
   "cell_type": "code",
   "execution_count": 102,
   "id": "db8dbba3-6b7f-4eb6-801e-ae1200df8db2",
   "metadata": {},
   "outputs": [
    {
     "data": {
      "text/plain": [
       "24"
      ]
     },
     "execution_count": 102,
     "metadata": {},
     "output_type": "execute_result"
    }
   ],
   "source": [
    "Threads.nthreads()"
   ]
  },
  {
   "cell_type": "code",
   "execution_count": 103,
   "id": "3f8c3a26-9bdd-49ba-906d-216616ef2a59",
   "metadata": {},
   "outputs": [
    {
     "data": {
      "text/plain": [
       "(7321, 35556)"
      ]
     },
     "execution_count": 103,
     "metadata": {},
     "output_type": "execute_result"
    }
   ],
   "source": [
    "size(test_R)"
   ]
  },
  {
   "cell_type": "code",
   "execution_count": 104,
   "id": "51098149-8f5b-41e8-b20d-257c738bac00",
   "metadata": {},
   "outputs": [
    {
     "data": {
      "text/plain": [
       "tR2LOD1 (generic function with 1 method)"
      ]
     },
     "execution_count": 104,
     "metadata": {},
     "output_type": "execute_result"
    }
   ],
   "source": [
    "function tR2LOD1(R::Array{Float64, 2}, n::Int64, nb::Int64)\n",
    "    \n",
    "    (p, m) = size(R)\n",
    "    \n",
    "    (len, rem) = divrem(m, nb);\n",
    "    \n",
    "    results = Array{Array{Float64, 2}, 1}(undef, nb);\n",
    "    \n",
    "    Threads.@threads for t in 1:nb\n",
    "        \n",
    "        head = 1+(t-1)*len; \n",
    "        tail = len+(t-1)*len;\n",
    "        \n",
    "        R_sub = R[:, head:tail];\n",
    "        \n",
    "        \n",
    "        @simd for j in 1:size(R_sub, 2)\n",
    "            @simd for i in 1:size(R_sub, 1)\n",
    "                R_sub[i, j] = r2lod(R_sub[i, j], n)\n",
    "            end\n",
    "        end\n",
    "        \n",
    "        results[t] = R_sub\n",
    "        \n",
    "    end\n",
    "    \n",
    "    # process up the remaining data\n",
    "    LOD_rem = r2lod.(R[:, (nb*len+1):end]);\n",
    "    \n",
    "    LODs_all = reduce(hcat, results);\n",
    "    LODs_all = hcat(LODs_all, LOD_rem);\n",
    "    \n",
    "    return LODs_all\n",
    "    \n",
    "end"
   ]
  },
  {
   "cell_type": "code",
   "execution_count": 105,
   "id": "77fc2d64-72c8-448a-9ef9-9d2f551ed4fc",
   "metadata": {},
   "outputs": [
    {
     "data": {
      "text/plain": [
       "tR2LOD2! (generic function with 1 method)"
      ]
     },
     "execution_count": 105,
     "metadata": {},
     "output_type": "execute_result"
    }
   ],
   "source": [
    "function tR2LOD2!(R::Array{Float64, 2}, n::Int64)\n",
    "    \n",
    "    (p, m) = size(R)\n",
    "    \n",
    "    Threads.@threads for j in 1:m\n",
    "        for i in 1:p\n",
    "            @inbounds R[i, j] = r2lod(R[i, j], n)\n",
    "        end\n",
    "    end\n",
    "    \n",
    "end"
   ]
  },
  {
   "cell_type": "code",
   "execution_count": 106,
   "id": "b51b8234-1779-4bc8-9597-baa0731ed566",
   "metadata": {},
   "outputs": [
    {
     "data": {
      "text/plain": [
       "tR2LOD3! (generic function with 1 method)"
      ]
     },
     "execution_count": 106,
     "metadata": {},
     "output_type": "execute_result"
    }
   ],
   "source": [
    "function tR2LOD3!(R::Array{Float64, 2}, n::Int64)\n",
    "    \n",
    "    (p, m) = size(R)\n",
    "    \n",
    "    Threads.@threads for i in 1:p\n",
    "        @simd for j in 1:m\n",
    "            @inbounds R[i, j] = r2lod(R[i, j], n)\n",
    "        end\n",
    "    end\n",
    "    \n",
    "end"
   ]
  },
  {
   "cell_type": "code",
   "execution_count": 107,
   "id": "74fc4ce3-9507-410c-99dc-985d76474546",
   "metadata": {},
   "outputs": [
    {
     "data": {
      "text/plain": [
       "24"
      ]
     },
     "execution_count": 107,
     "metadata": {},
     "output_type": "execute_result"
    }
   ],
   "source": [
    "BLAS.get_num_threads()"
   ]
  },
  {
   "cell_type": "code",
   "execution_count": 119,
   "id": "da7a5373-29b5-459f-abd2-2648217aadf6",
   "metadata": {},
   "outputs": [
    {
     "name": "stdout",
     "output_type": "stream",
     "text": [
      "  2.620945 seconds (160 allocations: 5.818 GiB, 6.59% gc time)\n"
     ]
    }
   ],
   "source": [
    "@time test_LOD = tR2LOD1(test_R, 79, 4);"
   ]
  },
  {
   "cell_type": "code",
   "execution_count": 111,
   "id": "dabd5b6d-ed3d-4026-9b6e-3605368abeb8",
   "metadata": {},
   "outputs": [],
   "source": [
    "ctest_R;"
   ]
  },
  {
   "cell_type": "code",
   "execution_count": 112,
   "id": "2d5d2044-a9db-428c-960c-5624aa88b2fc",
   "metadata": {},
   "outputs": [],
   "source": [
    "test_R = ctest_R;"
   ]
  },
  {
   "cell_type": "code",
   "execution_count": 117,
   "id": "e1b6cad7-8e74-4bcd-9651-7ca087b12c62",
   "metadata": {},
   "outputs": [
    {
     "name": "stdout",
     "output_type": "stream",
     "text": [
      "  0.218149 seconds (125 allocations: 11.594 KiB)\n"
     ]
    }
   ],
   "source": [
    "@time tR2LOD2!(test_R, 79)"
   ]
  },
  {
   "cell_type": "code",
   "execution_count": 114,
   "id": "92336865-5bb8-4521-bc38-1db3676637b7",
   "metadata": {},
   "outputs": [],
   "source": [
    "test_R = ctest_R;"
   ]
  },
  {
   "cell_type": "code",
   "execution_count": 115,
   "id": "998b3bde-ce26-4ec2-b15b-062eccd53620",
   "metadata": {},
   "outputs": [
    {
     "name": "stdout",
     "output_type": "stream",
     "text": [
      "  0.876041 seconds (51.91 k allocations: 2.917 MiB, 4.51% compilation time)\n"
     ]
    }
   ],
   "source": [
    "@time tR2LOD3!(test_R, 79)"
   ]
  },
  {
   "cell_type": "code",
   "execution_count": 121,
   "id": "27758172-ed1a-409c-a7b4-57758935efa2",
   "metadata": {},
   "outputs": [
    {
     "data": {
      "text/plain": [
       "2.116580304281243"
      ]
     },
     "execution_count": 121,
     "metadata": {},
     "output_type": "execute_result"
    }
   ],
   "source": [
    "sumSqDiff(test_R, test_LOD)"
   ]
  },
  {
   "cell_type": "code",
   "execution_count": 120,
   "id": "86974356-8fb0-4ae5-a009-3ad2a7495036",
   "metadata": {},
   "outputs": [
    {
     "ename": "LoadError",
     "evalue": "InterruptException:",
     "output_type": "error",
     "traceback": [
      "InterruptException:",
      "",
      "Stacktrace:",
      " [1] top-level scope",
      "   @ timing.jl:220",
      " [2] eval",
      "   @ ./boot.jl:373 [inlined]",
      " [3] include_string(mapexpr::typeof(REPL.softscope), mod::Module, code::String, filename::String)",
      "   @ Base ./loading.jl:1196"
     ]
    }
   ],
   "source": [
    "@time test_L = map(x -> r2lod(x, 79), test_R);"
   ]
  },
  {
   "cell_type": "markdown",
   "id": "44bb52fe-78ad-4446-8628-e6589d306dc9",
   "metadata": {},
   "source": [
    "#### Multithreading the MAX map:"
   ]
  },
  {
   "cell_type": "code",
   "execution_count": 174,
   "id": "fa92192d-acaf-4a9e-a240-73221549dbbd",
   "metadata": {},
   "outputs": [
    {
     "data": {
      "text/plain": [
       "mymax! (generic function with 1 method)"
      ]
     },
     "execution_count": 174,
     "metadata": {},
     "output_type": "execute_result"
    }
   ],
   "source": [
    "function mymax!(max::Array{Float64, 2}, toCompare::Array{Float64, 2})\n",
    "    \n",
    "    (p, m) = size(max);\n",
    "    \n",
    "    for i in 1:p\n",
    "        for j in 1:m\n",
    "            \n",
    "            max[i, j] = (max[i, j] >= toCompare[i, j]) ? max[i, j] : toCompare[i, j];\n",
    "            \n",
    "        end\n",
    "    end\n",
    "    \n",
    "end"
   ]
  },
  {
   "cell_type": "code",
   "execution_count": 175,
   "id": "fed2516a-dfb1-40b1-b5a4-816c6ecfe082",
   "metadata": {},
   "outputs": [
    {
     "data": {
      "text/plain": [
       "mytmax! (generic function with 1 method)"
      ]
     },
     "execution_count": 175,
     "metadata": {},
     "output_type": "execute_result"
    }
   ],
   "source": [
    "function mytmax!(max::Array{Float64, 2}, toCompare::Array{Float64, 2})\n",
    "    \n",
    "    (p, m) = size(max);\n",
    "    \n",
    "    @tturbo for j in 1:m\n",
    "        for i in 1:p\n",
    "            \n",
    "            max[i, j] = (max[i, j] >= toCompare[i, j]) ? max[i, j] : toCompare[i, j];\n",
    "            \n",
    "        end\n",
    "    end\n",
    "    \n",
    "end"
   ]
  },
  {
   "cell_type": "code",
   "execution_count": 176,
   "id": "8a703860-f764-43d7-82d5-e0660d0daf6c",
   "metadata": {},
   "outputs": [],
   "source": [
    "A = rand(10000, 10000);\n",
    "B = rand(10000, 10000);"
   ]
  },
  {
   "cell_type": "code",
   "execution_count": 177,
   "id": "369361c1-d3e3-470a-ae30-c350f40477ec",
   "metadata": {},
   "outputs": [],
   "source": [
    "cA = copy(A);"
   ]
  },
  {
   "cell_type": "code",
   "execution_count": 178,
   "id": "363523d7-8eb7-498c-9a13-b24b46587270",
   "metadata": {},
   "outputs": [
    {
     "name": "stdout",
     "output_type": "stream",
     "text": [
      "  0.887607 seconds\n"
     ]
    }
   ],
   "source": [
    "@time max1 = mymax!(A, B);"
   ]
  },
  {
   "cell_type": "code",
   "execution_count": 179,
   "id": "63efe650-88ba-4b2c-9823-41d84d68bf11",
   "metadata": {},
   "outputs": [],
   "source": [
    "A = cA;"
   ]
  },
  {
   "cell_type": "code",
   "execution_count": 180,
   "id": "470320ba-ac96-4097-9f3c-df4a987e06b4",
   "metadata": {},
   "outputs": [
    {
     "name": "stdout",
     "output_type": "stream",
     "text": [
      "  0.036367 seconds\n"
     ]
    }
   ],
   "source": [
    "@time mytmax!(A, B);"
   ]
  },
  {
   "cell_type": "markdown",
   "id": "78b13e17-00d5-406d-bc0f-5003ca40240f",
   "metadata": {},
   "source": [
    "After we incorporating the changes, run and time the entire task:"
   ]
  },
  {
   "cell_type": "code",
   "execution_count": 181,
   "id": "80950aa8-36b9-41f4-bf1f-14c5e96e8a3e",
   "metadata": {},
   "outputs": [
    {
     "data": {
      "text/plain": [
       "tscan_lite_multivar (generic function with 1 method)"
      ]
     },
     "execution_count": 181,
     "metadata": {},
     "output_type": "execute_result"
    }
   ],
   "source": [
    "function tscan_lite_multivar(Y0::Array{Float64, 2}, X0::Array{Float64, 2}, \n",
    "                            hsq::Float64, lambda0::Array{Float64, 1};\n",
    "                            reml::Bool = true)\n",
    "    \n",
    "    n = size(Y0, 1)\n",
    "    sqrtw = sqrt.(makeweights(hsq, lambda0));\n",
    "    \n",
    "    wY0 = rowMultiply(Y0, sqrtw);\n",
    "    wX0 = rowMultiply(X0, sqrtw);\n",
    "    \n",
    "    wX0_intercept = wX0[:, 1];\n",
    "    wX0_covar = wX0[:, 2:end];\n",
    "    \n",
    "    Y00 = resid(wY0, wX0_intercept);\n",
    "    X00 = resid(wX0_covar, wX0_intercept);\n",
    "        \n",
    "        \n",
    "    sy = std(Y00, dims = 1) |> vec;\n",
    "    sx = std(X00, dims = 1) |> vec;\n",
    "    colDivide!(Y00, sy);\n",
    "    colDivide!(X00, sx);\n",
    "    \n",
    "    R = X00' * Y00; # p-by-m matrix\n",
    "    \n",
    "    tR2LOD2!(R, n); # results will be p-by-1, i.e. all LOD scores for the j-th trait and p markers\n",
    "    \n",
    "    return R\n",
    "end"
   ]
  },
  {
   "cell_type": "code",
   "execution_count": 182,
   "id": "2d81cce1-f1bd-4ea5-b97a-43079803b1a4",
   "metadata": {},
   "outputs": [
    {
     "data": {
      "text/plain": [
       "tbulk_scan (generic function with 1 method)"
      ]
     },
     "execution_count": 182,
     "metadata": {},
     "output_type": "execute_result"
    }
   ],
   "source": [
    "function tbulk_scan(Y::Array{Float64, 2}, G::Array{Float64, 2}, K::Array{Float64, 2}, hsq_list::Array{Float64, 1};\n",
    "                reml::Bool = true)\n",
    "    \n",
    "    (Y0, X0, lambda0) = transform_rotation(Y, G, K);\n",
    "    \n",
    "    maxL = tscan_lite_multivar(Y0, X0, hsq_list[1], lambda0);\n",
    "    \n",
    "    for hsq in hsq_list[2:end]\n",
    "        \n",
    "        currL = tscan_lite_multivar(Y0, X0, hsq, lambda0);\n",
    "        mytmax!(maxL, currL);\n",
    "        \n",
    "    end\n",
    "    \n",
    "    return maxL\n",
    "      \n",
    "end"
   ]
  },
  {
   "cell_type": "code",
   "execution_count": 203,
   "id": "25942605-dca5-41f6-9120-43defc0c9f4d",
   "metadata": {},
   "outputs": [],
   "source": [
    "hsq_grids = collect(1:10).*0.1;"
   ]
  },
  {
   "cell_type": "code",
   "execution_count": 204,
   "id": "ae60db90-9d74-40cc-a229-da981ee235ac",
   "metadata": {},
   "outputs": [
    {
     "data": {
      "text/plain": [
       "24"
      ]
     },
     "execution_count": 204,
     "metadata": {},
     "output_type": "execute_result"
    }
   ],
   "source": [
    "Threads.nthreads()"
   ]
  },
  {
   "cell_type": "code",
   "execution_count": 205,
   "id": "059da70a-c401-4d04-8a79-7bf07087f171",
   "metadata": {},
   "outputs": [
    {
     "data": {
      "text/plain": [
       "24"
      ]
     },
     "execution_count": 205,
     "metadata": {},
     "output_type": "execute_result"
    }
   ],
   "source": [
    "BLAS.get_num_threads()"
   ]
  },
  {
   "cell_type": "code",
   "execution_count": 206,
   "id": "d5a5eb9f-4ba8-4086-acb9-c968cf1cc7c9",
   "metadata": {},
   "outputs": [
    {
     "data": {
      "text/plain": [
       "10"
      ]
     },
     "execution_count": 206,
     "metadata": {},
     "output_type": "execute_result"
    }
   ],
   "source": [
    "BenchmarkTools.DEFAULT_PARAMETERS.samples = 10"
   ]
  },
  {
   "cell_type": "code",
   "execution_count": 209,
   "id": "b18a0812-4b7d-4147-b77d-d3d91dc4a689",
   "metadata": {},
   "outputs": [
    {
     "name": "stdout",
     "output_type": "stream",
     "text": [
      " 68.319608 seconds (613 allocations: 57.086 GiB, 6.81% gc time)\n"
     ]
    }
   ],
   "source": [
    "@time ordinary_bulkscanL = bulk_scan(pheno, geno, kinship, hsq_grids);"
   ]
  },
  {
   "cell_type": "code",
   "execution_count": 207,
   "id": "aeea87f6-a3dd-4c17-82b4-229954686803",
   "metadata": {},
   "outputs": [
    {
     "name": "stdout",
     "output_type": "stream",
     "text": [
      " 13.020161 seconds (1.89 k allocations: 20.237 GiB, 10.53% gc time)\n"
     ]
    }
   ],
   "source": [
    "@time t_bulkscanL = tbulk_scan(pheno, geno, kinship, hsq_grids);"
   ]
  },
  {
   "cell_type": "code",
   "execution_count": 210,
   "id": "46982162-fd6f-4da1-93a6-a63a64c97745",
   "metadata": {},
   "outputs": [
    {
     "data": {
      "text/plain": [
       "0.0"
      ]
     },
     "execution_count": 210,
     "metadata": {},
     "output_type": "execute_result"
    }
   ],
   "source": [
    "sumSqDiff(ordinary_bulkscanL, t_bulkscanL)"
   ]
  },
  {
   "cell_type": "code",
   "execution_count": 211,
   "id": "92044c0c-8444-4781-b78f-dc1aaaaa5dd8",
   "metadata": {},
   "outputs": [
    {
     "data": {
      "text/plain": [
       "BenchmarkTools.Trial: 1 sample with 1 evaluation.\n",
       " Single result which took \u001b[34m12.805 s\u001b[39m (8.39% GC) to evaluate,\n",
       " with a memory estimate of \u001b[33m20.24 GiB\u001b[39m, over \u001b[33m1894\u001b[39m allocations."
      ]
     },
     "execution_count": 211,
     "metadata": {},
     "output_type": "execute_result"
    }
   ],
   "source": [
    "@benchmark tbulk_scan(pheno, geno, kinship, hsq_grids)"
   ]
  },
  {
   "cell_type": "code",
   "execution_count": 212,
   "id": "9516d634-a9a5-49b2-af29-d0f603494490",
   "metadata": {},
   "outputs": [
    {
     "data": {
      "text/plain": [
       "6×35556 Matrix{Float64}:\n",
       " 0.000119096  0.0453796  0.00292759  …  0.0458121  0.003295  0.342962\n",
       " 0.000119096  0.0453796  0.00292759     0.0458121  0.003295  0.342962\n",
       " 0.000119096  0.0453796  0.00292759     0.0458121  0.003295  0.342962\n",
       " 0.000119096  0.0453796  0.00292759     0.0458121  0.003295  0.342962\n",
       " 0.000119096  0.0453796  0.00292759     0.0458121  0.003295  0.342962\n",
       " 0.000119096  0.0453796  0.00292759  …  0.0458121  0.003295  0.342962"
      ]
     },
     "execution_count": 212,
     "metadata": {},
     "output_type": "execute_result"
    }
   ],
   "source": [
    "full_results_lite[1:6, :]"
   ]
  },
  {
   "cell_type": "code",
   "execution_count": 213,
   "id": "ef1ed667-d74e-4f77-bc45-0182ecfc5591",
   "metadata": {},
   "outputs": [
    {
     "data": {
      "text/plain": [
       "6×35556 Matrix{Float64}:\n",
       " 0.0957757  0.130312  0.094194  0.0362664  …  0.0466633  0.354027  0.539208\n",
       " 0.0957757  0.130312  0.094194  0.0362664     0.0466633  0.354027  0.539208\n",
       " 0.0957757  0.130312  0.094194  0.0362664     0.0466633  0.354027  0.539208\n",
       " 0.0957757  0.130312  0.094194  0.0362664     0.0466633  0.354027  0.539208\n",
       " 0.0957757  0.130312  0.094194  0.0362664     0.0466633  0.354027  0.539208\n",
       " 0.0957757  0.130312  0.094194  0.0362664  …  0.0466633  0.354027  0.539208"
      ]
     },
     "execution_count": 213,
     "metadata": {},
     "output_type": "execute_result"
    }
   ],
   "source": [
    "t_bulkscanL[1:6, :]"
   ]
  },
  {
   "cell_type": "code",
   "execution_count": 216,
   "id": "ca53142f-b16f-4001-be06-dfcc1ad85f09",
   "metadata": {},
   "outputs": [
    {
     "data": {
      "text/plain": [
       "0.8130819230249309"
      ]
     },
     "execution_count": 216,
     "metadata": {},
     "output_type": "execute_result"
    }
   ],
   "source": [
    "sum(t_bulkscanL .>= full_results_lite)/(p*m)"
   ]
  },
  {
   "cell_type": "markdown",
   "id": "d2fdf574-2cfa-4658-925d-d1bca33a3c8b",
   "metadata": {},
   "source": [
    "## Estimate heritability independently for every trait:"
   ]
  },
  {
   "cell_type": "code",
   "execution_count": null,
   "id": "461b4064-35e6-416c-87d6-43f820fdca56",
   "metadata": {},
   "outputs": [],
   "source": []
  },
  {
   "cell_type": "code",
   "execution_count": null,
   "id": "3ee58886-0e97-4f16-b361-bc7f7ffe4132",
   "metadata": {},
   "outputs": [],
   "source": []
  },
  {
   "cell_type": "code",
   "execution_count": null,
   "id": "727be3e3-88e0-43cd-b2a2-45b0089823af",
   "metadata": {},
   "outputs": [],
   "source": []
  },
  {
   "cell_type": "code",
   "execution_count": null,
   "id": "1f495a1e-7875-46c6-b70b-2341b7d0683d",
   "metadata": {},
   "outputs": [],
   "source": []
  },
  {
   "cell_type": "markdown",
   "id": "c4fbdce6-d134-4d2a-957f-ddb2ed06b8a5",
   "metadata": {},
   "source": [
    "### Iteratively:"
   ]
  },
  {
   "cell_type": "code",
   "execution_count": 104,
   "id": "bc7cfa16-e208-488a-9aac-473df9992850",
   "metadata": {},
   "outputs": [
    {
     "data": {
      "text/plain": [
       "get_h2s_for_timing (generic function with 1 method)"
      ]
     },
     "execution_count": 104,
     "metadata": {},
     "output_type": "execute_result"
    }
   ],
   "source": [
    "function get_weights_for_timing(y0::Array{Float64, 2}, X0::Array{Float64, 2}, lambda0::Array{Float64, 1};\n",
    "                   reml::Bool = false)\n",
    "    \n",
    "    # fit null lmm\n",
    "    out00 = fitlmm(y0, reshape(X0[:, 1], :, 1), lambda0; reml = reml)\n",
    "    # weights proportional to the variances\n",
    "    sqrtw = sqrt.(makeweights(out00.h2, lambda0));\n",
    "    \n",
    "    return sqrtw\n",
    "    \n",
    "end\n",
    "\n",
    "function get_h2s_for_timing(y0::Array{Float64, 2}, X0::Array{Float64, 2}, lambda0::Array{Float64, 1};\n",
    "                   reml::Bool = false)\n",
    "    \n",
    "    # fit null lmm\n",
    "    out00 = fitlmm(y0, reshape(X0[:, 1], :, 1), lambda0; reml = reml)\n",
    "    # weights proportional to the variances\n",
    "    # sqrtw = sqrt.(makeweights(out00.h2, lambda0));\n",
    "    \n",
    "    # return sqrtw\n",
    "    return out00.h2\n",
    "    \n",
    "end"
   ]
  },
  {
   "cell_type": "code",
   "execution_count": null,
   "id": "15bbe6bd-b607-4d5b-b4f5-d92d106a1334",
   "metadata": {},
   "outputs": [],
   "source": [
    "m"
   ]
  },
  {
   "cell_type": "code",
   "execution_count": null,
   "id": "b0f794f1-6010-46a9-a226-034554126161",
   "metadata": {},
   "outputs": [],
   "source": [
    "nprocs()"
   ]
  },
  {
   "cell_type": "code",
   "execution_count": null,
   "id": "66f86e3d-dfa4-491b-89e4-94adc4f82257",
   "metadata": {},
   "outputs": [],
   "source": [
    "Threads.nthreads()"
   ]
  },
  {
   "cell_type": "code",
   "execution_count": 105,
   "id": "974f6086-73b2-4d3f-ac54-8008e23b7599",
   "metadata": {},
   "outputs": [],
   "source": [
    "(Y0, X0, lambda0) = transform_rotation(pheno, geno, kinship); # rotate the entire matrix of all traits"
   ]
  },
  {
   "cell_type": "code",
   "execution_count": null,
   "id": "e8688990-7670-48f1-b1ff-8171f44af9f3",
   "metadata": {},
   "outputs": [],
   "source": [
    "h2s_list = Array{Float64, 1}(undef, m);\n",
    "weights_list = Array{Float64, 2}(undef, n, m);"
   ]
  },
  {
   "cell_type": "code",
   "execution_count": null,
   "id": "ba1a4984-a52e-4b7f-b5b1-567a322f8757",
   "metadata": {},
   "outputs": [],
   "source": [
    "@time begin \n",
    "    (Y0, X0, lambda0) = transform_rotation(pheno, geno, kinship); # rotate the entire matrix of all traits\n",
    "    \n",
    "    for k in 1:m\n",
    "        y0_k = reshape(Y0[:, k], :, 1);\n",
    "        h2s_list[k] = get_h2s_for_timing(y0_k, X0, lambda0; reml = true);\n",
    "    end\n",
    "    \n",
    "end"
   ]
  },
  {
   "cell_type": "code",
   "execution_count": null,
   "id": "00fca007-79bf-4cc3-99dc-094c4cbfe126",
   "metadata": {},
   "outputs": [],
   "source": [
    "@time begin\n",
    "    \n",
    "    (Y0, X0, lambda0) = transform_rotation(pheno, geno, kinship); # rotate the entire matrix of all traits\n",
    "    \n",
    "    for k in 1:m\n",
    "        y0_k = reshape(Y0[:, k], :, 1);\n",
    "        weights_list[:, k] = get_weights_for_timing(y0_k, X0, lambda0; reml = true);\n",
    "    end\n",
    "    \n",
    "end"
   ]
  },
  {
   "cell_type": "code",
   "execution_count": null,
   "id": "be991915-aad1-4305-8891-1c38149df2cb",
   "metadata": {},
   "outputs": [],
   "source": [
    "get_weights_for_timing(reshape(Y0[:, 7919], :, 1), X0, lambda0; reml = true)"
   ]
  },
  {
   "cell_type": "code",
   "execution_count": null,
   "id": "435d2efb-0cc6-4120-b18d-738a1b232f57",
   "metadata": {},
   "outputs": [],
   "source": [
    "histogram(h2s_list, legend = false)"
   ]
  },
  {
   "cell_type": "code",
   "execution_count": null,
   "id": "1eab4423-cf6f-459d-b453-341b849d47cf",
   "metadata": {},
   "outputs": [],
   "source": [
    "p"
   ]
  },
  {
   "cell_type": "code",
   "execution_count": null,
   "id": "ecf7b7ff-2b34-4bf5-83f9-26ecb395d5ba",
   "metadata": {},
   "outputs": [],
   "source": [
    "lod = Array{Float64, 2}(undef, p, m);"
   ]
  },
  {
   "cell_type": "code",
   "execution_count": null,
   "id": "2dc8181e-382c-4716-919d-962b2ef5e263",
   "metadata": {},
   "outputs": [],
   "source": [
    "BLAS.get_num_threads()"
   ]
  },
  {
   "cell_type": "code",
   "execution_count": null,
   "id": "5a343758-bf18-442d-9cd3-b38e47143daf",
   "metadata": {},
   "outputs": [],
   "source": [
    "function threads_by_blocks(r0perm::Array{Float64, 2}, X00::Array{Float64, 2}, nblocks::Int64)\n",
    "    # Does distributed processes of calculations of LOD scores for markers in each block\n",
    "\n",
    "    p = size(X00, 2);\n",
    "\n",
    "    ## (Create blocks...)\n",
    "    \n",
    "    block_size = ceil(Int, p/nblocks);\n",
    "    blocks = createBlocks(p, block_size);\n",
    "\n",
    "    LODs_blocks = tmap(x -> calcLODs_block(r0perm, X00, x), 16, blocks);\n",
    "    results = reduce(hcat, LODs_blocks);\n",
    "\n",
    "    return results\n",
    "\n",
    "end"
   ]
  },
  {
   "cell_type": "code",
   "execution_count": null,
   "id": "8ef774d9-dfb0-4541-b697-11686961fd04",
   "metadata": {},
   "outputs": [],
   "source": [
    "function scan_perms_threadsBlocks(y::Array{Float64,2}, g::Array{Float64,2}, K::Array{Float64,2};\n",
    "                                reml::Bool = false,\n",
    "                                nperms::Int64 = 1024, rndseed::Int64 = 0, original::Bool = true,\n",
    "                                # (options for blocks, nperms distribution methods...)\n",
    "                                option::String = \"by blocks\", nblocks::Int64 = 1, ncopies::Int64 = 1, \n",
    "                                nprocs::Int64 = 0)\n",
    "\n",
    "    (y0, X0, lambda0) = transform_rotation(y, g, K); # rotation of data\n",
    "    (r0, X00) = transform_reweight(y0, X0, lambda0; reml = reml); # reweighting and taking residuals\n",
    "    r0perm = transform_permute(r0; nperms = nperms, rndseed = rndseed, original = original);\n",
    "\n",
    "    if option == \"by blocks\"\n",
    "        results = threads_by_blocks(r0perm, X00, nblocks);\n",
    "    elseif option == \"by nperms\"\n",
    "        results = distribute_by_nperms(r0, X00, nperms, ncopies, original);\n",
    "    else\n",
    "        throw(error(\"Option unsupported.\"))\n",
    "    end\n",
    "\n",
    "    return results\n",
    "\n",
    "end"
   ]
  },
  {
   "cell_type": "code",
   "execution_count": null,
   "id": "33c15d02-3ab0-4a44-a554-90104cda5964",
   "metadata": {},
   "outputs": [],
   "source": [
    "block_bounds = quantile(h2s_list, [0.1, 0.2, 0.3, 0.4, 0.5, 0.6, 0.7, 0.8, 0.9, 1.0])"
   ]
  },
  {
   "cell_type": "code",
   "execution_count": null,
   "id": "eb62fee7-d97d-44ae-8bb6-88016320f099",
   "metadata": {},
   "outputs": [],
   "source": [
    "length(block_bounds)/2"
   ]
  },
  {
   "cell_type": "code",
   "execution_count": null,
   "id": "ac1d5b83-2444-4ac7-bf8a-f5ba54a3d475",
   "metadata": {},
   "outputs": [],
   "source": [
    "sum(map(x -> (x < block_bounds[5] && x > block_bounds[4]), h2s_list))"
   ]
  },
  {
   "cell_type": "markdown",
   "id": "d5cd0a86-1ef5-40d8-8e21-0d65cbc70462",
   "metadata": {},
   "source": [
    "### Parellely:"
   ]
  },
  {
   "cell_type": "markdown",
   "id": "1cbedcbc-5659-426a-837a-6d71aa40933a",
   "metadata": {},
   "source": [
    "#### Distributed-processes"
   ]
  },
  {
   "cell_type": "code",
   "execution_count": null,
   "id": "61ea2bd1-ea84-4903-8908-f35d16e67e76",
   "metadata": {},
   "outputs": [],
   "source": [
    "using Distributed"
   ]
  },
  {
   "cell_type": "code",
   "execution_count": null,
   "id": "e9c46b40-834a-4c89-9125-379729a3474c",
   "metadata": {},
   "outputs": [],
   "source": [
    "@everywhere begin\n",
    "    \n",
    "    include(\"../test/BXDdata_for_test.jl\");\n",
    "    include(\"../src/parallel_helpers.jl\");\n",
    "    \n",
    "    function get_h2s_for_timing(y0::Array{Float64, 2}, X0::Array{Float64, 2}, lambda0::Array{Float64, 1};\n",
    "                   reml::Bool = false)\n",
    "    \n",
    "    # fit null lmm\n",
    "    out00 = fitlmm(y0, reshape(X0[:, 1], :, 1), lambda0; reml = reml)\n",
    "    # weights proportional to the variances\n",
    "    # sqrtw = sqrt.(makeweights(out00.h2, lambda0));\n",
    "    \n",
    "    # return sqrtw\n",
    "    return out00.h2\n",
    "    \n",
    "    end\n",
    "end"
   ]
  },
  {
   "cell_type": "code",
   "execution_count": null,
   "id": "f8909536-69cc-4509-8519-fd8a726d7dd6",
   "metadata": {},
   "outputs": [],
   "source": [
    "@time begin \n",
    "    (Y0, X0, lambda0) = transform_rotation(pheno, geno, kinship); # rotate the entire matrix of all traits\n",
    "    \n",
    "    pmap_h2s = pmap(x -> get_h2s_for_timing(reshape(Y0[:, x], :, 1), X0, lambda0; reml = true), 1:m)\n",
    "end"
   ]
  },
  {
   "cell_type": "code",
   "execution_count": null,
   "id": "3aa97387-0bca-4fef-be64-83dabb95f38a",
   "metadata": {},
   "outputs": [],
   "source": [
    "Threads.nthreads()"
   ]
  },
  {
   "cell_type": "code",
   "execution_count": null,
   "id": "ed2411b5-f98a-453c-b328-e364ec5031c8",
   "metadata": {},
   "outputs": [],
   "source": []
  }
 ],
 "metadata": {
  "kernelspec": {
   "display_name": "Julia 24 Threads 1.7.3",
   "language": "julia",
   "name": "julia-24-threads-1.7"
  },
  "language_info": {
   "file_extension": ".jl",
   "mimetype": "application/julia",
   "name": "julia",
   "version": "1.7.3"
  }
 },
 "nbformat": 4,
 "nbformat_minor": 5
}
