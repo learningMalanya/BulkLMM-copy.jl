{
 "cells": [
  {
   "cell_type": "markdown",
   "id": "a6823e97-cece-4715-b2da-abe4e9ebf923",
   "metadata": {},
   "source": [
    "# Explore Runtimes:"
   ]
  },
  {
   "cell_type": "code",
   "execution_count": 1,
   "id": "965cce00-59f7-4602-87cf-ef609bc4f2f3",
   "metadata": {},
   "outputs": [
    {
     "data": {
      "text/plain": [
       "\"/home/zyu20/git/BulkLMM.jl/analysis/BXD\""
      ]
     },
     "execution_count": 1,
     "metadata": {},
     "output_type": "execute_result"
    }
   ],
   "source": [
    "pwd()"
   ]
  },
  {
   "cell_type": "code",
   "execution_count": 2,
   "id": "54153196-a048-488b-af8e-45f52d1af76b",
   "metadata": {},
   "outputs": [],
   "source": [
    "cd(\"..\")"
   ]
  },
  {
   "cell_type": "code",
   "execution_count": 3,
   "id": "fc3b6ede-0266-46cd-8528-981770c07f67",
   "metadata": {},
   "outputs": [],
   "source": [
    "include(\"../test/BXDdata_for_test.jl\");"
   ]
  },
  {
   "cell_type": "code",
   "execution_count": 4,
   "id": "d5599580-c9af-47be-9723-d6b8a2437ef1",
   "metadata": {},
   "outputs": [],
   "source": [
    "include(\"../src/parallel_helpers.jl\");"
   ]
  },
  {
   "cell_type": "code",
   "execution_count": 5,
   "id": "3d8e5841-bfbc-4d35-bff9-920c73705424",
   "metadata": {},
   "outputs": [
    {
     "data": {
      "text/plain": [
       "(79, 35556)"
      ]
     },
     "execution_count": 5,
     "metadata": {},
     "output_type": "execute_result"
    }
   ],
   "source": [
    "size(pheno)"
   ]
  },
  {
   "cell_type": "code",
   "execution_count": 6,
   "id": "5af01511-8d3e-4630-9e37-3471bc6c1ece",
   "metadata": {},
   "outputs": [
    {
     "data": {
      "text/plain": [
       "(79, 1)"
      ]
     },
     "execution_count": 6,
     "metadata": {},
     "output_type": "execute_result"
    }
   ],
   "source": [
    "size(pheno_y)"
   ]
  },
  {
   "cell_type": "code",
   "execution_count": 7,
   "id": "fd6dc879-63b9-4e9d-876d-87c00591dca8",
   "metadata": {},
   "outputs": [
    {
     "data": {
      "text/plain": [
       "(79, 7321)"
      ]
     },
     "execution_count": 7,
     "metadata": {},
     "output_type": "execute_result"
    }
   ],
   "source": [
    "size(geno)"
   ]
  },
  {
   "cell_type": "code",
   "execution_count": 8,
   "id": "4574cb5d-84b2-4d56-9f61-22505d5d8c79",
   "metadata": {},
   "outputs": [
    {
     "data": {
      "text/plain": [
       "(79, 79)"
      ]
     },
     "execution_count": 8,
     "metadata": {},
     "output_type": "execute_result"
    }
   ],
   "source": [
    "size(kinship)"
   ]
  },
  {
   "cell_type": "code",
   "execution_count": 9,
   "id": "8dfb655e-db19-4386-98a7-75845de3b17c",
   "metadata": {},
   "outputs": [
    {
     "data": {
      "text/plain": [
       "(79, 35556, 7321)"
      ]
     },
     "execution_count": 9,
     "metadata": {},
     "output_type": "execute_result"
    }
   ],
   "source": [
    "(n, m, p)"
   ]
  },
  {
   "cell_type": "code",
   "execution_count": 10,
   "id": "b8250a67-36b9-4b10-89cd-942196e4edf6",
   "metadata": {},
   "outputs": [
    {
     "data": {
      "text/plain": [
       "16"
      ]
     },
     "execution_count": 10,
     "metadata": {},
     "output_type": "execute_result"
    }
   ],
   "source": [
    "Threads.nthreads()"
   ]
  },
  {
   "cell_type": "code",
   "execution_count": 11,
   "id": "63d3c12d-3df8-4b3b-92f9-a0217cbb5cfb",
   "metadata": {},
   "outputs": [],
   "source": [
    "using LinearAlgebra"
   ]
  },
  {
   "cell_type": "code",
   "execution_count": 12,
   "id": "019d7aa0-91ba-46a3-88fd-d96c6bf5f501",
   "metadata": {},
   "outputs": [
    {
     "data": {
      "text/plain": [
       "8"
      ]
     },
     "execution_count": 12,
     "metadata": {},
     "output_type": "execute_result"
    }
   ],
   "source": [
    "BLAS.get_num_threads()"
   ]
  },
  {
   "cell_type": "code",
   "execution_count": 13,
   "id": "65a13375-efa7-43d9-9061-15d142ab578d",
   "metadata": {},
   "outputs": [],
   "source": [
    "BLAS.set_num_threads(1);"
   ]
  },
  {
   "cell_type": "code",
   "execution_count": 14,
   "id": "312326e6-e3d1-443a-be1c-24864d293c8e",
   "metadata": {},
   "outputs": [
    {
     "data": {
      "text/plain": [
       "1"
      ]
     },
     "execution_count": 14,
     "metadata": {},
     "output_type": "execute_result"
    }
   ],
   "source": [
    "BLAS.get_num_threads()"
   ]
  },
  {
   "cell_type": "code",
   "execution_count": 14,
   "id": "b6e3ff9d-7628-4f60-9de9-7d90dfb23c1c",
   "metadata": {},
   "outputs": [
    {
     "data": {
      "text/plain": [
       "scan_ordinary (generic function with 1 method)"
      ]
     },
     "execution_count": 14,
     "metadata": {},
     "output_type": "execute_result"
    }
   ],
   "source": [
    "function scan_ordinary(Y0::Array{Float64, 2}, X0::Array{Float64, 2}, lambda0::Array{Float64, 1}; reml::Bool = true)\n",
    "    \n",
    "    X0_inter = reshape(X0[:, 1], :, 1);\n",
    "    \n",
    "    full_results_ordinary = Array{Float64, 2}(undef, p, m);\n",
    "    \n",
    "    for i in 1:m\n",
    "        y0i = reshape(Y0[:, i], :, 1);\n",
    "        out00 = fitlmm(y0i, X0_inter, lambda0; reml = true);\n",
    "        sqrtw = sqrt.(makeweights(out00.h2, lambda0))\n",
    "        \n",
    "        yw_i = rowMultiply(y0i, sqrtw);\n",
    "        Xw = rowMultiply(X0, sqrtw);\n",
    "        \n",
    "        out0 = rss(yw_i, reshape(Xw[:, 1], :, 1));\n",
    "        lod = Array{Float64, 1}(undef, p);\n",
    "        \n",
    "        X = Array{Float64, 2}(undef, n, 2);\n",
    "        X[:, 1] = Xw[:, 1];\n",
    "        \n",
    "        for j in 1:p\n",
    "            X[:, 2] = Xw[:, j+1];\n",
    "            \n",
    "            out1 = rss(yw_i, X);\n",
    "            lod[j] = (n/2)*(log10(out0[1]) - log10(out1[1]))\n",
    "        end\n",
    "        \n",
    "        full_results_ordinary[:, i] = lod;\n",
    "\n",
    "    end\n",
    "    \n",
    "    \n",
    "    return full_results_ordinary\n",
    "end"
   ]
  },
  {
   "cell_type": "code",
   "execution_count": null,
   "id": "b084bf2e-7a54-402e-91e5-6c17a57387d7",
   "metadata": {},
   "outputs": [],
   "source": [
    "@time begin\n",
    "    \n",
    "    (Y0, X0, lambda0) = transform_rotation(pheno, geno, kinship);\n",
    "    full_results_ordinary = scan_ordinary(Y0, X0, lambda0);\n",
    "    \n",
    "end"
   ]
  },
  {
   "cell_type": "markdown",
   "id": "e1c7fd39-cbc7-4ac5-9565-482303103b90",
   "metadata": {},
   "source": [
    "## LiteQTL:"
   ]
  },
  {
   "cell_type": "code",
   "execution_count": 15,
   "id": "2381bdd8-1310-40a4-9f4a-c20baef656e3",
   "metadata": {},
   "outputs": [
    {
     "data": {
      "text/plain": [
       "(35556, 79, 7321)"
      ]
     },
     "execution_count": 15,
     "metadata": {},
     "output_type": "execute_result"
    }
   ],
   "source": [
    "(m, n, p)"
   ]
  },
  {
   "cell_type": "code",
   "execution_count": 16,
   "id": "7dc88b44-459f-4bb4-bddd-1dba94329c2f",
   "metadata": {},
   "outputs": [
    {
     "data": {
      "text/plain": [
       "r2lod (generic function with 1 method)"
      ]
     },
     "execution_count": 16,
     "metadata": {},
     "output_type": "execute_result"
    }
   ],
   "source": [
    "function r2lod(r::Float64, n::Int64)\n",
    "    rsq = (r/n)^2\n",
    "    return -(n/2.0) * log10(1.0-rsq);\n",
    "end"
   ]
  },
  {
   "cell_type": "code",
   "execution_count": 17,
   "id": "c4784174-aa3c-4320-a5c5-57f79d035eee",
   "metadata": {},
   "outputs": [
    {
     "data": {
      "text/plain": [
       "2-element Vector{Float64}:\n",
       " 0.0022265908888506967\n",
       " 2.748701454592006e-5"
      ]
     },
     "execution_count": 17,
     "metadata": {},
     "output_type": "execute_result"
    }
   ],
   "source": [
    "map(x -> r2lod(x, n), [0.9, 0.1])"
   ]
  },
  {
   "cell_type": "code",
   "execution_count": 18,
   "id": "c38e9b62-7717-4f09-a0da-34c06ced10fb",
   "metadata": {},
   "outputs": [],
   "source": [
    "full_results_lite = Array{Float64, 2}(undef, p, m);"
   ]
  },
  {
   "cell_type": "code",
   "execution_count": 19,
   "id": "fbff02ba-a0e6-4467-9152-98a0364b17cc",
   "metadata": {},
   "outputs": [
    {
     "ename": "LoadError",
     "evalue": "InterruptException:",
     "output_type": "error",
     "traceback": [
      "InterruptException:",
      "",
      "Stacktrace:",
      " [1] eval",
      "   @ ./boot.jl:373 [inlined]",
      " [2] include_string(mapexpr::typeof(REPL.softscope), mod::Module, code::String, filename::String)",
      "   @ Base ./loading.jl:1196"
     ]
    }
   ],
   "source": [
    "@time begin\n",
    "    (Y0, X0, lambda0) = transform_rotation(pheno, geno, kinship);\n",
    "    X0_intercept = reshape(X0[:, 1], :, 1);\n",
    "    #copyX0_intercept = deepcopy(X0_intercept);\n",
    "    X0_covar = X0[:, 2:end];\n",
    "    #copyX0_covar = deepcopy(X0_covar);\n",
    "    \n",
    "    for i in 1:m\n",
    "        pheno_y0i = reshape(Y0[:, i], :, 1);\n",
    "        vc = fitlmm(pheno_y0i, X0_intercept, lambda0; reml = true);\n",
    "        sqrtw = sqrt.(makeweights(vc.h2, lambda0));\n",
    "    \n",
    "        pheno_y00i = rowMultiply(pheno_y0i, sqrtw);\n",
    "        X00_intercept = rowMultiply(X0_intercept, sqrtw);\n",
    "        X00_covar = rowMultiply(X0_covar, sqrtw);\n",
    "    \n",
    "        y00 = resid(pheno_y00i, X00_intercept);\n",
    "        X00 = resid(X00_covar, X00_intercept);\n",
    "        \n",
    "        sy = std(y00, dims = 1) |> vec;\n",
    "        sx = std(X00, dims = 1) |> vec;\n",
    "        colDivide!(y00, sy);\n",
    "        colDivide!(X00, sx);\n",
    "        R = y00' * X00;\n",
    "    \n",
    "        full_results_lite[:, i] = r2lod.(R, 79);\n",
    "    \n",
    "    end\n",
    "\n",
    "end"
   ]
  },
  {
   "cell_type": "code",
   "execution_count": null,
   "id": "99e46f8d-b197-4960-91bc-82121f73dfe4",
   "metadata": {},
   "outputs": [],
   "source": [
    "full_results_lite[1:6, :]"
   ]
  },
  {
   "cell_type": "markdown",
   "id": "6f24ef12-b445-4ed6-85bd-d500c3f9c366",
   "metadata": {},
   "source": [
    "### Multi-threading LiteQTL:"
   ]
  },
  {
   "cell_type": "code",
   "execution_count": 19,
   "id": "e6cc9013-3232-4d0a-aeec-4a92e7b0bf1d",
   "metadata": {},
   "outputs": [
    {
     "data": {
      "text/plain": [
       "16"
      ]
     },
     "execution_count": 19,
     "metadata": {},
     "output_type": "execute_result"
    }
   ],
   "source": [
    "Threads.nthreads()"
   ]
  },
  {
   "cell_type": "code",
   "execution_count": 20,
   "id": "4541b393-1565-4382-90f7-17f24075a550",
   "metadata": {},
   "outputs": [],
   "source": [
    "nblocks = Threads.nthreads();"
   ]
  },
  {
   "cell_type": "code",
   "execution_count": 21,
   "id": "e6e1ba9e-5ab5-4fdb-bf72-c843b1ebe709",
   "metadata": {},
   "outputs": [],
   "source": [
    "if nblocks == Threads.nthreads()\n",
    "    BLAS.set_num_threads(1)\n",
    "else\n",
    "    BLAS.set_num_threads(Threads.nthreads() - nblocks)\n",
    "end"
   ]
  },
  {
   "cell_type": "code",
   "execution_count": 22,
   "id": "a39c870a-3eda-4c45-a835-f378a9da4e93",
   "metadata": {},
   "outputs": [
    {
     "data": {
      "text/plain": [
       "1"
      ]
     },
     "execution_count": 22,
     "metadata": {},
     "output_type": "execute_result"
    }
   ],
   "source": [
    "BLAS.get_num_threads()"
   ]
  },
  {
   "cell_type": "code",
   "execution_count": 23,
   "id": "05e2f33e-5c2c-4afc-860c-d1d8429b0800",
   "metadata": {},
   "outputs": [
    {
     "data": {
      "text/plain": [
       "(8889, 0)"
      ]
     },
     "execution_count": 23,
     "metadata": {},
     "output_type": "execute_result"
    }
   ],
   "source": [
    "divrem(m, 4)"
   ]
  },
  {
   "cell_type": "code",
   "execution_count": 24,
   "id": "ae96914c-6384-423e-85d4-5fc07aa33eed",
   "metadata": {},
   "outputs": [
    {
     "data": {
      "text/plain": [
       "scan_lite_univar (generic function with 1 method)"
      ]
     },
     "execution_count": 24,
     "metadata": {},
     "output_type": "execute_result"
    }
   ],
   "source": [
    "function scan_lite_univar(y0_j::Array{Float64, 1}, X0_intercept::Array{Float64, 2}, \n",
    "                            X0_covar::Array{Float64, 2}, lambda0::Array{Float64, 1};\n",
    "                            reml::Bool = true)\n",
    "    \n",
    "    n = size(y0_j, 1);\n",
    "    \n",
    "    y0 = reshape(y0_j, :, 1);\n",
    "    vc = fitlmm(y0, X0_intercept, lambda0; reml = reml);\n",
    "    sqrtw = sqrt.(makeweights(vc.h2, lambda0));\n",
    "    \n",
    "    wy0 = rowMultiply(y0, sqrtw);\n",
    "    wX0_intercept = rowMultiply(X0_intercept, sqrtw);\n",
    "    wX0_covar = rowMultiply(X0_covar, sqrtw);\n",
    "    \n",
    "    y00 = resid(wy0, wX0_intercept);\n",
    "    X00 = resid(wX0_covar, wX0_intercept);\n",
    "        \n",
    "        \n",
    "    sy = std(y00, dims = 1) |> vec;\n",
    "    sx = std(X00, dims = 1) |> vec;\n",
    "    colDivide!(y00, sy);\n",
    "    colDivide!(X00, sx);\n",
    "    \n",
    "    R = X00' * y00; # p-by-1 matrix\n",
    "    \n",
    "    return r2lod.(R, n); # results will be p-by-1, i.e. all LOD scores for the j-th trait and p markers\n",
    "end"
   ]
  },
  {
   "cell_type": "code",
   "execution_count": 25,
   "id": "f9bbb88e-9f2f-448b-bbf0-682c30163a8b",
   "metadata": {},
   "outputs": [
    {
     "data": {
      "text/plain": [
       "scan_lite_multithreads (generic function with 1 method)"
      ]
     },
     "execution_count": 25,
     "metadata": {},
     "output_type": "execute_result"
    }
   ],
   "source": [
    "function scan_lite_multithreads(Y::Array{Float64, 2}, G::Array{Float64, 2}, K::Array{Float64, 2}, nb::Int64;\n",
    "                                reml::Bool = true)\n",
    "    (n, m) = size(Y);\n",
    "    p = size(G, 2);\n",
    "    \n",
    "    # rotate data\n",
    "    (Y0, X0, lambda0) = transform_rotation(Y, G, K);\n",
    "    X0_intercept = reshape(X0[:, 1], :, 1);\n",
    "    X0_covar = X0[:, 2:end];\n",
    "    \n",
    "    (len, rem) = divrem(m, nb);\n",
    "    \n",
    "    results = Array{Array{Float64, 2}, 1}(undef, nb);\n",
    "    \n",
    "    Threads.@threads for t = 1:nb # so the N blocks will share the (nthreads - N) BLAS threads\n",
    "        \n",
    "        lods_currBlock = Array{Float64, 2}(undef, p, len);\n",
    "        \n",
    "        @simd for i = 1:len\n",
    "            \n",
    "            j = i+(t-1)*len;\n",
    "            #@inbounds\n",
    "            lods_currBlock[:, i] = scan_lite_univar(Y0[:, j], X0_intercept, X0_covar, lambda0;\n",
    "                                                    reml = reml);\n",
    "        end\n",
    "                    \n",
    "        results[t] = lods_currBlock;\n",
    "        \n",
    "    end\n",
    "    \n",
    "    # process up the remaining data\n",
    "    lods_remBlock = Array{Float64, 2}(undef, p, rem);\n",
    "    for i in 1:rem\n",
    "        \n",
    "        j = m-rem+i;\n",
    "        \n",
    "        lods_remBlock[:, i] = scan_lite_univar(Y0[:, j], X0_intercept, X0_covar, lambda0;\n",
    "                                               reml = reml);\n",
    "        \n",
    "    end\n",
    "    \n",
    "    LODs_all = reduce(hcat, results);\n",
    "    LODs_all = hcat(LODs_all, lods_remBlock);\n",
    "    \n",
    "    return LODs_all\n",
    "    \n",
    "end"
   ]
  },
  {
   "cell_type": "code",
   "execution_count": 26,
   "id": "4cb59b6c-445d-4828-acfe-04cc3b1d0962",
   "metadata": {},
   "outputs": [
    {
     "name": "stdout",
     "output_type": "stream",
     "text": [
      " 46.975868 seconds (33.75 M allocations: 490.084 GiB, 14.27% gc time, 0.20% compilation time)\n"
     ]
    }
   ],
   "source": [
    "@time full_results_lite_multithreads = scan_lite_multithreads(pheno, geno, kinship, nblocks; reml = true);"
   ]
  },
  {
   "cell_type": "code",
   "execution_count": 27,
   "id": "b816c121-5a6b-46bc-8fb9-3ea6874d34e9",
   "metadata": {},
   "outputs": [
    {
     "data": {
      "text/plain": [
       "6×35556 Matrix{Float64}:\n",
       " 0.0  0.0  0.0  0.0  0.0  0.0  0.0  0.0  …  0.0  0.0  0.0  0.0  0.0  0.0  0.0\n",
       " 0.0  0.0  0.0  0.0  0.0  0.0  0.0  0.0     0.0  0.0  0.0  0.0  0.0  0.0  0.0\n",
       " 0.0  0.0  0.0  0.0  0.0  0.0  0.0  0.0     0.0  0.0  0.0  0.0  0.0  0.0  0.0\n",
       " 0.0  0.0  0.0  0.0  0.0  0.0  0.0  0.0     0.0  0.0  0.0  0.0  0.0  0.0  0.0\n",
       " 0.0  0.0  0.0  0.0  0.0  0.0  0.0  0.0     0.0  0.0  0.0  0.0  0.0  0.0  0.0\n",
       " 0.0  0.0  0.0  0.0  0.0  0.0  0.0  0.0  …  0.0  0.0  0.0  0.0  0.0  0.0  0.0"
      ]
     },
     "execution_count": 27,
     "metadata": {},
     "output_type": "execute_result"
    }
   ],
   "source": [
    "full_results_lite[1:6, :]"
   ]
  },
  {
   "cell_type": "code",
   "execution_count": 28,
   "id": "ffdb74ba-8c2d-44cf-8783-ed3185833dba",
   "metadata": {},
   "outputs": [
    {
     "data": {
      "text/plain": [
       "6×35556 Matrix{Float64}:\n",
       " 0.000117904  0.0449468  0.00289554  …  0.0457906  0.00329113  0.344878\n",
       " 0.000117904  0.0449468  0.00289554     0.0457906  0.00329113  0.344878\n",
       " 0.000117904  0.0449468  0.00289554     0.0457906  0.00329113  0.344878\n",
       " 0.000117904  0.0449468  0.00289554     0.0457906  0.00329113  0.344878\n",
       " 0.000117904  0.0449468  0.00289554     0.0457906  0.00329113  0.344878\n",
       " 0.000117904  0.0449468  0.00289554  …  0.0457906  0.00329113  0.344878"
      ]
     },
     "execution_count": 28,
     "metadata": {},
     "output_type": "execute_result"
    }
   ],
   "source": [
    "full_results_lite_multithreads[1:6, :]"
   ]
  },
  {
   "cell_type": "code",
   "execution_count": null,
   "id": "90a67c6d-35cb-42dd-bebc-bd9702800336",
   "metadata": {},
   "outputs": [],
   "source": [
    "maxSqDiff(full_results_lite, full_results_lite_multithreads)"
   ]
  },
  {
   "cell_type": "code",
   "execution_count": 26,
   "id": "41eda6c1-6666-49a2-a316-06609b04dd09",
   "metadata": {},
   "outputs": [
    {
     "data": {
      "text/plain": [
       "false"
      ]
     },
     "execution_count": 26,
     "metadata": {},
     "output_type": "execute_result"
    }
   ],
   "source": [
    "any(full_results_lite_multithreads .< 0.0)"
   ]
  },
  {
   "cell_type": "code",
   "execution_count": null,
   "id": "2a47aecc-33ca-4a30-8a57-3d2c52eee60b",
   "metadata": {},
   "outputs": [],
   "source": [
    "test[2] = [1 2; 3 4; 5 6]"
   ]
  },
  {
   "cell_type": "code",
   "execution_count": null,
   "id": "bf2f695c-678c-4ed6-a48d-596e536a7a0e",
   "metadata": {},
   "outputs": [],
   "source": [
    "test"
   ]
  },
  {
   "cell_type": "code",
   "execution_count": null,
   "id": "77dd86d0-955e-41b3-93f3-0593a6f413d3",
   "metadata": {},
   "outputs": [],
   "source": [
    "reduce(hcat, test[1:2])"
   ]
  },
  {
   "cell_type": "markdown",
   "id": "37123659-95e7-4891-90be-c1bdfa04ddc5",
   "metadata": {},
   "source": [
    "### \"Bulk\" Calculation:"
   ]
  },
  {
   "cell_type": "code",
   "execution_count": 29,
   "id": "37503848-7b34-42d1-a478-88b6f09d737a",
   "metadata": {},
   "outputs": [
    {
     "data": {
      "text/plain": [
       "scan_lite_multivar (generic function with 1 method)"
      ]
     },
     "execution_count": 29,
     "metadata": {},
     "output_type": "execute_result"
    }
   ],
   "source": [
    "function scan_lite_multivar(Y0::Array{Float64, 2}, X0::Array{Float64, 2}, \n",
    "                            hsq::Float64, lambda0::Array{Float64, 1};\n",
    "                            reml::Bool = true)\n",
    "    \n",
    "    n = size(Y0, 1)\n",
    "    sqrtw = sqrt.(makeweights(hsq, lambda0));\n",
    "    \n",
    "    wY0 = rowMultiply(Y0, sqrtw);\n",
    "    wX0 = rowMultiply(X0, sqrtw);\n",
    "    \n",
    "    wX0_intercept = wX0[:, 1];\n",
    "    wX0_covar = wX0[:, 2:end];\n",
    "    \n",
    "    Y00 = resid(wY0, wX0_intercept);\n",
    "    X00 = resid(wX0_covar, wX0_intercept);\n",
    "        \n",
    "        \n",
    "    sy = std(Y00, dims = 1) |> vec;\n",
    "    sx = std(X00, dims = 1) |> vec;\n",
    "    colDivide!(Y00, sy);\n",
    "    colDivide!(X00, sx);\n",
    "    \n",
    "    R = X00' * Y00; # p-by-m matrix\n",
    "    \n",
    "    return r2lod.(R, n); # results will be p-by-1, i.e. all LOD scores for the j-th trait and p markers\n",
    "end"
   ]
  },
  {
   "cell_type": "code",
   "execution_count": 30,
   "id": "d05a7786-0bb4-44dc-ac1c-bf7c3878222f",
   "metadata": {},
   "outputs": [],
   "source": [
    "(Y0, X0, lambda0) = transform_rotation(pheno, geno, kinship);"
   ]
  },
  {
   "cell_type": "code",
   "execution_count": 31,
   "id": "03b93fe8-2734-4a09-ae0e-13680b925f64",
   "metadata": {},
   "outputs": [],
   "source": [
    "test_w = sqrt.(makeweights(0.1, lambda0));"
   ]
  },
  {
   "cell_type": "code",
   "execution_count": 32,
   "id": "a20fec3c-f59f-4d1b-9e12-1df68be77541",
   "metadata": {},
   "outputs": [
    {
     "name": "stdout",
     "output_type": "stream",
     "text": [
      "  0.005731 seconds (4 allocations: 25.844 MiB)\n"
     ]
    }
   ],
   "source": [
    "@time begin\n",
    "    test_wY0 = rowMultiply(Y0, test_w);\n",
    "    test_wX0 = rowMultiply(X0, test_w);\n",
    "end;"
   ]
  },
  {
   "cell_type": "code",
   "execution_count": 33,
   "id": "5ded6113-4d12-44aa-b051-d924b9932ec5",
   "metadata": {},
   "outputs": [
    {
     "name": "stdout",
     "output_type": "stream",
     "text": [
      "  0.018937 seconds (8.40 k allocations: 4.832 MiB, 94.81% compilation time)\n"
     ]
    }
   ],
   "source": [
    "@time begin\n",
    "    test_wX0_intercept = test_wX0[:, 1];\n",
    "    test_wX0_covar = test_wX0[:, 2:end];\n",
    "end;"
   ]
  },
  {
   "cell_type": "code",
   "execution_count": 34,
   "id": "d9405e29-7df2-40db-a778-9201b6b7dfa8",
   "metadata": {},
   "outputs": [
    {
     "name": "stdout",
     "output_type": "stream",
     "text": [
      "  0.247626 seconds (880.16 k allocations: 99.232 MiB, 94.66% compilation time)\n"
     ]
    }
   ],
   "source": [
    "@time begin\n",
    "    test_Y00 = resid(test_wY0, test_wX0_intercept);\n",
    "    test_X00 = resid(test_wX0_covar, test_wX0_intercept);\n",
    "end;"
   ]
  },
  {
   "cell_type": "code",
   "execution_count": 35,
   "id": "1cf7a7e5-a6c3-4f19-922d-ff4e016b42a0",
   "metadata": {},
   "outputs": [
    {
     "name": "stdout",
     "output_type": "stream",
     "text": [
      "  0.029941 seconds (150 allocations: 678.125 KiB, 24.14% compilation time)\n"
     ]
    }
   ],
   "source": [
    "@time begin\n",
    "    sy = std(test_Y00, dims = 1) |> vec;\n",
    "    sx = std(test_X00, dims = 1) |> vec;\n",
    "    colDivide!(test_Y00, sy);\n",
    "    colDivide!(test_X00, sx);\n",
    "end;"
   ]
  },
  {
   "cell_type": "code",
   "execution_count": 40,
   "id": "9539244c-bd8a-4238-9578-c559abed44de",
   "metadata": {},
   "outputs": [],
   "source": [
    "BLAS.set_num_threads(1)"
   ]
  },
  {
   "cell_type": "code",
   "execution_count": 41,
   "id": "4dda7d51-21ef-4218-9591-cfef005e9b90",
   "metadata": {},
   "outputs": [
    {
     "name": "stdout",
     "output_type": "stream",
     "text": [
      "  1.805612 seconds (3 allocations: 1.939 GiB, 0.69% gc time)\n"
     ]
    }
   ],
   "source": [
    "@time test_R = test_X00' * test_Y00;"
   ]
  },
  {
   "cell_type": "code",
   "execution_count": 42,
   "id": "5e859bc4-239b-4f4b-a356-736cf9a66b0e",
   "metadata": {},
   "outputs": [
    {
     "name": "stdout",
     "output_type": "stream",
     "text": [
      "  3.227632 seconds (60.19 k allocations: 1.943 GiB, 0.13% gc time, 1.02% compilation time)\n"
     ]
    }
   ],
   "source": [
    "@time test_L = map(x -> r2lod(x, 79), test_R);"
   ]
  },
  {
   "cell_type": "code",
   "execution_count": 43,
   "id": "6a6019f6-f265-49a3-9abc-322f2d6b0220",
   "metadata": {},
   "outputs": [
    {
     "name": "stdout",
     "output_type": "stream",
     "text": [
      "  5.353508 seconds (57 allocations: 3.960 GiB, 3.10% gc time)\n"
     ]
    }
   ],
   "source": [
    "@time scan_lite_multivar(Y0, X0, 0.1, lambda0);"
   ]
  },
  {
   "cell_type": "code",
   "execution_count": 44,
   "id": "8f6cf4a4-efec-49af-8b41-8c3783af16e9",
   "metadata": {},
   "outputs": [],
   "source": [
    "a = scan_lite_multivar(Y0, X0, 0.1, lambda0);"
   ]
  },
  {
   "cell_type": "code",
   "execution_count": 45,
   "id": "d500e485-f745-4e6f-bf68-dd63e2b7434d",
   "metadata": {},
   "outputs": [],
   "source": [
    "b = scan_lite_multivar(Y0, X0, 0.2, lambda0);"
   ]
  },
  {
   "cell_type": "code",
   "execution_count": 46,
   "id": "6f61e799-345d-4c2e-859f-6ebf2138b6d1",
   "metadata": {},
   "outputs": [
    {
     "name": "stdout",
     "output_type": "stream",
     "text": [
      "  0.972785 seconds (183.87 k allocations: 1.948 GiB, 12.44% gc time, 9.49% compilation time)\n"
     ]
    }
   ],
   "source": [
    "@time max.(a, b);"
   ]
  },
  {
   "cell_type": "code",
   "execution_count": 47,
   "id": "36427126-3743-4f8e-9a5f-9e30eb536e9c",
   "metadata": {},
   "outputs": [
    {
     "data": {
      "text/plain": [
       "bulk_scan (generic function with 1 method)"
      ]
     },
     "execution_count": 47,
     "metadata": {},
     "output_type": "execute_result"
    }
   ],
   "source": [
    "function bulk_scan(Y::Array{Float64, 2}, G::Array{Float64, 2}, K::Array{Float64, 2}, hsq_list::Array{Float64, 1};\n",
    "                reml::Bool = true)\n",
    "    \n",
    "    (Y0, X0, lambda0) = transform_rotation(Y, G, K);\n",
    "    \n",
    "    maxL = scan_lite_multivar(Y0, X0, hsq_list[1], lambda0);\n",
    "    \n",
    "    for hsq in hsq_list[2:end]\n",
    "        \n",
    "        currL = scan_lite_multivar(Y0, X0, hsq, lambda0);\n",
    "        maxL = max.(maxL, currL);\n",
    "        \n",
    "    end\n",
    "    \n",
    "    return maxL\n",
    "      \n",
    "end"
   ]
  },
  {
   "cell_type": "code",
   "execution_count": 48,
   "id": "6287549b-9ca0-44ad-8036-80943d0fd7a9",
   "metadata": {},
   "outputs": [],
   "source": [
    "hsq_grids = [0.0, 0.1, 0.2, 0.3, 0.4, 0.5, 0.6, 0.7, 0.8, 0.9, 1.0];"
   ]
  },
  {
   "cell_type": "code",
   "execution_count": 49,
   "id": "3efebd72-d3aa-45da-a5da-3b0963c99dee",
   "metadata": {},
   "outputs": [
    {
     "name": "stdout",
     "output_type": "stream",
     "text": [
      " 68.078406 seconds (672 allocations: 62.986 GiB, 4.35% gc time)\n"
     ]
    }
   ],
   "source": [
    "@time full_results_bulkscan = bulk_scan(pheno, geno, kinship, hsq_grids; reml = true);"
   ]
  },
  {
   "cell_type": "code",
   "execution_count": 50,
   "id": "86b5a2bc-20bd-40e7-bc71-924750097ef9",
   "metadata": {},
   "outputs": [
    {
     "data": {
      "text/plain": [
       "6×6 Matrix{Float64}:\n",
       " 0.0938268  0.123492  0.092188  0.0354599  0.0979217  0.0903821\n",
       " 0.0938268  0.123492  0.092188  0.0354599  0.0979217  0.0903821\n",
       " 0.0938268  0.123492  0.092188  0.0354599  0.0979217  0.0903821\n",
       " 0.0938268  0.123492  0.092188  0.0354599  0.0979217  0.0903821\n",
       " 0.0938268  0.123492  0.092188  0.0354599  0.0979217  0.0903821\n",
       " 0.0938268  0.123492  0.092188  0.0354599  0.0979217  0.0903821"
      ]
     },
     "execution_count": 50,
     "metadata": {},
     "output_type": "execute_result"
    }
   ],
   "source": [
    "full_results_bulkscan[1:6, 1:6]"
   ]
  },
  {
   "cell_type": "markdown",
   "id": "d55cdb9f-6d94-4a6b-83bc-9505d46f8300",
   "metadata": {},
   "source": [
    "### Explore Multithreading the map:"
   ]
  },
  {
   "cell_type": "markdown",
   "id": "cca525b8-e0a2-4f23-b5e9-43172b0e6803",
   "metadata": {},
   "source": [
    "Imagine we parallelize the map for converting of $r$ to LOD over a grid of $r$'s, across the columns. To process one column, the runtime is:"
   ]
  },
  {
   "cell_type": "code",
   "execution_count": 51,
   "id": "97f3cc11-db7f-459b-b299-a5eb228e6ddc",
   "metadata": {},
   "outputs": [
    {
     "name": "stdout",
     "output_type": "stream",
     "text": [
      "  0.046664 seconds (143.98 k allocations: 7.890 MiB, 99.21% compilation time)\n"
     ]
    }
   ],
   "source": [
    "@time r2lod.(test_R[:, 1], 79);"
   ]
  },
  {
   "cell_type": "code",
   "execution_count": 52,
   "id": "207a2be1-7c6c-4309-8378-25b1fbd0cc08",
   "metadata": {},
   "outputs": [
    {
     "data": {
      "text/plain": [
       "(2222, 4)"
      ]
     },
     "execution_count": 52,
     "metadata": {},
     "output_type": "execute_result"
    }
   ],
   "source": [
    "divrem(size(test_R, 2), 16)"
   ]
  },
  {
   "cell_type": "markdown",
   "id": "fd48e14f-9646-45d2-a068-95acf78779e1",
   "metadata": {},
   "source": [
    "Then, if using 16 threads, as processing one block of traits takes about"
   ]
  },
  {
   "cell_type": "code",
   "execution_count": 53,
   "id": "8d288ffe-ac59-4b7c-95a6-10c33015c980",
   "metadata": {},
   "outputs": [
    {
     "name": "stdout",
     "output_type": "stream",
     "text": [
      "  223.076 ms (8 allocations: 248.22 MiB)\n"
     ]
    }
   ],
   "source": [
    "@btime r2lod.(test_R[:, 1:2222], 79);"
   ]
  },
  {
   "cell_type": "markdown",
   "id": "0c346ea8-1f0e-46aa-8095-9ce23e71c4be",
   "metadata": {},
   "source": [
    "we would expect to compute one frame of LOD scores corresponding to one $h^2$ to be done in less than 0.5 seconds"
   ]
  },
  {
   "cell_type": "code",
   "execution_count": 54,
   "id": "db8dbba3-6b7f-4eb6-801e-ae1200df8db2",
   "metadata": {},
   "outputs": [
    {
     "data": {
      "text/plain": [
       "16"
      ]
     },
     "execution_count": 54,
     "metadata": {},
     "output_type": "execute_result"
    }
   ],
   "source": [
    "Threads.nthreads()"
   ]
  },
  {
   "cell_type": "code",
   "execution_count": 55,
   "id": "3f8c3a26-9bdd-49ba-906d-216616ef2a59",
   "metadata": {},
   "outputs": [
    {
     "data": {
      "text/plain": [
       "(7321, 35556)"
      ]
     },
     "execution_count": 55,
     "metadata": {},
     "output_type": "execute_result"
    }
   ],
   "source": [
    "size(test_R)"
   ]
  },
  {
   "cell_type": "code",
   "execution_count": 90,
   "id": "51098149-8f5b-41e8-b20d-257c738bac00",
   "metadata": {},
   "outputs": [
    {
     "data": {
      "text/plain": [
       "R2LOD_multithreading (generic function with 1 method)"
      ]
     },
     "execution_count": 90,
     "metadata": {},
     "output_type": "execute_result"
    }
   ],
   "source": [
    "function R2LOD_multithreading(R::Array{Float64, 2}, n::Int64, nb::Int64)\n",
    "    \n",
    "    (p, m) = size(R)\n",
    "    \n",
    "    (len, rem) = divrem(m, nb);\n",
    "    \n",
    "    results = Array{Array{Float64, 2}, 1}(undef, nb);\n",
    "    \n",
    "    Threads.@threads for t in 1:nb\n",
    "        \n",
    "        head = 1+(t-1)*len; \n",
    "        tail = len+(t-1)*len;\n",
    "        \n",
    "        R_sub = R[:, head:tail];\n",
    "        \n",
    "        @simd for j in 1:size(R_sub, 2)\n",
    "            @simd for i in 1:size(R_sub, 1)\n",
    "                R_sub[i, j] = r2lod(R_sub[i, j], n)\n",
    "            end\n",
    "        end\n",
    "        \n",
    "        results[t] = R_sub\n",
    "        \n",
    "    end\n",
    "    \n",
    "    # process up the remaining data\n",
    "    LOD_rem = r2lod.(R[:, (nb*len+1):end]);\n",
    "    \n",
    "    LODs_all = reduce(hcat, results);\n",
    "    LODs_all = hcat(LODs_all, LOD_rem);\n",
    "    \n",
    "    return LODs_all\n",
    "    \n",
    "end"
   ]
  },
  {
   "cell_type": "code",
   "execution_count": 91,
   "id": "74fc4ce3-9507-410c-99dc-985d76474546",
   "metadata": {},
   "outputs": [
    {
     "data": {
      "text/plain": [
       "1"
      ]
     },
     "execution_count": 91,
     "metadata": {},
     "output_type": "execute_result"
    }
   ],
   "source": [
    "BLAS.get_num_threads()"
   ]
  },
  {
   "cell_type": "code",
   "execution_count": 92,
   "id": "cbf4343d-b2ca-47ff-8779-abf1fa92fc71",
   "metadata": {},
   "outputs": [],
   "source": [
    "BLAS.set_num_threads(1)"
   ]
  },
  {
   "cell_type": "code",
   "execution_count": 93,
   "id": "da7a5373-29b5-459f-abd2-2648217aadf6",
   "metadata": {},
   "outputs": [
    {
     "name": "stdout",
     "output_type": "stream",
     "text": [
      "  2.536050 seconds (63.84 k allocations: 5.822 GiB, 6.57% gc time, 1.84% compilation time)\n"
     ]
    }
   ],
   "source": [
    "@time test_LOD = R2LOD_multithreading(test_R, 79, 4);"
   ]
  },
  {
   "cell_type": "code",
   "execution_count": 94,
   "id": "86974356-8fb0-4ae5-a009-3ad2a7495036",
   "metadata": {},
   "outputs": [
    {
     "name": "stdout",
     "output_type": "stream",
     "text": [
      "  3.339299 seconds (60.19 k allocations: 1.943 GiB, 3.84% gc time, 1.04% compilation time)\n"
     ]
    }
   ],
   "source": [
    "@time test_L = map(x -> r2lod(x, 79), test_R);"
   ]
  },
  {
   "cell_type": "code",
   "execution_count": 95,
   "id": "9c08c227-eb8e-4224-8b89-403c9285a2ed",
   "metadata": {},
   "outputs": [
    {
     "data": {
      "text/plain": [
       "7321×35556 Matrix{Float64}:\n",
       " 5.44031e-5  0.0412451  0.00406755  …  0.0335948   0.00466774   0.344125\n",
       " 5.44031e-5  0.0412451  0.00406755     0.0335948   0.00466774   0.344125\n",
       " 5.44031e-5  0.0412451  0.00406755     0.0335948   0.00466774   0.344125\n",
       " 5.44031e-5  0.0412451  0.00406755     0.0335948   0.00466774   0.344125\n",
       " 5.44031e-5  0.0412451  0.00406755     0.0335948   0.00466774   0.344125\n",
       " 5.44031e-5  0.0412451  0.00406755  …  0.0335948   0.00466774   0.344125\n",
       " 5.44031e-5  0.0412451  0.00406755     0.0335948   0.00466774   0.344125\n",
       " 5.44031e-5  0.0412451  0.00406755     0.0335948   0.00466774   0.344125\n",
       " 5.44031e-5  0.0412451  0.00406755     0.0335948   0.00466774   0.344125\n",
       " 5.44031e-5  0.0412451  0.00406755     0.0335948   0.00466774   0.344125\n",
       " 5.44031e-5  0.0412451  0.00406755  …  0.0335948   0.00466774   0.344125\n",
       " 5.44572e-5  0.0412458  0.0040679      0.0335955   0.00466777   0.344128\n",
       " 0.0135799   0.0604129  0.0198582      0.0511037   0.00530238   0.395958\n",
       " ⋮                                  ⋱                           ⋮\n",
       " 0.23212     0.0653662  0.212905       0.27206     0.0067289    0.18899\n",
       " 0.23212     0.0653662  0.212905    …  0.27206     0.0067289    0.18899\n",
       " 0.23212     0.0653662  0.212905       0.27206     0.0067289    0.18899\n",
       " 0.231395    0.0577725  0.196242       0.0961679   0.00403165   0.360352\n",
       " 0.344613    0.0218861  0.28099        0.0611897   0.000718461  0.402117\n",
       " 0.344613    0.0218861  0.28099        0.0611897   0.000718461  0.402117\n",
       " 0.197902    0.0450677  0.15038     …  0.012349    0.0292731    0.293532\n",
       " 0.178232    0.0888905  0.135585       0.0083525   0.0452172    0.213973\n",
       " 0.180538    0.0836121  0.137321       0.00875477  0.0434073    0.22218\n",
       " 0.155715    0.141862   0.118598       0.00507014  0.0623188    0.144704\n",
       " 0.152428    0.245523   0.0859034      0.0185687   0.0603458    0.0746258\n",
       " 0.152428    0.245523   0.0859034   …  0.0185687   0.0603458    0.0746258"
      ]
     },
     "execution_count": 95,
     "metadata": {},
     "output_type": "execute_result"
    }
   ],
   "source": [
    "test_L"
   ]
  },
  {
   "cell_type": "code",
   "execution_count": 96,
   "id": "6ea43163-64e9-47ea-abdd-d04ceb494b61",
   "metadata": {},
   "outputs": [
    {
     "data": {
      "text/plain": [
       "7321×35556 Matrix{Float64}:\n",
       " 5.44031e-5  0.0412451  0.00406755  …  0.0335948   0.00466774   0.344125\n",
       " 5.44031e-5  0.0412451  0.00406755     0.0335948   0.00466774   0.344125\n",
       " 5.44031e-5  0.0412451  0.00406755     0.0335948   0.00466774   0.344125\n",
       " 5.44031e-5  0.0412451  0.00406755     0.0335948   0.00466774   0.344125\n",
       " 5.44031e-5  0.0412451  0.00406755     0.0335948   0.00466774   0.344125\n",
       " 5.44031e-5  0.0412451  0.00406755  …  0.0335948   0.00466774   0.344125\n",
       " 5.44031e-5  0.0412451  0.00406755     0.0335948   0.00466774   0.344125\n",
       " 5.44031e-5  0.0412451  0.00406755     0.0335948   0.00466774   0.344125\n",
       " 5.44031e-5  0.0412451  0.00406755     0.0335948   0.00466774   0.344125\n",
       " 5.44031e-5  0.0412451  0.00406755     0.0335948   0.00466774   0.344125\n",
       " 5.44031e-5  0.0412451  0.00406755  …  0.0335948   0.00466774   0.344125\n",
       " 5.44572e-5  0.0412458  0.0040679      0.0335955   0.00466777   0.344128\n",
       " 0.0135799   0.0604129  0.0198582      0.0511037   0.00530238   0.395958\n",
       " ⋮                                  ⋱                           ⋮\n",
       " 0.23212     0.0653662  0.212905       0.27206     0.0067289    0.18899\n",
       " 0.23212     0.0653662  0.212905    …  0.27206     0.0067289    0.18899\n",
       " 0.23212     0.0653662  0.212905       0.27206     0.0067289    0.18899\n",
       " 0.231395    0.0577725  0.196242       0.0961679   0.00403165   0.360352\n",
       " 0.344613    0.0218861  0.28099        0.0611897   0.000718461  0.402117\n",
       " 0.344613    0.0218861  0.28099        0.0611897   0.000718461  0.402117\n",
       " 0.197902    0.0450677  0.15038     …  0.012349    0.0292731    0.293532\n",
       " 0.178232    0.0888905  0.135585       0.0083525   0.0452172    0.213973\n",
       " 0.180538    0.0836121  0.137321       0.00875477  0.0434073    0.22218\n",
       " 0.155715    0.141862   0.118598       0.00507014  0.0623188    0.144704\n",
       " 0.152428    0.245523   0.0859034      0.0185687   0.0603458    0.0746258\n",
       " 0.152428    0.245523   0.0859034   …  0.0185687   0.0603458    0.0746258"
      ]
     },
     "execution_count": 96,
     "metadata": {},
     "output_type": "execute_result"
    }
   ],
   "source": [
    "test_LOD"
   ]
  },
  {
   "cell_type": "code",
   "execution_count": null,
   "id": "b8691539-47ae-48dd-ac4e-513eb5f5ccb4",
   "metadata": {},
   "outputs": [],
   "source": []
  },
  {
   "cell_type": "code",
   "execution_count": null,
   "id": "fa92192d-acaf-4a9e-a240-73221549dbbd",
   "metadata": {},
   "outputs": [],
   "source": []
  },
  {
   "cell_type": "code",
   "execution_count": null,
   "id": "fed2516a-dfb1-40b1-b5a4-816c6ecfe082",
   "metadata": {},
   "outputs": [],
   "source": []
  },
  {
   "cell_type": "code",
   "execution_count": null,
   "id": "8a703860-f764-43d7-82d5-e0660d0daf6c",
   "metadata": {},
   "outputs": [],
   "source": []
  },
  {
   "cell_type": "code",
   "execution_count": null,
   "id": "363523d7-8eb7-498c-9a13-b24b46587270",
   "metadata": {},
   "outputs": [],
   "source": []
  },
  {
   "cell_type": "code",
   "execution_count": null,
   "id": "470320ba-ac96-4097-9f3c-df4a987e06b4",
   "metadata": {},
   "outputs": [],
   "source": []
  },
  {
   "cell_type": "code",
   "execution_count": null,
   "id": "2d81cce1-f1bd-4ea5-b97a-43079803b1a4",
   "metadata": {},
   "outputs": [],
   "source": []
  },
  {
   "cell_type": "code",
   "execution_count": null,
   "id": "b18a0812-4b7d-4147-b77d-d3d91dc4a689",
   "metadata": {},
   "outputs": [],
   "source": []
  },
  {
   "cell_type": "code",
   "execution_count": null,
   "id": "aeea87f6-a3dd-4c17-82b4-229954686803",
   "metadata": {},
   "outputs": [],
   "source": []
  },
  {
   "cell_type": "code",
   "execution_count": null,
   "id": "46982162-fd6f-4da1-93a6-a63a64c97745",
   "metadata": {},
   "outputs": [],
   "source": []
  },
  {
   "cell_type": "code",
   "execution_count": null,
   "id": "92044c0c-8444-4781-b78f-dc1aaaaa5dd8",
   "metadata": {},
   "outputs": [],
   "source": []
  },
  {
   "cell_type": "code",
   "execution_count": null,
   "id": "9516d634-a9a5-49b2-af29-d0f603494490",
   "metadata": {},
   "outputs": [],
   "source": []
  },
  {
   "cell_type": "code",
   "execution_count": null,
   "id": "766b042b-f322-45f7-8ebe-a82443f2213d",
   "metadata": {},
   "outputs": [],
   "source": []
  },
  {
   "cell_type": "markdown",
   "id": "d2fdf574-2cfa-4658-925d-d1bca33a3c8b",
   "metadata": {},
   "source": [
    "## Estimate heritability independently for every trait:"
   ]
  },
  {
   "cell_type": "code",
   "execution_count": null,
   "id": "461b4064-35e6-416c-87d6-43f820fdca56",
   "metadata": {},
   "outputs": [],
   "source": []
  },
  {
   "cell_type": "code",
   "execution_count": null,
   "id": "3ee58886-0e97-4f16-b361-bc7f7ffe4132",
   "metadata": {},
   "outputs": [],
   "source": []
  },
  {
   "cell_type": "code",
   "execution_count": null,
   "id": "727be3e3-88e0-43cd-b2a2-45b0089823af",
   "metadata": {},
   "outputs": [],
   "source": []
  },
  {
   "cell_type": "code",
   "execution_count": null,
   "id": "1f495a1e-7875-46c6-b70b-2341b7d0683d",
   "metadata": {},
   "outputs": [],
   "source": []
  },
  {
   "cell_type": "markdown",
   "id": "c4fbdce6-d134-4d2a-957f-ddb2ed06b8a5",
   "metadata": {},
   "source": [
    "### Iteratively:"
   ]
  },
  {
   "cell_type": "code",
   "execution_count": 104,
   "id": "bc7cfa16-e208-488a-9aac-473df9992850",
   "metadata": {},
   "outputs": [
    {
     "data": {
      "text/plain": [
       "get_h2s_for_timing (generic function with 1 method)"
      ]
     },
     "execution_count": 104,
     "metadata": {},
     "output_type": "execute_result"
    }
   ],
   "source": [
    "function get_weights_for_timing(y0::Array{Float64, 2}, X0::Array{Float64, 2}, lambda0::Array{Float64, 1};\n",
    "                   reml::Bool = false)\n",
    "    \n",
    "    # fit null lmm\n",
    "    out00 = fitlmm(y0, reshape(X0[:, 1], :, 1), lambda0; reml = reml)\n",
    "    # weights proportional to the variances\n",
    "    sqrtw = sqrt.(makeweights(out00.h2, lambda0));\n",
    "    \n",
    "    return sqrtw\n",
    "    \n",
    "end\n",
    "\n",
    "function get_h2s_for_timing(y0::Array{Float64, 2}, X0::Array{Float64, 2}, lambda0::Array{Float64, 1};\n",
    "                   reml::Bool = false)\n",
    "    \n",
    "    # fit null lmm\n",
    "    out00 = fitlmm(y0, reshape(X0[:, 1], :, 1), lambda0; reml = reml)\n",
    "    # weights proportional to the variances\n",
    "    # sqrtw = sqrt.(makeweights(out00.h2, lambda0));\n",
    "    \n",
    "    # return sqrtw\n",
    "    return out00.h2\n",
    "    \n",
    "end"
   ]
  },
  {
   "cell_type": "code",
   "execution_count": null,
   "id": "15bbe6bd-b607-4d5b-b4f5-d92d106a1334",
   "metadata": {},
   "outputs": [],
   "source": [
    "m"
   ]
  },
  {
   "cell_type": "code",
   "execution_count": null,
   "id": "b0f794f1-6010-46a9-a226-034554126161",
   "metadata": {},
   "outputs": [],
   "source": [
    "nprocs()"
   ]
  },
  {
   "cell_type": "code",
   "execution_count": null,
   "id": "66f86e3d-dfa4-491b-89e4-94adc4f82257",
   "metadata": {},
   "outputs": [],
   "source": [
    "Threads.nthreads()"
   ]
  },
  {
   "cell_type": "code",
   "execution_count": 105,
   "id": "974f6086-73b2-4d3f-ac54-8008e23b7599",
   "metadata": {},
   "outputs": [],
   "source": [
    "(Y0, X0, lambda0) = transform_rotation(pheno, geno, kinship); # rotate the entire matrix of all traits"
   ]
  },
  {
   "cell_type": "code",
   "execution_count": null,
   "id": "e8688990-7670-48f1-b1ff-8171f44af9f3",
   "metadata": {},
   "outputs": [],
   "source": [
    "h2s_list = Array{Float64, 1}(undef, m);\n",
    "weights_list = Array{Float64, 2}(undef, n, m);"
   ]
  },
  {
   "cell_type": "code",
   "execution_count": null,
   "id": "ba1a4984-a52e-4b7f-b5b1-567a322f8757",
   "metadata": {},
   "outputs": [],
   "source": [
    "@time begin \n",
    "    (Y0, X0, lambda0) = transform_rotation(pheno, geno, kinship); # rotate the entire matrix of all traits\n",
    "    \n",
    "    for k in 1:m\n",
    "        y0_k = reshape(Y0[:, k], :, 1);\n",
    "        h2s_list[k] = get_h2s_for_timing(y0_k, X0, lambda0; reml = true);\n",
    "    end\n",
    "    \n",
    "end"
   ]
  },
  {
   "cell_type": "code",
   "execution_count": null,
   "id": "00fca007-79bf-4cc3-99dc-094c4cbfe126",
   "metadata": {},
   "outputs": [],
   "source": [
    "@time begin\n",
    "    \n",
    "    (Y0, X0, lambda0) = transform_rotation(pheno, geno, kinship); # rotate the entire matrix of all traits\n",
    "    \n",
    "    for k in 1:m\n",
    "        y0_k = reshape(Y0[:, k], :, 1);\n",
    "        weights_list[:, k] = get_weights_for_timing(y0_k, X0, lambda0; reml = true);\n",
    "    end\n",
    "    \n",
    "end"
   ]
  },
  {
   "cell_type": "code",
   "execution_count": null,
   "id": "be991915-aad1-4305-8891-1c38149df2cb",
   "metadata": {},
   "outputs": [],
   "source": [
    "get_weights_for_timing(reshape(Y0[:, 7919], :, 1), X0, lambda0; reml = true)"
   ]
  },
  {
   "cell_type": "code",
   "execution_count": null,
   "id": "435d2efb-0cc6-4120-b18d-738a1b232f57",
   "metadata": {},
   "outputs": [],
   "source": [
    "histogram(h2s_list, legend = false)"
   ]
  },
  {
   "cell_type": "code",
   "execution_count": null,
   "id": "1eab4423-cf6f-459d-b453-341b849d47cf",
   "metadata": {},
   "outputs": [],
   "source": [
    "p"
   ]
  },
  {
   "cell_type": "code",
   "execution_count": null,
   "id": "ecf7b7ff-2b34-4bf5-83f9-26ecb395d5ba",
   "metadata": {},
   "outputs": [],
   "source": [
    "lod = Array{Float64, 2}(undef, p, m);"
   ]
  },
  {
   "cell_type": "code",
   "execution_count": null,
   "id": "2dc8181e-382c-4716-919d-962b2ef5e263",
   "metadata": {},
   "outputs": [],
   "source": [
    "BLAS.get_num_threads()"
   ]
  },
  {
   "cell_type": "code",
   "execution_count": null,
   "id": "5a343758-bf18-442d-9cd3-b38e47143daf",
   "metadata": {},
   "outputs": [],
   "source": [
    "function threads_by_blocks(r0perm::Array{Float64, 2}, X00::Array{Float64, 2}, nblocks::Int64)\n",
    "    # Does distributed processes of calculations of LOD scores for markers in each block\n",
    "\n",
    "    p = size(X00, 2);\n",
    "\n",
    "    ## (Create blocks...)\n",
    "    \n",
    "    block_size = ceil(Int, p/nblocks);\n",
    "    blocks = createBlocks(p, block_size);\n",
    "\n",
    "    LODs_blocks = tmap(x -> calcLODs_block(r0perm, X00, x), 16, blocks);\n",
    "    results = reduce(hcat, LODs_blocks);\n",
    "\n",
    "    return results\n",
    "\n",
    "end"
   ]
  },
  {
   "cell_type": "code",
   "execution_count": null,
   "id": "8ef774d9-dfb0-4541-b697-11686961fd04",
   "metadata": {},
   "outputs": [],
   "source": [
    "function scan_perms_threadsBlocks(y::Array{Float64,2}, g::Array{Float64,2}, K::Array{Float64,2};\n",
    "                                reml::Bool = false,\n",
    "                                nperms::Int64 = 1024, rndseed::Int64 = 0, original::Bool = true,\n",
    "                                # (options for blocks, nperms distribution methods...)\n",
    "                                option::String = \"by blocks\", nblocks::Int64 = 1, ncopies::Int64 = 1, \n",
    "                                nprocs::Int64 = 0)\n",
    "\n",
    "    (y0, X0, lambda0) = transform_rotation(y, g, K); # rotation of data\n",
    "    (r0, X00) = transform_reweight(y0, X0, lambda0; reml = reml); # reweighting and taking residuals\n",
    "    r0perm = transform_permute(r0; nperms = nperms, rndseed = rndseed, original = original);\n",
    "\n",
    "    if option == \"by blocks\"\n",
    "        results = threads_by_blocks(r0perm, X00, nblocks);\n",
    "    elseif option == \"by nperms\"\n",
    "        results = distribute_by_nperms(r0, X00, nperms, ncopies, original);\n",
    "    else\n",
    "        throw(error(\"Option unsupported.\"))\n",
    "    end\n",
    "\n",
    "    return results\n",
    "\n",
    "end"
   ]
  },
  {
   "cell_type": "code",
   "execution_count": null,
   "id": "33c15d02-3ab0-4a44-a554-90104cda5964",
   "metadata": {},
   "outputs": [],
   "source": [
    "block_bounds = quantile(h2s_list, [0.1, 0.2, 0.3, 0.4, 0.5, 0.6, 0.7, 0.8, 0.9, 1.0])"
   ]
  },
  {
   "cell_type": "code",
   "execution_count": null,
   "id": "eb62fee7-d97d-44ae-8bb6-88016320f099",
   "metadata": {},
   "outputs": [],
   "source": [
    "length(block_bounds)/2"
   ]
  },
  {
   "cell_type": "code",
   "execution_count": null,
   "id": "ac1d5b83-2444-4ac7-bf8a-f5ba54a3d475",
   "metadata": {},
   "outputs": [],
   "source": [
    "sum(map(x -> (x < block_bounds[5] && x > block_bounds[4]), h2s_list))"
   ]
  },
  {
   "cell_type": "markdown",
   "id": "d5cd0a86-1ef5-40d8-8e21-0d65cbc70462",
   "metadata": {},
   "source": [
    "### Parellely:"
   ]
  },
  {
   "cell_type": "markdown",
   "id": "1cbedcbc-5659-426a-837a-6d71aa40933a",
   "metadata": {},
   "source": [
    "#### Distributed-processes"
   ]
  },
  {
   "cell_type": "code",
   "execution_count": null,
   "id": "61ea2bd1-ea84-4903-8908-f35d16e67e76",
   "metadata": {},
   "outputs": [],
   "source": [
    "using Distributed"
   ]
  },
  {
   "cell_type": "code",
   "execution_count": null,
   "id": "e9c46b40-834a-4c89-9125-379729a3474c",
   "metadata": {},
   "outputs": [],
   "source": [
    "@everywhere begin\n",
    "    \n",
    "    include(\"../test/BXDdata_for_test.jl\");\n",
    "    include(\"../src/parallel_helpers.jl\");\n",
    "    \n",
    "    function get_h2s_for_timing(y0::Array{Float64, 2}, X0::Array{Float64, 2}, lambda0::Array{Float64, 1};\n",
    "                   reml::Bool = false)\n",
    "    \n",
    "    # fit null lmm\n",
    "    out00 = fitlmm(y0, reshape(X0[:, 1], :, 1), lambda0; reml = reml)\n",
    "    # weights proportional to the variances\n",
    "    # sqrtw = sqrt.(makeweights(out00.h2, lambda0));\n",
    "    \n",
    "    # return sqrtw\n",
    "    return out00.h2\n",
    "    \n",
    "    end\n",
    "end"
   ]
  },
  {
   "cell_type": "code",
   "execution_count": null,
   "id": "f8909536-69cc-4509-8519-fd8a726d7dd6",
   "metadata": {},
   "outputs": [],
   "source": [
    "@time begin \n",
    "    (Y0, X0, lambda0) = transform_rotation(pheno, geno, kinship); # rotate the entire matrix of all traits\n",
    "    \n",
    "    pmap_h2s = pmap(x -> get_h2s_for_timing(reshape(Y0[:, x], :, 1), X0, lambda0; reml = true), 1:m)\n",
    "end"
   ]
  },
  {
   "cell_type": "code",
   "execution_count": null,
   "id": "3aa97387-0bca-4fef-be64-83dabb95f38a",
   "metadata": {},
   "outputs": [],
   "source": [
    "Threads.nthreads()"
   ]
  },
  {
   "cell_type": "code",
   "execution_count": null,
   "id": "ed2411b5-f98a-453c-b328-e364ec5031c8",
   "metadata": {},
   "outputs": [],
   "source": []
  }
 ],
 "metadata": {
  "kernelspec": {
   "display_name": "Julia 16 Threads 1.7.3",
   "language": "julia",
   "name": "julia-16-threads-1.7"
  },
  "language_info": {
   "file_extension": ".jl",
   "mimetype": "application/julia",
   "name": "julia",
   "version": "1.7.3"
  }
 },
 "nbformat": 4,
 "nbformat_minor": 5
}
