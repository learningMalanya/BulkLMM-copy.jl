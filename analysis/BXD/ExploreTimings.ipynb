{
 "cells": [
  {
   "cell_type": "markdown",
   "id": "a6823e97-cece-4715-b2da-abe4e9ebf923",
   "metadata": {},
   "source": [
    "# Explore Runtimes:"
   ]
  },
  {
   "cell_type": "code",
   "execution_count": 1,
   "id": "965cce00-59f7-4602-87cf-ef609bc4f2f3",
   "metadata": {},
   "outputs": [
    {
     "data": {
      "text/plain": [
       "\"/home/zyu20/git/BulkLMM.jl/analysis/BXD\""
      ]
     },
     "execution_count": 1,
     "metadata": {},
     "output_type": "execute_result"
    }
   ],
   "source": [
    "pwd()"
   ]
  },
  {
   "cell_type": "code",
   "execution_count": 2,
   "id": "54153196-a048-488b-af8e-45f52d1af76b",
   "metadata": {},
   "outputs": [],
   "source": [
    "cd(\"..\")"
   ]
  },
  {
   "cell_type": "code",
   "execution_count": 3,
   "id": "fc3b6ede-0266-46cd-8528-981770c07f67",
   "metadata": {},
   "outputs": [],
   "source": [
    "include(\"../test/BXDdata_for_test.jl\");"
   ]
  },
  {
   "cell_type": "code",
   "execution_count": 4,
   "id": "d5599580-c9af-47be-9723-d6b8a2437ef1",
   "metadata": {},
   "outputs": [],
   "source": [
    "include(\"../src/parallel_helpers.jl\");"
   ]
  },
  {
   "cell_type": "code",
   "execution_count": 5,
   "id": "3d8e5841-bfbc-4d35-bff9-920c73705424",
   "metadata": {},
   "outputs": [
    {
     "data": {
      "text/plain": [
       "(79, 35556)"
      ]
     },
     "execution_count": 5,
     "metadata": {},
     "output_type": "execute_result"
    }
   ],
   "source": [
    "size(pheno)"
   ]
  },
  {
   "cell_type": "code",
   "execution_count": 6,
   "id": "5af01511-8d3e-4630-9e37-3471bc6c1ece",
   "metadata": {},
   "outputs": [
    {
     "data": {
      "text/plain": [
       "(79, 1)"
      ]
     },
     "execution_count": 6,
     "metadata": {},
     "output_type": "execute_result"
    }
   ],
   "source": [
    "size(pheno_y)"
   ]
  },
  {
   "cell_type": "code",
   "execution_count": 7,
   "id": "fd6dc879-63b9-4e9d-876d-87c00591dca8",
   "metadata": {},
   "outputs": [
    {
     "data": {
      "text/plain": [
       "(79, 7321)"
      ]
     },
     "execution_count": 7,
     "metadata": {},
     "output_type": "execute_result"
    }
   ],
   "source": [
    "size(geno)"
   ]
  },
  {
   "cell_type": "code",
   "execution_count": 8,
   "id": "4574cb5d-84b2-4d56-9f61-22505d5d8c79",
   "metadata": {},
   "outputs": [
    {
     "data": {
      "text/plain": [
       "(79, 79)"
      ]
     },
     "execution_count": 8,
     "metadata": {},
     "output_type": "execute_result"
    }
   ],
   "source": [
    "size(kinship)"
   ]
  },
  {
   "cell_type": "code",
   "execution_count": 9,
   "id": "8dfb655e-db19-4386-98a7-75845de3b17c",
   "metadata": {},
   "outputs": [
    {
     "data": {
      "text/plain": [
       "(79, 35556, 7321)"
      ]
     },
     "execution_count": 9,
     "metadata": {},
     "output_type": "execute_result"
    }
   ],
   "source": [
    "(n, m, p)"
   ]
  },
  {
   "cell_type": "code",
   "execution_count": 10,
   "id": "b8250a67-36b9-4b10-89cd-942196e4edf6",
   "metadata": {},
   "outputs": [
    {
     "data": {
      "text/plain": [
       "16"
      ]
     },
     "execution_count": 10,
     "metadata": {},
     "output_type": "execute_result"
    }
   ],
   "source": [
    "Threads.nthreads()"
   ]
  },
  {
   "cell_type": "code",
   "execution_count": 11,
   "id": "63d3c12d-3df8-4b3b-92f9-a0217cbb5cfb",
   "metadata": {},
   "outputs": [],
   "source": [
    "using LinearAlgebra"
   ]
  },
  {
   "cell_type": "code",
   "execution_count": 12,
   "id": "019d7aa0-91ba-46a3-88fd-d96c6bf5f501",
   "metadata": {},
   "outputs": [
    {
     "data": {
      "text/plain": [
       "8"
      ]
     },
     "execution_count": 12,
     "metadata": {},
     "output_type": "execute_result"
    }
   ],
   "source": [
    "BLAS.get_num_threads()"
   ]
  },
  {
   "cell_type": "code",
   "execution_count": 13,
   "id": "65a13375-efa7-43d9-9061-15d142ab578d",
   "metadata": {},
   "outputs": [],
   "source": [
    "BLAS.set_num_threads(1);"
   ]
  },
  {
   "cell_type": "code",
   "execution_count": 14,
   "id": "312326e6-e3d1-443a-be1c-24864d293c8e",
   "metadata": {},
   "outputs": [
    {
     "data": {
      "text/plain": [
       "1"
      ]
     },
     "execution_count": 14,
     "metadata": {},
     "output_type": "execute_result"
    }
   ],
   "source": [
    "BLAS.get_num_threads()"
   ]
  },
  {
   "cell_type": "code",
   "execution_count": null,
   "id": "b6e3ff9d-7628-4f60-9de9-7d90dfb23c1c",
   "metadata": {},
   "outputs": [],
   "source": [
    "function scan_ordinary(Y0::Array{Float64, 2}, X0::Array{Float64, 2}, lambda0::Array{Float64, 1}; reml::Bool = true)\n",
    "    \n",
    "    X0_inter = reshape(X0[:, 1], :, 1);\n",
    "    \n",
    "    full_results_ordinary = Array{Float64, 2}(undef, p, m);\n",
    "    \n",
    "    for i in 1:m\n",
    "        y0i = reshape(Y0[:, i], :, 1);\n",
    "        out00 = fitlmm(y0i, X0_inter, lambda0; reml = true);\n",
    "        sqrtw = sqrt.(makeweights(out00.h2, lambda0))\n",
    "        \n",
    "        yw_i = rowMultiply(y0i, sqrtw);\n",
    "        Xw = rowMultiply(X0, sqrtw);\n",
    "        \n",
    "        out0 = rss(yw_i, reshape(Xw[:, 1], :, 1));\n",
    "        lod = Array{Float64, 1}(undef, p);\n",
    "        \n",
    "        X = Array{Float64, 2}(undef, n, 2);\n",
    "        X[:, 1] = Xw[:, 1];\n",
    "        \n",
    "        for j in 1:p\n",
    "            X[:, 2] = Xw[:, j+1];\n",
    "            \n",
    "            out1 = rss(yw_i, X);\n",
    "            lod[j] = (n/2)*(log10(out0[1]) - log10(out1[1]))\n",
    "        end\n",
    "        \n",
    "        full_results_ordinary[:, i] = lod;\n",
    "\n",
    "    end\n",
    "    \n",
    "    \n",
    "    return full_results_ordinary\n",
    "end"
   ]
  },
  {
   "cell_type": "code",
   "execution_count": null,
   "id": "b084bf2e-7a54-402e-91e5-6c17a57387d7",
   "metadata": {},
   "outputs": [],
   "source": [
    "@time begin\n",
    "    \n",
    "    (Y0, X0, lambda0) = transform_rotation(pheno, geno, kinship);\n",
    "    full_results_ordinary = scan_ordinary(Y0, X0, lambda0);\n",
    "    \n",
    "end"
   ]
  },
  {
   "cell_type": "markdown",
   "id": "e1c7fd39-cbc7-4ac5-9565-482303103b90",
   "metadata": {},
   "source": [
    "## LiteQTL:"
   ]
  },
  {
   "cell_type": "code",
   "execution_count": 80,
   "id": "2381bdd8-1310-40a4-9f4a-c20baef656e3",
   "metadata": {},
   "outputs": [
    {
     "data": {
      "text/plain": [
       "(35556, 79, 7321)"
      ]
     },
     "execution_count": 80,
     "metadata": {},
     "output_type": "execute_result"
    }
   ],
   "source": [
    "(m, n, p)"
   ]
  },
  {
   "cell_type": "code",
   "execution_count": 82,
   "id": "7dc88b44-459f-4bb4-bddd-1dba94329c2f",
   "metadata": {},
   "outputs": [
    {
     "data": {
      "text/plain": [
       "r2lod (generic function with 3 methods)"
      ]
     },
     "execution_count": 82,
     "metadata": {},
     "output_type": "execute_result"
    }
   ],
   "source": [
    "function r2lod(r::Float64, n::Int64)\n",
    "    rsq = (r/n)^2\n",
    "    return -(n/2.0) * log10(1.0-rsq);\n",
    "end"
   ]
  },
  {
   "cell_type": "code",
   "execution_count": 85,
   "id": "c4784174-aa3c-4320-a5c5-57f79d035eee",
   "metadata": {},
   "outputs": [
    {
     "data": {
      "text/plain": [
       "2-element Vector{Float64}:\n",
       " 0.0022265908888506967\n",
       " 2.748701454592006e-5"
      ]
     },
     "execution_count": 85,
     "metadata": {},
     "output_type": "execute_result"
    }
   ],
   "source": [
    "map(x -> r2lod(x, n), [0.9, 0.1])"
   ]
  },
  {
   "cell_type": "code",
   "execution_count": 108,
   "id": "c38e9b62-7717-4f09-a0da-34c06ced10fb",
   "metadata": {},
   "outputs": [],
   "source": [
    "full_results_lite = Array{Float64, 2}(undef, p, m);"
   ]
  },
  {
   "cell_type": "code",
   "execution_count": 109,
   "id": "fbff02ba-a0e6-4467-9152-98a0364b17cc",
   "metadata": {},
   "outputs": [
    {
     "name": "stdout",
     "output_type": "stream",
     "text": [
      "228.439247 seconds (33.90 M allocations: 484.262 GiB, 11.94% gc time, 0.01% compilation time)\n"
     ]
    }
   ],
   "source": [
    "@time begin\n",
    "    (Y0, X0, lambda0) = transform_rotation(pheno, geno, kinship);\n",
    "    X0_intercept = reshape(X0[:, 1], :, 1);\n",
    "    #copyX0_intercept = deepcopy(X0_intercept);\n",
    "    X0_covar = X0[:, 2:end];\n",
    "    #copyX0_covar = deepcopy(X0_covar);\n",
    "    \n",
    "    for i in 1:m\n",
    "        pheno_y0i = reshape(Y0[:, i], :, 1);\n",
    "        vc = fitlmm(pheno_y0i, X0_intercept, lambda0; reml = true);\n",
    "        sqrtw = sqrt.(makeweights(vc.h2, lambda0));\n",
    "    \n",
    "        pheno_y00i = rowMultiply(pheno_y0i, sqrtw);\n",
    "        X00_intercept = rowMultiply(X0_intercept, sqrtw);\n",
    "        X00_covar = rowMultiply(X0_covar, sqrtw);\n",
    "    \n",
    "        y00 = resid(pheno_y00i, X00_intercept);\n",
    "        X00 = resid(X00_covar, X00_intercept);\n",
    "        \n",
    "        sy = std(y00, dims = 1) |> vec;\n",
    "        sx = std(X00, dims = 1) |> vec;\n",
    "        colDivide!(y00, sy);\n",
    "        colDivide!(X00, sx);\n",
    "        R = y00' * X00;\n",
    "    \n",
    "        full_results_lite[:, i] = r2lod.(R, 79);\n",
    "    \n",
    "    end\n",
    "\n",
    "end"
   ]
  },
  {
   "cell_type": "code",
   "execution_count": null,
   "id": "99e46f8d-b197-4960-91bc-82121f73dfe4",
   "metadata": {},
   "outputs": [],
   "source": [
    "full_results_lite[1:6, :]"
   ]
  },
  {
   "cell_type": "markdown",
   "id": "6f24ef12-b445-4ed6-85bd-d500c3f9c366",
   "metadata": {},
   "source": [
    "### Multi-threading LiteQTL:"
   ]
  },
  {
   "cell_type": "code",
   "execution_count": 17,
   "id": "e6cc9013-3232-4d0a-aeec-4a92e7b0bf1d",
   "metadata": {},
   "outputs": [
    {
     "data": {
      "text/plain": [
       "16"
      ]
     },
     "execution_count": 17,
     "metadata": {},
     "output_type": "execute_result"
    }
   ],
   "source": [
    "Threads.nthreads()"
   ]
  },
  {
   "cell_type": "code",
   "execution_count": 18,
   "id": "4541b393-1565-4382-90f7-17f24075a550",
   "metadata": {},
   "outputs": [],
   "source": [
    "nblocks = Threads.nthreads();"
   ]
  },
  {
   "cell_type": "code",
   "execution_count": 19,
   "id": "e6e1ba9e-5ab5-4fdb-bf72-c843b1ebe709",
   "metadata": {},
   "outputs": [],
   "source": [
    "if nblocks == Threads.nthreads()\n",
    "    BLAS.set_num_threads(1)\n",
    "else\n",
    "    BLAS.set_num_threads(Threads.nthreads() - nblocks)\n",
    "end"
   ]
  },
  {
   "cell_type": "code",
   "execution_count": 20,
   "id": "a39c870a-3eda-4c45-a835-f378a9da4e93",
   "metadata": {},
   "outputs": [
    {
     "data": {
      "text/plain": [
       "1"
      ]
     },
     "execution_count": 20,
     "metadata": {},
     "output_type": "execute_result"
    }
   ],
   "source": [
    "BLAS.get_num_threads()"
   ]
  },
  {
   "cell_type": "code",
   "execution_count": 21,
   "id": "05e2f33e-5c2c-4afc-860c-d1d8429b0800",
   "metadata": {},
   "outputs": [
    {
     "data": {
      "text/plain": [
       "(2222, 4)"
      ]
     },
     "execution_count": 21,
     "metadata": {},
     "output_type": "execute_result"
    }
   ],
   "source": [
    "divrem(m, 16)"
   ]
  },
  {
   "cell_type": "code",
   "execution_count": 106,
   "id": "ae96914c-6384-423e-85d4-5fc07aa33eed",
   "metadata": {},
   "outputs": [
    {
     "data": {
      "text/plain": [
       "scan_lite_univar (generic function with 1 method)"
      ]
     },
     "execution_count": 106,
     "metadata": {},
     "output_type": "execute_result"
    }
   ],
   "source": [
    "function scan_lite_univar(y0_j::Array{Float64, 1}, X0_intercept::Array{Float64, 2}, \n",
    "                            X0_covar::Array{Float64, 2}, lambda0::Array{Float64, 1};\n",
    "                            reml::Bool = true)\n",
    "    \n",
    "    y0 = reshape(y0_j, :, 1);\n",
    "    vc = fitlmm(y0, X0_intercept, lambda0; reml = reml);\n",
    "    sqrtw = sqrt.(makeweights(vc.h2, lambda0));\n",
    "    \n",
    "    wy0 = rowMultiply(y0, sqrtw);\n",
    "    wX0_intercept = rowMultiply(X0_intercept, sqrtw);\n",
    "    wX0_covar = rowMultiply(X0_covar, sqrtw);\n",
    "    \n",
    "    y00 = resid(wy0, wX0_intercept);\n",
    "    X00 = resid(wX0_covar, wX0_intercept);\n",
    "        \n",
    "        \n",
    "    sy = std(y00, dims = 1) |> vec;\n",
    "    sx = std(X00, dims = 1) |> vec;\n",
    "    colDivide!(y00, sy);\n",
    "    colDivide!(X00, sx);\n",
    "    \n",
    "    R = X00' * y00; # p-by-1 matrix\n",
    "    \n",
    "    return r2lod.(R, 79); # results will be p-by-1, i.e. all LOD scores for the j-th trait and p markers\n",
    "end"
   ]
  },
  {
   "cell_type": "code",
   "execution_count": 23,
   "id": "f9bbb88e-9f2f-448b-bbf0-682c30163a8b",
   "metadata": {},
   "outputs": [
    {
     "data": {
      "text/plain": [
       "scan_lite_multithreads (generic function with 1 method)"
      ]
     },
     "execution_count": 23,
     "metadata": {},
     "output_type": "execute_result"
    }
   ],
   "source": [
    "function scan_lite_multithreads(Y::Array{Float64, 2}, G::Array{Float64, 2}, K::Array{Float64, 2}, nb::Int64;\n",
    "                                reml::Bool = true)\n",
    "    (n, m) = size(Y);\n",
    "    p = size(G, 2);\n",
    "    \n",
    "    # rotate data\n",
    "    (Y0, X0, lambda0) = transform_rotation(Y, G, K);\n",
    "    X0_intercept = reshape(X0[:, 1], :, 1);\n",
    "    X0_covar = X0[:, 2:end];\n",
    "    \n",
    "    (len, rem) = divrem(m, nb);\n",
    "    \n",
    "    results = Array{Array{Float64, 2}, 1}(undef, nb);\n",
    "    \n",
    "    Threads.@threads for t = 1:nb # so the N blocks will share the (nthreads - N) BLAS threads\n",
    "        \n",
    "        lods_currBlock = Array{Float64, 2}(undef, p, len);\n",
    "        \n",
    "        @simd for i = 1:len\n",
    "            \n",
    "            j = i+(t-1)*len;\n",
    "            #@inbounds\n",
    "            lods_currBlock[:, i] = scan_lite_univar(Y0[:, j], X0_intercept, X0_covar, lambda0;\n",
    "                                                    reml = reml);\n",
    "        end\n",
    "                    \n",
    "        results[t] = lods_currBlock;\n",
    "        \n",
    "    end\n",
    "    \n",
    "    # process up the remaining data\n",
    "    lods_remBlock = Array{Float64, 2}(undef, p, rem);\n",
    "    for i in 1:rem\n",
    "        \n",
    "        j = m-rem+i;\n",
    "        \n",
    "        lods_remBlock[:, i] = scan_lite_univar(Y0[:, j], X0_intercept, X0_covar, lambda0;\n",
    "                                               reml = reml);\n",
    "        \n",
    "    end\n",
    "    \n",
    "    LODs_all = reduce(hcat, results);\n",
    "    LODs_all = hcat(LODs_all, lods_remBlock);\n",
    "    \n",
    "    return LODs_all\n",
    "    \n",
    "end"
   ]
  },
  {
   "cell_type": "code",
   "execution_count": 24,
   "id": "4cb59b6c-445d-4828-acfe-04cc3b1d0962",
   "metadata": {},
   "outputs": [
    {
     "name": "stdout",
     "output_type": "stream",
     "text": [
      " 62.603721 seconds (2.12 G allocations: 521.142 GiB, 28.09% gc time, 0.32% compilation time)\n"
     ]
    }
   ],
   "source": [
    "@time full_results_lite_multithreads = scan_lite_multithreads(pheno, geno, kinship, nblocks; reml = true);"
   ]
  },
  {
   "cell_type": "code",
   "execution_count": null,
   "id": "7c9b1ddf-c803-4a12-9b93-1a64ef4e4de5",
   "metadata": {},
   "outputs": [],
   "source": [
    "@btime scan_lite_multithreads(pheno, geno, kinship, nblocks; reml = true);"
   ]
  },
  {
   "cell_type": "code",
   "execution_count": null,
   "id": "b816c121-5a6b-46bc-8fb9-3ea6874d34e9",
   "metadata": {},
   "outputs": [],
   "source": [
    "full_results_lite[1:6, :]"
   ]
  },
  {
   "cell_type": "code",
   "execution_count": 25,
   "id": "ffdb74ba-8c2d-44cf-8783-ed3185833dba",
   "metadata": {},
   "outputs": [
    {
     "data": {
      "text/plain": [
       "6×35556 Matrix{Float64}:\n",
       " 0.000117904  0.0449468  0.00289554  …  0.0457906  0.00329113  0.344878\n",
       " 0.000117904  0.0449468  0.00289554     0.0457906  0.00329113  0.344878\n",
       " 0.000117904  0.0449468  0.00289554     0.0457906  0.00329113  0.344878\n",
       " 0.000117904  0.0449468  0.00289554     0.0457906  0.00329113  0.344878\n",
       " 0.000117904  0.0449468  0.00289554     0.0457906  0.00329113  0.344878\n",
       " 0.000117904  0.0449468  0.00289554  …  0.0457906  0.00329113  0.344878"
      ]
     },
     "execution_count": 25,
     "metadata": {},
     "output_type": "execute_result"
    }
   ],
   "source": [
    "full_results_lite_multithreads[1:6, :]"
   ]
  },
  {
   "cell_type": "code",
   "execution_count": null,
   "id": "90a67c6d-35cb-42dd-bebc-bd9702800336",
   "metadata": {},
   "outputs": [],
   "source": [
    "maxSqDiff(full_results_lite, full_results_lite_multithreads)"
   ]
  },
  {
   "cell_type": "code",
   "execution_count": 26,
   "id": "41eda6c1-6666-49a2-a316-06609b04dd09",
   "metadata": {},
   "outputs": [
    {
     "data": {
      "text/plain": [
       "false"
      ]
     },
     "execution_count": 26,
     "metadata": {},
     "output_type": "execute_result"
    }
   ],
   "source": [
    "any(full_results_lite_multithreads .< 0.0)"
   ]
  },
  {
   "cell_type": "code",
   "execution_count": null,
   "id": "2a47aecc-33ca-4a30-8a57-3d2c52eee60b",
   "metadata": {},
   "outputs": [],
   "source": [
    "test[2] = [1 2; 3 4; 5 6]"
   ]
  },
  {
   "cell_type": "code",
   "execution_count": null,
   "id": "bf2f695c-678c-4ed6-a48d-596e536a7a0e",
   "metadata": {},
   "outputs": [],
   "source": [
    "test"
   ]
  },
  {
   "cell_type": "code",
   "execution_count": null,
   "id": "77dd86d0-955e-41b3-93f3-0593a6f413d3",
   "metadata": {},
   "outputs": [],
   "source": [
    "reduce(hcat, test[1:2])"
   ]
  },
  {
   "cell_type": "markdown",
   "id": "37123659-95e7-4891-90be-c1bdfa04ddc5",
   "metadata": {},
   "source": [
    "### \"Bulk\" Calculation:"
   ]
  },
  {
   "cell_type": "code",
   "execution_count": 89,
   "id": "37503848-7b34-42d1-a478-88b6f09d737a",
   "metadata": {},
   "outputs": [
    {
     "data": {
      "text/plain": [
       "scan_lite_multivar (generic function with 1 method)"
      ]
     },
     "execution_count": 89,
     "metadata": {},
     "output_type": "execute_result"
    }
   ],
   "source": [
    "function scan_lite_multivar(Y0::Array{Float64, 2}, X0::Array{Float64, 2}, \n",
    "                            hsq::Float64, lambda0::Array{Float64, 1};\n",
    "                            reml::Bool = true)\n",
    "    \n",
    "    sqrtw = sqrt.(makeweights(hsq, lambda0));\n",
    "    \n",
    "    wY0 = rowMultiply(Y0, sqrtw);\n",
    "    wX0 = rowMultiply(X0, sqrtw);\n",
    "    \n",
    "    wX0_intercept = wX0[:, 1];\n",
    "    wX0_covar = wX0[:, 2:end];\n",
    "    \n",
    "    Y00 = resid(wY0, wX0_intercept);\n",
    "    X00 = resid(wX0_covar, wX0_intercept);\n",
    "        \n",
    "        \n",
    "    sy = std(Y00, dims = 1) |> vec;\n",
    "    sx = std(X00, dims = 1) |> vec;\n",
    "    colDivide!(Y00, sy);\n",
    "    colDivide!(X00, sx);\n",
    "    \n",
    "    R = X00' * Y00; # p-by-m matrix\n",
    "    \n",
    "    return r2lod.(R, 79); # results will be p-by-1, i.e. all LOD scores for the j-th trait and p markers\n",
    "end"
   ]
  },
  {
   "cell_type": "code",
   "execution_count": 73,
   "id": "03b93fe8-2734-4a09-ae0e-13680b925f64",
   "metadata": {},
   "outputs": [],
   "source": [
    "test_w = sqrt.(makeweights(0.1, lambda0));"
   ]
  },
  {
   "cell_type": "code",
   "execution_count": 74,
   "id": "a20fec3c-f59f-4d1b-9e12-1df68be77541",
   "metadata": {},
   "outputs": [
    {
     "name": "stdout",
     "output_type": "stream",
     "text": [
      "  0.006996 seconds (4 allocations: 25.844 MiB)\n"
     ]
    }
   ],
   "source": [
    "@time begin\n",
    "    test_wY0 = rowMultiply(Y0, test_w);\n",
    "    test_wX0 = rowMultiply(X0, test_w);\n",
    "end;"
   ]
  },
  {
   "cell_type": "code",
   "execution_count": 75,
   "id": "5ded6113-4d12-44aa-b051-d924b9932ec5",
   "metadata": {},
   "outputs": [
    {
     "name": "stdout",
     "output_type": "stream",
     "text": [
      "  0.001187 seconds (8 allocations: 4.413 MiB)\n"
     ]
    }
   ],
   "source": [
    "@time begin\n",
    "    test_wX0_intercept = test_wX0[:, 1];\n",
    "    test_wX0_covar = test_wX0[:, 2:end];\n",
    "end;"
   ]
  },
  {
   "cell_type": "code",
   "execution_count": 76,
   "id": "d9405e29-7df2-40db-a778-9201b6b7dfa8",
   "metadata": {},
   "outputs": [
    {
     "name": "stdout",
     "output_type": "stream",
     "text": [
      "  0.044112 seconds (18 allocations: 52.341 MiB, 20.46% gc time)\n"
     ]
    }
   ],
   "source": [
    "@time begin\n",
    "    test_Y00 = resid(test_wY0, test_wX0_intercept);\n",
    "    test_X00 = resid(test_wX0_covar, test_wX0_intercept);\n",
    "end;"
   ]
  },
  {
   "cell_type": "code",
   "execution_count": 77,
   "id": "1cf7a7e5-a6c3-4f19-922d-ff4e016b42a0",
   "metadata": {},
   "outputs": [
    {
     "name": "stdout",
     "output_type": "stream",
     "text": [
      "  0.033638 seconds (24 allocations: 671.531 KiB)\n"
     ]
    }
   ],
   "source": [
    "@time begin\n",
    "    sy = std(test_Y00, dims = 1) |> vec;\n",
    "    sx = std(test_X00, dims = 1) |> vec;\n",
    "    colDivide!(test_Y00, sy);\n",
    "    colDivide!(test_X00, sx);\n",
    "end;"
   ]
  },
  {
   "cell_type": "code",
   "execution_count": 78,
   "id": "4dda7d51-21ef-4218-9591-cfef005e9b90",
   "metadata": {},
   "outputs": [
    {
     "name": "stdout",
     "output_type": "stream",
     "text": [
      "  0.656654 seconds (3 allocations: 1.939 GiB, 7.31% gc time)\n"
     ]
    }
   ],
   "source": [
    "@time test_R = test_X00' * test_Y00;"
   ]
  },
  {
   "cell_type": "code",
   "execution_count": 87,
   "id": "5e859bc4-239b-4f4b-a356-736cf9a66b0e",
   "metadata": {},
   "outputs": [
    {
     "name": "stdout",
     "output_type": "stream",
     "text": [
      "  3.633648 seconds (115.25 k allocations: 1.946 GiB, 0.56% gc time, 1.44% compilation time)\n"
     ]
    }
   ],
   "source": [
    "@time test_L = map(x -> r2lod(x, 79), test_R);"
   ]
  },
  {
   "cell_type": "code",
   "execution_count": 88,
   "id": "a59734d9-d598-4e35-a85c-17ec6f103cea",
   "metadata": {},
   "outputs": [],
   "source": [
    "(Y0, X0, lambda0) = transform_rotation(pheno, geno, kinship);"
   ]
  },
  {
   "cell_type": "code",
   "execution_count": 43,
   "id": "41ceaf88-a468-404b-afbd-5d0c1cba17ff",
   "metadata": {},
   "outputs": [],
   "source": [
    "BLAS.set_num_threads(8)"
   ]
  },
  {
   "cell_type": "code",
   "execution_count": 44,
   "id": "73fdf5a4-83e5-48eb-9580-fba8d31d2298",
   "metadata": {},
   "outputs": [
    {
     "data": {
      "text/plain": [
       "8"
      ]
     },
     "execution_count": 44,
     "metadata": {},
     "output_type": "execute_result"
    }
   ],
   "source": [
    "BLAS.get_num_threads()"
   ]
  },
  {
   "cell_type": "code",
   "execution_count": 91,
   "id": "8f6cf4a4-efec-49af-8b41-8c3783af16e9",
   "metadata": {},
   "outputs": [
    {
     "name": "stdout",
     "output_type": "stream",
     "text": [
      "  4.104814 seconds (57 allocations: 3.960 GiB, 3.39% gc time)\n"
     ]
    }
   ],
   "source": [
    "@time scan_lite_multivar(Y0, X0, 0.1, lambda0);"
   ]
  },
  {
   "cell_type": "code",
   "execution_count": 92,
   "id": "36427126-3743-4f8e-9a5f-9e30eb536e9c",
   "metadata": {},
   "outputs": [
    {
     "data": {
      "text/plain": [
       "bulk_scan (generic function with 1 method)"
      ]
     },
     "execution_count": 92,
     "metadata": {},
     "output_type": "execute_result"
    }
   ],
   "source": [
    "function bulk_scan(Y::Array{Float64, 2}, G::Array{Float64, 2}, K::Array{Float64, 2}, hsq_list::Array{Float64, 1};\n",
    "                reml::Bool = true)\n",
    "    \n",
    "    (Y0, X0, lambda0) = transform_rotation(Y, G, K);\n",
    "    \n",
    "    maxL = scan_lite_multivar(Y0, X0, hsq_list[1], lambda0);\n",
    "    \n",
    "    for hsq in hsq_list[2:end]\n",
    "        \n",
    "        currL = scan_lite_multivar(Y0, X0, hsq, lambda0);\n",
    "        maxL = max.(maxL, currL);\n",
    "        \n",
    "    end\n",
    "    \n",
    "    return maxL\n",
    "      \n",
    "end"
   ]
  },
  {
   "cell_type": "code",
   "execution_count": 93,
   "id": "6287549b-9ca0-44ad-8036-80943d0fd7a9",
   "metadata": {},
   "outputs": [],
   "source": [
    "hsq_grids = [0.0, 0.1, 0.2, 0.3, 0.4, 0.5, 0.6, 0.7, 0.8, 0.9, 1.0];"
   ]
  },
  {
   "cell_type": "code",
   "execution_count": 94,
   "id": "3efebd72-d3aa-45da-a5da-3b0963c99dee",
   "metadata": {},
   "outputs": [
    {
     "name": "stdout",
     "output_type": "stream",
     "text": [
      " 54.001050 seconds (672 allocations: 62.986 GiB, 5.09% gc time)\n"
     ]
    }
   ],
   "source": [
    "@time full_results_bulkscan = bulk_scan(pheno, geno, kinship, hsq_grids; reml = true);"
   ]
  },
  {
   "cell_type": "code",
   "execution_count": 95,
   "id": "86b5a2bc-20bd-40e7-bc71-924750097ef9",
   "metadata": {},
   "outputs": [
    {
     "data": {
      "text/plain": [
       "6×6 Matrix{Float64}:\n",
       " 0.0949517  0.124677  0.0935413  0.0359656  0.101819  0.0918938\n",
       " 0.0949517  0.124677  0.0935413  0.0359656  0.101819  0.0918938\n",
       " 0.0949517  0.124677  0.0935413  0.0359656  0.101819  0.0918938\n",
       " 0.0949517  0.124677  0.0935413  0.0359656  0.101819  0.0918938\n",
       " 0.0949517  0.124677  0.0935413  0.0359656  0.101819  0.0918938\n",
       " 0.0949517  0.124677  0.0935413  0.0359656  0.101819  0.0918938"
      ]
     },
     "execution_count": 95,
     "metadata": {},
     "output_type": "execute_result"
    }
   ],
   "source": [
    "full_results_bulkscan[1:6, 1:6]"
   ]
  },
  {
   "cell_type": "code",
   "execution_count": 96,
   "id": "e9d43575-9c3b-4d52-b62c-4524085b50e7",
   "metadata": {},
   "outputs": [
    {
     "data": {
      "text/plain": [
       "6×6 Matrix{Float64}:\n",
       " 0.000117904  0.0449468  0.00289554  0.0157737  0.0979217  0.0903821\n",
       " 0.000117904  0.0449468  0.00289554  0.0157737  0.0979217  0.0903821\n",
       " 0.000117904  0.0449468  0.00289554  0.0157737  0.0979217  0.0903821\n",
       " 0.000117904  0.0449468  0.00289554  0.0157737  0.0979217  0.0903821\n",
       " 0.000117904  0.0449468  0.00289554  0.0157737  0.0979217  0.0903821\n",
       " 0.000117904  0.0449468  0.00289554  0.0157737  0.0979217  0.0903821"
      ]
     },
     "execution_count": 96,
     "metadata": {},
     "output_type": "execute_result"
    }
   ],
   "source": [
    "full_results_lite_multithreads[1:6, 1:6]"
   ]
  },
  {
   "cell_type": "code",
   "execution_count": 99,
   "id": "446b257b-d94b-475e-b609-fdec767fd6a4",
   "metadata": {},
   "outputs": [
    {
     "data": {
      "text/plain": [
       "5.502433620572326"
      ]
     },
     "execution_count": 99,
     "metadata": {},
     "output_type": "execute_result"
    }
   ],
   "source": [
    "maximum(full_results_lite_multithreads .- full_results_bulkscan)"
   ]
  },
  {
   "cell_type": "code",
   "execution_count": 100,
   "id": "0773f272-4ff0-4f39-96bb-5a2e979ba0b3",
   "metadata": {},
   "outputs": [
    {
     "data": {
      "text/plain": [
       "-21.781019883518805"
      ]
     },
     "execution_count": 100,
     "metadata": {},
     "output_type": "execute_result"
    }
   ],
   "source": [
    "minimum(full_results_lite_multithreads .- full_results_bulkscan)"
   ]
  },
  {
   "cell_type": "code",
   "execution_count": 101,
   "id": "2c5643a5-f858-4a73-9242-50a83232134c",
   "metadata": {},
   "outputs": [],
   "source": [
    "using Plots"
   ]
  },
  {
   "cell_type": "code",
   "execution_count": 103,
   "id": "42027247-8851-41e9-a55e-1ef7bc66414c",
   "metadata": {},
   "outputs": [
    {
     "data": {
      "image/svg+xml": [
       "<?xml version=\"1.0\" encoding=\"utf-8\"?>\n",
       "<svg xmlns=\"http://www.w3.org/2000/svg\" xmlns:xlink=\"http://www.w3.org/1999/xlink\" width=\"600\" height=\"400\" viewBox=\"0 0 2400 1600\">\n",
       "<defs>\n",
       "  <clipPath id=\"clip370\">\n",
       "    <rect x=\"0\" y=\"0\" width=\"2400\" height=\"1600\"/>\n",
       "  </clipPath>\n",
       "</defs>\n",
       "<path clip-path=\"url(#clip370)\" d=\"\n",
       "M0 1600 L2400 1600 L2400 0 L0 0  Z\n",
       "  \" fill=\"#ffffff\" fill-rule=\"evenodd\" fill-opacity=\"1\"/>\n",
       "<defs>\n",
       "  <clipPath id=\"clip371\">\n",
       "    <rect x=\"480\" y=\"0\" width=\"1681\" height=\"1600\"/>\n",
       "  </clipPath>\n",
       "</defs>\n",
       "<path clip-path=\"url(#clip370)\" d=\"\n",
       "M305.178 1486.45 L2352.76 1486.45 L2352.76 47.2441 L305.178 47.2441  Z\n",
       "  \" fill=\"#ffffff\" fill-rule=\"evenodd\" fill-opacity=\"1\"/>\n",
       "<defs>\n",
       "  <clipPath id=\"clip372\">\n",
       "    <rect x=\"305\" y=\"47\" width=\"2049\" height=\"1440\"/>\n",
       "  </clipPath>\n",
       "</defs>\n",
       "<polyline clip-path=\"url(#clip372)\" style=\"stroke:#000000; stroke-linecap:butt; stroke-linejoin:round; stroke-width:2; stroke-opacity:0.1; fill:none\" points=\"\n",
       "  398.874,1486.45 398.874,47.2441 \n",
       "  \"/>\n",
       "<polyline clip-path=\"url(#clip372)\" style=\"stroke:#000000; stroke-linecap:butt; stroke-linejoin:round; stroke-width:2; stroke-opacity:0.1; fill:none\" points=\"\n",
       "  752.791,1486.45 752.791,47.2441 \n",
       "  \"/>\n",
       "<polyline clip-path=\"url(#clip372)\" style=\"stroke:#000000; stroke-linecap:butt; stroke-linejoin:round; stroke-width:2; stroke-opacity:0.1; fill:none\" points=\"\n",
       "  1106.71,1486.45 1106.71,47.2441 \n",
       "  \"/>\n",
       "<polyline clip-path=\"url(#clip372)\" style=\"stroke:#000000; stroke-linecap:butt; stroke-linejoin:round; stroke-width:2; stroke-opacity:0.1; fill:none\" points=\"\n",
       "  1460.62,1486.45 1460.62,47.2441 \n",
       "  \"/>\n",
       "<polyline clip-path=\"url(#clip372)\" style=\"stroke:#000000; stroke-linecap:butt; stroke-linejoin:round; stroke-width:2; stroke-opacity:0.1; fill:none\" points=\"\n",
       "  1814.54,1486.45 1814.54,47.2441 \n",
       "  \"/>\n",
       "<polyline clip-path=\"url(#clip372)\" style=\"stroke:#000000; stroke-linecap:butt; stroke-linejoin:round; stroke-width:2; stroke-opacity:0.1; fill:none\" points=\"\n",
       "  2168.46,1486.45 2168.46,47.2441 \n",
       "  \"/>\n",
       "<polyline clip-path=\"url(#clip370)\" style=\"stroke:#000000; stroke-linecap:butt; stroke-linejoin:round; stroke-width:4; stroke-opacity:1; fill:none\" points=\"\n",
       "  305.178,1486.45 2352.76,1486.45 \n",
       "  \"/>\n",
       "<polyline clip-path=\"url(#clip370)\" style=\"stroke:#000000; stroke-linecap:butt; stroke-linejoin:round; stroke-width:4; stroke-opacity:1; fill:none\" points=\"\n",
       "  398.874,1486.45 398.874,1467.55 \n",
       "  \"/>\n",
       "<polyline clip-path=\"url(#clip370)\" style=\"stroke:#000000; stroke-linecap:butt; stroke-linejoin:round; stroke-width:4; stroke-opacity:1; fill:none\" points=\"\n",
       "  752.791,1486.45 752.791,1467.55 \n",
       "  \"/>\n",
       "<polyline clip-path=\"url(#clip370)\" style=\"stroke:#000000; stroke-linecap:butt; stroke-linejoin:round; stroke-width:4; stroke-opacity:1; fill:none\" points=\"\n",
       "  1106.71,1486.45 1106.71,1467.55 \n",
       "  \"/>\n",
       "<polyline clip-path=\"url(#clip370)\" style=\"stroke:#000000; stroke-linecap:butt; stroke-linejoin:round; stroke-width:4; stroke-opacity:1; fill:none\" points=\"\n",
       "  1460.62,1486.45 1460.62,1467.55 \n",
       "  \"/>\n",
       "<polyline clip-path=\"url(#clip370)\" style=\"stroke:#000000; stroke-linecap:butt; stroke-linejoin:round; stroke-width:4; stroke-opacity:1; fill:none\" points=\"\n",
       "  1814.54,1486.45 1814.54,1467.55 \n",
       "  \"/>\n",
       "<polyline clip-path=\"url(#clip370)\" style=\"stroke:#000000; stroke-linecap:butt; stroke-linejoin:round; stroke-width:4; stroke-opacity:1; fill:none\" points=\"\n",
       "  2168.46,1486.45 2168.46,1467.55 \n",
       "  \"/>\n",
       "<path clip-path=\"url(#clip370)\" d=\"M368.515 1532.02 L398.191 1532.02 L398.191 1535.95 L368.515 1535.95 L368.515 1532.02 Z\" fill=\"#000000\" fill-rule=\"evenodd\" fill-opacity=\"1\" /><path clip-path=\"url(#clip370)\" d=\"M408.33 1514.29 L426.686 1514.29 L426.686 1518.22 L412.612 1518.22 L412.612 1526.7 Q413.631 1526.35 414.649 1526.19 Q415.668 1526 416.686 1526 Q422.473 1526 425.853 1529.17 Q429.233 1532.34 429.233 1537.76 Q429.233 1543.34 425.76 1546.44 Q422.288 1549.52 415.969 1549.52 Q413.793 1549.52 411.524 1549.15 Q409.279 1548.78 406.872 1548.04 L406.872 1543.34 Q408.955 1544.47 411.177 1545.03 Q413.399 1545.58 415.876 1545.58 Q419.881 1545.58 422.219 1543.48 Q424.557 1541.37 424.557 1537.76 Q424.557 1534.15 422.219 1532.04 Q419.881 1529.94 415.876 1529.94 Q414.001 1529.94 412.126 1530.35 Q410.274 1530.77 408.33 1531.65 L408.33 1514.29 Z\" fill=\"#000000\" fill-rule=\"evenodd\" fill-opacity=\"1\" /><path clip-path=\"url(#clip370)\" d=\"M752.791 1517.37 Q749.18 1517.37 747.351 1520.93 Q745.545 1524.47 745.545 1531.6 Q745.545 1538.71 747.351 1542.27 Q749.18 1545.82 752.791 1545.82 Q756.425 1545.82 758.231 1542.27 Q760.059 1538.71 760.059 1531.6 Q760.059 1524.47 758.231 1520.93 Q756.425 1517.37 752.791 1517.37 M752.791 1513.66 Q758.601 1513.66 761.656 1518.27 Q764.735 1522.85 764.735 1531.6 Q764.735 1540.33 761.656 1544.94 Q758.601 1549.52 752.791 1549.52 Q746.981 1549.52 743.902 1544.94 Q740.846 1540.33 740.846 1531.6 Q740.846 1522.85 743.902 1518.27 Q746.981 1513.66 752.791 1513.66 Z\" fill=\"#000000\" fill-rule=\"evenodd\" fill-opacity=\"1\" /><path clip-path=\"url(#clip370)\" d=\"M1096.99 1514.29 L1115.34 1514.29 L1115.34 1518.22 L1101.27 1518.22 L1101.27 1526.7 Q1102.29 1526.35 1103.3 1526.19 Q1104.32 1526 1105.34 1526 Q1111.13 1526 1114.51 1529.17 Q1117.89 1532.34 1117.89 1537.76 Q1117.89 1543.34 1114.42 1546.44 Q1110.94 1549.52 1104.62 1549.52 Q1102.45 1549.52 1100.18 1549.15 Q1097.93 1548.78 1095.53 1548.04 L1095.53 1543.34 Q1097.61 1544.47 1099.83 1545.03 Q1102.05 1545.58 1104.53 1545.58 Q1108.54 1545.58 1110.87 1543.48 Q1113.21 1541.37 1113.21 1537.76 Q1113.21 1534.15 1110.87 1532.04 Q1108.54 1529.94 1104.53 1529.94 Q1102.66 1529.94 1100.78 1530.35 Q1098.93 1530.77 1096.99 1531.65 L1096.99 1514.29 Z\" fill=\"#000000\" fill-rule=\"evenodd\" fill-opacity=\"1\" /><path clip-path=\"url(#clip370)\" d=\"M1435.31 1544.91 L1442.95 1544.91 L1442.95 1518.55 L1434.64 1520.21 L1434.64 1515.95 L1442.9 1514.29 L1447.58 1514.29 L1447.58 1544.91 L1455.22 1544.91 L1455.22 1548.85 L1435.31 1548.85 L1435.31 1544.91 Z\" fill=\"#000000\" fill-rule=\"evenodd\" fill-opacity=\"1\" /><path clip-path=\"url(#clip370)\" d=\"M1474.66 1517.37 Q1471.05 1517.37 1469.22 1520.93 Q1467.42 1524.47 1467.42 1531.6 Q1467.42 1538.71 1469.22 1542.27 Q1471.05 1545.82 1474.66 1545.82 Q1478.3 1545.82 1480.1 1542.27 Q1481.93 1538.71 1481.93 1531.6 Q1481.93 1524.47 1480.1 1520.93 Q1478.3 1517.37 1474.66 1517.37 M1474.66 1513.66 Q1480.47 1513.66 1483.53 1518.27 Q1486.61 1522.85 1486.61 1531.6 Q1486.61 1540.33 1483.53 1544.94 Q1480.47 1549.52 1474.66 1549.52 Q1468.85 1549.52 1465.77 1544.94 Q1462.72 1540.33 1462.72 1531.6 Q1462.72 1522.85 1465.77 1518.27 Q1468.85 1513.66 1474.66 1513.66 Z\" fill=\"#000000\" fill-rule=\"evenodd\" fill-opacity=\"1\" /><path clip-path=\"url(#clip370)\" d=\"M1789.73 1544.91 L1797.36 1544.91 L1797.36 1518.55 L1789.05 1520.21 L1789.05 1515.95 L1797.32 1514.29 L1801.99 1514.29 L1801.99 1544.91 L1809.63 1544.91 L1809.63 1548.85 L1789.73 1548.85 L1789.73 1544.91 Z\" fill=\"#000000\" fill-rule=\"evenodd\" fill-opacity=\"1\" /><path clip-path=\"url(#clip370)\" d=\"M1819.12 1514.29 L1837.48 1514.29 L1837.48 1518.22 L1823.41 1518.22 L1823.41 1526.7 Q1824.42 1526.35 1825.44 1526.19 Q1826.46 1526 1827.48 1526 Q1833.27 1526 1836.65 1529.17 Q1840.03 1532.34 1840.03 1537.76 Q1840.03 1543.34 1836.55 1546.44 Q1833.08 1549.52 1826.76 1549.52 Q1824.59 1549.52 1822.32 1549.15 Q1820.07 1548.78 1817.67 1548.04 L1817.67 1543.34 Q1819.75 1544.47 1821.97 1545.03 Q1824.19 1545.58 1826.67 1545.58 Q1830.67 1545.58 1833.01 1543.48 Q1835.35 1541.37 1835.35 1537.76 Q1835.35 1534.15 1833.01 1532.04 Q1830.67 1529.94 1826.67 1529.94 Q1824.8 1529.94 1822.92 1530.35 Q1821.07 1530.77 1819.12 1531.65 L1819.12 1514.29 Z\" fill=\"#000000\" fill-rule=\"evenodd\" fill-opacity=\"1\" /><path clip-path=\"url(#clip370)\" d=\"M2147.23 1544.91 L2163.55 1544.91 L2163.55 1548.85 L2141.61 1548.85 L2141.61 1544.91 Q2144.27 1542.16 2148.85 1537.53 Q2153.46 1532.88 2154.64 1531.53 Q2156.88 1529.01 2157.76 1527.27 Q2158.67 1525.51 2158.67 1523.82 Q2158.67 1521.07 2156.72 1519.33 Q2154.8 1517.6 2151.7 1517.6 Q2149.5 1517.6 2147.05 1518.36 Q2144.61 1519.13 2141.84 1520.68 L2141.84 1515.95 Q2144.66 1514.82 2147.11 1514.24 Q2149.57 1513.66 2151.61 1513.66 Q2156.98 1513.66 2160.17 1516.35 Q2163.36 1519.03 2163.36 1523.52 Q2163.36 1525.65 2162.55 1527.57 Q2161.77 1529.47 2159.66 1532.07 Q2159.08 1532.74 2155.98 1535.95 Q2152.88 1539.15 2147.23 1544.91 Z\" fill=\"#000000\" fill-rule=\"evenodd\" fill-opacity=\"1\" /><path clip-path=\"url(#clip370)\" d=\"M2183.36 1517.37 Q2179.75 1517.37 2177.92 1520.93 Q2176.12 1524.47 2176.12 1531.6 Q2176.12 1538.71 2177.92 1542.27 Q2179.75 1545.82 2183.36 1545.82 Q2187 1545.82 2188.8 1542.27 Q2190.63 1538.71 2190.63 1531.6 Q2190.63 1524.47 2188.8 1520.93 Q2187 1517.37 2183.36 1517.37 M2183.36 1513.66 Q2189.17 1513.66 2192.23 1518.27 Q2195.31 1522.85 2195.31 1531.6 Q2195.31 1540.33 2192.23 1544.94 Q2189.17 1549.52 2183.36 1549.52 Q2177.55 1549.52 2174.48 1544.94 Q2171.42 1540.33 2171.42 1531.6 Q2171.42 1522.85 2174.48 1518.27 Q2177.55 1513.66 2183.36 1513.66 Z\" fill=\"#000000\" fill-rule=\"evenodd\" fill-opacity=\"1\" /><polyline clip-path=\"url(#clip372)\" style=\"stroke:#000000; stroke-linecap:butt; stroke-linejoin:round; stroke-width:2; stroke-opacity:0.1; fill:none\" points=\"\n",
       "  305.178,1445.72 2352.76,1445.72 \n",
       "  \"/>\n",
       "<polyline clip-path=\"url(#clip372)\" style=\"stroke:#000000; stroke-linecap:butt; stroke-linejoin:round; stroke-width:2; stroke-opacity:0.1; fill:none\" points=\"\n",
       "  305.178,1205.44 2352.76,1205.44 \n",
       "  \"/>\n",
       "<polyline clip-path=\"url(#clip372)\" style=\"stroke:#000000; stroke-linecap:butt; stroke-linejoin:round; stroke-width:2; stroke-opacity:0.1; fill:none\" points=\"\n",
       "  305.178,965.169 2352.76,965.169 \n",
       "  \"/>\n",
       "<polyline clip-path=\"url(#clip372)\" style=\"stroke:#000000; stroke-linecap:butt; stroke-linejoin:round; stroke-width:2; stroke-opacity:0.1; fill:none\" points=\"\n",
       "  305.178,724.895 2352.76,724.895 \n",
       "  \"/>\n",
       "<polyline clip-path=\"url(#clip372)\" style=\"stroke:#000000; stroke-linecap:butt; stroke-linejoin:round; stroke-width:2; stroke-opacity:0.1; fill:none\" points=\"\n",
       "  305.178,484.622 2352.76,484.622 \n",
       "  \"/>\n",
       "<polyline clip-path=\"url(#clip372)\" style=\"stroke:#000000; stroke-linecap:butt; stroke-linejoin:round; stroke-width:2; stroke-opacity:0.1; fill:none\" points=\"\n",
       "  305.178,244.348 2352.76,244.348 \n",
       "  \"/>\n",
       "<polyline clip-path=\"url(#clip370)\" style=\"stroke:#000000; stroke-linecap:butt; stroke-linejoin:round; stroke-width:4; stroke-opacity:1; fill:none\" points=\"\n",
       "  305.178,1486.45 305.178,47.2441 \n",
       "  \"/>\n",
       "<polyline clip-path=\"url(#clip370)\" style=\"stroke:#000000; stroke-linecap:butt; stroke-linejoin:round; stroke-width:4; stroke-opacity:1; fill:none\" points=\"\n",
       "  305.178,1445.72 324.076,1445.72 \n",
       "  \"/>\n",
       "<polyline clip-path=\"url(#clip370)\" style=\"stroke:#000000; stroke-linecap:butt; stroke-linejoin:round; stroke-width:4; stroke-opacity:1; fill:none\" points=\"\n",
       "  305.178,1205.44 324.076,1205.44 \n",
       "  \"/>\n",
       "<polyline clip-path=\"url(#clip370)\" style=\"stroke:#000000; stroke-linecap:butt; stroke-linejoin:round; stroke-width:4; stroke-opacity:1; fill:none\" points=\"\n",
       "  305.178,965.169 324.076,965.169 \n",
       "  \"/>\n",
       "<polyline clip-path=\"url(#clip370)\" style=\"stroke:#000000; stroke-linecap:butt; stroke-linejoin:round; stroke-width:4; stroke-opacity:1; fill:none\" points=\"\n",
       "  305.178,724.895 324.076,724.895 \n",
       "  \"/>\n",
       "<polyline clip-path=\"url(#clip370)\" style=\"stroke:#000000; stroke-linecap:butt; stroke-linejoin:round; stroke-width:4; stroke-opacity:1; fill:none\" points=\"\n",
       "  305.178,484.622 324.076,484.622 \n",
       "  \"/>\n",
       "<polyline clip-path=\"url(#clip370)\" style=\"stroke:#000000; stroke-linecap:butt; stroke-linejoin:round; stroke-width:4; stroke-opacity:1; fill:none\" points=\"\n",
       "  305.178,244.348 324.076,244.348 \n",
       "  \"/>\n",
       "<path clip-path=\"url(#clip370)\" d=\"M257.234 1431.51 Q253.623 1431.51 251.794 1435.08 Q249.988 1438.62 249.988 1445.75 Q249.988 1452.86 251.794 1456.42 Q253.623 1459.96 257.234 1459.96 Q260.868 1459.96 262.674 1456.42 Q264.502 1452.86 264.502 1445.75 Q264.502 1438.62 262.674 1435.08 Q260.868 1431.51 257.234 1431.51 M257.234 1427.81 Q263.044 1427.81 266.099 1432.42 Q269.178 1437 269.178 1445.75 Q269.178 1454.48 266.099 1459.08 Q263.044 1463.67 257.234 1463.67 Q251.424 1463.67 248.345 1459.08 Q245.289 1454.48 245.289 1445.75 Q245.289 1437 248.345 1432.42 Q251.424 1427.81 257.234 1427.81 Z\" fill=\"#000000\" fill-rule=\"evenodd\" fill-opacity=\"1\" /><path clip-path=\"url(#clip370)\" d=\"M52.4505 1194.61 L70.8068 1194.61 L70.8068 1198.54 L56.7328 1198.54 L56.7328 1207.02 Q57.7513 1206.67 58.7699 1206.51 Q59.7884 1206.32 60.8069 1206.32 Q66.5939 1206.32 69.9735 1209.49 Q73.3531 1212.67 73.3531 1218.08 Q73.3531 1223.66 69.8809 1226.76 Q66.4087 1229.84 60.0893 1229.84 Q57.9134 1229.84 55.6449 1229.47 Q53.3995 1229.1 50.9921 1228.36 L50.9921 1223.66 Q53.0754 1224.79 55.2977 1225.35 Q57.5199 1225.91 59.9967 1225.91 Q64.0013 1225.91 66.3393 1223.8 Q68.6772 1221.69 68.6772 1218.08 Q68.6772 1214.47 66.3393 1212.36 Q64.0013 1210.26 59.9967 1210.26 Q58.1217 1210.26 56.2467 1210.67 Q54.3949 1211.09 52.4505 1211.97 L52.4505 1194.61 Z\" fill=\"#000000\" fill-rule=\"evenodd\" fill-opacity=\"1\" /><path clip-path=\"url(#clip370)\" d=\"M82.566 1223.29 L87.4503 1223.29 L87.4503 1229.17 L82.566 1229.17 L82.566 1223.29 Z\" fill=\"#000000\" fill-rule=\"evenodd\" fill-opacity=\"1\" /><path clip-path=\"url(#clip370)\" d=\"M107.635 1197.69 Q104.024 1197.69 102.196 1201.25 Q100.39 1204.79 100.39 1211.92 Q100.39 1219.03 102.196 1222.6 Q104.024 1226.14 107.635 1226.14 Q111.27 1226.14 113.075 1222.6 Q114.904 1219.03 114.904 1211.92 Q114.904 1204.79 113.075 1201.25 Q111.27 1197.69 107.635 1197.69 M107.635 1193.98 Q113.445 1193.98 116.501 1198.59 Q119.58 1203.17 119.58 1211.92 Q119.58 1220.65 116.501 1225.26 Q113.445 1229.84 107.635 1229.84 Q101.825 1229.84 98.7465 1225.26 Q95.691 1220.65 95.691 1211.92 Q95.691 1203.17 98.7465 1198.59 Q101.825 1193.98 107.635 1193.98 Z\" fill=\"#000000\" fill-rule=\"evenodd\" fill-opacity=\"1\" /><path clip-path=\"url(#clip370)\" d=\"M137.797 1197.69 Q134.186 1197.69 132.357 1201.25 Q130.552 1204.79 130.552 1211.92 Q130.552 1219.03 132.357 1222.6 Q134.186 1226.14 137.797 1226.14 Q141.431 1226.14 143.237 1222.6 Q145.066 1219.03 145.066 1211.92 Q145.066 1204.79 143.237 1201.25 Q141.431 1197.69 137.797 1197.69 M137.797 1193.98 Q143.607 1193.98 146.663 1198.59 Q149.742 1203.17 149.742 1211.92 Q149.742 1220.65 146.663 1225.26 Q143.607 1229.84 137.797 1229.84 Q131.987 1229.84 128.908 1225.26 Q125.853 1220.65 125.853 1211.92 Q125.853 1203.17 128.908 1198.59 Q131.987 1193.98 137.797 1193.98 Z\" fill=\"#000000\" fill-rule=\"evenodd\" fill-opacity=\"1\" /><path clip-path=\"url(#clip370)\" d=\"M186.13 1203.71 L175.552 1214.33 L186.13 1224.91 L183.376 1227.71 L172.751 1217.09 L162.126 1227.71 L159.394 1224.91 L169.95 1214.33 L159.394 1203.71 L162.126 1200.91 L172.751 1211.53 L183.376 1200.91 L186.13 1203.71 Z\" fill=\"#000000\" fill-rule=\"evenodd\" fill-opacity=\"1\" /><path clip-path=\"url(#clip370)\" d=\"M198.491 1225.23 L206.13 1225.23 L206.13 1198.87 L197.82 1200.54 L197.82 1196.28 L206.084 1194.61 L210.76 1194.61 L210.76 1225.23 L218.399 1225.23 L218.399 1229.17 L198.491 1229.17 L198.491 1225.23 Z\" fill=\"#000000\" fill-rule=\"evenodd\" fill-opacity=\"1\" /><path clip-path=\"url(#clip370)\" d=\"M237.843 1197.69 Q234.232 1197.69 232.403 1201.25 Q230.598 1204.79 230.598 1211.92 Q230.598 1219.03 232.403 1222.6 Q234.232 1226.14 237.843 1226.14 Q241.477 1226.14 243.283 1222.6 Q245.111 1219.03 245.111 1211.92 Q245.111 1204.79 243.283 1201.25 Q241.477 1197.69 237.843 1197.69 M237.843 1193.98 Q243.653 1193.98 246.709 1198.59 Q249.787 1203.17 249.787 1211.92 Q249.787 1220.65 246.709 1225.26 Q243.653 1229.84 237.843 1229.84 Q232.033 1229.84 228.954 1225.26 Q225.899 1220.65 225.899 1211.92 Q225.899 1203.17 228.954 1198.59 Q232.033 1193.98 237.843 1193.98 Z\" fill=\"#000000\" fill-rule=\"evenodd\" fill-opacity=\"1\" /><path clip-path=\"url(#clip370)\" d=\"M259.812 1186.21 Q257.254 1186.21 255.749 1187.95 Q254.264 1189.7 254.264 1192.75 Q254.264 1195.78 255.749 1197.55 Q257.254 1199.3 259.812 1199.3 Q262.37 1199.3 263.856 1197.55 Q265.36 1195.78 265.36 1192.75 Q265.36 1189.7 263.856 1187.95 Q262.37 1186.21 259.812 1186.21 M267.354 1174.3 L267.354 1177.76 Q265.924 1177.08 264.457 1176.73 Q263.009 1176.37 261.58 1176.37 Q257.818 1176.37 255.825 1178.91 Q253.85 1181.45 253.568 1186.58 Q254.677 1184.95 256.351 1184.08 Q258.025 1183.2 260.038 1183.2 Q264.269 1183.2 266.714 1185.77 Q269.178 1188.33 269.178 1192.75 Q269.178 1197.08 266.62 1199.69 Q264.062 1202.3 259.812 1202.3 Q254.941 1202.3 252.364 1198.58 Q249.787 1194.84 249.787 1187.75 Q249.787 1181.09 252.947 1177.14 Q256.107 1173.17 261.429 1173.17 Q262.859 1173.17 264.307 1173.45 Q265.774 1173.74 267.354 1174.3 Z\" fill=\"#000000\" fill-rule=\"evenodd\" fill-opacity=\"1\" /><path clip-path=\"url(#clip370)\" d=\"M54.5497 984.961 L62.1885 984.961 L62.1885 958.595 L53.8784 960.262 L53.8784 956.003 L62.1422 954.336 L66.8181 954.336 L66.8181 984.961 L74.457 984.961 L74.457 988.896 L54.5497 988.896 L54.5497 984.961 Z\" fill=\"#000000\" fill-rule=\"evenodd\" fill-opacity=\"1\" /><path clip-path=\"url(#clip370)\" d=\"M83.9014 983.017 L88.7856 983.017 L88.7856 988.896 L83.9014 988.896 L83.9014 983.017 Z\" fill=\"#000000\" fill-rule=\"evenodd\" fill-opacity=\"1\" /><path clip-path=\"url(#clip370)\" d=\"M108.971 957.415 Q105.36 957.415 103.531 960.98 Q101.725 964.521 101.725 971.651 Q101.725 978.757 103.531 982.322 Q105.36 985.864 108.971 985.864 Q112.605 985.864 114.41 982.322 Q116.239 978.757 116.239 971.651 Q116.239 964.521 114.41 960.98 Q112.605 957.415 108.971 957.415 M108.971 953.711 Q114.781 953.711 117.836 958.318 Q120.915 962.901 120.915 971.651 Q120.915 980.378 117.836 984.984 Q114.781 989.568 108.971 989.568 Q103.161 989.568 100.082 984.984 Q97.0263 980.378 97.0263 971.651 Q97.0263 962.901 100.082 958.318 Q103.161 953.711 108.971 953.711 Z\" fill=\"#000000\" fill-rule=\"evenodd\" fill-opacity=\"1\" /><path clip-path=\"url(#clip370)\" d=\"M139.133 957.415 Q135.521 957.415 133.693 960.98 Q131.887 964.521 131.887 971.651 Q131.887 978.757 133.693 982.322 Q135.521 985.864 139.133 985.864 Q142.767 985.864 144.572 982.322 Q146.401 978.757 146.401 971.651 Q146.401 964.521 144.572 960.98 Q142.767 957.415 139.133 957.415 M139.133 953.711 Q144.943 953.711 147.998 958.318 Q151.077 962.901 151.077 971.651 Q151.077 980.378 147.998 984.984 Q144.943 989.568 139.133 989.568 Q133.322 989.568 130.244 984.984 Q127.188 980.378 127.188 971.651 Q127.188 962.901 130.244 958.318 Q133.322 953.711 139.133 953.711 Z\" fill=\"#000000\" fill-rule=\"evenodd\" fill-opacity=\"1\" /><path clip-path=\"url(#clip370)\" d=\"M187.466 963.433 L176.887 974.058 L187.466 984.637 L184.711 987.438 L174.086 976.813 L163.461 987.438 L160.73 984.637 L171.285 974.058 L160.73 963.433 L163.461 960.633 L174.086 971.257 L184.711 960.633 L187.466 963.433 Z\" fill=\"#000000\" fill-rule=\"evenodd\" fill-opacity=\"1\" /><path clip-path=\"url(#clip370)\" d=\"M199.827 984.961 L207.466 984.961 L207.466 958.595 L199.155 960.262 L199.155 956.003 L207.419 954.336 L212.095 954.336 L212.095 984.961 L219.734 984.961 L219.734 988.896 L199.827 988.896 L199.827 984.961 Z\" fill=\"#000000\" fill-rule=\"evenodd\" fill-opacity=\"1\" /><path clip-path=\"url(#clip370)\" d=\"M239.178 957.415 Q235.567 957.415 233.739 960.98 Q231.933 964.521 231.933 971.651 Q231.933 978.757 233.739 982.322 Q235.567 985.864 239.178 985.864 Q242.813 985.864 244.618 982.322 Q246.447 978.757 246.447 971.651 Q246.447 964.521 244.618 960.98 Q242.813 957.415 239.178 957.415 M239.178 953.711 Q244.988 953.711 248.044 958.318 Q251.123 962.901 251.123 971.651 Q251.123 980.378 248.044 984.984 Q244.988 989.568 239.178 989.568 Q233.368 989.568 230.289 984.984 Q227.234 980.378 227.234 971.651 Q227.234 962.901 230.289 958.318 Q233.368 953.711 239.178 953.711 Z\" fill=\"#000000\" fill-rule=\"evenodd\" fill-opacity=\"1\" /><path clip-path=\"url(#clip370)\" d=\"M251.123 933.406 L269.178 933.406 L269.178 935.023 L258.984 961.486 L255.016 961.486 L264.608 936.603 L251.123 936.603 L251.123 933.406 Z\" fill=\"#000000\" fill-rule=\"evenodd\" fill-opacity=\"1\" /><path clip-path=\"url(#clip370)\" d=\"M54.5497 744.688 L62.1885 744.688 L62.1885 718.322 L53.8784 719.989 L53.8784 715.729 L62.1422 714.063 L66.8181 714.063 L66.8181 744.688 L74.457 744.688 L74.457 748.623 L54.5497 748.623 L54.5497 744.688 Z\" fill=\"#000000\" fill-rule=\"evenodd\" fill-opacity=\"1\" /><path clip-path=\"url(#clip370)\" d=\"M83.9014 742.743 L88.7856 742.743 L88.7856 748.623 L83.9014 748.623 L83.9014 742.743 Z\" fill=\"#000000\" fill-rule=\"evenodd\" fill-opacity=\"1\" /><path clip-path=\"url(#clip370)\" d=\"M99.017 714.063 L117.373 714.063 L117.373 717.998 L103.299 717.998 L103.299 726.47 Q104.318 726.123 105.336 725.961 Q106.355 725.776 107.373 725.776 Q113.16 725.776 116.54 728.947 Q119.92 732.118 119.92 737.535 Q119.92 743.114 116.448 746.215 Q112.975 749.294 106.656 749.294 Q104.48 749.294 102.211 748.924 Q99.9661 748.553 97.5587 747.813 L97.5587 743.114 Q99.642 744.248 101.864 744.803 Q104.086 745.359 106.563 745.359 Q110.568 745.359 112.906 743.252 Q115.244 741.146 115.244 737.535 Q115.244 733.924 112.906 731.817 Q110.568 729.711 106.563 729.711 Q104.688 729.711 102.813 730.127 Q100.961 730.544 99.017 731.424 L99.017 714.063 Z\" fill=\"#000000\" fill-rule=\"evenodd\" fill-opacity=\"1\" /><path clip-path=\"url(#clip370)\" d=\"M139.133 717.141 Q135.521 717.141 133.693 720.706 Q131.887 724.248 131.887 731.377 Q131.887 738.484 133.693 742.049 Q135.521 745.59 139.133 745.59 Q142.767 745.59 144.572 742.049 Q146.401 738.484 146.401 731.377 Q146.401 724.248 144.572 720.706 Q142.767 717.141 139.133 717.141 M139.133 713.438 Q144.943 713.438 147.998 718.044 Q151.077 722.628 151.077 731.377 Q151.077 740.104 147.998 744.711 Q144.943 749.294 139.133 749.294 Q133.322 749.294 130.244 744.711 Q127.188 740.104 127.188 731.377 Q127.188 722.628 130.244 718.044 Q133.322 713.438 139.133 713.438 Z\" fill=\"#000000\" fill-rule=\"evenodd\" fill-opacity=\"1\" /><path clip-path=\"url(#clip370)\" d=\"M187.466 723.16 L176.887 733.785 L187.466 744.364 L184.711 747.164 L174.086 736.539 L163.461 747.164 L160.73 744.364 L171.285 733.785 L160.73 723.16 L163.461 720.359 L174.086 730.984 L184.711 720.359 L187.466 723.16 Z\" fill=\"#000000\" fill-rule=\"evenodd\" fill-opacity=\"1\" /><path clip-path=\"url(#clip370)\" d=\"M199.827 744.688 L207.466 744.688 L207.466 718.322 L199.155 719.989 L199.155 715.729 L207.419 714.063 L212.095 714.063 L212.095 744.688 L219.734 744.688 L219.734 748.623 L199.827 748.623 L199.827 744.688 Z\" fill=\"#000000\" fill-rule=\"evenodd\" fill-opacity=\"1\" /><path clip-path=\"url(#clip370)\" d=\"M239.178 717.141 Q235.567 717.141 233.739 720.706 Q231.933 724.248 231.933 731.377 Q231.933 738.484 233.739 742.049 Q235.567 745.59 239.178 745.59 Q242.813 745.59 244.618 742.049 Q246.447 738.484 246.447 731.377 Q246.447 724.248 244.618 720.706 Q242.813 717.141 239.178 717.141 M239.178 713.438 Q244.988 713.438 248.044 718.044 Q251.123 722.628 251.123 731.377 Q251.123 740.104 248.044 744.711 Q244.988 749.294 239.178 749.294 Q233.368 749.294 230.289 744.711 Q227.234 740.104 227.234 731.377 Q227.234 722.628 230.289 718.044 Q233.368 713.438 239.178 713.438 Z\" fill=\"#000000\" fill-rule=\"evenodd\" fill-opacity=\"1\" /><path clip-path=\"url(#clip370)\" d=\"M251.123 693.132 L269.178 693.132 L269.178 694.75 L258.984 721.212 L255.016 721.212 L264.608 696.33 L251.123 696.33 L251.123 693.132 Z\" fill=\"#000000\" fill-rule=\"evenodd\" fill-opacity=\"1\" /><path clip-path=\"url(#clip370)\" d=\"M57.7673 504.414 L74.0866 504.414 L74.0866 508.349 L52.1423 508.349 L52.1423 504.414 Q54.8043 501.659 59.3876 497.03 Q63.9941 492.377 65.1746 491.035 Q67.42 488.511 68.2996 486.775 Q69.2024 485.016 69.2024 483.326 Q69.2024 480.572 67.258 478.835 Q65.3367 477.099 62.2348 477.099 Q60.0358 477.099 57.5821 477.863 Q55.1515 478.627 52.3738 480.178 L52.3738 475.456 Q55.1978 474.322 57.6515 473.743 Q60.1052 473.164 62.1422 473.164 Q67.5126 473.164 70.707 475.849 Q73.9014 478.535 73.9014 483.025 Q73.9014 485.155 73.0913 487.076 Q72.3042 488.974 70.1978 491.567 Q69.6191 492.238 66.5172 495.456 Q63.4154 498.65 57.7673 504.414 Z\" fill=\"#000000\" fill-rule=\"evenodd\" fill-opacity=\"1\" /><path clip-path=\"url(#clip370)\" d=\"M83.9014 502.47 L88.7856 502.47 L88.7856 508.349 L83.9014 508.349 L83.9014 502.47 Z\" fill=\"#000000\" fill-rule=\"evenodd\" fill-opacity=\"1\" /><path clip-path=\"url(#clip370)\" d=\"M108.971 476.868 Q105.36 476.868 103.531 480.433 Q101.725 483.974 101.725 491.104 Q101.725 498.21 103.531 501.775 Q105.36 505.317 108.971 505.317 Q112.605 505.317 114.41 501.775 Q116.239 498.21 116.239 491.104 Q116.239 483.974 114.41 480.433 Q112.605 476.868 108.971 476.868 M108.971 473.164 Q114.781 473.164 117.836 477.771 Q120.915 482.354 120.915 491.104 Q120.915 499.831 117.836 504.437 Q114.781 509.021 108.971 509.021 Q103.161 509.021 100.082 504.437 Q97.0263 499.831 97.0263 491.104 Q97.0263 482.354 100.082 477.771 Q103.161 473.164 108.971 473.164 Z\" fill=\"#000000\" fill-rule=\"evenodd\" fill-opacity=\"1\" /><path clip-path=\"url(#clip370)\" d=\"M139.133 476.868 Q135.521 476.868 133.693 480.433 Q131.887 483.974 131.887 491.104 Q131.887 498.21 133.693 501.775 Q135.521 505.317 139.133 505.317 Q142.767 505.317 144.572 501.775 Q146.401 498.21 146.401 491.104 Q146.401 483.974 144.572 480.433 Q142.767 476.868 139.133 476.868 M139.133 473.164 Q144.943 473.164 147.998 477.771 Q151.077 482.354 151.077 491.104 Q151.077 499.831 147.998 504.437 Q144.943 509.021 139.133 509.021 Q133.322 509.021 130.244 504.437 Q127.188 499.831 127.188 491.104 Q127.188 482.354 130.244 477.771 Q133.322 473.164 139.133 473.164 Z\" fill=\"#000000\" fill-rule=\"evenodd\" fill-opacity=\"1\" /><path clip-path=\"url(#clip370)\" d=\"M187.466 482.886 L176.887 493.511 L187.466 504.09 L184.711 506.891 L174.086 496.266 L163.461 506.891 L160.73 504.09 L171.285 493.511 L160.73 482.886 L163.461 480.085 L174.086 490.71 L184.711 480.085 L187.466 482.886 Z\" fill=\"#000000\" fill-rule=\"evenodd\" fill-opacity=\"1\" /><path clip-path=\"url(#clip370)\" d=\"M199.827 504.414 L207.466 504.414 L207.466 478.048 L199.155 479.715 L199.155 475.456 L207.419 473.789 L212.095 473.789 L212.095 504.414 L219.734 504.414 L219.734 508.349 L199.827 508.349 L199.827 504.414 Z\" fill=\"#000000\" fill-rule=\"evenodd\" fill-opacity=\"1\" /><path clip-path=\"url(#clip370)\" d=\"M239.178 476.868 Q235.567 476.868 233.739 480.433 Q231.933 483.974 231.933 491.104 Q231.933 498.21 233.739 501.775 Q235.567 505.317 239.178 505.317 Q242.813 505.317 244.618 501.775 Q246.447 498.21 246.447 491.104 Q246.447 483.974 244.618 480.433 Q242.813 476.868 239.178 476.868 M239.178 473.164 Q244.988 473.164 248.044 477.771 Q251.123 482.354 251.123 491.104 Q251.123 499.831 248.044 504.437 Q244.988 509.021 239.178 509.021 Q233.368 509.021 230.289 504.437 Q227.234 499.831 227.234 491.104 Q227.234 482.354 230.289 477.771 Q233.368 473.164 239.178 473.164 Z\" fill=\"#000000\" fill-rule=\"evenodd\" fill-opacity=\"1\" /><path clip-path=\"url(#clip370)\" d=\"M251.123 452.859 L269.178 452.859 L269.178 454.476 L258.984 480.939 L255.016 480.939 L264.608 456.056 L251.123 456.056 L251.123 452.859 Z\" fill=\"#000000\" fill-rule=\"evenodd\" fill-opacity=\"1\" /><path clip-path=\"url(#clip370)\" d=\"M57.7673 264.141 L74.0866 264.141 L74.0866 268.076 L52.1423 268.076 L52.1423 264.141 Q54.8043 261.386 59.3876 256.756 Q63.9941 252.104 65.1746 250.761 Q67.42 248.238 68.2996 246.502 Q69.2024 244.742 69.2024 243.053 Q69.2024 240.298 67.258 238.562 Q65.3367 236.826 62.2348 236.826 Q60.0358 236.826 57.5821 237.59 Q55.1515 238.354 52.3738 239.905 L52.3738 235.182 Q55.1978 234.048 57.6515 233.469 Q60.1052 232.891 62.1422 232.891 Q67.5126 232.891 70.707 235.576 Q73.9014 238.261 73.9014 242.752 Q73.9014 244.881 73.0913 246.803 Q72.3042 248.701 70.1978 251.293 Q69.6191 251.965 66.5172 255.182 Q63.4154 258.377 57.7673 264.141 Z\" fill=\"#000000\" fill-rule=\"evenodd\" fill-opacity=\"1\" /><path clip-path=\"url(#clip370)\" d=\"M83.9014 262.196 L88.7856 262.196 L88.7856 268.076 L83.9014 268.076 L83.9014 262.196 Z\" fill=\"#000000\" fill-rule=\"evenodd\" fill-opacity=\"1\" /><path clip-path=\"url(#clip370)\" d=\"M99.017 233.516 L117.373 233.516 L117.373 237.451 L103.299 237.451 L103.299 245.923 Q104.318 245.576 105.336 245.414 Q106.355 245.229 107.373 245.229 Q113.16 245.229 116.54 248.4 Q119.92 251.571 119.92 256.988 Q119.92 262.566 116.448 265.668 Q112.975 268.747 106.656 268.747 Q104.48 268.747 102.211 268.377 Q99.9661 268.006 97.5587 267.266 L97.5587 262.566 Q99.642 263.701 101.864 264.256 Q104.086 264.812 106.563 264.812 Q110.568 264.812 112.906 262.705 Q115.244 260.599 115.244 256.988 Q115.244 253.377 112.906 251.27 Q110.568 249.164 106.563 249.164 Q104.688 249.164 102.813 249.58 Q100.961 249.997 99.017 250.877 L99.017 233.516 Z\" fill=\"#000000\" fill-rule=\"evenodd\" fill-opacity=\"1\" /><path clip-path=\"url(#clip370)\" d=\"M139.133 236.594 Q135.521 236.594 133.693 240.159 Q131.887 243.701 131.887 250.83 Q131.887 257.937 133.693 261.502 Q135.521 265.043 139.133 265.043 Q142.767 265.043 144.572 261.502 Q146.401 257.937 146.401 250.83 Q146.401 243.701 144.572 240.159 Q142.767 236.594 139.133 236.594 M139.133 232.891 Q144.943 232.891 147.998 237.497 Q151.077 242.08 151.077 250.83 Q151.077 259.557 147.998 264.164 Q144.943 268.747 139.133 268.747 Q133.322 268.747 130.244 264.164 Q127.188 259.557 127.188 250.83 Q127.188 242.08 130.244 237.497 Q133.322 232.891 139.133 232.891 Z\" fill=\"#000000\" fill-rule=\"evenodd\" fill-opacity=\"1\" /><path clip-path=\"url(#clip370)\" d=\"M187.466 242.613 L176.887 253.238 L187.466 263.816 L184.711 266.617 L174.086 255.992 L163.461 266.617 L160.73 263.816 L171.285 253.238 L160.73 242.613 L163.461 239.812 L174.086 250.437 L184.711 239.812 L187.466 242.613 Z\" fill=\"#000000\" fill-rule=\"evenodd\" fill-opacity=\"1\" /><path clip-path=\"url(#clip370)\" d=\"M199.827 264.141 L207.466 264.141 L207.466 237.775 L199.155 239.442 L199.155 235.182 L207.419 233.516 L212.095 233.516 L212.095 264.141 L219.734 264.141 L219.734 268.076 L199.827 268.076 L199.827 264.141 Z\" fill=\"#000000\" fill-rule=\"evenodd\" fill-opacity=\"1\" /><path clip-path=\"url(#clip370)\" d=\"M239.178 236.594 Q235.567 236.594 233.739 240.159 Q231.933 243.701 231.933 250.83 Q231.933 257.937 233.739 261.502 Q235.567 265.043 239.178 265.043 Q242.813 265.043 244.618 261.502 Q246.447 257.937 246.447 250.83 Q246.447 243.701 244.618 240.159 Q242.813 236.594 239.178 236.594 M239.178 232.891 Q244.988 232.891 248.044 237.497 Q251.123 242.08 251.123 250.83 Q251.123 259.557 248.044 264.164 Q244.988 268.747 239.178 268.747 Q233.368 268.747 230.289 264.164 Q227.234 259.557 227.234 250.83 Q227.234 242.08 230.289 237.497 Q233.368 232.891 239.178 232.891 Z\" fill=\"#000000\" fill-rule=\"evenodd\" fill-opacity=\"1\" /><path clip-path=\"url(#clip370)\" d=\"M251.123 212.585 L269.178 212.585 L269.178 214.203 L258.984 240.665 L255.016 240.665 L264.608 215.783 L251.123 215.783 L251.123 212.585 Z\" fill=\"#000000\" fill-rule=\"evenodd\" fill-opacity=\"1\" /><polyline clip-path=\"url(#clip372)\" style=\"stroke:#009af9; stroke-linecap:butt; stroke-linejoin:round; stroke-width:4; stroke-opacity:1; fill:none\" points=\"\n",
       "  363.128,1445.72 363.128,1445.72 363.482,1445.72 363.482,1445.72 363.836,1445.72 364.19,1445.72 364.19,1445.72 364.544,1445.72 364.544,1445.72 \n",
       "  364.898,1445.72 365.252,1445.72 365.606,1445.72 365.96,1445.72 366.314,1445.72 \n",
       "  366.668,1445.72 367.022,1445.72 367.375,1445.72 367.729,1445.72 368.083,1445.72 \n",
       "  368.437,1445.72 368.791,1445.72 369.145,1445.72 369.499,1445.72 369.853,1445.72 \n",
       "  370.207,1445.72 370.561,1445.72 370.915,1445.72 371.269,1445.72 371.622,1445.72 \n",
       "  371.976,1445.72 372.33,1445.72 372.684,1445.72 373.038,1445.72 373.392,1445.72 \n",
       "  373.746,1445.72 374.1,1445.72 374.454,1445.72 374.808,1445.72 375.162,1445.72 \n",
       "  375.516,1445.72 375.869,1445.72 376.223,1445.72 376.577,1445.72 376.931,1445.72 \n",
       "  377.285,1445.72 377.639,1445.72 377.993,1445.72 378.347,1445.72 378.701,1445.72 \n",
       "  379.055,1445.72 379.409,1445.72 379.763,1445.72 380.116,1445.72 380.47,1445.72 \n",
       "  380.824,1445.72 381.178,1445.72 381.532,1445.72 381.886,1445.72 382.24,1445.72 \n",
       "  382.594,1445.72 382.948,1445.72 383.302,1445.72 383.656,1445.72 384.01,1445.72 \n",
       "  384.363,1445.72 384.717,1445.72 385.071,1445.72 385.425,1445.72 385.779,1445.72 \n",
       "  386.133,1445.72 386.487,1445.72 386.841,1445.72 387.195,1445.72 387.549,1445.72 \n",
       "  387.903,1445.72 388.257,1445.72 388.61,1445.72 388.964,1445.72 389.318,1445.72 \n",
       "  389.672,1445.72 390.026,1445.72 390.38,1445.72 390.734,1445.72 391.088,1445.72 \n",
       "  391.442,1445.72 391.796,1445.72 392.15,1445.72 392.504,1445.72 392.857,1445.72 \n",
       "  393.211,1445.72 393.565,1445.72 393.919,1445.72 394.273,1445.72 394.627,1445.72 \n",
       "  394.981,1445.72 395.335,1445.72 395.689,1445.72 396.043,1445.72 396.397,1445.72 \n",
       "  396.751,1445.72 397.104,1445.72 397.458,1445.72 397.812,1445.72 398.166,1445.72 \n",
       "  398.52,1445.72 398.874,1445.72 399.228,1445.72 399.582,1445.72 399.936,1445.72 \n",
       "  400.29,1445.72 400.644,1445.72 400.998,1445.72 401.351,1445.72 401.705,1445.72 \n",
       "  402.059,1445.72 402.413,1445.72 402.767,1445.72 403.121,1445.72 403.475,1445.72 \n",
       "  403.829,1445.72 404.183,1445.72 404.537,1445.72 404.891,1445.72 405.245,1445.72 \n",
       "  405.598,1445.72 405.952,1445.72 406.306,1445.72 406.66,1445.72 407.014,1445.72 \n",
       "  407.368,1445.72 407.722,1445.72 408.076,1445.72 408.43,1445.72 408.784,1445.72 \n",
       "  409.138,1445.72 409.492,1445.72 409.845,1445.72 410.199,1445.72 410.553,1445.72 \n",
       "  410.907,1445.72 411.261,1445.72 411.615,1445.72 411.969,1445.72 412.323,1445.72 \n",
       "  412.677,1445.72 413.031,1445.72 413.385,1445.72 413.739,1445.72 414.092,1445.72 \n",
       "  414.446,1445.72 414.8,1445.72 415.154,1445.72 415.508,1445.72 415.862,1445.72 \n",
       "  416.216,1445.72 416.57,1445.72 416.924,1445.72 417.278,1445.72 417.632,1445.72 \n",
       "  417.986,1445.72 418.339,1445.72 418.693,1445.72 419.047,1445.72 419.401,1445.72 \n",
       "  419.755,1445.72 420.109,1445.72 420.463,1445.72 420.817,1445.72 421.171,1445.72 \n",
       "  421.525,1445.72 421.879,1445.72 422.233,1445.72 422.586,1445.72 422.94,1445.72 \n",
       "  423.294,1445.72 423.648,1445.72 424.002,1445.72 424.356,1445.72 424.71,1445.72 \n",
       "  425.064,1445.72 425.418,1445.72 425.772,1445.72 426.126,1445.72 426.48,1445.72 \n",
       "  426.833,1445.72 427.187,1445.72 427.541,1445.72 427.895,1445.72 428.249,1445.72 \n",
       "  428.603,1445.72 428.957,1445.72 429.311,1445.72 429.665,1445.72 430.019,1445.72 \n",
       "  430.373,1445.72 430.727,1445.72 431.08,1445.72 431.434,1445.72 431.788,1445.72 \n",
       "  432.142,1445.72 432.496,1445.72 432.85,1445.72 433.204,1445.72 433.558,1445.72 \n",
       "  433.912,1445.72 434.266,1445.72 434.62,1445.72 434.974,1445.72 435.327,1445.72 \n",
       "  435.681,1445.72 436.035,1445.72 436.389,1445.72 436.743,1445.72 437.097,1445.72 \n",
       "  437.451,1445.72 437.805,1445.72 438.159,1445.72 438.513,1445.72 438.867,1445.72 \n",
       "  439.221,1445.72 439.574,1445.72 439.928,1445.72 440.282,1445.72 440.636,1445.72 \n",
       "  440.99,1445.72 441.344,1445.72 441.698,1445.72 442.052,1445.72 442.406,1445.72 \n",
       "  442.76,1445.72 443.114,1445.72 443.468,1445.72 443.821,1445.72 444.175,1445.72 \n",
       "  444.529,1445.72 444.883,1445.72 445.237,1445.72 445.591,1445.72 445.945,1445.72 \n",
       "  446.299,1445.72 446.653,1445.72 447.007,1445.72 447.361,1445.72 447.715,1445.72 \n",
       "  448.068,1445.72 448.422,1445.72 448.776,1445.72 449.13,1445.72 449.484,1445.72 \n",
       "  449.838,1445.72 450.192,1445.72 450.546,1445.72 450.9,1445.72 451.254,1445.72 \n",
       "  451.608,1445.72 451.962,1445.72 452.315,1445.72 452.669,1445.72 453.023,1445.72 \n",
       "  453.377,1445.72 453.731,1445.72 454.085,1445.72 454.439,1445.72 454.793,1445.72 \n",
       "  455.147,1445.72 455.501,1445.72 455.855,1445.72 456.209,1445.72 456.562,1445.72 \n",
       "  456.916,1445.72 457.27,1445.72 457.624,1445.72 457.978,1445.72 458.332,1445.72 \n",
       "  458.686,1445.72 459.04,1445.72 459.394,1445.72 459.748,1445.72 460.102,1445.72 \n",
       "  460.456,1445.72 460.809,1445.72 461.163,1445.72 461.517,1445.72 461.871,1445.72 \n",
       "  462.225,1445.72 462.579,1445.72 462.933,1445.72 463.287,1445.72 463.641,1445.72 \n",
       "  463.995,1445.72 464.349,1445.72 464.703,1445.72 465.056,1445.72 465.41,1445.72 \n",
       "  465.764,1445.72 466.118,1445.72 466.472,1445.72 466.826,1445.72 467.18,1445.72 \n",
       "  467.534,1445.72 467.888,1445.72 468.242,1445.72 468.596,1445.72 468.95,1445.72 \n",
       "  469.303,1445.72 469.657,1445.72 470.011,1445.72 470.365,1445.72 470.719,1445.72 \n",
       "  471.073,1445.72 471.427,1445.72 471.781,1445.72 472.135,1445.72 472.489,1445.72 \n",
       "  472.843,1445.72 473.197,1445.72 473.55,1445.72 473.904,1445.72 474.258,1445.72 \n",
       "  474.612,1445.72 474.966,1445.72 475.32,1445.72 475.674,1445.72 476.028,1445.72 \n",
       "  476.382,1445.72 476.736,1445.72 477.09,1445.72 477.444,1445.72 477.797,1445.72 \n",
       "  478.151,1445.72 478.505,1445.72 478.859,1445.72 479.213,1445.72 479.567,1445.72 \n",
       "  479.921,1445.72 480.275,1445.72 480.629,1445.72 480.983,1445.72 481.337,1445.72 \n",
       "  481.691,1445.72 482.044,1445.72 482.398,1445.72 482.752,1445.72 483.106,1445.72 \n",
       "  483.46,1445.72 483.814,1445.72 484.168,1445.72 484.522,1445.72 484.876,1445.72 \n",
       "  485.23,1445.72 485.584,1445.72 485.938,1445.72 486.291,1445.72 486.645,1445.72 \n",
       "  486.999,1445.72 487.353,1445.72 487.707,1445.72 488.061,1445.72 488.415,1445.72 \n",
       "  488.769,1445.72 489.123,1445.72 489.477,1445.72 489.831,1445.72 490.185,1445.72 \n",
       "  490.538,1445.72 490.892,1445.72 491.246,1445.72 491.6,1445.72 491.954,1445.72 \n",
       "  492.308,1445.72 492.662,1445.72 493.016,1445.72 493.37,1445.72 493.724,1445.72 \n",
       "  494.078,1445.72 494.432,1445.72 494.785,1445.72 495.139,1445.72 495.493,1445.72 \n",
       "  495.847,1445.72 496.201,1445.72 496.555,1445.72 496.909,1445.72 497.263,1445.72 \n",
       "  497.617,1445.72 497.971,1445.72 498.325,1445.72 498.679,1445.72 499.032,1445.72 \n",
       "  499.386,1445.72 499.74,1445.72 500.094,1445.72 500.448,1445.72 500.802,1445.72 \n",
       "  501.156,1445.72 501.51,1445.72 501.864,1445.72 502.218,1445.72 502.572,1445.72 \n",
       "  502.926,1445.72 503.279,1445.72 503.633,1445.72 503.987,1445.72 504.341,1445.72 \n",
       "  504.695,1445.72 505.049,1445.72 505.403,1445.72 505.757,1445.72 506.111,1445.72 \n",
       "  506.465,1445.72 506.819,1445.72 507.173,1445.72 507.526,1445.72 507.88,1445.72 \n",
       "  508.234,1445.72 508.588,1445.72 508.942,1445.72 509.296,1445.72 509.65,1445.72 \n",
       "  510.004,1445.72 510.358,1445.72 510.712,1445.72 511.066,1445.72 511.42,1445.72 \n",
       "  511.773,1445.72 512.127,1445.72 512.481,1445.72 512.835,1445.72 513.189,1445.72 \n",
       "  513.543,1445.72 513.897,1445.72 514.251,1445.72 514.605,1445.72 514.959,1445.72 \n",
       "  515.313,1445.72 515.667,1445.72 516.02,1445.72 516.374,1445.72 516.728,1445.72 \n",
       "  517.082,1445.72 517.436,1445.72 517.79,1445.72 518.144,1445.72 518.498,1445.72 \n",
       "  518.852,1445.72 519.206,1445.72 519.56,1445.72 519.914,1445.72 520.267,1445.72 \n",
       "  520.621,1445.72 520.975,1445.72 521.329,1445.72 521.683,1445.72 522.037,1445.72 \n",
       "  522.391,1445.72 522.745,1445.72 523.099,1445.72 523.453,1445.72 523.807,1445.72 \n",
       "  524.161,1445.72 524.514,1445.72 524.868,1445.72 525.222,1445.72 525.576,1445.72 \n",
       "  525.93,1445.72 526.284,1445.72 526.638,1445.72 526.992,1445.72 527.346,1445.72 \n",
       "  527.7,1445.72 528.054,1445.72 528.408,1445.72 528.761,1445.72 529.115,1445.72 \n",
       "  529.469,1445.72 529.823,1445.72 530.177,1445.72 530.531,1445.72 530.885,1445.72 \n",
       "  531.239,1445.72 531.593,1445.72 531.947,1445.72 532.301,1445.72 532.655,1445.72 \n",
       "  533.008,1445.72 533.362,1445.72 533.716,1445.72 534.07,1445.72 534.424,1445.72 \n",
       "  534.778,1445.72 535.132,1445.72 535.486,1445.72 535.84,1445.72 536.194,1445.72 \n",
       "  536.548,1445.72 536.902,1445.72 537.255,1445.72 537.609,1445.72 537.963,1445.72 \n",
       "  538.317,1445.72 538.671,1445.72 539.025,1445.72 539.379,1445.72 539.733,1445.72 \n",
       "  540.087,1445.72 540.441,1445.72 540.795,1445.72 541.149,1445.72 541.502,1445.72 \n",
       "  541.856,1445.72 542.21,1445.72 542.564,1445.72 542.918,1445.72 543.272,1445.72 \n",
       "  543.626,1445.72 543.98,1445.72 544.334,1445.72 544.688,1445.72 545.042,1445.72 \n",
       "  545.396,1445.72 545.749,1445.72 546.103,1445.72 546.457,1445.72 546.811,1445.72 \n",
       "  547.165,1445.72 547.519,1445.72 547.873,1445.72 548.227,1445.72 548.581,1445.72 \n",
       "  548.935,1445.72 549.289,1445.72 549.643,1445.72 549.996,1445.72 550.35,1445.72 \n",
       "  550.704,1445.72 551.058,1445.72 551.412,1445.72 551.766,1445.72 552.12,1445.72 \n",
       "  552.474,1445.72 552.828,1445.72 553.182,1445.72 553.536,1445.72 553.89,1445.72 \n",
       "  554.243,1445.72 554.597,1445.72 554.951,1445.72 555.305,1445.72 555.659,1445.72 \n",
       "  556.013,1445.72 556.367,1445.72 556.721,1445.72 557.075,1445.72 557.429,1445.72 \n",
       "  557.783,1445.72 558.137,1445.72 558.49,1445.72 558.844,1445.72 559.198,1445.72 \n",
       "  559.552,1445.72 559.906,1445.72 560.26,1445.72 560.614,1445.72 560.968,1445.72 \n",
       "  561.322,1445.72 561.676,1445.72 562.03,1445.72 562.384,1445.72 562.737,1445.72 \n",
       "  563.091,1445.72 563.445,1445.72 563.799,1445.72 564.153,1445.72 564.507,1445.72 \n",
       "  564.861,1445.72 565.215,1445.72 565.569,1445.72 565.923,1445.72 566.277,1445.72 \n",
       "  566.631,1445.72 566.984,1445.72 567.338,1445.72 567.692,1445.72 568.046,1445.72 \n",
       "  568.4,1445.72 568.754,1445.72 569.108,1445.72 569.462,1445.72 569.816,1445.72 \n",
       "  570.17,1445.72 570.524,1445.72 570.878,1445.72 571.231,1445.72 571.585,1445.72 \n",
       "  571.939,1445.72 572.293,1445.72 572.647,1445.72 573.001,1445.72 573.355,1445.72 \n",
       "  573.709,1445.72 574.063,1445.72 574.417,1445.72 574.771,1445.72 575.125,1445.72 \n",
       "  575.478,1445.72 575.832,1445.72 576.186,1445.72 576.54,1445.72 576.894,1445.72 \n",
       "  577.248,1445.72 577.602,1445.72 577.956,1445.72 578.31,1445.72 578.664,1445.72 \n",
       "  579.018,1445.72 579.372,1445.72 579.725,1445.72 579.725,1445.72 580.079,1445.72 580.079,1445.72 580.433,1445.72 \n",
       "  580.787,1445.72 581.141,1445.72 581.495,1445.72 581.849,1445.72 581.849,1445.72 582.203,1445.72 582.203,1445.72 \n",
       "  582.557,1445.72 582.911,1445.72 583.265,1445.72 583.619,1445.72 583.972,1445.72 \n",
       "  584.326,1445.72 584.68,1445.72 585.034,1445.72 585.388,1445.72 585.742,1445.72 \n",
       "  586.096,1445.72 586.45,1445.72 586.804,1445.72 587.158,1445.72 587.512,1445.72 \n",
       "  587.866,1445.72 588.219,1445.72 588.573,1445.72 588.927,1445.72 589.281,1445.72 \n",
       "  589.635,1445.72 589.989,1445.72 590.343,1445.72 590.697,1445.72 591.051,1445.72 \n",
       "  591.405,1445.72 591.759,1445.72 592.113,1445.72 592.466,1445.72 592.466,1445.72 592.82,1445.72 592.82,1445.72 \n",
       "  593.174,1445.72 593.528,1445.72 593.882,1445.72 594.236,1445.72 594.59,1445.72 \n",
       "  594.944,1445.72 594.944,1445.72 595.298,1445.72 595.298,1445.72 595.652,1445.72 595.652,1445.72 596.006,1445.72 596.006,1445.72 596.36,1445.72 \n",
       "  596.713,1445.72 597.067,1445.72 597.421,1445.72 597.775,1445.72 598.129,1445.72 \n",
       "  598.483,1445.72 598.837,1445.72 599.191,1445.72 599.545,1445.72 599.899,1445.72 \n",
       "  600.253,1445.72 600.607,1445.72 600.96,1445.72 601.314,1445.72 601.668,1445.72 \n",
       "  602.022,1445.72 602.376,1445.72 602.73,1445.72 603.084,1445.72 603.438,1445.72 \n",
       "  603.792,1445.72 604.146,1445.72 604.5,1445.72 604.854,1445.72 605.207,1445.72 \n",
       "  605.561,1445.72 605.915,1445.72 606.269,1445.72 606.623,1445.72 606.977,1445.72 \n",
       "  607.331,1445.72 607.685,1445.72 608.039,1445.72 608.393,1445.72 608.747,1445.72 \n",
       "  609.101,1445.72 609.454,1445.72 609.808,1445.72 610.162,1445.72 610.516,1445.72 \n",
       "  610.87,1445.72 611.224,1445.72 611.578,1445.72 611.932,1445.72 612.286,1445.72 \n",
       "  612.64,1445.72 612.994,1445.72 613.348,1445.72 613.701,1445.72 614.055,1445.72 \n",
       "  614.409,1445.72 614.763,1445.72 614.763,1445.72 615.117,1445.72 615.117,1445.72 615.471,1445.72 615.471,1445.72 615.825,1445.72 615.825,1445.72 \n",
       "  616.179,1445.72 616.533,1445.72 616.887,1445.72 617.241,1445.72 617.595,1445.72 \n",
       "  617.948,1445.72 618.302,1445.72 618.656,1445.72 619.01,1445.72 619.364,1445.72 \n",
       "  619.718,1445.72 620.072,1445.72 620.426,1445.72 620.78,1445.72 621.134,1445.72 \n",
       "  621.488,1445.72 621.842,1445.72 622.195,1445.72 622.549,1445.72 622.903,1445.72 \n",
       "  623.257,1445.72 623.611,1445.72 623.965,1445.72 624.319,1445.72 624.673,1445.72 \n",
       "  625.027,1445.72 625.381,1445.72 625.735,1445.72 626.089,1445.72 626.442,1445.72 \n",
       "  626.796,1445.72 627.15,1445.72 627.504,1445.72 627.858,1445.72 627.858,1445.72 628.212,1445.72 628.212,1445.72 \n",
       "  628.566,1445.72 628.566,1445.72 628.92,1445.72 628.92,1445.72 629.274,1445.72 629.628,1445.72 629.982,1445.72 \n",
       "  630.336,1445.72 630.689,1445.72 631.043,1445.72 631.397,1445.72 631.751,1445.72 \n",
       "  632.105,1445.72 632.459,1445.72 632.813,1445.72 633.167,1445.72 633.521,1445.72 \n",
       "  633.875,1445.72 634.229,1445.72 634.583,1445.72 634.936,1445.72 635.29,1445.72 \n",
       "  635.644,1445.72 635.644,1445.72 635.998,1445.72 635.998,1445.72 636.352,1445.72 636.706,1445.72 636.706,1445.72 637.06,1445.72 637.06,1445.72 \n",
       "  637.414,1445.72 637.768,1445.72 638.122,1445.72 638.476,1445.72 638.83,1445.72 \n",
       "  639.183,1445.72 639.537,1445.72 639.891,1445.72 640.245,1445.72 640.599,1445.72 \n",
       "  640.953,1445.72 641.307,1445.72 641.661,1445.72 642.015,1445.72 642.369,1445.72 \n",
       "  642.723,1445.72 643.077,1445.72 643.43,1445.72 643.784,1445.72 644.138,1445.72 \n",
       "  644.492,1445.72 644.846,1445.72 645.2,1445.72 645.554,1445.72 645.908,1445.72 \n",
       "  646.262,1445.72 646.616,1445.72 646.97,1445.72 647.324,1445.72 647.677,1445.72 \n",
       "  648.031,1445.72 648.385,1445.72 648.739,1445.72 649.093,1445.72 649.447,1445.72 \n",
       "  649.801,1445.72 650.155,1445.72 650.509,1445.72 650.863,1445.72 651.217,1445.72 \n",
       "  651.571,1445.72 651.924,1445.72 652.278,1445.72 652.632,1445.72 652.986,1445.72 \n",
       "  653.34,1445.72 653.694,1445.72 654.048,1445.72 654.402,1445.72 654.756,1445.72 \n",
       "  655.11,1445.72 655.464,1445.72 655.818,1445.72 656.171,1445.72 656.525,1445.72 \n",
       "  656.879,1445.72 657.233,1445.72 657.587,1445.72 657.941,1445.72 658.295,1445.72 \n",
       "  658.649,1445.72 659.003,1445.72 659.357,1445.72 659.711,1445.72 660.065,1445.72 660.065,1445.72 \n",
       "  660.418,1445.72 660.418,1445.72 660.772,1445.72 661.126,1445.72 661.126,1445.72 661.48,1445.72 661.48,1445.72 661.834,1445.72 \n",
       "  662.188,1445.72 662.542,1445.72 662.896,1445.72 663.25,1445.72 663.604,1445.72 \n",
       "  663.958,1445.72 664.312,1445.72 664.665,1445.72 665.019,1445.72 665.373,1445.72 \n",
       "  665.727,1445.72 666.081,1445.72 666.435,1445.72 666.789,1445.72 667.143,1445.72 \n",
       "  667.497,1445.72 667.851,1445.72 668.205,1445.72 668.559,1445.72 668.912,1445.72 \n",
       "  669.266,1445.72 669.62,1445.72 669.974,1445.72 670.328,1445.72 670.682,1445.72 \n",
       "  671.036,1445.72 671.39,1445.72 671.744,1445.72 672.098,1445.72 672.452,1445.72 \n",
       "  672.806,1445.72 673.159,1445.72 673.513,1445.72 673.867,1445.72 674.221,1445.72 \n",
       "  674.575,1445.72 674.929,1445.72 675.283,1445.72 675.637,1445.72 675.991,1445.72 \n",
       "  676.345,1445.72 676.699,1445.72 677.053,1445.72 677.406,1445.72 677.76,1445.72 \n",
       "  678.114,1445.72 678.468,1445.72 678.822,1445.72 679.176,1445.72 679.53,1445.72 \n",
       "  679.884,1445.72 680.238,1445.72 680.592,1445.72 680.946,1445.72 681.3,1445.72 \n",
       "  681.653,1445.72 682.007,1445.72 682.361,1445.72 682.715,1445.72 682.715,1445.71 683.069,1445.71 683.069,1445.72 \n",
       "  683.423,1445.72 683.777,1445.72 684.131,1445.72 684.485,1445.72 684.839,1445.72 \n",
       "  685.193,1445.72 685.547,1445.72 685.9,1445.72 686.254,1445.72 686.608,1445.72 \n",
       "  686.962,1445.72 687.316,1445.72 687.67,1445.72 688.024,1445.72 688.378,1445.72 \n",
       "  688.732,1445.72 689.086,1445.72 689.44,1445.72 689.794,1445.72 690.147,1445.72 \n",
       "  690.501,1445.72 690.855,1445.72 691.209,1445.72 691.563,1445.72 691.917,1445.72 \n",
       "  692.271,1445.72 692.625,1445.72 692.979,1445.72 693.333,1445.72 693.333,1445.72 693.687,1445.72 693.687,1445.72 \n",
       "  694.041,1445.72 694.394,1445.72 694.748,1445.72 695.102,1445.72 695.456,1445.72 \n",
       "  695.81,1445.72 696.164,1445.72 696.518,1445.72 696.872,1445.72 697.226,1445.72 \n",
       "  697.58,1445.72 697.934,1445.72 698.288,1445.72 698.288,1445.72 698.641,1445.72 698.641,1445.72 698.995,1445.72 \n",
       "  699.349,1445.72 699.703,1445.72 700.057,1445.72 700.411,1445.72 700.765,1445.72 \n",
       "  701.119,1445.72 701.473,1445.72 701.827,1445.72 701.827,1445.72 702.181,1445.72 702.181,1445.72 702.535,1445.72 \n",
       "  702.888,1445.72 703.242,1445.72 703.242,1445.72 703.596,1445.72 703.596,1445.72 703.95,1445.72 703.95,1445.72 704.304,1445.72 \n",
       "  704.658,1445.72 705.012,1445.72 705.366,1445.72 705.72,1445.72 705.72,1445.72 706.074,1445.72 706.074,1445.72 \n",
       "  706.428,1445.72 706.428,1445.72 706.782,1445.72 706.782,1445.72 707.135,1445.72 707.489,1445.72 707.843,1445.72 707.843,1445.72 \n",
       "  708.197,1445.72 708.197,1445.72 708.551,1445.72 708.551,1445.72 708.905,1445.72 708.905,1445.72 709.259,1445.72 709.613,1445.72 709.613,1445.71 \n",
       "  709.967,1445.71 709.967,1445.72 710.321,1445.72 710.321,1445.72 710.675,1445.72 711.029,1445.72 711.382,1445.72 \n",
       "  711.736,1445.72 712.09,1445.72 712.444,1445.72 712.444,1445.72 712.798,1445.72 712.798,1445.72 713.152,1445.72 713.152,1445.72 \n",
       "  713.506,1445.72 713.506,1445.72 713.86,1445.72 713.86,1445.72 714.214,1445.72 714.214,1445.72 714.568,1445.72 714.568,1445.72 714.922,1445.72 714.922,1445.72 \n",
       "  715.276,1445.72 715.276,1445.72 715.629,1445.72 715.629,1445.72 715.983,1445.72 715.983,1445.72 716.337,1445.72 716.337,1445.72 716.691,1445.72 716.691,1445.72 \n",
       "  717.045,1445.72 717.045,1445.72 717.399,1445.72 717.753,1445.72 717.753,1445.72 718.107,1445.72 718.107,1445.71 718.461,1445.71 718.461,1445.72 \n",
       "  718.815,1445.72 718.815,1445.72 719.169,1445.72 719.169,1445.71 719.523,1445.71 719.523,1445.72 719.876,1445.72 719.876,1445.72 720.23,1445.72 720.23,1445.72 \n",
       "  720.584,1445.72 720.584,1445.71 720.938,1445.71 720.938,1445.72 721.292,1445.72 721.292,1445.72 721.646,1445.72 721.646,1445.72 722,1445.72 722,1445.72 \n",
       "  722.354,1445.72 722.354,1445.72 722.708,1445.72 722.708,1445.72 723.062,1445.72 723.062,1445.71 723.416,1445.71 723.416,1445.72 723.77,1445.72 723.77,1445.71 \n",
       "  724.123,1445.71 724.123,1445.71 724.477,1445.71 724.477,1445.71 724.831,1445.71 724.831,1445.71 725.185,1445.71 725.185,1445.71 725.539,1445.71 725.539,1445.71 \n",
       "  725.893,1445.71 725.893,1445.72 726.247,1445.72 726.247,1445.71 726.601,1445.71 726.601,1445.71 726.955,1445.71 726.955,1445.71 727.309,1445.71 727.309,1445.71 \n",
       "  727.663,1445.71 727.663,1445.71 728.017,1445.71 728.017,1445.71 728.37,1445.71 728.37,1445.71 728.724,1445.71 728.724,1445.71 729.078,1445.71 729.078,1445.71 \n",
       "  729.432,1445.71 729.432,1445.71 729.786,1445.71 729.786,1445.71 730.14,1445.71 730.14,1445.71 730.494,1445.71 730.494,1445.71 730.848,1445.71 730.848,1445.71 \n",
       "  731.202,1445.71 731.202,1445.71 731.556,1445.71 731.556,1445.71 731.91,1445.71 731.91,1445.71 732.264,1445.71 732.264,1445.71 732.617,1445.71 732.617,1445.71 \n",
       "  732.971,1445.71 732.971,1445.71 733.325,1445.71 733.325,1445.71 733.679,1445.71 733.679,1445.71 734.033,1445.71 734.033,1445.71 734.387,1445.71 734.387,1445.7 \n",
       "  734.741,1445.7 734.741,1445.7 735.095,1445.7 735.095,1445.7 735.449,1445.7 735.449,1445.7 735.803,1445.7 735.803,1445.7 736.157,1445.7 736.157,1445.7 \n",
       "  736.511,1445.7 736.511,1445.7 736.864,1445.7 736.864,1445.69 737.218,1445.69 737.218,1445.69 737.572,1445.69 737.572,1445.69 737.926,1445.69 737.926,1445.68 \n",
       "  738.28,1445.68 738.28,1445.68 738.634,1445.68 738.634,1445.68 738.988,1445.68 738.988,1445.67 739.342,1445.67 739.342,1445.67 739.696,1445.67 739.696,1445.65 \n",
       "  740.05,1445.65 740.05,1445.65 740.404,1445.65 740.404,1445.64 740.758,1445.64 740.758,1445.63 741.111,1445.63 741.111,1445.62 741.465,1445.62 741.465,1445.6 \n",
       "  741.819,1445.6 741.819,1445.59 742.173,1445.59 742.173,1445.58 742.527,1445.58 742.527,1445.55 742.881,1445.55 742.881,1445.52 743.235,1445.52 743.235,1445.5 \n",
       "  743.589,1445.5 743.589,1445.47 743.943,1445.47 743.943,1445.42 744.297,1445.42 744.297,1445.35 744.651,1445.35 744.651,1445.31 745.005,1445.31 745.005,1445.25 \n",
       "  745.358,1445.25 745.358,1445.14 745.712,1445.14 745.712,1445.02 746.066,1445.02 746.066,1444.9 746.42,1444.9 746.42,1444.72 746.774,1444.72 746.774,1444.53 \n",
       "  747.128,1444.53 747.128,1444.27 747.482,1444.27 747.482,1443.95 747.836,1443.95 747.836,1443.53 748.19,1443.53 748.19,1442.96 748.544,1442.96 748.544,1442.27 \n",
       "  748.898,1442.27 748.898,1441.24 749.252,1441.24 749.252,1439.9 749.605,1439.9 749.605,1438.04 749.959,1438.04 749.959,1435.26 750.313,1435.26 750.313,1430.98 \n",
       "  750.667,1430.98 750.667,1424.4 751.021,1424.4 751.021,1413.6 751.375,1413.6 751.375,1393.47 751.729,1393.47 751.729,1351.97 752.083,1351.97 752.083,1242.55 \n",
       "  752.437,1242.55 752.437,517.198 752.791,517.198 752.791,87.9763 753.145,87.9763 753.145,768.874 753.499,768.874 753.499,917.83 753.852,917.83 753.852,998.885 \n",
       "  754.206,998.885 754.206,1052.34 754.56,1052.34 754.56,1093.27 754.914,1093.27 754.914,1124.75 755.268,1124.75 755.268,1150.67 755.622,1150.67 755.622,1172.84 \n",
       "  755.976,1172.84 755.976,1192.04 756.33,1192.04 756.33,1208.42 756.684,1208.42 756.684,1223.09 757.038,1223.09 757.038,1235.93 757.392,1235.93 757.392,1248.28 \n",
       "  757.746,1248.28 757.746,1258.56 758.099,1258.56 758.099,1268.97 758.453,1268.97 758.453,1277.69 758.807,1277.69 758.807,1285.74 759.161,1285.74 759.161,1293.51 \n",
       "  759.515,1293.51 759.515,1300.38 759.869,1300.38 759.869,1307.19 760.223,1307.19 760.223,1313.48 760.577,1313.48 760.577,1319.36 760.931,1319.36 760.931,1324.77 \n",
       "  761.285,1324.77 761.285,1329.74 761.639,1329.74 761.639,1334.65 761.993,1334.65 761.993,1339.15 762.346,1339.15 762.346,1343.11 762.7,1343.11 762.7,1347.22 \n",
       "  763.054,1347.22 763.054,1351.41 763.408,1351.41 763.408,1355.02 763.762,1355.02 763.762,1358.09 764.116,1358.09 764.116,1361.42 764.47,1361.42 764.47,1364.62 \n",
       "  764.824,1364.62 764.824,1367.5 765.178,1367.5 765.178,1370.36 765.532,1370.36 765.532,1372.95 765.886,1372.95 765.886,1375.25 766.24,1375.25 766.24,1377.96 \n",
       "  766.593,1377.96 766.593,1380.24 766.947,1380.24 766.947,1382.32 767.301,1382.32 767.301,1384.38 767.655,1384.38 767.655,1386.48 768.009,1386.48 768.009,1388.46 \n",
       "  768.363,1388.46 768.363,1390.09 768.717,1390.09 768.717,1392.11 769.071,1392.11 769.071,1393.76 769.425,1393.76 769.425,1395.42 769.779,1395.42 769.779,1396.82 \n",
       "  770.133,1396.82 770.133,1398.41 770.487,1398.41 770.487,1399.91 770.84,1399.91 770.84,1401.28 771.194,1401.28 771.194,1402.44 771.548,1402.44 771.548,1403.94 \n",
       "  771.902,1403.94 771.902,1405.22 772.256,1405.22 772.256,1406.19 772.61,1406.19 772.61,1407.44 772.964,1407.44 772.964,1408.57 773.318,1408.57 773.318,1409.68 \n",
       "  773.672,1409.68 773.672,1410.88 774.026,1410.88 774.026,1411.69 774.38,1411.69 774.38,1412.8 774.734,1412.8 774.734,1413.55 775.087,1413.55 775.087,1414.4 \n",
       "  775.441,1414.4 775.441,1415.42 775.795,1415.42 775.795,1416.21 776.149,1416.21 776.149,1417.11 776.503,1417.11 776.503,1417.98 776.857,1417.98 776.857,1418.63 \n",
       "  777.211,1418.63 777.211,1419.15 777.565,1419.15 777.565,1420.01 777.919,1420.01 777.919,1420.56 778.273,1420.56 778.273,1421.36 778.627,1421.36 778.627,1421.92 \n",
       "  778.981,1421.92 778.981,1422.52 779.334,1422.52 779.334,1423.2 779.688,1423.2 779.688,1423.97 780.042,1423.97 780.042,1424.42 780.396,1424.42 780.396,1424.74 \n",
       "  780.75,1424.74 780.75,1425.4 781.104,1425.4 781.104,1425.87 781.458,1425.87 781.458,1426.38 781.812,1426.38 781.812,1426.91 782.166,1426.91 782.166,1427.42 \n",
       "  782.52,1427.42 782.52,1427.86 782.874,1427.86 782.874,1428.25 783.228,1428.25 783.228,1428.72 783.581,1428.72 783.581,1429.09 783.935,1429.09 783.935,1429.54 \n",
       "  784.289,1429.54 784.289,1429.94 784.643,1429.94 784.643,1430.25 784.997,1430.25 784.997,1430.66 785.351,1430.66 785.351,1430.99 785.705,1430.99 785.705,1431.29 \n",
       "  786.059,1431.29 786.059,1431.66 786.413,1431.66 786.413,1432.01 786.767,1432.01 786.767,1432.36 787.121,1432.36 787.121,1432.6 787.475,1432.6 787.475,1432.94 \n",
       "  787.828,1432.94 787.828,1433.32 788.182,1433.32 788.182,1433.51 788.536,1433.51 788.536,1433.9 788.89,1433.9 788.89,1434.07 789.244,1434.07 789.244,1434.33 \n",
       "  789.598,1434.33 789.598,1434.64 789.952,1434.64 789.952,1434.86 790.306,1434.86 790.306,1435.14 790.66,1435.14 790.66,1435.39 791.014,1435.39 791.014,1435.54 \n",
       "  791.368,1435.54 791.368,1435.9 791.722,1435.9 791.722,1436.09 792.075,1436.09 792.075,1436.34 792.429,1436.34 792.429,1436.52 792.783,1436.52 792.783,1436.65 \n",
       "  793.137,1436.65 793.137,1436.89 793.491,1436.89 793.491,1437.02 793.845,1437.02 793.845,1437.19 794.199,1437.19 794.199,1437.44 794.553,1437.44 794.553,1437.66 \n",
       "  794.907,1437.66 794.907,1437.72 795.261,1437.72 795.261,1437.92 795.615,1437.92 795.615,1438.15 795.969,1438.15 795.969,1438.27 796.322,1438.27 796.322,1438.39 \n",
       "  796.676,1438.39 796.676,1438.54 797.03,1438.54 797.03,1438.75 797.384,1438.75 797.384,1438.84 797.738,1438.84 797.738,1439.06 798.092,1439.06 798.092,1439.11 \n",
       "  798.446,1439.11 798.446,1439.34 798.8,1439.34 798.8,1439.36 799.154,1439.36 799.154,1439.54 799.508,1439.54 799.508,1439.68 799.862,1439.68 799.862,1439.76 \n",
       "  800.216,1439.76 800.216,1439.94 800.569,1439.94 800.569,1440.06 800.923,1440.06 800.923,1440.14 801.277,1440.14 801.277,1440.31 801.631,1440.31 801.631,1440.37 \n",
       "  801.985,1440.37 801.985,1440.44 802.339,1440.44 802.339,1440.54 802.693,1440.54 802.693,1440.76 803.047,1440.76 803.047,1440.83 803.401,1440.83 803.401,1440.91 \n",
       "  803.755,1440.91 803.755,1441.01 804.109,1441.01 804.109,1441.08 804.463,1441.08 804.463,1441.2 804.816,1441.2 804.816,1441.26 805.17,1441.26 805.17,1441.34 \n",
       "  805.524,1441.34 805.524,1441.46 805.878,1441.46 805.878,1441.5 806.232,1441.5 806.232,1441.58 806.586,1441.58 806.586,1441.61 806.94,1441.61 806.94,1441.77 \n",
       "  807.294,1441.77 807.294,1441.79 807.648,1441.79 807.648,1441.91 808.002,1441.91 808.002,1441.96 808.356,1441.96 808.356,1441.98 808.71,1441.98 808.71,1442.16 \n",
       "  809.063,1442.16 809.063,1442.17 809.417,1442.17 809.417,1442.16 809.771,1442.16 809.771,1442.3 810.125,1442.3 810.125,1442.38 810.479,1442.38 810.479,1442.4 \n",
       "  810.833,1442.4 810.833,1442.5 811.187,1442.5 811.187,1442.55 811.541,1442.55 811.541,1442.59 811.895,1442.59 811.895,1442.7 812.249,1442.7 812.249,1442.71 \n",
       "  812.603,1442.71 812.603,1442.77 812.957,1442.77 812.957,1442.88 813.31,1442.88 813.31,1442.89 813.664,1442.89 813.664,1442.97 814.018,1442.97 814.018,1442.98 \n",
       "  814.372,1442.98 814.372,1443.05 814.726,1443.05 814.726,1443.07 815.08,1443.07 815.08,1443.12 815.434,1443.12 815.434,1443.17 815.788,1443.17 815.788,1443.14 \n",
       "  816.142,1443.14 816.142,1443.26 816.496,1443.26 816.496,1443.33 816.85,1443.33 816.85,1443.33 817.204,1443.33 817.204,1443.39 817.557,1443.39 817.557,1443.4 \n",
       "  817.911,1443.4 817.911,1443.47 818.265,1443.47 818.265,1443.49 818.619,1443.49 818.619,1443.53 818.973,1443.53 818.973,1443.62 819.327,1443.62 819.327,1443.65 \n",
       "  819.681,1443.65 819.681,1443.66 820.035,1443.66 820.035,1443.67 820.389,1443.67 820.389,1443.72 820.743,1443.72 820.743,1443.78 821.097,1443.78 821.097,1443.81 \n",
       "  821.451,1443.81 821.451,1443.85 821.804,1443.85 821.804,1443.86 822.158,1443.86 822.158,1443.89 822.512,1443.89 822.512,1443.92 822.866,1443.92 822.866,1443.92 \n",
       "  823.22,1443.92 823.22,1443.97 823.574,1443.97 823.574,1443.99 823.928,1443.99 823.928,1444.02 824.282,1444.02 824.282,1444.06 824.636,1444.06 824.636,1444.09 \n",
       "  824.99,1444.09 824.99,1444.1 825.344,1444.1 825.344,1444.14 825.698,1444.14 825.698,1444.16 826.051,1444.16 826.051,1444.16 826.405,1444.16 826.405,1444.2 \n",
       "  826.759,1444.2 826.759,1444.22 827.113,1444.22 827.113,1444.26 827.467,1444.26 827.467,1444.29 827.821,1444.29 827.821,1444.36 828.175,1444.36 828.175,1444.34 \n",
       "  828.529,1444.34 828.529,1444.36 828.883,1444.36 828.883,1444.35 829.237,1444.35 829.237,1444.38 829.591,1444.38 829.591,1444.37 829.945,1444.37 829.945,1444.43 \n",
       "  830.298,1444.43 830.298,1444.43 830.652,1444.43 830.652,1444.46 831.006,1444.46 831.006,1444.49 831.36,1444.49 831.36,1444.53 831.714,1444.53 831.714,1444.54 \n",
       "  832.068,1444.54 832.068,1444.55 832.422,1444.55 832.422,1444.52 832.776,1444.52 832.776,1444.59 833.13,1444.59 833.13,1444.61 833.484,1444.61 833.484,1444.6 \n",
       "  833.838,1444.6 833.838,1444.63 834.192,1444.63 834.192,1444.67 834.545,1444.67 834.545,1444.65 834.899,1444.65 834.899,1444.7 835.253,1444.7 835.253,1444.68 \n",
       "  835.607,1444.68 835.607,1444.7 835.961,1444.7 835.961,1444.74 836.315,1444.74 836.315,1444.75 836.669,1444.75 836.669,1444.77 837.023,1444.77 837.023,1444.74 \n",
       "  837.377,1444.74 837.377,1444.78 837.731,1444.78 837.731,1444.82 838.085,1444.82 838.085,1444.79 838.439,1444.79 838.439,1444.83 838.792,1444.83 838.792,1444.84 \n",
       "  839.146,1444.84 839.146,1444.84 839.5,1444.84 839.5,1444.85 839.854,1444.85 839.854,1444.86 840.208,1444.86 840.208,1444.9 840.562,1444.9 840.562,1444.91 \n",
       "  840.916,1444.91 840.916,1444.91 841.27,1444.91 841.27,1444.91 841.624,1444.91 841.624,1444.91 841.978,1444.91 841.978,1444.96 842.332,1444.96 \n",
       "  842.686,1444.96 842.686,1444.97 843.039,1444.97 843.039,1444.97 843.393,1444.97 843.393,1444.99 843.747,1444.99 843.747,1444.99 844.101,1444.99 844.101,1445.02 \n",
       "  844.455,1445.02 844.455,1445.01 844.809,1445.01 844.809,1445.03 845.163,1445.03 845.163,1445.03 845.517,1445.03 845.517,1445.04 845.871,1445.04 845.871,1445.06 \n",
       "  846.225,1445.06 846.225,1445.07 846.579,1445.07 846.579,1445.07 846.933,1445.07 846.933,1445.06 847.286,1445.06 847.286,1445.09 847.64,1445.09 847.64,1445.08 \n",
       "  847.994,1445.08 847.994,1445.08 848.348,1445.08 848.348,1445.13 848.702,1445.13 848.702,1445.12 849.056,1445.12 849.056,1445.13 849.41,1445.13 849.41,1445.14 \n",
       "  849.764,1445.14 849.764,1445.13 850.118,1445.13 850.118,1445.15 850.472,1445.15 850.472,1445.14 850.826,1445.14 850.826,1445.15 851.18,1445.15 851.18,1445.17 \n",
       "  851.533,1445.17 851.533,1445.18 851.887,1445.18 851.887,1445.15 852.241,1445.15 852.241,1445.18 852.595,1445.18 852.595,1445.2 852.949,1445.2 852.949,1445.22 \n",
       "  853.303,1445.22 853.303,1445.19 853.657,1445.19 853.657,1445.23 854.011,1445.23 854.011,1445.2 854.365,1445.2 854.365,1445.24 854.719,1445.24 854.719,1445.24 \n",
       "  855.073,1445.24 855.073,1445.23 855.427,1445.23 855.427,1445.26 855.78,1445.26 855.78,1445.23 856.134,1445.23 856.134,1445.26 856.488,1445.26 856.488,1445.25 \n",
       "  856.842,1445.25 856.842,1445.27 857.196,1445.27 857.196,1445.27 857.55,1445.27 857.55,1445.29 857.904,1445.29 857.904,1445.28 858.258,1445.28 858.258,1445.29 \n",
       "  858.612,1445.29 858.612,1445.27 858.966,1445.27 858.966,1445.3 859.32,1445.3 859.32,1445.31 859.674,1445.31 859.674,1445.3 860.027,1445.3 860.027,1445.3 \n",
       "  860.381,1445.3 860.381,1445.33 860.735,1445.33 860.735,1445.33 861.089,1445.33 861.089,1445.33 861.443,1445.33 861.443,1445.33 861.797,1445.33 861.797,1445.34 \n",
       "  862.151,1445.34 862.151,1445.32 862.505,1445.32 862.505,1445.35 862.859,1445.35 862.859,1445.36 863.213,1445.36 863.213,1445.37 863.567,1445.37 863.567,1445.35 \n",
       "  863.921,1445.35 863.921,1445.36 864.274,1445.36 864.274,1445.34 864.628,1445.34 864.628,1445.36 864.982,1445.36 864.982,1445.38 865.336,1445.38 865.336,1445.39 \n",
       "  865.69,1445.39 865.69,1445.4 866.044,1445.4 866.044,1445.41 866.398,1445.41 866.398,1445.39 866.752,1445.39 866.752,1445.4 867.106,1445.4 867.106,1445.39 \n",
       "  867.46,1445.39 867.46,1445.41 867.814,1445.41 867.814,1445.4 868.168,1445.4 868.168,1445.42 868.521,1445.42 868.521,1445.41 868.875,1445.41 868.875,1445.43 \n",
       "  869.229,1445.43 869.229,1445.4 869.583,1445.4 869.583,1445.43 869.937,1445.43 869.937,1445.44 870.291,1445.44 870.291,1445.44 870.645,1445.44 870.645,1445.44 \n",
       "  870.999,1445.44 870.999,1445.44 871.353,1445.44 871.353,1445.45 871.707,1445.45 871.707,1445.43 872.061,1445.43 872.061,1445.43 872.415,1445.43 872.415,1445.45 \n",
       "  872.768,1445.45 872.768,1445.45 873.122,1445.45 873.122,1445.45 873.476,1445.45 873.476,1445.44 873.83,1445.44 873.83,1445.46 874.184,1445.46 874.184,1445.45 \n",
       "  874.538,1445.45 874.538,1445.46 874.892,1445.46 874.892,1445.46 875.246,1445.46 875.246,1445.47 875.6,1445.47 875.6,1445.48 875.954,1445.48 875.954,1445.46 \n",
       "  876.308,1445.46 876.308,1445.47 876.662,1445.47 876.662,1445.49 877.015,1445.49 877.015,1445.48 877.369,1445.48 877.369,1445.48 877.723,1445.48 877.723,1445.49 \n",
       "  878.077,1445.49 878.077,1445.5 878.431,1445.5 878.431,1445.5 878.785,1445.5 878.785,1445.51 879.139,1445.51 879.139,1445.5 879.493,1445.5 879.493,1445.5 \n",
       "  879.847,1445.5 879.847,1445.5 880.201,1445.5 880.201,1445.51 880.555,1445.51 880.555,1445.51 880.909,1445.51 880.909,1445.49 881.262,1445.49 881.262,1445.52 \n",
       "  881.616,1445.52 881.616,1445.51 881.97,1445.51 881.97,1445.51 882.324,1445.51 882.324,1445.51 882.678,1445.51 882.678,1445.51 883.032,1445.51 883.032,1445.52 \n",
       "  883.386,1445.52 883.386,1445.53 883.74,1445.53 883.74,1445.52 884.094,1445.52 884.094,1445.52 884.448,1445.52 884.448,1445.52 884.802,1445.52 884.802,1445.53 \n",
       "  885.156,1445.53 885.156,1445.53 885.509,1445.53 885.509,1445.53 885.863,1445.53 885.863,1445.53 886.217,1445.53 886.217,1445.53 886.571,1445.53 886.571,1445.54 \n",
       "  886.925,1445.54 886.925,1445.53 887.279,1445.53 887.279,1445.55 887.633,1445.55 887.633,1445.54 887.987,1445.54 887.987,1445.54 888.341,1445.54 888.341,1445.54 \n",
       "  888.695,1445.54 888.695,1445.55 889.049,1445.55 889.049,1445.56 889.403,1445.56 889.403,1445.56 889.756,1445.56 889.756,1445.56 890.11,1445.56 890.11,1445.55 \n",
       "  890.464,1445.55 890.464,1445.56 890.818,1445.56 890.818,1445.56 891.172,1445.56 891.172,1445.57 891.526,1445.57 891.526,1445.57 891.88,1445.57 891.88,1445.56 \n",
       "  892.234,1445.56 892.234,1445.56 892.588,1445.56 892.588,1445.57 892.942,1445.57 892.942,1445.57 893.296,1445.57 893.296,1445.57 893.65,1445.57 893.65,1445.57 \n",
       "  894.003,1445.57 894.003,1445.57 894.357,1445.57 894.357,1445.58 894.711,1445.58 894.711,1445.56 895.065,1445.56 895.065,1445.57 895.419,1445.57 895.419,1445.58 \n",
       "  895.773,1445.58 895.773,1445.58 896.127,1445.58 896.127,1445.57 896.481,1445.57 896.481,1445.57 896.835,1445.57 896.835,1445.58 897.189,1445.58 897.189,1445.57 \n",
       "  897.543,1445.57 897.543,1445.58 897.897,1445.58 897.897,1445.59 898.25,1445.59 898.25,1445.58 898.604,1445.58 898.604,1445.58 898.958,1445.58 898.958,1445.59 \n",
       "  899.312,1445.59 899.312,1445.59 899.666,1445.59 899.666,1445.59 900.02,1445.59 900.02,1445.6 900.374,1445.6 900.374,1445.6 900.728,1445.6 900.728,1445.59 \n",
       "  901.082,1445.59 901.082,1445.6 901.436,1445.6 901.436,1445.6 901.79,1445.6 901.79,1445.59 902.144,1445.59 902.144,1445.61 902.497,1445.61 902.497,1445.6 \n",
       "  902.851,1445.6 902.851,1445.61 903.205,1445.61 903.205,1445.6 903.559,1445.6 903.559,1445.61 903.913,1445.61 903.913,1445.61 904.267,1445.61 904.267,1445.61 \n",
       "  904.621,1445.61 904.621,1445.61 904.975,1445.61 904.975,1445.61 905.329,1445.61 905.329,1445.62 905.683,1445.62 905.683,1445.61 906.037,1445.61 906.037,1445.61 \n",
       "  906.391,1445.61 906.391,1445.6 906.744,1445.6 906.744,1445.61 907.098,1445.61 907.098,1445.61 907.452,1445.61 907.452,1445.61 907.806,1445.61 907.806,1445.6 \n",
       "  908.16,1445.6 908.16,1445.62 908.514,1445.62 908.514,1445.61 908.868,1445.61 908.868,1445.61 909.222,1445.61 909.222,1445.62 909.576,1445.62 909.576,1445.62 \n",
       "  909.93,1445.62 909.93,1445.62 910.284,1445.62 910.284,1445.62 910.638,1445.62 910.638,1445.62 910.991,1445.62 910.991,1445.63 911.345,1445.63 911.345,1445.63 \n",
       "  911.699,1445.63 911.699,1445.63 912.053,1445.63 912.053,1445.64 912.407,1445.64 912.407,1445.63 912.761,1445.63 912.761,1445.63 913.115,1445.63 913.115,1445.62 \n",
       "  913.469,1445.62 913.469,1445.62 913.823,1445.62 913.823,1445.62 914.177,1445.62 914.177,1445.62 914.531,1445.62 914.531,1445.61 914.885,1445.61 914.885,1445.63 \n",
       "  915.238,1445.63 915.238,1445.63 915.592,1445.63 915.592,1445.63 915.946,1445.63 915.946,1445.63 916.3,1445.63 916.3,1445.64 916.654,1445.64 916.654,1445.63 \n",
       "  917.008,1445.63 917.008,1445.64 917.362,1445.64 917.362,1445.64 917.716,1445.64 917.716,1445.64 918.07,1445.64 918.07,1445.63 918.424,1445.63 918.424,1445.63 \n",
       "  918.778,1445.63 918.778,1445.63 919.132,1445.63 919.132,1445.63 919.485,1445.63 919.485,1445.64 919.839,1445.64 919.839,1445.64 920.193,1445.64 920.193,1445.64 \n",
       "  920.547,1445.64 920.547,1445.64 920.901,1445.64 920.901,1445.64 921.255,1445.64 921.255,1445.64 921.609,1445.64 921.609,1445.64 921.963,1445.64 921.963,1445.65 \n",
       "  922.317,1445.65 922.317,1445.64 922.671,1445.64 922.671,1445.64 923.025,1445.64 923.025,1445.65 923.379,1445.65 923.379,1445.64 923.732,1445.64 923.732,1445.65 \n",
       "  924.086,1445.65 924.086,1445.64 924.44,1445.64 924.44,1445.65 924.794,1445.65 924.794,1445.65 925.148,1445.65 925.148,1445.64 925.502,1445.64 925.502,1445.66 \n",
       "  925.856,1445.66 925.856,1445.65 926.21,1445.65 926.21,1445.65 926.564,1445.65 926.564,1445.64 926.918,1445.64 926.918,1445.65 927.272,1445.65 927.272,1445.65 \n",
       "  927.626,1445.65 927.626,1445.65 927.979,1445.65 927.979,1445.66 928.333,1445.66 928.333,1445.65 928.687,1445.65 928.687,1445.66 929.041,1445.66 929.041,1445.65 \n",
       "  929.395,1445.65 929.395,1445.65 929.749,1445.65 929.749,1445.64 930.103,1445.64 930.103,1445.66 930.457,1445.66 930.457,1445.65 930.811,1445.65 930.811,1445.65 \n",
       "  931.165,1445.65 931.165,1445.66 931.519,1445.66 931.519,1445.66 931.873,1445.66 931.873,1445.66 932.226,1445.66 932.226,1445.66 932.58,1445.66 932.58,1445.66 \n",
       "  932.934,1445.66 932.934,1445.66 933.288,1445.66 933.288,1445.66 933.642,1445.66 933.642,1445.66 933.996,1445.66 933.996,1445.66 934.35,1445.66 934.35,1445.66 \n",
       "  934.704,1445.66 934.704,1445.66 935.058,1445.66 935.058,1445.67 935.412,1445.67 935.412,1445.67 935.766,1445.67 935.766,1445.66 936.12,1445.66 936.12,1445.66 \n",
       "  936.473,1445.66 936.473,1445.66 936.827,1445.66 936.827,1445.66 937.181,1445.66 937.181,1445.66 937.535,1445.66 937.535,1445.67 937.889,1445.67 937.889,1445.66 \n",
       "  938.243,1445.66 938.243,1445.67 938.597,1445.67 938.597,1445.66 938.951,1445.66 938.951,1445.67 939.305,1445.67 939.305,1445.67 939.659,1445.67 939.659,1445.67 \n",
       "  940.013,1445.67 940.013,1445.67 940.367,1445.67 940.367,1445.67 940.72,1445.67 940.72,1445.67 941.074,1445.67 941.074,1445.67 941.428,1445.67 941.428,1445.67 \n",
       "  941.782,1445.67 941.782,1445.67 942.136,1445.67 942.136,1445.67 942.49,1445.67 942.49,1445.67 942.844,1445.67 942.844,1445.67 943.198,1445.67 943.198,1445.66 \n",
       "  943.552,1445.66 943.552,1445.67 943.906,1445.67 943.906,1445.67 944.26,1445.67 944.26,1445.67 944.614,1445.67 944.614,1445.67 944.967,1445.67 944.967,1445.67 \n",
       "  945.321,1445.67 945.321,1445.68 945.675,1445.68 945.675,1445.67 946.029,1445.67 946.029,1445.68 946.383,1445.68 946.383,1445.67 946.737,1445.67 \n",
       "  947.091,1445.67 947.091,1445.68 947.445,1445.68 947.445,1445.68 947.799,1445.68 947.799,1445.68 948.153,1445.68 948.153,1445.67 948.507,1445.67 948.507,1445.67 \n",
       "  948.861,1445.67 948.861,1445.68 949.214,1445.68 949.214,1445.67 949.568,1445.67 949.568,1445.67 949.922,1445.67 949.922,1445.68 950.276,1445.68 950.276,1445.68 \n",
       "  950.63,1445.68 950.63,1445.67 950.984,1445.67 950.984,1445.67 951.338,1445.67 951.338,1445.68 951.692,1445.68 951.692,1445.68 952.046,1445.68 952.046,1445.68 \n",
       "  952.4,1445.68 952.4,1445.68 952.754,1445.68 952.754,1445.67 953.108,1445.67 953.108,1445.68 953.461,1445.68 953.461,1445.68 953.815,1445.68 953.815,1445.68 \n",
       "  954.169,1445.68 954.169,1445.68 954.523,1445.68 954.523,1445.68 954.877,1445.68 954.877,1445.68 955.231,1445.68 955.231,1445.68 955.585,1445.68 955.585,1445.68 \n",
       "  955.939,1445.68 955.939,1445.68 956.293,1445.68 956.293,1445.68 956.647,1445.68 956.647,1445.68 957.001,1445.68 957.001,1445.68 957.355,1445.68 957.355,1445.68 \n",
       "  957.708,1445.68 957.708,1445.68 958.062,1445.68 958.062,1445.68 958.416,1445.68 958.416,1445.68 958.77,1445.68 958.77,1445.69 959.124,1445.69 959.124,1445.69 \n",
       "  959.478,1445.69 959.478,1445.68 959.832,1445.68 959.832,1445.68 960.186,1445.68 960.186,1445.68 960.54,1445.68 960.54,1445.68 960.894,1445.68 960.894,1445.68 \n",
       "  961.248,1445.68 961.248,1445.68 961.602,1445.68 961.602,1445.68 961.955,1445.68 961.955,1445.68 962.309,1445.68 962.309,1445.69 962.663,1445.69 962.663,1445.69 \n",
       "  963.017,1445.69 963.017,1445.68 963.371,1445.68 963.371,1445.68 963.725,1445.68 963.725,1445.69 964.079,1445.69 964.079,1445.68 964.433,1445.68 964.433,1445.69 \n",
       "  964.787,1445.69 964.787,1445.69 965.141,1445.69 965.141,1445.68 965.495,1445.68 965.495,1445.69 965.849,1445.69 965.849,1445.69 966.202,1445.69 966.202,1445.69 \n",
       "  966.556,1445.69 966.556,1445.69 966.91,1445.69 966.91,1445.69 967.264,1445.69 967.264,1445.68 967.618,1445.68 967.618,1445.69 967.972,1445.69 967.972,1445.69 \n",
       "  968.326,1445.69 968.326,1445.69 968.68,1445.69 968.68,1445.68 969.034,1445.68 969.034,1445.69 969.388,1445.69 969.742,1445.69 969.742,1445.69 \n",
       "  970.096,1445.69 970.096,1445.69 970.449,1445.69 970.449,1445.69 970.803,1445.69 970.803,1445.69 971.157,1445.69 971.157,1445.69 971.511,1445.69 971.511,1445.69 \n",
       "  971.865,1445.69 971.865,1445.69 972.219,1445.69 972.219,1445.69 972.573,1445.69 972.573,1445.69 972.927,1445.69 972.927,1445.69 973.281,1445.69 973.281,1445.69 \n",
       "  973.635,1445.69 973.635,1445.69 973.989,1445.69 973.989,1445.69 974.343,1445.69 974.343,1445.69 974.696,1445.69 974.696,1445.69 975.05,1445.69 975.05,1445.69 \n",
       "  975.404,1445.69 975.404,1445.69 975.758,1445.69 975.758,1445.7 976.112,1445.7 976.112,1445.69 976.466,1445.69 976.466,1445.7 976.82,1445.7 976.82,1445.69 \n",
       "  977.174,1445.69 977.174,1445.69 977.528,1445.69 977.528,1445.69 977.882,1445.69 977.882,1445.69 978.236,1445.69 978.236,1445.69 978.59,1445.69 978.59,1445.7 \n",
       "  978.943,1445.7 978.943,1445.7 979.297,1445.7 979.297,1445.69 979.651,1445.69 979.651,1445.69 980.005,1445.69 980.005,1445.7 980.359,1445.7 980.359,1445.69 \n",
       "  980.713,1445.69 980.713,1445.69 981.067,1445.69 981.067,1445.69 981.421,1445.69 981.421,1445.7 981.775,1445.7 981.775,1445.7 982.129,1445.7 982.129,1445.7 \n",
       "  982.483,1445.7 982.483,1445.69 982.837,1445.69 982.837,1445.7 983.19,1445.7 983.19,1445.7 983.544,1445.7 983.544,1445.7 983.898,1445.7 983.898,1445.7 \n",
       "  984.252,1445.7 984.252,1445.7 984.606,1445.7 984.606,1445.7 984.96,1445.7 984.96,1445.69 985.314,1445.69 985.314,1445.69 985.668,1445.69 985.668,1445.7 \n",
       "  986.022,1445.7 986.022,1445.7 986.376,1445.7 986.376,1445.69 986.73,1445.69 986.73,1445.7 987.084,1445.7 987.084,1445.7 987.437,1445.7 987.437,1445.7 \n",
       "  987.791,1445.7 987.791,1445.7 988.145,1445.7 988.145,1445.7 988.499,1445.7 988.499,1445.7 988.853,1445.7 988.853,1445.7 989.207,1445.7 989.207,1445.7 \n",
       "  989.561,1445.7 989.561,1445.7 989.915,1445.7 989.915,1445.7 990.269,1445.7 990.269,1445.7 990.623,1445.7 990.623,1445.7 990.977,1445.7 990.977,1445.69 \n",
       "  991.331,1445.69 991.331,1445.7 991.684,1445.7 991.684,1445.69 992.038,1445.69 992.038,1445.7 992.392,1445.7 992.392,1445.7 992.746,1445.7 992.746,1445.7 \n",
       "  993.1,1445.7 993.1,1445.7 993.454,1445.7 993.454,1445.7 993.808,1445.7 993.808,1445.7 994.162,1445.7 994.162,1445.7 994.516,1445.7 994.516,1445.7 \n",
       "  994.87,1445.7 994.87,1445.69 995.224,1445.69 995.224,1445.7 995.578,1445.7 995.578,1445.7 995.931,1445.7 995.931,1445.7 996.285,1445.7 996.285,1445.7 \n",
       "  996.639,1445.7 996.639,1445.7 996.993,1445.7 996.993,1445.7 997.347,1445.7 997.347,1445.7 997.701,1445.7 997.701,1445.7 998.055,1445.7 998.055,1445.7 \n",
       "  998.409,1445.7 998.409,1445.7 998.763,1445.7 998.763,1445.7 999.117,1445.7 999.117,1445.7 999.471,1445.7 999.471,1445.7 999.825,1445.7 999.825,1445.7 \n",
       "  1000.18,1445.7 1000.18,1445.7 1000.53,1445.7 1000.53,1445.7 1000.89,1445.7 1000.89,1445.7 1001.24,1445.7 1001.24,1445.7 1001.59,1445.7 1001.59,1445.7 \n",
       "  1001.95,1445.7 1001.95,1445.7 1002.3,1445.7 1002.3,1445.7 1002.66,1445.7 1002.66,1445.7 1003.01,1445.7 1003.01,1445.7 1003.36,1445.7 1003.36,1445.7 \n",
       "  1003.72,1445.7 1003.72,1445.7 1004.07,1445.7 1004.07,1445.7 1004.43,1445.7 1004.43,1445.7 1004.78,1445.7 1004.78,1445.7 1005.13,1445.7 1005.13,1445.7 \n",
       "  1005.49,1445.7 1005.49,1445.7 1005.84,1445.7 1005.84,1445.7 1006.2,1445.7 1006.2,1445.7 1006.55,1445.7 1006.55,1445.71 1006.9,1445.71 1006.9,1445.71 \n",
       "  1007.26,1445.71 1007.26,1445.7 1007.61,1445.7 1007.61,1445.7 1007.96,1445.7 1007.96,1445.7 1008.32,1445.7 1008.32,1445.7 1008.67,1445.7 1008.67,1445.7 \n",
       "  1009.03,1445.7 1009.03,1445.7 1009.38,1445.7 1009.38,1445.7 1009.73,1445.7 1009.73,1445.7 1010.09,1445.7 1010.09,1445.71 1010.44,1445.71 1010.44,1445.7 \n",
       "  1010.8,1445.7 1010.8,1445.7 1011.15,1445.7 1011.15,1445.7 1011.5,1445.7 1011.5,1445.7 1011.86,1445.7 1011.86,1445.7 1012.21,1445.7 1012.21,1445.7 \n",
       "  1012.57,1445.7 1012.57,1445.7 1012.92,1445.7 1012.92,1445.7 1013.27,1445.7 1013.27,1445.71 1013.63,1445.71 1013.63,1445.7 1013.98,1445.7 1013.98,1445.7 \n",
       "  1014.34,1445.7 1014.34,1445.7 1014.69,1445.7 1014.69,1445.7 1015.04,1445.7 1015.04,1445.7 1015.4,1445.7 1015.4,1445.7 1015.75,1445.7 1015.75,1445.7 \n",
       "  1016.1,1445.7 1016.1,1445.71 1016.46,1445.71 1016.46,1445.71 1016.81,1445.71 1016.81,1445.71 1017.17,1445.71 1017.17,1445.71 1017.52,1445.71 1017.52,1445.71 \n",
       "  1017.87,1445.71 1017.87,1445.7 1018.23,1445.7 1018.23,1445.71 1018.58,1445.71 1018.58,1445.71 1018.94,1445.71 1018.94,1445.71 1019.29,1445.71 1019.29,1445.71 \n",
       "  1019.64,1445.71 1019.64,1445.71 1020,1445.71 1020,1445.71 1020.35,1445.71 1020.35,1445.71 1020.71,1445.71 1020.71,1445.71 1021.06,1445.71 \n",
       "  1021.41,1445.71 1021.41,1445.71 1021.77,1445.71 1021.77,1445.71 1022.12,1445.71 1022.12,1445.71 1022.48,1445.71 1022.83,1445.71 1022.83,1445.71 \n",
       "  1023.18,1445.71 1023.18,1445.71 1023.54,1445.71 1023.54,1445.71 1023.89,1445.71 1023.89,1445.7 1024.24,1445.7 1024.24,1445.7 1024.6,1445.7 1024.6,1445.71 \n",
       "  1024.95,1445.71 1024.95,1445.71 1025.31,1445.71 1025.31,1445.71 1025.66,1445.71 1025.66,1445.71 1026.01,1445.71 1026.01,1445.7 1026.37,1445.7 1026.37,1445.71 \n",
       "  1026.72,1445.71 1026.72,1445.71 1027.08,1445.71 1027.08,1445.7 1027.43,1445.7 1027.43,1445.71 1027.78,1445.71 1027.78,1445.71 1028.14,1445.71 1028.14,1445.71 \n",
       "  1028.49,1445.71 1028.49,1445.71 1028.85,1445.71 1028.85,1445.71 1029.2,1445.71 1029.2,1445.71 1029.55,1445.71 1029.55,1445.71 1029.91,1445.71 1029.91,1445.71 \n",
       "  1030.26,1445.71 1030.26,1445.71 1030.62,1445.71 1030.62,1445.7 1030.97,1445.7 1030.97,1445.71 1031.32,1445.71 1031.32,1445.71 1031.68,1445.71 1031.68,1445.71 \n",
       "  1032.03,1445.71 1032.03,1445.71 1032.38,1445.71 1032.38,1445.71 1032.74,1445.71 1032.74,1445.71 1033.09,1445.71 1033.09,1445.71 1033.45,1445.71 1033.45,1445.71 \n",
       "  1033.8,1445.71 1033.8,1445.71 1034.15,1445.71 1034.15,1445.71 1034.51,1445.71 1034.51,1445.71 1034.86,1445.71 1034.86,1445.71 1035.22,1445.71 1035.22,1445.71 \n",
       "  1035.57,1445.71 1035.57,1445.71 1035.92,1445.71 1035.92,1445.71 1036.28,1445.71 1036.28,1445.71 1036.63,1445.71 1036.63,1445.71 1036.99,1445.71 1036.99,1445.71 \n",
       "  1037.34,1445.71 1037.34,1445.71 1037.69,1445.71 1037.69,1445.71 1038.05,1445.71 1038.05,1445.71 1038.4,1445.71 1038.4,1445.71 1038.76,1445.71 1038.76,1445.71 \n",
       "  1039.11,1445.71 1039.11,1445.71 1039.46,1445.71 1039.46,1445.71 1039.82,1445.71 1039.82,1445.71 1040.17,1445.71 1040.17,1445.71 1040.52,1445.71 1040.52,1445.71 \n",
       "  1040.88,1445.71 1040.88,1445.71 1041.23,1445.71 1041.23,1445.71 1041.59,1445.71 1041.59,1445.71 1041.94,1445.71 1041.94,1445.71 1042.29,1445.71 1042.29,1445.71 \n",
       "  1042.65,1445.71 1042.65,1445.71 1043,1445.71 1043,1445.71 1043.36,1445.71 1043.36,1445.71 1043.71,1445.71 1043.71,1445.71 1044.06,1445.71 1044.06,1445.71 \n",
       "  1044.42,1445.71 1044.42,1445.71 1044.77,1445.71 1044.77,1445.71 1045.13,1445.71 1045.13,1445.71 1045.48,1445.71 1045.48,1445.71 1045.83,1445.71 1045.83,1445.71 \n",
       "  1046.19,1445.71 1046.19,1445.71 1046.54,1445.71 1046.54,1445.71 1046.9,1445.71 1046.9,1445.71 1047.25,1445.71 1047.25,1445.71 1047.6,1445.71 1047.6,1445.71 \n",
       "  1047.96,1445.71 1047.96,1445.71 1048.31,1445.71 1048.31,1445.71 1048.67,1445.71 1048.67,1445.71 1049.02,1445.71 1049.02,1445.71 1049.37,1445.71 1049.37,1445.71 \n",
       "  1049.73,1445.71 1049.73,1445.71 1050.08,1445.71 1050.08,1445.71 1050.43,1445.71 1050.43,1445.71 1050.79,1445.71 1050.79,1445.71 1051.14,1445.71 1051.14,1445.71 \n",
       "  1051.5,1445.71 1051.5,1445.71 1051.85,1445.71 1051.85,1445.71 1052.2,1445.71 1052.2,1445.71 1052.56,1445.71 1052.56,1445.71 1052.91,1445.71 1052.91,1445.71 \n",
       "  1053.27,1445.71 1053.27,1445.71 1053.62,1445.71 1053.62,1445.71 1053.97,1445.71 1053.97,1445.71 1054.33,1445.71 1054.33,1445.71 1054.68,1445.71 1054.68,1445.71 \n",
       "  1055.04,1445.71 1055.04,1445.71 1055.39,1445.71 1055.39,1445.71 1055.74,1445.71 1056.1,1445.71 1056.1,1445.71 1056.45,1445.71 1056.45,1445.71 \n",
       "  1056.81,1445.71 1056.81,1445.71 1057.16,1445.71 1057.16,1445.71 1057.51,1445.71 1057.51,1445.71 1057.87,1445.71 1057.87,1445.71 1058.22,1445.71 1058.22,1445.71 \n",
       "  1058.57,1445.71 1058.57,1445.71 1058.93,1445.71 1058.93,1445.71 1059.28,1445.71 1059.28,1445.71 1059.64,1445.71 1059.64,1445.71 1059.99,1445.71 1059.99,1445.71 \n",
       "  1060.34,1445.71 1060.34,1445.71 1060.7,1445.71 1060.7,1445.71 1061.05,1445.71 1061.05,1445.71 1061.41,1445.71 1061.41,1445.71 1061.76,1445.71 1061.76,1445.71 \n",
       "  1062.11,1445.71 1062.11,1445.71 1062.47,1445.71 1062.47,1445.71 1062.82,1445.71 1062.82,1445.71 1063.18,1445.71 1063.18,1445.71 1063.53,1445.71 1063.53,1445.71 \n",
       "  1063.88,1445.71 1063.88,1445.71 1064.24,1445.71 1064.24,1445.71 1064.59,1445.71 1064.59,1445.71 1064.95,1445.71 1064.95,1445.71 1065.3,1445.71 1065.3,1445.71 \n",
       "  1065.65,1445.71 1065.65,1445.71 1066.01,1445.71 1066.01,1445.71 1066.36,1445.71 1066.36,1445.71 1066.71,1445.71 1066.71,1445.71 1067.07,1445.71 1067.07,1445.71 \n",
       "  1067.42,1445.71 1067.42,1445.71 1067.78,1445.71 1067.78,1445.71 1068.13,1445.71 1068.13,1445.71 1068.48,1445.71 1068.48,1445.71 1068.84,1445.71 1068.84,1445.71 \n",
       "  1069.19,1445.71 1069.19,1445.71 1069.55,1445.71 1069.55,1445.71 1069.9,1445.71 1069.9,1445.71 1070.25,1445.71 1070.25,1445.71 1070.61,1445.71 1070.61,1445.71 \n",
       "  1070.96,1445.71 1070.96,1445.71 1071.32,1445.71 1071.32,1445.71 1071.67,1445.71 1071.67,1445.71 1072.02,1445.71 1072.02,1445.71 1072.38,1445.71 1072.38,1445.71 \n",
       "  1072.73,1445.71 1072.73,1445.71 1073.09,1445.71 1073.09,1445.71 1073.44,1445.71 1073.44,1445.71 1073.79,1445.71 1073.79,1445.71 1074.15,1445.71 1074.15,1445.71 \n",
       "  1074.5,1445.71 1074.5,1445.71 1074.85,1445.71 1074.85,1445.71 1075.21,1445.71 1075.21,1445.71 1075.56,1445.71 1075.56,1445.71 1075.92,1445.71 1075.92,1445.71 \n",
       "  1076.27,1445.71 1076.27,1445.71 1076.62,1445.71 1076.62,1445.71 1076.98,1445.71 1076.98,1445.71 1077.33,1445.71 1077.33,1445.71 1077.69,1445.71 1077.69,1445.71 \n",
       "  1078.04,1445.71 1078.04,1445.71 1078.39,1445.71 1078.39,1445.71 1078.75,1445.71 1078.75,1445.71 1079.1,1445.71 1079.1,1445.71 1079.46,1445.71 1079.46,1445.71 \n",
       "  1079.81,1445.71 1079.81,1445.71 1080.16,1445.71 1080.16,1445.71 1080.52,1445.71 1080.52,1445.71 1080.87,1445.71 1080.87,1445.71 1081.23,1445.71 1081.23,1445.71 \n",
       "  1081.58,1445.71 1081.58,1445.71 1081.93,1445.71 1081.93,1445.71 1082.29,1445.71 1082.29,1445.71 1082.64,1445.71 1082.64,1445.71 1082.99,1445.71 1082.99,1445.71 \n",
       "  1083.35,1445.71 1083.35,1445.71 1083.7,1445.71 1083.7,1445.71 1084.06,1445.71 1084.06,1445.71 1084.41,1445.71 1084.41,1445.71 1084.76,1445.71 1084.76,1445.71 \n",
       "  1085.12,1445.71 1085.12,1445.71 1085.47,1445.71 1085.47,1445.71 1085.83,1445.71 1085.83,1445.71 1086.18,1445.71 1086.18,1445.71 1086.53,1445.71 1086.53,1445.71 \n",
       "  1086.89,1445.71 1086.89,1445.71 1087.24,1445.71 1087.24,1445.71 1087.6,1445.71 1087.6,1445.71 1087.95,1445.71 1087.95,1445.71 1088.3,1445.71 1088.3,1445.71 \n",
       "  1088.66,1445.71 1088.66,1445.71 1089.01,1445.71 1089.01,1445.71 1089.37,1445.71 1089.37,1445.71 1089.72,1445.71 1090.07,1445.71 1090.07,1445.71 \n",
       "  1090.43,1445.71 1090.43,1445.71 1090.78,1445.71 1090.78,1445.71 1091.14,1445.71 1091.14,1445.71 1091.49,1445.71 1091.49,1445.71 1091.84,1445.71 1091.84,1445.71 \n",
       "  1092.2,1445.71 1092.2,1445.71 1092.55,1445.71 1092.55,1445.71 1092.9,1445.71 1092.9,1445.71 1093.26,1445.71 1093.26,1445.71 1093.61,1445.71 1093.61,1445.71 \n",
       "  1093.97,1445.71 1093.97,1445.71 1094.32,1445.71 1094.32,1445.71 1094.67,1445.71 1094.67,1445.71 1095.03,1445.71 1095.03,1445.71 1095.38,1445.71 1095.38,1445.71 \n",
       "  1095.74,1445.71 1095.74,1445.71 1096.09,1445.71 1096.09,1445.71 1096.44,1445.71 1096.44,1445.71 1096.8,1445.71 1096.8,1445.71 1097.15,1445.71 1097.15,1445.71 \n",
       "  1097.51,1445.71 1097.51,1445.71 1097.86,1445.71 1097.86,1445.71 1098.21,1445.71 1098.21,1445.71 1098.57,1445.71 1098.57,1445.71 1098.92,1445.71 1098.92,1445.71 \n",
       "  1099.28,1445.71 1099.28,1445.71 1099.63,1445.71 1099.63,1445.71 1099.98,1445.71 1099.98,1445.71 1100.34,1445.71 1100.34,1445.71 1100.69,1445.71 1100.69,1445.71 \n",
       "  1101.04,1445.71 1101.04,1445.71 1101.4,1445.71 1101.4,1445.71 1101.75,1445.71 1101.75,1445.71 1102.11,1445.71 1102.11,1445.71 1102.46,1445.71 1102.46,1445.71 \n",
       "  1102.81,1445.71 1102.81,1445.71 1103.17,1445.71 1103.17,1445.71 1103.52,1445.71 1103.52,1445.71 1103.88,1445.71 1103.88,1445.71 1104.23,1445.71 1104.23,1445.71 \n",
       "  1104.58,1445.71 1104.58,1445.71 1104.94,1445.71 1104.94,1445.71 1105.29,1445.71 1105.29,1445.71 1105.65,1445.71 1105.65,1445.71 1106,1445.71 1106,1445.71 \n",
       "  1106.35,1445.71 1106.35,1445.71 1106.71,1445.71 1106.71,1445.71 1107.06,1445.71 1107.06,1445.71 1107.42,1445.71 1107.42,1445.71 1107.77,1445.71 1107.77,1445.71 \n",
       "  1108.12,1445.71 1108.12,1445.71 1108.48,1445.71 1108.48,1445.71 1108.83,1445.71 1108.83,1445.71 1109.18,1445.71 1109.18,1445.71 1109.54,1445.71 1109.54,1445.71 \n",
       "  1109.89,1445.71 1109.89,1445.71 1110.25,1445.71 1110.25,1445.71 1110.6,1445.71 1110.6,1445.71 1110.95,1445.71 1110.95,1445.71 1111.31,1445.71 1111.31,1445.71 \n",
       "  1111.66,1445.71 1111.66,1445.71 1112.02,1445.71 1112.02,1445.71 1112.37,1445.71 1112.37,1445.71 1112.72,1445.71 1112.72,1445.71 1113.08,1445.71 1113.08,1445.71 \n",
       "  1113.43,1445.71 1113.43,1445.71 1113.79,1445.71 1113.79,1445.71 1114.14,1445.71 1114.14,1445.71 1114.49,1445.71 1114.49,1445.71 1114.85,1445.71 1114.85,1445.71 \n",
       "  1115.2,1445.71 1115.2,1445.71 1115.56,1445.71 1115.56,1445.71 1115.91,1445.71 1115.91,1445.71 1116.26,1445.71 1116.26,1445.71 1116.62,1445.71 1116.62,1445.71 \n",
       "  1116.97,1445.71 1116.97,1445.71 1117.32,1445.71 1117.32,1445.71 1117.68,1445.71 1117.68,1445.71 1118.03,1445.71 1118.03,1445.71 1118.39,1445.71 1118.39,1445.71 \n",
       "  1118.74,1445.71 1118.74,1445.71 1119.09,1445.71 1119.09,1445.71 1119.45,1445.71 1119.45,1445.71 1119.8,1445.71 1119.8,1445.71 1120.16,1445.71 1120.16,1445.71 \n",
       "  1120.51,1445.71 1120.51,1445.71 1120.86,1445.71 1120.86,1445.71 1121.22,1445.71 1121.22,1445.71 1121.57,1445.71 1121.57,1445.71 1121.93,1445.71 1121.93,1445.71 \n",
       "  1122.28,1445.71 1122.28,1445.71 1122.63,1445.71 1122.63,1445.71 1122.99,1445.71 1122.99,1445.71 1123.34,1445.71 1123.34,1445.71 1123.7,1445.71 1123.7,1445.71 \n",
       "  1124.05,1445.71 1124.05,1445.71 1124.4,1445.71 1124.4,1445.71 1124.76,1445.71 1124.76,1445.71 1125.11,1445.71 1125.11,1445.71 1125.46,1445.71 1125.46,1445.71 \n",
       "  1125.82,1445.71 1125.82,1445.71 1126.17,1445.71 1126.17,1445.71 1126.53,1445.71 1126.53,1445.71 1126.88,1445.71 1126.88,1445.71 1127.23,1445.71 1127.23,1445.71 \n",
       "  1127.59,1445.71 1127.59,1445.71 1127.94,1445.71 1127.94,1445.71 1128.3,1445.71 1128.3,1445.71 1128.65,1445.71 1128.65,1445.71 1129,1445.71 1129,1445.71 \n",
       "  1129.36,1445.71 1129.36,1445.71 1129.71,1445.71 1129.71,1445.71 1130.07,1445.71 1130.07,1445.71 1130.42,1445.71 1130.42,1445.71 1130.77,1445.71 1130.77,1445.71 \n",
       "  1131.13,1445.71 1131.13,1445.71 1131.48,1445.71 1131.48,1445.71 1131.84,1445.71 1131.84,1445.71 1132.19,1445.71 1132.19,1445.71 1132.54,1445.71 1132.54,1445.71 \n",
       "  1132.9,1445.71 1132.9,1445.72 1133.25,1445.72 1133.25,1445.71 1133.61,1445.71 1133.61,1445.71 1133.96,1445.71 1133.96,1445.71 1134.31,1445.71 1134.31,1445.71 \n",
       "  1134.67,1445.71 1134.67,1445.71 1135.02,1445.71 1135.02,1445.71 1135.37,1445.71 1135.37,1445.71 1135.73,1445.71 1135.73,1445.71 1136.08,1445.71 1136.08,1445.71 \n",
       "  1136.44,1445.71 1136.44,1445.71 1136.79,1445.71 1136.79,1445.71 1137.14,1445.71 1137.14,1445.72 1137.5,1445.72 1137.5,1445.71 1137.85,1445.71 1137.85,1445.71 \n",
       "  1138.21,1445.71 1138.21,1445.71 1138.56,1445.71 1138.56,1445.71 1138.91,1445.71 1138.91,1445.71 1139.27,1445.71 1139.27,1445.71 1139.62,1445.71 1139.62,1445.72 \n",
       "  1139.98,1445.72 1139.98,1445.71 1140.33,1445.71 1140.33,1445.71 1140.68,1445.71 1140.68,1445.71 1141.04,1445.71 1141.04,1445.71 1141.39,1445.71 1141.39,1445.71 \n",
       "  1141.75,1445.71 1141.75,1445.71 1142.1,1445.71 1142.1,1445.71 1142.45,1445.71 1142.45,1445.71 1142.81,1445.71 1142.81,1445.71 1143.16,1445.71 1143.16,1445.71 \n",
       "  1143.51,1445.71 1143.51,1445.71 1143.87,1445.71 1143.87,1445.71 1144.22,1445.71 1144.22,1445.71 1144.58,1445.71 1144.58,1445.71 1144.93,1445.71 1144.93,1445.71 \n",
       "  1145.28,1445.71 1145.28,1445.71 1145.64,1445.71 1145.64,1445.71 1145.99,1445.71 1145.99,1445.71 1146.35,1445.71 1146.35,1445.71 1146.7,1445.71 1146.7,1445.71 \n",
       "  1147.05,1445.71 1147.05,1445.71 1147.41,1445.71 1147.41,1445.71 1147.76,1445.71 1147.76,1445.71 1148.12,1445.71 1148.12,1445.71 1148.47,1445.71 1148.47,1445.71 \n",
       "  1148.82,1445.71 1148.82,1445.71 1149.18,1445.71 1149.18,1445.72 1149.53,1445.72 1149.53,1445.71 1149.89,1445.71 1149.89,1445.71 1150.24,1445.71 1150.24,1445.71 \n",
       "  1150.59,1445.71 1150.59,1445.71 1150.95,1445.71 1150.95,1445.71 1151.3,1445.71 1151.3,1445.71 1151.65,1445.71 1151.65,1445.71 1152.01,1445.71 1152.01,1445.71 \n",
       "  1152.36,1445.71 1152.36,1445.71 1152.72,1445.71 1152.72,1445.72 1153.07,1445.72 1153.07,1445.72 1153.42,1445.72 1153.42,1445.71 1153.78,1445.71 1153.78,1445.71 \n",
       "  1154.13,1445.71 1154.13,1445.71 1154.49,1445.71 1154.49,1445.71 1154.84,1445.71 1154.84,1445.72 1155.19,1445.72 1155.19,1445.71 1155.55,1445.71 1155.55,1445.71 \n",
       "  1155.9,1445.71 1155.9,1445.71 1156.26,1445.71 1156.26,1445.71 1156.61,1445.71 1156.61,1445.71 1156.96,1445.71 1157.32,1445.71 1157.32,1445.71 \n",
       "  1157.67,1445.71 1157.67,1445.71 1158.03,1445.71 1158.38,1445.71 1158.73,1445.71 1158.73,1445.71 1159.09,1445.71 1159.09,1445.71 \n",
       "  1159.44,1445.71 1159.44,1445.71 1159.79,1445.71 1159.79,1445.72 1160.15,1445.72 1160.15,1445.72 1160.5,1445.72 1160.5,1445.71 1160.86,1445.71 1160.86,1445.71 \n",
       "  1161.21,1445.71 1161.21,1445.72 1161.56,1445.72 1161.56,1445.71 1161.92,1445.71 1161.92,1445.71 1162.27,1445.71 1162.27,1445.72 1162.63,1445.72 1162.63,1445.71 \n",
       "  1162.98,1445.71 1162.98,1445.72 1163.33,1445.72 1163.33,1445.71 1163.69,1445.71 1164.04,1445.71 1164.04,1445.71 1164.4,1445.71 1164.4,1445.71 \n",
       "  1164.75,1445.71 1164.75,1445.71 1165.1,1445.71 1165.1,1445.71 1165.46,1445.71 1165.46,1445.71 1165.81,1445.71 1166.17,1445.71 1166.17,1445.71 \n",
       "  1166.52,1445.71 1166.52,1445.71 1166.87,1445.71 1166.87,1445.71 1167.23,1445.71 1167.23,1445.72 1167.58,1445.72 1167.58,1445.71 1167.93,1445.71 1167.93,1445.71 \n",
       "  1168.29,1445.71 1168.29,1445.71 1168.64,1445.71 1168.64,1445.71 1169,1445.71 1169,1445.72 1169.35,1445.72 1169.35,1445.71 1169.7,1445.71 1169.7,1445.71 \n",
       "  1170.06,1445.71 1170.06,1445.71 1170.41,1445.71 1170.41,1445.72 1170.77,1445.72 1170.77,1445.71 1171.12,1445.71 1171.12,1445.72 1171.47,1445.72 1171.47,1445.72 \n",
       "  1171.83,1445.72 1171.83,1445.72 1172.18,1445.72 1172.18,1445.71 1172.54,1445.71 1172.54,1445.71 1172.89,1445.71 1172.89,1445.71 1173.24,1445.71 1173.24,1445.71 \n",
       "  1173.6,1445.71 1173.6,1445.71 1173.95,1445.71 1173.95,1445.71 1174.31,1445.71 1174.31,1445.71 1174.66,1445.71 1174.66,1445.71 1175.01,1445.71 1175.01,1445.71 \n",
       "  1175.37,1445.71 1175.37,1445.72 1175.72,1445.72 1175.72,1445.72 1176.08,1445.72 1176.08,1445.71 1176.43,1445.71 1176.43,1445.72 1176.78,1445.72 1176.78,1445.71 \n",
       "  1177.14,1445.71 1177.14,1445.71 1177.49,1445.71 1177.49,1445.71 1177.84,1445.71 1177.84,1445.71 1178.2,1445.71 1178.2,1445.72 1178.55,1445.72 1178.55,1445.71 \n",
       "  1178.91,1445.71 1178.91,1445.71 1179.26,1445.71 1179.26,1445.71 1179.61,1445.71 1179.61,1445.71 1179.97,1445.71 1179.97,1445.71 1180.32,1445.71 1180.32,1445.71 \n",
       "  1180.68,1445.71 1180.68,1445.71 1181.03,1445.71 1181.03,1445.72 1181.38,1445.72 1181.38,1445.71 1181.74,1445.71 1181.74,1445.71 1182.09,1445.71 1182.09,1445.71 \n",
       "  1182.45,1445.71 1182.45,1445.71 1182.8,1445.71 1182.8,1445.71 1183.15,1445.71 1183.15,1445.71 1183.51,1445.71 1183.51,1445.72 1183.86,1445.72 \n",
       "  1184.22,1445.72 1184.57,1445.72 1184.57,1445.71 1184.92,1445.71 1185.28,1445.71 1185.28,1445.71 1185.63,1445.71 1185.63,1445.71 \n",
       "  1185.98,1445.71 1185.98,1445.71 1186.34,1445.71 1186.34,1445.71 1186.69,1445.71 1186.69,1445.71 1187.05,1445.71 1187.05,1445.72 1187.4,1445.72 1187.4,1445.72 \n",
       "  1187.75,1445.72 1187.75,1445.71 1188.11,1445.71 1188.11,1445.72 1188.46,1445.72 1188.46,1445.72 1188.82,1445.72 1188.82,1445.72 1189.17,1445.72 1189.17,1445.71 \n",
       "  1189.52,1445.71 1189.52,1445.72 1189.88,1445.72 1189.88,1445.72 1190.23,1445.72 1190.23,1445.72 1190.59,1445.72 1190.59,1445.71 1190.94,1445.71 1190.94,1445.71 \n",
       "  1191.29,1445.71 1191.29,1445.72 1191.65,1445.72 1191.65,1445.71 1192,1445.71 1192.36,1445.71 1192.36,1445.71 1192.71,1445.71 1192.71,1445.71 \n",
       "  1193.06,1445.71 1193.06,1445.71 1193.42,1445.71 1193.77,1445.71 1193.77,1445.71 1194.12,1445.71 1194.12,1445.71 1194.48,1445.71 1194.48,1445.71 \n",
       "  1194.83,1445.71 1194.83,1445.71 1195.19,1445.71 1195.19,1445.72 1195.54,1445.72 1195.54,1445.72 1195.89,1445.72 1195.89,1445.71 1196.25,1445.71 1196.25,1445.72 \n",
       "  1196.6,1445.72 1196.6,1445.71 1196.96,1445.71 1196.96,1445.72 1197.31,1445.72 1197.31,1445.71 1197.66,1445.71 1197.66,1445.71 1198.02,1445.71 1198.02,1445.72 \n",
       "  1198.37,1445.72 1198.37,1445.71 1198.73,1445.71 1198.73,1445.72 1199.08,1445.72 1199.08,1445.71 1199.43,1445.71 1199.43,1445.72 1199.79,1445.72 1199.79,1445.71 \n",
       "  1200.14,1445.71 1200.14,1445.71 1200.5,1445.71 1200.5,1445.72 1200.85,1445.72 1200.85,1445.71 1201.2,1445.71 1201.2,1445.71 1201.56,1445.71 1201.56,1445.72 \n",
       "  1201.91,1445.72 1201.91,1445.71 1202.26,1445.71 1202.26,1445.72 1202.62,1445.72 1202.62,1445.71 1202.97,1445.71 1202.97,1445.71 1203.33,1445.71 1203.33,1445.71 \n",
       "  1203.68,1445.71 1203.68,1445.72 1204.03,1445.72 1204.03,1445.72 1204.39,1445.72 1204.39,1445.72 1204.74,1445.72 1204.74,1445.71 1205.1,1445.71 1205.1,1445.71 \n",
       "  1205.45,1445.71 1205.45,1445.72 1205.8,1445.72 1205.8,1445.72 1206.16,1445.72 1206.16,1445.71 1206.51,1445.71 1206.51,1445.71 1206.87,1445.71 1206.87,1445.72 \n",
       "  1207.22,1445.72 1207.22,1445.72 1207.57,1445.72 1207.57,1445.72 1207.93,1445.72 1207.93,1445.72 1208.28,1445.72 1208.28,1445.71 1208.64,1445.71 1208.64,1445.71 \n",
       "  1208.99,1445.71 1208.99,1445.71 1209.34,1445.71 1209.34,1445.72 1209.7,1445.72 1209.7,1445.71 1210.05,1445.71 1210.05,1445.72 1210.4,1445.72 1210.4,1445.71 \n",
       "  1210.76,1445.71 1210.76,1445.71 1211.11,1445.71 1211.11,1445.72 1211.47,1445.72 1211.47,1445.71 1211.82,1445.71 1211.82,1445.71 1212.17,1445.71 1212.17,1445.71 \n",
       "  1212.53,1445.71 1212.53,1445.71 1212.88,1445.71 1212.88,1445.71 1213.24,1445.71 1213.24,1445.72 1213.59,1445.72 1213.59,1445.71 1213.94,1445.71 1213.94,1445.72 \n",
       "  1214.3,1445.72 1214.3,1445.71 1214.65,1445.71 1214.65,1445.71 1215.01,1445.71 1215.01,1445.72 1215.36,1445.72 1215.36,1445.71 1215.71,1445.71 \n",
       "  1216.07,1445.71 1216.07,1445.72 1216.42,1445.72 1216.42,1445.71 1216.78,1445.71 1216.78,1445.72 1217.13,1445.72 1217.13,1445.71 1217.48,1445.71 1217.48,1445.72 \n",
       "  1217.84,1445.72 1217.84,1445.72 1218.19,1445.72 1218.19,1445.71 1218.55,1445.71 1218.55,1445.71 1218.9,1445.71 1218.9,1445.72 1219.25,1445.72 1219.25,1445.71 \n",
       "  1219.61,1445.71 1219.61,1445.72 1219.96,1445.72 1220.31,1445.72 1220.31,1445.72 1220.67,1445.72 1220.67,1445.72 1221.02,1445.72 1221.02,1445.72 \n",
       "  1221.38,1445.72 1221.38,1445.72 1221.73,1445.72 1221.73,1445.72 1222.08,1445.72 1222.08,1445.72 1222.44,1445.72 1222.79,1445.72 1222.79,1445.72 \n",
       "  1223.15,1445.72 1223.15,1445.72 1223.5,1445.72 1223.5,1445.72 1223.85,1445.72 1223.85,1445.72 1224.21,1445.72 1224.21,1445.71 1224.56,1445.71 1224.56,1445.72 \n",
       "  1224.92,1445.72 1224.92,1445.71 1225.27,1445.71 1225.27,1445.72 1225.62,1445.72 1225.62,1445.72 1225.98,1445.72 1225.98,1445.71 1226.33,1445.71 1226.33,1445.71 \n",
       "  1226.69,1445.71 1226.69,1445.72 1227.04,1445.72 1227.04,1445.72 1227.39,1445.72 1227.39,1445.72 1227.75,1445.72 1227.75,1445.72 1228.1,1445.72 1228.1,1445.71 \n",
       "  1228.45,1445.71 1228.45,1445.71 1228.81,1445.71 1228.81,1445.72 1229.16,1445.72 1229.16,1445.72 1229.52,1445.72 1229.52,1445.71 1229.87,1445.71 1229.87,1445.72 \n",
       "  1230.22,1445.72 1230.22,1445.71 1230.58,1445.71 1230.58,1445.72 1230.93,1445.72 1230.93,1445.72 1231.29,1445.72 1231.29,1445.71 1231.64,1445.71 1231.64,1445.71 \n",
       "  1231.99,1445.71 1231.99,1445.72 1232.35,1445.72 1232.35,1445.71 1232.7,1445.71 1232.7,1445.72 1233.06,1445.72 1233.06,1445.71 1233.41,1445.71 1233.41,1445.72 \n",
       "  1233.76,1445.72 1233.76,1445.72 1234.12,1445.72 1234.12,1445.72 1234.47,1445.72 1234.47,1445.71 1234.83,1445.71 1235.18,1445.71 1235.18,1445.72 \n",
       "  1235.53,1445.72 1235.53,1445.72 1235.89,1445.72 1235.89,1445.72 1236.24,1445.72 1236.24,1445.71 1236.59,1445.71 1236.59,1445.71 1236.95,1445.71 1236.95,1445.71 \n",
       "  1237.3,1445.71 1237.3,1445.72 1237.66,1445.72 1237.66,1445.72 1238.01,1445.72 1238.01,1445.72 1238.36,1445.72 1238.36,1445.72 1238.72,1445.72 1238.72,1445.71 \n",
       "  1239.07,1445.71 1239.07,1445.72 1239.43,1445.72 1239.43,1445.72 1239.78,1445.72 1239.78,1445.72 1240.13,1445.72 1240.13,1445.72 1240.49,1445.72 1240.49,1445.72 \n",
       "  1240.84,1445.72 1240.84,1445.71 1241.2,1445.71 1241.2,1445.71 1241.55,1445.71 1241.55,1445.71 1241.9,1445.71 1241.9,1445.72 1242.26,1445.72 1242.26,1445.71 \n",
       "  1242.61,1445.71 1242.61,1445.71 1242.97,1445.71 1242.97,1445.71 1243.32,1445.71 1243.32,1445.72 1243.67,1445.72 1243.67,1445.72 1244.03,1445.72 1244.03,1445.72 \n",
       "  1244.38,1445.72 1244.38,1445.72 1244.73,1445.72 1244.73,1445.72 1245.09,1445.72 1245.09,1445.72 1245.44,1445.72 1245.44,1445.72 1245.8,1445.72 1245.8,1445.71 \n",
       "  1246.15,1445.71 1246.15,1445.72 1246.5,1445.72 1246.5,1445.71 1246.86,1445.71 1246.86,1445.71 1247.21,1445.71 1247.21,1445.72 1247.57,1445.72 1247.57,1445.72 \n",
       "  1247.92,1445.72 1247.92,1445.72 1248.27,1445.72 1248.27,1445.72 1248.63,1445.72 1248.63,1445.72 1248.98,1445.72 1248.98,1445.71 1249.34,1445.71 1249.34,1445.72 \n",
       "  1249.69,1445.72 1249.69,1445.71 1250.04,1445.71 1250.04,1445.72 1250.4,1445.72 1250.4,1445.72 1250.75,1445.72 1250.75,1445.72 1251.11,1445.72 1251.11,1445.71 \n",
       "  1251.46,1445.71 1251.46,1445.72 1251.81,1445.72 1251.81,1445.72 1252.17,1445.72 1252.17,1445.71 1252.52,1445.71 1252.52,1445.72 1252.87,1445.72 1252.87,1445.71 \n",
       "  1253.23,1445.71 1253.23,1445.71 1253.58,1445.71 1253.58,1445.72 1253.94,1445.72 1253.94,1445.72 1254.29,1445.72 1254.29,1445.72 1254.64,1445.72 1254.64,1445.72 \n",
       "  1255,1445.72 1255,1445.71 1255.35,1445.71 1255.35,1445.72 1255.71,1445.72 1256.06,1445.72 1256.06,1445.72 1256.41,1445.72 1256.41,1445.72 \n",
       "  1256.77,1445.72 1256.77,1445.72 1257.12,1445.72 1257.12,1445.72 1257.48,1445.72 1257.48,1445.72 1257.83,1445.72 1257.83,1445.72 1258.18,1445.72 1258.18,1445.72 \n",
       "  1258.54,1445.72 1258.54,1445.72 1258.89,1445.72 1258.89,1445.72 1259.25,1445.72 1259.25,1445.72 1259.6,1445.72 1259.6,1445.71 1259.95,1445.71 1259.95,1445.72 \n",
       "  1260.31,1445.72 1260.31,1445.72 1260.66,1445.72 1260.66,1445.71 1261.02,1445.71 1261.02,1445.72 1261.37,1445.72 1261.72,1445.72 1261.72,1445.72 \n",
       "  1262.08,1445.72 1262.08,1445.72 1262.43,1445.72 1262.43,1445.72 1262.78,1445.72 1262.78,1445.72 1263.14,1445.72 1263.14,1445.72 1263.49,1445.72 1263.49,1445.72 \n",
       "  1263.85,1445.72 1263.85,1445.71 1264.2,1445.71 1264.2,1445.72 1264.55,1445.72 1264.91,1445.72 1264.91,1445.72 1265.26,1445.72 1265.26,1445.72 \n",
       "  1265.62,1445.72 1265.62,1445.72 1265.97,1445.72 1265.97,1445.72 1266.32,1445.72 1266.68,1445.72 1266.68,1445.72 1267.03,1445.72 1267.03,1445.71 \n",
       "  1267.39,1445.71 1267.39,1445.72 1267.74,1445.72 1267.74,1445.71 1268.09,1445.71 1268.09,1445.72 1268.45,1445.72 1268.45,1445.72 1268.8,1445.72 1268.8,1445.72 \n",
       "  1269.16,1445.72 1269.16,1445.72 1269.51,1445.72 1269.51,1445.72 1269.86,1445.72 1269.86,1445.71 1270.22,1445.71 1270.22,1445.72 1270.57,1445.72 1270.57,1445.71 \n",
       "  1270.92,1445.71 1270.92,1445.72 1271.28,1445.72 1271.28,1445.71 1271.63,1445.71 1271.63,1445.71 1271.99,1445.71 1271.99,1445.72 1272.34,1445.72 1272.34,1445.71 \n",
       "  1272.69,1445.71 1272.69,1445.72 1273.05,1445.72 1273.05,1445.72 1273.4,1445.72 1273.4,1445.72 1273.76,1445.72 1273.76,1445.72 1274.11,1445.72 1274.11,1445.72 \n",
       "  1274.46,1445.72 1274.46,1445.72 1274.82,1445.72 1274.82,1445.72 1275.17,1445.72 1275.17,1445.71 1275.53,1445.71 1275.53,1445.71 1275.88,1445.71 1275.88,1445.72 \n",
       "  1276.23,1445.72 1276.23,1445.72 1276.59,1445.72 1276.59,1445.72 1276.94,1445.72 1276.94,1445.72 1277.3,1445.72 1277.3,1445.72 1277.65,1445.72 1277.65,1445.71 \n",
       "  1278,1445.71 1278,1445.72 1278.36,1445.72 1278.36,1445.71 1278.71,1445.71 1278.71,1445.72 1279.06,1445.72 1279.06,1445.72 1279.42,1445.72 1279.42,1445.72 \n",
       "  1279.77,1445.72 1279.77,1445.72 1280.13,1445.72 1280.13,1445.72 1280.48,1445.72 1280.48,1445.72 1280.83,1445.72 1280.83,1445.71 1281.19,1445.71 1281.19,1445.71 \n",
       "  1281.54,1445.71 1281.54,1445.72 1281.9,1445.72 1281.9,1445.72 1282.25,1445.72 1282.25,1445.71 1282.6,1445.71 1282.6,1445.72 1282.96,1445.72 1282.96,1445.72 \n",
       "  1283.31,1445.72 1283.31,1445.72 1283.67,1445.72 1283.67,1445.72 1284.02,1445.72 1284.02,1445.72 1284.37,1445.72 1284.37,1445.72 1284.73,1445.72 1284.73,1445.72 \n",
       "  1285.08,1445.72 1285.08,1445.72 1285.44,1445.72 1285.79,1445.72 1285.79,1445.72 1286.14,1445.72 1286.14,1445.72 1286.5,1445.72 1286.5,1445.72 \n",
       "  1286.85,1445.72 1286.85,1445.72 1287.2,1445.72 1287.2,1445.72 1287.56,1445.72 1287.56,1445.71 1287.91,1445.71 1287.91,1445.72 1288.27,1445.72 1288.27,1445.72 \n",
       "  1288.62,1445.72 1288.62,1445.72 1288.97,1445.72 1288.97,1445.72 1289.33,1445.72 1289.33,1445.72 1289.68,1445.72 1289.68,1445.72 1290.04,1445.72 1290.04,1445.71 \n",
       "  1290.39,1445.71 1290.39,1445.71 1290.74,1445.71 1290.74,1445.71 1291.1,1445.71 1291.1,1445.72 1291.45,1445.72 1291.45,1445.71 1291.81,1445.71 1291.81,1445.72 \n",
       "  1292.16,1445.72 1292.16,1445.72 1292.51,1445.72 1292.51,1445.72 1292.87,1445.72 1292.87,1445.71 1293.22,1445.71 1293.22,1445.72 1293.58,1445.72 1293.58,1445.72 \n",
       "  1293.93,1445.72 1293.93,1445.72 1294.28,1445.72 1294.28,1445.72 1294.64,1445.72 1294.64,1445.72 1294.99,1445.72 1295.34,1445.72 1295.34,1445.72 \n",
       "  1295.7,1445.72 1295.7,1445.72 1296.05,1445.72 1296.05,1445.72 1296.41,1445.72 1296.41,1445.72 1296.76,1445.72 1296.76,1445.72 1297.11,1445.72 1297.11,1445.72 \n",
       "  1297.47,1445.72 1297.47,1445.71 1297.82,1445.71 1297.82,1445.72 1298.18,1445.72 1298.18,1445.72 1298.53,1445.72 1298.53,1445.72 1298.88,1445.72 1298.88,1445.72 \n",
       "  1299.24,1445.72 1299.24,1445.72 1299.59,1445.72 1299.59,1445.72 1299.95,1445.72 1299.95,1445.72 1300.3,1445.72 1300.3,1445.72 1300.65,1445.72 \n",
       "  1301.01,1445.72 1301.01,1445.72 1301.36,1445.72 1301.36,1445.71 1301.72,1445.71 1301.72,1445.71 1302.07,1445.71 1302.07,1445.72 1302.42,1445.72 1302.42,1445.72 \n",
       "  1302.78,1445.72 1302.78,1445.72 1303.13,1445.72 1303.13,1445.71 1303.49,1445.71 1303.49,1445.72 1303.84,1445.72 1303.84,1445.71 1304.19,1445.71 1304.19,1445.72 \n",
       "  1304.55,1445.72 1304.55,1445.71 1304.9,1445.71 1305.25,1445.71 1305.25,1445.72 1305.61,1445.72 1305.61,1445.72 1305.96,1445.72 \n",
       "  1306.32,1445.72 1306.32,1445.72 1306.67,1445.72 1306.67,1445.72 1307.02,1445.72 1307.02,1445.72 1307.38,1445.72 1307.38,1445.71 1307.73,1445.71 \n",
       "  1308.09,1445.71 1308.09,1445.72 1308.44,1445.72 1308.44,1445.72 1308.79,1445.72 1308.79,1445.72 1309.15,1445.72 1309.15,1445.72 1309.5,1445.72 1309.5,1445.72 \n",
       "  1309.86,1445.72 1309.86,1445.72 1310.21,1445.72 1310.21,1445.72 1310.56,1445.72 1310.56,1445.72 1310.92,1445.72 1310.92,1445.72 1311.27,1445.72 1311.27,1445.72 \n",
       "  1311.63,1445.72 1311.63,1445.71 1311.98,1445.71 1311.98,1445.72 1312.33,1445.72 1312.33,1445.71 1312.69,1445.71 1312.69,1445.72 1313.04,1445.72 1313.04,1445.72 \n",
       "  1313.39,1445.72 1313.39,1445.72 1313.75,1445.72 1313.75,1445.72 1314.1,1445.72 1314.46,1445.72 1314.46,1445.72 1314.81,1445.72 1314.81,1445.72 \n",
       "  1315.16,1445.72 1315.16,1445.72 1315.52,1445.72 1315.52,1445.72 1315.87,1445.72 1315.87,1445.72 1316.23,1445.72 1316.23,1445.72 1316.58,1445.72 1316.58,1445.72 \n",
       "  1316.93,1445.72 1316.93,1445.72 1317.29,1445.72 1317.29,1445.72 1317.64,1445.72 1317.64,1445.72 1318,1445.72 1318,1445.72 1318.35,1445.72 1318.35,1445.72 \n",
       "  1318.7,1445.72 1318.7,1445.72 1319.06,1445.72 1319.06,1445.72 1319.41,1445.72 1319.41,1445.72 1319.77,1445.72 1319.77,1445.72 1320.12,1445.72 1320.12,1445.72 \n",
       "  1320.47,1445.72 1320.47,1445.72 1320.83,1445.72 1320.83,1445.72 1321.18,1445.72 1321.18,1445.72 1321.53,1445.72 1321.53,1445.72 1321.89,1445.72 1321.89,1445.72 \n",
       "  1322.24,1445.72 1322.24,1445.72 1322.6,1445.72 1322.6,1445.71 1322.95,1445.71 1322.95,1445.72 1323.3,1445.72 1323.3,1445.72 1323.66,1445.72 1323.66,1445.72 \n",
       "  1324.01,1445.72 1324.01,1445.71 1324.37,1445.71 1324.37,1445.72 1324.72,1445.72 1324.72,1445.72 1325.07,1445.72 1325.07,1445.72 1325.43,1445.72 1325.43,1445.72 \n",
       "  1325.78,1445.72 1325.78,1445.72 1326.14,1445.72 1326.14,1445.72 1326.49,1445.72 1326.49,1445.72 1326.84,1445.72 1326.84,1445.72 1327.2,1445.72 1327.2,1445.72 \n",
       "  1327.55,1445.72 1327.91,1445.72 1327.91,1445.72 1328.26,1445.72 1328.26,1445.72 1328.61,1445.72 1328.61,1445.72 1328.97,1445.72 \n",
       "  1329.32,1445.72 1329.32,1445.72 1329.67,1445.72 1329.67,1445.72 1330.03,1445.72 1330.38,1445.72 1330.74,1445.72 1330.74,1445.72 \n",
       "  1331.09,1445.72 1331.09,1445.72 1331.44,1445.72 1331.44,1445.72 1331.8,1445.72 1331.8,1445.72 1332.15,1445.72 1332.15,1445.72 1332.51,1445.72 1332.51,1445.72 \n",
       "  1332.86,1445.72 1332.86,1445.72 1333.21,1445.72 1333.21,1445.72 1333.57,1445.72 1333.57,1445.72 1333.92,1445.72 1333.92,1445.72 1334.28,1445.72 1334.28,1445.72 \n",
       "  1334.63,1445.72 1334.63,1445.72 1334.98,1445.72 1334.98,1445.72 1335.34,1445.72 1335.34,1445.72 1335.69,1445.72 1335.69,1445.72 1336.05,1445.72 \n",
       "  1336.4,1445.72 1336.4,1445.72 1336.75,1445.72 1336.75,1445.72 1337.11,1445.72 1337.11,1445.72 1337.46,1445.72 1337.46,1445.72 1337.81,1445.72 1337.81,1445.72 \n",
       "  1338.17,1445.72 1338.17,1445.72 1338.52,1445.72 1338.52,1445.71 1338.88,1445.71 1338.88,1445.72 1339.23,1445.72 1339.23,1445.72 1339.58,1445.72 1339.58,1445.72 \n",
       "  1339.94,1445.72 1339.94,1445.72 1340.29,1445.72 1340.29,1445.72 1340.65,1445.72 1340.65,1445.72 1341,1445.72 1341,1445.72 1341.35,1445.72 1341.35,1445.71 \n",
       "  1341.71,1445.71 1341.71,1445.72 1342.06,1445.72 1342.06,1445.72 1342.42,1445.72 1342.77,1445.72 1342.77,1445.72 1343.12,1445.72 1343.12,1445.72 \n",
       "  1343.48,1445.72 1343.48,1445.72 1343.83,1445.72 1343.83,1445.72 1344.19,1445.72 1344.19,1445.72 1344.54,1445.72 1344.54,1445.72 1344.89,1445.72 1344.89,1445.72 \n",
       "  1345.25,1445.72 1345.25,1445.72 1345.6,1445.72 1345.6,1445.72 1345.96,1445.72 1345.96,1445.72 1346.31,1445.72 1346.31,1445.72 1346.66,1445.72 1346.66,1445.72 \n",
       "  1347.02,1445.72 1347.02,1445.72 1347.37,1445.72 1347.37,1445.72 1347.72,1445.72 1347.72,1445.72 1348.08,1445.72 1348.08,1445.72 1348.43,1445.72 1348.43,1445.72 \n",
       "  1348.79,1445.72 1348.79,1445.72 1349.14,1445.72 1349.14,1445.72 1349.49,1445.72 1349.49,1445.72 1349.85,1445.72 1349.85,1445.72 1350.2,1445.72 1350.2,1445.72 \n",
       "  1350.56,1445.72 1350.56,1445.72 1350.91,1445.72 1350.91,1445.72 1351.26,1445.72 1351.26,1445.72 1351.62,1445.72 1351.62,1445.72 1351.97,1445.72 \n",
       "  1352.33,1445.72 1352.33,1445.72 1352.68,1445.72 1352.68,1445.72 1353.03,1445.72 1353.03,1445.72 1353.39,1445.72 1353.39,1445.72 1353.74,1445.72 1353.74,1445.72 \n",
       "  1354.1,1445.72 1354.1,1445.72 1354.45,1445.72 1354.8,1445.72 1354.8,1445.72 1355.16,1445.72 1355.51,1445.72 1355.51,1445.72 \n",
       "  1355.86,1445.72 1355.86,1445.72 1356.22,1445.72 1356.22,1445.72 1356.57,1445.72 1356.57,1445.72 1356.93,1445.72 1356.93,1445.72 1357.28,1445.72 1357.28,1445.72 \n",
       "  1357.63,1445.72 1357.63,1445.72 1357.99,1445.72 1357.99,1445.72 1358.34,1445.72 1358.34,1445.72 1358.7,1445.72 1358.7,1445.72 1359.05,1445.72 1359.05,1445.72 \n",
       "  1359.4,1445.72 1359.4,1445.72 1359.76,1445.72 1359.76,1445.72 1360.11,1445.72 1360.11,1445.72 1360.47,1445.72 1360.47,1445.72 1360.82,1445.72 1360.82,1445.72 \n",
       "  1361.17,1445.72 1361.17,1445.72 1361.53,1445.72 1361.53,1445.72 1361.88,1445.72 1361.88,1445.72 1362.24,1445.72 1362.24,1445.72 1362.59,1445.72 1362.59,1445.72 \n",
       "  1362.94,1445.72 1362.94,1445.72 1363.3,1445.72 1363.3,1445.72 1363.65,1445.72 1363.65,1445.72 1364,1445.72 1364,1445.72 1364.36,1445.72 1364.36,1445.72 \n",
       "  1364.71,1445.72 1364.71,1445.72 1365.07,1445.72 1365.07,1445.72 1365.42,1445.72 1365.42,1445.72 1365.77,1445.72 1365.77,1445.72 1366.13,1445.72 1366.13,1445.72 \n",
       "  1366.48,1445.72 1366.48,1445.72 1366.84,1445.72 1366.84,1445.72 1367.19,1445.72 1367.19,1445.72 1367.54,1445.72 1367.54,1445.72 1367.9,1445.72 1367.9,1445.72 \n",
       "  1368.25,1445.72 1368.25,1445.72 1368.61,1445.72 1368.61,1445.71 1368.96,1445.71 1368.96,1445.72 1369.31,1445.72 1369.31,1445.72 1369.67,1445.72 1369.67,1445.72 \n",
       "  1370.02,1445.72 1370.02,1445.72 1370.38,1445.72 1370.38,1445.72 1370.73,1445.72 1370.73,1445.72 1371.08,1445.72 1371.08,1445.72 1371.44,1445.72 1371.44,1445.72 \n",
       "  1371.79,1445.72 1371.79,1445.72 1372.14,1445.72 1372.14,1445.72 1372.5,1445.72 1372.5,1445.72 1372.85,1445.72 1372.85,1445.72 1373.21,1445.72 1373.21,1445.72 \n",
       "  1373.56,1445.72 1373.56,1445.72 1373.91,1445.72 1374.27,1445.72 1374.27,1445.72 1374.62,1445.72 1374.62,1445.72 1374.98,1445.72 1374.98,1445.72 \n",
       "  1375.33,1445.72 1375.33,1445.72 1375.68,1445.72 1375.68,1445.72 1376.04,1445.72 1376.04,1445.72 1376.39,1445.72 1376.39,1445.72 1376.75,1445.72 1376.75,1445.72 \n",
       "  1377.1,1445.72 1377.1,1445.72 1377.45,1445.72 1377.45,1445.72 1377.81,1445.72 1377.81,1445.72 1378.16,1445.72 1378.16,1445.72 1378.52,1445.72 1378.52,1445.72 \n",
       "  1378.87,1445.72 1378.87,1445.72 1379.22,1445.72 1379.22,1445.72 1379.58,1445.72 1379.58,1445.72 1379.93,1445.72 1379.93,1445.72 1380.28,1445.72 1380.28,1445.72 \n",
       "  1380.64,1445.72 1380.64,1445.72 1380.99,1445.72 1381.35,1445.72 1381.7,1445.72 1381.7,1445.72 1382.05,1445.72 1382.05,1445.72 \n",
       "  1382.41,1445.72 1382.41,1445.72 1382.76,1445.72 1382.76,1445.72 1383.12,1445.72 1383.12,1445.72 1383.47,1445.72 1383.47,1445.72 1383.82,1445.72 1383.82,1445.72 \n",
       "  1384.18,1445.72 1384.18,1445.72 1384.53,1445.72 1384.53,1445.72 1384.89,1445.72 1384.89,1445.72 1385.24,1445.72 1385.24,1445.72 1385.59,1445.72 1385.59,1445.72 \n",
       "  1385.95,1445.72 1385.95,1445.72 1386.3,1445.72 1386.3,1445.72 1386.66,1445.72 1386.66,1445.72 1387.01,1445.72 1387.01,1445.72 1387.36,1445.72 1387.36,1445.72 \n",
       "  1387.72,1445.72 1387.72,1445.72 1388.07,1445.72 1388.43,1445.72 1388.43,1445.72 1388.78,1445.72 1388.78,1445.71 1389.13,1445.71 1389.13,1445.72 \n",
       "  1389.49,1445.72 1389.49,1445.72 1389.84,1445.72 1389.84,1445.71 1390.19,1445.71 1390.19,1445.72 1390.55,1445.72 1390.55,1445.72 1390.9,1445.72 1390.9,1445.72 \n",
       "  1391.26,1445.72 1391.61,1445.72 1391.61,1445.72 1391.96,1445.72 1391.96,1445.72 1392.32,1445.72 1392.32,1445.72 1392.67,1445.72 1392.67,1445.72 \n",
       "  1393.03,1445.72 1393.03,1445.72 1393.38,1445.72 1393.38,1445.72 1393.73,1445.72 1393.73,1445.72 1394.09,1445.72 1394.09,1445.72 1394.44,1445.72 1394.44,1445.72 \n",
       "  1394.8,1445.72 1394.8,1445.72 1395.15,1445.72 1395.15,1445.72 1395.5,1445.72 1395.5,1445.71 1395.86,1445.71 1395.86,1445.72 1396.21,1445.72 1396.21,1445.72 \n",
       "  1396.57,1445.72 1396.57,1445.72 1396.92,1445.72 1396.92,1445.72 1397.27,1445.72 1397.27,1445.72 1397.63,1445.72 1397.63,1445.72 1397.98,1445.72 \n",
       "  1398.33,1445.72 1398.69,1445.72 1399.04,1445.72 1399.04,1445.72 1399.4,1445.72 1399.4,1445.72 1399.75,1445.72 1399.75,1445.72 \n",
       "  1400.1,1445.72 1400.1,1445.72 1400.46,1445.72 1400.46,1445.72 1400.81,1445.72 1400.81,1445.72 1401.17,1445.72 1401.17,1445.72 1401.52,1445.72 1401.52,1445.72 \n",
       "  1401.87,1445.72 1401.87,1445.72 1402.23,1445.72 1402.58,1445.72 1402.58,1445.72 1402.94,1445.72 1402.94,1445.72 1403.29,1445.72 1403.29,1445.72 \n",
       "  1403.64,1445.72 1403.64,1445.72 1404,1445.72 1404,1445.72 1404.35,1445.72 1404.71,1445.72 1404.71,1445.72 1405.06,1445.72 1405.06,1445.72 \n",
       "  1405.41,1445.72 1405.41,1445.72 1405.77,1445.72 1405.77,1445.72 1406.12,1445.72 1406.12,1445.72 1406.47,1445.72 1406.83,1445.72 1406.83,1445.72 \n",
       "  1407.18,1445.72 1407.18,1445.72 1407.54,1445.72 1407.54,1445.72 1407.89,1445.72 1407.89,1445.72 1408.24,1445.72 1408.24,1445.72 1408.6,1445.72 1408.6,1445.72 \n",
       "  1408.95,1445.72 1408.95,1445.72 1409.31,1445.72 1409.31,1445.71 1409.66,1445.71 1409.66,1445.72 1410.01,1445.72 1410.01,1445.71 1410.37,1445.71 1410.37,1445.72 \n",
       "  1410.72,1445.72 1410.72,1445.72 1411.08,1445.72 1411.08,1445.72 1411.43,1445.72 1411.43,1445.72 1411.78,1445.72 1411.78,1445.72 1412.14,1445.72 1412.14,1445.72 \n",
       "  1412.49,1445.72 1412.85,1445.72 1412.85,1445.72 1413.2,1445.72 1413.2,1445.72 1413.55,1445.72 1413.55,1445.72 1413.91,1445.72 1413.91,1445.72 \n",
       "  1414.26,1445.72 1414.26,1445.72 1414.61,1445.72 1414.61,1445.72 1414.97,1445.72 1414.97,1445.72 1415.32,1445.72 1415.32,1445.72 1415.68,1445.72 1415.68,1445.72 \n",
       "  1416.03,1445.72 1416.38,1445.72 1416.38,1445.72 1416.74,1445.72 1416.74,1445.72 1417.09,1445.72 1417.09,1445.72 1417.45,1445.72 1417.45,1445.72 \n",
       "  1417.8,1445.72 1417.8,1445.72 1418.15,1445.72 1418.51,1445.72 1418.51,1445.72 1418.86,1445.72 1418.86,1445.72 1419.22,1445.72 1419.22,1445.72 \n",
       "  1419.57,1445.72 1419.57,1445.72 1419.92,1445.72 1419.92,1445.72 1420.28,1445.72 1420.63,1445.72 1420.63,1445.72 1420.99,1445.72 1420.99,1445.72 \n",
       "  1421.34,1445.72 1421.34,1445.72 1421.69,1445.72 1421.69,1445.72 1422.05,1445.72 1422.4,1445.72 1422.75,1445.72 \n",
       "  1423.11,1445.72 1423.11,1445.72 1423.46,1445.72 1423.46,1445.72 1423.82,1445.72 1424.17,1445.72 1424.17,1445.72 1424.52,1445.72 1424.52,1445.72 \n",
       "  1424.88,1445.72 1424.88,1445.72 1425.23,1445.72 1425.23,1445.72 1425.59,1445.72 1425.59,1445.72 1425.94,1445.72 1426.29,1445.72 1426.29,1445.72 \n",
       "  1426.65,1445.72 1426.65,1445.72 1427,1445.72 1427.36,1445.72 1427.71,1445.72 1427.71,1445.72 1428.06,1445.72 1428.06,1445.72 \n",
       "  1428.42,1445.72 1428.42,1445.72 1428.77,1445.72 1429.13,1445.72 1429.13,1445.72 1429.48,1445.72 1429.48,1445.72 1429.83,1445.72 \n",
       "  1430.19,1445.72 1430.19,1445.72 1430.54,1445.72 1430.54,1445.72 1430.9,1445.72 1430.9,1445.72 1431.25,1445.72 1431.25,1445.72 1431.6,1445.72 1431.6,1445.72 \n",
       "  1431.96,1445.72 1431.96,1445.72 1432.31,1445.72 1432.31,1445.72 1432.66,1445.72 1432.66,1445.72 1433.02,1445.72 1433.02,1445.72 1433.37,1445.72 1433.37,1445.72 \n",
       "  1433.73,1445.72 1433.73,1445.72 1434.08,1445.72 1434.08,1445.72 1434.43,1445.72 1434.79,1445.72 1434.79,1445.72 1435.14,1445.72 1435.14,1445.72 \n",
       "  1435.5,1445.72 1435.5,1445.72 1435.85,1445.72 1435.85,1445.72 1436.2,1445.72 1436.56,1445.72 1436.91,1445.72 1436.91,1445.72 \n",
       "  1437.27,1445.72 1437.27,1445.72 1437.62,1445.72 1437.97,1445.72 1437.97,1445.72 1438.33,1445.72 1438.33,1445.72 1438.68,1445.72 1438.68,1445.72 \n",
       "  1439.04,1445.72 1439.04,1445.72 1439.39,1445.72 1439.39,1445.72 1439.74,1445.72 1440.1,1445.72 1440.45,1445.72 1440.45,1445.72 \n",
       "  1440.8,1445.72 1440.8,1445.72 1441.16,1445.72 1441.16,1445.72 1441.51,1445.72 1441.51,1445.72 1441.87,1445.72 1442.22,1445.72 \n",
       "  1442.57,1445.72 1442.93,1445.72 1442.93,1445.72 1443.28,1445.72 1443.28,1445.72 1443.64,1445.72 1443.64,1445.71 1443.99,1445.71 1443.99,1445.72 \n",
       "  1444.34,1445.72 1444.34,1445.72 1444.7,1445.72 1445.05,1445.72 1445.41,1445.72 1445.76,1445.72 1445.76,1445.72 \n",
       "  1446.11,1445.72 1446.11,1445.72 1446.47,1445.72 1446.47,1445.72 1446.82,1445.72 1446.82,1445.72 1447.18,1445.72 1447.18,1445.72 1447.53,1445.72 1447.53,1445.72 \n",
       "  1447.88,1445.72 1447.88,1445.72 1448.24,1445.72 1448.59,1445.72 1448.59,1445.72 1448.94,1445.72 1449.3,1445.72 1449.3,1445.72 \n",
       "  1449.65,1445.72 1450.01,1445.72 1450.01,1445.72 1450.36,1445.72 1450.36,1445.72 1450.71,1445.72 1450.71,1445.72 1451.07,1445.72 1451.07,1445.72 \n",
       "  1451.42,1445.72 1451.42,1445.72 1451.78,1445.72 1451.78,1445.71 1452.13,1445.71 1452.13,1445.72 1452.48,1445.72 1452.84,1445.72 1452.84,1445.72 \n",
       "  1453.19,1445.72 1453.19,1445.72 1453.55,1445.72 1453.9,1445.72 1453.9,1445.72 1454.25,1445.72 1454.25,1445.72 1454.61,1445.72 1454.61,1445.72 \n",
       "  1454.96,1445.72 1454.96,1445.72 1455.32,1445.72 1455.67,1445.72 1456.02,1445.72 1456.38,1445.72 1456.38,1445.72 \n",
       "  1456.73,1445.72 1456.73,1445.72 1457.08,1445.72 1457.08,1445.72 1457.44,1445.72 1457.44,1445.72 1457.79,1445.72 1458.15,1445.72 1458.15,1445.72 \n",
       "  1458.5,1445.72 1458.5,1445.72 1458.85,1445.72 1458.85,1445.72 1459.21,1445.72 1459.21,1445.72 1459.56,1445.72 1459.56,1445.72 1459.92,1445.72 1459.92,1445.72 \n",
       "  1460.27,1445.72 1460.27,1445.72 1460.62,1445.72 1460.62,1445.72 1460.98,1445.72 1461.33,1445.72 1461.69,1445.72 1461.69,1445.72 \n",
       "  1462.04,1445.72 1462.04,1445.72 1462.39,1445.72 1462.75,1445.72 1462.75,1445.72 1463.1,1445.72 1463.1,1445.72 1463.46,1445.72 1463.46,1445.72 \n",
       "  1463.81,1445.72 1463.81,1445.72 1464.16,1445.72 1464.16,1445.72 1464.52,1445.72 1464.52,1445.72 1464.87,1445.72 1465.22,1445.72 \n",
       "  1465.58,1445.72 1465.93,1445.72 1465.93,1445.72 1466.29,1445.72 1466.29,1445.72 1466.64,1445.72 1466.99,1445.72 \n",
       "  1467.35,1445.72 1467.7,1445.72 1467.7,1445.72 1468.06,1445.72 1468.06,1445.72 1468.41,1445.72 1468.41,1445.72 1468.76,1445.72 1468.76,1445.72 \n",
       "  1469.12,1445.72 1469.12,1445.72 1469.47,1445.72 1469.47,1445.72 1469.83,1445.72 1469.83,1445.72 1470.18,1445.72 1470.18,1445.72 1470.53,1445.72 1470.53,1445.72 \n",
       "  1470.89,1445.72 1470.89,1445.72 1471.24,1445.72 1471.24,1445.72 1471.6,1445.72 1471.6,1445.72 1471.95,1445.72 1471.95,1445.72 1472.3,1445.72 1472.3,1445.72 \n",
       "  1472.66,1445.72 1472.66,1445.72 1473.01,1445.72 1473.01,1445.72 1473.37,1445.72 1473.72,1445.72 1473.72,1445.72 1474.07,1445.72 1474.07,1445.72 \n",
       "  1474.43,1445.72 1474.43,1445.72 1474.78,1445.72 1474.78,1445.72 1475.13,1445.72 1475.13,1445.71 1475.49,1445.71 1475.49,1445.72 1475.84,1445.72 \n",
       "  1476.2,1445.72 1476.55,1445.72 1476.55,1445.72 1476.9,1445.72 1476.9,1445.72 1477.26,1445.72 1477.26,1445.72 1477.61,1445.72 1477.61,1445.72 \n",
       "  1477.97,1445.72 1478.32,1445.72 1478.32,1445.72 1478.67,1445.72 1478.67,1445.72 1479.03,1445.72 1479.38,1445.72 \n",
       "  1479.74,1445.72 1480.09,1445.72 1480.44,1445.72 1480.8,1445.72 1480.8,1445.72 1481.15,1445.72 1481.15,1445.72 \n",
       "  1481.51,1445.72 1481.51,1445.72 1481.86,1445.72 1482.21,1445.72 1482.57,1445.72 1482.92,1445.72 \n",
       "  1483.27,1445.72 1483.63,1445.72 1483.63,1445.72 1483.98,1445.72 1483.98,1445.72 1484.34,1445.72 1484.34,1445.72 1484.69,1445.72 1484.69,1445.72 \n",
       "  1485.04,1445.72 1485.04,1445.72 1485.4,1445.72 1485.4,1445.72 1485.75,1445.72 1485.75,1445.72 1486.11,1445.72 1486.11,1445.72 1486.46,1445.72 1486.46,1445.72 \n",
       "  1486.81,1445.72 1486.81,1445.72 1487.17,1445.72 1487.17,1445.72 1487.52,1445.72 1487.52,1445.72 1487.88,1445.72 1487.88,1445.72 1488.23,1445.72 1488.23,1445.72 \n",
       "  1488.58,1445.72 1488.58,1445.72 1488.94,1445.72 1488.94,1445.72 1489.29,1445.72 1489.29,1445.72 1489.65,1445.72 1490,1445.72 1490,1445.72 \n",
       "  1490.35,1445.72 1490.35,1445.72 1490.71,1445.72 1490.71,1445.72 1491.06,1445.72 1491.06,1445.72 1491.41,1445.72 1491.77,1445.72 \n",
       "  1492.12,1445.72 1492.48,1445.72 1492.48,1445.72 1492.83,1445.72 1492.83,1445.72 1493.18,1445.72 1493.54,1445.72 \n",
       "  1493.89,1445.72 1493.89,1445.72 1494.25,1445.72 1494.25,1445.72 1494.6,1445.72 1494.6,1445.72 1494.95,1445.72 1494.95,1445.72 1495.31,1445.72 1495.31,1445.72 \n",
       "  1495.66,1445.72 1495.66,1445.72 1496.02,1445.72 1496.02,1445.72 1496.37,1445.72 1496.37,1445.72 1496.72,1445.72 1496.72,1445.72 1497.08,1445.72 1497.08,1445.72 \n",
       "  1497.43,1445.72 1497.79,1445.72 1498.14,1445.72 1498.14,1445.72 1498.49,1445.72 1498.49,1445.72 1498.85,1445.72 1498.85,1445.72 \n",
       "  1499.2,1445.72 1499.2,1445.72 1499.55,1445.72 1499.55,1445.72 1499.91,1445.72 1499.91,1445.72 1500.26,1445.72 1500.62,1445.72 \n",
       "  1500.97,1445.72 1500.97,1445.72 1501.32,1445.72 1501.32,1445.72 1501.68,1445.72 1501.68,1445.72 1502.03,1445.72 1502.03,1445.72 1502.39,1445.72 1502.39,1445.72 \n",
       "  1502.74,1445.72 1503.09,1445.72 1503.09,1445.72 1503.45,1445.72 1503.45,1445.72 1503.8,1445.72 1503.8,1445.72 1504.16,1445.72 1504.16,1445.72 \n",
       "  1504.51,1445.72 1504.51,1445.72 1504.86,1445.72 1504.86,1445.72 1505.22,1445.72 1505.22,1445.72 1505.57,1445.72 1505.93,1445.72 \n",
       "  1506.28,1445.72 1506.63,1445.72 1506.99,1445.72 1506.99,1445.72 1507.34,1445.72 1507.34,1445.72 1507.69,1445.72 1507.69,1445.72 \n",
       "  1508.05,1445.72 1508.05,1445.72 1508.4,1445.72 1508.4,1445.72 1508.76,1445.72 1508.76,1445.72 1509.11,1445.72 1509.11,1445.72 1509.46,1445.72 1509.46,1445.72 \n",
       "  1509.82,1445.72 1509.82,1445.72 1510.17,1445.72 1510.17,1445.72 1510.53,1445.72 1510.53,1445.72 1510.88,1445.72 1510.88,1445.72 1511.23,1445.72 1511.23,1445.72 \n",
       "  1511.59,1445.72 1511.59,1445.72 1511.94,1445.72 1511.94,1445.72 1512.3,1445.72 1512.3,1445.72 1512.65,1445.72 1512.65,1445.72 1513,1445.72 1513,1445.72 \n",
       "  1513.36,1445.72 1513.36,1445.72 1513.71,1445.72 1513.71,1445.72 1514.07,1445.72 1514.42,1445.72 1514.77,1445.72 1514.77,1445.72 \n",
       "  1515.13,1445.72 1515.13,1445.72 1515.48,1445.72 1515.84,1445.72 1516.19,1445.72 1516.19,1445.72 1516.54,1445.72 1516.54,1445.72 \n",
       "  1516.9,1445.72 1516.9,1445.72 1517.25,1445.72 1517.25,1445.72 1517.6,1445.72 1517.6,1445.72 1517.96,1445.72 1518.31,1445.72 1518.31,1445.72 \n",
       "  1518.67,1445.72 1518.67,1445.72 1519.02,1445.72 1519.02,1445.72 1519.37,1445.72 1519.37,1445.72 1519.73,1445.72 1520.08,1445.72 \n",
       "  1520.44,1445.72 1520.44,1445.72 1520.79,1445.72 1520.79,1445.72 1521.14,1445.72 1521.5,1445.72 1521.5,1445.71 1521.85,1445.71 1521.85,1445.72 \n",
       "  1522.21,1445.72 1522.56,1445.72 1522.56,1445.72 1522.91,1445.72 1522.91,1445.72 1523.27,1445.72 1523.62,1445.72 1523.62,1445.72 \n",
       "  1523.98,1445.72 1523.98,1445.72 1524.33,1445.72 1524.68,1445.72 1525.04,1445.72 1525.39,1445.72 \n",
       "  1525.74,1445.72 1525.74,1445.72 1526.1,1445.72 1526.45,1445.72 1526.45,1445.72 1526.81,1445.72 1527.16,1445.72 \n",
       "  1527.51,1445.72 1527.87,1445.72 1528.22,1445.72 1528.58,1445.72 1528.93,1445.72 \n",
       "  1529.28,1445.72 1529.28,1445.72 1529.64,1445.72 1529.64,1445.72 1529.99,1445.72 1529.99,1445.72 1530.35,1445.72 1530.7,1445.72 \n",
       "  1531.05,1445.72 1531.41,1445.72 1531.41,1445.72 1531.76,1445.72 1531.76,1445.72 1532.12,1445.72 1532.12,1445.72 1532.47,1445.72 1532.47,1445.72 \n",
       "  1532.82,1445.72 1532.82,1445.72 1533.18,1445.72 1533.18,1445.72 1533.53,1445.72 1533.53,1445.72 1533.88,1445.72 1533.88,1445.72 1534.24,1445.72 1534.24,1445.72 \n",
       "  1534.59,1445.72 1534.59,1445.72 1534.95,1445.72 1534.95,1445.72 1535.3,1445.72 1535.65,1445.72 1536.01,1445.72 1536.01,1445.72 \n",
       "  1536.36,1445.72 1536.36,1445.72 1536.72,1445.72 1537.07,1445.72 1537.42,1445.72 1537.42,1445.72 1537.78,1445.72 1537.78,1445.72 \n",
       "  1538.13,1445.72 1538.13,1445.72 1538.49,1445.72 1538.84,1445.72 1539.19,1445.72 1539.55,1445.72 \n",
       "  1539.9,1445.72 1539.9,1445.72 1540.26,1445.72 1540.26,1445.72 1540.61,1445.72 1540.96,1445.72 1541.32,1445.72 \n",
       "  1541.67,1445.72 1541.67,1445.72 1542.02,1445.72 1542.02,1445.72 1542.38,1445.72 1542.73,1445.72 1542.73,1445.72 1543.09,1445.72 1543.09,1445.72 \n",
       "  1543.44,1445.72 1543.79,1445.72 1544.15,1445.72 1544.5,1445.72 1544.86,1445.72 \n",
       "  1545.21,1445.72 1545.56,1445.72 1545.92,1445.72 1546.27,1445.72 1546.27,1445.72 1546.63,1445.72 1546.63,1445.72 \n",
       "  1546.98,1445.72 1546.98,1445.72 1547.33,1445.72 1547.33,1445.72 1547.69,1445.72 1548.04,1445.72 1548.4,1445.72 \n",
       "  1548.75,1445.72 1549.1,1445.72 1549.46,1445.72 1549.81,1445.72 1549.81,1445.72 1550.16,1445.72 1550.16,1445.72 \n",
       "  1550.52,1445.72 1550.87,1445.72 1551.23,1445.72 1551.58,1445.72 1551.93,1445.72 \n",
       "  1552.29,1445.72 1552.64,1445.72 1553,1445.72 1553.35,1445.72 1553.7,1445.72 1553.7,1445.72 \n",
       "  1554.06,1445.72 1554.06,1445.72 1554.41,1445.72 1554.41,1445.72 1554.77,1445.72 1554.77,1445.72 1555.12,1445.72 1555.47,1445.72 \n",
       "  1555.83,1445.72 1556.18,1445.72 1556.54,1445.72 1556.89,1445.72 1557.24,1445.72 \n",
       "  1557.6,1445.72 1557.6,1445.72 1557.95,1445.72 1557.95,1445.72 1558.31,1445.72 1558.31,1445.72 1558.66,1445.72 1558.66,1445.72 1559.01,1445.72 \n",
       "  1559.37,1445.72 1559.72,1445.72 1560.07,1445.72 1560.43,1445.72 1560.78,1445.72 1560.78,1445.72 \n",
       "  1561.14,1445.72 1561.49,1445.72 1561.49,1445.72 1561.84,1445.72 1561.84,1445.72 1562.2,1445.72 1562.2,1445.72 1562.55,1445.72 1562.55,1445.72 \n",
       "  1562.91,1445.72 1562.91,1445.72 1563.26,1445.72 1563.26,1445.72 1563.61,1445.72 1563.97,1445.72 1564.32,1445.72 \n",
       "  1564.68,1445.72 1565.03,1445.72 1565.38,1445.72 1565.38,1445.72 1565.74,1445.72 1565.74,1445.72 1566.09,1445.72 \n",
       "  1566.45,1445.72 1566.45,1445.72 1566.8,1445.72 1566.8,1445.72 1567.15,1445.72 1567.51,1445.72 1567.86,1445.72 \n",
       "  1568.21,1445.72 1568.57,1445.72 1568.57,1445.71 1568.92,1445.71 1568.92,1445.72 1569.28,1445.72 1569.28,1445.72 1569.63,1445.72 1569.63,1445.72 \n",
       "  1569.98,1445.72 1569.98,1445.72 1570.34,1445.72 1570.34,1445.72 1570.69,1445.72 1570.69,1445.72 1571.05,1445.72 1571.05,1445.72 1571.4,1445.72 \n",
       "  1571.75,1445.72 1572.11,1445.72 1572.46,1445.72 1572.82,1445.72 1573.17,1445.72 \n",
       "  1573.52,1445.72 1573.52,1445.72 1573.88,1445.72 1573.88,1445.72 1574.23,1445.72 1574.59,1445.72 1574.94,1445.72 1574.94,1445.72 \n",
       "  1575.29,1445.72 1575.29,1445.72 1575.65,1445.72 1575.65,1445.72 1576,1445.72 1576,1445.72 1576.35,1445.72 1576.35,1445.72 1576.71,1445.72 \n",
       "  1577.06,1445.72 1577.06,1445.72 1577.42,1445.72 1577.42,1445.72 1577.77,1445.72 1577.77,1445.72 1578.12,1445.72 1578.12,1445.72 1578.48,1445.72 \n",
       "  1578.83,1445.72 1579.19,1445.72 1579.54,1445.72 1579.89,1445.72 1580.25,1445.72 \n",
       "  1580.6,1445.72 1580.96,1445.72 1580.96,1445.72 1581.31,1445.72 1581.31,1445.72 1581.66,1445.72 1582.02,1445.72 \n",
       "  1582.37,1445.72 1582.73,1445.72 1583.08,1445.72 1583.43,1445.72 1583.79,1445.72 \n",
       "  1584.14,1445.72 1584.49,1445.72 1584.49,1445.72 1584.85,1445.72 1584.85,1445.72 1585.2,1445.72 1585.2,1445.72 1585.56,1445.72 \n",
       "  1585.91,1445.72 1585.91,1445.72 1586.26,1445.72 1586.26,1445.72 1586.62,1445.72 1586.97,1445.72 1586.97,1445.72 1587.33,1445.72 1587.33,1445.72 \n",
       "  1587.68,1445.72 1588.03,1445.72 1588.03,1445.72 1588.39,1445.72 1588.39,1445.72 1588.74,1445.72 1589.1,1445.72 \n",
       "  1589.45,1445.72 1589.8,1445.72 1590.16,1445.72 1590.51,1445.72 1590.87,1445.72 \n",
       "  1591.22,1445.72 1591.57,1445.72 1591.93,1445.72 1592.28,1445.72 1592.63,1445.72 \n",
       "  1592.99,1445.72 1593.34,1445.72 1593.7,1445.72 1594.05,1445.72 1594.4,1445.72 \n",
       "  1594.76,1445.72 1595.11,1445.72 1595.11,1445.72 1595.47,1445.72 1595.47,1445.72 1595.82,1445.72 1596.17,1445.72 \n",
       "  1596.53,1445.72 1596.88,1445.72 1597.24,1445.72 1597.59,1445.72 1597.94,1445.72 \n",
       "  1598.3,1445.72 1598.65,1445.72 1599.01,1445.72 1599.36,1445.72 1599.71,1445.72 1599.71,1445.72 \n",
       "  1600.07,1445.72 1600.07,1445.72 1600.42,1445.72 1600.78,1445.72 1600.78,1445.71 1601.13,1445.71 1601.13,1445.72 1601.48,1445.72 1601.48,1445.72 \n",
       "  1601.84,1445.72 1601.84,1445.72 1602.19,1445.72 1602.19,1445.72 1602.54,1445.72 1602.54,1445.72 1602.9,1445.72 1603.25,1445.72 \n",
       "  1603.61,1445.72 1603.96,1445.72 1604.31,1445.72 1604.67,1445.72 1605.02,1445.72 \n",
       "  1605.38,1445.72 1605.73,1445.72 1605.73,1445.72 1606.08,1445.72 1606.08,1445.72 1606.44,1445.72 1606.79,1445.72 1606.79,1445.72 \n",
       "  1607.15,1445.72 1607.15,1445.72 1607.5,1445.72 1607.85,1445.72 1607.85,1445.72 1608.21,1445.72 1608.21,1445.72 1608.56,1445.72 1608.56,1445.72 \n",
       "  1608.92,1445.72 1608.92,1445.72 1609.27,1445.72 1609.27,1445.72 1609.62,1445.72 1609.62,1445.72 1609.98,1445.72 1610.33,1445.72 \n",
       "  1610.68,1445.72 1611.04,1445.72 1611.39,1445.72 1611.75,1445.72 1612.1,1445.72 \n",
       "  1612.45,1445.72 1612.81,1445.72 1613.16,1445.72 1613.52,1445.72 1613.87,1445.72 1613.87,1445.72 \n",
       "  1614.22,1445.72 1614.22,1445.72 1614.58,1445.72 1614.93,1445.72 1615.29,1445.72 1615.64,1445.72 \n",
       "  1615.99,1445.72 1616.35,1445.72 1616.7,1445.72 1616.7,1445.72 1617.06,1445.72 1617.06,1445.72 1617.41,1445.72 1617.41,1445.72 \n",
       "  1617.76,1445.72 1617.76,1445.72 1618.12,1445.72 1618.47,1445.72 1618.82,1445.72 1618.82,1445.72 1619.18,1445.72 1619.18,1445.72 \n",
       "  1619.53,1445.72 1619.53,1445.72 1619.89,1445.72 1620.24,1445.72 1620.59,1445.72 1620.59,1445.72 1620.95,1445.72 1620.95,1445.72 \n",
       "  1621.3,1445.72 1621.66,1445.72 1622.01,1445.72 1622.36,1445.72 1622.72,1445.72 \n",
       "  1623.07,1445.72 1623.43,1445.72 1623.78,1445.72 1624.13,1445.72 1624.49,1445.72 \n",
       "  1624.84,1445.72 1625.2,1445.72 1625.55,1445.72 1625.9,1445.72 1626.26,1445.72 \n",
       "  1626.61,1445.72 1626.96,1445.72 1627.32,1445.72 1627.67,1445.72 1628.03,1445.72 \n",
       "  1628.38,1445.72 1628.38,1445.72 1628.73,1445.72 1628.73,1445.72 1629.09,1445.72 1629.09,1445.72 1629.44,1445.72 1629.44,1445.72 1629.8,1445.72 1629.8,1445.72 \n",
       "  1630.15,1445.72 1630.15,1445.72 1630.5,1445.72 1630.5,1445.72 1630.86,1445.72 1630.86,1445.72 1631.21,1445.72 1631.57,1445.72 1631.57,1445.72 \n",
       "  1631.92,1445.72 1631.92,1445.72 1632.27,1445.72 1632.27,1445.72 1632.63,1445.72 1632.63,1445.72 1632.98,1445.72 1632.98,1445.72 1633.34,1445.72 \n",
       "  1633.69,1445.72 1634.04,1445.72 1634.4,1445.72 1634.75,1445.72 1635.1,1445.72 1635.1,1445.72 \n",
       "  1635.46,1445.72 1635.46,1445.72 1635.81,1445.72 1636.17,1445.72 1636.52,1445.72 1636.87,1445.72 \n",
       "  1637.23,1445.72 1637.58,1445.72 1637.94,1445.72 1638.29,1445.72 1638.64,1445.72 \n",
       "  1639,1445.72 1639.35,1445.72 1639.71,1445.72 1640.06,1445.72 1640.41,1445.72 \n",
       "  1640.77,1445.72 1641.12,1445.72 1641.48,1445.72 1641.83,1445.72 1642.18,1445.72 \n",
       "  1642.54,1445.72 1642.89,1445.72 1643.25,1445.72 1643.6,1445.72 1643.6,1445.72 1643.95,1445.72 1643.95,1445.72 \n",
       "  1644.31,1445.72 1644.66,1445.72 1645.01,1445.72 1645.37,1445.72 1645.72,1445.72 \n",
       "  1646.08,1445.72 1646.43,1445.72 1646.78,1445.72 1647.14,1445.72 1647.49,1445.72 \n",
       "  1647.85,1445.72 1648.2,1445.72 1648.55,1445.72 1648.55,1445.72 1648.91,1445.72 1648.91,1445.72 1649.26,1445.72 1649.26,1445.72 \n",
       "  1649.62,1445.72 1649.62,1445.72 1649.97,1445.72 1650.32,1445.72 1650.68,1445.72 1650.68,1445.72 1651.03,1445.72 1651.03,1445.72 \n",
       "  1651.39,1445.72 1651.39,1445.72 1651.74,1445.72 1651.74,1445.72 1652.09,1445.72 1652.45,1445.72 1652.8,1445.72 1652.8,1445.72 \n",
       "  1653.15,1445.72 1653.15,1445.72 1653.51,1445.72 1653.86,1445.72 1653.86,1445.71 1654.22,1445.71 1654.22,1445.72 1654.57,1445.72 1654.57,1445.72 \n",
       "  1654.92,1445.72 1655.28,1445.72 1655.63,1445.72 1655.99,1445.72 1656.34,1445.72 \n",
       "  1656.69,1445.72 1657.05,1445.72 1657.4,1445.72 1657.76,1445.72 1657.76,1445.72 1658.11,1445.72 1658.11,1445.72 \n",
       "  1658.46,1445.72 1658.82,1445.72 1658.82,1445.72 1659.17,1445.72 1659.17,1445.72 1659.53,1445.72 1659.88,1445.72 1659.88,1445.72 \n",
       "  1660.23,1445.72 1660.23,1445.72 1660.59,1445.72 1660.59,1445.72 1660.94,1445.72 1661.29,1445.72 1661.65,1445.72 \n",
       "  1662,1445.72 1662.36,1445.72 1662.36,1445.72 1662.71,1445.72 1662.71,1445.72 1663.06,1445.72 1663.06,1445.72 1663.42,1445.72 1663.42,1445.72 \n",
       "  1663.77,1445.72 1664.13,1445.72 1664.48,1445.72 1664.83,1445.72 1665.19,1445.72 \n",
       "  1665.54,1445.72 1665.9,1445.72 1666.25,1445.72 1666.25,1445.72 1666.6,1445.72 1666.6,1445.72 1666.96,1445.72 \n",
       "  1667.31,1445.72 1667.67,1445.72 1668.02,1445.72 1668.37,1445.72 1668.37,1445.72 1668.73,1445.72 1668.73,1445.72 \n",
       "  1669.08,1445.72 1669.08,1445.72 1669.43,1445.72 1669.43,1445.72 1669.79,1445.72 1670.14,1445.72 1670.5,1445.72 \n",
       "  1670.85,1445.72 1671.2,1445.72 1671.56,1445.72 1671.91,1445.72 1672.27,1445.72 \n",
       "  1672.62,1445.72 1672.97,1445.72 1673.33,1445.72 1673.68,1445.72 1674.04,1445.72 1674.04,1445.72 \n",
       "  1674.39,1445.72 1674.39,1445.72 1674.74,1445.72 1675.1,1445.72 1675.1,1445.72 1675.45,1445.72 1675.45,1445.72 1675.81,1445.72 1675.81,1445.72 \n",
       "  1676.16,1445.72 1676.51,1445.72 1676.87,1445.72 1677.22,1445.72 1677.57,1445.72 \n",
       "  1677.93,1445.72 1678.28,1445.72 1678.64,1445.72 1678.99,1445.72 1678.99,1445.72 1679.34,1445.72 1679.34,1445.72 \n",
       "  1679.7,1445.72 1680.05,1445.72 1680.05,1445.72 1680.41,1445.72 1680.41,1445.72 1680.76,1445.72 1681.11,1445.72 1681.11,1445.72 \n",
       "  1681.47,1445.72 1681.47,1445.72 1681.82,1445.72 1681.82,1445.72 1682.18,1445.72 1682.18,1445.72 1682.53,1445.72 1682.88,1445.72 1682.88,1445.72 \n",
       "  1683.24,1445.72 1683.59,1445.72 1683.95,1445.72 1684.3,1445.72 1684.65,1445.72 \n",
       "  1685.01,1445.72 1685.36,1445.72 1685.72,1445.72 1686.07,1445.72 1686.07,1445.72 1686.42,1445.72 1686.42,1445.72 \n",
       "  1686.78,1445.72 1687.13,1445.72 1687.48,1445.72 1687.84,1445.72 1688.19,1445.72 1688.19,1445.72 \n",
       "  1688.55,1445.72 1688.55,1445.72 1688.9,1445.72 1688.9,1445.72 1689.25,1445.72 1689.61,1445.72 1689.96,1445.72 \n",
       "  1690.32,1445.72 1690.32,1445.72 1690.67,1445.72 1690.67,1445.72 1691.02,1445.72 1691.38,1445.72 1691.73,1445.72 \n",
       "  1692.09,1445.72 1692.44,1445.72 1692.79,1445.72 1693.15,1445.72 1693.5,1445.72 \n",
       "  1693.86,1445.72 1693.86,1445.72 1694.21,1445.72 1694.21,1445.72 1694.56,1445.72 1694.92,1445.72 1695.27,1445.72 \n",
       "  1695.62,1445.72 1695.98,1445.72 1696.33,1445.72 1696.69,1445.72 1697.04,1445.72 \n",
       "  1697.39,1445.72 1697.75,1445.72 1698.1,1445.72 1698.1,1445.72 1698.46,1445.72 1698.46,1445.72 1698.81,1445.72 1698.81,1445.72 \n",
       "  1699.16,1445.72 1699.16,1445.72 1699.52,1445.72 1699.52,1445.72 1699.87,1445.72 1700.23,1445.72 1700.58,1445.72 \n",
       "  1700.93,1445.72 1701.29,1445.72 1701.64,1445.72 1701.64,1445.72 1702,1445.72 1702,1445.72 1702.35,1445.72 1702.35,1445.72 \n",
       "  1702.7,1445.72 1703.06,1445.72 1703.06,1445.72 1703.41,1445.72 1703.41,1445.72 1703.76,1445.72 1704.12,1445.72 1704.12,1445.72 \n",
       "  1704.47,1445.72 1704.47,1445.72 1704.83,1445.72 1704.83,1445.72 1705.18,1445.72 1705.18,1445.72 1705.53,1445.72 1705.89,1445.72 \n",
       "  1706.24,1445.72 1706.6,1445.72 1706.6,1445.72 1706.95,1445.72 1706.95,1445.72 1707.3,1445.72 1707.3,1445.72 1707.66,1445.72 1707.66,1445.72 \n",
       "  1708.01,1445.72 1708.01,1445.72 1708.37,1445.72 1708.37,1445.72 1708.72,1445.72 1708.72,1445.72 1709.07,1445.72 1709.07,1445.72 1709.43,1445.72 1709.43,1445.72 \n",
       "  1709.78,1445.72 1709.78,1445.72 1710.14,1445.72 1710.14,1445.72 1710.49,1445.72 1710.84,1445.72 1711.2,1445.72 \n",
       "  1711.55,1445.72 1711.9,1445.72 1712.26,1445.72 1712.61,1445.72 1712.97,1445.72 \n",
       "  1713.32,1445.72 1713.67,1445.72 1714.03,1445.72 1714.38,1445.72 1714.74,1445.72 \n",
       "  1715.09,1445.72 1715.44,1445.72 1715.8,1445.72 1716.15,1445.72 1716.51,1445.72 \n",
       "  1716.86,1445.72 1717.21,1445.72 1717.57,1445.72 1717.92,1445.72 1718.28,1445.72 \n",
       "  1718.63,1445.72 1718.98,1445.72 1719.34,1445.72 1719.69,1445.72 1720.04,1445.72 \n",
       "  1720.4,1445.72 1720.75,1445.72 1721.11,1445.72 1721.46,1445.72 1721.81,1445.72 \n",
       "  1722.17,1445.72 1722.52,1445.72 1722.88,1445.72 1722.88,1445.72 1723.23,1445.72 1723.23,1445.72 1723.58,1445.72 \n",
       "  1723.94,1445.72 1724.29,1445.72 1724.65,1445.72 1725,1445.72 1725.35,1445.72 \n",
       "  1725.71,1445.72 1726.06,1445.72 1726.42,1445.72 1726.77,1445.72 1727.12,1445.72 1727.12,1445.72 \n",
       "  1727.48,1445.72 1727.48,1445.72 1727.83,1445.72 1727.83,1445.72 1728.19,1445.72 1728.19,1445.72 1728.54,1445.72 1728.89,1445.72 \n",
       "  1729.25,1445.72 1729.6,1445.72 1729.95,1445.72 1729.95,1445.72 1730.31,1445.72 1730.31,1445.72 1730.66,1445.72 \n",
       "  1731.02,1445.72 1731.37,1445.72 1731.37,1445.72 1731.72,1445.72 1731.72,1445.72 1732.08,1445.72 1732.08,1445.72 1732.43,1445.72 1732.43,1445.72 \n",
       "  1732.79,1445.72 1733.14,1445.72 1733.14,1445.72 1733.49,1445.72 1733.49,1445.72 1733.85,1445.72 1734.2,1445.72 \n",
       "  1734.56,1445.72 1734.91,1445.72 1735.26,1445.72 1735.62,1445.72 1735.97,1445.72 \n",
       "  1736.33,1445.72 1736.68,1445.72 1737.03,1445.72 1737.39,1445.72 1737.39,1445.72 1737.74,1445.72 1737.74,1445.72 \n",
       "  1738.09,1445.72 1738.45,1445.72 1738.8,1445.72 1739.16,1445.72 1739.51,1445.72 1739.51,1445.72 \n",
       "  1739.86,1445.72 1739.86,1445.72 1740.22,1445.72 1740.57,1445.72 1740.57,1445.72 1740.93,1445.72 1740.93,1445.72 1741.28,1445.72 \n",
       "  1741.63,1445.72 1741.99,1445.72 1742.34,1445.72 1742.7,1445.72 1743.05,1445.72 \n",
       "  1743.4,1445.72 1743.76,1445.72 1744.11,1445.72 1744.47,1445.72 1744.82,1445.72 \n",
       "  1745.17,1445.72 1745.53,1445.72 1745.88,1445.72 1746.23,1445.72 1746.59,1445.72 \n",
       "  1746.94,1445.72 1747.3,1445.72 1747.65,1445.72 1748,1445.72 1748.36,1445.72 \n",
       "  1748.71,1445.72 1749.07,1445.72 1749.42,1445.72 1749.77,1445.72 1750.13,1445.72 \n",
       "  1750.48,1445.72 1750.84,1445.72 1751.19,1445.72 1751.54,1445.72 1751.9,1445.72 \n",
       "  1752.25,1445.72 1752.25,1445.72 1752.61,1445.72 1752.61,1445.72 1752.96,1445.72 1752.96,1445.72 1753.31,1445.72 1753.31,1445.72 1753.67,1445.72 1753.67,1445.72 \n",
       "  1754.02,1445.72 1754.02,1445.72 1754.37,1445.72 1754.73,1445.72 1755.08,1445.72 1755.44,1445.72 \n",
       "  1755.79,1445.72 1756.14,1445.72 1756.5,1445.72 1756.5,1445.72 1756.85,1445.72 1756.85,1445.72 1757.21,1445.72 \n",
       "  1757.56,1445.72 1757.91,1445.72 1758.27,1445.72 1758.62,1445.72 1758.98,1445.72 \n",
       "  1759.33,1445.72 1759.68,1445.72 1760.04,1445.72 1760.39,1445.72 1760.75,1445.72 \n",
       "  1761.1,1445.72 1761.45,1445.72 1761.81,1445.72 1762.16,1445.72 1762.51,1445.72 \n",
       "  1762.87,1445.72 1763.22,1445.72 1763.58,1445.72 1763.58,1445.72 1763.93,1445.72 1763.93,1445.72 1764.28,1445.72 \n",
       "  1764.64,1445.72 1764.99,1445.72 1765.35,1445.72 1765.7,1445.72 1765.7,1445.72 1766.05,1445.72 1766.05,1445.72 \n",
       "  1766.41,1445.72 1766.76,1445.72 1767.12,1445.72 1767.47,1445.72 1767.82,1445.72 \n",
       "  1768.18,1445.72 1768.53,1445.72 1768.89,1445.72 1769.24,1445.72 1769.59,1445.72 \n",
       "  1769.95,1445.72 1770.3,1445.72 1770.66,1445.72 1770.66,1445.72 1771.01,1445.72 1771.01,1445.72 1771.36,1445.72 \n",
       "  1771.72,1445.72 1772.07,1445.72 1772.07,1445.72 1772.42,1445.72 1772.42,1445.72 1772.78,1445.72 1773.13,1445.72 \n",
       "  1773.49,1445.72 1773.84,1445.72 1773.84,1445.72 1774.19,1445.72 1774.19,1445.72 1774.55,1445.72 1774.9,1445.72 \n",
       "  1775.26,1445.72 1775.61,1445.72 1775.96,1445.72 1775.96,1445.72 1776.32,1445.72 1776.32,1445.72 1776.67,1445.72 1776.67,1445.72 \n",
       "  1777.03,1445.72 1777.03,1445.72 1777.38,1445.72 1777.38,1445.72 1777.73,1445.72 1777.73,1445.72 1778.09,1445.72 1778.09,1445.72 1778.44,1445.72 \n",
       "  1778.8,1445.72 1779.15,1445.72 1779.5,1445.72 1779.86,1445.72 1780.21,1445.72 \n",
       "  1780.56,1445.72 1780.92,1445.72 1781.27,1445.72 1781.63,1445.72 1781.98,1445.72 \n",
       "  1782.33,1445.72 1782.69,1445.72 1783.04,1445.72 1783.4,1445.72 1783.75,1445.72 \n",
       "  1784.1,1445.72 1784.46,1445.72 1784.81,1445.72 1785.17,1445.72 1785.52,1445.72 \n",
       "  1785.87,1445.72 1786.23,1445.72 1786.58,1445.72 1786.94,1445.72 1787.29,1445.72 \n",
       "  1787.64,1445.72 1788,1445.72 1788.35,1445.72 1788.7,1445.72 1789.06,1445.72 \n",
       "  1789.41,1445.72 1789.77,1445.72 1790.12,1445.72 1790.47,1445.72 1790.83,1445.72 \n",
       "  1791.18,1445.72 1791.54,1445.72 1791.89,1445.72 1792.24,1445.72 1792.24,1445.72 1792.6,1445.72 1792.6,1445.72 \n",
       "  1792.95,1445.72 1792.95,1445.72 1793.31,1445.72 1793.66,1445.72 1794.01,1445.72 1794.37,1445.72 \n",
       "  1794.72,1445.72 1795.08,1445.72 1795.43,1445.72 1795.78,1445.72 1796.14,1445.72 \n",
       "  1796.49,1445.72 1796.84,1445.72 1797.2,1445.72 1797.55,1445.72 1797.91,1445.72 \n",
       "  1798.26,1445.72 1798.61,1445.72 1798.97,1445.72 1799.32,1445.72 1799.68,1445.72 \n",
       "  1800.03,1445.72 1800.03,1445.72 1800.38,1445.72 1800.38,1445.72 1800.74,1445.72 1801.09,1445.72 1801.45,1445.72 \n",
       "  1801.8,1445.72 1801.8,1445.72 1802.15,1445.72 1802.51,1445.72 1802.51,1445.72 1802.86,1445.72 1803.22,1445.72 \n",
       "  1803.57,1445.72 1803.92,1445.72 1804.28,1445.72 1804.63,1445.72 1804.98,1445.72 \n",
       "  1805.34,1445.72 1805.69,1445.72 1806.05,1445.72 1806.4,1445.72 1806.75,1445.72 \n",
       "  1807.11,1445.72 1807.46,1445.72 1807.82,1445.72 1808.17,1445.72 1808.52,1445.72 1808.52,1445.72 \n",
       "  1808.88,1445.72 1808.88,1445.72 1809.23,1445.72 1809.59,1445.72 1809.94,1445.72 1810.29,1445.72 \n",
       "  1810.65,1445.72 1811,1445.72 1811.36,1445.72 1811.71,1445.72 1812.06,1445.72 \n",
       "  1812.42,1445.72 1812.77,1445.72 1813.13,1445.72 1813.48,1445.72 1813.83,1445.72 \n",
       "  1814.19,1445.72 1814.54,1445.72 1814.89,1445.72 1815.25,1445.72 1815.6,1445.72 \n",
       "  1815.96,1445.72 1816.31,1445.72 1816.66,1445.72 1817.02,1445.72 1817.37,1445.72 \n",
       "  1817.73,1445.72 1817.73,1445.72 1818.08,1445.72 1818.08,1445.72 1818.43,1445.72 1818.79,1445.72 1819.14,1445.72 \n",
       "  1819.5,1445.72 1819.85,1445.72 1820.2,1445.72 1820.56,1445.72 1820.91,1445.72 \n",
       "  1821.27,1445.72 1821.62,1445.72 1821.97,1445.72 1822.33,1445.72 1822.68,1445.72 1822.68,1445.72 \n",
       "  1823.03,1445.72 1823.03,1445.72 1823.39,1445.72 1823.39,1445.72 1823.74,1445.72 1824.1,1445.72 1824.45,1445.72 \n",
       "  1824.8,1445.72 1825.16,1445.72 1825.51,1445.72 1825.87,1445.72 1825.87,1445.72 1826.22,1445.72 1826.22,1445.72 \n",
       "  1826.57,1445.72 1826.57,1445.72 1826.93,1445.72 1826.93,1445.72 1827.28,1445.72 1827.28,1445.72 1827.64,1445.72 1827.64,1445.72 1827.99,1445.72 1827.99,1445.72 \n",
       "  1828.34,1445.72 1828.7,1445.72 1828.7,1445.72 1829.05,1445.72 1829.05,1445.72 1829.41,1445.72 1829.41,1445.72 1829.76,1445.72 1829.76,1445.72 \n",
       "  1830.11,1445.72 1830.11,1445.72 1830.47,1445.72 1830.82,1445.72 1830.82,1445.72 1831.17,1445.72 1831.17,1445.72 1831.53,1445.72 \n",
       "  1831.88,1445.72 1831.88,1445.72 1832.24,1445.72 1832.24,1445.72 1832.59,1445.72 1832.94,1445.72 1832.94,1445.71 1833.3,1445.71 1833.3,1445.72 \n",
       "  1833.65,1445.72 1834.01,1445.72 1834.36,1445.72 1834.36,1445.72 1834.71,1445.72 1834.71,1445.72 1835.07,1445.72 \n",
       "  1835.42,1445.72 1835.78,1445.72 1835.78,1445.72 1836.13,1445.72 1836.13,1445.72 1836.48,1445.72 1836.48,1445.72 1836.84,1445.72 \n",
       "  1837.19,1445.72 1837.19,1445.72 1837.55,1445.72 1837.55,1445.72 1837.9,1445.72 1838.25,1445.72 1838.61,1445.72 \n",
       "  1838.96,1445.72 1839.31,1445.72 1839.67,1445.72 1840.02,1445.72 1840.38,1445.72 1840.38,1445.72 \n",
       "  1840.73,1445.72 1840.73,1445.72 1841.08,1445.72 1841.44,1445.72 1841.79,1445.72 1842.15,1445.72 \n",
       "  1842.5,1445.72 1842.85,1445.72 1843.21,1445.72 1843.56,1445.72 1843.92,1445.72 \n",
       "  1844.27,1445.72 1844.62,1445.72 1844.98,1445.72 1845.33,1445.72 1845.69,1445.72 \n",
       "  1846.04,1445.72 1846.39,1445.72 1846.75,1445.72 1847.1,1445.72 1847.1,1445.72 1847.45,1445.72 1847.45,1445.72 \n",
       "  1847.81,1445.72 1848.16,1445.72 1848.52,1445.72 1848.87,1445.72 1849.22,1445.72 \n",
       "  1849.58,1445.72 1849.93,1445.72 1850.29,1445.72 1850.64,1445.72 1850.99,1445.72 \n",
       "  1851.35,1445.72 1851.7,1445.72 1852.06,1445.72 1852.41,1445.72 1852.41,1445.72 1852.76,1445.72 1852.76,1445.72 \n",
       "  1853.12,1445.72 1853.47,1445.72 1853.83,1445.72 1854.18,1445.72 1854.53,1445.72 \n",
       "  1854.89,1445.72 1855.24,1445.72 1855.6,1445.72 1855.95,1445.72 1855.95,1445.72 1856.3,1445.72 1856.3,1445.72 \n",
       "  1856.66,1445.72 1856.66,1445.72 1857.01,1445.72 1857.01,1445.72 1857.36,1445.72 1857.72,1445.72 1858.07,1445.72 \n",
       "  1858.43,1445.72 1858.78,1445.72 1858.78,1445.72 1859.13,1445.72 1859.13,1445.72 1859.49,1445.72 1859.49,1445.72 1859.84,1445.72 1859.84,1445.72 \n",
       "  1860.2,1445.72 1860.55,1445.72 1860.9,1445.72 1861.26,1445.72 1861.61,1445.72 \n",
       "  1861.97,1445.72 1862.32,1445.72 1862.67,1445.72 1863.03,1445.72 1863.38,1445.72 \n",
       "  1863.74,1445.72 1864.09,1445.72 1864.44,1445.72 1864.8,1445.72 1865.15,1445.72 1865.15,1445.72 \n",
       "  1865.5,1445.72 1865.5,1445.72 1865.86,1445.72 1865.86,1445.72 1866.21,1445.72 1866.21,1445.72 1866.57,1445.72 1866.92,1445.72 \n",
       "  1867.27,1445.72 1867.63,1445.72 1867.98,1445.72 1868.34,1445.72 1868.69,1445.72 \n",
       "  1869.04,1445.72 1869.4,1445.72 1869.75,1445.72 1869.75,1445.72 1870.11,1445.72 1870.11,1445.72 1870.46,1445.72 \n",
       "  1870.81,1445.72 1871.17,1445.72 1871.52,1445.72 1871.88,1445.72 1871.88,1445.72 1872.23,1445.72 1872.23,1445.72 \n",
       "  1872.58,1445.72 1872.94,1445.72 1872.94,1445.72 1873.29,1445.72 1873.29,1445.72 1873.64,1445.72 1874,1445.72 \n",
       "  1874.35,1445.72 1874.71,1445.72 1875.06,1445.72 1875.41,1445.72 1875.77,1445.72 \n",
       "  1876.12,1445.72 1876.48,1445.72 1876.83,1445.72 1876.83,1445.72 1877.18,1445.72 1877.18,1445.72 1877.54,1445.72 \n",
       "  1877.89,1445.72 1878.25,1445.72 1878.6,1445.72 1878.95,1445.72 1878.95,1445.72 1879.31,1445.72 1879.31,1445.72 \n",
       "  1879.66,1445.72 1880.02,1445.72 1880.37,1445.72 1880.72,1445.72 1881.08,1445.72 \n",
       "  1881.43,1445.72 1881.78,1445.72 1882.14,1445.72 1882.49,1445.72 1882.85,1445.72 \n",
       "  1883.2,1445.72 1883.55,1445.72 1883.91,1445.72 1884.26,1445.72 1884.62,1445.72 \n",
       "  1884.97,1445.72 1885.32,1445.72 1885.68,1445.72 1885.68,1445.72 1886.03,1445.72 1886.03,1445.72 1886.39,1445.72 \n",
       "  1886.74,1445.72 1887.09,1445.72 1887.45,1445.72 1887.8,1445.72 1888.16,1445.72 \n",
       "  1888.51,1445.72 1888.86,1445.72 1889.22,1445.72 1889.57,1445.72 1889.92,1445.72 \n",
       "  1890.28,1445.72 1890.63,1445.72 1890.99,1445.72 1891.34,1445.72 1891.69,1445.72 \n",
       "  1892.05,1445.72 1892.4,1445.72 1892.76,1445.72 1893.11,1445.72 1893.46,1445.72 \n",
       "  1893.82,1445.72 1894.17,1445.72 1894.53,1445.72 1894.88,1445.72 1895.23,1445.72 \n",
       "  1895.59,1445.72 1895.94,1445.72 1896.3,1445.72 1896.65,1445.72 1897,1445.72 \n",
       "  1897.36,1445.72 1897.71,1445.72 1898.07,1445.72 1898.42,1445.72 1898.77,1445.72 \n",
       "  1899.13,1445.72 1899.48,1445.72 1899.83,1445.72 1900.19,1445.72 1900.19,1445.72 1900.54,1445.72 1900.54,1445.72 \n",
       "  1900.9,1445.72 1901.25,1445.72 1901.6,1445.72 1901.96,1445.72 1902.31,1445.72 \n",
       "  1902.67,1445.72 1903.02,1445.72 1903.37,1445.72 1903.73,1445.72 1904.08,1445.72 \n",
       "  1904.44,1445.72 1904.79,1445.72 1905.14,1445.72 1905.5,1445.72 1905.85,1445.72 \n",
       "  1906.21,1445.72 1906.56,1445.72 1906.91,1445.72 1907.27,1445.72 1907.62,1445.72 \n",
       "  1907.97,1445.72 1908.33,1445.72 1908.68,1445.72 1909.04,1445.72 1909.39,1445.72 \n",
       "  1909.74,1445.72 1910.1,1445.72 1910.45,1445.72 1910.81,1445.72 1911.16,1445.72 \n",
       "  1911.51,1445.72 1911.87,1445.72 1912.22,1445.72 1912.58,1445.72 1912.93,1445.72 \n",
       "  1913.28,1445.72 1913.28,1445.72 1913.64,1445.72 1913.64,1445.72 1913.99,1445.72 1914.35,1445.72 1914.35,1445.72 1914.7,1445.72 1914.7,1445.72 \n",
       "  1915.05,1445.72 1915.41,1445.72 1915.76,1445.72 1916.11,1445.72 1916.47,1445.72 1916.47,1445.72 \n",
       "  1916.82,1445.72 1916.82,1445.72 1917.18,1445.72 1917.53,1445.72 1917.88,1445.72 1918.24,1445.72 \n",
       "  1918.59,1445.72 1918.95,1445.72 1919.3,1445.72 1919.65,1445.72 1920.01,1445.72 \n",
       "  1920.36,1445.72 1920.72,1445.72 1921.07,1445.72 1921.42,1445.72 1921.78,1445.72 1921.78,1445.72 \n",
       "  1922.13,1445.72 1922.13,1445.72 1922.49,1445.72 1922.84,1445.72 1923.19,1445.72 1923.55,1445.72 \n",
       "  1923.9,1445.72 1924.25,1445.72 1924.61,1445.72 1924.96,1445.72 1925.32,1445.72 \n",
       "  1925.67,1445.72 1926.02,1445.72 1926.38,1445.72 1926.73,1445.72 1927.09,1445.72 \n",
       "  1927.44,1445.72 1927.79,1445.72 1928.15,1445.72 1928.5,1445.72 1928.86,1445.72 \n",
       "  1929.21,1445.72 1929.56,1445.72 1929.56,1445.72 1929.92,1445.72 1929.92,1445.72 1930.27,1445.72 1930.63,1445.72 1930.63,1445.72 \n",
       "  1930.98,1445.72 1930.98,1445.72 1931.33,1445.72 1931.69,1445.72 1931.69,1445.72 1932.04,1445.72 1932.04,1445.72 1932.39,1445.72 \n",
       "  1932.75,1445.72 1932.75,1445.72 1933.1,1445.72 1933.1,1445.72 1933.46,1445.72 1933.81,1445.72 1934.16,1445.72 \n",
       "  1934.52,1445.72 1934.87,1445.72 1935.23,1445.72 1935.58,1445.72 1935.93,1445.72 \n",
       "  1936.29,1445.72 1936.64,1445.72 1936.64,1445.72 1937,1445.72 1937,1445.72 1937.35,1445.72 1937.35,1445.72 1937.7,1445.72 1937.7,1445.72 \n",
       "  1938.06,1445.72 1938.41,1445.72 1938.77,1445.72 1939.12,1445.72 1939.47,1445.72 \n",
       "  1939.83,1445.72 1940.18,1445.72 1940.54,1445.72 1940.89,1445.72 1941.24,1445.72 1941.24,1445.72 \n",
       "  1941.6,1445.72 1941.6,1445.72 1941.95,1445.72 1942.3,1445.72 1942.66,1445.72 1943.01,1445.72 \n",
       "  1943.37,1445.72 1943.72,1445.72 1944.07,1445.72 1944.43,1445.72 1944.78,1445.72 \n",
       "  1945.14,1445.72 1945.49,1445.72 1945.84,1445.72 1946.2,1445.72 1946.55,1445.72 \n",
       "  1946.91,1445.72 1947.26,1445.72 1947.61,1445.72 1947.97,1445.72 1948.32,1445.72 \n",
       "  1948.68,1445.72 1949.03,1445.72 1949.38,1445.72 1949.74,1445.72 1950.09,1445.72 \n",
       "  1950.44,1445.72 1950.8,1445.72 1951.15,1445.72 1951.51,1445.72 1951.86,1445.72 \n",
       "  1952.21,1445.72 1952.57,1445.72 1952.92,1445.72 1953.28,1445.72 1953.63,1445.72 \n",
       "  1953.98,1445.72 1954.34,1445.72 1954.69,1445.72 1955.05,1445.72 1955.4,1445.72 \n",
       "  1955.75,1445.72 1956.11,1445.72 1956.46,1445.72 1956.82,1445.72 1957.17,1445.72 \n",
       "  1957.52,1445.72 1957.88,1445.72 1958.23,1445.72 1958.58,1445.72 1958.94,1445.72 \n",
       "  1959.29,1445.72 1959.65,1445.72 1960,1445.72 1960.35,1445.72 1960.71,1445.72 \n",
       "  1961.06,1445.72 1961.42,1445.72 1961.77,1445.72 1962.12,1445.72 1962.12,1445.72 1962.48,1445.72 1962.48,1445.72 \n",
       "  1962.83,1445.72 1963.19,1445.72 1963.54,1445.72 1963.89,1445.72 1964.25,1445.72 \n",
       "  1964.6,1445.72 1964.96,1445.72 1965.31,1445.72 1965.66,1445.72 1966.02,1445.72 \n",
       "  1966.37,1445.72 1966.72,1445.72 1967.08,1445.72 1967.43,1445.72 1967.79,1445.72 \n",
       "  1968.14,1445.72 1968.49,1445.72 1968.85,1445.72 1969.2,1445.72 1969.56,1445.72 \n",
       "  1969.91,1445.72 1970.26,1445.72 1970.62,1445.72 1970.97,1445.72 1971.33,1445.72 \n",
       "  1971.68,1445.72 1972.03,1445.72 1972.39,1445.72 1972.74,1445.72 1973.1,1445.72 \n",
       "  1973.45,1445.72 1973.8,1445.72 1974.16,1445.72 1974.51,1445.72 1974.86,1445.72 \n",
       "  1975.22,1445.72 1975.57,1445.72 1975.93,1445.72 1976.28,1445.72 1976.63,1445.72 \n",
       "  1976.99,1445.72 1977.34,1445.72 1977.7,1445.72 1978.05,1445.72 1978.4,1445.72 \n",
       "  1978.76,1445.72 1979.11,1445.72 1979.47,1445.72 1979.82,1445.72 1980.17,1445.72 \n",
       "  1980.53,1445.72 1980.88,1445.72 1981.24,1445.72 1981.59,1445.72 1981.94,1445.72 \n",
       "  1982.3,1445.72 1982.65,1445.72 1983.01,1445.72 1983.36,1445.72 1983.71,1445.72 \n",
       "  1984.07,1445.72 1984.42,1445.72 1984.77,1445.72 1984.77,1445.72 1985.13,1445.72 1985.13,1445.72 1985.48,1445.72 \n",
       "  1985.84,1445.72 1986.19,1445.72 1986.54,1445.72 1986.9,1445.72 1987.25,1445.72 \n",
       "  1987.61,1445.72 1987.96,1445.72 1988.31,1445.72 1988.67,1445.72 1989.02,1445.72 \n",
       "  1989.38,1445.72 1989.38,1445.72 1989.73,1445.72 1989.73,1445.72 1990.08,1445.72 1990.44,1445.72 1990.79,1445.72 \n",
       "  1991.15,1445.72 1991.5,1445.72 1991.85,1445.72 1992.21,1445.72 1992.56,1445.72 \n",
       "  1992.91,1445.72 1993.27,1445.72 1993.62,1445.72 1993.98,1445.72 1994.33,1445.72 \n",
       "  1994.68,1445.72 1995.04,1445.72 1995.39,1445.72 1995.75,1445.72 1996.1,1445.72 \n",
       "  1996.45,1445.72 1996.81,1445.72 1997.16,1445.72 1997.52,1445.72 1997.87,1445.72 \n",
       "  1998.22,1445.72 1998.58,1445.72 1998.93,1445.72 1999.29,1445.72 1999.64,1445.72 \n",
       "  1999.99,1445.72 2000.35,1445.72 2000.7,1445.72 2000.7,1445.72 2001.05,1445.72 2001.05,1445.72 2001.41,1445.72 \n",
       "  2001.76,1445.72 2002.12,1445.72 2002.12,1445.72 2002.47,1445.72 2002.47,1445.72 2002.82,1445.72 2003.18,1445.72 \n",
       "  2003.53,1445.72 2003.89,1445.72 2004.24,1445.72 2004.59,1445.72 2004.95,1445.72 \n",
       "  2005.3,1445.72 2005.66,1445.72 2006.01,1445.72 2006.36,1445.72 2006.72,1445.72 \n",
       "  2007.07,1445.72 2007.43,1445.72 2007.78,1445.72 2008.13,1445.72 2008.13,1445.72 2008.49,1445.72 2008.49,1445.72 \n",
       "  2008.84,1445.72 2009.19,1445.72 2009.55,1445.72 2009.55,1445.72 2009.9,1445.72 2009.9,1445.72 2010.26,1445.72 \n",
       "  2010.61,1445.72 2010.96,1445.72 2011.32,1445.72 2011.67,1445.72 2012.03,1445.72 \n",
       "  2012.38,1445.72 2012.73,1445.72 2013.09,1445.72 2013.44,1445.72 2013.44,1445.72 2013.8,1445.72 \n",
       "  2014.15,1445.72 2014.15,1445.72 2014.5,1445.72 2014.86,1445.72 2015.21,1445.72 2015.57,1445.72 \n",
       "  2015.92,1445.72 2016.27,1445.72 2016.63,1445.72 2016.98,1445.72 2017.33,1445.72 \n",
       "  2017.69,1445.72 2018.04,1445.72 2018.4,1445.72 2018.75,1445.72 2019.1,1445.72 \n",
       "  2019.46,1445.72 2019.81,1445.72 2020.17,1445.72 2020.52,1445.72 2020.87,1445.72 \n",
       "  2021.23,1445.72 2021.58,1445.72 2021.94,1445.72 2022.29,1445.72 2022.64,1445.72 \n",
       "  2023,1445.72 2023.35,1445.72 2023.71,1445.72 2024.06,1445.72 2024.41,1445.72 \n",
       "  2024.77,1445.72 2025.12,1445.72 2025.48,1445.72 2025.83,1445.72 2026.18,1445.72 \n",
       "  2026.54,1445.72 2026.89,1445.72 2026.89,1445.72 2027.24,1445.72 2027.6,1445.72 2027.6,1445.72 2027.95,1445.72 \n",
       "  2028.31,1445.72 2028.66,1445.72 2029.01,1445.72 2029.37,1445.72 2029.72,1445.72 \n",
       "  2030.08,1445.72 2030.43,1445.72 2030.78,1445.72 2031.14,1445.72 2031.49,1445.72 \n",
       "  2031.85,1445.72 2032.2,1445.72 2032.55,1445.72 2032.91,1445.72 2033.26,1445.72 \n",
       "  2033.62,1445.72 2033.97,1445.72 2034.32,1445.72 2034.68,1445.72 2035.03,1445.72 \n",
       "  2035.38,1445.72 2035.74,1445.72 2036.09,1445.72 2036.45,1445.72 2036.8,1445.72 \n",
       "  2037.15,1445.72 2037.51,1445.72 2037.86,1445.72 2038.22,1445.72 2038.57,1445.72 \n",
       "  2038.92,1445.72 2039.28,1445.72 2039.63,1445.72 2039.99,1445.72 2040.34,1445.72 \n",
       "  2040.69,1445.72 2041.05,1445.72 2041.4,1445.72 2041.76,1445.72 2042.11,1445.72 \n",
       "  2042.46,1445.72 2042.82,1445.72 2043.17,1445.72 2043.52,1445.72 2043.88,1445.72 \n",
       "  2044.23,1445.72 2044.59,1445.72 2044.94,1445.72 2045.29,1445.72 2045.65,1445.72 \n",
       "  2046,1445.72 2046.36,1445.72 2046.71,1445.72 2047.06,1445.72 2047.42,1445.72 \n",
       "  2047.77,1445.72 2048.13,1445.72 2048.48,1445.72 2048.83,1445.72 2049.19,1445.72 \n",
       "  2049.54,1445.72 2049.9,1445.72 2050.25,1445.72 2050.6,1445.72 2050.96,1445.72 \n",
       "  2051.31,1445.72 2051.66,1445.72 2052.02,1445.72 2052.37,1445.72 2052.73,1445.72 \n",
       "  2053.08,1445.72 2053.43,1445.72 2053.79,1445.72 2054.14,1445.72 2054.5,1445.72 \n",
       "  2054.85,1445.72 2055.2,1445.72 2055.56,1445.72 2055.91,1445.72 2056.27,1445.72 \n",
       "  2056.62,1445.72 2056.97,1445.72 2057.33,1445.72 2057.68,1445.72 2058.04,1445.72 \n",
       "  2058.39,1445.72 2058.74,1445.72 2059.1,1445.72 2059.45,1445.72 2059.8,1445.72 \n",
       "  2060.16,1445.72 2060.51,1445.72 2060.87,1445.72 2061.22,1445.72 2061.57,1445.72 \n",
       "  2061.93,1445.72 2062.28,1445.72 2062.64,1445.72 2062.99,1445.72 2063.34,1445.72 \n",
       "  2063.7,1445.72 2063.7,1445.72 2064.05,1445.72 2064.05,1445.72 2064.41,1445.72 2064.76,1445.72 2065.11,1445.72 \n",
       "  2065.47,1445.72 2065.82,1445.72 2066.18,1445.72 2066.53,1445.72 2066.88,1445.72 \n",
       "  2067.24,1445.72 2067.59,1445.72 2067.95,1445.72 2068.3,1445.72 2068.65,1445.72 \n",
       "  2069.01,1445.72 2069.36,1445.72 2069.71,1445.72 2070.07,1445.72 2070.42,1445.72 \n",
       "  2070.78,1445.72 2071.13,1445.72 2071.48,1445.72 2071.84,1445.72 2072.19,1445.72 \n",
       "  2072.55,1445.72 2072.9,1445.72 2073.25,1445.72 2073.61,1445.72 2073.96,1445.72 \n",
       "  2074.32,1445.72 2074.67,1445.72 2075.02,1445.72 2075.38,1445.72 2075.73,1445.72 \n",
       "  2076.09,1445.72 2076.44,1445.72 2076.79,1445.72 2077.15,1445.72 2077.5,1445.72 \n",
       "  2077.85,1445.72 2078.21,1445.72 2078.56,1445.72 2078.92,1445.72 2079.27,1445.72 \n",
       "  2079.62,1445.72 2079.98,1445.72 2080.33,1445.72 2080.69,1445.72 2081.04,1445.72 \n",
       "  2081.39,1445.72 2081.75,1445.72 2082.1,1445.72 2082.46,1445.72 2082.81,1445.72 \n",
       "  2083.16,1445.72 2083.52,1445.72 2083.87,1445.72 2084.23,1445.72 2084.58,1445.72 \n",
       "  2084.93,1445.72 2085.29,1445.72 2085.64,1445.72 2085.99,1445.72 2086.35,1445.72 \n",
       "  2086.7,1445.72 2087.06,1445.72 2087.41,1445.72 2087.76,1445.72 2088.12,1445.72 \n",
       "  2088.47,1445.72 2088.83,1445.72 2089.18,1445.72 2089.53,1445.72 2089.89,1445.72 \n",
       "  2090.24,1445.72 2090.6,1445.72 2090.95,1445.72 2091.3,1445.72 2091.66,1445.72 \n",
       "  2092.01,1445.72 2092.37,1445.72 2092.72,1445.72 2093.07,1445.72 2093.43,1445.72 \n",
       "  2093.78,1445.72 2094.13,1445.72 2094.49,1445.72 2094.84,1445.72 2095.2,1445.72 \n",
       "  2095.55,1445.72 2095.9,1445.72 2096.26,1445.72 2096.61,1445.72 2096.97,1445.72 \n",
       "  2097.32,1445.72 2097.67,1445.72 2098.03,1445.72 2098.38,1445.72 2098.74,1445.72 \n",
       "  2099.09,1445.72 2099.44,1445.72 2099.8,1445.72 2100.15,1445.72 2100.51,1445.72 \n",
       "  2100.86,1445.72 2101.21,1445.72 2101.57,1445.72 2101.92,1445.72 2102.27,1445.72 \n",
       "  2102.63,1445.72 2102.98,1445.72 2103.34,1445.72 2103.69,1445.72 2104.04,1445.72 \n",
       "  2104.4,1445.72 2104.75,1445.72 2105.11,1445.72 2105.46,1445.72 2105.81,1445.72 \n",
       "  2106.17,1445.72 2106.52,1445.72 2106.88,1445.72 2107.23,1445.72 2107.58,1445.72 \n",
       "  2107.94,1445.72 2108.29,1445.72 2108.65,1445.72 2109,1445.72 2109.35,1445.72 \n",
       "  2109.71,1445.72 2110.06,1445.72 2110.42,1445.72 2110.77,1445.72 2111.12,1445.72 \n",
       "  2111.48,1445.72 2111.83,1445.72 2112.18,1445.72 2112.54,1445.72 2112.89,1445.72 \n",
       "  2113.25,1445.72 2113.6,1445.72 2113.95,1445.72 2114.31,1445.72 2114.66,1445.72 \n",
       "  2115.02,1445.72 2115.37,1445.72 2115.72,1445.72 2116.08,1445.72 2116.43,1445.72 \n",
       "  2116.79,1445.72 2117.14,1445.72 2117.49,1445.72 2117.85,1445.72 2118.2,1445.72 \n",
       "  2118.56,1445.72 2118.91,1445.72 2119.26,1445.72 2119.62,1445.72 2119.97,1445.72 \n",
       "  2120.32,1445.72 2120.68,1445.72 2121.03,1445.72 2121.39,1445.72 2121.74,1445.72 \n",
       "  2122.09,1445.72 2122.45,1445.72 2122.8,1445.72 2123.16,1445.72 2123.51,1445.72 \n",
       "  2123.86,1445.72 2124.22,1445.72 2124.57,1445.72 2124.93,1445.72 2125.28,1445.72 \n",
       "  2125.63,1445.72 2125.99,1445.72 2126.34,1445.72 2126.7,1445.72 2127.05,1445.72 \n",
       "  2127.4,1445.72 2127.76,1445.72 2128.11,1445.72 2128.46,1445.72 2128.82,1445.72 \n",
       "  2129.17,1445.72 2129.53,1445.72 2129.88,1445.72 2130.23,1445.72 2130.59,1445.72 \n",
       "  2130.94,1445.72 2131.3,1445.72 2131.65,1445.72 2132,1445.72 2132.36,1445.72 \n",
       "  2132.71,1445.72 2133.07,1445.72 2133.42,1445.72 2133.77,1445.72 2134.13,1445.72 \n",
       "  2134.48,1445.72 2134.84,1445.72 2135.19,1445.72 2135.54,1445.72 2135.9,1445.72 \n",
       "  2136.25,1445.72 2136.6,1445.72 2136.96,1445.72 2137.31,1445.72 2137.67,1445.72 \n",
       "  2138.02,1445.72 2138.37,1445.72 2138.73,1445.72 2139.08,1445.72 2139.44,1445.72 \n",
       "  2139.79,1445.72 2140.14,1445.72 2140.5,1445.72 2140.85,1445.72 2141.21,1445.72 \n",
       "  2141.56,1445.72 2141.91,1445.72 2142.27,1445.72 2142.62,1445.72 2142.98,1445.72 \n",
       "  2143.33,1445.72 2143.68,1445.72 2144.04,1445.72 2144.39,1445.72 2144.74,1445.72 \n",
       "  2145.1,1445.72 2145.45,1445.72 2145.81,1445.72 2146.16,1445.72 2146.51,1445.72 \n",
       "  2146.87,1445.72 2147.22,1445.72 2147.58,1445.72 2147.93,1445.72 2148.28,1445.72 \n",
       "  2148.64,1445.72 2148.99,1445.72 2149.35,1445.72 2149.7,1445.72 2150.05,1445.72 \n",
       "  2150.41,1445.72 2150.76,1445.72 2151.12,1445.72 2151.12,1445.72 2151.47,1445.72 2151.47,1445.72 2151.82,1445.72 \n",
       "  2152.18,1445.72 2152.53,1445.72 2152.89,1445.72 2153.24,1445.72 2153.59,1445.72 \n",
       "  2153.95,1445.72 2154.3,1445.72 2154.65,1445.72 2155.01,1445.72 2155.36,1445.72 \n",
       "  2155.72,1445.72 2156.07,1445.72 2156.42,1445.72 2156.78,1445.72 2157.13,1445.72 \n",
       "  2157.49,1445.72 2157.84,1445.72 2158.19,1445.72 2158.55,1445.72 2158.9,1445.72 \n",
       "  2159.26,1445.72 2159.61,1445.72 2159.96,1445.72 2160.32,1445.72 2160.67,1445.72 \n",
       "  2161.03,1445.72 2161.38,1445.72 2161.73,1445.72 2162.09,1445.72 2162.44,1445.72 \n",
       "  2162.79,1445.72 2163.15,1445.72 2163.5,1445.72 2163.86,1445.72 2164.21,1445.72 \n",
       "  2164.56,1445.72 2164.92,1445.72 2165.27,1445.72 2165.63,1445.72 2165.98,1445.72 \n",
       "  2166.33,1445.72 2166.69,1445.72 2167.04,1445.72 2167.4,1445.72 2167.75,1445.72 \n",
       "  2168.1,1445.72 2168.46,1445.72 2168.81,1445.72 2169.17,1445.72 2169.52,1445.72 \n",
       "  2169.87,1445.72 2170.23,1445.72 2170.58,1445.72 2170.93,1445.72 2171.29,1445.72 \n",
       "  2171.64,1445.72 2172,1445.72 2172.35,1445.72 2172.7,1445.72 2173.06,1445.72 \n",
       "  2173.41,1445.72 2173.77,1445.72 2174.12,1445.72 2174.47,1445.72 2174.83,1445.72 \n",
       "  2175.18,1445.72 2175.18,1445.72 2175.54,1445.72 2175.54,1445.72 2175.89,1445.72 2176.24,1445.72 2176.6,1445.72 \n",
       "  2176.95,1445.72 2177.31,1445.72 2177.66,1445.72 2178.01,1445.72 2178.37,1445.72 \n",
       "  2178.72,1445.72 2179.07,1445.72 2179.43,1445.72 2179.78,1445.72 2180.14,1445.72 \n",
       "  2180.49,1445.72 2180.84,1445.72 2181.2,1445.72 2181.55,1445.72 2181.91,1445.72 \n",
       "  2182.26,1445.72 2182.61,1445.72 2182.97,1445.72 2183.32,1445.72 2183.68,1445.72 \n",
       "  2184.03,1445.72 2184.38,1445.72 2184.74,1445.72 2185.09,1445.72 2185.45,1445.72 \n",
       "  2185.8,1445.72 2186.15,1445.72 2186.51,1445.72 2186.86,1445.72 2187.21,1445.72 \n",
       "  2187.57,1445.72 2187.92,1445.72 2188.28,1445.72 2188.63,1445.72 2188.98,1445.72 \n",
       "  2189.34,1445.72 2189.34,1445.72 2189.69,1445.72 2189.69,1445.72 2190.05,1445.72 2190.4,1445.72 2190.75,1445.72 \n",
       "  2191.11,1445.72 2191.46,1445.72 2191.82,1445.72 2192.17,1445.72 2192.52,1445.72 \n",
       "  2192.88,1445.72 2193.23,1445.72 2193.59,1445.72 2193.94,1445.72 2194.29,1445.72 \n",
       "  2194.65,1445.72 2195,1445.72 2195.36,1445.72 2195.71,1445.72 2196.06,1445.72 \n",
       "  2196.42,1445.72 2196.77,1445.72 2197.12,1445.72 2197.48,1445.72 2197.83,1445.72 \n",
       "  2198.19,1445.72 2198.54,1445.72 2198.89,1445.72 2199.25,1445.72 2199.6,1445.72 \n",
       "  2199.96,1445.72 2200.31,1445.72 2200.66,1445.72 2201.02,1445.72 2201.37,1445.72 \n",
       "  2201.73,1445.72 2202.08,1445.72 2202.43,1445.72 2202.79,1445.72 2203.14,1445.72 \n",
       "  2203.5,1445.72 2203.85,1445.72 2204.2,1445.72 2204.56,1445.72 2204.91,1445.72 \n",
       "  2205.26,1445.72 2205.62,1445.72 2205.97,1445.72 2206.33,1445.72 2206.68,1445.72 \n",
       "  2207.03,1445.72 2207.39,1445.72 2207.74,1445.72 2208.1,1445.72 2208.45,1445.72 \n",
       "  2208.8,1445.72 2209.16,1445.72 2209.51,1445.72 2209.87,1445.72 2210.22,1445.72 \n",
       "  2210.57,1445.72 2210.93,1445.72 2211.28,1445.72 2211.64,1445.72 2211.99,1445.72 \n",
       "  2212.34,1445.72 2212.7,1445.72 2213.05,1445.72 2213.4,1445.72 2213.76,1445.72 \n",
       "  2214.11,1445.72 2214.47,1445.72 2214.82,1445.72 2215.17,1445.72 2215.53,1445.72 \n",
       "  2215.88,1445.72 2216.24,1445.72 2216.59,1445.72 2216.94,1445.72 2217.3,1445.72 \n",
       "  2217.65,1445.72 2218.01,1445.72 2218.36,1445.72 2218.71,1445.72 2219.07,1445.72 \n",
       "  2219.42,1445.72 2219.78,1445.72 2220.13,1445.72 2220.48,1445.72 2220.84,1445.72 \n",
       "  2221.19,1445.72 2221.54,1445.72 2221.9,1445.72 2222.25,1445.72 2222.61,1445.72 \n",
       "  2222.96,1445.72 2223.31,1445.72 2223.67,1445.72 2224.02,1445.72 2224.38,1445.72 \n",
       "  2224.73,1445.72 2225.08,1445.72 2225.44,1445.72 2225.79,1445.72 2226.15,1445.72 \n",
       "  2226.5,1445.72 2226.85,1445.72 2227.21,1445.72 2227.56,1445.72 2227.92,1445.72 \n",
       "  2228.27,1445.72 2228.62,1445.72 2228.98,1445.72 2229.33,1445.72 2229.68,1445.72 \n",
       "  2230.04,1445.72 2230.39,1445.72 2230.75,1445.72 2231.1,1445.72 2231.45,1445.72 \n",
       "  2231.81,1445.72 2232.16,1445.72 2232.52,1445.72 2232.87,1445.72 2233.22,1445.72 \n",
       "  2233.58,1445.72 2233.93,1445.72 2234.29,1445.72 2234.64,1445.72 2234.99,1445.72 \n",
       "  2235.35,1445.72 2235.7,1445.72 2236.06,1445.72 2236.41,1445.72 2236.76,1445.72 \n",
       "  2237.12,1445.72 2237.47,1445.72 2237.83,1445.72 2238.18,1445.72 2238.53,1445.72 \n",
       "  2238.89,1445.72 2239.24,1445.72 2239.59,1445.72 2239.95,1445.72 2240.3,1445.72 \n",
       "  2240.66,1445.72 2241.01,1445.72 2241.36,1445.72 2241.72,1445.72 2242.07,1445.72 \n",
       "  2242.43,1445.72 2242.78,1445.72 2243.13,1445.72 2243.49,1445.72 2243.84,1445.72 \n",
       "  2244.2,1445.72 2244.55,1445.72 2244.9,1445.72 2245.26,1445.72 2245.61,1445.72 \n",
       "  2245.97,1445.72 2246.32,1445.72 2246.67,1445.72 2247.03,1445.72 2247.38,1445.72 \n",
       "  2247.73,1445.72 2248.09,1445.72 2248.44,1445.72 2248.8,1445.72 2249.15,1445.72 \n",
       "  2249.5,1445.72 2249.86,1445.72 2250.21,1445.72 2250.57,1445.72 2250.92,1445.72 \n",
       "  2251.27,1445.72 2251.63,1445.72 2251.98,1445.72 2252.34,1445.72 2252.69,1445.72 \n",
       "  2253.04,1445.72 2253.4,1445.72 2253.75,1445.72 2254.11,1445.72 2254.46,1445.72 \n",
       "  2254.81,1445.72 2255.17,1445.72 2255.52,1445.72 2255.87,1445.72 2256.23,1445.72 \n",
       "  2256.58,1445.72 2256.94,1445.72 2257.29,1445.72 2257.64,1445.72 2258,1445.72 \n",
       "  2258.35,1445.72 2258.71,1445.72 2259.06,1445.72 2259.06,1445.72 2259.41,1445.72 2259.41,1445.72 2259.77,1445.72 \n",
       "  2260.12,1445.72 2260.48,1445.72 2260.83,1445.72 2261.18,1445.72 2261.54,1445.72 \n",
       "  2261.89,1445.72 2262.25,1445.72 2262.6,1445.72 2262.95,1445.72 2263.31,1445.72 \n",
       "  2263.66,1445.72 2264.01,1445.72 2264.37,1445.72 2264.72,1445.72 2265.08,1445.72 \n",
       "  2265.43,1445.72 2265.78,1445.72 2266.14,1445.72 2266.49,1445.72 2266.85,1445.72 \n",
       "  2267.2,1445.72 2267.55,1445.72 2267.91,1445.72 2268.26,1445.72 2268.62,1445.72 \n",
       "  2268.97,1445.72 2269.32,1445.72 2269.68,1445.72 2270.03,1445.72 2270.39,1445.72 \n",
       "  2270.74,1445.72 2271.09,1445.72 2271.45,1445.72 2271.8,1445.72 2272.15,1445.72 \n",
       "  2272.51,1445.72 2272.86,1445.72 2273.22,1445.72 2273.57,1445.72 2273.92,1445.72 \n",
       "  2274.28,1445.72 2274.63,1445.72 2274.99,1445.72 2275.34,1445.72 2275.69,1445.72 \n",
       "  2276.05,1445.72 2276.4,1445.72 2276.76,1445.72 2277.11,1445.72 2277.46,1445.72 \n",
       "  2277.82,1445.72 2278.17,1445.72 2278.53,1445.72 2278.88,1445.72 2279.23,1445.72 \n",
       "  2279.59,1445.72 2279.94,1445.72 2280.3,1445.72 2280.65,1445.72 2281,1445.72 \n",
       "  2281.36,1445.72 2281.71,1445.72 2282.06,1445.72 2282.42,1445.72 2282.77,1445.72 \n",
       "  2283.13,1445.72 2283.48,1445.72 2283.83,1445.72 2284.19,1445.72 2284.54,1445.72 \n",
       "  2284.9,1445.72 2285.25,1445.72 2285.6,1445.72 2285.96,1445.72 2286.31,1445.72 \n",
       "  2286.67,1445.72 2287.02,1445.72 2287.37,1445.72 2287.73,1445.72 2288.08,1445.72 \n",
       "  2288.44,1445.72 2288.79,1445.72 2289.14,1445.72 2289.5,1445.72 2289.85,1445.72 \n",
       "  2290.2,1445.72 2290.56,1445.72 2290.91,1445.72 2291.27,1445.72 2291.62,1445.72 \n",
       "  2291.97,1445.72 2292.33,1445.72 2292.68,1445.72 2293.04,1445.72 2293.39,1445.72 \n",
       "  2293.74,1445.72 2294.1,1445.72 2294.45,1445.72 2294.45,1445.72 2294.81,1445.72 2294.81,1445.72 \n",
       "  \"/>\n",
       "<path clip-path=\"url(#clip370)\" d=\"\n",
       "M2004.56 198.898 L2284.5 198.898 L2284.5 95.2176 L2004.56 95.2176  Z\n",
       "  \" fill=\"#ffffff\" fill-rule=\"evenodd\" fill-opacity=\"1\"/>\n",
       "<polyline clip-path=\"url(#clip370)\" style=\"stroke:#000000; stroke-linecap:butt; stroke-linejoin:round; stroke-width:4; stroke-opacity:1; fill:none\" points=\"\n",
       "  2004.56,198.898 2284.5,198.898 2284.5,95.2176 2004.56,95.2176 2004.56,198.898 \n",
       "  \"/>\n",
       "<polyline clip-path=\"url(#clip370)\" style=\"stroke:#009af9; stroke-linecap:butt; stroke-linejoin:round; stroke-width:4; stroke-opacity:1; fill:none\" points=\"\n",
       "  2027.32,147.058 2163.82,147.058 \n",
       "  \"/>\n",
       "<path clip-path=\"url(#clip370)\" d=\"M2200.41 166.745 Q2198.61 171.375 2196.9 172.787 Q2195.18 174.199 2192.31 174.199 L2188.91 174.199 L2188.91 170.634 L2191.41 170.634 Q2193.17 170.634 2194.14 169.8 Q2195.11 168.967 2196.29 165.865 L2197.06 163.921 L2186.57 138.412 L2191.09 138.412 L2199.19 158.689 L2207.29 138.412 L2211.8 138.412 L2200.41 166.745 Z\" fill=\"#000000\" fill-rule=\"evenodd\" fill-opacity=\"1\" /><path clip-path=\"url(#clip370)\" d=\"M2219.09 160.402 L2226.73 160.402 L2226.73 134.037 L2218.42 135.703 L2218.42 131.444 L2226.69 129.778 L2231.36 129.778 L2231.36 160.402 L2239 160.402 L2239 164.338 L2219.09 164.338 L2219.09 160.402 Z\" fill=\"#000000\" fill-rule=\"evenodd\" fill-opacity=\"1\" /></svg>\n"
      ]
     },
     "execution_count": 103,
     "metadata": {},
     "output_type": "execute_result"
    }
   ],
   "source": [
    "histogram(vec(full_results_bulkscan) .- vec(full_results_lite_multithreads))"
   ]
  },
  {
   "cell_type": "code",
   "execution_count": 54,
   "id": "3f16ce45-665d-4dcb-b1da-93168f9156e3",
   "metadata": {},
   "outputs": [
    {
     "data": {
      "text/plain": [
       "260305476"
      ]
     },
     "execution_count": 54,
     "metadata": {},
     "output_type": "execute_result"
    }
   ],
   "source": [
    "m*p"
   ]
  },
  {
   "cell_type": "code",
   "execution_count": null,
   "id": "e07bc585-533c-4ecb-9e2e-5e835eae8f9e",
   "metadata": {},
   "outputs": [],
   "source": []
  },
  {
   "cell_type": "code",
   "execution_count": null,
   "id": "97f3cc11-db7f-459b-b299-a5eb228e6ddc",
   "metadata": {},
   "outputs": [],
   "source": []
  },
  {
   "cell_type": "code",
   "execution_count": null,
   "id": "6bb233e3-8361-4e20-96e0-8ce915658c49",
   "metadata": {},
   "outputs": [],
   "source": []
  },
  {
   "cell_type": "code",
   "execution_count": null,
   "id": "471a015b-35a4-4559-be8f-830bfc5e6967",
   "metadata": {},
   "outputs": [],
   "source": []
  },
  {
   "cell_type": "code",
   "execution_count": null,
   "id": "51098149-8f5b-41e8-b20d-257c738bac00",
   "metadata": {},
   "outputs": [],
   "source": []
  },
  {
   "cell_type": "code",
   "execution_count": null,
   "id": "da7a5373-29b5-459f-abd2-2648217aadf6",
   "metadata": {},
   "outputs": [],
   "source": []
  },
  {
   "cell_type": "code",
   "execution_count": null,
   "id": "3bdd8685-3bc1-4901-b076-dc4caf039134",
   "metadata": {},
   "outputs": [],
   "source": []
  },
  {
   "cell_type": "code",
   "execution_count": null,
   "id": "86974356-8fb0-4ae5-a009-3ad2a7495036",
   "metadata": {},
   "outputs": [],
   "source": []
  },
  {
   "cell_type": "code",
   "execution_count": null,
   "id": "9c08c227-eb8e-4224-8b89-403c9285a2ed",
   "metadata": {},
   "outputs": [],
   "source": []
  },
  {
   "cell_type": "code",
   "execution_count": null,
   "id": "6ea43163-64e9-47ea-abdd-d04ceb494b61",
   "metadata": {},
   "outputs": [],
   "source": []
  },
  {
   "cell_type": "code",
   "execution_count": null,
   "id": "b8691539-47ae-48dd-ac4e-513eb5f5ccb4",
   "metadata": {},
   "outputs": [],
   "source": []
  },
  {
   "cell_type": "code",
   "execution_count": null,
   "id": "fa92192d-acaf-4a9e-a240-73221549dbbd",
   "metadata": {},
   "outputs": [],
   "source": []
  },
  {
   "cell_type": "code",
   "execution_count": null,
   "id": "fed2516a-dfb1-40b1-b5a4-816c6ecfe082",
   "metadata": {},
   "outputs": [],
   "source": []
  },
  {
   "cell_type": "code",
   "execution_count": null,
   "id": "8a703860-f764-43d7-82d5-e0660d0daf6c",
   "metadata": {},
   "outputs": [],
   "source": []
  },
  {
   "cell_type": "code",
   "execution_count": null,
   "id": "363523d7-8eb7-498c-9a13-b24b46587270",
   "metadata": {},
   "outputs": [],
   "source": []
  },
  {
   "cell_type": "code",
   "execution_count": null,
   "id": "470320ba-ac96-4097-9f3c-df4a987e06b4",
   "metadata": {},
   "outputs": [],
   "source": []
  },
  {
   "cell_type": "code",
   "execution_count": null,
   "id": "2d81cce1-f1bd-4ea5-b97a-43079803b1a4",
   "metadata": {},
   "outputs": [],
   "source": []
  },
  {
   "cell_type": "code",
   "execution_count": null,
   "id": "b18a0812-4b7d-4147-b77d-d3d91dc4a689",
   "metadata": {},
   "outputs": [],
   "source": []
  },
  {
   "cell_type": "code",
   "execution_count": null,
   "id": "aeea87f6-a3dd-4c17-82b4-229954686803",
   "metadata": {},
   "outputs": [],
   "source": []
  },
  {
   "cell_type": "code",
   "execution_count": null,
   "id": "46982162-fd6f-4da1-93a6-a63a64c97745",
   "metadata": {},
   "outputs": [],
   "source": []
  },
  {
   "cell_type": "code",
   "execution_count": null,
   "id": "92044c0c-8444-4781-b78f-dc1aaaaa5dd8",
   "metadata": {},
   "outputs": [],
   "source": []
  },
  {
   "cell_type": "code",
   "execution_count": null,
   "id": "9516d634-a9a5-49b2-af29-d0f603494490",
   "metadata": {},
   "outputs": [],
   "source": []
  },
  {
   "cell_type": "code",
   "execution_count": null,
   "id": "766b042b-f322-45f7-8ebe-a82443f2213d",
   "metadata": {},
   "outputs": [],
   "source": []
  },
  {
   "cell_type": "markdown",
   "id": "d2fdf574-2cfa-4658-925d-d1bca33a3c8b",
   "metadata": {},
   "source": [
    "## Estimate heritability independently for every trait:"
   ]
  },
  {
   "cell_type": "code",
   "execution_count": null,
   "id": "461b4064-35e6-416c-87d6-43f820fdca56",
   "metadata": {},
   "outputs": [],
   "source": []
  },
  {
   "cell_type": "code",
   "execution_count": null,
   "id": "3ee58886-0e97-4f16-b361-bc7f7ffe4132",
   "metadata": {},
   "outputs": [],
   "source": []
  },
  {
   "cell_type": "code",
   "execution_count": null,
   "id": "727be3e3-88e0-43cd-b2a2-45b0089823af",
   "metadata": {},
   "outputs": [],
   "source": []
  },
  {
   "cell_type": "code",
   "execution_count": null,
   "id": "1f495a1e-7875-46c6-b70b-2341b7d0683d",
   "metadata": {},
   "outputs": [],
   "source": []
  },
  {
   "cell_type": "markdown",
   "id": "c4fbdce6-d134-4d2a-957f-ddb2ed06b8a5",
   "metadata": {},
   "source": [
    "### Iteratively:"
   ]
  },
  {
   "cell_type": "code",
   "execution_count": 104,
   "id": "bc7cfa16-e208-488a-9aac-473df9992850",
   "metadata": {},
   "outputs": [
    {
     "data": {
      "text/plain": [
       "get_h2s_for_timing (generic function with 1 method)"
      ]
     },
     "execution_count": 104,
     "metadata": {},
     "output_type": "execute_result"
    }
   ],
   "source": [
    "function get_weights_for_timing(y0::Array{Float64, 2}, X0::Array{Float64, 2}, lambda0::Array{Float64, 1};\n",
    "                   reml::Bool = false)\n",
    "    \n",
    "    # fit null lmm\n",
    "    out00 = fitlmm(y0, reshape(X0[:, 1], :, 1), lambda0; reml = reml)\n",
    "    # weights proportional to the variances\n",
    "    sqrtw = sqrt.(makeweights(out00.h2, lambda0));\n",
    "    \n",
    "    return sqrtw\n",
    "    \n",
    "end\n",
    "\n",
    "function get_h2s_for_timing(y0::Array{Float64, 2}, X0::Array{Float64, 2}, lambda0::Array{Float64, 1};\n",
    "                   reml::Bool = false)\n",
    "    \n",
    "    # fit null lmm\n",
    "    out00 = fitlmm(y0, reshape(X0[:, 1], :, 1), lambda0; reml = reml)\n",
    "    # weights proportional to the variances\n",
    "    # sqrtw = sqrt.(makeweights(out00.h2, lambda0));\n",
    "    \n",
    "    # return sqrtw\n",
    "    return out00.h2\n",
    "    \n",
    "end"
   ]
  },
  {
   "cell_type": "code",
   "execution_count": null,
   "id": "15bbe6bd-b607-4d5b-b4f5-d92d106a1334",
   "metadata": {},
   "outputs": [],
   "source": [
    "m"
   ]
  },
  {
   "cell_type": "code",
   "execution_count": null,
   "id": "b0f794f1-6010-46a9-a226-034554126161",
   "metadata": {},
   "outputs": [],
   "source": [
    "nprocs()"
   ]
  },
  {
   "cell_type": "code",
   "execution_count": null,
   "id": "66f86e3d-dfa4-491b-89e4-94adc4f82257",
   "metadata": {},
   "outputs": [],
   "source": [
    "Threads.nthreads()"
   ]
  },
  {
   "cell_type": "code",
   "execution_count": 105,
   "id": "974f6086-73b2-4d3f-ac54-8008e23b7599",
   "metadata": {},
   "outputs": [],
   "source": [
    "(Y0, X0, lambda0) = transform_rotation(pheno, geno, kinship); # rotate the entire matrix of all traits"
   ]
  },
  {
   "cell_type": "code",
   "execution_count": null,
   "id": "e8688990-7670-48f1-b1ff-8171f44af9f3",
   "metadata": {},
   "outputs": [],
   "source": [
    "h2s_list = Array{Float64, 1}(undef, m);\n",
    "weights_list = Array{Float64, 2}(undef, n, m);"
   ]
  },
  {
   "cell_type": "code",
   "execution_count": null,
   "id": "ba1a4984-a52e-4b7f-b5b1-567a322f8757",
   "metadata": {},
   "outputs": [],
   "source": [
    "@time begin \n",
    "    (Y0, X0, lambda0) = transform_rotation(pheno, geno, kinship); # rotate the entire matrix of all traits\n",
    "    \n",
    "    for k in 1:m\n",
    "        y0_k = reshape(Y0[:, k], :, 1);\n",
    "        h2s_list[k] = get_h2s_for_timing(y0_k, X0, lambda0; reml = true);\n",
    "    end\n",
    "    \n",
    "end"
   ]
  },
  {
   "cell_type": "code",
   "execution_count": null,
   "id": "00fca007-79bf-4cc3-99dc-094c4cbfe126",
   "metadata": {},
   "outputs": [],
   "source": [
    "@time begin\n",
    "    \n",
    "    (Y0, X0, lambda0) = transform_rotation(pheno, geno, kinship); # rotate the entire matrix of all traits\n",
    "    \n",
    "    for k in 1:m\n",
    "        y0_k = reshape(Y0[:, k], :, 1);\n",
    "        weights_list[:, k] = get_weights_for_timing(y0_k, X0, lambda0; reml = true);\n",
    "    end\n",
    "    \n",
    "end"
   ]
  },
  {
   "cell_type": "code",
   "execution_count": null,
   "id": "be991915-aad1-4305-8891-1c38149df2cb",
   "metadata": {},
   "outputs": [],
   "source": [
    "get_weights_for_timing(reshape(Y0[:, 7919], :, 1), X0, lambda0; reml = true)"
   ]
  },
  {
   "cell_type": "code",
   "execution_count": null,
   "id": "435d2efb-0cc6-4120-b18d-738a1b232f57",
   "metadata": {},
   "outputs": [],
   "source": [
    "histogram(h2s_list, legend = false)"
   ]
  },
  {
   "cell_type": "code",
   "execution_count": null,
   "id": "1eab4423-cf6f-459d-b453-341b849d47cf",
   "metadata": {},
   "outputs": [],
   "source": [
    "p"
   ]
  },
  {
   "cell_type": "code",
   "execution_count": null,
   "id": "ecf7b7ff-2b34-4bf5-83f9-26ecb395d5ba",
   "metadata": {},
   "outputs": [],
   "source": [
    "lod = Array{Float64, 2}(undef, p, m);"
   ]
  },
  {
   "cell_type": "code",
   "execution_count": null,
   "id": "2dc8181e-382c-4716-919d-962b2ef5e263",
   "metadata": {},
   "outputs": [],
   "source": [
    "BLAS.get_num_threads()"
   ]
  },
  {
   "cell_type": "code",
   "execution_count": null,
   "id": "5a343758-bf18-442d-9cd3-b38e47143daf",
   "metadata": {},
   "outputs": [],
   "source": [
    "function threads_by_blocks(r0perm::Array{Float64, 2}, X00::Array{Float64, 2}, nblocks::Int64)\n",
    "    # Does distributed processes of calculations of LOD scores for markers in each block\n",
    "\n",
    "    p = size(X00, 2);\n",
    "\n",
    "    ## (Create blocks...)\n",
    "    \n",
    "    block_size = ceil(Int, p/nblocks);\n",
    "    blocks = createBlocks(p, block_size);\n",
    "\n",
    "    LODs_blocks = tmap(x -> calcLODs_block(r0perm, X00, x), 16, blocks);\n",
    "    results = reduce(hcat, LODs_blocks);\n",
    "\n",
    "    return results\n",
    "\n",
    "end"
   ]
  },
  {
   "cell_type": "code",
   "execution_count": null,
   "id": "8ef774d9-dfb0-4541-b697-11686961fd04",
   "metadata": {},
   "outputs": [],
   "source": [
    "function scan_perms_threadsBlocks(y::Array{Float64,2}, g::Array{Float64,2}, K::Array{Float64,2};\n",
    "                                reml::Bool = false,\n",
    "                                nperms::Int64 = 1024, rndseed::Int64 = 0, original::Bool = true,\n",
    "                                # (options for blocks, nperms distribution methods...)\n",
    "                                option::String = \"by blocks\", nblocks::Int64 = 1, ncopies::Int64 = 1, \n",
    "                                nprocs::Int64 = 0)\n",
    "\n",
    "    (y0, X0, lambda0) = transform_rotation(y, g, K); # rotation of data\n",
    "    (r0, X00) = transform_reweight(y0, X0, lambda0; reml = reml); # reweighting and taking residuals\n",
    "    r0perm = transform_permute(r0; nperms = nperms, rndseed = rndseed, original = original);\n",
    "\n",
    "    if option == \"by blocks\"\n",
    "        results = threads_by_blocks(r0perm, X00, nblocks);\n",
    "    elseif option == \"by nperms\"\n",
    "        results = distribute_by_nperms(r0, X00, nperms, ncopies, original);\n",
    "    else\n",
    "        throw(error(\"Option unsupported.\"))\n",
    "    end\n",
    "\n",
    "    return results\n",
    "\n",
    "end"
   ]
  },
  {
   "cell_type": "code",
   "execution_count": null,
   "id": "33c15d02-3ab0-4a44-a554-90104cda5964",
   "metadata": {},
   "outputs": [],
   "source": [
    "block_bounds = quantile(h2s_list, [0.1, 0.2, 0.3, 0.4, 0.5, 0.6, 0.7, 0.8, 0.9, 1.0])"
   ]
  },
  {
   "cell_type": "code",
   "execution_count": null,
   "id": "eb62fee7-d97d-44ae-8bb6-88016320f099",
   "metadata": {},
   "outputs": [],
   "source": [
    "length(block_bounds)/2"
   ]
  },
  {
   "cell_type": "code",
   "execution_count": null,
   "id": "ac1d5b83-2444-4ac7-bf8a-f5ba54a3d475",
   "metadata": {},
   "outputs": [],
   "source": [
    "sum(map(x -> (x < block_bounds[5] && x > block_bounds[4]), h2s_list))"
   ]
  },
  {
   "cell_type": "markdown",
   "id": "d5cd0a86-1ef5-40d8-8e21-0d65cbc70462",
   "metadata": {},
   "source": [
    "### Parellely:"
   ]
  },
  {
   "cell_type": "markdown",
   "id": "1cbedcbc-5659-426a-837a-6d71aa40933a",
   "metadata": {},
   "source": [
    "#### Distributed-processes"
   ]
  },
  {
   "cell_type": "code",
   "execution_count": null,
   "id": "61ea2bd1-ea84-4903-8908-f35d16e67e76",
   "metadata": {},
   "outputs": [],
   "source": [
    "using Distributed"
   ]
  },
  {
   "cell_type": "code",
   "execution_count": null,
   "id": "e9c46b40-834a-4c89-9125-379729a3474c",
   "metadata": {},
   "outputs": [],
   "source": [
    "@everywhere begin\n",
    "    \n",
    "    include(\"../test/BXDdata_for_test.jl\");\n",
    "    include(\"../src/parallel_helpers.jl\");\n",
    "    \n",
    "    function get_h2s_for_timing(y0::Array{Float64, 2}, X0::Array{Float64, 2}, lambda0::Array{Float64, 1};\n",
    "                   reml::Bool = false)\n",
    "    \n",
    "    # fit null lmm\n",
    "    out00 = fitlmm(y0, reshape(X0[:, 1], :, 1), lambda0; reml = reml)\n",
    "    # weights proportional to the variances\n",
    "    # sqrtw = sqrt.(makeweights(out00.h2, lambda0));\n",
    "    \n",
    "    # return sqrtw\n",
    "    return out00.h2\n",
    "    \n",
    "    end\n",
    "end"
   ]
  },
  {
   "cell_type": "code",
   "execution_count": null,
   "id": "f8909536-69cc-4509-8519-fd8a726d7dd6",
   "metadata": {},
   "outputs": [],
   "source": [
    "@time begin \n",
    "    (Y0, X0, lambda0) = transform_rotation(pheno, geno, kinship); # rotate the entire matrix of all traits\n",
    "    \n",
    "    pmap_h2s = pmap(x -> get_h2s_for_timing(reshape(Y0[:, x], :, 1), X0, lambda0; reml = true), 1:m)\n",
    "end"
   ]
  },
  {
   "cell_type": "code",
   "execution_count": null,
   "id": "3aa97387-0bca-4fef-be64-83dabb95f38a",
   "metadata": {},
   "outputs": [],
   "source": [
    "Threads.nthreads()"
   ]
  },
  {
   "cell_type": "code",
   "execution_count": null,
   "id": "ed2411b5-f98a-453c-b328-e364ec5031c8",
   "metadata": {},
   "outputs": [],
   "source": []
  }
 ],
 "metadata": {
  "kernelspec": {
   "display_name": "Julia 16 Threads 1.7.3",
   "language": "julia",
   "name": "julia-16-threads-1.7"
  },
  "language_info": {
   "file_extension": ".jl",
   "mimetype": "application/julia",
   "name": "julia",
   "version": "1.7.3"
  }
 },
 "nbformat": 4,
 "nbformat_minor": 5
}
