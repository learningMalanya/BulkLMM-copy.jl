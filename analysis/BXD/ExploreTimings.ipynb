{
 "cells": [
  {
   "cell_type": "markdown",
   "id": "a6823e97-cece-4715-b2da-abe4e9ebf923",
   "metadata": {},
   "source": [
    "# Explore Runtimes:"
   ]
  },
  {
   "cell_type": "code",
   "execution_count": 1,
   "id": "965cce00-59f7-4602-87cf-ef609bc4f2f3",
   "metadata": {},
   "outputs": [
    {
     "data": {
      "text/plain": [
       "\"/home/xyu/github/BulkLMM.jl/analysis/BXD\""
      ]
     },
     "execution_count": 1,
     "metadata": {},
     "output_type": "execute_result"
    }
   ],
   "source": [
    "pwd()"
   ]
  },
  {
   "cell_type": "code",
   "execution_count": 2,
   "id": "54153196-a048-488b-af8e-45f52d1af76b",
   "metadata": {},
   "outputs": [],
   "source": [
    "cd(\"..\")"
   ]
  },
  {
   "cell_type": "code",
   "execution_count": 3,
   "id": "fc3b6ede-0266-46cd-8528-981770c07f67",
   "metadata": {},
   "outputs": [],
   "source": [
    "include(\"../test/BXDdata_for_test.jl\");"
   ]
  },
  {
   "cell_type": "code",
   "execution_count": 4,
   "id": "d5599580-c9af-47be-9723-d6b8a2437ef1",
   "metadata": {},
   "outputs": [],
   "source": [
    "include(\"../src/parallel_helpers.jl\");"
   ]
  },
  {
   "cell_type": "code",
   "execution_count": 5,
   "id": "ba4fb144-6960-4075-9bdc-8e9ad2b4b18b",
   "metadata": {},
   "outputs": [],
   "source": [
    "using Plots"
   ]
  },
  {
   "cell_type": "code",
   "execution_count": 6,
   "id": "3d8e5841-bfbc-4d35-bff9-920c73705424",
   "metadata": {},
   "outputs": [
    {
     "data": {
      "text/plain": [
       "(79, 35556)"
      ]
     },
     "execution_count": 6,
     "metadata": {},
     "output_type": "execute_result"
    }
   ],
   "source": [
    "size(pheno)"
   ]
  },
  {
   "cell_type": "code",
   "execution_count": 7,
   "id": "5af01511-8d3e-4630-9e37-3471bc6c1ece",
   "metadata": {},
   "outputs": [
    {
     "data": {
      "text/plain": [
       "(79, 1)"
      ]
     },
     "execution_count": 7,
     "metadata": {},
     "output_type": "execute_result"
    }
   ],
   "source": [
    "size(pheno_y)"
   ]
  },
  {
   "cell_type": "code",
   "execution_count": 8,
   "id": "fd6dc879-63b9-4e9d-876d-87c00591dca8",
   "metadata": {},
   "outputs": [
    {
     "data": {
      "text/plain": [
       "(79, 7321)"
      ]
     },
     "execution_count": 8,
     "metadata": {},
     "output_type": "execute_result"
    }
   ],
   "source": [
    "size(geno)"
   ]
  },
  {
   "cell_type": "code",
   "execution_count": 9,
   "id": "4574cb5d-84b2-4d56-9f61-22505d5d8c79",
   "metadata": {},
   "outputs": [
    {
     "data": {
      "text/plain": [
       "(79, 79)"
      ]
     },
     "execution_count": 9,
     "metadata": {},
     "output_type": "execute_result"
    }
   ],
   "source": [
    "size(kinship)"
   ]
  },
  {
   "cell_type": "code",
   "execution_count": 10,
   "id": "8dfb655e-db19-4386-98a7-75845de3b17c",
   "metadata": {},
   "outputs": [
    {
     "data": {
      "text/plain": [
       "(79, 35556, 7321)"
      ]
     },
     "execution_count": 10,
     "metadata": {},
     "output_type": "execute_result"
    }
   ],
   "source": [
    "(n, m, p)"
   ]
  },
  {
   "cell_type": "code",
   "execution_count": 11,
   "id": "b8250a67-36b9-4b10-89cd-942196e4edf6",
   "metadata": {},
   "outputs": [
    {
     "data": {
      "text/plain": [
       "16"
      ]
     },
     "execution_count": 11,
     "metadata": {},
     "output_type": "execute_result"
    }
   ],
   "source": [
    "Threads.nthreads()"
   ]
  },
  {
   "cell_type": "code",
   "execution_count": 12,
   "id": "63d3c12d-3df8-4b3b-92f9-a0217cbb5cfb",
   "metadata": {},
   "outputs": [],
   "source": [
    "using LinearAlgebra"
   ]
  },
  {
   "cell_type": "code",
   "execution_count": 13,
   "id": "019d7aa0-91ba-46a3-88fd-d96c6bf5f501",
   "metadata": {},
   "outputs": [
    {
     "data": {
      "text/plain": [
       "16"
      ]
     },
     "execution_count": 13,
     "metadata": {},
     "output_type": "execute_result"
    }
   ],
   "source": [
    "BLAS.get_num_threads()"
   ]
  },
  {
   "cell_type": "code",
   "execution_count": 52,
   "id": "eb11b539-18cd-4f1a-9e07-fdfeaf6ff969",
   "metadata": {},
   "outputs": [],
   "source": [
    "full_results_ordinary = Array{Float64, 2}(undef, p, m);"
   ]
  },
  {
   "cell_type": "code",
   "execution_count": null,
   "id": "067dcd02-80f7-4a90-a274-d4c73384d90c",
   "metadata": {},
   "outputs": [],
   "source": [
    "@time begin\n",
    "for i in 1:m\n",
    "    pheno_yi = reshape(pheno[:, i], :, 1);\n",
    "    full_results_ordinary[:, i] = scan(pheno_yi, geno, kinship; method = \"null\", reml = true)[3]\n",
    "end\n",
    "end"
   ]
  },
  {
   "cell_type": "code",
   "execution_count": 26,
   "id": "7a774744-3fbb-46d8-a1bd-9c91c62f7e94",
   "metadata": {},
   "outputs": [
    {
     "data": {
      "text/plain": [
       "7321×10 Matrix{Float64}:\n",
       " 0.000120087  0.0459408  0.00296438  …  0.140737    0.0077483    0.0348749\n",
       " 0.000120087  0.0459408  0.00296438     0.140737    0.0077483    0.0348749\n",
       " 0.000120087  0.0459408  0.00296438     0.140737    0.0077483    0.0348749\n",
       " 0.000120087  0.0459408  0.00296438     0.140737    0.0077483    0.0348749\n",
       " 0.000120087  0.0459408  0.00296438     0.140737    0.0077483    0.0348749\n",
       " 0.000120087  0.0459408  0.00296438  …  0.140737    0.0077483    0.0348749\n",
       " 0.000120087  0.0459408  0.00296438     0.140737    0.0077483    0.0348749\n",
       " 0.000120087  0.0459408  0.00296438     0.140737    0.0077483    0.0348749\n",
       " 0.000120087  0.0459408  0.00296438     0.140737    0.0077483    0.0348749\n",
       " 0.000120087  0.0459408  0.00296438     0.140737    0.0077483    0.0348749\n",
       " 0.000120087  0.0459408  0.00296438  …  0.140737    0.0077483    0.0348749\n",
       " 0.000120007  0.0459415  0.00296468     0.140736    0.00774795   0.0348743\n",
       " 0.00953337   0.0651315  0.0179876      0.0930242   0.000555067  0.0162758\n",
       " ⋮                                   ⋱                           \n",
       " 0.260178     0.0591848  0.238773       0.00674849  0.0109601    0.234464\n",
       " 0.260178     0.0591848  0.238773    …  0.00674849  0.0109601    0.234464\n",
       " 0.260178     0.0591848  0.238773       0.00674849  0.0109601    0.234464\n",
       " 0.252712     0.0523908  0.21427        0.0117709   0.00494861   0.201538\n",
       " 0.378291     0.0218212  0.306901       5.38869e-5  0.000775647  0.145823\n",
       " 0.378291     0.0218212  0.306901       5.38869e-5  0.000775647  0.145823\n",
       " 0.219357     0.0462635  0.164628    …  0.00459807  0.00488595   0.0982164\n",
       " 0.200273     0.0909766  0.150258       0.0197354   0.0218512    0.115943\n",
       " 0.202546     0.0855917  0.151969       0.0176369   0.0194827    0.114131\n",
       " 0.177705     0.145049   0.133283       0.0433932   0.0487321    0.131052\n",
       " 0.181695     0.253751   0.104615       0.102264    0.141515     0.134701\n",
       " 0.181695     0.253751   0.104615    …  0.102264    0.141515     0.134701"
      ]
     },
     "execution_count": 26,
     "metadata": {},
     "output_type": "execute_result"
    }
   ],
   "source": [
    "full_results_ordinary"
   ]
  },
  {
   "cell_type": "code",
   "execution_count": 42,
   "id": "b7300836-2ad7-48b3-9c9e-463cda29316c",
   "metadata": {},
   "outputs": [],
   "source": [
    "(Y0, X0, lambda0) = transform_rotation(pheno, geno, kinship);"
   ]
  },
  {
   "cell_type": "code",
   "execution_count": 43,
   "id": "5566af62-6e99-4b7e-99ee-53fbadd10fec",
   "metadata": {},
   "outputs": [],
   "source": [
    "X0_intercept = reshape(X0[:, 1], :, 1);\n",
    "X0_covar = X0[:, 2:end];"
   ]
  },
  {
   "cell_type": "code",
   "execution_count": 44,
   "id": "94b1cc7a-0679-4484-a77c-a7a9c35334de",
   "metadata": {},
   "outputs": [],
   "source": [
    "# X00 = resid(X0[:, 2:end], X0_intercept);"
   ]
  },
  {
   "cell_type": "code",
   "execution_count": 45,
   "id": "0b3eba57-df20-4ea3-9b93-5052fe1cee63",
   "metadata": {},
   "outputs": [
    {
     "data": {
      "text/plain": [
       "79"
      ]
     },
     "execution_count": 45,
     "metadata": {},
     "output_type": "execute_result"
    }
   ],
   "source": [
    "n"
   ]
  },
  {
   "cell_type": "code",
   "execution_count": 46,
   "id": "7dc88b44-459f-4bb4-bddd-1dba94329c2f",
   "metadata": {},
   "outputs": [
    {
     "data": {
      "text/plain": [
       "r2lod (generic function with 1 method)"
      ]
     },
     "execution_count": 46,
     "metadata": {},
     "output_type": "execute_result"
    }
   ],
   "source": [
    "function r2lod(r::Float64)\n",
    "    rsq = (r/n)^2\n",
    "    return -(n/2.0) * log10(1.0-rsq);\n",
    "end"
   ]
  },
  {
   "cell_type": "code",
   "execution_count": 47,
   "id": "c4784174-aa3c-4320-a5c5-57f79d035eee",
   "metadata": {},
   "outputs": [
    {
     "data": {
      "text/plain": [
       "2-element Vector{Float64}:\n",
       " 2.748701454592006e-5\n",
       " 0.0022265908888506967"
      ]
     },
     "execution_count": 47,
     "metadata": {},
     "output_type": "execute_result"
    }
   ],
   "source": [
    "r2lod.([0.1, 0.9])"
   ]
  },
  {
   "cell_type": "code",
   "execution_count": 53,
   "id": "c38e9b62-7717-4f09-a0da-34c06ced10fb",
   "metadata": {},
   "outputs": [],
   "source": [
    "full_results_lite= Array{Float64, 2}(undef, p, m);"
   ]
  },
  {
   "cell_type": "code",
   "execution_count": 54,
   "id": "a0ceeb08-0c3f-4e39-8327-73be7c1e7b95",
   "metadata": {},
   "outputs": [
    {
     "name": "stdout",
     "output_type": "stream",
     "text": [
      "538.697023 seconds (2.12 G allocations: 515.288 GiB, 4.09% gc time)\n"
     ]
    }
   ],
   "source": [
    "@time begin\n",
    "for i in 1:m\n",
    "    pheno_y0i = reshape(Y0[:, i], :, 1);\n",
    "    vc = fitlmm(pheno_y0i, X0_intercept, lambda0; reml = true);\n",
    "    sqrtw = sqrt.(makeweights(vc.h2, lambda0));\n",
    "    \n",
    "    y00i = rowMultiply(pheno_y0i, sqrtw);\n",
    "    X00_intercept = rowMultiply(X0_intercept, sqrtw);\n",
    "    X00_covar = rowMultiply(X0_covar, sqrtw);\n",
    "    \n",
    "    y00 = resid(y00i, X00_intercept);\n",
    "    X00 = resid(X00_covar, X00_intercept);\n",
    "        \n",
    "    sy = std(y00, corrected = false, dims = 1) |> vec;\n",
    "    sx = std(X00, corrected = false, dims = 1) |> vec;\n",
    "    colDivide!(y00, sy);\n",
    "    colDivide!(X00, sx);\n",
    "    R = y00' * X00;\n",
    "    \n",
    "    full_results_lite[:, i] = r2lod.(R);\n",
    "    \n",
    "end\n",
    "\n",
    "end"
   ]
  },
  {
   "cell_type": "code",
   "execution_count": 55,
   "id": "99e46f8d-b197-4960-91bc-82121f73dfe4",
   "metadata": {},
   "outputs": [
    {
     "data": {
      "text/plain": [
       "6×35556 Matrix{Float64}:\n",
       " 0.000121349  0.046365  0.00300596  …  0.0470942  0.00338421  0.352502\n",
       " 0.000121349  0.046365  0.00300596     0.0470942  0.00338421  0.352502\n",
       " 0.000121349  0.046365  0.00300596     0.0470942  0.00338421  0.352502\n",
       " 0.000121349  0.046365  0.00300596     0.0470942  0.00338421  0.352502\n",
       " 0.000121349  0.046365  0.00300596     0.0470942  0.00338421  0.352502\n",
       " 0.000121349  0.046365  0.00300596  …  0.0470942  0.00338421  0.352502"
      ]
     },
     "execution_count": 55,
     "metadata": {},
     "output_type": "execute_result"
    }
   ],
   "source": [
    "full_results_lite[1:6, :]"
   ]
  },
  {
   "cell_type": "code",
   "execution_count": null,
   "id": "4f83d492-5fe0-42b7-8560-16e701e9ff14",
   "metadata": {},
   "outputs": [],
   "source": [
    "full_results_ordinary[1:6, :]"
   ]
  },
  {
   "cell_type": "code",
   "execution_count": null,
   "id": "8e8c0cff-e83f-4284-8d89-4709e4433d18",
   "metadata": {},
   "outputs": [],
   "source": [
    "maxSqDiff(full_results_lite, full_results_ordinary)"
   ]
  },
  {
   "cell_type": "markdown",
   "id": "d2fdf574-2cfa-4658-925d-d1bca33a3c8b",
   "metadata": {},
   "source": [
    "## Estimate heritability independently for every trait:"
   ]
  },
  {
   "cell_type": "markdown",
   "id": "c4fbdce6-d134-4d2a-957f-ddb2ed06b8a5",
   "metadata": {},
   "source": [
    "### Iteratively:"
   ]
  },
  {
   "cell_type": "code",
   "execution_count": null,
   "id": "bc7cfa16-e208-488a-9aac-473df9992850",
   "metadata": {},
   "outputs": [],
   "source": [
    "function get_weights_for_timing(y0::Array{Float64, 2}, X0::Array{Float64, 2}, lambda0::Array{Float64, 1};\n",
    "                   reml::Bool = false)\n",
    "    \n",
    "    # fit null lmm\n",
    "    out00 = fitlmm(y0, reshape(X0[:, 1], :, 1), lambda0; reml = reml)\n",
    "    # weights proportional to the variances\n",
    "    sqrtw = sqrt.(makeweights(out00.h2, lambda0));\n",
    "    \n",
    "    return sqrtw\n",
    "    \n",
    "end\n",
    "\n",
    "function get_h2s_for_timing(y0::Array{Float64, 2}, X0::Array{Float64, 2}, lambda0::Array{Float64, 1};\n",
    "                   reml::Bool = false)\n",
    "    \n",
    "    # fit null lmm\n",
    "    out00 = fitlmm(y0, reshape(X0[:, 1], :, 1), lambda0; reml = reml)\n",
    "    # weights proportional to the variances\n",
    "    # sqrtw = sqrt.(makeweights(out00.h2, lambda0));\n",
    "    \n",
    "    # return sqrtw\n",
    "    return out00.h2\n",
    "    \n",
    "end"
   ]
  },
  {
   "cell_type": "code",
   "execution_count": null,
   "id": "15bbe6bd-b607-4d5b-b4f5-d92d106a1334",
   "metadata": {},
   "outputs": [],
   "source": [
    "m"
   ]
  },
  {
   "cell_type": "code",
   "execution_count": null,
   "id": "b0f794f1-6010-46a9-a226-034554126161",
   "metadata": {},
   "outputs": [],
   "source": [
    "nprocs()"
   ]
  },
  {
   "cell_type": "code",
   "execution_count": null,
   "id": "66f86e3d-dfa4-491b-89e4-94adc4f82257",
   "metadata": {},
   "outputs": [],
   "source": [
    "Threads.nthreads()"
   ]
  },
  {
   "cell_type": "code",
   "execution_count": null,
   "id": "974f6086-73b2-4d3f-ac54-8008e23b7599",
   "metadata": {},
   "outputs": [],
   "source": [
    "(Y0, X0, lambda0) = transform_rotation(pheno, geno, kinship); # rotate the entire matrix of all traits"
   ]
  },
  {
   "cell_type": "code",
   "execution_count": null,
   "id": "e8688990-7670-48f1-b1ff-8171f44af9f3",
   "metadata": {},
   "outputs": [],
   "source": [
    "h2s_list = Array{Float64, 1}(undef, m);\n",
    "weights_list = Array{Float64, 2}(undef, n, m);"
   ]
  },
  {
   "cell_type": "code",
   "execution_count": null,
   "id": "ba1a4984-a52e-4b7f-b5b1-567a322f8757",
   "metadata": {},
   "outputs": [],
   "source": [
    "@time begin \n",
    "    (Y0, X0, lambda0) = transform_rotation(pheno, geno, kinship); # rotate the entire matrix of all traits\n",
    "    \n",
    "    for k in 1:m\n",
    "        y0_k = reshape(Y0[:, k], :, 1);\n",
    "        h2s_list[k] = get_h2s_for_timing(y0_k, X0, lambda0; reml = true);\n",
    "    end\n",
    "    \n",
    "end"
   ]
  },
  {
   "cell_type": "code",
   "execution_count": null,
   "id": "00fca007-79bf-4cc3-99dc-094c4cbfe126",
   "metadata": {},
   "outputs": [],
   "source": [
    "@time begin\n",
    "    \n",
    "    (Y0, X0, lambda0) = transform_rotation(pheno, geno, kinship); # rotate the entire matrix of all traits\n",
    "    \n",
    "    for k in 1:m\n",
    "        y0_k = reshape(Y0[:, k], :, 1);\n",
    "        weights_list[:, k] = get_weights_for_timing(y0_k, X0, lambda0; reml = true);\n",
    "    end\n",
    "    \n",
    "end"
   ]
  },
  {
   "cell_type": "code",
   "execution_count": null,
   "id": "be991915-aad1-4305-8891-1c38149df2cb",
   "metadata": {},
   "outputs": [],
   "source": [
    "get_weights_for_timing(reshape(Y0[:, 7919], :, 1), X0, lambda0; reml = true)"
   ]
  },
  {
   "cell_type": "code",
   "execution_count": null,
   "id": "435d2efb-0cc6-4120-b18d-738a1b232f57",
   "metadata": {},
   "outputs": [],
   "source": [
    "histogram(h2s_list, legend = false)"
   ]
  },
  {
   "cell_type": "code",
   "execution_count": null,
   "id": "1eab4423-cf6f-459d-b453-341b849d47cf",
   "metadata": {},
   "outputs": [],
   "source": [
    "p"
   ]
  },
  {
   "cell_type": "code",
   "execution_count": null,
   "id": "ecf7b7ff-2b34-4bf5-83f9-26ecb395d5ba",
   "metadata": {},
   "outputs": [],
   "source": [
    "lod = Array{Float64, 2}(undef, p, m);"
   ]
  },
  {
   "cell_type": "code",
   "execution_count": null,
   "id": "2dc8181e-382c-4716-919d-962b2ef5e263",
   "metadata": {},
   "outputs": [],
   "source": [
    "BLAS.get_num_threads()"
   ]
  },
  {
   "cell_type": "code",
   "execution_count": null,
   "id": "5a343758-bf18-442d-9cd3-b38e47143daf",
   "metadata": {},
   "outputs": [],
   "source": [
    "function threads_by_blocks(r0perm::Array{Float64, 2}, X00::Array{Float64, 2}, nblocks::Int64)\n",
    "    # Does distributed processes of calculations of LOD scores for markers in each block\n",
    "\n",
    "    p = size(X00, 2);\n",
    "\n",
    "    ## (Create blocks...)\n",
    "    \n",
    "    block_size = ceil(Int, p/nblocks);\n",
    "    blocks = createBlocks(p, block_size);\n",
    "\n",
    "    LODs_blocks = tmap(x -> calcLODs_block(r0perm, X00, x), 16, blocks);\n",
    "    results = reduce(hcat, LODs_blocks);\n",
    "\n",
    "    return results\n",
    "\n",
    "end"
   ]
  },
  {
   "cell_type": "code",
   "execution_count": null,
   "id": "8ef774d9-dfb0-4541-b697-11686961fd04",
   "metadata": {},
   "outputs": [],
   "source": [
    "function scan_perms_threadsBlocks(y::Array{Float64,2}, g::Array{Float64,2}, K::Array{Float64,2};\n",
    "                                reml::Bool = false,\n",
    "                                nperms::Int64 = 1024, rndseed::Int64 = 0, original::Bool = true,\n",
    "                                # (options for blocks, nperms distribution methods...)\n",
    "                                option::String = \"by blocks\", nblocks::Int64 = 1, ncopies::Int64 = 1, \n",
    "                                nprocs::Int64 = 0)\n",
    "\n",
    "    (y0, X0, lambda0) = transform_rotation(y, g, K); # rotation of data\n",
    "    (r0, X00) = transform_reweight(y0, X0, lambda0; reml = reml); # reweighting and taking residuals\n",
    "    r0perm = transform_permute(r0; nperms = nperms, rndseed = rndseed, original = original);\n",
    "\n",
    "    if option == \"by blocks\"\n",
    "        results = threads_by_blocks(r0perm, X00, nblocks);\n",
    "    elseif option == \"by nperms\"\n",
    "        results = distribute_by_nperms(r0, X00, nperms, ncopies, original);\n",
    "    else\n",
    "        throw(error(\"Option unsupported.\"))\n",
    "    end\n",
    "\n",
    "    return results\n",
    "\n",
    "end"
   ]
  },
  {
   "cell_type": "code",
   "execution_count": null,
   "id": "33c15d02-3ab0-4a44-a554-90104cda5964",
   "metadata": {},
   "outputs": [],
   "source": [
    "block_bounds = quantile(h2s_list, [0.1, 0.2, 0.3, 0.4, 0.5, 0.6, 0.7, 0.8, 0.9, 1.0])"
   ]
  },
  {
   "cell_type": "code",
   "execution_count": null,
   "id": "eb62fee7-d97d-44ae-8bb6-88016320f099",
   "metadata": {},
   "outputs": [],
   "source": [
    "length(block_bounds)/2"
   ]
  },
  {
   "cell_type": "code",
   "execution_count": null,
   "id": "ac1d5b83-2444-4ac7-bf8a-f5ba54a3d475",
   "metadata": {},
   "outputs": [],
   "source": [
    "sum(map(x -> (x < block_bounds[5] && x > block_bounds[4]), h2s_list))"
   ]
  },
  {
   "cell_type": "markdown",
   "id": "d5cd0a86-1ef5-40d8-8e21-0d65cbc70462",
   "metadata": {},
   "source": [
    "### Parellely:"
   ]
  },
  {
   "cell_type": "markdown",
   "id": "1cbedcbc-5659-426a-837a-6d71aa40933a",
   "metadata": {},
   "source": [
    "#### Distributed-processes"
   ]
  },
  {
   "cell_type": "code",
   "execution_count": null,
   "id": "61ea2bd1-ea84-4903-8908-f35d16e67e76",
   "metadata": {},
   "outputs": [],
   "source": [
    "using Distributed"
   ]
  },
  {
   "cell_type": "code",
   "execution_count": null,
   "id": "e9c46b40-834a-4c89-9125-379729a3474c",
   "metadata": {},
   "outputs": [],
   "source": [
    "@everywhere begin\n",
    "    \n",
    "    include(\"../test/BXDdata_for_test.jl\");\n",
    "    include(\"../src/parallel_helpers.jl\");\n",
    "    \n",
    "    function get_h2s_for_timing(y0::Array{Float64, 2}, X0::Array{Float64, 2}, lambda0::Array{Float64, 1};\n",
    "                   reml::Bool = false)\n",
    "    \n",
    "    # fit null lmm\n",
    "    out00 = fitlmm(y0, reshape(X0[:, 1], :, 1), lambda0; reml = reml)\n",
    "    # weights proportional to the variances\n",
    "    # sqrtw = sqrt.(makeweights(out00.h2, lambda0));\n",
    "    \n",
    "    # return sqrtw\n",
    "    return out00.h2\n",
    "    \n",
    "    end\n",
    "end"
   ]
  },
  {
   "cell_type": "code",
   "execution_count": null,
   "id": "f8909536-69cc-4509-8519-fd8a726d7dd6",
   "metadata": {},
   "outputs": [],
   "source": [
    "@time begin \n",
    "    (Y0, X0, lambda0) = transform_rotation(pheno, geno, kinship); # rotate the entire matrix of all traits\n",
    "    \n",
    "    pmap_h2s = pmap(x -> get_h2s_for_timing(reshape(Y0[:, x], :, 1), X0, lambda0; reml = true), 1:m)\n",
    "end"
   ]
  },
  {
   "cell_type": "code",
   "execution_count": null,
   "id": "3aa97387-0bca-4fef-be64-83dabb95f38a",
   "metadata": {},
   "outputs": [],
   "source": [
    "Threads.nthreads()"
   ]
  },
  {
   "cell_type": "code",
   "execution_count": null,
   "id": "ed2411b5-f98a-453c-b328-e364ec5031c8",
   "metadata": {},
   "outputs": [],
   "source": []
  }
 ],
 "metadata": {
  "kernelspec": {
   "display_name": "Julia 16 Threads 1.8.1",
   "language": "julia",
   "name": "julia-16-threads-1.8"
  },
  "language_info": {
   "file_extension": ".jl",
   "mimetype": "application/julia",
   "name": "julia",
   "version": "1.8.1"
  }
 },
 "nbformat": 4,
 "nbformat_minor": 5
}
