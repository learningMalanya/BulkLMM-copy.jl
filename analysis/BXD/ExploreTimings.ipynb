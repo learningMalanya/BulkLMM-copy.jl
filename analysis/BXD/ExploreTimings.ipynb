{
 "cells": [
  {
   "cell_type": "markdown",
   "id": "a6823e97-cece-4715-b2da-abe4e9ebf923",
   "metadata": {},
   "source": [
    "# Explore Runtimes:"
   ]
  },
  {
   "cell_type": "code",
   "execution_count": 1,
   "id": "965cce00-59f7-4602-87cf-ef609bc4f2f3",
   "metadata": {},
   "outputs": [
    {
     "data": {
      "text/plain": [
       "\"/Users/FredYu/Documents/GitHub/BulkLMM.jl/analysis/BXD\""
      ]
     },
     "execution_count": 1,
     "metadata": {},
     "output_type": "execute_result"
    }
   ],
   "source": [
    "pwd()"
   ]
  },
  {
   "cell_type": "code",
   "execution_count": 2,
   "id": "54153196-a048-488b-af8e-45f52d1af76b",
   "metadata": {},
   "outputs": [],
   "source": [
    "cd(\"..\")"
   ]
  },
  {
   "cell_type": "code",
   "execution_count": 3,
   "id": "fc3b6ede-0266-46cd-8528-981770c07f67",
   "metadata": {},
   "outputs": [],
   "source": [
    "include(\"../test/BXDdata_for_test.jl\");"
   ]
  },
  {
   "cell_type": "code",
   "execution_count": 4,
   "id": "d5599580-c9af-47be-9723-d6b8a2437ef1",
   "metadata": {},
   "outputs": [],
   "source": [
    "include(\"../src/parallel_helpers.jl\");"
   ]
  },
  {
   "cell_type": "code",
   "execution_count": 5,
   "id": "3d8e5841-bfbc-4d35-bff9-920c73705424",
   "metadata": {},
   "outputs": [
    {
     "data": {
      "text/plain": [
       "(79, 35556)"
      ]
     },
     "execution_count": 5,
     "metadata": {},
     "output_type": "execute_result"
    }
   ],
   "source": [
    "size(pheno)"
   ]
  },
  {
   "cell_type": "code",
   "execution_count": 6,
   "id": "5af01511-8d3e-4630-9e37-3471bc6c1ece",
   "metadata": {},
   "outputs": [
    {
     "data": {
      "text/plain": [
       "(79, 1)"
      ]
     },
     "execution_count": 6,
     "metadata": {},
     "output_type": "execute_result"
    }
   ],
   "source": [
    "size(pheno_y)"
   ]
  },
  {
   "cell_type": "code",
   "execution_count": 7,
   "id": "fd6dc879-63b9-4e9d-876d-87c00591dca8",
   "metadata": {},
   "outputs": [
    {
     "data": {
      "text/plain": [
       "(79, 7321)"
      ]
     },
     "execution_count": 7,
     "metadata": {},
     "output_type": "execute_result"
    }
   ],
   "source": [
    "size(geno)"
   ]
  },
  {
   "cell_type": "code",
   "execution_count": 8,
   "id": "4574cb5d-84b2-4d56-9f61-22505d5d8c79",
   "metadata": {},
   "outputs": [
    {
     "data": {
      "text/plain": [
       "(79, 79)"
      ]
     },
     "execution_count": 8,
     "metadata": {},
     "output_type": "execute_result"
    }
   ],
   "source": [
    "size(kinship)"
   ]
  },
  {
   "cell_type": "code",
   "execution_count": 9,
   "id": "8dfb655e-db19-4386-98a7-75845de3b17c",
   "metadata": {},
   "outputs": [
    {
     "data": {
      "text/plain": [
       "(79, 35556, 7321)"
      ]
     },
     "execution_count": 9,
     "metadata": {},
     "output_type": "execute_result"
    }
   ],
   "source": [
    "(n, m, p)"
   ]
  },
  {
   "cell_type": "code",
   "execution_count": 7,
   "id": "b8250a67-36b9-4b10-89cd-942196e4edf6",
   "metadata": {},
   "outputs": [
    {
     "data": {
      "text/plain": [
       "4"
      ]
     },
     "execution_count": 7,
     "metadata": {},
     "output_type": "execute_result"
    }
   ],
   "source": [
    "Threads.nthreads()"
   ]
  },
  {
   "cell_type": "code",
   "execution_count": 8,
   "id": "63d3c12d-3df8-4b3b-92f9-a0217cbb5cfb",
   "metadata": {},
   "outputs": [],
   "source": [
    "using LinearAlgebra"
   ]
  },
  {
   "cell_type": "code",
   "execution_count": 9,
   "id": "019d7aa0-91ba-46a3-88fd-d96c6bf5f501",
   "metadata": {},
   "outputs": [
    {
     "data": {
      "text/plain": [
       "4"
      ]
     },
     "execution_count": 9,
     "metadata": {},
     "output_type": "execute_result"
    }
   ],
   "source": [
    "BLAS.get_num_threads()"
   ]
  },
  {
   "cell_type": "code",
   "execution_count": 10,
   "id": "65a13375-efa7-43d9-9061-15d142ab578d",
   "metadata": {},
   "outputs": [],
   "source": [
    "BLAS.set_num_threads(1);"
   ]
  },
  {
   "cell_type": "code",
   "execution_count": 11,
   "id": "312326e6-e3d1-443a-be1c-24864d293c8e",
   "metadata": {},
   "outputs": [
    {
     "data": {
      "text/plain": [
       "1"
      ]
     },
     "execution_count": 11,
     "metadata": {},
     "output_type": "execute_result"
    }
   ],
   "source": [
    "BLAS.get_num_threads()"
   ]
  },
  {
   "cell_type": "code",
   "execution_count": 30,
   "id": "b6e3ff9d-7628-4f60-9de9-7d90dfb23c1c",
   "metadata": {},
   "outputs": [
    {
     "data": {
      "text/plain": [
       "scan_ordinary (generic function with 1 method)"
      ]
     },
     "execution_count": 30,
     "metadata": {},
     "output_type": "execute_result"
    }
   ],
   "source": [
    "function scan_ordinary(Y0::Array{Float64, 2}, X0::Array{Float64, 2}, lambda0::Array{Float64, 1}; reml::Bool = true)\n",
    "    \n",
    "    X0_inter = reshape(X0[:, 1], :, 1);\n",
    "    \n",
    "    full_results_ordinary = Array{Float64, 2}(undef, p, m);\n",
    "    \n",
    "    for i in 1:m\n",
    "        y0i = reshape(Y0[:, i], :, 1);\n",
    "        out00 = fitlmm(y0i, X0_inter, lambda0; reml = true);\n",
    "        sqrtw = sqrt.(makeweights(out00.h2, lambda0))\n",
    "        \n",
    "        yw_i = rowMultiply(y0i, sqrtw);\n",
    "        Xw = rowMultiply(X0, sqrtw);\n",
    "        \n",
    "        out0 = rss(yw_i, reshape(Xw[:, 1], :, 1));\n",
    "        lod = Array{Float64, 1}(undef, p);\n",
    "        \n",
    "        X = Array{Float64, 2}(undef, n, 2);\n",
    "        X[:, 1] = Xw[:, 1];\n",
    "        \n",
    "        for j in 1:p\n",
    "            X[:, 2] = Xw[:, j+1];\n",
    "            \n",
    "            out1 = rss(yw_i, X);\n",
    "            lod[j] = (n/2)*(log10(out0[1]) - log10(out1[1]))\n",
    "        end\n",
    "        \n",
    "        full_results_ordinary[:, i] = lod;\n",
    "\n",
    "    end\n",
    "    \n",
    "    \n",
    "    return full_results_ordinary\n",
    "end"
   ]
  },
  {
   "cell_type": "code",
   "execution_count": 31,
   "id": "b084bf2e-7a54-402e-91e5-6c17a57387d7",
   "metadata": {},
   "outputs": [
    {
     "name": "stdout",
     "output_type": "stream",
     "text": [
      "898.904336 seconds (7.23 G allocations: 1.055 TiB, 7.18% gc time, 0.00% compilation time)\n"
     ]
    },
    {
     "data": {
      "text/plain": [
       "7321×35556 Matrix{Float64}:\n",
       " 0.000120087  0.0459408  0.00296438  …  0.0462626   0.00334917   0.348691\n",
       " 0.000120087  0.0459408  0.00296438     0.0462626   0.00334917   0.348691\n",
       " 0.000120087  0.0459408  0.00296438     0.0462626   0.00334917   0.348691\n",
       " 0.000120087  0.0459408  0.00296438     0.0462626   0.00334917   0.348691\n",
       " 0.000120087  0.0459408  0.00296438     0.0462626   0.00334917   0.348691\n",
       " 0.000120087  0.0459408  0.00296438  …  0.0462626   0.00334917   0.348691\n",
       " 0.000120087  0.0459408  0.00296438     0.0462626   0.00334917   0.348691\n",
       " 0.000120087  0.0459408  0.00296438     0.0462626   0.00334917   0.348691\n",
       " 0.000120087  0.0459408  0.00296438     0.0462626   0.00334917   0.348691\n",
       " 0.000120087  0.0459408  0.00296438     0.0462626   0.00334917   0.348691\n",
       " 0.000120087  0.0459408  0.00296438  …  0.0462626   0.00334917   0.348691\n",
       " 0.000120007  0.0459415  0.00296468     0.0462632   0.00334919   0.348694\n",
       " 0.00953337   0.0651315  0.0179876      0.0549484   0.00385301   0.386323\n",
       " ⋮                                   ⋱                           ⋮\n",
       " 0.260178     0.0591848  0.238773       0.259194    0.0104798    0.179368\n",
       " 0.260178     0.0591848  0.238773    …  0.259194    0.0104798    0.179368\n",
       " 0.260178     0.0591848  0.238773       0.259194    0.0104798    0.179368\n",
       " 0.252712     0.0523908  0.21427        0.0792368   0.00221043   0.344933\n",
       " 0.378291     0.0218212  0.306901       0.0303307   0.000161225  0.386831\n",
       " 0.378291     0.0218212  0.306901       0.0303307   0.000161225  0.386831\n",
       " 0.219357     0.0462635  0.164628    …  0.00198594  0.0256127    0.2906\n",
       " 0.200273     0.0909766  0.150258       0.00174186  0.0413606    0.209139\n",
       " 0.202546     0.0855917  0.151969       0.00176996  0.0395503    0.217494\n",
       " 0.177705     0.145049   0.133283       0.00147373  0.0587088    0.139101\n",
       " 0.181695     0.253751   0.104615       0.00804644  0.0547036    0.0633114\n",
       " 0.181695     0.253751   0.104615    …  0.00804644  0.0547036    0.0633114"
      ]
     },
     "execution_count": 31,
     "metadata": {},
     "output_type": "execute_result"
    }
   ],
   "source": [
    "@time begin\n",
    "    \n",
    "    (Y0, X0, lambda0) = transform_rotation(pheno, geno, kinship);\n",
    "    full_results_ordinary = scan_ordinary(Y0, X0, lambda0);\n",
    "    \n",
    "end"
   ]
  },
  {
   "cell_type": "markdown",
   "id": "e1c7fd39-cbc7-4ac5-9565-482303103b90",
   "metadata": {},
   "source": [
    "## LiteQTL:"
   ]
  },
  {
   "cell_type": "code",
   "execution_count": 12,
   "id": "7dc88b44-459f-4bb4-bddd-1dba94329c2f",
   "metadata": {},
   "outputs": [
    {
     "data": {
      "text/plain": [
       "r2lod (generic function with 1 method)"
      ]
     },
     "execution_count": 12,
     "metadata": {},
     "output_type": "execute_result"
    }
   ],
   "source": [
    "function r2lod(r::Float64)\n",
    "    rsq = (r/n)^2\n",
    "    return -(n/2.0) * log10(1.0-rsq);\n",
    "end"
   ]
  },
  {
   "cell_type": "code",
   "execution_count": 13,
   "id": "c4784174-aa3c-4320-a5c5-57f79d035eee",
   "metadata": {},
   "outputs": [
    {
     "data": {
      "text/plain": [
       "2-element Vector{Float64}:\n",
       " 2.748701454592006e-5\n",
       " 0.0022265908888506967"
      ]
     },
     "execution_count": 13,
     "metadata": {},
     "output_type": "execute_result"
    }
   ],
   "source": [
    "r2lod.([0.1, 0.9])"
   ]
  },
  {
   "cell_type": "code",
   "execution_count": 14,
   "id": "c38e9b62-7717-4f09-a0da-34c06ced10fb",
   "metadata": {},
   "outputs": [],
   "source": [
    "full_results_lite = Array{Float64, 2}(undef, p, m);"
   ]
  },
  {
   "cell_type": "code",
   "execution_count": 21,
   "id": "fbff02ba-a0e6-4467-9152-98a0364b17cc",
   "metadata": {},
   "outputs": [
    {
     "name": "stdout",
     "output_type": "stream",
     "text": [
      "304.614085 seconds (2.12 G allocations: 515.315 GiB, 1.72% gc time, 0.03% compilation time)\n"
     ]
    }
   ],
   "source": [
    "@time begin\n",
    "    (Y0, X0, lambda0) = transform_rotation(pheno, geno, kinship);\n",
    "    X0_intercept = reshape(X0[:, 1], :, 1);\n",
    "    #copyX0_intercept = deepcopy(X0_intercept);\n",
    "    X0_covar = X0[:, 2:end];\n",
    "    #copyX0_covar = deepcopy(X0_covar);\n",
    "    \n",
    "    for i in 1:m\n",
    "        pheno_y0i = reshape(Y0[:, i], :, 1);\n",
    "        vc = fitlmm(pheno_y0i, X0_intercept, lambda0; reml = true);\n",
    "        sqrtw = sqrt.(makeweights(vc.h2, lambda0));\n",
    "    \n",
    "        pheno_y00i = rowMultiply(pheno_y0i, sqrtw);\n",
    "        X00_intercept = rowMultiply(X0_intercept, sqrtw);\n",
    "        X00_covar = rowMultiply(X0_covar, sqrtw);\n",
    "    \n",
    "        y00 = resid(pheno_y00i, X00_intercept);\n",
    "        X00 = resid(X00_covar, X00_intercept);\n",
    "        \n",
    "        sy = std(y00, dims = 1) |> vec;\n",
    "        sx = std(X00, dims = 1) |> vec;\n",
    "        colDivide!(y00, sy);\n",
    "        colDivide!(X00, sx);\n",
    "        R = y00' * X00;\n",
    "    \n",
    "        full_results_lite[:, i] = r2lod.(R);\n",
    "    \n",
    "    end\n",
    "\n",
    "end"
   ]
  },
  {
   "cell_type": "code",
   "execution_count": 22,
   "id": "99e46f8d-b197-4960-91bc-82121f73dfe4",
   "metadata": {},
   "outputs": [
    {
     "data": {
      "text/plain": [
       "6×35556 Matrix{Float64}:\n",
       " 0.000117904  0.0449468  0.00289554  …  0.0457906  0.00329113  0.344878\n",
       " 0.000117904  0.0449468  0.00289554     0.0457906  0.00329113  0.344878\n",
       " 0.000117904  0.0449468  0.00289554     0.0457906  0.00329113  0.344878\n",
       " 0.000117904  0.0449468  0.00289554     0.0457906  0.00329113  0.344878\n",
       " 0.000117904  0.0449468  0.00289554     0.0457906  0.00329113  0.344878\n",
       " 0.000117904  0.0449468  0.00289554  …  0.0457906  0.00329113  0.344878"
      ]
     },
     "execution_count": 22,
     "metadata": {},
     "output_type": "execute_result"
    }
   ],
   "source": [
    "full_results_lite[1:6, :]"
   ]
  },
  {
   "cell_type": "markdown",
   "id": "6f24ef12-b445-4ed6-85bd-d500c3f9c366",
   "metadata": {},
   "source": [
    "### Multi-threading LiteQTL:"
   ]
  },
  {
   "cell_type": "code",
   "execution_count": 15,
   "id": "e6cc9013-3232-4d0a-aeec-4a92e7b0bf1d",
   "metadata": {},
   "outputs": [
    {
     "data": {
      "text/plain": [
       "4"
      ]
     },
     "execution_count": 15,
     "metadata": {},
     "output_type": "execute_result"
    }
   ],
   "source": [
    "Threads.nthreads()"
   ]
  },
  {
   "cell_type": "code",
   "execution_count": 16,
   "id": "4541b393-1565-4382-90f7-17f24075a550",
   "metadata": {},
   "outputs": [],
   "source": [
    "nblocks = Threads.nthreads();"
   ]
  },
  {
   "cell_type": "code",
   "execution_count": 17,
   "id": "e6e1ba9e-5ab5-4fdb-bf72-c843b1ebe709",
   "metadata": {},
   "outputs": [],
   "source": [
    "if nblocks == Threads.nthreads()\n",
    "    BLAS.set_num_threads(1)\n",
    "else\n",
    "    BLAS.set_num_threads(Threads.nthreads() - nblocks)\n",
    "end"
   ]
  },
  {
   "cell_type": "code",
   "execution_count": 18,
   "id": "a39c870a-3eda-4c45-a835-f378a9da4e93",
   "metadata": {},
   "outputs": [
    {
     "data": {
      "text/plain": [
       "1"
      ]
     },
     "execution_count": 18,
     "metadata": {},
     "output_type": "execute_result"
    }
   ],
   "source": [
    "BLAS.get_num_threads()"
   ]
  },
  {
   "cell_type": "code",
   "execution_count": 19,
   "id": "05e2f33e-5c2c-4afc-860c-d1d8429b0800",
   "metadata": {},
   "outputs": [
    {
     "data": {
      "text/plain": [
       "(2222, 4)"
      ]
     },
     "execution_count": 19,
     "metadata": {},
     "output_type": "execute_result"
    }
   ],
   "source": [
    "divrem(m, 16)"
   ]
  },
  {
   "cell_type": "code",
   "execution_count": 20,
   "id": "ae96914c-6384-423e-85d4-5fc07aa33eed",
   "metadata": {},
   "outputs": [
    {
     "data": {
      "text/plain": [
       "scan_lite_univar (generic function with 1 method)"
      ]
     },
     "execution_count": 20,
     "metadata": {},
     "output_type": "execute_result"
    }
   ],
   "source": [
    "function scan_lite_univar(y0_j::Array{Float64, 1}, X0_intercept::Array{Float64, 2}, \n",
    "                            X0_covar::Array{Float64, 2}, lambda0::Array{Float64, 1};\n",
    "                            reml::Bool = true)\n",
    "    \n",
    "    y0 = reshape(y0_j, :, 1);\n",
    "    vc = fitlmm(y0, X0_intercept, lambda0; reml = reml);\n",
    "    sqrtw = sqrt.(makeweights(vc.h2, lambda0));\n",
    "    \n",
    "    wy0 = rowMultiply(y0, sqrtw);\n",
    "    wX0_intercept = rowMultiply(X0_intercept, sqrtw);\n",
    "    wX0_covar = rowMultiply(X0_covar, sqrtw);\n",
    "    \n",
    "    y00 = resid(wy0, wX0_intercept);\n",
    "    X00 = resid(wX0_covar, wX0_intercept);\n",
    "        \n",
    "        \n",
    "    sy = std(y00, dims = 1) |> vec;\n",
    "    sx = std(X00, dims = 1) |> vec;\n",
    "    colDivide!(y00, sy);\n",
    "    colDivide!(X00, sx);\n",
    "    \n",
    "    R = X00' * y00; # p-by-1 matrix\n",
    "    \n",
    "    return r2lod.(R); # results will be p-by-1, i.e. all LOD scores for the j-th trait and p markers\n",
    "end"
   ]
  },
  {
   "cell_type": "code",
   "execution_count": 21,
   "id": "f9bbb88e-9f2f-448b-bbf0-682c30163a8b",
   "metadata": {},
   "outputs": [
    {
     "data": {
      "text/plain": [
       "scan_lite_multithreads (generic function with 1 method)"
      ]
     },
     "execution_count": 21,
     "metadata": {},
     "output_type": "execute_result"
    }
   ],
   "source": [
    "function scan_lite_multithreads(Y::Array{Float64, 2}, G::Array{Float64, 2}, K::Array{Float64, 2}, nb::Int64;\n",
    "                                reml::Bool = true)\n",
    "    (n, m) = size(Y);\n",
    "    p = size(G, 2);\n",
    "    \n",
    "    # rotate data\n",
    "    (Y0, X0, lambda0) = transform_rotation(Y, G, K);\n",
    "    X0_intercept = reshape(X0[:, 1], :, 1);\n",
    "    X0_covar = X0[:, 2:end];\n",
    "    \n",
    "    (len, rem) = divrem(m, nb);\n",
    "    \n",
    "    results = Array{Array{Float64, 2}, 1}(undef, nb);\n",
    "    \n",
    "    Threads.@threads for t = 1:nb # so the N blocks will share the (nthreads - N) BLAS threads\n",
    "        \n",
    "        lods_currBlock = Array{Float64, 2}(undef, p, len);\n",
    "        \n",
    "        @simd for i = 1:len\n",
    "            \n",
    "            j = i+(t-1)*len;\n",
    "            #@inbounds\n",
    "            lods_currBlock[:, i] = scan_lite_univar(Y0[:, j], X0_intercept, X0_covar, lambda0;\n",
    "                                                    reml = reml);\n",
    "        end\n",
    "                    \n",
    "        results[t] = lods_currBlock;\n",
    "        \n",
    "    end\n",
    "    \n",
    "    # process up the remaining data\n",
    "    lods_remBlock = Array{Float64, 2}(undef, p, rem);\n",
    "    for i in 1:rem\n",
    "        \n",
    "        j = m-rem+i;\n",
    "        \n",
    "        lods_remBlock[:, i] = scan_lite_univar(Y0[:, j], X0_intercept, X0_covar, lambda0;\n",
    "                                               reml = reml);\n",
    "        \n",
    "    end\n",
    "    \n",
    "    LODs_all = reduce(hcat, results);\n",
    "    LODs_all = hcat(LODs_all, lods_remBlock);\n",
    "    \n",
    "    return LODs_all\n",
    "    \n",
    "end"
   ]
  },
  {
   "cell_type": "code",
   "execution_count": 22,
   "id": "4cb59b6c-445d-4828-acfe-04cc3b1d0962",
   "metadata": {},
   "outputs": [
    {
     "name": "stdout",
     "output_type": "stream",
     "text": [
      "178.265216 seconds (2.12 G allocations: 521.138 GiB, 23.68% gc time, 0.08% compilation time)\n"
     ]
    }
   ],
   "source": [
    "@time full_results_lite_multithreads = scan_lite_multithreads(pheno, geno, kinship, nblocks; reml = true);"
   ]
  },
  {
   "cell_type": "code",
   "execution_count": null,
   "id": "7c9b1ddf-c803-4a12-9b93-1a64ef4e4de5",
   "metadata": {},
   "outputs": [],
   "source": [
    "@btime scan_lite_multithreads(pheno, geno, kinship, nblocks; reml = true);"
   ]
  },
  {
   "cell_type": "code",
   "execution_count": null,
   "id": "b816c121-5a6b-46bc-8fb9-3ea6874d34e9",
   "metadata": {},
   "outputs": [],
   "source": [
    "full_results_lite[1:6, :]"
   ]
  },
  {
   "cell_type": "code",
   "execution_count": 23,
   "id": "ffdb74ba-8c2d-44cf-8783-ed3185833dba",
   "metadata": {},
   "outputs": [
    {
     "data": {
      "text/plain": [
       "6×35556 Matrix{Float64}:\n",
       " 0.000119682  0.0457565  0.00296203  …  0.0471839  0.00332865  0.347391\n",
       " 0.000119682  0.0457565  0.00296203     0.0471839  0.00332865  0.347391\n",
       " 0.000119682  0.0457565  0.00296203     0.0471839  0.00332865  0.347391\n",
       " 0.000119682  0.0457565  0.00296203     0.0471839  0.00332865  0.347391\n",
       " 0.000119682  0.0457565  0.00296203     0.0471839  0.00332865  0.347391\n",
       " 0.000119682  0.0457565  0.00296203  …  0.0471839  0.00332865  0.347391"
      ]
     },
     "execution_count": 23,
     "metadata": {},
     "output_type": "execute_result"
    }
   ],
   "source": [
    "full_results_lite_multithreads[1:6, :]"
   ]
  },
  {
   "cell_type": "code",
   "execution_count": null,
   "id": "90a67c6d-35cb-42dd-bebc-bd9702800336",
   "metadata": {},
   "outputs": [],
   "source": [
    "maxSqDiff(full_results_lite, full_results_lite_multithreads)"
   ]
  },
  {
   "cell_type": "code",
   "execution_count": null,
   "id": "41eda6c1-6666-49a2-a316-06609b04dd09",
   "metadata": {},
   "outputs": [],
   "source": [
    "any(full_results_lite_multithreads .< 0.0)"
   ]
  },
  {
   "cell_type": "code",
   "execution_count": 63,
   "id": "2a47aecc-33ca-4a30-8a57-3d2c52eee60b",
   "metadata": {},
   "outputs": [
    {
     "data": {
      "text/plain": [
       "3×2 Matrix{Int64}:\n",
       " 1  2\n",
       " 3  4\n",
       " 5  6"
      ]
     },
     "execution_count": 63,
     "metadata": {},
     "output_type": "execute_result"
    }
   ],
   "source": [
    "test[2] = [1 2; 3 4; 5 6]"
   ]
  },
  {
   "cell_type": "code",
   "execution_count": 64,
   "id": "bf2f695c-678c-4ed6-a48d-596e536a7a0e",
   "metadata": {},
   "outputs": [
    {
     "data": {
      "text/plain": [
       "4-element Vector{Matrix{Float64}}:\n",
       "    [0.0 0.0; 0.0 0.0; 0.0 0.0]\n",
       "    [1.0 2.0; 3.0 4.0; 5.0 6.0]\n",
       " #undef\n",
       " #undef"
      ]
     },
     "execution_count": 64,
     "metadata": {},
     "output_type": "execute_result"
    }
   ],
   "source": [
    "test"
   ]
  },
  {
   "cell_type": "code",
   "execution_count": 66,
   "id": "77dd86d0-955e-41b3-93f3-0593a6f413d3",
   "metadata": {},
   "outputs": [
    {
     "data": {
      "text/plain": [
       "3×4 Matrix{Float64}:\n",
       " 0.0  0.0  1.0  2.0\n",
       " 0.0  0.0  3.0  4.0\n",
       " 0.0  0.0  5.0  6.0"
      ]
     },
     "execution_count": 66,
     "metadata": {},
     "output_type": "execute_result"
    }
   ],
   "source": [
    "reduce(hcat, test[1:2])"
   ]
  },
  {
   "cell_type": "markdown",
   "id": "37123659-95e7-4891-90be-c1bdfa04ddc5",
   "metadata": {},
   "source": [
    "### \"Bulk\" Calculation:"
   ]
  },
  {
   "cell_type": "code",
   "execution_count": 28,
   "id": "37503848-7b34-42d1-a478-88b6f09d737a",
   "metadata": {},
   "outputs": [
    {
     "data": {
      "text/plain": [
       "scan_lite_multivar (generic function with 1 method)"
      ]
     },
     "execution_count": 28,
     "metadata": {},
     "output_type": "execute_result"
    }
   ],
   "source": [
    "function scan_lite_multivar(Y0::Array{Float64, 2}, X0::Array{Float64, 2}, \n",
    "                            hsq::Float64, lambda0::Array{Float64, 1};\n",
    "                            reml::Bool = true)\n",
    "    \n",
    "    sqrtw = sqrt.(makeweights(hsq, lambda0));\n",
    "    \n",
    "    wY0 = rowMultiply(Y0, sqrtw);\n",
    "    wX0 = rowMultiply(X0, sqrtw);\n",
    "    \n",
    "    wX0_intercept = wX0[:, 1];\n",
    "    wX0_covar = wX0[:, 2:end];\n",
    "    \n",
    "    Y00 = resid(wY0, wX0_intercept);\n",
    "    X00 = resid(wX0_covar, wX0_intercept);\n",
    "        \n",
    "        \n",
    "    sy = std(Y00, dims = 1) |> vec;\n",
    "    sx = std(X00, dims = 1) |> vec;\n",
    "    colDivide!(Y00, sy);\n",
    "    colDivide!(X00, sx);\n",
    "    \n",
    "    R = X00' * Y00; # p-by-m matrix\n",
    "    \n",
    "    return r2lod.(R); # results will be p-by-1, i.e. all LOD scores for the j-th trait and p markers\n",
    "end"
   ]
  },
  {
   "cell_type": "code",
   "execution_count": 29,
   "id": "a59734d9-d598-4e35-a85c-17ec6f103cea",
   "metadata": {},
   "outputs": [],
   "source": [
    "(Y0, X0, lambda0) = transform_rotation(pheno, geno, kinship);"
   ]
  },
  {
   "cell_type": "code",
   "execution_count": 34,
   "id": "41ceaf88-a468-404b-afbd-5d0c1cba17ff",
   "metadata": {},
   "outputs": [],
   "source": [
    "BLAS.set_num_threads(Threads.nthreads())"
   ]
  },
  {
   "cell_type": "code",
   "execution_count": 51,
   "id": "73fdf5a4-83e5-48eb-9580-fba8d31d2298",
   "metadata": {},
   "outputs": [
    {
     "data": {
      "text/plain": [
       "4"
      ]
     },
     "execution_count": 51,
     "metadata": {},
     "output_type": "execute_result"
    }
   ],
   "source": [
    "BLAS.get_num_threads()"
   ]
  },
  {
   "cell_type": "code",
   "execution_count": null,
   "id": "8f6cf4a4-efec-49af-8b41-8c3783af16e9",
   "metadata": {},
   "outputs": [],
   "source": [
    "@time scan_lite_multivar(Y0, X0, 0.1, lambda0)"
   ]
  },
  {
   "cell_type": "code",
   "execution_count": 50,
   "id": "36427126-3743-4f8e-9a5f-9e30eb536e9c",
   "metadata": {},
   "outputs": [
    {
     "data": {
      "text/plain": [
       "bulk_scan (generic function with 1 method)"
      ]
     },
     "execution_count": 50,
     "metadata": {},
     "output_type": "execute_result"
    }
   ],
   "source": [
    "function bulk_scan(Y::Array{Float64, 2}, G::Array{Float64, 2}, K::Array{Float64, 2}, hsq_list::Array{Float64, 1};\n",
    "                reml::Bool = true)\n",
    "    \n",
    "    (Y0, X0, lambda0) = transform_rotation(Y, G, K);\n",
    "    \n",
    "    maxL = scan_lite_multivar(Y0, X0, hsq_list[1], lambda);\n",
    "    \n",
    "    for hsq in hsq_list[2:end]\n",
    "        \n",
    "        currL = scan_lite_multivar(Y0, X0, hsq, lambda);\n",
    "        maxL = max.(maxL, currL);\n",
    "        \n",
    "    end\n",
    "    \n",
    "    return maxL\n",
    "      \n",
    "end"
   ]
  },
  {
   "cell_type": "code",
   "execution_count": 39,
   "id": "6287549b-9ca0-44ad-8036-80943d0fd7a9",
   "metadata": {},
   "outputs": [],
   "source": [
    "hsq_grids = [0.0, 0.1, 0.2, 0.3, 0.4, 0.5, 0.6, 0.7, 0.8, 0.9, 1.0];"
   ]
  },
  {
   "cell_type": "code",
   "execution_count": null,
   "id": "3efebd72-d3aa-45da-a5da-3b0963c99dee",
   "metadata": {},
   "outputs": [],
   "source": [
    "@time full_results_bulkscan = bulk_scan(pheno, geno, kinship, hsq_grids; reml = true);"
   ]
  },
  {
   "cell_type": "code",
   "execution_count": null,
   "id": "86b5a2bc-20bd-40e7-bc71-924750097ef9",
   "metadata": {},
   "outputs": [],
   "source": []
  },
  {
   "cell_type": "code",
   "execution_count": null,
   "id": "e9d43575-9c3b-4d52-b62c-4524085b50e7",
   "metadata": {},
   "outputs": [],
   "source": []
  },
  {
   "cell_type": "code",
   "execution_count": null,
   "id": "446b257b-d94b-475e-b609-fdec767fd6a4",
   "metadata": {},
   "outputs": [],
   "source": []
  },
  {
   "cell_type": "code",
   "execution_count": null,
   "id": "3f16ce45-665d-4dcb-b1da-93168f9156e3",
   "metadata": {},
   "outputs": [],
   "source": []
  },
  {
   "cell_type": "code",
   "execution_count": null,
   "id": "540f3f8f-d184-43a6-8d76-796d7a54b038",
   "metadata": {},
   "outputs": [],
   "source": []
  },
  {
   "cell_type": "code",
   "execution_count": null,
   "id": "e07bc585-533c-4ecb-9e2e-5e835eae8f9e",
   "metadata": {},
   "outputs": [],
   "source": []
  },
  {
   "cell_type": "code",
   "execution_count": null,
   "id": "97f3cc11-db7f-459b-b299-a5eb228e6ddc",
   "metadata": {},
   "outputs": [],
   "source": []
  },
  {
   "cell_type": "code",
   "execution_count": null,
   "id": "6bb233e3-8361-4e20-96e0-8ce915658c49",
   "metadata": {},
   "outputs": [],
   "source": []
  },
  {
   "cell_type": "code",
   "execution_count": null,
   "id": "471a015b-35a4-4559-be8f-830bfc5e6967",
   "metadata": {},
   "outputs": [],
   "source": []
  },
  {
   "cell_type": "code",
   "execution_count": null,
   "id": "51098149-8f5b-41e8-b20d-257c738bac00",
   "metadata": {},
   "outputs": [],
   "source": []
  },
  {
   "cell_type": "code",
   "execution_count": null,
   "id": "da7a5373-29b5-459f-abd2-2648217aadf6",
   "metadata": {},
   "outputs": [],
   "source": []
  },
  {
   "cell_type": "code",
   "execution_count": null,
   "id": "3bdd8685-3bc1-4901-b076-dc4caf039134",
   "metadata": {},
   "outputs": [],
   "source": []
  },
  {
   "cell_type": "code",
   "execution_count": null,
   "id": "86974356-8fb0-4ae5-a009-3ad2a7495036",
   "metadata": {},
   "outputs": [],
   "source": []
  },
  {
   "cell_type": "code",
   "execution_count": null,
   "id": "9c08c227-eb8e-4224-8b89-403c9285a2ed",
   "metadata": {},
   "outputs": [],
   "source": []
  },
  {
   "cell_type": "code",
   "execution_count": null,
   "id": "6ea43163-64e9-47ea-abdd-d04ceb494b61",
   "metadata": {},
   "outputs": [],
   "source": []
  },
  {
   "cell_type": "code",
   "execution_count": null,
   "id": "b8691539-47ae-48dd-ac4e-513eb5f5ccb4",
   "metadata": {},
   "outputs": [],
   "source": []
  },
  {
   "cell_type": "code",
   "execution_count": null,
   "id": "fa92192d-acaf-4a9e-a240-73221549dbbd",
   "metadata": {},
   "outputs": [],
   "source": []
  },
  {
   "cell_type": "code",
   "execution_count": null,
   "id": "fed2516a-dfb1-40b1-b5a4-816c6ecfe082",
   "metadata": {},
   "outputs": [],
   "source": []
  },
  {
   "cell_type": "code",
   "execution_count": null,
   "id": "8a703860-f764-43d7-82d5-e0660d0daf6c",
   "metadata": {},
   "outputs": [],
   "source": []
  },
  {
   "cell_type": "code",
   "execution_count": null,
   "id": "363523d7-8eb7-498c-9a13-b24b46587270",
   "metadata": {},
   "outputs": [],
   "source": []
  },
  {
   "cell_type": "code",
   "execution_count": null,
   "id": "470320ba-ac96-4097-9f3c-df4a987e06b4",
   "metadata": {},
   "outputs": [],
   "source": []
  },
  {
   "cell_type": "code",
   "execution_count": null,
   "id": "2d81cce1-f1bd-4ea5-b97a-43079803b1a4",
   "metadata": {},
   "outputs": [],
   "source": []
  },
  {
   "cell_type": "code",
   "execution_count": null,
   "id": "b18a0812-4b7d-4147-b77d-d3d91dc4a689",
   "metadata": {},
   "outputs": [],
   "source": []
  },
  {
   "cell_type": "code",
   "execution_count": null,
   "id": "aeea87f6-a3dd-4c17-82b4-229954686803",
   "metadata": {},
   "outputs": [],
   "source": []
  },
  {
   "cell_type": "code",
   "execution_count": null,
   "id": "46982162-fd6f-4da1-93a6-a63a64c97745",
   "metadata": {},
   "outputs": [],
   "source": []
  },
  {
   "cell_type": "code",
   "execution_count": null,
   "id": "92044c0c-8444-4781-b78f-dc1aaaaa5dd8",
   "metadata": {},
   "outputs": [],
   "source": []
  },
  {
   "cell_type": "code",
   "execution_count": null,
   "id": "9516d634-a9a5-49b2-af29-d0f603494490",
   "metadata": {},
   "outputs": [],
   "source": []
  },
  {
   "cell_type": "code",
   "execution_count": null,
   "id": "766b042b-f322-45f7-8ebe-a82443f2213d",
   "metadata": {},
   "outputs": [],
   "source": []
  },
  {
   "cell_type": "markdown",
   "id": "d2fdf574-2cfa-4658-925d-d1bca33a3c8b",
   "metadata": {},
   "source": [
    "## Estimate heritability independently for every trait:"
   ]
  },
  {
   "cell_type": "code",
   "execution_count": null,
   "id": "461b4064-35e6-416c-87d6-43f820fdca56",
   "metadata": {},
   "outputs": [],
   "source": []
  },
  {
   "cell_type": "code",
   "execution_count": null,
   "id": "3ee58886-0e97-4f16-b361-bc7f7ffe4132",
   "metadata": {},
   "outputs": [],
   "source": []
  },
  {
   "cell_type": "code",
   "execution_count": null,
   "id": "727be3e3-88e0-43cd-b2a2-45b0089823af",
   "metadata": {},
   "outputs": [],
   "source": []
  },
  {
   "cell_type": "code",
   "execution_count": null,
   "id": "1f495a1e-7875-46c6-b70b-2341b7d0683d",
   "metadata": {},
   "outputs": [],
   "source": []
  },
  {
   "cell_type": "markdown",
   "id": "c4fbdce6-d134-4d2a-957f-ddb2ed06b8a5",
   "metadata": {},
   "source": [
    "### Iteratively:"
   ]
  },
  {
   "cell_type": "code",
   "execution_count": null,
   "id": "bc7cfa16-e208-488a-9aac-473df9992850",
   "metadata": {},
   "outputs": [],
   "source": [
    "function get_weights_for_timing(y0::Array{Float64, 2}, X0::Array{Float64, 2}, lambda0::Array{Float64, 1};\n",
    "                   reml::Bool = false)\n",
    "    \n",
    "    # fit null lmm\n",
    "    out00 = fitlmm(y0, reshape(X0[:, 1], :, 1), lambda0; reml = reml)\n",
    "    # weights proportional to the variances\n",
    "    sqrtw = sqrt.(makeweights(out00.h2, lambda0));\n",
    "    \n",
    "    return sqrtw\n",
    "    \n",
    "end\n",
    "\n",
    "function get_h2s_for_timing(y0::Array{Float64, 2}, X0::Array{Float64, 2}, lambda0::Array{Float64, 1};\n",
    "                   reml::Bool = false)\n",
    "    \n",
    "    # fit null lmm\n",
    "    out00 = fitlmm(y0, reshape(X0[:, 1], :, 1), lambda0; reml = reml)\n",
    "    # weights proportional to the variances\n",
    "    # sqrtw = sqrt.(makeweights(out00.h2, lambda0));\n",
    "    \n",
    "    # return sqrtw\n",
    "    return out00.h2\n",
    "    \n",
    "end"
   ]
  },
  {
   "cell_type": "code",
   "execution_count": null,
   "id": "15bbe6bd-b607-4d5b-b4f5-d92d106a1334",
   "metadata": {},
   "outputs": [],
   "source": [
    "m"
   ]
  },
  {
   "cell_type": "code",
   "execution_count": null,
   "id": "b0f794f1-6010-46a9-a226-034554126161",
   "metadata": {},
   "outputs": [],
   "source": [
    "nprocs()"
   ]
  },
  {
   "cell_type": "code",
   "execution_count": null,
   "id": "66f86e3d-dfa4-491b-89e4-94adc4f82257",
   "metadata": {},
   "outputs": [],
   "source": [
    "Threads.nthreads()"
   ]
  },
  {
   "cell_type": "code",
   "execution_count": null,
   "id": "974f6086-73b2-4d3f-ac54-8008e23b7599",
   "metadata": {},
   "outputs": [],
   "source": [
    "(Y0, X0, lambda0) = transform_rotation(pheno, geno, kinship); # rotate the entire matrix of all traits"
   ]
  },
  {
   "cell_type": "code",
   "execution_count": null,
   "id": "e8688990-7670-48f1-b1ff-8171f44af9f3",
   "metadata": {},
   "outputs": [],
   "source": [
    "h2s_list = Array{Float64, 1}(undef, m);\n",
    "weights_list = Array{Float64, 2}(undef, n, m);"
   ]
  },
  {
   "cell_type": "code",
   "execution_count": null,
   "id": "ba1a4984-a52e-4b7f-b5b1-567a322f8757",
   "metadata": {},
   "outputs": [],
   "source": [
    "@time begin \n",
    "    (Y0, X0, lambda0) = transform_rotation(pheno, geno, kinship); # rotate the entire matrix of all traits\n",
    "    \n",
    "    for k in 1:m\n",
    "        y0_k = reshape(Y0[:, k], :, 1);\n",
    "        h2s_list[k] = get_h2s_for_timing(y0_k, X0, lambda0; reml = true);\n",
    "    end\n",
    "    \n",
    "end"
   ]
  },
  {
   "cell_type": "code",
   "execution_count": null,
   "id": "00fca007-79bf-4cc3-99dc-094c4cbfe126",
   "metadata": {},
   "outputs": [],
   "source": [
    "@time begin\n",
    "    \n",
    "    (Y0, X0, lambda0) = transform_rotation(pheno, geno, kinship); # rotate the entire matrix of all traits\n",
    "    \n",
    "    for k in 1:m\n",
    "        y0_k = reshape(Y0[:, k], :, 1);\n",
    "        weights_list[:, k] = get_weights_for_timing(y0_k, X0, lambda0; reml = true);\n",
    "    end\n",
    "    \n",
    "end"
   ]
  },
  {
   "cell_type": "code",
   "execution_count": null,
   "id": "be991915-aad1-4305-8891-1c38149df2cb",
   "metadata": {},
   "outputs": [],
   "source": [
    "get_weights_for_timing(reshape(Y0[:, 7919], :, 1), X0, lambda0; reml = true)"
   ]
  },
  {
   "cell_type": "code",
   "execution_count": null,
   "id": "435d2efb-0cc6-4120-b18d-738a1b232f57",
   "metadata": {},
   "outputs": [],
   "source": [
    "histogram(h2s_list, legend = false)"
   ]
  },
  {
   "cell_type": "code",
   "execution_count": null,
   "id": "1eab4423-cf6f-459d-b453-341b849d47cf",
   "metadata": {},
   "outputs": [],
   "source": [
    "p"
   ]
  },
  {
   "cell_type": "code",
   "execution_count": null,
   "id": "ecf7b7ff-2b34-4bf5-83f9-26ecb395d5ba",
   "metadata": {},
   "outputs": [],
   "source": [
    "lod = Array{Float64, 2}(undef, p, m);"
   ]
  },
  {
   "cell_type": "code",
   "execution_count": null,
   "id": "2dc8181e-382c-4716-919d-962b2ef5e263",
   "metadata": {},
   "outputs": [],
   "source": [
    "BLAS.get_num_threads()"
   ]
  },
  {
   "cell_type": "code",
   "execution_count": null,
   "id": "5a343758-bf18-442d-9cd3-b38e47143daf",
   "metadata": {},
   "outputs": [],
   "source": [
    "function threads_by_blocks(r0perm::Array{Float64, 2}, X00::Array{Float64, 2}, nblocks::Int64)\n",
    "    # Does distributed processes of calculations of LOD scores for markers in each block\n",
    "\n",
    "    p = size(X00, 2);\n",
    "\n",
    "    ## (Create blocks...)\n",
    "    \n",
    "    block_size = ceil(Int, p/nblocks);\n",
    "    blocks = createBlocks(p, block_size);\n",
    "\n",
    "    LODs_blocks = tmap(x -> calcLODs_block(r0perm, X00, x), 16, blocks);\n",
    "    results = reduce(hcat, LODs_blocks);\n",
    "\n",
    "    return results\n",
    "\n",
    "end"
   ]
  },
  {
   "cell_type": "code",
   "execution_count": null,
   "id": "8ef774d9-dfb0-4541-b697-11686961fd04",
   "metadata": {},
   "outputs": [],
   "source": [
    "function scan_perms_threadsBlocks(y::Array{Float64,2}, g::Array{Float64,2}, K::Array{Float64,2};\n",
    "                                reml::Bool = false,\n",
    "                                nperms::Int64 = 1024, rndseed::Int64 = 0, original::Bool = true,\n",
    "                                # (options for blocks, nperms distribution methods...)\n",
    "                                option::String = \"by blocks\", nblocks::Int64 = 1, ncopies::Int64 = 1, \n",
    "                                nprocs::Int64 = 0)\n",
    "\n",
    "    (y0, X0, lambda0) = transform_rotation(y, g, K); # rotation of data\n",
    "    (r0, X00) = transform_reweight(y0, X0, lambda0; reml = reml); # reweighting and taking residuals\n",
    "    r0perm = transform_permute(r0; nperms = nperms, rndseed = rndseed, original = original);\n",
    "\n",
    "    if option == \"by blocks\"\n",
    "        results = threads_by_blocks(r0perm, X00, nblocks);\n",
    "    elseif option == \"by nperms\"\n",
    "        results = distribute_by_nperms(r0, X00, nperms, ncopies, original);\n",
    "    else\n",
    "        throw(error(\"Option unsupported.\"))\n",
    "    end\n",
    "\n",
    "    return results\n",
    "\n",
    "end"
   ]
  },
  {
   "cell_type": "code",
   "execution_count": null,
   "id": "33c15d02-3ab0-4a44-a554-90104cda5964",
   "metadata": {},
   "outputs": [],
   "source": [
    "block_bounds = quantile(h2s_list, [0.1, 0.2, 0.3, 0.4, 0.5, 0.6, 0.7, 0.8, 0.9, 1.0])"
   ]
  },
  {
   "cell_type": "code",
   "execution_count": null,
   "id": "eb62fee7-d97d-44ae-8bb6-88016320f099",
   "metadata": {},
   "outputs": [],
   "source": [
    "length(block_bounds)/2"
   ]
  },
  {
   "cell_type": "code",
   "execution_count": null,
   "id": "ac1d5b83-2444-4ac7-bf8a-f5ba54a3d475",
   "metadata": {},
   "outputs": [],
   "source": [
    "sum(map(x -> (x < block_bounds[5] && x > block_bounds[4]), h2s_list))"
   ]
  },
  {
   "cell_type": "markdown",
   "id": "d5cd0a86-1ef5-40d8-8e21-0d65cbc70462",
   "metadata": {},
   "source": [
    "### Parellely:"
   ]
  },
  {
   "cell_type": "markdown",
   "id": "1cbedcbc-5659-426a-837a-6d71aa40933a",
   "metadata": {},
   "source": [
    "#### Distributed-processes"
   ]
  },
  {
   "cell_type": "code",
   "execution_count": null,
   "id": "61ea2bd1-ea84-4903-8908-f35d16e67e76",
   "metadata": {},
   "outputs": [],
   "source": [
    "using Distributed"
   ]
  },
  {
   "cell_type": "code",
   "execution_count": null,
   "id": "e9c46b40-834a-4c89-9125-379729a3474c",
   "metadata": {},
   "outputs": [],
   "source": [
    "@everywhere begin\n",
    "    \n",
    "    include(\"../test/BXDdata_for_test.jl\");\n",
    "    include(\"../src/parallel_helpers.jl\");\n",
    "    \n",
    "    function get_h2s_for_timing(y0::Array{Float64, 2}, X0::Array{Float64, 2}, lambda0::Array{Float64, 1};\n",
    "                   reml::Bool = false)\n",
    "    \n",
    "    # fit null lmm\n",
    "    out00 = fitlmm(y0, reshape(X0[:, 1], :, 1), lambda0; reml = reml)\n",
    "    # weights proportional to the variances\n",
    "    # sqrtw = sqrt.(makeweights(out00.h2, lambda0));\n",
    "    \n",
    "    # return sqrtw\n",
    "    return out00.h2\n",
    "    \n",
    "    end\n",
    "end"
   ]
  },
  {
   "cell_type": "code",
   "execution_count": null,
   "id": "f8909536-69cc-4509-8519-fd8a726d7dd6",
   "metadata": {},
   "outputs": [],
   "source": [
    "@time begin \n",
    "    (Y0, X0, lambda0) = transform_rotation(pheno, geno, kinship); # rotate the entire matrix of all traits\n",
    "    \n",
    "    pmap_h2s = pmap(x -> get_h2s_for_timing(reshape(Y0[:, x], :, 1), X0, lambda0; reml = true), 1:m)\n",
    "end"
   ]
  },
  {
   "cell_type": "code",
   "execution_count": null,
   "id": "3aa97387-0bca-4fef-be64-83dabb95f38a",
   "metadata": {},
   "outputs": [],
   "source": [
    "Threads.nthreads()"
   ]
  },
  {
   "cell_type": "code",
   "execution_count": null,
   "id": "ed2411b5-f98a-453c-b328-e364ec5031c8",
   "metadata": {},
   "outputs": [],
   "source": []
  }
 ],
 "metadata": {
  "kernelspec": {
   "display_name": "Julia 4 Threads 1.8.2",
   "language": "julia",
   "name": "julia-4-threads-1.8"
  },
  "language_info": {
   "file_extension": ".jl",
   "mimetype": "application/julia",
   "name": "julia",
   "version": "1.8.2"
  }
 },
 "nbformat": 4,
 "nbformat_minor": 5
}
