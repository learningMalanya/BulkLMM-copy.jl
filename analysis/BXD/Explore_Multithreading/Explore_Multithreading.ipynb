{
 "cells": [
  {
   "cell_type": "code",
   "execution_count": 1,
   "id": "9ffbb53b-3efa-4f9b-8fb8-224fdf8903c1",
   "metadata": {},
   "outputs": [],
   "source": [
    "using Base.Threads"
   ]
  },
  {
   "cell_type": "code",
   "execution_count": 2,
   "id": "b8bc5fe1-2d20-41c0-a7f4-2f67e9ed15b4",
   "metadata": {},
   "outputs": [
    {
     "data": {
      "text/plain": [
       "16"
      ]
     },
     "execution_count": 2,
     "metadata": {},
     "output_type": "execute_result"
    }
   ],
   "source": [
    "Threads.nthreads()"
   ]
  },
  {
   "cell_type": "code",
   "execution_count": 3,
   "id": "bd9dcf1e-3260-4a02-99e4-98b08c48b8c1",
   "metadata": {},
   "outputs": [
    {
     "data": {
      "text/plain": [
       "\"/home/xyu/github/BulkLMM.jl/analysis/BXD/Explore_Multithreading\""
      ]
     },
     "execution_count": 3,
     "metadata": {},
     "output_type": "execute_result"
    }
   ],
   "source": [
    "pwd()"
   ]
  },
  {
   "cell_type": "code",
   "execution_count": 4,
   "id": "40bdc435-1622-47c4-8098-d3bb729a2fd9",
   "metadata": {},
   "outputs": [],
   "source": [
    "cd(\"../..\")"
   ]
  },
  {
   "cell_type": "code",
   "execution_count": 5,
   "id": "51f2ce44-2f51-4730-ad6b-a0b2e8335edf",
   "metadata": {},
   "outputs": [],
   "source": [
    "include(\"../test/BXDdata_for_test.jl\");"
   ]
  },
  {
   "cell_type": "code",
   "execution_count": 6,
   "id": "207cef13-8e3e-437b-9c59-0da483b3845f",
   "metadata": {},
   "outputs": [],
   "source": [
    "include(\"../src/parallel_helpers.jl\");"
   ]
  },
  {
   "cell_type": "code",
   "execution_count": 7,
   "id": "9a517b04-650c-4f1d-bd4a-e2891e028f14",
   "metadata": {},
   "outputs": [],
   "source": [
    "include(\"../test/testHelper.jl\");"
   ]
  },
  {
   "cell_type": "markdown",
   "id": "7eb7424f-dfcd-4c9f-b5db-3353038ee4a1",
   "metadata": {},
   "source": [
    "## Threaded loop"
   ]
  },
  {
   "cell_type": "code",
   "execution_count": 8,
   "id": "f339bd71-8e1f-4a16-aa9d-92b2637c083b",
   "metadata": {},
   "outputs": [
    {
     "data": {
      "text/plain": [
       "scan_perms_threadsLoops (generic function with 1 method)"
      ]
     },
     "execution_count": 8,
     "metadata": {},
     "output_type": "execute_result"
    }
   ],
   "source": [
    "function scan_perms_threadsLoops(y::Array{Float64,2}, g::Array{Float64,2}, K::Array{Float64,2};\n",
    "              nperms::Int64 = 1024, rndseed::Int64 = 0, \n",
    "              reml::Bool = false, original::Bool = true)\n",
    "\n",
    "    # check the number of traits as this function only works for permutation testing of univariate trait\n",
    "    if(size(y, 2) != 1)\n",
    "        error(\"Can only handle one trait.\")\n",
    "    end\n",
    "\n",
    "    # n - the sample size\n",
    "    # p - the number of markers\n",
    "    (n, p) = size(g)\n",
    "\n",
    "    # make intercept\n",
    "    intercept = ones(n, 1)\n",
    "\n",
    "    # rotate data so errors are uncorrelated\n",
    "    (y0, X0, lambda0) = rotateData(y, [intercept g], K)\n",
    "\n",
    "\n",
    "    ## Note: estimate once the variance components from the null model and use for all marker scans\n",
    "    # fit lmm\n",
    "\n",
    "    # X0_intercept = @view X0[:, 1] # to compare\n",
    "    vc = fitlmm(y0, reshape(X0[:, 1], :, 1), lambda0; reml = reml) # vc.b is estimated through weighted least square\n",
    "    r0 = y0 - X0[:, 1]*vc.b\n",
    "\n",
    "    # weights proportional to the variances\n",
    "    sqrtw = sqrt.(makeweights(vc.h2, lambda0))\n",
    "\n",
    "    # compared runtime of the following with \"wls(X0[:, 2:end], X0[:, 1], wts)\" ?\n",
    "    # rescale by weights; now these have the same mean/variance and are independent\n",
    "    rowMultiply!(r0, sqrtw);\n",
    "    rowMultiply!(X0, sqrtw);\n",
    "\n",
    "    \n",
    "    # after re-weighting X, calling resid on re-weighted X is the same as doing wls on the X after rotation.\n",
    "    X00 = resid(X0[:, 2:end], reshape(X0[:, 1], :, 1)) # consider not using sub-array, consider @view; in-place changes\n",
    "\n",
    "    ## random permutations; the first column is the original trait (after transformation)\n",
    "    rng = MersenneTwister(rndseed);\n",
    "    ## permute r0 (which is an iid, standard normal distributed N-vector under the null)\n",
    "    r0perm = shuffleVector(rng, r0[:, 1], nperms; original = original)\n",
    "\n",
    "    ## Null RSS:\n",
    "    # By null hypothesis, mean is 0. RSS just becomes the sum of squares of the residuals (r0perm's)\n",
    "    # (For theoretical derivation of the results, see notebook)\n",
    "    rss0 = sum(r0perm[:, 1].^2) # a scalar; bc rss0 for every permuted trait is the same under the null (zero mean);\n",
    "    \n",
    "    ## make array to hold Alternative RSS's for each permutated trait\n",
    "    if original\n",
    "        rss1 = Array{Float64, 2}(undef, nperms+1, p)\n",
    "    else\n",
    "        rss1 = Array{Float64, 2}(undef, nperms, p)\n",
    "    end\n",
    "    \n",
    "    ## loop over markers\n",
    "    Threads.@threads for i = 1:p\n",
    "\n",
    "        ## alternative rss\n",
    "        @inbounds rss1[:, i] = rss(r0perm, @view X00[:, i]);\n",
    "        \n",
    "    end\n",
    "\n",
    "    lod = (-n/2)*(log10.(rss1) .- log10(rss0))\n",
    "\n",
    "    return lod\n",
    "\n",
    "end"
   ]
  },
  {
   "cell_type": "code",
   "execution_count": 9,
   "id": "6a65e343-abbe-4bc8-8405-0b36ecc6cf11",
   "metadata": {},
   "outputs": [
    {
     "data": {
      "text/plain": [
       "16"
      ]
     },
     "execution_count": 9,
     "metadata": {},
     "output_type": "execute_result"
    }
   ],
   "source": [
    "BLAS.get_num_threads()"
   ]
  },
  {
   "cell_type": "code",
   "execution_count": 10,
   "id": "9656608b-d744-4054-8a92-ddb66d33693c",
   "metadata": {},
   "outputs": [],
   "source": [
    "BLAS.set_num_threads(2)"
   ]
  },
  {
   "cell_type": "code",
   "execution_count": 11,
   "id": "dbdfd694-ea15-4f14-91f1-1f683994ded8",
   "metadata": {},
   "outputs": [
    {
     "data": {
      "text/plain": [
       "2"
      ]
     },
     "execution_count": 11,
     "metadata": {},
     "output_type": "execute_result"
    }
   ],
   "source": [
    "BLAS.get_num_threads()"
   ]
  },
  {
   "cell_type": "code",
   "execution_count": 12,
   "id": "493f3f91-16a2-43e1-b056-6c81e8c3baf4",
   "metadata": {},
   "outputs": [
    {
     "data": {
      "text/plain": [
       "16"
      ]
     },
     "execution_count": 12,
     "metadata": {},
     "output_type": "execute_result"
    }
   ],
   "source": [
    "Threads.nthreads()"
   ]
  },
  {
   "cell_type": "code",
   "execution_count": 13,
   "id": "3ed544ca-6cfe-4686-8c06-8774076d9d3f",
   "metadata": {},
   "outputs": [
    {
     "data": {
      "text/plain": [
       "BenchmarkTools.Trial: 5 samples with 1 evaluation.\n",
       " Range \u001b[90m(\u001b[39m\u001b[36m\u001b[1mmin\u001b[22m\u001b[39m … \u001b[35mmax\u001b[39m\u001b[90m):  \u001b[39m\u001b[36m\u001b[1m964.955 ms\u001b[22m\u001b[39m … \u001b[35m   1.259 s\u001b[39m  \u001b[90m┊\u001b[39m GC \u001b[90m(\u001b[39mmin … max\u001b[90m): \u001b[39m 8.02% … 29.97%\n",
       " Time  \u001b[90m(\u001b[39m\u001b[34m\u001b[1mmedian\u001b[22m\u001b[39m\u001b[90m):     \u001b[39m\u001b[34m\u001b[1m   1.046 s               \u001b[22m\u001b[39m\u001b[90m┊\u001b[39m GC \u001b[90m(\u001b[39mmedian\u001b[90m):    \u001b[39m 8.19%\n",
       " Time  \u001b[90m(\u001b[39m\u001b[32m\u001b[1mmean\u001b[22m\u001b[39m ± \u001b[32mσ\u001b[39m\u001b[90m):   \u001b[39m\u001b[32m\u001b[1m   1.087 s\u001b[22m\u001b[39m ± \u001b[32m118.894 ms\u001b[39m  \u001b[90m┊\u001b[39m GC \u001b[90m(\u001b[39mmean ± σ\u001b[90m):  \u001b[39m16.05% ± 10.14%\n",
       "\n",
       "  \u001b[39m█\u001b[39m \u001b[39m \u001b[39m \u001b[39m \u001b[39m \u001b[39m \u001b[39m \u001b[39m \u001b[34m█\u001b[39m\u001b[39m \u001b[39m \u001b[39m \u001b[39m \u001b[39m \u001b[39m \u001b[39m█\u001b[39m \u001b[39m \u001b[39m \u001b[39m \u001b[39m \u001b[39m \u001b[39m \u001b[39m \u001b[32m \u001b[39m\u001b[39m \u001b[39m \u001b[39m \u001b[39m \u001b[39m \u001b[39m \u001b[39m \u001b[39m \u001b[39m \u001b[39m \u001b[39m \u001b[39m \u001b[39m \u001b[39m█\u001b[39m \u001b[39m \u001b[39m \u001b[39m \u001b[39m \u001b[39m \u001b[39m \u001b[39m \u001b[39m \u001b[39m \u001b[39m \u001b[39m \u001b[39m \u001b[39m \u001b[39m \u001b[39m \u001b[39m \u001b[39m \u001b[39m \u001b[39m \u001b[39m█\u001b[39m \u001b[39m \n",
       "  \u001b[39m█\u001b[39m▁\u001b[39m▁\u001b[39m▁\u001b[39m▁\u001b[39m▁\u001b[39m▁\u001b[39m▁\u001b[39m▁\u001b[34m█\u001b[39m\u001b[39m▁\u001b[39m▁\u001b[39m▁\u001b[39m▁\u001b[39m▁\u001b[39m▁\u001b[39m█\u001b[39m▁\u001b[39m▁\u001b[39m▁\u001b[39m▁\u001b[39m▁\u001b[39m▁\u001b[39m▁\u001b[39m▁\u001b[32m▁\u001b[39m\u001b[39m▁\u001b[39m▁\u001b[39m▁\u001b[39m▁\u001b[39m▁\u001b[39m▁\u001b[39m▁\u001b[39m▁\u001b[39m▁\u001b[39m▁\u001b[39m▁\u001b[39m▁\u001b[39m▁\u001b[39m█\u001b[39m▁\u001b[39m▁\u001b[39m▁\u001b[39m▁\u001b[39m▁\u001b[39m▁\u001b[39m▁\u001b[39m▁\u001b[39m▁\u001b[39m▁\u001b[39m▁\u001b[39m▁\u001b[39m▁\u001b[39m▁\u001b[39m▁\u001b[39m▁\u001b[39m▁\u001b[39m▁\u001b[39m▁\u001b[39m▁\u001b[39m█\u001b[39m \u001b[39m▁\n",
       "  965 ms\u001b[90m           Histogram: frequency by time\u001b[39m          1.26 s \u001b[0m\u001b[1m<\u001b[22m\n",
       "\n",
       " Memory estimate\u001b[90m: \u001b[39m\u001b[33m13.61 GiB\u001b[39m, allocs estimate\u001b[90m: \u001b[39m\u001b[33m95717\u001b[39m."
      ]
     },
     "execution_count": 13,
     "metadata": {},
     "output_type": "execute_result"
    }
   ],
   "source": [
    "@benchmark scan_perms_threadsLoops(pheno_y, geno, kinship; nperms = 1024, rndseed = 0, reml = false, original = true)"
   ]
  },
  {
   "cell_type": "code",
   "execution_count": 14,
   "id": "9c0a6042-15a6-440e-8d5b-6d28647f9952",
   "metadata": {},
   "outputs": [
    {
     "data": {
      "text/plain": [
       "BenchmarkTools.Trial: 2 samples with 1 evaluation.\n",
       " Range \u001b[90m(\u001b[39m\u001b[36m\u001b[1mmin\u001b[22m\u001b[39m … \u001b[35mmax\u001b[39m\u001b[90m):  \u001b[39m\u001b[36m\u001b[1m2.627 s\u001b[22m\u001b[39m … \u001b[35m  2.693 s\u001b[39m  \u001b[90m┊\u001b[39m GC \u001b[90m(\u001b[39mmin … max\u001b[90m): \u001b[39m6.49% … 9.07%\n",
       " Time  \u001b[90m(\u001b[39m\u001b[34m\u001b[1mmedian\u001b[22m\u001b[39m\u001b[90m):     \u001b[39m\u001b[34m\u001b[1m2.660 s              \u001b[22m\u001b[39m\u001b[90m┊\u001b[39m GC \u001b[90m(\u001b[39mmedian\u001b[90m):    \u001b[39m7.80%\n",
       " Time  \u001b[90m(\u001b[39m\u001b[32m\u001b[1mmean\u001b[22m\u001b[39m ± \u001b[32mσ\u001b[39m\u001b[90m):   \u001b[39m\u001b[32m\u001b[1m2.660 s\u001b[22m\u001b[39m ± \u001b[32m46.250 ms\u001b[39m  \u001b[90m┊\u001b[39m GC \u001b[90m(\u001b[39mmean ± σ\u001b[90m):  \u001b[39m7.80% ± 1.83%\n",
       "\n",
       "  \u001b[34m█\u001b[39m\u001b[39m \u001b[39m \u001b[39m \u001b[39m \u001b[39m \u001b[39m \u001b[39m \u001b[39m \u001b[39m \u001b[39m \u001b[39m \u001b[39m \u001b[39m \u001b[39m \u001b[39m \u001b[39m \u001b[39m \u001b[39m \u001b[39m \u001b[39m \u001b[39m \u001b[39m \u001b[39m \u001b[39m \u001b[39m \u001b[39m \u001b[39m \u001b[32m \u001b[39m\u001b[39m \u001b[39m \u001b[39m \u001b[39m \u001b[39m \u001b[39m \u001b[39m \u001b[39m \u001b[39m \u001b[39m \u001b[39m \u001b[39m \u001b[39m \u001b[39m \u001b[39m \u001b[39m \u001b[39m \u001b[39m \u001b[39m \u001b[39m \u001b[39m \u001b[39m \u001b[39m \u001b[39m \u001b[39m \u001b[39m \u001b[39m \u001b[39m█\u001b[39m \u001b[39m \n",
       "  \u001b[34m█\u001b[39m\u001b[39m▁\u001b[39m▁\u001b[39m▁\u001b[39m▁\u001b[39m▁\u001b[39m▁\u001b[39m▁\u001b[39m▁\u001b[39m▁\u001b[39m▁\u001b[39m▁\u001b[39m▁\u001b[39m▁\u001b[39m▁\u001b[39m▁\u001b[39m▁\u001b[39m▁\u001b[39m▁\u001b[39m▁\u001b[39m▁\u001b[39m▁\u001b[39m▁\u001b[39m▁\u001b[39m▁\u001b[39m▁\u001b[39m▁\u001b[39m▁\u001b[32m▁\u001b[39m\u001b[39m▁\u001b[39m▁\u001b[39m▁\u001b[39m▁\u001b[39m▁\u001b[39m▁\u001b[39m▁\u001b[39m▁\u001b[39m▁\u001b[39m▁\u001b[39m▁\u001b[39m▁\u001b[39m▁\u001b[39m▁\u001b[39m▁\u001b[39m▁\u001b[39m▁\u001b[39m▁\u001b[39m▁\u001b[39m▁\u001b[39m▁\u001b[39m▁\u001b[39m▁\u001b[39m▁\u001b[39m▁\u001b[39m▁\u001b[39m▁\u001b[39m█\u001b[39m \u001b[39m▁\n",
       "  2.63 s\u001b[90m         Histogram: frequency by time\u001b[39m        2.69 s \u001b[0m\u001b[1m<\u001b[22m\n",
       "\n",
       " Memory estimate\u001b[90m: \u001b[39m\u001b[33m13.61 GiB\u001b[39m, allocs estimate\u001b[90m: \u001b[39m\u001b[33m74659\u001b[39m."
      ]
     },
     "execution_count": 14,
     "metadata": {},
     "output_type": "execute_result"
    }
   ],
   "source": [
    "@benchmark scan_perms(pheno_y, geno, kinship; nperms = 1024, rndseed = 0, reml = false, original = true)"
   ]
  },
  {
   "cell_type": "code",
   "execution_count": 15,
   "id": "14557871-69a1-4414-b0dd-f09be9809937",
   "metadata": {},
   "outputs": [
    {
     "data": {
      "text/plain": [
       "threads_by_blocks (generic function with 1 method)"
      ]
     },
     "execution_count": 15,
     "metadata": {},
     "output_type": "execute_result"
    }
   ],
   "source": [
    "function threads_by_blocks(r0perm::Array{Float64, 2}, X00::Array{Float64, 2}, nblocks::Int64)\n",
    "    # Does distributed processes of calculations of LOD scores for markers in each block\n",
    "\n",
    "    p = size(X00, 2);\n",
    "\n",
    "    ## (Create blocks...)\n",
    "    \n",
    "    block_size = ceil(Int, p/nblocks);\n",
    "    blocks = createBlocks(p, block_size);\n",
    "\n",
    "    LODs_blocks = tmap(x -> calcLODs_block(r0perm, X00, x), 16, blocks);\n",
    "    results = reduce(hcat, LODs_blocks);\n",
    "\n",
    "    return results\n",
    "\n",
    "end"
   ]
  },
  {
   "cell_type": "code",
   "execution_count": 16,
   "id": "6d27d669-e567-428e-803a-b026e235eed2",
   "metadata": {},
   "outputs": [
    {
     "data": {
      "text/plain": [
       "scan_perms_threadsBlocks (generic function with 1 method)"
      ]
     },
     "execution_count": 16,
     "metadata": {},
     "output_type": "execute_result"
    }
   ],
   "source": [
    "function scan_perms_threadsBlocks(y::Array{Float64,2}, g::Array{Float64,2}, K::Array{Float64,2};\n",
    "                                reml::Bool = false,\n",
    "                                nperms::Int64 = 1024, rndseed::Int64 = 0, original::Bool = true,\n",
    "                                # (options for blocks, nperms distribution methods...)\n",
    "                                option::String = \"by blocks\", nblocks::Int64 = 1, ncopies::Int64 = 1, \n",
    "                                nprocs::Int64 = 0)\n",
    "\n",
    "    (y0, X0, lambda0) = transform_rotation(y, g, K); # rotation of data\n",
    "    (r0, X00) = transform_reweight(y0, X0, lambda0; reml = reml); # reweighting and taking residuals\n",
    "    r0perm = transform_permute(r0; nperms = nperms, rndseed = rndseed, original = original);\n",
    "\n",
    "    if option == \"by blocks\"\n",
    "        results = threads_by_blocks(r0perm, X00, nblocks);\n",
    "    elseif option == \"by nperms\"\n",
    "        results = distribute_by_nperms(r0, X00, nperms, ncopies, original);\n",
    "    else\n",
    "        throw(error(\"Option unsupported.\"))\n",
    "    end\n",
    "\n",
    "    return results\n",
    "\n",
    "end"
   ]
  },
  {
   "cell_type": "code",
   "execution_count": 17,
   "id": "4b823e6a-c1db-41c5-8020-bae8222fc8ff",
   "metadata": {},
   "outputs": [],
   "source": [
    "using ThreadTools"
   ]
  },
  {
   "cell_type": "code",
   "execution_count": 18,
   "id": "28e05a4e-75b6-4876-8131-1f25479eb518",
   "metadata": {},
   "outputs": [
    {
     "name": "stdout",
     "output_type": "stream",
     "text": [
      "  1.645631 seconds (515.11 k allocations: 13.697 GiB, 37.80% gc time, 21.51% compilation time)\n"
     ]
    },
    {
     "data": {
      "text/plain": [
       "1025×7321 Matrix{Float64}:\n",
       " 0.00819636  0.00819636  0.00819636  0.00819636  …  0.0128283    0.0128283\n",
       " 1.96594     1.96594     1.96594     1.96594        0.425106     0.425106\n",
       " 0.261796    0.261796    0.261796    0.261796       0.0169187    0.0169187\n",
       " 0.00246689  0.00246689  0.00246689  0.00246689     0.109368     0.109368\n",
       " 0.742619    0.742619    0.742619    0.742619       0.00209752   0.00209752\n",
       " 0.182933    0.182933    0.182933    0.182933    …  0.521991     0.521991\n",
       " 0.376814    0.376814    0.376814    0.376814       0.240474     0.240474\n",
       " 0.2393      0.2393      0.2393      0.2393         0.65133      0.65133\n",
       " 0.1775      0.1775      0.1775      0.1775         0.60261      0.60261\n",
       " 0.838544    0.838544    0.838544    0.838544       0.0155658    0.0155658\n",
       " 0.217517    0.217517    0.217517    0.217517    …  0.070747     0.070747\n",
       " 0.090706    0.090706    0.090706    0.090706       2.51674e-5   2.51674e-5\n",
       " 0.0378054   0.0378054   0.0378054   0.0378054      0.0727514    0.0727514\n",
       " ⋮                                               ⋱               ⋮\n",
       " 0.00441827  0.00441827  0.00441827  0.00441827     0.549681     0.549681\n",
       " 0.700859    0.700859    0.700859    0.700859       0.181738     0.181738\n",
       " 0.00967522  0.00967522  0.00967522  0.00967522  …  0.204193     0.204193\n",
       " 0.193008    0.193008    0.193008    0.193008       0.125952     0.125952\n",
       " 0.4449      0.4449      0.4449      0.4449         0.117797     0.117797\n",
       " 0.0307688   0.0307688   0.0307688   0.0307688      0.177064     0.177064\n",
       " 0.0909888   0.0909888   0.0909888   0.0909888      0.0878327    0.0878327\n",
       " 0.00904853  0.00904853  0.00904853  0.00904853  …  0.0319089    0.0319089\n",
       " 0.00964836  0.00964836  0.00964836  0.00964836     0.314175     0.314175\n",
       " 0.121886    0.121886    0.121886    0.121886       0.13205      0.13205\n",
       " 0.0563375   0.0563375   0.0563375   0.0563375      0.000393102  0.000393102\n",
       " 0.132028    0.132028    0.132028    0.132028       0.188476     0.188476"
      ]
     },
     "execution_count": 18,
     "metadata": {},
     "output_type": "execute_result"
    }
   ],
   "source": [
    "@time scan_perms_threadsBlocks(pheno_y, geno, kinship; \n",
    "    reml = false, nperms = 1024, rndseed = 0, original = true, option = \"by blocks\", nblocks = 120)"
   ]
  },
  {
   "cell_type": "code",
   "execution_count": 24,
   "id": "79f59d36-2668-494a-8605-a400340ce70b",
   "metadata": {},
   "outputs": [
    {
     "data": {
      "text/plain": [
       "BenchmarkTools.Trial: 6 samples with 1 evaluation.\n",
       " Range \u001b[90m(\u001b[39m\u001b[36m\u001b[1mmin\u001b[22m\u001b[39m … \u001b[35mmax\u001b[39m\u001b[90m):  \u001b[39m\u001b[36m\u001b[1m753.440 ms\u001b[22m\u001b[39m … \u001b[35m   1.230 s\u001b[39m  \u001b[90m┊\u001b[39m GC \u001b[90m(\u001b[39mmin … max\u001b[90m): \u001b[39m 4.66% … 40.82%\n",
       " Time  \u001b[90m(\u001b[39m\u001b[34m\u001b[1mmedian\u001b[22m\u001b[39m\u001b[90m):     \u001b[39m\u001b[34m\u001b[1m773.295 ms               \u001b[22m\u001b[39m\u001b[90m┊\u001b[39m GC \u001b[90m(\u001b[39mmedian\u001b[90m):    \u001b[39m 5.24%\n",
       " Time  \u001b[90m(\u001b[39m\u001b[32m\u001b[1mmean\u001b[22m\u001b[39m ± \u001b[32mσ\u001b[39m\u001b[90m):   \u001b[39m\u001b[32m\u001b[1m847.689 ms\u001b[22m\u001b[39m ± \u001b[32m187.523 ms\u001b[39m  \u001b[90m┊\u001b[39m GC \u001b[90m(\u001b[39mmean ± σ\u001b[90m):  \u001b[39m13.98% ± 14.54%\n",
       "\n",
       "  \u001b[39m▁\u001b[39m█\u001b[34m \u001b[39m\u001b[39m▁\u001b[39m▁\u001b[39m \u001b[39m \u001b[39m \u001b[39m \u001b[39m \u001b[39m \u001b[39m \u001b[32m \u001b[39m\u001b[39m \u001b[39m \u001b[39m \u001b[39m \u001b[39m \u001b[39m \u001b[39m \u001b[39m \u001b[39m \u001b[39m \u001b[39m \u001b[39m \u001b[39m \u001b[39m \u001b[39m \u001b[39m \u001b[39m \u001b[39m \u001b[39m \u001b[39m \u001b[39m \u001b[39m \u001b[39m \u001b[39m \u001b[39m \u001b[39m \u001b[39m \u001b[39m \u001b[39m \u001b[39m \u001b[39m \u001b[39m \u001b[39m \u001b[39m \u001b[39m \u001b[39m \u001b[39m \u001b[39m \u001b[39m \u001b[39m \u001b[39m \u001b[39m \u001b[39m \u001b[39m \u001b[39m \u001b[39m \u001b[39m \u001b[39m▁\u001b[39m \u001b[39m \n",
       "  \u001b[39m█\u001b[39m█\u001b[34m▁\u001b[39m\u001b[39m█\u001b[39m█\u001b[39m▁\u001b[39m▁\u001b[39m▁\u001b[39m▁\u001b[39m▁\u001b[39m▁\u001b[39m▁\u001b[32m▁\u001b[39m\u001b[39m▁\u001b[39m▁\u001b[39m▁\u001b[39m▁\u001b[39m▁\u001b[39m▁\u001b[39m▁\u001b[39m▁\u001b[39m▁\u001b[39m▁\u001b[39m▁\u001b[39m▁\u001b[39m▁\u001b[39m▁\u001b[39m▁\u001b[39m▁\u001b[39m▁\u001b[39m▁\u001b[39m▁\u001b[39m▁\u001b[39m▁\u001b[39m▁\u001b[39m▁\u001b[39m▁\u001b[39m▁\u001b[39m▁\u001b[39m▁\u001b[39m▁\u001b[39m▁\u001b[39m▁\u001b[39m▁\u001b[39m▁\u001b[39m▁\u001b[39m▁\u001b[39m▁\u001b[39m▁\u001b[39m▁\u001b[39m▁\u001b[39m▁\u001b[39m▁\u001b[39m▁\u001b[39m▁\u001b[39m▁\u001b[39m▁\u001b[39m▁\u001b[39m▁\u001b[39m▁\u001b[39m█\u001b[39m \u001b[39m▁\n",
       "  753 ms\u001b[90m           Histogram: frequency by time\u001b[39m          1.23 s \u001b[0m\u001b[1m<\u001b[22m\n",
       "\n",
       " Memory estimate\u001b[90m: \u001b[39m\u001b[33m13.67 GiB\u001b[39m, allocs estimate\u001b[90m: \u001b[39m\u001b[33m77902\u001b[39m."
      ]
     },
     "execution_count": 24,
     "metadata": {},
     "output_type": "execute_result"
    }
   ],
   "source": [
    "b = @benchmark scan_perms_threadsBlocks(pheno_y, geno, kinship; reml = false, nperms = 1024, rndseed = 0, original = true, option = \"by blocks\", nblocks = 160)"
   ]
  },
  {
   "cell_type": "code",
   "execution_count": 25,
   "id": "b302e0ab-3a90-447b-b4a3-752f918ec0f5",
   "metadata": {},
   "outputs": [
    {
     "data": {
      "text/plain": [
       "6-element Vector{Float64}:\n",
       " 7.77600316e8\n",
       " 7.87980582e8\n",
       " 1.229760826e9\n",
       " 7.68364947e8\n",
       " 7.53440187e8\n",
       " 7.68989778e8"
      ]
     },
     "execution_count": 25,
     "metadata": {},
     "output_type": "execute_result"
    }
   ],
   "source": [
    "b.times"
   ]
  },
  {
   "cell_type": "code",
   "execution_count": 26,
   "id": "1dbe3f05-b084-4d15-82e2-81294a4a92b5",
   "metadata": {},
   "outputs": [
    {
     "data": {
      "text/plain": [
       "7.73295047e8"
      ]
     },
     "execution_count": 26,
     "metadata": {},
     "output_type": "execute_result"
    }
   ],
   "source": [
    "median(b.times)"
   ]
  },
  {
   "cell_type": "code",
   "execution_count": 22,
   "id": "07b83458-47ed-4506-b537-f45766fa001f",
   "metadata": {},
   "outputs": [],
   "source": [
    "runtimes_tmap = Array{Float64, 1}(undef, 10);"
   ]
  },
  {
   "cell_type": "code",
   "execution_count": 46,
   "id": "6ae208d0-7e5d-4ed6-b057-fa4fdb359126",
   "metadata": {},
   "outputs": [],
   "source": [
    "for t in 1:10\n",
    "    \n",
    "    b = @benchmark scan_perms_threadsBlocks(pheno_y, geno, kinship; reml = false, nperms = 1024, rndseed = 0, original = true, option = \"by blocks\", nblocks = 120)\n",
    "    runtimes_tmap[t] = mean(b.times)\n",
    "    \n",
    "end"
   ]
  },
  {
   "cell_type": "code",
   "execution_count": 47,
   "id": "148e7414-6f06-4d9e-bab1-45cacd2f4eb9",
   "metadata": {},
   "outputs": [
    {
     "data": {
      "text/plain": [
       "10-element Vector{Float64}:\n",
       " 7.985361718571428e8\n",
       " 8.545767453333334e8\n",
       " 7.83490551e8\n",
       " 7.860170172857143e8\n",
       " 7.796807564285715e8\n",
       " 8.069048968571428e8\n",
       " 8.10312887e8\n",
       " 1.0367473178333334e9\n",
       " 8.598473711666666e8\n",
       " 8.534531333333334e8"
      ]
     },
     "execution_count": 47,
     "metadata": {},
     "output_type": "execute_result"
    }
   ],
   "source": [
    "runtimes_tmap"
   ]
  },
  {
   "cell_type": "code",
   "execution_count": 48,
   "id": "0b3219f7-cfc6-46ff-9729-bb2fda7824e7",
   "metadata": {},
   "outputs": [
    {
     "data": {
      "text/plain": [
       "0.8369566848095238"
      ]
     },
     "execution_count": 48,
     "metadata": {},
     "output_type": "execute_result"
    }
   ],
   "source": [
    "mean(runtimes_tmap)/1e9"
   ]
  },
  {
   "cell_type": "code",
   "execution_count": 49,
   "id": "2303cc4e-2e1c-4aca-a6f8-170a70c83650",
   "metadata": {},
   "outputs": [],
   "source": [
    "runtimes_tloops = Array{Float64, 1}(undef, 10);"
   ]
  },
  {
   "cell_type": "code",
   "execution_count": null,
   "id": "f8756511-42ad-4ee7-9b97-740133c712f5",
   "metadata": {},
   "outputs": [],
   "source": [
    "for t in 1:10\n",
    "    \n",
    "    b_tloops = @benchmark scan_perms_threadsLoops(pheno_y, geno, kinship; reml = false, nperms = 1024, rndseed = 0, original = true)\n",
    "    runtimes_tloops[t] = median(b_tloops.times)\n",
    "    \n",
    "end"
   ]
  },
  {
   "cell_type": "code",
   "execution_count": 37,
   "id": "5b8cd49d-a174-4ba3-a442-c716adff0218",
   "metadata": {},
   "outputs": [
    {
     "data": {
      "text/plain": [
       "1.33769649255"
      ]
     },
     "execution_count": 37,
     "metadata": {},
     "output_type": "execute_result"
    }
   ],
   "source": [
    "mean(runtimes_tloops)/1e9"
   ]
  },
  {
   "cell_type": "code",
   "execution_count": 38,
   "id": "e556c158-6797-4f87-89fb-e74608a71c3c",
   "metadata": {},
   "outputs": [
    {
     "data": {
      "text/plain": [
       "16"
      ]
     },
     "execution_count": 38,
     "metadata": {},
     "output_type": "execute_result"
    }
   ],
   "source": [
    "nthreads()"
   ]
  },
  {
   "cell_type": "code",
   "execution_count": 39,
   "id": "2c328e4e-f016-4842-ac81-f62ffc54f49a",
   "metadata": {},
   "outputs": [
    {
     "data": {
      "text/plain": [
       "2"
      ]
     },
     "execution_count": 39,
     "metadata": {},
     "output_type": "execute_result"
    }
   ],
   "source": [
    "BLAS.get_num_threads()"
   ]
  },
  {
   "cell_type": "code",
   "execution_count": 40,
   "id": "3ba191de-b76b-4e8c-819a-7cd8df7fcb45",
   "metadata": {},
   "outputs": [
    {
     "name": "stdout",
     "output_type": "stream",
     "text": [
      "  0.794476 seconds (77.71 k allocations: 13.675 GiB, 6.33% gc time)\n"
     ]
    }
   ],
   "source": [
    "@time tmap_LODs = scan_perms_threadsBlocks(pheno_y, geno, kinship; reml = false, nperms = 1024, rndseed = 0, original = true, option = \"by blocks\", nblocks = 150);"
   ]
  },
  {
   "cell_type": "code",
   "execution_count": 41,
   "id": "f9268584-ef34-460f-86c4-430a301db1f2",
   "metadata": {},
   "outputs": [],
   "source": [
    "BLAS.set_num_threads(4)"
   ]
  },
  {
   "cell_type": "code",
   "execution_count": 42,
   "id": "f6018135-ba8a-4656-b1e6-e8e46f611216",
   "metadata": {},
   "outputs": [
    {
     "ename": "LoadError",
     "evalue": "UndefVarError: scan_perms_threads not defined",
     "output_type": "error",
     "traceback": [
      "UndefVarError: scan_perms_threads not defined",
      "",
      "Stacktrace:",
      " [1] top-level scope",
      "   @ ./timing.jl:262 [inlined]",
      " [2] top-level scope",
      "   @ ./In[42]:0",
      " [3] eval",
      "   @ ./boot.jl:368 [inlined]",
      " [4] include_string(mapexpr::typeof(REPL.softscope), mod::Module, code::String, filename::String)",
      "   @ Base ./loading.jl:1428"
     ]
    }
   ],
   "source": [
    "@time tloops_LODs = scan_perms_threads(pheno_y, geno, kinship; nperms = 0, rndseed = 0, reml = false, original = true);"
   ]
  },
  {
   "cell_type": "code",
   "execution_count": 43,
   "id": "552bba55-1580-4205-889c-74b84c8ec934",
   "metadata": {},
   "outputs": [
    {
     "ename": "LoadError",
     "evalue": "UndefVarError: tloops_LODs not defined",
     "output_type": "error",
     "traceback": [
      "UndefVarError: tloops_LODs not defined",
      "",
      "Stacktrace:",
      " [1] top-level scope",
      "   @ In[43]:1",
      " [2] eval",
      "   @ ./boot.jl:368 [inlined]",
      " [3] include_string(mapexpr::typeof(REPL.softscope), mod::Module, code::String, filename::String)",
      "   @ Base ./loading.jl:1428"
     ]
    }
   ],
   "source": [
    "sumSqDiff(tmap_LODs, tloops_LODs)"
   ]
  },
  {
   "cell_type": "code",
   "execution_count": 34,
   "id": "430a2a68-ecc2-4cd6-8504-97f22e91e23d",
   "metadata": {},
   "outputs": [
    {
     "data": {
      "text/plain": [
       "2"
      ]
     },
     "execution_count": 34,
     "metadata": {},
     "output_type": "execute_result"
    }
   ],
   "source": [
    "BLAS.get_num_threads()"
   ]
  },
  {
   "cell_type": "code",
   "execution_count": 57,
   "id": "af5c740a-e118-4d07-9e2b-ea481ba896b7",
   "metadata": {},
   "outputs": [],
   "source": [
    "BLAS.set_num_threads(4)"
   ]
  },
  {
   "cell_type": "code",
   "execution_count": 58,
   "id": "c38131ec-187f-4339-9632-b6d3d23017b0",
   "metadata": {},
   "outputs": [
    {
     "data": {
      "text/plain": [
       "BenchmarkTools.Trial: 202 samples with 1 evaluation.\n",
       " Range \u001b[90m(\u001b[39m\u001b[36m\u001b[1mmin\u001b[22m\u001b[39m … \u001b[35mmax\u001b[39m\u001b[90m):  \u001b[39m\u001b[36m\u001b[1m10.123 ms\u001b[22m\u001b[39m … \u001b[35m82.389 ms\u001b[39m  \u001b[90m┊\u001b[39m GC \u001b[90m(\u001b[39mmin … max\u001b[90m): \u001b[39m 0.00% … 0.00%\n",
       " Time  \u001b[90m(\u001b[39m\u001b[34m\u001b[1mmedian\u001b[22m\u001b[39m\u001b[90m):     \u001b[39m\u001b[34m\u001b[1m13.572 ms              \u001b[22m\u001b[39m\u001b[90m┊\u001b[39m GC \u001b[90m(\u001b[39mmedian\u001b[90m):    \u001b[39m 0.00%\n",
       " Time  \u001b[90m(\u001b[39m\u001b[32m\u001b[1mmean\u001b[22m\u001b[39m ± \u001b[32mσ\u001b[39m\u001b[90m):   \u001b[39m\u001b[32m\u001b[1m24.771 ms\u001b[22m\u001b[39m ± \u001b[32m19.995 ms\u001b[39m  \u001b[90m┊\u001b[39m GC \u001b[90m(\u001b[39mmean ± σ\u001b[90m):  \u001b[39m11.36% ± 8.50%\n",
       "\n",
       "  \u001b[39m▅\u001b[39m \u001b[39m█\u001b[39m▆\u001b[34m \u001b[39m\u001b[39m \u001b[39m \u001b[39m \u001b[39m \u001b[39m \u001b[39m \u001b[39m \u001b[39m \u001b[39m \u001b[39m \u001b[39m \u001b[32m \u001b[39m\u001b[39m \u001b[39m \u001b[39m \u001b[39m \u001b[39m \u001b[39m \u001b[39m \u001b[39m \u001b[39m \u001b[39m \u001b[39m \u001b[39m \u001b[39m \u001b[39m \u001b[39m \u001b[39m \u001b[39m \u001b[39m \u001b[39m \u001b[39m \u001b[39m \u001b[39m \u001b[39m \u001b[39m \u001b[39m \u001b[39m \u001b[39m \u001b[39m \u001b[39m \u001b[39m \u001b[39m \u001b[39m \u001b[39m \u001b[39m \u001b[39m \u001b[39m \u001b[39m \u001b[39m \u001b[39m \u001b[39m \u001b[39m \u001b[39m \u001b[39m \u001b[39m \n",
       "  \u001b[39m█\u001b[39m▇\u001b[39m█\u001b[39m█\u001b[34m▇\u001b[39m\u001b[39m█\u001b[39m▇\u001b[39m▁\u001b[39m▁\u001b[39m▂\u001b[39m▁\u001b[39m▁\u001b[39m▁\u001b[39m▁\u001b[39m▁\u001b[39m▁\u001b[32m▁\u001b[39m\u001b[39m▁\u001b[39m▁\u001b[39m▁\u001b[39m▁\u001b[39m▁\u001b[39m▁\u001b[39m▁\u001b[39m▁\u001b[39m▁\u001b[39m▁\u001b[39m▁\u001b[39m▁\u001b[39m▁\u001b[39m▁\u001b[39m▁\u001b[39m▁\u001b[39m▁\u001b[39m▁\u001b[39m▁\u001b[39m▁\u001b[39m▁\u001b[39m▁\u001b[39m▁\u001b[39m▁\u001b[39m▁\u001b[39m▁\u001b[39m▂\u001b[39m▃\u001b[39m▂\u001b[39m▃\u001b[39m▃\u001b[39m▃\u001b[39m▅\u001b[39m▅\u001b[39m▄\u001b[39m▅\u001b[39m▃\u001b[39m▃\u001b[39m▃\u001b[39m▂\u001b[39m▂\u001b[39m▃\u001b[39m \u001b[39m▃\n",
       "  10.1 ms\u001b[90m         Histogram: frequency by time\u001b[39m        64.6 ms \u001b[0m\u001b[1m<\u001b[22m\n",
       "\n",
       " Memory estimate\u001b[90m: \u001b[39m\u001b[33m44.50 MiB\u001b[39m, allocs estimate\u001b[90m: \u001b[39m\u001b[33m54399\u001b[39m."
      ]
     },
     "execution_count": 58,
     "metadata": {},
     "output_type": "execute_result"
    }
   ],
   "source": [
    "@benchmark test_block = scan_perms_threadsBlocks(pheno_y, geno, kinship; reml = true, nperms = 0, rndseed = 0, original = true, option = \"by blocks\", nblocks = 160)"
   ]
  },
  {
   "cell_type": "code",
   "execution_count": 59,
   "id": "775a58ad-f890-444d-a3e1-ca8f123b1b54",
   "metadata": {},
   "outputs": [
    {
     "data": {
      "text/plain": [
       "BenchmarkTools.Trial: 140 samples with 1 evaluation.\n",
       " Range \u001b[90m(\u001b[39m\u001b[36m\u001b[1mmin\u001b[22m\u001b[39m … \u001b[35mmax\u001b[39m\u001b[90m):  \u001b[39m\u001b[36m\u001b[1m27.772 ms\u001b[22m\u001b[39m … \u001b[35m49.786 ms\u001b[39m  \u001b[90m┊\u001b[39m GC \u001b[90m(\u001b[39mmin … max\u001b[90m): \u001b[39m0.00% … 27.65%\n",
       " Time  \u001b[90m(\u001b[39m\u001b[34m\u001b[1mmedian\u001b[22m\u001b[39m\u001b[90m):     \u001b[39m\u001b[34m\u001b[1m34.582 ms              \u001b[22m\u001b[39m\u001b[90m┊\u001b[39m GC \u001b[90m(\u001b[39mmedian\u001b[90m):    \u001b[39m0.00%\n",
       " Time  \u001b[90m(\u001b[39m\u001b[32m\u001b[1mmean\u001b[22m\u001b[39m ± \u001b[32mσ\u001b[39m\u001b[90m):   \u001b[39m\u001b[32m\u001b[1m35.737 ms\u001b[22m\u001b[39m ± \u001b[32m 6.990 ms\u001b[39m  \u001b[90m┊\u001b[39m GC \u001b[90m(\u001b[39mmean ± σ\u001b[90m):  \u001b[39m8.96% ± 10.50%\n",
       "\n",
       "  \u001b[39m \u001b[39m█\u001b[39m▃\u001b[39m \u001b[39m \u001b[39m \u001b[39m \u001b[39m \u001b[39m \u001b[39m \u001b[39m \u001b[39m \u001b[39m \u001b[39m \u001b[39m \u001b[39m \u001b[39m \u001b[39m \u001b[39m \u001b[34m \u001b[39m\u001b[39m \u001b[39m \u001b[32m \u001b[39m\u001b[39m \u001b[39m \u001b[39m \u001b[39m \u001b[39m \u001b[39m \u001b[39m \u001b[39m \u001b[39m \u001b[39m \u001b[39m \u001b[39m \u001b[39m \u001b[39m \u001b[39m \u001b[39m \u001b[39m \u001b[39m \u001b[39m \u001b[39m \u001b[39m \u001b[39m \u001b[39m \u001b[39m \u001b[39m \u001b[39m \u001b[39m \u001b[39m \u001b[39m \u001b[39m \u001b[39m \u001b[39m \u001b[39m \u001b[39m \u001b[39m \u001b[39m \u001b[39m \u001b[39m \n",
       "  \u001b[39m▆\u001b[39m█\u001b[39m█\u001b[39m█\u001b[39m█\u001b[39m▃\u001b[39m▃\u001b[39m▃\u001b[39m▄\u001b[39m▄\u001b[39m▃\u001b[39m▃\u001b[39m▃\u001b[39m▄\u001b[39m▃\u001b[39m▄\u001b[39m▃\u001b[39m▁\u001b[39m▄\u001b[34m▁\u001b[39m\u001b[39m▄\u001b[39m▅\u001b[32m▃\u001b[39m\u001b[39m▅\u001b[39m▃\u001b[39m▃\u001b[39m▃\u001b[39m▄\u001b[39m▃\u001b[39m▃\u001b[39m▄\u001b[39m▁\u001b[39m▄\u001b[39m▄\u001b[39m▃\u001b[39m▄\u001b[39m▅\u001b[39m▃\u001b[39m▁\u001b[39m▃\u001b[39m▆\u001b[39m▃\u001b[39m▁\u001b[39m▁\u001b[39m▇\u001b[39m▃\u001b[39m▄\u001b[39m▃\u001b[39m▃\u001b[39m▃\u001b[39m▄\u001b[39m▁\u001b[39m▃\u001b[39m▄\u001b[39m▃\u001b[39m▄\u001b[39m▁\u001b[39m▄\u001b[39m▄\u001b[39m \u001b[39m▃\n",
       "  27.8 ms\u001b[90m         Histogram: frequency by time\u001b[39m        49.2 ms \u001b[0m\u001b[1m<\u001b[22m\n",
       "\n",
       " Memory estimate\u001b[90m: \u001b[39m\u001b[33m33.23 MiB\u001b[39m, allocs estimate\u001b[90m: \u001b[39m\u001b[33m73608\u001b[39m."
      ]
     },
     "execution_count": 59,
     "metadata": {},
     "output_type": "execute_result"
    }
   ],
   "source": [
    "@benchmark test_normal = scan(pheno_y, geno, kinship; reml = true, method = \"null\")"
   ]
  },
  {
   "cell_type": "code",
   "execution_count": 60,
   "id": "3d9aad3e-b331-49b3-9ac9-11c9a85dab14",
   "metadata": {},
   "outputs": [
    {
     "data": {
      "text/plain": [
       "7.888609052210118e-29"
      ]
     },
     "execution_count": 60,
     "metadata": {},
     "output_type": "execute_result"
    }
   ],
   "source": [
    "maxSqDiff(test_block, reshape(test_normal[3], 1, :))"
   ]
  },
  {
   "cell_type": "code",
   "execution_count": 61,
   "id": "438b0fad-9e70-49eb-bb69-8177a0c0f7a7",
   "metadata": {},
   "outputs": [
    {
     "data": {
      "text/plain": [
       "0.0034285714285714284"
      ]
     },
     "execution_count": 61,
     "metadata": {},
     "output_type": "execute_result"
    }
   ],
   "source": [
    "2*60/35000"
   ]
  },
  {
   "cell_type": "code",
   "execution_count": 65,
   "id": "e811b50e-116b-42d4-a1c0-18edd10a9146",
   "metadata": {},
   "outputs": [
    {
     "name": "stdout",
     "output_type": "stream",
     "text": [
      "  0.045124 seconds (53.62 k allocations: 44.370 MiB, 34.76% gc time)\n"
     ]
    },
    {
     "data": {
      "text/plain": [
       "1×7321 Matrix{Float64}:\n",
       " 0.00808641  0.00808641  0.00808641  …  0.043462  0.0118178  0.0118178"
      ]
     },
     "execution_count": 65,
     "metadata": {},
     "output_type": "execute_result"
    }
   ],
   "source": [
    "@time scan_perms_distributed(pheno_y, geno, kinship; reml = true, nperms = 1000, nblocks = 160)"
   ]
  },
  {
   "cell_type": "code",
   "execution_count": null,
   "id": "aa163f52-6808-46cc-8ae3-70ac4ce8bcef",
   "metadata": {},
   "outputs": [],
   "source": []
  },
  {
   "cell_type": "code",
   "execution_count": null,
   "id": "fb8b688e-b60f-45dd-8cea-aff2ce140512",
   "metadata": {},
   "outputs": [],
   "source": []
  }
 ],
 "metadata": {
  "kernelspec": {
   "display_name": "Julia 16 Threads 1.8.1",
   "language": "julia",
   "name": "julia-16-threads-1.8"
  },
  "language_info": {
   "file_extension": ".jl",
   "mimetype": "application/julia",
   "name": "julia",
   "version": "1.8.1"
  }
 },
 "nbformat": 4,
 "nbformat_minor": 5
}
