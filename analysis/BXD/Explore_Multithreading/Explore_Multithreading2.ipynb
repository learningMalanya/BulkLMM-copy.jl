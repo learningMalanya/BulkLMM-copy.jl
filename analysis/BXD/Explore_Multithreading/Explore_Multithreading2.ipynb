{
 "cells": [
  {
   "cell_type": "code",
   "execution_count": 1,
   "id": "9ffbb53b-3efa-4f9b-8fb8-224fdf8903c1",
   "metadata": {},
   "outputs": [],
   "source": [
    "using Base.Threads"
   ]
  },
  {
   "cell_type": "code",
   "execution_count": 2,
   "id": "b8bc5fe1-2d20-41c0-a7f4-2f67e9ed15b4",
   "metadata": {},
   "outputs": [
    {
     "data": {
      "text/plain": [
       "1"
      ]
     },
     "execution_count": 2,
     "metadata": {},
     "output_type": "execute_result"
    }
   ],
   "source": [
    "Threads.nthreads()"
   ]
  },
  {
   "cell_type": "code",
   "execution_count": 8,
   "id": "bd9dcf1e-3260-4a02-99e4-98b08c48b8c1",
   "metadata": {},
   "outputs": [
    {
     "data": {
      "text/plain": [
       "\"/Users/FredYu/Documents/GitHub/BulkLMM.jl/analysis/BXD\""
      ]
     },
     "execution_count": 8,
     "metadata": {},
     "output_type": "execute_result"
    }
   ],
   "source": [
    "pwd()"
   ]
  },
  {
   "cell_type": "code",
   "execution_count": 9,
   "id": "40bdc435-1622-47c4-8098-d3bb729a2fd9",
   "metadata": {},
   "outputs": [],
   "source": [
    "cd(\"..\")"
   ]
  },
  {
   "cell_type": "code",
   "execution_count": 10,
   "id": "51f2ce44-2f51-4730-ad6b-a0b2e8335edf",
   "metadata": {},
   "outputs": [],
   "source": [
    "include(\"../test/BXDdata_for_test.jl\");"
   ]
  },
  {
   "cell_type": "code",
   "execution_count": 11,
   "id": "207cef13-8e3e-437b-9c59-0da483b3845f",
   "metadata": {},
   "outputs": [],
   "source": [
    "include(\"../src/parallel_helpers.jl\");"
   ]
  },
  {
   "cell_type": "code",
   "execution_count": 12,
   "id": "9a517b04-650c-4f1d-bd4a-e2891e028f14",
   "metadata": {},
   "outputs": [],
   "source": [
    "include(\"../test/testHelper.jl\");"
   ]
  },
  {
   "cell_type": "code",
   "execution_count": 13,
   "id": "f339bd71-8e1f-4a16-aa9d-92b2637c083b",
   "metadata": {},
   "outputs": [
    {
     "data": {
      "text/plain": [
       "scan_perms_threads (generic function with 1 method)"
      ]
     },
     "execution_count": 13,
     "metadata": {},
     "output_type": "execute_result"
    }
   ],
   "source": [
    "function scan_perms_threads(y::Array{Float64,2}, g::Array{Float64,2}, K::Array{Float64,2};\n",
    "              nperms::Int64 = 1024, rndseed::Int64 = 0, \n",
    "              reml::Bool = false, original::Bool = true)\n",
    "\n",
    "    # check the number of traits as this function only works for permutation testing of univariate trait\n",
    "    if(size(y, 2) != 1)\n",
    "        error(\"Can only handle one trait.\")\n",
    "    end\n",
    "\n",
    "    # n - the sample size\n",
    "    # p - the number of markers\n",
    "    (n, p) = size(g)\n",
    "\n",
    "    # make intercept\n",
    "    intercept = ones(n, 1)\n",
    "\n",
    "    # rotate data so errors are uncorrelated\n",
    "    (y0, X0, lambda0) = rotateData(y, [intercept g], K)\n",
    "\n",
    "\n",
    "    ## Note: estimate once the variance components from the null model and use for all marker scans\n",
    "    # fit lmm\n",
    "\n",
    "    # X0_intercept = @view X0[:, 1] # to compare\n",
    "    vc = fitlmm(y0, reshape(X0[:, 1], :, 1), lambda0; reml = reml) # vc.b is estimated through weighted least square\n",
    "    r0 = y0 - X0[:, 1]*vc.b\n",
    "\n",
    "    # weights proportional to the variances\n",
    "    sqrtw = sqrt.(makeweights(vc.h2, lambda0))\n",
    "\n",
    "    # compared runtime of the following with \"wls(X0[:, 2:end], X0[:, 1], wts)\" ?\n",
    "    # rescale by weights; now these have the same mean/variance and are independent\n",
    "    rowMultiply!(r0, sqrtw);\n",
    "    rowMultiply!(X0, sqrtw);\n",
    "\n",
    "    \n",
    "    # after re-weighting X, calling resid on re-weighted X is the same as doing wls on the X after rotation.\n",
    "    X00 = resid(X0[:, 2:end], reshape(X0[:, 1], :, 1)) # consider not using sub-array, consider @view; in-place changes\n",
    "\n",
    "    ## random permutations; the first column is the original trait (after transformation)\n",
    "    rng = MersenneTwister(rndseed);\n",
    "    ## permute r0 (which is an iid, standard normal distributed N-vector under the null)\n",
    "    r0perm = shuffleVector(rng, r0[:, 1], nperms; original = original)\n",
    "\n",
    "    ## Null RSS:\n",
    "    # By null hypothesis, mean is 0. RSS just becomes the sum of squares of the residuals (r0perm's)\n",
    "    # (For theoretical derivation of the results, see notebook)\n",
    "    rss0 = sum(r0perm[:, 1].^2) # a scalar; bc rss0 for every permuted trait is the same under the null (zero mean);\n",
    "    \n",
    "    ## make array to hold Alternative RSS's for each permutated trait\n",
    "    if original\n",
    "        rss1 = Array{Float64, 2}(undef, nperms+1, p)\n",
    "    else\n",
    "        rss1 = Array{Float64, 2}(undef, nperms, p)\n",
    "    end\n",
    "    \n",
    "    ## loop over markers\n",
    "    Threads.@threads for i = 1:p\n",
    "\n",
    "        ## alternative rss\n",
    "        @inbounds rss1[:, i] = rss(r0perm, @view X00[:, i]);\n",
    "        \n",
    "    end\n",
    "\n",
    "    lod = (-n/2)*(log10.(rss1) .- log10(rss0))\n",
    "\n",
    "    return lod\n",
    "\n",
    "end"
   ]
  },
  {
   "cell_type": "code",
   "execution_count": 14,
   "id": "6a65e343-abbe-4bc8-8405-0b36ecc6cf11",
   "metadata": {},
   "outputs": [
    {
     "data": {
      "text/plain": [
       "4"
      ]
     },
     "execution_count": 14,
     "metadata": {},
     "output_type": "execute_result"
    }
   ],
   "source": [
    "BLAS.get_num_threads()"
   ]
  },
  {
   "cell_type": "code",
   "execution_count": 15,
   "id": "9656608b-d744-4054-8a92-ddb66d33693c",
   "metadata": {},
   "outputs": [],
   "source": [
    "BLAS.set_num_threads(2)"
   ]
  },
  {
   "cell_type": "code",
   "execution_count": 16,
   "id": "dbdfd694-ea15-4f14-91f1-1f683994ded8",
   "metadata": {},
   "outputs": [
    {
     "data": {
      "text/plain": [
       "2"
      ]
     },
     "execution_count": 16,
     "metadata": {},
     "output_type": "execute_result"
    }
   ],
   "source": [
    "BLAS.get_num_threads()"
   ]
  },
  {
   "cell_type": "code",
   "execution_count": 17,
   "id": "493f3f91-16a2-43e1-b056-6c81e8c3baf4",
   "metadata": {},
   "outputs": [
    {
     "data": {
      "text/plain": [
       "1"
      ]
     },
     "execution_count": 17,
     "metadata": {},
     "output_type": "execute_result"
    }
   ],
   "source": [
    "Threads.nthreads()"
   ]
  },
  {
   "cell_type": "code",
   "execution_count": 18,
   "id": "3ed544ca-6cfe-4686-8c06-8774076d9d3f",
   "metadata": {},
   "outputs": [
    {
     "ename": "LoadError",
     "evalue": "TaskFailedException\n\n\u001b[91m    nested task error: \u001b[39mInterruptException:\n    Stacktrace:\n      [1] \u001b[0m\u001b[1mArray\u001b[22m\n    \u001b[90m    @ \u001b[39m\u001b[90m./\u001b[39m\u001b[90m\u001b[4mboot.jl:461\u001b[24m\u001b[39m\u001b[90m [inlined]\u001b[39m\n      [2] \u001b[0m\u001b[1mArray\u001b[22m\n    \u001b[90m    @ \u001b[39m\u001b[90m./\u001b[39m\u001b[90m\u001b[4mboot.jl:469\u001b[24m\u001b[39m\u001b[90m [inlined]\u001b[39m\n      [3] \u001b[0m\u001b[1msimilar\u001b[22m\n    \u001b[90m    @ \u001b[39m\u001b[90m./\u001b[39m\u001b[90m\u001b[4marray.jl:378\u001b[24m\u001b[39m\u001b[90m [inlined]\u001b[39m\n      [4] \u001b[0m\u001b[1msimilar\u001b[22m\n    \u001b[90m    @ \u001b[39m\u001b[90m./\u001b[39m\u001b[90m\u001b[4mabstractarray.jl:803\u001b[24m\u001b[39m\u001b[90m [inlined]\u001b[39m\n      [5] \u001b[0m\u001b[1mreducedim_initarray\u001b[22m\u001b[0m\u001b[1m(\u001b[22m\u001b[90mA\u001b[39m::\u001b[0mMatrix\u001b[90m{Float64}\u001b[39m, \u001b[90mregion\u001b[39m::\u001b[0mInt64, \u001b[90minit\u001b[39m::\u001b[0mFloat64, \u001b[90m#unused#\u001b[39m::\u001b[0mType\u001b[90m{Float64}\u001b[39m\u001b[0m\u001b[1m)\u001b[22m\n    \u001b[90m    @ \u001b[39m\u001b[90mBase\u001b[39m \u001b[90m./\u001b[39m\u001b[90m\u001b[4mreducedim.jl:91\u001b[24m\u001b[39m\n      [6] \u001b[0m\u001b[1mreducedim_initarray\u001b[22m\n    \u001b[90m    @ \u001b[39m\u001b[90m./\u001b[39m\u001b[90m\u001b[4mreducedim.jl:92\u001b[24m\u001b[39m\u001b[90m [inlined]\u001b[39m\n      [7] \u001b[0m\u001b[1mreducedim_init\u001b[22m\n    \u001b[90m    @ \u001b[39m\u001b[90m./\u001b[39m\u001b[90m\u001b[4mreducedim.jl:219\u001b[24m\u001b[39m\u001b[90m [inlined]\u001b[39m\n      [8] \u001b[0m\u001b[1m_mapreduce_dim\u001b[22m\n    \u001b[90m    @ \u001b[39m\u001b[90m./\u001b[39m\u001b[90m\u001b[4mreducedim.jl:371\u001b[24m\u001b[39m\u001b[90m [inlined]\u001b[39m\n      [9] \u001b[0m\u001b[1m#mapreduce#765\u001b[22m\n    \u001b[90m    @ \u001b[39m\u001b[90m./\u001b[39m\u001b[90m\u001b[4mreducedim.jl:357\u001b[24m\u001b[39m\u001b[90m [inlined]\u001b[39m\n     [10] \u001b[0m\u001b[1m#reduce#767\u001b[22m\n    \u001b[90m    @ \u001b[39m\u001b[90m./\u001b[39m\u001b[90m\u001b[4mreducedim.jl:406\u001b[24m\u001b[39m\u001b[90m [inlined]\u001b[39m\n     [11] \u001b[0m\u001b[1mrss\u001b[22m\u001b[0m\u001b[1m(\u001b[22m\u001b[90my\u001b[39m::\u001b[0mMatrix\u001b[90m{Float64}\u001b[39m, \u001b[90mX\u001b[39m::\u001b[0mSubArray\u001b[90m{Float64, 1, Matrix{Float64}, Tuple{Base.Slice{Base.OneTo{Int64}}, Int64}, true}\u001b[39m; \u001b[90mmethod\u001b[39m::\u001b[0mString\u001b[0m\u001b[1m)\u001b[22m\n    \u001b[90m    @ \u001b[39m\u001b[35mMain\u001b[39m \u001b[90m~/Documents/GitHub/BulkLMM.jl/src/\u001b[39m\u001b[90m\u001b[4mwls.jl:149\u001b[24m\u001b[39m\n     [12] \u001b[0m\u001b[1mrss\u001b[22m\n    \u001b[90m    @ \u001b[39m\u001b[90m~/Documents/GitHub/BulkLMM.jl/src/\u001b[39m\u001b[90m\u001b[4mwls.jl:146\u001b[24m\u001b[39m\u001b[90m [inlined]\u001b[39m\n     [13] \u001b[0m\u001b[1mmacro expansion\u001b[22m\n    \u001b[90m    @ \u001b[39m\u001b[90m./\u001b[39m\u001b[90m\u001b[4mIn[13]:61\u001b[24m\u001b[39m\u001b[90m [inlined]\u001b[39m\n     [14] \u001b[0m\u001b[1m(::var\"#49#threadsfor_fun#42\"{var\"#49#threadsfor_fun#41#43\"{Matrix{Float64}, Matrix{Float64}, UnitRange{Int64}}})\u001b[22m\u001b[0m\u001b[1m(\u001b[22m\u001b[90mtid\u001b[39m::\u001b[0mInt64; \u001b[90monethread\u001b[39m::\u001b[0mBool\u001b[0m\u001b[1m)\u001b[22m\n    \u001b[90m    @ \u001b[39m\u001b[35mMain\u001b[39m \u001b[90m./\u001b[39m\u001b[90m\u001b[4mthreadingconstructs.jl:84\u001b[24m\u001b[39m\n     [15] \u001b[0m\u001b[1m#49#threadsfor_fun\u001b[22m\n    \u001b[90m    @ \u001b[39m\u001b[90m./\u001b[39m\u001b[90m\u001b[4mthreadingconstructs.jl:51\u001b[24m\u001b[39m\u001b[90m [inlined]\u001b[39m\n     [16] \u001b[0m\u001b[1m(::Base.Threads.var\"#1#2\"{var\"#49#threadsfor_fun#42\"{var\"#49#threadsfor_fun#41#43\"{Matrix{Float64}, Matrix{Float64}, UnitRange{Int64}}}, Int64})\u001b[22m\u001b[0m\u001b[1m(\u001b[22m\u001b[0m\u001b[1m)\u001b[22m\n    \u001b[90m    @ \u001b[39m\u001b[90mBase.Threads\u001b[39m \u001b[90m./\u001b[39m\u001b[90m\u001b[4mthreadingconstructs.jl:30\u001b[24m\u001b[39m",
     "output_type": "error",
     "traceback": [
      "TaskFailedException\n\n\u001b[91m    nested task error: \u001b[39mInterruptException:\n    Stacktrace:\n      [1] \u001b[0m\u001b[1mArray\u001b[22m\n    \u001b[90m    @ \u001b[39m\u001b[90m./\u001b[39m\u001b[90m\u001b[4mboot.jl:461\u001b[24m\u001b[39m\u001b[90m [inlined]\u001b[39m\n      [2] \u001b[0m\u001b[1mArray\u001b[22m\n    \u001b[90m    @ \u001b[39m\u001b[90m./\u001b[39m\u001b[90m\u001b[4mboot.jl:469\u001b[24m\u001b[39m\u001b[90m [inlined]\u001b[39m\n      [3] \u001b[0m\u001b[1msimilar\u001b[22m\n    \u001b[90m    @ \u001b[39m\u001b[90m./\u001b[39m\u001b[90m\u001b[4marray.jl:378\u001b[24m\u001b[39m\u001b[90m [inlined]\u001b[39m\n      [4] \u001b[0m\u001b[1msimilar\u001b[22m\n    \u001b[90m    @ \u001b[39m\u001b[90m./\u001b[39m\u001b[90m\u001b[4mabstractarray.jl:803\u001b[24m\u001b[39m\u001b[90m [inlined]\u001b[39m\n      [5] \u001b[0m\u001b[1mreducedim_initarray\u001b[22m\u001b[0m\u001b[1m(\u001b[22m\u001b[90mA\u001b[39m::\u001b[0mMatrix\u001b[90m{Float64}\u001b[39m, \u001b[90mregion\u001b[39m::\u001b[0mInt64, \u001b[90minit\u001b[39m::\u001b[0mFloat64, \u001b[90m#unused#\u001b[39m::\u001b[0mType\u001b[90m{Float64}\u001b[39m\u001b[0m\u001b[1m)\u001b[22m\n    \u001b[90m    @ \u001b[39m\u001b[90mBase\u001b[39m \u001b[90m./\u001b[39m\u001b[90m\u001b[4mreducedim.jl:91\u001b[24m\u001b[39m\n      [6] \u001b[0m\u001b[1mreducedim_initarray\u001b[22m\n    \u001b[90m    @ \u001b[39m\u001b[90m./\u001b[39m\u001b[90m\u001b[4mreducedim.jl:92\u001b[24m\u001b[39m\u001b[90m [inlined]\u001b[39m\n      [7] \u001b[0m\u001b[1mreducedim_init\u001b[22m\n    \u001b[90m    @ \u001b[39m\u001b[90m./\u001b[39m\u001b[90m\u001b[4mreducedim.jl:219\u001b[24m\u001b[39m\u001b[90m [inlined]\u001b[39m\n      [8] \u001b[0m\u001b[1m_mapreduce_dim\u001b[22m\n    \u001b[90m    @ \u001b[39m\u001b[90m./\u001b[39m\u001b[90m\u001b[4mreducedim.jl:371\u001b[24m\u001b[39m\u001b[90m [inlined]\u001b[39m\n      [9] \u001b[0m\u001b[1m#mapreduce#765\u001b[22m\n    \u001b[90m    @ \u001b[39m\u001b[90m./\u001b[39m\u001b[90m\u001b[4mreducedim.jl:357\u001b[24m\u001b[39m\u001b[90m [inlined]\u001b[39m\n     [10] \u001b[0m\u001b[1m#reduce#767\u001b[22m\n    \u001b[90m    @ \u001b[39m\u001b[90m./\u001b[39m\u001b[90m\u001b[4mreducedim.jl:406\u001b[24m\u001b[39m\u001b[90m [inlined]\u001b[39m\n     [11] \u001b[0m\u001b[1mrss\u001b[22m\u001b[0m\u001b[1m(\u001b[22m\u001b[90my\u001b[39m::\u001b[0mMatrix\u001b[90m{Float64}\u001b[39m, \u001b[90mX\u001b[39m::\u001b[0mSubArray\u001b[90m{Float64, 1, Matrix{Float64}, Tuple{Base.Slice{Base.OneTo{Int64}}, Int64}, true}\u001b[39m; \u001b[90mmethod\u001b[39m::\u001b[0mString\u001b[0m\u001b[1m)\u001b[22m\n    \u001b[90m    @ \u001b[39m\u001b[35mMain\u001b[39m \u001b[90m~/Documents/GitHub/BulkLMM.jl/src/\u001b[39m\u001b[90m\u001b[4mwls.jl:149\u001b[24m\u001b[39m\n     [12] \u001b[0m\u001b[1mrss\u001b[22m\n    \u001b[90m    @ \u001b[39m\u001b[90m~/Documents/GitHub/BulkLMM.jl/src/\u001b[39m\u001b[90m\u001b[4mwls.jl:146\u001b[24m\u001b[39m\u001b[90m [inlined]\u001b[39m\n     [13] \u001b[0m\u001b[1mmacro expansion\u001b[22m\n    \u001b[90m    @ \u001b[39m\u001b[90m./\u001b[39m\u001b[90m\u001b[4mIn[13]:61\u001b[24m\u001b[39m\u001b[90m [inlined]\u001b[39m\n     [14] \u001b[0m\u001b[1m(::var\"#49#threadsfor_fun#42\"{var\"#49#threadsfor_fun#41#43\"{Matrix{Float64}, Matrix{Float64}, UnitRange{Int64}}})\u001b[22m\u001b[0m\u001b[1m(\u001b[22m\u001b[90mtid\u001b[39m::\u001b[0mInt64; \u001b[90monethread\u001b[39m::\u001b[0mBool\u001b[0m\u001b[1m)\u001b[22m\n    \u001b[90m    @ \u001b[39m\u001b[35mMain\u001b[39m \u001b[90m./\u001b[39m\u001b[90m\u001b[4mthreadingconstructs.jl:84\u001b[24m\u001b[39m\n     [15] \u001b[0m\u001b[1m#49#threadsfor_fun\u001b[22m\n    \u001b[90m    @ \u001b[39m\u001b[90m./\u001b[39m\u001b[90m\u001b[4mthreadingconstructs.jl:51\u001b[24m\u001b[39m\u001b[90m [inlined]\u001b[39m\n     [16] \u001b[0m\u001b[1m(::Base.Threads.var\"#1#2\"{var\"#49#threadsfor_fun#42\"{var\"#49#threadsfor_fun#41#43\"{Matrix{Float64}, Matrix{Float64}, UnitRange{Int64}}}, Int64})\u001b[22m\u001b[0m\u001b[1m(\u001b[22m\u001b[0m\u001b[1m)\u001b[22m\n    \u001b[90m    @ \u001b[39m\u001b[90mBase.Threads\u001b[39m \u001b[90m./\u001b[39m\u001b[90m\u001b[4mthreadingconstructs.jl:30\u001b[24m\u001b[39m",
      "",
      "Stacktrace:",
      "  [1] wait",
      "    @ ./task.jl:345 [inlined]",
      "  [2] threading_run(fun::var\"#49#threadsfor_fun#42\"{var\"#49#threadsfor_fun#41#43\"{Matrix{Float64}, Matrix{Float64}, UnitRange{Int64}}}, static::Bool)",
      "    @ Base.Threads ./threadingconstructs.jl:38",
      "  [3] macro expansion",
      "    @ ./threadingconstructs.jl:89 [inlined]",
      "  [4] scan_perms_threads(y::Matrix{Float64}, g::Matrix{Float64}, K::Matrix{Float64}; nperms::Int64, rndseed::Int64, reml::Bool, original::Bool)",
      "    @ Main ./In[13]:58",
      "  [5] var\"##core#313\"()",
      "    @ Main ~/.julia/packages/BenchmarkTools/7xSXH/src/execution.jl:489",
      "  [6] var\"##sample#314\"(::Tuple{}, __params::BenchmarkTools.Parameters)",
      "    @ Main ~/.julia/packages/BenchmarkTools/7xSXH/src/execution.jl:495",
      "  [7] _run(b::BenchmarkTools.Benchmark, p::BenchmarkTools.Parameters; verbose::Bool, pad::String, kwargs::Base.Pairs{Symbol, Integer, NTuple{4, Symbol}, NamedTuple{(:samples, :evals, :gctrial, :gcsample), Tuple{Int64, Int64, Bool, Bool}}})",
      "    @ BenchmarkTools ~/.julia/packages/BenchmarkTools/7xSXH/src/execution.jl:99",
      "  [8] #invokelatest#2",
      "    @ ./essentials.jl:731 [inlined]",
      "  [9] #run_result#45",
      "    @ ~/.julia/packages/BenchmarkTools/7xSXH/src/execution.jl:34 [inlined]",
      " [10] run(b::BenchmarkTools.Benchmark, p::BenchmarkTools.Parameters; progressid::Nothing, nleaves::Float64, ndone::Float64, kwargs::Base.Pairs{Symbol, Integer, NTuple{5, Symbol}, NamedTuple{(:verbose, :samples, :evals, :gctrial, :gcsample), Tuple{Bool, Int64, Int64, Bool, Bool}}})",
      "    @ BenchmarkTools ~/.julia/packages/BenchmarkTools/7xSXH/src/execution.jl:117",
      " [11] #warmup#54",
      "    @ ~/.julia/packages/BenchmarkTools/7xSXH/src/execution.jl:169 [inlined]",
      " [12] warmup(item::BenchmarkTools.Benchmark)",
      "    @ BenchmarkTools ~/.julia/packages/BenchmarkTools/7xSXH/src/execution.jl:168",
      " [13] top-level scope",
      "    @ ~/.julia/packages/BenchmarkTools/7xSXH/src/execution.jl:393",
      " [14] eval",
      "    @ ./boot.jl:368 [inlined]",
      " [15] include_string(mapexpr::typeof(REPL.softscope), mod::Module, code::String, filename::String)",
      "    @ Base ./loading.jl:1428"
     ]
    }
   ],
   "source": [
    "@benchmark scan_perms_threads(pheno_y, geno, kinship; nperms = 1024, rndseed = 0, reml = false, original = true)"
   ]
  },
  {
   "cell_type": "code",
   "execution_count": 19,
   "id": "9c0a6042-15a6-440e-8d5b-6d28647f9952",
   "metadata": {},
   "outputs": [
    {
     "ename": "LoadError",
     "evalue": "InterruptException:",
     "output_type": "error",
     "traceback": [
      "InterruptException:",
      "",
      "Stacktrace:",
      "  [1] Array",
      "    @ ./boot.jl:461 [inlined]",
      "  [2] Array",
      "    @ ./boot.jl:469 [inlined]",
      "  [3] similar",
      "    @ ./array.jl:378 [inlined]",
      "  [4] similar",
      "    @ ./abstractarray.jl:803 [inlined]",
      "  [5] reducedim_initarray(A::Matrix{Float64}, region::Int64, init::Float64, #unused#::Type{Float64})",
      "    @ Base ./reducedim.jl:91",
      "  [6] reducedim_initarray",
      "    @ ./reducedim.jl:92 [inlined]",
      "  [7] reducedim_init",
      "    @ ./reducedim.jl:219 [inlined]",
      "  [8] _mapreduce_dim",
      "    @ ./reducedim.jl:371 [inlined]",
      "  [9] #mapreduce#765",
      "    @ ./reducedim.jl:357 [inlined]",
      " [10] #reduce#767",
      "    @ ./reducedim.jl:406 [inlined]",
      " [11] rss(y::Matrix{Float64}, X::SubArray{Float64, 1, Matrix{Float64}, Tuple{Base.Slice{Base.OneTo{Int64}}, Int64}, true}; method::String)",
      "    @ Main ~/Documents/GitHub/BulkLMM.jl/src/wls.jl:149",
      " [12] rss",
      "    @ ~/Documents/GitHub/BulkLMM.jl/src/wls.jl:146 [inlined]",
      " [13] scan_perms(y::Matrix{Float64}, g::Matrix{Float64}, K::Matrix{Float64}; nperms::Int64, rndseed::Int64, reml::Bool, original::Bool)",
      "    @ Main ~/Documents/GitHub/BulkLMM.jl/src/scan.jl:266",
      " [14] var\"##core#316\"()",
      "    @ Main ~/.julia/packages/BenchmarkTools/7xSXH/src/execution.jl:489",
      " [15] var\"##sample#317\"(::Tuple{}, __params::BenchmarkTools.Parameters)",
      "    @ Main ~/.julia/packages/BenchmarkTools/7xSXH/src/execution.jl:495",
      " [16] _run(b::BenchmarkTools.Benchmark, p::BenchmarkTools.Parameters; verbose::Bool, pad::String, kwargs::Base.Pairs{Symbol, Integer, NTuple{4, Symbol}, NamedTuple{(:samples, :evals, :gctrial, :gcsample), Tuple{Int64, Int64, Bool, Bool}}})",
      "    @ BenchmarkTools ~/.julia/packages/BenchmarkTools/7xSXH/src/execution.jl:99",
      " [17] #invokelatest#2",
      "    @ ./essentials.jl:731 [inlined]",
      " [18] #run_result#45",
      "    @ ~/.julia/packages/BenchmarkTools/7xSXH/src/execution.jl:34 [inlined]",
      " [19] run(b::BenchmarkTools.Benchmark, p::BenchmarkTools.Parameters; progressid::Nothing, nleaves::Float64, ndone::Float64, kwargs::Base.Pairs{Symbol, Integer, NTuple{5, Symbol}, NamedTuple{(:verbose, :samples, :evals, :gctrial, :gcsample), Tuple{Bool, Int64, Int64, Bool, Bool}}})",
      "    @ BenchmarkTools ~/.julia/packages/BenchmarkTools/7xSXH/src/execution.jl:117",
      " [20] #warmup#54",
      "    @ ~/.julia/packages/BenchmarkTools/7xSXH/src/execution.jl:169 [inlined]",
      " [21] warmup(item::BenchmarkTools.Benchmark)",
      "    @ BenchmarkTools ~/.julia/packages/BenchmarkTools/7xSXH/src/execution.jl:168",
      " [22] eval",
      "    @ ./boot.jl:368 [inlined]",
      " [23] include_string(mapexpr::typeof(REPL.softscope), mod::Module, code::String, filename::String)",
      "    @ Base ./loading.jl:1428"
     ]
    }
   ],
   "source": [
    "@benchmark scan_perms(pheno_y, geno, kinship; nperms = 1024, rndseed = 0, reml = false, original = true)"
   ]
  },
  {
   "cell_type": "code",
   "execution_count": 20,
   "id": "14557871-69a1-4414-b0dd-f09be9809937",
   "metadata": {},
   "outputs": [
    {
     "data": {
      "text/plain": [
       "threads12_by_blocks (generic function with 1 method)"
      ]
     },
     "execution_count": 20,
     "metadata": {},
     "output_type": "execute_result"
    }
   ],
   "source": [
    "function threads12_by_blocks(r0perm::Array{Float64, 2}, X00::Array{Float64, 2}, nblocks::Int64)\n",
    "    # Does distributed processes of calculations of LOD scores for markers in each block\n",
    "\n",
    "    p = size(X00, 2);\n",
    "\n",
    "    ## (Create blocks...)\n",
    "    \n",
    "    block_size = ceil(Int, p/nblocks);\n",
    "    blocks = createBlocks2(p, block_size);\n",
    "    # blocks = createBlocks(p, nblocks);\n",
    "\n",
    "    LODs_blocks = tmap(x -> calcLODs_block(r0perm, X00, x), 16, blocks);\n",
    "    results = reduce(hcat, LODs_blocks);\n",
    "\n",
    "    return results\n",
    "\n",
    "end"
   ]
  },
  {
   "cell_type": "code",
   "execution_count": 21,
   "id": "6d27d669-e567-428e-803a-b026e235eed2",
   "metadata": {},
   "outputs": [
    {
     "data": {
      "text/plain": [
       "scan_perms_threads12 (generic function with 1 method)"
      ]
     },
     "execution_count": 21,
     "metadata": {},
     "output_type": "execute_result"
    }
   ],
   "source": [
    "function scan_perms_threads12(y::Array{Float64,2}, g::Array{Float64,2}, K::Array{Float64,2};\n",
    "                                reml::Bool = false,\n",
    "                                nperms::Int64 = 1024, rndseed::Int64 = 0, original::Bool = true,\n",
    "                                # (options for blocks, nperms distribution methods...)\n",
    "                                option::String = \"by blocks\", nblocks::Int64 = 1, ncopies::Int64 = 1, \n",
    "                                nprocs::Int64 = 0)\n",
    "\n",
    "    (y0, X0, lambda0) = transform_rotation(y, g, K); # rotation of data\n",
    "    (r0, X00) = transform_reweight(y0, X0, lambda0; reml = reml); # reweighting and taking residuals\n",
    "    r0perm = transform_permute(r0; nperms = nperms, rndseed = rndseed, original = original);\n",
    "\n",
    "    if option == \"by blocks\"\n",
    "        results = threads12_by_blocks(r0perm, X00, nblocks);\n",
    "    elseif option == \"by nperms\"\n",
    "        results = distribute_by_nperms(r0, X00, nperms, ncopies, original);\n",
    "    else\n",
    "        throw(error(\"Option unsupported.\"))\n",
    "    end\n",
    "\n",
    "    return results\n",
    "\n",
    "end"
   ]
  },
  {
   "cell_type": "code",
   "execution_count": 22,
   "id": "4b823e6a-c1db-41c5-8020-bae8222fc8ff",
   "metadata": {},
   "outputs": [],
   "source": [
    "using ThreadTools"
   ]
  },
  {
   "cell_type": "code",
   "execution_count": 23,
   "id": "79f59d36-2668-494a-8605-a400340ce70b",
   "metadata": {},
   "outputs": [
    {
     "ename": "LoadError",
     "evalue": "UndefVarError: createBlocks2 not defined",
     "output_type": "error",
     "traceback": [
      "UndefVarError: createBlocks2 not defined",
      "",
      "Stacktrace:",
      "  [1] threads12_by_blocks(r0perm::Matrix{Float64}, X00::Matrix{Float64}, nblocks::Int64)",
      "    @ Main ./In[20]:9",
      "  [2] scan_perms_threads12(y::Matrix{Float64}, g::Matrix{Float64}, K::Matrix{Float64}; reml::Bool, nperms::Int64, rndseed::Int64, original::Bool, option::String, nblocks::Int64, ncopies::Int64, nprocs::Int64)",
      "    @ Main ./In[21]:13",
      "  [3] var\"##core#319\"()",
      "    @ Main ~/.julia/packages/BenchmarkTools/7xSXH/src/execution.jl:489",
      "  [4] var\"##sample#320\"(::Tuple{}, __params::BenchmarkTools.Parameters)",
      "    @ Main ~/.julia/packages/BenchmarkTools/7xSXH/src/execution.jl:495",
      "  [5] _run(b::BenchmarkTools.Benchmark, p::BenchmarkTools.Parameters; verbose::Bool, pad::String, kwargs::Base.Pairs{Symbol, Integer, NTuple{4, Symbol}, NamedTuple{(:samples, :evals, :gctrial, :gcsample), Tuple{Int64, Int64, Bool, Bool}}})",
      "    @ BenchmarkTools ~/.julia/packages/BenchmarkTools/7xSXH/src/execution.jl:99",
      "  [6] #invokelatest#2",
      "    @ ./essentials.jl:731 [inlined]",
      "  [7] #run_result#45",
      "    @ ~/.julia/packages/BenchmarkTools/7xSXH/src/execution.jl:34 [inlined]",
      "  [8] run(b::BenchmarkTools.Benchmark, p::BenchmarkTools.Parameters; progressid::Nothing, nleaves::Float64, ndone::Float64, kwargs::Base.Pairs{Symbol, Integer, NTuple{5, Symbol}, NamedTuple{(:verbose, :samples, :evals, :gctrial, :gcsample), Tuple{Bool, Int64, Int64, Bool, Bool}}})",
      "    @ BenchmarkTools ~/.julia/packages/BenchmarkTools/7xSXH/src/execution.jl:117",
      "  [9] #warmup#54",
      "    @ ~/.julia/packages/BenchmarkTools/7xSXH/src/execution.jl:169 [inlined]",
      " [10] warmup(item::BenchmarkTools.Benchmark)",
      "    @ BenchmarkTools ~/.julia/packages/BenchmarkTools/7xSXH/src/execution.jl:168",
      " [11] top-level scope",
      "    @ ~/.julia/packages/BenchmarkTools/7xSXH/src/execution.jl:393",
      " [12] eval",
      "    @ ./boot.jl:368 [inlined]",
      " [13] include_string(mapexpr::typeof(REPL.softscope), mod::Module, code::String, filename::String)",
      "    @ Base ./loading.jl:1428"
     ]
    }
   ],
   "source": [
    "b = @benchmark scan_perms_threads12(pheno_y, geno, kinship; reml = false, nperms = 1024, rndseed = 0, original = true, option = \"by blocks\", nblocks = 120)"
   ]
  },
  {
   "cell_type": "code",
   "execution_count": 24,
   "id": "b302e0ab-3a90-447b-b4a3-752f918ec0f5",
   "metadata": {},
   "outputs": [
    {
     "ename": "LoadError",
     "evalue": "UndefVarError: b not defined",
     "output_type": "error",
     "traceback": [
      "UndefVarError: b not defined",
      "",
      "Stacktrace:",
      " [1] top-level scope",
      "   @ In[24]:1",
      " [2] eval",
      "   @ ./boot.jl:368 [inlined]",
      " [3] include_string(mapexpr::typeof(REPL.softscope), mod::Module, code::String, filename::String)",
      "   @ Base ./loading.jl:1428"
     ]
    }
   ],
   "source": [
    "b.times"
   ]
  },
  {
   "cell_type": "code",
   "execution_count": 25,
   "id": "1dbe3f05-b084-4d15-82e2-81294a4a92b5",
   "metadata": {},
   "outputs": [
    {
     "ename": "LoadError",
     "evalue": "UndefVarError: b not defined",
     "output_type": "error",
     "traceback": [
      "UndefVarError: b not defined",
      "",
      "Stacktrace:",
      " [1] top-level scope",
      "   @ In[25]:1",
      " [2] eval",
      "   @ ./boot.jl:368 [inlined]",
      " [3] include_string(mapexpr::typeof(REPL.softscope), mod::Module, code::String, filename::String)",
      "   @ Base ./loading.jl:1428"
     ]
    }
   ],
   "source": [
    "median(b.times)"
   ]
  },
  {
   "cell_type": "code",
   "execution_count": 26,
   "id": "07b83458-47ed-4506-b537-f45766fa001f",
   "metadata": {},
   "outputs": [],
   "source": [
    "runtimes_tmap = Array{Float64, 1}(undef, 10);"
   ]
  },
  {
   "cell_type": "code",
   "execution_count": 43,
   "id": "6ae208d0-7e5d-4ed6-b057-fa4fdb359126",
   "metadata": {},
   "outputs": [],
   "source": [
    "for t in 1:10\n",
    "    \n",
    "    b = @benchmark scan_perms_threads12(pheno_y, geno, kinship; reml = false, nperms = 1024, rndseed = 0, original = true, option = \"by blocks\", nblocks = 120)\n",
    "    runtimes_tmap[t] = mean(b.times)\n",
    "    \n",
    "end"
   ]
  },
  {
   "cell_type": "code",
   "execution_count": 56,
   "id": "148e7414-6f06-4d9e-bab1-45cacd2f4eb9",
   "metadata": {},
   "outputs": [
    {
     "data": {
      "text/plain": [
       "10-element Vector{Float64}:\n",
       " 5.591043052222222e8\n",
       " 5.598697161111112e8\n",
       " 5.516050436e8\n",
       " 5.899172702222222e8\n",
       " 5.774236751111112e8\n",
       " 5.826831521111112e8\n",
       " 5.147052465e8\n",
       " 5.524582602e8\n",
       " 5.436127193e8\n",
       " 5.334789712e8"
      ]
     },
     "execution_count": 56,
     "metadata": {},
     "output_type": "execute_result"
    }
   ],
   "source": [
    "runtimes_tmap"
   ]
  },
  {
   "cell_type": "code",
   "execution_count": 57,
   "id": "0b3219f7-cfc6-46ff-9729-bb2fda7824e7",
   "metadata": {},
   "outputs": [
    {
     "data": {
      "text/plain": [
       "0.5564858359577778"
      ]
     },
     "execution_count": 57,
     "metadata": {},
     "output_type": "execute_result"
    }
   ],
   "source": [
    "mean(runtimes_tmap)/1e9"
   ]
  },
  {
   "cell_type": "code",
   "execution_count": 60,
   "id": "2303cc4e-2e1c-4aca-a6f8-170a70c83650",
   "metadata": {},
   "outputs": [],
   "source": [
    "runtimes_tloops = Array{Float64, 1}(undef, 10);"
   ]
  },
  {
   "cell_type": "code",
   "execution_count": 61,
   "id": "f8756511-42ad-4ee7-9b97-740133c712f5",
   "metadata": {},
   "outputs": [],
   "source": [
    "for t in 1:10\n",
    "    \n",
    "    b_tloops = @benchmark scan_perms_threads(pheno_y, geno, kinship; reml = false, nperms = 1024, rndseed = 0, original = true)\n",
    "    runtimes_tloops[t] = median(b_tloops.times)\n",
    "    \n",
    "end"
   ]
  },
  {
   "cell_type": "code",
   "execution_count": 62,
   "id": "5b8cd49d-a174-4ba3-a442-c716adff0218",
   "metadata": {},
   "outputs": [
    {
     "data": {
      "text/plain": [
       "0.63325012635"
      ]
     },
     "execution_count": 62,
     "metadata": {},
     "output_type": "execute_result"
    }
   ],
   "source": [
    "mean(runtimes_tloops)/1e9"
   ]
  },
  {
   "cell_type": "code",
   "execution_count": 63,
   "id": "e556c158-6797-4f87-89fb-e74608a71c3c",
   "metadata": {},
   "outputs": [
    {
     "data": {
      "text/plain": [
       "16"
      ]
     },
     "execution_count": 63,
     "metadata": {},
     "output_type": "execute_result"
    }
   ],
   "source": [
    "nthreads()"
   ]
  },
  {
   "cell_type": "code",
   "execution_count": 64,
   "id": "2c328e4e-f016-4842-ac81-f62ffc54f49a",
   "metadata": {},
   "outputs": [
    {
     "data": {
      "text/plain": [
       "2"
      ]
     },
     "execution_count": 64,
     "metadata": {},
     "output_type": "execute_result"
    }
   ],
   "source": [
    "BLAS.get_num_threads()"
   ]
  },
  {
   "cell_type": "code",
   "execution_count": 66,
   "id": "3ba191de-b76b-4e8c-819a-7cd8df7fcb45",
   "metadata": {},
   "outputs": [
    {
     "name": "stdout",
     "output_type": "stream",
     "text": [
      "  0.708999 seconds (77.70 k allocations: 13.675 GiB, 31.67% gc time)\n"
     ]
    }
   ],
   "source": [
    "@time tmap_LODs = scan_perms_threads12(pheno_y, geno, kinship; reml = false, nperms = 1024, rndseed = 0, original = true, option = \"by blocks\", nblocks = 150);"
   ]
  },
  {
   "cell_type": "code",
   "execution_count": 29,
   "id": "f9268584-ef34-460f-86c4-430a301db1f2",
   "metadata": {},
   "outputs": [],
   "source": [
    "BLAS.set_num_threads(4)"
   ]
  },
  {
   "cell_type": "code",
   "execution_count": 30,
   "id": "f6018135-ba8a-4656-b1e6-e8e46f611216",
   "metadata": {},
   "outputs": [
    {
     "name": "stdout",
     "output_type": "stream",
     "text": [
      "  0.021720 seconds (72.62 k allocations: 39.878 MiB)\n"
     ]
    }
   ],
   "source": [
    "@time tloops_LODs = scan_perms_threads(pheno_y, geno, kinship; nperms = 0, rndseed = 0, reml = false, original = true);"
   ]
  },
  {
   "cell_type": "code",
   "execution_count": 68,
   "id": "552bba55-1580-4205-889c-74b84c8ec934",
   "metadata": {},
   "outputs": [
    {
     "data": {
      "text/plain": [
       "0.0"
      ]
     },
     "execution_count": 68,
     "metadata": {},
     "output_type": "execute_result"
    }
   ],
   "source": [
    "sumSqDiff(tmap_LODs, tloops_LODs)"
   ]
  },
  {
   "cell_type": "code",
   "execution_count": null,
   "id": "c38131ec-187f-4339-9632-b6d3d23017b0",
   "metadata": {},
   "outputs": [],
   "source": []
  }
 ],
 "metadata": {
  "kernelspec": {
   "display_name": "Julia 1.8.2",
   "language": "julia",
   "name": "julia-1.8"
  },
  "language_info": {
   "file_extension": ".jl",
   "mimetype": "application/julia",
   "name": "julia",
   "version": "1.8.2"
  }
 },
 "nbformat": 4,
 "nbformat_minor": 5
}
