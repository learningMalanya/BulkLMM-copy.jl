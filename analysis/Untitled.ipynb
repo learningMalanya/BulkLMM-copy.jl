{
 "cells": [
  {
   "cell_type": "code",
   "execution_count": 1,
   "id": "40e445b9-2cc9-425d-b58b-702d7a82ac45",
   "metadata": {},
   "outputs": [],
   "source": [
    "using Pkg\n",
    "# Pkg.add(\"Profile\")\n",
    "# Pkg.instantiate()"
   ]
  },
  {
   "cell_type": "code",
   "execution_count": 2,
   "id": "140ca48f-88a6-4046-aab9-c17d5f76757b",
   "metadata": {},
   "outputs": [],
   "source": [
    "using DelimitedFiles\n",
    "using LinearAlgebra\n",
    "using Optim\n",
    "using Distributions\n",
    "using Test\n",
    "using BenchmarkTools\n",
    "using Random\n",
    "using CSV\n",
    "using DataFrames\n",
    "using Plots\n",
    "using Profile"
   ]
  },
  {
   "cell_type": "code",
   "execution_count": 26,
   "id": "dae45981-6883-41f1-b6bb-7fe98d6f0bba",
   "metadata": {},
   "outputs": [],
   "source": [
    "X = rand(MersenneTwister(0), 20, 20);\n",
    "M = X'X;"
   ]
  },
  {
   "cell_type": "code",
   "execution_count": 33,
   "id": "bb875a4e-ffcc-4f66-9b33-30cb4f2be547",
   "metadata": {},
   "outputs": [],
   "source": [
    "loops_vecs = eigen(M).vectors;\n",
    "\n",
    "for i in 2:10\n",
    "    loops_vecs = hcat(loops_vecs, eigen(M).vectors)\n",
    "end\n"
   ]
  },
  {
   "cell_type": "code",
   "execution_count": 19,
   "id": "82891f22-b2d9-471c-8215-e9cea6ccb716",
   "metadata": {},
   "outputs": [],
   "source": [
    "using Distributed"
   ]
  },
  {
   "cell_type": "code",
   "execution_count": 20,
   "id": "0f7cfbbd-ba82-41c6-8516-adc4f1a5f863",
   "metadata": {},
   "outputs": [],
   "source": [
    "# addprocs(5);"
   ]
  },
  {
   "cell_type": "code",
   "execution_count": 21,
   "id": "c25c0baa-40ca-4b1a-b809-b922d243daa4",
   "metadata": {},
   "outputs": [
    {
     "data": {
      "text/plain": [
       "6-element Vector{Int64}:\n",
       " 1\n",
       " 2\n",
       " 3\n",
       " 4\n",
       " 5\n",
       " 6"
      ]
     },
     "execution_count": 21,
     "metadata": {},
     "output_type": "execute_result"
    }
   ],
   "source": [
    "procs()"
   ]
  },
  {
   "cell_type": "code",
   "execution_count": 28,
   "id": "ee4ee606-6f28-414e-b786-7696322591e2",
   "metadata": {},
   "outputs": [],
   "source": [
    "@everywhere begin\n",
    "    \n",
    "    using LinearAlgebra\n",
    "    using Random\n",
    "    \n",
    "    X = rand(MersenneTwister(0), 20, 20);\n",
    "    M = X'X\n",
    "    \n",
    "end"
   ]
  },
  {
   "cell_type": "code",
   "execution_count": 29,
   "id": "0f7669c5-ee6a-44fa-b139-c79190541112",
   "metadata": {},
   "outputs": [
    {
     "data": {
      "text/plain": [
       "20×200 Matrix{Float64}:\n",
       " -0.0353771  -0.0958316  -0.0236553  …   0.473661    0.309426    -0.227359\n",
       " -0.203822   -0.20792    -0.172318       0.109282    0.196374    -0.199787\n",
       " -0.201056    0.353816   -0.0420359      0.263805    0.013552    -0.23134\n",
       "  0.202497    0.421428    0.30386       -0.0807621  -0.187058    -0.227973\n",
       " -0.425513   -0.233271    0.279336       0.0888074  -0.4666      -0.246013\n",
       "  0.249638    0.295531    0.0851028  …   0.0995804   0.103077    -0.212813\n",
       " -0.11484    -0.0480769  -0.325159       0.223512   -0.42657     -0.231725\n",
       "  0.247492   -0.386301   -0.0332637     -0.198539   -0.0262969   -0.229437\n",
       "  0.0789209   0.121699    0.0319043     -0.0422994   0.0685429   -0.18503\n",
       " -0.18261    -0.151134    0.482018      -0.0853335   0.3917      -0.24011\n",
       " -0.170565    0.152831    0.285017   …   0.117568   -0.0573637   -0.264104\n",
       " -0.150028   -0.134997   -0.076598      -0.204851    0.268046    -0.233493\n",
       "  0.380867    0.0955223  -0.0363359      0.0479955  -0.0978179   -0.154466\n",
       "  0.231873    0.0574518  -0.274815       0.18478     0.154646    -0.211573\n",
       "  0.268003   -0.346052   -0.0103139      0.266513   -0.234349    -0.173853\n",
       " -0.196792    0.274774   -0.127992   …  -0.224802    0.0438327   -0.168325\n",
       " -0.0412559   0.151374   -0.206255      -0.255087   -0.204972    -0.232733\n",
       " -0.16498    -0.0125266  -0.317019      -0.467768    0.00507332  -0.244347\n",
       "  0.346007   -0.197935    0.286839      -0.270315   -0.0959718   -0.238257\n",
       "  0.0936005  -0.0484021  -0.210787       0.0243308   0.211388    -0.277086"
      ]
     },
     "execution_count": 29,
     "metadata": {},
     "output_type": "execute_result"
    }
   ],
   "source": [
    "dist_loops_vecs = @distributed (hcat) for i in 1:10\n",
    "    \n",
    "    eigen(M).vectors\n",
    "    \n",
    "end\n",
    "    "
   ]
  },
  {
   "cell_type": "code",
   "execution_count": 34,
   "id": "b9d25dac-7d5a-4573-ba1f-fa8c63c5db59",
   "metadata": {},
   "outputs": [
    {
     "data": {
      "text/plain": [
       "20×200 Matrix{Float64}:\n",
       "  0.0353771  -0.0958316  -0.0236553  …   0.473661    0.309426    -0.227359\n",
       "  0.203822   -0.20792    -0.172318       0.109282    0.196374    -0.199787\n",
       "  0.201056    0.353816   -0.0420359      0.263805    0.013552    -0.23134\n",
       " -0.202497    0.421428    0.30386       -0.0807621  -0.187058    -0.227973\n",
       "  0.425513   -0.233271    0.279336       0.0888074  -0.4666      -0.246013\n",
       " -0.249638    0.295531    0.0851028  …   0.0995804   0.103077    -0.212813\n",
       "  0.11484    -0.0480769  -0.325159       0.223512   -0.42657     -0.231725\n",
       " -0.247492   -0.386301   -0.0332637     -0.198539   -0.0262969   -0.229437\n",
       " -0.0789209   0.121699    0.0319043     -0.0422994   0.0685429   -0.18503\n",
       "  0.18261    -0.151134    0.482018      -0.0853335   0.3917      -0.24011\n",
       "  0.170565    0.152831    0.285017   …   0.117568   -0.0573637   -0.264104\n",
       "  0.150028   -0.134997   -0.076598      -0.204851    0.268046    -0.233493\n",
       " -0.380867    0.0955223  -0.0363359      0.0479955  -0.0978179   -0.154466\n",
       " -0.231873    0.0574518  -0.274815       0.18478     0.154646    -0.211573\n",
       " -0.268003   -0.346052   -0.0103139      0.266513   -0.234349    -0.173853\n",
       "  0.196792    0.274774   -0.127992   …  -0.224802    0.0438327   -0.168325\n",
       "  0.0412559   0.151374   -0.206255      -0.255087   -0.204972    -0.232733\n",
       "  0.16498    -0.0125266  -0.317019      -0.467768    0.00507332  -0.244347\n",
       " -0.346007   -0.197935    0.286839      -0.270315   -0.0959718   -0.238257\n",
       " -0.0936005  -0.0484021  -0.210787       0.0243308   0.211388    -0.277086"
      ]
     },
     "execution_count": 34,
     "metadata": {},
     "output_type": "execute_result"
    }
   ],
   "source": [
    "loops_vecs"
   ]
  },
  {
   "cell_type": "code",
   "execution_count": 68,
   "id": "21e2e686-1ec0-43f6-9669-0de6b1eceab6",
   "metadata": {},
   "outputs": [
    {
     "data": {
      "image/svg+xml": [
       "<?xml version=\"1.0\" encoding=\"utf-8\"?>\n",
       "<svg xmlns=\"http://www.w3.org/2000/svg\" xmlns:xlink=\"http://www.w3.org/1999/xlink\" width=\"600\" height=\"400\" viewBox=\"0 0 2400 1600\">\n",
       "<defs>\n",
       "  <clipPath id=\"clip130\">\n",
       "    <rect x=\"0\" y=\"0\" width=\"2400\" height=\"1600\"/>\n",
       "  </clipPath>\n",
       "</defs>\n",
       "<path clip-path=\"url(#clip130)\" d=\"\n",
       "M0 1600 L2400 1600 L2400 0 L0 0  Z\n",
       "  \" fill=\"#ffffff\" fill-rule=\"evenodd\" fill-opacity=\"1\"/>\n",
       "<defs>\n",
       "  <clipPath id=\"clip131\">\n",
       "    <rect x=\"480\" y=\"0\" width=\"1681\" height=\"1600\"/>\n",
       "  </clipPath>\n",
       "</defs>\n",
       "<path clip-path=\"url(#clip130)\" d=\"\n",
       "M194.422 1486.45 L2352.76 1486.45 L2352.76 47.2441 L194.422 47.2441  Z\n",
       "  \" fill=\"#ffffff\" fill-rule=\"evenodd\" fill-opacity=\"1\"/>\n",
       "<defs>\n",
       "  <clipPath id=\"clip132\">\n",
       "    <rect x=\"194\" y=\"47\" width=\"2159\" height=\"1440\"/>\n",
       "  </clipPath>\n",
       "</defs>\n",
       "<polyline clip-path=\"url(#clip132)\" style=\"stroke:#000000; stroke-linecap:butt; stroke-linejoin:round; stroke-width:2; stroke-opacity:0.1; fill:none\" points=\"\n",
       "  684.173,1486.45 684.173,47.2441 \n",
       "  \"/>\n",
       "<polyline clip-path=\"url(#clip132)\" style=\"stroke:#000000; stroke-linecap:butt; stroke-linejoin:round; stroke-width:2; stroke-opacity:0.1; fill:none\" points=\"\n",
       "  1220.01,1486.45 1220.01,47.2441 \n",
       "  \"/>\n",
       "<polyline clip-path=\"url(#clip132)\" style=\"stroke:#000000; stroke-linecap:butt; stroke-linejoin:round; stroke-width:2; stroke-opacity:0.1; fill:none\" points=\"\n",
       "  1755.84,1486.45 1755.84,47.2441 \n",
       "  \"/>\n",
       "<polyline clip-path=\"url(#clip132)\" style=\"stroke:#000000; stroke-linecap:butt; stroke-linejoin:round; stroke-width:2; stroke-opacity:0.1; fill:none\" points=\"\n",
       "  2291.67,1486.45 2291.67,47.2441 \n",
       "  \"/>\n",
       "<polyline clip-path=\"url(#clip130)\" style=\"stroke:#000000; stroke-linecap:butt; stroke-linejoin:round; stroke-width:4; stroke-opacity:1; fill:none\" points=\"\n",
       "  194.422,1486.45 2352.76,1486.45 \n",
       "  \"/>\n",
       "<polyline clip-path=\"url(#clip130)\" style=\"stroke:#000000; stroke-linecap:butt; stroke-linejoin:round; stroke-width:4; stroke-opacity:1; fill:none\" points=\"\n",
       "  684.173,1486.45 684.173,1467.55 \n",
       "  \"/>\n",
       "<polyline clip-path=\"url(#clip130)\" style=\"stroke:#000000; stroke-linecap:butt; stroke-linejoin:round; stroke-width:4; stroke-opacity:1; fill:none\" points=\"\n",
       "  1220.01,1486.45 1220.01,1467.55 \n",
       "  \"/>\n",
       "<polyline clip-path=\"url(#clip130)\" style=\"stroke:#000000; stroke-linecap:butt; stroke-linejoin:round; stroke-width:4; stroke-opacity:1; fill:none\" points=\"\n",
       "  1755.84,1486.45 1755.84,1467.55 \n",
       "  \"/>\n",
       "<polyline clip-path=\"url(#clip130)\" style=\"stroke:#000000; stroke-linecap:butt; stroke-linejoin:round; stroke-width:4; stroke-opacity:1; fill:none\" points=\"\n",
       "  2291.67,1486.45 2291.67,1467.55 \n",
       "  \"/>\n",
       "<path clip-path=\"url(#clip130)\" d=\"M674.451 1512.56 L692.807 1512.56 L692.807 1516.5 L678.733 1516.5 L678.733 1524.97 Q679.752 1524.62 680.77 1524.46 Q681.789 1524.27 682.807 1524.27 Q688.594 1524.27 691.974 1527.44 Q695.354 1530.62 695.354 1536.03 Q695.354 1541.61 691.881 1544.71 Q688.409 1547.79 682.09 1547.79 Q679.914 1547.79 677.645 1547.42 Q675.4 1547.05 672.993 1546.31 L672.993 1541.61 Q675.076 1542.74 677.298 1543.3 Q679.52 1543.86 681.997 1543.86 Q686.002 1543.86 688.34 1541.75 Q690.678 1539.64 690.678 1536.03 Q690.678 1532.42 688.34 1530.31 Q686.002 1528.21 681.997 1528.21 Q680.122 1528.21 678.247 1528.62 Q676.395 1529.04 674.451 1529.92 L674.451 1512.56 Z\" fill=\"#000000\" fill-rule=\"evenodd\" fill-opacity=\"1\" /><path clip-path=\"url(#clip130)\" d=\"M1194.69 1543.18 L1202.33 1543.18 L1202.33 1516.82 L1194.02 1518.49 L1194.02 1514.23 L1202.29 1512.56 L1206.96 1512.56 L1206.96 1543.18 L1214.6 1543.18 L1214.6 1547.12 L1194.69 1547.12 L1194.69 1543.18 Z\" fill=\"#000000\" fill-rule=\"evenodd\" fill-opacity=\"1\" /><path clip-path=\"url(#clip130)\" d=\"M1234.05 1515.64 Q1230.43 1515.64 1228.61 1519.2 Q1226.8 1522.75 1226.8 1529.87 Q1226.8 1536.98 1228.61 1540.55 Q1230.43 1544.09 1234.05 1544.09 Q1237.68 1544.09 1239.48 1540.55 Q1241.31 1536.98 1241.31 1529.87 Q1241.31 1522.75 1239.48 1519.2 Q1237.68 1515.64 1234.05 1515.64 M1234.05 1511.93 Q1239.86 1511.93 1242.91 1516.54 Q1245.99 1521.12 1245.99 1529.87 Q1245.99 1538.6 1242.91 1543.21 Q1239.86 1547.79 1234.05 1547.79 Q1228.23 1547.79 1225.16 1543.21 Q1222.1 1538.6 1222.1 1529.87 Q1222.1 1521.12 1225.16 1516.54 Q1228.23 1511.93 1234.05 1511.93 Z\" fill=\"#000000\" fill-rule=\"evenodd\" fill-opacity=\"1\" /><path clip-path=\"url(#clip130)\" d=\"M1731.02 1543.18 L1738.66 1543.18 L1738.66 1516.82 L1730.35 1518.49 L1730.35 1514.23 L1738.62 1512.56 L1743.29 1512.56 L1743.29 1543.18 L1750.93 1543.18 L1750.93 1547.12 L1731.02 1547.12 L1731.02 1543.18 Z\" fill=\"#000000\" fill-rule=\"evenodd\" fill-opacity=\"1\" /><path clip-path=\"url(#clip130)\" d=\"M1760.42 1512.56 L1778.78 1512.56 L1778.78 1516.5 L1764.7 1516.5 L1764.7 1524.97 Q1765.72 1524.62 1766.74 1524.46 Q1767.76 1524.27 1768.78 1524.27 Q1774.57 1524.27 1777.94 1527.44 Q1781.32 1530.62 1781.32 1536.03 Q1781.32 1541.61 1777.85 1544.71 Q1774.38 1547.79 1768.06 1547.79 Q1765.88 1547.79 1763.62 1547.42 Q1761.37 1547.05 1758.96 1546.31 L1758.96 1541.61 Q1761.05 1542.74 1763.27 1543.3 Q1765.49 1543.86 1767.97 1543.86 Q1771.97 1543.86 1774.31 1541.75 Q1776.65 1539.64 1776.65 1536.03 Q1776.65 1532.42 1774.31 1530.31 Q1771.97 1528.21 1767.97 1528.21 Q1766.09 1528.21 1764.22 1528.62 Q1762.37 1529.04 1760.42 1529.92 L1760.42 1512.56 Z\" fill=\"#000000\" fill-rule=\"evenodd\" fill-opacity=\"1\" /><path clip-path=\"url(#clip130)\" d=\"M2270.44 1543.18 L2286.76 1543.18 L2286.76 1547.12 L2264.82 1547.12 L2264.82 1543.18 Q2267.48 1540.43 2272.06 1535.8 Q2276.67 1531.15 2277.85 1529.81 Q2280.1 1527.28 2280.98 1525.55 Q2281.88 1523.79 2281.88 1522.1 Q2281.88 1519.34 2279.93 1517.61 Q2278.01 1515.87 2274.91 1515.87 Q2272.71 1515.87 2270.26 1516.63 Q2267.83 1517.4 2265.05 1518.95 L2265.05 1514.23 Q2267.87 1513.09 2270.33 1512.51 Q2272.78 1511.93 2274.82 1511.93 Q2280.19 1511.93 2283.38 1514.62 Q2286.58 1517.31 2286.58 1521.8 Q2286.58 1523.93 2285.77 1525.85 Q2284.98 1527.74 2282.87 1530.34 Q2282.3 1531.01 2279.19 1534.23 Q2276.09 1537.42 2270.44 1543.18 Z\" fill=\"#000000\" fill-rule=\"evenodd\" fill-opacity=\"1\" /><path clip-path=\"url(#clip130)\" d=\"M2306.58 1515.64 Q2302.97 1515.64 2301.14 1519.2 Q2299.33 1522.75 2299.33 1529.87 Q2299.33 1536.98 2301.14 1540.55 Q2302.97 1544.09 2306.58 1544.09 Q2310.21 1544.09 2312.02 1540.55 Q2313.85 1536.98 2313.85 1529.87 Q2313.85 1522.75 2312.02 1519.2 Q2310.21 1515.64 2306.58 1515.64 M2306.58 1511.93 Q2312.39 1511.93 2315.44 1516.54 Q2318.52 1521.12 2318.52 1529.87 Q2318.52 1538.6 2315.44 1543.21 Q2312.39 1547.79 2306.58 1547.79 Q2300.77 1547.79 2297.69 1543.21 Q2294.63 1538.6 2294.63 1529.87 Q2294.63 1521.12 2297.69 1516.54 Q2300.77 1511.93 2306.58 1511.93 Z\" fill=\"#000000\" fill-rule=\"evenodd\" fill-opacity=\"1\" /><polyline clip-path=\"url(#clip132)\" style=\"stroke:#000000; stroke-linecap:butt; stroke-linejoin:round; stroke-width:2; stroke-opacity:0.1; fill:none\" points=\"\n",
       "  194.422,1405.01 2352.76,1405.01 \n",
       "  \"/>\n",
       "<polyline clip-path=\"url(#clip132)\" style=\"stroke:#000000; stroke-linecap:butt; stroke-linejoin:round; stroke-width:2; stroke-opacity:0.1; fill:none\" points=\"\n",
       "  194.422,1085.93 2352.76,1085.93 \n",
       "  \"/>\n",
       "<polyline clip-path=\"url(#clip132)\" style=\"stroke:#000000; stroke-linecap:butt; stroke-linejoin:round; stroke-width:2; stroke-opacity:0.1; fill:none\" points=\"\n",
       "  194.422,766.846 2352.76,766.846 \n",
       "  \"/>\n",
       "<polyline clip-path=\"url(#clip132)\" style=\"stroke:#000000; stroke-linecap:butt; stroke-linejoin:round; stroke-width:2; stroke-opacity:0.1; fill:none\" points=\"\n",
       "  194.422,447.763 2352.76,447.763 \n",
       "  \"/>\n",
       "<polyline clip-path=\"url(#clip132)\" style=\"stroke:#000000; stroke-linecap:butt; stroke-linejoin:round; stroke-width:2; stroke-opacity:0.1; fill:none\" points=\"\n",
       "  194.422,128.681 2352.76,128.681 \n",
       "  \"/>\n",
       "<polyline clip-path=\"url(#clip130)\" style=\"stroke:#000000; stroke-linecap:butt; stroke-linejoin:round; stroke-width:4; stroke-opacity:1; fill:none\" points=\"\n",
       "  194.422,1486.45 194.422,47.2441 \n",
       "  \"/>\n",
       "<polyline clip-path=\"url(#clip130)\" style=\"stroke:#000000; stroke-linecap:butt; stroke-linejoin:round; stroke-width:4; stroke-opacity:1; fill:none\" points=\"\n",
       "  194.422,1405.01 213.32,1405.01 \n",
       "  \"/>\n",
       "<polyline clip-path=\"url(#clip130)\" style=\"stroke:#000000; stroke-linecap:butt; stroke-linejoin:round; stroke-width:4; stroke-opacity:1; fill:none\" points=\"\n",
       "  194.422,1085.93 213.32,1085.93 \n",
       "  \"/>\n",
       "<polyline clip-path=\"url(#clip130)\" style=\"stroke:#000000; stroke-linecap:butt; stroke-linejoin:round; stroke-width:4; stroke-opacity:1; fill:none\" points=\"\n",
       "  194.422,766.846 213.32,766.846 \n",
       "  \"/>\n",
       "<polyline clip-path=\"url(#clip130)\" style=\"stroke:#000000; stroke-linecap:butt; stroke-linejoin:round; stroke-width:4; stroke-opacity:1; fill:none\" points=\"\n",
       "  194.422,447.763 213.32,447.763 \n",
       "  \"/>\n",
       "<polyline clip-path=\"url(#clip130)\" style=\"stroke:#000000; stroke-linecap:butt; stroke-linejoin:round; stroke-width:4; stroke-opacity:1; fill:none\" points=\"\n",
       "  194.422,128.681 213.32,128.681 \n",
       "  \"/>\n",
       "<path clip-path=\"url(#clip130)\" d=\"M50.9921 1405.46 L80.6679 1405.46 L80.6679 1409.4 L50.9921 1409.4 L50.9921 1405.46 Z\" fill=\"#000000\" fill-rule=\"evenodd\" fill-opacity=\"1\" /><path clip-path=\"url(#clip130)\" d=\"M100.76 1390.81 Q97.1493 1390.81 95.3206 1394.37 Q93.515 1397.92 93.515 1405.05 Q93.515 1412.15 95.3206 1415.72 Q97.1493 1419.26 100.76 1419.26 Q104.395 1419.26 106.2 1415.72 Q108.029 1412.15 108.029 1405.05 Q108.029 1397.92 106.2 1394.37 Q104.395 1390.81 100.76 1390.81 M100.76 1387.11 Q106.571 1387.11 109.626 1391.71 Q112.705 1396.3 112.705 1405.05 Q112.705 1413.77 109.626 1418.38 Q106.571 1422.96 100.76 1422.96 Q94.9502 1422.96 91.8715 1418.38 Q88.816 1413.77 88.816 1405.05 Q88.816 1396.3 91.8715 1391.71 Q94.9502 1387.11 100.76 1387.11 Z\" fill=\"#000000\" fill-rule=\"evenodd\" fill-opacity=\"1\" /><path clip-path=\"url(#clip130)\" d=\"M120.922 1416.41 L125.807 1416.41 L125.807 1422.29 L120.922 1422.29 L120.922 1416.41 Z\" fill=\"#000000\" fill-rule=\"evenodd\" fill-opacity=\"1\" /><path clip-path=\"url(#clip130)\" d=\"M148.839 1391.81 L137.033 1410.25 L148.839 1410.25 L148.839 1391.81 M147.612 1387.73 L153.492 1387.73 L153.492 1410.25 L158.422 1410.25 L158.422 1414.14 L153.492 1414.14 L153.492 1422.29 L148.839 1422.29 L148.839 1414.14 L133.237 1414.14 L133.237 1409.63 L147.612 1387.73 Z\" fill=\"#000000\" fill-rule=\"evenodd\" fill-opacity=\"1\" /><path clip-path=\"url(#clip130)\" d=\"M53.0754 1086.38 L82.7512 1086.38 L82.7512 1090.32 L53.0754 1090.32 L53.0754 1086.38 Z\" fill=\"#000000\" fill-rule=\"evenodd\" fill-opacity=\"1\" /><path clip-path=\"url(#clip130)\" d=\"M102.844 1071.73 Q99.2326 1071.73 97.4039 1075.29 Q95.5984 1078.83 95.5984 1085.96 Q95.5984 1093.07 97.4039 1096.63 Q99.2326 1100.18 102.844 1100.18 Q106.478 1100.18 108.283 1096.63 Q110.112 1093.07 110.112 1085.96 Q110.112 1078.83 108.283 1075.29 Q106.478 1071.73 102.844 1071.73 M102.844 1068.02 Q108.654 1068.02 111.709 1072.63 Q114.788 1077.21 114.788 1085.96 Q114.788 1094.69 111.709 1099.3 Q108.654 1103.88 102.844 1103.88 Q97.0335 1103.88 93.9549 1099.3 Q90.8993 1094.69 90.8993 1085.96 Q90.8993 1077.21 93.9549 1072.63 Q97.0335 1068.02 102.844 1068.02 Z\" fill=\"#000000\" fill-rule=\"evenodd\" fill-opacity=\"1\" /><path clip-path=\"url(#clip130)\" d=\"M123.006 1097.33 L127.89 1097.33 L127.89 1103.21 L123.006 1103.21 L123.006 1097.33 Z\" fill=\"#000000\" fill-rule=\"evenodd\" fill-opacity=\"1\" /><path clip-path=\"url(#clip130)\" d=\"M142.103 1099.27 L158.422 1099.27 L158.422 1103.21 L136.478 1103.21 L136.478 1099.27 Q139.14 1096.52 143.723 1091.89 Q148.33 1087.24 149.51 1085.89 Q151.755 1083.37 152.635 1081.63 Q153.538 1079.88 153.538 1078.19 Q153.538 1075.43 151.593 1073.69 Q149.672 1071.96 146.57 1071.96 Q144.371 1071.96 141.918 1072.72 Q139.487 1073.49 136.709 1075.04 L136.709 1070.32 Q139.533 1069.18 141.987 1068.6 Q144.441 1068.02 146.478 1068.02 Q151.848 1068.02 155.042 1070.71 Q158.237 1073.39 158.237 1077.88 Q158.237 1080.01 157.427 1081.94 Q156.64 1083.83 154.533 1086.43 Q153.955 1087.1 150.853 1090.32 Q147.751 1093.51 142.103 1099.27 Z\" fill=\"#000000\" fill-rule=\"evenodd\" fill-opacity=\"1\" /><path clip-path=\"url(#clip130)\" d=\"M101.246 752.645 Q97.6354 752.645 95.8067 756.209 Q94.0012 759.751 94.0012 766.881 Q94.0012 773.987 95.8067 777.552 Q97.6354 781.094 101.246 781.094 Q104.881 781.094 106.686 777.552 Q108.515 773.987 108.515 766.881 Q108.515 759.751 106.686 756.209 Q104.881 752.645 101.246 752.645 M101.246 748.941 Q107.057 748.941 110.112 753.547 Q113.191 758.131 113.191 766.881 Q113.191 775.608 110.112 780.214 Q107.057 784.797 101.246 784.797 Q95.4363 784.797 92.3576 780.214 Q89.3021 775.608 89.3021 766.881 Q89.3021 758.131 92.3576 753.547 Q95.4363 748.941 101.246 748.941 Z\" fill=\"#000000\" fill-rule=\"evenodd\" fill-opacity=\"1\" /><path clip-path=\"url(#clip130)\" d=\"M121.408 778.246 L126.293 778.246 L126.293 784.126 L121.408 784.126 L121.408 778.246 Z\" fill=\"#000000\" fill-rule=\"evenodd\" fill-opacity=\"1\" /><path clip-path=\"url(#clip130)\" d=\"M146.478 752.645 Q142.867 752.645 141.038 756.209 Q139.232 759.751 139.232 766.881 Q139.232 773.987 141.038 777.552 Q142.867 781.094 146.478 781.094 Q150.112 781.094 151.918 777.552 Q153.746 773.987 153.746 766.881 Q153.746 759.751 151.918 756.209 Q150.112 752.645 146.478 752.645 M146.478 748.941 Q152.288 748.941 155.343 753.547 Q158.422 758.131 158.422 766.881 Q158.422 775.608 155.343 780.214 Q152.288 784.797 146.478 784.797 Q140.668 784.797 137.589 780.214 Q134.533 775.608 134.533 766.881 Q134.533 758.131 137.589 753.547 Q140.668 748.941 146.478 748.941 Z\" fill=\"#000000\" fill-rule=\"evenodd\" fill-opacity=\"1\" /><path clip-path=\"url(#clip130)\" d=\"M102.844 433.562 Q99.2326 433.562 97.4039 437.127 Q95.5984 440.668 95.5984 447.798 Q95.5984 454.904 97.4039 458.469 Q99.2326 462.011 102.844 462.011 Q106.478 462.011 108.283 458.469 Q110.112 454.904 110.112 447.798 Q110.112 440.668 108.283 437.127 Q106.478 433.562 102.844 433.562 M102.844 429.858 Q108.654 429.858 111.709 434.465 Q114.788 439.048 114.788 447.798 Q114.788 456.525 111.709 461.131 Q108.654 465.715 102.844 465.715 Q97.0335 465.715 93.9549 461.131 Q90.8993 456.525 90.8993 447.798 Q90.8993 439.048 93.9549 434.465 Q97.0335 429.858 102.844 429.858 Z\" fill=\"#000000\" fill-rule=\"evenodd\" fill-opacity=\"1\" /><path clip-path=\"url(#clip130)\" d=\"M123.006 459.164 L127.89 459.164 L127.89 465.043 L123.006 465.043 L123.006 459.164 Z\" fill=\"#000000\" fill-rule=\"evenodd\" fill-opacity=\"1\" /><path clip-path=\"url(#clip130)\" d=\"M142.103 461.108 L158.422 461.108 L158.422 465.043 L136.478 465.043 L136.478 461.108 Q139.14 458.353 143.723 453.724 Q148.33 449.071 149.51 447.729 Q151.755 445.205 152.635 443.469 Q153.538 441.71 153.538 440.02 Q153.538 437.266 151.593 435.53 Q149.672 433.793 146.57 433.793 Q144.371 433.793 141.918 434.557 Q139.487 435.321 136.709 436.872 L136.709 432.15 Q139.533 431.016 141.987 430.437 Q144.441 429.858 146.478 429.858 Q151.848 429.858 155.042 432.543 Q158.237 435.229 158.237 439.719 Q158.237 441.849 157.427 443.77 Q156.64 445.668 154.533 448.261 Q153.955 448.932 150.853 452.15 Q147.751 455.344 142.103 461.108 Z\" fill=\"#000000\" fill-rule=\"evenodd\" fill-opacity=\"1\" /><path clip-path=\"url(#clip130)\" d=\"M100.76 114.479 Q97.1493 114.479 95.3206 118.044 Q93.515 121.586 93.515 128.715 Q93.515 135.822 95.3206 139.386 Q97.1493 142.928 100.76 142.928 Q104.395 142.928 106.2 139.386 Q108.029 135.822 108.029 128.715 Q108.029 121.586 106.2 118.044 Q104.395 114.479 100.76 114.479 M100.76 110.776 Q106.571 110.776 109.626 115.382 Q112.705 119.965 112.705 128.715 Q112.705 137.442 109.626 142.048 Q106.571 146.632 100.76 146.632 Q94.9502 146.632 91.8715 142.048 Q88.816 137.442 88.816 128.715 Q88.816 119.965 91.8715 115.382 Q94.9502 110.776 100.76 110.776 Z\" fill=\"#000000\" fill-rule=\"evenodd\" fill-opacity=\"1\" /><path clip-path=\"url(#clip130)\" d=\"M120.922 140.081 L125.807 140.081 L125.807 145.961 L120.922 145.961 L120.922 140.081 Z\" fill=\"#000000\" fill-rule=\"evenodd\" fill-opacity=\"1\" /><path clip-path=\"url(#clip130)\" d=\"M148.839 115.475 L137.033 133.924 L148.839 133.924 L148.839 115.475 M147.612 111.401 L153.492 111.401 L153.492 133.924 L158.422 133.924 L158.422 137.812 L153.492 137.812 L153.492 145.961 L148.839 145.961 L148.839 137.812 L133.237 137.812 L133.237 133.299 L147.612 111.401 Z\" fill=\"#000000\" fill-rule=\"evenodd\" fill-opacity=\"1\" /><circle clip-path=\"url(#clip132)\" cx=\"255.507\" cy=\"710.405\" r=\"14\" fill=\"#009af9\" fill-rule=\"evenodd\" fill-opacity=\"1\" stroke=\"#000000\" stroke-opacity=\"1\" stroke-width=\"3.2\"/>\n",
       "<circle clip-path=\"url(#clip132)\" cx=\"362.674\" cy=\"441.666\" r=\"14\" fill=\"#009af9\" fill-rule=\"evenodd\" fill-opacity=\"1\" stroke=\"#000000\" stroke-opacity=\"1\" stroke-width=\"3.2\"/>\n",
       "<circle clip-path=\"url(#clip132)\" cx=\"469.84\" cy=\"446.079\" r=\"14\" fill=\"#009af9\" fill-rule=\"evenodd\" fill-opacity=\"1\" stroke=\"#000000\" stroke-opacity=\"1\" stroke-width=\"3.2\"/>\n",
       "<circle clip-path=\"url(#clip132)\" cx=\"577.007\" cy=\"1089.91\" r=\"14\" fill=\"#009af9\" fill-rule=\"evenodd\" fill-opacity=\"1\" stroke=\"#000000\" stroke-opacity=\"1\" stroke-width=\"3.2\"/>\n",
       "<circle clip-path=\"url(#clip132)\" cx=\"684.173\" cy=\"87.9763\" r=\"14\" fill=\"#009af9\" fill-rule=\"evenodd\" fill-opacity=\"1\" stroke=\"#000000\" stroke-opacity=\"1\" stroke-width=\"3.2\"/>\n",
       "<circle clip-path=\"url(#clip132)\" cx=\"791.34\" cy=\"1165.12\" r=\"14\" fill=\"#009af9\" fill-rule=\"evenodd\" fill-opacity=\"1\" stroke=\"#000000\" stroke-opacity=\"1\" stroke-width=\"3.2\"/>\n",
       "<circle clip-path=\"url(#clip132)\" cx=\"898.506\" cy=\"583.629\" r=\"14\" fill=\"#009af9\" fill-rule=\"evenodd\" fill-opacity=\"1\" stroke=\"#000000\" stroke-opacity=\"1\" stroke-width=\"3.2\"/>\n",
       "<circle clip-path=\"url(#clip132)\" cx=\"1005.67\" cy=\"1161.7\" r=\"14\" fill=\"#009af9\" fill-rule=\"evenodd\" fill-opacity=\"1\" stroke=\"#000000\" stroke-opacity=\"1\" stroke-width=\"3.2\"/>\n",
       "<circle clip-path=\"url(#clip132)\" cx=\"1112.84\" cy=\"892.757\" r=\"14\" fill=\"#009af9\" fill-rule=\"evenodd\" fill-opacity=\"1\" stroke=\"#000000\" stroke-opacity=\"1\" stroke-width=\"3.2\"/>\n",
       "<circle clip-path=\"url(#clip132)\" cx=\"1220.01\" cy=\"475.508\" r=\"14\" fill=\"#009af9\" fill-rule=\"evenodd\" fill-opacity=\"1\" stroke=\"#000000\" stroke-opacity=\"1\" stroke-width=\"3.2\"/>\n",
       "<circle clip-path=\"url(#clip132)\" cx=\"1327.17\" cy=\"494.724\" r=\"14\" fill=\"#009af9\" fill-rule=\"evenodd\" fill-opacity=\"1\" stroke=\"#000000\" stroke-opacity=\"1\" stroke-width=\"3.2\"/>\n",
       "<circle clip-path=\"url(#clip132)\" cx=\"1434.34\" cy=\"527.489\" r=\"14\" fill=\"#009af9\" fill-rule=\"evenodd\" fill-opacity=\"1\" stroke=\"#000000\" stroke-opacity=\"1\" stroke-width=\"3.2\"/>\n",
       "<circle clip-path=\"url(#clip132)\" cx=\"1541.51\" cy=\"1374.49\" r=\"14\" fill=\"#009af9\" fill-rule=\"evenodd\" fill-opacity=\"1\" stroke=\"#000000\" stroke-opacity=\"1\" stroke-width=\"3.2\"/>\n",
       "<circle clip-path=\"url(#clip132)\" cx=\"1648.67\" cy=\"1136.78\" r=\"14\" fill=\"#009af9\" fill-rule=\"evenodd\" fill-opacity=\"1\" stroke=\"#000000\" stroke-opacity=\"1\" stroke-width=\"3.2\"/>\n",
       "<circle clip-path=\"url(#clip132)\" cx=\"1755.84\" cy=\"1194.42\" r=\"14\" fill=\"#009af9\" fill-rule=\"evenodd\" fill-opacity=\"1\" stroke=\"#000000\" stroke-opacity=\"1\" stroke-width=\"3.2\"/>\n",
       "<circle clip-path=\"url(#clip132)\" cx=\"1863\" cy=\"452.881\" r=\"14\" fill=\"#009af9\" fill-rule=\"evenodd\" fill-opacity=\"1\" stroke=\"#000000\" stroke-opacity=\"1\" stroke-width=\"3.2\"/>\n",
       "<circle clip-path=\"url(#clip132)\" cx=\"1970.17\" cy=\"701.026\" r=\"14\" fill=\"#009af9\" fill-rule=\"evenodd\" fill-opacity=\"1\" stroke=\"#000000\" stroke-opacity=\"1\" stroke-width=\"3.2\"/>\n",
       "<circle clip-path=\"url(#clip132)\" cx=\"2077.34\" cy=\"503.634\" r=\"14\" fill=\"#009af9\" fill-rule=\"evenodd\" fill-opacity=\"1\" stroke=\"#000000\" stroke-opacity=\"1\" stroke-width=\"3.2\"/>\n",
       "<circle clip-path=\"url(#clip132)\" cx=\"2184.5\" cy=\"1318.87\" r=\"14\" fill=\"#009af9\" fill-rule=\"evenodd\" fill-opacity=\"1\" stroke=\"#000000\" stroke-opacity=\"1\" stroke-width=\"3.2\"/>\n",
       "<circle clip-path=\"url(#clip132)\" cx=\"2291.67\" cy=\"916.177\" r=\"14\" fill=\"#009af9\" fill-rule=\"evenodd\" fill-opacity=\"1\" stroke=\"#000000\" stroke-opacity=\"1\" stroke-width=\"3.2\"/>\n",
       "<circle clip-path=\"url(#clip132)\" cx=\"255.507\" cy=\"823.287\" r=\"14\" fill=\"#e26f46\" fill-rule=\"evenodd\" fill-opacity=\"1\" stroke=\"#000000\" stroke-opacity=\"1\" stroke-width=\"3.2\"/>\n",
       "<circle clip-path=\"url(#clip132)\" cx=\"362.674\" cy=\"1092.03\" r=\"14\" fill=\"#e26f46\" fill-rule=\"evenodd\" fill-opacity=\"1\" stroke=\"#000000\" stroke-opacity=\"1\" stroke-width=\"3.2\"/>\n",
       "<circle clip-path=\"url(#clip132)\" cx=\"469.84\" cy=\"1087.61\" r=\"14\" fill=\"#e26f46\" fill-rule=\"evenodd\" fill-opacity=\"1\" stroke=\"#000000\" stroke-opacity=\"1\" stroke-width=\"3.2\"/>\n",
       "<circle clip-path=\"url(#clip132)\" cx=\"577.007\" cy=\"443.78\" r=\"14\" fill=\"#e26f46\" fill-rule=\"evenodd\" fill-opacity=\"1\" stroke=\"#000000\" stroke-opacity=\"1\" stroke-width=\"3.2\"/>\n",
       "<circle clip-path=\"url(#clip132)\" cx=\"684.173\" cy=\"1445.72\" r=\"14\" fill=\"#e26f46\" fill-rule=\"evenodd\" fill-opacity=\"1\" stroke=\"#000000\" stroke-opacity=\"1\" stroke-width=\"3.2\"/>\n",
       "<circle clip-path=\"url(#clip132)\" cx=\"791.34\" cy=\"368.57\" r=\"14\" fill=\"#e26f46\" fill-rule=\"evenodd\" fill-opacity=\"1\" stroke=\"#000000\" stroke-opacity=\"1\" stroke-width=\"3.2\"/>\n",
       "<circle clip-path=\"url(#clip132)\" cx=\"898.506\" cy=\"950.063\" r=\"14\" fill=\"#e26f46\" fill-rule=\"evenodd\" fill-opacity=\"1\" stroke=\"#000000\" stroke-opacity=\"1\" stroke-width=\"3.2\"/>\n",
       "<circle clip-path=\"url(#clip132)\" cx=\"1005.67\" cy=\"371.994\" r=\"14\" fill=\"#e26f46\" fill-rule=\"evenodd\" fill-opacity=\"1\" stroke=\"#000000\" stroke-opacity=\"1\" stroke-width=\"3.2\"/>\n",
       "<circle clip-path=\"url(#clip132)\" cx=\"1112.84\" cy=\"640.934\" r=\"14\" fill=\"#e26f46\" fill-rule=\"evenodd\" fill-opacity=\"1\" stroke=\"#000000\" stroke-opacity=\"1\" stroke-width=\"3.2\"/>\n",
       "<circle clip-path=\"url(#clip132)\" cx=\"1220.01\" cy=\"1058.18\" r=\"14\" fill=\"#e26f46\" fill-rule=\"evenodd\" fill-opacity=\"1\" stroke=\"#000000\" stroke-opacity=\"1\" stroke-width=\"3.2\"/>\n",
       "<circle clip-path=\"url(#clip132)\" cx=\"1327.17\" cy=\"1038.97\" r=\"14\" fill=\"#e26f46\" fill-rule=\"evenodd\" fill-opacity=\"1\" stroke=\"#000000\" stroke-opacity=\"1\" stroke-width=\"3.2\"/>\n",
       "<circle clip-path=\"url(#clip132)\" cx=\"1434.34\" cy=\"1006.2\" r=\"14\" fill=\"#e26f46\" fill-rule=\"evenodd\" fill-opacity=\"1\" stroke=\"#000000\" stroke-opacity=\"1\" stroke-width=\"3.2\"/>\n",
       "<circle clip-path=\"url(#clip132)\" cx=\"1541.51\" cy=\"159.206\" r=\"14\" fill=\"#e26f46\" fill-rule=\"evenodd\" fill-opacity=\"1\" stroke=\"#000000\" stroke-opacity=\"1\" stroke-width=\"3.2\"/>\n",
       "<circle clip-path=\"url(#clip132)\" cx=\"1648.67\" cy=\"396.912\" r=\"14\" fill=\"#e26f46\" fill-rule=\"evenodd\" fill-opacity=\"1\" stroke=\"#000000\" stroke-opacity=\"1\" stroke-width=\"3.2\"/>\n",
       "<circle clip-path=\"url(#clip132)\" cx=\"1755.84\" cy=\"339.27\" r=\"14\" fill=\"#e26f46\" fill-rule=\"evenodd\" fill-opacity=\"1\" stroke=\"#000000\" stroke-opacity=\"1\" stroke-width=\"3.2\"/>\n",
       "<circle clip-path=\"url(#clip132)\" cx=\"1863\" cy=\"1080.81\" r=\"14\" fill=\"#e26f46\" fill-rule=\"evenodd\" fill-opacity=\"1\" stroke=\"#000000\" stroke-opacity=\"1\" stroke-width=\"3.2\"/>\n",
       "<circle clip-path=\"url(#clip132)\" cx=\"1970.17\" cy=\"832.666\" r=\"14\" fill=\"#e26f46\" fill-rule=\"evenodd\" fill-opacity=\"1\" stroke=\"#000000\" stroke-opacity=\"1\" stroke-width=\"3.2\"/>\n",
       "<circle clip-path=\"url(#clip132)\" cx=\"2077.34\" cy=\"1030.06\" r=\"14\" fill=\"#e26f46\" fill-rule=\"evenodd\" fill-opacity=\"1\" stroke=\"#000000\" stroke-opacity=\"1\" stroke-width=\"3.2\"/>\n",
       "<circle clip-path=\"url(#clip132)\" cx=\"2184.5\" cy=\"214.821\" r=\"14\" fill=\"#e26f46\" fill-rule=\"evenodd\" fill-opacity=\"1\" stroke=\"#000000\" stroke-opacity=\"1\" stroke-width=\"3.2\"/>\n",
       "<circle clip-path=\"url(#clip132)\" cx=\"2291.67\" cy=\"617.514\" r=\"14\" fill=\"#e26f46\" fill-rule=\"evenodd\" fill-opacity=\"1\" stroke=\"#000000\" stroke-opacity=\"1\" stroke-width=\"3.2\"/>\n",
       "<polyline clip-path=\"url(#clip132)\" style=\"stroke:#3da44d; stroke-linecap:butt; stroke-linejoin:round; stroke-width:4; stroke-opacity:1; fill:none\" points=\"\n",
       "  -1963.91,766.846 4511.09,766.846 \n",
       "  \"/>\n",
       "</svg>\n"
      ]
     },
     "execution_count": 68,
     "metadata": {},
     "output_type": "execute_result"
    }
   ],
   "source": [
    "col = 1\n",
    "\n",
    "scatter(loops_vecs[:, col])\n",
    "scatter!(dist_loops_vecs[:, col], legend = false)\n",
    "hline!([0])"
   ]
  },
  {
   "cell_type": "code",
   "execution_count": null,
   "id": "d9e252dc-d685-45d7-af39-667f919940f3",
   "metadata": {},
   "outputs": [],
   "source": []
  }
 ],
 "metadata": {
  "kernelspec": {
   "display_name": "Julia 1.6.2",
   "language": "julia",
   "name": "julia-1.6"
  },
  "language_info": {
   "file_extension": ".jl",
   "mimetype": "application/julia",
   "name": "julia",
   "version": "1.6.2"
  }
 },
 "nbformat": 4,
 "nbformat_minor": 5
}
