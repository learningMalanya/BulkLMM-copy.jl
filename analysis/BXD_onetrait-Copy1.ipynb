{
 "cells": [
  {
   "cell_type": "code",
   "execution_count": 1,
   "id": "0006da74-63a2-401f-af8d-3a051589bbcf",
   "metadata": {},
   "outputs": [],
   "source": [
    "#using Pkg\n",
    "#Pkg.add(\"Profile\")"
   ]
  },
  {
   "cell_type": "code",
   "execution_count": 2,
   "id": "75e59a59-1341-4175-b13e-857ef1796939",
   "metadata": {},
   "outputs": [],
   "source": [
    "using DelimitedFiles\n",
    "using LinearAlgebra\n",
    "using Optim\n",
    "using Distributions\n",
    "using Test\n",
    "using BenchmarkTools\n",
    "using Random\n",
    "using CSV\n",
    "using DataFrames\n",
    "using Distributed\n",
    "using Plots\n",
    "using Profile"
   ]
  },
  {
   "cell_type": "code",
   "execution_count": 3,
   "id": "13ee33c1-4b5a-4423-b8d4-f53c785aaeff",
   "metadata": {},
   "outputs": [
    {
     "data": {
      "text/plain": [
       "\"/Users/FredYu/Documents/GitHub/BulkLMM.jl/analysis\""
      ]
     },
     "execution_count": 3,
     "metadata": {},
     "output_type": "execute_result"
    }
   ],
   "source": [
    "pwd()"
   ]
  },
  {
   "cell_type": "code",
   "execution_count": 94,
   "id": "f27ecb5f-08db-49cb-8e5c-a34a60ddbf5e",
   "metadata": {},
   "outputs": [],
   "source": [
    "## Include the source code of BulkLMM to be tested:\n",
    "include(\"../src/scan.jl\");\n",
    "include(\"../src/lmm.jl\");\n",
    "include(\"../src/wls.jl\");\n",
    "include(\"../src/util.jl\");\n",
    "include(\"../src/kinship.jl\");\n",
    "include(\"../src/readData.jl\");\n",
    "\n",
    "## Also include the helper functions for writing tests:\n",
    "include(\"../test/testHelper.jl\");"
   ]
  },
  {
   "cell_type": "code",
   "execution_count": 5,
   "id": "e72d7139-b84a-49e5-b462-8821f443cd90",
   "metadata": {},
   "outputs": [],
   "source": [
    "## Read in BXD data:\n",
    "pheno_file = \"../data/bxdData/BXDtraits.csv\"\n",
    "pheno = readBXDpheno(pheno_file);\n",
    "geno_file = \"../data/bxdData/BXDgeno_prob.csv\"\n",
    "geno = readGenoProb_ExcludeComplements(geno_file);\n",
    "\n",
    "kinship = calcKinship(geno); # calculate kinship matrix from genotype data"
   ]
  },
  {
   "cell_type": "code",
   "execution_count": 6,
   "id": "be75bad0-1b8d-4afe-822c-3c2ca8d50338",
   "metadata": {},
   "outputs": [],
   "source": [
    "nperms = 1024; # number of permutated copies required;\n",
    "m = size(pheno, 2);\n",
    "p = size(geno, 2); # number of markers"
   ]
  },
  {
   "cell_type": "code",
   "execution_count": 7,
   "id": "d8ef6dc8-67c8-4858-8fae-7840e73fa675",
   "metadata": {},
   "outputs": [],
   "source": [
    "## Consider the 7919-th trait\n",
    "pheno_y = reshape(pheno[:, 7919], :, 1);"
   ]
  },
  {
   "cell_type": "markdown",
   "id": "5a30159a-c245-4e84-898f-e7fb5d8e7dcf",
   "metadata": {},
   "source": [
    "## Do the same for many traits (first 1000):"
   ]
  },
  {
   "cell_type": "code",
   "execution_count": 8,
   "id": "a774ef6a-e39f-4d50-9108-132eaec80154",
   "metadata": {},
   "outputs": [
    {
     "data": {
      "text/plain": [
       "getMaxLod (generic function with 1 method)"
      ]
     },
     "execution_count": 8,
     "metadata": {},
     "output_type": "execute_result"
    }
   ],
   "source": [
    "# Function that extracts the row maximums for a matrix:\n",
    "function getMaxLod_manyTraits(pheno::Array{Float64, 2}, geno::Array{Float64, 2}, kinship::Array{Float64, 2};\n",
    "                              ntraits::Int64 = 1000, nperms::Int64 = 1024, original::Bool = true)\n",
    "    \n",
    "    if original\n",
    "        nrows = nperms+1\n",
    "    else\n",
    "        nrows = nperms\n",
    "    end\n",
    "    \n",
    "    maxLods_manyTraits = Matrix{Float64}(undef, nrows, ntraits);\n",
    "    \n",
    "    for k in 1:ntraits\n",
    "        \n",
    "        pheno_k = reshape(pheno[:, k], :, 1);\n",
    "        results = scan_perms(pheno_k, geno, kinship; nperms = nperms)\n",
    "        \n",
    "        maxLods_manyTraits[:, k] = getMaxLod(results)\n",
    "    end\n",
    "    \n",
    "    return maxLods_manyTraits; \n",
    "end\n",
    "\n",
    "\n",
    "function getMaxLod(results::Array{Float64, 2})\n",
    "    \n",
    "    return mapslices(x -> maximum(x), results; dims = 2);\n",
    "    \n",
    "end"
   ]
  },
  {
   "cell_type": "code",
   "execution_count": 85,
   "id": "76acd6d3-4e3b-471b-9968-953dfe4c9199",
   "metadata": {},
   "outputs": [],
   "source": [
    "include(\"../src/scan.jl\");"
   ]
  },
  {
   "cell_type": "code",
   "execution_count": 10,
   "id": "35955c36-6f9f-4463-b728-96c8f11a4578",
   "metadata": {},
   "outputs": [
    {
     "data": {
      "text/plain": [
       "BenchmarkTools.Trial: 1 sample with 1 evaluation.\n",
       " Single result which took \u001b[34m7.791 s\u001b[39m (10.34% GC) to evaluate,\n",
       " with a memory estimate of \u001b[33m13.63 GiB\u001b[39m, over \u001b[33m194772\u001b[39m allocations."
      ]
     },
     "execution_count": 10,
     "metadata": {},
     "output_type": "execute_result"
    }
   ],
   "source": [
    "@benchmark scan_perms(pheno_y, geno, kinship; nperms = 1024)"
   ]
  },
  {
   "cell_type": "code",
   "execution_count": 26,
   "id": "63e0c587-94cc-4985-af4d-225ff3ecf1e3",
   "metadata": {},
   "outputs": [
    {
     "data": {
      "text/plain": [
       "BenchmarkTools.Trial: 1 sample with 1 evaluation.\n",
       " Single result which took \u001b[34m8.179 s\u001b[39m (11.35% GC) to evaluate,\n",
       " with a memory estimate of \u001b[33m13.63 GiB\u001b[39m, over \u001b[33m194772\u001b[39m allocations."
      ]
     },
     "execution_count": 26,
     "metadata": {},
     "output_type": "execute_result"
    }
   ],
   "source": [
    "@benchmark scan_perms(pheno_y, geno, kinship; nperms = 1024)"
   ]
  },
  {
   "cell_type": "code",
   "execution_count": 87,
   "id": "9b0d4d05-0e21-4b96-8c8f-3b8986a2c4bf",
   "metadata": {},
   "outputs": [],
   "source": [
    "include(\"../src/scan_for_tests.jl\");"
   ]
  },
  {
   "cell_type": "code",
   "execution_count": 51,
   "id": "3fe5b253-9f28-49c0-939e-405f52b03ff8",
   "metadata": {},
   "outputs": [],
   "source": [
    "(y_st, X_st) = permuteHelper(pheno_y, geno, kinship);"
   ]
  },
  {
   "cell_type": "code",
   "execution_count": 53,
   "id": "8dd3ad30-95b5-487c-be03-a20641d5b4b5",
   "metadata": {},
   "outputs": [
    {
     "data": {
      "text/plain": [
       "6-element Vector{Float64}:\n",
       " 0.008196360329331354\n",
       " 1.7191295863542346\n",
       " 0.22597355989446322\n",
       " 0.016780778180664147\n",
       " 0.08000667915488369\n",
       " 0.00035453485562264575"
      ]
     },
     "execution_count": 53,
     "metadata": {},
     "output_type": "execute_result"
    }
   ],
   "source": [
    "calcLod_perms(y_st, X_st[:, 1])[1:6]"
   ]
  },
  {
   "cell_type": "code",
   "execution_count": 54,
   "id": "c980b924-68e2-4ccc-a469-b7ad0e40e2e1",
   "metadata": {},
   "outputs": [
    {
     "data": {
      "text/plain": [
       "6-element Vector{Float64}:\n",
       " 0.008196360329331354\n",
       " 1.7191295863542346\n",
       " 0.22597355989446322\n",
       " 0.016780778180664147\n",
       " 0.08000667915489246\n",
       " 0.00035453485562264575"
      ]
     },
     "execution_count": 54,
     "metadata": {},
     "output_type": "execute_result"
    }
   ],
   "source": [
    "calcLod_perms2(y_st, X_st[:, 1])[1:6]"
   ]
  },
  {
   "cell_type": "code",
   "execution_count": 55,
   "id": "acfb631d-831d-4c6c-bc7a-0493be267231",
   "metadata": {},
   "outputs": [
    {
     "data": {
      "text/plain": [
       "6-element Vector{Float64}:\n",
       " 0.008196360329331354\n",
       " 1.7191295863542346\n",
       " 0.22597355989446322\n",
       " 0.016780778180664147\n",
       " 0.08000667915489246\n",
       " 0.00035453485562264575"
      ]
     },
     "execution_count": 55,
     "metadata": {},
     "output_type": "execute_result"
    }
   ],
   "source": [
    "calcLod_perms3(y_st, X_st[:, 1])[1:6]"
   ]
  },
  {
   "cell_type": "code",
   "execution_count": 56,
   "id": "449895b9-73a0-41e6-b6c1-811b606bf557",
   "metadata": {},
   "outputs": [
    {
     "data": {
      "text/plain": [
       "BenchmarkTools.Trial: 2908 samples with 1 evaluation.\n",
       " Range \u001b[90m(\u001b[39m\u001b[36m\u001b[1mmin\u001b[22m\u001b[39m … \u001b[35mmax\u001b[39m\u001b[90m):  \u001b[39m\u001b[36m\u001b[1m783.781 μs\u001b[22m\u001b[39m … \u001b[35m  7.694 ms\u001b[39m  \u001b[90m┊\u001b[39m GC \u001b[90m(\u001b[39mmin … max\u001b[90m): \u001b[39m 0.00% … 67.10%\n",
       " Time  \u001b[90m(\u001b[39m\u001b[34m\u001b[1mmedian\u001b[22m\u001b[39m\u001b[90m):     \u001b[39m\u001b[34m\u001b[1m  1.579 ms               \u001b[22m\u001b[39m\u001b[90m┊\u001b[39m GC \u001b[90m(\u001b[39mmedian\u001b[90m):    \u001b[39m 0.00%\n",
       " Time  \u001b[90m(\u001b[39m\u001b[32m\u001b[1mmean\u001b[22m\u001b[39m ± \u001b[32mσ\u001b[39m\u001b[90m):   \u001b[39m\u001b[32m\u001b[1m  1.704 ms\u001b[22m\u001b[39m ± \u001b[32m923.700 μs\u001b[39m  \u001b[90m┊\u001b[39m GC \u001b[90m(\u001b[39mmean ± σ\u001b[90m):  \u001b[39m10.51% ± 15.04%\n",
       "\n",
       "  \u001b[39m \u001b[39m \u001b[39m \u001b[39m \u001b[39m \u001b[39m \u001b[39m \u001b[39m \u001b[39m█\u001b[34m▃\u001b[39m\u001b[32m \u001b[39m\u001b[39m \u001b[39m \u001b[39m \u001b[39m \u001b[39m \u001b[39m \u001b[39m \u001b[39m \u001b[39m \u001b[39m \u001b[39m \u001b[39m \u001b[39m \u001b[39m \u001b[39m \u001b[39m \u001b[39m \u001b[39m \u001b[39m \u001b[39m \u001b[39m \u001b[39m \u001b[39m \u001b[39m \u001b[39m \u001b[39m \u001b[39m \u001b[39m \u001b[39m \u001b[39m \u001b[39m \u001b[39m \u001b[39m \u001b[39m \u001b[39m \u001b[39m \u001b[39m \u001b[39m \u001b[39m \u001b[39m \u001b[39m \u001b[39m \u001b[39m \u001b[39m \u001b[39m \u001b[39m \u001b[39m \u001b[39m \u001b[39m \u001b[39m \u001b[39m \u001b[39m \n",
       "  \u001b[39m▇\u001b[39m▄\u001b[39m▃\u001b[39m▃\u001b[39m▃\u001b[39m▃\u001b[39m▂\u001b[39m▄\u001b[39m█\u001b[34m█\u001b[39m\u001b[32m▇\u001b[39m\u001b[39m▆\u001b[39m▅\u001b[39m▄\u001b[39m▄\u001b[39m▃\u001b[39m▂\u001b[39m▂\u001b[39m▂\u001b[39m▂\u001b[39m▂\u001b[39m▂\u001b[39m▁\u001b[39m▂\u001b[39m▁\u001b[39m▁\u001b[39m▁\u001b[39m▁\u001b[39m▁\u001b[39m▁\u001b[39m▁\u001b[39m▁\u001b[39m▁\u001b[39m▁\u001b[39m▁\u001b[39m▁\u001b[39m▁\u001b[39m▁\u001b[39m▁\u001b[39m▁\u001b[39m▁\u001b[39m▁\u001b[39m▁\u001b[39m▁\u001b[39m▁\u001b[39m▁\u001b[39m▁\u001b[39m▂\u001b[39m▁\u001b[39m▁\u001b[39m▂\u001b[39m▂\u001b[39m▂\u001b[39m▂\u001b[39m▂\u001b[39m▂\u001b[39m▂\u001b[39m▂\u001b[39m▂\u001b[39m▂\u001b[39m▂\u001b[39m \u001b[39m▃\n",
       "  784 μs\u001b[90m           Histogram: frequency by time\u001b[39m         6.13 ms \u001b[0m\u001b[1m<\u001b[22m\n",
       "\n",
       " Memory estimate\u001b[90m: \u001b[39m\u001b[33m2.87 MiB\u001b[39m, allocs estimate\u001b[90m: \u001b[39m\u001b[33m10827\u001b[39m."
      ]
     },
     "execution_count": 56,
     "metadata": {},
     "output_type": "execute_result"
    }
   ],
   "source": [
    "@benchmark calcLod_perms(y_st, X_st[:, 1])"
   ]
  },
  {
   "cell_type": "code",
   "execution_count": 57,
   "id": "243c8cb9-27c1-4ed1-a441-9766dbbd0b69",
   "metadata": {},
   "outputs": [
    {
     "data": {
      "text/plain": [
       "BenchmarkTools.Trial: 4125 samples with 1 evaluation.\n",
       " Range \u001b[90m(\u001b[39m\u001b[36m\u001b[1mmin\u001b[22m\u001b[39m … \u001b[35mmax\u001b[39m\u001b[90m):  \u001b[39m\u001b[36m\u001b[1m257.348 μs\u001b[22m\u001b[39m … \u001b[35m  7.951 ms\u001b[39m  \u001b[90m┊\u001b[39m GC \u001b[90m(\u001b[39mmin … max\u001b[90m): \u001b[39m 0.00% … 83.22%\n",
       " Time  \u001b[90m(\u001b[39m\u001b[34m\u001b[1mmedian\u001b[22m\u001b[39m\u001b[90m):     \u001b[39m\u001b[34m\u001b[1m  1.064 ms               \u001b[22m\u001b[39m\u001b[90m┊\u001b[39m GC \u001b[90m(\u001b[39mmedian\u001b[90m):    \u001b[39m 0.00%\n",
       " Time  \u001b[90m(\u001b[39m\u001b[32m\u001b[1mmean\u001b[22m\u001b[39m ± \u001b[32mσ\u001b[39m\u001b[90m):   \u001b[39m\u001b[32m\u001b[1m  1.196 ms\u001b[22m\u001b[39m ± \u001b[32m941.721 μs\u001b[39m  \u001b[90m┊\u001b[39m GC \u001b[90m(\u001b[39mmean ± σ\u001b[90m):  \u001b[39m12.11% ± 13.57%\n",
       "\n",
       "  \u001b[39m \u001b[39m \u001b[39m \u001b[39m \u001b[39m \u001b[39m \u001b[39m▄\u001b[39m█\u001b[34m▂\u001b[39m\u001b[32m \u001b[39m\u001b[39m \u001b[39m \u001b[39m \u001b[39m \u001b[39m \u001b[39m \u001b[39m \u001b[39m \u001b[39m \u001b[39m \u001b[39m \u001b[39m \u001b[39m \u001b[39m \u001b[39m \u001b[39m \u001b[39m \u001b[39m \u001b[39m \u001b[39m \u001b[39m \u001b[39m \u001b[39m \u001b[39m \u001b[39m \u001b[39m \u001b[39m \u001b[39m \u001b[39m \u001b[39m \u001b[39m \u001b[39m \u001b[39m \u001b[39m \u001b[39m \u001b[39m \u001b[39m \u001b[39m \u001b[39m \u001b[39m \u001b[39m \u001b[39m \u001b[39m \u001b[39m \u001b[39m \u001b[39m \u001b[39m \u001b[39m \u001b[39m \u001b[39m \u001b[39m \u001b[39m \u001b[39m \n",
       "  \u001b[39m▇\u001b[39m▃\u001b[39m▃\u001b[39m▂\u001b[39m▂\u001b[39m▂\u001b[39m█\u001b[39m█\u001b[34m█\u001b[39m\u001b[32m█\u001b[39m\u001b[39m▆\u001b[39m▅\u001b[39m▄\u001b[39m▃\u001b[39m▂\u001b[39m▂\u001b[39m▂\u001b[39m▂\u001b[39m▂\u001b[39m▁\u001b[39m▁\u001b[39m▁\u001b[39m▁\u001b[39m▁\u001b[39m▁\u001b[39m▁\u001b[39m▁\u001b[39m▁\u001b[39m▁\u001b[39m▁\u001b[39m▁\u001b[39m▁\u001b[39m▁\u001b[39m▁\u001b[39m▁\u001b[39m▁\u001b[39m▁\u001b[39m▁\u001b[39m▁\u001b[39m▁\u001b[39m▁\u001b[39m▁\u001b[39m▁\u001b[39m▁\u001b[39m▁\u001b[39m▁\u001b[39m▁\u001b[39m▁\u001b[39m▂\u001b[39m▂\u001b[39m▂\u001b[39m▂\u001b[39m▂\u001b[39m▂\u001b[39m▂\u001b[39m▁\u001b[39m▂\u001b[39m▂\u001b[39m▂\u001b[39m▂\u001b[39m▂\u001b[39m \u001b[39m▃\n",
       "  257 μs\u001b[90m           Histogram: frequency by time\u001b[39m         6.68 ms \u001b[0m\u001b[1m<\u001b[22m\n",
       "\n",
       " Memory estimate\u001b[90m: \u001b[39m\u001b[33m1.91 MiB\u001b[39m, allocs estimate\u001b[90m: \u001b[39m\u001b[33m22\u001b[39m."
      ]
     },
     "execution_count": 57,
     "metadata": {},
     "output_type": "execute_result"
    }
   ],
   "source": [
    "@benchmark calcLod_perms2(y_st, X_st[:, 1])"
   ]
  },
  {
   "cell_type": "code",
   "execution_count": 58,
   "id": "05f4c2d2-abbf-471f-abf1-6dec711fc40e",
   "metadata": {},
   "outputs": [
    {
     "data": {
      "text/plain": [
       "BenchmarkTools.Trial: 4556 samples with 1 evaluation.\n",
       " Range \u001b[90m(\u001b[39m\u001b[36m\u001b[1mmin\u001b[22m\u001b[39m … \u001b[35mmax\u001b[39m\u001b[90m):  \u001b[39m\u001b[36m\u001b[1m244.127 μs\u001b[22m\u001b[39m … \u001b[35m  7.198 ms\u001b[39m  \u001b[90m┊\u001b[39m GC \u001b[90m(\u001b[39mmin … max\u001b[90m): \u001b[39m 0.00% … 85.80%\n",
       " Time  \u001b[90m(\u001b[39m\u001b[34m\u001b[1mmedian\u001b[22m\u001b[39m\u001b[90m):     \u001b[39m\u001b[34m\u001b[1m983.613 μs               \u001b[22m\u001b[39m\u001b[90m┊\u001b[39m GC \u001b[90m(\u001b[39mmedian\u001b[90m):    \u001b[39m 0.00%\n",
       " Time  \u001b[90m(\u001b[39m\u001b[32m\u001b[1mmean\u001b[22m\u001b[39m ± \u001b[32mσ\u001b[39m\u001b[90m):   \u001b[39m\u001b[32m\u001b[1m  1.087 ms\u001b[22m\u001b[39m ± \u001b[32m850.113 μs\u001b[39m  \u001b[90m┊\u001b[39m GC \u001b[90m(\u001b[39mmean ± σ\u001b[90m):  \u001b[39m12.05% ± 13.46%\n",
       "\n",
       "  \u001b[39m▅\u001b[39m▂\u001b[39m \u001b[39m \u001b[39m \u001b[39m \u001b[39m▃\u001b[39m█\u001b[34m▆\u001b[39m\u001b[32m▅\u001b[39m\u001b[39m▅\u001b[39m▃\u001b[39m▃\u001b[39m▁\u001b[39m \u001b[39m \u001b[39m \u001b[39m \u001b[39m \u001b[39m \u001b[39m \u001b[39m \u001b[39m \u001b[39m \u001b[39m \u001b[39m \u001b[39m \u001b[39m \u001b[39m \u001b[39m \u001b[39m \u001b[39m \u001b[39m \u001b[39m \u001b[39m \u001b[39m \u001b[39m \u001b[39m \u001b[39m \u001b[39m \u001b[39m \u001b[39m \u001b[39m \u001b[39m \u001b[39m \u001b[39m \u001b[39m \u001b[39m \u001b[39m \u001b[39m \u001b[39m \u001b[39m \u001b[39m \u001b[39m \u001b[39m \u001b[39m \u001b[39m \u001b[39m \u001b[39m \u001b[39m \u001b[39m \u001b[39m \u001b[39m▁\n",
       "  \u001b[39m█\u001b[39m█\u001b[39m█\u001b[39m▅\u001b[39m▅\u001b[39m▁\u001b[39m█\u001b[39m█\u001b[34m█\u001b[39m\u001b[32m█\u001b[39m\u001b[39m█\u001b[39m█\u001b[39m█\u001b[39m█\u001b[39m▇\u001b[39m▅\u001b[39m▁\u001b[39m▁\u001b[39m▁\u001b[39m▁\u001b[39m▁\u001b[39m▁\u001b[39m▁\u001b[39m▁\u001b[39m▁\u001b[39m▁\u001b[39m▁\u001b[39m▁\u001b[39m▁\u001b[39m▁\u001b[39m▁\u001b[39m▁\u001b[39m▁\u001b[39m▁\u001b[39m▁\u001b[39m▁\u001b[39m▁\u001b[39m▁\u001b[39m▁\u001b[39m▁\u001b[39m▁\u001b[39m▁\u001b[39m▁\u001b[39m▁\u001b[39m▁\u001b[39m▁\u001b[39m▁\u001b[39m▁\u001b[39m▁\u001b[39m▁\u001b[39m▁\u001b[39m▁\u001b[39m▁\u001b[39m▄\u001b[39m▆\u001b[39m▆\u001b[39m▆\u001b[39m▇\u001b[39m▆\u001b[39m▇\u001b[39m▇\u001b[39m \u001b[39m█\n",
       "  244 μs\u001b[90m        \u001b[39m\u001b[90mHistogram: \u001b[39m\u001b[90m\u001b[1mlog(\u001b[22m\u001b[39m\u001b[90mfrequency\u001b[39m\u001b[90m\u001b[1m)\u001b[22m\u001b[39m\u001b[90m by time\u001b[39m        670 ms \u001b[0m\u001b[1m<\u001b[22m\n",
       "\n",
       " Memory estimate\u001b[90m: \u001b[39m\u001b[33m1.90 MiB\u001b[39m, allocs estimate\u001b[90m: \u001b[39m\u001b[33m20\u001b[39m."
      ]
     },
     "execution_count": 58,
     "metadata": {},
     "output_type": "execute_result"
    }
   ],
   "source": [
    "@benchmark calcLod_perms3(y_st, X_st[:, 1])"
   ]
  },
  {
   "cell_type": "code",
   "execution_count": 81,
   "id": "93105411-0e38-44d0-ae21-ddfdcebc9be4",
   "metadata": {},
   "outputs": [
    {
     "name": "stdout",
     "output_type": "stream",
     "text": [
      "  781.570 μs (10827 allocations: 2.87 MiB)\n"
     ]
    }
   ],
   "source": [
    "@btime calcLod_perms(y_st, X_st[:, 1]);"
   ]
  },
  {
   "cell_type": "code",
   "execution_count": 82,
   "id": "8568655f-8d12-4f6d-ada9-2e9c787503d9",
   "metadata": {},
   "outputs": [
    {
     "name": "stdout",
     "output_type": "stream",
     "text": [
      "  261.859 μs (22 allocations: 1.91 MiB)\n"
     ]
    }
   ],
   "source": [
    "@btime calcLod_perms2(y_st, X_st[:, 1]);"
   ]
  },
  {
   "cell_type": "code",
   "execution_count": 83,
   "id": "6adb8233-0232-4695-aace-e61f6ce98f79",
   "metadata": {},
   "outputs": [
    {
     "name": "stdout",
     "output_type": "stream",
     "text": [
      "  248.826 μs (20 allocations: 1.90 MiB)\n"
     ]
    }
   ],
   "source": [
    "@btime calcLod_perms3(y_st, X_st[:, 1]);"
   ]
  },
  {
   "cell_type": "code",
   "execution_count": 91,
   "id": "b64efc76-0e5a-436d-9227-581575fcfdb5",
   "metadata": {},
   "outputs": [
    {
     "name": "stdout",
     "output_type": "stream",
     "text": [
      "  14.360 s (79258602 allocations: 20.52 GiB)\n"
     ]
    }
   ],
   "source": [
    "@btime scan_perms_toCompare(pheno_y, geno, kinship; choice = 1);"
   ]
  },
  {
   "cell_type": "code",
   "execution_count": 92,
   "id": "6485aec8-4b19-4ca2-8d0e-205d470f36f7",
   "metadata": {},
   "outputs": [
    {
     "name": "stdout",
     "output_type": "stream",
     "text": [
      "  9.922 s (155195 allocations: 13.69 GiB)\n"
     ]
    }
   ],
   "source": [
    "@btime scan_perms_toCompare(pheno_y, geno, kinship; choice = 2);"
   ]
  },
  {
   "cell_type": "code",
   "execution_count": 93,
   "id": "692b7d86-5e0e-4529-90d6-1e0a42e3e523",
   "metadata": {},
   "outputs": [
    {
     "name": "stdout",
     "output_type": "stream",
     "text": [
      "  8.821 s (140553 allocations: 13.64 GiB)\n"
     ]
    }
   ],
   "source": [
    "@btime scan_perms_toCompare(pheno_y, geno, kinship; choice = 3);"
   ]
  },
  {
   "cell_type": "code",
   "execution_count": 126,
   "id": "f672f321-2f7a-49e1-acfb-4e0114f11e81",
   "metadata": {},
   "outputs": [],
   "source": [
    "include(\"../src/wls.jl\");"
   ]
  },
  {
   "cell_type": "code",
   "execution_count": 127,
   "id": "2947530a-7e6e-4730-b20a-9c9ee2544d01",
   "metadata": {},
   "outputs": [],
   "source": [
    "include(\"../src/scan.jl\");"
   ]
  },
  {
   "cell_type": "code",
   "execution_count": 133,
   "id": "95d7e603-88d4-4ca4-aa66-5495cfe212b0",
   "metadata": {},
   "outputs": [],
   "source": [
    "include(\"../src/scan_for_tests.jl\");"
   ]
  },
  {
   "cell_type": "code",
   "execution_count": 130,
   "id": "0a4037af-540b-4e7a-94ad-776da4f2192d",
   "metadata": {},
   "outputs": [
    {
     "name": "stdout",
     "output_type": "stream",
     "text": [
      "  9.061 s (215712 allocations: 13.63 GiB)\n"
     ]
    },
    {
     "data": {
      "text/plain": [
       "1025×7321 Matrix{Float64}:\n",
       " 0.00819636   0.00819636   0.00819636   …  0.0128283    0.0128283\n",
       " 1.71913      1.71913      1.71913         0.452205     0.452205\n",
       " 0.225974     0.225974     0.225974        0.201861     0.201861\n",
       " 0.0167808    0.0167808    0.0167808       0.00762492   0.00762492\n",
       " 0.0800067    0.0800067    0.0800067       0.00972036   0.00972036\n",
       " 0.000354535  0.000354535  0.000354535  …  0.383925     0.383925\n",
       " 0.58573      0.58573      0.58573         0.202066     0.202066\n",
       " 0.519134     0.519134     0.519134        0.0839292    0.0839292\n",
       " 3.18899e-5   3.18899e-5   3.18899e-5      0.144341     0.144341\n",
       " 1.03257      1.03257      1.03257         0.183653     0.183653\n",
       " 0.0559665    0.0559665    0.0559665    …  0.0507086    0.0507086\n",
       " 0.0760841    0.0760841    0.0760841       0.0705379    0.0705379\n",
       " 0.0890595    0.0890595    0.0890595       0.167509     0.167509\n",
       " ⋮                                      ⋱               ⋮\n",
       " 0.156918     0.156918     0.156918        0.212798     0.212798\n",
       " 0.612546     0.612546     0.612546        0.000645164  0.000645164\n",
       " 0.18744      0.18744      0.18744      …  0.0875321    0.0875321\n",
       " 0.350021     0.350021     0.350021        0.0596889    0.0596889\n",
       " 8.28827e-6   8.28827e-6   8.28827e-6      0.0023828    0.0023828\n",
       " 0.00582969   0.00582969   0.00582969      0.0182791    0.0182791\n",
       " 0.0403823    0.0403823    0.0403823       0.0517002    0.0517002\n",
       " 0.000790185  0.000790185  0.000790185  …  2.7942e-5    2.7942e-5\n",
       " 0.0720784    0.0720784    0.0720784       0.0579038    0.0579038\n",
       " 0.273389     0.273389     0.273389        0.0820012    0.0820012\n",
       " 0.0029733    0.0029733    0.0029733       0.180209     0.180209\n",
       " 0.0919132    0.0919132    0.0919132       0.218387     0.218387"
      ]
     },
     "execution_count": 130,
     "metadata": {},
     "output_type": "execute_result"
    }
   ],
   "source": [
    "@btime scan_perms(pheno_y, geno, kinship) # oldest"
   ]
  },
  {
   "cell_type": "code",
   "execution_count": 124,
   "id": "532fd336-6dc1-40bd-b65d-ec01a9a1dce3",
   "metadata": {},
   "outputs": [
    {
     "name": "stdout",
     "output_type": "stream",
     "text": [
      "  7.908 s (193749 allocations: 13.62 GiB)\n"
     ]
    }
   ],
   "source": [
    "@btime scan_perms2(pheno_y, geno, kinship); # new"
   ]
  },
  {
   "cell_type": "code",
   "execution_count": 129,
   "id": "0a75160f-5f38-4c06-a002-b7a4bf658c30",
   "metadata": {},
   "outputs": [
    {
     "name": "stdout",
     "output_type": "stream",
     "text": [
      "  7.949 s (193749 allocations: 13.62 GiB)\n"
     ]
    }
   ],
   "source": [
    "@btime scan_perms2(pheno_y, geno, kinship);"
   ]
  },
  {
   "cell_type": "code",
   "execution_count": null,
   "id": "e9201287-5920-4446-a540-e11b362ddedf",
   "metadata": {},
   "outputs": [],
   "source": [
    "@btime scan_perms2(pheno_y, geno, kinship); # newest"
   ]
  },
  {
   "cell_type": "code",
   "execution_count": null,
   "id": "e205b6fd-f585-4a33-8577-2f7e4a9ca818",
   "metadata": {},
   "outputs": [],
   "source": [
    "scan_perms2(pheno_y, geno, kinship)"
   ]
  }
 ],
 "metadata": {
  "kernelspec": {
   "display_name": "Julia 1.6.2",
   "language": "julia",
   "name": "julia-1.6"
  },
  "language_info": {
   "file_extension": ".jl",
   "mimetype": "application/julia",
   "name": "julia",
   "version": "1.6.2"
  }
 },
 "nbformat": 4,
 "nbformat_minor": 5
}
