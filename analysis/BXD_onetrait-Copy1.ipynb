{
 "cells": [
  {
   "cell_type": "code",
   "execution_count": 8,
   "id": "0006da74-63a2-401f-af8d-3a051589bbcf",
   "metadata": {},
   "outputs": [],
   "source": [
    "#using Pkg\n",
    "#Pkg.add(\"Profile\")"
   ]
  },
  {
   "cell_type": "code",
   "execution_count": 11,
   "id": "75e59a59-1341-4175-b13e-857ef1796939",
   "metadata": {},
   "outputs": [],
   "source": [
    "using DelimitedFiles\n",
    "using LinearAlgebra\n",
    "using Optim\n",
    "using Distributions\n",
    "using Test\n",
    "using BenchmarkTools\n",
    "using Random\n",
    "using CSV\n",
    "using DataFrames\n",
    "using Distributed\n",
    "using Plots\n",
    "using Profile"
   ]
  },
  {
   "cell_type": "code",
   "execution_count": 2,
   "id": "13ee33c1-4b5a-4423-b8d4-f53c785aaeff",
   "metadata": {},
   "outputs": [
    {
     "data": {
      "text/plain": [
       "\"/Users/FredYu/Documents/GitHub/BulkLMM.jl/analysis\""
      ]
     },
     "execution_count": 2,
     "metadata": {},
     "output_type": "execute_result"
    }
   ],
   "source": [
    "pwd()"
   ]
  },
  {
   "cell_type": "code",
   "execution_count": 3,
   "id": "f27ecb5f-08db-49cb-8e5c-a34a60ddbf5e",
   "metadata": {},
   "outputs": [],
   "source": [
    "## Include the source code of BulkLMM to be tested:\n",
    "include(\"../src/scan.jl\");\n",
    "include(\"../src/lmm.jl\");\n",
    "include(\"../src/wls.jl\");\n",
    "include(\"../src/util.jl\");\n",
    "include(\"../src/kinship.jl\");\n",
    "include(\"../src/readData.jl\");\n",
    "\n",
    "## Also include the helper functions for writing tests:\n",
    "include(\"../test/testHelper.jl\");"
   ]
  },
  {
   "cell_type": "code",
   "execution_count": 4,
   "id": "e72d7139-b84a-49e5-b462-8821f443cd90",
   "metadata": {},
   "outputs": [],
   "source": [
    "## Read in BXD data:\n",
    "pheno_file = \"../data/bxdData/BXDtraits.csv\"\n",
    "pheno = readBXDpheno(pheno_file);\n",
    "geno_file = \"../data/bxdData/BXDgeno_prob.csv\"\n",
    "geno = readGenoProb_ExcludeComplements(geno_file);\n",
    "\n",
    "kinship = calcKinship(geno); # calculate kinship matrix from genotype data"
   ]
  },
  {
   "cell_type": "code",
   "execution_count": 5,
   "id": "be75bad0-1b8d-4afe-822c-3c2ca8d50338",
   "metadata": {},
   "outputs": [],
   "source": [
    "nperms = 1024; # number of permutated copies required;\n",
    "m = size(pheno, 2);\n",
    "p = size(geno, 2); # number of markers"
   ]
  },
  {
   "cell_type": "code",
   "execution_count": 6,
   "id": "d8ef6dc8-67c8-4858-8fae-7840e73fa675",
   "metadata": {},
   "outputs": [],
   "source": [
    "## Consider the 7919-th trait\n",
    "pheno_y = reshape(pheno[:, 7919], :, 1);"
   ]
  },
  {
   "cell_type": "markdown",
   "id": "5a30159a-c245-4e84-898f-e7fb5d8e7dcf",
   "metadata": {},
   "source": [
    "## Do the same for many traits (first 1000):"
   ]
  },
  {
   "cell_type": "code",
   "execution_count": 7,
   "id": "a774ef6a-e39f-4d50-9108-132eaec80154",
   "metadata": {},
   "outputs": [
    {
     "data": {
      "text/plain": [
       "getMaxLod (generic function with 1 method)"
      ]
     },
     "execution_count": 7,
     "metadata": {},
     "output_type": "execute_result"
    }
   ],
   "source": [
    "# Function that extracts the row maximums for a matrix:\n",
    "function getMaxLod_manyTraits(pheno::Array{Float64, 2}, geno::Array{Float64, 2}, kinship::Array{Float64, 2};\n",
    "                              ntraits::Int64 = 1000, nperms::Int64 = 1024, original::Bool = true)\n",
    "    \n",
    "    if original\n",
    "        nrows = nperms+1\n",
    "    else\n",
    "        nrows = nperms\n",
    "    end\n",
    "    \n",
    "    maxLods_manyTraits = Matrix{Float64}(undef, nrows, ntraits);\n",
    "    \n",
    "    for k in 1:ntraits\n",
    "        \n",
    "        pheno_k = reshape(pheno[:, k], :, 1);\n",
    "        results = scan_perms(pheno_k, geno, kinship; nperms = nperms)\n",
    "        \n",
    "        maxLods_manyTraits[:, k] = getMaxLod(results)\n",
    "    end\n",
    "    \n",
    "    return maxLods_manyTraits; \n",
    "end\n",
    "\n",
    "\n",
    "function getMaxLod(results::Array{Float64, 2})\n",
    "    \n",
    "    return mapslices(x -> maximum(x), results; dims = 2);\n",
    "    \n",
    "end"
   ]
  },
  {
   "cell_type": "code",
   "execution_count": 8,
   "id": "63e0c587-94cc-4985-af4d-225ff3ecf1e3",
   "metadata": {},
   "outputs": [
    {
     "data": {
      "text/plain": [
       "BenchmarkTools.Trial: 1 sample with 1 evaluation.\n",
       " Single result which took \u001b[34m6.713 s\u001b[39m (11.08% GC) to evaluate,\n",
       " with a memory estimate of \u001b[33m13.63 GiB\u001b[39m, over \u001b[33m194772\u001b[39m allocations."
      ]
     },
     "execution_count": 8,
     "metadata": {},
     "output_type": "execute_result"
    }
   ],
   "source": [
    "@benchmark scan_perms(pheno_y, geno, kinship; nperms = 1024)"
   ]
  },
  {
   "cell_type": "code",
   "execution_count": 9,
   "id": "4ad9dc9f-982e-4941-81ea-c84a24a2672b",
   "metadata": {},
   "outputs": [
    {
     "data": {
      "text/plain": [
       "3"
      ]
     },
     "execution_count": 9,
     "metadata": {},
     "output_type": "execute_result"
    }
   ],
   "source": [
    "function myfunc(x)\n",
    "    return x+1;\n",
    "end\n",
    "\n",
    "@profile myfunc(2)"
   ]
  },
  {
   "cell_type": "code",
   "execution_count": 10,
   "id": "053aa8f2-1ca5-4665-abc5-618a55f0461a",
   "metadata": {},
   "outputs": [
    {
     "name": "stdout",
     "output_type": "stream",
     "text": [
      "Overhead ╎ [+additional indent] Count File:Line; Function\n",
      "=========================================================\n",
      " ╎4 @Base/task.jl:411; (::IJulia.var\"#15#18\")()\n",
      " ╎ 4 @IJulia/src/eventloop.jl:8; eventloop(socket::ZMQ.Socket)\n",
      " ╎  4 @Base/essentials.jl:706; invokelatest\n",
      " ╎   4 @Base/essentials.jl:708; #invokelatest#2\n",
      " ╎    4 ...rc/execute_request.jl:67; execute_request(socket::ZMQ.Socke...\n",
      " ╎     4 ...c/SoftGlobalScope.jl:65; softscope_include_string(m::Modu...\n",
      " ╎    ╎ 4 @Base/loading.jl:1116; include_string(mapexpr::typeof...\n",
      "3╎    ╎  4 @Base/boot.jl:360; eval\n",
      "Total snapshots: 4\n"
     ]
    }
   ],
   "source": [
    "Profile.print()"
   ]
  },
  {
   "cell_type": "code",
   "execution_count": null,
   "id": "28734905-756b-41cf-bec6-621a7a977fef",
   "metadata": {},
   "outputs": [],
   "source": []
  }
 ],
 "metadata": {
  "kernelspec": {
   "display_name": "Julia 1.6.2",
   "language": "julia",
   "name": "julia-1.6"
  },
  "language_info": {
   "file_extension": ".jl",
   "mimetype": "application/julia",
   "name": "julia",
   "version": "1.6.2"
  }
 },
 "nbformat": 4,
 "nbformat_minor": 5
}
