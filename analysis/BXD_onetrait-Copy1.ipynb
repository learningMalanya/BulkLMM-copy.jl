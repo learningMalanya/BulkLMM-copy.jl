{
 "cells": [
  {
   "cell_type": "code",
   "execution_count": 1,
   "id": "0006da74-63a2-401f-af8d-3a051589bbcf",
   "metadata": {},
   "outputs": [],
   "source": [
    "using Pkg\n",
    "# Pkg.add(\"Profile\")\n",
    "# Pkg.instantiate()"
   ]
  },
  {
   "cell_type": "code",
   "execution_count": 2,
   "id": "50ac7685-f82b-4e95-be23-597941d863a9",
   "metadata": {},
   "outputs": [],
   "source": [
    "#= dependencies = [\"DelimitedFiles\", \"LinearAlgebra\", \"Optim\", \"Distributions\", \"Test\",\n",
    "                \"BenchmarkTools\", \"Random\", \"CSV\", \"DataFrames\", \"Distributed\", \"Plots\"];\n",
    "Pkg.add(dependencies)=#"
   ]
  },
  {
   "cell_type": "code",
   "execution_count": 3,
   "id": "75e59a59-1341-4175-b13e-857ef1796939",
   "metadata": {},
   "outputs": [],
   "source": [
    "using DelimitedFiles\n",
    "using LinearAlgebra\n",
    "using Optim\n",
    "using Distributions\n",
    "using Test\n",
    "using BenchmarkTools\n",
    "using Random\n",
    "using CSV\n",
    "using DataFrames\n",
    "using Distributed\n",
    "using Plots\n",
    "using Profile"
   ]
  },
  {
   "cell_type": "code",
   "execution_count": 4,
   "id": "13ee33c1-4b5a-4423-b8d4-f53c785aaeff",
   "metadata": {},
   "outputs": [
    {
     "data": {
      "text/plain": [
       "\"/Users/FredYu/Documents/GitHub/BulkLMM.jl/analysis\""
      ]
     },
     "execution_count": 4,
     "metadata": {},
     "output_type": "execute_result"
    }
   ],
   "source": [
    "pwd()"
   ]
  },
  {
   "cell_type": "code",
   "execution_count": 5,
   "id": "f27ecb5f-08db-49cb-8e5c-a34a60ddbf5e",
   "metadata": {},
   "outputs": [],
   "source": [
    "## Include the source code of BulkLMM to be tested:\n",
    "include(\"../src/scan.jl\");\n",
    "include(\"../src/lmm.jl\");\n",
    "include(\"../src/wls.jl\");\n",
    "include(\"../src/util.jl\");\n",
    "include(\"../src/kinship.jl\");\n",
    "include(\"../src/readData.jl\");\n",
    "include(\"../src/scan_for_tests.jl\")\n",
    "\n",
    "## Also include the helper functions for writing tests:\n",
    "include(\"../test/testHelper.jl\");"
   ]
  },
  {
   "cell_type": "code",
   "execution_count": 6,
   "id": "e72d7139-b84a-49e5-b462-8821f443cd90",
   "metadata": {},
   "outputs": [],
   "source": [
    "## Read in BXD data:\n",
    "pheno_file = \"../data/bxdData/BXDtraits.csv\"\n",
    "pheno = readBXDpheno(pheno_file);\n",
    "geno_file = \"../data/bxdData/BXDgeno_prob.csv\"\n",
    "geno = readGenoProb_ExcludeComplements(geno_file);\n",
    "\n",
    "kinship = calcKinship(geno); # calculate kinship matrix from genotype data"
   ]
  },
  {
   "cell_type": "code",
   "execution_count": 7,
   "id": "be75bad0-1b8d-4afe-822c-3c2ca8d50338",
   "metadata": {},
   "outputs": [],
   "source": [
    "nperms = 1024; # number of permutated copies required;\n",
    "m = size(pheno, 2);\n",
    "p = size(geno, 2); # number of markers"
   ]
  },
  {
   "cell_type": "code",
   "execution_count": 8,
   "id": "d8ef6dc8-67c8-4858-8fae-7840e73fa675",
   "metadata": {},
   "outputs": [],
   "source": [
    "## Consider the 7919-th trait\n",
    "pheno_y = reshape(pheno[:, 7919], :, 1);"
   ]
  },
  {
   "cell_type": "markdown",
   "id": "5a30159a-c245-4e84-898f-e7fb5d8e7dcf",
   "metadata": {},
   "source": [
    "## Do the same for many traits (first 1000):"
   ]
  },
  {
   "cell_type": "code",
   "execution_count": 9,
   "id": "a774ef6a-e39f-4d50-9108-132eaec80154",
   "metadata": {},
   "outputs": [
    {
     "data": {
      "text/plain": [
       "getMaxLod (generic function with 1 method)"
      ]
     },
     "execution_count": 9,
     "metadata": {},
     "output_type": "execute_result"
    }
   ],
   "source": [
    "# Function that extracts the row maximums for a matrix:\n",
    "function getMaxLod_manyTraits(pheno::Array{Float64, 2}, geno::Array{Float64, 2}, kinship::Array{Float64, 2};\n",
    "                              ntraits::Int64 = 1000, nperms::Int64 = 1024, original::Bool = true)\n",
    "    \n",
    "    if original\n",
    "        nrows = nperms+1\n",
    "    else\n",
    "        nrows = nperms\n",
    "    end\n",
    "    \n",
    "    maxLods_manyTraits = Matrix{Float64}(undef, nrows, ntraits);\n",
    "    \n",
    "    for k in 1:ntraits\n",
    "        \n",
    "        pheno_k = reshape(pheno[:, k], :, 1);\n",
    "        results = scan_perms(pheno_k, geno, kinship; nperms = nperms)\n",
    "        \n",
    "        maxLods_manyTraits[:, k] = getMaxLod(results)\n",
    "    end\n",
    "    \n",
    "    return maxLods_manyTraits; \n",
    "end\n",
    "\n",
    "function getMaxLod_manyTraits2(pheno::Array{Float64, 2}, geno::Array{Float64, 2}, kinship::Array{Float64, 2};\n",
    "                              ntraits::Int64 = 1000, nperms::Int64 = 1024, original::Bool = true)\n",
    "    \n",
    "    if original\n",
    "        nrows = nperms+1\n",
    "    else\n",
    "        nrows = nperms\n",
    "    end\n",
    "    \n",
    "    maxLods_manyTraits = Matrix{Float64}(undef, nrows, ntraits);\n",
    "    \n",
    "    for k in 1:ntraits\n",
    "        \n",
    "        pheno_k = reshape(pheno[:, k], :, 1);\n",
    "        results = scan_perms2(pheno_k, geno, kinship; nperms = nperms)\n",
    "        \n",
    "        maxLods_manyTraits[:, k] = getMaxLod(results)\n",
    "    end\n",
    "    \n",
    "    return maxLods_manyTraits; \n",
    "end\n",
    "\n",
    "\n",
    "function getMaxLod(results::Array{Float64, 2})\n",
    "    \n",
    "    return mapslices(x -> maximum(x), results; dims = 2);\n",
    "    \n",
    "end"
   ]
  },
  {
   "cell_type": "code",
   "execution_count": 10,
   "id": "f7e12c24-7874-4b69-8e0c-53c17aecc1d1",
   "metadata": {},
   "outputs": [
    {
     "name": "stdout",
     "output_type": "stream",
     "text": [
      "  7.435 s (215713 allocations: 13.63 GiB)\n"
     ]
    }
   ],
   "source": [
    "@btime scan_perms(pheno_y, geno, kinship; nperms = 1024);"
   ]
  },
  {
   "cell_type": "code",
   "execution_count": 11,
   "id": "43ac5394-0057-41ff-b02d-1add7362e912",
   "metadata": {},
   "outputs": [
    {
     "name": "stdout",
     "output_type": "stream",
     "text": [
      "  7.538 s (117063 allocations: 13.62 GiB)\n"
     ]
    }
   ],
   "source": [
    "@btime scan_perms2(pheno_y, geno, kinship; nperms = 1024);"
   ]
  },
  {
   "cell_type": "code",
   "execution_count": 12,
   "id": "35955c36-6f9f-4463-b728-96c8f11a4578",
   "metadata": {},
   "outputs": [
    {
     "data": {
      "text/plain": [
       "BenchmarkTools.Trial: 2 samples with 1 evaluation.\n",
       " Range \u001b[90m(\u001b[39m\u001b[36m\u001b[1mmin\u001b[22m\u001b[39m … \u001b[35mmax\u001b[39m\u001b[90m):  \u001b[39m\u001b[36m\u001b[1m3.553 s\u001b[22m\u001b[39m … \u001b[35m  3.657 s\u001b[39m  \u001b[90m┊\u001b[39m GC \u001b[90m(\u001b[39mmin … max\u001b[90m): \u001b[39m11.63% … 11.71%\n",
       " Time  \u001b[90m(\u001b[39m\u001b[34m\u001b[1mmedian\u001b[22m\u001b[39m\u001b[90m):     \u001b[39m\u001b[34m\u001b[1m3.605 s              \u001b[22m\u001b[39m\u001b[90m┊\u001b[39m GC \u001b[90m(\u001b[39mmedian\u001b[90m):    \u001b[39m11.67%\n",
       " Time  \u001b[90m(\u001b[39m\u001b[32m\u001b[1mmean\u001b[22m\u001b[39m ± \u001b[32mσ\u001b[39m\u001b[90m):   \u001b[39m\u001b[32m\u001b[1m3.605 s\u001b[22m\u001b[39m ± \u001b[32m73.445 ms\u001b[39m  \u001b[90m┊\u001b[39m GC \u001b[90m(\u001b[39mmean ± σ\u001b[90m):  \u001b[39m11.67% ±  0.06%\n",
       "\n",
       "  \u001b[34m█\u001b[39m\u001b[39m \u001b[39m \u001b[39m \u001b[39m \u001b[39m \u001b[39m \u001b[39m \u001b[39m \u001b[39m \u001b[39m \u001b[39m \u001b[39m \u001b[39m \u001b[39m \u001b[39m \u001b[39m \u001b[39m \u001b[39m \u001b[39m \u001b[39m \u001b[39m \u001b[39m \u001b[39m \u001b[39m \u001b[39m \u001b[39m \u001b[39m \u001b[32m \u001b[39m\u001b[39m \u001b[39m \u001b[39m \u001b[39m \u001b[39m \u001b[39m \u001b[39m \u001b[39m \u001b[39m \u001b[39m \u001b[39m \u001b[39m \u001b[39m \u001b[39m \u001b[39m \u001b[39m \u001b[39m \u001b[39m \u001b[39m \u001b[39m \u001b[39m \u001b[39m \u001b[39m \u001b[39m \u001b[39m \u001b[39m \u001b[39m \u001b[39m█\u001b[39m \u001b[39m \n",
       "  \u001b[34m█\u001b[39m\u001b[39m▁\u001b[39m▁\u001b[39m▁\u001b[39m▁\u001b[39m▁\u001b[39m▁\u001b[39m▁\u001b[39m▁\u001b[39m▁\u001b[39m▁\u001b[39m▁\u001b[39m▁\u001b[39m▁\u001b[39m▁\u001b[39m▁\u001b[39m▁\u001b[39m▁\u001b[39m▁\u001b[39m▁\u001b[39m▁\u001b[39m▁\u001b[39m▁\u001b[39m▁\u001b[39m▁\u001b[39m▁\u001b[39m▁\u001b[39m▁\u001b[32m▁\u001b[39m\u001b[39m▁\u001b[39m▁\u001b[39m▁\u001b[39m▁\u001b[39m▁\u001b[39m▁\u001b[39m▁\u001b[39m▁\u001b[39m▁\u001b[39m▁\u001b[39m▁\u001b[39m▁\u001b[39m▁\u001b[39m▁\u001b[39m▁\u001b[39m▁\u001b[39m▁\u001b[39m▁\u001b[39m▁\u001b[39m▁\u001b[39m▁\u001b[39m▁\u001b[39m▁\u001b[39m▁\u001b[39m▁\u001b[39m▁\u001b[39m▁\u001b[39m█\u001b[39m \u001b[39m▁\n",
       "  3.55 s\u001b[90m         Histogram: frequency by time\u001b[39m        3.66 s \u001b[0m\u001b[1m<\u001b[22m\n",
       "\n",
       " Memory estimate\u001b[90m: \u001b[39m\u001b[33m6.68 GiB\u001b[39m, allocs estimate\u001b[90m: \u001b[39m\u001b[33m208931\u001b[39m."
      ]
     },
     "execution_count": 12,
     "metadata": {},
     "output_type": "execute_result"
    }
   ],
   "source": [
    "@benchmark scan_perms(pheno_y, geno, kinship; nperms = 500) samples = 5 # old way of doing it (in scan.jl)"
   ]
  },
  {
   "cell_type": "code",
   "execution_count": 13,
   "id": "63e0c587-94cc-4985-af4d-225ff3ecf1e3",
   "metadata": {},
   "outputs": [
    {
     "data": {
      "text/plain": [
       "BenchmarkTools.Trial: 2 samples with 1 evaluation.\n",
       " Range \u001b[90m(\u001b[39m\u001b[36m\u001b[1mmin\u001b[22m\u001b[39m … \u001b[35mmax\u001b[39m\u001b[90m):  \u001b[39m\u001b[36m\u001b[1m3.591 s\u001b[22m\u001b[39m … \u001b[35m  3.615 s\u001b[39m  \u001b[90m┊\u001b[39m GC \u001b[90m(\u001b[39mmin … max\u001b[90m): \u001b[39m13.35% … 13.06%\n",
       " Time  \u001b[90m(\u001b[39m\u001b[34m\u001b[1mmedian\u001b[22m\u001b[39m\u001b[90m):     \u001b[39m\u001b[34m\u001b[1m3.603 s              \u001b[22m\u001b[39m\u001b[90m┊\u001b[39m GC \u001b[90m(\u001b[39mmedian\u001b[90m):    \u001b[39m13.21%\n",
       " Time  \u001b[90m(\u001b[39m\u001b[32m\u001b[1mmean\u001b[22m\u001b[39m ± \u001b[32mσ\u001b[39m\u001b[90m):   \u001b[39m\u001b[32m\u001b[1m3.603 s\u001b[22m\u001b[39m ± \u001b[32m16.912 ms\u001b[39m  \u001b[90m┊\u001b[39m GC \u001b[90m(\u001b[39mmean ± σ\u001b[90m):  \u001b[39m13.21% ±  0.20%\n",
       "\n",
       "  \u001b[34m█\u001b[39m\u001b[39m \u001b[39m \u001b[39m \u001b[39m \u001b[39m \u001b[39m \u001b[39m \u001b[39m \u001b[39m \u001b[39m \u001b[39m \u001b[39m \u001b[39m \u001b[39m \u001b[39m \u001b[39m \u001b[39m \u001b[39m \u001b[39m \u001b[39m \u001b[39m \u001b[39m \u001b[39m \u001b[39m \u001b[39m \u001b[39m \u001b[39m \u001b[32m \u001b[39m\u001b[39m \u001b[39m \u001b[39m \u001b[39m \u001b[39m \u001b[39m \u001b[39m \u001b[39m \u001b[39m \u001b[39m \u001b[39m \u001b[39m \u001b[39m \u001b[39m \u001b[39m \u001b[39m \u001b[39m \u001b[39m \u001b[39m \u001b[39m \u001b[39m \u001b[39m \u001b[39m \u001b[39m \u001b[39m \u001b[39m \u001b[39m \u001b[39m█\u001b[39m \u001b[39m \n",
       "  \u001b[34m█\u001b[39m\u001b[39m▁\u001b[39m▁\u001b[39m▁\u001b[39m▁\u001b[39m▁\u001b[39m▁\u001b[39m▁\u001b[39m▁\u001b[39m▁\u001b[39m▁\u001b[39m▁\u001b[39m▁\u001b[39m▁\u001b[39m▁\u001b[39m▁\u001b[39m▁\u001b[39m▁\u001b[39m▁\u001b[39m▁\u001b[39m▁\u001b[39m▁\u001b[39m▁\u001b[39m▁\u001b[39m▁\u001b[39m▁\u001b[39m▁\u001b[39m▁\u001b[32m▁\u001b[39m\u001b[39m▁\u001b[39m▁\u001b[39m▁\u001b[39m▁\u001b[39m▁\u001b[39m▁\u001b[39m▁\u001b[39m▁\u001b[39m▁\u001b[39m▁\u001b[39m▁\u001b[39m▁\u001b[39m▁\u001b[39m▁\u001b[39m▁\u001b[39m▁\u001b[39m▁\u001b[39m▁\u001b[39m▁\u001b[39m▁\u001b[39m▁\u001b[39m▁\u001b[39m▁\u001b[39m▁\u001b[39m▁\u001b[39m▁\u001b[39m▁\u001b[39m█\u001b[39m \u001b[39m▁\n",
       "  3.59 s\u001b[90m         Histogram: frequency by time\u001b[39m        3.61 s \u001b[0m\u001b[1m<\u001b[22m\n",
       "\n",
       " Memory estimate\u001b[90m: \u001b[39m\u001b[33m6.67 GiB\u001b[39m, allocs estimate\u001b[90m: \u001b[39m\u001b[33m116539\u001b[39m."
      ]
     },
     "execution_count": 13,
     "metadata": {},
     "output_type": "execute_result"
    }
   ],
   "source": [
    "@benchmark scan_perms2(pheno_y, geno, kinship; nperms = 500) samples = 5 # new way of doing it (in scan_for_tests.jl)"
   ]
  },
  {
   "cell_type": "code",
   "execution_count": 14,
   "id": "68c11152-ceef-423e-9925-768f42800959",
   "metadata": {},
   "outputs": [],
   "source": [
    "ntraits_list = [1, 10, 20, 30, 80, 100];\n",
    "nperms_list = [0, 10, 20, 40, 80, 100];\n",
    "\n",
    "runtimes_list1 = Array{Float64, 2}(undef, length(ntraits_list), length(nperms_list));\n",
    "memorys_list1 = Array{Float64, 2}(undef, length(ntraits_list), length(nperms_list));\n",
    "runtimes_list2 = Array{Float64, 2}(undef, length(ntraits_list), length(nperms_list));\n",
    "memorys_list2 = Array{Float64, 2}(undef, length(ntraits_list), length(nperms_list));"
   ]
  },
  {
   "cell_type": "code",
   "execution_count": 15,
   "id": "49b7109c-d79f-4853-9599-33b1bf0ea4ea",
   "metadata": {
    "tags": []
   },
   "outputs": [],
   "source": [
    "for i in 1:length(ntraits_list)\n",
    "    \n",
    "    ntraits = ntraits_list[i];\n",
    "    \n",
    "    for j in 1:length(nperms_list)\n",
    "        \n",
    "        nperms = nperms_list[j];\n",
    "        \n",
    "        b1 = @benchmark getMaxLod_manyTraits(pheno, geno, kinship; ntraits = $ntraits, nperms = $nperms);\n",
    "        b1 = median(b1);\n",
    "        \n",
    "        b2 = @benchmark getMaxLod_manyTraits2(pheno, geno, kinship; ntraits = $ntraits, nperms = $nperms);\n",
    "        b2 = median(b2);\n",
    "        \n",
    "        runtimes_list1[i, j] = time(b1)/1e9;\n",
    "        memorys_list1[i, j] = memory(b1)/(1024*1024*1024);\n",
    "        \n",
    "        runtimes_list2[i, j] = time(b2)/1e9;\n",
    "        memorys_list2[i, j] = memory(b2)/(1024*1024*1024);\n",
    "    \n",
    "    end\n",
    "end"
   ]
  },
  {
   "cell_type": "code",
   "execution_count": 16,
   "id": "8ac9ba54-cdf5-4226-88be-53c09f0bf68b",
   "metadata": {},
   "outputs": [
    {
     "data": {
      "text/plain": [
       "6×6 Matrix{Float64}:\n",
       " 0.0376895   0.104443   0.15738   0.230437   0.744745   0.853291\n",
       " 0.368006    1.08533    1.58594   2.49179    6.99951    8.34851\n",
       " 0.888596    2.16949    3.13422   4.73391   14.2115    17.2561\n",
       " 1.32804     3.34587    4.8198    7.82239   22.0806    25.718\n",
       " 3.84106     9.94278   13.8035   22.3972    58.3677    69.0123\n",
       " 4.96334    13.4909    16.762    28.8554    72.4232    89.2696"
      ]
     },
     "execution_count": 16,
     "metadata": {},
     "output_type": "execute_result"
    }
   ],
   "source": [
    "runtimes_list1 # row: number of traits; column: number of permutations"
   ]
  },
  {
   "cell_type": "code",
   "execution_count": 17,
   "id": "50090f0c-eb09-4cdd-ba1c-09c970303a5a",
   "metadata": {},
   "outputs": [
    {
     "data": {
      "text/plain": [
       "6×6 Matrix{Float64}:\n",
       " 0.0170308   0.0747063   0.122727   0.193464   0.633729   0.754319\n",
       " 0.196867    0.778894    1.2081     1.88145    6.19146    7.34724\n",
       " 0.438718    1.59272     2.43239    3.79474   12.5398    15.0772\n",
       " 0.736098    2.58575     4.23686    6.35309   19.0546    22.5773\n",
       " 2.10505     7.47278    11.4502    19.8104    51.1559    61.4696\n",
       " 2.77425    10.5684     14.6061    26.4162    64.0336    77.5121"
      ]
     },
     "execution_count": 17,
     "metadata": {},
     "output_type": "execute_result"
    }
   ],
   "source": [
    "runtimes_list2 # row: number of traits; column: number of permutations"
   ]
  },
  {
   "cell_type": "code",
   "execution_count": 18,
   "id": "9c243f95-0ca1-4281-a2f6-2ff456527bed",
   "metadata": {},
   "outputs": [
    {
     "data": {
      "text/plain": [
       "6×6 Matrix{Float64}:\n",
       " 0.0494577   0.183009   0.315906   0.580501    1.10969    1.37548\n",
       " 0.494594    1.83011    3.15908    5.80502    11.0969    13.7548\n",
       " 0.989179    3.66021    6.31815   11.61       22.1938    27.5097\n",
       " 1.48378     5.49033    9.47725   17.4151     33.2907    41.2645\n",
       " 3.95671    14.6408    25.2726    46.4401     88.7752   110.039\n",
       " 4.94424    18.2994    31.5891    58.0485    110.967    137.547"
      ]
     },
     "execution_count": 18,
     "metadata": {},
     "output_type": "execute_result"
    }
   ],
   "source": [
    "memorys_list1 # row: number of traits; column: number of permutations"
   ]
  },
  {
   "cell_type": "code",
   "execution_count": 19,
   "id": "12bf942c-f150-4bd4-9f8f-7fa8b914e7ff",
   "metadata": {},
   "outputs": [
    {
     "data": {
      "text/plain": [
       "6×6 Matrix{Float64}:\n",
       " 0.0407284   0.174271   0.307159   0.571299    1.10089    1.36666\n",
       " 0.407302    1.74273    3.07161    5.71301    11.0089    13.6667\n",
       " 0.814594    3.48545    6.14321   11.426      22.0178    27.3333\n",
       " 1.2219      5.22819    9.21483   17.139      33.0267    41.0\n",
       " 3.25837    13.9418    24.5728    45.704      88.0711   109.333\n",
       " 4.07131    17.4256    30.7144    57.1284    110.087    136.665"
      ]
     },
     "execution_count": 19,
     "metadata": {},
     "output_type": "execute_result"
    }
   ],
   "source": [
    "memorys_list2 # row: number of traits; column: number of permutations"
   ]
  },
  {
   "cell_type": "code",
   "execution_count": 20,
   "id": "da08cd50-8b8e-4554-b978-7cc5e338187a",
   "metadata": {},
   "outputs": [
    {
     "data": {
      "text/plain": [
       "6-element Vector{String}:\n",
       " \"nperms = 0\"\n",
       " \"nperms = 10\"\n",
       " \"nperms = 20\"\n",
       " \"nperms = 40\"\n",
       " \"nperms = 80\"\n",
       " \"nperms = 100\""
      ]
     },
     "execution_count": 20,
     "metadata": {},
     "output_type": "execute_result"
    }
   ],
   "source": [
    "labels = map(x -> string(\"nperms = \", x), string.(nperms_list))"
   ]
  },
  {
   "cell_type": "code",
   "execution_count": 21,
   "id": "2d193c8f-4b10-4136-879a-42bc1e031999",
   "metadata": {},
   "outputs": [
    {
     "data": {
      "image/svg+xml": [
       "<?xml version=\"1.0\" encoding=\"utf-8\"?>\n",
       "<svg xmlns=\"http://www.w3.org/2000/svg\" xmlns:xlink=\"http://www.w3.org/1999/xlink\" width=\"600\" height=\"400\" viewBox=\"0 0 2400 1600\">\n",
       "<defs>\n",
       "  <clipPath id=\"clip570\">\n",
       "    <rect x=\"0\" y=\"0\" width=\"2400\" height=\"1600\"/>\n",
       "  </clipPath>\n",
       "</defs>\n",
       "<path clip-path=\"url(#clip570)\" d=\"\n",
       "M0 1600 L2400 1600 L2400 0 L0 0  Z\n",
       "  \" fill=\"#ffffff\" fill-rule=\"evenodd\" fill-opacity=\"1\"/>\n",
       "<defs>\n",
       "  <clipPath id=\"clip571\">\n",
       "    <rect x=\"480\" y=\"0\" width=\"1681\" height=\"1600\"/>\n",
       "  </clipPath>\n",
       "</defs>\n",
       "<path clip-path=\"url(#clip570)\" d=\"\n",
       "M141.853 1486.45 L2352.76 1486.45 L2352.76 47.2441 L141.853 47.2441  Z\n",
       "  \" fill=\"#ffffff\" fill-rule=\"evenodd\" fill-opacity=\"1\"/>\n",
       "<defs>\n",
       "  <clipPath id=\"clip572\">\n",
       "    <rect x=\"141\" y=\"47\" width=\"2212\" height=\"1440\"/>\n",
       "  </clipPath>\n",
       "</defs>\n",
       "<polyline clip-path=\"url(#clip572)\" style=\"stroke:#000000; stroke-linecap:butt; stroke-linejoin:round; stroke-width:2; stroke-opacity:0.1; fill:none\" points=\"\n",
       "  183.357,1486.45 183.357,47.2441 \n",
       "  \"/>\n",
       "<polyline clip-path=\"url(#clip572)\" style=\"stroke:#000000; stroke-linecap:butt; stroke-linejoin:round; stroke-width:2; stroke-opacity:0.1; fill:none\" points=\"\n",
       "  710.064,1486.45 710.064,47.2441 \n",
       "  \"/>\n",
       "<polyline clip-path=\"url(#clip572)\" style=\"stroke:#000000; stroke-linecap:butt; stroke-linejoin:round; stroke-width:2; stroke-opacity:0.1; fill:none\" points=\"\n",
       "  1236.77,1486.45 1236.77,47.2441 \n",
       "  \"/>\n",
       "<polyline clip-path=\"url(#clip572)\" style=\"stroke:#000000; stroke-linecap:butt; stroke-linejoin:round; stroke-width:2; stroke-opacity:0.1; fill:none\" points=\"\n",
       "  1763.48,1486.45 1763.48,47.2441 \n",
       "  \"/>\n",
       "<polyline clip-path=\"url(#clip572)\" style=\"stroke:#000000; stroke-linecap:butt; stroke-linejoin:round; stroke-width:2; stroke-opacity:0.1; fill:none\" points=\"\n",
       "  2290.18,1486.45 2290.18,47.2441 \n",
       "  \"/>\n",
       "<polyline clip-path=\"url(#clip570)\" style=\"stroke:#000000; stroke-linecap:butt; stroke-linejoin:round; stroke-width:4; stroke-opacity:1; fill:none\" points=\"\n",
       "  141.853,1486.45 2352.76,1486.45 \n",
       "  \"/>\n",
       "<polyline clip-path=\"url(#clip570)\" style=\"stroke:#000000; stroke-linecap:butt; stroke-linejoin:round; stroke-width:4; stroke-opacity:1; fill:none\" points=\"\n",
       "  183.357,1486.45 183.357,1467.55 \n",
       "  \"/>\n",
       "<polyline clip-path=\"url(#clip570)\" style=\"stroke:#000000; stroke-linecap:butt; stroke-linejoin:round; stroke-width:4; stroke-opacity:1; fill:none\" points=\"\n",
       "  710.064,1486.45 710.064,1467.55 \n",
       "  \"/>\n",
       "<polyline clip-path=\"url(#clip570)\" style=\"stroke:#000000; stroke-linecap:butt; stroke-linejoin:round; stroke-width:4; stroke-opacity:1; fill:none\" points=\"\n",
       "  1236.77,1486.45 1236.77,1467.55 \n",
       "  \"/>\n",
       "<polyline clip-path=\"url(#clip570)\" style=\"stroke:#000000; stroke-linecap:butt; stroke-linejoin:round; stroke-width:4; stroke-opacity:1; fill:none\" points=\"\n",
       "  1763.48,1486.45 1763.48,1467.55 \n",
       "  \"/>\n",
       "<polyline clip-path=\"url(#clip570)\" style=\"stroke:#000000; stroke-linecap:butt; stroke-linejoin:round; stroke-width:4; stroke-opacity:1; fill:none\" points=\"\n",
       "  2290.18,1486.45 2290.18,1467.55 \n",
       "  \"/>\n",
       "<path clip-path=\"url(#clip570)\" d=\"M183.357 1515.64 Q179.746 1515.64 177.918 1519.2 Q176.112 1522.75 176.112 1529.87 Q176.112 1536.98 177.918 1540.55 Q179.746 1544.09 183.357 1544.09 Q186.992 1544.09 188.797 1540.55 Q190.626 1536.98 190.626 1529.87 Q190.626 1522.75 188.797 1519.2 Q186.992 1515.64 183.357 1515.64 M183.357 1511.93 Q189.168 1511.93 192.223 1516.54 Q195.302 1521.12 195.302 1529.87 Q195.302 1538.6 192.223 1543.21 Q189.168 1547.79 183.357 1547.79 Q177.547 1547.79 174.469 1543.21 Q171.413 1538.6 171.413 1529.87 Q171.413 1521.12 174.469 1516.54 Q177.547 1511.93 183.357 1511.93 Z\" fill=\"#000000\" fill-rule=\"evenodd\" fill-opacity=\"1\" /><path clip-path=\"url(#clip570)\" d=\"M689.335 1543.18 L705.654 1543.18 L705.654 1547.12 L683.71 1547.12 L683.71 1543.18 Q686.372 1540.43 690.955 1535.8 Q695.562 1531.15 696.742 1529.81 Q698.988 1527.28 699.867 1525.55 Q700.77 1523.79 700.77 1522.1 Q700.77 1519.34 698.825 1517.61 Q696.904 1515.87 693.802 1515.87 Q691.603 1515.87 689.15 1516.63 Q686.719 1517.4 683.941 1518.95 L683.941 1514.23 Q686.765 1513.09 689.219 1512.51 Q691.673 1511.93 693.71 1511.93 Q699.08 1511.93 702.275 1514.62 Q705.469 1517.31 705.469 1521.8 Q705.469 1523.93 704.659 1525.85 Q703.872 1527.74 701.765 1530.34 Q701.187 1531.01 698.085 1534.23 Q694.983 1537.42 689.335 1543.18 Z\" fill=\"#000000\" fill-rule=\"evenodd\" fill-opacity=\"1\" /><path clip-path=\"url(#clip570)\" d=\"M715.515 1512.56 L733.872 1512.56 L733.872 1516.5 L719.798 1516.5 L719.798 1524.97 Q720.816 1524.62 721.835 1524.46 Q722.853 1524.27 723.872 1524.27 Q729.659 1524.27 733.038 1527.44 Q736.418 1530.62 736.418 1536.03 Q736.418 1541.61 732.946 1544.71 Q729.473 1547.79 723.154 1547.79 Q720.978 1547.79 718.71 1547.42 Q716.464 1547.05 714.057 1546.31 L714.057 1541.61 Q716.14 1542.74 718.362 1543.3 Q720.585 1543.86 723.061 1543.86 Q727.066 1543.86 729.404 1541.75 Q731.742 1539.64 731.742 1536.03 Q731.742 1532.42 729.404 1530.31 Q727.066 1528.21 723.061 1528.21 Q721.186 1528.21 719.311 1528.62 Q717.46 1529.04 715.515 1529.92 L715.515 1512.56 Z\" fill=\"#000000\" fill-rule=\"evenodd\" fill-opacity=\"1\" /><path clip-path=\"url(#clip570)\" d=\"M1211.47 1512.56 L1229.83 1512.56 L1229.83 1516.5 L1215.75 1516.5 L1215.75 1524.97 Q1216.77 1524.62 1217.79 1524.46 Q1218.81 1524.27 1219.83 1524.27 Q1225.61 1524.27 1228.99 1527.44 Q1232.37 1530.62 1232.37 1536.03 Q1232.37 1541.61 1228.9 1544.71 Q1225.43 1547.79 1219.11 1547.79 Q1216.93 1547.79 1214.66 1547.42 Q1212.42 1547.05 1210.01 1546.31 L1210.01 1541.61 Q1212.09 1542.74 1214.32 1543.3 Q1216.54 1543.86 1219.02 1543.86 Q1223.02 1543.86 1225.36 1541.75 Q1227.7 1539.64 1227.7 1536.03 Q1227.7 1532.42 1225.36 1530.31 Q1223.02 1528.21 1219.02 1528.21 Q1217.14 1528.21 1215.27 1528.62 Q1213.41 1529.04 1211.47 1529.92 L1211.47 1512.56 Z\" fill=\"#000000\" fill-rule=\"evenodd\" fill-opacity=\"1\" /><path clip-path=\"url(#clip570)\" d=\"M1251.59 1515.64 Q1247.97 1515.64 1246.15 1519.2 Q1244.34 1522.75 1244.34 1529.87 Q1244.34 1536.98 1246.15 1540.55 Q1247.97 1544.09 1251.59 1544.09 Q1255.22 1544.09 1257.02 1540.55 Q1258.85 1536.98 1258.85 1529.87 Q1258.85 1522.75 1257.02 1519.2 Q1255.22 1515.64 1251.59 1515.64 M1251.59 1511.93 Q1257.4 1511.93 1260.45 1516.54 Q1263.53 1521.12 1263.53 1529.87 Q1263.53 1538.6 1260.45 1543.21 Q1257.4 1547.79 1251.59 1547.79 Q1245.77 1547.79 1242.7 1543.21 Q1239.64 1538.6 1239.64 1529.87 Q1239.64 1521.12 1242.7 1516.54 Q1245.77 1511.93 1251.59 1511.93 Z\" fill=\"#000000\" fill-rule=\"evenodd\" fill-opacity=\"1\" /><path clip-path=\"url(#clip570)\" d=\"M1737.33 1512.56 L1759.55 1512.56 L1759.55 1514.55 L1747.01 1547.12 L1742.12 1547.12 L1753.93 1516.5 L1737.33 1516.5 L1737.33 1512.56 Z\" fill=\"#000000\" fill-rule=\"evenodd\" fill-opacity=\"1\" /><path clip-path=\"url(#clip570)\" d=\"M1768.72 1512.56 L1787.08 1512.56 L1787.08 1516.5 L1773 1516.5 L1773 1524.97 Q1774.02 1524.62 1775.04 1524.46 Q1776.06 1524.27 1777.08 1524.27 Q1782.86 1524.27 1786.24 1527.44 Q1789.62 1530.62 1789.62 1536.03 Q1789.62 1541.61 1786.15 1544.71 Q1782.68 1547.79 1776.36 1547.79 Q1774.18 1547.79 1771.91 1547.42 Q1769.67 1547.05 1767.26 1546.31 L1767.26 1541.61 Q1769.34 1542.74 1771.57 1543.3 Q1773.79 1543.86 1776.27 1543.86 Q1780.27 1543.86 1782.61 1541.75 Q1784.95 1539.64 1784.95 1536.03 Q1784.95 1532.42 1782.61 1530.31 Q1780.27 1528.21 1776.27 1528.21 Q1774.39 1528.21 1772.52 1528.62 Q1770.66 1529.04 1768.72 1529.92 L1768.72 1512.56 Z\" fill=\"#000000\" fill-rule=\"evenodd\" fill-opacity=\"1\" /><path clip-path=\"url(#clip570)\" d=\"M2249.79 1543.18 L2257.43 1543.18 L2257.43 1516.82 L2249.12 1518.49 L2249.12 1514.23 L2257.38 1512.56 L2262.06 1512.56 L2262.06 1543.18 L2269.7 1543.18 L2269.7 1547.12 L2249.79 1547.12 L2249.79 1543.18 Z\" fill=\"#000000\" fill-rule=\"evenodd\" fill-opacity=\"1\" /><path clip-path=\"url(#clip570)\" d=\"M2289.14 1515.64 Q2285.53 1515.64 2283.7 1519.2 Q2281.9 1522.75 2281.9 1529.87 Q2281.9 1536.98 2283.7 1540.55 Q2285.53 1544.09 2289.14 1544.09 Q2292.78 1544.09 2294.58 1540.55 Q2296.41 1536.98 2296.41 1529.87 Q2296.41 1522.75 2294.58 1519.2 Q2292.78 1515.64 2289.14 1515.64 M2289.14 1511.93 Q2294.95 1511.93 2298.01 1516.54 Q2301.09 1521.12 2301.09 1529.87 Q2301.09 1538.6 2298.01 1543.21 Q2294.95 1547.79 2289.14 1547.79 Q2283.33 1547.79 2280.25 1543.21 Q2277.2 1538.6 2277.2 1529.87 Q2277.2 1521.12 2280.25 1516.54 Q2283.33 1511.93 2289.14 1511.93 Z\" fill=\"#000000\" fill-rule=\"evenodd\" fill-opacity=\"1\" /><path clip-path=\"url(#clip570)\" d=\"M2319.3 1515.64 Q2315.69 1515.64 2313.86 1519.2 Q2312.06 1522.75 2312.06 1529.87 Q2312.06 1536.98 2313.86 1540.55 Q2315.69 1544.09 2319.3 1544.09 Q2322.94 1544.09 2324.74 1540.55 Q2326.57 1536.98 2326.57 1529.87 Q2326.57 1522.75 2324.74 1519.2 Q2322.94 1515.64 2319.3 1515.64 M2319.3 1511.93 Q2325.11 1511.93 2328.17 1516.54 Q2331.25 1521.12 2331.25 1529.87 Q2331.25 1538.6 2328.17 1543.21 Q2325.11 1547.79 2319.3 1547.79 Q2313.49 1547.79 2310.41 1543.21 Q2307.36 1538.6 2307.36 1529.87 Q2307.36 1521.12 2310.41 1516.54 Q2313.49 1511.93 2319.3 1511.93 Z\" fill=\"#000000\" fill-rule=\"evenodd\" fill-opacity=\"1\" /><polyline clip-path=\"url(#clip572)\" style=\"stroke:#000000; stroke-linecap:butt; stroke-linejoin:round; stroke-width:2; stroke-opacity:0.1; fill:none\" points=\"\n",
       "  141.853,1446.29 2352.76,1446.29 \n",
       "  \"/>\n",
       "<polyline clip-path=\"url(#clip572)\" style=\"stroke:#000000; stroke-linecap:butt; stroke-linejoin:round; stroke-width:2; stroke-opacity:0.1; fill:none\" points=\"\n",
       "  141.853,1141.97 2352.76,1141.97 \n",
       "  \"/>\n",
       "<polyline clip-path=\"url(#clip572)\" style=\"stroke:#000000; stroke-linecap:butt; stroke-linejoin:round; stroke-width:2; stroke-opacity:0.1; fill:none\" points=\"\n",
       "  141.853,837.655 2352.76,837.655 \n",
       "  \"/>\n",
       "<polyline clip-path=\"url(#clip572)\" style=\"stroke:#000000; stroke-linecap:butt; stroke-linejoin:round; stroke-width:2; stroke-opacity:0.1; fill:none\" points=\"\n",
       "  141.853,533.338 2352.76,533.338 \n",
       "  \"/>\n",
       "<polyline clip-path=\"url(#clip572)\" style=\"stroke:#000000; stroke-linecap:butt; stroke-linejoin:round; stroke-width:2; stroke-opacity:0.1; fill:none\" points=\"\n",
       "  141.853,229.021 2352.76,229.021 \n",
       "  \"/>\n",
       "<polyline clip-path=\"url(#clip570)\" style=\"stroke:#000000; stroke-linecap:butt; stroke-linejoin:round; stroke-width:4; stroke-opacity:1; fill:none\" points=\"\n",
       "  141.853,1486.45 141.853,47.2441 \n",
       "  \"/>\n",
       "<polyline clip-path=\"url(#clip570)\" style=\"stroke:#000000; stroke-linecap:butt; stroke-linejoin:round; stroke-width:4; stroke-opacity:1; fill:none\" points=\"\n",
       "  141.853,1446.29 160.751,1446.29 \n",
       "  \"/>\n",
       "<polyline clip-path=\"url(#clip570)\" style=\"stroke:#000000; stroke-linecap:butt; stroke-linejoin:round; stroke-width:4; stroke-opacity:1; fill:none\" points=\"\n",
       "  141.853,1141.97 160.751,1141.97 \n",
       "  \"/>\n",
       "<polyline clip-path=\"url(#clip570)\" style=\"stroke:#000000; stroke-linecap:butt; stroke-linejoin:round; stroke-width:4; stroke-opacity:1; fill:none\" points=\"\n",
       "  141.853,837.655 160.751,837.655 \n",
       "  \"/>\n",
       "<polyline clip-path=\"url(#clip570)\" style=\"stroke:#000000; stroke-linecap:butt; stroke-linejoin:round; stroke-width:4; stroke-opacity:1; fill:none\" points=\"\n",
       "  141.853,533.338 160.751,533.338 \n",
       "  \"/>\n",
       "<polyline clip-path=\"url(#clip570)\" style=\"stroke:#000000; stroke-linecap:butt; stroke-linejoin:round; stroke-width:4; stroke-opacity:1; fill:none\" points=\"\n",
       "  141.853,229.021 160.751,229.021 \n",
       "  \"/>\n",
       "<path clip-path=\"url(#clip570)\" d=\"M93.9086 1432.09 Q90.2975 1432.09 88.4688 1435.65 Q86.6632 1439.19 86.6632 1446.32 Q86.6632 1453.43 88.4688 1457 Q90.2975 1460.54 93.9086 1460.54 Q97.5428 1460.54 99.3483 1457 Q101.177 1453.43 101.177 1446.32 Q101.177 1439.19 99.3483 1435.65 Q97.5428 1432.09 93.9086 1432.09 M93.9086 1428.38 Q99.7187 1428.38 102.774 1432.99 Q105.853 1437.57 105.853 1446.32 Q105.853 1455.05 102.774 1459.66 Q99.7187 1464.24 93.9086 1464.24 Q88.0984 1464.24 85.0197 1459.66 Q81.9642 1455.05 81.9642 1446.32 Q81.9642 1437.57 85.0197 1432.99 Q88.0984 1428.38 93.9086 1428.38 Z\" fill=\"#000000\" fill-rule=\"evenodd\" fill-opacity=\"1\" /><path clip-path=\"url(#clip570)\" d=\"M57.7745 1155.32 L74.0939 1155.32 L74.0939 1159.25 L52.1495 1159.25 L52.1495 1155.32 Q54.8115 1152.56 59.3949 1147.93 Q64.0013 1143.28 65.1819 1141.94 Q67.4272 1139.41 68.3068 1137.68 Q69.2096 1135.92 69.2096 1134.23 Q69.2096 1131.47 67.2652 1129.74 Q65.3439 1128 62.2421 1128 Q60.043 1128 57.5893 1128.77 Q55.1588 1129.53 52.381 1131.08 L52.381 1126.36 Q55.2051 1125.22 57.6588 1124.65 Q60.1124 1124.07 62.1495 1124.07 Q67.5198 1124.07 70.7142 1126.75 Q73.9087 1129.44 73.9087 1133.93 Q73.9087 1136.06 73.0985 1137.98 Q72.3115 1139.88 70.205 1142.47 Q69.6263 1143.14 66.5245 1146.36 Q63.4226 1149.55 57.7745 1155.32 Z\" fill=\"#000000\" fill-rule=\"evenodd\" fill-opacity=\"1\" /><path clip-path=\"url(#clip570)\" d=\"M93.9086 1127.77 Q90.2975 1127.77 88.4688 1131.34 Q86.6632 1134.88 86.6632 1142.01 Q86.6632 1149.11 88.4688 1152.68 Q90.2975 1156.22 93.9086 1156.22 Q97.5428 1156.22 99.3483 1152.68 Q101.177 1149.11 101.177 1142.01 Q101.177 1134.88 99.3483 1131.34 Q97.5428 1127.77 93.9086 1127.77 M93.9086 1124.07 Q99.7187 1124.07 102.774 1128.67 Q105.853 1133.26 105.853 1142.01 Q105.853 1150.73 102.774 1155.34 Q99.7187 1159.92 93.9086 1159.92 Q88.0984 1159.92 85.0197 1155.34 Q81.9642 1150.73 81.9642 1142.01 Q81.9642 1133.26 85.0197 1128.67 Q88.0984 1124.07 93.9086 1124.07 Z\" fill=\"#000000\" fill-rule=\"evenodd\" fill-opacity=\"1\" /><path clip-path=\"url(#clip570)\" d=\"M66.5939 824.449 L54.7884 842.898 L66.5939 842.898 L66.5939 824.449 M65.367 820.375 L71.2466 820.375 L71.2466 842.898 L76.1772 842.898 L76.1772 846.787 L71.2466 846.787 L71.2466 854.935 L66.5939 854.935 L66.5939 846.787 L50.9921 846.787 L50.9921 842.273 L65.367 820.375 Z\" fill=\"#000000\" fill-rule=\"evenodd\" fill-opacity=\"1\" /><path clip-path=\"url(#clip570)\" d=\"M93.9086 823.454 Q90.2975 823.454 88.4688 827.019 Q86.6632 830.56 86.6632 837.69 Q86.6632 844.796 88.4688 848.361 Q90.2975 851.903 93.9086 851.903 Q97.5428 851.903 99.3483 848.361 Q101.177 844.796 101.177 837.69 Q101.177 830.56 99.3483 827.019 Q97.5428 823.454 93.9086 823.454 M93.9086 819.75 Q99.7187 819.75 102.774 824.357 Q105.853 828.94 105.853 837.69 Q105.853 846.417 102.774 851.023 Q99.7187 855.607 93.9086 855.607 Q88.0984 855.607 85.0197 851.023 Q81.9642 846.417 81.9642 837.69 Q81.9642 828.94 85.0197 824.357 Q88.0984 819.75 93.9086 819.75 Z\" fill=\"#000000\" fill-rule=\"evenodd\" fill-opacity=\"1\" /><path clip-path=\"url(#clip570)\" d=\"M64.3254 531.475 Q61.1773 531.475 59.3254 533.628 Q57.4967 535.78 57.4967 539.53 Q57.4967 543.257 59.3254 545.433 Q61.1773 547.586 64.3254 547.586 Q67.4735 547.586 69.3022 545.433 Q71.1541 543.257 71.1541 539.53 Q71.1541 535.78 69.3022 533.628 Q67.4735 531.475 64.3254 531.475 M73.6077 516.822 L73.6077 521.081 Q71.8485 520.248 70.0429 519.808 Q68.2606 519.369 66.5013 519.369 Q61.8717 519.369 59.418 522.493 Q56.9875 525.618 56.6402 531.938 Q58.006 529.924 60.0662 528.859 Q62.1263 527.771 64.6032 527.771 Q69.8115 527.771 72.8207 530.943 Q75.8531 534.091 75.8531 539.53 Q75.8531 544.854 72.705 548.072 Q69.5568 551.29 64.3254 551.29 Q58.33 551.29 55.1588 546.706 Q51.9875 542.1 51.9875 533.373 Q51.9875 525.179 55.8764 520.318 Q59.7652 515.433 66.3161 515.433 Q68.0754 515.433 69.8578 515.781 Q71.6633 516.128 73.6077 516.822 Z\" fill=\"#000000\" fill-rule=\"evenodd\" fill-opacity=\"1\" /><path clip-path=\"url(#clip570)\" d=\"M93.9086 519.137 Q90.2975 519.137 88.4688 522.702 Q86.6632 526.243 86.6632 533.373 Q86.6632 540.48 88.4688 544.044 Q90.2975 547.586 93.9086 547.586 Q97.5428 547.586 99.3483 544.044 Q101.177 540.48 101.177 533.373 Q101.177 526.243 99.3483 522.702 Q97.5428 519.137 93.9086 519.137 M93.9086 515.433 Q99.7187 515.433 102.774 520.04 Q105.853 524.623 105.853 533.373 Q105.853 542.1 102.774 546.706 Q99.7187 551.29 93.9086 551.29 Q88.0984 551.29 85.0197 546.706 Q81.9642 542.1 81.9642 533.373 Q81.9642 524.623 85.0197 520.04 Q88.0984 515.433 93.9086 515.433 Z\" fill=\"#000000\" fill-rule=\"evenodd\" fill-opacity=\"1\" /><path clip-path=\"url(#clip570)\" d=\"M63.7467 229.889 Q60.4134 229.889 58.4921 231.672 Q56.5939 233.454 56.5939 236.579 Q56.5939 239.704 58.4921 241.487 Q60.4134 243.269 63.7467 243.269 Q67.08 243.269 69.0013 241.487 Q70.9226 239.681 70.9226 236.579 Q70.9226 233.454 69.0013 231.672 Q67.1032 229.889 63.7467 229.889 M59.0708 227.899 Q56.0615 227.158 54.3717 225.098 Q52.7051 223.038 52.7051 220.075 Q52.7051 215.931 55.6449 213.524 Q58.6078 211.116 63.7467 211.116 Q68.9087 211.116 71.8485 213.524 Q74.7883 215.931 74.7883 220.075 Q74.7883 223.038 73.0985 225.098 Q71.4318 227.158 68.4457 227.899 Q71.8253 228.686 73.7003 230.977 Q75.5985 233.269 75.5985 236.579 Q75.5985 241.602 72.5198 244.288 Q69.4642 246.973 63.7467 246.973 Q58.0291 246.973 54.9504 244.288 Q51.8949 241.602 51.8949 236.579 Q51.8949 233.269 53.793 230.977 Q55.6912 228.686 59.0708 227.899 M57.3578 220.514 Q57.3578 223.2 59.0245 224.704 Q60.7143 226.209 63.7467 226.209 Q66.7559 226.209 68.4457 224.704 Q70.1587 223.2 70.1587 220.514 Q70.1587 217.829 68.4457 216.325 Q66.7559 214.82 63.7467 214.82 Q60.7143 214.82 59.0245 216.325 Q57.3578 217.829 57.3578 220.514 Z\" fill=\"#000000\" fill-rule=\"evenodd\" fill-opacity=\"1\" /><path clip-path=\"url(#clip570)\" d=\"M93.9086 214.82 Q90.2975 214.82 88.4688 218.385 Q86.6632 221.927 86.6632 229.056 Q86.6632 236.163 88.4688 239.727 Q90.2975 243.269 93.9086 243.269 Q97.5428 243.269 99.3483 239.727 Q101.177 236.163 101.177 229.056 Q101.177 221.927 99.3483 218.385 Q97.5428 214.82 93.9086 214.82 M93.9086 211.116 Q99.7187 211.116 102.774 215.723 Q105.853 220.306 105.853 229.056 Q105.853 237.783 102.774 242.389 Q99.7187 246.973 93.9086 246.973 Q88.0984 246.973 85.0197 242.389 Q81.9642 237.783 81.9642 229.056 Q81.9642 220.306 85.0197 215.723 Q88.0984 211.116 93.9086 211.116 Z\" fill=\"#000000\" fill-rule=\"evenodd\" fill-opacity=\"1\" /><polyline clip-path=\"url(#clip572)\" style=\"stroke:#009af9; stroke-linecap:butt; stroke-linejoin:round; stroke-width:4; stroke-opacity:1; fill:none\" points=\"\n",
       "  204.426,1445.72 394.04,1440.69 604.723,1432.77 815.405,1426.08 1868.82,1387.84 2290.18,1370.77 \n",
       "  \"/>\n",
       "<polyline clip-path=\"url(#clip572)\" style=\"stroke:#e26f46; stroke-linecap:butt; stroke-linejoin:round; stroke-width:4; stroke-opacity:1; fill:none\" points=\"\n",
       "  204.426,1444.7 394.04,1429.78 604.723,1413.28 815.405,1395.38 1868.82,1295 2290.18,1241.01 \n",
       "  \"/>\n",
       "<polyline clip-path=\"url(#clip572)\" style=\"stroke:#3da44d; stroke-linecap:butt; stroke-linejoin:round; stroke-width:4; stroke-opacity:1; fill:none\" points=\"\n",
       "  204.426,1443.89 394.04,1422.16 604.723,1398.6 815.405,1372.95 1868.82,1236.26 2290.18,1191.24 \n",
       "  \"/>\n",
       "<polyline clip-path=\"url(#clip572)\" style=\"stroke:#c271d2; stroke-linecap:butt; stroke-linejoin:round; stroke-width:4; stroke-opacity:1; fill:none\" points=\"\n",
       "  204.426,1442.78 394.04,1408.37 604.723,1374.26 815.405,1327.26 1868.82,1105.5 2290.18,1007.23 \n",
       "  \"/>\n",
       "<polyline clip-path=\"url(#clip572)\" style=\"stroke:#ac8d18; stroke-linecap:butt; stroke-linejoin:round; stroke-width:4; stroke-opacity:1; fill:none\" points=\"\n",
       "  204.426,1434.96 394.04,1339.79 604.723,1230.05 815.405,1110.31 1868.82,558.175 2290.18,344.309 \n",
       "  \"/>\n",
       "<polyline clip-path=\"url(#clip572)\" style=\"stroke:#00a9ad; stroke-linecap:butt; stroke-linejoin:round; stroke-width:4; stroke-opacity:1; fill:none\" points=\"\n",
       "  204.426,1433.31 394.04,1319.26 604.723,1183.72 815.405,1054.97 1868.82,396.209 2290.18,87.9763 \n",
       "  \"/>\n",
       "<path clip-path=\"url(#clip570)\" d=\"\n",
       "M1701.67 458.098 L2279.06 458.098 L2279.06 95.2176 L1701.67 95.2176  Z\n",
       "  \" fill=\"#ffffff\" fill-rule=\"evenodd\" fill-opacity=\"1\"/>\n",
       "<polyline clip-path=\"url(#clip570)\" style=\"stroke:#000000; stroke-linecap:butt; stroke-linejoin:round; stroke-width:4; stroke-opacity:1; fill:none\" points=\"\n",
       "  1701.67,458.098 2279.06,458.098 2279.06,95.2176 1701.67,95.2176 1701.67,458.098 \n",
       "  \"/>\n",
       "<polyline clip-path=\"url(#clip570)\" style=\"stroke:#009af9; stroke-linecap:butt; stroke-linejoin:round; stroke-width:4; stroke-opacity:1; fill:none\" points=\"\n",
       "  1726.23,147.058 1873.63,147.058 \n",
       "  \"/>\n",
       "<path clip-path=\"url(#clip570)\" d=\"M1919.91 148.689 L1919.91 164.338 L1915.65 164.338 L1915.65 148.828 Q1915.65 145.148 1914.21 143.319 Q1912.78 141.49 1909.91 141.49 Q1906.46 141.49 1904.47 143.69 Q1902.48 145.889 1902.48 149.685 L1902.48 164.338 L1898.19 164.338 L1898.19 138.412 L1902.48 138.412 L1902.48 142.44 Q1904 140.102 1906.06 138.944 Q1908.15 137.787 1910.86 137.787 Q1915.32 137.787 1917.61 140.565 Q1919.91 143.319 1919.91 148.689 Z\" fill=\"#000000\" fill-rule=\"evenodd\" fill-opacity=\"1\" /><path clip-path=\"url(#clip570)\" d=\"M1932.52 160.449 L1932.52 174.199 L1928.24 174.199 L1928.24 138.412 L1932.52 138.412 L1932.52 142.347 Q1933.86 140.032 1935.9 138.921 Q1937.96 137.787 1940.81 137.787 Q1945.53 137.787 1948.47 141.537 Q1951.43 145.287 1951.43 151.398 Q1951.43 157.509 1948.47 161.259 Q1945.53 165.009 1940.81 165.009 Q1937.96 165.009 1935.9 163.898 Q1933.86 162.763 1932.52 160.449 M1947.01 151.398 Q1947.01 146.699 1945.07 144.037 Q1943.15 141.352 1939.77 141.352 Q1936.39 141.352 1934.44 144.037 Q1932.52 146.699 1932.52 151.398 Q1932.52 156.097 1934.44 158.782 Q1936.39 161.444 1939.77 161.444 Q1943.15 161.444 1945.07 158.782 Q1947.01 156.097 1947.01 151.398 Z\" fill=\"#000000\" fill-rule=\"evenodd\" fill-opacity=\"1\" /><path clip-path=\"url(#clip570)\" d=\"M1980.67 150.31 L1980.67 152.393 L1961.09 152.393 Q1961.36 156.791 1963.73 159.106 Q1966.11 161.398 1970.35 161.398 Q1972.8 161.398 1975.09 160.796 Q1977.41 160.194 1979.67 158.99 L1979.67 163.018 Q1977.38 163.99 1974.98 164.5 Q1972.57 165.009 1970.09 165.009 Q1963.89 165.009 1960.25 161.398 Q1956.64 157.787 1956.64 151.629 Q1956.64 145.264 1960.07 141.537 Q1963.52 137.787 1969.35 137.787 Q1974.58 137.787 1977.61 141.166 Q1980.67 144.523 1980.67 150.31 M1976.41 149.06 Q1976.36 145.565 1974.44 143.481 Q1972.55 141.398 1969.4 141.398 Q1965.83 141.398 1963.68 143.412 Q1961.55 145.426 1961.23 149.083 L1976.41 149.06 Z\" fill=\"#000000\" fill-rule=\"evenodd\" fill-opacity=\"1\" /><path clip-path=\"url(#clip570)\" d=\"M2002.68 142.393 Q2001.97 141.977 2001.11 141.791 Q2000.28 141.583 1999.26 141.583 Q1995.65 141.583 1993.7 143.944 Q1991.78 146.282 1991.78 150.68 L1991.78 164.338 L1987.5 164.338 L1987.5 138.412 L1991.78 138.412 L1991.78 142.44 Q1993.12 140.078 1995.28 138.944 Q1997.43 137.787 2000.51 137.787 Q2000.95 137.787 2001.48 137.856 Q2002.01 137.903 2002.66 138.018 L2002.68 142.393 Z\" fill=\"#000000\" fill-rule=\"evenodd\" fill-opacity=\"1\" /><path clip-path=\"url(#clip570)\" d=\"M2026.5 143.389 Q2028.1 140.518 2030.32 139.153 Q2032.54 137.787 2035.55 137.787 Q2039.6 137.787 2041.8 140.634 Q2044 143.458 2044 148.689 L2044 164.338 L2039.72 164.338 L2039.72 148.828 Q2039.72 145.102 2038.4 143.296 Q2037.08 141.49 2034.37 141.49 Q2031.06 141.49 2029.14 143.69 Q2027.22 145.889 2027.22 149.685 L2027.22 164.338 L2022.94 164.338 L2022.94 148.828 Q2022.94 145.078 2021.62 143.296 Q2020.3 141.49 2017.54 141.49 Q2014.28 141.49 2012.36 143.713 Q2010.44 145.912 2010.44 149.685 L2010.44 164.338 L2006.16 164.338 L2006.16 138.412 L2010.44 138.412 L2010.44 142.44 Q2011.9 140.055 2013.93 138.921 Q2015.97 137.787 2018.77 137.787 Q2021.6 137.787 2023.56 139.222 Q2025.55 140.657 2026.5 143.389 Z\" fill=\"#000000\" fill-rule=\"evenodd\" fill-opacity=\"1\" /><path clip-path=\"url(#clip570)\" d=\"M2069.03 139.176 L2069.03 143.203 Q2067.22 142.277 2065.28 141.815 Q2063.33 141.352 2061.25 141.352 Q2058.08 141.352 2056.48 142.324 Q2054.91 143.296 2054.91 145.24 Q2054.91 146.722 2056.04 147.578 Q2057.17 148.412 2060.6 149.176 L2062.06 149.5 Q2066.6 150.472 2068.49 152.254 Q2070.41 154.014 2070.41 157.185 Q2070.41 160.796 2067.54 162.902 Q2064.7 165.009 2059.7 165.009 Q2057.61 165.009 2055.35 164.592 Q2053.1 164.199 2050.6 163.388 L2050.6 158.99 Q2052.96 160.217 2055.25 160.842 Q2057.54 161.444 2059.79 161.444 Q2062.8 161.444 2064.42 160.426 Q2066.04 159.384 2066.04 157.509 Q2066.04 155.773 2064.86 154.847 Q2063.7 153.921 2059.74 153.064 L2058.26 152.717 Q2054.3 151.884 2052.54 150.171 Q2050.79 148.435 2050.79 145.426 Q2050.79 141.768 2053.38 139.778 Q2055.97 137.787 2060.74 137.787 Q2063.1 137.787 2065.18 138.134 Q2067.27 138.481 2069.03 139.176 Z\" fill=\"#000000\" fill-rule=\"evenodd\" fill-opacity=\"1\" /><path clip-path=\"url(#clip570)\" d=\"M2092.82 142.81 L2122.5 142.81 L2122.5 146.699 L2092.82 146.699 L2092.82 142.81 M2092.82 152.254 L2122.5 152.254 L2122.5 156.189 L2092.82 156.189 L2092.82 152.254 Z\" fill=\"#000000\" fill-rule=\"evenodd\" fill-opacity=\"1\" /><path clip-path=\"url(#clip570)\" d=\"M2157.66 132.856 Q2154.05 132.856 2152.22 136.421 Q2150.41 139.963 2150.41 147.092 Q2150.41 154.199 2152.22 157.764 Q2154.05 161.305 2157.66 161.305 Q2161.29 161.305 2163.1 157.764 Q2164.93 154.199 2164.93 147.092 Q2164.93 139.963 2163.1 136.421 Q2161.29 132.856 2157.66 132.856 M2157.66 129.153 Q2163.47 129.153 2166.53 133.759 Q2169.6 138.342 2169.6 147.092 Q2169.6 155.819 2166.53 160.426 Q2163.47 165.009 2157.66 165.009 Q2151.85 165.009 2148.77 160.426 Q2145.72 155.819 2145.72 147.092 Q2145.72 138.342 2148.77 133.759 Q2151.85 129.153 2157.66 129.153 Z\" fill=\"#000000\" fill-rule=\"evenodd\" fill-opacity=\"1\" /><polyline clip-path=\"url(#clip570)\" style=\"stroke:#e26f46; stroke-linecap:butt; stroke-linejoin:round; stroke-width:4; stroke-opacity:1; fill:none\" points=\"\n",
       "  1726.23,198.898 1873.63,198.898 \n",
       "  \"/>\n",
       "<path clip-path=\"url(#clip570)\" d=\"M1919.91 200.529 L1919.91 216.178 L1915.65 216.178 L1915.65 200.668 Q1915.65 196.988 1914.21 195.159 Q1912.78 193.33 1909.91 193.33 Q1906.46 193.33 1904.47 195.53 Q1902.48 197.729 1902.48 201.525 L1902.48 216.178 L1898.19 216.178 L1898.19 190.252 L1902.48 190.252 L1902.48 194.28 Q1904 191.942 1906.06 190.784 Q1908.15 189.627 1910.86 189.627 Q1915.32 189.627 1917.61 192.405 Q1919.91 195.159 1919.91 200.529 Z\" fill=\"#000000\" fill-rule=\"evenodd\" fill-opacity=\"1\" /><path clip-path=\"url(#clip570)\" d=\"M1932.52 212.289 L1932.52 226.039 L1928.24 226.039 L1928.24 190.252 L1932.52 190.252 L1932.52 194.187 Q1933.86 191.872 1935.9 190.761 Q1937.96 189.627 1940.81 189.627 Q1945.53 189.627 1948.47 193.377 Q1951.43 197.127 1951.43 203.238 Q1951.43 209.349 1948.47 213.099 Q1945.53 216.849 1940.81 216.849 Q1937.96 216.849 1935.9 215.738 Q1933.86 214.603 1932.52 212.289 M1947.01 203.238 Q1947.01 198.539 1945.07 195.877 Q1943.15 193.192 1939.77 193.192 Q1936.39 193.192 1934.44 195.877 Q1932.52 198.539 1932.52 203.238 Q1932.52 207.937 1934.44 210.622 Q1936.39 213.284 1939.77 213.284 Q1943.15 213.284 1945.07 210.622 Q1947.01 207.937 1947.01 203.238 Z\" fill=\"#000000\" fill-rule=\"evenodd\" fill-opacity=\"1\" /><path clip-path=\"url(#clip570)\" d=\"M1980.67 202.15 L1980.67 204.233 L1961.09 204.233 Q1961.36 208.631 1963.73 210.946 Q1966.11 213.238 1970.35 213.238 Q1972.8 213.238 1975.09 212.636 Q1977.41 212.034 1979.67 210.83 L1979.67 214.858 Q1977.38 215.83 1974.98 216.34 Q1972.57 216.849 1970.09 216.849 Q1963.89 216.849 1960.25 213.238 Q1956.64 209.627 1956.64 203.469 Q1956.64 197.104 1960.07 193.377 Q1963.52 189.627 1969.35 189.627 Q1974.58 189.627 1977.61 193.006 Q1980.67 196.363 1980.67 202.15 M1976.41 200.9 Q1976.36 197.405 1974.44 195.321 Q1972.55 193.238 1969.4 193.238 Q1965.83 193.238 1963.68 195.252 Q1961.55 197.266 1961.23 200.923 L1976.41 200.9 Z\" fill=\"#000000\" fill-rule=\"evenodd\" fill-opacity=\"1\" /><path clip-path=\"url(#clip570)\" d=\"M2002.68 194.233 Q2001.97 193.817 2001.11 193.631 Q2000.28 193.423 1999.26 193.423 Q1995.65 193.423 1993.7 195.784 Q1991.78 198.122 1991.78 202.52 L1991.78 216.178 L1987.5 216.178 L1987.5 190.252 L1991.78 190.252 L1991.78 194.28 Q1993.12 191.918 1995.28 190.784 Q1997.43 189.627 2000.51 189.627 Q2000.95 189.627 2001.48 189.696 Q2002.01 189.743 2002.66 189.858 L2002.68 194.233 Z\" fill=\"#000000\" fill-rule=\"evenodd\" fill-opacity=\"1\" /><path clip-path=\"url(#clip570)\" d=\"M2026.5 195.229 Q2028.1 192.358 2030.32 190.993 Q2032.54 189.627 2035.55 189.627 Q2039.6 189.627 2041.8 192.474 Q2044 195.298 2044 200.529 L2044 216.178 L2039.72 216.178 L2039.72 200.668 Q2039.72 196.942 2038.4 195.136 Q2037.08 193.33 2034.37 193.33 Q2031.06 193.33 2029.14 195.53 Q2027.22 197.729 2027.22 201.525 L2027.22 216.178 L2022.94 216.178 L2022.94 200.668 Q2022.94 196.918 2021.62 195.136 Q2020.3 193.33 2017.54 193.33 Q2014.28 193.33 2012.36 195.553 Q2010.44 197.752 2010.44 201.525 L2010.44 216.178 L2006.16 216.178 L2006.16 190.252 L2010.44 190.252 L2010.44 194.28 Q2011.9 191.895 2013.93 190.761 Q2015.97 189.627 2018.77 189.627 Q2021.6 189.627 2023.56 191.062 Q2025.55 192.497 2026.5 195.229 Z\" fill=\"#000000\" fill-rule=\"evenodd\" fill-opacity=\"1\" /><path clip-path=\"url(#clip570)\" d=\"M2069.03 191.016 L2069.03 195.043 Q2067.22 194.117 2065.28 193.655 Q2063.33 193.192 2061.25 193.192 Q2058.08 193.192 2056.48 194.164 Q2054.91 195.136 2054.91 197.08 Q2054.91 198.562 2056.04 199.418 Q2057.17 200.252 2060.6 201.016 L2062.06 201.34 Q2066.6 202.312 2068.49 204.094 Q2070.41 205.854 2070.41 209.025 Q2070.41 212.636 2067.54 214.742 Q2064.7 216.849 2059.7 216.849 Q2057.61 216.849 2055.35 216.432 Q2053.1 216.039 2050.6 215.228 L2050.6 210.83 Q2052.96 212.057 2055.25 212.682 Q2057.54 213.284 2059.79 213.284 Q2062.8 213.284 2064.42 212.266 Q2066.04 211.224 2066.04 209.349 Q2066.04 207.613 2064.86 206.687 Q2063.7 205.761 2059.74 204.904 L2058.26 204.557 Q2054.3 203.724 2052.54 202.011 Q2050.79 200.275 2050.79 197.266 Q2050.79 193.608 2053.38 191.618 Q2055.97 189.627 2060.74 189.627 Q2063.1 189.627 2065.18 189.974 Q2067.27 190.321 2069.03 191.016 Z\" fill=\"#000000\" fill-rule=\"evenodd\" fill-opacity=\"1\" /><path clip-path=\"url(#clip570)\" d=\"M2092.82 194.65 L2122.5 194.65 L2122.5 198.539 L2092.82 198.539 L2092.82 194.65 M2092.82 204.094 L2122.5 204.094 L2122.5 208.029 L2092.82 208.029 L2092.82 204.094 Z\" fill=\"#000000\" fill-rule=\"evenodd\" fill-opacity=\"1\" /><path clip-path=\"url(#clip570)\" d=\"M2148.47 212.242 L2156.11 212.242 L2156.11 185.877 L2147.8 187.543 L2147.8 183.284 L2156.06 181.618 L2160.74 181.618 L2160.74 212.242 L2168.38 212.242 L2168.38 216.178 L2148.47 216.178 L2148.47 212.242 Z\" fill=\"#000000\" fill-rule=\"evenodd\" fill-opacity=\"1\" /><path clip-path=\"url(#clip570)\" d=\"M2187.82 184.696 Q2184.21 184.696 2182.38 188.261 Q2180.58 191.803 2180.58 198.932 Q2180.58 206.039 2182.38 209.604 Q2184.21 213.145 2187.82 213.145 Q2191.46 213.145 2193.26 209.604 Q2195.09 206.039 2195.09 198.932 Q2195.09 191.803 2193.26 188.261 Q2191.46 184.696 2187.82 184.696 M2187.82 180.993 Q2193.63 180.993 2196.69 185.599 Q2199.77 190.182 2199.77 198.932 Q2199.77 207.659 2196.69 212.266 Q2193.63 216.849 2187.82 216.849 Q2182.01 216.849 2178.93 212.266 Q2175.88 207.659 2175.88 198.932 Q2175.88 190.182 2178.93 185.599 Q2182.01 180.993 2187.82 180.993 Z\" fill=\"#000000\" fill-rule=\"evenodd\" fill-opacity=\"1\" /><polyline clip-path=\"url(#clip570)\" style=\"stroke:#3da44d; stroke-linecap:butt; stroke-linejoin:round; stroke-width:4; stroke-opacity:1; fill:none\" points=\"\n",
       "  1726.23,250.738 1873.63,250.738 \n",
       "  \"/>\n",
       "<path clip-path=\"url(#clip570)\" d=\"M1919.91 252.369 L1919.91 268.018 L1915.65 268.018 L1915.65 252.508 Q1915.65 248.828 1914.21 246.999 Q1912.78 245.17 1909.91 245.17 Q1906.46 245.17 1904.47 247.37 Q1902.48 249.569 1902.48 253.365 L1902.48 268.018 L1898.19 268.018 L1898.19 242.092 L1902.48 242.092 L1902.48 246.12 Q1904 243.782 1906.06 242.624 Q1908.15 241.467 1910.86 241.467 Q1915.32 241.467 1917.61 244.245 Q1919.91 246.999 1919.91 252.369 Z\" fill=\"#000000\" fill-rule=\"evenodd\" fill-opacity=\"1\" /><path clip-path=\"url(#clip570)\" d=\"M1932.52 264.129 L1932.52 277.879 L1928.24 277.879 L1928.24 242.092 L1932.52 242.092 L1932.52 246.027 Q1933.86 243.712 1935.9 242.601 Q1937.96 241.467 1940.81 241.467 Q1945.53 241.467 1948.47 245.217 Q1951.43 248.967 1951.43 255.078 Q1951.43 261.189 1948.47 264.939 Q1945.53 268.689 1940.81 268.689 Q1937.96 268.689 1935.9 267.578 Q1933.86 266.443 1932.52 264.129 M1947.01 255.078 Q1947.01 250.379 1945.07 247.717 Q1943.15 245.032 1939.77 245.032 Q1936.39 245.032 1934.44 247.717 Q1932.52 250.379 1932.52 255.078 Q1932.52 259.777 1934.44 262.462 Q1936.39 265.124 1939.77 265.124 Q1943.15 265.124 1945.07 262.462 Q1947.01 259.777 1947.01 255.078 Z\" fill=\"#000000\" fill-rule=\"evenodd\" fill-opacity=\"1\" /><path clip-path=\"url(#clip570)\" d=\"M1980.67 253.99 L1980.67 256.073 L1961.09 256.073 Q1961.36 260.471 1963.73 262.786 Q1966.11 265.078 1970.35 265.078 Q1972.8 265.078 1975.09 264.476 Q1977.41 263.874 1979.67 262.67 L1979.67 266.698 Q1977.38 267.67 1974.98 268.18 Q1972.57 268.689 1970.09 268.689 Q1963.89 268.689 1960.25 265.078 Q1956.64 261.467 1956.64 255.309 Q1956.64 248.944 1960.07 245.217 Q1963.52 241.467 1969.35 241.467 Q1974.58 241.467 1977.61 244.846 Q1980.67 248.203 1980.67 253.99 M1976.41 252.74 Q1976.36 249.245 1974.44 247.161 Q1972.55 245.078 1969.4 245.078 Q1965.83 245.078 1963.68 247.092 Q1961.55 249.106 1961.23 252.763 L1976.41 252.74 Z\" fill=\"#000000\" fill-rule=\"evenodd\" fill-opacity=\"1\" /><path clip-path=\"url(#clip570)\" d=\"M2002.68 246.073 Q2001.97 245.657 2001.11 245.471 Q2000.28 245.263 1999.26 245.263 Q1995.65 245.263 1993.7 247.624 Q1991.78 249.962 1991.78 254.36 L1991.78 268.018 L1987.5 268.018 L1987.5 242.092 L1991.78 242.092 L1991.78 246.12 Q1993.12 243.758 1995.28 242.624 Q1997.43 241.467 2000.51 241.467 Q2000.95 241.467 2001.48 241.536 Q2002.01 241.583 2002.66 241.698 L2002.68 246.073 Z\" fill=\"#000000\" fill-rule=\"evenodd\" fill-opacity=\"1\" /><path clip-path=\"url(#clip570)\" d=\"M2026.5 247.069 Q2028.1 244.198 2030.32 242.833 Q2032.54 241.467 2035.55 241.467 Q2039.6 241.467 2041.8 244.314 Q2044 247.138 2044 252.369 L2044 268.018 L2039.72 268.018 L2039.72 252.508 Q2039.72 248.782 2038.4 246.976 Q2037.08 245.17 2034.37 245.17 Q2031.06 245.17 2029.14 247.37 Q2027.22 249.569 2027.22 253.365 L2027.22 268.018 L2022.94 268.018 L2022.94 252.508 Q2022.94 248.758 2021.62 246.976 Q2020.3 245.17 2017.54 245.17 Q2014.28 245.17 2012.36 247.393 Q2010.44 249.592 2010.44 253.365 L2010.44 268.018 L2006.16 268.018 L2006.16 242.092 L2010.44 242.092 L2010.44 246.12 Q2011.9 243.735 2013.93 242.601 Q2015.97 241.467 2018.77 241.467 Q2021.6 241.467 2023.56 242.902 Q2025.55 244.337 2026.5 247.069 Z\" fill=\"#000000\" fill-rule=\"evenodd\" fill-opacity=\"1\" /><path clip-path=\"url(#clip570)\" d=\"M2069.03 242.856 L2069.03 246.883 Q2067.22 245.957 2065.28 245.495 Q2063.33 245.032 2061.25 245.032 Q2058.08 245.032 2056.48 246.004 Q2054.91 246.976 2054.91 248.92 Q2054.91 250.402 2056.04 251.258 Q2057.17 252.092 2060.6 252.856 L2062.06 253.18 Q2066.6 254.152 2068.49 255.934 Q2070.41 257.694 2070.41 260.865 Q2070.41 264.476 2067.54 266.582 Q2064.7 268.689 2059.7 268.689 Q2057.61 268.689 2055.35 268.272 Q2053.1 267.879 2050.6 267.068 L2050.6 262.67 Q2052.96 263.897 2055.25 264.522 Q2057.54 265.124 2059.79 265.124 Q2062.8 265.124 2064.42 264.106 Q2066.04 263.064 2066.04 261.189 Q2066.04 259.453 2064.86 258.527 Q2063.7 257.601 2059.74 256.744 L2058.26 256.397 Q2054.3 255.564 2052.54 253.851 Q2050.79 252.115 2050.79 249.106 Q2050.79 245.448 2053.38 243.458 Q2055.97 241.467 2060.74 241.467 Q2063.1 241.467 2065.18 241.814 Q2067.27 242.161 2069.03 242.856 Z\" fill=\"#000000\" fill-rule=\"evenodd\" fill-opacity=\"1\" /><path clip-path=\"url(#clip570)\" d=\"M2092.82 246.49 L2122.5 246.49 L2122.5 250.379 L2092.82 250.379 L2092.82 246.49 M2092.82 255.934 L2122.5 255.934 L2122.5 259.869 L2092.82 259.869 L2092.82 255.934 Z\" fill=\"#000000\" fill-rule=\"evenodd\" fill-opacity=\"1\" /><path clip-path=\"url(#clip570)\" d=\"M2151.69 264.082 L2168.01 264.082 L2168.01 268.018 L2146.06 268.018 L2146.06 264.082 Q2148.72 261.328 2153.31 256.698 Q2157.91 252.045 2159.1 250.703 Q2161.34 248.18 2162.22 246.444 Q2163.12 244.684 2163.12 242.995 Q2163.12 240.24 2161.18 238.504 Q2159.26 236.768 2156.16 236.768 Q2153.96 236.768 2151.5 237.532 Q2149.07 238.295 2146.29 239.846 L2146.29 235.124 Q2149.12 233.99 2151.57 233.411 Q2154.03 232.833 2156.06 232.833 Q2161.43 232.833 2164.63 235.518 Q2167.82 238.203 2167.82 242.694 Q2167.82 244.823 2167.01 246.745 Q2166.22 248.643 2164.12 251.235 Q2163.54 251.907 2160.44 255.124 Q2157.34 258.319 2151.69 264.082 Z\" fill=\"#000000\" fill-rule=\"evenodd\" fill-opacity=\"1\" /><path clip-path=\"url(#clip570)\" d=\"M2187.82 236.536 Q2184.21 236.536 2182.38 240.101 Q2180.58 243.643 2180.58 250.772 Q2180.58 257.879 2182.38 261.444 Q2184.21 264.985 2187.82 264.985 Q2191.46 264.985 2193.26 261.444 Q2195.09 257.879 2195.09 250.772 Q2195.09 243.643 2193.26 240.101 Q2191.46 236.536 2187.82 236.536 M2187.82 232.833 Q2193.63 232.833 2196.69 237.439 Q2199.77 242.022 2199.77 250.772 Q2199.77 259.499 2196.69 264.106 Q2193.63 268.689 2187.82 268.689 Q2182.01 268.689 2178.93 264.106 Q2175.88 259.499 2175.88 250.772 Q2175.88 242.022 2178.93 237.439 Q2182.01 232.833 2187.82 232.833 Z\" fill=\"#000000\" fill-rule=\"evenodd\" fill-opacity=\"1\" /><polyline clip-path=\"url(#clip570)\" style=\"stroke:#c271d2; stroke-linecap:butt; stroke-linejoin:round; stroke-width:4; stroke-opacity:1; fill:none\" points=\"\n",
       "  1726.23,302.578 1873.63,302.578 \n",
       "  \"/>\n",
       "<path clip-path=\"url(#clip570)\" d=\"M1919.91 304.209 L1919.91 319.858 L1915.65 319.858 L1915.65 304.348 Q1915.65 300.668 1914.21 298.839 Q1912.78 297.01 1909.91 297.01 Q1906.46 297.01 1904.47 299.21 Q1902.48 301.409 1902.48 305.205 L1902.48 319.858 L1898.19 319.858 L1898.19 293.932 L1902.48 293.932 L1902.48 297.96 Q1904 295.622 1906.06 294.464 Q1908.15 293.307 1910.86 293.307 Q1915.32 293.307 1917.61 296.085 Q1919.91 298.839 1919.91 304.209 Z\" fill=\"#000000\" fill-rule=\"evenodd\" fill-opacity=\"1\" /><path clip-path=\"url(#clip570)\" d=\"M1932.52 315.969 L1932.52 329.719 L1928.24 329.719 L1928.24 293.932 L1932.52 293.932 L1932.52 297.867 Q1933.86 295.552 1935.9 294.441 Q1937.96 293.307 1940.81 293.307 Q1945.53 293.307 1948.47 297.057 Q1951.43 300.807 1951.43 306.918 Q1951.43 313.029 1948.47 316.779 Q1945.53 320.529 1940.81 320.529 Q1937.96 320.529 1935.9 319.418 Q1933.86 318.283 1932.52 315.969 M1947.01 306.918 Q1947.01 302.219 1945.07 299.557 Q1943.15 296.872 1939.77 296.872 Q1936.39 296.872 1934.44 299.557 Q1932.52 302.219 1932.52 306.918 Q1932.52 311.617 1934.44 314.302 Q1936.39 316.964 1939.77 316.964 Q1943.15 316.964 1945.07 314.302 Q1947.01 311.617 1947.01 306.918 Z\" fill=\"#000000\" fill-rule=\"evenodd\" fill-opacity=\"1\" /><path clip-path=\"url(#clip570)\" d=\"M1980.67 305.83 L1980.67 307.913 L1961.09 307.913 Q1961.36 312.311 1963.73 314.626 Q1966.11 316.918 1970.35 316.918 Q1972.8 316.918 1975.09 316.316 Q1977.41 315.714 1979.67 314.51 L1979.67 318.538 Q1977.38 319.51 1974.98 320.02 Q1972.57 320.529 1970.09 320.529 Q1963.89 320.529 1960.25 316.918 Q1956.64 313.307 1956.64 307.149 Q1956.64 300.784 1960.07 297.057 Q1963.52 293.307 1969.35 293.307 Q1974.58 293.307 1977.61 296.686 Q1980.67 300.043 1980.67 305.83 M1976.41 304.58 Q1976.36 301.085 1974.44 299.001 Q1972.55 296.918 1969.4 296.918 Q1965.83 296.918 1963.68 298.932 Q1961.55 300.946 1961.23 304.603 L1976.41 304.58 Z\" fill=\"#000000\" fill-rule=\"evenodd\" fill-opacity=\"1\" /><path clip-path=\"url(#clip570)\" d=\"M2002.68 297.913 Q2001.97 297.497 2001.11 297.311 Q2000.28 297.103 1999.26 297.103 Q1995.65 297.103 1993.7 299.464 Q1991.78 301.802 1991.78 306.2 L1991.78 319.858 L1987.5 319.858 L1987.5 293.932 L1991.78 293.932 L1991.78 297.96 Q1993.12 295.598 1995.28 294.464 Q1997.43 293.307 2000.51 293.307 Q2000.95 293.307 2001.48 293.376 Q2002.01 293.423 2002.66 293.538 L2002.68 297.913 Z\" fill=\"#000000\" fill-rule=\"evenodd\" fill-opacity=\"1\" /><path clip-path=\"url(#clip570)\" d=\"M2026.5 298.909 Q2028.1 296.038 2030.32 294.673 Q2032.54 293.307 2035.55 293.307 Q2039.6 293.307 2041.8 296.154 Q2044 298.978 2044 304.209 L2044 319.858 L2039.72 319.858 L2039.72 304.348 Q2039.72 300.622 2038.4 298.816 Q2037.08 297.01 2034.37 297.01 Q2031.06 297.01 2029.14 299.21 Q2027.22 301.409 2027.22 305.205 L2027.22 319.858 L2022.94 319.858 L2022.94 304.348 Q2022.94 300.598 2021.62 298.816 Q2020.3 297.01 2017.54 297.01 Q2014.28 297.01 2012.36 299.233 Q2010.44 301.432 2010.44 305.205 L2010.44 319.858 L2006.16 319.858 L2006.16 293.932 L2010.44 293.932 L2010.44 297.96 Q2011.9 295.575 2013.93 294.441 Q2015.97 293.307 2018.77 293.307 Q2021.6 293.307 2023.56 294.742 Q2025.55 296.177 2026.5 298.909 Z\" fill=\"#000000\" fill-rule=\"evenodd\" fill-opacity=\"1\" /><path clip-path=\"url(#clip570)\" d=\"M2069.03 294.696 L2069.03 298.723 Q2067.22 297.797 2065.28 297.335 Q2063.33 296.872 2061.25 296.872 Q2058.08 296.872 2056.48 297.844 Q2054.91 298.816 2054.91 300.76 Q2054.91 302.242 2056.04 303.098 Q2057.17 303.932 2060.6 304.696 L2062.06 305.02 Q2066.6 305.992 2068.49 307.774 Q2070.41 309.534 2070.41 312.705 Q2070.41 316.316 2067.54 318.422 Q2064.7 320.529 2059.7 320.529 Q2057.61 320.529 2055.35 320.112 Q2053.1 319.719 2050.6 318.908 L2050.6 314.51 Q2052.96 315.737 2055.25 316.362 Q2057.54 316.964 2059.79 316.964 Q2062.8 316.964 2064.42 315.946 Q2066.04 314.904 2066.04 313.029 Q2066.04 311.293 2064.86 310.367 Q2063.7 309.441 2059.74 308.584 L2058.26 308.237 Q2054.3 307.404 2052.54 305.691 Q2050.79 303.955 2050.79 300.946 Q2050.79 297.288 2053.38 295.298 Q2055.97 293.307 2060.74 293.307 Q2063.1 293.307 2065.18 293.654 Q2067.27 294.001 2069.03 294.696 Z\" fill=\"#000000\" fill-rule=\"evenodd\" fill-opacity=\"1\" /><path clip-path=\"url(#clip570)\" d=\"M2092.82 298.33 L2122.5 298.33 L2122.5 302.219 L2092.82 302.219 L2092.82 298.33 M2092.82 307.774 L2122.5 307.774 L2122.5 311.709 L2092.82 311.709 L2092.82 307.774 Z\" fill=\"#000000\" fill-rule=\"evenodd\" fill-opacity=\"1\" /><path clip-path=\"url(#clip570)\" d=\"M2160.51 289.372 L2148.7 307.821 L2160.51 307.821 L2160.51 289.372 M2159.28 285.298 L2165.16 285.298 L2165.16 307.821 L2170.09 307.821 L2170.09 311.709 L2165.16 311.709 L2165.16 319.858 L2160.51 319.858 L2160.51 311.709 L2144.91 311.709 L2144.91 307.196 L2159.28 285.298 Z\" fill=\"#000000\" fill-rule=\"evenodd\" fill-opacity=\"1\" /><path clip-path=\"url(#clip570)\" d=\"M2187.82 288.376 Q2184.21 288.376 2182.38 291.941 Q2180.58 295.483 2180.58 302.612 Q2180.58 309.719 2182.38 313.284 Q2184.21 316.825 2187.82 316.825 Q2191.46 316.825 2193.26 313.284 Q2195.09 309.719 2195.09 302.612 Q2195.09 295.483 2193.26 291.941 Q2191.46 288.376 2187.82 288.376 M2187.82 284.673 Q2193.63 284.673 2196.69 289.279 Q2199.77 293.862 2199.77 302.612 Q2199.77 311.339 2196.69 315.946 Q2193.63 320.529 2187.82 320.529 Q2182.01 320.529 2178.93 315.946 Q2175.88 311.339 2175.88 302.612 Q2175.88 293.862 2178.93 289.279 Q2182.01 284.673 2187.82 284.673 Z\" fill=\"#000000\" fill-rule=\"evenodd\" fill-opacity=\"1\" /><polyline clip-path=\"url(#clip570)\" style=\"stroke:#ac8d18; stroke-linecap:butt; stroke-linejoin:round; stroke-width:4; stroke-opacity:1; fill:none\" points=\"\n",
       "  1726.23,354.418 1873.63,354.418 \n",
       "  \"/>\n",
       "<path clip-path=\"url(#clip570)\" d=\"M1919.91 356.049 L1919.91 371.698 L1915.65 371.698 L1915.65 356.188 Q1915.65 352.508 1914.21 350.679 Q1912.78 348.85 1909.91 348.85 Q1906.46 348.85 1904.47 351.05 Q1902.48 353.249 1902.48 357.045 L1902.48 371.698 L1898.19 371.698 L1898.19 345.772 L1902.48 345.772 L1902.48 349.8 Q1904 347.462 1906.06 346.304 Q1908.15 345.147 1910.86 345.147 Q1915.32 345.147 1917.61 347.925 Q1919.91 350.679 1919.91 356.049 Z\" fill=\"#000000\" fill-rule=\"evenodd\" fill-opacity=\"1\" /><path clip-path=\"url(#clip570)\" d=\"M1932.52 367.809 L1932.52 381.559 L1928.24 381.559 L1928.24 345.772 L1932.52 345.772 L1932.52 349.707 Q1933.86 347.392 1935.9 346.281 Q1937.96 345.147 1940.81 345.147 Q1945.53 345.147 1948.47 348.897 Q1951.43 352.647 1951.43 358.758 Q1951.43 364.869 1948.47 368.619 Q1945.53 372.369 1940.81 372.369 Q1937.96 372.369 1935.9 371.258 Q1933.86 370.123 1932.52 367.809 M1947.01 358.758 Q1947.01 354.059 1945.07 351.397 Q1943.15 348.712 1939.77 348.712 Q1936.39 348.712 1934.44 351.397 Q1932.52 354.059 1932.52 358.758 Q1932.52 363.457 1934.44 366.142 Q1936.39 368.804 1939.77 368.804 Q1943.15 368.804 1945.07 366.142 Q1947.01 363.457 1947.01 358.758 Z\" fill=\"#000000\" fill-rule=\"evenodd\" fill-opacity=\"1\" /><path clip-path=\"url(#clip570)\" d=\"M1980.67 357.67 L1980.67 359.753 L1961.09 359.753 Q1961.36 364.151 1963.73 366.466 Q1966.11 368.758 1970.35 368.758 Q1972.8 368.758 1975.09 368.156 Q1977.41 367.554 1979.67 366.35 L1979.67 370.378 Q1977.38 371.35 1974.98 371.86 Q1972.57 372.369 1970.09 372.369 Q1963.89 372.369 1960.25 368.758 Q1956.64 365.147 1956.64 358.989 Q1956.64 352.624 1960.07 348.897 Q1963.52 345.147 1969.35 345.147 Q1974.58 345.147 1977.61 348.526 Q1980.67 351.883 1980.67 357.67 M1976.41 356.42 Q1976.36 352.925 1974.44 350.841 Q1972.55 348.758 1969.4 348.758 Q1965.83 348.758 1963.68 350.772 Q1961.55 352.786 1961.23 356.443 L1976.41 356.42 Z\" fill=\"#000000\" fill-rule=\"evenodd\" fill-opacity=\"1\" /><path clip-path=\"url(#clip570)\" d=\"M2002.68 349.753 Q2001.97 349.337 2001.11 349.151 Q2000.28 348.943 1999.26 348.943 Q1995.65 348.943 1993.7 351.304 Q1991.78 353.642 1991.78 358.04 L1991.78 371.698 L1987.5 371.698 L1987.5 345.772 L1991.78 345.772 L1991.78 349.8 Q1993.12 347.438 1995.28 346.304 Q1997.43 345.147 2000.51 345.147 Q2000.95 345.147 2001.48 345.216 Q2002.01 345.263 2002.66 345.378 L2002.68 349.753 Z\" fill=\"#000000\" fill-rule=\"evenodd\" fill-opacity=\"1\" /><path clip-path=\"url(#clip570)\" d=\"M2026.5 350.749 Q2028.1 347.878 2030.32 346.513 Q2032.54 345.147 2035.55 345.147 Q2039.6 345.147 2041.8 347.994 Q2044 350.818 2044 356.049 L2044 371.698 L2039.72 371.698 L2039.72 356.188 Q2039.72 352.462 2038.4 350.656 Q2037.08 348.85 2034.37 348.85 Q2031.06 348.85 2029.14 351.05 Q2027.22 353.249 2027.22 357.045 L2027.22 371.698 L2022.94 371.698 L2022.94 356.188 Q2022.94 352.438 2021.62 350.656 Q2020.3 348.85 2017.54 348.85 Q2014.28 348.85 2012.36 351.073 Q2010.44 353.272 2010.44 357.045 L2010.44 371.698 L2006.16 371.698 L2006.16 345.772 L2010.44 345.772 L2010.44 349.8 Q2011.9 347.415 2013.93 346.281 Q2015.97 345.147 2018.77 345.147 Q2021.6 345.147 2023.56 346.582 Q2025.55 348.017 2026.5 350.749 Z\" fill=\"#000000\" fill-rule=\"evenodd\" fill-opacity=\"1\" /><path clip-path=\"url(#clip570)\" d=\"M2069.03 346.536 L2069.03 350.563 Q2067.22 349.637 2065.28 349.175 Q2063.33 348.712 2061.25 348.712 Q2058.08 348.712 2056.48 349.684 Q2054.91 350.656 2054.91 352.6 Q2054.91 354.082 2056.04 354.938 Q2057.17 355.772 2060.6 356.536 L2062.06 356.86 Q2066.6 357.832 2068.49 359.614 Q2070.41 361.374 2070.41 364.545 Q2070.41 368.156 2067.54 370.262 Q2064.7 372.369 2059.7 372.369 Q2057.61 372.369 2055.35 371.952 Q2053.1 371.559 2050.6 370.748 L2050.6 366.35 Q2052.96 367.577 2055.25 368.202 Q2057.54 368.804 2059.79 368.804 Q2062.8 368.804 2064.42 367.786 Q2066.04 366.744 2066.04 364.869 Q2066.04 363.133 2064.86 362.207 Q2063.7 361.281 2059.74 360.424 L2058.26 360.077 Q2054.3 359.244 2052.54 357.531 Q2050.79 355.795 2050.79 352.786 Q2050.79 349.128 2053.38 347.138 Q2055.97 345.147 2060.74 345.147 Q2063.1 345.147 2065.18 345.494 Q2067.27 345.841 2069.03 346.536 Z\" fill=\"#000000\" fill-rule=\"evenodd\" fill-opacity=\"1\" /><path clip-path=\"url(#clip570)\" d=\"M2092.82 350.17 L2122.5 350.17 L2122.5 354.059 L2092.82 354.059 L2092.82 350.17 M2092.82 359.614 L2122.5 359.614 L2122.5 363.549 L2092.82 363.549 L2092.82 359.614 Z\" fill=\"#000000\" fill-rule=\"evenodd\" fill-opacity=\"1\" /><path clip-path=\"url(#clip570)\" d=\"M2157.66 355.286 Q2154.33 355.286 2152.41 357.068 Q2150.51 358.85 2150.51 361.975 Q2150.51 365.1 2152.41 366.883 Q2154.33 368.665 2157.66 368.665 Q2160.99 368.665 2162.91 366.883 Q2164.84 365.077 2164.84 361.975 Q2164.84 358.85 2162.91 357.068 Q2161.02 355.286 2157.66 355.286 M2152.98 353.295 Q2149.97 352.554 2148.28 350.494 Q2146.62 348.434 2146.62 345.471 Q2146.62 341.327 2149.56 338.92 Q2152.52 336.513 2157.66 336.513 Q2162.82 336.513 2165.76 338.92 Q2168.7 341.327 2168.7 345.471 Q2168.7 348.434 2167.01 350.494 Q2165.34 352.554 2162.36 353.295 Q2165.74 354.082 2167.61 356.374 Q2169.51 358.665 2169.51 361.975 Q2169.51 366.999 2166.43 369.684 Q2163.38 372.369 2157.66 372.369 Q2151.94 372.369 2148.86 369.684 Q2145.81 366.999 2145.81 361.975 Q2145.81 358.665 2147.71 356.374 Q2149.6 354.082 2152.98 353.295 M2151.27 345.911 Q2151.27 348.596 2152.94 350.1 Q2154.63 351.605 2157.66 351.605 Q2160.67 351.605 2162.36 350.1 Q2164.07 348.596 2164.07 345.911 Q2164.07 343.225 2162.36 341.721 Q2160.67 340.216 2157.66 340.216 Q2154.63 340.216 2152.94 341.721 Q2151.27 343.225 2151.27 345.911 Z\" fill=\"#000000\" fill-rule=\"evenodd\" fill-opacity=\"1\" /><path clip-path=\"url(#clip570)\" d=\"M2187.82 340.216 Q2184.21 340.216 2182.38 343.781 Q2180.58 347.323 2180.58 354.452 Q2180.58 361.559 2182.38 365.124 Q2184.21 368.665 2187.82 368.665 Q2191.46 368.665 2193.26 365.124 Q2195.09 361.559 2195.09 354.452 Q2195.09 347.323 2193.26 343.781 Q2191.46 340.216 2187.82 340.216 M2187.82 336.513 Q2193.63 336.513 2196.69 341.119 Q2199.77 345.702 2199.77 354.452 Q2199.77 363.179 2196.69 367.786 Q2193.63 372.369 2187.82 372.369 Q2182.01 372.369 2178.93 367.786 Q2175.88 363.179 2175.88 354.452 Q2175.88 345.702 2178.93 341.119 Q2182.01 336.513 2187.82 336.513 Z\" fill=\"#000000\" fill-rule=\"evenodd\" fill-opacity=\"1\" /><polyline clip-path=\"url(#clip570)\" style=\"stroke:#00a9ad; stroke-linecap:butt; stroke-linejoin:round; stroke-width:4; stroke-opacity:1; fill:none\" points=\"\n",
       "  1726.23,406.258 1873.63,406.258 \n",
       "  \"/>\n",
       "<path clip-path=\"url(#clip570)\" d=\"M1919.91 407.889 L1919.91 423.538 L1915.65 423.538 L1915.65 408.028 Q1915.65 404.348 1914.21 402.519 Q1912.78 400.69 1909.91 400.69 Q1906.46 400.69 1904.47 402.89 Q1902.48 405.089 1902.48 408.885 L1902.48 423.538 L1898.19 423.538 L1898.19 397.612 L1902.48 397.612 L1902.48 401.64 Q1904 399.302 1906.06 398.144 Q1908.15 396.987 1910.86 396.987 Q1915.32 396.987 1917.61 399.765 Q1919.91 402.519 1919.91 407.889 Z\" fill=\"#000000\" fill-rule=\"evenodd\" fill-opacity=\"1\" /><path clip-path=\"url(#clip570)\" d=\"M1932.52 419.649 L1932.52 433.399 L1928.24 433.399 L1928.24 397.612 L1932.52 397.612 L1932.52 401.547 Q1933.86 399.232 1935.9 398.121 Q1937.96 396.987 1940.81 396.987 Q1945.53 396.987 1948.47 400.737 Q1951.43 404.487 1951.43 410.598 Q1951.43 416.709 1948.47 420.459 Q1945.53 424.209 1940.81 424.209 Q1937.96 424.209 1935.9 423.098 Q1933.86 421.963 1932.52 419.649 M1947.01 410.598 Q1947.01 405.899 1945.07 403.237 Q1943.15 400.552 1939.77 400.552 Q1936.39 400.552 1934.44 403.237 Q1932.52 405.899 1932.52 410.598 Q1932.52 415.297 1934.44 417.982 Q1936.39 420.644 1939.77 420.644 Q1943.15 420.644 1945.07 417.982 Q1947.01 415.297 1947.01 410.598 Z\" fill=\"#000000\" fill-rule=\"evenodd\" fill-opacity=\"1\" /><path clip-path=\"url(#clip570)\" d=\"M1980.67 409.51 L1980.67 411.593 L1961.09 411.593 Q1961.36 415.991 1963.73 418.306 Q1966.11 420.598 1970.35 420.598 Q1972.8 420.598 1975.09 419.996 Q1977.41 419.394 1979.67 418.19 L1979.67 422.218 Q1977.38 423.19 1974.98 423.7 Q1972.57 424.209 1970.09 424.209 Q1963.89 424.209 1960.25 420.598 Q1956.64 416.987 1956.64 410.829 Q1956.64 404.464 1960.07 400.737 Q1963.52 396.987 1969.35 396.987 Q1974.58 396.987 1977.61 400.366 Q1980.67 403.723 1980.67 409.51 M1976.41 408.26 Q1976.36 404.765 1974.44 402.681 Q1972.55 400.598 1969.4 400.598 Q1965.83 400.598 1963.68 402.612 Q1961.55 404.626 1961.23 408.283 L1976.41 408.26 Z\" fill=\"#000000\" fill-rule=\"evenodd\" fill-opacity=\"1\" /><path clip-path=\"url(#clip570)\" d=\"M2002.68 401.593 Q2001.97 401.177 2001.11 400.991 Q2000.28 400.783 1999.26 400.783 Q1995.65 400.783 1993.7 403.144 Q1991.78 405.482 1991.78 409.88 L1991.78 423.538 L1987.5 423.538 L1987.5 397.612 L1991.78 397.612 L1991.78 401.64 Q1993.12 399.278 1995.28 398.144 Q1997.43 396.987 2000.51 396.987 Q2000.95 396.987 2001.48 397.056 Q2002.01 397.103 2002.66 397.218 L2002.68 401.593 Z\" fill=\"#000000\" fill-rule=\"evenodd\" fill-opacity=\"1\" /><path clip-path=\"url(#clip570)\" d=\"M2026.5 402.589 Q2028.1 399.718 2030.32 398.353 Q2032.54 396.987 2035.55 396.987 Q2039.6 396.987 2041.8 399.834 Q2044 402.658 2044 407.889 L2044 423.538 L2039.72 423.538 L2039.72 408.028 Q2039.72 404.302 2038.4 402.496 Q2037.08 400.69 2034.37 400.69 Q2031.06 400.69 2029.14 402.89 Q2027.22 405.089 2027.22 408.885 L2027.22 423.538 L2022.94 423.538 L2022.94 408.028 Q2022.94 404.278 2021.62 402.496 Q2020.3 400.69 2017.54 400.69 Q2014.28 400.69 2012.36 402.913 Q2010.44 405.112 2010.44 408.885 L2010.44 423.538 L2006.16 423.538 L2006.16 397.612 L2010.44 397.612 L2010.44 401.64 Q2011.9 399.255 2013.93 398.121 Q2015.97 396.987 2018.77 396.987 Q2021.6 396.987 2023.56 398.422 Q2025.55 399.857 2026.5 402.589 Z\" fill=\"#000000\" fill-rule=\"evenodd\" fill-opacity=\"1\" /><path clip-path=\"url(#clip570)\" d=\"M2069.03 398.376 L2069.03 402.403 Q2067.22 401.477 2065.28 401.015 Q2063.33 400.552 2061.25 400.552 Q2058.08 400.552 2056.48 401.524 Q2054.91 402.496 2054.91 404.44 Q2054.91 405.922 2056.04 406.778 Q2057.17 407.612 2060.6 408.376 L2062.06 408.7 Q2066.6 409.672 2068.49 411.454 Q2070.41 413.214 2070.41 416.385 Q2070.41 419.996 2067.54 422.102 Q2064.7 424.209 2059.7 424.209 Q2057.61 424.209 2055.35 423.792 Q2053.1 423.399 2050.6 422.588 L2050.6 418.19 Q2052.96 419.417 2055.25 420.042 Q2057.54 420.644 2059.79 420.644 Q2062.8 420.644 2064.42 419.626 Q2066.04 418.584 2066.04 416.709 Q2066.04 414.973 2064.86 414.047 Q2063.7 413.121 2059.74 412.264 L2058.26 411.917 Q2054.3 411.084 2052.54 409.371 Q2050.79 407.635 2050.79 404.626 Q2050.79 400.968 2053.38 398.978 Q2055.97 396.987 2060.74 396.987 Q2063.1 396.987 2065.18 397.334 Q2067.27 397.681 2069.03 398.376 Z\" fill=\"#000000\" fill-rule=\"evenodd\" fill-opacity=\"1\" /><path clip-path=\"url(#clip570)\" d=\"M2092.82 402.01 L2122.5 402.01 L2122.5 405.899 L2092.82 405.899 L2092.82 402.01 M2092.82 411.454 L2122.5 411.454 L2122.5 415.389 L2092.82 415.389 L2092.82 411.454 Z\" fill=\"#000000\" fill-rule=\"evenodd\" fill-opacity=\"1\" /><path clip-path=\"url(#clip570)\" d=\"M2148.47 419.602 L2156.11 419.602 L2156.11 393.237 L2147.8 394.903 L2147.8 390.644 L2156.06 388.978 L2160.74 388.978 L2160.74 419.602 L2168.38 419.602 L2168.38 423.538 L2148.47 423.538 L2148.47 419.602 Z\" fill=\"#000000\" fill-rule=\"evenodd\" fill-opacity=\"1\" /><path clip-path=\"url(#clip570)\" d=\"M2187.82 392.056 Q2184.21 392.056 2182.38 395.621 Q2180.58 399.163 2180.58 406.292 Q2180.58 413.399 2182.38 416.964 Q2184.21 420.505 2187.82 420.505 Q2191.46 420.505 2193.26 416.964 Q2195.09 413.399 2195.09 406.292 Q2195.09 399.163 2193.26 395.621 Q2191.46 392.056 2187.82 392.056 M2187.82 388.353 Q2193.63 388.353 2196.69 392.959 Q2199.77 397.542 2199.77 406.292 Q2199.77 415.019 2196.69 419.626 Q2193.63 424.209 2187.82 424.209 Q2182.01 424.209 2178.93 419.626 Q2175.88 415.019 2175.88 406.292 Q2175.88 397.542 2178.93 392.959 Q2182.01 388.353 2187.82 388.353 Z\" fill=\"#000000\" fill-rule=\"evenodd\" fill-opacity=\"1\" /><path clip-path=\"url(#clip570)\" d=\"M2217.98 392.056 Q2214.37 392.056 2212.54 395.621 Q2210.74 399.163 2210.74 406.292 Q2210.74 413.399 2212.54 416.964 Q2214.37 420.505 2217.98 420.505 Q2221.62 420.505 2223.42 416.964 Q2225.25 413.399 2225.25 406.292 Q2225.25 399.163 2223.42 395.621 Q2221.62 392.056 2217.98 392.056 M2217.98 388.353 Q2223.79 388.353 2226.85 392.959 Q2229.93 397.542 2229.93 406.292 Q2229.93 415.019 2226.85 419.626 Q2223.79 424.209 2217.98 424.209 Q2212.17 424.209 2209.09 419.626 Q2206.04 415.019 2206.04 406.292 Q2206.04 397.542 2209.09 392.959 Q2212.17 388.353 2217.98 388.353 Z\" fill=\"#000000\" fill-rule=\"evenodd\" fill-opacity=\"1\" /></svg>\n"
      ]
     },
     "execution_count": 21,
     "metadata": {},
     "output_type": "execute_result"
    }
   ],
   "source": [
    "labels = map(x -> string(\"nperms = \", x), string.(nperms_list))\n",
    "plot(ntraits_list, runtimes_list1, label = permutedims(labels), lw = 1)"
   ]
  },
  {
   "cell_type": "code",
   "execution_count": 22,
   "id": "8d21851d-7683-4769-81d4-470b3c7d324b",
   "metadata": {},
   "outputs": [
    {
     "data": {
      "image/svg+xml": [
       "<?xml version=\"1.0\" encoding=\"utf-8\"?>\n",
       "<svg xmlns=\"http://www.w3.org/2000/svg\" xmlns:xlink=\"http://www.w3.org/1999/xlink\" width=\"600\" height=\"400\" viewBox=\"0 0 2400 1600\">\n",
       "<defs>\n",
       "  <clipPath id=\"clip610\">\n",
       "    <rect x=\"0\" y=\"0\" width=\"2400\" height=\"1600\"/>\n",
       "  </clipPath>\n",
       "</defs>\n",
       "<path clip-path=\"url(#clip610)\" d=\"\n",
       "M0 1600 L2400 1600 L2400 0 L0 0  Z\n",
       "  \" fill=\"#ffffff\" fill-rule=\"evenodd\" fill-opacity=\"1\"/>\n",
       "<defs>\n",
       "  <clipPath id=\"clip611\">\n",
       "    <rect x=\"480\" y=\"0\" width=\"1681\" height=\"1600\"/>\n",
       "  </clipPath>\n",
       "</defs>\n",
       "<path clip-path=\"url(#clip610)\" d=\"\n",
       "M141.853 1486.45 L2352.76 1486.45 L2352.76 47.2441 L141.853 47.2441  Z\n",
       "  \" fill=\"#ffffff\" fill-rule=\"evenodd\" fill-opacity=\"1\"/>\n",
       "<defs>\n",
       "  <clipPath id=\"clip612\">\n",
       "    <rect x=\"141\" y=\"47\" width=\"2212\" height=\"1440\"/>\n",
       "  </clipPath>\n",
       "</defs>\n",
       "<polyline clip-path=\"url(#clip612)\" style=\"stroke:#000000; stroke-linecap:butt; stroke-linejoin:round; stroke-width:2; stroke-opacity:0.1; fill:none\" points=\"\n",
       "  204.426,1486.45 204.426,47.2441 \n",
       "  \"/>\n",
       "<polyline clip-path=\"url(#clip612)\" style=\"stroke:#000000; stroke-linecap:butt; stroke-linejoin:round; stroke-width:2; stroke-opacity:0.1; fill:none\" points=\"\n",
       "  725.865,1486.45 725.865,47.2441 \n",
       "  \"/>\n",
       "<polyline clip-path=\"url(#clip612)\" style=\"stroke:#000000; stroke-linecap:butt; stroke-linejoin:round; stroke-width:2; stroke-opacity:0.1; fill:none\" points=\"\n",
       "  1247.3,1486.45 1247.3,47.2441 \n",
       "  \"/>\n",
       "<polyline clip-path=\"url(#clip612)\" style=\"stroke:#000000; stroke-linecap:butt; stroke-linejoin:round; stroke-width:2; stroke-opacity:0.1; fill:none\" points=\"\n",
       "  1768.74,1486.45 1768.74,47.2441 \n",
       "  \"/>\n",
       "<polyline clip-path=\"url(#clip612)\" style=\"stroke:#000000; stroke-linecap:butt; stroke-linejoin:round; stroke-width:2; stroke-opacity:0.1; fill:none\" points=\"\n",
       "  2290.18,1486.45 2290.18,47.2441 \n",
       "  \"/>\n",
       "<polyline clip-path=\"url(#clip610)\" style=\"stroke:#000000; stroke-linecap:butt; stroke-linejoin:round; stroke-width:4; stroke-opacity:1; fill:none\" points=\"\n",
       "  141.853,1486.45 2352.76,1486.45 \n",
       "  \"/>\n",
       "<polyline clip-path=\"url(#clip610)\" style=\"stroke:#000000; stroke-linecap:butt; stroke-linejoin:round; stroke-width:4; stroke-opacity:1; fill:none\" points=\"\n",
       "  204.426,1486.45 204.426,1467.55 \n",
       "  \"/>\n",
       "<polyline clip-path=\"url(#clip610)\" style=\"stroke:#000000; stroke-linecap:butt; stroke-linejoin:round; stroke-width:4; stroke-opacity:1; fill:none\" points=\"\n",
       "  725.865,1486.45 725.865,1467.55 \n",
       "  \"/>\n",
       "<polyline clip-path=\"url(#clip610)\" style=\"stroke:#000000; stroke-linecap:butt; stroke-linejoin:round; stroke-width:4; stroke-opacity:1; fill:none\" points=\"\n",
       "  1247.3,1486.45 1247.3,1467.55 \n",
       "  \"/>\n",
       "<polyline clip-path=\"url(#clip610)\" style=\"stroke:#000000; stroke-linecap:butt; stroke-linejoin:round; stroke-width:4; stroke-opacity:1; fill:none\" points=\"\n",
       "  1768.74,1486.45 1768.74,1467.55 \n",
       "  \"/>\n",
       "<polyline clip-path=\"url(#clip610)\" style=\"stroke:#000000; stroke-linecap:butt; stroke-linejoin:round; stroke-width:4; stroke-opacity:1; fill:none\" points=\"\n",
       "  2290.18,1486.45 2290.18,1467.55 \n",
       "  \"/>\n",
       "<path clip-path=\"url(#clip610)\" d=\"M204.426 1515.64 Q200.815 1515.64 198.986 1519.2 Q197.18 1522.75 197.18 1529.87 Q197.18 1536.98 198.986 1540.55 Q200.815 1544.09 204.426 1544.09 Q208.06 1544.09 209.865 1540.55 Q211.694 1536.98 211.694 1529.87 Q211.694 1522.75 209.865 1519.2 Q208.06 1515.64 204.426 1515.64 M204.426 1511.93 Q210.236 1511.93 213.291 1516.54 Q216.37 1521.12 216.37 1529.87 Q216.37 1538.6 213.291 1543.21 Q210.236 1547.79 204.426 1547.79 Q198.616 1547.79 195.537 1543.21 Q192.481 1538.6 192.481 1529.87 Q192.481 1521.12 195.537 1516.54 Q198.616 1511.93 204.426 1511.93 Z\" fill=\"#000000\" fill-rule=\"evenodd\" fill-opacity=\"1\" /><path clip-path=\"url(#clip610)\" d=\"M705.136 1543.18 L721.455 1543.18 L721.455 1547.12 L699.511 1547.12 L699.511 1543.18 Q702.173 1540.43 706.756 1535.8 Q711.363 1531.15 712.543 1529.81 Q714.789 1527.28 715.668 1525.55 Q716.571 1523.79 716.571 1522.1 Q716.571 1519.34 714.627 1517.61 Q712.705 1515.87 709.604 1515.87 Q707.404 1515.87 704.951 1516.63 Q702.52 1517.4 699.743 1518.95 L699.743 1514.23 Q702.567 1513.09 705.02 1512.51 Q707.474 1511.93 709.511 1511.93 Q714.881 1511.93 718.076 1514.62 Q721.27 1517.31 721.27 1521.8 Q721.27 1523.93 720.46 1525.85 Q719.673 1527.74 717.566 1530.34 Q716.988 1531.01 713.886 1534.23 Q710.784 1537.42 705.136 1543.18 Z\" fill=\"#000000\" fill-rule=\"evenodd\" fill-opacity=\"1\" /><path clip-path=\"url(#clip610)\" d=\"M731.316 1512.56 L749.673 1512.56 L749.673 1516.5 L735.599 1516.5 L735.599 1524.97 Q736.617 1524.62 737.636 1524.46 Q738.654 1524.27 739.673 1524.27 Q745.46 1524.27 748.839 1527.44 Q752.219 1530.62 752.219 1536.03 Q752.219 1541.61 748.747 1544.71 Q745.275 1547.79 738.955 1547.79 Q736.779 1547.79 734.511 1547.42 Q732.265 1547.05 729.858 1546.31 L729.858 1541.61 Q731.941 1542.74 734.164 1543.3 Q736.386 1543.86 738.863 1543.86 Q742.867 1543.86 745.205 1541.75 Q747.543 1539.64 747.543 1536.03 Q747.543 1532.42 745.205 1530.31 Q742.867 1528.21 738.863 1528.21 Q736.988 1528.21 735.113 1528.62 Q733.261 1529.04 731.316 1529.92 L731.316 1512.56 Z\" fill=\"#000000\" fill-rule=\"evenodd\" fill-opacity=\"1\" /><path clip-path=\"url(#clip610)\" d=\"M1222 1512.56 L1240.36 1512.56 L1240.36 1516.5 L1226.29 1516.5 L1226.29 1524.97 Q1227.3 1524.62 1228.32 1524.46 Q1229.34 1524.27 1230.36 1524.27 Q1236.15 1524.27 1239.53 1527.44 Q1242.91 1530.62 1242.91 1536.03 Q1242.91 1541.61 1239.43 1544.71 Q1235.96 1547.79 1229.64 1547.79 Q1227.47 1547.79 1225.2 1547.42 Q1222.95 1547.05 1220.55 1546.31 L1220.55 1541.61 Q1222.63 1542.74 1224.85 1543.3 Q1227.07 1543.86 1229.55 1543.86 Q1233.55 1543.86 1235.89 1541.75 Q1238.23 1539.64 1238.23 1536.03 Q1238.23 1532.42 1235.89 1530.31 Q1233.55 1528.21 1229.55 1528.21 Q1227.67 1528.21 1225.8 1528.62 Q1223.95 1529.04 1222 1529.92 L1222 1512.56 Z\" fill=\"#000000\" fill-rule=\"evenodd\" fill-opacity=\"1\" /><path clip-path=\"url(#clip610)\" d=\"M1262.12 1515.64 Q1258.51 1515.64 1256.68 1519.2 Q1254.87 1522.75 1254.87 1529.87 Q1254.87 1536.98 1256.68 1540.55 Q1258.51 1544.09 1262.12 1544.09 Q1265.75 1544.09 1267.56 1540.55 Q1269.39 1536.98 1269.39 1529.87 Q1269.39 1522.75 1267.56 1519.2 Q1265.75 1515.64 1262.12 1515.64 M1262.12 1511.93 Q1267.93 1511.93 1270.98 1516.54 Q1274.06 1521.12 1274.06 1529.87 Q1274.06 1538.6 1270.98 1543.21 Q1267.93 1547.79 1262.12 1547.79 Q1256.31 1547.79 1253.23 1543.21 Q1250.17 1538.6 1250.17 1529.87 Q1250.17 1521.12 1253.23 1516.54 Q1256.31 1511.93 1262.12 1511.93 Z\" fill=\"#000000\" fill-rule=\"evenodd\" fill-opacity=\"1\" /><path clip-path=\"url(#clip610)\" d=\"M1742.6 1512.56 L1764.82 1512.56 L1764.82 1514.55 L1752.27 1547.12 L1747.39 1547.12 L1759.2 1516.5 L1742.6 1516.5 L1742.6 1512.56 Z\" fill=\"#000000\" fill-rule=\"evenodd\" fill-opacity=\"1\" /><path clip-path=\"url(#clip610)\" d=\"M1773.99 1512.56 L1792.34 1512.56 L1792.34 1516.5 L1778.27 1516.5 L1778.27 1524.97 Q1779.29 1524.62 1780.31 1524.46 Q1781.32 1524.27 1782.34 1524.27 Q1788.13 1524.27 1791.51 1527.44 Q1794.89 1530.62 1794.89 1536.03 Q1794.89 1541.61 1791.42 1544.71 Q1787.95 1547.79 1781.63 1547.79 Q1779.45 1547.79 1777.18 1547.42 Q1774.94 1547.05 1772.53 1546.31 L1772.53 1541.61 Q1774.61 1542.74 1776.83 1543.3 Q1779.06 1543.86 1781.53 1543.86 Q1785.54 1543.86 1787.88 1541.75 Q1790.21 1539.64 1790.21 1536.03 Q1790.21 1532.42 1787.88 1530.31 Q1785.54 1528.21 1781.53 1528.21 Q1779.66 1528.21 1777.78 1528.62 Q1775.93 1529.04 1773.99 1529.92 L1773.99 1512.56 Z\" fill=\"#000000\" fill-rule=\"evenodd\" fill-opacity=\"1\" /><path clip-path=\"url(#clip610)\" d=\"M2249.79 1543.18 L2257.43 1543.18 L2257.43 1516.82 L2249.12 1518.49 L2249.12 1514.23 L2257.38 1512.56 L2262.06 1512.56 L2262.06 1543.18 L2269.7 1543.18 L2269.7 1547.12 L2249.79 1547.12 L2249.79 1543.18 Z\" fill=\"#000000\" fill-rule=\"evenodd\" fill-opacity=\"1\" /><path clip-path=\"url(#clip610)\" d=\"M2289.14 1515.64 Q2285.53 1515.64 2283.7 1519.2 Q2281.9 1522.75 2281.9 1529.87 Q2281.9 1536.98 2283.7 1540.55 Q2285.53 1544.09 2289.14 1544.09 Q2292.78 1544.09 2294.58 1540.55 Q2296.41 1536.98 2296.41 1529.87 Q2296.41 1522.75 2294.58 1519.2 Q2292.78 1515.64 2289.14 1515.64 M2289.14 1511.93 Q2294.95 1511.93 2298.01 1516.54 Q2301.09 1521.12 2301.09 1529.87 Q2301.09 1538.6 2298.01 1543.21 Q2294.95 1547.79 2289.14 1547.79 Q2283.33 1547.79 2280.25 1543.21 Q2277.2 1538.6 2277.2 1529.87 Q2277.2 1521.12 2280.25 1516.54 Q2283.33 1511.93 2289.14 1511.93 Z\" fill=\"#000000\" fill-rule=\"evenodd\" fill-opacity=\"1\" /><path clip-path=\"url(#clip610)\" d=\"M2319.3 1515.64 Q2315.69 1515.64 2313.86 1519.2 Q2312.06 1522.75 2312.06 1529.87 Q2312.06 1536.98 2313.86 1540.55 Q2315.69 1544.09 2319.3 1544.09 Q2322.94 1544.09 2324.74 1540.55 Q2326.57 1536.98 2326.57 1529.87 Q2326.57 1522.75 2324.74 1519.2 Q2322.94 1515.64 2319.3 1515.64 M2319.3 1511.93 Q2325.11 1511.93 2328.17 1516.54 Q2331.25 1521.12 2331.25 1529.87 Q2331.25 1538.6 2328.17 1543.21 Q2325.11 1547.79 2319.3 1547.79 Q2313.49 1547.79 2310.41 1543.21 Q2307.36 1538.6 2307.36 1529.87 Q2307.36 1521.12 2310.41 1516.54 Q2313.49 1511.93 2319.3 1511.93 Z\" fill=\"#000000\" fill-rule=\"evenodd\" fill-opacity=\"1\" /><polyline clip-path=\"url(#clip612)\" style=\"stroke:#000000; stroke-linecap:butt; stroke-linejoin:round; stroke-width:2; stroke-opacity:0.1; fill:none\" points=\"\n",
       "  141.853,1446.01 2352.76,1446.01 \n",
       "  \"/>\n",
       "<polyline clip-path=\"url(#clip612)\" style=\"stroke:#000000; stroke-linecap:butt; stroke-linejoin:round; stroke-width:2; stroke-opacity:0.1; fill:none\" points=\"\n",
       "  141.853,1095.61 2352.76,1095.61 \n",
       "  \"/>\n",
       "<polyline clip-path=\"url(#clip612)\" style=\"stroke:#000000; stroke-linecap:butt; stroke-linejoin:round; stroke-width:2; stroke-opacity:0.1; fill:none\" points=\"\n",
       "  141.853,745.2 2352.76,745.2 \n",
       "  \"/>\n",
       "<polyline clip-path=\"url(#clip612)\" style=\"stroke:#000000; stroke-linecap:butt; stroke-linejoin:round; stroke-width:2; stroke-opacity:0.1; fill:none\" points=\"\n",
       "  141.853,394.794 2352.76,394.794 \n",
       "  \"/>\n",
       "<polyline clip-path=\"url(#clip610)\" style=\"stroke:#000000; stroke-linecap:butt; stroke-linejoin:round; stroke-width:4; stroke-opacity:1; fill:none\" points=\"\n",
       "  141.853,1486.45 141.853,47.2441 \n",
       "  \"/>\n",
       "<polyline clip-path=\"url(#clip610)\" style=\"stroke:#000000; stroke-linecap:butt; stroke-linejoin:round; stroke-width:4; stroke-opacity:1; fill:none\" points=\"\n",
       "  141.853,1446.01 160.751,1446.01 \n",
       "  \"/>\n",
       "<polyline clip-path=\"url(#clip610)\" style=\"stroke:#000000; stroke-linecap:butt; stroke-linejoin:round; stroke-width:4; stroke-opacity:1; fill:none\" points=\"\n",
       "  141.853,1095.61 160.751,1095.61 \n",
       "  \"/>\n",
       "<polyline clip-path=\"url(#clip610)\" style=\"stroke:#000000; stroke-linecap:butt; stroke-linejoin:round; stroke-width:4; stroke-opacity:1; fill:none\" points=\"\n",
       "  141.853,745.2 160.751,745.2 \n",
       "  \"/>\n",
       "<polyline clip-path=\"url(#clip610)\" style=\"stroke:#000000; stroke-linecap:butt; stroke-linejoin:round; stroke-width:4; stroke-opacity:1; fill:none\" points=\"\n",
       "  141.853,394.794 160.751,394.794 \n",
       "  \"/>\n",
       "<path clip-path=\"url(#clip610)\" d=\"M93.9086 1431.81 Q90.2975 1431.81 88.4688 1435.38 Q86.6632 1438.92 86.6632 1446.05 Q86.6632 1453.16 88.4688 1456.72 Q90.2975 1460.26 93.9086 1460.26 Q97.5428 1460.26 99.3483 1456.72 Q101.177 1453.16 101.177 1446.05 Q101.177 1438.92 99.3483 1435.38 Q97.5428 1431.81 93.9086 1431.81 M93.9086 1428.11 Q99.7187 1428.11 102.774 1432.72 Q105.853 1437.3 105.853 1446.05 Q105.853 1454.78 102.774 1459.38 Q99.7187 1463.97 93.9086 1463.97 Q88.0984 1463.97 85.0197 1459.38 Q81.9642 1454.78 81.9642 1446.05 Q81.9642 1437.3 85.0197 1432.72 Q88.0984 1428.11 93.9086 1428.11 Z\" fill=\"#000000\" fill-rule=\"evenodd\" fill-opacity=\"1\" /><path clip-path=\"url(#clip610)\" d=\"M57.7745 1108.95 L74.0939 1108.95 L74.0939 1112.89 L52.1495 1112.89 L52.1495 1108.95 Q54.8115 1106.2 59.3949 1101.57 Q64.0013 1096.92 65.1819 1095.57 Q67.4272 1093.05 68.3068 1091.31 Q69.2096 1089.55 69.2096 1087.86 Q69.2096 1085.11 67.2652 1083.37 Q65.3439 1081.64 62.2421 1081.64 Q60.043 1081.64 57.5893 1082.4 Q55.1588 1083.17 52.381 1084.72 L52.381 1079.99 Q55.2051 1078.86 57.6588 1078.28 Q60.1124 1077.7 62.1495 1077.7 Q67.5198 1077.7 70.7142 1080.39 Q73.9087 1083.07 73.9087 1087.56 Q73.9087 1089.69 73.0985 1091.61 Q72.3115 1093.51 70.205 1096.1 Q69.6263 1096.78 66.5245 1099.99 Q63.4226 1103.19 57.7745 1108.95 Z\" fill=\"#000000\" fill-rule=\"evenodd\" fill-opacity=\"1\" /><path clip-path=\"url(#clip610)\" d=\"M93.9086 1081.41 Q90.2975 1081.41 88.4688 1084.97 Q86.6632 1088.51 86.6632 1095.64 Q86.6632 1102.75 88.4688 1106.31 Q90.2975 1109.85 93.9086 1109.85 Q97.5428 1109.85 99.3483 1106.31 Q101.177 1102.75 101.177 1095.64 Q101.177 1088.51 99.3483 1084.97 Q97.5428 1081.41 93.9086 1081.41 M93.9086 1077.7 Q99.7187 1077.7 102.774 1082.31 Q105.853 1086.89 105.853 1095.64 Q105.853 1104.37 102.774 1108.98 Q99.7187 1113.56 93.9086 1113.56 Q88.0984 1113.56 85.0197 1108.98 Q81.9642 1104.37 81.9642 1095.64 Q81.9642 1086.89 85.0197 1082.31 Q88.0984 1077.7 93.9086 1077.7 Z\" fill=\"#000000\" fill-rule=\"evenodd\" fill-opacity=\"1\" /><path clip-path=\"url(#clip610)\" d=\"M66.5939 731.995 L54.7884 750.444 L66.5939 750.444 L66.5939 731.995 M65.367 727.92 L71.2466 727.92 L71.2466 750.444 L76.1772 750.444 L76.1772 754.332 L71.2466 754.332 L71.2466 762.48 L66.5939 762.48 L66.5939 754.332 L50.9921 754.332 L50.9921 749.819 L65.367 727.92 Z\" fill=\"#000000\" fill-rule=\"evenodd\" fill-opacity=\"1\" /><path clip-path=\"url(#clip610)\" d=\"M93.9086 730.999 Q90.2975 730.999 88.4688 734.564 Q86.6632 738.106 86.6632 745.235 Q86.6632 752.342 88.4688 755.906 Q90.2975 759.448 93.9086 759.448 Q97.5428 759.448 99.3483 755.906 Q101.177 752.342 101.177 745.235 Q101.177 738.106 99.3483 734.564 Q97.5428 730.999 93.9086 730.999 M93.9086 727.295 Q99.7187 727.295 102.774 731.902 Q105.853 736.485 105.853 745.235 Q105.853 753.962 102.774 758.568 Q99.7187 763.152 93.9086 763.152 Q88.0984 763.152 85.0197 758.568 Q81.9642 753.962 81.9642 745.235 Q81.9642 736.485 85.0197 731.902 Q88.0984 727.295 93.9086 727.295 Z\" fill=\"#000000\" fill-rule=\"evenodd\" fill-opacity=\"1\" /><path clip-path=\"url(#clip610)\" d=\"M64.3254 392.93 Q61.1773 392.93 59.3254 395.083 Q57.4967 397.236 57.4967 400.986 Q57.4967 404.713 59.3254 406.889 Q61.1773 409.041 64.3254 409.041 Q67.4735 409.041 69.3022 406.889 Q71.1541 404.713 71.1541 400.986 Q71.1541 397.236 69.3022 395.083 Q67.4735 392.93 64.3254 392.93 M73.6077 378.278 L73.6077 382.537 Q71.8485 381.703 70.0429 381.264 Q68.2606 380.824 66.5013 380.824 Q61.8717 380.824 59.418 383.949 Q56.9875 387.074 56.6402 393.393 Q58.006 391.379 60.0662 390.315 Q62.1263 389.227 64.6032 389.227 Q69.8115 389.227 72.8207 392.398 Q75.8531 395.546 75.8531 400.986 Q75.8531 406.31 72.705 409.527 Q69.5568 412.745 64.3254 412.745 Q58.33 412.745 55.1588 408.162 Q51.9875 403.555 51.9875 394.828 Q51.9875 386.634 55.8764 381.773 Q59.7652 376.889 66.3161 376.889 Q68.0754 376.889 69.8578 377.236 Q71.6633 377.583 73.6077 378.278 Z\" fill=\"#000000\" fill-rule=\"evenodd\" fill-opacity=\"1\" /><path clip-path=\"url(#clip610)\" d=\"M93.9086 380.592 Q90.2975 380.592 88.4688 384.157 Q86.6632 387.699 86.6632 394.828 Q86.6632 401.935 88.4688 405.5 Q90.2975 409.041 93.9086 409.041 Q97.5428 409.041 99.3483 405.5 Q101.177 401.935 101.177 394.828 Q101.177 387.699 99.3483 384.157 Q97.5428 380.592 93.9086 380.592 M93.9086 376.889 Q99.7187 376.889 102.774 381.495 Q105.853 386.078 105.853 394.828 Q105.853 403.555 102.774 408.162 Q99.7187 412.745 93.9086 412.745 Q88.0984 412.745 85.0197 408.162 Q81.9642 403.555 81.9642 394.828 Q81.9642 386.078 85.0197 381.495 Q88.0984 376.889 93.9086 376.889 Z\" fill=\"#000000\" fill-rule=\"evenodd\" fill-opacity=\"1\" /><polyline clip-path=\"url(#clip612)\" style=\"stroke:#009af9; stroke-linecap:butt; stroke-linejoin:round; stroke-width:4; stroke-opacity:1; fill:none\" points=\"\n",
       "  204.426,1445.72 413.001,1444.71 621.577,1443.86 1038.73,1442.62 1873.03,1434.91 2290.18,1432.8 \n",
       "  \"/>\n",
       "<polyline clip-path=\"url(#clip612)\" style=\"stroke:#e26f46; stroke-linecap:butt; stroke-linejoin:round; stroke-width:4; stroke-opacity:1; fill:none\" points=\"\n",
       "  204.426,1442.56 413.001,1432.37 621.577,1424.85 1038.73,1413.05 1873.03,1337.54 2290.18,1317.29 \n",
       "  \"/>\n",
       "<polyline clip-path=\"url(#clip612)\" style=\"stroke:#3da44d; stroke-linecap:butt; stroke-linejoin:round; stroke-width:4; stroke-opacity:1; fill:none\" points=\"\n",
       "  204.426,1438.33 413.001,1418.11 621.577,1403.4 1038.73,1379.53 1873.03,1226.31 2290.18,1181.86 \n",
       "  \"/>\n",
       "<polyline clip-path=\"url(#clip612)\" style=\"stroke:#c271d2; stroke-linecap:butt; stroke-linejoin:round; stroke-width:4; stroke-opacity:1; fill:none\" points=\"\n",
       "  204.426,1433.12 413.001,1400.71 621.577,1371.78 1038.73,1334.71 1873.03,1112.17 2290.18,1050.45 \n",
       "  \"/>\n",
       "<polyline clip-path=\"url(#clip612)\" style=\"stroke:#ac8d18; stroke-linecap:butt; stroke-linejoin:round; stroke-width:4; stroke-opacity:1; fill:none\" points=\"\n",
       "  204.426,1409.13 413.001,1315.09 621.577,1245.4 1038.73,1098.93 1873.03,549.745 2290.18,369.046 \n",
       "  \"/>\n",
       "<polyline clip-path=\"url(#clip612)\" style=\"stroke:#00a9ad; stroke-linecap:butt; stroke-linejoin:round; stroke-width:4; stroke-opacity:1; fill:none\" points=\"\n",
       "  204.426,1397.41 413.001,1260.85 621.577,1190.11 1038.73,983.194 1873.03,324.124 2290.18,87.9763 \n",
       "  \"/>\n",
       "<path clip-path=\"url(#clip610)\" d=\"\n",
       "M1726.88 458.098 L2279.06 458.098 L2279.06 95.2176 L1726.88 95.2176  Z\n",
       "  \" fill=\"#ffffff\" fill-rule=\"evenodd\" fill-opacity=\"1\"/>\n",
       "<polyline clip-path=\"url(#clip610)\" style=\"stroke:#000000; stroke-linecap:butt; stroke-linejoin:round; stroke-width:4; stroke-opacity:1; fill:none\" points=\"\n",
       "  1726.88,458.098 2279.06,458.098 2279.06,95.2176 1726.88,95.2176 1726.88,458.098 \n",
       "  \"/>\n",
       "<polyline clip-path=\"url(#clip610)\" style=\"stroke:#009af9; stroke-linecap:butt; stroke-linejoin:round; stroke-width:4; stroke-opacity:1; fill:none\" points=\"\n",
       "  1751.44,147.058 1898.84,147.058 \n",
       "  \"/>\n",
       "<path clip-path=\"url(#clip610)\" d=\"M1945.11 148.689 L1945.11 164.338 L1940.86 164.338 L1940.86 148.828 Q1940.86 145.148 1939.42 143.319 Q1937.99 141.49 1935.11 141.49 Q1931.67 141.49 1929.67 143.69 Q1927.68 145.889 1927.68 149.685 L1927.68 164.338 L1923.4 164.338 L1923.4 138.412 L1927.68 138.412 L1927.68 142.44 Q1929.21 140.102 1931.27 138.944 Q1933.36 137.787 1936.06 137.787 Q1940.53 137.787 1942.82 140.565 Q1945.11 143.319 1945.11 148.689 Z\" fill=\"#000000\" fill-rule=\"evenodd\" fill-opacity=\"1\" /><path clip-path=\"url(#clip610)\" d=\"M1957.82 131.051 L1957.82 138.412 L1966.6 138.412 L1966.6 141.722 L1957.82 141.722 L1957.82 155.796 Q1957.82 158.967 1958.68 159.87 Q1959.56 160.773 1962.22 160.773 L1966.6 160.773 L1966.6 164.338 L1962.22 164.338 Q1957.29 164.338 1955.42 162.509 Q1953.54 160.657 1953.54 155.796 L1953.54 141.722 L1950.42 141.722 L1950.42 138.412 L1953.54 138.412 L1953.54 131.051 L1957.82 131.051 Z\" fill=\"#000000\" fill-rule=\"evenodd\" fill-opacity=\"1\" /><path clip-path=\"url(#clip610)\" d=\"M1987.22 142.393 Q1986.5 141.977 1985.65 141.791 Q1984.81 141.583 1983.8 141.583 Q1980.18 141.583 1978.24 143.944 Q1976.32 146.282 1976.32 150.68 L1976.32 164.338 L1972.04 164.338 L1972.04 138.412 L1976.32 138.412 L1976.32 142.44 Q1977.66 140.078 1979.81 138.944 Q1981.97 137.787 1985.05 137.787 Q1985.48 137.787 1986.02 137.856 Q1986.55 137.903 1987.2 138.018 L1987.22 142.393 Z\" fill=\"#000000\" fill-rule=\"evenodd\" fill-opacity=\"1\" /><path clip-path=\"url(#clip610)\" d=\"M2003.47 151.305 Q1998.31 151.305 1996.32 152.486 Q1994.33 153.666 1994.33 156.514 Q1994.33 158.782 1995.81 160.125 Q1997.31 161.444 1999.88 161.444 Q2003.42 161.444 2005.55 158.944 Q2007.71 156.421 2007.71 152.254 L2007.71 151.305 L2003.47 151.305 M2011.97 149.546 L2011.97 164.338 L2007.71 164.338 L2007.71 160.402 Q2006.25 162.763 2004.07 163.898 Q2001.9 165.009 1998.75 165.009 Q1994.77 165.009 1992.41 162.787 Q1990.07 160.541 1990.07 156.791 Q1990.07 152.416 1992.98 150.194 Q1995.92 147.972 2001.73 147.972 L2007.71 147.972 L2007.71 147.555 Q2007.71 144.615 2005.76 143.018 Q2003.84 141.398 2000.35 141.398 Q1998.12 141.398 1996.02 141.93 Q1993.91 142.463 1991.97 143.527 L1991.97 139.592 Q1994.3 138.69 1996.5 138.25 Q1998.7 137.787 2000.79 137.787 Q2006.41 137.787 2009.19 140.703 Q2011.97 143.62 2011.97 149.546 Z\" fill=\"#000000\" fill-rule=\"evenodd\" fill-opacity=\"1\" /><path clip-path=\"url(#clip610)\" d=\"M2020.74 138.412 L2025 138.412 L2025 164.338 L2020.74 164.338 L2020.74 138.412 M2020.74 128.319 L2025 128.319 L2025 133.713 L2020.74 133.713 L2020.74 128.319 Z\" fill=\"#000000\" fill-rule=\"evenodd\" fill-opacity=\"1\" /><path clip-path=\"url(#clip610)\" d=\"M2038.12 131.051 L2038.12 138.412 L2046.9 138.412 L2046.9 141.722 L2038.12 141.722 L2038.12 155.796 Q2038.12 158.967 2038.98 159.87 Q2039.86 160.773 2042.52 160.773 L2046.9 160.773 L2046.9 164.338 L2042.52 164.338 Q2037.59 164.338 2035.72 162.509 Q2033.84 160.657 2033.84 155.796 L2033.84 141.722 L2030.72 141.722 L2030.72 138.412 L2033.84 138.412 L2033.84 131.051 L2038.12 131.051 Z\" fill=\"#000000\" fill-rule=\"evenodd\" fill-opacity=\"1\" /><path clip-path=\"url(#clip610)\" d=\"M2069.03 139.176 L2069.03 143.203 Q2067.22 142.277 2065.28 141.815 Q2063.33 141.352 2061.25 141.352 Q2058.08 141.352 2056.48 142.324 Q2054.91 143.296 2054.91 145.24 Q2054.91 146.722 2056.04 147.578 Q2057.17 148.412 2060.6 149.176 L2062.06 149.5 Q2066.6 150.472 2068.49 152.254 Q2070.41 154.014 2070.41 157.185 Q2070.41 160.796 2067.54 162.902 Q2064.7 165.009 2059.7 165.009 Q2057.61 165.009 2055.35 164.592 Q2053.1 164.199 2050.6 163.388 L2050.6 158.99 Q2052.96 160.217 2055.25 160.842 Q2057.54 161.444 2059.79 161.444 Q2062.8 161.444 2064.42 160.426 Q2066.04 159.384 2066.04 157.509 Q2066.04 155.773 2064.86 154.847 Q2063.7 153.921 2059.74 153.064 L2058.26 152.717 Q2054.3 151.884 2052.54 150.171 Q2050.79 148.435 2050.79 145.426 Q2050.79 141.768 2053.38 139.778 Q2055.97 137.787 2060.74 137.787 Q2063.1 137.787 2065.18 138.134 Q2067.27 138.481 2069.03 139.176 Z\" fill=\"#000000\" fill-rule=\"evenodd\" fill-opacity=\"1\" /><path clip-path=\"url(#clip610)\" d=\"M2092.82 142.81 L2122.5 142.81 L2122.5 146.699 L2092.82 146.699 L2092.82 142.81 M2092.82 152.254 L2122.5 152.254 L2122.5 156.189 L2092.82 156.189 L2092.82 152.254 Z\" fill=\"#000000\" fill-rule=\"evenodd\" fill-opacity=\"1\" /><path clip-path=\"url(#clip610)\" d=\"M2148.47 160.402 L2156.11 160.402 L2156.11 134.037 L2147.8 135.703 L2147.8 131.444 L2156.06 129.778 L2160.74 129.778 L2160.74 160.402 L2168.38 160.402 L2168.38 164.338 L2148.47 164.338 L2148.47 160.402 Z\" fill=\"#000000\" fill-rule=\"evenodd\" fill-opacity=\"1\" /><polyline clip-path=\"url(#clip610)\" style=\"stroke:#e26f46; stroke-linecap:butt; stroke-linejoin:round; stroke-width:4; stroke-opacity:1; fill:none\" points=\"\n",
       "  1751.44,198.898 1898.84,198.898 \n",
       "  \"/>\n",
       "<path clip-path=\"url(#clip610)\" d=\"M1945.11 200.529 L1945.11 216.178 L1940.86 216.178 L1940.86 200.668 Q1940.86 196.988 1939.42 195.159 Q1937.99 193.33 1935.11 193.33 Q1931.67 193.33 1929.67 195.53 Q1927.68 197.729 1927.68 201.525 L1927.68 216.178 L1923.4 216.178 L1923.4 190.252 L1927.68 190.252 L1927.68 194.28 Q1929.21 191.942 1931.27 190.784 Q1933.36 189.627 1936.06 189.627 Q1940.53 189.627 1942.82 192.405 Q1945.11 195.159 1945.11 200.529 Z\" fill=\"#000000\" fill-rule=\"evenodd\" fill-opacity=\"1\" /><path clip-path=\"url(#clip610)\" d=\"M1957.82 182.891 L1957.82 190.252 L1966.6 190.252 L1966.6 193.562 L1957.82 193.562 L1957.82 207.636 Q1957.82 210.807 1958.68 211.71 Q1959.56 212.613 1962.22 212.613 L1966.6 212.613 L1966.6 216.178 L1962.22 216.178 Q1957.29 216.178 1955.42 214.349 Q1953.54 212.497 1953.54 207.636 L1953.54 193.562 L1950.42 193.562 L1950.42 190.252 L1953.54 190.252 L1953.54 182.891 L1957.82 182.891 Z\" fill=\"#000000\" fill-rule=\"evenodd\" fill-opacity=\"1\" /><path clip-path=\"url(#clip610)\" d=\"M1987.22 194.233 Q1986.5 193.817 1985.65 193.631 Q1984.81 193.423 1983.8 193.423 Q1980.18 193.423 1978.24 195.784 Q1976.32 198.122 1976.32 202.52 L1976.32 216.178 L1972.04 216.178 L1972.04 190.252 L1976.32 190.252 L1976.32 194.28 Q1977.66 191.918 1979.81 190.784 Q1981.97 189.627 1985.05 189.627 Q1985.48 189.627 1986.02 189.696 Q1986.55 189.743 1987.2 189.858 L1987.22 194.233 Z\" fill=\"#000000\" fill-rule=\"evenodd\" fill-opacity=\"1\" /><path clip-path=\"url(#clip610)\" d=\"M2003.47 203.145 Q1998.31 203.145 1996.32 204.326 Q1994.33 205.506 1994.33 208.354 Q1994.33 210.622 1995.81 211.965 Q1997.31 213.284 1999.88 213.284 Q2003.42 213.284 2005.55 210.784 Q2007.71 208.261 2007.71 204.094 L2007.71 203.145 L2003.47 203.145 M2011.97 201.386 L2011.97 216.178 L2007.71 216.178 L2007.71 212.242 Q2006.25 214.603 2004.07 215.738 Q2001.9 216.849 1998.75 216.849 Q1994.77 216.849 1992.41 214.627 Q1990.07 212.381 1990.07 208.631 Q1990.07 204.256 1992.98 202.034 Q1995.92 199.812 2001.73 199.812 L2007.71 199.812 L2007.71 199.395 Q2007.71 196.455 2005.76 194.858 Q2003.84 193.238 2000.35 193.238 Q1998.12 193.238 1996.02 193.77 Q1993.91 194.303 1991.97 195.367 L1991.97 191.432 Q1994.3 190.53 1996.5 190.09 Q1998.7 189.627 2000.79 189.627 Q2006.41 189.627 2009.19 192.543 Q2011.97 195.46 2011.97 201.386 Z\" fill=\"#000000\" fill-rule=\"evenodd\" fill-opacity=\"1\" /><path clip-path=\"url(#clip610)\" d=\"M2020.74 190.252 L2025 190.252 L2025 216.178 L2020.74 216.178 L2020.74 190.252 M2020.74 180.159 L2025 180.159 L2025 185.553 L2020.74 185.553 L2020.74 180.159 Z\" fill=\"#000000\" fill-rule=\"evenodd\" fill-opacity=\"1\" /><path clip-path=\"url(#clip610)\" d=\"M2038.12 182.891 L2038.12 190.252 L2046.9 190.252 L2046.9 193.562 L2038.12 193.562 L2038.12 207.636 Q2038.12 210.807 2038.98 211.71 Q2039.86 212.613 2042.52 212.613 L2046.9 212.613 L2046.9 216.178 L2042.52 216.178 Q2037.59 216.178 2035.72 214.349 Q2033.84 212.497 2033.84 207.636 L2033.84 193.562 L2030.72 193.562 L2030.72 190.252 L2033.84 190.252 L2033.84 182.891 L2038.12 182.891 Z\" fill=\"#000000\" fill-rule=\"evenodd\" fill-opacity=\"1\" /><path clip-path=\"url(#clip610)\" d=\"M2069.03 191.016 L2069.03 195.043 Q2067.22 194.117 2065.28 193.655 Q2063.33 193.192 2061.25 193.192 Q2058.08 193.192 2056.48 194.164 Q2054.91 195.136 2054.91 197.08 Q2054.91 198.562 2056.04 199.418 Q2057.17 200.252 2060.6 201.016 L2062.06 201.34 Q2066.6 202.312 2068.49 204.094 Q2070.41 205.854 2070.41 209.025 Q2070.41 212.636 2067.54 214.742 Q2064.7 216.849 2059.7 216.849 Q2057.61 216.849 2055.35 216.432 Q2053.1 216.039 2050.6 215.228 L2050.6 210.83 Q2052.96 212.057 2055.25 212.682 Q2057.54 213.284 2059.79 213.284 Q2062.8 213.284 2064.42 212.266 Q2066.04 211.224 2066.04 209.349 Q2066.04 207.613 2064.86 206.687 Q2063.7 205.761 2059.74 204.904 L2058.26 204.557 Q2054.3 203.724 2052.54 202.011 Q2050.79 200.275 2050.79 197.266 Q2050.79 193.608 2053.38 191.618 Q2055.97 189.627 2060.74 189.627 Q2063.1 189.627 2065.18 189.974 Q2067.27 190.321 2069.03 191.016 Z\" fill=\"#000000\" fill-rule=\"evenodd\" fill-opacity=\"1\" /><path clip-path=\"url(#clip610)\" d=\"M2092.82 194.65 L2122.5 194.65 L2122.5 198.539 L2092.82 198.539 L2092.82 194.65 M2092.82 204.094 L2122.5 204.094 L2122.5 208.029 L2092.82 208.029 L2092.82 204.094 Z\" fill=\"#000000\" fill-rule=\"evenodd\" fill-opacity=\"1\" /><path clip-path=\"url(#clip610)\" d=\"M2148.47 212.242 L2156.11 212.242 L2156.11 185.877 L2147.8 187.543 L2147.8 183.284 L2156.06 181.618 L2160.74 181.618 L2160.74 212.242 L2168.38 212.242 L2168.38 216.178 L2148.47 216.178 L2148.47 212.242 Z\" fill=\"#000000\" fill-rule=\"evenodd\" fill-opacity=\"1\" /><path clip-path=\"url(#clip610)\" d=\"M2187.82 184.696 Q2184.21 184.696 2182.38 188.261 Q2180.58 191.803 2180.58 198.932 Q2180.58 206.039 2182.38 209.604 Q2184.21 213.145 2187.82 213.145 Q2191.46 213.145 2193.26 209.604 Q2195.09 206.039 2195.09 198.932 Q2195.09 191.803 2193.26 188.261 Q2191.46 184.696 2187.82 184.696 M2187.82 180.993 Q2193.63 180.993 2196.69 185.599 Q2199.77 190.182 2199.77 198.932 Q2199.77 207.659 2196.69 212.266 Q2193.63 216.849 2187.82 216.849 Q2182.01 216.849 2178.93 212.266 Q2175.88 207.659 2175.88 198.932 Q2175.88 190.182 2178.93 185.599 Q2182.01 180.993 2187.82 180.993 Z\" fill=\"#000000\" fill-rule=\"evenodd\" fill-opacity=\"1\" /><polyline clip-path=\"url(#clip610)\" style=\"stroke:#3da44d; stroke-linecap:butt; stroke-linejoin:round; stroke-width:4; stroke-opacity:1; fill:none\" points=\"\n",
       "  1751.44,250.738 1898.84,250.738 \n",
       "  \"/>\n",
       "<path clip-path=\"url(#clip610)\" d=\"M1945.11 252.369 L1945.11 268.018 L1940.86 268.018 L1940.86 252.508 Q1940.86 248.828 1939.42 246.999 Q1937.99 245.17 1935.11 245.17 Q1931.67 245.17 1929.67 247.37 Q1927.68 249.569 1927.68 253.365 L1927.68 268.018 L1923.4 268.018 L1923.4 242.092 L1927.68 242.092 L1927.68 246.12 Q1929.21 243.782 1931.27 242.624 Q1933.36 241.467 1936.06 241.467 Q1940.53 241.467 1942.82 244.245 Q1945.11 246.999 1945.11 252.369 Z\" fill=\"#000000\" fill-rule=\"evenodd\" fill-opacity=\"1\" /><path clip-path=\"url(#clip610)\" d=\"M1957.82 234.731 L1957.82 242.092 L1966.6 242.092 L1966.6 245.402 L1957.82 245.402 L1957.82 259.476 Q1957.82 262.647 1958.68 263.55 Q1959.56 264.453 1962.22 264.453 L1966.6 264.453 L1966.6 268.018 L1962.22 268.018 Q1957.29 268.018 1955.42 266.189 Q1953.54 264.337 1953.54 259.476 L1953.54 245.402 L1950.42 245.402 L1950.42 242.092 L1953.54 242.092 L1953.54 234.731 L1957.82 234.731 Z\" fill=\"#000000\" fill-rule=\"evenodd\" fill-opacity=\"1\" /><path clip-path=\"url(#clip610)\" d=\"M1987.22 246.073 Q1986.5 245.657 1985.65 245.471 Q1984.81 245.263 1983.8 245.263 Q1980.18 245.263 1978.24 247.624 Q1976.32 249.962 1976.32 254.36 L1976.32 268.018 L1972.04 268.018 L1972.04 242.092 L1976.32 242.092 L1976.32 246.12 Q1977.66 243.758 1979.81 242.624 Q1981.97 241.467 1985.05 241.467 Q1985.48 241.467 1986.02 241.536 Q1986.55 241.583 1987.2 241.698 L1987.22 246.073 Z\" fill=\"#000000\" fill-rule=\"evenodd\" fill-opacity=\"1\" /><path clip-path=\"url(#clip610)\" d=\"M2003.47 254.985 Q1998.31 254.985 1996.32 256.166 Q1994.33 257.346 1994.33 260.194 Q1994.33 262.462 1995.81 263.805 Q1997.31 265.124 1999.88 265.124 Q2003.42 265.124 2005.55 262.624 Q2007.71 260.101 2007.71 255.934 L2007.71 254.985 L2003.47 254.985 M2011.97 253.226 L2011.97 268.018 L2007.71 268.018 L2007.71 264.082 Q2006.25 266.443 2004.07 267.578 Q2001.9 268.689 1998.75 268.689 Q1994.77 268.689 1992.41 266.467 Q1990.07 264.221 1990.07 260.471 Q1990.07 256.096 1992.98 253.874 Q1995.92 251.652 2001.73 251.652 L2007.71 251.652 L2007.71 251.235 Q2007.71 248.295 2005.76 246.698 Q2003.84 245.078 2000.35 245.078 Q1998.12 245.078 1996.02 245.61 Q1993.91 246.143 1991.97 247.207 L1991.97 243.272 Q1994.3 242.37 1996.5 241.93 Q1998.7 241.467 2000.79 241.467 Q2006.41 241.467 2009.19 244.383 Q2011.97 247.3 2011.97 253.226 Z\" fill=\"#000000\" fill-rule=\"evenodd\" fill-opacity=\"1\" /><path clip-path=\"url(#clip610)\" d=\"M2020.74 242.092 L2025 242.092 L2025 268.018 L2020.74 268.018 L2020.74 242.092 M2020.74 231.999 L2025 231.999 L2025 237.393 L2020.74 237.393 L2020.74 231.999 Z\" fill=\"#000000\" fill-rule=\"evenodd\" fill-opacity=\"1\" /><path clip-path=\"url(#clip610)\" d=\"M2038.12 234.731 L2038.12 242.092 L2046.9 242.092 L2046.9 245.402 L2038.12 245.402 L2038.12 259.476 Q2038.12 262.647 2038.98 263.55 Q2039.86 264.453 2042.52 264.453 L2046.9 264.453 L2046.9 268.018 L2042.52 268.018 Q2037.59 268.018 2035.72 266.189 Q2033.84 264.337 2033.84 259.476 L2033.84 245.402 L2030.72 245.402 L2030.72 242.092 L2033.84 242.092 L2033.84 234.731 L2038.12 234.731 Z\" fill=\"#000000\" fill-rule=\"evenodd\" fill-opacity=\"1\" /><path clip-path=\"url(#clip610)\" d=\"M2069.03 242.856 L2069.03 246.883 Q2067.22 245.957 2065.28 245.495 Q2063.33 245.032 2061.25 245.032 Q2058.08 245.032 2056.48 246.004 Q2054.91 246.976 2054.91 248.92 Q2054.91 250.402 2056.04 251.258 Q2057.17 252.092 2060.6 252.856 L2062.06 253.18 Q2066.6 254.152 2068.49 255.934 Q2070.41 257.694 2070.41 260.865 Q2070.41 264.476 2067.54 266.582 Q2064.7 268.689 2059.7 268.689 Q2057.61 268.689 2055.35 268.272 Q2053.1 267.879 2050.6 267.068 L2050.6 262.67 Q2052.96 263.897 2055.25 264.522 Q2057.54 265.124 2059.79 265.124 Q2062.8 265.124 2064.42 264.106 Q2066.04 263.064 2066.04 261.189 Q2066.04 259.453 2064.86 258.527 Q2063.7 257.601 2059.74 256.744 L2058.26 256.397 Q2054.3 255.564 2052.54 253.851 Q2050.79 252.115 2050.79 249.106 Q2050.79 245.448 2053.38 243.458 Q2055.97 241.467 2060.74 241.467 Q2063.1 241.467 2065.18 241.814 Q2067.27 242.161 2069.03 242.856 Z\" fill=\"#000000\" fill-rule=\"evenodd\" fill-opacity=\"1\" /><path clip-path=\"url(#clip610)\" d=\"M2092.82 246.49 L2122.5 246.49 L2122.5 250.379 L2092.82 250.379 L2092.82 246.49 M2092.82 255.934 L2122.5 255.934 L2122.5 259.869 L2092.82 259.869 L2092.82 255.934 Z\" fill=\"#000000\" fill-rule=\"evenodd\" fill-opacity=\"1\" /><path clip-path=\"url(#clip610)\" d=\"M2151.69 264.082 L2168.01 264.082 L2168.01 268.018 L2146.06 268.018 L2146.06 264.082 Q2148.72 261.328 2153.31 256.698 Q2157.91 252.045 2159.1 250.703 Q2161.34 248.18 2162.22 246.444 Q2163.12 244.684 2163.12 242.995 Q2163.12 240.24 2161.18 238.504 Q2159.26 236.768 2156.16 236.768 Q2153.96 236.768 2151.5 237.532 Q2149.07 238.295 2146.29 239.846 L2146.29 235.124 Q2149.12 233.99 2151.57 233.411 Q2154.03 232.833 2156.06 232.833 Q2161.43 232.833 2164.63 235.518 Q2167.82 238.203 2167.82 242.694 Q2167.82 244.823 2167.01 246.745 Q2166.22 248.643 2164.12 251.235 Q2163.54 251.907 2160.44 255.124 Q2157.34 258.319 2151.69 264.082 Z\" fill=\"#000000\" fill-rule=\"evenodd\" fill-opacity=\"1\" /><path clip-path=\"url(#clip610)\" d=\"M2187.82 236.536 Q2184.21 236.536 2182.38 240.101 Q2180.58 243.643 2180.58 250.772 Q2180.58 257.879 2182.38 261.444 Q2184.21 264.985 2187.82 264.985 Q2191.46 264.985 2193.26 261.444 Q2195.09 257.879 2195.09 250.772 Q2195.09 243.643 2193.26 240.101 Q2191.46 236.536 2187.82 236.536 M2187.82 232.833 Q2193.63 232.833 2196.69 237.439 Q2199.77 242.022 2199.77 250.772 Q2199.77 259.499 2196.69 264.106 Q2193.63 268.689 2187.82 268.689 Q2182.01 268.689 2178.93 264.106 Q2175.88 259.499 2175.88 250.772 Q2175.88 242.022 2178.93 237.439 Q2182.01 232.833 2187.82 232.833 Z\" fill=\"#000000\" fill-rule=\"evenodd\" fill-opacity=\"1\" /><polyline clip-path=\"url(#clip610)\" style=\"stroke:#c271d2; stroke-linecap:butt; stroke-linejoin:round; stroke-width:4; stroke-opacity:1; fill:none\" points=\"\n",
       "  1751.44,302.578 1898.84,302.578 \n",
       "  \"/>\n",
       "<path clip-path=\"url(#clip610)\" d=\"M1945.11 304.209 L1945.11 319.858 L1940.86 319.858 L1940.86 304.348 Q1940.86 300.668 1939.42 298.839 Q1937.99 297.01 1935.11 297.01 Q1931.67 297.01 1929.67 299.21 Q1927.68 301.409 1927.68 305.205 L1927.68 319.858 L1923.4 319.858 L1923.4 293.932 L1927.68 293.932 L1927.68 297.96 Q1929.21 295.622 1931.27 294.464 Q1933.36 293.307 1936.06 293.307 Q1940.53 293.307 1942.82 296.085 Q1945.11 298.839 1945.11 304.209 Z\" fill=\"#000000\" fill-rule=\"evenodd\" fill-opacity=\"1\" /><path clip-path=\"url(#clip610)\" d=\"M1957.82 286.571 L1957.82 293.932 L1966.6 293.932 L1966.6 297.242 L1957.82 297.242 L1957.82 311.316 Q1957.82 314.487 1958.68 315.39 Q1959.56 316.293 1962.22 316.293 L1966.6 316.293 L1966.6 319.858 L1962.22 319.858 Q1957.29 319.858 1955.42 318.029 Q1953.54 316.177 1953.54 311.316 L1953.54 297.242 L1950.42 297.242 L1950.42 293.932 L1953.54 293.932 L1953.54 286.571 L1957.82 286.571 Z\" fill=\"#000000\" fill-rule=\"evenodd\" fill-opacity=\"1\" /><path clip-path=\"url(#clip610)\" d=\"M1987.22 297.913 Q1986.5 297.497 1985.65 297.311 Q1984.81 297.103 1983.8 297.103 Q1980.18 297.103 1978.24 299.464 Q1976.32 301.802 1976.32 306.2 L1976.32 319.858 L1972.04 319.858 L1972.04 293.932 L1976.32 293.932 L1976.32 297.96 Q1977.66 295.598 1979.81 294.464 Q1981.97 293.307 1985.05 293.307 Q1985.48 293.307 1986.02 293.376 Q1986.55 293.423 1987.2 293.538 L1987.22 297.913 Z\" fill=\"#000000\" fill-rule=\"evenodd\" fill-opacity=\"1\" /><path clip-path=\"url(#clip610)\" d=\"M2003.47 306.825 Q1998.31 306.825 1996.32 308.006 Q1994.33 309.186 1994.33 312.034 Q1994.33 314.302 1995.81 315.645 Q1997.31 316.964 1999.88 316.964 Q2003.42 316.964 2005.55 314.464 Q2007.71 311.941 2007.71 307.774 L2007.71 306.825 L2003.47 306.825 M2011.97 305.066 L2011.97 319.858 L2007.71 319.858 L2007.71 315.922 Q2006.25 318.283 2004.07 319.418 Q2001.9 320.529 1998.75 320.529 Q1994.77 320.529 1992.41 318.307 Q1990.07 316.061 1990.07 312.311 Q1990.07 307.936 1992.98 305.714 Q1995.92 303.492 2001.73 303.492 L2007.71 303.492 L2007.71 303.075 Q2007.71 300.135 2005.76 298.538 Q2003.84 296.918 2000.35 296.918 Q1998.12 296.918 1996.02 297.45 Q1993.91 297.983 1991.97 299.047 L1991.97 295.112 Q1994.3 294.21 1996.5 293.77 Q1998.7 293.307 2000.79 293.307 Q2006.41 293.307 2009.19 296.223 Q2011.97 299.14 2011.97 305.066 Z\" fill=\"#000000\" fill-rule=\"evenodd\" fill-opacity=\"1\" /><path clip-path=\"url(#clip610)\" d=\"M2020.74 293.932 L2025 293.932 L2025 319.858 L2020.74 319.858 L2020.74 293.932 M2020.74 283.839 L2025 283.839 L2025 289.233 L2020.74 289.233 L2020.74 283.839 Z\" fill=\"#000000\" fill-rule=\"evenodd\" fill-opacity=\"1\" /><path clip-path=\"url(#clip610)\" d=\"M2038.12 286.571 L2038.12 293.932 L2046.9 293.932 L2046.9 297.242 L2038.12 297.242 L2038.12 311.316 Q2038.12 314.487 2038.98 315.39 Q2039.86 316.293 2042.52 316.293 L2046.9 316.293 L2046.9 319.858 L2042.52 319.858 Q2037.59 319.858 2035.72 318.029 Q2033.84 316.177 2033.84 311.316 L2033.84 297.242 L2030.72 297.242 L2030.72 293.932 L2033.84 293.932 L2033.84 286.571 L2038.12 286.571 Z\" fill=\"#000000\" fill-rule=\"evenodd\" fill-opacity=\"1\" /><path clip-path=\"url(#clip610)\" d=\"M2069.03 294.696 L2069.03 298.723 Q2067.22 297.797 2065.28 297.335 Q2063.33 296.872 2061.25 296.872 Q2058.08 296.872 2056.48 297.844 Q2054.91 298.816 2054.91 300.76 Q2054.91 302.242 2056.04 303.098 Q2057.17 303.932 2060.6 304.696 L2062.06 305.02 Q2066.6 305.992 2068.49 307.774 Q2070.41 309.534 2070.41 312.705 Q2070.41 316.316 2067.54 318.422 Q2064.7 320.529 2059.7 320.529 Q2057.61 320.529 2055.35 320.112 Q2053.1 319.719 2050.6 318.908 L2050.6 314.51 Q2052.96 315.737 2055.25 316.362 Q2057.54 316.964 2059.79 316.964 Q2062.8 316.964 2064.42 315.946 Q2066.04 314.904 2066.04 313.029 Q2066.04 311.293 2064.86 310.367 Q2063.7 309.441 2059.74 308.584 L2058.26 308.237 Q2054.3 307.404 2052.54 305.691 Q2050.79 303.955 2050.79 300.946 Q2050.79 297.288 2053.38 295.298 Q2055.97 293.307 2060.74 293.307 Q2063.1 293.307 2065.18 293.654 Q2067.27 294.001 2069.03 294.696 Z\" fill=\"#000000\" fill-rule=\"evenodd\" fill-opacity=\"1\" /><path clip-path=\"url(#clip610)\" d=\"M2092.82 298.33 L2122.5 298.33 L2122.5 302.219 L2092.82 302.219 L2092.82 298.33 M2092.82 307.774 L2122.5 307.774 L2122.5 311.709 L2092.82 311.709 L2092.82 307.774 Z\" fill=\"#000000\" fill-rule=\"evenodd\" fill-opacity=\"1\" /><path clip-path=\"url(#clip610)\" d=\"M2161.83 301.223 Q2165.18 301.941 2167.06 304.209 Q2168.96 306.478 2168.96 309.811 Q2168.96 314.927 2165.44 317.728 Q2161.92 320.529 2155.44 320.529 Q2153.26 320.529 2150.95 320.089 Q2148.66 319.672 2146.2 318.816 L2146.2 314.302 Q2148.15 315.436 2150.46 316.015 Q2152.78 316.594 2155.3 316.594 Q2159.7 316.594 2161.99 314.858 Q2164.3 313.121 2164.3 309.811 Q2164.3 306.756 2162.15 305.043 Q2160.02 303.307 2156.2 303.307 L2152.17 303.307 L2152.17 299.464 L2156.39 299.464 Q2159.84 299.464 2161.66 298.098 Q2163.49 296.71 2163.49 294.117 Q2163.49 291.455 2161.59 290.043 Q2159.72 288.608 2156.2 288.608 Q2154.28 288.608 2152.08 289.024 Q2149.88 289.441 2147.24 290.321 L2147.24 286.154 Q2149.91 285.413 2152.22 285.043 Q2154.56 284.673 2156.62 284.673 Q2161.94 284.673 2165.04 287.103 Q2168.15 289.51 2168.15 293.631 Q2168.15 296.501 2166.5 298.492 Q2164.86 300.46 2161.83 301.223 Z\" fill=\"#000000\" fill-rule=\"evenodd\" fill-opacity=\"1\" /><path clip-path=\"url(#clip610)\" d=\"M2187.82 288.376 Q2184.21 288.376 2182.38 291.941 Q2180.58 295.483 2180.58 302.612 Q2180.58 309.719 2182.38 313.284 Q2184.21 316.825 2187.82 316.825 Q2191.46 316.825 2193.26 313.284 Q2195.09 309.719 2195.09 302.612 Q2195.09 295.483 2193.26 291.941 Q2191.46 288.376 2187.82 288.376 M2187.82 284.673 Q2193.63 284.673 2196.69 289.279 Q2199.77 293.862 2199.77 302.612 Q2199.77 311.339 2196.69 315.946 Q2193.63 320.529 2187.82 320.529 Q2182.01 320.529 2178.93 315.946 Q2175.88 311.339 2175.88 302.612 Q2175.88 293.862 2178.93 289.279 Q2182.01 284.673 2187.82 284.673 Z\" fill=\"#000000\" fill-rule=\"evenodd\" fill-opacity=\"1\" /><polyline clip-path=\"url(#clip610)\" style=\"stroke:#ac8d18; stroke-linecap:butt; stroke-linejoin:round; stroke-width:4; stroke-opacity:1; fill:none\" points=\"\n",
       "  1751.44,354.418 1898.84,354.418 \n",
       "  \"/>\n",
       "<path clip-path=\"url(#clip610)\" d=\"M1945.11 356.049 L1945.11 371.698 L1940.86 371.698 L1940.86 356.188 Q1940.86 352.508 1939.42 350.679 Q1937.99 348.85 1935.11 348.85 Q1931.67 348.85 1929.67 351.05 Q1927.68 353.249 1927.68 357.045 L1927.68 371.698 L1923.4 371.698 L1923.4 345.772 L1927.68 345.772 L1927.68 349.8 Q1929.21 347.462 1931.27 346.304 Q1933.36 345.147 1936.06 345.147 Q1940.53 345.147 1942.82 347.925 Q1945.11 350.679 1945.11 356.049 Z\" fill=\"#000000\" fill-rule=\"evenodd\" fill-opacity=\"1\" /><path clip-path=\"url(#clip610)\" d=\"M1957.82 338.411 L1957.82 345.772 L1966.6 345.772 L1966.6 349.082 L1957.82 349.082 L1957.82 363.156 Q1957.82 366.327 1958.68 367.23 Q1959.56 368.133 1962.22 368.133 L1966.6 368.133 L1966.6 371.698 L1962.22 371.698 Q1957.29 371.698 1955.42 369.869 Q1953.54 368.017 1953.54 363.156 L1953.54 349.082 L1950.42 349.082 L1950.42 345.772 L1953.54 345.772 L1953.54 338.411 L1957.82 338.411 Z\" fill=\"#000000\" fill-rule=\"evenodd\" fill-opacity=\"1\" /><path clip-path=\"url(#clip610)\" d=\"M1987.22 349.753 Q1986.5 349.337 1985.65 349.151 Q1984.81 348.943 1983.8 348.943 Q1980.18 348.943 1978.24 351.304 Q1976.32 353.642 1976.32 358.04 L1976.32 371.698 L1972.04 371.698 L1972.04 345.772 L1976.32 345.772 L1976.32 349.8 Q1977.66 347.438 1979.81 346.304 Q1981.97 345.147 1985.05 345.147 Q1985.48 345.147 1986.02 345.216 Q1986.55 345.263 1987.2 345.378 L1987.22 349.753 Z\" fill=\"#000000\" fill-rule=\"evenodd\" fill-opacity=\"1\" /><path clip-path=\"url(#clip610)\" d=\"M2003.47 358.665 Q1998.31 358.665 1996.32 359.846 Q1994.33 361.026 1994.33 363.874 Q1994.33 366.142 1995.81 367.485 Q1997.31 368.804 1999.88 368.804 Q2003.42 368.804 2005.55 366.304 Q2007.71 363.781 2007.71 359.614 L2007.71 358.665 L2003.47 358.665 M2011.97 356.906 L2011.97 371.698 L2007.71 371.698 L2007.71 367.762 Q2006.25 370.123 2004.07 371.258 Q2001.9 372.369 1998.75 372.369 Q1994.77 372.369 1992.41 370.147 Q1990.07 367.901 1990.07 364.151 Q1990.07 359.776 1992.98 357.554 Q1995.92 355.332 2001.73 355.332 L2007.71 355.332 L2007.71 354.915 Q2007.71 351.975 2005.76 350.378 Q2003.84 348.758 2000.35 348.758 Q1998.12 348.758 1996.02 349.29 Q1993.91 349.823 1991.97 350.887 L1991.97 346.952 Q1994.3 346.05 1996.5 345.61 Q1998.7 345.147 2000.79 345.147 Q2006.41 345.147 2009.19 348.063 Q2011.97 350.98 2011.97 356.906 Z\" fill=\"#000000\" fill-rule=\"evenodd\" fill-opacity=\"1\" /><path clip-path=\"url(#clip610)\" d=\"M2020.74 345.772 L2025 345.772 L2025 371.698 L2020.74 371.698 L2020.74 345.772 M2020.74 335.679 L2025 335.679 L2025 341.073 L2020.74 341.073 L2020.74 335.679 Z\" fill=\"#000000\" fill-rule=\"evenodd\" fill-opacity=\"1\" /><path clip-path=\"url(#clip610)\" d=\"M2038.12 338.411 L2038.12 345.772 L2046.9 345.772 L2046.9 349.082 L2038.12 349.082 L2038.12 363.156 Q2038.12 366.327 2038.98 367.23 Q2039.86 368.133 2042.52 368.133 L2046.9 368.133 L2046.9 371.698 L2042.52 371.698 Q2037.59 371.698 2035.72 369.869 Q2033.84 368.017 2033.84 363.156 L2033.84 349.082 L2030.72 349.082 L2030.72 345.772 L2033.84 345.772 L2033.84 338.411 L2038.12 338.411 Z\" fill=\"#000000\" fill-rule=\"evenodd\" fill-opacity=\"1\" /><path clip-path=\"url(#clip610)\" d=\"M2069.03 346.536 L2069.03 350.563 Q2067.22 349.637 2065.28 349.175 Q2063.33 348.712 2061.25 348.712 Q2058.08 348.712 2056.48 349.684 Q2054.91 350.656 2054.91 352.6 Q2054.91 354.082 2056.04 354.938 Q2057.17 355.772 2060.6 356.536 L2062.06 356.86 Q2066.6 357.832 2068.49 359.614 Q2070.41 361.374 2070.41 364.545 Q2070.41 368.156 2067.54 370.262 Q2064.7 372.369 2059.7 372.369 Q2057.61 372.369 2055.35 371.952 Q2053.1 371.559 2050.6 370.748 L2050.6 366.35 Q2052.96 367.577 2055.25 368.202 Q2057.54 368.804 2059.79 368.804 Q2062.8 368.804 2064.42 367.786 Q2066.04 366.744 2066.04 364.869 Q2066.04 363.133 2064.86 362.207 Q2063.7 361.281 2059.74 360.424 L2058.26 360.077 Q2054.3 359.244 2052.54 357.531 Q2050.79 355.795 2050.79 352.786 Q2050.79 349.128 2053.38 347.138 Q2055.97 345.147 2060.74 345.147 Q2063.1 345.147 2065.18 345.494 Q2067.27 345.841 2069.03 346.536 Z\" fill=\"#000000\" fill-rule=\"evenodd\" fill-opacity=\"1\" /><path clip-path=\"url(#clip610)\" d=\"M2092.82 350.17 L2122.5 350.17 L2122.5 354.059 L2092.82 354.059 L2092.82 350.17 M2092.82 359.614 L2122.5 359.614 L2122.5 363.549 L2092.82 363.549 L2092.82 359.614 Z\" fill=\"#000000\" fill-rule=\"evenodd\" fill-opacity=\"1\" /><path clip-path=\"url(#clip610)\" d=\"M2157.66 355.286 Q2154.33 355.286 2152.41 357.068 Q2150.51 358.85 2150.51 361.975 Q2150.51 365.1 2152.41 366.883 Q2154.33 368.665 2157.66 368.665 Q2160.99 368.665 2162.91 366.883 Q2164.84 365.077 2164.84 361.975 Q2164.84 358.85 2162.91 357.068 Q2161.02 355.286 2157.66 355.286 M2152.98 353.295 Q2149.97 352.554 2148.28 350.494 Q2146.62 348.434 2146.62 345.471 Q2146.62 341.327 2149.56 338.92 Q2152.52 336.513 2157.66 336.513 Q2162.82 336.513 2165.76 338.92 Q2168.7 341.327 2168.7 345.471 Q2168.7 348.434 2167.01 350.494 Q2165.34 352.554 2162.36 353.295 Q2165.74 354.082 2167.61 356.374 Q2169.51 358.665 2169.51 361.975 Q2169.51 366.999 2166.43 369.684 Q2163.38 372.369 2157.66 372.369 Q2151.94 372.369 2148.86 369.684 Q2145.81 366.999 2145.81 361.975 Q2145.81 358.665 2147.71 356.374 Q2149.6 354.082 2152.98 353.295 M2151.27 345.911 Q2151.27 348.596 2152.94 350.1 Q2154.63 351.605 2157.66 351.605 Q2160.67 351.605 2162.36 350.1 Q2164.07 348.596 2164.07 345.911 Q2164.07 343.225 2162.36 341.721 Q2160.67 340.216 2157.66 340.216 Q2154.63 340.216 2152.94 341.721 Q2151.27 343.225 2151.27 345.911 Z\" fill=\"#000000\" fill-rule=\"evenodd\" fill-opacity=\"1\" /><path clip-path=\"url(#clip610)\" d=\"M2187.82 340.216 Q2184.21 340.216 2182.38 343.781 Q2180.58 347.323 2180.58 354.452 Q2180.58 361.559 2182.38 365.124 Q2184.21 368.665 2187.82 368.665 Q2191.46 368.665 2193.26 365.124 Q2195.09 361.559 2195.09 354.452 Q2195.09 347.323 2193.26 343.781 Q2191.46 340.216 2187.82 340.216 M2187.82 336.513 Q2193.63 336.513 2196.69 341.119 Q2199.77 345.702 2199.77 354.452 Q2199.77 363.179 2196.69 367.786 Q2193.63 372.369 2187.82 372.369 Q2182.01 372.369 2178.93 367.786 Q2175.88 363.179 2175.88 354.452 Q2175.88 345.702 2178.93 341.119 Q2182.01 336.513 2187.82 336.513 Z\" fill=\"#000000\" fill-rule=\"evenodd\" fill-opacity=\"1\" /><polyline clip-path=\"url(#clip610)\" style=\"stroke:#00a9ad; stroke-linecap:butt; stroke-linejoin:round; stroke-width:4; stroke-opacity:1; fill:none\" points=\"\n",
       "  1751.44,406.258 1898.84,406.258 \n",
       "  \"/>\n",
       "<path clip-path=\"url(#clip610)\" d=\"M1945.11 407.889 L1945.11 423.538 L1940.86 423.538 L1940.86 408.028 Q1940.86 404.348 1939.42 402.519 Q1937.99 400.69 1935.11 400.69 Q1931.67 400.69 1929.67 402.89 Q1927.68 405.089 1927.68 408.885 L1927.68 423.538 L1923.4 423.538 L1923.4 397.612 L1927.68 397.612 L1927.68 401.64 Q1929.21 399.302 1931.27 398.144 Q1933.36 396.987 1936.06 396.987 Q1940.53 396.987 1942.82 399.765 Q1945.11 402.519 1945.11 407.889 Z\" fill=\"#000000\" fill-rule=\"evenodd\" fill-opacity=\"1\" /><path clip-path=\"url(#clip610)\" d=\"M1957.82 390.251 L1957.82 397.612 L1966.6 397.612 L1966.6 400.922 L1957.82 400.922 L1957.82 414.996 Q1957.82 418.167 1958.68 419.07 Q1959.56 419.973 1962.22 419.973 L1966.6 419.973 L1966.6 423.538 L1962.22 423.538 Q1957.29 423.538 1955.42 421.709 Q1953.54 419.857 1953.54 414.996 L1953.54 400.922 L1950.42 400.922 L1950.42 397.612 L1953.54 397.612 L1953.54 390.251 L1957.82 390.251 Z\" fill=\"#000000\" fill-rule=\"evenodd\" fill-opacity=\"1\" /><path clip-path=\"url(#clip610)\" d=\"M1987.22 401.593 Q1986.5 401.177 1985.65 400.991 Q1984.81 400.783 1983.8 400.783 Q1980.18 400.783 1978.24 403.144 Q1976.32 405.482 1976.32 409.88 L1976.32 423.538 L1972.04 423.538 L1972.04 397.612 L1976.32 397.612 L1976.32 401.64 Q1977.66 399.278 1979.81 398.144 Q1981.97 396.987 1985.05 396.987 Q1985.48 396.987 1986.02 397.056 Q1986.55 397.103 1987.2 397.218 L1987.22 401.593 Z\" fill=\"#000000\" fill-rule=\"evenodd\" fill-opacity=\"1\" /><path clip-path=\"url(#clip610)\" d=\"M2003.47 410.505 Q1998.31 410.505 1996.32 411.686 Q1994.33 412.866 1994.33 415.714 Q1994.33 417.982 1995.81 419.325 Q1997.31 420.644 1999.88 420.644 Q2003.42 420.644 2005.55 418.144 Q2007.71 415.621 2007.71 411.454 L2007.71 410.505 L2003.47 410.505 M2011.97 408.746 L2011.97 423.538 L2007.71 423.538 L2007.71 419.602 Q2006.25 421.963 2004.07 423.098 Q2001.9 424.209 1998.75 424.209 Q1994.77 424.209 1992.41 421.987 Q1990.07 419.741 1990.07 415.991 Q1990.07 411.616 1992.98 409.394 Q1995.92 407.172 2001.73 407.172 L2007.71 407.172 L2007.71 406.755 Q2007.71 403.815 2005.76 402.218 Q2003.84 400.598 2000.35 400.598 Q1998.12 400.598 1996.02 401.13 Q1993.91 401.663 1991.97 402.727 L1991.97 398.792 Q1994.3 397.89 1996.5 397.45 Q1998.7 396.987 2000.79 396.987 Q2006.41 396.987 2009.19 399.903 Q2011.97 402.82 2011.97 408.746 Z\" fill=\"#000000\" fill-rule=\"evenodd\" fill-opacity=\"1\" /><path clip-path=\"url(#clip610)\" d=\"M2020.74 397.612 L2025 397.612 L2025 423.538 L2020.74 423.538 L2020.74 397.612 M2020.74 387.519 L2025 387.519 L2025 392.913 L2020.74 392.913 L2020.74 387.519 Z\" fill=\"#000000\" fill-rule=\"evenodd\" fill-opacity=\"1\" /><path clip-path=\"url(#clip610)\" d=\"M2038.12 390.251 L2038.12 397.612 L2046.9 397.612 L2046.9 400.922 L2038.12 400.922 L2038.12 414.996 Q2038.12 418.167 2038.98 419.07 Q2039.86 419.973 2042.52 419.973 L2046.9 419.973 L2046.9 423.538 L2042.52 423.538 Q2037.59 423.538 2035.72 421.709 Q2033.84 419.857 2033.84 414.996 L2033.84 400.922 L2030.72 400.922 L2030.72 397.612 L2033.84 397.612 L2033.84 390.251 L2038.12 390.251 Z\" fill=\"#000000\" fill-rule=\"evenodd\" fill-opacity=\"1\" /><path clip-path=\"url(#clip610)\" d=\"M2069.03 398.376 L2069.03 402.403 Q2067.22 401.477 2065.28 401.015 Q2063.33 400.552 2061.25 400.552 Q2058.08 400.552 2056.48 401.524 Q2054.91 402.496 2054.91 404.44 Q2054.91 405.922 2056.04 406.778 Q2057.17 407.612 2060.6 408.376 L2062.06 408.7 Q2066.6 409.672 2068.49 411.454 Q2070.41 413.214 2070.41 416.385 Q2070.41 419.996 2067.54 422.102 Q2064.7 424.209 2059.7 424.209 Q2057.61 424.209 2055.35 423.792 Q2053.1 423.399 2050.6 422.588 L2050.6 418.19 Q2052.96 419.417 2055.25 420.042 Q2057.54 420.644 2059.79 420.644 Q2062.8 420.644 2064.42 419.626 Q2066.04 418.584 2066.04 416.709 Q2066.04 414.973 2064.86 414.047 Q2063.7 413.121 2059.74 412.264 L2058.26 411.917 Q2054.3 411.084 2052.54 409.371 Q2050.79 407.635 2050.79 404.626 Q2050.79 400.968 2053.38 398.978 Q2055.97 396.987 2060.74 396.987 Q2063.1 396.987 2065.18 397.334 Q2067.27 397.681 2069.03 398.376 Z\" fill=\"#000000\" fill-rule=\"evenodd\" fill-opacity=\"1\" /><path clip-path=\"url(#clip610)\" d=\"M2092.82 402.01 L2122.5 402.01 L2122.5 405.899 L2092.82 405.899 L2092.82 402.01 M2092.82 411.454 L2122.5 411.454 L2122.5 415.389 L2092.82 415.389 L2092.82 411.454 Z\" fill=\"#000000\" fill-rule=\"evenodd\" fill-opacity=\"1\" /><path clip-path=\"url(#clip610)\" d=\"M2148.47 419.602 L2156.11 419.602 L2156.11 393.237 L2147.8 394.903 L2147.8 390.644 L2156.06 388.978 L2160.74 388.978 L2160.74 419.602 L2168.38 419.602 L2168.38 423.538 L2148.47 423.538 L2148.47 419.602 Z\" fill=\"#000000\" fill-rule=\"evenodd\" fill-opacity=\"1\" /><path clip-path=\"url(#clip610)\" d=\"M2187.82 392.056 Q2184.21 392.056 2182.38 395.621 Q2180.58 399.163 2180.58 406.292 Q2180.58 413.399 2182.38 416.964 Q2184.21 420.505 2187.82 420.505 Q2191.46 420.505 2193.26 416.964 Q2195.09 413.399 2195.09 406.292 Q2195.09 399.163 2193.26 395.621 Q2191.46 392.056 2187.82 392.056 M2187.82 388.353 Q2193.63 388.353 2196.69 392.959 Q2199.77 397.542 2199.77 406.292 Q2199.77 415.019 2196.69 419.626 Q2193.63 424.209 2187.82 424.209 Q2182.01 424.209 2178.93 419.626 Q2175.88 415.019 2175.88 406.292 Q2175.88 397.542 2178.93 392.959 Q2182.01 388.353 2187.82 388.353 Z\" fill=\"#000000\" fill-rule=\"evenodd\" fill-opacity=\"1\" /><path clip-path=\"url(#clip610)\" d=\"M2217.98 392.056 Q2214.37 392.056 2212.54 395.621 Q2210.74 399.163 2210.74 406.292 Q2210.74 413.399 2212.54 416.964 Q2214.37 420.505 2217.98 420.505 Q2221.62 420.505 2223.42 416.964 Q2225.25 413.399 2225.25 406.292 Q2225.25 399.163 2223.42 395.621 Q2221.62 392.056 2217.98 392.056 M2217.98 388.353 Q2223.79 388.353 2226.85 392.959 Q2229.93 397.542 2229.93 406.292 Q2229.93 415.019 2226.85 419.626 Q2223.79 424.209 2217.98 424.209 Q2212.17 424.209 2209.09 419.626 Q2206.04 415.019 2206.04 406.292 Q2206.04 397.542 2209.09 392.959 Q2212.17 388.353 2217.98 388.353 Z\" fill=\"#000000\" fill-rule=\"evenodd\" fill-opacity=\"1\" /></svg>\n"
      ]
     },
     "execution_count": 22,
     "metadata": {},
     "output_type": "execute_result"
    }
   ],
   "source": [
    "labels = map(x -> string(\"ntraits = \", x), string.(ntraits_list))\n",
    "plot(nperms_list, permutedims(runtimes_list2), labels = permutedims(labels), lw = 1)"
   ]
  },
  {
   "cell_type": "code",
   "execution_count": 70,
   "id": "eecf31aa-0a9a-4ed1-8818-4392fa7ff0b3",
   "metadata": {},
   "outputs": [
    {
     "data": {
      "text/plain": [
       "BenchmarkTools.Trial: 1 sample with 1 evaluation.\n",
       " Single result which took \u001b[34m7.955 s\u001b[39m (15.69% GC) to evaluate,\n",
       " with a memory estimate of \u001b[33m13.63 GiB\u001b[39m, over \u001b[33m215712\u001b[39m allocations."
      ]
     },
     "execution_count": 70,
     "metadata": {},
     "output_type": "execute_result"
    }
   ],
   "source": [
    "@benchmark scan_perms(pheno_y, geno, kinship)"
   ]
  },
  {
   "cell_type": "code",
   "execution_count": 71,
   "id": "b52f2714-4034-4c83-829d-e5a58c0c815f",
   "metadata": {},
   "outputs": [
    {
     "data": {
      "text/plain": [
       "BenchmarkTools.Trial: 1 sample with 1 evaluation.\n",
       " Single result which took \u001b[34m7.369 s\u001b[39m (18.22% GC) to evaluate,\n",
       " with a memory estimate of \u001b[33m13.62 GiB\u001b[39m, over \u001b[33m117063\u001b[39m allocations."
      ]
     },
     "execution_count": 71,
     "metadata": {},
     "output_type": "execute_result"
    }
   ],
   "source": [
    "@benchmark scan_perms2(pheno_y, geno, kinship)"
   ]
  },
  {
   "cell_type": "code",
   "execution_count": 72,
   "id": "5a8c9462-a160-47d6-b4ae-ef8c178afa4c",
   "metadata": {},
   "outputs": [
    {
     "data": {
      "text/plain": [
       "BenchmarkTools.Trial: 1 sample with 1 evaluation.\n",
       " Single result which took \u001b[34m13.491 s\u001b[39m (13.59% GC) to evaluate,\n",
       " with a memory estimate of \u001b[33m20.52 GiB\u001b[39m, over \u001b[33m79258607\u001b[39m allocations."
      ]
     },
     "execution_count": 72,
     "metadata": {},
     "output_type": "execute_result"
    }
   ],
   "source": [
    "@benchmark scan_perms_toCompare(pheno_y, geno, kinship)"
   ]
  },
  {
   "cell_type": "code",
   "execution_count": 75,
   "id": "19bc724a-af2e-4650-a101-4503ecec123e",
   "metadata": {},
   "outputs": [
    {
     "data": {
      "text/plain": [
       "10-element Vector{Int64}:\n",
       "  1\n",
       "  2\n",
       "  3\n",
       "  4\n",
       "  5\n",
       "  6\n",
       "  7\n",
       "  8\n",
       "  9\n",
       " 10"
      ]
     },
     "execution_count": 75,
     "metadata": {},
     "output_type": "execute_result"
    }
   ],
   "source": [
    "seeds_list = collect(1:10)"
   ]
  },
  {
   "cell_type": "code",
   "execution_count": 78,
   "id": "bf0a5b2a-ff17-4fe5-8a6f-da0b832470b8",
   "metadata": {},
   "outputs": [],
   "source": [
    "(y_st_perms, X_st) = map(x -> permuteHelper(pheno_y, geno, kinship; nperms = 100, rndseed = x), seeds_list); # create 1024 copies of y_star"
   ]
  },
  {
   "cell_type": "code",
   "execution_count": 81,
   "id": "ac6dd316-4f8a-45e6-8835-b3c24139e2e0",
   "metadata": {},
   "outputs": [
    {
     "ename": "LoadError",
     "evalue": "MethodError: no method matching size(::Tuple{Matrix{Float64}, Matrix{Float64}})\n\u001b[0mClosest candidates are:\n\u001b[0m  size(::Tuple, \u001b[91m::Integer\u001b[39m) at tuple.jl:27\n\u001b[0m  size(\u001b[91m::Union{QR, LinearAlgebra.QRCompactWY, QRPivoted}\u001b[39m) at /Users/julia/buildbot/worker/package_macos64/build/usr/share/julia/stdlib/v1.6/LinearAlgebra/src/qr.jl:558\n\u001b[0m  size(\u001b[91m::Union{QR, LinearAlgebra.QRCompactWY, QRPivoted}\u001b[39m, \u001b[91m::Integer\u001b[39m) at /Users/julia/buildbot/worker/package_macos64/build/usr/share/julia/stdlib/v1.6/LinearAlgebra/src/qr.jl:557\n\u001b[0m  ...",
     "output_type": "error",
     "traceback": [
      "MethodError: no method matching size(::Tuple{Matrix{Float64}, Matrix{Float64}})\n\u001b[0mClosest candidates are:\n\u001b[0m  size(::Tuple, \u001b[91m::Integer\u001b[39m) at tuple.jl:27\n\u001b[0m  size(\u001b[91m::Union{QR, LinearAlgebra.QRCompactWY, QRPivoted}\u001b[39m) at /Users/julia/buildbot/worker/package_macos64/build/usr/share/julia/stdlib/v1.6/LinearAlgebra/src/qr.jl:558\n\u001b[0m  size(\u001b[91m::Union{QR, LinearAlgebra.QRCompactWY, QRPivoted}\u001b[39m, \u001b[91m::Integer\u001b[39m) at /Users/julia/buildbot/worker/package_macos64/build/usr/share/julia/stdlib/v1.6/LinearAlgebra/src/qr.jl:557\n\u001b[0m  ...",
      "",
      "Stacktrace:",
      " [1] top-level scope",
      "   @ In[81]:1",
      " [2] eval",
      "   @ ./boot.jl:360 [inlined]",
      " [3] include_string(mapexpr::typeof(REPL.softscope), mod::Module, code::String, filename::String)",
      "   @ Base ./loading.jl:1116"
     ]
    }
   ],
   "source": [
    "size(y_st_perms)"
   ]
  },
  {
   "cell_type": "code",
   "execution_count": null,
   "id": "cf2101ca-4f1d-4f86-b894-c89b4b6a733a",
   "metadata": {},
   "outputs": [],
   "source": []
  }
 ],
 "metadata": {
  "kernelspec": {
   "display_name": "Julia 1.6.2",
   "language": "julia",
   "name": "julia-1.6"
  },
  "language_info": {
   "file_extension": ".jl",
   "mimetype": "application/julia",
   "name": "julia",
   "version": "1.6.2"
  }
 },
 "nbformat": 4,
 "nbformat_minor": 5
}
