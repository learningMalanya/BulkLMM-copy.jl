{
 "cells": [
  {
   "cell_type": "markdown",
   "id": "04ecf9ac-87de-4942-ad19-c1b0746a6ca2",
   "metadata": {},
   "source": [
    "# Package Functionalities Demo:"
   ]
  },
  {
   "cell_type": "markdown",
   "id": "4d0675db-8e06-4d3f-9286-90a1778f2e83",
   "metadata": {},
   "source": [
    "## Preparation: load data, functions, libraries of dependency..."
   ]
  },
  {
   "cell_type": "code",
   "execution_count": 1,
   "id": "e75e4a3a-c620-4a98-b246-326b89de8867",
   "metadata": {},
   "outputs": [
    {
     "data": {
      "text/plain": [
       "\"/Users/zifanyu/Documents/GitHub/BulkLMM.jl\""
      ]
     },
     "execution_count": 1,
     "metadata": {},
     "output_type": "execute_result"
    }
   ],
   "source": [
    "pwd()"
   ]
  },
  {
   "cell_type": "code",
   "execution_count": 2,
   "id": "9e4b6632-6ef7-43e3-a25e-b2eb21ce0751",
   "metadata": {},
   "outputs": [],
   "source": [
    "cd(\"test\")"
   ]
  },
  {
   "cell_type": "code",
   "execution_count": 3,
   "id": "9808a469-11be-42e1-b8d6-a9e1a0bbc110",
   "metadata": {},
   "outputs": [],
   "source": [
    "using BenchmarkTools, Plots\n",
    "using CSV, DelimitedFiles, DataFrames, Missings, LinearAlgebra, Statistics, Optim, Random, Distributions, LoopVectorization"
   ]
  },
  {
   "cell_type": "code",
   "execution_count": 4,
   "id": "e9c5f601-3525-420f-aedc-42cf5f3c8917",
   "metadata": {},
   "outputs": [],
   "source": [
    "include(\"../src/readData.jl\");\n",
    "include(\"../src/kinship.jl\");\n",
    "include(\"generate_test_bxdData.jl\");\n",
    "include(\"../src/scan.jl\");\n",
    "include(\"../src/bulkscan.jl\");\n",
    "include(\"../src/util.jl\");\n",
    "include(\"../src/lmm.jl\");\n",
    "include(\"../src/wls.jl\");\n",
    "include(\"../src/transform_helpers.jl\");\n",
    "include(\"testHelpers.jl\");"
   ]
  },
  {
   "cell_type": "code",
   "execution_count": 5,
   "id": "afb00389-7a10-4ddd-ac80-8d2e208d6009",
   "metadata": {},
   "outputs": [],
   "source": [
    "traitID = 7919;\n",
    "pheno_y = reshape(pheno[:, traitID], :, 1);"
   ]
  },
  {
   "cell_type": "markdown",
   "id": "afbb7499-1e6e-41ce-b00f-00d35acb8b47",
   "metadata": {},
   "source": [
    "## 1. Simple Univariate Scans:"
   ]
  },
  {
   "cell_type": "markdown",
   "id": "cf5550ac-8b6d-4151-a4be-e6f4be1017b8",
   "metadata": {},
   "source": [
    "Given the raw phenotype info of one trait, the genotype info and the corresponding pre-calculated kinship matrix, return the lod scores of all genetic markers on that particular trait."
   ]
  },
  {
   "cell_type": "code",
   "execution_count": 6,
   "id": "c454494b-34dc-482f-8cbb-282fbad7f6bc",
   "metadata": {},
   "outputs": [],
   "source": [
    "?scan;"
   ]
  },
  {
   "cell_type": "markdown",
   "id": "0713fdf6-dde7-4faf-be2d-e853144e657d",
   "metadata": {},
   "source": [
    "### Assumption (1): VCs are estimated once from the null model"
   ]
  },
  {
   "cell_type": "code",
   "execution_count": 7,
   "id": "e1a62960-079e-4d47-af2e-2d7592acf80c",
   "metadata": {},
   "outputs": [],
   "source": [
    "?scan_null;"
   ]
  },
  {
   "cell_type": "code",
   "execution_count": 8,
   "id": "ce8faa3f-d697-4b16-9e06-a51e5f73fbd0",
   "metadata": {},
   "outputs": [
    {
     "name": "stdout",
     "output_type": "stream",
     "text": [
      "  0.022315 seconds (73.55 k allocations: 33.190 MiB)\n"
     ]
    }
   ],
   "source": [
    "@time test_null = scan(pheno_y, geno, kinship; addIntercept = true, reml = false, assumption = \"null\", method = \"cholesky\");"
   ]
  },
  {
   "cell_type": "code",
   "execution_count": 9,
   "id": "19a0ae27-f398-415e-ace2-5e5edc643103",
   "metadata": {},
   "outputs": [
    {
     "data": {
      "text/plain": [
       "0.04983520992588347"
      ]
     },
     "execution_count": 9,
     "metadata": {},
     "output_type": "execute_result"
    }
   ],
   "source": [
    "test_null.sigma2_e # sigma2_e"
   ]
  },
  {
   "cell_type": "code",
   "execution_count": 10,
   "id": "5db03bcb-d262-4639-8443-303b9d6c1269",
   "metadata": {},
   "outputs": [
    {
     "data": {
      "text/plain": [
       "0.8960637228416714"
      ]
     },
     "execution_count": 10,
     "metadata": {},
     "output_type": "execute_result"
    }
   ],
   "source": [
    "test_null.h2_null"
   ]
  },
  {
   "cell_type": "code",
   "execution_count": 11,
   "id": "39a20f3f-10e4-45d7-afda-9b7d49185c54",
   "metadata": {},
   "outputs": [
    {
     "data": {
      "text/plain": [
       "7321-element Vector{Float64}:\n",
       " 0.008196360329322583\n",
       " 0.008196360329322583\n",
       " 0.008196360329322583\n",
       " 0.008196360329322583\n",
       " 0.008196360329322583\n",
       " 0.008196360329322583\n",
       " 0.008196360329322583\n",
       " 0.008196360329322583\n",
       " 0.008196360329322583\n",
       " 0.008196360329322583\n",
       " 0.008196360229954236\n",
       " 0.008195284184264295\n",
       " 0.00987347031983854\n",
       " ⋮\n",
       " 0.09285575916070832\n",
       " 0.09285575883025671\n",
       " 0.09285575883025671\n",
       " 0.011173043848082764\n",
       " 0.008215696058314959\n",
       " 0.008215696058314959\n",
       " 0.01502332773404691\n",
       " 0.02895771332730057\n",
       " 0.02731129976924651\n",
       " 0.04498777747884275\n",
       " 0.012828276502853786\n",
       " 0.012828276502853786"
      ]
     },
     "execution_count": 11,
     "metadata": {},
     "output_type": "execute_result"
    }
   ],
   "source": [
    "test_null.lod"
   ]
  },
  {
   "cell_type": "markdown",
   "id": "3f071a99-eb66-484f-a09f-42ab8286f880",
   "metadata": {},
   "source": [
    "### Assumption (2): VCs are re-estimated everytime for each marker scan"
   ]
  },
  {
   "cell_type": "code",
   "execution_count": 12,
   "id": "8eaa7854-50f2-4cb0-bd54-1b7a6dab5c76",
   "metadata": {},
   "outputs": [],
   "source": [
    "?scan_alt;"
   ]
  },
  {
   "cell_type": "code",
   "execution_count": 13,
   "id": "bae14f06-8db3-411d-bbc2-87f8e11ad003",
   "metadata": {},
   "outputs": [
    {
     "name": "stdout",
     "output_type": "stream",
     "text": [
      "  0.703768 seconds (2.09 M allocations: 866.251 MiB, 26.40% gc time)\n"
     ]
    }
   ],
   "source": [
    "@time test_alt = scan(pheno_y, geno, kinship; addIntercept = true, reml = false, assumption = \"alt\", method = \"cholesky\");"
   ]
  },
  {
   "cell_type": "code",
   "execution_count": 14,
   "id": "00874f51-b080-4baa-952d-c5e8b075a5f3",
   "metadata": {},
   "outputs": [
    {
     "data": {
      "text/plain": [
       "0.04983520992588347"
      ]
     },
     "execution_count": 14,
     "metadata": {},
     "output_type": "execute_result"
    }
   ],
   "source": [
    "test_alt.sigma2_e "
   ]
  },
  {
   "cell_type": "code",
   "execution_count": 15,
   "id": "17f71b16-a9ab-4954-be48-c3c9ad8b8e83",
   "metadata": {},
   "outputs": [
    {
     "data": {
      "text/plain": [
       "7321-element Vector{Float64}:\n",
       " 0.8959152120195115\n",
       " 0.8959152120195115\n",
       " 0.8959152120195115\n",
       " 0.8959152120195115\n",
       " 0.8959152120195115\n",
       " 0.8959152120196866\n",
       " 0.8959152120195115\n",
       " 0.8959152120195115\n",
       " 0.8959152120195115\n",
       " 0.8959152120195115\n",
       " 0.8959152121140267\n",
       " 0.8959152374339192\n",
       " 0.8957761212977645\n",
       " ⋮\n",
       " 0.9023536181416946\n",
       " 0.9023536181056799\n",
       " 0.9023536181056799\n",
       " 0.8984874509594057\n",
       " 0.8951424229522367\n",
       " 0.8951424229522367\n",
       " 0.8948313365595942\n",
       " 0.8942228015686338\n",
       " 0.8942884362217399\n",
       " 0.893637575195784\n",
       " 0.894429331508082\n",
       " 0.894429331508082"
      ]
     },
     "execution_count": 15,
     "metadata": {},
     "output_type": "execute_result"
    }
   ],
   "source": [
    "test_alt.h2_each_marker"
   ]
  },
  {
   "cell_type": "code",
   "execution_count": 16,
   "id": "16164b55-6f4d-4d36-8679-17e2e7ab5d2e",
   "metadata": {},
   "outputs": [
    {
     "data": {
      "text/plain": [
       "7321-element Vector{Float64}:\n",
       " 0.008197761427624278\n",
       " 0.008197761427624278\n",
       " 0.008197761427624278\n",
       " 0.008197761427624278\n",
       " 0.008197761427624278\n",
       " 0.008197761427624278\n",
       " 0.008197761427624278\n",
       " 0.008197761427624278\n",
       " 0.008197761427624278\n",
       " 0.008197761427624278\n",
       " 0.008197761328216775\n",
       " 0.00819668480291893\n",
       " 0.009878635627355274\n",
       " ⋮\n",
       " 0.09535348758648882\n",
       " 0.09535348724995858\n",
       " 0.09535348724995858\n",
       " 0.011536179594525912\n",
       " 0.008268469217227748\n",
       " 0.008268469217227748\n",
       " 0.015117504699342935\n",
       " 0.029166995976271558\n",
       " 0.02750600122533986\n",
       " 0.04535019721089667\n",
       " 0.012992620923693021\n",
       " 0.012992620923693021"
      ]
     },
     "execution_count": 16,
     "metadata": {},
     "output_type": "execute_result"
    }
   ],
   "source": [
    "test_alt.lod"
   ]
  },
  {
   "cell_type": "code",
   "execution_count": 17,
   "id": "d71fcdb0-7d9d-4dde-988f-bf3c7894d0ed",
   "metadata": {},
   "outputs": [
    {
     "name": "stdout",
     "output_type": "stream",
     "text": [
      "\u001b[1m2×3 DataFrame\u001b[0m\n",
      "\u001b[1m Row \u001b[0m│\u001b[1m Assumption \u001b[0m\u001b[1m Sigma2_e  \u001b[0m\u001b[1m H2       \u001b[0m\n",
      "     │\u001b[90m String     \u001b[0m\u001b[90m Float64   \u001b[0m\u001b[90m Float64  \u001b[0m\n",
      "─────┼─────────────────────────────────\n",
      "   1 │ Null        0.0498352  0.896064\n",
      "   2 │ Alt         0.0498352  0.896064"
     ]
    }
   ],
   "source": [
    "summary_tab1 = DataFrame(Assumption = [\"Null\", \"Alt\"], \n",
    "                         Sigma2_e = [test_null.sigma2_e, test_alt.sigma2_e], \n",
    "                         H2 = [test_null.h2_null, test_alt.h2_null]);\n",
    "print(summary_tab1)"
   ]
  },
  {
   "cell_type": "code",
   "execution_count": 18,
   "id": "02c13c1b-0ee4-4597-9b22-49ebc8271054",
   "metadata": {},
   "outputs": [
    {
     "name": "stdout",
     "output_type": "stream",
     "text": [
      "\u001b[1m10×3 DataFrame\u001b[0m\n",
      "\u001b[1m Row \u001b[0m│\u001b[1m Marker \u001b[0m\u001b[1m Null       \u001b[0m\u001b[1m Alt        \u001b[0m\n",
      "     │\u001b[90m Int64  \u001b[0m\u001b[90m Float64    \u001b[0m\u001b[90m Float64    \u001b[0m\n",
      "─────┼────────────────────────────────\n",
      "   1 │      1  0.00819636  0.00819776\n",
      "   2 │      2  0.00819636  0.00819776\n",
      "   3 │      3  0.00819636  0.00819776\n",
      "   4 │      4  0.00819636  0.00819776\n",
      "   5 │      5  0.00819636  0.00819776\n",
      "   6 │      6  0.00819636  0.00819776\n",
      "   7 │      7  0.00819636  0.00819776\n",
      "   8 │      8  0.00819636  0.00819776\n",
      "   9 │      9  0.00819636  0.00819776\n",
      "  10 │     10  0.00819636  0.00819776"
     ]
    }
   ],
   "source": [
    "summary_tab1_lods = DataFrame(Marker = collect(1:10), Null = test_null.lod[1:10], Alt = test_alt.lod[1:10]);\n",
    "print(summary_tab1_lods)"
   ]
  },
  {
   "cell_type": "code",
   "execution_count": 19,
   "id": "623c7bbc-0c54-47ec-ab74-19b3b9ba67c7",
   "metadata": {},
   "outputs": [
    {
     "data": {
      "text/plain": [
       "1.0"
      ]
     },
     "execution_count": 19,
     "metadata": {},
     "output_type": "execute_result"
    }
   ],
   "source": [
    "mean(test_null.lod .< test_alt.lod)"
   ]
  },
  {
   "cell_type": "markdown",
   "id": "0073a1f0-61bf-4330-8608-3485d5ae6536",
   "metadata": {},
   "source": [
    "## 2. Univariate Scans with permutation tests:"
   ]
  },
  {
   "cell_type": "code",
   "execution_count": 20,
   "id": "9c1a8cc1-78cd-4fbb-a5df-f5e645dbec83",
   "metadata": {},
   "outputs": [
    {
     "name": "stdout",
     "output_type": "stream",
     "text": [
      "  8.574952 seconds (103.87 k allocations: 17.629 GiB, 50.34% gc time)\n"
     ]
    }
   ],
   "source": [
    "@time test_perms = scan_perms(pheno_y, geno, kinship; \n",
    "                              prior_variance = 1.0, prior_sample_size = 0.1,\n",
    "                              addIntercept = true, reml = false, method = \"cholesky\",\n",
    "                              nperms = 1000, original = true);"
   ]
  },
  {
   "cell_type": "code",
   "execution_count": 21,
   "id": "ebe2e3af-4e47-4565-bbfa-4dd9d41d4cd2",
   "metadata": {},
   "outputs": [
    {
     "data": {
      "text/plain": [
       "(1001, 7321)"
      ]
     },
     "execution_count": 21,
     "metadata": {},
     "output_type": "execute_result"
    }
   ],
   "source": [
    "size(test_perms)"
   ]
  },
  {
   "cell_type": "code",
   "execution_count": 22,
   "id": "3e94db51-7932-4568-9a44-299482e80985",
   "metadata": {},
   "outputs": [
    {
     "name": "stdout",
     "output_type": "stream",
     "text": [
      "  0.710730 seconds (1.44 M allocations: 169.177 MiB, 3.35% gc time, 87.12% compilation time)\n"
     ]
    }
   ],
   "source": [
    "@time test_perms_lite = scan_perms_lite(pheno_y, geno, kinship; \n",
    "                                   prior_variance = 1.0, prior_sample_size = 0.1,\n",
    "                                   addIntercept = true, reml = false, method = \"cholesky\",\n",
    "                                   nperms = 1000, original = true);\n",
    "test_perms_lite = permutedims(test_perms_lite);"
   ]
  },
  {
   "cell_type": "code",
   "execution_count": 23,
   "id": "872d16f7-3665-4f7a-a662-ae13883b162b",
   "metadata": {},
   "outputs": [
    {
     "data": {
      "text/plain": [
       "3.017362696668213e10"
      ]
     },
     "execution_count": 23,
     "metadata": {},
     "output_type": "execute_result"
    }
   ],
   "source": [
    "sumSqDiff(test_perms, test_perms_lite)"
   ]
  },
  {
   "cell_type": "code",
   "execution_count": 24,
   "id": "7667e357-e35d-40e9-987c-ecbe020c4f10",
   "metadata": {},
   "outputs": [
    {
     "name": "stdout",
     "output_type": "stream",
     "text": [
      "  0.089510 seconds (197.42 k allocations: 40.197 MiB, 72.57% compilation time)\n"
     ]
    }
   ],
   "source": [
    "@time test_null_corrected = scan(pheno_y, geno, kinship; prior_variance = var(pheno_y), prior_sample_size = 0.1, method = \"cholesky\");"
   ]
  },
  {
   "cell_type": "code",
   "execution_count": 25,
   "id": "a076d903-c7f6-418c-bf58-b0625043dcda",
   "metadata": {},
   "outputs": [
    {
     "data": {
      "text/plain": [
       "2.577021825082493e7"
      ]
     },
     "execution_count": 25,
     "metadata": {},
     "output_type": "execute_result"
    }
   ],
   "source": [
    "sum((test_null_corrected.lod .- test_perms_lite[1, :]).^2)"
   ]
  },
  {
   "cell_type": "code",
   "execution_count": 26,
   "id": "39b83078-6338-472d-a828-14cf8830d3d9",
   "metadata": {},
   "outputs": [
    {
     "data": {
      "text/plain": [
       "7321×2 Matrix{Float64}:\n",
       " -12.0565  0.00830149\n",
       " -12.0565  0.00830149\n",
       " -12.0565  0.00830149\n",
       " -12.0565  0.00830149\n",
       " -12.0565  0.00830149\n",
       " -12.0565  0.00830149\n",
       " -12.0565  0.00830149\n",
       " -12.0565  0.00830149\n",
       " -12.0565  0.00830149\n",
       " -12.0565  0.00830149\n",
       " -12.0565  0.00830149\n",
       " -12.0531  0.00830039\n",
       " -16.9731  0.0101448\n",
       "   ⋮       \n",
       " -58.7947  0.0876171\n",
       " -58.7947  0.0876171\n",
       " -58.7947  0.0876171\n",
       " -14.7143  0.00923218\n",
       " -14.1722  0.00903044\n",
       " -14.1722  0.00903044\n",
       " -27.1093  0.0161049\n",
       " -39.6826  0.0305571\n",
       " -38.6     0.028855\n",
       " -47.6754  0.0470821\n",
       " -24.5603  0.0142602\n",
       " -24.5603  0.0142602"
      ]
     },
     "execution_count": 26,
     "metadata": {},
     "output_type": "execute_result"
    }
   ],
   "source": [
    "hcat(test_perms_lite[1, :], test_null_corrected.lod)"
   ]
  },
  {
   "cell_type": "code",
   "execution_count": null,
   "id": "006ad63c-cf87-4982-8d60-f6409122efb5",
   "metadata": {},
   "outputs": [],
   "source": []
  },
  {
   "cell_type": "markdown",
   "id": "b5330573-feb8-469a-8d4b-8cd99794badc",
   "metadata": {},
   "source": [
    "## 3.Multivariate Scans Methods:"
   ]
  },
  {
   "cell_type": "code",
   "execution_count": 27,
   "id": "9c17d87a-09e2-4d57-a02a-bcef9068bb7e",
   "metadata": {},
   "outputs": [],
   "source": [
    "# (Y0, X0, lambda0) = transform_rotation(pheno, )\n",
    "# test_bulkscan_univar = "
   ]
  },
  {
   "cell_type": "code",
   "execution_count": 28,
   "id": "34b21892-9caa-45b4-8a51-1ad67af5bb32",
   "metadata": {},
   "outputs": [
    {
     "data": {
      "text/plain": [
       "4"
      ]
     },
     "execution_count": 28,
     "metadata": {},
     "output_type": "execute_result"
    }
   ],
   "source": [
    "Threads.nthreads()"
   ]
  },
  {
   "cell_type": "code",
   "execution_count": 29,
   "id": "89fd2499-c1ef-4946-82a6-c41bfe65d2dd",
   "metadata": {},
   "outputs": [
    {
     "data": {
      "text/plain": [
       "4"
      ]
     },
     "execution_count": 29,
     "metadata": {},
     "output_type": "execute_result"
    }
   ],
   "source": [
    "BLAS.get_num_threads()"
   ]
  },
  {
   "cell_type": "code",
   "execution_count": 30,
   "id": "d6c3ae22-31a8-4569-a7fb-e2d47f8e1c82",
   "metadata": {},
   "outputs": [],
   "source": [
    "BLAS.set_num_threads(8);"
   ]
  },
  {
   "cell_type": "code",
   "execution_count": 31,
   "id": "d598dcf5-f357-4e9f-bfde-b1a7f052e9c1",
   "metadata": {},
   "outputs": [
    {
     "data": {
      "text/plain": [
       "8"
      ]
     },
     "execution_count": 31,
     "metadata": {},
     "output_type": "execute_result"
    }
   ],
   "source": [
    "BLAS.get_num_threads()"
   ]
  },
  {
   "cell_type": "code",
   "execution_count": 32,
   "id": "3e1287b2-09da-472c-b03e-8302094ca1de",
   "metadata": {},
   "outputs": [],
   "source": [
    "include(\"../src/bulkscan.jl\");"
   ]
  },
  {
   "cell_type": "code",
   "execution_count": 33,
   "id": "0c21476b-87e6-4af7-9185-d74dbda43485",
   "metadata": {},
   "outputs": [
    {
     "data": {
      "text/plain": [
       "4"
      ]
     },
     "execution_count": 33,
     "metadata": {},
     "output_type": "execute_result"
    }
   ],
   "source": [
    "nt = Threads.nthreads()"
   ]
  },
  {
   "cell_type": "code",
   "execution_count": 34,
   "id": "c757a916-b24f-4d8a-8fd7-9842351e3bd6",
   "metadata": {},
   "outputs": [],
   "source": [
    "stand_pheno = colStandardize(pheno);\n",
    "stand_geno = colStandardize(geno);"
   ]
  },
  {
   "cell_type": "code",
   "execution_count": 71,
   "id": "6927c4e8-2000-4162-af34-04d863d6f215",
   "metadata": {},
   "outputs": [
    {
     "name": "stdout",
     "output_type": "stream",
     "text": [
      "  3.903924 seconds (32.86 M allocations: 8.111 GiB, 26.97% gc time)\n"
     ]
    },
    {
     "data": {
      "text/plain": [
       "7321×408 Matrix{Float64}:\n",
       " 0.764839  0.373633    0.0625756   …  0.440579   0.0046903    0.382447\n",
       " 0.764839  0.373633    0.0625756      0.440579   0.0046903    0.382447\n",
       " 0.764839  0.373633    0.0625756      0.440579   0.0046903    0.382447\n",
       " 0.764839  0.373633    0.0625756      0.440579   0.0046903    0.382447\n",
       " 0.764839  0.373633    0.0625756      0.440579   0.0046903    0.382447\n",
       " 0.764839  0.373633    0.0625756   …  0.440579   0.0046903    0.382447\n",
       " 0.764839  0.373633    0.0625756      0.440579   0.0046903    0.382447\n",
       " 0.764839  0.373633    0.0625756      0.440579   0.0046903    0.382447\n",
       " 0.764839  0.373633    0.0625756      0.440579   0.0046903    0.382447\n",
       " 0.764839  0.373633    0.0625756      0.440579   0.0046903    0.382447\n",
       " 0.764839  0.373633    0.0625756   …  0.440579   0.0046903    0.382447\n",
       " 0.764849  0.373619    0.0625736      0.440578   0.00469004   0.382456\n",
       " 0.996831  0.0521638   0.0131329      0.36218    8.16801e-5   0.572836\n",
       " ⋮                                 ⋱  ⋮                       \n",
       " 1.03768   0.197679    0.0322864      0.0315579  0.00128808   0.000476476\n",
       " 1.03768   0.197679    0.0322864   …  0.0315579  0.00128808   0.000476476\n",
       " 1.03768   0.197679    0.0322864      0.0315579  0.00128808   0.000476476\n",
       " 1.17091   0.110403    0.0417475      0.029311   0.0475357    0.010626\n",
       " 1.39236   0.156063    0.0295041      0.171162   0.00530701   0.0740491\n",
       " 1.39236   0.156063    0.0295041      0.171162   0.00530701   0.0740491\n",
       " 1.25557   0.13164     0.00145175  …  0.198607   0.0146437    0.375055\n",
       " 1.22127   0.156579    0.00425435     0.149426   0.000497228  0.377835\n",
       " 1.22663   0.154016    0.00389102     0.154556   0.0010807    0.378197\n",
       " 1.15593   0.178079    0.00812488     0.105473   0.00529439   0.36783\n",
       " 1.16259   0.00101271  0.0394313      0.0914417  0.000500669  0.650497\n",
       " 1.16259   0.00101271  0.0394313   …  0.0914417  0.000500669  0.650497"
      ]
     },
     "execution_count": 71,
     "metadata": {},
     "output_type": "execute_result"
    }
   ],
   "source": [
    "@time test_bulkscan = scan_lite_multivar(stand_pheno[:, 705:1112], stand_geno, kinship, nt; nt_blas = 1, \n",
    "                                prior_variance = 1.0, prior_sample_size = 0.1, \n",
    "                                reml = false)"
   ]
  },
  {
   "cell_type": "code",
   "execution_count": 72,
   "id": "5820a8a6-13cb-40c4-88c9-8f4753bebe98",
   "metadata": {},
   "outputs": [
    {
     "data": {
      "text/plain": [
       "7321-element Vector{Float64}:\n",
       " 0.3824473825225086\n",
       " 0.3824473825225086\n",
       " 0.3824473825225086\n",
       " 0.3824473825225086\n",
       " 0.3824473825225086\n",
       " 0.3824473825225086\n",
       " 0.3824473825225086\n",
       " 0.3824473825225086\n",
       " 0.3824473825225086\n",
       " 0.3824473825225086\n",
       " 0.38244738327672395\n",
       " 0.3824555508861678\n",
       " 0.5728361795545813\n",
       " ⋮\n",
       " 0.00047647671484152276\n",
       " 0.0004764766983744173\n",
       " 0.0004764766983744173\n",
       " 0.01062603056420297\n",
       " 0.07404913233333665\n",
       " 0.07404913233333665\n",
       " 0.3750552419519351\n",
       " 0.3778348300575422\n",
       " 0.37819723335914757\n",
       " 0.36783042045461944\n",
       " 0.6504972788371927\n",
       " 0.6504972788371927"
      ]
     },
     "execution_count": 72,
     "metadata": {},
     "output_type": "execute_result"
    }
   ],
   "source": [
    "test_null_corrected_lod = scan(reshape(pheno[:, 1112], :, 1), geno, kinship; \n",
    "    prior_variance = var(pheno[:, 1112]), prior_sample_size = 0.1).lod"
   ]
  },
  {
   "cell_type": "code",
   "execution_count": 73,
   "id": "51ef77f9-b595-464c-a06f-59973ed58418",
   "metadata": {},
   "outputs": [
    {
     "data": {
      "text/plain": [
       "4.765547380653993e-13"
      ]
     },
     "execution_count": 73,
     "metadata": {},
     "output_type": "execute_result"
    }
   ],
   "source": [
    "sum((test_null_corrected_lod .- test_bulkscan[:, end]).^2)"
   ]
  },
  {
   "cell_type": "code",
   "execution_count": 74,
   "id": "850fc422-a119-4b21-8bac-225c6f89621e",
   "metadata": {},
   "outputs": [
    {
     "data": {
      "text/plain": [
       "(1481, 12)"
      ]
     },
     "execution_count": 74,
     "metadata": {},
     "output_type": "execute_result"
    }
   ],
   "source": [
    "divrem(m, 24)"
   ]
  },
  {
   "cell_type": "code",
   "execution_count": null,
   "id": "b91149c2-6693-4fd4-a35e-f5f91b8673a9",
   "metadata": {},
   "outputs": [],
   "source": []
  },
  {
   "cell_type": "code",
   "execution_count": null,
   "id": "32df4b36-fcd0-416d-ad54-fce2830874a4",
   "metadata": {},
   "outputs": [],
   "source": []
  },
  {
   "cell_type": "markdown",
   "id": "c469eb8e-ff63-449b-bc14-0cae86589a54",
   "metadata": {},
   "source": [
    "## Bayes Correction:"
   ]
  },
  {
   "cell_type": "code",
   "execution_count": 39,
   "id": "88a43349-6662-40a8-8f5b-2b72668193d6",
   "metadata": {},
   "outputs": [],
   "source": [
    "kinship_Gc = CSV.read(\"run-gemma/output/kinship.cXX.txt\", DataFrame, delim = '\\t', header = false) |> Matrix;"
   ]
  },
  {
   "cell_type": "code",
   "execution_count": 40,
   "id": "ded9016a-8e81-47d6-9085-a602840dc312",
   "metadata": {},
   "outputs": [
    {
     "data": {
      "text/plain": [
       "1.0e-7"
      ]
     },
     "execution_count": 40,
     "metadata": {},
     "output_type": "execute_result"
    }
   ],
   "source": [
    "1e-7"
   ]
  },
  {
   "cell_type": "code",
   "execution_count": 41,
   "id": "b8ce9cad-8342-4c32-b271-0d98976aa4f5",
   "metadata": {},
   "outputs": [
    {
     "data": {
      "text/plain": [
       "108"
      ]
     },
     "execution_count": 41,
     "metadata": {},
     "output_type": "execute_result"
    }
   ],
   "source": [
    "traitID = 108"
   ]
  },
  {
   "cell_type": "code",
   "execution_count": 42,
   "id": "a6cf1289-3926-433c-9c97-97bba9471d74",
   "metadata": {},
   "outputs": [
    {
     "data": {
      "text/plain": [
       "-2.638151149096354e-12"
      ]
     },
     "execution_count": 42,
     "metadata": {},
     "output_type": "execute_result"
    }
   ],
   "source": [
    "minimum(eigen(kinship_Gc).values)"
   ]
  },
  {
   "cell_type": "code",
   "execution_count": 43,
   "id": "cdeb78ac-1131-4f9b-b925-bffbb8bf9bee",
   "metadata": {},
   "outputs": [],
   "source": [
    "pheno_108 = reshape(pheno[:, traitID], :, 1);"
   ]
  },
  {
   "cell_type": "code",
   "execution_count": 44,
   "id": "e146ad86-13f0-4f83-8061-04ca4c9a0137",
   "metadata": {},
   "outputs": [
    {
     "data": {
      "text/plain": [
       "getLL (generic function with 1 method)"
      ]
     },
     "execution_count": 44,
     "metadata": {},
     "output_type": "execute_result"
    }
   ],
   "source": [
    "function getLL(y::Array{Float64, 2}, G::Array{Float64, 2}, K::Array{Float64, 2}, markerID::Int64, h2::Float64; prior::Array{Float64, 1} = [0.0, 0.0])\n",
    "    \n",
    "    Gj = reshape(G[:, markerID], :, 1);\n",
    "    (y0, X0, lambda0) = transform_rotation(y, Gj, K; addIntercept = true);\n",
    "    w = makeweights(h2, lambda0);\n",
    "    X0_inter = reshape(X0[:, 1], :, 1);\n",
    "    \n",
    "    return (ll_null = wls(y0, X0_inter, w, prior).ell, ll_markerID = wls(y0, X0, w, prior).ell)\n",
    "    # return (wls(y0, X0_inter, w, prior).ell, wls(y0, X0, w, prior).ell)\n",
    "end"
   ]
  },
  {
   "cell_type": "markdown",
   "id": "af28ff8f-0f60-47a2-8be6-e1a308e10b0b",
   "metadata": {},
   "source": [
    "### Before correction:"
   ]
  },
  {
   "cell_type": "code",
   "execution_count": 45,
   "id": "a438a6dc-fd42-4665-8542-9eac951f649c",
   "metadata": {},
   "outputs": [],
   "source": [
    "results_t108_alt = scan(pheno_108, geno, kinship_Gc; assumption = \"alt\"); # without correction"
   ]
  },
  {
   "cell_type": "code",
   "execution_count": 46,
   "id": "3f5d71a0-894a-4b4b-9f8d-fa8f7e4f91fa",
   "metadata": {},
   "outputs": [
    {
     "data": {
      "text/plain": [
       "0.999999984947842"
      ]
     },
     "execution_count": 46,
     "metadata": {},
     "output_type": "execute_result"
    }
   ],
   "source": [
    "results_t108_alt.h2_null"
   ]
  },
  {
   "cell_type": "code",
   "execution_count": 47,
   "id": "12de2a8a-89a7-4d9e-b904-0970053ddccb",
   "metadata": {},
   "outputs": [],
   "source": [
    "blackSwans = collect(1:p)[results_t108_alt.lod .< 0.0];"
   ]
  },
  {
   "cell_type": "code",
   "execution_count": 48,
   "id": "4de357db-5bdb-45de-a22d-bf97b8886709",
   "metadata": {},
   "outputs": [
    {
     "data": {
      "text/plain": [
       "246×3 Matrix{Any}:\n",
       "     \"markerID\"   \"h2\"       \"lod\"\n",
       "  229.0          0.833613  -2.2873\n",
       "  230.0          0.833613  -2.2873\n",
       "  231.0          0.833613  -2.2873\n",
       "  232.0          0.750077  -2.36798\n",
       "  233.0          0.678949  -1.41325\n",
       "  234.0          0.733759  -1.50067\n",
       "  235.0          0.73128   -1.67281\n",
       "  236.0          0.73128   -1.67281\n",
       "  237.0          0.722322  -1.90021\n",
       "  238.0          0.722322  -1.90021\n",
       "  239.0          0.722318  -1.90013\n",
       "  240.0          0.702481  -1.55903\n",
       "    ⋮                      \n",
       " 6112.0          0.625752  -2.9462\n",
       " 6113.0          0.625745  -2.94618\n",
       " 6114.0          0.625745  -2.94618\n",
       " 6115.0          0.726133  -2.16293\n",
       " 6116.0          0.782641  -2.51206\n",
       " 6117.0          0.823973  -2.57682\n",
       " 6118.0          0.823973  -2.57682\n",
       " 6119.0          0.768072  -2.46246\n",
       " 6123.0          0.781012  -2.405\n",
       " 6124.0          0.781012  -2.405\n",
       " 7227.0          1.0       -0.100951\n",
       " 7228.0          1.0       -0.100951"
      ]
     },
     "execution_count": 48,
     "metadata": {},
     "output_type": "execute_result"
    }
   ],
   "source": [
    "summary = vcat([\"markerID\" \"h2\" \"lod\"], hcat(blackSwans, results_t108_alt.h2_each_marker[blackSwans], results_t108_alt.lod[blackSwans]))"
   ]
  },
  {
   "cell_type": "code",
   "execution_count": 49,
   "id": "22116da7-0025-4611-bc0e-acb693a0d44a",
   "metadata": {},
   "outputs": [],
   "source": [
    "markerID = blackSwans[1];"
   ]
  },
  {
   "cell_type": "code",
   "execution_count": 50,
   "id": "ba3e85e8-64c3-425e-a899-7f7a2e3c2ff9",
   "metadata": {},
   "outputs": [
    {
     "data": {
      "text/plain": [
       "(0.999999984947842, -45.669261350013585)"
      ]
     },
     "execution_count": 50,
     "metadata": {},
     "output_type": "execute_result"
    }
   ],
   "source": [
    "maxima_null = (results_t108_alt.h2_null, getLL(pheno_108, geno, kinship_Gc, markerID, results_t108_alt.h2_null).ll_markerID)"
   ]
  },
  {
   "cell_type": "code",
   "execution_count": 51,
   "id": "bc506839-726e-4228-93df-c0c9188e7466",
   "metadata": {},
   "outputs": [
    {
     "data": {
      "text/plain": [
       "(0.8336134223133306, -52.63192482865684)"
      ]
     },
     "execution_count": 51,
     "metadata": {},
     "output_type": "execute_result"
    }
   ],
   "source": [
    "maxima_alt = (results_t108_alt.h2_each_marker[markerID], getLL(pheno_108, geno, kinship_Gc, markerID, summary[2, 2]).ll_markerID)"
   ]
  },
  {
   "cell_type": "code",
   "execution_count": 52,
   "id": "8547e8eb-64a1-4cbd-b294-95c6ac084d01",
   "metadata": {},
   "outputs": [],
   "source": [
    "issue_results = map(x -> getLL(pheno_108, geno, kinship_Gc, blackSwans[1], x), collect(1:999).*0.001);"
   ]
  },
  {
   "cell_type": "code",
   "execution_count": 53,
   "id": "e5ee81ea-3390-4b62-af14-65f47c17d335",
   "metadata": {},
   "outputs": [],
   "source": [
    "ell_null = zeros(999);\n",
    "ell_markerID = zeros(999);\n",
    "for k in 1:999 \n",
    "    ell_null[k] = issue_results[k].ll_null;\n",
    "    ell_markerID[k] = issue_results[k].ll_markerID;\n",
    "end"
   ]
  },
  {
   "cell_type": "code",
   "execution_count": 54,
   "id": "01fe710c-c0b1-424b-8a11-0143dc825af2",
   "metadata": {},
   "outputs": [
    {
     "data": {
      "image/svg+xml": [
       "<?xml version=\"1.0\" encoding=\"utf-8\"?>\n",
       "<svg xmlns=\"http://www.w3.org/2000/svg\" xmlns:xlink=\"http://www.w3.org/1999/xlink\" width=\"600\" height=\"400\" viewBox=\"0 0 2400 1600\">\n",
       "<defs>\n",
       "  <clipPath id=\"clip980\">\n",
       "    <rect x=\"0\" y=\"0\" width=\"2400\" height=\"1600\"/>\n",
       "  </clipPath>\n",
       "</defs>\n",
       "<path clip-path=\"url(#clip980)\" d=\"\n",
       "M0 1600 L2400 1600 L2400 0 L0 0  Z\n",
       "  \" fill=\"#ffffff\" fill-rule=\"evenodd\" fill-opacity=\"1\"/>\n",
       "<defs>\n",
       "  <clipPath id=\"clip981\">\n",
       "    <rect x=\"480\" y=\"0\" width=\"1681\" height=\"1600\"/>\n",
       "  </clipPath>\n",
       "</defs>\n",
       "<path clip-path=\"url(#clip980)\" d=\"\n",
       "M242.621 1423.18 L2352.76 1423.18 L2352.76 47.2441 L242.621 47.2441  Z\n",
       "  \" fill=\"#ffffff\" fill-rule=\"evenodd\" fill-opacity=\"1\"/>\n",
       "<defs>\n",
       "  <clipPath id=\"clip982\">\n",
       "    <rect x=\"242\" y=\"47\" width=\"2111\" height=\"1377\"/>\n",
       "  </clipPath>\n",
       "</defs>\n",
       "<polyline clip-path=\"url(#clip982)\" style=\"stroke:#000000; stroke-linecap:round; stroke-linejoin:round; stroke-width:2; stroke-opacity:0.1; fill:none\" points=\"\n",
       "  300.347,1423.18 300.347,47.2441 \n",
       "  \"/>\n",
       "<polyline clip-path=\"url(#clip982)\" style=\"stroke:#000000; stroke-linecap:round; stroke-linejoin:round; stroke-width:2; stroke-opacity:0.1; fill:none\" points=\"\n",
       "  799.018,1423.18 799.018,47.2441 \n",
       "  \"/>\n",
       "<polyline clip-path=\"url(#clip982)\" style=\"stroke:#000000; stroke-linecap:round; stroke-linejoin:round; stroke-width:2; stroke-opacity:0.1; fill:none\" points=\"\n",
       "  1297.69,1423.18 1297.69,47.2441 \n",
       "  \"/>\n",
       "<polyline clip-path=\"url(#clip982)\" style=\"stroke:#000000; stroke-linecap:round; stroke-linejoin:round; stroke-width:2; stroke-opacity:0.1; fill:none\" points=\"\n",
       "  1796.36,1423.18 1796.36,47.2441 \n",
       "  \"/>\n",
       "<polyline clip-path=\"url(#clip982)\" style=\"stroke:#000000; stroke-linecap:round; stroke-linejoin:round; stroke-width:2; stroke-opacity:0.1; fill:none\" points=\"\n",
       "  2295.03,1423.18 2295.03,47.2441 \n",
       "  \"/>\n",
       "<polyline clip-path=\"url(#clip980)\" style=\"stroke:#000000; stroke-linecap:round; stroke-linejoin:round; stroke-width:4; stroke-opacity:1; fill:none\" points=\"\n",
       "  242.621,1423.18 2352.76,1423.18 \n",
       "  \"/>\n",
       "<polyline clip-path=\"url(#clip980)\" style=\"stroke:#000000; stroke-linecap:round; stroke-linejoin:round; stroke-width:4; stroke-opacity:1; fill:none\" points=\"\n",
       "  300.347,1423.18 300.347,1404.28 \n",
       "  \"/>\n",
       "<polyline clip-path=\"url(#clip980)\" style=\"stroke:#000000; stroke-linecap:round; stroke-linejoin:round; stroke-width:4; stroke-opacity:1; fill:none\" points=\"\n",
       "  799.018,1423.18 799.018,1404.28 \n",
       "  \"/>\n",
       "<polyline clip-path=\"url(#clip980)\" style=\"stroke:#000000; stroke-linecap:round; stroke-linejoin:round; stroke-width:4; stroke-opacity:1; fill:none\" points=\"\n",
       "  1297.69,1423.18 1297.69,1404.28 \n",
       "  \"/>\n",
       "<polyline clip-path=\"url(#clip980)\" style=\"stroke:#000000; stroke-linecap:round; stroke-linejoin:round; stroke-width:4; stroke-opacity:1; fill:none\" points=\"\n",
       "  1796.36,1423.18 1796.36,1404.28 \n",
       "  \"/>\n",
       "<polyline clip-path=\"url(#clip980)\" style=\"stroke:#000000; stroke-linecap:round; stroke-linejoin:round; stroke-width:4; stroke-opacity:1; fill:none\" points=\"\n",
       "  2295.03,1423.18 2295.03,1404.28 \n",
       "  \"/>\n",
       "<path clip-path=\"url(#clip980)\" d=\"M262.65 1454.1 Q259.039 1454.1 257.211 1457.66 Q255.405 1461.2 255.405 1468.33 Q255.405 1475.44 257.211 1479.01 Q259.039 1482.55 262.65 1482.55 Q266.285 1482.55 268.09 1479.01 Q269.919 1475.44 269.919 1468.33 Q269.919 1461.2 268.09 1457.66 Q266.285 1454.1 262.65 1454.1 M262.65 1450.39 Q268.46 1450.39 271.516 1455 Q274.595 1459.58 274.595 1468.33 Q274.595 1477.06 271.516 1481.67 Q268.46 1486.25 262.65 1486.25 Q256.84 1486.25 253.761 1481.67 Q250.706 1477.06 250.706 1468.33 Q250.706 1459.58 253.761 1455 Q256.84 1450.39 262.65 1450.39 Z\" fill=\"#000000\" fill-rule=\"evenodd\" fill-opacity=\"1\" /><path clip-path=\"url(#clip980)\" d=\"M282.812 1479.7 L287.697 1479.7 L287.697 1485.58 L282.812 1485.58 L282.812 1479.7 Z\" fill=\"#000000\" fill-rule=\"evenodd\" fill-opacity=\"1\" /><path clip-path=\"url(#clip980)\" d=\"M307.882 1454.1 Q304.27 1454.1 302.442 1457.66 Q300.636 1461.2 300.636 1468.33 Q300.636 1475.44 302.442 1479.01 Q304.27 1482.55 307.882 1482.55 Q311.516 1482.55 313.321 1479.01 Q315.15 1475.44 315.15 1468.33 Q315.15 1461.2 313.321 1457.66 Q311.516 1454.1 307.882 1454.1 M307.882 1450.39 Q313.692 1450.39 316.747 1455 Q319.826 1459.58 319.826 1468.33 Q319.826 1477.06 316.747 1481.67 Q313.692 1486.25 307.882 1486.25 Q302.071 1486.25 298.993 1481.67 Q295.937 1477.06 295.937 1468.33 Q295.937 1459.58 298.993 1455 Q302.071 1450.39 307.882 1450.39 Z\" fill=\"#000000\" fill-rule=\"evenodd\" fill-opacity=\"1\" /><path clip-path=\"url(#clip980)\" d=\"M338.043 1454.1 Q334.432 1454.1 332.604 1457.66 Q330.798 1461.2 330.798 1468.33 Q330.798 1475.44 332.604 1479.01 Q334.432 1482.55 338.043 1482.55 Q341.678 1482.55 343.483 1479.01 Q345.312 1475.44 345.312 1468.33 Q345.312 1461.2 343.483 1457.66 Q341.678 1454.1 338.043 1454.1 M338.043 1450.39 Q343.854 1450.39 346.909 1455 Q349.988 1459.58 349.988 1468.33 Q349.988 1477.06 346.909 1481.67 Q343.854 1486.25 338.043 1486.25 Q332.233 1486.25 329.155 1481.67 Q326.099 1477.06 326.099 1468.33 Q326.099 1459.58 329.155 1455 Q332.233 1450.39 338.043 1450.39 Z\" fill=\"#000000\" fill-rule=\"evenodd\" fill-opacity=\"1\" /><path clip-path=\"url(#clip980)\" d=\"M761.819 1454.1 Q758.208 1454.1 756.379 1457.66 Q754.573 1461.2 754.573 1468.33 Q754.573 1475.44 756.379 1479.01 Q758.208 1482.55 761.819 1482.55 Q765.453 1482.55 767.259 1479.01 Q769.087 1475.44 769.087 1468.33 Q769.087 1461.2 767.259 1457.66 Q765.453 1454.1 761.819 1454.1 M761.819 1450.39 Q767.629 1450.39 770.684 1455 Q773.763 1459.58 773.763 1468.33 Q773.763 1477.06 770.684 1481.67 Q767.629 1486.25 761.819 1486.25 Q756.009 1486.25 752.93 1481.67 Q749.874 1477.06 749.874 1468.33 Q749.874 1459.58 752.93 1455 Q756.009 1450.39 761.819 1450.39 Z\" fill=\"#000000\" fill-rule=\"evenodd\" fill-opacity=\"1\" /><path clip-path=\"url(#clip980)\" d=\"M781.981 1479.7 L786.865 1479.7 L786.865 1485.58 L781.981 1485.58 L781.981 1479.7 Z\" fill=\"#000000\" fill-rule=\"evenodd\" fill-opacity=\"1\" /><path clip-path=\"url(#clip980)\" d=\"M801.078 1481.64 L817.397 1481.64 L817.397 1485.58 L795.453 1485.58 L795.453 1481.64 Q798.115 1478.89 802.698 1474.26 Q807.305 1469.61 808.485 1468.27 Q810.731 1465.74 811.61 1464.01 Q812.513 1462.25 812.513 1460.56 Q812.513 1457.8 810.568 1456.07 Q808.647 1454.33 805.545 1454.33 Q803.346 1454.33 800.893 1455.09 Q798.462 1455.86 795.684 1457.41 L795.684 1452.69 Q798.508 1451.55 800.962 1450.97 Q803.416 1450.39 805.453 1450.39 Q810.823 1450.39 814.018 1453.08 Q817.212 1455.77 817.212 1460.26 Q817.212 1462.39 816.402 1464.31 Q815.615 1466.2 813.508 1468.8 Q812.93 1469.47 809.828 1472.69 Q806.726 1475.88 801.078 1481.64 Z\" fill=\"#000000\" fill-rule=\"evenodd\" fill-opacity=\"1\" /><path clip-path=\"url(#clip980)\" d=\"M827.258 1451.02 L845.615 1451.02 L845.615 1454.96 L831.541 1454.96 L831.541 1463.43 Q832.559 1463.08 833.578 1462.92 Q834.596 1462.73 835.615 1462.73 Q841.402 1462.73 844.781 1465.9 Q848.161 1469.08 848.161 1474.49 Q848.161 1480.07 844.689 1483.17 Q841.216 1486.25 834.897 1486.25 Q832.721 1486.25 830.453 1485.88 Q828.207 1485.51 825.8 1484.77 L825.8 1480.07 Q827.883 1481.2 830.105 1481.76 Q832.328 1482.32 834.804 1482.32 Q838.809 1482.32 841.147 1480.21 Q843.485 1478.1 843.485 1474.49 Q843.485 1470.88 841.147 1468.77 Q838.809 1466.67 834.804 1466.67 Q832.929 1466.67 831.054 1467.08 Q829.203 1467.5 827.258 1468.38 L827.258 1451.02 Z\" fill=\"#000000\" fill-rule=\"evenodd\" fill-opacity=\"1\" /><path clip-path=\"url(#clip980)\" d=\"M1259.99 1454.1 Q1256.38 1454.1 1254.55 1457.66 Q1252.75 1461.2 1252.75 1468.33 Q1252.75 1475.44 1254.55 1479.01 Q1256.38 1482.55 1259.99 1482.55 Q1263.63 1482.55 1265.43 1479.01 Q1267.26 1475.44 1267.26 1468.33 Q1267.26 1461.2 1265.43 1457.66 Q1263.63 1454.1 1259.99 1454.1 M1259.99 1450.39 Q1265.8 1450.39 1268.86 1455 Q1271.94 1459.58 1271.94 1468.33 Q1271.94 1477.06 1268.86 1481.67 Q1265.8 1486.25 1259.99 1486.25 Q1254.18 1486.25 1251.1 1481.67 Q1248.05 1477.06 1248.05 1468.33 Q1248.05 1459.58 1251.1 1455 Q1254.18 1450.39 1259.99 1450.39 Z\" fill=\"#000000\" fill-rule=\"evenodd\" fill-opacity=\"1\" /><path clip-path=\"url(#clip980)\" d=\"M1280.15 1479.7 L1285.04 1479.7 L1285.04 1485.58 L1280.15 1485.58 L1280.15 1479.7 Z\" fill=\"#000000\" fill-rule=\"evenodd\" fill-opacity=\"1\" /><path clip-path=\"url(#clip980)\" d=\"M1295.27 1451.02 L1313.63 1451.02 L1313.63 1454.96 L1299.55 1454.96 L1299.55 1463.43 Q1300.57 1463.08 1301.59 1462.92 Q1302.61 1462.73 1303.63 1462.73 Q1309.41 1462.73 1312.79 1465.9 Q1316.17 1469.08 1316.17 1474.49 Q1316.17 1480.07 1312.7 1483.17 Q1309.23 1486.25 1302.91 1486.25 Q1300.73 1486.25 1298.46 1485.88 Q1296.22 1485.51 1293.81 1484.77 L1293.81 1480.07 Q1295.89 1481.2 1298.12 1481.76 Q1300.34 1482.32 1302.82 1482.32 Q1306.82 1482.32 1309.16 1480.21 Q1311.5 1478.1 1311.5 1474.49 Q1311.5 1470.88 1309.16 1468.77 Q1306.82 1466.67 1302.82 1466.67 Q1300.94 1466.67 1299.07 1467.08 Q1297.21 1467.5 1295.27 1468.38 L1295.27 1451.02 Z\" fill=\"#000000\" fill-rule=\"evenodd\" fill-opacity=\"1\" /><path clip-path=\"url(#clip980)\" d=\"M1335.38 1454.1 Q1331.77 1454.1 1329.95 1457.66 Q1328.14 1461.2 1328.14 1468.33 Q1328.14 1475.44 1329.95 1479.01 Q1331.77 1482.55 1335.38 1482.55 Q1339.02 1482.55 1340.82 1479.01 Q1342.65 1475.44 1342.65 1468.33 Q1342.65 1461.2 1340.82 1457.66 Q1339.02 1454.1 1335.38 1454.1 M1335.38 1450.39 Q1341.2 1450.39 1344.25 1455 Q1347.33 1459.58 1347.33 1468.33 Q1347.33 1477.06 1344.25 1481.67 Q1341.2 1486.25 1335.38 1486.25 Q1329.57 1486.25 1326.5 1481.67 Q1323.44 1477.06 1323.44 1468.33 Q1323.44 1459.58 1326.5 1455 Q1329.57 1450.39 1335.38 1450.39 Z\" fill=\"#000000\" fill-rule=\"evenodd\" fill-opacity=\"1\" /><path clip-path=\"url(#clip980)\" d=\"M1759.16 1454.1 Q1755.55 1454.1 1753.72 1457.66 Q1751.91 1461.2 1751.91 1468.33 Q1751.91 1475.44 1753.72 1479.01 Q1755.55 1482.55 1759.16 1482.55 Q1762.79 1482.55 1764.6 1479.01 Q1766.43 1475.44 1766.43 1468.33 Q1766.43 1461.2 1764.6 1457.66 Q1762.79 1454.1 1759.16 1454.1 M1759.16 1450.39 Q1764.97 1450.39 1768.03 1455 Q1771.1 1459.58 1771.1 1468.33 Q1771.1 1477.06 1768.03 1481.67 Q1764.97 1486.25 1759.16 1486.25 Q1753.35 1486.25 1750.27 1481.67 Q1747.22 1477.06 1747.22 1468.33 Q1747.22 1459.58 1750.27 1455 Q1753.35 1450.39 1759.16 1450.39 Z\" fill=\"#000000\" fill-rule=\"evenodd\" fill-opacity=\"1\" /><path clip-path=\"url(#clip980)\" d=\"M1779.32 1479.7 L1784.21 1479.7 L1784.21 1485.58 L1779.32 1485.58 L1779.32 1479.7 Z\" fill=\"#000000\" fill-rule=\"evenodd\" fill-opacity=\"1\" /><path clip-path=\"url(#clip980)\" d=\"M1793.21 1451.02 L1815.43 1451.02 L1815.43 1453.01 L1802.89 1485.58 L1798 1485.58 L1809.81 1454.96 L1793.21 1454.96 L1793.21 1451.02 Z\" fill=\"#000000\" fill-rule=\"evenodd\" fill-opacity=\"1\" /><path clip-path=\"url(#clip980)\" d=\"M1824.6 1451.02 L1842.96 1451.02 L1842.96 1454.96 L1828.88 1454.96 L1828.88 1463.43 Q1829.9 1463.08 1830.92 1462.92 Q1831.94 1462.73 1832.96 1462.73 Q1838.74 1462.73 1842.12 1465.9 Q1845.5 1469.08 1845.5 1474.49 Q1845.5 1480.07 1842.03 1483.17 Q1838.56 1486.25 1832.24 1486.25 Q1830.06 1486.25 1827.79 1485.88 Q1825.55 1485.51 1823.14 1484.77 L1823.14 1480.07 Q1825.22 1481.2 1827.45 1481.76 Q1829.67 1482.32 1832.15 1482.32 Q1836.15 1482.32 1838.49 1480.21 Q1840.83 1478.1 1840.83 1474.49 Q1840.83 1470.88 1838.49 1468.77 Q1836.15 1466.67 1832.15 1466.67 Q1830.27 1466.67 1828.4 1467.08 Q1826.54 1467.5 1824.6 1468.38 L1824.6 1451.02 Z\" fill=\"#000000\" fill-rule=\"evenodd\" fill-opacity=\"1\" /><path clip-path=\"url(#clip980)\" d=\"M2247.1 1481.64 L2254.74 1481.64 L2254.74 1455.28 L2246.43 1456.95 L2246.43 1452.69 L2254.69 1451.02 L2259.37 1451.02 L2259.37 1481.64 L2267.01 1481.64 L2267.01 1485.58 L2247.1 1485.58 L2247.1 1481.64 Z\" fill=\"#000000\" fill-rule=\"evenodd\" fill-opacity=\"1\" /><path clip-path=\"url(#clip980)\" d=\"M2276.45 1479.7 L2281.34 1479.7 L2281.34 1485.58 L2276.45 1485.58 L2276.45 1479.7 Z\" fill=\"#000000\" fill-rule=\"evenodd\" fill-opacity=\"1\" /><path clip-path=\"url(#clip980)\" d=\"M2301.52 1454.1 Q2297.91 1454.1 2296.08 1457.66 Q2294.28 1461.2 2294.28 1468.33 Q2294.28 1475.44 2296.08 1479.01 Q2297.91 1482.55 2301.52 1482.55 Q2305.16 1482.55 2306.96 1479.01 Q2308.79 1475.44 2308.79 1468.33 Q2308.79 1461.2 2306.96 1457.66 Q2305.16 1454.1 2301.52 1454.1 M2301.52 1450.39 Q2307.33 1450.39 2310.39 1455 Q2313.47 1459.58 2313.47 1468.33 Q2313.47 1477.06 2310.39 1481.67 Q2307.33 1486.25 2301.52 1486.25 Q2295.71 1486.25 2292.63 1481.67 Q2289.58 1477.06 2289.58 1468.33 Q2289.58 1459.58 2292.63 1455 Q2295.71 1450.39 2301.52 1450.39 Z\" fill=\"#000000\" fill-rule=\"evenodd\" fill-opacity=\"1\" /><path clip-path=\"url(#clip980)\" d=\"M2331.68 1454.1 Q2328.07 1454.1 2326.24 1457.66 Q2324.44 1461.2 2324.44 1468.33 Q2324.44 1475.44 2326.24 1479.01 Q2328.07 1482.55 2331.68 1482.55 Q2335.32 1482.55 2337.12 1479.01 Q2338.95 1475.44 2338.95 1468.33 Q2338.95 1461.2 2337.12 1457.66 Q2335.32 1454.1 2331.68 1454.1 M2331.68 1450.39 Q2337.49 1450.39 2340.55 1455 Q2343.63 1459.58 2343.63 1468.33 Q2343.63 1477.06 2340.55 1481.67 Q2337.49 1486.25 2331.68 1486.25 Q2325.87 1486.25 2322.8 1481.67 Q2319.74 1477.06 2319.74 1468.33 Q2319.74 1459.58 2322.8 1455 Q2325.87 1450.39 2331.68 1450.39 Z\" fill=\"#000000\" fill-rule=\"evenodd\" fill-opacity=\"1\" /><path clip-path=\"url(#clip980)\" d=\"M1292.37 1546.53 L1292.37 1568.04 L1286.52 1568.04 L1286.52 1546.72 Q1286.52 1541.66 1284.54 1539.14 Q1282.57 1536.63 1278.62 1536.63 Q1273.88 1536.63 1271.14 1539.65 Q1268.41 1542.68 1268.41 1547.9 L1268.41 1568.04 L1262.52 1568.04 L1262.52 1518.52 L1268.41 1518.52 L1268.41 1537.93 Q1270.51 1534.72 1273.34 1533.13 Q1276.2 1531.54 1279.93 1531.54 Q1286.07 1531.54 1289.22 1535.36 Q1292.37 1539.14 1292.37 1546.53 Z\" fill=\"#000000\" fill-rule=\"evenodd\" fill-opacity=\"1\" /><path clip-path=\"url(#clip980)\" d=\"M1310.42 1562.63 L1332.86 1562.63 L1332.86 1568.04 L1302.69 1568.04 L1302.69 1562.63 Q1306.35 1558.85 1312.65 1552.48 Q1318.98 1546.08 1320.6 1544.24 Q1323.69 1540.77 1324.9 1538.38 Q1326.14 1535.96 1326.14 1533.64 Q1326.14 1529.85 1323.47 1527.46 Q1320.83 1525.08 1316.56 1525.08 Q1313.54 1525.08 1310.17 1526.13 Q1306.82 1527.18 1303 1529.31 L1303 1522.82 Q1306.89 1521.26 1310.26 1520.46 Q1313.63 1519.66 1316.44 1519.66 Q1323.82 1519.66 1328.21 1523.36 Q1332.6 1527.05 1332.6 1533.22 Q1332.6 1536.15 1331.49 1538.79 Q1330.41 1541.4 1327.51 1544.97 Q1326.72 1545.89 1322.45 1550.32 Q1318.19 1554.71 1310.42 1562.63 Z\" fill=\"#000000\" fill-rule=\"evenodd\" fill-opacity=\"1\" /><polyline clip-path=\"url(#clip982)\" style=\"stroke:#000000; stroke-linecap:round; stroke-linejoin:round; stroke-width:2; stroke-opacity:0.1; fill:none\" points=\"\n",
       "  242.621,1412.46 2352.76,1412.46 \n",
       "  \"/>\n",
       "<polyline clip-path=\"url(#clip982)\" style=\"stroke:#000000; stroke-linecap:round; stroke-linejoin:round; stroke-width:2; stroke-opacity:0.1; fill:none\" points=\"\n",
       "  242.621,1110.89 2352.76,1110.89 \n",
       "  \"/>\n",
       "<polyline clip-path=\"url(#clip982)\" style=\"stroke:#000000; stroke-linecap:round; stroke-linejoin:round; stroke-width:2; stroke-opacity:0.1; fill:none\" points=\"\n",
       "  242.621,809.318 2352.76,809.318 \n",
       "  \"/>\n",
       "<polyline clip-path=\"url(#clip982)\" style=\"stroke:#000000; stroke-linecap:round; stroke-linejoin:round; stroke-width:2; stroke-opacity:0.1; fill:none\" points=\"\n",
       "  242.621,507.745 2352.76,507.745 \n",
       "  \"/>\n",
       "<polyline clip-path=\"url(#clip982)\" style=\"stroke:#000000; stroke-linecap:round; stroke-linejoin:round; stroke-width:2; stroke-opacity:0.1; fill:none\" points=\"\n",
       "  242.621,206.172 2352.76,206.172 \n",
       "  \"/>\n",
       "<polyline clip-path=\"url(#clip980)\" style=\"stroke:#000000; stroke-linecap:round; stroke-linejoin:round; stroke-width:4; stroke-opacity:1; fill:none\" points=\"\n",
       "  242.621,1423.18 242.621,47.2441 \n",
       "  \"/>\n",
       "<polyline clip-path=\"url(#clip980)\" style=\"stroke:#000000; stroke-linecap:round; stroke-linejoin:round; stroke-width:4; stroke-opacity:1; fill:none\" points=\"\n",
       "  242.621,1412.46 261.518,1412.46 \n",
       "  \"/>\n",
       "<polyline clip-path=\"url(#clip980)\" style=\"stroke:#000000; stroke-linecap:round; stroke-linejoin:round; stroke-width:4; stroke-opacity:1; fill:none\" points=\"\n",
       "  242.621,1110.89 261.518,1110.89 \n",
       "  \"/>\n",
       "<polyline clip-path=\"url(#clip980)\" style=\"stroke:#000000; stroke-linecap:round; stroke-linejoin:round; stroke-width:4; stroke-opacity:1; fill:none\" points=\"\n",
       "  242.621,809.318 261.518,809.318 \n",
       "  \"/>\n",
       "<polyline clip-path=\"url(#clip980)\" style=\"stroke:#000000; stroke-linecap:round; stroke-linejoin:round; stroke-width:4; stroke-opacity:1; fill:none\" points=\"\n",
       "  242.621,507.745 261.518,507.745 \n",
       "  \"/>\n",
       "<polyline clip-path=\"url(#clip980)\" style=\"stroke:#000000; stroke-linecap:round; stroke-linejoin:round; stroke-width:4; stroke-opacity:1; fill:none\" points=\"\n",
       "  242.621,206.172 261.518,206.172 \n",
       "  \"/>\n",
       "<path clip-path=\"url(#clip980)\" d=\"M114.746 1412.92 L144.422 1412.92 L144.422 1416.85 L114.746 1416.85 L114.746 1412.92 Z\" fill=\"#000000\" fill-rule=\"evenodd\" fill-opacity=\"1\" /><path clip-path=\"url(#clip980)\" d=\"M165.093 1410.6 Q161.945 1410.6 160.093 1412.75 Q158.265 1414.91 158.265 1418.66 Q158.265 1422.38 160.093 1424.56 Q161.945 1426.71 165.093 1426.71 Q168.241 1426.71 170.07 1424.56 Q171.922 1422.38 171.922 1418.66 Q171.922 1414.91 170.07 1412.75 Q168.241 1410.6 165.093 1410.6 M174.376 1395.95 L174.376 1400.21 Q172.616 1399.37 170.811 1398.93 Q169.028 1398.49 167.269 1398.49 Q162.64 1398.49 160.186 1401.62 Q157.755 1404.74 157.408 1411.06 Q158.774 1409.05 160.834 1407.98 Q162.894 1406.9 165.371 1406.9 Q170.579 1406.9 173.589 1410.07 Q176.621 1413.22 176.621 1418.66 Q176.621 1423.98 173.473 1427.2 Q170.325 1430.42 165.093 1430.42 Q159.098 1430.42 155.927 1425.83 Q152.755 1421.23 152.755 1412.5 Q152.755 1404.3 156.644 1399.44 Q160.533 1394.56 167.084 1394.56 Q168.843 1394.56 170.626 1394.91 Q172.431 1395.25 174.376 1395.95 Z\" fill=\"#000000\" fill-rule=\"evenodd\" fill-opacity=\"1\" /><path clip-path=\"url(#clip980)\" d=\"M194.676 1398.26 Q191.065 1398.26 189.237 1401.83 Q187.431 1405.37 187.431 1412.5 Q187.431 1419.6 189.237 1423.17 Q191.065 1426.71 194.676 1426.71 Q198.311 1426.71 200.116 1423.17 Q201.945 1419.6 201.945 1412.5 Q201.945 1405.37 200.116 1401.83 Q198.311 1398.26 194.676 1398.26 M194.676 1394.56 Q200.487 1394.56 203.542 1399.17 Q206.621 1403.75 206.621 1412.5 Q206.621 1421.23 203.542 1425.83 Q200.487 1430.42 194.676 1430.42 Q188.866 1430.42 185.788 1425.83 Q182.732 1421.23 182.732 1412.5 Q182.732 1403.75 185.788 1399.17 Q188.866 1394.56 194.676 1394.56 Z\" fill=\"#000000\" fill-rule=\"evenodd\" fill-opacity=\"1\" /><path clip-path=\"url(#clip980)\" d=\"M114.839 1111.34 L144.515 1111.34 L144.515 1115.28 L114.839 1115.28 L114.839 1111.34 Z\" fill=\"#000000\" fill-rule=\"evenodd\" fill-opacity=\"1\" /><path clip-path=\"url(#clip980)\" d=\"M154.653 1093.61 L173.01 1093.61 L173.01 1097.55 L158.936 1097.55 L158.936 1106.02 Q159.954 1105.67 160.973 1105.51 Q161.991 1105.32 163.01 1105.32 Q168.797 1105.32 172.177 1108.49 Q175.556 1111.67 175.556 1117.08 Q175.556 1122.66 172.084 1125.76 Q168.612 1128.84 162.292 1128.84 Q160.116 1128.84 157.848 1128.47 Q155.603 1128.1 153.195 1127.36 L153.195 1122.66 Q155.278 1123.8 157.501 1124.35 Q159.723 1124.91 162.2 1124.91 Q166.204 1124.91 168.542 1122.8 Q170.88 1120.69 170.88 1117.08 Q170.88 1113.47 168.542 1111.37 Q166.204 1109.26 162.2 1109.26 Q160.325 1109.26 158.45 1109.68 Q156.598 1110.09 154.653 1110.97 L154.653 1093.61 Z\" fill=\"#000000\" fill-rule=\"evenodd\" fill-opacity=\"1\" /><path clip-path=\"url(#clip980)\" d=\"M194.769 1111.76 Q191.436 1111.76 189.514 1113.54 Q187.616 1115.32 187.616 1118.45 Q187.616 1121.57 189.514 1123.36 Q191.436 1125.14 194.769 1125.14 Q198.102 1125.14 200.024 1123.36 Q201.945 1121.55 201.945 1118.45 Q201.945 1115.32 200.024 1113.54 Q198.125 1111.76 194.769 1111.76 M190.093 1109.77 Q187.084 1109.03 185.394 1106.97 Q183.727 1104.91 183.727 1101.94 Q183.727 1097.8 186.667 1095.39 Q189.63 1092.99 194.769 1092.99 Q199.931 1092.99 202.871 1095.39 Q205.811 1097.8 205.811 1101.94 Q205.811 1104.91 204.121 1106.97 Q202.454 1109.03 199.468 1109.77 Q202.848 1110.56 204.723 1112.85 Q206.621 1115.14 206.621 1118.45 Q206.621 1123.47 203.542 1126.16 Q200.487 1128.84 194.769 1128.84 Q189.051 1128.84 185.973 1126.16 Q182.917 1123.47 182.917 1118.45 Q182.917 1115.14 184.815 1112.85 Q186.713 1110.56 190.093 1109.77 M188.38 1102.38 Q188.38 1105.07 190.047 1106.57 Q191.737 1108.08 194.769 1108.08 Q197.778 1108.08 199.468 1106.57 Q201.181 1105.07 201.181 1102.38 Q201.181 1099.7 199.468 1098.19 Q197.778 1096.69 194.769 1096.69 Q191.737 1096.69 190.047 1098.19 Q188.38 1099.7 188.38 1102.38 Z\" fill=\"#000000\" fill-rule=\"evenodd\" fill-opacity=\"1\" /><path clip-path=\"url(#clip980)\" d=\"M114.584 809.769 L144.26 809.769 L144.26 813.704 L114.584 813.704 L114.584 809.769 Z\" fill=\"#000000\" fill-rule=\"evenodd\" fill-opacity=\"1\" /><path clip-path=\"url(#clip980)\" d=\"M154.399 792.038 L172.755 792.038 L172.755 795.973 L158.681 795.973 L158.681 804.445 Q159.7 804.098 160.718 803.936 Q161.737 803.751 162.755 803.751 Q168.542 803.751 171.922 806.922 Q175.301 810.093 175.301 815.51 Q175.301 821.089 171.829 824.19 Q168.357 827.269 162.038 827.269 Q159.862 827.269 157.593 826.899 Q155.348 826.528 152.941 825.788 L152.941 821.089 Q155.024 822.223 157.246 822.778 Q159.468 823.334 161.945 823.334 Q165.95 823.334 168.288 821.227 Q170.626 819.121 170.626 815.51 Q170.626 811.899 168.288 809.792 Q165.95 807.686 161.945 807.686 Q160.07 807.686 158.195 808.103 Q156.343 808.519 154.399 809.399 L154.399 792.038 Z\" fill=\"#000000\" fill-rule=\"evenodd\" fill-opacity=\"1\" /><path clip-path=\"url(#clip980)\" d=\"M195.093 807.454 Q191.945 807.454 190.093 809.607 Q188.264 811.76 188.264 815.51 Q188.264 819.237 190.093 821.413 Q191.945 823.565 195.093 823.565 Q198.241 823.565 200.07 821.413 Q201.922 819.237 201.922 815.51 Q201.922 811.76 200.07 809.607 Q198.241 807.454 195.093 807.454 M204.375 792.802 L204.375 797.061 Q202.616 796.228 200.811 795.788 Q199.028 795.348 197.269 795.348 Q192.639 795.348 190.186 798.473 Q187.755 801.598 187.408 807.917 Q188.774 805.903 190.834 804.839 Q192.894 803.751 195.371 803.751 Q200.579 803.751 203.588 806.922 Q206.621 810.07 206.621 815.51 Q206.621 820.834 203.473 824.052 Q200.325 827.269 195.093 827.269 Q189.098 827.269 185.926 822.686 Q182.755 818.079 182.755 809.353 Q182.755 801.158 186.644 796.297 Q190.533 791.413 197.084 791.413 Q198.843 791.413 200.625 791.76 Q202.431 792.107 204.375 792.802 Z\" fill=\"#000000\" fill-rule=\"evenodd\" fill-opacity=\"1\" /><path clip-path=\"url(#clip980)\" d=\"M114.26 508.196 L143.936 508.196 L143.936 512.131 L114.26 512.131 L114.26 508.196 Z\" fill=\"#000000\" fill-rule=\"evenodd\" fill-opacity=\"1\" /><path clip-path=\"url(#clip980)\" d=\"M154.075 490.465 L172.431 490.465 L172.431 494.4 L158.357 494.4 L158.357 502.872 Q159.376 502.525 160.394 502.363 Q161.413 502.178 162.431 502.178 Q168.218 502.178 171.598 505.349 Q174.977 508.52 174.977 513.937 Q174.977 519.516 171.505 522.617 Q168.033 525.696 161.714 525.696 Q159.538 525.696 157.269 525.326 Q155.024 524.955 152.616 524.215 L152.616 519.516 Q154.7 520.65 156.922 521.205 Q159.144 521.761 161.621 521.761 Q165.626 521.761 167.964 519.654 Q170.302 517.548 170.302 513.937 Q170.302 510.326 167.964 508.219 Q165.626 506.113 161.621 506.113 Q159.746 506.113 157.871 506.53 Q156.019 506.946 154.075 507.826 L154.075 490.465 Z\" fill=\"#000000\" fill-rule=\"evenodd\" fill-opacity=\"1\" /><path clip-path=\"url(#clip980)\" d=\"M197.037 494.539 L185.232 512.988 L197.037 512.988 L197.037 494.539 M195.811 490.465 L201.69 490.465 L201.69 512.988 L206.621 512.988 L206.621 516.877 L201.69 516.877 L201.69 525.025 L197.037 525.025 L197.037 516.877 L181.436 516.877 L181.436 512.363 L195.811 490.465 Z\" fill=\"#000000\" fill-rule=\"evenodd\" fill-opacity=\"1\" /><path clip-path=\"url(#clip980)\" d=\"M116.343 206.623 L146.019 206.623 L146.019 210.558 L116.343 210.558 L116.343 206.623 Z\" fill=\"#000000\" fill-rule=\"evenodd\" fill-opacity=\"1\" /><path clip-path=\"url(#clip980)\" d=\"M156.158 188.892 L174.514 188.892 L174.514 192.827 L160.44 192.827 L160.44 201.299 Q161.459 200.952 162.477 200.79 Q163.496 200.605 164.515 200.605 Q170.302 200.605 173.681 203.776 Q177.061 206.947 177.061 212.364 Q177.061 217.943 173.589 221.044 Q170.116 224.123 163.797 224.123 Q161.621 224.123 159.353 223.753 Q157.107 223.382 154.7 222.642 L154.7 217.943 Q156.783 219.077 159.005 219.632 Q161.227 220.188 163.704 220.188 Q167.709 220.188 170.047 218.081 Q172.385 215.975 172.385 212.364 Q172.385 208.753 170.047 206.646 Q167.709 204.54 163.704 204.54 Q161.829 204.54 159.954 204.957 Q158.103 205.373 156.158 206.253 L156.158 188.892 Z\" fill=\"#000000\" fill-rule=\"evenodd\" fill-opacity=\"1\" /><path clip-path=\"url(#clip980)\" d=\"M190.301 219.517 L206.621 219.517 L206.621 223.452 L184.676 223.452 L184.676 219.517 Q187.338 216.762 191.922 212.132 Q196.528 207.48 197.709 206.137 Q199.954 203.614 200.834 201.878 Q201.737 200.119 201.737 198.429 Q201.737 195.674 199.792 193.938 Q197.871 192.202 194.769 192.202 Q192.57 192.202 190.116 192.966 Q187.686 193.73 184.908 195.281 L184.908 190.558 Q187.732 189.424 190.186 188.845 Q192.639 188.267 194.676 188.267 Q200.047 188.267 203.241 190.952 Q206.436 193.637 206.436 198.128 Q206.436 200.257 205.625 202.179 Q204.838 204.077 202.732 206.669 Q202.153 207.341 199.051 210.558 Q195.95 213.753 190.301 219.517 Z\" fill=\"#000000\" fill-rule=\"evenodd\" fill-opacity=\"1\" /><path clip-path=\"url(#clip980)\" d=\"M14.479 818.714 L14.479 812.858 L64.0042 812.858 L64.0042 818.714 L14.479 818.714 Z\" fill=\"#000000\" fill-rule=\"evenodd\" fill-opacity=\"1\" /><path clip-path=\"url(#clip980)\" d=\"M32.4621 786.79 Q32.4621 791.501 36.1542 794.238 Q39.8145 796.975 46.212 796.975 Q52.6095 796.975 56.3017 794.27 Q59.9619 791.533 59.9619 786.79 Q59.9619 782.111 56.2698 779.374 Q52.5777 776.637 46.212 776.637 Q39.8781 776.637 36.186 779.374 Q32.4621 782.111 32.4621 786.79 M27.4968 786.79 Q27.4968 779.151 32.4621 774.791 Q37.4273 770.43 46.212 770.43 Q54.9649 770.43 59.9619 774.791 Q64.9272 779.151 64.9272 786.79 Q64.9272 794.461 59.9619 798.821 Q54.9649 803.15 46.212 803.15 Q37.4273 803.15 32.4621 798.821 Q27.4968 794.461 27.4968 786.79 Z\" fill=\"#000000\" fill-rule=\"evenodd\" fill-opacity=\"1\" /><path clip-path=\"url(#clip980)\" d=\"M45.7664 737.265 Q39.4007 737.265 35.8996 739.907 Q32.3984 742.517 32.3984 747.259 Q32.3984 751.97 35.8996 754.611 Q39.4007 757.221 45.7664 757.221 Q52.1003 757.221 55.6014 754.611 Q59.1026 751.97 59.1026 747.259 Q59.1026 742.517 55.6014 739.907 Q52.1003 737.265 45.7664 737.265 M59.58 731.408 Q68.683 731.408 73.1071 735.451 Q77.5631 739.493 77.5631 747.832 Q77.5631 750.919 77.0857 753.657 Q76.6401 756.394 75.6852 758.972 L69.9879 758.972 Q71.3884 756.394 72.0568 753.879 Q72.7252 751.365 72.7252 748.755 Q72.7252 742.994 69.7015 740.129 Q66.7096 737.265 60.6303 737.265 L57.7339 737.265 Q60.885 739.079 62.4446 741.912 Q64.0042 744.745 64.0042 748.691 Q64.0042 755.248 59.0071 759.258 Q54.01 763.269 45.7664 763.269 Q37.491 763.269 32.4939 759.258 Q27.4968 755.248 27.4968 748.691 Q27.4968 744.745 29.0564 741.912 Q30.616 739.079 33.7671 737.265 L28.3562 737.265 L28.3562 731.408 L59.58 731.408 Z\" fill=\"#000000\" fill-rule=\"evenodd\" fill-opacity=\"1\" /><path clip-path=\"url(#clip980)\" d=\"M14.479 719.345 L14.479 713.489 L64.0042 713.489 L64.0042 719.345 L14.479 719.345 Z\" fill=\"#000000\" fill-rule=\"evenodd\" fill-opacity=\"1\" /><path clip-path=\"url(#clip980)\" d=\"M28.3562 701.235 L28.3562 695.379 L64.0042 695.379 L64.0042 701.235 L28.3562 701.235 M14.479 701.235 L14.479 695.379 L21.895 695.379 L21.895 701.235 L14.479 701.235 Z\" fill=\"#000000\" fill-rule=\"evenodd\" fill-opacity=\"1\" /><path clip-path=\"url(#clip980)\" d=\"M14.479 683.347 L14.479 677.459 L43.7294 677.459 L28.3562 659.985 L28.3562 652.506 L45.0344 671.412 L64.0042 651.71 L64.0042 659.349 L46.5939 677.459 L64.0042 677.459 L64.0042 683.347 L14.479 683.347 Z\" fill=\"#000000\" fill-rule=\"evenodd\" fill-opacity=\"1\" /><polyline clip-path=\"url(#clip982)\" style=\"stroke:#0000ff; stroke-linecap:round; stroke-linejoin:round; stroke-width:4; stroke-opacity:1; fill:none\" points=\"\n",
       "  302.342,1384.24 304.336,1382.11 306.331,1379.99 308.326,1377.88 310.32,1375.77 312.315,1373.67 314.31,1371.57 316.304,1369.48 318.299,1367.4 320.294,1365.33 \n",
       "  322.288,1363.26 324.283,1361.2 326.278,1359.14 328.272,1357.09 330.267,1355.05 332.262,1353.01 334.257,1350.98 336.251,1348.95 338.246,1346.93 340.241,1344.92 \n",
       "  342.235,1342.92 344.23,1340.91 346.225,1338.92 348.219,1336.93 350.214,1334.95 352.209,1332.97 354.203,1331 356.198,1329.04 358.193,1327.08 360.187,1325.13 \n",
       "  362.182,1323.18 364.177,1321.24 366.171,1319.3 368.166,1317.37 370.161,1315.45 372.155,1313.53 374.15,1311.62 376.145,1309.71 378.14,1307.81 380.134,1305.91 \n",
       "  382.129,1304.02 384.124,1302.14 386.118,1300.26 388.113,1298.38 390.108,1296.51 392.102,1294.65 394.097,1292.79 396.092,1290.94 398.086,1289.09 400.081,1287.25 \n",
       "  402.076,1285.41 404.07,1283.58 406.065,1281.76 408.06,1279.94 410.054,1278.12 412.049,1276.31 414.044,1274.5 416.039,1272.7 418.033,1270.91 420.028,1269.12 \n",
       "  422.023,1267.33 424.017,1265.55 426.012,1263.78 428.007,1262.01 430.001,1260.24 431.996,1258.48 433.991,1256.73 435.985,1254.98 437.98,1253.23 439.975,1251.49 \n",
       "  441.969,1249.76 443.964,1248.02 445.959,1246.3 447.953,1244.58 449.948,1242.86 451.943,1241.15 453.937,1239.44 455.932,1237.74 457.927,1236.04 459.922,1234.35 \n",
       "  461.916,1232.66 463.911,1230.97 465.906,1229.29 467.9,1227.62 469.895,1225.95 471.89,1224.28 473.884,1222.62 475.879,1220.96 477.874,1219.31 479.868,1217.66 \n",
       "  481.863,1216.02 483.858,1214.38 485.852,1212.75 487.847,1211.12 489.842,1209.49 491.836,1207.87 493.831,1206.25 495.826,1204.64 497.821,1203.03 499.815,1201.42 \n",
       "  501.81,1199.82 503.805,1198.23 505.799,1196.64 507.794,1195.05 509.789,1193.47 511.783,1191.89 513.778,1190.31 515.773,1188.74 517.767,1187.17 519.762,1185.61 \n",
       "  521.757,1184.05 523.751,1182.5 525.746,1180.95 527.741,1179.4 529.735,1177.86 531.73,1176.32 533.725,1174.78 535.719,1173.25 537.714,1171.73 539.709,1170.2 \n",
       "  541.704,1168.69 543.698,1167.17 545.693,1165.66 547.688,1164.15 549.682,1162.65 551.677,1161.15 553.672,1159.65 555.666,1158.16 557.661,1156.67 559.656,1155.19 \n",
       "  561.65,1153.71 563.645,1152.23 565.64,1150.76 567.634,1149.29 569.629,1147.82 571.624,1146.36 573.618,1144.9 575.613,1143.45 577.608,1142 579.603,1140.55 \n",
       "  581.597,1139.11 583.592,1137.67 585.587,1136.23 587.581,1134.8 589.576,1133.37 591.571,1131.94 593.565,1130.52 595.56,1129.1 597.555,1127.69 599.549,1126.28 \n",
       "  601.544,1124.87 603.539,1123.46 605.533,1122.06 607.528,1120.67 609.523,1119.27 611.517,1117.88 613.512,1116.49 615.507,1115.11 617.501,1113.73 619.496,1112.35 \n",
       "  621.491,1110.98 623.486,1109.61 625.48,1108.24 627.475,1106.88 629.47,1105.51 631.464,1104.16 633.459,1102.8 635.454,1101.45 637.448,1100.11 639.443,1098.76 \n",
       "  641.438,1097.42 643.432,1096.08 645.427,1094.75 647.422,1093.42 649.416,1092.09 651.411,1090.76 653.406,1089.44 655.4,1088.12 657.395,1086.81 659.39,1085.5 \n",
       "  661.384,1084.19 663.379,1082.88 665.374,1081.58 667.369,1080.28 669.363,1078.98 671.358,1077.69 673.353,1076.4 675.347,1075.11 677.342,1073.83 679.337,1072.54 \n",
       "  681.331,1071.27 683.326,1069.99 685.321,1068.72 687.315,1067.45 689.31,1066.18 691.305,1064.92 693.299,1063.66 695.294,1062.4 697.289,1061.15 699.283,1059.89 \n",
       "  701.278,1058.65 703.273,1057.4 705.268,1056.16 707.262,1054.92 709.257,1053.68 711.252,1052.45 713.246,1051.21 715.241,1049.99 717.236,1048.76 719.23,1047.54 \n",
       "  721.225,1046.32 723.22,1045.1 725.214,1043.89 727.209,1042.67 729.204,1041.47 731.198,1040.26 733.193,1039.06 735.188,1037.86 737.182,1036.66 739.177,1035.46 \n",
       "  741.172,1034.27 743.166,1033.08 745.161,1031.89 747.156,1030.71 749.151,1029.53 751.145,1028.35 753.14,1027.17 755.135,1026 757.129,1024.83 759.124,1023.66 \n",
       "  761.119,1022.49 763.113,1021.33 765.108,1020.17 767.103,1019.01 769.097,1017.86 771.092,1016.71 773.087,1015.56 775.081,1014.41 777.076,1013.27 779.071,1012.12 \n",
       "  781.065,1010.98 783.06,1009.85 785.055,1008.71 787.05,1007.58 789.044,1006.45 791.039,1005.32 793.034,1004.2 795.028,1003.08 797.023,1001.96 799.018,1000.84 \n",
       "  801.012,999.728 803.007,998.616 805.002,997.507 806.996,996.4 808.991,995.296 810.986,994.194 812.98,993.094 814.975,991.997 816.97,990.902 818.964,989.81 \n",
       "  820.959,988.72 822.954,987.633 824.948,986.548 826.943,985.465 828.938,984.385 830.933,983.307 832.927,982.231 834.922,981.158 836.917,980.087 838.911,979.019 \n",
       "  840.906,977.952 842.901,976.889 844.895,975.827 846.89,974.768 848.885,973.711 850.879,972.657 852.874,971.604 854.869,970.554 856.863,969.507 858.858,968.461 \n",
       "  860.853,967.418 862.847,966.377 864.842,965.338 866.837,964.302 868.832,963.268 870.826,962.236 872.821,961.206 874.816,960.179 876.81,959.154 878.805,958.131 \n",
       "  880.8,957.11 882.794,956.091 884.789,955.075 886.784,954.061 888.778,953.049 890.773,952.039 892.768,951.031 894.762,950.026 896.757,949.022 898.752,948.021 \n",
       "  900.746,947.022 902.741,946.025 904.736,945.03 906.73,944.038 908.725,943.047 910.72,942.059 912.715,941.073 914.709,940.088 916.704,939.106 918.699,938.126 \n",
       "  920.693,937.148 922.688,936.172 924.683,935.199 926.677,934.227 928.672,933.257 930.667,932.29 932.661,931.324 934.656,930.361 936.651,929.399 938.645,928.44 \n",
       "  940.64,927.483 942.635,926.527 944.629,925.574 946.624,924.623 948.619,923.674 950.614,922.726 952.608,921.781 954.603,920.838 956.598,919.896 958.592,918.957 \n",
       "  960.587,918.02 962.582,917.085 964.576,916.151 966.571,915.22 968.566,914.29 970.56,913.363 972.555,912.437 974.55,911.514 976.544,910.592 978.539,909.672 \n",
       "  980.534,908.755 982.528,907.839 984.523,906.925 986.518,906.013 988.512,905.103 990.507,904.194 992.502,903.288 994.497,902.384 996.491,901.481 998.486,900.58 \n",
       "  1000.48,899.682 1002.48,898.785 1004.47,897.89 1006.46,896.997 1008.46,896.105 1010.45,895.216 1012.45,894.328 1014.44,893.443 1016.44,892.559 1018.43,891.677 \n",
       "  1020.43,890.797 1022.42,889.918 1024.42,889.042 1026.41,888.167 1028.41,887.294 1030.4,886.423 1032.4,885.554 1034.39,884.686 1036.38,883.821 1038.38,882.957 \n",
       "  1040.37,882.095 1042.37,881.235 1044.36,880.376 1046.36,879.519 1048.35,878.665 1050.35,877.811 1052.34,876.96 1054.34,876.11 1056.33,875.263 1058.33,874.416 \n",
       "  1060.32,873.572 1062.32,872.73 1064.31,871.889 1066.31,871.05 1068.3,870.212 1070.29,869.377 1072.29,868.543 1074.28,867.71 1076.28,866.88 1078.27,866.051 \n",
       "  1080.27,865.224 1082.26,864.399 1084.26,863.575 1086.25,862.753 1088.25,861.933 1090.24,861.115 1092.24,860.298 1094.23,859.483 1096.23,858.669 1098.22,857.857 \n",
       "  1100.21,857.047 1102.21,856.239 1104.2,855.432 1106.2,854.627 1108.19,853.824 1110.19,853.022 1112.18,852.222 1114.18,851.423 1116.17,850.627 1118.17,849.831 \n",
       "  1120.16,849.038 1122.16,848.246 1124.15,847.456 1126.15,846.667 1128.14,845.88 1130.13,845.095 1132.13,844.311 1134.12,843.529 1136.12,842.748 1138.11,841.969 \n",
       "  1140.11,841.192 1142.1,840.416 1144.1,839.642 1146.09,838.87 1148.09,838.099 1150.08,837.33 1152.08,836.562 1154.07,835.796 1156.07,835.031 1158.06,834.268 \n",
       "  1160.06,833.507 1162.05,832.747 1164.04,831.989 1166.04,831.232 1168.03,830.477 1170.03,829.724 1172.02,828.972 1174.02,828.221 1176.01,827.472 1178.01,826.725 \n",
       "  1180,825.979 1182,825.235 1183.99,824.492 1185.99,823.751 1187.98,823.012 1189.98,822.273 1191.97,821.537 1193.96,820.802 1195.96,820.068 1197.95,819.336 \n",
       "  1199.95,818.606 1201.94,817.877 1203.94,817.15 1205.93,816.424 1207.93,815.699 1209.92,814.976 1211.92,814.255 1213.91,813.535 1215.91,812.817 1217.9,812.1 \n",
       "  1219.9,811.384 1221.89,810.67 1223.89,809.958 1225.88,809.247 1227.87,808.537 1229.87,807.829 1231.86,807.123 1233.86,806.418 1235.85,805.714 1237.85,805.012 \n",
       "  1239.84,804.311 1241.84,803.612 1243.83,802.914 1245.83,802.218 1247.82,801.523 1249.82,800.83 1251.81,800.138 1253.81,799.448 1255.8,798.759 1257.79,798.071 \n",
       "  1259.79,797.385 1261.78,796.7 1263.78,796.017 1265.77,795.335 1267.77,794.655 1269.76,793.976 1271.76,793.298 1273.75,792.622 1275.75,791.948 1277.74,791.274 \n",
       "  1279.74,790.602 1281.73,789.932 1283.73,789.263 1285.72,788.595 1287.71,787.929 1289.71,787.265 1291.7,786.601 1293.7,785.939 1295.69,785.279 1297.69,784.62 \n",
       "  1299.68,783.962 1301.68,783.305 1303.67,782.65 1305.67,781.997 1307.66,781.345 1309.66,780.694 1311.65,780.045 1313.65,779.397 1315.64,778.75 1317.64,778.105 \n",
       "  1319.63,777.461 1321.62,776.818 1323.62,776.177 1325.61,775.537 1327.61,774.899 1329.6,774.262 1331.6,773.626 1333.59,772.992 1335.59,772.359 1337.58,771.728 \n",
       "  1339.58,771.097 1341.57,770.469 1343.57,769.841 1345.56,769.215 1347.56,768.59 1349.55,767.967 1351.54,767.345 1353.54,766.724 1355.53,766.105 1357.53,765.487 \n",
       "  1359.52,764.87 1361.52,764.255 1363.51,763.641 1365.51,763.028 1367.5,762.417 1369.5,761.807 1371.49,761.198 1373.49,760.591 1375.48,759.985 1377.48,759.38 \n",
       "  1379.47,758.777 1381.47,758.175 1383.46,757.574 1385.45,756.974 1387.45,756.376 1389.44,755.78 1391.44,755.184 1393.43,754.59 1395.43,753.997 1397.42,753.406 \n",
       "  1399.42,752.816 1401.41,752.227 1403.41,751.639 1405.4,751.053 1407.4,750.468 1409.39,749.884 1411.39,749.302 1413.38,748.721 1415.37,748.141 1417.37,747.563 \n",
       "  1419.36,746.986 1421.36,746.41 1423.35,745.835 1425.35,745.262 1427.34,744.69 1429.34,744.119 1431.33,743.55 1433.33,742.982 1435.32,742.415 1437.32,741.849 \n",
       "  1439.31,741.285 1441.31,740.722 1443.3,740.161 1445.29,739.6 1447.29,739.041 1449.28,738.483 1451.28,737.927 1453.27,737.371 1455.27,736.817 1457.26,736.264 \n",
       "  1459.26,735.713 1461.25,735.163 1463.25,734.614 1465.24,734.066 1467.24,733.52 1469.23,732.974 1471.23,732.431 1473.22,731.888 1475.22,731.347 1477.21,730.806 \n",
       "  1479.2,730.268 1481.2,729.73 1483.19,729.194 1485.19,728.659 1487.18,728.125 1489.18,727.592 1491.17,727.061 1493.17,726.531 1495.16,726.002 1497.16,725.474 \n",
       "  1499.15,724.948 1501.15,724.423 1503.14,723.899 1505.14,723.377 1507.13,722.855 1509.12,722.335 1511.12,721.816 1513.11,721.299 1515.11,720.782 1517.1,720.267 \n",
       "  1519.1,719.753 1521.09,719.241 1523.09,718.729 1525.08,718.219 1527.08,717.71 1529.07,717.202 1531.07,716.696 1533.06,716.191 1535.06,715.687 1537.05,715.184 \n",
       "  1539.04,714.682 1541.04,714.182 1543.03,713.683 1545.03,713.185 1547.02,712.688 1549.02,712.193 1551.01,711.699 1553.01,711.206 1555,710.714 1557,710.223 \n",
       "  1558.99,709.734 1560.99,709.246 1562.98,708.759 1564.98,708.274 1566.97,707.789 1568.97,707.306 1570.96,706.824 1572.95,706.343 1574.95,705.863 1576.94,705.385 \n",
       "  1578.94,704.908 1580.93,704.432 1582.93,703.957 1584.92,703.484 1586.92,703.011 1588.91,702.54 1590.91,702.07 1592.9,701.601 1594.9,701.134 1596.89,700.668 \n",
       "  1598.89,700.203 1600.88,699.739 1602.87,699.276 1604.87,698.814 1606.86,698.354 1608.86,697.895 1610.85,697.437 1612.85,696.98 1614.84,696.525 1616.84,696.071 \n",
       "  1618.83,695.617 1620.83,695.165 1622.82,694.715 1624.82,694.265 1626.81,693.817 1628.81,693.37 1630.8,692.924 1632.8,692.479 1634.79,692.035 1636.78,691.593 \n",
       "  1638.78,691.152 1640.77,690.711 1642.77,690.273 1644.76,689.835 1646.76,689.398 1648.75,688.963 1650.75,688.529 1652.74,688.096 1654.74,687.664 1656.73,687.234 \n",
       "  1658.73,686.804 1660.72,686.376 1662.72,685.949 1664.71,685.523 1666.7,685.098 1668.7,684.674 1670.69,684.252 1672.69,683.831 1674.68,683.411 1676.68,682.992 \n",
       "  1678.67,682.574 1680.67,682.158 1682.66,681.742 1684.66,681.328 1686.65,680.915 1688.65,680.503 1690.64,680.092 1692.64,679.683 1694.63,679.274 1696.62,678.867 \n",
       "  1698.62,678.461 1700.61,678.056 1702.61,677.652 1704.6,677.249 1706.6,676.848 1708.59,676.447 1710.59,676.048 1712.58,675.65 1714.58,675.253 1716.57,674.857 \n",
       "  1718.57,674.463 1720.56,674.069 1722.56,673.677 1724.55,673.285 1726.55,672.895 1728.54,672.506 1730.53,672.119 1732.53,671.732 1734.52,671.346 1736.52,670.962 \n",
       "  1738.51,670.578 1740.51,670.196 1742.5,669.815 1744.5,669.435 1746.49,669.056 1748.49,668.679 1750.48,668.302 1752.48,667.927 1754.47,667.552 1756.47,667.179 \n",
       "  1758.46,666.807 1760.45,666.436 1762.45,666.066 1764.44,665.697 1766.44,665.329 1768.43,664.963 1770.43,664.597 1772.42,664.233 1774.42,663.869 1776.41,663.507 \n",
       "  1778.41,663.146 1780.4,662.786 1782.4,662.427 1784.39,662.069 1786.39,661.712 1788.38,661.356 1790.38,661.002 1792.37,660.648 1794.36,660.296 1796.36,659.944 \n",
       "  1798.35,659.594 1800.35,659.244 1802.34,658.896 1804.34,658.549 1806.33,658.203 1808.33,657.857 1810.32,657.513 1812.32,657.17 1814.31,656.828 1816.31,656.487 \n",
       "  1818.3,656.147 1820.3,655.808 1822.29,655.47 1824.28,655.133 1826.28,654.797 1828.27,654.463 1830.27,654.129 1832.26,653.796 1834.26,653.464 1836.25,653.133 \n",
       "  1838.25,652.803 1840.24,652.474 1842.24,652.146 1844.23,651.819 1846.23,651.493 1848.22,651.168 1850.22,650.844 1852.21,650.521 1854.2,650.199 1856.2,649.878 \n",
       "  1858.19,649.558 1860.19,649.238 1862.18,648.92 1864.18,648.602 1866.17,648.286 1868.17,647.97 1870.16,647.655 1872.16,647.342 1874.15,647.029 1876.15,646.717 \n",
       "  1878.14,646.405 1880.14,646.095 1882.13,645.786 1884.13,645.477 1886.12,645.169 1888.11,644.862 1890.11,644.556 1892.1,644.251 1894.1,643.947 1896.09,643.643 \n",
       "  1898.09,643.34 1900.08,643.038 1902.08,642.737 1904.07,642.436 1906.07,642.137 1908.06,641.838 1910.06,641.54 1912.05,641.242 1914.05,640.945 1916.04,640.649 \n",
       "  1918.03,640.354 1920.03,640.059 1922.02,639.765 1924.02,639.472 1926.01,639.18 1928.01,638.888 1930,638.596 1932,638.306 1933.99,638.016 1935.99,637.726 \n",
       "  1937.98,637.437 1939.98,637.149 1941.97,636.861 1943.97,636.574 1945.96,636.287 1947.95,636.001 1949.95,635.715 1951.94,635.43 1953.94,635.145 1955.93,634.861 \n",
       "  1957.93,634.577 1959.92,634.293 1961.92,634.01 1963.91,633.727 1965.91,633.445 1967.9,633.163 1969.9,632.881 1971.89,632.6 1973.89,632.319 1975.88,632.038 \n",
       "  1977.88,631.757 1979.87,631.477 1981.86,631.196 1983.86,630.916 1985.85,630.636 1987.85,630.356 1989.84,630.077 1991.84,629.797 1993.83,629.517 1995.83,629.238 \n",
       "  1997.82,628.958 1999.82,628.678 2001.81,628.398 2003.81,628.118 2005.8,627.838 2007.8,627.558 2009.79,627.278 2011.78,626.997 2013.78,626.716 2015.77,626.435 \n",
       "  2017.77,626.153 2019.76,625.871 2021.76,625.589 2023.75,625.306 2025.75,625.022 2027.74,624.738 2029.74,624.454 2031.73,624.169 2033.73,623.883 2035.72,623.596 \n",
       "  2037.72,623.309 2039.71,623.021 2041.71,622.732 2043.7,622.442 2045.69,622.151 2047.69,621.859 2049.68,621.566 2051.68,621.272 2053.67,620.977 2055.67,620.68 \n",
       "  2057.66,620.382 2059.66,620.083 2061.65,619.782 2063.65,619.48 2065.64,619.176 2067.64,618.87 2069.63,618.563 2071.63,618.253 2073.62,617.942 2075.61,617.629 \n",
       "  2077.61,617.314 2079.6,616.997 2081.6,616.677 2083.59,616.355 2085.59,616.03 2087.58,615.704 2089.58,615.374 2091.57,615.042 2093.57,614.706 2095.56,614.368 \n",
       "  2097.56,614.027 2099.55,613.682 2101.55,613.334 2103.54,612.983 2105.53,612.628 2107.53,612.269 2109.52,611.906 2111.52,611.54 2113.51,611.169 2115.51,610.794 \n",
       "  2117.5,610.414 2119.5,610.029 2121.49,609.64 2123.49,609.246 2125.48,608.846 2127.48,608.441 2129.47,608.03 2131.47,607.614 2133.46,607.191 2135.46,606.762 \n",
       "  2137.45,606.326 2139.44,605.884 2141.44,605.434 2143.43,604.977 2145.43,604.513 2147.42,604.04 2149.42,603.559 2151.41,603.07 2153.41,602.572 2155.4,602.064 \n",
       "  2157.4,601.547 2159.39,601.02 2161.39,600.482 2163.38,599.934 2165.38,599.374 2167.37,598.803 2169.36,598.219 2171.36,597.622 2173.35,597.013 2175.35,596.389 \n",
       "  2177.34,595.751 2179.34,595.098 2181.33,594.429 2183.33,593.743 2185.32,593.041 2187.32,592.32 2189.31,591.581 2191.31,590.822 2193.3,590.043 2195.3,589.241 \n",
       "  2197.29,588.418 2199.29,587.57 2201.28,586.698 2203.27,585.799 2205.27,584.873 2207.26,583.918 2209.26,582.932 2211.25,581.914 2213.25,580.863 2215.24,579.775 \n",
       "  2217.24,578.649 2219.23,577.483 2221.23,576.275 2223.22,575.021 2225.22,573.719 2227.21,572.365 2229.21,570.957 2231.2,569.491 2233.19,567.962 2235.19,566.366 \n",
       "  2237.18,564.698 2239.18,562.953 2241.17,561.124 2243.17,559.204 2245.16,557.186 2247.16,555.061 2249.15,552.82 2251.15,550.451 2253.14,547.941 2255.14,545.276 \n",
       "  2257.13,542.439 2259.13,539.41 2261.12,536.166 2263.11,532.679 2265.11,528.917 2267.1,524.84 2269.1,520.399 2271.09,515.532 2273.09,510.164 2275.08,504.195 \n",
       "  2277.08,497.495 2279.07,489.885 2281.07,481.118 2283.06,470.826 2285.06,458.444 2287.05,443.018 2289.05,422.764 2291.04,393.669 2293.04,342.927 \n",
       "  \"/>\n",
       "<polyline clip-path=\"url(#clip982)\" style=\"stroke:#ff0000; stroke-linecap:round; stroke-linejoin:round; stroke-width:4; stroke-opacity:1; fill:none\" points=\"\n",
       "  302.342,992.159 304.336,989.837 306.331,987.524 308.326,985.219 310.32,982.921 312.315,980.632 314.31,978.351 316.304,976.078 318.299,973.812 320.294,971.555 \n",
       "  322.288,969.305 324.283,967.063 326.278,964.829 328.272,962.602 330.267,960.383 332.262,958.172 334.257,955.968 336.251,953.771 338.246,951.582 340.241,949.401 \n",
       "  342.235,947.227 344.23,945.06 346.225,942.901 348.219,940.748 350.214,938.603 352.209,936.466 354.203,934.335 356.198,932.212 358.193,930.095 360.187,927.986 \n",
       "  362.182,925.884 364.177,923.789 366.171,921.7 368.166,919.619 370.161,917.544 372.155,915.477 374.15,913.416 376.145,911.362 378.14,909.314 380.134,907.274 \n",
       "  382.129,905.24 384.124,903.212 386.118,901.192 388.113,899.178 390.108,897.17 392.102,895.169 394.097,893.174 396.092,891.186 398.086,889.205 400.081,887.229 \n",
       "  402.076,885.26 404.07,883.298 406.065,881.341 408.06,879.391 410.054,877.448 412.049,875.51 414.044,873.579 416.039,871.653 418.033,869.734 420.028,867.821 \n",
       "  422.023,865.914 424.017,864.013 426.012,862.119 428.007,860.23 430.001,858.347 431.996,856.47 433.991,854.599 435.985,852.733 437.98,850.874 439.975,849.02 \n",
       "  441.969,847.173 443.964,845.331 445.959,843.494 447.953,841.664 449.948,839.839 451.943,838.02 453.937,836.206 455.932,834.398 457.927,832.596 459.922,830.799 \n",
       "  461.916,829.008 463.911,827.222 465.906,825.442 467.9,823.667 469.895,821.898 471.89,820.134 473.884,818.376 475.879,816.623 477.874,814.875 479.868,813.132 \n",
       "  481.863,811.395 483.858,809.664 485.852,807.937 487.847,806.216 489.842,804.5 491.836,802.789 493.831,801.083 495.826,799.382 497.821,797.687 499.815,795.996 \n",
       "  501.81,794.311 503.805,792.631 505.799,790.956 507.794,789.286 509.789,787.62 511.783,785.96 513.778,784.305 515.773,782.655 517.767,781.009 519.762,779.369 \n",
       "  521.757,777.733 523.751,776.103 525.746,774.477 527.741,772.856 529.735,771.239 531.73,769.628 533.725,768.021 535.719,766.419 537.714,764.822 539.709,763.229 \n",
       "  541.704,761.642 543.698,760.058 545.693,758.48 547.688,756.906 549.682,755.336 551.677,753.772 553.672,752.212 555.666,750.656 557.661,749.105 559.656,747.558 \n",
       "  561.65,746.016 563.645,744.479 565.64,742.946 567.634,741.417 569.629,739.893 571.624,738.373 573.618,736.857 575.613,735.346 577.608,733.84 579.603,732.337 \n",
       "  581.597,730.839 583.592,729.346 585.587,727.856 587.581,726.371 589.576,724.89 591.571,723.414 593.565,721.942 595.56,720.473 597.555,719.01 599.549,717.55 \n",
       "  601.544,716.094 603.539,714.643 605.533,713.196 607.528,711.752 609.523,710.313 611.517,708.878 613.512,707.448 615.507,706.021 617.501,704.598 619.496,703.179 \n",
       "  621.491,701.765 623.486,700.354 625.48,698.947 627.475,697.544 629.47,696.146 631.464,694.751 633.459,693.36 635.454,691.973 637.448,690.59 639.443,689.211 \n",
       "  641.438,687.835 643.432,686.464 645.427,685.096 647.422,683.732 649.416,682.373 651.411,681.016 653.406,679.664 655.4,678.316 657.395,676.971 659.39,675.63 \n",
       "  661.384,674.292 663.379,672.959 665.374,671.629 667.369,670.303 669.363,668.98 671.358,667.662 673.353,666.346 675.347,665.035 677.342,663.727 679.337,662.423 \n",
       "  681.331,661.122 683.326,659.825 685.321,658.532 687.315,657.242 689.31,655.956 691.305,654.673 693.299,653.394 695.294,652.119 697.289,650.846 699.283,649.578 \n",
       "  701.278,648.313 703.273,647.051 705.268,645.793 707.262,644.538 709.257,643.287 711.252,642.039 713.246,640.795 715.241,639.554 717.236,638.316 719.23,637.082 \n",
       "  721.225,635.851 723.22,634.624 725.214,633.4 727.209,632.179 729.204,630.962 731.198,629.748 733.193,628.537 735.188,627.33 737.182,626.126 739.177,624.925 \n",
       "  741.172,623.727 743.166,622.533 745.161,621.342 747.156,620.154 749.151,618.969 751.145,617.788 753.14,616.61 755.135,615.435 757.129,614.263 759.124,613.095 \n",
       "  761.119,611.929 763.113,610.767 765.108,609.608 767.103,608.452 769.097,607.299 771.092,606.15 773.087,605.003 775.081,603.86 777.076,602.719 779.071,601.582 \n",
       "  781.065,600.448 783.06,599.317 785.055,598.189 787.05,597.064 789.044,595.942 791.039,594.823 793.034,593.707 795.028,592.594 797.023,591.484 799.018,590.377 \n",
       "  801.012,589.273 803.007,588.172 805.002,587.074 806.996,585.979 808.991,584.887 810.986,583.798 812.98,582.712 814.975,581.628 816.97,580.548 818.964,579.471 \n",
       "  820.959,578.396 822.954,577.324 824.948,576.256 826.943,575.19 828.938,574.127 830.933,573.066 832.927,572.009 834.922,570.955 836.917,569.903 838.911,568.854 \n",
       "  840.906,567.808 842.901,566.765 844.895,565.724 846.89,564.687 848.885,563.652 850.879,562.62 852.874,561.591 854.869,560.564 856.863,559.54 858.858,558.519 \n",
       "  860.853,557.501 862.847,556.485 864.842,555.472 866.837,554.462 868.832,553.455 870.826,552.45 872.821,551.448 874.816,550.449 876.81,549.452 878.805,548.458 \n",
       "  880.8,547.467 882.794,546.478 884.789,545.492 886.784,544.509 888.778,543.528 890.773,542.55 892.768,541.575 894.762,540.602 896.757,539.632 898.752,538.664 \n",
       "  900.746,537.699 902.741,536.737 904.736,535.777 906.73,534.819 908.725,533.865 910.72,532.912 912.715,531.963 914.709,531.016 916.704,530.071 918.699,529.129 \n",
       "  920.693,528.19 922.688,527.253 924.683,526.319 926.677,525.387 928.672,524.457 930.667,523.53 932.661,522.606 934.656,521.684 936.651,520.765 938.645,519.848 \n",
       "  940.64,518.933 942.635,518.021 944.629,517.112 946.624,516.204 948.619,515.3 950.614,514.397 952.608,513.498 954.603,512.6 956.598,511.705 958.592,510.813 \n",
       "  960.587,509.923 962.582,509.035 964.576,508.149 966.571,507.266 968.566,506.386 970.56,505.508 972.555,504.632 974.55,503.758 976.544,502.887 978.539,502.018 \n",
       "  980.534,501.152 982.528,500.288 984.523,499.426 986.518,498.567 988.512,497.71 990.507,496.855 992.502,496.003 994.497,495.153 996.491,494.305 998.486,493.459 \n",
       "  1000.48,492.616 1002.48,491.775 1004.47,490.937 1006.46,490.1 1008.46,489.266 1010.45,488.434 1012.45,487.605 1014.44,486.778 1016.44,485.953 1018.43,485.13 \n",
       "  1020.43,484.309 1022.42,483.491 1024.42,482.675 1026.41,481.861 1028.41,481.05 1030.4,480.24 1032.4,479.433 1034.39,478.628 1036.38,477.825 1038.38,477.025 \n",
       "  1040.37,476.227 1042.37,475.431 1044.36,474.637 1046.36,473.845 1048.35,473.055 1050.35,472.268 1052.34,471.483 1054.34,470.7 1056.33,469.919 1058.33,469.14 \n",
       "  1060.32,468.363 1062.32,467.589 1064.31,466.817 1066.31,466.046 1068.3,465.278 1070.29,464.513 1072.29,463.749 1074.28,462.987 1076.28,462.228 1078.27,461.47 \n",
       "  1080.27,460.715 1082.26,459.962 1084.26,459.211 1086.25,458.462 1088.25,457.715 1090.24,456.97 1092.24,456.227 1094.23,455.487 1096.23,454.748 1098.22,454.012 \n",
       "  1100.21,453.277 1102.21,452.545 1104.2,451.814 1106.2,451.086 1108.19,450.36 1110.19,449.636 1112.18,448.914 1114.18,448.194 1116.17,447.476 1118.17,446.76 \n",
       "  1120.16,446.046 1122.16,445.334 1124.15,444.624 1126.15,443.916 1128.14,443.21 1130.13,442.506 1132.13,441.804 1134.12,441.105 1136.12,440.407 1138.11,439.711 \n",
       "  1140.11,439.017 1142.1,438.325 1144.1,437.635 1146.09,436.947 1148.09,436.262 1150.08,435.578 1152.08,434.896 1154.07,434.216 1156.07,433.538 1158.06,432.862 \n",
       "  1160.06,432.188 1162.05,431.515 1164.04,430.845 1166.04,430.177 1168.03,429.511 1170.03,428.846 1172.02,428.184 1174.02,427.523 1176.01,426.865 1178.01,426.208 \n",
       "  1180,425.554 1182,424.901 1183.99,424.25 1185.99,423.601 1187.98,422.954 1189.98,422.309 1191.97,421.666 1193.96,421.025 1195.96,420.385 1197.95,419.748 \n",
       "  1199.95,419.112 1201.94,418.479 1203.94,417.847 1205.93,417.217 1207.93,416.589 1209.92,415.963 1211.92,415.339 1213.91,414.716 1215.91,414.096 1217.9,413.477 \n",
       "  1219.9,412.861 1221.89,412.246 1223.89,411.633 1225.88,411.022 1227.87,410.412 1229.87,409.805 1231.86,409.199 1233.86,408.596 1235.85,407.994 1237.85,407.394 \n",
       "  1239.84,406.796 1241.84,406.199 1243.83,405.605 1245.83,405.012 1247.82,404.421 1249.82,403.832 1251.81,403.245 1253.81,402.66 1255.8,402.076 1257.79,401.495 \n",
       "  1259.79,400.915 1261.78,400.337 1263.78,399.76 1265.77,399.186 1267.77,398.613 1269.76,398.043 1271.76,397.474 1273.75,396.906 1275.75,396.341 1277.74,395.777 \n",
       "  1279.74,395.216 1281.73,394.656 1283.73,394.097 1285.72,393.541 1287.71,392.986 1289.71,392.433 1291.7,391.882 1293.7,391.333 1295.69,390.786 1297.69,390.24 \n",
       "  1299.68,389.696 1301.68,389.154 1303.67,388.613 1305.67,388.075 1307.66,387.538 1309.66,387.003 1311.65,386.469 1313.65,385.938 1315.64,385.408 1317.64,384.88 \n",
       "  1319.63,384.353 1321.62,383.829 1323.62,383.306 1325.61,382.785 1327.61,382.266 1329.6,381.748 1331.6,381.232 1333.59,380.718 1335.59,380.206 1337.58,379.695 \n",
       "  1339.58,379.187 1341.57,378.68 1343.57,378.174 1345.56,377.671 1347.56,377.169 1349.55,376.668 1351.54,376.17 1353.54,375.673 1355.53,375.178 1357.53,374.685 \n",
       "  1359.52,374.193 1361.52,373.704 1363.51,373.216 1365.51,372.729 1367.5,372.244 1369.5,371.762 1371.49,371.28 1373.49,370.801 1375.48,370.323 1377.48,369.847 \n",
       "  1379.47,369.372 1381.47,368.9 1383.46,368.429 1385.45,367.959 1387.45,367.492 1389.44,367.026 1391.44,366.562 1393.43,366.099 1395.43,365.638 1397.42,365.179 \n",
       "  1399.42,364.722 1401.41,364.266 1403.41,363.812 1405.4,363.36 1407.4,362.909 1409.39,362.46 1411.39,362.013 1413.38,361.568 1415.37,361.124 1417.37,360.682 \n",
       "  1419.36,360.241 1421.36,359.802 1423.35,359.365 1425.35,358.93 1427.34,358.496 1429.34,358.064 1431.33,357.633 1433.33,357.204 1435.32,356.777 1437.32,356.352 \n",
       "  1439.31,355.928 1441.31,355.506 1443.3,355.086 1445.29,354.667 1447.29,354.25 1449.28,353.835 1451.28,353.421 1453.27,353.009 1455.27,352.598 1457.26,352.19 \n",
       "  1459.26,351.783 1461.25,351.377 1463.25,350.974 1465.24,350.571 1467.24,350.171 1469.23,349.772 1471.23,349.375 1473.22,348.98 1475.22,348.586 1477.21,348.194 \n",
       "  1479.2,347.804 1481.2,347.415 1483.19,347.028 1485.19,346.642 1487.18,346.258 1489.18,345.876 1491.17,345.496 1493.17,345.117 1495.16,344.739 1497.16,344.364 \n",
       "  1499.15,343.99 1501.15,343.618 1503.14,343.247 1505.14,342.878 1507.13,342.511 1509.12,342.145 1511.12,341.781 1513.11,341.419 1515.11,341.058 1517.1,340.699 \n",
       "  1519.1,340.342 1521.09,339.986 1523.09,339.632 1525.08,339.279 1527.08,338.928 1529.07,338.579 1531.07,338.231 1533.06,337.886 1535.06,337.541 1537.05,337.199 \n",
       "  1539.04,336.858 1541.04,336.518 1543.03,336.181 1545.03,335.844 1547.02,335.51 1549.02,335.177 1551.01,334.846 1553.01,334.517 1555,334.189 1557,333.863 \n",
       "  1558.99,333.538 1560.99,333.215 1562.98,332.894 1564.98,332.574 1566.97,332.256 1568.97,331.94 1570.96,331.625 1572.95,331.312 1574.95,331 1576.94,330.69 \n",
       "  1578.94,330.382 1580.93,330.076 1582.93,329.771 1584.92,329.468 1586.92,329.166 1588.91,328.866 1590.91,328.568 1592.9,328.271 1594.9,327.976 1596.89,327.682 \n",
       "  1598.89,327.39 1600.88,327.1 1602.87,326.812 1604.87,326.525 1606.86,326.24 1608.86,325.956 1610.85,325.674 1612.85,325.394 1614.84,325.115 1616.84,324.838 \n",
       "  1618.83,324.562 1620.83,324.289 1622.82,324.017 1624.82,323.746 1626.81,323.477 1628.81,323.21 1630.8,322.944 1632.8,322.68 1634.79,322.418 1636.78,322.157 \n",
       "  1638.78,321.898 1640.77,321.641 1642.77,321.385 1644.76,321.131 1646.76,320.879 1648.75,320.628 1650.75,320.378 1652.74,320.131 1654.74,319.885 1656.73,319.641 \n",
       "  1658.73,319.398 1660.72,319.157 1662.72,318.918 1664.71,318.68 1666.7,318.444 1668.7,318.209 1670.69,317.977 1672.69,317.746 1674.68,317.516 1676.68,317.288 \n",
       "  1678.67,317.062 1680.67,316.837 1682.66,316.614 1684.66,316.393 1686.65,316.174 1688.65,315.956 1690.64,315.739 1692.64,315.524 1694.63,315.311 1696.62,315.1 \n",
       "  1698.62,314.89 1700.61,314.682 1702.61,314.476 1704.6,314.271 1706.6,314.068 1708.59,313.866 1710.59,313.666 1712.58,313.468 1714.58,313.271 1716.57,313.076 \n",
       "  1718.57,312.883 1720.56,312.691 1722.56,312.501 1724.55,312.313 1726.55,312.126 1728.54,311.941 1730.53,311.758 1732.53,311.576 1734.52,311.396 1736.52,311.217 \n",
       "  1738.51,311.04 1740.51,310.865 1742.5,310.691 1744.5,310.52 1746.49,310.349 1748.49,310.181 1750.48,310.014 1752.48,309.848 1754.47,309.685 1756.47,309.523 \n",
       "  1758.46,309.362 1760.45,309.204 1762.45,309.047 1764.44,308.891 1766.44,308.737 1768.43,308.585 1770.43,308.435 1772.42,308.286 1774.42,308.139 1776.41,307.993 \n",
       "  1778.41,307.849 1780.4,307.707 1782.4,307.566 1784.39,307.427 1786.39,307.29 1788.38,307.154 1790.38,307.02 1792.37,306.888 1794.36,306.757 1796.36,306.628 \n",
       "  1798.35,306.501 1800.35,306.375 1802.34,306.251 1804.34,306.128 1806.33,306.007 1808.33,305.888 1810.32,305.77 1812.32,305.654 1814.31,305.54 1816.31,305.427 \n",
       "  1818.3,305.316 1820.3,305.207 1822.29,305.099 1824.28,304.993 1826.28,304.888 1828.27,304.785 1830.27,304.684 1832.26,304.584 1834.26,304.486 1836.25,304.39 \n",
       "  1838.25,304.295 1840.24,304.201 1842.24,304.11 1844.23,304.02 1846.23,303.932 1848.22,303.845 1850.22,303.76 1852.21,303.676 1854.2,303.594 1856.2,303.514 \n",
       "  1858.19,303.435 1860.19,303.358 1862.18,303.283 1864.18,303.209 1866.17,303.136 1868.17,303.066 1870.16,302.997 1872.16,302.929 1874.15,302.863 1876.15,302.799 \n",
       "  1878.14,302.736 1880.14,302.675 1882.13,302.615 1884.13,302.557 1886.12,302.5 1888.11,302.445 1890.11,302.392 1892.1,302.34 1894.1,302.289 1896.09,302.241 \n",
       "  1898.09,302.193 1900.08,302.148 1902.08,302.103 1904.07,302.061 1906.07,302.02 1908.06,301.98 1910.06,301.942 1912.05,301.905 1914.05,301.87 1916.04,301.836 \n",
       "  1918.03,301.804 1920.03,301.774 1922.02,301.744 1924.02,301.717 1926.01,301.69 1928.01,301.665 1930,301.642 1932,301.62 1933.99,301.6 1935.99,301.581 \n",
       "  1937.98,301.563 1939.98,301.547 1941.97,301.532 1943.97,301.518 1945.96,301.506 1947.95,301.495 1949.95,301.486 1951.94,301.478 1953.94,301.471 1955.93,301.466 \n",
       "  1957.93,301.462 1959.92,301.459 1961.92,301.458 1963.91,301.458 1965.91,301.459 1967.9,301.461 1969.9,301.465 1971.89,301.47 1973.89,301.476 1975.88,301.483 \n",
       "  1977.88,301.491 1979.87,301.501 1981.86,301.512 1983.86,301.524 1985.85,301.537 1987.85,301.551 1989.84,301.567 1991.84,301.583 1993.83,301.6 1995.83,301.619 \n",
       "  1997.82,301.638 1999.82,301.659 2001.81,301.68 2003.81,301.703 2005.8,301.726 2007.8,301.75 2009.79,301.776 2011.78,301.802 2013.78,301.828 2015.77,301.856 \n",
       "  2017.77,301.885 2019.76,301.914 2021.76,301.944 2023.75,301.974 2025.75,302.006 2027.74,302.038 2029.74,302.07 2031.73,302.104 2033.73,302.137 2035.72,302.172 \n",
       "  2037.72,302.206 2039.71,302.241 2041.71,302.277 2043.7,302.313 2045.69,302.349 2047.69,302.386 2049.68,302.423 2051.68,302.46 2053.67,302.497 2055.67,302.534 \n",
       "  2057.66,302.571 2059.66,302.609 2061.65,302.646 2063.65,302.683 2065.64,302.72 2067.64,302.757 2069.63,302.793 2071.63,302.829 2073.62,302.865 2075.61,302.9 \n",
       "  2077.61,302.935 2079.6,302.969 2081.6,303.003 2083.59,303.036 2085.59,303.068 2087.58,303.099 2089.58,303.129 2091.57,303.158 2093.57,303.186 2095.56,303.212 \n",
       "  2097.56,303.238 2099.55,303.261 2101.55,303.284 2103.54,303.304 2105.53,303.323 2107.53,303.34 2109.52,303.355 2111.52,303.368 2113.51,303.379 2115.51,303.387 \n",
       "  2117.5,303.393 2119.5,303.396 2121.49,303.396 2123.49,303.394 2125.48,303.388 2127.48,303.379 2129.47,303.366 2131.47,303.35 2133.46,303.33 2135.46,303.306 \n",
       "  2137.45,303.278 2139.44,303.246 2141.44,303.208 2143.43,303.166 2145.43,303.119 2147.42,303.066 2149.42,303.008 2151.41,302.944 2153.41,302.873 2155.4,302.796 \n",
       "  2157.4,302.713 2159.39,302.622 2161.39,302.523 2163.38,302.417 2165.38,302.302 2167.37,302.179 2169.36,302.046 2171.36,301.904 2173.35,301.752 2175.35,301.589 \n",
       "  2177.34,301.415 2179.34,301.23 2181.33,301.032 2183.33,300.822 2185.32,300.598 2187.32,300.36 2189.31,300.107 2191.31,299.838 2193.3,299.553 2195.3,299.25 \n",
       "  2197.29,298.929 2199.29,298.588 2201.28,298.227 2203.27,297.844 2205.27,297.439 2207.26,297.009 2209.26,296.553 2211.25,296.071 2213.25,295.559 2215.24,295.017 \n",
       "  2217.24,294.442 2219.23,293.833 2221.23,293.186 2223.22,292.501 2225.22,291.773 2227.21,291 2229.21,290.179 2231.2,289.306 2233.19,288.378 2235.19,287.389 \n",
       "  2237.18,286.336 2239.18,285.213 2241.17,284.014 2243.17,282.732 2245.16,281.36 2247.16,279.89 2249.15,278.313 2251.15,276.616 2253.14,274.789 2255.14,272.816 \n",
       "  2257.13,270.682 2259.13,268.366 2261.12,265.847 2263.11,263.096 2265.11,260.082 2267.1,256.765 2269.1,253.098 2271.09,249.019 2273.09,244.452 2275.08,239.3 \n",
       "  2277.08,233.431 2279.07,226.67 2281.07,218.768 2283.06,209.361 2285.06,197.881 2287.05,183.378 2289.05,164.068 2291.04,135.939 2293.04,86.1857 \n",
       "  \"/>\n",
       "<path clip-path=\"url(#clip980)\" d=\"\n",
       "M312.959 1377.32 L944.221 1377.32 L944.221 1221.8 L312.959 1221.8  Z\n",
       "  \" fill=\"#ffffff\" fill-rule=\"evenodd\" fill-opacity=\"1\"/>\n",
       "<polyline clip-path=\"url(#clip980)\" style=\"stroke:#000000; stroke-linecap:round; stroke-linejoin:round; stroke-width:4; stroke-opacity:1; fill:none\" points=\"\n",
       "  312.959,1377.32 944.221,1377.32 944.221,1221.8 312.959,1221.8 312.959,1377.32 \n",
       "  \"/>\n",
       "<polyline clip-path=\"url(#clip980)\" style=\"stroke:#0000ff; stroke-linecap:round; stroke-linejoin:round; stroke-width:4; stroke-opacity:1; fill:none\" points=\"\n",
       "  336.405,1273.64 477.08,1273.64 \n",
       "  \"/>\n",
       "<path clip-path=\"url(#clip980)\" d=\"M500.526 1256.36 L505.202 1256.36 L505.202 1290.92 L500.526 1290.92 L500.526 1256.36 Z\" fill=\"#000000\" fill-rule=\"evenodd\" fill-opacity=\"1\" /><path clip-path=\"url(#clip980)\" d=\"M535.873 1275.27 L535.873 1290.92 L531.614 1290.92 L531.614 1275.41 Q531.614 1271.73 530.179 1269.9 Q528.744 1268.07 525.873 1268.07 Q522.424 1268.07 520.433 1270.27 Q518.443 1272.47 518.443 1276.26 L518.443 1290.92 L514.16 1290.92 L514.16 1264.99 L518.443 1264.99 L518.443 1269.02 Q519.971 1266.68 522.031 1265.52 Q524.114 1264.36 526.822 1264.36 Q531.29 1264.36 533.582 1267.14 Q535.873 1269.9 535.873 1275.27 Z\" fill=\"#000000\" fill-rule=\"evenodd\" fill-opacity=\"1\" /><path clip-path=\"url(#clip980)\" d=\"M548.581 1257.63 L548.581 1264.99 L557.355 1264.99 L557.355 1268.3 L548.581 1268.3 L548.581 1282.37 Q548.581 1285.54 549.438 1286.45 Q550.318 1287.35 552.98 1287.35 L557.355 1287.35 L557.355 1290.92 L552.98 1290.92 Q548.049 1290.92 546.174 1289.09 Q544.299 1287.23 544.299 1282.37 L544.299 1268.3 L541.174 1268.3 L541.174 1264.99 L544.299 1264.99 L544.299 1257.63 L548.581 1257.63 Z\" fill=\"#000000\" fill-rule=\"evenodd\" fill-opacity=\"1\" /><path clip-path=\"url(#clip980)\" d=\"M585.132 1276.89 L585.132 1278.97 L565.549 1278.97 Q565.827 1283.37 568.188 1285.68 Q570.572 1287.98 574.808 1287.98 Q577.262 1287.98 579.554 1287.37 Q581.868 1286.77 584.137 1285.57 L584.137 1289.6 Q581.845 1290.57 579.438 1291.08 Q577.03 1291.59 574.554 1291.59 Q568.35 1291.59 564.716 1287.98 Q561.105 1284.36 561.105 1278.21 Q561.105 1271.84 564.53 1268.11 Q567.98 1264.36 573.813 1264.36 Q579.044 1264.36 582.077 1267.74 Q585.132 1271.1 585.132 1276.89 M580.873 1275.64 Q580.827 1272.14 578.905 1270.06 Q577.007 1267.98 573.859 1267.98 Q570.294 1267.98 568.142 1269.99 Q566.012 1272 565.688 1275.66 L580.873 1275.64 Z\" fill=\"#000000\" fill-rule=\"evenodd\" fill-opacity=\"1\" /><path clip-path=\"url(#clip980)\" d=\"M607.146 1268.97 Q606.428 1268.55 605.572 1268.37 Q604.739 1268.16 603.72 1268.16 Q600.109 1268.16 598.165 1270.52 Q596.243 1272.86 596.243 1277.26 L596.243 1290.92 L591.961 1290.92 L591.961 1264.99 L596.243 1264.99 L596.243 1269.02 Q597.586 1266.66 599.739 1265.52 Q601.891 1264.36 604.97 1264.36 Q605.41 1264.36 605.942 1264.43 Q606.475 1264.48 607.123 1264.6 L607.146 1268.97 Z\" fill=\"#000000\" fill-rule=\"evenodd\" fill-opacity=\"1\" /><path clip-path=\"url(#clip980)\" d=\"M629.229 1265.98 L629.229 1269.97 Q627.424 1268.97 625.595 1268.48 Q623.789 1267.98 621.938 1267.98 Q617.794 1267.98 615.502 1270.61 Q613.211 1273.23 613.211 1277.98 Q613.211 1282.72 615.502 1285.36 Q617.794 1287.98 621.938 1287.98 Q623.789 1287.98 625.595 1287.49 Q627.424 1286.98 629.229 1285.98 L629.229 1289.92 Q627.447 1290.75 625.526 1291.17 Q623.627 1291.59 621.475 1291.59 Q615.618 1291.59 612.169 1287.91 Q608.72 1284.23 608.72 1277.98 Q608.72 1271.63 612.192 1268 Q615.688 1264.36 621.752 1264.36 Q623.72 1264.36 625.595 1264.78 Q627.47 1265.17 629.229 1265.98 Z\" fill=\"#000000\" fill-rule=\"evenodd\" fill-opacity=\"1\" /><path clip-path=\"url(#clip980)\" d=\"M658.812 1276.89 L658.812 1278.97 L639.229 1278.97 Q639.507 1283.37 641.868 1285.68 Q644.252 1287.98 648.488 1287.98 Q650.942 1287.98 653.234 1287.37 Q655.548 1286.77 657.817 1285.57 L657.817 1289.6 Q655.525 1290.57 653.118 1291.08 Q650.711 1291.59 648.234 1291.59 Q642.03 1291.59 638.396 1287.98 Q634.785 1284.36 634.785 1278.21 Q634.785 1271.84 638.211 1268.11 Q641.66 1264.36 647.493 1264.36 Q652.724 1264.36 655.757 1267.74 Q658.812 1271.1 658.812 1276.89 M654.553 1275.64 Q654.507 1272.14 652.586 1270.06 Q650.687 1267.98 647.539 1267.98 Q643.974 1267.98 641.822 1269.99 Q639.692 1272 639.368 1275.66 L654.553 1275.64 Z\" fill=\"#000000\" fill-rule=\"evenodd\" fill-opacity=\"1\" /><path clip-path=\"url(#clip980)\" d=\"M669.923 1287.03 L669.923 1300.78 L665.641 1300.78 L665.641 1264.99 L669.923 1264.99 L669.923 1268.92 Q671.266 1266.61 673.303 1265.5 Q675.363 1264.36 678.21 1264.36 Q682.933 1264.36 685.872 1268.11 Q688.835 1271.86 688.835 1277.98 Q688.835 1284.09 685.872 1287.84 Q682.933 1291.59 678.21 1291.59 Q675.363 1291.59 673.303 1290.48 Q671.266 1289.34 669.923 1287.03 M684.414 1277.98 Q684.414 1273.28 682.47 1270.61 Q680.548 1267.93 677.169 1267.93 Q673.789 1267.93 671.845 1270.61 Q669.923 1273.28 669.923 1277.98 Q669.923 1282.67 671.845 1285.36 Q673.789 1288.02 677.169 1288.02 Q680.548 1288.02 682.47 1285.36 Q684.414 1282.67 684.414 1277.98 Z\" fill=\"#000000\" fill-rule=\"evenodd\" fill-opacity=\"1\" /><path clip-path=\"url(#clip980)\" d=\"M700.108 1257.63 L700.108 1264.99 L708.882 1264.99 L708.882 1268.3 L700.108 1268.3 L700.108 1282.37 Q700.108 1285.54 700.965 1286.45 Q701.845 1287.35 704.507 1287.35 L708.882 1287.35 L708.882 1290.92 L704.507 1290.92 Q699.576 1290.92 697.701 1289.09 Q695.826 1287.23 695.826 1282.37 L695.826 1268.3 L692.701 1268.3 L692.701 1264.99 L695.826 1264.99 L695.826 1257.63 L700.108 1257.63 Z\" fill=\"#000000\" fill-rule=\"evenodd\" fill-opacity=\"1\" /><polyline clip-path=\"url(#clip980)\" style=\"stroke:#ff0000; stroke-linecap:round; stroke-linejoin:round; stroke-width:4; stroke-opacity:1; fill:none\" points=\"\n",
       "  336.405,1325.48 477.08,1325.48 \n",
       "  \"/>\n",
       "<path clip-path=\"url(#clip980)\" d=\"M500.526 1308.2 L505.202 1308.2 L505.202 1342.76 L500.526 1342.76 L500.526 1308.2 Z\" fill=\"#000000\" fill-rule=\"evenodd\" fill-opacity=\"1\" /><path clip-path=\"url(#clip980)\" d=\"M535.873 1327.11 L535.873 1342.76 L531.614 1342.76 L531.614 1327.25 Q531.614 1323.57 530.179 1321.74 Q528.744 1319.91 525.873 1319.91 Q522.424 1319.91 520.433 1322.11 Q518.443 1324.31 518.443 1328.1 L518.443 1342.76 L514.16 1342.76 L514.16 1316.83 L518.443 1316.83 L518.443 1320.86 Q519.971 1318.52 522.031 1317.36 Q524.114 1316.2 526.822 1316.2 Q531.29 1316.2 533.582 1318.98 Q535.873 1321.74 535.873 1327.11 Z\" fill=\"#000000\" fill-rule=\"evenodd\" fill-opacity=\"1\" /><path clip-path=\"url(#clip980)\" d=\"M548.581 1309.47 L548.581 1316.83 L557.355 1316.83 L557.355 1320.14 L548.581 1320.14 L548.581 1334.21 Q548.581 1337.38 549.438 1338.29 Q550.318 1339.19 552.98 1339.19 L557.355 1339.19 L557.355 1342.76 L552.98 1342.76 Q548.049 1342.76 546.174 1340.93 Q544.299 1339.07 544.299 1334.21 L544.299 1320.14 L541.174 1320.14 L541.174 1316.83 L544.299 1316.83 L544.299 1309.47 L548.581 1309.47 Z\" fill=\"#000000\" fill-rule=\"evenodd\" fill-opacity=\"1\" /><path clip-path=\"url(#clip980)\" d=\"M585.132 1328.73 L585.132 1330.81 L565.549 1330.81 Q565.827 1335.21 568.188 1337.52 Q570.572 1339.82 574.808 1339.82 Q577.262 1339.82 579.554 1339.21 Q581.868 1338.61 584.137 1337.41 L584.137 1341.44 Q581.845 1342.41 579.438 1342.92 Q577.03 1343.43 574.554 1343.43 Q568.35 1343.43 564.716 1339.82 Q561.105 1336.2 561.105 1330.05 Q561.105 1323.68 564.53 1319.95 Q567.98 1316.2 573.813 1316.2 Q579.044 1316.2 582.077 1319.58 Q585.132 1322.94 585.132 1328.73 M580.873 1327.48 Q580.827 1323.98 578.905 1321.9 Q577.007 1319.82 573.859 1319.82 Q570.294 1319.82 568.142 1321.83 Q566.012 1323.84 565.688 1327.5 L580.873 1327.48 Z\" fill=\"#000000\" fill-rule=\"evenodd\" fill-opacity=\"1\" /><path clip-path=\"url(#clip980)\" d=\"M607.146 1320.81 Q606.428 1320.39 605.572 1320.21 Q604.739 1320 603.72 1320 Q600.109 1320 598.165 1322.36 Q596.243 1324.7 596.243 1329.1 L596.243 1342.76 L591.961 1342.76 L591.961 1316.83 L596.243 1316.83 L596.243 1320.86 Q597.586 1318.5 599.739 1317.36 Q601.891 1316.2 604.97 1316.2 Q605.41 1316.2 605.942 1316.27 Q606.475 1316.32 607.123 1316.44 L607.146 1320.81 Z\" fill=\"#000000\" fill-rule=\"evenodd\" fill-opacity=\"1\" /><path clip-path=\"url(#clip980)\" d=\"M629.229 1317.82 L629.229 1321.81 Q627.424 1320.81 625.595 1320.32 Q623.789 1319.82 621.938 1319.82 Q617.794 1319.82 615.502 1322.45 Q613.211 1325.07 613.211 1329.82 Q613.211 1334.56 615.502 1337.2 Q617.794 1339.82 621.938 1339.82 Q623.789 1339.82 625.595 1339.33 Q627.424 1338.82 629.229 1337.82 L629.229 1341.76 Q627.447 1342.59 625.526 1343.01 Q623.627 1343.43 621.475 1343.43 Q615.618 1343.43 612.169 1339.75 Q608.72 1336.07 608.72 1329.82 Q608.72 1323.47 612.192 1319.84 Q615.688 1316.2 621.752 1316.2 Q623.72 1316.2 625.595 1316.62 Q627.47 1317.01 629.229 1317.82 Z\" fill=\"#000000\" fill-rule=\"evenodd\" fill-opacity=\"1\" /><path clip-path=\"url(#clip980)\" d=\"M658.812 1328.73 L658.812 1330.81 L639.229 1330.81 Q639.507 1335.21 641.868 1337.52 Q644.252 1339.82 648.488 1339.82 Q650.942 1339.82 653.234 1339.21 Q655.548 1338.61 657.817 1337.41 L657.817 1341.44 Q655.525 1342.41 653.118 1342.92 Q650.711 1343.43 648.234 1343.43 Q642.03 1343.43 638.396 1339.82 Q634.785 1336.2 634.785 1330.05 Q634.785 1323.68 638.211 1319.95 Q641.66 1316.2 647.493 1316.2 Q652.724 1316.2 655.757 1319.58 Q658.812 1322.94 658.812 1328.73 M654.553 1327.48 Q654.507 1323.98 652.586 1321.9 Q650.687 1319.82 647.539 1319.82 Q643.974 1319.82 641.822 1321.83 Q639.692 1323.84 639.368 1327.5 L654.553 1327.48 Z\" fill=\"#000000\" fill-rule=\"evenodd\" fill-opacity=\"1\" /><path clip-path=\"url(#clip980)\" d=\"M669.923 1338.87 L669.923 1352.62 L665.641 1352.62 L665.641 1316.83 L669.923 1316.83 L669.923 1320.76 Q671.266 1318.45 673.303 1317.34 Q675.363 1316.2 678.21 1316.2 Q682.933 1316.2 685.872 1319.95 Q688.835 1323.7 688.835 1329.82 Q688.835 1335.93 685.872 1339.68 Q682.933 1343.43 678.21 1343.43 Q675.363 1343.43 673.303 1342.32 Q671.266 1341.18 669.923 1338.87 M684.414 1329.82 Q684.414 1325.12 682.47 1322.45 Q680.548 1319.77 677.169 1319.77 Q673.789 1319.77 671.845 1322.45 Q669.923 1325.12 669.923 1329.82 Q669.923 1334.51 671.845 1337.2 Q673.789 1339.86 677.169 1339.86 Q680.548 1339.86 682.47 1337.2 Q684.414 1334.51 684.414 1329.82 Z\" fill=\"#000000\" fill-rule=\"evenodd\" fill-opacity=\"1\" /><path clip-path=\"url(#clip980)\" d=\"M700.108 1309.47 L700.108 1316.83 L708.882 1316.83 L708.882 1320.14 L700.108 1320.14 L700.108 1334.21 Q700.108 1337.38 700.965 1338.29 Q701.845 1339.19 704.507 1339.19 L708.882 1339.19 L708.882 1342.76 L704.507 1342.76 Q699.576 1342.76 697.701 1340.93 Q695.826 1339.07 695.826 1334.21 L695.826 1320.14 L692.701 1320.14 L692.701 1316.83 L695.826 1316.83 L695.826 1309.47 L700.108 1309.47 Z\" fill=\"#000000\" fill-rule=\"evenodd\" fill-opacity=\"1\" /><path clip-path=\"url(#clip980)\" d=\"M731.821 1313.03 L731.821 1325.93 L744.715 1325.93 L744.715 1329.86 L731.821 1329.86 L731.821 1342.76 L727.932 1342.76 L727.932 1329.86 L715.039 1329.86 L715.039 1325.93 L727.932 1325.93 L727.932 1313.03 L731.821 1313.03 Z\" fill=\"#000000\" fill-rule=\"evenodd\" fill-opacity=\"1\" /><path clip-path=\"url(#clip980)\" d=\"M777.955 1337.82 L777.955 1328.54 L770.316 1328.54 L770.316 1324.7 L782.585 1324.7 L782.585 1339.54 Q779.877 1341.46 776.613 1342.45 Q773.349 1343.43 769.645 1343.43 Q761.543 1343.43 756.96 1338.7 Q752.4 1333.96 752.4 1325.51 Q752.4 1317.04 756.96 1312.32 Q761.543 1307.57 769.645 1307.57 Q773.025 1307.57 776.057 1308.4 Q779.113 1309.24 781.682 1310.86 L781.682 1315.83 Q779.09 1313.64 776.173 1312.52 Q773.256 1311.41 770.039 1311.41 Q763.696 1311.41 760.502 1314.95 Q757.33 1318.5 757.33 1325.51 Q757.33 1332.5 760.502 1336.04 Q763.696 1339.58 770.039 1339.58 Q772.515 1339.58 774.46 1339.17 Q776.404 1338.73 777.955 1337.82 Z\" fill=\"#000000\" fill-rule=\"evenodd\" fill-opacity=\"1\" /><path clip-path=\"url(#clip980)\" d=\"M810.64 1350.63 L810.64 1353.94 L786.011 1353.94 L786.011 1350.63 L810.64 1350.63 Z\" fill=\"#000000\" fill-rule=\"evenodd\" fill-opacity=\"1\" /><path clip-path=\"url(#clip980)\" d=\"M819.274 1338.82 L835.594 1338.82 L835.594 1342.76 L813.65 1342.76 L813.65 1338.82 Q816.312 1336.07 820.895 1331.44 Q825.501 1326.78 826.682 1325.44 Q828.927 1322.92 829.807 1321.18 Q830.71 1319.42 830.71 1317.73 Q830.71 1314.98 828.765 1313.24 Q826.844 1311.51 823.742 1311.51 Q821.543 1311.51 819.089 1312.27 Q816.659 1313.03 813.881 1314.58 L813.881 1309.86 Q816.705 1308.73 819.159 1308.15 Q821.612 1307.57 823.649 1307.57 Q829.02 1307.57 832.214 1310.26 Q835.409 1312.94 835.409 1317.43 Q835.409 1319.56 834.598 1321.48 Q833.811 1323.38 831.705 1325.97 Q831.126 1326.64 828.024 1329.86 Q824.923 1333.06 819.274 1338.82 Z\" fill=\"#000000\" fill-rule=\"evenodd\" fill-opacity=\"1\" /><path clip-path=\"url(#clip980)\" d=\"M849.436 1338.82 L865.756 1338.82 L865.756 1342.76 L843.811 1342.76 L843.811 1338.82 Q846.473 1336.07 851.057 1331.44 Q855.663 1326.78 856.844 1325.44 Q859.089 1322.92 859.969 1321.18 Q860.871 1319.42 860.871 1317.73 Q860.871 1314.98 858.927 1313.24 Q857.006 1311.51 853.904 1311.51 Q851.705 1311.51 849.251 1312.27 Q846.821 1313.03 844.043 1314.58 L844.043 1309.86 Q846.867 1308.73 849.321 1308.15 Q851.774 1307.57 853.811 1307.57 Q859.182 1307.57 862.376 1310.26 Q865.571 1312.94 865.571 1317.43 Q865.571 1319.56 864.76 1321.48 Q863.973 1323.38 861.867 1325.97 Q861.288 1326.64 858.186 1329.86 Q855.084 1333.06 849.436 1338.82 Z\" fill=\"#000000\" fill-rule=\"evenodd\" fill-opacity=\"1\" /><path clip-path=\"url(#clip980)\" d=\"M875.709 1342.04 L875.709 1337.78 Q877.469 1338.61 879.274 1339.05 Q881.08 1339.49 882.816 1339.49 Q887.445 1339.49 889.876 1336.39 Q892.33 1333.26 892.677 1326.92 Q891.334 1328.91 889.274 1329.98 Q887.214 1331.04 884.714 1331.04 Q879.529 1331.04 876.496 1327.92 Q873.487 1324.77 873.487 1319.33 Q873.487 1314.01 876.635 1310.79 Q879.783 1307.57 885.015 1307.57 Q891.01 1307.57 894.158 1312.18 Q897.33 1316.76 897.33 1325.51 Q897.33 1333.68 893.441 1338.57 Q889.575 1343.43 883.024 1343.43 Q881.265 1343.43 879.459 1343.08 Q877.654 1342.73 875.709 1342.04 M885.015 1327.39 Q888.163 1327.39 889.992 1325.23 Q891.844 1323.08 891.844 1319.33 Q891.844 1315.6 889.992 1313.45 Q888.163 1311.27 885.015 1311.27 Q881.867 1311.27 880.015 1313.45 Q878.186 1315.6 878.186 1319.33 Q878.186 1323.08 880.015 1325.23 Q881.867 1327.39 885.015 1327.39 Z\" fill=\"#000000\" fill-rule=\"evenodd\" fill-opacity=\"1\" /></svg>\n"
      ]
     },
     "execution_count": 54,
     "metadata": {},
     "output_type": "execute_result"
    }
   ],
   "source": [
    "plot(collect(1:999).*0.001, ell_null, xlabel = \"h2\", ylabel = \"loglik\", label = \"Intercept\", color = \"blue\", legend=:bottomleft)\n",
    "#scatter!([maxima_null[1]], [maxima_null[2]])\n",
    "plot!(collect(1:999).*0.001, ell_markerID, xlabel = \"h2\", ylabel = \"loglik\", label = (\"Intercept+\"*\"G_$markerID\"), color = \"red\")\n",
    "#scatter!([maxima_alt[1]], [maxima_alt[2]])"
   ]
  },
  {
   "cell_type": "code",
   "execution_count": 55,
   "id": "aed769c2-9423-4af1-abd2-2094707aa3db",
   "metadata": {},
   "outputs": [
    {
     "data": {
      "image/svg+xml": [
       "<?xml version=\"1.0\" encoding=\"utf-8\"?>\n",
       "<svg xmlns=\"http://www.w3.org/2000/svg\" xmlns:xlink=\"http://www.w3.org/1999/xlink\" width=\"600\" height=\"400\" viewBox=\"0 0 2400 1600\">\n",
       "<defs>\n",
       "  <clipPath id=\"clip020\">\n",
       "    <rect x=\"0\" y=\"0\" width=\"2400\" height=\"1600\"/>\n",
       "  </clipPath>\n",
       "</defs>\n",
       "<path clip-path=\"url(#clip020)\" d=\"\n",
       "M0 1600 L2400 1600 L2400 0 L0 0  Z\n",
       "  \" fill=\"#ffffff\" fill-rule=\"evenodd\" fill-opacity=\"1\"/>\n",
       "<defs>\n",
       "  <clipPath id=\"clip021\">\n",
       "    <rect x=\"480\" y=\"0\" width=\"1681\" height=\"1600\"/>\n",
       "  </clipPath>\n",
       "</defs>\n",
       "<path clip-path=\"url(#clip020)\" d=\"\n",
       "M287.366 1423.18 L2352.76 1423.18 L2352.76 47.2441 L287.366 47.2441  Z\n",
       "  \" fill=\"#ffffff\" fill-rule=\"evenodd\" fill-opacity=\"1\"/>\n",
       "<defs>\n",
       "  <clipPath id=\"clip022\">\n",
       "    <rect x=\"287\" y=\"47\" width=\"2066\" height=\"1377\"/>\n",
       "  </clipPath>\n",
       "</defs>\n",
       "<polyline clip-path=\"url(#clip022)\" style=\"stroke:#000000; stroke-linecap:round; stroke-linejoin:round; stroke-width:2; stroke-opacity:0.1; fill:none\" points=\"\n",
       "  343.87,1423.18 343.87,47.2441 \n",
       "  \"/>\n",
       "<polyline clip-path=\"url(#clip022)\" style=\"stroke:#000000; stroke-linecap:round; stroke-linejoin:round; stroke-width:2; stroke-opacity:0.1; fill:none\" points=\"\n",
       "  831.478,1423.18 831.478,47.2441 \n",
       "  \"/>\n",
       "<polyline clip-path=\"url(#clip022)\" style=\"stroke:#000000; stroke-linecap:round; stroke-linejoin:round; stroke-width:2; stroke-opacity:0.1; fill:none\" points=\"\n",
       "  1319.09,1423.18 1319.09,47.2441 \n",
       "  \"/>\n",
       "<polyline clip-path=\"url(#clip022)\" style=\"stroke:#000000; stroke-linecap:round; stroke-linejoin:round; stroke-width:2; stroke-opacity:0.1; fill:none\" points=\"\n",
       "  1806.69,1423.18 1806.69,47.2441 \n",
       "  \"/>\n",
       "<polyline clip-path=\"url(#clip022)\" style=\"stroke:#000000; stroke-linecap:round; stroke-linejoin:round; stroke-width:2; stroke-opacity:0.1; fill:none\" points=\"\n",
       "  2294.3,1423.18 2294.3,47.2441 \n",
       "  \"/>\n",
       "<polyline clip-path=\"url(#clip020)\" style=\"stroke:#000000; stroke-linecap:round; stroke-linejoin:round; stroke-width:4; stroke-opacity:1; fill:none\" points=\"\n",
       "  287.366,1423.18 2352.76,1423.18 \n",
       "  \"/>\n",
       "<polyline clip-path=\"url(#clip020)\" style=\"stroke:#000000; stroke-linecap:round; stroke-linejoin:round; stroke-width:4; stroke-opacity:1; fill:none\" points=\"\n",
       "  343.87,1423.18 343.87,1404.28 \n",
       "  \"/>\n",
       "<polyline clip-path=\"url(#clip020)\" style=\"stroke:#000000; stroke-linecap:round; stroke-linejoin:round; stroke-width:4; stroke-opacity:1; fill:none\" points=\"\n",
       "  831.478,1423.18 831.478,1404.28 \n",
       "  \"/>\n",
       "<polyline clip-path=\"url(#clip020)\" style=\"stroke:#000000; stroke-linecap:round; stroke-linejoin:round; stroke-width:4; stroke-opacity:1; fill:none\" points=\"\n",
       "  1319.09,1423.18 1319.09,1404.28 \n",
       "  \"/>\n",
       "<polyline clip-path=\"url(#clip020)\" style=\"stroke:#000000; stroke-linecap:round; stroke-linejoin:round; stroke-width:4; stroke-opacity:1; fill:none\" points=\"\n",
       "  1806.69,1423.18 1806.69,1404.28 \n",
       "  \"/>\n",
       "<polyline clip-path=\"url(#clip020)\" style=\"stroke:#000000; stroke-linecap:round; stroke-linejoin:round; stroke-width:4; stroke-opacity:1; fill:none\" points=\"\n",
       "  2294.3,1423.18 2294.3,1404.28 \n",
       "  \"/>\n",
       "<path clip-path=\"url(#clip020)\" d=\"M306.173 1454.1 Q302.562 1454.1 300.734 1457.66 Q298.928 1461.2 298.928 1468.33 Q298.928 1475.44 300.734 1479.01 Q302.562 1482.55 306.173 1482.55 Q309.808 1482.55 311.613 1479.01 Q313.442 1475.44 313.442 1468.33 Q313.442 1461.2 311.613 1457.66 Q309.808 1454.1 306.173 1454.1 M306.173 1450.39 Q311.984 1450.39 315.039 1455 Q318.118 1459.58 318.118 1468.33 Q318.118 1477.06 315.039 1481.67 Q311.984 1486.25 306.173 1486.25 Q300.363 1486.25 297.285 1481.67 Q294.229 1477.06 294.229 1468.33 Q294.229 1459.58 297.285 1455 Q300.363 1450.39 306.173 1450.39 Z\" fill=\"#000000\" fill-rule=\"evenodd\" fill-opacity=\"1\" /><path clip-path=\"url(#clip020)\" d=\"M326.335 1479.7 L331.22 1479.7 L331.22 1485.58 L326.335 1485.58 L326.335 1479.7 Z\" fill=\"#000000\" fill-rule=\"evenodd\" fill-opacity=\"1\" /><path clip-path=\"url(#clip020)\" d=\"M351.405 1454.1 Q347.793 1454.1 345.965 1457.66 Q344.159 1461.2 344.159 1468.33 Q344.159 1475.44 345.965 1479.01 Q347.793 1482.55 351.405 1482.55 Q355.039 1482.55 356.844 1479.01 Q358.673 1475.44 358.673 1468.33 Q358.673 1461.2 356.844 1457.66 Q355.039 1454.1 351.405 1454.1 M351.405 1450.39 Q357.215 1450.39 360.27 1455 Q363.349 1459.58 363.349 1468.33 Q363.349 1477.06 360.27 1481.67 Q357.215 1486.25 351.405 1486.25 Q345.594 1486.25 342.516 1481.67 Q339.46 1477.06 339.46 1468.33 Q339.46 1459.58 342.516 1455 Q345.594 1450.39 351.405 1450.39 Z\" fill=\"#000000\" fill-rule=\"evenodd\" fill-opacity=\"1\" /><path clip-path=\"url(#clip020)\" d=\"M381.566 1454.1 Q377.955 1454.1 376.127 1457.66 Q374.321 1461.2 374.321 1468.33 Q374.321 1475.44 376.127 1479.01 Q377.955 1482.55 381.566 1482.55 Q385.201 1482.55 387.006 1479.01 Q388.835 1475.44 388.835 1468.33 Q388.835 1461.2 387.006 1457.66 Q385.201 1454.1 381.566 1454.1 M381.566 1450.39 Q387.377 1450.39 390.432 1455 Q393.511 1459.58 393.511 1468.33 Q393.511 1477.06 390.432 1481.67 Q387.377 1486.25 381.566 1486.25 Q375.756 1486.25 372.678 1481.67 Q369.622 1477.06 369.622 1468.33 Q369.622 1459.58 372.678 1455 Q375.756 1450.39 381.566 1450.39 Z\" fill=\"#000000\" fill-rule=\"evenodd\" fill-opacity=\"1\" /><path clip-path=\"url(#clip020)\" d=\"M794.279 1454.1 Q790.668 1454.1 788.839 1457.66 Q787.034 1461.2 787.034 1468.33 Q787.034 1475.44 788.839 1479.01 Q790.668 1482.55 794.279 1482.55 Q797.913 1482.55 799.719 1479.01 Q801.547 1475.44 801.547 1468.33 Q801.547 1461.2 799.719 1457.66 Q797.913 1454.1 794.279 1454.1 M794.279 1450.39 Q800.089 1450.39 803.145 1455 Q806.223 1459.58 806.223 1468.33 Q806.223 1477.06 803.145 1481.67 Q800.089 1486.25 794.279 1486.25 Q788.469 1486.25 785.39 1481.67 Q782.335 1477.06 782.335 1468.33 Q782.335 1459.58 785.39 1455 Q788.469 1450.39 794.279 1450.39 Z\" fill=\"#000000\" fill-rule=\"evenodd\" fill-opacity=\"1\" /><path clip-path=\"url(#clip020)\" d=\"M814.441 1479.7 L819.325 1479.7 L819.325 1485.58 L814.441 1485.58 L814.441 1479.7 Z\" fill=\"#000000\" fill-rule=\"evenodd\" fill-opacity=\"1\" /><path clip-path=\"url(#clip020)\" d=\"M833.538 1481.64 L849.857 1481.64 L849.857 1485.58 L827.913 1485.58 L827.913 1481.64 Q830.575 1478.89 835.158 1474.26 Q839.765 1469.61 840.945 1468.27 Q843.191 1465.74 844.07 1464.01 Q844.973 1462.25 844.973 1460.56 Q844.973 1457.8 843.029 1456.07 Q841.107 1454.33 838.006 1454.33 Q835.806 1454.33 833.353 1455.09 Q830.922 1455.86 828.144 1457.41 L828.144 1452.69 Q830.969 1451.55 833.422 1450.97 Q835.876 1450.39 837.913 1450.39 Q843.283 1450.39 846.478 1453.08 Q849.672 1455.77 849.672 1460.26 Q849.672 1462.39 848.862 1464.31 Q848.075 1466.2 845.968 1468.8 Q845.39 1469.47 842.288 1472.69 Q839.186 1475.88 833.538 1481.64 Z\" fill=\"#000000\" fill-rule=\"evenodd\" fill-opacity=\"1\" /><path clip-path=\"url(#clip020)\" d=\"M859.718 1451.02 L878.075 1451.02 L878.075 1454.96 L864.001 1454.96 L864.001 1463.43 Q865.019 1463.08 866.038 1462.92 Q867.056 1462.73 868.075 1462.73 Q873.862 1462.73 877.241 1465.9 Q880.621 1469.08 880.621 1474.49 Q880.621 1480.07 877.149 1483.17 Q873.677 1486.25 867.357 1486.25 Q865.181 1486.25 862.913 1485.88 Q860.667 1485.51 858.26 1484.77 L858.26 1480.07 Q860.343 1481.2 862.566 1481.76 Q864.788 1482.32 867.265 1482.32 Q871.269 1482.32 873.607 1480.21 Q875.945 1478.1 875.945 1474.49 Q875.945 1470.88 873.607 1468.77 Q871.269 1466.67 867.265 1466.67 Q865.39 1466.67 863.515 1467.08 Q861.663 1467.5 859.718 1468.38 L859.718 1451.02 Z\" fill=\"#000000\" fill-rule=\"evenodd\" fill-opacity=\"1\" /><path clip-path=\"url(#clip020)\" d=\"M1281.39 1454.1 Q1277.78 1454.1 1275.95 1457.66 Q1274.14 1461.2 1274.14 1468.33 Q1274.14 1475.44 1275.95 1479.01 Q1277.78 1482.55 1281.39 1482.55 Q1285.02 1482.55 1286.83 1479.01 Q1288.66 1475.44 1288.66 1468.33 Q1288.66 1461.2 1286.83 1457.66 Q1285.02 1454.1 1281.39 1454.1 M1281.39 1450.39 Q1287.2 1450.39 1290.25 1455 Q1293.33 1459.58 1293.33 1468.33 Q1293.33 1477.06 1290.25 1481.67 Q1287.2 1486.25 1281.39 1486.25 Q1275.58 1486.25 1272.5 1481.67 Q1269.44 1477.06 1269.44 1468.33 Q1269.44 1459.58 1272.5 1455 Q1275.58 1450.39 1281.39 1450.39 Z\" fill=\"#000000\" fill-rule=\"evenodd\" fill-opacity=\"1\" /><path clip-path=\"url(#clip020)\" d=\"M1301.55 1479.7 L1306.44 1479.7 L1306.44 1485.58 L1301.55 1485.58 L1301.55 1479.7 Z\" fill=\"#000000\" fill-rule=\"evenodd\" fill-opacity=\"1\" /><path clip-path=\"url(#clip020)\" d=\"M1316.67 1451.02 L1335.02 1451.02 L1335.02 1454.96 L1320.95 1454.96 L1320.95 1463.43 Q1321.97 1463.08 1322.99 1462.92 Q1324 1462.73 1325.02 1462.73 Q1330.81 1462.73 1334.19 1465.9 Q1337.57 1469.08 1337.57 1474.49 Q1337.57 1480.07 1334.1 1483.17 Q1330.62 1486.25 1324.31 1486.25 Q1322.13 1486.25 1319.86 1485.88 Q1317.62 1485.51 1315.21 1484.77 L1315.21 1480.07 Q1317.29 1481.2 1319.51 1481.76 Q1321.74 1482.32 1324.21 1482.32 Q1328.22 1482.32 1330.56 1480.21 Q1332.89 1478.1 1332.89 1474.49 Q1332.89 1470.88 1330.56 1468.77 Q1328.22 1466.67 1324.21 1466.67 Q1322.34 1466.67 1320.46 1467.08 Q1318.61 1467.5 1316.67 1468.38 L1316.67 1451.02 Z\" fill=\"#000000\" fill-rule=\"evenodd\" fill-opacity=\"1\" /><path clip-path=\"url(#clip020)\" d=\"M1356.78 1454.1 Q1353.17 1454.1 1351.34 1457.66 Q1349.54 1461.2 1349.54 1468.33 Q1349.54 1475.44 1351.34 1479.01 Q1353.17 1482.55 1356.78 1482.55 Q1360.42 1482.55 1362.22 1479.01 Q1364.05 1475.44 1364.05 1468.33 Q1364.05 1461.2 1362.22 1457.66 Q1360.42 1454.1 1356.78 1454.1 M1356.78 1450.39 Q1362.59 1450.39 1365.65 1455 Q1368.73 1459.58 1368.73 1468.33 Q1368.73 1477.06 1365.65 1481.67 Q1362.59 1486.25 1356.78 1486.25 Q1350.97 1486.25 1347.89 1481.67 Q1344.84 1477.06 1344.84 1468.33 Q1344.84 1459.58 1347.89 1455 Q1350.97 1450.39 1356.78 1450.39 Z\" fill=\"#000000\" fill-rule=\"evenodd\" fill-opacity=\"1\" /><path clip-path=\"url(#clip020)\" d=\"M1769.49 1454.1 Q1765.88 1454.1 1764.05 1457.66 Q1762.25 1461.2 1762.25 1468.33 Q1762.25 1475.44 1764.05 1479.01 Q1765.88 1482.55 1769.49 1482.55 Q1773.13 1482.55 1774.93 1479.01 Q1776.76 1475.44 1776.76 1468.33 Q1776.76 1461.2 1774.93 1457.66 Q1773.13 1454.1 1769.49 1454.1 M1769.49 1450.39 Q1775.3 1450.39 1778.36 1455 Q1781.44 1459.58 1781.44 1468.33 Q1781.44 1477.06 1778.36 1481.67 Q1775.3 1486.25 1769.49 1486.25 Q1763.68 1486.25 1760.61 1481.67 Q1757.55 1477.06 1757.55 1468.33 Q1757.55 1459.58 1760.61 1455 Q1763.68 1450.39 1769.49 1450.39 Z\" fill=\"#000000\" fill-rule=\"evenodd\" fill-opacity=\"1\" /><path clip-path=\"url(#clip020)\" d=\"M1789.66 1479.7 L1794.54 1479.7 L1794.54 1485.58 L1789.66 1485.58 L1789.66 1479.7 Z\" fill=\"#000000\" fill-rule=\"evenodd\" fill-opacity=\"1\" /><path clip-path=\"url(#clip020)\" d=\"M1803.55 1451.02 L1825.77 1451.02 L1825.77 1453.01 L1813.22 1485.58 L1808.34 1485.58 L1820.14 1454.96 L1803.55 1454.96 L1803.55 1451.02 Z\" fill=\"#000000\" fill-rule=\"evenodd\" fill-opacity=\"1\" /><path clip-path=\"url(#clip020)\" d=\"M1834.93 1451.02 L1853.29 1451.02 L1853.29 1454.96 L1839.22 1454.96 L1839.22 1463.43 Q1840.24 1463.08 1841.25 1462.92 Q1842.27 1462.73 1843.29 1462.73 Q1849.08 1462.73 1852.46 1465.9 Q1855.84 1469.08 1855.84 1474.49 Q1855.84 1480.07 1852.36 1483.17 Q1848.89 1486.25 1842.57 1486.25 Q1840.4 1486.25 1838.13 1485.88 Q1835.88 1485.51 1833.48 1484.77 L1833.48 1480.07 Q1835.56 1481.2 1837.78 1481.76 Q1840 1482.32 1842.48 1482.32 Q1846.49 1482.32 1848.82 1480.21 Q1851.16 1478.1 1851.16 1474.49 Q1851.16 1470.88 1848.82 1468.77 Q1846.49 1466.67 1842.48 1466.67 Q1840.61 1466.67 1838.73 1467.08 Q1836.88 1467.5 1834.93 1468.38 L1834.93 1451.02 Z\" fill=\"#000000\" fill-rule=\"evenodd\" fill-opacity=\"1\" /><path clip-path=\"url(#clip020)\" d=\"M2246.37 1481.64 L2254.01 1481.64 L2254.01 1455.28 L2245.7 1456.95 L2245.7 1452.69 L2253.97 1451.02 L2258.64 1451.02 L2258.64 1481.64 L2266.28 1481.64 L2266.28 1485.58 L2246.37 1485.58 L2246.37 1481.64 Z\" fill=\"#000000\" fill-rule=\"evenodd\" fill-opacity=\"1\" /><path clip-path=\"url(#clip020)\" d=\"M2275.73 1479.7 L2280.61 1479.7 L2280.61 1485.58 L2275.73 1485.58 L2275.73 1479.7 Z\" fill=\"#000000\" fill-rule=\"evenodd\" fill-opacity=\"1\" /><path clip-path=\"url(#clip020)\" d=\"M2300.79 1454.1 Q2297.18 1454.1 2295.35 1457.66 Q2293.55 1461.2 2293.55 1468.33 Q2293.55 1475.44 2295.35 1479.01 Q2297.18 1482.55 2300.79 1482.55 Q2304.43 1482.55 2306.23 1479.01 Q2308.06 1475.44 2308.06 1468.33 Q2308.06 1461.2 2306.23 1457.66 Q2304.43 1454.1 2300.79 1454.1 M2300.79 1450.39 Q2306.6 1450.39 2309.66 1455 Q2312.74 1459.58 2312.74 1468.33 Q2312.74 1477.06 2309.66 1481.67 Q2306.6 1486.25 2300.79 1486.25 Q2294.98 1486.25 2291.91 1481.67 Q2288.85 1477.06 2288.85 1468.33 Q2288.85 1459.58 2291.91 1455 Q2294.98 1450.39 2300.79 1450.39 Z\" fill=\"#000000\" fill-rule=\"evenodd\" fill-opacity=\"1\" /><path clip-path=\"url(#clip020)\" d=\"M2330.96 1454.1 Q2327.35 1454.1 2325.52 1457.66 Q2323.71 1461.2 2323.71 1468.33 Q2323.71 1475.44 2325.52 1479.01 Q2327.35 1482.55 2330.96 1482.55 Q2334.59 1482.55 2336.4 1479.01 Q2338.22 1475.44 2338.22 1468.33 Q2338.22 1461.2 2336.4 1457.66 Q2334.59 1454.1 2330.96 1454.1 M2330.96 1450.39 Q2336.77 1450.39 2339.82 1455 Q2342.9 1459.58 2342.9 1468.33 Q2342.9 1477.06 2339.82 1481.67 Q2336.77 1486.25 2330.96 1486.25 Q2325.15 1486.25 2322.07 1481.67 Q2319.01 1477.06 2319.01 1468.33 Q2319.01 1459.58 2322.07 1455 Q2325.15 1450.39 2330.96 1450.39 Z\" fill=\"#000000\" fill-rule=\"evenodd\" fill-opacity=\"1\" /><path clip-path=\"url(#clip020)\" d=\"M1314.75 1546.53 L1314.75 1568.04 L1308.89 1568.04 L1308.89 1546.72 Q1308.89 1541.66 1306.92 1539.14 Q1304.94 1536.63 1301 1536.63 Q1296.25 1536.63 1293.52 1539.65 Q1290.78 1542.68 1290.78 1547.9 L1290.78 1568.04 L1284.89 1568.04 L1284.89 1518.52 L1290.78 1518.52 L1290.78 1537.93 Q1292.88 1534.72 1295.71 1533.13 Q1298.58 1531.54 1302.3 1531.54 Q1308.44 1531.54 1311.59 1535.36 Q1314.75 1539.14 1314.75 1546.53 Z\" fill=\"#000000\" fill-rule=\"evenodd\" fill-opacity=\"1\" /><path clip-path=\"url(#clip020)\" d=\"M1332.79 1562.63 L1355.23 1562.63 L1355.23 1568.04 L1325.06 1568.04 L1325.06 1562.63 Q1328.72 1558.85 1335.02 1552.48 Q1341.35 1546.08 1342.98 1544.24 Q1346.06 1540.77 1347.27 1538.38 Q1348.52 1535.96 1348.52 1533.64 Q1348.52 1529.85 1345.84 1527.46 Q1343.2 1525.08 1338.94 1525.08 Q1335.91 1525.08 1332.54 1526.13 Q1329.2 1527.18 1325.38 1529.31 L1325.38 1522.82 Q1329.26 1521.26 1332.63 1520.46 Q1336.01 1519.66 1338.81 1519.66 Q1346.19 1519.66 1350.58 1523.36 Q1354.98 1527.05 1354.98 1533.22 Q1354.98 1536.15 1353.86 1538.79 Q1352.78 1541.4 1349.88 1544.97 Q1349.09 1545.89 1344.82 1550.32 Q1340.56 1554.71 1332.79 1562.63 Z\" fill=\"#000000\" fill-rule=\"evenodd\" fill-opacity=\"1\" /><polyline clip-path=\"url(#clip022)\" style=\"stroke:#000000; stroke-linecap:round; stroke-linejoin:round; stroke-width:2; stroke-opacity:0.1; fill:none\" points=\"\n",
       "  287.366,1401.42 2352.76,1401.42 \n",
       "  \"/>\n",
       "<polyline clip-path=\"url(#clip022)\" style=\"stroke:#000000; stroke-linecap:round; stroke-linejoin:round; stroke-width:2; stroke-opacity:0.1; fill:none\" points=\"\n",
       "  287.366,1171.98 2352.76,1171.98 \n",
       "  \"/>\n",
       "<polyline clip-path=\"url(#clip022)\" style=\"stroke:#000000; stroke-linecap:round; stroke-linejoin:round; stroke-width:2; stroke-opacity:0.1; fill:none\" points=\"\n",
       "  287.366,942.533 2352.76,942.533 \n",
       "  \"/>\n",
       "<polyline clip-path=\"url(#clip022)\" style=\"stroke:#000000; stroke-linecap:round; stroke-linejoin:round; stroke-width:2; stroke-opacity:0.1; fill:none\" points=\"\n",
       "  287.366,713.09 2352.76,713.09 \n",
       "  \"/>\n",
       "<polyline clip-path=\"url(#clip022)\" style=\"stroke:#000000; stroke-linecap:round; stroke-linejoin:round; stroke-width:2; stroke-opacity:0.1; fill:none\" points=\"\n",
       "  287.366,483.648 2352.76,483.648 \n",
       "  \"/>\n",
       "<polyline clip-path=\"url(#clip022)\" style=\"stroke:#000000; stroke-linecap:round; stroke-linejoin:round; stroke-width:2; stroke-opacity:0.1; fill:none\" points=\"\n",
       "  287.366,254.205 2352.76,254.205 \n",
       "  \"/>\n",
       "<polyline clip-path=\"url(#clip020)\" style=\"stroke:#000000; stroke-linecap:round; stroke-linejoin:round; stroke-width:4; stroke-opacity:1; fill:none\" points=\"\n",
       "  287.366,1423.18 287.366,47.2441 \n",
       "  \"/>\n",
       "<polyline clip-path=\"url(#clip020)\" style=\"stroke:#000000; stroke-linecap:round; stroke-linejoin:round; stroke-width:4; stroke-opacity:1; fill:none\" points=\"\n",
       "  287.366,1401.42 306.264,1401.42 \n",
       "  \"/>\n",
       "<polyline clip-path=\"url(#clip020)\" style=\"stroke:#000000; stroke-linecap:round; stroke-linejoin:round; stroke-width:4; stroke-opacity:1; fill:none\" points=\"\n",
       "  287.366,1171.98 306.264,1171.98 \n",
       "  \"/>\n",
       "<polyline clip-path=\"url(#clip020)\" style=\"stroke:#000000; stroke-linecap:round; stroke-linejoin:round; stroke-width:4; stroke-opacity:1; fill:none\" points=\"\n",
       "  287.366,942.533 306.264,942.533 \n",
       "  \"/>\n",
       "<polyline clip-path=\"url(#clip020)\" style=\"stroke:#000000; stroke-linecap:round; stroke-linejoin:round; stroke-width:4; stroke-opacity:1; fill:none\" points=\"\n",
       "  287.366,713.09 306.264,713.09 \n",
       "  \"/>\n",
       "<polyline clip-path=\"url(#clip020)\" style=\"stroke:#000000; stroke-linecap:round; stroke-linejoin:round; stroke-width:4; stroke-opacity:1; fill:none\" points=\"\n",
       "  287.366,483.648 306.264,483.648 \n",
       "  \"/>\n",
       "<polyline clip-path=\"url(#clip020)\" style=\"stroke:#000000; stroke-linecap:round; stroke-linejoin:round; stroke-width:4; stroke-opacity:1; fill:none\" points=\"\n",
       "  287.366,254.205 306.264,254.205 \n",
       "  \"/>\n",
       "<path clip-path=\"url(#clip020)\" d=\"M114.26 1401.87 L143.936 1401.87 L143.936 1405.8 L114.26 1405.8 L114.26 1401.87 Z\" fill=\"#000000\" fill-rule=\"evenodd\" fill-opacity=\"1\" /><path clip-path=\"url(#clip020)\" d=\"M164.607 1399.55 Q161.459 1399.55 159.607 1401.71 Q157.778 1403.86 157.778 1407.61 Q157.778 1411.34 159.607 1413.51 Q161.459 1415.67 164.607 1415.67 Q167.755 1415.67 169.584 1413.51 Q171.436 1411.34 171.436 1407.61 Q171.436 1403.86 169.584 1401.71 Q167.755 1399.55 164.607 1399.55 M173.889 1384.9 L173.889 1389.16 Q172.13 1388.33 170.325 1387.89 Q168.542 1387.45 166.783 1387.45 Q162.153 1387.45 159.7 1390.57 Q157.269 1393.7 156.922 1400.02 Q158.288 1398 160.348 1396.94 Q162.408 1395.85 164.885 1395.85 Q170.093 1395.85 173.102 1399.02 Q176.135 1402.17 176.135 1407.61 Q176.135 1412.93 172.987 1416.15 Q169.839 1419.37 164.607 1419.37 Q158.612 1419.37 155.44 1414.79 Q152.269 1410.18 152.269 1401.45 Q152.269 1393.26 156.158 1388.4 Q160.047 1383.51 166.598 1383.51 Q168.357 1383.51 170.139 1383.86 Q171.945 1384.21 173.889 1384.9 Z\" fill=\"#000000\" fill-rule=\"evenodd\" fill-opacity=\"1\" /><path clip-path=\"url(#clip020)\" d=\"M194.19 1387.22 Q190.579 1387.22 188.75 1390.78 Q186.945 1394.32 186.945 1401.45 Q186.945 1408.56 188.75 1412.12 Q190.579 1415.67 194.19 1415.67 Q197.825 1415.67 199.63 1412.12 Q201.459 1408.56 201.459 1401.45 Q201.459 1394.32 199.63 1390.78 Q197.825 1387.22 194.19 1387.22 M194.19 1383.51 Q200 1383.51 203.056 1388.12 Q206.135 1392.7 206.135 1401.45 Q206.135 1410.18 203.056 1414.79 Q200 1419.37 194.19 1419.37 Q188.38 1419.37 185.301 1414.79 Q182.246 1410.18 182.246 1401.45 Q182.246 1392.7 185.301 1388.12 Q188.38 1383.51 194.19 1383.51 Z\" fill=\"#000000\" fill-rule=\"evenodd\" fill-opacity=\"1\" /><path clip-path=\"url(#clip020)\" d=\"M214.352 1412.82 L219.236 1412.82 L219.236 1418.7 L214.352 1418.7 L214.352 1412.82 Z\" fill=\"#000000\" fill-rule=\"evenodd\" fill-opacity=\"1\" /><path clip-path=\"url(#clip020)\" d=\"M239.422 1387.22 Q235.81 1387.22 233.982 1390.78 Q232.176 1394.32 232.176 1401.45 Q232.176 1408.56 233.982 1412.12 Q235.81 1415.67 239.422 1415.67 Q243.056 1415.67 244.861 1412.12 Q246.69 1408.56 246.69 1401.45 Q246.69 1394.32 244.861 1390.78 Q243.056 1387.22 239.422 1387.22 M239.422 1383.51 Q245.232 1383.51 248.287 1388.12 Q251.366 1392.7 251.366 1401.45 Q251.366 1410.18 248.287 1414.79 Q245.232 1419.37 239.422 1419.37 Q233.611 1419.37 230.533 1414.79 Q227.477 1410.18 227.477 1401.45 Q227.477 1392.7 230.533 1388.12 Q233.611 1383.51 239.422 1383.51 Z\" fill=\"#000000\" fill-rule=\"evenodd\" fill-opacity=\"1\" /><path clip-path=\"url(#clip020)\" d=\"M115.256 1172.43 L144.931 1172.43 L144.931 1176.36 L115.256 1176.36 L115.256 1172.43 Z\" fill=\"#000000\" fill-rule=\"evenodd\" fill-opacity=\"1\" /><path clip-path=\"url(#clip020)\" d=\"M155.07 1154.7 L173.427 1154.7 L173.427 1158.63 L159.353 1158.63 L159.353 1167.1 Q160.371 1166.76 161.39 1166.59 Q162.408 1166.41 163.427 1166.41 Q169.214 1166.41 172.593 1169.58 Q175.973 1172.75 175.973 1178.17 Q175.973 1183.75 172.501 1186.85 Q169.028 1189.93 162.709 1189.93 Q160.533 1189.93 158.265 1189.56 Q156.019 1189.19 153.612 1188.45 L153.612 1183.75 Q155.695 1184.88 157.917 1185.44 Q160.14 1185.99 162.616 1185.99 Q166.621 1185.99 168.959 1183.89 Q171.297 1181.78 171.297 1178.17 Q171.297 1174.56 168.959 1172.45 Q166.621 1170.34 162.616 1170.34 Q160.741 1170.34 158.866 1170.76 Q157.015 1171.18 155.07 1172.06 L155.07 1154.7 Z\" fill=\"#000000\" fill-rule=\"evenodd\" fill-opacity=\"1\" /><path clip-path=\"url(#clip020)\" d=\"M184.005 1154.7 L206.227 1154.7 L206.227 1156.69 L193.681 1189.26 L188.797 1189.26 L200.602 1158.63 L184.005 1158.63 L184.005 1154.7 Z\" fill=\"#000000\" fill-rule=\"evenodd\" fill-opacity=\"1\" /><path clip-path=\"url(#clip020)\" d=\"M215.348 1183.38 L220.232 1183.38 L220.232 1189.26 L215.348 1189.26 L215.348 1183.38 Z\" fill=\"#000000\" fill-rule=\"evenodd\" fill-opacity=\"1\" /><path clip-path=\"url(#clip020)\" d=\"M230.463 1154.7 L248.82 1154.7 L248.82 1158.63 L234.746 1158.63 L234.746 1167.1 Q235.764 1166.76 236.783 1166.59 Q237.801 1166.41 238.82 1166.41 Q244.607 1166.41 247.986 1169.58 Q251.366 1172.75 251.366 1178.17 Q251.366 1183.75 247.894 1186.85 Q244.421 1189.93 238.102 1189.93 Q235.926 1189.93 233.658 1189.56 Q231.412 1189.19 229.005 1188.45 L229.005 1183.75 Q231.088 1184.88 233.31 1185.44 Q235.533 1185.99 238.009 1185.99 Q242.014 1185.99 244.352 1183.89 Q246.69 1181.78 246.69 1178.17 Q246.69 1174.56 244.352 1172.45 Q242.014 1170.34 238.009 1170.34 Q236.135 1170.34 234.26 1170.76 Q232.408 1171.18 230.463 1172.06 L230.463 1154.7 Z\" fill=\"#000000\" fill-rule=\"evenodd\" fill-opacity=\"1\" /><path clip-path=\"url(#clip020)\" d=\"M114.26 942.984 L143.936 942.984 L143.936 946.919 L114.26 946.919 L114.26 942.984 Z\" fill=\"#000000\" fill-rule=\"evenodd\" fill-opacity=\"1\" /><path clip-path=\"url(#clip020)\" d=\"M154.075 925.253 L172.431 925.253 L172.431 929.188 L158.357 929.188 L158.357 937.66 Q159.376 937.313 160.394 937.151 Q161.413 936.966 162.431 936.966 Q168.218 936.966 171.598 940.137 Q174.977 943.308 174.977 948.725 Q174.977 954.304 171.505 957.405 Q168.033 960.484 161.714 960.484 Q159.538 960.484 157.269 960.114 Q155.024 959.743 152.616 959.003 L152.616 954.304 Q154.7 955.438 156.922 955.993 Q159.144 956.549 161.621 956.549 Q165.626 956.549 167.964 954.443 Q170.302 952.336 170.302 948.725 Q170.302 945.114 167.964 943.007 Q165.626 940.901 161.621 940.901 Q159.746 940.901 157.871 941.318 Q156.019 941.734 154.075 942.614 L154.075 925.253 Z\" fill=\"#000000\" fill-rule=\"evenodd\" fill-opacity=\"1\" /><path clip-path=\"url(#clip020)\" d=\"M184.237 925.253 L202.593 925.253 L202.593 929.188 L188.519 929.188 L188.519 937.66 Q189.538 937.313 190.556 937.151 Q191.575 936.966 192.593 936.966 Q198.38 936.966 201.76 940.137 Q205.139 943.308 205.139 948.725 Q205.139 954.304 201.667 957.405 Q198.195 960.484 191.875 960.484 Q189.7 960.484 187.431 960.114 Q185.186 959.743 182.778 959.003 L182.778 954.304 Q184.862 955.438 187.084 955.993 Q189.306 956.549 191.783 956.549 Q195.787 956.549 198.125 954.443 Q200.463 952.336 200.463 948.725 Q200.463 945.114 198.125 943.007 Q195.787 940.901 191.783 940.901 Q189.908 940.901 188.033 941.318 Q186.181 941.734 184.237 942.614 L184.237 925.253 Z\" fill=\"#000000\" fill-rule=\"evenodd\" fill-opacity=\"1\" /><path clip-path=\"url(#clip020)\" d=\"M214.352 953.933 L219.236 953.933 L219.236 959.813 L214.352 959.813 L214.352 953.933 Z\" fill=\"#000000\" fill-rule=\"evenodd\" fill-opacity=\"1\" /><path clip-path=\"url(#clip020)\" d=\"M239.422 928.332 Q235.81 928.332 233.982 931.896 Q232.176 935.438 232.176 942.568 Q232.176 949.674 233.982 953.239 Q235.81 956.78 239.422 956.78 Q243.056 956.78 244.861 953.239 Q246.69 949.674 246.69 942.568 Q246.69 935.438 244.861 931.896 Q243.056 928.332 239.422 928.332 M239.422 924.628 Q245.232 924.628 248.287 929.234 Q251.366 933.818 251.366 942.568 Q251.366 951.294 248.287 955.901 Q245.232 960.484 239.422 960.484 Q233.611 960.484 230.533 955.901 Q227.477 951.294 227.477 942.568 Q227.477 933.818 230.533 929.234 Q233.611 924.628 239.422 924.628 Z\" fill=\"#000000\" fill-rule=\"evenodd\" fill-opacity=\"1\" /><path clip-path=\"url(#clip020)\" d=\"M115.256 713.542 L144.931 713.542 L144.931 717.477 L115.256 717.477 L115.256 713.542 Z\" fill=\"#000000\" fill-rule=\"evenodd\" fill-opacity=\"1\" /><path clip-path=\"url(#clip020)\" d=\"M155.07 695.81 L173.427 695.81 L173.427 699.746 L159.353 699.746 L159.353 708.218 Q160.371 707.871 161.39 707.708 Q162.408 707.523 163.427 707.523 Q169.214 707.523 172.593 710.695 Q175.973 713.866 175.973 719.282 Q175.973 724.861 172.501 727.963 Q169.028 731.042 162.709 731.042 Q160.533 731.042 158.265 730.671 Q156.019 730.301 153.612 729.56 L153.612 724.861 Q155.695 725.995 157.917 726.551 Q160.14 727.107 162.616 727.107 Q166.621 727.107 168.959 725 Q171.297 722.894 171.297 719.282 Q171.297 715.671 168.959 713.565 Q166.621 711.458 162.616 711.458 Q160.741 711.458 158.866 711.875 Q157.015 712.292 155.07 713.171 L155.07 695.81 Z\" fill=\"#000000\" fill-rule=\"evenodd\" fill-opacity=\"1\" /><path clip-path=\"url(#clip020)\" d=\"M189.213 726.435 L205.533 726.435 L205.533 730.37 L183.588 730.37 L183.588 726.435 Q186.251 723.681 190.834 719.051 Q195.44 714.398 196.621 713.056 Q198.866 710.533 199.746 708.796 Q200.649 707.037 200.649 705.347 Q200.649 702.593 198.704 700.857 Q196.783 699.121 193.681 699.121 Q191.482 699.121 189.028 699.884 Q186.598 700.648 183.82 702.199 L183.82 697.477 Q186.644 696.343 189.098 695.764 Q191.551 695.185 193.588 695.185 Q198.959 695.185 202.153 697.871 Q205.348 700.556 205.348 705.046 Q205.348 707.176 204.537 709.097 Q203.75 710.995 201.644 713.588 Q201.065 714.259 197.963 717.477 Q194.862 720.671 189.213 726.435 Z\" fill=\"#000000\" fill-rule=\"evenodd\" fill-opacity=\"1\" /><path clip-path=\"url(#clip020)\" d=\"M215.348 724.491 L220.232 724.491 L220.232 730.37 L215.348 730.37 L215.348 724.491 Z\" fill=\"#000000\" fill-rule=\"evenodd\" fill-opacity=\"1\" /><path clip-path=\"url(#clip020)\" d=\"M230.463 695.81 L248.82 695.81 L248.82 699.746 L234.746 699.746 L234.746 708.218 Q235.764 707.871 236.783 707.708 Q237.801 707.523 238.82 707.523 Q244.607 707.523 247.986 710.695 Q251.366 713.866 251.366 719.282 Q251.366 724.861 247.894 727.963 Q244.421 731.042 238.102 731.042 Q235.926 731.042 233.658 730.671 Q231.412 730.301 229.005 729.56 L229.005 724.861 Q231.088 725.995 233.31 726.551 Q235.533 727.107 238.009 727.107 Q242.014 727.107 244.352 725 Q246.69 722.894 246.69 719.282 Q246.69 715.671 244.352 713.565 Q242.014 711.458 238.009 711.458 Q236.135 711.458 234.26 711.875 Q232.408 712.292 230.463 713.171 L230.463 695.81 Z\" fill=\"#000000\" fill-rule=\"evenodd\" fill-opacity=\"1\" /><path clip-path=\"url(#clip020)\" d=\"M114.26 484.099 L143.936 484.099 L143.936 488.034 L114.26 488.034 L114.26 484.099 Z\" fill=\"#000000\" fill-rule=\"evenodd\" fill-opacity=\"1\" /><path clip-path=\"url(#clip020)\" d=\"M154.075 466.368 L172.431 466.368 L172.431 470.303 L158.357 470.303 L158.357 478.775 Q159.376 478.428 160.394 478.266 Q161.413 478.081 162.431 478.081 Q168.218 478.081 171.598 481.252 Q174.977 484.423 174.977 489.84 Q174.977 495.419 171.505 498.52 Q168.033 501.599 161.714 501.599 Q159.538 501.599 157.269 501.229 Q155.024 500.858 152.616 500.118 L152.616 495.419 Q154.7 496.553 156.922 497.108 Q159.144 497.664 161.621 497.664 Q165.626 497.664 167.964 495.558 Q170.302 493.451 170.302 489.84 Q170.302 486.229 167.964 484.122 Q165.626 482.016 161.621 482.016 Q159.746 482.016 157.871 482.433 Q156.019 482.849 154.075 483.729 L154.075 466.368 Z\" fill=\"#000000\" fill-rule=\"evenodd\" fill-opacity=\"1\" /><path clip-path=\"url(#clip020)\" d=\"M194.19 469.447 Q190.579 469.447 188.75 473.011 Q186.945 476.553 186.945 483.683 Q186.945 490.789 188.75 494.354 Q190.579 497.895 194.19 497.895 Q197.825 497.895 199.63 494.354 Q201.459 490.789 201.459 483.683 Q201.459 476.553 199.63 473.011 Q197.825 469.447 194.19 469.447 M194.19 465.743 Q200 465.743 203.056 470.349 Q206.135 474.933 206.135 483.683 Q206.135 492.409 203.056 497.016 Q200 501.599 194.19 501.599 Q188.38 501.599 185.301 497.016 Q182.246 492.409 182.246 483.683 Q182.246 474.933 185.301 470.349 Q188.38 465.743 194.19 465.743 Z\" fill=\"#000000\" fill-rule=\"evenodd\" fill-opacity=\"1\" /><path clip-path=\"url(#clip020)\" d=\"M214.352 495.048 L219.236 495.048 L219.236 500.928 L214.352 500.928 L214.352 495.048 Z\" fill=\"#000000\" fill-rule=\"evenodd\" fill-opacity=\"1\" /><path clip-path=\"url(#clip020)\" d=\"M239.422 469.447 Q235.81 469.447 233.982 473.011 Q232.176 476.553 232.176 483.683 Q232.176 490.789 233.982 494.354 Q235.81 497.895 239.422 497.895 Q243.056 497.895 244.861 494.354 Q246.69 490.789 246.69 483.683 Q246.69 476.553 244.861 473.011 Q243.056 469.447 239.422 469.447 M239.422 465.743 Q245.232 465.743 248.287 470.349 Q251.366 474.933 251.366 483.683 Q251.366 492.409 248.287 497.016 Q245.232 501.599 239.422 501.599 Q233.611 501.599 230.533 497.016 Q227.477 492.409 227.477 483.683 Q227.477 474.933 230.533 470.349 Q233.611 465.743 239.422 465.743 Z\" fill=\"#000000\" fill-rule=\"evenodd\" fill-opacity=\"1\" /><path clip-path=\"url(#clip020)\" d=\"M115.256 254.657 L144.931 254.657 L144.931 258.592 L115.256 258.592 L115.256 254.657 Z\" fill=\"#000000\" fill-rule=\"evenodd\" fill-opacity=\"1\" /><path clip-path=\"url(#clip020)\" d=\"M167.871 240.999 L156.065 259.448 L167.871 259.448 L167.871 240.999 M166.644 236.925 L172.524 236.925 L172.524 259.448 L177.454 259.448 L177.454 263.337 L172.524 263.337 L172.524 271.485 L167.871 271.485 L167.871 263.337 L152.269 263.337 L152.269 258.823 L166.644 236.925 Z\" fill=\"#000000\" fill-rule=\"evenodd\" fill-opacity=\"1\" /><path clip-path=\"url(#clip020)\" d=\"M184.005 236.925 L206.227 236.925 L206.227 238.916 L193.681 271.485 L188.797 271.485 L200.602 240.861 L184.005 240.861 L184.005 236.925 Z\" fill=\"#000000\" fill-rule=\"evenodd\" fill-opacity=\"1\" /><path clip-path=\"url(#clip020)\" d=\"M215.348 265.606 L220.232 265.606 L220.232 271.485 L215.348 271.485 L215.348 265.606 Z\" fill=\"#000000\" fill-rule=\"evenodd\" fill-opacity=\"1\" /><path clip-path=\"url(#clip020)\" d=\"M230.463 236.925 L248.82 236.925 L248.82 240.861 L234.746 240.861 L234.746 249.333 Q235.764 248.985 236.783 248.823 Q237.801 248.638 238.82 248.638 Q244.607 248.638 247.986 251.81 Q251.366 254.981 251.366 260.397 Q251.366 265.976 247.894 269.078 Q244.421 272.157 238.102 272.157 Q235.926 272.157 233.658 271.786 Q231.412 271.416 229.005 270.675 L229.005 265.976 Q231.088 267.11 233.31 267.666 Q235.533 268.222 238.009 268.222 Q242.014 268.222 244.352 266.115 Q246.69 264.009 246.69 260.397 Q246.69 256.786 244.352 254.68 Q242.014 252.573 238.009 252.573 Q236.135 252.573 234.26 252.99 Q232.408 253.407 230.463 254.286 L230.463 236.925 Z\" fill=\"#000000\" fill-rule=\"evenodd\" fill-opacity=\"1\" /><path clip-path=\"url(#clip020)\" d=\"M14.479 818.714 L14.479 812.858 L64.0042 812.858 L64.0042 818.714 L14.479 818.714 Z\" fill=\"#000000\" fill-rule=\"evenodd\" fill-opacity=\"1\" /><path clip-path=\"url(#clip020)\" d=\"M32.4621 786.79 Q32.4621 791.501 36.1542 794.238 Q39.8145 796.975 46.212 796.975 Q52.6095 796.975 56.3017 794.27 Q59.9619 791.533 59.9619 786.79 Q59.9619 782.111 56.2698 779.374 Q52.5777 776.637 46.212 776.637 Q39.8781 776.637 36.186 779.374 Q32.4621 782.111 32.4621 786.79 M27.4968 786.79 Q27.4968 779.151 32.4621 774.791 Q37.4273 770.43 46.212 770.43 Q54.9649 770.43 59.9619 774.791 Q64.9272 779.151 64.9272 786.79 Q64.9272 794.461 59.9619 798.821 Q54.9649 803.15 46.212 803.15 Q37.4273 803.15 32.4621 798.821 Q27.4968 794.461 27.4968 786.79 Z\" fill=\"#000000\" fill-rule=\"evenodd\" fill-opacity=\"1\" /><path clip-path=\"url(#clip020)\" d=\"M45.7664 737.265 Q39.4007 737.265 35.8996 739.907 Q32.3984 742.517 32.3984 747.259 Q32.3984 751.97 35.8996 754.611 Q39.4007 757.221 45.7664 757.221 Q52.1003 757.221 55.6014 754.611 Q59.1026 751.97 59.1026 747.259 Q59.1026 742.517 55.6014 739.907 Q52.1003 737.265 45.7664 737.265 M59.58 731.408 Q68.683 731.408 73.1071 735.451 Q77.5631 739.493 77.5631 747.832 Q77.5631 750.919 77.0857 753.657 Q76.6401 756.394 75.6852 758.972 L69.9879 758.972 Q71.3884 756.394 72.0568 753.879 Q72.7252 751.365 72.7252 748.755 Q72.7252 742.994 69.7015 740.129 Q66.7096 737.265 60.6303 737.265 L57.7339 737.265 Q60.885 739.079 62.4446 741.912 Q64.0042 744.745 64.0042 748.691 Q64.0042 755.248 59.0071 759.258 Q54.01 763.269 45.7664 763.269 Q37.491 763.269 32.4939 759.258 Q27.4968 755.248 27.4968 748.691 Q27.4968 744.745 29.0564 741.912 Q30.616 739.079 33.7671 737.265 L28.3562 737.265 L28.3562 731.408 L59.58 731.408 Z\" fill=\"#000000\" fill-rule=\"evenodd\" fill-opacity=\"1\" /><path clip-path=\"url(#clip020)\" d=\"M14.479 719.345 L14.479 713.489 L64.0042 713.489 L64.0042 719.345 L14.479 719.345 Z\" fill=\"#000000\" fill-rule=\"evenodd\" fill-opacity=\"1\" /><path clip-path=\"url(#clip020)\" d=\"M28.3562 701.235 L28.3562 695.379 L64.0042 695.379 L64.0042 701.235 L28.3562 701.235 M14.479 701.235 L14.479 695.379 L21.895 695.379 L21.895 701.235 L14.479 701.235 Z\" fill=\"#000000\" fill-rule=\"evenodd\" fill-opacity=\"1\" /><path clip-path=\"url(#clip020)\" d=\"M14.479 683.347 L14.479 677.459 L43.7294 677.459 L28.3562 659.985 L28.3562 652.506 L45.0344 671.412 L64.0042 651.71 L64.0042 659.349 L46.5939 677.459 L64.0042 677.459 L64.0042 683.347 L14.479 683.347 Z\" fill=\"#000000\" fill-rule=\"evenodd\" fill-opacity=\"1\" /><polyline clip-path=\"url(#clip022)\" style=\"stroke:#0000ff; stroke-linecap:round; stroke-linejoin:round; stroke-width:4; stroke-opacity:1; fill:none\" points=\"\n",
       "  345.82,1384.24 347.771,1382.94 349.721,1381.65 351.672,1380.37 353.622,1379.08 355.572,1377.8 357.523,1376.53 359.473,1375.26 361.424,1373.99 363.374,1372.73 \n",
       "  365.325,1371.47 367.275,1370.21 369.226,1368.96 371.176,1367.71 373.126,1366.47 375.077,1365.23 377.027,1363.99 378.978,1362.76 380.928,1361.53 382.879,1360.31 \n",
       "  384.829,1359.09 386.779,1357.87 388.73,1356.66 390.68,1355.45 392.631,1354.24 394.581,1353.04 396.532,1351.84 398.482,1350.64 400.432,1349.45 402.383,1348.26 \n",
       "  404.333,1347.07 406.284,1345.89 408.234,1344.71 410.185,1343.54 412.135,1342.37 414.085,1341.2 416.036,1340.04 417.986,1338.88 419.937,1337.72 421.887,1336.56 \n",
       "  423.838,1335.41 425.788,1334.27 427.738,1333.12 429.689,1331.98 431.639,1330.84 433.59,1329.71 435.54,1328.58 437.491,1327.45 439.441,1326.33 441.391,1325.21 \n",
       "  443.342,1324.09 445.292,1322.97 447.243,1321.86 449.193,1320.75 451.144,1319.65 453.094,1318.55 455.045,1317.45 456.995,1316.35 458.945,1315.26 460.896,1314.17 \n",
       "  462.846,1313.08 464.797,1312 466.747,1310.92 468.698,1309.84 470.648,1308.77 472.598,1307.7 474.549,1306.63 476.499,1305.56 478.45,1304.5 480.4,1303.44 \n",
       "  482.351,1302.38 484.301,1301.33 486.251,1300.28 488.202,1299.23 490.152,1298.19 492.103,1297.15 494.053,1296.11 496.004,1295.07 497.954,1294.04 499.904,1293.01 \n",
       "  501.855,1291.98 503.805,1290.95 505.756,1289.93 507.706,1288.91 509.657,1287.89 511.607,1286.88 513.557,1285.87 515.508,1284.86 517.458,1283.85 519.409,1282.85 \n",
       "  521.359,1281.85 523.31,1280.85 525.26,1279.86 527.21,1278.87 529.161,1277.88 531.111,1276.89 533.062,1275.91 535.012,1274.92 536.963,1273.94 538.913,1272.97 \n",
       "  540.863,1271.99 542.814,1271.02 544.764,1270.05 546.715,1269.09 548.665,1268.12 550.616,1267.16 552.566,1266.2 554.517,1265.25 556.467,1264.29 558.417,1263.34 \n",
       "  560.368,1262.39 562.318,1261.45 564.269,1260.5 566.219,1259.56 568.17,1258.62 570.12,1257.69 572.07,1256.75 574.021,1255.82 575.971,1254.89 577.922,1253.97 \n",
       "  579.872,1253.04 581.823,1252.12 583.773,1251.2 585.723,1250.28 587.674,1249.37 589.624,1248.45 591.575,1247.54 593.525,1246.64 595.476,1245.73 597.426,1244.83 \n",
       "  599.376,1243.93 601.327,1243.03 603.277,1242.13 605.228,1241.24 607.178,1240.34 609.129,1239.45 611.079,1238.57 613.029,1237.68 614.98,1236.8 616.93,1235.92 \n",
       "  618.881,1235.04 620.831,1234.16 622.782,1233.29 624.732,1232.42 626.682,1231.55 628.633,1230.68 630.583,1229.81 632.534,1228.95 634.484,1228.09 636.435,1227.23 \n",
       "  638.385,1226.37 640.336,1225.52 642.286,1224.66 644.236,1223.81 646.187,1222.96 648.137,1222.12 650.088,1221.27 652.038,1220.43 653.989,1219.59 655.939,1218.75 \n",
       "  657.889,1217.92 659.84,1217.08 661.79,1216.25 663.741,1215.42 665.691,1214.59 667.642,1213.77 669.592,1212.94 671.542,1212.12 673.493,1211.3 675.443,1210.48 \n",
       "  677.394,1209.67 679.344,1208.85 681.295,1208.04 683.245,1207.23 685.195,1206.42 687.146,1205.61 689.096,1204.81 691.047,1204.01 692.997,1203.21 694.948,1202.41 \n",
       "  696.898,1201.61 698.848,1200.82 700.799,1200.02 702.749,1199.23 704.7,1198.44 706.65,1197.66 708.601,1196.87 710.551,1196.09 712.501,1195.3 714.452,1194.52 \n",
       "  716.402,1193.75 718.353,1192.97 720.303,1192.2 722.254,1191.42 724.204,1190.65 726.154,1189.88 728.105,1189.12 730.055,1188.35 732.006,1187.59 733.956,1186.82 \n",
       "  735.907,1186.06 737.857,1185.31 739.808,1184.55 741.758,1183.8 743.708,1183.04 745.659,1182.29 747.609,1181.54 749.56,1180.79 751.51,1180.05 753.461,1179.3 \n",
       "  755.411,1178.56 757.361,1177.82 759.312,1177.08 761.262,1176.34 763.213,1175.61 765.163,1174.87 767.114,1174.14 769.064,1173.41 771.014,1172.68 772.965,1171.95 \n",
       "  774.915,1171.23 776.866,1170.5 778.816,1169.78 780.767,1169.06 782.717,1168.34 784.667,1167.62 786.618,1166.91 788.568,1166.19 790.519,1165.48 792.469,1164.77 \n",
       "  794.42,1164.06 796.37,1163.35 798.32,1162.65 800.271,1161.94 802.221,1161.24 804.172,1160.54 806.122,1159.84 808.073,1159.14 810.023,1158.44 811.973,1157.75 \n",
       "  813.924,1157.05 815.874,1156.36 817.825,1155.67 819.775,1154.98 821.726,1154.3 823.676,1153.61 825.627,1152.93 827.577,1152.24 829.527,1151.56 831.478,1150.88 \n",
       "  833.428,1150.2 835.379,1149.53 837.329,1148.85 839.28,1148.18 841.23,1147.51 843.18,1146.84 845.131,1146.17 847.081,1145.5 849.032,1144.83 850.982,1144.17 \n",
       "  852.933,1143.5 854.883,1142.84 856.833,1142.18 858.784,1141.52 860.734,1140.87 862.685,1140.21 864.635,1139.55 866.586,1138.9 868.536,1138.25 870.486,1137.6 \n",
       "  872.437,1136.95 874.387,1136.3 876.338,1135.66 878.288,1135.01 880.239,1134.37 882.189,1133.73 884.139,1133.09 886.09,1132.45 888.04,1131.81 889.991,1131.17 \n",
       "  891.941,1130.54 893.892,1129.9 895.842,1129.27 897.792,1128.64 899.743,1128.01 901.693,1127.38 903.644,1126.76 905.594,1126.13 907.545,1125.51 909.495,1124.89 \n",
       "  911.446,1124.26 913.396,1123.64 915.346,1123.03 917.297,1122.41 919.247,1121.79 921.198,1121.18 923.148,1120.56 925.099,1119.95 927.049,1119.34 928.999,1118.73 \n",
       "  930.95,1118.12 932.9,1117.52 934.851,1116.91 936.801,1116.31 938.752,1115.71 940.702,1115.1 942.652,1114.5 944.603,1113.9 946.553,1113.31 948.504,1112.71 \n",
       "  950.454,1112.11 952.405,1111.52 954.355,1110.93 956.305,1110.34 958.256,1109.75 960.206,1109.16 962.157,1108.57 964.107,1107.98 966.058,1107.4 968.008,1106.81 \n",
       "  969.958,1106.23 971.909,1105.65 973.859,1105.07 975.81,1104.49 977.76,1103.91 979.711,1103.34 981.661,1102.76 983.611,1102.19 985.562,1101.61 987.512,1101.04 \n",
       "  989.463,1100.47 991.413,1099.9 993.364,1099.33 995.314,1098.77 997.264,1098.2 999.215,1097.64 1001.17,1097.07 1003.12,1096.51 1005.07,1095.95 1007.02,1095.39 \n",
       "  1008.97,1094.83 1010.92,1094.28 1012.87,1093.72 1014.82,1093.16 1016.77,1092.61 1018.72,1092.06 1020.67,1091.51 1022.62,1090.95 1024.57,1090.41 1026.52,1089.86 \n",
       "  1028.47,1089.31 1030.42,1088.76 1032.37,1088.22 1034.32,1087.68 1036.27,1087.13 1038.22,1086.59 1040.17,1086.05 1042.12,1085.51 1044.07,1084.98 1046.03,1084.44 \n",
       "  1047.98,1083.9 1049.93,1083.37 1051.88,1082.83 1053.83,1082.3 1055.78,1081.77 1057.73,1081.24 1059.68,1080.71 1061.63,1080.18 1063.58,1079.66 1065.53,1079.13 \n",
       "  1067.48,1078.61 1069.43,1078.08 1071.38,1077.56 1073.33,1077.04 1075.28,1076.52 1077.23,1076 1079.18,1075.48 1081.13,1074.96 1083.08,1074.45 1085.03,1073.93 \n",
       "  1086.98,1073.42 1088.93,1072.91 1090.89,1072.39 1092.84,1071.88 1094.79,1071.37 1096.74,1070.86 1098.69,1070.36 1100.64,1069.85 1102.59,1069.35 1104.54,1068.84 \n",
       "  1106.49,1068.34 1108.44,1067.84 1110.39,1067.33 1112.34,1066.83 1114.29,1066.33 1116.24,1065.84 1118.19,1065.34 1120.14,1064.84 1122.09,1064.35 1124.04,1063.85 \n",
       "  1125.99,1063.36 1127.94,1062.87 1129.89,1062.38 1131.84,1061.89 1133.79,1061.4 1135.75,1060.91 1137.7,1060.42 1139.65,1059.94 1141.6,1059.45 1143.55,1058.97 \n",
       "  1145.5,1058.49 1147.45,1058 1149.4,1057.52 1151.35,1057.04 1153.3,1056.56 1155.25,1056.09 1157.2,1055.61 1159.15,1055.13 1161.1,1054.66 1163.05,1054.18 \n",
       "  1165,1053.71 1166.95,1053.24 1168.9,1052.77 1170.85,1052.3 1172.8,1051.83 1174.75,1051.36 1176.7,1050.89 1178.65,1050.43 1180.61,1049.96 1182.56,1049.5 \n",
       "  1184.51,1049.03 1186.46,1048.57 1188.41,1048.11 1190.36,1047.65 1192.31,1047.19 1194.26,1046.73 1196.21,1046.27 1198.16,1045.82 1200.11,1045.36 1202.06,1044.9 \n",
       "  1204.01,1044.45 1205.96,1044 1207.91,1043.55 1209.86,1043.09 1211.81,1042.64 1213.76,1042.2 1215.71,1041.75 1217.66,1041.3 1219.61,1040.85 1221.56,1040.41 \n",
       "  1223.51,1039.96 1225.46,1039.52 1227.42,1039.08 1229.37,1038.63 1231.32,1038.19 1233.27,1037.75 1235.22,1037.31 1237.17,1036.88 1239.12,1036.44 1241.07,1036 \n",
       "  1243.02,1035.57 1244.97,1035.13 1246.92,1034.7 1248.87,1034.27 1250.82,1033.83 1252.77,1033.4 1254.72,1032.97 1256.67,1032.54 1258.62,1032.12 1260.57,1031.69 \n",
       "  1262.52,1031.26 1264.47,1030.84 1266.42,1030.41 1268.37,1029.99 1270.32,1029.57 1272.28,1029.14 1274.23,1028.72 1276.18,1028.3 1278.13,1027.88 1280.08,1027.46 \n",
       "  1282.03,1027.05 1283.98,1026.63 1285.93,1026.21 1287.88,1025.8 1289.83,1025.39 1291.78,1024.97 1293.73,1024.56 1295.68,1024.15 1297.63,1023.74 1299.58,1023.33 \n",
       "  1301.53,1022.92 1303.48,1022.51 1305.43,1022.1 1307.38,1021.7 1309.33,1021.29 1311.28,1020.89 1313.23,1020.48 1315.18,1020.08 1317.14,1019.68 1319.09,1019.28 \n",
       "  1321.04,1018.88 1322.99,1018.48 1324.94,1018.08 1326.89,1017.68 1328.84,1017.28 1330.79,1016.89 1332.74,1016.49 1334.69,1016.1 1336.64,1015.7 1338.59,1015.31 \n",
       "  1340.54,1014.92 1342.49,1014.53 1344.44,1014.14 1346.39,1013.75 1348.34,1013.36 1350.29,1012.97 1352.24,1012.59 1354.19,1012.2 1356.14,1011.81 1358.09,1011.43 \n",
       "  1360.04,1011.05 1362,1010.66 1363.95,1010.28 1365.9,1009.9 1367.85,1009.52 1369.8,1009.14 1371.75,1008.76 1373.7,1008.38 1375.65,1008.01 1377.6,1007.63 \n",
       "  1379.55,1007.26 1381.5,1006.88 1383.45,1006.51 1385.4,1006.14 1387.35,1005.76 1389.3,1005.39 1391.25,1005.02 1393.2,1004.65 1395.15,1004.28 1397.1,1003.91 \n",
       "  1399.05,1003.55 1401,1003.18 1402.95,1002.82 1404.9,1002.45 1406.86,1002.09 1408.81,1001.72 1410.76,1001.36 1412.71,1001 1414.66,1000.64 1416.61,1000.28 \n",
       "  1418.56,999.92 1420.51,999.561 1422.46,999.204 1424.41,998.847 1426.36,998.491 1428.31,998.135 1430.26,997.781 1432.21,997.427 1434.16,997.074 1436.11,996.722 \n",
       "  1438.06,996.371 1440.01,996.021 1441.96,995.671 1443.91,995.322 1445.86,994.974 1447.81,994.626 1449.76,994.28 1451.72,993.934 1453.67,993.589 1455.62,993.245 \n",
       "  1457.57,992.901 1459.52,992.559 1461.47,992.217 1463.42,991.876 1465.37,991.536 1467.32,991.196 1469.27,990.857 1471.22,990.519 1473.17,990.182 1475.12,989.846 \n",
       "  1477.07,989.51 1479.02,989.175 1480.97,988.841 1482.92,988.508 1484.87,988.175 1486.82,987.843 1488.77,987.512 1490.72,987.182 1492.67,986.852 1494.62,986.524 \n",
       "  1496.57,986.196 1498.53,985.868 1500.48,985.542 1502.43,985.216 1504.38,984.891 1506.33,984.567 1508.28,984.244 1510.23,983.921 1512.18,983.599 1514.13,983.278 \n",
       "  1516.08,982.958 1518.03,982.638 1519.98,982.319 1521.93,982.001 1523.88,981.684 1525.83,981.367 1527.78,981.052 1529.73,980.737 1531.68,980.422 1533.63,980.109 \n",
       "  1535.58,979.796 1537.53,979.484 1539.48,979.173 1541.43,978.862 1543.39,978.552 1545.34,978.243 1547.29,977.935 1549.24,977.628 1551.19,977.321 1553.14,977.015 \n",
       "  1555.09,976.71 1557.04,976.405 1558.99,976.101 1560.94,975.798 1562.89,975.496 1564.84,975.194 1566.79,974.894 1568.74,974.594 1570.69,974.294 1572.64,973.996 \n",
       "  1574.59,973.698 1576.54,973.401 1578.49,973.104 1580.44,972.809 1582.39,972.514 1584.34,972.22 1586.29,971.926 1588.25,971.634 1590.2,971.342 1592.15,971.051 \n",
       "  1594.1,970.76 1596.05,970.471 1598,970.182 1599.95,969.893 1601.9,969.606 1603.85,969.319 1605.8,969.033 1607.75,968.748 1609.7,968.463 1611.65,968.179 \n",
       "  1613.6,967.896 1615.55,967.614 1617.5,967.332 1619.45,967.051 1621.4,966.771 1623.35,966.492 1625.3,966.213 1627.25,965.935 1629.2,965.658 1631.15,965.381 \n",
       "  1633.11,965.106 1635.06,964.83 1637.01,964.556 1638.96,964.282 1640.91,964.01 1642.86,963.737 1644.81,963.466 1646.76,963.195 1648.71,962.925 1650.66,962.656 \n",
       "  1652.61,962.387 1654.56,962.12 1656.51,961.852 1658.46,961.586 1660.41,961.32 1662.36,961.055 1664.31,960.791 1666.26,960.528 1668.21,960.265 1670.16,960.003 \n",
       "  1672.11,959.741 1674.06,959.481 1676.01,959.221 1677.97,958.961 1679.92,958.703 1681.87,958.445 1683.82,958.188 1685.77,957.932 1687.72,957.676 1689.67,957.421 \n",
       "  1691.62,957.167 1693.57,956.913 1695.52,956.66 1697.47,956.408 1699.42,956.157 1701.37,955.906 1703.32,955.656 1705.27,955.407 1707.22,955.158 1709.17,954.91 \n",
       "  1711.12,954.663 1713.07,954.417 1715.02,954.171 1716.97,953.926 1718.92,953.681 1720.87,953.438 1722.83,953.195 1724.78,952.952 1726.73,952.711 1728.68,952.47 \n",
       "  1730.63,952.23 1732.58,951.99 1734.53,951.751 1736.48,951.513 1738.43,951.276 1740.38,951.039 1742.33,950.803 1744.28,950.567 1746.23,950.333 1748.18,950.099 \n",
       "  1750.13,949.865 1752.08,949.633 1754.03,949.401 1755.98,949.17 1757.93,948.939 1759.88,948.709 1761.83,948.48 1763.78,948.251 1765.73,948.024 1767.68,947.796 \n",
       "  1769.64,947.57 1771.59,947.344 1773.54,947.119 1775.49,946.894 1777.44,946.671 1779.39,946.447 1781.34,946.225 1783.29,946.003 1785.24,945.782 1787.19,945.562 \n",
       "  1789.14,945.342 1791.09,945.123 1793.04,944.904 1794.99,944.686 1796.94,944.469 1798.89,944.252 1800.84,944.037 1802.79,943.821 1804.74,943.607 1806.69,943.393 \n",
       "  1808.64,943.18 1810.59,942.967 1812.54,942.755 1814.5,942.544 1816.45,942.333 1818.4,942.123 1820.35,941.913 1822.3,941.704 1824.25,941.496 1826.2,941.289 \n",
       "  1828.15,941.082 1830.1,940.875 1832.05,940.67 1834,940.465 1835.95,940.26 1837.9,940.056 1839.85,939.853 1841.8,939.651 1843.75,939.449 1845.7,939.247 \n",
       "  1847.65,939.046 1849.6,938.846 1851.55,938.647 1853.5,938.448 1855.45,938.249 1857.4,938.051 1859.36,937.854 1861.31,937.657 1863.26,937.461 1865.21,937.266 \n",
       "  1867.16,937.071 1869.11,936.877 1871.06,936.683 1873.01,936.49 1874.96,936.297 1876.91,936.105 1878.86,935.913 1880.81,935.722 1882.76,935.532 1884.71,935.342 \n",
       "  1886.66,935.152 1888.61,934.963 1890.56,934.775 1892.51,934.587 1894.46,934.4 1896.41,934.213 1898.36,934.027 1900.31,933.841 1902.26,933.656 1904.22,933.471 \n",
       "  1906.17,933.287 1908.12,933.103 1910.07,932.92 1912.02,932.737 1913.97,932.554 1915.92,932.372 1917.87,932.191 1919.82,932.01 1921.77,931.829 1923.72,931.649 \n",
       "  1925.67,931.469 1927.62,931.29 1929.57,931.111 1931.52,930.932 1933.47,930.754 1935.42,930.577 1937.37,930.399 1939.32,930.222 1941.27,930.046 1943.22,929.87 \n",
       "  1945.17,929.694 1947.12,929.518 1949.08,929.343 1951.03,929.168 1952.98,928.994 1954.93,928.82 1956.88,928.646 1958.83,928.472 1960.78,928.299 1962.73,928.126 \n",
       "  1964.68,927.953 1966.63,927.78 1968.58,927.608 1970.53,927.436 1972.48,927.264 1974.43,927.092 1976.38,926.921 1978.33,926.75 1980.28,926.578 1982.23,926.407 \n",
       "  1984.18,926.237 1986.13,926.066 1988.08,925.895 1990.03,925.725 1991.98,925.554 1993.94,925.384 1995.89,925.214 1997.84,925.044 1999.79,924.873 2001.74,924.703 \n",
       "  2003.69,924.533 2005.64,924.363 2007.59,924.192 2009.54,924.022 2011.49,923.851 2013.44,923.681 2015.39,923.51 2017.34,923.339 2019.29,923.168 2021.24,922.997 \n",
       "  2023.19,922.826 2025.14,922.654 2027.09,922.482 2029.04,922.31 2030.99,922.138 2032.94,921.965 2034.89,921.792 2036.84,921.618 2038.79,921.444 2040.75,921.27 \n",
       "  2042.7,921.095 2044.65,920.919 2046.6,920.743 2048.55,920.567 2050.5,920.39 2052.45,920.212 2054.4,920.034 2056.35,919.855 2058.3,919.675 2060.25,919.495 \n",
       "  2062.2,919.313 2064.15,919.131 2066.1,918.948 2068.05,918.764 2070,918.579 2071.95,918.393 2073.9,918.206 2075.85,918.017 2077.8,917.828 2079.75,917.638 \n",
       "  2081.7,917.446 2083.65,917.253 2085.61,917.058 2087.56,916.862 2089.51,916.665 2091.46,916.466 2093.41,916.265 2095.36,916.063 2097.31,915.859 2099.26,915.653 \n",
       "  2101.21,915.445 2103.16,915.235 2105.11,915.023 2107.06,914.81 2109.01,914.594 2110.96,914.375 2112.91,914.154 2114.86,913.931 2116.81,913.706 2118.76,913.477 \n",
       "  2120.71,913.246 2122.66,913.012 2124.61,912.775 2126.56,912.535 2128.51,912.292 2130.47,912.045 2132.42,911.795 2134.37,911.542 2136.32,911.284 2138.27,911.023 \n",
       "  2140.22,910.758 2142.17,910.489 2144.12,910.215 2146.07,909.937 2148.02,909.654 2149.97,909.367 2151.92,909.074 2153.87,908.776 2155.82,908.473 2157.77,908.164 \n",
       "  2159.72,907.849 2161.67,907.528 2163.62,907.201 2165.57,906.867 2167.52,906.527 2169.47,906.179 2171.42,905.823 2173.37,905.46 2175.33,905.089 2177.28,904.71 \n",
       "  2179.23,904.321 2181.18,903.924 2183.13,903.517 2185.08,903.099 2187.03,902.672 2188.98,902.233 2190.93,901.783 2192.88,901.321 2194.83,900.847 2196.78,900.359 \n",
       "  2198.73,899.858 2200.68,899.342 2202.63,898.811 2204.58,898.264 2206.53,897.7 2208.48,897.119 2210.43,896.519 2212.38,895.9 2214.33,895.259 2216.28,894.597 \n",
       "  2218.23,893.912 2220.19,893.202 2222.14,892.467 2224.09,891.704 2226.04,890.911 2227.99,890.087 2229.94,889.231 2231.89,888.338 2233.84,887.407 2235.79,886.436 \n",
       "  2237.74,885.421 2239.69,884.359 2241.64,883.245 2243.59,882.077 2245.54,880.849 2247.49,879.555 2249.44,878.191 2251.39,876.749 2253.34,875.221 2255.29,873.599 \n",
       "  2257.24,871.873 2259.19,870.029 2261.14,868.055 2263.09,865.932 2265.05,863.643 2267,861.161 2268.95,858.458 2270.9,855.496 2272.85,852.228 2274.8,848.595 \n",
       "  2276.75,844.517 2278.7,839.886 2280.65,834.549 2282.6,828.285 2284.55,820.749 2286.5,811.36 2288.45,799.032 2290.4,781.323 2292.35,750.438 \n",
       "  \"/>\n",
       "<circle clip-path=\"url(#clip022)\" cx=\"2294.3\" cy=\"86.1857\" r=\"14.4\" fill=\"#0000ff\" fill-rule=\"evenodd\" fill-opacity=\"1\" stroke=\"#000000\" stroke-opacity=\"1\" stroke-width=\"3.2\"/>\n",
       "<polyline clip-path=\"url(#clip022)\" style=\"stroke:#ff0000; stroke-linecap:round; stroke-linejoin:round; stroke-width:4; stroke-opacity:1; fill:none\" points=\"\n",
       "  345.82,1145.6 347.771,1144.18 349.721,1142.78 351.672,1141.37 353.622,1139.97 355.572,1138.58 357.523,1137.19 359.473,1135.81 361.424,1134.43 363.374,1133.06 \n",
       "  365.325,1131.69 367.275,1130.32 369.226,1128.96 371.176,1127.61 373.126,1126.26 375.077,1124.91 377.027,1123.57 378.978,1122.23 380.928,1120.9 382.879,1119.57 \n",
       "  384.829,1118.25 386.779,1116.93 388.73,1115.62 390.68,1114.31 392.631,1113 394.581,1111.7 396.532,1110.4 398.482,1109.11 400.432,1107.82 402.383,1106.54 \n",
       "  404.333,1105.26 406.284,1103.98 408.234,1102.71 410.185,1101.45 412.135,1100.18 414.085,1098.92 416.036,1097.67 417.986,1096.42 419.937,1095.17 421.887,1093.93 \n",
       "  423.838,1092.69 425.788,1091.46 427.738,1090.23 429.689,1089 431.639,1087.78 433.59,1086.56 435.54,1085.35 437.491,1084.14 439.441,1082.93 441.391,1081.73 \n",
       "  443.342,1080.53 445.292,1079.34 447.243,1078.15 449.193,1076.96 451.144,1075.78 453.094,1074.6 455.045,1073.42 456.995,1072.25 458.945,1071.08 460.896,1069.92 \n",
       "  462.846,1068.76 464.797,1067.6 466.747,1066.45 468.698,1065.3 470.648,1064.15 472.598,1063.01 474.549,1061.87 476.499,1060.73 478.45,1059.6 480.4,1058.48 \n",
       "  482.351,1057.35 484.301,1056.23 486.251,1055.11 488.202,1054 490.152,1052.89 492.103,1051.78 494.053,1050.68 496.004,1049.58 497.954,1048.48 499.904,1047.38 \n",
       "  501.855,1046.29 503.805,1045.21 505.756,1044.12 507.706,1043.04 509.657,1041.97 511.607,1040.89 513.557,1039.82 515.508,1038.76 517.458,1037.69 519.409,1036.63 \n",
       "  521.359,1035.57 523.31,1034.52 525.26,1033.47 527.21,1032.42 529.161,1031.38 531.111,1030.34 533.062,1029.3 535.012,1028.26 536.963,1027.23 538.913,1026.2 \n",
       "  540.863,1025.18 542.814,1024.15 544.764,1023.13 546.715,1022.12 548.665,1021.1 550.616,1020.09 552.566,1019.09 554.517,1018.08 556.467,1017.08 558.417,1016.08 \n",
       "  560.368,1015.09 562.318,1014.09 564.269,1013.1 566.219,1012.12 568.17,1011.13 570.12,1010.15 572.07,1009.17 574.021,1008.2 575.971,1007.23 577.922,1006.26 \n",
       "  579.872,1005.29 581.823,1004.33 583.773,1003.37 585.723,1002.41 587.674,1001.45 589.624,1000.5 591.575,999.552 593.525,998.605 595.476,997.661 597.426,996.72 \n",
       "  599.376,995.781 601.327,994.845 603.277,993.912 605.228,992.982 607.178,992.054 609.129,991.129 611.079,990.207 613.029,989.287 614.98,988.37 616.93,987.455 \n",
       "  618.881,986.544 620.831,985.634 622.782,984.728 624.732,983.824 626.682,982.923 628.633,982.024 630.583,981.128 632.534,980.234 634.484,979.343 636.435,978.455 \n",
       "  638.385,977.569 640.336,976.685 642.286,975.805 644.236,974.926 646.187,974.05 648.137,973.177 650.088,972.306 652.038,971.438 653.989,970.572 655.939,969.708 \n",
       "  657.889,968.847 659.84,967.988 661.79,967.132 663.741,966.278 665.691,965.427 667.642,964.578 669.592,963.731 671.542,962.887 673.493,962.045 675.443,961.206 \n",
       "  677.394,960.369 679.344,959.534 681.295,958.702 683.245,957.872 685.195,957.044 687.146,956.219 689.096,955.395 691.047,954.575 692.997,953.756 694.948,952.94 \n",
       "  696.898,952.126 698.848,951.314 700.799,950.505 702.749,949.698 704.7,948.893 706.65,948.09 708.601,947.29 710.551,946.491 712.501,945.695 714.452,944.902 \n",
       "  716.402,944.11 718.353,943.321 720.303,942.533 722.254,941.748 724.204,940.965 726.154,940.185 728.105,939.406 730.055,938.63 732.006,937.855 733.956,937.083 \n",
       "  735.907,936.313 737.857,935.545 739.808,934.78 741.758,934.016 743.708,933.254 745.659,932.495 747.609,931.738 749.56,930.982 751.51,930.229 753.461,929.478 \n",
       "  755.411,928.729 757.361,927.982 759.312,927.237 761.262,926.494 763.213,925.753 765.163,925.014 767.114,924.277 769.064,923.542 771.014,922.809 772.965,922.078 \n",
       "  774.915,921.349 776.866,920.622 778.816,919.897 780.767,919.174 782.717,918.453 784.667,917.734 786.618,917.017 788.568,916.302 790.519,915.589 792.469,914.878 \n",
       "  794.42,914.168 796.37,913.461 798.32,912.756 800.271,912.052 802.221,911.35 804.172,910.651 806.122,909.953 808.073,909.257 810.023,908.563 811.973,907.87 \n",
       "  813.924,907.18 815.874,906.492 817.825,905.805 819.775,905.12 821.726,904.437 823.676,903.756 825.627,903.077 827.577,902.4 829.527,901.724 831.478,901.05 \n",
       "  833.428,900.379 835.379,899.708 837.329,899.04 839.28,898.374 841.23,897.709 843.18,897.046 845.131,896.385 847.081,895.726 849.032,895.068 850.982,894.412 \n",
       "  852.933,893.758 854.883,893.106 856.833,892.455 858.784,891.807 860.734,891.16 862.685,890.514 864.635,889.871 866.586,889.229 868.536,888.589 870.486,887.95 \n",
       "  872.437,887.314 874.387,886.679 876.338,886.045 878.288,885.414 880.239,884.784 882.189,884.156 884.139,883.529 886.09,882.905 888.04,882.281 889.991,881.66 \n",
       "  891.941,881.04 893.892,880.422 895.842,879.806 897.792,879.191 899.743,878.578 901.693,877.966 903.644,877.356 905.594,876.748 907.545,876.141 909.495,875.536 \n",
       "  911.446,874.933 913.396,874.331 915.346,873.731 917.297,873.133 919.247,872.536 921.198,871.94 923.148,871.347 925.099,870.755 927.049,870.164 928.999,869.575 \n",
       "  930.95,868.988 932.9,868.402 934.851,867.818 936.801,867.235 938.752,866.654 940.702,866.074 942.652,865.496 944.603,864.92 946.553,864.345 948.504,863.772 \n",
       "  950.454,863.2 952.405,862.63 954.355,862.061 956.305,861.494 958.256,860.928 960.206,860.364 962.157,859.801 964.107,859.24 966.058,858.68 968.008,858.122 \n",
       "  969.958,857.566 971.909,857.011 973.859,856.457 975.81,855.905 977.76,855.354 979.711,854.805 981.661,854.257 983.611,853.711 985.562,853.166 987.512,852.623 \n",
       "  989.463,852.081 991.413,851.541 993.364,851.002 995.314,850.465 997.264,849.929 999.215,849.394 1001.17,848.861 1003.12,848.329 1005.07,847.799 1007.02,847.27 \n",
       "  1008.97,846.743 1010.92,846.217 1012.87,845.693 1014.82,845.17 1016.77,844.648 1018.72,844.128 1020.67,843.609 1022.62,843.092 1024.57,842.576 1026.52,842.061 \n",
       "  1028.47,841.548 1030.42,841.036 1032.37,840.525 1034.32,840.016 1036.27,839.509 1038.22,839.002 1040.17,838.498 1042.12,837.994 1044.07,837.492 1046.03,836.991 \n",
       "  1047.98,836.492 1049.93,835.994 1051.88,835.497 1053.83,835.002 1055.78,834.508 1057.73,834.015 1059.68,833.524 1061.63,833.034 1063.58,832.545 1065.53,832.058 \n",
       "  1067.48,831.572 1069.43,831.088 1071.38,830.604 1073.33,830.122 1075.28,829.642 1077.23,829.163 1079.18,828.685 1081.13,828.208 1083.08,827.733 1085.03,827.259 \n",
       "  1086.98,826.786 1088.93,826.315 1090.89,825.845 1092.84,825.376 1094.79,824.909 1096.74,824.442 1098.69,823.978 1100.64,823.514 1102.59,823.052 1104.54,822.591 \n",
       "  1106.49,822.131 1108.44,821.672 1110.39,821.215 1112.34,820.759 1114.29,820.305 1116.24,819.852 1118.19,819.399 1120.14,818.949 1122.09,818.499 1124.04,818.051 \n",
       "  1125.99,817.604 1127.94,817.158 1129.89,816.714 1131.84,816.27 1133.79,815.828 1135.75,815.388 1137.7,814.948 1139.65,814.51 1141.6,814.073 1143.55,813.637 \n",
       "  1145.5,813.202 1147.45,812.769 1149.4,812.337 1151.35,811.906 1153.3,811.477 1155.25,811.048 1157.2,810.621 1159.15,810.195 1161.1,809.77 1163.05,809.347 \n",
       "  1165,808.924 1166.95,808.503 1168.9,808.083 1170.85,807.665 1172.8,807.247 1174.75,806.831 1176.7,806.416 1178.65,806.002 1180.61,805.589 1182.56,805.178 \n",
       "  1184.51,804.768 1186.46,804.358 1188.41,803.951 1190.36,803.544 1192.31,803.138 1194.26,802.734 1196.21,802.331 1198.16,801.929 1200.11,801.528 1202.06,801.128 \n",
       "  1204.01,800.73 1205.96,800.333 1207.91,799.936 1209.86,799.541 1211.81,799.148 1213.76,798.755 1215.71,798.364 1217.66,797.973 1219.61,797.584 1221.56,797.196 \n",
       "  1223.51,796.809 1225.46,796.424 1227.42,796.039 1229.37,795.656 1231.32,795.273 1233.27,794.892 1235.22,794.512 1237.17,794.134 1239.12,793.756 1241.07,793.38 \n",
       "  1243.02,793.004 1244.97,792.63 1246.92,792.257 1248.87,791.885 1250.82,791.514 1252.77,791.144 1254.72,790.776 1256.67,790.408 1258.62,790.042 1260.57,789.677 \n",
       "  1262.52,789.313 1264.47,788.95 1266.42,788.588 1268.37,788.227 1270.32,787.867 1272.28,787.509 1274.23,787.152 1276.18,786.795 1278.13,786.44 1280.08,786.086 \n",
       "  1282.03,785.733 1283.98,785.381 1285.93,785.031 1287.88,784.681 1289.83,784.332 1291.78,783.985 1293.73,783.639 1295.68,783.293 1297.63,782.949 1299.58,782.606 \n",
       "  1301.53,782.264 1303.48,781.924 1305.43,781.584 1307.38,781.245 1309.33,780.907 1311.28,780.571 1313.23,780.236 1315.18,779.901 1317.14,779.568 1319.09,779.236 \n",
       "  1321.04,778.905 1322.99,778.575 1324.94,778.246 1326.89,777.918 1328.84,777.591 1330.79,777.266 1332.74,776.941 1334.69,776.617 1336.64,776.295 1338.59,775.973 \n",
       "  1340.54,775.653 1342.49,775.334 1344.44,775.016 1346.39,774.699 1348.34,774.382 1350.29,774.067 1352.24,773.753 1354.19,773.441 1356.14,773.129 1358.09,772.818 \n",
       "  1360.04,772.508 1362,772.2 1363.95,771.892 1365.9,771.585 1367.85,771.28 1369.8,770.976 1371.75,770.672 1373.7,770.37 1375.65,770.069 1377.6,769.768 \n",
       "  1379.55,769.469 1381.5,769.171 1383.45,768.874 1385.4,768.578 1387.35,768.283 1389.3,767.989 1391.25,767.696 1393.2,767.404 1395.15,767.113 1397.1,766.824 \n",
       "  1399.05,766.535 1401,766.247 1402.95,765.96 1404.9,765.675 1406.86,765.39 1408.81,765.107 1410.76,764.824 1412.71,764.543 1414.66,764.262 1416.61,763.983 \n",
       "  1418.56,763.704 1420.51,763.427 1422.46,763.151 1424.41,762.875 1426.36,762.601 1428.31,762.328 1430.26,762.056 1432.21,761.784 1434.16,761.514 1436.11,761.245 \n",
       "  1438.06,760.977 1440.01,760.71 1441.96,760.444 1443.91,760.179 1445.86,759.915 1447.81,759.652 1449.76,759.39 1451.72,759.129 1453.67,758.869 1455.62,758.61 \n",
       "  1457.57,758.352 1459.52,758.095 1461.47,757.839 1463.42,757.584 1465.37,757.33 1467.32,757.078 1469.27,756.826 1471.22,756.575 1473.17,756.325 1475.12,756.076 \n",
       "  1477.07,755.829 1479.02,755.582 1480.97,755.336 1482.92,755.092 1484.87,754.848 1486.82,754.605 1488.77,754.363 1490.72,754.123 1492.67,753.883 1494.62,753.644 \n",
       "  1496.57,753.407 1498.53,753.17 1500.48,752.935 1502.43,752.7 1504.38,752.466 1506.33,752.234 1508.28,752.002 1510.23,751.771 1512.18,751.542 1514.13,751.313 \n",
       "  1516.08,751.086 1518.03,750.859 1519.98,750.634 1521.93,750.409 1523.88,750.185 1525.83,749.963 1527.78,749.741 1529.73,749.521 1531.68,749.301 1533.63,749.083 \n",
       "  1535.58,748.865 1537.53,748.648 1539.48,748.433 1541.43,748.218 1543.39,748.005 1545.34,747.792 1547.29,747.581 1549.24,747.37 1551.19,747.161 1553.14,746.952 \n",
       "  1555.09,746.745 1557.04,746.538 1558.99,746.332 1560.94,746.128 1562.89,745.924 1564.84,745.722 1566.79,745.52 1568.74,745.32 1570.69,745.12 1572.64,744.922 \n",
       "  1574.59,744.724 1576.54,744.527 1578.49,744.332 1580.44,744.137 1582.39,743.944 1584.34,743.751 1586.29,743.56 1588.25,743.369 1590.2,743.179 1592.15,742.991 \n",
       "  1594.1,742.803 1596.05,742.617 1598,742.431 1599.95,742.246 1601.9,742.063 1603.85,741.88 1605.8,741.699 1607.75,741.518 1609.7,741.338 1611.65,741.16 \n",
       "  1613.6,740.982 1615.55,740.806 1617.5,740.63 1619.45,740.455 1621.4,740.282 1623.35,740.109 1625.3,739.938 1627.25,739.767 1629.2,739.597 1631.15,739.429 \n",
       "  1633.11,739.261 1635.06,739.094 1637.01,738.929 1638.96,738.764 1640.91,738.6 1642.86,738.438 1644.81,738.276 1646.76,738.115 1648.71,737.956 1650.66,737.797 \n",
       "  1652.61,737.639 1654.56,737.483 1656.51,737.327 1658.46,737.172 1660.41,737.019 1662.36,736.866 1664.31,736.714 1666.26,736.564 1668.21,736.414 1670.16,736.265 \n",
       "  1672.11,736.118 1674.06,735.971 1676.01,735.825 1677.97,735.681 1679.92,735.537 1681.87,735.394 1683.82,735.253 1685.77,735.112 1687.72,734.972 1689.67,734.833 \n",
       "  1691.62,734.696 1693.57,734.559 1695.52,734.423 1697.47,734.289 1699.42,734.155 1701.37,734.022 1703.32,733.891 1705.27,733.76 1707.22,733.63 1709.17,733.502 \n",
       "  1711.12,733.374 1713.07,733.247 1715.02,733.122 1716.97,732.997 1718.92,732.873 1720.87,732.751 1722.83,732.629 1724.78,732.508 1726.73,732.388 1728.68,732.27 \n",
       "  1730.63,732.152 1732.58,732.035 1734.53,731.92 1736.48,731.805 1738.43,731.692 1740.38,731.579 1742.33,731.467 1744.28,731.357 1746.23,731.247 1748.18,731.138 \n",
       "  1750.13,731.031 1752.08,730.924 1754.03,730.818 1755.98,730.714 1757.93,730.61 1759.88,730.507 1761.83,730.406 1763.78,730.305 1765.73,730.206 1767.68,730.107 \n",
       "  1769.64,730.009 1771.59,729.913 1773.54,729.817 1775.49,729.723 1777.44,729.629 1779.39,729.536 1781.34,729.445 1783.29,729.354 1785.24,729.265 1787.19,729.176 \n",
       "  1789.14,729.088 1791.09,729.002 1793.04,728.916 1794.99,728.832 1796.94,728.748 1798.89,728.665 1800.84,728.584 1802.79,728.503 1804.74,728.424 1806.69,728.345 \n",
       "  1808.64,728.268 1810.59,728.191 1812.54,728.115 1814.5,728.041 1816.45,727.967 1818.4,727.895 1820.35,727.823 1822.3,727.752 1824.25,727.683 1826.2,727.614 \n",
       "  1828.15,727.547 1830.1,727.48 1832.05,727.414 1834,727.35 1835.95,727.286 1837.9,727.223 1839.85,727.162 1841.8,727.101 1843.75,727.041 1845.7,726.983 \n",
       "  1847.65,726.925 1849.6,726.868 1851.55,726.812 1853.5,726.758 1855.45,726.704 1857.4,726.651 1859.36,726.599 1861.31,726.548 1863.26,726.499 1865.21,726.45 \n",
       "  1867.16,726.402 1869.11,726.355 1871.06,726.309 1873.01,726.264 1874.96,726.22 1876.91,726.177 1878.86,726.135 1880.81,726.094 1882.76,726.053 1884.71,726.014 \n",
       "  1886.66,725.976 1888.61,725.939 1890.56,725.902 1892.51,725.867 1894.46,725.833 1896.41,725.799 1898.36,725.767 1900.31,725.735 1902.26,725.704 1904.22,725.675 \n",
       "  1906.17,725.646 1908.12,725.618 1910.07,725.591 1912.02,725.565 1913.97,725.54 1915.92,725.516 1917.87,725.493 1919.82,725.471 1921.77,725.449 1923.72,725.429 \n",
       "  1925.67,725.409 1927.62,725.39 1929.57,725.373 1931.52,725.356 1933.47,725.34 1935.42,725.325 1937.37,725.31 1939.32,725.297 1941.27,725.285 1943.22,725.273 \n",
       "  1945.17,725.262 1947.12,725.252 1949.08,725.243 1951.03,725.235 1952.98,725.228 1954.93,725.221 1956.88,725.215 1958.83,725.211 1960.78,725.206 1962.73,725.203 \n",
       "  1964.68,725.201 1966.63,725.199 1968.58,725.198 1970.53,725.198 1972.48,725.199 1974.43,725.2 1976.38,725.202 1978.33,725.205 1980.28,725.209 1982.23,725.214 \n",
       "  1984.18,725.219 1986.13,725.225 1988.08,725.231 1990.03,725.238 1991.98,725.246 1993.94,725.255 1995.89,725.264 1997.84,725.274 1999.79,725.285 2001.74,725.296 \n",
       "  2003.69,725.308 2005.64,725.321 2007.59,725.334 2009.54,725.347 2011.49,725.362 2013.44,725.376 2015.39,725.392 2017.34,725.407 2019.29,725.424 2021.24,725.441 \n",
       "  2023.19,725.458 2025.14,725.476 2027.09,725.494 2029.04,725.513 2030.99,725.532 2032.94,725.551 2034.89,725.571 2036.84,725.591 2038.79,725.612 2040.75,725.633 \n",
       "  2042.7,725.654 2044.65,725.675 2046.6,725.697 2048.55,725.719 2050.5,725.741 2052.45,725.763 2054.4,725.785 2056.35,725.808 2058.3,725.831 2060.25,725.853 \n",
       "  2062.2,725.876 2064.15,725.899 2066.1,725.921 2068.05,725.944 2070,725.966 2071.95,725.989 2073.9,726.011 2075.85,726.033 2077.8,726.055 2079.75,726.076 \n",
       "  2081.7,726.097 2083.65,726.118 2085.61,726.139 2087.56,726.159 2089.51,726.178 2091.46,726.197 2093.41,726.215 2095.36,726.233 2097.31,726.25 2099.26,726.266 \n",
       "  2101.21,726.281 2103.16,726.296 2105.11,726.31 2107.06,726.322 2109.01,726.334 2110.96,726.344 2112.91,726.353 2114.86,726.361 2116.81,726.367 2118.76,726.372 \n",
       "  2120.71,726.376 2122.66,726.378 2124.61,726.378 2126.56,726.376 2128.51,726.373 2130.47,726.367 2132.42,726.36 2134.37,726.35 2136.32,726.338 2138.27,726.323 \n",
       "  2140.22,726.306 2142.17,726.286 2144.12,726.264 2146.07,726.238 2148.02,726.209 2149.97,726.177 2151.92,726.142 2153.87,726.103 2155.82,726.06 2157.77,726.013 \n",
       "  2159.72,725.962 2161.67,725.907 2163.62,725.847 2165.57,725.782 2167.52,725.712 2169.47,725.637 2171.42,725.556 2173.37,725.47 2175.33,725.377 2177.28,725.278 \n",
       "  2179.23,725.172 2181.18,725.06 2183.13,724.939 2185.08,724.811 2187.03,724.675 2188.98,724.53 2190.93,724.376 2192.88,724.212 2194.83,724.039 2196.78,723.854 \n",
       "  2198.73,723.659 2200.68,723.452 2202.63,723.232 2204.58,722.999 2206.53,722.752 2208.48,722.49 2210.43,722.213 2212.38,721.919 2214.33,721.608 2216.28,721.278 \n",
       "  2218.23,720.928 2220.19,720.557 2222.14,720.164 2224.09,719.746 2226.04,719.303 2227.99,718.833 2229.94,718.333 2231.89,717.802 2233.84,717.237 2235.79,716.635 \n",
       "  2237.74,715.994 2239.69,715.311 2241.64,714.581 2243.59,713.801 2245.54,712.966 2247.49,712.071 2249.44,711.111 2251.39,710.078 2253.34,708.966 2255.29,707.765 \n",
       "  2257.24,706.466 2259.19,705.057 2261.14,703.523 2263.09,701.849 2265.05,700.015 2267,697.996 2268.95,695.764 2270.9,693.281 2272.85,690.501 2274.8,687.365 \n",
       "  2276.75,683.794 2278.7,679.678 2280.65,674.869 2282.6,669.143 2284.55,662.156 2286.5,653.329 2288.45,641.575 2290.4,624.454 2292.35,594.172 \n",
       "  \"/>\n",
       "<circle clip-path=\"url(#clip022)\" cx=\"1969.78\" cy=\"725.198\" r=\"14.4\" fill=\"#ff0000\" fill-rule=\"evenodd\" fill-opacity=\"1\" stroke=\"#000000\" stroke-opacity=\"1\" stroke-width=\"3.2\"/>\n",
       "<path clip-path=\"url(#clip020)\" d=\"\n",
       "M356.212 1377.32 L982.503 1377.32 L982.503 1118.12 L356.212 1118.12  Z\n",
       "  \" fill=\"#ffffff\" fill-rule=\"evenodd\" fill-opacity=\"1\"/>\n",
       "<polyline clip-path=\"url(#clip020)\" style=\"stroke:#000000; stroke-linecap:round; stroke-linejoin:round; stroke-width:4; stroke-opacity:1; fill:none\" points=\"\n",
       "  356.212,1377.32 982.503,1377.32 982.503,1118.12 356.212,1118.12 356.212,1377.32 \n",
       "  \"/>\n",
       "<polyline clip-path=\"url(#clip020)\" style=\"stroke:#0000ff; stroke-linecap:round; stroke-linejoin:round; stroke-width:4; stroke-opacity:1; fill:none\" points=\"\n",
       "  379.161,1169.96 516.854,1169.96 \n",
       "  \"/>\n",
       "<path clip-path=\"url(#clip020)\" d=\"M539.802 1152.68 L544.478 1152.68 L544.478 1187.24 L539.802 1187.24 L539.802 1152.68 Z\" fill=\"#000000\" fill-rule=\"evenodd\" fill-opacity=\"1\" /><path clip-path=\"url(#clip020)\" d=\"M575.149 1171.59 L575.149 1187.24 L570.89 1187.24 L570.89 1171.73 Q570.89 1168.05 569.455 1166.22 Q568.02 1164.39 565.15 1164.39 Q561.7 1164.39 559.71 1166.59 Q557.719 1168.79 557.719 1172.58 L557.719 1187.24 L553.437 1187.24 L553.437 1161.31 L557.719 1161.31 L557.719 1165.34 Q559.247 1163 561.307 1161.84 Q563.39 1160.68 566.099 1160.68 Q570.566 1160.68 572.858 1163.46 Q575.149 1166.22 575.149 1171.59 Z\" fill=\"#000000\" fill-rule=\"evenodd\" fill-opacity=\"1\" /><path clip-path=\"url(#clip020)\" d=\"M587.858 1153.95 L587.858 1161.31 L596.631 1161.31 L596.631 1164.62 L587.858 1164.62 L587.858 1178.69 Q587.858 1181.86 588.714 1182.77 Q589.594 1183.67 592.256 1183.67 L596.631 1183.67 L596.631 1187.24 L592.256 1187.24 Q587.325 1187.24 585.45 1185.41 Q583.575 1183.55 583.575 1178.69 L583.575 1164.62 L580.45 1164.62 L580.45 1161.31 L583.575 1161.31 L583.575 1153.95 L587.858 1153.95 Z\" fill=\"#000000\" fill-rule=\"evenodd\" fill-opacity=\"1\" /><path clip-path=\"url(#clip020)\" d=\"M624.408 1173.21 L624.408 1175.29 L604.825 1175.29 Q605.103 1179.69 607.464 1182 Q609.848 1184.3 614.084 1184.3 Q616.538 1184.3 618.83 1183.69 Q621.145 1183.09 623.413 1181.89 L623.413 1185.92 Q621.121 1186.89 618.714 1187.4 Q616.307 1187.91 613.83 1187.91 Q607.626 1187.91 603.992 1184.3 Q600.381 1180.68 600.381 1174.53 Q600.381 1168.16 603.807 1164.43 Q607.256 1160.68 613.089 1160.68 Q618.321 1160.68 621.353 1164.06 Q624.408 1167.42 624.408 1173.21 M620.149 1171.96 Q620.103 1168.46 618.182 1166.38 Q616.284 1164.3 613.135 1164.3 Q609.571 1164.3 607.418 1166.31 Q605.288 1168.32 604.964 1171.98 L620.149 1171.96 Z\" fill=\"#000000\" fill-rule=\"evenodd\" fill-opacity=\"1\" /><path clip-path=\"url(#clip020)\" d=\"M646.422 1165.29 Q645.705 1164.87 644.848 1164.69 Q644.015 1164.48 642.996 1164.48 Q639.385 1164.48 637.441 1166.84 Q635.52 1169.18 635.52 1173.58 L635.52 1187.24 L631.237 1187.24 L631.237 1161.31 L635.52 1161.31 L635.52 1165.34 Q636.862 1162.98 639.015 1161.84 Q641.168 1160.68 644.246 1160.68 Q644.686 1160.68 645.219 1160.75 Q645.751 1160.8 646.399 1160.92 L646.422 1165.29 Z\" fill=\"#000000\" fill-rule=\"evenodd\" fill-opacity=\"1\" /><path clip-path=\"url(#clip020)\" d=\"M668.505 1162.3 L668.505 1166.29 Q666.7 1165.29 664.871 1164.8 Q663.066 1164.3 661.214 1164.3 Q657.07 1164.3 654.779 1166.93 Q652.487 1169.55 652.487 1174.3 Q652.487 1179.04 654.779 1181.68 Q657.07 1184.3 661.214 1184.3 Q663.066 1184.3 664.871 1183.81 Q666.7 1183.3 668.505 1182.3 L668.505 1186.24 Q666.723 1187.07 664.802 1187.49 Q662.904 1187.91 660.751 1187.91 Q654.894 1187.91 651.445 1184.23 Q647.996 1180.55 647.996 1174.3 Q647.996 1167.95 651.469 1164.32 Q654.964 1160.68 661.029 1160.68 Q662.996 1160.68 664.871 1161.1 Q666.746 1161.49 668.505 1162.3 Z\" fill=\"#000000\" fill-rule=\"evenodd\" fill-opacity=\"1\" /><path clip-path=\"url(#clip020)\" d=\"M698.089 1173.21 L698.089 1175.29 L678.505 1175.29 Q678.783 1179.69 681.144 1182 Q683.529 1184.3 687.765 1184.3 Q690.218 1184.3 692.51 1183.69 Q694.825 1183.09 697.093 1181.89 L697.093 1185.92 Q694.802 1186.89 692.394 1187.4 Q689.987 1187.91 687.51 1187.91 Q681.306 1187.91 677.672 1184.3 Q674.061 1180.68 674.061 1174.53 Q674.061 1168.16 677.487 1164.43 Q680.936 1160.68 686.769 1160.68 Q692.001 1160.68 695.033 1164.06 Q698.089 1167.42 698.089 1173.21 M693.829 1171.96 Q693.783 1168.46 691.862 1166.38 Q689.964 1164.3 686.816 1164.3 Q683.251 1164.3 681.098 1166.31 Q678.968 1168.32 678.644 1171.98 L693.829 1171.96 Z\" fill=\"#000000\" fill-rule=\"evenodd\" fill-opacity=\"1\" /><path clip-path=\"url(#clip020)\" d=\"M709.2 1183.35 L709.2 1197.1 L704.917 1197.1 L704.917 1161.31 L709.2 1161.31 L709.2 1165.24 Q710.542 1162.93 712.579 1161.82 Q714.639 1160.68 717.487 1160.68 Q722.209 1160.68 725.149 1164.43 Q728.112 1168.18 728.112 1174.3 Q728.112 1180.41 725.149 1184.16 Q722.209 1187.91 717.487 1187.91 Q714.639 1187.91 712.579 1186.8 Q710.542 1185.66 709.2 1183.35 M723.69 1174.3 Q723.69 1169.6 721.746 1166.93 Q719.825 1164.25 716.445 1164.25 Q713.065 1164.25 711.121 1166.93 Q709.2 1169.6 709.2 1174.3 Q709.2 1178.99 711.121 1181.68 Q713.065 1184.34 716.445 1184.34 Q719.825 1184.34 721.746 1181.68 Q723.69 1178.99 723.69 1174.3 Z\" fill=\"#000000\" fill-rule=\"evenodd\" fill-opacity=\"1\" /><path clip-path=\"url(#clip020)\" d=\"M739.385 1153.95 L739.385 1161.31 L748.158 1161.31 L748.158 1164.62 L739.385 1164.62 L739.385 1178.69 Q739.385 1181.86 740.241 1182.77 Q741.121 1183.67 743.783 1183.67 L748.158 1183.67 L748.158 1187.24 L743.783 1187.24 Q738.852 1187.24 736.977 1185.41 Q735.102 1183.55 735.102 1178.69 L735.102 1164.62 L731.977 1164.62 L731.977 1161.31 L735.102 1161.31 L735.102 1153.95 L739.385 1153.95 Z\" fill=\"#000000\" fill-rule=\"evenodd\" fill-opacity=\"1\" /><circle clip-path=\"url(#clip020)\" cx=\"448.007\" cy=\"1221.8\" r=\"23.04\" fill=\"#0000ff\" fill-rule=\"evenodd\" fill-opacity=\"1\" stroke=\"#000000\" stroke-opacity=\"1\" stroke-width=\"5.12\"/>\n",
       "<path clip-path=\"url(#clip020)\" d=\"M560.15 1218.13 Q561.747 1215.26 563.969 1213.89 Q566.191 1212.52 569.2 1212.52 Q573.251 1212.52 575.45 1215.37 Q577.649 1218.2 577.649 1223.43 L577.649 1239.08 L573.367 1239.08 L573.367 1223.57 Q573.367 1219.84 572.048 1218.03 Q570.728 1216.23 568.02 1216.23 Q564.71 1216.23 562.788 1218.43 Q560.867 1220.63 560.867 1224.42 L560.867 1239.08 L556.585 1239.08 L556.585 1223.57 Q556.585 1219.82 555.265 1218.03 Q553.946 1216.23 551.191 1216.23 Q547.927 1216.23 546.006 1218.45 Q544.085 1220.65 544.085 1224.42 L544.085 1239.08 L539.802 1239.08 L539.802 1213.15 L544.085 1213.15 L544.085 1217.18 Q545.543 1214.79 547.58 1213.66 Q549.617 1212.52 552.418 1212.52 Q555.242 1212.52 557.21 1213.96 Q559.201 1215.39 560.15 1218.13 Z\" fill=\"#000000\" fill-rule=\"evenodd\" fill-opacity=\"1\" /><path clip-path=\"url(#clip020)\" d=\"M597.927 1226.04 Q592.765 1226.04 590.774 1227.22 Q588.784 1228.4 588.784 1231.25 Q588.784 1233.52 590.265 1234.86 Q591.77 1236.18 594.339 1236.18 Q597.881 1236.18 600.01 1233.68 Q602.163 1231.16 602.163 1226.99 L602.163 1226.04 L597.927 1226.04 M606.422 1224.28 L606.422 1239.08 L602.163 1239.08 L602.163 1235.14 Q600.705 1237.5 598.529 1238.64 Q596.353 1239.75 593.205 1239.75 Q589.223 1239.75 586.862 1237.52 Q584.524 1235.28 584.524 1231.53 Q584.524 1227.15 587.441 1224.93 Q590.381 1222.71 596.191 1222.71 L602.163 1222.71 L602.163 1222.29 Q602.163 1219.35 600.219 1217.76 Q598.298 1216.14 594.802 1216.14 Q592.58 1216.14 590.473 1216.67 Q588.367 1217.2 586.423 1218.27 L586.423 1214.33 Q588.761 1213.43 590.96 1212.99 Q593.159 1212.52 595.242 1212.52 Q600.867 1212.52 603.645 1215.44 Q606.422 1218.36 606.422 1224.28 Z\" fill=\"#000000\" fill-rule=\"evenodd\" fill-opacity=\"1\" /><path clip-path=\"url(#clip020)\" d=\"M636.746 1213.15 L627.371 1225.77 L637.232 1239.08 L632.209 1239.08 L624.663 1228.89 L617.117 1239.08 L612.094 1239.08 L622.163 1225.51 L612.95 1213.15 L617.973 1213.15 L624.848 1222.39 L631.723 1213.15 L636.746 1213.15 Z\" fill=\"#000000\" fill-rule=\"evenodd\" fill-opacity=\"1\" /><path clip-path=\"url(#clip020)\" d=\"M643.251 1213.15 L647.51 1213.15 L647.51 1239.08 L643.251 1239.08 L643.251 1213.15 M643.251 1203.06 L647.51 1203.06 L647.51 1208.45 L643.251 1208.45 L643.251 1203.06 Z\" fill=\"#000000\" fill-rule=\"evenodd\" fill-opacity=\"1\" /><path clip-path=\"url(#clip020)\" d=\"M676.607 1218.13 Q678.204 1215.26 680.427 1213.89 Q682.649 1212.52 685.658 1212.52 Q689.709 1212.52 691.908 1215.37 Q694.107 1218.2 694.107 1223.43 L694.107 1239.08 L689.825 1239.08 L689.825 1223.57 Q689.825 1219.84 688.505 1218.03 Q687.186 1216.23 684.478 1216.23 Q681.167 1216.23 679.246 1218.43 Q677.325 1220.63 677.325 1224.42 L677.325 1239.08 L673.042 1239.08 L673.042 1223.57 Q673.042 1219.82 671.723 1218.03 Q670.404 1216.23 667.649 1216.23 Q664.385 1216.23 662.464 1218.45 Q660.543 1220.65 660.543 1224.42 L660.543 1239.08 L656.26 1239.08 L656.26 1213.15 L660.543 1213.15 L660.543 1217.18 Q662.001 1214.79 664.038 1213.66 Q666.075 1212.52 668.876 1212.52 Q671.7 1212.52 673.667 1213.96 Q675.658 1215.39 676.607 1218.13 Z\" fill=\"#000000\" fill-rule=\"evenodd\" fill-opacity=\"1\" /><path clip-path=\"url(#clip020)\" d=\"M702.163 1228.84 L702.163 1213.15 L706.422 1213.15 L706.422 1228.68 Q706.422 1232.36 707.857 1234.21 Q709.292 1236.04 712.163 1236.04 Q715.612 1236.04 717.602 1233.84 Q719.616 1231.64 719.616 1227.85 L719.616 1213.15 L723.876 1213.15 L723.876 1239.08 L719.616 1239.08 L719.616 1235.09 Q718.065 1237.45 716.005 1238.61 Q713.968 1239.75 711.26 1239.75 Q706.792 1239.75 704.478 1236.97 Q702.163 1234.19 702.163 1228.84 M712.88 1212.52 L712.88 1212.52 Z\" fill=\"#000000\" fill-rule=\"evenodd\" fill-opacity=\"1\" /><path clip-path=\"url(#clip020)\" d=\"M752.834 1218.13 Q754.431 1215.26 756.653 1213.89 Q758.875 1212.52 761.885 1212.52 Q765.936 1212.52 768.135 1215.37 Q770.334 1218.2 770.334 1223.43 L770.334 1239.08 L766.051 1239.08 L766.051 1223.57 Q766.051 1219.84 764.732 1218.03 Q763.412 1216.23 760.704 1216.23 Q757.394 1216.23 755.473 1218.43 Q753.551 1220.63 753.551 1224.42 L753.551 1239.08 L749.269 1239.08 L749.269 1223.57 Q749.269 1219.82 747.949 1218.03 Q746.63 1216.23 743.875 1216.23 Q740.612 1216.23 738.69 1218.45 Q736.769 1220.65 736.769 1224.42 L736.769 1239.08 L732.487 1239.08 L732.487 1213.15 L736.769 1213.15 L736.769 1217.18 Q738.227 1214.79 740.264 1213.66 Q742.301 1212.52 745.102 1212.52 Q747.926 1212.52 749.894 1213.96 Q751.885 1215.39 752.834 1218.13 Z\" fill=\"#000000\" fill-rule=\"evenodd\" fill-opacity=\"1\" /><path clip-path=\"url(#clip020)\" d=\"M798.528 1246.95 L798.528 1250.26 L773.898 1250.26 L773.898 1246.95 L798.528 1246.95 Z\" fill=\"#000000\" fill-rule=\"evenodd\" fill-opacity=\"1\" /><path clip-path=\"url(#clip020)\" d=\"M824.083 1223.43 L824.083 1239.08 L819.824 1239.08 L819.824 1223.57 Q819.824 1219.89 818.389 1218.06 Q816.954 1216.23 814.083 1216.23 Q810.634 1216.23 808.644 1218.43 Q806.653 1220.63 806.653 1224.42 L806.653 1239.08 L802.37 1239.08 L802.37 1213.15 L806.653 1213.15 L806.653 1217.18 Q808.181 1214.84 810.241 1213.68 Q812.324 1212.52 815.032 1212.52 Q819.5 1212.52 821.792 1215.3 Q824.083 1218.06 824.083 1223.43 Z\" fill=\"#000000\" fill-rule=\"evenodd\" fill-opacity=\"1\" /><path clip-path=\"url(#clip020)\" d=\"M832.139 1228.84 L832.139 1213.15 L836.398 1213.15 L836.398 1228.68 Q836.398 1232.36 837.833 1234.21 Q839.268 1236.04 842.139 1236.04 Q845.588 1236.04 847.579 1233.84 Q849.592 1231.64 849.592 1227.85 L849.592 1213.15 L853.852 1213.15 L853.852 1239.08 L849.592 1239.08 L849.592 1235.09 Q848.042 1237.45 845.981 1238.61 Q843.944 1239.75 841.236 1239.75 Q836.768 1239.75 834.454 1236.97 Q832.139 1234.19 832.139 1228.84 M842.856 1212.52 L842.856 1212.52 Z\" fill=\"#000000\" fill-rule=\"evenodd\" fill-opacity=\"1\" /><path clip-path=\"url(#clip020)\" d=\"M862.625 1203.06 L866.884 1203.06 L866.884 1239.08 L862.625 1239.08 L862.625 1203.06 Z\" fill=\"#000000\" fill-rule=\"evenodd\" fill-opacity=\"1\" /><path clip-path=\"url(#clip020)\" d=\"M875.796 1203.06 L880.055 1203.06 L880.055 1239.08 L875.796 1239.08 L875.796 1203.06 Z\" fill=\"#000000\" fill-rule=\"evenodd\" fill-opacity=\"1\" /><polyline clip-path=\"url(#clip020)\" style=\"stroke:#ff0000; stroke-linecap:round; stroke-linejoin:round; stroke-width:4; stroke-opacity:1; fill:none\" points=\"\n",
       "  379.161,1273.64 516.854,1273.64 \n",
       "  \"/>\n",
       "<path clip-path=\"url(#clip020)\" d=\"M539.802 1256.36 L544.478 1256.36 L544.478 1290.92 L539.802 1290.92 L539.802 1256.36 Z\" fill=\"#000000\" fill-rule=\"evenodd\" fill-opacity=\"1\" /><path clip-path=\"url(#clip020)\" d=\"M575.149 1275.27 L575.149 1290.92 L570.89 1290.92 L570.89 1275.41 Q570.89 1271.73 569.455 1269.9 Q568.02 1268.07 565.15 1268.07 Q561.7 1268.07 559.71 1270.27 Q557.719 1272.47 557.719 1276.26 L557.719 1290.92 L553.437 1290.92 L553.437 1264.99 L557.719 1264.99 L557.719 1269.02 Q559.247 1266.68 561.307 1265.52 Q563.39 1264.36 566.099 1264.36 Q570.566 1264.36 572.858 1267.14 Q575.149 1269.9 575.149 1275.27 Z\" fill=\"#000000\" fill-rule=\"evenodd\" fill-opacity=\"1\" /><path clip-path=\"url(#clip020)\" d=\"M587.858 1257.63 L587.858 1264.99 L596.631 1264.99 L596.631 1268.3 L587.858 1268.3 L587.858 1282.37 Q587.858 1285.54 588.714 1286.45 Q589.594 1287.35 592.256 1287.35 L596.631 1287.35 L596.631 1290.92 L592.256 1290.92 Q587.325 1290.92 585.45 1289.09 Q583.575 1287.23 583.575 1282.37 L583.575 1268.3 L580.45 1268.3 L580.45 1264.99 L583.575 1264.99 L583.575 1257.63 L587.858 1257.63 Z\" fill=\"#000000\" fill-rule=\"evenodd\" fill-opacity=\"1\" /><path clip-path=\"url(#clip020)\" d=\"M624.408 1276.89 L624.408 1278.97 L604.825 1278.97 Q605.103 1283.37 607.464 1285.68 Q609.848 1287.98 614.084 1287.98 Q616.538 1287.98 618.83 1287.37 Q621.145 1286.77 623.413 1285.57 L623.413 1289.6 Q621.121 1290.57 618.714 1291.08 Q616.307 1291.59 613.83 1291.59 Q607.626 1291.59 603.992 1287.98 Q600.381 1284.36 600.381 1278.21 Q600.381 1271.84 603.807 1268.11 Q607.256 1264.36 613.089 1264.36 Q618.321 1264.36 621.353 1267.74 Q624.408 1271.1 624.408 1276.89 M620.149 1275.64 Q620.103 1272.14 618.182 1270.06 Q616.284 1267.98 613.135 1267.98 Q609.571 1267.98 607.418 1269.99 Q605.288 1272 604.964 1275.66 L620.149 1275.64 Z\" fill=\"#000000\" fill-rule=\"evenodd\" fill-opacity=\"1\" /><path clip-path=\"url(#clip020)\" d=\"M646.422 1268.97 Q645.705 1268.55 644.848 1268.37 Q644.015 1268.16 642.996 1268.16 Q639.385 1268.16 637.441 1270.52 Q635.52 1272.86 635.52 1277.26 L635.52 1290.92 L631.237 1290.92 L631.237 1264.99 L635.52 1264.99 L635.52 1269.02 Q636.862 1266.66 639.015 1265.52 Q641.168 1264.36 644.246 1264.36 Q644.686 1264.36 645.219 1264.43 Q645.751 1264.48 646.399 1264.6 L646.422 1268.97 Z\" fill=\"#000000\" fill-rule=\"evenodd\" fill-opacity=\"1\" /><path clip-path=\"url(#clip020)\" d=\"M668.505 1265.98 L668.505 1269.97 Q666.7 1268.97 664.871 1268.48 Q663.066 1267.98 661.214 1267.98 Q657.07 1267.98 654.779 1270.61 Q652.487 1273.23 652.487 1277.98 Q652.487 1282.72 654.779 1285.36 Q657.07 1287.98 661.214 1287.98 Q663.066 1287.98 664.871 1287.49 Q666.7 1286.98 668.505 1285.98 L668.505 1289.92 Q666.723 1290.75 664.802 1291.17 Q662.904 1291.59 660.751 1291.59 Q654.894 1291.59 651.445 1287.91 Q647.996 1284.23 647.996 1277.98 Q647.996 1271.63 651.469 1268 Q654.964 1264.36 661.029 1264.36 Q662.996 1264.36 664.871 1264.78 Q666.746 1265.17 668.505 1265.98 Z\" fill=\"#000000\" fill-rule=\"evenodd\" fill-opacity=\"1\" /><path clip-path=\"url(#clip020)\" d=\"M698.089 1276.89 L698.089 1278.97 L678.505 1278.97 Q678.783 1283.37 681.144 1285.68 Q683.529 1287.98 687.765 1287.98 Q690.218 1287.98 692.51 1287.37 Q694.825 1286.77 697.093 1285.57 L697.093 1289.6 Q694.802 1290.57 692.394 1291.08 Q689.987 1291.59 687.51 1291.59 Q681.306 1291.59 677.672 1287.98 Q674.061 1284.36 674.061 1278.21 Q674.061 1271.84 677.487 1268.11 Q680.936 1264.36 686.769 1264.36 Q692.001 1264.36 695.033 1267.74 Q698.089 1271.1 698.089 1276.89 M693.829 1275.64 Q693.783 1272.14 691.862 1270.06 Q689.964 1267.98 686.816 1267.98 Q683.251 1267.98 681.098 1269.99 Q678.968 1272 678.644 1275.66 L693.829 1275.64 Z\" fill=\"#000000\" fill-rule=\"evenodd\" fill-opacity=\"1\" /><path clip-path=\"url(#clip020)\" d=\"M709.2 1287.03 L709.2 1300.78 L704.917 1300.78 L704.917 1264.99 L709.2 1264.99 L709.2 1268.92 Q710.542 1266.61 712.579 1265.5 Q714.639 1264.36 717.487 1264.36 Q722.209 1264.36 725.149 1268.11 Q728.112 1271.86 728.112 1277.98 Q728.112 1284.09 725.149 1287.84 Q722.209 1291.59 717.487 1291.59 Q714.639 1291.59 712.579 1290.48 Q710.542 1289.34 709.2 1287.03 M723.69 1277.98 Q723.69 1273.28 721.746 1270.61 Q719.825 1267.93 716.445 1267.93 Q713.065 1267.93 711.121 1270.61 Q709.2 1273.28 709.2 1277.98 Q709.2 1282.67 711.121 1285.36 Q713.065 1288.02 716.445 1288.02 Q719.825 1288.02 721.746 1285.36 Q723.69 1282.67 723.69 1277.98 Z\" fill=\"#000000\" fill-rule=\"evenodd\" fill-opacity=\"1\" /><path clip-path=\"url(#clip020)\" d=\"M739.385 1257.63 L739.385 1264.99 L748.158 1264.99 L748.158 1268.3 L739.385 1268.3 L739.385 1282.37 Q739.385 1285.54 740.241 1286.45 Q741.121 1287.35 743.783 1287.35 L748.158 1287.35 L748.158 1290.92 L743.783 1290.92 Q738.852 1290.92 736.977 1289.09 Q735.102 1287.23 735.102 1282.37 L735.102 1268.3 L731.977 1268.3 L731.977 1264.99 L735.102 1264.99 L735.102 1257.63 L739.385 1257.63 Z\" fill=\"#000000\" fill-rule=\"evenodd\" fill-opacity=\"1\" /><path clip-path=\"url(#clip020)\" d=\"M771.098 1261.19 L771.098 1274.09 L783.991 1274.09 L783.991 1278.02 L771.098 1278.02 L771.098 1290.92 L767.209 1290.92 L767.209 1278.02 L754.315 1278.02 L754.315 1274.09 L767.209 1274.09 L767.209 1261.19 L771.098 1261.19 Z\" fill=\"#000000\" fill-rule=\"evenodd\" fill-opacity=\"1\" /><path clip-path=\"url(#clip020)\" d=\"M817.232 1285.98 L817.232 1276.7 L809.593 1276.7 L809.593 1272.86 L821.861 1272.86 L821.861 1287.7 Q819.153 1289.62 815.889 1290.61 Q812.625 1291.59 808.921 1291.59 Q800.82 1291.59 796.236 1286.86 Q791.676 1282.12 791.676 1273.67 Q791.676 1265.2 796.236 1260.48 Q800.82 1255.73 808.921 1255.73 Q812.301 1255.73 815.333 1256.56 Q818.389 1257.4 820.958 1259.02 L820.958 1263.99 Q818.366 1261.8 815.449 1260.68 Q812.532 1259.57 809.315 1259.57 Q802.972 1259.57 799.778 1263.11 Q796.607 1266.66 796.607 1273.67 Q796.607 1280.66 799.778 1284.2 Q802.972 1287.74 809.315 1287.74 Q811.792 1287.74 813.736 1287.33 Q815.681 1286.89 817.232 1285.98 Z\" fill=\"#000000\" fill-rule=\"evenodd\" fill-opacity=\"1\" /><path clip-path=\"url(#clip020)\" d=\"M849.917 1298.79 L849.917 1302.1 L825.287 1302.1 L825.287 1298.79 L849.917 1298.79 Z\" fill=\"#000000\" fill-rule=\"evenodd\" fill-opacity=\"1\" /><path clip-path=\"url(#clip020)\" d=\"M858.551 1286.98 L874.87 1286.98 L874.87 1290.92 L852.926 1290.92 L852.926 1286.98 Q855.588 1284.23 860.171 1279.6 Q864.778 1274.94 865.958 1273.6 Q868.203 1271.08 869.083 1269.34 Q869.986 1267.58 869.986 1265.89 Q869.986 1263.14 868.041 1261.4 Q866.12 1259.67 863.018 1259.67 Q860.819 1259.67 858.366 1260.43 Q855.935 1261.19 853.157 1262.74 L853.157 1258.02 Q855.981 1256.89 858.435 1256.31 Q860.889 1255.73 862.926 1255.73 Q868.296 1255.73 871.49 1258.42 Q874.685 1261.1 874.685 1265.59 Q874.685 1267.72 873.875 1269.64 Q873.088 1271.54 870.981 1274.13 Q870.403 1274.8 867.301 1278.02 Q864.199 1281.22 858.551 1286.98 Z\" fill=\"#000000\" fill-rule=\"evenodd\" fill-opacity=\"1\" /><path clip-path=\"url(#clip020)\" d=\"M888.713 1286.98 L905.032 1286.98 L905.032 1290.92 L883.088 1290.92 L883.088 1286.98 Q885.75 1284.23 890.333 1279.6 Q894.939 1274.94 896.12 1273.6 Q898.365 1271.08 899.245 1269.34 Q900.148 1267.58 900.148 1265.89 Q900.148 1263.14 898.203 1261.4 Q896.282 1259.67 893.18 1259.67 Q890.981 1259.67 888.527 1260.43 Q886.097 1261.19 883.319 1262.74 L883.319 1258.02 Q886.143 1256.89 888.597 1256.31 Q891.051 1255.73 893.088 1255.73 Q898.458 1255.73 901.652 1258.42 Q904.847 1261.1 904.847 1265.59 Q904.847 1267.72 904.037 1269.64 Q903.25 1271.54 901.143 1274.13 Q900.564 1274.8 897.463 1278.02 Q894.361 1281.22 888.713 1286.98 Z\" fill=\"#000000\" fill-rule=\"evenodd\" fill-opacity=\"1\" /><path clip-path=\"url(#clip020)\" d=\"M914.986 1290.2 L914.986 1285.94 Q916.745 1286.77 918.55 1287.21 Q920.356 1287.65 922.092 1287.65 Q926.722 1287.65 929.152 1284.55 Q931.606 1281.42 931.953 1275.08 Q930.611 1277.07 928.55 1278.14 Q926.49 1279.2 923.99 1279.2 Q918.805 1279.2 915.773 1276.08 Q912.763 1272.93 912.763 1267.49 Q912.763 1262.17 915.912 1258.95 Q919.06 1255.73 924.291 1255.73 Q930.286 1255.73 933.435 1260.34 Q936.606 1264.92 936.606 1273.67 Q936.606 1281.84 932.717 1286.73 Q928.851 1291.59 922.3 1291.59 Q920.541 1291.59 918.736 1291.24 Q916.93 1290.89 914.986 1290.2 M924.291 1275.55 Q927.439 1275.55 929.268 1273.39 Q931.12 1271.24 931.12 1267.49 Q931.12 1263.76 929.268 1261.61 Q927.439 1259.43 924.291 1259.43 Q921.143 1259.43 919.291 1261.61 Q917.462 1263.76 917.462 1267.49 Q917.462 1271.24 919.291 1273.39 Q921.143 1275.55 924.291 1275.55 Z\" fill=\"#000000\" fill-rule=\"evenodd\" fill-opacity=\"1\" /><circle clip-path=\"url(#clip020)\" cx=\"448.007\" cy=\"1325.48\" r=\"23.04\" fill=\"#ff0000\" fill-rule=\"evenodd\" fill-opacity=\"1\" stroke=\"#000000\" stroke-opacity=\"1\" stroke-width=\"5.12\"/>\n",
       "<path clip-path=\"url(#clip020)\" d=\"M560.15 1321.81 Q561.747 1318.94 563.969 1317.57 Q566.191 1316.2 569.2 1316.2 Q573.251 1316.2 575.45 1319.05 Q577.649 1321.88 577.649 1327.11 L577.649 1342.76 L573.367 1342.76 L573.367 1327.25 Q573.367 1323.52 572.048 1321.71 Q570.728 1319.91 568.02 1319.91 Q564.71 1319.91 562.788 1322.11 Q560.867 1324.31 560.867 1328.1 L560.867 1342.76 L556.585 1342.76 L556.585 1327.25 Q556.585 1323.5 555.265 1321.71 Q553.946 1319.91 551.191 1319.91 Q547.927 1319.91 546.006 1322.13 Q544.085 1324.33 544.085 1328.1 L544.085 1342.76 L539.802 1342.76 L539.802 1316.83 L544.085 1316.83 L544.085 1320.86 Q545.543 1318.47 547.58 1317.34 Q549.617 1316.2 552.418 1316.2 Q555.242 1316.2 557.21 1317.64 Q559.201 1319.07 560.15 1321.81 Z\" fill=\"#000000\" fill-rule=\"evenodd\" fill-opacity=\"1\" /><path clip-path=\"url(#clip020)\" d=\"M597.927 1329.72 Q592.765 1329.72 590.774 1330.9 Q588.784 1332.08 588.784 1334.93 Q588.784 1337.2 590.265 1338.54 Q591.77 1339.86 594.339 1339.86 Q597.881 1339.86 600.01 1337.36 Q602.163 1334.84 602.163 1330.67 L602.163 1329.72 L597.927 1329.72 M606.422 1327.96 L606.422 1342.76 L602.163 1342.76 L602.163 1338.82 Q600.705 1341.18 598.529 1342.32 Q596.353 1343.43 593.205 1343.43 Q589.223 1343.43 586.862 1341.2 Q584.524 1338.96 584.524 1335.21 Q584.524 1330.83 587.441 1328.61 Q590.381 1326.39 596.191 1326.39 L602.163 1326.39 L602.163 1325.97 Q602.163 1323.03 600.219 1321.44 Q598.298 1319.82 594.802 1319.82 Q592.58 1319.82 590.473 1320.35 Q588.367 1320.88 586.423 1321.95 L586.423 1318.01 Q588.761 1317.11 590.96 1316.67 Q593.159 1316.2 595.242 1316.2 Q600.867 1316.2 603.645 1319.12 Q606.422 1322.04 606.422 1327.96 Z\" fill=\"#000000\" fill-rule=\"evenodd\" fill-opacity=\"1\" /><path clip-path=\"url(#clip020)\" d=\"M636.746 1316.83 L627.371 1329.45 L637.232 1342.76 L632.209 1342.76 L624.663 1332.57 L617.117 1342.76 L612.094 1342.76 L622.163 1329.19 L612.95 1316.83 L617.973 1316.83 L624.848 1326.07 L631.723 1316.83 L636.746 1316.83 Z\" fill=\"#000000\" fill-rule=\"evenodd\" fill-opacity=\"1\" /><path clip-path=\"url(#clip020)\" d=\"M643.251 1316.83 L647.51 1316.83 L647.51 1342.76 L643.251 1342.76 L643.251 1316.83 M643.251 1306.74 L647.51 1306.74 L647.51 1312.13 L643.251 1312.13 L643.251 1306.74 Z\" fill=\"#000000\" fill-rule=\"evenodd\" fill-opacity=\"1\" /><path clip-path=\"url(#clip020)\" d=\"M676.607 1321.81 Q678.204 1318.94 680.427 1317.57 Q682.649 1316.2 685.658 1316.2 Q689.709 1316.2 691.908 1319.05 Q694.107 1321.88 694.107 1327.11 L694.107 1342.76 L689.825 1342.76 L689.825 1327.25 Q689.825 1323.52 688.505 1321.71 Q687.186 1319.91 684.478 1319.91 Q681.167 1319.91 679.246 1322.11 Q677.325 1324.31 677.325 1328.1 L677.325 1342.76 L673.042 1342.76 L673.042 1327.25 Q673.042 1323.5 671.723 1321.71 Q670.404 1319.91 667.649 1319.91 Q664.385 1319.91 662.464 1322.13 Q660.543 1324.33 660.543 1328.1 L660.543 1342.76 L656.26 1342.76 L656.26 1316.83 L660.543 1316.83 L660.543 1320.86 Q662.001 1318.47 664.038 1317.34 Q666.075 1316.2 668.876 1316.2 Q671.7 1316.2 673.667 1317.64 Q675.658 1319.07 676.607 1321.81 Z\" fill=\"#000000\" fill-rule=\"evenodd\" fill-opacity=\"1\" /><path clip-path=\"url(#clip020)\" d=\"M702.163 1332.52 L702.163 1316.83 L706.422 1316.83 L706.422 1332.36 Q706.422 1336.04 707.857 1337.89 Q709.292 1339.72 712.163 1339.72 Q715.612 1339.72 717.602 1337.52 Q719.616 1335.32 719.616 1331.53 L719.616 1316.83 L723.876 1316.83 L723.876 1342.76 L719.616 1342.76 L719.616 1338.77 Q718.065 1341.13 716.005 1342.29 Q713.968 1343.43 711.26 1343.43 Q706.792 1343.43 704.478 1340.65 Q702.163 1337.87 702.163 1332.52 M712.88 1316.2 L712.88 1316.2 Z\" fill=\"#000000\" fill-rule=\"evenodd\" fill-opacity=\"1\" /><path clip-path=\"url(#clip020)\" d=\"M752.834 1321.81 Q754.431 1318.94 756.653 1317.57 Q758.875 1316.2 761.885 1316.2 Q765.936 1316.2 768.135 1319.05 Q770.334 1321.88 770.334 1327.11 L770.334 1342.76 L766.051 1342.76 L766.051 1327.25 Q766.051 1323.52 764.732 1321.71 Q763.412 1319.91 760.704 1319.91 Q757.394 1319.91 755.473 1322.11 Q753.551 1324.31 753.551 1328.1 L753.551 1342.76 L749.269 1342.76 L749.269 1327.25 Q749.269 1323.5 747.949 1321.71 Q746.63 1319.91 743.875 1319.91 Q740.612 1319.91 738.69 1322.13 Q736.769 1324.33 736.769 1328.1 L736.769 1342.76 L732.487 1342.76 L732.487 1316.83 L736.769 1316.83 L736.769 1320.86 Q738.227 1318.47 740.264 1317.34 Q742.301 1316.2 745.102 1316.2 Q747.926 1316.2 749.894 1317.64 Q751.885 1319.07 752.834 1321.81 Z\" fill=\"#000000\" fill-rule=\"evenodd\" fill-opacity=\"1\" /><path clip-path=\"url(#clip020)\" d=\"M798.528 1350.63 L798.528 1353.94 L773.898 1353.94 L773.898 1350.63 L798.528 1350.63 Z\" fill=\"#000000\" fill-rule=\"evenodd\" fill-opacity=\"1\" /><path clip-path=\"url(#clip020)\" d=\"M814.315 1329.72 Q809.153 1329.72 807.162 1330.9 Q805.171 1332.08 805.171 1334.93 Q805.171 1337.2 806.653 1338.54 Q808.158 1339.86 810.727 1339.86 Q814.269 1339.86 816.398 1337.36 Q818.551 1334.84 818.551 1330.67 L818.551 1329.72 L814.315 1329.72 M822.81 1327.96 L822.81 1342.76 L818.551 1342.76 L818.551 1338.82 Q817.093 1341.18 814.917 1342.32 Q812.741 1343.43 809.593 1343.43 Q805.611 1343.43 803.25 1341.2 Q800.912 1338.96 800.912 1335.21 Q800.912 1330.83 803.829 1328.61 Q806.769 1326.39 812.579 1326.39 L818.551 1326.39 L818.551 1325.97 Q818.551 1323.03 816.607 1321.44 Q814.685 1319.82 811.19 1319.82 Q808.968 1319.82 806.861 1320.35 Q804.755 1320.88 802.81 1321.95 L802.81 1318.01 Q805.148 1317.11 807.347 1316.67 Q809.546 1316.2 811.63 1316.2 Q817.255 1316.2 820.032 1319.12 Q822.81 1322.04 822.81 1327.96 Z\" fill=\"#000000\" fill-rule=\"evenodd\" fill-opacity=\"1\" /><path clip-path=\"url(#clip020)\" d=\"M831.583 1306.74 L835.843 1306.74 L835.843 1342.76 L831.583 1342.76 L831.583 1306.74 Z\" fill=\"#000000\" fill-rule=\"evenodd\" fill-opacity=\"1\" /><path clip-path=\"url(#clip020)\" d=\"M848.967 1309.47 L848.967 1316.83 L857.741 1316.83 L857.741 1320.14 L848.967 1320.14 L848.967 1334.21 Q848.967 1337.38 849.824 1338.29 Q850.704 1339.19 853.366 1339.19 L857.741 1339.19 L857.741 1342.76 L853.366 1342.76 Q848.435 1342.76 846.56 1340.93 Q844.685 1339.07 844.685 1334.21 L844.685 1320.14 L841.56 1320.14 L841.56 1316.83 L844.685 1316.83 L844.685 1309.47 L848.967 1309.47 Z\" fill=\"#000000\" fill-rule=\"evenodd\" fill-opacity=\"1\" /></svg>\n"
      ]
     },
     "execution_count": 55,
     "metadata": {},
     "output_type": "execute_result"
    }
   ],
   "source": [
    "plot(collect(1:999).*0.001, ell_null, xlabel = \"h2\", ylabel = \"loglik\", label = \"Intercept\", color = \"blue\", legend=:bottomleft)\n",
    "scatter!([maxima_null[1]], [maxima_null[2]], label = \"maximum_null\", color = \"blue\")\n",
    "plot!(collect(1:999).*0.001, ell_markerID, xlabel = \"h2\", ylabel = \"loglik\", label = (\"Intercept+\"*\"G_$markerID\"), color = \"red\")\n",
    "scatter!([maxima_alt[1]], [maxima_alt[2]], label = \"maximum_alt\", color = \"red\")"
   ]
  },
  {
   "cell_type": "markdown",
   "id": "cdcbd30d-9f37-4774-bd05-29fe7df64768",
   "metadata": {},
   "source": [
    "### After correction using a noninformative prior:"
   ]
  },
  {
   "cell_type": "code",
   "execution_count": 56,
   "id": "ec570766-f161-4411-b42f-8bd2035f34ab",
   "metadata": {},
   "outputs": [],
   "source": [
    "prior = [var(pheno_108), 0.1];"
   ]
  },
  {
   "cell_type": "code",
   "execution_count": 57,
   "id": "9855cdd3-74bf-4893-96ae-19b52bb9d848",
   "metadata": {},
   "outputs": [],
   "source": [
    "results_t108_alt_bc = scan(pheno_108, geno, kinship_Gc; \n",
    "                            prior_variance = prior[1], prior_sample_size = prior[2], \n",
    "                            assumption = \"alt\"); # without correction"
   ]
  },
  {
   "cell_type": "markdown",
   "id": "56cacaea-68bf-4c33-9d07-e9d210b47a7a",
   "metadata": {},
   "source": [
    "We then see that after correction no LOD scores are below zero..."
   ]
  },
  {
   "cell_type": "code",
   "execution_count": 58,
   "id": "5b362895-204e-450a-a3c3-926cfe89beb9",
   "metadata": {},
   "outputs": [
    {
     "data": {
      "text/plain": [
       "false"
      ]
     },
     "execution_count": 58,
     "metadata": {},
     "output_type": "execute_result"
    }
   ],
   "source": [
    "any(results_t108_alt_bc.lod .< 0.0)"
   ]
  },
  {
   "cell_type": "code",
   "execution_count": 59,
   "id": "bce02db9-95e8-4e5e-9721-30246b06e765",
   "metadata": {},
   "outputs": [
    {
     "data": {
      "text/plain": [
       "(0.8703228317949545, -55.02752290588979)"
      ]
     },
     "execution_count": 59,
     "metadata": {},
     "output_type": "execute_result"
    }
   ],
   "source": [
    "maxima_null_bc = (results_t108_alt_bc.h2_null, \n",
    "                    getLL(pheno_108, geno, kinship_Gc, markerID, results_t108_alt_bc.h2_null; prior = prior).ll_null)"
   ]
  },
  {
   "cell_type": "code",
   "execution_count": 60,
   "id": "57e1fe27-7e14-4825-bbe8-5cf829e1f21a",
   "metadata": {},
   "outputs": [
    {
     "data": {
      "text/plain": [
       "(0.7724379371272726, -52.64985519101466)"
      ]
     },
     "execution_count": 60,
     "metadata": {},
     "output_type": "execute_result"
    }
   ],
   "source": [
    "maxima_alt_bc = (results_t108_alt_bc.h2_each_marker[markerID], \n",
    "                    getLL(pheno_108, geno, kinship_Gc, markerID, results_t108_alt_bc.h2_each_marker[markerID]).ll_markerID)"
   ]
  },
  {
   "cell_type": "code",
   "execution_count": 61,
   "id": "5c4b61c6-218f-48d7-99bc-6752784c20c1",
   "metadata": {},
   "outputs": [],
   "source": [
    "issue_results_bc = map(x -> getLL(pheno_108, geno, kinship_Gc, blackSwans[1], x; prior = prior), collect(1:999).*0.001);"
   ]
  },
  {
   "cell_type": "code",
   "execution_count": 62,
   "id": "b408e85d-f3ef-4b51-99d8-86d6f479d12b",
   "metadata": {},
   "outputs": [],
   "source": [
    "ell_null_bc = zeros(999);\n",
    "ell_markerID_bc = zeros(999);\n",
    "for k in 1:999 \n",
    "    ell_null_bc[k] = issue_results_bc[k].ll_null;\n",
    "    ell_markerID_bc[k] = issue_results_bc[k].ll_markerID;\n",
    "end"
   ]
  },
  {
   "cell_type": "code",
   "execution_count": 63,
   "id": "e2751243-5a16-4ec3-bef9-2a03860413ae",
   "metadata": {},
   "outputs": [
    {
     "data": {
      "image/svg+xml": [
       "<?xml version=\"1.0\" encoding=\"utf-8\"?>\n",
       "<svg xmlns=\"http://www.w3.org/2000/svg\" xmlns:xlink=\"http://www.w3.org/1999/xlink\" width=\"600\" height=\"400\" viewBox=\"0 0 2400 1600\">\n",
       "<defs>\n",
       "  <clipPath id=\"clip060\">\n",
       "    <rect x=\"0\" y=\"0\" width=\"2400\" height=\"1600\"/>\n",
       "  </clipPath>\n",
       "</defs>\n",
       "<path clip-path=\"url(#clip060)\" d=\"\n",
       "M0 1600 L2400 1600 L2400 0 L0 0  Z\n",
       "  \" fill=\"#ffffff\" fill-rule=\"evenodd\" fill-opacity=\"1\"/>\n",
       "<defs>\n",
       "  <clipPath id=\"clip061\">\n",
       "    <rect x=\"480\" y=\"0\" width=\"1681\" height=\"1600\"/>\n",
       "  </clipPath>\n",
       "</defs>\n",
       "<path clip-path=\"url(#clip060)\" d=\"\n",
       "M242.135 1423.18 L2352.76 1423.18 L2352.76 47.2441 L242.135 47.2441  Z\n",
       "  \" fill=\"#ffffff\" fill-rule=\"evenodd\" fill-opacity=\"1\"/>\n",
       "<defs>\n",
       "  <clipPath id=\"clip062\">\n",
       "    <rect x=\"242\" y=\"47\" width=\"2112\" height=\"1377\"/>\n",
       "  </clipPath>\n",
       "</defs>\n",
       "<polyline clip-path=\"url(#clip062)\" style=\"stroke:#000000; stroke-linecap:round; stroke-linejoin:round; stroke-width:2; stroke-opacity:0.1; fill:none\" points=\"\n",
       "  299.874,1423.18 299.874,47.2441 \n",
       "  \"/>\n",
       "<polyline clip-path=\"url(#clip062)\" style=\"stroke:#000000; stroke-linecap:round; stroke-linejoin:round; stroke-width:2; stroke-opacity:0.1; fill:none\" points=\"\n",
       "  798.66,1423.18 798.66,47.2441 \n",
       "  \"/>\n",
       "<polyline clip-path=\"url(#clip062)\" style=\"stroke:#000000; stroke-linecap:round; stroke-linejoin:round; stroke-width:2; stroke-opacity:0.1; fill:none\" points=\"\n",
       "  1297.45,1423.18 1297.45,47.2441 \n",
       "  \"/>\n",
       "<polyline clip-path=\"url(#clip062)\" style=\"stroke:#000000; stroke-linecap:round; stroke-linejoin:round; stroke-width:2; stroke-opacity:0.1; fill:none\" points=\"\n",
       "  1796.23,1423.18 1796.23,47.2441 \n",
       "  \"/>\n",
       "<polyline clip-path=\"url(#clip062)\" style=\"stroke:#000000; stroke-linecap:round; stroke-linejoin:round; stroke-width:2; stroke-opacity:0.1; fill:none\" points=\"\n",
       "  2295.02,1423.18 2295.02,47.2441 \n",
       "  \"/>\n",
       "<polyline clip-path=\"url(#clip060)\" style=\"stroke:#000000; stroke-linecap:round; stroke-linejoin:round; stroke-width:4; stroke-opacity:1; fill:none\" points=\"\n",
       "  242.135,1423.18 2352.76,1423.18 \n",
       "  \"/>\n",
       "<polyline clip-path=\"url(#clip060)\" style=\"stroke:#000000; stroke-linecap:round; stroke-linejoin:round; stroke-width:4; stroke-opacity:1; fill:none\" points=\"\n",
       "  299.874,1423.18 299.874,1404.28 \n",
       "  \"/>\n",
       "<polyline clip-path=\"url(#clip060)\" style=\"stroke:#000000; stroke-linecap:round; stroke-linejoin:round; stroke-width:4; stroke-opacity:1; fill:none\" points=\"\n",
       "  798.66,1423.18 798.66,1404.28 \n",
       "  \"/>\n",
       "<polyline clip-path=\"url(#clip060)\" style=\"stroke:#000000; stroke-linecap:round; stroke-linejoin:round; stroke-width:4; stroke-opacity:1; fill:none\" points=\"\n",
       "  1297.45,1423.18 1297.45,1404.28 \n",
       "  \"/>\n",
       "<polyline clip-path=\"url(#clip060)\" style=\"stroke:#000000; stroke-linecap:round; stroke-linejoin:round; stroke-width:4; stroke-opacity:1; fill:none\" points=\"\n",
       "  1796.23,1423.18 1796.23,1404.28 \n",
       "  \"/>\n",
       "<polyline clip-path=\"url(#clip060)\" style=\"stroke:#000000; stroke-linecap:round; stroke-linejoin:round; stroke-width:4; stroke-opacity:1; fill:none\" points=\"\n",
       "  2295.02,1423.18 2295.02,1404.28 \n",
       "  \"/>\n",
       "<path clip-path=\"url(#clip060)\" d=\"M262.178 1454.1 Q258.566 1454.1 256.738 1457.66 Q254.932 1461.2 254.932 1468.33 Q254.932 1475.44 256.738 1479.01 Q258.566 1482.55 262.178 1482.55 Q265.812 1482.55 267.617 1479.01 Q269.446 1475.44 269.446 1468.33 Q269.446 1461.2 267.617 1457.66 Q265.812 1454.1 262.178 1454.1 M262.178 1450.39 Q267.988 1450.39 271.043 1455 Q274.122 1459.58 274.122 1468.33 Q274.122 1477.06 271.043 1481.67 Q267.988 1486.25 262.178 1486.25 Q256.367 1486.25 253.289 1481.67 Q250.233 1477.06 250.233 1468.33 Q250.233 1459.58 253.289 1455 Q256.367 1450.39 262.178 1450.39 Z\" fill=\"#000000\" fill-rule=\"evenodd\" fill-opacity=\"1\" /><path clip-path=\"url(#clip060)\" d=\"M282.339 1479.7 L287.224 1479.7 L287.224 1485.58 L282.339 1485.58 L282.339 1479.7 Z\" fill=\"#000000\" fill-rule=\"evenodd\" fill-opacity=\"1\" /><path clip-path=\"url(#clip060)\" d=\"M307.409 1454.1 Q303.798 1454.1 301.969 1457.66 Q300.163 1461.2 300.163 1468.33 Q300.163 1475.44 301.969 1479.01 Q303.798 1482.55 307.409 1482.55 Q311.043 1482.55 312.849 1479.01 Q314.677 1475.44 314.677 1468.33 Q314.677 1461.2 312.849 1457.66 Q311.043 1454.1 307.409 1454.1 M307.409 1450.39 Q313.219 1450.39 316.274 1455 Q319.353 1459.58 319.353 1468.33 Q319.353 1477.06 316.274 1481.67 Q313.219 1486.25 307.409 1486.25 Q301.599 1486.25 298.52 1481.67 Q295.464 1477.06 295.464 1468.33 Q295.464 1459.58 298.52 1455 Q301.599 1450.39 307.409 1450.39 Z\" fill=\"#000000\" fill-rule=\"evenodd\" fill-opacity=\"1\" /><path clip-path=\"url(#clip060)\" d=\"M337.571 1454.1 Q333.96 1454.1 332.131 1457.66 Q330.325 1461.2 330.325 1468.33 Q330.325 1475.44 332.131 1479.01 Q333.96 1482.55 337.571 1482.55 Q341.205 1482.55 343.01 1479.01 Q344.839 1475.44 344.839 1468.33 Q344.839 1461.2 343.01 1457.66 Q341.205 1454.1 337.571 1454.1 M337.571 1450.39 Q343.381 1450.39 346.436 1455 Q349.515 1459.58 349.515 1468.33 Q349.515 1477.06 346.436 1481.67 Q343.381 1486.25 337.571 1486.25 Q331.76 1486.25 328.682 1481.67 Q325.626 1477.06 325.626 1468.33 Q325.626 1459.58 328.682 1455 Q331.76 1450.39 337.571 1450.39 Z\" fill=\"#000000\" fill-rule=\"evenodd\" fill-opacity=\"1\" /><path clip-path=\"url(#clip060)\" d=\"M761.461 1454.1 Q757.85 1454.1 756.021 1457.66 Q754.215 1461.2 754.215 1468.33 Q754.215 1475.44 756.021 1479.01 Q757.85 1482.55 761.461 1482.55 Q765.095 1482.55 766.901 1479.01 Q768.729 1475.44 768.729 1468.33 Q768.729 1461.2 766.901 1457.66 Q765.095 1454.1 761.461 1454.1 M761.461 1450.39 Q767.271 1450.39 770.327 1455 Q773.405 1459.58 773.405 1468.33 Q773.405 1477.06 770.327 1481.67 Q767.271 1486.25 761.461 1486.25 Q755.651 1486.25 752.572 1481.67 Q749.516 1477.06 749.516 1468.33 Q749.516 1459.58 752.572 1455 Q755.651 1450.39 761.461 1450.39 Z\" fill=\"#000000\" fill-rule=\"evenodd\" fill-opacity=\"1\" /><path clip-path=\"url(#clip060)\" d=\"M781.623 1479.7 L786.507 1479.7 L786.507 1485.58 L781.623 1485.58 L781.623 1479.7 Z\" fill=\"#000000\" fill-rule=\"evenodd\" fill-opacity=\"1\" /><path clip-path=\"url(#clip060)\" d=\"M800.72 1481.64 L817.039 1481.64 L817.039 1485.58 L795.095 1485.58 L795.095 1481.64 Q797.757 1478.89 802.34 1474.26 Q806.947 1469.61 808.127 1468.27 Q810.373 1465.74 811.252 1464.01 Q812.155 1462.25 812.155 1460.56 Q812.155 1457.8 810.211 1456.07 Q808.289 1454.33 805.187 1454.33 Q802.988 1454.33 800.535 1455.09 Q798.104 1455.86 795.326 1457.41 L795.326 1452.69 Q798.15 1451.55 800.604 1450.97 Q803.058 1450.39 805.095 1450.39 Q810.465 1450.39 813.66 1453.08 Q816.854 1455.77 816.854 1460.26 Q816.854 1462.39 816.044 1464.31 Q815.257 1466.2 813.15 1468.8 Q812.572 1469.47 809.47 1472.69 Q806.368 1475.88 800.72 1481.64 Z\" fill=\"#000000\" fill-rule=\"evenodd\" fill-opacity=\"1\" /><path clip-path=\"url(#clip060)\" d=\"M826.9 1451.02 L845.257 1451.02 L845.257 1454.96 L831.183 1454.96 L831.183 1463.43 Q832.201 1463.08 833.22 1462.92 Q834.238 1462.73 835.257 1462.73 Q841.044 1462.73 844.423 1465.9 Q847.803 1469.08 847.803 1474.49 Q847.803 1480.07 844.331 1483.17 Q840.859 1486.25 834.539 1486.25 Q832.363 1486.25 830.095 1485.88 Q827.849 1485.51 825.442 1484.77 L825.442 1480.07 Q827.525 1481.2 829.747 1481.76 Q831.97 1482.32 834.447 1482.32 Q838.451 1482.32 840.789 1480.21 Q843.127 1478.1 843.127 1474.49 Q843.127 1470.88 840.789 1468.77 Q838.451 1466.67 834.447 1466.67 Q832.572 1466.67 830.697 1467.08 Q828.845 1467.5 826.9 1468.38 L826.9 1451.02 Z\" fill=\"#000000\" fill-rule=\"evenodd\" fill-opacity=\"1\" /><path clip-path=\"url(#clip060)\" d=\"M1259.75 1454.1 Q1256.14 1454.1 1254.31 1457.66 Q1252.5 1461.2 1252.5 1468.33 Q1252.5 1475.44 1254.31 1479.01 Q1256.14 1482.55 1259.75 1482.55 Q1263.38 1482.55 1265.19 1479.01 Q1267.02 1475.44 1267.02 1468.33 Q1267.02 1461.2 1265.19 1457.66 Q1263.38 1454.1 1259.75 1454.1 M1259.75 1450.39 Q1265.56 1450.39 1268.61 1455 Q1271.69 1459.58 1271.69 1468.33 Q1271.69 1477.06 1268.61 1481.67 Q1265.56 1486.25 1259.75 1486.25 Q1253.94 1486.25 1250.86 1481.67 Q1247.8 1477.06 1247.8 1468.33 Q1247.8 1459.58 1250.86 1455 Q1253.94 1450.39 1259.75 1450.39 Z\" fill=\"#000000\" fill-rule=\"evenodd\" fill-opacity=\"1\" /><path clip-path=\"url(#clip060)\" d=\"M1279.91 1479.7 L1284.79 1479.7 L1284.79 1485.58 L1279.91 1485.58 L1279.91 1479.7 Z\" fill=\"#000000\" fill-rule=\"evenodd\" fill-opacity=\"1\" /><path clip-path=\"url(#clip060)\" d=\"M1295.03 1451.02 L1313.38 1451.02 L1313.38 1454.96 L1299.31 1454.96 L1299.31 1463.43 Q1300.33 1463.08 1301.35 1462.92 Q1302.36 1462.73 1303.38 1462.73 Q1309.17 1462.73 1312.55 1465.9 Q1315.93 1469.08 1315.93 1474.49 Q1315.93 1480.07 1312.46 1483.17 Q1308.98 1486.25 1302.67 1486.25 Q1300.49 1486.25 1298.22 1485.88 Q1295.98 1485.51 1293.57 1484.77 L1293.57 1480.07 Q1295.65 1481.2 1297.87 1481.76 Q1300.1 1482.32 1302.57 1482.32 Q1306.58 1482.32 1308.92 1480.21 Q1311.25 1478.1 1311.25 1474.49 Q1311.25 1470.88 1308.92 1468.77 Q1306.58 1466.67 1302.57 1466.67 Q1300.7 1466.67 1298.82 1467.08 Q1296.97 1467.5 1295.03 1468.38 L1295.03 1451.02 Z\" fill=\"#000000\" fill-rule=\"evenodd\" fill-opacity=\"1\" /><path clip-path=\"url(#clip060)\" d=\"M1335.14 1454.1 Q1331.53 1454.1 1329.7 1457.66 Q1327.9 1461.2 1327.9 1468.33 Q1327.9 1475.44 1329.7 1479.01 Q1331.53 1482.55 1335.14 1482.55 Q1338.78 1482.55 1340.58 1479.01 Q1342.41 1475.44 1342.41 1468.33 Q1342.41 1461.2 1340.58 1457.66 Q1338.78 1454.1 1335.14 1454.1 M1335.14 1450.39 Q1340.95 1450.39 1344.01 1455 Q1347.09 1459.58 1347.09 1468.33 Q1347.09 1477.06 1344.01 1481.67 Q1340.95 1486.25 1335.14 1486.25 Q1329.33 1486.25 1326.25 1481.67 Q1323.2 1477.06 1323.2 1468.33 Q1323.2 1459.58 1326.25 1455 Q1329.33 1450.39 1335.14 1450.39 Z\" fill=\"#000000\" fill-rule=\"evenodd\" fill-opacity=\"1\" /><path clip-path=\"url(#clip060)\" d=\"M1759.03 1454.1 Q1755.42 1454.1 1753.59 1457.66 Q1751.79 1461.2 1751.79 1468.33 Q1751.79 1475.44 1753.59 1479.01 Q1755.42 1482.55 1759.03 1482.55 Q1762.67 1482.55 1764.47 1479.01 Q1766.3 1475.44 1766.3 1468.33 Q1766.3 1461.2 1764.47 1457.66 Q1762.67 1454.1 1759.03 1454.1 M1759.03 1450.39 Q1764.84 1450.39 1767.9 1455 Q1770.98 1459.58 1770.98 1468.33 Q1770.98 1477.06 1767.9 1481.67 Q1764.84 1486.25 1759.03 1486.25 Q1753.22 1486.25 1750.14 1481.67 Q1747.09 1477.06 1747.09 1468.33 Q1747.09 1459.58 1750.14 1455 Q1753.22 1450.39 1759.03 1450.39 Z\" fill=\"#000000\" fill-rule=\"evenodd\" fill-opacity=\"1\" /><path clip-path=\"url(#clip060)\" d=\"M1779.19 1479.7 L1784.08 1479.7 L1784.08 1485.58 L1779.19 1485.58 L1779.19 1479.7 Z\" fill=\"#000000\" fill-rule=\"evenodd\" fill-opacity=\"1\" /><path clip-path=\"url(#clip060)\" d=\"M1793.08 1451.02 L1815.3 1451.02 L1815.3 1453.01 L1802.76 1485.58 L1797.87 1485.58 L1809.68 1454.96 L1793.08 1454.96 L1793.08 1451.02 Z\" fill=\"#000000\" fill-rule=\"evenodd\" fill-opacity=\"1\" /><path clip-path=\"url(#clip060)\" d=\"M1824.47 1451.02 L1842.83 1451.02 L1842.83 1454.96 L1828.75 1454.96 L1828.75 1463.43 Q1829.77 1463.08 1830.79 1462.92 Q1831.81 1462.73 1832.83 1462.73 Q1838.61 1462.73 1841.99 1465.9 Q1845.37 1469.08 1845.37 1474.49 Q1845.37 1480.07 1841.9 1483.17 Q1838.43 1486.25 1832.11 1486.25 Q1829.93 1486.25 1827.67 1485.88 Q1825.42 1485.51 1823.01 1484.77 L1823.01 1480.07 Q1825.1 1481.2 1827.32 1481.76 Q1829.54 1482.32 1832.02 1482.32 Q1836.02 1482.32 1838.36 1480.21 Q1840.7 1478.1 1840.7 1474.49 Q1840.7 1470.88 1838.36 1468.77 Q1836.02 1466.67 1832.02 1466.67 Q1830.14 1466.67 1828.27 1467.08 Q1826.42 1467.5 1824.47 1468.38 L1824.47 1451.02 Z\" fill=\"#000000\" fill-rule=\"evenodd\" fill-opacity=\"1\" /><path clip-path=\"url(#clip060)\" d=\"M2247.09 1481.64 L2254.73 1481.64 L2254.73 1455.28 L2246.42 1456.95 L2246.42 1452.69 L2254.68 1451.02 L2259.36 1451.02 L2259.36 1481.64 L2267 1481.64 L2267 1485.58 L2247.09 1485.58 L2247.09 1481.64 Z\" fill=\"#000000\" fill-rule=\"evenodd\" fill-opacity=\"1\" /><path clip-path=\"url(#clip060)\" d=\"M2276.44 1479.7 L2281.32 1479.7 L2281.32 1485.58 L2276.44 1485.58 L2276.44 1479.7 Z\" fill=\"#000000\" fill-rule=\"evenodd\" fill-opacity=\"1\" /><path clip-path=\"url(#clip060)\" d=\"M2301.51 1454.1 Q2297.9 1454.1 2296.07 1457.66 Q2294.26 1461.2 2294.26 1468.33 Q2294.26 1475.44 2296.07 1479.01 Q2297.9 1482.55 2301.51 1482.55 Q2305.14 1482.55 2306.95 1479.01 Q2308.78 1475.44 2308.78 1468.33 Q2308.78 1461.2 2306.95 1457.66 Q2305.14 1454.1 2301.51 1454.1 M2301.51 1450.39 Q2307.32 1450.39 2310.38 1455 Q2313.45 1459.58 2313.45 1468.33 Q2313.45 1477.06 2310.38 1481.67 Q2307.32 1486.25 2301.51 1486.25 Q2295.7 1486.25 2292.62 1481.67 Q2289.57 1477.06 2289.57 1468.33 Q2289.57 1459.58 2292.62 1455 Q2295.7 1450.39 2301.51 1450.39 Z\" fill=\"#000000\" fill-rule=\"evenodd\" fill-opacity=\"1\" /><path clip-path=\"url(#clip060)\" d=\"M2331.67 1454.1 Q2328.06 1454.1 2326.23 1457.66 Q2324.43 1461.2 2324.43 1468.33 Q2324.43 1475.44 2326.23 1479.01 Q2328.06 1482.55 2331.67 1482.55 Q2335.31 1482.55 2337.11 1479.01 Q2338.94 1475.44 2338.94 1468.33 Q2338.94 1461.2 2337.11 1457.66 Q2335.31 1454.1 2331.67 1454.1 M2331.67 1450.39 Q2337.48 1450.39 2340.54 1455 Q2343.62 1459.58 2343.62 1468.33 Q2343.62 1477.06 2340.54 1481.67 Q2337.48 1486.25 2331.67 1486.25 Q2325.86 1486.25 2322.78 1481.67 Q2319.73 1477.06 2319.73 1468.33 Q2319.73 1459.58 2322.78 1455 Q2325.86 1450.39 2331.67 1450.39 Z\" fill=\"#000000\" fill-rule=\"evenodd\" fill-opacity=\"1\" /><path clip-path=\"url(#clip060)\" d=\"M1292.13 1546.53 L1292.13 1568.04 L1286.27 1568.04 L1286.27 1546.72 Q1286.27 1541.66 1284.3 1539.14 Q1282.33 1536.63 1278.38 1536.63 Q1273.64 1536.63 1270.9 1539.65 Q1268.16 1542.68 1268.16 1547.9 L1268.16 1568.04 L1262.27 1568.04 L1262.27 1518.52 L1268.16 1518.52 L1268.16 1537.93 Q1270.26 1534.72 1273.1 1533.13 Q1275.96 1531.54 1279.68 1531.54 Q1285.83 1531.54 1288.98 1535.36 Q1292.13 1539.14 1292.13 1546.53 Z\" fill=\"#000000\" fill-rule=\"evenodd\" fill-opacity=\"1\" /><path clip-path=\"url(#clip060)\" d=\"M1310.18 1562.63 L1332.62 1562.63 L1332.62 1568.04 L1302.44 1568.04 L1302.44 1562.63 Q1306.1 1558.85 1312.4 1552.48 Q1318.74 1546.08 1320.36 1544.24 Q1323.45 1540.77 1324.66 1538.38 Q1325.9 1535.96 1325.9 1533.64 Q1325.9 1529.85 1323.23 1527.46 Q1320.58 1525.08 1316.32 1525.08 Q1313.3 1525.08 1309.92 1526.13 Q1306.58 1527.18 1302.76 1529.31 L1302.76 1522.82 Q1306.64 1521.26 1310.02 1520.46 Q1313.39 1519.66 1316.19 1519.66 Q1323.58 1519.66 1327.97 1523.36 Q1332.36 1527.05 1332.36 1533.22 Q1332.36 1536.15 1331.25 1538.79 Q1330.17 1541.4 1327.27 1544.97 Q1326.47 1545.89 1322.21 1550.32 Q1317.94 1554.71 1310.18 1562.63 Z\" fill=\"#000000\" fill-rule=\"evenodd\" fill-opacity=\"1\" /><polyline clip-path=\"url(#clip062)\" style=\"stroke:#000000; stroke-linecap:round; stroke-linejoin:round; stroke-width:2; stroke-opacity:0.1; fill:none\" points=\"\n",
       "  242.135,1197.5 2352.76,1197.5 \n",
       "  \"/>\n",
       "<polyline clip-path=\"url(#clip062)\" style=\"stroke:#000000; stroke-linecap:round; stroke-linejoin:round; stroke-width:2; stroke-opacity:0.1; fill:none\" points=\"\n",
       "  242.135,947.023 2352.76,947.023 \n",
       "  \"/>\n",
       "<polyline clip-path=\"url(#clip062)\" style=\"stroke:#000000; stroke-linecap:round; stroke-linejoin:round; stroke-width:2; stroke-opacity:0.1; fill:none\" points=\"\n",
       "  242.135,696.546 2352.76,696.546 \n",
       "  \"/>\n",
       "<polyline clip-path=\"url(#clip062)\" style=\"stroke:#000000; stroke-linecap:round; stroke-linejoin:round; stroke-width:2; stroke-opacity:0.1; fill:none\" points=\"\n",
       "  242.135,446.069 2352.76,446.069 \n",
       "  \"/>\n",
       "<polyline clip-path=\"url(#clip062)\" style=\"stroke:#000000; stroke-linecap:round; stroke-linejoin:round; stroke-width:2; stroke-opacity:0.1; fill:none\" points=\"\n",
       "  242.135,195.591 2352.76,195.591 \n",
       "  \"/>\n",
       "<polyline clip-path=\"url(#clip060)\" style=\"stroke:#000000; stroke-linecap:round; stroke-linejoin:round; stroke-width:4; stroke-opacity:1; fill:none\" points=\"\n",
       "  242.135,1423.18 242.135,47.2441 \n",
       "  \"/>\n",
       "<polyline clip-path=\"url(#clip060)\" style=\"stroke:#000000; stroke-linecap:round; stroke-linejoin:round; stroke-width:4; stroke-opacity:1; fill:none\" points=\"\n",
       "  242.135,1197.5 261.032,1197.5 \n",
       "  \"/>\n",
       "<polyline clip-path=\"url(#clip060)\" style=\"stroke:#000000; stroke-linecap:round; stroke-linejoin:round; stroke-width:4; stroke-opacity:1; fill:none\" points=\"\n",
       "  242.135,947.023 261.032,947.023 \n",
       "  \"/>\n",
       "<polyline clip-path=\"url(#clip060)\" style=\"stroke:#000000; stroke-linecap:round; stroke-linejoin:round; stroke-width:4; stroke-opacity:1; fill:none\" points=\"\n",
       "  242.135,696.546 261.032,696.546 \n",
       "  \"/>\n",
       "<polyline clip-path=\"url(#clip060)\" style=\"stroke:#000000; stroke-linecap:round; stroke-linejoin:round; stroke-width:4; stroke-opacity:1; fill:none\" points=\"\n",
       "  242.135,446.069 261.032,446.069 \n",
       "  \"/>\n",
       "<polyline clip-path=\"url(#clip060)\" style=\"stroke:#000000; stroke-linecap:round; stroke-linejoin:round; stroke-width:4; stroke-opacity:1; fill:none\" points=\"\n",
       "  242.135,195.591 261.032,195.591 \n",
       "  \"/>\n",
       "<path clip-path=\"url(#clip060)\" d=\"M115.256 1197.95 L144.931 1197.95 L144.931 1201.89 L115.256 1201.89 L115.256 1197.95 Z\" fill=\"#000000\" fill-rule=\"evenodd\" fill-opacity=\"1\" /><path clip-path=\"url(#clip060)\" d=\"M153.843 1180.22 L176.065 1180.22 L176.065 1182.21 L163.519 1214.78 L158.635 1214.78 L170.44 1184.16 L153.843 1184.16 L153.843 1180.22 Z\" fill=\"#000000\" fill-rule=\"evenodd\" fill-opacity=\"1\" /><path clip-path=\"url(#clip060)\" d=\"M185.232 1180.22 L203.588 1180.22 L203.588 1184.16 L189.514 1184.16 L189.514 1192.63 Q190.533 1192.28 191.551 1192.12 Q192.57 1191.93 193.588 1191.93 Q199.375 1191.93 202.755 1195.1 Q206.135 1198.28 206.135 1203.69 Q206.135 1209.27 202.662 1212.37 Q199.19 1215.45 192.871 1215.45 Q190.695 1215.45 188.426 1215.08 Q186.181 1214.71 183.774 1213.97 L183.774 1209.27 Q185.857 1210.41 188.079 1210.96 Q190.301 1211.52 192.778 1211.52 Q196.783 1211.52 199.121 1209.41 Q201.459 1207.3 201.459 1203.69 Q201.459 1200.08 199.121 1197.98 Q196.783 1195.87 192.778 1195.87 Q190.903 1195.87 189.028 1196.29 Q187.176 1196.7 185.232 1197.58 L185.232 1180.22 Z\" fill=\"#000000\" fill-rule=\"evenodd\" fill-opacity=\"1\" /><path clip-path=\"url(#clip060)\" d=\"M114.26 947.475 L143.936 947.475 L143.936 951.41 L114.26 951.41 L114.26 947.475 Z\" fill=\"#000000\" fill-rule=\"evenodd\" fill-opacity=\"1\" /><path clip-path=\"url(#clip060)\" d=\"M152.848 929.743 L175.07 929.743 L175.07 931.734 L162.524 964.303 L157.64 964.303 L169.445 933.679 L152.848 933.679 L152.848 929.743 Z\" fill=\"#000000\" fill-rule=\"evenodd\" fill-opacity=\"1\" /><path clip-path=\"url(#clip060)\" d=\"M194.19 932.822 Q190.579 932.822 188.75 936.387 Q186.945 939.928 186.945 947.058 Q186.945 954.165 188.75 957.729 Q190.579 961.271 194.19 961.271 Q197.825 961.271 199.63 957.729 Q201.459 954.165 201.459 947.058 Q201.459 939.928 199.63 936.387 Q197.825 932.822 194.19 932.822 M194.19 929.118 Q200 929.118 203.056 933.725 Q206.135 938.308 206.135 947.058 Q206.135 955.785 203.056 960.391 Q200 964.975 194.19 964.975 Q188.38 964.975 185.301 960.391 Q182.246 955.785 182.246 947.058 Q182.246 938.308 185.301 933.725 Q188.38 929.118 194.19 929.118 Z\" fill=\"#000000\" fill-rule=\"evenodd\" fill-opacity=\"1\" /><path clip-path=\"url(#clip060)\" d=\"M115.256 696.997 L144.931 696.997 L144.931 700.933 L115.256 700.933 L115.256 696.997 Z\" fill=\"#000000\" fill-rule=\"evenodd\" fill-opacity=\"1\" /><path clip-path=\"url(#clip060)\" d=\"M165.602 694.683 Q162.454 694.683 160.603 696.835 Q158.774 698.988 158.774 702.738 Q158.774 706.465 160.603 708.641 Q162.454 710.794 165.602 710.794 Q168.751 710.794 170.579 708.641 Q172.431 706.465 172.431 702.738 Q172.431 698.988 170.579 696.835 Q168.751 694.683 165.602 694.683 M174.885 680.03 L174.885 684.289 Q173.126 683.456 171.32 683.016 Q169.538 682.576 167.778 682.576 Q163.149 682.576 160.695 685.701 Q158.265 688.826 157.917 695.146 Q159.283 693.132 161.343 692.067 Q163.403 690.979 165.88 690.979 Q171.089 690.979 174.098 694.15 Q177.13 697.298 177.13 702.738 Q177.13 708.062 173.982 711.28 Q170.834 714.497 165.602 714.497 Q159.607 714.497 156.436 709.914 Q153.265 705.308 153.265 696.581 Q153.265 688.386 157.153 683.525 Q161.042 678.641 167.593 678.641 Q169.352 678.641 171.135 678.988 Q172.94 679.335 174.885 680.03 Z\" fill=\"#000000\" fill-rule=\"evenodd\" fill-opacity=\"1\" /><path clip-path=\"url(#clip060)\" d=\"M185.232 679.266 L203.588 679.266 L203.588 683.201 L189.514 683.201 L189.514 691.673 Q190.533 691.326 191.551 691.164 Q192.57 690.979 193.588 690.979 Q199.375 690.979 202.755 694.15 Q206.135 697.321 206.135 702.738 Q206.135 708.317 202.662 711.419 Q199.19 714.497 192.871 714.497 Q190.695 714.497 188.426 714.127 Q186.181 713.757 183.774 713.016 L183.774 708.317 Q185.857 709.451 188.079 710.007 Q190.301 710.562 192.778 710.562 Q196.783 710.562 199.121 708.456 Q201.459 706.349 201.459 702.738 Q201.459 699.127 199.121 697.021 Q196.783 694.914 192.778 694.914 Q190.903 694.914 189.028 695.331 Q187.176 695.747 185.232 696.627 L185.232 679.266 Z\" fill=\"#000000\" fill-rule=\"evenodd\" fill-opacity=\"1\" /><path clip-path=\"url(#clip060)\" d=\"M114.26 446.52 L143.936 446.52 L143.936 450.455 L114.26 450.455 L114.26 446.52 Z\" fill=\"#000000\" fill-rule=\"evenodd\" fill-opacity=\"1\" /><path clip-path=\"url(#clip060)\" d=\"M164.607 444.205 Q161.459 444.205 159.607 446.358 Q157.778 448.511 157.778 452.261 Q157.778 455.988 159.607 458.164 Q161.459 460.316 164.607 460.316 Q167.755 460.316 169.584 458.164 Q171.436 455.988 171.436 452.261 Q171.436 448.511 169.584 446.358 Q167.755 444.205 164.607 444.205 M173.889 429.553 L173.889 433.812 Q172.13 432.978 170.325 432.539 Q168.542 432.099 166.783 432.099 Q162.153 432.099 159.7 435.224 Q157.269 438.349 156.922 444.668 Q158.288 442.654 160.348 441.59 Q162.408 440.502 164.885 440.502 Q170.093 440.502 173.102 443.673 Q176.135 446.821 176.135 452.261 Q176.135 457.585 172.987 460.802 Q169.839 464.02 164.607 464.02 Q158.612 464.02 155.44 459.437 Q152.269 454.83 152.269 446.103 Q152.269 437.909 156.158 433.048 Q160.047 428.164 166.598 428.164 Q168.357 428.164 170.139 428.511 Q171.945 428.858 173.889 429.553 Z\" fill=\"#000000\" fill-rule=\"evenodd\" fill-opacity=\"1\" /><path clip-path=\"url(#clip060)\" d=\"M194.19 431.867 Q190.579 431.867 188.75 435.432 Q186.945 438.974 186.945 446.103 Q186.945 453.21 188.75 456.775 Q190.579 460.316 194.19 460.316 Q197.825 460.316 199.63 456.775 Q201.459 453.21 201.459 446.103 Q201.459 438.974 199.63 435.432 Q197.825 431.867 194.19 431.867 M194.19 428.164 Q200 428.164 203.056 432.77 Q206.135 437.353 206.135 446.103 Q206.135 454.83 203.056 459.437 Q200 464.02 194.19 464.02 Q188.38 464.02 185.301 459.437 Q182.246 454.83 182.246 446.103 Q182.246 437.353 185.301 432.77 Q188.38 428.164 194.19 428.164 Z\" fill=\"#000000\" fill-rule=\"evenodd\" fill-opacity=\"1\" /><path clip-path=\"url(#clip060)\" d=\"M115.256 196.043 L144.931 196.043 L144.931 199.978 L115.256 199.978 L115.256 196.043 Z\" fill=\"#000000\" fill-rule=\"evenodd\" fill-opacity=\"1\" /><path clip-path=\"url(#clip060)\" d=\"M155.07 178.311 L173.427 178.311 L173.427 182.247 L159.353 182.247 L159.353 190.719 Q160.371 190.371 161.39 190.209 Q162.408 190.024 163.427 190.024 Q169.214 190.024 172.593 193.196 Q175.973 196.367 175.973 201.783 Q175.973 207.362 172.501 210.464 Q169.028 213.543 162.709 213.543 Q160.533 213.543 158.265 213.172 Q156.019 212.802 153.612 212.061 L153.612 207.362 Q155.695 208.496 157.917 209.052 Q160.14 209.607 162.616 209.607 Q166.621 209.607 168.959 207.501 Q171.297 205.395 171.297 201.783 Q171.297 198.172 168.959 196.066 Q166.621 193.959 162.616 193.959 Q160.741 193.959 158.866 194.376 Q157.015 194.793 155.07 195.672 L155.07 178.311 Z\" fill=\"#000000\" fill-rule=\"evenodd\" fill-opacity=\"1\" /><path clip-path=\"url(#clip060)\" d=\"M185.232 178.311 L203.588 178.311 L203.588 182.247 L189.514 182.247 L189.514 190.719 Q190.533 190.371 191.551 190.209 Q192.57 190.024 193.588 190.024 Q199.375 190.024 202.755 193.196 Q206.135 196.367 206.135 201.783 Q206.135 207.362 202.662 210.464 Q199.19 213.543 192.871 213.543 Q190.695 213.543 188.426 213.172 Q186.181 212.802 183.774 212.061 L183.774 207.362 Q185.857 208.496 188.079 209.052 Q190.301 209.607 192.778 209.607 Q196.783 209.607 199.121 207.501 Q201.459 205.395 201.459 201.783 Q201.459 198.172 199.121 196.066 Q196.783 193.959 192.778 193.959 Q190.903 193.959 189.028 194.376 Q187.176 194.793 185.232 195.672 L185.232 178.311 Z\" fill=\"#000000\" fill-rule=\"evenodd\" fill-opacity=\"1\" /><path clip-path=\"url(#clip060)\" d=\"M14.479 818.714 L14.479 812.858 L64.0042 812.858 L64.0042 818.714 L14.479 818.714 Z\" fill=\"#000000\" fill-rule=\"evenodd\" fill-opacity=\"1\" /><path clip-path=\"url(#clip060)\" d=\"M32.4621 786.79 Q32.4621 791.501 36.1542 794.238 Q39.8145 796.975 46.212 796.975 Q52.6095 796.975 56.3017 794.27 Q59.9619 791.533 59.9619 786.79 Q59.9619 782.111 56.2698 779.374 Q52.5777 776.637 46.212 776.637 Q39.8781 776.637 36.186 779.374 Q32.4621 782.111 32.4621 786.79 M27.4968 786.79 Q27.4968 779.151 32.4621 774.791 Q37.4273 770.43 46.212 770.43 Q54.9649 770.43 59.9619 774.791 Q64.9272 779.151 64.9272 786.79 Q64.9272 794.461 59.9619 798.821 Q54.9649 803.15 46.212 803.15 Q37.4273 803.15 32.4621 798.821 Q27.4968 794.461 27.4968 786.79 Z\" fill=\"#000000\" fill-rule=\"evenodd\" fill-opacity=\"1\" /><path clip-path=\"url(#clip060)\" d=\"M45.7664 737.265 Q39.4007 737.265 35.8996 739.907 Q32.3984 742.517 32.3984 747.259 Q32.3984 751.97 35.8996 754.611 Q39.4007 757.221 45.7664 757.221 Q52.1003 757.221 55.6014 754.611 Q59.1026 751.97 59.1026 747.259 Q59.1026 742.517 55.6014 739.907 Q52.1003 737.265 45.7664 737.265 M59.58 731.408 Q68.683 731.408 73.1071 735.451 Q77.5631 739.493 77.5631 747.832 Q77.5631 750.919 77.0857 753.657 Q76.6401 756.394 75.6852 758.972 L69.9879 758.972 Q71.3884 756.394 72.0568 753.879 Q72.7252 751.365 72.7252 748.755 Q72.7252 742.994 69.7015 740.129 Q66.7096 737.265 60.6303 737.265 L57.7339 737.265 Q60.885 739.079 62.4446 741.912 Q64.0042 744.745 64.0042 748.691 Q64.0042 755.248 59.0071 759.258 Q54.01 763.269 45.7664 763.269 Q37.491 763.269 32.4939 759.258 Q27.4968 755.248 27.4968 748.691 Q27.4968 744.745 29.0564 741.912 Q30.616 739.079 33.7671 737.265 L28.3562 737.265 L28.3562 731.408 L59.58 731.408 Z\" fill=\"#000000\" fill-rule=\"evenodd\" fill-opacity=\"1\" /><path clip-path=\"url(#clip060)\" d=\"M14.479 719.345 L14.479 713.489 L64.0042 713.489 L64.0042 719.345 L14.479 719.345 Z\" fill=\"#000000\" fill-rule=\"evenodd\" fill-opacity=\"1\" /><path clip-path=\"url(#clip060)\" d=\"M28.3562 701.235 L28.3562 695.379 L64.0042 695.379 L64.0042 701.235 L28.3562 701.235 M14.479 701.235 L14.479 695.379 L21.895 695.379 L21.895 701.235 L14.479 701.235 Z\" fill=\"#000000\" fill-rule=\"evenodd\" fill-opacity=\"1\" /><path clip-path=\"url(#clip060)\" d=\"M14.479 683.347 L14.479 677.459 L43.7294 677.459 L28.3562 659.985 L28.3562 652.506 L45.0344 671.412 L64.0042 651.71 L64.0042 659.349 L46.5939 677.459 L64.0042 677.459 L64.0042 683.347 L14.479 683.347 Z\" fill=\"#000000\" fill-rule=\"evenodd\" fill-opacity=\"1\" /><polyline clip-path=\"url(#clip062)\" style=\"stroke:#0000ff; stroke-linecap:round; stroke-linejoin:round; stroke-width:4; stroke-opacity:1; fill:none\" points=\"\n",
       "  301.869,440.517 303.864,439.81 305.86,439.106 307.855,438.403 309.85,437.703 311.845,437.005 313.84,436.309 315.835,435.616 317.83,434.924 319.826,434.235 \n",
       "  321.821,433.548 323.816,432.863 325.811,432.18 327.806,431.499 329.801,430.82 331.796,430.143 333.792,429.469 335.787,428.796 337.782,428.125 339.777,427.457 \n",
       "  341.772,426.79 343.767,426.126 345.762,425.464 347.758,424.803 349.753,424.145 351.748,423.488 353.743,422.834 355.738,422.181 357.733,421.531 359.728,420.882 \n",
       "  361.724,420.235 363.719,419.59 365.714,418.948 367.709,418.307 369.704,417.667 371.699,417.03 373.694,416.395 375.689,415.762 377.685,415.13 379.68,414.5 \n",
       "  381.675,413.872 383.67,413.246 385.665,412.622 387.66,412 389.655,411.379 391.651,410.76 393.646,410.143 395.641,409.528 397.636,408.915 399.631,408.303 \n",
       "  401.626,407.693 403.621,407.085 405.617,406.479 407.612,405.874 409.607,405.271 411.602,404.67 413.597,404.07 415.592,403.472 417.587,402.876 419.583,402.282 \n",
       "  421.578,401.689 423.573,401.098 425.568,400.508 427.563,399.921 429.558,399.335 431.553,398.75 433.549,398.167 435.544,397.586 437.539,397.007 439.534,396.429 \n",
       "  441.529,395.852 443.524,395.278 445.519,394.704 447.515,394.133 449.51,393.563 451.505,392.995 453.5,392.428 455.495,391.862 457.49,391.299 459.485,390.736 \n",
       "  461.481,390.176 463.476,389.617 465.471,389.059 467.466,388.503 469.461,387.949 471.456,387.396 473.451,386.844 475.447,386.294 477.442,385.745 479.437,385.198 \n",
       "  481.432,384.653 483.427,384.109 485.422,383.566 487.417,383.025 489.413,382.485 491.408,381.947 493.403,381.41 495.398,380.874 497.393,380.34 499.388,379.808 \n",
       "  501.383,379.277 503.379,378.747 505.374,378.219 507.369,377.692 509.364,377.166 511.359,376.642 513.354,376.119 515.349,375.598 517.345,375.078 519.34,374.559 \n",
       "  521.335,374.042 523.33,373.526 525.325,373.011 527.32,372.498 529.315,371.986 531.311,371.475 533.306,370.966 535.301,370.458 537.296,369.952 539.291,369.446 \n",
       "  541.286,368.942 543.281,368.44 545.277,367.938 547.272,367.438 549.267,366.939 551.262,366.442 553.257,365.945 555.252,365.45 557.247,364.957 559.243,364.464 \n",
       "  561.238,363.973 563.233,363.483 565.228,362.994 567.223,362.507 569.218,362.021 571.213,361.536 573.209,361.052 575.204,360.569 577.199,360.088 579.194,359.608 \n",
       "  581.189,359.129 583.184,358.651 585.179,358.175 587.175,357.699 589.17,357.225 591.165,356.752 593.16,356.28 595.155,355.81 597.15,355.34 599.145,354.872 \n",
       "  601.141,354.405 603.136,353.939 605.131,353.475 607.126,353.011 609.121,352.548 611.116,352.087 613.111,351.627 615.107,351.168 617.102,350.71 619.097,350.253 \n",
       "  621.092,349.798 623.087,349.343 625.082,348.89 627.077,348.437 629.073,347.986 631.068,347.536 633.063,347.087 635.058,346.639 637.053,346.192 639.048,345.747 \n",
       "  641.043,345.302 643.039,344.858 645.034,344.416 647.029,343.974 649.024,343.534 651.019,343.095 653.014,342.657 655.009,342.219 657.005,341.783 659,341.348 \n",
       "  660.995,340.914 662.99,340.481 664.985,340.049 666.98,339.618 668.975,339.189 670.971,338.76 672.966,338.332 674.961,337.905 676.956,337.479 678.951,337.054 \n",
       "  680.946,336.631 682.941,336.208 684.937,335.786 686.932,335.365 688.927,334.946 690.922,334.527 692.917,334.109 694.912,333.692 696.907,333.277 698.903,332.862 \n",
       "  700.898,332.448 702.893,332.035 704.888,331.623 706.883,331.212 708.878,330.802 710.873,330.393 712.869,329.985 714.864,329.578 716.859,329.172 718.854,328.767 \n",
       "  720.849,328.362 722.844,327.959 724.839,327.557 726.835,327.155 728.83,326.755 730.825,326.355 732.82,325.956 734.815,325.559 736.81,325.162 738.805,324.766 \n",
       "  740.801,324.371 742.796,323.977 744.791,323.584 746.786,323.191 748.781,322.8 750.776,322.41 752.771,322.02 754.767,321.631 756.762,321.244 758.757,320.857 \n",
       "  760.752,320.471 762.747,320.086 764.742,319.701 766.737,319.318 768.733,318.935 770.728,318.554 772.723,318.173 774.718,317.793 776.713,317.414 778.708,317.036 \n",
       "  780.703,316.659 782.699,316.282 784.694,315.907 786.689,315.532 788.684,315.158 790.679,314.785 792.674,314.413 794.669,314.041 796.665,313.671 798.66,313.301 \n",
       "  800.655,312.932 802.65,312.564 804.645,312.197 806.64,311.831 808.635,311.465 810.631,311.1 812.626,310.736 814.621,310.373 816.616,310.011 818.611,309.649 \n",
       "  820.606,309.289 822.601,308.929 824.597,308.57 826.592,308.212 828.587,307.854 830.582,307.497 832.577,307.141 834.572,306.786 836.567,306.432 838.563,306.079 \n",
       "  840.558,305.726 842.553,305.374 844.548,305.023 846.543,304.672 848.538,304.323 850.533,303.974 852.529,303.626 854.524,303.278 856.519,302.932 858.514,302.586 \n",
       "  860.509,302.241 862.504,301.897 864.499,301.553 866.495,301.211 868.49,300.869 870.485,300.527 872.48,300.187 874.475,299.847 876.47,299.508 878.465,299.17 \n",
       "  880.461,298.833 882.456,298.496 884.451,298.16 886.446,297.824 888.441,297.49 890.436,297.156 892.431,296.823 894.427,296.491 896.422,296.159 898.417,295.828 \n",
       "  900.412,295.498 902.407,295.168 904.402,294.84 906.397,294.512 908.393,294.184 910.388,293.858 912.383,293.532 914.378,293.206 916.373,292.882 918.368,292.558 \n",
       "  920.363,292.235 922.359,291.913 924.354,291.591 926.349,291.27 928.344,290.95 930.339,290.63 932.334,290.311 934.329,289.993 936.325,289.675 938.32,289.359 \n",
       "  940.315,289.042 942.31,288.727 944.305,288.412 946.3,288.098 948.295,287.784 950.291,287.472 952.286,287.16 954.281,286.848 956.276,286.537 958.271,286.227 \n",
       "  960.266,285.918 962.261,285.609 964.257,285.301 966.252,284.994 968.247,284.687 970.242,284.381 972.237,284.075 974.232,283.771 976.227,283.466 978.223,283.163 \n",
       "  980.218,282.86 982.213,282.558 984.208,282.256 986.203,281.955 988.198,281.655 990.193,281.356 992.188,281.057 994.184,280.758 996.179,280.461 998.174,280.164 \n",
       "  1000.17,279.867 1002.16,279.571 1004.16,279.276 1006.15,278.982 1008.15,278.688 1010.14,278.395 1012.14,278.102 1014.14,277.81 1016.13,277.519 1018.13,277.228 \n",
       "  1020.12,276.938 1022.12,276.648 1024.11,276.359 1026.11,276.071 1028.1,275.783 1030.1,275.496 1032.09,275.21 1034.09,274.924 1036.08,274.639 1038.08,274.354 \n",
       "  1040.07,274.07 1042.07,273.787 1044.06,273.504 1046.06,273.222 1048.05,272.94 1050.05,272.659 1052.04,272.379 1054.04,272.099 1056.03,271.82 1058.03,271.541 \n",
       "  1060.02,271.263 1062.02,270.986 1064.01,270.709 1066.01,270.433 1068,270.157 1070,269.882 1071.99,269.608 1073.99,269.334 1075.98,269.061 1077.98,268.788 \n",
       "  1079.97,268.516 1081.97,268.244 1083.97,267.973 1085.96,267.703 1087.96,267.433 1089.95,267.164 1091.95,266.895 1093.94,266.627 1095.94,266.36 1097.93,266.093 \n",
       "  1099.93,265.826 1101.92,265.561 1103.92,265.295 1105.91,265.031 1107.91,264.767 1109.9,264.503 1111.9,264.24 1113.89,263.978 1115.89,263.716 1117.88,263.455 \n",
       "  1119.88,263.194 1121.87,262.934 1123.87,262.674 1125.86,262.415 1127.86,262.157 1129.85,261.899 1131.85,261.641 1133.84,261.385 1135.84,261.128 1137.83,260.873 \n",
       "  1139.83,260.617 1141.82,260.363 1143.82,260.109 1145.81,259.855 1147.81,259.602 1149.8,259.35 1151.8,259.098 1153.8,258.846 1155.79,258.596 1157.79,258.345 \n",
       "  1159.78,258.095 1161.78,257.846 1163.77,257.598 1165.77,257.349 1167.76,257.102 1169.76,256.855 1171.75,256.608 1173.75,256.362 1175.74,256.117 1177.74,255.872 \n",
       "  1179.73,255.628 1181.73,255.384 1183.72,255.14 1185.72,254.897 1187.71,254.655 1189.71,254.413 1191.7,254.172 1193.7,253.931 1195.69,253.691 1197.69,253.452 \n",
       "  1199.68,253.212 1201.68,252.974 1203.67,252.736 1205.67,252.498 1207.66,252.261 1209.66,252.025 1211.65,251.789 1213.65,251.553 1215.64,251.318 1217.64,251.084 \n",
       "  1219.63,250.85 1221.63,250.616 1223.63,250.383 1225.62,250.151 1227.62,249.919 1229.61,249.687 1231.61,249.456 1233.6,249.226 1235.6,248.996 1237.59,248.767 \n",
       "  1239.59,248.538 1241.58,248.31 1243.58,248.082 1245.57,247.854 1247.57,247.628 1249.56,247.401 1251.56,247.175 1253.55,246.95 1255.55,246.725 1257.54,246.501 \n",
       "  1259.54,246.277 1261.53,246.054 1263.53,245.831 1265.52,245.608 1267.52,245.387 1269.51,245.165 1271.51,244.944 1273.5,244.724 1275.5,244.504 1277.49,244.285 \n",
       "  1279.49,244.066 1281.48,243.848 1283.48,243.63 1285.47,243.412 1287.47,243.195 1289.46,242.979 1291.46,242.763 1293.46,242.548 1295.45,242.333 1297.45,242.118 \n",
       "  1299.44,241.904 1301.44,241.691 1303.43,241.478 1305.43,241.265 1307.42,241.053 1309.42,240.842 1311.41,240.631 1313.41,240.42 1315.4,240.21 1317.4,240 \n",
       "  1319.39,239.791 1321.39,239.583 1323.38,239.374 1325.38,239.167 1327.37,238.96 1329.37,238.753 1331.36,238.547 1333.36,238.341 1335.35,238.136 1337.35,237.931 \n",
       "  1339.34,237.726 1341.34,237.523 1343.33,237.319 1345.33,237.116 1347.32,236.914 1349.32,236.712 1351.31,236.511 1353.31,236.31 1355.3,236.109 1357.3,235.909 \n",
       "  1359.29,235.71 1361.29,235.511 1363.28,235.312 1365.28,235.114 1367.28,234.916 1369.27,234.719 1371.27,234.522 1373.26,234.326 1375.26,234.13 1377.25,233.935 \n",
       "  1379.25,233.74 1381.24,233.546 1383.24,233.352 1385.23,233.158 1387.23,232.966 1389.22,232.773 1391.22,232.581 1393.21,232.389 1395.21,232.198 1397.2,232.008 \n",
       "  1399.2,231.818 1401.19,231.628 1403.19,231.439 1405.18,231.25 1407.18,231.062 1409.17,230.874 1411.17,230.687 1413.16,230.5 1415.16,230.313 1417.15,230.128 \n",
       "  1419.15,229.942 1421.14,229.757 1423.14,229.573 1425.13,229.388 1427.13,229.205 1429.12,229.022 1431.12,228.839 1433.11,228.657 1435.11,228.475 1437.11,228.294 \n",
       "  1439.1,228.113 1441.1,227.933 1443.09,227.753 1445.09,227.573 1447.08,227.394 1449.08,227.216 1451.07,227.038 1453.07,226.86 1455.06,226.683 1457.06,226.506 \n",
       "  1459.05,226.33 1461.05,226.155 1463.04,225.979 1465.04,225.805 1467.03,225.63 1469.03,225.456 1471.02,225.283 1473.02,225.11 1475.01,224.937 1477.01,224.765 \n",
       "  1479,224.594 1481,224.423 1482.99,224.252 1484.99,224.082 1486.98,223.912 1488.98,223.743 1490.97,223.574 1492.97,223.406 1494.96,223.238 1496.96,223.071 \n",
       "  1498.95,222.904 1500.95,222.737 1502.94,222.571 1504.94,222.406 1506.94,222.241 1508.93,222.076 1510.93,221.912 1512.92,221.748 1514.92,221.585 1516.91,221.422 \n",
       "  1518.91,221.26 1520.9,221.098 1522.9,220.936 1524.89,220.776 1526.89,220.615 1528.88,220.455 1530.88,220.295 1532.87,220.136 1534.87,219.978 1536.86,219.82 \n",
       "  1538.86,219.662 1540.85,219.505 1542.85,219.348 1544.84,219.192 1546.84,219.036 1548.83,218.88 1550.83,218.726 1552.82,218.571 1554.82,218.417 1556.81,218.264 \n",
       "  1558.81,218.111 1560.8,217.958 1562.8,217.806 1564.79,217.654 1566.79,217.503 1568.78,217.352 1570.78,217.202 1572.77,217.052 1574.77,216.903 1576.77,216.754 \n",
       "  1578.76,216.606 1580.76,216.458 1582.75,216.311 1584.75,216.164 1586.74,216.017 1588.74,215.871 1590.73,215.725 1592.73,215.58 1594.72,215.436 1596.72,215.292 \n",
       "  1598.71,215.148 1600.71,215.005 1602.7,214.862 1604.7,214.72 1606.69,214.578 1608.69,214.437 1610.68,214.296 1612.68,214.155 1614.67,214.016 1616.67,213.876 \n",
       "  1618.66,213.737 1620.66,213.599 1622.65,213.461 1624.65,213.323 1626.64,213.186 1628.64,213.05 1630.63,212.914 1632.63,212.778 1634.62,212.643 1636.62,212.508 \n",
       "  1638.61,212.374 1640.61,212.24 1642.6,212.107 1644.6,211.974 1646.6,211.842 1648.59,211.71 1650.59,211.579 1652.58,211.448 1654.58,211.318 1656.57,211.188 \n",
       "  1658.57,211.059 1660.56,210.93 1662.56,210.802 1664.55,210.674 1666.55,210.547 1668.54,210.42 1670.54,210.293 1672.53,210.167 1674.53,210.042 1676.52,209.917 \n",
       "  1678.52,209.793 1680.51,209.669 1682.51,209.545 1684.5,209.422 1686.5,209.3 1688.49,209.178 1690.49,209.056 1692.48,208.935 1694.48,208.815 1696.47,208.695 \n",
       "  1698.47,208.575 1700.46,208.456 1702.46,208.338 1704.45,208.22 1706.45,208.103 1708.44,207.986 1710.44,207.869 1712.43,207.753 1714.43,207.638 1716.43,207.523 \n",
       "  1718.42,207.408 1720.42,207.294 1722.41,207.181 1724.41,207.068 1726.4,206.956 1728.4,206.844 1730.39,206.733 1732.39,206.622 1734.38,206.511 1736.38,206.402 \n",
       "  1738.37,206.292 1740.37,206.184 1742.36,206.075 1744.36,205.968 1746.35,205.86 1748.35,205.754 1750.34,205.648 1752.34,205.542 1754.33,205.437 1756.33,205.332 \n",
       "  1758.32,205.228 1760.32,205.125 1762.31,205.022 1764.31,204.919 1766.3,204.817 1768.3,204.716 1770.29,204.615 1772.29,204.515 1774.28,204.415 1776.28,204.316 \n",
       "  1778.27,204.217 1780.27,204.119 1782.26,204.022 1784.26,203.925 1786.26,203.828 1788.25,203.732 1790.25,203.637 1792.24,203.542 1794.24,203.448 1796.23,203.354 \n",
       "  1798.23,203.261 1800.22,203.168 1802.22,203.076 1804.21,202.985 1806.21,202.894 1808.2,202.804 1810.2,202.714 1812.19,202.625 1814.19,202.536 1816.18,202.448 \n",
       "  1818.18,202.36 1820.17,202.274 1822.17,202.187 1824.16,202.102 1826.16,202.016 1828.15,201.932 1830.15,201.848 1832.14,201.764 1834.14,201.682 1836.13,201.599 \n",
       "  1838.13,201.518 1840.12,201.437 1842.12,201.356 1844.11,201.276 1846.11,201.197 1848.1,201.119 1850.1,201.041 1852.09,200.963 1854.09,200.886 1856.09,200.81 \n",
       "  1858.08,200.735 1860.08,200.66 1862.07,200.585 1864.07,200.512 1866.06,200.439 1868.06,200.366 1870.05,200.295 1872.05,200.223 1874.04,200.153 1876.04,200.083 \n",
       "  1878.03,200.014 1880.03,199.945 1882.02,199.877 1884.02,199.81 1886.01,199.743 1888.01,199.677 1890,199.612 1892,199.547 1893.99,199.483 1895.99,199.42 \n",
       "  1897.98,199.358 1899.98,199.296 1901.97,199.234 1903.97,199.174 1905.96,199.114 1907.96,199.055 1909.95,198.996 1911.95,198.938 1913.94,198.881 1915.94,198.825 \n",
       "  1917.93,198.769 1919.93,198.714 1921.92,198.66 1923.92,198.607 1925.92,198.554 1927.91,198.502 1929.91,198.451 1931.9,198.4 1933.9,198.35 1935.89,198.301 \n",
       "  1937.89,198.253 1939.88,198.206 1941.88,198.159 1943.87,198.113 1945.87,198.068 1947.86,198.023 1949.86,197.98 1951.85,197.937 1953.85,197.895 1955.84,197.854 \n",
       "  1957.84,197.814 1959.83,197.774 1961.83,197.735 1963.82,197.698 1965.82,197.661 1967.81,197.624 1969.81,197.589 1971.8,197.555 1973.8,197.521 1975.79,197.489 \n",
       "  1977.79,197.457 1979.78,197.426 1981.78,197.396 1983.77,197.367 1985.77,197.339 1987.76,197.312 1989.76,197.285 1991.75,197.26 1993.75,197.236 1995.75,197.213 \n",
       "  1997.74,197.19 1999.74,197.169 2001.73,197.149 2003.73,197.129 2005.72,197.111 2007.72,197.094 2009.71,197.078 2011.71,197.062 2013.7,197.048 2015.7,197.036 \n",
       "  2017.69,197.024 2019.69,197.013 2021.68,197.004 2023.68,196.995 2025.67,196.988 2027.67,196.982 2029.66,196.977 2031.66,196.974 2033.65,196.971 2035.65,196.97 \n",
       "  2037.64,196.97 2039.64,196.972 2041.63,196.975 2043.63,196.979 2045.62,196.985 2047.62,196.992 2049.61,197 2051.61,197.01 2053.6,197.021 2055.6,197.034 \n",
       "  2057.59,197.048 2059.59,197.064 2061.58,197.082 2063.58,197.101 2065.58,197.122 2067.57,197.144 2069.57,197.168 2071.56,197.194 2073.56,197.222 2075.55,197.251 \n",
       "  2077.55,197.283 2079.54,197.316 2081.54,197.351 2083.53,197.389 2085.53,197.428 2087.52,197.469 2089.52,197.513 2091.51,197.559 2093.51,197.607 2095.5,197.658 \n",
       "  2097.5,197.71 2099.49,197.766 2101.49,197.824 2103.48,197.884 2105.48,197.947 2107.47,198.013 2109.47,198.082 2111.46,198.154 2113.46,198.228 2115.45,198.306 \n",
       "  2117.45,198.387 2119.44,198.472 2121.44,198.56 2123.43,198.651 2125.43,198.746 2127.42,198.845 2129.42,198.948 2131.41,199.055 2133.41,199.166 2135.41,199.281 \n",
       "  2137.4,199.401 2139.4,199.526 2141.39,199.656 2143.39,199.791 2145.38,199.931 2147.38,200.077 2149.37,200.229 2151.37,200.387 2153.36,200.551 2155.36,200.721 \n",
       "  2157.35,200.899 2159.35,201.084 2161.34,201.276 2163.34,201.476 2165.33,201.685 2167.33,201.902 2169.32,202.129 2171.32,202.365 2173.31,202.611 2175.31,202.869 \n",
       "  2177.3,203.137 2179.3,203.417 2181.29,203.71 2183.29,204.017 2185.28,204.337 2187.28,204.672 2189.27,205.023 2191.27,205.391 2193.26,205.777 2195.26,206.182 \n",
       "  2197.25,206.608 2199.25,207.055 2201.24,207.525 2203.24,208.02 2205.24,208.542 2207.23,209.092 2209.23,209.674 2211.22,210.288 2213.22,210.938 2215.21,211.626 \n",
       "  2217.21,212.356 2219.2,213.132 2221.2,213.957 2223.19,214.835 2225.19,215.772 2227.18,216.773 2229.18,217.844 2231.17,218.992 2233.17,220.225 2235.16,221.553 \n",
       "  2237.16,222.985 2239.15,224.533 2241.15,226.21 2243.14,228.033 2245.14,230.02 2247.13,232.191 2249.13,234.573 2251.12,237.195 2253.12,240.091 2255.11,243.306 \n",
       "  2257.11,246.89 2259.1,250.906 2261.1,255.434 2263.09,260.569 2265.09,266.435 2267.08,273.191 2269.08,281.043 2271.07,290.265 2273.07,301.228 2275.07,314.451 \n",
       "  2277.06,330.673 2279.06,350.991 2281.05,377.1 2283.05,411.768 2285.04,459.83 2287.04,530.556 2289.03,644.243 2291.03,855.637 2293.02,1384.24 \n",
       "  \"/>\n",
       "<polyline clip-path=\"url(#clip062)\" style=\"stroke:#ff0000; stroke-linecap:round; stroke-linejoin:round; stroke-width:4; stroke-opacity:1; fill:none\" points=\"\n",
       "  301.869,310.265 303.864,309.495 305.86,308.726 307.855,307.961 309.85,307.198 311.845,306.438 313.84,305.68 315.835,304.925 317.83,304.173 319.826,303.423 \n",
       "  321.821,302.676 323.816,301.931 325.811,301.189 327.806,300.45 329.801,299.713 331.796,298.979 333.792,298.247 335.787,297.518 337.782,296.791 339.777,296.066 \n",
       "  341.772,295.344 343.767,294.625 345.762,293.908 347.758,293.193 349.753,292.481 351.748,291.771 353.743,291.064 355.738,290.359 357.733,289.656 359.728,288.956 \n",
       "  361.724,288.258 363.719,287.562 365.714,286.869 367.709,286.178 369.704,285.489 371.699,284.802 373.694,284.118 375.689,283.436 377.685,282.756 379.68,282.079 \n",
       "  381.675,281.404 383.67,280.731 385.665,280.06 387.66,279.391 389.655,278.725 391.651,278.06 393.646,277.398 395.641,276.738 397.636,276.08 399.631,275.425 \n",
       "  401.626,274.771 403.621,274.119 405.617,273.47 407.612,272.823 409.607,272.178 411.602,271.534 413.597,270.893 415.592,270.254 417.587,269.617 419.583,268.982 \n",
       "  421.578,268.349 423.573,267.718 425.568,267.089 427.563,266.462 429.558,265.837 431.553,265.214 433.549,264.593 435.544,263.974 437.539,263.357 439.534,262.742 \n",
       "  441.529,262.129 443.524,261.517 445.519,260.908 447.515,260.3 449.51,259.695 451.505,259.091 453.5,258.489 455.495,257.889 457.49,257.291 459.485,256.695 \n",
       "  461.481,256.1 463.476,255.508 465.471,254.917 467.466,254.328 469.461,253.741 471.456,253.155 473.451,252.572 475.447,251.99 477.442,251.41 479.437,250.832 \n",
       "  481.432,250.256 483.427,249.681 485.422,249.108 487.417,248.537 489.413,247.968 491.408,247.4 493.403,246.834 495.398,246.27 497.393,245.707 499.388,245.146 \n",
       "  501.383,244.587 503.379,244.03 505.374,243.474 507.369,242.92 509.364,242.367 511.359,241.817 513.354,241.268 515.349,240.72 517.345,240.174 519.34,239.63 \n",
       "  521.335,239.087 523.33,238.546 525.325,238.007 527.32,237.469 529.315,236.933 531.311,236.399 533.306,235.866 535.301,235.334 537.296,234.805 539.291,234.276 \n",
       "  541.286,233.75 543.281,233.225 545.277,232.701 547.272,232.179 549.267,231.658 551.262,231.139 553.257,230.622 555.252,230.106 557.247,229.592 559.243,229.079 \n",
       "  561.238,228.567 563.233,228.058 565.228,227.549 567.223,227.042 569.218,226.537 571.213,226.033 573.209,225.53 575.204,225.029 577.199,224.53 579.194,224.031 \n",
       "  581.189,223.535 583.184,223.039 585.179,222.546 587.175,222.053 589.17,221.562 591.165,221.073 593.16,220.585 595.155,220.098 597.15,219.612 599.145,219.128 \n",
       "  601.141,218.646 603.136,218.165 605.131,217.685 607.126,217.207 609.121,216.73 611.116,216.254 613.111,215.78 615.107,215.307 617.102,214.835 619.097,214.365 \n",
       "  621.092,213.896 623.087,213.428 625.082,212.962 627.077,212.497 629.073,212.033 631.068,211.571 633.063,211.11 635.058,210.65 637.053,210.192 639.048,209.735 \n",
       "  641.043,209.279 643.039,208.825 645.034,208.371 647.029,207.92 649.024,207.469 651.019,207.02 653.014,206.571 655.009,206.125 657.005,205.679 659,205.235 \n",
       "  660.995,204.792 662.99,204.35 664.985,203.909 666.98,203.47 668.975,203.032 670.971,202.595 672.966,202.159 674.961,201.725 676.956,201.291 678.951,200.859 \n",
       "  680.946,200.428 682.941,199.999 684.937,199.57 686.932,199.143 688.927,198.717 690.922,198.292 692.917,197.869 694.912,197.446 696.907,197.025 698.903,196.605 \n",
       "  700.898,196.186 702.893,195.768 704.888,195.351 706.883,194.936 708.878,194.521 710.873,194.108 712.869,193.696 714.864,193.285 716.859,192.875 718.854,192.467 \n",
       "  720.849,192.059 722.844,191.653 724.839,191.247 726.835,190.843 728.83,190.44 730.825,190.038 732.82,189.638 734.815,189.238 736.81,188.839 738.805,188.442 \n",
       "  740.801,188.045 742.796,187.65 744.791,187.256 746.786,186.863 748.781,186.47 750.776,186.08 752.771,185.69 754.767,185.301 756.762,184.913 758.757,184.526 \n",
       "  760.752,184.141 762.747,183.756 764.742,183.372 766.737,182.99 768.733,182.608 770.728,182.228 772.723,181.849 774.718,181.47 776.713,181.093 778.708,180.717 \n",
       "  780.703,180.342 782.699,179.967 784.694,179.594 786.689,179.222 788.684,178.851 790.679,178.481 792.674,178.112 794.669,177.744 796.665,177.377 798.66,177.01 \n",
       "  800.655,176.645 802.65,176.281 804.645,175.918 806.64,175.556 808.635,175.195 810.631,174.835 812.626,174.476 814.621,174.117 816.616,173.76 818.611,173.404 \n",
       "  820.606,173.049 822.601,172.694 824.597,172.341 826.592,171.989 828.587,171.637 830.582,171.287 832.577,170.937 834.572,170.589 836.567,170.241 838.563,169.895 \n",
       "  840.558,169.549 842.553,169.204 844.548,168.86 846.543,168.517 848.538,168.175 850.533,167.834 852.529,167.494 854.524,167.155 856.519,166.817 858.514,166.48 \n",
       "  860.509,166.143 862.504,165.808 864.499,165.473 866.495,165.139 868.49,164.807 870.485,164.475 872.48,164.144 874.475,163.814 876.47,163.485 878.465,163.156 \n",
       "  880.461,162.829 882.456,162.503 884.451,162.177 886.446,161.852 888.441,161.529 890.436,161.206 892.431,160.884 894.427,160.562 896.422,160.242 898.417,159.923 \n",
       "  900.412,159.604 902.407,159.287 904.402,158.97 906.397,158.654 908.393,158.339 910.388,158.024 912.383,157.711 914.378,157.399 916.373,157.087 918.368,156.776 \n",
       "  920.363,156.466 922.359,156.157 924.354,155.849 926.349,155.541 928.344,155.235 930.339,154.929 932.334,154.624 934.329,154.32 936.325,154.017 938.32,153.715 \n",
       "  940.315,153.413 942.31,153.112 944.305,152.812 946.3,152.513 948.295,152.215 950.291,151.918 952.286,151.621 954.281,151.325 956.276,151.03 958.271,150.736 \n",
       "  960.266,150.443 962.261,150.15 964.257,149.858 966.252,149.567 968.247,149.277 970.242,148.988 972.237,148.699 974.232,148.411 976.227,148.124 978.223,147.838 \n",
       "  980.218,147.553 982.213,147.268 984.208,146.985 986.203,146.702 988.198,146.419 990.193,146.138 992.188,145.857 994.184,145.577 996.179,145.298 998.174,145.02 \n",
       "  1000.17,144.742 1002.16,144.466 1004.16,144.189 1006.15,143.914 1008.15,143.64 1010.14,143.366 1012.14,143.093 1014.14,142.821 1016.13,142.549 1018.13,142.279 \n",
       "  1020.12,142.009 1022.12,141.74 1024.11,141.471 1026.11,141.204 1028.1,140.937 1030.1,140.671 1032.09,140.405 1034.09,140.141 1036.08,139.877 1038.08,139.614 \n",
       "  1040.07,139.351 1042.07,139.09 1044.06,138.829 1046.06,138.568 1048.05,138.309 1050.05,138.05 1052.04,137.792 1054.04,137.535 1056.03,137.278 1058.03,137.023 \n",
       "  1060.02,136.768 1062.02,136.513 1064.01,136.26 1066.01,136.007 1068,135.755 1070,135.503 1071.99,135.252 1073.99,135.002 1075.98,134.753 1077.98,134.504 \n",
       "  1079.97,134.257 1081.97,134.009 1083.97,133.763 1085.96,133.517 1087.96,133.272 1089.95,133.028 1091.95,132.784 1093.94,132.541 1095.94,132.299 1097.93,132.058 \n",
       "  1099.93,131.817 1101.92,131.577 1103.92,131.338 1105.91,131.099 1107.91,130.861 1109.9,130.624 1111.9,130.387 1113.89,130.151 1115.89,129.916 1117.88,129.681 \n",
       "  1119.88,129.447 1121.87,129.214 1123.87,128.982 1125.86,128.75 1127.86,128.519 1129.85,128.289 1131.85,128.059 1133.84,127.83 1135.84,127.601 1137.83,127.374 \n",
       "  1139.83,127.147 1141.82,126.92 1143.82,126.695 1145.81,126.47 1147.81,126.245 1149.8,126.022 1151.8,125.799 1153.8,125.577 1155.79,125.355 1157.79,125.134 \n",
       "  1159.78,124.914 1161.78,124.694 1163.77,124.475 1165.77,124.257 1167.76,124.039 1169.76,123.822 1171.75,123.606 1173.75,123.39 1175.74,123.175 1177.74,122.961 \n",
       "  1179.73,122.747 1181.73,122.534 1183.72,122.322 1185.72,122.11 1187.71,121.899 1189.71,121.689 1191.7,121.479 1193.7,121.27 1195.69,121.062 1197.69,120.854 \n",
       "  1199.68,120.647 1201.68,120.44 1203.67,120.234 1205.67,120.029 1207.66,119.825 1209.66,119.621 1211.65,119.418 1213.65,119.215 1215.64,119.013 1217.64,118.812 \n",
       "  1219.63,118.611 1221.63,118.411 1223.63,118.212 1225.62,118.013 1227.62,117.815 1229.61,117.617 1231.61,117.42 1233.6,117.224 1235.6,117.029 1237.59,116.834 \n",
       "  1239.59,116.639 1241.58,116.446 1243.58,116.253 1245.57,116.06 1247.57,115.868 1249.56,115.677 1251.56,115.487 1253.55,115.297 1255.55,115.108 1257.54,114.919 \n",
       "  1259.54,114.731 1261.53,114.544 1263.53,114.357 1265.52,114.171 1267.52,113.985 1269.51,113.8 1271.51,113.616 1273.5,113.432 1275.5,113.249 1277.49,113.067 \n",
       "  1279.49,112.885 1281.48,112.704 1283.48,112.523 1285.47,112.343 1287.47,112.164 1289.46,111.985 1291.46,111.807 1293.46,111.63 1295.45,111.453 1297.45,111.277 \n",
       "  1299.44,111.101 1301.44,110.926 1303.43,110.752 1305.43,110.578 1307.42,110.405 1309.42,110.232 1311.41,110.06 1313.41,109.889 1315.4,109.718 1317.4,109.548 \n",
       "  1319.39,109.379 1321.39,109.21 1323.38,109.042 1325.38,108.874 1327.37,108.707 1329.37,108.541 1331.36,108.375 1333.36,108.209 1335.35,108.045 1337.35,107.881 \n",
       "  1339.34,107.717 1341.34,107.555 1343.33,107.392 1345.33,107.231 1347.32,107.07 1349.32,106.909 1351.31,106.75 1353.31,106.59 1355.3,106.432 1357.3,106.274 \n",
       "  1359.29,106.117 1361.29,105.96 1363.28,105.804 1365.28,105.648 1367.28,105.493 1369.27,105.339 1371.27,105.185 1373.26,105.032 1375.26,104.879 1377.25,104.727 \n",
       "  1379.25,104.576 1381.24,104.425 1383.24,104.275 1385.23,104.125 1387.23,103.977 1389.22,103.828 1391.22,103.68 1393.21,103.533 1395.21,103.387 1397.2,103.241 \n",
       "  1399.2,103.095 1401.19,102.951 1403.19,102.806 1405.18,102.663 1407.18,102.52 1409.17,102.377 1411.17,102.236 1413.16,102.094 1415.16,101.954 1417.15,101.814 \n",
       "  1419.15,101.674 1421.14,101.536 1423.14,101.397 1425.13,101.26 1427.13,101.123 1429.12,100.986 1431.12,100.851 1433.11,100.715 1435.11,100.581 1437.11,100.447 \n",
       "  1439.1,100.313 1441.1,100.18 1443.09,100.048 1445.09,99.9165 1447.08,99.7854 1449.08,99.6549 1451.07,99.5251 1453.07,99.3958 1455.06,99.2671 1457.06,99.139 \n",
       "  1459.05,99.0116 1461.05,98.8847 1463.04,98.7584 1465.04,98.6327 1467.03,98.5076 1469.03,98.3831 1471.02,98.2592 1473.02,98.1359 1475.01,98.0132 1477.01,97.8911 \n",
       "  1479,97.7696 1481,97.6486 1482.99,97.5283 1484.99,97.4086 1486.98,97.2895 1488.98,97.1709 1490.97,97.053 1492.97,96.9357 1494.96,96.8189 1496.96,96.7028 \n",
       "  1498.95,96.5873 1500.95,96.4723 1502.94,96.358 1504.94,96.2442 1506.94,96.1311 1508.93,96.0186 1510.93,95.9066 1512.92,95.7953 1514.92,95.6845 1516.91,95.5744 \n",
       "  1518.91,95.4649 1520.9,95.3559 1522.9,95.2476 1524.89,95.1399 1526.89,95.0327 1528.88,94.9262 1530.88,94.8203 1532.87,94.715 1534.87,94.6102 1536.86,94.5061 \n",
       "  1538.86,94.4026 1540.85,94.2997 1542.85,94.1974 1544.84,94.0957 1546.84,93.9946 1548.83,93.8942 1550.83,93.7943 1552.82,93.695 1554.82,93.5964 1556.81,93.4983 \n",
       "  1558.81,93.4009 1560.8,93.3041 1562.8,93.2078 1564.79,93.1122 1566.79,93.0172 1568.78,92.9228 1570.78,92.8291 1572.77,92.7359 1574.77,92.6434 1576.77,92.5514 \n",
       "  1578.76,92.4601 1580.76,92.3694 1582.75,92.2793 1584.75,92.1898 1586.74,92.101 1588.74,92.0127 1590.73,91.9251 1592.73,91.8381 1594.72,91.7517 1596.72,91.6659 \n",
       "  1598.71,91.5808 1600.71,91.4963 1602.7,91.4124 1604.7,91.3291 1606.69,91.2464 1608.69,91.1644 1610.68,91.083 1612.68,91.0022 1614.67,90.922 1616.67,90.8425 \n",
       "  1618.66,90.7636 1620.66,90.6853 1622.65,90.6077 1624.65,90.5306 1626.64,90.4543 1628.64,90.3785 1630.63,90.3034 1632.63,90.2289 1634.62,90.155 1636.62,90.0818 \n",
       "  1638.61,90.0092 1640.61,89.9373 1642.6,89.866 1644.6,89.7953 1646.6,89.7253 1648.59,89.6559 1650.59,89.5872 1652.58,89.5191 1654.58,89.4516 1656.57,89.3848 \n",
       "  1658.57,89.3186 1660.56,89.2531 1662.56,89.1882 1664.55,89.124 1666.55,89.0604 1668.54,88.9975 1670.54,88.9352 1672.53,88.8736 1674.53,88.8126 1676.52,88.7523 \n",
       "  1678.52,88.6927 1680.51,88.6337 1682.51,88.5754 1684.5,88.5177 1686.5,88.4607 1688.49,88.4043 1690.49,88.3487 1692.48,88.2936 1694.48,88.2393 1696.47,88.1856 \n",
       "  1698.47,88.1326 1700.46,88.0803 1702.46,88.0286 1704.45,87.9776 1706.45,87.9273 1708.44,87.8776 1710.44,87.8287 1712.43,87.7804 1714.43,87.7328 1716.43,87.6858 \n",
       "  1718.42,87.6396 1720.42,87.594 1722.41,87.5492 1724.41,87.505 1726.4,87.4615 1728.4,87.4187 1730.39,87.3766 1732.39,87.3352 1734.38,87.2945 1736.38,87.2545 \n",
       "  1738.37,87.2152 1740.37,87.1765 1742.36,87.1386 1744.36,87.1014 1746.35,87.0649 1748.35,87.0291 1750.34,86.9941 1752.34,86.9597 1754.33,86.926 1756.33,86.8931 \n",
       "  1758.32,86.8609 1760.32,86.8294 1762.31,86.7986 1764.31,86.7686 1766.3,86.7392 1768.3,86.7106 1770.29,86.6828 1772.29,86.6556 1774.28,86.6292 1776.28,86.6036 \n",
       "  1778.27,86.5787 1780.27,86.5545 1782.26,86.531 1784.26,86.5083 1786.26,86.4864 1788.25,86.4652 1790.25,86.4447 1792.24,86.4251 1794.24,86.4061 1796.23,86.3879 \n",
       "  1798.23,86.3705 1800.22,86.3539 1802.22,86.338 1804.21,86.3229 1806.21,86.3086 1808.2,86.295 1810.2,86.2822 1812.19,86.2702 1814.19,86.259 1816.18,86.2485 \n",
       "  1818.18,86.2389 1820.17,86.23 1822.17,86.222 1824.16,86.2147 1826.16,86.2082 1828.15,86.2026 1830.15,86.1977 1832.14,86.1937 1834.14,86.1905 1836.13,86.188 \n",
       "  1838.13,86.1864 1840.12,86.1857 1842.12,86.1857 1844.11,86.1866 1846.11,86.1883 1848.1,86.1909 1850.1,86.1943 1852.09,86.1985 1854.09,86.2036 1856.09,86.2095 \n",
       "  1858.08,86.2163 1860.08,86.2239 1862.07,86.2324 1864.07,86.2418 1866.06,86.252 1868.06,86.2631 1870.05,86.2751 1872.05,86.288 1874.04,86.3018 1876.04,86.3164 \n",
       "  1878.03,86.332 1880.03,86.3484 1882.02,86.3658 1884.02,86.384 1886.01,86.4032 1888.01,86.4233 1890,86.4443 1892,86.4662 1893.99,86.4891 1895.99,86.5129 \n",
       "  1897.98,86.5376 1899.98,86.5633 1901.97,86.59 1903.97,86.6176 1905.96,86.6462 1907.96,86.6757 1909.95,86.7062 1911.95,86.7377 1913.94,86.7702 1915.94,86.8037 \n",
       "  1917.93,86.8382 1919.93,86.8737 1921.92,86.9101 1923.92,86.9477 1925.92,86.9862 1927.91,87.0258 1929.91,87.0664 1931.9,87.108 1933.9,87.1507 1935.89,87.1945 \n",
       "  1937.89,87.2393 1939.88,87.2852 1941.88,87.3322 1943.87,87.3803 1945.87,87.4295 1947.86,87.4798 1949.86,87.5312 1951.85,87.5837 1953.85,87.6374 1955.84,87.6922 \n",
       "  1957.84,87.7481 1959.83,87.8052 1961.83,87.8635 1963.82,87.9229 1965.82,87.9836 1967.81,88.0454 1969.81,88.1085 1971.8,88.1727 1973.8,88.2382 1975.79,88.305 \n",
       "  1977.79,88.373 1979.78,88.4422 1981.78,88.5128 1983.77,88.5846 1985.77,88.6577 1987.76,88.7321 1989.76,88.8079 1991.75,88.885 1993.75,88.9635 1995.75,89.0433 \n",
       "  1997.74,89.1245 1999.74,89.2071 2001.73,89.2911 2003.73,89.3766 2005.72,89.4635 2007.72,89.5518 2009.71,89.6417 2011.71,89.733 2013.7,89.8259 2015.7,89.9203 \n",
       "  2017.69,90.0162 2019.69,90.1137 2021.68,90.2128 2023.68,90.3135 2025.67,90.4158 2027.67,90.5198 2029.66,90.6255 2031.66,90.7329 2033.65,90.842 2035.65,90.9529 \n",
       "  2037.64,91.0655 2039.64,91.1799 2041.63,91.2962 2043.63,91.4143 2045.62,91.5343 2047.62,91.6562 2049.61,91.7801 2051.61,91.906 2053.6,92.0338 2055.6,92.1637 \n",
       "  2057.59,92.2957 2059.59,92.4299 2061.58,92.5661 2063.58,92.7046 2065.58,92.8453 2067.57,92.9883 2069.57,93.1336 2071.56,93.2813 2073.56,93.4314 2075.55,93.5839 \n",
       "  2077.55,93.739 2079.54,93.8966 2081.54,94.0569 2083.53,94.2199 2085.53,94.3855 2087.52,94.554 2089.52,94.7254 2091.51,94.8996 2093.51,95.0769 2095.5,95.2573 \n",
       "  2097.5,95.4408 2099.49,95.6275 2101.49,95.8175 2103.48,96.011 2105.48,96.2079 2107.47,96.4084 2109.47,96.6126 2111.46,96.8205 2113.46,97.0323 2115.45,97.2482 \n",
       "  2117.45,97.4681 2119.44,97.6923 2121.44,97.9209 2123.43,98.1539 2125.43,98.3916 2127.42,98.6341 2129.42,98.8816 2131.41,99.1341 2133.41,99.392 2135.41,99.6553 \n",
       "  2137.4,99.9243 2139.4,100.199 2141.39,100.48 2143.39,100.767 2145.38,101.061 2147.38,101.362 2149.37,101.669 2151.37,101.984 2153.36,102.307 2155.36,102.638 \n",
       "  2157.35,102.977 2159.35,103.324 2161.34,103.681 2163.34,104.047 2165.33,104.423 2167.33,104.809 2169.32,105.206 2171.32,105.615 2173.31,106.035 2175.31,106.468 \n",
       "  2177.3,106.914 2179.3,107.374 2181.29,107.848 2183.29,108.338 2185.28,108.844 2187.28,109.368 2189.27,109.909 2191.27,110.47 2193.26,111.05 2195.26,111.653 \n",
       "  2197.25,112.279 2199.25,112.929 2201.24,113.605 2203.24,114.309 2205.24,115.042 2207.23,115.808 2209.23,116.608 2211.22,117.444 2213.22,118.32 2215.21,119.238 \n",
       "  2217.21,120.203 2219.2,121.217 2221.2,122.285 2223.19,123.411 2225.19,124.601 2227.18,125.861 2229.18,127.197 2231.17,128.617 2233.17,130.128 2235.16,131.741 \n",
       "  2237.16,133.466 2239.15,135.316 2241.15,137.305 2243.14,139.449 2245.14,141.768 2247.13,144.284 2249.13,147.024 2251.12,150.018 2253.12,153.304 2255.11,156.927 \n",
       "  2257.11,160.94 2259.1,165.409 2261.1,170.417 2263.09,176.064 2265.09,182.48 2267.08,189.83 2269.08,198.328 2271.07,208.261 2273.07,220.015 2275.07,234.129 \n",
       "  2277.06,251.37 2279.06,272.878 2281.05,300.411 2283.05,336.835 2285.04,387.149 2287.04,460.92 2289.03,579.042 2291.03,797.668 2293.02,1340.58 \n",
       "  \"/>\n",
       "<path clip-path=\"url(#clip060)\" d=\"\n",
       "M312.489 1377.32 L943.806 1377.32 L943.806 1221.8 L312.489 1221.8  Z\n",
       "  \" fill=\"#ffffff\" fill-rule=\"evenodd\" fill-opacity=\"1\"/>\n",
       "<polyline clip-path=\"url(#clip060)\" style=\"stroke:#000000; stroke-linecap:round; stroke-linejoin:round; stroke-width:4; stroke-opacity:1; fill:none\" points=\"\n",
       "  312.489,1377.32 943.806,1377.32 943.806,1221.8 312.489,1221.8 312.489,1377.32 \n",
       "  \"/>\n",
       "<polyline clip-path=\"url(#clip060)\" style=\"stroke:#0000ff; stroke-linecap:round; stroke-linejoin:round; stroke-width:4; stroke-opacity:1; fill:none\" points=\"\n",
       "  335.94,1273.64 476.648,1273.64 \n",
       "  \"/>\n",
       "<path clip-path=\"url(#clip060)\" d=\"M500.099 1256.36 L504.775 1256.36 L504.775 1290.92 L500.099 1290.92 L500.099 1256.36 Z\" fill=\"#000000\" fill-rule=\"evenodd\" fill-opacity=\"1\" /><path clip-path=\"url(#clip060)\" d=\"M535.447 1275.27 L535.447 1290.92 L531.187 1290.92 L531.187 1275.41 Q531.187 1271.73 529.752 1269.9 Q528.317 1268.07 525.447 1268.07 Q521.998 1268.07 520.007 1270.27 Q518.016 1272.47 518.016 1276.26 L518.016 1290.92 L513.734 1290.92 L513.734 1264.99 L518.016 1264.99 L518.016 1269.02 Q519.544 1266.68 521.604 1265.52 Q523.687 1264.36 526.396 1264.36 Q530.863 1264.36 533.155 1267.14 Q535.447 1269.9 535.447 1275.27 Z\" fill=\"#000000\" fill-rule=\"evenodd\" fill-opacity=\"1\" /><path clip-path=\"url(#clip060)\" d=\"M548.155 1257.63 L548.155 1264.99 L556.928 1264.99 L556.928 1268.3 L548.155 1268.3 L548.155 1282.37 Q548.155 1285.54 549.011 1286.45 Q549.891 1287.35 552.553 1287.35 L556.928 1287.35 L556.928 1290.92 L552.553 1290.92 Q547.622 1290.92 545.747 1289.09 Q543.872 1287.23 543.872 1282.37 L543.872 1268.3 L540.747 1268.3 L540.747 1264.99 L543.872 1264.99 L543.872 1257.63 L548.155 1257.63 Z\" fill=\"#000000\" fill-rule=\"evenodd\" fill-opacity=\"1\" /><path clip-path=\"url(#clip060)\" d=\"M584.706 1276.89 L584.706 1278.97 L565.122 1278.97 Q565.4 1283.37 567.761 1285.68 Q570.145 1287.98 574.381 1287.98 Q576.835 1287.98 579.127 1287.37 Q581.442 1286.77 583.71 1285.57 L583.71 1289.6 Q581.418 1290.57 579.011 1291.08 Q576.604 1291.59 574.127 1291.59 Q567.923 1291.59 564.289 1287.98 Q560.678 1284.36 560.678 1278.21 Q560.678 1271.84 564.104 1268.11 Q567.553 1264.36 573.386 1264.36 Q578.618 1264.36 581.65 1267.74 Q584.706 1271.1 584.706 1276.89 M580.446 1275.64 Q580.4 1272.14 578.479 1270.06 Q576.581 1267.98 573.432 1267.98 Q569.868 1267.98 567.715 1269.99 Q565.585 1272 565.261 1275.66 L580.446 1275.64 Z\" fill=\"#000000\" fill-rule=\"evenodd\" fill-opacity=\"1\" /><path clip-path=\"url(#clip060)\" d=\"M606.719 1268.97 Q606.002 1268.55 605.145 1268.37 Q604.312 1268.16 603.293 1268.16 Q599.682 1268.16 597.738 1270.52 Q595.817 1272.86 595.817 1277.26 L595.817 1290.92 L591.534 1290.92 L591.534 1264.99 L595.817 1264.99 L595.817 1269.02 Q597.159 1266.66 599.312 1265.52 Q601.465 1264.36 604.543 1264.36 Q604.983 1264.36 605.516 1264.43 Q606.048 1264.48 606.696 1264.6 L606.719 1268.97 Z\" fill=\"#000000\" fill-rule=\"evenodd\" fill-opacity=\"1\" /><path clip-path=\"url(#clip060)\" d=\"M628.802 1265.98 L628.802 1269.97 Q626.997 1268.97 625.168 1268.48 Q623.363 1267.98 621.511 1267.98 Q617.367 1267.98 615.076 1270.61 Q612.784 1273.23 612.784 1277.98 Q612.784 1282.72 615.076 1285.36 Q617.367 1287.98 621.511 1287.98 Q623.363 1287.98 625.168 1287.49 Q626.997 1286.98 628.802 1285.98 L628.802 1289.92 Q627.02 1290.75 625.099 1291.17 Q623.201 1291.59 621.048 1291.59 Q615.191 1291.59 611.742 1287.91 Q608.293 1284.23 608.293 1277.98 Q608.293 1271.63 611.766 1268 Q615.261 1264.36 621.326 1264.36 Q623.293 1264.36 625.168 1264.78 Q627.043 1265.17 628.802 1265.98 Z\" fill=\"#000000\" fill-rule=\"evenodd\" fill-opacity=\"1\" /><path clip-path=\"url(#clip060)\" d=\"M658.386 1276.89 L658.386 1278.97 L638.802 1278.97 Q639.08 1283.37 641.441 1285.68 Q643.826 1287.98 648.062 1287.98 Q650.515 1287.98 652.807 1287.37 Q655.122 1286.77 657.39 1285.57 L657.39 1289.6 Q655.099 1290.57 652.691 1291.08 Q650.284 1291.59 647.807 1291.59 Q641.603 1291.59 637.969 1287.98 Q634.358 1284.36 634.358 1278.21 Q634.358 1271.84 637.784 1268.11 Q641.233 1264.36 647.066 1264.36 Q652.298 1264.36 655.33 1267.74 Q658.386 1271.1 658.386 1276.89 M654.126 1275.64 Q654.08 1272.14 652.159 1270.06 Q650.261 1267.98 647.113 1267.98 Q643.548 1267.98 641.395 1269.99 Q639.265 1272 638.941 1275.66 L654.126 1275.64 Z\" fill=\"#000000\" fill-rule=\"evenodd\" fill-opacity=\"1\" /><path clip-path=\"url(#clip060)\" d=\"M669.497 1287.03 L669.497 1300.78 L665.214 1300.78 L665.214 1264.99 L669.497 1264.99 L669.497 1268.92 Q670.839 1266.61 672.876 1265.5 Q674.937 1264.36 677.784 1264.36 Q682.506 1264.36 685.446 1268.11 Q688.409 1271.86 688.409 1277.98 Q688.409 1284.09 685.446 1287.84 Q682.506 1291.59 677.784 1291.59 Q674.937 1291.59 672.876 1290.48 Q670.839 1289.34 669.497 1287.03 M683.987 1277.98 Q683.987 1273.28 682.043 1270.61 Q680.122 1267.93 676.742 1267.93 Q673.362 1267.93 671.418 1270.61 Q669.497 1273.28 669.497 1277.98 Q669.497 1282.67 671.418 1285.36 Q673.362 1288.02 676.742 1288.02 Q680.122 1288.02 682.043 1285.36 Q683.987 1282.67 683.987 1277.98 Z\" fill=\"#000000\" fill-rule=\"evenodd\" fill-opacity=\"1\" /><path clip-path=\"url(#clip060)\" d=\"M699.682 1257.63 L699.682 1264.99 L708.455 1264.99 L708.455 1268.3 L699.682 1268.3 L699.682 1282.37 Q699.682 1285.54 700.538 1286.45 Q701.418 1287.35 704.08 1287.35 L708.455 1287.35 L708.455 1290.92 L704.08 1290.92 Q699.149 1290.92 697.274 1289.09 Q695.399 1287.23 695.399 1282.37 L695.399 1268.3 L692.274 1268.3 L692.274 1264.99 L695.399 1264.99 L695.399 1257.63 L699.682 1257.63 Z\" fill=\"#000000\" fill-rule=\"evenodd\" fill-opacity=\"1\" /><polyline clip-path=\"url(#clip060)\" style=\"stroke:#ff0000; stroke-linecap:round; stroke-linejoin:round; stroke-width:4; stroke-opacity:1; fill:none\" points=\"\n",
       "  335.94,1325.48 476.648,1325.48 \n",
       "  \"/>\n",
       "<path clip-path=\"url(#clip060)\" d=\"M500.099 1308.2 L504.775 1308.2 L504.775 1342.76 L500.099 1342.76 L500.099 1308.2 Z\" fill=\"#000000\" fill-rule=\"evenodd\" fill-opacity=\"1\" /><path clip-path=\"url(#clip060)\" d=\"M535.447 1327.11 L535.447 1342.76 L531.187 1342.76 L531.187 1327.25 Q531.187 1323.57 529.752 1321.74 Q528.317 1319.91 525.447 1319.91 Q521.998 1319.91 520.007 1322.11 Q518.016 1324.31 518.016 1328.1 L518.016 1342.76 L513.734 1342.76 L513.734 1316.83 L518.016 1316.83 L518.016 1320.86 Q519.544 1318.52 521.604 1317.36 Q523.687 1316.2 526.396 1316.2 Q530.863 1316.2 533.155 1318.98 Q535.447 1321.74 535.447 1327.11 Z\" fill=\"#000000\" fill-rule=\"evenodd\" fill-opacity=\"1\" /><path clip-path=\"url(#clip060)\" d=\"M548.155 1309.47 L548.155 1316.83 L556.928 1316.83 L556.928 1320.14 L548.155 1320.14 L548.155 1334.21 Q548.155 1337.38 549.011 1338.29 Q549.891 1339.19 552.553 1339.19 L556.928 1339.19 L556.928 1342.76 L552.553 1342.76 Q547.622 1342.76 545.747 1340.93 Q543.872 1339.07 543.872 1334.21 L543.872 1320.14 L540.747 1320.14 L540.747 1316.83 L543.872 1316.83 L543.872 1309.47 L548.155 1309.47 Z\" fill=\"#000000\" fill-rule=\"evenodd\" fill-opacity=\"1\" /><path clip-path=\"url(#clip060)\" d=\"M584.706 1328.73 L584.706 1330.81 L565.122 1330.81 Q565.4 1335.21 567.761 1337.52 Q570.145 1339.82 574.381 1339.82 Q576.835 1339.82 579.127 1339.21 Q581.442 1338.61 583.71 1337.41 L583.71 1341.44 Q581.418 1342.41 579.011 1342.92 Q576.604 1343.43 574.127 1343.43 Q567.923 1343.43 564.289 1339.82 Q560.678 1336.2 560.678 1330.05 Q560.678 1323.68 564.104 1319.95 Q567.553 1316.2 573.386 1316.2 Q578.618 1316.2 581.65 1319.58 Q584.706 1322.94 584.706 1328.73 M580.446 1327.48 Q580.4 1323.98 578.479 1321.9 Q576.581 1319.82 573.432 1319.82 Q569.868 1319.82 567.715 1321.83 Q565.585 1323.84 565.261 1327.5 L580.446 1327.48 Z\" fill=\"#000000\" fill-rule=\"evenodd\" fill-opacity=\"1\" /><path clip-path=\"url(#clip060)\" d=\"M606.719 1320.81 Q606.002 1320.39 605.145 1320.21 Q604.312 1320 603.293 1320 Q599.682 1320 597.738 1322.36 Q595.817 1324.7 595.817 1329.1 L595.817 1342.76 L591.534 1342.76 L591.534 1316.83 L595.817 1316.83 L595.817 1320.86 Q597.159 1318.5 599.312 1317.36 Q601.465 1316.2 604.543 1316.2 Q604.983 1316.2 605.516 1316.27 Q606.048 1316.32 606.696 1316.44 L606.719 1320.81 Z\" fill=\"#000000\" fill-rule=\"evenodd\" fill-opacity=\"1\" /><path clip-path=\"url(#clip060)\" d=\"M628.802 1317.82 L628.802 1321.81 Q626.997 1320.81 625.168 1320.32 Q623.363 1319.82 621.511 1319.82 Q617.367 1319.82 615.076 1322.45 Q612.784 1325.07 612.784 1329.82 Q612.784 1334.56 615.076 1337.2 Q617.367 1339.82 621.511 1339.82 Q623.363 1339.82 625.168 1339.33 Q626.997 1338.82 628.802 1337.82 L628.802 1341.76 Q627.02 1342.59 625.099 1343.01 Q623.201 1343.43 621.048 1343.43 Q615.191 1343.43 611.742 1339.75 Q608.293 1336.07 608.293 1329.82 Q608.293 1323.47 611.766 1319.84 Q615.261 1316.2 621.326 1316.2 Q623.293 1316.2 625.168 1316.62 Q627.043 1317.01 628.802 1317.82 Z\" fill=\"#000000\" fill-rule=\"evenodd\" fill-opacity=\"1\" /><path clip-path=\"url(#clip060)\" d=\"M658.386 1328.73 L658.386 1330.81 L638.802 1330.81 Q639.08 1335.21 641.441 1337.52 Q643.826 1339.82 648.062 1339.82 Q650.515 1339.82 652.807 1339.21 Q655.122 1338.61 657.39 1337.41 L657.39 1341.44 Q655.099 1342.41 652.691 1342.92 Q650.284 1343.43 647.807 1343.43 Q641.603 1343.43 637.969 1339.82 Q634.358 1336.2 634.358 1330.05 Q634.358 1323.68 637.784 1319.95 Q641.233 1316.2 647.066 1316.2 Q652.298 1316.2 655.33 1319.58 Q658.386 1322.94 658.386 1328.73 M654.126 1327.48 Q654.08 1323.98 652.159 1321.9 Q650.261 1319.82 647.113 1319.82 Q643.548 1319.82 641.395 1321.83 Q639.265 1323.84 638.941 1327.5 L654.126 1327.48 Z\" fill=\"#000000\" fill-rule=\"evenodd\" fill-opacity=\"1\" /><path clip-path=\"url(#clip060)\" d=\"M669.497 1338.87 L669.497 1352.62 L665.214 1352.62 L665.214 1316.83 L669.497 1316.83 L669.497 1320.76 Q670.839 1318.45 672.876 1317.34 Q674.937 1316.2 677.784 1316.2 Q682.506 1316.2 685.446 1319.95 Q688.409 1323.7 688.409 1329.82 Q688.409 1335.93 685.446 1339.68 Q682.506 1343.43 677.784 1343.43 Q674.937 1343.43 672.876 1342.32 Q670.839 1341.18 669.497 1338.87 M683.987 1329.82 Q683.987 1325.12 682.043 1322.45 Q680.122 1319.77 676.742 1319.77 Q673.362 1319.77 671.418 1322.45 Q669.497 1325.12 669.497 1329.82 Q669.497 1334.51 671.418 1337.2 Q673.362 1339.86 676.742 1339.86 Q680.122 1339.86 682.043 1337.2 Q683.987 1334.51 683.987 1329.82 Z\" fill=\"#000000\" fill-rule=\"evenodd\" fill-opacity=\"1\" /><path clip-path=\"url(#clip060)\" d=\"M699.682 1309.47 L699.682 1316.83 L708.455 1316.83 L708.455 1320.14 L699.682 1320.14 L699.682 1334.21 Q699.682 1337.38 700.538 1338.29 Q701.418 1339.19 704.08 1339.19 L708.455 1339.19 L708.455 1342.76 L704.08 1342.76 Q699.149 1342.76 697.274 1340.93 Q695.399 1339.07 695.399 1334.21 L695.399 1320.14 L692.274 1320.14 L692.274 1316.83 L695.399 1316.83 L695.399 1309.47 L699.682 1309.47 Z\" fill=\"#000000\" fill-rule=\"evenodd\" fill-opacity=\"1\" /><path clip-path=\"url(#clip060)\" d=\"M731.395 1313.03 L731.395 1325.93 L744.288 1325.93 L744.288 1329.86 L731.395 1329.86 L731.395 1342.76 L727.506 1342.76 L727.506 1329.86 L714.612 1329.86 L714.612 1325.93 L727.506 1325.93 L727.506 1313.03 L731.395 1313.03 Z\" fill=\"#000000\" fill-rule=\"evenodd\" fill-opacity=\"1\" /><path clip-path=\"url(#clip060)\" d=\"M777.529 1337.82 L777.529 1328.54 L769.89 1328.54 L769.89 1324.7 L782.158 1324.7 L782.158 1339.54 Q779.45 1341.46 776.186 1342.45 Q772.922 1343.43 769.218 1343.43 Q761.117 1343.43 756.533 1338.7 Q751.973 1333.96 751.973 1325.51 Q751.973 1317.04 756.533 1312.32 Q761.117 1307.57 769.218 1307.57 Q772.598 1307.57 775.63 1308.4 Q778.686 1309.24 781.255 1310.86 L781.255 1315.83 Q778.663 1313.64 775.746 1312.52 Q772.83 1311.41 769.612 1311.41 Q763.269 1311.41 760.075 1314.95 Q756.904 1318.5 756.904 1325.51 Q756.904 1332.5 760.075 1336.04 Q763.269 1339.58 769.612 1339.58 Q772.089 1339.58 774.033 1339.17 Q775.978 1338.73 777.529 1337.82 Z\" fill=\"#000000\" fill-rule=\"evenodd\" fill-opacity=\"1\" /><path clip-path=\"url(#clip060)\" d=\"M810.214 1350.63 L810.214 1353.94 L785.584 1353.94 L785.584 1350.63 L810.214 1350.63 Z\" fill=\"#000000\" fill-rule=\"evenodd\" fill-opacity=\"1\" /><path clip-path=\"url(#clip060)\" d=\"M818.848 1338.82 L835.167 1338.82 L835.167 1342.76 L813.223 1342.76 L813.223 1338.82 Q815.885 1336.07 820.468 1331.44 Q825.075 1326.78 826.255 1325.44 Q828.501 1322.92 829.38 1321.18 Q830.283 1319.42 830.283 1317.73 Q830.283 1314.98 828.338 1313.24 Q826.417 1311.51 823.315 1311.51 Q821.116 1311.51 818.663 1312.27 Q816.232 1313.03 813.454 1314.58 L813.454 1309.86 Q816.278 1308.73 818.732 1308.15 Q821.186 1307.57 823.223 1307.57 Q828.593 1307.57 831.788 1310.26 Q834.982 1312.94 834.982 1317.43 Q834.982 1319.56 834.172 1321.48 Q833.385 1323.38 831.278 1325.97 Q830.7 1326.64 827.598 1329.86 Q824.496 1333.06 818.848 1338.82 Z\" fill=\"#000000\" fill-rule=\"evenodd\" fill-opacity=\"1\" /><path clip-path=\"url(#clip060)\" d=\"M849.01 1338.82 L865.329 1338.82 L865.329 1342.76 L843.385 1342.76 L843.385 1338.82 Q846.047 1336.07 850.63 1331.44 Q855.236 1326.78 856.417 1325.44 Q858.662 1322.92 859.542 1321.18 Q860.445 1319.42 860.445 1317.73 Q860.445 1314.98 858.5 1313.24 Q856.579 1311.51 853.477 1311.51 Q851.278 1311.51 848.824 1312.27 Q846.394 1313.03 843.616 1314.58 L843.616 1309.86 Q846.44 1308.73 848.894 1308.15 Q851.348 1307.57 853.385 1307.57 Q858.755 1307.57 861.949 1310.26 Q865.144 1312.94 865.144 1317.43 Q865.144 1319.56 864.334 1321.48 Q863.547 1323.38 861.44 1325.97 Q860.861 1326.64 857.76 1329.86 Q854.658 1333.06 849.01 1338.82 Z\" fill=\"#000000\" fill-rule=\"evenodd\" fill-opacity=\"1\" /><path clip-path=\"url(#clip060)\" d=\"M875.283 1342.04 L875.283 1337.78 Q877.042 1338.61 878.847 1339.05 Q880.653 1339.49 882.389 1339.49 Q887.019 1339.49 889.449 1336.39 Q891.903 1333.26 892.25 1326.92 Q890.908 1328.91 888.847 1329.98 Q886.787 1331.04 884.287 1331.04 Q879.102 1331.04 876.07 1327.92 Q873.06 1324.77 873.06 1319.33 Q873.06 1314.01 876.209 1310.79 Q879.357 1307.57 884.588 1307.57 Q890.584 1307.57 893.732 1312.18 Q896.903 1316.76 896.903 1325.51 Q896.903 1333.68 893.014 1338.57 Q889.148 1343.43 882.597 1343.43 Q880.838 1343.43 879.033 1343.08 Q877.227 1342.73 875.283 1342.04 M884.588 1327.39 Q887.736 1327.39 889.565 1325.23 Q891.417 1323.08 891.417 1319.33 Q891.417 1315.6 889.565 1313.45 Q887.736 1311.27 884.588 1311.27 Q881.44 1311.27 879.588 1313.45 Q877.759 1315.6 877.759 1319.33 Q877.759 1323.08 879.588 1325.23 Q881.44 1327.39 884.588 1327.39 Z\" fill=\"#000000\" fill-rule=\"evenodd\" fill-opacity=\"1\" /></svg>\n"
      ]
     },
     "execution_count": 63,
     "metadata": {},
     "output_type": "execute_result"
    }
   ],
   "source": [
    "plot(collect(1:999).*0.001, ell_null_bc, xlabel = \"h2\", ylabel = \"loglik\", label = \"Intercept\", color = \"blue\", legend=:bottomleft)\n",
    "#scatter!([maxima_null_bc[1]], [maxima_null_bc[2]])\n",
    "plot!(collect(1:999).*0.001, ell_markerID_bc, xlabel = \"h2\", ylabel = \"loglik\", label = (\"Intercept+\"*\"G_$markerID\"), color = \"red\")\n",
    "#scatter!([maxima_alt_bc[1]], [maxima_alt_bc[2]])"
   ]
  },
  {
   "cell_type": "code",
   "execution_count": 64,
   "id": "ca29d6de-1fa5-483a-930c-d0bbd3d6e8b3",
   "metadata": {},
   "outputs": [
    {
     "data": {
      "image/svg+xml": [
       "<?xml version=\"1.0\" encoding=\"utf-8\"?>\n",
       "<svg xmlns=\"http://www.w3.org/2000/svg\" xmlns:xlink=\"http://www.w3.org/1999/xlink\" width=\"600\" height=\"400\" viewBox=\"0 0 2400 1600\">\n",
       "<defs>\n",
       "  <clipPath id=\"clip100\">\n",
       "    <rect x=\"0\" y=\"0\" width=\"2400\" height=\"1600\"/>\n",
       "  </clipPath>\n",
       "</defs>\n",
       "<path clip-path=\"url(#clip100)\" d=\"\n",
       "M0 1600 L2400 1600 L2400 0 L0 0  Z\n",
       "  \" fill=\"#ffffff\" fill-rule=\"evenodd\" fill-opacity=\"1\"/>\n",
       "<defs>\n",
       "  <clipPath id=\"clip101\">\n",
       "    <rect x=\"480\" y=\"0\" width=\"1681\" height=\"1600\"/>\n",
       "  </clipPath>\n",
       "</defs>\n",
       "<path clip-path=\"url(#clip100)\" d=\"\n",
       "M242.135 1423.18 L2352.76 1423.18 L2352.76 47.2441 L242.135 47.2441  Z\n",
       "  \" fill=\"#ffffff\" fill-rule=\"evenodd\" fill-opacity=\"1\"/>\n",
       "<defs>\n",
       "  <clipPath id=\"clip102\">\n",
       "    <rect x=\"242\" y=\"47\" width=\"2112\" height=\"1377\"/>\n",
       "  </clipPath>\n",
       "</defs>\n",
       "<polyline clip-path=\"url(#clip102)\" style=\"stroke:#000000; stroke-linecap:round; stroke-linejoin:round; stroke-width:2; stroke-opacity:0.1; fill:none\" points=\"\n",
       "  299.874,1423.18 299.874,47.2441 \n",
       "  \"/>\n",
       "<polyline clip-path=\"url(#clip102)\" style=\"stroke:#000000; stroke-linecap:round; stroke-linejoin:round; stroke-width:2; stroke-opacity:0.1; fill:none\" points=\"\n",
       "  798.66,1423.18 798.66,47.2441 \n",
       "  \"/>\n",
       "<polyline clip-path=\"url(#clip102)\" style=\"stroke:#000000; stroke-linecap:round; stroke-linejoin:round; stroke-width:2; stroke-opacity:0.1; fill:none\" points=\"\n",
       "  1297.45,1423.18 1297.45,47.2441 \n",
       "  \"/>\n",
       "<polyline clip-path=\"url(#clip102)\" style=\"stroke:#000000; stroke-linecap:round; stroke-linejoin:round; stroke-width:2; stroke-opacity:0.1; fill:none\" points=\"\n",
       "  1796.23,1423.18 1796.23,47.2441 \n",
       "  \"/>\n",
       "<polyline clip-path=\"url(#clip102)\" style=\"stroke:#000000; stroke-linecap:round; stroke-linejoin:round; stroke-width:2; stroke-opacity:0.1; fill:none\" points=\"\n",
       "  2295.02,1423.18 2295.02,47.2441 \n",
       "  \"/>\n",
       "<polyline clip-path=\"url(#clip100)\" style=\"stroke:#000000; stroke-linecap:round; stroke-linejoin:round; stroke-width:4; stroke-opacity:1; fill:none\" points=\"\n",
       "  242.135,1423.18 2352.76,1423.18 \n",
       "  \"/>\n",
       "<polyline clip-path=\"url(#clip100)\" style=\"stroke:#000000; stroke-linecap:round; stroke-linejoin:round; stroke-width:4; stroke-opacity:1; fill:none\" points=\"\n",
       "  299.874,1423.18 299.874,1404.28 \n",
       "  \"/>\n",
       "<polyline clip-path=\"url(#clip100)\" style=\"stroke:#000000; stroke-linecap:round; stroke-linejoin:round; stroke-width:4; stroke-opacity:1; fill:none\" points=\"\n",
       "  798.66,1423.18 798.66,1404.28 \n",
       "  \"/>\n",
       "<polyline clip-path=\"url(#clip100)\" style=\"stroke:#000000; stroke-linecap:round; stroke-linejoin:round; stroke-width:4; stroke-opacity:1; fill:none\" points=\"\n",
       "  1297.45,1423.18 1297.45,1404.28 \n",
       "  \"/>\n",
       "<polyline clip-path=\"url(#clip100)\" style=\"stroke:#000000; stroke-linecap:round; stroke-linejoin:round; stroke-width:4; stroke-opacity:1; fill:none\" points=\"\n",
       "  1796.23,1423.18 1796.23,1404.28 \n",
       "  \"/>\n",
       "<polyline clip-path=\"url(#clip100)\" style=\"stroke:#000000; stroke-linecap:round; stroke-linejoin:round; stroke-width:4; stroke-opacity:1; fill:none\" points=\"\n",
       "  2295.02,1423.18 2295.02,1404.28 \n",
       "  \"/>\n",
       "<path clip-path=\"url(#clip100)\" d=\"M262.178 1454.1 Q258.566 1454.1 256.738 1457.66 Q254.932 1461.2 254.932 1468.33 Q254.932 1475.44 256.738 1479.01 Q258.566 1482.55 262.178 1482.55 Q265.812 1482.55 267.617 1479.01 Q269.446 1475.44 269.446 1468.33 Q269.446 1461.2 267.617 1457.66 Q265.812 1454.1 262.178 1454.1 M262.178 1450.39 Q267.988 1450.39 271.043 1455 Q274.122 1459.58 274.122 1468.33 Q274.122 1477.06 271.043 1481.67 Q267.988 1486.25 262.178 1486.25 Q256.367 1486.25 253.289 1481.67 Q250.233 1477.06 250.233 1468.33 Q250.233 1459.58 253.289 1455 Q256.367 1450.39 262.178 1450.39 Z\" fill=\"#000000\" fill-rule=\"evenodd\" fill-opacity=\"1\" /><path clip-path=\"url(#clip100)\" d=\"M282.339 1479.7 L287.224 1479.7 L287.224 1485.58 L282.339 1485.58 L282.339 1479.7 Z\" fill=\"#000000\" fill-rule=\"evenodd\" fill-opacity=\"1\" /><path clip-path=\"url(#clip100)\" d=\"M307.409 1454.1 Q303.798 1454.1 301.969 1457.66 Q300.163 1461.2 300.163 1468.33 Q300.163 1475.44 301.969 1479.01 Q303.798 1482.55 307.409 1482.55 Q311.043 1482.55 312.849 1479.01 Q314.677 1475.44 314.677 1468.33 Q314.677 1461.2 312.849 1457.66 Q311.043 1454.1 307.409 1454.1 M307.409 1450.39 Q313.219 1450.39 316.274 1455 Q319.353 1459.58 319.353 1468.33 Q319.353 1477.06 316.274 1481.67 Q313.219 1486.25 307.409 1486.25 Q301.599 1486.25 298.52 1481.67 Q295.464 1477.06 295.464 1468.33 Q295.464 1459.58 298.52 1455 Q301.599 1450.39 307.409 1450.39 Z\" fill=\"#000000\" fill-rule=\"evenodd\" fill-opacity=\"1\" /><path clip-path=\"url(#clip100)\" d=\"M337.571 1454.1 Q333.96 1454.1 332.131 1457.66 Q330.325 1461.2 330.325 1468.33 Q330.325 1475.44 332.131 1479.01 Q333.96 1482.55 337.571 1482.55 Q341.205 1482.55 343.01 1479.01 Q344.839 1475.44 344.839 1468.33 Q344.839 1461.2 343.01 1457.66 Q341.205 1454.1 337.571 1454.1 M337.571 1450.39 Q343.381 1450.39 346.436 1455 Q349.515 1459.58 349.515 1468.33 Q349.515 1477.06 346.436 1481.67 Q343.381 1486.25 337.571 1486.25 Q331.76 1486.25 328.682 1481.67 Q325.626 1477.06 325.626 1468.33 Q325.626 1459.58 328.682 1455 Q331.76 1450.39 337.571 1450.39 Z\" fill=\"#000000\" fill-rule=\"evenodd\" fill-opacity=\"1\" /><path clip-path=\"url(#clip100)\" d=\"M761.461 1454.1 Q757.85 1454.1 756.021 1457.66 Q754.215 1461.2 754.215 1468.33 Q754.215 1475.44 756.021 1479.01 Q757.85 1482.55 761.461 1482.55 Q765.095 1482.55 766.901 1479.01 Q768.729 1475.44 768.729 1468.33 Q768.729 1461.2 766.901 1457.66 Q765.095 1454.1 761.461 1454.1 M761.461 1450.39 Q767.271 1450.39 770.327 1455 Q773.405 1459.58 773.405 1468.33 Q773.405 1477.06 770.327 1481.67 Q767.271 1486.25 761.461 1486.25 Q755.651 1486.25 752.572 1481.67 Q749.516 1477.06 749.516 1468.33 Q749.516 1459.58 752.572 1455 Q755.651 1450.39 761.461 1450.39 Z\" fill=\"#000000\" fill-rule=\"evenodd\" fill-opacity=\"1\" /><path clip-path=\"url(#clip100)\" d=\"M781.623 1479.7 L786.507 1479.7 L786.507 1485.58 L781.623 1485.58 L781.623 1479.7 Z\" fill=\"#000000\" fill-rule=\"evenodd\" fill-opacity=\"1\" /><path clip-path=\"url(#clip100)\" d=\"M800.72 1481.64 L817.039 1481.64 L817.039 1485.58 L795.095 1485.58 L795.095 1481.64 Q797.757 1478.89 802.34 1474.26 Q806.947 1469.61 808.127 1468.27 Q810.373 1465.74 811.252 1464.01 Q812.155 1462.25 812.155 1460.56 Q812.155 1457.8 810.211 1456.07 Q808.289 1454.33 805.187 1454.33 Q802.988 1454.33 800.535 1455.09 Q798.104 1455.86 795.326 1457.41 L795.326 1452.69 Q798.15 1451.55 800.604 1450.97 Q803.058 1450.39 805.095 1450.39 Q810.465 1450.39 813.66 1453.08 Q816.854 1455.77 816.854 1460.26 Q816.854 1462.39 816.044 1464.31 Q815.257 1466.2 813.15 1468.8 Q812.572 1469.47 809.47 1472.69 Q806.368 1475.88 800.72 1481.64 Z\" fill=\"#000000\" fill-rule=\"evenodd\" fill-opacity=\"1\" /><path clip-path=\"url(#clip100)\" d=\"M826.9 1451.02 L845.257 1451.02 L845.257 1454.96 L831.183 1454.96 L831.183 1463.43 Q832.201 1463.08 833.22 1462.92 Q834.238 1462.73 835.257 1462.73 Q841.044 1462.73 844.423 1465.9 Q847.803 1469.08 847.803 1474.49 Q847.803 1480.07 844.331 1483.17 Q840.859 1486.25 834.539 1486.25 Q832.363 1486.25 830.095 1485.88 Q827.849 1485.51 825.442 1484.77 L825.442 1480.07 Q827.525 1481.2 829.747 1481.76 Q831.97 1482.32 834.447 1482.32 Q838.451 1482.32 840.789 1480.21 Q843.127 1478.1 843.127 1474.49 Q843.127 1470.88 840.789 1468.77 Q838.451 1466.67 834.447 1466.67 Q832.572 1466.67 830.697 1467.08 Q828.845 1467.5 826.9 1468.38 L826.9 1451.02 Z\" fill=\"#000000\" fill-rule=\"evenodd\" fill-opacity=\"1\" /><path clip-path=\"url(#clip100)\" d=\"M1259.75 1454.1 Q1256.14 1454.1 1254.31 1457.66 Q1252.5 1461.2 1252.5 1468.33 Q1252.5 1475.44 1254.31 1479.01 Q1256.14 1482.55 1259.75 1482.55 Q1263.38 1482.55 1265.19 1479.01 Q1267.02 1475.44 1267.02 1468.33 Q1267.02 1461.2 1265.19 1457.66 Q1263.38 1454.1 1259.75 1454.1 M1259.75 1450.39 Q1265.56 1450.39 1268.61 1455 Q1271.69 1459.58 1271.69 1468.33 Q1271.69 1477.06 1268.61 1481.67 Q1265.56 1486.25 1259.75 1486.25 Q1253.94 1486.25 1250.86 1481.67 Q1247.8 1477.06 1247.8 1468.33 Q1247.8 1459.58 1250.86 1455 Q1253.94 1450.39 1259.75 1450.39 Z\" fill=\"#000000\" fill-rule=\"evenodd\" fill-opacity=\"1\" /><path clip-path=\"url(#clip100)\" d=\"M1279.91 1479.7 L1284.79 1479.7 L1284.79 1485.58 L1279.91 1485.58 L1279.91 1479.7 Z\" fill=\"#000000\" fill-rule=\"evenodd\" fill-opacity=\"1\" /><path clip-path=\"url(#clip100)\" d=\"M1295.03 1451.02 L1313.38 1451.02 L1313.38 1454.96 L1299.31 1454.96 L1299.31 1463.43 Q1300.33 1463.08 1301.35 1462.92 Q1302.36 1462.73 1303.38 1462.73 Q1309.17 1462.73 1312.55 1465.9 Q1315.93 1469.08 1315.93 1474.49 Q1315.93 1480.07 1312.46 1483.17 Q1308.98 1486.25 1302.67 1486.25 Q1300.49 1486.25 1298.22 1485.88 Q1295.98 1485.51 1293.57 1484.77 L1293.57 1480.07 Q1295.65 1481.2 1297.87 1481.76 Q1300.1 1482.32 1302.57 1482.32 Q1306.58 1482.32 1308.92 1480.21 Q1311.25 1478.1 1311.25 1474.49 Q1311.25 1470.88 1308.92 1468.77 Q1306.58 1466.67 1302.57 1466.67 Q1300.7 1466.67 1298.82 1467.08 Q1296.97 1467.5 1295.03 1468.38 L1295.03 1451.02 Z\" fill=\"#000000\" fill-rule=\"evenodd\" fill-opacity=\"1\" /><path clip-path=\"url(#clip100)\" d=\"M1335.14 1454.1 Q1331.53 1454.1 1329.7 1457.66 Q1327.9 1461.2 1327.9 1468.33 Q1327.9 1475.44 1329.7 1479.01 Q1331.53 1482.55 1335.14 1482.55 Q1338.78 1482.55 1340.58 1479.01 Q1342.41 1475.44 1342.41 1468.33 Q1342.41 1461.2 1340.58 1457.66 Q1338.78 1454.1 1335.14 1454.1 M1335.14 1450.39 Q1340.95 1450.39 1344.01 1455 Q1347.09 1459.58 1347.09 1468.33 Q1347.09 1477.06 1344.01 1481.67 Q1340.95 1486.25 1335.14 1486.25 Q1329.33 1486.25 1326.25 1481.67 Q1323.2 1477.06 1323.2 1468.33 Q1323.2 1459.58 1326.25 1455 Q1329.33 1450.39 1335.14 1450.39 Z\" fill=\"#000000\" fill-rule=\"evenodd\" fill-opacity=\"1\" /><path clip-path=\"url(#clip100)\" d=\"M1759.03 1454.1 Q1755.42 1454.1 1753.59 1457.66 Q1751.79 1461.2 1751.79 1468.33 Q1751.79 1475.44 1753.59 1479.01 Q1755.42 1482.55 1759.03 1482.55 Q1762.67 1482.55 1764.47 1479.01 Q1766.3 1475.44 1766.3 1468.33 Q1766.3 1461.2 1764.47 1457.66 Q1762.67 1454.1 1759.03 1454.1 M1759.03 1450.39 Q1764.84 1450.39 1767.9 1455 Q1770.98 1459.58 1770.98 1468.33 Q1770.98 1477.06 1767.9 1481.67 Q1764.84 1486.25 1759.03 1486.25 Q1753.22 1486.25 1750.14 1481.67 Q1747.09 1477.06 1747.09 1468.33 Q1747.09 1459.58 1750.14 1455 Q1753.22 1450.39 1759.03 1450.39 Z\" fill=\"#000000\" fill-rule=\"evenodd\" fill-opacity=\"1\" /><path clip-path=\"url(#clip100)\" d=\"M1779.19 1479.7 L1784.08 1479.7 L1784.08 1485.58 L1779.19 1485.58 L1779.19 1479.7 Z\" fill=\"#000000\" fill-rule=\"evenodd\" fill-opacity=\"1\" /><path clip-path=\"url(#clip100)\" d=\"M1793.08 1451.02 L1815.3 1451.02 L1815.3 1453.01 L1802.76 1485.58 L1797.87 1485.58 L1809.68 1454.96 L1793.08 1454.96 L1793.08 1451.02 Z\" fill=\"#000000\" fill-rule=\"evenodd\" fill-opacity=\"1\" /><path clip-path=\"url(#clip100)\" d=\"M1824.47 1451.02 L1842.83 1451.02 L1842.83 1454.96 L1828.75 1454.96 L1828.75 1463.43 Q1829.77 1463.08 1830.79 1462.92 Q1831.81 1462.73 1832.83 1462.73 Q1838.61 1462.73 1841.99 1465.9 Q1845.37 1469.08 1845.37 1474.49 Q1845.37 1480.07 1841.9 1483.17 Q1838.43 1486.25 1832.11 1486.25 Q1829.93 1486.25 1827.67 1485.88 Q1825.42 1485.51 1823.01 1484.77 L1823.01 1480.07 Q1825.1 1481.2 1827.32 1481.76 Q1829.54 1482.32 1832.02 1482.32 Q1836.02 1482.32 1838.36 1480.21 Q1840.7 1478.1 1840.7 1474.49 Q1840.7 1470.88 1838.36 1468.77 Q1836.02 1466.67 1832.02 1466.67 Q1830.14 1466.67 1828.27 1467.08 Q1826.42 1467.5 1824.47 1468.38 L1824.47 1451.02 Z\" fill=\"#000000\" fill-rule=\"evenodd\" fill-opacity=\"1\" /><path clip-path=\"url(#clip100)\" d=\"M2247.09 1481.64 L2254.73 1481.64 L2254.73 1455.28 L2246.42 1456.95 L2246.42 1452.69 L2254.68 1451.02 L2259.36 1451.02 L2259.36 1481.64 L2267 1481.64 L2267 1485.58 L2247.09 1485.58 L2247.09 1481.64 Z\" fill=\"#000000\" fill-rule=\"evenodd\" fill-opacity=\"1\" /><path clip-path=\"url(#clip100)\" d=\"M2276.44 1479.7 L2281.32 1479.7 L2281.32 1485.58 L2276.44 1485.58 L2276.44 1479.7 Z\" fill=\"#000000\" fill-rule=\"evenodd\" fill-opacity=\"1\" /><path clip-path=\"url(#clip100)\" d=\"M2301.51 1454.1 Q2297.9 1454.1 2296.07 1457.66 Q2294.26 1461.2 2294.26 1468.33 Q2294.26 1475.44 2296.07 1479.01 Q2297.9 1482.55 2301.51 1482.55 Q2305.14 1482.55 2306.95 1479.01 Q2308.78 1475.44 2308.78 1468.33 Q2308.78 1461.2 2306.95 1457.66 Q2305.14 1454.1 2301.51 1454.1 M2301.51 1450.39 Q2307.32 1450.39 2310.38 1455 Q2313.45 1459.58 2313.45 1468.33 Q2313.45 1477.06 2310.38 1481.67 Q2307.32 1486.25 2301.51 1486.25 Q2295.7 1486.25 2292.62 1481.67 Q2289.57 1477.06 2289.57 1468.33 Q2289.57 1459.58 2292.62 1455 Q2295.7 1450.39 2301.51 1450.39 Z\" fill=\"#000000\" fill-rule=\"evenodd\" fill-opacity=\"1\" /><path clip-path=\"url(#clip100)\" d=\"M2331.67 1454.1 Q2328.06 1454.1 2326.23 1457.66 Q2324.43 1461.2 2324.43 1468.33 Q2324.43 1475.44 2326.23 1479.01 Q2328.06 1482.55 2331.67 1482.55 Q2335.31 1482.55 2337.11 1479.01 Q2338.94 1475.44 2338.94 1468.33 Q2338.94 1461.2 2337.11 1457.66 Q2335.31 1454.1 2331.67 1454.1 M2331.67 1450.39 Q2337.48 1450.39 2340.54 1455 Q2343.62 1459.58 2343.62 1468.33 Q2343.62 1477.06 2340.54 1481.67 Q2337.48 1486.25 2331.67 1486.25 Q2325.86 1486.25 2322.78 1481.67 Q2319.73 1477.06 2319.73 1468.33 Q2319.73 1459.58 2322.78 1455 Q2325.86 1450.39 2331.67 1450.39 Z\" fill=\"#000000\" fill-rule=\"evenodd\" fill-opacity=\"1\" /><path clip-path=\"url(#clip100)\" d=\"M1292.13 1546.53 L1292.13 1568.04 L1286.27 1568.04 L1286.27 1546.72 Q1286.27 1541.66 1284.3 1539.14 Q1282.33 1536.63 1278.38 1536.63 Q1273.64 1536.63 1270.9 1539.65 Q1268.16 1542.68 1268.16 1547.9 L1268.16 1568.04 L1262.27 1568.04 L1262.27 1518.52 L1268.16 1518.52 L1268.16 1537.93 Q1270.26 1534.72 1273.1 1533.13 Q1275.96 1531.54 1279.68 1531.54 Q1285.83 1531.54 1288.98 1535.36 Q1292.13 1539.14 1292.13 1546.53 Z\" fill=\"#000000\" fill-rule=\"evenodd\" fill-opacity=\"1\" /><path clip-path=\"url(#clip100)\" d=\"M1310.18 1562.63 L1332.62 1562.63 L1332.62 1568.04 L1302.44 1568.04 L1302.44 1562.63 Q1306.1 1558.85 1312.4 1552.48 Q1318.74 1546.08 1320.36 1544.24 Q1323.45 1540.77 1324.66 1538.38 Q1325.9 1535.96 1325.9 1533.64 Q1325.9 1529.85 1323.23 1527.46 Q1320.58 1525.08 1316.32 1525.08 Q1313.3 1525.08 1309.92 1526.13 Q1306.58 1527.18 1302.76 1529.31 L1302.76 1522.82 Q1306.64 1521.26 1310.02 1520.46 Q1313.39 1519.66 1316.19 1519.66 Q1323.58 1519.66 1327.97 1523.36 Q1332.36 1527.05 1332.36 1533.22 Q1332.36 1536.15 1331.25 1538.79 Q1330.17 1541.4 1327.27 1544.97 Q1326.47 1545.89 1322.21 1550.32 Q1317.94 1554.71 1310.18 1562.63 Z\" fill=\"#000000\" fill-rule=\"evenodd\" fill-opacity=\"1\" /><polyline clip-path=\"url(#clip102)\" style=\"stroke:#000000; stroke-linecap:round; stroke-linejoin:round; stroke-width:2; stroke-opacity:0.1; fill:none\" points=\"\n",
       "  242.135,1198.69 2352.76,1198.69 \n",
       "  \"/>\n",
       "<polyline clip-path=\"url(#clip102)\" style=\"stroke:#000000; stroke-linecap:round; stroke-linejoin:round; stroke-width:2; stroke-opacity:0.1; fill:none\" points=\"\n",
       "  242.135,949.81 2352.76,949.81 \n",
       "  \"/>\n",
       "<polyline clip-path=\"url(#clip102)\" style=\"stroke:#000000; stroke-linecap:round; stroke-linejoin:round; stroke-width:2; stroke-opacity:0.1; fill:none\" points=\"\n",
       "  242.135,700.929 2352.76,700.929 \n",
       "  \"/>\n",
       "<polyline clip-path=\"url(#clip102)\" style=\"stroke:#000000; stroke-linecap:round; stroke-linejoin:round; stroke-width:2; stroke-opacity:0.1; fill:none\" points=\"\n",
       "  242.135,452.048 2352.76,452.048 \n",
       "  \"/>\n",
       "<polyline clip-path=\"url(#clip102)\" style=\"stroke:#000000; stroke-linecap:round; stroke-linejoin:round; stroke-width:2; stroke-opacity:0.1; fill:none\" points=\"\n",
       "  242.135,203.167 2352.76,203.167 \n",
       "  \"/>\n",
       "<polyline clip-path=\"url(#clip100)\" style=\"stroke:#000000; stroke-linecap:round; stroke-linejoin:round; stroke-width:4; stroke-opacity:1; fill:none\" points=\"\n",
       "  242.135,1423.18 242.135,47.2441 \n",
       "  \"/>\n",
       "<polyline clip-path=\"url(#clip100)\" style=\"stroke:#000000; stroke-linecap:round; stroke-linejoin:round; stroke-width:4; stroke-opacity:1; fill:none\" points=\"\n",
       "  242.135,1198.69 261.032,1198.69 \n",
       "  \"/>\n",
       "<polyline clip-path=\"url(#clip100)\" style=\"stroke:#000000; stroke-linecap:round; stroke-linejoin:round; stroke-width:4; stroke-opacity:1; fill:none\" points=\"\n",
       "  242.135,949.81 261.032,949.81 \n",
       "  \"/>\n",
       "<polyline clip-path=\"url(#clip100)\" style=\"stroke:#000000; stroke-linecap:round; stroke-linejoin:round; stroke-width:4; stroke-opacity:1; fill:none\" points=\"\n",
       "  242.135,700.929 261.032,700.929 \n",
       "  \"/>\n",
       "<polyline clip-path=\"url(#clip100)\" style=\"stroke:#000000; stroke-linecap:round; stroke-linejoin:round; stroke-width:4; stroke-opacity:1; fill:none\" points=\"\n",
       "  242.135,452.048 261.032,452.048 \n",
       "  \"/>\n",
       "<polyline clip-path=\"url(#clip100)\" style=\"stroke:#000000; stroke-linecap:round; stroke-linejoin:round; stroke-width:4; stroke-opacity:1; fill:none\" points=\"\n",
       "  242.135,203.167 261.032,203.167 \n",
       "  \"/>\n",
       "<path clip-path=\"url(#clip100)\" d=\"M115.256 1199.14 L144.931 1199.14 L144.931 1203.08 L115.256 1203.08 L115.256 1199.14 Z\" fill=\"#000000\" fill-rule=\"evenodd\" fill-opacity=\"1\" /><path clip-path=\"url(#clip100)\" d=\"M153.843 1181.41 L176.065 1181.41 L176.065 1183.4 L163.519 1215.97 L158.635 1215.97 L170.44 1185.35 L153.843 1185.35 L153.843 1181.41 Z\" fill=\"#000000\" fill-rule=\"evenodd\" fill-opacity=\"1\" /><path clip-path=\"url(#clip100)\" d=\"M185.232 1181.41 L203.588 1181.41 L203.588 1185.35 L189.514 1185.35 L189.514 1193.82 Q190.533 1193.47 191.551 1193.31 Q192.57 1193.12 193.588 1193.12 Q199.375 1193.12 202.755 1196.29 Q206.135 1199.47 206.135 1204.88 Q206.135 1210.46 202.662 1213.56 Q199.19 1216.64 192.871 1216.64 Q190.695 1216.64 188.426 1216.27 Q186.181 1215.9 183.774 1215.16 L183.774 1210.46 Q185.857 1211.6 188.079 1212.15 Q190.301 1212.71 192.778 1212.71 Q196.783 1212.71 199.121 1210.6 Q201.459 1208.49 201.459 1204.88 Q201.459 1201.27 199.121 1199.17 Q196.783 1197.06 192.778 1197.06 Q190.903 1197.06 189.028 1197.48 Q187.176 1197.89 185.232 1198.77 L185.232 1181.41 Z\" fill=\"#000000\" fill-rule=\"evenodd\" fill-opacity=\"1\" /><path clip-path=\"url(#clip100)\" d=\"M114.26 950.261 L143.936 950.261 L143.936 954.196 L114.26 954.196 L114.26 950.261 Z\" fill=\"#000000\" fill-rule=\"evenodd\" fill-opacity=\"1\" /><path clip-path=\"url(#clip100)\" d=\"M152.848 932.53 L175.07 932.53 L175.07 934.521 L162.524 967.09 L157.64 967.09 L169.445 936.465 L152.848 936.465 L152.848 932.53 Z\" fill=\"#000000\" fill-rule=\"evenodd\" fill-opacity=\"1\" /><path clip-path=\"url(#clip100)\" d=\"M194.19 935.609 Q190.579 935.609 188.75 939.173 Q186.945 942.715 186.945 949.845 Q186.945 956.951 188.75 960.516 Q190.579 964.057 194.19 964.057 Q197.825 964.057 199.63 960.516 Q201.459 956.951 201.459 949.845 Q201.459 942.715 199.63 939.173 Q197.825 935.609 194.19 935.609 M194.19 931.905 Q200 931.905 203.056 936.511 Q206.135 941.095 206.135 949.845 Q206.135 958.571 203.056 963.178 Q200 967.761 194.19 967.761 Q188.38 967.761 185.301 963.178 Q182.246 958.571 182.246 949.845 Q182.246 941.095 185.301 936.511 Q188.38 931.905 194.19 931.905 Z\" fill=\"#000000\" fill-rule=\"evenodd\" fill-opacity=\"1\" /><path clip-path=\"url(#clip100)\" d=\"M115.256 701.38 L144.931 701.38 L144.931 705.315 L115.256 705.315 L115.256 701.38 Z\" fill=\"#000000\" fill-rule=\"evenodd\" fill-opacity=\"1\" /><path clip-path=\"url(#clip100)\" d=\"M165.602 699.065 Q162.454 699.065 160.603 701.218 Q158.774 703.371 158.774 707.121 Q158.774 710.848 160.603 713.024 Q162.454 715.176 165.602 715.176 Q168.751 715.176 170.579 713.024 Q172.431 710.848 172.431 707.121 Q172.431 703.371 170.579 701.218 Q168.751 699.065 165.602 699.065 M174.885 684.413 L174.885 688.672 Q173.126 687.839 171.32 687.399 Q169.538 686.959 167.778 686.959 Q163.149 686.959 160.695 690.084 Q158.265 693.209 157.917 699.528 Q159.283 697.515 161.343 696.45 Q163.403 695.362 165.88 695.362 Q171.089 695.362 174.098 698.533 Q177.13 701.681 177.13 707.121 Q177.13 712.445 173.982 715.663 Q170.834 718.88 165.602 718.88 Q159.607 718.88 156.436 714.297 Q153.265 709.69 153.265 700.964 Q153.265 692.769 157.153 687.908 Q161.042 683.024 167.593 683.024 Q169.352 683.024 171.135 683.371 Q172.94 683.718 174.885 684.413 Z\" fill=\"#000000\" fill-rule=\"evenodd\" fill-opacity=\"1\" /><path clip-path=\"url(#clip100)\" d=\"M185.232 683.649 L203.588 683.649 L203.588 687.584 L189.514 687.584 L189.514 696.056 Q190.533 695.709 191.551 695.547 Q192.57 695.362 193.588 695.362 Q199.375 695.362 202.755 698.533 Q206.135 701.704 206.135 707.121 Q206.135 712.7 202.662 715.801 Q199.19 718.88 192.871 718.88 Q190.695 718.88 188.426 718.51 Q186.181 718.139 183.774 717.399 L183.774 712.7 Q185.857 713.834 188.079 714.389 Q190.301 714.945 192.778 714.945 Q196.783 714.945 199.121 712.839 Q201.459 710.732 201.459 707.121 Q201.459 703.51 199.121 701.403 Q196.783 699.297 192.778 699.297 Q190.903 699.297 189.028 699.714 Q187.176 700.13 185.232 701.01 L185.232 683.649 Z\" fill=\"#000000\" fill-rule=\"evenodd\" fill-opacity=\"1\" /><path clip-path=\"url(#clip100)\" d=\"M114.26 452.499 L143.936 452.499 L143.936 456.434 L114.26 456.434 L114.26 452.499 Z\" fill=\"#000000\" fill-rule=\"evenodd\" fill-opacity=\"1\" /><path clip-path=\"url(#clip100)\" d=\"M164.607 450.184 Q161.459 450.184 159.607 452.337 Q157.778 454.49 157.778 458.24 Q157.778 461.967 159.607 464.143 Q161.459 466.296 164.607 466.296 Q167.755 466.296 169.584 464.143 Q171.436 461.967 171.436 458.24 Q171.436 454.49 169.584 452.337 Q167.755 450.184 164.607 450.184 M173.889 435.532 L173.889 439.791 Q172.13 438.958 170.325 438.518 Q168.542 438.078 166.783 438.078 Q162.153 438.078 159.7 441.203 Q157.269 444.328 156.922 450.647 Q158.288 448.634 160.348 447.569 Q162.408 446.481 164.885 446.481 Q170.093 446.481 173.102 449.652 Q176.135 452.8 176.135 458.24 Q176.135 463.564 172.987 466.782 Q169.839 469.999 164.607 469.999 Q158.612 469.999 155.44 465.416 Q152.269 460.809 152.269 452.083 Q152.269 443.888 156.158 439.027 Q160.047 434.143 166.598 434.143 Q168.357 434.143 170.139 434.49 Q171.945 434.837 173.889 435.532 Z\" fill=\"#000000\" fill-rule=\"evenodd\" fill-opacity=\"1\" /><path clip-path=\"url(#clip100)\" d=\"M194.19 437.847 Q190.579 437.847 188.75 441.411 Q186.945 444.953 186.945 452.083 Q186.945 459.189 188.75 462.754 Q190.579 466.296 194.19 466.296 Q197.825 466.296 199.63 462.754 Q201.459 459.189 201.459 452.083 Q201.459 444.953 199.63 441.411 Q197.825 437.847 194.19 437.847 M194.19 434.143 Q200 434.143 203.056 438.749 Q206.135 443.333 206.135 452.083 Q206.135 460.809 203.056 465.416 Q200 469.999 194.19 469.999 Q188.38 469.999 185.301 465.416 Q182.246 460.809 182.246 452.083 Q182.246 443.333 185.301 438.749 Q188.38 434.143 194.19 434.143 Z\" fill=\"#000000\" fill-rule=\"evenodd\" fill-opacity=\"1\" /><path clip-path=\"url(#clip100)\" d=\"M115.256 203.618 L144.931 203.618 L144.931 207.553 L115.256 207.553 L115.256 203.618 Z\" fill=\"#000000\" fill-rule=\"evenodd\" fill-opacity=\"1\" /><path clip-path=\"url(#clip100)\" d=\"M155.07 185.887 L173.427 185.887 L173.427 189.822 L159.353 189.822 L159.353 198.294 Q160.371 197.947 161.39 197.785 Q162.408 197.6 163.427 197.6 Q169.214 197.6 172.593 200.771 Q175.973 203.942 175.973 209.359 Q175.973 214.938 172.501 218.04 Q169.028 221.118 162.709 221.118 Q160.533 221.118 158.265 220.748 Q156.019 220.377 153.612 219.637 L153.612 214.938 Q155.695 216.072 157.917 216.628 Q160.14 217.183 162.616 217.183 Q166.621 217.183 168.959 215.077 Q171.297 212.97 171.297 209.359 Q171.297 205.748 168.959 203.641 Q166.621 201.535 162.616 201.535 Q160.741 201.535 158.866 201.952 Q157.015 202.368 155.07 203.248 L155.07 185.887 Z\" fill=\"#000000\" fill-rule=\"evenodd\" fill-opacity=\"1\" /><path clip-path=\"url(#clip100)\" d=\"M185.232 185.887 L203.588 185.887 L203.588 189.822 L189.514 189.822 L189.514 198.294 Q190.533 197.947 191.551 197.785 Q192.57 197.6 193.588 197.6 Q199.375 197.6 202.755 200.771 Q206.135 203.942 206.135 209.359 Q206.135 214.938 202.662 218.04 Q199.19 221.118 192.871 221.118 Q190.695 221.118 188.426 220.748 Q186.181 220.377 183.774 219.637 L183.774 214.938 Q185.857 216.072 188.079 216.628 Q190.301 217.183 192.778 217.183 Q196.783 217.183 199.121 215.077 Q201.459 212.97 201.459 209.359 Q201.459 205.748 199.121 203.641 Q196.783 201.535 192.778 201.535 Q190.903 201.535 189.028 201.952 Q187.176 202.368 185.232 203.248 L185.232 185.887 Z\" fill=\"#000000\" fill-rule=\"evenodd\" fill-opacity=\"1\" /><path clip-path=\"url(#clip100)\" d=\"M14.479 818.714 L14.479 812.858 L64.0042 812.858 L64.0042 818.714 L14.479 818.714 Z\" fill=\"#000000\" fill-rule=\"evenodd\" fill-opacity=\"1\" /><path clip-path=\"url(#clip100)\" d=\"M32.4621 786.79 Q32.4621 791.501 36.1542 794.238 Q39.8145 796.975 46.212 796.975 Q52.6095 796.975 56.3017 794.27 Q59.9619 791.533 59.9619 786.79 Q59.9619 782.111 56.2698 779.374 Q52.5777 776.637 46.212 776.637 Q39.8781 776.637 36.186 779.374 Q32.4621 782.111 32.4621 786.79 M27.4968 786.79 Q27.4968 779.151 32.4621 774.791 Q37.4273 770.43 46.212 770.43 Q54.9649 770.43 59.9619 774.791 Q64.9272 779.151 64.9272 786.79 Q64.9272 794.461 59.9619 798.821 Q54.9649 803.15 46.212 803.15 Q37.4273 803.15 32.4621 798.821 Q27.4968 794.461 27.4968 786.79 Z\" fill=\"#000000\" fill-rule=\"evenodd\" fill-opacity=\"1\" /><path clip-path=\"url(#clip100)\" d=\"M45.7664 737.265 Q39.4007 737.265 35.8996 739.907 Q32.3984 742.517 32.3984 747.259 Q32.3984 751.97 35.8996 754.611 Q39.4007 757.221 45.7664 757.221 Q52.1003 757.221 55.6014 754.611 Q59.1026 751.97 59.1026 747.259 Q59.1026 742.517 55.6014 739.907 Q52.1003 737.265 45.7664 737.265 M59.58 731.408 Q68.683 731.408 73.1071 735.451 Q77.5631 739.493 77.5631 747.832 Q77.5631 750.919 77.0857 753.657 Q76.6401 756.394 75.6852 758.972 L69.9879 758.972 Q71.3884 756.394 72.0568 753.879 Q72.7252 751.365 72.7252 748.755 Q72.7252 742.994 69.7015 740.129 Q66.7096 737.265 60.6303 737.265 L57.7339 737.265 Q60.885 739.079 62.4446 741.912 Q64.0042 744.745 64.0042 748.691 Q64.0042 755.248 59.0071 759.258 Q54.01 763.269 45.7664 763.269 Q37.491 763.269 32.4939 759.258 Q27.4968 755.248 27.4968 748.691 Q27.4968 744.745 29.0564 741.912 Q30.616 739.079 33.7671 737.265 L28.3562 737.265 L28.3562 731.408 L59.58 731.408 Z\" fill=\"#000000\" fill-rule=\"evenodd\" fill-opacity=\"1\" /><path clip-path=\"url(#clip100)\" d=\"M14.479 719.345 L14.479 713.489 L64.0042 713.489 L64.0042 719.345 L14.479 719.345 Z\" fill=\"#000000\" fill-rule=\"evenodd\" fill-opacity=\"1\" /><path clip-path=\"url(#clip100)\" d=\"M28.3562 701.235 L28.3562 695.379 L64.0042 695.379 L64.0042 701.235 L28.3562 701.235 M14.479 701.235 L14.479 695.379 L21.895 695.379 L21.895 701.235 L14.479 701.235 Z\" fill=\"#000000\" fill-rule=\"evenodd\" fill-opacity=\"1\" /><path clip-path=\"url(#clip100)\" d=\"M14.479 683.347 L14.479 677.459 L43.7294 677.459 L28.3562 659.985 L28.3562 652.506 L45.0344 671.412 L64.0042 651.71 L64.0042 659.349 L46.5939 677.459 L64.0042 677.459 L64.0042 683.347 L14.479 683.347 Z\" fill=\"#000000\" fill-rule=\"evenodd\" fill-opacity=\"1\" /><polyline clip-path=\"url(#clip102)\" style=\"stroke:#0000ff; stroke-linecap:round; stroke-linejoin:round; stroke-width:4; stroke-opacity:1; fill:none\" points=\"\n",
       "  301.869,446.532 303.864,445.83 305.86,445.129 307.855,444.432 309.85,443.736 311.845,443.042 313.84,442.351 315.835,441.662 317.83,440.974 319.826,440.29 \n",
       "  321.821,439.607 323.816,438.926 325.811,438.247 327.806,437.571 329.801,436.896 331.796,436.224 333.792,435.554 335.787,434.885 337.782,434.219 339.777,433.555 \n",
       "  341.772,432.892 343.767,432.232 345.762,431.574 347.758,430.918 349.753,430.264 351.748,429.611 353.743,428.961 355.738,428.313 357.733,427.666 359.728,427.022 \n",
       "  361.724,426.379 363.719,425.738 365.714,425.1 367.709,424.463 369.704,423.828 371.699,423.195 373.694,422.563 375.689,421.934 377.685,421.306 379.68,420.681 \n",
       "  381.675,420.057 383.67,419.435 385.665,418.814 387.66,418.196 389.655,417.579 391.651,416.965 393.646,416.352 395.641,415.74 397.636,415.131 399.631,414.523 \n",
       "  401.626,413.917 403.621,413.313 405.617,412.71 407.612,412.109 409.607,411.51 411.602,410.913 413.597,410.317 415.592,409.723 417.587,409.131 419.583,408.54 \n",
       "  421.578,407.951 423.573,407.364 425.568,406.778 427.563,406.194 429.558,405.612 431.553,405.031 433.549,404.452 435.544,403.874 437.539,403.299 439.534,402.724 \n",
       "  441.529,402.152 443.524,401.581 445.519,401.011 447.515,400.443 449.51,399.877 451.505,399.312 453.5,398.749 455.495,398.187 457.49,397.627 459.485,397.068 \n",
       "  461.481,396.511 463.476,395.956 465.471,395.402 467.466,394.849 469.461,394.298 471.456,393.749 473.451,393.201 475.447,392.654 477.442,392.109 479.437,391.566 \n",
       "  481.432,391.023 483.427,390.483 485.422,389.944 487.417,389.406 489.413,388.87 491.408,388.335 493.403,387.801 495.398,387.269 497.393,386.739 499.388,386.209 \n",
       "  501.383,385.682 503.379,385.155 505.374,384.63 507.369,384.107 509.364,383.585 511.359,383.064 513.354,382.544 515.349,382.026 517.345,381.509 519.34,380.994 \n",
       "  521.335,380.48 523.33,379.967 525.325,379.456 527.32,378.946 529.315,378.437 531.311,377.93 533.306,377.424 535.301,376.919 537.296,376.416 539.291,375.914 \n",
       "  541.286,375.413 543.281,374.914 545.277,374.415 547.272,373.918 549.267,373.423 551.262,372.928 553.257,372.435 555.252,371.943 557.247,371.453 559.243,370.963 \n",
       "  561.238,370.475 563.233,369.989 565.228,369.503 567.223,369.019 569.218,368.535 571.213,368.053 573.209,367.573 575.204,367.093 577.199,366.615 579.194,366.138 \n",
       "  581.189,365.662 583.184,365.187 585.179,364.714 587.175,364.242 589.17,363.771 591.165,363.301 593.16,362.832 595.155,362.364 597.15,361.898 599.145,361.433 \n",
       "  601.141,360.969 603.136,360.506 605.131,360.044 607.126,359.583 609.121,359.124 611.116,358.665 613.111,358.208 615.107,357.752 617.102,357.297 619.097,356.843 \n",
       "  621.092,356.39 623.087,355.939 625.082,355.488 627.077,355.039 629.073,354.59 631.068,354.143 633.063,353.697 635.058,353.252 637.053,352.808 639.048,352.365 \n",
       "  641.043,351.923 643.039,351.483 645.034,351.043 647.029,350.604 649.024,350.167 651.019,349.73 653.014,349.295 655.009,348.861 657.005,348.427 659,347.995 \n",
       "  660.995,347.564 662.99,347.133 664.985,346.704 666.98,346.276 668.975,345.849 670.971,345.423 672.966,344.998 674.961,344.574 676.956,344.151 678.951,343.728 \n",
       "  680.946,343.307 682.941,342.887 684.937,342.468 686.932,342.05 688.927,341.633 690.922,341.217 692.917,340.802 694.912,340.388 696.907,339.975 698.903,339.562 \n",
       "  700.898,339.151 702.893,338.741 704.888,338.332 706.883,337.923 708.878,337.516 710.873,337.11 712.869,336.704 714.864,336.3 716.859,335.896 718.854,335.493 \n",
       "  720.849,335.092 722.844,334.691 724.839,334.291 726.835,333.892 728.83,333.494 730.825,333.097 732.82,332.701 734.815,332.306 736.81,331.912 738.805,331.518 \n",
       "  740.801,331.126 742.796,330.734 744.791,330.343 746.786,329.954 748.781,329.565 750.776,329.177 752.771,328.79 754.767,328.404 756.762,328.018 758.757,327.634 \n",
       "  760.752,327.25 762.747,326.868 764.742,326.486 766.737,326.105 768.733,325.725 770.728,325.346 772.723,324.967 774.718,324.59 776.713,324.213 778.708,323.838 \n",
       "  780.703,323.463 782.699,323.089 784.694,322.715 786.689,322.343 788.684,321.971 790.679,321.601 792.674,321.231 794.669,320.862 796.665,320.494 798.66,320.126 \n",
       "  800.655,319.76 802.65,319.394 804.645,319.029 806.64,318.665 808.635,318.302 810.631,317.94 812.626,317.578 814.621,317.217 816.616,316.857 818.611,316.498 \n",
       "  820.606,316.14 822.601,315.782 824.597,315.425 826.592,315.069 828.587,314.714 830.582,314.36 832.577,314.006 834.572,313.653 836.567,313.301 838.563,312.95 \n",
       "  840.558,312.599 842.553,312.25 844.548,311.901 846.543,311.553 848.538,311.205 850.533,310.859 852.529,310.513 854.524,310.168 856.519,309.823 858.514,309.48 \n",
       "  860.509,309.137 862.504,308.795 864.499,308.454 866.495,308.113 868.49,307.773 870.485,307.434 872.48,307.096 874.475,306.758 876.47,306.422 878.465,306.085 \n",
       "  880.461,305.75 882.456,305.415 884.451,305.082 886.446,304.748 888.441,304.416 890.436,304.084 892.431,303.753 894.427,303.423 896.422,303.094 898.417,302.765 \n",
       "  900.412,302.437 902.407,302.109 904.402,301.783 906.397,301.457 908.393,301.131 910.388,300.807 912.383,300.483 914.378,300.16 916.373,299.837 918.368,299.516 \n",
       "  920.363,299.195 922.359,298.874 924.354,298.555 926.349,298.236 928.344,297.917 930.339,297.6 932.334,297.283 934.329,296.967 936.325,296.651 938.32,296.336 \n",
       "  940.315,296.022 942.31,295.709 944.305,295.396 946.3,295.084 948.295,294.772 950.291,294.462 952.286,294.152 954.281,293.842 956.276,293.533 958.271,293.225 \n",
       "  960.266,292.918 962.261,292.611 964.257,292.305 966.252,291.999 968.247,291.695 970.242,291.39 972.237,291.087 974.232,290.784 976.227,290.482 978.223,290.18 \n",
       "  980.218,289.879 982.213,289.579 984.208,289.28 986.203,288.981 988.198,288.682 990.193,288.385 992.188,288.088 994.184,287.791 996.179,287.495 998.174,287.2 \n",
       "  1000.17,286.906 1002.16,286.612 1004.16,286.319 1006.15,286.026 1008.15,285.734 1010.14,285.442 1012.14,285.152 1014.14,284.862 1016.13,284.572 1018.13,284.283 \n",
       "  1020.12,283.995 1022.12,283.707 1024.11,283.42 1026.11,283.134 1028.1,282.848 1030.1,282.563 1032.09,282.278 1034.09,281.994 1036.08,281.711 1038.08,281.428 \n",
       "  1040.07,281.146 1042.07,280.864 1044.06,280.583 1046.06,280.303 1048.05,280.023 1050.05,279.744 1052.04,279.465 1054.04,279.187 1056.03,278.91 1058.03,278.633 \n",
       "  1060.02,278.357 1062.02,278.081 1064.01,277.806 1066.01,277.532 1068,277.258 1070,276.984 1071.99,276.712 1073.99,276.44 1075.98,276.168 1077.98,275.897 \n",
       "  1079.97,275.627 1081.97,275.357 1083.97,275.088 1085.96,274.819 1087.96,274.551 1089.95,274.283 1091.95,274.017 1093.94,273.75 1095.94,273.484 1097.93,273.219 \n",
       "  1099.93,272.954 1101.92,272.69 1103.92,272.427 1105.91,272.164 1107.91,271.901 1109.9,271.64 1111.9,271.378 1113.89,271.118 1115.89,270.857 1117.88,270.598 \n",
       "  1119.88,270.339 1121.87,270.08 1123.87,269.822 1125.86,269.565 1127.86,269.308 1129.85,269.052 1131.85,268.796 1133.84,268.541 1135.84,268.286 1137.83,268.032 \n",
       "  1139.83,267.778 1141.82,267.525 1143.82,267.273 1145.81,267.021 1147.81,266.77 1149.8,266.519 1151.8,266.269 1153.8,266.019 1155.79,265.77 1157.79,265.521 \n",
       "  1159.78,265.273 1161.78,265.025 1163.77,264.778 1165.77,264.531 1167.76,264.285 1169.76,264.04 1171.75,263.795 1173.75,263.551 1175.74,263.307 1177.74,263.063 \n",
       "  1179.73,262.82 1181.73,262.578 1183.72,262.336 1185.72,262.095 1187.71,261.854 1189.71,261.614 1191.7,261.374 1193.7,261.135 1195.69,260.897 1197.69,260.658 \n",
       "  1199.68,260.421 1201.68,260.184 1203.67,259.947 1205.67,259.711 1207.66,259.476 1209.66,259.24 1211.65,259.006 1213.65,258.772 1215.64,258.538 1217.64,258.305 \n",
       "  1219.63,258.073 1221.63,257.841 1223.63,257.61 1225.62,257.379 1227.62,257.148 1229.61,256.918 1231.61,256.689 1233.6,256.46 1235.6,256.231 1237.59,256.004 \n",
       "  1239.59,255.776 1241.58,255.549 1243.58,255.323 1245.57,255.097 1247.57,254.871 1249.56,254.647 1251.56,254.422 1253.55,254.198 1255.55,253.975 1257.54,253.752 \n",
       "  1259.54,253.53 1261.53,253.308 1263.53,253.086 1265.52,252.865 1267.52,252.645 1269.51,252.425 1271.51,252.205 1273.5,251.986 1275.5,251.768 1277.49,251.55 \n",
       "  1279.49,251.333 1281.48,251.116 1283.48,250.899 1285.47,250.683 1287.47,250.468 1289.46,250.252 1291.46,250.038 1293.46,249.824 1295.45,249.61 1297.45,249.397 \n",
       "  1299.44,249.185 1301.44,248.972 1303.43,248.761 1305.43,248.55 1307.42,248.339 1309.42,248.129 1311.41,247.919 1313.41,247.71 1315.4,247.501 1317.4,247.293 \n",
       "  1319.39,247.085 1321.39,246.878 1323.38,246.671 1325.38,246.465 1327.37,246.259 1329.37,246.053 1331.36,245.848 1333.36,245.644 1335.35,245.44 1337.35,245.237 \n",
       "  1339.34,245.034 1341.34,244.831 1343.33,244.629 1345.33,244.427 1347.32,244.226 1349.32,244.026 1351.31,243.825 1353.31,243.626 1355.3,243.427 1357.3,243.228 \n",
       "  1359.29,243.029 1361.29,242.832 1363.28,242.634 1365.28,242.437 1367.28,242.241 1369.27,242.045 1371.27,241.85 1373.26,241.655 1375.26,241.46 1377.25,241.266 \n",
       "  1379.25,241.073 1381.24,240.879 1383.24,240.687 1385.23,240.495 1387.23,240.303 1389.22,240.112 1391.22,239.921 1393.21,239.731 1395.21,239.541 1397.2,239.351 \n",
       "  1399.2,239.162 1401.19,238.974 1403.19,238.786 1405.18,238.598 1407.18,238.411 1409.17,238.225 1411.17,238.039 1413.16,237.853 1415.16,237.668 1417.15,237.483 \n",
       "  1419.15,237.299 1421.14,237.115 1423.14,236.932 1425.13,236.749 1427.13,236.566 1429.12,236.384 1431.12,236.203 1433.11,236.022 1435.11,235.841 1437.11,235.661 \n",
       "  1439.1,235.481 1441.1,235.302 1443.09,235.123 1445.09,234.945 1447.08,234.767 1449.08,234.59 1451.07,234.413 1453.07,234.237 1455.06,234.061 1457.06,233.885 \n",
       "  1459.05,233.71 1461.05,233.535 1463.04,233.361 1465.04,233.188 1467.03,233.014 1469.03,232.842 1471.02,232.669 1473.02,232.497 1475.01,232.326 1477.01,232.155 \n",
       "  1479,231.985 1481,231.815 1482.99,231.645 1484.99,231.476 1486.98,231.307 1488.98,231.139 1490.97,230.971 1492.97,230.804 1494.96,230.637 1496.96,230.471 \n",
       "  1498.95,230.305 1500.95,230.14 1502.94,229.975 1504.94,229.81 1506.94,229.646 1508.93,229.483 1510.93,229.32 1512.92,229.157 1514.92,228.995 1516.91,228.833 \n",
       "  1518.91,228.672 1520.9,228.511 1522.9,228.35 1524.89,228.191 1526.89,228.031 1528.88,227.872 1530.88,227.714 1532.87,227.556 1534.87,227.398 1536.86,227.241 \n",
       "  1538.86,227.084 1540.85,226.928 1542.85,226.772 1544.84,226.617 1546.84,226.462 1548.83,226.308 1550.83,226.154 1552.82,226 1554.82,225.847 1556.81,225.695 \n",
       "  1558.81,225.543 1560.8,225.391 1562.8,225.24 1564.79,225.089 1566.79,224.939 1568.78,224.789 1570.78,224.64 1572.77,224.491 1574.77,224.343 1576.77,224.195 \n",
       "  1578.76,224.048 1580.76,223.901 1582.75,223.754 1584.75,223.608 1586.74,223.462 1588.74,223.317 1590.73,223.173 1592.73,223.029 1594.72,222.885 1596.72,222.742 \n",
       "  1598.71,222.599 1600.71,222.457 1602.7,222.315 1604.7,222.173 1606.69,222.033 1608.69,221.892 1610.68,221.752 1612.68,221.613 1614.67,221.474 1616.67,221.335 \n",
       "  1618.66,221.197 1620.66,221.06 1622.65,220.922 1624.65,220.786 1626.64,220.65 1628.64,220.514 1630.63,220.379 1632.63,220.244 1634.62,220.11 1636.62,219.976 \n",
       "  1638.61,219.843 1640.61,219.71 1642.6,219.578 1644.6,219.446 1646.6,219.314 1648.59,219.183 1650.59,219.053 1652.58,218.923 1654.58,218.793 1656.57,218.664 \n",
       "  1658.57,218.536 1660.56,218.408 1662.56,218.28 1664.55,218.153 1666.55,218.027 1668.54,217.901 1670.54,217.775 1672.53,217.65 1674.53,217.525 1676.52,217.401 \n",
       "  1678.52,217.278 1680.51,217.154 1682.51,217.032 1684.5,216.91 1686.5,216.788 1688.49,216.667 1690.49,216.546 1692.48,216.426 1694.48,216.306 1696.47,216.187 \n",
       "  1698.47,216.068 1700.46,215.95 1702.46,215.832 1704.45,215.715 1706.45,215.598 1708.44,215.482 1710.44,215.366 1712.43,215.251 1714.43,215.137 1716.43,215.022 \n",
       "  1718.42,214.909 1720.42,214.795 1722.41,214.683 1724.41,214.571 1726.4,214.459 1728.4,214.348 1730.39,214.237 1732.39,214.127 1734.38,214.017 1736.38,213.908 \n",
       "  1738.37,213.8 1740.37,213.692 1742.36,213.584 1744.36,213.477 1746.35,213.371 1748.35,213.265 1750.34,213.159 1752.34,213.054 1754.33,212.95 1756.33,212.846 \n",
       "  1758.32,212.742 1760.32,212.64 1762.31,212.537 1764.31,212.436 1766.3,212.334 1768.3,212.234 1770.29,212.133 1772.29,212.034 1774.28,211.935 1776.28,211.836 \n",
       "  1778.27,211.738 1780.27,211.64 1782.26,211.544 1784.26,211.447 1786.26,211.351 1788.25,211.256 1790.25,211.161 1792.24,211.067 1794.24,210.973 1796.23,210.88 \n",
       "  1798.23,210.788 1800.22,210.696 1802.22,210.604 1804.21,210.513 1806.21,210.423 1808.2,210.333 1810.2,210.244 1812.19,210.155 1814.19,210.067 1816.18,209.98 \n",
       "  1818.18,209.893 1820.17,209.807 1822.17,209.721 1824.16,209.636 1826.16,209.551 1828.15,209.467 1830.15,209.384 1832.14,209.301 1834.14,209.218 1836.13,209.137 \n",
       "  1838.13,209.056 1840.12,208.975 1842.12,208.895 1844.11,208.816 1846.11,208.737 1848.1,208.659 1850.1,208.581 1852.09,208.505 1854.09,208.428 1856.09,208.353 \n",
       "  1858.08,208.278 1860.08,208.203 1862.07,208.129 1864.07,208.056 1866.06,207.983 1868.06,207.911 1870.05,207.84 1872.05,207.769 1874.04,207.699 1876.04,207.63 \n",
       "  1878.03,207.561 1880.03,207.493 1882.02,207.425 1884.02,207.359 1886.01,207.292 1888.01,207.227 1890,207.162 1892,207.098 1893.99,207.034 1895.99,206.971 \n",
       "  1897.98,206.909 1899.98,206.848 1901.97,206.787 1903.97,206.727 1905.96,206.667 1907.96,206.608 1909.95,206.55 1911.95,206.493 1913.94,206.436 1915.94,206.38 \n",
       "  1917.93,206.325 1919.93,206.27 1921.92,206.216 1923.92,206.163 1925.92,206.111 1927.91,206.059 1929.91,206.008 1931.9,205.958 1933.9,205.908 1935.89,205.86 \n",
       "  1937.89,205.812 1939.88,205.765 1941.88,205.718 1943.87,205.672 1945.87,205.628 1947.86,205.584 1949.86,205.54 1951.85,205.498 1953.85,205.456 1955.84,205.415 \n",
       "  1957.84,205.375 1959.83,205.336 1961.83,205.297 1963.82,205.26 1965.82,205.223 1967.81,205.187 1969.81,205.152 1971.8,205.118 1973.8,205.084 1975.79,205.052 \n",
       "  1977.79,205.02 1979.78,204.99 1981.78,204.96 1983.77,204.931 1985.77,204.903 1987.76,204.876 1989.76,204.85 1991.75,204.825 1993.75,204.801 1995.75,204.778 \n",
       "  1997.74,204.756 1999.74,204.734 2001.73,204.714 2003.73,204.695 2005.72,204.677 2007.72,204.66 2009.71,204.644 2011.71,204.629 2013.7,204.615 2015.7,204.602 \n",
       "  2017.69,204.59 2019.69,204.58 2021.68,204.57 2023.68,204.562 2025.67,204.555 2027.67,204.549 2029.66,204.544 2031.66,204.54 2033.65,204.538 2035.65,204.537 \n",
       "  2037.64,204.537 2039.64,204.539 2041.63,204.542 2043.63,204.546 2045.62,204.551 2047.62,204.558 2049.61,204.567 2051.61,204.576 2053.6,204.588 2055.6,204.6 \n",
       "  2057.59,204.615 2059.59,204.63 2061.58,204.648 2063.58,204.667 2065.58,204.687 2067.57,204.71 2069.57,204.734 2071.56,204.759 2073.56,204.787 2075.55,204.816 \n",
       "  2077.55,204.847 2079.54,204.881 2081.54,204.916 2083.53,204.953 2085.53,204.992 2087.52,205.033 2089.52,205.076 2091.51,205.122 2093.51,205.17 2095.5,205.22 \n",
       "  2097.5,205.272 2099.49,205.327 2101.49,205.385 2103.48,205.445 2105.48,205.508 2107.47,205.573 2109.47,205.642 2111.46,205.713 2113.46,205.787 2115.45,205.865 \n",
       "  2117.45,205.945 2119.44,206.029 2121.44,206.116 2123.43,206.207 2125.43,206.301 2127.42,206.4 2129.42,206.502 2131.41,206.608 2133.41,206.719 2135.41,206.833 \n",
       "  2137.4,206.953 2139.4,207.077 2141.39,207.206 2143.39,207.34 2145.38,207.479 2147.38,207.624 2149.37,207.775 2151.37,207.932 2153.36,208.095 2155.36,208.264 \n",
       "  2157.35,208.441 2159.35,208.624 2161.34,208.815 2163.34,209.014 2165.33,209.222 2167.33,209.438 2169.32,209.663 2171.32,209.897 2173.31,210.142 2175.31,210.398 \n",
       "  2177.3,210.664 2179.3,210.943 2181.29,211.234 2183.29,211.538 2185.28,211.857 2187.28,212.19 2189.27,212.539 2191.27,212.904 2193.26,213.288 2195.26,213.69 \n",
       "  2197.25,214.113 2199.25,214.557 2201.24,215.025 2203.24,215.517 2205.24,216.035 2207.23,216.582 2209.23,217.159 2211.22,217.77 2213.22,218.415 2215.21,219.1 \n",
       "  2217.21,219.825 2219.2,220.596 2221.2,221.415 2223.19,222.288 2225.19,223.219 2227.18,224.213 2229.18,225.278 2231.17,226.419 2233.17,227.644 2235.16,228.963 \n",
       "  2237.16,230.386 2239.15,231.924 2241.15,233.591 2243.14,235.402 2245.14,237.376 2247.13,239.534 2249.13,241.9 2251.12,244.505 2253.12,247.383 2255.11,250.577 \n",
       "  2257.11,254.139 2259.1,258.129 2261.1,262.628 2263.09,267.73 2265.09,273.559 2267.08,280.272 2269.08,288.074 2271.07,297.237 2273.07,308.131 2275.07,321.269 \n",
       "  2277.06,337.388 2279.06,357.576 2281.05,383.519 2283.05,417.966 2285.04,465.722 2287.04,535.997 2289.03,648.959 2291.03,859.006 2293.02,1384.24 \n",
       "  \"/>\n",
       "<circle clip-path=\"url(#clip102)\" cx=\"2036.29\" cy=\"204.537\" r=\"14.4\" fill=\"#0000ff\" fill-rule=\"evenodd\" fill-opacity=\"1\" stroke=\"#000000\" stroke-opacity=\"1\" stroke-width=\"3.2\"/>\n",
       "<polyline clip-path=\"url(#clip102)\" style=\"stroke:#ff0000; stroke-linecap:round; stroke-linejoin:round; stroke-width:4; stroke-opacity:1; fill:none\" points=\"\n",
       "  301.869,317.11 303.864,316.344 305.86,315.581 307.855,314.82 309.85,314.062 311.845,313.307 313.84,312.554 315.835,311.804 317.83,311.056 319.826,310.311 \n",
       "  321.821,309.569 323.816,308.829 325.811,308.092 327.806,307.357 329.801,306.625 331.796,305.895 333.792,305.168 335.787,304.444 337.782,303.721 339.777,303.002 \n",
       "  341.772,302.284 343.767,301.569 345.762,300.857 347.758,300.147 349.753,299.439 351.748,298.734 353.743,298.031 355.738,297.33 357.733,296.632 359.728,295.936 \n",
       "  361.724,295.243 363.719,294.552 365.714,293.863 367.709,293.176 369.704,292.492 371.699,291.809 373.694,291.13 375.689,290.452 377.685,289.777 379.68,289.103 \n",
       "  381.675,288.432 383.67,287.764 385.665,287.097 387.66,286.433 389.655,285.77 391.651,285.11 393.646,284.452 395.641,283.797 397.636,283.143 399.631,282.491 \n",
       "  401.626,281.842 403.621,281.195 405.617,280.549 407.612,279.906 409.607,279.265 411.602,278.626 413.597,277.989 415.592,277.354 417.587,276.721 419.583,276.09 \n",
       "  421.578,275.461 423.573,274.834 425.568,274.209 427.563,273.586 429.558,272.965 431.553,272.346 433.549,271.729 435.544,271.114 437.539,270.501 439.534,269.889 \n",
       "  441.529,269.28 443.524,268.673 445.519,268.067 447.515,267.463 449.51,266.862 451.505,266.262 453.5,265.664 455.495,265.068 457.49,264.473 459.485,263.881 \n",
       "  461.481,263.29 463.476,262.701 465.471,262.114 467.466,261.529 469.461,260.946 471.456,260.364 473.451,259.784 475.447,259.206 477.442,258.63 479.437,258.056 \n",
       "  481.432,257.483 483.427,256.912 485.422,256.343 487.417,255.775 489.413,255.209 491.408,254.645 493.403,254.083 495.398,253.522 497.393,252.963 499.388,252.406 \n",
       "  501.383,251.85 503.379,251.297 505.374,250.744 507.369,250.194 509.364,249.645 511.359,249.098 513.354,248.552 515.349,248.008 517.345,247.466 519.34,246.925 \n",
       "  521.335,246.386 523.33,245.848 525.325,245.312 527.32,244.778 529.315,244.245 531.311,243.714 533.306,243.185 535.301,242.657 537.296,242.13 539.291,241.605 \n",
       "  541.286,241.082 543.281,240.56 545.277,240.04 547.272,239.521 549.267,239.004 551.262,238.489 553.257,237.974 555.252,237.462 557.247,236.951 559.243,236.441 \n",
       "  561.238,235.933 563.233,235.426 565.228,234.921 567.223,234.417 569.218,233.915 571.213,233.414 573.209,232.915 575.204,232.417 577.199,231.921 579.194,231.426 \n",
       "  581.189,230.932 583.184,230.44 585.179,229.949 587.175,229.46 589.17,228.972 591.165,228.486 593.16,228.001 595.155,227.517 597.15,227.035 599.145,226.554 \n",
       "  601.141,226.075 603.136,225.596 605.131,225.12 607.126,224.644 609.121,224.17 611.116,223.698 613.111,223.226 615.107,222.756 617.102,222.288 619.097,221.821 \n",
       "  621.092,221.355 623.087,220.89 625.082,220.427 627.077,219.965 629.073,219.504 631.068,219.045 633.063,218.587 635.058,218.13 637.053,217.675 639.048,217.22 \n",
       "  641.043,216.768 643.039,216.316 645.034,215.866 647.029,215.417 649.024,214.969 651.019,214.522 653.014,214.077 655.009,213.633 657.005,213.19 659,212.749 \n",
       "  660.995,212.308 662.99,211.869 664.985,211.432 666.98,210.995 668.975,210.56 670.971,210.126 672.966,209.693 674.961,209.261 676.956,208.831 678.951,208.401 \n",
       "  680.946,207.973 682.941,207.546 684.937,207.121 686.932,206.696 688.927,206.273 690.922,205.851 692.917,205.43 694.912,205.01 696.907,204.591 698.903,204.174 \n",
       "  700.898,203.757 702.893,203.342 704.888,202.928 706.883,202.515 708.878,202.104 710.873,201.693 712.869,201.284 714.864,200.875 716.859,200.468 718.854,200.062 \n",
       "  720.849,199.657 722.844,199.253 724.839,198.851 726.835,198.449 728.83,198.049 730.825,197.649 732.82,197.251 734.815,196.854 736.81,196.458 738.805,196.063 \n",
       "  740.801,195.669 742.796,195.276 744.791,194.884 746.786,194.494 748.781,194.104 750.776,193.716 752.771,193.328 754.767,192.942 756.762,192.557 758.757,192.172 \n",
       "  760.752,191.789 762.747,191.407 764.742,191.026 766.737,190.646 768.733,190.267 770.728,189.889 772.723,189.512 774.718,189.136 776.713,188.761 778.708,188.387 \n",
       "  780.703,188.014 782.699,187.643 784.694,187.272 786.689,186.902 788.684,186.533 790.679,186.165 792.674,185.799 794.669,185.433 796.665,185.068 798.66,184.704 \n",
       "  800.655,184.342 802.65,183.98 804.645,183.619 806.64,183.259 808.635,182.9 810.631,182.543 812.626,182.186 814.621,181.83 816.616,181.475 818.611,181.121 \n",
       "  820.606,180.768 822.601,180.416 824.597,180.065 826.592,179.715 828.587,179.366 830.582,179.017 832.577,178.67 834.572,178.324 836.567,177.978 838.563,177.634 \n",
       "  840.558,177.29 842.553,176.948 844.548,176.606 846.543,176.266 848.538,175.926 850.533,175.587 852.529,175.249 854.524,174.912 856.519,174.576 858.514,174.241 \n",
       "  860.509,173.906 862.504,173.573 864.499,173.241 866.495,172.909 868.49,172.578 870.485,172.249 872.48,171.92 874.475,171.592 876.47,171.265 878.465,170.939 \n",
       "  880.461,170.613 882.456,170.289 884.451,169.966 886.446,169.643 888.441,169.321 890.436,169 892.431,168.68 894.427,168.361 896.422,168.043 898.417,167.726 \n",
       "  900.412,167.409 902.407,167.093 904.402,166.779 906.397,166.465 908.393,166.152 910.388,165.839 912.383,165.528 914.378,165.218 916.373,164.908 918.368,164.599 \n",
       "  920.363,164.291 922.359,163.984 924.354,163.678 926.349,163.372 928.344,163.068 930.339,162.764 932.334,162.461 934.329,162.159 936.325,161.858 938.32,161.557 \n",
       "  940.315,161.257 942.31,160.959 944.305,160.661 946.3,160.363 948.295,160.067 950.291,159.771 952.286,159.477 954.281,159.183 956.276,158.89 958.271,158.597 \n",
       "  960.266,158.306 962.261,158.015 964.257,157.725 966.252,157.436 968.247,157.148 970.242,156.86 972.237,156.574 974.232,156.288 976.227,156.003 978.223,155.718 \n",
       "  980.218,155.435 982.213,155.152 984.208,154.87 986.203,154.589 988.198,154.308 990.193,154.029 992.188,153.75 994.184,153.472 996.179,153.194 998.174,152.918 \n",
       "  1000.17,152.642 1002.16,152.367 1004.16,152.093 1006.15,151.819 1008.15,151.546 1010.14,151.274 1012.14,151.003 1014.14,150.733 1016.13,150.463 1018.13,150.194 \n",
       "  1020.12,149.926 1022.12,149.659 1024.11,149.392 1026.11,149.126 1028.1,148.861 1030.1,148.596 1032.09,148.333 1034.09,148.07 1036.08,147.807 1038.08,147.546 \n",
       "  1040.07,147.285 1042.07,147.025 1044.06,146.766 1046.06,146.507 1048.05,146.25 1050.05,145.993 1052.04,145.736 1054.04,145.481 1056.03,145.226 1058.03,144.971 \n",
       "  1060.02,144.718 1062.02,144.465 1064.01,144.213 1066.01,143.962 1068,143.711 1070,143.462 1071.99,143.213 1073.99,142.964 1075.98,142.716 1077.98,142.469 \n",
       "  1079.97,142.223 1081.97,141.978 1083.97,141.733 1085.96,141.488 1087.96,141.245 1089.95,141.002 1091.95,140.76 1093.94,140.519 1095.94,140.278 1097.93,140.038 \n",
       "  1099.93,139.799 1101.92,139.56 1103.92,139.323 1105.91,139.085 1107.91,138.849 1109.9,138.613 1111.9,138.378 1113.89,138.144 1115.89,137.91 1117.88,137.677 \n",
       "  1119.88,137.445 1121.87,137.213 1123.87,136.982 1125.86,136.752 1127.86,136.522 1129.85,136.293 1131.85,136.065 1133.84,135.837 1135.84,135.61 1137.83,135.384 \n",
       "  1139.83,135.158 1141.82,134.934 1143.82,134.709 1145.81,134.486 1147.81,134.263 1149.8,134.041 1151.8,133.819 1153.8,133.598 1155.79,133.378 1157.79,133.159 \n",
       "  1159.78,132.94 1161.78,132.721 1163.77,132.504 1165.77,132.287 1167.76,132.071 1169.76,131.855 1171.75,131.64 1173.75,131.426 1175.74,131.212 1177.74,130.999 \n",
       "  1179.73,130.787 1181.73,130.576 1183.72,130.365 1185.72,130.154 1187.71,129.945 1189.71,129.735 1191.7,129.527 1193.7,129.319 1195.69,129.112 1197.69,128.906 \n",
       "  1199.68,128.7 1201.68,128.495 1203.67,128.29 1205.67,128.086 1207.66,127.883 1209.66,127.681 1211.65,127.479 1213.65,127.277 1215.64,127.077 1217.64,126.877 \n",
       "  1219.63,126.677 1221.63,126.478 1223.63,126.28 1225.62,126.083 1227.62,125.886 1229.61,125.69 1231.61,125.494 1233.6,125.299 1235.6,125.105 1237.59,124.911 \n",
       "  1239.59,124.718 1241.58,124.526 1243.58,124.334 1245.57,124.143 1247.57,123.952 1249.56,123.762 1251.56,123.573 1253.55,123.384 1255.55,123.196 1257.54,123.009 \n",
       "  1259.54,122.822 1261.53,122.636 1263.53,122.45 1265.52,122.265 1267.52,122.081 1269.51,121.897 1271.51,121.714 1273.5,121.532 1275.5,121.35 1277.49,121.168 \n",
       "  1279.49,120.988 1281.48,120.808 1283.48,120.628 1285.47,120.45 1287.47,120.271 1289.46,120.094 1291.46,119.917 1293.46,119.741 1295.45,119.565 1297.45,119.39 \n",
       "  1299.44,119.215 1301.44,119.041 1303.43,118.868 1305.43,118.695 1307.42,118.523 1309.42,118.352 1311.41,118.181 1313.41,118.011 1315.4,117.841 1317.4,117.672 \n",
       "  1319.39,117.504 1321.39,117.336 1323.38,117.169 1325.38,117.002 1327.37,116.836 1329.37,116.671 1331.36,116.506 1333.36,116.342 1335.35,116.178 1337.35,116.015 \n",
       "  1339.34,115.853 1341.34,115.691 1343.33,115.53 1345.33,115.37 1347.32,115.21 1349.32,115.05 1351.31,114.891 1353.31,114.733 1355.3,114.576 1357.3,114.419 \n",
       "  1359.29,114.262 1361.29,114.107 1363.28,113.951 1365.28,113.797 1367.28,113.643 1369.27,113.49 1371.27,113.337 1373.26,113.185 1375.26,113.033 1377.25,112.882 \n",
       "  1379.25,112.732 1381.24,112.582 1383.24,112.433 1385.23,112.284 1387.23,112.136 1389.22,111.989 1391.22,111.842 1393.21,111.696 1395.21,111.55 1397.2,111.405 \n",
       "  1399.2,111.26 1401.19,111.117 1403.19,110.973 1405.18,110.831 1407.18,110.689 1409.17,110.547 1411.17,110.406 1413.16,110.266 1415.16,110.126 1417.15,109.987 \n",
       "  1419.15,109.849 1421.14,109.711 1423.14,109.573 1425.13,109.437 1427.13,109.3 1429.12,109.165 1431.12,109.03 1433.11,108.896 1435.11,108.762 1437.11,108.629 \n",
       "  1439.1,108.496 1441.1,108.364 1443.09,108.233 1445.09,108.102 1447.08,107.972 1449.08,107.842 1451.07,107.713 1453.07,107.584 1455.06,107.457 1457.06,107.329 \n",
       "  1459.05,107.203 1461.05,107.077 1463.04,106.951 1465.04,106.826 1467.03,106.702 1469.03,106.578 1471.02,106.455 1473.02,106.333 1475.01,106.211 1477.01,106.089 \n",
       "  1479,105.969 1481,105.848 1482.99,105.729 1484.99,105.61 1486.98,105.492 1488.98,105.374 1490.97,105.257 1492.97,105.14 1494.96,105.024 1496.96,104.909 \n",
       "  1498.95,104.794 1500.95,104.68 1502.94,104.566 1504.94,104.453 1506.94,104.341 1508.93,104.229 1510.93,104.118 1512.92,104.007 1514.92,103.897 1516.91,103.787 \n",
       "  1518.91,103.679 1520.9,103.57 1522.9,103.463 1524.89,103.356 1526.89,103.249 1528.88,103.143 1530.88,103.038 1532.87,102.933 1534.87,102.829 1536.86,102.726 \n",
       "  1538.86,102.623 1540.85,102.521 1542.85,102.419 1544.84,102.318 1546.84,102.218 1548.83,102.118 1550.83,102.019 1552.82,101.92 1554.82,101.822 1556.81,101.725 \n",
       "  1558.81,101.628 1560.8,101.532 1562.8,101.436 1564.79,101.341 1566.79,101.247 1568.78,101.153 1570.78,101.06 1572.77,100.967 1574.77,100.875 1576.77,100.784 \n",
       "  1578.76,100.693 1580.76,100.603 1582.75,100.513 1584.75,100.424 1586.74,100.336 1588.74,100.248 1590.73,100.161 1592.73,100.075 1594.72,99.9891 1596.72,99.9039 \n",
       "  1598.71,99.8192 1600.71,99.7353 1602.7,99.6519 1604.7,99.5691 1606.69,99.487 1608.69,99.4055 1610.68,99.3246 1612.68,99.2443 1614.67,99.1647 1616.67,99.0857 \n",
       "  1618.66,99.0073 1620.66,98.9295 1622.65,98.8523 1624.65,98.7758 1626.64,98.6999 1628.64,98.6246 1630.63,98.55 1632.63,98.476 1634.62,98.4026 1636.62,98.3298 \n",
       "  1638.61,98.2577 1640.61,98.1862 1642.6,98.1154 1644.6,98.0452 1646.6,97.9756 1648.59,97.9066 1650.59,97.8383 1652.58,97.7707 1654.58,97.7036 1656.57,97.6372 \n",
       "  1658.57,97.5715 1660.56,97.5064 1662.56,97.4419 1664.55,97.3781 1666.55,97.3149 1668.54,97.2524 1670.54,97.1906 1672.53,97.1293 1674.53,97.0688 1676.52,97.0088 \n",
       "  1678.52,96.9496 1680.51,96.8909 1682.51,96.833 1684.5,96.7757 1686.5,96.719 1688.49,96.663 1690.49,96.6077 1692.48,96.5531 1694.48,96.499 1696.47,96.4457 \n",
       "  1698.47,96.393 1700.46,96.341 1702.46,96.2897 1704.45,96.239 1706.45,96.189 1708.44,96.1397 1710.44,96.091 1712.43,96.0431 1714.43,95.9958 1716.43,95.9491 \n",
       "  1718.42,95.9032 1720.42,95.8579 1722.41,95.8133 1724.41,95.7694 1726.4,95.7262 1728.4,95.6837 1730.39,95.6419 1732.39,95.6007 1734.38,95.5603 1736.38,95.5205 \n",
       "  1738.37,95.4814 1740.37,95.4431 1742.36,95.4054 1744.36,95.3684 1746.35,95.3322 1748.35,95.2966 1750.34,95.2618 1752.34,95.2276 1754.33,95.1942 1756.33,95.1615 \n",
       "  1758.32,95.1294 1760.32,95.0981 1762.31,95.0676 1764.31,95.0377 1766.3,95.0086 1768.3,94.9801 1770.29,94.9525 1772.29,94.9255 1774.28,94.8993 1776.28,94.8738 \n",
       "  1778.27,94.849 1780.27,94.825 1782.26,94.8017 1784.26,94.7791 1786.26,94.7573 1788.25,94.7363 1790.25,94.7159 1792.24,94.6964 1794.24,94.6776 1796.23,94.6595 \n",
       "  1798.23,94.6422 1800.22,94.6257 1802.22,94.6099 1804.21,94.5949 1806.21,94.5806 1808.2,94.5671 1810.2,94.5544 1812.19,94.5425 1814.19,94.5314 1816.18,94.521 \n",
       "  1818.18,94.5114 1820.17,94.5026 1822.17,94.4946 1824.16,94.4874 1826.16,94.481 1828.15,94.4753 1830.15,94.4705 1832.14,94.4665 1834.14,94.4633 1836.13,94.4609 \n",
       "  1838.13,94.4593 1840.12,94.4585 1842.12,94.4586 1844.11,94.4594 1846.11,94.4611 1848.1,94.4637 1850.1,94.467 1852.09,94.4713 1854.09,94.4763 1856.09,94.4822 \n",
       "  1858.08,94.4889 1860.08,94.4965 1862.07,94.505 1864.07,94.5143 1866.06,94.5245 1868.06,94.5355 1870.05,94.5474 1872.05,94.5602 1874.04,94.5739 1876.04,94.5884 \n",
       "  1878.03,94.6039 1880.03,94.6202 1882.02,94.6375 1884.02,94.6556 1886.01,94.6746 1888.01,94.6946 1890,94.7155 1892,94.7373 1893.99,94.76 1895.99,94.7836 \n",
       "  1897.98,94.8082 1899.98,94.8338 1901.97,94.8603 1903.97,94.8877 1905.96,94.9161 1907.96,94.9454 1909.95,94.9758 1911.95,95.0071 1913.94,95.0393 1915.94,95.0726 \n",
       "  1917.93,95.1069 1919.93,95.1421 1921.92,95.1784 1923.92,95.2157 1925.92,95.2539 1927.91,95.2933 1929.91,95.3336 1931.9,95.375 1933.9,95.4174 1935.89,95.4609 \n",
       "  1937.89,95.5055 1939.88,95.5511 1941.88,95.5978 1943.87,95.6456 1945.87,95.6944 1947.86,95.7444 1949.86,95.7955 1951.85,95.8476 1953.85,95.901 1955.84,95.9554 \n",
       "  1957.84,96.011 1959.83,96.0677 1961.83,96.1256 1963.82,96.1847 1965.82,96.245 1967.81,96.3064 1969.81,96.3691 1971.8,96.4329 1973.8,96.498 1975.79,96.5643 \n",
       "  1977.79,96.6319 1979.78,96.7007 1981.78,96.7708 1983.77,96.8421 1985.77,96.9148 1987.76,96.9888 1989.76,97.064 1991.75,97.1407 1993.75,97.2186 1995.75,97.2979 \n",
       "  1997.74,97.3786 1999.74,97.4607 2001.73,97.5442 2003.73,97.6291 2005.72,97.7154 2007.72,97.8032 2009.71,97.8925 2011.71,97.9833 2013.7,98.0755 2015.7,98.1693 \n",
       "  2017.69,98.2646 2019.69,98.3615 2021.68,98.46 2023.68,98.56 2025.67,98.6617 2027.67,98.7651 2029.66,98.8701 2031.66,98.9768 2033.65,99.0852 2035.65,99.1953 \n",
       "  2037.64,99.3072 2039.64,99.4209 2041.63,99.5365 2043.63,99.6538 2045.62,99.7731 2047.62,99.8942 2049.61,100.017 2051.61,100.142 2053.6,100.269 2055.6,100.398 \n",
       "  2057.59,100.53 2059.59,100.663 2061.58,100.798 2063.58,100.936 2065.58,101.076 2067.57,101.218 2069.57,101.362 2071.56,101.509 2073.56,101.658 2075.55,101.81 \n",
       "  2077.55,101.964 2079.54,102.12 2081.54,102.28 2083.53,102.441 2085.53,102.606 2087.52,102.774 2089.52,102.944 2091.51,103.117 2093.51,103.293 2095.5,103.472 \n",
       "  2097.5,103.655 2099.49,103.84 2101.49,104.029 2103.48,104.221 2105.48,104.417 2107.47,104.616 2109.47,104.819 2111.46,105.026 2113.46,105.236 2115.45,105.451 \n",
       "  2117.45,105.669 2119.44,105.892 2121.44,106.119 2123.43,106.35 2125.43,106.587 2127.42,106.828 2129.42,107.073 2131.41,107.324 2133.41,107.581 2135.41,107.842 \n",
       "  2137.4,108.11 2139.4,108.383 2141.39,108.662 2143.39,108.947 2145.38,109.239 2147.38,109.538 2149.37,109.844 2151.37,110.157 2153.36,110.477 2155.36,110.806 \n",
       "  2157.35,111.142 2159.35,111.488 2161.34,111.842 2163.34,112.206 2165.33,112.579 2167.33,112.963 2169.32,113.358 2171.32,113.764 2173.31,114.182 2175.31,114.612 \n",
       "  2177.3,115.055 2179.3,115.512 2181.29,115.983 2183.29,116.47 2185.28,116.973 2187.28,117.493 2189.27,118.031 2191.27,118.588 2193.26,119.165 2195.26,119.764 \n",
       "  2197.25,120.385 2199.25,121.031 2201.24,121.703 2203.24,122.402 2205.24,123.131 2207.23,123.892 2209.23,124.687 2211.22,125.518 2213.22,126.388 2215.21,127.3 \n",
       "  2217.21,128.259 2219.2,129.266 2221.2,130.327 2223.19,131.447 2225.19,132.629 2227.18,133.881 2229.18,135.209 2231.17,136.619 2233.17,138.121 2235.16,139.724 \n",
       "  2237.16,141.438 2239.15,143.276 2241.15,145.252 2243.14,147.383 2245.14,149.687 2247.13,152.187 2249.13,154.909 2251.12,157.884 2253.12,161.149 2255.11,164.749 \n",
       "  2257.11,168.736 2259.1,173.177 2261.1,178.153 2263.09,183.764 2265.09,190.139 2267.08,197.442 2269.08,205.887 2271.07,215.756 2273.07,227.435 2275.07,241.459 \n",
       "  2277.06,258.59 2279.06,279.961 2281.05,307.319 2283.05,343.511 2285.04,393.503 2287.04,466.804 2289.03,584.173 2291.03,801.406 2293.02,1340.86 \n",
       "  \"/>\n",
       "<circle clip-path=\"url(#clip102)\" cx=\"1841\" cy=\"86.1857\" r=\"14.4\" fill=\"#ff0000\" fill-rule=\"evenodd\" fill-opacity=\"1\" stroke=\"#000000\" stroke-opacity=\"1\" stroke-width=\"3.2\"/>\n",
       "<path clip-path=\"url(#clip100)\" d=\"\n",
       "M312.489 1377.32 L943.806 1377.32 L943.806 1118.12 L312.489 1118.12  Z\n",
       "  \" fill=\"#ffffff\" fill-rule=\"evenodd\" fill-opacity=\"1\"/>\n",
       "<polyline clip-path=\"url(#clip100)\" style=\"stroke:#000000; stroke-linecap:round; stroke-linejoin:round; stroke-width:4; stroke-opacity:1; fill:none\" points=\"\n",
       "  312.489,1377.32 943.806,1377.32 943.806,1118.12 312.489,1118.12 312.489,1377.32 \n",
       "  \"/>\n",
       "<polyline clip-path=\"url(#clip100)\" style=\"stroke:#0000ff; stroke-linecap:round; stroke-linejoin:round; stroke-width:4; stroke-opacity:1; fill:none\" points=\"\n",
       "  335.94,1169.96 476.648,1169.96 \n",
       "  \"/>\n",
       "<path clip-path=\"url(#clip100)\" d=\"M500.099 1152.68 L504.775 1152.68 L504.775 1187.24 L500.099 1187.24 L500.099 1152.68 Z\" fill=\"#000000\" fill-rule=\"evenodd\" fill-opacity=\"1\" /><path clip-path=\"url(#clip100)\" d=\"M535.447 1171.59 L535.447 1187.24 L531.187 1187.24 L531.187 1171.73 Q531.187 1168.05 529.752 1166.22 Q528.317 1164.39 525.447 1164.39 Q521.998 1164.39 520.007 1166.59 Q518.016 1168.79 518.016 1172.58 L518.016 1187.24 L513.734 1187.24 L513.734 1161.31 L518.016 1161.31 L518.016 1165.34 Q519.544 1163 521.604 1161.84 Q523.687 1160.68 526.396 1160.68 Q530.863 1160.68 533.155 1163.46 Q535.447 1166.22 535.447 1171.59 Z\" fill=\"#000000\" fill-rule=\"evenodd\" fill-opacity=\"1\" /><path clip-path=\"url(#clip100)\" d=\"M548.155 1153.95 L548.155 1161.31 L556.928 1161.31 L556.928 1164.62 L548.155 1164.62 L548.155 1178.69 Q548.155 1181.86 549.011 1182.77 Q549.891 1183.67 552.553 1183.67 L556.928 1183.67 L556.928 1187.24 L552.553 1187.24 Q547.622 1187.24 545.747 1185.41 Q543.872 1183.55 543.872 1178.69 L543.872 1164.62 L540.747 1164.62 L540.747 1161.31 L543.872 1161.31 L543.872 1153.95 L548.155 1153.95 Z\" fill=\"#000000\" fill-rule=\"evenodd\" fill-opacity=\"1\" /><path clip-path=\"url(#clip100)\" d=\"M584.706 1173.21 L584.706 1175.29 L565.122 1175.29 Q565.4 1179.69 567.761 1182 Q570.145 1184.3 574.381 1184.3 Q576.835 1184.3 579.127 1183.69 Q581.442 1183.09 583.71 1181.89 L583.71 1185.92 Q581.418 1186.89 579.011 1187.4 Q576.604 1187.91 574.127 1187.91 Q567.923 1187.91 564.289 1184.3 Q560.678 1180.68 560.678 1174.53 Q560.678 1168.16 564.104 1164.43 Q567.553 1160.68 573.386 1160.68 Q578.618 1160.68 581.65 1164.06 Q584.706 1167.42 584.706 1173.21 M580.446 1171.96 Q580.4 1168.46 578.479 1166.38 Q576.581 1164.3 573.432 1164.3 Q569.868 1164.3 567.715 1166.31 Q565.585 1168.32 565.261 1171.98 L580.446 1171.96 Z\" fill=\"#000000\" fill-rule=\"evenodd\" fill-opacity=\"1\" /><path clip-path=\"url(#clip100)\" d=\"M606.719 1165.29 Q606.002 1164.87 605.145 1164.69 Q604.312 1164.48 603.293 1164.48 Q599.682 1164.48 597.738 1166.84 Q595.817 1169.18 595.817 1173.58 L595.817 1187.24 L591.534 1187.24 L591.534 1161.31 L595.817 1161.31 L595.817 1165.34 Q597.159 1162.98 599.312 1161.84 Q601.465 1160.68 604.543 1160.68 Q604.983 1160.68 605.516 1160.75 Q606.048 1160.8 606.696 1160.92 L606.719 1165.29 Z\" fill=\"#000000\" fill-rule=\"evenodd\" fill-opacity=\"1\" /><path clip-path=\"url(#clip100)\" d=\"M628.802 1162.3 L628.802 1166.29 Q626.997 1165.29 625.168 1164.8 Q623.363 1164.3 621.511 1164.3 Q617.367 1164.3 615.076 1166.93 Q612.784 1169.55 612.784 1174.3 Q612.784 1179.04 615.076 1181.68 Q617.367 1184.3 621.511 1184.3 Q623.363 1184.3 625.168 1183.81 Q626.997 1183.3 628.802 1182.3 L628.802 1186.24 Q627.02 1187.07 625.099 1187.49 Q623.201 1187.91 621.048 1187.91 Q615.191 1187.91 611.742 1184.23 Q608.293 1180.55 608.293 1174.3 Q608.293 1167.95 611.766 1164.32 Q615.261 1160.68 621.326 1160.68 Q623.293 1160.68 625.168 1161.1 Q627.043 1161.49 628.802 1162.3 Z\" fill=\"#000000\" fill-rule=\"evenodd\" fill-opacity=\"1\" /><path clip-path=\"url(#clip100)\" d=\"M658.386 1173.21 L658.386 1175.29 L638.802 1175.29 Q639.08 1179.69 641.441 1182 Q643.826 1184.3 648.062 1184.3 Q650.515 1184.3 652.807 1183.69 Q655.122 1183.09 657.39 1181.89 L657.39 1185.92 Q655.099 1186.89 652.691 1187.4 Q650.284 1187.91 647.807 1187.91 Q641.603 1187.91 637.969 1184.3 Q634.358 1180.68 634.358 1174.53 Q634.358 1168.16 637.784 1164.43 Q641.233 1160.68 647.066 1160.68 Q652.298 1160.68 655.33 1164.06 Q658.386 1167.42 658.386 1173.21 M654.126 1171.96 Q654.08 1168.46 652.159 1166.38 Q650.261 1164.3 647.113 1164.3 Q643.548 1164.3 641.395 1166.31 Q639.265 1168.32 638.941 1171.98 L654.126 1171.96 Z\" fill=\"#000000\" fill-rule=\"evenodd\" fill-opacity=\"1\" /><path clip-path=\"url(#clip100)\" d=\"M669.497 1183.35 L669.497 1197.1 L665.214 1197.1 L665.214 1161.31 L669.497 1161.31 L669.497 1165.24 Q670.839 1162.93 672.876 1161.82 Q674.937 1160.68 677.784 1160.68 Q682.506 1160.68 685.446 1164.43 Q688.409 1168.18 688.409 1174.3 Q688.409 1180.41 685.446 1184.16 Q682.506 1187.91 677.784 1187.91 Q674.937 1187.91 672.876 1186.8 Q670.839 1185.66 669.497 1183.35 M683.987 1174.3 Q683.987 1169.6 682.043 1166.93 Q680.122 1164.25 676.742 1164.25 Q673.362 1164.25 671.418 1166.93 Q669.497 1169.6 669.497 1174.3 Q669.497 1178.99 671.418 1181.68 Q673.362 1184.34 676.742 1184.34 Q680.122 1184.34 682.043 1181.68 Q683.987 1178.99 683.987 1174.3 Z\" fill=\"#000000\" fill-rule=\"evenodd\" fill-opacity=\"1\" /><path clip-path=\"url(#clip100)\" d=\"M699.682 1153.95 L699.682 1161.31 L708.455 1161.31 L708.455 1164.62 L699.682 1164.62 L699.682 1178.69 Q699.682 1181.86 700.538 1182.77 Q701.418 1183.67 704.08 1183.67 L708.455 1183.67 L708.455 1187.24 L704.08 1187.24 Q699.149 1187.24 697.274 1185.41 Q695.399 1183.55 695.399 1178.69 L695.399 1164.62 L692.274 1164.62 L692.274 1161.31 L695.399 1161.31 L695.399 1153.95 L699.682 1153.95 Z\" fill=\"#000000\" fill-rule=\"evenodd\" fill-opacity=\"1\" /><circle clip-path=\"url(#clip100)\" cx=\"406.294\" cy=\"1221.8\" r=\"23.04\" fill=\"#0000ff\" fill-rule=\"evenodd\" fill-opacity=\"1\" stroke=\"#000000\" stroke-opacity=\"1\" stroke-width=\"5.12\"/>\n",
       "<path clip-path=\"url(#clip100)\" d=\"M520.447 1218.13 Q522.044 1215.26 524.266 1213.89 Q526.488 1212.52 529.497 1212.52 Q533.548 1212.52 535.747 1215.37 Q537.947 1218.2 537.947 1223.43 L537.947 1239.08 L533.664 1239.08 L533.664 1223.57 Q533.664 1219.84 532.345 1218.03 Q531.025 1216.23 528.317 1216.23 Q525.007 1216.23 523.085 1218.43 Q521.164 1220.63 521.164 1224.42 L521.164 1239.08 L516.882 1239.08 L516.882 1223.57 Q516.882 1219.82 515.562 1218.03 Q514.243 1216.23 511.488 1216.23 Q508.224 1216.23 506.303 1218.45 Q504.382 1220.65 504.382 1224.42 L504.382 1239.08 L500.099 1239.08 L500.099 1213.15 L504.382 1213.15 L504.382 1217.18 Q505.84 1214.79 507.877 1213.66 Q509.914 1212.52 512.715 1212.52 Q515.539 1212.52 517.507 1213.96 Q519.498 1215.39 520.447 1218.13 Z\" fill=\"#000000\" fill-rule=\"evenodd\" fill-opacity=\"1\" /><path clip-path=\"url(#clip100)\" d=\"M558.224 1226.04 Q553.062 1226.04 551.071 1227.22 Q549.081 1228.4 549.081 1231.25 Q549.081 1233.52 550.562 1234.86 Q552.067 1236.18 554.636 1236.18 Q558.178 1236.18 560.307 1233.68 Q562.46 1231.16 562.46 1226.99 L562.46 1226.04 L558.224 1226.04 M566.719 1224.28 L566.719 1239.08 L562.46 1239.08 L562.46 1235.14 Q561.002 1237.5 558.826 1238.64 Q556.65 1239.75 553.502 1239.75 Q549.521 1239.75 547.159 1237.52 Q544.821 1235.28 544.821 1231.53 Q544.821 1227.15 547.738 1224.93 Q550.678 1222.71 556.488 1222.71 L562.46 1222.71 L562.46 1222.29 Q562.46 1219.35 560.516 1217.76 Q558.595 1216.14 555.099 1216.14 Q552.877 1216.14 550.771 1216.67 Q548.664 1217.2 546.72 1218.27 L546.72 1214.33 Q549.058 1213.43 551.257 1212.99 Q553.456 1212.52 555.539 1212.52 Q561.164 1212.52 563.942 1215.44 Q566.719 1218.36 566.719 1224.28 Z\" fill=\"#000000\" fill-rule=\"evenodd\" fill-opacity=\"1\" /><path clip-path=\"url(#clip100)\" d=\"M597.043 1213.15 L587.668 1225.77 L597.53 1239.08 L592.506 1239.08 L584.96 1228.89 L577.414 1239.08 L572.391 1239.08 L582.46 1225.51 L573.247 1213.15 L578.27 1213.15 L585.145 1222.39 L592.02 1213.15 L597.043 1213.15 Z\" fill=\"#000000\" fill-rule=\"evenodd\" fill-opacity=\"1\" /><path clip-path=\"url(#clip100)\" d=\"M603.548 1213.15 L607.807 1213.15 L607.807 1239.08 L603.548 1239.08 L603.548 1213.15 M603.548 1203.06 L607.807 1203.06 L607.807 1208.45 L603.548 1208.45 L603.548 1203.06 Z\" fill=\"#000000\" fill-rule=\"evenodd\" fill-opacity=\"1\" /><path clip-path=\"url(#clip100)\" d=\"M636.904 1218.13 Q638.502 1215.26 640.724 1213.89 Q642.946 1212.52 645.955 1212.52 Q650.006 1212.52 652.205 1215.37 Q654.404 1218.2 654.404 1223.43 L654.404 1239.08 L650.122 1239.08 L650.122 1223.57 Q650.122 1219.84 648.802 1218.03 Q647.483 1216.23 644.775 1216.23 Q641.464 1216.23 639.543 1218.43 Q637.622 1220.63 637.622 1224.42 L637.622 1239.08 L633.34 1239.08 L633.34 1223.57 Q633.34 1219.82 632.02 1218.03 Q630.701 1216.23 627.946 1216.23 Q624.682 1216.23 622.761 1218.45 Q620.84 1220.65 620.84 1224.42 L620.84 1239.08 L616.557 1239.08 L616.557 1213.15 L620.84 1213.15 L620.84 1217.18 Q622.298 1214.79 624.335 1213.66 Q626.372 1212.52 629.173 1212.52 Q631.997 1212.52 633.965 1213.96 Q635.955 1215.39 636.904 1218.13 Z\" fill=\"#000000\" fill-rule=\"evenodd\" fill-opacity=\"1\" /><path clip-path=\"url(#clip100)\" d=\"M662.46 1228.84 L662.46 1213.15 L666.719 1213.15 L666.719 1228.68 Q666.719 1232.36 668.154 1234.21 Q669.589 1236.04 672.46 1236.04 Q675.909 1236.04 677.899 1233.84 Q679.913 1231.64 679.913 1227.85 L679.913 1213.15 L684.173 1213.15 L684.173 1239.08 L679.913 1239.08 L679.913 1235.09 Q678.362 1237.45 676.302 1238.61 Q674.265 1239.75 671.557 1239.75 Q667.089 1239.75 664.775 1236.97 Q662.46 1234.19 662.46 1228.84 M673.177 1212.52 L673.177 1212.52 Z\" fill=\"#000000\" fill-rule=\"evenodd\" fill-opacity=\"1\" /><path clip-path=\"url(#clip100)\" d=\"M713.131 1218.13 Q714.728 1215.26 716.95 1213.89 Q719.172 1212.52 722.182 1212.52 Q726.233 1212.52 728.432 1215.37 Q730.631 1218.2 730.631 1223.43 L730.631 1239.08 L726.348 1239.08 L726.348 1223.57 Q726.348 1219.84 725.029 1218.03 Q723.709 1216.23 721.001 1216.23 Q717.691 1216.23 715.77 1218.43 Q713.848 1220.63 713.848 1224.42 L713.848 1239.08 L709.566 1239.08 L709.566 1223.57 Q709.566 1219.82 708.247 1218.03 Q706.927 1216.23 704.172 1216.23 Q700.909 1216.23 698.987 1218.45 Q697.066 1220.65 697.066 1224.42 L697.066 1239.08 L692.784 1239.08 L692.784 1213.15 L697.066 1213.15 L697.066 1217.18 Q698.524 1214.79 700.561 1213.66 Q702.598 1212.52 705.399 1212.52 Q708.223 1212.52 710.191 1213.96 Q712.182 1215.39 713.131 1218.13 Z\" fill=\"#000000\" fill-rule=\"evenodd\" fill-opacity=\"1\" /><path clip-path=\"url(#clip100)\" d=\"M758.825 1246.95 L758.825 1250.26 L734.195 1250.26 L734.195 1246.95 L758.825 1246.95 Z\" fill=\"#000000\" fill-rule=\"evenodd\" fill-opacity=\"1\" /><path clip-path=\"url(#clip100)\" d=\"M784.38 1223.43 L784.38 1239.08 L780.121 1239.08 L780.121 1223.57 Q780.121 1219.89 778.686 1218.06 Q777.251 1216.23 774.38 1216.23 Q770.931 1216.23 768.941 1218.43 Q766.95 1220.63 766.95 1224.42 L766.95 1239.08 L762.668 1239.08 L762.668 1213.15 L766.95 1213.15 L766.95 1217.18 Q768.478 1214.84 770.538 1213.68 Q772.621 1212.52 775.329 1212.52 Q779.797 1212.52 782.089 1215.3 Q784.38 1218.06 784.38 1223.43 Z\" fill=\"#000000\" fill-rule=\"evenodd\" fill-opacity=\"1\" /><path clip-path=\"url(#clip100)\" d=\"M792.436 1228.84 L792.436 1213.15 L796.695 1213.15 L796.695 1228.68 Q796.695 1232.36 798.13 1234.21 Q799.565 1236.04 802.436 1236.04 Q805.885 1236.04 807.876 1233.84 Q809.889 1231.64 809.889 1227.85 L809.889 1213.15 L814.149 1213.15 L814.149 1239.08 L809.889 1239.08 L809.889 1235.09 Q808.339 1237.45 806.278 1238.61 Q804.241 1239.75 801.533 1239.75 Q797.065 1239.75 794.751 1236.97 Q792.436 1234.19 792.436 1228.84 M803.153 1212.52 L803.153 1212.52 Z\" fill=\"#000000\" fill-rule=\"evenodd\" fill-opacity=\"1\" /><path clip-path=\"url(#clip100)\" d=\"M822.922 1203.06 L827.181 1203.06 L827.181 1239.08 L822.922 1239.08 L822.922 1203.06 Z\" fill=\"#000000\" fill-rule=\"evenodd\" fill-opacity=\"1\" /><path clip-path=\"url(#clip100)\" d=\"M836.093 1203.06 L840.352 1203.06 L840.352 1239.08 L836.093 1239.08 L836.093 1203.06 Z\" fill=\"#000000\" fill-rule=\"evenodd\" fill-opacity=\"1\" /><polyline clip-path=\"url(#clip100)\" style=\"stroke:#ff0000; stroke-linecap:round; stroke-linejoin:round; stroke-width:4; stroke-opacity:1; fill:none\" points=\"\n",
       "  335.94,1273.64 476.648,1273.64 \n",
       "  \"/>\n",
       "<path clip-path=\"url(#clip100)\" d=\"M500.099 1256.36 L504.775 1256.36 L504.775 1290.92 L500.099 1290.92 L500.099 1256.36 Z\" fill=\"#000000\" fill-rule=\"evenodd\" fill-opacity=\"1\" /><path clip-path=\"url(#clip100)\" d=\"M535.447 1275.27 L535.447 1290.92 L531.187 1290.92 L531.187 1275.41 Q531.187 1271.73 529.752 1269.9 Q528.317 1268.07 525.447 1268.07 Q521.998 1268.07 520.007 1270.27 Q518.016 1272.47 518.016 1276.26 L518.016 1290.92 L513.734 1290.92 L513.734 1264.99 L518.016 1264.99 L518.016 1269.02 Q519.544 1266.68 521.604 1265.52 Q523.687 1264.36 526.396 1264.36 Q530.863 1264.36 533.155 1267.14 Q535.447 1269.9 535.447 1275.27 Z\" fill=\"#000000\" fill-rule=\"evenodd\" fill-opacity=\"1\" /><path clip-path=\"url(#clip100)\" d=\"M548.155 1257.63 L548.155 1264.99 L556.928 1264.99 L556.928 1268.3 L548.155 1268.3 L548.155 1282.37 Q548.155 1285.54 549.011 1286.45 Q549.891 1287.35 552.553 1287.35 L556.928 1287.35 L556.928 1290.92 L552.553 1290.92 Q547.622 1290.92 545.747 1289.09 Q543.872 1287.23 543.872 1282.37 L543.872 1268.3 L540.747 1268.3 L540.747 1264.99 L543.872 1264.99 L543.872 1257.63 L548.155 1257.63 Z\" fill=\"#000000\" fill-rule=\"evenodd\" fill-opacity=\"1\" /><path clip-path=\"url(#clip100)\" d=\"M584.706 1276.89 L584.706 1278.97 L565.122 1278.97 Q565.4 1283.37 567.761 1285.68 Q570.145 1287.98 574.381 1287.98 Q576.835 1287.98 579.127 1287.37 Q581.442 1286.77 583.71 1285.57 L583.71 1289.6 Q581.418 1290.57 579.011 1291.08 Q576.604 1291.59 574.127 1291.59 Q567.923 1291.59 564.289 1287.98 Q560.678 1284.36 560.678 1278.21 Q560.678 1271.84 564.104 1268.11 Q567.553 1264.36 573.386 1264.36 Q578.618 1264.36 581.65 1267.74 Q584.706 1271.1 584.706 1276.89 M580.446 1275.64 Q580.4 1272.14 578.479 1270.06 Q576.581 1267.98 573.432 1267.98 Q569.868 1267.98 567.715 1269.99 Q565.585 1272 565.261 1275.66 L580.446 1275.64 Z\" fill=\"#000000\" fill-rule=\"evenodd\" fill-opacity=\"1\" /><path clip-path=\"url(#clip100)\" d=\"M606.719 1268.97 Q606.002 1268.55 605.145 1268.37 Q604.312 1268.16 603.293 1268.16 Q599.682 1268.16 597.738 1270.52 Q595.817 1272.86 595.817 1277.26 L595.817 1290.92 L591.534 1290.92 L591.534 1264.99 L595.817 1264.99 L595.817 1269.02 Q597.159 1266.66 599.312 1265.52 Q601.465 1264.36 604.543 1264.36 Q604.983 1264.36 605.516 1264.43 Q606.048 1264.48 606.696 1264.6 L606.719 1268.97 Z\" fill=\"#000000\" fill-rule=\"evenodd\" fill-opacity=\"1\" /><path clip-path=\"url(#clip100)\" d=\"M628.802 1265.98 L628.802 1269.97 Q626.997 1268.97 625.168 1268.48 Q623.363 1267.98 621.511 1267.98 Q617.367 1267.98 615.076 1270.61 Q612.784 1273.23 612.784 1277.98 Q612.784 1282.72 615.076 1285.36 Q617.367 1287.98 621.511 1287.98 Q623.363 1287.98 625.168 1287.49 Q626.997 1286.98 628.802 1285.98 L628.802 1289.92 Q627.02 1290.75 625.099 1291.17 Q623.201 1291.59 621.048 1291.59 Q615.191 1291.59 611.742 1287.91 Q608.293 1284.23 608.293 1277.98 Q608.293 1271.63 611.766 1268 Q615.261 1264.36 621.326 1264.36 Q623.293 1264.36 625.168 1264.78 Q627.043 1265.17 628.802 1265.98 Z\" fill=\"#000000\" fill-rule=\"evenodd\" fill-opacity=\"1\" /><path clip-path=\"url(#clip100)\" d=\"M658.386 1276.89 L658.386 1278.97 L638.802 1278.97 Q639.08 1283.37 641.441 1285.68 Q643.826 1287.98 648.062 1287.98 Q650.515 1287.98 652.807 1287.37 Q655.122 1286.77 657.39 1285.57 L657.39 1289.6 Q655.099 1290.57 652.691 1291.08 Q650.284 1291.59 647.807 1291.59 Q641.603 1291.59 637.969 1287.98 Q634.358 1284.36 634.358 1278.21 Q634.358 1271.84 637.784 1268.11 Q641.233 1264.36 647.066 1264.36 Q652.298 1264.36 655.33 1267.74 Q658.386 1271.1 658.386 1276.89 M654.126 1275.64 Q654.08 1272.14 652.159 1270.06 Q650.261 1267.98 647.113 1267.98 Q643.548 1267.98 641.395 1269.99 Q639.265 1272 638.941 1275.66 L654.126 1275.64 Z\" fill=\"#000000\" fill-rule=\"evenodd\" fill-opacity=\"1\" /><path clip-path=\"url(#clip100)\" d=\"M669.497 1287.03 L669.497 1300.78 L665.214 1300.78 L665.214 1264.99 L669.497 1264.99 L669.497 1268.92 Q670.839 1266.61 672.876 1265.5 Q674.937 1264.36 677.784 1264.36 Q682.506 1264.36 685.446 1268.11 Q688.409 1271.86 688.409 1277.98 Q688.409 1284.09 685.446 1287.84 Q682.506 1291.59 677.784 1291.59 Q674.937 1291.59 672.876 1290.48 Q670.839 1289.34 669.497 1287.03 M683.987 1277.98 Q683.987 1273.28 682.043 1270.61 Q680.122 1267.93 676.742 1267.93 Q673.362 1267.93 671.418 1270.61 Q669.497 1273.28 669.497 1277.98 Q669.497 1282.67 671.418 1285.36 Q673.362 1288.02 676.742 1288.02 Q680.122 1288.02 682.043 1285.36 Q683.987 1282.67 683.987 1277.98 Z\" fill=\"#000000\" fill-rule=\"evenodd\" fill-opacity=\"1\" /><path clip-path=\"url(#clip100)\" d=\"M699.682 1257.63 L699.682 1264.99 L708.455 1264.99 L708.455 1268.3 L699.682 1268.3 L699.682 1282.37 Q699.682 1285.54 700.538 1286.45 Q701.418 1287.35 704.08 1287.35 L708.455 1287.35 L708.455 1290.92 L704.08 1290.92 Q699.149 1290.92 697.274 1289.09 Q695.399 1287.23 695.399 1282.37 L695.399 1268.3 L692.274 1268.3 L692.274 1264.99 L695.399 1264.99 L695.399 1257.63 L699.682 1257.63 Z\" fill=\"#000000\" fill-rule=\"evenodd\" fill-opacity=\"1\" /><path clip-path=\"url(#clip100)\" d=\"M731.395 1261.19 L731.395 1274.09 L744.288 1274.09 L744.288 1278.02 L731.395 1278.02 L731.395 1290.92 L727.506 1290.92 L727.506 1278.02 L714.612 1278.02 L714.612 1274.09 L727.506 1274.09 L727.506 1261.19 L731.395 1261.19 Z\" fill=\"#000000\" fill-rule=\"evenodd\" fill-opacity=\"1\" /><path clip-path=\"url(#clip100)\" d=\"M777.529 1285.98 L777.529 1276.7 L769.89 1276.7 L769.89 1272.86 L782.158 1272.86 L782.158 1287.7 Q779.45 1289.62 776.186 1290.61 Q772.922 1291.59 769.218 1291.59 Q761.117 1291.59 756.533 1286.86 Q751.973 1282.12 751.973 1273.67 Q751.973 1265.2 756.533 1260.48 Q761.117 1255.73 769.218 1255.73 Q772.598 1255.73 775.63 1256.56 Q778.686 1257.4 781.255 1259.02 L781.255 1263.99 Q778.663 1261.8 775.746 1260.68 Q772.83 1259.57 769.612 1259.57 Q763.269 1259.57 760.075 1263.11 Q756.904 1266.66 756.904 1273.67 Q756.904 1280.66 760.075 1284.2 Q763.269 1287.74 769.612 1287.74 Q772.089 1287.74 774.033 1287.33 Q775.978 1286.89 777.529 1285.98 Z\" fill=\"#000000\" fill-rule=\"evenodd\" fill-opacity=\"1\" /><path clip-path=\"url(#clip100)\" d=\"M810.214 1298.79 L810.214 1302.1 L785.584 1302.1 L785.584 1298.79 L810.214 1298.79 Z\" fill=\"#000000\" fill-rule=\"evenodd\" fill-opacity=\"1\" /><path clip-path=\"url(#clip100)\" d=\"M818.848 1286.98 L835.167 1286.98 L835.167 1290.92 L813.223 1290.92 L813.223 1286.98 Q815.885 1284.23 820.468 1279.6 Q825.075 1274.94 826.255 1273.6 Q828.501 1271.08 829.38 1269.34 Q830.283 1267.58 830.283 1265.89 Q830.283 1263.14 828.338 1261.4 Q826.417 1259.67 823.315 1259.67 Q821.116 1259.67 818.663 1260.43 Q816.232 1261.19 813.454 1262.74 L813.454 1258.02 Q816.278 1256.89 818.732 1256.31 Q821.186 1255.73 823.223 1255.73 Q828.593 1255.73 831.788 1258.42 Q834.982 1261.1 834.982 1265.59 Q834.982 1267.72 834.172 1269.64 Q833.385 1271.54 831.278 1274.13 Q830.7 1274.8 827.598 1278.02 Q824.496 1281.22 818.848 1286.98 Z\" fill=\"#000000\" fill-rule=\"evenodd\" fill-opacity=\"1\" /><path clip-path=\"url(#clip100)\" d=\"M849.01 1286.98 L865.329 1286.98 L865.329 1290.92 L843.385 1290.92 L843.385 1286.98 Q846.047 1284.23 850.63 1279.6 Q855.236 1274.94 856.417 1273.6 Q858.662 1271.08 859.542 1269.34 Q860.445 1267.58 860.445 1265.89 Q860.445 1263.14 858.5 1261.4 Q856.579 1259.67 853.477 1259.67 Q851.278 1259.67 848.824 1260.43 Q846.394 1261.19 843.616 1262.74 L843.616 1258.02 Q846.44 1256.89 848.894 1256.31 Q851.348 1255.73 853.385 1255.73 Q858.755 1255.73 861.949 1258.42 Q865.144 1261.1 865.144 1265.59 Q865.144 1267.72 864.334 1269.64 Q863.547 1271.54 861.44 1274.13 Q860.861 1274.8 857.76 1278.02 Q854.658 1281.22 849.01 1286.98 Z\" fill=\"#000000\" fill-rule=\"evenodd\" fill-opacity=\"1\" /><path clip-path=\"url(#clip100)\" d=\"M875.283 1290.2 L875.283 1285.94 Q877.042 1286.77 878.847 1287.21 Q880.653 1287.65 882.389 1287.65 Q887.019 1287.65 889.449 1284.55 Q891.903 1281.42 892.25 1275.08 Q890.908 1277.07 888.847 1278.14 Q886.787 1279.2 884.287 1279.2 Q879.102 1279.2 876.07 1276.08 Q873.06 1272.93 873.06 1267.49 Q873.06 1262.17 876.209 1258.95 Q879.357 1255.73 884.588 1255.73 Q890.584 1255.73 893.732 1260.34 Q896.903 1264.92 896.903 1273.67 Q896.903 1281.84 893.014 1286.73 Q889.148 1291.59 882.597 1291.59 Q880.838 1291.59 879.033 1291.24 Q877.227 1290.89 875.283 1290.2 M884.588 1275.55 Q887.736 1275.55 889.565 1273.39 Q891.417 1271.24 891.417 1267.49 Q891.417 1263.76 889.565 1261.61 Q887.736 1259.43 884.588 1259.43 Q881.44 1259.43 879.588 1261.61 Q877.759 1263.76 877.759 1267.49 Q877.759 1271.24 879.588 1273.39 Q881.44 1275.55 884.588 1275.55 Z\" fill=\"#000000\" fill-rule=\"evenodd\" fill-opacity=\"1\" /><circle clip-path=\"url(#clip100)\" cx=\"406.294\" cy=\"1325.48\" r=\"23.04\" fill=\"#ff0000\" fill-rule=\"evenodd\" fill-opacity=\"1\" stroke=\"#000000\" stroke-opacity=\"1\" stroke-width=\"5.12\"/>\n",
       "<path clip-path=\"url(#clip100)\" d=\"M520.447 1321.81 Q522.044 1318.94 524.266 1317.57 Q526.488 1316.2 529.497 1316.2 Q533.548 1316.2 535.747 1319.05 Q537.947 1321.88 537.947 1327.11 L537.947 1342.76 L533.664 1342.76 L533.664 1327.25 Q533.664 1323.52 532.345 1321.71 Q531.025 1319.91 528.317 1319.91 Q525.007 1319.91 523.085 1322.11 Q521.164 1324.31 521.164 1328.1 L521.164 1342.76 L516.882 1342.76 L516.882 1327.25 Q516.882 1323.5 515.562 1321.71 Q514.243 1319.91 511.488 1319.91 Q508.224 1319.91 506.303 1322.13 Q504.382 1324.33 504.382 1328.1 L504.382 1342.76 L500.099 1342.76 L500.099 1316.83 L504.382 1316.83 L504.382 1320.86 Q505.84 1318.47 507.877 1317.34 Q509.914 1316.2 512.715 1316.2 Q515.539 1316.2 517.507 1317.64 Q519.498 1319.07 520.447 1321.81 Z\" fill=\"#000000\" fill-rule=\"evenodd\" fill-opacity=\"1\" /><path clip-path=\"url(#clip100)\" d=\"M558.224 1329.72 Q553.062 1329.72 551.071 1330.9 Q549.081 1332.08 549.081 1334.93 Q549.081 1337.2 550.562 1338.54 Q552.067 1339.86 554.636 1339.86 Q558.178 1339.86 560.307 1337.36 Q562.46 1334.84 562.46 1330.67 L562.46 1329.72 L558.224 1329.72 M566.719 1327.96 L566.719 1342.76 L562.46 1342.76 L562.46 1338.82 Q561.002 1341.18 558.826 1342.32 Q556.65 1343.43 553.502 1343.43 Q549.521 1343.43 547.159 1341.2 Q544.821 1338.96 544.821 1335.21 Q544.821 1330.83 547.738 1328.61 Q550.678 1326.39 556.488 1326.39 L562.46 1326.39 L562.46 1325.97 Q562.46 1323.03 560.516 1321.44 Q558.595 1319.82 555.099 1319.82 Q552.877 1319.82 550.771 1320.35 Q548.664 1320.88 546.72 1321.95 L546.72 1318.01 Q549.058 1317.11 551.257 1316.67 Q553.456 1316.2 555.539 1316.2 Q561.164 1316.2 563.942 1319.12 Q566.719 1322.04 566.719 1327.96 Z\" fill=\"#000000\" fill-rule=\"evenodd\" fill-opacity=\"1\" /><path clip-path=\"url(#clip100)\" d=\"M597.043 1316.83 L587.668 1329.45 L597.53 1342.76 L592.506 1342.76 L584.96 1332.57 L577.414 1342.76 L572.391 1342.76 L582.46 1329.19 L573.247 1316.83 L578.27 1316.83 L585.145 1326.07 L592.02 1316.83 L597.043 1316.83 Z\" fill=\"#000000\" fill-rule=\"evenodd\" fill-opacity=\"1\" /><path clip-path=\"url(#clip100)\" d=\"M603.548 1316.83 L607.807 1316.83 L607.807 1342.76 L603.548 1342.76 L603.548 1316.83 M603.548 1306.74 L607.807 1306.74 L607.807 1312.13 L603.548 1312.13 L603.548 1306.74 Z\" fill=\"#000000\" fill-rule=\"evenodd\" fill-opacity=\"1\" /><path clip-path=\"url(#clip100)\" d=\"M636.904 1321.81 Q638.502 1318.94 640.724 1317.57 Q642.946 1316.2 645.955 1316.2 Q650.006 1316.2 652.205 1319.05 Q654.404 1321.88 654.404 1327.11 L654.404 1342.76 L650.122 1342.76 L650.122 1327.25 Q650.122 1323.52 648.802 1321.71 Q647.483 1319.91 644.775 1319.91 Q641.464 1319.91 639.543 1322.11 Q637.622 1324.31 637.622 1328.1 L637.622 1342.76 L633.34 1342.76 L633.34 1327.25 Q633.34 1323.5 632.02 1321.71 Q630.701 1319.91 627.946 1319.91 Q624.682 1319.91 622.761 1322.13 Q620.84 1324.33 620.84 1328.1 L620.84 1342.76 L616.557 1342.76 L616.557 1316.83 L620.84 1316.83 L620.84 1320.86 Q622.298 1318.47 624.335 1317.34 Q626.372 1316.2 629.173 1316.2 Q631.997 1316.2 633.965 1317.64 Q635.955 1319.07 636.904 1321.81 Z\" fill=\"#000000\" fill-rule=\"evenodd\" fill-opacity=\"1\" /><path clip-path=\"url(#clip100)\" d=\"M662.46 1332.52 L662.46 1316.83 L666.719 1316.83 L666.719 1332.36 Q666.719 1336.04 668.154 1337.89 Q669.589 1339.72 672.46 1339.72 Q675.909 1339.72 677.899 1337.52 Q679.913 1335.32 679.913 1331.53 L679.913 1316.83 L684.173 1316.83 L684.173 1342.76 L679.913 1342.76 L679.913 1338.77 Q678.362 1341.13 676.302 1342.29 Q674.265 1343.43 671.557 1343.43 Q667.089 1343.43 664.775 1340.65 Q662.46 1337.87 662.46 1332.52 M673.177 1316.2 L673.177 1316.2 Z\" fill=\"#000000\" fill-rule=\"evenodd\" fill-opacity=\"1\" /><path clip-path=\"url(#clip100)\" d=\"M713.131 1321.81 Q714.728 1318.94 716.95 1317.57 Q719.172 1316.2 722.182 1316.2 Q726.233 1316.2 728.432 1319.05 Q730.631 1321.88 730.631 1327.11 L730.631 1342.76 L726.348 1342.76 L726.348 1327.25 Q726.348 1323.52 725.029 1321.71 Q723.709 1319.91 721.001 1319.91 Q717.691 1319.91 715.77 1322.11 Q713.848 1324.31 713.848 1328.1 L713.848 1342.76 L709.566 1342.76 L709.566 1327.25 Q709.566 1323.5 708.247 1321.71 Q706.927 1319.91 704.172 1319.91 Q700.909 1319.91 698.987 1322.13 Q697.066 1324.33 697.066 1328.1 L697.066 1342.76 L692.784 1342.76 L692.784 1316.83 L697.066 1316.83 L697.066 1320.86 Q698.524 1318.47 700.561 1317.34 Q702.598 1316.2 705.399 1316.2 Q708.223 1316.2 710.191 1317.64 Q712.182 1319.07 713.131 1321.81 Z\" fill=\"#000000\" fill-rule=\"evenodd\" fill-opacity=\"1\" /><path clip-path=\"url(#clip100)\" d=\"M758.825 1350.63 L758.825 1353.94 L734.195 1353.94 L734.195 1350.63 L758.825 1350.63 Z\" fill=\"#000000\" fill-rule=\"evenodd\" fill-opacity=\"1\" /><path clip-path=\"url(#clip100)\" d=\"M774.612 1329.72 Q769.45 1329.72 767.459 1330.9 Q765.468 1332.08 765.468 1334.93 Q765.468 1337.2 766.95 1338.54 Q768.455 1339.86 771.024 1339.86 Q774.566 1339.86 776.695 1337.36 Q778.848 1334.84 778.848 1330.67 L778.848 1329.72 L774.612 1329.72 M783.107 1327.96 L783.107 1342.76 L778.848 1342.76 L778.848 1338.82 Q777.39 1341.18 775.214 1342.32 Q773.038 1343.43 769.89 1343.43 Q765.908 1343.43 763.547 1341.2 Q761.209 1338.96 761.209 1335.21 Q761.209 1330.83 764.126 1328.61 Q767.066 1326.39 772.876 1326.39 L778.848 1326.39 L778.848 1325.97 Q778.848 1323.03 776.904 1321.44 Q774.982 1319.82 771.487 1319.82 Q769.265 1319.82 767.158 1320.35 Q765.052 1320.88 763.107 1321.95 L763.107 1318.01 Q765.445 1317.11 767.644 1316.67 Q769.843 1316.2 771.927 1316.2 Q777.552 1316.2 780.329 1319.12 Q783.107 1322.04 783.107 1327.96 Z\" fill=\"#000000\" fill-rule=\"evenodd\" fill-opacity=\"1\" /><path clip-path=\"url(#clip100)\" d=\"M791.88 1306.74 L796.14 1306.74 L796.14 1342.76 L791.88 1342.76 L791.88 1306.74 Z\" fill=\"#000000\" fill-rule=\"evenodd\" fill-opacity=\"1\" /><path clip-path=\"url(#clip100)\" d=\"M809.264 1309.47 L809.264 1316.83 L818.038 1316.83 L818.038 1320.14 L809.264 1320.14 L809.264 1334.21 Q809.264 1337.38 810.121 1338.29 Q811.001 1339.19 813.663 1339.19 L818.038 1339.19 L818.038 1342.76 L813.663 1342.76 Q808.732 1342.76 806.857 1340.93 Q804.982 1339.07 804.982 1334.21 L804.982 1320.14 L801.857 1320.14 L801.857 1316.83 L804.982 1316.83 L804.982 1309.47 L809.264 1309.47 Z\" fill=\"#000000\" fill-rule=\"evenodd\" fill-opacity=\"1\" /></svg>\n"
      ]
     },
     "execution_count": 64,
     "metadata": {},
     "output_type": "execute_result"
    }
   ],
   "source": [
    "plot(collect(1:999).*0.001, ell_null_bc, xlabel = \"h2\", ylabel = \"loglik\", label = \"Intercept\", color = \"blue\", legend=:bottomleft)\n",
    "scatter!([maxima_null_bc[1]], [maxima_null_bc[2]], label = \"maximum_null\", color = \"blue\")\n",
    "plot!(collect(1:999).*0.001, ell_markerID_bc, xlabel = \"h2\", ylabel = \"loglik\", label = (\"Intercept+\"*\"G_$markerID\"), color = \"red\")\n",
    "scatter!([maxima_alt_bc[1]], [maxima_alt_bc[2]], label = \"maximum_alt\", color = \"red\")"
   ]
  },
  {
   "cell_type": "markdown",
   "id": "b32f9346-8949-49e1-b2e8-8132a8c76130",
   "metadata": {},
   "source": [
    "### Runtime Improvement:"
   ]
  },
  {
   "cell_type": "code",
   "execution_count": 65,
   "id": "f804caec-3b30-45c5-9764-955984b2501c",
   "metadata": {},
   "outputs": [
    {
     "name": "stdout",
     "output_type": "stream",
     "text": [
      "search: \u001b[0m\u001b[1mf\u001b[22m\u001b[0m\u001b[1mi\u001b[22m\u001b[0m\u001b[1mt\u001b[22m\u001b[0m\u001b[1ml\u001b[22m\u001b[0m\u001b[1mm\u001b[22m\u001b[0m\u001b[1mm\u001b[22m \u001b[0m\u001b[1mF\u001b[22m\u001b[0m\u001b[1mi\u001b[22msherNoncen\u001b[0m\u001b[1mt\u001b[22mra\u001b[0m\u001b[1ml\u001b[22mHypergeo\u001b[0m\u001b[1mm\u001b[22metric\n",
      "\n"
     ]
    },
    {
     "data": {
      "text/latex": [
       "fitlmm: fit linear mixed model\n",
       "\n",
       "y: 2-d array of (rotated) phenotypes X: 2-d array of (rotated) covariates lambda: 1-d array of eigenvalues reml: boolean indicating ML or REML estimation\n",
       "\n"
      ],
      "text/markdown": [
       "fitlmm: fit linear mixed model\n",
       "\n",
       "y: 2-d array of (rotated) phenotypes X: 2-d array of (rotated) covariates lambda: 1-d array of eigenvalues reml: boolean indicating ML or REML estimation\n"
      ],
      "text/plain": [
       "  fitlmm: fit linear mixed model\n",
       "\n",
       "  y: 2-d array of (rotated) phenotypes X: 2-d array of (rotated) covariates\n",
       "  lambda: 1-d array of eigenvalues reml: boolean indicating ML or REML\n",
       "  estimation"
      ]
     },
     "execution_count": 65,
     "metadata": {},
     "output_type": "execute_result"
    }
   ],
   "source": [
    "?fitlmm"
   ]
  },
  {
   "cell_type": "code",
   "execution_count": 66,
   "id": "e574d8c5-59ab-400d-8685-e8fef0421cee",
   "metadata": {},
   "outputs": [],
   "source": [
    "Gj = reshape(geno[:, markerID], :, 1);\n",
    "(y0, X0, lambda0) = transform_rotation(pheno_108, Gj, kinship_Gc; addIntercept = true);"
   ]
  },
  {
   "cell_type": "code",
   "execution_count": 67,
   "id": "8f51fdb8-eec6-4575-9ab8-e0be4295060d",
   "metadata": {},
   "outputs": [
    {
     "data": {
      "text/plain": [
       "BenchmarkTools.Trial: 10000 samples with 1 evaluation.\n",
       " Range \u001b[90m(\u001b[39m\u001b[36m\u001b[1mmin\u001b[22m\u001b[39m … \u001b[35mmax\u001b[39m\u001b[90m):  \u001b[39m\u001b[36m\u001b[1m61.763 μs\u001b[22m\u001b[39m … \u001b[35m 29.135 ms\u001b[39m  \u001b[90m┊\u001b[39m GC \u001b[90m(\u001b[39mmin … max\u001b[90m): \u001b[39m 0.00% … 99.50%\n",
       " Time  \u001b[90m(\u001b[39m\u001b[34m\u001b[1mmedian\u001b[22m\u001b[39m\u001b[90m):     \u001b[39m\u001b[34m\u001b[1m70.951 μs               \u001b[22m\u001b[39m\u001b[90m┊\u001b[39m GC \u001b[90m(\u001b[39mmedian\u001b[90m):    \u001b[39m 0.00%\n",
       " Time  \u001b[90m(\u001b[39m\u001b[32m\u001b[1mmean\u001b[22m\u001b[39m ± \u001b[32mσ\u001b[39m\u001b[90m):   \u001b[39m\u001b[32m\u001b[1m89.729 μs\u001b[22m\u001b[39m ± \u001b[32m622.504 μs\u001b[39m  \u001b[90m┊\u001b[39m GC \u001b[90m(\u001b[39mmean ± σ\u001b[90m):  \u001b[39m16.88% ±  2.44%\n",
       "\n",
       "  \u001b[39m▁\u001b[39m▃\u001b[39m▅\u001b[39m▅\u001b[39m▅\u001b[39m▆\u001b[34m█\u001b[39m\u001b[39m▆\u001b[39m▄\u001b[39m▃\u001b[39m▂\u001b[39m▁\u001b[39m▁\u001b[39m▁\u001b[39m \u001b[39m \u001b[39m \u001b[39m \u001b[39m \u001b[39m \u001b[32m \u001b[39m\u001b[39m \u001b[39m \u001b[39m \u001b[39m \u001b[39m \u001b[39m \u001b[39m \u001b[39m \u001b[39m \u001b[39m \u001b[39m \u001b[39m \u001b[39m \u001b[39m \u001b[39m \u001b[39m \u001b[39m \u001b[39m \u001b[39m \u001b[39m \u001b[39m \u001b[39m \u001b[39m \u001b[39m \u001b[39m \u001b[39m \u001b[39m \u001b[39m \u001b[39m \u001b[39m \u001b[39m \u001b[39m \u001b[39m \u001b[39m \u001b[39m \u001b[39m \u001b[39m \u001b[39m \u001b[39m \u001b[39m \u001b[39m▁\n",
       "  \u001b[39m█\u001b[39m█\u001b[39m█\u001b[39m█\u001b[39m█\u001b[39m█\u001b[34m█\u001b[39m\u001b[39m█\u001b[39m█\u001b[39m█\u001b[39m█\u001b[39m█\u001b[39m█\u001b[39m█\u001b[39m█\u001b[39m█\u001b[39m█\u001b[39m█\u001b[39m▇\u001b[39m▇\u001b[32m▇\u001b[39m\u001b[39m▆\u001b[39m▇\u001b[39m▆\u001b[39m▆\u001b[39m▇\u001b[39m▇\u001b[39m▇\u001b[39m▆\u001b[39m▆\u001b[39m▆\u001b[39m▆\u001b[39m▆\u001b[39m▇\u001b[39m▆\u001b[39m█\u001b[39m▇\u001b[39m▅\u001b[39m▇\u001b[39m▆\u001b[39m▅\u001b[39m▆\u001b[39m▅\u001b[39m▅\u001b[39m▆\u001b[39m▅\u001b[39m▄\u001b[39m▄\u001b[39m▅\u001b[39m▄\u001b[39m▄\u001b[39m▅\u001b[39m▅\u001b[39m▅\u001b[39m▃\u001b[39m▄\u001b[39m▅\u001b[39m▄\u001b[39m▃\u001b[39m▃\u001b[39m \u001b[39m█\n",
       "  61.8 μs\u001b[90m       \u001b[39m\u001b[90mHistogram: \u001b[39m\u001b[90m\u001b[1mlog(\u001b[22m\u001b[39m\u001b[90mfrequency\u001b[39m\u001b[90m\u001b[1m)\u001b[22m\u001b[39m\u001b[90m by time\u001b[39m       147 μs \u001b[0m\u001b[1m<\u001b[22m\n",
       "\n",
       " Memory estimate\u001b[90m: \u001b[39m\u001b[33m118.70 KiB\u001b[39m, allocs estimate\u001b[90m: \u001b[39m\u001b[33m255\u001b[39m."
      ]
     },
     "execution_count": 67,
     "metadata": {},
     "output_type": "execute_result"
    }
   ],
   "source": [
    "@benchmark fitlmm(y0, X0, lambda0, prior)"
   ]
  },
  {
   "cell_type": "code",
   "execution_count": 68,
   "id": "d7dd1ffe-71cf-4e0d-9369-8bd42d95fc42",
   "metadata": {},
   "outputs": [
    {
     "data": {
      "text/plain": [
       "BenchmarkTools.Trial: 10000 samples with 1 evaluation.\n",
       " Range \u001b[90m(\u001b[39m\u001b[36m\u001b[1mmin\u001b[22m\u001b[39m … \u001b[35mmax\u001b[39m\u001b[90m):  \u001b[39m\u001b[36m\u001b[1m 73.120 μs\u001b[22m\u001b[39m … \u001b[35m 26.827 ms\u001b[39m  \u001b[90m┊\u001b[39m GC \u001b[90m(\u001b[39mmin … max\u001b[90m): \u001b[39m 0.00% … 99.42%\n",
       " Time  \u001b[90m(\u001b[39m\u001b[34m\u001b[1mmedian\u001b[22m\u001b[39m\u001b[90m):     \u001b[39m\u001b[34m\u001b[1m 83.829 μs               \u001b[22m\u001b[39m\u001b[90m┊\u001b[39m GC \u001b[90m(\u001b[39mmedian\u001b[90m):    \u001b[39m 0.00%\n",
       " Time  \u001b[90m(\u001b[39m\u001b[32m\u001b[1mmean\u001b[22m\u001b[39m ± \u001b[32mσ\u001b[39m\u001b[90m):   \u001b[39m\u001b[32m\u001b[1m104.075 μs\u001b[22m\u001b[39m ± \u001b[32m667.346 μs\u001b[39m  \u001b[90m┊\u001b[39m GC \u001b[90m(\u001b[39mmean ± σ\u001b[90m):  \u001b[39m18.07% ±  2.81%\n",
       "\n",
       "  \u001b[39m \u001b[39m \u001b[39m \u001b[39m \u001b[39m \u001b[39m \u001b[39m \u001b[39m \u001b[39m \u001b[39m \u001b[39m█\u001b[34m▃\u001b[39m\u001b[39m \u001b[39m▂\u001b[39m \u001b[39m▂\u001b[39m \u001b[39m \u001b[39m \u001b[39m \u001b[39m \u001b[39m \u001b[39m \u001b[39m \u001b[39m \u001b[39m \u001b[39m \u001b[39m \u001b[39m \u001b[39m \u001b[39m \u001b[39m \u001b[39m \u001b[32m \u001b[39m\u001b[39m \u001b[39m \u001b[39m \u001b[39m \u001b[39m \u001b[39m \u001b[39m \u001b[39m \u001b[39m \u001b[39m \u001b[39m \u001b[39m \u001b[39m \u001b[39m \u001b[39m \u001b[39m \u001b[39m \u001b[39m \u001b[39m \u001b[39m \u001b[39m \u001b[39m \u001b[39m \u001b[39m \u001b[39m \u001b[39m \u001b[39m \u001b[39m \u001b[39m \n",
       "  \u001b[39m▁\u001b[39m▂\u001b[39m▃\u001b[39m▄\u001b[39m▄\u001b[39m▅\u001b[39m▅\u001b[39m▅\u001b[39m█\u001b[39m▆\u001b[39m█\u001b[34m█\u001b[39m\u001b[39m█\u001b[39m█\u001b[39m▅\u001b[39m█\u001b[39m▇\u001b[39m▃\u001b[39m▂\u001b[39m▂\u001b[39m▂\u001b[39m▁\u001b[39m▁\u001b[39m▁\u001b[39m▁\u001b[39m▁\u001b[39m▁\u001b[39m▁\u001b[39m▁\u001b[39m▁\u001b[39m▁\u001b[39m▁\u001b[39m▁\u001b[32m▁\u001b[39m\u001b[39m▁\u001b[39m▁\u001b[39m▁\u001b[39m▁\u001b[39m▁\u001b[39m▁\u001b[39m▁\u001b[39m▁\u001b[39m▁\u001b[39m▁\u001b[39m▁\u001b[39m▁\u001b[39m▁\u001b[39m▁\u001b[39m▁\u001b[39m▁\u001b[39m▁\u001b[39m▁\u001b[39m▁\u001b[39m▁\u001b[39m▁\u001b[39m▁\u001b[39m▁\u001b[39m▁\u001b[39m▁\u001b[39m▁\u001b[39m▁\u001b[39m \u001b[39m▂\n",
       "  73.1 μs\u001b[90m          Histogram: frequency by time\u001b[39m          131 μs \u001b[0m\u001b[1m<\u001b[22m\n",
       "\n",
       " Memory estimate\u001b[90m: \u001b[39m\u001b[33m148.41 KiB\u001b[39m, allocs estimate\u001b[90m: \u001b[39m\u001b[33m319\u001b[39m."
      ]
     },
     "execution_count": 68,
     "metadata": {},
     "output_type": "execute_result"
    }
   ],
   "source": [
    "@benchmark fitlmm(y0, X0, lambda0, [0.0, 0.0])"
   ]
  },
  {
   "cell_type": "code",
   "execution_count": 69,
   "id": "33f72c98-eddd-43d9-88f8-d05347a7e3a4",
   "metadata": {},
   "outputs": [
    {
     "data": {
      "text/plain": [
       "BenchmarkTools.Trial: 6 samples with 1 evaluation.\n",
       " Range \u001b[90m(\u001b[39m\u001b[36m\u001b[1mmin\u001b[22m\u001b[39m … \u001b[35mmax\u001b[39m\u001b[90m):  \u001b[39m\u001b[36m\u001b[1m854.886 ms\u001b[22m\u001b[39m … \u001b[35m944.234 ms\u001b[39m  \u001b[90m┊\u001b[39m GC \u001b[90m(\u001b[39mmin … max\u001b[90m): \u001b[39m17.35% … 18.50%\n",
       " Time  \u001b[90m(\u001b[39m\u001b[34m\u001b[1mmedian\u001b[22m\u001b[39m\u001b[90m):     \u001b[39m\u001b[34m\u001b[1m888.300 ms               \u001b[22m\u001b[39m\u001b[90m┊\u001b[39m GC \u001b[90m(\u001b[39mmedian\u001b[90m):    \u001b[39m19.04%\n",
       " Time  \u001b[90m(\u001b[39m\u001b[32m\u001b[1mmean\u001b[22m\u001b[39m ± \u001b[32mσ\u001b[39m\u001b[90m):   \u001b[39m\u001b[32m\u001b[1m890.934 ms\u001b[22m\u001b[39m ± \u001b[32m 29.906 ms\u001b[39m  \u001b[90m┊\u001b[39m GC \u001b[90m(\u001b[39mmean ± σ\u001b[90m):  \u001b[39m18.48% ±  1.23%\n",
       "\n",
       "  \u001b[39m█\u001b[39m \u001b[39m \u001b[39m \u001b[39m \u001b[39m \u001b[39m \u001b[39m \u001b[39m \u001b[39m \u001b[39m \u001b[39m \u001b[39m█\u001b[39m \u001b[39m \u001b[39m \u001b[39m \u001b[39m \u001b[39m \u001b[39m \u001b[39m \u001b[39m \u001b[34m█\u001b[39m\u001b[39m█\u001b[39m \u001b[32m \u001b[39m\u001b[39m \u001b[39m \u001b[39m█\u001b[39m \u001b[39m \u001b[39m \u001b[39m \u001b[39m \u001b[39m \u001b[39m \u001b[39m \u001b[39m \u001b[39m \u001b[39m \u001b[39m \u001b[39m \u001b[39m \u001b[39m \u001b[39m \u001b[39m \u001b[39m \u001b[39m \u001b[39m \u001b[39m \u001b[39m \u001b[39m \u001b[39m \u001b[39m \u001b[39m \u001b[39m \u001b[39m \u001b[39m \u001b[39m \u001b[39m \u001b[39m█\u001b[39m \u001b[39m \n",
       "  \u001b[39m█\u001b[39m▁\u001b[39m▁\u001b[39m▁\u001b[39m▁\u001b[39m▁\u001b[39m▁\u001b[39m▁\u001b[39m▁\u001b[39m▁\u001b[39m▁\u001b[39m▁\u001b[39m█\u001b[39m▁\u001b[39m▁\u001b[39m▁\u001b[39m▁\u001b[39m▁\u001b[39m▁\u001b[39m▁\u001b[39m▁\u001b[39m▁\u001b[34m█\u001b[39m\u001b[39m█\u001b[39m▁\u001b[32m▁\u001b[39m\u001b[39m▁\u001b[39m▁\u001b[39m█\u001b[39m▁\u001b[39m▁\u001b[39m▁\u001b[39m▁\u001b[39m▁\u001b[39m▁\u001b[39m▁\u001b[39m▁\u001b[39m▁\u001b[39m▁\u001b[39m▁\u001b[39m▁\u001b[39m▁\u001b[39m▁\u001b[39m▁\u001b[39m▁\u001b[39m▁\u001b[39m▁\u001b[39m▁\u001b[39m▁\u001b[39m▁\u001b[39m▁\u001b[39m▁\u001b[39m▁\u001b[39m▁\u001b[39m▁\u001b[39m▁\u001b[39m▁\u001b[39m▁\u001b[39m▁\u001b[39m▁\u001b[39m█\u001b[39m \u001b[39m▁\n",
       "  855 ms\u001b[90m           Histogram: frequency by time\u001b[39m          944 ms \u001b[0m\u001b[1m<\u001b[22m\n",
       "\n",
       " Memory estimate\u001b[90m: \u001b[39m\u001b[33m1.18 GiB\u001b[39m, allocs estimate\u001b[90m: \u001b[39m\u001b[33m2622737\u001b[39m."
      ]
     },
     "execution_count": 69,
     "metadata": {},
     "output_type": "execute_result"
    }
   ],
   "source": [
    "@benchmark scan_alt(pheno_108, geno, kinship_Gc, prior, true)"
   ]
  },
  {
   "cell_type": "code",
   "execution_count": 70,
   "id": "00fa7881-74fa-4e35-871a-2729d19a43be",
   "metadata": {},
   "outputs": [
    {
     "data": {
      "text/plain": [
       "BenchmarkTools.Trial: 3 samples with 1 evaluation.\n",
       " Range \u001b[90m(\u001b[39m\u001b[36m\u001b[1mmin\u001b[22m\u001b[39m … \u001b[35mmax\u001b[39m\u001b[90m):  \u001b[39m\u001b[36m\u001b[1m1.956 s\u001b[22m\u001b[39m … \u001b[35m  2.053 s\u001b[39m  \u001b[90m┊\u001b[39m GC \u001b[90m(\u001b[39mmin … max\u001b[90m): \u001b[39m18.96% … 18.83%\n",
       " Time  \u001b[90m(\u001b[39m\u001b[34m\u001b[1mmedian\u001b[22m\u001b[39m\u001b[90m):     \u001b[39m\u001b[34m\u001b[1m1.967 s              \u001b[22m\u001b[39m\u001b[90m┊\u001b[39m GC \u001b[90m(\u001b[39mmedian\u001b[90m):    \u001b[39m18.86%\n",
       " Time  \u001b[90m(\u001b[39m\u001b[32m\u001b[1mmean\u001b[22m\u001b[39m ± \u001b[32mσ\u001b[39m\u001b[90m):   \u001b[39m\u001b[32m\u001b[1m1.992 s\u001b[22m\u001b[39m ± \u001b[32m53.242 ms\u001b[39m  \u001b[90m┊\u001b[39m GC \u001b[90m(\u001b[39mmean ± σ\u001b[90m):  \u001b[39m18.68% ±  0.37%\n",
       "\n",
       "  \u001b[34m█\u001b[39m\u001b[39m \u001b[39m \u001b[39m \u001b[39m \u001b[39m \u001b[39m█\u001b[39m \u001b[39m \u001b[39m \u001b[39m \u001b[39m \u001b[39m \u001b[39m \u001b[39m \u001b[39m \u001b[39m \u001b[39m \u001b[39m \u001b[39m \u001b[39m \u001b[32m \u001b[39m\u001b[39m \u001b[39m \u001b[39m \u001b[39m \u001b[39m \u001b[39m \u001b[39m \u001b[39m \u001b[39m \u001b[39m \u001b[39m \u001b[39m \u001b[39m \u001b[39m \u001b[39m \u001b[39m \u001b[39m \u001b[39m \u001b[39m \u001b[39m \u001b[39m \u001b[39m \u001b[39m \u001b[39m \u001b[39m \u001b[39m \u001b[39m \u001b[39m \u001b[39m \u001b[39m \u001b[39m \u001b[39m \u001b[39m \u001b[39m \u001b[39m█\u001b[39m \u001b[39m \n",
       "  \u001b[34m█\u001b[39m\u001b[39m▁\u001b[39m▁\u001b[39m▁\u001b[39m▁\u001b[39m▁\u001b[39m█\u001b[39m▁\u001b[39m▁\u001b[39m▁\u001b[39m▁\u001b[39m▁\u001b[39m▁\u001b[39m▁\u001b[39m▁\u001b[39m▁\u001b[39m▁\u001b[39m▁\u001b[39m▁\u001b[39m▁\u001b[39m▁\u001b[32m▁\u001b[39m\u001b[39m▁\u001b[39m▁\u001b[39m▁\u001b[39m▁\u001b[39m▁\u001b[39m▁\u001b[39m▁\u001b[39m▁\u001b[39m▁\u001b[39m▁\u001b[39m▁\u001b[39m▁\u001b[39m▁\u001b[39m▁\u001b[39m▁\u001b[39m▁\u001b[39m▁\u001b[39m▁\u001b[39m▁\u001b[39m▁\u001b[39m▁\u001b[39m▁\u001b[39m▁\u001b[39m▁\u001b[39m▁\u001b[39m▁\u001b[39m▁\u001b[39m▁\u001b[39m▁\u001b[39m▁\u001b[39m▁\u001b[39m▁\u001b[39m▁\u001b[39m▁\u001b[39m█\u001b[39m \u001b[39m▁\n",
       "  1.96 s\u001b[90m         Histogram: frequency by time\u001b[39m        2.05 s \u001b[0m\u001b[1m<\u001b[22m\n",
       "\n",
       " Memory estimate\u001b[90m: \u001b[39m\u001b[33m2.60 GiB\u001b[39m, allocs estimate\u001b[90m: \u001b[39m\u001b[33m5790567\u001b[39m."
      ]
     },
     "execution_count": 70,
     "metadata": {},
     "output_type": "execute_result"
    }
   ],
   "source": [
    "@benchmark scan_alt(pheno_108, geno, kinship_Gc, [0.0, 0.0], true)"
   ]
  },
  {
   "cell_type": "code",
   "execution_count": null,
   "id": "10c5cc7f-c1ad-44e7-9be1-69c8ea782d2c",
   "metadata": {},
   "outputs": [],
   "source": []
  }
 ],
 "metadata": {
  "kernelspec": {
   "display_name": "Julia 4 Threads 1.7.3",
   "language": "julia",
   "name": "julia-4-threads-1.7"
  },
  "language_info": {
   "file_extension": ".jl",
   "mimetype": "application/julia",
   "name": "julia",
   "version": "1.7.3"
  }
 },
 "nbformat": 4,
 "nbformat_minor": 5
}
