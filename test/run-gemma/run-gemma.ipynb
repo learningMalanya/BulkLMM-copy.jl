{
 "cells": [
  {
   "cell_type": "markdown",
   "id": "a668b9b1-a1a6-4ebf-a694-ddc0885c339c",
   "metadata": {},
   "source": [
    "# Explore GEMMA and comparison with BulkLMM.jl"
   ]
  },
  {
   "cell_type": "markdown",
   "id": "01b68291-386f-4a89-b66c-b148c9d1809c",
   "metadata": {},
   "source": [
    "In this interactive notebook, we will explore the usage of GEMMA package, the methods behind the implementation, its performance running on the BXD data, as compared with the BulkLMM.jl package in Julia. \n",
    "\n",
    "\n",
    "This is still a work in progress, as here only the use of GEMMA for association tests with **univariate linear mixed models** will be talked about..."
   ]
  },
  {
   "cell_type": "code",
   "execution_count": 1,
   "id": "d6c8c9b3-5db4-4081-b27a-49353e439eca",
   "metadata": {},
   "outputs": [
    {
     "data": {
      "text/plain": [
       "\"/home/xyu/github/BulkLMM.jl/test/run-gemma\""
      ]
     },
     "execution_count": 1,
     "metadata": {},
     "output_type": "execute_result"
    }
   ],
   "source": [
    "pwd()"
   ]
  },
  {
   "cell_type": "code",
   "execution_count": 2,
   "id": "9bb6752d-9cd6-4d29-bd59-88a37721ecaf",
   "metadata": {},
   "outputs": [],
   "source": [
    "cd(\"..\")"
   ]
  },
  {
   "cell_type": "code",
   "execution_count": 3,
   "id": "cc36ee69-c632-48b3-81a6-4871e344c1a5",
   "metadata": {},
   "outputs": [],
   "source": [
    "include(\"BXDdata_for_test.jl\");"
   ]
  },
  {
   "cell_type": "code",
   "execution_count": 4,
   "id": "ae66224c-2089-420c-b68e-0d095111e52d",
   "metadata": {},
   "outputs": [
    {
     "data": {
      "text/plain": [
       "(79, 35556, 7321)"
      ]
     },
     "execution_count": 4,
     "metadata": {},
     "output_type": "execute_result"
    }
   ],
   "source": [
    "(n, m, p)"
   ]
  },
  {
   "cell_type": "code",
   "execution_count": 5,
   "id": "bfa4c23b-1507-4b01-a910-f1294bbd7841",
   "metadata": {},
   "outputs": [
    {
     "data": {
      "text/plain": [
       "(79, 35556)"
      ]
     },
     "execution_count": 5,
     "metadata": {},
     "output_type": "execute_result"
    }
   ],
   "source": [
    "size(pheno)"
   ]
  },
  {
   "cell_type": "code",
   "execution_count": 6,
   "id": "85ddf334-b921-45b3-9c6c-05c75457d655",
   "metadata": {},
   "outputs": [
    {
     "data": {
      "text/plain": [
       "(79, 7321)"
      ]
     },
     "execution_count": 6,
     "metadata": {},
     "output_type": "execute_result"
    }
   ],
   "source": [
    "size(geno)"
   ]
  },
  {
   "cell_type": "code",
   "execution_count": 7,
   "id": "77463511-6eae-4c2f-a5aa-97c344c11df8",
   "metadata": {},
   "outputs": [
    {
     "data": {
      "text/plain": [
       "(79, 79)"
      ]
     },
     "execution_count": 7,
     "metadata": {},
     "output_type": "execute_result"
    }
   ],
   "source": [
    "size(kinship)"
   ]
  },
  {
   "cell_type": "markdown",
   "id": "bc16d1aa-732f-4269-b3ce-ad2e1deecff5",
   "metadata": {
    "tags": []
   },
   "source": [
    "## How to... \n",
    "\n",
    "### Cite GEMMA:"
   ]
  },
  {
   "cell_type": "markdown",
   "id": "0ee199f0-1791-486f-8eea-9d91084d9a44",
   "metadata": {},
   "source": [
    "- Software tool and univariate linear mixed models\n",
    "Xiang Zhou and Matthew Stephens (2012). Genome-wide efficient mixed-model analysis for association studies. Nature Genetics. 44: 821-824.\n",
    "\n",
    "- Multivariate linear mixed models\n",
    "Xiang Zhou and Matthew Stephens (2014). Efficient multivariate linear mixed model algo- rithms for genome-wide association studies. Nature Methods. 11: 407-409.\n",
    "\n",
    "- Bayesian sparse linear mixed models\n",
    "Xiang Zhou, Peter Carbonetto and Matthew Stephens (2013). Polygenic modeling with Bayesian sparse linear mixed models. PLoS Genetics. 9(2): e1003264.\n",
    "\n",
    "- Variance component estimation with individual-level or summary data\n",
    "Xiang Zhou (2016). A unified framework for variance component estimation with summary statistics in genome-wide association studies. bioRxiv. 042846."
   ]
  },
  {
   "cell_type": "markdown",
   "id": "9925c205-6cd4-4232-8eb8-06e92192048d",
   "metadata": {
    "tags": []
   },
   "source": [
    "### Install and Setup GEMMA:"
   ]
  },
  {
   "cell_type": "markdown",
   "id": "aaf6e422-ce77-497d-b2a2-d05fc8e2a3cf",
   "metadata": {},
   "source": [
    "It is recommended to install precompiled binaries of GEMMA and use on a linux system.\n",
    "\n",
    "1. Fetch the latest [stable release](https://github.com/genetics-statistics/GEMMA/releases) and download the .gz file.\n",
    "\n",
    "2. Inside the directory where the .gz file is located, run `gunzip gemma.linux.gz` to unpack the file.\n",
    "\n",
    "3. Make sure it is executable with `chomod u+x gemma-linux` and then execute with `gemma-linux`. \n",
    "\n",
    "4. Run GEMMA by first typing `alias gemma=path to gemma executable` and then it will be envoked by simply typing `gemma` in terminal."
   ]
  },
  {
   "cell_type": "markdown",
   "id": "a92ca136-7f43-47ed-9543-e0b2c76651a7",
   "metadata": {},
   "source": [
    "Run `alias gemma=path to gemma executable` so that the GEMMA program will start by just typing `gemma` in terminal."
   ]
  },
  {
   "cell_type": "markdown",
   "id": "e4171f48-84e0-4e22-9376-6a9a5918aa93",
   "metadata": {},
   "source": [
    "Here inside this notebook, we did something similar to creating an alias shortcut by"
   ]
  },
  {
   "cell_type": "code",
   "execution_count": 8,
   "id": "64256565-6bbb-44d7-87ea-b2a91f5346d1",
   "metadata": {},
   "outputs": [],
   "source": [
    "cd(\"run-gemma\")"
   ]
  },
  {
   "cell_type": "code",
   "execution_count": 9,
   "id": "27cf0fdc-efb1-4153-b10b-30c278de2dd2",
   "metadata": {},
   "outputs": [
    {
     "data": {
      "text/plain": [
       "\"/home/xyu/github/BulkLMM.jl/test/run-gemma\""
      ]
     },
     "execution_count": 9,
     "metadata": {},
     "output_type": "execute_result"
    }
   ],
   "source": [
    "pwd()"
   ]
  },
  {
   "cell_type": "code",
   "execution_count": 52,
   "id": "bd5e284a-81c1-4b63-9e1e-b22fcad83555",
   "metadata": {},
   "outputs": [
    {
     "data": {
      "text/plain": [
       "\"/home/xyu/software/GEMMA/gemma-0.98.5-linux-static-AMD64\""
      ]
     },
     "execution_count": 52,
     "metadata": {},
     "output_type": "execute_result"
    }
   ],
   "source": [
    "gemma = \"/home/xyu/software/GEMMA/gemma-0.98.5-linux-static-AMD64\""
   ]
  },
  {
   "cell_type": "markdown",
   "id": "ac81588d-b986-470a-865d-ca0175155906",
   "metadata": {},
   "source": [
    "and testing GEMMA set up by"
   ]
  },
  {
   "cell_type": "code",
   "execution_count": 53,
   "id": "f8529de0-5963-4ed6-b376-6075c4ad6ceb",
   "metadata": {},
   "outputs": [
    {
     "name": "stdout",
     "output_type": "stream",
     "text": [
      "GEMMA 0.98.5 (2021-08-25) by Xiang Zhou, Pjotr Prins and team (C) 2012-2021\n",
      "\n",
      " type ./gemma -h [num] for detailed help\n",
      " options: \n",
      "  1: quick guide\n",
      "  2: file I/O related\n",
      "  3: SNP QC\n",
      "  4: calculate relatedness matrix\n",
      "  5: perform eigen decomposition\n",
      "  6: perform variance component estimation\n",
      "  7: fit a linear model\n",
      "  8: fit a linear mixed model\n",
      "  9: fit a multivariate linear mixed model\n",
      " 10: fit a Bayesian sparse linear mixed model\n",
      " 11: obtain predicted values\n",
      " 12: calculate snp variance covariance\n",
      " 13: note\n",
      " 14: debug options\n",
      "\n",
      "The GEMMA software is distributed under the GNU General Public v3\n",
      "   -license    show license information\n",
      "   see also http://www.xzlab.org/software.html, https://github.com/genetics-statistics\n"
     ]
    },
    {
     "data": {
      "text/plain": [
       "Process(`\u001b[4m/home/xyu/software/GEMMA/gemma-0.98.5-linux-static-AMD64\u001b[24m \u001b[4m-h\u001b[24m`, ProcessExited(0))"
      ]
     },
     "execution_count": 53,
     "metadata": {},
     "output_type": "execute_result"
    }
   ],
   "source": [
    "run(`$gemma -h`)"
   ]
  },
  {
   "cell_type": "markdown",
   "id": "18baf8f6-c875-43bf-bf55-209c45c51923",
   "metadata": {},
   "source": [
    "## Input File Formats:"
   ]
  },
  {
   "cell_type": "markdown",
   "id": "60a79a5c-0e68-458a-8786-d9d7080127a5",
   "metadata": {},
   "source": [
    "It is recommended to use [BIMBAM](https://stephenslab.uchicago.edu/software.html) (Bayesian Imputation Based Association Mapping) file format for imputed genotypes as well as for general covariates other than SNPs. BIMBAM format consists of three files, a mean genotype file, a phenotype file, and an optional SNP annotation file, which we will explain in detail below."
   ]
  },
  {
   "cell_type": "markdown",
   "id": "21ff35bb-95fb-4a0f-a2f8-2a73200b4609",
   "metadata": {},
   "source": [
    "(We first run `gemma-generateData.jl` to generate BIMBAM format genotype data from origional. For he univariate trait data we picked the 7919-th column of the original BXD phenotype data)"
   ]
  },
  {
   "cell_type": "code",
   "execution_count": 54,
   "id": "65c414b0-05e3-46e1-962a-25c06db0582f",
   "metadata": {},
   "outputs": [],
   "source": [
    "# Create variables for shortcut references to the datafiles:\n",
    "pheno_filename = \"BXDpheno_bimbam.txt\";\n",
    "geno_filename = \"BXDgeno_prob_bimbam.txt\";"
   ]
  },
  {
   "cell_type": "markdown",
   "id": "84c1e555-79bf-4c96-b8a9-b6d90807c263",
   "metadata": {},
   "source": [
    "### Mean Genotype File"
   ]
  },
  {
   "cell_type": "code",
   "execution_count": 55,
   "id": "e48fb06b-8c1f-4d50-bc93-185b82aa2660",
   "metadata": {},
   "outputs": [
    {
     "data": {
      "text/plain": [
       "6×82 Matrix{Any}:\n",
       " \"rs31443144\"   \"A\"  \"B\"  2.0  2.0  1.03617e-10  …  2.0  2.0  2.0  2.0  2.0\n",
       " \"rs6269442\"    \"A\"  \"B\"  2.0  2.0  1.03617e-10     2.0  2.0  2.0  2.0  2.0\n",
       " \"rs32285189\"   \"A\"  \"B\"  2.0  2.0  4.9563e-13      2.0  2.0  2.0  2.0  2.0\n",
       " \"rs258367496\"  \"A\"  \"B\"  2.0  2.0  4.9563e-13      2.0  2.0  2.0  2.0  2.0\n",
       " \"rs32430919\"   \"A\"  \"B\"  2.0  2.0  4.95576e-9      2.0  2.0  2.0  2.0  2.0\n",
       " \"rs36251697\"   \"A\"  \"B\"  2.0  2.0  5.36709e-9   …  2.0  2.0  2.0  2.0  2.0"
      ]
     },
     "execution_count": 55,
     "metadata": {},
     "output_type": "execute_result"
    }
   ],
   "source": [
    "readdlm(geno_filename, ',')[1:6, :]"
   ]
  },
  {
   "cell_type": "code",
   "execution_count": 14,
   "id": "080f4bd8-b53f-454e-bbd6-b6010d9f7ac3",
   "metadata": {},
   "outputs": [
    {
     "data": {
      "text/plain": [
       "(7321, 82)"
      ]
     },
     "execution_count": 14,
     "metadata": {},
     "output_type": "execute_result"
    }
   ],
   "source": [
    "size(readdlm(geno_filename, ','))"
   ]
  },
  {
   "cell_type": "markdown",
   "id": "f84991e7-677a-40da-a19d-411376674fad",
   "metadata": {},
   "source": [
    "The mean genotype file is like the above, where the first column is SNP id, the second and third column are allele types with minor allele first, and the remaining columns are the posterior/imputed mean genotypes of different individuals numbered from 0 and 2.\n",
    "\n",
    "GEMMA codes alleles exactly as provided in the mean genotype file, and ignores the allele types given in the second and third columns. Therefore, the minor allele is the effect allele only if it is coded as 1 and the major allele is coded as 0. Missing genotypes are represented as \"NA\" values.\n",
    "\n",
    "In our BXD data examples, we have two SNPs, \"A\" being the minor allele and \"B\" being the major allele, and observations at 7321 marker places for the 79 individuals. Therefore, as shown in the data, each row are the observations of frequencies of the minor allele \"A\" for the 79 individuals at a certain marker place, and each column are the observations of the \"A\" frequencies at the 7321 marker places for a certain individual."
   ]
  },
  {
   "cell_type": "markdown",
   "id": "c8b4ed70-0914-4ba9-91e2-b283e7df53ed",
   "metadata": {
    "tags": []
   },
   "source": [
    "### Phenotype File"
   ]
  },
  {
   "cell_type": "code",
   "execution_count": 63,
   "id": "65935a41-2cfe-4610-9666-b4b9b50b23ea",
   "metadata": {},
   "outputs": [
    {
     "data": {
      "text/plain": [
       "79-element Vector{Float64}:\n",
       " 10.715\n",
       " 10.792\n",
       " 11.968\n",
       " 11.56\n",
       " 11.097\n",
       " 10.85\n",
       " 11.493\n",
       " 10.76\n",
       " 11.914\n",
       " 10.37\n",
       " 11.828\n",
       " 10.611\n",
       " 10.886\n",
       "  ⋮\n",
       " 11.912\n",
       " 11.074\n",
       " 12.058\n",
       " 10.804\n",
       " 10.526\n",
       " 11.711\n",
       " 10.516\n",
       " 11.662\n",
       " 12.082\n",
       " 11.434\n",
       " 10.81\n",
       " 11.797"
      ]
     },
     "execution_count": 63,
     "metadata": {},
     "output_type": "execute_result"
    }
   ],
   "source": [
    "readdlm(pheno_filename, ',')[:]"
   ]
  },
  {
   "cell_type": "code",
   "execution_count": 49,
   "id": "fea46bba-0aa7-4265-aae2-d1466df2b733",
   "metadata": {},
   "outputs": [],
   "source": [
    "using Plots"
   ]
  },
  {
   "cell_type": "code",
   "execution_count": 50,
   "id": "63e02968-a3e6-481f-8996-d83614d9011c",
   "metadata": {},
   "outputs": [
    {
     "data": {
      "image/svg+xml": [
       "<?xml version=\"1.0\" encoding=\"utf-8\"?>\n",
       "<svg xmlns=\"http://www.w3.org/2000/svg\" xmlns:xlink=\"http://www.w3.org/1999/xlink\" width=\"600\" height=\"400\" viewBox=\"0 0 2400 1600\">\n",
       "<defs>\n",
       "  <clipPath id=\"clip980\">\n",
       "    <rect x=\"0\" y=\"0\" width=\"2400\" height=\"1600\"/>\n",
       "  </clipPath>\n",
       "</defs>\n",
       "<path clip-path=\"url(#clip980)\" d=\"\n",
       "M0 1600 L2400 1600 L2400 0 L0 0  Z\n",
       "  \" fill=\"#ffffff\" fill-rule=\"evenodd\" fill-opacity=\"1\"/>\n",
       "<defs>\n",
       "  <clipPath id=\"clip981\">\n",
       "    <rect x=\"480\" y=\"0\" width=\"1681\" height=\"1600\"/>\n",
       "  </clipPath>\n",
       "</defs>\n",
       "<path clip-path=\"url(#clip980)\" d=\"\n",
       "M140.696 1486.45 L2352.76 1486.45 L2352.76 47.2441 L140.696 47.2441  Z\n",
       "  \" fill=\"#ffffff\" fill-rule=\"evenodd\" fill-opacity=\"1\"/>\n",
       "<defs>\n",
       "  <clipPath id=\"clip982\">\n",
       "    <rect x=\"140\" y=\"47\" width=\"2213\" height=\"1440\"/>\n",
       "  </clipPath>\n",
       "</defs>\n",
       "<polyline clip-path=\"url(#clip982)\" style=\"stroke:#000000; stroke-linecap:round; stroke-linejoin:round; stroke-width:2; stroke-opacity:0.1; fill:none\" points=\"\n",
       "  262.363,1486.45 262.363,47.2441 \n",
       "  \"/>\n",
       "<polyline clip-path=\"url(#clip982)\" style=\"stroke:#000000; stroke-linecap:round; stroke-linejoin:round; stroke-width:2; stroke-opacity:0.1; fill:none\" points=\"\n",
       "  656.108,1486.45 656.108,47.2441 \n",
       "  \"/>\n",
       "<polyline clip-path=\"url(#clip982)\" style=\"stroke:#000000; stroke-linecap:round; stroke-linejoin:round; stroke-width:2; stroke-opacity:0.1; fill:none\" points=\"\n",
       "  1049.85,1486.45 1049.85,47.2441 \n",
       "  \"/>\n",
       "<polyline clip-path=\"url(#clip982)\" style=\"stroke:#000000; stroke-linecap:round; stroke-linejoin:round; stroke-width:2; stroke-opacity:0.1; fill:none\" points=\"\n",
       "  1443.6,1486.45 1443.6,47.2441 \n",
       "  \"/>\n",
       "<polyline clip-path=\"url(#clip982)\" style=\"stroke:#000000; stroke-linecap:round; stroke-linejoin:round; stroke-width:2; stroke-opacity:0.1; fill:none\" points=\"\n",
       "  1837.34,1486.45 1837.34,47.2441 \n",
       "  \"/>\n",
       "<polyline clip-path=\"url(#clip982)\" style=\"stroke:#000000; stroke-linecap:round; stroke-linejoin:round; stroke-width:2; stroke-opacity:0.1; fill:none\" points=\"\n",
       "  2231.09,1486.45 2231.09,47.2441 \n",
       "  \"/>\n",
       "<polyline clip-path=\"url(#clip980)\" style=\"stroke:#000000; stroke-linecap:round; stroke-linejoin:round; stroke-width:4; stroke-opacity:1; fill:none\" points=\"\n",
       "  140.696,1486.45 2352.76,1486.45 \n",
       "  \"/>\n",
       "<polyline clip-path=\"url(#clip980)\" style=\"stroke:#000000; stroke-linecap:round; stroke-linejoin:round; stroke-width:4; stroke-opacity:1; fill:none\" points=\"\n",
       "  262.363,1486.45 262.363,1467.55 \n",
       "  \"/>\n",
       "<polyline clip-path=\"url(#clip980)\" style=\"stroke:#000000; stroke-linecap:round; stroke-linejoin:round; stroke-width:4; stroke-opacity:1; fill:none\" points=\"\n",
       "  656.108,1486.45 656.108,1467.55 \n",
       "  \"/>\n",
       "<polyline clip-path=\"url(#clip980)\" style=\"stroke:#000000; stroke-linecap:round; stroke-linejoin:round; stroke-width:4; stroke-opacity:1; fill:none\" points=\"\n",
       "  1049.85,1486.45 1049.85,1467.55 \n",
       "  \"/>\n",
       "<polyline clip-path=\"url(#clip980)\" style=\"stroke:#000000; stroke-linecap:round; stroke-linejoin:round; stroke-width:4; stroke-opacity:1; fill:none\" points=\"\n",
       "  1443.6,1486.45 1443.6,1467.55 \n",
       "  \"/>\n",
       "<polyline clip-path=\"url(#clip980)\" style=\"stroke:#000000; stroke-linecap:round; stroke-linejoin:round; stroke-width:4; stroke-opacity:1; fill:none\" points=\"\n",
       "  1837.34,1486.45 1837.34,1467.55 \n",
       "  \"/>\n",
       "<polyline clip-path=\"url(#clip980)\" style=\"stroke:#000000; stroke-linecap:round; stroke-linejoin:round; stroke-width:4; stroke-opacity:1; fill:none\" points=\"\n",
       "  2231.09,1486.45 2231.09,1467.55 \n",
       "  \"/>\n",
       "<path clip-path=\"url(#clip980)\" d=\"M214.435 1544.91 L222.074 1544.91 L222.074 1518.55 L213.764 1520.21 L213.764 1515.95 L222.027 1514.29 L226.703 1514.29 L226.703 1544.91 L234.342 1544.91 L234.342 1548.85 L214.435 1548.85 L214.435 1544.91 Z\" fill=\"#000000\" fill-rule=\"evenodd\" fill-opacity=\"1\" /><path clip-path=\"url(#clip980)\" d=\"M253.786 1517.37 Q250.175 1517.37 248.347 1520.93 Q246.541 1524.47 246.541 1531.6 Q246.541 1538.71 248.347 1542.27 Q250.175 1545.82 253.786 1545.82 Q257.421 1545.82 259.226 1542.27 Q261.055 1538.71 261.055 1531.6 Q261.055 1524.47 259.226 1520.93 Q257.421 1517.37 253.786 1517.37 M253.786 1513.66 Q259.597 1513.66 262.652 1518.27 Q265.731 1522.85 265.731 1531.6 Q265.731 1540.33 262.652 1544.94 Q259.597 1549.52 253.786 1549.52 Q247.976 1549.52 244.898 1544.94 Q241.842 1540.33 241.842 1531.6 Q241.842 1522.85 244.898 1518.27 Q247.976 1513.66 253.786 1513.66 Z\" fill=\"#000000\" fill-rule=\"evenodd\" fill-opacity=\"1\" /><path clip-path=\"url(#clip980)\" d=\"M273.948 1542.97 L278.833 1542.97 L278.833 1548.85 L273.948 1548.85 L273.948 1542.97 Z\" fill=\"#000000\" fill-rule=\"evenodd\" fill-opacity=\"1\" /><path clip-path=\"url(#clip980)\" d=\"M299.018 1517.37 Q295.407 1517.37 293.578 1520.93 Q291.772 1524.47 291.772 1531.6 Q291.772 1538.71 293.578 1542.27 Q295.407 1545.82 299.018 1545.82 Q302.652 1545.82 304.457 1542.27 Q306.286 1538.71 306.286 1531.6 Q306.286 1524.47 304.457 1520.93 Q302.652 1517.37 299.018 1517.37 M299.018 1513.66 Q304.828 1513.66 307.883 1518.27 Q310.962 1522.85 310.962 1531.6 Q310.962 1540.33 307.883 1544.94 Q304.828 1549.52 299.018 1549.52 Q293.208 1549.52 290.129 1544.94 Q287.073 1540.33 287.073 1531.6 Q287.073 1522.85 290.129 1518.27 Q293.208 1513.66 299.018 1513.66 Z\" fill=\"#000000\" fill-rule=\"evenodd\" fill-opacity=\"1\" /><path clip-path=\"url(#clip980)\" d=\"M608.678 1544.91 L616.317 1544.91 L616.317 1518.55 L608.006 1520.21 L608.006 1515.95 L616.27 1514.29 L620.946 1514.29 L620.946 1544.91 L628.585 1544.91 L628.585 1548.85 L608.678 1548.85 L608.678 1544.91 Z\" fill=\"#000000\" fill-rule=\"evenodd\" fill-opacity=\"1\" /><path clip-path=\"url(#clip980)\" d=\"M648.029 1517.37 Q644.418 1517.37 642.59 1520.93 Q640.784 1524.47 640.784 1531.6 Q640.784 1538.71 642.59 1542.27 Q644.418 1545.82 648.029 1545.82 Q651.664 1545.82 653.469 1542.27 Q655.298 1538.71 655.298 1531.6 Q655.298 1524.47 653.469 1520.93 Q651.664 1517.37 648.029 1517.37 M648.029 1513.66 Q653.839 1513.66 656.895 1518.27 Q659.974 1522.85 659.974 1531.6 Q659.974 1540.33 656.895 1544.94 Q653.839 1549.52 648.029 1549.52 Q642.219 1549.52 639.14 1544.94 Q636.085 1540.33 636.085 1531.6 Q636.085 1522.85 639.14 1518.27 Q642.219 1513.66 648.029 1513.66 Z\" fill=\"#000000\" fill-rule=\"evenodd\" fill-opacity=\"1\" /><path clip-path=\"url(#clip980)\" d=\"M668.191 1542.97 L673.075 1542.97 L673.075 1548.85 L668.191 1548.85 L668.191 1542.97 Z\" fill=\"#000000\" fill-rule=\"evenodd\" fill-opacity=\"1\" /><path clip-path=\"url(#clip980)\" d=\"M683.307 1514.29 L701.663 1514.29 L701.663 1518.22 L687.589 1518.22 L687.589 1526.7 Q688.608 1526.35 689.626 1526.19 Q690.645 1526 691.663 1526 Q697.45 1526 700.83 1529.17 Q704.21 1532.34 704.21 1537.76 Q704.21 1543.34 700.737 1546.44 Q697.265 1549.52 690.946 1549.52 Q688.77 1549.52 686.501 1549.15 Q684.256 1548.78 681.849 1548.04 L681.849 1543.34 Q683.932 1544.47 686.154 1545.03 Q688.376 1545.58 690.853 1545.58 Q694.858 1545.58 697.196 1543.48 Q699.534 1541.37 699.534 1537.76 Q699.534 1534.15 697.196 1532.04 Q694.858 1529.94 690.853 1529.94 Q688.978 1529.94 687.103 1530.35 Q685.251 1530.77 683.307 1531.65 L683.307 1514.29 Z\" fill=\"#000000\" fill-rule=\"evenodd\" fill-opacity=\"1\" /><path clip-path=\"url(#clip980)\" d=\"M1001.93 1544.91 L1009.56 1544.91 L1009.56 1518.55 L1001.25 1520.21 L1001.25 1515.95 L1009.52 1514.29 L1014.19 1514.29 L1014.19 1544.91 L1021.83 1544.91 L1021.83 1548.85 L1001.93 1548.85 L1001.93 1544.91 Z\" fill=\"#000000\" fill-rule=\"evenodd\" fill-opacity=\"1\" /><path clip-path=\"url(#clip980)\" d=\"M1032.09 1544.91 L1039.73 1544.91 L1039.73 1518.55 L1031.42 1520.21 L1031.42 1515.95 L1039.68 1514.29 L1044.36 1514.29 L1044.36 1544.91 L1051.99 1544.91 L1051.99 1548.85 L1032.09 1548.85 L1032.09 1544.91 Z\" fill=\"#000000\" fill-rule=\"evenodd\" fill-opacity=\"1\" /><path clip-path=\"url(#clip980)\" d=\"M1061.44 1542.97 L1066.32 1542.97 L1066.32 1548.85 L1061.44 1548.85 L1061.44 1542.97 Z\" fill=\"#000000\" fill-rule=\"evenodd\" fill-opacity=\"1\" /><path clip-path=\"url(#clip980)\" d=\"M1086.51 1517.37 Q1082.9 1517.37 1081.07 1520.93 Q1079.26 1524.47 1079.26 1531.6 Q1079.26 1538.71 1081.07 1542.27 Q1082.9 1545.82 1086.51 1545.82 Q1090.14 1545.82 1091.95 1542.27 Q1093.78 1538.71 1093.78 1531.6 Q1093.78 1524.47 1091.95 1520.93 Q1090.14 1517.37 1086.51 1517.37 M1086.51 1513.66 Q1092.32 1513.66 1095.37 1518.27 Q1098.45 1522.85 1098.45 1531.6 Q1098.45 1540.33 1095.37 1544.94 Q1092.32 1549.52 1086.51 1549.52 Q1080.7 1549.52 1077.62 1544.94 Q1074.56 1540.33 1074.56 1531.6 Q1074.56 1522.85 1077.62 1518.27 Q1080.7 1513.66 1086.51 1513.66 Z\" fill=\"#000000\" fill-rule=\"evenodd\" fill-opacity=\"1\" /><path clip-path=\"url(#clip980)\" d=\"M1396.17 1544.91 L1403.81 1544.91 L1403.81 1518.55 L1395.5 1520.21 L1395.5 1515.95 L1403.76 1514.29 L1408.44 1514.29 L1408.44 1544.91 L1416.08 1544.91 L1416.08 1548.85 L1396.17 1548.85 L1396.17 1544.91 Z\" fill=\"#000000\" fill-rule=\"evenodd\" fill-opacity=\"1\" /><path clip-path=\"url(#clip980)\" d=\"M1426.33 1544.91 L1433.97 1544.91 L1433.97 1518.55 L1425.66 1520.21 L1425.66 1515.95 L1433.92 1514.29 L1438.6 1514.29 L1438.6 1544.91 L1446.24 1544.91 L1446.24 1548.85 L1426.33 1548.85 L1426.33 1544.91 Z\" fill=\"#000000\" fill-rule=\"evenodd\" fill-opacity=\"1\" /><path clip-path=\"url(#clip980)\" d=\"M1455.68 1542.97 L1460.57 1542.97 L1460.57 1548.85 L1455.68 1548.85 L1455.68 1542.97 Z\" fill=\"#000000\" fill-rule=\"evenodd\" fill-opacity=\"1\" /><path clip-path=\"url(#clip980)\" d=\"M1470.8 1514.29 L1489.15 1514.29 L1489.15 1518.22 L1475.08 1518.22 L1475.08 1526.7 Q1476.1 1526.35 1477.12 1526.19 Q1478.14 1526 1479.15 1526 Q1484.94 1526 1488.32 1529.17 Q1491.7 1532.34 1491.7 1537.76 Q1491.7 1543.34 1488.23 1546.44 Q1484.76 1549.52 1478.44 1549.52 Q1476.26 1549.52 1473.99 1549.15 Q1471.75 1548.78 1469.34 1548.04 L1469.34 1543.34 Q1471.42 1544.47 1473.64 1545.03 Q1475.87 1545.58 1478.34 1545.58 Q1482.35 1545.58 1484.69 1543.48 Q1487.02 1541.37 1487.02 1537.76 Q1487.02 1534.15 1484.69 1532.04 Q1482.35 1529.94 1478.34 1529.94 Q1476.47 1529.94 1474.59 1530.35 Q1472.74 1530.77 1470.8 1531.65 L1470.8 1514.29 Z\" fill=\"#000000\" fill-rule=\"evenodd\" fill-opacity=\"1\" /><path clip-path=\"url(#clip980)\" d=\"M1789.42 1544.91 L1797.05 1544.91 L1797.05 1518.55 L1788.74 1520.21 L1788.74 1515.95 L1797.01 1514.29 L1801.68 1514.29 L1801.68 1544.91 L1809.32 1544.91 L1809.32 1548.85 L1789.42 1548.85 L1789.42 1544.91 Z\" fill=\"#000000\" fill-rule=\"evenodd\" fill-opacity=\"1\" /><path clip-path=\"url(#clip980)\" d=\"M1822.79 1544.91 L1839.11 1544.91 L1839.11 1548.85 L1817.17 1548.85 L1817.17 1544.91 Q1819.83 1542.16 1824.42 1537.53 Q1829.02 1532.88 1830.2 1531.53 Q1832.45 1529.01 1833.33 1527.27 Q1834.23 1525.51 1834.23 1523.82 Q1834.23 1521.07 1832.29 1519.33 Q1830.36 1517.6 1827.26 1517.6 Q1825.06 1517.6 1822.61 1518.36 Q1820.18 1519.13 1817.4 1520.68 L1817.4 1515.95 Q1820.23 1514.82 1822.68 1514.24 Q1825.13 1513.66 1827.17 1513.66 Q1832.54 1513.66 1835.73 1516.35 Q1838.93 1519.03 1838.93 1523.52 Q1838.93 1525.65 1838.12 1527.57 Q1837.33 1529.47 1835.23 1532.07 Q1834.65 1532.74 1831.54 1535.95 Q1828.44 1539.15 1822.79 1544.91 Z\" fill=\"#000000\" fill-rule=\"evenodd\" fill-opacity=\"1\" /><path clip-path=\"url(#clip980)\" d=\"M1848.93 1542.97 L1853.81 1542.97 L1853.81 1548.85 L1848.93 1548.85 L1848.93 1542.97 Z\" fill=\"#000000\" fill-rule=\"evenodd\" fill-opacity=\"1\" /><path clip-path=\"url(#clip980)\" d=\"M1874 1517.37 Q1870.39 1517.37 1868.56 1520.93 Q1866.75 1524.47 1866.75 1531.6 Q1866.75 1538.71 1868.56 1542.27 Q1870.39 1545.82 1874 1545.82 Q1877.63 1545.82 1879.44 1542.27 Q1881.27 1538.71 1881.27 1531.6 Q1881.27 1524.47 1879.44 1520.93 Q1877.63 1517.37 1874 1517.37 M1874 1513.66 Q1879.81 1513.66 1882.86 1518.27 Q1885.94 1522.85 1885.94 1531.6 Q1885.94 1540.33 1882.86 1544.94 Q1879.81 1549.52 1874 1549.52 Q1868.19 1549.52 1865.11 1544.94 Q1862.05 1540.33 1862.05 1531.6 Q1862.05 1522.85 1865.11 1518.27 Q1868.19 1513.66 1874 1513.66 Z\" fill=\"#000000\" fill-rule=\"evenodd\" fill-opacity=\"1\" /><path clip-path=\"url(#clip980)\" d=\"M2183.66 1544.91 L2191.3 1544.91 L2191.3 1518.55 L2182.99 1520.21 L2182.99 1515.95 L2191.25 1514.29 L2195.93 1514.29 L2195.93 1544.91 L2203.57 1544.91 L2203.57 1548.85 L2183.66 1548.85 L2183.66 1544.91 Z\" fill=\"#000000\" fill-rule=\"evenodd\" fill-opacity=\"1\" /><path clip-path=\"url(#clip980)\" d=\"M2217.04 1544.91 L2233.36 1544.91 L2233.36 1548.85 L2211.41 1548.85 L2211.41 1544.91 Q2214.07 1542.16 2218.66 1537.53 Q2223.26 1532.88 2224.45 1531.53 Q2226.69 1529.01 2227.57 1527.27 Q2228.47 1525.51 2228.47 1523.82 Q2228.47 1521.07 2226.53 1519.33 Q2224.61 1517.6 2221.51 1517.6 Q2219.31 1517.6 2216.85 1518.36 Q2214.42 1519.13 2211.64 1520.68 L2211.64 1515.95 Q2214.47 1514.82 2216.92 1514.24 Q2219.38 1513.66 2221.41 1513.66 Q2226.78 1513.66 2229.98 1516.35 Q2233.17 1519.03 2233.17 1523.52 Q2233.17 1525.65 2232.36 1527.57 Q2231.57 1529.47 2229.47 1532.07 Q2228.89 1532.74 2225.79 1535.95 Q2222.69 1539.15 2217.04 1544.91 Z\" fill=\"#000000\" fill-rule=\"evenodd\" fill-opacity=\"1\" /><path clip-path=\"url(#clip980)\" d=\"M2243.17 1542.97 L2248.06 1542.97 L2248.06 1548.85 L2243.17 1548.85 L2243.17 1542.97 Z\" fill=\"#000000\" fill-rule=\"evenodd\" fill-opacity=\"1\" /><path clip-path=\"url(#clip980)\" d=\"M2258.29 1514.29 L2276.64 1514.29 L2276.64 1518.22 L2262.57 1518.22 L2262.57 1526.7 Q2263.59 1526.35 2264.61 1526.19 Q2265.63 1526 2266.64 1526 Q2272.43 1526 2275.81 1529.17 Q2279.19 1532.34 2279.19 1537.76 Q2279.19 1543.34 2275.72 1546.44 Q2272.25 1549.52 2265.93 1549.52 Q2263.75 1549.52 2261.48 1549.15 Q2259.24 1548.78 2256.83 1548.04 L2256.83 1543.34 Q2258.91 1544.47 2261.13 1545.03 Q2263.36 1545.58 2265.83 1545.58 Q2269.84 1545.58 2272.18 1543.48 Q2274.51 1541.37 2274.51 1537.76 Q2274.51 1534.15 2272.18 1532.04 Q2269.84 1529.94 2265.83 1529.94 Q2263.96 1529.94 2262.08 1530.35 Q2260.23 1530.77 2258.29 1531.65 L2258.29 1514.29 Z\" fill=\"#000000\" fill-rule=\"evenodd\" fill-opacity=\"1\" /><polyline clip-path=\"url(#clip982)\" style=\"stroke:#000000; stroke-linecap:round; stroke-linejoin:round; stroke-width:2; stroke-opacity:0.1; fill:none\" points=\"\n",
       "  140.696,1445.72 2352.76,1445.72 \n",
       "  \"/>\n",
       "<polyline clip-path=\"url(#clip982)\" style=\"stroke:#000000; stroke-linecap:round; stroke-linejoin:round; stroke-width:2; stroke-opacity:0.1; fill:none\" points=\"\n",
       "  140.696,1046.38 2352.76,1046.38 \n",
       "  \"/>\n",
       "<polyline clip-path=\"url(#clip982)\" style=\"stroke:#000000; stroke-linecap:round; stroke-linejoin:round; stroke-width:2; stroke-opacity:0.1; fill:none\" points=\"\n",
       "  140.696,647.045 2352.76,647.045 \n",
       "  \"/>\n",
       "<polyline clip-path=\"url(#clip982)\" style=\"stroke:#000000; stroke-linecap:round; stroke-linejoin:round; stroke-width:2; stroke-opacity:0.1; fill:none\" points=\"\n",
       "  140.696,247.71 2352.76,247.71 \n",
       "  \"/>\n",
       "<polyline clip-path=\"url(#clip980)\" style=\"stroke:#000000; stroke-linecap:round; stroke-linejoin:round; stroke-width:4; stroke-opacity:1; fill:none\" points=\"\n",
       "  140.696,1486.45 140.696,47.2441 \n",
       "  \"/>\n",
       "<polyline clip-path=\"url(#clip980)\" style=\"stroke:#000000; stroke-linecap:round; stroke-linejoin:round; stroke-width:4; stroke-opacity:1; fill:none\" points=\"\n",
       "  140.696,1445.72 159.593,1445.72 \n",
       "  \"/>\n",
       "<polyline clip-path=\"url(#clip980)\" style=\"stroke:#000000; stroke-linecap:round; stroke-linejoin:round; stroke-width:4; stroke-opacity:1; fill:none\" points=\"\n",
       "  140.696,1046.38 159.593,1046.38 \n",
       "  \"/>\n",
       "<polyline clip-path=\"url(#clip980)\" style=\"stroke:#000000; stroke-linecap:round; stroke-linejoin:round; stroke-width:4; stroke-opacity:1; fill:none\" points=\"\n",
       "  140.696,647.045 159.593,647.045 \n",
       "  \"/>\n",
       "<polyline clip-path=\"url(#clip980)\" style=\"stroke:#000000; stroke-linecap:round; stroke-linejoin:round; stroke-width:4; stroke-opacity:1; fill:none\" points=\"\n",
       "  140.696,247.71 159.593,247.71 \n",
       "  \"/>\n",
       "<path clip-path=\"url(#clip980)\" d=\"M92.7512 1431.51 Q89.1401 1431.51 87.3114 1435.08 Q85.5058 1438.62 85.5058 1445.75 Q85.5058 1452.86 87.3114 1456.42 Q89.1401 1459.96 92.7512 1459.96 Q96.3854 1459.96 98.1909 1456.42 Q100.02 1452.86 100.02 1445.75 Q100.02 1438.62 98.1909 1435.08 Q96.3854 1431.51 92.7512 1431.51 M92.7512 1427.81 Q98.5613 1427.81 101.617 1432.42 Q104.696 1437 104.696 1445.75 Q104.696 1454.48 101.617 1459.08 Q98.5613 1463.67 92.7512 1463.67 Q86.941 1463.67 83.8623 1459.08 Q80.8068 1454.48 80.8068 1445.75 Q80.8068 1437 83.8623 1432.42 Q86.941 1427.81 92.7512 1427.81 Z\" fill=\"#000000\" fill-rule=\"evenodd\" fill-opacity=\"1\" /><path clip-path=\"url(#clip980)\" d=\"M53.3995 1059.73 L61.0384 1059.73 L61.0384 1033.36 L52.7282 1035.03 L52.7282 1030.77 L60.9921 1029.1 L65.668 1029.1 L65.668 1059.73 L73.3068 1059.73 L73.3068 1063.66 L53.3995 1063.66 L53.3995 1059.73 Z\" fill=\"#000000\" fill-rule=\"evenodd\" fill-opacity=\"1\" /><path clip-path=\"url(#clip980)\" d=\"M92.7512 1032.18 Q89.1401 1032.18 87.3114 1035.74 Q85.5058 1039.29 85.5058 1046.42 Q85.5058 1053.52 87.3114 1057.09 Q89.1401 1060.63 92.7512 1060.63 Q96.3854 1060.63 98.1909 1057.09 Q100.02 1053.52 100.02 1046.42 Q100.02 1039.29 98.1909 1035.74 Q96.3854 1032.18 92.7512 1032.18 M92.7512 1028.48 Q98.5613 1028.48 101.617 1033.08 Q104.696 1037.67 104.696 1046.42 Q104.696 1055.14 101.617 1059.75 Q98.5613 1064.33 92.7512 1064.33 Q86.941 1064.33 83.8623 1059.75 Q80.8068 1055.14 80.8068 1046.42 Q80.8068 1037.67 83.8623 1033.08 Q86.941 1028.48 92.7512 1028.48 Z\" fill=\"#000000\" fill-rule=\"evenodd\" fill-opacity=\"1\" /><path clip-path=\"url(#clip980)\" d=\"M56.6171 660.39 L72.9365 660.39 L72.9365 664.325 L50.9921 664.325 L50.9921 660.39 Q53.6541 657.636 58.2375 653.006 Q62.8439 648.353 64.0245 647.011 Q66.2698 644.488 67.1494 642.751 Q68.0522 640.992 68.0522 639.302 Q68.0522 636.548 66.1078 634.812 Q64.1865 633.076 61.0847 633.076 Q58.8856 633.076 56.4319 633.839 Q54.0014 634.603 51.2236 636.154 L51.2236 631.432 Q54.0477 630.298 56.5014 629.719 Q58.955 629.14 60.9921 629.14 Q66.3624 629.14 69.5568 631.826 Q72.7513 634.511 72.7513 639.002 Q72.7513 641.131 71.9411 643.052 Q71.1541 644.951 69.0476 647.543 Q68.4689 648.214 65.367 651.432 Q62.2652 654.626 56.6171 660.39 Z\" fill=\"#000000\" fill-rule=\"evenodd\" fill-opacity=\"1\" /><path clip-path=\"url(#clip980)\" d=\"M92.7512 632.844 Q89.1401 632.844 87.3114 636.409 Q85.5058 639.951 85.5058 647.08 Q85.5058 654.187 87.3114 657.751 Q89.1401 661.293 92.7512 661.293 Q96.3854 661.293 98.1909 657.751 Q100.02 654.187 100.02 647.08 Q100.02 639.951 98.1909 636.409 Q96.3854 632.844 92.7512 632.844 M92.7512 629.14 Q98.5613 629.14 101.617 633.747 Q104.696 638.33 104.696 647.08 Q104.696 655.807 101.617 660.413 Q98.5613 664.997 92.7512 664.997 Q86.941 664.997 83.8623 660.413 Q80.8068 655.807 80.8068 647.08 Q80.8068 638.33 83.8623 633.747 Q86.941 629.14 92.7512 629.14 Z\" fill=\"#000000\" fill-rule=\"evenodd\" fill-opacity=\"1\" /><path clip-path=\"url(#clip980)\" d=\"M66.7559 246.356 Q70.1124 247.074 71.9874 249.342 Q73.8855 251.611 73.8855 254.944 Q73.8855 260.06 70.367 262.861 Q66.8485 265.662 60.3671 265.662 Q58.1912 265.662 55.8764 265.222 Q53.5847 264.805 51.131 263.949 L51.131 259.435 Q53.0754 260.569 55.3903 261.148 Q57.7051 261.726 60.2282 261.726 Q64.6263 261.726 66.918 259.99 Q69.2328 258.254 69.2328 254.944 Q69.2328 251.889 67.08 250.176 Q64.9504 248.439 61.131 248.439 L57.1032 248.439 L57.1032 244.597 L61.3161 244.597 Q64.7652 244.597 66.5939 243.231 Q68.4226 241.842 68.4226 239.25 Q68.4226 236.588 66.5245 235.176 Q64.6495 233.74 61.131 233.74 Q59.2097 233.74 57.0106 234.157 Q54.8115 234.574 52.1727 235.453 L52.1727 231.287 Q54.8347 230.546 57.1495 230.176 Q59.4875 229.805 61.5476 229.805 Q66.8717 229.805 69.9735 232.236 Q73.0753 234.643 73.0753 238.764 Q73.0753 241.634 71.4318 243.625 Q69.7883 245.592 66.7559 246.356 Z\" fill=\"#000000\" fill-rule=\"evenodd\" fill-opacity=\"1\" /><path clip-path=\"url(#clip980)\" d=\"M92.7512 233.509 Q89.1401 233.509 87.3114 237.074 Q85.5058 240.615 85.5058 247.745 Q85.5058 254.851 87.3114 258.416 Q89.1401 261.958 92.7512 261.958 Q96.3854 261.958 98.1909 258.416 Q100.02 254.851 100.02 247.745 Q100.02 240.615 98.1909 237.074 Q96.3854 233.509 92.7512 233.509 M92.7512 229.805 Q98.5613 229.805 101.617 234.412 Q104.696 238.995 104.696 247.745 Q104.696 256.472 101.617 261.078 Q98.5613 265.662 92.7512 265.662 Q86.941 265.662 83.8623 261.078 Q80.8068 256.472 80.8068 247.745 Q80.8068 238.995 83.8623 234.412 Q86.941 229.805 92.7512 229.805 Z\" fill=\"#000000\" fill-rule=\"evenodd\" fill-opacity=\"1\" /><path clip-path=\"url(#clip982)\" d=\"\n",
       "M262.363 1285.98 L262.363 1445.72 L656.108 1445.72 L656.108 1285.98 L262.363 1285.98 L262.363 1285.98  Z\n",
       "  \" fill=\"#009af9\" fill-rule=\"evenodd\" fill-opacity=\"1\"/>\n",
       "<polyline clip-path=\"url(#clip982)\" style=\"stroke:#000000; stroke-linecap:round; stroke-linejoin:round; stroke-width:4; stroke-opacity:1; fill:none\" points=\"\n",
       "  262.363,1285.98 262.363,1445.72 656.108,1445.72 656.108,1285.98 262.363,1285.98 \n",
       "  \"/>\n",
       "<path clip-path=\"url(#clip982)\" d=\"\n",
       "M656.108 87.9763 L656.108 1445.72 L1049.85 1445.72 L1049.85 87.9763 L656.108 87.9763 L656.108 87.9763  Z\n",
       "  \" fill=\"#009af9\" fill-rule=\"evenodd\" fill-opacity=\"1\"/>\n",
       "<polyline clip-path=\"url(#clip982)\" style=\"stroke:#000000; stroke-linecap:round; stroke-linejoin:round; stroke-width:4; stroke-opacity:1; fill:none\" points=\"\n",
       "  656.108,87.9763 656.108,1445.72 1049.85,1445.72 1049.85,87.9763 656.108,87.9763 \n",
       "  \"/>\n",
       "<path clip-path=\"url(#clip982)\" d=\"\n",
       "M1049.85 1086.31 L1049.85 1445.72 L1443.6 1445.72 L1443.6 1086.31 L1049.85 1086.31 L1049.85 1086.31  Z\n",
       "  \" fill=\"#009af9\" fill-rule=\"evenodd\" fill-opacity=\"1\"/>\n",
       "<polyline clip-path=\"url(#clip982)\" style=\"stroke:#000000; stroke-linecap:round; stroke-linejoin:round; stroke-width:4; stroke-opacity:1; fill:none\" points=\"\n",
       "  1049.85,1086.31 1049.85,1445.72 1443.6,1445.72 1443.6,1086.31 1049.85,1086.31 \n",
       "  \"/>\n",
       "<path clip-path=\"url(#clip982)\" d=\"\n",
       "M1443.6 447.378 L1443.6 1445.72 L1837.34 1445.72 L1837.34 447.378 L1443.6 447.378 L1443.6 447.378  Z\n",
       "  \" fill=\"#009af9\" fill-rule=\"evenodd\" fill-opacity=\"1\"/>\n",
       "<polyline clip-path=\"url(#clip982)\" style=\"stroke:#000000; stroke-linecap:round; stroke-linejoin:round; stroke-width:4; stroke-opacity:1; fill:none\" points=\"\n",
       "  1443.6,447.378 1443.6,1445.72 1837.34,1445.72 1837.34,447.378 1443.6,447.378 \n",
       "  \"/>\n",
       "<path clip-path=\"url(#clip982)\" d=\"\n",
       "M1837.34 1166.18 L1837.34 1445.72 L2231.09 1445.72 L2231.09 1166.18 L1837.34 1166.18 L1837.34 1166.18  Z\n",
       "  \" fill=\"#009af9\" fill-rule=\"evenodd\" fill-opacity=\"1\"/>\n",
       "<polyline clip-path=\"url(#clip982)\" style=\"stroke:#000000; stroke-linecap:round; stroke-linejoin:round; stroke-width:4; stroke-opacity:1; fill:none\" points=\"\n",
       "  1837.34,1166.18 1837.34,1445.72 2231.09,1445.72 2231.09,1166.18 1837.34,1166.18 \n",
       "  \"/>\n",
       "<circle clip-path=\"url(#clip982)\" style=\"fill:#009af9; stroke:none; fill-opacity:0\" cx=\"459.235\" cy=\"1285.98\" r=\"2\"/>\n",
       "<circle clip-path=\"url(#clip982)\" style=\"fill:#009af9; stroke:none; fill-opacity:0\" cx=\"852.981\" cy=\"87.9763\" r=\"2\"/>\n",
       "<circle clip-path=\"url(#clip982)\" style=\"fill:#009af9; stroke:none; fill-opacity:0\" cx=\"1246.73\" cy=\"1086.31\" r=\"2\"/>\n",
       "<circle clip-path=\"url(#clip982)\" style=\"fill:#009af9; stroke:none; fill-opacity:0\" cx=\"1640.47\" cy=\"447.378\" r=\"2\"/>\n",
       "<circle clip-path=\"url(#clip982)\" style=\"fill:#009af9; stroke:none; fill-opacity:0\" cx=\"2034.22\" cy=\"1166.18\" r=\"2\"/>\n",
       "<path clip-path=\"url(#clip980)\" d=\"\n",
       "M1980.81 198.898 L2279.02 198.898 L2279.02 95.2176 L1980.81 95.2176  Z\n",
       "  \" fill=\"#ffffff\" fill-rule=\"evenodd\" fill-opacity=\"1\"/>\n",
       "<polyline clip-path=\"url(#clip980)\" style=\"stroke:#000000; stroke-linecap:round; stroke-linejoin:round; stroke-width:4; stroke-opacity:1; fill:none\" points=\"\n",
       "  1980.81,198.898 2279.02,198.898 2279.02,95.2176 1980.81,95.2176 1980.81,198.898 \n",
       "  \"/>\n",
       "<path clip-path=\"url(#clip980)\" d=\"\n",
       "M2005.38 167.794 L2152.85 167.794 L2152.85 126.322 L2005.38 126.322 L2005.38 167.794  Z\n",
       "  \" fill=\"#009af9\" fill-rule=\"evenodd\" fill-opacity=\"1\"/>\n",
       "<polyline clip-path=\"url(#clip980)\" style=\"stroke:#000000; stroke-linecap:round; stroke-linejoin:round; stroke-width:4; stroke-opacity:1; fill:none\" points=\"\n",
       "  2005.38,167.794 2152.85,167.794 2152.85,126.322 2005.38,126.322 2005.38,167.794 \n",
       "  \"/>\n",
       "<path clip-path=\"url(#clip980)\" d=\"M2191.28 166.745 Q2189.47 171.375 2187.76 172.787 Q2186.04 174.199 2183.17 174.199 L2179.77 174.199 L2179.77 170.634 L2182.27 170.634 Q2184.03 170.634 2185 169.8 Q2185.98 168.967 2187.16 165.865 L2187.92 163.921 L2177.43 138.412 L2181.95 138.412 L2190.05 158.689 L2198.15 138.412 L2202.66 138.412 L2191.28 166.745 Z\" fill=\"#000000\" fill-rule=\"evenodd\" fill-opacity=\"1\" /><path clip-path=\"url(#clip980)\" d=\"M2209.96 160.402 L2217.6 160.402 L2217.6 134.037 L2209.29 135.703 L2209.29 131.444 L2217.55 129.778 L2222.22 129.778 L2222.22 160.402 L2229.86 160.402 L2229.86 164.338 L2209.96 164.338 L2209.96 160.402 Z\" fill=\"#000000\" fill-rule=\"evenodd\" fill-opacity=\"1\" /></svg>\n"
      ]
     },
     "execution_count": 50,
     "metadata": {},
     "output_type": "execute_result"
    }
   ],
   "source": [
    "histogram(pheno_y)"
   ]
  },
  {
   "cell_type": "code",
   "execution_count": 51,
   "id": "91d2c2c8-9c89-4011-af36-be3ecaf33758",
   "metadata": {},
   "outputs": [
    {
     "data": {
      "text/plain": [
       "0.3345634803635185"
      ]
     },
     "execution_count": 51,
     "metadata": {},
     "output_type": "execute_result"
    }
   ],
   "source": [
    "var(pheno_y)"
   ]
  },
  {
   "cell_type": "code",
   "execution_count": 16,
   "id": "f933feba-5ac8-43d7-8471-43f2dc6f0ba7",
   "metadata": {},
   "outputs": [
    {
     "data": {
      "text/plain": [
       "(79, 1)"
      ]
     },
     "execution_count": 16,
     "metadata": {},
     "output_type": "execute_result"
    }
   ],
   "source": [
    "size(readdlm(pheno_filename, ','))"
   ]
  },
  {
   "cell_type": "markdown",
   "id": "ae4b37d6-82f0-45ef-b105-67c438b51182",
   "metadata": {},
   "source": [
    "For univariate trait BIMBAM data, it just one column of phenotype values of the 79 strains."
   ]
  },
  {
   "cell_type": "markdown",
   "id": "b1060904-6848-415b-9d22-bf7c85f04a15",
   "metadata": {},
   "source": [
    "For binary traits, it is recommended to label controls as 0 and cases as 1 for better interpretation of the results."
   ]
  },
  {
   "cell_type": "markdown",
   "id": "a5aae8ef-93bc-4121-9d64-ded4c44b706c",
   "metadata": {
    "tags": []
   },
   "source": [
    "### Relatedness Matrix File Format"
   ]
  },
  {
   "cell_type": "markdown",
   "id": "fd84a324-1417-4686-aabb-2bef1758d823",
   "metadata": {},
   "source": [
    "### Original Matrix Format"
   ]
  },
  {
   "cell_type": "markdown",
   "id": "16a4126a-3eb1-438b-9943-392c89dff872",
   "metadata": {},
   "source": [
    "Two formats of kinship matrix in the original matrix form allowed by GEMMA are as shown below:"
   ]
  },
  {
   "cell_type": "code",
   "execution_count": 17,
   "id": "3d19a82c-392a-4ab8-91db-bd5a85403870",
   "metadata": {},
   "outputs": [
    {
     "data": {
      "text/plain": [
       "3×3 Matrix{Float64}:\n",
       "  0.3345  -0.0227   0.0103\n",
       " -0.0227   0.3032  -0.0253\n",
       "  0.0103  -0.0253   0.3531"
      ]
     },
     "execution_count": 17,
     "metadata": {},
     "output_type": "execute_result"
    }
   ],
   "source": [
    "example1_K = reshape([0.3345  -0.0227   0.0103 -0.0227  0.3032  -0.0253 0.0103  -0.0253   0.3531], 3, 3)"
   ]
  },
  {
   "cell_type": "code",
   "execution_count": 18,
   "id": "df4338cd-856b-4099-804e-ed052db2ebaa",
   "metadata": {},
   "outputs": [
    {
     "data": {
      "text/html": [
       "<div class=\"data-frame\"><p>6 rows × 3 columns</p><table class=\"data-frame\"><thead><tr><th></th><th>column_1</th><th>column_2</th><th>column_3</th></tr><tr><th></th><th title=\"String\">String</th><th title=\"String\">String</th><th title=\"Float64\">Float64</th></tr></thead><tbody><tr><th>1</th><td>id1</td><td>id1</td><td>0.3345</td></tr><tr><th>2</th><td>id1</td><td>id2</td><td>-0.0227</td></tr><tr><th>3</th><td>id1</td><td>id3</td><td>0.0103</td></tr><tr><th>4</th><td>id2</td><td>id2</td><td>0.3032</td></tr><tr><th>5</th><td>id2</td><td>id3</td><td>-0.0253</td></tr><tr><th>6</th><td>id3</td><td>id3</td><td>0.3531</td></tr></tbody></table></div>"
      ],
      "text/latex": [
       "\\begin{tabular}{r|ccc}\n",
       "\t& column\\_1 & column\\_2 & column\\_3\\\\\n",
       "\t\\hline\n",
       "\t& String & String & Float64\\\\\n",
       "\t\\hline\n",
       "\t1 & id1 & id1 & 0.3345 \\\\\n",
       "\t2 & id1 & id2 & -0.0227 \\\\\n",
       "\t3 & id1 & id3 & 0.0103 \\\\\n",
       "\t4 & id2 & id2 & 0.3032 \\\\\n",
       "\t5 & id2 & id3 & -0.0253 \\\\\n",
       "\t6 & id3 & id3 & 0.3531 \\\\\n",
       "\\end{tabular}\n"
      ],
      "text/plain": [
       "\u001b[1m6×3 DataFrame\u001b[0m\n",
       "\u001b[1m Row \u001b[0m│\u001b[1m column_1 \u001b[0m\u001b[1m column_2 \u001b[0m\u001b[1m column_3 \u001b[0m\n",
       "\u001b[1m     \u001b[0m│\u001b[90m String   \u001b[0m\u001b[90m String   \u001b[0m\u001b[90m Float64  \u001b[0m\n",
       "─────┼──────────────────────────────\n",
       "   1 │ id1       id1         0.3345\n",
       "   2 │ id1       id2        -0.0227\n",
       "   3 │ id1       id3         0.0103\n",
       "   4 │ id2       id2         0.3032\n",
       "   5 │ id2       id3        -0.0253\n",
       "   6 │ id3       id3         0.3531"
      ]
     },
     "execution_count": 18,
     "metadata": {},
     "output_type": "execute_result"
    }
   ],
   "source": [
    "example2_K = df = DataFrame(column_1 = [\"id1\", \"id1\", \"id1\", \"id2\", \"id2\", \"id3\"], \n",
    "               column_2 = [\"id1\", \"id2\", \"id3\", \"id2\", \"id3\", \"id3\"],\n",
    "               column_3 = [0.3345, -0.0227, 0.0103, 0.3032,  -0.0253, 0.3531])"
   ]
  },
  {
   "cell_type": "markdown",
   "id": "2e9a2cb0-3458-4628-87a2-bace78548501",
   "metadata": {},
   "source": [
    "Two example kinship matrix formats allowed are as shown above, for three individuals. One can use `-km [num]` to choose which format to use, i.e. use `km -1` to accompany BIMBAM format."
   ]
  },
  {
   "cell_type": "markdown",
   "id": "047e9269-31fd-411d-b134-6dcfdf02fb08",
   "metadata": {
    "tags": []
   },
   "source": [
    "## Models"
   ]
  },
  {
   "cell_type": "markdown",
   "id": "12fe2642-1ba2-4a7c-bb52-800f4f36873b",
   "metadata": {
    "tags": []
   },
   "source": [
    "### Estimate Relatedness Matrix from Genotypes\n",
    "\n",
    "#### Basic Usage\n",
    "\n",
    "`gemma -g [genotype file name] -p [phenotype file name] -gk [num: 1 for G_centered, 2 for G_standardized] -o [output prefix]`"
   ]
  },
  {
   "cell_type": "code",
   "execution_count": 56,
   "id": "17a79d2d-ac09-4f7a-8426-0935cd5db327",
   "metadata": {},
   "outputs": [
    {
     "name": "stdout",
     "output_type": "stream",
     "text": [
      "GEMMA 0.98.5 (2021-08-25) by Xiang Zhou, Pjotr Prins and team (C) 2012-2021\n",
      "Reading Files ... \n",
      "## number of total individuals = 79\n",
      "## number of analyzed individuals = 79\n",
      "## number of covariates = 1\n",
      "## number of phenotypes = 1\n",
      "## number of total SNPs/var        =     7321\n",
      "## number of analyzed SNPs         =     7321\n",
      "Calculating Relatedness Matrix ... \n",
      "================================================== 100%\n"
     ]
    },
    {
     "name": "stderr",
     "output_type": "stream",
     "text": [
      "**** INFO: Done.\n"
     ]
    },
    {
     "name": "stdout",
     "output_type": "stream",
     "text": [
      "  0.495937 seconds (643 allocations: 113.648 KiB)\n"
     ]
    },
    {
     "data": {
      "text/plain": [
       "Process(`\u001b[4m/home/xyu/software/GEMMA/gemma-0.98.5-linux-static-AMD64\u001b[24m \u001b[4m-g\u001b[24m \u001b[4mBXDgeno_prob_bimbam.txt\u001b[24m \u001b[4m-p\u001b[24m \u001b[4mBXDpheno_bimbam.txt\u001b[24m \u001b[4m-gk\u001b[24m \u001b[4m1\u001b[24m \u001b[4m-o\u001b[24m \u001b[4mkinship\u001b[24m`, ProcessExited(0))"
      ]
     },
     "execution_count": 56,
     "metadata": {},
     "output_type": "execute_result"
    }
   ],
   "source": [
    "@time run(`$gemma -g $geno_filename -p $pheno_filename -gk 1 -o kinship`)"
   ]
  },
  {
   "cell_type": "markdown",
   "id": "6d33aefd-fa7c-4d62-9581-c4c5adb9ce4f",
   "metadata": {},
   "source": [
    "#### Detailed Information\n",
    "\n",
    "$$G_c = \\frac{1}{p}\\sum_{i=1}^p(x_i -1_n \\bar x_i)(x_i - 1_n \\bar x_i)^T$$\n",
    "\n",
    "$$G_s = \\frac{1}{p}\\sum_{i=1}^p\\frac{1}{v_{x_i}}(x_i -1_n \\bar x_i)(x_i - 1_n \\bar x_i)^T$$"
   ]
  },
  {
   "cell_type": "markdown",
   "id": "f094c68d-3623-41e0-8d77-1e0fac205092",
   "metadata": {},
   "source": [
    "Which of the two relatedness matrix to choose will largely depend on the underlying genetic architecture of the given trait. Specifically, if SNPs with lower minor allele frequency tend to have larger effects (which is inversely proportional to its genotype variance), then the standardized genotype matrix is preferred. If the SNP effect size does not depend on its minor allele frequency, then the centered genotype matrix is preferred."
   ]
  },
  {
   "cell_type": "markdown",
   "id": "952dc411-bb8d-426e-8380-5dae73ecb660",
   "metadata": {},
   "source": [
    "### Univariate Linear Mixed Models"
   ]
  },
  {
   "cell_type": "markdown",
   "id": "a86cbccd-3bfc-4d22-8dbe-e685def5efcd",
   "metadata": {
    "tags": []
   },
   "source": [
    "#### Basic Usage\n",
    "\n",
    "`gemma -g [filename] -p [filename] -a [(optional) SNP annotation] -k [relatedness matrix file name] -lmm [1 for Wald test, 2 for LR test, 3 for score test, 4 for all three tests] -o [prefix]`"
   ]
  },
  {
   "cell_type": "code",
   "execution_count": 57,
   "id": "d44f0b8a-a9cb-41ae-9d79-f412cbddc332",
   "metadata": {},
   "outputs": [
    {
     "data": {
      "text/plain": [
       "\"/home/xyu/github/BulkLMM.jl/test/run-gemma\""
      ]
     },
     "execution_count": 57,
     "metadata": {},
     "output_type": "execute_result"
    }
   ],
   "source": [
    "pwd()"
   ]
  },
  {
   "cell_type": "code",
   "execution_count": 64,
   "id": "8d01c11f-806f-483a-8310-f82fba471060",
   "metadata": {},
   "outputs": [
    {
     "name": "stdout",
     "output_type": "stream",
     "text": [
      "GEMMA 0.98.5 (2021-08-25) by Xiang Zhou, Pjotr Prins and team (C) 2012-2021\n",
      "Reading Files ... \n",
      "## number of total individuals = 79\n",
      "## number of analyzed individuals = 79\n",
      "## number of covariates = 1\n",
      "## number of phenotypes = 1\n",
      "## number of total SNPs/var        =     7321\n",
      "## number of analyzed SNPs         =     7321\n",
      "Start Eigen-Decomposition...\n",
      "pve estimate =0.813567\n",
      "se(pve) =0.0950615\n",
      "================================================== 100%\n",
      "  1.282546 seconds (12.75 k allocations: 725.559 KiB, 1.27% compilation time)\n"
     ]
    },
    {
     "name": "stderr",
     "output_type": "stream",
     "text": [
      "**** INFO: Done.\n"
     ]
    },
    {
     "data": {
      "text/plain": [
       "Process(`\u001b[4m/home/xyu/software/GEMMA/gemma-0.98.5-linux-static-AMD64\u001b[24m \u001b[4m-g\u001b[24m \u001b[4mBXDgeno_prob_bimbam.txt\u001b[24m \u001b[4m-p\u001b[24m \u001b[4mBXDpheno_bimbam.txt\u001b[24m \u001b[4m-k\u001b[24m \u001b[4moutput/kinship.cXX.txt\u001b[24m \u001b[4m-lmm\u001b[24m \u001b[4m2\u001b[24m \u001b[4m-lmax\u001b[24m \u001b[4m1000000\u001b[24m \u001b[4m-o\u001b[24m \u001b[4mgemma_results.txt\u001b[24m`, ProcessExited(0))"
      ]
     },
     "execution_count": 64,
     "metadata": {},
     "output_type": "execute_result"
    }
   ],
   "source": [
    "@time run(`$gemma -g $geno_filename -p $pheno_filename -k output/kinship.cXX.txt -lmm 2 -lmax 1000000 -o gemma_results.txt`)"
   ]
  },
  {
   "cell_type": "markdown",
   "id": "30bbe4ec-1b1e-4a6f-ba93-295d6c6b843d",
   "metadata": {},
   "source": [
    "#### Output Files:"
   ]
  },
  {
   "cell_type": "markdown",
   "id": "26518489-f93e-4ef4-a24c-26c1ab97a396",
   "metadata": {},
   "source": [
    "There will be two optput files, both inside a folder named 'output' (auto-created) in the current directory:\n",
    "\n",
    "- The 'pre-fix.log.txt' file contains some detailed information about the running parameters and computation time,"
   ]
  },
  {
   "cell_type": "code",
   "execution_count": 65,
   "id": "27b09b11-ff4d-4c06-a1a0-c6af32e1a005",
   "metadata": {},
   "outputs": [],
   "source": [
    "logreport_gemma = CSV.read(\"output/gemma_results.txt.log.txt\", DataFrame, delim = '\\t', header = false);"
   ]
  },
  {
   "cell_type": "code",
   "execution_count": 66,
   "id": "c3f51192-574e-4c67-941c-240a7f87dfcc",
   "metadata": {},
   "outputs": [],
   "source": [
    "results_gemma = CSV.read(\"output/gemma_results.txt.assoc.txt\", DataFrame, delim = '\\t', header = false);"
   ]
  },
  {
   "cell_type": "code",
   "execution_count": 67,
   "id": "24b0d2af-ba00-4839-86e5-95a04c62dfd1",
   "metadata": {},
   "outputs": [
    {
     "data": {
      "text/html": [
       "<div class=\"data-frame\"><p>6 rows × 2 columns</p><table class=\"data-frame\"><thead><tr><th></th><th>Column9</th><th>Column10</th></tr><tr><th></th><th title=\"String15\">String15</th><th title=\"String15\">String15</th></tr></thead><tbody><tr><th>1</th><td>l_mle</td><td>p_lrt</td></tr><tr><th>2</th><td>1.000000e+06</td><td>9.681039e-01</td></tr><tr><th>3</th><td>1.000000e+06</td><td>9.681039e-01</td></tr><tr><th>4</th><td>1.000000e+06</td><td>9.681039e-01</td></tr><tr><th>5</th><td>1.000000e+06</td><td>9.681039e-01</td></tr><tr><th>6</th><td>1.000000e+06</td><td>9.681039e-01</td></tr></tbody></table></div>"
      ],
      "text/latex": [
       "\\begin{tabular}{r|cc}\n",
       "\t& Column9 & Column10\\\\\n",
       "\t\\hline\n",
       "\t& String15 & String15\\\\\n",
       "\t\\hline\n",
       "\t1 & l\\_mle & p\\_lrt \\\\\n",
       "\t2 & 1.000000e+06 & 9.681039e-01 \\\\\n",
       "\t3 & 1.000000e+06 & 9.681039e-01 \\\\\n",
       "\t4 & 1.000000e+06 & 9.681039e-01 \\\\\n",
       "\t5 & 1.000000e+06 & 9.681039e-01 \\\\\n",
       "\t6 & 1.000000e+06 & 9.681039e-01 \\\\\n",
       "\\end{tabular}\n"
      ],
      "text/plain": [
       "\u001b[1m6×2 DataFrame\u001b[0m\n",
       "\u001b[1m Row \u001b[0m│\u001b[1m Column9      \u001b[0m\u001b[1m Column10     \u001b[0m\n",
       "\u001b[1m     \u001b[0m│\u001b[90m String15     \u001b[0m\u001b[90m String15     \u001b[0m\n",
       "─────┼────────────────────────────\n",
       "   1 │ l_mle         p_lrt\n",
       "   2 │ 1.000000e+06  9.681039e-01\n",
       "   3 │ 1.000000e+06  9.681039e-01\n",
       "   4 │ 1.000000e+06  9.681039e-01\n",
       "   5 │ 1.000000e+06  9.681039e-01\n",
       "   6 │ 1.000000e+06  9.681039e-01"
      ]
     },
     "execution_count": 67,
     "metadata": {},
     "output_type": "execute_result"
    }
   ],
   "source": [
    "results_gemma[1:6, 9:10]"
   ]
  },
  {
   "cell_type": "markdown",
   "id": "59029685-61d2-4af1-ade0-43e54eebfaa5",
   "metadata": {},
   "source": [
    "Full results reported by GEMMA has the format as shown above:"
   ]
  },
  {
   "cell_type": "code",
   "execution_count": 25,
   "id": "512cbd1b-a098-46ed-82d9-1c2b31f2d17c",
   "metadata": {},
   "outputs": [
    {
     "data": {
      "text/plain": [
       "2-element Vector{String3}:\n",
       " \"chr\"\n",
       " \"-9\""
      ]
     },
     "execution_count": 25,
     "metadata": {},
     "output_type": "execute_result"
    }
   ],
   "source": [
    "unique(results_gemma[:, 1])"
   ]
  },
  {
   "cell_type": "markdown",
   "id": "9a41e866-3c26-4b97-9235-25141c378497",
   "metadata": {},
   "source": [
    "#### Using the kinship matrix $G_c$ calculated by *GEMMA* using the above formula:"
   ]
  },
  {
   "cell_type": "code",
   "execution_count": 68,
   "id": "8a984a9d-19eb-425b-88dd-dd1fb154d402",
   "metadata": {},
   "outputs": [],
   "source": [
    "kinship_Gc = CSV.read(\"output/kinship.cXX.txt\", DataFrame, delim = '\\t', header = false);"
   ]
  },
  {
   "cell_type": "code",
   "execution_count": 69,
   "id": "48fb450c-48d6-4120-b8c7-fc9c184845d7",
   "metadata": {},
   "outputs": [],
   "source": [
    "kinshipMat_Gc = Matrix(kinship_Gc);"
   ]
  },
  {
   "cell_type": "code",
   "execution_count": 70,
   "id": "2b9bd37b-44c2-42a5-ba1f-b4a06a5a552b",
   "metadata": {},
   "outputs": [
    {
     "data": {
      "text/plain": [
       "6×6 Matrix{Float64}:\n",
       "  0.971367    -0.0803409   0.118316    0.0516335  -0.00965022  -0.0889471\n",
       " -0.0803409    0.991482   -0.0287038   0.0275875  -0.141933    -0.0646924\n",
       "  0.118316    -0.0287038   1.01951    -0.217635   -0.103393     0.116334\n",
       "  0.0516335    0.0275875  -0.217635    1.04452     0.177017    -0.0793848\n",
       " -0.00965022  -0.141933   -0.103393    0.177017    0.996395    -0.0755602\n",
       " -0.0889471   -0.0646924   0.116334   -0.0793848  -0.0755602    0.943166"
      ]
     },
     "execution_count": 70,
     "metadata": {},
     "output_type": "execute_result"
    }
   ],
   "source": [
    "kinshipMat_Gc[1:6, 1:6]"
   ]
  },
  {
   "cell_type": "code",
   "execution_count": 71,
   "id": "43f79aa0-3b47-4d2e-8494-05d768ccf42a",
   "metadata": {},
   "outputs": [],
   "source": [
    "results_bulklmm_alt = scan(pheno_y, geno, kinshipMat_Gc; reml = false, method = \"alt\");"
   ]
  },
  {
   "cell_type": "code",
   "execution_count": 72,
   "id": "f444bc03-c293-4082-a70f-55fe30a1df42",
   "metadata": {},
   "outputs": [],
   "source": [
    "results_bulklmm_null = scan(pheno_y, geno, kinshipMat_Gc; reml = true, method = \"null\");"
   ]
  },
  {
   "cell_type": "code",
   "execution_count": 73,
   "id": "473d1421-d831-4324-a70e-688c5baab682",
   "metadata": {},
   "outputs": [
    {
     "data": {
      "text/plain": [
       "0.8182834273574263"
      ]
     },
     "execution_count": 73,
     "metadata": {},
     "output_type": "execute_result"
    }
   ],
   "source": [
    "results_bulklmm_null[2] # hsq under the null model estimated by BulkLMM, using reml = true"
   ]
  },
  {
   "cell_type": "code",
   "execution_count": 74,
   "id": "b02e88be-7f71-41d9-9bc1-975088d82f46",
   "metadata": {},
   "outputs": [
    {
     "data": {
      "text/plain": [
       "0.8182836827818573"
      ]
     },
     "execution_count": 74,
     "metadata": {},
     "output_type": "execute_result"
    }
   ],
   "source": [
    "0.221055/(0.221055+0.0490897)"
   ]
  },
  {
   "cell_type": "markdown",
   "id": "2caf306b-c187-40f8-ba30-0ce3bd78758a",
   "metadata": {},
   "source": [
    "#### Using the kinship matrix calculated by *BulkLMM.jl*:"
   ]
  },
  {
   "cell_type": "code",
   "execution_count": 75,
   "id": "9703bbe9-114c-461e-b9ab-82fdc8df3c67",
   "metadata": {},
   "outputs": [
    {
     "data": {
      "text/plain": [
       "6×6 Matrix{Float64}:\n",
       " 1.0       0.468763  0.561085  0.521296  0.502617  0.476443\n",
       " 0.468763  1.0       0.482652  0.50435   0.431553  0.483647\n",
       " 0.561085  0.482652  1.0       0.374733  0.443817  0.567154\n",
       " 0.521296  0.50435   0.374733  1.0       0.577574  0.462847\n",
       " 0.502617  0.431553  0.443817  0.577574  1.0       0.476722\n",
       " 0.476443  0.483647  0.567154  0.462847  0.476722  1.0"
      ]
     },
     "execution_count": 75,
     "metadata": {},
     "output_type": "execute_result"
    }
   ],
   "source": [
    "kinshipMat_bulklmm = kinship;\n",
    "kinshipMat_bulklmm[1:6, 1:6]"
   ]
  },
  {
   "cell_type": "code",
   "execution_count": 86,
   "id": "dd592b5c-a9c7-4438-90fc-62ff33d133da",
   "metadata": {},
   "outputs": [],
   "source": [
    "results_bulklmm2_alt = scan(pheno_y, geno, kinshipMat_bulklmm; reml = false, method = \"alt\");"
   ]
  },
  {
   "cell_type": "code",
   "execution_count": 87,
   "id": "134c1e68-fccc-4e29-80af-c3c8cc83bf37",
   "metadata": {},
   "outputs": [],
   "source": [
    "results_bulklmm2_null = scan(pheno_y, geno, kinshipMat_bulklmm; reml = true, method = \"null\");"
   ]
  },
  {
   "cell_type": "code",
   "execution_count": 88,
   "id": "22f0a331-edfe-4412-a58e-ad53cea2e936",
   "metadata": {},
   "outputs": [
    {
     "data": {
      "text/plain": [
       "0.9010989588880662"
      ]
     },
     "execution_count": 88,
     "metadata": {},
     "output_type": "execute_result"
    }
   ],
   "source": [
    "results_bulklmm2_null[2] # hsq under the null model estimated by BulkLMM, using reml = true"
   ]
  },
  {
   "cell_type": "code",
   "execution_count": 79,
   "id": "c89b1e33-d934-4cd0-b9f8-76fea86491a3",
   "metadata": {},
   "outputs": [
    {
     "data": {
      "text/plain": [
       "lod2logp (generic function with 1 method)"
      ]
     },
     "execution_count": 79,
     "metadata": {},
     "output_type": "execute_result"
    }
   ],
   "source": [
    "function lod2logp(LOD,df) \n",
    "    return -log10(1-cdf(Chisq(df),2*log(10)*LOD))\n",
    "end"
   ]
  },
  {
   "cell_type": "code",
   "execution_count": 80,
   "id": "36d8012b-974b-4d94-8edb-9b2f6b946095",
   "metadata": {},
   "outputs": [
    {
     "data": {
      "text/plain": [
       "p2lod (generic function with 1 method)"
      ]
     },
     "execution_count": 80,
     "metadata": {},
     "output_type": "execute_result"
    }
   ],
   "source": [
    "function p2lod(pval::Float64, df::Int64)\n",
    "    \n",
    "    lrs = invlogcdf(Chisq(df), log(1-pval))\n",
    "    lod = lrs/(2*log(10))\n",
    "    \n",
    "    # return lrs\n",
    "    return lod\n",
    "\n",
    "end"
   ]
  },
  {
   "cell_type": "code",
   "execution_count": 39,
   "id": "95a5658b-cf3e-4c8e-a6c9-03618f8b83e0",
   "metadata": {},
   "outputs": [
    {
     "data": {
      "text/plain": [
       "0.0010000000000000009"
      ]
     },
     "execution_count": 39,
     "metadata": {},
     "output_type": "execute_result"
    }
   ],
   "source": [
    "# load package\n",
    "using Distributions\n",
    "\n",
    "# LOD score\n",
    "LOD = 3.0\n",
    "# p-value from chi-square with 2df calculated from \n",
    "# cdf (cumulative distribution function)\n",
    "p = 1-cdf(Chisq(2),2*log(10)*LOD)"
   ]
  },
  {
   "cell_type": "markdown",
   "id": "7ccd4de5-c5e2-4486-bf82-b740bae3b7cd",
   "metadata": {},
   "source": [
    "When the LRT statistic is asymptotic Chisq(2) under the null, we would expect the corresponding LOD is equal to $-log_{10}(p)$"
   ]
  },
  {
   "cell_type": "code",
   "execution_count": 40,
   "id": "4b9404d8-35b0-4c1b-8f33-95d898ca7761",
   "metadata": {},
   "outputs": [
    {
     "data": {
      "text/plain": [
       "2.999999999999999"
      ]
     },
     "execution_count": 40,
     "metadata": {},
     "output_type": "execute_result"
    }
   ],
   "source": [
    "p2lod(p, 2)"
   ]
  },
  {
   "cell_type": "code",
   "execution_count": 41,
   "id": "be6114cb-a2d0-4f1c-8c4b-55b20bdce95e",
   "metadata": {},
   "outputs": [
    {
     "data": {
      "text/plain": [
       "2.9999999999999996"
      ]
     },
     "execution_count": 41,
     "metadata": {},
     "output_type": "execute_result"
    }
   ],
   "source": [
    "-log10(p)"
   ]
  },
  {
   "cell_type": "code",
   "execution_count": 81,
   "id": "1d6534f5-28a0-4d15-aa16-38b6dcc30bb1",
   "metadata": {},
   "outputs": [],
   "source": [
    "using DelimitedFiles"
   ]
  },
  {
   "cell_type": "code",
   "execution_count": 82,
   "id": "a1117c2a-bb7b-4967-8d19-1f999307597d",
   "metadata": {},
   "outputs": [
    {
     "data": {
      "text/plain": [
       "7322×10 Matrix{Any}:\n",
       "   \"chr\"  \"rs\"             \"ps\"  …     \"logl_H1\"   \"l_mle\"   \"p_lrt\"\n",
       " -9       \"rs31443144\"   -9         -48.1777      1.0e6     0.968104\n",
       " -9       \"rs6269442\"    -9         -48.1777      1.0e6     0.968104\n",
       " -9       \"rs32285189\"   -9         -48.1777      1.0e6     0.968104\n",
       " -9       \"rs258367496\"  -9         -48.1777      1.0e6     0.968104\n",
       " -9       \"rs32430919\"   -9      …  -48.1777      1.0e6     0.968104\n",
       " -9       \"rs36251697\"   -9         -48.1777      1.0e6     0.968104\n",
       " -9       \"rs30658298\"   -9         -48.1777      1.0e6     0.968104\n",
       " -9       \"rs51852623\"   -9         -48.1777      1.0e6     0.968104\n",
       " -9       \"rs31879829\"   -9         -48.1777      1.0e6     0.968104\n",
       " -9       \"rs36742481\"   -9      …  -48.1777      1.0e6     0.968104\n",
       " -9       \"rs6365999\"    -9         -48.1777      1.0e6     0.968104\n",
       " -9       \"rs13470446\"   -9         -48.1777      1.0e6     0.968111\n",
       "  ⋮                              ⋱                          \n",
       " -9       \"rs31466210\"   -9      …  -47.3737      1.0e6     0.204542\n",
       " -9       \"rs212815990\"  -9         -47.3737      1.0e6     0.204542\n",
       " -9       \"rs227685113\"  -9         -47.3737      1.0e6     0.204542\n",
       " -9       \"rs31551153\"   -9         -47.8313      1.0e6     0.404683\n",
       " -9       \"rs31556818\"   -9         -48.1784      1.0e6     0.987061\n",
       " -9       \"rs31275062\"   -9      …  -48.1784      1.0e6     0.987061\n",
       " -9       \"rs47382998\"   -9         -48.1776      1.0e6     0.966325\n",
       " -9       \"rs13484107\"   -9         -48.1729      1.0e6     0.916078\n",
       " -9       \"rs3693969\"    -9         -48.1736      1.0e6     0.921281\n",
       " -9       \"DXMit223\"     -9         -48.1654      1.0e6     0.871565\n",
       " -9       \"rs31638776\"   -9      …  -48.1718      1.0e6     0.908128\n",
       " -9       \"rs31639754\"   -9         -48.1718      1.0e6     0.908128"
      ]
     },
     "execution_count": 82,
     "metadata": {},
     "output_type": "execute_result"
    }
   ],
   "source": [
    "results_gemma = readdlm(\"output/gemma_results.txt.assoc.txt\", '\\t')"
   ]
  },
  {
   "cell_type": "code",
   "execution_count": 83,
   "id": "f5be66cc-d49d-4e8d-ae4e-0bca10765bbf",
   "metadata": {},
   "outputs": [],
   "source": [
    "lods_gemma = map(x -> p2lod(x, 1), results_gemma[2:end, 10]);"
   ]
  },
  {
   "cell_type": "code",
   "execution_count": 84,
   "id": "0da38e79-4842-49cc-b17c-6439d20252f7",
   "metadata": {},
   "outputs": [
    {
     "data": {
      "text/plain": [
       "7321×2 Matrix{Float64}:\n",
       " 0.000347201  0.00753141\n",
       " 0.000347201  0.00753141\n",
       " 0.000347201  0.00753141\n",
       " 0.000347201  0.00753141\n",
       " 0.000347201  0.00753141\n",
       " 0.000347201  0.00753141\n",
       " 0.000347201  0.00753141\n",
       " 0.000347201  0.00753141\n",
       " 0.000347201  0.00753141\n",
       " 0.000347201  0.00753141\n",
       " 0.000347201  0.00753141\n",
       " 0.000347051  0.00753041\n",
       " 0.0136122    0.00957543\n",
       " ⋮            \n",
       " 0.34953      0.111349\n",
       " 0.34953      0.111349\n",
       " 0.34953      0.111349\n",
       " 0.15078      0.0180153\n",
       " 5.71076e-5   0.0062785\n",
       " 5.71076e-5   0.0062785\n",
       " 0.00038703   0.0123466\n",
       " 0.00241117   0.0256506\n",
       " 0.00212054   0.0240557\n",
       " 0.00567567   0.0413537\n",
       " 0.00289181   0.0100463\n",
       " 0.00289181   0.0100463"
      ]
     },
     "execution_count": 84,
     "metadata": {},
     "output_type": "execute_result"
    }
   ],
   "source": [
    "hcat(lods_gemma, results_bulklmm_alt[3])"
   ]
  },
  {
   "cell_type": "code",
   "execution_count": 89,
   "id": "8b9d6722-9591-4e81-b55c-76d44865ab31",
   "metadata": {},
   "outputs": [
    {
     "data": {
      "text/plain": [
       "7321×2 Matrix{Float64}:\n",
       " 0.000347201  0.00783497\n",
       " 0.000347201  0.00783497\n",
       " 0.000347201  0.00783497\n",
       " 0.000347201  0.00783497\n",
       " 0.000347201  0.00783497\n",
       " 0.000347201  0.00783497\n",
       " 0.000347201  0.00783497\n",
       " 0.000347201  0.00783497\n",
       " 0.000347201  0.00783497\n",
       " 0.000347201  0.00783497\n",
       " 0.000347201  0.00783497\n",
       " 0.000347051  0.00783393\n",
       " 0.0136122    0.00979026\n",
       " ⋮            \n",
       " 0.34953      0.0949866\n",
       " 0.34953      0.0949866\n",
       " 0.34953      0.0949866\n",
       " 0.15078      0.0124035\n",
       " 5.71076e-5   0.00756242\n",
       " 5.71076e-5   0.00756242\n",
       " 0.00038703   0.0140298\n",
       " 0.00241117   0.0280881\n",
       " 0.00212054   0.0264163\n",
       " 0.00567567   0.0444271\n",
       " 0.00289181   0.012342\n",
       " 0.00289181   0.012342"
      ]
     },
     "execution_count": 89,
     "metadata": {},
     "output_type": "execute_result"
    }
   ],
   "source": [
    "hcat(lods_gemma, results_bulklmm_null[3])"
   ]
  },
  {
   "cell_type": "code",
   "execution_count": 90,
   "id": "9df57ea4-46e8-43ca-8555-ec9ffb367754",
   "metadata": {},
   "outputs": [
    {
     "data": {
      "text/plain": [
       "Inf"
      ]
     },
     "execution_count": 90,
     "metadata": {},
     "output_type": "execute_result"
    }
   ],
   "source": [
    "sumSqDiff(reshape(lods_gemma, :, 1), reshape(results_bulklmm_null[3], :, 1))"
   ]
  },
  {
   "cell_type": "code",
   "execution_count": null,
   "id": "438fbe6a-3355-4f35-b51b-42cc0460a2e5",
   "metadata": {},
   "outputs": [],
   "source": []
  }
 ],
 "metadata": {
  "kernelspec": {
   "display_name": "Julia 1.8.1",
   "language": "julia",
   "name": "julia-1.8"
  },
  "language_info": {
   "file_extension": ".jl",
   "mimetype": "application/julia",
   "name": "julia",
   "version": "1.8.1"
  }
 },
 "nbformat": 4,
 "nbformat_minor": 5
}
