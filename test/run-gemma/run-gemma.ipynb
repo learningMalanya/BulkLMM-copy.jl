{
 "cells": [
  {
   "cell_type": "markdown",
   "id": "a668b9b1-a1a6-4ebf-a694-ddc0885c339c",
   "metadata": {},
   "source": [
    "# Explore GEMMA and comparison with BulkLMM.jl"
   ]
  },
  {
   "cell_type": "markdown",
   "id": "01b68291-386f-4a89-b66c-b148c9d1809c",
   "metadata": {},
   "source": [
    "In this interactive notebook, we will explore the usage of GEMMA package, the methods behind the implementation, its performance running on the BXD data, as compared with the BulkLMM.jl package in Julia. \n",
    "\n",
    "\n",
    "This is still a work in progress, as here only the use of GEMMA for association tests with **univariate linear mixed models** will be talked about..."
   ]
  },
  {
   "cell_type": "code",
   "execution_count": 18,
   "id": "d6c8c9b3-5db4-4081-b27a-49353e439eca",
   "metadata": {},
   "outputs": [
    {
     "data": {
      "text/plain": [
       "\"/home/xyu/github/BulkLMM.jl/test\""
      ]
     },
     "execution_count": 18,
     "metadata": {},
     "output_type": "execute_result"
    }
   ],
   "source": [
    "pwd()"
   ]
  },
  {
   "cell_type": "code",
   "execution_count": 2,
   "id": "9bb6752d-9cd6-4d29-bd59-88a37721ecaf",
   "metadata": {},
   "outputs": [],
   "source": [
    "cd(\"..\")"
   ]
  },
  {
   "cell_type": "code",
   "execution_count": 3,
   "id": "cc36ee69-c632-48b3-81a6-4871e344c1a5",
   "metadata": {},
   "outputs": [],
   "source": [
    "include(\"BXDdata_for_test.jl\");"
   ]
  },
  {
   "cell_type": "code",
   "execution_count": 4,
   "id": "ae66224c-2089-420c-b68e-0d095111e52d",
   "metadata": {},
   "outputs": [
    {
     "data": {
      "text/plain": [
       "(79, 35556, 7321)"
      ]
     },
     "execution_count": 4,
     "metadata": {},
     "output_type": "execute_result"
    }
   ],
   "source": [
    "(n, m, p)"
   ]
  },
  {
   "cell_type": "code",
   "execution_count": 5,
   "id": "bfa4c23b-1507-4b01-a910-f1294bbd7841",
   "metadata": {},
   "outputs": [
    {
     "data": {
      "text/plain": [
       "(79, 35556)"
      ]
     },
     "execution_count": 5,
     "metadata": {},
     "output_type": "execute_result"
    }
   ],
   "source": [
    "size(pheno)"
   ]
  },
  {
   "cell_type": "code",
   "execution_count": 6,
   "id": "85ddf334-b921-45b3-9c6c-05c75457d655",
   "metadata": {},
   "outputs": [
    {
     "data": {
      "text/plain": [
       "(79, 7321)"
      ]
     },
     "execution_count": 6,
     "metadata": {},
     "output_type": "execute_result"
    }
   ],
   "source": [
    "size(geno)"
   ]
  },
  {
   "cell_type": "code",
   "execution_count": 7,
   "id": "77463511-6eae-4c2f-a5aa-97c344c11df8",
   "metadata": {},
   "outputs": [
    {
     "data": {
      "text/plain": [
       "(79, 79)"
      ]
     },
     "execution_count": 7,
     "metadata": {},
     "output_type": "execute_result"
    }
   ],
   "source": [
    "size(kinship)"
   ]
  },
  {
   "cell_type": "markdown",
   "id": "1a017978-4c12-4b64-9ca8-bd279c7b8998",
   "metadata": {},
   "source": [
    "## Generate BIMBAM files for GEMMA"
   ]
  },
  {
   "cell_type": "code",
   "execution_count": 8,
   "id": "e1d397a7-5d21-4a67-84c4-457f8fade9e9",
   "metadata": {},
   "outputs": [],
   "source": [
    "traitID = 7919;"
   ]
  },
  {
   "cell_type": "code",
   "execution_count": 19,
   "id": "4327c670-5a01-4aa3-908e-d67ab8f4dc46",
   "metadata": {},
   "outputs": [
    {
     "ename": "LoadError",
     "evalue": "SystemError: opening file \"/home/xyu/github/src/readData.jl\": No such file or directory",
     "output_type": "error",
     "traceback": [
      "SystemError: opening file \"/home/xyu/github/src/readData.jl\": No such file or directory",
      "",
      "Stacktrace:",
      "  [1] systemerror(p::String, errno::Int32; extrainfo::Nothing)",
      "    @ Base ./error.jl:176",
      "  [2] #systemerror#80",
      "    @ ./error.jl:175 [inlined]",
      "  [3] systemerror",
      "    @ ./error.jl:175 [inlined]",
      "  [4] open(fname::String; lock::Bool, read::Nothing, write::Nothing, create::Nothing, truncate::Nothing, append::Nothing)",
      "    @ Base ./iostream.jl:293",
      "  [5] open",
      "    @ ./iostream.jl:275 [inlined]",
      "  [6] open(f::Base.var\"#387#388\"{String}, args::String; kwargs::Base.Pairs{Symbol, Union{}, Tuple{}, NamedTuple{(), Tuple{}}})",
      "    @ Base ./io.jl:382",
      "  [7] open",
      "    @ ./io.jl:381 [inlined]",
      "  [8] read",
      "    @ ./io.jl:462 [inlined]",
      "  [9] _include(mapexpr::Function, mod::Module, _path::String)",
      "    @ Base ./loading.jl:1484",
      " [10] include(fname::String)",
      "    @ Base.MainInclude ./client.jl:476",
      " [11] top-level scope",
      "    @ In[19]:3",
      " [12] eval",
      "    @ ./boot.jl:368 [inlined]",
      " [13] include_string(mapexpr::typeof(REPL.softscope), mod::Module, code::String, filename::String)",
      "    @ Base ./loading.jl:1428"
     ]
    }
   ],
   "source": [
    "# Will be using BXD data\n",
    "## Include the script to generate data\n",
    "include(\"../../src/readData.jl\");\n",
    "\n",
    "## Read in BXD data:\n",
    "pheno_file = \"../../data/bxdData/BXDtraits.csv\"\n",
    "pheno = readBXDpheno(pheno_file);\n",
    "geno_file = \"../../data/bxdData/BXDgeno_prob.csv\"\n",
    "geno = readGenoProb_ExcludeComplements(geno_file);\n",
    "\n",
    "\n",
    "## Read in BXD data to the BIMBAM format:\n",
    "transform_bxd_geno_to_gemma(geno_file, \"BXDgeno_prob_bimbam.txt\");\n",
    "transform_bxd_pheno_to_gemma(pheno_file, \"BXDpheno_bimbam.txt\", traitID);"
   ]
  },
  {
   "cell_type": "markdown",
   "id": "bc16d1aa-732f-4269-b3ce-ad2e1deecff5",
   "metadata": {
    "tags": []
   },
   "source": [
    "## How to... \n",
    "\n",
    "### Cite GEMMA:"
   ]
  },
  {
   "cell_type": "markdown",
   "id": "0ee199f0-1791-486f-8eea-9d91084d9a44",
   "metadata": {},
   "source": [
    "- Software tool and univariate linear mixed models\n",
    "Xiang Zhou and Matthew Stephens (2012). Genome-wide efficient mixed-model analysis for association studies. Nature Genetics. 44: 821-824.\n",
    "\n",
    "- Multivariate linear mixed models\n",
    "Xiang Zhou and Matthew Stephens (2014). Efficient multivariate linear mixed model algo- rithms for genome-wide association studies. Nature Methods. 11: 407-409.\n",
    "\n",
    "- Bayesian sparse linear mixed models\n",
    "Xiang Zhou, Peter Carbonetto and Matthew Stephens (2013). Polygenic modeling with Bayesian sparse linear mixed models. PLoS Genetics. 9(2): e1003264.\n",
    "\n",
    "- Variance component estimation with individual-level or summary data\n",
    "Xiang Zhou (2016). A unified framework for variance component estimation with summary statistics in genome-wide association studies. bioRxiv. 042846."
   ]
  },
  {
   "cell_type": "markdown",
   "id": "9925c205-6cd4-4232-8eb8-06e92192048d",
   "metadata": {
    "tags": []
   },
   "source": [
    "### Install and Setup GEMMA:"
   ]
  },
  {
   "cell_type": "markdown",
   "id": "aaf6e422-ce77-497d-b2a2-d05fc8e2a3cf",
   "metadata": {},
   "source": [
    "It is recommended to install precompiled binaries of GEMMA and use on a linux system.\n",
    "\n",
    "1. Fetch the latest [stable release](https://github.com/genetics-statistics/GEMMA/releases) and download the .gz file.\n",
    "\n",
    "2. Inside the directory where the .gz file is located, run `gunzip gemma.linux.gz` to unpack the file.\n",
    "\n",
    "3. Make sure it is executable with `chomod u+x gemma-linux` and then execute with `gemma-linux`. \n",
    "\n",
    "4. Run GEMMA by first typing `alias gemma=path to gemma executable` and then it will be envoked by simply typing `gemma` in terminal."
   ]
  },
  {
   "cell_type": "markdown",
   "id": "a92ca136-7f43-47ed-9543-e0b2c76651a7",
   "metadata": {},
   "source": [
    "Run `alias gemma=path to gemma executable` so that the GEMMA program will start by just typing `gemma` in terminal."
   ]
  },
  {
   "cell_type": "markdown",
   "id": "e4171f48-84e0-4e22-9376-6a9a5918aa93",
   "metadata": {},
   "source": [
    "Here inside this notebook, we did something similar to creating an alias shortcut by"
   ]
  },
  {
   "cell_type": "code",
   "execution_count": 10,
   "id": "27cf0fdc-efb1-4153-b10b-30c278de2dd2",
   "metadata": {},
   "outputs": [
    {
     "data": {
      "text/plain": [
       "\"/home/xyu/github/BulkLMM.jl/test\""
      ]
     },
     "execution_count": 10,
     "metadata": {},
     "output_type": "execute_result"
    }
   ],
   "source": [
    "pwd()"
   ]
  },
  {
   "cell_type": "code",
   "execution_count": 13,
   "id": "bd5e284a-81c1-4b63-9e1e-b22fcad83555",
   "metadata": {},
   "outputs": [
    {
     "data": {
      "text/plain": [
       "\"/home/xyu/software/GEMMA/gemma-0.98.5-linux-static-AMD64\""
      ]
     },
     "execution_count": 13,
     "metadata": {},
     "output_type": "execute_result"
    }
   ],
   "source": [
    "gemma = \"/home/xyu/software/GEMMA/gemma-0.98.5-linux-static-AMD64\""
   ]
  },
  {
   "cell_type": "markdown",
   "id": "ac81588d-b986-470a-865d-ca0175155906",
   "metadata": {},
   "source": [
    "and testing GEMMA set up by"
   ]
  },
  {
   "cell_type": "code",
   "execution_count": 14,
   "id": "f8529de0-5963-4ed6-b376-6075c4ad6ceb",
   "metadata": {},
   "outputs": [
    {
     "name": "stdout",
     "output_type": "stream",
     "text": [
      "GEMMA 0.98.5 (2021-08-25) by Xiang Zhou, Pjotr Prins and team (C) 2012-2021\n",
      "\n",
      " type ./gemma -h [num] for detailed help\n",
      " options: \n",
      "  1: quick guide\n",
      "  2: file I/O related\n",
      "  3: SNP QC\n",
      "  4: calculate relatedness matrix\n",
      "  5: perform eigen decomposition\n",
      "  6: perform variance component estimation\n",
      "  7: fit a linear model\n",
      "  8: fit a linear mixed model\n",
      "  9: fit a multivariate linear mixed model\n",
      " 10: fit a Bayesian sparse linear mixed model\n",
      " 11: obtain predicted values\n",
      " 12: calculate snp variance covariance\n",
      " 13: note\n",
      " 14: debug options\n",
      "\n",
      "The GEMMA software is distributed under the GNU General Public v3\n",
      "   -license    show license information\n",
      "   see also http://www.xzlab.org/software.html, https://github.com/genetics-statistics\n"
     ]
    },
    {
     "data": {
      "text/plain": [
       "Process(`\u001b[4m/home/xyu/software/GEMMA/gemma-0.98.5-linux-static-AMD64\u001b[24m \u001b[4m-h\u001b[24m`, ProcessExited(0))"
      ]
     },
     "execution_count": 14,
     "metadata": {},
     "output_type": "execute_result"
    }
   ],
   "source": [
    "run(`$gemma -h`)"
   ]
  },
  {
   "cell_type": "markdown",
   "id": "18baf8f6-c875-43bf-bf55-209c45c51923",
   "metadata": {},
   "source": [
    "## Input File Formats:"
   ]
  },
  {
   "cell_type": "markdown",
   "id": "60a79a5c-0e68-458a-8786-d9d7080127a5",
   "metadata": {},
   "source": [
    "It is recommended to use [BIMBAM](https://stephenslab.uchicago.edu/software.html) (Bayesian Imputation Based Association Mapping) file format for imputed genotypes as well as for general covariates other than SNPs. BIMBAM format consists of three files, a mean genotype file, a phenotype file, and an optional SNP annotation file, which we will explain in detail below."
   ]
  },
  {
   "cell_type": "markdown",
   "id": "21ff35bb-95fb-4a0f-a2f8-2a73200b4609",
   "metadata": {},
   "source": [
    "(We first run `gemma-generateData.jl` to generate BIMBAM format genotype data from origional. For he univariate trait data we picked the 7919-th column of the original BXD phenotype data)"
   ]
  },
  {
   "cell_type": "code",
   "execution_count": 20,
   "id": "65c414b0-05e3-46e1-962a-25c06db0582f",
   "metadata": {},
   "outputs": [],
   "source": [
    "# Create variables for shortcut references to the datafiles:\n",
    "pheno_filename = \"BXDpheno_bimbam.txt\";\n",
    "geno_filename = \"BXDgeno_prob_bimbam.txt\";"
   ]
  },
  {
   "cell_type": "markdown",
   "id": "84c1e555-79bf-4c96-b8a9-b6d90807c263",
   "metadata": {},
   "source": [
    "### Mean Genotype File"
   ]
  },
  {
   "cell_type": "code",
   "execution_count": 16,
   "id": "e48fb06b-8c1f-4d50-bc93-185b82aa2660",
   "metadata": {},
   "outputs": [
    {
     "ename": "LoadError",
     "evalue": "ArgumentError: Cannot open 'BXDgeno_prob_bimbam.txt': not a file",
     "output_type": "error",
     "traceback": [
      "ArgumentError: Cannot open 'BXDgeno_prob_bimbam.txt': not a file",
      "",
      "Stacktrace:",
      " [1] readdlm_auto(input::String, dlm::Char, T::Type, eol::Char, auto::Bool; opts::Base.Pairs{Symbol, Union{}, Tuple{}, NamedTuple{(), Tuple{}}})",
      "   @ DelimitedFiles ~/software/julia-1.8.1/share/julia/stdlib/v1.8/DelimitedFiles/src/DelimitedFiles.jl:234",
      " [2] readdlm_auto",
      "   @ ~/software/julia-1.8.1/share/julia/stdlib/v1.8/DelimitedFiles/src/DelimitedFiles.jl:233 [inlined]",
      " [3] #readdlm#5",
      "   @ ~/software/julia-1.8.1/share/julia/stdlib/v1.8/DelimitedFiles/src/DelimitedFiles.jl:170 [inlined]",
      " [4] readdlm",
      "   @ ~/software/julia-1.8.1/share/julia/stdlib/v1.8/DelimitedFiles/src/DelimitedFiles.jl:170 [inlined]",
      " [5] #readdlm#4",
      "   @ ~/software/julia-1.8.1/share/julia/stdlib/v1.8/DelimitedFiles/src/DelimitedFiles.jl:162 [inlined]",
      " [6] readdlm(input::String, dlm::Char)",
      "   @ DelimitedFiles ~/software/julia-1.8.1/share/julia/stdlib/v1.8/DelimitedFiles/src/DelimitedFiles.jl:162",
      " [7] top-level scope",
      "   @ In[16]:1",
      " [8] eval",
      "   @ ./boot.jl:368 [inlined]",
      " [9] include_string(mapexpr::typeof(REPL.softscope), mod::Module, code::String, filename::String)",
      "   @ Base ./loading.jl:1428"
     ]
    }
   ],
   "source": [
    "readdlm(geno_filename, ',')[1:6, :]"
   ]
  },
  {
   "cell_type": "code",
   "execution_count": 17,
   "id": "080f4bd8-b53f-454e-bbd6-b6010d9f7ac3",
   "metadata": {},
   "outputs": [
    {
     "ename": "LoadError",
     "evalue": "ArgumentError: Cannot open 'BXDgeno_prob_bimbam.txt': not a file",
     "output_type": "error",
     "traceback": [
      "ArgumentError: Cannot open 'BXDgeno_prob_bimbam.txt': not a file",
      "",
      "Stacktrace:",
      " [1] readdlm_auto(input::String, dlm::Char, T::Type, eol::Char, auto::Bool; opts::Base.Pairs{Symbol, Union{}, Tuple{}, NamedTuple{(), Tuple{}}})",
      "   @ DelimitedFiles ~/software/julia-1.8.1/share/julia/stdlib/v1.8/DelimitedFiles/src/DelimitedFiles.jl:234",
      " [2] readdlm_auto",
      "   @ ~/software/julia-1.8.1/share/julia/stdlib/v1.8/DelimitedFiles/src/DelimitedFiles.jl:233 [inlined]",
      " [3] #readdlm#5",
      "   @ ~/software/julia-1.8.1/share/julia/stdlib/v1.8/DelimitedFiles/src/DelimitedFiles.jl:170 [inlined]",
      " [4] readdlm",
      "   @ ~/software/julia-1.8.1/share/julia/stdlib/v1.8/DelimitedFiles/src/DelimitedFiles.jl:170 [inlined]",
      " [5] #readdlm#4",
      "   @ ~/software/julia-1.8.1/share/julia/stdlib/v1.8/DelimitedFiles/src/DelimitedFiles.jl:162 [inlined]",
      " [6] readdlm(input::String, dlm::Char)",
      "   @ DelimitedFiles ~/software/julia-1.8.1/share/julia/stdlib/v1.8/DelimitedFiles/src/DelimitedFiles.jl:162",
      " [7] top-level scope",
      "   @ In[17]:1",
      " [8] eval",
      "   @ ./boot.jl:368 [inlined]",
      " [9] include_string(mapexpr::typeof(REPL.softscope), mod::Module, code::String, filename::String)",
      "   @ Base ./loading.jl:1428"
     ]
    }
   ],
   "source": [
    "size(readdlm(geno_filename, ','))"
   ]
  },
  {
   "cell_type": "markdown",
   "id": "f84991e7-677a-40da-a19d-411376674fad",
   "metadata": {},
   "source": [
    "The mean genotype file is like the above, where the first column is SNP id, the second and third column are allele types with minor allele first, and the remaining columns are the posterior/imputed mean genotypes of different individuals numbered from 0 and 2.\n",
    "\n",
    "GEMMA codes alleles exactly as provided in the mean genotype file, and ignores the allele types given in the second and third columns. Therefore, the minor allele is the effect allele only if it is coded as 1 and the major allele is coded as 0. Missing genotypes are represented as \"NA\" values.\n",
    "\n",
    "In our BXD data examples, we have two SNPs, \"A\" being the minor allele and \"B\" being the major allele, and observations at 7321 marker places for the 79 individuals. Therefore, as shown in the data, each row are the observations of frequencies of the minor allele \"A\" for the 79 individuals at a certain marker place, and each column are the observations of the \"A\" frequencies at the 7321 marker places for a certain individual."
   ]
  },
  {
   "cell_type": "markdown",
   "id": "c8b4ed70-0914-4ba9-91e2-b283e7df53ed",
   "metadata": {
    "tags": []
   },
   "source": [
    "### Phenotype File"
   ]
  },
  {
   "cell_type": "code",
   "execution_count": 244,
   "id": "65935a41-2cfe-4610-9666-b4b9b50b23ea",
   "metadata": {},
   "outputs": [
    {
     "data": {
      "text/plain": [
       "79-element Vector{Float64}:\n",
       " 7.171\n",
       " 7.115\n",
       " 6.902\n",
       " 7.192\n",
       " 7.057\n",
       " 6.893\n",
       " 6.795\n",
       " 6.889\n",
       " 7.069\n",
       " 7.048\n",
       " 6.85\n",
       " 7.116\n",
       " 7.083\n",
       " ⋮\n",
       " 7.034\n",
       " 6.864\n",
       " 6.839\n",
       " 6.951\n",
       " 7.049\n",
       " 6.869\n",
       " 6.912\n",
       " 7.042\n",
       " 7.224\n",
       " 7.024\n",
       " 7.048\n",
       " 7.132"
      ]
     },
     "execution_count": 244,
     "metadata": {},
     "output_type": "execute_result"
    }
   ],
   "source": [
    "readdlm(pheno_filename, ',')[:]"
   ]
  },
  {
   "cell_type": "code",
   "execution_count": 245,
   "id": "f933feba-5ac8-43d7-8471-43f2dc6f0ba7",
   "metadata": {},
   "outputs": [
    {
     "data": {
      "text/plain": [
       "(79, 1)"
      ]
     },
     "execution_count": 245,
     "metadata": {},
     "output_type": "execute_result"
    }
   ],
   "source": [
    "size(readdlm(pheno_filename, ','))"
   ]
  },
  {
   "cell_type": "markdown",
   "id": "ae4b37d6-82f0-45ef-b105-67c438b51182",
   "metadata": {},
   "source": [
    "For univariate trait BIMBAM data, it just one column of phenotype values of the 79 strains."
   ]
  },
  {
   "cell_type": "markdown",
   "id": "b1060904-6848-415b-9d22-bf7c85f04a15",
   "metadata": {},
   "source": [
    "For binary traits, it is recommended to label controls as 0 and cases as 1 for better interpretation of the results."
   ]
  },
  {
   "cell_type": "markdown",
   "id": "a5aae8ef-93bc-4121-9d64-ded4c44b706c",
   "metadata": {
    "tags": []
   },
   "source": [
    "### Relatedness Matrix File Format"
   ]
  },
  {
   "cell_type": "markdown",
   "id": "fd84a324-1417-4686-aabb-2bef1758d823",
   "metadata": {},
   "source": [
    "### Original Matrix Format"
   ]
  },
  {
   "cell_type": "markdown",
   "id": "16a4126a-3eb1-438b-9943-392c89dff872",
   "metadata": {},
   "source": [
    "Two formats of kinship matrix in the original matrix form allowed by GEMMA are as shown below:"
   ]
  },
  {
   "cell_type": "code",
   "execution_count": 246,
   "id": "3d19a82c-392a-4ab8-91db-bd5a85403870",
   "metadata": {},
   "outputs": [
    {
     "data": {
      "text/plain": [
       "3×3 Matrix{Float64}:\n",
       "  0.3345  -0.0227   0.0103\n",
       " -0.0227   0.3032  -0.0253\n",
       "  0.0103  -0.0253   0.3531"
      ]
     },
     "execution_count": 246,
     "metadata": {},
     "output_type": "execute_result"
    }
   ],
   "source": [
    "example1_K = reshape([0.3345  -0.0227   0.0103 -0.0227  0.3032  -0.0253 0.0103  -0.0253   0.3531], 3, 3)"
   ]
  },
  {
   "cell_type": "code",
   "execution_count": 247,
   "id": "df4338cd-856b-4099-804e-ed052db2ebaa",
   "metadata": {},
   "outputs": [
    {
     "data": {
      "text/html": [
       "<div><div style = \"float: left;\"><span>6×3 DataFrame</span></div><div style = \"clear: both;\"></div></div><div class = \"data-frame\" style = \"overflow-x: scroll;\"><table class = \"data-frame\" style = \"margin-bottom: 6px;\"><thead><tr class = \"header\"><th class = \"rowNumber\" style = \"font-weight: bold; text-align: right;\">Row</th><th style = \"text-align: left;\">column_1</th><th style = \"text-align: left;\">column_2</th><th style = \"text-align: left;\">column_3</th></tr><tr class = \"subheader headerLastRow\"><th class = \"rowNumber\" style = \"font-weight: bold; text-align: right;\"></th><th title = \"String\" style = \"text-align: left;\">String</th><th title = \"String\" style = \"text-align: left;\">String</th><th title = \"Float64\" style = \"text-align: left;\">Float64</th></tr></thead><tbody><tr><td class = \"rowNumber\" style = \"font-weight: bold; text-align: right;\">1</td><td style = \"text-align: left;\">id1</td><td style = \"text-align: left;\">id1</td><td style = \"text-align: right;\">0.3345</td></tr><tr><td class = \"rowNumber\" style = \"font-weight: bold; text-align: right;\">2</td><td style = \"text-align: left;\">id1</td><td style = \"text-align: left;\">id2</td><td style = \"text-align: right;\">-0.0227</td></tr><tr><td class = \"rowNumber\" style = \"font-weight: bold; text-align: right;\">3</td><td style = \"text-align: left;\">id1</td><td style = \"text-align: left;\">id3</td><td style = \"text-align: right;\">0.0103</td></tr><tr><td class = \"rowNumber\" style = \"font-weight: bold; text-align: right;\">4</td><td style = \"text-align: left;\">id2</td><td style = \"text-align: left;\">id2</td><td style = \"text-align: right;\">0.3032</td></tr><tr><td class = \"rowNumber\" style = \"font-weight: bold; text-align: right;\">5</td><td style = \"text-align: left;\">id2</td><td style = \"text-align: left;\">id3</td><td style = \"text-align: right;\">-0.0253</td></tr><tr><td class = \"rowNumber\" style = \"font-weight: bold; text-align: right;\">6</td><td style = \"text-align: left;\">id3</td><td style = \"text-align: left;\">id3</td><td style = \"text-align: right;\">0.3531</td></tr></tbody></table></div>"
      ],
      "text/latex": [
       "\\begin{tabular}{r|ccc}\n",
       "\t& column\\_1 & column\\_2 & column\\_3\\\\\n",
       "\t\\hline\n",
       "\t& String & String & Float64\\\\\n",
       "\t\\hline\n",
       "\t1 & id1 & id1 & 0.3345 \\\\\n",
       "\t2 & id1 & id2 & -0.0227 \\\\\n",
       "\t3 & id1 & id3 & 0.0103 \\\\\n",
       "\t4 & id2 & id2 & 0.3032 \\\\\n",
       "\t5 & id2 & id3 & -0.0253 \\\\\n",
       "\t6 & id3 & id3 & 0.3531 \\\\\n",
       "\\end{tabular}\n"
      ],
      "text/plain": [
       "\u001b[1m6×3 DataFrame\u001b[0m\n",
       "\u001b[1m Row \u001b[0m│\u001b[1m column_1 \u001b[0m\u001b[1m column_2 \u001b[0m\u001b[1m column_3 \u001b[0m\n",
       "     │\u001b[90m String   \u001b[0m\u001b[90m String   \u001b[0m\u001b[90m Float64  \u001b[0m\n",
       "─────┼──────────────────────────────\n",
       "   1 │ id1       id1         0.3345\n",
       "   2 │ id1       id2        -0.0227\n",
       "   3 │ id1       id3         0.0103\n",
       "   4 │ id2       id2         0.3032\n",
       "   5 │ id2       id3        -0.0253\n",
       "   6 │ id3       id3         0.3531"
      ]
     },
     "execution_count": 247,
     "metadata": {},
     "output_type": "execute_result"
    }
   ],
   "source": [
    "example2_K = df = DataFrame(column_1 = [\"id1\", \"id1\", \"id1\", \"id2\", \"id2\", \"id3\"], \n",
    "               column_2 = [\"id1\", \"id2\", \"id3\", \"id2\", \"id3\", \"id3\"],\n",
    "               column_3 = [0.3345, -0.0227, 0.0103, 0.3032,  -0.0253, 0.3531])"
   ]
  },
  {
   "cell_type": "markdown",
   "id": "2e9a2cb0-3458-4628-87a2-bace78548501",
   "metadata": {},
   "source": [
    "Two example kinship matrix formats allowed are as shown above, for three individuals. One can use `-km [num]` to choose which format to use, i.e. use `km -1` to accompany BIMBAM format."
   ]
  },
  {
   "cell_type": "markdown",
   "id": "047e9269-31fd-411d-b134-6dcfdf02fb08",
   "metadata": {
    "tags": []
   },
   "source": [
    "## Models"
   ]
  },
  {
   "cell_type": "markdown",
   "id": "12fe2642-1ba2-4a7c-bb52-800f4f36873b",
   "metadata": {
    "tags": []
   },
   "source": [
    "### Estimate Relatedness Matrix from Genotypes\n",
    "\n",
    "#### Basic Usage\n",
    "\n",
    "`gemma -g [genotype file name] -p [phenotype file name] -gk [num: 1 for G_centered, 2 for G_standardized] -o [output prefix]`"
   ]
  },
  {
   "cell_type": "code",
   "execution_count": 24,
   "id": "17a79d2d-ac09-4f7a-8426-0935cd5db327",
   "metadata": {},
   "outputs": [
    {
     "name": "stdout",
     "output_type": "stream",
     "text": [
      "GEMMA 0.98.5 (2021-08-25) by Xiang Zhou, Pjotr Prins and team (C) 2012-2021\n",
      "Reading Files ... \n",
      "## number of total individuals = 79\n",
      "## number of analyzed individuals = 79\n",
      "## number of covariates = 1\n",
      "## number of phenotypes = 1\n",
      "## number of total SNPs/var        =     7321\n",
      "## number of analyzed SNPs         =     7321\n",
      "Calculating Relatedness Matrix ... \n",
      "================================================== 100%\n"
     ]
    },
    {
     "name": "stderr",
     "output_type": "stream",
     "text": [
      "**** INFO: Done.\n"
     ]
    },
    {
     "name": "stdout",
     "output_type": "stream",
     "text": [
      "  0.477868 seconds (645 allocations: 113.695 KiB)\n"
     ]
    },
    {
     "data": {
      "text/plain": [
       "Process(`\u001b[4m/home/xyu/software/GEMMA/gemma-0.98.5-linux-static-AMD64\u001b[24m \u001b[4m-g\u001b[24m \u001b[4mBXDgeno_prob_bimbam.txt\u001b[24m \u001b[4m-p\u001b[24m \u001b[4mBXDpheno_bimbam.txt\u001b[24m \u001b[4m-gk\u001b[24m \u001b[4m1\u001b[24m \u001b[4m-o\u001b[24m \u001b[4mkinship\u001b[24m`, ProcessExited(0))"
      ]
     },
     "execution_count": 24,
     "metadata": {},
     "output_type": "execute_result"
    }
   ],
   "source": [
    "@time run(`$gemma -g $geno_filename -p $pheno_filename -gk 1 -o kinship`)"
   ]
  },
  {
   "cell_type": "markdown",
   "id": "6d33aefd-fa7c-4d62-9581-c4c5adb9ce4f",
   "metadata": {},
   "source": [
    "#### Detailed Information\n",
    "\n",
    "$$G_c = \\frac{1}{p}\\sum_{i=1}^p(x_i -1_n \\bar x_i)(x_i - 1_n \\bar x_i)^T$$\n",
    "\n",
    "$$G_s = \\frac{1}{p}\\sum_{i=1}^p\\frac{1}{v_{x_i}}(x_i -1_n \\bar x_i)(x_i - 1_n \\bar x_i)^T$$"
   ]
  },
  {
   "cell_type": "markdown",
   "id": "f094c68d-3623-41e0-8d77-1e0fac205092",
   "metadata": {},
   "source": [
    "Which of the two relatedness matrix to choose will largely depend on the underlying genetic architecture of the given trait. Specifically, if SNPs with lower minor allele frequency tend to have larger effects (which is inversely proportional to its genotype variance), then the standardized genotype matrix is preferred. If the SNP effect size does not depend on its minor allele frequency, then the centered genotype matrix is preferred."
   ]
  },
  {
   "cell_type": "markdown",
   "id": "952dc411-bb8d-426e-8380-5dae73ecb660",
   "metadata": {},
   "source": [
    "### Univariate Linear Mixed Models"
   ]
  },
  {
   "cell_type": "markdown",
   "id": "a86cbccd-3bfc-4d22-8dbe-e685def5efcd",
   "metadata": {
    "tags": []
   },
   "source": [
    "#### Basic Usage\n",
    "\n",
    "`gemma -g [filename] -p [filename] -a [(optional) SNP annotation] -k [relatedness matrix file name] -lmm [1 for Wald test, 2 for LR test, 3 for score test, 4 for all three tests] -o [prefix]`"
   ]
  },
  {
   "cell_type": "code",
   "execution_count": 268,
   "id": "d44f0b8a-a9cb-41ae-9d79-f412cbddc332",
   "metadata": {},
   "outputs": [
    {
     "data": {
      "text/plain": [
       "\"/home/zyu20/git/BulkLMM.jl/test/run-gemma\""
      ]
     },
     "execution_count": 268,
     "metadata": {},
     "output_type": "execute_result"
    }
   ],
   "source": [
    "pwd()"
   ]
  },
  {
   "cell_type": "code",
   "execution_count": 35,
   "id": "c758084a-3b77-4437-b984-380a48f83573",
   "metadata": {},
   "outputs": [
    {
     "data": {
      "text/plain": [
       "\"BXDgeno_prob_bimbam.txt\""
      ]
     },
     "execution_count": 35,
     "metadata": {},
     "output_type": "execute_result"
    }
   ],
   "source": [
    "geno_filename"
   ]
  },
  {
   "cell_type": "code",
   "execution_count": 269,
   "id": "8d01c11f-806f-483a-8310-f82fba471060",
   "metadata": {},
   "outputs": [
    {
     "name": "stdout",
     "output_type": "stream",
     "text": [
      "GEMMA 0.98.5 (2021-08-25) by Xiang Zhou, Pjotr Prins and team (C) 2012-2021\n",
      "Reading Files ... \n",
      "## number of total individuals = 79\n",
      "## number of analyzed individuals = 79\n",
      "## number of covariates = 1\n",
      "## number of phenotypes = 1\n",
      "## number of total SNPs/var        =     7321\n",
      "## number of analyzed SNPs         =     7321\n",
      "Start Eigen-Decomposition...\n",
      "pve estimate =0.813567\n",
      "se(pve) =0.0950615\n",
      "================================================== 100%\n",
      "  1.036051 seconds (816 allocations: 63.141 KiB)\n"
     ]
    },
    {
     "name": "stderr",
     "output_type": "stream",
     "text": [
      "**** INFO: Done.\n"
     ]
    },
    {
     "data": {
      "text/plain": [
       "Process(`\u001b[4m/home/zyu20/Softwares/gemma-0.98.5-linux-static-AMD64\u001b[24m \u001b[4m-g\u001b[24m \u001b[4mBXDgeno_prob_bimbam.txt\u001b[24m \u001b[4m-p\u001b[24m \u001b[4mBXDpheno_bimbam.txt\u001b[24m \u001b[4m-k\u001b[24m \u001b[4moutput/kinship.cXX.txt\u001b[24m \u001b[4m-lmm\u001b[24m \u001b[4m2\u001b[24m \u001b[4m-lmax\u001b[24m \u001b[4m1000000\u001b[24m \u001b[4m-o\u001b[24m \u001b[4mgemma_results.txt\u001b[24m`, ProcessExited(0))"
      ]
     },
     "execution_count": 269,
     "metadata": {},
     "output_type": "execute_result"
    }
   ],
   "source": [
    "@time run(`$gemma -g $geno_filename -p $pheno_filename -k output/kinship.cXX.txt -lmm 2 -lmax 1000000 -o gemma_results.txt`)"
   ]
  },
  {
   "cell_type": "markdown",
   "id": "30bbe4ec-1b1e-4a6f-ba93-295d6c6b843d",
   "metadata": {},
   "source": [
    "#### Output Files:"
   ]
  },
  {
   "cell_type": "markdown",
   "id": "26518489-f93e-4ef4-a24c-26c1ab97a396",
   "metadata": {},
   "source": [
    "There will be two optput files, both inside a folder named 'output' (auto-created) in the current directory:\n",
    "\n",
    "- The 'pre-fix.log.txt' file contains some detailed information about the running parameters and computation time,"
   ]
  },
  {
   "cell_type": "code",
   "execution_count": 270,
   "id": "27b09b11-ff4d-4c06-a1a0-c6af32e1a005",
   "metadata": {},
   "outputs": [],
   "source": [
    "logreport_gemma = CSV.read(\"output/gemma_results.txt.log.txt\", DataFrame, delim = '\\t', header = false);"
   ]
  },
  {
   "cell_type": "code",
   "execution_count": 29,
   "id": "c3f51192-574e-4c67-941c-240a7f87dfcc",
   "metadata": {},
   "outputs": [],
   "source": [
    "results_gemma = CSV.read(\"output/gemma_results.txt.assoc.txt\", DataFrame, delim = '\\t', header = false);"
   ]
  },
  {
   "cell_type": "markdown",
   "id": "59029685-61d2-4af1-ade0-43e54eebfaa5",
   "metadata": {},
   "source": [
    "Full results reported by GEMMA has the format as shown above:"
   ]
  },
  {
   "cell_type": "code",
   "execution_count": 272,
   "id": "512cbd1b-a098-46ed-82d9-1c2b31f2d17c",
   "metadata": {},
   "outputs": [
    {
     "data": {
      "text/plain": [
       "2-element Vector{String3}:\n",
       " \"chr\"\n",
       " \"-9\""
      ]
     },
     "execution_count": 272,
     "metadata": {},
     "output_type": "execute_result"
    }
   ],
   "source": [
    "unique(results_gemma[:, 1])"
   ]
  },
  {
   "cell_type": "markdown",
   "id": "9a41e866-3c26-4b97-9235-25141c378497",
   "metadata": {},
   "source": [
    "#### Using the kinship matrix $G_c$ calculated by *GEMMA* using the above formula:"
   ]
  },
  {
   "cell_type": "code",
   "execution_count": 273,
   "id": "8a984a9d-19eb-425b-88dd-dd1fb154d402",
   "metadata": {},
   "outputs": [],
   "source": [
    "kinship_Gc = CSV.read(\"output/kinship.cXX.txt\", DataFrame, delim = '\\t', header = false);"
   ]
  },
  {
   "cell_type": "code",
   "execution_count": 274,
   "id": "48fb450c-48d6-4120-b8c7-fc9c184845d7",
   "metadata": {},
   "outputs": [],
   "source": [
    "kinshipMat_Gc = Matrix(kinship_Gc);"
   ]
  },
  {
   "cell_type": "code",
   "execution_count": 275,
   "id": "2b9bd37b-44c2-42a5-ba1f-b4a06a5a552b",
   "metadata": {},
   "outputs": [
    {
     "data": {
      "text/plain": [
       "6×6 Matrix{Float64}:\n",
       "  0.971367    -0.0803409   0.118316    0.0516335  -0.00965022  -0.0889471\n",
       " -0.0803409    0.991482   -0.0287038   0.0275875  -0.141933    -0.0646924\n",
       "  0.118316    -0.0287038   1.01951    -0.217635   -0.103393     0.116334\n",
       "  0.0516335    0.0275875  -0.217635    1.04452     0.177017    -0.0793848\n",
       " -0.00965022  -0.141933   -0.103393    0.177017    0.996395    -0.0755602\n",
       " -0.0889471   -0.0646924   0.116334   -0.0793848  -0.0755602    0.943166"
      ]
     },
     "execution_count": 275,
     "metadata": {},
     "output_type": "execute_result"
    }
   ],
   "source": [
    "kinshipMat_Gc[1:6, 1:6]"
   ]
  },
  {
   "cell_type": "code",
   "execution_count": 276,
   "id": "4665f2e5-954c-443d-b0c0-f6378b32b84a",
   "metadata": {},
   "outputs": [
    {
     "data": {
      "text/plain": [
       "79×1 Matrix{Float64}:\n",
       " 10.715\n",
       " 10.792\n",
       " 11.968\n",
       " 11.56\n",
       " 11.097\n",
       " 10.85\n",
       " 11.493\n",
       " 10.76\n",
       " 11.914\n",
       " 10.37\n",
       " 11.828\n",
       " 10.611\n",
       " 10.886\n",
       "  ⋮\n",
       " 11.912\n",
       " 11.074\n",
       " 12.058\n",
       " 10.804\n",
       " 10.526\n",
       " 11.711\n",
       " 10.516\n",
       " 11.662\n",
       " 12.082\n",
       " 11.434\n",
       " 10.81\n",
       " 11.797"
      ]
     },
     "execution_count": 276,
     "metadata": {},
     "output_type": "execute_result"
    }
   ],
   "source": [
    "pheno_y = reshape(pheno[:, traitID], :, 1)"
   ]
  },
  {
   "cell_type": "code",
   "execution_count": 277,
   "id": "43f79aa0-3b47-4d2e-8494-05d768ccf42a",
   "metadata": {},
   "outputs": [],
   "source": [
    "results_bulklmm_alt = scan(pheno_y, geno, kinshipMat_Gc; reml = false, method = \"alt\");"
   ]
  },
  {
   "cell_type": "code",
   "execution_count": 278,
   "id": "f444bc03-c293-4082-a70f-55fe30a1df42",
   "metadata": {},
   "outputs": [],
   "source": [
    "results_bulklmm_null = scan(pheno_y, geno, kinshipMat_Gc; reml = true, method = \"null\");"
   ]
  },
  {
   "cell_type": "code",
   "execution_count": 261,
   "id": "473d1421-d831-4324-a70e-688c5baab682",
   "metadata": {},
   "outputs": [
    {
     "data": {
      "text/plain": [
       "0.28644367458715875"
      ]
     },
     "execution_count": 261,
     "metadata": {},
     "output_type": "execute_result"
    }
   ],
   "source": [
    "results_bulklmm_null[2] # hsq under the null model estimated by BulkLMM, using reml = true"
   ]
  },
  {
   "cell_type": "code",
   "execution_count": 188,
   "id": "b02e88be-7f71-41d9-9bc1-975088d82f46",
   "metadata": {},
   "outputs": [
    {
     "data": {
      "text/plain": [
       "0.8182836827818573"
      ]
     },
     "execution_count": 188,
     "metadata": {},
     "output_type": "execute_result"
    }
   ],
   "source": [
    "0.221055/(0.221055+0.0490897)"
   ]
  },
  {
   "cell_type": "markdown",
   "id": "2caf306b-c187-40f8-ba30-0ce3bd78758a",
   "metadata": {},
   "source": [
    "#### Using the kinship matrix calculated by *BulkLMM.jl*:"
   ]
  },
  {
   "cell_type": "code",
   "execution_count": 189,
   "id": "9703bbe9-114c-461e-b9ab-82fdc8df3c67",
   "metadata": {},
   "outputs": [
    {
     "data": {
      "text/plain": [
       "6×6 Matrix{Float64}:\n",
       " 1.0       0.468763  0.561085  0.521296  0.502617  0.476443\n",
       " 0.468763  1.0       0.482652  0.50435   0.431553  0.483647\n",
       " 0.561085  0.482652  1.0       0.374733  0.443817  0.567154\n",
       " 0.521296  0.50435   0.374733  1.0       0.577574  0.462847\n",
       " 0.502617  0.431553  0.443817  0.577574  1.0       0.476722\n",
       " 0.476443  0.483647  0.567154  0.462847  0.476722  1.0"
      ]
     },
     "execution_count": 189,
     "metadata": {},
     "output_type": "execute_result"
    }
   ],
   "source": [
    "kinshipMat_bulklmm = kinship;\n",
    "kinshipMat_bulklmm[1:6, 1:6]"
   ]
  },
  {
   "cell_type": "code",
   "execution_count": 190,
   "id": "dd592b5c-a9c7-4438-90fc-62ff33d133da",
   "metadata": {},
   "outputs": [],
   "source": [
    "results_bulklmm2_alt = scan(pheno_y, geno, kinshipMat_bulklmm; reml = false, method = \"alt\");"
   ]
  },
  {
   "cell_type": "code",
   "execution_count": 191,
   "id": "134c1e68-fccc-4e29-80af-c3c8cc83bf37",
   "metadata": {},
   "outputs": [],
   "source": [
    "results_bulklmm2_null = scan(pheno_y, geno, kinshipMat_bulklmm; reml = true, method = \"null\");"
   ]
  },
  {
   "cell_type": "code",
   "execution_count": 192,
   "id": "22f0a331-edfe-4412-a58e-ad53cea2e936",
   "metadata": {},
   "outputs": [
    {
     "data": {
      "text/plain": [
       "5.973045472187468e-15"
      ]
     },
     "execution_count": 192,
     "metadata": {},
     "output_type": "execute_result"
    }
   ],
   "source": [
    "results_bulklmm2_null[2] # hsq under the null model estimated by BulkLMM, using reml = true"
   ]
  },
  {
   "cell_type": "code",
   "execution_count": 193,
   "id": "c89b1e33-d934-4cd0-b9f8-76fea86491a3",
   "metadata": {},
   "outputs": [
    {
     "data": {
      "text/plain": [
       "lod2logp (generic function with 1 method)"
      ]
     },
     "execution_count": 193,
     "metadata": {},
     "output_type": "execute_result"
    }
   ],
   "source": [
    "function lod2logp(LOD,df) \n",
    "    return -log10(1-cdf(Chisq(df),2*log(10)*LOD))\n",
    "end"
   ]
  },
  {
   "cell_type": "code",
   "execution_count": 194,
   "id": "36d8012b-974b-4d94-8edb-9b2f6b946095",
   "metadata": {},
   "outputs": [
    {
     "data": {
      "text/plain": [
       "p2lod (generic function with 1 method)"
      ]
     },
     "execution_count": 194,
     "metadata": {},
     "output_type": "execute_result"
    }
   ],
   "source": [
    "function p2lod(pval::Float64, df::Int64)\n",
    "    \n",
    "    lrs = invlogcdf(Chisq(df), log(1-pval))\n",
    "    lod = lrs/(2*log(10))\n",
    "    \n",
    "    # return lrs\n",
    "    return lod\n",
    "\n",
    "end"
   ]
  },
  {
   "cell_type": "code",
   "execution_count": 195,
   "id": "95a5658b-cf3e-4c8e-a6c9-03618f8b83e0",
   "metadata": {},
   "outputs": [
    {
     "data": {
      "text/plain": [
       "0.0010000000000000009"
      ]
     },
     "execution_count": 195,
     "metadata": {},
     "output_type": "execute_result"
    }
   ],
   "source": [
    "# load package\n",
    "using Distributions\n",
    "\n",
    "# LOD score\n",
    "LOD = 3.0\n",
    "# p-value from chi-square with 2df calculated from \n",
    "# cdf (cumulative distribution function)\n",
    "p = 1-cdf(Chisq(2),2*log(10)*LOD)"
   ]
  },
  {
   "cell_type": "markdown",
   "id": "7ccd4de5-c5e2-4486-bf82-b740bae3b7cd",
   "metadata": {},
   "source": [
    "When the LRT statistic is asymptotic Chisq(2) under the null, we would expect the corresponding LOD is equal to $-log_{10}(p)$"
   ]
  },
  {
   "cell_type": "code",
   "execution_count": 196,
   "id": "4b9404d8-35b0-4c1b-8f33-95d898ca7761",
   "metadata": {},
   "outputs": [
    {
     "data": {
      "text/plain": [
       "2.999999999999999"
      ]
     },
     "execution_count": 196,
     "metadata": {},
     "output_type": "execute_result"
    }
   ],
   "source": [
    "p2lod(p, 2)"
   ]
  },
  {
   "cell_type": "code",
   "execution_count": 197,
   "id": "be6114cb-a2d0-4f1c-8c4b-55b20bdce95e",
   "metadata": {},
   "outputs": [
    {
     "data": {
      "text/plain": [
       "2.9999999999999996"
      ]
     },
     "execution_count": 197,
     "metadata": {},
     "output_type": "execute_result"
    }
   ],
   "source": [
    "-log10(p)"
   ]
  },
  {
   "cell_type": "code",
   "execution_count": 198,
   "id": "1d6534f5-28a0-4d15-aa16-38b6dcc30bb1",
   "metadata": {},
   "outputs": [],
   "source": [
    "using DelimitedFiles"
   ]
  },
  {
   "cell_type": "code",
   "execution_count": 31,
   "id": "a1117c2a-bb7b-4967-8d19-1f999307597d",
   "metadata": {},
   "outputs": [
    {
     "data": {
      "text/plain": [
       "7322×10 Matrix{Any}:\n",
       "   \"chr\"  \"rs\"             \"ps\"  …     \"logl_H1\"   \"l_mle\"   \"p_lrt\"\n",
       " -9       \"rs31443144\"   -9         -48.1777      1.0e6     0.968104\n",
       " -9       \"rs6269442\"    -9         -48.1777      1.0e6     0.968104\n",
       " -9       \"rs32285189\"   -9         -48.1777      1.0e6     0.968104\n",
       " -9       \"rs258367496\"  -9         -48.1777      1.0e6     0.968104\n",
       " -9       \"rs32430919\"   -9      …  -48.1777      1.0e6     0.968104\n",
       " -9       \"rs36251697\"   -9         -48.1777      1.0e6     0.968104\n",
       " -9       \"rs30658298\"   -9         -48.1777      1.0e6     0.968104\n",
       " -9       \"rs51852623\"   -9         -48.1777      1.0e6     0.968104\n",
       " -9       \"rs31879829\"   -9         -48.1777      1.0e6     0.968104\n",
       " -9       \"rs36742481\"   -9      …  -48.1777      1.0e6     0.968104\n",
       " -9       \"rs6365999\"    -9         -48.1777      1.0e6     0.968104\n",
       " -9       \"rs13470446\"   -9         -48.1777      1.0e6     0.968111\n",
       "  ⋮                              ⋱                          \n",
       " -9       \"rs31466210\"   -9      …  -47.3737      1.0e6     0.204542\n",
       " -9       \"rs212815990\"  -9         -47.3737      1.0e6     0.204542\n",
       " -9       \"rs227685113\"  -9         -47.3737      1.0e6     0.204542\n",
       " -9       \"rs31551153\"   -9         -47.8313      1.0e6     0.404683\n",
       " -9       \"rs31556818\"   -9         -48.1784      1.0e6     0.987061\n",
       " -9       \"rs31275062\"   -9      …  -48.1784      1.0e6     0.987061\n",
       " -9       \"rs47382998\"   -9         -48.1776      1.0e6     0.966325\n",
       " -9       \"rs13484107\"   -9         -48.1729      1.0e6     0.916078\n",
       " -9       \"rs3693969\"    -9         -48.1736      1.0e6     0.921281\n",
       " -9       \"DXMit223\"     -9         -48.1654      1.0e6     0.871565\n",
       " -9       \"rs31638776\"   -9      …  -48.1718      1.0e6     0.908128\n",
       " -9       \"rs31639754\"   -9         -48.1718      1.0e6     0.908128"
      ]
     },
     "execution_count": 31,
     "metadata": {},
     "output_type": "execute_result"
    }
   ],
   "source": [
    "results_gemma = readdlm(\"output/gemma_results.txt.assoc.txt\", '\\t')"
   ]
  },
  {
   "cell_type": "code",
   "execution_count": 34,
   "id": "973df762-74b9-4fc7-8bde-1224b4a8554c",
   "metadata": {},
   "outputs": [
    {
     "data": {
      "text/plain": [
       "6×6 Matrix{Any}:\n",
       " \"allele1\"  \"allele0\"   \"af\"     \"logl_H1\"   \"l_mle\"   \"p_lrt\"\n",
       " \"A\"        \"B\"        0.557  -48.1777      1.0e6     0.968104\n",
       " \"A\"        \"B\"        0.557  -48.1777      1.0e6     0.968104\n",
       " \"A\"        \"B\"        0.557  -48.1777      1.0e6     0.968104\n",
       " \"A\"        \"B\"        0.557  -48.1777      1.0e6     0.968104\n",
       " \"A\"        \"B\"        0.557  -48.1777      1.0e6     0.968104"
      ]
     },
     "execution_count": 34,
     "metadata": {},
     "output_type": "execute_result"
    }
   ],
   "source": [
    "results_gemma[1:6, 5:10]"
   ]
  },
  {
   "cell_type": "code",
   "execution_count": 232,
   "id": "f5be66cc-d49d-4e8d-ae4e-0bca10765bbf",
   "metadata": {},
   "outputs": [],
   "source": [
    "lods_gemma = map(x -> p2lod(x, 1), results_gemma[2:end, 10]);"
   ]
  },
  {
   "cell_type": "code",
   "execution_count": 233,
   "id": "0da38e79-4842-49cc-b17c-6439d20252f7",
   "metadata": {},
   "outputs": [
    {
     "data": {
      "text/plain": [
       "7321×2 Matrix{Float64}:\n",
       " 0.094309     0.377264\n",
       " 0.094309     0.377264\n",
       " 0.094309     0.377264\n",
       " 0.094309     0.377264\n",
       " 0.094309     0.377264\n",
       " 0.094309     0.377264\n",
       " 0.094309     0.377264\n",
       " 0.094309     0.377264\n",
       " 0.094309     0.377264\n",
       " 0.094309     0.377264\n",
       " 0.094309     0.377264\n",
       " 0.0943064    0.377254\n",
       " 0.0133797    0.105451\n",
       " ⋮            \n",
       " 0.108847     0.00669749\n",
       " 0.108847     0.00669749\n",
       " 0.108847     0.00669749\n",
       " 0.162331     0.00937725\n",
       " 0.017045     0.00844277\n",
       " 0.017045     0.00844277\n",
       " 0.00230892   0.0101505\n",
       " 0.00381478   0.00740475\n",
       " 0.00364596   0.00768969\n",
       " 0.00535974   0.00500525\n",
       " 0.000872884  0.0144911\n",
       " 0.000872884  0.0144911"
      ]
     },
     "execution_count": 233,
     "metadata": {},
     "output_type": "execute_result"
    }
   ],
   "source": [
    "hcat(lods_gemma, results_bulklmm_alt[3])"
   ]
  },
  {
   "cell_type": "code",
   "execution_count": 234,
   "id": "8b9d6722-9591-4e81-b55c-76d44865ab31",
   "metadata": {},
   "outputs": [
    {
     "data": {
      "text/plain": [
       "7321×2 Matrix{Float64}:\n",
       " 0.094309     0.391942\n",
       " 0.094309     0.391942\n",
       " 0.094309     0.391942\n",
       " 0.094309     0.391942\n",
       " 0.094309     0.391942\n",
       " 0.094309     0.391942\n",
       " 0.094309     0.391942\n",
       " 0.094309     0.391942\n",
       " 0.094309     0.391942\n",
       " 0.094309     0.391942\n",
       " 0.094309     0.391942\n",
       " 0.0943064    0.391933\n",
       " 0.0133797    0.123007\n",
       " ⋮            \n",
       " 0.108847     5.46372e-5\n",
       " 0.108847     5.46372e-5\n",
       " 0.108847     5.46372e-5\n",
       " 0.162331     0.000546461\n",
       " 0.017045     0.0240064\n",
       " 0.017045     0.0240064\n",
       " 0.00230892   0.0227789\n",
       " 0.00381478   0.0181487\n",
       " 0.00364596   0.0186486\n",
       " 0.00535974   0.0137141\n",
       " 0.000872884  0.0235871\n",
       " 0.000872884  0.0235871"
      ]
     },
     "execution_count": 234,
     "metadata": {},
     "output_type": "execute_result"
    }
   ],
   "source": [
    "hcat(lods_gemma, results_bulklmm_null[3])"
   ]
  },
  {
   "cell_type": "code",
   "execution_count": 235,
   "id": "698fbf80-b9c2-4a1f-807b-ca3e9e2a2c5a",
   "metadata": {},
   "outputs": [
    {
     "data": {
      "text/plain": [
       "Int64[]"
      ]
     },
     "execution_count": 235,
     "metadata": {},
     "output_type": "execute_result"
    }
   ],
   "source": [
    "findall(isnan.(lods_gemma))"
   ]
  },
  {
   "cell_type": "code",
   "execution_count": 203,
   "id": "9df57ea4-46e8-43ca-8555-ec9ffb367754",
   "metadata": {},
   "outputs": [
    {
     "data": {
      "text/plain": [
       "NaN"
      ]
     },
     "execution_count": 203,
     "metadata": {},
     "output_type": "execute_result"
    }
   ],
   "source": [
    "sumSqDiff(reshape(lods_gemma, :, 1), reshape(results_bulklmm_null[3], :, 1))"
   ]
  },
  {
   "cell_type": "code",
   "execution_count": null,
   "id": "438fbe6a-3355-4f35-b51b-42cc0460a2e5",
   "metadata": {},
   "outputs": [],
   "source": []
  }
 ],
 "metadata": {
  "kernelspec": {
   "display_name": "Julia 24 Threads 1.8.1",
   "language": "julia",
   "name": "julia-24-threads-1.8"
  },
  "language_info": {
   "file_extension": ".jl",
   "mimetype": "application/julia",
   "name": "julia",
   "version": "1.8.1"
  }
 },
 "nbformat": 4,
 "nbformat_minor": 5
}
