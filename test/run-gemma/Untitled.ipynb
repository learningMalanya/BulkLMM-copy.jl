{
 "cells": [
  {
   "cell_type": "code",
   "execution_count": 7,
   "id": "80f49afa-f06b-4323-be58-6e37e3800587",
   "metadata": {},
   "outputs": [
    {
     "data": {
      "text/plain": [
       "\"/home/xyu/github/BulkLMM.jl/test/run-gemma\""
      ]
     },
     "execution_count": 7,
     "metadata": {},
     "output_type": "execute_result"
    }
   ],
   "source": [
    "pwd()"
   ]
  },
  {
   "cell_type": "code",
   "execution_count": 2,
   "id": "bd5e284a-81c1-4b63-9e1e-b22fcad83555",
   "metadata": {},
   "outputs": [
    {
     "data": {
      "text/plain": [
       "\"/home/xyu/software/GEMMA/gemma-0.98.5-linux-static-AMD64\""
      ]
     },
     "execution_count": 2,
     "metadata": {},
     "output_type": "execute_result"
    }
   ],
   "source": [
    "gemma = \"/home/xyu/software/GEMMA/gemma-0.98.5-linux-static-AMD64\""
   ]
  },
  {
   "cell_type": "code",
   "execution_count": 3,
   "id": "490fa998-bbbc-4f64-9c87-f8f89ee51afb",
   "metadata": {},
   "outputs": [
    {
     "data": {
      "text/plain": [
       "String"
      ]
     },
     "execution_count": 3,
     "metadata": {},
     "output_type": "execute_result"
    }
   ],
   "source": [
    "typeof(gemma)"
   ]
  },
  {
   "cell_type": "code",
   "execution_count": 4,
   "id": "f8529de0-5963-4ed6-b376-6075c4ad6ceb",
   "metadata": {},
   "outputs": [
    {
     "name": "stdout",
     "output_type": "stream",
     "text": [
      "GEMMA 0.98.5 (2021-08-25) by Xiang Zhou, Pjotr Prins and team (C) 2012-2021\n",
      "\n",
      " type ./gemma -h [num] for detailed help\n",
      " options: \n",
      "  1: quick guide\n",
      "  2: file I/O related\n",
      "  3: SNP QC\n",
      "  4: calculate relatedness matrix\n",
      "  5: perform eigen decomposition\n",
      "  6: perform variance component estimation\n",
      "  7: fit a linear model\n",
      "  8: fit a linear mixed model\n",
      "  9: fit a multivariate linear mixed model\n",
      " 10: fit a Bayesian sparse linear mixed model\n",
      " 11: obtain predicted values\n",
      " 12: calculate snp variance covariance\n",
      " 13: note\n",
      " 14: debug options\n",
      "\n",
      "The GEMMA software is distributed under the GNU General Public v3\n",
      "   -license    show license information\n",
      "   see also http://www.xzlab.org/software.html, https://github.com/genetics-statistics\n"
     ]
    },
    {
     "data": {
      "text/plain": [
       "Process(`\u001b[4m/home/xyu/software/GEMMA/gemma-0.98.5-linux-static-AMD64\u001b[24m \u001b[4m-h\u001b[24m`, ProcessExited(0))"
      ]
     },
     "execution_count": 4,
     "metadata": {},
     "output_type": "execute_result"
    }
   ],
   "source": [
    "run(`$gemma -h`)"
   ]
  },
  {
   "cell_type": "code",
   "execution_count": 12,
   "id": "19cad114-7937-4a71-8f9e-78ae444ace0d",
   "metadata": {},
   "outputs": [],
   "source": [
    "pheno_filename = \"/home/xyu/github/BulkLMM.jl/test/run-gemma/BXD_pheno_bimbam.txt\";\n",
    "geno_filename = \"/home/xyu/github/BulkLMM.jl/test/run-gemma/BXD_geno_prob_bimbam.txt\";"
   ]
  },
  {
   "cell_type": "code",
   "execution_count": 13,
   "id": "d44f0b8a-a9cb-41ae-9d79-f412cbddc332",
   "metadata": {},
   "outputs": [
    {
     "data": {
      "text/plain": [
       "\"/home/xyu/github/BulkLMM.jl/test/run-gemma\""
      ]
     },
     "execution_count": 13,
     "metadata": {},
     "output_type": "execute_result"
    }
   ],
   "source": [
    "pwd()"
   ]
  },
  {
   "cell_type": "code",
   "execution_count": 14,
   "id": "17a79d2d-ac09-4f7a-8426-0935cd5db327",
   "metadata": {},
   "outputs": [
    {
     "name": "stdout",
     "output_type": "stream",
     "text": [
      "GEMMA 0.98.5 (2021-08-25) by Xiang Zhou, Pjotr Prins and team (C) 2012-2021\n",
      "error! fail to open phenotype file: /home/xyu/github/BulkLMM.jl/test/run-gemma/BXD_pheno_bimbam.txt\n",
      "error! fail to open mean genotype file: /home/xyu/github/BulkLMM.jl/test/run-gemma/BXD_geno_prob_bimbam.txt\n"
     ]
    },
    {
     "ename": "LoadError",
     "evalue": "failed process: Process(`\u001b[4m/home/xyu/software/GEMMA/gemma-0.98.5-linux-static-AMD64\u001b[24m \u001b[4m-g\u001b[24m \u001b[4m/home/xyu/github/BulkLMM.jl/test/run-gemma/BXD_geno_prob_bimbam.txt\u001b[24m \u001b[4m-p\u001b[24m \u001b[4m/home/xyu/github/BulkLMM.jl/test/run-gemma/BXD_pheno_bimbam.txt\u001b[24m \u001b[4m-gk\u001b[24m \u001b[4m1\u001b[24m \u001b[4m-o\u001b[24m \u001b[4mkinship\u001b[24m`, ProcessExited(1)) [1]\n",
     "output_type": "error",
     "traceback": [
      "failed process: Process(`\u001b[4m/home/xyu/software/GEMMA/gemma-0.98.5-linux-static-AMD64\u001b[24m \u001b[4m-g\u001b[24m \u001b[4m/home/xyu/github/BulkLMM.jl/test/run-gemma/BXD_geno_prob_bimbam.txt\u001b[24m \u001b[4m-p\u001b[24m \u001b[4m/home/xyu/github/BulkLMM.jl/test/run-gemma/BXD_pheno_bimbam.txt\u001b[24m \u001b[4m-gk\u001b[24m \u001b[4m1\u001b[24m \u001b[4m-o\u001b[24m \u001b[4mkinship\u001b[24m`, ProcessExited(1)) [1]\n",
      "",
      "Stacktrace:",
      " [1] pipeline_error",
      "   @ ./process.jl:565 [inlined]",
      " [2] run(::Cmd; wait::Bool)",
      "   @ Base ./process.jl:480",
      " [3] run(::Cmd)",
      "   @ Base ./process.jl:477",
      " [4] top-level scope",
      "   @ In[14]:1",
      " [5] eval",
      "   @ ./boot.jl:368 [inlined]",
      " [6] include_string(mapexpr::typeof(REPL.softscope), mod::Module, code::String, filename::String)",
      "   @ Base ./loading.jl:1428"
     ]
    }
   ],
   "source": [
    "run(`$gemma -g $geno_filename -p $pheno_filename -gk 1 -o kinship`)"
   ]
  },
  {
   "cell_type": "code",
   "execution_count": null,
   "id": "8d01c11f-806f-483a-8310-f82fba471060",
   "metadata": {},
   "outputs": [],
   "source": []
  }
 ],
 "metadata": {
  "kernelspec": {
   "display_name": "Julia 1.8.1",
   "language": "julia",
   "name": "julia-1.8"
  },
  "language_info": {
   "file_extension": ".jl",
   "mimetype": "application/julia",
   "name": "julia",
   "version": "1.8.1"
  }
 },
 "nbformat": 4,
 "nbformat_minor": 5
}
