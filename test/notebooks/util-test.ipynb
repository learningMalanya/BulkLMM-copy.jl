{
 "cells": [
  {
   "cell_type": "code",
   "execution_count": 1,
   "id": "f8e42b47-166f-417c-b30e-9176b9c411e3",
   "metadata": {},
   "outputs": [],
   "source": [
    "# using Pkg\n",
    "# Pkg.add(\"\")"
   ]
  },
  {
   "cell_type": "code",
   "execution_count": 2,
   "id": "2c7ba7fa-9f3b-4bea-8f8d-ae2f4ae3d366",
   "metadata": {},
   "outputs": [],
   "source": [
    "using Test\n",
    "using BenchmarkTools\n",
    "using LinearAlgebra\n",
    "using Statistics\n",
    "using Random"
   ]
  },
  {
   "cell_type": "markdown",
   "id": "21e9ef31-dfe2-4fa4-b5cf-389eebdfcc4f",
   "metadata": {},
   "source": [
    "## Include scripts:"
   ]
  },
  {
   "cell_type": "code",
   "execution_count": 3,
   "id": "ef7ba74e-5b9a-47f4-848b-935696bb00b0",
   "metadata": {},
   "outputs": [
    {
     "data": {
      "text/plain": [
       "compareValues (generic function with 1 method)"
      ]
     },
     "execution_count": 3,
     "metadata": {},
     "output_type": "execute_result"
    }
   ],
   "source": [
    "include(\"../../src/util.jl\")"
   ]
  },
  {
   "cell_type": "markdown",
   "id": "f8e48b54-5f7f-48f6-8ac8-ae1041e63ded",
   "metadata": {},
   "source": [
    "## Test Helper"
   ]
  },
  {
   "cell_type": "code",
   "execution_count": 4,
   "id": "c1e551cb-b568-4a7a-9439-6af0749b9fad",
   "metadata": {},
   "outputs": [
    {
     "data": {
      "text/plain": [
       "testHelper (generic function with 1 method)"
      ]
     },
     "execution_count": 4,
     "metadata": {},
     "output_type": "execute_result"
    }
   ],
   "source": [
    "function testHelper(test::Expr; ntests::Integer = 10)\n",
    "    [eval(test) for i in 1:ntests]\n",
    "end"
   ]
  },
  {
   "cell_type": "markdown",
   "id": "353ed828-54dd-4868-a1cb-df4e7daa1a06",
   "metadata": {},
   "source": [
    "## TEST: colCenter!()"
   ]
  },
  {
   "cell_type": "markdown",
   "id": "a21bc9a7-2c1c-4819-b3c5-4bd79706559b",
   "metadata": {
    "tags": []
   },
   "source": [
    "### Test - Case 1:"
   ]
  },
  {
   "cell_type": "markdown",
   "id": "0d502f6d-9916-49cb-829f-3b000cc3bdac",
   "metadata": {},
   "source": [
    "When data is a vector (1 column)..."
   ]
  },
  {
   "cell_type": "code",
   "execution_count": 5,
   "id": "1fcc9439-3bf5-43f1-9443-55d04b655cbc",
   "metadata": {},
   "outputs": [],
   "source": [
    "test1 = quote\n",
    "    N = 100;\n",
    "    A = rand([0.0, 1.0], N, 1);\n",
    "    ## Manually center columns of A\n",
    "    colMean_A = sum(A)/N;\n",
    "    true_centered_A = transpose(round.(transpose(A) .- colMean_A; digits = 2));\n",
    "    colCenter!(A);\n",
    "    A .= round.(A; digits = 2);\n",
    "    @test true_centered_A == A;\n",
    "end;"
   ]
  },
  {
   "cell_type": "code",
   "execution_count": 6,
   "id": "4244fd49-a570-4281-b080-2dcd1f91ac29",
   "metadata": {},
   "outputs": [
    {
     "data": {
      "text/plain": [
       "10-element Vector{Test.Pass}:\n",
       " \u001b[32m\u001b[1mTest Passed\u001b[22m\u001b[39m\n",
       "  Expression: true_centered_A == A\n",
       "   Evaluated: [-0.5; 0.5; … ; 0.5; -0.5;;] == [-0.5; 0.5; … ; 0.5; -0.5;;]\n",
       " \u001b[32m\u001b[1mTest Passed\u001b[22m\u001b[39m\n",
       "  Expression: true_centered_A == A\n",
       "   Evaluated: [-0.47; 0.53; … ; -0.47; -0.47;;] == [-0.47; 0.53; … ; -0.47; -0.47;;]\n",
       " \u001b[32m\u001b[1mTest Passed\u001b[22m\u001b[39m\n",
       "  Expression: true_centered_A == A\n",
       "   Evaluated: [0.45; 0.45; … ; 0.45; 0.45;;] == [0.45; 0.45; … ; 0.45; 0.45;;]\n",
       " \u001b[32m\u001b[1mTest Passed\u001b[22m\u001b[39m\n",
       "  Expression: true_centered_A == A\n",
       "   Evaluated: [0.57; -0.43; … ; 0.57; -0.43;;] == [0.57; -0.43; … ; 0.57; -0.43;;]\n",
       " \u001b[32m\u001b[1mTest Passed\u001b[22m\u001b[39m\n",
       "  Expression: true_centered_A == A\n",
       "   Evaluated: [-0.48; -0.48; … ; 0.52; 0.52;;] == [-0.48; -0.48; … ; 0.52; 0.52;;]\n",
       " \u001b[32m\u001b[1mTest Passed\u001b[22m\u001b[39m\n",
       "  Expression: true_centered_A == A\n",
       "   Evaluated: [-0.54; -0.54; … ; -0.54; 0.46;;] == [-0.54; -0.54; … ; -0.54; 0.46;;]\n",
       " \u001b[32m\u001b[1mTest Passed\u001b[22m\u001b[39m\n",
       "  Expression: true_centered_A == A\n",
       "   Evaluated: [-0.42; -0.42; … ; 0.58; -0.42;;] == [-0.42; -0.42; … ; 0.58; -0.42;;]\n",
       " \u001b[32m\u001b[1mTest Passed\u001b[22m\u001b[39m\n",
       "  Expression: true_centered_A == A\n",
       "   Evaluated: [-0.42; 0.58; … ; 0.58; -0.42;;] == [-0.42; 0.58; … ; 0.58; -0.42;;]\n",
       " \u001b[32m\u001b[1mTest Passed\u001b[22m\u001b[39m\n",
       "  Expression: true_centered_A == A\n",
       "   Evaluated: [-0.56; 0.44; … ; -0.56; 0.44;;] == [-0.56; 0.44; … ; -0.56; 0.44;;]\n",
       " \u001b[32m\u001b[1mTest Passed\u001b[22m\u001b[39m\n",
       "  Expression: true_centered_A == A\n",
       "   Evaluated: [-0.53; 0.47; … ; 0.47; -0.53;;] == [-0.53; 0.47; … ; 0.47; -0.53;;]"
      ]
     },
     "execution_count": 6,
     "metadata": {},
     "output_type": "execute_result"
    }
   ],
   "source": [
    "testHelper(test1; ntests = 10)"
   ]
  },
  {
   "cell_type": "markdown",
   "id": "2613af26-02da-495f-8173-759da4a07a63",
   "metadata": {},
   "source": [
    "### Test - Case 2:"
   ]
  },
  {
   "cell_type": "code",
   "execution_count": 7,
   "id": "29816edc-1adb-4111-9ff4-ee2839d1993c",
   "metadata": {},
   "outputs": [],
   "source": [
    "test2 = quote\n",
    "    N = 100;\n",
    "    p = rand([1, 5]); # randomly generate the number of rows\n",
    "    \n",
    "    A = rand([0.0, 1.0], N, p);\n",
    "    \n",
    "    ## Manually center columns of A\n",
    "    colMean_A = sum(A, dims = 1)./N;\n",
    "    true_centered_A = round.(A .- colMean_A; digits = 2);\n",
    "    colCenter!(A);\n",
    "    A .= round.(A; digits = 2);\n",
    "    @test true_centered_A == A;\n",
    "end;"
   ]
  },
  {
   "cell_type": "code",
   "execution_count": 8,
   "id": "0e21c405-f577-4e95-8aea-915ca6945bd2",
   "metadata": {},
   "outputs": [
    {
     "data": {
      "text/plain": [
       "10-element Vector{Test.Pass}:\n",
       " \u001b[32m\u001b[1mTest Passed\u001b[22m\u001b[39m\n",
       "  Expression: true_centered_A == A\n",
       "   Evaluated: [-0.38; 0.62; … ; 0.62; -0.38;;] == [-0.38; 0.62; … ; 0.62; -0.38;;]\n",
       " \u001b[32m\u001b[1mTest Passed\u001b[22m\u001b[39m\n",
       "  Expression: true_centered_A == A\n",
       "   Evaluated: [0.48; 0.48; … ; 0.48; 0.48;;] == [0.48; 0.48; … ; 0.48; 0.48;;]\n",
       " \u001b[32m\u001b[1mTest Passed\u001b[22m\u001b[39m\n",
       "  Expression: true_centered_A == A\n",
       "   Evaluated: [0.46 0.44 … -0.41 -0.54; 0.46 0.44 … -0.41 0.46; … ; -0.54 -0.56 … -0.41 0.46; -0.54 -0.56 … 0.59 -0.54] == [0.46 0.44 … -0.41 -0.54; 0.46 0.44 … -0.41 0.46; … ; -0.54 -0.56 … -0.41 0.46; -0.54 -0.56 … 0.59 -0.54]\n",
       " \u001b[32m\u001b[1mTest Passed\u001b[22m\u001b[39m\n",
       "  Expression: true_centered_A == A\n",
       "   Evaluated: [-0.51; -0.51; … ; -0.51; -0.51;;] == [-0.51; -0.51; … ; -0.51; -0.51;;]\n",
       " \u001b[32m\u001b[1mTest Passed\u001b[22m\u001b[39m\n",
       "  Expression: true_centered_A == A\n",
       "   Evaluated: [0.52 0.49 … 0.5 -0.5; 0.52 0.49 … 0.5 0.5; … ; 0.52 0.49 … 0.5 -0.5; -0.48 -0.51 … 0.5 0.5] == [0.52 0.49 … 0.5 -0.5; 0.52 0.49 … 0.5 0.5; … ; 0.52 0.49 … 0.5 -0.5; -0.48 -0.51 … 0.5 0.5]\n",
       " \u001b[32m\u001b[1mTest Passed\u001b[22m\u001b[39m\n",
       "  Expression: true_centered_A == A\n",
       "   Evaluated: [-0.48; -0.48; … ; 0.52; 0.52;;] == [-0.48; -0.48; … ; 0.52; 0.52;;]\n",
       " \u001b[32m\u001b[1mTest Passed\u001b[22m\u001b[39m\n",
       "  Expression: true_centered_A == A\n",
       "   Evaluated: [-0.48 -0.42 … -0.58 -0.39; -0.48 0.58 … 0.42 0.61; … ; -0.48 0.58 … 0.42 0.61; 0.52 -0.42 … 0.42 -0.39] == [-0.48 -0.42 … -0.58 -0.39; -0.48 0.58 … 0.42 0.61; … ; -0.48 0.58 … 0.42 0.61; 0.52 -0.42 … 0.42 -0.39]\n",
       " \u001b[32m\u001b[1mTest Passed\u001b[22m\u001b[39m\n",
       "  Expression: true_centered_A == A\n",
       "   Evaluated: [0.5 0.45 … -0.48 -0.46; -0.5 -0.55 … 0.52 0.54; … ; 0.5 -0.55 … -0.48 -0.46; -0.5 0.45 … -0.48 0.54] == [0.5 0.45 … -0.48 -0.46; -0.5 -0.55 … 0.52 0.54; … ; 0.5 -0.55 … -0.48 -0.46; -0.5 0.45 … -0.48 0.54]\n",
       " \u001b[32m\u001b[1mTest Passed\u001b[22m\u001b[39m\n",
       "  Expression: true_centered_A == A\n",
       "   Evaluated: [0.53; 0.53; … ; 0.53; 0.53;;] == [0.53; 0.53; … ; 0.53; 0.53;;]\n",
       " \u001b[32m\u001b[1mTest Passed\u001b[22m\u001b[39m\n",
       "  Expression: true_centered_A == A\n",
       "   Evaluated: [-0.55 -0.46 … 0.49 -0.49; 0.45 0.54 … -0.51 0.51; … ; 0.45 0.54 … 0.49 0.51; 0.45 -0.46 … 0.49 -0.49] == [-0.55 -0.46 … 0.49 -0.49; 0.45 0.54 … -0.51 0.51; … ; 0.45 0.54 … 0.49 0.51; 0.45 -0.46 … 0.49 -0.49]"
      ]
     },
     "execution_count": 8,
     "metadata": {},
     "output_type": "execute_result"
    }
   ],
   "source": [
    "testHelper(test2; ntests = 10)"
   ]
  },
  {
   "cell_type": "markdown",
   "id": "5b3d4ce0-6d08-444e-936f-7e887cf6f87d",
   "metadata": {},
   "source": [
    "## TEST: rowCenter!()"
   ]
  },
  {
   "cell_type": "markdown",
   "id": "46373525-303c-487b-b740-59787a86d01d",
   "metadata": {},
   "source": [
    "When data is a vector, the function should probably throw an exception (makes no sense to center by row mean). We therefore only test the case when there are multiple columns so it makes sense to average the observations in a row."
   ]
  },
  {
   "cell_type": "markdown",
   "id": "e49107a9-b7c6-4590-8266-cd6a14b5b3ac",
   "metadata": {},
   "source": [
    "### Test"
   ]
  },
  {
   "cell_type": "code",
   "execution_count": 9,
   "id": "a6f25d9a-a826-4b23-bab2-d8af36102ca1",
   "metadata": {},
   "outputs": [],
   "source": [
    "test = quote\n",
    "    N = 100;\n",
    "    p = rand([2, 5]); # randomly generate the number of rows\n",
    "    \n",
    "    A = rand([0.0, 1.0], N, p);\n",
    "    \n",
    "    ## Manually center columns of A\n",
    "    rowMean_A = sum(A, dims = 2)./p;\n",
    "    true_centered_A = round.(A .- rowMean_A; digits = 2);\n",
    "    \n",
    "    rowCenter!(A);\n",
    "    A .= round.(A; digits = 2);\n",
    "    \n",
    "    @test true_centered_A == A;\n",
    "end;"
   ]
  },
  {
   "cell_type": "code",
   "execution_count": 10,
   "id": "7331e89f-d9ec-4874-91fd-b6c8f6be4db7",
   "metadata": {},
   "outputs": [
    {
     "data": {
      "text/plain": [
       "10-element Vector{Test.Pass}:\n",
       " \u001b[32m\u001b[1mTest Passed\u001b[22m\u001b[39m\n",
       "  Expression: true_centered_A == A\n",
       "   Evaluated: [0.0 0.0; 0.5 -0.5; … ; 0.5 -0.5; -0.5 0.5] == [0.0 0.0; 0.5 -0.5; … ; 0.5 -0.5; -0.5 0.5]\n",
       " \u001b[32m\u001b[1mTest Passed\u001b[22m\u001b[39m\n",
       "  Expression: true_centered_A == A\n",
       "   Evaluated: [0.6 -0.4 … 0.6 -0.4; 0.4 -0.6 … 0.4 -0.6; … ; 0.2 0.2 … 0.2 0.2; 0.0 0.0 … 0.0 0.0] == [0.6 -0.4 … 0.6 -0.4; 0.4 -0.6 … 0.4 -0.6; … ; 0.2 0.2 … 0.2 0.2; 0.0 0.0 … 0.0 0.0]\n",
       " \u001b[32m\u001b[1mTest Passed\u001b[22m\u001b[39m\n",
       "  Expression: true_centered_A == A\n",
       "   Evaluated: [0.0 0.0; 0.5 -0.5; … ; 0.0 0.0; 0.5 -0.5] == [0.0 0.0; 0.5 -0.5; … ; 0.0 0.0; 0.5 -0.5]\n",
       " \u001b[32m\u001b[1mTest Passed\u001b[22m\u001b[39m\n",
       "  Expression: true_centered_A == A\n",
       "   Evaluated: [0.4 0.4 … 0.4 -0.6; -0.6 -0.6 … 0.4 0.4; … ; -0.6 0.4 … -0.6 0.4; -0.6 0.4 … -0.6 0.4] == [0.4 0.4 … 0.4 -0.6; -0.6 -0.6 … 0.4 0.4; … ; -0.6 0.4 … -0.6 0.4; -0.6 0.4 … -0.6 0.4]\n",
       " \u001b[32m\u001b[1mTest Passed\u001b[22m\u001b[39m\n",
       "  Expression: true_centered_A == A\n",
       "   Evaluated: [0.5 -0.5; 0.0 0.0; … ; 0.0 0.0; 0.0 0.0] == [0.5 -0.5; 0.0 0.0; … ; 0.0 0.0; 0.0 0.0]\n",
       " \u001b[32m\u001b[1mTest Passed\u001b[22m\u001b[39m\n",
       "  Expression: true_centered_A == A\n",
       "   Evaluated: [-0.4 -0.4 … 0.6 0.6; 0.2 0.2 … -0.8 0.2; … ; -0.4 -0.4 … 0.6 -0.4; 0.2 0.2 … -0.8 0.2] == [-0.4 -0.4 … 0.6 0.6; 0.2 0.2 … -0.8 0.2; … ; -0.4 -0.4 … 0.6 -0.4; 0.2 0.2 … -0.8 0.2]\n",
       " \u001b[32m\u001b[1mTest Passed\u001b[22m\u001b[39m\n",
       "  Expression: true_centered_A == A\n",
       "   Evaluated: [0.0 0.0; 0.0 0.0; … ; 0.0 0.0; 0.0 0.0] == [0.0 0.0; 0.0 0.0; … ; 0.0 0.0; 0.0 0.0]\n",
       " \u001b[32m\u001b[1mTest Passed\u001b[22m\u001b[39m\n",
       "  Expression: true_centered_A == A\n",
       "   Evaluated: [0.4 -0.6 … -0.6 0.4; 0.2 0.2 … 0.2 -0.8; … ; 0.4 -0.6 … 0.4 -0.6; -0.2 -0.2 … -0.2 -0.2] == [0.4 -0.6 … -0.6 0.4; 0.2 0.2 … 0.2 -0.8; … ; 0.4 -0.6 … 0.4 -0.6; -0.2 -0.2 … -0.2 -0.2]\n",
       " \u001b[32m\u001b[1mTest Passed\u001b[22m\u001b[39m\n",
       "  Expression: true_centered_A == A\n",
       "   Evaluated: [-0.5 0.5; 0.0 0.0; … ; 0.5 -0.5; 0.0 0.0] == [-0.5 0.5; 0.0 0.0; … ; 0.5 -0.5; 0.0 0.0]\n",
       " \u001b[32m\u001b[1mTest Passed\u001b[22m\u001b[39m\n",
       "  Expression: true_centered_A == A\n",
       "   Evaluated: [-0.4 0.6 … 0.6 -0.4; -0.6 0.4 … 0.4 -0.6; … ; 0.6 0.6 … -0.4 -0.4; -0.4 -0.4 … -0.4 0.6] == [-0.4 0.6 … 0.6 -0.4; -0.6 0.4 … 0.4 -0.6; … ; 0.6 0.6 … -0.4 -0.4; -0.4 -0.4 … -0.4 0.6]"
      ]
     },
     "execution_count": 10,
     "metadata": {},
     "output_type": "execute_result"
    }
   ],
   "source": [
    "testHelper(test; ntests = 10)"
   ]
  },
  {
   "cell_type": "markdown",
   "id": "9a2ab7c3-9dca-46e2-82a1-a77a33a2b130",
   "metadata": {},
   "source": [
    "## TEST: colDivide!()"
   ]
  },
  {
   "cell_type": "markdown",
   "id": "c31a34b9-1dd2-4975-a433-e040c57f6445",
   "metadata": {},
   "source": [
    "### Original code:"
   ]
  },
  {
   "cell_type": "markdown",
   "id": "97f13b04-63a4-4969-9355-57edbaaf90e7",
   "metadata": {},
   "source": [
    "### Test"
   ]
  },
  {
   "cell_type": "code",
   "execution_count": 11,
   "id": "4c2aed1e-a35d-4a66-8ad4-cbef1ac665e9",
   "metadata": {},
   "outputs": [],
   "source": [
    "test = quote\n",
    "    N = 100;\n",
    "    p = rand([1, 5]); # randomly generate the number of rows\n",
    "    A = rand([0.0, 1.0], N, p);\n",
    "    \n",
    "    colVars = mapslices(var, A, dims = 1) |> vec;\n",
    "    true_weighted_A = transpose(round.(transpose(A) ./ colVars; digits = 2));\n",
    "    \n",
    "    colDivide!(A, colVars);\n",
    "    A = round.(A; digits = 2);\n",
    "    \n",
    "    @test true_weighted_A == A;\n",
    "end;"
   ]
  },
  {
   "cell_type": "code",
   "execution_count": 12,
   "id": "325ef01e-daff-40c3-bfb5-bcf69fcdb257",
   "metadata": {},
   "outputs": [
    {
     "data": {
      "text/plain": [
       "10-element Vector{Test.Pass}:\n",
       " \u001b[32m\u001b[1mTest Passed\u001b[22m\u001b[39m\n",
       "  Expression: true_weighted_A == A\n",
       "   Evaluated: [0.0; 4.2; … ; 0.0; 0.0;;] == [0.0; 4.2; … ; 0.0; 0.0;;]\n",
       " \u001b[32m\u001b[1mTest Passed\u001b[22m\u001b[39m\n",
       "  Expression: true_weighted_A == A\n",
       "   Evaluated: [4.0; 4.0; … ; 0.0; 0.0;;] == [4.0; 4.0; … ; 0.0; 0.0;;]\n",
       " \u001b[32m\u001b[1mTest Passed\u001b[22m\u001b[39m\n",
       "  Expression: true_weighted_A == A\n",
       "   Evaluated: [3.96; 0.0; … ; 3.96; 3.96;;] == [3.96; 0.0; … ; 3.96; 3.96;;]\n",
       " \u001b[32m\u001b[1mTest Passed\u001b[22m\u001b[39m\n",
       "  Expression: true_weighted_A == A\n",
       "   Evaluated: [3.96; 0.0; … ; 0.0; 3.96;;] == [3.96; 0.0; … ; 0.0; 3.96;;]\n",
       " \u001b[32m\u001b[1mTest Passed\u001b[22m\u001b[39m\n",
       "  Expression: true_weighted_A == A\n",
       "   Evaluated: [3.99 0.0 … 0.0 3.97; 3.99 0.0 … 0.0 3.97; … ; 3.99 0.0 … 0.0 0.0; 0.0 4.09 … 0.0 0.0] == [3.99 0.0 … 0.0 3.97; 3.99 0.0 … 0.0 3.97; … ; 3.99 0.0 … 0.0 0.0; 0.0 4.09 … 0.0 0.0]\n",
       " \u001b[32m\u001b[1mTest Passed\u001b[22m\u001b[39m\n",
       "  Expression: true_weighted_A == A\n",
       "   Evaluated: [0.0; 3.97; … ; 0.0; 3.97;;] == [0.0; 3.97; … ; 0.0; 3.97;;]\n",
       " \u001b[32m\u001b[1mTest Passed\u001b[22m\u001b[39m\n",
       "  Expression: true_weighted_A == A\n",
       "   Evaluated: [3.97 0.0 … 3.97 4.04; 3.97 0.0 … 0.0 0.0; … ; 3.97 4.04 … 3.97 0.0; 0.0 4.04 … 3.97 4.04] == [3.97 0.0 … 3.97 4.04; 3.97 0.0 … 0.0 0.0; … ; 3.97 4.04 … 3.97 0.0; 0.0 4.04 … 3.97 4.04]\n",
       " \u001b[32m\u001b[1mTest Passed\u001b[22m\u001b[39m\n",
       "  Expression: true_weighted_A == A\n",
       "   Evaluated: [0.0; 0.0; … ; 0.0; 0.0;;] == [0.0; 0.0; … ; 0.0; 0.0;;]\n",
       " \u001b[32m\u001b[1mTest Passed\u001b[22m\u001b[39m\n",
       "  Expression: true_weighted_A == A\n",
       "   Evaluated: [0.0 0.0 … 0.0 3.97; 0.0 4.02 … 0.0 0.0; … ; 4.02 0.0 … 3.99 3.97; 0.0 0.0 … 0.0 3.97] == [0.0 0.0 … 0.0 3.97; 0.0 4.02 … 0.0 0.0; … ; 4.02 0.0 … 3.99 3.97; 0.0 0.0 … 0.0 3.97]\n",
       " \u001b[32m\u001b[1mTest Passed\u001b[22m\u001b[39m\n",
       "  Expression: true_weighted_A == A\n",
       "   Evaluated: [4.09; 0.0; … ; 0.0; 4.09;;] == [4.09; 0.0; … ; 0.0; 4.09;;]"
      ]
     },
     "execution_count": 12,
     "metadata": {},
     "output_type": "execute_result"
    }
   ],
   "source": [
    "testHelper(test; ntests = 10)"
   ]
  },
  {
   "cell_type": "markdown",
   "id": "9ebe9bd4-b7c8-48a4-a5bc-ba84bc336265",
   "metadata": {},
   "source": [
    "## TEST: colStandardize!()"
   ]
  },
  {
   "cell_type": "markdown",
   "id": "4e9a91b0-4851-4781-b56e-2b0be4ed66d2",
   "metadata": {},
   "source": [
    "### Test:"
   ]
  },
  {
   "cell_type": "code",
   "execution_count": 63,
   "id": "c601f287-8d68-4186-a845-8e0f1b45e20b",
   "metadata": {},
   "outputs": [],
   "source": [
    "test = quote\n",
    "    N = 100;\n",
    "    p = rand([1, 5]); # randomly generate the number of rows\n",
    "    A = rand([0.0, 1.0], N, p);\n",
    "    \n",
    "    colMeans = mean(A, dims = 1) |> vec; # mean of each column\n",
    "    colVars = mapslices(std, A, dims = 1) |> vec; # std of each column\n",
    "    true_standardized_A = round.(transpose(A) .- colMeans; digits = 2)\n",
    "    true_standardized_A = transpose(round.(true_standardized_A ./ colVars; digits = 2));\n",
    "    \n",
    "    colStandardize!(A);\n",
    "    A = round.(A; digits = 2);\n",
    "    \n",
    "    @test true_standardized_A == A;\n",
    "end;"
   ]
  },
  {
   "cell_type": "code",
   "execution_count": 64,
   "id": "29dae80a-41d9-42af-8edf-51aee220e4d3",
   "metadata": {},
   "outputs": [
    {
     "data": {
      "text/plain": [
       "10-element Vector{Test.Pass}:\n",
       " \u001b[32m\u001b[1mTest Passed\u001b[22m\u001b[39m\n",
       "  Expression: true_standardized_A == A\n",
       "   Evaluated: [0.9 0.9 … 1.08 0.98; -1.1 -1.1 … 1.08 -1.02; … ; 0.9 0.9 … -0.92 -1.02; 0.9 0.9 … 1.08 -1.02] == [0.9 0.9 … 1.08 0.98; -1.1 -1.1 … 1.08 -1.02; … ; 0.9 0.9 … -0.92 -1.02; 0.9 0.9 … 1.08 -1.02]\n",
       " \u001b[32m\u001b[1mTest Passed\u001b[22m\u001b[39m\n",
       "  Expression: true_standardized_A == A\n",
       "   Evaluated: [1.02; -0.98; … ; 1.02; -0.98;;] == [1.02; -0.98; … ; 1.02; -0.98;;]\n",
       " \u001b[32m\u001b[1mTest Passed\u001b[22m\u001b[39m\n",
       "  Expression: true_standardized_A == A\n",
       "   Evaluated: [0.99; 0.99; … ; -0.99; 0.99;;] == [0.99; 0.99; … ; -0.99; 0.99;;]\n",
       " \u001b[32m\u001b[1mTest Passed\u001b[22m\u001b[39m\n",
       "  Expression: true_standardized_A == A\n",
       "   Evaluated: [-1.08 0.98 … 0.81 1.12; 0.92 -1.02 … -1.22 -0.88; … ; 0.92 0.98 … 0.81 1.12; 0.92 0.98 … 0.81 1.12] == [-1.08 0.98 … 0.81 1.12; 0.92 -1.02 … -1.22 -0.88; … ; 0.92 0.98 … 0.81 1.12; 0.92 0.98 … 0.81 1.12]\n",
       " \u001b[32m\u001b[1mTest Passed\u001b[22m\u001b[39m\n",
       "  Expression: true_standardized_A == A\n",
       "   Evaluated: [-0.94 1.08 … 0.75 -0.98; 1.06 -0.92 … 0.75 -0.98; … ; 1.06 -0.92 … -1.33 1.02; 1.06 1.08 … -1.33 -0.98] == [-0.94 1.08 … 0.75 -0.98; 1.06 -0.92 … 0.75 -0.98; … ; 1.06 -0.92 … -1.33 1.02; 1.06 1.08 … -1.33 -0.98]\n",
       " \u001b[32m\u001b[1mTest Passed\u001b[22m\u001b[39m\n",
       "  Expression: true_standardized_A == A\n",
       "   Evaluated: [-0.94 -0.99 … 0.92 -0.99; 1.06 -0.99 … -1.08 0.99; … ; 1.06 -0.99 … 0.92 -0.99; -0.94 -0.99 … 0.92 0.99] == [-0.94 -0.99 … 0.92 -0.99; 1.06 -0.99 … -1.08 0.99; … ; 1.06 -0.99 … 0.92 -0.99; -0.94 -0.99 … 0.92 0.99]\n",
       " \u001b[32m\u001b[1mTest Passed\u001b[22m\u001b[39m\n",
       "  Expression: true_standardized_A == A\n",
       "   Evaluated: [-1.1; 0.9; … ; -1.1; -1.1;;] == [-1.1; 0.9; … ; -1.1; -1.1;;]\n",
       " \u001b[32m\u001b[1mTest Passed\u001b[22m\u001b[39m\n",
       "  Expression: true_standardized_A == A\n",
       "   Evaluated: [-0.9 -0.92 … -0.83 -0.98; -0.9 1.08 … -0.83 1.02; … ; -0.9 1.08 … 1.19 -0.98; -0.9 -0.92 … -0.83 -0.98] == [-0.9 -0.92 … -0.83 -0.98; -0.9 1.08 … -0.83 1.02; … ; -0.9 1.08 … 1.19 -0.98; -0.9 -0.92 … -0.83 -0.98]\n",
       " \u001b[32m\u001b[1mTest Passed\u001b[22m\u001b[39m\n",
       "  Expression: true_standardized_A == A\n",
       "   Evaluated: [0.92 -1.02 … -0.92 0.75; 0.92 0.98 … 1.08 0.75; … ; -1.08 0.98 … -0.92 -1.33; -1.08 -1.02 … 1.08 0.75] == [0.92 -1.02 … -0.92 0.75; 0.92 0.98 … 1.08 0.75; … ; -1.08 0.98 … -0.92 -1.33; -1.08 -1.02 … 1.08 0.75]\n",
       " \u001b[32m\u001b[1mTest Passed\u001b[22m\u001b[39m\n",
       "  Expression: true_standardized_A == A\n",
       "   Evaluated: [0.99 0.9 … -0.96 1.06; 0.99 0.9 … -0.96 1.06; … ; -0.99 0.9 … -0.96 -0.94; 0.99 0.9 … -0.96 1.06] == [0.99 0.9 … -0.96 1.06; 0.99 0.9 … -0.96 1.06; … ; -0.99 0.9 … -0.96 -0.94; 0.99 0.9 … -0.96 1.06]"
      ]
     },
     "execution_count": 64,
     "metadata": {},
     "output_type": "execute_result"
    }
   ],
   "source": [
    "testHelper(test; ntests = 10)"
   ]
  },
  {
   "cell_type": "markdown",
   "id": "3a88c316-ebe3-4687-baf7-1c4cb87a52ad",
   "metadata": {},
   "source": [
    "## TEST: rowDivide!()"
   ]
  },
  {
   "cell_type": "markdown",
   "id": "4f2e350c-74d1-485d-b708-19d46f40bd9d",
   "metadata": {},
   "source": [
    "### Test:"
   ]
  },
  {
   "cell_type": "code",
   "execution_count": 65,
   "id": "bb788cd9-6f7e-4f43-a636-a87d2ddcf2dd",
   "metadata": {},
   "outputs": [],
   "source": [
    "test = quote\n",
    "    N = 100;\n",
    "    p = rand([2, 5]); # randomly generate the number of rows\n",
    "    A = rand([0.0, 1.0], N, p);\n",
    "    \n",
    "    rowVars = mapslices(var, A, dims = 2) |> vec;\n",
    "    rowVars = round.(rowVars; digits = 2);\n",
    "    \n",
    "    for i in 1:length(rowVars)\n",
    "        if(rowVars[i] == 0.0)\n",
    "            rowVars[i] = 1.0\n",
    "        end\n",
    "    end\n",
    "    \n",
    "    true_weighted_A = round.(A ./ rowVars; digits = 2);\n",
    "    \n",
    "    rowDivide!(A, rowVars);\n",
    "    A = round.(A; digits = 2);\n",
    "    \n",
    "    @test true_weighted_A == A;\n",
    "end;"
   ]
  },
  {
   "cell_type": "code",
   "execution_count": 66,
   "id": "0a8560b4-09bf-4889-ad5c-63428bda7719",
   "metadata": {},
   "outputs": [
    {
     "data": {
      "text/plain": [
       "10-element Vector{Test.Pass}:\n",
       " \u001b[32m\u001b[1mTest Passed\u001b[22m\u001b[39m\n",
       "  Expression: true_weighted_A == A\n",
       "   Evaluated: [1.0 1.0; 0.0 2.0; … ; 2.0 0.0; 2.0 0.0] == [1.0 1.0; 0.0 2.0; … ; 2.0 0.0; 2.0 0.0]\n",
       " \u001b[32m\u001b[1mTest Passed\u001b[22m\u001b[39m\n",
       "  Expression: true_weighted_A == A\n",
       "   Evaluated: [3.33 3.33 … 0.0 3.33; 3.33 3.33 … 0.0 3.33; … ; 0.0 3.33 … 3.33 0.0; 0.0 0.0 … 0.0 0.0] == [3.33 3.33 … 0.0 3.33; 3.33 3.33 … 0.0 3.33; … ; 0.0 3.33 … 3.33 0.0; 0.0 0.0 … 0.0 0.0]\n",
       " \u001b[32m\u001b[1mTest Passed\u001b[22m\u001b[39m\n",
       "  Expression: true_weighted_A == A\n",
       "   Evaluated: [0.0 5.0 … 0.0 0.0; 0.0 3.33 … 0.0 0.0; … ; 3.33 3.33 … 3.33 0.0; 0.0 0.0 … 0.0 0.0] == [0.0 5.0 … 0.0 0.0; 0.0 3.33 … 0.0 0.0; … ; 3.33 3.33 … 3.33 0.0; 0.0 0.0 … 0.0 0.0]\n",
       " \u001b[32m\u001b[1mTest Passed\u001b[22m\u001b[39m\n",
       "  Expression: true_weighted_A == A\n",
       "   Evaluated: [2.0 0.0; 0.0 2.0; … ; 0.0 0.0; 0.0 0.0] == [2.0 0.0; 0.0 2.0; … ; 0.0 0.0; 0.0 0.0]\n",
       " \u001b[32m\u001b[1mTest Passed\u001b[22m\u001b[39m\n",
       "  Expression: true_weighted_A == A\n",
       "   Evaluated: [0.0 2.0; 0.0 0.0; … ; 1.0 1.0; 2.0 0.0] == [0.0 2.0; 0.0 0.0; … ; 1.0 1.0; 2.0 0.0]\n",
       " \u001b[32m\u001b[1mTest Passed\u001b[22m\u001b[39m\n",
       "  Expression: true_weighted_A == A\n",
       "   Evaluated: [0.0 2.0; 1.0 1.0; … ; 1.0 1.0; 0.0 2.0] == [0.0 2.0; 1.0 1.0; … ; 1.0 1.0; 0.0 2.0]\n",
       " \u001b[32m\u001b[1mTest Passed\u001b[22m\u001b[39m\n",
       "  Expression: true_weighted_A == A\n",
       "   Evaluated: [0.0 3.33 … 3.33 0.0; 3.33 0.0 … 0.0 3.33; … ; 0.0 0.0 … 0.0 5.0; 0.0 0.0 … 0.0 0.0] == [0.0 3.33 … 3.33 0.0; 3.33 0.0 … 0.0 3.33; … ; 0.0 0.0 … 0.0 5.0; 0.0 0.0 … 0.0 0.0]\n",
       " \u001b[32m\u001b[1mTest Passed\u001b[22m\u001b[39m\n",
       "  Expression: true_weighted_A == A\n",
       "   Evaluated: [0.0 2.0; 1.0 1.0; … ; 2.0 0.0; 0.0 0.0] == [0.0 2.0; 1.0 1.0; … ; 2.0 0.0; 0.0 0.0]\n",
       " \u001b[32m\u001b[1mTest Passed\u001b[22m\u001b[39m\n",
       "  Expression: true_weighted_A == A\n",
       "   Evaluated: [0.0 3.33 … 0.0 3.33; 3.33 0.0 … 3.33 0.0; … ; 3.33 0.0 … 3.33 3.33; 0.0 3.33 … 3.33 0.0] == [0.0 3.33 … 0.0 3.33; 3.33 0.0 … 3.33 0.0; … ; 3.33 0.0 … 3.33 3.33; 0.0 3.33 … 3.33 0.0]\n",
       " \u001b[32m\u001b[1mTest Passed\u001b[22m\u001b[39m\n",
       "  Expression: true_weighted_A == A\n",
       "   Evaluated: [0.0 2.0; 2.0 0.0; … ; 1.0 1.0; 0.0 0.0] == [0.0 2.0; 2.0 0.0; … ; 1.0 1.0; 0.0 0.0]"
      ]
     },
     "execution_count": 66,
     "metadata": {},
     "output_type": "execute_result"
    }
   ],
   "source": [
    "testHelper(test; ntests = 10)"
   ]
  },
  {
   "cell_type": "markdown",
   "id": "20d04ecb-8104-491e-b417-3dd2cacfa5f8",
   "metadata": {},
   "source": [
    "*** Need to check if dividing by a zero number (0 col or row std)"
   ]
  },
  {
   "cell_type": "markdown",
   "id": "0b669f66-976a-4e33-a395-0463fdbc85fa",
   "metadata": {},
   "source": [
    "## TEST: rowMultiply()"
   ]
  },
  {
   "cell_type": "markdown",
   "id": "51a310fd-d58a-4e70-b2a5-0b4285e8ac6e",
   "metadata": {},
   "source": [
    "### Test - Case1: check if dimensions match"
   ]
  },
  {
   "cell_type": "code",
   "execution_count": 108,
   "id": "9b0aac32-6c49-489e-ac7b-1d0f43ef517c",
   "metadata": {},
   "outputs": [
    {
     "data": {
      "text/plain": [
       "\u001b[32m\u001b[1mTest Passed\u001b[22m\u001b[39m\n",
       "  Expression: typeof(e) == ErrorException\n",
       "   Evaluated: ErrorException == ErrorException"
      ]
     },
     "execution_count": 108,
     "metadata": {},
     "output_type": "execute_result"
    }
   ],
   "source": [
    "N = 100;\n",
    "p = rand([2, 5]); # randomly generate the number of rows\n",
    "A = rand([0.0, 1.0], N, p);\n",
    "\n",
    "x = zeros(N+1)\n",
    "\n",
    "try \n",
    "    rowMultiply(A, x)\n",
    "catch e\n",
    "    @test typeof(e) == ErrorException\n",
    "end"
   ]
  },
  {
   "cell_type": "markdown",
   "id": "cb6d1ce1-07ed-466e-93a0-f8cb7d5c99c6",
   "metadata": {},
   "source": [
    "### Test - Case2: check if results match"
   ]
  },
  {
   "cell_type": "code",
   "execution_count": 206,
   "id": "4a8521df-dea3-4c4c-a5cd-0c21530ec53e",
   "metadata": {},
   "outputs": [],
   "source": [
    "test = quote\n",
    "    N = 1000;\n",
    "    p = 100;\n",
    "    A = rand(N, p);\n",
    "    \n",
    "    w = rand(N)\n",
    "    \n",
    "    true_weighted_A = round.(A .* w; digits = 2);\n",
    "    \n",
    "    test_weighted_A = round.(rowMultiply(A, w); digits = 2)\n",
    "\n",
    "    \n",
    "    @test true_weighted_A == test_weighted_A;\n",
    "end;"
   ]
  },
  {
   "cell_type": "code",
   "execution_count": 207,
   "id": "c9731c84-8db4-4611-b944-96b94e5c25ab",
   "metadata": {},
   "outputs": [
    {
     "data": {
      "text/plain": [
       "10-element Vector{Test.Pass}:\n",
       " \u001b[32m\u001b[1mTest Passed\u001b[22m\u001b[39m\n",
       "  Expression: true_weighted_A == test_weighted_A\n",
       "   Evaluated: [0.16 0.07 … 0.29 0.08; 0.05 0.01 … 0.05 0.01; … ; 0.69 0.29 … 0.07 0.12; 0.44 0.77 … 0.37 0.82] == [0.16 0.07 … 0.29 0.08; 0.05 0.01 … 0.05 0.01; … ; 0.69 0.29 … 0.07 0.12; 0.44 0.77 … 0.37 0.82]\n",
       " \u001b[32m\u001b[1mTest Passed\u001b[22m\u001b[39m\n",
       "  Expression: true_weighted_A == test_weighted_A\n",
       "   Evaluated: [0.22 0.0 … 0.02 0.28; 0.11 0.05 … 0.05 0.07; … ; 0.42 0.39 … 0.43 0.13; 0.14 0.27 … 0.45 0.1] == [0.22 0.0 … 0.02 0.28; 0.11 0.05 … 0.05 0.07; … ; 0.42 0.39 … 0.43 0.13; 0.14 0.27 … 0.45 0.1]\n",
       " \u001b[32m\u001b[1mTest Passed\u001b[22m\u001b[39m\n",
       "  Expression: true_weighted_A == test_weighted_A\n",
       "   Evaluated: [0.17 0.07 … 0.64 0.66; 0.08 0.31 … 0.27 0.17; … ; 0.12 0.15 … 0.08 0.24; 0.27 0.11 … 0.36 0.34] == [0.17 0.07 … 0.64 0.66; 0.08 0.31 … 0.27 0.17; … ; 0.12 0.15 … 0.08 0.24; 0.27 0.11 … 0.36 0.34]\n",
       " \u001b[32m\u001b[1mTest Passed\u001b[22m\u001b[39m\n",
       "  Expression: true_weighted_A == test_weighted_A\n",
       "   Evaluated: [0.26 0.26 … 0.43 0.02; 0.26 0.54 … 0.44 0.16; … ; 0.09 0.08 … 0.37 0.04; 0.25 0.61 … 0.55 0.23] == [0.26 0.26 … 0.43 0.02; 0.26 0.54 … 0.44 0.16; … ; 0.09 0.08 … 0.37 0.04; 0.25 0.61 … 0.55 0.23]\n",
       " \u001b[32m\u001b[1mTest Passed\u001b[22m\u001b[39m\n",
       "  Expression: true_weighted_A == test_weighted_A\n",
       "   Evaluated: [0.14 0.08 … 0.13 0.12; 0.59 0.42 … 0.05 0.66; … ; 0.14 0.31 … 0.26 0.44; 0.24 0.07 … 0.02 0.09] == [0.14 0.08 … 0.13 0.12; 0.59 0.42 … 0.05 0.66; … ; 0.14 0.31 … 0.26 0.44; 0.24 0.07 … 0.02 0.09]\n",
       " \u001b[32m\u001b[1mTest Passed\u001b[22m\u001b[39m\n",
       "  Expression: true_weighted_A == test_weighted_A\n",
       "   Evaluated: [0.02 0.01 … 0.01 0.02; 0.17 0.02 … 0.29 0.13; … ; 0.31 0.19 … 0.35 0.2; 0.52 0.42 … 0.23 0.7] == [0.02 0.01 … 0.01 0.02; 0.17 0.02 … 0.29 0.13; … ; 0.31 0.19 … 0.35 0.2; 0.52 0.42 … 0.23 0.7]\n",
       " \u001b[32m\u001b[1mTest Passed\u001b[22m\u001b[39m\n",
       "  Expression: true_weighted_A == test_weighted_A\n",
       "   Evaluated: [0.14 0.73 … 0.03 0.18; 0.01 0.13 … 0.02 0.07; … ; 0.18 0.31 … 0.03 0.29; 0.74 0.48 … 0.54 0.71] == [0.14 0.73 … 0.03 0.18; 0.01 0.13 … 0.02 0.07; … ; 0.18 0.31 … 0.03 0.29; 0.74 0.48 … 0.54 0.71]\n",
       " \u001b[32m\u001b[1mTest Passed\u001b[22m\u001b[39m\n",
       "  Expression: true_weighted_A == test_weighted_A\n",
       "   Evaluated: [0.13 0.05 … 0.11 0.21; 0.22 0.01 … 0.02 0.14; … ; 0.3 0.48 … 0.41 0.73; 0.14 0.19 … 0.19 0.16] == [0.13 0.05 … 0.11 0.21; 0.22 0.01 … 0.02 0.14; … ; 0.3 0.48 … 0.41 0.73; 0.14 0.19 … 0.19 0.16]\n",
       " \u001b[32m\u001b[1mTest Passed\u001b[22m\u001b[39m\n",
       "  Expression: true_weighted_A == test_weighted_A\n",
       "   Evaluated: [0.17 0.07 … 0.04 0.14; 0.03 0.02 … 0.02 0.01; … ; 0.32 0.45 … 0.28 0.15; 0.09 0.24 … 0.03 0.29] == [0.17 0.07 … 0.04 0.14; 0.03 0.02 … 0.02 0.01; … ; 0.32 0.45 … 0.28 0.15; 0.09 0.24 … 0.03 0.29]\n",
       " \u001b[32m\u001b[1mTest Passed\u001b[22m\u001b[39m\n",
       "  Expression: true_weighted_A == test_weighted_A\n",
       "   Evaluated: [0.12 0.43 … 0.59 0.5; 0.02 0.12 … 0.28 0.04; … ; 0.22 0.32 … 0.4 0.04; 0.81 0.12 … 0.2 0.53] == [0.12 0.43 … 0.59 0.5; 0.02 0.12 … 0.28 0.04; … ; 0.22 0.32 … 0.4 0.04; 0.81 0.12 … 0.2 0.53]"
      ]
     },
     "execution_count": 207,
     "metadata": {},
     "output_type": "execute_result"
    }
   ],
   "source": [
    "testHelper(test; ntests = 10)"
   ]
  },
  {
   "cell_type": "markdown",
   "id": "d291eb19-495e-4550-9f89-fde4f86c743c",
   "metadata": {},
   "source": [
    "### Test - Case3: check if the original is not modified"
   ]
  },
  {
   "cell_type": "code",
   "execution_count": 208,
   "id": "aa7e0fcb-7e9d-4267-a71b-81c3217a7629",
   "metadata": {},
   "outputs": [],
   "source": [
    "test = quote\n",
    "    N = 200;\n",
    "    p = 100; # randomly generate the number of rows\n",
    "    A = rand(N, p);\n",
    "    \n",
    "    w = rand(N)\n",
    "    \n",
    "    test_weighted_A = round.(rowMultiply(A, w); digits = 2)\n",
    "    \n",
    "    rowDivide!(A, 1.0 ./w)\n",
    "\n",
    "    A = round.(A; digits = 2)\n",
    "    \n",
    "    @test A == test_weighted_A;\n",
    "end;"
   ]
  },
  {
   "cell_type": "code",
   "execution_count": 210,
   "id": "e76c3991-42f2-4cdc-aca0-5f0c97bab6fb",
   "metadata": {},
   "outputs": [
    {
     "data": {
      "text/plain": [
       "10-element Vector{Test.Pass}:\n",
       " \u001b[32m\u001b[1mTest Passed\u001b[22m\u001b[39m\n",
       "  Expression: A == test_weighted_A\n",
       "   Evaluated: [0.08 0.08 … 0.01 0.02; 0.1 0.13 … 0.07 0.06; … ; 0.0 0.02 … 0.02 0.02; 0.04 0.03 … 0.01 0.01] == [0.08 0.08 … 0.01 0.02; 0.1 0.13 … 0.07 0.06; … ; 0.0 0.02 … 0.02 0.02; 0.04 0.03 … 0.01 0.01]\n",
       " \u001b[32m\u001b[1mTest Passed\u001b[22m\u001b[39m\n",
       "  Expression: A == test_weighted_A\n",
       "   Evaluated: [0.04 0.04 … 0.02 0.09; 0.02 0.28 … 0.11 0.12; … ; 0.07 0.25 … 0.01 0.43; 0.14 0.12 … 0.16 0.13] == [0.04 0.04 … 0.02 0.09; 0.02 0.28 … 0.11 0.12; … ; 0.07 0.25 … 0.01 0.43; 0.14 0.12 … 0.16 0.13]\n",
       " \u001b[32m\u001b[1mTest Passed\u001b[22m\u001b[39m\n",
       "  Expression: A == test_weighted_A\n",
       "   Evaluated: [0.03 0.03 … 0.04 0.0; 0.21 0.57 … 0.45 0.26; … ; 0.04 0.04 … 0.09 0.05; 0.03 0.13 … 0.48 0.23] == [0.03 0.03 … 0.04 0.0; 0.21 0.57 … 0.45 0.26; … ; 0.04 0.04 … 0.09 0.05; 0.03 0.13 … 0.48 0.23]\n",
       " \u001b[32m\u001b[1mTest Passed\u001b[22m\u001b[39m\n",
       "  Expression: A == test_weighted_A\n",
       "   Evaluated: [0.65 0.48 … 0.08 0.21; 0.58 0.2 … 0.25 0.02; … ; 0.01 0.02 … 0.01 0.02; 0.53 0.12 … 0.29 0.52] == [0.65 0.48 … 0.08 0.21; 0.58 0.2 … 0.25 0.02; … ; 0.01 0.02 … 0.01 0.02; 0.53 0.12 … 0.29 0.52]\n",
       " \u001b[32m\u001b[1mTest Passed\u001b[22m\u001b[39m\n",
       "  Expression: A == test_weighted_A\n",
       "   Evaluated: [0.04 0.06 … 0.05 0.06; 0.33 0.05 … 0.34 0.05; … ; 0.33 0.2 … 0.02 0.43; 0.26 0.56 … 0.25 0.11] == [0.04 0.06 … 0.05 0.06; 0.33 0.05 … 0.34 0.05; … ; 0.33 0.2 … 0.02 0.43; 0.26 0.56 … 0.25 0.11]\n",
       " \u001b[32m\u001b[1mTest Passed\u001b[22m\u001b[39m\n",
       "  Expression: A == test_weighted_A\n",
       "   Evaluated: [0.0 0.02 … 0.0 0.02; 0.53 0.37 … 0.02 0.65; … ; 0.12 0.15 … 0.28 0.25; 0.26 0.29 … 0.24 0.34] == [0.0 0.02 … 0.0 0.02; 0.53 0.37 … 0.02 0.65; … ; 0.12 0.15 … 0.28 0.25; 0.26 0.29 … 0.24 0.34]\n",
       " \u001b[32m\u001b[1mTest Passed\u001b[22m\u001b[39m\n",
       "  Expression: A == test_weighted_A\n",
       "   Evaluated: [0.6 0.07 … 0.18 0.07; 0.29 0.13 … 0.7 0.1; … ; 0.08 0.51 … 0.39 0.14; 0.62 0.41 … 0.27 0.19] == [0.6 0.07 … 0.18 0.07; 0.29 0.13 … 0.7 0.1; … ; 0.08 0.51 … 0.39 0.14; 0.62 0.41 … 0.27 0.19]\n",
       " \u001b[32m\u001b[1mTest Passed\u001b[22m\u001b[39m\n",
       "  Expression: A == test_weighted_A\n",
       "   Evaluated: [0.1 0.12 … 0.11 0.08; 0.11 0.25 … 0.34 0.27; … ; 0.05 0.01 … 0.02 0.27; 0.15 0.09 … 0.07 0.13] == [0.1 0.12 … 0.11 0.08; 0.11 0.25 … 0.34 0.27; … ; 0.05 0.01 … 0.02 0.27; 0.15 0.09 … 0.07 0.13]\n",
       " \u001b[32m\u001b[1mTest Passed\u001b[22m\u001b[39m\n",
       "  Expression: A == test_weighted_A\n",
       "   Evaluated: [0.14 0.13 … 0.17 0.06; 0.11 0.58 … 0.32 0.31; … ; 0.14 0.3 … 0.35 0.2; 0.31 0.19 … 0.37 0.38] == [0.14 0.13 … 0.17 0.06; 0.11 0.58 … 0.32 0.31; … ; 0.14 0.3 … 0.35 0.2; 0.31 0.19 … 0.37 0.38]\n",
       " \u001b[32m\u001b[1mTest Passed\u001b[22m\u001b[39m\n",
       "  Expression: A == test_weighted_A\n",
       "   Evaluated: [0.22 0.11 … 0.18 0.37; 0.01 0.14 … 0.29 0.33; … ; 0.05 0.14 … 0.05 0.08; 0.09 0.28 … 0.28 0.09] == [0.22 0.11 … 0.18 0.37; 0.01 0.14 … 0.29 0.33; … ; 0.05 0.14 … 0.05 0.08; 0.09 0.28 … 0.28 0.09]"
      ]
     },
     "execution_count": 210,
     "metadata": {},
     "output_type": "execute_result"
    }
   ],
   "source": [
    "testHelper(test; ntests = 10)"
   ]
  },
  {
   "cell_type": "markdown",
   "id": "ddf98b30-ffff-40d3-8916-76112c7b70a2",
   "metadata": {},
   "source": [
    "## TEST: shuffleVector()"
   ]
  },
  {
   "cell_type": "markdown",
   "id": "6a2a7fa9-f877-4bbe-955c-25bfdd64a1c7",
   "metadata": {},
   "source": [
    "### Test - output dimension:"
   ]
  },
  {
   "cell_type": "code",
   "execution_count": 84,
   "id": "8147e18b-2eef-4005-b718-c81bb5770bbb",
   "metadata": {},
   "outputs": [],
   "source": [
    "test_1 = quote\n",
    "    N = 100;\n",
    "    p = 1;\n",
    "    A = rand([0.0, 1.0], N, p) |> vec; # fixed to be a vector\n",
    "    rng = MersenneTwister();\n",
    "    \n",
    "    result = shuffleVector(rng, A, 5);\n",
    "    \n",
    "    \n",
    "    @test size(result) == (N, 6);\n",
    "end;"
   ]
  },
  {
   "cell_type": "code",
   "execution_count": 85,
   "id": "7d9f5d36-5071-401b-bc78-f9b9224afceb",
   "metadata": {},
   "outputs": [
    {
     "data": {
      "text/plain": [
       "1-element Vector{Test.Pass}:\n",
       " \u001b[32m\u001b[1mTest Passed\u001b[22m\u001b[39m\n",
       "  Expression: size(result) == (N, 6)\n",
       "   Evaluated: (100, 6) == (100, 6)"
      ]
     },
     "execution_count": 85,
     "metadata": {},
     "output_type": "execute_result"
    }
   ],
   "source": [
    "testHelper(test_1, ntests = 1)"
   ]
  },
  {
   "cell_type": "markdown",
   "id": "023fccf5-2c2e-4fb3-9bce-a206be3e1d22",
   "metadata": {},
   "source": [
    "### Test - check if the permuted array preserve the same set of elements:"
   ]
  },
  {
   "cell_type": "code",
   "execution_count": 94,
   "id": "d1cc17b9-42ff-43fb-b274-eb7030e1271e",
   "metadata": {},
   "outputs": [],
   "source": [
    "test_2 = quote\n",
    "    N = 100;\n",
    "    p = 1;\n",
    "    A = rand([0.0, 1.0], N, p) |> vec; # fixed to be a vector\n",
    "    rng = MersenneTwister();\n",
    "    \n",
    "    result = shuffleVector(rng, A, 5);\n",
    "    \n",
    "    colSums = sum(result, dims = 1) |> vec;\n",
    "    \n",
    "    @test (colSums./colSums[1]) == ones(6);\n",
    "end;"
   ]
  },
  {
   "cell_type": "code",
   "execution_count": 95,
   "id": "390c6066-3837-4a3a-95ff-b39d8116cac6",
   "metadata": {},
   "outputs": [
    {
     "data": {
      "text/plain": [
       "10-element Vector{Test.Pass}:\n",
       " \u001b[32m\u001b[1mTest Passed\u001b[22m\u001b[39m\n",
       "  Expression: colSums ./ colSums[1] == ones(6)\n",
       "   Evaluated: [1.0, 1.0, 1.0, 1.0, 1.0, 1.0] == [1.0, 1.0, 1.0, 1.0, 1.0, 1.0]\n",
       " \u001b[32m\u001b[1mTest Passed\u001b[22m\u001b[39m\n",
       "  Expression: colSums ./ colSums[1] == ones(6)\n",
       "   Evaluated: [1.0, 1.0, 1.0, 1.0, 1.0, 1.0] == [1.0, 1.0, 1.0, 1.0, 1.0, 1.0]\n",
       " \u001b[32m\u001b[1mTest Passed\u001b[22m\u001b[39m\n",
       "  Expression: colSums ./ colSums[1] == ones(6)\n",
       "   Evaluated: [1.0, 1.0, 1.0, 1.0, 1.0, 1.0] == [1.0, 1.0, 1.0, 1.0, 1.0, 1.0]\n",
       " \u001b[32m\u001b[1mTest Passed\u001b[22m\u001b[39m\n",
       "  Expression: colSums ./ colSums[1] == ones(6)\n",
       "   Evaluated: [1.0, 1.0, 1.0, 1.0, 1.0, 1.0] == [1.0, 1.0, 1.0, 1.0, 1.0, 1.0]\n",
       " \u001b[32m\u001b[1mTest Passed\u001b[22m\u001b[39m\n",
       "  Expression: colSums ./ colSums[1] == ones(6)\n",
       "   Evaluated: [1.0, 1.0, 1.0, 1.0, 1.0, 1.0] == [1.0, 1.0, 1.0, 1.0, 1.0, 1.0]\n",
       " \u001b[32m\u001b[1mTest Passed\u001b[22m\u001b[39m\n",
       "  Expression: colSums ./ colSums[1] == ones(6)\n",
       "   Evaluated: [1.0, 1.0, 1.0, 1.0, 1.0, 1.0] == [1.0, 1.0, 1.0, 1.0, 1.0, 1.0]\n",
       " \u001b[32m\u001b[1mTest Passed\u001b[22m\u001b[39m\n",
       "  Expression: colSums ./ colSums[1] == ones(6)\n",
       "   Evaluated: [1.0, 1.0, 1.0, 1.0, 1.0, 1.0] == [1.0, 1.0, 1.0, 1.0, 1.0, 1.0]\n",
       " \u001b[32m\u001b[1mTest Passed\u001b[22m\u001b[39m\n",
       "  Expression: colSums ./ colSums[1] == ones(6)\n",
       "   Evaluated: [1.0, 1.0, 1.0, 1.0, 1.0, 1.0] == [1.0, 1.0, 1.0, 1.0, 1.0, 1.0]\n",
       " \u001b[32m\u001b[1mTest Passed\u001b[22m\u001b[39m\n",
       "  Expression: colSums ./ colSums[1] == ones(6)\n",
       "   Evaluated: [1.0, 1.0, 1.0, 1.0, 1.0, 1.0] == [1.0, 1.0, 1.0, 1.0, 1.0, 1.0]\n",
       " \u001b[32m\u001b[1mTest Passed\u001b[22m\u001b[39m\n",
       "  Expression: colSums ./ colSums[1] == ones(6)\n",
       "   Evaluated: [1.0, 1.0, 1.0, 1.0, 1.0, 1.0] == [1.0, 1.0, 1.0, 1.0, 1.0, 1.0]"
      ]
     },
     "execution_count": 95,
     "metadata": {},
     "output_type": "execute_result"
    }
   ],
   "source": [
    "testHelper(test_2, ntests = 10)"
   ]
  },
  {
   "cell_type": "markdown",
   "id": "29781a5a-dde9-44c3-892f-d244238db359",
   "metadata": {},
   "source": [
    "## TEST: compareValues()"
   ]
  },
  {
   "cell_type": "markdown",
   "id": "ae826f0a-1e58-48a2-b2a9-e2c69bcf2f26",
   "metadata": {},
   "source": [
    "### Test - Case1: check if dimensions match"
   ]
  },
  {
   "cell_type": "code",
   "execution_count": 199,
   "id": "49fd7299-c819-4fd3-930d-0ee9a76981e7",
   "metadata": {},
   "outputs": [
    {
     "name": "stdout",
     "output_type": "stream",
     "text": [
      "ErrorException"
     ]
    },
    {
     "data": {
      "text/plain": [
       "\u001b[32m\u001b[1mTest Passed\u001b[22m\u001b[39m\n",
       "  Expression: typeof(e) == ErrorException\n",
       "   Evaluated: ErrorException == ErrorException"
      ]
     },
     "execution_count": 199,
     "metadata": {},
     "output_type": "execute_result"
    }
   ],
   "source": [
    "b_true = convert(Array{Float64, 1}, zeros(rand(collect(3:5))));\n",
    "b_test = convert(Array{Float64, 1}, zeros(length(b_true)+1));\n",
    "\n",
    "try \n",
    "    compareValues(b_true, b_test, 1e-3, 1e5)\n",
    "catch e\n",
    "    print(typeof(e))\n",
    "    @test typeof(e) == ErrorException\n",
    "end"
   ]
  },
  {
   "cell_type": "markdown",
   "id": "aa9de984-e684-45b3-a05f-2a0e2be56299",
   "metadata": {
    "tags": []
   },
   "source": [
    "### Test - Case2: check if the results are as desired"
   ]
  },
  {
   "cell_type": "code",
   "execution_count": 201,
   "id": "60fd094a-5f81-4ef2-85a1-99da078c0d44",
   "metadata": {},
   "outputs": [
    {
     "data": {
      "text/plain": [
       "\u001b[32m\u001b[1mTest Passed\u001b[22m\u001b[39m\n",
       "  Expression: (compareValues(b_test, b_true, 0.0, 100000.0))[1] == length(b_true) - 2\n",
       "   Evaluated: 3 == 3"
      ]
     },
     "execution_count": 201,
     "metadata": {},
     "output_type": "execute_result"
    }
   ],
   "source": [
    "b_test = copy(b_true)\n",
    "\n",
    "b_test[length(b_true)] = 1.0\n",
    "b_test[length(b_true)-1] = 2.0\n",
    "\n",
    "@test compareValues(b_test, b_true, 0.0, 1e5)[1] == length(b_true) - 2"
   ]
  },
  {
   "cell_type": "code",
   "execution_count": null,
   "id": "3df9fb99-e405-450f-8de4-41a46e8b8357",
   "metadata": {},
   "outputs": [],
   "source": []
  }
 ],
 "metadata": {
  "kernelspec": {
   "display_name": "Julia 1.7.3",
   "language": "julia",
   "name": "julia-1.7"
  },
  "language_info": {
   "file_extension": ".jl",
   "mimetype": "application/julia",
   "name": "julia",
   "version": "1.7.3"
  },
  "toc-autonumbering": false
 },
 "nbformat": 4,
 "nbformat_minor": 5
}
