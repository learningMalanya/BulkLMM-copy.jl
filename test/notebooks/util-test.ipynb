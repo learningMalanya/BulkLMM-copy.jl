{
 "cells": [
  {
   "cell_type": "code",
   "execution_count": 41,
   "id": "f8e42b47-166f-417c-b30e-9176b9c411e3",
   "metadata": {},
   "outputs": [
    {
     "name": "stderr",
     "output_type": "stream",
     "text": [
      "\u001b[32m\u001b[1m    Updating\u001b[22m\u001b[39m registry at `~/.julia/registries/General`\n"
     ]
    },
    {
     "ename": "LoadError",
     "evalue": "The following package names could not be resolved:\n * Threads (not found in project, manifest or registry)\n",
     "output_type": "error",
     "traceback": [
      "The following package names could not be resolved:\n * Threads (not found in project, manifest or registry)\n",
      "",
      "Stacktrace:",
      "  [1] pkgerror(msg::String)",
      "    @ Pkg.Types /Users/julia/buildbot/worker/package_macos64/build/usr/share/julia/stdlib/v1.6/Pkg/src/Types.jl:55",
      "  [2] ensure_resolved(ctx::Pkg.Types.Context, pkgs::Vector{Pkg.Types.PackageSpec}; registry::Bool)",
      "    @ Pkg.Types /Users/julia/buildbot/worker/package_macos64/build/usr/share/julia/stdlib/v1.6/Pkg/src/Types.jl:883",
      "  [3] add(ctx::Pkg.Types.Context, pkgs::Vector{Pkg.Types.PackageSpec}; preserve::Pkg.Types.PreserveLevel, platform::Base.BinaryPlatforms.Platform, kwargs::Base.Iterators.Pairs{Symbol, IJulia.IJuliaStdio{Base.PipeEndpoint}, Tuple{Symbol}, NamedTuple{(:io,), Tuple{IJulia.IJuliaStdio{Base.PipeEndpoint}}}})",
      "    @ Pkg.API /Users/julia/buildbot/worker/package_macos64/build/usr/share/julia/stdlib/v1.6/Pkg/src/API.jl:193",
      "  [4] add(pkgs::Vector{Pkg.Types.PackageSpec}; io::IJulia.IJuliaStdio{Base.PipeEndpoint}, kwargs::Base.Iterators.Pairs{Union{}, Union{}, Tuple{}, NamedTuple{(), Tuple{}}})",
      "    @ Pkg.API /Users/julia/buildbot/worker/package_macos64/build/usr/share/julia/stdlib/v1.6/Pkg/src/API.jl:80",
      "  [5] add(pkgs::Vector{Pkg.Types.PackageSpec})",
      "    @ Pkg.API /Users/julia/buildbot/worker/package_macos64/build/usr/share/julia/stdlib/v1.6/Pkg/src/API.jl:78",
      "  [6] #add#23",
      "    @ /Users/julia/buildbot/worker/package_macos64/build/usr/share/julia/stdlib/v1.6/Pkg/src/API.jl:76 [inlined]",
      "  [7] add",
      "    @ /Users/julia/buildbot/worker/package_macos64/build/usr/share/julia/stdlib/v1.6/Pkg/src/API.jl:76 [inlined]",
      "  [8] #add#22",
      "    @ /Users/julia/buildbot/worker/package_macos64/build/usr/share/julia/stdlib/v1.6/Pkg/src/API.jl:75 [inlined]",
      "  [9] add(pkg::String)",
      "    @ Pkg.API /Users/julia/buildbot/worker/package_macos64/build/usr/share/julia/stdlib/v1.6/Pkg/src/API.jl:75",
      " [10] top-level scope",
      "    @ In[41]:2",
      " [11] eval",
      "    @ ./boot.jl:360 [inlined]",
      " [12] include_string(mapexpr::typeof(REPL.softscope), mod::Module, code::String, filename::String)",
      "    @ Base ./loading.jl:1116"
     ]
    }
   ],
   "source": [
    "# using Pkg\n",
    "# Pkg.add(\"\")"
   ]
  },
  {
   "cell_type": "code",
   "execution_count": 7,
   "id": "2c7ba7fa-9f3b-4bea-8f8d-ae2f4ae3d366",
   "metadata": {},
   "outputs": [],
   "source": [
    "using Test\n",
    "using BenchmarkTools\n",
    "using LinearAlgebra\n",
    "using Statistics\n",
    "using Random\n"
   ]
  },
  {
   "cell_type": "markdown",
   "id": "21e9ef31-dfe2-4fa4-b5cf-389eebdfcc4f",
   "metadata": {},
   "source": [
    "## Include scripts:"
   ]
  },
  {
   "cell_type": "code",
   "execution_count": 2,
   "id": "ef7ba74e-5b9a-47f4-848b-935696bb00b0",
   "metadata": {},
   "outputs": [
    {
     "data": {
      "text/plain": [
       "compareValues (generic function with 1 method)"
      ]
     },
     "execution_count": 2,
     "metadata": {},
     "output_type": "execute_result"
    }
   ],
   "source": [
    "include(\"../../src/util.jl\")"
   ]
  },
  {
   "cell_type": "markdown",
   "id": "f8e48b54-5f7f-48f6-8ac8-ae1041e63ded",
   "metadata": {},
   "source": [
    "## Test Helper"
   ]
  },
  {
   "cell_type": "code",
   "execution_count": 3,
   "id": "c1e551cb-b568-4a7a-9439-6af0749b9fad",
   "metadata": {},
   "outputs": [
    {
     "data": {
      "text/plain": [
       "testHelper (generic function with 1 method)"
      ]
     },
     "execution_count": 3,
     "metadata": {},
     "output_type": "execute_result"
    }
   ],
   "source": [
    "function testHelper(test::Expr; ntests::Integer = 10)\n",
    "    [eval(test) for i in 1:ntests]\n",
    "end"
   ]
  },
  {
   "cell_type": "markdown",
   "id": "353ed828-54dd-4868-a1cb-df4e7daa1a06",
   "metadata": {},
   "source": [
    "## TEST: colCenter!()"
   ]
  },
  {
   "cell_type": "markdown",
   "id": "a21bc9a7-2c1c-4819-b3c5-4bd79706559b",
   "metadata": {
    "tags": []
   },
   "source": [
    "### Test - Case 1:"
   ]
  },
  {
   "cell_type": "markdown",
   "id": "0d502f6d-9916-49cb-829f-3b000cc3bdac",
   "metadata": {},
   "source": [
    "When data is a vector (1 column)..."
   ]
  },
  {
   "cell_type": "code",
   "execution_count": 4,
   "id": "1fcc9439-3bf5-43f1-9443-55d04b655cbc",
   "metadata": {},
   "outputs": [],
   "source": [
    "test1 = quote\n",
    "    N = 100;\n",
    "    A = rand([0.0, 1.0], N, 1);\n",
    "    ## Manually center columns of A\n",
    "    colMean_A = sum(A)/N;\n",
    "    true_centered_A = transpose(round.(transpose(A) .- colMean_A; digits = 2));\n",
    "    colCenter!(A);\n",
    "    A .= round.(A; digits = 2);\n",
    "    @test true_centered_A == A;\n",
    "end;"
   ]
  },
  {
   "cell_type": "code",
   "execution_count": 5,
   "id": "4244fd49-a570-4281-b080-2dcd1f91ac29",
   "metadata": {},
   "outputs": [
    {
     "data": {
      "text/plain": [
       "10-element Vector{Test.Pass}:\n",
       " \u001b[32m\u001b[1mTest Passed\u001b[22m\u001b[39m\n",
       " \u001b[32m\u001b[1mTest Passed\u001b[22m\u001b[39m\n",
       " \u001b[32m\u001b[1mTest Passed\u001b[22m\u001b[39m\n",
       " \u001b[32m\u001b[1mTest Passed\u001b[22m\u001b[39m\n",
       " \u001b[32m\u001b[1mTest Passed\u001b[22m\u001b[39m\n",
       " \u001b[32m\u001b[1mTest Passed\u001b[22m\u001b[39m\n",
       " \u001b[32m\u001b[1mTest Passed\u001b[22m\u001b[39m\n",
       " \u001b[32m\u001b[1mTest Passed\u001b[22m\u001b[39m\n",
       " \u001b[32m\u001b[1mTest Passed\u001b[22m\u001b[39m\n",
       " \u001b[32m\u001b[1mTest Passed\u001b[22m\u001b[39m"
      ]
     },
     "execution_count": 5,
     "metadata": {},
     "output_type": "execute_result"
    }
   ],
   "source": [
    "testHelper(test1; ntests = 10)"
   ]
  },
  {
   "cell_type": "markdown",
   "id": "2613af26-02da-495f-8173-759da4a07a63",
   "metadata": {},
   "source": [
    "### Test - Case 2:"
   ]
  },
  {
   "cell_type": "code",
   "execution_count": 6,
   "id": "29816edc-1adb-4111-9ff4-ee2839d1993c",
   "metadata": {},
   "outputs": [],
   "source": [
    "test2 = quote\n",
    "    N = 100;\n",
    "    p = rand([1, 5]); # randomly generate the number of rows\n",
    "    \n",
    "    A = rand([0.0, 1.0], N, p);\n",
    "    \n",
    "    ## Manually center columns of A\n",
    "    colMean_A = sum(A, dims = 1)./N;\n",
    "    true_centered_A = round.(A .- colMean_A; digits = 2);\n",
    "    colCenter!(A);\n",
    "    A .= round.(A; digits = 2);\n",
    "    @test true_centered_A == A;\n",
    "end;"
   ]
  },
  {
   "cell_type": "code",
   "execution_count": 7,
   "id": "0e21c405-f577-4e95-8aea-915ca6945bd2",
   "metadata": {},
   "outputs": [
    {
     "data": {
      "text/plain": [
       "10-element Vector{Test.Pass}:\n",
       " \u001b[32m\u001b[1mTest Passed\u001b[22m\u001b[39m\n",
       " \u001b[32m\u001b[1mTest Passed\u001b[22m\u001b[39m\n",
       " \u001b[32m\u001b[1mTest Passed\u001b[22m\u001b[39m\n",
       " \u001b[32m\u001b[1mTest Passed\u001b[22m\u001b[39m\n",
       " \u001b[32m\u001b[1mTest Passed\u001b[22m\u001b[39m\n",
       " \u001b[32m\u001b[1mTest Passed\u001b[22m\u001b[39m\n",
       " \u001b[32m\u001b[1mTest Passed\u001b[22m\u001b[39m\n",
       " \u001b[32m\u001b[1mTest Passed\u001b[22m\u001b[39m\n",
       " \u001b[32m\u001b[1mTest Passed\u001b[22m\u001b[39m\n",
       " \u001b[32m\u001b[1mTest Passed\u001b[22m\u001b[39m"
      ]
     },
     "execution_count": 7,
     "metadata": {},
     "output_type": "execute_result"
    }
   ],
   "source": [
    "testHelper(test2; ntests = 10)"
   ]
  },
  {
   "cell_type": "markdown",
   "id": "5b3d4ce0-6d08-444e-936f-7e887cf6f87d",
   "metadata": {},
   "source": [
    "## TEST: rowCenter!()"
   ]
  },
  {
   "cell_type": "markdown",
   "id": "46373525-303c-487b-b740-59787a86d01d",
   "metadata": {},
   "source": [
    "When data is a vector, the function should probably throw an exception (makes no sense to center by row mean). We therefore only test the case when there are multiple columns so it makes sense to average the observations in a row."
   ]
  },
  {
   "cell_type": "markdown",
   "id": "e49107a9-b7c6-4590-8266-cd6a14b5b3ac",
   "metadata": {},
   "source": [
    "### Test"
   ]
  },
  {
   "cell_type": "code",
   "execution_count": 8,
   "id": "a6f25d9a-a826-4b23-bab2-d8af36102ca1",
   "metadata": {},
   "outputs": [],
   "source": [
    "test = quote\n",
    "    N = 100;\n",
    "    p = rand([2, 5]); # randomly generate the number of rows\n",
    "    \n",
    "    A = rand([0.0, 1.0], N, p);\n",
    "    \n",
    "    ## Manually center columns of A\n",
    "    rowMean_A = sum(A, dims = 2)./p;\n",
    "    true_centered_A = round.(A .- rowMean_A; digits = 2);\n",
    "    \n",
    "    rowCenter!(A);\n",
    "    A .= round.(A; digits = 2);\n",
    "    \n",
    "    @test true_centered_A == A;\n",
    "end;"
   ]
  },
  {
   "cell_type": "code",
   "execution_count": 9,
   "id": "7331e89f-d9ec-4874-91fd-b6c8f6be4db7",
   "metadata": {},
   "outputs": [
    {
     "data": {
      "text/plain": [
       "10-element Vector{Test.Pass}:\n",
       " \u001b[32m\u001b[1mTest Passed\u001b[22m\u001b[39m\n",
       " \u001b[32m\u001b[1mTest Passed\u001b[22m\u001b[39m\n",
       " \u001b[32m\u001b[1mTest Passed\u001b[22m\u001b[39m\n",
       " \u001b[32m\u001b[1mTest Passed\u001b[22m\u001b[39m\n",
       " \u001b[32m\u001b[1mTest Passed\u001b[22m\u001b[39m\n",
       " \u001b[32m\u001b[1mTest Passed\u001b[22m\u001b[39m\n",
       " \u001b[32m\u001b[1mTest Passed\u001b[22m\u001b[39m\n",
       " \u001b[32m\u001b[1mTest Passed\u001b[22m\u001b[39m\n",
       " \u001b[32m\u001b[1mTest Passed\u001b[22m\u001b[39m\n",
       " \u001b[32m\u001b[1mTest Passed\u001b[22m\u001b[39m"
      ]
     },
     "execution_count": 9,
     "metadata": {},
     "output_type": "execute_result"
    }
   ],
   "source": [
    "testHelper(test; ntests = 10)"
   ]
  },
  {
   "cell_type": "markdown",
   "id": "9a2ab7c3-9dca-46e2-82a1-a77a33a2b130",
   "metadata": {},
   "source": [
    "## TEST: colDivide!()"
   ]
  },
  {
   "cell_type": "markdown",
   "id": "c31a34b9-1dd2-4975-a433-e040c57f6445",
   "metadata": {},
   "source": [
    "### Original code:"
   ]
  },
  {
   "cell_type": "markdown",
   "id": "97f13b04-63a4-4969-9355-57edbaaf90e7",
   "metadata": {},
   "source": [
    "### Test"
   ]
  },
  {
   "cell_type": "code",
   "execution_count": 10,
   "id": "4c2aed1e-a35d-4a66-8ad4-cbef1ac665e9",
   "metadata": {},
   "outputs": [],
   "source": [
    "test = quote\n",
    "    N = 100;\n",
    "    p = rand([1, 5]); # randomly generate the number of rows\n",
    "    A = rand([0.0, 1.0], N, p);\n",
    "    \n",
    "    colVars = mapslices(var, A, dims = 1) |> vec;\n",
    "    true_weighted_A = transpose(round.(transpose(A) ./ colVars; digits = 2));\n",
    "    \n",
    "    colDivide!(A, colVars);\n",
    "    A = round.(A; digits = 2);\n",
    "    \n",
    "    @test true_weighted_A == A;\n",
    "end;"
   ]
  },
  {
   "cell_type": "code",
   "execution_count": 11,
   "id": "325ef01e-daff-40c3-bfb5-bcf69fcdb257",
   "metadata": {},
   "outputs": [
    {
     "data": {
      "text/plain": [
       "10-element Vector{Test.Pass}:\n",
       " \u001b[32m\u001b[1mTest Passed\u001b[22m\u001b[39m\n",
       " \u001b[32m\u001b[1mTest Passed\u001b[22m\u001b[39m\n",
       " \u001b[32m\u001b[1mTest Passed\u001b[22m\u001b[39m\n",
       " \u001b[32m\u001b[1mTest Passed\u001b[22m\u001b[39m\n",
       " \u001b[32m\u001b[1mTest Passed\u001b[22m\u001b[39m\n",
       " \u001b[32m\u001b[1mTest Passed\u001b[22m\u001b[39m\n",
       " \u001b[32m\u001b[1mTest Passed\u001b[22m\u001b[39m\n",
       " \u001b[32m\u001b[1mTest Passed\u001b[22m\u001b[39m\n",
       " \u001b[32m\u001b[1mTest Passed\u001b[22m\u001b[39m\n",
       " \u001b[32m\u001b[1mTest Passed\u001b[22m\u001b[39m"
      ]
     },
     "execution_count": 11,
     "metadata": {},
     "output_type": "execute_result"
    }
   ],
   "source": [
    "testHelper(test; ntests = 10)"
   ]
  },
  {
   "cell_type": "markdown",
   "id": "9ebe9bd4-b7c8-48a4-a5bc-ba84bc336265",
   "metadata": {},
   "source": [
    "## TEST: colStandardize!()"
   ]
  },
  {
   "cell_type": "markdown",
   "id": "4e9a91b0-4851-4781-b56e-2b0be4ed66d2",
   "metadata": {},
   "source": [
    "### Test:"
   ]
  },
  {
   "cell_type": "code",
   "execution_count": 161,
   "id": "6e115a61-fe14-4558-aadf-49e669365b76",
   "metadata": {},
   "outputs": [
    {
     "data": {
      "text/plain": [
       "3-element Vector{Float64}:\n",
       " 1.0\n",
       " 2.0\n",
       " 3.0"
      ]
     },
     "execution_count": 161,
     "metadata": {},
     "output_type": "execute_result"
    }
   ],
   "source": [
    "A = randn(3, 3);\n",
    "x = [1.0; 2.0; 3.0]"
   ]
  },
  {
   "cell_type": "code",
   "execution_count": 162,
   "id": "18cd1d74-64e9-4508-99d6-6dd87530757d",
   "metadata": {},
   "outputs": [
    {
     "data": {
      "text/plain": [
       "3×3 Matrix{Float64}:\n",
       " -0.428666  -1.94744    1.10146\n",
       "  0.390436   0.364148   0.862161\n",
       "  0.541328  -0.349303  -1.48735"
      ]
     },
     "execution_count": 162,
     "metadata": {},
     "output_type": "execute_result"
    }
   ],
   "source": [
    "A"
   ]
  },
  {
   "cell_type": "code",
   "execution_count": 163,
   "id": "7d7af944-7414-4f0e-accc-a1f4c06a4004",
   "metadata": {},
   "outputs": [
    {
     "data": {
      "text/plain": [
       "3×3 Matrix{Float64}:\n",
       " -0.428666  -1.94744    1.10146\n",
       "  0.780873   0.728296   1.72432\n",
       "  1.62398   -1.04791   -4.46205"
      ]
     },
     "execution_count": 163,
     "metadata": {},
     "output_type": "execute_result"
    }
   ],
   "source": [
    "A .* x"
   ]
  },
  {
   "cell_type": "code",
   "execution_count": 164,
   "id": "5d8c6564-2153-4e6b-935a-a991d356a534",
   "metadata": {},
   "outputs": [
    {
     "data": {
      "text/plain": [
       "3×3 Matrix{Float64}:\n",
       " -0.428666  -1.94744    1.10146\n",
       "  0.780873   0.728296   1.72432\n",
       "  1.62398   -1.04791   -4.46205"
      ]
     },
     "execution_count": 164,
     "metadata": {},
     "output_type": "execute_result"
    }
   ],
   "source": [
    "x .* A"
   ]
  },
  {
   "cell_type": "code",
   "execution_count": 165,
   "id": "6b76e7b6-de65-4608-9404-06d3d8332ff8",
   "metadata": {},
   "outputs": [
    {
     "data": {
      "text/plain": [
       "3×3 Matrix{Float64}:\n",
       " -0.428666  -1.94744    1.10146\n",
       "  0.195218   0.182074   0.43108\n",
       "  0.180443  -0.116434  -0.495783"
      ]
     },
     "execution_count": 165,
     "metadata": {},
     "output_type": "execute_result"
    }
   ],
   "source": [
    "A ./ x"
   ]
  },
  {
   "cell_type": "code",
   "execution_count": 169,
   "id": "f3143724-448f-4f4a-b525-d4cb18a72a2f",
   "metadata": {},
   "outputs": [
    {
     "data": {
      "text/plain": [
       "3×3 Matrix{Float64}:\n",
       " -0.428666  -1.94744    1.10146\n",
       "  0.195218   0.182074   0.43108\n",
       "  0.180443  -0.116434  -0.495783"
      ]
     },
     "execution_count": 169,
     "metadata": {},
     "output_type": "execute_result"
    }
   ],
   "source": [
    "A .* (1.0 ./ x)"
   ]
  },
  {
   "cell_type": "code",
   "execution_count": 28,
   "id": "96126070-b58b-448d-8464-7cc2a1c6b75b",
   "metadata": {},
   "outputs": [
    {
     "data": {
      "text/plain": [
       "6-element Vector{Int64}:\n",
       " 5\n",
       " 1\n",
       " 2\n",
       " 3\n",
       " 4\n",
       " 0"
      ]
     },
     "execution_count": 28,
     "metadata": {},
     "output_type": "execute_result"
    }
   ],
   "source": [
    "A = [5;1;2;3;4;0]"
   ]
  },
  {
   "cell_type": "code",
   "execution_count": 29,
   "id": "dde5b80e-8ed7-48b1-8e18-6803bc13f9e2",
   "metadata": {},
   "outputs": [
    {
     "data": {
      "text/plain": [
       "checkZero1 (generic function with 1 method)"
      ]
     },
     "execution_count": 29,
     "metadata": {},
     "output_type": "execute_result"
    }
   ],
   "source": [
    "function checkZero1(A::Array{Float64, 1})\n",
    "    \n",
    "    test = iszero.(A);\n",
    "    # sum(test) != 0;\n",
    "    \n",
    "end"
   ]
  },
  {
   "cell_type": "code",
   "execution_count": 30,
   "id": "897a8557-3adc-4530-8e79-e2205946eeee",
   "metadata": {},
   "outputs": [
    {
     "data": {
      "text/plain": [
       "checkZero2 (generic function with 1 method)"
      ]
     },
     "execution_count": 30,
     "metadata": {},
     "output_type": "execute_result"
    }
   ],
   "source": [
    "function checkZero2(A::Array{Float64, 1})\n",
    "    \n",
    "    for i in 1:length(A)\n",
    "        \n",
    "        if A[i] == 0.0\n",
    "            return true\n",
    "        end\n",
    "        \n",
    "    end\n",
    "    \n",
    "    return false\n",
    "\n",
    "end"
   ]
  },
  {
   "cell_type": "code",
   "execution_count": 31,
   "id": "b1321012-7760-4c30-b5ba-fbfe27929c46",
   "metadata": {},
   "outputs": [
    {
     "data": {
      "text/plain": [
       "6-element Vector{Float64}:\n",
       " 5.0\n",
       " 1.0\n",
       " 2.0\n",
       " 3.0\n",
       " 4.0\n",
       " 0.0"
      ]
     },
     "execution_count": 31,
     "metadata": {},
     "output_type": "execute_result"
    }
   ],
   "source": [
    "A = convert(Array{Float64, 1}, A)"
   ]
  },
  {
   "cell_type": "code",
   "execution_count": 32,
   "id": "b30accd0-fa5c-47d3-9241-5676280ff742",
   "metadata": {},
   "outputs": [
    {
     "name": "stdout",
     "output_type": "stream",
     "text": [
      "  57.644 ns (2 allocations: 96 bytes)\n"
     ]
    },
    {
     "data": {
      "text/plain": [
       "6-element BitVector:\n",
       " 0\n",
       " 0\n",
       " 0\n",
       " 0\n",
       " 0\n",
       " 1"
      ]
     },
     "execution_count": 32,
     "metadata": {},
     "output_type": "execute_result"
    }
   ],
   "source": [
    "@btime checkZero1(A)"
   ]
  },
  {
   "cell_type": "code",
   "execution_count": 33,
   "id": "9cc4bbc1-ae9c-4a75-b059-564e0b114ce8",
   "metadata": {},
   "outputs": [
    {
     "name": "stdout",
     "output_type": "stream",
     "text": [
      "  9.668 ns (0 allocations: 0 bytes)\n"
     ]
    },
    {
     "data": {
      "text/plain": [
       "true"
      ]
     },
     "execution_count": 33,
     "metadata": {},
     "output_type": "execute_result"
    }
   ],
   "source": [
    "@btime checkZero2(A)"
   ]
  },
  {
   "cell_type": "code",
   "execution_count": 34,
   "id": "d07c6383-55f6-4417-beeb-fbed4b6e96a2",
   "metadata": {},
   "outputs": [
    {
     "data": {
      "text/latex": [
       "\\begin{verbatim}\n",
       "@inbounds(blk)\n",
       "\\end{verbatim}\n",
       "Eliminates array bounds checking within expressions.\n",
       "\n",
       "In the example below the in-range check for referencing element \\texttt{i} of array \\texttt{A} is skipped to improve performance.\n",
       "\n",
       "\\begin{verbatim}\n",
       "function sum(A::AbstractArray)\n",
       "    r = zero(eltype(A))\n",
       "    for i in eachindex(A)\n",
       "        @inbounds r += A[i]\n",
       "    end\n",
       "    return r\n",
       "end\n",
       "\\end{verbatim}\n",
       "\\begin{quote}\n",
       "\\textbf{warning}\n",
       "\n",
       "Warning\n",
       "\n",
       "Using \\texttt{@inbounds} may return incorrect results/crashes/corruption for out-of-bounds indices. The user is responsible for checking it manually. Only use \\texttt{@inbounds} when it is certain from the information locally available that all accesses are in bounds.\n",
       "\n",
       "\\end{quote}\n"
      ],
      "text/markdown": [
       "```\n",
       "@inbounds(blk)\n",
       "```\n",
       "\n",
       "Eliminates array bounds checking within expressions.\n",
       "\n",
       "In the example below the in-range check for referencing element `i` of array `A` is skipped to improve performance.\n",
       "\n",
       "```julia\n",
       "function sum(A::AbstractArray)\n",
       "    r = zero(eltype(A))\n",
       "    for i in eachindex(A)\n",
       "        @inbounds r += A[i]\n",
       "    end\n",
       "    return r\n",
       "end\n",
       "```\n",
       "\n",
       "!!! warning\n",
       "    Using `@inbounds` may return incorrect results/crashes/corruption for out-of-bounds indices. The user is responsible for checking it manually. Only use `@inbounds` when it is certain from the information locally available that all accesses are in bounds.\n",
       "\n"
      ],
      "text/plain": [
       "\u001b[36m  @inbounds(blk)\u001b[39m\n",
       "\n",
       "  Eliminates array bounds checking within expressions.\n",
       "\n",
       "  In the example below the in-range check for referencing element \u001b[36mi\u001b[39m of array \u001b[36mA\u001b[39m\n",
       "  is skipped to improve performance.\n",
       "\n",
       "\u001b[36m  function sum(A::AbstractArray)\u001b[39m\n",
       "\u001b[36m      r = zero(eltype(A))\u001b[39m\n",
       "\u001b[36m      for i in eachindex(A)\u001b[39m\n",
       "\u001b[36m          @inbounds r += A[i]\u001b[39m\n",
       "\u001b[36m      end\u001b[39m\n",
       "\u001b[36m      return r\u001b[39m\n",
       "\u001b[36m  end\u001b[39m\n",
       "\n",
       "\u001b[33m\u001b[1m  │ \u001b[22m\u001b[39m\u001b[33m\u001b[1mWarning\u001b[22m\u001b[39m\n",
       "\u001b[33m\u001b[1m  │\u001b[22m\u001b[39m\n",
       "\u001b[33m\u001b[1m  │\u001b[22m\u001b[39m  Using \u001b[36m@inbounds\u001b[39m may return incorrect results/crashes/corruption\n",
       "\u001b[33m\u001b[1m  │\u001b[22m\u001b[39m  for out-of-bounds indices. The user is responsible for checking it\n",
       "\u001b[33m\u001b[1m  │\u001b[22m\u001b[39m  manually. Only use \u001b[36m@inbounds\u001b[39m when it is certain from the\n",
       "\u001b[33m\u001b[1m  │\u001b[22m\u001b[39m  information locally available that all accesses are in bounds."
      ]
     },
     "execution_count": 34,
     "metadata": {},
     "output_type": "execute_result"
    }
   ],
   "source": [
    "?@inbounds"
   ]
  },
  {
   "cell_type": "code",
   "execution_count": 49,
   "id": "4b1a6aee-17fb-4105-8aa5-a7bd93c3b549",
   "metadata": {},
   "outputs": [
    {
     "data": {
      "text/plain": [
       "2.220446049250313e-16"
      ]
     },
     "execution_count": 49,
     "metadata": {},
     "output_type": "execute_result"
    }
   ],
   "source": [
    "1+eps()/2-1"
   ]
  },
  {
   "cell_type": "code",
   "execution_count": 50,
   "id": "8b2d402d-9ee1-43de-bf2d-2810c0328339",
   "metadata": {},
   "outputs": [
    {
     "data": {
      "text/plain": [
       "1.1102230246251565e-16"
      ]
     },
     "execution_count": 50,
     "metadata": {},
     "output_type": "execute_result"
    }
   ],
   "source": [
    "eps()/2 + (1-1)"
   ]
  },
  {
   "cell_type": "markdown",
   "id": "5f8d2b6a-1f3a-4188-a2b2-238e3ead890a",
   "metadata": {},
   "source": [
    "### TT"
   ]
  },
  {
   "cell_type": "code",
   "execution_count": 44,
   "id": "fca7e5ff-928c-466a-a22b-cf0aa104f577",
   "metadata": {},
   "outputs": [
    {
     "data": {
      "text/plain": [
       "tt (generic function with 1 method)"
      ]
     },
     "execution_count": 44,
     "metadata": {},
     "output_type": "execute_result"
    }
   ],
   "source": [
    "function tt(v, A)\n",
    "    \n",
    "    (n, m) = size(A)\n",
    "    \n",
    "    r = similar(A)\n",
    "    for j = 1:m \n",
    "        for i = 1:n\n",
    "            r[i,j] = v[j] * A[i,j]\n",
    "        end\n",
    "    end \n",
    "    r\n",
    "end"
   ]
  },
  {
   "cell_type": "code",
   "execution_count": 45,
   "id": "cdbcbffd-fe82-42fe-9515-598fc62db1e1",
   "metadata": {},
   "outputs": [],
   "source": [
    "N = 1000;\n",
    "p = 100; # randomly generate the number of rows\n",
    "A = rand(N, p);\n",
    "w = rand(N);"
   ]
  },
  {
   "cell_type": "code",
   "execution_count": 46,
   "id": "e1e7ee74-7482-449a-a47d-816f27296453",
   "metadata": {},
   "outputs": [
    {
     "name": "stdout",
     "output_type": "stream",
     "text": [
      "  89.368 μs (2 allocations: 781.30 KiB)\n"
     ]
    }
   ],
   "source": [
    "@btime tt(w, A);"
   ]
  },
  {
   "cell_type": "code",
   "execution_count": 47,
   "id": "9f425d2f-1a2e-48ef-8ff7-517e9e4809f3",
   "metadata": {},
   "outputs": [
    {
     "name": "stdout",
     "output_type": "stream",
     "text": [
      "  59.760 μs (4 allocations: 781.36 KiB)\n"
     ]
    }
   ],
   "source": [
    "@btime A .* w;"
   ]
  },
  {
   "cell_type": "code",
   "execution_count": 204,
   "id": "7d025db8-2a02-413d-b053-d0cd2ba30732",
   "metadata": {},
   "outputs": [
    {
     "name": "stdout",
     "output_type": "stream",
     "text": [
      "  756.669 μs (4 allocations: 7.63 MiB)\n"
     ]
    }
   ],
   "source": [
    "@btime w .* A;"
   ]
  },
  {
   "cell_type": "code",
   "execution_count": null,
   "id": "827e191e-52d3-435d-b858-cffbf16a7d1b",
   "metadata": {},
   "outputs": [],
   "source": []
  },
  {
   "cell_type": "code",
   "execution_count": null,
   "id": "a3ef2477-7839-4432-aaaa-ed42a3f2c34d",
   "metadata": {},
   "outputs": [],
   "source": []
  },
  {
   "cell_type": "code",
   "execution_count": null,
   "id": "76275ed7-a3b1-4072-8685-e80dbd5032a4",
   "metadata": {},
   "outputs": [],
   "source": []
  },
  {
   "cell_type": "code",
   "execution_count": null,
   "id": "9674d7b2-243f-4888-abae-783ed0c97486",
   "metadata": {},
   "outputs": [],
   "source": []
  },
  {
   "cell_type": "code",
   "execution_count": 12,
   "id": "c601f287-8d68-4186-a845-8e0f1b45e20b",
   "metadata": {},
   "outputs": [],
   "source": [
    "test = quote\n",
    "    N = 100;\n",
    "    p = rand([1, 5]); # randomly generate the number of rows\n",
    "    A = rand([0.0, 1.0], N, p);\n",
    "    \n",
    "    colMeans = mean(A, dims = 1) |> vec; # mean of each column\n",
    "    colVars = mapslices(std, A, dims = 1) |> vec; # std of each column\n",
    "    true_standardized_A = round.(transpose(A) .- colMeans; digits = 2)\n",
    "    true_standardized_A = transpose(round.(true_standardized_A ./ colVars; digits = 2));\n",
    "    \n",
    "    colStandardize!(A);\n",
    "    A = round.(A; digits = 2);\n",
    "    \n",
    "    @test true_standardized_A == A;\n",
    "end;"
   ]
  },
  {
   "cell_type": "code",
   "execution_count": 13,
   "id": "29dae80a-41d9-42af-8edf-51aee220e4d3",
   "metadata": {},
   "outputs": [
    {
     "data": {
      "text/plain": [
       "10-element Vector{Test.Pass}:\n",
       " \u001b[32m\u001b[1mTest Passed\u001b[22m\u001b[39m\n",
       " \u001b[32m\u001b[1mTest Passed\u001b[22m\u001b[39m\n",
       " \u001b[32m\u001b[1mTest Passed\u001b[22m\u001b[39m\n",
       " \u001b[32m\u001b[1mTest Passed\u001b[22m\u001b[39m\n",
       " \u001b[32m\u001b[1mTest Passed\u001b[22m\u001b[39m\n",
       " \u001b[32m\u001b[1mTest Passed\u001b[22m\u001b[39m\n",
       " \u001b[32m\u001b[1mTest Passed\u001b[22m\u001b[39m\n",
       " \u001b[32m\u001b[1mTest Passed\u001b[22m\u001b[39m\n",
       " \u001b[32m\u001b[1mTest Passed\u001b[22m\u001b[39m\n",
       " \u001b[32m\u001b[1mTest Passed\u001b[22m\u001b[39m"
      ]
     },
     "execution_count": 13,
     "metadata": {},
     "output_type": "execute_result"
    }
   ],
   "source": [
    "testHelper(test; ntests = 10)"
   ]
  },
  {
   "cell_type": "markdown",
   "id": "3a88c316-ebe3-4687-baf7-1c4cb87a52ad",
   "metadata": {},
   "source": [
    "## TEST: rowDivide!()"
   ]
  },
  {
   "cell_type": "markdown",
   "id": "4f2e350c-74d1-485d-b708-19d46f40bd9d",
   "metadata": {},
   "source": [
    "### Test:"
   ]
  },
  {
   "cell_type": "code",
   "execution_count": 14,
   "id": "bb788cd9-6f7e-4f43-a636-a87d2ddcf2dd",
   "metadata": {},
   "outputs": [],
   "source": [
    "test = quote\n",
    "    N = 100;\n",
    "    p = rand([2, 5]); # randomly generate the number of rows\n",
    "    A = rand([0.0, 1.0], N, p);\n",
    "    \n",
    "    rowVars = mapslices(var, A, dims = 2) |> vec;\n",
    "    rowVars = round.(rowVars; digits = 2);\n",
    "    \n",
    "    for i in 1:length(rowVars)\n",
    "        if(rowVars[i] == 0.0)\n",
    "            rowVars[i] = 1.0\n",
    "        end\n",
    "    end\n",
    "    \n",
    "    true_weighted_A = round.(A ./ rowVars; digits = 2);\n",
    "    \n",
    "    rowDivide!(A, rowVars);\n",
    "    A = round.(A; digits = 2);\n",
    "    \n",
    "    @test true_weighted_A == A;\n",
    "end;"
   ]
  },
  {
   "cell_type": "code",
   "execution_count": 15,
   "id": "0a8560b4-09bf-4889-ad5c-63428bda7719",
   "metadata": {},
   "outputs": [
    {
     "data": {
      "text/plain": [
       "10-element Vector{Test.Pass}:\n",
       " \u001b[32m\u001b[1mTest Passed\u001b[22m\u001b[39m\n",
       " \u001b[32m\u001b[1mTest Passed\u001b[22m\u001b[39m\n",
       " \u001b[32m\u001b[1mTest Passed\u001b[22m\u001b[39m\n",
       " \u001b[32m\u001b[1mTest Passed\u001b[22m\u001b[39m\n",
       " \u001b[32m\u001b[1mTest Passed\u001b[22m\u001b[39m\n",
       " \u001b[32m\u001b[1mTest Passed\u001b[22m\u001b[39m\n",
       " \u001b[32m\u001b[1mTest Passed\u001b[22m\u001b[39m\n",
       " \u001b[32m\u001b[1mTest Passed\u001b[22m\u001b[39m\n",
       " \u001b[32m\u001b[1mTest Passed\u001b[22m\u001b[39m\n",
       " \u001b[32m\u001b[1mTest Passed\u001b[22m\u001b[39m"
      ]
     },
     "execution_count": 15,
     "metadata": {},
     "output_type": "execute_result"
    }
   ],
   "source": [
    "testHelper(test; ntests = 10)"
   ]
  },
  {
   "cell_type": "markdown",
   "id": "20d04ecb-8104-491e-b417-3dd2cacfa5f8",
   "metadata": {},
   "source": [
    "*** Need to check if dividing by a zero number (0 col or row std)"
   ]
  },
  {
   "cell_type": "markdown",
   "id": "0b669f66-976a-4e33-a395-0463fdbc85fa",
   "metadata": {},
   "source": [
    "## TEST: rowMultiply()"
   ]
  },
  {
   "cell_type": "markdown",
   "id": "51a310fd-d58a-4e70-b2a5-0b4285e8ac6e",
   "metadata": {},
   "source": [
    "### Test - Case1: check if dimensions"
   ]
  },
  {
   "cell_type": "code",
   "execution_count": 42,
   "id": "9b0aac32-6c49-489e-ac7b-1d0f43ef517c",
   "metadata": {},
   "outputs": [
    {
     "data": {
      "text/plain": [
       "\u001b[32m\u001b[1mTest Passed\u001b[22m\u001b[39m"
      ]
     },
     "execution_count": 42,
     "metadata": {},
     "output_type": "execute_result"
    }
   ],
   "source": [
    "N = 100;\n",
    "p = rand([2, 5]); # randomly generate the number of rows\n",
    "A = rand([0.0, 1.0], N, p);\n",
    "\n",
    "x = zeros(N+1)\n",
    "\n",
    "try \n",
    "    rowMultiply(A, x)\n",
    "catch e\n",
    "    @test typeof(e) == ErrorException\n",
    "end"
   ]
  },
  {
   "cell_type": "markdown",
   "id": "cb6d1ce1-07ed-466e-93a0-f8cb7d5c99c6",
   "metadata": {},
   "source": [
    "### Test - Case2: check if results match"
   ]
  },
  {
   "cell_type": "code",
   "execution_count": 73,
   "id": "a2cd566e-5411-40dc-8caa-5e64f9c2b8ef",
   "metadata": {},
   "outputs": [],
   "source": [
    "include(\"../../src/util.jl\");"
   ]
  },
  {
   "cell_type": "code",
   "execution_count": 156,
   "id": "fbff6348-bbbd-4fba-81a3-16cd520b0d2e",
   "metadata": {},
   "outputs": [
    {
     "data": {
      "text/plain": [
       "colMultiply (generic function with 1 method)"
      ]
     },
     "execution_count": 156,
     "metadata": {},
     "output_type": "execute_result"
    }
   ],
   "source": [
    "function colMultiply(A::Matrix{Float64}, x::Vector{Float64})\n",
    "    \n",
    "    (n,m) = size(A)\n",
    "    # if(length(x)!=m)\n",
    "        # throw(error(\"Matrix and vector size do not match.\"))\n",
    "    # end\n",
    "\n",
    "    B = similar(A)\n",
    "    \n",
    "\n",
    "    # Original\n",
    "    for j=1:m\n",
    "        B[:, j] = (@view A[:, j]) * x[j]\n",
    "    end\n",
    "\n",
    "    return B\n",
    "    \n",
    "    # return A' .* x\n",
    "    \n",
    "end"
   ]
  },
  {
   "cell_type": "code",
   "execution_count": 157,
   "id": "8021dbe5-467a-44cf-b702-9b5763c7436c",
   "metadata": {},
   "outputs": [
    {
     "data": {
      "text/plain": [
       "colMultiply_2 (generic function with 1 method)"
      ]
     },
     "execution_count": 157,
     "metadata": {},
     "output_type": "execute_result"
    }
   ],
   "source": [
    "function colMultiply_2(A::Matrix{Float64}, x::Vector{Float64})\n",
    "    \n",
    "    # (n,m) = size(A)\n",
    "    # if(length(x)!=m)\n",
    "        # throw(error(\"Matrix and vector size do not match.\"))\n",
    "    # end\n",
    "\n",
    "    # B = similar(A)\n",
    "    \n",
    "\n",
    "    # Original\n",
    "    # for j=1:m\n",
    "        # B[:, j] = (@view A[:, j]) * x[j]\n",
    "    # end\n",
    "\n",
    "    # return B\n",
    "    \n",
    "    return A' .* x\n",
    "    \n",
    "end"
   ]
  },
  {
   "cell_type": "code",
   "execution_count": 152,
   "id": "4a8521df-dea3-4c4c-a5cd-0c21530ec53e",
   "metadata": {},
   "outputs": [],
   "source": [
    "test = quote\n",
    "    N = 1000;\n",
    "    p = 100;\n",
    "    # p = rand([2, 5]); # randomly generate the number of rows\n",
    "    A = rand(N, p);\n",
    "    \n",
    "    w = rand(N)\n",
    "    \n",
    "    true_weighted_A = round.(A .* w; digits = 2);\n",
    "    \n",
    "    test_weighted_A = round.(rowMultiply(A, w); digits = 2)\n",
    "\n",
    "    \n",
    "    @test true_weighted_A == test_weighted_A;\n",
    "end;"
   ]
  },
  {
   "cell_type": "code",
   "execution_count": 153,
   "id": "c9731c84-8db4-4611-b944-96b94e5c25ab",
   "metadata": {},
   "outputs": [
    {
     "data": {
      "text/plain": [
       "1-element Vector{Test.Pass}:\n",
       " \u001b[32m\u001b[1mTest Passed\u001b[22m\u001b[39m"
      ]
     },
     "execution_count": 153,
     "metadata": {},
     "output_type": "execute_result"
    }
   ],
   "source": [
    "testHelper(test; ntests = 1)"
   ]
  },
  {
   "cell_type": "code",
   "execution_count": 158,
   "id": "24506261-0ce0-436f-ba52-73dcaf3b903b",
   "metadata": {},
   "outputs": [],
   "source": [
    "B = copy(A');"
   ]
  },
  {
   "cell_type": "code",
   "execution_count": 159,
   "id": "9248d1c0-a410-4044-8028-37b6cca6cac0",
   "metadata": {},
   "outputs": [
    {
     "name": "stdout",
     "output_type": "stream",
     "text": [
      "  148.271 μs (1002 allocations: 1.62 MiB)\n"
     ]
    }
   ],
   "source": [
    "@btime colMultiply(B, w);"
   ]
  },
  {
   "cell_type": "code",
   "execution_count": 160,
   "id": "85ef7e75-e0cc-42f9-bc11-8ac639d9c3d4",
   "metadata": {},
   "outputs": [
    {
     "name": "stdout",
     "output_type": "stream",
     "text": [
      "  59.341 μs (4 allocations: 781.39 KiB)\n"
     ]
    }
   ],
   "source": [
    "@btime A .* w;"
   ]
  },
  {
   "cell_type": "markdown",
   "id": "8ef0f05c-ff8f-4345-8e6f-f103a950968e",
   "metadata": {},
   "source": [
    "## loop"
   ]
  },
  {
   "cell_type": "code",
   "execution_count": 99,
   "id": "0af50aca-b902-4e0c-bf17-56075fcde78f",
   "metadata": {},
   "outputs": [
    {
     "name": "stdout",
     "output_type": "stream",
     "text": [
      "  1.472 ms (2 allocations: 7.63 MiB)\n"
     ]
    }
   ],
   "source": [
    "@btime rowMultiply(A, w); # original"
   ]
  },
  {
   "cell_type": "code",
   "execution_count": null,
   "id": "a76dc818-b46f-4c3c-96c2-bb8faf34fd48",
   "metadata": {},
   "outputs": [],
   "source": []
  },
  {
   "cell_type": "code",
   "execution_count": 70,
   "id": "7b0a5893-9a91-412f-acf1-1106c9522532",
   "metadata": {},
   "outputs": [
    {
     "name": "stdout",
     "output_type": "stream",
     "text": [
      "  149.701 μs (2 allocations: 781.33 KiB)\n"
     ]
    }
   ],
   "source": [
    "@btime rowMultiply(A, w); # undef"
   ]
  },
  {
   "cell_type": "code",
   "execution_count": 66,
   "id": "13e09950-f166-4bd3-9114-4af11ba97318",
   "metadata": {},
   "outputs": [
    {
     "name": "stdout",
     "output_type": "stream",
     "text": [
      "  149.567 μs (2 allocations: 781.33 KiB)\n"
     ]
    }
   ],
   "source": [
    "@btime rowMultiply(A, w); # copy"
   ]
  },
  {
   "cell_type": "code",
   "execution_count": 100,
   "id": "ca7c9bec-2bb9-48e6-b2e4-905d248ccb3a",
   "metadata": {},
   "outputs": [
    {
     "name": "stdout",
     "output_type": "stream",
     "text": [
      "  1.142 ms (4 allocations: 7.63 MiB)\n"
     ]
    }
   ],
   "source": [
    "@btime A .* w;"
   ]
  },
  {
   "cell_type": "code",
   "execution_count": 98,
   "id": "aab06906-9799-44ad-bca1-9df1258d77d1",
   "metadata": {},
   "outputs": [],
   "source": [
    "test = quote\n",
    "    N = 10000;\n",
    "    p = 10000;\n",
    "    # p = rand([2, 5]); # randomly generate the number of rows\n",
    "    A = rand(N, p);\n",
    "    \n",
    "    w = rand(N)\n",
    "    \n",
    "    true_weighted_A = round.(A .* w; digits = 2);\n",
    "    \n",
    "    test_weighted_A = round.(rowMultiply(A, w); digits = 2)\n",
    "\n",
    "    \n",
    "    @test true_weighted_A == test_weighted_A;\n",
    "end;"
   ]
  },
  {
   "cell_type": "code",
   "execution_count": 95,
   "id": "1f535dc0-2f42-43b4-96fd-7f2765609493",
   "metadata": {},
   "outputs": [
    {
     "data": {
      "text/plain": [
       "10-element Vector{Test.Pass}:\n",
       " \u001b[32m\u001b[1mTest Passed\u001b[22m\u001b[39m\n",
       " \u001b[32m\u001b[1mTest Passed\u001b[22m\u001b[39m\n",
       " \u001b[32m\u001b[1mTest Passed\u001b[22m\u001b[39m\n",
       " \u001b[32m\u001b[1mTest Passed\u001b[22m\u001b[39m\n",
       " \u001b[32m\u001b[1mTest Passed\u001b[22m\u001b[39m\n",
       " \u001b[32m\u001b[1mTest Passed\u001b[22m\u001b[39m\n",
       " \u001b[32m\u001b[1mTest Passed\u001b[22m\u001b[39m\n",
       " \u001b[32m\u001b[1mTest Passed\u001b[22m\u001b[39m\n",
       " \u001b[32m\u001b[1mTest Passed\u001b[22m\u001b[39m\n",
       " \u001b[32m\u001b[1mTest Passed\u001b[22m\u001b[39m"
      ]
     },
     "execution_count": 95,
     "metadata": {},
     "output_type": "execute_result"
    }
   ],
   "source": [
    "testHelper(test; ntests = 10)"
   ]
  },
  {
   "cell_type": "code",
   "execution_count": 27,
   "id": "1e18e1d2-8e73-4be0-b366-5bd6e79b748b",
   "metadata": {},
   "outputs": [
    {
     "ename": "LoadError",
     "evalue": "UndefVarError: get_num_threads not defined",
     "output_type": "error",
     "traceback": [
      "UndefVarError: get_num_threads not defined",
      "",
      "Stacktrace:",
      " [1] top-level scope",
      "   @ In[27]:1",
      " [2] eval",
      "   @ ./boot.jl:360 [inlined]",
      " [3] include_string(mapexpr::typeof(REPL.softscope), mod::Module, code::String, filename::String)",
      "   @ Base ./loading.jl:1116"
     ]
    }
   ],
   "source": [
    "get_num_threads()"
   ]
  },
  {
   "cell_type": "code",
   "execution_count": null,
   "id": "4b330522-dc68-407c-b220-11c38fa1d285",
   "metadata": {},
   "outputs": [],
   "source": []
  },
  {
   "cell_type": "code",
   "execution_count": 28,
   "id": "df7eb7e2-a721-4349-bd2b-38025705ea4a",
   "metadata": {},
   "outputs": [
    {
     "data": {
      "text/plain": [
       "100×1000 Matrix{Float64}:\n",
       " 0.0  0.0  0.0  0.0  0.0  0.0  0.0  0.0  …  0.0  0.0  0.0  0.0  0.0  0.0  0.0\n",
       " 0.0  0.0  0.0  0.0  0.0  0.0  0.0  0.0     0.0  0.0  0.0  0.0  0.0  0.0  0.0\n",
       " 0.0  0.0  0.0  0.0  0.0  0.0  0.0  0.0     0.0  0.0  0.0  0.0  0.0  0.0  0.0\n",
       " 0.0  0.0  0.0  0.0  0.0  0.0  0.0  0.0     0.0  0.0  0.0  0.0  0.0  0.0  0.0\n",
       " 0.0  0.0  0.0  0.0  0.0  0.0  0.0  0.0     0.0  0.0  0.0  0.0  0.0  0.0  0.0\n",
       " 0.0  0.0  0.0  0.0  0.0  0.0  0.0  0.0  …  0.0  0.0  0.0  0.0  0.0  0.0  0.0\n",
       " 0.0  0.0  0.0  0.0  0.0  0.0  0.0  0.0     0.0  0.0  0.0  0.0  0.0  0.0  0.0\n",
       " 0.0  0.0  0.0  0.0  0.0  0.0  0.0  0.0     0.0  0.0  0.0  0.0  0.0  0.0  0.0\n",
       " 0.0  0.0  0.0  0.0  0.0  0.0  0.0  0.0     0.0  0.0  0.0  0.0  0.0  0.0  0.0\n",
       " 0.0  0.0  0.0  0.0  0.0  0.0  0.0  0.0     0.0  0.0  0.0  0.0  0.0  0.0  0.0\n",
       " 0.0  0.0  0.0  0.0  0.0  0.0  0.0  0.0  …  0.0  0.0  0.0  0.0  0.0  0.0  0.0\n",
       " 0.0  0.0  0.0  0.0  0.0  0.0  0.0  0.0     0.0  0.0  0.0  0.0  0.0  0.0  0.0\n",
       " 0.0  0.0  0.0  0.0  0.0  0.0  0.0  0.0     0.0  0.0  0.0  0.0  0.0  0.0  0.0\n",
       " ⋮                        ⋮              ⋱            ⋮                   \n",
       " 0.0  0.0  0.0  0.0  0.0  0.0  0.0  0.0     0.0  0.0  0.0  0.0  0.0  0.0  0.0\n",
       " 0.0  0.0  0.0  0.0  0.0  0.0  0.0  0.0     0.0  0.0  0.0  0.0  0.0  0.0  0.0\n",
       " 0.0  0.0  0.0  0.0  0.0  0.0  0.0  0.0  …  0.0  0.0  0.0  0.0  0.0  0.0  0.0\n",
       " 0.0  0.0  0.0  0.0  0.0  0.0  0.0  0.0     0.0  0.0  0.0  0.0  0.0  0.0  0.0\n",
       " 0.0  0.0  0.0  0.0  0.0  0.0  0.0  0.0     0.0  0.0  0.0  0.0  0.0  0.0  0.0\n",
       " 0.0  0.0  0.0  0.0  0.0  0.0  0.0  0.0     0.0  0.0  0.0  0.0  0.0  0.0  0.0\n",
       " 0.0  0.0  0.0  0.0  0.0  0.0  0.0  0.0     0.0  0.0  0.0  0.0  0.0  0.0  0.0\n",
       " 0.0  0.0  0.0  0.0  0.0  0.0  0.0  0.0  …  0.0  0.0  0.0  0.0  0.0  0.0  0.0\n",
       " 0.0  0.0  0.0  0.0  0.0  0.0  0.0  0.0     0.0  0.0  0.0  0.0  0.0  0.0  0.0\n",
       " 0.0  0.0  0.0  0.0  0.0  0.0  0.0  0.0     0.0  0.0  0.0  0.0  0.0  0.0  0.0\n",
       " 0.0  0.0  0.0  0.0  0.0  0.0  0.0  0.0     0.0  0.0  0.0  0.0  0.0  0.0  0.0\n",
       " 0.0  0.0  0.0  0.0  0.0  0.0  0.0  0.0     0.0  0.0  0.0  0.0  0.0  0.0  0.0"
      ]
     },
     "execution_count": 28,
     "metadata": {},
     "output_type": "execute_result"
    }
   ],
   "source": [
    "test_weighted_A"
   ]
  },
  {
   "cell_type": "code",
   "execution_count": 29,
   "id": "ef06e779-4949-4142-82d8-d09836c1b6a4",
   "metadata": {},
   "outputs": [
    {
     "data": {
      "text/plain": [
       "100×1000 Matrix{Float64}:\n",
       " 0.28  0.27  0.04  0.13  0.45  0.55  …  0.3   0.41  0.32  0.54  0.0   0.46\n",
       " 0.01  0.0   0.0   0.0   0.0   0.0      0.01  0.0   0.0   0.0   0.01  0.01\n",
       " 0.57  0.21  0.54  0.16  0.07  0.57     0.26  0.08  0.67  0.69  0.19  0.66\n",
       " 0.2   0.16  0.07  0.1   0.01  0.06     0.18  0.11  0.1   0.03  0.24  0.17\n",
       " 0.0   0.01  0.01  0.01  0.01  0.01     0.0   0.01  0.01  0.01  0.01  0.0\n",
       " 0.18  0.06  0.24  0.38  0.04  0.28  …  0.09  0.11  0.28  0.32  0.1   0.04\n",
       " 0.15  0.47  0.28  0.02  0.09  0.3      0.48  0.15  0.27  0.21  0.48  0.36\n",
       " 0.43  0.01  0.34  0.19  0.25  0.2      0.23  0.4   0.25  0.28  0.45  0.06\n",
       " 0.61  0.38  0.13  0.03  0.28  0.45     0.34  0.45  0.61  0.39  0.05  0.23\n",
       " 0.05  0.23  0.09  0.16  0.09  0.16     0.3   0.18  0.32  0.09  0.01  0.3\n",
       " 0.41  0.33  0.35  0.15  0.63  0.26  …  0.15  0.59  0.32  0.2   0.41  0.08\n",
       " 0.02  0.22  0.17  0.13  0.14  0.25     0.27  0.15  0.33  0.33  0.08  0.28\n",
       " 0.45  0.13  0.52  0.33  0.19  0.14     0.21  0.13  0.01  0.42  0.23  0.33\n",
       " ⋮                             ⋮     ⋱        ⋮                       \n",
       " 0.12  0.34  0.03  0.07  0.11  0.01     0.04  0.03  0.37  0.38  0.01  0.0\n",
       " 0.5   0.47  0.52  0.05  0.28  0.05     0.37  0.19  0.45  0.43  0.43  0.41\n",
       " 0.02  0.05  0.0   0.0   0.02  0.0   …  0.02  0.03  0.05  0.04  0.06  0.06\n",
       " 0.17  0.0   0.22  0.19  0.16  0.21     0.06  0.03  0.18  0.23  0.18  0.05\n",
       " 0.07  0.05  0.15  0.13  0.13  0.06     0.02  0.11  0.19  0.19  0.06  0.17\n",
       " 0.02  0.05  0.11  0.1   0.1   0.03     0.02  0.02  0.02  0.04  0.1   0.02\n",
       " 0.35  0.71  0.31  0.09  0.18  0.52     0.04  0.21  0.58  0.25  0.44  0.56\n",
       " 0.18  0.05  0.17  0.04  0.11  0.12  …  0.17  0.15  0.06  0.05  0.14  0.18\n",
       " 0.44  0.32  0.22  0.15  0.14  0.08     0.3   0.23  0.41  0.36  0.37  0.02\n",
       " 0.1   0.48  0.47  0.09  0.18  0.04     0.02  0.39  0.39  0.24  0.25  0.19\n",
       " 0.36  0.02  0.53  0.64  0.22  0.49     0.44  0.5   0.53  0.33  0.34  0.18\n",
       " 0.6   0.63  0.67  0.0   0.05  0.62     0.35  0.78  0.75  0.44  0.6   0.02"
      ]
     },
     "execution_count": 29,
     "metadata": {},
     "output_type": "execute_result"
    }
   ],
   "source": [
    "true_weighted_A"
   ]
  },
  {
   "cell_type": "markdown",
   "id": "d291eb19-495e-4550-9f89-fde4f86c743c",
   "metadata": {},
   "source": [
    "### Test - Case3: check if the original is modified"
   ]
  },
  {
   "cell_type": "code",
   "execution_count": 30,
   "id": "aa7e0fcb-7e9d-4267-a71b-81c3217a7629",
   "metadata": {},
   "outputs": [],
   "source": [
    "test = quote\n",
    "    N = 100;\n",
    "    p = rand([2, 5]); # randomly generate the number of rows\n",
    "    A = rand([0.0, 1.0], N, p);\n",
    "    \n",
    "    w = rand([0.0, 1.0], N)\n",
    "    \n",
    "    test_weighted_A = round.(rowMultiply(A, w); digits = 2)\n",
    "    \n",
    "    rowDivide!(A, round.(1.0 ./w))\n",
    "\n",
    "    @test A == test_weighted_A;\n",
    "end;"
   ]
  },
  {
   "cell_type": "code",
   "execution_count": 31,
   "id": "e76c3991-42f2-4cdc-aca0-5f0c97bab6fb",
   "metadata": {},
   "outputs": [
    {
     "name": "stdout",
     "output_type": "stream",
     "text": [
      "\u001b[91m\u001b[1mTest Failed\u001b[22m\u001b[39m at \u001b[39m\u001b[1mIn[30]:12\u001b[22m\n",
      "  Expression: A == test_weighted_A\n",
      "   Evaluated: [0.0 0.0 … 0.0 0.0; 0.0 0.0 … 0.0 0.0; … ; 0.0 0.0 … 0.0 0.0; 1.0 0.0 … 0.0 0.0] == [0.0 0.0 … 0.0 NaN; 0.0 0.0 … 0.0 0.0; … ; 0.0 0.0 … NaN 0.0; 0.0 0.0 … 0.0 0.0]\n"
     ]
    },
    {
     "ename": "LoadError",
     "evalue": "\u001b[91mThere was an error during testing\u001b[39m",
     "output_type": "error",
     "traceback": [
      "\u001b[91mThere was an error during testing\u001b[39m",
      "",
      "Stacktrace:",
      "  [1] record(ts::Test.FallbackTestSet, t::Union{Test.Error, Test.Fail})",
      "    @ Test /Users/julia/buildbot/worker/package_macos64/build/usr/share/julia/stdlib/v1.6/Test/src/Test.jl:772",
      "  [2] do_test(result::Test.ExecutionResult, orig_expr::Any)",
      "    @ Test /Users/julia/buildbot/worker/package_macos64/build/usr/share/julia/stdlib/v1.6/Test/src/Test.jl:555",
      "  [3] top-level scope",
      "    @ In[30]:12",
      "  [4] eval",
      "    @ ./boot.jl:360 [inlined]",
      "  [5] eval",
      "    @ ./client.jl:446 [inlined]",
      "  [6] #2",
      "    @ ./none:0 [inlined]",
      "  [7] iterate",
      "    @ ./generator.jl:47 [inlined]",
      "  [8] collect(itr::Base.Generator{UnitRange{Int64}, var\"#2#3\"{Expr}})",
      "    @ Base ./array.jl:678",
      "  [9] #testHelper#1",
      "    @ ./In[3]:2 [inlined]",
      " [10] top-level scope",
      "    @ In[31]:1",
      " [11] eval",
      "    @ ./boot.jl:360 [inlined]",
      " [12] include_string(mapexpr::typeof(REPL.softscope), mod::Module, code::String, filename::String)",
      "    @ Base ./loading.jl:1116"
     ]
    }
   ],
   "source": [
    "testHelper(test; ntests = 10)"
   ]
  },
  {
   "cell_type": "markdown",
   "id": "ddf98b30-ffff-40d3-8916-76112c7b70a2",
   "metadata": {},
   "source": [
    "## TEST: shuffleVector()"
   ]
  },
  {
   "cell_type": "markdown",
   "id": "6a2a7fa9-f877-4bbe-955c-25bfdd64a1c7",
   "metadata": {},
   "source": [
    "### Test - output dimension:"
   ]
  },
  {
   "cell_type": "code",
   "execution_count": 32,
   "id": "8147e18b-2eef-4005-b718-c81bb5770bbb",
   "metadata": {},
   "outputs": [],
   "source": [
    "test_1 = quote\n",
    "    N = 100;\n",
    "    p = 1;\n",
    "    A = rand([0.0, 1.0], N, p) |> vec; # fixed to be a vector\n",
    "    rng = MersenneTwister();\n",
    "    \n",
    "    result = shuffleVector(rng, A, 5);\n",
    "    \n",
    "    \n",
    "    @test size(result) == (N, 6);\n",
    "end;"
   ]
  },
  {
   "cell_type": "code",
   "execution_count": 33,
   "id": "7d9f5d36-5071-401b-bc78-f9b9224afceb",
   "metadata": {},
   "outputs": [
    {
     "data": {
      "text/plain": [
       "1-element Vector{Test.Pass}:\n",
       " \u001b[32m\u001b[1mTest Passed\u001b[22m\u001b[39m"
      ]
     },
     "execution_count": 33,
     "metadata": {},
     "output_type": "execute_result"
    }
   ],
   "source": [
    "testHelper(test_1, ntests = 1)"
   ]
  },
  {
   "cell_type": "markdown",
   "id": "023fccf5-2c2e-4fb3-9bce-a206be3e1d22",
   "metadata": {},
   "source": [
    "- Test of sum..."
   ]
  },
  {
   "cell_type": "code",
   "execution_count": 34,
   "id": "d1cc17b9-42ff-43fb-b274-eb7030e1271e",
   "metadata": {},
   "outputs": [],
   "source": [
    "test_2 = quote\n",
    "    N = 100;\n",
    "    p = 1;\n",
    "    A = rand([0.0, 1.0], N, p) |> vec; # fixed to be a vector\n",
    "    rng = MersenneTwister();\n",
    "    \n",
    "    result = shuffleVector(rng, A, 5);\n",
    "    \n",
    "    colSums = sum(result, dims = 1) |> vec;\n",
    "    \n",
    "    @test (colSums./colSums[1]) == ones(6);\n",
    "end;"
   ]
  },
  {
   "cell_type": "code",
   "execution_count": 35,
   "id": "390c6066-3837-4a3a-95ff-b39d8116cac6",
   "metadata": {},
   "outputs": [
    {
     "data": {
      "text/plain": [
       "10-element Vector{Test.Pass}:\n",
       " \u001b[32m\u001b[1mTest Passed\u001b[22m\u001b[39m\n",
       " \u001b[32m\u001b[1mTest Passed\u001b[22m\u001b[39m\n",
       " \u001b[32m\u001b[1mTest Passed\u001b[22m\u001b[39m\n",
       " \u001b[32m\u001b[1mTest Passed\u001b[22m\u001b[39m\n",
       " \u001b[32m\u001b[1mTest Passed\u001b[22m\u001b[39m\n",
       " \u001b[32m\u001b[1mTest Passed\u001b[22m\u001b[39m\n",
       " \u001b[32m\u001b[1mTest Passed\u001b[22m\u001b[39m\n",
       " \u001b[32m\u001b[1mTest Passed\u001b[22m\u001b[39m\n",
       " \u001b[32m\u001b[1mTest Passed\u001b[22m\u001b[39m\n",
       " \u001b[32m\u001b[1mTest Passed\u001b[22m\u001b[39m"
      ]
     },
     "execution_count": 35,
     "metadata": {},
     "output_type": "execute_result"
    }
   ],
   "source": [
    "testHelper(test_2, ntests = 10)"
   ]
  },
  {
   "cell_type": "markdown",
   "id": "a046b304-f240-400f-973c-c4ba5ca11254",
   "metadata": {},
   "source": [
    "- Test of pairwise correlations:"
   ]
  },
  {
   "cell_type": "code",
   "execution_count": 36,
   "id": "410ba546-b172-4b67-a15b-4edbf929a8b7",
   "metadata": {},
   "outputs": [],
   "source": [
    "test_3 = quote \n",
    "    N = 100;\n",
    "    p = 1;\n",
    "    A = rand([0.0, 1.0], N, p) |> vec; # fixed to be a vector\n",
    "    result = shuffleVector(MersenneTwister(), A, 5);\n",
    "    \n",
    "    PartCorr_A = tril(cor(result), -1) |> vec;\n",
    "    \n",
    "    test_t_vals = mapslices(PartCorr_A) do x\n",
    "        x * sqrt(98.0/(1.0-x^2))\n",
    "    end;\n",
    "    \n",
    "    histgram(test_t_vals)\n",
    "end;"
   ]
  },
  {
   "cell_type": "markdown",
   "id": "29781a5a-dde9-44c3-892f-d244238db359",
   "metadata": {},
   "source": [
    "## TEST: compareValues()"
   ]
  },
  {
   "cell_type": "markdown",
   "id": "ae826f0a-1e58-48a2-b2a9-e2c69bcf2f26",
   "metadata": {},
   "source": [
    "### Test:"
   ]
  },
  {
   "cell_type": "code",
   "execution_count": null,
   "id": "49fd7299-c819-4fd3-930d-0ee9a76981e7",
   "metadata": {},
   "outputs": [],
   "source": []
  }
 ],
 "metadata": {
  "kernelspec": {
   "display_name": "Julia 1.7.3",
   "language": "julia",
   "name": "julia-1.7"
  },
  "language_info": {
   "file_extension": ".jl",
   "mimetype": "application/julia",
   "name": "julia",
   "version": "1.7.3"
  },
  "toc-autonumbering": false
 },
 "nbformat": 4,
 "nbformat_minor": 5
}
