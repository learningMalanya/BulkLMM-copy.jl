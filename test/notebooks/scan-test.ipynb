{
 "cells": [
  {
   "cell_type": "markdown",
   "id": "f5bfefd6-5b9a-4748-a16b-4d1565926645",
   "metadata": {},
   "source": [
    "# Testings and benchmarkings for univariate scan functions"
   ]
  },
  {
   "cell_type": "markdown",
   "id": "e0568a9d-0155-4d97-8f03-9e05ec5d8d9a",
   "metadata": {},
   "source": [
    "We will be using the BXD data for testing purposes. In this notebook, we are testing the univariate scan functionalities, by performing the functions on the 108th BXD trait. "
   ]
  },
  {
   "cell_type": "markdown",
   "id": "05711c8a-0b65-4a51-9de7-e9e21f1dc83c",
   "metadata": {},
   "source": [
    "## Preparation:"
   ]
  },
  {
   "cell_type": "code",
   "execution_count": 1,
   "id": "346c0b6c-7650-4f73-8fbf-46019bb7bd96",
   "metadata": {},
   "outputs": [
    {
     "data": {
      "text/plain": [
       "\"/Users/zifanyu/Documents/GitHub/BulkLMM.jl/test/notebooks\""
      ]
     },
     "execution_count": 1,
     "metadata": {},
     "output_type": "execute_result"
    }
   ],
   "source": [
    "pwd()"
   ]
  },
  {
   "cell_type": "code",
   "execution_count": 2,
   "id": "3a8bbe07-b3bc-4f54-b979-808fd342159f",
   "metadata": {},
   "outputs": [],
   "source": [
    "cd(\"..\")"
   ]
  },
  {
   "cell_type": "code",
   "execution_count": 3,
   "id": "2312f3c9-4107-4a05-a761-6ef96d3b36aa",
   "metadata": {},
   "outputs": [],
   "source": [
    "include(\"BXDdata_for_test.jl\"); ## Load BXD data used for testing:"
   ]
  },
  {
   "cell_type": "code",
   "execution_count": 4,
   "id": "c3d381c2-bb70-4fa4-8ac4-97c0d4e9aa76",
   "metadata": {},
   "outputs": [],
   "source": [
    "include(\"../src/parallel_helpers.jl\");"
   ]
  },
  {
   "cell_type": "code",
   "execution_count": 5,
   "id": "bbb68a18-f613-4e17-a6b7-21194c65acb3",
   "metadata": {},
   "outputs": [],
   "source": [
    "kinship_Gc = CSV.read(\"run-gemma/output/kinship.cXX.txt\", DataFrame, delim = '\\t', header = false) |> Matrix;"
   ]
  },
  {
   "cell_type": "code",
   "execution_count": 6,
   "id": "b3463a16-57c9-4a33-9cfb-ef2c1f79d512",
   "metadata": {},
   "outputs": [],
   "source": [
    "using Test\n",
    "using Plots"
   ]
  },
  {
   "cell_type": "code",
   "execution_count": 8,
   "id": "bc491056-5789-43a2-bae6-94d9eb318e61",
   "metadata": {},
   "outputs": [],
   "source": [
    "pheno_y = reshape(pheno[:, 108], :, 1);\n",
    "(y0, X0, lambda0) = transform_rotation(pheno_y, geno, kinship_Gc); # by default will add an intercept to geno\n",
    "X0_intercept = reshape(X0[:, 1], :, 1);\n",
    "X0_covar = X0[:, 2:end];"
   ]
  },
  {
   "cell_type": "markdown",
   "id": "86a7dc3c-b68d-4e0c-87b3-fb5e38ac4cfa",
   "metadata": {},
   "source": [
    "## Test simple scans:"
   ]
  },
  {
   "cell_type": "code",
   "execution_count": 10,
   "id": "86d4a8ef-550b-487b-af43-db45e36cada9",
   "metadata": {},
   "outputs": [
    {
     "name": "stdout",
     "output_type": "stream",
     "text": [
      "  1.971169 seconds (5.79 M allocations: 2.600 GiB, 16.00% gc time)\n"
     ]
    }
   ],
   "source": [
    "@time test_alt = scan(pheno_y, geno, kinship_Gc; reml = false, assumption = \"alt\", method = \"qr\");"
   ]
  },
  {
   "cell_type": "code",
   "execution_count": 20,
   "id": "2f9c8ca4-049d-4bff-9a5d-12168f0316d1",
   "metadata": {},
   "outputs": [],
   "source": [
    "lods_alt = test_alt[4];"
   ]
  },
  {
   "cell_type": "code",
   "execution_count": 58,
   "id": "cd303106-98cb-438d-a193-264c63d1d66e",
   "metadata": {},
   "outputs": [
    {
     "data": {
      "text/plain": [
       "241-element Vector{Int64}:\n",
       "  229\n",
       "  230\n",
       "  231\n",
       "  232\n",
       "  233\n",
       "  234\n",
       "  235\n",
       "  236\n",
       "  237\n",
       "  238\n",
       "  239\n",
       "  240\n",
       "  241\n",
       "    ⋮\n",
       " 6112\n",
       " 6113\n",
       " 6114\n",
       " 6115\n",
       " 6116\n",
       " 6117\n",
       " 6118\n",
       " 6119\n",
       " 6123\n",
       " 6124\n",
       " 7227\n",
       " 7228"
      ]
     },
     "execution_count": 58,
     "metadata": {},
     "output_type": "execute_result"
    }
   ],
   "source": [
    "findall(lods_alt .< 0) # confirm that uncorrected solution contains invalid LOD scores"
   ]
  },
  {
   "cell_type": "markdown",
   "id": "c715e6ad-144b-4bc6-836f-cd6e52556b4e",
   "metadata": {},
   "source": [
    "perform correction by taking $(var(y_{108}), 0.1)$"
   ]
  },
  {
   "cell_type": "code",
   "execution_count": 22,
   "id": "08385f4f-09ca-4b57-a583-f6bf01f9efb8",
   "metadata": {},
   "outputs": [
    {
     "data": {
      "text/plain": [
       "1.6944289276209026"
      ]
     },
     "execution_count": 22,
     "metadata": {},
     "output_type": "execute_result"
    }
   ],
   "source": [
    "var(pheno_y)"
   ]
  },
  {
   "cell_type": "code",
   "execution_count": 23,
   "id": "1a2937ed-42f9-42c9-9ea2-f5287a942228",
   "metadata": {},
   "outputs": [
    {
     "data": {
      "text/plain": [
       "2-element Vector{Float64}:\n",
       " 1.6944289276209026\n",
       " 0.1"
      ]
     },
     "execution_count": 23,
     "metadata": {},
     "output_type": "execute_result"
    }
   ],
   "source": [
    "prior = [var(pheno_y), 1/10]"
   ]
  },
  {
   "cell_type": "code",
   "execution_count": 18,
   "id": "5016bbe2-f7fb-4b55-8e4c-b3478ee4fde4",
   "metadata": {},
   "outputs": [
    {
     "name": "stdout",
     "output_type": "stream",
     "text": [
      "  0.856707 seconds (2.63 M allocations: 1.180 GiB, 15.98% gc time)\n"
     ]
    }
   ],
   "source": [
    "@time test_alt_corrected = scan(pheno_y, geno, kinship_Gc; prior_a = prior[1], prior_b = prior[2], reml = false, assumption = \"alt\", method = \"qr\");"
   ]
  },
  {
   "cell_type": "code",
   "execution_count": 24,
   "id": "eebe79a4-8473-424e-a1cc-5312a269718d",
   "metadata": {},
   "outputs": [],
   "source": [
    "lods_alt_corrected = test_alt_corrected[4];"
   ]
  },
  {
   "cell_type": "code",
   "execution_count": 25,
   "id": "0e54f5a0-305b-4c59-991b-168f4bfc9830",
   "metadata": {},
   "outputs": [
    {
     "data": {
      "text/plain": [
       "Int64[]"
      ]
     },
     "execution_count": 25,
     "metadata": {},
     "output_type": "execute_result"
    }
   ],
   "source": [
    "findall(lods_alt_corrected .< 0)"
   ]
  },
  {
   "cell_type": "code",
   "execution_count": 29,
   "id": "c9e89a70-a6b1-4a3b-a544-6bf758f21f73",
   "metadata": {},
   "outputs": [
    {
     "data": {
      "text/plain": [
       "7321×2 Matrix{Float64}:\n",
       " 0.0219153  0.0199953\n",
       " 0.0219153  0.0199953\n",
       " 0.0219153  0.0199953\n",
       " 0.0219153  0.0199953\n",
       " 0.0219153  0.0199953\n",
       " 0.0219153  0.0199953\n",
       " 0.0219153  0.0199953\n",
       " 0.0219153  0.0199953\n",
       " 0.0219153  0.0199953\n",
       " 0.0219153  0.0199953\n",
       " 0.0219153  0.0199953\n",
       " 0.021912   0.0199922\n",
       " 0.0567256  0.0417663\n",
       " ⋮          \n",
       " 0.248678   0.263758\n",
       " 0.248678   0.263758\n",
       " 0.248678   0.263758\n",
       " 0.0686881  0.122407\n",
       " 0.124881   0.136544\n",
       " 0.124881   0.136544\n",
       " 0.249213   0.255818\n",
       " 0.273645   0.288192\n",
       " 0.271594   0.285219\n",
       " 0.285893   0.309153\n",
       " 0.229505   0.219606\n",
       " 0.229505   0.219606"
      ]
     },
     "execution_count": 29,
     "metadata": {},
     "output_type": "execute_result"
    }
   ],
   "source": [
    "hcat(lods_alt, lods_alt_corrected)"
   ]
  },
  {
   "cell_type": "code",
   "execution_count": 27,
   "id": "5168c0e7-5f3e-435d-9952-50da51d04eb2",
   "metadata": {},
   "outputs": [
    {
     "data": {
      "text/plain": [
       "BenchmarkTools.Trial: 3 samples with 1 evaluation.\n",
       " Range \u001b[90m(\u001b[39m\u001b[36m\u001b[1mmin\u001b[22m\u001b[39m … \u001b[35mmax\u001b[39m\u001b[90m):  \u001b[39m\u001b[36m\u001b[1m1.745 s\u001b[22m\u001b[39m … \u001b[35m  1.780 s\u001b[39m  \u001b[90m┊\u001b[39m GC \u001b[90m(\u001b[39mmin … max\u001b[90m): \u001b[39m12.12% … 11.32%\n",
       " Time  \u001b[90m(\u001b[39m\u001b[34m\u001b[1mmedian\u001b[22m\u001b[39m\u001b[90m):     \u001b[39m\u001b[34m\u001b[1m1.751 s              \u001b[22m\u001b[39m\u001b[90m┊\u001b[39m GC \u001b[90m(\u001b[39mmedian\u001b[90m):    \u001b[39m12.08%\n",
       " Time  \u001b[90m(\u001b[39m\u001b[32m\u001b[1mmean\u001b[22m\u001b[39m ± \u001b[32mσ\u001b[39m\u001b[90m):   \u001b[39m\u001b[32m\u001b[1m1.759 s\u001b[22m\u001b[39m ± \u001b[32m18.314 ms\u001b[39m  \u001b[90m┊\u001b[39m GC \u001b[90m(\u001b[39mmean ± σ\u001b[90m):  \u001b[39m11.86% ±  0.47%\n",
       "\n",
       "  \u001b[34m█\u001b[39m\u001b[39m \u001b[39m \u001b[39m \u001b[39m \u001b[39m \u001b[39m \u001b[39m \u001b[39m \u001b[39m█\u001b[39m \u001b[39m \u001b[39m \u001b[39m \u001b[39m \u001b[39m \u001b[39m \u001b[39m \u001b[39m \u001b[39m \u001b[39m \u001b[39m \u001b[32m \u001b[39m\u001b[39m \u001b[39m \u001b[39m \u001b[39m \u001b[39m \u001b[39m \u001b[39m \u001b[39m \u001b[39m \u001b[39m \u001b[39m \u001b[39m \u001b[39m \u001b[39m \u001b[39m \u001b[39m \u001b[39m \u001b[39m \u001b[39m \u001b[39m \u001b[39m \u001b[39m \u001b[39m \u001b[39m \u001b[39m \u001b[39m \u001b[39m \u001b[39m \u001b[39m \u001b[39m \u001b[39m \u001b[39m \u001b[39m \u001b[39m█\u001b[39m \u001b[39m \n",
       "  \u001b[34m█\u001b[39m\u001b[39m▁\u001b[39m▁\u001b[39m▁\u001b[39m▁\u001b[39m▁\u001b[39m▁\u001b[39m▁\u001b[39m▁\u001b[39m█\u001b[39m▁\u001b[39m▁\u001b[39m▁\u001b[39m▁\u001b[39m▁\u001b[39m▁\u001b[39m▁\u001b[39m▁\u001b[39m▁\u001b[39m▁\u001b[39m▁\u001b[39m▁\u001b[32m▁\u001b[39m\u001b[39m▁\u001b[39m▁\u001b[39m▁\u001b[39m▁\u001b[39m▁\u001b[39m▁\u001b[39m▁\u001b[39m▁\u001b[39m▁\u001b[39m▁\u001b[39m▁\u001b[39m▁\u001b[39m▁\u001b[39m▁\u001b[39m▁\u001b[39m▁\u001b[39m▁\u001b[39m▁\u001b[39m▁\u001b[39m▁\u001b[39m▁\u001b[39m▁\u001b[39m▁\u001b[39m▁\u001b[39m▁\u001b[39m▁\u001b[39m▁\u001b[39m▁\u001b[39m▁\u001b[39m▁\u001b[39m▁\u001b[39m▁\u001b[39m▁\u001b[39m█\u001b[39m \u001b[39m▁\n",
       "  1.75 s\u001b[90m         Histogram: frequency by time\u001b[39m        1.78 s \u001b[0m\u001b[1m<\u001b[22m\n",
       "\n",
       " Memory estimate\u001b[90m: \u001b[39m\u001b[33m2.60 GiB\u001b[39m, allocs estimate\u001b[90m: \u001b[39m\u001b[33m5791909\u001b[39m."
      ]
     },
     "execution_count": 27,
     "metadata": {},
     "output_type": "execute_result"
    }
   ],
   "source": [
    "@benchmark scan(pheno_y, geno, kinship_Gc; reml = false, assumption = \"alt\", method = \"qr\")"
   ]
  },
  {
   "cell_type": "code",
   "execution_count": 28,
   "id": "e0e05e5b-a9b0-4bd7-bcd9-218a38426b81",
   "metadata": {},
   "outputs": [
    {
     "data": {
      "text/plain": [
       "BenchmarkTools.Trial: 7 samples with 1 evaluation.\n",
       " Range \u001b[90m(\u001b[39m\u001b[36m\u001b[1mmin\u001b[22m\u001b[39m … \u001b[35mmax\u001b[39m\u001b[90m):  \u001b[39m\u001b[36m\u001b[1m807.245 ms\u001b[22m\u001b[39m … \u001b[35m843.856 ms\u001b[39m  \u001b[90m┊\u001b[39m GC \u001b[90m(\u001b[39mmin … max\u001b[90m): \u001b[39m12.93% … 14.11%\n",
       " Time  \u001b[90m(\u001b[39m\u001b[34m\u001b[1mmedian\u001b[22m\u001b[39m\u001b[90m):     \u001b[39m\u001b[34m\u001b[1m822.348 ms               \u001b[22m\u001b[39m\u001b[90m┊\u001b[39m GC \u001b[90m(\u001b[39mmedian\u001b[90m):    \u001b[39m12.70%\n",
       " Time  \u001b[90m(\u001b[39m\u001b[32m\u001b[1mmean\u001b[22m\u001b[39m ± \u001b[32mσ\u001b[39m\u001b[90m):   \u001b[39m\u001b[32m\u001b[1m826.035 ms\u001b[22m\u001b[39m ± \u001b[32m 12.374 ms\u001b[39m  \u001b[90m┊\u001b[39m GC \u001b[90m(\u001b[39mmean ± σ\u001b[90m):  \u001b[39m12.85% ±  0.89%\n",
       "\n",
       "  \u001b[39m█\u001b[39m \u001b[39m \u001b[39m \u001b[39m \u001b[39m \u001b[39m \u001b[39m \u001b[39m \u001b[39m \u001b[39m \u001b[39m \u001b[39m \u001b[39m \u001b[39m \u001b[39m \u001b[39m \u001b[39m \u001b[39m \u001b[39m \u001b[39m█\u001b[34m█\u001b[39m\u001b[39m \u001b[39m \u001b[39m \u001b[39m█\u001b[39m \u001b[39m \u001b[39m \u001b[39m \u001b[39m \u001b[32m \u001b[39m\u001b[39m \u001b[39m \u001b[39m \u001b[39m \u001b[39m \u001b[39m \u001b[39m \u001b[39m \u001b[39m \u001b[39m \u001b[39m \u001b[39m█\u001b[39m \u001b[39m \u001b[39m \u001b[39m \u001b[39m█\u001b[39m \u001b[39m \u001b[39m \u001b[39m \u001b[39m \u001b[39m \u001b[39m \u001b[39m \u001b[39m \u001b[39m \u001b[39m \u001b[39m█\u001b[39m \u001b[39m \n",
       "  \u001b[39m█\u001b[39m▁\u001b[39m▁\u001b[39m▁\u001b[39m▁\u001b[39m▁\u001b[39m▁\u001b[39m▁\u001b[39m▁\u001b[39m▁\u001b[39m▁\u001b[39m▁\u001b[39m▁\u001b[39m▁\u001b[39m▁\u001b[39m▁\u001b[39m▁\u001b[39m▁\u001b[39m▁\u001b[39m▁\u001b[39m█\u001b[34m█\u001b[39m\u001b[39m▁\u001b[39m▁\u001b[39m▁\u001b[39m█\u001b[39m▁\u001b[39m▁\u001b[39m▁\u001b[39m▁\u001b[39m▁\u001b[32m▁\u001b[39m\u001b[39m▁\u001b[39m▁\u001b[39m▁\u001b[39m▁\u001b[39m▁\u001b[39m▁\u001b[39m▁\u001b[39m▁\u001b[39m▁\u001b[39m▁\u001b[39m▁\u001b[39m█\u001b[39m▁\u001b[39m▁\u001b[39m▁\u001b[39m▁\u001b[39m█\u001b[39m▁\u001b[39m▁\u001b[39m▁\u001b[39m▁\u001b[39m▁\u001b[39m▁\u001b[39m▁\u001b[39m▁\u001b[39m▁\u001b[39m▁\u001b[39m▁\u001b[39m█\u001b[39m \u001b[39m▁\n",
       "  807 ms\u001b[90m           Histogram: frequency by time\u001b[39m          844 ms \u001b[0m\u001b[1m<\u001b[22m\n",
       "\n",
       " Memory estimate\u001b[90m: \u001b[39m\u001b[33m1.18 GiB\u001b[39m, allocs estimate\u001b[90m: \u001b[39m\u001b[33m2625680\u001b[39m."
      ]
     },
     "execution_count": 28,
     "metadata": {},
     "output_type": "execute_result"
    }
   ],
   "source": [
    "@benchmark scan(pheno_y, geno, kinship_Gc; prior_a = prior[1], prior_b = prior[2], reml = false, assumption = \"alt\", method = \"qr\")"
   ]
  },
  {
   "cell_type": "code",
   "execution_count": 35,
   "id": "a529b2b4-68c6-4828-8b6c-c12947ba7262",
   "metadata": {},
   "outputs": [
    {
     "data": {
      "text/plain": [
       "BenchmarkTools.Trial: 10 samples with 1 evaluation.\n",
       " Range \u001b[90m(\u001b[39m\u001b[36m\u001b[1mmin\u001b[22m\u001b[39m … \u001b[35mmax\u001b[39m\u001b[90m):  \u001b[39m\u001b[36m\u001b[1m534.107 ms\u001b[22m\u001b[39m … \u001b[35m588.627 ms\u001b[39m  \u001b[90m┊\u001b[39m GC \u001b[90m(\u001b[39mmin … max\u001b[90m): \u001b[39m14.44% … 17.93%\n",
       " Time  \u001b[90m(\u001b[39m\u001b[34m\u001b[1mmedian\u001b[22m\u001b[39m\u001b[90m):     \u001b[39m\u001b[34m\u001b[1m555.800 ms               \u001b[22m\u001b[39m\u001b[90m┊\u001b[39m GC \u001b[90m(\u001b[39mmedian\u001b[90m):    \u001b[39m15.49%\n",
       " Time  \u001b[90m(\u001b[39m\u001b[32m\u001b[1mmean\u001b[22m\u001b[39m ± \u001b[32mσ\u001b[39m\u001b[90m):   \u001b[39m\u001b[32m\u001b[1m556.603 ms\u001b[22m\u001b[39m ± \u001b[32m 13.846 ms\u001b[39m  \u001b[90m┊\u001b[39m GC \u001b[90m(\u001b[39mmean ± σ\u001b[90m):  \u001b[39m15.51% ±  1.24%\n",
       "\n",
       "  \u001b[39m█\u001b[39m \u001b[39m \u001b[39m \u001b[39m \u001b[39m \u001b[39m \u001b[39m \u001b[39m \u001b[39m \u001b[39m \u001b[39m \u001b[39m \u001b[39m█\u001b[39m \u001b[39m \u001b[39m \u001b[39m \u001b[39m \u001b[39m \u001b[39m█\u001b[39m \u001b[39m█\u001b[39m█\u001b[34m█\u001b[39m\u001b[32m█\u001b[39m\u001b[39m█\u001b[39m \u001b[39m \u001b[39m \u001b[39m \u001b[39m \u001b[39m \u001b[39m█\u001b[39m \u001b[39m \u001b[39m \u001b[39m \u001b[39m \u001b[39m \u001b[39m \u001b[39m \u001b[39m \u001b[39m \u001b[39m \u001b[39m \u001b[39m \u001b[39m \u001b[39m \u001b[39m \u001b[39m \u001b[39m \u001b[39m \u001b[39m \u001b[39m \u001b[39m \u001b[39m \u001b[39m \u001b[39m \u001b[39m \u001b[39m█\u001b[39m \u001b[39m \n",
       "  \u001b[39m█\u001b[39m▁\u001b[39m▁\u001b[39m▁\u001b[39m▁\u001b[39m▁\u001b[39m▁\u001b[39m▁\u001b[39m▁\u001b[39m▁\u001b[39m▁\u001b[39m▁\u001b[39m▁\u001b[39m█\u001b[39m▁\u001b[39m▁\u001b[39m▁\u001b[39m▁\u001b[39m▁\u001b[39m▁\u001b[39m█\u001b[39m▁\u001b[39m█\u001b[39m█\u001b[34m█\u001b[39m\u001b[32m█\u001b[39m\u001b[39m█\u001b[39m▁\u001b[39m▁\u001b[39m▁\u001b[39m▁\u001b[39m▁\u001b[39m▁\u001b[39m█\u001b[39m▁\u001b[39m▁\u001b[39m▁\u001b[39m▁\u001b[39m▁\u001b[39m▁\u001b[39m▁\u001b[39m▁\u001b[39m▁\u001b[39m▁\u001b[39m▁\u001b[39m▁\u001b[39m▁\u001b[39m▁\u001b[39m▁\u001b[39m▁\u001b[39m▁\u001b[39m▁\u001b[39m▁\u001b[39m▁\u001b[39m▁\u001b[39m▁\u001b[39m▁\u001b[39m▁\u001b[39m▁\u001b[39m▁\u001b[39m█\u001b[39m \u001b[39m▁\n",
       "  534 ms\u001b[90m           Histogram: frequency by time\u001b[39m          589 ms \u001b[0m\u001b[1m<\u001b[22m\n",
       "\n",
       " Memory estimate\u001b[90m: \u001b[39m\u001b[33m935.14 MiB\u001b[39m, allocs estimate\u001b[90m: \u001b[39m\u001b[33m2256464\u001b[39m."
      ]
     },
     "execution_count": 35,
     "metadata": {},
     "output_type": "execute_result"
    }
   ],
   "source": [
    "@benchmark scan(pheno_y, geno, kinship_Gc; prior_a = prior[1], prior_b = prior[2], reml = false, assumption = \"alt\", method = \"cholesky\")"
   ]
  },
  {
   "cell_type": "code",
   "execution_count": 36,
   "id": "c62bb93c-b780-454a-b3c4-4968fafc4c19",
   "metadata": {},
   "outputs": [
    {
     "data": {
      "text/plain": [
       "BenchmarkTools.Trial: 221 samples with 1 evaluation.\n",
       " Range \u001b[90m(\u001b[39m\u001b[36m\u001b[1mmin\u001b[22m\u001b[39m … \u001b[35mmax\u001b[39m\u001b[90m):  \u001b[39m\u001b[36m\u001b[1m19.601 ms\u001b[22m\u001b[39m … \u001b[35m30.492 ms\u001b[39m  \u001b[90m┊\u001b[39m GC \u001b[90m(\u001b[39mmin … max\u001b[90m): \u001b[39m 0.00% … 15.63%\n",
       " Time  \u001b[90m(\u001b[39m\u001b[34m\u001b[1mmedian\u001b[22m\u001b[39m\u001b[90m):     \u001b[39m\u001b[34m\u001b[1m20.799 ms              \u001b[22m\u001b[39m\u001b[90m┊\u001b[39m GC \u001b[90m(\u001b[39mmedian\u001b[90m):    \u001b[39m 0.00%\n",
       " Time  \u001b[90m(\u001b[39m\u001b[32m\u001b[1mmean\u001b[22m\u001b[39m ± \u001b[32mσ\u001b[39m\u001b[90m):   \u001b[39m\u001b[32m\u001b[1m22.608 ms\u001b[22m\u001b[39m ± \u001b[32m 2.669 ms\u001b[39m  \u001b[90m┊\u001b[39m GC \u001b[90m(\u001b[39mmean ± σ\u001b[90m):  \u001b[39m10.01% ±  9.77%\n",
       "\n",
       "  \u001b[39m \u001b[39m▁\u001b[39m█\u001b[39m▂\u001b[39m▁\u001b[39m \u001b[39m▂\u001b[39m \u001b[34m \u001b[39m\u001b[39m \u001b[39m \u001b[39m \u001b[39m \u001b[39m \u001b[39m \u001b[39m \u001b[39m \u001b[39m \u001b[39m \u001b[39m \u001b[32m \u001b[39m\u001b[39m \u001b[39m \u001b[39m \u001b[39m \u001b[39m \u001b[39m \u001b[39m \u001b[39m \u001b[39m \u001b[39m \u001b[39m \u001b[39m \u001b[39m \u001b[39m \u001b[39m \u001b[39m \u001b[39m \u001b[39m \u001b[39m \u001b[39m \u001b[39m \u001b[39m \u001b[39m \u001b[39m \u001b[39m \u001b[39m \u001b[39m \u001b[39m \u001b[39m \u001b[39m \u001b[39m \u001b[39m \u001b[39m \u001b[39m \u001b[39m \u001b[39m \u001b[39m \u001b[39m \u001b[39m \u001b[39m \n",
       "  \u001b[39m▅\u001b[39m█\u001b[39m█\u001b[39m█\u001b[39m█\u001b[39m▇\u001b[39m█\u001b[39m█\u001b[34m▃\u001b[39m\u001b[39m▃\u001b[39m▃\u001b[39m▁\u001b[39m▃\u001b[39m▁\u001b[39m▁\u001b[39m▁\u001b[39m▁\u001b[39m▁\u001b[39m▁\u001b[39m▁\u001b[32m▁\u001b[39m\u001b[39m▁\u001b[39m▁\u001b[39m▁\u001b[39m▁\u001b[39m▁\u001b[39m▁\u001b[39m▃\u001b[39m▄\u001b[39m▄\u001b[39m▇\u001b[39m█\u001b[39m▆\u001b[39m█\u001b[39m█\u001b[39m▄\u001b[39m▆\u001b[39m▅\u001b[39m▃\u001b[39m▄\u001b[39m▃\u001b[39m▃\u001b[39m▄\u001b[39m▃\u001b[39m▃\u001b[39m▃\u001b[39m▃\u001b[39m▁\u001b[39m▁\u001b[39m▃\u001b[39m▁\u001b[39m▁\u001b[39m▃\u001b[39m▃\u001b[39m▃\u001b[39m▃\u001b[39m▁\u001b[39m▁\u001b[39m▄\u001b[39m \u001b[39m▃\n",
       "  19.6 ms\u001b[90m         Histogram: frequency by time\u001b[39m        28.6 ms \u001b[0m\u001b[1m<\u001b[22m\n",
       "\n",
       " Memory estimate\u001b[90m: \u001b[39m\u001b[33m33.18 MiB\u001b[39m, allocs estimate\u001b[90m: \u001b[39m\u001b[33m73514\u001b[39m."
      ]
     },
     "execution_count": 36,
     "metadata": {},
     "output_type": "execute_result"
    }
   ],
   "source": [
    "@benchmark scan(pheno_y, geno, kinship_Gc; prior_a = prior[1], prior_b = prior[2], reml = false, assumption = \"null\", method = \"cholesky\")"
   ]
  },
  {
   "cell_type": "markdown",
   "id": "065a9d15-1518-41a0-9574-e7c70caac6eb",
   "metadata": {},
   "source": [
    "## Test scan with permutations:"
   ]
  },
  {
   "cell_type": "code",
   "execution_count": null,
   "id": "47c228d4-fead-4640-84b7-cadadd414722",
   "metadata": {},
   "outputs": [],
   "source": []
  },
  {
   "cell_type": "code",
   "execution_count": null,
   "id": "c4633d8f-ce0c-48b5-a10d-79714fbfa64d",
   "metadata": {},
   "outputs": [],
   "source": []
  },
  {
   "cell_type": "code",
   "execution_count": null,
   "id": "20a68469-f2e9-4cb7-bafc-3f3f715d4fe6",
   "metadata": {},
   "outputs": [],
   "source": []
  },
  {
   "cell_type": "code",
   "execution_count": null,
   "id": "ba89d735-0f22-456d-ac4e-e5999bdb0f72",
   "metadata": {},
   "outputs": [],
   "source": []
  },
  {
   "cell_type": "code",
   "execution_count": null,
   "id": "c1b6ef1c-20bc-41b1-ad1c-5e7ded10f943",
   "metadata": {},
   "outputs": [],
   "source": []
  },
  {
   "cell_type": "code",
   "execution_count": null,
   "id": "1f0a525e-b390-4758-9e9b-b05618e72acc",
   "metadata": {},
   "outputs": [],
   "source": []
  },
  {
   "cell_type": "code",
   "execution_count": null,
   "id": "9902069e-1fd9-40f3-929e-8f6021137d47",
   "metadata": {},
   "outputs": [],
   "source": []
  },
  {
   "cell_type": "code",
   "execution_count": null,
   "id": "bf1f8fee-16af-4276-ab67-a5c3b55e92ea",
   "metadata": {},
   "outputs": [],
   "source": []
  },
  {
   "cell_type": "code",
   "execution_count": null,
   "id": "57e41897-cc80-468d-8b2f-98631b7dd8a5",
   "metadata": {},
   "outputs": [],
   "source": []
  },
  {
   "cell_type": "code",
   "execution_count": null,
   "id": "7f1f1013-e152-4a20-8d6c-3c4bcd89252f",
   "metadata": {},
   "outputs": [],
   "source": []
  },
  {
   "cell_type": "code",
   "execution_count": null,
   "id": "ff8a9f53-4292-47db-af96-d6eedd26facb",
   "metadata": {},
   "outputs": [],
   "source": []
  },
  {
   "cell_type": "code",
   "execution_count": null,
   "id": "a6c568e4-cd59-4b28-85e7-62e5677fca3a",
   "metadata": {},
   "outputs": [],
   "source": []
  },
  {
   "cell_type": "code",
   "execution_count": null,
   "id": "a5702c7a-fc9b-44c7-bfcc-95d018a57a6b",
   "metadata": {},
   "outputs": [],
   "source": []
  },
  {
   "cell_type": "code",
   "execution_count": null,
   "id": "928a851c-f6f7-45fe-804c-92bed15cd411",
   "metadata": {},
   "outputs": [],
   "source": []
  },
  {
   "cell_type": "code",
   "execution_count": null,
   "id": "8d3b445c-f31a-4e6a-ae7b-f063c39148e0",
   "metadata": {},
   "outputs": [],
   "source": []
  },
  {
   "cell_type": "code",
   "execution_count": null,
   "id": "3ccf036c-c2e5-4269-91d5-278f6c87b3a3",
   "metadata": {},
   "outputs": [],
   "source": []
  },
  {
   "cell_type": "code",
   "execution_count": null,
   "id": "cb806e43-b854-4714-9604-a36952b47978",
   "metadata": {},
   "outputs": [],
   "source": []
  },
  {
   "cell_type": "code",
   "execution_count": null,
   "id": "f8c4a264-7086-4b3f-9677-830b352abe11",
   "metadata": {},
   "outputs": [],
   "source": []
  },
  {
   "cell_type": "markdown",
   "id": "b73ff2c5-25b9-44b6-a7b2-547f438874d0",
   "metadata": {
    "jp-MarkdownHeadingCollapsed": true,
    "tags": []
   },
   "source": [
    "## Exploring the batching idea:"
   ]
  },
  {
   "cell_type": "code",
   "execution_count": 48,
   "id": "736dde06-996d-4924-8a2e-61f382f2899e",
   "metadata": {},
   "outputs": [
    {
     "data": {
      "text/plain": [
       "get_hsqs_from_null (generic function with 1 method)"
      ]
     },
     "execution_count": 48,
     "metadata": {},
     "output_type": "execute_result"
    }
   ],
   "source": [
    "function get_hsqs_from_null(Y::Array{Float64, 2}, K::Array{Float64, 2}; reml::Bool = false)\n",
    "\n",
    "    (n, m) = size(Y);\n",
    "    intercept = ones(n, 1);\n",
    "    (Y0, intercept0, lambda0) = transform_rotation(Y, intercept, K; addIntercept = false);\n",
    "    \n",
    "    hsqs_from_null = Array{Float64, 1}(undef, m);\n",
    "    \n",
    "    prior = zeros(2);\n",
    "    prior[2] = 1/100;\n",
    "    \n",
    "    for i in 1:m\n",
    "        \n",
    "        y0_i = reshape(Y0[:, i], :, 1);\n",
    "        prior[1] = var(y0_i);\n",
    "        \n",
    "        out00 = fitlmm(y0_i, intercept0, lambda0, prior; reml = reml, method = \"cholesky\");\n",
    "        hsqs_from_null[i] = out00.h2;\n",
    "        \n",
    "    end\n",
    "    \n",
    "    return hsqs_from_null;\n",
    "    \n",
    "end"
   ]
  },
  {
   "cell_type": "code",
   "execution_count": 49,
   "id": "6319853f-7320-47e6-9cf0-b4f71eb146e8",
   "metadata": {},
   "outputs": [
    {
     "name": "stdout",
     "output_type": "stream",
     "text": [
      "  8.891632 seconds (39.87 M allocations: 14.567 GiB, 15.86% gc time)\n"
     ]
    },
    {
     "data": {
      "text/plain": [
       "35556-element Vector{Float64}:\n",
       " 5.252307989014744e-16\n",
       " 3.0747546525840177e-15\n",
       " 2.34890354044044e-15\n",
       " 8.97201316153285e-16\n",
       " 2.224913368023175e-15\n",
       " 3.800605764727595e-15\n",
       " 1.6536700148587646e-14\n",
       " 3.6414645336939175e-14\n",
       " 2.34890354044044e-15\n",
       " 2.224913368023175e-15\n",
       " 8.074343304670402e-15\n",
       " 6.149509305168035e-15\n",
       " 2.34890354044044e-15\n",
       " ⋮\n",
       " 2.34890354044044e-15\n",
       " 1.3750720834623256e-15\n",
       " 0.1643203949220463\n",
       " 0.07235333505058612\n",
       " 8.97201316153285e-16\n",
       " 2.466082349675042e-14\n",
       " 4.06322116417833e-15\n",
       " 2.73281150746183e-15\n",
       " 6.400426481014958e-15\n",
       " 0.06050234841340436\n",
       " 6.149509305168035e-15\n",
       " 1.375072083462324e-15"
      ]
     },
     "execution_count": 49,
     "metadata": {},
     "output_type": "execute_result"
    }
   ],
   "source": [
    "@time begin\n",
    "    \n",
    "    hsqs_from_null = get_hsqs_from_null(pheno, kinship_Gc; reml = false);\n",
    "        \n",
    "end"
   ]
  },
  {
   "cell_type": "code",
   "execution_count": 52,
   "id": "4809fb18-3dd5-4720-9569-4f049ce96d40",
   "metadata": {},
   "outputs": [
    {
     "data": {
      "text/plain": [
       "get_hsqs_from_null_not_correct (generic function with 1 method)"
      ]
     },
     "execution_count": 52,
     "metadata": {},
     "output_type": "execute_result"
    }
   ],
   "source": [
    "function get_hsqs_from_null_not_correct(Y::Array{Float64, 2}, K::Array{Float64, 2}; reml::Bool = false)\n",
    "\n",
    "    (n, m) = size(Y);\n",
    "    intercept = ones(n, 1);\n",
    "    (Y0, intercept0, lambda0) = transform_rotation(Y, intercept, K; addIntercept = false);\n",
    "    \n",
    "    hsqs_from_null = Array{Float64, 1}(undef, m);\n",
    "    prior = zeros(2);\n",
    "    \n",
    "    for i in 1:m\n",
    "        \n",
    "        y0_i = reshape(Y0[:, i], :, 1);\n",
    "        \n",
    "        out00 = fitlmm(y0_i, intercept0, lambda0, prior; reml = reml, method = \"cholesky\");\n",
    "        hsqs_from_null[i] = out00.h2;\n",
    "        \n",
    "    end\n",
    "    \n",
    "    return hsqs_from_null;\n",
    "    \n",
    "end"
   ]
  },
  {
   "cell_type": "code",
   "execution_count": 53,
   "id": "8b5c00f8-b3d9-4f9a-9b02-ea7a8b7cba80",
   "metadata": {},
   "outputs": [
    {
     "name": "stdout",
     "output_type": "stream",
     "text": [
      "  5.641205 seconds (25.06 M allocations: 9.147 GiB, 16.70% gc time)\n"
     ]
    },
    {
     "data": {
      "text/plain": [
       "35556-element Vector{Float64}:\n",
       " 9.950115069895628e-15\n",
       " 0.036528939421328205\n",
       " 9.950115069895628e-15\n",
       " 6.247563827463025e-15\n",
       " 9.173598101430695e-15\n",
       " 9.950115069895628e-15\n",
       " 0.1305102674747561\n",
       " 0.17410438338668452\n",
       " 1.609962437506366e-14\n",
       " 7.556752351802333e-15\n",
       " 0.09142169755537538\n",
       " 2.34890354044044e-15\n",
       " 9.950115069895628e-15\n",
       " ⋮\n",
       " 1.1034846708500515e-13\n",
       " 2.6049739444959284e-14\n",
       " 0.7218209389379234\n",
       " 0.12763693428302544\n",
       " 9.950115069895628e-15\n",
       " 0.41810395059725675\n",
       " 0.19611055191336954\n",
       " 0.08632259430340487\n",
       " 0.10927626211352637\n",
       " 0.6094587891412765\n",
       " 3.255168280819347e-13\n",
       " 2.0235552928310703e-14"
      ]
     },
     "execution_count": 53,
     "metadata": {},
     "output_type": "execute_result"
    }
   ],
   "source": [
    "@time begin\n",
    "    \n",
    "    hsqs_from_null_nc = get_hsqs_from_null_not_correct(pheno, kinship_Gc; reml = false);\n",
    "        \n",
    "end"
   ]
  },
  {
   "cell_type": "code",
   "execution_count": 54,
   "id": "00992b7c-36cc-45c1-a849-c51afdd51fb2",
   "metadata": {},
   "outputs": [
    {
     "data": {
      "text/plain": [
       "BenchmarkTools.Trial: 1 sample with 1 evaluation.\n",
       " Single result which took \u001b[34m8.851 s\u001b[39m (15.77% GC) to evaluate,\n",
       " with a memory estimate of \u001b[33m14.57 GiB\u001b[39m, over \u001b[33m39872075\u001b[39m allocations."
      ]
     },
     "execution_count": 54,
     "metadata": {},
     "output_type": "execute_result"
    }
   ],
   "source": [
    "@benchmark get_hsqs_from_null(pheno, kinship_Gc; reml = false)"
   ]
  },
  {
   "cell_type": "code",
   "execution_count": 55,
   "id": "70578659-94c5-482c-88b7-592c0d42979f",
   "metadata": {},
   "outputs": [
    {
     "data": {
      "text/plain": [
       "BenchmarkTools.Trial: 1 sample with 1 evaluation.\n",
       " Single result which took \u001b[34m5.574 s\u001b[39m (15.79% GC) to evaluate,\n",
       " with a memory estimate of \u001b[33m9.15 GiB\u001b[39m, over \u001b[33m25059875\u001b[39m allocations."
      ]
     },
     "execution_count": 55,
     "metadata": {},
     "output_type": "execute_result"
    }
   ],
   "source": [
    "@benchmark get_hsqs_from_null_not_correct(pheno, kinship_Gc; reml = false)"
   ]
  },
  {
   "cell_type": "code",
   "execution_count": 57,
   "id": "5bc1b1a9-1ae3-495b-b047-a9259d25f8c1",
   "metadata": {},
   "outputs": [
    {
     "data": {
      "text/plain": [
       "0.9509585539087261"
      ]
     },
     "execution_count": 57,
     "metadata": {},
     "output_type": "execute_result"
    }
   ],
   "source": [
    "maximum(hsqs_from_null)"
   ]
  },
  {
   "cell_type": "code",
   "execution_count": 56,
   "id": "fc83c73e-8f01-4e8e-9190-469832fb4bd3",
   "metadata": {},
   "outputs": [
    {
     "data": {
      "text/plain": [
       "0.999999984947842"
      ]
     },
     "execution_count": 56,
     "metadata": {},
     "output_type": "execute_result"
    }
   ],
   "source": [
    "maximum(hsqs_from_null_nc)"
   ]
  },
  {
   "cell_type": "code",
   "execution_count": null,
   "id": "10fd6735-dd72-401b-b7ed-49e14ed5da69",
   "metadata": {},
   "outputs": [],
   "source": []
  }
 ],
 "metadata": {
  "kernelspec": {
   "display_name": "Julia 1.7.3",
   "language": "julia",
   "name": "julia-1.7"
  },
  "language_info": {
   "file_extension": ".jl",
   "mimetype": "application/julia",
   "name": "julia",
   "version": "1.7.3"
  }
 },
 "nbformat": 4,
 "nbformat_minor": 5
}
