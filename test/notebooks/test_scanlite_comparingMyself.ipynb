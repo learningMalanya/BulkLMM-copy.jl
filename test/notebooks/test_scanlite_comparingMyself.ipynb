{
 "cells": [
  {
   "cell_type": "code",
   "execution_count": 1,
   "id": "0f4099d1-dfff-4e75-85cd-5cd52b0ba627",
   "metadata": {},
   "outputs": [
    {
     "data": {
      "text/plain": [
       "\"/home/zyu20/git/BulkLMM.jl/test/notebooks\""
      ]
     },
     "execution_count": 1,
     "metadata": {},
     "output_type": "execute_result"
    }
   ],
   "source": [
    "pwd()"
   ]
  },
  {
   "cell_type": "code",
   "execution_count": 2,
   "id": "7489efcd-2568-4af4-9130-985aad58d1df",
   "metadata": {},
   "outputs": [],
   "source": [
    "cd(\"..\")"
   ]
  },
  {
   "cell_type": "code",
   "execution_count": 3,
   "id": "0edd2efb-7615-47da-8f5e-be2ae6a9e1a2",
   "metadata": {},
   "outputs": [
    {
     "data": {
      "text/plain": [
       "24"
      ]
     },
     "execution_count": 3,
     "metadata": {},
     "output_type": "execute_result"
    }
   ],
   "source": [
    "Threads.nthreads()"
   ]
  },
  {
   "cell_type": "code",
   "execution_count": 4,
   "id": "a23ed5d8-b60e-4c6a-83bd-cdcb3470eb5e",
   "metadata": {},
   "outputs": [],
   "source": [
    "include(\"BXDdata_for_test.jl\"); ## Load BXD data used for testing:"
   ]
  },
  {
   "cell_type": "code",
   "execution_count": 5,
   "id": "acf694f5-567b-49c5-bb89-d1657b3fd52c",
   "metadata": {},
   "outputs": [],
   "source": [
    "using LoopVectorization"
   ]
  },
  {
   "cell_type": "code",
   "execution_count": 6,
   "id": "e57d4f6e-8c5e-4427-a559-356c0216cd0e",
   "metadata": {},
   "outputs": [],
   "source": [
    "include(\"../src/scan_LiteQTL.jl\"); ## Load multithreaded functions to be tested:"
   ]
  },
  {
   "cell_type": "code",
   "execution_count": 7,
   "id": "f3002f7a-83d6-444b-8dbc-e000c2215c4a",
   "metadata": {},
   "outputs": [],
   "source": [
    "include(\"../src/parallel_helpers.jl\");"
   ]
  },
  {
   "cell_type": "code",
   "execution_count": 24,
   "id": "fef29a06-130d-466f-88a7-8d99c7f43771",
   "metadata": {},
   "outputs": [],
   "source": [
    "include(\"testHelper.jl\");"
   ]
  },
  {
   "cell_type": "code",
   "execution_count": 9,
   "id": "f0835e06-d9d4-4a78-9a69-73fd67dc0a81",
   "metadata": {},
   "outputs": [],
   "source": [
    "BLAS.set_num_threads(24)"
   ]
  },
  {
   "cell_type": "code",
   "execution_count": 10,
   "id": "3c2bc60f-fa3d-4921-a534-7b2042fcc99c",
   "metadata": {},
   "outputs": [
    {
     "data": {
      "text/plain": [
       "24"
      ]
     },
     "execution_count": 10,
     "metadata": {},
     "output_type": "execute_result"
    }
   ],
   "source": [
    "BLAS.get_num_threads()"
   ]
  },
  {
   "cell_type": "code",
   "execution_count": 75,
   "id": "c1e7c827-8228-410b-a5f5-8fe9332cbb6d",
   "metadata": {},
   "outputs": [
    {
     "data": {
      "text/plain": [
       "1112"
      ]
     },
     "execution_count": 75,
     "metadata": {},
     "output_type": "execute_result"
    }
   ],
   "source": [
    "traitID = 1112"
   ]
  },
  {
   "cell_type": "code",
   "execution_count": 76,
   "id": "d707e056-0b51-4f3e-baf3-17095c374c19",
   "metadata": {},
   "outputs": [
    {
     "name": "stdout",
     "output_type": "stream",
     "text": [
      "  2.570421 seconds (2.54 M allocations: 1.168 GiB, 25.65% gc time)\n"
     ]
    }
   ],
   "source": [
    "@time results_scan_alt = scan_alt(reshape(pheno[:, traitID], :, 1), geno, kinship; reml = false);"
   ]
  },
  {
   "cell_type": "code",
   "execution_count": 92,
   "id": "77426454-292e-4f38-afc3-13433641a2a2",
   "metadata": {},
   "outputs": [
    {
     "data": {
      "text/plain": [
       "204-element Vector{Float64}:\n",
       " 0.835\n",
       " 0.861\n",
       " 0.847\n",
       " 0.828\n",
       " 0.822\n",
       " 0.84\n",
       " 0.858\n",
       " 0.849\n",
       " 0.838\n",
       " 0.834\n",
       " 0.832\n",
       " 0.826\n",
       " 0.831\n",
       " ⋮\n",
       " 0.741\n",
       " 0.787\n",
       " 0.765\n",
       " 0.757\n",
       " 0.768\n",
       " 0.745\n",
       " 0.75\n",
       " 0.763\n",
       " 0.767\n",
       " 0.783\n",
       " 0.939\n",
       " 0.925"
      ]
     },
     "execution_count": 92,
     "metadata": {},
     "output_type": "execute_result"
    }
   ],
   "source": [
    "pve_list = unique(round.(results_scan_alt[3]; digits = 3))"
   ]
  },
  {
   "cell_type": "code",
   "execution_count": 81,
   "id": "1085f44c-e7c6-4f26-a2d6-dbfa616d4d0d",
   "metadata": {},
   "outputs": [],
   "source": [
    "pve_list = collect(1:10) .* 0.1;"
   ]
  },
  {
   "cell_type": "code",
   "execution_count": 93,
   "id": "d5bcbb37-e252-4415-9b98-f92a2c4bcb36",
   "metadata": {},
   "outputs": [
    {
     "name": "stdout",
     "output_type": "stream",
     "text": [
      "285.272481 seconds (40.10 k allocations: 412.261 GiB, 10.58% gc time)\n"
     ]
    },
    {
     "data": {
      "text/plain": [
       "7321×35556 Matrix{Float64}:\n",
       " 0.120594  0.130312  0.111546  0.0491128  …  0.0469524  0.354027   0.566444\n",
       " 0.120594  0.130312  0.111546  0.0491128     0.0469524  0.354027   0.566444\n",
       " 0.120594  0.130312  0.111546  0.0491128     0.0469524  0.354027   0.566444\n",
       " 0.120594  0.130312  0.111546  0.0491128     0.0469524  0.354027   0.566444\n",
       " 0.120594  0.130312  0.111546  0.0491128     0.0469524  0.354027   0.566444\n",
       " 0.120594  0.130312  0.111546  0.0491128  …  0.0469524  0.354027   0.566444\n",
       " 0.120594  0.130312  0.111546  0.0491128     0.0469524  0.354027   0.566444\n",
       " 0.120594  0.130312  0.111546  0.0491128     0.0469524  0.354027   0.566444\n",
       " 0.120594  0.130312  0.111546  0.0491128     0.0469524  0.354027   0.566444\n",
       " 0.120594  0.130312  0.111546  0.0491128     0.0469524  0.354027   0.566444\n",
       " 0.120594  0.130312  0.111546  0.0491128  …  0.0469524  0.354027   0.566444\n",
       " 0.120598  0.130317  0.111549  0.0491136     0.046953   0.354036   0.566455\n",
       " 0.241186  0.259606  0.198836  0.0611176     0.0621972  0.53272    0.783605\n",
       " ⋮                                        ⋱                        ⋮\n",
       " 0.256527  0.383187  0.23443   0.0990161     0.723986   0.0102512  0.205218\n",
       " 0.256527  0.383187  0.23443   0.0990161  …  0.723986   0.0102512  0.205218\n",
       " 0.256527  0.383187  0.23443   0.0990161     0.723986   0.0102512  0.205218\n",
       " 0.252758  0.415328  0.213405  0.0822073     0.299531   0.0346316  0.372525\n",
       " 0.373096  0.108311  0.301415  0.122312      0.0683875  0.014195   0.455873\n",
       " 0.373096  0.108311  0.301415  0.122312      0.0683875  0.014195   0.455873\n",
       " 0.216899  0.126184  0.1621    0.061574   …  0.0228961  0.0859186  0.289749\n",
       " 0.198309  0.238108  0.148161  0.0705326     0.0341958  0.0795917  0.216733\n",
       " 0.20053   0.225021  0.149825  0.069639      0.0329585  0.0798336  0.224357\n",
       " 0.176191  0.363728  0.131593  0.077732      0.0452836  0.0816773  0.152193\n",
       " 0.178684  0.252637  0.102453  0.0612053     0.0519709  0.104392   0.13092\n",
       " 0.178684  0.252637  0.102453  0.0612053  …  0.0519709  0.104392   0.13092"
      ]
     },
     "execution_count": 93,
     "metadata": {},
     "output_type": "execute_result"
    }
   ],
   "source": [
    "@time LODs_bulkscan = bulkscan(pheno, geno, kinship, pve_list)"
   ]
  },
  {
   "cell_type": "code",
   "execution_count": 99,
   "id": "f222d43e-5243-4f40-8cda-3147153516ee",
   "metadata": {},
   "outputs": [
    {
     "name": "stdout",
     "output_type": "stream",
     "text": [
      "  1.740508 seconds (214 allocations: 2.050 GiB, 13.51% gc time)\n"
     ]
    },
    {
     "data": {
      "text/plain": [
       "7321×35556 Matrix{Float64}:\n",
       " 0.0685133   0.0774162  0.0712343   …  0.0469135   0.126384    0.501837\n",
       " 0.0685133   0.0774162  0.0712343      0.0469135   0.126384    0.501837\n",
       " 0.0685133   0.0774162  0.0712343      0.0469135   0.126384    0.501837\n",
       " 0.0685133   0.0774162  0.0712343      0.0469135   0.126384    0.501837\n",
       " 0.0685133   0.0774162  0.0712343      0.0469135   0.126384    0.501837\n",
       " 0.0685133   0.0774162  0.0712343   …  0.0469135   0.126384    0.501837\n",
       " 0.0685133   0.0774162  0.0712343      0.0469135   0.126384    0.501837\n",
       " 0.0685133   0.0774162  0.0712343      0.0469135   0.126384    0.501837\n",
       " 0.0685133   0.0774162  0.0712343      0.0469135   0.126384    0.501837\n",
       " 0.0685133   0.0774162  0.0712343      0.0469135   0.126384    0.501837\n",
       " 0.0685133   0.0774162  0.0712343   …  0.0469135   0.126384    0.501837\n",
       " 0.068516    0.0774187  0.0712363      0.0469141   0.126386    0.501847\n",
       " 0.156148    0.147156   0.12592        0.0563397   0.1673      0.706861\n",
       " ⋮                                  ⋱                          ⋮\n",
       " 0.0391167   0.20221    0.0356266      0.300862    0.00380285  0.182641\n",
       " 0.0391167   0.20221    0.0356266   …  0.300862    0.00380285  0.182641\n",
       " 0.0391167   0.20221    0.0356266      0.300862    0.00380285  0.182641\n",
       " 0.0340345   0.183511   0.0273121      0.0979694   0.0330704   0.328198\n",
       " 0.0717023   0.0538868  0.0559894      0.0314477   0.0141939   0.452958\n",
       " 0.0717023   0.0538868  0.0559894      0.0314477   0.0141939   0.452958\n",
       " 0.0282953   0.0691386  0.021778    …  0.00269402  0.0769059   0.245345\n",
       " 0.0183065   0.130029   0.0142862      0.00310711  0.079279    0.18561\n",
       " 0.0193002   0.122838   0.0150349      0.00306692  0.0791609   0.1919\n",
       " 0.0103711   0.200231   0.00826821     0.00341754  0.0789008   0.13147\n",
       " 0.00445427  0.22574    1.27007e-7     0.0093767   0.104187    0.128525\n",
       " 0.00445427  0.22574    1.27007e-7  …  0.0093767   0.104187    0.128525"
      ]
     },
     "execution_count": 99,
     "metadata": {},
     "output_type": "execute_result"
    }
   ],
   "source": [
    "@time LODs_bulkscan = bulkscan(pheno, geno, kinship, [results_scan_alt[3][1]])"
   ]
  },
  {
   "cell_type": "code",
   "execution_count": 100,
   "id": "f006bf4b-4e35-4ce0-a281-6bde29599350",
   "metadata": {},
   "outputs": [
    {
     "data": {
      "text/plain": [
       "7321×2 Matrix{Float64}:\n",
       " 0.381039     0.382287\n",
       " 0.381039     0.382287\n",
       " 0.381039     0.382287\n",
       " 0.381039     0.382287\n",
       " 0.381039     0.382287\n",
       " 0.381039     0.382287\n",
       " 0.381039     0.382287\n",
       " 0.381039     0.382287\n",
       " 0.381039     0.382287\n",
       " 0.381039     0.382287\n",
       " 0.381039     0.382287\n",
       " 0.381047     0.382295\n",
       " 0.576593     0.570371\n",
       " ⋮            \n",
       " 0.000186308  0.000594774\n",
       " 0.000186308  0.000594774\n",
       " 0.000186308  0.000594774\n",
       " 0.0127896    0.0101812\n",
       " 0.0869155    0.0711951\n",
       " 0.0869155    0.0711951\n",
       " 0.428963     0.365588\n",
       " 0.435515     0.369203\n",
       " 0.435687     0.369459\n",
       " 0.425038     0.360271\n",
       " 0.772675     0.629874\n",
       " 0.772675     0.629874"
      ]
     },
     "execution_count": 100,
     "metadata": {},
     "output_type": "execute_result"
    }
   ],
   "source": [
    "hcat(results_scan_alt[4], LODs_bulkscan[:, traitID])"
   ]
  },
  {
   "cell_type": "code",
   "execution_count": 101,
   "id": "e25e7494-43f5-4658-a805-4fcbfe01646b",
   "metadata": {},
   "outputs": [
    {
     "data": {
      "text/plain": [
       "31.80946174563183"
      ]
     },
     "execution_count": 101,
     "metadata": {},
     "output_type": "execute_result"
    }
   ],
   "source": [
    "sumSqDiff(reshape(results_scan_alt[4], :, 1), reshape(LODs_bulkscan[:, traitID], :, 1))"
   ]
  },
  {
   "cell_type": "code",
   "execution_count": null,
   "id": "73c8abe1-005d-4c3d-b2e2-479d6ef0dbfd",
   "metadata": {},
   "outputs": [],
   "source": []
  }
 ],
 "metadata": {
  "kernelspec": {
   "display_name": "Julia 24 Threads 1.7.3",
   "language": "julia",
   "name": "julia-24-threads-1.7"
  },
  "language_info": {
   "file_extension": ".jl",
   "mimetype": "application/julia",
   "name": "julia",
   "version": "1.7.3"
  }
 },
 "nbformat": 4,
 "nbformat_minor": 5
}
