{
 "cells": [
  {
   "cell_type": "code",
   "execution_count": 1,
   "id": "c045267c-c9c6-4cff-8ad3-0637c6340605",
   "metadata": {},
   "outputs": [
    {
     "data": {
      "text/plain": [
       "\"/home/zyu20/git/BulkLMM.jl/test/notebooks\""
      ]
     },
     "execution_count": 1,
     "metadata": {},
     "output_type": "execute_result"
    }
   ],
   "source": [
    "pwd()"
   ]
  },
  {
   "cell_type": "code",
   "execution_count": 2,
   "id": "612147f0-9fac-4c5b-8d81-2ce035880f20",
   "metadata": {},
   "outputs": [],
   "source": [
    "cd(\"..\")"
   ]
  },
  {
   "cell_type": "code",
   "execution_count": 3,
   "id": "700d19aa-488d-43b2-965f-05ddcce94bb6",
   "metadata": {},
   "outputs": [
    {
     "data": {
      "text/plain": [
       "24"
      ]
     },
     "execution_count": 3,
     "metadata": {},
     "output_type": "execute_result"
    }
   ],
   "source": [
    "Threads.nthreads()"
   ]
  },
  {
   "cell_type": "code",
   "execution_count": 4,
   "id": "b59d3585-1c9f-462f-9194-e043131f2b61",
   "metadata": {},
   "outputs": [],
   "source": [
    "include(\"BXDdata_for_test.jl\"); ## Load BXD data used for testing:"
   ]
  },
  {
   "cell_type": "code",
   "execution_count": 5,
   "id": "3a948182-99bc-4feb-9ed4-e1511141bf29",
   "metadata": {},
   "outputs": [],
   "source": [
    "using LoopVectorization"
   ]
  },
  {
   "cell_type": "code",
   "execution_count": 6,
   "id": "458cdc7b-9114-4b47-930d-75c096a521e1",
   "metadata": {},
   "outputs": [],
   "source": [
    "include(\"../src/scan_LiteQTL.jl\"); ## Load multithreaded functions to be tested:"
   ]
  },
  {
   "cell_type": "code",
   "execution_count": 7,
   "id": "aff29480-afc5-47d7-90b3-7c34a735ce88",
   "metadata": {},
   "outputs": [],
   "source": [
    "include(\"../src/parallel_helpers.jl\");"
   ]
  },
  {
   "cell_type": "code",
   "execution_count": 8,
   "id": "03f4e85a-d7ca-41bd-b925-30b3e615cf61",
   "metadata": {},
   "outputs": [],
   "source": [
    "BLAS.set_num_threads(24)"
   ]
  },
  {
   "cell_type": "code",
   "execution_count": 9,
   "id": "23a5732e-7130-47f2-bc9e-989dbbb29759",
   "metadata": {},
   "outputs": [
    {
     "data": {
      "text/plain": [
       "24"
      ]
     },
     "execution_count": 9,
     "metadata": {},
     "output_type": "execute_result"
    }
   ],
   "source": [
    "BLAS.get_num_threads()"
   ]
  },
  {
   "cell_type": "code",
   "execution_count": 10,
   "id": "7c15eba8-f588-4c31-9f66-9fca943756f6",
   "metadata": {},
   "outputs": [],
   "source": [
    "hsq_list = collect(0:10) * 0.1;"
   ]
  },
  {
   "cell_type": "code",
   "execution_count": 11,
   "id": "2355875d-899b-4e1c-b55d-eed144f9ab57",
   "metadata": {},
   "outputs": [],
   "source": [
    "kinship_Gc = CSV.read(\"run-gemma/output/kinship.cXX.txt\", DataFrame, delim = '\\t', header = false) |> Matrix;"
   ]
  },
  {
   "cell_type": "code",
   "execution_count": 42,
   "id": "6dff915a-cb21-42fc-aec5-6a347f500a9f",
   "metadata": {},
   "outputs": [
    {
     "name": "stdout",
     "output_type": "stream",
     "text": [
      " 10.172633 seconds (2.15 k allocations: 22.258 GiB, 9.42% gc time)\n"
     ]
    }
   ],
   "source": [
    "@time bulkscan_LODs = bulkscan(pheno, geno, kinship_Gc, hsq_list);"
   ]
  },
  {
   "cell_type": "code",
   "execution_count": 43,
   "id": "0b62f875-c334-49b0-9906-4e6980ce6bc4",
   "metadata": {},
   "outputs": [
    {
     "data": {
      "text/plain": [
       "6×35556 Matrix{Float64}:\n",
       " 0.117494  0.121561  0.110276  0.0494144  …  0.0472748  0.355458  0.548261\n",
       " 0.117494  0.121561  0.110276  0.0494144     0.0472748  0.355458  0.548261\n",
       " 0.117494  0.121561  0.110276  0.0494144     0.0472748  0.355458  0.548261\n",
       " 0.117494  0.121561  0.110276  0.0494144     0.0472748  0.355458  0.548261\n",
       " 0.117494  0.121561  0.110276  0.0494144     0.0472748  0.355458  0.548261\n",
       " 0.117494  0.121561  0.110276  0.0494144  …  0.0472748  0.355458  0.548261"
      ]
     },
     "execution_count": 43,
     "metadata": {},
     "output_type": "execute_result"
    }
   ],
   "source": [
    "bulkscan_LODs[1:6, :]"
   ]
  },
  {
   "cell_type": "code",
   "execution_count": 44,
   "id": "3ffa8d11-05e8-4ff5-8137-a156d93eb186",
   "metadata": {},
   "outputs": [],
   "source": [
    "gemma = \"/home/zyu20/Softwares/gemma-0.98.5-linux-static-AMD64\";"
   ]
  },
  {
   "cell_type": "code",
   "execution_count": 45,
   "id": "095115cb-b24e-42e0-88bd-502adb73043e",
   "metadata": {},
   "outputs": [],
   "source": [
    "gemma_results = readdlm(\"run-gemma/output/gemma_results.txt.assoc.txt\", '\\t');"
   ]
  },
  {
   "cell_type": "code",
   "execution_count": 46,
   "id": "74776bf9-b7c7-455e-bdae-2186cc89838e",
   "metadata": {},
   "outputs": [
    {
     "data": {
      "text/plain": [
       "p2lod (generic function with 1 method)"
      ]
     },
     "execution_count": 46,
     "metadata": {},
     "output_type": "execute_result"
    }
   ],
   "source": [
    "function p2lod(pval::Float64, df::Int64)\n",
    "    \n",
    "    lrs = invlogcdf(Chisq(df), log(1-pval))\n",
    "    lod = lrs/(2*log(10))\n",
    "    \n",
    "    # return lrs\n",
    "    return lod\n",
    "\n",
    "end"
   ]
  },
  {
   "cell_type": "code",
   "execution_count": 47,
   "id": "bc61dd64-e4fb-4d95-9bfd-8fb7586f029f",
   "metadata": {},
   "outputs": [],
   "source": [
    "gemma_LODs = map(x -> p2lod(x, 1), gemma_results[2:end, 10]);"
   ]
  },
  {
   "cell_type": "code",
   "execution_count": 48,
   "id": "62c198ec-3d9a-4533-a417-52e923fd2204",
   "metadata": {},
   "outputs": [
    {
     "data": {
      "text/plain": [
       "7321×2 Matrix{Float64}:\n",
       " 0.000347286  0.0230375\n",
       " 0.000347286  0.0230375\n",
       " 0.000347286  0.0230375\n",
       " 0.000347286  0.0230375\n",
       " 0.000347286  0.0230375\n",
       " 0.000347286  0.0230375\n",
       " 0.000347286  0.0230375\n",
       " 0.000347286  0.0230375\n",
       " 0.000347286  0.0230375\n",
       " 0.000347286  0.0230375\n",
       " 0.000347286  0.0230375\n",
       " 0.000347136  0.0230399\n",
       " 0.0136122    0.149115\n",
       " ⋮            \n",
       " 0.349491     0.346613\n",
       " 0.349491     0.346613\n",
       " 0.349491     0.346613\n",
       " 0.150758     0.149648\n",
       " 5.69796e-5   0.177024\n",
       " 5.69796e-5   0.177024\n",
       " 0.000387442  0.20417\n",
       " 0.00241246   0.242513\n",
       " 0.00212172   0.238575\n",
       " 0.00567796   0.275557\n",
       " 0.00288966   0.235776\n",
       " 0.00288966   0.235776"
      ]
     },
     "execution_count": 48,
     "metadata": {},
     "output_type": "execute_result"
    }
   ],
   "source": [
    "hcat(gemma_LODs, bulkscan_LODs[:, 7919])"
   ]
  },
  {
   "cell_type": "code",
   "execution_count": 68,
   "id": "052a04b5-0366-418d-89e1-9413ebc2a115",
   "metadata": {},
   "outputs": [],
   "source": [
    "scan_null_lod = scan_null(reshape(pheno[:, 7919], :, 1), geno, kinship; reml = true);"
   ]
  },
  {
   "cell_type": "code",
   "execution_count": 69,
   "id": "efe35723-8bd9-4853-af2f-2ba8064909ac",
   "metadata": {},
   "outputs": [],
   "source": [
    "scan_alt_lod = scan_alt(reshape(pheno[:, 7919], :, 1), geno, kinship; reml = false);"
   ]
  },
  {
   "cell_type": "code",
   "execution_count": 70,
   "id": "58ab3ecb-7ab1-47d8-b3a8-5784817703df",
   "metadata": {},
   "outputs": [
    {
     "data": {
      "text/plain": [
       "7321×4 Matrix{Float64}:\n",
       " 0.000347286  0.00798216  0.00819776  0.0230375\n",
       " 0.000347286  0.00798216  0.00819776  0.0230375\n",
       " 0.000347286  0.00798216  0.00819776  0.0230375\n",
       " 0.000347286  0.00798216  0.00819776  0.0230375\n",
       " 0.000347286  0.00798216  0.00819776  0.0230375\n",
       " 0.000347286  0.00798216  0.00819776  0.0230375\n",
       " 0.000347286  0.00798216  0.00819776  0.0230375\n",
       " 0.000347286  0.00798216  0.00819776  0.0230375\n",
       " 0.000347286  0.00798216  0.00819776  0.0230375\n",
       " 0.000347286  0.00798216  0.00819776  0.0230375\n",
       " 0.000347286  0.00798216  0.00819776  0.0230375\n",
       " 0.000347136  0.00798112  0.00819668  0.0230399\n",
       " 0.0136122    0.00957719  0.00987864  0.149115\n",
       " ⋮                                    \n",
       " 0.349491     0.0954055   0.0953535   0.346613\n",
       " 0.349491     0.0954055   0.0953535   0.346613\n",
       " 0.349491     0.0954055   0.0953535   0.346613\n",
       " 0.150758     0.0125858   0.0115362   0.149648\n",
       " 5.69796e-5   0.0075433   0.00826847  0.177024\n",
       " 5.69796e-5   0.0075433   0.00826847  0.177024\n",
       " 0.000387442  0.0140671   0.0151175   0.20417\n",
       " 0.00241246   0.0274291   0.029167    0.242513\n",
       " 0.00212172   0.025847    0.027506    0.238575\n",
       " 0.00567796   0.0428576   0.0453502   0.275557\n",
       " 0.00288966   0.0116642   0.0129926   0.235776\n",
       " 0.00288966   0.0116642   0.0129926   0.235776"
      ]
     },
     "execution_count": 70,
     "metadata": {},
     "output_type": "execute_result"
    }
   ],
   "source": [
    "hcat(gemma_LODs, scan_null_lod[3], scan_alt_lod[3], bulkscan_LODs[:, 7919])"
   ]
  },
  {
   "cell_type": "code",
   "execution_count": 65,
   "id": "d5390a85-2002-4c5e-94f1-b68a77a97692",
   "metadata": {},
   "outputs": [
    {
     "data": {
      "text/plain": [
       "Inf"
      ]
     },
     "execution_count": 65,
     "metadata": {},
     "output_type": "execute_result"
    }
   ],
   "source": [
    "sumSqDiff(reshape(gemma_LODs, :, 1), reshape(bulkscan_LODs[:, 7919], :, 1))"
   ]
  },
  {
   "cell_type": "code",
   "execution_count": null,
   "id": "da3be676-1713-4fe6-a5d8-edd1c38ed7e2",
   "metadata": {},
   "outputs": [],
   "source": []
  }
 ],
 "metadata": {
  "kernelspec": {
   "display_name": "Julia 24 Threads 1.7.3",
   "language": "julia",
   "name": "julia-24-threads-1.7"
  },
  "language_info": {
   "file_extension": ".jl",
   "mimetype": "application/julia",
   "name": "julia",
   "version": "1.7.3"
  }
 },
 "nbformat": 4,
 "nbformat_minor": 5
}
