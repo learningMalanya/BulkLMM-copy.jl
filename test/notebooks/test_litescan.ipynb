{
 "cells": [
  {
   "cell_type": "code",
   "execution_count": 255,
   "id": "c045267c-c9c6-4cff-8ad3-0637c6340605",
   "metadata": {},
   "outputs": [
    {
     "data": {
      "text/plain": [
       "\"/home/zyu20/git/BulkLMM.jl/test\""
      ]
     },
     "execution_count": 255,
     "metadata": {},
     "output_type": "execute_result"
    }
   ],
   "source": [
    "pwd()"
   ]
  },
  {
   "cell_type": "code",
   "execution_count": 2,
   "id": "612147f0-9fac-4c5b-8d81-2ce035880f20",
   "metadata": {},
   "outputs": [],
   "source": [
    "cd(\"..\")"
   ]
  },
  {
   "cell_type": "code",
   "execution_count": 3,
   "id": "700d19aa-488d-43b2-965f-05ddcce94bb6",
   "metadata": {},
   "outputs": [
    {
     "data": {
      "text/plain": [
       "24"
      ]
     },
     "execution_count": 3,
     "metadata": {},
     "output_type": "execute_result"
    }
   ],
   "source": [
    "Threads.nthreads()"
   ]
  },
  {
   "cell_type": "code",
   "execution_count": 4,
   "id": "b59d3585-1c9f-462f-9194-e043131f2b61",
   "metadata": {},
   "outputs": [],
   "source": [
    "include(\"BXDdata_for_test.jl\"); ## Load BXD data used for testing:"
   ]
  },
  {
   "cell_type": "code",
   "execution_count": 5,
   "id": "3a948182-99bc-4feb-9ed4-e1511141bf29",
   "metadata": {},
   "outputs": [],
   "source": [
    "using LoopVectorization"
   ]
  },
  {
   "cell_type": "code",
   "execution_count": 6,
   "id": "458cdc7b-9114-4b47-930d-75c096a521e1",
   "metadata": {},
   "outputs": [],
   "source": [
    "include(\"../src/scan_LiteQTL.jl\"); ## Load multithreaded functions to be tested:"
   ]
  },
  {
   "cell_type": "code",
   "execution_count": 7,
   "id": "aff29480-afc5-47d7-90b3-7c34a735ce88",
   "metadata": {},
   "outputs": [],
   "source": [
    "include(\"../src/parallel_helpers.jl\");"
   ]
  },
  {
   "cell_type": "code",
   "execution_count": 8,
   "id": "03f4e85a-d7ca-41bd-b925-30b3e615cf61",
   "metadata": {},
   "outputs": [],
   "source": [
    "BLAS.set_num_threads(24)"
   ]
  },
  {
   "cell_type": "code",
   "execution_count": 9,
   "id": "23a5732e-7130-47f2-bc9e-989dbbb29759",
   "metadata": {},
   "outputs": [
    {
     "data": {
      "text/plain": [
       "24"
      ]
     },
     "execution_count": 9,
     "metadata": {},
     "output_type": "execute_result"
    }
   ],
   "source": [
    "BLAS.get_num_threads()"
   ]
  },
  {
   "cell_type": "code",
   "execution_count": 367,
   "id": "7c15eba8-f588-4c31-9f66-9fca943756f6",
   "metadata": {},
   "outputs": [],
   "source": [
    "hsq_list = collect(0:1000) * 0.001;"
   ]
  },
  {
   "cell_type": "code",
   "execution_count": 368,
   "id": "2355875d-899b-4e1c-b55d-eed144f9ab57",
   "metadata": {},
   "outputs": [],
   "source": [
    "kinship_Gc = CSV.read(\"run-gemma/output/kinship.cXX.txt\", DataFrame, delim = '\\t', header = false) |> Matrix;"
   ]
  },
  {
   "cell_type": "code",
   "execution_count": 369,
   "id": "6dff915a-cb21-42fc-aec5-6a347f500a9f",
   "metadata": {},
   "outputs": [
    {
     "ename": "LoadError",
     "evalue": "InterruptException:",
     "output_type": "error",
     "traceback": [
      "InterruptException:",
      "",
      "Stacktrace:",
      " [1] macro expansion",
      "   @ ./threadingconstructs.jl:97 [inlined]",
      " [2] tR2LOD!",
      "   @ ~/git/BulkLMM.jl/src/scan_LiteQTL.jl:88 [inlined]",
      " [3] scan_lite(Y0::Matrix{Float64}, X0::Matrix{Float64}, hsq::Float64, lambda0::Vector{Float64})",
      "   @ Main ~/git/BulkLMM.jl/src/scan_LiteQTL.jl:304",
      " [4] bulkscan(Y::Matrix{Float64}, G::Matrix{Float64}, K::Matrix{Float64}, hsq_list::Vector{Float64})",
      "   @ Main ~/git/BulkLMM.jl/src/scan_LiteQTL.jl:342",
      " [5] top-level scope",
      "   @ ./timing.jl:220 [inlined]",
      " [6] top-level scope",
      "   @ ./In[369]:0",
      " [7] eval",
      "   @ ./boot.jl:373 [inlined]",
      " [8] include_string(mapexpr::typeof(REPL.softscope), mod::Module, code::String, filename::String)",
      "   @ Base ./loading.jl:1196"
     ]
    }
   ],
   "source": [
    "@time bulkscan_LODs = bulkscan(pheno, geno, kinship_Gc, hsq_list);"
   ]
  },
  {
   "cell_type": "code",
   "execution_count": 370,
   "id": "0b62f875-c334-49b0-9906-4e6980ce6bc4",
   "metadata": {},
   "outputs": [
    {
     "data": {
      "text/plain": [
       "6×35556 Matrix{Float64}:\n",
       " 0.122362  0.123282  0.111683  0.0568243  …  0.0473728  0.355458  0.550632\n",
       " 0.122362  0.123282  0.111683  0.0568243     0.0473728  0.355458  0.550632\n",
       " 0.122362  0.123282  0.111683  0.0568243     0.0473728  0.355458  0.550632\n",
       " 0.122362  0.123282  0.111683  0.0568243     0.0473728  0.355458  0.550632\n",
       " 0.122362  0.123282  0.111683  0.0568243     0.0473728  0.355458  0.550632\n",
       " 0.122362  0.123282  0.111683  0.0568243  …  0.0473728  0.355458  0.550632"
      ]
     },
     "execution_count": 370,
     "metadata": {},
     "output_type": "execute_result"
    }
   ],
   "source": [
    "bulkscan_LODs[1:6, :]"
   ]
  },
  {
   "cell_type": "code",
   "execution_count": 371,
   "id": "3ffa8d11-05e8-4ff5-8137-a156d93eb186",
   "metadata": {},
   "outputs": [],
   "source": [
    "gemma = \"/home/zyu20/Softwares/gemma-0.98.5-linux-static-AMD64\";"
   ]
  },
  {
   "cell_type": "code",
   "execution_count": 372,
   "id": "095115cb-b24e-42e0-88bd-502adb73043e",
   "metadata": {},
   "outputs": [],
   "source": [
    "gemma_results = readdlm(\"run-gemma/output/gemma_results.txt.assoc.txt\", '\\t');"
   ]
  },
  {
   "cell_type": "code",
   "execution_count": 373,
   "id": "c1c10309-71ad-47c9-913e-de1f6495f10c",
   "metadata": {},
   "outputs": [
    {
     "data": {
      "text/plain": [
       "7322×10 Matrix{Any}:\n",
       "   \"chr\"  \"rs\"             \"ps\"  …    \"logl_H1\"   \"l_mle\"   \"p_lrt\"\n",
       " -9       \"rs31443144\"   -9         68.5713      0.441307  0.13839\n",
       " -9       \"rs6269442\"    -9         68.5713      0.441307  0.13839\n",
       " -9       \"rs32285189\"   -9         68.5713      0.441307  0.13839\n",
       " -9       \"rs258367496\"  -9         68.5713      0.441307  0.13839\n",
       " -9       \"rs32430919\"   -9      …  68.5713      0.441307  0.13839\n",
       " -9       \"rs36251697\"   -9         68.5713      0.441307  0.13839\n",
       " -9       \"rs30658298\"   -9         68.5713      0.441307  0.13839\n",
       " -9       \"rs51852623\"   -9         68.5713      0.441307  0.13839\n",
       " -9       \"rs31879829\"   -9         68.5713      0.441307  0.13839\n",
       " -9       \"rs36742481\"   -9      …  68.5713      0.441307  0.13839\n",
       " -9       \"rs6365999\"    -9         68.5713      0.441307  0.13839\n",
       " -9       \"rs13470446\"   -9         68.5713      0.441308  0.138394\n",
       "  ⋮                              ⋱                         \n",
       " -9       \"rs31466210\"   -9      …  67.5696      0.496535  0.6609\n",
       " -9       \"rs212815990\"  -9         67.5696      0.496535  0.6609\n",
       " -9       \"rs227685113\"  -9         67.5696      0.496535  0.6609\n",
       " -9       \"rs31551153\"   -9         67.6835      0.521768  0.516807\n",
       " -9       \"rs31556818\"   -9         67.9523      1.0e6     0.327772\n",
       " -9       \"rs31275062\"   -9      …  67.9523      1.0e6     0.327772\n",
       " -9       \"rs47382998\"   -9         67.5504      1.0e6     0.694708\n",
       " -9       \"rs13484107\"   -9         67.905       1.0e6     0.352836\n",
       " -9       \"rs3693969\"    -9         67.865       1.0e6     0.37618\n",
       " -9       \"DXMit223\"     -9         68.2747      1.0e6     0.205523\n",
       " -9       \"rs31638776\"   -9      …  67.8602      1.0e6     0.379094\n",
       " -9       \"rs31639754\"   -9         67.8602      1.0e6     0.379094"
      ]
     },
     "execution_count": 373,
     "metadata": {},
     "output_type": "execute_result"
    }
   ],
   "source": [
    "gemma_results"
   ]
  },
  {
   "cell_type": "code",
   "execution_count": 374,
   "id": "ba300728-6c54-461e-98f2-614f793f9684",
   "metadata": {},
   "outputs": [
    {
     "data": {
      "text/plain": [
       "10-element Vector{Any}:\n",
       " -9\n",
       "   \"rs259771792\"\n",
       " -9\n",
       "  0\n",
       "   \"A\"\n",
       "   \"B\"\n",
       "  0.468\n",
       " 67.49315\n",
       "  1.0e6\n",
       "  0.8424859"
      ]
     },
     "execution_count": 374,
     "metadata": {},
     "output_type": "execute_result"
    }
   ],
   "source": [
    "gemma_results[7272, :]"
   ]
  },
  {
   "cell_type": "code",
   "execution_count": 375,
   "id": "74776bf9-b7c7-455e-bdae-2186cc89838e",
   "metadata": {},
   "outputs": [
    {
     "data": {
      "text/plain": [
       "p2lod (generic function with 1 method)"
      ]
     },
     "execution_count": 375,
     "metadata": {},
     "output_type": "execute_result"
    }
   ],
   "source": [
    "function p2lod(pval::Float64, df::Int64)\n",
    "    \n",
    "    lrs = invlogcdf(Chisq(df), log(1-pval))\n",
    "    lod = lrs/(2*log(10))\n",
    "    \n",
    "    # return lrs\n",
    "    return lod\n",
    "\n",
    "end"
   ]
  },
  {
   "cell_type": "code",
   "execution_count": 376,
   "id": "2db7d619-4b8f-4e0b-b97a-8815bd07285b",
   "metadata": {},
   "outputs": [],
   "source": [
    "traitID = 20001;"
   ]
  },
  {
   "cell_type": "code",
   "execution_count": 377,
   "id": "bc61dd64-e4fb-4d95-9bfd-8fb7586f029f",
   "metadata": {},
   "outputs": [],
   "source": [
    "gemma_LODs = map(x -> p2lod(x, 1), gemma_results[2:end, 10]);"
   ]
  },
  {
   "cell_type": "code",
   "execution_count": 378,
   "id": "62c198ec-3d9a-4533-a417-52e923fd2204",
   "metadata": {},
   "outputs": [
    {
     "data": {
      "text/plain": [
       "7321×2 Matrix{Float64}:\n",
       " 0.476805   0.524201\n",
       " 0.476805   0.524201\n",
       " 0.476805   0.524201\n",
       " 0.476805   0.524201\n",
       " 0.476805   0.524201\n",
       " 0.476805   0.524201\n",
       " 0.476805   0.524201\n",
       " 0.476805   0.524201\n",
       " 0.476805   0.524201\n",
       " 0.476805   0.524201\n",
       " 0.476805   0.524201\n",
       " 0.476796   0.524193\n",
       " 0.220659   0.255113\n",
       " ⋮          \n",
       " 0.041786   0.0828429\n",
       " 0.041786   0.0828429\n",
       " 0.041786   0.0828429\n",
       " 0.0912584  0.258224\n",
       " 0.207958   0.392154\n",
       " 0.207958   0.392154\n",
       " 0.0334485  0.221615\n",
       " 0.187448   0.372084\n",
       " 0.170059   0.355096\n",
       " 0.348018   0.528934\n",
       " 0.167993   0.372557\n",
       " 0.167993   0.372557"
      ]
     },
     "execution_count": 378,
     "metadata": {},
     "output_type": "execute_result"
    }
   ],
   "source": [
    "hcat(gemma_LODs, bulkscan_LODs[:, traitID])"
   ]
  },
  {
   "cell_type": "code",
   "execution_count": 379,
   "id": "052a04b5-0366-418d-89e1-9413ebc2a115",
   "metadata": {},
   "outputs": [],
   "source": [
    "scan_null_lod = scan_null(reshape(pheno[:, traitID], :, 1), geno, kinship_Gc; reml = true);"
   ]
  },
  {
   "cell_type": "code",
   "execution_count": 380,
   "id": "efe35723-8bd9-4853-af2f-2ba8064909ac",
   "metadata": {},
   "outputs": [],
   "source": [
    "scan_alt_lod = scan_alt(reshape(pheno[:, traitID], :, 1), geno, kinship_Gc; reml = false);"
   ]
  },
  {
   "cell_type": "code",
   "execution_count": 381,
   "id": "ba5e0a7a-a6d5-4e8a-85ac-788d67d8ce02",
   "metadata": {},
   "outputs": [
    {
     "data": {
      "text/plain": [
       "(0.01114455751028617, 0.2864436579121599)"
      ]
     },
     "execution_count": 381,
     "metadata": {},
     "output_type": "execute_result"
    }
   ],
   "source": [
    "scan_null_lod[1:2]"
   ]
  },
  {
   "cell_type": "code",
   "execution_count": 382,
   "id": "fd6b4e41-c3e1-466a-83a5-96854c2d5a21",
   "metadata": {},
   "outputs": [
    {
     "data": {
      "text/plain": [
       "(0.011113871349546575, 0.3316961451332981)"
      ]
     },
     "execution_count": 382,
     "metadata": {},
     "output_type": "execute_result"
    }
   ],
   "source": [
    "scan_alt_lod[1:2]"
   ]
  },
  {
   "cell_type": "code",
   "execution_count": 383,
   "id": "58ab3ecb-7ab1-47d8-b3a8-5784817703df",
   "metadata": {},
   "outputs": [
    {
     "data": {
      "text/plain": [
       "7321×4 Matrix{Float64}:\n",
       " 0.476805   0.468774   0.476804   0.524201\n",
       " 0.476805   0.468774   0.476804   0.524201\n",
       " 0.476805   0.468774   0.476804   0.524201\n",
       " 0.476805   0.468774   0.476804   0.524201\n",
       " 0.476805   0.468774   0.476804   0.524201\n",
       " 0.476805   0.468774   0.476804   0.524201\n",
       " 0.476805   0.468774   0.476804   0.524201\n",
       " 0.476805   0.468774   0.476804   0.524201\n",
       " 0.476805   0.468774   0.476804   0.524201\n",
       " 0.476805   0.468774   0.476804   0.524201\n",
       " 0.476805   0.468774   0.476804   0.524201\n",
       " 0.476796   0.468766   0.476796   0.524193\n",
       " 0.220659   0.220129   0.220659   0.255113\n",
       " ⋮                                \n",
       " 0.041786   0.0413815  0.041786   0.0828429\n",
       " 0.041786   0.0413815  0.041786   0.0828429\n",
       " 0.041786   0.0413815  0.041786   0.0828429\n",
       " 0.0912584  0.0873108  0.0912585  0.258224\n",
       " 0.207958   0.0573483  0.0641354  0.392154\n",
       " 0.207958   0.0573483  0.0641354  0.392154\n",
       " 0.0334485  0.011237   0.0139704  0.221615\n",
       " 0.187448   0.0197437  0.0255083  0.372084\n",
       " 0.170059   0.0187493  0.0241257  0.355096\n",
       " 0.348018   0.0294     0.0394181  0.528934\n",
       " 0.167993   0.0424873  0.0539917  0.372557\n",
       " 0.167993   0.0424873  0.0539917  0.372557"
      ]
     },
     "execution_count": 383,
     "metadata": {},
     "output_type": "execute_result"
    }
   ],
   "source": [
    "hcat(gemma_LODs, scan_null_lod[3], scan_alt_lod[3], bulkscan_LODs[:, traitID])"
   ]
  },
  {
   "cell_type": "code",
   "execution_count": 384,
   "id": "d5390a85-2002-4c5e-94f1-b68a77a97692",
   "metadata": {},
   "outputs": [
    {
     "data": {
      "text/plain": [
       "0.1616233398037279"
      ]
     },
     "execution_count": 384,
     "metadata": {},
     "output_type": "execute_result"
    }
   ],
   "source": [
    "maxSqDiff(reshape(gemma_LODs, :, 1), reshape(bulkscan_LODs[:, traitID], :, 1))"
   ]
  },
  {
   "cell_type": "code",
   "execution_count": 385,
   "id": "9a7a5b0b-f735-433d-8ead-dd5a2e4fddef",
   "metadata": {},
   "outputs": [
    {
     "data": {
      "text/plain": [
       "133.24042084150756"
      ]
     },
     "execution_count": 385,
     "metadata": {},
     "output_type": "execute_result"
    }
   ],
   "source": [
    "sumSqDiff(reshape(gemma_LODs, :, 1), reshape(bulkscan_LODs[:, traitID], :, 1))"
   ]
  },
  {
   "cell_type": "code",
   "execution_count": 386,
   "id": "71ec1895-6c4c-4b40-839d-88a3da4fd4e0",
   "metadata": {},
   "outputs": [],
   "source": [
    "diff = gemma_LODs .- bulkscan_LODs[:, traitID];"
   ]
  },
  {
   "cell_type": "code",
   "execution_count": 387,
   "id": "3fb0ace3-5aab-4945-873c-b68a581a09ed",
   "metadata": {},
   "outputs": [
    {
     "data": {
      "text/plain": [
       "7321-element Vector{Float64}:\n",
       " 0.0022464670231387473\n",
       " 0.0022464670231387473\n",
       " 0.002246467023138379\n",
       " 0.002246467023138379\n",
       " 0.0022464670231387473\n",
       " 0.0022464670231387473\n",
       " 0.002246467023138379\n",
       " 0.002246467023138379\n",
       " 0.002246467023138379\n",
       " 0.002246467023138379\n",
       " 0.0022464669453011892\n",
       " 0.0022464033013353825\n",
       " 0.0011870968467121682\n",
       " ⋮\n",
       " 0.0016856686609860836\n",
       " 0.0016856686935232909\n",
       " 0.0016856686935232909\n",
       " 0.027877344900074784\n",
       " 0.033928442213412166\n",
       " 0.033928442213412166\n",
       " 0.035406502229482884\n",
       " 0.03409044954198345\n",
       " 0.034238815069574\n",
       " 0.032730552125557685\n",
       " 0.04184605246470777\n",
       " 0.04184605246470777"
      ]
     },
     "execution_count": 387,
     "metadata": {},
     "output_type": "execute_result"
    }
   ],
   "source": [
    "sqDiff = diff.^2"
   ]
  },
  {
   "cell_type": "code",
   "execution_count": null,
   "id": "d0c51068-2471-4a83-a134-59d8e14fd84c",
   "metadata": {},
   "outputs": [],
   "source": []
  }
 ],
 "metadata": {
  "kernelspec": {
   "display_name": "Julia 24 Threads 1.7.3",
   "language": "julia",
   "name": "julia-24-threads-1.7"
  },
  "language_info": {
   "file_extension": ".jl",
   "mimetype": "application/julia",
   "name": "julia",
   "version": "1.7.3"
  }
 },
 "nbformat": 4,
 "nbformat_minor": 5
}
