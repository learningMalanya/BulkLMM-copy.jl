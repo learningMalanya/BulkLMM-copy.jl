{
 "cells": [
  {
   "cell_type": "code",
   "execution_count": 1,
   "id": "c045267c-c9c6-4cff-8ad3-0637c6340605",
   "metadata": {},
   "outputs": [
    {
     "data": {
      "text/plain": [
       "\"/home/zyu20/git/BulkLMM.jl/test/notebooks\""
      ]
     },
     "execution_count": 1,
     "metadata": {},
     "output_type": "execute_result"
    }
   ],
   "source": [
    "pwd()"
   ]
  },
  {
   "cell_type": "code",
   "execution_count": 2,
   "id": "612147f0-9fac-4c5b-8d81-2ce035880f20",
   "metadata": {},
   "outputs": [],
   "source": [
    "cd(\"..\")"
   ]
  },
  {
   "cell_type": "code",
   "execution_count": 3,
   "id": "700d19aa-488d-43b2-965f-05ddcce94bb6",
   "metadata": {},
   "outputs": [
    {
     "data": {
      "text/plain": [
       "24"
      ]
     },
     "execution_count": 3,
     "metadata": {},
     "output_type": "execute_result"
    }
   ],
   "source": [
    "Threads.nthreads()"
   ]
  },
  {
   "cell_type": "code",
   "execution_count": 4,
   "id": "b59d3585-1c9f-462f-9194-e043131f2b61",
   "metadata": {},
   "outputs": [],
   "source": [
    "include(\"BXDdata_for_test.jl\"); ## Load BXD data used for testing:"
   ]
  },
  {
   "cell_type": "code",
   "execution_count": 5,
   "id": "3a948182-99bc-4feb-9ed4-e1511141bf29",
   "metadata": {},
   "outputs": [],
   "source": [
    "using LoopVectorization"
   ]
  },
  {
   "cell_type": "code",
   "execution_count": 6,
   "id": "458cdc7b-9114-4b47-930d-75c096a521e1",
   "metadata": {},
   "outputs": [],
   "source": [
    "include(\"../src/scan_LiteQTL.jl\"); ## Load multithreaded functions to be tested:"
   ]
  },
  {
   "cell_type": "code",
   "execution_count": 7,
   "id": "aff29480-afc5-47d7-90b3-7c34a735ce88",
   "metadata": {},
   "outputs": [],
   "source": [
    "include(\"../src/parallel_helpers.jl\");"
   ]
  },
  {
   "cell_type": "code",
   "execution_count": 8,
   "id": "03f4e85a-d7ca-41bd-b925-30b3e615cf61",
   "metadata": {},
   "outputs": [],
   "source": [
    "BLAS.set_num_threads(24)"
   ]
  },
  {
   "cell_type": "code",
   "execution_count": 9,
   "id": "23a5732e-7130-47f2-bc9e-989dbbb29759",
   "metadata": {},
   "outputs": [
    {
     "data": {
      "text/plain": [
       "24"
      ]
     },
     "execution_count": 9,
     "metadata": {},
     "output_type": "execute_result"
    }
   ],
   "source": [
    "BLAS.get_num_threads()"
   ]
  },
  {
   "cell_type": "code",
   "execution_count": 10,
   "id": "7c15eba8-f588-4c31-9f66-9fca943756f6",
   "metadata": {},
   "outputs": [],
   "source": [
    "hsq_list = collect(0:10) * 0.1;"
   ]
  },
  {
   "cell_type": "code",
   "execution_count": 11,
   "id": "2355875d-899b-4e1c-b55d-eed144f9ab57",
   "metadata": {},
   "outputs": [],
   "source": [
    "kinship_Gc = CSV.read(\"run-gemma/output/kinship.cXX.txt\", DataFrame, delim = '\\t', header = false) |> Matrix;"
   ]
  },
  {
   "cell_type": "code",
   "execution_count": 12,
   "id": "6dff915a-cb21-42fc-aec5-6a347f500a9f",
   "metadata": {},
   "outputs": [
    {
     "name": "stdout",
     "output_type": "stream",
     "text": [
      "  9.593756 seconds (305.30 k allocations: 22.274 GiB, 6.51% gc time, 1.48% compilation time)\n"
     ]
    }
   ],
   "source": [
    "@time bulkscan_LODs = bulkscan(pheno, geno, kinship_Gc, hsq_list);"
   ]
  },
  {
   "cell_type": "code",
   "execution_count": 23,
   "id": "0b62f875-c334-49b0-9906-4e6980ce6bc4",
   "metadata": {},
   "outputs": [
    {
     "data": {
      "text/plain": [
       "6×35556 Matrix{Float64}:\n",
       " 0.117494  0.121561  0.110276  0.0494144  …  0.0472748  0.355458  0.548261\n",
       " 0.117494  0.121561  0.110276  0.0494144     0.0472748  0.355458  0.548261\n",
       " 0.117494  0.121561  0.110276  0.0494144     0.0472748  0.355458  0.548261\n",
       " 0.117494  0.121561  0.110276  0.0494144     0.0472748  0.355458  0.548261\n",
       " 0.117494  0.121561  0.110276  0.0494144     0.0472748  0.355458  0.548261\n",
       " 0.117494  0.121561  0.110276  0.0494144  …  0.0472748  0.355458  0.548261"
      ]
     },
     "execution_count": 23,
     "metadata": {},
     "output_type": "execute_result"
    }
   ],
   "source": [
    "bulkscan_LODs[1:6, :]"
   ]
  },
  {
   "cell_type": "code",
   "execution_count": 24,
   "id": "3ffa8d11-05e8-4ff5-8137-a156d93eb186",
   "metadata": {},
   "outputs": [],
   "source": [
    "gemma = \"/home/zyu20/Softwares/gemma-0.98.5-linux-static-AMD64\";"
   ]
  },
  {
   "cell_type": "code",
   "execution_count": 25,
   "id": "095115cb-b24e-42e0-88bd-502adb73043e",
   "metadata": {},
   "outputs": [],
   "source": [
    "gemma_results = readdlm(\"run-gemma/output/gemma_results.txt.assoc.txt\", '\\t');"
   ]
  },
  {
   "cell_type": "code",
   "execution_count": 30,
   "id": "c1c10309-71ad-47c9-913e-de1f6495f10c",
   "metadata": {},
   "outputs": [
    {
     "data": {
      "text/plain": [
       "7322×10 Matrix{Any}:\n",
       "   \"chr\"  \"rs\"             \"ps\"   \"n_miss\"  …        \"l_mle\"   \"p_lrt\"\n",
       " -9       \"rs31443144\"   -9      0             100000.0       0.9681\n",
       " -9       \"rs6269442\"    -9      0             100000.0       0.9681\n",
       " -9       \"rs32285189\"   -9      0             100000.0       0.9681\n",
       " -9       \"rs258367496\"  -9      0             100000.0       0.9681\n",
       " -9       \"rs32430919\"   -9      0          …  100000.0       0.9681\n",
       " -9       \"rs36251697\"   -9      0             100000.0       0.9681\n",
       " -9       \"rs30658298\"   -9      0             100000.0       0.9681\n",
       " -9       \"rs51852623\"   -9      0             100000.0       0.9681\n",
       " -9       \"rs31879829\"   -9      0             100000.0       0.9681\n",
       " -9       \"rs36742481\"   -9      0          …  100000.0       0.9681\n",
       " -9       \"rs6365999\"    -9      0             100000.0       0.9681\n",
       " -9       \"rs13470446\"   -9      0             100000.0       0.968107\n",
       "  ⋮                                         ⋱                 \n",
       " -9       \"rs31466210\"   -9      0          …  100000.0       0.204567\n",
       " -9       \"rs212815990\"  -9      0             100000.0       0.204567\n",
       " -9       \"rs227685113\"  -9      0             100000.0       0.204567\n",
       " -9       \"rs31551153\"   -9      0             100000.0       0.404716\n",
       " -9       \"rs31556818\"   -9      0             100000.0       0.987076\n",
       " -9       \"rs31275062\"   -9      0          …  100000.0       0.987076\n",
       " -9       \"rs47382998\"   -9      0             100000.0       0.966307\n",
       " -9       \"rs13484107\"   -9      0             100000.0       0.916056\n",
       " -9       \"rs3693969\"    -9      0             100000.0       0.921259\n",
       " -9       \"DXMit223\"     -9      0             100000.0       0.87154\n",
       " -9       \"rs31638776\"   -9      0          …  100000.0       0.908162\n",
       " -9       \"rs31639754\"   -9      0             100000.0       0.908162"
      ]
     },
     "execution_count": 30,
     "metadata": {},
     "output_type": "execute_result"
    }
   ],
   "source": [
    "gemma_results"
   ]
  },
  {
   "cell_type": "code",
   "execution_count": 26,
   "id": "74776bf9-b7c7-455e-bdae-2186cc89838e",
   "metadata": {},
   "outputs": [
    {
     "data": {
      "text/plain": [
       "p2lod (generic function with 1 method)"
      ]
     },
     "execution_count": 26,
     "metadata": {},
     "output_type": "execute_result"
    }
   ],
   "source": [
    "function p2lod(pval::Float64, df::Int64)\n",
    "    \n",
    "    lrs = invlogcdf(Chisq(df), log(1-pval))\n",
    "    lod = lrs/(2*log(10))\n",
    "    \n",
    "    # return lrs\n",
    "    return lod\n",
    "\n",
    "end"
   ]
  },
  {
   "cell_type": "code",
   "execution_count": 17,
   "id": "bc61dd64-e4fb-4d95-9bfd-8fb7586f029f",
   "metadata": {},
   "outputs": [],
   "source": [
    "gemma_LODs = map(x -> p2lod(x, 1), gemma_results[2:end, 10]);"
   ]
  },
  {
   "cell_type": "code",
   "execution_count": 18,
   "id": "62c198ec-3d9a-4533-a417-52e923fd2204",
   "metadata": {},
   "outputs": [
    {
     "data": {
      "text/plain": [
       "7321×2 Matrix{Float64}:\n",
       " 0.000347286  0.0230375\n",
       " 0.000347286  0.0230375\n",
       " 0.000347286  0.0230375\n",
       " 0.000347286  0.0230375\n",
       " 0.000347286  0.0230375\n",
       " 0.000347286  0.0230375\n",
       " 0.000347286  0.0230375\n",
       " 0.000347286  0.0230375\n",
       " 0.000347286  0.0230375\n",
       " 0.000347286  0.0230375\n",
       " 0.000347286  0.0230375\n",
       " 0.000347136  0.0230399\n",
       " 0.0136122    0.149115\n",
       " ⋮            \n",
       " 0.349491     0.346613\n",
       " 0.349491     0.346613\n",
       " 0.349491     0.346613\n",
       " 0.150758     0.149648\n",
       " 5.69796e-5   0.177024\n",
       " 5.69796e-5   0.177024\n",
       " 0.000387442  0.20417\n",
       " 0.00241246   0.242513\n",
       " 0.00212172   0.238575\n",
       " 0.00567796   0.275557\n",
       " 0.00288966   0.235776\n",
       " 0.00288966   0.235776"
      ]
     },
     "execution_count": 18,
     "metadata": {},
     "output_type": "execute_result"
    }
   ],
   "source": [
    "hcat(gemma_LODs, bulkscan_LODs[:, 7919])"
   ]
  },
  {
   "cell_type": "code",
   "execution_count": 27,
   "id": "052a04b5-0366-418d-89e1-9413ebc2a115",
   "metadata": {},
   "outputs": [],
   "source": [
    "scan_null_lod = scan_null(reshape(pheno[:, 7919], :, 1), geno, kinship_Gc; reml = true);"
   ]
  },
  {
   "cell_type": "code",
   "execution_count": 28,
   "id": "efe35723-8bd9-4853-af2f-2ba8064909ac",
   "metadata": {},
   "outputs": [],
   "source": [
    "scan_alt_lod = scan_alt(reshape(pheno[:, 7919], :, 1), geno, kinship_Gc; reml = false);"
   ]
  },
  {
   "cell_type": "code",
   "execution_count": 29,
   "id": "58ab3ecb-7ab1-47d8-b3a8-5784817703df",
   "metadata": {},
   "outputs": [
    {
     "data": {
      "text/plain": [
       "7321×4 Matrix{Float64}:\n",
       " 0.000347286  0.00783497  0.00753141  0.0230375\n",
       " 0.000347286  0.00783497  0.00753141  0.0230375\n",
       " 0.000347286  0.00783497  0.00753141  0.0230375\n",
       " 0.000347286  0.00783497  0.00753141  0.0230375\n",
       " 0.000347286  0.00783497  0.00753141  0.0230375\n",
       " 0.000347286  0.00783497  0.00753141  0.0230375\n",
       " 0.000347286  0.00783497  0.00753141  0.0230375\n",
       " 0.000347286  0.00783497  0.00753141  0.0230375\n",
       " 0.000347286  0.00783497  0.00753141  0.0230375\n",
       " 0.000347286  0.00783497  0.00753141  0.0230375\n",
       " 0.000347286  0.00783497  0.00753141  0.0230375\n",
       " 0.000347136  0.00783393  0.00753041  0.0230399\n",
       " 0.0136122    0.00979026  0.00957543  0.149115\n",
       " ⋮                                    \n",
       " 0.349491     0.0949866   0.111349    0.346613\n",
       " 0.349491     0.0949866   0.111349    0.346613\n",
       " 0.349491     0.0949866   0.111349    0.346613\n",
       " 0.150758     0.0124035   0.0180153   0.149648\n",
       " 5.69796e-5   0.00756242  0.0062785   0.177024\n",
       " 5.69796e-5   0.00756242  0.0062785   0.177024\n",
       " 0.000387442  0.0140298   0.0123466   0.20417\n",
       " 0.00241246   0.0280881   0.0256506   0.242513\n",
       " 0.00212172   0.0264163   0.0240557   0.238575\n",
       " 0.00567796   0.0444271   0.0413537   0.275557\n",
       " 0.00288966   0.012342    0.0100463   0.235776\n",
       " 0.00288966   0.012342    0.0100463   0.235776"
      ]
     },
     "execution_count": 29,
     "metadata": {},
     "output_type": "execute_result"
    }
   ],
   "source": [
    "hcat(gemma_LODs, scan_null_lod[3], scan_alt_lod[3], bulkscan_LODs[:, 7919])"
   ]
  },
  {
   "cell_type": "code",
   "execution_count": 22,
   "id": "d5390a85-2002-4c5e-94f1-b68a77a97692",
   "metadata": {},
   "outputs": [
    {
     "data": {
      "text/plain": [
       "Inf"
      ]
     },
     "execution_count": 22,
     "metadata": {},
     "output_type": "execute_result"
    }
   ],
   "source": [
    "sumSqDiff(reshape(gemma_LODs, :, 1), reshape(bulkscan_LODs[:, 7919], :, 1))"
   ]
  },
  {
   "cell_type": "code",
   "execution_count": null,
   "id": "da3be676-1713-4fe6-a5d8-edd1c38ed7e2",
   "metadata": {},
   "outputs": [],
   "source": []
  }
 ],
 "metadata": {
  "kernelspec": {
   "display_name": "Julia 24 Threads 1.7.3",
   "language": "julia",
   "name": "julia-24-threads-1.7"
  },
  "language_info": {
   "file_extension": ".jl",
   "mimetype": "application/julia",
   "name": "julia",
   "version": "1.7.3"
  }
 },
 "nbformat": 4,
 "nbformat_minor": 5
}
