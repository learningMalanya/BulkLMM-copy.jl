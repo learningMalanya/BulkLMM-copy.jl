{
 "cells": [
  {
   "cell_type": "code",
   "execution_count": 1,
   "id": "c045267c-c9c6-4cff-8ad3-0637c6340605",
   "metadata": {},
   "outputs": [
    {
     "data": {
      "text/plain": [
       "\"/home/zyu20/git/BulkLMM.jl/test/notebooks\""
      ]
     },
     "execution_count": 1,
     "metadata": {},
     "output_type": "execute_result"
    }
   ],
   "source": [
    "pwd()"
   ]
  },
  {
   "cell_type": "code",
   "execution_count": 2,
   "id": "612147f0-9fac-4c5b-8d81-2ce035880f20",
   "metadata": {},
   "outputs": [],
   "source": [
    "cd(\"..\")"
   ]
  },
  {
   "cell_type": "code",
   "execution_count": 3,
   "id": "700d19aa-488d-43b2-965f-05ddcce94bb6",
   "metadata": {},
   "outputs": [
    {
     "data": {
      "text/plain": [
       "24"
      ]
     },
     "execution_count": 3,
     "metadata": {},
     "output_type": "execute_result"
    }
   ],
   "source": [
    "Threads.nthreads()"
   ]
  },
  {
   "cell_type": "code",
   "execution_count": 4,
   "id": "b59d3585-1c9f-462f-9194-e043131f2b61",
   "metadata": {},
   "outputs": [],
   "source": [
    "include(\"BXDdata_for_test.jl\"); ## Load BXD data used for testing:"
   ]
  },
  {
   "cell_type": "code",
   "execution_count": 5,
   "id": "3a948182-99bc-4feb-9ed4-e1511141bf29",
   "metadata": {},
   "outputs": [],
   "source": [
    "using LoopVectorization"
   ]
  },
  {
   "cell_type": "code",
   "execution_count": 6,
   "id": "458cdc7b-9114-4b47-930d-75c096a521e1",
   "metadata": {},
   "outputs": [],
   "source": [
    "include(\"../src/scan_LiteQTL.jl\"); ## Load multithreaded functions to be tested:"
   ]
  },
  {
   "cell_type": "code",
   "execution_count": 7,
   "id": "aff29480-afc5-47d7-90b3-7c34a735ce88",
   "metadata": {},
   "outputs": [],
   "source": [
    "include(\"../src/parallel_helpers.jl\");"
   ]
  },
  {
   "cell_type": "code",
   "execution_count": 8,
   "id": "03f4e85a-d7ca-41bd-b925-30b3e615cf61",
   "metadata": {},
   "outputs": [],
   "source": [
    "BLAS.set_num_threads(24)"
   ]
  },
  {
   "cell_type": "code",
   "execution_count": 9,
   "id": "23a5732e-7130-47f2-bc9e-989dbbb29759",
   "metadata": {},
   "outputs": [
    {
     "data": {
      "text/plain": [
       "24"
      ]
     },
     "execution_count": 9,
     "metadata": {},
     "output_type": "execute_result"
    }
   ],
   "source": [
    "BLAS.get_num_threads()"
   ]
  },
  {
   "cell_type": "code",
   "execution_count": 10,
   "id": "7c15eba8-f588-4c31-9f66-9fca943756f6",
   "metadata": {},
   "outputs": [],
   "source": [
    "hsq_list = collect(0:100) * 0.01;"
   ]
  },
  {
   "cell_type": "code",
   "execution_count": 11,
   "id": "2355875d-899b-4e1c-b55d-eed144f9ab57",
   "metadata": {},
   "outputs": [],
   "source": [
    "kinship_Gc = CSV.read(\"run-gemma/output/kinship.cXX.txt\", DataFrame, delim = '\\t', header = false) |> Matrix;"
   ]
  },
  {
   "cell_type": "code",
   "execution_count": 106,
   "id": "3c334742-6be7-4152-8dea-d67719206e68",
   "metadata": {},
   "outputs": [
    {
     "data": {
      "text/plain": [
       "1720-element Vector{Float64}:\n",
       " 0.83938\n",
       " 0.83959\n",
       " 0.84006\n",
       " 0.84079\n",
       " 0.83982\n",
       " 0.84001\n",
       " 0.83913\n",
       " 0.8393\n",
       " 0.83879\n",
       " 0.84002\n",
       " 0.84005\n",
       " 0.83908\n",
       " 0.83864\n",
       " ⋮\n",
       " 0.86321\n",
       " 0.85975\n",
       " 0.86471\n",
       " 0.86728\n",
       " 0.86729\n",
       " 1.0\n",
       " 0.86223\n",
       " 0.85079\n",
       " 0.84667\n",
       " 0.85102\n",
       " 0.84472\n",
       " 0.83718"
      ]
     },
     "execution_count": 106,
     "metadata": {},
     "output_type": "execute_result"
    }
   ],
   "source": [
    "hsq_list = unique(round.(pve_list; digits = 5))"
   ]
  },
  {
   "cell_type": "code",
   "execution_count": 107,
   "id": "6dff915a-cb21-42fc-aec5-6a347f500a9f",
   "metadata": {},
   "outputs": [
    {
     "name": "stdout",
     "output_type": "stream",
     "text": [
      "2020.285007 seconds (338.30 k allocations: 3.394 TiB, 6.46% gc time)\n"
     ]
    }
   ],
   "source": [
    "@time bulkscan_LODs = bulkscan(pheno, geno, kinship_Gc, hsq_list);"
   ]
  },
  {
   "cell_type": "code",
   "execution_count": 34,
   "id": "96478590-befb-409e-b603-754bb6da07d3",
   "metadata": {},
   "outputs": [
    {
     "name": "stdout",
     "output_type": "stream",
     "text": [
      "  0.766073 seconds (227 allocations: 2.050 GiB, 0.66% compilation time)\n"
     ]
    }
   ],
   "source": [
    "@time bulkscan_LODs = bulkscan(pheno, geno, kinship_Gc, [pve_list[1]]);"
   ]
  },
  {
   "cell_type": "code",
   "execution_count": 71,
   "id": "0b62f875-c334-49b0-9906-4e6980ce6bc4",
   "metadata": {},
   "outputs": [
    {
     "data": {
      "text/plain": [
       "6×35556 Matrix{Float64}:\n",
       " 0.117494  0.121561  0.110276  0.0494144  …  0.0473728  0.355458  0.548261\n",
       " 0.117494  0.121561  0.110276  0.0494144     0.0473728  0.355458  0.548261\n",
       " 0.117494  0.121561  0.110276  0.0494144     0.0473728  0.355458  0.548261\n",
       " 0.117494  0.121561  0.110276  0.0494144     0.0473728  0.355458  0.548261\n",
       " 0.117494  0.121561  0.110276  0.0494144     0.0473728  0.355458  0.548261\n",
       " 0.117494  0.121561  0.110276  0.0494144  …  0.0473728  0.355458  0.548261"
      ]
     },
     "execution_count": 71,
     "metadata": {},
     "output_type": "execute_result"
    }
   ],
   "source": [
    "bulkscan_LODs[1:6, :]"
   ]
  },
  {
   "cell_type": "code",
   "execution_count": 13,
   "id": "3ffa8d11-05e8-4ff5-8137-a156d93eb186",
   "metadata": {},
   "outputs": [],
   "source": [
    "gemma = \"/home/zyu20/Softwares/gemma-0.98.5-linux-static-AMD64\";"
   ]
  },
  {
   "cell_type": "code",
   "execution_count": 14,
   "id": "095115cb-b24e-42e0-88bd-502adb73043e",
   "metadata": {},
   "outputs": [],
   "source": [
    "gemma_results = readdlm(\"run-gemma/output/gemma_results.txt.assoc.txt\", '\\t');"
   ]
  },
  {
   "cell_type": "code",
   "execution_count": 72,
   "id": "c1c10309-71ad-47c9-913e-de1f6495f10c",
   "metadata": {},
   "outputs": [
    {
     "data": {
      "text/plain": [
       "7322×10 Matrix{Any}:\n",
       "   \"chr\"  \"rs\"             \"ps\"  …     \"logl_H1\"   \"l_mle\"   \"p_lrt\"\n",
       " -9       \"rs31443144\"   -9         -48.1777      1.0e6     0.968104\n",
       " -9       \"rs6269442\"    -9         -48.1777      1.0e6     0.968104\n",
       " -9       \"rs32285189\"   -9         -48.1777      1.0e6     0.968104\n",
       " -9       \"rs258367496\"  -9         -48.1777      1.0e6     0.968104\n",
       " -9       \"rs32430919\"   -9      …  -48.1777      1.0e6     0.968104\n",
       " -9       \"rs36251697\"   -9         -48.1777      1.0e6     0.968104\n",
       " -9       \"rs30658298\"   -9         -48.1777      1.0e6     0.968104\n",
       " -9       \"rs51852623\"   -9         -48.1777      1.0e6     0.968104\n",
       " -9       \"rs31879829\"   -9         -48.1777      1.0e6     0.968104\n",
       " -9       \"rs36742481\"   -9      …  -48.1777      1.0e6     0.968104\n",
       " -9       \"rs6365999\"    -9         -48.1777      1.0e6     0.968104\n",
       " -9       \"rs13470446\"   -9         -48.1777      1.0e6     0.968111\n",
       "  ⋮                              ⋱                          \n",
       " -9       \"rs31466210\"   -9      …  -47.3737      1.0e6     0.204542\n",
       " -9       \"rs212815990\"  -9         -47.3737      1.0e6     0.204542\n",
       " -9       \"rs227685113\"  -9         -47.3737      1.0e6     0.204542\n",
       " -9       \"rs31551153\"   -9         -47.8313      1.0e6     0.404683\n",
       " -9       \"rs31556818\"   -9         -48.1784      1.0e6     0.987061\n",
       " -9       \"rs31275062\"   -9      …  -48.1784      1.0e6     0.987061\n",
       " -9       \"rs47382998\"   -9         -48.1776      1.0e6     0.966325\n",
       " -9       \"rs13484107\"   -9         -48.1729      1.0e6     0.916078\n",
       " -9       \"rs3693969\"    -9         -48.1736      1.0e6     0.921281\n",
       " -9       \"DXMit223\"     -9         -48.1654      1.0e6     0.871565\n",
       " -9       \"rs31638776\"   -9      …  -48.1718      1.0e6     0.908128\n",
       " -9       \"rs31639754\"   -9         -48.1718      1.0e6     0.908128"
      ]
     },
     "execution_count": 72,
     "metadata": {},
     "output_type": "execute_result"
    }
   ],
   "source": [
    "gemma_results"
   ]
  },
  {
   "cell_type": "code",
   "execution_count": 19,
   "id": "ba300728-6c54-461e-98f2-614f793f9684",
   "metadata": {},
   "outputs": [
    {
     "data": {
      "text/plain": [
       "10-element Vector{Any}:\n",
       "  -9\n",
       "    \"rs259771792\"\n",
       "  -9\n",
       "   0\n",
       "    \"A\"\n",
       "    \"B\"\n",
       "   0.468\n",
       " -47.9976\n",
       "   1.0e6\n",
       "   0.5475111"
      ]
     },
     "execution_count": 19,
     "metadata": {},
     "output_type": "execute_result"
    }
   ],
   "source": [
    "gemma_results[7272, :]"
   ]
  },
  {
   "cell_type": "code",
   "execution_count": 108,
   "id": "74776bf9-b7c7-455e-bdae-2186cc89838e",
   "metadata": {},
   "outputs": [
    {
     "data": {
      "text/plain": [
       "p2lod (generic function with 1 method)"
      ]
     },
     "execution_count": 108,
     "metadata": {},
     "output_type": "execute_result"
    }
   ],
   "source": [
    "function p2lod(pval::Float64, df::Int64)\n",
    "    \n",
    "    lrs = invlogcdf(Chisq(df), log(1-pval))\n",
    "    lod = lrs/(2*log(10))\n",
    "    \n",
    "    # return lrs\n",
    "    return lod\n",
    "\n",
    "end"
   ]
  },
  {
   "cell_type": "code",
   "execution_count": 109,
   "id": "2db7d619-4b8f-4e0b-b97a-8815bd07285b",
   "metadata": {},
   "outputs": [],
   "source": [
    "traitID = 7919;"
   ]
  },
  {
   "cell_type": "code",
   "execution_count": 110,
   "id": "bc61dd64-e4fb-4d95-9bfd-8fb7586f029f",
   "metadata": {},
   "outputs": [],
   "source": [
    "gemma_LODs = map(x -> p2lod(x, 1), gemma_results[2:end, 10]);"
   ]
  },
  {
   "cell_type": "code",
   "execution_count": 111,
   "id": "62c198ec-3d9a-4533-a417-52e923fd2204",
   "metadata": {},
   "outputs": [
    {
     "data": {
      "text/plain": [
       "7321×2 Matrix{Float64}:\n",
       " 0.000347201  0.00817418\n",
       " 0.000347201  0.00817418\n",
       " 0.000347201  0.00817418\n",
       " 0.000347201  0.00817418\n",
       " 0.000347201  0.00817418\n",
       " 0.000347201  0.00817418\n",
       " 0.000347201  0.00817418\n",
       " 0.000347201  0.00817418\n",
       " 0.000347201  0.00817418\n",
       " 0.000347201  0.00817418\n",
       " 0.000347201  0.00817418\n",
       " 0.000347048  0.00817308\n",
       " 0.0136122    0.0796135\n",
       " ⋮            \n",
       " 0.34953      0.346613\n",
       " 0.34953      0.346613\n",
       " 0.34953      0.346613\n",
       " 0.15078      0.149648\n",
       " 5.71076e-5   0.100278\n",
       " 5.71076e-5   0.100278\n",
       " 0.00038703   0.122454\n",
       " 0.00241117   0.156015\n",
       " 0.00212054   0.152455\n",
       " 0.00567567   0.187083\n",
       " 0.00289181   0.152502\n",
       " 0.00289181   0.152502"
      ]
     },
     "execution_count": 111,
     "metadata": {},
     "output_type": "execute_result"
    }
   ],
   "source": [
    "hcat(gemma_LODs, bulkscan_LODs[:, traitID])"
   ]
  },
  {
   "cell_type": "code",
   "execution_count": 112,
   "id": "052a04b5-0366-418d-89e1-9413ebc2a115",
   "metadata": {},
   "outputs": [],
   "source": [
    "scan_null_lod = scan_null(reshape(pheno[:, traitID], :, 1), geno, kinship_Gc; reml = true);"
   ]
  },
  {
   "cell_type": "code",
   "execution_count": 113,
   "id": "efe35723-8bd9-4853-af2f-2ba8064909ac",
   "metadata": {},
   "outputs": [],
   "source": [
    "scan_alt_lod = scan_alt(reshape(pheno[:, traitID], :, 1), geno, kinship_Gc; reml = false);"
   ]
  },
  {
   "cell_type": "code",
   "execution_count": 114,
   "id": "ba5e0a7a-a6d5-4e8a-85ac-788d67d8ce02",
   "metadata": {},
   "outputs": [
    {
     "data": {
      "text/plain": [
       "(0.27014442507297315, 0.8182834272134801)"
      ]
     },
     "execution_count": 114,
     "metadata": {},
     "output_type": "execute_result"
    }
   ],
   "source": [
    "scan_null_lod[1:2]"
   ]
  },
  {
   "cell_type": "code",
   "execution_count": 115,
   "id": "fd6b4e41-c3e1-466a-83a5-96854c2d5a21",
   "metadata": {},
   "outputs": [
    {
     "data": {
      "text/plain": [
       "(0.27093129114871545, 0.8398237254127265)"
      ]
     },
     "execution_count": 115,
     "metadata": {},
     "output_type": "execute_result"
    }
   ],
   "source": [
    "scan_alt_lod[1:2]"
   ]
  },
  {
   "cell_type": "code",
   "execution_count": 116,
   "id": "21e5c779-18e0-47b4-9326-d0b4af1c1214",
   "metadata": {},
   "outputs": [
    {
     "data": {
      "text/plain": [
       "7321-element Vector{Float64}:\n",
       " 0.8393761715161548\n",
       " 0.839376171906808\n",
       " 0.8393761715158412\n",
       " 0.8393761715158412\n",
       " 0.8393761543085021\n",
       " 0.8393761841216929\n",
       " 0.8393761716135127\n",
       " 0.8393761716135127\n",
       " 0.8393761717117171\n",
       " 0.8393761717117171\n",
       " 0.8393761719122176\n",
       " 0.8393762253161536\n",
       " 0.8395948794111346\n",
       " ⋮\n",
       " 0.8510219677978855\n",
       " 0.8510219677922489\n",
       " 0.8510219677922489\n",
       " 0.8447188147735921\n",
       " 0.8386195836198566\n",
       " 0.8386195836198566\n",
       " 0.8381506264733634\n",
       " 0.8371840449155191\n",
       " 0.8372896306294759\n",
       " 0.8362295109563406\n",
       " 0.8376078862214319\n",
       " 0.8376078862214319"
      ]
     },
     "execution_count": 116,
     "metadata": {},
     "output_type": "execute_result"
    }
   ],
   "source": [
    "pve_list = scan_alt_lod[3]"
   ]
  },
  {
   "cell_type": "code",
   "execution_count": 120,
   "id": "58ab3ecb-7ab1-47d8-b3a8-5784817703df",
   "metadata": {},
   "outputs": [
    {
     "data": {
      "text/plain": [
       "7321×4 Matrix{Float64}:\n",
       " 0.000347201  0.00783497  0.00753141  0.00817418\n",
       " 0.000347201  0.00783497  0.00753141  0.00817418\n",
       " 0.000347201  0.00783497  0.00753141  0.00817418\n",
       " 0.000347201  0.00783497  0.00753141  0.00817418\n",
       " 0.000347201  0.00783497  0.00753141  0.00817418\n",
       " 0.000347201  0.00783497  0.00753141  0.00817418\n",
       " 0.000347201  0.00783497  0.00753141  0.00817418\n",
       " 0.000347201  0.00783497  0.00753141  0.00817418\n",
       " 0.000347201  0.00783497  0.00753141  0.00817418\n",
       " 0.000347201  0.00783497  0.00753141  0.00817418\n",
       " 0.000347201  0.00783497  0.00753141  0.00817418\n",
       " 0.000347048  0.00783393  0.00753041  0.00817308\n",
       " 0.0136122    0.00979026  0.00957543  0.0796135\n",
       " ⋮                                    \n",
       " 0.34953      0.0949866   0.111349    0.346613\n",
       " 0.34953      0.0949866   0.111349    0.346613\n",
       " 0.34953      0.0949866   0.111349    0.346613\n",
       " 0.15078      0.0124035   0.0180153   0.149648\n",
       " 5.71076e-5   0.00756242  0.0062785   0.100278\n",
       " 5.71076e-5   0.00756242  0.0062785   0.100278\n",
       " 0.00038703   0.0140298   0.0123466   0.122454\n",
       " 0.00241117   0.0280881   0.0256506   0.156015\n",
       " 0.00212054   0.0264163   0.0240557   0.152455\n",
       " 0.00567567   0.0444271   0.0413537   0.187083\n",
       " 0.00289181   0.012342    0.0100463   0.152502\n",
       " 0.00289181   0.012342    0.0100463   0.152502"
      ]
     },
     "execution_count": 120,
     "metadata": {},
     "output_type": "execute_result"
    }
   ],
   "source": [
    "hcat(gemma_LODs, scan_null_lod[3], scan_alt_lod[4], bulkscan_LODs[:, traitID])"
   ]
  },
  {
   "cell_type": "code",
   "execution_count": 121,
   "id": "74cb333c-3af7-49f8-8b82-ed04a7519d34",
   "metadata": {},
   "outputs": [
    {
     "data": {
      "text/plain": [
       "Float64"
      ]
     },
     "execution_count": 121,
     "metadata": {},
     "output_type": "execute_result"
    }
   ],
   "source": [
    "typeof(maxSqDiff(reshape(gemma_LODs, :, 1), reshape(bulkscan_LODs[:, traitID], :, 1)))"
   ]
  },
  {
   "cell_type": "code",
   "execution_count": 122,
   "id": "9a7a5b0b-f735-433d-8ead-dd5a2e4fddef",
   "metadata": {},
   "outputs": [
    {
     "data": {
      "text/plain": [
       "Inf"
      ]
     },
     "execution_count": 122,
     "metadata": {},
     "output_type": "execute_result"
    }
   ],
   "source": [
    "sumSqDiff(reshape(gemma_LODs, :, 1), reshape(bulkscan_LODs[:, traitID], :, 1))"
   ]
  },
  {
   "cell_type": "code",
   "execution_count": 123,
   "id": "6a53f307-15d7-4c9a-83b6-9369112c44cc",
   "metadata": {},
   "outputs": [
    {
     "data": {
      "text/plain": [
       "39.50243022951081"
      ]
     },
     "execution_count": 123,
     "metadata": {},
     "output_type": "execute_result"
    }
   ],
   "source": [
    "maxSqDiff(reshape(scan_alt_lod[4], :, 1), reshape(bulkscan_LODs[:, traitID], :, 1))"
   ]
  },
  {
   "cell_type": "code",
   "execution_count": 124,
   "id": "5ff2b24b-ac72-48b7-b442-1fdb5c631bbf",
   "metadata": {},
   "outputs": [
    {
     "data": {
      "text/plain": [
       "2859.243040916997"
      ]
     },
     "execution_count": 124,
     "metadata": {},
     "output_type": "execute_result"
    }
   ],
   "source": [
    "sumSqDiff(reshape(scan_alt_lod[4], :, 1), reshape(bulkscan_LODs[:, traitID], :, 1))"
   ]
  },
  {
   "cell_type": "code",
   "execution_count": 126,
   "id": "71ec1895-6c4c-4b40-839d-88a3da4fd4e0",
   "metadata": {},
   "outputs": [
    {
     "data": {
      "text/plain": [
       "7321-element Vector{Float64}:\n",
       " 0.000642773240984133\n",
       " 0.0006427732409748756\n",
       " 0.0006427732409798664\n",
       " 0.0006427732409798664\n",
       " 0.000642773240987219\n",
       " 0.000642773240987219\n",
       " 0.0006427732409798664\n",
       " 0.0006427732409798664\n",
       " 0.0006427732409829516\n",
       " 0.0006427732409829516\n",
       " 0.0006427732307979174\n",
       " 0.0006426629587205157\n",
       " 0.07003802748767592\n",
       " ⋮\n",
       " 0.235264401563465\n",
       " 0.2352644013563317\n",
       " 0.2352644013563317\n",
       " 0.1316324110601118\n",
       " 0.09399960211397712\n",
       " 0.09399960211397712\n",
       " 0.11010784644509328\n",
       " 0.13036417399371159\n",
       " 0.12839907637421188\n",
       " 0.14572937131025138\n",
       " 0.14245612059728235\n",
       " 0.14245612059728235"
      ]
     },
     "execution_count": 126,
     "metadata": {},
     "output_type": "execute_result"
    }
   ],
   "source": [
    "diff = bulkscan_LODs[:, traitID] .- scan_alt_lod[4]"
   ]
  },
  {
   "cell_type": "code",
   "execution_count": 127,
   "id": "32733c7a-019f-4cfc-b71f-640b51e67e33",
   "metadata": {},
   "outputs": [
    {
     "data": {
      "text/plain": [
       "7204"
      ]
     },
     "execution_count": 127,
     "metadata": {},
     "output_type": "execute_result"
    }
   ],
   "source": [
    "sum(diff .> 0)"
   ]
  },
  {
   "cell_type": "code",
   "execution_count": 66,
   "id": "f64d0efe-d342-4713-b3bf-942e4f41746e",
   "metadata": {},
   "outputs": [
    {
     "data": {
      "text/plain": [
       "(Inf, 386)"
      ]
     },
     "execution_count": 66,
     "metadata": {},
     "output_type": "execute_result"
    }
   ],
   "source": [
    "findmax(diff)"
   ]
  },
  {
   "cell_type": "code",
   "execution_count": null,
   "id": "92bbcdfa-5dd1-406f-9f51-c528c2dc69d3",
   "metadata": {},
   "outputs": [],
   "source": []
  },
  {
   "cell_type": "code",
   "execution_count": 67,
   "id": "a3c0d4a2-7158-4af2-96e7-f1de207f4ae3",
   "metadata": {},
   "outputs": [
    {
     "data": {
      "text/plain": [
       "Inf"
      ]
     },
     "execution_count": 67,
     "metadata": {},
     "output_type": "execute_result"
    }
   ],
   "source": [
    "gemma_LODs[386]"
   ]
  },
  {
   "cell_type": "code",
   "execution_count": 68,
   "id": "3d4c6ea8-57cc-48d8-8496-149eb185aa8d",
   "metadata": {},
   "outputs": [
    {
     "data": {
      "text/plain": [
       "0.030859579577579805"
      ]
     },
     "execution_count": 68,
     "metadata": {},
     "output_type": "execute_result"
    }
   ],
   "source": [
    "bulkscan_LODs[386]"
   ]
  },
  {
   "cell_type": "code",
   "execution_count": 60,
   "id": "3fb0ace3-5aab-4945-873c-b68a581a09ed",
   "metadata": {},
   "outputs": [
    {
     "data": {
      "text/plain": [
       "7321-element Vector{Float64}:\n",
       " 5.1442402969603324e-5\n",
       " 5.1442402969603324e-5\n",
       " 5.1442402969603324e-5\n",
       " 5.1442402969603324e-5\n",
       " 5.1442402969603324e-5\n",
       " 5.1442402969603324e-5\n",
       " 5.144240296963066e-5\n",
       " 5.144240296963066e-5\n",
       " 5.1442402969603324e-5\n",
       " 5.1442402969603324e-5\n",
       " 5.1442401651732605e-5\n",
       " 5.143031791056806e-5\n",
       " 1.655814872496203e-5\n",
       " ⋮\n",
       " 0.05902232376905036\n",
       " 0.05902232393621647\n",
       " 0.05902232393621647\n",
       " 0.017870370608174414\n",
       " 3.772787996126475e-5\n",
       " 3.772787996126475e-5\n",
       " 0.0001390610231513959\n",
       " 0.0005214785550989552\n",
       " 0.000464897623431067\n",
       " 0.0012224535229324138\n",
       " 4.8548144840955944e-5\n",
       " 4.8548144840955944e-5"
      ]
     },
     "execution_count": 60,
     "metadata": {},
     "output_type": "execute_result"
    }
   ],
   "source": [
    "sqDiff = diff.^2"
   ]
  },
  {
   "cell_type": "code",
   "execution_count": null,
   "id": "d0c51068-2471-4a83-a134-59d8e14fd84c",
   "metadata": {},
   "outputs": [],
   "source": []
  }
 ],
 "metadata": {
  "kernelspec": {
   "display_name": "Julia 24 Threads 1.7.3",
   "language": "julia",
   "name": "julia-24-threads-1.7"
  },
  "language_info": {
   "file_extension": ".jl",
   "mimetype": "application/julia",
   "name": "julia",
   "version": "1.7.3"
  }
 },
 "nbformat": 4,
 "nbformat_minor": 5
}
