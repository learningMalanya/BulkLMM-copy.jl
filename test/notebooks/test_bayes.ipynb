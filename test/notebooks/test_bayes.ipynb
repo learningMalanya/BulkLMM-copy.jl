{
 "cells": [
  {
   "cell_type": "code",
   "execution_count": 1,
   "id": "854390ab-1eb9-4ed7-987d-1d26608cb96d",
   "metadata": {},
   "outputs": [
    {
     "data": {
      "text/plain": [
       "\"/home/zyu20/git/BulkLMM.jl/test/notebooks\""
      ]
     },
     "execution_count": 1,
     "metadata": {},
     "output_type": "execute_result"
    }
   ],
   "source": [
    "pwd()"
   ]
  },
  {
   "cell_type": "code",
   "execution_count": 2,
   "id": "40781f74-a11e-41fc-8ac7-b5b45346431c",
   "metadata": {},
   "outputs": [],
   "source": [
    "cd(\"..\")"
   ]
  },
  {
   "cell_type": "code",
   "execution_count": 3,
   "id": "c4c3e992-39d4-4ab7-9613-676634bad6bd",
   "metadata": {},
   "outputs": [
    {
     "data": {
      "text/plain": [
       "1"
      ]
     },
     "execution_count": 3,
     "metadata": {},
     "output_type": "execute_result"
    }
   ],
   "source": [
    "Threads.nthreads()"
   ]
  },
  {
   "cell_type": "code",
   "execution_count": 4,
   "id": "cdaf7234-27bb-4c3f-a85b-1e1bf6933f1a",
   "metadata": {},
   "outputs": [],
   "source": [
    "using LoopVectorization\n",
    "using Tables\n",
    "using Test\n",
    "using Plots\n",
    "using ThreadTools"
   ]
  },
  {
   "cell_type": "code",
   "execution_count": 5,
   "id": "74ed47f1-7a20-4c7e-ab91-c4ab9e609e88",
   "metadata": {},
   "outputs": [],
   "source": [
    "include(\"BXDdata_for_test.jl\"); ## Load BXD data used for testing:"
   ]
  },
  {
   "cell_type": "code",
   "execution_count": 6,
   "id": "fba6e022-7af1-45af-9d7d-0e2c0410cbfb",
   "metadata": {},
   "outputs": [],
   "source": [
    "include(\"../src/parallel_helpers.jl\");"
   ]
  },
  {
   "cell_type": "code",
   "execution_count": 7,
   "id": "d094447b-6674-4d31-a6ea-9161e4aff740",
   "metadata": {},
   "outputs": [],
   "source": [
    "kinship_Gc = CSV.read(\"run-gemma/output/kinship.cXX.txt\", DataFrame, delim = '\\t', header = false) |> Matrix;"
   ]
  },
  {
   "cell_type": "code",
   "execution_count": null,
   "id": "c2b9b8a9-2feb-4324-87ed-32e7580e2576",
   "metadata": {},
   "outputs": [],
   "source": [
    "lods_from_gemma = CSV.File(\"output/lods_from_gemma.csv\", header = false) |> Tables.matrix;"
   ]
  },
  {
   "cell_type": "code",
   "execution_count": 8,
   "id": "77ae7694-0056-49dc-b167-f47a98ff9dc9",
   "metadata": {},
   "outputs": [],
   "source": [
    "pheno_108 = reshape(pheno[:, 108], :, 1);\n",
    "(y0_108, X0, lambda0) = transform_rotation(pheno_108, geno, kinship_Gc);\n",
    "X0_intercept = reshape(X0[:, 1], :, 1);\n",
    "X0_covar = X0[:, 2:end];"
   ]
  },
  {
   "cell_type": "markdown",
   "id": "8cbcd14c-6261-465f-8457-ef0437995cd5",
   "metadata": {},
   "source": [
    "## Get alt_assumption results w/o prior:"
   ]
  },
  {
   "cell_type": "code",
   "execution_count": 11,
   "id": "55afac41-5d87-4d09-8089-9a5a19df5d0b",
   "metadata": {
    "tags": []
   },
   "outputs": [],
   "source": [
    "results_scan_alt = scan_alt(pheno_108, geno, kinship_Gc; reml = false);\n",
    "hsqs_from_alt = results_scan_alt[3];\n",
    "lods_from_alt = results_scan_alt[4];"
   ]
  },
  {
   "cell_type": "code",
   "execution_count": 73,
   "id": "c5ccf1ec-9ea9-4188-82dc-e61685edf509",
   "metadata": {},
   "outputs": [],
   "source": [
    "hsq_from_null = results_scan_alt[2]; # fitted h2 with just the (rotated) intercept (null model)\n",
    "sigma2_from_null = results_scan_alt[1]; # fitted sigma2 with just the (rotated) intercept (null model)"
   ]
  },
  {
   "cell_type": "code",
   "execution_count": 74,
   "id": "4553c470-932d-4921-bf63-58481af56555",
   "metadata": {},
   "outputs": [
    {
     "data": {
      "text/plain": [
       "1.6944289276209026"
      ]
     },
     "execution_count": 74,
     "metadata": {},
     "output_type": "execute_result"
    }
   ],
   "source": [
    "var(pheno_108)"
   ]
  },
  {
   "cell_type": "code",
   "execution_count": 143,
   "id": "4c83a2f5-00ec-45cb-abfc-385ca5b8f982",
   "metadata": {},
   "outputs": [],
   "source": [
    "w_0_noBayes = makeweights(hsq_from_null, lambda0);"
   ]
  },
  {
   "cell_type": "code",
   "execution_count": 136,
   "id": "492e609c-4003-449e-a7b1-c19a5f3c22e6",
   "metadata": {},
   "outputs": [],
   "source": [
    "w_229_noBayes = makeweights(hsqs_from_alt[229], lambda0);"
   ]
  },
  {
   "cell_type": "code",
   "execution_count": 144,
   "id": "9a237087-4524-4457-b9e8-79e0def21b92",
   "metadata": {},
   "outputs": [],
   "source": [
    "y00_108_noBayes = rowMultiply(y0_108, sqrt.(w_0_noBayes));\n",
    "X00_noBayes = rowMultiply(X0, sqrt.(w_0_noBayes));"
   ]
  },
  {
   "cell_type": "code",
   "execution_count": 145,
   "id": "a8f240c4-a942-453d-a6cc-e0d28f171920",
   "metadata": {},
   "outputs": [
    {
     "data": {
      "text/plain": [
       "2.42140129672865e9"
      ]
     },
     "execution_count": 145,
     "metadata": {},
     "output_type": "execute_result"
    }
   ],
   "source": [
    "var(y00_108_noBayes)"
   ]
  },
  {
   "cell_type": "code",
   "execution_count": 146,
   "id": "95e43a60-8581-4753-b23a-6b877280773d",
   "metadata": {},
   "outputs": [
    {
     "data": {
      "text/plain": [
       "0.999999984947842"
      ]
     },
     "execution_count": 146,
     "metadata": {},
     "output_type": "execute_result"
    }
   ],
   "source": [
    "hsq_from_null"
   ]
  },
  {
   "cell_type": "code",
   "execution_count": 147,
   "id": "b3239e27-99fc-4676-9ed9-ca859bba4f11",
   "metadata": {},
   "outputs": [
    {
     "data": {
      "text/plain": [
       "2.295618788926793"
      ]
     },
     "execution_count": 147,
     "metadata": {},
     "output_type": "execute_result"
    }
   ],
   "source": [
    "sigma2_from_null"
   ]
  },
  {
   "cell_type": "code",
   "execution_count": 148,
   "id": "0871c5a2-cb35-4ac2-938a-978c69214aff",
   "metadata": {},
   "outputs": [
    {
     "data": {
      "text/plain": [
       "0.9999999990519461"
      ]
     },
     "execution_count": 148,
     "metadata": {},
     "output_type": "execute_result"
    }
   ],
   "source": [
    "1-sigma2_from_null/var(y00_108_noBayes)"
   ]
  },
  {
   "cell_type": "code",
   "execution_count": null,
   "id": "02973ab1-a11c-461f-b711-c68e8f73aef7",
   "metadata": {},
   "outputs": [],
   "source": []
  },
  {
   "cell_type": "code",
   "execution_count": null,
   "id": "ad8fc434-32fc-43a5-a157-58b153135b9b",
   "metadata": {},
   "outputs": [],
   "source": []
  },
  {
   "cell_type": "code",
   "execution_count": null,
   "id": "afea81bb-b70e-4ad6-a2a4-677482e805d2",
   "metadata": {},
   "outputs": [],
   "source": []
  },
  {
   "cell_type": "code",
   "execution_count": null,
   "id": "8eda6371-90c5-44cb-9ecb-3bfc4c0a41d4",
   "metadata": {},
   "outputs": [],
   "source": []
  },
  {
   "cell_type": "markdown",
   "id": "db6ed620-798f-41f2-a98b-5d354b905078",
   "metadata": {},
   "source": [
    "Any unusual LODs (less than 0) ?"
   ]
  },
  {
   "cell_type": "code",
   "execution_count": 13,
   "id": "f27ac8c8-adf3-4969-bfa7-a2bc5bc4b7d7",
   "metadata": {},
   "outputs": [
    {
     "data": {
      "text/plain": [
       "245-element Vector{Int64}:\n",
       "  229\n",
       "  230\n",
       "  231\n",
       "  232\n",
       "  233\n",
       "  234\n",
       "  235\n",
       "  236\n",
       "  237\n",
       "  238\n",
       "  239\n",
       "  240\n",
       "  241\n",
       "    ⋮\n",
       " 6112\n",
       " 6113\n",
       " 6114\n",
       " 6115\n",
       " 6116\n",
       " 6117\n",
       " 6118\n",
       " 6119\n",
       " 6123\n",
       " 6124\n",
       " 7227\n",
       " 7228"
      ]
     },
     "execution_count": 13,
     "metadata": {},
     "output_type": "execute_result"
    }
   ],
   "source": [
    "# LODs from scan_alt()\n",
    "findall(lods_from_alt .< 0)"
   ]
  },
  {
   "cell_type": "markdown",
   "id": "bc7c63ca-70c6-435b-a393-4e8bd181ec5a",
   "metadata": {},
   "source": [
    "## Get alt_assumption results w/ prior:"
   ]
  },
  {
   "cell_type": "markdown",
   "id": "02611b0a-1cba-480d-9454-dfeb5b58d04d",
   "metadata": {
    "tags": []
   },
   "source": [
    "### functions"
   ]
  },
  {
   "cell_type": "code",
   "execution_count": 706,
   "id": "b1ac5b9f-80e8-4a10-8c75-d25ad74678d7",
   "metadata": {},
   "outputs": [
    {
     "data": {
      "text/plain": [
       "79×2 Matrix{Float64}:\n",
       " 1.0         1.0\n",
       " 0.192965    0.192965\n",
       " 0.107249    0.107249\n",
       " 0.0936438   0.0936438\n",
       " 0.0615791   0.0615791\n",
       " 0.0535278   0.0535278\n",
       " 0.051644    0.051644\n",
       " 0.0475213   0.0475213\n",
       " 0.0450099   0.0450099\n",
       " 0.043622    0.043622\n",
       " 0.0419871   0.0419871\n",
       " 0.039784    0.039784\n",
       " 0.0387993   0.0387993\n",
       " ⋮           \n",
       " 0.00519658  0.00519658\n",
       " 0.00499658  0.00499658\n",
       " 0.00475156  0.00475156\n",
       " 0.00467243  0.00467243\n",
       " 0.00451079  0.00451079\n",
       " 0.00382809  0.00382809\n",
       " 0.00368365  0.00368365\n",
       " 0.00357798  0.00357798\n",
       " 0.00353566  0.00353566\n",
       " 0.00328263  0.00328263\n",
       " 0.00294727  0.00294727\n",
       " 0.00237859  0.00237859"
      ]
     },
     "execution_count": 706,
     "metadata": {},
     "output_type": "execute_result"
    }
   ],
   "source": [
    "hcat(makeweights(0.99, lambda0), makeweights_delta(0.99, lambda0))"
   ]
  },
  {
   "cell_type": "code",
   "execution_count": 1445,
   "id": "c11e36f1-5628-4b20-bf31-844ad7232dca",
   "metadata": {},
   "outputs": [
    {
     "data": {
      "text/plain": [
       "makeweights (generic function with 1 method)"
      ]
     },
     "execution_count": 1445,
     "metadata": {},
     "output_type": "execute_result"
    }
   ],
   "source": [
    "function makeweights(h2::Float64, lambda::Array{Float64,1})\n",
    "\n",
    "    vars = h2*lambda .+ (1.0-h2)\n",
    "    return 1.0./vars\n",
    "\n",
    "end"
   ]
  },
  {
   "cell_type": "code",
   "execution_count": 915,
   "id": "99400c83-6ae4-4054-bb23-f8571d01c213",
   "metadata": {},
   "outputs": [
    {
     "data": {
      "text/plain": [
       "makeweights_delta (generic function with 1 method)"
      ]
     },
     "execution_count": 915,
     "metadata": {},
     "output_type": "execute_result"
    }
   ],
   "source": [
    "function makeweights_delta(h2::Float64, lambda::Array{Float64,1})\n",
    "\n",
    "    delta = h2/(1-h2);\n",
    "    vars = (delta.*lambda .+ 1);\n",
    "    return 1.0./vars\n",
    "\n",
    "end"
   ]
  },
  {
   "cell_type": "code",
   "execution_count": 916,
   "id": "5bf5e170-493d-4a0f-ac2f-ebc6b6dab8b6",
   "metadata": {},
   "outputs": [
    {
     "data": {
      "text/plain": [
       "wls (generic function with 2 methods)"
      ]
     },
     "execution_count": 916,
     "metadata": {},
     "output_type": "execute_result"
    }
   ],
   "source": [
    "function wls(y::Array{Float64, 2}, X::Array{Float64, 2}, w::Array{Float64, 1}, \n",
    "                   prior::Array{Float64, 1};\n",
    "                   reml::Bool = false, loglik::Bool = true, method = \"qr\")\n",
    "\n",
    "    (n, p) = size(X); # get number of observations and the number of markers from geno dimensions      \n",
    "\n",
    "    n = size(y, 1); # get number of observations       \n",
    "\n",
    "    # check if weights are positive\n",
    "    if(any(w .<= .0))\n",
    "        error(\"Some weights are not positive.\")\n",
    "    end\n",
    "\n",
    "    # square root of the weights\n",
    "    sqrtw = sqrt.(w)\n",
    "\n",
    "    # logdetXtX = logdet(X' * X); constant term that does not depend on the parameters (weights); is not needed\n",
    "\n",
    "    # scale by weights\n",
    "    yy = rowMultiply(y, sqrtw)\n",
    "    XX = rowMultiply(X, sqrtw)\n",
    "\n",
    "    # least squares solution\n",
    "    # faster but numerically less stable\n",
    "    if(method == \"cholesky\")\n",
    "        fct = cholesky(XX'XX)\n",
    "        b = fct\\(XX'yy)\n",
    "        logdetXXtXX = logdet(fct)\n",
    "    end\n",
    "\n",
    "    # slower but numerically more stable\n",
    "    if(method == \"qr\")\n",
    "        fct = qr(XX)\n",
    "        b = fct\\yy\n",
    "        logdetXXtXX = 2*logabsdet(fct.R)[1];\n",
    "\n",
    "    end\n",
    "\n",
    "    yyhat = XX*b\n",
    "    rss0 = sum((yy-yyhat).^2)\n",
    "\n",
    "    if(reml)\n",
    "        sigma2 = rss0/(n-p)\n",
    "    else\n",
    "        sigma2 = (rss0+prior[1]*prior[2])/(n+prior[2])\n",
    "    end\n",
    "\n",
    "    # see formulas (2) and (3) of Kang (2008)\n",
    "    if(loglik)\n",
    "\n",
    "        # ell = -0.5 * (n*log(sigma2) - sum(log.(w)) + rss0/sigma2)\n",
    "        ell = -0.5 * ((n+prior[2])*log(sigma2) - sum(log.(w)) + (rss0+prior[1]*prior[2])/sigma2)\n",
    "\n",
    "        if(reml)\n",
    "            # ell = ell + 0.5 * (p*log(2pi*sigma2) + logdetXtX - logdetXXtXX) # full log-likelihood including the constant terms;\n",
    "            ell = ell + 0.5 * (p*log(sigma2) - logdetXXtXX)\n",
    "        end\n",
    "        \n",
    "    else\n",
    "        ell = missing;\n",
    "    end\n",
    "\n",
    "    return LSEstimates(b, sigma2, ell)\n",
    "\n",
    "end"
   ]
  },
  {
   "cell_type": "code",
   "execution_count": 1359,
   "id": "9043b3ed-9cdd-4406-9352-857c2d01d11d",
   "metadata": {},
   "outputs": [
    {
     "data": {
      "text/plain": [
       "fitlmm (generic function with 3 methods)"
      ]
     },
     "execution_count": 1359,
     "metadata": {},
     "output_type": "execute_result"
    }
   ],
   "source": [
    "function fitlmm(y::Array{Float64, 2}, X::Array{Float64, 2}, lambda::Array{Float64, 1}, \n",
    "                    prior::Array{Float64, 1};\n",
    "                    reml::Bool = false, method::String = \"qr\", loglik::Bool = true, \n",
    "                    h20::Float64 = 0.5, d::Float64 = 1.0)\n",
    "    \n",
    "    function logLik0(h2::Float64)\n",
    "        # out = wls(y, X, makeweights_delta(h2, lambda), prior; \n",
    "        #          reml = reml, loglik = loglik, method = method)\n",
    "        \n",
    "        out = wls(y, X, makeweights_delta(h2, lambda), prior; \n",
    "                 reml = reml, loglik = loglik, method = method)\n",
    "        return -out.ell\n",
    "    end\n",
    "    \n",
    "    ## avoid the use of global variable in inner function;\n",
    "\n",
    "    opt = optimize(logLik0, max(h20-d, 0.0), min(h20+d, 1.0))\n",
    "    h2 = opt.minimizer\n",
    "    # est = wls(y, X, makeweights_delta(h2, lambda), prior; reml = reml, loglik = loglik, method = method)\n",
    "    est = wls(y, X, makeweights_delta(h2, lambda), prior; reml = reml, loglik = loglik, method = method)\n",
    "    return LMMEstimates(est.b, est.sigma2, h2, est.ell)\n",
    "end"
   ]
  },
  {
   "cell_type": "code",
   "execution_count": 1121,
   "id": "aedd5be3-1776-4222-80b9-790bef5435ba",
   "metadata": {},
   "outputs": [
    {
     "data": {
      "text/plain": [
       "LMMEstimates([6.378529983988148; -0.6925971729917539;;], 1.788534845458891, 0.8129896939872916, -60.278604069870745)"
      ]
     },
     "execution_count": 1121,
     "metadata": {},
     "output_type": "execute_result"
    }
   ],
   "source": [
    "test = fitlmm(y0_108, hcat(X0_intercept, X0_covar[:, 229]), lambda0, prior)"
   ]
  },
  {
   "cell_type": "code",
   "execution_count": 1125,
   "id": "6cfd94fa-ea48-421e-a322-86029c32c3a7",
   "metadata": {},
   "outputs": [
    {
     "data": {
      "text/plain": [
       "0.8129896939872916"
      ]
     },
     "execution_count": 1125,
     "metadata": {},
     "output_type": "execute_result"
    }
   ],
   "source": [
    "test.h2 # optimized by Brent's method"
   ]
  },
  {
   "cell_type": "code",
   "execution_count": 1126,
   "id": "0eb13717-22f8-4a25-84bd-1a7acc1c994f",
   "metadata": {},
   "outputs": [
    {
     "data": {
      "text/plain": [
       "-60.278604069870745"
      ]
     },
     "execution_count": 1126,
     "metadata": {},
     "output_type": "execute_result"
    }
   ],
   "source": [
    "test.ell # maximized LL"
   ]
  },
  {
   "cell_type": "code",
   "execution_count": 1128,
   "id": "217fe6b0-c8a0-4cdd-98bf-a00c9ed67e96",
   "metadata": {},
   "outputs": [],
   "source": [
    "test_h2_099 = wls(y0_108, hcat(X0_intercept, X0_covar[:, 229]), makeweights(0.99, lambda0), prior; reml = false);"
   ]
  },
  {
   "cell_type": "code",
   "execution_count": 1130,
   "id": "bb473352-ef23-4a8d-a34b-c361325ab555",
   "metadata": {},
   "outputs": [],
   "source": [
    "test_h2_099_null = wls(y0_108, X0_intercept, makeweights(0.99, lambda0), prior; reml = false);"
   ]
  },
  {
   "cell_type": "code",
   "execution_count": 1129,
   "id": "cfcde43d-8016-43e4-b774-57da00e232d3",
   "metadata": {},
   "outputs": [
    {
     "data": {
      "text/plain": [
       "-59.9800806925836"
      ]
     },
     "execution_count": 1129,
     "metadata": {},
     "output_type": "execute_result"
    }
   ],
   "source": [
    "test_h2_099.ell"
   ]
  },
  {
   "cell_type": "code",
   "execution_count": 1131,
   "id": "abeaed24-f336-4c0d-ae6c-462472c9e92e",
   "metadata": {},
   "outputs": [
    {
     "data": {
      "text/plain": [
       "-61.78414571381346"
      ]
     },
     "execution_count": 1131,
     "metadata": {},
     "output_type": "execute_result"
    }
   ],
   "source": [
    "test_h2_099_null.ell"
   ]
  },
  {
   "cell_type": "code",
   "execution_count": 1085,
   "id": "54151a6b-e5c1-421f-8767-ecacafbf341e",
   "metadata": {},
   "outputs": [
    {
     "data": {
      "text/plain": [
       "scan_alt (generic function with 2 methods)"
      ]
     },
     "execution_count": 1085,
     "metadata": {},
     "output_type": "execute_result"
    }
   ],
   "source": [
    "function scan_alt(y::Array{Float64, 2}, g::Array{Float64, 2}, K::Array{Float64, 2}, \n",
    "                  prior::Array{Float64, 1}; \n",
    "                  reml::Bool = false)\n",
    "\n",
    "    # number of markers\n",
    "    (n, p) = size(g)\n",
    "    # make intercept\n",
    "    intercept = ones(n, 1)\n",
    "    # rotate data\n",
    "    (y0, X0, lambda0) = rotateData(y, [intercept g], K)\n",
    "\n",
    "    pve_list = Array{Float64, 1}(undef, p);\n",
    "\n",
    "    X00 = reshape(X0[:, 1], :, 1)\n",
    "    # fit null lmm\n",
    "    out00 = fitlmm(y0, X00, lambda0, prior; reml = reml);\n",
    "\n",
    "    lod = zeros(p)\n",
    "    X = zeros(n, 2)\n",
    "    X[:, 1] = X0[:, 1]\n",
    "    for i = 1:p\n",
    "        X[:, 2] = X0[:, i+1]\n",
    "        \n",
    "        out11 = fitlmm(y0, X, lambda0, prior; reml = reml);\n",
    "\n",
    "        pve_list[i] = out11.h2;\n",
    "\n",
    "        lod[i] = (out11.ell - out00.ell)/log(10)\n",
    "    end\n",
    "\n",
    "    return (out00.sigma2, out00.h2, pve_list, lod)\n",
    "\n",
    "end"
   ]
  },
  {
   "cell_type": "markdown",
   "id": "e1e982ee-b0b4-464a-8fb6-14bb6fa2beed",
   "metadata": {},
   "source": [
    "### results"
   ]
  },
  {
   "cell_type": "code",
   "execution_count": 1086,
   "id": "155aa828-4ed5-4984-80d0-83db8effd4a6",
   "metadata": {},
   "outputs": [],
   "source": [
    "# prior = [sum((y0_108 .- mean(y0_108)).^2), 1/100];"
   ]
  },
  {
   "cell_type": "code",
   "execution_count": 1087,
   "id": "b9f237c3-83b5-4cc7-9dec-99f99f27cfb9",
   "metadata": {},
   "outputs": [
    {
     "data": {
      "text/plain": [
       "2-element Vector{Float64}:\n",
       "  1.6944289276209026\n",
       " 10.0"
      ]
     },
     "execution_count": 1087,
     "metadata": {},
     "output_type": "execute_result"
    }
   ],
   "source": [
    "prior"
   ]
  },
  {
   "cell_type": "code",
   "execution_count": 1088,
   "id": "4989b0a8-2918-4831-9698-59c6bca97f26",
   "metadata": {},
   "outputs": [],
   "source": [
    "y00_108_test = rowMultiply(y0_108, sqrt.(makeweights(0.0, lambda0)));"
   ]
  },
  {
   "cell_type": "code",
   "execution_count": 1089,
   "id": "c8d0ffe8-1bc6-4964-a7a7-a1237f55314f",
   "metadata": {},
   "outputs": [
    {
     "data": {
      "text/plain": [
       "38.062170489777195"
      ]
     },
     "execution_count": 1089,
     "metadata": {},
     "output_type": "execute_result"
    }
   ],
   "source": [
    "var(y0_108)"
   ]
  },
  {
   "cell_type": "code",
   "execution_count": 1090,
   "id": "5fcc0536-829c-4ffb-a2e5-ab03a0744f61",
   "metadata": {},
   "outputs": [
    {
     "data": {
      "text/plain": [
       "38.062170489777195"
      ]
     },
     "execution_count": 1090,
     "metadata": {},
     "output_type": "execute_result"
    }
   ],
   "source": [
    "var(y00_108_test)"
   ]
  },
  {
   "cell_type": "code",
   "execution_count": 984,
   "id": "929b4ee6-61fc-42ae-8c66-7c6743f18b87",
   "metadata": {},
   "outputs": [],
   "source": [
    "prior = [var(y00_108_test), 1/100];"
   ]
  },
  {
   "cell_type": "code",
   "execution_count": 1091,
   "id": "52d04c58-db4f-49e6-a726-38f62db5a40d",
   "metadata": {},
   "outputs": [],
   "source": [
    "results_scan_alt_b = scan_alt(pheno_108, geno, kinship_Gc, prior; reml = false);\n",
    "hsqs_from_alt_b = results_scan_alt_b[3];\n",
    "lods_from_alt_b = results_scan_alt_b[4];"
   ]
  },
  {
   "cell_type": "code",
   "execution_count": 1092,
   "id": "865c8c31-f4dd-492e-b5ca-8a17ce5f3873",
   "metadata": {},
   "outputs": [],
   "source": [
    "hsq_from_null_b = results_scan_alt_b[2]; # fitted h2 with just the (rotated) intercept (null model)\n",
    "sigma2_from_null_b = results_scan_alt_b[1]; # fitted sigma2 with just the (rotated) intercept (null model)"
   ]
  },
  {
   "cell_type": "code",
   "execution_count": 1093,
   "id": "04ed1c43-3c8d-484b-bcfb-bf2b1686f78a",
   "metadata": {},
   "outputs": [
    {
     "data": {
      "text/plain": [
       "0.999999984947842"
      ]
     },
     "execution_count": 1093,
     "metadata": {},
     "output_type": "execute_result"
    }
   ],
   "source": [
    "hsq_from_null_b"
   ]
  },
  {
   "cell_type": "code",
   "execution_count": 1097,
   "id": "62f0a8cc-197e-498b-81c3-f91ee0ea792d",
   "metadata": {},
   "outputs": [],
   "source": [
    "w_0_Bayes = makeweights_delta(hsq_from_null_b, lambda0);"
   ]
  },
  {
   "cell_type": "code",
   "execution_count": 1098,
   "id": "e39f9e62-a0e7-4326-9d46-ee9cc27cf31a",
   "metadata": {},
   "outputs": [],
   "source": [
    "w_229_Bayes = makeweights_delta(hsqs_from_alt_b[229], lambda0);"
   ]
  },
  {
   "cell_type": "code",
   "execution_count": 1099,
   "id": "2939c0e2-a821-41e1-872e-d3e1d51144ad",
   "metadata": {},
   "outputs": [],
   "source": [
    "y00_108_Bayes = rowMultiply(y0_108, sqrt.(w_0_Bayes));\n",
    "X00_Bayes = rowMultiply(X0, sqrt.(w_0_Bayes));"
   ]
  },
  {
   "cell_type": "code",
   "execution_count": 1100,
   "id": "9627abd4-43c1-4d65-b6d9-dc6f0e93810d",
   "metadata": {},
   "outputs": [
    {
     "data": {
      "text/plain": [
       "36.44731481378111"
      ]
     },
     "execution_count": 1100,
     "metadata": {},
     "output_type": "execute_result"
    }
   ],
   "source": [
    "var(y00_108_Bayes)"
   ]
  },
  {
   "cell_type": "code",
   "execution_count": 1101,
   "id": "93b369c3-a9c6-4a64-9cd5-3c310146df8f",
   "metadata": {},
   "outputs": [
    {
     "data": {
      "text/plain": [
       "0.999999984947842"
      ]
     },
     "execution_count": 1101,
     "metadata": {},
     "output_type": "execute_result"
    }
   ],
   "source": [
    "hsq_from_null_b"
   ]
  },
  {
   "cell_type": "code",
   "execution_count": 1102,
   "id": "944eb1be-1ad6-469b-a0a9-b0d435303673",
   "metadata": {},
   "outputs": [
    {
     "data": {
      "text/plain": [
       "2.2280693663081537"
      ]
     },
     "execution_count": 1102,
     "metadata": {},
     "output_type": "execute_result"
    }
   ],
   "source": [
    "sigma2_from_null_b"
   ]
  },
  {
   "cell_type": "code",
   "execution_count": 1103,
   "id": "2d70818a-4057-40e7-a58f-73c146f132ad",
   "metadata": {},
   "outputs": [
    {
     "data": {
      "text/plain": [
       "0.9388687650189885"
      ]
     },
     "execution_count": 1103,
     "metadata": {},
     "output_type": "execute_result"
    }
   ],
   "source": [
    "1-sigma2_from_null_b/var(y00_108_Bayes)"
   ]
  },
  {
   "cell_type": "code",
   "execution_count": null,
   "id": "4df81a4b-1b5a-4e8b-a919-de886fad697a",
   "metadata": {},
   "outputs": [],
   "source": []
  },
  {
   "cell_type": "code",
   "execution_count": null,
   "id": "a3953848-b6be-46bf-afec-be738e3b2f60",
   "metadata": {},
   "outputs": [],
   "source": []
  },
  {
   "cell_type": "code",
   "execution_count": 1104,
   "id": "faacc9e4-f5e3-4da1-b8f8-81fe6febd331",
   "metadata": {},
   "outputs": [
    {
     "data": {
      "text/plain": [
       "7321×3 Matrix{Float64}:\n",
       " 0.0219153   0.0225785  0.0219155\n",
       " 0.0219153   0.0225785  0.0219155\n",
       " 0.0219153   0.0225785  0.0219155\n",
       " 0.0219153   0.0225785  0.0219155\n",
       " 0.0219153   0.0225785  0.0219155\n",
       " 0.0219153   0.0225785  0.0219155\n",
       " 0.0219153   0.0225785  0.0219155\n",
       " 0.0219153   0.0225785  0.0219155\n",
       " 0.0219153   0.0225785  0.0219155\n",
       " 0.0219153   0.0225785  0.0219155\n",
       " 0.0219153   0.0225785  0.0219155\n",
       " 0.021912    0.0225751  0.0219122\n",
       " 0.0567256   0.0584371  0.0567251\n",
       " ⋮                      \n",
       " 0.248678    0.256058   0.248678\n",
       " 0.248678    0.256058   0.248678\n",
       " 0.248678    0.256058   0.248678\n",
       " 0.0686881  -0.0146636  0.0686887\n",
       " 0.124881    0.128627   0.124882\n",
       " 0.124881    0.128627   0.124882\n",
       " 0.249213    0.256608   0.249213\n",
       " 0.273645    0.281748   0.273645\n",
       " 0.271594    0.279638   0.271594\n",
       " 0.285893    0.294349   0.285893\n",
       " 0.229505    0.236327   0.229504\n",
       " 0.229505    0.236327   0.229504"
      ]
     },
     "execution_count": 1104,
     "metadata": {},
     "output_type": "execute_result"
    }
   ],
   "source": [
    "hcat(lods_from_alt, lods_from_alt_b, lods_from_gemma[:, 108])"
   ]
  },
  {
   "cell_type": "markdown",
   "id": "959e9273-e1a2-48c2-bce8-1aa6198d8207",
   "metadata": {},
   "source": [
    "Let's look at how the negative LODs are corrected in this manner, with comparisons with GEMMA LODs..."
   ]
  },
  {
   "cell_type": "code",
   "execution_count": 1105,
   "id": "091f36ba-dabb-4eec-ab8b-636a91214755",
   "metadata": {},
   "outputs": [
    {
     "data": {
      "text/plain": [
       "246×3 Matrix{Any}:\n",
       "   \"uncorrected\"    \"corrected\"   \"gemma\"\n",
       " -2.2873          -2.20946       0.736546\n",
       " -2.2873          -2.20946       0.736546\n",
       " -2.2873          -2.20946       0.736546\n",
       " -2.36798         -2.28627       0.582913\n",
       " -1.41325         -1.33577       1.3266\n",
       " -1.50067         -1.41969       1.30913\n",
       " -1.67281         -1.59134       1.16035\n",
       " -1.67281         -1.59134       1.16035\n",
       " -1.90021         -1.8184        0.930859\n",
       " -1.90021         -1.8184        0.930859\n",
       " -1.90013         -1.81832       0.930918\n",
       " -1.55903         -1.47921       1.16779\n",
       "  ⋮                              \n",
       " -2.9462          -2.8641        0.0473551\n",
       " -2.94618         -2.86408       0.0473611\n",
       " -2.94618         -2.86408       0.0473611\n",
       " -2.16293         -2.08077       0.77996\n",
       " -2.51206         -2.43202       0.525381\n",
       " -2.57682         -2.50001       0.475996\n",
       " -2.57682         -2.50001       0.475996\n",
       " -2.46246         -2.38157       0.582341\n",
       " -2.405           -2.3243        0.710655\n",
       " -2.405           -2.3243        0.710655\n",
       " -0.100951        -0.103474      2.25932e-5\n",
       " -0.100951        -0.103474      2.25932e-5"
      ]
     },
     "execution_count": 1105,
     "metadata": {},
     "output_type": "execute_result"
    }
   ],
   "source": [
    "vcat([\"uncorrected\" \"corrected\" \"gemma\"],\n",
    "    hcat(lods_from_alt[findall(lods_from_alt .< 0)], \n",
    "         lods_from_alt_b[findall(lods_from_alt .< 0)], \n",
    "         lods_from_gemma[:, 108][lods_from_alt .< 0]))"
   ]
  },
  {
   "cell_type": "code",
   "execution_count": 1106,
   "id": "87323c43-2195-4692-9a3f-2914b9a28b6d",
   "metadata": {},
   "outputs": [
    {
     "data": {
      "text/plain": [
       "-2.287303635083661"
      ]
     },
     "execution_count": 1106,
     "metadata": {},
     "output_type": "execute_result"
    }
   ],
   "source": [
    "lods_from_alt[229]"
   ]
  },
  {
   "cell_type": "code",
   "execution_count": 1107,
   "id": "430e5cac-d645-4ce6-8106-5686093b8764",
   "metadata": {},
   "outputs": [
    {
     "data": {
      "text/plain": [
       "-2.209455279000439"
      ]
     },
     "execution_count": 1107,
     "metadata": {},
     "output_type": "execute_result"
    }
   ],
   "source": [
    "lods_from_alt_b[229]"
   ]
  },
  {
   "cell_type": "code",
   "execution_count": 1108,
   "id": "53b85f0c-8a19-4e55-b26d-093d71f1ce40",
   "metadata": {},
   "outputs": [
    {
     "data": {
      "text/plain": [
       "0.999999984947842"
      ]
     },
     "execution_count": 1108,
     "metadata": {},
     "output_type": "execute_result"
    }
   ],
   "source": [
    "hsq_from_null"
   ]
  },
  {
   "cell_type": "code",
   "execution_count": 1109,
   "id": "1ba008bd-ebd2-43be-b1d9-17ddf3e69776",
   "metadata": {},
   "outputs": [
    {
     "data": {
      "text/plain": [
       "0.833613472805243"
      ]
     },
     "execution_count": 1109,
     "metadata": {},
     "output_type": "execute_result"
    }
   ],
   "source": [
    "hsqs_from_alt[229]"
   ]
  },
  {
   "cell_type": "code",
   "execution_count": 1110,
   "id": "1c0e0147-7a9a-4cc9-b6ba-f04131a49d4b",
   "metadata": {},
   "outputs": [
    {
     "data": {
      "text/plain": [
       "0.8129896939872916"
      ]
     },
     "execution_count": 1110,
     "metadata": {},
     "output_type": "execute_result"
    }
   ],
   "source": [
    "hsqs_from_alt_b[229]"
   ]
  },
  {
   "cell_type": "markdown",
   "id": "180eb4ef-b160-4f13-8c9a-07f1ff7752aa",
   "metadata": {},
   "source": [
    "## Compare loglikelihoods:"
   ]
  },
  {
   "cell_type": "code",
   "execution_count": 1203,
   "id": "81ac2051-9473-4576-b0e4-99cf76be176e",
   "metadata": {},
   "outputs": [],
   "source": [
    "hsqs = collect(0.001:0.001:0.999);"
   ]
  },
  {
   "cell_type": "code",
   "execution_count": 1204,
   "id": "cd14b767-050f-412b-9eed-72dfa88cd7ba",
   "metadata": {},
   "outputs": [
    {
     "data": {
      "text/plain": [
       "getLL (generic function with 1 method)"
      ]
     },
     "execution_count": 1204,
     "metadata": {},
     "output_type": "execute_result"
    }
   ],
   "source": [
    "function getLL(y::Array{Float64, 2}, X::Array{Float64, 2}, lambda::Array{Float64, 1}, hsqs::Array{Float64, 1},\n",
    "               prior::Array{Float64, 1}, which_X::Int)\n",
    "    \n",
    "    weights = map(x -> makeweights_delta(x, lambda), hsqs) |> (x -> reduce(hcat, x));\n",
    "    \n",
    "    X_intercept = reshape(X[:, 1], :, 1);\n",
    "    X_covar = X[:, 2:end];\n",
    "    X_mod = X_covar[:, which_X];\n",
    "    \n",
    "    LL_noBayes_null = mapslices(x -> wls(y, X_intercept, x).ell, weights; dims = 1) |> vec;\n",
    "    LL_noBayes_alt = mapslices(x -> wls(y, hcat(X_intercept, X_mod), x).ell, weights; dims = 1) |> vec;\n",
    "    \n",
    "    LL_Bayes_null = mapslices(x -> wls(y, X_intercept, x, prior).ell, weights; dims = 1) |> vec;\n",
    "    LL_Bayes_alt = mapslices(x -> wls(y, hcat(X_intercept, X_mod), x, prior).ell, weights; dims = 1) |> vec;\n",
    "    \n",
    "    return (LL_noBayes_null, LL_noBayes_alt, LL_Bayes_null, LL_Bayes_alt)\n",
    "    \n",
    "end"
   ]
  },
  {
   "cell_type": "code",
   "execution_count": 1223,
   "id": "4161b226-d273-4713-8dc4-d1f9eb017fb7",
   "metadata": {},
   "outputs": [
    {
     "data": {
      "text/plain": [
       "2-element Vector{Float64}:\n",
       " 38.062170489777195\n",
       "  0.01"
      ]
     },
     "execution_count": 1223,
     "metadata": {},
     "output_type": "execute_result"
    }
   ],
   "source": [
    "prior = [var(y0_108), 1/100]"
   ]
  },
  {
   "cell_type": "code",
   "execution_count": 1224,
   "id": "8bc52cec-c229-4b9e-8460-cad825e58c37",
   "metadata": {},
   "outputs": [
    {
     "data": {
      "text/plain": [
       "2-element Vector{Float64}:\n",
       " 38.062170489777195\n",
       "  0.01"
      ]
     },
     "execution_count": 1224,
     "metadata": {},
     "output_type": "execute_result"
    }
   ],
   "source": [
    "prior"
   ]
  },
  {
   "cell_type": "code",
   "execution_count": 1225,
   "id": "516334b1-e887-4708-a3ab-40f441a79a89",
   "metadata": {},
   "outputs": [
    {
     "data": {
      "text/plain": [
       "1.6"
      ]
     },
     "execution_count": 1225,
     "metadata": {},
     "output_type": "execute_result"
    }
   ],
   "source": [
    "prior[1] = 1.6"
   ]
  },
  {
   "cell_type": "code",
   "execution_count": 1233,
   "id": "00d0d37c-e9e7-4ca5-ba5b-16e912f4f271",
   "metadata": {},
   "outputs": [
    {
     "data": {
      "text/plain": [
       "0.1"
      ]
     },
     "execution_count": 1233,
     "metadata": {},
     "output_type": "execute_result"
    }
   ],
   "source": [
    "prior[2] = 0.1"
   ]
  },
  {
   "cell_type": "code",
   "execution_count": 1234,
   "id": "b60d7c5f-e24e-4eb6-99c2-dcb2ecbeef07",
   "metadata": {},
   "outputs": [
    {
     "data": {
      "text/plain": [
       "2-element Vector{Float64}:\n",
       " 1.6\n",
       " 0.1"
      ]
     },
     "execution_count": 1234,
     "metadata": {},
     "output_type": "execute_result"
    }
   ],
   "source": [
    "prior"
   ]
  },
  {
   "cell_type": "code",
   "execution_count": 1245,
   "id": "9944b930-a3fa-4529-9e7a-a00cd1d2e015",
   "metadata": {},
   "outputs": [
    {
     "data": {
      "text/plain": [
       "1.6944289276209026"
      ]
     },
     "execution_count": 1245,
     "metadata": {},
     "output_type": "execute_result"
    }
   ],
   "source": [
    "var(pheno[:, 108])"
   ]
  },
  {
   "cell_type": "code",
   "execution_count": 1246,
   "id": "3a7a6393-70b6-4a02-a48e-88cfc4923d3f",
   "metadata": {},
   "outputs": [
    {
     "data": {
      "text/plain": [
       "2-element Vector{Float64}:\n",
       " 1.6944289276209026\n",
       " 0.1"
      ]
     },
     "execution_count": 1246,
     "metadata": {},
     "output_type": "execute_result"
    }
   ],
   "source": [
    "prior = [var(pheno[:, 108]), 1/10]"
   ]
  },
  {
   "cell_type": "code",
   "execution_count": 1247,
   "id": "dae6643c-3712-48c8-8d5e-94f6f86d9647",
   "metadata": {},
   "outputs": [],
   "source": [
    "full_results = getLL(y0_108, X0, lambda0, hsqs, prior, 229);"
   ]
  },
  {
   "cell_type": "code",
   "execution_count": 1248,
   "id": "b0c1679e-1c19-429a-88dc-b46f697964d1",
   "metadata": {},
   "outputs": [
    {
     "data": {
      "text/plain": [
       "-52.906943200172606"
      ]
     },
     "execution_count": 1248,
     "metadata": {},
     "output_type": "execute_result"
    }
   ],
   "source": [
    "maximum(full_results[1])"
   ]
  },
  {
   "cell_type": "code",
   "execution_count": 1249,
   "id": "357d0c1a-cac5-4a75-b32f-47496628dc22",
   "metadata": {},
   "outputs": [],
   "source": [
    "max_noBayes_null = findmax(full_results[1]);\n",
    "max_noBayes_alt = findmax(full_results[2]);"
   ]
  },
  {
   "cell_type": "code",
   "execution_count": 1250,
   "id": "2adeb1d7-d253-413c-9be9-cba4f939c5e7",
   "metadata": {},
   "outputs": [
    {
     "data": {
      "image/svg+xml": [
       "<?xml version=\"1.0\" encoding=\"utf-8\"?>\n",
       "<svg xmlns=\"http://www.w3.org/2000/svg\" xmlns:xlink=\"http://www.w3.org/1999/xlink\" width=\"600\" height=\"400\" viewBox=\"0 0 2400 1600\">\n",
       "<defs>\n",
       "  <clipPath id=\"clip590\">\n",
       "    <rect x=\"0\" y=\"0\" width=\"2400\" height=\"1600\"/>\n",
       "  </clipPath>\n",
       "</defs>\n",
       "<path clip-path=\"url(#clip590)\" d=\"\n",
       "M0 1600 L2400 1600 L2400 0 L0 0  Z\n",
       "  \" fill=\"#ffffff\" fill-rule=\"evenodd\" fill-opacity=\"1\"/>\n",
       "<defs>\n",
       "  <clipPath id=\"clip591\">\n",
       "    <rect x=\"480\" y=\"0\" width=\"1681\" height=\"1600\"/>\n",
       "  </clipPath>\n",
       "</defs>\n",
       "<path clip-path=\"url(#clip590)\" d=\"\n",
       "M179.353 1486.45 L2352.76 1486.45 L2352.76 47.2441 L179.353 47.2441  Z\n",
       "  \" fill=\"#ffffff\" fill-rule=\"evenodd\" fill-opacity=\"1\"/>\n",
       "<defs>\n",
       "  <clipPath id=\"clip592\">\n",
       "    <rect x=\"179\" y=\"47\" width=\"2174\" height=\"1440\"/>\n",
       "  </clipPath>\n",
       "</defs>\n",
       "<polyline clip-path=\"url(#clip592)\" style=\"stroke:#000000; stroke-linecap:round; stroke-linejoin:round; stroke-width:2; stroke-opacity:0.1; fill:none\" points=\"\n",
       "  238.81,1486.45 238.81,47.2441 \n",
       "  \"/>\n",
       "<polyline clip-path=\"url(#clip592)\" style=\"stroke:#000000; stroke-linecap:round; stroke-linejoin:round; stroke-width:2; stroke-opacity:0.1; fill:none\" points=\"\n",
       "  752.432,1486.45 752.432,47.2441 \n",
       "  \"/>\n",
       "<polyline clip-path=\"url(#clip592)\" style=\"stroke:#000000; stroke-linecap:round; stroke-linejoin:round; stroke-width:2; stroke-opacity:0.1; fill:none\" points=\"\n",
       "  1266.05,1486.45 1266.05,47.2441 \n",
       "  \"/>\n",
       "<polyline clip-path=\"url(#clip592)\" style=\"stroke:#000000; stroke-linecap:round; stroke-linejoin:round; stroke-width:2; stroke-opacity:0.1; fill:none\" points=\"\n",
       "  1779.68,1486.45 1779.68,47.2441 \n",
       "  \"/>\n",
       "<polyline clip-path=\"url(#clip592)\" style=\"stroke:#000000; stroke-linecap:round; stroke-linejoin:round; stroke-width:2; stroke-opacity:0.1; fill:none\" points=\"\n",
       "  2293.3,1486.45 2293.3,47.2441 \n",
       "  \"/>\n",
       "<polyline clip-path=\"url(#clip590)\" style=\"stroke:#000000; stroke-linecap:round; stroke-linejoin:round; stroke-width:4; stroke-opacity:1; fill:none\" points=\"\n",
       "  179.353,1486.45 2352.76,1486.45 \n",
       "  \"/>\n",
       "<polyline clip-path=\"url(#clip590)\" style=\"stroke:#000000; stroke-linecap:round; stroke-linejoin:round; stroke-width:4; stroke-opacity:1; fill:none\" points=\"\n",
       "  238.81,1486.45 238.81,1467.55 \n",
       "  \"/>\n",
       "<polyline clip-path=\"url(#clip590)\" style=\"stroke:#000000; stroke-linecap:round; stroke-linejoin:round; stroke-width:4; stroke-opacity:1; fill:none\" points=\"\n",
       "  752.432,1486.45 752.432,1467.55 \n",
       "  \"/>\n",
       "<polyline clip-path=\"url(#clip590)\" style=\"stroke:#000000; stroke-linecap:round; stroke-linejoin:round; stroke-width:4; stroke-opacity:1; fill:none\" points=\"\n",
       "  1266.05,1486.45 1266.05,1467.55 \n",
       "  \"/>\n",
       "<polyline clip-path=\"url(#clip590)\" style=\"stroke:#000000; stroke-linecap:round; stroke-linejoin:round; stroke-width:4; stroke-opacity:1; fill:none\" points=\"\n",
       "  1779.68,1486.45 1779.68,1467.55 \n",
       "  \"/>\n",
       "<polyline clip-path=\"url(#clip590)\" style=\"stroke:#000000; stroke-linecap:round; stroke-linejoin:round; stroke-width:4; stroke-opacity:1; fill:none\" points=\"\n",
       "  2293.3,1486.45 2293.3,1467.55 \n",
       "  \"/>\n",
       "<path clip-path=\"url(#clip590)\" d=\"M201.113 1517.37 Q197.502 1517.37 195.673 1520.93 Q193.868 1524.47 193.868 1531.6 Q193.868 1538.71 195.673 1542.27 Q197.502 1545.82 201.113 1545.82 Q204.747 1545.82 206.553 1542.27 Q208.382 1538.71 208.382 1531.6 Q208.382 1524.47 206.553 1520.93 Q204.747 1517.37 201.113 1517.37 M201.113 1513.66 Q206.923 1513.66 209.979 1518.27 Q213.057 1522.85 213.057 1531.6 Q213.057 1540.33 209.979 1544.94 Q206.923 1549.52 201.113 1549.52 Q195.303 1549.52 192.224 1544.94 Q189.169 1540.33 189.169 1531.6 Q189.169 1522.85 192.224 1518.27 Q195.303 1513.66 201.113 1513.66 Z\" fill=\"#000000\" fill-rule=\"evenodd\" fill-opacity=\"1\" /><path clip-path=\"url(#clip590)\" d=\"M221.275 1542.97 L226.159 1542.97 L226.159 1548.85 L221.275 1548.85 L221.275 1542.97 Z\" fill=\"#000000\" fill-rule=\"evenodd\" fill-opacity=\"1\" /><path clip-path=\"url(#clip590)\" d=\"M246.344 1517.37 Q242.733 1517.37 240.905 1520.93 Q239.099 1524.47 239.099 1531.6 Q239.099 1538.71 240.905 1542.27 Q242.733 1545.82 246.344 1545.82 Q249.979 1545.82 251.784 1542.27 Q253.613 1538.71 253.613 1531.6 Q253.613 1524.47 251.784 1520.93 Q249.979 1517.37 246.344 1517.37 M246.344 1513.66 Q252.154 1513.66 255.21 1518.27 Q258.289 1522.85 258.289 1531.6 Q258.289 1540.33 255.21 1544.94 Q252.154 1549.52 246.344 1549.52 Q240.534 1549.52 237.456 1544.94 Q234.4 1540.33 234.4 1531.6 Q234.4 1522.85 237.456 1518.27 Q240.534 1513.66 246.344 1513.66 Z\" fill=\"#000000\" fill-rule=\"evenodd\" fill-opacity=\"1\" /><path clip-path=\"url(#clip590)\" d=\"M276.506 1517.37 Q272.895 1517.37 271.066 1520.93 Q269.261 1524.47 269.261 1531.6 Q269.261 1538.71 271.066 1542.27 Q272.895 1545.82 276.506 1545.82 Q280.14 1545.82 281.946 1542.27 Q283.775 1538.71 283.775 1531.6 Q283.775 1524.47 281.946 1520.93 Q280.14 1517.37 276.506 1517.37 M276.506 1513.66 Q282.316 1513.66 285.372 1518.27 Q288.451 1522.85 288.451 1531.6 Q288.451 1540.33 285.372 1544.94 Q282.316 1549.52 276.506 1549.52 Q270.696 1549.52 267.617 1544.94 Q264.562 1540.33 264.562 1531.6 Q264.562 1522.85 267.617 1518.27 Q270.696 1513.66 276.506 1513.66 Z\" fill=\"#000000\" fill-rule=\"evenodd\" fill-opacity=\"1\" /><path clip-path=\"url(#clip590)\" d=\"M715.233 1517.37 Q711.622 1517.37 709.793 1520.93 Q707.988 1524.47 707.988 1531.6 Q707.988 1538.71 709.793 1542.27 Q711.622 1545.82 715.233 1545.82 Q718.867 1545.82 720.673 1542.27 Q722.502 1538.71 722.502 1531.6 Q722.502 1524.47 720.673 1520.93 Q718.867 1517.37 715.233 1517.37 M715.233 1513.66 Q721.043 1513.66 724.099 1518.27 Q727.177 1522.85 727.177 1531.6 Q727.177 1540.33 724.099 1544.94 Q721.043 1549.52 715.233 1549.52 Q709.423 1549.52 706.344 1544.94 Q703.289 1540.33 703.289 1531.6 Q703.289 1522.85 706.344 1518.27 Q709.423 1513.66 715.233 1513.66 Z\" fill=\"#000000\" fill-rule=\"evenodd\" fill-opacity=\"1\" /><path clip-path=\"url(#clip590)\" d=\"M735.395 1542.97 L740.279 1542.97 L740.279 1548.85 L735.395 1548.85 L735.395 1542.97 Z\" fill=\"#000000\" fill-rule=\"evenodd\" fill-opacity=\"1\" /><path clip-path=\"url(#clip590)\" d=\"M754.492 1544.91 L770.812 1544.91 L770.812 1548.85 L748.867 1548.85 L748.867 1544.91 Q751.529 1542.16 756.113 1537.53 Q760.719 1532.88 761.9 1531.53 Q764.145 1529.01 765.025 1527.27 Q765.927 1525.51 765.927 1523.82 Q765.927 1521.07 763.983 1519.33 Q762.062 1517.6 758.96 1517.6 Q756.761 1517.6 754.307 1518.36 Q751.876 1519.13 749.099 1520.68 L749.099 1515.95 Q751.923 1514.82 754.376 1514.24 Q756.83 1513.66 758.867 1513.66 Q764.237 1513.66 767.432 1516.35 Q770.626 1519.03 770.626 1523.52 Q770.626 1525.65 769.816 1527.57 Q769.029 1529.47 766.923 1532.07 Q766.344 1532.74 763.242 1535.95 Q760.14 1539.15 754.492 1544.91 Z\" fill=\"#000000\" fill-rule=\"evenodd\" fill-opacity=\"1\" /><path clip-path=\"url(#clip590)\" d=\"M780.673 1514.29 L799.029 1514.29 L799.029 1518.22 L784.955 1518.22 L784.955 1526.7 Q785.973 1526.35 786.992 1526.19 Q788.011 1526 789.029 1526 Q794.816 1526 798.196 1529.17 Q801.575 1532.34 801.575 1537.76 Q801.575 1543.34 798.103 1546.44 Q794.631 1549.52 788.311 1549.52 Q786.136 1549.52 783.867 1549.15 Q781.622 1548.78 779.214 1548.04 L779.214 1543.34 Q781.298 1544.47 783.52 1545.03 Q785.742 1545.58 788.219 1545.58 Q792.223 1545.58 794.561 1543.48 Q796.899 1541.37 796.899 1537.76 Q796.899 1534.15 794.561 1532.04 Q792.223 1529.94 788.219 1529.94 Q786.344 1529.94 784.469 1530.35 Q782.617 1530.77 780.673 1531.65 L780.673 1514.29 Z\" fill=\"#000000\" fill-rule=\"evenodd\" fill-opacity=\"1\" /><path clip-path=\"url(#clip590)\" d=\"M1228.36 1517.37 Q1224.75 1517.37 1222.92 1520.93 Q1221.11 1524.47 1221.11 1531.6 Q1221.11 1538.71 1222.92 1542.27 Q1224.75 1545.82 1228.36 1545.82 Q1231.99 1545.82 1233.8 1542.27 Q1235.63 1538.71 1235.63 1531.6 Q1235.63 1524.47 1233.8 1520.93 Q1231.99 1517.37 1228.36 1517.37 M1228.36 1513.66 Q1234.17 1513.66 1237.22 1518.27 Q1240.3 1522.85 1240.3 1531.6 Q1240.3 1540.33 1237.22 1544.94 Q1234.17 1549.52 1228.36 1549.52 Q1222.55 1549.52 1219.47 1544.94 Q1216.41 1540.33 1216.41 1531.6 Q1216.41 1522.85 1219.47 1518.27 Q1222.55 1513.66 1228.36 1513.66 Z\" fill=\"#000000\" fill-rule=\"evenodd\" fill-opacity=\"1\" /><path clip-path=\"url(#clip590)\" d=\"M1248.52 1542.97 L1253.4 1542.97 L1253.4 1548.85 L1248.52 1548.85 L1248.52 1542.97 Z\" fill=\"#000000\" fill-rule=\"evenodd\" fill-opacity=\"1\" /><path clip-path=\"url(#clip590)\" d=\"M1263.64 1514.29 L1281.99 1514.29 L1281.99 1518.22 L1267.92 1518.22 L1267.92 1526.7 Q1268.94 1526.35 1269.95 1526.19 Q1270.97 1526 1271.99 1526 Q1277.78 1526 1281.16 1529.17 Q1284.54 1532.34 1284.54 1537.76 Q1284.54 1543.34 1281.07 1546.44 Q1277.59 1549.52 1271.27 1549.52 Q1269.1 1549.52 1266.83 1549.15 Q1264.58 1548.78 1262.18 1548.04 L1262.18 1543.34 Q1264.26 1544.47 1266.48 1545.03 Q1268.7 1545.58 1271.18 1545.58 Q1275.19 1545.58 1277.52 1543.48 Q1279.86 1541.37 1279.86 1537.76 Q1279.86 1534.15 1277.52 1532.04 Q1275.19 1529.94 1271.18 1529.94 Q1269.31 1529.94 1267.43 1530.35 Q1265.58 1530.77 1263.64 1531.65 L1263.64 1514.29 Z\" fill=\"#000000\" fill-rule=\"evenodd\" fill-opacity=\"1\" /><path clip-path=\"url(#clip590)\" d=\"M1303.75 1517.37 Q1300.14 1517.37 1298.31 1520.93 Q1296.51 1524.47 1296.51 1531.6 Q1296.51 1538.71 1298.31 1542.27 Q1300.14 1545.82 1303.75 1545.82 Q1307.39 1545.82 1309.19 1542.27 Q1311.02 1538.71 1311.02 1531.6 Q1311.02 1524.47 1309.19 1520.93 Q1307.39 1517.37 1303.75 1517.37 M1303.75 1513.66 Q1309.56 1513.66 1312.62 1518.27 Q1315.7 1522.85 1315.7 1531.6 Q1315.7 1540.33 1312.62 1544.94 Q1309.56 1549.52 1303.75 1549.52 Q1297.94 1549.52 1294.86 1544.94 Q1291.81 1540.33 1291.81 1531.6 Q1291.81 1522.85 1294.86 1518.27 Q1297.94 1513.66 1303.75 1513.66 Z\" fill=\"#000000\" fill-rule=\"evenodd\" fill-opacity=\"1\" /><path clip-path=\"url(#clip590)\" d=\"M1742.48 1517.37 Q1738.87 1517.37 1737.04 1520.93 Q1735.23 1524.47 1735.23 1531.6 Q1735.23 1538.71 1737.04 1542.27 Q1738.87 1545.82 1742.48 1545.82 Q1746.11 1545.82 1747.92 1542.27 Q1749.75 1538.71 1749.75 1531.6 Q1749.75 1524.47 1747.92 1520.93 Q1746.11 1517.37 1742.48 1517.37 M1742.48 1513.66 Q1748.29 1513.66 1751.34 1518.27 Q1754.42 1522.85 1754.42 1531.6 Q1754.42 1540.33 1751.34 1544.94 Q1748.29 1549.52 1742.48 1549.52 Q1736.67 1549.52 1733.59 1544.94 Q1730.53 1540.33 1730.53 1531.6 Q1730.53 1522.85 1733.59 1518.27 Q1736.67 1513.66 1742.48 1513.66 Z\" fill=\"#000000\" fill-rule=\"evenodd\" fill-opacity=\"1\" /><path clip-path=\"url(#clip590)\" d=\"M1762.64 1542.97 L1767.52 1542.97 L1767.52 1548.85 L1762.64 1548.85 L1762.64 1542.97 Z\" fill=\"#000000\" fill-rule=\"evenodd\" fill-opacity=\"1\" /><path clip-path=\"url(#clip590)\" d=\"M1776.53 1514.29 L1798.75 1514.29 L1798.75 1516.28 L1786.2 1548.85 L1781.32 1548.85 L1793.13 1518.22 L1776.53 1518.22 L1776.53 1514.29 Z\" fill=\"#000000\" fill-rule=\"evenodd\" fill-opacity=\"1\" /><path clip-path=\"url(#clip590)\" d=\"M1807.92 1514.29 L1826.27 1514.29 L1826.27 1518.22 L1812.2 1518.22 L1812.2 1526.7 Q1813.22 1526.35 1814.24 1526.19 Q1815.26 1526 1816.27 1526 Q1822.06 1526 1825.44 1529.17 Q1828.82 1532.34 1828.82 1537.76 Q1828.82 1543.34 1825.35 1546.44 Q1821.88 1549.52 1815.56 1549.52 Q1813.38 1549.52 1811.11 1549.15 Q1808.87 1548.78 1806.46 1548.04 L1806.46 1543.34 Q1808.54 1544.47 1810.76 1545.03 Q1812.99 1545.58 1815.46 1545.58 Q1819.47 1545.58 1821.81 1543.48 Q1824.14 1541.37 1824.14 1537.76 Q1824.14 1534.15 1821.81 1532.04 Q1819.47 1529.94 1815.46 1529.94 Q1813.59 1529.94 1811.71 1530.35 Q1809.86 1530.77 1807.92 1531.65 L1807.92 1514.29 Z\" fill=\"#000000\" fill-rule=\"evenodd\" fill-opacity=\"1\" /><path clip-path=\"url(#clip590)\" d=\"M2245.37 1544.91 L2253.01 1544.91 L2253.01 1518.55 L2244.7 1520.21 L2244.7 1515.95 L2252.96 1514.29 L2257.64 1514.29 L2257.64 1544.91 L2265.28 1544.91 L2265.28 1548.85 L2245.37 1548.85 L2245.37 1544.91 Z\" fill=\"#000000\" fill-rule=\"evenodd\" fill-opacity=\"1\" /><path clip-path=\"url(#clip590)\" d=\"M2274.72 1542.97 L2279.61 1542.97 L2279.61 1548.85 L2274.72 1548.85 L2274.72 1542.97 Z\" fill=\"#000000\" fill-rule=\"evenodd\" fill-opacity=\"1\" /><path clip-path=\"url(#clip590)\" d=\"M2299.79 1517.37 Q2296.18 1517.37 2294.35 1520.93 Q2292.55 1524.47 2292.55 1531.6 Q2292.55 1538.71 2294.35 1542.27 Q2296.18 1545.82 2299.79 1545.82 Q2303.43 1545.82 2305.23 1542.27 Q2307.06 1538.71 2307.06 1531.6 Q2307.06 1524.47 2305.23 1520.93 Q2303.43 1517.37 2299.79 1517.37 M2299.79 1513.66 Q2305.6 1513.66 2308.66 1518.27 Q2311.74 1522.85 2311.74 1531.6 Q2311.74 1540.33 2308.66 1544.94 Q2305.6 1549.52 2299.79 1549.52 Q2293.98 1549.52 2290.9 1544.94 Q2287.85 1540.33 2287.85 1531.6 Q2287.85 1522.85 2290.9 1518.27 Q2293.98 1513.66 2299.79 1513.66 Z\" fill=\"#000000\" fill-rule=\"evenodd\" fill-opacity=\"1\" /><path clip-path=\"url(#clip590)\" d=\"M2329.95 1517.37 Q2326.34 1517.37 2324.51 1520.93 Q2322.71 1524.47 2322.71 1531.6 Q2322.71 1538.71 2324.51 1542.27 Q2326.34 1545.82 2329.95 1545.82 Q2333.59 1545.82 2335.39 1542.27 Q2337.22 1538.71 2337.22 1531.6 Q2337.22 1524.47 2335.39 1520.93 Q2333.59 1517.37 2329.95 1517.37 M2329.95 1513.66 Q2335.76 1513.66 2338.82 1518.27 Q2341.9 1522.85 2341.9 1531.6 Q2341.9 1540.33 2338.82 1544.94 Q2335.76 1549.52 2329.95 1549.52 Q2324.14 1549.52 2321.07 1544.94 Q2318.01 1540.33 2318.01 1531.6 Q2318.01 1522.85 2321.07 1518.27 Q2324.14 1513.66 2329.95 1513.66 Z\" fill=\"#000000\" fill-rule=\"evenodd\" fill-opacity=\"1\" /><polyline clip-path=\"url(#clip592)\" style=\"stroke:#000000; stroke-linecap:round; stroke-linejoin:round; stroke-width:2; stroke-opacity:0.1; fill:none\" points=\"\n",
       "  179.353,1475.24 2352.76,1475.24 \n",
       "  \"/>\n",
       "<polyline clip-path=\"url(#clip592)\" style=\"stroke:#000000; stroke-linecap:round; stroke-linejoin:round; stroke-width:2; stroke-opacity:0.1; fill:none\" points=\"\n",
       "  179.353,1159.8 2352.76,1159.8 \n",
       "  \"/>\n",
       "<polyline clip-path=\"url(#clip592)\" style=\"stroke:#000000; stroke-linecap:round; stroke-linejoin:round; stroke-width:2; stroke-opacity:0.1; fill:none\" points=\"\n",
       "  179.353,844.359 2352.76,844.359 \n",
       "  \"/>\n",
       "<polyline clip-path=\"url(#clip592)\" style=\"stroke:#000000; stroke-linecap:round; stroke-linejoin:round; stroke-width:2; stroke-opacity:0.1; fill:none\" points=\"\n",
       "  179.353,528.919 2352.76,528.919 \n",
       "  \"/>\n",
       "<polyline clip-path=\"url(#clip592)\" style=\"stroke:#000000; stroke-linecap:round; stroke-linejoin:round; stroke-width:2; stroke-opacity:0.1; fill:none\" points=\"\n",
       "  179.353,213.48 2352.76,213.48 \n",
       "  \"/>\n",
       "<polyline clip-path=\"url(#clip590)\" style=\"stroke:#000000; stroke-linecap:round; stroke-linejoin:round; stroke-width:4; stroke-opacity:1; fill:none\" points=\"\n",
       "  179.353,1486.45 179.353,47.2441 \n",
       "  \"/>\n",
       "<polyline clip-path=\"url(#clip590)\" style=\"stroke:#000000; stroke-linecap:round; stroke-linejoin:round; stroke-width:4; stroke-opacity:1; fill:none\" points=\"\n",
       "  179.353,1475.24 198.25,1475.24 \n",
       "  \"/>\n",
       "<polyline clip-path=\"url(#clip590)\" style=\"stroke:#000000; stroke-linecap:round; stroke-linejoin:round; stroke-width:4; stroke-opacity:1; fill:none\" points=\"\n",
       "  179.353,1159.8 198.25,1159.8 \n",
       "  \"/>\n",
       "<polyline clip-path=\"url(#clip590)\" style=\"stroke:#000000; stroke-linecap:round; stroke-linejoin:round; stroke-width:4; stroke-opacity:1; fill:none\" points=\"\n",
       "  179.353,844.359 198.25,844.359 \n",
       "  \"/>\n",
       "<polyline clip-path=\"url(#clip590)\" style=\"stroke:#000000; stroke-linecap:round; stroke-linejoin:round; stroke-width:4; stroke-opacity:1; fill:none\" points=\"\n",
       "  179.353,528.919 198.25,528.919 \n",
       "  \"/>\n",
       "<polyline clip-path=\"url(#clip590)\" style=\"stroke:#000000; stroke-linecap:round; stroke-linejoin:round; stroke-width:4; stroke-opacity:1; fill:none\" points=\"\n",
       "  179.353,213.48 198.25,213.48 \n",
       "  \"/>\n",
       "<path clip-path=\"url(#clip590)\" d=\"M51.4782 1475.69 L81.154 1475.69 L81.154 1479.63 L51.4782 1479.63 L51.4782 1475.69 Z\" fill=\"#000000\" fill-rule=\"evenodd\" fill-opacity=\"1\" /><path clip-path=\"url(#clip590)\" d=\"M101.825 1473.38 Q98.6771 1473.38 96.8252 1475.53 Q94.9965 1477.68 94.9965 1481.43 Q94.9965 1485.16 96.8252 1487.33 Q98.6771 1489.49 101.825 1489.49 Q104.973 1489.49 106.802 1487.33 Q108.654 1485.16 108.654 1481.43 Q108.654 1477.68 106.802 1475.53 Q104.973 1473.38 101.825 1473.38 M111.108 1458.72 L111.108 1462.98 Q109.348 1462.15 107.543 1461.71 Q105.76 1461.27 104.001 1461.27 Q99.3715 1461.27 96.9178 1464.39 Q94.4873 1467.52 94.14 1473.84 Q95.5058 1471.82 97.566 1470.76 Q99.6261 1469.67 102.103 1469.67 Q107.311 1469.67 110.321 1472.84 Q113.353 1475.99 113.353 1481.43 Q113.353 1486.76 110.205 1489.97 Q107.057 1493.19 101.825 1493.19 Q95.8298 1493.19 92.6586 1488.61 Q89.4873 1484 89.4873 1475.27 Q89.4873 1467.08 93.3762 1462.22 Q97.265 1457.33 103.816 1457.33 Q105.575 1457.33 107.358 1457.68 Q109.163 1458.03 111.108 1458.72 Z\" fill=\"#000000\" fill-rule=\"evenodd\" fill-opacity=\"1\" /><path clip-path=\"url(#clip590)\" d=\"M131.408 1461.04 Q127.797 1461.04 125.969 1464.6 Q124.163 1468.14 124.163 1475.27 Q124.163 1482.38 125.969 1485.95 Q127.797 1489.49 131.408 1489.49 Q135.043 1489.49 136.848 1485.95 Q138.677 1482.38 138.677 1475.27 Q138.677 1468.14 136.848 1464.6 Q135.043 1461.04 131.408 1461.04 M131.408 1457.33 Q137.219 1457.33 140.274 1461.94 Q143.353 1466.52 143.353 1475.27 Q143.353 1484 140.274 1488.61 Q137.219 1493.19 131.408 1493.19 Q125.598 1493.19 122.52 1488.61 Q119.464 1484 119.464 1475.27 Q119.464 1466.52 122.52 1461.94 Q125.598 1457.33 131.408 1457.33 Z\" fill=\"#000000\" fill-rule=\"evenodd\" fill-opacity=\"1\" /><path clip-path=\"url(#clip590)\" d=\"M51.5708 1160.25 L81.2466 1160.25 L81.2466 1164.19 L51.5708 1164.19 L51.5708 1160.25 Z\" fill=\"#000000\" fill-rule=\"evenodd\" fill-opacity=\"1\" /><path clip-path=\"url(#clip590)\" d=\"M91.3854 1142.52 L109.742 1142.52 L109.742 1146.45 L95.6678 1146.45 L95.6678 1154.93 Q96.6863 1154.58 97.7048 1154.42 Q98.7234 1154.23 99.7419 1154.23 Q105.529 1154.23 108.908 1157.4 Q112.288 1160.57 112.288 1165.99 Q112.288 1171.57 108.816 1174.67 Q105.344 1177.75 99.0243 1177.75 Q96.8484 1177.75 94.5799 1177.38 Q92.3345 1177.01 89.9271 1176.27 L89.9271 1171.57 Q92.0104 1172.7 94.2326 1173.26 Q96.4548 1173.82 98.9317 1173.82 Q102.936 1173.82 105.274 1171.71 Q107.612 1169.6 107.612 1165.99 Q107.612 1162.38 105.274 1160.27 Q102.936 1158.17 98.9317 1158.17 Q97.0567 1158.17 95.1817 1158.58 Q93.3299 1159 91.3854 1159.88 L91.3854 1142.52 Z\" fill=\"#000000\" fill-rule=\"evenodd\" fill-opacity=\"1\" /><path clip-path=\"url(#clip590)\" d=\"M131.501 1160.67 Q128.168 1160.67 126.246 1162.45 Q124.348 1164.23 124.348 1167.36 Q124.348 1170.48 126.246 1172.26 Q128.168 1174.05 131.501 1174.05 Q134.834 1174.05 136.756 1172.26 Q138.677 1170.46 138.677 1167.36 Q138.677 1164.23 136.756 1162.45 Q134.857 1160.67 131.501 1160.67 M126.825 1158.68 Q123.816 1157.94 122.126 1155.88 Q120.459 1153.82 120.459 1150.85 Q120.459 1146.71 123.399 1144.3 Q126.362 1141.89 131.501 1141.89 Q136.663 1141.89 139.603 1144.3 Q142.543 1146.71 142.543 1150.85 Q142.543 1153.82 140.853 1155.88 Q139.186 1157.94 136.2 1158.68 Q139.58 1159.46 141.455 1161.76 Q143.353 1164.05 143.353 1167.36 Q143.353 1172.38 140.274 1175.07 Q137.219 1177.75 131.501 1177.75 Q125.783 1177.75 122.705 1175.07 Q119.649 1172.38 119.649 1167.36 Q119.649 1164.05 121.547 1161.76 Q123.445 1159.46 126.825 1158.68 M125.112 1151.29 Q125.112 1153.98 126.779 1155.48 Q128.469 1156.99 131.501 1156.99 Q134.51 1156.99 136.2 1155.48 Q137.913 1153.98 137.913 1151.29 Q137.913 1148.61 136.2 1147.1 Q134.51 1145.6 131.501 1145.6 Q128.469 1145.6 126.779 1147.1 Q125.112 1148.61 125.112 1151.29 Z\" fill=\"#000000\" fill-rule=\"evenodd\" fill-opacity=\"1\" /><path clip-path=\"url(#clip590)\" d=\"M51.3162 844.811 L80.992 844.811 L80.992 848.746 L51.3162 848.746 L51.3162 844.811 Z\" fill=\"#000000\" fill-rule=\"evenodd\" fill-opacity=\"1\" /><path clip-path=\"url(#clip590)\" d=\"M91.1308 827.079 L109.487 827.079 L109.487 831.014 L95.4132 831.014 L95.4132 839.487 Q96.4317 839.139 97.4502 838.977 Q98.4687 838.792 99.4872 838.792 Q105.274 838.792 108.654 841.964 Q112.033 845.135 112.033 850.551 Q112.033 856.13 108.561 859.232 Q105.089 862.311 98.7696 862.311 Q96.5937 862.311 94.3252 861.94 Q92.0799 861.57 89.6725 860.829 L89.6725 856.13 Q91.7558 857.264 93.978 857.82 Q96.2002 858.375 98.6771 858.375 Q102.682 858.375 105.02 856.269 Q107.358 854.163 107.358 850.551 Q107.358 846.94 105.02 844.834 Q102.682 842.727 98.6771 842.727 Q96.8021 842.727 94.9271 843.144 Q93.0752 843.561 91.1308 844.44 L91.1308 827.079 Z\" fill=\"#000000\" fill-rule=\"evenodd\" fill-opacity=\"1\" /><path clip-path=\"url(#clip590)\" d=\"M131.825 842.496 Q128.677 842.496 126.825 844.649 Q124.996 846.801 124.996 850.551 Q124.996 854.278 126.825 856.454 Q128.677 858.607 131.825 858.607 Q134.973 858.607 136.802 856.454 Q138.654 854.278 138.654 850.551 Q138.654 846.801 136.802 844.649 Q134.973 842.496 131.825 842.496 M141.107 827.843 L141.107 832.102 Q139.348 831.269 137.543 830.829 Q135.76 830.39 134.001 830.39 Q129.371 830.39 126.918 833.514 Q124.487 836.639 124.14 842.959 Q125.506 840.945 127.566 839.88 Q129.626 838.792 132.103 838.792 Q137.311 838.792 140.32 841.964 Q143.353 845.112 143.353 850.551 Q143.353 855.875 140.205 859.093 Q137.056 862.311 131.825 862.311 Q125.83 862.311 122.658 857.727 Q119.487 853.121 119.487 844.394 Q119.487 836.2 123.376 831.339 Q127.265 826.454 133.816 826.454 Q135.575 826.454 137.357 826.802 Q139.163 827.149 141.107 827.843 Z\" fill=\"#000000\" fill-rule=\"evenodd\" fill-opacity=\"1\" /><path clip-path=\"url(#clip590)\" d=\"M50.9921 529.371 L80.6679 529.371 L80.6679 533.306 L50.9921 533.306 L50.9921 529.371 Z\" fill=\"#000000\" fill-rule=\"evenodd\" fill-opacity=\"1\" /><path clip-path=\"url(#clip590)\" d=\"M90.8067 511.639 L109.163 511.639 L109.163 515.575 L95.0891 515.575 L95.0891 524.047 Q96.1076 523.7 97.1261 523.538 Q98.1447 523.352 99.1632 523.352 Q104.95 523.352 108.33 526.524 Q111.709 529.695 111.709 535.112 Q111.709 540.69 108.237 543.792 Q104.765 546.871 98.4456 546.871 Q96.2697 546.871 94.0012 546.5 Q91.7558 546.13 89.3484 545.389 L89.3484 540.69 Q91.4317 541.824 93.6539 542.38 Q95.8761 542.936 98.353 542.936 Q102.358 542.936 104.696 540.829 Q107.033 538.723 107.033 535.112 Q107.033 531.5 104.696 529.394 Q102.358 527.288 98.353 527.288 Q96.478 527.288 94.603 527.704 Q92.7512 528.121 90.8067 529 L90.8067 511.639 Z\" fill=\"#000000\" fill-rule=\"evenodd\" fill-opacity=\"1\" /><path clip-path=\"url(#clip590)\" d=\"M133.769 515.714 L121.964 534.162 L133.769 534.162 L133.769 515.714 M132.543 511.639 L138.422 511.639 L138.422 534.162 L143.353 534.162 L143.353 538.051 L138.422 538.051 L138.422 546.199 L133.769 546.199 L133.769 538.051 L118.168 538.051 L118.168 533.537 L132.543 511.639 Z\" fill=\"#000000\" fill-rule=\"evenodd\" fill-opacity=\"1\" /><path clip-path=\"url(#clip590)\" d=\"M53.0754 213.931 L82.7512 213.931 L82.7512 217.866 L53.0754 217.866 L53.0754 213.931 Z\" fill=\"#000000\" fill-rule=\"evenodd\" fill-opacity=\"1\" /><path clip-path=\"url(#clip590)\" d=\"M92.89 196.2 L111.246 196.2 L111.246 200.135 L97.1724 200.135 L97.1724 208.607 Q98.1909 208.26 99.2095 208.098 Q100.228 207.912 101.246 207.912 Q107.033 207.912 110.413 211.084 Q113.793 214.255 113.793 219.672 Q113.793 225.25 110.321 228.352 Q106.848 231.431 100.529 231.431 Q98.353 231.431 96.0845 231.06 Q93.8391 230.69 91.4317 229.949 L91.4317 225.25 Q93.515 226.385 95.7373 226.94 Q97.9595 227.496 100.436 227.496 Q104.441 227.496 106.779 225.389 Q109.117 223.283 109.117 219.672 Q109.117 216.061 106.779 213.954 Q104.441 211.848 100.436 211.848 Q98.5613 211.848 96.6863 212.264 Q94.8345 212.681 92.89 213.561 L92.89 196.2 Z\" fill=\"#000000\" fill-rule=\"evenodd\" fill-opacity=\"1\" /><path clip-path=\"url(#clip590)\" d=\"M127.033 226.824 L143.353 226.824 L143.353 230.76 L121.408 230.76 L121.408 226.824 Q124.07 224.07 128.654 219.44 Q133.26 214.787 134.441 213.445 Q136.686 210.922 137.566 209.186 Q138.469 207.426 138.469 205.737 Q138.469 202.982 136.524 201.246 Q134.603 199.51 131.501 199.51 Q129.302 199.51 126.848 200.274 Q124.418 201.038 121.64 202.588 L121.64 197.866 Q124.464 196.732 126.918 196.153 Q129.371 195.575 131.408 195.575 Q136.779 195.575 139.973 198.26 Q143.168 200.945 143.168 205.436 Q143.168 207.565 142.357 209.487 Q141.57 211.385 139.464 213.977 Q138.885 214.649 135.783 217.866 Q132.682 221.061 127.033 226.824 Z\" fill=\"#000000\" fill-rule=\"evenodd\" fill-opacity=\"1\" /><polyline clip-path=\"url(#clip592)\" style=\"stroke:#0000ff; stroke-linecap:round; stroke-linejoin:round; stroke-width:4; stroke-opacity:1; fill:none\" points=\"\n",
       "  240.864,1445.72 242.919,1443.49 244.973,1441.27 247.028,1439.06 249.082,1436.86 251.137,1434.66 253.191,1432.47 255.246,1430.28 257.3,1428.11 259.355,1425.93 \n",
       "  261.409,1423.77 263.464,1421.61 265.518,1419.46 267.573,1417.32 269.627,1415.18 271.681,1413.05 273.736,1410.93 275.79,1408.81 277.845,1406.7 279.899,1404.59 \n",
       "  281.954,1402.49 284.008,1400.4 286.063,1398.31 288.117,1396.23 290.172,1394.16 292.226,1392.09 294.281,1390.03 296.335,1387.98 298.39,1385.93 300.444,1383.89 \n",
       "  302.499,1381.85 304.553,1379.82 306.608,1377.79 308.662,1375.78 310.717,1373.76 312.771,1371.76 314.826,1369.76 316.88,1367.76 318.935,1365.77 320.989,1363.79 \n",
       "  323.044,1361.81 325.098,1359.84 327.153,1357.87 329.207,1355.91 331.262,1353.96 333.316,1352.01 335.371,1350.07 337.425,1348.13 339.48,1346.2 341.534,1344.27 \n",
       "  343.589,1342.35 345.643,1340.43 347.698,1338.52 349.752,1336.62 351.807,1334.72 353.861,1332.82 355.916,1330.94 357.97,1329.05 360.025,1327.17 362.079,1325.3 \n",
       "  364.134,1323.44 366.188,1321.57 368.242,1319.72 370.297,1317.87 372.351,1316.02 374.406,1314.18 376.46,1312.34 378.515,1310.51 380.569,1308.69 382.624,1306.86 \n",
       "  384.678,1305.05 386.733,1303.24 388.787,1301.43 390.842,1299.63 392.896,1297.84 394.951,1296.05 397.005,1294.26 399.06,1292.48 401.114,1290.7 403.169,1288.93 \n",
       "  405.223,1287.16 407.278,1285.4 409.332,1283.65 411.387,1281.89 413.441,1280.15 415.496,1278.41 417.55,1276.67 419.605,1274.93 421.659,1273.21 423.714,1271.48 \n",
       "  425.768,1269.76 427.823,1268.05 429.877,1266.34 431.932,1264.63 433.986,1262.93 436.041,1261.24 438.095,1259.54 440.15,1257.86 442.204,1256.17 444.259,1254.5 \n",
       "  446.313,1252.82 448.368,1251.15 450.422,1249.49 452.477,1247.83 454.531,1246.17 456.586,1244.52 458.64,1242.87 460.695,1241.23 462.749,1239.59 464.803,1237.95 \n",
       "  466.858,1236.32 468.912,1234.7 470.967,1233.08 473.021,1231.46 475.076,1229.84 477.13,1228.24 479.185,1226.63 481.239,1225.03 483.294,1223.43 485.348,1221.84 \n",
       "  487.403,1220.25 489.457,1218.67 491.512,1217.09 493.566,1215.51 495.621,1213.94 497.675,1212.37 499.73,1210.8 501.784,1209.24 503.839,1207.69 505.893,1206.13 \n",
       "  507.948,1204.59 510.002,1203.04 512.057,1201.5 514.111,1199.96 516.166,1198.43 518.22,1196.9 520.275,1195.38 522.329,1193.86 524.384,1192.34 526.438,1190.82 \n",
       "  528.493,1189.31 530.547,1187.81 532.602,1186.31 534.656,1184.81 536.711,1183.31 538.765,1181.82 540.82,1180.33 542.874,1178.85 544.929,1177.37 546.983,1175.89 \n",
       "  549.038,1174.42 551.092,1172.95 553.147,1171.49 555.201,1170.02 557.256,1168.56 559.31,1167.11 561.364,1165.66 563.419,1164.21 565.473,1162.77 567.528,1161.33 \n",
       "  569.582,1159.89 571.637,1158.46 573.691,1157.03 575.746,1155.6 577.8,1154.18 579.855,1152.76 581.909,1151.34 583.964,1149.93 586.018,1148.52 588.073,1147.11 \n",
       "  590.127,1145.71 592.182,1144.31 594.236,1142.91 596.291,1141.52 598.345,1140.13 600.4,1138.75 602.454,1137.36 604.509,1135.99 606.563,1134.61 608.618,1133.24 \n",
       "  610.672,1131.87 612.727,1130.5 614.781,1129.14 616.836,1127.78 618.89,1126.42 620.945,1125.07 622.999,1123.72 625.054,1122.37 627.108,1121.03 629.163,1119.69 \n",
       "  631.217,1118.35 633.272,1117.02 635.326,1115.69 637.381,1114.36 639.435,1113.04 641.49,1111.71 643.544,1110.4 645.599,1109.08 647.653,1107.77 649.708,1106.46 \n",
       "  651.762,1105.15 653.817,1103.85 655.871,1102.55 657.925,1101.25 659.98,1099.96 662.034,1098.67 664.089,1097.38 666.143,1096.09 668.198,1094.81 670.252,1093.53 \n",
       "  672.307,1092.26 674.361,1090.98 676.416,1089.71 678.47,1088.45 680.525,1087.18 682.579,1085.92 684.634,1084.66 686.688,1083.41 688.743,1082.15 690.797,1080.9 \n",
       "  692.852,1079.66 694.906,1078.41 696.961,1077.17 699.015,1075.93 701.07,1074.69 703.124,1073.46 705.179,1072.23 707.233,1071 709.288,1069.78 711.342,1068.56 \n",
       "  713.397,1067.34 715.451,1066.12 717.506,1064.91 719.56,1063.7 721.615,1062.49 723.669,1061.28 725.724,1060.08 727.778,1058.88 729.833,1057.68 731.887,1056.49 \n",
       "  733.942,1055.3 735.996,1054.11 738.051,1052.92 740.105,1051.74 742.16,1050.56 744.214,1049.38 746.269,1048.2 748.323,1047.03 750.378,1045.86 752.432,1044.69 \n",
       "  754.486,1043.53 756.541,1042.36 758.595,1041.2 760.65,1040.04 762.704,1038.89 764.759,1037.74 766.813,1036.59 768.868,1035.44 770.922,1034.29 772.977,1033.15 \n",
       "  775.031,1032.01 777.086,1030.87 779.14,1029.74 781.195,1028.61 783.249,1027.48 785.304,1026.35 787.358,1025.22 789.413,1024.1 791.467,1022.98 793.522,1021.86 \n",
       "  795.576,1020.75 797.631,1019.64 799.685,1018.53 801.74,1017.42 803.794,1016.31 805.849,1015.21 807.903,1014.11 809.958,1013.01 812.012,1011.91 814.067,1010.82 \n",
       "  816.121,1009.73 818.176,1008.64 820.23,1007.55 822.285,1006.47 824.339,1005.39 826.394,1004.31 828.448,1003.23 830.503,1002.16 832.557,1001.09 834.612,1000.02 \n",
       "  836.666,998.947 838.721,997.882 840.775,996.819 842.83,995.758 844.884,994.699 846.939,993.643 848.993,992.589 851.047,991.537 853.102,990.488 855.156,989.441 \n",
       "  857.211,988.396 859.265,987.353 861.32,986.312 863.374,985.274 865.429,984.238 867.483,983.204 869.538,982.172 871.592,981.143 873.647,980.116 875.701,979.091 \n",
       "  877.756,978.068 879.81,977.047 881.865,976.028 883.919,975.012 885.974,973.998 888.028,972.986 890.083,971.976 892.137,970.968 894.192,969.963 896.246,968.959 \n",
       "  898.301,967.958 900.355,966.958 902.41,965.961 904.464,964.966 906.519,963.973 908.573,962.983 910.628,961.994 912.682,961.007 914.737,960.023 916.791,959.04 \n",
       "  918.846,958.06 920.9,957.081 922.955,956.105 925.009,955.131 927.064,954.159 929.118,953.189 931.173,952.22 933.227,951.254 935.282,950.29 937.336,949.328 \n",
       "  939.391,948.368 941.445,947.41 943.5,946.454 945.554,945.5 947.608,944.548 949.663,943.598 951.717,942.651 953.772,941.704 955.826,940.76 957.881,939.818 \n",
       "  959.935,938.878 961.99,937.94 964.044,937.004 966.099,936.07 968.153,935.138 970.208,934.207 972.262,933.279 974.317,932.352 976.371,931.428 978.426,930.505 \n",
       "  980.48,929.585 982.535,928.666 984.589,927.749 986.644,926.834 988.698,925.921 990.753,925.01 992.807,924.101 994.862,923.194 996.916,922.288 998.971,921.385 \n",
       "  1001.03,920.483 1003.08,919.583 1005.13,918.685 1007.19,917.789 1009.24,916.895 1011.3,916.002 1013.35,915.112 1015.41,914.223 1017.46,913.336 1019.52,912.451 \n",
       "  1021.57,911.568 1023.62,910.687 1025.68,909.807 1027.73,908.93 1029.79,908.054 1031.84,907.18 1033.9,906.307 1035.95,905.437 1038.01,904.568 1040.06,903.701 \n",
       "  1042.11,902.836 1044.17,901.973 1046.22,901.112 1048.28,900.252 1050.33,899.394 1052.39,898.538 1054.44,897.684 1056.5,896.831 1058.55,895.98 1060.61,895.131 \n",
       "  1062.66,894.284 1064.71,893.438 1066.77,892.594 1068.82,891.752 1070.88,890.912 1072.93,890.073 1074.99,889.236 1077.04,888.401 1079.1,887.568 1081.15,886.736 \n",
       "  1083.2,885.906 1085.26,885.077 1087.31,884.251 1089.37,883.426 1091.42,882.603 1093.48,881.781 1095.53,880.962 1097.59,880.143 1099.64,879.327 1101.7,878.512 \n",
       "  1103.75,877.699 1105.8,876.888 1107.86,876.078 1109.91,875.27 1111.97,874.464 1114.02,873.659 1116.08,872.856 1118.13,872.055 1120.19,871.255 1122.24,870.457 \n",
       "  1124.29,869.661 1126.35,868.866 1128.4,868.073 1130.46,867.282 1132.51,866.492 1134.57,865.704 1136.62,864.917 1138.68,864.132 1140.73,863.349 1142.78,862.567 \n",
       "  1144.84,861.787 1146.89,861.008 1148.95,860.232 1151,859.456 1153.06,858.683 1155.11,857.911 1157.17,857.14 1159.22,856.371 1161.28,855.604 1163.33,854.839 \n",
       "  1165.38,854.075 1167.44,853.312 1169.49,852.551 1171.55,851.792 1173.6,851.034 1175.66,850.278 1177.71,849.523 1179.77,848.77 1181.82,848.019 1183.87,847.269 \n",
       "  1185.93,846.521 1187.98,845.774 1190.04,845.029 1192.09,844.285 1194.15,843.543 1196.2,842.802 1198.26,842.063 1200.31,841.326 1202.37,840.59 1204.42,839.856 \n",
       "  1206.47,839.123 1208.53,838.391 1210.58,837.661 1212.64,836.933 1214.69,836.206 1216.75,835.481 1218.8,834.757 1220.86,834.035 1222.91,833.315 1224.96,832.595 \n",
       "  1227.02,831.878 1229.07,831.162 1231.13,830.447 1233.18,829.734 1235.24,829.022 1237.29,828.312 1239.35,827.603 1241.4,826.896 1243.45,826.19 1245.51,825.486 \n",
       "  1247.56,824.783 1249.62,824.082 1251.67,823.382 1253.73,822.684 1255.78,821.987 1257.84,821.292 1259.89,820.598 1261.95,819.906 1264,819.215 1266.05,818.525 \n",
       "  1268.11,817.837 1270.16,817.151 1272.22,816.466 1274.27,815.782 1276.33,815.1 1278.38,814.419 1280.44,813.74 1282.49,813.062 1284.54,812.386 1286.6,811.711 \n",
       "  1288.65,811.037 1290.71,810.365 1292.76,809.695 1294.82,809.026 1296.87,808.358 1298.93,807.692 1300.98,807.027 1303.04,806.363 1305.09,805.701 1307.14,805.041 \n",
       "  1309.2,804.382 1311.25,803.724 1313.31,803.067 1315.36,802.413 1317.42,801.759 1319.47,801.107 1321.53,800.456 1323.58,799.807 1325.63,799.159 1327.69,798.513 \n",
       "  1329.74,797.868 1331.8,797.224 1333.85,796.582 1335.91,795.941 1337.96,795.302 1340.02,794.664 1342.07,794.027 1344.12,793.392 1346.18,792.758 1348.23,792.125 \n",
       "  1350.29,791.494 1352.34,790.864 1354.4,790.236 1356.45,789.609 1358.51,788.984 1360.56,788.359 1362.62,787.737 1364.67,787.115 1366.72,786.495 1368.78,785.876 \n",
       "  1370.83,785.259 1372.89,784.643 1374.94,784.029 1377,783.415 1379.05,782.804 1381.11,782.193 1383.16,781.584 1385.21,780.976 1387.27,780.37 1389.32,779.765 \n",
       "  1391.38,779.161 1393.43,778.559 1395.49,777.958 1397.54,777.358 1399.6,776.76 1401.65,776.163 1403.71,775.567 1405.76,774.973 1407.81,774.38 1409.87,773.789 \n",
       "  1411.92,773.198 1413.98,772.61 1416.03,772.022 1418.09,771.436 1420.14,770.851 1422.2,770.268 1424.25,769.685 1426.3,769.105 1428.36,768.525 1430.41,767.947 \n",
       "  1432.47,767.37 1434.52,766.794 1436.58,766.22 1438.63,765.647 1440.69,765.076 1442.74,764.506 1444.79,763.937 1446.85,763.369 1448.9,762.803 1450.96,762.238 \n",
       "  1453.01,761.674 1455.07,761.112 1457.12,760.551 1459.18,759.991 1461.23,759.433 1463.29,758.876 1465.34,758.32 1467.39,757.766 1469.45,757.213 1471.5,756.661 \n",
       "  1473.56,756.11 1475.61,755.561 1477.67,755.013 1479.72,754.466 1481.78,753.921 1483.83,753.377 1485.88,752.834 1487.94,752.293 1489.99,751.753 1492.05,751.214 \n",
       "  1494.1,750.677 1496.16,750.14 1498.21,749.605 1500.27,749.072 1502.32,748.539 1504.38,748.008 1506.43,747.479 1508.48,746.95 1510.54,746.423 1512.59,745.897 \n",
       "  1514.65,745.372 1516.7,744.849 1518.76,744.327 1520.81,743.806 1522.87,743.287 1524.92,742.769 1526.97,742.252 1529.03,741.736 1531.08,741.222 1533.14,740.708 \n",
       "  1535.19,740.197 1537.25,739.686 1539.3,739.177 1541.36,738.669 1543.41,738.162 1545.46,737.657 1547.52,737.152 1549.57,736.65 1551.63,736.148 1553.68,735.648 \n",
       "  1555.74,735.148 1557.79,734.651 1559.85,734.154 1561.9,733.659 1563.96,733.165 1566.01,732.672 1568.06,732.18 1570.12,731.69 1572.17,731.201 1574.23,730.713 \n",
       "  1576.28,730.227 1578.34,729.742 1580.39,729.258 1582.45,728.775 1584.5,728.293 1586.55,727.813 1588.61,727.334 1590.66,726.856 1592.72,726.38 1594.77,725.905 \n",
       "  1596.83,725.431 1598.88,724.958 1600.94,724.487 1602.99,724.016 1605.05,723.547 1607.1,723.08 1609.15,722.613 1611.21,722.148 1613.26,721.684 1615.32,721.221 \n",
       "  1617.37,720.76 1619.43,720.299 1621.48,719.84 1623.54,719.382 1625.59,718.926 1627.64,718.47 1629.7,718.016 1631.75,717.563 1633.81,717.112 1635.86,716.661 \n",
       "  1637.92,716.212 1639.97,715.764 1642.03,715.318 1644.08,714.872 1646.13,714.428 1648.19,713.985 1650.24,713.543 1652.3,713.102 1654.35,712.663 1656.41,712.225 \n",
       "  1658.46,711.788 1660.52,711.352 1662.57,710.918 1664.63,710.484 1666.68,710.052 1668.73,709.621 1670.79,709.192 1672.84,708.763 1674.9,708.336 1676.95,707.91 \n",
       "  1679.01,707.485 1681.06,707.062 1683.12,706.639 1685.17,706.218 1687.22,705.798 1689.28,705.379 1691.33,704.962 1693.39,704.545 1695.44,704.13 1697.5,703.716 \n",
       "  1699.55,703.303 1701.61,702.892 1703.66,702.481 1705.72,702.072 1707.77,701.664 1709.82,701.257 1711.88,700.851 1713.93,700.447 1715.99,700.044 1718.04,699.641 \n",
       "  1720.1,699.241 1722.15,698.841 1724.21,698.442 1726.26,698.045 1728.31,697.649 1730.37,697.253 1732.42,696.86 1734.48,696.467 1736.53,696.075 1738.59,695.685 \n",
       "  1740.64,695.296 1742.7,694.907 1744.75,694.521 1746.8,694.135 1748.86,693.75 1750.91,693.367 1752.97,692.984 1755.02,692.603 1757.08,692.223 1759.13,691.844 \n",
       "  1761.19,691.466 1763.24,691.09 1765.3,690.714 1767.35,690.34 1769.4,689.967 1771.46,689.594 1773.51,689.224 1775.57,688.854 1777.62,688.485 1779.68,688.117 \n",
       "  1781.73,687.751 1783.79,687.385 1785.84,687.021 1787.89,686.658 1789.95,686.296 1792,685.935 1794.06,685.575 1796.11,685.216 1798.17,684.858 1800.22,684.501 \n",
       "  1802.28,684.146 1804.33,683.791 1806.39,683.438 1808.44,683.085 1810.49,682.734 1812.55,682.384 1814.6,682.034 1816.66,681.686 1818.71,681.339 1820.77,680.993 \n",
       "  1822.82,680.648 1824.88,680.304 1826.93,679.961 1828.98,679.619 1831.04,679.278 1833.09,678.938 1835.15,678.599 1837.2,678.261 1839.26,677.924 1841.31,677.588 \n",
       "  1843.37,677.253 1845.42,676.919 1847.47,676.586 1849.53,676.254 1851.58,675.923 1853.64,675.593 1855.69,675.263 1857.75,674.935 1859.8,674.608 1861.86,674.281 \n",
       "  1863.91,673.956 1865.97,673.631 1868.02,673.308 1870.07,672.985 1872.13,672.663 1874.18,672.342 1876.24,672.022 1878.29,671.702 1880.35,671.384 1882.4,671.066 \n",
       "  1884.46,670.75 1886.51,670.434 1888.56,670.119 1890.62,669.804 1892.67,669.491 1894.73,669.178 1896.78,668.866 1898.84,668.555 1900.89,668.245 1902.95,667.935 \n",
       "  1905,667.626 1907.05,667.318 1909.11,667.011 1911.16,666.704 1913.22,666.398 1915.27,666.092 1917.33,665.788 1919.38,665.484 1921.44,665.18 1923.49,664.877 \n",
       "  1925.55,664.575 1927.6,664.274 1929.65,663.973 1931.71,663.672 1933.76,663.372 1935.82,663.073 1937.87,662.774 1939.93,662.476 1941.98,662.178 1944.04,661.88 \n",
       "  1946.09,661.583 1948.14,661.287 1950.2,660.991 1952.25,660.695 1954.31,660.4 1956.36,660.105 1958.42,659.81 1960.47,659.516 1962.53,659.221 1964.58,658.928 \n",
       "  1966.64,658.634 1968.69,658.341 1970.74,658.048 1972.8,657.755 1974.85,657.462 1976.91,657.169 1978.96,656.876 1981.02,656.584 1983.07,656.291 1985.13,655.999 \n",
       "  1987.18,655.706 1989.23,655.414 1991.29,655.121 1993.34,654.828 1995.4,654.535 1997.45,654.242 1999.51,653.949 2001.56,653.655 2003.62,653.361 2005.67,653.067 \n",
       "  2007.72,652.772 2009.78,652.477 2011.83,652.182 2013.89,651.886 2015.94,651.59 2018,651.293 2020.05,650.995 2022.11,650.697 2024.16,650.398 2026.22,650.098 \n",
       "  2028.27,649.798 2030.32,649.496 2032.38,649.194 2034.43,648.891 2036.49,648.586 2038.54,648.281 2040.6,647.975 2042.65,647.667 2044.71,647.358 2046.76,647.048 \n",
       "  2048.81,646.736 2050.87,646.423 2052.92,646.108 2054.98,645.792 2057.03,645.474 2059.09,645.154 2061.14,644.833 2063.2,644.509 2065.25,644.184 2067.31,643.856 \n",
       "  2069.36,643.527 2071.41,643.195 2073.47,642.86 2075.52,642.524 2077.58,642.184 2079.63,641.842 2081.69,641.498 2083.74,641.15 2085.8,640.799 2087.85,640.445 \n",
       "  2089.9,640.088 2091.96,639.728 2094.01,639.364 2096.07,638.997 2098.12,638.625 2100.18,638.25 2102.23,637.871 2104.29,637.487 2106.34,637.099 2108.39,636.707 \n",
       "  2110.45,636.31 2112.5,635.907 2114.56,635.5 2116.61,635.088 2118.67,634.67 2120.72,634.246 2122.78,633.816 2124.83,633.38 2126.89,632.938 2128.94,632.489 \n",
       "  2130.99,632.034 2133.05,631.571 2135.1,631.101 2137.16,630.623 2139.21,630.137 2141.27,629.643 2143.32,629.14 2145.38,628.628 2147.43,628.107 2149.48,627.576 \n",
       "  2151.54,627.035 2153.59,626.484 2155.65,625.921 2157.7,625.348 2159.76,624.762 2161.81,624.164 2163.87,623.554 2165.92,622.93 2167.98,622.292 2170.03,621.64 \n",
       "  2172.08,620.972 2174.14,620.289 2176.19,619.589 2178.25,618.872 2180.3,618.138 2182.36,617.384 2184.41,616.611 2186.47,615.817 2188.52,615.001 2190.57,614.163 \n",
       "  2192.63,613.302 2194.68,612.415 2196.74,611.503 2198.79,610.563 2200.85,609.594 2202.9,608.595 2204.96,607.564 2207.01,606.499 2209.06,605.399 2211.12,604.262 \n",
       "  2213.17,603.084 2215.23,601.864 2217.28,600.6 2219.34,599.289 2221.39,597.927 2223.45,596.511 2225.5,595.039 2227.56,593.505 2229.61,591.906 2231.66,590.236 \n",
       "  2233.72,588.492 2235.77,586.666 2237.83,584.753 2239.88,582.745 2241.94,580.634 2243.99,578.412 2246.05,576.067 2248.1,573.589 2250.15,570.964 2252.21,568.176 \n",
       "  2254.26,565.209 2256.32,562.041 2258.37,558.647 2260.43,555.001 2262.48,551.066 2264.54,546.801 2266.59,542.155 2268.65,537.065 2270.7,531.45 2272.75,525.206 \n",
       "  2274.81,518.198 2276.86,510.239 2278.92,501.068 2280.97,490.303 2283.03,477.352 2285.08,461.217 2287.14,440.031 2289.19,409.598 2291.24,356.523 \n",
       "  \"/>\n",
       "<polyline clip-path=\"url(#clip592)\" style=\"stroke:#ff0000; stroke-linecap:round; stroke-linejoin:round; stroke-width:4; stroke-opacity:1; fill:none\" points=\"\n",
       "  240.864,1035.61 242.919,1033.18 244.973,1030.76 247.028,1028.35 249.082,1025.95 251.137,1023.55 253.191,1021.17 255.246,1018.79 257.3,1016.42 259.355,1014.06 \n",
       "  261.409,1011.7 263.464,1009.36 265.518,1007.02 267.573,1004.69 269.627,1002.37 271.681,1000.06 273.736,997.752 275.79,995.455 277.845,993.165 279.899,990.884 \n",
       "  281.954,988.61 284.008,986.343 286.063,984.084 288.117,981.833 290.172,979.59 292.226,977.354 294.281,975.125 296.335,972.904 298.39,970.691 300.444,968.484 \n",
       "  302.499,966.285 304.553,964.094 306.608,961.909 308.662,959.732 310.717,957.562 312.771,955.4 314.826,953.244 316.88,951.095 318.935,948.954 320.989,946.819 \n",
       "  323.044,944.692 325.098,942.571 327.153,940.458 329.207,938.351 331.262,936.251 333.316,934.158 335.371,932.072 337.425,929.992 339.48,927.92 341.534,925.853 \n",
       "  343.589,923.794 345.643,921.741 347.698,919.695 349.752,917.655 351.807,915.622 353.861,913.595 355.916,911.575 357.97,909.561 360.025,907.554 362.079,905.553 \n",
       "  364.134,903.558 366.188,901.57 368.242,899.588 370.297,897.612 372.351,895.643 374.406,893.679 376.46,891.722 378.515,889.771 380.569,887.826 382.624,885.888 \n",
       "  384.678,883.955 386.733,882.028 388.787,880.107 390.842,878.193 392.896,876.284 394.951,874.381 397.005,872.484 399.06,870.593 401.114,868.708 403.169,866.829 \n",
       "  405.223,864.955 407.278,863.087 409.332,861.225 411.387,859.369 413.441,857.518 415.496,855.673 417.55,853.834 419.605,852 421.659,850.172 423.714,848.349 \n",
       "  425.768,846.532 427.823,844.721 429.877,842.915 431.932,841.115 433.986,839.32 436.041,837.53 438.095,835.746 440.15,833.967 442.204,832.194 444.259,830.425 \n",
       "  446.313,828.663 448.368,826.905 450.422,825.153 452.477,823.406 454.531,821.664 456.586,819.928 458.64,818.196 460.695,816.47 462.749,814.749 464.803,813.033 \n",
       "  466.858,811.323 468.912,809.617 470.967,807.916 473.021,806.221 475.076,804.53 477.13,802.844 479.185,801.164 481.239,799.488 483.294,797.817 485.348,796.152 \n",
       "  487.403,794.491 489.457,792.835 491.512,791.184 493.566,789.537 495.621,787.896 497.675,786.259 499.73,784.627 501.784,783 503.839,781.378 505.893,779.76 \n",
       "  507.948,778.147 510.002,776.539 512.057,774.935 514.111,773.336 516.166,771.742 518.22,770.152 520.275,768.567 522.329,766.987 524.384,765.411 526.438,763.839 \n",
       "  528.493,762.272 530.547,760.71 532.602,759.152 534.656,757.599 536.711,756.05 538.765,754.505 540.82,752.965 542.874,751.43 544.929,749.899 546.983,748.372 \n",
       "  549.038,746.849 551.092,745.331 553.147,743.817 555.201,742.308 557.256,740.802 559.31,739.302 561.364,737.805 563.419,736.312 565.473,734.824 567.528,733.34 \n",
       "  569.582,731.861 571.637,730.385 573.691,728.914 575.746,727.446 577.8,725.983 579.855,724.524 581.909,723.069 583.964,721.619 586.018,720.172 588.073,718.729 \n",
       "  590.127,717.291 592.182,715.856 594.236,714.426 596.291,712.999 598.345,711.577 600.4,710.158 602.454,708.744 604.509,707.333 606.563,705.927 608.618,704.524 \n",
       "  610.672,703.125 612.727,701.73 614.781,700.339 616.836,698.952 618.89,697.569 620.945,696.19 622.999,694.814 625.054,693.442 627.108,692.074 629.163,690.71 \n",
       "  631.217,689.35 633.272,687.993 635.326,686.64 637.381,685.291 639.435,683.946 641.49,682.604 643.544,681.266 645.599,679.932 647.653,678.601 649.708,677.274 \n",
       "  651.762,675.951 653.817,674.631 655.871,673.315 657.925,672.003 659.98,670.694 662.034,669.389 664.089,668.087 666.143,666.789 668.198,665.495 670.252,664.204 \n",
       "  672.307,662.917 674.361,661.633 676.416,660.352 678.47,659.076 680.525,657.802 682.579,656.532 684.634,655.266 686.688,654.003 688.743,652.744 690.797,651.488 \n",
       "  692.852,650.235 694.906,648.986 696.961,647.74 699.015,646.498 701.07,645.258 703.124,644.023 705.179,642.79 707.233,641.562 709.288,640.336 711.342,639.114 \n",
       "  713.397,637.895 715.451,636.679 717.506,635.467 719.56,634.258 721.615,633.052 723.669,631.849 725.724,630.65 727.778,629.454 729.833,628.261 731.887,627.072 \n",
       "  733.942,625.885 735.996,624.702 738.051,623.522 740.105,622.345 742.16,621.172 744.214,620.001 746.269,618.834 748.323,617.67 750.378,616.509 752.432,615.351 \n",
       "  754.486,614.197 756.541,613.045 758.595,611.897 760.65,610.751 762.704,609.609 764.759,608.47 766.813,607.333 768.868,606.2 770.922,605.07 772.977,603.943 \n",
       "  775.031,602.819 777.086,601.698 779.14,600.58 781.195,599.466 783.249,598.354 785.304,597.245 787.358,596.139 789.413,595.036 791.467,593.936 793.522,592.839 \n",
       "  795.576,591.744 797.631,590.653 799.685,589.565 801.74,588.48 803.794,587.397 805.849,586.318 807.903,585.241 809.958,584.167 812.012,583.097 814.067,582.029 \n",
       "  816.121,580.963 818.176,579.901 820.23,578.842 822.285,577.785 824.339,576.731 826.394,575.681 828.448,574.632 830.503,573.587 832.557,572.545 834.612,571.505 \n",
       "  836.666,570.468 838.721,569.434 840.775,568.403 842.83,567.374 844.884,566.348 846.939,565.325 848.993,564.305 851.047,563.287 853.102,562.273 855.156,561.26 \n",
       "  857.211,560.251 859.265,559.244 861.32,558.24 863.374,557.239 865.429,556.24 867.483,555.244 869.538,554.251 871.592,553.261 873.647,552.273 875.701,551.287 \n",
       "  877.756,550.305 879.81,549.325 881.865,548.347 883.919,547.373 885.974,546.4 888.028,545.431 890.083,544.464 892.137,543.5 894.192,542.538 896.246,541.579 \n",
       "  898.301,540.622 900.355,539.668 902.41,538.717 904.464,537.768 906.519,536.822 908.573,535.878 910.628,534.937 912.682,533.998 914.737,533.062 916.791,532.128 \n",
       "  918.846,531.197 920.9,530.269 922.955,529.343 925.009,528.419 927.064,527.498 929.118,526.579 931.173,525.663 933.227,524.75 935.282,523.838 937.336,522.93 \n",
       "  939.391,522.024 941.445,521.12 943.5,520.218 945.554,519.319 947.608,518.423 949.663,517.529 951.717,516.637 953.772,515.748 955.826,514.861 957.881,513.977 \n",
       "  959.935,513.095 961.99,512.215 964.044,511.338 966.099,510.463 968.153,509.591 970.208,508.721 972.262,507.853 974.317,506.988 976.371,506.125 978.426,505.265 \n",
       "  980.48,504.406 982.535,503.55 984.589,502.697 986.644,501.846 988.698,500.997 990.753,500.15 992.807,499.306 994.862,498.464 996.916,497.624 998.971,496.787 \n",
       "  1001.03,495.952 1003.08,495.119 1005.13,494.289 1007.19,493.461 1009.24,492.635 1011.3,491.811 1013.35,490.99 1015.41,490.171 1017.46,489.354 1019.52,488.539 \n",
       "  1021.57,487.727 1023.62,486.917 1025.68,486.109 1027.73,485.304 1029.79,484.5 1031.84,483.699 1033.9,482.9 1035.95,482.104 1038.01,481.309 1040.06,480.517 \n",
       "  1042.11,479.727 1044.17,478.939 1046.22,478.154 1048.28,477.37 1050.33,476.589 1052.39,475.81 1054.44,475.033 1056.5,474.258 1058.55,473.486 1060.61,472.715 \n",
       "  1062.66,471.947 1064.71,471.181 1066.77,470.417 1068.82,469.656 1070.88,468.896 1072.93,468.139 1074.99,467.383 1077.04,466.63 1079.1,465.879 1081.15,465.13 \n",
       "  1083.2,464.383 1085.26,463.639 1087.31,462.896 1089.37,462.156 1091.42,461.417 1093.48,460.681 1095.53,459.947 1097.59,459.215 1099.64,458.485 1101.7,457.757 \n",
       "  1103.75,457.032 1105.8,456.308 1107.86,455.586 1109.91,454.867 1111.97,454.149 1114.02,453.434 1116.08,452.721 1118.13,452.009 1120.19,451.3 1122.24,450.593 \n",
       "  1124.29,449.888 1126.35,449.185 1128.4,448.484 1130.46,447.785 1132.51,447.088 1134.57,446.393 1136.62,445.7 1138.68,445.009 1140.73,444.321 1142.78,443.634 \n",
       "  1144.84,442.949 1146.89,442.266 1148.95,441.586 1151,440.907 1153.06,440.23 1155.11,439.555 1157.17,438.883 1159.22,438.212 1161.28,437.543 1163.33,436.876 \n",
       "  1165.38,436.212 1167.44,435.549 1169.49,434.888 1171.55,434.229 1173.6,433.572 1175.66,432.917 1177.71,432.264 1179.77,431.613 1181.82,430.964 1183.87,430.317 \n",
       "  1185.93,429.672 1187.98,429.029 1190.04,428.388 1192.09,427.749 1194.15,427.111 1196.2,426.476 1198.26,425.843 1200.31,425.211 1202.37,424.582 1204.42,423.954 \n",
       "  1206.47,423.328 1208.53,422.705 1210.58,422.083 1212.64,421.463 1214.69,420.845 1216.75,420.229 1218.8,419.615 1220.86,419.002 1222.91,418.392 1224.96,417.784 \n",
       "  1227.02,417.177 1229.07,416.573 1231.13,415.97 1233.18,415.369 1235.24,414.77 1237.29,414.173 1239.35,413.578 1241.4,412.984 1243.45,412.393 1245.51,411.804 \n",
       "  1247.56,411.216 1249.62,410.63 1251.67,410.046 1253.73,409.464 1255.78,408.884 1257.84,408.306 1259.89,407.729 1261.95,407.155 1264,406.582 1266.05,406.011 \n",
       "  1268.11,405.442 1270.16,404.875 1272.22,404.31 1274.27,403.747 1276.33,403.185 1278.38,402.625 1280.44,402.067 1282.49,401.511 1284.54,400.957 1286.6,400.405 \n",
       "  1288.65,399.854 1290.71,399.306 1292.76,398.759 1294.82,398.214 1296.87,397.671 1298.93,397.129 1300.98,396.59 1303.04,396.052 1305.09,395.516 1307.14,394.982 \n",
       "  1309.2,394.45 1311.25,393.92 1313.31,393.391 1315.36,392.864 1317.42,392.339 1319.47,391.816 1321.53,391.295 1323.58,390.775 1325.63,390.257 1327.69,389.741 \n",
       "  1329.74,389.227 1331.8,388.715 1333.85,388.204 1335.91,387.696 1337.96,387.189 1340.02,386.683 1342.07,386.18 1344.12,385.678 1346.18,385.179 1348.23,384.681 \n",
       "  1350.29,384.184 1352.34,383.69 1354.4,383.197 1356.45,382.706 1358.51,382.217 1360.56,381.73 1362.62,381.245 1364.67,380.761 1366.72,380.279 1368.78,379.799 \n",
       "  1370.83,379.32 1372.89,378.844 1374.94,378.369 1377,377.896 1379.05,377.424 1381.11,376.955 1383.16,376.487 1385.21,376.021 1387.27,375.556 1389.32,375.094 \n",
       "  1391.38,374.633 1393.43,374.174 1395.49,373.717 1397.54,373.261 1399.6,372.808 1401.65,372.356 1403.71,371.905 1405.76,371.457 1407.81,371.01 1409.87,370.565 \n",
       "  1411.92,370.122 1413.98,369.681 1416.03,369.241 1418.09,368.803 1420.14,368.367 1422.2,367.932 1424.25,367.499 1426.3,367.068 1428.36,366.639 1430.41,366.212 \n",
       "  1432.47,365.786 1434.52,365.362 1436.58,364.94 1438.63,364.519 1440.69,364.1 1442.74,363.683 1444.79,363.268 1446.85,362.854 1448.9,362.442 1450.96,362.032 \n",
       "  1453.01,361.624 1455.07,361.217 1457.12,360.812 1459.18,360.409 1461.23,360.007 1463.29,359.608 1465.34,359.21 1467.39,358.813 1469.45,358.419 1471.5,358.026 \n",
       "  1473.56,357.635 1475.61,357.246 1477.67,356.858 1479.72,356.472 1481.78,356.088 1483.83,355.705 1485.88,355.324 1487.94,354.945 1489.99,354.568 1492.05,354.193 \n",
       "  1494.1,353.819 1496.16,353.447 1498.21,353.076 1500.27,352.707 1502.32,352.34 1504.38,351.975 1506.43,351.612 1508.48,351.25 1510.54,350.89 1512.59,350.531 \n",
       "  1514.65,350.175 1516.7,349.82 1518.76,349.466 1520.81,349.115 1522.87,348.765 1524.92,348.417 1526.97,348.071 1529.03,347.726 1531.08,347.383 1533.14,347.042 \n",
       "  1535.19,346.702 1537.25,346.364 1539.3,346.028 1541.36,345.694 1543.41,345.361 1545.46,345.03 1547.52,344.701 1549.57,344.374 1551.63,344.048 1553.68,343.724 \n",
       "  1555.74,343.401 1557.79,343.081 1559.85,342.762 1561.9,342.445 1563.96,342.129 1566.01,341.815 1568.06,341.503 1570.12,341.193 1572.17,340.884 1574.23,340.577 \n",
       "  1576.28,340.272 1578.34,339.969 1580.39,339.667 1582.45,339.367 1584.5,339.068 1586.55,338.772 1588.61,338.477 1590.66,338.183 1592.72,337.892 1594.77,337.602 \n",
       "  1596.83,337.314 1598.88,337.028 1600.94,336.743 1602.99,336.46 1605.05,336.179 1607.1,335.899 1609.15,335.621 1611.21,335.345 1613.26,335.071 1615.32,334.798 \n",
       "  1617.37,334.527 1619.43,334.258 1621.48,333.991 1623.54,333.725 1625.59,333.461 1627.64,333.198 1629.7,332.938 1631.75,332.679 1633.81,332.422 1635.86,332.166 \n",
       "  1637.92,331.912 1639.97,331.66 1642.03,331.41 1644.08,331.161 1646.13,330.914 1648.19,330.669 1650.24,330.425 1652.3,330.184 1654.35,329.944 1656.41,329.705 \n",
       "  1658.46,329.469 1660.52,329.234 1662.57,329.001 1664.63,328.769 1666.68,328.539 1668.73,328.311 1670.79,328.085 1672.84,327.86 1674.9,327.638 1676.95,327.416 \n",
       "  1679.01,327.197 1681.06,326.979 1683.12,326.763 1685.17,326.549 1687.22,326.337 1689.28,326.126 1691.33,325.917 1693.39,325.709 1695.44,325.504 1697.5,325.3 \n",
       "  1699.55,325.097 1701.61,324.897 1703.66,324.698 1705.72,324.501 1707.77,324.306 1709.82,324.112 1711.88,323.92 1713.93,323.73 1715.99,323.542 1718.04,323.355 \n",
       "  1720.1,323.17 1722.15,322.987 1724.21,322.805 1726.26,322.625 1728.31,322.447 1730.37,322.271 1732.42,322.096 1734.48,321.923 1736.53,321.752 1738.59,321.583 \n",
       "  1740.64,321.415 1742.7,321.249 1744.75,321.085 1746.8,320.922 1748.86,320.761 1750.91,320.602 1752.97,320.445 1755.02,320.289 1757.08,320.135 1759.13,319.983 \n",
       "  1761.19,319.832 1763.24,319.684 1765.3,319.536 1767.35,319.391 1769.4,319.247 1771.46,319.106 1773.51,318.965 1775.57,318.827 1777.62,318.69 1779.68,318.555 \n",
       "  1781.73,318.422 1783.79,318.29 1785.84,318.16 1787.89,318.032 1789.95,317.906 1792,317.781 1794.06,317.658 1796.11,317.536 1798.17,317.417 1800.22,317.299 \n",
       "  1802.28,317.183 1804.33,317.068 1806.39,316.955 1808.44,316.844 1810.49,316.735 1812.55,316.627 1814.6,316.521 1816.66,316.417 1818.71,316.314 1820.77,316.214 \n",
       "  1822.82,316.114 1824.88,316.017 1826.93,315.921 1828.98,315.827 1831.04,315.735 1833.09,315.644 1835.15,315.555 1837.2,315.467 1839.26,315.382 1841.31,315.298 \n",
       "  1843.37,315.215 1845.42,315.135 1847.47,315.056 1849.53,314.978 1851.58,314.903 1853.64,314.829 1855.69,314.756 1857.75,314.686 1859.8,314.617 1861.86,314.549 \n",
       "  1863.91,314.484 1865.97,314.42 1868.02,314.357 1870.07,314.296 1872.13,314.237 1874.18,314.18 1876.24,314.124 1878.29,314.07 1880.35,314.017 1882.4,313.966 \n",
       "  1884.46,313.916 1886.51,313.869 1888.56,313.822 1890.62,313.778 1892.67,313.735 1894.73,313.693 1896.78,313.653 1898.84,313.615 1900.89,313.578 1902.95,313.543 \n",
       "  1905,313.509 1907.05,313.477 1909.11,313.447 1911.16,313.418 1913.22,313.39 1915.27,313.364 1917.33,313.34 1919.38,313.317 1921.44,313.295 1923.49,313.275 \n",
       "  1925.55,313.257 1927.6,313.24 1929.65,313.224 1931.71,313.21 1933.76,313.198 1935.82,313.186 1937.87,313.177 1939.93,313.168 1941.98,313.161 1944.04,313.156 \n",
       "  1946.09,313.151 1948.14,313.148 1950.2,313.147 1952.25,313.147 1954.31,313.148 1956.36,313.15 1958.42,313.154 1960.47,313.159 1962.53,313.166 1964.58,313.173 \n",
       "  1966.64,313.182 1968.69,313.192 1970.74,313.204 1972.8,313.216 1974.85,313.23 1976.91,313.245 1978.96,313.261 1981.02,313.278 1983.07,313.296 1985.13,313.315 \n",
       "  1987.18,313.336 1989.23,313.357 1991.29,313.38 1993.34,313.403 1995.4,313.428 1997.45,313.453 1999.51,313.479 2001.56,313.507 2003.62,313.535 2005.67,313.564 \n",
       "  2007.72,313.593 2009.78,313.624 2011.83,313.655 2013.89,313.687 2015.94,313.72 2018,313.754 2020.05,313.788 2022.11,313.823 2024.16,313.858 2026.22,313.894 \n",
       "  2028.27,313.93 2030.32,313.967 2032.38,314.004 2034.43,314.042 2036.49,314.079 2038.54,314.118 2040.6,314.156 2042.65,314.195 2044.71,314.234 2046.76,314.273 \n",
       "  2048.81,314.312 2050.87,314.351 2052.92,314.39 2054.98,314.428 2057.03,314.467 2059.09,314.506 2061.14,314.544 2063.2,314.582 2065.25,314.619 2067.31,314.656 \n",
       "  2069.36,314.692 2071.41,314.728 2073.47,314.763 2075.52,314.797 2077.58,314.831 2079.63,314.863 2081.69,314.895 2083.74,314.925 2085.8,314.954 2087.85,314.982 \n",
       "  2089.9,315.009 2091.96,315.033 2094.01,315.057 2096.07,315.078 2098.12,315.098 2100.18,315.116 2102.23,315.132 2104.29,315.145 2106.34,315.156 2108.39,315.165 \n",
       "  2110.45,315.171 2112.5,315.174 2114.56,315.175 2116.61,315.172 2118.67,315.166 2120.72,315.156 2122.78,315.143 2124.83,315.126 2126.89,315.106 2128.94,315.081 \n",
       "  2130.99,315.051 2133.05,315.017 2135.1,314.978 2137.16,314.934 2139.21,314.885 2141.27,314.83 2143.32,314.769 2145.38,314.701 2147.43,314.628 2149.48,314.547 \n",
       "  2151.54,314.459 2153.59,314.364 2155.65,314.261 2157.7,314.15 2159.76,314.03 2161.81,313.901 2163.87,313.762 2165.92,313.614 2167.98,313.455 2170.03,313.284 \n",
       "  2172.08,313.103 2174.14,312.909 2176.19,312.702 2178.25,312.482 2180.3,312.248 2182.36,311.999 2184.41,311.734 2186.47,311.453 2188.52,311.154 2190.57,310.838 \n",
       "  2192.63,310.502 2194.68,310.146 2196.74,309.768 2198.79,309.367 2200.85,308.943 2202.9,308.493 2204.96,308.017 2207.01,307.512 2209.06,306.977 2211.12,306.41 \n",
       "  2213.17,305.809 2215.23,305.171 2217.28,304.495 2219.34,303.778 2221.39,303.017 2223.45,302.208 2225.5,301.35 2227.56,300.437 2229.61,299.465 2231.66,298.431 \n",
       "  2233.72,297.33 2235.77,296.155 2237.83,294.901 2239.88,293.56 2241.94,292.125 2243.99,290.588 2246.05,288.938 2248.1,287.163 2250.15,285.252 2252.21,283.189 \n",
       "  2254.26,280.956 2256.32,278.534 2258.37,275.898 2260.43,273.021 2262.48,269.869 2264.54,266.4 2266.59,262.563 2268.65,258.297 2270.7,253.52 2272.75,248.131 \n",
       "  2274.81,241.992 2276.86,234.921 2278.92,226.655 2280.97,216.815 2283.03,204.808 2285.08,189.638 2287.14,169.44 2289.19,140.017 2291.24,87.9763 \n",
       "  \"/>\n",
       "<circle clip-path=\"url(#clip592)\" cx=\"2291.24\" cy=\"356.523\" r=\"14.4\" fill=\"#0000ff\" fill-rule=\"evenodd\" fill-opacity=\"1\" stroke=\"#000000\" stroke-opacity=\"1\" stroke-width=\"3.2\"/>\n",
       "<circle clip-path=\"url(#clip592)\" cx=\"2291.24\" cy=\"87.9763\" r=\"14.4\" fill=\"#ff0000\" fill-rule=\"evenodd\" fill-opacity=\"1\" stroke=\"#000000\" stroke-opacity=\"1\" stroke-width=\"3.2\"/>\n",
       "<path clip-path=\"url(#clip590)\" d=\"\n",
       "M251.8 1438.47 L1201.71 1438.47 L1201.71 1179.27 L251.8 1179.27  Z\n",
       "  \" fill=\"#ffffff\" fill-rule=\"evenodd\" fill-opacity=\"1\"/>\n",
       "<polyline clip-path=\"url(#clip590)\" style=\"stroke:#000000; stroke-linecap:round; stroke-linejoin:round; stroke-width:4; stroke-opacity:1; fill:none\" points=\"\n",
       "  251.8,1438.47 1201.71,1438.47 1201.71,1179.27 251.8,1179.27 251.8,1438.47 \n",
       "  \"/>\n",
       "<polyline clip-path=\"url(#clip590)\" style=\"stroke:#0000ff; stroke-linecap:round; stroke-linejoin:round; stroke-width:4; stroke-opacity:1; fill:none\" points=\"\n",
       "  275.948,1231.11 420.842,1231.11 \n",
       "  \"/>\n",
       "<path clip-path=\"url(#clip590)\" d=\"M444.991 1213.83 L449.667 1213.83 L449.667 1244.46 L466.495 1244.46 L466.495 1248.39 L444.991 1248.39 L444.991 1213.83 Z\" fill=\"#000000\" fill-rule=\"evenodd\" fill-opacity=\"1\" /><path clip-path=\"url(#clip590)\" d=\"M471.403 1213.83 L476.079 1213.83 L476.079 1244.46 L492.907 1244.46 L492.907 1248.39 L471.403 1248.39 L471.403 1213.83 Z\" fill=\"#000000\" fill-rule=\"evenodd\" fill-opacity=\"1\" /><path clip-path=\"url(#clip590)\" d=\"M517.328 1256.26 L517.328 1259.57 L492.699 1259.57 L492.699 1256.26 L517.328 1256.26 Z\" fill=\"#000000\" fill-rule=\"evenodd\" fill-opacity=\"1\" /><path clip-path=\"url(#clip590)\" d=\"M542.884 1232.75 L542.884 1248.39 L538.625 1248.39 L538.625 1232.89 Q538.625 1229.2 537.189 1227.38 Q535.754 1225.55 532.884 1225.55 Q529.435 1225.55 527.444 1227.75 Q525.453 1229.95 525.453 1233.74 L525.453 1248.39 L521.171 1248.39 L521.171 1222.47 L525.453 1222.47 L525.453 1226.5 Q526.981 1224.16 529.041 1223 Q531.125 1221.84 533.833 1221.84 Q538.301 1221.84 540.592 1224.62 Q542.884 1227.38 542.884 1232.75 Z\" fill=\"#000000\" fill-rule=\"evenodd\" fill-opacity=\"1\" /><path clip-path=\"url(#clip590)\" d=\"M550.939 1238.16 L550.939 1222.47 L555.199 1222.47 L555.199 1238 Q555.199 1241.68 556.634 1243.53 Q558.069 1245.36 560.939 1245.36 Q564.388 1245.36 566.379 1243.16 Q568.393 1240.96 568.393 1237.17 L568.393 1222.47 L572.652 1222.47 L572.652 1248.39 L568.393 1248.39 L568.393 1244.41 Q566.842 1246.77 564.782 1247.93 Q562.745 1249.07 560.037 1249.07 Q555.569 1249.07 553.254 1246.29 Q550.939 1243.51 550.939 1238.16 M561.657 1221.84 L561.657 1221.84 Z\" fill=\"#000000\" fill-rule=\"evenodd\" fill-opacity=\"1\" /><path clip-path=\"url(#clip590)\" d=\"M581.425 1212.38 L585.685 1212.38 L585.685 1248.39 L581.425 1248.39 L581.425 1212.38 Z\" fill=\"#000000\" fill-rule=\"evenodd\" fill-opacity=\"1\" /><path clip-path=\"url(#clip590)\" d=\"M594.597 1212.38 L598.856 1212.38 L598.856 1248.39 L594.597 1248.39 L594.597 1212.38 Z\" fill=\"#000000\" fill-rule=\"evenodd\" fill-opacity=\"1\" /><path clip-path=\"url(#clip590)\" d=\"M633.069 1212.42 Q629.967 1217.75 628.462 1222.95 Q626.958 1228.16 626.958 1233.51 Q626.958 1238.86 628.462 1244.11 Q629.99 1249.34 633.069 1254.64 L629.365 1254.64 Q625.893 1249.2 624.157 1243.95 Q622.444 1238.7 622.444 1233.51 Q622.444 1228.35 624.157 1223.12 Q625.87 1217.89 629.365 1212.42 L633.069 1212.42 Z\" fill=\"#000000\" fill-rule=\"evenodd\" fill-opacity=\"1\" /><path clip-path=\"url(#clip590)\" d=\"M641.332 1222.47 L645.592 1222.47 L645.592 1248.39 L641.332 1248.39 L641.332 1222.47 M641.332 1212.38 L645.592 1212.38 L645.592 1217.77 L641.332 1217.77 L641.332 1212.38 Z\" fill=\"#000000\" fill-rule=\"evenodd\" fill-opacity=\"1\" /><path clip-path=\"url(#clip590)\" d=\"M676.054 1232.75 L676.054 1248.39 L671.795 1248.39 L671.795 1232.89 Q671.795 1229.2 670.36 1227.38 Q668.925 1225.55 666.055 1225.55 Q662.605 1225.55 660.615 1227.75 Q658.624 1229.95 658.624 1233.74 L658.624 1248.39 L654.342 1248.39 L654.342 1222.47 L658.624 1222.47 L658.624 1226.5 Q660.152 1224.16 662.212 1223 Q664.295 1221.84 667.004 1221.84 Q671.471 1221.84 673.763 1224.62 Q676.054 1227.38 676.054 1232.75 Z\" fill=\"#000000\" fill-rule=\"evenodd\" fill-opacity=\"1\" /><path clip-path=\"url(#clip590)\" d=\"M688.763 1215.11 L688.763 1222.47 L697.536 1222.47 L697.536 1225.78 L688.763 1225.78 L688.763 1239.85 Q688.763 1243.02 689.619 1243.93 Q690.499 1244.83 693.161 1244.83 L697.536 1244.83 L697.536 1248.39 L693.161 1248.39 Q688.23 1248.39 686.355 1246.57 Q684.48 1244.71 684.48 1239.85 L684.48 1225.78 L681.355 1225.78 L681.355 1222.47 L684.48 1222.47 L684.48 1215.11 L688.763 1215.11 Z\" fill=\"#000000\" fill-rule=\"evenodd\" fill-opacity=\"1\" /><path clip-path=\"url(#clip590)\" d=\"M725.313 1234.37 L725.313 1236.45 L705.73 1236.45 Q706.008 1240.85 708.369 1243.16 Q710.753 1245.45 714.989 1245.45 Q717.443 1245.45 719.735 1244.85 Q722.05 1244.25 724.318 1243.05 L724.318 1247.07 Q722.026 1248.05 719.619 1248.56 Q717.212 1249.07 714.735 1249.07 Q708.531 1249.07 704.897 1245.45 Q701.286 1241.84 701.286 1235.69 Q701.286 1229.32 704.712 1225.59 Q708.161 1221.84 713.994 1221.84 Q719.226 1221.84 722.258 1225.22 Q725.313 1228.58 725.313 1234.37 M721.054 1233.12 Q721.008 1229.62 719.087 1227.54 Q717.189 1225.45 714.04 1225.45 Q710.476 1225.45 708.323 1227.47 Q706.193 1229.48 705.869 1233.14 L721.054 1233.12 Z\" fill=\"#000000\" fill-rule=\"evenodd\" fill-opacity=\"1\" /><path clip-path=\"url(#clip590)\" d=\"M747.327 1226.45 Q746.61 1226.03 745.753 1225.85 Q744.92 1225.64 743.901 1225.64 Q740.29 1225.64 738.346 1228 Q736.425 1230.34 736.425 1234.74 L736.425 1248.39 L732.142 1248.39 L732.142 1222.47 L736.425 1222.47 L736.425 1226.5 Q737.767 1224.14 739.92 1223 Q742.073 1221.84 745.151 1221.84 Q745.591 1221.84 746.124 1221.91 Q746.656 1221.96 747.304 1222.08 L747.327 1226.45 Z\" fill=\"#000000\" fill-rule=\"evenodd\" fill-opacity=\"1\" /><path clip-path=\"url(#clip590)\" d=\"M769.41 1223.46 L769.41 1227.45 Q767.605 1226.45 765.776 1225.96 Q763.971 1225.45 762.119 1225.45 Q757.975 1225.45 755.684 1228.09 Q753.392 1230.71 753.392 1235.45 Q753.392 1240.2 755.684 1242.84 Q757.975 1245.45 762.119 1245.45 Q763.971 1245.45 765.776 1244.97 Q767.605 1244.46 769.41 1243.46 L769.41 1247.4 Q767.628 1248.23 765.707 1248.65 Q763.809 1249.07 761.656 1249.07 Q755.799 1249.07 752.35 1245.39 Q748.901 1241.7 748.901 1235.45 Q748.901 1229.11 752.374 1225.48 Q755.869 1221.84 761.934 1221.84 Q763.901 1221.84 765.776 1222.26 Q767.651 1222.65 769.41 1223.46 Z\" fill=\"#000000\" fill-rule=\"evenodd\" fill-opacity=\"1\" /><path clip-path=\"url(#clip590)\" d=\"M798.994 1234.37 L798.994 1236.45 L779.41 1236.45 Q779.688 1240.85 782.049 1243.16 Q784.434 1245.45 788.67 1245.45 Q791.123 1245.45 793.415 1244.85 Q795.73 1244.25 797.998 1243.05 L797.998 1247.07 Q795.707 1248.05 793.299 1248.56 Q790.892 1249.07 788.415 1249.07 Q782.211 1249.07 778.577 1245.45 Q774.966 1241.84 774.966 1235.69 Q774.966 1229.32 778.392 1225.59 Q781.841 1221.84 787.674 1221.84 Q792.906 1221.84 795.938 1225.22 Q798.994 1228.58 798.994 1234.37 M794.734 1233.12 Q794.688 1229.62 792.767 1227.54 Q790.869 1225.45 787.721 1225.45 Q784.156 1225.45 782.003 1227.47 Q779.873 1229.48 779.549 1233.14 L794.734 1233.12 Z\" fill=\"#000000\" fill-rule=\"evenodd\" fill-opacity=\"1\" /><path clip-path=\"url(#clip590)\" d=\"M810.105 1244.51 L810.105 1258.26 L805.822 1258.26 L805.822 1222.47 L810.105 1222.47 L810.105 1226.4 Q811.447 1224.09 813.484 1222.98 Q815.544 1221.84 818.392 1221.84 Q823.114 1221.84 826.054 1225.59 Q829.017 1229.34 829.017 1235.45 Q829.017 1241.57 826.054 1245.32 Q823.114 1249.07 818.392 1249.07 Q815.544 1249.07 813.484 1247.95 Q811.447 1246.82 810.105 1244.51 M824.595 1235.45 Q824.595 1230.76 822.651 1228.09 Q820.73 1225.41 817.35 1225.41 Q813.97 1225.41 812.026 1228.09 Q810.105 1230.76 810.105 1235.45 Q810.105 1240.15 812.026 1242.84 Q813.97 1245.5 817.35 1245.5 Q820.73 1245.5 822.651 1242.84 Q824.595 1240.15 824.595 1235.45 Z\" fill=\"#000000\" fill-rule=\"evenodd\" fill-opacity=\"1\" /><path clip-path=\"url(#clip590)\" d=\"M840.29 1215.11 L840.29 1222.47 L849.063 1222.47 L849.063 1225.78 L840.29 1225.78 L840.29 1239.85 Q840.29 1243.02 841.146 1243.93 Q842.026 1244.83 844.688 1244.83 L849.063 1244.83 L849.063 1248.39 L844.688 1248.39 Q839.757 1248.39 837.882 1246.57 Q836.007 1244.71 836.007 1239.85 L836.007 1225.78 L832.882 1225.78 L832.882 1222.47 L836.007 1222.47 L836.007 1215.11 L840.29 1215.11 Z\" fill=\"#000000\" fill-rule=\"evenodd\" fill-opacity=\"1\" /><path clip-path=\"url(#clip590)\" d=\"M853.993 1212.42 L857.697 1212.42 Q861.169 1217.89 862.882 1223.12 Q864.618 1228.35 864.618 1233.51 Q864.618 1238.7 862.882 1243.95 Q861.169 1249.2 857.697 1254.64 L853.993 1254.64 Q857.072 1249.34 858.577 1244.11 Q860.104 1238.86 860.104 1233.51 Q860.104 1228.16 858.577 1222.95 Q857.072 1217.75 853.993 1212.42 Z\" fill=\"#000000\" fill-rule=\"evenodd\" fill-opacity=\"1\" /><polyline clip-path=\"url(#clip590)\" style=\"stroke:#ff0000; stroke-linecap:round; stroke-linejoin:round; stroke-width:4; stroke-opacity:1; fill:none\" points=\"\n",
       "  275.948,1282.95 420.842,1282.95 \n",
       "  \"/>\n",
       "<path clip-path=\"url(#clip590)\" d=\"M444.991 1265.67 L449.667 1265.67 L449.667 1296.3 L466.495 1296.3 L466.495 1300.23 L444.991 1300.23 L444.991 1265.67 Z\" fill=\"#000000\" fill-rule=\"evenodd\" fill-opacity=\"1\" /><path clip-path=\"url(#clip590)\" d=\"M471.403 1265.67 L476.079 1265.67 L476.079 1296.3 L492.907 1296.3 L492.907 1300.23 L471.403 1300.23 L471.403 1265.67 Z\" fill=\"#000000\" fill-rule=\"evenodd\" fill-opacity=\"1\" /><path clip-path=\"url(#clip590)\" d=\"M517.328 1308.1 L517.328 1311.41 L492.699 1311.41 L492.699 1308.1 L517.328 1308.1 Z\" fill=\"#000000\" fill-rule=\"evenodd\" fill-opacity=\"1\" /><path clip-path=\"url(#clip590)\" d=\"M533.115 1287.2 Q527.953 1287.2 525.963 1288.38 Q523.972 1289.56 523.972 1292.41 Q523.972 1294.68 525.453 1296.02 Q526.958 1297.34 529.527 1297.34 Q533.069 1297.34 535.199 1294.84 Q537.352 1292.32 537.352 1288.15 L537.352 1287.2 L533.115 1287.2 M541.611 1285.44 L541.611 1300.23 L537.352 1300.23 L537.352 1296.3 Q535.893 1298.66 533.717 1299.79 Q531.541 1300.91 528.393 1300.91 Q524.412 1300.91 522.051 1298.68 Q519.713 1296.44 519.713 1292.69 Q519.713 1288.31 522.629 1286.09 Q525.569 1283.87 531.379 1283.87 L537.352 1283.87 L537.352 1283.45 Q537.352 1280.51 535.407 1278.92 Q533.486 1277.29 529.99 1277.29 Q527.768 1277.29 525.662 1277.83 Q523.555 1278.36 521.611 1279.42 L521.611 1275.49 Q523.949 1274.59 526.148 1274.15 Q528.347 1273.68 530.43 1273.68 Q536.055 1273.68 538.833 1276.6 Q541.611 1279.52 541.611 1285.44 Z\" fill=\"#000000\" fill-rule=\"evenodd\" fill-opacity=\"1\" /><path clip-path=\"url(#clip590)\" d=\"M550.384 1264.22 L554.643 1264.22 L554.643 1300.23 L550.384 1300.23 L550.384 1264.22 Z\" fill=\"#000000\" fill-rule=\"evenodd\" fill-opacity=\"1\" /><path clip-path=\"url(#clip590)\" d=\"M567.768 1266.95 L567.768 1274.31 L576.541 1274.31 L576.541 1277.62 L567.768 1277.62 L567.768 1291.69 Q567.768 1294.86 568.625 1295.77 Q569.504 1296.67 572.166 1296.67 L576.541 1296.67 L576.541 1300.23 L572.166 1300.23 Q567.236 1300.23 565.361 1298.41 Q563.486 1296.55 563.486 1291.69 L563.486 1277.62 L560.361 1277.62 L560.361 1274.31 L563.486 1274.31 L563.486 1266.95 L567.768 1266.95 Z\" fill=\"#000000\" fill-rule=\"evenodd\" fill-opacity=\"1\" /><path clip-path=\"url(#clip590)\" d=\"M607.444 1264.26 Q604.342 1269.59 602.837 1274.79 Q601.333 1280 601.333 1285.35 Q601.333 1290.7 602.837 1295.95 Q604.365 1301.18 607.444 1306.48 L603.74 1306.48 Q600.268 1301.04 598.532 1295.79 Q596.819 1290.54 596.819 1285.35 Q596.819 1280.19 598.532 1274.96 Q600.245 1269.73 603.74 1264.26 L607.444 1264.26 Z\" fill=\"#000000\" fill-rule=\"evenodd\" fill-opacity=\"1\" /><path clip-path=\"url(#clip590)\" d=\"M615.708 1274.31 L619.967 1274.31 L619.967 1300.23 L615.708 1300.23 L615.708 1274.31 M615.708 1264.22 L619.967 1264.22 L619.967 1269.61 L615.708 1269.61 L615.708 1264.22 Z\" fill=\"#000000\" fill-rule=\"evenodd\" fill-opacity=\"1\" /><path clip-path=\"url(#clip590)\" d=\"M650.43 1284.59 L650.43 1300.23 L646.17 1300.23 L646.17 1284.73 Q646.17 1281.04 644.735 1279.22 Q643.3 1277.39 640.43 1277.39 Q636.981 1277.39 634.99 1279.59 Q632.999 1281.79 632.999 1285.58 L632.999 1300.23 L628.717 1300.23 L628.717 1274.31 L632.999 1274.31 L632.999 1278.34 Q634.527 1276 636.587 1274.84 Q638.67 1273.68 641.379 1273.68 Q645.846 1273.68 648.138 1276.46 Q650.43 1279.22 650.43 1284.59 Z\" fill=\"#000000\" fill-rule=\"evenodd\" fill-opacity=\"1\" /><path clip-path=\"url(#clip590)\" d=\"M663.138 1266.95 L663.138 1274.31 L671.911 1274.31 L671.911 1277.62 L663.138 1277.62 L663.138 1291.69 Q663.138 1294.86 663.994 1295.77 Q664.874 1296.67 667.536 1296.67 L671.911 1296.67 L671.911 1300.23 L667.536 1300.23 Q662.605 1300.23 660.73 1298.41 Q658.856 1296.55 658.856 1291.69 L658.856 1277.62 L655.731 1277.62 L655.731 1274.31 L658.856 1274.31 L658.856 1266.95 L663.138 1266.95 Z\" fill=\"#000000\" fill-rule=\"evenodd\" fill-opacity=\"1\" /><path clip-path=\"url(#clip590)\" d=\"M699.689 1286.21 L699.689 1288.29 L680.105 1288.29 Q680.383 1292.69 682.744 1295 Q685.129 1297.29 689.365 1297.29 Q691.818 1297.29 694.11 1296.69 Q696.425 1296.09 698.693 1294.89 L698.693 1298.91 Q696.402 1299.89 693.994 1300.4 Q691.587 1300.91 689.11 1300.91 Q682.906 1300.91 679.272 1297.29 Q675.661 1293.68 675.661 1287.53 Q675.661 1281.16 679.087 1277.43 Q682.536 1273.68 688.369 1273.68 Q693.601 1273.68 696.633 1277.06 Q699.689 1280.42 699.689 1286.21 M695.429 1284.96 Q695.383 1281.46 693.462 1279.38 Q691.564 1277.29 688.416 1277.29 Q684.851 1277.29 682.698 1279.31 Q680.568 1281.32 680.244 1284.98 L695.429 1284.96 Z\" fill=\"#000000\" fill-rule=\"evenodd\" fill-opacity=\"1\" /><path clip-path=\"url(#clip590)\" d=\"M721.702 1278.29 Q720.985 1277.87 720.128 1277.69 Q719.295 1277.48 718.276 1277.48 Q714.665 1277.48 712.721 1279.84 Q710.8 1282.18 710.8 1286.58 L710.8 1300.23 L706.517 1300.23 L706.517 1274.31 L710.8 1274.31 L710.8 1278.34 Q712.142 1275.98 714.295 1274.84 Q716.448 1273.68 719.526 1273.68 Q719.966 1273.68 720.499 1273.75 Q721.031 1273.8 721.679 1273.92 L721.702 1278.29 Z\" fill=\"#000000\" fill-rule=\"evenodd\" fill-opacity=\"1\" /><path clip-path=\"url(#clip590)\" d=\"M743.786 1275.3 L743.786 1279.29 Q741.98 1278.29 740.151 1277.8 Q738.346 1277.29 736.494 1277.29 Q732.35 1277.29 730.059 1279.93 Q727.767 1282.55 727.767 1287.29 Q727.767 1292.04 730.059 1294.68 Q732.35 1297.29 736.494 1297.29 Q738.346 1297.29 740.151 1296.81 Q741.98 1296.3 743.786 1295.3 L743.786 1299.24 Q742.003 1300.07 740.082 1300.49 Q738.184 1300.91 736.031 1300.91 Q730.175 1300.91 726.726 1297.23 Q723.276 1293.54 723.276 1287.29 Q723.276 1280.95 726.749 1277.32 Q730.244 1273.68 736.309 1273.68 Q738.276 1273.68 740.151 1274.1 Q742.026 1274.49 743.786 1275.3 Z\" fill=\"#000000\" fill-rule=\"evenodd\" fill-opacity=\"1\" /><path clip-path=\"url(#clip590)\" d=\"M773.369 1286.21 L773.369 1288.29 L753.786 1288.29 Q754.063 1292.69 756.424 1295 Q758.809 1297.29 763.045 1297.29 Q765.498 1297.29 767.79 1296.69 Q770.105 1296.09 772.373 1294.89 L772.373 1298.91 Q770.082 1299.89 767.674 1300.4 Q765.267 1300.91 762.79 1300.91 Q756.586 1300.91 752.952 1297.29 Q749.341 1293.68 749.341 1287.53 Q749.341 1281.16 752.767 1277.43 Q756.216 1273.68 762.049 1273.68 Q767.281 1273.68 770.313 1277.06 Q773.369 1280.42 773.369 1286.21 M769.11 1284.96 Q769.063 1281.46 767.142 1279.38 Q765.244 1277.29 762.096 1277.29 Q758.531 1277.29 756.378 1279.31 Q754.249 1281.32 753.924 1284.98 L769.11 1284.96 Z\" fill=\"#000000\" fill-rule=\"evenodd\" fill-opacity=\"1\" /><path clip-path=\"url(#clip590)\" d=\"M784.48 1296.35 L784.48 1310.1 L780.197 1310.1 L780.197 1274.31 L784.48 1274.31 L784.48 1278.24 Q785.822 1275.93 787.859 1274.82 Q789.92 1273.68 792.767 1273.68 Q797.489 1273.68 800.429 1277.43 Q803.392 1281.18 803.392 1287.29 Q803.392 1293.41 800.429 1297.16 Q797.489 1300.91 792.767 1300.91 Q789.92 1300.91 787.859 1299.79 Q785.822 1298.66 784.48 1296.35 M798.97 1287.29 Q798.97 1282.6 797.026 1279.93 Q795.105 1277.25 791.725 1277.25 Q788.346 1277.25 786.401 1279.93 Q784.48 1282.6 784.48 1287.29 Q784.48 1291.99 786.401 1294.68 Q788.346 1297.34 791.725 1297.34 Q795.105 1297.34 797.026 1294.68 Q798.97 1291.99 798.97 1287.29 Z\" fill=\"#000000\" fill-rule=\"evenodd\" fill-opacity=\"1\" /><path clip-path=\"url(#clip590)\" d=\"M814.665 1266.95 L814.665 1274.31 L823.438 1274.31 L823.438 1277.62 L814.665 1277.62 L814.665 1291.69 Q814.665 1294.86 815.521 1295.77 Q816.401 1296.67 819.063 1296.67 L823.438 1296.67 L823.438 1300.23 L819.063 1300.23 Q814.132 1300.23 812.257 1298.41 Q810.382 1296.55 810.382 1291.69 L810.382 1277.62 L807.257 1277.62 L807.257 1274.31 L810.382 1274.31 L810.382 1266.95 L814.665 1266.95 Z\" fill=\"#000000\" fill-rule=\"evenodd\" fill-opacity=\"1\" /><path clip-path=\"url(#clip590)\" d=\"M846.378 1270.51 L846.378 1283.41 L859.271 1283.41 L859.271 1287.34 L846.378 1287.34 L846.378 1300.23 L842.489 1300.23 L842.489 1287.34 L829.595 1287.34 L829.595 1283.41 L842.489 1283.41 L842.489 1270.51 L846.378 1270.51 Z\" fill=\"#000000\" fill-rule=\"evenodd\" fill-opacity=\"1\" /><path clip-path=\"url(#clip590)\" d=\"M888.947 1279.29 Q890.544 1276.42 892.766 1275.05 Q894.988 1273.68 897.998 1273.68 Q902.049 1273.68 904.248 1276.53 Q906.447 1279.35 906.447 1284.59 L906.447 1300.23 L902.164 1300.23 L902.164 1284.73 Q902.164 1281 900.845 1279.19 Q899.526 1277.39 896.817 1277.39 Q893.507 1277.39 891.586 1279.59 Q889.664 1281.79 889.664 1285.58 L889.664 1300.23 L885.382 1300.23 L885.382 1284.73 Q885.382 1280.98 884.063 1279.19 Q882.743 1277.39 879.989 1277.39 Q876.725 1277.39 874.803 1279.61 Q872.882 1281.81 872.882 1285.58 L872.882 1300.23 L868.6 1300.23 L868.6 1274.31 L872.882 1274.31 L872.882 1278.34 Q874.34 1275.95 876.377 1274.82 Q878.415 1273.68 881.215 1273.68 Q884.039 1273.68 886.007 1275.12 Q887.998 1276.55 888.947 1279.29 Z\" fill=\"#000000\" fill-rule=\"evenodd\" fill-opacity=\"1\" /><path clip-path=\"url(#clip590)\" d=\"M926.724 1287.2 Q921.562 1287.2 919.572 1288.38 Q917.581 1289.56 917.581 1292.41 Q917.581 1294.68 919.062 1296.02 Q920.567 1297.34 923.136 1297.34 Q926.678 1297.34 928.808 1294.84 Q930.961 1292.32 930.961 1288.15 L930.961 1287.2 L926.724 1287.2 M935.22 1285.44 L935.22 1300.23 L930.961 1300.23 L930.961 1296.3 Q929.502 1298.66 927.326 1299.79 Q925.15 1300.91 922.002 1300.91 Q918.021 1300.91 915.66 1298.68 Q913.322 1296.44 913.322 1292.69 Q913.322 1288.31 916.238 1286.09 Q919.178 1283.87 924.988 1283.87 L930.961 1283.87 L930.961 1283.45 Q930.961 1280.51 929.016 1278.92 Q927.095 1277.29 923.599 1277.29 Q921.377 1277.29 919.271 1277.83 Q917.164 1278.36 915.22 1279.42 L915.22 1275.49 Q917.558 1274.59 919.757 1274.15 Q921.956 1273.68 924.039 1273.68 Q929.664 1273.68 932.442 1276.6 Q935.22 1279.52 935.22 1285.44 Z\" fill=\"#000000\" fill-rule=\"evenodd\" fill-opacity=\"1\" /><path clip-path=\"url(#clip590)\" d=\"M959.016 1278.29 Q958.298 1277.87 957.442 1277.69 Q956.609 1277.48 955.59 1277.48 Q951.979 1277.48 950.034 1279.84 Q948.113 1282.18 948.113 1286.58 L948.113 1300.23 L943.831 1300.23 L943.831 1274.31 L948.113 1274.31 L948.113 1278.34 Q949.456 1275.98 951.609 1274.84 Q953.761 1273.68 956.84 1273.68 Q957.28 1273.68 957.812 1273.75 Q958.345 1273.8 958.993 1273.92 L959.016 1278.29 Z\" fill=\"#000000\" fill-rule=\"evenodd\" fill-opacity=\"1\" /><path clip-path=\"url(#clip590)\" d=\"M963.321 1264.22 L967.604 1264.22 L967.604 1285.49 L980.312 1274.31 L985.752 1274.31 L972.002 1286.44 L986.331 1300.23 L980.775 1300.23 L967.604 1287.57 L967.604 1300.23 L963.321 1300.23 L963.321 1264.22 Z\" fill=\"#000000\" fill-rule=\"evenodd\" fill-opacity=\"1\" /><path clip-path=\"url(#clip590)\" d=\"M1011.42 1286.21 L1011.42 1288.29 L991.84 1288.29 Q992.118 1292.69 994.479 1295 Q996.863 1297.29 1001.1 1297.29 Q1003.55 1297.29 1005.84 1296.69 Q1008.16 1296.09 1010.43 1294.89 L1010.43 1298.91 Q1008.14 1299.89 1005.73 1300.4 Q1003.32 1300.91 1000.84 1300.91 Q994.641 1300.91 991.006 1297.29 Q987.395 1293.68 987.395 1287.53 Q987.395 1281.16 990.821 1277.43 Q994.27 1273.68 1000.1 1273.68 Q1005.34 1273.68 1008.37 1277.06 Q1011.42 1280.42 1011.42 1286.21 M1007.16 1284.96 Q1007.12 1281.46 1005.2 1279.38 Q1003.3 1277.29 1000.15 1277.29 Q996.585 1277.29 994.432 1279.31 Q992.303 1281.32 991.979 1284.98 L1007.16 1284.96 Z\" fill=\"#000000\" fill-rule=\"evenodd\" fill-opacity=\"1\" /><path clip-path=\"url(#clip590)\" d=\"M1033.44 1278.29 Q1032.72 1277.87 1031.86 1277.69 Q1031.03 1277.48 1030.01 1277.48 Q1026.4 1277.48 1024.46 1279.84 Q1022.53 1282.18 1022.53 1286.58 L1022.53 1300.23 L1018.25 1300.23 L1018.25 1274.31 L1022.53 1274.31 L1022.53 1278.34 Q1023.88 1275.98 1026.03 1274.84 Q1028.18 1273.68 1031.26 1273.68 Q1031.7 1273.68 1032.23 1273.75 Q1032.77 1273.8 1033.41 1273.92 L1033.44 1278.29 Z\" fill=\"#000000\" fill-rule=\"evenodd\" fill-opacity=\"1\" /><path clip-path=\"url(#clip590)\" d=\"M1057.6 1296.3 L1073.92 1296.3 L1073.92 1300.23 L1051.98 1300.23 L1051.98 1296.3 Q1054.64 1293.54 1059.22 1288.92 Q1063.83 1284.26 1065.01 1282.92 Q1067.26 1280.4 1068.14 1278.66 Q1069.04 1276.9 1069.04 1275.21 Q1069.04 1272.46 1067.09 1270.72 Q1065.17 1268.98 1062.07 1268.98 Q1059.87 1268.98 1057.42 1269.75 Q1054.99 1270.51 1052.21 1272.06 L1052.21 1267.34 Q1055.03 1266.21 1057.49 1265.63 Q1059.94 1265.05 1061.98 1265.05 Q1067.35 1265.05 1070.54 1267.73 Q1073.74 1270.42 1073.74 1274.91 Q1073.74 1277.04 1072.93 1278.96 Q1072.14 1280.86 1070.03 1283.45 Q1069.46 1284.12 1066.35 1287.34 Q1063.25 1290.54 1057.6 1296.3 Z\" fill=\"#000000\" fill-rule=\"evenodd\" fill-opacity=\"1\" /><path clip-path=\"url(#clip590)\" d=\"M1087.77 1296.3 L1104.08 1296.3 L1104.08 1300.23 L1082.14 1300.23 L1082.14 1296.3 Q1084.8 1293.54 1089.39 1288.92 Q1093.99 1284.26 1095.17 1282.92 Q1097.42 1280.4 1098.3 1278.66 Q1099.2 1276.9 1099.2 1275.21 Q1099.2 1272.46 1097.26 1270.72 Q1095.33 1268.98 1092.23 1268.98 Q1090.03 1268.98 1087.58 1269.75 Q1085.15 1270.51 1082.37 1272.06 L1082.37 1267.34 Q1085.2 1266.21 1087.65 1265.63 Q1090.1 1265.05 1092.14 1265.05 Q1097.51 1265.05 1100.7 1267.73 Q1103.9 1270.42 1103.9 1274.91 Q1103.9 1277.04 1103.09 1278.96 Q1102.3 1280.86 1100.2 1283.45 Q1099.62 1284.12 1096.52 1287.34 Q1093.41 1290.54 1087.77 1296.3 Z\" fill=\"#000000\" fill-rule=\"evenodd\" fill-opacity=\"1\" /><path clip-path=\"url(#clip590)\" d=\"M1114.04 1299.52 L1114.04 1295.26 Q1115.8 1296.09 1117.6 1296.53 Q1119.41 1296.97 1121.14 1296.97 Q1125.77 1296.97 1128.2 1293.87 Q1130.66 1290.74 1131.01 1284.4 Q1129.66 1286.39 1127.6 1287.46 Q1125.54 1288.52 1123.04 1288.52 Q1117.86 1288.52 1114.83 1285.4 Q1111.82 1282.25 1111.82 1276.81 Q1111.82 1271.48 1114.96 1268.27 Q1118.11 1265.05 1123.34 1265.05 Q1129.34 1265.05 1132.49 1269.66 Q1135.66 1274.24 1135.66 1282.99 Q1135.66 1291.16 1131.77 1296.04 Q1127.9 1300.91 1121.35 1300.91 Q1119.59 1300.91 1117.79 1300.56 Q1115.98 1300.21 1114.04 1299.52 M1123.34 1284.86 Q1126.49 1284.86 1128.32 1282.71 Q1130.17 1280.56 1130.17 1276.81 Q1130.17 1273.08 1128.32 1270.93 Q1126.49 1268.75 1123.34 1268.75 Q1120.2 1268.75 1118.34 1270.93 Q1116.52 1273.08 1116.52 1276.81 Q1116.52 1280.56 1118.34 1282.71 Q1120.2 1284.86 1123.34 1284.86 Z\" fill=\"#000000\" fill-rule=\"evenodd\" fill-opacity=\"1\" /><path clip-path=\"url(#clip590)\" d=\"M1142.79 1264.26 L1146.49 1264.26 Q1149.96 1269.73 1151.68 1274.96 Q1153.41 1280.19 1153.41 1285.35 Q1153.41 1290.54 1151.68 1295.79 Q1149.96 1301.04 1146.49 1306.48 L1142.79 1306.48 Q1145.87 1301.18 1147.37 1295.95 Q1148.9 1290.7 1148.9 1285.35 Q1148.9 1280 1147.37 1274.79 Q1145.87 1269.59 1142.79 1264.26 Z\" fill=\"#000000\" fill-rule=\"evenodd\" fill-opacity=\"1\" /><circle clip-path=\"url(#clip590)\" cx=\"348.395\" cy=\"1334.79\" r=\"23.04\" fill=\"#0000ff\" fill-rule=\"evenodd\" fill-opacity=\"1\" stroke=\"#000000\" stroke-opacity=\"1\" stroke-width=\"5.12\"/>\n",
       "<path clip-path=\"url(#clip590)\" d=\"M465.338 1331.13 Q466.935 1328.26 469.157 1326.89 Q471.38 1325.52 474.389 1325.52 Q478.44 1325.52 480.639 1328.37 Q482.838 1331.19 482.838 1336.43 L482.838 1352.07 L478.556 1352.07 L478.556 1336.57 Q478.556 1332.84 477.236 1331.03 Q475.917 1329.23 473.208 1329.23 Q469.898 1329.23 467.977 1331.43 Q466.056 1333.63 466.056 1337.42 L466.056 1352.07 L461.773 1352.07 L461.773 1336.57 Q461.773 1332.82 460.454 1331.03 Q459.134 1329.23 456.38 1329.23 Q453.116 1329.23 451.195 1331.45 Q449.273 1333.65 449.273 1337.42 L449.273 1352.07 L444.991 1352.07 L444.991 1326.15 L449.273 1326.15 L449.273 1330.18 Q450.732 1327.79 452.769 1326.66 Q454.806 1325.52 457.607 1325.52 Q460.431 1325.52 462.398 1326.96 Q464.389 1328.39 465.338 1331.13 Z\" fill=\"#000000\" fill-rule=\"evenodd\" fill-opacity=\"1\" /><path clip-path=\"url(#clip590)\" d=\"M503.116 1339.04 Q497.954 1339.04 495.963 1340.22 Q493.972 1341.4 493.972 1344.25 Q493.972 1346.52 495.454 1347.86 Q496.958 1349.18 499.528 1349.18 Q503.069 1349.18 505.199 1346.68 Q507.352 1344.16 507.352 1339.99 L507.352 1339.04 L503.116 1339.04 M511.611 1337.28 L511.611 1352.07 L507.352 1352.07 L507.352 1348.14 Q505.893 1350.5 503.717 1351.63 Q501.542 1352.75 498.393 1352.75 Q494.412 1352.75 492.051 1350.52 Q489.713 1348.28 489.713 1344.53 Q489.713 1340.15 492.63 1337.93 Q495.569 1335.71 501.379 1335.71 L507.352 1335.71 L507.352 1335.29 Q507.352 1332.35 505.407 1330.76 Q503.486 1329.13 499.991 1329.13 Q497.768 1329.13 495.662 1329.67 Q493.555 1330.2 491.611 1331.26 L491.611 1327.33 Q493.949 1326.43 496.148 1325.99 Q498.347 1325.52 500.43 1325.52 Q506.055 1325.52 508.833 1328.44 Q511.611 1331.36 511.611 1337.28 Z\" fill=\"#000000\" fill-rule=\"evenodd\" fill-opacity=\"1\" /><path clip-path=\"url(#clip590)\" d=\"M541.935 1326.15 L532.56 1338.76 L542.421 1352.07 L537.398 1352.07 L529.852 1341.89 L522.305 1352.07 L517.282 1352.07 L527.352 1338.51 L518.139 1326.15 L523.162 1326.15 L530.037 1335.38 L536.912 1326.15 L541.935 1326.15 Z\" fill=\"#000000\" fill-rule=\"evenodd\" fill-opacity=\"1\" /><path clip-path=\"url(#clip590)\" d=\"M548.439 1326.15 L552.699 1326.15 L552.699 1352.07 L548.439 1352.07 L548.439 1326.15 M548.439 1316.06 L552.699 1316.06 L552.699 1321.45 L548.439 1321.45 L548.439 1316.06 Z\" fill=\"#000000\" fill-rule=\"evenodd\" fill-opacity=\"1\" /><path clip-path=\"url(#clip590)\" d=\"M581.796 1331.13 Q583.393 1328.26 585.615 1326.89 Q587.837 1325.52 590.847 1325.52 Q594.898 1325.52 597.097 1328.37 Q599.296 1331.19 599.296 1336.43 L599.296 1352.07 L595.013 1352.07 L595.013 1336.57 Q595.013 1332.84 593.694 1331.03 Q592.374 1329.23 589.666 1329.23 Q586.356 1329.23 584.435 1331.43 Q582.513 1333.63 582.513 1337.42 L582.513 1352.07 L578.231 1352.07 L578.231 1336.57 Q578.231 1332.82 576.911 1331.03 Q575.592 1329.23 572.837 1329.23 Q569.574 1329.23 567.652 1331.45 Q565.731 1333.65 565.731 1337.42 L565.731 1352.07 L561.449 1352.07 L561.449 1326.15 L565.731 1326.15 L565.731 1330.18 Q567.189 1327.79 569.226 1326.66 Q571.263 1325.52 574.064 1325.52 Q576.888 1325.52 578.856 1326.96 Q580.847 1328.39 581.796 1331.13 Z\" fill=\"#000000\" fill-rule=\"evenodd\" fill-opacity=\"1\" /><path clip-path=\"url(#clip590)\" d=\"M607.351 1341.84 L607.351 1326.15 L611.61 1326.15 L611.61 1341.68 Q611.61 1345.36 613.046 1347.21 Q614.481 1349.04 617.351 1349.04 Q620.8 1349.04 622.791 1346.84 Q624.805 1344.64 624.805 1340.85 L624.805 1326.15 L629.064 1326.15 L629.064 1352.07 L624.805 1352.07 L624.805 1348.09 Q623.254 1350.45 621.194 1351.61 Q619.157 1352.75 616.448 1352.75 Q611.981 1352.75 609.666 1349.97 Q607.351 1347.19 607.351 1341.84 M618.069 1325.52 L618.069 1325.52 Z\" fill=\"#000000\" fill-rule=\"evenodd\" fill-opacity=\"1\" /><path clip-path=\"url(#clip590)\" d=\"M658.022 1331.13 Q659.619 1328.26 661.842 1326.89 Q664.064 1325.52 667.073 1325.52 Q671.124 1325.52 673.323 1328.37 Q675.522 1331.19 675.522 1336.43 L675.522 1352.07 L671.24 1352.07 L671.24 1336.57 Q671.24 1332.84 669.92 1331.03 Q668.601 1329.23 665.893 1329.23 Q662.582 1329.23 660.661 1331.43 Q658.74 1333.63 658.74 1337.42 L658.74 1352.07 L654.457 1352.07 L654.457 1336.57 Q654.457 1332.82 653.138 1331.03 Q651.819 1329.23 649.064 1329.23 Q645.8 1329.23 643.879 1331.45 Q641.957 1333.65 641.957 1337.42 L641.957 1352.07 L637.675 1352.07 L637.675 1326.15 L641.957 1326.15 L641.957 1330.18 Q643.416 1327.79 645.453 1326.66 Q647.49 1325.52 650.291 1325.52 Q653.115 1325.52 655.082 1326.96 Q657.073 1328.39 658.022 1331.13 Z\" fill=\"#000000\" fill-rule=\"evenodd\" fill-opacity=\"1\" /><path clip-path=\"url(#clip590)\" d=\"M703.716 1359.94 L703.716 1363.25 L679.087 1363.25 L679.087 1359.94 L703.716 1359.94 Z\" fill=\"#000000\" fill-rule=\"evenodd\" fill-opacity=\"1\" /><path clip-path=\"url(#clip590)\" d=\"M729.272 1336.43 L729.272 1352.07 L725.013 1352.07 L725.013 1336.57 Q725.013 1332.88 723.577 1331.06 Q722.142 1329.23 719.272 1329.23 Q715.823 1329.23 713.832 1331.43 Q711.841 1333.63 711.841 1337.42 L711.841 1352.07 L707.559 1352.07 L707.559 1326.15 L711.841 1326.15 L711.841 1330.18 Q713.369 1327.84 715.429 1326.68 Q717.513 1325.52 720.221 1325.52 Q724.688 1325.52 726.98 1328.3 Q729.272 1331.06 729.272 1336.43 Z\" fill=\"#000000\" fill-rule=\"evenodd\" fill-opacity=\"1\" /><path clip-path=\"url(#clip590)\" d=\"M737.327 1341.84 L737.327 1326.15 L741.587 1326.15 L741.587 1341.68 Q741.587 1345.36 743.022 1347.21 Q744.457 1349.04 747.327 1349.04 Q750.776 1349.04 752.767 1346.84 Q754.781 1344.64 754.781 1340.85 L754.781 1326.15 L759.04 1326.15 L759.04 1352.07 L754.781 1352.07 L754.781 1348.09 Q753.23 1350.45 751.17 1351.61 Q749.133 1352.75 746.424 1352.75 Q741.957 1352.75 739.642 1349.97 Q737.327 1347.19 737.327 1341.84 M748.045 1325.52 L748.045 1325.52 Z\" fill=\"#000000\" fill-rule=\"evenodd\" fill-opacity=\"1\" /><path clip-path=\"url(#clip590)\" d=\"M767.813 1316.06 L772.072 1316.06 L772.072 1352.07 L767.813 1352.07 L767.813 1316.06 Z\" fill=\"#000000\" fill-rule=\"evenodd\" fill-opacity=\"1\" /><path clip-path=\"url(#clip590)\" d=\"M780.984 1316.06 L785.244 1316.06 L785.244 1352.07 L780.984 1352.07 L780.984 1316.06 Z\" fill=\"#000000\" fill-rule=\"evenodd\" fill-opacity=\"1\" /><circle clip-path=\"url(#clip590)\" cx=\"348.395\" cy=\"1386.63\" r=\"23.04\" fill=\"#ff0000\" fill-rule=\"evenodd\" fill-opacity=\"1\" stroke=\"#000000\" stroke-opacity=\"1\" stroke-width=\"5.12\"/>\n",
       "<path clip-path=\"url(#clip590)\" d=\"M465.338 1382.97 Q466.935 1380.1 469.157 1378.73 Q471.38 1377.36 474.389 1377.36 Q478.44 1377.36 480.639 1380.21 Q482.838 1383.03 482.838 1388.27 L482.838 1403.91 L478.556 1403.91 L478.556 1388.41 Q478.556 1384.68 477.236 1382.87 Q475.917 1381.07 473.208 1381.07 Q469.898 1381.07 467.977 1383.27 Q466.056 1385.47 466.056 1389.26 L466.056 1403.91 L461.773 1403.91 L461.773 1388.41 Q461.773 1384.66 460.454 1382.87 Q459.134 1381.07 456.38 1381.07 Q453.116 1381.07 451.195 1383.29 Q449.273 1385.49 449.273 1389.26 L449.273 1403.91 L444.991 1403.91 L444.991 1377.99 L449.273 1377.99 L449.273 1382.02 Q450.732 1379.63 452.769 1378.5 Q454.806 1377.36 457.607 1377.36 Q460.431 1377.36 462.398 1378.8 Q464.389 1380.23 465.338 1382.97 Z\" fill=\"#000000\" fill-rule=\"evenodd\" fill-opacity=\"1\" /><path clip-path=\"url(#clip590)\" d=\"M503.116 1390.88 Q497.954 1390.88 495.963 1392.06 Q493.972 1393.24 493.972 1396.09 Q493.972 1398.36 495.454 1399.7 Q496.958 1401.02 499.528 1401.02 Q503.069 1401.02 505.199 1398.52 Q507.352 1396 507.352 1391.83 L507.352 1390.88 L503.116 1390.88 M511.611 1389.12 L511.611 1403.91 L507.352 1403.91 L507.352 1399.98 Q505.893 1402.34 503.717 1403.47 Q501.542 1404.59 498.393 1404.59 Q494.412 1404.59 492.051 1402.36 Q489.713 1400.12 489.713 1396.37 Q489.713 1391.99 492.63 1389.77 Q495.569 1387.55 501.379 1387.55 L507.352 1387.55 L507.352 1387.13 Q507.352 1384.19 505.407 1382.6 Q503.486 1380.97 499.991 1380.97 Q497.768 1380.97 495.662 1381.51 Q493.555 1382.04 491.611 1383.1 L491.611 1379.17 Q493.949 1378.27 496.148 1377.83 Q498.347 1377.36 500.43 1377.36 Q506.055 1377.36 508.833 1380.28 Q511.611 1383.2 511.611 1389.12 Z\" fill=\"#000000\" fill-rule=\"evenodd\" fill-opacity=\"1\" /><path clip-path=\"url(#clip590)\" d=\"M541.935 1377.99 L532.56 1390.6 L542.421 1403.91 L537.398 1403.91 L529.852 1393.73 L522.305 1403.91 L517.282 1403.91 L527.352 1390.35 L518.139 1377.99 L523.162 1377.99 L530.037 1387.22 L536.912 1377.99 L541.935 1377.99 Z\" fill=\"#000000\" fill-rule=\"evenodd\" fill-opacity=\"1\" /><path clip-path=\"url(#clip590)\" d=\"M548.439 1377.99 L552.699 1377.99 L552.699 1403.91 L548.439 1403.91 L548.439 1377.99 M548.439 1367.9 L552.699 1367.9 L552.699 1373.29 L548.439 1373.29 L548.439 1367.9 Z\" fill=\"#000000\" fill-rule=\"evenodd\" fill-opacity=\"1\" /><path clip-path=\"url(#clip590)\" d=\"M581.796 1382.97 Q583.393 1380.1 585.615 1378.73 Q587.837 1377.36 590.847 1377.36 Q594.898 1377.36 597.097 1380.21 Q599.296 1383.03 599.296 1388.27 L599.296 1403.91 L595.013 1403.91 L595.013 1388.41 Q595.013 1384.68 593.694 1382.87 Q592.374 1381.07 589.666 1381.07 Q586.356 1381.07 584.435 1383.27 Q582.513 1385.47 582.513 1389.26 L582.513 1403.91 L578.231 1403.91 L578.231 1388.41 Q578.231 1384.66 576.911 1382.87 Q575.592 1381.07 572.837 1381.07 Q569.574 1381.07 567.652 1383.29 Q565.731 1385.49 565.731 1389.26 L565.731 1403.91 L561.449 1403.91 L561.449 1377.99 L565.731 1377.99 L565.731 1382.02 Q567.189 1379.63 569.226 1378.5 Q571.263 1377.36 574.064 1377.36 Q576.888 1377.36 578.856 1378.8 Q580.847 1380.23 581.796 1382.97 Z\" fill=\"#000000\" fill-rule=\"evenodd\" fill-opacity=\"1\" /><path clip-path=\"url(#clip590)\" d=\"M607.351 1393.68 L607.351 1377.99 L611.61 1377.99 L611.61 1393.52 Q611.61 1397.2 613.046 1399.05 Q614.481 1400.88 617.351 1400.88 Q620.8 1400.88 622.791 1398.68 Q624.805 1396.48 624.805 1392.69 L624.805 1377.99 L629.064 1377.99 L629.064 1403.91 L624.805 1403.91 L624.805 1399.93 Q623.254 1402.29 621.194 1403.45 Q619.157 1404.59 616.448 1404.59 Q611.981 1404.59 609.666 1401.81 Q607.351 1399.03 607.351 1393.68 M618.069 1377.36 L618.069 1377.36 Z\" fill=\"#000000\" fill-rule=\"evenodd\" fill-opacity=\"1\" /><path clip-path=\"url(#clip590)\" d=\"M658.022 1382.97 Q659.619 1380.1 661.842 1378.73 Q664.064 1377.36 667.073 1377.36 Q671.124 1377.36 673.323 1380.21 Q675.522 1383.03 675.522 1388.27 L675.522 1403.91 L671.24 1403.91 L671.24 1388.41 Q671.24 1384.68 669.92 1382.87 Q668.601 1381.07 665.893 1381.07 Q662.582 1381.07 660.661 1383.27 Q658.74 1385.47 658.74 1389.26 L658.74 1403.91 L654.457 1403.91 L654.457 1388.41 Q654.457 1384.66 653.138 1382.87 Q651.819 1381.07 649.064 1381.07 Q645.8 1381.07 643.879 1383.29 Q641.957 1385.49 641.957 1389.26 L641.957 1403.91 L637.675 1403.91 L637.675 1377.99 L641.957 1377.99 L641.957 1382.02 Q643.416 1379.63 645.453 1378.5 Q647.49 1377.36 650.291 1377.36 Q653.115 1377.36 655.082 1378.8 Q657.073 1380.23 658.022 1382.97 Z\" fill=\"#000000\" fill-rule=\"evenodd\" fill-opacity=\"1\" /><path clip-path=\"url(#clip590)\" d=\"M703.716 1411.78 L703.716 1415.09 L679.087 1415.09 L679.087 1411.78 L703.716 1411.78 Z\" fill=\"#000000\" fill-rule=\"evenodd\" fill-opacity=\"1\" /><path clip-path=\"url(#clip590)\" d=\"M719.503 1390.88 Q714.341 1390.88 712.351 1392.06 Q710.36 1393.24 710.36 1396.09 Q710.36 1398.36 711.841 1399.7 Q713.346 1401.02 715.915 1401.02 Q719.457 1401.02 721.587 1398.52 Q723.739 1396 723.739 1391.83 L723.739 1390.88 L719.503 1390.88 M727.999 1389.12 L727.999 1403.91 L723.739 1403.91 L723.739 1399.98 Q722.281 1402.34 720.105 1403.47 Q717.929 1404.59 714.781 1404.59 Q710.8 1404.59 708.439 1402.36 Q706.101 1400.12 706.101 1396.37 Q706.101 1391.99 709.017 1389.77 Q711.957 1387.55 717.767 1387.55 L723.739 1387.55 L723.739 1387.13 Q723.739 1384.19 721.795 1382.6 Q719.874 1380.97 716.378 1380.97 Q714.156 1380.97 712.05 1381.51 Q709.943 1382.04 707.999 1383.1 L707.999 1379.17 Q710.337 1378.27 712.536 1377.83 Q714.735 1377.36 716.818 1377.36 Q722.443 1377.36 725.221 1380.28 Q727.999 1383.2 727.999 1389.12 Z\" fill=\"#000000\" fill-rule=\"evenodd\" fill-opacity=\"1\" /><path clip-path=\"url(#clip590)\" d=\"M736.772 1367.9 L741.031 1367.9 L741.031 1403.91 L736.772 1403.91 L736.772 1367.9 Z\" fill=\"#000000\" fill-rule=\"evenodd\" fill-opacity=\"1\" /><path clip-path=\"url(#clip590)\" d=\"M754.156 1370.63 L754.156 1377.99 L762.929 1377.99 L762.929 1381.3 L754.156 1381.3 L754.156 1395.37 Q754.156 1398.54 755.012 1399.45 Q755.892 1400.35 758.554 1400.35 L762.929 1400.35 L762.929 1403.91 L758.554 1403.91 Q753.624 1403.91 751.749 1402.09 Q749.874 1400.23 749.874 1395.37 L749.874 1381.3 L746.749 1381.3 L746.749 1377.99 L749.874 1377.99 L749.874 1370.63 L754.156 1370.63 Z\" fill=\"#000000\" fill-rule=\"evenodd\" fill-opacity=\"1\" /></svg>\n"
      ]
     },
     "execution_count": 1250,
     "metadata": {},
     "output_type": "execute_result"
    }
   ],
   "source": [
    "plot(hsqs, full_results[1], color = \"blue\", label = \"LL_null (intercept)\", legend =:bottomleft)\n",
    "plot!(hsqs, full_results[2], color = \"red\", label = \"LL_alt (intercept+marker 229)\")\n",
    "scatter!([hsqs[max_noBayes_null[2]]], [max_noBayes_null[1]], color = \"blue\", label = \"maximum_null\")\n",
    "scatter!([hsqs[max_noBayes_alt[2]]], [max_noBayes_alt[1]], color = \"red\", label = \"maximum_alt\")"
   ]
  },
  {
   "cell_type": "code",
   "execution_count": 1251,
   "id": "f3ba4882-cd08-4448-a982-efe745c11ba0",
   "metadata": {},
   "outputs": [
    {
     "data": {
      "text/plain": [
       "0.8129896939872916"
      ]
     },
     "execution_count": 1251,
     "metadata": {},
     "output_type": "execute_result"
    }
   ],
   "source": [
    "hsqs_from_alt_b[229]"
   ]
  },
  {
   "cell_type": "code",
   "execution_count": 1253,
   "id": "097f8292-4ee8-4990-9896-dcb7fd98ded5",
   "metadata": {},
   "outputs": [
    {
     "data": {
      "image/svg+xml": [
       "<?xml version=\"1.0\" encoding=\"utf-8\"?>\n",
       "<svg xmlns=\"http://www.w3.org/2000/svg\" xmlns:xlink=\"http://www.w3.org/1999/xlink\" width=\"600\" height=\"400\" viewBox=\"0 0 2400 1600\">\n",
       "<defs>\n",
       "  <clipPath id=\"clip670\">\n",
       "    <rect x=\"0\" y=\"0\" width=\"2400\" height=\"1600\"/>\n",
       "  </clipPath>\n",
       "</defs>\n",
       "<path clip-path=\"url(#clip670)\" d=\"\n",
       "M0 1600 L2400 1600 L2400 0 L0 0  Z\n",
       "  \" fill=\"#ffffff\" fill-rule=\"evenodd\" fill-opacity=\"1\"/>\n",
       "<defs>\n",
       "  <clipPath id=\"clip671\">\n",
       "    <rect x=\"480\" y=\"0\" width=\"1681\" height=\"1600\"/>\n",
       "  </clipPath>\n",
       "</defs>\n",
       "<path clip-path=\"url(#clip670)\" d=\"\n",
       "M178.867 1423.18 L2352.76 1423.18 L2352.76 47.2441 L178.867 47.2441  Z\n",
       "  \" fill=\"#ffffff\" fill-rule=\"evenodd\" fill-opacity=\"1\"/>\n",
       "<defs>\n",
       "  <clipPath id=\"clip672\">\n",
       "    <rect x=\"178\" y=\"47\" width=\"2175\" height=\"1377\"/>\n",
       "  </clipPath>\n",
       "</defs>\n",
       "<polyline clip-path=\"url(#clip672)\" style=\"stroke:#000000; stroke-linecap:round; stroke-linejoin:round; stroke-width:2; stroke-opacity:0.1; fill:none\" points=\"\n",
       "  238.337,1423.18 238.337,47.2441 \n",
       "  \"/>\n",
       "<polyline clip-path=\"url(#clip672)\" style=\"stroke:#000000; stroke-linecap:round; stroke-linejoin:round; stroke-width:2; stroke-opacity:0.1; fill:none\" points=\"\n",
       "  752.074,1423.18 752.074,47.2441 \n",
       "  \"/>\n",
       "<polyline clip-path=\"url(#clip672)\" style=\"stroke:#000000; stroke-linecap:round; stroke-linejoin:round; stroke-width:2; stroke-opacity:0.1; fill:none\" points=\"\n",
       "  1265.81,1423.18 1265.81,47.2441 \n",
       "  \"/>\n",
       "<polyline clip-path=\"url(#clip672)\" style=\"stroke:#000000; stroke-linecap:round; stroke-linejoin:round; stroke-width:2; stroke-opacity:0.1; fill:none\" points=\"\n",
       "  1779.55,1423.18 1779.55,47.2441 \n",
       "  \"/>\n",
       "<polyline clip-path=\"url(#clip672)\" style=\"stroke:#000000; stroke-linecap:round; stroke-linejoin:round; stroke-width:2; stroke-opacity:0.1; fill:none\" points=\"\n",
       "  2293.29,1423.18 2293.29,47.2441 \n",
       "  \"/>\n",
       "<polyline clip-path=\"url(#clip670)\" style=\"stroke:#000000; stroke-linecap:round; stroke-linejoin:round; stroke-width:4; stroke-opacity:1; fill:none\" points=\"\n",
       "  178.867,1423.18 2352.76,1423.18 \n",
       "  \"/>\n",
       "<polyline clip-path=\"url(#clip670)\" style=\"stroke:#000000; stroke-linecap:round; stroke-linejoin:round; stroke-width:4; stroke-opacity:1; fill:none\" points=\"\n",
       "  238.337,1423.18 238.337,1404.28 \n",
       "  \"/>\n",
       "<polyline clip-path=\"url(#clip670)\" style=\"stroke:#000000; stroke-linecap:round; stroke-linejoin:round; stroke-width:4; stroke-opacity:1; fill:none\" points=\"\n",
       "  752.074,1423.18 752.074,1404.28 \n",
       "  \"/>\n",
       "<polyline clip-path=\"url(#clip670)\" style=\"stroke:#000000; stroke-linecap:round; stroke-linejoin:round; stroke-width:4; stroke-opacity:1; fill:none\" points=\"\n",
       "  1265.81,1423.18 1265.81,1404.28 \n",
       "  \"/>\n",
       "<polyline clip-path=\"url(#clip670)\" style=\"stroke:#000000; stroke-linecap:round; stroke-linejoin:round; stroke-width:4; stroke-opacity:1; fill:none\" points=\"\n",
       "  1779.55,1423.18 1779.55,1404.28 \n",
       "  \"/>\n",
       "<polyline clip-path=\"url(#clip670)\" style=\"stroke:#000000; stroke-linecap:round; stroke-linejoin:round; stroke-width:4; stroke-opacity:1; fill:none\" points=\"\n",
       "  2293.29,1423.18 2293.29,1404.28 \n",
       "  \"/>\n",
       "<path clip-path=\"url(#clip670)\" d=\"M200.64 1454.1 Q197.029 1454.1 195.201 1457.66 Q193.395 1461.2 193.395 1468.33 Q193.395 1475.44 195.201 1479.01 Q197.029 1482.55 200.64 1482.55 Q204.275 1482.55 206.08 1479.01 Q207.909 1475.44 207.909 1468.33 Q207.909 1461.2 206.08 1457.66 Q204.275 1454.1 200.64 1454.1 M200.64 1450.39 Q206.45 1450.39 209.506 1455 Q212.585 1459.58 212.585 1468.33 Q212.585 1477.06 209.506 1481.67 Q206.45 1486.25 200.64 1486.25 Q194.83 1486.25 191.751 1481.67 Q188.696 1477.06 188.696 1468.33 Q188.696 1459.58 191.751 1455 Q194.83 1450.39 200.64 1450.39 Z\" fill=\"#000000\" fill-rule=\"evenodd\" fill-opacity=\"1\" /><path clip-path=\"url(#clip670)\" d=\"M220.802 1479.7 L225.686 1479.7 L225.686 1485.58 L220.802 1485.58 L220.802 1479.7 Z\" fill=\"#000000\" fill-rule=\"evenodd\" fill-opacity=\"1\" /><path clip-path=\"url(#clip670)\" d=\"M245.872 1454.1 Q242.26 1454.1 240.432 1457.66 Q238.626 1461.2 238.626 1468.33 Q238.626 1475.44 240.432 1479.01 Q242.26 1482.55 245.872 1482.55 Q249.506 1482.55 251.311 1479.01 Q253.14 1475.44 253.14 1468.33 Q253.14 1461.2 251.311 1457.66 Q249.506 1454.1 245.872 1454.1 M245.872 1450.39 Q251.682 1450.39 254.737 1455 Q257.816 1459.58 257.816 1468.33 Q257.816 1477.06 254.737 1481.67 Q251.682 1486.25 245.872 1486.25 Q240.061 1486.25 236.983 1481.67 Q233.927 1477.06 233.927 1468.33 Q233.927 1459.58 236.983 1455 Q240.061 1450.39 245.872 1450.39 Z\" fill=\"#000000\" fill-rule=\"evenodd\" fill-opacity=\"1\" /><path clip-path=\"url(#clip670)\" d=\"M276.033 1454.1 Q272.422 1454.1 270.594 1457.66 Q268.788 1461.2 268.788 1468.33 Q268.788 1475.44 270.594 1479.01 Q272.422 1482.55 276.033 1482.55 Q279.668 1482.55 281.473 1479.01 Q283.302 1475.44 283.302 1468.33 Q283.302 1461.2 281.473 1457.66 Q279.668 1454.1 276.033 1454.1 M276.033 1450.39 Q281.844 1450.39 284.899 1455 Q287.978 1459.58 287.978 1468.33 Q287.978 1477.06 284.899 1481.67 Q281.844 1486.25 276.033 1486.25 Q270.223 1486.25 267.145 1481.67 Q264.089 1477.06 264.089 1468.33 Q264.089 1459.58 267.145 1455 Q270.223 1450.39 276.033 1450.39 Z\" fill=\"#000000\" fill-rule=\"evenodd\" fill-opacity=\"1\" /><path clip-path=\"url(#clip670)\" d=\"M714.875 1454.1 Q711.264 1454.1 709.435 1457.66 Q707.63 1461.2 707.63 1468.33 Q707.63 1475.44 709.435 1479.01 Q711.264 1482.55 714.875 1482.55 Q718.509 1482.55 720.315 1479.01 Q722.144 1475.44 722.144 1468.33 Q722.144 1461.2 720.315 1457.66 Q718.509 1454.1 714.875 1454.1 M714.875 1450.39 Q720.685 1450.39 723.741 1455 Q726.82 1459.58 726.82 1468.33 Q726.82 1477.06 723.741 1481.67 Q720.685 1486.25 714.875 1486.25 Q709.065 1486.25 705.986 1481.67 Q702.931 1477.06 702.931 1468.33 Q702.931 1459.58 705.986 1455 Q709.065 1450.39 714.875 1450.39 Z\" fill=\"#000000\" fill-rule=\"evenodd\" fill-opacity=\"1\" /><path clip-path=\"url(#clip670)\" d=\"M735.037 1479.7 L739.921 1479.7 L739.921 1485.58 L735.037 1485.58 L735.037 1479.7 Z\" fill=\"#000000\" fill-rule=\"evenodd\" fill-opacity=\"1\" /><path clip-path=\"url(#clip670)\" d=\"M754.134 1481.64 L770.454 1481.64 L770.454 1485.58 L748.509 1485.58 L748.509 1481.64 Q751.171 1478.89 755.755 1474.26 Q760.361 1469.61 761.542 1468.27 Q763.787 1465.74 764.667 1464.01 Q765.569 1462.25 765.569 1460.56 Q765.569 1457.8 763.625 1456.07 Q761.704 1454.33 758.602 1454.33 Q756.403 1454.33 753.949 1455.09 Q751.519 1455.86 748.741 1457.41 L748.741 1452.69 Q751.565 1451.55 754.018 1450.97 Q756.472 1450.39 758.509 1450.39 Q763.88 1450.39 767.074 1453.08 Q770.268 1455.77 770.268 1460.26 Q770.268 1462.39 769.458 1464.31 Q768.671 1466.2 766.565 1468.8 Q765.986 1469.47 762.884 1472.69 Q759.782 1475.88 754.134 1481.64 Z\" fill=\"#000000\" fill-rule=\"evenodd\" fill-opacity=\"1\" /><path clip-path=\"url(#clip670)\" d=\"M780.315 1451.02 L798.671 1451.02 L798.671 1454.96 L784.597 1454.96 L784.597 1463.43 Q785.616 1463.08 786.634 1462.92 Q787.653 1462.73 788.671 1462.73 Q794.458 1462.73 797.838 1465.9 Q801.217 1469.08 801.217 1474.49 Q801.217 1480.07 797.745 1483.17 Q794.273 1486.25 787.953 1486.25 Q785.778 1486.25 783.509 1485.88 Q781.264 1485.51 778.856 1484.77 L778.856 1480.07 Q780.94 1481.2 783.162 1481.76 Q785.384 1482.32 787.861 1482.32 Q791.866 1482.32 794.203 1480.21 Q796.541 1478.1 796.541 1474.49 Q796.541 1470.88 794.203 1468.77 Q791.866 1466.67 787.861 1466.67 Q785.986 1466.67 784.111 1467.08 Q782.259 1467.5 780.315 1468.38 L780.315 1451.02 Z\" fill=\"#000000\" fill-rule=\"evenodd\" fill-opacity=\"1\" /><path clip-path=\"url(#clip670)\" d=\"M1228.11 1454.1 Q1224.5 1454.1 1222.67 1457.66 Q1220.87 1461.2 1220.87 1468.33 Q1220.87 1475.44 1222.67 1479.01 Q1224.5 1482.55 1228.11 1482.55 Q1231.75 1482.55 1233.55 1479.01 Q1235.38 1475.44 1235.38 1468.33 Q1235.38 1461.2 1233.55 1457.66 Q1231.75 1454.1 1228.11 1454.1 M1228.11 1450.39 Q1233.92 1450.39 1236.98 1455 Q1240.06 1459.58 1240.06 1468.33 Q1240.06 1477.06 1236.98 1481.67 Q1233.92 1486.25 1228.11 1486.25 Q1222.3 1486.25 1219.23 1481.67 Q1216.17 1477.06 1216.17 1468.33 Q1216.17 1459.58 1219.23 1455 Q1222.3 1450.39 1228.11 1450.39 Z\" fill=\"#000000\" fill-rule=\"evenodd\" fill-opacity=\"1\" /><path clip-path=\"url(#clip670)\" d=\"M1248.28 1479.7 L1253.16 1479.7 L1253.16 1485.58 L1248.28 1485.58 L1248.28 1479.7 Z\" fill=\"#000000\" fill-rule=\"evenodd\" fill-opacity=\"1\" /><path clip-path=\"url(#clip670)\" d=\"M1263.39 1451.02 L1281.75 1451.02 L1281.75 1454.96 L1267.67 1454.96 L1267.67 1463.43 Q1268.69 1463.08 1269.71 1462.92 Q1270.73 1462.73 1271.75 1462.73 Q1277.54 1462.73 1280.92 1465.9 Q1284.29 1469.08 1284.29 1474.49 Q1284.29 1480.07 1280.82 1483.17 Q1277.35 1486.25 1271.03 1486.25 Q1268.86 1486.25 1266.59 1485.88 Q1264.34 1485.51 1261.93 1484.77 L1261.93 1480.07 Q1264.02 1481.2 1266.24 1481.76 Q1268.46 1482.32 1270.94 1482.32 Q1274.94 1482.32 1277.28 1480.21 Q1279.62 1478.1 1279.62 1474.49 Q1279.62 1470.88 1277.28 1468.77 Q1274.94 1466.67 1270.94 1466.67 Q1269.06 1466.67 1267.19 1467.08 Q1265.34 1467.5 1263.39 1468.38 L1263.39 1451.02 Z\" fill=\"#000000\" fill-rule=\"evenodd\" fill-opacity=\"1\" /><path clip-path=\"url(#clip670)\" d=\"M1303.51 1454.1 Q1299.9 1454.1 1298.07 1457.66 Q1296.26 1461.2 1296.26 1468.33 Q1296.26 1475.44 1298.07 1479.01 Q1299.9 1482.55 1303.51 1482.55 Q1307.14 1482.55 1308.95 1479.01 Q1310.78 1475.44 1310.78 1468.33 Q1310.78 1461.2 1308.95 1457.66 Q1307.14 1454.1 1303.51 1454.1 M1303.51 1450.39 Q1309.32 1450.39 1312.37 1455 Q1315.45 1459.58 1315.45 1468.33 Q1315.45 1477.06 1312.37 1481.67 Q1309.32 1486.25 1303.51 1486.25 Q1297.7 1486.25 1294.62 1481.67 Q1291.56 1477.06 1291.56 1468.33 Q1291.56 1459.58 1294.62 1455 Q1297.7 1450.39 1303.51 1450.39 Z\" fill=\"#000000\" fill-rule=\"evenodd\" fill-opacity=\"1\" /><path clip-path=\"url(#clip670)\" d=\"M1742.35 1454.1 Q1738.74 1454.1 1736.91 1457.66 Q1735.1 1461.2 1735.1 1468.33 Q1735.1 1475.44 1736.91 1479.01 Q1738.74 1482.55 1742.35 1482.55 Q1745.98 1482.55 1747.79 1479.01 Q1749.62 1475.44 1749.62 1468.33 Q1749.62 1461.2 1747.79 1457.66 Q1745.98 1454.1 1742.35 1454.1 M1742.35 1450.39 Q1748.16 1450.39 1751.22 1455 Q1754.29 1459.58 1754.29 1468.33 Q1754.29 1477.06 1751.22 1481.67 Q1748.16 1486.25 1742.35 1486.25 Q1736.54 1486.25 1733.46 1481.67 Q1730.41 1477.06 1730.41 1468.33 Q1730.41 1459.58 1733.46 1455 Q1736.54 1450.39 1742.35 1450.39 Z\" fill=\"#000000\" fill-rule=\"evenodd\" fill-opacity=\"1\" /><path clip-path=\"url(#clip670)\" d=\"M1762.51 1479.7 L1767.4 1479.7 L1767.4 1485.58 L1762.51 1485.58 L1762.51 1479.7 Z\" fill=\"#000000\" fill-rule=\"evenodd\" fill-opacity=\"1\" /><path clip-path=\"url(#clip670)\" d=\"M1776.4 1451.02 L1798.62 1451.02 L1798.62 1453.01 L1786.08 1485.58 L1781.19 1485.58 L1793 1454.96 L1776.4 1454.96 L1776.4 1451.02 Z\" fill=\"#000000\" fill-rule=\"evenodd\" fill-opacity=\"1\" /><path clip-path=\"url(#clip670)\" d=\"M1807.79 1451.02 L1826.15 1451.02 L1826.15 1454.96 L1812.07 1454.96 L1812.07 1463.43 Q1813.09 1463.08 1814.11 1462.92 Q1815.13 1462.73 1816.15 1462.73 Q1821.93 1462.73 1825.31 1465.9 Q1828.69 1469.08 1828.69 1474.49 Q1828.69 1480.07 1825.22 1483.17 Q1821.75 1486.25 1815.43 1486.25 Q1813.25 1486.25 1810.98 1485.88 Q1808.74 1485.51 1806.33 1484.77 L1806.33 1480.07 Q1808.41 1481.2 1810.64 1481.76 Q1812.86 1482.32 1815.34 1482.32 Q1819.34 1482.32 1821.68 1480.21 Q1824.02 1478.1 1824.02 1474.49 Q1824.02 1470.88 1821.68 1468.77 Q1819.34 1466.67 1815.34 1466.67 Q1813.46 1466.67 1811.59 1467.08 Q1809.73 1467.5 1807.79 1468.38 L1807.79 1451.02 Z\" fill=\"#000000\" fill-rule=\"evenodd\" fill-opacity=\"1\" /><path clip-path=\"url(#clip670)\" d=\"M2245.36 1481.64 L2253 1481.64 L2253 1455.28 L2244.69 1456.95 L2244.69 1452.69 L2252.95 1451.02 L2257.63 1451.02 L2257.63 1481.64 L2265.27 1481.64 L2265.27 1485.58 L2245.36 1485.58 L2245.36 1481.64 Z\" fill=\"#000000\" fill-rule=\"evenodd\" fill-opacity=\"1\" /><path clip-path=\"url(#clip670)\" d=\"M2274.71 1479.7 L2279.59 1479.7 L2279.59 1485.58 L2274.71 1485.58 L2274.71 1479.7 Z\" fill=\"#000000\" fill-rule=\"evenodd\" fill-opacity=\"1\" /><path clip-path=\"url(#clip670)\" d=\"M2299.78 1454.1 Q2296.17 1454.1 2294.34 1457.66 Q2292.53 1461.2 2292.53 1468.33 Q2292.53 1475.44 2294.34 1479.01 Q2296.17 1482.55 2299.78 1482.55 Q2303.41 1482.55 2305.22 1479.01 Q2307.05 1475.44 2307.05 1468.33 Q2307.05 1461.2 2305.22 1457.66 Q2303.41 1454.1 2299.78 1454.1 M2299.78 1450.39 Q2305.59 1450.39 2308.64 1455 Q2311.72 1459.58 2311.72 1468.33 Q2311.72 1477.06 2308.64 1481.67 Q2305.59 1486.25 2299.78 1486.25 Q2293.97 1486.25 2290.89 1481.67 Q2287.83 1477.06 2287.83 1468.33 Q2287.83 1459.58 2290.89 1455 Q2293.97 1450.39 2299.78 1450.39 Z\" fill=\"#000000\" fill-rule=\"evenodd\" fill-opacity=\"1\" /><path clip-path=\"url(#clip670)\" d=\"M2329.94 1454.1 Q2326.33 1454.1 2324.5 1457.66 Q2322.7 1461.2 2322.7 1468.33 Q2322.7 1475.44 2324.5 1479.01 Q2326.33 1482.55 2329.94 1482.55 Q2333.57 1482.55 2335.38 1479.01 Q2337.21 1475.44 2337.21 1468.33 Q2337.21 1461.2 2335.38 1457.66 Q2333.57 1454.1 2329.94 1454.1 M2329.94 1450.39 Q2335.75 1450.39 2338.81 1455 Q2341.88 1459.58 2341.88 1468.33 Q2341.88 1477.06 2338.81 1481.67 Q2335.75 1486.25 2329.94 1486.25 Q2324.13 1486.25 2321.05 1481.67 Q2318 1477.06 2318 1468.33 Q2318 1459.58 2321.05 1455 Q2324.13 1450.39 2329.94 1450.39 Z\" fill=\"#000000\" fill-rule=\"evenodd\" fill-opacity=\"1\" /><path clip-path=\"url(#clip670)\" d=\"M1260.5 1546.53 L1260.5 1568.04 L1254.64 1568.04 L1254.64 1546.72 Q1254.64 1541.66 1252.67 1539.14 Q1250.69 1536.63 1246.75 1536.63 Q1242 1536.63 1239.27 1539.65 Q1236.53 1542.68 1236.53 1547.9 L1236.53 1568.04 L1230.64 1568.04 L1230.64 1518.52 L1236.53 1518.52 L1236.53 1537.93 Q1238.63 1534.72 1241.46 1533.13 Q1244.33 1531.54 1248.05 1531.54 Q1254.19 1531.54 1257.34 1535.36 Q1260.5 1539.14 1260.5 1546.53 Z\" fill=\"#000000\" fill-rule=\"evenodd\" fill-opacity=\"1\" /><path clip-path=\"url(#clip670)\" d=\"M1278.54 1562.63 L1300.98 1562.63 L1300.98 1568.04 L1270.81 1568.04 L1270.81 1562.63 Q1274.47 1558.85 1280.77 1552.48 Q1287.1 1546.08 1288.73 1544.24 Q1291.82 1540.77 1293.02 1538.38 Q1294.27 1535.96 1294.27 1533.64 Q1294.27 1529.85 1291.59 1527.46 Q1288.95 1525.08 1284.69 1525.08 Q1281.66 1525.08 1278.29 1526.13 Q1274.95 1527.18 1271.13 1529.31 L1271.13 1522.82 Q1275.01 1521.26 1278.38 1520.46 Q1281.76 1519.66 1284.56 1519.66 Q1291.94 1519.66 1296.33 1523.36 Q1300.73 1527.05 1300.73 1533.22 Q1300.73 1536.15 1299.61 1538.79 Q1298.53 1541.4 1295.63 1544.97 Q1294.84 1545.89 1290.57 1550.32 Q1286.31 1554.71 1278.54 1562.63 Z\" fill=\"#000000\" fill-rule=\"evenodd\" fill-opacity=\"1\" /><polyline clip-path=\"url(#clip672)\" style=\"stroke:#000000; stroke-linecap:round; stroke-linejoin:round; stroke-width:2; stroke-opacity:0.1; fill:none\" points=\"\n",
       "  178.867,1208.44 2352.76,1208.44 \n",
       "  \"/>\n",
       "<polyline clip-path=\"url(#clip672)\" style=\"stroke:#000000; stroke-linecap:round; stroke-linejoin:round; stroke-width:2; stroke-opacity:0.1; fill:none\" points=\"\n",
       "  178.867,972.627 2352.76,972.627 \n",
       "  \"/>\n",
       "<polyline clip-path=\"url(#clip672)\" style=\"stroke:#000000; stroke-linecap:round; stroke-linejoin:round; stroke-width:2; stroke-opacity:0.1; fill:none\" points=\"\n",
       "  178.867,736.818 2352.76,736.818 \n",
       "  \"/>\n",
       "<polyline clip-path=\"url(#clip672)\" style=\"stroke:#000000; stroke-linecap:round; stroke-linejoin:round; stroke-width:2; stroke-opacity:0.1; fill:none\" points=\"\n",
       "  178.867,501.009 2352.76,501.009 \n",
       "  \"/>\n",
       "<polyline clip-path=\"url(#clip672)\" style=\"stroke:#000000; stroke-linecap:round; stroke-linejoin:round; stroke-width:2; stroke-opacity:0.1; fill:none\" points=\"\n",
       "  178.867,265.199 2352.76,265.199 \n",
       "  \"/>\n",
       "<polyline clip-path=\"url(#clip670)\" style=\"stroke:#000000; stroke-linecap:round; stroke-linejoin:round; stroke-width:4; stroke-opacity:1; fill:none\" points=\"\n",
       "  178.867,1423.18 178.867,47.2441 \n",
       "  \"/>\n",
       "<polyline clip-path=\"url(#clip670)\" style=\"stroke:#000000; stroke-linecap:round; stroke-linejoin:round; stroke-width:4; stroke-opacity:1; fill:none\" points=\"\n",
       "  178.867,1208.44 197.764,1208.44 \n",
       "  \"/>\n",
       "<polyline clip-path=\"url(#clip670)\" style=\"stroke:#000000; stroke-linecap:round; stroke-linejoin:round; stroke-width:4; stroke-opacity:1; fill:none\" points=\"\n",
       "  178.867,972.627 197.764,972.627 \n",
       "  \"/>\n",
       "<polyline clip-path=\"url(#clip670)\" style=\"stroke:#000000; stroke-linecap:round; stroke-linejoin:round; stroke-width:4; stroke-opacity:1; fill:none\" points=\"\n",
       "  178.867,736.818 197.764,736.818 \n",
       "  \"/>\n",
       "<polyline clip-path=\"url(#clip670)\" style=\"stroke:#000000; stroke-linecap:round; stroke-linejoin:round; stroke-width:4; stroke-opacity:1; fill:none\" points=\"\n",
       "  178.867,501.009 197.764,501.009 \n",
       "  \"/>\n",
       "<polyline clip-path=\"url(#clip670)\" style=\"stroke:#000000; stroke-linecap:round; stroke-linejoin:round; stroke-width:4; stroke-opacity:1; fill:none\" points=\"\n",
       "  178.867,265.199 197.764,265.199 \n",
       "  \"/>\n",
       "<path clip-path=\"url(#clip670)\" d=\"M51.9875 1208.89 L81.6633 1208.89 L81.6633 1212.82 L51.9875 1212.82 L51.9875 1208.89 Z\" fill=\"#000000\" fill-rule=\"evenodd\" fill-opacity=\"1\" /><path clip-path=\"url(#clip670)\" d=\"M90.5752 1191.16 L112.797 1191.16 L112.797 1193.15 L100.251 1225.72 L95.3669 1225.72 L107.172 1195.09 L90.5752 1195.09 L90.5752 1191.16 Z\" fill=\"#000000\" fill-rule=\"evenodd\" fill-opacity=\"1\" /><path clip-path=\"url(#clip670)\" d=\"M121.964 1191.16 L140.32 1191.16 L140.32 1195.09 L126.246 1195.09 L126.246 1203.56 Q127.265 1203.22 128.283 1203.05 Q129.302 1202.87 130.32 1202.87 Q136.107 1202.87 139.487 1206.04 Q142.867 1209.21 142.867 1214.63 Q142.867 1220.21 139.394 1223.31 Q135.922 1226.39 129.603 1226.39 Q127.427 1226.39 125.158 1226.02 Q122.913 1225.65 120.506 1224.91 L120.506 1220.21 Q122.589 1221.34 124.811 1221.9 Q127.033 1222.45 129.51 1222.45 Q133.515 1222.45 135.853 1220.35 Q138.191 1218.24 138.191 1214.63 Q138.191 1211.02 135.853 1208.91 Q133.515 1206.8 129.51 1206.8 Q127.635 1206.8 125.76 1207.22 Q123.908 1207.64 121.964 1208.52 L121.964 1191.16 Z\" fill=\"#000000\" fill-rule=\"evenodd\" fill-opacity=\"1\" /><path clip-path=\"url(#clip670)\" d=\"M50.9921 973.078 L80.6679 973.078 L80.6679 977.014 L50.9921 977.014 L50.9921 973.078 Z\" fill=\"#000000\" fill-rule=\"evenodd\" fill-opacity=\"1\" /><path clip-path=\"url(#clip670)\" d=\"M89.5799 955.347 L111.802 955.347 L111.802 957.338 L99.2558 989.907 L94.3715 989.907 L106.177 959.282 L89.5799 959.282 L89.5799 955.347 Z\" fill=\"#000000\" fill-rule=\"evenodd\" fill-opacity=\"1\" /><path clip-path=\"url(#clip670)\" d=\"M130.922 958.426 Q127.311 958.426 125.482 961.99 Q123.677 965.532 123.677 972.662 Q123.677 979.768 125.482 983.333 Q127.311 986.875 130.922 986.875 Q134.556 986.875 136.362 983.333 Q138.191 979.768 138.191 972.662 Q138.191 965.532 136.362 961.99 Q134.556 958.426 130.922 958.426 M130.922 954.722 Q136.732 954.722 139.788 959.328 Q142.867 963.912 142.867 972.662 Q142.867 981.389 139.788 985.995 Q136.732 990.578 130.922 990.578 Q125.112 990.578 122.033 985.995 Q118.978 981.389 118.978 972.662 Q118.978 963.912 122.033 959.328 Q125.112 954.722 130.922 954.722 Z\" fill=\"#000000\" fill-rule=\"evenodd\" fill-opacity=\"1\" /><path clip-path=\"url(#clip670)\" d=\"M51.9875 737.269 L81.6633 737.269 L81.6633 741.204 L51.9875 741.204 L51.9875 737.269 Z\" fill=\"#000000\" fill-rule=\"evenodd\" fill-opacity=\"1\" /><path clip-path=\"url(#clip670)\" d=\"M102.334 734.954 Q99.1863 734.954 97.3345 737.107 Q95.5058 739.26 95.5058 743.01 Q95.5058 746.737 97.3345 748.913 Q99.1863 751.065 102.334 751.065 Q105.483 751.065 107.311 748.913 Q109.163 746.737 109.163 743.01 Q109.163 739.26 107.311 737.107 Q105.483 734.954 102.334 734.954 M111.617 720.302 L111.617 724.561 Q109.858 723.728 108.052 723.288 Q106.27 722.848 104.51 722.848 Q99.8808 722.848 97.4271 725.973 Q94.9965 729.098 94.6493 735.417 Q96.015 733.404 98.0752 732.339 Q100.135 731.251 102.612 731.251 Q107.821 731.251 110.83 734.422 Q113.862 737.57 113.862 743.01 Q113.862 748.334 110.714 751.552 Q107.566 754.769 102.334 754.769 Q96.3391 754.769 93.1678 750.186 Q89.9965 745.579 89.9965 736.853 Q89.9965 728.658 93.8854 723.797 Q97.7743 718.913 104.325 718.913 Q106.084 718.913 107.867 719.26 Q109.672 719.607 111.617 720.302 Z\" fill=\"#000000\" fill-rule=\"evenodd\" fill-opacity=\"1\" /><path clip-path=\"url(#clip670)\" d=\"M121.964 719.538 L140.32 719.538 L140.32 723.473 L126.246 723.473 L126.246 731.945 Q127.265 731.598 128.283 731.436 Q129.302 731.251 130.32 731.251 Q136.107 731.251 139.487 734.422 Q142.867 737.593 142.867 743.01 Q142.867 748.589 139.394 751.69 Q135.922 754.769 129.603 754.769 Q127.427 754.769 125.158 754.399 Q122.913 754.028 120.506 753.288 L120.506 748.589 Q122.589 749.723 124.811 750.278 Q127.033 750.834 129.51 750.834 Q133.515 750.834 135.853 748.727 Q138.191 746.621 138.191 743.01 Q138.191 739.399 135.853 737.292 Q133.515 735.186 129.51 735.186 Q127.635 735.186 125.76 735.603 Q123.908 736.019 121.964 736.899 L121.964 719.538 Z\" fill=\"#000000\" fill-rule=\"evenodd\" fill-opacity=\"1\" /><path clip-path=\"url(#clip670)\" d=\"M50.9921 501.46 L80.6679 501.46 L80.6679 505.395 L50.9921 505.395 L50.9921 501.46 Z\" fill=\"#000000\" fill-rule=\"evenodd\" fill-opacity=\"1\" /><path clip-path=\"url(#clip670)\" d=\"M101.339 499.145 Q98.1909 499.145 96.3391 501.298 Q94.5104 503.451 94.5104 507.201 Q94.5104 510.928 96.3391 513.104 Q98.1909 515.256 101.339 515.256 Q104.487 515.256 106.316 513.104 Q108.168 510.928 108.168 507.201 Q108.168 503.451 106.316 501.298 Q104.487 499.145 101.339 499.145 M110.621 484.493 L110.621 488.752 Q108.862 487.918 107.057 487.479 Q105.274 487.039 103.515 487.039 Q98.8854 487.039 96.4317 490.164 Q94.0012 493.289 93.6539 499.608 Q95.0197 497.594 97.0798 496.53 Q99.14 495.442 101.617 495.442 Q106.825 495.442 109.834 498.613 Q112.867 501.761 112.867 507.201 Q112.867 512.525 109.719 515.742 Q106.571 518.96 101.339 518.96 Q95.3437 518.96 92.1725 514.377 Q89.0012 509.77 89.0012 501.043 Q89.0012 492.849 92.89 487.988 Q96.7789 483.104 103.33 483.104 Q105.089 483.104 106.871 483.451 Q108.677 483.798 110.621 484.493 Z\" fill=\"#000000\" fill-rule=\"evenodd\" fill-opacity=\"1\" /><path clip-path=\"url(#clip670)\" d=\"M130.922 486.807 Q127.311 486.807 125.482 490.372 Q123.677 493.914 123.677 501.043 Q123.677 508.15 125.482 511.715 Q127.311 515.256 130.922 515.256 Q134.556 515.256 136.362 511.715 Q138.191 508.15 138.191 501.043 Q138.191 493.914 136.362 490.372 Q134.556 486.807 130.922 486.807 M130.922 483.104 Q136.732 483.104 139.788 487.71 Q142.867 492.293 142.867 501.043 Q142.867 509.77 139.788 514.377 Q136.732 518.96 130.922 518.96 Q125.112 518.96 122.033 514.377 Q118.978 509.77 118.978 501.043 Q118.978 492.293 122.033 487.71 Q125.112 483.104 130.922 483.104 Z\" fill=\"#000000\" fill-rule=\"evenodd\" fill-opacity=\"1\" /><path clip-path=\"url(#clip670)\" d=\"M51.9875 265.651 L81.6633 265.651 L81.6633 269.586 L51.9875 269.586 L51.9875 265.651 Z\" fill=\"#000000\" fill-rule=\"evenodd\" fill-opacity=\"1\" /><path clip-path=\"url(#clip670)\" d=\"M91.8021 247.919 L110.158 247.919 L110.158 251.855 L96.0845 251.855 L96.0845 260.327 Q97.103 259.98 98.1215 259.818 Q99.14 259.632 100.159 259.632 Q105.946 259.632 109.325 262.804 Q112.705 265.975 112.705 271.392 Q112.705 276.97 109.233 280.072 Q105.76 283.151 99.4409 283.151 Q97.265 283.151 94.9965 282.78 Q92.7512 282.41 90.3438 281.669 L90.3438 276.97 Q92.4271 278.105 94.6493 278.66 Q96.8715 279.216 99.3483 279.216 Q103.353 279.216 105.691 277.109 Q108.029 275.003 108.029 271.392 Q108.029 267.781 105.691 265.674 Q103.353 263.568 99.3483 263.568 Q97.4734 263.568 95.5984 263.984 Q93.7465 264.401 91.8021 265.281 L91.8021 247.919 Z\" fill=\"#000000\" fill-rule=\"evenodd\" fill-opacity=\"1\" /><path clip-path=\"url(#clip670)\" d=\"M121.964 247.919 L140.32 247.919 L140.32 251.855 L126.246 251.855 L126.246 260.327 Q127.265 259.98 128.283 259.818 Q129.302 259.632 130.32 259.632 Q136.107 259.632 139.487 262.804 Q142.867 265.975 142.867 271.392 Q142.867 276.97 139.394 280.072 Q135.922 283.151 129.603 283.151 Q127.427 283.151 125.158 282.78 Q122.913 282.41 120.506 281.669 L120.506 276.97 Q122.589 278.105 124.811 278.66 Q127.033 279.216 129.51 279.216 Q133.515 279.216 135.853 277.109 Q138.191 275.003 138.191 271.392 Q138.191 267.781 135.853 265.674 Q133.515 263.568 129.51 263.568 Q127.635 263.568 125.76 263.984 Q123.908 264.401 121.964 265.281 L121.964 247.919 Z\" fill=\"#000000\" fill-rule=\"evenodd\" fill-opacity=\"1\" /><polyline clip-path=\"url(#clip672)\" style=\"stroke:#0000ff; stroke-linecap:round; stroke-linejoin:round; stroke-width:4; stroke-opacity:1; fill:none\" points=\"\n",
       "  240.392,495.782 242.447,495.117 244.502,494.454 246.557,493.792 248.612,493.133 250.667,492.476 252.721,491.821 254.776,491.168 256.831,490.517 258.886,489.868 \n",
       "  260.941,489.221 262.996,488.576 265.051,487.933 267.106,487.292 269.161,486.653 271.216,486.016 273.271,485.381 275.326,484.747 277.381,484.116 279.436,483.487 \n",
       "  281.491,482.859 283.546,482.234 285.601,481.61 287.656,480.988 289.711,480.369 291.766,479.75 293.82,479.134 295.875,478.52 297.93,477.907 299.985,477.297 \n",
       "  302.04,476.688 304.095,476.081 306.15,475.476 308.205,474.872 310.26,474.271 312.315,473.671 314.37,473.073 316.425,472.476 318.48,471.882 320.535,471.289 \n",
       "  322.59,470.698 324.645,470.108 326.7,469.521 328.755,468.935 330.81,468.351 332.864,467.768 334.919,467.187 336.974,466.608 339.029,466.03 341.084,465.455 \n",
       "  343.139,464.88 345.194,464.308 347.249,463.737 349.304,463.168 351.359,462.6 353.414,462.034 355.469,461.47 357.524,460.907 359.579,460.346 361.634,459.786 \n",
       "  363.689,459.228 365.744,458.671 367.799,458.117 369.854,457.563 371.909,457.011 373.963,456.461 376.018,455.912 378.073,455.365 380.128,454.82 382.183,454.276 \n",
       "  384.238,453.733 386.293,453.192 388.348,452.652 390.403,452.114 392.458,451.578 394.513,451.043 396.568,450.509 398.623,449.977 400.678,449.446 402.733,448.917 \n",
       "  404.788,448.389 406.843,447.863 408.898,447.338 410.953,446.814 413.008,446.292 415.062,445.771 417.117,445.252 419.172,444.734 421.227,444.218 423.282,443.703 \n",
       "  425.337,443.189 427.392,442.677 429.447,442.166 431.502,441.657 433.557,441.149 435.612,440.642 437.667,440.136 439.722,439.632 441.777,439.13 443.832,438.628 \n",
       "  445.887,438.128 447.942,437.629 449.997,437.132 452.052,436.636 454.106,436.141 456.161,435.648 458.216,435.156 460.271,434.665 462.326,434.175 464.381,433.687 \n",
       "  466.436,433.2 468.491,432.714 470.546,432.23 472.601,431.746 474.656,431.264 476.711,430.784 478.766,430.304 480.821,429.826 482.876,429.349 484.931,428.873 \n",
       "  486.986,428.399 489.041,427.926 491.096,427.454 493.151,426.983 495.205,426.513 497.26,426.045 499.315,425.577 501.37,425.111 503.425,424.647 505.48,424.183 \n",
       "  507.535,423.721 509.59,423.259 511.645,422.799 513.7,422.34 515.755,421.882 517.81,421.426 519.865,420.97 521.92,420.516 523.975,420.063 526.03,419.611 \n",
       "  528.085,419.16 530.14,418.71 532.195,418.262 534.249,417.814 536.304,417.368 538.359,416.923 540.414,416.479 542.469,416.035 544.524,415.594 546.579,415.153 \n",
       "  548.634,414.713 550.689,414.274 552.744,413.837 554.799,413.4 556.854,412.965 558.909,412.531 560.964,412.098 563.019,411.665 565.074,411.234 567.129,410.804 \n",
       "  569.184,410.375 571.239,409.947 573.294,409.521 575.348,409.095 577.403,408.67 579.458,408.246 581.513,407.823 583.568,407.402 585.623,406.981 587.678,406.562 \n",
       "  589.733,406.143 591.788,405.725 593.843,405.309 595.898,404.893 597.953,404.479 600.008,404.065 602.063,403.652 604.118,403.241 606.173,402.83 608.228,402.421 \n",
       "  610.283,402.012 612.338,401.605 614.392,401.198 616.447,400.792 618.502,400.387 620.557,399.984 622.612,399.581 624.667,399.179 626.722,398.778 628.777,398.378 \n",
       "  630.832,397.979 632.887,397.581 634.942,397.184 636.997,396.788 639.052,396.393 641.107,395.999 643.162,395.606 645.217,395.213 647.272,394.822 649.327,394.431 \n",
       "  651.382,394.042 653.437,393.653 655.491,393.265 657.546,392.878 659.601,392.492 661.656,392.107 663.711,391.723 665.766,391.34 667.821,390.957 669.876,390.576 \n",
       "  671.931,390.195 673.986,389.816 676.041,389.437 678.096,389.059 680.151,388.682 682.206,388.306 684.261,387.93 686.316,387.556 688.371,387.182 690.426,386.809 \n",
       "  692.481,386.438 694.535,386.067 696.59,385.696 698.645,385.327 700.7,384.959 702.755,384.591 704.81,384.224 706.865,383.858 708.92,383.493 710.975,383.129 \n",
       "  713.03,382.766 715.085,382.403 717.14,382.041 719.195,381.681 721.25,381.32 723.305,380.961 725.36,380.603 727.415,380.245 729.47,379.888 731.525,379.532 \n",
       "  733.58,379.177 735.634,378.823 737.689,378.469 739.744,378.116 741.799,377.764 743.854,377.413 745.909,377.063 747.964,376.713 750.019,376.364 752.074,376.016 \n",
       "  754.129,375.669 756.184,375.322 758.239,374.977 760.294,374.632 762.349,374.287 764.404,373.944 766.459,373.601 768.514,373.26 770.569,372.919 772.624,372.578 \n",
       "  774.678,372.239 776.733,371.9 778.788,371.562 780.843,371.225 782.898,370.888 784.953,370.552 787.008,370.217 789.063,369.883 791.118,369.549 793.173,369.216 \n",
       "  795.228,368.884 797.283,368.553 799.338,368.222 801.393,367.893 803.448,367.563 805.503,367.235 807.558,366.907 809.613,366.58 811.668,366.254 813.723,365.929 \n",
       "  815.777,365.604 817.832,365.28 819.887,364.956 821.942,364.634 823.997,364.312 826.052,363.99 828.107,363.67 830.162,363.35 832.217,363.031 834.272,362.713 \n",
       "  836.327,362.395 838.382,362.078 840.437,361.761 842.492,361.446 844.547,361.131 846.602,360.816 848.657,360.503 850.712,360.19 852.767,359.878 854.822,359.566 \n",
       "  856.876,359.255 858.931,358.945 860.986,358.636 863.041,358.327 865.096,358.019 867.151,357.711 869.206,357.404 871.261,357.098 873.316,356.793 875.371,356.488 \n",
       "  877.426,356.184 879.481,355.88 881.536,355.577 883.591,355.275 885.646,354.974 887.701,354.673 889.756,354.372 891.811,354.073 893.866,353.774 895.92,353.476 \n",
       "  897.975,353.178 900.03,352.881 902.085,352.585 904.14,352.289 906.195,351.994 908.25,351.699 910.305,351.405 912.36,351.112 914.415,350.82 916.47,350.528 \n",
       "  918.525,350.236 920.58,349.946 922.635,349.656 924.69,349.366 926.745,349.078 928.8,348.789 930.855,348.502 932.91,348.215 934.965,347.929 937.019,347.643 \n",
       "  939.074,347.358 941.129,347.073 943.184,346.789 945.239,346.506 947.294,346.223 949.349,345.941 951.404,345.66 953.459,345.379 955.514,345.099 957.569,344.819 \n",
       "  959.624,344.54 961.679,344.262 963.734,343.984 965.789,343.707 967.844,343.43 969.899,343.154 971.954,342.878 974.009,342.603 976.063,342.329 978.118,342.055 \n",
       "  980.173,341.782 982.228,341.51 984.283,341.238 986.338,340.966 988.393,340.695 990.448,340.425 992.503,340.156 994.558,339.886 996.613,339.618 998.668,339.35 \n",
       "  1000.72,339.083 1002.78,338.816 1004.83,338.55 1006.89,338.284 1008.94,338.019 1011,337.754 1013.05,337.49 1015.11,337.227 1017.16,336.964 1019.22,336.702 \n",
       "  1021.27,336.44 1023.33,336.179 1025.38,335.918 1027.44,335.658 1029.49,335.399 1031.55,335.14 1033.6,334.882 1035.66,334.624 1037.71,334.366 1039.77,334.11 \n",
       "  1041.82,333.854 1043.88,333.598 1045.93,333.343 1047.99,333.088 1050.04,332.834 1052.1,332.581 1054.15,332.328 1056.21,332.076 1058.26,331.824 1060.32,331.572 \n",
       "  1062.37,331.322 1064.43,331.071 1066.48,330.822 1068.54,330.573 1070.59,330.324 1072.65,330.076 1074.7,329.828 1076.76,329.581 1078.81,329.335 1080.87,329.089 \n",
       "  1082.92,328.843 1084.98,328.598 1087.03,328.354 1089.09,328.11 1091.14,327.867 1093.2,327.624 1095.25,327.382 1097.31,327.14 1099.36,326.898 1101.42,326.658 \n",
       "  1103.47,326.418 1105.53,326.178 1107.58,325.939 1109.64,325.7 1111.69,325.462 1113.75,325.224 1115.8,324.987 1117.85,324.75 1119.91,324.514 1121.96,324.278 \n",
       "  1124.02,324.043 1126.07,323.809 1128.13,323.575 1130.18,323.341 1132.24,323.108 1134.29,322.875 1136.35,322.643 1138.4,322.412 1140.46,322.181 1142.51,321.95 \n",
       "  1144.57,321.72 1146.62,321.49 1148.68,321.261 1150.73,321.033 1152.79,320.805 1154.84,320.577 1156.9,320.35 1158.95,320.123 1161.01,319.897 1163.06,319.671 \n",
       "  1165.12,319.446 1167.17,319.222 1169.23,318.997 1171.28,318.774 1173.34,318.551 1175.39,318.328 1177.45,318.106 1179.5,317.884 1181.56,317.663 1183.61,317.442 \n",
       "  1185.67,317.222 1187.72,317.002 1189.78,316.783 1191.83,316.564 1193.89,316.345 1195.94,316.128 1198,315.91 1200.05,315.693 1202.11,315.477 1204.16,315.261 \n",
       "  1206.22,315.046 1208.27,314.831 1210.33,314.616 1212.38,314.402 1214.44,314.188 1216.49,313.975 1218.55,313.763 1220.6,313.551 1222.66,313.339 1224.71,313.128 \n",
       "  1226.77,312.917 1228.82,312.707 1230.88,312.497 1232.93,312.288 1234.99,312.079 1237.04,311.87 1239.1,311.662 1241.15,311.455 1243.21,311.248 1245.26,311.041 \n",
       "  1247.32,310.835 1249.37,310.63 1251.43,310.425 1253.48,310.22 1255.54,310.016 1257.59,309.812 1259.65,309.609 1261.7,309.406 1263.76,309.204 1265.81,309.002 \n",
       "  1267.87,308.8 1269.92,308.599 1271.98,308.399 1274.03,308.199 1276.09,307.999 1278.14,307.8 1280.2,307.601 1282.25,307.403 1284.31,307.205 1286.36,307.008 \n",
       "  1288.42,306.811 1290.47,306.615 1292.53,306.419 1294.58,306.223 1296.64,306.028 1298.69,305.833 1300.75,305.639 1302.8,305.446 1304.86,305.252 1306.91,305.06 \n",
       "  1308.97,304.867 1311.02,304.675 1313.08,304.484 1315.13,304.293 1317.18,304.102 1319.24,303.912 1321.29,303.723 1323.35,303.533 1325.4,303.345 1327.46,303.156 \n",
       "  1329.51,302.968 1331.57,302.781 1333.62,302.594 1335.68,302.407 1337.73,302.221 1339.79,302.036 1341.84,301.851 1343.9,301.666 1345.95,301.481 1348.01,301.298 \n",
       "  1350.06,301.114 1352.12,300.931 1354.17,300.749 1356.23,300.567 1358.28,300.385 1360.34,300.204 1362.39,300.023 1364.45,299.843 1366.5,299.663 1368.56,299.483 \n",
       "  1370.61,299.304 1372.67,299.126 1374.72,298.948 1376.78,298.77 1378.83,298.593 1380.89,298.416 1382.94,298.24 1385,298.064 1387.05,297.888 1389.11,297.713 \n",
       "  1391.16,297.539 1393.22,297.364 1395.27,297.191 1397.33,297.017 1399.38,296.845 1401.44,296.672 1403.49,296.5 1405.55,296.329 1407.6,296.158 1409.66,295.987 \n",
       "  1411.71,295.817 1413.77,295.647 1415.82,295.477 1417.88,295.309 1419.93,295.14 1421.99,294.972 1424.04,294.804 1426.1,294.637 1428.15,294.471 1430.21,294.304 \n",
       "  1432.26,294.138 1434.32,293.973 1436.37,293.808 1438.43,293.643 1440.48,293.479 1442.54,293.316 1444.59,293.152 1446.65,292.989 1448.7,292.827 1450.76,292.665 \n",
       "  1452.81,292.504 1454.87,292.343 1456.92,292.182 1458.98,292.022 1461.03,291.862 1463.09,291.703 1465.14,291.544 1467.2,291.385 1469.25,291.227 1471.31,291.07 \n",
       "  1473.36,290.912 1475.42,290.756 1477.47,290.599 1479.53,290.444 1481.58,290.288 1483.64,290.133 1485.69,289.979 1487.75,289.824 1489.8,289.671 1491.86,289.517 \n",
       "  1493.91,289.365 1495.97,289.212 1498.02,289.06 1500.08,288.909 1502.13,288.758 1504.19,288.607 1506.24,288.457 1508.3,288.307 1510.35,288.158 1512.41,288.009 \n",
       "  1514.46,287.86 1516.52,287.712 1518.57,287.565 1520.62,287.418 1522.68,287.271 1524.73,287.125 1526.79,286.979 1528.84,286.834 1530.9,286.689 1532.95,286.544 \n",
       "  1535.01,286.4 1537.06,286.256 1539.12,286.113 1541.17,285.97 1543.23,285.828 1545.28,285.686 1547.34,285.545 1549.39,285.404 1551.45,285.263 1553.5,285.123 \n",
       "  1555.56,284.983 1557.61,284.844 1559.67,284.705 1561.72,284.567 1563.78,284.429 1565.83,284.292 1567.89,284.155 1569.94,284.018 1572,283.882 1574.05,283.746 \n",
       "  1576.11,283.611 1578.16,283.476 1580.22,283.342 1582.27,283.208 1584.33,283.074 1586.38,282.941 1588.44,282.809 1590.49,282.676 1592.55,282.545 1594.6,282.414 \n",
       "  1596.66,282.283 1598.71,282.152 1600.77,282.022 1602.82,281.893 1604.88,281.764 1606.93,281.635 1608.99,281.507 1611.04,281.38 1613.1,281.252 1615.15,281.126 \n",
       "  1617.21,280.999 1619.26,280.874 1621.32,280.748 1623.37,280.623 1625.43,280.499 1627.48,280.375 1629.54,280.251 1631.59,280.128 1633.65,280.005 1635.7,279.883 \n",
       "  1637.76,279.761 1639.81,279.64 1641.87,279.519 1643.92,279.399 1645.98,279.279 1648.03,279.159 1650.09,279.04 1652.14,278.922 1654.2,278.804 1656.25,278.686 \n",
       "  1658.31,278.569 1660.36,278.452 1662.42,278.336 1664.47,278.22 1666.53,278.105 1668.58,277.99 1670.64,277.876 1672.69,277.762 1674.75,277.649 1676.8,277.536 \n",
       "  1678.86,277.423 1680.91,277.311 1682.97,277.2 1685.02,277.089 1687.08,276.978 1689.13,276.868 1691.19,276.758 1693.24,276.649 1695.3,276.54 1697.35,276.432 \n",
       "  1699.41,276.325 1701.46,276.217 1703.52,276.111 1705.57,276.004 1707.63,275.898 1709.68,275.793 1711.74,275.688 1713.79,275.584 1715.85,275.48 1717.9,275.377 \n",
       "  1719.95,275.274 1722.01,275.171 1724.06,275.07 1726.12,274.968 1728.17,274.867 1730.23,274.767 1732.28,274.667 1734.34,274.567 1736.39,274.468 1738.45,274.37 \n",
       "  1740.5,274.272 1742.56,274.175 1744.61,274.078 1746.67,273.981 1748.72,273.885 1750.78,273.79 1752.83,273.695 1754.89,273.601 1756.94,273.507 1759,273.413 \n",
       "  1761.05,273.32 1763.11,273.228 1765.16,273.136 1767.22,273.045 1769.27,272.954 1771.33,272.864 1773.38,272.774 1775.44,272.685 1777.49,272.596 1779.55,272.508 \n",
       "  1781.6,272.42 1783.66,272.333 1785.71,272.246 1787.77,272.16 1789.82,272.074 1791.88,271.989 1793.93,271.905 1795.99,271.821 1798.04,271.737 1800.1,271.655 \n",
       "  1802.15,271.572 1804.21,271.49 1806.26,271.409 1808.32,271.328 1810.37,271.248 1812.43,271.169 1814.48,271.09 1816.54,271.011 1818.59,270.933 1820.65,270.856 \n",
       "  1822.7,270.779 1824.76,270.703 1826.81,270.627 1828.87,270.552 1830.92,270.477 1832.98,270.403 1835.03,270.33 1837.09,270.257 1839.14,270.185 1841.2,270.113 \n",
       "  1843.25,270.042 1845.31,269.971 1847.36,269.901 1849.42,269.832 1851.47,269.763 1853.53,269.695 1855.58,269.627 1857.64,269.56 1859.69,269.494 1861.75,269.428 \n",
       "  1863.8,269.363 1865.86,269.298 1867.91,269.234 1869.97,269.171 1872.02,269.108 1874.08,269.046 1876.13,268.985 1878.19,268.924 1880.24,268.864 1882.3,268.804 \n",
       "  1884.35,268.745 1886.41,268.687 1888.46,268.629 1890.52,268.572 1892.57,268.516 1894.63,268.46 1896.68,268.405 1898.74,268.351 1900.79,268.297 1902.85,268.244 \n",
       "  1904.9,268.191 1906.96,268.14 1909.01,268.089 1911.07,268.038 1913.12,267.989 1915.18,267.94 1917.23,267.891 1919.28,267.844 1921.34,267.797 1923.39,267.751 \n",
       "  1925.45,267.705 1927.5,267.661 1929.56,267.617 1931.61,267.573 1933.67,267.531 1935.72,267.489 1937.78,267.448 1939.83,267.408 1941.89,267.368 1943.94,267.33 \n",
       "  1946,267.292 1948.05,267.254 1950.11,267.218 1952.16,267.182 1954.22,267.148 1956.27,267.114 1958.33,267.08 1960.38,267.048 1962.44,267.016 1964.49,266.986 \n",
       "  1966.55,266.956 1968.6,266.927 1970.66,266.898 1972.71,266.871 1974.77,266.845 1976.82,266.819 1978.88,266.794 1980.93,266.771 1982.99,266.748 1985.04,266.726 \n",
       "  1987.1,266.705 1989.15,266.685 1991.21,266.665 1993.26,266.647 1995.32,266.63 1997.37,266.614 1999.43,266.599 2001.48,266.584 2003.54,266.571 2005.59,266.559 \n",
       "  2007.65,266.548 2009.7,266.538 2011.76,266.529 2013.81,266.521 2015.87,266.514 2017.92,266.509 2019.98,266.504 2022.03,266.501 2024.09,266.499 2026.14,266.498 \n",
       "  2028.2,266.498 2030.25,266.499 2032.31,266.502 2034.36,266.506 2036.42,266.511 2038.47,266.518 2040.53,266.526 2042.58,266.535 2044.64,266.546 2046.69,266.558 \n",
       "  2048.75,266.571 2050.8,266.586 2052.86,266.603 2054.91,266.621 2056.97,266.64 2059.02,266.661 2061.08,266.684 2063.13,266.708 2065.19,266.734 2067.24,266.762 \n",
       "  2069.3,266.792 2071.35,266.823 2073.41,266.856 2075.46,266.891 2077.52,266.929 2079.57,266.968 2081.63,267.009 2083.68,267.052 2085.74,267.097 2087.79,267.145 \n",
       "  2089.85,267.194 2091.9,267.247 2093.96,267.301 2096.01,267.358 2098.07,267.417 2100.12,267.479 2102.18,267.544 2104.23,267.612 2106.29,267.682 2108.34,267.755 \n",
       "  2110.4,267.832 2112.45,267.911 2114.51,267.994 2116.56,268.08 2118.62,268.169 2120.67,268.262 2122.72,268.359 2124.78,268.46 2126.83,268.565 2128.89,268.673 \n",
       "  2130.94,268.786 2133,268.904 2135.05,269.026 2137.11,269.153 2139.16,269.285 2141.22,269.423 2143.27,269.565 2145.33,269.714 2147.38,269.868 2149.44,270.029 \n",
       "  2151.49,270.196 2153.55,270.37 2155.6,270.551 2157.66,270.74 2159.71,270.936 2161.77,271.141 2163.82,271.354 2165.88,271.577 2167.93,271.809 2169.99,272.051 \n",
       "  2172.04,272.303 2174.1,272.567 2176.15,272.843 2178.21,273.131 2180.26,273.433 2182.32,273.749 2184.37,274.079 2186.43,274.426 2188.48,274.789 2190.54,275.17 \n",
       "  2192.59,275.571 2194.65,275.992 2196.7,276.434 2198.76,276.901 2200.81,277.392 2202.87,277.91 2204.92,278.457 2206.98,279.035 2209.03,279.647 2211.09,280.295 \n",
       "  2213.14,280.983 2215.2,281.713 2217.25,282.489 2219.31,283.316 2221.36,284.198 2223.42,285.141 2225.47,286.149 2227.53,287.23 2229.58,288.391 2231.64,289.641 \n",
       "  2233.69,290.989 2235.75,292.446 2237.8,294.025 2239.86,295.742 2241.91,297.612 2243.97,299.656 2246.02,301.898 2248.08,304.366 2250.13,307.094 2252.19,310.12 \n",
       "  2254.24,313.494 2256.3,317.275 2258.35,321.537 2260.41,326.372 2262.46,331.895 2264.52,338.255 2266.57,345.647 2268.63,354.329 2270.68,364.65 2272.74,377.099 \n",
       "  2274.79,392.371 2276.85,411.498 2278.9,436.079 2280.96,468.717 2283.01,513.964 2285.07,580.549 2287.12,687.577 2289.18,886.593 2291.23,1384.24 \n",
       "  \"/>\n",
       "<polyline clip-path=\"url(#clip672)\" style=\"stroke:#ff0000; stroke-linecap:round; stroke-linejoin:round; stroke-width:4; stroke-opacity:1; fill:none\" points=\"\n",
       "  240.392,373.158 242.447,372.432 244.502,371.709 246.557,370.988 248.612,370.27 250.667,369.554 252.721,368.841 254.776,368.131 256.831,367.422 258.886,366.716 \n",
       "  260.941,366.013 262.996,365.312 265.051,364.614 267.106,363.918 269.161,363.224 271.216,362.532 273.271,361.844 275.326,361.157 277.381,360.473 279.436,359.791 \n",
       "  281.491,359.111 283.546,358.434 285.601,357.759 287.656,357.086 289.711,356.415 291.766,355.747 293.82,355.081 295.875,354.417 297.93,353.756 299.985,353.096 \n",
       "  302.04,352.439 304.095,351.784 306.15,351.132 308.205,350.481 310.26,349.833 312.315,349.186 314.37,348.542 316.425,347.9 318.48,347.26 320.535,346.622 \n",
       "  322.59,345.987 324.645,345.353 326.7,344.721 328.755,344.092 330.81,343.464 332.864,342.839 334.919,342.216 336.974,341.594 339.029,340.975 341.084,340.358 \n",
       "  343.139,339.742 345.194,339.129 347.249,338.518 349.304,337.908 351.359,337.301 353.414,336.695 355.469,336.092 357.524,335.49 359.579,334.89 361.634,334.292 \n",
       "  363.689,333.697 365.744,333.103 367.799,332.51 369.854,331.92 371.909,331.332 373.963,330.745 376.018,330.161 378.073,329.578 380.128,328.997 382.183,328.418 \n",
       "  384.238,327.84 386.293,327.265 388.348,326.691 390.403,326.119 392.458,325.549 394.513,324.98 396.568,324.414 398.623,323.849 400.678,323.286 402.733,322.724 \n",
       "  404.788,322.165 406.843,321.607 408.898,321.051 410.953,320.496 413.008,319.944 415.062,319.393 417.117,318.843 419.172,318.296 421.227,317.75 423.282,317.205 \n",
       "  425.337,316.663 427.392,316.122 429.447,315.582 431.502,315.045 433.557,314.508 435.612,313.974 437.667,313.441 439.722,312.91 441.777,312.38 443.832,311.852 \n",
       "  445.887,311.326 447.942,310.801 449.997,310.278 452.052,309.756 454.106,309.236 456.161,308.718 458.216,308.201 460.271,307.685 462.326,307.172 464.381,306.659 \n",
       "  466.436,306.148 468.491,305.639 470.546,305.131 472.601,304.625 474.656,304.12 476.711,303.617 478.766,303.115 480.821,302.615 482.876,302.116 484.931,301.619 \n",
       "  486.986,301.123 489.041,300.629 491.096,300.136 493.151,299.644 495.205,299.154 497.26,298.666 499.315,298.179 501.37,297.693 503.425,297.209 505.48,296.726 \n",
       "  507.535,296.244 509.59,295.764 511.645,295.286 513.7,294.809 515.755,294.333 517.81,293.858 519.865,293.385 521.92,292.913 523.975,292.443 526.03,291.974 \n",
       "  528.085,291.506 530.14,291.04 532.195,290.575 534.249,290.112 536.304,289.65 538.359,289.189 540.414,288.729 542.469,288.271 544.524,287.814 546.579,287.358 \n",
       "  548.634,286.904 550.689,286.451 552.744,285.999 554.799,285.549 556.854,285.1 558.909,284.652 560.964,284.205 563.019,283.76 565.074,283.316 567.129,282.873 \n",
       "  569.184,282.432 571.239,281.992 573.294,281.553 575.348,281.115 577.403,280.679 579.458,280.243 581.513,279.809 583.568,279.377 585.623,278.945 587.678,278.515 \n",
       "  589.733,278.086 591.788,277.658 593.843,277.231 595.898,276.806 597.953,276.381 600.008,275.958 602.063,275.537 604.118,275.116 606.173,274.696 608.228,274.278 \n",
       "  610.283,273.861 612.338,273.445 614.392,273.03 616.447,272.616 618.502,272.204 620.557,271.793 622.612,271.383 624.667,270.973 626.722,270.566 628.777,270.159 \n",
       "  630.832,269.753 632.887,269.349 634.942,268.945 636.997,268.543 639.052,268.142 641.107,267.742 643.162,267.343 645.217,266.946 647.272,266.549 649.327,266.153 \n",
       "  651.382,265.759 653.437,265.366 655.491,264.973 657.546,264.582 659.601,264.192 661.656,263.803 663.711,263.415 665.766,263.028 667.821,262.642 669.876,262.258 \n",
       "  671.931,261.874 673.986,261.491 676.041,261.11 678.096,260.729 680.151,260.35 682.206,259.972 684.261,259.594 686.316,259.218 688.371,258.843 690.426,258.469 \n",
       "  692.481,258.095 694.535,257.723 696.59,257.352 698.645,256.982 700.7,256.613 702.755,256.245 704.81,255.878 706.865,255.512 708.92,255.146 710.975,254.782 \n",
       "  713.03,254.419 715.085,254.057 717.14,253.696 719.195,253.336 721.25,252.977 723.305,252.619 725.36,252.262 727.415,251.905 729.47,251.55 731.525,251.196 \n",
       "  733.58,250.843 735.634,250.491 737.689,250.139 739.744,249.789 741.799,249.439 743.854,249.091 745.909,248.744 747.964,248.397 750.019,248.051 752.074,247.707 \n",
       "  754.129,247.363 756.184,247.02 758.239,246.678 760.294,246.337 762.349,245.997 764.404,245.658 766.459,245.32 768.514,244.983 770.569,244.647 772.624,244.311 \n",
       "  774.678,243.977 776.733,243.643 778.788,243.311 780.843,242.979 782.898,242.648 784.953,242.318 787.008,241.989 789.063,241.661 791.118,241.334 793.173,241.008 \n",
       "  795.228,240.682 797.283,240.358 799.338,240.034 801.393,239.711 803.448,239.389 805.503,239.068 807.558,238.748 809.613,238.429 811.668,238.11 813.723,237.793 \n",
       "  815.777,237.476 817.832,237.16 819.887,236.845 821.942,236.531 823.997,236.218 826.052,235.905 828.107,235.594 830.162,235.283 832.217,234.973 834.272,234.664 \n",
       "  836.327,234.356 838.382,234.048 840.437,233.742 842.492,233.436 844.547,233.131 846.602,232.827 848.657,232.524 850.712,232.222 852.767,231.92 854.822,231.62 \n",
       "  856.876,231.32 858.931,231.021 860.986,230.722 863.041,230.425 865.096,230.128 867.151,229.833 869.206,229.538 871.261,229.243 873.316,228.95 875.371,228.657 \n",
       "  877.426,228.366 879.481,228.075 881.536,227.784 883.591,227.495 885.646,227.206 887.701,226.919 889.756,226.631 891.811,226.345 893.866,226.06 895.92,225.775 \n",
       "  897.975,225.491 900.03,225.208 902.085,224.926 904.14,224.644 906.195,224.363 908.25,224.083 910.305,223.804 912.36,223.526 914.415,223.248 916.47,222.971 \n",
       "  918.525,222.695 920.58,222.419 922.635,222.145 924.69,221.871 926.745,221.597 928.8,221.325 930.855,221.053 932.91,220.782 934.965,220.512 937.019,220.243 \n",
       "  939.074,219.974 941.129,219.706 943.184,219.439 945.239,219.173 947.294,218.907 949.349,218.642 951.404,218.378 953.459,218.114 955.514,217.852 957.569,217.589 \n",
       "  959.624,217.328 961.679,217.068 963.734,216.808 965.789,216.549 967.844,216.29 969.899,216.033 971.954,215.776 974.009,215.519 976.063,215.264 978.118,215.009 \n",
       "  980.173,214.755 982.228,214.501 984.283,214.249 986.338,213.997 988.393,213.746 990.448,213.495 992.503,213.245 994.558,212.996 996.613,212.748 998.668,212.5 \n",
       "  1000.72,212.253 1002.78,212.006 1004.83,211.761 1006.89,211.516 1008.94,211.272 1011,211.028 1013.05,210.785 1015.11,210.543 1017.16,210.301 1019.22,210.061 \n",
       "  1021.27,209.82 1023.33,209.581 1025.38,209.342 1027.44,209.104 1029.49,208.867 1031.55,208.63 1033.6,208.394 1035.66,208.159 1037.71,207.924 1039.77,207.69 \n",
       "  1041.82,207.457 1043.88,207.224 1045.93,206.992 1047.99,206.761 1050.04,206.53 1052.1,206.3 1054.15,206.071 1056.21,205.842 1058.26,205.614 1060.32,205.387 \n",
       "  1062.37,205.16 1064.43,204.934 1066.48,204.708 1068.54,204.484 1070.59,204.26 1072.65,204.036 1074.7,203.813 1076.76,203.591 1078.81,203.37 1080.87,203.149 \n",
       "  1082.92,202.929 1084.98,202.709 1087.03,202.491 1089.09,202.272 1091.14,202.055 1093.2,201.838 1095.25,201.622 1097.31,201.406 1099.36,201.191 1101.42,200.977 \n",
       "  1103.47,200.763 1105.53,200.55 1107.58,200.337 1109.64,200.126 1111.69,199.914 1113.75,199.704 1115.8,199.494 1117.85,199.285 1119.91,199.076 1121.96,198.868 \n",
       "  1124.02,198.661 1126.07,198.454 1128.13,198.248 1130.18,198.042 1132.24,197.837 1134.29,197.633 1136.35,197.43 1138.4,197.227 1140.46,197.024 1142.51,196.822 \n",
       "  1144.57,196.621 1146.62,196.421 1148.68,196.221 1150.73,196.022 1152.79,195.823 1154.84,195.625 1156.9,195.427 1158.95,195.231 1161.01,195.034 1163.06,194.839 \n",
       "  1165.12,194.644 1167.17,194.449 1169.23,194.256 1171.28,194.062 1173.34,193.87 1175.39,193.678 1177.45,193.487 1179.5,193.296 1181.56,193.106 1183.61,192.916 \n",
       "  1185.67,192.727 1187.72,192.539 1189.78,192.351 1191.83,192.164 1193.89,191.978 1195.94,191.792 1198,191.606 1200.05,191.422 1202.11,191.237 1204.16,191.054 \n",
       "  1206.22,190.871 1208.27,190.689 1210.33,190.507 1212.38,190.326 1214.44,190.145 1216.49,189.965 1218.55,189.786 1220.6,189.607 1222.66,189.429 1224.71,189.251 \n",
       "  1226.77,189.074 1228.82,188.898 1230.88,188.722 1232.93,188.547 1234.99,188.372 1237.04,188.198 1239.1,188.025 1241.15,187.852 1243.21,187.679 1245.26,187.508 \n",
       "  1247.32,187.337 1249.37,187.166 1251.43,186.996 1253.48,186.827 1255.54,186.658 1257.59,186.49 1259.65,186.322 1261.7,186.155 1263.76,185.988 1265.81,185.823 \n",
       "  1267.87,185.657 1269.92,185.492 1271.98,185.328 1274.03,185.165 1276.09,185.002 1278.14,184.839 1280.2,184.677 1282.25,184.516 1284.31,184.355 1286.36,184.195 \n",
       "  1288.42,184.036 1290.47,183.877 1292.53,183.718 1294.58,183.56 1296.64,183.403 1298.69,183.246 1300.75,183.09 1302.8,182.935 1304.86,182.78 1306.91,182.625 \n",
       "  1308.97,182.472 1311.02,182.318 1313.08,182.166 1315.13,182.013 1317.18,181.862 1319.24,181.711 1321.29,181.56 1323.35,181.411 1325.4,181.261 1327.46,181.113 \n",
       "  1329.51,180.964 1331.57,180.817 1333.62,180.67 1335.68,180.523 1337.73,180.377 1339.79,180.232 1341.84,180.087 1343.9,179.943 1345.95,179.8 1348.01,179.657 \n",
       "  1350.06,179.514 1352.12,179.372 1354.17,179.231 1356.23,179.09 1358.28,178.95 1360.34,178.81 1362.39,178.671 1364.45,178.532 1366.5,178.394 1368.56,178.257 \n",
       "  1370.61,178.12 1372.67,177.984 1374.72,177.848 1376.78,177.713 1378.83,177.578 1380.89,177.444 1382.94,177.311 1385,177.178 1387.05,177.045 1389.11,176.914 \n",
       "  1391.16,176.782 1393.22,176.652 1395.27,176.522 1397.33,176.392 1399.38,176.263 1401.44,176.135 1403.49,176.007 1405.55,175.879 1407.6,175.753 1409.66,175.627 \n",
       "  1411.71,175.501 1413.77,175.376 1415.82,175.251 1417.88,175.127 1419.93,175.004 1421.99,174.881 1424.04,174.759 1426.1,174.637 1428.15,174.516 1430.21,174.396 \n",
       "  1432.26,174.275 1434.32,174.156 1436.37,174.037 1438.43,173.919 1440.48,173.801 1442.54,173.684 1444.59,173.567 1446.65,173.451 1448.7,173.336 1450.76,173.221 \n",
       "  1452.81,173.106 1454.87,172.992 1456.92,172.879 1458.98,172.766 1461.03,172.654 1463.09,172.543 1465.14,172.432 1467.2,172.321 1469.25,172.211 1471.31,172.102 \n",
       "  1473.36,171.993 1475.42,171.885 1477.47,171.777 1479.53,171.67 1481.58,171.564 1483.64,171.458 1485.69,171.352 1487.75,171.248 1489.8,171.143 1491.86,171.04 \n",
       "  1493.91,170.936 1495.97,170.834 1498.02,170.732 1500.08,170.631 1502.13,170.53 1504.19,170.429 1506.24,170.33 1508.3,170.231 1510.35,170.132 1512.41,170.034 \n",
       "  1514.46,169.936 1516.52,169.84 1518.57,169.743 1520.62,169.648 1522.68,169.552 1524.73,169.458 1526.79,169.364 1528.84,169.27 1530.9,169.177 1532.95,169.085 \n",
       "  1535.01,168.993 1537.06,168.902 1539.12,168.812 1541.17,168.722 1543.23,168.632 1545.28,168.543 1547.34,168.455 1549.39,168.367 1551.45,168.28 1553.5,168.194 \n",
       "  1555.56,168.108 1557.61,168.022 1559.67,167.937 1561.72,167.853 1563.78,167.77 1565.83,167.687 1567.89,167.604 1569.94,167.522 1572,167.441 1574.05,167.36 \n",
       "  1576.11,167.28 1578.16,167.2 1580.22,167.121 1582.27,167.043 1584.33,166.965 1586.38,166.888 1588.44,166.811 1590.49,166.735 1592.55,166.66 1594.6,166.585 \n",
       "  1596.66,166.511 1598.71,166.437 1600.77,166.364 1602.82,166.291 1604.88,166.219 1606.93,166.148 1608.99,166.077 1611.04,166.007 1613.1,165.938 1615.15,165.869 \n",
       "  1617.21,165.8 1619.26,165.733 1621.32,165.665 1623.37,165.599 1625.43,165.533 1627.48,165.468 1629.54,165.403 1631.59,165.339 1633.65,165.275 1635.7,165.212 \n",
       "  1637.76,165.15 1639.81,165.088 1641.87,165.027 1643.92,164.967 1645.98,164.907 1648.03,164.848 1650.09,164.789 1652.14,164.731 1654.2,164.674 1656.25,164.617 \n",
       "  1658.31,164.561 1660.36,164.505 1662.42,164.45 1664.47,164.396 1666.53,164.342 1668.58,164.289 1670.64,164.237 1672.69,164.185 1674.75,164.134 1676.8,164.084 \n",
       "  1678.86,164.034 1680.91,163.984 1682.97,163.936 1685.02,163.888 1687.08,163.84 1689.13,163.794 1691.19,163.747 1693.24,163.702 1695.3,163.657 1697.35,163.613 \n",
       "  1699.41,163.569 1701.46,163.527 1703.52,163.484 1705.57,163.443 1707.63,163.402 1709.68,163.362 1711.74,163.322 1713.79,163.283 1715.85,163.245 1717.9,163.207 \n",
       "  1719.95,163.17 1722.01,163.134 1724.06,163.098 1726.12,163.063 1728.17,163.028 1730.23,162.995 1732.28,162.962 1734.34,162.929 1736.39,162.898 1738.45,162.867 \n",
       "  1740.5,162.836 1742.56,162.807 1744.61,162.778 1746.67,162.749 1748.72,162.722 1750.78,162.695 1752.83,162.669 1754.89,162.643 1756.94,162.618 1759,162.594 \n",
       "  1761.05,162.571 1763.11,162.548 1765.16,162.526 1767.22,162.504 1769.27,162.484 1771.33,162.464 1773.38,162.445 1775.44,162.426 1777.49,162.408 1779.55,162.391 \n",
       "  1781.6,162.375 1783.66,162.359 1785.71,162.344 1787.77,162.33 1789.82,162.316 1791.88,162.304 1793.93,162.292 1795.99,162.28 1798.04,162.27 1800.1,162.26 \n",
       "  1802.15,162.251 1804.21,162.242 1806.26,162.235 1808.32,162.228 1810.37,162.222 1812.43,162.217 1814.48,162.212 1816.54,162.208 1818.59,162.205 1820.65,162.203 \n",
       "  1822.7,162.201 1824.76,162.201 1826.81,162.201 1828.87,162.202 1830.92,162.203 1832.98,162.206 1835.03,162.209 1837.09,162.213 1839.14,162.218 1841.2,162.223 \n",
       "  1843.25,162.23 1845.31,162.237 1847.36,162.245 1849.42,162.254 1851.47,162.263 1853.53,162.274 1855.58,162.285 1857.64,162.297 1859.69,162.31 1861.75,162.324 \n",
       "  1863.8,162.338 1865.86,162.354 1867.91,162.37 1869.97,162.387 1872.02,162.405 1874.08,162.424 1876.13,162.444 1878.19,162.465 1880.24,162.486 1882.3,162.509 \n",
       "  1884.35,162.532 1886.41,162.556 1888.46,162.581 1890.52,162.607 1892.57,162.634 1894.63,162.662 1896.68,162.691 1898.74,162.72 1900.79,162.751 1902.85,162.783 \n",
       "  1904.9,162.815 1906.96,162.848 1909.01,162.883 1911.07,162.918 1913.12,162.954 1915.18,162.992 1917.23,163.03 1919.28,163.069 1921.34,163.109 1923.39,163.15 \n",
       "  1925.45,163.193 1927.5,163.236 1929.56,163.28 1931.61,163.325 1933.67,163.372 1935.72,163.419 1937.78,163.467 1939.83,163.517 1941.89,163.567 1943.94,163.619 \n",
       "  1946,163.672 1948.05,163.725 1950.11,163.78 1952.16,163.836 1954.22,163.893 1956.27,163.952 1958.33,164.011 1960.38,164.071 1962.44,164.133 1964.49,164.196 \n",
       "  1966.55,164.26 1968.6,164.325 1970.66,164.392 1972.71,164.459 1974.77,164.528 1976.82,164.598 1978.88,164.669 1980.93,164.742 1982.99,164.816 1985.04,164.891 \n",
       "  1987.1,164.967 1989.15,165.045 1991.21,165.124 1993.26,165.205 1995.32,165.287 1997.37,165.37 1999.43,165.454 2001.48,165.54 2003.54,165.628 2005.59,165.717 \n",
       "  2007.65,165.807 2009.7,165.899 2011.76,165.992 2013.81,166.087 2015.87,166.183 2017.92,166.281 2019.98,166.381 2022.03,166.482 2024.09,166.584 2026.14,166.689 \n",
       "  2028.2,166.795 2030.25,166.902 2032.31,167.012 2034.36,167.123 2036.42,167.236 2038.47,167.351 2040.53,167.468 2042.58,167.586 2044.64,167.706 2046.69,167.829 \n",
       "  2048.75,167.953 2050.8,168.079 2052.86,168.208 2054.91,168.338 2056.97,168.47 2059.02,168.605 2061.08,168.742 2063.13,168.881 2065.19,169.022 2067.24,169.166 \n",
       "  2069.3,169.312 2071.35,169.46 2073.41,169.611 2075.46,169.764 2077.52,169.92 2079.57,170.079 2081.63,170.24 2083.68,170.404 2085.74,170.571 2087.79,170.741 \n",
       "  2089.85,170.914 2091.9,171.09 2093.96,171.269 2096.01,171.451 2098.07,171.636 2100.12,171.825 2102.18,172.017 2104.23,172.213 2106.29,172.412 2108.34,172.615 \n",
       "  2110.4,172.822 2112.45,173.033 2114.51,173.249 2116.56,173.468 2118.62,173.692 2120.67,173.92 2122.72,174.153 2124.78,174.391 2126.83,174.634 2128.89,174.882 \n",
       "  2130.94,175.135 2133,175.394 2135.05,175.658 2137.11,175.928 2139.16,176.205 2141.22,176.488 2143.27,176.778 2145.33,177.074 2147.38,177.378 2149.44,177.689 \n",
       "  2151.49,178.008 2153.55,178.336 2155.6,178.671 2157.66,179.016 2159.71,179.37 2161.77,179.734 2163.82,180.107 2165.88,180.492 2167.93,180.888 2169.99,181.295 \n",
       "  2172.04,181.715 2174.1,182.148 2176.15,182.595 2178.21,183.056 2180.26,183.533 2182.32,184.025 2184.37,184.535 2186.43,185.062 2188.48,185.609 2190.54,186.177 \n",
       "  2192.59,186.766 2194.65,187.378 2196.7,188.014 2198.76,188.677 2200.81,189.367 2202.87,190.088 2204.92,190.841 2206.98,191.628 2209.03,192.453 2211.09,193.318 \n",
       "  2213.14,194.226 2215.2,195.18 2217.25,196.186 2219.31,197.246 2221.36,198.367 2223.42,199.553 2225.47,200.811 2227.53,202.147 2229.58,203.57 2231.64,205.088 \n",
       "  2233.69,206.712 2235.75,208.454 2237.8,210.326 2239.86,212.345 2241.91,214.528 2243.97,216.897 2246.02,219.476 2248.08,222.295 2250.13,225.389 2252.19,228.799 \n",
       "  2254.24,232.577 2256.3,236.785 2258.35,241.499 2260.41,246.816 2262.46,252.856 2264.52,259.775 2266.57,267.776 2268.63,277.127 2270.68,288.193 2272.74,301.48 \n",
       "  2274.79,317.712 2276.85,337.96 2278.9,363.881 2280.96,398.172 2283.01,445.539 2285.07,514.99 2287.12,626.195 2289.18,832.018 2291.23,1343.14 \n",
       "  \"/>\n",
       "<polyline clip-path=\"url(#clip672)\" style=\"stroke:#008000; stroke-linecap:round; stroke-linejoin:round; stroke-width:4; stroke-opacity:1; fill:none\" points=\"\n",
       "  240.392,492.181 242.447,491.515 244.502,490.852 246.557,490.19 248.612,489.531 250.667,488.874 252.721,488.219 254.776,487.566 256.831,486.915 258.886,486.265 \n",
       "  260.941,485.618 262.996,484.973 265.051,484.33 267.106,483.689 269.161,483.05 271.216,482.413 273.271,481.778 275.326,481.144 277.381,480.513 279.436,479.883 \n",
       "  281.491,479.256 283.546,478.63 285.601,478.006 287.656,477.384 289.711,476.764 291.766,476.146 293.82,475.53 295.875,474.915 297.93,474.303 299.985,473.692 \n",
       "  302.04,473.083 304.095,472.476 306.15,471.87 308.205,471.267 310.26,470.665 312.315,470.065 314.37,469.467 316.425,468.87 318.48,468.275 320.535,467.682 \n",
       "  322.59,467.091 324.645,466.501 326.7,465.913 328.755,465.327 330.81,464.743 332.864,464.16 334.919,463.579 336.974,462.999 339.029,462.422 341.084,461.846 \n",
       "  343.139,461.271 345.194,460.698 347.249,460.127 349.304,459.558 351.359,458.99 353.414,458.423 355.469,457.859 357.524,457.296 359.579,456.734 361.634,456.174 \n",
       "  363.689,455.616 365.744,455.059 367.799,454.504 369.854,453.95 371.909,453.398 373.963,452.848 376.018,452.299 378.073,451.751 380.128,451.205 382.183,450.661 \n",
       "  384.238,450.118 386.293,449.576 388.348,449.037 390.403,448.498 392.458,447.961 394.513,447.426 396.568,446.892 398.623,446.359 400.678,445.828 402.733,445.298 \n",
       "  404.788,444.77 406.843,444.244 408.898,443.718 410.953,443.194 413.008,442.672 415.062,442.151 417.117,441.631 419.172,441.113 421.227,440.596 423.282,440.081 \n",
       "  425.337,439.567 427.392,439.054 429.447,438.543 431.502,438.033 433.557,437.524 435.612,437.017 437.667,436.511 439.722,436.007 441.777,435.503 443.832,435.001 \n",
       "  445.887,434.501 447.942,434.002 449.997,433.504 452.052,433.007 454.106,432.512 456.161,432.018 458.216,431.525 460.271,431.034 462.326,430.544 464.381,430.055 \n",
       "  466.436,429.568 468.491,429.081 470.546,428.596 472.601,428.113 474.656,427.63 476.711,427.149 478.766,426.669 480.821,426.19 482.876,425.713 484.931,425.237 \n",
       "  486.986,424.761 489.041,424.288 491.096,423.815 493.151,423.344 495.205,422.873 497.26,422.404 499.315,421.937 501.37,421.47 503.425,421.005 505.48,420.54 \n",
       "  507.535,420.077 509.59,419.616 511.645,419.155 513.7,418.695 515.755,418.237 517.81,417.78 519.865,417.324 521.92,416.869 523.975,416.415 526.03,415.962 \n",
       "  528.085,415.511 530.14,415.06 532.195,414.611 534.249,414.163 536.304,413.716 538.359,413.27 540.414,412.825 542.469,412.381 544.524,411.939 546.579,411.497 \n",
       "  548.634,411.057 550.689,410.618 552.744,410.179 554.799,409.742 556.854,409.306 558.909,408.871 560.964,408.437 563.019,408.004 565.074,407.572 567.129,407.142 \n",
       "  569.184,406.712 571.239,406.283 573.294,405.856 575.348,405.429 577.403,405.004 579.458,404.579 581.513,404.156 583.568,403.733 585.623,403.312 587.678,402.891 \n",
       "  589.733,402.472 591.788,402.053 593.843,401.636 595.898,401.22 597.953,400.804 600.008,400.39 602.063,399.977 604.118,399.564 606.173,399.153 608.228,398.742 \n",
       "  610.283,398.333 612.338,397.924 614.392,397.517 616.447,397.11 618.502,396.705 620.557,396.3 622.612,395.897 624.667,395.494 626.722,395.092 628.777,394.691 \n",
       "  630.832,394.291 632.887,393.893 634.942,393.495 636.997,393.098 639.052,392.701 641.107,392.306 643.162,391.912 645.217,391.519 647.272,391.126 649.327,390.735 \n",
       "  651.382,390.344 653.437,389.955 655.491,389.566 657.546,389.178 659.601,388.791 661.656,388.405 663.711,388.02 665.766,387.636 667.821,387.252 669.876,386.87 \n",
       "  671.931,386.488 673.986,386.107 676.041,385.728 678.096,385.349 680.151,384.971 682.206,384.593 684.261,384.217 686.316,383.841 688.371,383.467 690.426,383.093 \n",
       "  692.481,382.72 694.535,382.348 696.59,381.977 698.645,381.606 700.7,381.237 702.755,380.868 704.81,380.5 706.865,380.133 708.92,379.767 710.975,379.402 \n",
       "  713.03,379.037 715.085,378.674 717.14,378.311 719.195,377.949 721.25,377.587 723.305,377.227 725.36,376.867 727.415,376.508 729.47,376.15 731.525,375.793 \n",
       "  733.58,375.437 735.634,375.081 737.689,374.726 739.744,374.372 741.799,374.019 743.854,373.667 745.909,373.315 747.964,372.964 750.019,372.614 752.074,372.265 \n",
       "  754.129,371.916 756.184,371.569 758.239,371.222 760.294,370.875 762.349,370.53 764.404,370.185 766.459,369.841 768.514,369.498 770.569,369.156 772.624,368.814 \n",
       "  774.678,368.473 776.733,368.133 778.788,367.794 780.843,367.455 782.898,367.117 784.953,366.78 787.008,366.444 789.063,366.108 791.118,365.773 793.173,365.439 \n",
       "  795.228,365.106 797.283,364.773 799.338,364.441 801.393,364.11 803.448,363.779 805.503,363.449 807.558,363.12 809.613,362.792 811.668,362.464 813.723,362.137 \n",
       "  815.777,361.811 817.832,361.485 819.887,361.16 821.942,360.836 823.997,360.513 826.052,360.19 828.107,359.868 830.162,359.547 832.217,359.226 834.272,358.906 \n",
       "  836.327,358.587 838.382,358.268 840.437,357.95 842.492,357.633 844.547,357.316 846.602,357.001 848.657,356.685 850.712,356.371 852.767,356.057 854.822,355.744 \n",
       "  856.876,355.431 858.931,355.12 860.986,354.808 863.041,354.498 865.096,354.188 867.151,353.879 869.206,353.571 871.261,353.263 873.316,352.956 875.371,352.649 \n",
       "  877.426,352.343 879.481,352.038 881.536,351.733 883.591,351.429 885.646,351.126 887.701,350.824 889.756,350.522 891.811,350.22 893.866,349.92 895.92,349.619 \n",
       "  897.975,349.32 900.03,349.021 902.085,348.723 904.14,348.426 906.195,348.129 908.25,347.832 910.305,347.537 912.36,347.242 914.415,346.947 916.47,346.653 \n",
       "  918.525,346.36 920.58,346.068 922.635,345.776 924.69,345.485 926.745,345.194 928.8,344.904 930.855,344.614 932.91,344.325 934.965,344.037 937.019,343.749 \n",
       "  939.074,343.462 941.129,343.176 943.184,342.89 945.239,342.605 947.294,342.32 949.349,342.036 951.404,341.753 953.459,341.47 955.514,341.187 957.569,340.906 \n",
       "  959.624,340.625 961.679,340.344 963.734,340.064 965.789,339.785 967.844,339.506 969.899,339.228 971.954,338.95 974.009,338.673 976.063,338.397 978.118,338.121 \n",
       "  980.173,337.846 982.228,337.571 984.283,337.297 986.338,337.023 988.393,336.75 990.448,336.478 992.503,336.206 994.558,335.935 996.613,335.664 998.668,335.394 \n",
       "  1000.72,335.124 1002.78,334.855 1004.83,334.586 1006.89,334.318 1008.94,334.051 1011,333.784 1013.05,333.518 1015.11,333.252 1017.16,332.987 1019.22,332.722 \n",
       "  1021.27,332.458 1023.33,332.195 1025.38,331.932 1027.44,331.669 1029.49,331.407 1031.55,331.146 1033.6,330.885 1035.66,330.625 1037.71,330.365 1039.77,330.106 \n",
       "  1041.82,329.847 1043.88,329.589 1045.93,329.332 1047.99,329.074 1050.04,328.818 1052.1,328.562 1054.15,328.306 1056.21,328.052 1058.26,327.797 1060.32,327.543 \n",
       "  1062.37,327.29 1064.43,327.037 1066.48,326.785 1068.54,326.533 1070.59,326.282 1072.65,326.031 1074.7,325.781 1076.76,325.531 1078.81,325.282 1080.87,325.033 \n",
       "  1082.92,324.785 1084.98,324.537 1087.03,324.29 1089.09,324.043 1091.14,323.797 1093.2,323.551 1095.25,323.306 1097.31,323.062 1099.36,322.817 1101.42,322.574 \n",
       "  1103.47,322.331 1105.53,322.088 1107.58,321.846 1109.64,321.604 1111.69,321.363 1113.75,321.123 1115.8,320.883 1117.85,320.643 1119.91,320.404 1121.96,320.165 \n",
       "  1124.02,319.927 1126.07,319.689 1128.13,319.452 1130.18,319.216 1132.24,318.979 1134.29,318.744 1136.35,318.509 1138.4,318.274 1140.46,318.04 1142.51,317.806 \n",
       "  1144.57,317.573 1146.62,317.34 1148.68,317.108 1150.73,316.876 1152.79,316.644 1154.84,316.414 1156.9,316.183 1158.95,315.953 1161.01,315.724 1163.06,315.495 \n",
       "  1165.12,315.266 1167.17,315.038 1169.23,314.811 1171.28,314.584 1173.34,314.357 1175.39,314.131 1177.45,313.906 1179.5,313.68 1181.56,313.456 1183.61,313.231 \n",
       "  1185.67,313.008 1187.72,312.784 1189.78,312.561 1191.83,312.339 1193.89,312.117 1195.94,311.896 1198,311.675 1200.05,311.454 1202.11,311.234 1204.16,311.015 \n",
       "  1206.22,310.795 1208.27,310.577 1210.33,310.359 1212.38,310.141 1214.44,309.923 1216.49,309.707 1218.55,309.49 1220.6,309.274 1222.66,309.059 1224.71,308.844 \n",
       "  1226.77,308.629 1228.82,308.415 1230.88,308.201 1232.93,307.988 1234.99,307.775 1237.04,307.563 1239.1,307.351 1241.15,307.139 1243.21,306.928 1245.26,306.718 \n",
       "  1247.32,306.508 1249.37,306.298 1251.43,306.089 1253.48,305.88 1255.54,305.672 1257.59,305.464 1259.65,305.256 1261.7,305.049 1263.76,304.843 1265.81,304.636 \n",
       "  1267.87,304.431 1269.92,304.225 1271.98,304.021 1274.03,303.816 1276.09,303.612 1278.14,303.409 1280.2,303.205 1282.25,303.003 1284.31,302.801 1286.36,302.599 \n",
       "  1288.42,302.397 1290.47,302.196 1292.53,301.996 1294.58,301.796 1296.64,301.596 1298.69,301.397 1300.75,301.198 1302.8,301 1304.86,300.802 1306.91,300.604 \n",
       "  1308.97,300.407 1311.02,300.21 1313.08,300.014 1315.13,299.818 1317.18,299.623 1319.24,299.428 1321.29,299.233 1323.35,299.039 1325.4,298.845 1327.46,298.652 \n",
       "  1329.51,298.459 1331.57,298.267 1333.62,298.075 1335.68,297.883 1337.73,297.692 1339.79,297.501 1341.84,297.311 1343.9,297.121 1345.95,296.931 1348.01,296.742 \n",
       "  1350.06,296.553 1352.12,296.365 1354.17,296.177 1356.23,295.99 1358.28,295.803 1360.34,295.616 1362.39,295.43 1364.45,295.244 1366.5,295.059 1368.56,294.874 \n",
       "  1370.61,294.689 1372.67,294.505 1374.72,294.321 1376.78,294.138 1378.83,293.955 1380.89,293.772 1382.94,293.59 1385,293.408 1387.05,293.227 1389.11,293.046 \n",
       "  1391.16,292.866 1393.22,292.685 1395.27,292.506 1397.33,292.326 1399.38,292.148 1401.44,291.969 1403.49,291.791 1405.55,291.613 1407.6,291.436 1409.66,291.259 \n",
       "  1411.71,291.083 1413.77,290.907 1415.82,290.731 1417.88,290.556 1419.93,290.381 1421.99,290.206 1424.04,290.032 1426.1,289.858 1428.15,289.685 1430.21,289.512 \n",
       "  1432.26,289.34 1434.32,289.168 1436.37,288.996 1438.43,288.825 1440.48,288.654 1442.54,288.483 1444.59,288.313 1446.65,288.143 1448.7,287.974 1450.76,287.805 \n",
       "  1452.81,287.637 1454.87,287.468 1456.92,287.301 1458.98,287.133 1461.03,286.966 1463.09,286.8 1465.14,286.634 1467.2,286.468 1469.25,286.302 1471.31,286.137 \n",
       "  1473.36,285.973 1475.42,285.809 1477.47,285.645 1479.53,285.481 1481.58,285.318 1483.64,285.156 1485.69,284.993 1487.75,284.831 1489.8,284.67 1491.86,284.509 \n",
       "  1493.91,284.348 1495.97,284.188 1498.02,284.028 1500.08,283.868 1502.13,283.709 1504.19,283.55 1506.24,283.392 1508.3,283.234 1510.35,283.076 1512.41,282.919 \n",
       "  1514.46,282.762 1516.52,282.606 1518.57,282.449 1520.62,282.294 1522.68,282.138 1524.73,281.983 1526.79,281.829 1528.84,281.675 1530.9,281.521 1532.95,281.367 \n",
       "  1535.01,281.214 1537.06,281.062 1539.12,280.909 1541.17,280.757 1543.23,280.606 1545.28,280.455 1547.34,280.304 1549.39,280.154 1551.45,280.004 1553.5,279.854 \n",
       "  1555.56,279.705 1557.61,279.556 1559.67,279.407 1561.72,279.259 1563.78,279.112 1565.83,278.964 1567.89,278.817 1569.94,278.671 1572,278.524 1574.05,278.379 \n",
       "  1576.11,278.233 1578.16,278.088 1580.22,277.943 1582.27,277.799 1584.33,277.655 1586.38,277.511 1588.44,277.368 1590.49,277.225 1592.55,277.083 1594.6,276.941 \n",
       "  1596.66,276.799 1598.71,276.658 1600.77,276.517 1602.82,276.376 1604.88,276.236 1606.93,276.096 1608.99,275.956 1611.04,275.817 1613.1,275.679 1615.15,275.54 \n",
       "  1617.21,275.402 1619.26,275.265 1621.32,275.127 1623.37,274.99 1625.43,274.854 1627.48,274.718 1629.54,274.582 1631.59,274.447 1633.65,274.311 1635.7,274.177 \n",
       "  1637.76,274.042 1639.81,273.908 1641.87,273.775 1643.92,273.642 1645.98,273.509 1648.03,273.376 1650.09,273.244 1652.14,273.113 1654.2,272.981 1656.25,272.85 \n",
       "  1658.31,272.719 1660.36,272.589 1662.42,272.459 1664.47,272.33 1666.53,272.2 1668.58,272.072 1670.64,271.943 1672.69,271.815 1674.75,271.687 1676.8,271.56 \n",
       "  1678.86,271.433 1680.91,271.306 1682.97,271.18 1685.02,271.054 1687.08,270.928 1689.13,270.803 1691.19,270.678 1693.24,270.554 1695.3,270.43 1697.35,270.306 \n",
       "  1699.41,270.182 1701.46,270.059 1703.52,269.937 1705.57,269.814 1707.63,269.692 1709.68,269.571 1711.74,269.449 1713.79,269.328 1715.85,269.208 1717.9,269.087 \n",
       "  1719.95,268.968 1722.01,268.848 1724.06,268.729 1726.12,268.61 1728.17,268.491 1730.23,268.373 1732.28,268.256 1734.34,268.138 1736.39,268.021 1738.45,267.904 \n",
       "  1740.5,267.788 1742.56,267.672 1744.61,267.556 1746.67,267.441 1748.72,267.326 1750.78,267.211 1752.83,267.097 1754.89,266.983 1756.94,266.869 1759,266.756 \n",
       "  1761.05,266.643 1763.11,266.53 1765.16,266.418 1767.22,266.306 1769.27,266.194 1771.33,266.083 1773.38,265.972 1775.44,265.862 1777.49,265.751 1779.55,265.641 \n",
       "  1781.6,265.532 1783.66,265.423 1785.71,265.314 1787.77,265.205 1789.82,265.097 1791.88,264.989 1793.93,264.881 1795.99,264.774 1798.04,264.667 1800.1,264.56 \n",
       "  1802.15,264.454 1804.21,264.348 1806.26,264.242 1808.32,264.137 1810.37,264.032 1812.43,263.927 1814.48,263.822 1816.54,263.718 1818.59,263.615 1820.65,263.511 \n",
       "  1822.7,263.408 1824.76,263.305 1826.81,263.202 1828.87,263.1 1830.92,262.998 1832.98,262.897 1835.03,262.795 1837.09,262.694 1839.14,262.593 1841.2,262.493 \n",
       "  1843.25,262.393 1845.31,262.293 1847.36,262.193 1849.42,262.094 1851.47,261.995 1853.53,261.896 1855.58,261.798 1857.64,261.7 1859.69,261.602 1861.75,261.504 \n",
       "  1863.8,261.407 1865.86,261.31 1867.91,261.213 1869.97,261.116 1872.02,261.02 1874.08,260.924 1876.13,260.828 1878.19,260.733 1880.24,260.638 1882.3,260.543 \n",
       "  1884.35,260.448 1886.41,260.354 1888.46,260.259 1890.52,260.165 1892.57,260.072 1894.63,259.978 1896.68,259.885 1898.74,259.792 1900.79,259.699 1902.85,259.607 \n",
       "  1904.9,259.514 1906.96,259.422 1909.01,259.33 1911.07,259.238 1913.12,259.147 1915.18,259.056 1917.23,258.964 1919.28,258.873 1921.34,258.783 1923.39,258.692 \n",
       "  1925.45,258.602 1927.5,258.512 1929.56,258.422 1931.61,258.332 1933.67,258.242 1935.72,258.153 1937.78,258.063 1939.83,257.974 1941.89,257.885 1943.94,257.796 \n",
       "  1946,257.707 1948.05,257.619 1950.11,257.53 1952.16,257.442 1954.22,257.353 1956.27,257.265 1958.33,257.177 1960.38,257.089 1962.44,257.001 1964.49,256.913 \n",
       "  1966.55,256.825 1968.6,256.738 1970.66,256.65 1972.71,256.562 1974.77,256.475 1976.82,256.387 1978.88,256.3 1980.93,256.212 1982.99,256.125 1985.04,256.037 \n",
       "  1987.1,255.95 1989.15,255.862 1991.21,255.775 1993.26,255.687 1995.32,255.6 1997.37,255.512 1999.43,255.424 2001.48,255.336 2003.54,255.249 2005.59,255.161 \n",
       "  2007.65,255.072 2009.7,254.984 2011.76,254.896 2013.81,254.807 2015.87,254.719 2017.92,254.63 2019.98,254.541 2022.03,254.452 2024.09,254.362 2026.14,254.273 \n",
       "  2028.2,254.183 2030.25,254.093 2032.31,254.002 2034.36,253.912 2036.42,253.821 2038.47,253.729 2040.53,253.638 2042.58,253.546 2044.64,253.453 2046.69,253.361 \n",
       "  2048.75,253.267 2050.8,253.174 2052.86,253.08 2054.91,252.985 2056.97,252.89 2059.02,252.795 2061.08,252.698 2063.13,252.602 2065.19,252.504 2067.24,252.406 \n",
       "  2069.3,252.308 2071.35,252.209 2073.41,252.109 2075.46,252.008 2077.52,251.906 2079.57,251.804 2081.63,251.701 2083.68,251.597 2085.74,251.492 2087.79,251.386 \n",
       "  2089.85,251.28 2091.9,251.172 2093.96,251.063 2096.01,250.953 2098.07,250.842 2100.12,250.73 2102.18,250.617 2104.23,250.502 2106.29,250.386 2108.34,250.269 \n",
       "  2110.4,250.15 2112.45,250.029 2114.51,249.908 2116.56,249.784 2118.62,249.659 2120.67,249.533 2122.72,249.404 2124.78,249.274 2126.83,249.142 2128.89,249.007 \n",
       "  2130.94,248.871 2133,248.733 2135.05,248.592 2137.11,248.449 2139.16,248.304 2141.22,248.156 2143.27,248.006 2145.33,247.853 2147.38,247.697 2149.44,247.538 \n",
       "  2151.49,247.376 2153.55,247.212 2155.6,247.043 2157.66,246.872 2159.71,246.697 2161.77,246.518 2163.82,246.335 2165.88,246.149 2167.93,245.958 2169.99,245.763 \n",
       "  2172.04,245.564 2174.1,245.359 2176.15,245.15 2178.21,244.936 2180.26,244.716 2182.32,244.491 2184.37,244.259 2186.43,244.022 2188.48,243.778 2190.54,243.528 \n",
       "  2192.59,243.27 2194.65,243.005 2196.7,242.732 2198.76,242.451 2200.81,242.161 2202.87,241.862 2204.92,241.554 2206.98,241.236 2209.03,240.907 2211.09,240.567 \n",
       "  2213.14,240.215 2215.2,239.85 2217.25,239.472 2219.31,239.08 2221.36,238.672 2223.42,238.249 2225.47,237.809 2227.53,237.35 2229.58,236.872 2231.64,236.373 \n",
       "  2233.69,235.851 2235.75,235.305 2237.8,234.733 2239.86,234.133 2241.91,233.502 2243.97,232.837 2246.02,232.136 2248.08,231.395 2250.13,230.61 2252.19,229.776 \n",
       "  2254.24,228.889 2256.3,227.942 2258.35,226.927 2260.41,225.836 2262.46,224.66 2264.52,223.385 2266.57,221.995 2268.63,220.473 2270.68,218.794 2272.74,216.927 \n",
       "  2274.79,214.832 2276.85,212.452 2278.9,209.709 2280.96,206.491 2283.01,202.618 2285.07,197.793 2287.12,191.458 2289.18,182.358 2291.23,166.487 \n",
       "  \"/>\n",
       "<polyline clip-path=\"url(#clip672)\" style=\"stroke:#800080; stroke-linecap:round; stroke-linejoin:round; stroke-width:4; stroke-opacity:1; fill:none\" points=\"\n",
       "  240.392,369.549 242.447,368.823 244.502,368.099 246.557,367.378 248.612,366.66 250.667,365.944 252.721,365.23 254.776,364.519 256.831,363.811 258.886,363.105 \n",
       "  260.941,362.401 262.996,361.7 265.051,361.001 267.106,360.304 269.161,359.61 271.216,358.919 273.271,358.229 275.326,357.542 277.381,356.858 279.436,356.175 \n",
       "  281.491,355.495 283.546,354.818 285.601,354.142 287.656,353.469 289.711,352.798 291.766,352.13 293.82,351.463 295.875,350.799 297.93,350.137 299.985,349.478 \n",
       "  302.04,348.82 304.095,348.165 306.15,347.511 308.205,346.86 310.26,346.212 312.315,345.565 314.37,344.92 316.425,344.278 318.48,343.637 320.535,342.999 \n",
       "  322.59,342.363 324.645,341.729 326.7,341.097 328.755,340.467 330.81,339.839 332.864,339.213 334.919,338.589 336.974,337.968 339.029,337.348 341.084,336.73 \n",
       "  343.139,336.114 345.194,335.5 347.249,334.888 349.304,334.278 351.359,333.67 353.414,333.064 355.469,332.46 357.524,331.858 359.579,331.258 361.634,330.66 \n",
       "  363.689,330.063 365.744,329.469 367.799,328.876 369.854,328.285 371.909,327.696 373.963,327.109 376.018,326.524 378.073,325.941 380.128,325.359 382.183,324.779 \n",
       "  384.238,324.201 386.293,323.625 388.348,323.051 390.403,322.478 392.458,321.908 394.513,321.339 396.568,320.771 398.623,320.206 400.678,319.642 402.733,319.08 \n",
       "  404.788,318.52 406.843,317.961 408.898,317.405 410.953,316.849 413.008,316.296 415.062,315.744 417.117,315.194 419.172,314.646 421.227,314.099 423.282,313.554 \n",
       "  425.337,313.011 427.392,312.469 429.447,311.929 431.502,311.391 433.557,310.854 435.612,310.319 437.667,309.786 439.722,309.254 441.777,308.723 443.832,308.195 \n",
       "  445.887,307.668 447.942,307.142 449.997,306.618 452.052,306.096 454.106,305.575 456.161,305.056 458.216,304.538 460.271,304.022 462.326,303.507 464.381,302.994 \n",
       "  466.436,302.483 468.491,301.973 470.546,301.464 472.601,300.957 474.656,300.451 476.711,299.947 478.766,299.445 480.821,298.944 482.876,298.444 484.931,297.946 \n",
       "  486.986,297.45 489.041,296.954 491.096,296.461 493.151,295.968 495.205,295.477 497.26,294.988 499.315,294.5 501.37,294.014 503.425,293.528 505.48,293.045 \n",
       "  507.535,292.562 509.59,292.081 511.645,291.602 513.7,291.124 515.755,290.647 517.81,290.172 519.865,289.698 521.92,289.225 523.975,288.754 526.03,288.284 \n",
       "  528.085,287.815 530.14,287.348 532.195,286.882 534.249,286.418 536.304,285.955 538.359,285.493 540.414,285.032 542.469,284.573 544.524,284.115 546.579,283.659 \n",
       "  548.634,283.204 550.689,282.75 552.744,282.297 554.799,281.846 556.854,281.395 558.909,280.947 560.964,280.499 563.019,280.053 565.074,279.608 567.129,279.164 \n",
       "  569.184,278.722 571.239,278.28 573.294,277.84 575.348,277.402 577.403,276.964 579.458,276.528 581.513,276.093 583.568,275.659 585.623,275.227 587.678,274.795 \n",
       "  589.733,274.365 591.788,273.936 593.843,273.508 595.898,273.082 597.953,272.656 600.008,272.232 602.063,271.809 604.118,271.387 606.173,270.967 608.228,270.547 \n",
       "  610.283,270.129 612.338,269.712 614.392,269.296 616.447,268.881 618.502,268.468 620.557,268.055 622.612,267.644 624.667,267.234 626.722,266.825 628.777,266.417 \n",
       "  630.832,266.01 632.887,265.604 634.942,265.2 636.997,264.796 639.052,264.394 641.107,263.993 643.162,263.593 645.217,263.194 647.272,262.796 649.327,262.399 \n",
       "  651.382,262.003 653.437,261.609 655.491,261.215 657.546,260.823 659.601,260.432 661.656,260.041 663.711,259.652 665.766,259.264 667.821,258.877 669.876,258.491 \n",
       "  671.931,258.106 673.986,257.722 676.041,257.339 678.096,256.957 680.151,256.577 682.206,256.197 684.261,255.818 686.316,255.441 688.371,255.064 690.426,254.688 \n",
       "  692.481,254.314 694.535,253.94 696.59,253.568 698.645,253.196 700.7,252.826 702.755,252.456 704.81,252.088 706.865,251.72 708.92,251.354 710.975,250.988 \n",
       "  713.03,250.624 715.085,250.26 717.14,249.898 719.195,249.536 721.25,249.176 723.305,248.816 725.36,248.457 727.415,248.1 729.47,247.743 731.525,247.387 \n",
       "  733.58,247.033 735.634,246.679 737.689,246.326 739.744,245.974 741.799,245.623 743.854,245.273 745.909,244.924 747.964,244.576 750.019,244.229 752.074,243.883 \n",
       "  754.129,243.537 756.184,243.193 758.239,242.85 760.294,242.507 762.349,242.166 764.404,241.825 766.459,241.485 768.514,241.146 770.569,240.808 772.624,240.471 \n",
       "  774.678,240.135 776.733,239.8 778.788,239.466 780.843,239.133 782.898,238.8 784.953,238.468 787.008,238.138 789.063,237.808 791.118,237.479 793.173,237.151 \n",
       "  795.228,236.824 797.283,236.497 799.338,236.172 801.393,235.848 803.448,235.524 805.503,235.201 807.558,234.879 809.613,234.558 811.668,234.238 813.723,233.918 \n",
       "  815.777,233.6 817.832,233.282 819.887,232.966 821.942,232.65 823.997,232.335 826.052,232.02 828.107,231.707 830.162,231.394 832.217,231.083 834.272,230.772 \n",
       "  836.327,230.462 838.382,230.152 840.437,229.844 842.492,229.536 844.547,229.23 846.602,228.924 848.657,228.619 850.712,228.314 852.767,228.011 854.822,227.708 \n",
       "  856.876,227.407 858.931,227.105 860.986,226.805 863.041,226.506 865.096,226.207 867.151,225.909 869.206,225.612 871.261,225.316 873.316,225.021 875.371,224.726 \n",
       "  877.426,224.432 879.481,224.139 881.536,223.847 883.591,223.556 885.646,223.265 887.701,222.975 889.756,222.686 891.811,222.397 893.866,222.11 895.92,221.823 \n",
       "  897.975,221.537 900.03,221.252 902.085,220.967 904.14,220.684 906.195,220.401 908.25,220.118 910.305,219.837 912.36,219.556 914.415,219.276 916.47,218.997 \n",
       "  918.525,218.719 920.58,218.441 922.635,218.164 924.69,217.888 926.745,217.613 928.8,217.338 930.855,217.064 932.91,216.791 934.965,216.518 937.019,216.247 \n",
       "  939.074,215.976 941.129,215.705 943.184,215.436 945.239,215.167 947.294,214.899 949.349,214.632 951.404,214.365 953.459,214.099 955.514,213.834 957.569,213.57 \n",
       "  959.624,213.306 961.679,213.043 963.734,212.78 965.789,212.519 967.844,212.258 969.899,211.998 971.954,211.738 974.009,211.48 976.063,211.222 978.118,210.964 \n",
       "  980.173,210.708 982.228,210.452 984.283,210.197 986.338,209.942 988.393,209.688 990.448,209.435 992.503,209.183 994.558,208.931 996.613,208.68 998.668,208.429 \n",
       "  1000.72,208.18 1002.78,207.931 1004.83,207.682 1006.89,207.435 1008.94,207.188 1011,206.941 1013.05,206.696 1015.11,206.451 1017.16,206.207 1019.22,205.963 \n",
       "  1021.27,205.72 1023.33,205.478 1025.38,205.236 1027.44,204.996 1029.49,204.755 1031.55,204.516 1033.6,204.277 1035.66,204.039 1037.71,203.801 1039.77,203.564 \n",
       "  1041.82,203.328 1043.88,203.092 1045.93,202.858 1047.99,202.623 1050.04,202.39 1052.1,202.157 1054.15,201.924 1056.21,201.693 1058.26,201.462 1060.32,201.231 \n",
       "  1062.37,201.002 1064.43,200.773 1066.48,200.544 1068.54,200.316 1070.59,200.089 1072.65,199.863 1074.7,199.637 1076.76,199.412 1078.81,199.187 1080.87,198.963 \n",
       "  1082.92,198.74 1084.98,198.517 1087.03,198.295 1089.09,198.074 1091.14,197.853 1093.2,197.633 1095.25,197.413 1097.31,197.194 1099.36,196.976 1101.42,196.759 \n",
       "  1103.47,196.542 1105.53,196.325 1107.58,196.109 1109.64,195.894 1111.69,195.68 1113.75,195.466 1115.8,195.252 1117.85,195.04 1119.91,194.828 1121.96,194.616 \n",
       "  1124.02,194.405 1126.07,194.195 1128.13,193.986 1130.18,193.777 1132.24,193.568 1134.29,193.36 1136.35,193.153 1138.4,192.947 1140.46,192.741 1142.51,192.535 \n",
       "  1144.57,192.331 1146.62,192.126 1148.68,191.923 1150.73,191.72 1152.79,191.518 1154.84,191.316 1156.9,191.115 1158.95,190.914 1161.01,190.714 1163.06,190.515 \n",
       "  1165.12,190.316 1167.17,190.118 1169.23,189.92 1171.28,189.723 1173.34,189.527 1175.39,189.331 1177.45,189.136 1179.5,188.941 1181.56,188.747 1183.61,188.553 \n",
       "  1185.67,188.361 1187.72,188.168 1189.78,187.976 1191.83,187.785 1193.89,187.595 1195.94,187.405 1198,187.215 1200.05,187.027 1202.11,186.838 1204.16,186.651 \n",
       "  1206.22,186.464 1208.27,186.277 1210.33,186.091 1212.38,185.906 1214.44,185.721 1216.49,185.537 1218.55,185.353 1220.6,185.17 1222.66,184.987 1224.71,184.806 \n",
       "  1226.77,184.624 1228.82,184.443 1230.88,184.263 1232.93,184.083 1234.99,183.904 1237.04,183.726 1239.1,183.548 1241.15,183.37 1243.21,183.194 1245.26,183.017 \n",
       "  1247.32,182.842 1249.37,182.666 1251.43,182.492 1253.48,182.318 1255.54,182.144 1257.59,181.971 1259.65,181.799 1261.7,181.627 1263.76,181.456 1265.81,181.285 \n",
       "  1267.87,181.115 1269.92,180.946 1271.98,180.777 1274.03,180.608 1276.09,180.44 1278.14,180.273 1280.2,180.106 1282.25,179.94 1284.31,179.774 1286.36,179.609 \n",
       "  1288.42,179.444 1290.47,179.28 1292.53,179.117 1294.58,178.954 1296.64,178.791 1298.69,178.629 1300.75,178.468 1302.8,178.307 1304.86,178.147 1306.91,177.987 \n",
       "  1308.97,177.828 1311.02,177.67 1313.08,177.512 1315.13,177.354 1317.18,177.197 1319.24,177.041 1321.29,176.885 1323.35,176.729 1325.4,176.575 1327.46,176.42 \n",
       "  1329.51,176.267 1331.57,176.113 1333.62,175.961 1335.68,175.809 1337.73,175.657 1339.79,175.506 1341.84,175.355 1343.9,175.205 1345.95,175.056 1348.01,174.907 \n",
       "  1350.06,174.759 1352.12,174.611 1354.17,174.463 1356.23,174.317 1358.28,174.17 1360.34,174.025 1362.39,173.88 1364.45,173.735 1366.5,173.591 1368.56,173.447 \n",
       "  1370.61,173.304 1372.67,173.162 1374.72,173.02 1376.78,172.878 1378.83,172.737 1380.89,172.597 1382.94,172.457 1385,172.317 1387.05,172.179 1389.11,172.04 \n",
       "  1391.16,171.903 1393.22,171.765 1395.27,171.629 1397.33,171.492 1399.38,171.357 1401.44,171.222 1403.49,171.087 1405.55,170.953 1407.6,170.819 1409.66,170.686 \n",
       "  1411.71,170.554 1413.77,170.422 1415.82,170.29 1417.88,170.159 1419.93,170.029 1421.99,169.899 1424.04,169.769 1426.1,169.641 1428.15,169.512 1430.21,169.384 \n",
       "  1432.26,169.257 1434.32,169.13 1436.37,169.004 1438.43,168.878 1440.48,168.753 1442.54,168.628 1444.59,168.504 1446.65,168.38 1448.7,168.257 1450.76,168.135 \n",
       "  1452.81,168.012 1454.87,167.891 1456.92,167.77 1458.98,167.649 1461.03,167.529 1463.09,167.41 1465.14,167.291 1467.2,167.172 1469.25,167.054 1471.31,166.937 \n",
       "  1473.36,166.82 1475.42,166.703 1477.47,166.587 1479.53,166.472 1481.58,166.357 1483.64,166.243 1485.69,166.129 1487.75,166.015 1489.8,165.903 1491.86,165.79 \n",
       "  1493.91,165.679 1495.97,165.567 1498.02,165.457 1500.08,165.346 1502.13,165.237 1504.19,165.127 1506.24,165.019 1508.3,164.91 1510.35,164.803 1512.41,164.696 \n",
       "  1514.46,164.589 1516.52,164.483 1518.57,164.377 1520.62,164.272 1522.68,164.167 1524.73,164.063 1526.79,163.96 1528.84,163.857 1530.9,163.754 1532.95,163.652 \n",
       "  1535.01,163.551 1537.06,163.45 1539.12,163.349 1541.17,163.249 1543.23,163.15 1545.28,163.051 1547.34,162.952 1549.39,162.854 1551.45,162.757 1553.5,162.66 \n",
       "  1555.56,162.564 1557.61,162.468 1559.67,162.372 1561.72,162.277 1563.78,162.183 1565.83,162.089 1567.89,161.996 1569.94,161.903 1572,161.811 1574.05,161.719 \n",
       "  1576.11,161.628 1578.16,161.537 1580.22,161.447 1582.27,161.357 1584.33,161.268 1586.38,161.179 1588.44,161.091 1590.49,161.003 1592.55,160.916 1594.6,160.829 \n",
       "  1596.66,160.743 1598.71,160.658 1600.77,160.573 1602.82,160.488 1604.88,160.404 1606.93,160.32 1608.99,160.237 1611.04,160.155 1613.1,160.073 1615.15,159.991 \n",
       "  1617.21,159.91 1619.26,159.83 1621.32,159.75 1623.37,159.67 1625.43,159.591 1627.48,159.513 1629.54,159.435 1631.59,159.357 1633.65,159.28 1635.7,159.204 \n",
       "  1637.76,159.128 1639.81,159.053 1641.87,158.978 1643.92,158.903 1645.98,158.83 1648.03,158.756 1650.09,158.683 1652.14,158.611 1654.2,158.539 1656.25,158.468 \n",
       "  1658.31,158.397 1660.36,158.327 1662.42,158.257 1664.47,158.188 1666.53,158.119 1668.58,158.051 1670.64,157.984 1672.69,157.916 1674.75,157.85 1676.8,157.784 \n",
       "  1678.86,157.718 1680.91,157.653 1682.97,157.588 1685.02,157.524 1687.08,157.461 1689.13,157.398 1691.19,157.335 1693.24,157.273 1695.3,157.212 1697.35,157.151 \n",
       "  1699.41,157.09 1701.46,157.03 1703.52,156.971 1705.57,156.912 1707.63,156.854 1709.68,156.796 1711.74,156.738 1713.79,156.681 1715.85,156.625 1717.9,156.569 \n",
       "  1719.95,156.514 1722.01,156.459 1724.06,156.405 1726.12,156.351 1728.17,156.298 1730.23,156.245 1732.28,156.193 1734.34,156.141 1736.39,156.09 1738.45,156.039 \n",
       "  1740.5,155.989 1742.56,155.94 1744.61,155.89 1746.67,155.842 1748.72,155.794 1750.78,155.746 1752.83,155.699 1754.89,155.652 1756.94,155.606 1759,155.561 \n",
       "  1761.05,155.516 1763.11,155.471 1765.16,155.427 1767.22,155.384 1769.27,155.341 1771.33,155.299 1773.38,155.257 1775.44,155.215 1777.49,155.174 1779.55,155.134 \n",
       "  1781.6,155.094 1783.66,155.055 1785.71,155.016 1787.77,154.978 1789.82,154.94 1791.88,154.902 1793.93,154.866 1795.99,154.829 1798.04,154.794 1800.1,154.758 \n",
       "  1802.15,154.724 1804.21,154.689 1806.26,154.656 1808.32,154.622 1810.37,154.59 1812.43,154.557 1814.48,154.526 1816.54,154.495 1818.59,154.464 1820.65,154.434 \n",
       "  1822.7,154.404 1824.76,154.375 1826.81,154.346 1828.87,154.318 1830.92,154.291 1832.98,154.263 1835.03,154.237 1837.09,154.211 1839.14,154.185 1841.2,154.16 \n",
       "  1843.25,154.135 1845.31,154.111 1847.36,154.088 1849.42,154.064 1851.47,154.042 1853.53,154.02 1855.58,153.998 1857.64,153.977 1859.69,153.956 1861.75,153.936 \n",
       "  1863.8,153.917 1865.86,153.897 1867.91,153.879 1869.97,153.861 1872.02,153.843 1874.08,153.826 1876.13,153.809 1878.19,153.793 1880.24,153.777 1882.3,153.762 \n",
       "  1884.35,153.747 1886.41,153.733 1888.46,153.719 1890.52,153.705 1892.57,153.693 1894.63,153.68 1896.68,153.668 1898.74,153.657 1900.79,153.646 1902.85,153.635 \n",
       "  1904.9,153.625 1906.96,153.616 1909.01,153.606 1911.07,153.598 1913.12,153.59 1915.18,153.582 1917.23,153.574 1919.28,153.568 1921.34,153.561 1923.39,153.555 \n",
       "  1925.45,153.55 1927.5,153.545 1929.56,153.54 1931.61,153.536 1933.67,153.532 1935.72,153.529 1937.78,153.526 1939.83,153.523 1941.89,153.521 1943.94,153.519 \n",
       "  1946,153.518 1948.05,153.517 1950.11,153.517 1952.16,153.517 1954.22,153.517 1956.27,153.518 1958.33,153.519 1960.38,153.521 1962.44,153.522 1964.49,153.525 \n",
       "  1966.55,153.527 1968.6,153.53 1970.66,153.534 1972.71,153.538 1974.77,153.542 1976.82,153.546 1978.88,153.551 1980.93,153.556 1982.99,153.561 1985.04,153.567 \n",
       "  1987.1,153.573 1989.15,153.58 1991.21,153.586 1993.26,153.593 1995.32,153.601 1997.37,153.608 1999.43,153.616 2001.48,153.624 2003.54,153.633 2005.59,153.641 \n",
       "  2007.65,153.65 2009.7,153.659 2011.76,153.669 2013.81,153.678 2015.87,153.688 2017.92,153.698 2019.98,153.708 2022.03,153.719 2024.09,153.729 2026.14,153.74 \n",
       "  2028.2,153.751 2030.25,153.762 2032.31,153.773 2034.36,153.784 2036.42,153.796 2038.47,153.807 2040.53,153.819 2042.58,153.83 2044.64,153.842 2046.69,153.853 \n",
       "  2048.75,153.865 2050.8,153.877 2052.86,153.888 2054.91,153.9 2056.97,153.912 2059.02,153.923 2061.08,153.934 2063.13,153.946 2065.19,153.957 2067.24,153.968 \n",
       "  2069.3,153.979 2071.35,153.99 2073.41,154 2075.46,154.01 2077.52,154.02 2079.57,154.03 2081.63,154.039 2083.68,154.049 2085.74,154.057 2087.79,154.066 \n",
       "  2089.85,154.073 2091.9,154.081 2093.96,154.088 2096.01,154.094 2098.07,154.1 2100.12,154.106 2102.18,154.11 2104.23,154.114 2106.29,154.118 2108.34,154.12 \n",
       "  2110.4,154.122 2112.45,154.123 2114.51,154.123 2116.56,154.122 2118.62,154.12 2120.67,154.118 2122.72,154.114 2124.78,154.109 2126.83,154.102 2128.89,154.095 \n",
       "  2130.94,154.086 2133,154.076 2135.05,154.064 2137.11,154.051 2139.16,154.036 2141.22,154.02 2143.27,154.002 2145.33,153.982 2147.38,153.96 2149.44,153.935 \n",
       "  2151.49,153.909 2153.55,153.881 2155.6,153.85 2157.66,153.817 2159.71,153.781 2161.77,153.742 2163.82,153.701 2165.88,153.656 2167.93,153.609 2169.99,153.558 \n",
       "  2172.04,153.504 2174.1,153.446 2176.15,153.384 2178.21,153.318 2180.26,153.248 2182.32,153.173 2184.37,153.094 2186.43,153.01 2188.48,152.921 2190.54,152.826 \n",
       "  2192.59,152.726 2194.65,152.619 2196.7,152.506 2198.76,152.387 2200.81,152.26 2202.87,152.125 2204.92,151.983 2206.98,151.832 2209.03,151.672 2211.09,151.502 \n",
       "  2213.14,151.322 2215.2,151.132 2217.25,150.93 2219.31,150.715 2221.36,150.488 2223.42,150.246 2225.47,149.989 2227.53,149.716 2229.58,149.426 2231.64,149.117 \n",
       "  2233.69,148.787 2235.75,148.436 2237.8,148.061 2239.86,147.66 2241.91,147.231 2243.97,146.771 2246.02,146.278 2248.08,145.747 2250.13,145.176 2252.19,144.559 \n",
       "  2254.24,143.891 2256.3,143.167 2258.35,142.379 2260.41,141.518 2262.46,140.576 2264.52,139.538 2266.57,138.391 2268.63,137.115 2270.68,135.687 2272.74,134.075 \n",
       "  2274.79,132.24 2276.85,130.125 2278.9,127.654 2280.96,124.711 2283.01,121.121 2285.07,116.585 2287.12,110.545 2289.18,101.747 2291.23,86.1857 \n",
       "  \"/>\n",
       "<path clip-path=\"url(#clip670)\" d=\"\n",
       "M251.33 1377.32 L1418.24 1377.32 L1418.24 1118.12 L251.33 1118.12  Z\n",
       "  \" fill=\"#ffffff\" fill-rule=\"evenodd\" fill-opacity=\"1\"/>\n",
       "<polyline clip-path=\"url(#clip670)\" style=\"stroke:#000000; stroke-linecap:round; stroke-linejoin:round; stroke-width:4; stroke-opacity:1; fill:none\" points=\"\n",
       "  251.33,1377.32 1418.24,1377.32 1418.24,1118.12 251.33,1118.12 251.33,1377.32 \n",
       "  \"/>\n",
       "<polyline clip-path=\"url(#clip670)\" style=\"stroke:#0000ff; stroke-linecap:round; stroke-linejoin:round; stroke-width:4; stroke-opacity:1; fill:none\" points=\"\n",
       "  275.484,1169.96 420.41,1169.96 \n",
       "  \"/>\n",
       "<path clip-path=\"url(#clip670)\" d=\"M444.564 1152.68 L449.24 1152.68 L449.24 1183.3 L466.069 1183.3 L466.069 1187.24 L444.564 1187.24 L444.564 1152.68 Z\" fill=\"#000000\" fill-rule=\"evenodd\" fill-opacity=\"1\" /><path clip-path=\"url(#clip670)\" d=\"M470.976 1152.68 L475.652 1152.68 L475.652 1183.3 L492.481 1183.3 L492.481 1187.24 L470.976 1187.24 L470.976 1152.68 Z\" fill=\"#000000\" fill-rule=\"evenodd\" fill-opacity=\"1\" /><path clip-path=\"url(#clip670)\" d=\"M516.902 1195.11 L516.902 1198.42 L492.272 1198.42 L492.272 1195.11 L516.902 1195.11 Z\" fill=\"#000000\" fill-rule=\"evenodd\" fill-opacity=\"1\" /><path clip-path=\"url(#clip670)\" d=\"M542.457 1171.59 L542.457 1187.24 L538.198 1187.24 L538.198 1171.73 Q538.198 1168.05 536.763 1166.22 Q535.328 1164.39 532.457 1164.39 Q529.008 1164.39 527.017 1166.59 Q525.027 1168.79 525.027 1172.58 L525.027 1187.24 L520.744 1187.24 L520.744 1161.31 L525.027 1161.31 L525.027 1165.34 Q526.555 1163 528.615 1161.84 Q530.698 1160.68 533.406 1160.68 Q537.874 1160.68 540.166 1163.46 Q542.457 1166.22 542.457 1171.59 Z\" fill=\"#000000\" fill-rule=\"evenodd\" fill-opacity=\"1\" /><path clip-path=\"url(#clip670)\" d=\"M550.513 1177 L550.513 1161.31 L554.772 1161.31 L554.772 1176.84 Q554.772 1180.52 556.207 1182.37 Q557.642 1184.2 560.513 1184.2 Q563.962 1184.2 565.952 1182 Q567.966 1179.8 567.966 1176.01 L567.966 1161.31 L572.226 1161.31 L572.226 1187.24 L567.966 1187.24 L567.966 1183.25 Q566.415 1185.61 564.355 1186.77 Q562.318 1187.91 559.61 1187.91 Q555.142 1187.91 552.828 1185.13 Q550.513 1182.35 550.513 1177 M561.23 1160.68 L561.23 1160.68 Z\" fill=\"#000000\" fill-rule=\"evenodd\" fill-opacity=\"1\" /><path clip-path=\"url(#clip670)\" d=\"M580.999 1151.22 L585.258 1151.22 L585.258 1187.24 L580.999 1187.24 L580.999 1151.22 Z\" fill=\"#000000\" fill-rule=\"evenodd\" fill-opacity=\"1\" /><path clip-path=\"url(#clip670)\" d=\"M594.17 1151.22 L598.429 1151.22 L598.429 1187.24 L594.17 1187.24 L594.17 1151.22 Z\" fill=\"#000000\" fill-rule=\"evenodd\" fill-opacity=\"1\" /><path clip-path=\"url(#clip670)\" d=\"M632.642 1151.26 Q629.54 1156.59 628.035 1161.8 Q626.531 1167 626.531 1172.35 Q626.531 1177.7 628.035 1182.95 Q629.563 1188.18 632.642 1193.49 L628.938 1193.49 Q625.466 1188.05 623.73 1182.79 Q622.017 1177.54 622.017 1172.35 Q622.017 1167.19 623.73 1161.96 Q625.443 1156.73 628.938 1151.26 L632.642 1151.26 Z\" fill=\"#000000\" fill-rule=\"evenodd\" fill-opacity=\"1\" /><path clip-path=\"url(#clip670)\" d=\"M640.906 1161.31 L645.165 1161.31 L645.165 1187.24 L640.906 1187.24 L640.906 1161.31 M640.906 1151.22 L645.165 1151.22 L645.165 1156.61 L640.906 1156.61 L640.906 1151.22 Z\" fill=\"#000000\" fill-rule=\"evenodd\" fill-opacity=\"1\" /><path clip-path=\"url(#clip670)\" d=\"M675.628 1171.59 L675.628 1187.24 L671.369 1187.24 L671.369 1171.73 Q671.369 1168.05 669.933 1166.22 Q668.498 1164.39 665.628 1164.39 Q662.179 1164.39 660.188 1166.59 Q658.197 1168.79 658.197 1172.58 L658.197 1187.24 L653.915 1187.24 L653.915 1161.31 L658.197 1161.31 L658.197 1165.34 Q659.725 1163 661.785 1161.84 Q663.869 1160.68 666.577 1160.68 Q671.044 1160.68 673.336 1163.46 Q675.628 1166.22 675.628 1171.59 Z\" fill=\"#000000\" fill-rule=\"evenodd\" fill-opacity=\"1\" /><path clip-path=\"url(#clip670)\" d=\"M688.336 1153.95 L688.336 1161.31 L697.109 1161.31 L697.109 1164.62 L688.336 1164.62 L688.336 1178.69 Q688.336 1181.86 689.193 1182.77 Q690.072 1183.67 692.734 1183.67 L697.109 1183.67 L697.109 1187.24 L692.734 1187.24 Q687.804 1187.24 685.929 1185.41 Q684.054 1183.55 684.054 1178.69 L684.054 1164.62 L680.929 1164.62 L680.929 1161.31 L684.054 1161.31 L684.054 1153.95 L688.336 1153.95 Z\" fill=\"#000000\" fill-rule=\"evenodd\" fill-opacity=\"1\" /><path clip-path=\"url(#clip670)\" d=\"M724.887 1173.21 L724.887 1175.29 L705.304 1175.29 Q705.581 1179.69 707.942 1182 Q710.327 1184.3 714.563 1184.3 Q717.016 1184.3 719.308 1183.69 Q721.623 1183.09 723.891 1181.89 L723.891 1185.92 Q721.6 1186.89 719.192 1187.4 Q716.785 1187.91 714.308 1187.91 Q708.104 1187.91 704.47 1184.3 Q700.859 1180.68 700.859 1174.53 Q700.859 1168.16 704.285 1164.43 Q707.734 1160.68 713.567 1160.68 Q718.799 1160.68 721.831 1164.06 Q724.887 1167.42 724.887 1173.21 M720.628 1171.96 Q720.581 1168.46 718.66 1166.38 Q716.762 1164.3 713.614 1164.3 Q710.049 1164.3 707.896 1166.31 Q705.767 1168.32 705.442 1171.98 L720.628 1171.96 Z\" fill=\"#000000\" fill-rule=\"evenodd\" fill-opacity=\"1\" /><path clip-path=\"url(#clip670)\" d=\"M746.901 1165.29 Q746.183 1164.87 745.326 1164.69 Q744.493 1164.48 743.475 1164.48 Q739.864 1164.48 737.919 1166.84 Q735.998 1169.18 735.998 1173.58 L735.998 1187.24 L731.715 1187.24 L731.715 1161.31 L735.998 1161.31 L735.998 1165.34 Q737.34 1162.98 739.493 1161.84 Q741.646 1160.68 744.725 1160.68 Q745.164 1160.68 745.697 1160.75 Q746.229 1160.8 746.877 1160.92 L746.901 1165.29 Z\" fill=\"#000000\" fill-rule=\"evenodd\" fill-opacity=\"1\" /><path clip-path=\"url(#clip670)\" d=\"M768.984 1162.3 L768.984 1166.29 Q767.178 1165.29 765.35 1164.8 Q763.544 1164.3 761.692 1164.3 Q757.549 1164.3 755.257 1166.93 Q752.965 1169.55 752.965 1174.3 Q752.965 1179.04 755.257 1181.68 Q757.549 1184.3 761.692 1184.3 Q763.544 1184.3 765.35 1183.81 Q767.178 1183.3 768.984 1182.3 L768.984 1186.24 Q767.201 1187.07 765.28 1187.49 Q763.382 1187.91 761.229 1187.91 Q755.373 1187.91 751.924 1184.23 Q748.475 1180.55 748.475 1174.3 Q748.475 1167.95 751.947 1164.32 Q755.442 1160.68 761.507 1160.68 Q763.475 1160.68 765.35 1161.1 Q767.225 1161.49 768.984 1162.3 Z\" fill=\"#000000\" fill-rule=\"evenodd\" fill-opacity=\"1\" /><path clip-path=\"url(#clip670)\" d=\"M798.567 1173.21 L798.567 1175.29 L778.984 1175.29 Q779.261 1179.69 781.623 1182 Q784.007 1184.3 788.243 1184.3 Q790.697 1184.3 792.988 1183.69 Q795.303 1183.09 797.572 1181.89 L797.572 1185.92 Q795.28 1186.89 792.873 1187.4 Q790.465 1187.91 787.988 1187.91 Q781.785 1187.91 778.15 1184.3 Q774.539 1180.68 774.539 1174.53 Q774.539 1168.16 777.965 1164.43 Q781.414 1160.68 787.248 1160.68 Q792.479 1160.68 795.511 1164.06 Q798.567 1167.42 798.567 1173.21 M794.308 1171.96 Q794.261 1168.46 792.34 1166.38 Q790.442 1164.3 787.294 1164.3 Q783.729 1164.3 781.576 1166.31 Q779.447 1168.32 779.123 1171.98 L794.308 1171.96 Z\" fill=\"#000000\" fill-rule=\"evenodd\" fill-opacity=\"1\" /><path clip-path=\"url(#clip670)\" d=\"M809.678 1183.35 L809.678 1197.1 L805.396 1197.1 L805.396 1161.31 L809.678 1161.31 L809.678 1165.24 Q811.021 1162.93 813.058 1161.82 Q815.118 1160.68 817.965 1160.68 Q822.687 1160.68 825.627 1164.43 Q828.59 1168.18 828.59 1174.3 Q828.59 1180.41 825.627 1184.16 Q822.687 1187.91 817.965 1187.91 Q815.118 1187.91 813.058 1186.8 Q811.021 1185.66 809.678 1183.35 M824.169 1174.3 Q824.169 1169.6 822.224 1166.93 Q820.303 1164.25 816.923 1164.25 Q813.544 1164.25 811.599 1166.93 Q809.678 1169.6 809.678 1174.3 Q809.678 1178.99 811.599 1181.68 Q813.544 1184.34 816.923 1184.34 Q820.303 1184.34 822.224 1181.68 Q824.169 1178.99 824.169 1174.3 Z\" fill=\"#000000\" fill-rule=\"evenodd\" fill-opacity=\"1\" /><path clip-path=\"url(#clip670)\" d=\"M839.863 1153.95 L839.863 1161.31 L848.636 1161.31 L848.636 1164.62 L839.863 1164.62 L839.863 1178.69 Q839.863 1181.86 840.719 1182.77 Q841.599 1183.67 844.261 1183.67 L848.636 1183.67 L848.636 1187.24 L844.261 1187.24 Q839.331 1187.24 837.456 1185.41 Q835.581 1183.55 835.581 1178.69 L835.581 1164.62 L832.456 1164.62 L832.456 1161.31 L835.581 1161.31 L835.581 1153.95 L839.863 1153.95 Z\" fill=\"#000000\" fill-rule=\"evenodd\" fill-opacity=\"1\" /><path clip-path=\"url(#clip670)\" d=\"M853.567 1151.26 L857.27 1151.26 Q860.743 1156.73 862.455 1161.96 Q864.192 1167.19 864.192 1172.35 Q864.192 1177.54 862.455 1182.79 Q860.743 1188.05 857.27 1193.49 L853.567 1193.49 Q856.645 1188.18 858.15 1182.95 Q859.678 1177.7 859.678 1172.35 Q859.678 1167 858.15 1161.8 Q856.645 1156.59 853.567 1151.26 Z\" fill=\"#000000\" fill-rule=\"evenodd\" fill-opacity=\"1\" /><polyline clip-path=\"url(#clip670)\" style=\"stroke:#ff0000; stroke-linecap:round; stroke-linejoin:round; stroke-width:4; stroke-opacity:1; fill:none\" points=\"\n",
       "  275.484,1221.8 420.41,1221.8 \n",
       "  \"/>\n",
       "<path clip-path=\"url(#clip670)\" d=\"M444.564 1204.52 L449.24 1204.52 L449.24 1235.14 L466.069 1235.14 L466.069 1239.08 L444.564 1239.08 L444.564 1204.52 Z\" fill=\"#000000\" fill-rule=\"evenodd\" fill-opacity=\"1\" /><path clip-path=\"url(#clip670)\" d=\"M470.976 1204.52 L475.652 1204.52 L475.652 1235.14 L492.481 1235.14 L492.481 1239.08 L470.976 1239.08 L470.976 1204.52 Z\" fill=\"#000000\" fill-rule=\"evenodd\" fill-opacity=\"1\" /><path clip-path=\"url(#clip670)\" d=\"M516.902 1246.95 L516.902 1250.26 L492.272 1250.26 L492.272 1246.95 L516.902 1246.95 Z\" fill=\"#000000\" fill-rule=\"evenodd\" fill-opacity=\"1\" /><path clip-path=\"url(#clip670)\" d=\"M532.689 1226.04 Q527.527 1226.04 525.536 1227.22 Q523.545 1228.4 523.545 1231.25 Q523.545 1233.52 525.027 1234.86 Q526.531 1236.18 529.101 1236.18 Q532.642 1236.18 534.772 1233.68 Q536.925 1231.16 536.925 1226.99 L536.925 1226.04 L532.689 1226.04 M541.184 1224.28 L541.184 1239.08 L536.925 1239.08 L536.925 1235.14 Q535.467 1237.5 533.291 1238.64 Q531.115 1239.75 527.967 1239.75 Q523.985 1239.75 521.624 1237.52 Q519.286 1235.28 519.286 1231.53 Q519.286 1227.15 522.203 1224.93 Q525.142 1222.71 530.953 1222.71 L536.925 1222.71 L536.925 1222.29 Q536.925 1219.35 534.98 1217.76 Q533.059 1216.14 529.564 1216.14 Q527.342 1216.14 525.235 1216.67 Q523.129 1217.2 521.184 1218.27 L521.184 1214.33 Q523.522 1213.43 525.721 1212.99 Q527.92 1212.52 530.004 1212.52 Q535.629 1212.52 538.406 1215.44 Q541.184 1218.36 541.184 1224.28 Z\" fill=\"#000000\" fill-rule=\"evenodd\" fill-opacity=\"1\" /><path clip-path=\"url(#clip670)\" d=\"M549.957 1203.06 L554.216 1203.06 L554.216 1239.08 L549.957 1239.08 L549.957 1203.06 Z\" fill=\"#000000\" fill-rule=\"evenodd\" fill-opacity=\"1\" /><path clip-path=\"url(#clip670)\" d=\"M567.341 1205.79 L567.341 1213.15 L576.114 1213.15 L576.114 1216.46 L567.341 1216.46 L567.341 1230.53 Q567.341 1233.7 568.198 1234.61 Q569.077 1235.51 571.739 1235.51 L576.114 1235.51 L576.114 1239.08 L571.739 1239.08 Q566.809 1239.08 564.934 1237.25 Q563.059 1235.39 563.059 1230.53 L563.059 1216.46 L559.934 1216.46 L559.934 1213.15 L563.059 1213.15 L563.059 1205.79 L567.341 1205.79 Z\" fill=\"#000000\" fill-rule=\"evenodd\" fill-opacity=\"1\" /><path clip-path=\"url(#clip670)\" d=\"M607.017 1203.1 Q603.915 1208.43 602.411 1213.64 Q600.906 1218.84 600.906 1224.19 Q600.906 1229.54 602.411 1234.79 Q603.938 1240.02 607.017 1245.33 L603.313 1245.33 Q599.841 1239.89 598.105 1234.63 Q596.392 1229.38 596.392 1224.19 Q596.392 1219.03 598.105 1213.8 Q599.818 1208.57 603.313 1203.1 L607.017 1203.1 Z\" fill=\"#000000\" fill-rule=\"evenodd\" fill-opacity=\"1\" /><path clip-path=\"url(#clip670)\" d=\"M615.281 1213.15 L619.54 1213.15 L619.54 1239.08 L615.281 1239.08 L615.281 1213.15 M615.281 1203.06 L619.54 1203.06 L619.54 1208.45 L615.281 1208.45 L615.281 1203.06 Z\" fill=\"#000000\" fill-rule=\"evenodd\" fill-opacity=\"1\" /><path clip-path=\"url(#clip670)\" d=\"M650.003 1223.43 L650.003 1239.08 L645.744 1239.08 L645.744 1223.57 Q645.744 1219.89 644.309 1218.06 Q642.873 1216.23 640.003 1216.23 Q636.554 1216.23 634.563 1218.43 Q632.572 1220.63 632.572 1224.42 L632.572 1239.08 L628.29 1239.08 L628.29 1213.15 L632.572 1213.15 L632.572 1217.18 Q634.1 1214.84 636.16 1213.68 Q638.244 1212.52 640.952 1212.52 Q645.42 1212.52 647.711 1215.3 Q650.003 1218.06 650.003 1223.43 Z\" fill=\"#000000\" fill-rule=\"evenodd\" fill-opacity=\"1\" /><path clip-path=\"url(#clip670)\" d=\"M662.711 1205.79 L662.711 1213.15 L671.484 1213.15 L671.484 1216.46 L662.711 1216.46 L662.711 1230.53 Q662.711 1233.7 663.568 1234.61 Q664.447 1235.51 667.109 1235.51 L671.484 1235.51 L671.484 1239.08 L667.109 1239.08 Q662.179 1239.08 660.304 1237.25 Q658.429 1235.39 658.429 1230.53 L658.429 1216.46 L655.304 1216.46 L655.304 1213.15 L658.429 1213.15 L658.429 1205.79 L662.711 1205.79 Z\" fill=\"#000000\" fill-rule=\"evenodd\" fill-opacity=\"1\" /><path clip-path=\"url(#clip670)\" d=\"M699.262 1225.05 L699.262 1227.13 L679.679 1227.13 Q679.956 1231.53 682.318 1233.84 Q684.702 1236.14 688.938 1236.14 Q691.392 1236.14 693.683 1235.53 Q695.998 1234.93 698.267 1233.73 L698.267 1237.76 Q695.975 1238.73 693.568 1239.24 Q691.16 1239.75 688.683 1239.75 Q682.48 1239.75 678.845 1236.14 Q675.234 1232.52 675.234 1226.37 Q675.234 1220 678.66 1216.27 Q682.109 1212.52 687.943 1212.52 Q693.174 1212.52 696.206 1215.9 Q699.262 1219.26 699.262 1225.05 M695.003 1223.8 Q694.956 1220.3 693.035 1218.22 Q691.137 1216.14 687.989 1216.14 Q684.424 1216.14 682.271 1218.15 Q680.142 1220.16 679.818 1223.82 L695.003 1223.8 Z\" fill=\"#000000\" fill-rule=\"evenodd\" fill-opacity=\"1\" /><path clip-path=\"url(#clip670)\" d=\"M721.276 1217.13 Q720.558 1216.71 719.702 1216.53 Q718.868 1216.32 717.85 1216.32 Q714.239 1216.32 712.294 1218.68 Q710.373 1221.02 710.373 1225.42 L710.373 1239.08 L706.091 1239.08 L706.091 1213.15 L710.373 1213.15 L710.373 1217.18 Q711.716 1214.82 713.868 1213.68 Q716.021 1212.52 719.1 1212.52 Q719.54 1212.52 720.072 1212.59 Q720.604 1212.64 721.253 1212.76 L721.276 1217.13 Z\" fill=\"#000000\" fill-rule=\"evenodd\" fill-opacity=\"1\" /><path clip-path=\"url(#clip670)\" d=\"M743.359 1214.14 L743.359 1218.13 Q741.553 1217.13 739.725 1216.64 Q737.919 1216.14 736.067 1216.14 Q731.924 1216.14 729.632 1218.77 Q727.34 1221.39 727.34 1226.14 Q727.34 1230.88 729.632 1233.52 Q731.924 1236.14 736.067 1236.14 Q737.919 1236.14 739.725 1235.65 Q741.553 1235.14 743.359 1234.14 L743.359 1238.08 Q741.577 1238.91 739.655 1239.33 Q737.757 1239.75 735.604 1239.75 Q729.748 1239.75 726.299 1236.07 Q722.85 1232.39 722.85 1226.14 Q722.85 1219.79 726.322 1216.16 Q729.817 1212.52 735.882 1212.52 Q737.85 1212.52 739.725 1212.94 Q741.6 1213.33 743.359 1214.14 Z\" fill=\"#000000\" fill-rule=\"evenodd\" fill-opacity=\"1\" /><path clip-path=\"url(#clip670)\" d=\"M772.942 1225.05 L772.942 1227.13 L753.359 1227.13 Q753.637 1231.53 755.998 1233.84 Q758.382 1236.14 762.618 1236.14 Q765.072 1236.14 767.363 1235.53 Q769.678 1234.93 771.947 1233.73 L771.947 1237.76 Q769.655 1238.73 767.248 1239.24 Q764.84 1239.75 762.363 1239.75 Q756.16 1239.75 752.526 1236.14 Q748.914 1232.52 748.914 1226.37 Q748.914 1220 752.34 1216.27 Q755.789 1212.52 761.623 1212.52 Q766.854 1212.52 769.887 1215.9 Q772.942 1219.26 772.942 1225.05 M768.683 1223.8 Q768.637 1220.3 766.715 1218.22 Q764.817 1216.14 761.669 1216.14 Q758.104 1216.14 755.951 1218.15 Q753.822 1220.16 753.498 1223.82 L768.683 1223.8 Z\" fill=\"#000000\" fill-rule=\"evenodd\" fill-opacity=\"1\" /><path clip-path=\"url(#clip670)\" d=\"M784.053 1235.19 L784.053 1248.94 L779.771 1248.94 L779.771 1213.15 L784.053 1213.15 L784.053 1217.08 Q785.396 1214.77 787.433 1213.66 Q789.493 1212.52 792.34 1212.52 Q797.062 1212.52 800.002 1216.27 Q802.965 1220.02 802.965 1226.14 Q802.965 1232.25 800.002 1236 Q797.062 1239.75 792.34 1239.75 Q789.493 1239.75 787.433 1238.64 Q785.396 1237.5 784.053 1235.19 M798.544 1226.14 Q798.544 1221.44 796.599 1218.77 Q794.678 1216.09 791.298 1216.09 Q787.919 1216.09 785.974 1218.77 Q784.053 1221.44 784.053 1226.14 Q784.053 1230.83 785.974 1233.52 Q787.919 1236.18 791.298 1236.18 Q794.678 1236.18 796.599 1233.52 Q798.544 1230.83 798.544 1226.14 Z\" fill=\"#000000\" fill-rule=\"evenodd\" fill-opacity=\"1\" /><path clip-path=\"url(#clip670)\" d=\"M814.238 1205.79 L814.238 1213.15 L823.011 1213.15 L823.011 1216.46 L814.238 1216.46 L814.238 1230.53 Q814.238 1233.7 815.095 1234.61 Q815.974 1235.51 818.636 1235.51 L823.011 1235.51 L823.011 1239.08 L818.636 1239.08 Q813.706 1239.08 811.831 1237.25 Q809.956 1235.39 809.956 1230.53 L809.956 1216.46 L806.831 1216.46 L806.831 1213.15 L809.956 1213.15 L809.956 1205.79 L814.238 1205.79 Z\" fill=\"#000000\" fill-rule=\"evenodd\" fill-opacity=\"1\" /><path clip-path=\"url(#clip670)\" d=\"M845.951 1209.35 L845.951 1222.25 L858.844 1222.25 L858.844 1226.18 L845.951 1226.18 L845.951 1239.08 L842.062 1239.08 L842.062 1226.18 L829.169 1226.18 L829.169 1222.25 L842.062 1222.25 L842.062 1209.35 L845.951 1209.35 Z\" fill=\"#000000\" fill-rule=\"evenodd\" fill-opacity=\"1\" /><path clip-path=\"url(#clip670)\" d=\"M888.52 1218.13 Q890.117 1215.26 892.34 1213.89 Q894.562 1212.52 897.571 1212.52 Q901.622 1212.52 903.821 1215.37 Q906.02 1218.2 906.02 1223.43 L906.02 1239.08 L901.738 1239.08 L901.738 1223.57 Q901.738 1219.84 900.418 1218.03 Q899.099 1216.23 896.39 1216.23 Q893.08 1216.23 891.159 1218.43 Q889.238 1220.63 889.238 1224.42 L889.238 1239.08 L884.955 1239.08 L884.955 1223.57 Q884.955 1219.82 883.636 1218.03 Q882.316 1216.23 879.562 1216.23 Q876.298 1216.23 874.377 1218.45 Q872.455 1220.65 872.455 1224.42 L872.455 1239.08 L868.173 1239.08 L868.173 1213.15 L872.455 1213.15 L872.455 1217.18 Q873.914 1214.79 875.951 1213.66 Q877.988 1212.52 880.789 1212.52 Q883.613 1212.52 885.58 1213.96 Q887.571 1215.39 888.52 1218.13 Z\" fill=\"#000000\" fill-rule=\"evenodd\" fill-opacity=\"1\" /><path clip-path=\"url(#clip670)\" d=\"M926.298 1226.04 Q921.136 1226.04 919.145 1227.22 Q917.154 1228.4 917.154 1231.25 Q917.154 1233.52 918.636 1234.86 Q920.14 1236.18 922.71 1236.18 Q926.251 1236.18 928.381 1233.68 Q930.534 1231.16 930.534 1226.99 L930.534 1226.04 L926.298 1226.04 M934.793 1224.28 L934.793 1239.08 L930.534 1239.08 L930.534 1235.14 Q929.076 1237.5 926.9 1238.64 Q924.724 1239.75 921.576 1239.75 Q917.594 1239.75 915.233 1237.52 Q912.895 1235.28 912.895 1231.53 Q912.895 1227.15 915.812 1224.93 Q918.751 1222.71 924.562 1222.71 L930.534 1222.71 L930.534 1222.29 Q930.534 1219.35 928.589 1217.76 Q926.668 1216.14 923.173 1216.14 Q920.951 1216.14 918.844 1216.67 Q916.738 1217.2 914.793 1218.27 L914.793 1214.33 Q917.131 1213.43 919.33 1212.99 Q921.529 1212.52 923.613 1212.52 Q929.238 1212.52 932.015 1215.44 Q934.793 1218.36 934.793 1224.28 Z\" fill=\"#000000\" fill-rule=\"evenodd\" fill-opacity=\"1\" /><path clip-path=\"url(#clip670)\" d=\"M958.589 1217.13 Q957.872 1216.71 957.015 1216.53 Q956.182 1216.32 955.163 1216.32 Q951.552 1216.32 949.608 1218.68 Q947.687 1221.02 947.687 1225.42 L947.687 1239.08 L943.404 1239.08 L943.404 1213.15 L947.687 1213.15 L947.687 1217.18 Q949.029 1214.82 951.182 1213.68 Q953.335 1212.52 956.413 1212.52 Q956.853 1212.52 957.386 1212.59 Q957.918 1212.64 958.566 1212.76 L958.589 1217.13 Z\" fill=\"#000000\" fill-rule=\"evenodd\" fill-opacity=\"1\" /><path clip-path=\"url(#clip670)\" d=\"M962.895 1203.06 L967.177 1203.06 L967.177 1224.33 L979.885 1213.15 L985.325 1213.15 L971.575 1225.28 L985.904 1239.08 L980.348 1239.08 L967.177 1226.41 L967.177 1239.08 L962.895 1239.08 L962.895 1203.06 Z\" fill=\"#000000\" fill-rule=\"evenodd\" fill-opacity=\"1\" /><path clip-path=\"url(#clip670)\" d=\"M1011 1225.05 L1011 1227.13 L991.413 1227.13 Q991.691 1231.53 994.052 1233.84 Q996.436 1236.14 1000.67 1236.14 Q1003.13 1236.14 1005.42 1235.53 Q1007.73 1234.93 1010 1233.73 L1010 1237.76 Q1007.71 1238.73 1005.3 1239.24 Q1002.89 1239.75 1000.42 1239.75 Q994.214 1239.75 990.58 1236.14 Q986.969 1232.52 986.969 1226.37 Q986.969 1220 990.395 1216.27 Q993.844 1212.52 999.677 1212.52 Q1004.91 1212.52 1007.94 1215.9 Q1011 1219.26 1011 1225.05 M1006.74 1223.8 Q1006.69 1220.3 1004.77 1218.22 Q1002.87 1216.14 999.723 1216.14 Q996.158 1216.14 994.006 1218.15 Q991.876 1220.16 991.552 1223.82 L1006.74 1223.8 Z\" fill=\"#000000\" fill-rule=\"evenodd\" fill-opacity=\"1\" /><path clip-path=\"url(#clip670)\" d=\"M1033.01 1217.13 Q1032.29 1216.71 1031.44 1216.53 Q1030.6 1216.32 1029.58 1216.32 Q1025.97 1216.32 1024.03 1218.68 Q1022.11 1221.02 1022.11 1225.42 L1022.11 1239.08 L1017.83 1239.08 L1017.83 1213.15 L1022.11 1213.15 L1022.11 1217.18 Q1023.45 1214.82 1025.6 1213.68 Q1027.76 1212.52 1030.83 1212.52 Q1031.27 1212.52 1031.81 1212.59 Q1032.34 1212.64 1032.99 1212.76 L1033.01 1217.13 Z\" fill=\"#000000\" fill-rule=\"evenodd\" fill-opacity=\"1\" /><path clip-path=\"url(#clip670)\" d=\"M1057.18 1235.14 L1073.5 1235.14 L1073.5 1239.08 L1051.55 1239.08 L1051.55 1235.14 Q1054.21 1232.39 1058.8 1227.76 Q1063.4 1223.1 1064.58 1221.76 Q1066.83 1219.24 1067.71 1217.5 Q1068.61 1215.74 1068.61 1214.05 Q1068.61 1211.3 1066.67 1209.56 Q1064.75 1207.83 1061.64 1207.83 Q1059.45 1207.83 1056.99 1208.59 Q1054.56 1209.35 1051.78 1210.9 L1051.78 1206.18 Q1054.61 1205.05 1057.06 1204.47 Q1059.51 1203.89 1061.55 1203.89 Q1066.92 1203.89 1070.12 1206.58 Q1073.31 1209.26 1073.31 1213.75 Q1073.31 1215.88 1072.5 1217.8 Q1071.71 1219.7 1069.61 1222.29 Q1069.03 1222.96 1065.93 1226.18 Q1062.82 1229.38 1057.18 1235.14 Z\" fill=\"#000000\" fill-rule=\"evenodd\" fill-opacity=\"1\" /><path clip-path=\"url(#clip670)\" d=\"M1087.34 1235.14 L1103.66 1235.14 L1103.66 1239.08 L1081.71 1239.08 L1081.71 1235.14 Q1084.38 1232.39 1088.96 1227.76 Q1093.57 1223.1 1094.75 1221.76 Q1096.99 1219.24 1097.87 1217.5 Q1098.77 1215.74 1098.77 1214.05 Q1098.77 1211.3 1096.83 1209.56 Q1094.91 1207.83 1091.81 1207.83 Q1089.61 1207.83 1087.15 1208.59 Q1084.72 1209.35 1081.95 1210.9 L1081.95 1206.18 Q1084.77 1205.05 1087.22 1204.47 Q1089.68 1203.89 1091.71 1203.89 Q1097.08 1203.89 1100.28 1206.58 Q1103.47 1209.26 1103.47 1213.75 Q1103.47 1215.88 1102.66 1217.8 Q1101.88 1219.7 1099.77 1222.29 Q1099.19 1222.96 1096.09 1226.18 Q1092.99 1229.38 1087.34 1235.14 Z\" fill=\"#000000\" fill-rule=\"evenodd\" fill-opacity=\"1\" /><path clip-path=\"url(#clip670)\" d=\"M1113.61 1238.36 L1113.61 1234.1 Q1115.37 1234.93 1117.18 1235.37 Q1118.98 1235.81 1120.72 1235.81 Q1125.35 1235.81 1127.78 1232.71 Q1130.23 1229.58 1130.58 1223.24 Q1129.24 1225.23 1127.18 1226.3 Q1125.12 1227.36 1122.62 1227.36 Q1117.43 1227.36 1114.4 1224.24 Q1111.39 1221.09 1111.39 1215.65 Q1111.39 1210.33 1114.54 1207.11 Q1117.69 1203.89 1122.92 1203.89 Q1128.91 1203.89 1132.06 1208.5 Q1135.23 1213.08 1135.23 1221.83 Q1135.23 1230 1131.34 1234.89 Q1127.48 1239.75 1120.93 1239.75 Q1119.17 1239.75 1117.36 1239.4 Q1115.56 1239.05 1113.61 1238.36 M1122.92 1223.71 Q1126.07 1223.71 1127.89 1221.55 Q1129.75 1219.4 1129.75 1215.65 Q1129.75 1211.92 1127.89 1209.77 Q1126.07 1207.59 1122.92 1207.59 Q1119.77 1207.59 1117.92 1209.77 Q1116.09 1211.92 1116.09 1215.65 Q1116.09 1219.4 1117.92 1221.55 Q1119.77 1223.71 1122.92 1223.71 Z\" fill=\"#000000\" fill-rule=\"evenodd\" fill-opacity=\"1\" /><path clip-path=\"url(#clip670)\" d=\"M1142.36 1203.1 L1146.07 1203.1 Q1149.54 1208.57 1151.25 1213.8 Q1152.99 1219.03 1152.99 1224.19 Q1152.99 1229.38 1151.25 1234.63 Q1149.54 1239.89 1146.07 1245.33 L1142.36 1245.33 Q1145.44 1240.02 1146.94 1234.79 Q1148.47 1229.54 1148.47 1224.19 Q1148.47 1218.84 1146.94 1213.64 Q1145.44 1208.43 1142.36 1203.1 Z\" fill=\"#000000\" fill-rule=\"evenodd\" fill-opacity=\"1\" /><polyline clip-path=\"url(#clip670)\" style=\"stroke:#008000; stroke-linecap:round; stroke-linejoin:round; stroke-width:4; stroke-opacity:1; fill:none\" points=\"\n",
       "  275.484,1273.64 420.41,1273.64 \n",
       "  \"/>\n",
       "<path clip-path=\"url(#clip670)\" d=\"M444.564 1256.36 L449.24 1256.36 L449.24 1286.98 L466.069 1286.98 L466.069 1290.92 L444.564 1290.92 L444.564 1256.36 Z\" fill=\"#000000\" fill-rule=\"evenodd\" fill-opacity=\"1\" /><path clip-path=\"url(#clip670)\" d=\"M470.976 1256.36 L475.652 1256.36 L475.652 1286.98 L492.481 1286.98 L492.481 1290.92 L470.976 1290.92 L470.976 1256.36 Z\" fill=\"#000000\" fill-rule=\"evenodd\" fill-opacity=\"1\" /><path clip-path=\"url(#clip670)\" d=\"M516.902 1298.79 L516.902 1302.1 L492.272 1302.1 L492.272 1298.79 L516.902 1298.79 Z\" fill=\"#000000\" fill-rule=\"evenodd\" fill-opacity=\"1\" /><path clip-path=\"url(#clip670)\" d=\"M542.457 1275.27 L542.457 1290.92 L538.198 1290.92 L538.198 1275.41 Q538.198 1271.73 536.763 1269.9 Q535.328 1268.07 532.457 1268.07 Q529.008 1268.07 527.017 1270.27 Q525.027 1272.47 525.027 1276.26 L525.027 1290.92 L520.744 1290.92 L520.744 1264.99 L525.027 1264.99 L525.027 1269.02 Q526.555 1266.68 528.615 1265.52 Q530.698 1264.36 533.406 1264.36 Q537.874 1264.36 540.166 1267.14 Q542.457 1269.9 542.457 1275.27 Z\" fill=\"#000000\" fill-rule=\"evenodd\" fill-opacity=\"1\" /><path clip-path=\"url(#clip670)\" d=\"M550.513 1280.68 L550.513 1264.99 L554.772 1264.99 L554.772 1280.52 Q554.772 1284.2 556.207 1286.05 Q557.642 1287.88 560.513 1287.88 Q563.962 1287.88 565.952 1285.68 Q567.966 1283.48 567.966 1279.69 L567.966 1264.99 L572.226 1264.99 L572.226 1290.92 L567.966 1290.92 L567.966 1286.93 Q566.415 1289.29 564.355 1290.45 Q562.318 1291.59 559.61 1291.59 Q555.142 1291.59 552.828 1288.81 Q550.513 1286.03 550.513 1280.68 M561.23 1264.36 L561.23 1264.36 Z\" fill=\"#000000\" fill-rule=\"evenodd\" fill-opacity=\"1\" /><path clip-path=\"url(#clip670)\" d=\"M580.999 1254.9 L585.258 1254.9 L585.258 1290.92 L580.999 1290.92 L580.999 1254.9 Z\" fill=\"#000000\" fill-rule=\"evenodd\" fill-opacity=\"1\" /><path clip-path=\"url(#clip670)\" d=\"M594.17 1254.9 L598.429 1254.9 L598.429 1290.92 L594.17 1290.92 L594.17 1254.9 Z\" fill=\"#000000\" fill-rule=\"evenodd\" fill-opacity=\"1\" /><path clip-path=\"url(#clip670)\" d=\"M632.642 1254.94 Q629.54 1260.27 628.035 1265.48 Q626.531 1270.68 626.531 1276.03 Q626.531 1281.38 628.035 1286.63 Q629.563 1291.86 632.642 1297.17 L628.938 1297.17 Q625.466 1291.73 623.73 1286.47 Q622.017 1281.22 622.017 1276.03 Q622.017 1270.87 623.73 1265.64 Q625.443 1260.41 628.938 1254.94 L632.642 1254.94 Z\" fill=\"#000000\" fill-rule=\"evenodd\" fill-opacity=\"1\" /><path clip-path=\"url(#clip670)\" d=\"M640.906 1264.99 L645.165 1264.99 L645.165 1290.92 L640.906 1290.92 L640.906 1264.99 M640.906 1254.9 L645.165 1254.9 L645.165 1260.29 L640.906 1260.29 L640.906 1254.9 Z\" fill=\"#000000\" fill-rule=\"evenodd\" fill-opacity=\"1\" /><path clip-path=\"url(#clip670)\" d=\"M675.628 1275.27 L675.628 1290.92 L671.369 1290.92 L671.369 1275.41 Q671.369 1271.73 669.933 1269.9 Q668.498 1268.07 665.628 1268.07 Q662.179 1268.07 660.188 1270.27 Q658.197 1272.47 658.197 1276.26 L658.197 1290.92 L653.915 1290.92 L653.915 1264.99 L658.197 1264.99 L658.197 1269.02 Q659.725 1266.68 661.785 1265.52 Q663.869 1264.36 666.577 1264.36 Q671.044 1264.36 673.336 1267.14 Q675.628 1269.9 675.628 1275.27 Z\" fill=\"#000000\" fill-rule=\"evenodd\" fill-opacity=\"1\" /><path clip-path=\"url(#clip670)\" d=\"M688.336 1257.63 L688.336 1264.99 L697.109 1264.99 L697.109 1268.3 L688.336 1268.3 L688.336 1282.37 Q688.336 1285.54 689.193 1286.45 Q690.072 1287.35 692.734 1287.35 L697.109 1287.35 L697.109 1290.92 L692.734 1290.92 Q687.804 1290.92 685.929 1289.09 Q684.054 1287.23 684.054 1282.37 L684.054 1268.3 L680.929 1268.3 L680.929 1264.99 L684.054 1264.99 L684.054 1257.63 L688.336 1257.63 Z\" fill=\"#000000\" fill-rule=\"evenodd\" fill-opacity=\"1\" /><path clip-path=\"url(#clip670)\" d=\"M724.887 1276.89 L724.887 1278.97 L705.304 1278.97 Q705.581 1283.37 707.942 1285.68 Q710.327 1287.98 714.563 1287.98 Q717.016 1287.98 719.308 1287.37 Q721.623 1286.77 723.891 1285.57 L723.891 1289.6 Q721.6 1290.57 719.192 1291.08 Q716.785 1291.59 714.308 1291.59 Q708.104 1291.59 704.47 1287.98 Q700.859 1284.36 700.859 1278.21 Q700.859 1271.84 704.285 1268.11 Q707.734 1264.36 713.567 1264.36 Q718.799 1264.36 721.831 1267.74 Q724.887 1271.1 724.887 1276.89 M720.628 1275.64 Q720.581 1272.14 718.66 1270.06 Q716.762 1267.98 713.614 1267.98 Q710.049 1267.98 707.896 1269.99 Q705.767 1272 705.442 1275.66 L720.628 1275.64 Z\" fill=\"#000000\" fill-rule=\"evenodd\" fill-opacity=\"1\" /><path clip-path=\"url(#clip670)\" d=\"M746.901 1268.97 Q746.183 1268.55 745.326 1268.37 Q744.493 1268.16 743.475 1268.16 Q739.864 1268.16 737.919 1270.52 Q735.998 1272.86 735.998 1277.26 L735.998 1290.92 L731.715 1290.92 L731.715 1264.99 L735.998 1264.99 L735.998 1269.02 Q737.34 1266.66 739.493 1265.52 Q741.646 1264.36 744.725 1264.36 Q745.164 1264.36 745.697 1264.43 Q746.229 1264.48 746.877 1264.6 L746.901 1268.97 Z\" fill=\"#000000\" fill-rule=\"evenodd\" fill-opacity=\"1\" /><path clip-path=\"url(#clip670)\" d=\"M768.984 1265.98 L768.984 1269.97 Q767.178 1268.97 765.35 1268.48 Q763.544 1267.98 761.692 1267.98 Q757.549 1267.98 755.257 1270.61 Q752.965 1273.23 752.965 1277.98 Q752.965 1282.72 755.257 1285.36 Q757.549 1287.98 761.692 1287.98 Q763.544 1287.98 765.35 1287.49 Q767.178 1286.98 768.984 1285.98 L768.984 1289.92 Q767.201 1290.75 765.28 1291.17 Q763.382 1291.59 761.229 1291.59 Q755.373 1291.59 751.924 1287.91 Q748.475 1284.23 748.475 1277.98 Q748.475 1271.63 751.947 1268 Q755.442 1264.36 761.507 1264.36 Q763.475 1264.36 765.35 1264.78 Q767.225 1265.17 768.984 1265.98 Z\" fill=\"#000000\" fill-rule=\"evenodd\" fill-opacity=\"1\" /><path clip-path=\"url(#clip670)\" d=\"M798.567 1276.89 L798.567 1278.97 L778.984 1278.97 Q779.261 1283.37 781.623 1285.68 Q784.007 1287.98 788.243 1287.98 Q790.697 1287.98 792.988 1287.37 Q795.303 1286.77 797.572 1285.57 L797.572 1289.6 Q795.28 1290.57 792.873 1291.08 Q790.465 1291.59 787.988 1291.59 Q781.785 1291.59 778.15 1287.98 Q774.539 1284.36 774.539 1278.21 Q774.539 1271.84 777.965 1268.11 Q781.414 1264.36 787.248 1264.36 Q792.479 1264.36 795.511 1267.74 Q798.567 1271.1 798.567 1276.89 M794.308 1275.64 Q794.261 1272.14 792.34 1270.06 Q790.442 1267.98 787.294 1267.98 Q783.729 1267.98 781.576 1269.99 Q779.447 1272 779.123 1275.66 L794.308 1275.64 Z\" fill=\"#000000\" fill-rule=\"evenodd\" fill-opacity=\"1\" /><path clip-path=\"url(#clip670)\" d=\"M809.678 1287.03 L809.678 1300.78 L805.396 1300.78 L805.396 1264.99 L809.678 1264.99 L809.678 1268.92 Q811.021 1266.61 813.058 1265.5 Q815.118 1264.36 817.965 1264.36 Q822.687 1264.36 825.627 1268.11 Q828.59 1271.86 828.59 1277.98 Q828.59 1284.09 825.627 1287.84 Q822.687 1291.59 817.965 1291.59 Q815.118 1291.59 813.058 1290.48 Q811.021 1289.34 809.678 1287.03 M824.169 1277.98 Q824.169 1273.28 822.224 1270.61 Q820.303 1267.93 816.923 1267.93 Q813.544 1267.93 811.599 1270.61 Q809.678 1273.28 809.678 1277.98 Q809.678 1282.67 811.599 1285.36 Q813.544 1288.02 816.923 1288.02 Q820.303 1288.02 822.224 1285.36 Q824.169 1282.67 824.169 1277.98 Z\" fill=\"#000000\" fill-rule=\"evenodd\" fill-opacity=\"1\" /><path clip-path=\"url(#clip670)\" d=\"M839.863 1257.63 L839.863 1264.99 L848.636 1264.99 L848.636 1268.3 L839.863 1268.3 L839.863 1282.37 Q839.863 1285.54 840.719 1286.45 Q841.599 1287.35 844.261 1287.35 L848.636 1287.35 L848.636 1290.92 L844.261 1290.92 Q839.331 1290.92 837.456 1289.09 Q835.581 1287.23 835.581 1282.37 L835.581 1268.3 L832.456 1268.3 L832.456 1264.99 L835.581 1264.99 L835.581 1257.63 L839.863 1257.63 Z\" fill=\"#000000\" fill-rule=\"evenodd\" fill-opacity=\"1\" /><path clip-path=\"url(#clip670)\" d=\"M853.567 1254.94 L857.27 1254.94 Q860.743 1260.41 862.455 1265.64 Q864.192 1270.87 864.192 1276.03 Q864.192 1281.22 862.455 1286.47 Q860.743 1291.73 857.27 1297.17 L853.567 1297.17 Q856.645 1291.86 858.15 1286.63 Q859.678 1281.38 859.678 1276.03 Q859.678 1270.68 858.15 1265.48 Q856.645 1260.27 853.567 1254.94 Z\" fill=\"#000000\" fill-rule=\"evenodd\" fill-opacity=\"1\" /><path clip-path=\"url(#clip670)\" d=\"M909.353 1275.27 L909.353 1290.92 L905.094 1290.92 L905.094 1275.41 Q905.094 1271.73 903.659 1269.9 Q902.224 1268.07 899.353 1268.07 Q895.904 1268.07 893.914 1270.27 Q891.923 1272.47 891.923 1276.26 L891.923 1290.92 L887.641 1290.92 L887.641 1264.99 L891.923 1264.99 L891.923 1269.02 Q893.451 1266.68 895.511 1265.52 Q897.594 1264.36 900.303 1264.36 Q904.77 1264.36 907.062 1267.14 Q909.353 1269.9 909.353 1275.27 Z\" fill=\"#000000\" fill-rule=\"evenodd\" fill-opacity=\"1\" /><path clip-path=\"url(#clip670)\" d=\"M927.895 1267.98 Q924.469 1267.98 922.478 1270.66 Q920.488 1273.32 920.488 1277.98 Q920.488 1282.63 922.455 1285.31 Q924.446 1287.98 927.895 1287.98 Q931.298 1287.98 933.288 1285.29 Q935.279 1282.61 935.279 1277.98 Q935.279 1273.37 933.288 1270.68 Q931.298 1267.98 927.895 1267.98 M927.895 1264.36 Q933.45 1264.36 936.622 1267.98 Q939.793 1271.59 939.793 1277.98 Q939.793 1284.34 936.622 1287.98 Q933.45 1291.59 927.895 1291.59 Q922.316 1291.59 919.145 1287.98 Q915.997 1284.34 915.997 1277.98 Q915.997 1271.59 919.145 1267.98 Q922.316 1264.36 927.895 1264.36 Z\" fill=\"#000000\" fill-rule=\"evenodd\" fill-opacity=\"1\" /><path clip-path=\"url(#clip670)\" d=\"M965.464 1277.98 Q965.464 1273.28 963.52 1270.61 Q961.598 1267.93 958.219 1267.93 Q954.839 1267.93 952.895 1270.61 Q950.974 1273.28 950.974 1277.98 Q950.974 1282.67 952.895 1285.36 Q954.839 1288.02 958.219 1288.02 Q961.598 1288.02 963.52 1285.36 Q965.464 1282.67 965.464 1277.98 M950.974 1268.92 Q952.316 1266.61 954.353 1265.5 Q956.413 1264.36 959.261 1264.36 Q963.983 1264.36 966.923 1268.11 Q969.885 1271.86 969.885 1277.98 Q969.885 1284.09 966.923 1287.84 Q963.983 1291.59 959.261 1291.59 Q956.413 1291.59 954.353 1290.48 Q952.316 1289.34 950.974 1287.03 L950.974 1290.92 L946.691 1290.92 L946.691 1254.9 L950.974 1254.9 L950.974 1268.92 Z\" fill=\"#000000\" fill-rule=\"evenodd\" fill-opacity=\"1\" /><path clip-path=\"url(#clip670)\" d=\"M988.728 1277.88 Q983.566 1277.88 981.575 1279.06 Q979.584 1280.24 979.584 1283.09 Q979.584 1285.36 981.066 1286.7 Q982.571 1288.02 985.14 1288.02 Q988.682 1288.02 990.811 1285.52 Q992.964 1283 992.964 1278.83 L992.964 1277.88 L988.728 1277.88 M997.223 1276.12 L997.223 1290.92 L992.964 1290.92 L992.964 1286.98 Q991.506 1289.34 989.33 1290.48 Q987.154 1291.59 984.006 1291.59 Q980.024 1291.59 977.663 1289.36 Q975.325 1287.12 975.325 1283.37 Q975.325 1278.99 978.242 1276.77 Q981.182 1274.55 986.992 1274.55 L992.964 1274.55 L992.964 1274.13 Q992.964 1271.19 991.02 1269.6 Q989.098 1267.98 985.603 1267.98 Q983.381 1267.98 981.274 1268.51 Q979.168 1269.04 977.223 1270.11 L977.223 1266.17 Q979.561 1265.27 981.76 1264.83 Q983.959 1264.36 986.043 1264.36 Q991.668 1264.36 994.446 1267.28 Q997.223 1270.2 997.223 1276.12 Z\" fill=\"#000000\" fill-rule=\"evenodd\" fill-opacity=\"1\" /><path clip-path=\"url(#clip670)\" d=\"M1016.78 1293.32 Q1014.98 1297.95 1013.26 1299.36 Q1011.55 1300.78 1008.68 1300.78 L1005.28 1300.78 L1005.28 1297.21 L1007.78 1297.21 Q1009.54 1297.21 1010.51 1296.38 Q1011.48 1295.54 1012.66 1292.44 L1013.43 1290.5 L1002.94 1264.99 L1007.45 1264.99 L1015.56 1285.27 L1023.66 1264.99 L1028.17 1264.99 L1016.78 1293.32 Z\" fill=\"#000000\" fill-rule=\"evenodd\" fill-opacity=\"1\" /><path clip-path=\"url(#clip670)\" d=\"M1056.23 1276.89 L1056.23 1278.97 L1036.64 1278.97 Q1036.92 1283.37 1039.28 1285.68 Q1041.67 1287.98 1045.9 1287.98 Q1048.36 1287.98 1050.65 1287.37 Q1052.96 1286.77 1055.23 1285.57 L1055.23 1289.6 Q1052.94 1290.57 1050.53 1291.08 Q1048.13 1291.59 1045.65 1291.59 Q1039.45 1291.59 1035.81 1287.98 Q1032.2 1284.36 1032.2 1278.21 Q1032.2 1271.84 1035.63 1268.11 Q1039.07 1264.36 1044.91 1264.36 Q1050.14 1264.36 1053.17 1267.74 Q1056.23 1271.1 1056.23 1276.89 M1051.97 1275.64 Q1051.92 1272.14 1050 1270.06 Q1048.1 1267.98 1044.95 1267.98 Q1041.39 1267.98 1039.24 1269.99 Q1037.11 1272 1036.78 1275.66 L1051.97 1275.64 Z\" fill=\"#000000\" fill-rule=\"evenodd\" fill-opacity=\"1\" /><path clip-path=\"url(#clip670)\" d=\"M1079.75 1265.75 L1079.75 1269.78 Q1077.94 1268.86 1076 1268.39 Q1074.05 1267.93 1071.97 1267.93 Q1068.8 1267.93 1067.2 1268.9 Q1065.63 1269.87 1065.63 1271.82 Q1065.63 1273.3 1066.76 1274.16 Q1067.89 1274.99 1071.32 1275.75 L1072.78 1276.08 Q1077.32 1277.05 1079.21 1278.83 Q1081.13 1280.59 1081.13 1283.76 Q1081.13 1287.37 1078.26 1289.48 Q1075.42 1291.59 1070.42 1291.59 Q1068.33 1291.59 1066.07 1291.17 Q1063.82 1290.78 1061.32 1289.97 L1061.32 1285.57 Q1063.68 1286.79 1065.97 1287.42 Q1068.26 1288.02 1070.51 1288.02 Q1073.52 1288.02 1075.14 1287 Q1076.76 1285.96 1076.76 1284.09 Q1076.76 1282.35 1075.58 1281.42 Q1074.42 1280.5 1070.46 1279.64 L1068.98 1279.3 Q1065.02 1278.46 1063.26 1276.75 Q1061.51 1275.01 1061.51 1272 Q1061.51 1268.35 1064.1 1266.36 Q1066.69 1264.36 1071.46 1264.36 Q1073.82 1264.36 1075.9 1264.71 Q1077.99 1265.06 1079.75 1265.75 Z\" fill=\"#000000\" fill-rule=\"evenodd\" fill-opacity=\"1\" /><polyline clip-path=\"url(#clip670)\" style=\"stroke:#800080; stroke-linecap:round; stroke-linejoin:round; stroke-width:4; stroke-opacity:1; fill:none\" points=\"\n",
       "  275.484,1325.48 420.41,1325.48 \n",
       "  \"/>\n",
       "<path clip-path=\"url(#clip670)\" d=\"M444.564 1308.2 L449.24 1308.2 L449.24 1338.82 L466.069 1338.82 L466.069 1342.76 L444.564 1342.76 L444.564 1308.2 Z\" fill=\"#000000\" fill-rule=\"evenodd\" fill-opacity=\"1\" /><path clip-path=\"url(#clip670)\" d=\"M470.976 1308.2 L475.652 1308.2 L475.652 1338.82 L492.481 1338.82 L492.481 1342.76 L470.976 1342.76 L470.976 1308.2 Z\" fill=\"#000000\" fill-rule=\"evenodd\" fill-opacity=\"1\" /><path clip-path=\"url(#clip670)\" d=\"M516.902 1350.63 L516.902 1353.94 L492.272 1353.94 L492.272 1350.63 L516.902 1350.63 Z\" fill=\"#000000\" fill-rule=\"evenodd\" fill-opacity=\"1\" /><path clip-path=\"url(#clip670)\" d=\"M532.689 1329.72 Q527.527 1329.72 525.536 1330.9 Q523.545 1332.08 523.545 1334.93 Q523.545 1337.2 525.027 1338.54 Q526.531 1339.86 529.101 1339.86 Q532.642 1339.86 534.772 1337.36 Q536.925 1334.84 536.925 1330.67 L536.925 1329.72 L532.689 1329.72 M541.184 1327.96 L541.184 1342.76 L536.925 1342.76 L536.925 1338.82 Q535.467 1341.18 533.291 1342.32 Q531.115 1343.43 527.967 1343.43 Q523.985 1343.43 521.624 1341.2 Q519.286 1338.96 519.286 1335.21 Q519.286 1330.83 522.203 1328.61 Q525.142 1326.39 530.953 1326.39 L536.925 1326.39 L536.925 1325.97 Q536.925 1323.03 534.98 1321.44 Q533.059 1319.82 529.564 1319.82 Q527.342 1319.82 525.235 1320.35 Q523.129 1320.88 521.184 1321.95 L521.184 1318.01 Q523.522 1317.11 525.721 1316.67 Q527.92 1316.2 530.004 1316.2 Q535.629 1316.2 538.406 1319.12 Q541.184 1322.04 541.184 1327.96 Z\" fill=\"#000000\" fill-rule=\"evenodd\" fill-opacity=\"1\" /><path clip-path=\"url(#clip670)\" d=\"M549.957 1306.74 L554.216 1306.74 L554.216 1342.76 L549.957 1342.76 L549.957 1306.74 Z\" fill=\"#000000\" fill-rule=\"evenodd\" fill-opacity=\"1\" /><path clip-path=\"url(#clip670)\" d=\"M567.341 1309.47 L567.341 1316.83 L576.114 1316.83 L576.114 1320.14 L567.341 1320.14 L567.341 1334.21 Q567.341 1337.38 568.198 1338.29 Q569.077 1339.19 571.739 1339.19 L576.114 1339.19 L576.114 1342.76 L571.739 1342.76 Q566.809 1342.76 564.934 1340.93 Q563.059 1339.07 563.059 1334.21 L563.059 1320.14 L559.934 1320.14 L559.934 1316.83 L563.059 1316.83 L563.059 1309.47 L567.341 1309.47 Z\" fill=\"#000000\" fill-rule=\"evenodd\" fill-opacity=\"1\" /><path clip-path=\"url(#clip670)\" d=\"M607.017 1306.78 Q603.915 1312.11 602.411 1317.32 Q600.906 1322.52 600.906 1327.87 Q600.906 1333.22 602.411 1338.47 Q603.938 1343.7 607.017 1349.01 L603.313 1349.01 Q599.841 1343.57 598.105 1338.31 Q596.392 1333.06 596.392 1327.87 Q596.392 1322.71 598.105 1317.48 Q599.818 1312.25 603.313 1306.78 L607.017 1306.78 Z\" fill=\"#000000\" fill-rule=\"evenodd\" fill-opacity=\"1\" /><path clip-path=\"url(#clip670)\" d=\"M615.281 1316.83 L619.54 1316.83 L619.54 1342.76 L615.281 1342.76 L615.281 1316.83 M615.281 1306.74 L619.54 1306.74 L619.54 1312.13 L615.281 1312.13 L615.281 1306.74 Z\" fill=\"#000000\" fill-rule=\"evenodd\" fill-opacity=\"1\" /><path clip-path=\"url(#clip670)\" d=\"M650.003 1327.11 L650.003 1342.76 L645.744 1342.76 L645.744 1327.25 Q645.744 1323.57 644.309 1321.74 Q642.873 1319.91 640.003 1319.91 Q636.554 1319.91 634.563 1322.11 Q632.572 1324.31 632.572 1328.1 L632.572 1342.76 L628.29 1342.76 L628.29 1316.83 L632.572 1316.83 L632.572 1320.86 Q634.1 1318.52 636.16 1317.36 Q638.244 1316.2 640.952 1316.2 Q645.42 1316.2 647.711 1318.98 Q650.003 1321.74 650.003 1327.11 Z\" fill=\"#000000\" fill-rule=\"evenodd\" fill-opacity=\"1\" /><path clip-path=\"url(#clip670)\" d=\"M662.711 1309.47 L662.711 1316.83 L671.484 1316.83 L671.484 1320.14 L662.711 1320.14 L662.711 1334.21 Q662.711 1337.38 663.568 1338.29 Q664.447 1339.19 667.109 1339.19 L671.484 1339.19 L671.484 1342.76 L667.109 1342.76 Q662.179 1342.76 660.304 1340.93 Q658.429 1339.07 658.429 1334.21 L658.429 1320.14 L655.304 1320.14 L655.304 1316.83 L658.429 1316.83 L658.429 1309.47 L662.711 1309.47 Z\" fill=\"#000000\" fill-rule=\"evenodd\" fill-opacity=\"1\" /><path clip-path=\"url(#clip670)\" d=\"M699.262 1328.73 L699.262 1330.81 L679.679 1330.81 Q679.956 1335.21 682.318 1337.52 Q684.702 1339.82 688.938 1339.82 Q691.392 1339.82 693.683 1339.21 Q695.998 1338.61 698.267 1337.41 L698.267 1341.44 Q695.975 1342.41 693.568 1342.92 Q691.16 1343.43 688.683 1343.43 Q682.48 1343.43 678.845 1339.82 Q675.234 1336.2 675.234 1330.05 Q675.234 1323.68 678.66 1319.95 Q682.109 1316.2 687.943 1316.2 Q693.174 1316.2 696.206 1319.58 Q699.262 1322.94 699.262 1328.73 M695.003 1327.48 Q694.956 1323.98 693.035 1321.9 Q691.137 1319.82 687.989 1319.82 Q684.424 1319.82 682.271 1321.83 Q680.142 1323.84 679.818 1327.5 L695.003 1327.48 Z\" fill=\"#000000\" fill-rule=\"evenodd\" fill-opacity=\"1\" /><path clip-path=\"url(#clip670)\" d=\"M721.276 1320.81 Q720.558 1320.39 719.702 1320.21 Q718.868 1320 717.85 1320 Q714.239 1320 712.294 1322.36 Q710.373 1324.7 710.373 1329.1 L710.373 1342.76 L706.091 1342.76 L706.091 1316.83 L710.373 1316.83 L710.373 1320.86 Q711.716 1318.5 713.868 1317.36 Q716.021 1316.2 719.1 1316.2 Q719.54 1316.2 720.072 1316.27 Q720.604 1316.32 721.253 1316.44 L721.276 1320.81 Z\" fill=\"#000000\" fill-rule=\"evenodd\" fill-opacity=\"1\" /><path clip-path=\"url(#clip670)\" d=\"M743.359 1317.82 L743.359 1321.81 Q741.553 1320.81 739.725 1320.32 Q737.919 1319.82 736.067 1319.82 Q731.924 1319.82 729.632 1322.45 Q727.34 1325.07 727.34 1329.82 Q727.34 1334.56 729.632 1337.2 Q731.924 1339.82 736.067 1339.82 Q737.919 1339.82 739.725 1339.33 Q741.553 1338.82 743.359 1337.82 L743.359 1341.76 Q741.577 1342.59 739.655 1343.01 Q737.757 1343.43 735.604 1343.43 Q729.748 1343.43 726.299 1339.75 Q722.85 1336.07 722.85 1329.82 Q722.85 1323.47 726.322 1319.84 Q729.817 1316.2 735.882 1316.2 Q737.85 1316.2 739.725 1316.62 Q741.6 1317.01 743.359 1317.82 Z\" fill=\"#000000\" fill-rule=\"evenodd\" fill-opacity=\"1\" /><path clip-path=\"url(#clip670)\" d=\"M772.942 1328.73 L772.942 1330.81 L753.359 1330.81 Q753.637 1335.21 755.998 1337.52 Q758.382 1339.82 762.618 1339.82 Q765.072 1339.82 767.363 1339.21 Q769.678 1338.61 771.947 1337.41 L771.947 1341.44 Q769.655 1342.41 767.248 1342.92 Q764.84 1343.43 762.363 1343.43 Q756.16 1343.43 752.526 1339.82 Q748.914 1336.2 748.914 1330.05 Q748.914 1323.68 752.34 1319.95 Q755.789 1316.2 761.623 1316.2 Q766.854 1316.2 769.887 1319.58 Q772.942 1322.94 772.942 1328.73 M768.683 1327.48 Q768.637 1323.98 766.715 1321.9 Q764.817 1319.82 761.669 1319.82 Q758.104 1319.82 755.951 1321.83 Q753.822 1323.84 753.498 1327.5 L768.683 1327.48 Z\" fill=\"#000000\" fill-rule=\"evenodd\" fill-opacity=\"1\" /><path clip-path=\"url(#clip670)\" d=\"M784.053 1338.87 L784.053 1352.62 L779.771 1352.62 L779.771 1316.83 L784.053 1316.83 L784.053 1320.76 Q785.396 1318.45 787.433 1317.34 Q789.493 1316.2 792.34 1316.2 Q797.062 1316.2 800.002 1319.95 Q802.965 1323.7 802.965 1329.82 Q802.965 1335.93 800.002 1339.68 Q797.062 1343.43 792.34 1343.43 Q789.493 1343.43 787.433 1342.32 Q785.396 1341.18 784.053 1338.87 M798.544 1329.82 Q798.544 1325.12 796.599 1322.45 Q794.678 1319.77 791.298 1319.77 Q787.919 1319.77 785.974 1322.45 Q784.053 1325.12 784.053 1329.82 Q784.053 1334.51 785.974 1337.2 Q787.919 1339.86 791.298 1339.86 Q794.678 1339.86 796.599 1337.2 Q798.544 1334.51 798.544 1329.82 Z\" fill=\"#000000\" fill-rule=\"evenodd\" fill-opacity=\"1\" /><path clip-path=\"url(#clip670)\" d=\"M814.238 1309.47 L814.238 1316.83 L823.011 1316.83 L823.011 1320.14 L814.238 1320.14 L814.238 1334.21 Q814.238 1337.38 815.095 1338.29 Q815.974 1339.19 818.636 1339.19 L823.011 1339.19 L823.011 1342.76 L818.636 1342.76 Q813.706 1342.76 811.831 1340.93 Q809.956 1339.07 809.956 1334.21 L809.956 1320.14 L806.831 1320.14 L806.831 1316.83 L809.956 1316.83 L809.956 1309.47 L814.238 1309.47 Z\" fill=\"#000000\" fill-rule=\"evenodd\" fill-opacity=\"1\" /><path clip-path=\"url(#clip670)\" d=\"M845.951 1313.03 L845.951 1325.93 L858.844 1325.93 L858.844 1329.86 L845.951 1329.86 L845.951 1342.76 L842.062 1342.76 L842.062 1329.86 L829.169 1329.86 L829.169 1325.93 L842.062 1325.93 L842.062 1313.03 L845.951 1313.03 Z\" fill=\"#000000\" fill-rule=\"evenodd\" fill-opacity=\"1\" /><path clip-path=\"url(#clip670)\" d=\"M888.52 1321.81 Q890.117 1318.94 892.34 1317.57 Q894.562 1316.2 897.571 1316.2 Q901.622 1316.2 903.821 1319.05 Q906.02 1321.88 906.02 1327.11 L906.02 1342.76 L901.738 1342.76 L901.738 1327.25 Q901.738 1323.52 900.418 1321.71 Q899.099 1319.91 896.39 1319.91 Q893.08 1319.91 891.159 1322.11 Q889.238 1324.31 889.238 1328.1 L889.238 1342.76 L884.955 1342.76 L884.955 1327.25 Q884.955 1323.5 883.636 1321.71 Q882.316 1319.91 879.562 1319.91 Q876.298 1319.91 874.377 1322.13 Q872.455 1324.33 872.455 1328.1 L872.455 1342.76 L868.173 1342.76 L868.173 1316.83 L872.455 1316.83 L872.455 1320.86 Q873.914 1318.47 875.951 1317.34 Q877.988 1316.2 880.789 1316.2 Q883.613 1316.2 885.58 1317.64 Q887.571 1319.07 888.52 1321.81 Z\" fill=\"#000000\" fill-rule=\"evenodd\" fill-opacity=\"1\" /><path clip-path=\"url(#clip670)\" d=\"M926.298 1329.72 Q921.136 1329.72 919.145 1330.9 Q917.154 1332.08 917.154 1334.93 Q917.154 1337.2 918.636 1338.54 Q920.14 1339.86 922.71 1339.86 Q926.251 1339.86 928.381 1337.36 Q930.534 1334.84 930.534 1330.67 L930.534 1329.72 L926.298 1329.72 M934.793 1327.96 L934.793 1342.76 L930.534 1342.76 L930.534 1338.82 Q929.076 1341.18 926.9 1342.32 Q924.724 1343.43 921.576 1343.43 Q917.594 1343.43 915.233 1341.2 Q912.895 1338.96 912.895 1335.21 Q912.895 1330.83 915.812 1328.61 Q918.751 1326.39 924.562 1326.39 L930.534 1326.39 L930.534 1325.97 Q930.534 1323.03 928.589 1321.44 Q926.668 1319.82 923.173 1319.82 Q920.951 1319.82 918.844 1320.35 Q916.738 1320.88 914.793 1321.95 L914.793 1318.01 Q917.131 1317.11 919.33 1316.67 Q921.529 1316.2 923.613 1316.2 Q929.238 1316.2 932.015 1319.12 Q934.793 1322.04 934.793 1327.96 Z\" fill=\"#000000\" fill-rule=\"evenodd\" fill-opacity=\"1\" /><path clip-path=\"url(#clip670)\" d=\"M958.589 1320.81 Q957.872 1320.39 957.015 1320.21 Q956.182 1320 955.163 1320 Q951.552 1320 949.608 1322.36 Q947.687 1324.7 947.687 1329.1 L947.687 1342.76 L943.404 1342.76 L943.404 1316.83 L947.687 1316.83 L947.687 1320.86 Q949.029 1318.5 951.182 1317.36 Q953.335 1316.2 956.413 1316.2 Q956.853 1316.2 957.386 1316.27 Q957.918 1316.32 958.566 1316.44 L958.589 1320.81 Z\" fill=\"#000000\" fill-rule=\"evenodd\" fill-opacity=\"1\" /><path clip-path=\"url(#clip670)\" d=\"M962.895 1306.74 L967.177 1306.74 L967.177 1328.01 L979.885 1316.83 L985.325 1316.83 L971.575 1328.96 L985.904 1342.76 L980.348 1342.76 L967.177 1330.09 L967.177 1342.76 L962.895 1342.76 L962.895 1306.74 Z\" fill=\"#000000\" fill-rule=\"evenodd\" fill-opacity=\"1\" /><path clip-path=\"url(#clip670)\" d=\"M1011 1328.73 L1011 1330.81 L991.413 1330.81 Q991.691 1335.21 994.052 1337.52 Q996.436 1339.82 1000.67 1339.82 Q1003.13 1339.82 1005.42 1339.21 Q1007.73 1338.61 1010 1337.41 L1010 1341.44 Q1007.71 1342.41 1005.3 1342.92 Q1002.89 1343.43 1000.42 1343.43 Q994.214 1343.43 990.58 1339.82 Q986.969 1336.2 986.969 1330.05 Q986.969 1323.68 990.395 1319.95 Q993.844 1316.2 999.677 1316.2 Q1004.91 1316.2 1007.94 1319.58 Q1011 1322.94 1011 1328.73 M1006.74 1327.48 Q1006.69 1323.98 1004.77 1321.9 Q1002.87 1319.82 999.723 1319.82 Q996.158 1319.82 994.006 1321.83 Q991.876 1323.84 991.552 1327.5 L1006.74 1327.48 Z\" fill=\"#000000\" fill-rule=\"evenodd\" fill-opacity=\"1\" /><path clip-path=\"url(#clip670)\" d=\"M1033.01 1320.81 Q1032.29 1320.39 1031.44 1320.21 Q1030.6 1320 1029.58 1320 Q1025.97 1320 1024.03 1322.36 Q1022.11 1324.7 1022.11 1329.1 L1022.11 1342.76 L1017.83 1342.76 L1017.83 1316.83 L1022.11 1316.83 L1022.11 1320.86 Q1023.45 1318.5 1025.6 1317.36 Q1027.76 1316.2 1030.83 1316.2 Q1031.27 1316.2 1031.81 1316.27 Q1032.34 1316.32 1032.99 1316.44 L1033.01 1320.81 Z\" fill=\"#000000\" fill-rule=\"evenodd\" fill-opacity=\"1\" /><path clip-path=\"url(#clip670)\" d=\"M1057.18 1338.82 L1073.5 1338.82 L1073.5 1342.76 L1051.55 1342.76 L1051.55 1338.82 Q1054.21 1336.07 1058.8 1331.44 Q1063.4 1326.78 1064.58 1325.44 Q1066.83 1322.92 1067.71 1321.18 Q1068.61 1319.42 1068.61 1317.73 Q1068.61 1314.98 1066.67 1313.24 Q1064.75 1311.51 1061.64 1311.51 Q1059.45 1311.51 1056.99 1312.27 Q1054.56 1313.03 1051.78 1314.58 L1051.78 1309.86 Q1054.61 1308.73 1057.06 1308.15 Q1059.51 1307.57 1061.55 1307.57 Q1066.92 1307.57 1070.12 1310.26 Q1073.31 1312.94 1073.31 1317.43 Q1073.31 1319.56 1072.5 1321.48 Q1071.71 1323.38 1069.61 1325.97 Q1069.03 1326.64 1065.93 1329.86 Q1062.82 1333.06 1057.18 1338.82 Z\" fill=\"#000000\" fill-rule=\"evenodd\" fill-opacity=\"1\" /><path clip-path=\"url(#clip670)\" d=\"M1087.34 1338.82 L1103.66 1338.82 L1103.66 1342.76 L1081.71 1342.76 L1081.71 1338.82 Q1084.38 1336.07 1088.96 1331.44 Q1093.57 1326.78 1094.75 1325.44 Q1096.99 1322.92 1097.87 1321.18 Q1098.77 1319.42 1098.77 1317.73 Q1098.77 1314.98 1096.83 1313.24 Q1094.91 1311.51 1091.81 1311.51 Q1089.61 1311.51 1087.15 1312.27 Q1084.72 1313.03 1081.95 1314.58 L1081.95 1309.86 Q1084.77 1308.73 1087.22 1308.15 Q1089.68 1307.57 1091.71 1307.57 Q1097.08 1307.57 1100.28 1310.26 Q1103.47 1312.94 1103.47 1317.43 Q1103.47 1319.56 1102.66 1321.48 Q1101.88 1323.38 1099.77 1325.97 Q1099.19 1326.64 1096.09 1329.86 Q1092.99 1333.06 1087.34 1338.82 Z\" fill=\"#000000\" fill-rule=\"evenodd\" fill-opacity=\"1\" /><path clip-path=\"url(#clip670)\" d=\"M1113.61 1342.04 L1113.61 1337.78 Q1115.37 1338.61 1117.18 1339.05 Q1118.98 1339.49 1120.72 1339.49 Q1125.35 1339.49 1127.78 1336.39 Q1130.23 1333.26 1130.58 1326.92 Q1129.24 1328.91 1127.18 1329.98 Q1125.12 1331.04 1122.62 1331.04 Q1117.43 1331.04 1114.4 1327.92 Q1111.39 1324.77 1111.39 1319.33 Q1111.39 1314.01 1114.54 1310.79 Q1117.69 1307.57 1122.92 1307.57 Q1128.91 1307.57 1132.06 1312.18 Q1135.23 1316.76 1135.23 1325.51 Q1135.23 1333.68 1131.34 1338.57 Q1127.48 1343.43 1120.93 1343.43 Q1119.17 1343.43 1117.36 1343.08 Q1115.56 1342.73 1113.61 1342.04 M1122.92 1327.39 Q1126.07 1327.39 1127.89 1325.23 Q1129.75 1323.08 1129.75 1319.33 Q1129.75 1315.6 1127.89 1313.45 Q1126.07 1311.27 1122.92 1311.27 Q1119.77 1311.27 1117.92 1313.45 Q1116.09 1315.6 1116.09 1319.33 Q1116.09 1323.08 1117.92 1325.23 Q1119.77 1327.39 1122.92 1327.39 Z\" fill=\"#000000\" fill-rule=\"evenodd\" fill-opacity=\"1\" /><path clip-path=\"url(#clip670)\" d=\"M1142.36 1306.78 L1146.07 1306.78 Q1149.54 1312.25 1151.25 1317.48 Q1152.99 1322.71 1152.99 1327.87 Q1152.99 1333.06 1151.25 1338.31 Q1149.54 1343.57 1146.07 1349.01 L1142.36 1349.01 Q1145.44 1343.7 1146.94 1338.47 Q1148.47 1333.22 1148.47 1327.87 Q1148.47 1322.52 1146.94 1317.32 Q1145.44 1312.11 1142.36 1306.78 Z\" fill=\"#000000\" fill-rule=\"evenodd\" fill-opacity=\"1\" /><path clip-path=\"url(#clip670)\" d=\"M1198.15 1327.11 L1198.15 1342.76 L1193.89 1342.76 L1193.89 1327.25 Q1193.89 1323.57 1192.45 1321.74 Q1191.02 1319.91 1188.15 1319.91 Q1184.7 1319.91 1182.71 1322.11 Q1180.72 1324.31 1180.72 1328.1 L1180.72 1342.76 L1176.44 1342.76 L1176.44 1316.83 L1180.72 1316.83 L1180.72 1320.86 Q1182.25 1318.52 1184.31 1317.36 Q1186.39 1316.2 1189.1 1316.2 Q1193.56 1316.2 1195.86 1318.98 Q1198.15 1321.74 1198.15 1327.11 Z\" fill=\"#000000\" fill-rule=\"evenodd\" fill-opacity=\"1\" /><path clip-path=\"url(#clip670)\" d=\"M1216.69 1319.82 Q1213.26 1319.82 1211.27 1322.5 Q1209.28 1325.16 1209.28 1329.82 Q1209.28 1334.47 1211.25 1337.15 Q1213.24 1339.82 1216.69 1339.82 Q1220.09 1339.82 1222.08 1337.13 Q1224.07 1334.45 1224.07 1329.82 Q1224.07 1325.21 1222.08 1322.52 Q1220.09 1319.82 1216.69 1319.82 M1216.69 1316.2 Q1222.25 1316.2 1225.42 1319.82 Q1228.59 1323.43 1228.59 1329.82 Q1228.59 1336.18 1225.42 1339.82 Q1222.25 1343.43 1216.69 1343.43 Q1211.11 1343.43 1207.94 1339.82 Q1204.79 1336.18 1204.79 1329.82 Q1204.79 1323.43 1207.94 1319.82 Q1211.11 1316.2 1216.69 1316.2 Z\" fill=\"#000000\" fill-rule=\"evenodd\" fill-opacity=\"1\" /><path clip-path=\"url(#clip670)\" d=\"M1254.26 1329.82 Q1254.26 1325.12 1252.31 1322.45 Q1250.39 1319.77 1247.01 1319.77 Q1243.63 1319.77 1241.69 1322.45 Q1239.77 1325.12 1239.77 1329.82 Q1239.77 1334.51 1241.69 1337.2 Q1243.63 1339.86 1247.01 1339.86 Q1250.39 1339.86 1252.31 1337.2 Q1254.26 1334.51 1254.26 1329.82 M1239.77 1320.76 Q1241.11 1318.45 1243.15 1317.34 Q1245.21 1316.2 1248.06 1316.2 Q1252.78 1316.2 1255.72 1319.95 Q1258.68 1323.7 1258.68 1329.82 Q1258.68 1335.93 1255.72 1339.68 Q1252.78 1343.43 1248.06 1343.43 Q1245.21 1343.43 1243.15 1342.32 Q1241.11 1341.18 1239.77 1338.87 L1239.77 1342.76 L1235.49 1342.76 L1235.49 1306.74 L1239.77 1306.74 L1239.77 1320.76 Z\" fill=\"#000000\" fill-rule=\"evenodd\" fill-opacity=\"1\" /><path clip-path=\"url(#clip670)\" d=\"M1277.52 1329.72 Q1272.36 1329.72 1270.37 1330.9 Q1268.38 1332.08 1268.38 1334.93 Q1268.38 1337.2 1269.86 1338.54 Q1271.37 1339.86 1273.93 1339.86 Q1277.48 1339.86 1279.61 1337.36 Q1281.76 1334.84 1281.76 1330.67 L1281.76 1329.72 L1277.52 1329.72 M1286.02 1327.96 L1286.02 1342.76 L1281.76 1342.76 L1281.76 1338.82 Q1280.3 1341.18 1278.12 1342.32 Q1275.95 1343.43 1272.8 1343.43 Q1268.82 1343.43 1266.46 1341.2 Q1264.12 1338.96 1264.12 1335.21 Q1264.12 1330.83 1267.04 1328.61 Q1269.98 1326.39 1275.79 1326.39 L1281.76 1326.39 L1281.76 1325.97 Q1281.76 1323.03 1279.81 1321.44 Q1277.89 1319.82 1274.4 1319.82 Q1272.18 1319.82 1270.07 1320.35 Q1267.96 1320.88 1266.02 1321.95 L1266.02 1318.01 Q1268.36 1317.11 1270.56 1316.67 Q1272.75 1316.2 1274.84 1316.2 Q1280.46 1316.2 1283.24 1319.12 Q1286.02 1322.04 1286.02 1327.96 Z\" fill=\"#000000\" fill-rule=\"evenodd\" fill-opacity=\"1\" /><path clip-path=\"url(#clip670)\" d=\"M1305.58 1345.16 Q1303.77 1349.79 1302.06 1351.2 Q1300.35 1352.62 1297.48 1352.62 L1294.07 1352.62 L1294.07 1349.05 L1296.57 1349.05 Q1298.33 1349.05 1299.31 1348.22 Q1300.28 1347.38 1301.46 1344.28 L1302.22 1342.34 L1291.74 1316.83 L1296.25 1316.83 L1304.35 1337.11 L1312.45 1316.83 L1316.97 1316.83 L1305.58 1345.16 Z\" fill=\"#000000\" fill-rule=\"evenodd\" fill-opacity=\"1\" /><path clip-path=\"url(#clip670)\" d=\"M1345.02 1328.73 L1345.02 1330.81 L1325.44 1330.81 Q1325.72 1335.21 1328.08 1337.52 Q1330.46 1339.82 1334.7 1339.82 Q1337.15 1339.82 1339.44 1339.21 Q1341.76 1338.61 1344.03 1337.41 L1344.03 1341.44 Q1341.74 1342.41 1339.33 1342.92 Q1336.92 1343.43 1334.44 1343.43 Q1328.24 1343.43 1324.61 1339.82 Q1320.99 1336.2 1320.99 1330.05 Q1320.99 1323.68 1324.42 1319.95 Q1327.87 1316.2 1333.7 1316.2 Q1338.93 1316.2 1341.97 1319.58 Q1345.02 1322.94 1345.02 1328.73 M1340.76 1327.48 Q1340.72 1323.98 1338.8 1321.9 Q1336.9 1319.82 1333.75 1319.82 Q1330.18 1319.82 1328.03 1321.83 Q1325.9 1323.84 1325.58 1327.5 L1340.76 1327.48 Z\" fill=\"#000000\" fill-rule=\"evenodd\" fill-opacity=\"1\" /><path clip-path=\"url(#clip670)\" d=\"M1368.54 1317.59 L1368.54 1321.62 Q1366.74 1320.7 1364.79 1320.23 Q1362.85 1319.77 1360.76 1319.77 Q1357.59 1319.77 1355.99 1320.74 Q1354.42 1321.71 1354.42 1323.66 Q1354.42 1325.14 1355.55 1326 Q1356.69 1326.83 1360.11 1327.59 L1361.57 1327.92 Q1366.11 1328.89 1368.01 1330.67 Q1369.93 1332.43 1369.93 1335.6 Q1369.93 1339.21 1367.06 1341.32 Q1364.21 1343.43 1359.21 1343.43 Q1357.13 1343.43 1354.86 1343.01 Q1352.61 1342.62 1350.11 1341.81 L1350.11 1337.41 Q1352.48 1338.63 1354.77 1339.26 Q1357.06 1339.86 1359.3 1339.86 Q1362.31 1339.86 1363.93 1338.84 Q1365.55 1337.8 1365.55 1335.93 Q1365.55 1334.19 1364.37 1333.26 Q1363.22 1332.34 1359.26 1331.48 L1357.78 1331.14 Q1353.82 1330.3 1352.06 1328.59 Q1350.3 1326.85 1350.3 1323.84 Q1350.3 1320.19 1352.89 1318.2 Q1355.49 1316.2 1360.25 1316.2 Q1362.61 1316.2 1364.7 1316.55 Q1366.78 1316.9 1368.54 1317.59 Z\" fill=\"#000000\" fill-rule=\"evenodd\" fill-opacity=\"1\" /></svg>\n"
      ]
     },
     "execution_count": 1253,
     "metadata": {},
     "output_type": "execute_result"
    }
   ],
   "source": [
    "plot(hsqs, full_results[3], color = \"blue\", label = \"LL_null (intercept)\", xlabel = \"h2\", legend =:bottomleft)\n",
    "plot!(hsqs, full_results[4], color = \"red\", label = \"LL_alt (intercept+marker 229)\")\n",
    "plot!(hsqs, full_results[1], color = \"green\", label = \"LL_null (intercept) nobayes\")\n",
    "plot!(hsqs, full_results[2], color = \"purple\", label = \"LL_alt (intercept+marker 229) nobayes\")\n",
    "# scatter!([hsq_from_null_b], [full_results[3][Int(floor(hsq_from_null_b*100))]], color = \"blue\", label = \"maximum_null\")\n",
    "# scatter!([hsqs_from_alt_b[229]], [full_results[4][Int(floor(hsqs_from_alt_b[229]*100))]], color = \"red\", label = \"maximum_alt\")"
   ]
  },
  {
   "cell_type": "code",
   "execution_count": 1166,
   "id": "00682e38-791c-4e3d-9fc8-1accc95a8644",
   "metadata": {},
   "outputs": [
    {
     "data": {
      "image/svg+xml": [
       "<?xml version=\"1.0\" encoding=\"utf-8\"?>\n",
       "<svg xmlns=\"http://www.w3.org/2000/svg\" xmlns:xlink=\"http://www.w3.org/1999/xlink\" width=\"600\" height=\"400\" viewBox=\"0 0 2400 1600\">\n",
       "<defs>\n",
       "  <clipPath id=\"clip870\">\n",
       "    <rect x=\"0\" y=\"0\" width=\"2400\" height=\"1600\"/>\n",
       "  </clipPath>\n",
       "</defs>\n",
       "<path clip-path=\"url(#clip870)\" d=\"\n",
       "M0 1600 L2400 1600 L2400 0 L0 0  Z\n",
       "  \" fill=\"#ffffff\" fill-rule=\"evenodd\" fill-opacity=\"1\"/>\n",
       "<defs>\n",
       "  <clipPath id=\"clip871\">\n",
       "    <rect x=\"480\" y=\"0\" width=\"1681\" height=\"1600\"/>\n",
       "  </clipPath>\n",
       "</defs>\n",
       "<path clip-path=\"url(#clip870)\" d=\"\n",
       "M169.121 1486.45 L2352.76 1486.45 L2352.76 47.2441 L169.121 47.2441  Z\n",
       "  \" fill=\"#ffffff\" fill-rule=\"evenodd\" fill-opacity=\"1\"/>\n",
       "<defs>\n",
       "  <clipPath id=\"clip872\">\n",
       "    <rect x=\"169\" y=\"47\" width=\"2185\" height=\"1440\"/>\n",
       "  </clipPath>\n",
       "</defs>\n",
       "<polyline clip-path=\"url(#clip872)\" style=\"stroke:#000000; stroke-linecap:round; stroke-linejoin:round; stroke-width:2; stroke-opacity:0.1; fill:none\" points=\"\n",
       "  289.225,1486.45 289.225,47.2441 \n",
       "  \"/>\n",
       "<polyline clip-path=\"url(#clip872)\" style=\"stroke:#000000; stroke-linecap:round; stroke-linejoin:round; stroke-width:2; stroke-opacity:0.1; fill:none\" points=\"\n",
       "  677.911,1486.45 677.911,47.2441 \n",
       "  \"/>\n",
       "<polyline clip-path=\"url(#clip872)\" style=\"stroke:#000000; stroke-linecap:round; stroke-linejoin:round; stroke-width:2; stroke-opacity:0.1; fill:none\" points=\"\n",
       "  1066.6,1486.45 1066.6,47.2441 \n",
       "  \"/>\n",
       "<polyline clip-path=\"url(#clip872)\" style=\"stroke:#000000; stroke-linecap:round; stroke-linejoin:round; stroke-width:2; stroke-opacity:0.1; fill:none\" points=\"\n",
       "  1455.28,1486.45 1455.28,47.2441 \n",
       "  \"/>\n",
       "<polyline clip-path=\"url(#clip872)\" style=\"stroke:#000000; stroke-linecap:round; stroke-linejoin:round; stroke-width:2; stroke-opacity:0.1; fill:none\" points=\"\n",
       "  1843.97,1486.45 1843.97,47.2441 \n",
       "  \"/>\n",
       "<polyline clip-path=\"url(#clip872)\" style=\"stroke:#000000; stroke-linecap:round; stroke-linejoin:round; stroke-width:2; stroke-opacity:0.1; fill:none\" points=\"\n",
       "  2232.65,1486.45 2232.65,47.2441 \n",
       "  \"/>\n",
       "<polyline clip-path=\"url(#clip870)\" style=\"stroke:#000000; stroke-linecap:round; stroke-linejoin:round; stroke-width:4; stroke-opacity:1; fill:none\" points=\"\n",
       "  169.121,1486.45 2352.76,1486.45 \n",
       "  \"/>\n",
       "<polyline clip-path=\"url(#clip870)\" style=\"stroke:#000000; stroke-linecap:round; stroke-linejoin:round; stroke-width:4; stroke-opacity:1; fill:none\" points=\"\n",
       "  289.225,1486.45 289.225,1467.55 \n",
       "  \"/>\n",
       "<polyline clip-path=\"url(#clip870)\" style=\"stroke:#000000; stroke-linecap:round; stroke-linejoin:round; stroke-width:4; stroke-opacity:1; fill:none\" points=\"\n",
       "  677.911,1486.45 677.911,1467.55 \n",
       "  \"/>\n",
       "<polyline clip-path=\"url(#clip870)\" style=\"stroke:#000000; stroke-linecap:round; stroke-linejoin:round; stroke-width:4; stroke-opacity:1; fill:none\" points=\"\n",
       "  1066.6,1486.45 1066.6,1467.55 \n",
       "  \"/>\n",
       "<polyline clip-path=\"url(#clip870)\" style=\"stroke:#000000; stroke-linecap:round; stroke-linejoin:round; stroke-width:4; stroke-opacity:1; fill:none\" points=\"\n",
       "  1455.28,1486.45 1455.28,1467.55 \n",
       "  \"/>\n",
       "<polyline clip-path=\"url(#clip870)\" style=\"stroke:#000000; stroke-linecap:round; stroke-linejoin:round; stroke-width:4; stroke-opacity:1; fill:none\" points=\"\n",
       "  1843.97,1486.45 1843.97,1467.55 \n",
       "  \"/>\n",
       "<polyline clip-path=\"url(#clip870)\" style=\"stroke:#000000; stroke-linecap:round; stroke-linejoin:round; stroke-width:4; stroke-opacity:1; fill:none\" points=\"\n",
       "  2232.65,1486.45 2232.65,1467.55 \n",
       "  \"/>\n",
       "<path clip-path=\"url(#clip870)\" d=\"M267.107 1517.37 Q263.496 1517.37 261.667 1520.93 Q259.862 1524.47 259.862 1531.6 Q259.862 1538.71 261.667 1542.27 Q263.496 1545.82 267.107 1545.82 Q270.741 1545.82 272.547 1542.27 Q274.376 1538.71 274.376 1531.6 Q274.376 1524.47 272.547 1520.93 Q270.741 1517.37 267.107 1517.37 M267.107 1513.66 Q272.917 1513.66 275.973 1518.27 Q279.052 1522.85 279.052 1531.6 Q279.052 1540.33 275.973 1544.94 Q272.917 1549.52 267.107 1549.52 Q261.297 1549.52 258.218 1544.94 Q255.163 1540.33 255.163 1531.6 Q255.163 1522.85 258.218 1518.27 Q261.297 1513.66 267.107 1513.66 Z\" fill=\"#000000\" fill-rule=\"evenodd\" fill-opacity=\"1\" /><path clip-path=\"url(#clip870)\" d=\"M287.269 1542.97 L292.153 1542.97 L292.153 1548.85 L287.269 1548.85 L287.269 1542.97 Z\" fill=\"#000000\" fill-rule=\"evenodd\" fill-opacity=\"1\" /><path clip-path=\"url(#clip870)\" d=\"M302.385 1514.29 L320.741 1514.29 L320.741 1518.22 L306.667 1518.22 L306.667 1526.7 Q307.686 1526.35 308.704 1526.19 Q309.723 1526 310.741 1526 Q316.528 1526 319.908 1529.17 Q323.287 1532.34 323.287 1537.76 Q323.287 1543.34 319.815 1546.44 Q316.343 1549.52 310.024 1549.52 Q307.848 1549.52 305.579 1549.15 Q303.334 1548.78 300.926 1548.04 L300.926 1543.34 Q303.01 1544.47 305.232 1545.03 Q307.454 1545.58 309.931 1545.58 Q313.936 1545.58 316.274 1543.48 Q318.612 1541.37 318.612 1537.76 Q318.612 1534.15 316.274 1532.04 Q313.936 1529.94 309.931 1529.94 Q308.056 1529.94 306.181 1530.35 Q304.329 1530.77 302.385 1531.65 L302.385 1514.29 Z\" fill=\"#000000\" fill-rule=\"evenodd\" fill-opacity=\"1\" /><path clip-path=\"url(#clip870)\" d=\"M655.214 1517.37 Q651.603 1517.37 649.774 1520.93 Q647.969 1524.47 647.969 1531.6 Q647.969 1538.71 649.774 1542.27 Q651.603 1545.82 655.214 1545.82 Q658.848 1545.82 660.654 1542.27 Q662.482 1538.71 662.482 1531.6 Q662.482 1524.47 660.654 1520.93 Q658.848 1517.37 655.214 1517.37 M655.214 1513.66 Q661.024 1513.66 664.08 1518.27 Q667.158 1522.85 667.158 1531.6 Q667.158 1540.33 664.08 1544.94 Q661.024 1549.52 655.214 1549.52 Q649.404 1549.52 646.325 1544.94 Q643.269 1540.33 643.269 1531.6 Q643.269 1522.85 646.325 1518.27 Q649.404 1513.66 655.214 1513.66 Z\" fill=\"#000000\" fill-rule=\"evenodd\" fill-opacity=\"1\" /><path clip-path=\"url(#clip870)\" d=\"M675.376 1542.97 L680.26 1542.97 L680.26 1548.85 L675.376 1548.85 L675.376 1542.97 Z\" fill=\"#000000\" fill-rule=\"evenodd\" fill-opacity=\"1\" /><path clip-path=\"url(#clip870)\" d=\"M701.024 1529.7 Q697.876 1529.7 696.024 1531.86 Q694.195 1534.01 694.195 1537.76 Q694.195 1541.49 696.024 1543.66 Q697.876 1545.82 701.024 1545.82 Q704.172 1545.82 706.001 1543.66 Q707.852 1541.49 707.852 1537.76 Q707.852 1534.01 706.001 1531.86 Q704.172 1529.7 701.024 1529.7 M710.306 1515.05 L710.306 1519.31 Q708.547 1518.48 706.741 1518.04 Q704.959 1517.6 703.2 1517.6 Q698.57 1517.6 696.116 1520.72 Q693.686 1523.85 693.339 1530.17 Q694.704 1528.15 696.765 1527.09 Q698.825 1526 701.302 1526 Q706.51 1526 709.519 1529.17 Q712.552 1532.32 712.552 1537.76 Q712.552 1543.08 709.403 1546.3 Q706.255 1549.52 701.024 1549.52 Q695.028 1549.52 691.857 1544.94 Q688.686 1540.33 688.686 1531.6 Q688.686 1523.41 692.575 1518.55 Q696.464 1513.66 703.015 1513.66 Q704.774 1513.66 706.556 1514.01 Q708.362 1514.36 710.306 1515.05 Z\" fill=\"#000000\" fill-rule=\"evenodd\" fill-opacity=\"1\" /><path clip-path=\"url(#clip870)\" d=\"M1044.43 1517.37 Q1040.82 1517.37 1038.99 1520.93 Q1037.19 1524.47 1037.19 1531.6 Q1037.19 1538.71 1038.99 1542.27 Q1040.82 1545.82 1044.43 1545.82 Q1048.07 1545.82 1049.87 1542.27 Q1051.7 1538.71 1051.7 1531.6 Q1051.7 1524.47 1049.87 1520.93 Q1048.07 1517.37 1044.43 1517.37 M1044.43 1513.66 Q1050.24 1513.66 1053.3 1518.27 Q1056.38 1522.85 1056.38 1531.6 Q1056.38 1540.33 1053.3 1544.94 Q1050.24 1549.52 1044.43 1549.52 Q1038.62 1549.52 1035.54 1544.94 Q1032.49 1540.33 1032.49 1531.6 Q1032.49 1522.85 1035.54 1518.27 Q1038.62 1513.66 1044.43 1513.66 Z\" fill=\"#000000\" fill-rule=\"evenodd\" fill-opacity=\"1\" /><path clip-path=\"url(#clip870)\" d=\"M1064.59 1542.97 L1069.48 1542.97 L1069.48 1548.85 L1064.59 1548.85 L1064.59 1542.97 Z\" fill=\"#000000\" fill-rule=\"evenodd\" fill-opacity=\"1\" /><path clip-path=\"url(#clip870)\" d=\"M1078.48 1514.29 L1100.7 1514.29 L1100.7 1516.28 L1088.16 1548.85 L1083.27 1548.85 L1095.08 1518.22 L1078.48 1518.22 L1078.48 1514.29 Z\" fill=\"#000000\" fill-rule=\"evenodd\" fill-opacity=\"1\" /><path clip-path=\"url(#clip870)\" d=\"M1432.71 1517.37 Q1429.1 1517.37 1427.27 1520.93 Q1425.47 1524.47 1425.47 1531.6 Q1425.47 1538.71 1427.27 1542.27 Q1429.1 1545.82 1432.71 1545.82 Q1436.35 1545.82 1438.15 1542.27 Q1439.98 1538.71 1439.98 1531.6 Q1439.98 1524.47 1438.15 1520.93 Q1436.35 1517.37 1432.71 1517.37 M1432.71 1513.66 Q1438.52 1513.66 1441.58 1518.27 Q1444.66 1522.85 1444.66 1531.6 Q1444.66 1540.33 1441.58 1544.94 Q1438.52 1549.52 1432.71 1549.52 Q1426.9 1549.52 1423.82 1544.94 Q1420.77 1540.33 1420.77 1531.6 Q1420.77 1522.85 1423.82 1518.27 Q1426.9 1513.66 1432.71 1513.66 Z\" fill=\"#000000\" fill-rule=\"evenodd\" fill-opacity=\"1\" /><path clip-path=\"url(#clip870)\" d=\"M1452.87 1542.97 L1457.76 1542.97 L1457.76 1548.85 L1452.87 1548.85 L1452.87 1542.97 Z\" fill=\"#000000\" fill-rule=\"evenodd\" fill-opacity=\"1\" /><path clip-path=\"url(#clip870)\" d=\"M1477.94 1532.44 Q1474.61 1532.44 1472.69 1534.22 Q1470.79 1536 1470.79 1539.13 Q1470.79 1542.25 1472.69 1544.03 Q1474.61 1545.82 1477.94 1545.82 Q1481.28 1545.82 1483.2 1544.03 Q1485.12 1542.23 1485.12 1539.13 Q1485.12 1536 1483.2 1534.22 Q1481.3 1532.44 1477.94 1532.44 M1473.27 1530.45 Q1470.26 1529.7 1468.57 1527.64 Q1466.9 1525.58 1466.9 1522.62 Q1466.9 1518.48 1469.84 1516.07 Q1472.8 1513.66 1477.94 1513.66 Q1483.11 1513.66 1486.05 1516.07 Q1488.98 1518.48 1488.98 1522.62 Q1488.98 1525.58 1487.3 1527.64 Q1485.63 1529.7 1482.64 1530.45 Q1486.02 1531.23 1487.9 1533.52 Q1489.8 1535.82 1489.8 1539.13 Q1489.8 1544.15 1486.72 1546.83 Q1483.66 1549.52 1477.94 1549.52 Q1472.23 1549.52 1469.15 1546.83 Q1466.09 1544.15 1466.09 1539.13 Q1466.09 1535.82 1467.99 1533.52 Q1469.89 1531.23 1473.27 1530.45 M1471.55 1523.06 Q1471.55 1525.75 1473.22 1527.25 Q1474.91 1528.76 1477.94 1528.76 Q1480.95 1528.76 1482.64 1527.25 Q1484.36 1525.75 1484.36 1523.06 Q1484.36 1520.38 1482.64 1518.87 Q1480.95 1517.37 1477.94 1517.37 Q1474.91 1517.37 1473.22 1518.87 Q1471.55 1520.38 1471.55 1523.06 Z\" fill=\"#000000\" fill-rule=\"evenodd\" fill-opacity=\"1\" /><path clip-path=\"url(#clip870)\" d=\"M1821.44 1517.37 Q1817.83 1517.37 1816 1520.93 Q1814.2 1524.47 1814.2 1531.6 Q1814.2 1538.71 1816 1542.27 Q1817.83 1545.82 1821.44 1545.82 Q1825.08 1545.82 1826.88 1542.27 Q1828.71 1538.71 1828.71 1531.6 Q1828.71 1524.47 1826.88 1520.93 Q1825.08 1517.37 1821.44 1517.37 M1821.44 1513.66 Q1827.25 1513.66 1830.31 1518.27 Q1833.39 1522.85 1833.39 1531.6 Q1833.39 1540.33 1830.31 1544.94 Q1827.25 1549.52 1821.44 1549.52 Q1815.63 1549.52 1812.55 1544.94 Q1809.5 1540.33 1809.5 1531.6 Q1809.5 1522.85 1812.55 1518.27 Q1815.63 1513.66 1821.44 1513.66 Z\" fill=\"#000000\" fill-rule=\"evenodd\" fill-opacity=\"1\" /><path clip-path=\"url(#clip870)\" d=\"M1841.61 1542.97 L1846.49 1542.97 L1846.49 1548.85 L1841.61 1548.85 L1841.61 1542.97 Z\" fill=\"#000000\" fill-rule=\"evenodd\" fill-opacity=\"1\" /><path clip-path=\"url(#clip870)\" d=\"M1856.81 1548.13 L1856.81 1543.87 Q1858.57 1544.7 1860.38 1545.14 Q1862.18 1545.58 1863.92 1545.58 Q1868.55 1545.58 1870.98 1542.48 Q1873.43 1539.36 1873.78 1533.01 Q1872.44 1535.01 1870.38 1536.07 Q1868.32 1537.13 1865.82 1537.13 Q1860.63 1537.13 1857.6 1534.01 Q1854.59 1530.86 1854.59 1525.42 Q1854.59 1520.1 1857.74 1516.88 Q1860.89 1513.66 1866.12 1513.66 Q1872.11 1513.66 1875.26 1518.27 Q1878.43 1522.85 1878.43 1531.6 Q1878.43 1539.77 1874.55 1544.66 Q1870.68 1549.52 1864.13 1549.52 Q1862.37 1549.52 1860.56 1549.17 Q1858.76 1548.82 1856.81 1548.13 M1866.12 1533.48 Q1869.27 1533.48 1871.1 1531.32 Q1872.95 1529.17 1872.95 1525.42 Q1872.95 1521.7 1871.1 1519.54 Q1869.27 1517.37 1866.12 1517.37 Q1862.97 1517.37 1861.12 1519.54 Q1859.29 1521.7 1859.29 1525.42 Q1859.29 1529.17 1861.12 1531.32 Q1862.97 1533.48 1866.12 1533.48 Z\" fill=\"#000000\" fill-rule=\"evenodd\" fill-opacity=\"1\" /><path clip-path=\"url(#clip870)\" d=\"M2199.81 1544.91 L2207.44 1544.91 L2207.44 1518.55 L2199.13 1520.21 L2199.13 1515.95 L2207.4 1514.29 L2212.07 1514.29 L2212.07 1544.91 L2219.71 1544.91 L2219.71 1548.85 L2199.81 1548.85 L2199.81 1544.91 Z\" fill=\"#000000\" fill-rule=\"evenodd\" fill-opacity=\"1\" /><path clip-path=\"url(#clip870)\" d=\"M2229.16 1542.97 L2234.04 1542.97 L2234.04 1548.85 L2229.16 1548.85 L2229.16 1542.97 Z\" fill=\"#000000\" fill-rule=\"evenodd\" fill-opacity=\"1\" /><path clip-path=\"url(#clip870)\" d=\"M2254.23 1517.37 Q2250.61 1517.37 2248.79 1520.93 Q2246.98 1524.47 2246.98 1531.6 Q2246.98 1538.71 2248.79 1542.27 Q2250.61 1545.82 2254.23 1545.82 Q2257.86 1545.82 2259.67 1542.27 Q2261.49 1538.71 2261.49 1531.6 Q2261.49 1524.47 2259.67 1520.93 Q2257.86 1517.37 2254.23 1517.37 M2254.23 1513.66 Q2260.04 1513.66 2263.09 1518.27 Q2266.17 1522.85 2266.17 1531.6 Q2266.17 1540.33 2263.09 1544.94 Q2260.04 1549.52 2254.23 1549.52 Q2248.42 1549.52 2245.34 1544.94 Q2242.28 1540.33 2242.28 1531.6 Q2242.28 1522.85 2245.34 1518.27 Q2248.42 1513.66 2254.23 1513.66 Z\" fill=\"#000000\" fill-rule=\"evenodd\" fill-opacity=\"1\" /><polyline clip-path=\"url(#clip872)\" style=\"stroke:#000000; stroke-linecap:round; stroke-linejoin:round; stroke-width:2; stroke-opacity:0.1; fill:none\" points=\"\n",
       "  169.121,1445.72 2352.76,1445.72 \n",
       "  \"/>\n",
       "<polyline clip-path=\"url(#clip872)\" style=\"stroke:#000000; stroke-linecap:round; stroke-linejoin:round; stroke-width:2; stroke-opacity:0.1; fill:none\" points=\"\n",
       "  169.121,1155.6 2352.76,1155.6 \n",
       "  \"/>\n",
       "<polyline clip-path=\"url(#clip872)\" style=\"stroke:#000000; stroke-linecap:round; stroke-linejoin:round; stroke-width:2; stroke-opacity:0.1; fill:none\" points=\"\n",
       "  169.121,865.485 2352.76,865.485 \n",
       "  \"/>\n",
       "<polyline clip-path=\"url(#clip872)\" style=\"stroke:#000000; stroke-linecap:round; stroke-linejoin:round; stroke-width:2; stroke-opacity:0.1; fill:none\" points=\"\n",
       "  169.121,575.37 2352.76,575.37 \n",
       "  \"/>\n",
       "<polyline clip-path=\"url(#clip872)\" style=\"stroke:#000000; stroke-linecap:round; stroke-linejoin:round; stroke-width:2; stroke-opacity:0.1; fill:none\" points=\"\n",
       "  169.121,285.255 2352.76,285.255 \n",
       "  \"/>\n",
       "<polyline clip-path=\"url(#clip870)\" style=\"stroke:#000000; stroke-linecap:round; stroke-linejoin:round; stroke-width:4; stroke-opacity:1; fill:none\" points=\"\n",
       "  169.121,1486.45 169.121,47.2441 \n",
       "  \"/>\n",
       "<polyline clip-path=\"url(#clip870)\" style=\"stroke:#000000; stroke-linecap:round; stroke-linejoin:round; stroke-width:4; stroke-opacity:1; fill:none\" points=\"\n",
       "  169.121,1445.72 188.019,1445.72 \n",
       "  \"/>\n",
       "<polyline clip-path=\"url(#clip870)\" style=\"stroke:#000000; stroke-linecap:round; stroke-linejoin:round; stroke-width:4; stroke-opacity:1; fill:none\" points=\"\n",
       "  169.121,1155.6 188.019,1155.6 \n",
       "  \"/>\n",
       "<polyline clip-path=\"url(#clip870)\" style=\"stroke:#000000; stroke-linecap:round; stroke-linejoin:round; stroke-width:4; stroke-opacity:1; fill:none\" points=\"\n",
       "  169.121,865.485 188.019,865.485 \n",
       "  \"/>\n",
       "<polyline clip-path=\"url(#clip870)\" style=\"stroke:#000000; stroke-linecap:round; stroke-linejoin:round; stroke-width:4; stroke-opacity:1; fill:none\" points=\"\n",
       "  169.121,575.37 188.019,575.37 \n",
       "  \"/>\n",
       "<polyline clip-path=\"url(#clip870)\" style=\"stroke:#000000; stroke-linecap:round; stroke-linejoin:round; stroke-width:4; stroke-opacity:1; fill:none\" points=\"\n",
       "  169.121,285.255 188.019,285.255 \n",
       "  \"/>\n",
       "<path clip-path=\"url(#clip870)\" d=\"M121.177 1431.51 Q117.566 1431.51 115.737 1435.08 Q113.932 1438.62 113.932 1445.75 Q113.932 1452.86 115.737 1456.42 Q117.566 1459.96 121.177 1459.96 Q124.811 1459.96 126.617 1456.42 Q128.445 1452.86 128.445 1445.75 Q128.445 1438.62 126.617 1435.08 Q124.811 1431.51 121.177 1431.51 M121.177 1427.81 Q126.987 1427.81 130.043 1432.42 Q133.121 1437 133.121 1445.75 Q133.121 1454.48 130.043 1459.08 Q126.987 1463.67 121.177 1463.67 Q115.367 1463.67 112.288 1459.08 Q109.233 1454.48 109.233 1445.75 Q109.233 1437 112.288 1432.42 Q115.367 1427.81 121.177 1427.81 Z\" fill=\"#000000\" fill-rule=\"evenodd\" fill-opacity=\"1\" /><path clip-path=\"url(#clip870)\" d=\"M86.0382 1168.95 L102.358 1168.95 L102.358 1172.88 L80.4133 1172.88 L80.4133 1168.95 Q83.0753 1166.19 87.6586 1161.56 Q92.2651 1156.91 93.4456 1155.57 Q95.691 1153.04 96.5706 1151.31 Q97.4734 1149.55 97.4734 1147.86 Q97.4734 1145.1 95.5289 1143.37 Q93.6076 1141.63 90.5058 1141.63 Q88.3067 1141.63 85.8531 1142.39 Q83.4225 1143.16 80.6447 1144.71 L80.6447 1139.99 Q83.4688 1138.85 85.9225 1138.27 Q88.3762 1137.7 90.4132 1137.7 Q95.7836 1137.7 98.978 1140.38 Q102.172 1143.07 102.172 1147.56 Q102.172 1149.69 101.362 1151.61 Q100.575 1153.51 98.4687 1156.1 Q97.89 1156.77 94.7882 1159.99 Q91.6864 1163.18 86.0382 1168.95 Z\" fill=\"#000000\" fill-rule=\"evenodd\" fill-opacity=\"1\" /><path clip-path=\"url(#clip870)\" d=\"M112.219 1138.32 L130.575 1138.32 L130.575 1142.26 L116.501 1142.26 L116.501 1150.73 Q117.52 1150.38 118.538 1150.22 Q119.557 1150.03 120.575 1150.03 Q126.362 1150.03 129.742 1153.2 Q133.121 1156.38 133.121 1161.79 Q133.121 1167.37 129.649 1170.47 Q126.177 1173.55 119.857 1173.55 Q117.682 1173.55 115.413 1173.18 Q113.168 1172.81 110.76 1172.07 L110.76 1167.37 Q112.844 1168.51 115.066 1169.06 Q117.288 1169.62 119.765 1169.62 Q123.77 1169.62 126.107 1167.51 Q128.445 1165.4 128.445 1161.79 Q128.445 1158.18 126.107 1156.07 Q123.77 1153.97 119.765 1153.97 Q117.89 1153.97 116.015 1154.39 Q114.163 1154.8 112.219 1155.68 L112.219 1138.32 Z\" fill=\"#000000\" fill-rule=\"evenodd\" fill-opacity=\"1\" /><path clip-path=\"url(#clip870)\" d=\"M81.0614 848.205 L99.4178 848.205 L99.4178 852.14 L85.3438 852.14 L85.3438 860.613 Q86.3623 860.265 87.3808 860.103 Q88.3993 859.918 89.4178 859.918 Q95.2049 859.918 98.5845 863.089 Q101.964 866.261 101.964 871.677 Q101.964 877.256 98.4919 880.358 Q95.0197 883.436 88.7003 883.436 Q86.5243 883.436 84.2558 883.066 Q82.0105 882.696 79.6031 881.955 L79.6031 877.256 Q81.6864 878.39 83.9086 878.946 Q86.1308 879.501 88.6077 879.501 Q92.6123 879.501 94.9502 877.395 Q97.2882 875.288 97.2882 871.677 Q97.2882 868.066 94.9502 865.96 Q92.6123 863.853 88.6077 863.853 Q86.7327 863.853 84.8577 864.27 Q83.0058 864.687 81.0614 865.566 L81.0614 848.205 Z\" fill=\"#000000\" fill-rule=\"evenodd\" fill-opacity=\"1\" /><path clip-path=\"url(#clip870)\" d=\"M121.177 851.284 Q117.566 851.284 115.737 854.849 Q113.932 858.39 113.932 865.52 Q113.932 872.626 115.737 876.191 Q117.566 879.733 121.177 879.733 Q124.811 879.733 126.617 876.191 Q128.445 872.626 128.445 865.52 Q128.445 858.39 126.617 854.849 Q124.811 851.284 121.177 851.284 M121.177 847.58 Q126.987 847.58 130.043 852.187 Q133.121 856.77 133.121 865.52 Q133.121 874.247 130.043 878.853 Q126.987 883.436 121.177 883.436 Q115.367 883.436 112.288 878.853 Q109.233 874.247 109.233 865.52 Q109.233 856.77 112.288 852.187 Q115.367 847.58 121.177 847.58 Z\" fill=\"#000000\" fill-rule=\"evenodd\" fill-opacity=\"1\" /><path clip-path=\"url(#clip870)\" d=\"M80.8299 558.09 L103.052 558.09 L103.052 560.081 L90.5058 592.65 L85.6216 592.65 L97.4271 562.025 L80.8299 562.025 L80.8299 558.09 Z\" fill=\"#000000\" fill-rule=\"evenodd\" fill-opacity=\"1\" /><path clip-path=\"url(#clip870)\" d=\"M112.219 558.09 L130.575 558.09 L130.575 562.025 L116.501 562.025 L116.501 570.497 Q117.52 570.15 118.538 569.988 Q119.557 569.803 120.575 569.803 Q126.362 569.803 129.742 572.974 Q133.121 576.145 133.121 581.562 Q133.121 587.141 129.649 590.243 Q126.177 593.321 119.857 593.321 Q117.682 593.321 115.413 592.951 Q113.168 592.58 110.76 591.84 L110.76 587.141 Q112.844 588.275 115.066 588.83 Q117.288 589.386 119.765 589.386 Q123.77 589.386 126.107 587.28 Q128.445 585.173 128.445 581.562 Q128.445 577.951 126.107 575.844 Q123.77 573.738 119.765 573.738 Q117.89 573.738 116.015 574.155 Q114.163 574.571 112.219 575.451 L112.219 558.09 Z\" fill=\"#000000\" fill-rule=\"evenodd\" fill-opacity=\"1\" /><path clip-path=\"url(#clip870)\" d=\"M51.6634 298.599 L59.3023 298.599 L59.3023 272.234 L50.9921 273.901 L50.9921 269.641 L59.256 267.975 L63.9319 267.975 L63.9319 298.599 L71.5707 298.599 L71.5707 302.535 L51.6634 302.535 L51.6634 298.599 Z\" fill=\"#000000\" fill-rule=\"evenodd\" fill-opacity=\"1\" /><path clip-path=\"url(#clip870)\" d=\"M91.0151 271.053 Q87.404 271.053 85.5753 274.618 Q83.7697 278.16 83.7697 285.289 Q83.7697 292.396 85.5753 295.961 Q87.404 299.502 91.0151 299.502 Q94.6493 299.502 96.4548 295.961 Q98.2835 292.396 98.2835 285.289 Q98.2835 278.16 96.4548 274.618 Q94.6493 271.053 91.0151 271.053 M91.0151 267.35 Q96.8252 267.35 99.8808 271.956 Q102.959 276.539 102.959 285.289 Q102.959 294.016 99.8808 298.623 Q96.8252 303.206 91.0151 303.206 Q85.2049 303.206 82.1262 298.623 Q79.0707 294.016 79.0707 285.289 Q79.0707 276.539 82.1262 271.956 Q85.2049 267.35 91.0151 267.35 Z\" fill=\"#000000\" fill-rule=\"evenodd\" fill-opacity=\"1\" /><path clip-path=\"url(#clip870)\" d=\"M121.177 271.053 Q117.566 271.053 115.737 274.618 Q113.932 278.16 113.932 285.289 Q113.932 292.396 115.737 295.961 Q117.566 299.502 121.177 299.502 Q124.811 299.502 126.617 295.961 Q128.445 292.396 128.445 285.289 Q128.445 278.16 126.617 274.618 Q124.811 271.053 121.177 271.053 M121.177 267.35 Q126.987 267.35 130.043 271.956 Q133.121 276.539 133.121 285.289 Q133.121 294.016 130.043 298.623 Q126.987 303.206 121.177 303.206 Q115.367 303.206 112.288 298.623 Q109.233 294.016 109.233 285.289 Q109.233 276.539 112.288 271.956 Q115.367 267.35 121.177 267.35 Z\" fill=\"#000000\" fill-rule=\"evenodd\" fill-opacity=\"1\" /><path clip-path=\"url(#clip872)\" d=\"\n",
       "M289.225 1399.3 L289.225 1445.72 L677.911 1445.72 L677.911 1399.3 L289.225 1399.3 L289.225 1399.3  Z\n",
       "  \" fill=\"#009af9\" fill-rule=\"evenodd\" fill-opacity=\"1\"/>\n",
       "<polyline clip-path=\"url(#clip872)\" style=\"stroke:#000000; stroke-linecap:round; stroke-linejoin:round; stroke-width:4; stroke-opacity:1; fill:none\" points=\"\n",
       "  289.225,1399.3 289.225,1445.72 677.911,1445.72 677.911,1399.3 289.225,1399.3 \n",
       "  \"/>\n",
       "<path clip-path=\"url(#clip872)\" d=\"\n",
       "M677.911 1271.65 L677.911 1445.72 L1066.6 1445.72 L1066.6 1271.65 L677.911 1271.65 L677.911 1271.65  Z\n",
       "  \" fill=\"#009af9\" fill-rule=\"evenodd\" fill-opacity=\"1\"/>\n",
       "<polyline clip-path=\"url(#clip872)\" style=\"stroke:#000000; stroke-linecap:round; stroke-linejoin:round; stroke-width:4; stroke-opacity:1; fill:none\" points=\"\n",
       "  677.911,1271.65 677.911,1445.72 1066.6,1445.72 1066.6,1271.65 677.911,1271.65 \n",
       "  \"/>\n",
       "<path clip-path=\"url(#clip872)\" d=\"\n",
       "M1066.6 389.696 L1066.6 1445.72 L1455.28 1445.72 L1455.28 389.696 L1066.6 389.696 L1066.6 389.696  Z\n",
       "  \" fill=\"#009af9\" fill-rule=\"evenodd\" fill-opacity=\"1\"/>\n",
       "<polyline clip-path=\"url(#clip872)\" style=\"stroke:#000000; stroke-linecap:round; stroke-linejoin:round; stroke-width:4; stroke-opacity:1; fill:none\" points=\"\n",
       "  1066.6,389.696 1066.6,1445.72 1455.28,1445.72 1455.28,389.696 1066.6,389.696 \n",
       "  \"/>\n",
       "<path clip-path=\"url(#clip872)\" d=\"\n",
       "M1455.28 877.09 L1455.28 1445.72 L1843.97 1445.72 L1843.97 877.09 L1455.28 877.09 L1455.28 877.09  Z\n",
       "  \" fill=\"#009af9\" fill-rule=\"evenodd\" fill-opacity=\"1\"/>\n",
       "<polyline clip-path=\"url(#clip872)\" style=\"stroke:#000000; stroke-linecap:round; stroke-linejoin:round; stroke-width:4; stroke-opacity:1; fill:none\" points=\"\n",
       "  1455.28,877.09 1455.28,1445.72 1843.97,1445.72 1843.97,877.09 1455.28,877.09 \n",
       "  \"/>\n",
       "<path clip-path=\"url(#clip872)\" d=\"\n",
       "M1843.97 447.719 L1843.97 1445.72 L2232.65 1445.72 L2232.65 447.719 L1843.97 447.719 L1843.97 447.719  Z\n",
       "  \" fill=\"#009af9\" fill-rule=\"evenodd\" fill-opacity=\"1\"/>\n",
       "<polyline clip-path=\"url(#clip872)\" style=\"stroke:#000000; stroke-linecap:round; stroke-linejoin:round; stroke-width:4; stroke-opacity:1; fill:none\" points=\"\n",
       "  1843.97,447.719 1843.97,1445.72 2232.65,1445.72 2232.65,447.719 1843.97,447.719 \n",
       "  \"/>\n",
       "<circle clip-path=\"url(#clip872)\" style=\"fill:#009af9; stroke:none; fill-opacity:0\" cx=\"483.568\" cy=\"1399.3\" r=\"2\"/>\n",
       "<circle clip-path=\"url(#clip872)\" style=\"fill:#009af9; stroke:none; fill-opacity:0\" cx=\"872.253\" cy=\"1271.65\" r=\"2\"/>\n",
       "<circle clip-path=\"url(#clip872)\" style=\"fill:#009af9; stroke:none; fill-opacity:0\" cx=\"1260.94\" cy=\"389.696\" r=\"2\"/>\n",
       "<circle clip-path=\"url(#clip872)\" style=\"fill:#009af9; stroke:none; fill-opacity:0\" cx=\"1649.62\" cy=\"877.09\" r=\"2\"/>\n",
       "<circle clip-path=\"url(#clip872)\" style=\"fill:#009af9; stroke:none; fill-opacity:0\" cx=\"2038.31\" cy=\"447.719\" r=\"2\"/>\n",
       "<path clip-path=\"url(#clip872)\" d=\"\n",
       "M289.225 1399.3 L289.225 1445.72 L677.911 1445.72 L677.911 1399.3 L289.225 1399.3 L289.225 1399.3  Z\n",
       "  \" fill=\"#e26f46\" fill-rule=\"evenodd\" fill-opacity=\"1\"/>\n",
       "<polyline clip-path=\"url(#clip872)\" style=\"stroke:#000000; stroke-linecap:round; stroke-linejoin:round; stroke-width:4; stroke-opacity:1; fill:none\" points=\"\n",
       "  289.225,1399.3 289.225,1445.72 677.911,1445.72 677.911,1399.3 289.225,1399.3 \n",
       "  \"/>\n",
       "<path clip-path=\"url(#clip872)\" d=\"\n",
       "M677.911 1329.67 L677.911 1445.72 L1066.6 1445.72 L1066.6 1329.67 L677.911 1329.67 L677.911 1329.67  Z\n",
       "  \" fill=\"#e26f46\" fill-rule=\"evenodd\" fill-opacity=\"1\"/>\n",
       "<polyline clip-path=\"url(#clip872)\" style=\"stroke:#000000; stroke-linecap:round; stroke-linejoin:round; stroke-width:4; stroke-opacity:1; fill:none\" points=\"\n",
       "  677.911,1329.67 677.911,1445.72 1066.6,1445.72 1066.6,1329.67 677.911,1329.67 \n",
       "  \"/>\n",
       "<path clip-path=\"url(#clip872)\" d=\"\n",
       "M1066.6 87.9763 L1066.6 1445.72 L1455.28 1445.72 L1455.28 87.9763 L1066.6 87.9763 L1066.6 87.9763  Z\n",
       "  \" fill=\"#e26f46\" fill-rule=\"evenodd\" fill-opacity=\"1\"/>\n",
       "<polyline clip-path=\"url(#clip872)\" style=\"stroke:#000000; stroke-linecap:round; stroke-linejoin:round; stroke-width:4; stroke-opacity:1; fill:none\" points=\"\n",
       "  1066.6,87.9763 1066.6,1445.72 1455.28,1445.72 1455.28,87.9763 1066.6,87.9763 \n",
       "  \"/>\n",
       "<path clip-path=\"url(#clip872)\" d=\"\n",
       "M1455.28 877.09 L1455.28 1445.72 L1843.97 1445.72 L1843.97 877.09 L1455.28 877.09 L1455.28 877.09  Z\n",
       "  \" fill=\"#e26f46\" fill-rule=\"evenodd\" fill-opacity=\"1\"/>\n",
       "<polyline clip-path=\"url(#clip872)\" style=\"stroke:#000000; stroke-linecap:round; stroke-linejoin:round; stroke-width:4; stroke-opacity:1; fill:none\" points=\"\n",
       "  1455.28,877.09 1455.28,1445.72 1843.97,1445.72 1843.97,877.09 1455.28,877.09 \n",
       "  \"/>\n",
       "<path clip-path=\"url(#clip872)\" d=\"\n",
       "M1843.97 691.416 L1843.97 1445.72 L2232.65 1445.72 L2232.65 691.416 L1843.97 691.416 L1843.97 691.416  Z\n",
       "  \" fill=\"#e26f46\" fill-rule=\"evenodd\" fill-opacity=\"1\"/>\n",
       "<polyline clip-path=\"url(#clip872)\" style=\"stroke:#000000; stroke-linecap:round; stroke-linejoin:round; stroke-width:4; stroke-opacity:1; fill:none\" points=\"\n",
       "  1843.97,691.416 1843.97,1445.72 2232.65,1445.72 2232.65,691.416 1843.97,691.416 \n",
       "  \"/>\n",
       "<circle clip-path=\"url(#clip872)\" style=\"fill:#e26f46; stroke:none; fill-opacity:0\" cx=\"483.568\" cy=\"1399.3\" r=\"2\"/>\n",
       "<circle clip-path=\"url(#clip872)\" style=\"fill:#e26f46; stroke:none; fill-opacity:0\" cx=\"872.253\" cy=\"1329.67\" r=\"2\"/>\n",
       "<circle clip-path=\"url(#clip872)\" style=\"fill:#e26f46; stroke:none; fill-opacity:0\" cx=\"1260.94\" cy=\"87.9763\" r=\"2\"/>\n",
       "<circle clip-path=\"url(#clip872)\" style=\"fill:#e26f46; stroke:none; fill-opacity:0\" cx=\"1649.62\" cy=\"877.09\" r=\"2\"/>\n",
       "<circle clip-path=\"url(#clip872)\" style=\"fill:#e26f46; stroke:none; fill-opacity:0\" cx=\"2038.31\" cy=\"691.416\" r=\"2\"/>\n",
       "<path clip-path=\"url(#clip870)\" d=\"\n",
       "M1984.91 250.738 L2279.97 250.738 L2279.97 95.2176 L1984.91 95.2176  Z\n",
       "  \" fill=\"#ffffff\" fill-rule=\"evenodd\" fill-opacity=\"1\"/>\n",
       "<polyline clip-path=\"url(#clip870)\" style=\"stroke:#000000; stroke-linecap:round; stroke-linejoin:round; stroke-width:4; stroke-opacity:1; fill:none\" points=\"\n",
       "  1984.91,250.738 2279.97,250.738 2279.97,95.2176 1984.91,95.2176 1984.91,250.738 \n",
       "  \"/>\n",
       "<path clip-path=\"url(#clip870)\" d=\"\n",
       "M2009.17 167.794 L2154.75 167.794 L2154.75 126.322 L2009.17 126.322 L2009.17 167.794  Z\n",
       "  \" fill=\"#009af9\" fill-rule=\"evenodd\" fill-opacity=\"1\"/>\n",
       "<polyline clip-path=\"url(#clip870)\" style=\"stroke:#000000; stroke-linecap:round; stroke-linejoin:round; stroke-width:4; stroke-opacity:1; fill:none\" points=\"\n",
       "  2009.17,167.794 2154.75,167.794 2154.75,126.322 2009.17,126.322 2009.17,167.794 \n",
       "  \"/>\n",
       "<path clip-path=\"url(#clip870)\" d=\"M2192.86 166.745 Q2191.05 171.375 2189.34 172.787 Q2187.62 174.199 2184.75 174.199 L2181.35 174.199 L2181.35 170.634 L2183.85 170.634 Q2185.61 170.634 2186.58 169.8 Q2187.55 168.967 2188.73 165.865 L2189.5 163.921 L2179.01 138.412 L2183.53 138.412 L2191.63 158.689 L2199.73 138.412 L2204.24 138.412 L2192.86 166.745 Z\" fill=\"#000000\" fill-rule=\"evenodd\" fill-opacity=\"1\" /><path clip-path=\"url(#clip870)\" d=\"M2211.54 160.402 L2219.17 160.402 L2219.17 134.037 L2210.86 135.703 L2210.86 131.444 L2219.13 129.778 L2223.8 129.778 L2223.8 160.402 L2231.44 160.402 L2231.44 164.338 L2211.54 164.338 L2211.54 160.402 Z\" fill=\"#000000\" fill-rule=\"evenodd\" fill-opacity=\"1\" /><path clip-path=\"url(#clip870)\" d=\"\n",
       "M2009.17 219.634 L2154.75 219.634 L2154.75 178.162 L2009.17 178.162 L2009.17 219.634  Z\n",
       "  \" fill=\"#e26f46\" fill-rule=\"evenodd\" fill-opacity=\"1\"/>\n",
       "<polyline clip-path=\"url(#clip870)\" style=\"stroke:#000000; stroke-linecap:round; stroke-linejoin:round; stroke-width:4; stroke-opacity:1; fill:none\" points=\"\n",
       "  2009.17,219.634 2154.75,219.634 2154.75,178.162 2009.17,178.162 2009.17,219.634 \n",
       "  \"/>\n",
       "<path clip-path=\"url(#clip870)\" d=\"M2192.86 218.585 Q2191.05 223.215 2189.34 224.627 Q2187.62 226.039 2184.75 226.039 L2181.35 226.039 L2181.35 222.474 L2183.85 222.474 Q2185.61 222.474 2186.58 221.64 Q2187.55 220.807 2188.73 217.705 L2189.5 215.761 L2179.01 190.252 L2183.53 190.252 L2191.63 210.529 L2199.73 190.252 L2204.24 190.252 L2192.86 218.585 Z\" fill=\"#000000\" fill-rule=\"evenodd\" fill-opacity=\"1\" /><path clip-path=\"url(#clip870)\" d=\"M2214.75 212.242 L2231.07 212.242 L2231.07 216.178 L2209.13 216.178 L2209.13 212.242 Q2211.79 209.488 2216.37 204.858 Q2220.98 200.205 2222.16 198.863 Q2224.41 196.34 2225.29 194.604 Q2226.19 192.844 2226.19 191.155 Q2226.19 188.4 2224.24 186.664 Q2222.32 184.928 2219.22 184.928 Q2217.02 184.928 2214.57 185.692 Q2212.14 186.455 2209.36 188.006 L2209.36 183.284 Q2212.18 182.15 2214.64 181.571 Q2217.09 180.993 2219.13 180.993 Q2224.5 180.993 2227.69 183.678 Q2230.89 186.363 2230.89 190.854 Q2230.89 192.983 2230.08 194.905 Q2229.29 196.803 2227.18 199.395 Q2226.6 200.067 2223.5 203.284 Q2220.4 206.479 2214.75 212.242 Z\" fill=\"#000000\" fill-rule=\"evenodd\" fill-opacity=\"1\" /></svg>\n"
      ]
     },
     "execution_count": 1166,
     "metadata": {},
     "output_type": "execute_result"
    }
   ],
   "source": [
    "hsqs_assoc_neg = hsqs_from_alt[findall(lods_from_alt .< 0)];\n",
    "hsqs_assoc_neg_b = hsqs_from_alt_b[findall(lods_from_alt .< 0)];\n",
    "histogram(hsqs_assoc_neg)\n",
    "histogram!(hsqs_assoc_neg_b)"
   ]
  },
  {
   "cell_type": "code",
   "execution_count": null,
   "id": "a0cae21b-7168-4ac0-af75-90783bf9b3bd",
   "metadata": {},
   "outputs": [],
   "source": []
  },
  {
   "cell_type": "code",
   "execution_count": null,
   "id": "ed92b325-73dc-4c52-ba8d-a2f277e6e0a2",
   "metadata": {},
   "outputs": [],
   "source": []
  },
  {
   "cell_type": "code",
   "execution_count": null,
   "id": "12f048cd-0e9d-4164-a690-dd6a3c766059",
   "metadata": {},
   "outputs": [],
   "source": []
  },
  {
   "cell_type": "code",
   "execution_count": null,
   "id": "483d64a7-0ba5-4a3d-ab70-024689e313ed",
   "metadata": {},
   "outputs": [],
   "source": []
  },
  {
   "cell_type": "code",
   "execution_count": null,
   "id": "b451233c-c5ae-463d-b86e-a287e3e33a76",
   "metadata": {},
   "outputs": [],
   "source": []
  },
  {
   "cell_type": "markdown",
   "id": "6ce9deec-d40d-4b97-91da-be1198b0ec91",
   "metadata": {},
   "source": [
    "## Assuming what we do is correct..."
   ]
  },
  {
   "cell_type": "code",
   "execution_count": 1357,
   "id": "d1728378-cddb-4cf2-947c-4d80fa5d0149",
   "metadata": {},
   "outputs": [
    {
     "name": "stdout",
     "output_type": "stream",
     "text": [
      "search: \u001b[0m\u001b[1mf\u001b[22m\u001b[0m\u001b[1mi\u001b[22m\u001b[0m\u001b[1mt\u001b[22m\u001b[0m\u001b[1ml\u001b[22m\u001b[0m\u001b[1mm\u001b[22m\u001b[0m\u001b[1mm\u001b[22m \u001b[0m\u001b[1mF\u001b[22m\u001b[0m\u001b[1mi\u001b[22msherNoncen\u001b[0m\u001b[1mt\u001b[22mra\u001b[0m\u001b[1ml\u001b[22mHypergeo\u001b[0m\u001b[1mm\u001b[22metric\n",
      "\n"
     ]
    },
    {
     "data": {
      "text/latex": [
       "fitlmm: fit linear mixed model using grid of values\n",
       "\n",
       "y: 2-d array of (rotated) phenotypes X: 2-d array of (rotated) covariates lambda: 1-d array of eigenvalues ngrid: number of grid values to consider\n",
       "\n",
       "\\rule{\\textwidth}{1pt}\n",
       "fitlmm: fit linear mixed model\n",
       "\n",
       "y: 2-d array of (rotated) phenotypes X: 2-d array of (rotated) covariates lambda: 1-d array of eigenvalues reml: boolean indicating ML or REML estimation\n",
       "\n"
      ],
      "text/markdown": [
       "fitlmm: fit linear mixed model using grid of values\n",
       "\n",
       "y: 2-d array of (rotated) phenotypes X: 2-d array of (rotated) covariates lambda: 1-d array of eigenvalues ngrid: number of grid values to consider\n",
       "\n",
       "---\n",
       "\n",
       "fitlmm: fit linear mixed model\n",
       "\n",
       "y: 2-d array of (rotated) phenotypes X: 2-d array of (rotated) covariates lambda: 1-d array of eigenvalues reml: boolean indicating ML or REML estimation\n"
      ],
      "text/plain": [
       "  fitlmm: fit linear mixed model using grid of values\n",
       "\n",
       "  y: 2-d array of (rotated) phenotypes X: 2-d array of (rotated) covariates\n",
       "  lambda: 1-d array of eigenvalues ngrid: number of grid values to consider\n",
       "\n",
       "  ────────────────────────────────────────────────────────────────────────────\n",
       "\n",
       "  fitlmm: fit linear mixed model\n",
       "\n",
       "  y: 2-d array of (rotated) phenotypes X: 2-d array of (rotated) covariates\n",
       "  lambda: 1-d array of eigenvalues reml: boolean indicating ML or REML\n",
       "  estimation"
      ]
     },
     "execution_count": 1357,
     "metadata": {},
     "output_type": "execute_result"
    }
   ],
   "source": [
    "?fitlmm"
   ]
  },
  {
   "cell_type": "code",
   "execution_count": 1361,
   "id": "29ddc7bf-ebe9-4379-a0e5-2cf9769d8475",
   "metadata": {},
   "outputs": [
    {
     "data": {
      "text/plain": [
       "scan_alt_corrected (generic function with 2 methods)"
      ]
     },
     "execution_count": 1361,
     "metadata": {},
     "output_type": "execute_result"
    }
   ],
   "source": [
    "function scan_alt_corrected(y::Array{Float64, 2}, g::Array{Float64, 2}, K::Array{Float64, 2}; \n",
    "                  prior::Array{Float64, 1} = [0.0, 0.0],\n",
    "                  reml::Bool = false, method::String = \"qr\")\n",
    "\n",
    "    # number of markers\n",
    "    (n, p) = size(g);\n",
    "    \n",
    "    # rotate data\n",
    "    (y0, X0, lambda0) = transform_rotation(y, g, K);\n",
    "\n",
    "    pve_list = Array{Float64, 1}(undef, p);\n",
    "\n",
    "    X00 = reshape(X0[:, 1], :, 1);\n",
    "    # fit null lmm\n",
    "    # out00 = fitlmm(y0, X00, lambda0; reml = reml, method = method);\n",
    "    # out00 = fitlmm(y0, X00, lambda0; reml = reml);\n",
    "\n",
    "    lod = zeros(p);\n",
    "    X = zeros(n, 2);\n",
    "    X[:, 1] = X0[:, 1];\n",
    "    \n",
    "    out00_bayes = fitlmm(y0, X00, lambda0, prior; reml = reml, method = method);\n",
    "    \n",
    "    for i = 1:p\n",
    "        X[:, 2] = X0[:, i+1];\n",
    "        \n",
    "        # out11 = fitlmm(y0, X, lambda0; reml = reml, method = method);\n",
    "        # out11 = fitlmm(y0, X, lambda0; reml = reml);\n",
    "        \n",
    "        # curr_lod = (out11.ell - out00.ell)/log(10);\n",
    "        # curr_h2 = out11.h2;\n",
    "        \n",
    "        # Check results validity\n",
    "        if true\n",
    "            # out00_bayes = fitlmm(y0, X00, lambda0, prior; reml = reml, method = method);\n",
    "            out11_bayes = fitlmm(y0, X, lambda0, prior; reml = reml, method = method);\n",
    "            \n",
    "            curr_lod = (out11_bayes.ell - out00_bayes.ell)/log(10);\n",
    "            curr_h2 = out11_bayes.h2;\n",
    "        end\n",
    "        \n",
    "        \n",
    "        pve_list[i] = curr_h2;\n",
    "        lod[i] = curr_lod;\n",
    "        \n",
    "    end\n",
    "\n",
    "    return (out00_bayes.sigma2, out00_bayes.h2, pve_list, lod)\n",
    "\n",
    "end"
   ]
  },
  {
   "cell_type": "code",
   "execution_count": 1362,
   "id": "bc9d3ef3-c023-42a5-ba57-fa7c62c1a239",
   "metadata": {},
   "outputs": [
    {
     "data": {
      "text/plain": [
       "2-element Vector{Float64}:\n",
       " 1.6944289276209026\n",
       " 0.1"
      ]
     },
     "execution_count": 1362,
     "metadata": {},
     "output_type": "execute_result"
    }
   ],
   "source": [
    "prior"
   ]
  },
  {
   "cell_type": "code",
   "execution_count": 1423,
   "id": "e6783116-7793-411c-938a-69db23d2fdd5",
   "metadata": {},
   "outputs": [],
   "source": [
    "prior = [var(pheno[:, 108]), 1];"
   ]
  },
  {
   "cell_type": "code",
   "execution_count": 1413,
   "id": "09d93cb1-bb55-42ac-bc3f-11564d5cfdb4",
   "metadata": {},
   "outputs": [
    {
     "data": {
      "text/plain": [
       "1.6944289276209026"
      ]
     },
     "execution_count": 1413,
     "metadata": {},
     "output_type": "execute_result"
    }
   ],
   "source": [
    "var(pheno[:, 108])"
   ]
  },
  {
   "cell_type": "code",
   "execution_count": 1424,
   "id": "d8f11ffa-70dd-4e7a-8ba1-66f28b40e6ee",
   "metadata": {},
   "outputs": [],
   "source": [
    "results_corrected = scan_alt_corrected(pheno_108, geno, kinship_Gc; prior = prior, reml = false, method = \"qr\");"
   ]
  },
  {
   "cell_type": "code",
   "execution_count": 1425,
   "id": "971fb155-6cb9-474f-b629-b2285164bb60",
   "metadata": {},
   "outputs": [
    {
     "data": {
      "text/plain": [
       "7321×3 Matrix{Float64}:\n",
       " 0.0219153  0.00910017  0.0219155\n",
       " 0.0219153  0.00910017  0.0219155\n",
       " 0.0219153  0.00910017  0.0219155\n",
       " 0.0219153  0.00910017  0.0219155\n",
       " 0.0219153  0.00910017  0.0219155\n",
       " 0.0219153  0.00910017  0.0219155\n",
       " 0.0219153  0.00910017  0.0219155\n",
       " 0.0219153  0.00910017  0.0219155\n",
       " 0.0219153  0.00910017  0.0219155\n",
       " 0.0219153  0.00910017  0.0219155\n",
       " 0.0219153  0.00910017  0.0219155\n",
       " 0.021912   0.00909824  0.0219122\n",
       " 0.0567256  0.0461259   0.0567251\n",
       " ⋮                      \n",
       " 0.248678   0.249071    0.248678\n",
       " 0.248678   0.249071    0.248678\n",
       " 0.248678   0.249071    0.248678\n",
       " 0.0686881  0.144392    0.0686887\n",
       " 0.124881   0.134296    0.124882\n",
       " 0.124881   0.134296    0.124882\n",
       " 0.249213   0.252423    0.249213\n",
       " 0.273645   0.282972    0.273645\n",
       " 0.271594   0.280134    0.271594\n",
       " 0.285893   0.303347    0.285893\n",
       " 0.229505   0.213487    0.229504\n",
       " 0.229505   0.213487    0.229504"
      ]
     },
     "execution_count": 1425,
     "metadata": {},
     "output_type": "execute_result"
    }
   ],
   "source": [
    "hcat(results_scan_alt[4], results_corrected[4], lods_from_gemma[:, 108])"
   ]
  },
  {
   "cell_type": "code",
   "execution_count": 1426,
   "id": "400b833d-ef31-4a6b-b9bf-8b2192017e5c",
   "metadata": {},
   "outputs": [
    {
     "data": {
      "text/plain": [
       "245-element Vector{Int64}:\n",
       "  229\n",
       "  230\n",
       "  231\n",
       "  232\n",
       "  233\n",
       "  234\n",
       "  235\n",
       "  236\n",
       "  237\n",
       "  238\n",
       "  239\n",
       "  240\n",
       "  241\n",
       "    ⋮\n",
       " 6112\n",
       " 6113\n",
       " 6114\n",
       " 6115\n",
       " 6116\n",
       " 6117\n",
       " 6118\n",
       " 6119\n",
       " 6123\n",
       " 6124\n",
       " 7227\n",
       " 7228"
      ]
     },
     "execution_count": 1426,
     "metadata": {},
     "output_type": "execute_result"
    }
   ],
   "source": [
    "isNegative = findall(results_scan_alt[4] .< 0)"
   ]
  },
  {
   "cell_type": "code",
   "execution_count": 1427,
   "id": "dd3213cf-1254-4799-8b26-f061ebfcb78f",
   "metadata": {},
   "outputs": [
    {
     "data": {
      "text/plain": [
       "Int64[]"
      ]
     },
     "execution_count": 1427,
     "metadata": {},
     "output_type": "execute_result"
    }
   ],
   "source": [
    "findall(results_corrected[4] .< 0)"
   ]
  },
  {
   "cell_type": "code",
   "execution_count": 1428,
   "id": "d209f551-8315-4bd3-9653-96cb24a2460a",
   "metadata": {},
   "outputs": [
    {
     "data": {
      "text/plain": [
       "246×3 Matrix{Any}:\n",
       "   \"before\"   \"corrected_by_bayes\"   \"gemma\"\n",
       " -2.2873     1.0417                 0.736546\n",
       " -2.2873     1.0417                 0.736546\n",
       " -2.2873     1.0417                 0.736546\n",
       " -2.36798    1.02061                0.582913\n",
       " -1.41325    1.99966                1.3266\n",
       " -1.50067    1.87392                1.30913\n",
       " -1.67281    1.70801                1.16035\n",
       " -1.67281    1.70801                1.16035\n",
       " -1.90021    1.491                  0.930859\n",
       " -1.90021    1.491                  0.930859\n",
       " -1.90013    1.49109                0.930918\n",
       " -1.55903    1.83623                1.16779\n",
       "  ⋮                                 \n",
       " -2.9462     0.537266               0.0473551\n",
       " -2.94618    0.537287               0.0473611\n",
       " -2.94618    0.537287               0.0473611\n",
       " -2.16293    1.24862                0.77996\n",
       " -2.51206    0.879469               0.525381\n",
       " -2.57682    0.780697               0.475996\n",
       " -2.57682    0.780697               0.475996\n",
       " -2.46246    0.932586               0.582341\n",
       " -2.405      0.998896               0.710655\n",
       " -2.405      0.998896               0.710655\n",
       " -0.100951   0.14444                2.25932e-5\n",
       " -0.100951   0.14444                2.25932e-5"
      ]
     },
     "execution_count": 1428,
     "metadata": {},
     "output_type": "execute_result"
    }
   ],
   "source": [
    "summary_corrected = hcat(results_scan_alt[4][isNegative], results_corrected[4][isNegative], lods_from_gemma[:, 108][isNegative]);\n",
    "summary_corrected = vcat([\"before\" \"corrected_by_bayes\" \"gemma\"], summary_corrected)"
   ]
  },
  {
   "cell_type": "code",
   "execution_count": 1429,
   "id": "01f056d2-3b10-4abc-827d-95299a0bbe60",
   "metadata": {},
   "outputs": [
    {
     "data": {
      "text/plain": [
       "0.7975245530758133"
      ]
     },
     "execution_count": 1429,
     "metadata": {},
     "output_type": "execute_result"
    }
   ],
   "source": [
    "maximum(abs.(results_corrected[4][isNegative] .- lods_from_gemma[:, 108][isNegative]))"
   ]
  },
  {
   "cell_type": "code",
   "execution_count": 1433,
   "id": "2ac49f3f-c267-4afa-b2e2-d5dc3c03fd58",
   "metadata": {},
   "outputs": [],
   "source": [
    "pheno_y = reshape(pheno[:, 109], :, 1);"
   ]
  },
  {
   "cell_type": "code",
   "execution_count": 1441,
   "id": "bc845efb-9996-45d2-817d-d450290ac013",
   "metadata": {},
   "outputs": [],
   "source": [
    "prior = [var(pheno[:, 109]), 1/10];"
   ]
  },
  {
   "cell_type": "code",
   "execution_count": 1442,
   "id": "13046c70-97de-4c52-a0c8-228abb37fc37",
   "metadata": {},
   "outputs": [
    {
     "name": "stdout",
     "output_type": "stream",
     "text": [
      "  1.778 s (2631705 allocations: 1.18 GiB)\n"
     ]
    }
   ],
   "source": [
    "@btime scan_alt_corrected(pheno_y, geno, kinship_Gc; prior = prior, reml = false, method = \"qr\");"
   ]
  },
  {
   "cell_type": "code",
   "execution_count": 1443,
   "id": "4657b708-aa95-4045-b6b3-4dd1754b9fe1",
   "metadata": {},
   "outputs": [
    {
     "name": "stdout",
     "output_type": "stream",
     "text": [
      "  1.805 s (2742424 allocations: 1.26 GiB)\n"
     ]
    }
   ],
   "source": [
    "@btime scan_alt(pheno_y, geno, kinship_Gc; reml = false);"
   ]
  },
  {
   "cell_type": "code",
   "execution_count": 1444,
   "id": "a31a1dc5-5c5f-4920-838e-3ec97b36bfda",
   "metadata": {},
   "outputs": [
    {
     "name": "stdout",
     "output_type": "stream",
     "text": [
      "  1.205 s (2270916 allocations: 941.10 MiB)\n"
     ]
    }
   ],
   "source": [
    "@btime scan_alt_corrected(pheno_y, geno, kinship_Gc; prior = prior, reml = false, method = \"cholesky\");"
   ]
  },
  {
   "cell_type": "code",
   "execution_count": null,
   "id": "cec538ca-5c16-43ba-9dab-6167b14506dc",
   "metadata": {},
   "outputs": [],
   "source": []
  }
 ],
 "metadata": {
  "kernelspec": {
   "display_name": "Julia 1.7.3",
   "language": "julia",
   "name": "julia-1.7"
  },
  "language_info": {
   "file_extension": ".jl",
   "mimetype": "application/julia",
   "name": "julia",
   "version": "1.7.3"
  }
 },
 "nbformat": 4,
 "nbformat_minor": 5
}
