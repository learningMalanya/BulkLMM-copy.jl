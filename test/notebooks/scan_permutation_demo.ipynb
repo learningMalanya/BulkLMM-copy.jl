{
 "cells": [
  {
   "cell_type": "markdown",
   "id": "80eb7503-c4d2-4081-8633-a50eaa490b86",
   "metadata": {},
   "source": [
    "# Univariate scan permutation demo:"
   ]
  },
  {
   "cell_type": "markdown",
   "id": "d4d5b903-aff0-46cb-a92b-6eda6826891d",
   "metadata": {},
   "source": [
    "## Statistical Settings:"
   ]
  },
  {
   "cell_type": "markdown",
   "id": "ef9f19d7-e55a-4b02-a9e7-1d6aa48de7ed",
   "metadata": {},
   "source": [
    "Original inputs:\n",
    "\n",
    "- $y = N \\times 1$ vector of measurements of one trait for N individuals;\n",
    "\n",
    "- $X = [1, g] = N \\times 2$ matrix of information about one genetic marker and intercept for the N individuals;\n",
    "\n",
    "- $K = N \\times N$ matrix of genetic relatedness between the N individuals (pre-calculated from the genome $G$ matrix). "
   ]
  },
  {
   "cell_type": "markdown",
   "id": "aefaba1e-f00d-4c5b-a16d-b5f5520931e7",
   "metadata": {},
   "source": [
    "Then, the univariate trait $y$ by assumption has the distribution\n",
    "\n",
    "$$y|X \\sim N(\\beta_0 1+\\beta_1 g, \\space \\sigma^2_g K + \\sigma^2_e I)$$"
   ]
  },
  {
   "cell_type": "markdown",
   "id": "c84b5552-e694-468e-b858-996cb6d24d4a",
   "metadata": {},
   "source": [
    "### First transformation - to have uncorrelated variances:"
   ]
  },
  {
   "cell_type": "markdown",
   "id": "68bcb774-e0dc-4da6-b06f-0f78e2dd7ce4",
   "metadata": {},
   "source": [
    "If $K = U D U^T$, then if we let \n",
    "\n",
    "$$y^* = U^T y$$\n",
    "$$X^* = [U^T 1, U^T g]$$"
   ]
  },
  {
   "cell_type": "markdown",
   "id": "2dd1987a-11dc-4305-bdeb-da549ee0c1b2",
   "metadata": {},
   "source": [
    "then \n",
    "\n",
    "$$y^*|X^* \\sim N(\\beta_0 U^T 1 + \\beta_1 U^T g, \\space \\sigma_e^2 V)$$ "
   ]
  },
  {
   "cell_type": "markdown",
   "id": "2ff06bfd-727b-4fb6-90b9-709787ddbbad",
   "metadata": {},
   "source": [
    "where the matrix $V = V(h^2)$ is a diagonal matrix of uncorrelated covariances and is parametrized by $h^2$, the heritability, i.e. \n",
    "\n",
    "$$h^2 = \\frac{\\sigma_g^2}{\\sigma_g^2+\\sigma_e^2}$$"
   ]
  },
  {
   "cell_type": "markdown",
   "id": "9e479d5b-c162-47fe-bcb0-4b89c7fbd9c6",
   "metadata": {},
   "source": [
    "### Second transformation - to obtain homoskedesticity:"
   ]
  },
  {
   "cell_type": "markdown",
   "id": "496a36da-3438-4cf6-b613-90908c626985",
   "metadata": {},
   "source": [
    "If we denote $W = (\\sigma^2_e V)^{-1}$, then consider the distribution of $y^{**} = \\sqrt{W}y^*$\n",
    "\n",
    "$$y^{**}|X^{**} \\sim N(\\beta_0 \\sqrt{W}U^T1 + \\beta_1 \\sqrt{W} U^T g, \\space I)$$"
   ]
  },
  {
   "cell_type": "markdown",
   "id": "2e6270d7-ef09-4513-b086-87b9a92ed6f1",
   "metadata": {},
   "source": [
    "### Permutation Testing Framework:"
   ]
  },
  {
   "cell_type": "markdown",
   "id": "0e85aa26-ebc0-48c3-a245-68251432a1a0",
   "metadata": {},
   "source": [
    "$$H_0: \\beta_1 = 0;$$"
   ]
  },
  {
   "cell_type": "markdown",
   "id": "e255c159-eaa9-4c21-992f-4041d4e38fe0",
   "metadata": {},
   "source": [
    "Then, by the null hypothesis, \n",
    "\n",
    "$$y^{**}|X^{**} \\sim N(\\beta_0 \\sqrt{W}U^T 1, I)$$"
   ]
  },
  {
   "cell_type": "markdown",
   "id": "4eda259e-18f5-4ac9-b094-5418e6885442",
   "metadata": {},
   "source": [
    "If we project $y^{**}$ to the space that is orthogonal to the intercept (after rotation) $U^T 1$, which is equivalent to taking the residuals of regressing $y^{**}$ on to $U^T 1$, we get \n",
    "\n",
    "$$y^{***} = y^{**} - \\hat \\beta_0 \\sqrt{W} U^T 1$$\n",
    "\n",
    "where $\\hat \\beta_0$ is the OLS estimate such that \n",
    "\n",
    "$$\\hat \\beta_0 = (X^{**T}_0 X^{**}_0)^{-1}X^{**T}_0 y^{**}$$\n",
    "\n"
   ]
  },
  {
   "cell_type": "markdown",
   "id": "eea2263c-35d1-467c-8dd5-29a3481aee7e",
   "metadata": {},
   "source": [
    "**Note:** this is mathematically equivalent to taking the residuals after performing weighted least squares on the unweighted data $(y^{*}, X^{*})$, as"
   ]
  },
  {
   "cell_type": "markdown",
   "id": "5c1add5c-7e85-4524-a7be-43ae88ccd5ea",
   "metadata": {},
   "source": [
    "$$X_0^{**} = \\sqrt{W} U^T1$$ \n",
    "\n",
    "$$y^{**} = \\sqrt{W} U^T y$$"
   ]
  },
  {
   "cell_type": "markdown",
   "id": "b3815686-cc6b-4573-8a6a-82dfb8ebb4ec",
   "metadata": {},
   "source": [
    "then $$\\hat \\beta_0 = (X^{**T}_0 X^{**}_0)^{-1}X^{**T}_0 y^{**} = (X_0^{*T}W X_0^{*})^{-1}X^{*T}W y^{*}$$"
   ]
  },
  {
   "cell_type": "markdown",
   "id": "3b27af33-a8b4-4568-a9d6-9994c690a84d",
   "metadata": {},
   "source": [
    "Recall that $$y^{*}|X^{*} \\sim N(\\beta_0 X_0^{*}, \\sigma_e^2 V = W^{-1})$$"
   ]
  },
  {
   "cell_type": "markdown",
   "id": "d224aa0a-7c9a-406a-877d-c5e6a1128b1c",
   "metadata": {},
   "source": [
    "By $H_0$,\n",
    "\n",
    "$$y^{***}|X^{***} \\sim N(0, I)$$"
   ]
  },
  {
   "cell_type": "markdown",
   "id": "8101c77f-f818-4b37-b43f-5e72fe726157",
   "metadata": {},
   "source": [
    "Finally, permuting $y^{***}$ can give us samples from the i.i.d standard normal distribution under the null hypothesis."
   ]
  }
 ],
 "metadata": {
  "kernelspec": {
   "display_name": "Julia 1.7.3",
   "language": "julia",
   "name": "julia-1.7"
  },
  "language_info": {
   "file_extension": ".jl",
   "mimetype": "application/julia",
   "name": "julia",
   "version": "1.7.3"
  }
 },
 "nbformat": 4,
 "nbformat_minor": 5
}
