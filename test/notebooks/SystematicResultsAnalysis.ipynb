{
 "cells": [
  {
   "cell_type": "markdown",
   "id": "33a36b54-7bbf-4113-8f24-dba46452a841",
   "metadata": {},
   "source": [
    "## Check the results on BXD data from all methods we have..."
   ]
  },
  {
   "cell_type": "markdown",
   "id": "3f9cc22f-f53b-4043-933f-dceb53ee9aa6",
   "metadata": {},
   "source": [
    "Objectives for this analysis:\n",
    "1. Check the cases in which GEMMA may have performed badly...\n",
    "\n",
    "\n",
    "2. For our current Bulkscan approach, even though it is fast, but theoretically it produces non-exact solutions. Thus, we need to: \n",
    "    - Check how different the Bulkscan results are compared with scan_alt results (assuming scan_alt gives the exact results)...\n",
    "    \n",
    "    - For those associations that are significant based on the exact solutions, can the Bulkscan solutions also find them?\n",
    "    \n",
    "3. Finally, we would explore the idea that combines finding the exact VC and the LiteQTL matrix multiplication approach, by grouping the traits with same or similar $h^2$ (from null) and perform matrix multiplication for each group (taken one group of multiple trait as a matrix).\n",
    "    - Can this new idea beat bulkscan both in speed and accuracy?\n",
    "   "
   ]
  },
  {
   "cell_type": "markdown",
   "id": "14eca08c-9ecf-4291-8861-be006658264f",
   "metadata": {},
   "source": [
    "### Preparation:"
   ]
  },
  {
   "cell_type": "code",
   "execution_count": 1,
   "id": "c045267c-c9c6-4cff-8ad3-0637c6340605",
   "metadata": {},
   "outputs": [
    {
     "data": {
      "text/plain": [
       "\"/home/zyu20/git/BulkLMM.jl/test/notebooks\""
      ]
     },
     "execution_count": 1,
     "metadata": {},
     "output_type": "execute_result"
    }
   ],
   "source": [
    "pwd()"
   ]
  },
  {
   "cell_type": "code",
   "execution_count": 2,
   "id": "612147f0-9fac-4c5b-8d81-2ce035880f20",
   "metadata": {},
   "outputs": [],
   "source": [
    "cd(\"..\")"
   ]
  },
  {
   "cell_type": "code",
   "execution_count": 3,
   "id": "700d19aa-488d-43b2-965f-05ddcce94bb6",
   "metadata": {},
   "outputs": [
    {
     "data": {
      "text/plain": [
       "24"
      ]
     },
     "execution_count": 3,
     "metadata": {},
     "output_type": "execute_result"
    }
   ],
   "source": [
    "Threads.nthreads()"
   ]
  },
  {
   "cell_type": "code",
   "execution_count": 4,
   "id": "b59d3585-1c9f-462f-9194-e043131f2b61",
   "metadata": {},
   "outputs": [],
   "source": [
    "include(\"BXDdata_for_test.jl\"); ## Load BXD data used for testing:"
   ]
  },
  {
   "cell_type": "code",
   "execution_count": 5,
   "id": "3a948182-99bc-4feb-9ed4-e1511141bf29",
   "metadata": {},
   "outputs": [],
   "source": [
    "using LoopVectorization\n",
    "using Tables\n",
    "using Test\n",
    "using Plots\n",
    "using ThreadTools"
   ]
  },
  {
   "cell_type": "code",
   "execution_count": 6,
   "id": "458cdc7b-9114-4b47-930d-75c096a521e1",
   "metadata": {},
   "outputs": [],
   "source": [
    "include(\"../src/scan_LiteQTL.jl\"); ## Load multithreaded functions to be tested:"
   ]
  },
  {
   "cell_type": "code",
   "execution_count": 7,
   "id": "aff29480-afc5-47d7-90b3-7c34a735ce88",
   "metadata": {},
   "outputs": [],
   "source": [
    "include(\"../src/parallel_helpers.jl\");"
   ]
  },
  {
   "cell_type": "code",
   "execution_count": 8,
   "id": "2355875d-899b-4e1c-b55d-eed144f9ab57",
   "metadata": {},
   "outputs": [],
   "source": [
    "kinship_Gc = readdlm(\"run-gemma/output/kinship.cXX.txt\", '\\t');"
   ]
  },
  {
   "cell_type": "code",
   "execution_count": 9,
   "id": "822ac914-d79e-4815-811a-0f733e8a87fd",
   "metadata": {},
   "outputs": [
    {
     "data": {
      "text/plain": [
       "79×79 Matrix{Float64}:\n",
       "  0.971367    -0.0803409   0.118316    …  -0.219202    -0.174852\n",
       " -0.0803409    0.991482   -0.0287038       0.028784    -0.0582696\n",
       "  0.118316    -0.0287038   1.01951        -0.12127     -0.114234\n",
       "  0.0516335    0.0275875  -0.217635       -0.0696312   -0.165361\n",
       " -0.00965022  -0.141933   -0.103393        0.00610493  -0.0541761\n",
       " -0.0889471   -0.0646924   0.116334    …  -0.0353577    0.0386856\n",
       " -0.0566745    0.0206949   0.0738428      -0.0468544    0.028601\n",
       "  0.057217     0.184047    0.00824396     -0.0485473   -0.0871337\n",
       "  0.175272    -0.192295    0.0826458      -0.129463     0.0371489\n",
       " -0.139584     0.240522    0.0735055      -0.139098    -0.117519\n",
       " -0.0877774   -0.0840052  -0.0641144   …  -0.0366286    0.050524\n",
       " -0.0151781    0.122247    0.0683334      -0.0414448   -0.09087\n",
       "  0.135896     0.0710691   0.0285863      -0.146292    -0.161624\n",
       "  ⋮                                    ⋱               \n",
       " -0.00741148  -0.133136   -0.126767       -0.0603405    0.0356781\n",
       " -0.202968     0.0141125   0.0104141       0.00796349   0.068552\n",
       "  0.0155395   -0.0840045  -0.0220895      -0.149252    -0.152016\n",
       " -0.0534924    0.006782   -0.00430368  …  -0.0395696   -0.156887\n",
       "  0.037525     0.125369   -0.0716338       0.0656682   -0.122897\n",
       " -0.0829485   -0.0155812   0.0695839      -0.147435    -0.0921416\n",
       "  0.0248233    0.018329   -0.0645286      -0.0263165    0.00109335\n",
       " -0.0457713    0.0172874  -0.0690372      -0.0355775   -0.0313325\n",
       "  0.0556329   -0.137367   -0.0271949   …  -0.0247137   -0.0812567\n",
       "  0.0986898    0.0122639   0.233317        0.110904     0.130493\n",
       " -0.219202     0.028784   -0.12127         0.934241     0.29995\n",
       " -0.174852    -0.0582696  -0.114234        0.29995      0.934833"
      ]
     },
     "execution_count": 9,
     "metadata": {},
     "output_type": "execute_result"
    }
   ],
   "source": [
    "kinship_Gc"
   ]
  },
  {
   "cell_type": "markdown",
   "id": "e596eae9-49ac-405a-897d-505a82b7996b",
   "metadata": {},
   "source": [
    "### Get full results:"
   ]
  },
  {
   "cell_type": "markdown",
   "id": "1a823ac8-c76a-4fad-b9dd-48172189ea17",
   "metadata": {},
   "source": [
    "(for all 35k BXD traits) from GEMMA and scan_alt()"
   ]
  },
  {
   "cell_type": "code",
   "execution_count": 9,
   "id": "ba65250e-68f9-4308-a65b-757a04dc572a",
   "metadata": {
    "tags": []
   },
   "outputs": [
    {
     "data": {
      "text/plain": [
       "get_LODs_from_alt (generic function with 1 method)"
      ]
     },
     "execution_count": 9,
     "metadata": {},
     "output_type": "execute_result"
    }
   ],
   "source": [
    "function get_LODs_from_alt(Y::Array{Float64, 2}, G::Array{Float64, 2}, K::Array{Float64, 2}; reml::Bool = false)\n",
    "\n",
    "    (n, m) = size(Y);\n",
    "    p = size(G, 2);\n",
    "    \n",
    "    intercept = reshape(ones(n, 1), :, 1);\n",
    "    (Y0, X0, lambda0) = rotateData(Y, [intercept G], K);\n",
    "    \n",
    "    lods_from_alt = Array{Float64, 2}(undef, p, m);\n",
    "    hsqs_from_alt = Array{Float64, 2}(undef, p, m);\n",
    "\n",
    "    intercept0 = reshape(X0[:, 1], :, 1);\n",
    "    \n",
    "    for i in 1:m\n",
    "        \n",
    "        y0_i = reshape(Y0[:, i], :, 1);\n",
    "        out00 = fitlmm(y0_i, intercept0, lambda0; reml = reml);\n",
    "        \n",
    "        lod = zeros(p);\n",
    "        hsqs = zeros(p);\n",
    "        X = zeros(n, 2);\n",
    "        X[:, 1] = X0[:, 1];\n",
    "        \n",
    "        for j in 1:p\n",
    "            X[:, 2] = X0[:, j+1];\n",
    "            \n",
    "            out11 = fitlmm(y0_i, X, lambda0; reml = reml);\n",
    "            \n",
    "            hsqs[j] = out11.h2;\n",
    "            lod[j] = (out11.ell - out00.ell)/log(10);\n",
    "            \n",
    "        end\n",
    "        \n",
    "        lods_from_alt[:, i] = lod;\n",
    "        hsqs_from_alt[:, i] = hsqs;\n",
    "        \n",
    "    end\n",
    "    \n",
    "    return (hsqs_from_alt, lods_from_alt);\n",
    "    \n",
    "end"
   ]
  },
  {
   "cell_type": "code",
   "execution_count": 10,
   "id": "f7819a86-7628-4b5f-8c9d-ccce118d2e81",
   "metadata": {},
   "outputs": [],
   "source": [
    "# @time results_from_alt = get_LODs_from_alt(pheno, geno, kinship_Gc; reml = false);"
   ]
  },
  {
   "cell_type": "code",
   "execution_count": 11,
   "id": "20e87519-f2c4-48fc-93f0-81f88cf86d6b",
   "metadata": {},
   "outputs": [],
   "source": [
    "# writedlm(\"hsqs_from_alt.csv\", results_from_alt[1], ',');"
   ]
  },
  {
   "cell_type": "code",
   "execution_count": 12,
   "id": "ae3fd83b-b037-437f-8fe0-6d2b0a535b03",
   "metadata": {},
   "outputs": [],
   "source": [
    "# writedlm(\"lods_from_alt.csv\", results_from_alt[2], ',');"
   ]
  },
  {
   "cell_type": "code",
   "execution_count": 13,
   "id": "3ffa8d11-05e8-4ff5-8137-a156d93eb186",
   "metadata": {},
   "outputs": [],
   "source": [
    "gemma = \"/home/zyu20/Softwares/gemma-0.98.5-linux-static-AMD64\";"
   ]
  },
  {
   "cell_type": "markdown",
   "id": "65cb9375-14f9-4246-ad95-01cef40e158e",
   "metadata": {},
   "source": [
    "Read the saved output files..."
   ]
  },
  {
   "cell_type": "code",
   "execution_count": 14,
   "id": "0d2a9a4c-6872-46be-bc06-72d6bced891a",
   "metadata": {},
   "outputs": [
    {
     "data": {
      "text/plain": [
       "\"/home/zyu20/git/BulkLMM.jl/test\""
      ]
     },
     "execution_count": 14,
     "metadata": {},
     "output_type": "execute_result"
    }
   ],
   "source": [
    "pwd()"
   ]
  },
  {
   "cell_type": "code",
   "execution_count": 15,
   "id": "64a6bbec-30f0-4b11-8b00-da29fb1c4a5c",
   "metadata": {},
   "outputs": [
    {
     "name": "stdout",
     "output_type": "stream",
     "text": [
      " 17.988128 seconds (27.61 M allocations: 7.684 GiB, 16.08% gc time, 12.55% compilation time)\n"
     ]
    }
   ],
   "source": [
    "@time pvals_from_gemma = CSV.File(\"output/pvals_from_gemma.csv\", header = false) |> Tables.matrix;"
   ]
  },
  {
   "cell_type": "code",
   "execution_count": 10,
   "id": "13518f8d-8c29-4d87-b5fe-26afb32488e1",
   "metadata": {},
   "outputs": [
    {
     "name": "stdout",
     "output_type": "stream",
     "text": [
      " 27.887673 seconds (57.58 M allocations: 9.209 GiB, 11.75% gc time, 60.97% compilation time)\n"
     ]
    }
   ],
   "source": [
    "@time hsqs_from_gemma = CSV.File(\"output/hsqs_from_gemma.csv\", header = false) |> Tables.matrix;"
   ]
  },
  {
   "cell_type": "code",
   "execution_count": 11,
   "id": "3b9ebb28-4702-46ac-8563-d673c4efb47d",
   "metadata": {},
   "outputs": [
    {
     "name": "stdout",
     "output_type": "stream",
     "text": [
      " 11.993454 seconds (22.23 M allocations: 7.389 GiB, 9.18% gc time, 0.09% compilation time)\n"
     ]
    }
   ],
   "source": [
    "@time lods_from_gemma = CSV.File(\"output/lods_from_gemma.csv\", header = false) |> Tables.matrix;"
   ]
  },
  {
   "cell_type": "code",
   "execution_count": 13,
   "id": "b16d1ca7-5ede-4348-bbdc-e3573e4694ec",
   "metadata": {},
   "outputs": [
    {
     "data": {
      "text/plain": [
       "(7321, 35556)"
      ]
     },
     "execution_count": 13,
     "metadata": {},
     "output_type": "execute_result"
    }
   ],
   "source": [
    "size(lods_from_gemma)"
   ]
  },
  {
   "cell_type": "code",
   "execution_count": 17,
   "id": "730597ba-f586-42fd-beab-93ecb64622f6",
   "metadata": {},
   "outputs": [
    {
     "data": {
      "text/plain": [
       "0.1839783"
      ]
     },
     "execution_count": 17,
     "metadata": {},
     "output_type": "execute_result"
    }
   ],
   "source": [
    "hsqs_from_gemma[6066, 108]"
   ]
  },
  {
   "cell_type": "code",
   "execution_count": 12,
   "id": "a078ac19-60d8-45a0-af05-baf78e9c5e35",
   "metadata": {},
   "outputs": [
    {
     "data": {
      "text/plain": [
       "CartesianIndex(6066, 108)"
      ]
     },
     "execution_count": 12,
     "metadata": {},
     "output_type": "execute_result"
    }
   ],
   "source": [
    "findfirst(isinf.(lods_from_gemma))"
   ]
  },
  {
   "cell_type": "code",
   "execution_count": 16,
   "id": "bf48ef13-b4db-4e99-9bc9-71aaddcb408f",
   "metadata": {},
   "outputs": [
    {
     "data": {
      "text/plain": [
       "29128"
      ]
     },
     "execution_count": 16,
     "metadata": {},
     "output_type": "execute_result"
    }
   ],
   "source": [
    "sum(findall(isinf.(lods_from_gemma[6066, :])))"
   ]
  },
  {
   "cell_type": "code",
   "execution_count": 19,
   "id": "49f2d4b9-d826-4c72-9315-dc61ed735402",
   "metadata": {},
   "outputs": [
    {
     "data": {
      "text/plain": [
       "20-element Vector{Float64}:\n",
       "  4.974971296497128\n",
       "  5.642226041346928\n",
       "  5.77407886098242\n",
       " 10.773949486974042\n",
       " 10.773949486974042\n",
       " Inf\n",
       " Inf\n",
       " Inf\n",
       " Inf\n",
       " Inf\n",
       " 12.532501455149138\n",
       " 12.532501455149138\n",
       " 12.532501455149138\n",
       " 12.532501455149138\n",
       " 10.684385605968584\n",
       " 10.684385605968584\n",
       "  8.34154618961951\n",
       "  8.34154618961951\n",
       "  7.442655334047717\n",
       "  7.442655334047717"
      ]
     },
     "execution_count": 19,
     "metadata": {},
     "output_type": "execute_result"
    }
   ],
   "source": [
    "lods_from_gemma[6061:6080, 108]"
   ]
  },
  {
   "cell_type": "code",
   "execution_count": 20,
   "id": "bff73000-53fb-4a9f-8e18-eb46c633e2b4",
   "metadata": {},
   "outputs": [],
   "source": [
    "lods_corrected = scan_perms(reshape(pheno[:, 108], :, 1), geno, kinship_Gc; prior_a = 1.0, prior_b = 0.1, nperms = 0);"
   ]
  },
  {
   "cell_type": "code",
   "execution_count": 22,
   "id": "d8f3e61f-cdf7-472d-8c3e-e48e452d5f86",
   "metadata": {},
   "outputs": [
    {
     "data": {
      "text/plain": [
       "20×2 Matrix{Float64}:\n",
       "  5.5787    4.97497\n",
       "  6.0889    5.64223\n",
       "  6.2897    5.77408\n",
       " 11.8741   10.7739\n",
       " 11.8741   10.7739\n",
       " 21.0124   Inf\n",
       " 21.0124   Inf\n",
       " 19.9128   Inf\n",
       " 19.9128   Inf\n",
       " 19.9112   Inf\n",
       " 11.6298   12.5325\n",
       " 11.6298   12.5325\n",
       " 11.6298   12.5325\n",
       " 11.6298   12.5325\n",
       "  9.57335  10.6844\n",
       "  9.57335  10.6844\n",
       "  7.89166   8.34155\n",
       "  7.89166   8.34155\n",
       "  7.095     7.44266\n",
       "  7.095     7.44266"
      ]
     },
     "execution_count": 22,
     "metadata": {},
     "output_type": "execute_result"
    }
   ],
   "source": [
    "hcat(vec(lods_corrected)[6061:6080], lods_from_gemma[6061:6080, 108])"
   ]
  },
  {
   "cell_type": "code",
   "execution_count": null,
   "id": "a3daa100-06aa-43e1-ac75-9fcab249603b",
   "metadata": {},
   "outputs": [],
   "source": []
  },
  {
   "cell_type": "code",
   "execution_count": null,
   "id": "edaa5af0-e309-4a7f-90e7-c325a7f3d7d4",
   "metadata": {},
   "outputs": [],
   "source": []
  },
  {
   "cell_type": "code",
   "execution_count": 18,
   "id": "b61bb111-013c-419f-95cc-a08020f26601",
   "metadata": {},
   "outputs": [
    {
     "name": "stdout",
     "output_type": "stream",
     "text": [
      " 12.571384 seconds (22.22 M allocations: 7.393 GiB, 27.55% gc time)\n"
     ]
    }
   ],
   "source": [
    "@time hsqs_from_alt = CSV.File(\"output/hsqs_from_alt.csv\", header = false) |> Tables.matrix;"
   ]
  },
  {
   "cell_type": "code",
   "execution_count": 19,
   "id": "a7861984-45ac-40d8-a70d-564b4acb6d81",
   "metadata": {},
   "outputs": [
    {
     "name": "stdout",
     "output_type": "stream",
     "text": [
      " 12.881203 seconds (22.22 M allocations: 7.386 GiB, 33.08% gc time)\n"
     ]
    }
   ],
   "source": [
    "@time lods_from_alt = CSV.File(\"output/lods_from_alt.csv\", header = false) |> Tables.matrix;"
   ]
  },
  {
   "cell_type": "code",
   "execution_count": 20,
   "id": "ebe1efee-d19c-466d-a6a4-6e10779582fe",
   "metadata": {},
   "outputs": [],
   "source": [
    "test = readdlm(\"run-gemma/output/gemma_results.txt.assoc.txt\", '\\t');"
   ]
  },
  {
   "cell_type": "code",
   "execution_count": 21,
   "id": "6da81d5f-74e1-4bf7-9c7f-0fe3d90609b4",
   "metadata": {},
   "outputs": [
    {
     "data": {
      "text/plain": [
       "(true, true)"
      ]
     },
     "execution_count": 21,
     "metadata": {},
     "output_type": "execute_result"
    }
   ],
   "source": [
    "size(pvals_from_gemma) .== (p, m)"
   ]
  },
  {
   "cell_type": "code",
   "execution_count": 22,
   "id": "85476e7e-6775-4b17-89a6-ecb796590ac2",
   "metadata": {},
   "outputs": [
    {
     "name": "stdout",
     "output_type": "stream",
     "text": [
      "\u001b[0m\u001b[1mTest Summary:     | \u001b[22m\u001b[32m\u001b[1mPass  \u001b[22m\u001b[39m\u001b[36m\u001b[1mTotal\u001b[22m\u001b[39m\n",
      "checkSavedResults | \u001b[32m   6  \u001b[39m\u001b[36m    6\u001b[39m\n"
     ]
    }
   ],
   "source": [
    "@testset \"checkSavedResults\" begin\n",
    "    \n",
    "    @test size(pvals_from_gemma, 1) == p && size(pvals_from_gemma, 2) == m;\n",
    "    @test size(hsqs_from_gemma, 1) == p && size(hsqs_from_gemma, 2) == m;\n",
    "    @test size(lods_from_alt, 1) == p && size(lods_from_alt, 2) == m;\n",
    "    @test size(hsqs_from_alt, 1) == p && size(hsqs_from_alt, 2) == m;\n",
    "    @test sum(hsqs_from_gemma[:, m] .== test[2:end, 9]) == p;\n",
    "    @test sum(pvals_from_gemma[:, m] .== test[2:end, 10]) == p;\n",
    "    \n",
    "end;"
   ]
  },
  {
   "cell_type": "markdown",
   "id": "ada7dad5-3f40-49ce-8643-59a4b5d89aac",
   "metadata": {},
   "source": [
    "### Compare results:"
   ]
  },
  {
   "cell_type": "code",
   "execution_count": 23,
   "id": "ac899f71-94d6-40d8-bf23-e0620c367342",
   "metadata": {},
   "outputs": [
    {
     "data": {
      "text/plain": [
       "24"
      ]
     },
     "execution_count": 23,
     "metadata": {},
     "output_type": "execute_result"
    }
   ],
   "source": [
    "Threads.nthreads() # Number of julia threads using..."
   ]
  },
  {
   "cell_type": "code",
   "execution_count": 24,
   "id": "d8bb8dcf-af56-4709-8bf1-fc6667d733a7",
   "metadata": {},
   "outputs": [
    {
     "data": {
      "text/plain": [
       "8"
      ]
     },
     "execution_count": 24,
     "metadata": {},
     "output_type": "execute_result"
    }
   ],
   "source": [
    "BLAS.get_num_threads() # Number of BLAS threads using..."
   ]
  },
  {
   "cell_type": "code",
   "execution_count": 25,
   "id": "064846af-c40f-414b-8259-8f489958e200",
   "metadata": {},
   "outputs": [],
   "source": [
    "BLAS.set_num_threads(24) # Number of BLAS threads using..."
   ]
  },
  {
   "cell_type": "code",
   "execution_count": 26,
   "id": "ed980a5e-597d-4c18-9e70-7d07041d6038",
   "metadata": {},
   "outputs": [
    {
     "data": {
      "text/plain": [
       "24"
      ]
     },
     "execution_count": 26,
     "metadata": {},
     "output_type": "execute_result"
    }
   ],
   "source": [
    "BLAS.get_num_threads() # Number of BLAS threads using..."
   ]
  },
  {
   "cell_type": "code",
   "execution_count": 27,
   "id": "b67cc9be-4524-479e-9daf-03135c10a6f5",
   "metadata": {},
   "outputs": [],
   "source": [
    "grid_hsqs = collect(0:100).*0.01;"
   ]
  },
  {
   "cell_type": "code",
   "execution_count": 28,
   "id": "bfe566b9-356d-42cd-9b09-bdf6cb27e1af",
   "metadata": {},
   "outputs": [],
   "source": [
    "grid_hsqs = collect(0:10).*0.1;"
   ]
  },
  {
   "cell_type": "code",
   "execution_count": 29,
   "id": "c38e6927-7773-4bda-bc21-eeaf81754224",
   "metadata": {},
   "outputs": [
    {
     "name": "stdout",
     "output_type": "stream",
     "text": [
      " 11.812076 seconds (294.70 k allocations: 22.274 GiB, 18.22% gc time, 1.78% compilation time)\n"
     ]
    }
   ],
   "source": [
    "@time lods_from_bulk = bulkscan(pheno, geno, kinship_Gc, grid_hsqs);"
   ]
  },
  {
   "cell_type": "code",
   "execution_count": 30,
   "id": "32fe8689-c71b-4a47-94b9-47b1e9d46e3f",
   "metadata": {},
   "outputs": [
    {
     "name": "stdout",
     "output_type": "stream",
     "text": [
      "  1.078128 seconds (2 allocations: 1.939 GiB, 2.11% gc time)\n"
     ]
    },
    {
     "data": {
      "text/plain": [
       "7399.027333439694"
      ]
     },
     "execution_count": 30,
     "metadata": {},
     "output_type": "execute_result"
    }
   ],
   "source": [
    "@time maxSqDiff(lods_from_bulk, lods_from_alt)"
   ]
  },
  {
   "cell_type": "code",
   "execution_count": 31,
   "id": "f9f8fb50-2842-4de4-b581-b004d6ac89e7",
   "metadata": {},
   "outputs": [
    {
     "data": {
      "text/plain": [
       "false"
      ]
     },
     "execution_count": 31,
     "metadata": {},
     "output_type": "execute_result"
    }
   ],
   "source": [
    "any(lods_from_bulk .< 0)"
   ]
  },
  {
   "cell_type": "code",
   "execution_count": 32,
   "id": "9e2a18d6-8a2b-4e5d-8605-5408cd0f6e00",
   "metadata": {},
   "outputs": [
    {
     "data": {
      "text/plain": [
       "true"
      ]
     },
     "execution_count": 32,
     "metadata": {},
     "output_type": "execute_result"
    }
   ],
   "source": [
    "any(lods_from_alt .< 0)"
   ]
  },
  {
   "cell_type": "code",
   "execution_count": 33,
   "id": "9f6c9907-0639-4338-b34c-5ba72c10a81b",
   "metadata": {},
   "outputs": [
    {
     "data": {
      "text/plain": [
       "false"
      ]
     },
     "execution_count": 33,
     "metadata": {},
     "output_type": "execute_result"
    }
   ],
   "source": [
    "any(lods_from_gemma .< 0)"
   ]
  },
  {
   "cell_type": "code",
   "execution_count": 34,
   "id": "8a3a46ee-4679-4690-afb5-b477bb6c4e36",
   "metadata": {},
   "outputs": [
    {
     "data": {
      "text/plain": [
       "(86.01759897509169, CartesianIndex(4753, 11077))"
      ]
     },
     "execution_count": 34,
     "metadata": {},
     "output_type": "execute_result"
    }
   ],
   "source": [
    "findmax(lods_from_bulk .- lods_from_alt)"
   ]
  },
  {
   "cell_type": "markdown",
   "id": "0b638205-9711-45e0-8718-a7b2654cacbf",
   "metadata": {},
   "source": [
    "#### Compare bulkscan and scan_alt:"
   ]
  },
  {
   "cell_type": "code",
   "execution_count": 35,
   "id": "71540bda-20a3-45a1-a05d-131064368369",
   "metadata": {},
   "outputs": [],
   "source": [
    "absDiff = abs.(lods_from_bulk .- lods_from_alt);\n",
    "diffArray = vec(absDiff);"
   ]
  },
  {
   "cell_type": "code",
   "execution_count": 36,
   "id": "e4800e4e-7a2d-4d00-ac73-1a9745ef893e",
   "metadata": {},
   "outputs": [],
   "source": [
    "exactDiff = vec(lods_from_bulk .- lods_from_alt);"
   ]
  },
  {
   "cell_type": "markdown",
   "id": "6e296784-b069-42b4-ae83-17fe1c186f79",
   "metadata": {},
   "source": [
    "try hexbin..."
   ]
  },
  {
   "cell_type": "markdown",
   "id": "e984b5c1-65ca-490c-9a06-1777f99cccad",
   "metadata": {},
   "source": [
    "Given a particular error tolerance, let's see how many the LOD scores estimated by our fast Bulkscan approach are within the acceptable error range:"
   ]
  },
  {
   "cell_type": "markdown",
   "id": "4395cf62-ee8e-4d64-96dd-3222db06f409",
   "metadata": {},
   "source": [
    "### Check negativity issue in lods_from_alt:"
   ]
  },
  {
   "cell_type": "markdown",
   "id": "a0ab2b21-5119-446b-99d4-f91704dd06f1",
   "metadata": {},
   "source": [
    "We see from the above scatter plot, there are estimates of LOD scores that are negative, which is theoretically impossible. We now carefully examine how that happened in our outputs."
   ]
  },
  {
   "cell_type": "code",
   "execution_count": 37,
   "id": "458fc385-1ea0-4a8a-9cf9-26f14bf0721a",
   "metadata": {},
   "outputs": [
    {
     "data": {
      "text/plain": [
       "0.0007208108061468519"
      ]
     },
     "execution_count": 37,
     "metadata": {},
     "output_type": "execute_result"
    }
   ],
   "source": [
    "sum(lods_from_alt .< 0)/(m*p)"
   ]
  },
  {
   "cell_type": "code",
   "execution_count": 38,
   "id": "a6027433-99e9-48ee-b738-4ff3451a7ff8",
   "metadata": {},
   "outputs": [],
   "source": [
    "hasNegativeLODs = map(x -> any(lods_from_alt[:, x] .< 0), 1:m);\n",
    "hasNegativeLODs_n1 = map(x -> any(lods_from_alt[:, x] .< -1.0), 1:m);"
   ]
  },
  {
   "cell_type": "code",
   "execution_count": 39,
   "id": "88c9dd62-5a3a-49fc-afc4-6e6f4ad978ea",
   "metadata": {},
   "outputs": [
    {
     "data": {
      "text/plain": [
       "386"
      ]
     },
     "execution_count": 39,
     "metadata": {},
     "output_type": "execute_result"
    }
   ],
   "source": [
    "sum(hasNegativeLODs) # in total 386 (out of 35k) traits contain at least one negative LOD score."
   ]
  },
  {
   "cell_type": "code",
   "execution_count": 40,
   "id": "e0d5e107-1dee-41b1-a021-e1bdb9006dbd",
   "metadata": {},
   "outputs": [
    {
     "data": {
      "text/plain": [
       "321"
      ]
     },
     "execution_count": 40,
     "metadata": {},
     "output_type": "execute_result"
    }
   ],
   "source": [
    "sum(hasNegativeLODs_n1)"
   ]
  },
  {
   "cell_type": "code",
   "execution_count": 41,
   "id": "fc365b94-bf2d-4b71-b079-05ceda1e8dac",
   "metadata": {},
   "outputs": [
    {
     "data": {
      "text/plain": [
       "0.010856114298571268"
      ]
     },
     "execution_count": 41,
     "metadata": {},
     "output_type": "execute_result"
    }
   ],
   "source": [
    "mean(hasNegativeLODs) # about 1% of the traits had negative LOD scores by scan_alt()"
   ]
  },
  {
   "cell_type": "markdown",
   "id": "244d1a43-03d1-452f-b55e-c1cae80118b4",
   "metadata": {},
   "source": [
    "Let's look at the first one..."
   ]
  },
  {
   "cell_type": "code",
   "execution_count": 42,
   "id": "a9a0fc3b-7e36-40e4-b0f3-0ac7cdd39c45",
   "metadata": {},
   "outputs": [],
   "source": [
    "blackSwans = findall(hasNegativeLODs); # traits that have at least one negative LOD"
   ]
  },
  {
   "cell_type": "code",
   "execution_count": 43,
   "id": "dd59d1cf-92c1-4a8d-b69c-f60d0ab59cbf",
   "metadata": {},
   "outputs": [],
   "source": [
    "blackSwans_n1 = findall(hasNegativeLODs_n1); # traits that have at least one negative LOD"
   ]
  },
  {
   "cell_type": "code",
   "execution_count": 44,
   "id": "3ce78126-0a9d-44db-ae37-9cf38977471b",
   "metadata": {},
   "outputs": [
    {
     "data": {
      "text/plain": [
       "386-element Vector{Int64}:\n",
       "    33\n",
       "   108\n",
       "   187\n",
       "   222\n",
       "   227\n",
       "   258\n",
       "   536\n",
       "   544\n",
       "   703\n",
       "   712\n",
       "   789\n",
       "   821\n",
       "   929\n",
       "     ⋮\n",
       " 34309\n",
       " 34363\n",
       " 34507\n",
       " 34600\n",
       " 34602\n",
       " 34603\n",
       " 34735\n",
       " 34766\n",
       " 35184\n",
       " 35235\n",
       " 35268\n",
       " 35496"
      ]
     },
     "execution_count": 44,
     "metadata": {},
     "output_type": "execute_result"
    }
   ],
   "source": [
    "blackSwans"
   ]
  },
  {
   "cell_type": "code",
   "execution_count": 45,
   "id": "1274e6ec-4a5e-4391-ac42-dfa7b94c5038",
   "metadata": {},
   "outputs": [
    {
     "data": {
      "text/plain": [
       "321-element Vector{Int64}:\n",
       "   108\n",
       "   187\n",
       "   222\n",
       "   258\n",
       "   536\n",
       "   703\n",
       "   712\n",
       "   789\n",
       "   929\n",
       "   946\n",
       "  1123\n",
       "  1292\n",
       "  1310\n",
       "     ⋮\n",
       " 34153\n",
       " 34309\n",
       " 34363\n",
       " 34507\n",
       " 34600\n",
       " 34602\n",
       " 34603\n",
       " 34735\n",
       " 34766\n",
       " 35184\n",
       " 35268\n",
       " 35496"
      ]
     },
     "execution_count": 45,
     "metadata": {},
     "output_type": "execute_result"
    }
   ],
   "source": [
    "blackSwans_n1"
   ]
  },
  {
   "cell_type": "code",
   "execution_count": 46,
   "id": "8f5fd3d7-326f-455a-b01c-02e16aa2ea11",
   "metadata": {},
   "outputs": [
    {
     "data": {
      "image/svg+xml": [
       "<?xml version=\"1.0\" encoding=\"utf-8\"?>\n",
       "<svg xmlns=\"http://www.w3.org/2000/svg\" xmlns:xlink=\"http://www.w3.org/1999/xlink\" width=\"600\" height=\"400\" viewBox=\"0 0 2400 1600\">\n",
       "<defs>\n",
       "  <clipPath id=\"clip700\">\n",
       "    <rect x=\"0\" y=\"0\" width=\"2400\" height=\"1600\"/>\n",
       "  </clipPath>\n",
       "</defs>\n",
       "<path clip-path=\"url(#clip700)\" d=\"\n",
       "M0 1600 L2400 1600 L2400 0 L0 0  Z\n",
       "  \" fill=\"#ffffff\" fill-rule=\"evenodd\" fill-opacity=\"1\"/>\n",
       "<defs>\n",
       "  <clipPath id=\"clip701\">\n",
       "    <rect x=\"480\" y=\"0\" width=\"1681\" height=\"1600\"/>\n",
       "  </clipPath>\n",
       "</defs>\n",
       "<path clip-path=\"url(#clip700)\" d=\"\n",
       "M148.057 1486.45 L2352.76 1486.45 L2352.76 47.2441 L148.057 47.2441  Z\n",
       "  \" fill=\"#ffffff\" fill-rule=\"evenodd\" fill-opacity=\"1\"/>\n",
       "<defs>\n",
       "  <clipPath id=\"clip702\">\n",
       "    <rect x=\"148\" y=\"47\" width=\"2206\" height=\"1440\"/>\n",
       "  </clipPath>\n",
       "</defs>\n",
       "<polyline clip-path=\"url(#clip702)\" style=\"stroke:#000000; stroke-linecap:round; stroke-linejoin:round; stroke-width:2; stroke-opacity:0.1; fill:none\" points=\"\n",
       "  210.17,1486.45 210.17,47.2441 \n",
       "  \"/>\n",
       "<polyline clip-path=\"url(#clip702)\" style=\"stroke:#000000; stroke-linecap:round; stroke-linejoin:round; stroke-width:2; stroke-opacity:0.1; fill:none\" points=\"\n",
       "  778.45,1486.45 778.45,47.2441 \n",
       "  \"/>\n",
       "<polyline clip-path=\"url(#clip702)\" style=\"stroke:#000000; stroke-linecap:round; stroke-linejoin:round; stroke-width:2; stroke-opacity:0.1; fill:none\" points=\"\n",
       "  1346.73,1486.45 1346.73,47.2441 \n",
       "  \"/>\n",
       "<polyline clip-path=\"url(#clip702)\" style=\"stroke:#000000; stroke-linecap:round; stroke-linejoin:round; stroke-width:2; stroke-opacity:0.1; fill:none\" points=\"\n",
       "  1915.01,1486.45 1915.01,47.2441 \n",
       "  \"/>\n",
       "<polyline clip-path=\"url(#clip700)\" style=\"stroke:#000000; stroke-linecap:round; stroke-linejoin:round; stroke-width:4; stroke-opacity:1; fill:none\" points=\"\n",
       "  148.057,1486.45 2352.76,1486.45 \n",
       "  \"/>\n",
       "<polyline clip-path=\"url(#clip700)\" style=\"stroke:#000000; stroke-linecap:round; stroke-linejoin:round; stroke-width:4; stroke-opacity:1; fill:none\" points=\"\n",
       "  210.17,1486.45 210.17,1467.55 \n",
       "  \"/>\n",
       "<polyline clip-path=\"url(#clip700)\" style=\"stroke:#000000; stroke-linecap:round; stroke-linejoin:round; stroke-width:4; stroke-opacity:1; fill:none\" points=\"\n",
       "  778.45,1486.45 778.45,1467.55 \n",
       "  \"/>\n",
       "<polyline clip-path=\"url(#clip700)\" style=\"stroke:#000000; stroke-linecap:round; stroke-linejoin:round; stroke-width:4; stroke-opacity:1; fill:none\" points=\"\n",
       "  1346.73,1486.45 1346.73,1467.55 \n",
       "  \"/>\n",
       "<polyline clip-path=\"url(#clip700)\" style=\"stroke:#000000; stroke-linecap:round; stroke-linejoin:round; stroke-width:4; stroke-opacity:1; fill:none\" points=\"\n",
       "  1915.01,1486.45 1915.01,1467.55 \n",
       "  \"/>\n",
       "<path clip-path=\"url(#clip700)\" d=\"M210.17 1517.37 Q206.559 1517.37 204.73 1520.93 Q202.924 1524.47 202.924 1531.6 Q202.924 1538.71 204.73 1542.27 Q206.559 1545.82 210.17 1545.82 Q213.804 1545.82 215.609 1542.27 Q217.438 1538.71 217.438 1531.6 Q217.438 1524.47 215.609 1520.93 Q213.804 1517.37 210.17 1517.37 M210.17 1513.66 Q215.98 1513.66 219.035 1518.27 Q222.114 1522.85 222.114 1531.6 Q222.114 1540.33 219.035 1544.94 Q215.98 1549.52 210.17 1549.52 Q204.359 1549.52 201.281 1544.94 Q198.225 1540.33 198.225 1531.6 Q198.225 1522.85 201.281 1518.27 Q204.359 1513.66 210.17 1513.66 Z\" fill=\"#000000\" fill-rule=\"evenodd\" fill-opacity=\"1\" /><path clip-path=\"url(#clip700)\" d=\"M727.061 1544.91 L743.38 1544.91 L743.38 1548.85 L721.436 1548.85 L721.436 1544.91 Q724.098 1542.16 728.681 1537.53 Q733.288 1532.88 734.468 1531.53 Q736.714 1529.01 737.593 1527.27 Q738.496 1525.51 738.496 1523.82 Q738.496 1521.07 736.552 1519.33 Q734.63 1517.6 731.529 1517.6 Q729.33 1517.6 726.876 1518.36 Q724.445 1519.13 721.668 1520.68 L721.668 1515.95 Q724.492 1514.82 726.945 1514.24 Q729.399 1513.66 731.436 1513.66 Q736.806 1513.66 740.001 1516.35 Q743.195 1519.03 743.195 1523.52 Q743.195 1525.65 742.385 1527.57 Q741.598 1529.47 739.492 1532.07 Q738.913 1532.74 735.811 1535.95 Q732.709 1539.15 727.061 1544.91 Z\" fill=\"#000000\" fill-rule=\"evenodd\" fill-opacity=\"1\" /><path clip-path=\"url(#clip700)\" d=\"M763.195 1517.37 Q759.584 1517.37 757.755 1520.93 Q755.95 1524.47 755.95 1531.6 Q755.95 1538.71 757.755 1542.27 Q759.584 1545.82 763.195 1545.82 Q766.829 1545.82 768.635 1542.27 Q770.464 1538.71 770.464 1531.6 Q770.464 1524.47 768.635 1520.93 Q766.829 1517.37 763.195 1517.37 M763.195 1513.66 Q769.005 1513.66 772.061 1518.27 Q775.14 1522.85 775.14 1531.6 Q775.14 1540.33 772.061 1544.94 Q769.005 1549.52 763.195 1549.52 Q757.385 1549.52 754.306 1544.94 Q751.251 1540.33 751.251 1531.6 Q751.251 1522.85 754.306 1518.27 Q757.385 1513.66 763.195 1513.66 Z\" fill=\"#000000\" fill-rule=\"evenodd\" fill-opacity=\"1\" /><path clip-path=\"url(#clip700)\" d=\"M793.357 1517.37 Q789.746 1517.37 787.917 1520.93 Q786.112 1524.47 786.112 1531.6 Q786.112 1538.71 787.917 1542.27 Q789.746 1545.82 793.357 1545.82 Q796.991 1545.82 798.797 1542.27 Q800.625 1538.71 800.625 1531.6 Q800.625 1524.47 798.797 1520.93 Q796.991 1517.37 793.357 1517.37 M793.357 1513.66 Q799.167 1513.66 802.223 1518.27 Q805.301 1522.85 805.301 1531.6 Q805.301 1540.33 802.223 1544.94 Q799.167 1549.52 793.357 1549.52 Q787.547 1549.52 784.468 1544.94 Q781.413 1540.33 781.413 1531.6 Q781.413 1522.85 784.468 1518.27 Q787.547 1513.66 793.357 1513.66 Z\" fill=\"#000000\" fill-rule=\"evenodd\" fill-opacity=\"1\" /><path clip-path=\"url(#clip700)\" d=\"M823.519 1517.37 Q819.908 1517.37 818.079 1520.93 Q816.274 1524.47 816.274 1531.6 Q816.274 1538.71 818.079 1542.27 Q819.908 1545.82 823.519 1545.82 Q827.153 1545.82 828.959 1542.27 Q830.787 1538.71 830.787 1531.6 Q830.787 1524.47 828.959 1520.93 Q827.153 1517.37 823.519 1517.37 M823.519 1513.66 Q829.329 1513.66 832.385 1518.27 Q835.463 1522.85 835.463 1531.6 Q835.463 1540.33 832.385 1544.94 Q829.329 1549.52 823.519 1549.52 Q817.709 1549.52 814.63 1544.94 Q811.574 1540.33 811.574 1531.6 Q811.574 1522.85 814.63 1518.27 Q817.709 1513.66 823.519 1513.66 Z\" fill=\"#000000\" fill-rule=\"evenodd\" fill-opacity=\"1\" /><path clip-path=\"url(#clip700)\" d=\"M1304.74 1518.36 L1292.93 1536.81 L1304.74 1536.81 L1304.74 1518.36 M1303.51 1514.29 L1309.39 1514.29 L1309.39 1536.81 L1314.32 1536.81 L1314.32 1540.7 L1309.39 1540.7 L1309.39 1548.85 L1304.74 1548.85 L1304.74 1540.7 L1289.14 1540.7 L1289.14 1536.19 L1303.51 1514.29 Z\" fill=\"#000000\" fill-rule=\"evenodd\" fill-opacity=\"1\" /><path clip-path=\"url(#clip700)\" d=\"M1332.05 1517.37 Q1328.44 1517.37 1326.61 1520.93 Q1324.81 1524.47 1324.81 1531.6 Q1324.81 1538.71 1326.61 1542.27 Q1328.44 1545.82 1332.05 1545.82 Q1335.69 1545.82 1337.49 1542.27 Q1339.32 1538.71 1339.32 1531.6 Q1339.32 1524.47 1337.49 1520.93 Q1335.69 1517.37 1332.05 1517.37 M1332.05 1513.66 Q1337.86 1513.66 1340.92 1518.27 Q1344 1522.85 1344 1531.6 Q1344 1540.33 1340.92 1544.94 Q1337.86 1549.52 1332.05 1549.52 Q1326.24 1549.52 1323.17 1544.94 Q1320.11 1540.33 1320.11 1531.6 Q1320.11 1522.85 1323.17 1518.27 Q1326.24 1513.66 1332.05 1513.66 Z\" fill=\"#000000\" fill-rule=\"evenodd\" fill-opacity=\"1\" /><path clip-path=\"url(#clip700)\" d=\"M1362.22 1517.37 Q1358.6 1517.37 1356.78 1520.93 Q1354.97 1524.47 1354.97 1531.6 Q1354.97 1538.71 1356.78 1542.27 Q1358.6 1545.82 1362.22 1545.82 Q1365.85 1545.82 1367.66 1542.27 Q1369.48 1538.71 1369.48 1531.6 Q1369.48 1524.47 1367.66 1520.93 Q1365.85 1517.37 1362.22 1517.37 M1362.22 1513.66 Q1368.03 1513.66 1371.08 1518.27 Q1374.16 1522.85 1374.16 1531.6 Q1374.16 1540.33 1371.08 1544.94 Q1368.03 1549.52 1362.22 1549.52 Q1356.41 1549.52 1353.33 1544.94 Q1350.27 1540.33 1350.27 1531.6 Q1350.27 1522.85 1353.33 1518.27 Q1356.41 1513.66 1362.22 1513.66 Z\" fill=\"#000000\" fill-rule=\"evenodd\" fill-opacity=\"1\" /><path clip-path=\"url(#clip700)\" d=\"M1392.38 1517.37 Q1388.77 1517.37 1386.94 1520.93 Q1385.13 1524.47 1385.13 1531.6 Q1385.13 1538.71 1386.94 1542.27 Q1388.77 1545.82 1392.38 1545.82 Q1396.01 1545.82 1397.82 1542.27 Q1399.65 1538.71 1399.65 1531.6 Q1399.65 1524.47 1397.82 1520.93 Q1396.01 1517.37 1392.38 1517.37 M1392.38 1513.66 Q1398.19 1513.66 1401.24 1518.27 Q1404.32 1522.85 1404.32 1531.6 Q1404.32 1540.33 1401.24 1544.94 Q1398.19 1549.52 1392.38 1549.52 Q1386.57 1549.52 1383.49 1544.94 Q1380.43 1540.33 1380.43 1531.6 Q1380.43 1522.85 1383.49 1518.27 Q1386.57 1513.66 1392.38 1513.66 Z\" fill=\"#000000\" fill-rule=\"evenodd\" fill-opacity=\"1\" /><path clip-path=\"url(#clip700)\" d=\"M1870.25 1529.7 Q1867.1 1529.7 1865.25 1531.86 Q1863.42 1534.01 1863.42 1537.76 Q1863.42 1541.49 1865.25 1543.66 Q1867.1 1545.82 1870.25 1545.82 Q1873.4 1545.82 1875.23 1543.66 Q1877.08 1541.49 1877.08 1537.76 Q1877.08 1534.01 1875.23 1531.86 Q1873.4 1529.7 1870.25 1529.7 M1879.54 1515.05 L1879.54 1519.31 Q1877.78 1518.48 1875.97 1518.04 Q1874.19 1517.6 1872.43 1517.6 Q1867.8 1517.6 1865.35 1520.72 Q1862.92 1523.85 1862.57 1530.17 Q1863.93 1528.15 1865.99 1527.09 Q1868.05 1526 1870.53 1526 Q1875.74 1526 1878.75 1529.17 Q1881.78 1532.32 1881.78 1537.76 Q1881.78 1543.08 1878.63 1546.3 Q1875.48 1549.52 1870.25 1549.52 Q1864.26 1549.52 1861.09 1544.94 Q1857.92 1540.33 1857.92 1531.6 Q1857.92 1523.41 1861.8 1518.55 Q1865.69 1513.66 1872.24 1513.66 Q1874 1513.66 1875.79 1514.01 Q1877.59 1514.36 1879.54 1515.05 Z\" fill=\"#000000\" fill-rule=\"evenodd\" fill-opacity=\"1\" /><path clip-path=\"url(#clip700)\" d=\"M1899.84 1517.37 Q1896.23 1517.37 1894.4 1520.93 Q1892.59 1524.47 1892.59 1531.6 Q1892.59 1538.71 1894.4 1542.27 Q1896.23 1545.82 1899.84 1545.82 Q1903.47 1545.82 1905.28 1542.27 Q1907.1 1538.71 1907.1 1531.6 Q1907.1 1524.47 1905.28 1520.93 Q1903.47 1517.37 1899.84 1517.37 M1899.84 1513.66 Q1905.65 1513.66 1908.7 1518.27 Q1911.78 1522.85 1911.78 1531.6 Q1911.78 1540.33 1908.7 1544.94 Q1905.65 1549.52 1899.84 1549.52 Q1894.03 1549.52 1890.95 1544.94 Q1887.89 1540.33 1887.89 1531.6 Q1887.89 1522.85 1890.95 1518.27 Q1894.03 1513.66 1899.84 1513.66 Z\" fill=\"#000000\" fill-rule=\"evenodd\" fill-opacity=\"1\" /><path clip-path=\"url(#clip700)\" d=\"M1930 1517.37 Q1926.39 1517.37 1924.56 1520.93 Q1922.75 1524.47 1922.75 1531.6 Q1922.75 1538.71 1924.56 1542.27 Q1926.39 1545.82 1930 1545.82 Q1933.63 1545.82 1935.44 1542.27 Q1937.27 1538.71 1937.27 1531.6 Q1937.27 1524.47 1935.44 1520.93 Q1933.63 1517.37 1930 1517.37 M1930 1513.66 Q1935.81 1513.66 1938.86 1518.27 Q1941.94 1522.85 1941.94 1531.6 Q1941.94 1540.33 1938.86 1544.94 Q1935.81 1549.52 1930 1549.52 Q1924.19 1549.52 1921.11 1544.94 Q1918.05 1540.33 1918.05 1531.6 Q1918.05 1522.85 1921.11 1518.27 Q1924.19 1513.66 1930 1513.66 Z\" fill=\"#000000\" fill-rule=\"evenodd\" fill-opacity=\"1\" /><path clip-path=\"url(#clip700)\" d=\"M1960.16 1517.37 Q1956.55 1517.37 1954.72 1520.93 Q1952.91 1524.47 1952.91 1531.6 Q1952.91 1538.71 1954.72 1542.27 Q1956.55 1545.82 1960.16 1545.82 Q1963.79 1545.82 1965.6 1542.27 Q1967.43 1538.71 1967.43 1531.6 Q1967.43 1524.47 1965.6 1520.93 Q1963.79 1517.37 1960.16 1517.37 M1960.16 1513.66 Q1965.97 1513.66 1969.03 1518.27 Q1972.1 1522.85 1972.1 1531.6 Q1972.1 1540.33 1969.03 1544.94 Q1965.97 1549.52 1960.16 1549.52 Q1954.35 1549.52 1951.27 1544.94 Q1948.22 1540.33 1948.22 1531.6 Q1948.22 1522.85 1951.27 1518.27 Q1954.35 1513.66 1960.16 1513.66 Z\" fill=\"#000000\" fill-rule=\"evenodd\" fill-opacity=\"1\" /><polyline clip-path=\"url(#clip702)\" style=\"stroke:#000000; stroke-linecap:round; stroke-linejoin:round; stroke-width:2; stroke-opacity:0.1; fill:none\" points=\"\n",
       "  148.057,1427.32 2352.76,1427.32 \n",
       "  \"/>\n",
       "<polyline clip-path=\"url(#clip702)\" style=\"stroke:#000000; stroke-linecap:round; stroke-linejoin:round; stroke-width:2; stroke-opacity:0.1; fill:none\" points=\"\n",
       "  148.057,1223.61 2352.76,1223.61 \n",
       "  \"/>\n",
       "<polyline clip-path=\"url(#clip702)\" style=\"stroke:#000000; stroke-linecap:round; stroke-linejoin:round; stroke-width:2; stroke-opacity:0.1; fill:none\" points=\"\n",
       "  148.057,1019.9 2352.76,1019.9 \n",
       "  \"/>\n",
       "<polyline clip-path=\"url(#clip702)\" style=\"stroke:#000000; stroke-linecap:round; stroke-linejoin:round; stroke-width:2; stroke-opacity:0.1; fill:none\" points=\"\n",
       "  148.057,816.19 2352.76,816.19 \n",
       "  \"/>\n",
       "<polyline clip-path=\"url(#clip702)\" style=\"stroke:#000000; stroke-linecap:round; stroke-linejoin:round; stroke-width:2; stroke-opacity:0.1; fill:none\" points=\"\n",
       "  148.057,612.481 2352.76,612.481 \n",
       "  \"/>\n",
       "<polyline clip-path=\"url(#clip702)\" style=\"stroke:#000000; stroke-linecap:round; stroke-linejoin:round; stroke-width:2; stroke-opacity:0.1; fill:none\" points=\"\n",
       "  148.057,408.772 2352.76,408.772 \n",
       "  \"/>\n",
       "<polyline clip-path=\"url(#clip702)\" style=\"stroke:#000000; stroke-linecap:round; stroke-linejoin:round; stroke-width:2; stroke-opacity:0.1; fill:none\" points=\"\n",
       "  148.057,205.062 2352.76,205.062 \n",
       "  \"/>\n",
       "<polyline clip-path=\"url(#clip700)\" style=\"stroke:#000000; stroke-linecap:round; stroke-linejoin:round; stroke-width:4; stroke-opacity:1; fill:none\" points=\"\n",
       "  148.057,1486.45 148.057,47.2441 \n",
       "  \"/>\n",
       "<polyline clip-path=\"url(#clip700)\" style=\"stroke:#000000; stroke-linecap:round; stroke-linejoin:round; stroke-width:4; stroke-opacity:1; fill:none\" points=\"\n",
       "  148.057,1427.32 166.954,1427.32 \n",
       "  \"/>\n",
       "<polyline clip-path=\"url(#clip700)\" style=\"stroke:#000000; stroke-linecap:round; stroke-linejoin:round; stroke-width:4; stroke-opacity:1; fill:none\" points=\"\n",
       "  148.057,1223.61 166.954,1223.61 \n",
       "  \"/>\n",
       "<polyline clip-path=\"url(#clip700)\" style=\"stroke:#000000; stroke-linecap:round; stroke-linejoin:round; stroke-width:4; stroke-opacity:1; fill:none\" points=\"\n",
       "  148.057,1019.9 166.954,1019.9 \n",
       "  \"/>\n",
       "<polyline clip-path=\"url(#clip700)\" style=\"stroke:#000000; stroke-linecap:round; stroke-linejoin:round; stroke-width:4; stroke-opacity:1; fill:none\" points=\"\n",
       "  148.057,816.19 166.954,816.19 \n",
       "  \"/>\n",
       "<polyline clip-path=\"url(#clip700)\" style=\"stroke:#000000; stroke-linecap:round; stroke-linejoin:round; stroke-width:4; stroke-opacity:1; fill:none\" points=\"\n",
       "  148.057,612.481 166.954,612.481 \n",
       "  \"/>\n",
       "<polyline clip-path=\"url(#clip700)\" style=\"stroke:#000000; stroke-linecap:round; stroke-linejoin:round; stroke-width:4; stroke-opacity:1; fill:none\" points=\"\n",
       "  148.057,408.772 166.954,408.772 \n",
       "  \"/>\n",
       "<polyline clip-path=\"url(#clip700)\" style=\"stroke:#000000; stroke-linecap:round; stroke-linejoin:round; stroke-width:4; stroke-opacity:1; fill:none\" points=\"\n",
       "  148.057,205.062 166.954,205.062 \n",
       "  \"/>\n",
       "<path clip-path=\"url(#clip700)\" d=\"M50.9921 1427.77 L80.6679 1427.77 L80.6679 1431.7 L50.9921 1431.7 L50.9921 1427.77 Z\" fill=\"#000000\" fill-rule=\"evenodd\" fill-opacity=\"1\" /><path clip-path=\"url(#clip700)\" d=\"M104.927 1425.96 Q108.283 1426.68 110.158 1428.95 Q112.057 1431.22 112.057 1434.55 Q112.057 1439.67 108.538 1442.47 Q105.02 1445.27 98.5382 1445.27 Q96.3623 1445.27 94.0475 1444.83 Q91.7558 1444.41 89.3021 1443.56 L89.3021 1439.04 Q91.2465 1440.18 93.5613 1440.75 Q95.8761 1441.33 98.3993 1441.33 Q102.797 1441.33 105.089 1439.6 Q107.404 1437.86 107.404 1434.55 Q107.404 1431.5 105.251 1429.78 Q103.121 1428.05 99.3021 1428.05 L95.2743 1428.05 L95.2743 1424.2 L99.4872 1424.2 Q102.936 1424.2 104.765 1422.84 Q106.594 1421.45 106.594 1418.86 Q106.594 1416.19 104.696 1414.78 Q102.821 1413.35 99.3021 1413.35 Q97.3808 1413.35 95.1817 1413.76 Q92.9826 1414.18 90.3438 1415.06 L90.3438 1410.89 Q93.0058 1410.15 95.3206 1409.78 Q97.6585 1409.41 99.7187 1409.41 Q105.043 1409.41 108.145 1411.84 Q111.246 1414.25 111.246 1418.37 Q111.246 1421.24 109.603 1423.23 Q107.959 1425.2 104.927 1425.96 Z\" fill=\"#000000\" fill-rule=\"evenodd\" fill-opacity=\"1\" /><path clip-path=\"url(#clip700)\" d=\"M51.9412 1224.06 L81.617 1224.06 L81.617 1227.99 L51.9412 1227.99 L51.9412 1224.06 Z\" fill=\"#000000\" fill-rule=\"evenodd\" fill-opacity=\"1\" /><path clip-path=\"url(#clip700)\" d=\"M95.7373 1236.95 L112.057 1236.95 L112.057 1240.89 L90.1123 1240.89 L90.1123 1236.95 Q92.7743 1234.2 97.3576 1229.57 Q101.964 1224.92 103.145 1223.57 Q105.39 1221.05 106.27 1219.31 Q107.172 1217.56 107.172 1215.87 Q107.172 1213.11 105.228 1211.37 Q103.307 1209.64 100.205 1209.64 Q98.0058 1209.64 95.5521 1210.4 Q93.1215 1211.17 90.3438 1212.72 L90.3438 1208 Q93.1678 1206.86 95.6215 1206.28 Q98.0752 1205.7 100.112 1205.7 Q105.483 1205.7 108.677 1208.39 Q111.871 1211.07 111.871 1215.56 Q111.871 1217.69 111.061 1219.62 Q110.274 1221.51 108.168 1224.11 Q107.589 1224.78 104.487 1227.99 Q101.385 1231.19 95.7373 1236.95 Z\" fill=\"#000000\" fill-rule=\"evenodd\" fill-opacity=\"1\" /><path clip-path=\"url(#clip700)\" d=\"M51.5708 1020.35 L81.2466 1020.35 L81.2466 1024.29 L51.5708 1024.29 L51.5708 1020.35 Z\" fill=\"#000000\" fill-rule=\"evenodd\" fill-opacity=\"1\" /><path clip-path=\"url(#clip700)\" d=\"M92.1493 1033.24 L99.7882 1033.24 L99.7882 1006.88 L91.478 1008.55 L91.478 1004.29 L99.7419 1002.62 L104.418 1002.62 L104.418 1033.24 L112.057 1033.24 L112.057 1037.18 L92.1493 1037.18 L92.1493 1033.24 Z\" fill=\"#000000\" fill-rule=\"evenodd\" fill-opacity=\"1\" /><path clip-path=\"url(#clip700)\" d=\"M100.112 801.989 Q96.5011 801.989 94.6724 805.553 Q92.8669 809.095 92.8669 816.225 Q92.8669 823.331 94.6724 826.896 Q96.5011 830.438 100.112 830.438 Q103.746 830.438 105.552 826.896 Q107.381 823.331 107.381 816.225 Q107.381 809.095 105.552 805.553 Q103.746 801.989 100.112 801.989 M100.112 798.285 Q105.922 798.285 108.978 802.891 Q112.057 807.475 112.057 816.225 Q112.057 824.951 108.978 829.558 Q105.922 834.141 100.112 834.141 Q94.3021 834.141 91.2234 829.558 Q88.1679 824.951 88.1679 816.225 Q88.1679 807.475 91.2234 802.891 Q94.3021 798.285 100.112 798.285 Z\" fill=\"#000000\" fill-rule=\"evenodd\" fill-opacity=\"1\" /><path clip-path=\"url(#clip700)\" d=\"M92.1493 625.826 L99.7882 625.826 L99.7882 599.46 L91.478 601.127 L91.478 596.867 L99.7419 595.201 L104.418 595.201 L104.418 625.826 L112.057 625.826 L112.057 629.761 L92.1493 629.761 L92.1493 625.826 Z\" fill=\"#000000\" fill-rule=\"evenodd\" fill-opacity=\"1\" /><path clip-path=\"url(#clip700)\" d=\"M95.7373 422.116 L112.057 422.116 L112.057 426.052 L90.1123 426.052 L90.1123 422.116 Q92.7743 419.362 97.3576 414.732 Q101.964 410.079 103.145 408.737 Q105.39 406.214 106.27 404.478 Q107.172 402.718 107.172 401.029 Q107.172 398.274 105.228 396.538 Q103.307 394.802 100.205 394.802 Q98.0058 394.802 95.5521 395.566 Q93.1215 396.329 90.3438 397.88 L90.3438 393.158 Q93.1678 392.024 95.6215 391.445 Q98.0752 390.867 100.112 390.867 Q105.483 390.867 108.677 393.552 Q111.871 396.237 111.871 400.728 Q111.871 402.857 111.061 404.779 Q110.274 406.677 108.168 409.269 Q107.589 409.941 104.487 413.158 Q101.385 416.353 95.7373 422.116 Z\" fill=\"#000000\" fill-rule=\"evenodd\" fill-opacity=\"1\" /><path clip-path=\"url(#clip700)\" d=\"M104.927 203.708 Q108.283 204.426 110.158 206.694 Q112.057 208.963 112.057 212.296 Q112.057 217.412 108.538 220.213 Q105.02 223.014 98.5382 223.014 Q96.3623 223.014 94.0475 222.574 Q91.7558 222.157 89.3021 221.301 L89.3021 216.787 Q91.2465 217.921 93.5613 218.5 Q95.8761 219.078 98.3993 219.078 Q102.797 219.078 105.089 217.342 Q107.404 215.606 107.404 212.296 Q107.404 209.241 105.251 207.528 Q103.121 205.791 99.3021 205.791 L95.2743 205.791 L95.2743 201.949 L99.4872 201.949 Q102.936 201.949 104.765 200.583 Q106.594 199.194 106.594 196.602 Q106.594 193.94 104.696 192.528 Q102.821 191.093 99.3021 191.093 Q97.3808 191.093 95.1817 191.509 Q92.9826 191.926 90.3438 192.805 L90.3438 188.639 Q93.0058 187.898 95.3206 187.528 Q97.6585 187.157 99.7187 187.157 Q105.043 187.157 108.145 189.588 Q111.246 191.995 111.246 196.116 Q111.246 198.986 109.603 200.977 Q107.959 202.944 104.927 203.708 Z\" fill=\"#000000\" fill-rule=\"evenodd\" fill-opacity=\"1\" /><polyline clip-path=\"url(#clip702)\" style=\"stroke:#009af9; stroke-linecap:round; stroke-linejoin:round; stroke-width:4; stroke-opacity:1; fill:none\" points=\"\n",
       "  210.454,1393.99 210.738,1393.99 211.022,1393.99 211.306,1393.99 211.59,1393.99 211.874,1393.99 212.159,1393.99 212.443,1393.99 212.727,1393.99 213.011,1393.99 \n",
       "  213.295,1393.99 213.579,1393.99 213.863,693.276 214.148,693.274 214.432,728.92 214.716,728.92 215,728.92 215.284,728.92 215.568,728.92 215.852,728.92 \n",
       "  216.137,668.359 216.421,668.359 216.705,716.383 216.989,716.388 217.273,716.388 217.557,716.388 217.841,716.39 218.126,740.529 218.41,740.539 218.694,740.539 \n",
       "  218.978,740.539 219.262,722.057 219.546,722.056 219.83,722.056 220.115,772.58 220.399,797.462 220.683,814.16 220.967,798.612 221.251,798.612 221.535,798.617 \n",
       "  221.819,808.628 222.104,808.624 222.388,808.624 222.672,815.221 222.956,815.221 223.24,805.367 223.524,805.367 223.808,805.367 224.092,805.367 224.377,805.367 \n",
       "  224.661,805.367 224.945,792.116 225.229,792.116 225.513,806.348 225.797,798.244 226.081,798.244 226.366,798.244 226.65,809.756 226.934,809.756 227.218,816.19 \n",
       "  227.502,816.19 227.786,816.19 228.07,816.19 228.355,816.19 228.639,816.19 228.923,809.924 229.207,809.923 229.491,809.923 229.775,809.924 230.059,815.421 \n",
       "  230.344,815.421 230.628,813.629 230.912,813.627 231.196,796.882 231.48,791.369 231.764,791.369 232.048,791.369 232.333,791.369 232.617,812.935 232.901,761.365 \n",
       "  233.185,761.365 233.469,761.368 233.753,799.327 234.037,799.33 234.322,811.775 234.606,811.775 234.89,799.333 235.174,810.727 235.458,812.023 235.742,810.507 \n",
       "  236.026,816.152 236.311,741.605 236.595,741.602 236.879,741.602 237.163,786.76 237.447,784.876 237.731,784.876 238.015,784.876 238.299,784.876 238.584,784.879 \n",
       "  238.868,805.167 239.152,805.167 239.436,810.811 239.72,810.811 240.004,810.811 240.288,810.811 240.573,816.171 240.857,816.171 241.141,816.171 241.425,805.729 \n",
       "  241.709,805.729 241.993,805.729 242.277,805.729 242.562,805.729 242.846,812.529 243.13,812.529 243.414,816.166 243.698,843.024 243.982,1435.61 244.266,1412.56 \n",
       "  244.551,720.711 244.835,663.227 245.119,663.227 245.403,720.64 245.687,1281.51 245.971,1281.51 246.255,1357.07 246.54,1357.08 246.824,1357.08 247.108,704.262 \n",
       "  247.392,704.262 247.676,733.231 247.96,806.798 248.244,806.802 248.529,806.802 248.813,806.804 249.097,803.628 249.381,783.819 249.665,783.818 249.949,783.818 \n",
       "  250.233,783.818 250.518,783.811 250.802,574.8 251.086,477.984 251.37,477.984 251.654,623.719 251.938,623.723 252.222,623.723 252.506,623.723 252.791,623.723 \n",
       "  253.075,623.723 253.359,623.723 253.643,623.723 253.927,623.723 254.211,623.724 254.495,699.945 254.78,699.945 255.064,699.945 255.348,699.945 255.632,687.83 \n",
       "  255.916,687.832 256.2,687.832 256.484,687.832 256.769,687.832 257.053,687.832 257.337,687.832 257.621,789.467 257.905,789.467 258.189,789.467 258.473,789.467 \n",
       "  258.758,809.503 259.042,809.504 259.326,809.504 259.61,815.12 259.894,815.12 260.178,815.12 260.462,789.073 260.747,803.231 261.031,812.005 261.315,812.006 \n",
       "  261.599,812.006 261.883,812.006 262.167,812.006 262.451,812.006 262.736,815.808 263.02,815.808 263.304,813.205 263.588,812.448 263.872,812.448 264.156,812.448 \n",
       "  264.44,812.448 264.725,816.099 265.009,811.477 265.293,815.171 265.577,815.993 265.861,811.409 266.145,811.409 266.429,811.409 266.713,811.409 266.998,811.409 \n",
       "  267.282,811.409 267.566,814.702 267.85,737.979 268.134,754.293 268.418,795.074 268.702,795.074 268.987,795.072 269.271,814.747 269.555,814.747 269.839,814.747 \n",
       "  270.123,814.747 270.407,814.747 270.691,811.275 270.976,806.6 271.26,806.6 271.544,806.6 271.828,806.6 272.112,801.174 272.396,801.174 272.68,801.174 \n",
       "  272.965,801.174 273.249,801.174 273.533,816.011 273.817,816.011 274.101,816.011 274.385,813.567 274.669,813.567 274.954,813.567 275.238,814.257 275.522,814.257 \n",
       "  275.806,814.257 276.09,815.281 276.374,793.157 276.658,808.319 276.943,808.202 277.227,808.202 277.511,803.185 277.795,803.185 278.079,803.19 278.363,815.402 \n",
       "  278.647,815.402 278.932,814.314 279.216,814.314 279.5,814.314 279.784,814.314 280.068,814.314 280.352,815.845 280.636,815.846 280.92,815.846 281.205,809.527 \n",
       "  281.489,814.787 281.773,789.86 282.057,764.084 282.341,764.084 282.625,764.086 282.909,780.487 283.194,780.487 283.478,745.169 283.762,779.724 284.046,779.724 \n",
       "  284.33,782.35 284.614,746.503 284.898,702.575 285.183,711.658 285.467,711.658 285.751,711.658 286.035,711.658 286.319,722.154 286.603,722.154 286.887,722.154 \n",
       "  287.172,722.154 287.456,740.387 287.74,740.387 288.024,694.573 288.308,694.573 288.592,788.519 288.876,788.519 289.161,788.519 289.445,788.519 289.729,768.857 \n",
       "  290.013,768.857 290.297,775.603 290.581,775.604 290.865,775.604 291.15,775.604 291.434,775.604 291.718,768.956 292.002,768.956 292.286,718.932 292.57,718.932 \n",
       "  292.854,768.558 293.139,768.558 293.423,798.97 293.707,798.97 293.991,811.266 294.275,811.268 294.559,815.745 294.843,814.869 295.127,814.869 295.412,814.869 \n",
       "  295.696,809.385 295.98,809.382 296.264,798.705 296.548,815.115 296.832,815.115 297.116,815.567 297.401,811.4 297.685,811.399 297.969,811.399 298.253,811.4 \n",
       "  298.537,810.877 298.821,810.877 299.105,816.167 299.39,816.167 299.674,816.167 299.958,796.36 300.242,796.36 300.526,780.814 300.81,780.814 301.094,780.811 \n",
       "  301.379,748.901 301.663,748.901 301.947,748.907 302.231,804.324 302.515,804.324 302.799,783.905 303.083,783.905 303.368,783.928 303.652,815.027 303.936,815.027 \n",
       "  304.22,822.706 304.504,810.556 304.788,810.556 305.072,810.556 305.357,822.705 305.641,822.707 305.925,822.707 306.209,1397.17 306.493,1397.17 306.777,797.025 \n",
       "  307.061,797.025 307.346,797.026 307.63,797.026 307.914,1385.11 308.198,1385.11 308.482,1385.11 308.766,1385.89 309.05,1385.89 309.334,1388.2 309.619,1388.2 \n",
       "  309.903,736.113 310.187,736.108 310.471,736.108 310.755,750.383 311.039,750.39 311.323,750.39 311.608,750.39 311.892,750.39 312.176,750.39 312.46,795.637 \n",
       "  312.744,795.637 313.028,795.637 313.312,795.637 313.597,814.844 313.881,814.845 314.165,814.845 314.449,812.538 314.733,812.538 315.017,812.538 315.301,812.538 \n",
       "  315.586,812.538 315.87,812.538 316.154,742.962 316.438,742.962 316.722,742.962 317.006,758.757 317.29,727.101 317.575,728.196 317.859,728.196 318.143,761.703 \n",
       "  318.427,761.703 318.711,765.473 318.995,766.402 319.279,768.224 319.564,769.058 319.848,794.266 320.132,794.266 320.416,763.363 320.7,763.363 320.984,782.42 \n",
       "  321.268,782.42 321.553,756.102 321.837,756.102 322.121,758.104 322.405,759.096 322.689,760 322.973,721.724 323.257,711.443 323.541,711.443 323.826,715.582 \n",
       "  324.11,716.849 324.394,716.849 324.678,753.165 324.962,753.165 325.246,710.368 325.53,710.368 325.815,703.774 326.099,643.543 326.383,709.473 326.667,712.398 \n",
       "  326.951,712.398 327.235,712.398 327.519,741.594 327.804,741.594 328.088,744.126 328.372,744.126 328.656,781.024 328.94,781.912 329.224,781.912 329.508,784.495 \n",
       "  329.793,784.495 330.077,785.344 330.361,785.344 330.645,754.063 330.929,754.063 331.213,801.752 331.497,801.752 331.782,815.464 332.066,815.464 332.35,815.464 \n",
       "  332.634,808.892 332.918,807.677 333.202,793.473 333.486,793.473 333.771,792.78 334.055,792.78 334.339,756.745 334.623,755.586 334.907,755.586 335.191,755.586 \n",
       "  335.475,757.721 335.76,760.558 336.044,760.558 336.328,768.985 336.612,768.985 336.896,798.562 337.18,797.924 337.464,812.584 337.748,812.584 338.033,812.284 \n",
       "  338.317,812.284 338.601,812.284 338.885,811.97 339.169,811.97 339.453,811.67 339.737,811.67 340.022,815.841 340.306,815.841 340.59,815.928 340.874,806.786 \n",
       "  341.158,797.697 341.442,797.697 341.726,797.697 342.011,797.697 342.295,815.133 342.579,815.133 342.863,803.184 343.147,814.759 343.431,814.759 343.715,814.759 \n",
       "  344,814.759 344.284,814.759 344.568,814.759 344.852,803.707 345.136,802.387 345.42,802.387 345.704,802.387 345.989,802.387 346.273,802.387 346.557,802.387 \n",
       "  346.841,802.387 347.125,802.387 347.409,802.387 347.693,802.387 347.978,802.387 348.262,802.387 348.546,773.206 348.83,773.202 349.114,773.202 349.398,773.202 \n",
       "  349.682,773.202 349.967,773.202 350.251,773.202 350.535,757.264 350.819,801.143 351.103,805.289 351.387,816.089 351.671,816.089 351.955,816.089 352.24,816.089 \n",
       "  352.524,812.107 352.808,797.917 353.092,816.148 353.376,816.19 353.66,816.187 353.944,811.964 354.229,811.964 354.513,811.964 354.797,811.964 355.081,811.964 \n",
       "  355.365,815.634 355.649,815.634 355.933,815.634 356.218,815.634 356.502,815.634 356.786,815.634 357.07,801.35 357.354,801.35 357.638,801.35 357.922,801.35 \n",
       "  358.207,816.187 358.491,816.187 358.775,810.533 359.059,808.985 359.343,808.985 359.627,808.985 359.911,808.985 360.196,808.985 360.48,808.985 360.764,808.985 \n",
       "  361.048,808.985 361.332,813.684 361.616,815.866 361.9,776.449 362.185,780.537 362.469,780.537 362.753,780.537 363.037,780.537 363.321,780.537 363.605,780.538 \n",
       "  363.889,793.036 364.174,793.036 364.458,785.881 364.742,785.88 365.026,785.88 365.31,785.88 365.594,785.88 365.878,785.88 366.162,785.88 366.447,785.88 \n",
       "  366.731,809.314 367.015,808.977 367.299,808.978 367.583,815.534 367.867,798.987 368.151,798.987 368.436,813.013 368.72,813.013 369.004,804.007 369.288,809.631 \n",
       "  369.572,815.351 369.856,815.351 370.14,815.351 370.425,815.351 370.709,803.889 370.993,803.889 371.277,784.558 371.561,764.493 371.845,764.49 372.129,764.49 \n",
       "  372.414,725.076 372.698,768.589 372.982,768.589 373.266,734.373 373.55,734.373 373.834,734.373 374.118,734.373 374.403,734.373 374.687,734.373 374.971,734.373 \n",
       "  375.255,734.373 375.539,741.41 375.823,741.41 376.107,703.974 376.392,703.972 376.676,715.123 376.96,715.123 377.244,715.123 377.528,715.123 377.812,741.311 \n",
       "  378.096,741.311 378.381,741.311 378.665,741.311 378.949,689.804 379.233,689.804 379.517,720.826 379.801,720.826 380.085,707.5 380.369,707.505 380.654,800.292 \n",
       "  380.938,789.153 381.222,799.342 381.506,766.177 381.79,785.846 382.074,785.846 382.358,785.846 382.643,785.846 382.927,759.433 383.211,759.433 383.495,759.434 \n",
       "  383.779,773.914 384.063,773.914 384.347,769.531 384.632,769.531 384.916,787.071 385.2,787.071 385.484,805.282 385.768,760.676 386.052,760.676 386.336,764.39 \n",
       "  386.621,770.477 386.905,770.477 387.189,794.299 387.473,757.72 387.757,757.72 388.041,757.72 388.325,757.72 388.61,794.255 388.894,794.255 389.178,794.255 \n",
       "  389.462,794.255 389.746,794.255 390.03,794.255 390.314,794.255 390.599,794.255 390.883,794.255 391.167,791.789 391.451,791.789 391.735,772.648 392.019,772.648 \n",
       "  392.303,816.189 392.588,815.426 392.872,816.096 393.156,813.72 393.44,813.744 393.724,815.637 394.008,816.182 394.292,808.539 394.577,808.539 394.861,808.531 \n",
       "  395.145,810.285 395.429,816.175 395.713,816.175 395.997,816.175 396.281,816.175 396.565,804.698 396.85,804.698 397.134,804.698 397.418,804.698 397.702,808.753 \n",
       "  397.986,808.753 398.27,808.753 398.554,806.396 398.839,808.752 399.123,791.089 399.407,791.088 399.691,795.711 399.975,795.711 400.259,759.333 400.543,759.333 \n",
       "  400.828,752.76 401.112,752.76 401.396,752.756 401.68,752.756 401.964,774.62 402.248,774.62 402.532,745.373 402.817,746.262 403.101,746.262 403.385,762.787 \n",
       "  403.669,757.23 403.953,773.932 404.237,718.716 404.521,718.716 404.806,718.716 405.09,718.716 405.374,718.716 405.658,781.031 405.942,781.04 406.226,781.04 \n",
       "  406.51,814.051 406.795,814.054 407.079,814.054 407.363,820.559 407.647,820.559 407.931,820.559 408.215,820.559 408.499,820.559 408.784,820.559 409.068,799.557 \n",
       "  409.352,799.55 409.636,799.55 409.92,794.54 410.204,802.452 410.488,722.189 410.772,722.189 411.057,722.189 411.341,722.189 411.625,722.189 411.909,722.189 \n",
       "  412.193,722.189 412.477,722.189 412.761,754.583 413.046,1346.85 413.33,1346.85 413.614,1318.91 413.898,1318.91 414.182,1318.91 414.466,698.243 414.75,698.243 \n",
       "  415.035,610.714 415.319,610.714 415.603,573.792 415.887,582.083 416.171,582.083 416.455,582.083 416.739,582.083 417.024,582.083 417.308,582.079 417.592,572.63 \n",
       "  417.876,765.506 418.16,800.274 418.444,800.274 418.728,811.798 419.013,811.798 419.297,811.798 419.581,811.798 419.865,815.898 420.149,815.898 420.433,813.393 \n",
       "  420.717,815.09 421.002,815.09 421.286,815.09 421.57,815.09 421.854,815.504 422.138,815.425 422.422,815.791 422.706,816.067 422.991,816.067 423.275,816.189 \n",
       "  423.559,816.189 423.843,816.189 424.127,816.189 424.411,816.012 424.695,816.012 424.979,815.444 425.264,815.444 425.548,815.444 425.832,815.444 426.116,815.444 \n",
       "  426.4,815.444 426.684,815.634 426.968,815.634 427.253,815.634 427.537,815.634 427.821,814.077 428.105,814.077 428.389,807.944 428.673,807.944 428.957,814.703 \n",
       "  429.242,779.01 429.526,784.5 429.81,782.013 430.094,786.361 430.378,786.362 430.662,786.362 430.946,786.362 431.231,801.671 431.515,808.337 431.799,808.337 \n",
       "  432.083,814.337 432.367,814.338 432.651,787.909 432.935,789.128 433.22,789.128 433.504,789.128 433.788,789.128 434.072,789.128 434.356,789.128 434.64,812.839 \n",
       "  434.924,812.839 435.209,812.839 435.493,812.839 435.777,816.015 436.061,816.015 436.345,816.015 436.629,816.015 436.913,816.015 437.198,816.015 437.482,816.015 \n",
       "  437.766,814.543 438.05,814.543 438.334,809.546 438.618,809.546 438.902,809.546 439.186,809.546 439.471,809.546 439.755,809.546 440.039,809.546 440.323,809.546 \n",
       "  440.607,793.296 440.891,793.292 441.175,793.292 441.46,811.652 441.744,811.652 442.028,812.801 442.312,812.801 442.596,812.8 442.88,812.8 443.164,811.75 \n",
       "  443.449,811.75 443.733,803.86 444.017,803.86 444.301,811.711 444.585,811.711 444.869,756.161 445.153,721.057 445.438,721.057 445.722,721.063 446.006,760.443 \n",
       "  446.29,784.87 446.574,784.87 446.858,793.088 447.142,793.088 447.427,814.982 447.711,814.982 447.995,815.619 448.279,816.021 448.563,814.023 448.847,812.824 \n",
       "  449.131,799.77 449.416,799.756 449.7,799.756 449.984,810.768 450.268,810.768 450.552,810.768 450.836,815.916 451.12,815.916 451.405,815.916 451.689,815.916 \n",
       "  451.973,812.203 452.257,812.203 452.541,815.41 452.825,815.41 453.109,815.41 453.393,815.41 453.678,777.082 453.962,775.236 454.246,766.737 454.53,766.737 \n",
       "  454.814,773.816 455.098,764.519 455.382,764.519 455.667,775.475 455.951,775.475 456.235,781.456 456.519,773.278 456.803,759.4 457.087,788.365 457.371,788.365 \n",
       "  457.656,740.556 457.94,740.556 458.224,740.555 458.508,740.555 458.792,740.409 459.076,740.409 459.36,695.351 459.645,695.351 459.929,695.351 460.213,695.351 \n",
       "  460.497,695.351 460.781,695.351 461.065,695.351 461.349,758.254 461.634,758.254 461.918,758.254 462.202,758.254 462.486,758.254 462.77,761.032 463.054,761.032 \n",
       "  463.338,761.032 463.623,761.032 463.907,761.032 464.191,761.032 464.475,808.914 464.759,814.145 465.043,814.145 465.327,815.136 465.612,815.136 465.896,815.136 \n",
       "  466.18,815.136 466.464,815.136 466.748,815.136 467.032,803.317 467.316,803.317 467.6,803.317 467.885,803.317 468.169,803.317 468.453,801.36 468.737,801.36 \n",
       "  469.021,784.205 469.305,784.205 469.589,784.205 469.874,784.205 470.158,780.214 470.442,780.214 470.726,804.869 471.01,804.869 471.294,706.479 471.578,706.479 \n",
       "  471.863,795.837 472.147,795.837 472.431,790.729 472.715,790.729 472.999,790.729 473.283,790.729 473.567,793.11 473.852,793.11 474.136,807.61 474.42,807.61 \n",
       "  474.704,807.61 474.988,807.61 475.272,783.977 475.556,783.977 475.841,803.823 476.125,803.823 476.409,803.82 476.693,669.054 476.977,669.173 477.261,669.174 \n",
       "  477.545,669.174 477.83,631.648 478.114,631.648 478.398,631.648 478.682,631.648 478.966,631.648 479.25,631.648 479.534,631.65 479.819,695.131 480.103,677.735 \n",
       "  480.387,677.735 480.671,667.892 480.955,667.892 481.239,681.291 481.523,681.291 481.807,681.291 482.092,681.291 482.376,681.291 482.66,681.291 482.944,681.291 \n",
       "  483.228,727.482 483.512,727.482 483.796,757.983 484.081,757.986 484.365,757.986 484.649,793.011 484.933,793.011 485.217,793.011 485.501,793.011 485.785,793.011 \n",
       "  486.07,816.051 486.354,816.051 486.638,816.051 486.922,816.051 487.206,816.051 487.49,816.051 487.774,806.314 488.059,806.314 488.343,813.493 488.627,813.493 \n",
       "  488.911,794.764 489.195,809.068 489.479,809.068 489.763,809.068 490.048,809.068 490.332,811.132 490.616,786.717 490.9,786.717 491.184,786.717 491.468,786.717 \n",
       "  491.752,786.717 492.037,786.717 492.321,801.573 492.605,801.573 492.889,814.779 493.173,814.779 493.457,814.779 493.741,814.779 494.026,814.779 494.31,814.779 \n",
       "  494.594,815.594 494.878,815.594 495.162,814.836 495.446,814.836 495.73,814.836 496.014,814.836 496.299,814.836 496.583,814.836 496.867,814.836 497.151,814.836 \n",
       "  497.435,812.674 497.719,812.673 498.003,812.673 498.288,815.947 498.572,812.227 498.856,812.226 499.14,812.226 499.424,812.227 499.708,816.054 499.992,816.054 \n",
       "  500.277,816.054 500.561,815.998 500.845,815.151 501.129,815.151 501.413,813.471 501.697,813.471 501.981,813.472 502.266,813.472 502.55,813.473 502.834,813.473 \n",
       "  503.118,813.473 503.402,813.473 503.686,815.851 503.97,811.467 504.255,811.467 504.539,816.179 504.823,816.179 505.107,816.179 505.391,816.179 505.675,805.79 \n",
       "  505.959,805.79 506.244,805.79 506.528,805.79 506.812,805.79 507.096,805.79 507.38,805.791 507.664,805.791 507.948,814.368 508.233,814.368 508.517,814.368 \n",
       "  508.801,814.368 509.085,814.048 509.369,814.048 509.653,811.586 509.937,811.586 510.221,816.132 510.506,816.132 510.79,816.132 511.074,816.132 511.358,814.424 \n",
       "  511.642,814.424 511.926,814.423 512.21,802.486 512.495,805.077 512.779,805.078 513.063,814.286 513.347,814.286 513.631,814.286 513.915,814.286 514.199,814.286 \n",
       "  514.484,813.986 514.768,810.731 515.052,810.731 515.336,810.731 515.62,810.731 515.904,810.731 516.188,810.733 516.473,816.122 516.757,811.481 517.041,811.481 \n",
       "  517.325,747.212 517.609,764.083 517.893,759.56 518.177,759.56 518.462,816.037 518.746,805.513 519.03,805.513 519.314,813.411 519.598,813.411 519.882,813.411 \n",
       "  520.166,813.411 520.451,813.411 520.735,802.233 521.019,784.334 521.303,784.334 521.587,811.682 521.871,811.682 522.155,811.682 522.44,806.172 522.724,806.172 \n",
       "  523.008,806.172 523.292,808.223 523.576,808.223 523.86,808.223 524.144,808.223 524.428,808.223 524.713,814.975 524.997,814.038 525.281,814.037 525.565,814.037 \n",
       "  525.849,815.81 526.133,815.81 526.417,806.486 526.702,813.304 526.986,813.304 527.27,813.304 527.554,813.304 527.838,813.304 528.122,815.479 528.406,815.479 \n",
       "  528.691,798.479 528.975,802.318 529.259,798.483 529.543,804.096 529.827,804.096 530.111,804.096 530.395,804.096 530.68,804.096 530.964,804.096 531.248,815.342 \n",
       "  531.532,815.342 531.816,815.342 532.1,793.1 532.384,793.1 532.669,806.414 532.953,806.414 533.237,796.622 533.521,796.622 533.805,815.928 534.089,816.145 \n",
       "  534.373,816.145 534.658,816.145 534.942,816.145 535.226,786.826 535.51,786.826 535.794,786.826 536.078,786.826 536.362,786.826 536.647,786.826 536.931,733.514 \n",
       "  537.215,729.368 537.499,729.368 537.783,754.242 538.067,816.164 538.351,814.354 538.635,814.354 538.92,814.354 539.204,814.354 539.488,814.354 539.772,814.354 \n",
       "  540.056,816.053 540.34,816.053 540.624,801.859 540.909,801.859 541.193,792.102 541.477,792.102 541.761,805.093 542.045,805.094 542.329,805.094 542.613,805.094 \n",
       "  542.898,805.094 543.182,815.847 543.466,804.163 543.75,804.163 544.034,813.339 544.318,813.397 544.602,813.454 544.887,813.454 545.171,816.074 545.455,816.115 \n",
       "  545.739,816.115 546.023,816.123 546.307,815.919 546.591,815.919 546.876,815.901 547.16,815.901 547.444,815.503 547.728,815.528 548.012,815.528 548.296,809.127 \n",
       "  548.58,809.127 548.865,816.189 549.149,816.189 549.433,816.19 549.717,816.19 550.001,811.963 550.285,811.963 550.569,812.024 550.854,812.024 551.138,812.085 \n",
       "  551.422,812.085 551.706,812.139 551.99,812.139 552.274,811.687 552.558,811.687 552.842,811.74 553.127,811.797 553.411,811.797 553.695,801.354 553.979,812.119 \n",
       "  554.263,812.119 554.547,812.683 554.831,813.932 555.116,813.932 555.4,813.967 555.684,813.967 555.968,813.998 556.252,813.998 556.536,813.998 556.82,815.736 \n",
       "  557.105,802.943 557.389,804.098 557.673,804.098 557.957,804.098 558.241,804.098 558.525,804.098 558.809,804.098 559.094,804.098 559.378,804.098 559.662,800.68 \n",
       "  559.946,800.68 560.23,815.28 560.514,814.922 560.798,814.922 561.083,814.922 561.367,814.922 561.651,809.047 561.935,809.047 562.219,809.047 562.503,811.472 \n",
       "  562.787,811.472 563.072,811.472 563.356,811.472 563.64,800.34 563.924,790.443 564.208,790.443 564.492,790.44 564.776,765.499 565.061,765.499 565.345,790.44 \n",
       "  565.629,790.443 565.913,790.443 566.197,790.443 566.481,809.506 566.765,809.508 567.049,809.508 567.334,809.508 567.618,814.777 567.902,814.777 568.186,814.777 \n",
       "  568.47,812.328 568.754,812.328 569.038,799.744 569.323,799.744 569.607,799.744 569.891,799.744 570.175,775.025 570.459,750.541 570.743,750.541 571.027,750.535 \n",
       "  571.312,700.255 571.596,700.255 571.88,764.77 572.164,764.77 572.448,764.77 572.732,764.77 573.016,764.77 573.301,764.77 573.585,766.271 573.869,766.271 \n",
       "  574.153,795.699 574.437,818.187 574.721,818.187 575.005,818.187 575.29,818.187 575.574,818.187 575.858,818.187 576.142,708.425 576.426,708.425 576.71,708.425 \n",
       "  576.994,708.425 577.279,708.425 577.563,734.657 577.847,687.553 578.131,687.553 578.415,717.134 578.699,717.134 578.983,764.242 579.268,764.242 579.552,682.821 \n",
       "  579.836,670.842 580.12,650.135 580.404,622.126 580.688,622.123 580.972,622.123 581.256,684.38 581.541,684.373 581.825,628.027 582.109,628.027 582.393,628.027 \n",
       "  582.677,628.027 582.961,628.027 583.245,628.027 583.53,1341.05 583.814,1351.67 584.098,1351.67 584.382,1351.67 584.666,1351.68 584.95,1384.89 585.234,1384.89 \n",
       "  585.519,818.434 585.803,818.431 586.087,818.431 586.371,818.431 586.655,818.431 586.939,818.431 587.223,793.364 587.508,793.364 587.792,799.897 588.076,799.901 \n",
       "  588.36,806.99 588.644,806.99 588.928,806.99 589.212,806.99 589.497,811.727 589.781,811.73 590.065,811.73 590.349,779.698 590.633,779.698 590.917,810.777 \n",
       "  591.201,810.777 591.486,813.121 591.77,813.121 592.054,813.121 592.338,817.074 592.622,817.076 592.906,817.076 593.19,806.54 593.475,806.54 593.759,814.361 \n",
       "  594.043,814.361 594.327,1423.11 594.611,1412.15 594.895,1412.15 595.179,1412.15 595.463,1412.15 595.748,1412.15 596.032,1412.15 596.316,1412.15 596.6,1412.15 \n",
       "  596.884,1412.15 597.168,1412.15 597.452,1414.95 597.737,809.08 598.021,804.719 598.305,804.719 598.589,804.719 598.873,804.719 599.157,805.854 599.441,799.975 \n",
       "  599.726,799.975 600.01,841.719 600.294,841.719 600.578,1409.5 600.862,1409.5 601.146,812.596 601.43,543.759 601.715,543.759 601.999,543.759 602.283,543.759 \n",
       "  602.567,513.456 602.851,513.456 603.135,436.638 603.419,436.638 603.704,526.335 603.988,526.335 604.272,618.056 604.556,618.067 604.84,618.067 605.124,618.066 \n",
       "  605.408,632.727 605.693,661.22 605.977,661.22 606.261,661.22 606.545,661.22 606.829,661.223 607.113,690.864 607.397,661.232 607.682,757.026 607.966,731.823 \n",
       "  608.25,731.823 608.534,731.823 608.818,731.823 609.102,741.906 609.386,741.906 609.671,741.906 609.955,741.906 610.239,741.901 610.523,701.637 610.807,701.637 \n",
       "  611.091,701.631 611.375,653.366 611.659,734.267 611.944,734.267 612.228,713.132 612.512,713.132 612.796,713.132 613.08,713.132 613.364,734.267 613.648,734.267 \n",
       "  613.933,734.267 614.217,747.075 614.501,747.075 614.785,747.073 615.069,747.073 615.353,734.055 615.637,734.055 615.922,734.055 616.206,734.055 616.49,734.055 \n",
       "  616.774,734.055 617.058,734.056 617.342,774.825 617.626,774.825 617.911,774.825 618.195,774.825 618.479,801.368 618.763,807.897 619.047,807.897 619.331,807.933 \n",
       "  619.615,807.933 619.9,807.933 620.184,807.933 620.468,793.803 620.752,793.798 621.036,793.798 621.32,793.798 621.604,786.514 621.889,786.514 622.173,786.514 \n",
       "  622.457,803.821 622.741,803.821 623.025,809.654 623.309,809.654 623.593,785.935 623.878,752.602 624.162,752.602 624.446,783.523 624.73,783.528 625.014,783.528 \n",
       "  625.298,783.528 625.582,759.639 625.866,759.639 626.151,759.639 626.435,759.639 626.719,778.982 627.003,778.982 627.287,814.855 627.571,804.006 627.855,804.006 \n",
       "  628.14,773.343 628.424,773.342 628.708,773.342 628.992,780.224 629.276,780.224 629.56,806.206 629.844,806.206 630.129,806.206 630.413,806.206 630.697,806.206 \n",
       "  630.981,787.686 631.265,796.196 631.549,764.445 631.833,764.445 632.118,763.982 632.402,763.982 632.686,763.984 632.97,790.876 633.254,790.876 633.538,770.468 \n",
       "  633.822,770.468 634.107,787.152 634.391,810.406 634.675,810.406 634.959,810.406 635.243,810.406 635.527,810.406 635.811,810.406 636.096,810.406 636.38,821.297 \n",
       "  636.664,821.297 636.948,815.795 637.232,773.489 637.516,773.489 637.8,773.489 638.085,773.489 638.369,773.489 638.653,773.489 638.937,773.489 639.221,588.295 \n",
       "  639.505,505.162 639.789,505.162 640.073,505.162 640.358,598.254 640.642,598.254 640.926,677.893 641.21,677.893 641.494,788.9 641.778,807.361 642.062,807.361 \n",
       "  642.347,810.763 642.631,810.763 642.915,810.562 643.199,810.562 643.483,810.562 643.767,807.614 644.051,807.614 644.336,809.92 644.62,809.92 644.904,809.92 \n",
       "  645.188,687.947 645.472,687.947 645.756,687.947 646.04,781.896 646.325,781.896 646.609,781.896 646.893,808.693 647.177,814.18 647.461,811.497 647.745,815.398 \n",
       "  648.029,815.398 648.314,816.08 648.598,816.108 648.882,816.108 649.166,816.108 649.45,816.108 649.734,816.108 650.018,816.108 650.303,816.108 650.587,816.108 \n",
       "  650.871,816.108 651.155,811.173 651.439,811.173 651.723,742.625 652.007,742.625 652.292,685.991 652.576,653.352 652.86,653.352 653.144,653.352 653.428,653.352 \n",
       "  653.712,653.352 653.996,653.352 654.28,653.352 654.565,653.352 654.849,653.352 655.133,653.352 655.417,653.352 655.701,685.987 655.985,677.678 656.269,677.678 \n",
       "  656.554,627.727 656.838,627.727 657.122,655.188 657.406,655.188 657.69,732.296 657.974,772.118 658.258,784.919 658.543,784.919 658.827,799.942 659.111,833.711 \n",
       "  659.395,833.711 659.679,833.687 659.963,816.162 660.247,816.162 660.532,816.162 660.816,816.162 661.1,813.29 661.384,815.974 661.668,812.928 661.952,812.928 \n",
       "  662.236,812.928 662.521,812.928 662.805,812.928 663.089,814.598 663.373,814.598 663.657,814.598 663.941,814.598 664.225,804.327 664.51,805.215 664.794,805.215 \n",
       "  665.078,805.215 665.362,805.213 665.646,776.125 665.93,777.949 666.214,777.949 666.499,777.949 666.783,788.839 667.067,788.839 667.351,815.51 667.635,815.509 \n",
       "  667.919,815.509 668.203,816.147 668.487,814.748 668.772,814.748 669.056,815.936 669.34,810.258 669.624,816.015 669.908,816.015 670.192,816.129 670.476,816.129 \n",
       "  670.761,816.186 671.045,816.186 671.329,816.186 671.613,816.186 671.897,816.186 672.181,816.186 672.465,816.186 672.75,816.186 673.034,815.021 673.318,811.375 \n",
       "  673.602,811.375 673.886,811.375 674.17,805.044 674.454,805.364 674.739,805.364 675.023,784.01 675.307,784.01 675.591,805.767 675.875,805.76 676.159,785.825 \n",
       "  676.443,785.825 676.728,779.257 677.012,778.5 677.296,805.403 677.58,805.412 677.864,805.412 678.148,805.412 678.432,805.412 678.717,805.412 679.001,805.412 \n",
       "  679.285,815.012 679.569,814.011 679.853,806.954 680.137,806.954 680.421,776.773 680.706,776.773 680.99,776.773 681.274,776.773 681.558,804.422 681.842,821.247 \n",
       "  682.126,821.247 682.41,821.247 682.694,821.247 682.979,821.247 683.263,821.247 683.547,821.247 683.831,1395.32 684.115,1349.01 684.399,1378.14 684.683,1407 \n",
       "  684.968,1397.19 685.252,1397.19 685.536,1336.32 685.82,1336.32 686.104,1336.32 686.388,1336.32 686.672,1336.32 686.957,1358.41 687.241,1358.41 687.525,1358.41 \n",
       "  687.809,1358.41 688.093,1336.32 688.377,1354.82 688.661,1354.82 688.946,1354.82 689.23,1354.82 689.514,1389.66 689.798,1389.66 690.082,1432.69 690.366,1432.69 \n",
       "  690.65,1417.97 690.935,1425.63 691.219,1332.62 691.503,815.195 691.787,814.438 692.071,814.712 692.355,814.981 692.639,814.981 692.924,760.423 693.208,760.415 \n",
       "  693.492,760.415 693.776,760.415 694.06,760.415 694.344,750.434 694.628,750.434 694.913,749.699 695.197,749.699 695.481,744.971 695.765,744.971 696.049,744.971 \n",
       "  696.333,744.971 696.617,744.971 696.901,744.971 697.186,744.971 697.47,744.971 697.754,778.462 698.038,778.462 698.322,802.475 698.606,802.475 698.89,813.308 \n",
       "  699.175,813.308 699.459,813.308 699.743,813.308 700.027,815.25 700.311,803.56 700.595,803.558 700.879,773.645 701.164,773.645 701.448,779.304 701.732,779.304 \n",
       "  702.016,779.304 702.3,779.304 702.584,779.304 702.868,779.304 703.153,803.016 703.437,794.526 703.721,794.526 704.005,809.819 704.289,809.819 704.573,809.82 \n",
       "  704.857,815.368 705.142,815.368 705.426,815.368 705.71,815.368 705.994,804.742 706.278,810.822 706.562,768.223 706.846,768.223 707.131,768.223 707.415,768.223 \n",
       "  707.699,768.223 707.983,768.223 708.267,768.223 708.551,768.223 708.835,768.223 709.12,768.223 709.404,775.727 709.688,1389.7 709.972,1389.69 710.256,1296.48 \n",
       "  710.54,1351.47 710.824,1351.47 711.108,1351.47 711.393,1351.47 711.677,1351.47 711.961,1351.47 712.245,1351.47 712.529,1351.47 712.813,1355.72 713.097,1355.72 \n",
       "  713.382,1378.85 713.666,1378.85 713.95,1392.93 714.234,1392.93 714.518,1365.55 714.802,1365.55 715.086,1365.55 715.371,1365.55 715.655,1382.05 715.939,1382.05 \n",
       "  716.223,1382.05 716.507,734.472 716.791,734.472 717.075,759.875 717.36,759.875 717.644,807.207 717.928,807.202 718.212,807.202 718.496,800.75 718.78,800.75 \n",
       "  719.064,815.454 719.349,815.454 719.633,800.762 719.917,800.75 720.201,800.75 720.485,799.32 720.769,799.32 721.053,799.32 721.338,799.32 721.622,781.41 \n",
       "  721.906,781.41 722.19,781.41 722.474,781.41 722.758,1355.53 723.042,1355.53 723.327,1355.53 723.611,1295.06 723.895,1295.05 724.179,1295.05 724.463,711.48 \n",
       "  724.747,675.512 725.031,675.512 725.315,675.512 725.6,675.512 725.884,1261.46 726.168,1261.46 726.452,729.048 726.736,729.048 727.02,729.048 727.304,729.048 \n",
       "  727.589,729.049 727.873,742.846 728.157,762.679 728.441,695.393 728.725,695.393 729.009,789.499 729.293,778.873 729.578,778.873 729.862,778.873 730.146,778.871 \n",
       "  730.43,769.326 730.714,769.326 730.998,778.141 731.282,778.141 731.567,702.607 731.851,719.419 732.135,719.419 732.419,719.419 732.703,719.419 732.987,583.678 \n",
       "  733.271,583.678 733.556,722.99 733.84,616.462 734.124,616.46 734.408,616.46 734.692,601.328 734.976,601.328 735.26,550.135 735.545,550.135 735.829,706.67 \n",
       "  736.113,706.684 736.397,706.684 736.681,706.684 736.965,706.684 737.249,788.391 737.534,778.186 737.818,778.186 738.102,800.632 738.386,783.706 738.67,783.706 \n",
       "  738.954,783.706 739.238,783.706 739.522,783.706 739.807,783.706 740.091,783.706 740.375,783.706 740.659,804.917 740.943,804.917 741.227,804.917 741.511,804.917 \n",
       "  741.796,783.024 742.08,783.024 742.364,798.466 742.648,798.466 742.932,805.988 743.216,805.988 743.5,805.988 743.785,805.988 744.069,802.245 744.353,802.245 \n",
       "  744.637,803.985 744.921,803.985 745.205,803.985 745.489,797.132 745.774,797.131 746.058,797.139 746.342,815.999 746.626,815.999 746.91,815.221 747.194,815.221 \n",
       "  747.478,814.474 747.763,804.644 748.047,791.186 748.331,791.184 748.615,791.184 748.899,800.504 749.183,814.051 749.467,814.051 749.752,814.051 750.036,814.051 \n",
       "  750.32,802.262 750.604,789.372 750.888,807.33 751.172,807.289 751.456,814.146 751.741,814.146 752.025,814.139 752.309,814.139 752.593,812.7 752.877,812.7 \n",
       "  753.161,800.382 753.445,793.336 753.729,798.272 754.014,793.269 754.298,793.269 754.582,772.085 754.866,772.085 755.15,772.066 755.434,772.066 755.718,774.749 \n",
       "  756.003,774.734 756.287,798.384 756.571,798.384 756.855,810.892 757.139,810.892 757.423,799.79 757.707,799.79 757.992,815.762 758.276,815.767 758.56,815.767 \n",
       "  758.844,815.917 759.128,809.714 759.412,809.714 759.696,813.002 759.981,812.999 760.265,812.999 760.549,815.429 760.833,815.428 761.117,815.428 761.401,815.427 \n",
       "  761.685,815.426 761.97,815.426 762.254,815.425 762.538,815.425 762.822,815.951 763.106,815.951 763.39,815.95 763.674,815.95 763.959,812.799 764.243,815.529 \n",
       "  764.527,815.529 764.811,815.529 765.095,815.529 765.379,815.529 765.663,816.19 765.948,816.19 766.232,816.19 766.516,816.19 766.8,816.162 767.084,816.162 \n",
       "  767.368,816.162 767.652,814.79 767.936,814.79 768.221,813.055 768.505,813.055 768.789,813.055 769.073,813.055 769.357,813.055 769.641,811.98 769.925,811.98 \n",
       "  770.21,811.98 770.494,801.195 770.778,770.414 771.062,741.305 771.346,741.305 771.63,730.176 771.914,719.895 772.199,719.895 772.483,719.944 772.767,719.944 \n",
       "  773.051,758.195 773.335,794.855 773.619,794.897 773.903,798.068 774.188,798.068 774.472,798.09 774.756,768.586 775.04,753.064 775.324,753.064 775.608,744.964 \n",
       "  775.892,589.598 776.177,589.598 776.461,589.598 776.745,589.599 777.029,589.599 777.313,589.6 777.597,589.6 777.881,578.477 778.166,578.479 778.45,578.481 \n",
       "  778.734,578.481 779.018,626.933 779.302,626.933 779.586,626.933 779.87,626.933 780.155,600.809 780.439,600.809 780.723,600.809 781.007,696.33 781.291,696.33 \n",
       "  781.575,696.317 781.859,696.317 782.143,696.317 782.428,696.317 782.712,696.317 782.996,669 783.28,669 783.564,669.005 783.848,669.005 784.132,717.836 \n",
       "  784.417,717.836 784.701,717.835 784.985,717.835 785.269,730.769 785.553,730.769 785.837,775.583 786.121,775.583 786.406,772.447 786.69,772.447 786.974,781.518 \n",
       "  787.258,781.518 787.542,805.62 787.826,805.619 788.11,805.619 788.395,814.274 788.679,814.274 788.963,808.844 789.247,808.844 789.531,808.844 789.815,808.844 \n",
       "  790.099,808.843 790.384,789.669 790.668,789.669 790.952,789.669 791.236,789.669 791.52,789.669 791.804,789.669 792.088,789.669 792.373,758.623 792.657,758.623 \n",
       "  792.941,756.41 793.225,756.41 793.509,800.621 793.793,800.621 794.077,800.607 794.362,800.607 794.646,800.607 794.93,800.607 795.214,785.452 795.498,785.452 \n",
       "  795.782,798.973 796.066,798.973 796.35,798.026 796.635,798.026 796.919,798.026 797.203,798.026 797.487,1333.76 797.771,1333.75 798.055,1333.75 798.339,817.773 \n",
       "  798.624,817.773 798.908,817.773 799.192,817.773 799.476,817.773 799.76,817.773 800.044,815.492 800.328,815.491 800.613,815.491 800.897,733.167 801.181,733.167 \n",
       "  801.465,733.176 801.749,808.739 802.033,808.742 802.317,808.742 802.602,808.742 802.886,808.742 803.17,805.74 803.454,786.995 803.738,786.995 804.022,813.89 \n",
       "  804.306,811.901 804.591,811.177 804.875,811.177 805.159,810.333 805.443,810.333 805.727,809.428 806.011,795.75 806.295,794.207 806.58,790.189 806.864,796.316 \n",
       "  807.148,800.505 807.432,807.349 807.716,815.345 808,812.206 808.284,816.019 808.569,816.019 808.853,724.414 809.137,673.697 809.421,697.553 809.705,697.553 \n",
       "  809.989,769.481 810.273,769.481 810.557,752.405 810.842,752.405 811.126,797.997 811.41,797.997 811.694,806.879 811.978,806.879 812.262,806.879 812.546,785.529 \n",
       "  812.831,785.529 813.115,785.529 813.399,815.994 813.683,815.994 813.967,1431.1 814.251,1368.89 814.535,1368.89 814.82,1368.89 815.104,1368.89 815.388,1368.89 \n",
       "  815.672,1368.89 815.956,802.2 816.24,830.23 816.524,830.23 816.809,812.044 817.093,815.941 817.377,815.941 817.661,815.017 817.945,811.018 818.229,812.448 \n",
       "  818.513,812.448 818.798,816.106 819.082,816.106 819.366,799.232 819.65,766.804 819.934,785.962 820.218,785.974 820.502,827.525 820.787,827.525 821.071,834.382 \n",
       "  821.355,826.581 821.639,823.825 821.923,810.626 822.207,813.205 822.491,813.205 822.776,813.205 823.06,813.205 823.344,813.205 823.628,829.522 823.912,829.522 \n",
       "  824.196,814.837 824.48,827.888 824.765,827.888 825.049,835.941 825.333,835.937 825.617,813.04 825.901,813.04 826.185,814.352 826.469,815.339 826.753,816.189 \n",
       "  827.038,816.189 827.322,815.498 827.606,815.498 827.89,815.498 828.174,815.498 828.458,811.419 828.742,811.419 829.027,816.05 829.311,814.678 829.595,814.678 \n",
       "  829.879,806.507 830.163,813.406 830.447,814.443 830.731,816.01 831.016,810.464 831.3,810.464 831.584,792.539 831.868,792.538 832.152,792.538 832.436,794.568 \n",
       "  832.72,794.568 833.005,794.568 833.289,794.568 833.573,794.568 833.857,794.568 834.141,794.568 834.425,794.568 834.709,810.454 834.994,810.455 835.278,810.455 \n",
       "  835.562,810.455 835.846,810.455 836.13,810.455 836.414,810.455 836.698,810.455 836.983,786.111 837.267,814.055 837.551,814.055 837.835,814.807 838.119,814.807 \n",
       "  838.403,811.99 838.687,753.31 838.972,709.161 839.256,709.161 839.54,708.15 839.824,707.149 840.108,704.223 840.392,704.223 840.676,703.333 840.96,703.333 \n",
       "  841.245,702.38 841.529,698.716 841.813,722.473 842.097,722.473 842.381,721.729 842.665,721.729 842.949,720.93 843.234,734.144 843.518,733.495 843.802,733.495 \n",
       "  844.086,732.901 844.37,732.258 844.654,665.427 844.938,664.626 845.223,664.626 845.507,663.784 845.791,731.395 846.075,731.395 846.359,730.817 846.643,730.817 \n",
       "  846.927,815.767 847.212,1390.63 847.496,1390.63 847.78,1389.72 848.064,1389.72 848.348,1389.25 848.632,1389.25 848.916,1386.43 849.201,756.205 849.485,756.205 \n",
       "  849.769,771.185 850.053,771.185 850.337,770.875 850.621,770.875 850.905,770.567 851.19,770.286 851.474,770.286 851.758,806.508 852.042,806.508 852.326,806.922 \n",
       "  852.61,806.922 852.894,806.927 853.179,806.928 853.463,806.928 853.747,806.928 854.031,806.928 854.315,806.928 854.599,806.928 854.883,806.928 855.167,808.977 \n",
       "  855.452,808.977 855.736,808.977 856.02,798.044 856.304,805.35 856.588,805.35 856.872,798.008 857.156,798.009 857.441,812.365 857.725,812.365 858.009,815.861 \n",
       "  858.293,815.861 858.577,815.624 858.861,815.624 859.145,815.623 859.43,811.1 859.714,792.381 859.998,812.209 860.282,812.209 860.566,812.208 860.85,806.906 \n",
       "  861.134,809.696 861.419,809.696 861.703,816.179 861.987,816.179 862.271,815.755 862.555,815.754 862.839,803.524 863.123,803.524 863.408,812.17 863.692,812.17 \n",
       "  863.976,812.17 864.26,812.17 864.544,812.772 864.828,812.772 865.112,817.245 865.397,815.447 865.681,800.833 865.965,793.493 866.249,823.996 866.533,823.996 \n",
       "  866.817,810.602 867.101,810.602 867.386,810.899 867.67,810.899 867.954,807.934 868.238,807.934 868.522,807.934 868.806,807.934 869.09,814.665 869.374,814.665 \n",
       "  869.659,816.154 869.943,816.154 870.227,816.154 870.511,812.186 870.795,806.946 871.079,806.946 871.363,806.946 871.648,810.06 871.932,810.79 872.216,804.027 \n",
       "  872.5,804.027 872.784,804.027 873.068,804.027 873.352,806 873.637,806 873.921,806 874.205,806 874.489,816.16 874.773,816.16 875.057,770.534 \n",
       "  875.341,770.53 875.626,770.53 875.91,770.53 876.194,770.53 876.478,770.53 876.762,770.53 877.046,720.496 877.33,720.496 877.615,720.493 877.899,683.102 \n",
       "  878.183,683.102 878.467,683.102 878.751,576.15 879.035,659.028 879.319,659.037 879.604,659.037 879.888,609.548 880.172,711.202 880.456,711.202 880.74,711.202 \n",
       "  881.024,742.258 881.308,692.853 881.593,692.853 881.877,692.853 882.161,692.853 882.445,692.853 882.729,692.853 883.013,784.937 883.297,784.977 883.581,798.983 \n",
       "  883.866,798.983 884.15,773.225 884.434,773.225 884.718,763.72 885.002,763.72 885.286,763.72 885.57,763.72 885.855,763.72 886.139,763.72 886.423,763.72 \n",
       "  886.707,709.389 886.991,765.255 887.275,765.255 887.559,765.255 887.844,765.255 888.128,765.247 888.412,719.737 888.696,729.868 888.98,729.868 889.264,729.868 \n",
       "  889.548,729.868 889.833,729.868 890.117,729.868 890.401,729.868 890.685,729.868 890.969,814.322 891.253,800.248 891.537,800.248 891.822,800.248 892.106,800.247 \n",
       "  892.39,764.077 892.674,764.077 892.958,764.077 893.242,764.077 893.526,764.077 893.811,764.077 894.095,756.65 894.379,756.65 894.663,737.046 894.947,737.046 \n",
       "  895.231,737.046 895.515,737.046 895.8,737.046 896.084,737.046 896.368,738.401 896.652,738.401 896.936,742.533 897.22,756.878 897.504,756.878 897.788,742.635 \n",
       "  898.073,742.635 898.357,742.635 898.641,742.635 898.925,698.284 899.209,698.284 899.493,698.284 899.777,698.284 900.062,698.263 900.346,535.551 900.63,535.551 \n",
       "  900.914,535.551 901.198,535.551 901.482,535.551 901.766,535.551 902.051,535.551 902.335,535.551 902.619,603.217 902.903,603.217 903.187,599.989 903.471,599.989 \n",
       "  903.755,344.907 904.04,344.907 904.324,344.907 904.608,344.907 904.892,473.434 905.176,473.434 905.46,575.969 905.744,575.969 906.029,646.799 906.313,646.799 \n",
       "  906.597,637.599 906.881,637.599 907.165,637.599 907.449,637.599 907.733,637.599 908.018,637.599 908.302,662.994 908.586,663.004 908.87,765.266 909.154,765.266 \n",
       "  909.438,765.266 909.722,765.266 910.007,765.266 910.291,765.266 910.575,687.645 910.859,753.18 911.143,753.18 911.427,728.939 911.711,728.939 911.995,728.939 \n",
       "  912.28,728.939 912.564,728.939 912.848,816.166 913.132,782.983 913.416,782.983 913.7,803.154 913.984,803.154 914.269,791.199 914.553,791.199 914.837,792.208 \n",
       "  915.121,792.208 915.405,805.586 915.689,806.924 915.973,806.924 916.258,816.184 916.542,816.184 916.826,816.184 917.11,815.652 917.394,815.652 917.678,815.652 \n",
       "  917.962,815.652 918.247,815.652 918.531,815.652 918.815,802.29 919.099,796.661 919.383,796.661 919.667,801.446 919.951,801.446 920.236,801.446 920.52,801.446 \n",
       "  920.804,801.446 921.088,801.446 921.372,815.186 921.656,783.544 921.94,795.541 922.225,795.541 922.509,798.622 922.793,798.622 923.077,798.62 923.361,774.488 \n",
       "  923.645,774.486 923.929,774.486 924.214,774.486 924.498,775.479 924.782,775.479 925.066,767.773 925.35,767.773 925.634,767.773 925.918,771.613 926.202,771.613 \n",
       "  926.487,776.102 926.771,776.102 927.055,776.102 927.339,776.102 927.623,727.478 927.907,727.478 928.191,727.481 928.476,761.462 928.76,761.462 929.044,793.408 \n",
       "  929.328,786.816 929.612,786.815 929.896,786.815 930.18,786.815 930.465,786.815 930.749,811.337 931.033,798.152 931.317,808.024 931.601,808.024 931.885,808.024 \n",
       "  932.169,808.024 932.454,808.024 932.738,813.607 933.022,813.607 933.306,815.823 933.59,814.124 933.874,807.161 934.158,807.168 934.443,807.168 934.727,807.168 \n",
       "  935.011,807.168 935.295,813.815 935.579,813.815 935.863,813.815 936.147,813.815 936.432,798.913 936.716,798.913 937,808.791 937.284,769.039 937.568,634.363 \n",
       "  937.852,634.363 938.136,586.903 938.421,607.239 938.705,607.241 938.989,607.241 939.273,607.235 939.557,556.65 939.841,556.65 940.125,556.65 940.409,556.65 \n",
       "  940.694,556.65 940.978,556.65 941.262,556.65 941.546,492.896 941.83,617.879 942.114,617.888 942.398,617.888 942.683,617.888 942.967,617.888 943.251,612.632 \n",
       "  943.535,811.298 943.819,811.298 944.103,816.133 944.387,816.133 944.672,815.04 944.956,812.559 945.24,812.559 945.524,816.013 945.808,816.013 946.092,816.013 \n",
       "  946.376,816.013 946.661,816.014 946.945,764.853 947.229,764.853 947.513,764.853 947.797,764.853 948.081,787.546 948.365,795.737 948.65,795.737 948.934,764.624 \n",
       "  949.218,764.624 949.502,764.624 949.786,764.624 950.07,764.621 950.354,764.621 950.639,729.811 950.923,729.811 951.207,694.939 951.491,694.939 951.775,745.373 \n",
       "  952.059,795.169 952.343,775.152 952.628,692.252 952.912,695.094 953.196,695.094 953.48,695.094 953.764,636.423 954.048,636.423 954.332,636.423 954.616,636.423 \n",
       "  954.901,632.647 955.185,704.507 955.469,704.507 955.753,724.367 956.037,724.367 956.321,721.51 956.605,721.51 956.89,718.635 957.174,715.959 957.458,659.769 \n",
       "  957.742,659.769 958.026,659.769 958.31,659.769 958.594,728.901 958.879,728.012 959.163,728.012 959.447,796.806 959.731,796.806 960.015,802.835 960.299,802.835 \n",
       "  960.583,801.923 960.868,801.923 961.152,800.906 961.436,799.86 961.72,799.86 962.004,798.785 962.288,798.785 962.572,811.583 962.857,810.366 963.141,810.366 \n",
       "  963.425,809.705 963.709,809.705 963.993,813.634 964.277,776.345 964.561,742.415 964.846,742.415 965.13,756.17 965.414,756.17 965.698,756.17 965.982,756.17 \n",
       "  966.266,756.173 966.55,799.896 966.835,799.896 967.119,783.974 967.403,803.921 967.687,810.242 967.971,810.242 968.255,815.62 968.539,815.62 968.823,815.62 \n",
       "  969.108,815.62 969.392,815.636 969.676,815.636 969.96,815.636 970.244,815.636 970.528,765.89 970.812,683.947 971.097,683.947 971.381,683.947 971.665,683.947 \n",
       "  971.949,683.947 972.233,683.947 972.517,683.948 972.801,711.152 973.086,711.152 973.37,731.394 973.654,786.362 973.938,786.363 974.222,786.363 974.506,814.326 \n",
       "  974.79,814.326 975.075,814.326 975.359,813.982 975.643,795.999 975.927,809.595 976.211,782.169 976.495,803.61 976.779,803.611 977.064,803.611 977.348,797.4 \n",
       "  977.632,777.605 977.916,777.605 978.2,777.605 978.484,777.605 978.768,777.605 979.053,777.605 979.337,777.605 979.621,797.509 979.905,797.509 980.189,815.337 \n",
       "  980.473,812.74 980.757,812.74 981.042,812.74 981.326,812.74 981.61,808.936 981.894,808.936 982.178,815.81 982.462,815.81 982.746,811.946 983.03,811.604 \n",
       "  983.315,811.604 983.599,812.813 983.883,812.813 984.167,815.041 984.451,815.041 984.735,815.041 985.019,815.041 985.304,813.756 985.588,813.756 985.872,814.956 \n",
       "  986.156,814.225 986.44,814.225 986.724,814.225 987.008,814.225 987.293,816.19 987.577,816.19 987.861,810.876 988.145,810.876 988.429,810.876 988.713,810.876 \n",
       "  988.997,807.942 989.282,807.942 989.566,807.942 989.85,807.942 990.134,813.939 990.418,813.939 990.702,810.742 990.986,816.186 991.271,816.186 991.555,816.186 \n",
       "  991.839,816.186 992.123,803.671 992.407,803.671 992.691,803.671 992.975,803.671 993.26,803.671 993.544,803.671 993.828,814.779 994.112,814.603 994.396,814.603 \n",
       "  994.68,814.603 994.964,814.603 995.249,815.791 995.533,793.377 995.817,793.377 996.101,793.376 996.385,763.65 996.669,763.647 996.953,763.647 997.237,763.173 \n",
       "  997.522,763.173 997.806,763.418 998.09,763.418 998.374,813.769 998.658,813.769 998.942,814.806 999.226,814.806 999.511,814.806 999.795,814.806 1000.08,814.806 \n",
       "  1000.36,814.806 1000.65,812.027 1000.93,812.027 1001.22,812.027 1001.5,812.027 1001.78,816.185 1002.07,816.185 1002.35,813.358 1002.64,813.358 1002.92,804.396 \n",
       "  1003.2,813.785 1003.49,813.785 1003.77,793.447 1004.06,793.447 1004.34,793.447 1004.63,793.447 1004.91,789.467 1005.19,789.467 1005.48,782.376 1005.76,782.376 \n",
       "  1006.05,809.658 1006.33,809.659 1006.61,809.659 1006.9,815.509 1007.18,815.509 1007.47,815.509 1007.75,815.509 1008.03,816 1008.32,816 1008.6,816 \n",
       "  1008.89,816.146 1009.17,816.146 1009.46,816.146 1009.74,816.146 1010.02,815.463 1010.31,815.953 1010.59,815.953 1010.88,815.35 1011.16,806.978 1011.44,806.978 \n",
       "  1011.73,797.765 1012.01,797.765 1012.3,768.416 1012.58,768.416 1012.87,811.651 1013.15,800.46 1013.43,800.458 1013.72,800.458 1014,761.029 1014.29,761.029 \n",
       "  1014.57,761.029 1014.85,761.029 1015.14,815.532 1015.42,815.533 1015.71,815.533 1015.99,805.962 1016.27,805.962 1016.56,805.963 1016.84,813.485 1017.13,814.62 \n",
       "  1017.41,814.62 1017.7,814.62 1017.98,814.62 1018.26,810.646 1018.55,810.646 1018.83,816.18 1019.12,816.18 1019.4,816.18 1019.68,816.18 1019.97,815.999 \n",
       "  1020.25,815.999 1020.54,815.999 1020.82,815.999 1021.11,813.534 1021.39,813.534 1021.67,815.491 1021.96,813.245 1022.24,812.669 1022.53,812.669 1022.81,812.085 \n",
       "  1023.09,784.593 1023.38,804.825 1023.66,804.825 1023.95,808.053 1024.23,808.053 1024.51,810.327 1024.8,810.327 1025.08,810.326 1025.37,810.326 1025.65,795.839 \n",
       "  1025.94,801.145 1026.22,803.656 1026.5,803.656 1026.79,814.147 1027.07,805.576 1027.36,805.576 1027.64,816.189 1027.92,816.189 1028.21,800.691 1028.49,800.691 \n",
       "  1028.78,800.691 1029.06,800.691 1029.35,800.691 1029.63,800.691 1029.91,800.691 1030.2,800.691 1030.48,800.691 1030.77,800.69 1031.05,796.915 1031.33,796.915 \n",
       "  1031.62,811.699 1031.9,816.139 1032.19,816.139 1032.47,816.139 1032.75,833.658 1033.04,833.658 1033.32,833.658 1033.61,833.658 1033.89,833.658 1034.18,833.657 \n",
       "  1034.46,813.295 1034.74,813.295 1035.03,764.718 1035.31,788.567 1035.6,788.567 1035.88,807.391 1036.16,809.966 1036.45,811.821 1036.73,811.821 1037.02,813.944 \n",
       "  1037.3,803.09 1037.59,803.09 1037.87,803.09 1038.15,803.09 1038.44,793.884 1038.72,793.884 1039.01,793.883 1039.29,698.652 1039.57,698.652 1039.86,621.099 \n",
       "  1040.14,621.099 1040.43,621.099 1040.71,621.099 1041,621.099 1041.28,613.768 1041.56,653.958 1041.85,671.736 1042.13,671.739 1042.42,671.739 1042.7,621.491 \n",
       "  1042.98,621.491 1043.27,629.169 1043.55,629.169 1043.84,530.702 1044.12,530.702 1044.4,530.695 1044.69,530.695 1044.97,197.519 1045.26,197.514 1045.54,87.9763 \n",
       "  1045.83,87.9763 1046.11,292.168 1046.39,969.131 1046.68,969.136 1046.96,1158.8 1047.25,1158.8 1047.53,759.748 1047.81,759.745 1048.1,759.745 1048.38,759.745 \n",
       "  1048.67,759.745 1048.95,759.745 1049.24,759.745 1049.52,759.745 1049.8,759.745 1050.09,759.745 1050.37,759.745 1050.66,759.745 1050.94,759.745 1051.22,759.758 \n",
       "  1051.51,789.374 1051.79,789.374 1052.08,789.374 1052.36,789.374 1052.64,821.884 1052.93,821.884 1053.21,821.884 1053.5,821.884 1053.78,1383.78 1054.07,1322.04 \n",
       "  1054.35,1322.04 1054.63,1263.09 1054.92,1263.09 1055.2,1283.98 1055.49,655.465 1055.77,655.465 1056.05,695.553 1056.34,695.553 1056.62,799.089 1056.91,799.094 \n",
       "  1057.19,799.094 1057.48,807.944 1057.76,807.944 1058.04,807.944 1058.33,807.944 1058.61,807.944 1058.9,807.944 1059.18,839.445 1059.46,839.445 1059.75,839.445 \n",
       "  1060.03,839.445 1060.32,810.54 1060.6,810.54 1060.88,816.186 1061.17,815.982 1061.45,815.982 1061.74,812.582 1062.02,812.582 1062.31,812.582 1062.59,812.582 \n",
       "  1062.87,815.772 1063.16,815.772 1063.44,808.432 1063.73,808.432 1064.01,808.432 1064.29,814.141 1064.58,814.141 1064.86,813.861 1065.15,813.861 1065.43,813.861 \n",
       "  1065.72,813.861 1066,813.861 1066.28,816.126 1066.57,815.537 1066.85,815.537 1067.14,814.439 1067.42,813.831 1067.7,813.831 1067.99,813.831 1068.27,813.831 \n",
       "  1068.56,816.162 1068.84,816.162 1069.12,816.162 1069.41,816.162 1069.69,816.17 1069.98,813.748 1070.26,813.748 1070.55,808.938 1070.83,810.159 1071.11,791.665 \n",
       "  1071.4,791.665 1071.68,812.252 1071.97,812.404 1072.25,804.503 1072.53,804.503 1072.82,814.118 1073.1,734.931 1073.39,727.092 1073.67,727.72 1073.96,735.982 \n",
       "  1074.24,735.982 1074.52,745.382 1074.81,700.359 1075.09,700.359 1075.38,700.359 1075.66,700.359 1075.94,646.351 1076.23,646.351 1076.51,788.751 1076.8,788.751 \n",
       "  1077.08,788.753 1077.36,806.212 1077.65,695.057 1077.93,695.057 1078.22,710.871 1078.5,710.871 1078.79,725.53 1079.07,725.53 1079.35,745.558 1079.64,701.019 \n",
       "  1079.92,701.016 1080.21,701.016 1080.49,745.096 1080.77,745.101 1081.06,745.101 1081.34,745.101 1081.63,745.101 1081.91,745.101 1082.2,745.101 1082.48,745.101 \n",
       "  1082.76,707.956 1083.05,707.957 1083.33,707.957 1083.62,747.543 1083.9,666.061 1084.18,605.337 1084.47,605.334 1084.75,605.335 1085.04,661.655 1085.32,661.655 \n",
       "  1085.61,684.683 1085.89,684.683 1086.17,646.688 1086.46,591.213 1086.74,676.542 1087.03,676.542 1087.31,676.542 1087.59,676.542 1087.88,643.375 1088.16,643.375 \n",
       "  1088.45,732.599 1088.73,732.599 1089.01,702.416 1089.3,702.416 1089.58,702.416 1089.87,702.416 1090.15,702.416 1090.44,702.416 1090.72,702.416 1091,702.416 \n",
       "  1091.29,703.176 1091.57,703.177 1091.86,724.749 1092.14,724.749 1092.42,703.636 1092.71,703.636 1092.99,632.836 1093.28,568.076 1093.56,568.076 1093.85,506.789 \n",
       "  1094.13,506.789 1094.41,553.777 1094.7,553.777 1094.98,553.774 1095.27,487.966 1095.55,483.798 1095.83,483.79 1096.12,483.79 1096.4,438.56 1096.69,455.381 \n",
       "  1096.97,500.081 1097.25,560.538 1097.54,574.254 1097.82,567.104 1098.11,567.104 1098.39,693.216 1098.68,693.216 1098.96,693.216 1099.24,693.216 1099.53,693.216 \n",
       "  1099.81,693.216 1100.1,704.272 1100.38,704.272 1100.66,704.272 1100.95,704.272 1101.23,704.272 1101.52,704.272 1101.8,704.272 1102.09,820.265 1102.37,820.265 \n",
       "  1102.65,776.806 1102.94,776.806 1103.22,803.838 1103.51,802.922 1103.79,802.922 1104.07,814.122 1104.36,814.122 1104.64,814.122 1104.93,814.122 1105.21,805.566 \n",
       "  1105.49,805.566 1105.78,815.976 1106.06,814.217 1106.35,814.217 1106.63,814.217 1106.92,814.217 1107.2,795.071 1107.48,810.107 1107.77,810.107 1108.05,1400.49 \n",
       "  1108.34,1400.49 1108.62,1376 1108.9,1376 1109.19,1376 1109.47,1376 1109.76,1376 1110.04,1376 1110.33,1345.17 1110.61,1345.17 1110.89,1345.17 \n",
       "  1111.18,1345.17 1111.46,1345.17 1111.75,1345.17 1112.03,1345.17 1112.31,1345.17 1112.6,1345.16 1112.88,1329.13 1113.17,1329.13 1113.45,1329.11 1113.73,1307.76 \n",
       "  1114.02,1339.57 1114.3,1324.25 1114.59,1266.37 1114.87,1266.37 1115.16,1252.95 1115.44,1252.95 1115.72,1252.95 1116.01,1258.94 1116.29,1258.94 1116.58,1258.94 \n",
       "  1116.86,1258.94 1117.14,1299.26 1117.43,1299.27 1117.71,1299.27 1118,1299.27 1118.28,1299.27 1118.57,1340.52 1118.85,1340.52 1119.13,1340.52 1119.42,1340.52 \n",
       "  1119.7,1340.52 1119.99,1398.98 1120.27,1398.99 1120.55,1398.99 1120.84,1423.99 1121.12,1424 1121.41,1424 1121.69,1424 1121.97,1436.48 1122.26,1436.48 \n",
       "  1122.54,1436.49 1122.83,1445.72 1123.11,841.371 1123.4,841.371 1123.68,825.777 1123.96,813.892 1124.25,813.892 1124.53,813.892 1124.82,800.3 1125.1,800.3 \n",
       "  1125.38,816.133 1125.67,816.133 1125.95,816.133 1126.24,811.601 1126.52,815.317 1126.81,815.317 1127.09,814.013 1127.37,814.013 1127.66,811.511 1127.94,811.511 \n",
       "  1128.23,811.511 1128.51,811.511 1128.79,811.511 1129.08,811.511 1129.36,811.511 1129.65,814.576 1129.93,814.576 1130.22,815.529 1130.5,815.529 1130.78,816.19 \n",
       "  1131.07,816.19 1131.35,809.974 1131.64,809.974 1131.92,809.974 1132.2,809.974 1132.49,789.403 1132.77,789.403 1133.06,789.403 1133.34,789.403 1133.62,789.407 \n",
       "  1133.91,815.885 1134.19,815.885 1134.48,815.885 1134.76,815.885 1135.05,815.885 1135.33,807.829 1135.61,807.827 1135.9,807.827 1136.18,807.827 1136.47,807.827 \n",
       "  1136.75,807.827 1137.03,807.827 1137.32,807.827 1137.6,807.827 1137.89,813.141 1138.17,813.141 1138.46,813.141 1138.74,813.141 1139.02,790.33 1139.31,790.33 \n",
       "  1139.59,769.188 1139.88,769.188 1140.16,769.186 1140.44,766.645 1140.73,766.645 1141.01,766.645 1141.3,766.645 1141.58,806.281 1141.86,806.281 1142.15,811.793 \n",
       "  1142.43,810.224 1142.72,813.341 1143,813.341 1143.29,813.341 1143.57,756.107 1143.85,782.404 1144.14,782.404 1144.42,774.371 1144.71,774.371 1144.99,774.371 \n",
       "  1145.27,774.371 1145.56,740.417 1145.84,740.417 1146.13,786.572 1146.41,786.572 1146.7,788.502 1146.98,805.989 1147.26,812.915 1147.55,812.915 1147.83,815.963 \n",
       "  1148.12,815.963 1148.4,815.963 1148.68,815.963 1148.97,788.808 1149.25,788.802 1149.54,788.802 1149.82,788.802 1150.1,788.802 1150.39,793.095 1150.67,793.095 \n",
       "  1150.96,795.113 1151.24,795.113 1151.53,811.847 1151.81,811.848 1152.09,811.848 1152.38,811.848 1152.66,811.848 1152.95,811.848 1153.23,811.848 1153.51,811.848 \n",
       "  1153.8,811.848 1154.08,815.788 1154.37,815.788 1154.65,814.649 1154.94,814.649 1155.22,814.649 1155.5,814.649 1155.79,814.649 1156.07,814.649 1156.36,814.649 \n",
       "  1156.64,814.649 1156.92,814.649 1157.21,802.44 1157.49,802.44 1157.78,802.44 1158.06,802.44 1158.34,802.44 1158.63,802.44 1158.91,768.512 1159.2,768.505 \n",
       "  1159.48,768.505 1159.77,812.087 1160.05,812.087 1160.33,812.087 1160.62,812.087 1160.9,812.087 1161.19,742.412 1161.47,722.885 1161.75,722.885 1162.04,710.643 \n",
       "  1162.32,668.413 1162.61,668.413 1162.89,764.97 1163.18,779.083 1163.46,793.569 1163.74,805.396 1164.03,805.396 1164.31,814.967 1164.6,811.819 1164.88,811.819 \n",
       "  1165.16,814.68 1165.45,814.68 1165.73,816.088 1166.02,816.088 1166.3,816.088 1166.58,816.088 1166.87,809.1 1167.15,809.1 1167.44,809.1 1167.72,809.1 \n",
       "  1168.01,809.1 1168.29,809.1 1168.57,814.718 1168.86,814.718 1169.14,814.718 1169.43,814.157 1169.71,816.16 1169.99,816.16 1170.28,811.538 1170.56,815.752 \n",
       "  1170.85,815.752 1171.13,815.752 1171.42,815.752 1171.7,815.752 1171.98,816.064 1172.27,816.064 1172.55,816.064 1172.84,816.064 1173.12,814.8 1173.4,814.8 \n",
       "  1173.69,802.152 1173.97,802.148 1174.26,802.148 1174.54,802.148 1174.83,792.685 1175.11,792.874 1175.39,792.874 1175.68,795.605 1175.96,795.605 1176.25,803.635 \n",
       "  1176.53,803.635 1176.81,803.635 1177.1,1402.1 1177.38,1402.1 1177.67,1376.86 1177.95,1376.86 1178.23,708.13 1178.52,708.13 1178.8,1364.92 1179.09,1364.92 \n",
       "  1179.37,744.602 1179.66,765.747 1179.94,765.747 1180.22,765.742 1180.51,716.393 1180.79,716.393 1181.08,652.908 1181.36,682.162 1181.64,686.818 1181.93,686.818 \n",
       "  1182.21,686.818 1182.5,812.522 1182.78,812.491 1183.07,813.701 1183.35,815.194 1183.63,815.194 1183.92,816.178 1184.2,783.855 1184.49,690.471 1184.77,714.183 \n",
       "  1185.05,714.183 1185.34,714.181 1185.62,693.538 1185.91,693.538 1186.19,655.381 1186.47,655.399 1186.76,655.399 1187.04,655.393 1187.33,655.393 1187.61,605.77 \n",
       "  1187.9,605.77 1188.18,605.77 1188.46,605.77 1188.75,669.869 1189.03,798.358 1189.32,803.058 1189.6,803.058 1189.88,803.058 1190.17,803.058 1190.45,803.058 \n",
       "  1190.74,803.058 1191.02,808.521 1191.31,808.521 1191.59,814.617 1191.87,813.01 1192.16,813.01 1192.44,813.888 1192.73,821.509 1193.01,813.937 1193.29,813.937 \n",
       "  1193.58,735.183 1193.86,735.183 1194.15,746.181 1194.43,746.181 1194.71,746.181 1195,746.181 1195.28,753.374 1195.57,1416.28 1195.85,1438.8 1196.14,1441.25 \n",
       "  1196.42,1433.93 1196.7,834.309 1196.99,814.656 1197.27,814.656 1197.56,814.656 1197.84,834.326 1198.12,834.326 1198.41,816.367 1198.69,816.367 1198.98,811.703 \n",
       "  1199.26,815.512 1199.55,815.512 1199.83,814.433 1200.11,814.433 1200.4,815.511 1200.68,811.627 1200.97,812.488 1201.25,815.357 1201.53,815.357 1201.82,815.357 \n",
       "  1202.1,815.357 1202.39,815.357 1202.67,815.357 1202.95,693.33 1203.24,693.33 1203.52,740.32 1203.81,715.656 1204.09,715.656 1204.38,715.656 1204.66,715.656 \n",
       "  1204.94,742.575 1205.23,765.804 1205.51,765.804 1205.8,765.804 1206.08,765.804 1206.36,786.394 1206.65,786.394 1206.93,763.036 1207.22,784.733 1207.5,784.733 \n",
       "  1207.79,809.924 1208.07,809.924 1208.35,810.89 1208.64,810.89 1208.92,794.073 1209.21,794.073 1209.49,811.886 1209.77,811.886 1210.06,813.472 1210.34,808.569 \n",
       "  1210.63,789.772 1210.91,789.77 1211.19,789.77 1211.48,794.206 1211.76,794.206 1212.05,794.201 1212.33,776.101 1212.62,776.101 1212.9,800.807 1213.18,800.807 \n",
       "  1213.47,800.807 1213.75,800.807 1214.04,800.807 1214.32,800.807 1214.6,813.852 1214.89,813.852 1215.17,813.852 1215.46,813.852 1215.74,812.999 1216.03,812.999 \n",
       "  1216.31,812.999 1216.59,812.999 1216.88,812.999 1217.16,812.999 1217.45,812.999 1217.73,812.999 1218.01,812.999 1218.3,812.999 1218.58,811.472 1218.87,816.149 \n",
       "  1219.15,816.149 1219.43,810.806 1219.72,810.806 1220,815.839 1220.29,815.839 1220.57,816.186 1220.86,816.186 1221.14,816.186 1221.42,816.186 1221.71,815.66 \n",
       "  1221.99,815.66 1222.28,816.046 1222.56,816.046 1222.84,811.323 1223.13,816.184 1223.41,816.184 1223.7,815.12 1223.98,815.655 1224.27,815.655 1224.55,746.516 \n",
       "  1224.83,770.618 1225.12,771.992 1225.4,816.047 1225.69,816.047 1225.97,816.047 1226.25,816.047 1226.54,816.047 1226.82,816.047 1227.11,816.047 1227.39,816.047 \n",
       "  1227.68,816.047 1227.96,815.963 1228.24,815.963 1228.53,815.963 1228.81,815.963 1229.1,815.963 1229.38,810.459 1229.66,810.459 1229.95,811.446 1230.23,811.446 \n",
       "  1230.52,804.856 1230.8,804.856 1231.08,804.856 1231.37,804.856 1231.65,804.856 1231.94,804.856 1232.22,804.856 1232.51,804.856 1232.79,815.622 1233.07,815.622 \n",
       "  1233.36,810.301 1233.64,810.301 1233.93,810.301 1234.21,810.301 1234.49,792.167 1234.78,792.167 1235.06,792.167 1235.35,792.167 1235.63,792.167 1235.92,792.167 \n",
       "  1236.2,781.342 1236.48,781.342 1236.77,781.342 1237.05,781.342 1237.34,798.928 1237.62,798.928 1237.9,815.396 1238.19,815.396 1238.47,815.265 1238.76,815.264 \n",
       "  1239.04,815.264 1239.32,812.324 1239.61,812.324 1239.89,779.1 1240.18,695.876 1240.46,695.876 1240.75,729.956 1241.03,729.956 1241.31,692.359 1241.6,692.359 \n",
       "  1241.88,692.359 1242.17,692.348 1242.45,595.069 1242.73,595.069 1243.02,720.865 1243.3,720.865 1243.59,720.865 1243.87,720.865 1244.16,720.865 1244.44,731.805 \n",
       "  1244.72,773.573 1245.01,773.573 1245.29,773.341 1245.58,773.341 1245.86,785.984 1246.14,785.984 1246.43,785.984 1246.71,785.984 1247,795.097 1247.28,815.353 \n",
       "  1247.56,815.353 1247.85,815.353 1248.13,815.353 1248.42,815.353 1248.7,815.353 1248.99,815.353 1249.27,815.055 1249.55,815.055 1249.84,813.762 1250.12,813.762 \n",
       "  1250.41,813.762 1250.69,813.762 1250.97,812.483 1251.26,812.483 1251.54,812.483 1251.83,812.483 1252.11,795.538 1252.4,768.988 1252.68,770.454 1252.96,742.259 \n",
       "  1253.25,742.255 1253.53,721.284 1253.82,721.284 1254.1,682.413 1254.38,682.413 1254.67,682.411 1254.95,629.049 1255.24,536.717 1255.52,536.717 1255.8,575.437 \n",
       "  1256.09,575.437 1256.37,575.437 1256.66,575.437 1256.94,575.437 1257.23,575.437 1257.51,719.825 1257.79,719.825 1258.08,719.825 1258.36,719.825 1258.65,719.825 \n",
       "  1258.93,719.825 1259.21,719.825 1259.5,719.825 1259.78,767.754 1260.07,749.48 1260.35,749.48 1260.64,749.48 1260.92,749.48 1261.2,790.597 1261.49,790.601 \n",
       "  1261.77,790.601 1262.06,786.858 1262.34,786.86 1262.62,786.86 1262.91,786.86 1263.19,803.713 1263.48,803.713 1263.76,814.629 1264.04,811.453 1264.33,812.498 \n",
       "  1264.61,812.498 1264.9,812.498 1265.18,812.498 1265.47,807.286 1265.75,813.86 1266.03,813.86 1266.32,815.752 1266.6,815.644 1266.89,815.644 1267.17,815.644 \n",
       "  1267.45,815.644 1267.74,815.644 1268.02,814.342 1268.31,814.342 1268.59,802.55 1268.88,802.55 1269.16,802.55 1269.44,802.55 1269.73,806.203 1270.01,806.203 \n",
       "  1270.3,806.203 1270.58,806.203 1270.86,806.203 1271.15,806.203 1271.43,806.203 1271.72,806.204 1272,809.856 1272.29,809.856 1272.57,812.59 1272.85,812.59 \n",
       "  1273.14,812.59 1273.42,812.59 1273.71,812.59 1273.99,812.59 1274.27,812.59 1274.56,812.59 1274.84,812.59 1275.13,762.886 1275.41,762.886 1275.69,805.702 \n",
       "  1275.98,808.267 1276.26,808.751 1276.55,808.751 1276.83,808.751 1277.12,808.751 1277.4,798.686 1277.68,798.686 1277.97,798.686 1278.25,798.686 1278.54,812.231 \n",
       "  1278.82,812.231 1279.1,804.953 1279.39,804.953 1279.67,800.947 1279.96,800.947 1280.24,797.911 1280.53,797.911 1280.81,741.211 1281.09,741.21 1281.38,767.467 \n",
       "  1281.66,767.467 1281.95,704.911 1282.23,607.5 1282.51,607.5 1282.8,607.5 1283.08,813.69 1283.37,813.69 1283.65,789.87 1283.93,789.87 1284.22,789.644 \n",
       "  1284.5,789.644 1284.79,772.933 1285.07,761.165 1285.36,761.165 1285.64,761.165 1285.92,792.492 1286.21,792.492 1286.49,792.492 1286.78,760.464 1287.06,749.746 \n",
       "  1287.34,760.465 1287.63,765.179 1287.91,756.576 1288.2,756.576 1288.48,756.577 1288.77,766.354 1289.05,764.665 1289.33,766.886 1289.62,783.006 1289.9,792.516 \n",
       "  1290.19,792.516 1290.47,792.516 1290.75,767.82 1291.04,802.294 1291.32,794.15 1291.61,794.15 1291.89,808.24 1292.17,808.24 1292.46,785.564 1292.74,785.564 \n",
       "  1293.03,785.559 1293.31,771.601 1293.6,771.601 1293.88,798.723 1294.16,798.723 1294.45,729.772 1294.73,729.772 1295.02,726.571 1295.3,685.127 1295.58,685.127 \n",
       "  1295.87,1363.35 1296.15,1363.35 1296.44,1316.25 1296.72,1316.24 1297.01,1239.7 1297.29,1239.7 1297.57,623.357 1297.86,623.354 1298.14,623.354 1298.43,1261.4 \n",
       "  1298.71,1261.4 1298.99,491.549 1299.28,491.549 1299.56,491.549 1299.85,491.549 1300.13,733.017 1300.41,733.017 1300.7,733.017 1300.98,733.017 1301.27,733.017 \n",
       "  1301.55,660.072 1301.84,660.072 1302.12,637.148 1302.4,637.148 1302.69,637.143 1302.97,751.065 1303.26,751.065 1303.54,751.071 1303.82,781.323 1304.11,781.323 \n",
       "  1304.39,797.488 1304.68,794.754 1304.96,794.754 1305.25,792.375 1305.53,792.375 1305.81,792.375 1306.1,792.375 1306.38,792.375 1306.67,792.375 1306.95,792.375 \n",
       "  1307.23,811.003 1307.52,811.003 1307.8,795.674 1308.09,795.674 1308.37,795.674 1308.65,795.674 1308.94,795.674 1309.22,795.674 1309.51,816.178 1309.79,812.075 \n",
       "  1310.08,812.075 1310.36,812.073 1310.64,769.513 1310.93,727.853 1311.21,727.853 1311.5,727.853 1311.78,727.853 1312.06,727.853 1312.35,727.853 1312.63,772.534 \n",
       "  1312.92,772.534 1313.2,733.784 1313.49,733.784 1313.77,733.784 1314.05,733.784 1314.34,733.784 1314.62,733.784 1314.91,748.67 1315.19,748.67 1315.47,746.856 \n",
       "  1315.76,746.856 1316.04,755.39 1316.33,1425.59 1316.61,1425.59 1316.9,1370.79 1317.18,1370.79 1317.46,1370.79 1317.75,1370.79 1318.03,1371.45 1318.32,1371.45 \n",
       "  1318.6,1377.02 1318.88,1377.02 1319.17,1377.02 1319.45,1377.02 1319.74,1359.21 1320.02,1359.21 1320.3,734.705 1320.59,734.705 1320.87,691.511 1321.16,691.511 \n",
       "  1321.44,732.433 1321.73,725.026 1322.01,725.028 1322.29,758.016 1322.58,758.016 1322.86,758.016 1323.15,758.016 1323.43,722.996 1323.71,722.993 1324,722.993 \n",
       "  1324.28,722.993 1324.57,722.993 1324.85,722.993 1325.14,694.273 1325.42,694.273 1325.7,1363.13 1325.99,1363.13 1326.27,1363.13 1326.56,1376.26 1326.84,1376.26 \n",
       "  1327.12,1362.81 1327.41,1362.81 1327.69,1394.75 1327.98,1394.75 1328.26,1394.75 1328.54,1394.75 1328.83,1394.75 1329.11,1394.75 1329.4,1394.75 1329.68,1379.02 \n",
       "  1329.97,1379.02 1330.25,1395.65 1330.53,1395.65 1330.82,1395.65 1331.1,1395.65 1331.39,1395.65 1331.67,1395.65 1331.95,1395.64 1332.24,1331.43 1332.52,1331.43 \n",
       "  1332.81,1331.43 1333.09,1331.43 1333.38,1331.43 1333.66,1331.43 1333.94,1331.43 1334.23,1362.36 1334.51,1362.36 1334.8,1362.36 1335.08,1362.36 1335.36,1362.35 \n",
       "  1335.65,690.184 1335.93,1318.72 1336.22,1318.72 1336.5,1318.72 1336.78,1296.42 1337.07,1296.42 1337.35,1296.42 1337.64,1296.42 1337.92,1296.42 1338.21,1313.04 \n",
       "  1338.49,1287.12 1338.77,1287.12 1339.06,756.967 1339.34,776.668 1339.63,776.668 1339.91,765.115 1340.19,765.115 1340.48,765.115 1340.76,765.115 1341.05,797.938 \n",
       "  1341.33,797.938 1341.62,797.938 1341.9,797.938 1342.18,798.622 1342.47,798.622 1342.75,798.622 1343.04,798.622 1343.32,808.581 1343.6,808.581 1343.89,808.581 \n",
       "  1344.17,808.581 1344.46,816.115 1344.74,816.115 1345.02,812.43 1345.31,812.43 1345.59,802.158 1345.88,672.754 1346.16,672.754 1346.45,707.485 1346.73,707.489 \n",
       "  1347.01,707.489 1347.3,758.146 1347.58,758.152 1347.87,758.152 1348.15,758.152 1348.43,758.152 1348.72,744.026 1349,744.026 1349.29,744.026 1349.57,744.026 \n",
       "  1349.86,744.026 1350.14,744.026 1350.42,744.026 1350.71,744.026 1350.99,778.391 1351.28,778.391 1351.56,778.391 1351.84,778.391 1352.13,727.846 1352.41,727.836 \n",
       "  1352.7,727.836 1352.98,817.599 1353.26,817.599 1353.55,838.107 1353.83,838.107 1354.12,838.107 1354.4,838.107 1354.69,813.643 1354.97,813.643 1355.25,813.643 \n",
       "  1355.54,813.643 1355.82,815.833 1356.11,810.931 1356.39,810.931 1356.67,810.931 1356.96,810.931 1357.24,811.004 1357.53,813.233 1357.81,813.233 1358.1,792.38 \n",
       "  1358.38,792.38 1358.66,792.495 1358.95,792.615 1359.23,790.166 1359.52,790.166 1359.8,790.331 1360.08,790.331 1360.37,790.503 1360.65,790.503 1360.94,787.63 \n",
       "  1361.22,801.072 1361.51,815.621 1361.79,815.652 1362.07,815.652 1362.36,815.679 1362.64,815.679 1362.93,815.708 1363.21,815.708 1363.49,795.946 1363.78,795.946 \n",
       "  1364.06,795.773 1364.35,795.618 1364.63,795.618 1364.91,795.455 1365.2,774.147 1365.48,773.969 1365.77,799.983 1366.05,799.983 1366.34,800.713 1366.62,800.713 \n",
       "  1366.9,756.096 1367.19,756.096 1367.47,756.096 1367.76,756.096 1368.04,756.096 1368.32,756.096 1368.61,756.096 1368.89,756.096 1369.18,756.096 1369.46,756.096 \n",
       "  1369.75,699.4 1370.03,774.484 1370.31,774.484 1370.6,774.484 1370.88,774.484 1371.17,774.484 1371.45,794.27 1371.73,792.267 1372.02,792.267 1372.3,792.267 \n",
       "  1372.59,792.267 1372.87,773.41 1373.15,773.411 1373.44,773.414 1373.72,773.416 1374.01,773.416 1374.29,773.417 1374.58,768.234 1374.86,768.234 1375.14,768.241 \n",
       "  1375.43,811.532 1375.71,811.532 1376,811.532 1376.28,811.532 1376.56,814.452 1376.85,814.452 1377.13,814.453 1377.42,814.453 1377.7,814.453 1377.99,761.021 \n",
       "  1378.27,761.021 1378.55,761.021 1378.84,761.021 1379.12,761.021 1379.41,761.021 1379.69,736.44 1379.97,736.44 1380.26,736.44 1380.54,736.44 1380.83,736.44 \n",
       "  1381.11,736.44 1381.39,736.44 1381.68,736.44 1381.96,736.44 1382.25,795.336 1382.53,795.336 1382.82,795.336 1383.1,795.336 1383.38,798.055 1383.67,788.991 \n",
       "  1383.95,788.991 1384.24,785.647 1384.52,785.647 1384.8,785.647 1385.09,785.647 1385.37,785.647 1385.66,785.647 1385.94,785.647 1386.23,785.647 1386.51,811.447 \n",
       "  1386.79,811.447 1387.08,811.448 1387.36,811.448 1387.65,811.448 1387.93,811.448 1388.21,806.46 1388.5,806.46 1388.78,806.461 1389.07,813.46 1389.35,811.272 \n",
       "  1389.63,811.277 1389.92,811.277 1390.2,811.282 1390.49,811.279 1390.77,814.737 1391.06,807.663 1391.34,807.663 1391.62,799.786 1391.91,801.622 1392.19,801.622 \n",
       "  1392.48,801.622 1392.76,801.622 1393.04,801.622 1393.33,801.622 1393.61,801.622 1393.9,805.171 1394.18,805.171 1394.47,813.176 1394.75,813.176 1395.03,805.28 \n",
       "  1395.32,805.276 1395.6,805.276 1395.89,764.154 1396.17,792.049 1396.45,792.05 1396.74,805.075 1397.02,805.075 1397.31,805.075 1397.59,805.075 1397.87,801.523 \n",
       "  1398.16,813.36 1398.44,797.047 1398.73,797.047 1399.01,797.047 1399.3,797.047 1399.58,797.047 1399.86,797.047 1400.15,797.047 1400.43,797.047 1400.72,770.219 \n",
       "  1401,763.41 1401.28,763.41 1401.57,763.411 1401.85,763.411 1402.14,793.477 1402.42,793.477 1402.71,792.557 1402.99,792.557 1403.27,792.558 1403.56,792.558 \n",
       "  1403.84,801.268 1404.13,801.268 1404.41,806.16 1404.69,813.205 1404.98,813.205 1405.26,807.239 1405.55,816.163 1405.83,816.134 1406.11,816.134 1406.4,816.134 \n",
       "  1406.68,816.134 1406.97,816.134 1407.25,813.283 1407.54,813.283 1407.82,805.422 1408.1,805.422 1408.39,811.918 1408.67,811.918 1408.96,811.918 1409.24,811.918 \n",
       "  1409.52,811.918 1409.81,798.889 1410.09,798.889 1410.38,794.839 1410.66,794.839 1410.95,765.883 1411.23,765.883 1411.51,766.492 1411.8,745.08 1412.08,731.899 \n",
       "  1412.37,731.899 1412.65,731.899 1412.93,815.078 1413.22,815.078 1413.5,815.09 1413.79,815.09 1414.07,797.254 1414.36,797.254 1414.64,797.254 1414.92,797.254 \n",
       "  1415.21,797.254 1415.49,797.254 1415.78,797.254 1416.06,797.251 1416.34,757.966 1416.63,720.54 1416.91,720.54 1417.2,720.54 1417.48,720.539 1417.76,710.834 \n",
       "  1418.05,710.834 1418.33,710.834 1418.62,710.834 1418.9,701.29 1419.19,701.29 1419.47,701.29 1419.75,701.633 1420.04,701.633 1420.32,702.039 1420.61,702.039 \n",
       "  1420.89,737.725 1421.17,782.128 1421.46,782.128 1421.74,747.137 1422.03,747.137 1422.31,748.609 1422.6,748.609 1422.88,749.408 1423.16,749.408 1423.45,754.831 \n",
       "  1423.73,754.831 1424.02,755.662 1424.3,755.662 1424.58,752.294 1424.87,752.294 1425.15,753.288 1425.44,753.288 1425.72,754.221 1426,755.246 1426.29,749.132 \n",
       "  1426.57,750.404 1426.86,750.404 1427.14,751.587 1427.43,751.587 1427.71,751.587 1427.99,751.587 1428.28,751.587 1428.56,751.587 1428.85,777.508 1429.13,707.576 \n",
       "  1429.41,707.573 1429.7,707.573 1429.98,762.758 1430.27,799.444 1430.55,799.453 1430.84,799.453 1431.12,799.453 1431.4,799.453 1431.69,788.865 1431.97,788.865 \n",
       "  1432.26,788.866 1432.54,816.069 1432.82,814.729 1433.11,814.719 1433.39,816.188 1433.68,798.004 1433.96,798.004 1434.24,770.775 1434.53,770.775 1434.81,788.228 \n",
       "  1435.1,805.472 1435.38,805.472 1435.67,805.472 1435.95,805.472 1436.23,811.202 1436.52,811.202 1436.8,811.204 1437.09,820.453 1437.37,820.339 1437.65,820.335 \n",
       "  1437.94,807.354 1438.22,807.355 1438.51,807.355 1438.79,806.843 1439.08,811.557 1439.36,816.189 1439.64,815.96 1439.93,806.253 1440.21,806.275 1440.5,806.275 \n",
       "  1440.78,810.762 1441.06,810.978 1441.35,1423.03 1441.63,1423.03 1441.92,1417.54 1442.2,654.226 1442.48,654.226 1442.77,657.926 1443.05,657.924 1443.34,690.39 \n",
       "  1443.62,690.39 1443.91,680.714 1444.19,754.837 1444.47,754.837 1444.76,797.523 1445.04,797.524 1445.33,797.524 1445.61,769.977 1445.89,769.977 1446.18,796.097 \n",
       "  1446.46,796.097 1446.75,809.097 1447.03,809.097 1447.32,809.097 1447.6,809.097 1447.88,809.097 1448.17,809.097 1448.45,749.01 1448.74,749.003 1449.02,749.003 \n",
       "  1449.3,709.834 1449.59,761.016 1449.87,758.957 1450.16,758.957 1450.44,706.881 1450.72,687.15 1451.01,687.15 1451.29,643.587 1451.58,643.587 1451.86,693.423 \n",
       "  1452.15,796.439 1452.43,796.496 1452.71,796.496 1453,797.65 1453.28,797.65 1453.57,797.65 1453.85,808.848 1454.13,808.848 1454.42,808.848 1454.7,808.848 \n",
       "  1454.99,808.848 1455.27,808.848 1455.56,814.668 1455.84,814.668 1456.12,814.668 1456.41,814.668 1456.69,815.939 1456.98,789.291 1457.26,789.29 1457.54,789.29 \n",
       "  1457.83,789.29 1458.11,757.15 1458.4,757.15 1458.68,797.415 1458.97,797.415 1459.25,797.413 1459.53,774.799 1459.82,774.799 1460.1,774.799 1460.39,774.799 \n",
       "  1460.67,774.795 1460.95,758.486 1461.24,758.485 1461.52,758.485 1461.81,758.485 1462.09,758.485 1462.37,758.485 1462.66,758.485 1462.94,781.233 1463.23,744.035 \n",
       "  1463.51,744.035 1463.8,744.035 1464.08,744.035 1464.36,744.035 1464.65,744.035 1464.93,793.59 1465.22,793.59 1465.5,793.59 1465.78,793.59 1466.07,793.59 \n",
       "  1466.35,793.59 1466.64,793.59 1466.92,793.59 1467.21,816.123 1467.49,816.1 1467.77,815.877 1468.06,760.319 1468.34,731.941 1468.63,707.109 1468.91,707.108 \n",
       "  1469.19,707.108 1469.48,707.108 1469.76,707.108 1470.05,707.278 1470.33,707.278 1470.61,715.302 1470.9,715.304 1471.18,715.304 1471.47,715.304 1471.75,715.304 \n",
       "  1472.04,715.303 1472.32,715.543 1472.6,715.543 1472.89,617.55 1473.17,617.55 1473.46,618.448 1473.74,683.265 1474.02,644.733 1474.31,644.733 1474.59,446.114 \n",
       "  1474.88,676.654 1475.16,676.654 1475.45,676.654 1475.73,676.654 1476.01,676.654 1476.3,676.654 1476.58,676.654 1476.87,676.654 1477.15,734.703 1477.43,734.705 \n",
       "  1477.72,734.705 1478,734.705 1478.29,734.705 1478.57,734.705 1478.85,736.338 1479.14,736.338 1479.42,736.338 1479.71,736.335 1479.99,697.413 1480.28,723.274 \n",
       "  1480.56,567.72 1480.84,624.89 1481.13,624.89 1481.41,600.386 1481.7,600.385 1481.98,600.385 1482.26,600.385 1482.55,600.385 1482.83,600.385 1483.12,600.385 \n",
       "  1483.4,600.385 1483.69,600.385 1483.97,600.385 1484.25,600.385 1484.54,633.662 1484.82,633.668 1485.11,633.668 1485.39,633.668 1485.67,633.668 1485.96,633.668 \n",
       "  1486.24,633.668 1486.53,572.223 1486.81,572.223 1487.09,654.369 1487.38,654.369 1487.66,654.369 1487.95,744.949 1488.23,764.469 1488.52,764.47 1488.8,764.47 \n",
       "  1489.08,778.008 1489.37,778.01 1489.65,778.01 1489.94,801.417 1490.22,800.732 1490.5,800.732 1490.79,778.636 1491.07,802.931 1491.36,802.931 1491.64,797.713 \n",
       "  1491.93,797.713 1492.21,797.713 1492.49,797.713 1492.78,745.936 1493.06,771.65 1493.35,771.65 1493.63,771.65 1493.91,771.65 1494.2,771.65 1494.48,771.65 \n",
       "  1494.77,771.624 1495.05,771.624 1495.33,786.458 1495.62,786.433 1495.9,786.433 1496.19,786.406 1496.47,786.381 1496.76,786.381 1497.04,786.355 1497.32,786.355 \n",
       "  1497.61,783.783 1497.89,801.33 1498.18,801.33 1498.46,801.314 1498.74,801.314 1499.03,801.296 1499.31,777.303 1499.6,745.485 1499.88,745.485 1500.17,745.451 \n",
       "  1500.45,745.451 1500.73,727.448 1501.02,727.448 1501.3,688.433 1501.59,688.393 1501.87,688.393 1502.15,724.518 1502.44,724.518 1502.72,724.272 1503.01,724.272 \n",
       "  1503.29,742.114 1503.58,744.336 1503.86,757.135 1504.14,757.143 1504.43,757.143 1504.71,757.143 1505,743.194 1505.28,743.194 1505.56,772.814 1505.85,772.814 \n",
       "  1506.13,770.441 1506.42,770.441 1506.7,768.337 1506.98,768.337 1507.27,796.655 1507.55,796.655 1507.84,768.34 1508.12,767.156 1508.41,767.156 1508.69,767.156 \n",
       "  1508.97,767.156 1509.26,740.062 1509.54,740.062 1509.83,740.062 1510.11,740.062 1510.39,740.062 1510.68,740.062 1510.96,740.062 1511.25,740.062 1511.53,740.062 \n",
       "  1511.82,740.034 1512.1,727.487 1512.38,727.487 1512.67,727.47 1512.95,727.463 1513.24,727.463 1513.52,727.458 1513.8,727.458 1514.09,793.116 1514.37,793.12 \n",
       "  1514.66,793.12 1514.94,793.123 1515.22,793.123 1515.51,770.033 1515.79,757.204 1516.08,757.204 1516.36,757.214 1516.65,757.214 1516.93,757.214 1517.21,757.214 \n",
       "  1517.5,757.214 1517.78,757.214 1518.07,757.214 1518.35,757.214 1518.63,751.579 1518.92,776.457 1519.2,776.457 1519.49,801.667 1519.77,801.329 1520.06,802.499 \n",
       "  1520.34,802.499 1520.62,803.212 1520.91,803.212 1521.19,803.212 1521.48,800.166 1521.76,800.166 1522.04,800.166 1522.33,813.145 1522.61,813.145 1522.9,815.131 \n",
       "  1523.18,815.131 1523.46,807.015 1523.75,807.015 1524.03,807.015 1524.32,807.015 1524.6,807.015 1524.89,807.048 1525.17,807.048 1525.45,807.064 1525.74,807.064 \n",
       "  1526.02,807.064 1526.31,816.032 1526.59,816.032 1526.87,816.032 1527.16,816.032 1527.44,797.603 1527.73,797.569 1528.01,797.569 1528.3,795.467 1528.58,795.447 \n",
       "  1528.86,795.447 1529.15,814.61 1529.43,814.61 1529.72,813.487 1530,813.487 1530.28,813.487 1530.57,813.47 1530.85,813.47 1531.14,813.47 1531.42,815.831 \n",
       "  1531.7,815.831 1531.99,815.829 1532.27,815.829 1532.56,815.825 1532.84,815.825 1533.13,815.823 1533.41,815.823 1533.69,815.821 1533.98,815.821 1534.26,815.821 \n",
       "  1534.55,811.533 1534.83,811.533 1535.11,794.264 1535.4,806.927 1535.68,806.927 1535.97,800.856 1536.25,800.856 1536.54,800.891 1536.82,800.891 1537.1,800.912 \n",
       "  1537.39,800.912 1537.67,800.935 1537.96,800.935 1538.24,813.594 1538.52,793.471 1538.81,784.016 1539.09,784.016 1539.38,812.082 1539.66,812.082 1539.94,802.812 \n",
       "  1540.23,802.812 1540.51,798.914 1540.8,798.914 1541.08,775.755 1541.37,775.755 1541.65,761.607 1541.93,761.607 1542.22,763.025 1542.5,763.025 1542.79,617.357 \n",
       "  1543.07,617.357 1543.35,618.316 1543.64,618.316 1543.92,677.213 1544.21,677.213 1544.49,798.273 1544.78,798.273 1545.06,796.648 1545.34,796.648 1545.63,808.042 \n",
       "  1545.91,808.615 1546.2,808.615 1546.48,816.055 1546.76,816.055 1547.05,815.942 1547.33,815.942 1547.62,816.025 1547.9,816.025 1548.19,816.049 1548.47,816.049 \n",
       "  1548.75,816.069 1549.04,816.069 1549.32,816.089 1549.61,816.089 1549.89,815.892 1550.17,815.892 1550.46,811.386 1550.74,811.386 1551.03,810.929 1551.31,811.05 \n",
       "  1551.59,811.05 1551.88,815.519 1552.16,815.519 1552.45,815.519 1552.73,801.939 1553.02,780.253 1553.3,784.788 1553.58,784.788 1553.87,773.589 1554.15,773.589 \n",
       "  1554.44,773.588 1554.72,773.588 1555,773.588 1555.29,773.588 1555.57,767.213 1555.86,767.257 1556.14,767.257 1556.43,767.342 1556.71,767.342 1556.99,767.502 \n",
       "  1557.28,743.454 1557.56,753.312 1557.85,753.312 1558.13,791.991 1558.41,792.045 1558.7,792.096 1558.98,792.147 1559.27,792.147 1559.55,787.021 1559.83,787.021 \n",
       "  1560.12,787.08 1560.4,787.08 1560.69,808.036 1560.97,808.036 1561.26,807.037 1561.54,807.037 1561.82,807.073 1562.11,807.073 1562.39,807.112 1562.68,807.112 \n",
       "  1562.96,807.152 1563.24,807.152 1563.53,787.714 1563.81,787.714 1564.1,743.713 1564.38,743.713 1564.67,706.988 1564.95,706.988 1565.23,772.092 1565.52,772.092 \n",
       "  1565.8,772.177 1566.09,772.177 1566.37,745.727 1566.65,745.727 1566.94,745.727 1567.22,745.727 1567.51,745.727 1567.79,700.521 1568.07,700.521 1568.36,703.232 \n",
       "  1568.64,703.232 1568.93,703.232 1569.21,703.232 1569.5,696.356 1569.78,754.658 1570.06,754.658 1570.35,783.711 1570.63,783.887 1570.92,783.887 1571.2,800.026 \n",
       "  1571.48,815.321 1571.77,815.321 1572.05,815.334 1572.34,815.334 1572.62,804.029 1572.91,804.029 1573.19,804.077 1573.47,804.077 1573.76,808.568 1574.04,808.607 \n",
       "  1574.33,808.607 1574.61,808.607 1574.89,808.646 1575.18,808.683 1575.46,808.683 1575.75,808.722 1576.03,808.722 1576.31,815.926 1576.6,815.94 1576.88,815.94 \n",
       "  1577.17,811.531 1577.45,811.531 1577.74,806.091 1578.02,793.176 1578.3,793.176 1578.59,769.83 1578.87,769.83 1579.16,769.83 1579.44,763.402 1579.72,763.402 \n",
       "  1580.01,763.402 1580.29,762.818 1580.58,762.818 1580.86,789.237 1581.15,809.828 1581.43,809.828 1581.71,808.328 1582,808.328 1582.28,793.945 1582.57,793.875 \n",
       "  1582.85,793.875 1583.13,741.433 1583.42,741.433 1583.7,651.875 1583.99,651.875 1584.27,617.445 1584.55,617.254 1584.84,601.39 1585.12,601.39 1585.41,617.631 \n",
       "  1585.69,664.703 1585.98,664.703 1586.26,664.703 1586.54,664.711 1586.83,816.187 1587.11,816.187 1587.4,796.965 1587.68,789.772 1587.96,789.772 1588.25,789.772 \n",
       "  1588.53,789.772 1588.82,789.772 1589.1,789.772 1589.39,789.772 1589.67,782.223 1589.95,782.223 1590.24,787.657 1590.52,787.657 1590.81,769.417 1591.09,769.417 \n",
       "  1591.37,813.509 1591.66,813.509 1591.94,809.66 1592.23,809.66 1592.51,815.146 1592.79,815.146 1593.08,814.889 1593.36,814.889 1593.65,816.068 1593.93,816.068 \n",
       "  1594.22,816.068 1594.5,816.068 1594.78,815.139 1595.07,815.139 1595.35,814.991 1595.64,814.991 1595.92,813.455 1596.2,806.724 1596.49,815.759 1596.77,815.759 \n",
       "  1597.06,814.959 1597.34,814.959 1597.63,815.101 1597.91,815.101 1598.19,810.833 1598.48,810.833 1598.76,812.272 1599.05,812.536 1599.33,791.392 1599.61,791.392 \n",
       "  1599.9,792.081 1600.18,792.081 1600.47,792.766 1600.75,792.766 1601.04,792.766 1601.32,646.976 1601.6,646.976 1601.89,769.447 1602.17,769.449 1602.46,769.449 \n",
       "  1602.74,773.372 1603.02,781.537 1603.31,785.882 1603.59,785.882 1603.88,784.57 1604.16,784.815 1604.44,784.815 1604.73,784.815 1605.01,779.478 1605.3,771.44 \n",
       "  1605.58,771.44 1605.87,745.445 1606.15,745.445 1606.43,745.445 1606.72,745.445 1607,753.66 1607.29,753.66 1607.57,790.159 1607.85,790.159 1608.14,790.159 \n",
       "  1608.42,790.159 1608.71,790.159 1608.99,765.587 1609.28,685.985 1609.56,685.985 1609.84,525.674 1610.13,525.674 1610.41,525.674 1610.7,525.674 1610.98,525.674 \n",
       "  1611.26,442.202 1611.55,270.677 1611.83,270.677 1612.12,289.591 1612.4,356.151 1612.68,356.153 1612.97,356.153 1613.25,356.169 1613.54,523.219 1613.82,441.199 \n",
       "  1614.11,441.199 1614.39,441.196 1614.67,446.314 1614.96,446.314 1615.24,446.314 1615.53,493.945 1615.81,449.352 1616.09,449.352 1616.38,449.352 1616.66,700.506 \n",
       "  1616.95,700.518 1617.23,700.518 1617.52,700.52 1617.8,781.886 1618.08,804.582 1618.37,804.582 1618.65,804.582 1618.94,804.582 1619.22,813.486 1619.5,813.486 \n",
       "  1619.79,813.486 1620.07,813.486 1620.36,813.486 1620.64,813.486 1620.92,813.486 1621.21,813.486 1621.49,813.486 1621.78,813.486 1622.06,813.488 1622.35,813.488 \n",
       "  1622.63,815.476 1622.91,815.476 1623.2,815.476 1623.48,811.678 1623.77,811.678 1624.05,810.114 1624.33,807.569 1624.62,811.443 1624.9,811.443 1625.19,808.98 \n",
       "  1625.47,808.98 1625.76,808.98 1626.04,808.98 1626.32,808.98 1626.61,812.546 1626.89,812.546 1627.18,815.968 1627.46,816.175 1627.74,816.175 1628.03,815.921 \n",
       "  1628.31,814.769 1628.6,814.769 1628.88,806.586 1629.16,806.586 1629.45,808.317 1629.73,808.317 1630.02,808.317 1630.3,750.863 1630.59,728.713 1630.87,728.713 \n",
       "  1631.15,756.016 1631.44,756.016 1631.72,780.321 1632.01,780.321 1632.29,797.347 1632.57,797.347 1632.86,808.591 1633.14,810.949 1633.43,810.949 1633.71,810.949 \n",
       "  1634,810.949 1634.28,816.189 1634.56,816.05 1634.85,816.05 1635.13,808.301 1635.42,808.301 1635.7,798.186 1635.98,798.185 1636.27,798.185 1636.55,798.185 \n",
       "  1636.84,798.185 1637.12,807.315 1637.4,807.316 1637.69,807.316 1637.97,807.316 1638.26,812.491 1638.54,815.818 1638.83,815.818 1639.11,815.818 1639.39,815.727 \n",
       "  1639.68,815.727 1639.96,815.727 1640.25,815.727 1640.53,815.727 1640.81,813.398 1641.1,813.398 1641.38,813.398 1641.67,813.398 1641.95,794.458 1642.24,768.521 \n",
       "  1642.52,768.521 1642.8,696.396 1643.09,696.387 1643.37,696.387 1643.66,728.562 1643.94,754.019 1644.22,754.019 1644.51,759.767 1644.79,759.769 1645.08,759.769 \n",
       "  1645.36,794.015 1645.65,794.015 1645.93,794.015 1646.21,724.888 1646.5,720.783 1646.78,754.108 1647.07,797.78 1647.35,797.78 1647.63,797.78 1647.92,811.419 \n",
       "  1648.2,811.419 1648.49,795.719 1648.77,795.719 1649.05,795.719 1649.34,795.719 1649.62,795.719 1649.91,795.719 1650.19,816.086 1650.48,816.086 1650.76,816.086 \n",
       "  1651.04,816.086 1651.33,813.07 1651.61,813.07 1651.9,815.784 1652.18,815.784 1652.46,815.784 1652.75,815.784 1653.03,815.784 1653.32,815.784 1653.6,815.118 \n",
       "  1653.89,815.118 1654.17,781.579 1654.45,781.579 1654.74,781.579 1655.02,781.579 1655.31,770.407 1655.59,770.409 1655.87,806.881 1656.16,806.882 1656.44,806.882 \n",
       "  1656.73,813.052 1657.01,815.964 1657.29,815.964 1657.58,815.964 1657.86,815.964 1658.15,815.536 1658.43,808.844 1658.72,808.844 1659,808.844 1659.28,807.981 \n",
       "  1659.57,792.335 1659.85,777.05 1660.14,777.191 1660.42,777.191 1660.7,791.07 1660.99,804.759 1661.27,804.865 1661.56,805.007 1661.84,810.277 1662.13,810.156 \n",
       "  1662.41,810.156 1662.69,800.289 1662.98,800.289 1663.26,786.821 1663.55,784.319 1663.83,797.608 1664.11,797.609 1664.4,797.609 1664.68,797.609 1664.97,797.609 \n",
       "  1665.25,797.609 1665.53,797.609 1665.82,797.609 1666.1,815.547 1666.39,815.547 1666.67,815.547 1666.96,815.547 1667.24,813.844 1667.52,816.181 1667.81,816.189 \n",
       "  1668.09,816.186 1668.38,801.589 1668.66,797.708 1668.94,782.736 1669.23,796.57 1669.51,796.571 1669.8,803.196 1670.08,803.196 1670.37,815.34 1670.65,814.931 \n",
       "  1670.93,814.928 1671.22,814.928 1671.5,814.928 1671.79,814.928 1672.07,814.928 1672.35,814.928 1672.64,814.928 1672.92,794.309 1673.21,794.309 1673.49,794.309 \n",
       "  1673.77,789.991 1674.06,789.991 1674.34,816.155 1674.63,813.522 1674.91,816.016 1675.2,816.016 1675.48,816.016 1675.76,816.016 1676.05,816.016 1676.33,816.016 \n",
       "  1676.62,809.012 1676.9,809.012 1677.18,809.049 1677.47,809.049 1677.75,809.049 1678.04,809.049 1678.32,794.063 1678.61,794.078 1678.89,794.078 1679.17,794.078 \n",
       "  1679.46,796.253 1679.74,769.528 1680.03,769.528 1680.31,808.369 1680.59,808.369 1680.88,808.369 1681.16,808.369 1681.45,784.23 1681.73,784.23 1682.01,746.364 \n",
       "  1682.3,746.364 1682.58,815.321 1682.87,815.321 1683.15,815.116 1683.44,815.116 1683.72,811.738 1684,811.738 1684.29,806.022 1684.57,812.121 1684.86,812.121 \n",
       "  1685.14,780.254 1685.42,741.402 1685.71,770.441 1685.99,801.973 1686.28,812.674 1686.56,812.674 1686.85,812.674 1687.13,812.674 1687.41,812.674 1687.7,812.674 \n",
       "  1687.98,807.498 1688.27,807.493 1688.55,746.587 1688.83,782.019 1689.12,782.019 1689.4,804.082 1689.69,787.008 1689.97,805.675 1690.26,805.675 1690.54,805.674 \n",
       "  1690.82,805.674 1691.11,747.176 1691.39,751.456 1691.68,750.046 1691.96,750.046 1692.24,710.146 1692.53,710.146 1692.81,751.5 1693.1,751.5 1693.38,781.274 \n",
       "  1693.66,781.274 1693.95,803.398 1694.23,809.671 1694.52,809.671 1694.8,812.827 1695.09,812.829 1695.37,816.166 1695.65,816.166 1695.94,816.166 1696.22,816.166 \n",
       "  1696.51,816.166 1696.79,816.166 1697.07,816.166 1697.36,685.026 1697.64,685.026 1697.93,685.026 1698.21,775.017 1698.5,789.581 1698.78,786.466 1699.06,794.593 \n",
       "  1699.35,809.364 1699.63,809.364 1699.92,803.056 1700.2,803.056 1700.48,786.424 1700.77,786.424 1701.05,786.424 1701.34,804.434 1701.62,804.434 1701.9,804.314 \n",
       "  1702.19,804.314 1702.47,804.314 1702.76,806.378 1703.04,806.378 1703.33,798.597 1703.61,798.597 1703.89,812.099 1704.18,812.099 1704.46,812.1 1704.75,812.1 \n",
       "  1705.03,815.805 1705.31,815.805 1705.6,813.557 1705.88,813.556 1706.17,813.556 1706.45,813.556 1706.74,796.581 1707.02,792.713 1707.3,792.713 1707.59,792.713 \n",
       "  1707.87,832.764 1708.16,832.764 1708.44,832.764 1708.72,832.764 1709.01,829.842 1709.29,829.842 1709.58,829.838 1709.86,809.164 1710.14,809.164 1710.43,815.484 \n",
       "  1710.71,815.484 1711,815.519 1711.28,815.519 1711.57,815.519 1711.85,815.519 1712.13,815.519 1712.42,823.107 1712.7,823.107 1712.99,767.862 1713.27,787.406 \n",
       "  1713.55,787.406 1713.84,787.406 1714.12,787.406 1714.41,816.18 1714.69,816.18 1714.98,816.143 1715.26,809.002 1715.54,809.002 1715.83,809.001 1716.11,809.001 \n",
       "  1716.4,809.001 1716.68,809.001 1716.96,806.928 1717.25,806.928 1717.53,815.495 1717.82,804.259 1718.1,804.259 1718.38,804.259 1718.67,804.259 1718.95,806.475 \n",
       "  1719.24,772.388 1719.52,790.149 1719.81,790.15 1720.09,790.15 1720.37,790.15 1720.66,790.15 1720.94,787.066 1721.23,776.778 1721.51,1262.77 1721.79,1262.6 \n",
       "  1722.08,1262.6 1722.36,1262.6 1722.65,1262.6 1722.93,1262.6 1723.22,1282.08 1723.5,1282.08 1723.78,770.512 1724.07,736.166 1724.35,814.292 1724.64,814.305 \n",
       "  1724.92,811.585 1725.2,811.585 1725.49,811.585 1725.77,798.45 1726.06,808.474 1726.34,810.912 1726.62,812.11 1726.91,812.11 1727.19,788.017 1727.48,752.858 \n",
       "  1727.76,733.599 1728.05,732.676 1728.33,667.368 1728.61,667.443 1728.9,667.443 1729.18,667.443 1729.47,667.443 1729.75,667.897 1730.03,772.561 1730.32,774.18 \n",
       "  1730.6,770.5 1730.89,770.5 1731.17,766.307 1731.46,766.307 1731.74,768.373 1732.02,768.373 1732.31,799.444 1732.59,799.444 1732.88,780.149 1733.16,780.149 \n",
       "  1733.44,780.149 1733.73,780.548 1734.01,780.548 1734.3,782.324 1734.58,782.324 1734.87,796.003 1735.15,796.003 1735.43,813.286 1735.72,813.286 1736,768.481 \n",
       "  1736.29,751.476 1736.57,751.473 1736.85,751.473 1737.14,751.483 1737.42,764.34 1737.71,764.34 1737.99,728.862 1738.27,719.938 1738.56,642.888 1738.84,642.888 \n",
       "  1739.13,642.876 1739.41,642.877 1739.7,668.648 1739.98,630.825 1740.26,630.825 1740.55,658.656 1740.83,672.461 1741.12,672.461 1741.4,693.328 1741.68,669.845 \n",
       "  1741.97,669.845 1742.25,706.62 1742.54,706.62 1742.82,710.908 1743.11,710.908 1743.39,746.287 1743.67,746.287 1743.96,757.556 1744.24,760.848 1744.53,760.848 \n",
       "  1744.81,766.667 1745.09,766.756 1745.38,766.84 1745.66,766.84 1745.95,784.45 1746.23,784.576 1746.51,784.576 1746.8,784.576 1747.08,784.576 1747.37,784.576 \n",
       "  1747.65,811.666 1747.94,813.342 1748.22,816.187 1748.5,816.187 1748.79,815.614 1749.07,815.614 1749.36,815.614 1749.64,815.614 1749.92,812.62 1750.21,812.62 \n",
       "  1750.49,816.056 1750.78,810.451 1751.06,810.348 1751.35,810.327 1751.63,810.327 1751.91,810.327 1752.2,810.327 1752.48,815.67 1752.77,815.67 1753.05,815.834 \n",
       "  1753.33,815.6 1753.62,814.841 1753.9,815.943 1754.19,815.943 1754.47,815.943 1754.75,807.695 1755.04,806.68 1755.32,806.68 1755.61,723.672 1755.89,723.623 \n",
       "  1756.18,723.623 1756.46,714.4 1756.74,714.4 1757.03,705.009 1757.31,705.009 1757.6,705.009 1757.88,705.009 1758.16,705.019 1758.45,812.067 1758.73,794.376 \n",
       "  1759.02,794.376 1759.3,791.433 1759.59,791.433 1759.87,808.204 1760.15,806.817 1760.44,806.817 1760.72,799.958 1761.01,799.958 1761.29,799.958 1761.57,803.026 \n",
       "  1761.86,803.026 1762.14,797.149 1762.43,810.533 1762.71,815.769 1762.99,808.761 1763.28,808.761 1763.56,791.962 1763.85,791.962 1764.13,791.962 1764.42,791.962 \n",
       "  1764.7,794.35 1764.98,794.409 1765.27,794.409 1765.55,794.409 1765.84,813.503 1766.12,813.531 1766.4,814.008 1766.69,799.182 1766.97,799.182 1767.26,799.182 \n",
       "  1767.54,799.182 1767.83,807.564 1768.11,807.564 1768.39,815.209 1768.68,815.209 1768.96,815.209 1769.25,814.949 1769.53,814.949 1769.81,814.949 1770.1,814.949 \n",
       "  1770.38,814.949 1770.67,814.949 1770.95,814.949 1771.23,814.949 1771.52,814.949 1771.8,814.949 1772.09,816.019 1772.37,765.433 1772.66,762.537 1772.94,762.537 \n",
       "  1773.22,762.537 1773.51,762.537 1773.79,762.537 1774.08,762.537 1774.36,762.537 1774.64,724.197 1774.93,721.888 1775.21,794.455 1775.5,794.455 1775.78,794.455 \n",
       "  1776.07,789.151 1776.35,789.151 1776.63,804.707 1776.92,814.371 1777.2,795.31 1777.49,802.153 1777.77,807.267 1778.05,807.267 1778.34,807.267 1778.62,807.267 \n",
       "  1778.91,802.301 1779.19,758.056 1779.47,758.056 1779.76,758.056 1780.04,758.056 1780.33,764.629 1780.61,699.585 1780.9,699.585 1781.18,699.588 1781.46,763.113 \n",
       "  1781.75,791.238 1782.03,791.238 1782.32,791.232 1782.6,778.513 1782.88,778.513 1783.17,814.232 1783.45,814.232 1783.74,801.745 1784.02,801.745 1784.31,777.398 \n",
       "  1784.59,777.398 1784.87,777.398 1785.16,777.398 1785.44,770.733 1785.73,770.733 1786.01,796.291 1786.29,794.52 1786.58,794.52 1786.86,790.877 1787.15,790.877 \n",
       "  1787.43,790.877 1787.72,790.877 1788,805.104 1788.28,805.104 1788.57,781.675 1788.85,786.327 1789.14,786.327 1789.42,763.181 1789.7,763.181 1789.99,791.106 \n",
       "  1790.27,791.106 1790.56,791.106 1790.84,791.106 1791.12,777.811 1791.41,835.216 1791.69,835.216 1791.98,816.185 1792.26,816.185 1792.55,815.136 1792.83,814.725 \n",
       "  1793.11,814.725 1793.4,814.286 1793.68,813.752 1793.97,806.85 1794.25,806.85 1794.53,805.89 1794.82,805.89 1795.1,805.89 1795.39,805.89 1795.67,798.823 \n",
       "  1795.96,798.823 1796.24,813.698 1796.52,813.698 1796.81,808.315 1797.09,808.315 1797.38,801.927 1797.66,801.927 1797.94,801.927 1798.23,801.927 1798.51,809.314 \n",
       "  1798.8,814.13 1799.08,814.13 1799.36,816.07 1799.65,816.07 1799.93,811.782 1800.22,811.782 1800.5,815.648 1800.79,815.648 1801.07,770.398 1801.35,770.398 \n",
       "  1801.64,770.468 1801.92,727.591 1802.21,727.591 1802.49,1307.25 1802.77,1376.63 1803.06,1376.63 1803.34,1376.63 1803.63,1376.41 1803.91,1376.41 1804.2,1376.2 \n",
       "  1804.48,1376.2 1804.76,1377.08 1805.05,1377.08 1805.33,1377.29 1805.62,1377.29 1805.9,1377.29 1806.18,1377.29 1806.47,553.481 1806.75,553.481 1807.04,624.058 \n",
       "  1807.32,624.058 1807.6,624.058 1807.89,602.399 1808.17,602.399 1808.46,619.781 1808.74,619.781 1809.03,666.399 1809.31,644.216 1809.59,644.216 1809.88,568.806 \n",
       "  1810.16,568.806 1810.45,570.724 1810.73,570.724 1811.01,571.221 1811.3,571.221 1811.58,572.731 1811.87,573.208 1812.15,573.208 1812.44,597.271 1812.72,611.636 \n",
       "  1813,611.636 1813.29,613.303 1813.57,613.303 1813.86,614.133 1814.14,614.133 1814.42,603.501 1814.71,603.501 1814.99,654.321 1815.28,654.321 1815.56,654.708 \n",
       "  1815.84,654.708 1816.13,655.54 1816.41,610.297 1816.7,610.897 1816.98,610.897 1817.27,611.456 1817.55,611.456 1817.83,790.424 1818.12,812.958 1818.4,812.958 \n",
       "  1818.69,813.01 1818.97,813.01 1819.25,810.48 1819.54,795.863 1819.82,795.863 1820.11,812.299 1820.39,812.299 1820.68,812.496 1820.96,812.496 1821.24,812.561 \n",
       "  1821.53,812.561 1821.81,812.628 1822.1,812.628 1822.38,812.782 1822.66,812.721 1822.95,812.721 1823.23,812.721 1823.52,812.721 1823.8,812.721 1824.08,812.112 \n",
       "  1824.37,815.976 1824.65,815.976 1824.94,815.976 1825.22,815.987 1825.51,815.987 1825.79,815.993 1826.07,815.993 1826.36,815.993 1826.64,815.993 1826.93,815.993 \n",
       "  1827.21,816.137 1827.49,816.137 1827.78,815.474 1828.06,815.85 1828.35,815.897 1828.63,815.929 1828.92,815.929 1829.2,807.517 1829.48,807.517 1829.77,809.004 \n",
       "  1830.05,809.004 1830.34,797.094 1830.62,801.33 1830.9,801.33 1831.19,801.33 1831.47,800.934 1831.76,799.726 1832.04,799.726 1832.33,812.764 1832.61,812.764 \n",
       "  1832.89,812.96 1833.18,812.96 1833.46,812.96 1833.75,812.96 1834.03,815.718 1834.31,815.718 1834.6,815.78 1834.88,815.78 1835.17,729.624 1835.45,729.624 \n",
       "  1835.73,767.048 1836.02,767.048 1836.3,766.51 1836.59,766.51 1836.87,765.977 1837.16,759.971 1837.44,796.868 1837.72,796.51 1838.01,796.152 1838.29,796.152 \n",
       "  1838.58,803.69 1838.86,804.967 1839.14,810.207 1839.43,810.215 1839.71,814.078 1840,808.014 1840.28,791.043 1840.57,1410.17 1840.85,814.842 1841.13,815.522 \n",
       "  1841.42,813.424 1841.7,813.421 1841.99,813.421 1842.27,813.419 1842.55,813.419 1842.84,814.456 1843.12,815.825 1843.41,815.29 1843.69,815.29 1843.97,815.29 \n",
       "  1844.26,814.807 1844.54,814.807 1844.83,772.403 1845.11,772.403 1845.4,772.403 1845.68,772.403 1845.96,776.152 1846.25,769.364 1846.53,764.626 1846.82,764.626 \n",
       "  1847.1,727.143 1847.38,727.143 1847.67,727.038 1847.95,727.038 1848.24,706.436 1848.52,775.85 1848.81,775.805 1849.09,780.479 1849.37,774.789 1849.66,1439.13 \n",
       "  1849.94,1439.13 1850.23,1418.85 1850.51,1418.95 1850.79,1419 1851.08,1419.06 1851.36,1419.06 1851.65,1347.26 1851.93,1287.84 1852.21,1287.84 1852.5,1372.63 \n",
       "  1852.78,1372.63 1853.07,1352.34 1853.35,1352.34 1853.64,1379.58 1853.92,1379.58 1854.2,1348.52 1854.49,1348.52 1854.77,1348.7 1855.06,1348.7 1855.34,1348.79 \n",
       "  1855.62,1348.79 1855.91,1336.57 1856.19,1264.42 1856.48,1264.42 1856.76,1293.7 1857.05,611.325 1857.33,611.325 1857.61,611.566 1857.9,611.566 1858.18,678.058 \n",
       "  1858.47,678.058 1858.75,645.933 1859.03,645.933 1859.32,646.048 1859.6,646.172 1859.89,646.172 1860.17,685.729 1860.45,635.049 1860.74,635.049 1861.02,1219.48 \n",
       "  1861.31,603.886 1861.59,590.259 1861.88,590.259 1862.16,636.302 1862.44,624.386 1862.73,639.299 1863.01,639.299 1863.3,639.299 1863.58,762.475 1863.86,1372.15 \n",
       "  1864.15,829.817 1864.43,815.081 1864.72,815.081 1865,815.097 1865.29,811.363 1865.57,811.363 1865.85,811.516 1866.14,811.516 1866.42,753.53 1866.71,753.53 \n",
       "  1866.99,749.285 1867.27,749.285 1867.56,749.461 1867.84,749.461 1868.13,770.327 1868.41,770.327 1868.69,785.864 1868.98,815.115 1869.26,815.115 1869.55,815.136 \n",
       "  1869.83,816.174 1870.12,816.174 1870.4,815.084 1870.68,815.084 1870.97,798.036 1871.25,798.036 1871.54,797.246 1871.82,804.236 1872.1,804.236 1872.39,804.306 \n",
       "  1872.67,804.306 1872.96,789.87 1873.24,789.87 1873.53,765.552 1873.81,765.552 1874.09,708.172 1874.38,734.154 1874.66,813.519 1874.95,814.774 1875.23,814.774 \n",
       "  1875.51,801.084 1875.8,801.084 1876.08,790.247 1876.37,790.247 1876.65,790.247 1876.94,808.469 1877.22,808.464 1877.5,808.464 1877.79,814.699 1878.07,814.699 \n",
       "  1878.36,806.243 1878.64,806.243 1878.92,806.471 1879.21,806.471 1879.49,790.698 1879.78,800.028 1880.06,814.339 1880.34,814.339 1880.63,815.883 1880.91,815.883 \n",
       "  1881.2,806.472 1881.48,797.777 1881.77,797.777 1882.05,804.198 1882.33,804.198 1882.62,788.022 1882.9,788.022 1883.19,788.022 1883.47,788.022 1883.75,788.022 \n",
       "  1884.04,788.022 1884.32,800.772 1884.61,800.772 1884.89,800.771 1885.18,766.637 1885.46,766.637 1885.74,767.794 1886.03,767.794 1886.31,761.937 1886.6,782.477 \n",
       "  1886.88,782.477 1887.16,782.477 1887.45,756.43 1887.73,756.905 1888.02,756.905 1888.3,756.9 1888.58,756.9 1888.87,741.315 1889.15,741.315 1889.44,783.721 \n",
       "  1889.72,795.691 1890.01,795.691 1890.29,805.967 1890.57,801.981 1890.86,801.981 1891.14,801.97 1891.43,801.97 1891.71,798.233 1891.99,798.233 1892.28,798.222 \n",
       "  1892.56,798.222 1892.85,812.022 1893.13,812.842 1893.42,812.842 1893.7,809.697 1893.98,809.697 1894.27,809.697 1894.55,809.697 1894.84,809.697 1895.12,809.697 \n",
       "  1895.4,809.697 1895.69,809.697 1895.97,813.422 1896.26,816.078 1896.54,816.078 1896.82,814.12 1897.11,814.12 1897.39,814.12 1897.68,811.713 1897.96,811.713 \n",
       "  1898.25,811.352 1898.53,811.352 1898.81,790.675 1899.1,790.675 1899.38,802.747 1899.67,802.747 1899.95,804.885 1900.23,804.309 1900.52,804.309 1900.8,803.729 \n",
       "  1901.09,803.729 1901.37,803.729 1901.66,803.729 1901.94,796.284 1902.22,796.284 1902.51,796.282 1902.79,796.282 1903.08,738.035 1903.36,738.035 1903.64,738.035 \n",
       "  1903.93,738.035 1904.21,738.04 1904.5,764.409 1904.78,764.409 1905.06,738.186 1905.35,738.197 1905.63,738.197 1905.92,772.841 1906.2,794.182 1906.49,794.182 \n",
       "  1906.77,777.281 1907.05,777.281 1907.34,756.92 1907.62,756.91 1907.91,744.078 1908.19,744.078 1908.47,752.598 1908.76,752.598 1909.04,752.598 1909.33,752.598 \n",
       "  1909.61,811.493 1909.9,795.907 1910.18,795.907 1910.46,792.479 1910.75,792.479 1911.03,792.479 1911.32,792.48 1911.6,792.48 1911.88,811.525 1912.17,811.526 \n",
       "  1912.45,811.526 1912.74,815.763 1913.02,809.004 1913.3,809.781 1913.59,809.781 1913.87,814.742 1914.16,814.742 1914.44,814.742 1914.73,814.742 1915.01,814.742 \n",
       "  1915.29,814.742 1915.58,814.742 1915.86,814.742 1916.15,814.742 1916.43,814.742 1916.71,798.539 1917,798.539 1917.28,798.539 1917.57,798.531 1917.85,798.531 \n",
       "  1918.14,798.517 1918.42,798.51 1918.7,803.879 1918.99,803.879 1919.27,802.506 1919.56,802.506 1919.84,814.633 1920.12,814.633 1920.41,813.953 1920.69,813.953 \n",
       "  1920.98,813.949 1921.26,813.949 1921.55,802.146 1921.83,802.146 1922.11,800.836 1922.4,800.836 1922.68,775.499 1922.97,788.47 1923.25,788.47 1923.53,776.864 \n",
       "  1923.82,776.864 1924.1,815.189 1924.39,815.823 1924.67,814.604 1924.95,814.604 1925.24,813.572 1925.52,813.572 1925.81,812.17 1926.09,812.17 1926.38,816.175 \n",
       "  1926.66,816.175 1926.94,816.175 1927.23,816.175 1927.51,805.77 1927.8,810.939 1928.08,811.928 1928.36,815.955 1928.65,815.955 1928.93,810.643 1929.22,803.566 \n",
       "  1929.5,803.566 1929.79,802.6 1930.07,782.332 1930.35,666.455 1930.64,704.923 1930.92,704.923 1931.21,674.039 1931.49,674.038 1931.77,674.038 1932.06,717.274 \n",
       "  1932.34,717.274 1932.63,709.352 1932.91,664.215 1933.19,696.742 1933.48,696.742 1933.76,688.307 1934.05,688.307 1934.33,778.811 1934.62,778.811 1934.9,778.816 \n",
       "  1935.18,763.342 1935.47,763.342 1935.75,763.342 1936.04,763.342 1936.32,764.658 1936.6,764.658 1936.89,790.931 1937.17,790.931 1937.46,808.25 1937.74,808.25 \n",
       "  1938.03,808.25 1938.31,808.25 1938.59,808.25 1938.88,808.25 1939.16,803.185 1939.45,803.185 1939.73,812.087 1940.01,816.187 1940.3,816.187 1940.58,816.187 \n",
       "  1940.87,816.187 1941.15,816.041 1941.43,816.041 1941.72,809.732 1942,809.732 1942.29,801.63 1942.57,801.629 1942.86,801.629 1943.14,801.629 1943.42,810.159 \n",
       "  1943.71,810.159 1943.99,810.159 1944.28,809.429 1944.56,809.429 1944.84,809.429 1945.13,809.429 1945.41,809.429 1945.7,771.46 1945.98,790.956 1946.27,790.956 \n",
       "  1946.55,779.859 1946.83,779.859 1947.12,779.857 1947.4,779.857 1947.69,785.544 1947.97,801.573 1948.25,774.919 1948.54,774.919 1948.82,743.093 1949.11,769.766 \n",
       "  1949.39,769.767 1949.67,769.767 1949.96,786.452 1950.24,786.452 1950.53,790.397 1950.81,808.637 1951.1,808.638 1951.38,808.638 1951.66,808.638 1951.95,808.638 \n",
       "  1952.23,808.638 1952.52,808.638 1952.8,808.638 1953.08,783.831 1953.37,783.831 1953.65,794.211 1953.94,794.211 1954.22,784.997 1954.51,784.997 1954.79,797.839 \n",
       "  1955.07,793.288 1955.36,793.288 1955.64,809.079 1955.93,809.079 1956.21,807.856 1956.49,807.856 1956.78,812.244 1957.06,812.244 1957.35,808.48 1957.63,776.923 \n",
       "  1957.91,776.923 1958.2,776.923 1958.48,776.923 1958.77,776.923 1959.05,776.923 1959.34,776.923 1959.62,776.923 1959.9,776.923 1960.19,811.82 1960.47,811.82 \n",
       "  1960.76,811.821 1961.04,806.168 1961.32,806.168 1961.61,806.167 1961.89,794.236 1962.18,794.236 1962.46,786.949 1962.75,805.827 1963.03,799.248 1963.31,757.88 \n",
       "  1963.6,757.88 1963.88,751.647 1964.17,751.647 1964.45,719.751 1964.73,719.751 1965.02,704.367 1965.3,704.367 1965.59,704.336 1965.87,704.336 1966.15,704.311 \n",
       "  1966.44,704.311 1966.72,759.366 1967.01,759.366 1967.29,1392.24 1967.58,1392.24 1967.86,804.047 1968.14,1344.47 1968.43,1344.47 1968.71,1344.47 1969,1344.47 \n",
       "  1969.28,1344.47 1969.56,1344.47 1969.85,1344.47 1970.13,1344.47 1970.42,1344.47 1970.7,1344.47 1970.99,1344.47 1971.27,1344.47 1971.55,1385.13 1971.84,1385.13 \n",
       "  1972.12,1379.02 1972.41,1297.51 1972.69,1297.51 1972.97,1292.44 1973.26,1292.44 1973.54,1290.53 1973.83,1290.53 1974.11,1335.07 1974.4,1335.07 1974.68,1335.07 \n",
       "  1974.96,1335.07 1975.25,1335.07 1975.53,1335.07 1975.82,1342.38 1976.1,1342.38 1976.38,1342.38 1976.67,1286.77 1976.95,1286.77 1977.24,1286.76 1977.52,1247.72 \n",
       "  1977.8,1247.72 1978.09,1323.1 1978.37,1323.1 1978.66,1322.01 1978.94,1322.01 1979.23,1321.91 1979.51,1321.91 1979.79,1365.75 1980.08,1372.37 1980.36,1372.37 \n",
       "  1980.65,1372.37 1980.93,1411.9 1981.21,1411.9 1981.5,1387.26 1981.78,1317.79 1982.07,1317.79 1982.35,1311.34 1982.64,1331.38 1982.92,1331.39 1983.2,1331.39 \n",
       "  1983.49,808.837 1983.77,808.837 1984.06,802.953 1984.34,802.953 1984.62,779.515 1984.91,746.806 1985.19,746.806 1985.48,746.801 1985.76,746.801 1986.04,746.798 \n",
       "  1986.33,746.798 1986.61,746.798 1986.9,815.711 1987.18,815.711 1987.47,815.198 1987.75,815.198 1988.03,810.022 1988.32,813.841 1988.6,798.372 1988.89,798.372 \n",
       "  1989.17,798.372 1989.45,793.239 1989.74,776.657 1990.02,776.657 1990.31,776.657 1990.59,774.284 1990.88,774.284 1991.16,812.638 1991.44,812.638 1991.73,801.091 \n",
       "  1992.01,801.091 1992.3,809.691 1992.58,809.691 1992.86,800.589 1993.15,800.443 1993.43,780.181 1993.72,780.181 1994,733.927 1994.28,733.927 1994.57,730.93 \n",
       "  1994.85,730.934 1995.14,777.108 1995.42,777.108 1995.71,786.677 1995.99,786.677 1996.27,786.645 1996.56,786.645 1996.84,786.635 1997.13,786.635 1997.41,786.625 \n",
       "  1997.69,786.625 1997.98,776.206 1998.26,776.206 1998.55,804.66 1998.83,804.66 1999.12,804.641 1999.4,701.989 1999.68,792.787 1999.97,792.787 2000.25,808.195 \n",
       "  2000.54,808.195 2000.82,808.195 2001.1,802.438 2001.39,802.438 2001.67,775.744 2001.96,775.744 2002.24,768.232 2002.52,768.232 2002.81,768.232 2003.09,768.232 \n",
       "  2003.38,768.232 2003.66,768.232 2003.95,768.232 2004.23,785.073 2004.51,785.073 2004.8,785.073 2005.08,785.073 2005.37,752.954 2005.65,752.954 2005.93,731.221 \n",
       "  2006.22,731.221 2006.5,764.497 2006.79,764.497 2007.07,798.71 2007.36,798.71 2007.64,764.786 2007.92,764.782 2008.21,764.782 2008.49,764.782 2008.78,764.782 \n",
       "  2009.06,758.213 2009.34,758.213 2009.63,751.631 2009.91,751.631 2010.2,739.398 2010.48,739.398 2010.76,730.091 2011.05,730.088 2011.33,730.088 2011.62,722.167 \n",
       "  2011.9,722.167 2012.19,719.798 2012.47,719.798 2012.75,799.164 2013.04,799.164 2013.32,799.164 2013.61,799.164 2013.89,799.164 2014.17,799.164 2014.46,758.197 \n",
       "  2014.74,715.221 2015.03,715.221 2015.31,715.221 2015.6,715.221 2015.88,734.197 2016.16,734.197 2016.45,706.244 2016.73,706.244 2017.02,647.552 2017.3,639.416 \n",
       "  2017.58,634.374 2017.87,680.191 2018.15,680.193 2018.44,680.193 2018.72,680.193 2019.01,680.193 2019.29,680.193 2019.57,680.193 2019.86,680.193 2020.14,680.193 \n",
       "  2020.43,761.874 2020.71,603.84 2020.99,603.84 2021.28,677.351 2021.56,677.351 2021.85,712.951 2022.13,712.951 2022.41,712.951 2022.7,728.859 2022.98,755.57 \n",
       "  2023.27,755.57 2023.55,779.407 2023.84,771.909 2024.12,742.546 2024.4,742.546 2024.69,782.821 2024.97,782.821 2025.26,791.225 2025.54,791.225 2025.82,805.62 \n",
       "  2026.11,813.127 2026.39,810.563 2026.68,810.563 2026.96,793.729 2027.25,735.731 2027.53,735.731 2027.81,716.445 2028.1,716.445 2028.38,684.703 2028.67,684.703 \n",
       "  2028.95,761.778 2029.23,761.778 2029.52,761.778 2029.8,761.778 2030.09,761.778 2030.37,761.778 2030.65,761.778 2030.94,761.778 2031.22,761.778 2031.51,761.784 \n",
       "  2031.79,815.372 2032.08,815.372 2032.36,815.372 2032.64,815.372 2032.93,812.316 2033.21,812.316 2033.5,802.058 2033.78,802.058 2034.06,802.058 2034.35,802.056 \n",
       "  2034.63,802.056 2034.92,803.511 2035.2,803.512 2035.49,810.037 2035.77,810.566 2036.05,810.566 2036.34,811.101 2036.62,811.101 2036.91,811.101 2037.19,811.101 \n",
       "  2037.47,811.101 2037.76,811.101 2038.04,809.734 2038.33,809.734 2038.61,659.633 2038.89,659.633 2039.18,748.823 2039.46,748.823 2039.75,709.433 2040.03,703.302 \n",
       "  2040.32,697.546 2040.6,724.713 2040.88,724.713 2041.17,721.939 2041.45,727.139 2041.74,727.14 2042.02,727.14 2042.3,686.501 2042.59,686.501 2042.87,762.462 \n",
       "  2043.16,790.47 2043.44,790.47 2043.73,790.47 2044.01,790.47 2044.29,790.469 2044.58,684.234 2044.86,684.234 2045.15,684.234 2045.43,684.234 2045.71,674.741 \n",
       "  2046,674.741 2046.28,661.88 2046.57,661.88 2046.85,661.88 2047.13,661.88 2047.42,673.139 2047.7,673.139 2047.99,673.138 2048.27,657.688 2048.56,657.688 \n",
       "  2048.84,682.271 2049.12,711.382 2049.41,711.382 2049.69,756.609 2049.98,780.223 2050.26,780.223 2050.54,780.223 2050.83,791.06 2051.11,791.06 2051.4,808.13 \n",
       "  2051.68,808.13 2051.97,807.198 2052.25,807.198 2052.53,807.198 2052.82,807.198 2053.1,807.198 2053.39,807.198 2053.67,788.451 2053.95,810.91 2054.24,810.91 \n",
       "  2054.52,809.004 2054.81,809.004 2055.09,813.772 2055.37,813.772 2055.66,813.773 2055.94,815.38 2056.23,815.38 2056.51,802.929 2056.8,802.929 2057.08,797.79 \n",
       "  2057.36,797.79 2057.65,1403.08 2057.93,1403.07 2058.22,1403.07 2058.5,1403.07 2058.78,767.127 2059.07,767.127 2059.35,798.537 2059.64,798.537 2059.92,798.537 \n",
       "  2060.21,798.537 2060.49,758.113 2060.77,757.98 2061.06,757.98 2061.34,763.459 2061.63,763.434 2061.91,763.434 2062.19,763.423 2062.48,763.423 2062.76,797.432 \n",
       "  2063.05,812.486 2063.33,812.486 2063.62,812.487 2063.9,812.487 2064.18,814.063 2064.47,814.063 2064.75,815.19 2065.04,815.19 2065.32,764.194 2065.6,764.194 \n",
       "  2065.89,798.556 2066.17,798.556 2066.46,798.572 2066.74,798.572 2067.02,798.592 2067.31,798.592 2067.59,798.612 2067.88,798.612 2068.16,811.989 2068.45,811.989 \n",
       "  2068.73,811.989 2069.01,815.814 2069.3,815.814 2069.58,811.561 2069.87,811.561 2070.15,805.679 2070.43,790.066 2070.72,801.785 2071,806.544 2071.29,810.629 \n",
       "  2071.57,810.629 2071.86,810.628 2072.14,810.626 2072.42,810.626 2072.71,789.619 2072.99,789.619 2073.28,771.87 2073.56,771.87 2073.84,771.87 2074.13,771.87 \n",
       "  2074.41,771.783 2074.7,777.682 2074.98,777.682 2075.26,753.339 2075.55,753.339 2075.83,721.182 2076.12,721.182 2076.4,721.182 2076.69,814.932 2076.97,814.932 \n",
       "  2077.25,815.21 2077.54,815.21 2077.82,815.437 2078.11,815.437 2078.39,813.147 2078.67,816.177 2078.96,815.919 2079.24,727.83 2079.53,727.83 2079.81,727.831 \n",
       "  2080.1,744.401 2080.38,740.859 2080.66,758.175 2080.95,809.039 2081.23,809.039 2081.52,809.039 2081.8,809.039 2082.08,809.039 2082.37,809.039 2082.65,813.255 \n",
       "  2082.94,813.255 2083.22,805.641 2083.5,805.641 2083.79,783.452 2084.07,783.449 2084.36,783.449 2084.64,783.44 2084.93,783.44 2085.21,783.433 2085.49,783.433 \n",
       "  2085.78,783.425 2086.06,783.416 2086.35,783.416 2086.63,783.404 2086.91,783.404 2087.2,783.404 2087.48,800.916 2087.77,800.916 2088.05,800.916 2088.34,800.916 \n",
       "  2088.62,800.916 2088.9,800.916 2089.19,775.801 2089.47,775.801 2089.76,750.681 2090.04,732.616 2090.32,732.616 2090.61,732.616 2090.89,732.616 2091.18,722.064 \n",
       "  2091.46,722.064 2091.74,722.064 2092.03,724.274 2092.31,811.86 2092.6,805.935 2092.88,778.634 2093.17,778.631 2093.45,781.651 2093.73,781.651 2094.02,781.649 \n",
       "  2094.3,773.626 2094.59,773.626 2094.87,800.979 2095.15,800.979 2095.44,800.979 2095.72,800.979 2096.01,800.979 2096.29,800.979 2096.58,800.976 2096.86,758.268 \n",
       "  2097.14,758.268 2097.43,736.733 2097.71,736.733 2098,736.733 2098.28,736.733 2098.56,811.13 2098.85,840.453 2099.13,840.45 2099.42,840.45 2099.7,812.793 \n",
       "  2099.98,812.793 2100.27,805.887 2100.55,805.887 2100.84,820.342 2101.12,813.395 2101.41,810.315 2101.69,810.315 2101.97,809.186 2102.26,809.186 2102.54,809.186 \n",
       "  2102.83,809.186 2103.11,809.186 2103.39,815.371 2103.68,815.371 2103.96,815.371 2104.25,815.371 2104.53,816.039 2104.82,816.039 2105.1,810.022 2105.38,810.022 \n",
       "  2105.67,806.224 2105.95,806.224 2106.24,792.194 2106.52,792.193 2106.8,803.615 2107.09,803.615 2107.37,815.781 2107.66,815.781 2107.94,815.145 2108.22,815.145 \n",
       "  2108.51,815.146 2108.79,789.942 2109.08,789.942 2109.36,789.942 2109.65,789.942 2109.93,789.942 2110.21,789.942 2110.5,789.945 2110.78,789.945 2111.07,812.36 \n",
       "  2111.35,815.1 2111.63,815.1 2111.92,843.511 2112.2,843.511 2112.49,809.334 2112.77,809.335 2113.06,1412 2113.34,1412 2113.62,1419.24 2113.91,1419.24 \n",
       "  2114.19,1419.24 2114.48,1419.24 2114.76,1423.39 2115.04,1430.68 2115.33,815.777 2115.61,799.717 2115.9,799.717 2116.18,799.717 2116.47,807.751 2116.75,807.751 \n",
       "  2117.03,807.751 2117.32,815.975 2117.6,787.69 2117.89,787.69 2118.17,787.69 2118.45,787.69 2118.74,787.69 2119.02,787.69 2119.31,815.96 2119.59,811.654 \n",
       "  2119.87,802.088 2120.16,802.088 2120.44,802.088 2120.73,787.123 2121.01,766.753 2121.3,743.294 2121.58,782.152 2121.86,782.152 2122.15,815.867 2122.43,815.867 \n",
       "  2122.72,815.872 2123,815.872 2123.28,806.232 2123.57,806.232 2123.85,803.125 2124.14,803.125 2124.42,794.147 2124.71,794.147 2124.99,786.303 2125.27,786.303 \n",
       "  2125.56,775.597 2125.84,723.266 2126.13,723.266 2126.41,714.214 2126.69,714.214 2126.98,710.7 2127.26,748.557 2127.55,747.315 2127.83,696.009 2128.11,696.009 \n",
       "  2128.4,696.837 2128.68,729.626 2128.97,667.925 2129.25,598.996 2129.54,686.469 2129.82,686.469 2130.1,686.469 2130.39,686.469 2130.67,733.012 2130.96,733.012 \n",
       "  2131.24,758.929 2131.52,769.939 2131.81,769.942 2132.09,811.274 2132.38,804.358 2132.66,804.358 2132.95,807.488 2133.23,814.338 2133.51,814.338 2133.8,814.338 \n",
       "  2134.08,814.338 2134.37,816.18 2134.65,816.18 2134.93,816.163 2135.22,816.163 2135.5,810.579 2135.79,810.579 2136.07,806.685 2136.35,806.685 2136.64,809.234 \n",
       "  2136.92,809.234 2137.21,808.024 2137.49,808.024 2137.78,807.101 2138.06,767.644 2138.34,813.572 2138.63,815.942 2138.91,815.942 2139.2,815.942 2139.48,815.942 \n",
       "  2139.76,815.942 2140.05,815.942 2140.33,815.942 2140.62,815.942 2140.9,795.573 2141.19,811.914 2141.47,803.026 2141.75,806.325 2142.04,803.791 2142.32,803.791 \n",
       "  2142.61,808.563 2142.89,803.446 2143.17,814.784 2143.46,814.213 2143.74,812.846 2144.03,812.846 2144.31,810.02 2144.59,810.02 2144.88,788.603 2145.16,758.635 \n",
       "  2145.45,758.635 2145.73,767.867 2146.02,780.062 2146.3,798.095 2146.58,798.095 2146.87,798.095 2147.15,799.426 2147.44,785.201 2147.72,801.217 2148,801.217 \n",
       "  2148.29,812.84 2148.57,812.84 2148.86,812.84 2149.14,814.099 2149.43,814.099 2149.71,814.1 2149.99,815.913 2150.28,815.913 2150.56,798.788 2150.85,798.788 \n",
       "  2151.13,798.788 2151.41,798.788 2151.7,798.788 2151.98,798.788 2152.27,796.756 2152.55,796.756 2152.83,796.756 2153.12,796.756 2153.4,796.756 2153.69,777.449 \n",
       "  2153.97,806.923 2154.26,806.923 2154.54,815.199 2154.82,809.358 2155.11,809.358 2155.39,815.398 2155.68,814.64 2155.96,814.64 2156.24,814.64 2156.53,815.96 \n",
       "  2156.81,815.96 2157.1,809.604 2157.38,809.604 2157.67,816.132 2157.95,814.335 2158.23,814.335 2158.52,816.185 2158.8,815.32 2159.09,806.532 2159.37,806.532 \n",
       "  2159.65,806.331 2159.94,806.131 2160.22,806.131 2160.51,805.93 2160.79,805.93 2161.08,816.156 2161.36,816.156 2161.64,814.047 2161.93,814.047 2162.21,785.066 \n",
       "  2162.5,763.166 2162.78,763.166 2163.06,699.118 2163.35,623.783 2163.63,623.783 2163.92,677.76 2164.2,677.76 2164.48,676.805 2164.77,676.805 2165.05,675.787 \n",
       "  2165.34,675.787 2165.62,662.036 2165.91,660.951 2166.19,660.951 2166.47,663.187 2166.76,663.187 2167.04,659.909 2167.33,659.909 2167.61,657.806 2167.89,657.806 \n",
       "  2168.18,656.856 2168.46,656.856 2168.75,607.578 2169.03,606.376 2169.32,606.376 2169.6,463.934 2169.88,463.934 2170.17,462.774 2170.45,462.774 2170.74,460.697 \n",
       "  2171.02,460.697 2171.3,617.658 2171.59,616.954 2171.87,616.954 2172.16,755.632 2172.44,806.085 2172.72,806.085 2173.01,805.741 2173.29,812.187 2173.58,812.187 \n",
       "  2173.86,813.453 2174.15,814.576 2174.43,814.576 2174.71,814.502 2175,808.637 2175.28,808.637 2175.57,806.746 2175.85,808.171 2176.13,810.815 2176.42,810.815 \n",
       "  2176.7,810.815 2176.99,810.815 2177.27,816.135 2177.56,802.043 2177.84,815.772 2178.12,815.772 2178.41,813.779 2178.69,813.779 2178.98,813.779 2179.26,813.779 \n",
       "  2179.54,816.12 2179.83,816.12 2180.11,809.368 2180.4,809.368 2180.68,804.619 2180.96,804.619 2181.25,799.798 2181.53,799.798 2181.82,757.014 2182.1,757.014 \n",
       "  2182.39,692.699 2182.67,699.784 2182.95,699.784 2183.24,771.037 2183.52,815.957 2183.81,815.957 2184.09,815.957 2184.37,815.957 2184.66,815.676 2184.94,815.881 \n",
       "  2185.23,815.881 2185.51,816.186 2185.8,815.668 2186.08,816.001 2186.36,816.001 2186.65,812.62 2186.93,812.619 2187.22,812.619 2187.5,815.119 2187.78,815.428 \n",
       "  2188.07,809.261 2188.35,809.261 2188.64,809.261 2188.92,772.825 2189.2,816.131 2189.49,816.131 2189.77,799.814 2190.06,799.814 2190.34,800.991 2190.63,803.907 \n",
       "  2190.91,805.472 2191.19,805.472 2191.48,799.764 2191.76,799.764 2192.05,799.764 2192.33,799.764 2192.61,799.764 2192.9,790.337 2193.18,790.337 2193.47,815.922 \n",
       "  2193.75,815.604 2194.04,815.604 2194.32,814.977 2194.6,812.815 2194.89,812.815 2195.17,789.033 2195.46,789.033 2195.74,806.755 2196.02,806.755 2196.31,806.755 \n",
       "  2196.59,806.85 2196.88,805.29 2197.16,805.29 2197.44,805.29 2197.73,811.168 2198.01,811.168 2198.3,811.168 2198.58,811.168 2198.87,811.168 2199.15,803.257 \n",
       "  2199.43,815.541 2199.72,816.042 2200,816.042 2200.29,816.042 2200.57,816.042 2200.85,816.041 2201.14,759.528 2201.42,759.528 2201.71,807.977 2201.99,807.977 \n",
       "  2202.28,798.405 2202.56,798.405 2202.84,798.405 2203.13,798.405 2203.41,806.515 2203.7,806.515 2203.98,806.515 2204.26,806.515 2204.55,806.515 2204.83,806.515 \n",
       "  2205.12,806.515 2205.4,806.515 2205.69,784.312 2205.97,784.312 2206.25,804.866 2206.54,804.866 2206.82,813.551 2207.11,799.242 2207.39,799.242 2207.67,745.357 \n",
       "  2207.96,745.357 2208.24,698.442 2208.53,692.293 2208.81,692.293 2209.09,692.298 2209.38,692.298 2209.66,701.63 2209.95,779.663 2210.23,779.663 2210.52,740.935 \n",
       "  2210.8,740.931 2211.08,740.931 2211.37,740.931 2211.65,740.931 2211.94,740.931 2212.22,740.931 2212.5,740.931 2212.79,740.931 2213.07,740.931 2213.36,736.629 \n",
       "  2213.64,805.478 2213.93,805.478 2214.21,808.146 2214.49,808.146 2214.78,811.727 2215.06,810.133 2215.35,810.133 2215.63,749.251 2215.91,749.251 2216.2,759.186 \n",
       "  2216.48,759.186 2216.77,756.628 2217.05,756.628 2217.33,756.628 2217.62,756.628 2217.9,724.06 2218.19,724.059 2218.47,724.059 2218.76,724.059 2219.04,724.059 \n",
       "  2219.32,724.059 2219.61,724.059 2219.89,724.059 2220.18,748.44 2220.46,720.967 2220.74,720.967 2221.03,675.897 2221.31,675.897 2221.6,675.897 2221.88,675.897 \n",
       "  2222.17,662.549 2222.45,662.549 2222.73,662.549 2223.02,662.549 2223.3,662.549 2223.59,662.549 2223.87,662.549 2224.15,662.549 2224.44,662.549 2224.72,662.549 \n",
       "  2225.01,703.787 2225.29,703.793 2225.57,703.803 2225.86,703.803 2226.14,755.339 2226.43,755.339 2226.71,755.339 2227,755.339 2227.28,755.339 2227.56,755.339 \n",
       "  2227.85,693.689 2228.13,693.689 2228.42,693.689 2228.7,693.689 2228.98,693.686 2229.27,787.949 2229.55,787.949 2229.84,811.387 2230.12,811.711 2230.41,816.179 \n",
       "  2230.69,816.179 2230.97,811.729 2231.26,811.729 2231.54,811.73 2231.83,811.73 2232.11,815.883 2232.39,815.883 2232.68,815.883 2232.96,815.883 2233.25,815.884 \n",
       "  2233.53,815.951 2233.81,815.951 2234.1,803.98 2234.38,803.98 2234.67,813.657 2234.95,813.657 2235.24,815.452 2235.52,815.452 2235.8,815.876 2236.09,815.876 \n",
       "  2236.37,815.66 2236.66,815.66 2236.94,815.66 2237.22,815.66 2237.51,815.66 2237.79,815.66 2238.08,814.201 2238.36,814.201 2238.65,814.201 2238.93,814.201 \n",
       "  2239.21,814.201 2239.5,807.172 2239.78,790.009 2240.07,774.68 2240.35,752.24 2240.63,708.179 2240.92,763.487 2241.2,779.181 2241.49,779.934 2241.77,816.132 \n",
       "  2242.05,816.184 2242.34,816.184 2242.62,816.184 2242.91,813.482 2243.19,805.114 2243.48,805.113 2243.76,806.389 2244.04,806.389 2244.33,809.269 2244.61,814.985 \n",
       "  2244.9,811.445 2245.18,805.79 2245.46,806.498 2245.75,798.378 2246.03,798.378 2246.32,763.867 2246.6,763.867 2246.89,765.596 2247.17,765.596 2247.45,781.006 \n",
       "  2247.74,781.006 2248.02,796.365 2248.31,797.471 2248.59,798.561 2248.87,798.561 2249.16,814.171 2249.44,814.171 2249.73,813.521 2250.01,812.257 2250.3,812.257 \n",
       "  2250.58,811.968 2250.86,811.968 2251.15,790.108 2251.43,790.108 2251.72,805.828 2252,805.828 2252.28,814.153 2252.57,814.153 2252.85,806.943 2253.14,812.95 \n",
       "  2253.42,814.919 2253.7,814.92 2253.99,812.155 2254.27,807.581 2254.56,814.933 2254.84,814.934 2255.13,814.934 2255.41,809.214 2255.69,809.212 2255.98,809.212 \n",
       "  2256.26,773.944 2256.55,739.593 2256.83,739.584 2257.11,731.161 2257.4,731.161 2257.68,712.363 2257.97,712.363 2258.25,796.604 2258.54,796.604 2258.82,800.819 \n",
       "  2259.1,800.801 2259.39,800.801 2259.67,812.361 2259.96,812.361 2260.24,813.395 2260.52,813.395 2260.81,807.807 2261.09,807.807 2261.38,800.173 2261.66,800.173 \n",
       "  2261.94,808.17 2262.23,808.17 2262.51,799.826 2262.8,799.826 2263.08,799.826 2263.37,810.294 2263.65,814.748 2263.93,814.748 2264.22,814.3 2264.5,814.3 \n",
       "  2264.79,815.489 2265.07,816.074 2265.35,816.074 2265.64,816.162 2265.92,814.358 2266.21,814.358 2266.49,816.162 2266.78,816.162 2267.06,795.252 2267.34,794.626 \n",
       "  2267.63,810.671 2267.91,801.989 2268.2,801.989 2268.48,801.993 2268.76,801.993 2269.05,801.992 2269.33,801.992 2269.62,768.154 2269.9,794.458 2270.18,812.665 \n",
       "  2270.47,812.668 2270.75,812.668 2271.04,814.173 2271.32,814.63 2271.61,803.05 2271.89,803.05 2272.17,812.117 2272.46,813.308 2272.74,813.308 2273.03,813.308 \n",
       "  2273.31,813.308 2273.59,813.308 2273.88,813.308 2274.16,813.308 2274.45,771.309 2274.73,771.309 2275.02,771.309 2275.3,771.309 2275.58,798.139 2275.87,798.139 \n",
       "  2276.15,811.828 2276.44,815.389 2276.72,815.389 2277,814.355 2277.29,814.355 2277.57,814.355 2277.86,790.487 2278.14,790.487 2278.42,772.501 2278.71,772.499 \n",
       "  2278.99,769.813 2279.28,769.813 2279.56,802.935 2279.85,802.935 2280.13,798.254 2280.41,815.744 2280.7,778.846 2280.98,731.35 2281.27,731.348 2281.55,650.097 \n",
       "  2281.83,645.186 2282.12,686.967 2282.4,662.196 2282.69,662.196 2282.97,709.201 2283.26,681.856 2283.54,681.856 2283.82,718.357 2284.11,718.357 2284.39,718.362 \n",
       "  2284.68,774.531 2284.96,758.401 2285.24,809.943 2285.53,809.943 2285.81,788.979 2286.1,749.073 2286.38,749.073 2286.66,754.73 2286.95,754.73 2287.23,754.73 \n",
       "  2287.52,754.73 2287.8,754.73 2288.09,740.423 2288.37,756.912 2288.65,756.912 2288.94,717.801 2289.22,733.352 2289.51,731.596 2289.79,749.533 2290.07,721.241 \n",
       "  2290.36,721.241 \n",
       "  \"/>\n",
       "<path clip-path=\"url(#clip700)\" d=\"\n",
       "M1981.87 198.898 L2279.27 198.898 L2279.27 95.2176 L1981.87 95.2176  Z\n",
       "  \" fill=\"#ffffff\" fill-rule=\"evenodd\" fill-opacity=\"1\"/>\n",
       "<polyline clip-path=\"url(#clip700)\" style=\"stroke:#000000; stroke-linecap:round; stroke-linejoin:round; stroke-width:4; stroke-opacity:1; fill:none\" points=\"\n",
       "  1981.87,198.898 2279.27,198.898 2279.27,95.2176 1981.87,95.2176 1981.87,198.898 \n",
       "  \"/>\n",
       "<polyline clip-path=\"url(#clip700)\" style=\"stroke:#009af9; stroke-linecap:round; stroke-linejoin:round; stroke-width:4; stroke-opacity:1; fill:none\" points=\"\n",
       "  2006.37,147.058 2153.35,147.058 \n",
       "  \"/>\n",
       "<path clip-path=\"url(#clip700)\" d=\"M2191.68 166.745 Q2189.88 171.375 2188.17 172.787 Q2186.45 174.199 2183.58 174.199 L2180.18 174.199 L2180.18 170.634 L2182.68 170.634 Q2184.44 170.634 2185.41 169.8 Q2186.38 168.967 2187.56 165.865 L2188.33 163.921 L2177.84 138.412 L2182.36 138.412 L2190.46 158.689 L2198.56 138.412 L2203.07 138.412 L2191.68 166.745 Z\" fill=\"#000000\" fill-rule=\"evenodd\" fill-opacity=\"1\" /><path clip-path=\"url(#clip700)\" d=\"M2210.37 160.402 L2218 160.402 L2218 134.037 L2209.69 135.703 L2209.69 131.444 L2217.96 129.778 L2222.63 129.778 L2222.63 160.402 L2230.27 160.402 L2230.27 164.338 L2210.37 164.338 L2210.37 160.402 Z\" fill=\"#000000\" fill-rule=\"evenodd\" fill-opacity=\"1\" /></svg>\n"
      ]
     },
     "execution_count": 46,
     "metadata": {},
     "output_type": "execute_result"
    }
   ],
   "source": [
    "plot(lods_from_alt[:, 187])"
   ]
  },
  {
   "cell_type": "code",
   "execution_count": 47,
   "id": "5aabbc82-7870-4186-ad46-8f8e77941825",
   "metadata": {},
   "outputs": [],
   "source": [
    "test = scan_alt(reshape(pheno[:, 187], :, 1), geno, kinship_Gc; reml = false);"
   ]
  },
  {
   "cell_type": "code",
   "execution_count": 48,
   "id": "b66b1a3c-8236-4a29-b956-b36d66e5c36b",
   "metadata": {},
   "outputs": [
    {
     "data": {
      "text/plain": [
       "0.132860815624458"
      ]
     },
     "execution_count": 48,
     "metadata": {},
     "output_type": "execute_result"
    }
   ],
   "source": [
    "test[1]"
   ]
  },
  {
   "cell_type": "code",
   "execution_count": 49,
   "id": "a200f932-6835-4707-a7a6-eba8146d460d",
   "metadata": {},
   "outputs": [
    {
     "data": {
      "text/plain": [
       "0.999999984947842"
      ]
     },
     "execution_count": 49,
     "metadata": {},
     "output_type": "execute_result"
    }
   ],
   "source": [
    "test[2]"
   ]
  },
  {
   "cell_type": "code",
   "execution_count": 50,
   "id": "99d68d24-d250-4298-9271-40bde122a2cc",
   "metadata": {},
   "outputs": [
    {
     "data": {
      "text/plain": [
       "7321-element Vector{Float64}:\n",
       " 0.8993482584452811\n",
       " 0.8993482584502311\n",
       " 0.8993482581348059\n",
       " 0.8993482581348059\n",
       " 0.8993482414957287\n",
       " 0.899348258420209\n",
       " 0.8993482448879322\n",
       " 0.8993482448879322\n",
       " 0.8993482581348059\n",
       " 0.8993482581348059\n",
       " 0.8993482593459767\n",
       " 0.8993616160814517\n",
       " 0.999999984947842\n",
       " ⋮\n",
       " 0.999999984947842\n",
       " 0.999999984947842\n",
       " 0.999999984947842\n",
       " 0.999999984947842\n",
       " 0.999999984947842\n",
       " 0.999999984947842\n",
       " 0.999999984947842\n",
       " 0.999999984947842\n",
       " 0.999999984947842\n",
       " 0.999999984947842\n",
       " 0.999999984947842\n",
       " 0.999999984947842"
      ]
     },
     "execution_count": 50,
     "metadata": {},
     "output_type": "execute_result"
    }
   ],
   "source": [
    "test[3]"
   ]
  },
  {
   "cell_type": "code",
   "execution_count": 51,
   "id": "4e99e623-a6a5-42a9-8505-c2edd4b0a7d1",
   "metadata": {},
   "outputs": [
    {
     "data": {
      "image/svg+xml": [
       "<?xml version=\"1.0\" encoding=\"utf-8\"?>\n",
       "<svg xmlns=\"http://www.w3.org/2000/svg\" xmlns:xlink=\"http://www.w3.org/1999/xlink\" width=\"600\" height=\"400\" viewBox=\"0 0 2400 1600\">\n",
       "<defs>\n",
       "  <clipPath id=\"clip740\">\n",
       "    <rect x=\"0\" y=\"0\" width=\"2400\" height=\"1600\"/>\n",
       "  </clipPath>\n",
       "</defs>\n",
       "<path clip-path=\"url(#clip740)\" d=\"\n",
       "M0 1600 L2400 1600 L2400 0 L0 0  Z\n",
       "  \" fill=\"#ffffff\" fill-rule=\"evenodd\" fill-opacity=\"1\"/>\n",
       "<defs>\n",
       "  <clipPath id=\"clip741\">\n",
       "    <rect x=\"480\" y=\"0\" width=\"1681\" height=\"1600\"/>\n",
       "  </clipPath>\n",
       "</defs>\n",
       "<path clip-path=\"url(#clip740)\" d=\"\n",
       "M148.057 1486.45 L2352.76 1486.45 L2352.76 47.2441 L148.057 47.2441  Z\n",
       "  \" fill=\"#ffffff\" fill-rule=\"evenodd\" fill-opacity=\"1\"/>\n",
       "<defs>\n",
       "  <clipPath id=\"clip742\">\n",
       "    <rect x=\"148\" y=\"47\" width=\"2206\" height=\"1440\"/>\n",
       "  </clipPath>\n",
       "</defs>\n",
       "<polyline clip-path=\"url(#clip742)\" style=\"stroke:#000000; stroke-linecap:round; stroke-linejoin:round; stroke-width:2; stroke-opacity:0.1; fill:none\" points=\"\n",
       "  210.17,1486.45 210.17,47.2441 \n",
       "  \"/>\n",
       "<polyline clip-path=\"url(#clip742)\" style=\"stroke:#000000; stroke-linecap:round; stroke-linejoin:round; stroke-width:2; stroke-opacity:0.1; fill:none\" points=\"\n",
       "  778.45,1486.45 778.45,47.2441 \n",
       "  \"/>\n",
       "<polyline clip-path=\"url(#clip742)\" style=\"stroke:#000000; stroke-linecap:round; stroke-linejoin:round; stroke-width:2; stroke-opacity:0.1; fill:none\" points=\"\n",
       "  1346.73,1486.45 1346.73,47.2441 \n",
       "  \"/>\n",
       "<polyline clip-path=\"url(#clip742)\" style=\"stroke:#000000; stroke-linecap:round; stroke-linejoin:round; stroke-width:2; stroke-opacity:0.1; fill:none\" points=\"\n",
       "  1915.01,1486.45 1915.01,47.2441 \n",
       "  \"/>\n",
       "<polyline clip-path=\"url(#clip740)\" style=\"stroke:#000000; stroke-linecap:round; stroke-linejoin:round; stroke-width:4; stroke-opacity:1; fill:none\" points=\"\n",
       "  148.057,1486.45 2352.76,1486.45 \n",
       "  \"/>\n",
       "<polyline clip-path=\"url(#clip740)\" style=\"stroke:#000000; stroke-linecap:round; stroke-linejoin:round; stroke-width:4; stroke-opacity:1; fill:none\" points=\"\n",
       "  210.17,1486.45 210.17,1467.55 \n",
       "  \"/>\n",
       "<polyline clip-path=\"url(#clip740)\" style=\"stroke:#000000; stroke-linecap:round; stroke-linejoin:round; stroke-width:4; stroke-opacity:1; fill:none\" points=\"\n",
       "  778.45,1486.45 778.45,1467.55 \n",
       "  \"/>\n",
       "<polyline clip-path=\"url(#clip740)\" style=\"stroke:#000000; stroke-linecap:round; stroke-linejoin:round; stroke-width:4; stroke-opacity:1; fill:none\" points=\"\n",
       "  1346.73,1486.45 1346.73,1467.55 \n",
       "  \"/>\n",
       "<polyline clip-path=\"url(#clip740)\" style=\"stroke:#000000; stroke-linecap:round; stroke-linejoin:round; stroke-width:4; stroke-opacity:1; fill:none\" points=\"\n",
       "  1915.01,1486.45 1915.01,1467.55 \n",
       "  \"/>\n",
       "<path clip-path=\"url(#clip740)\" d=\"M210.17 1517.37 Q206.559 1517.37 204.73 1520.93 Q202.924 1524.47 202.924 1531.6 Q202.924 1538.71 204.73 1542.27 Q206.559 1545.82 210.17 1545.82 Q213.804 1545.82 215.609 1542.27 Q217.438 1538.71 217.438 1531.6 Q217.438 1524.47 215.609 1520.93 Q213.804 1517.37 210.17 1517.37 M210.17 1513.66 Q215.98 1513.66 219.035 1518.27 Q222.114 1522.85 222.114 1531.6 Q222.114 1540.33 219.035 1544.94 Q215.98 1549.52 210.17 1549.52 Q204.359 1549.52 201.281 1544.94 Q198.225 1540.33 198.225 1531.6 Q198.225 1522.85 201.281 1518.27 Q204.359 1513.66 210.17 1513.66 Z\" fill=\"#000000\" fill-rule=\"evenodd\" fill-opacity=\"1\" /><path clip-path=\"url(#clip740)\" d=\"M727.061 1544.91 L743.38 1544.91 L743.38 1548.85 L721.436 1548.85 L721.436 1544.91 Q724.098 1542.16 728.681 1537.53 Q733.288 1532.88 734.468 1531.53 Q736.714 1529.01 737.593 1527.27 Q738.496 1525.51 738.496 1523.82 Q738.496 1521.07 736.552 1519.33 Q734.63 1517.6 731.529 1517.6 Q729.33 1517.6 726.876 1518.36 Q724.445 1519.13 721.668 1520.68 L721.668 1515.95 Q724.492 1514.82 726.945 1514.24 Q729.399 1513.66 731.436 1513.66 Q736.806 1513.66 740.001 1516.35 Q743.195 1519.03 743.195 1523.52 Q743.195 1525.65 742.385 1527.57 Q741.598 1529.47 739.492 1532.07 Q738.913 1532.74 735.811 1535.95 Q732.709 1539.15 727.061 1544.91 Z\" fill=\"#000000\" fill-rule=\"evenodd\" fill-opacity=\"1\" /><path clip-path=\"url(#clip740)\" d=\"M763.195 1517.37 Q759.584 1517.37 757.755 1520.93 Q755.95 1524.47 755.95 1531.6 Q755.95 1538.71 757.755 1542.27 Q759.584 1545.82 763.195 1545.82 Q766.829 1545.82 768.635 1542.27 Q770.464 1538.71 770.464 1531.6 Q770.464 1524.47 768.635 1520.93 Q766.829 1517.37 763.195 1517.37 M763.195 1513.66 Q769.005 1513.66 772.061 1518.27 Q775.14 1522.85 775.14 1531.6 Q775.14 1540.33 772.061 1544.94 Q769.005 1549.52 763.195 1549.52 Q757.385 1549.52 754.306 1544.94 Q751.251 1540.33 751.251 1531.6 Q751.251 1522.85 754.306 1518.27 Q757.385 1513.66 763.195 1513.66 Z\" fill=\"#000000\" fill-rule=\"evenodd\" fill-opacity=\"1\" /><path clip-path=\"url(#clip740)\" d=\"M793.357 1517.37 Q789.746 1517.37 787.917 1520.93 Q786.112 1524.47 786.112 1531.6 Q786.112 1538.71 787.917 1542.27 Q789.746 1545.82 793.357 1545.82 Q796.991 1545.82 798.797 1542.27 Q800.625 1538.71 800.625 1531.6 Q800.625 1524.47 798.797 1520.93 Q796.991 1517.37 793.357 1517.37 M793.357 1513.66 Q799.167 1513.66 802.223 1518.27 Q805.301 1522.85 805.301 1531.6 Q805.301 1540.33 802.223 1544.94 Q799.167 1549.52 793.357 1549.52 Q787.547 1549.52 784.468 1544.94 Q781.413 1540.33 781.413 1531.6 Q781.413 1522.85 784.468 1518.27 Q787.547 1513.66 793.357 1513.66 Z\" fill=\"#000000\" fill-rule=\"evenodd\" fill-opacity=\"1\" /><path clip-path=\"url(#clip740)\" d=\"M823.519 1517.37 Q819.908 1517.37 818.079 1520.93 Q816.274 1524.47 816.274 1531.6 Q816.274 1538.71 818.079 1542.27 Q819.908 1545.82 823.519 1545.82 Q827.153 1545.82 828.959 1542.27 Q830.787 1538.71 830.787 1531.6 Q830.787 1524.47 828.959 1520.93 Q827.153 1517.37 823.519 1517.37 M823.519 1513.66 Q829.329 1513.66 832.385 1518.27 Q835.463 1522.85 835.463 1531.6 Q835.463 1540.33 832.385 1544.94 Q829.329 1549.52 823.519 1549.52 Q817.709 1549.52 814.63 1544.94 Q811.574 1540.33 811.574 1531.6 Q811.574 1522.85 814.63 1518.27 Q817.709 1513.66 823.519 1513.66 Z\" fill=\"#000000\" fill-rule=\"evenodd\" fill-opacity=\"1\" /><path clip-path=\"url(#clip740)\" d=\"M1304.74 1518.36 L1292.93 1536.81 L1304.74 1536.81 L1304.74 1518.36 M1303.51 1514.29 L1309.39 1514.29 L1309.39 1536.81 L1314.32 1536.81 L1314.32 1540.7 L1309.39 1540.7 L1309.39 1548.85 L1304.74 1548.85 L1304.74 1540.7 L1289.14 1540.7 L1289.14 1536.19 L1303.51 1514.29 Z\" fill=\"#000000\" fill-rule=\"evenodd\" fill-opacity=\"1\" /><path clip-path=\"url(#clip740)\" d=\"M1332.05 1517.37 Q1328.44 1517.37 1326.61 1520.93 Q1324.81 1524.47 1324.81 1531.6 Q1324.81 1538.71 1326.61 1542.27 Q1328.44 1545.82 1332.05 1545.82 Q1335.69 1545.82 1337.49 1542.27 Q1339.32 1538.71 1339.32 1531.6 Q1339.32 1524.47 1337.49 1520.93 Q1335.69 1517.37 1332.05 1517.37 M1332.05 1513.66 Q1337.86 1513.66 1340.92 1518.27 Q1344 1522.85 1344 1531.6 Q1344 1540.33 1340.92 1544.94 Q1337.86 1549.52 1332.05 1549.52 Q1326.24 1549.52 1323.17 1544.94 Q1320.11 1540.33 1320.11 1531.6 Q1320.11 1522.85 1323.17 1518.27 Q1326.24 1513.66 1332.05 1513.66 Z\" fill=\"#000000\" fill-rule=\"evenodd\" fill-opacity=\"1\" /><path clip-path=\"url(#clip740)\" d=\"M1362.22 1517.37 Q1358.6 1517.37 1356.78 1520.93 Q1354.97 1524.47 1354.97 1531.6 Q1354.97 1538.71 1356.78 1542.27 Q1358.6 1545.82 1362.22 1545.82 Q1365.85 1545.82 1367.66 1542.27 Q1369.48 1538.71 1369.48 1531.6 Q1369.48 1524.47 1367.66 1520.93 Q1365.85 1517.37 1362.22 1517.37 M1362.22 1513.66 Q1368.03 1513.66 1371.08 1518.27 Q1374.16 1522.85 1374.16 1531.6 Q1374.16 1540.33 1371.08 1544.94 Q1368.03 1549.52 1362.22 1549.52 Q1356.41 1549.52 1353.33 1544.94 Q1350.27 1540.33 1350.27 1531.6 Q1350.27 1522.85 1353.33 1518.27 Q1356.41 1513.66 1362.22 1513.66 Z\" fill=\"#000000\" fill-rule=\"evenodd\" fill-opacity=\"1\" /><path clip-path=\"url(#clip740)\" d=\"M1392.38 1517.37 Q1388.77 1517.37 1386.94 1520.93 Q1385.13 1524.47 1385.13 1531.6 Q1385.13 1538.71 1386.94 1542.27 Q1388.77 1545.82 1392.38 1545.82 Q1396.01 1545.82 1397.82 1542.27 Q1399.65 1538.71 1399.65 1531.6 Q1399.65 1524.47 1397.82 1520.93 Q1396.01 1517.37 1392.38 1517.37 M1392.38 1513.66 Q1398.19 1513.66 1401.24 1518.27 Q1404.32 1522.85 1404.32 1531.6 Q1404.32 1540.33 1401.24 1544.94 Q1398.19 1549.52 1392.38 1549.52 Q1386.57 1549.52 1383.49 1544.94 Q1380.43 1540.33 1380.43 1531.6 Q1380.43 1522.85 1383.49 1518.27 Q1386.57 1513.66 1392.38 1513.66 Z\" fill=\"#000000\" fill-rule=\"evenodd\" fill-opacity=\"1\" /><path clip-path=\"url(#clip740)\" d=\"M1870.25 1529.7 Q1867.1 1529.7 1865.25 1531.86 Q1863.42 1534.01 1863.42 1537.76 Q1863.42 1541.49 1865.25 1543.66 Q1867.1 1545.82 1870.25 1545.82 Q1873.4 1545.82 1875.23 1543.66 Q1877.08 1541.49 1877.08 1537.76 Q1877.08 1534.01 1875.23 1531.86 Q1873.4 1529.7 1870.25 1529.7 M1879.54 1515.05 L1879.54 1519.31 Q1877.78 1518.48 1875.97 1518.04 Q1874.19 1517.6 1872.43 1517.6 Q1867.8 1517.6 1865.35 1520.72 Q1862.92 1523.85 1862.57 1530.17 Q1863.93 1528.15 1865.99 1527.09 Q1868.05 1526 1870.53 1526 Q1875.74 1526 1878.75 1529.17 Q1881.78 1532.32 1881.78 1537.76 Q1881.78 1543.08 1878.63 1546.3 Q1875.48 1549.52 1870.25 1549.52 Q1864.26 1549.52 1861.09 1544.94 Q1857.92 1540.33 1857.92 1531.6 Q1857.92 1523.41 1861.8 1518.55 Q1865.69 1513.66 1872.24 1513.66 Q1874 1513.66 1875.79 1514.01 Q1877.59 1514.36 1879.54 1515.05 Z\" fill=\"#000000\" fill-rule=\"evenodd\" fill-opacity=\"1\" /><path clip-path=\"url(#clip740)\" d=\"M1899.84 1517.37 Q1896.23 1517.37 1894.4 1520.93 Q1892.59 1524.47 1892.59 1531.6 Q1892.59 1538.71 1894.4 1542.27 Q1896.23 1545.82 1899.84 1545.82 Q1903.47 1545.82 1905.28 1542.27 Q1907.1 1538.71 1907.1 1531.6 Q1907.1 1524.47 1905.28 1520.93 Q1903.47 1517.37 1899.84 1517.37 M1899.84 1513.66 Q1905.65 1513.66 1908.7 1518.27 Q1911.78 1522.85 1911.78 1531.6 Q1911.78 1540.33 1908.7 1544.94 Q1905.65 1549.52 1899.84 1549.52 Q1894.03 1549.52 1890.95 1544.94 Q1887.89 1540.33 1887.89 1531.6 Q1887.89 1522.85 1890.95 1518.27 Q1894.03 1513.66 1899.84 1513.66 Z\" fill=\"#000000\" fill-rule=\"evenodd\" fill-opacity=\"1\" /><path clip-path=\"url(#clip740)\" d=\"M1930 1517.37 Q1926.39 1517.37 1924.56 1520.93 Q1922.75 1524.47 1922.75 1531.6 Q1922.75 1538.71 1924.56 1542.27 Q1926.39 1545.82 1930 1545.82 Q1933.63 1545.82 1935.44 1542.27 Q1937.27 1538.71 1937.27 1531.6 Q1937.27 1524.47 1935.44 1520.93 Q1933.63 1517.37 1930 1517.37 M1930 1513.66 Q1935.81 1513.66 1938.86 1518.27 Q1941.94 1522.85 1941.94 1531.6 Q1941.94 1540.33 1938.86 1544.94 Q1935.81 1549.52 1930 1549.52 Q1924.19 1549.52 1921.11 1544.94 Q1918.05 1540.33 1918.05 1531.6 Q1918.05 1522.85 1921.11 1518.27 Q1924.19 1513.66 1930 1513.66 Z\" fill=\"#000000\" fill-rule=\"evenodd\" fill-opacity=\"1\" /><path clip-path=\"url(#clip740)\" d=\"M1960.16 1517.37 Q1956.55 1517.37 1954.72 1520.93 Q1952.91 1524.47 1952.91 1531.6 Q1952.91 1538.71 1954.72 1542.27 Q1956.55 1545.82 1960.16 1545.82 Q1963.79 1545.82 1965.6 1542.27 Q1967.43 1538.71 1967.43 1531.6 Q1967.43 1524.47 1965.6 1520.93 Q1963.79 1517.37 1960.16 1517.37 M1960.16 1513.66 Q1965.97 1513.66 1969.03 1518.27 Q1972.1 1522.85 1972.1 1531.6 Q1972.1 1540.33 1969.03 1544.94 Q1965.97 1549.52 1960.16 1549.52 Q1954.35 1549.52 1951.27 1544.94 Q1948.22 1540.33 1948.22 1531.6 Q1948.22 1522.85 1951.27 1518.27 Q1954.35 1513.66 1960.16 1513.66 Z\" fill=\"#000000\" fill-rule=\"evenodd\" fill-opacity=\"1\" /><polyline clip-path=\"url(#clip742)\" style=\"stroke:#000000; stroke-linecap:round; stroke-linejoin:round; stroke-width:2; stroke-opacity:0.1; fill:none\" points=\"\n",
       "  148.057,1427.32 2352.76,1427.32 \n",
       "  \"/>\n",
       "<polyline clip-path=\"url(#clip742)\" style=\"stroke:#000000; stroke-linecap:round; stroke-linejoin:round; stroke-width:2; stroke-opacity:0.1; fill:none\" points=\"\n",
       "  148.057,1223.61 2352.76,1223.61 \n",
       "  \"/>\n",
       "<polyline clip-path=\"url(#clip742)\" style=\"stroke:#000000; stroke-linecap:round; stroke-linejoin:round; stroke-width:2; stroke-opacity:0.1; fill:none\" points=\"\n",
       "  148.057,1019.9 2352.76,1019.9 \n",
       "  \"/>\n",
       "<polyline clip-path=\"url(#clip742)\" style=\"stroke:#000000; stroke-linecap:round; stroke-linejoin:round; stroke-width:2; stroke-opacity:0.1; fill:none\" points=\"\n",
       "  148.057,816.19 2352.76,816.19 \n",
       "  \"/>\n",
       "<polyline clip-path=\"url(#clip742)\" style=\"stroke:#000000; stroke-linecap:round; stroke-linejoin:round; stroke-width:2; stroke-opacity:0.1; fill:none\" points=\"\n",
       "  148.057,612.481 2352.76,612.481 \n",
       "  \"/>\n",
       "<polyline clip-path=\"url(#clip742)\" style=\"stroke:#000000; stroke-linecap:round; stroke-linejoin:round; stroke-width:2; stroke-opacity:0.1; fill:none\" points=\"\n",
       "  148.057,408.772 2352.76,408.772 \n",
       "  \"/>\n",
       "<polyline clip-path=\"url(#clip742)\" style=\"stroke:#000000; stroke-linecap:round; stroke-linejoin:round; stroke-width:2; stroke-opacity:0.1; fill:none\" points=\"\n",
       "  148.057,205.062 2352.76,205.062 \n",
       "  \"/>\n",
       "<polyline clip-path=\"url(#clip740)\" style=\"stroke:#000000; stroke-linecap:round; stroke-linejoin:round; stroke-width:4; stroke-opacity:1; fill:none\" points=\"\n",
       "  148.057,1486.45 148.057,47.2441 \n",
       "  \"/>\n",
       "<polyline clip-path=\"url(#clip740)\" style=\"stroke:#000000; stroke-linecap:round; stroke-linejoin:round; stroke-width:4; stroke-opacity:1; fill:none\" points=\"\n",
       "  148.057,1427.32 166.954,1427.32 \n",
       "  \"/>\n",
       "<polyline clip-path=\"url(#clip740)\" style=\"stroke:#000000; stroke-linecap:round; stroke-linejoin:round; stroke-width:4; stroke-opacity:1; fill:none\" points=\"\n",
       "  148.057,1223.61 166.954,1223.61 \n",
       "  \"/>\n",
       "<polyline clip-path=\"url(#clip740)\" style=\"stroke:#000000; stroke-linecap:round; stroke-linejoin:round; stroke-width:4; stroke-opacity:1; fill:none\" points=\"\n",
       "  148.057,1019.9 166.954,1019.9 \n",
       "  \"/>\n",
       "<polyline clip-path=\"url(#clip740)\" style=\"stroke:#000000; stroke-linecap:round; stroke-linejoin:round; stroke-width:4; stroke-opacity:1; fill:none\" points=\"\n",
       "  148.057,816.19 166.954,816.19 \n",
       "  \"/>\n",
       "<polyline clip-path=\"url(#clip740)\" style=\"stroke:#000000; stroke-linecap:round; stroke-linejoin:round; stroke-width:4; stroke-opacity:1; fill:none\" points=\"\n",
       "  148.057,612.481 166.954,612.481 \n",
       "  \"/>\n",
       "<polyline clip-path=\"url(#clip740)\" style=\"stroke:#000000; stroke-linecap:round; stroke-linejoin:round; stroke-width:4; stroke-opacity:1; fill:none\" points=\"\n",
       "  148.057,408.772 166.954,408.772 \n",
       "  \"/>\n",
       "<polyline clip-path=\"url(#clip740)\" style=\"stroke:#000000; stroke-linecap:round; stroke-linejoin:round; stroke-width:4; stroke-opacity:1; fill:none\" points=\"\n",
       "  148.057,205.062 166.954,205.062 \n",
       "  \"/>\n",
       "<path clip-path=\"url(#clip740)\" d=\"M50.9921 1427.77 L80.6679 1427.77 L80.6679 1431.7 L50.9921 1431.7 L50.9921 1427.77 Z\" fill=\"#000000\" fill-rule=\"evenodd\" fill-opacity=\"1\" /><path clip-path=\"url(#clip740)\" d=\"M104.927 1425.96 Q108.283 1426.68 110.158 1428.95 Q112.057 1431.22 112.057 1434.55 Q112.057 1439.67 108.538 1442.47 Q105.02 1445.27 98.5382 1445.27 Q96.3623 1445.27 94.0475 1444.83 Q91.7558 1444.41 89.3021 1443.56 L89.3021 1439.04 Q91.2465 1440.18 93.5613 1440.75 Q95.8761 1441.33 98.3993 1441.33 Q102.797 1441.33 105.089 1439.6 Q107.404 1437.86 107.404 1434.55 Q107.404 1431.5 105.251 1429.78 Q103.121 1428.05 99.3021 1428.05 L95.2743 1428.05 L95.2743 1424.2 L99.4872 1424.2 Q102.936 1424.2 104.765 1422.84 Q106.594 1421.45 106.594 1418.86 Q106.594 1416.19 104.696 1414.78 Q102.821 1413.35 99.3021 1413.35 Q97.3808 1413.35 95.1817 1413.76 Q92.9826 1414.18 90.3438 1415.06 L90.3438 1410.89 Q93.0058 1410.15 95.3206 1409.78 Q97.6585 1409.41 99.7187 1409.41 Q105.043 1409.41 108.145 1411.84 Q111.246 1414.25 111.246 1418.37 Q111.246 1421.24 109.603 1423.23 Q107.959 1425.2 104.927 1425.96 Z\" fill=\"#000000\" fill-rule=\"evenodd\" fill-opacity=\"1\" /><path clip-path=\"url(#clip740)\" d=\"M51.9412 1224.06 L81.617 1224.06 L81.617 1227.99 L51.9412 1227.99 L51.9412 1224.06 Z\" fill=\"#000000\" fill-rule=\"evenodd\" fill-opacity=\"1\" /><path clip-path=\"url(#clip740)\" d=\"M95.7373 1236.95 L112.057 1236.95 L112.057 1240.89 L90.1123 1240.89 L90.1123 1236.95 Q92.7743 1234.2 97.3576 1229.57 Q101.964 1224.92 103.145 1223.57 Q105.39 1221.05 106.27 1219.31 Q107.172 1217.56 107.172 1215.87 Q107.172 1213.11 105.228 1211.37 Q103.307 1209.64 100.205 1209.64 Q98.0058 1209.64 95.5521 1210.4 Q93.1215 1211.17 90.3438 1212.72 L90.3438 1208 Q93.1678 1206.86 95.6215 1206.28 Q98.0752 1205.7 100.112 1205.7 Q105.483 1205.7 108.677 1208.39 Q111.871 1211.07 111.871 1215.56 Q111.871 1217.69 111.061 1219.62 Q110.274 1221.51 108.168 1224.11 Q107.589 1224.78 104.487 1227.99 Q101.385 1231.19 95.7373 1236.95 Z\" fill=\"#000000\" fill-rule=\"evenodd\" fill-opacity=\"1\" /><path clip-path=\"url(#clip740)\" d=\"M51.5708 1020.35 L81.2466 1020.35 L81.2466 1024.29 L51.5708 1024.29 L51.5708 1020.35 Z\" fill=\"#000000\" fill-rule=\"evenodd\" fill-opacity=\"1\" /><path clip-path=\"url(#clip740)\" d=\"M92.1493 1033.24 L99.7882 1033.24 L99.7882 1006.88 L91.478 1008.55 L91.478 1004.29 L99.7419 1002.62 L104.418 1002.62 L104.418 1033.24 L112.057 1033.24 L112.057 1037.18 L92.1493 1037.18 L92.1493 1033.24 Z\" fill=\"#000000\" fill-rule=\"evenodd\" fill-opacity=\"1\" /><path clip-path=\"url(#clip740)\" d=\"M100.112 801.989 Q96.5011 801.989 94.6724 805.553 Q92.8669 809.095 92.8669 816.225 Q92.8669 823.331 94.6724 826.896 Q96.5011 830.438 100.112 830.438 Q103.746 830.438 105.552 826.896 Q107.381 823.331 107.381 816.225 Q107.381 809.095 105.552 805.553 Q103.746 801.989 100.112 801.989 M100.112 798.285 Q105.922 798.285 108.978 802.891 Q112.057 807.475 112.057 816.225 Q112.057 824.951 108.978 829.558 Q105.922 834.141 100.112 834.141 Q94.3021 834.141 91.2234 829.558 Q88.1679 824.951 88.1679 816.225 Q88.1679 807.475 91.2234 802.891 Q94.3021 798.285 100.112 798.285 Z\" fill=\"#000000\" fill-rule=\"evenodd\" fill-opacity=\"1\" /><path clip-path=\"url(#clip740)\" d=\"M92.1493 625.826 L99.7882 625.826 L99.7882 599.46 L91.478 601.127 L91.478 596.867 L99.7419 595.201 L104.418 595.201 L104.418 625.826 L112.057 625.826 L112.057 629.761 L92.1493 629.761 L92.1493 625.826 Z\" fill=\"#000000\" fill-rule=\"evenodd\" fill-opacity=\"1\" /><path clip-path=\"url(#clip740)\" d=\"M95.7373 422.116 L112.057 422.116 L112.057 426.052 L90.1123 426.052 L90.1123 422.116 Q92.7743 419.362 97.3576 414.732 Q101.964 410.079 103.145 408.737 Q105.39 406.214 106.27 404.478 Q107.172 402.718 107.172 401.029 Q107.172 398.274 105.228 396.538 Q103.307 394.802 100.205 394.802 Q98.0058 394.802 95.5521 395.566 Q93.1215 396.329 90.3438 397.88 L90.3438 393.158 Q93.1678 392.024 95.6215 391.445 Q98.0752 390.867 100.112 390.867 Q105.483 390.867 108.677 393.552 Q111.871 396.237 111.871 400.728 Q111.871 402.857 111.061 404.779 Q110.274 406.677 108.168 409.269 Q107.589 409.941 104.487 413.158 Q101.385 416.353 95.7373 422.116 Z\" fill=\"#000000\" fill-rule=\"evenodd\" fill-opacity=\"1\" /><path clip-path=\"url(#clip740)\" d=\"M104.927 203.708 Q108.283 204.426 110.158 206.694 Q112.057 208.963 112.057 212.296 Q112.057 217.412 108.538 220.213 Q105.02 223.014 98.5382 223.014 Q96.3623 223.014 94.0475 222.574 Q91.7558 222.157 89.3021 221.301 L89.3021 216.787 Q91.2465 217.921 93.5613 218.5 Q95.8761 219.078 98.3993 219.078 Q102.797 219.078 105.089 217.342 Q107.404 215.606 107.404 212.296 Q107.404 209.241 105.251 207.528 Q103.121 205.791 99.3021 205.791 L95.2743 205.791 L95.2743 201.949 L99.4872 201.949 Q102.936 201.949 104.765 200.583 Q106.594 199.194 106.594 196.602 Q106.594 193.94 104.696 192.528 Q102.821 191.093 99.3021 191.093 Q97.3808 191.093 95.1817 191.509 Q92.9826 191.926 90.3438 192.805 L90.3438 188.639 Q93.0058 187.898 95.3206 187.528 Q97.6585 187.157 99.7187 187.157 Q105.043 187.157 108.145 189.588 Q111.246 191.995 111.246 196.116 Q111.246 198.986 109.603 200.977 Q107.959 202.944 104.927 203.708 Z\" fill=\"#000000\" fill-rule=\"evenodd\" fill-opacity=\"1\" /><polyline clip-path=\"url(#clip742)\" style=\"stroke:#009af9; stroke-linecap:round; stroke-linejoin:round; stroke-width:4; stroke-opacity:1; fill:none\" points=\"\n",
       "  210.454,1393.99 210.738,1393.99 211.022,1393.99 211.306,1393.99 211.59,1393.99 211.874,1393.99 212.159,1393.99 212.443,1393.99 212.727,1393.99 213.011,1393.99 \n",
       "  213.295,1393.99 213.579,1393.99 213.863,693.276 214.148,693.274 214.432,728.92 214.716,728.92 215,728.92 215.284,728.92 215.568,728.92 215.852,728.92 \n",
       "  216.137,668.359 216.421,668.359 216.705,716.383 216.989,716.388 217.273,716.388 217.557,716.388 217.841,716.39 218.126,740.529 218.41,740.539 218.694,740.539 \n",
       "  218.978,740.539 219.262,722.057 219.546,722.056 219.83,722.056 220.115,772.58 220.399,797.462 220.683,814.16 220.967,798.612 221.251,798.612 221.535,798.617 \n",
       "  221.819,808.628 222.104,808.624 222.388,808.624 222.672,815.221 222.956,815.221 223.24,805.367 223.524,805.367 223.808,805.367 224.092,805.367 224.377,805.367 \n",
       "  224.661,805.367 224.945,792.116 225.229,792.116 225.513,806.348 225.797,798.244 226.081,798.244 226.366,798.244 226.65,809.756 226.934,809.756 227.218,816.19 \n",
       "  227.502,816.19 227.786,816.19 228.07,816.19 228.355,816.19 228.639,816.19 228.923,809.924 229.207,809.923 229.491,809.923 229.775,809.924 230.059,815.421 \n",
       "  230.344,815.421 230.628,813.629 230.912,813.627 231.196,796.882 231.48,791.369 231.764,791.369 232.048,791.369 232.333,791.369 232.617,812.935 232.901,761.365 \n",
       "  233.185,761.365 233.469,761.368 233.753,799.327 234.037,799.33 234.322,811.775 234.606,811.775 234.89,799.333 235.174,810.727 235.458,812.023 235.742,810.507 \n",
       "  236.026,816.152 236.311,741.605 236.595,741.602 236.879,741.602 237.163,786.76 237.447,784.876 237.731,784.876 238.015,784.876 238.299,784.876 238.584,784.879 \n",
       "  238.868,805.167 239.152,805.167 239.436,810.811 239.72,810.811 240.004,810.811 240.288,810.811 240.573,816.171 240.857,816.171 241.141,816.171 241.425,805.729 \n",
       "  241.709,805.729 241.993,805.729 242.277,805.729 242.562,805.729 242.846,812.529 243.13,812.529 243.414,816.166 243.698,843.024 243.982,1435.61 244.266,1412.56 \n",
       "  244.551,720.711 244.835,663.227 245.119,663.227 245.403,720.64 245.687,1281.51 245.971,1281.51 246.255,1357.07 246.54,1357.08 246.824,1357.08 247.108,704.262 \n",
       "  247.392,704.262 247.676,733.231 247.96,806.798 248.244,806.802 248.529,806.802 248.813,806.804 249.097,803.628 249.381,783.819 249.665,783.818 249.949,783.818 \n",
       "  250.233,783.818 250.518,783.811 250.802,574.8 251.086,477.984 251.37,477.984 251.654,623.719 251.938,623.723 252.222,623.723 252.506,623.723 252.791,623.723 \n",
       "  253.075,623.723 253.359,623.723 253.643,623.723 253.927,623.723 254.211,623.724 254.495,699.945 254.78,699.945 255.064,699.945 255.348,699.945 255.632,687.83 \n",
       "  255.916,687.832 256.2,687.832 256.484,687.832 256.769,687.832 257.053,687.832 257.337,687.832 257.621,789.467 257.905,789.467 258.189,789.467 258.473,789.467 \n",
       "  258.758,809.503 259.042,809.504 259.326,809.504 259.61,815.12 259.894,815.12 260.178,815.12 260.462,789.073 260.747,803.231 261.031,812.005 261.315,812.006 \n",
       "  261.599,812.006 261.883,812.006 262.167,812.006 262.451,812.006 262.736,815.808 263.02,815.808 263.304,813.205 263.588,812.448 263.872,812.448 264.156,812.448 \n",
       "  264.44,812.448 264.725,816.099 265.009,811.477 265.293,815.171 265.577,815.993 265.861,811.409 266.145,811.409 266.429,811.409 266.713,811.409 266.998,811.409 \n",
       "  267.282,811.409 267.566,814.702 267.85,737.979 268.134,754.293 268.418,795.074 268.702,795.074 268.987,795.072 269.271,814.747 269.555,814.747 269.839,814.747 \n",
       "  270.123,814.747 270.407,814.747 270.691,811.275 270.976,806.6 271.26,806.6 271.544,806.6 271.828,806.6 272.112,801.174 272.396,801.174 272.68,801.174 \n",
       "  272.965,801.174 273.249,801.174 273.533,816.011 273.817,816.011 274.101,816.011 274.385,813.567 274.669,813.567 274.954,813.567 275.238,814.257 275.522,814.257 \n",
       "  275.806,814.257 276.09,815.281 276.374,793.157 276.658,808.319 276.943,808.202 277.227,808.202 277.511,803.185 277.795,803.185 278.079,803.19 278.363,815.402 \n",
       "  278.647,815.402 278.932,814.314 279.216,814.314 279.5,814.314 279.784,814.314 280.068,814.314 280.352,815.845 280.636,815.846 280.92,815.846 281.205,809.527 \n",
       "  281.489,814.787 281.773,789.86 282.057,764.084 282.341,764.084 282.625,764.086 282.909,780.487 283.194,780.487 283.478,745.169 283.762,779.724 284.046,779.724 \n",
       "  284.33,782.35 284.614,746.503 284.898,702.575 285.183,711.658 285.467,711.658 285.751,711.658 286.035,711.658 286.319,722.154 286.603,722.154 286.887,722.154 \n",
       "  287.172,722.154 287.456,740.387 287.74,740.387 288.024,694.573 288.308,694.573 288.592,788.519 288.876,788.519 289.161,788.519 289.445,788.519 289.729,768.857 \n",
       "  290.013,768.857 290.297,775.603 290.581,775.604 290.865,775.604 291.15,775.604 291.434,775.604 291.718,768.956 292.002,768.956 292.286,718.932 292.57,718.932 \n",
       "  292.854,768.558 293.139,768.558 293.423,798.97 293.707,798.97 293.991,811.266 294.275,811.268 294.559,815.745 294.843,814.869 295.127,814.869 295.412,814.869 \n",
       "  295.696,809.385 295.98,809.382 296.264,798.705 296.548,815.115 296.832,815.115 297.116,815.567 297.401,811.4 297.685,811.399 297.969,811.399 298.253,811.4 \n",
       "  298.537,810.877 298.821,810.877 299.105,816.167 299.39,816.167 299.674,816.167 299.958,796.36 300.242,796.36 300.526,780.814 300.81,780.814 301.094,780.811 \n",
       "  301.379,748.901 301.663,748.901 301.947,748.907 302.231,804.324 302.515,804.324 302.799,783.905 303.083,783.905 303.368,783.928 303.652,815.027 303.936,815.027 \n",
       "  304.22,822.706 304.504,810.556 304.788,810.556 305.072,810.556 305.357,822.705 305.641,822.707 305.925,822.707 306.209,1397.17 306.493,1397.17 306.777,797.025 \n",
       "  307.061,797.025 307.346,797.026 307.63,797.026 307.914,1385.11 308.198,1385.11 308.482,1385.11 308.766,1385.89 309.05,1385.89 309.334,1388.2 309.619,1388.2 \n",
       "  309.903,736.113 310.187,736.108 310.471,736.108 310.755,750.383 311.039,750.39 311.323,750.39 311.608,750.39 311.892,750.39 312.176,750.39 312.46,795.637 \n",
       "  312.744,795.637 313.028,795.637 313.312,795.637 313.597,814.844 313.881,814.845 314.165,814.845 314.449,812.538 314.733,812.538 315.017,812.538 315.301,812.538 \n",
       "  315.586,812.538 315.87,812.538 316.154,742.962 316.438,742.962 316.722,742.962 317.006,758.757 317.29,727.101 317.575,728.196 317.859,728.196 318.143,761.703 \n",
       "  318.427,761.703 318.711,765.473 318.995,766.402 319.279,768.224 319.564,769.058 319.848,794.266 320.132,794.266 320.416,763.363 320.7,763.363 320.984,782.42 \n",
       "  321.268,782.42 321.553,756.102 321.837,756.102 322.121,758.104 322.405,759.096 322.689,760 322.973,721.724 323.257,711.443 323.541,711.443 323.826,715.582 \n",
       "  324.11,716.849 324.394,716.849 324.678,753.165 324.962,753.165 325.246,710.368 325.53,710.368 325.815,703.774 326.099,643.543 326.383,709.473 326.667,712.398 \n",
       "  326.951,712.398 327.235,712.398 327.519,741.594 327.804,741.594 328.088,744.126 328.372,744.126 328.656,781.024 328.94,781.912 329.224,781.912 329.508,784.495 \n",
       "  329.793,784.495 330.077,785.344 330.361,785.344 330.645,754.063 330.929,754.063 331.213,801.752 331.497,801.752 331.782,815.464 332.066,815.464 332.35,815.464 \n",
       "  332.634,808.892 332.918,807.677 333.202,793.473 333.486,793.473 333.771,792.78 334.055,792.78 334.339,756.745 334.623,755.586 334.907,755.586 335.191,755.586 \n",
       "  335.475,757.721 335.76,760.558 336.044,760.558 336.328,768.985 336.612,768.985 336.896,798.562 337.18,797.924 337.464,812.584 337.748,812.584 338.033,812.284 \n",
       "  338.317,812.284 338.601,812.284 338.885,811.97 339.169,811.97 339.453,811.67 339.737,811.67 340.022,815.841 340.306,815.841 340.59,815.928 340.874,806.786 \n",
       "  341.158,797.697 341.442,797.697 341.726,797.697 342.011,797.697 342.295,815.133 342.579,815.133 342.863,803.184 343.147,814.759 343.431,814.759 343.715,814.759 \n",
       "  344,814.759 344.284,814.759 344.568,814.759 344.852,803.707 345.136,802.387 345.42,802.387 345.704,802.387 345.989,802.387 346.273,802.387 346.557,802.387 \n",
       "  346.841,802.387 347.125,802.387 347.409,802.387 347.693,802.387 347.978,802.387 348.262,802.387 348.546,773.206 348.83,773.202 349.114,773.202 349.398,773.202 \n",
       "  349.682,773.202 349.967,773.202 350.251,773.202 350.535,757.264 350.819,801.143 351.103,805.289 351.387,816.089 351.671,816.089 351.955,816.089 352.24,816.089 \n",
       "  352.524,812.107 352.808,797.917 353.092,816.148 353.376,816.19 353.66,816.187 353.944,811.964 354.229,811.964 354.513,811.964 354.797,811.964 355.081,811.964 \n",
       "  355.365,815.634 355.649,815.634 355.933,815.634 356.218,815.634 356.502,815.634 356.786,815.634 357.07,801.35 357.354,801.35 357.638,801.35 357.922,801.35 \n",
       "  358.207,816.187 358.491,816.187 358.775,810.533 359.059,808.985 359.343,808.985 359.627,808.985 359.911,808.985 360.196,808.985 360.48,808.985 360.764,808.985 \n",
       "  361.048,808.985 361.332,813.684 361.616,815.866 361.9,776.449 362.185,780.537 362.469,780.537 362.753,780.537 363.037,780.537 363.321,780.537 363.605,780.538 \n",
       "  363.889,793.036 364.174,793.036 364.458,785.881 364.742,785.88 365.026,785.88 365.31,785.88 365.594,785.88 365.878,785.88 366.162,785.88 366.447,785.88 \n",
       "  366.731,809.314 367.015,808.977 367.299,808.978 367.583,815.534 367.867,798.987 368.151,798.987 368.436,813.013 368.72,813.013 369.004,804.007 369.288,809.631 \n",
       "  369.572,815.351 369.856,815.351 370.14,815.351 370.425,815.351 370.709,803.889 370.993,803.889 371.277,784.558 371.561,764.493 371.845,764.49 372.129,764.49 \n",
       "  372.414,725.076 372.698,768.589 372.982,768.589 373.266,734.373 373.55,734.373 373.834,734.373 374.118,734.373 374.403,734.373 374.687,734.373 374.971,734.373 \n",
       "  375.255,734.373 375.539,741.41 375.823,741.41 376.107,703.974 376.392,703.972 376.676,715.123 376.96,715.123 377.244,715.123 377.528,715.123 377.812,741.311 \n",
       "  378.096,741.311 378.381,741.311 378.665,741.311 378.949,689.804 379.233,689.804 379.517,720.826 379.801,720.826 380.085,707.5 380.369,707.505 380.654,800.292 \n",
       "  380.938,789.153 381.222,799.342 381.506,766.177 381.79,785.846 382.074,785.846 382.358,785.846 382.643,785.846 382.927,759.433 383.211,759.433 383.495,759.434 \n",
       "  383.779,773.914 384.063,773.914 384.347,769.531 384.632,769.531 384.916,787.071 385.2,787.071 385.484,805.282 385.768,760.676 386.052,760.676 386.336,764.39 \n",
       "  386.621,770.477 386.905,770.477 387.189,794.299 387.473,757.72 387.757,757.72 388.041,757.72 388.325,757.72 388.61,794.255 388.894,794.255 389.178,794.255 \n",
       "  389.462,794.255 389.746,794.255 390.03,794.255 390.314,794.255 390.599,794.255 390.883,794.255 391.167,791.789 391.451,791.789 391.735,772.648 392.019,772.648 \n",
       "  392.303,816.189 392.588,815.426 392.872,816.096 393.156,813.72 393.44,813.744 393.724,815.637 394.008,816.182 394.292,808.539 394.577,808.539 394.861,808.531 \n",
       "  395.145,810.285 395.429,816.175 395.713,816.175 395.997,816.175 396.281,816.175 396.565,804.698 396.85,804.698 397.134,804.698 397.418,804.698 397.702,808.753 \n",
       "  397.986,808.753 398.27,808.753 398.554,806.396 398.839,808.752 399.123,791.089 399.407,791.088 399.691,795.711 399.975,795.711 400.259,759.333 400.543,759.333 \n",
       "  400.828,752.76 401.112,752.76 401.396,752.756 401.68,752.756 401.964,774.62 402.248,774.62 402.532,745.373 402.817,746.262 403.101,746.262 403.385,762.787 \n",
       "  403.669,757.23 403.953,773.932 404.237,718.716 404.521,718.716 404.806,718.716 405.09,718.716 405.374,718.716 405.658,781.031 405.942,781.04 406.226,781.04 \n",
       "  406.51,814.051 406.795,814.054 407.079,814.054 407.363,820.559 407.647,820.559 407.931,820.559 408.215,820.559 408.499,820.559 408.784,820.559 409.068,799.557 \n",
       "  409.352,799.55 409.636,799.55 409.92,794.54 410.204,802.452 410.488,722.189 410.772,722.189 411.057,722.189 411.341,722.189 411.625,722.189 411.909,722.189 \n",
       "  412.193,722.189 412.477,722.189 412.761,754.583 413.046,1346.85 413.33,1346.85 413.614,1318.91 413.898,1318.91 414.182,1318.91 414.466,698.243 414.75,698.243 \n",
       "  415.035,610.714 415.319,610.714 415.603,573.792 415.887,582.083 416.171,582.083 416.455,582.083 416.739,582.083 417.024,582.083 417.308,582.079 417.592,572.63 \n",
       "  417.876,765.506 418.16,800.274 418.444,800.274 418.728,811.798 419.013,811.798 419.297,811.798 419.581,811.798 419.865,815.898 420.149,815.898 420.433,813.393 \n",
       "  420.717,815.09 421.002,815.09 421.286,815.09 421.57,815.09 421.854,815.504 422.138,815.425 422.422,815.791 422.706,816.067 422.991,816.067 423.275,816.189 \n",
       "  423.559,816.189 423.843,816.189 424.127,816.189 424.411,816.012 424.695,816.012 424.979,815.444 425.264,815.444 425.548,815.444 425.832,815.444 426.116,815.444 \n",
       "  426.4,815.444 426.684,815.634 426.968,815.634 427.253,815.634 427.537,815.634 427.821,814.077 428.105,814.077 428.389,807.944 428.673,807.944 428.957,814.703 \n",
       "  429.242,779.01 429.526,784.5 429.81,782.013 430.094,786.361 430.378,786.362 430.662,786.362 430.946,786.362 431.231,801.671 431.515,808.337 431.799,808.337 \n",
       "  432.083,814.337 432.367,814.338 432.651,787.909 432.935,789.128 433.22,789.128 433.504,789.128 433.788,789.128 434.072,789.128 434.356,789.128 434.64,812.839 \n",
       "  434.924,812.839 435.209,812.839 435.493,812.839 435.777,816.015 436.061,816.015 436.345,816.015 436.629,816.015 436.913,816.015 437.198,816.015 437.482,816.015 \n",
       "  437.766,814.543 438.05,814.543 438.334,809.546 438.618,809.546 438.902,809.546 439.186,809.546 439.471,809.546 439.755,809.546 440.039,809.546 440.323,809.546 \n",
       "  440.607,793.296 440.891,793.292 441.175,793.292 441.46,811.652 441.744,811.652 442.028,812.801 442.312,812.801 442.596,812.8 442.88,812.8 443.164,811.75 \n",
       "  443.449,811.75 443.733,803.86 444.017,803.86 444.301,811.711 444.585,811.711 444.869,756.161 445.153,721.057 445.438,721.057 445.722,721.063 446.006,760.443 \n",
       "  446.29,784.87 446.574,784.87 446.858,793.088 447.142,793.088 447.427,814.982 447.711,814.982 447.995,815.619 448.279,816.021 448.563,814.023 448.847,812.824 \n",
       "  449.131,799.77 449.416,799.756 449.7,799.756 449.984,810.768 450.268,810.768 450.552,810.768 450.836,815.916 451.12,815.916 451.405,815.916 451.689,815.916 \n",
       "  451.973,812.203 452.257,812.203 452.541,815.41 452.825,815.41 453.109,815.41 453.393,815.41 453.678,777.082 453.962,775.236 454.246,766.737 454.53,766.737 \n",
       "  454.814,773.816 455.098,764.519 455.382,764.519 455.667,775.475 455.951,775.475 456.235,781.456 456.519,773.278 456.803,759.4 457.087,788.365 457.371,788.365 \n",
       "  457.656,740.556 457.94,740.556 458.224,740.555 458.508,740.555 458.792,740.409 459.076,740.409 459.36,695.351 459.645,695.351 459.929,695.351 460.213,695.351 \n",
       "  460.497,695.351 460.781,695.351 461.065,695.351 461.349,758.254 461.634,758.254 461.918,758.254 462.202,758.254 462.486,758.254 462.77,761.032 463.054,761.032 \n",
       "  463.338,761.032 463.623,761.032 463.907,761.032 464.191,761.032 464.475,808.914 464.759,814.145 465.043,814.145 465.327,815.136 465.612,815.136 465.896,815.136 \n",
       "  466.18,815.136 466.464,815.136 466.748,815.136 467.032,803.317 467.316,803.317 467.6,803.317 467.885,803.317 468.169,803.317 468.453,801.36 468.737,801.36 \n",
       "  469.021,784.205 469.305,784.205 469.589,784.205 469.874,784.205 470.158,780.214 470.442,780.214 470.726,804.869 471.01,804.869 471.294,706.479 471.578,706.479 \n",
       "  471.863,795.837 472.147,795.837 472.431,790.729 472.715,790.729 472.999,790.729 473.283,790.729 473.567,793.11 473.852,793.11 474.136,807.61 474.42,807.61 \n",
       "  474.704,807.61 474.988,807.61 475.272,783.977 475.556,783.977 475.841,803.823 476.125,803.823 476.409,803.82 476.693,669.054 476.977,669.173 477.261,669.174 \n",
       "  477.545,669.174 477.83,631.648 478.114,631.648 478.398,631.648 478.682,631.648 478.966,631.648 479.25,631.648 479.534,631.65 479.819,695.131 480.103,677.735 \n",
       "  480.387,677.735 480.671,667.892 480.955,667.892 481.239,681.291 481.523,681.291 481.807,681.291 482.092,681.291 482.376,681.291 482.66,681.291 482.944,681.291 \n",
       "  483.228,727.482 483.512,727.482 483.796,757.983 484.081,757.986 484.365,757.986 484.649,793.011 484.933,793.011 485.217,793.011 485.501,793.011 485.785,793.011 \n",
       "  486.07,816.051 486.354,816.051 486.638,816.051 486.922,816.051 487.206,816.051 487.49,816.051 487.774,806.314 488.059,806.314 488.343,813.493 488.627,813.493 \n",
       "  488.911,794.764 489.195,809.068 489.479,809.068 489.763,809.068 490.048,809.068 490.332,811.132 490.616,786.717 490.9,786.717 491.184,786.717 491.468,786.717 \n",
       "  491.752,786.717 492.037,786.717 492.321,801.573 492.605,801.573 492.889,814.779 493.173,814.779 493.457,814.779 493.741,814.779 494.026,814.779 494.31,814.779 \n",
       "  494.594,815.594 494.878,815.594 495.162,814.836 495.446,814.836 495.73,814.836 496.014,814.836 496.299,814.836 496.583,814.836 496.867,814.836 497.151,814.836 \n",
       "  497.435,812.674 497.719,812.673 498.003,812.673 498.288,815.947 498.572,812.227 498.856,812.226 499.14,812.226 499.424,812.227 499.708,816.054 499.992,816.054 \n",
       "  500.277,816.054 500.561,815.998 500.845,815.151 501.129,815.151 501.413,813.471 501.697,813.471 501.981,813.472 502.266,813.472 502.55,813.473 502.834,813.473 \n",
       "  503.118,813.473 503.402,813.473 503.686,815.851 503.97,811.467 504.255,811.467 504.539,816.179 504.823,816.179 505.107,816.179 505.391,816.179 505.675,805.79 \n",
       "  505.959,805.79 506.244,805.79 506.528,805.79 506.812,805.79 507.096,805.79 507.38,805.791 507.664,805.791 507.948,814.368 508.233,814.368 508.517,814.368 \n",
       "  508.801,814.368 509.085,814.048 509.369,814.048 509.653,811.586 509.937,811.586 510.221,816.132 510.506,816.132 510.79,816.132 511.074,816.132 511.358,814.424 \n",
       "  511.642,814.424 511.926,814.423 512.21,802.486 512.495,805.077 512.779,805.078 513.063,814.286 513.347,814.286 513.631,814.286 513.915,814.286 514.199,814.286 \n",
       "  514.484,813.986 514.768,810.731 515.052,810.731 515.336,810.731 515.62,810.731 515.904,810.731 516.188,810.733 516.473,816.122 516.757,811.481 517.041,811.481 \n",
       "  517.325,747.212 517.609,764.083 517.893,759.56 518.177,759.56 518.462,816.037 518.746,805.513 519.03,805.513 519.314,813.411 519.598,813.411 519.882,813.411 \n",
       "  520.166,813.411 520.451,813.411 520.735,802.233 521.019,784.334 521.303,784.334 521.587,811.682 521.871,811.682 522.155,811.682 522.44,806.172 522.724,806.172 \n",
       "  523.008,806.172 523.292,808.223 523.576,808.223 523.86,808.223 524.144,808.223 524.428,808.223 524.713,814.975 524.997,814.038 525.281,814.037 525.565,814.037 \n",
       "  525.849,815.81 526.133,815.81 526.417,806.486 526.702,813.304 526.986,813.304 527.27,813.304 527.554,813.304 527.838,813.304 528.122,815.479 528.406,815.479 \n",
       "  528.691,798.479 528.975,802.318 529.259,798.483 529.543,804.096 529.827,804.096 530.111,804.096 530.395,804.096 530.68,804.096 530.964,804.096 531.248,815.342 \n",
       "  531.532,815.342 531.816,815.342 532.1,793.1 532.384,793.1 532.669,806.414 532.953,806.414 533.237,796.622 533.521,796.622 533.805,815.928 534.089,816.145 \n",
       "  534.373,816.145 534.658,816.145 534.942,816.145 535.226,786.826 535.51,786.826 535.794,786.826 536.078,786.826 536.362,786.826 536.647,786.826 536.931,733.514 \n",
       "  537.215,729.368 537.499,729.368 537.783,754.242 538.067,816.164 538.351,814.354 538.635,814.354 538.92,814.354 539.204,814.354 539.488,814.354 539.772,814.354 \n",
       "  540.056,816.053 540.34,816.053 540.624,801.859 540.909,801.859 541.193,792.102 541.477,792.102 541.761,805.093 542.045,805.094 542.329,805.094 542.613,805.094 \n",
       "  542.898,805.094 543.182,815.847 543.466,804.163 543.75,804.163 544.034,813.339 544.318,813.397 544.602,813.454 544.887,813.454 545.171,816.074 545.455,816.115 \n",
       "  545.739,816.115 546.023,816.123 546.307,815.919 546.591,815.919 546.876,815.901 547.16,815.901 547.444,815.503 547.728,815.528 548.012,815.528 548.296,809.127 \n",
       "  548.58,809.127 548.865,816.189 549.149,816.189 549.433,816.19 549.717,816.19 550.001,811.963 550.285,811.963 550.569,812.024 550.854,812.024 551.138,812.085 \n",
       "  551.422,812.085 551.706,812.139 551.99,812.139 552.274,811.687 552.558,811.687 552.842,811.74 553.127,811.797 553.411,811.797 553.695,801.354 553.979,812.119 \n",
       "  554.263,812.119 554.547,812.683 554.831,813.932 555.116,813.932 555.4,813.967 555.684,813.967 555.968,813.998 556.252,813.998 556.536,813.998 556.82,815.736 \n",
       "  557.105,802.943 557.389,804.098 557.673,804.098 557.957,804.098 558.241,804.098 558.525,804.098 558.809,804.098 559.094,804.098 559.378,804.098 559.662,800.68 \n",
       "  559.946,800.68 560.23,815.28 560.514,814.922 560.798,814.922 561.083,814.922 561.367,814.922 561.651,809.047 561.935,809.047 562.219,809.047 562.503,811.472 \n",
       "  562.787,811.472 563.072,811.472 563.356,811.472 563.64,800.34 563.924,790.443 564.208,790.443 564.492,790.44 564.776,765.499 565.061,765.499 565.345,790.44 \n",
       "  565.629,790.443 565.913,790.443 566.197,790.443 566.481,809.506 566.765,809.508 567.049,809.508 567.334,809.508 567.618,814.777 567.902,814.777 568.186,814.777 \n",
       "  568.47,812.328 568.754,812.328 569.038,799.744 569.323,799.744 569.607,799.744 569.891,799.744 570.175,775.025 570.459,750.541 570.743,750.541 571.027,750.535 \n",
       "  571.312,700.255 571.596,700.255 571.88,764.77 572.164,764.77 572.448,764.77 572.732,764.77 573.016,764.77 573.301,764.77 573.585,766.271 573.869,766.271 \n",
       "  574.153,795.699 574.437,818.187 574.721,818.187 575.005,818.187 575.29,818.187 575.574,818.187 575.858,818.187 576.142,708.425 576.426,708.425 576.71,708.425 \n",
       "  576.994,708.425 577.279,708.425 577.563,734.657 577.847,687.553 578.131,687.553 578.415,717.134 578.699,717.134 578.983,764.242 579.268,764.242 579.552,682.821 \n",
       "  579.836,670.842 580.12,650.135 580.404,622.126 580.688,622.123 580.972,622.123 581.256,684.38 581.541,684.373 581.825,628.027 582.109,628.027 582.393,628.027 \n",
       "  582.677,628.027 582.961,628.027 583.245,628.027 583.53,1341.05 583.814,1351.67 584.098,1351.67 584.382,1351.67 584.666,1351.68 584.95,1384.89 585.234,1384.89 \n",
       "  585.519,818.434 585.803,818.431 586.087,818.431 586.371,818.431 586.655,818.431 586.939,818.431 587.223,793.364 587.508,793.364 587.792,799.897 588.076,799.901 \n",
       "  588.36,806.99 588.644,806.99 588.928,806.99 589.212,806.99 589.497,811.727 589.781,811.73 590.065,811.73 590.349,779.698 590.633,779.698 590.917,810.777 \n",
       "  591.201,810.777 591.486,813.121 591.77,813.121 592.054,813.121 592.338,817.074 592.622,817.076 592.906,817.076 593.19,806.54 593.475,806.54 593.759,814.361 \n",
       "  594.043,814.361 594.327,1423.11 594.611,1412.15 594.895,1412.15 595.179,1412.15 595.463,1412.15 595.748,1412.15 596.032,1412.15 596.316,1412.15 596.6,1412.15 \n",
       "  596.884,1412.15 597.168,1412.15 597.452,1414.95 597.737,809.08 598.021,804.719 598.305,804.719 598.589,804.719 598.873,804.719 599.157,805.854 599.441,799.975 \n",
       "  599.726,799.975 600.01,841.719 600.294,841.719 600.578,1409.5 600.862,1409.5 601.146,812.596 601.43,543.759 601.715,543.759 601.999,543.759 602.283,543.759 \n",
       "  602.567,513.456 602.851,513.456 603.135,436.638 603.419,436.638 603.704,526.335 603.988,526.335 604.272,618.056 604.556,618.067 604.84,618.067 605.124,618.066 \n",
       "  605.408,632.727 605.693,661.22 605.977,661.22 606.261,661.22 606.545,661.22 606.829,661.223 607.113,690.864 607.397,661.232 607.682,757.026 607.966,731.823 \n",
       "  608.25,731.823 608.534,731.823 608.818,731.823 609.102,741.906 609.386,741.906 609.671,741.906 609.955,741.906 610.239,741.901 610.523,701.637 610.807,701.637 \n",
       "  611.091,701.631 611.375,653.366 611.659,734.267 611.944,734.267 612.228,713.132 612.512,713.132 612.796,713.132 613.08,713.132 613.364,734.267 613.648,734.267 \n",
       "  613.933,734.267 614.217,747.075 614.501,747.075 614.785,747.073 615.069,747.073 615.353,734.055 615.637,734.055 615.922,734.055 616.206,734.055 616.49,734.055 \n",
       "  616.774,734.055 617.058,734.056 617.342,774.825 617.626,774.825 617.911,774.825 618.195,774.825 618.479,801.368 618.763,807.897 619.047,807.897 619.331,807.933 \n",
       "  619.615,807.933 619.9,807.933 620.184,807.933 620.468,793.803 620.752,793.798 621.036,793.798 621.32,793.798 621.604,786.514 621.889,786.514 622.173,786.514 \n",
       "  622.457,803.821 622.741,803.821 623.025,809.654 623.309,809.654 623.593,785.935 623.878,752.602 624.162,752.602 624.446,783.523 624.73,783.528 625.014,783.528 \n",
       "  625.298,783.528 625.582,759.639 625.866,759.639 626.151,759.639 626.435,759.639 626.719,778.982 627.003,778.982 627.287,814.855 627.571,804.006 627.855,804.006 \n",
       "  628.14,773.343 628.424,773.342 628.708,773.342 628.992,780.224 629.276,780.224 629.56,806.206 629.844,806.206 630.129,806.206 630.413,806.206 630.697,806.206 \n",
       "  630.981,787.686 631.265,796.196 631.549,764.445 631.833,764.445 632.118,763.982 632.402,763.982 632.686,763.984 632.97,790.876 633.254,790.876 633.538,770.468 \n",
       "  633.822,770.468 634.107,787.152 634.391,810.406 634.675,810.406 634.959,810.406 635.243,810.406 635.527,810.406 635.811,810.406 636.096,810.406 636.38,821.297 \n",
       "  636.664,821.297 636.948,815.795 637.232,773.489 637.516,773.489 637.8,773.489 638.085,773.489 638.369,773.489 638.653,773.489 638.937,773.489 639.221,588.295 \n",
       "  639.505,505.162 639.789,505.162 640.073,505.162 640.358,598.254 640.642,598.254 640.926,677.893 641.21,677.893 641.494,788.9 641.778,807.361 642.062,807.361 \n",
       "  642.347,810.763 642.631,810.763 642.915,810.562 643.199,810.562 643.483,810.562 643.767,807.614 644.051,807.614 644.336,809.92 644.62,809.92 644.904,809.92 \n",
       "  645.188,687.947 645.472,687.947 645.756,687.947 646.04,781.896 646.325,781.896 646.609,781.896 646.893,808.693 647.177,814.18 647.461,811.497 647.745,815.398 \n",
       "  648.029,815.398 648.314,816.08 648.598,816.108 648.882,816.108 649.166,816.108 649.45,816.108 649.734,816.108 650.018,816.108 650.303,816.108 650.587,816.108 \n",
       "  650.871,816.108 651.155,811.173 651.439,811.173 651.723,742.625 652.007,742.625 652.292,685.991 652.576,653.352 652.86,653.352 653.144,653.352 653.428,653.352 \n",
       "  653.712,653.352 653.996,653.352 654.28,653.352 654.565,653.352 654.849,653.352 655.133,653.352 655.417,653.352 655.701,685.987 655.985,677.678 656.269,677.678 \n",
       "  656.554,627.727 656.838,627.727 657.122,655.188 657.406,655.188 657.69,732.296 657.974,772.118 658.258,784.919 658.543,784.919 658.827,799.942 659.111,833.711 \n",
       "  659.395,833.711 659.679,833.687 659.963,816.162 660.247,816.162 660.532,816.162 660.816,816.162 661.1,813.29 661.384,815.974 661.668,812.928 661.952,812.928 \n",
       "  662.236,812.928 662.521,812.928 662.805,812.928 663.089,814.598 663.373,814.598 663.657,814.598 663.941,814.598 664.225,804.327 664.51,805.215 664.794,805.215 \n",
       "  665.078,805.215 665.362,805.213 665.646,776.125 665.93,777.949 666.214,777.949 666.499,777.949 666.783,788.839 667.067,788.839 667.351,815.51 667.635,815.509 \n",
       "  667.919,815.509 668.203,816.147 668.487,814.748 668.772,814.748 669.056,815.936 669.34,810.258 669.624,816.015 669.908,816.015 670.192,816.129 670.476,816.129 \n",
       "  670.761,816.186 671.045,816.186 671.329,816.186 671.613,816.186 671.897,816.186 672.181,816.186 672.465,816.186 672.75,816.186 673.034,815.021 673.318,811.375 \n",
       "  673.602,811.375 673.886,811.375 674.17,805.044 674.454,805.364 674.739,805.364 675.023,784.01 675.307,784.01 675.591,805.767 675.875,805.76 676.159,785.825 \n",
       "  676.443,785.825 676.728,779.257 677.012,778.5 677.296,805.403 677.58,805.412 677.864,805.412 678.148,805.412 678.432,805.412 678.717,805.412 679.001,805.412 \n",
       "  679.285,815.012 679.569,814.011 679.853,806.954 680.137,806.954 680.421,776.773 680.706,776.773 680.99,776.773 681.274,776.773 681.558,804.422 681.842,821.247 \n",
       "  682.126,821.247 682.41,821.247 682.694,821.247 682.979,821.247 683.263,821.247 683.547,821.247 683.831,1395.32 684.115,1349.01 684.399,1378.14 684.683,1407 \n",
       "  684.968,1397.19 685.252,1397.19 685.536,1336.32 685.82,1336.32 686.104,1336.32 686.388,1336.32 686.672,1336.32 686.957,1358.41 687.241,1358.41 687.525,1358.41 \n",
       "  687.809,1358.41 688.093,1336.32 688.377,1354.82 688.661,1354.82 688.946,1354.82 689.23,1354.82 689.514,1389.66 689.798,1389.66 690.082,1432.69 690.366,1432.69 \n",
       "  690.65,1417.97 690.935,1425.63 691.219,1332.62 691.503,815.195 691.787,814.438 692.071,814.712 692.355,814.981 692.639,814.981 692.924,760.423 693.208,760.415 \n",
       "  693.492,760.415 693.776,760.415 694.06,760.415 694.344,750.434 694.628,750.434 694.913,749.699 695.197,749.699 695.481,744.971 695.765,744.971 696.049,744.971 \n",
       "  696.333,744.971 696.617,744.971 696.901,744.971 697.186,744.971 697.47,744.971 697.754,778.462 698.038,778.462 698.322,802.475 698.606,802.475 698.89,813.308 \n",
       "  699.175,813.308 699.459,813.308 699.743,813.308 700.027,815.25 700.311,803.56 700.595,803.558 700.879,773.645 701.164,773.645 701.448,779.304 701.732,779.304 \n",
       "  702.016,779.304 702.3,779.304 702.584,779.304 702.868,779.304 703.153,803.016 703.437,794.526 703.721,794.526 704.005,809.819 704.289,809.819 704.573,809.82 \n",
       "  704.857,815.368 705.142,815.368 705.426,815.368 705.71,815.368 705.994,804.742 706.278,810.822 706.562,768.223 706.846,768.223 707.131,768.223 707.415,768.223 \n",
       "  707.699,768.223 707.983,768.223 708.267,768.223 708.551,768.223 708.835,768.223 709.12,768.223 709.404,775.727 709.688,1389.7 709.972,1389.69 710.256,1296.48 \n",
       "  710.54,1351.47 710.824,1351.47 711.108,1351.47 711.393,1351.47 711.677,1351.47 711.961,1351.47 712.245,1351.47 712.529,1351.47 712.813,1355.72 713.097,1355.72 \n",
       "  713.382,1378.85 713.666,1378.85 713.95,1392.93 714.234,1392.93 714.518,1365.55 714.802,1365.55 715.086,1365.55 715.371,1365.55 715.655,1382.05 715.939,1382.05 \n",
       "  716.223,1382.05 716.507,734.472 716.791,734.472 717.075,759.875 717.36,759.875 717.644,807.207 717.928,807.202 718.212,807.202 718.496,800.75 718.78,800.75 \n",
       "  719.064,815.454 719.349,815.454 719.633,800.762 719.917,800.75 720.201,800.75 720.485,799.32 720.769,799.32 721.053,799.32 721.338,799.32 721.622,781.41 \n",
       "  721.906,781.41 722.19,781.41 722.474,781.41 722.758,1355.53 723.042,1355.53 723.327,1355.53 723.611,1295.06 723.895,1295.05 724.179,1295.05 724.463,711.48 \n",
       "  724.747,675.512 725.031,675.512 725.315,675.512 725.6,675.512 725.884,1261.46 726.168,1261.46 726.452,729.048 726.736,729.048 727.02,729.048 727.304,729.048 \n",
       "  727.589,729.049 727.873,742.846 728.157,762.679 728.441,695.393 728.725,695.393 729.009,789.499 729.293,778.873 729.578,778.873 729.862,778.873 730.146,778.871 \n",
       "  730.43,769.326 730.714,769.326 730.998,778.141 731.282,778.141 731.567,702.607 731.851,719.419 732.135,719.419 732.419,719.419 732.703,719.419 732.987,583.678 \n",
       "  733.271,583.678 733.556,722.99 733.84,616.462 734.124,616.46 734.408,616.46 734.692,601.328 734.976,601.328 735.26,550.135 735.545,550.135 735.829,706.67 \n",
       "  736.113,706.684 736.397,706.684 736.681,706.684 736.965,706.684 737.249,788.391 737.534,778.186 737.818,778.186 738.102,800.632 738.386,783.706 738.67,783.706 \n",
       "  738.954,783.706 739.238,783.706 739.522,783.706 739.807,783.706 740.091,783.706 740.375,783.706 740.659,804.917 740.943,804.917 741.227,804.917 741.511,804.917 \n",
       "  741.796,783.024 742.08,783.024 742.364,798.466 742.648,798.466 742.932,805.988 743.216,805.988 743.5,805.988 743.785,805.988 744.069,802.245 744.353,802.245 \n",
       "  744.637,803.985 744.921,803.985 745.205,803.985 745.489,797.132 745.774,797.131 746.058,797.139 746.342,815.999 746.626,815.999 746.91,815.221 747.194,815.221 \n",
       "  747.478,814.474 747.763,804.644 748.047,791.186 748.331,791.184 748.615,791.184 748.899,800.504 749.183,814.051 749.467,814.051 749.752,814.051 750.036,814.051 \n",
       "  750.32,802.262 750.604,789.372 750.888,807.33 751.172,807.289 751.456,814.146 751.741,814.146 752.025,814.139 752.309,814.139 752.593,812.7 752.877,812.7 \n",
       "  753.161,800.382 753.445,793.336 753.729,798.272 754.014,793.269 754.298,793.269 754.582,772.085 754.866,772.085 755.15,772.066 755.434,772.066 755.718,774.749 \n",
       "  756.003,774.734 756.287,798.384 756.571,798.384 756.855,810.892 757.139,810.892 757.423,799.79 757.707,799.79 757.992,815.762 758.276,815.767 758.56,815.767 \n",
       "  758.844,815.917 759.128,809.714 759.412,809.714 759.696,813.002 759.981,812.999 760.265,812.999 760.549,815.429 760.833,815.428 761.117,815.428 761.401,815.427 \n",
       "  761.685,815.426 761.97,815.426 762.254,815.425 762.538,815.425 762.822,815.951 763.106,815.951 763.39,815.95 763.674,815.95 763.959,812.799 764.243,815.529 \n",
       "  764.527,815.529 764.811,815.529 765.095,815.529 765.379,815.529 765.663,816.19 765.948,816.19 766.232,816.19 766.516,816.19 766.8,816.162 767.084,816.162 \n",
       "  767.368,816.162 767.652,814.79 767.936,814.79 768.221,813.055 768.505,813.055 768.789,813.055 769.073,813.055 769.357,813.055 769.641,811.98 769.925,811.98 \n",
       "  770.21,811.98 770.494,801.195 770.778,770.414 771.062,741.305 771.346,741.305 771.63,730.176 771.914,719.895 772.199,719.895 772.483,719.944 772.767,719.944 \n",
       "  773.051,758.195 773.335,794.855 773.619,794.897 773.903,798.068 774.188,798.068 774.472,798.09 774.756,768.586 775.04,753.064 775.324,753.064 775.608,744.964 \n",
       "  775.892,589.598 776.177,589.598 776.461,589.598 776.745,589.599 777.029,589.599 777.313,589.6 777.597,589.6 777.881,578.477 778.166,578.479 778.45,578.481 \n",
       "  778.734,578.481 779.018,626.933 779.302,626.933 779.586,626.933 779.87,626.933 780.155,600.809 780.439,600.809 780.723,600.809 781.007,696.33 781.291,696.33 \n",
       "  781.575,696.317 781.859,696.317 782.143,696.317 782.428,696.317 782.712,696.317 782.996,669 783.28,669 783.564,669.005 783.848,669.005 784.132,717.836 \n",
       "  784.417,717.836 784.701,717.835 784.985,717.835 785.269,730.769 785.553,730.769 785.837,775.583 786.121,775.583 786.406,772.447 786.69,772.447 786.974,781.518 \n",
       "  787.258,781.518 787.542,805.62 787.826,805.619 788.11,805.619 788.395,814.274 788.679,814.274 788.963,808.844 789.247,808.844 789.531,808.844 789.815,808.844 \n",
       "  790.099,808.843 790.384,789.669 790.668,789.669 790.952,789.669 791.236,789.669 791.52,789.669 791.804,789.669 792.088,789.669 792.373,758.623 792.657,758.623 \n",
       "  792.941,756.41 793.225,756.41 793.509,800.621 793.793,800.621 794.077,800.607 794.362,800.607 794.646,800.607 794.93,800.607 795.214,785.452 795.498,785.452 \n",
       "  795.782,798.973 796.066,798.973 796.35,798.026 796.635,798.026 796.919,798.026 797.203,798.026 797.487,1333.76 797.771,1333.75 798.055,1333.75 798.339,817.773 \n",
       "  798.624,817.773 798.908,817.773 799.192,817.773 799.476,817.773 799.76,817.773 800.044,815.492 800.328,815.491 800.613,815.491 800.897,733.167 801.181,733.167 \n",
       "  801.465,733.176 801.749,808.739 802.033,808.742 802.317,808.742 802.602,808.742 802.886,808.742 803.17,805.74 803.454,786.995 803.738,786.995 804.022,813.89 \n",
       "  804.306,811.901 804.591,811.177 804.875,811.177 805.159,810.333 805.443,810.333 805.727,809.428 806.011,795.75 806.295,794.207 806.58,790.189 806.864,796.316 \n",
       "  807.148,800.505 807.432,807.349 807.716,815.345 808,812.206 808.284,816.019 808.569,816.019 808.853,724.414 809.137,673.697 809.421,697.553 809.705,697.553 \n",
       "  809.989,769.481 810.273,769.481 810.557,752.405 810.842,752.405 811.126,797.997 811.41,797.997 811.694,806.879 811.978,806.879 812.262,806.879 812.546,785.529 \n",
       "  812.831,785.529 813.115,785.529 813.399,815.994 813.683,815.994 813.967,1431.1 814.251,1368.89 814.535,1368.89 814.82,1368.89 815.104,1368.89 815.388,1368.89 \n",
       "  815.672,1368.89 815.956,802.2 816.24,830.23 816.524,830.23 816.809,812.044 817.093,815.941 817.377,815.941 817.661,815.017 817.945,811.018 818.229,812.448 \n",
       "  818.513,812.448 818.798,816.106 819.082,816.106 819.366,799.232 819.65,766.804 819.934,785.962 820.218,785.974 820.502,827.525 820.787,827.525 821.071,834.382 \n",
       "  821.355,826.581 821.639,823.825 821.923,810.626 822.207,813.205 822.491,813.205 822.776,813.205 823.06,813.205 823.344,813.205 823.628,829.522 823.912,829.522 \n",
       "  824.196,814.837 824.48,827.888 824.765,827.888 825.049,835.941 825.333,835.937 825.617,813.04 825.901,813.04 826.185,814.352 826.469,815.339 826.753,816.189 \n",
       "  827.038,816.189 827.322,815.498 827.606,815.498 827.89,815.498 828.174,815.498 828.458,811.419 828.742,811.419 829.027,816.05 829.311,814.678 829.595,814.678 \n",
       "  829.879,806.507 830.163,813.406 830.447,814.443 830.731,816.01 831.016,810.464 831.3,810.464 831.584,792.539 831.868,792.538 832.152,792.538 832.436,794.568 \n",
       "  832.72,794.568 833.005,794.568 833.289,794.568 833.573,794.568 833.857,794.568 834.141,794.568 834.425,794.568 834.709,810.454 834.994,810.455 835.278,810.455 \n",
       "  835.562,810.455 835.846,810.455 836.13,810.455 836.414,810.455 836.698,810.455 836.983,786.111 837.267,814.055 837.551,814.055 837.835,814.807 838.119,814.807 \n",
       "  838.403,811.99 838.687,753.31 838.972,709.161 839.256,709.161 839.54,708.15 839.824,707.149 840.108,704.223 840.392,704.223 840.676,703.333 840.96,703.333 \n",
       "  841.245,702.38 841.529,698.716 841.813,722.473 842.097,722.473 842.381,721.729 842.665,721.729 842.949,720.93 843.234,734.144 843.518,733.495 843.802,733.495 \n",
       "  844.086,732.901 844.37,732.258 844.654,665.427 844.938,664.626 845.223,664.626 845.507,663.784 845.791,731.395 846.075,731.395 846.359,730.817 846.643,730.817 \n",
       "  846.927,815.767 847.212,1390.63 847.496,1390.63 847.78,1389.72 848.064,1389.72 848.348,1389.25 848.632,1389.25 848.916,1386.43 849.201,756.205 849.485,756.205 \n",
       "  849.769,771.185 850.053,771.185 850.337,770.875 850.621,770.875 850.905,770.567 851.19,770.286 851.474,770.286 851.758,806.508 852.042,806.508 852.326,806.922 \n",
       "  852.61,806.922 852.894,806.927 853.179,806.928 853.463,806.928 853.747,806.928 854.031,806.928 854.315,806.928 854.599,806.928 854.883,806.928 855.167,808.977 \n",
       "  855.452,808.977 855.736,808.977 856.02,798.044 856.304,805.35 856.588,805.35 856.872,798.008 857.156,798.009 857.441,812.365 857.725,812.365 858.009,815.861 \n",
       "  858.293,815.861 858.577,815.624 858.861,815.624 859.145,815.623 859.43,811.1 859.714,792.381 859.998,812.209 860.282,812.209 860.566,812.208 860.85,806.906 \n",
       "  861.134,809.696 861.419,809.696 861.703,816.179 861.987,816.179 862.271,815.755 862.555,815.754 862.839,803.524 863.123,803.524 863.408,812.17 863.692,812.17 \n",
       "  863.976,812.17 864.26,812.17 864.544,812.772 864.828,812.772 865.112,817.245 865.397,815.447 865.681,800.833 865.965,793.493 866.249,823.996 866.533,823.996 \n",
       "  866.817,810.602 867.101,810.602 867.386,810.899 867.67,810.899 867.954,807.934 868.238,807.934 868.522,807.934 868.806,807.934 869.09,814.665 869.374,814.665 \n",
       "  869.659,816.154 869.943,816.154 870.227,816.154 870.511,812.186 870.795,806.946 871.079,806.946 871.363,806.946 871.648,810.06 871.932,810.79 872.216,804.027 \n",
       "  872.5,804.027 872.784,804.027 873.068,804.027 873.352,806 873.637,806 873.921,806 874.205,806 874.489,816.16 874.773,816.16 875.057,770.534 \n",
       "  875.341,770.53 875.626,770.53 875.91,770.53 876.194,770.53 876.478,770.53 876.762,770.53 877.046,720.496 877.33,720.496 877.615,720.493 877.899,683.102 \n",
       "  878.183,683.102 878.467,683.102 878.751,576.15 879.035,659.028 879.319,659.037 879.604,659.037 879.888,609.548 880.172,711.202 880.456,711.202 880.74,711.202 \n",
       "  881.024,742.258 881.308,692.853 881.593,692.853 881.877,692.853 882.161,692.853 882.445,692.853 882.729,692.853 883.013,784.937 883.297,784.977 883.581,798.983 \n",
       "  883.866,798.983 884.15,773.225 884.434,773.225 884.718,763.72 885.002,763.72 885.286,763.72 885.57,763.72 885.855,763.72 886.139,763.72 886.423,763.72 \n",
       "  886.707,709.389 886.991,765.255 887.275,765.255 887.559,765.255 887.844,765.255 888.128,765.247 888.412,719.737 888.696,729.868 888.98,729.868 889.264,729.868 \n",
       "  889.548,729.868 889.833,729.868 890.117,729.868 890.401,729.868 890.685,729.868 890.969,814.322 891.253,800.248 891.537,800.248 891.822,800.248 892.106,800.247 \n",
       "  892.39,764.077 892.674,764.077 892.958,764.077 893.242,764.077 893.526,764.077 893.811,764.077 894.095,756.65 894.379,756.65 894.663,737.046 894.947,737.046 \n",
       "  895.231,737.046 895.515,737.046 895.8,737.046 896.084,737.046 896.368,738.401 896.652,738.401 896.936,742.533 897.22,756.878 897.504,756.878 897.788,742.635 \n",
       "  898.073,742.635 898.357,742.635 898.641,742.635 898.925,698.284 899.209,698.284 899.493,698.284 899.777,698.284 900.062,698.263 900.346,535.551 900.63,535.551 \n",
       "  900.914,535.551 901.198,535.551 901.482,535.551 901.766,535.551 902.051,535.551 902.335,535.551 902.619,603.217 902.903,603.217 903.187,599.989 903.471,599.989 \n",
       "  903.755,344.907 904.04,344.907 904.324,344.907 904.608,344.907 904.892,473.434 905.176,473.434 905.46,575.969 905.744,575.969 906.029,646.799 906.313,646.799 \n",
       "  906.597,637.599 906.881,637.599 907.165,637.599 907.449,637.599 907.733,637.599 908.018,637.599 908.302,662.994 908.586,663.004 908.87,765.266 909.154,765.266 \n",
       "  909.438,765.266 909.722,765.266 910.007,765.266 910.291,765.266 910.575,687.645 910.859,753.18 911.143,753.18 911.427,728.939 911.711,728.939 911.995,728.939 \n",
       "  912.28,728.939 912.564,728.939 912.848,816.166 913.132,782.983 913.416,782.983 913.7,803.154 913.984,803.154 914.269,791.199 914.553,791.199 914.837,792.208 \n",
       "  915.121,792.208 915.405,805.586 915.689,806.924 915.973,806.924 916.258,816.184 916.542,816.184 916.826,816.184 917.11,815.652 917.394,815.652 917.678,815.652 \n",
       "  917.962,815.652 918.247,815.652 918.531,815.652 918.815,802.29 919.099,796.661 919.383,796.661 919.667,801.446 919.951,801.446 920.236,801.446 920.52,801.446 \n",
       "  920.804,801.446 921.088,801.446 921.372,815.186 921.656,783.544 921.94,795.541 922.225,795.541 922.509,798.622 922.793,798.622 923.077,798.62 923.361,774.488 \n",
       "  923.645,774.486 923.929,774.486 924.214,774.486 924.498,775.479 924.782,775.479 925.066,767.773 925.35,767.773 925.634,767.773 925.918,771.613 926.202,771.613 \n",
       "  926.487,776.102 926.771,776.102 927.055,776.102 927.339,776.102 927.623,727.478 927.907,727.478 928.191,727.481 928.476,761.462 928.76,761.462 929.044,793.408 \n",
       "  929.328,786.816 929.612,786.815 929.896,786.815 930.18,786.815 930.465,786.815 930.749,811.337 931.033,798.152 931.317,808.024 931.601,808.024 931.885,808.024 \n",
       "  932.169,808.024 932.454,808.024 932.738,813.607 933.022,813.607 933.306,815.823 933.59,814.124 933.874,807.161 934.158,807.168 934.443,807.168 934.727,807.168 \n",
       "  935.011,807.168 935.295,813.815 935.579,813.815 935.863,813.815 936.147,813.815 936.432,798.913 936.716,798.913 937,808.791 937.284,769.039 937.568,634.363 \n",
       "  937.852,634.363 938.136,586.903 938.421,607.239 938.705,607.241 938.989,607.241 939.273,607.235 939.557,556.65 939.841,556.65 940.125,556.65 940.409,556.65 \n",
       "  940.694,556.65 940.978,556.65 941.262,556.65 941.546,492.896 941.83,617.879 942.114,617.888 942.398,617.888 942.683,617.888 942.967,617.888 943.251,612.632 \n",
       "  943.535,811.298 943.819,811.298 944.103,816.133 944.387,816.133 944.672,815.04 944.956,812.559 945.24,812.559 945.524,816.013 945.808,816.013 946.092,816.013 \n",
       "  946.376,816.013 946.661,816.014 946.945,764.853 947.229,764.853 947.513,764.853 947.797,764.853 948.081,787.546 948.365,795.737 948.65,795.737 948.934,764.624 \n",
       "  949.218,764.624 949.502,764.624 949.786,764.624 950.07,764.621 950.354,764.621 950.639,729.811 950.923,729.811 951.207,694.939 951.491,694.939 951.775,745.373 \n",
       "  952.059,795.169 952.343,775.152 952.628,692.252 952.912,695.094 953.196,695.094 953.48,695.094 953.764,636.423 954.048,636.423 954.332,636.423 954.616,636.423 \n",
       "  954.901,632.647 955.185,704.507 955.469,704.507 955.753,724.367 956.037,724.367 956.321,721.51 956.605,721.51 956.89,718.635 957.174,715.959 957.458,659.769 \n",
       "  957.742,659.769 958.026,659.769 958.31,659.769 958.594,728.901 958.879,728.012 959.163,728.012 959.447,796.806 959.731,796.806 960.015,802.835 960.299,802.835 \n",
       "  960.583,801.923 960.868,801.923 961.152,800.906 961.436,799.86 961.72,799.86 962.004,798.785 962.288,798.785 962.572,811.583 962.857,810.366 963.141,810.366 \n",
       "  963.425,809.705 963.709,809.705 963.993,813.634 964.277,776.345 964.561,742.415 964.846,742.415 965.13,756.17 965.414,756.17 965.698,756.17 965.982,756.17 \n",
       "  966.266,756.173 966.55,799.896 966.835,799.896 967.119,783.974 967.403,803.921 967.687,810.242 967.971,810.242 968.255,815.62 968.539,815.62 968.823,815.62 \n",
       "  969.108,815.62 969.392,815.636 969.676,815.636 969.96,815.636 970.244,815.636 970.528,765.89 970.812,683.947 971.097,683.947 971.381,683.947 971.665,683.947 \n",
       "  971.949,683.947 972.233,683.947 972.517,683.948 972.801,711.152 973.086,711.152 973.37,731.394 973.654,786.362 973.938,786.363 974.222,786.363 974.506,814.326 \n",
       "  974.79,814.326 975.075,814.326 975.359,813.982 975.643,795.999 975.927,809.595 976.211,782.169 976.495,803.61 976.779,803.611 977.064,803.611 977.348,797.4 \n",
       "  977.632,777.605 977.916,777.605 978.2,777.605 978.484,777.605 978.768,777.605 979.053,777.605 979.337,777.605 979.621,797.509 979.905,797.509 980.189,815.337 \n",
       "  980.473,812.74 980.757,812.74 981.042,812.74 981.326,812.74 981.61,808.936 981.894,808.936 982.178,815.81 982.462,815.81 982.746,811.946 983.03,811.604 \n",
       "  983.315,811.604 983.599,812.813 983.883,812.813 984.167,815.041 984.451,815.041 984.735,815.041 985.019,815.041 985.304,813.756 985.588,813.756 985.872,814.956 \n",
       "  986.156,814.225 986.44,814.225 986.724,814.225 987.008,814.225 987.293,816.19 987.577,816.19 987.861,810.876 988.145,810.876 988.429,810.876 988.713,810.876 \n",
       "  988.997,807.942 989.282,807.942 989.566,807.942 989.85,807.942 990.134,813.939 990.418,813.939 990.702,810.742 990.986,816.186 991.271,816.186 991.555,816.186 \n",
       "  991.839,816.186 992.123,803.671 992.407,803.671 992.691,803.671 992.975,803.671 993.26,803.671 993.544,803.671 993.828,814.779 994.112,814.603 994.396,814.603 \n",
       "  994.68,814.603 994.964,814.603 995.249,815.791 995.533,793.377 995.817,793.377 996.101,793.376 996.385,763.65 996.669,763.647 996.953,763.647 997.237,763.173 \n",
       "  997.522,763.173 997.806,763.418 998.09,763.418 998.374,813.769 998.658,813.769 998.942,814.806 999.226,814.806 999.511,814.806 999.795,814.806 1000.08,814.806 \n",
       "  1000.36,814.806 1000.65,812.027 1000.93,812.027 1001.22,812.027 1001.5,812.027 1001.78,816.185 1002.07,816.185 1002.35,813.358 1002.64,813.358 1002.92,804.396 \n",
       "  1003.2,813.785 1003.49,813.785 1003.77,793.447 1004.06,793.447 1004.34,793.447 1004.63,793.447 1004.91,789.467 1005.19,789.467 1005.48,782.376 1005.76,782.376 \n",
       "  1006.05,809.658 1006.33,809.659 1006.61,809.659 1006.9,815.509 1007.18,815.509 1007.47,815.509 1007.75,815.509 1008.03,816 1008.32,816 1008.6,816 \n",
       "  1008.89,816.146 1009.17,816.146 1009.46,816.146 1009.74,816.146 1010.02,815.463 1010.31,815.953 1010.59,815.953 1010.88,815.35 1011.16,806.978 1011.44,806.978 \n",
       "  1011.73,797.765 1012.01,797.765 1012.3,768.416 1012.58,768.416 1012.87,811.651 1013.15,800.46 1013.43,800.458 1013.72,800.458 1014,761.029 1014.29,761.029 \n",
       "  1014.57,761.029 1014.85,761.029 1015.14,815.532 1015.42,815.533 1015.71,815.533 1015.99,805.962 1016.27,805.962 1016.56,805.963 1016.84,813.485 1017.13,814.62 \n",
       "  1017.41,814.62 1017.7,814.62 1017.98,814.62 1018.26,810.646 1018.55,810.646 1018.83,816.18 1019.12,816.18 1019.4,816.18 1019.68,816.18 1019.97,815.999 \n",
       "  1020.25,815.999 1020.54,815.999 1020.82,815.999 1021.11,813.534 1021.39,813.534 1021.67,815.491 1021.96,813.245 1022.24,812.669 1022.53,812.669 1022.81,812.085 \n",
       "  1023.09,784.593 1023.38,804.825 1023.66,804.825 1023.95,808.053 1024.23,808.053 1024.51,810.327 1024.8,810.327 1025.08,810.326 1025.37,810.326 1025.65,795.839 \n",
       "  1025.94,801.145 1026.22,803.656 1026.5,803.656 1026.79,814.147 1027.07,805.576 1027.36,805.576 1027.64,816.189 1027.92,816.189 1028.21,800.691 1028.49,800.691 \n",
       "  1028.78,800.691 1029.06,800.691 1029.35,800.691 1029.63,800.691 1029.91,800.691 1030.2,800.691 1030.48,800.691 1030.77,800.69 1031.05,796.915 1031.33,796.915 \n",
       "  1031.62,811.699 1031.9,816.139 1032.19,816.139 1032.47,816.139 1032.75,833.658 1033.04,833.658 1033.32,833.658 1033.61,833.658 1033.89,833.658 1034.18,833.657 \n",
       "  1034.46,813.295 1034.74,813.295 1035.03,764.718 1035.31,788.567 1035.6,788.567 1035.88,807.391 1036.16,809.966 1036.45,811.821 1036.73,811.821 1037.02,813.944 \n",
       "  1037.3,803.09 1037.59,803.09 1037.87,803.09 1038.15,803.09 1038.44,793.884 1038.72,793.884 1039.01,793.883 1039.29,698.652 1039.57,698.652 1039.86,621.099 \n",
       "  1040.14,621.099 1040.43,621.099 1040.71,621.099 1041,621.099 1041.28,613.768 1041.56,653.958 1041.85,671.736 1042.13,671.739 1042.42,671.739 1042.7,621.491 \n",
       "  1042.98,621.491 1043.27,629.169 1043.55,629.169 1043.84,530.702 1044.12,530.702 1044.4,530.695 1044.69,530.695 1044.97,197.519 1045.26,197.514 1045.54,87.9763 \n",
       "  1045.83,87.9763 1046.11,292.168 1046.39,969.131 1046.68,969.136 1046.96,1158.8 1047.25,1158.8 1047.53,759.748 1047.81,759.745 1048.1,759.745 1048.38,759.745 \n",
       "  1048.67,759.745 1048.95,759.745 1049.24,759.745 1049.52,759.745 1049.8,759.745 1050.09,759.745 1050.37,759.745 1050.66,759.745 1050.94,759.745 1051.22,759.758 \n",
       "  1051.51,789.374 1051.79,789.374 1052.08,789.374 1052.36,789.374 1052.64,821.884 1052.93,821.884 1053.21,821.884 1053.5,821.884 1053.78,1383.78 1054.07,1322.04 \n",
       "  1054.35,1322.04 1054.63,1263.09 1054.92,1263.09 1055.2,1283.98 1055.49,655.465 1055.77,655.465 1056.05,695.553 1056.34,695.553 1056.62,799.089 1056.91,799.094 \n",
       "  1057.19,799.094 1057.48,807.944 1057.76,807.944 1058.04,807.944 1058.33,807.944 1058.61,807.944 1058.9,807.944 1059.18,839.445 1059.46,839.445 1059.75,839.445 \n",
       "  1060.03,839.445 1060.32,810.54 1060.6,810.54 1060.88,816.186 1061.17,815.982 1061.45,815.982 1061.74,812.582 1062.02,812.582 1062.31,812.582 1062.59,812.582 \n",
       "  1062.87,815.772 1063.16,815.772 1063.44,808.432 1063.73,808.432 1064.01,808.432 1064.29,814.141 1064.58,814.141 1064.86,813.861 1065.15,813.861 1065.43,813.861 \n",
       "  1065.72,813.861 1066,813.861 1066.28,816.126 1066.57,815.537 1066.85,815.537 1067.14,814.439 1067.42,813.831 1067.7,813.831 1067.99,813.831 1068.27,813.831 \n",
       "  1068.56,816.162 1068.84,816.162 1069.12,816.162 1069.41,816.162 1069.69,816.17 1069.98,813.748 1070.26,813.748 1070.55,808.938 1070.83,810.159 1071.11,791.665 \n",
       "  1071.4,791.665 1071.68,812.252 1071.97,812.404 1072.25,804.503 1072.53,804.503 1072.82,814.118 1073.1,734.931 1073.39,727.092 1073.67,727.72 1073.96,735.982 \n",
       "  1074.24,735.982 1074.52,745.382 1074.81,700.359 1075.09,700.359 1075.38,700.359 1075.66,700.359 1075.94,646.351 1076.23,646.351 1076.51,788.751 1076.8,788.751 \n",
       "  1077.08,788.753 1077.36,806.212 1077.65,695.057 1077.93,695.057 1078.22,710.871 1078.5,710.871 1078.79,725.53 1079.07,725.53 1079.35,745.558 1079.64,701.019 \n",
       "  1079.92,701.016 1080.21,701.016 1080.49,745.096 1080.77,745.101 1081.06,745.101 1081.34,745.101 1081.63,745.101 1081.91,745.101 1082.2,745.101 1082.48,745.101 \n",
       "  1082.76,707.956 1083.05,707.957 1083.33,707.957 1083.62,747.543 1083.9,666.061 1084.18,605.337 1084.47,605.334 1084.75,605.335 1085.04,661.655 1085.32,661.655 \n",
       "  1085.61,684.683 1085.89,684.683 1086.17,646.688 1086.46,591.213 1086.74,676.542 1087.03,676.542 1087.31,676.542 1087.59,676.542 1087.88,643.375 1088.16,643.375 \n",
       "  1088.45,732.599 1088.73,732.599 1089.01,702.416 1089.3,702.416 1089.58,702.416 1089.87,702.416 1090.15,702.416 1090.44,702.416 1090.72,702.416 1091,702.416 \n",
       "  1091.29,703.176 1091.57,703.177 1091.86,724.749 1092.14,724.749 1092.42,703.636 1092.71,703.636 1092.99,632.836 1093.28,568.076 1093.56,568.076 1093.85,506.789 \n",
       "  1094.13,506.789 1094.41,553.777 1094.7,553.777 1094.98,553.774 1095.27,487.966 1095.55,483.798 1095.83,483.79 1096.12,483.79 1096.4,438.56 1096.69,455.381 \n",
       "  1096.97,500.081 1097.25,560.538 1097.54,574.254 1097.82,567.104 1098.11,567.104 1098.39,693.216 1098.68,693.216 1098.96,693.216 1099.24,693.216 1099.53,693.216 \n",
       "  1099.81,693.216 1100.1,704.272 1100.38,704.272 1100.66,704.272 1100.95,704.272 1101.23,704.272 1101.52,704.272 1101.8,704.272 1102.09,820.265 1102.37,820.265 \n",
       "  1102.65,776.806 1102.94,776.806 1103.22,803.838 1103.51,802.922 1103.79,802.922 1104.07,814.122 1104.36,814.122 1104.64,814.122 1104.93,814.122 1105.21,805.566 \n",
       "  1105.49,805.566 1105.78,815.976 1106.06,814.217 1106.35,814.217 1106.63,814.217 1106.92,814.217 1107.2,795.071 1107.48,810.107 1107.77,810.107 1108.05,1400.49 \n",
       "  1108.34,1400.49 1108.62,1376 1108.9,1376 1109.19,1376 1109.47,1376 1109.76,1376 1110.04,1376 1110.33,1345.17 1110.61,1345.17 1110.89,1345.17 \n",
       "  1111.18,1345.17 1111.46,1345.17 1111.75,1345.17 1112.03,1345.17 1112.31,1345.17 1112.6,1345.16 1112.88,1329.13 1113.17,1329.13 1113.45,1329.11 1113.73,1307.76 \n",
       "  1114.02,1339.57 1114.3,1324.25 1114.59,1266.37 1114.87,1266.37 1115.16,1252.95 1115.44,1252.95 1115.72,1252.95 1116.01,1258.94 1116.29,1258.94 1116.58,1258.94 \n",
       "  1116.86,1258.94 1117.14,1299.26 1117.43,1299.27 1117.71,1299.27 1118,1299.27 1118.28,1299.27 1118.57,1340.52 1118.85,1340.52 1119.13,1340.52 1119.42,1340.52 \n",
       "  1119.7,1340.52 1119.99,1398.98 1120.27,1398.99 1120.55,1398.99 1120.84,1423.99 1121.12,1424 1121.41,1424 1121.69,1424 1121.97,1436.48 1122.26,1436.48 \n",
       "  1122.54,1436.49 1122.83,1445.72 1123.11,841.371 1123.4,841.371 1123.68,825.777 1123.96,813.892 1124.25,813.892 1124.53,813.892 1124.82,800.3 1125.1,800.3 \n",
       "  1125.38,816.133 1125.67,816.133 1125.95,816.133 1126.24,811.601 1126.52,815.317 1126.81,815.317 1127.09,814.013 1127.37,814.013 1127.66,811.511 1127.94,811.511 \n",
       "  1128.23,811.511 1128.51,811.511 1128.79,811.511 1129.08,811.511 1129.36,811.511 1129.65,814.576 1129.93,814.576 1130.22,815.529 1130.5,815.529 1130.78,816.19 \n",
       "  1131.07,816.19 1131.35,809.974 1131.64,809.974 1131.92,809.974 1132.2,809.974 1132.49,789.403 1132.77,789.403 1133.06,789.403 1133.34,789.403 1133.62,789.407 \n",
       "  1133.91,815.885 1134.19,815.885 1134.48,815.885 1134.76,815.885 1135.05,815.885 1135.33,807.829 1135.61,807.827 1135.9,807.827 1136.18,807.827 1136.47,807.827 \n",
       "  1136.75,807.827 1137.03,807.827 1137.32,807.827 1137.6,807.827 1137.89,813.141 1138.17,813.141 1138.46,813.141 1138.74,813.141 1139.02,790.33 1139.31,790.33 \n",
       "  1139.59,769.188 1139.88,769.188 1140.16,769.186 1140.44,766.645 1140.73,766.645 1141.01,766.645 1141.3,766.645 1141.58,806.281 1141.86,806.281 1142.15,811.793 \n",
       "  1142.43,810.224 1142.72,813.341 1143,813.341 1143.29,813.341 1143.57,756.107 1143.85,782.404 1144.14,782.404 1144.42,774.371 1144.71,774.371 1144.99,774.371 \n",
       "  1145.27,774.371 1145.56,740.417 1145.84,740.417 1146.13,786.572 1146.41,786.572 1146.7,788.502 1146.98,805.989 1147.26,812.915 1147.55,812.915 1147.83,815.963 \n",
       "  1148.12,815.963 1148.4,815.963 1148.68,815.963 1148.97,788.808 1149.25,788.802 1149.54,788.802 1149.82,788.802 1150.1,788.802 1150.39,793.095 1150.67,793.095 \n",
       "  1150.96,795.113 1151.24,795.113 1151.53,811.847 1151.81,811.848 1152.09,811.848 1152.38,811.848 1152.66,811.848 1152.95,811.848 1153.23,811.848 1153.51,811.848 \n",
       "  1153.8,811.848 1154.08,815.788 1154.37,815.788 1154.65,814.649 1154.94,814.649 1155.22,814.649 1155.5,814.649 1155.79,814.649 1156.07,814.649 1156.36,814.649 \n",
       "  1156.64,814.649 1156.92,814.649 1157.21,802.44 1157.49,802.44 1157.78,802.44 1158.06,802.44 1158.34,802.44 1158.63,802.44 1158.91,768.512 1159.2,768.505 \n",
       "  1159.48,768.505 1159.77,812.087 1160.05,812.087 1160.33,812.087 1160.62,812.087 1160.9,812.087 1161.19,742.412 1161.47,722.885 1161.75,722.885 1162.04,710.643 \n",
       "  1162.32,668.413 1162.61,668.413 1162.89,764.97 1163.18,779.083 1163.46,793.569 1163.74,805.396 1164.03,805.396 1164.31,814.967 1164.6,811.819 1164.88,811.819 \n",
       "  1165.16,814.68 1165.45,814.68 1165.73,816.088 1166.02,816.088 1166.3,816.088 1166.58,816.088 1166.87,809.1 1167.15,809.1 1167.44,809.1 1167.72,809.1 \n",
       "  1168.01,809.1 1168.29,809.1 1168.57,814.718 1168.86,814.718 1169.14,814.718 1169.43,814.157 1169.71,816.16 1169.99,816.16 1170.28,811.538 1170.56,815.752 \n",
       "  1170.85,815.752 1171.13,815.752 1171.42,815.752 1171.7,815.752 1171.98,816.064 1172.27,816.064 1172.55,816.064 1172.84,816.064 1173.12,814.8 1173.4,814.8 \n",
       "  1173.69,802.152 1173.97,802.148 1174.26,802.148 1174.54,802.148 1174.83,792.685 1175.11,792.874 1175.39,792.874 1175.68,795.605 1175.96,795.605 1176.25,803.635 \n",
       "  1176.53,803.635 1176.81,803.635 1177.1,1402.1 1177.38,1402.1 1177.67,1376.86 1177.95,1376.86 1178.23,708.13 1178.52,708.13 1178.8,1364.92 1179.09,1364.92 \n",
       "  1179.37,744.602 1179.66,765.747 1179.94,765.747 1180.22,765.742 1180.51,716.393 1180.79,716.393 1181.08,652.908 1181.36,682.162 1181.64,686.818 1181.93,686.818 \n",
       "  1182.21,686.818 1182.5,812.522 1182.78,812.491 1183.07,813.701 1183.35,815.194 1183.63,815.194 1183.92,816.178 1184.2,783.855 1184.49,690.471 1184.77,714.183 \n",
       "  1185.05,714.183 1185.34,714.181 1185.62,693.538 1185.91,693.538 1186.19,655.381 1186.47,655.399 1186.76,655.399 1187.04,655.393 1187.33,655.393 1187.61,605.77 \n",
       "  1187.9,605.77 1188.18,605.77 1188.46,605.77 1188.75,669.869 1189.03,798.358 1189.32,803.058 1189.6,803.058 1189.88,803.058 1190.17,803.058 1190.45,803.058 \n",
       "  1190.74,803.058 1191.02,808.521 1191.31,808.521 1191.59,814.617 1191.87,813.01 1192.16,813.01 1192.44,813.888 1192.73,821.509 1193.01,813.937 1193.29,813.937 \n",
       "  1193.58,735.183 1193.86,735.183 1194.15,746.181 1194.43,746.181 1194.71,746.181 1195,746.181 1195.28,753.374 1195.57,1416.28 1195.85,1438.8 1196.14,1441.25 \n",
       "  1196.42,1433.93 1196.7,834.309 1196.99,814.656 1197.27,814.656 1197.56,814.656 1197.84,834.326 1198.12,834.326 1198.41,816.367 1198.69,816.367 1198.98,811.703 \n",
       "  1199.26,815.512 1199.55,815.512 1199.83,814.433 1200.11,814.433 1200.4,815.511 1200.68,811.627 1200.97,812.488 1201.25,815.357 1201.53,815.357 1201.82,815.357 \n",
       "  1202.1,815.357 1202.39,815.357 1202.67,815.357 1202.95,693.33 1203.24,693.33 1203.52,740.32 1203.81,715.656 1204.09,715.656 1204.38,715.656 1204.66,715.656 \n",
       "  1204.94,742.575 1205.23,765.804 1205.51,765.804 1205.8,765.804 1206.08,765.804 1206.36,786.394 1206.65,786.394 1206.93,763.036 1207.22,784.733 1207.5,784.733 \n",
       "  1207.79,809.924 1208.07,809.924 1208.35,810.89 1208.64,810.89 1208.92,794.073 1209.21,794.073 1209.49,811.886 1209.77,811.886 1210.06,813.472 1210.34,808.569 \n",
       "  1210.63,789.772 1210.91,789.77 1211.19,789.77 1211.48,794.206 1211.76,794.206 1212.05,794.201 1212.33,776.101 1212.62,776.101 1212.9,800.807 1213.18,800.807 \n",
       "  1213.47,800.807 1213.75,800.807 1214.04,800.807 1214.32,800.807 1214.6,813.852 1214.89,813.852 1215.17,813.852 1215.46,813.852 1215.74,812.999 1216.03,812.999 \n",
       "  1216.31,812.999 1216.59,812.999 1216.88,812.999 1217.16,812.999 1217.45,812.999 1217.73,812.999 1218.01,812.999 1218.3,812.999 1218.58,811.472 1218.87,816.149 \n",
       "  1219.15,816.149 1219.43,810.806 1219.72,810.806 1220,815.839 1220.29,815.839 1220.57,816.186 1220.86,816.186 1221.14,816.186 1221.42,816.186 1221.71,815.66 \n",
       "  1221.99,815.66 1222.28,816.046 1222.56,816.046 1222.84,811.323 1223.13,816.184 1223.41,816.184 1223.7,815.12 1223.98,815.655 1224.27,815.655 1224.55,746.516 \n",
       "  1224.83,770.618 1225.12,771.992 1225.4,816.047 1225.69,816.047 1225.97,816.047 1226.25,816.047 1226.54,816.047 1226.82,816.047 1227.11,816.047 1227.39,816.047 \n",
       "  1227.68,816.047 1227.96,815.963 1228.24,815.963 1228.53,815.963 1228.81,815.963 1229.1,815.963 1229.38,810.459 1229.66,810.459 1229.95,811.446 1230.23,811.446 \n",
       "  1230.52,804.856 1230.8,804.856 1231.08,804.856 1231.37,804.856 1231.65,804.856 1231.94,804.856 1232.22,804.856 1232.51,804.856 1232.79,815.622 1233.07,815.622 \n",
       "  1233.36,810.301 1233.64,810.301 1233.93,810.301 1234.21,810.301 1234.49,792.167 1234.78,792.167 1235.06,792.167 1235.35,792.167 1235.63,792.167 1235.92,792.167 \n",
       "  1236.2,781.342 1236.48,781.342 1236.77,781.342 1237.05,781.342 1237.34,798.928 1237.62,798.928 1237.9,815.396 1238.19,815.396 1238.47,815.265 1238.76,815.264 \n",
       "  1239.04,815.264 1239.32,812.324 1239.61,812.324 1239.89,779.1 1240.18,695.876 1240.46,695.876 1240.75,729.956 1241.03,729.956 1241.31,692.359 1241.6,692.359 \n",
       "  1241.88,692.359 1242.17,692.348 1242.45,595.069 1242.73,595.069 1243.02,720.865 1243.3,720.865 1243.59,720.865 1243.87,720.865 1244.16,720.865 1244.44,731.805 \n",
       "  1244.72,773.573 1245.01,773.573 1245.29,773.341 1245.58,773.341 1245.86,785.984 1246.14,785.984 1246.43,785.984 1246.71,785.984 1247,795.097 1247.28,815.353 \n",
       "  1247.56,815.353 1247.85,815.353 1248.13,815.353 1248.42,815.353 1248.7,815.353 1248.99,815.353 1249.27,815.055 1249.55,815.055 1249.84,813.762 1250.12,813.762 \n",
       "  1250.41,813.762 1250.69,813.762 1250.97,812.483 1251.26,812.483 1251.54,812.483 1251.83,812.483 1252.11,795.538 1252.4,768.988 1252.68,770.454 1252.96,742.259 \n",
       "  1253.25,742.255 1253.53,721.284 1253.82,721.284 1254.1,682.413 1254.38,682.413 1254.67,682.411 1254.95,629.049 1255.24,536.717 1255.52,536.717 1255.8,575.437 \n",
       "  1256.09,575.437 1256.37,575.437 1256.66,575.437 1256.94,575.437 1257.23,575.437 1257.51,719.825 1257.79,719.825 1258.08,719.825 1258.36,719.825 1258.65,719.825 \n",
       "  1258.93,719.825 1259.21,719.825 1259.5,719.825 1259.78,767.754 1260.07,749.48 1260.35,749.48 1260.64,749.48 1260.92,749.48 1261.2,790.597 1261.49,790.601 \n",
       "  1261.77,790.601 1262.06,786.858 1262.34,786.86 1262.62,786.86 1262.91,786.86 1263.19,803.713 1263.48,803.713 1263.76,814.629 1264.04,811.453 1264.33,812.498 \n",
       "  1264.61,812.498 1264.9,812.498 1265.18,812.498 1265.47,807.286 1265.75,813.86 1266.03,813.86 1266.32,815.752 1266.6,815.644 1266.89,815.644 1267.17,815.644 \n",
       "  1267.45,815.644 1267.74,815.644 1268.02,814.342 1268.31,814.342 1268.59,802.55 1268.88,802.55 1269.16,802.55 1269.44,802.55 1269.73,806.203 1270.01,806.203 \n",
       "  1270.3,806.203 1270.58,806.203 1270.86,806.203 1271.15,806.203 1271.43,806.203 1271.72,806.204 1272,809.856 1272.29,809.856 1272.57,812.59 1272.85,812.59 \n",
       "  1273.14,812.59 1273.42,812.59 1273.71,812.59 1273.99,812.59 1274.27,812.59 1274.56,812.59 1274.84,812.59 1275.13,762.886 1275.41,762.886 1275.69,805.702 \n",
       "  1275.98,808.267 1276.26,808.751 1276.55,808.751 1276.83,808.751 1277.12,808.751 1277.4,798.686 1277.68,798.686 1277.97,798.686 1278.25,798.686 1278.54,812.231 \n",
       "  1278.82,812.231 1279.1,804.953 1279.39,804.953 1279.67,800.947 1279.96,800.947 1280.24,797.911 1280.53,797.911 1280.81,741.211 1281.09,741.21 1281.38,767.467 \n",
       "  1281.66,767.467 1281.95,704.911 1282.23,607.5 1282.51,607.5 1282.8,607.5 1283.08,813.69 1283.37,813.69 1283.65,789.87 1283.93,789.87 1284.22,789.644 \n",
       "  1284.5,789.644 1284.79,772.933 1285.07,761.165 1285.36,761.165 1285.64,761.165 1285.92,792.492 1286.21,792.492 1286.49,792.492 1286.78,760.464 1287.06,749.746 \n",
       "  1287.34,760.465 1287.63,765.179 1287.91,756.576 1288.2,756.576 1288.48,756.577 1288.77,766.354 1289.05,764.665 1289.33,766.886 1289.62,783.006 1289.9,792.516 \n",
       "  1290.19,792.516 1290.47,792.516 1290.75,767.82 1291.04,802.294 1291.32,794.15 1291.61,794.15 1291.89,808.24 1292.17,808.24 1292.46,785.564 1292.74,785.564 \n",
       "  1293.03,785.559 1293.31,771.601 1293.6,771.601 1293.88,798.723 1294.16,798.723 1294.45,729.772 1294.73,729.772 1295.02,726.571 1295.3,685.127 1295.58,685.127 \n",
       "  1295.87,1363.35 1296.15,1363.35 1296.44,1316.25 1296.72,1316.24 1297.01,1239.7 1297.29,1239.7 1297.57,623.357 1297.86,623.354 1298.14,623.354 1298.43,1261.4 \n",
       "  1298.71,1261.4 1298.99,491.549 1299.28,491.549 1299.56,491.549 1299.85,491.549 1300.13,733.017 1300.41,733.017 1300.7,733.017 1300.98,733.017 1301.27,733.017 \n",
       "  1301.55,660.072 1301.84,660.072 1302.12,637.148 1302.4,637.148 1302.69,637.143 1302.97,751.065 1303.26,751.065 1303.54,751.071 1303.82,781.323 1304.11,781.323 \n",
       "  1304.39,797.488 1304.68,794.754 1304.96,794.754 1305.25,792.375 1305.53,792.375 1305.81,792.375 1306.1,792.375 1306.38,792.375 1306.67,792.375 1306.95,792.375 \n",
       "  1307.23,811.003 1307.52,811.003 1307.8,795.674 1308.09,795.674 1308.37,795.674 1308.65,795.674 1308.94,795.674 1309.22,795.674 1309.51,816.178 1309.79,812.075 \n",
       "  1310.08,812.075 1310.36,812.073 1310.64,769.513 1310.93,727.853 1311.21,727.853 1311.5,727.853 1311.78,727.853 1312.06,727.853 1312.35,727.853 1312.63,772.534 \n",
       "  1312.92,772.534 1313.2,733.784 1313.49,733.784 1313.77,733.784 1314.05,733.784 1314.34,733.784 1314.62,733.784 1314.91,748.67 1315.19,748.67 1315.47,746.856 \n",
       "  1315.76,746.856 1316.04,755.39 1316.33,1425.59 1316.61,1425.59 1316.9,1370.79 1317.18,1370.79 1317.46,1370.79 1317.75,1370.79 1318.03,1371.45 1318.32,1371.45 \n",
       "  1318.6,1377.02 1318.88,1377.02 1319.17,1377.02 1319.45,1377.02 1319.74,1359.21 1320.02,1359.21 1320.3,734.705 1320.59,734.705 1320.87,691.511 1321.16,691.511 \n",
       "  1321.44,732.433 1321.73,725.026 1322.01,725.028 1322.29,758.016 1322.58,758.016 1322.86,758.016 1323.15,758.016 1323.43,722.996 1323.71,722.993 1324,722.993 \n",
       "  1324.28,722.993 1324.57,722.993 1324.85,722.993 1325.14,694.273 1325.42,694.273 1325.7,1363.13 1325.99,1363.13 1326.27,1363.13 1326.56,1376.26 1326.84,1376.26 \n",
       "  1327.12,1362.81 1327.41,1362.81 1327.69,1394.75 1327.98,1394.75 1328.26,1394.75 1328.54,1394.75 1328.83,1394.75 1329.11,1394.75 1329.4,1394.75 1329.68,1379.02 \n",
       "  1329.97,1379.02 1330.25,1395.65 1330.53,1395.65 1330.82,1395.65 1331.1,1395.65 1331.39,1395.65 1331.67,1395.65 1331.95,1395.64 1332.24,1331.43 1332.52,1331.43 \n",
       "  1332.81,1331.43 1333.09,1331.43 1333.38,1331.43 1333.66,1331.43 1333.94,1331.43 1334.23,1362.36 1334.51,1362.36 1334.8,1362.36 1335.08,1362.36 1335.36,1362.35 \n",
       "  1335.65,690.184 1335.93,1318.72 1336.22,1318.72 1336.5,1318.72 1336.78,1296.42 1337.07,1296.42 1337.35,1296.42 1337.64,1296.42 1337.92,1296.42 1338.21,1313.04 \n",
       "  1338.49,1287.12 1338.77,1287.12 1339.06,756.967 1339.34,776.668 1339.63,776.668 1339.91,765.115 1340.19,765.115 1340.48,765.115 1340.76,765.115 1341.05,797.938 \n",
       "  1341.33,797.938 1341.62,797.938 1341.9,797.938 1342.18,798.622 1342.47,798.622 1342.75,798.622 1343.04,798.622 1343.32,808.581 1343.6,808.581 1343.89,808.581 \n",
       "  1344.17,808.581 1344.46,816.115 1344.74,816.115 1345.02,812.43 1345.31,812.43 1345.59,802.158 1345.88,672.754 1346.16,672.754 1346.45,707.485 1346.73,707.489 \n",
       "  1347.01,707.489 1347.3,758.146 1347.58,758.152 1347.87,758.152 1348.15,758.152 1348.43,758.152 1348.72,744.026 1349,744.026 1349.29,744.026 1349.57,744.026 \n",
       "  1349.86,744.026 1350.14,744.026 1350.42,744.026 1350.71,744.026 1350.99,778.391 1351.28,778.391 1351.56,778.391 1351.84,778.391 1352.13,727.846 1352.41,727.836 \n",
       "  1352.7,727.836 1352.98,817.599 1353.26,817.599 1353.55,838.107 1353.83,838.107 1354.12,838.107 1354.4,838.107 1354.69,813.643 1354.97,813.643 1355.25,813.643 \n",
       "  1355.54,813.643 1355.82,815.833 1356.11,810.931 1356.39,810.931 1356.67,810.931 1356.96,810.931 1357.24,811.004 1357.53,813.233 1357.81,813.233 1358.1,792.38 \n",
       "  1358.38,792.38 1358.66,792.495 1358.95,792.615 1359.23,790.166 1359.52,790.166 1359.8,790.331 1360.08,790.331 1360.37,790.503 1360.65,790.503 1360.94,787.63 \n",
       "  1361.22,801.072 1361.51,815.621 1361.79,815.652 1362.07,815.652 1362.36,815.679 1362.64,815.679 1362.93,815.708 1363.21,815.708 1363.49,795.946 1363.78,795.946 \n",
       "  1364.06,795.773 1364.35,795.618 1364.63,795.618 1364.91,795.455 1365.2,774.147 1365.48,773.969 1365.77,799.983 1366.05,799.983 1366.34,800.713 1366.62,800.713 \n",
       "  1366.9,756.096 1367.19,756.096 1367.47,756.096 1367.76,756.096 1368.04,756.096 1368.32,756.096 1368.61,756.096 1368.89,756.096 1369.18,756.096 1369.46,756.096 \n",
       "  1369.75,699.4 1370.03,774.484 1370.31,774.484 1370.6,774.484 1370.88,774.484 1371.17,774.484 1371.45,794.27 1371.73,792.267 1372.02,792.267 1372.3,792.267 \n",
       "  1372.59,792.267 1372.87,773.41 1373.15,773.411 1373.44,773.414 1373.72,773.416 1374.01,773.416 1374.29,773.417 1374.58,768.234 1374.86,768.234 1375.14,768.241 \n",
       "  1375.43,811.532 1375.71,811.532 1376,811.532 1376.28,811.532 1376.56,814.452 1376.85,814.452 1377.13,814.453 1377.42,814.453 1377.7,814.453 1377.99,761.021 \n",
       "  1378.27,761.021 1378.55,761.021 1378.84,761.021 1379.12,761.021 1379.41,761.021 1379.69,736.44 1379.97,736.44 1380.26,736.44 1380.54,736.44 1380.83,736.44 \n",
       "  1381.11,736.44 1381.39,736.44 1381.68,736.44 1381.96,736.44 1382.25,795.336 1382.53,795.336 1382.82,795.336 1383.1,795.336 1383.38,798.055 1383.67,788.991 \n",
       "  1383.95,788.991 1384.24,785.647 1384.52,785.647 1384.8,785.647 1385.09,785.647 1385.37,785.647 1385.66,785.647 1385.94,785.647 1386.23,785.647 1386.51,811.447 \n",
       "  1386.79,811.447 1387.08,811.448 1387.36,811.448 1387.65,811.448 1387.93,811.448 1388.21,806.46 1388.5,806.46 1388.78,806.461 1389.07,813.46 1389.35,811.272 \n",
       "  1389.63,811.277 1389.92,811.277 1390.2,811.282 1390.49,811.279 1390.77,814.737 1391.06,807.663 1391.34,807.663 1391.62,799.786 1391.91,801.622 1392.19,801.622 \n",
       "  1392.48,801.622 1392.76,801.622 1393.04,801.622 1393.33,801.622 1393.61,801.622 1393.9,805.171 1394.18,805.171 1394.47,813.176 1394.75,813.176 1395.03,805.28 \n",
       "  1395.32,805.276 1395.6,805.276 1395.89,764.154 1396.17,792.049 1396.45,792.05 1396.74,805.075 1397.02,805.075 1397.31,805.075 1397.59,805.075 1397.87,801.523 \n",
       "  1398.16,813.36 1398.44,797.047 1398.73,797.047 1399.01,797.047 1399.3,797.047 1399.58,797.047 1399.86,797.047 1400.15,797.047 1400.43,797.047 1400.72,770.219 \n",
       "  1401,763.41 1401.28,763.41 1401.57,763.411 1401.85,763.411 1402.14,793.477 1402.42,793.477 1402.71,792.557 1402.99,792.557 1403.27,792.558 1403.56,792.558 \n",
       "  1403.84,801.268 1404.13,801.268 1404.41,806.16 1404.69,813.205 1404.98,813.205 1405.26,807.239 1405.55,816.163 1405.83,816.134 1406.11,816.134 1406.4,816.134 \n",
       "  1406.68,816.134 1406.97,816.134 1407.25,813.283 1407.54,813.283 1407.82,805.422 1408.1,805.422 1408.39,811.918 1408.67,811.918 1408.96,811.918 1409.24,811.918 \n",
       "  1409.52,811.918 1409.81,798.889 1410.09,798.889 1410.38,794.839 1410.66,794.839 1410.95,765.883 1411.23,765.883 1411.51,766.492 1411.8,745.08 1412.08,731.899 \n",
       "  1412.37,731.899 1412.65,731.899 1412.93,815.078 1413.22,815.078 1413.5,815.09 1413.79,815.09 1414.07,797.254 1414.36,797.254 1414.64,797.254 1414.92,797.254 \n",
       "  1415.21,797.254 1415.49,797.254 1415.78,797.254 1416.06,797.251 1416.34,757.966 1416.63,720.54 1416.91,720.54 1417.2,720.54 1417.48,720.539 1417.76,710.834 \n",
       "  1418.05,710.834 1418.33,710.834 1418.62,710.834 1418.9,701.29 1419.19,701.29 1419.47,701.29 1419.75,701.633 1420.04,701.633 1420.32,702.039 1420.61,702.039 \n",
       "  1420.89,737.725 1421.17,782.128 1421.46,782.128 1421.74,747.137 1422.03,747.137 1422.31,748.609 1422.6,748.609 1422.88,749.408 1423.16,749.408 1423.45,754.831 \n",
       "  1423.73,754.831 1424.02,755.662 1424.3,755.662 1424.58,752.294 1424.87,752.294 1425.15,753.288 1425.44,753.288 1425.72,754.221 1426,755.246 1426.29,749.132 \n",
       "  1426.57,750.404 1426.86,750.404 1427.14,751.587 1427.43,751.587 1427.71,751.587 1427.99,751.587 1428.28,751.587 1428.56,751.587 1428.85,777.508 1429.13,707.576 \n",
       "  1429.41,707.573 1429.7,707.573 1429.98,762.758 1430.27,799.444 1430.55,799.453 1430.84,799.453 1431.12,799.453 1431.4,799.453 1431.69,788.865 1431.97,788.865 \n",
       "  1432.26,788.866 1432.54,816.069 1432.82,814.729 1433.11,814.719 1433.39,816.188 1433.68,798.004 1433.96,798.004 1434.24,770.775 1434.53,770.775 1434.81,788.228 \n",
       "  1435.1,805.472 1435.38,805.472 1435.67,805.472 1435.95,805.472 1436.23,811.202 1436.52,811.202 1436.8,811.204 1437.09,820.453 1437.37,820.339 1437.65,820.335 \n",
       "  1437.94,807.354 1438.22,807.355 1438.51,807.355 1438.79,806.843 1439.08,811.557 1439.36,816.189 1439.64,815.96 1439.93,806.253 1440.21,806.275 1440.5,806.275 \n",
       "  1440.78,810.762 1441.06,810.978 1441.35,1423.03 1441.63,1423.03 1441.92,1417.54 1442.2,654.226 1442.48,654.226 1442.77,657.926 1443.05,657.924 1443.34,690.39 \n",
       "  1443.62,690.39 1443.91,680.714 1444.19,754.837 1444.47,754.837 1444.76,797.523 1445.04,797.524 1445.33,797.524 1445.61,769.977 1445.89,769.977 1446.18,796.097 \n",
       "  1446.46,796.097 1446.75,809.097 1447.03,809.097 1447.32,809.097 1447.6,809.097 1447.88,809.097 1448.17,809.097 1448.45,749.01 1448.74,749.003 1449.02,749.003 \n",
       "  1449.3,709.834 1449.59,761.016 1449.87,758.957 1450.16,758.957 1450.44,706.881 1450.72,687.15 1451.01,687.15 1451.29,643.587 1451.58,643.587 1451.86,693.423 \n",
       "  1452.15,796.439 1452.43,796.496 1452.71,796.496 1453,797.65 1453.28,797.65 1453.57,797.65 1453.85,808.848 1454.13,808.848 1454.42,808.848 1454.7,808.848 \n",
       "  1454.99,808.848 1455.27,808.848 1455.56,814.668 1455.84,814.668 1456.12,814.668 1456.41,814.668 1456.69,815.939 1456.98,789.291 1457.26,789.29 1457.54,789.29 \n",
       "  1457.83,789.29 1458.11,757.15 1458.4,757.15 1458.68,797.415 1458.97,797.415 1459.25,797.413 1459.53,774.799 1459.82,774.799 1460.1,774.799 1460.39,774.799 \n",
       "  1460.67,774.795 1460.95,758.486 1461.24,758.485 1461.52,758.485 1461.81,758.485 1462.09,758.485 1462.37,758.485 1462.66,758.485 1462.94,781.233 1463.23,744.035 \n",
       "  1463.51,744.035 1463.8,744.035 1464.08,744.035 1464.36,744.035 1464.65,744.035 1464.93,793.59 1465.22,793.59 1465.5,793.59 1465.78,793.59 1466.07,793.59 \n",
       "  1466.35,793.59 1466.64,793.59 1466.92,793.59 1467.21,816.123 1467.49,816.1 1467.77,815.877 1468.06,760.319 1468.34,731.941 1468.63,707.109 1468.91,707.108 \n",
       "  1469.19,707.108 1469.48,707.108 1469.76,707.108 1470.05,707.278 1470.33,707.278 1470.61,715.302 1470.9,715.304 1471.18,715.304 1471.47,715.304 1471.75,715.304 \n",
       "  1472.04,715.303 1472.32,715.543 1472.6,715.543 1472.89,617.55 1473.17,617.55 1473.46,618.448 1473.74,683.265 1474.02,644.733 1474.31,644.733 1474.59,446.114 \n",
       "  1474.88,676.654 1475.16,676.654 1475.45,676.654 1475.73,676.654 1476.01,676.654 1476.3,676.654 1476.58,676.654 1476.87,676.654 1477.15,734.703 1477.43,734.705 \n",
       "  1477.72,734.705 1478,734.705 1478.29,734.705 1478.57,734.705 1478.85,736.338 1479.14,736.338 1479.42,736.338 1479.71,736.335 1479.99,697.413 1480.28,723.274 \n",
       "  1480.56,567.72 1480.84,624.89 1481.13,624.89 1481.41,600.386 1481.7,600.385 1481.98,600.385 1482.26,600.385 1482.55,600.385 1482.83,600.385 1483.12,600.385 \n",
       "  1483.4,600.385 1483.69,600.385 1483.97,600.385 1484.25,600.385 1484.54,633.662 1484.82,633.668 1485.11,633.668 1485.39,633.668 1485.67,633.668 1485.96,633.668 \n",
       "  1486.24,633.668 1486.53,572.223 1486.81,572.223 1487.09,654.369 1487.38,654.369 1487.66,654.369 1487.95,744.949 1488.23,764.469 1488.52,764.47 1488.8,764.47 \n",
       "  1489.08,778.008 1489.37,778.01 1489.65,778.01 1489.94,801.417 1490.22,800.732 1490.5,800.732 1490.79,778.636 1491.07,802.931 1491.36,802.931 1491.64,797.713 \n",
       "  1491.93,797.713 1492.21,797.713 1492.49,797.713 1492.78,745.936 1493.06,771.65 1493.35,771.65 1493.63,771.65 1493.91,771.65 1494.2,771.65 1494.48,771.65 \n",
       "  1494.77,771.624 1495.05,771.624 1495.33,786.458 1495.62,786.433 1495.9,786.433 1496.19,786.406 1496.47,786.381 1496.76,786.381 1497.04,786.355 1497.32,786.355 \n",
       "  1497.61,783.783 1497.89,801.33 1498.18,801.33 1498.46,801.314 1498.74,801.314 1499.03,801.296 1499.31,777.303 1499.6,745.485 1499.88,745.485 1500.17,745.451 \n",
       "  1500.45,745.451 1500.73,727.448 1501.02,727.448 1501.3,688.433 1501.59,688.393 1501.87,688.393 1502.15,724.518 1502.44,724.518 1502.72,724.272 1503.01,724.272 \n",
       "  1503.29,742.114 1503.58,744.336 1503.86,757.135 1504.14,757.143 1504.43,757.143 1504.71,757.143 1505,743.194 1505.28,743.194 1505.56,772.814 1505.85,772.814 \n",
       "  1506.13,770.441 1506.42,770.441 1506.7,768.337 1506.98,768.337 1507.27,796.655 1507.55,796.655 1507.84,768.34 1508.12,767.156 1508.41,767.156 1508.69,767.156 \n",
       "  1508.97,767.156 1509.26,740.062 1509.54,740.062 1509.83,740.062 1510.11,740.062 1510.39,740.062 1510.68,740.062 1510.96,740.062 1511.25,740.062 1511.53,740.062 \n",
       "  1511.82,740.034 1512.1,727.487 1512.38,727.487 1512.67,727.47 1512.95,727.463 1513.24,727.463 1513.52,727.458 1513.8,727.458 1514.09,793.116 1514.37,793.12 \n",
       "  1514.66,793.12 1514.94,793.123 1515.22,793.123 1515.51,770.033 1515.79,757.204 1516.08,757.204 1516.36,757.214 1516.65,757.214 1516.93,757.214 1517.21,757.214 \n",
       "  1517.5,757.214 1517.78,757.214 1518.07,757.214 1518.35,757.214 1518.63,751.579 1518.92,776.457 1519.2,776.457 1519.49,801.667 1519.77,801.329 1520.06,802.499 \n",
       "  1520.34,802.499 1520.62,803.212 1520.91,803.212 1521.19,803.212 1521.48,800.166 1521.76,800.166 1522.04,800.166 1522.33,813.145 1522.61,813.145 1522.9,815.131 \n",
       "  1523.18,815.131 1523.46,807.015 1523.75,807.015 1524.03,807.015 1524.32,807.015 1524.6,807.015 1524.89,807.048 1525.17,807.048 1525.45,807.064 1525.74,807.064 \n",
       "  1526.02,807.064 1526.31,816.032 1526.59,816.032 1526.87,816.032 1527.16,816.032 1527.44,797.603 1527.73,797.569 1528.01,797.569 1528.3,795.467 1528.58,795.447 \n",
       "  1528.86,795.447 1529.15,814.61 1529.43,814.61 1529.72,813.487 1530,813.487 1530.28,813.487 1530.57,813.47 1530.85,813.47 1531.14,813.47 1531.42,815.831 \n",
       "  1531.7,815.831 1531.99,815.829 1532.27,815.829 1532.56,815.825 1532.84,815.825 1533.13,815.823 1533.41,815.823 1533.69,815.821 1533.98,815.821 1534.26,815.821 \n",
       "  1534.55,811.533 1534.83,811.533 1535.11,794.264 1535.4,806.927 1535.68,806.927 1535.97,800.856 1536.25,800.856 1536.54,800.891 1536.82,800.891 1537.1,800.912 \n",
       "  1537.39,800.912 1537.67,800.935 1537.96,800.935 1538.24,813.594 1538.52,793.471 1538.81,784.016 1539.09,784.016 1539.38,812.082 1539.66,812.082 1539.94,802.812 \n",
       "  1540.23,802.812 1540.51,798.914 1540.8,798.914 1541.08,775.755 1541.37,775.755 1541.65,761.607 1541.93,761.607 1542.22,763.025 1542.5,763.025 1542.79,617.357 \n",
       "  1543.07,617.357 1543.35,618.316 1543.64,618.316 1543.92,677.213 1544.21,677.213 1544.49,798.273 1544.78,798.273 1545.06,796.648 1545.34,796.648 1545.63,808.042 \n",
       "  1545.91,808.615 1546.2,808.615 1546.48,816.055 1546.76,816.055 1547.05,815.942 1547.33,815.942 1547.62,816.025 1547.9,816.025 1548.19,816.049 1548.47,816.049 \n",
       "  1548.75,816.069 1549.04,816.069 1549.32,816.089 1549.61,816.089 1549.89,815.892 1550.17,815.892 1550.46,811.386 1550.74,811.386 1551.03,810.929 1551.31,811.05 \n",
       "  1551.59,811.05 1551.88,815.519 1552.16,815.519 1552.45,815.519 1552.73,801.939 1553.02,780.253 1553.3,784.788 1553.58,784.788 1553.87,773.589 1554.15,773.589 \n",
       "  1554.44,773.588 1554.72,773.588 1555,773.588 1555.29,773.588 1555.57,767.213 1555.86,767.257 1556.14,767.257 1556.43,767.342 1556.71,767.342 1556.99,767.502 \n",
       "  1557.28,743.454 1557.56,753.312 1557.85,753.312 1558.13,791.991 1558.41,792.045 1558.7,792.096 1558.98,792.147 1559.27,792.147 1559.55,787.021 1559.83,787.021 \n",
       "  1560.12,787.08 1560.4,787.08 1560.69,808.036 1560.97,808.036 1561.26,807.037 1561.54,807.037 1561.82,807.073 1562.11,807.073 1562.39,807.112 1562.68,807.112 \n",
       "  1562.96,807.152 1563.24,807.152 1563.53,787.714 1563.81,787.714 1564.1,743.713 1564.38,743.713 1564.67,706.988 1564.95,706.988 1565.23,772.092 1565.52,772.092 \n",
       "  1565.8,772.177 1566.09,772.177 1566.37,745.727 1566.65,745.727 1566.94,745.727 1567.22,745.727 1567.51,745.727 1567.79,700.521 1568.07,700.521 1568.36,703.232 \n",
       "  1568.64,703.232 1568.93,703.232 1569.21,703.232 1569.5,696.356 1569.78,754.658 1570.06,754.658 1570.35,783.711 1570.63,783.887 1570.92,783.887 1571.2,800.026 \n",
       "  1571.48,815.321 1571.77,815.321 1572.05,815.334 1572.34,815.334 1572.62,804.029 1572.91,804.029 1573.19,804.077 1573.47,804.077 1573.76,808.568 1574.04,808.607 \n",
       "  1574.33,808.607 1574.61,808.607 1574.89,808.646 1575.18,808.683 1575.46,808.683 1575.75,808.722 1576.03,808.722 1576.31,815.926 1576.6,815.94 1576.88,815.94 \n",
       "  1577.17,811.531 1577.45,811.531 1577.74,806.091 1578.02,793.176 1578.3,793.176 1578.59,769.83 1578.87,769.83 1579.16,769.83 1579.44,763.402 1579.72,763.402 \n",
       "  1580.01,763.402 1580.29,762.818 1580.58,762.818 1580.86,789.237 1581.15,809.828 1581.43,809.828 1581.71,808.328 1582,808.328 1582.28,793.945 1582.57,793.875 \n",
       "  1582.85,793.875 1583.13,741.433 1583.42,741.433 1583.7,651.875 1583.99,651.875 1584.27,617.445 1584.55,617.254 1584.84,601.39 1585.12,601.39 1585.41,617.631 \n",
       "  1585.69,664.703 1585.98,664.703 1586.26,664.703 1586.54,664.711 1586.83,816.187 1587.11,816.187 1587.4,796.965 1587.68,789.772 1587.96,789.772 1588.25,789.772 \n",
       "  1588.53,789.772 1588.82,789.772 1589.1,789.772 1589.39,789.772 1589.67,782.223 1589.95,782.223 1590.24,787.657 1590.52,787.657 1590.81,769.417 1591.09,769.417 \n",
       "  1591.37,813.509 1591.66,813.509 1591.94,809.66 1592.23,809.66 1592.51,815.146 1592.79,815.146 1593.08,814.889 1593.36,814.889 1593.65,816.068 1593.93,816.068 \n",
       "  1594.22,816.068 1594.5,816.068 1594.78,815.139 1595.07,815.139 1595.35,814.991 1595.64,814.991 1595.92,813.455 1596.2,806.724 1596.49,815.759 1596.77,815.759 \n",
       "  1597.06,814.959 1597.34,814.959 1597.63,815.101 1597.91,815.101 1598.19,810.833 1598.48,810.833 1598.76,812.272 1599.05,812.536 1599.33,791.392 1599.61,791.392 \n",
       "  1599.9,792.081 1600.18,792.081 1600.47,792.766 1600.75,792.766 1601.04,792.766 1601.32,646.976 1601.6,646.976 1601.89,769.447 1602.17,769.449 1602.46,769.449 \n",
       "  1602.74,773.372 1603.02,781.537 1603.31,785.882 1603.59,785.882 1603.88,784.57 1604.16,784.815 1604.44,784.815 1604.73,784.815 1605.01,779.478 1605.3,771.44 \n",
       "  1605.58,771.44 1605.87,745.445 1606.15,745.445 1606.43,745.445 1606.72,745.445 1607,753.66 1607.29,753.66 1607.57,790.159 1607.85,790.159 1608.14,790.159 \n",
       "  1608.42,790.159 1608.71,790.159 1608.99,765.587 1609.28,685.985 1609.56,685.985 1609.84,525.674 1610.13,525.674 1610.41,525.674 1610.7,525.674 1610.98,525.674 \n",
       "  1611.26,442.202 1611.55,270.677 1611.83,270.677 1612.12,289.591 1612.4,356.151 1612.68,356.153 1612.97,356.153 1613.25,356.169 1613.54,523.219 1613.82,441.199 \n",
       "  1614.11,441.199 1614.39,441.196 1614.67,446.314 1614.96,446.314 1615.24,446.314 1615.53,493.945 1615.81,449.352 1616.09,449.352 1616.38,449.352 1616.66,700.506 \n",
       "  1616.95,700.518 1617.23,700.518 1617.52,700.52 1617.8,781.886 1618.08,804.582 1618.37,804.582 1618.65,804.582 1618.94,804.582 1619.22,813.486 1619.5,813.486 \n",
       "  1619.79,813.486 1620.07,813.486 1620.36,813.486 1620.64,813.486 1620.92,813.486 1621.21,813.486 1621.49,813.486 1621.78,813.486 1622.06,813.488 1622.35,813.488 \n",
       "  1622.63,815.476 1622.91,815.476 1623.2,815.476 1623.48,811.678 1623.77,811.678 1624.05,810.114 1624.33,807.569 1624.62,811.443 1624.9,811.443 1625.19,808.98 \n",
       "  1625.47,808.98 1625.76,808.98 1626.04,808.98 1626.32,808.98 1626.61,812.546 1626.89,812.546 1627.18,815.968 1627.46,816.175 1627.74,816.175 1628.03,815.921 \n",
       "  1628.31,814.769 1628.6,814.769 1628.88,806.586 1629.16,806.586 1629.45,808.317 1629.73,808.317 1630.02,808.317 1630.3,750.863 1630.59,728.713 1630.87,728.713 \n",
       "  1631.15,756.016 1631.44,756.016 1631.72,780.321 1632.01,780.321 1632.29,797.347 1632.57,797.347 1632.86,808.591 1633.14,810.949 1633.43,810.949 1633.71,810.949 \n",
       "  1634,810.949 1634.28,816.189 1634.56,816.05 1634.85,816.05 1635.13,808.301 1635.42,808.301 1635.7,798.186 1635.98,798.185 1636.27,798.185 1636.55,798.185 \n",
       "  1636.84,798.185 1637.12,807.315 1637.4,807.316 1637.69,807.316 1637.97,807.316 1638.26,812.491 1638.54,815.818 1638.83,815.818 1639.11,815.818 1639.39,815.727 \n",
       "  1639.68,815.727 1639.96,815.727 1640.25,815.727 1640.53,815.727 1640.81,813.398 1641.1,813.398 1641.38,813.398 1641.67,813.398 1641.95,794.458 1642.24,768.521 \n",
       "  1642.52,768.521 1642.8,696.396 1643.09,696.387 1643.37,696.387 1643.66,728.562 1643.94,754.019 1644.22,754.019 1644.51,759.767 1644.79,759.769 1645.08,759.769 \n",
       "  1645.36,794.015 1645.65,794.015 1645.93,794.015 1646.21,724.888 1646.5,720.783 1646.78,754.108 1647.07,797.78 1647.35,797.78 1647.63,797.78 1647.92,811.419 \n",
       "  1648.2,811.419 1648.49,795.719 1648.77,795.719 1649.05,795.719 1649.34,795.719 1649.62,795.719 1649.91,795.719 1650.19,816.086 1650.48,816.086 1650.76,816.086 \n",
       "  1651.04,816.086 1651.33,813.07 1651.61,813.07 1651.9,815.784 1652.18,815.784 1652.46,815.784 1652.75,815.784 1653.03,815.784 1653.32,815.784 1653.6,815.118 \n",
       "  1653.89,815.118 1654.17,781.579 1654.45,781.579 1654.74,781.579 1655.02,781.579 1655.31,770.407 1655.59,770.409 1655.87,806.881 1656.16,806.882 1656.44,806.882 \n",
       "  1656.73,813.052 1657.01,815.964 1657.29,815.964 1657.58,815.964 1657.86,815.964 1658.15,815.536 1658.43,808.844 1658.72,808.844 1659,808.844 1659.28,807.981 \n",
       "  1659.57,792.335 1659.85,777.05 1660.14,777.191 1660.42,777.191 1660.7,791.07 1660.99,804.759 1661.27,804.865 1661.56,805.007 1661.84,810.277 1662.13,810.156 \n",
       "  1662.41,810.156 1662.69,800.289 1662.98,800.289 1663.26,786.821 1663.55,784.319 1663.83,797.608 1664.11,797.609 1664.4,797.609 1664.68,797.609 1664.97,797.609 \n",
       "  1665.25,797.609 1665.53,797.609 1665.82,797.609 1666.1,815.547 1666.39,815.547 1666.67,815.547 1666.96,815.547 1667.24,813.844 1667.52,816.181 1667.81,816.189 \n",
       "  1668.09,816.186 1668.38,801.589 1668.66,797.708 1668.94,782.736 1669.23,796.57 1669.51,796.571 1669.8,803.196 1670.08,803.196 1670.37,815.34 1670.65,814.931 \n",
       "  1670.93,814.928 1671.22,814.928 1671.5,814.928 1671.79,814.928 1672.07,814.928 1672.35,814.928 1672.64,814.928 1672.92,794.309 1673.21,794.309 1673.49,794.309 \n",
       "  1673.77,789.991 1674.06,789.991 1674.34,816.155 1674.63,813.522 1674.91,816.016 1675.2,816.016 1675.48,816.016 1675.76,816.016 1676.05,816.016 1676.33,816.016 \n",
       "  1676.62,809.012 1676.9,809.012 1677.18,809.049 1677.47,809.049 1677.75,809.049 1678.04,809.049 1678.32,794.063 1678.61,794.078 1678.89,794.078 1679.17,794.078 \n",
       "  1679.46,796.253 1679.74,769.528 1680.03,769.528 1680.31,808.369 1680.59,808.369 1680.88,808.369 1681.16,808.369 1681.45,784.23 1681.73,784.23 1682.01,746.364 \n",
       "  1682.3,746.364 1682.58,815.321 1682.87,815.321 1683.15,815.116 1683.44,815.116 1683.72,811.738 1684,811.738 1684.29,806.022 1684.57,812.121 1684.86,812.121 \n",
       "  1685.14,780.254 1685.42,741.402 1685.71,770.441 1685.99,801.973 1686.28,812.674 1686.56,812.674 1686.85,812.674 1687.13,812.674 1687.41,812.674 1687.7,812.674 \n",
       "  1687.98,807.498 1688.27,807.493 1688.55,746.587 1688.83,782.019 1689.12,782.019 1689.4,804.082 1689.69,787.008 1689.97,805.675 1690.26,805.675 1690.54,805.674 \n",
       "  1690.82,805.674 1691.11,747.176 1691.39,751.456 1691.68,750.046 1691.96,750.046 1692.24,710.146 1692.53,710.146 1692.81,751.5 1693.1,751.5 1693.38,781.274 \n",
       "  1693.66,781.274 1693.95,803.398 1694.23,809.671 1694.52,809.671 1694.8,812.827 1695.09,812.829 1695.37,816.166 1695.65,816.166 1695.94,816.166 1696.22,816.166 \n",
       "  1696.51,816.166 1696.79,816.166 1697.07,816.166 1697.36,685.026 1697.64,685.026 1697.93,685.026 1698.21,775.017 1698.5,789.581 1698.78,786.466 1699.06,794.593 \n",
       "  1699.35,809.364 1699.63,809.364 1699.92,803.056 1700.2,803.056 1700.48,786.424 1700.77,786.424 1701.05,786.424 1701.34,804.434 1701.62,804.434 1701.9,804.314 \n",
       "  1702.19,804.314 1702.47,804.314 1702.76,806.378 1703.04,806.378 1703.33,798.597 1703.61,798.597 1703.89,812.099 1704.18,812.099 1704.46,812.1 1704.75,812.1 \n",
       "  1705.03,815.805 1705.31,815.805 1705.6,813.557 1705.88,813.556 1706.17,813.556 1706.45,813.556 1706.74,796.581 1707.02,792.713 1707.3,792.713 1707.59,792.713 \n",
       "  1707.87,832.764 1708.16,832.764 1708.44,832.764 1708.72,832.764 1709.01,829.842 1709.29,829.842 1709.58,829.838 1709.86,809.164 1710.14,809.164 1710.43,815.484 \n",
       "  1710.71,815.484 1711,815.519 1711.28,815.519 1711.57,815.519 1711.85,815.519 1712.13,815.519 1712.42,823.107 1712.7,823.107 1712.99,767.862 1713.27,787.406 \n",
       "  1713.55,787.406 1713.84,787.406 1714.12,787.406 1714.41,816.18 1714.69,816.18 1714.98,816.143 1715.26,809.002 1715.54,809.002 1715.83,809.001 1716.11,809.001 \n",
       "  1716.4,809.001 1716.68,809.001 1716.96,806.928 1717.25,806.928 1717.53,815.495 1717.82,804.259 1718.1,804.259 1718.38,804.259 1718.67,804.259 1718.95,806.475 \n",
       "  1719.24,772.388 1719.52,790.149 1719.81,790.15 1720.09,790.15 1720.37,790.15 1720.66,790.15 1720.94,787.066 1721.23,776.778 1721.51,1262.77 1721.79,1262.6 \n",
       "  1722.08,1262.6 1722.36,1262.6 1722.65,1262.6 1722.93,1262.6 1723.22,1282.08 1723.5,1282.08 1723.78,770.512 1724.07,736.166 1724.35,814.292 1724.64,814.305 \n",
       "  1724.92,811.585 1725.2,811.585 1725.49,811.585 1725.77,798.45 1726.06,808.474 1726.34,810.912 1726.62,812.11 1726.91,812.11 1727.19,788.017 1727.48,752.858 \n",
       "  1727.76,733.599 1728.05,732.676 1728.33,667.368 1728.61,667.443 1728.9,667.443 1729.18,667.443 1729.47,667.443 1729.75,667.897 1730.03,772.561 1730.32,774.18 \n",
       "  1730.6,770.5 1730.89,770.5 1731.17,766.307 1731.46,766.307 1731.74,768.373 1732.02,768.373 1732.31,799.444 1732.59,799.444 1732.88,780.149 1733.16,780.149 \n",
       "  1733.44,780.149 1733.73,780.548 1734.01,780.548 1734.3,782.324 1734.58,782.324 1734.87,796.003 1735.15,796.003 1735.43,813.286 1735.72,813.286 1736,768.481 \n",
       "  1736.29,751.476 1736.57,751.473 1736.85,751.473 1737.14,751.483 1737.42,764.34 1737.71,764.34 1737.99,728.862 1738.27,719.938 1738.56,642.888 1738.84,642.888 \n",
       "  1739.13,642.876 1739.41,642.877 1739.7,668.648 1739.98,630.825 1740.26,630.825 1740.55,658.656 1740.83,672.461 1741.12,672.461 1741.4,693.328 1741.68,669.845 \n",
       "  1741.97,669.845 1742.25,706.62 1742.54,706.62 1742.82,710.908 1743.11,710.908 1743.39,746.287 1743.67,746.287 1743.96,757.556 1744.24,760.848 1744.53,760.848 \n",
       "  1744.81,766.667 1745.09,766.756 1745.38,766.84 1745.66,766.84 1745.95,784.45 1746.23,784.576 1746.51,784.576 1746.8,784.576 1747.08,784.576 1747.37,784.576 \n",
       "  1747.65,811.666 1747.94,813.342 1748.22,816.187 1748.5,816.187 1748.79,815.614 1749.07,815.614 1749.36,815.614 1749.64,815.614 1749.92,812.62 1750.21,812.62 \n",
       "  1750.49,816.056 1750.78,810.451 1751.06,810.348 1751.35,810.327 1751.63,810.327 1751.91,810.327 1752.2,810.327 1752.48,815.67 1752.77,815.67 1753.05,815.834 \n",
       "  1753.33,815.6 1753.62,814.841 1753.9,815.943 1754.19,815.943 1754.47,815.943 1754.75,807.695 1755.04,806.68 1755.32,806.68 1755.61,723.672 1755.89,723.623 \n",
       "  1756.18,723.623 1756.46,714.4 1756.74,714.4 1757.03,705.009 1757.31,705.009 1757.6,705.009 1757.88,705.009 1758.16,705.019 1758.45,812.067 1758.73,794.376 \n",
       "  1759.02,794.376 1759.3,791.433 1759.59,791.433 1759.87,808.204 1760.15,806.817 1760.44,806.817 1760.72,799.958 1761.01,799.958 1761.29,799.958 1761.57,803.026 \n",
       "  1761.86,803.026 1762.14,797.149 1762.43,810.533 1762.71,815.769 1762.99,808.761 1763.28,808.761 1763.56,791.962 1763.85,791.962 1764.13,791.962 1764.42,791.962 \n",
       "  1764.7,794.35 1764.98,794.409 1765.27,794.409 1765.55,794.409 1765.84,813.503 1766.12,813.531 1766.4,814.008 1766.69,799.182 1766.97,799.182 1767.26,799.182 \n",
       "  1767.54,799.182 1767.83,807.564 1768.11,807.564 1768.39,815.209 1768.68,815.209 1768.96,815.209 1769.25,814.949 1769.53,814.949 1769.81,814.949 1770.1,814.949 \n",
       "  1770.38,814.949 1770.67,814.949 1770.95,814.949 1771.23,814.949 1771.52,814.949 1771.8,814.949 1772.09,816.019 1772.37,765.433 1772.66,762.537 1772.94,762.537 \n",
       "  1773.22,762.537 1773.51,762.537 1773.79,762.537 1774.08,762.537 1774.36,762.537 1774.64,724.197 1774.93,721.888 1775.21,794.455 1775.5,794.455 1775.78,794.455 \n",
       "  1776.07,789.151 1776.35,789.151 1776.63,804.707 1776.92,814.371 1777.2,795.31 1777.49,802.153 1777.77,807.267 1778.05,807.267 1778.34,807.267 1778.62,807.267 \n",
       "  1778.91,802.301 1779.19,758.056 1779.47,758.056 1779.76,758.056 1780.04,758.056 1780.33,764.629 1780.61,699.585 1780.9,699.585 1781.18,699.588 1781.46,763.113 \n",
       "  1781.75,791.238 1782.03,791.238 1782.32,791.232 1782.6,778.513 1782.88,778.513 1783.17,814.232 1783.45,814.232 1783.74,801.745 1784.02,801.745 1784.31,777.398 \n",
       "  1784.59,777.398 1784.87,777.398 1785.16,777.398 1785.44,770.733 1785.73,770.733 1786.01,796.291 1786.29,794.52 1786.58,794.52 1786.86,790.877 1787.15,790.877 \n",
       "  1787.43,790.877 1787.72,790.877 1788,805.104 1788.28,805.104 1788.57,781.675 1788.85,786.327 1789.14,786.327 1789.42,763.181 1789.7,763.181 1789.99,791.106 \n",
       "  1790.27,791.106 1790.56,791.106 1790.84,791.106 1791.12,777.811 1791.41,835.216 1791.69,835.216 1791.98,816.185 1792.26,816.185 1792.55,815.136 1792.83,814.725 \n",
       "  1793.11,814.725 1793.4,814.286 1793.68,813.752 1793.97,806.85 1794.25,806.85 1794.53,805.89 1794.82,805.89 1795.1,805.89 1795.39,805.89 1795.67,798.823 \n",
       "  1795.96,798.823 1796.24,813.698 1796.52,813.698 1796.81,808.315 1797.09,808.315 1797.38,801.927 1797.66,801.927 1797.94,801.927 1798.23,801.927 1798.51,809.314 \n",
       "  1798.8,814.13 1799.08,814.13 1799.36,816.07 1799.65,816.07 1799.93,811.782 1800.22,811.782 1800.5,815.648 1800.79,815.648 1801.07,770.398 1801.35,770.398 \n",
       "  1801.64,770.468 1801.92,727.591 1802.21,727.591 1802.49,1307.25 1802.77,1376.63 1803.06,1376.63 1803.34,1376.63 1803.63,1376.41 1803.91,1376.41 1804.2,1376.2 \n",
       "  1804.48,1376.2 1804.76,1377.08 1805.05,1377.08 1805.33,1377.29 1805.62,1377.29 1805.9,1377.29 1806.18,1377.29 1806.47,553.481 1806.75,553.481 1807.04,624.058 \n",
       "  1807.32,624.058 1807.6,624.058 1807.89,602.399 1808.17,602.399 1808.46,619.781 1808.74,619.781 1809.03,666.399 1809.31,644.216 1809.59,644.216 1809.88,568.806 \n",
       "  1810.16,568.806 1810.45,570.724 1810.73,570.724 1811.01,571.221 1811.3,571.221 1811.58,572.731 1811.87,573.208 1812.15,573.208 1812.44,597.271 1812.72,611.636 \n",
       "  1813,611.636 1813.29,613.303 1813.57,613.303 1813.86,614.133 1814.14,614.133 1814.42,603.501 1814.71,603.501 1814.99,654.321 1815.28,654.321 1815.56,654.708 \n",
       "  1815.84,654.708 1816.13,655.54 1816.41,610.297 1816.7,610.897 1816.98,610.897 1817.27,611.456 1817.55,611.456 1817.83,790.424 1818.12,812.958 1818.4,812.958 \n",
       "  1818.69,813.01 1818.97,813.01 1819.25,810.48 1819.54,795.863 1819.82,795.863 1820.11,812.299 1820.39,812.299 1820.68,812.496 1820.96,812.496 1821.24,812.561 \n",
       "  1821.53,812.561 1821.81,812.628 1822.1,812.628 1822.38,812.782 1822.66,812.721 1822.95,812.721 1823.23,812.721 1823.52,812.721 1823.8,812.721 1824.08,812.112 \n",
       "  1824.37,815.976 1824.65,815.976 1824.94,815.976 1825.22,815.987 1825.51,815.987 1825.79,815.993 1826.07,815.993 1826.36,815.993 1826.64,815.993 1826.93,815.993 \n",
       "  1827.21,816.137 1827.49,816.137 1827.78,815.474 1828.06,815.85 1828.35,815.897 1828.63,815.929 1828.92,815.929 1829.2,807.517 1829.48,807.517 1829.77,809.004 \n",
       "  1830.05,809.004 1830.34,797.094 1830.62,801.33 1830.9,801.33 1831.19,801.33 1831.47,800.934 1831.76,799.726 1832.04,799.726 1832.33,812.764 1832.61,812.764 \n",
       "  1832.89,812.96 1833.18,812.96 1833.46,812.96 1833.75,812.96 1834.03,815.718 1834.31,815.718 1834.6,815.78 1834.88,815.78 1835.17,729.624 1835.45,729.624 \n",
       "  1835.73,767.048 1836.02,767.048 1836.3,766.51 1836.59,766.51 1836.87,765.977 1837.16,759.971 1837.44,796.868 1837.72,796.51 1838.01,796.152 1838.29,796.152 \n",
       "  1838.58,803.69 1838.86,804.967 1839.14,810.207 1839.43,810.215 1839.71,814.078 1840,808.014 1840.28,791.043 1840.57,1410.17 1840.85,814.842 1841.13,815.522 \n",
       "  1841.42,813.424 1841.7,813.421 1841.99,813.421 1842.27,813.419 1842.55,813.419 1842.84,814.456 1843.12,815.825 1843.41,815.29 1843.69,815.29 1843.97,815.29 \n",
       "  1844.26,814.807 1844.54,814.807 1844.83,772.403 1845.11,772.403 1845.4,772.403 1845.68,772.403 1845.96,776.152 1846.25,769.364 1846.53,764.626 1846.82,764.626 \n",
       "  1847.1,727.143 1847.38,727.143 1847.67,727.038 1847.95,727.038 1848.24,706.436 1848.52,775.85 1848.81,775.805 1849.09,780.479 1849.37,774.789 1849.66,1439.13 \n",
       "  1849.94,1439.13 1850.23,1418.85 1850.51,1418.95 1850.79,1419 1851.08,1419.06 1851.36,1419.06 1851.65,1347.26 1851.93,1287.84 1852.21,1287.84 1852.5,1372.63 \n",
       "  1852.78,1372.63 1853.07,1352.34 1853.35,1352.34 1853.64,1379.58 1853.92,1379.58 1854.2,1348.52 1854.49,1348.52 1854.77,1348.7 1855.06,1348.7 1855.34,1348.79 \n",
       "  1855.62,1348.79 1855.91,1336.57 1856.19,1264.42 1856.48,1264.42 1856.76,1293.7 1857.05,611.325 1857.33,611.325 1857.61,611.566 1857.9,611.566 1858.18,678.058 \n",
       "  1858.47,678.058 1858.75,645.933 1859.03,645.933 1859.32,646.048 1859.6,646.172 1859.89,646.172 1860.17,685.729 1860.45,635.049 1860.74,635.049 1861.02,1219.48 \n",
       "  1861.31,603.886 1861.59,590.259 1861.88,590.259 1862.16,636.302 1862.44,624.386 1862.73,639.299 1863.01,639.299 1863.3,639.299 1863.58,762.475 1863.86,1372.15 \n",
       "  1864.15,829.817 1864.43,815.081 1864.72,815.081 1865,815.097 1865.29,811.363 1865.57,811.363 1865.85,811.516 1866.14,811.516 1866.42,753.53 1866.71,753.53 \n",
       "  1866.99,749.285 1867.27,749.285 1867.56,749.461 1867.84,749.461 1868.13,770.327 1868.41,770.327 1868.69,785.864 1868.98,815.115 1869.26,815.115 1869.55,815.136 \n",
       "  1869.83,816.174 1870.12,816.174 1870.4,815.084 1870.68,815.084 1870.97,798.036 1871.25,798.036 1871.54,797.246 1871.82,804.236 1872.1,804.236 1872.39,804.306 \n",
       "  1872.67,804.306 1872.96,789.87 1873.24,789.87 1873.53,765.552 1873.81,765.552 1874.09,708.172 1874.38,734.154 1874.66,813.519 1874.95,814.774 1875.23,814.774 \n",
       "  1875.51,801.084 1875.8,801.084 1876.08,790.247 1876.37,790.247 1876.65,790.247 1876.94,808.469 1877.22,808.464 1877.5,808.464 1877.79,814.699 1878.07,814.699 \n",
       "  1878.36,806.243 1878.64,806.243 1878.92,806.471 1879.21,806.471 1879.49,790.698 1879.78,800.028 1880.06,814.339 1880.34,814.339 1880.63,815.883 1880.91,815.883 \n",
       "  1881.2,806.472 1881.48,797.777 1881.77,797.777 1882.05,804.198 1882.33,804.198 1882.62,788.022 1882.9,788.022 1883.19,788.022 1883.47,788.022 1883.75,788.022 \n",
       "  1884.04,788.022 1884.32,800.772 1884.61,800.772 1884.89,800.771 1885.18,766.637 1885.46,766.637 1885.74,767.794 1886.03,767.794 1886.31,761.937 1886.6,782.477 \n",
       "  1886.88,782.477 1887.16,782.477 1887.45,756.43 1887.73,756.905 1888.02,756.905 1888.3,756.9 1888.58,756.9 1888.87,741.315 1889.15,741.315 1889.44,783.721 \n",
       "  1889.72,795.691 1890.01,795.691 1890.29,805.967 1890.57,801.981 1890.86,801.981 1891.14,801.97 1891.43,801.97 1891.71,798.233 1891.99,798.233 1892.28,798.222 \n",
       "  1892.56,798.222 1892.85,812.022 1893.13,812.842 1893.42,812.842 1893.7,809.697 1893.98,809.697 1894.27,809.697 1894.55,809.697 1894.84,809.697 1895.12,809.697 \n",
       "  1895.4,809.697 1895.69,809.697 1895.97,813.422 1896.26,816.078 1896.54,816.078 1896.82,814.12 1897.11,814.12 1897.39,814.12 1897.68,811.713 1897.96,811.713 \n",
       "  1898.25,811.352 1898.53,811.352 1898.81,790.675 1899.1,790.675 1899.38,802.747 1899.67,802.747 1899.95,804.885 1900.23,804.309 1900.52,804.309 1900.8,803.729 \n",
       "  1901.09,803.729 1901.37,803.729 1901.66,803.729 1901.94,796.284 1902.22,796.284 1902.51,796.282 1902.79,796.282 1903.08,738.035 1903.36,738.035 1903.64,738.035 \n",
       "  1903.93,738.035 1904.21,738.04 1904.5,764.409 1904.78,764.409 1905.06,738.186 1905.35,738.197 1905.63,738.197 1905.92,772.841 1906.2,794.182 1906.49,794.182 \n",
       "  1906.77,777.281 1907.05,777.281 1907.34,756.92 1907.62,756.91 1907.91,744.078 1908.19,744.078 1908.47,752.598 1908.76,752.598 1909.04,752.598 1909.33,752.598 \n",
       "  1909.61,811.493 1909.9,795.907 1910.18,795.907 1910.46,792.479 1910.75,792.479 1911.03,792.479 1911.32,792.48 1911.6,792.48 1911.88,811.525 1912.17,811.526 \n",
       "  1912.45,811.526 1912.74,815.763 1913.02,809.004 1913.3,809.781 1913.59,809.781 1913.87,814.742 1914.16,814.742 1914.44,814.742 1914.73,814.742 1915.01,814.742 \n",
       "  1915.29,814.742 1915.58,814.742 1915.86,814.742 1916.15,814.742 1916.43,814.742 1916.71,798.539 1917,798.539 1917.28,798.539 1917.57,798.531 1917.85,798.531 \n",
       "  1918.14,798.517 1918.42,798.51 1918.7,803.879 1918.99,803.879 1919.27,802.506 1919.56,802.506 1919.84,814.633 1920.12,814.633 1920.41,813.953 1920.69,813.953 \n",
       "  1920.98,813.949 1921.26,813.949 1921.55,802.146 1921.83,802.146 1922.11,800.836 1922.4,800.836 1922.68,775.499 1922.97,788.47 1923.25,788.47 1923.53,776.864 \n",
       "  1923.82,776.864 1924.1,815.189 1924.39,815.823 1924.67,814.604 1924.95,814.604 1925.24,813.572 1925.52,813.572 1925.81,812.17 1926.09,812.17 1926.38,816.175 \n",
       "  1926.66,816.175 1926.94,816.175 1927.23,816.175 1927.51,805.77 1927.8,810.939 1928.08,811.928 1928.36,815.955 1928.65,815.955 1928.93,810.643 1929.22,803.566 \n",
       "  1929.5,803.566 1929.79,802.6 1930.07,782.332 1930.35,666.455 1930.64,704.923 1930.92,704.923 1931.21,674.039 1931.49,674.038 1931.77,674.038 1932.06,717.274 \n",
       "  1932.34,717.274 1932.63,709.352 1932.91,664.215 1933.19,696.742 1933.48,696.742 1933.76,688.307 1934.05,688.307 1934.33,778.811 1934.62,778.811 1934.9,778.816 \n",
       "  1935.18,763.342 1935.47,763.342 1935.75,763.342 1936.04,763.342 1936.32,764.658 1936.6,764.658 1936.89,790.931 1937.17,790.931 1937.46,808.25 1937.74,808.25 \n",
       "  1938.03,808.25 1938.31,808.25 1938.59,808.25 1938.88,808.25 1939.16,803.185 1939.45,803.185 1939.73,812.087 1940.01,816.187 1940.3,816.187 1940.58,816.187 \n",
       "  1940.87,816.187 1941.15,816.041 1941.43,816.041 1941.72,809.732 1942,809.732 1942.29,801.63 1942.57,801.629 1942.86,801.629 1943.14,801.629 1943.42,810.159 \n",
       "  1943.71,810.159 1943.99,810.159 1944.28,809.429 1944.56,809.429 1944.84,809.429 1945.13,809.429 1945.41,809.429 1945.7,771.46 1945.98,790.956 1946.27,790.956 \n",
       "  1946.55,779.859 1946.83,779.859 1947.12,779.857 1947.4,779.857 1947.69,785.544 1947.97,801.573 1948.25,774.919 1948.54,774.919 1948.82,743.093 1949.11,769.766 \n",
       "  1949.39,769.767 1949.67,769.767 1949.96,786.452 1950.24,786.452 1950.53,790.397 1950.81,808.637 1951.1,808.638 1951.38,808.638 1951.66,808.638 1951.95,808.638 \n",
       "  1952.23,808.638 1952.52,808.638 1952.8,808.638 1953.08,783.831 1953.37,783.831 1953.65,794.211 1953.94,794.211 1954.22,784.997 1954.51,784.997 1954.79,797.839 \n",
       "  1955.07,793.288 1955.36,793.288 1955.64,809.079 1955.93,809.079 1956.21,807.856 1956.49,807.856 1956.78,812.244 1957.06,812.244 1957.35,808.48 1957.63,776.923 \n",
       "  1957.91,776.923 1958.2,776.923 1958.48,776.923 1958.77,776.923 1959.05,776.923 1959.34,776.923 1959.62,776.923 1959.9,776.923 1960.19,811.82 1960.47,811.82 \n",
       "  1960.76,811.821 1961.04,806.168 1961.32,806.168 1961.61,806.167 1961.89,794.236 1962.18,794.236 1962.46,786.949 1962.75,805.827 1963.03,799.248 1963.31,757.88 \n",
       "  1963.6,757.88 1963.88,751.647 1964.17,751.647 1964.45,719.751 1964.73,719.751 1965.02,704.367 1965.3,704.367 1965.59,704.336 1965.87,704.336 1966.15,704.311 \n",
       "  1966.44,704.311 1966.72,759.366 1967.01,759.366 1967.29,1392.24 1967.58,1392.24 1967.86,804.047 1968.14,1344.47 1968.43,1344.47 1968.71,1344.47 1969,1344.47 \n",
       "  1969.28,1344.47 1969.56,1344.47 1969.85,1344.47 1970.13,1344.47 1970.42,1344.47 1970.7,1344.47 1970.99,1344.47 1971.27,1344.47 1971.55,1385.13 1971.84,1385.13 \n",
       "  1972.12,1379.02 1972.41,1297.51 1972.69,1297.51 1972.97,1292.44 1973.26,1292.44 1973.54,1290.53 1973.83,1290.53 1974.11,1335.07 1974.4,1335.07 1974.68,1335.07 \n",
       "  1974.96,1335.07 1975.25,1335.07 1975.53,1335.07 1975.82,1342.38 1976.1,1342.38 1976.38,1342.38 1976.67,1286.77 1976.95,1286.77 1977.24,1286.76 1977.52,1247.72 \n",
       "  1977.8,1247.72 1978.09,1323.1 1978.37,1323.1 1978.66,1322.01 1978.94,1322.01 1979.23,1321.91 1979.51,1321.91 1979.79,1365.75 1980.08,1372.37 1980.36,1372.37 \n",
       "  1980.65,1372.37 1980.93,1411.9 1981.21,1411.9 1981.5,1387.26 1981.78,1317.79 1982.07,1317.79 1982.35,1311.34 1982.64,1331.38 1982.92,1331.39 1983.2,1331.39 \n",
       "  1983.49,808.837 1983.77,808.837 1984.06,802.953 1984.34,802.953 1984.62,779.515 1984.91,746.806 1985.19,746.806 1985.48,746.801 1985.76,746.801 1986.04,746.798 \n",
       "  1986.33,746.798 1986.61,746.798 1986.9,815.711 1987.18,815.711 1987.47,815.198 1987.75,815.198 1988.03,810.022 1988.32,813.841 1988.6,798.372 1988.89,798.372 \n",
       "  1989.17,798.372 1989.45,793.239 1989.74,776.657 1990.02,776.657 1990.31,776.657 1990.59,774.284 1990.88,774.284 1991.16,812.638 1991.44,812.638 1991.73,801.091 \n",
       "  1992.01,801.091 1992.3,809.691 1992.58,809.691 1992.86,800.589 1993.15,800.443 1993.43,780.181 1993.72,780.181 1994,733.927 1994.28,733.927 1994.57,730.93 \n",
       "  1994.85,730.934 1995.14,777.108 1995.42,777.108 1995.71,786.677 1995.99,786.677 1996.27,786.645 1996.56,786.645 1996.84,786.635 1997.13,786.635 1997.41,786.625 \n",
       "  1997.69,786.625 1997.98,776.206 1998.26,776.206 1998.55,804.66 1998.83,804.66 1999.12,804.641 1999.4,701.989 1999.68,792.787 1999.97,792.787 2000.25,808.195 \n",
       "  2000.54,808.195 2000.82,808.195 2001.1,802.438 2001.39,802.438 2001.67,775.744 2001.96,775.744 2002.24,768.232 2002.52,768.232 2002.81,768.232 2003.09,768.232 \n",
       "  2003.38,768.232 2003.66,768.232 2003.95,768.232 2004.23,785.073 2004.51,785.073 2004.8,785.073 2005.08,785.073 2005.37,752.954 2005.65,752.954 2005.93,731.221 \n",
       "  2006.22,731.221 2006.5,764.497 2006.79,764.497 2007.07,798.71 2007.36,798.71 2007.64,764.786 2007.92,764.782 2008.21,764.782 2008.49,764.782 2008.78,764.782 \n",
       "  2009.06,758.213 2009.34,758.213 2009.63,751.631 2009.91,751.631 2010.2,739.398 2010.48,739.398 2010.76,730.091 2011.05,730.088 2011.33,730.088 2011.62,722.167 \n",
       "  2011.9,722.167 2012.19,719.798 2012.47,719.798 2012.75,799.164 2013.04,799.164 2013.32,799.164 2013.61,799.164 2013.89,799.164 2014.17,799.164 2014.46,758.197 \n",
       "  2014.74,715.221 2015.03,715.221 2015.31,715.221 2015.6,715.221 2015.88,734.197 2016.16,734.197 2016.45,706.244 2016.73,706.244 2017.02,647.552 2017.3,639.416 \n",
       "  2017.58,634.374 2017.87,680.191 2018.15,680.193 2018.44,680.193 2018.72,680.193 2019.01,680.193 2019.29,680.193 2019.57,680.193 2019.86,680.193 2020.14,680.193 \n",
       "  2020.43,761.874 2020.71,603.84 2020.99,603.84 2021.28,677.351 2021.56,677.351 2021.85,712.951 2022.13,712.951 2022.41,712.951 2022.7,728.859 2022.98,755.57 \n",
       "  2023.27,755.57 2023.55,779.407 2023.84,771.909 2024.12,742.546 2024.4,742.546 2024.69,782.821 2024.97,782.821 2025.26,791.225 2025.54,791.225 2025.82,805.62 \n",
       "  2026.11,813.127 2026.39,810.563 2026.68,810.563 2026.96,793.729 2027.25,735.731 2027.53,735.731 2027.81,716.445 2028.1,716.445 2028.38,684.703 2028.67,684.703 \n",
       "  2028.95,761.778 2029.23,761.778 2029.52,761.778 2029.8,761.778 2030.09,761.778 2030.37,761.778 2030.65,761.778 2030.94,761.778 2031.22,761.778 2031.51,761.784 \n",
       "  2031.79,815.372 2032.08,815.372 2032.36,815.372 2032.64,815.372 2032.93,812.316 2033.21,812.316 2033.5,802.058 2033.78,802.058 2034.06,802.058 2034.35,802.056 \n",
       "  2034.63,802.056 2034.92,803.511 2035.2,803.512 2035.49,810.037 2035.77,810.566 2036.05,810.566 2036.34,811.101 2036.62,811.101 2036.91,811.101 2037.19,811.101 \n",
       "  2037.47,811.101 2037.76,811.101 2038.04,809.734 2038.33,809.734 2038.61,659.633 2038.89,659.633 2039.18,748.823 2039.46,748.823 2039.75,709.433 2040.03,703.302 \n",
       "  2040.32,697.546 2040.6,724.713 2040.88,724.713 2041.17,721.939 2041.45,727.139 2041.74,727.14 2042.02,727.14 2042.3,686.501 2042.59,686.501 2042.87,762.462 \n",
       "  2043.16,790.47 2043.44,790.47 2043.73,790.47 2044.01,790.47 2044.29,790.469 2044.58,684.234 2044.86,684.234 2045.15,684.234 2045.43,684.234 2045.71,674.741 \n",
       "  2046,674.741 2046.28,661.88 2046.57,661.88 2046.85,661.88 2047.13,661.88 2047.42,673.139 2047.7,673.139 2047.99,673.138 2048.27,657.688 2048.56,657.688 \n",
       "  2048.84,682.271 2049.12,711.382 2049.41,711.382 2049.69,756.609 2049.98,780.223 2050.26,780.223 2050.54,780.223 2050.83,791.06 2051.11,791.06 2051.4,808.13 \n",
       "  2051.68,808.13 2051.97,807.198 2052.25,807.198 2052.53,807.198 2052.82,807.198 2053.1,807.198 2053.39,807.198 2053.67,788.451 2053.95,810.91 2054.24,810.91 \n",
       "  2054.52,809.004 2054.81,809.004 2055.09,813.772 2055.37,813.772 2055.66,813.773 2055.94,815.38 2056.23,815.38 2056.51,802.929 2056.8,802.929 2057.08,797.79 \n",
       "  2057.36,797.79 2057.65,1403.08 2057.93,1403.07 2058.22,1403.07 2058.5,1403.07 2058.78,767.127 2059.07,767.127 2059.35,798.537 2059.64,798.537 2059.92,798.537 \n",
       "  2060.21,798.537 2060.49,758.113 2060.77,757.98 2061.06,757.98 2061.34,763.459 2061.63,763.434 2061.91,763.434 2062.19,763.423 2062.48,763.423 2062.76,797.432 \n",
       "  2063.05,812.486 2063.33,812.486 2063.62,812.487 2063.9,812.487 2064.18,814.063 2064.47,814.063 2064.75,815.19 2065.04,815.19 2065.32,764.194 2065.6,764.194 \n",
       "  2065.89,798.556 2066.17,798.556 2066.46,798.572 2066.74,798.572 2067.02,798.592 2067.31,798.592 2067.59,798.612 2067.88,798.612 2068.16,811.989 2068.45,811.989 \n",
       "  2068.73,811.989 2069.01,815.814 2069.3,815.814 2069.58,811.561 2069.87,811.561 2070.15,805.679 2070.43,790.066 2070.72,801.785 2071,806.544 2071.29,810.629 \n",
       "  2071.57,810.629 2071.86,810.628 2072.14,810.626 2072.42,810.626 2072.71,789.619 2072.99,789.619 2073.28,771.87 2073.56,771.87 2073.84,771.87 2074.13,771.87 \n",
       "  2074.41,771.783 2074.7,777.682 2074.98,777.682 2075.26,753.339 2075.55,753.339 2075.83,721.182 2076.12,721.182 2076.4,721.182 2076.69,814.932 2076.97,814.932 \n",
       "  2077.25,815.21 2077.54,815.21 2077.82,815.437 2078.11,815.437 2078.39,813.147 2078.67,816.177 2078.96,815.919 2079.24,727.83 2079.53,727.83 2079.81,727.831 \n",
       "  2080.1,744.401 2080.38,740.859 2080.66,758.175 2080.95,809.039 2081.23,809.039 2081.52,809.039 2081.8,809.039 2082.08,809.039 2082.37,809.039 2082.65,813.255 \n",
       "  2082.94,813.255 2083.22,805.641 2083.5,805.641 2083.79,783.452 2084.07,783.449 2084.36,783.449 2084.64,783.44 2084.93,783.44 2085.21,783.433 2085.49,783.433 \n",
       "  2085.78,783.425 2086.06,783.416 2086.35,783.416 2086.63,783.404 2086.91,783.404 2087.2,783.404 2087.48,800.916 2087.77,800.916 2088.05,800.916 2088.34,800.916 \n",
       "  2088.62,800.916 2088.9,800.916 2089.19,775.801 2089.47,775.801 2089.76,750.681 2090.04,732.616 2090.32,732.616 2090.61,732.616 2090.89,732.616 2091.18,722.064 \n",
       "  2091.46,722.064 2091.74,722.064 2092.03,724.274 2092.31,811.86 2092.6,805.935 2092.88,778.634 2093.17,778.631 2093.45,781.651 2093.73,781.651 2094.02,781.649 \n",
       "  2094.3,773.626 2094.59,773.626 2094.87,800.979 2095.15,800.979 2095.44,800.979 2095.72,800.979 2096.01,800.979 2096.29,800.979 2096.58,800.976 2096.86,758.268 \n",
       "  2097.14,758.268 2097.43,736.733 2097.71,736.733 2098,736.733 2098.28,736.733 2098.56,811.13 2098.85,840.453 2099.13,840.45 2099.42,840.45 2099.7,812.793 \n",
       "  2099.98,812.793 2100.27,805.887 2100.55,805.887 2100.84,820.342 2101.12,813.395 2101.41,810.315 2101.69,810.315 2101.97,809.186 2102.26,809.186 2102.54,809.186 \n",
       "  2102.83,809.186 2103.11,809.186 2103.39,815.371 2103.68,815.371 2103.96,815.371 2104.25,815.371 2104.53,816.039 2104.82,816.039 2105.1,810.022 2105.38,810.022 \n",
       "  2105.67,806.224 2105.95,806.224 2106.24,792.194 2106.52,792.193 2106.8,803.615 2107.09,803.615 2107.37,815.781 2107.66,815.781 2107.94,815.145 2108.22,815.145 \n",
       "  2108.51,815.146 2108.79,789.942 2109.08,789.942 2109.36,789.942 2109.65,789.942 2109.93,789.942 2110.21,789.942 2110.5,789.945 2110.78,789.945 2111.07,812.36 \n",
       "  2111.35,815.1 2111.63,815.1 2111.92,843.511 2112.2,843.511 2112.49,809.334 2112.77,809.335 2113.06,1412 2113.34,1412 2113.62,1419.24 2113.91,1419.24 \n",
       "  2114.19,1419.24 2114.48,1419.24 2114.76,1423.39 2115.04,1430.68 2115.33,815.777 2115.61,799.717 2115.9,799.717 2116.18,799.717 2116.47,807.751 2116.75,807.751 \n",
       "  2117.03,807.751 2117.32,815.975 2117.6,787.69 2117.89,787.69 2118.17,787.69 2118.45,787.69 2118.74,787.69 2119.02,787.69 2119.31,815.96 2119.59,811.654 \n",
       "  2119.87,802.088 2120.16,802.088 2120.44,802.088 2120.73,787.123 2121.01,766.753 2121.3,743.294 2121.58,782.152 2121.86,782.152 2122.15,815.867 2122.43,815.867 \n",
       "  2122.72,815.872 2123,815.872 2123.28,806.232 2123.57,806.232 2123.85,803.125 2124.14,803.125 2124.42,794.147 2124.71,794.147 2124.99,786.303 2125.27,786.303 \n",
       "  2125.56,775.597 2125.84,723.266 2126.13,723.266 2126.41,714.214 2126.69,714.214 2126.98,710.7 2127.26,748.557 2127.55,747.315 2127.83,696.009 2128.11,696.009 \n",
       "  2128.4,696.837 2128.68,729.626 2128.97,667.925 2129.25,598.996 2129.54,686.469 2129.82,686.469 2130.1,686.469 2130.39,686.469 2130.67,733.012 2130.96,733.012 \n",
       "  2131.24,758.929 2131.52,769.939 2131.81,769.942 2132.09,811.274 2132.38,804.358 2132.66,804.358 2132.95,807.488 2133.23,814.338 2133.51,814.338 2133.8,814.338 \n",
       "  2134.08,814.338 2134.37,816.18 2134.65,816.18 2134.93,816.163 2135.22,816.163 2135.5,810.579 2135.79,810.579 2136.07,806.685 2136.35,806.685 2136.64,809.234 \n",
       "  2136.92,809.234 2137.21,808.024 2137.49,808.024 2137.78,807.101 2138.06,767.644 2138.34,813.572 2138.63,815.942 2138.91,815.942 2139.2,815.942 2139.48,815.942 \n",
       "  2139.76,815.942 2140.05,815.942 2140.33,815.942 2140.62,815.942 2140.9,795.573 2141.19,811.914 2141.47,803.026 2141.75,806.325 2142.04,803.791 2142.32,803.791 \n",
       "  2142.61,808.563 2142.89,803.446 2143.17,814.784 2143.46,814.213 2143.74,812.846 2144.03,812.846 2144.31,810.02 2144.59,810.02 2144.88,788.603 2145.16,758.635 \n",
       "  2145.45,758.635 2145.73,767.867 2146.02,780.062 2146.3,798.095 2146.58,798.095 2146.87,798.095 2147.15,799.426 2147.44,785.201 2147.72,801.217 2148,801.217 \n",
       "  2148.29,812.84 2148.57,812.84 2148.86,812.84 2149.14,814.099 2149.43,814.099 2149.71,814.1 2149.99,815.913 2150.28,815.913 2150.56,798.788 2150.85,798.788 \n",
       "  2151.13,798.788 2151.41,798.788 2151.7,798.788 2151.98,798.788 2152.27,796.756 2152.55,796.756 2152.83,796.756 2153.12,796.756 2153.4,796.756 2153.69,777.449 \n",
       "  2153.97,806.923 2154.26,806.923 2154.54,815.199 2154.82,809.358 2155.11,809.358 2155.39,815.398 2155.68,814.64 2155.96,814.64 2156.24,814.64 2156.53,815.96 \n",
       "  2156.81,815.96 2157.1,809.604 2157.38,809.604 2157.67,816.132 2157.95,814.335 2158.23,814.335 2158.52,816.185 2158.8,815.32 2159.09,806.532 2159.37,806.532 \n",
       "  2159.65,806.331 2159.94,806.131 2160.22,806.131 2160.51,805.93 2160.79,805.93 2161.08,816.156 2161.36,816.156 2161.64,814.047 2161.93,814.047 2162.21,785.066 \n",
       "  2162.5,763.166 2162.78,763.166 2163.06,699.118 2163.35,623.783 2163.63,623.783 2163.92,677.76 2164.2,677.76 2164.48,676.805 2164.77,676.805 2165.05,675.787 \n",
       "  2165.34,675.787 2165.62,662.036 2165.91,660.951 2166.19,660.951 2166.47,663.187 2166.76,663.187 2167.04,659.909 2167.33,659.909 2167.61,657.806 2167.89,657.806 \n",
       "  2168.18,656.856 2168.46,656.856 2168.75,607.578 2169.03,606.376 2169.32,606.376 2169.6,463.934 2169.88,463.934 2170.17,462.774 2170.45,462.774 2170.74,460.697 \n",
       "  2171.02,460.697 2171.3,617.658 2171.59,616.954 2171.87,616.954 2172.16,755.632 2172.44,806.085 2172.72,806.085 2173.01,805.741 2173.29,812.187 2173.58,812.187 \n",
       "  2173.86,813.453 2174.15,814.576 2174.43,814.576 2174.71,814.502 2175,808.637 2175.28,808.637 2175.57,806.746 2175.85,808.171 2176.13,810.815 2176.42,810.815 \n",
       "  2176.7,810.815 2176.99,810.815 2177.27,816.135 2177.56,802.043 2177.84,815.772 2178.12,815.772 2178.41,813.779 2178.69,813.779 2178.98,813.779 2179.26,813.779 \n",
       "  2179.54,816.12 2179.83,816.12 2180.11,809.368 2180.4,809.368 2180.68,804.619 2180.96,804.619 2181.25,799.798 2181.53,799.798 2181.82,757.014 2182.1,757.014 \n",
       "  2182.39,692.699 2182.67,699.784 2182.95,699.784 2183.24,771.037 2183.52,815.957 2183.81,815.957 2184.09,815.957 2184.37,815.957 2184.66,815.676 2184.94,815.881 \n",
       "  2185.23,815.881 2185.51,816.186 2185.8,815.668 2186.08,816.001 2186.36,816.001 2186.65,812.62 2186.93,812.619 2187.22,812.619 2187.5,815.119 2187.78,815.428 \n",
       "  2188.07,809.261 2188.35,809.261 2188.64,809.261 2188.92,772.825 2189.2,816.131 2189.49,816.131 2189.77,799.814 2190.06,799.814 2190.34,800.991 2190.63,803.907 \n",
       "  2190.91,805.472 2191.19,805.472 2191.48,799.764 2191.76,799.764 2192.05,799.764 2192.33,799.764 2192.61,799.764 2192.9,790.337 2193.18,790.337 2193.47,815.922 \n",
       "  2193.75,815.604 2194.04,815.604 2194.32,814.977 2194.6,812.815 2194.89,812.815 2195.17,789.033 2195.46,789.033 2195.74,806.755 2196.02,806.755 2196.31,806.755 \n",
       "  2196.59,806.85 2196.88,805.29 2197.16,805.29 2197.44,805.29 2197.73,811.168 2198.01,811.168 2198.3,811.168 2198.58,811.168 2198.87,811.168 2199.15,803.257 \n",
       "  2199.43,815.541 2199.72,816.042 2200,816.042 2200.29,816.042 2200.57,816.042 2200.85,816.041 2201.14,759.528 2201.42,759.528 2201.71,807.977 2201.99,807.977 \n",
       "  2202.28,798.405 2202.56,798.405 2202.84,798.405 2203.13,798.405 2203.41,806.515 2203.7,806.515 2203.98,806.515 2204.26,806.515 2204.55,806.515 2204.83,806.515 \n",
       "  2205.12,806.515 2205.4,806.515 2205.69,784.312 2205.97,784.312 2206.25,804.866 2206.54,804.866 2206.82,813.551 2207.11,799.242 2207.39,799.242 2207.67,745.357 \n",
       "  2207.96,745.357 2208.24,698.442 2208.53,692.293 2208.81,692.293 2209.09,692.298 2209.38,692.298 2209.66,701.63 2209.95,779.663 2210.23,779.663 2210.52,740.935 \n",
       "  2210.8,740.931 2211.08,740.931 2211.37,740.931 2211.65,740.931 2211.94,740.931 2212.22,740.931 2212.5,740.931 2212.79,740.931 2213.07,740.931 2213.36,736.629 \n",
       "  2213.64,805.478 2213.93,805.478 2214.21,808.146 2214.49,808.146 2214.78,811.727 2215.06,810.133 2215.35,810.133 2215.63,749.251 2215.91,749.251 2216.2,759.186 \n",
       "  2216.48,759.186 2216.77,756.628 2217.05,756.628 2217.33,756.628 2217.62,756.628 2217.9,724.06 2218.19,724.059 2218.47,724.059 2218.76,724.059 2219.04,724.059 \n",
       "  2219.32,724.059 2219.61,724.059 2219.89,724.059 2220.18,748.44 2220.46,720.967 2220.74,720.967 2221.03,675.897 2221.31,675.897 2221.6,675.897 2221.88,675.897 \n",
       "  2222.17,662.549 2222.45,662.549 2222.73,662.549 2223.02,662.549 2223.3,662.549 2223.59,662.549 2223.87,662.549 2224.15,662.549 2224.44,662.549 2224.72,662.549 \n",
       "  2225.01,703.787 2225.29,703.793 2225.57,703.803 2225.86,703.803 2226.14,755.339 2226.43,755.339 2226.71,755.339 2227,755.339 2227.28,755.339 2227.56,755.339 \n",
       "  2227.85,693.689 2228.13,693.689 2228.42,693.689 2228.7,693.689 2228.98,693.686 2229.27,787.949 2229.55,787.949 2229.84,811.387 2230.12,811.711 2230.41,816.179 \n",
       "  2230.69,816.179 2230.97,811.729 2231.26,811.729 2231.54,811.73 2231.83,811.73 2232.11,815.883 2232.39,815.883 2232.68,815.883 2232.96,815.883 2233.25,815.884 \n",
       "  2233.53,815.951 2233.81,815.951 2234.1,803.98 2234.38,803.98 2234.67,813.657 2234.95,813.657 2235.24,815.452 2235.52,815.452 2235.8,815.876 2236.09,815.876 \n",
       "  2236.37,815.66 2236.66,815.66 2236.94,815.66 2237.22,815.66 2237.51,815.66 2237.79,815.66 2238.08,814.201 2238.36,814.201 2238.65,814.201 2238.93,814.201 \n",
       "  2239.21,814.201 2239.5,807.172 2239.78,790.009 2240.07,774.68 2240.35,752.24 2240.63,708.179 2240.92,763.487 2241.2,779.181 2241.49,779.934 2241.77,816.132 \n",
       "  2242.05,816.184 2242.34,816.184 2242.62,816.184 2242.91,813.482 2243.19,805.114 2243.48,805.113 2243.76,806.389 2244.04,806.389 2244.33,809.269 2244.61,814.985 \n",
       "  2244.9,811.445 2245.18,805.79 2245.46,806.498 2245.75,798.378 2246.03,798.378 2246.32,763.867 2246.6,763.867 2246.89,765.596 2247.17,765.596 2247.45,781.006 \n",
       "  2247.74,781.006 2248.02,796.365 2248.31,797.471 2248.59,798.561 2248.87,798.561 2249.16,814.171 2249.44,814.171 2249.73,813.521 2250.01,812.257 2250.3,812.257 \n",
       "  2250.58,811.968 2250.86,811.968 2251.15,790.108 2251.43,790.108 2251.72,805.828 2252,805.828 2252.28,814.153 2252.57,814.153 2252.85,806.943 2253.14,812.95 \n",
       "  2253.42,814.919 2253.7,814.92 2253.99,812.155 2254.27,807.581 2254.56,814.933 2254.84,814.934 2255.13,814.934 2255.41,809.214 2255.69,809.212 2255.98,809.212 \n",
       "  2256.26,773.944 2256.55,739.593 2256.83,739.584 2257.11,731.161 2257.4,731.161 2257.68,712.363 2257.97,712.363 2258.25,796.604 2258.54,796.604 2258.82,800.819 \n",
       "  2259.1,800.801 2259.39,800.801 2259.67,812.361 2259.96,812.361 2260.24,813.395 2260.52,813.395 2260.81,807.807 2261.09,807.807 2261.38,800.173 2261.66,800.173 \n",
       "  2261.94,808.17 2262.23,808.17 2262.51,799.826 2262.8,799.826 2263.08,799.826 2263.37,810.294 2263.65,814.748 2263.93,814.748 2264.22,814.3 2264.5,814.3 \n",
       "  2264.79,815.489 2265.07,816.074 2265.35,816.074 2265.64,816.162 2265.92,814.358 2266.21,814.358 2266.49,816.162 2266.78,816.162 2267.06,795.252 2267.34,794.626 \n",
       "  2267.63,810.671 2267.91,801.989 2268.2,801.989 2268.48,801.993 2268.76,801.993 2269.05,801.992 2269.33,801.992 2269.62,768.154 2269.9,794.458 2270.18,812.665 \n",
       "  2270.47,812.668 2270.75,812.668 2271.04,814.173 2271.32,814.63 2271.61,803.05 2271.89,803.05 2272.17,812.117 2272.46,813.308 2272.74,813.308 2273.03,813.308 \n",
       "  2273.31,813.308 2273.59,813.308 2273.88,813.308 2274.16,813.308 2274.45,771.309 2274.73,771.309 2275.02,771.309 2275.3,771.309 2275.58,798.139 2275.87,798.139 \n",
       "  2276.15,811.828 2276.44,815.389 2276.72,815.389 2277,814.355 2277.29,814.355 2277.57,814.355 2277.86,790.487 2278.14,790.487 2278.42,772.501 2278.71,772.499 \n",
       "  2278.99,769.813 2279.28,769.813 2279.56,802.935 2279.85,802.935 2280.13,798.254 2280.41,815.744 2280.7,778.846 2280.98,731.35 2281.27,731.348 2281.55,650.097 \n",
       "  2281.83,645.186 2282.12,686.967 2282.4,662.196 2282.69,662.196 2282.97,709.201 2283.26,681.856 2283.54,681.856 2283.82,718.357 2284.11,718.357 2284.39,718.362 \n",
       "  2284.68,774.531 2284.96,758.401 2285.24,809.943 2285.53,809.943 2285.81,788.979 2286.1,749.073 2286.38,749.073 2286.66,754.73 2286.95,754.73 2287.23,754.73 \n",
       "  2287.52,754.73 2287.8,754.73 2288.09,740.423 2288.37,756.912 2288.65,756.912 2288.94,717.801 2289.22,733.352 2289.51,731.596 2289.79,749.533 2290.07,721.241 \n",
       "  2290.36,721.241 \n",
       "  \"/>\n",
       "<path clip-path=\"url(#clip740)\" d=\"\n",
       "M1981.87 198.898 L2279.27 198.898 L2279.27 95.2176 L1981.87 95.2176  Z\n",
       "  \" fill=\"#ffffff\" fill-rule=\"evenodd\" fill-opacity=\"1\"/>\n",
       "<polyline clip-path=\"url(#clip740)\" style=\"stroke:#000000; stroke-linecap:round; stroke-linejoin:round; stroke-width:4; stroke-opacity:1; fill:none\" points=\"\n",
       "  1981.87,198.898 2279.27,198.898 2279.27,95.2176 1981.87,95.2176 1981.87,198.898 \n",
       "  \"/>\n",
       "<polyline clip-path=\"url(#clip740)\" style=\"stroke:#009af9; stroke-linecap:round; stroke-linejoin:round; stroke-width:4; stroke-opacity:1; fill:none\" points=\"\n",
       "  2006.37,147.058 2153.35,147.058 \n",
       "  \"/>\n",
       "<path clip-path=\"url(#clip740)\" d=\"M2191.68 166.745 Q2189.88 171.375 2188.17 172.787 Q2186.45 174.199 2183.58 174.199 L2180.18 174.199 L2180.18 170.634 L2182.68 170.634 Q2184.44 170.634 2185.41 169.8 Q2186.38 168.967 2187.56 165.865 L2188.33 163.921 L2177.84 138.412 L2182.36 138.412 L2190.46 158.689 L2198.56 138.412 L2203.07 138.412 L2191.68 166.745 Z\" fill=\"#000000\" fill-rule=\"evenodd\" fill-opacity=\"1\" /><path clip-path=\"url(#clip740)\" d=\"M2210.37 160.402 L2218 160.402 L2218 134.037 L2209.69 135.703 L2209.69 131.444 L2217.96 129.778 L2222.63 129.778 L2222.63 160.402 L2230.27 160.402 L2230.27 164.338 L2210.37 164.338 L2210.37 160.402 Z\" fill=\"#000000\" fill-rule=\"evenodd\" fill-opacity=\"1\" /></svg>\n"
      ]
     },
     "execution_count": 51,
     "metadata": {},
     "output_type": "execute_result"
    }
   ],
   "source": [
    "plot(scan_alt(reshape(pheno[:, 187], :, 1), geno, kinship_Gc; reml = false)[4])"
   ]
  },
  {
   "cell_type": "code",
   "execution_count": 52,
   "id": "8e7ef187-db47-4eb4-9c4a-657211e84366",
   "metadata": {},
   "outputs": [
    {
     "data": {
      "image/svg+xml": [
       "<?xml version=\"1.0\" encoding=\"utf-8\"?>\n",
       "<svg xmlns=\"http://www.w3.org/2000/svg\" xmlns:xlink=\"http://www.w3.org/1999/xlink\" width=\"600\" height=\"400\" viewBox=\"0 0 2400 1600\">\n",
       "<defs>\n",
       "  <clipPath id=\"clip780\">\n",
       "    <rect x=\"0\" y=\"0\" width=\"2400\" height=\"1600\"/>\n",
       "  </clipPath>\n",
       "</defs>\n",
       "<path clip-path=\"url(#clip780)\" d=\"\n",
       "M0 1600 L2400 1600 L2400 0 L0 0  Z\n",
       "  \" fill=\"#ffffff\" fill-rule=\"evenodd\" fill-opacity=\"1\"/>\n",
       "<defs>\n",
       "  <clipPath id=\"clip781\">\n",
       "    <rect x=\"480\" y=\"0\" width=\"1681\" height=\"1600\"/>\n",
       "  </clipPath>\n",
       "</defs>\n",
       "<path clip-path=\"url(#clip780)\" d=\"\n",
       "M110.881 1486.45 L2352.76 1486.45 L2352.76 47.2441 L110.881 47.2441  Z\n",
       "  \" fill=\"#ffffff\" fill-rule=\"evenodd\" fill-opacity=\"1\"/>\n",
       "<defs>\n",
       "  <clipPath id=\"clip782\">\n",
       "    <rect x=\"110\" y=\"47\" width=\"2243\" height=\"1440\"/>\n",
       "  </clipPath>\n",
       "</defs>\n",
       "<polyline clip-path=\"url(#clip782)\" style=\"stroke:#000000; stroke-linecap:round; stroke-linejoin:round; stroke-width:2; stroke-opacity:0.1; fill:none\" points=\"\n",
       "  174.041,1486.45 174.041,47.2441 \n",
       "  \"/>\n",
       "<polyline clip-path=\"url(#clip782)\" style=\"stroke:#000000; stroke-linecap:round; stroke-linejoin:round; stroke-width:2; stroke-opacity:0.1; fill:none\" points=\"\n",
       "  751.904,1486.45 751.904,47.2441 \n",
       "  \"/>\n",
       "<polyline clip-path=\"url(#clip782)\" style=\"stroke:#000000; stroke-linecap:round; stroke-linejoin:round; stroke-width:2; stroke-opacity:0.1; fill:none\" points=\"\n",
       "  1329.77,1486.45 1329.77,47.2441 \n",
       "  \"/>\n",
       "<polyline clip-path=\"url(#clip782)\" style=\"stroke:#000000; stroke-linecap:round; stroke-linejoin:round; stroke-width:2; stroke-opacity:0.1; fill:none\" points=\"\n",
       "  1907.63,1486.45 1907.63,47.2441 \n",
       "  \"/>\n",
       "<polyline clip-path=\"url(#clip780)\" style=\"stroke:#000000; stroke-linecap:round; stroke-linejoin:round; stroke-width:4; stroke-opacity:1; fill:none\" points=\"\n",
       "  110.881,1486.45 2352.76,1486.45 \n",
       "  \"/>\n",
       "<polyline clip-path=\"url(#clip780)\" style=\"stroke:#000000; stroke-linecap:round; stroke-linejoin:round; stroke-width:4; stroke-opacity:1; fill:none\" points=\"\n",
       "  174.041,1486.45 174.041,1467.55 \n",
       "  \"/>\n",
       "<polyline clip-path=\"url(#clip780)\" style=\"stroke:#000000; stroke-linecap:round; stroke-linejoin:round; stroke-width:4; stroke-opacity:1; fill:none\" points=\"\n",
       "  751.904,1486.45 751.904,1467.55 \n",
       "  \"/>\n",
       "<polyline clip-path=\"url(#clip780)\" style=\"stroke:#000000; stroke-linecap:round; stroke-linejoin:round; stroke-width:4; stroke-opacity:1; fill:none\" points=\"\n",
       "  1329.77,1486.45 1329.77,1467.55 \n",
       "  \"/>\n",
       "<polyline clip-path=\"url(#clip780)\" style=\"stroke:#000000; stroke-linecap:round; stroke-linejoin:round; stroke-width:4; stroke-opacity:1; fill:none\" points=\"\n",
       "  1907.63,1486.45 1907.63,1467.55 \n",
       "  \"/>\n",
       "<path clip-path=\"url(#clip780)\" d=\"M174.041 1517.37 Q170.43 1517.37 168.601 1520.93 Q166.796 1524.47 166.796 1531.6 Q166.796 1538.71 168.601 1542.27 Q170.43 1545.82 174.041 1545.82 Q177.675 1545.82 179.481 1542.27 Q181.31 1538.71 181.31 1531.6 Q181.31 1524.47 179.481 1520.93 Q177.675 1517.37 174.041 1517.37 M174.041 1513.66 Q179.851 1513.66 182.907 1518.27 Q185.986 1522.85 185.986 1531.6 Q185.986 1540.33 182.907 1544.94 Q179.851 1549.52 174.041 1549.52 Q168.231 1549.52 165.152 1544.94 Q162.097 1540.33 162.097 1531.6 Q162.097 1522.85 165.152 1518.27 Q168.231 1513.66 174.041 1513.66 Z\" fill=\"#000000\" fill-rule=\"evenodd\" fill-opacity=\"1\" /><path clip-path=\"url(#clip780)\" d=\"M700.515 1544.91 L716.834 1544.91 L716.834 1548.85 L694.89 1548.85 L694.89 1544.91 Q697.552 1542.16 702.135 1537.53 Q706.742 1532.88 707.922 1531.53 Q710.168 1529.01 711.047 1527.27 Q711.95 1525.51 711.95 1523.82 Q711.95 1521.07 710.006 1519.33 Q708.084 1517.6 704.983 1517.6 Q702.784 1517.6 700.33 1518.36 Q697.899 1519.13 695.122 1520.68 L695.122 1515.95 Q697.946 1514.82 700.399 1514.24 Q702.853 1513.66 704.89 1513.66 Q710.26 1513.66 713.455 1516.35 Q716.649 1519.03 716.649 1523.52 Q716.649 1525.65 715.839 1527.57 Q715.052 1529.47 712.946 1532.07 Q712.367 1532.74 709.265 1535.95 Q706.163 1539.15 700.515 1544.91 Z\" fill=\"#000000\" fill-rule=\"evenodd\" fill-opacity=\"1\" /><path clip-path=\"url(#clip780)\" d=\"M736.649 1517.37 Q733.038 1517.37 731.209 1520.93 Q729.404 1524.47 729.404 1531.6 Q729.404 1538.71 731.209 1542.27 Q733.038 1545.82 736.649 1545.82 Q740.283 1545.82 742.089 1542.27 Q743.918 1538.71 743.918 1531.6 Q743.918 1524.47 742.089 1520.93 Q740.283 1517.37 736.649 1517.37 M736.649 1513.66 Q742.459 1513.66 745.515 1518.27 Q748.593 1522.85 748.593 1531.6 Q748.593 1540.33 745.515 1544.94 Q742.459 1549.52 736.649 1549.52 Q730.839 1549.52 727.76 1544.94 Q724.705 1540.33 724.705 1531.6 Q724.705 1522.85 727.76 1518.27 Q730.839 1513.66 736.649 1513.66 Z\" fill=\"#000000\" fill-rule=\"evenodd\" fill-opacity=\"1\" /><path clip-path=\"url(#clip780)\" d=\"M766.811 1517.37 Q763.2 1517.37 761.371 1520.93 Q759.566 1524.47 759.566 1531.6 Q759.566 1538.71 761.371 1542.27 Q763.2 1545.82 766.811 1545.82 Q770.445 1545.82 772.251 1542.27 Q774.079 1538.71 774.079 1531.6 Q774.079 1524.47 772.251 1520.93 Q770.445 1517.37 766.811 1517.37 M766.811 1513.66 Q772.621 1513.66 775.677 1518.27 Q778.755 1522.85 778.755 1531.6 Q778.755 1540.33 775.677 1544.94 Q772.621 1549.52 766.811 1549.52 Q761.001 1549.52 757.922 1544.94 Q754.867 1540.33 754.867 1531.6 Q754.867 1522.85 757.922 1518.27 Q761.001 1513.66 766.811 1513.66 Z\" fill=\"#000000\" fill-rule=\"evenodd\" fill-opacity=\"1\" /><path clip-path=\"url(#clip780)\" d=\"M796.973 1517.37 Q793.362 1517.37 791.533 1520.93 Q789.728 1524.47 789.728 1531.6 Q789.728 1538.71 791.533 1542.27 Q793.362 1545.82 796.973 1545.82 Q800.607 1545.82 802.413 1542.27 Q804.241 1538.71 804.241 1531.6 Q804.241 1524.47 802.413 1520.93 Q800.607 1517.37 796.973 1517.37 M796.973 1513.66 Q802.783 1513.66 805.839 1518.27 Q808.917 1522.85 808.917 1531.6 Q808.917 1540.33 805.839 1544.94 Q802.783 1549.52 796.973 1549.52 Q791.163 1549.52 788.084 1544.94 Q785.028 1540.33 785.028 1531.6 Q785.028 1522.85 788.084 1518.27 Q791.163 1513.66 796.973 1513.66 Z\" fill=\"#000000\" fill-rule=\"evenodd\" fill-opacity=\"1\" /><path clip-path=\"url(#clip780)\" d=\"M1287.78 1518.36 L1275.97 1536.81 L1287.78 1536.81 L1287.78 1518.36 M1286.55 1514.29 L1292.43 1514.29 L1292.43 1536.81 L1297.36 1536.81 L1297.36 1540.7 L1292.43 1540.7 L1292.43 1548.85 L1287.78 1548.85 L1287.78 1540.7 L1272.17 1540.7 L1272.17 1536.19 L1286.55 1514.29 Z\" fill=\"#000000\" fill-rule=\"evenodd\" fill-opacity=\"1\" /><path clip-path=\"url(#clip780)\" d=\"M1315.09 1517.37 Q1311.48 1517.37 1309.65 1520.93 Q1307.84 1524.47 1307.84 1531.6 Q1307.84 1538.71 1309.65 1542.27 Q1311.48 1545.82 1315.09 1545.82 Q1318.72 1545.82 1320.53 1542.27 Q1322.36 1538.71 1322.36 1531.6 Q1322.36 1524.47 1320.53 1520.93 Q1318.72 1517.37 1315.09 1517.37 M1315.09 1513.66 Q1320.9 1513.66 1323.96 1518.27 Q1327.03 1522.85 1327.03 1531.6 Q1327.03 1540.33 1323.96 1544.94 Q1320.9 1549.52 1315.09 1549.52 Q1309.28 1549.52 1306.2 1544.94 Q1303.15 1540.33 1303.15 1531.6 Q1303.15 1522.85 1306.2 1518.27 Q1309.28 1513.66 1315.09 1513.66 Z\" fill=\"#000000\" fill-rule=\"evenodd\" fill-opacity=\"1\" /><path clip-path=\"url(#clip780)\" d=\"M1345.25 1517.37 Q1341.64 1517.37 1339.81 1520.93 Q1338.01 1524.47 1338.01 1531.6 Q1338.01 1538.71 1339.81 1542.27 Q1341.64 1545.82 1345.25 1545.82 Q1348.89 1545.82 1350.69 1542.27 Q1352.52 1538.71 1352.52 1531.6 Q1352.52 1524.47 1350.69 1520.93 Q1348.89 1517.37 1345.25 1517.37 M1345.25 1513.66 Q1351.06 1513.66 1354.12 1518.27 Q1357.2 1522.85 1357.2 1531.6 Q1357.2 1540.33 1354.12 1544.94 Q1351.06 1549.52 1345.25 1549.52 Q1339.44 1549.52 1336.36 1544.94 Q1333.31 1540.33 1333.31 1531.6 Q1333.31 1522.85 1336.36 1518.27 Q1339.44 1513.66 1345.25 1513.66 Z\" fill=\"#000000\" fill-rule=\"evenodd\" fill-opacity=\"1\" /><path clip-path=\"url(#clip780)\" d=\"M1375.41 1517.37 Q1371.8 1517.37 1369.97 1520.93 Q1368.17 1524.47 1368.17 1531.6 Q1368.17 1538.71 1369.97 1542.27 Q1371.8 1545.82 1375.41 1545.82 Q1379.05 1545.82 1380.85 1542.27 Q1382.68 1538.71 1382.68 1531.6 Q1382.68 1524.47 1380.85 1520.93 Q1379.05 1517.37 1375.41 1517.37 M1375.41 1513.66 Q1381.22 1513.66 1384.28 1518.27 Q1387.36 1522.85 1387.36 1531.6 Q1387.36 1540.33 1384.28 1544.94 Q1381.22 1549.52 1375.41 1549.52 Q1369.6 1549.52 1366.53 1544.94 Q1363.47 1540.33 1363.47 1531.6 Q1363.47 1522.85 1366.53 1518.27 Q1369.6 1513.66 1375.41 1513.66 Z\" fill=\"#000000\" fill-rule=\"evenodd\" fill-opacity=\"1\" /><path clip-path=\"url(#clip780)\" d=\"M1862.87 1529.7 Q1859.72 1529.7 1857.87 1531.86 Q1856.04 1534.01 1856.04 1537.76 Q1856.04 1541.49 1857.87 1543.66 Q1859.72 1545.82 1862.87 1545.82 Q1866.02 1545.82 1867.85 1543.66 Q1869.7 1541.49 1869.7 1537.76 Q1869.7 1534.01 1867.85 1531.86 Q1866.02 1529.7 1862.87 1529.7 M1872.15 1515.05 L1872.15 1519.31 Q1870.39 1518.48 1868.59 1518.04 Q1866.81 1517.6 1865.05 1517.6 Q1860.42 1517.6 1857.96 1520.72 Q1855.53 1523.85 1855.19 1530.17 Q1856.55 1528.15 1858.61 1527.09 Q1860.67 1526 1863.15 1526 Q1868.36 1526 1871.37 1529.17 Q1874.4 1532.32 1874.4 1537.76 Q1874.4 1543.08 1871.25 1546.3 Q1868.1 1549.52 1862.87 1549.52 Q1856.88 1549.52 1853.71 1544.94 Q1850.53 1540.33 1850.53 1531.6 Q1850.53 1523.41 1854.42 1518.55 Q1858.31 1513.66 1864.86 1513.66 Q1866.62 1513.66 1868.4 1514.01 Q1870.21 1514.36 1872.15 1515.05 Z\" fill=\"#000000\" fill-rule=\"evenodd\" fill-opacity=\"1\" /><path clip-path=\"url(#clip780)\" d=\"M1892.45 1517.37 Q1888.84 1517.37 1887.02 1520.93 Q1885.21 1524.47 1885.21 1531.6 Q1885.21 1538.71 1887.02 1542.27 Q1888.84 1545.82 1892.45 1545.82 Q1896.09 1545.82 1897.89 1542.27 Q1899.72 1538.71 1899.72 1531.6 Q1899.72 1524.47 1897.89 1520.93 Q1896.09 1517.37 1892.45 1517.37 M1892.45 1513.66 Q1898.27 1513.66 1901.32 1518.27 Q1904.4 1522.85 1904.4 1531.6 Q1904.4 1540.33 1901.32 1544.94 Q1898.27 1549.52 1892.45 1549.52 Q1886.64 1549.52 1883.57 1544.94 Q1880.51 1540.33 1880.51 1531.6 Q1880.51 1522.85 1883.57 1518.27 Q1886.64 1513.66 1892.45 1513.66 Z\" fill=\"#000000\" fill-rule=\"evenodd\" fill-opacity=\"1\" /><path clip-path=\"url(#clip780)\" d=\"M1922.62 1517.37 Q1919.01 1517.37 1917.18 1520.93 Q1915.37 1524.47 1915.37 1531.6 Q1915.37 1538.71 1917.18 1542.27 Q1919.01 1545.82 1922.62 1545.82 Q1926.25 1545.82 1928.06 1542.27 Q1929.89 1538.71 1929.89 1531.6 Q1929.89 1524.47 1928.06 1520.93 Q1926.25 1517.37 1922.62 1517.37 M1922.62 1513.66 Q1928.43 1513.66 1931.48 1518.27 Q1934.56 1522.85 1934.56 1531.6 Q1934.56 1540.33 1931.48 1544.94 Q1928.43 1549.52 1922.62 1549.52 Q1916.81 1549.52 1913.73 1544.94 Q1910.67 1540.33 1910.67 1531.6 Q1910.67 1522.85 1913.73 1518.27 Q1916.81 1513.66 1922.62 1513.66 Z\" fill=\"#000000\" fill-rule=\"evenodd\" fill-opacity=\"1\" /><path clip-path=\"url(#clip780)\" d=\"M1952.78 1517.37 Q1949.17 1517.37 1947.34 1520.93 Q1945.53 1524.47 1945.53 1531.6 Q1945.53 1538.71 1947.34 1542.27 Q1949.17 1545.82 1952.78 1545.82 Q1956.41 1545.82 1958.22 1542.27 Q1960.05 1538.71 1960.05 1531.6 Q1960.05 1524.47 1958.22 1520.93 Q1956.41 1517.37 1952.78 1517.37 M1952.78 1513.66 Q1958.59 1513.66 1961.64 1518.27 Q1964.72 1522.85 1964.72 1531.6 Q1964.72 1540.33 1961.64 1544.94 Q1958.59 1549.52 1952.78 1549.52 Q1946.97 1549.52 1943.89 1544.94 Q1940.83 1540.33 1940.83 1531.6 Q1940.83 1522.85 1943.89 1518.27 Q1946.97 1513.66 1952.78 1513.66 Z\" fill=\"#000000\" fill-rule=\"evenodd\" fill-opacity=\"1\" /><polyline clip-path=\"url(#clip782)\" style=\"stroke:#000000; stroke-linecap:round; stroke-linejoin:round; stroke-width:2; stroke-opacity:0.1; fill:none\" points=\"\n",
       "  110.881,1445.72 2352.76,1445.72 \n",
       "  \"/>\n",
       "<polyline clip-path=\"url(#clip782)\" style=\"stroke:#000000; stroke-linecap:round; stroke-linejoin:round; stroke-width:2; stroke-opacity:0.1; fill:none\" points=\"\n",
       "  110.881,995.086 2352.76,995.086 \n",
       "  \"/>\n",
       "<polyline clip-path=\"url(#clip782)\" style=\"stroke:#000000; stroke-linecap:round; stroke-linejoin:round; stroke-width:2; stroke-opacity:0.1; fill:none\" points=\"\n",
       "  110.881,544.455 2352.76,544.455 \n",
       "  \"/>\n",
       "<polyline clip-path=\"url(#clip782)\" style=\"stroke:#000000; stroke-linecap:round; stroke-linejoin:round; stroke-width:2; stroke-opacity:0.1; fill:none\" points=\"\n",
       "  110.881,93.8252 2352.76,93.8252 \n",
       "  \"/>\n",
       "<polyline clip-path=\"url(#clip780)\" style=\"stroke:#000000; stroke-linecap:round; stroke-linejoin:round; stroke-width:4; stroke-opacity:1; fill:none\" points=\"\n",
       "  110.881,1486.45 110.881,47.2441 \n",
       "  \"/>\n",
       "<polyline clip-path=\"url(#clip780)\" style=\"stroke:#000000; stroke-linecap:round; stroke-linejoin:round; stroke-width:4; stroke-opacity:1; fill:none\" points=\"\n",
       "  110.881,1445.72 129.779,1445.72 \n",
       "  \"/>\n",
       "<polyline clip-path=\"url(#clip780)\" style=\"stroke:#000000; stroke-linecap:round; stroke-linejoin:round; stroke-width:4; stroke-opacity:1; fill:none\" points=\"\n",
       "  110.881,995.086 129.779,995.086 \n",
       "  \"/>\n",
       "<polyline clip-path=\"url(#clip780)\" style=\"stroke:#000000; stroke-linecap:round; stroke-linejoin:round; stroke-width:4; stroke-opacity:1; fill:none\" points=\"\n",
       "  110.881,544.455 129.779,544.455 \n",
       "  \"/>\n",
       "<polyline clip-path=\"url(#clip780)\" style=\"stroke:#000000; stroke-linecap:round; stroke-linejoin:round; stroke-width:4; stroke-opacity:1; fill:none\" points=\"\n",
       "  110.881,93.8252 129.779,93.8252 \n",
       "  \"/>\n",
       "<path clip-path=\"url(#clip780)\" d=\"M62.9365 1431.51 Q59.3254 1431.51 57.4967 1435.08 Q55.6912 1438.62 55.6912 1445.75 Q55.6912 1452.86 57.4967 1456.42 Q59.3254 1459.96 62.9365 1459.96 Q66.5707 1459.96 68.3763 1456.42 Q70.205 1452.86 70.205 1445.75 Q70.205 1438.62 68.3763 1435.08 Q66.5707 1431.51 62.9365 1431.51 M62.9365 1427.81 Q68.7467 1427.81 71.8022 1432.42 Q74.8809 1437 74.8809 1445.75 Q74.8809 1454.48 71.8022 1459.08 Q68.7467 1463.67 62.9365 1463.67 Q57.1264 1463.67 54.0477 1459.08 Q50.9921 1454.48 50.9921 1445.75 Q50.9921 1437 54.0477 1432.42 Q57.1264 1427.81 62.9365 1427.81 Z\" fill=\"#000000\" fill-rule=\"evenodd\" fill-opacity=\"1\" /><path clip-path=\"url(#clip780)\" d=\"M54.9736 1008.43 L62.6124 1008.43 L62.6124 982.065 L54.3023 983.731 L54.3023 979.472 L62.5661 977.806 L67.242 977.806 L67.242 1008.43 L74.8809 1008.43 L74.8809 1012.37 L54.9736 1012.37 L54.9736 1008.43 Z\" fill=\"#000000\" fill-rule=\"evenodd\" fill-opacity=\"1\" /><path clip-path=\"url(#clip780)\" d=\"M58.5615 557.8 L74.8809 557.8 L74.8809 561.735 L52.9366 561.735 L52.9366 557.8 Q55.5986 555.046 60.1819 550.416 Q64.7883 545.763 65.9689 544.421 Q68.2143 541.897 69.0939 540.161 Q69.9967 538.402 69.9967 536.712 Q69.9967 533.958 68.0522 532.222 Q66.1309 530.486 63.0291 530.486 Q60.83 530.486 58.3763 531.249 Q55.9458 532.013 53.168 533.564 L53.168 528.842 Q55.9921 527.708 58.4458 527.129 Q60.8995 526.55 62.9365 526.55 Q68.3068 526.55 71.5013 529.236 Q74.6957 531.921 74.6957 536.411 Q74.6957 538.541 73.8855 540.462 Q73.0985 542.36 70.992 544.953 Q70.4133 545.624 67.3115 548.842 Q64.2096 552.036 58.5615 557.8 Z\" fill=\"#000000\" fill-rule=\"evenodd\" fill-opacity=\"1\" /><path clip-path=\"url(#clip780)\" d=\"M67.7513 92.471 Q71.1078 93.1886 72.9827 95.4571 Q74.8809 97.7256 74.8809 101.059 Q74.8809 106.175 71.3624 108.976 Q67.8439 111.776 61.3624 111.776 Q59.1865 111.776 56.8717 111.337 Q54.5801 110.92 52.1264 110.064 L52.1264 105.55 Q54.0708 106.684 56.3856 107.263 Q58.7004 107.841 61.2236 107.841 Q65.6217 107.841 67.9133 106.105 Q70.2281 104.369 70.2281 101.059 Q70.2281 98.0034 68.0754 96.2904 Q65.9457 94.5543 62.1263 94.5543 L58.0986 94.5543 L58.0986 90.7118 L62.3115 90.7118 Q65.7606 90.7118 67.5893 89.346 Q69.418 87.9571 69.418 85.3646 Q69.418 82.7025 67.5198 81.2905 Q65.6448 79.8553 62.1263 79.8553 Q60.205 79.8553 58.006 80.272 Q55.8069 80.6887 53.168 81.5683 L53.168 77.4016 Q55.8301 76.6609 58.1449 76.2905 Q60.4828 75.9202 62.543 75.9202 Q67.867 75.9202 70.9689 78.3507 Q74.0707 80.7581 74.0707 84.8785 Q74.0707 87.7488 72.4272 89.7395 Q70.7837 91.7071 67.7513 92.471 Z\" fill=\"#000000\" fill-rule=\"evenodd\" fill-opacity=\"1\" /><polyline clip-path=\"url(#clip782)\" style=\"stroke:#009af9; stroke-linecap:round; stroke-linejoin:round; stroke-width:4; stroke-opacity:1; fill:none\" points=\"\n",
       "  174.33,1435.12 174.619,1435.12 174.908,1435.12 175.197,1435.12 175.486,1435.12 175.775,1435.12 176.064,1435.12 176.353,1435.12 176.642,1435.12 176.931,1435.12 \n",
       "  177.219,1435.12 177.508,1435.12 177.797,1427.42 178.086,1427.42 178.375,1433.45 178.664,1433.45 178.953,1433.45 179.242,1433.45 179.531,1433.45 179.82,1433.45 \n",
       "  180.109,1420.36 180.398,1420.36 180.687,1424.63 180.976,1424.63 181.265,1424.63 181.553,1424.63 181.842,1424.63 182.131,1415.44 182.42,1415.43 182.709,1415.43 \n",
       "  182.998,1415.43 183.287,1401.6 183.576,1401.6 183.865,1401.6 184.154,1440.42 184.443,1413.87 184.732,1409.05 185.021,1407.01 185.31,1407.01 185.598,1407.01 \n",
       "  185.887,1440.02 186.176,1440.02 186.465,1440.02 186.754,1418.32 187.043,1418.32 187.332,1388.35 187.621,1388.35 187.91,1388.35 188.199,1388.35 188.488,1388.35 \n",
       "  188.777,1388.35 189.066,1406.02 189.355,1406.02 189.644,1365.38 189.932,1389.85 190.221,1389.85 190.51,1389.85 190.799,1368.82 191.088,1368.82 191.377,1362.66 \n",
       "  191.666,1362.66 191.955,1362.66 192.244,1362.66 192.533,1362.66 192.822,1362.66 193.111,1380.72 193.4,1380.72 193.689,1380.72 193.978,1380.72 194.266,1416.75 \n",
       "  194.555,1416.75 194.844,1427.51 195.133,1427.51 195.422,1432.24 195.711,1433.36 196,1433.36 196.289,1433.36 196.578,1433.36 196.867,1445.45 197.156,1444.91 \n",
       "  197.445,1444.91 197.734,1444.91 198.023,1442.19 198.311,1442.19 198.6,1445.47 198.889,1445.47 199.178,1442.19 199.467,1429.82 199.756,1429.55 200.045,1444.65 \n",
       "  200.334,1413.64 200.623,1398.8 200.912,1398.8 201.201,1398.8 201.49,1411.01 201.779,1409.54 202.068,1409.54 202.357,1409.54 202.645,1409.54 202.934,1409.54 \n",
       "  203.223,1427.22 203.512,1427.22 203.801,1434.01 204.09,1434.01 204.379,1434.01 204.668,1434.01 204.957,1445.61 205.246,1445.61 205.535,1445.61 205.824,1443.72 \n",
       "  206.113,1443.72 206.402,1443.72 206.69,1443.72 206.979,1443.72 207.268,1444.53 207.557,1444.53 207.846,1440.34 208.135,1432.44 208.424,1421.26 208.713,1423.22 \n",
       "  209.002,1422.97 209.291,1439.94 209.58,1439.94 209.869,1422.98 210.158,1436.98 210.447,1436.98 210.736,1411.19 211.024,1411.19 211.313,1411.19 211.602,1396.49 \n",
       "  211.891,1396.49 212.18,1393.5 212.469,1434.15 212.758,1434.15 213.047,1434.15 213.336,1434.15 213.625,1445.45 213.914,1445.71 214.203,1445.71 214.492,1445.71 \n",
       "  214.781,1445.71 215.069,1445.71 215.358,1429.82 215.647,1426.78 215.936,1426.78 216.225,1416.4 216.514,1416.4 216.803,1416.4 217.092,1416.4 217.381,1416.4 \n",
       "  217.67,1416.4 217.959,1416.4 218.248,1416.4 218.537,1416.4 218.826,1416.4 219.115,1411.86 219.403,1411.86 219.692,1411.86 219.981,1411.86 220.27,1314.11 \n",
       "  220.559,1314.11 220.848,1314.11 221.137,1314.11 221.426,1314.11 221.715,1314.11 222.004,1314.11 222.293,1387.82 222.582,1387.82 222.871,1387.82 223.16,1387.82 \n",
       "  223.448,1425.35 223.737,1425.35 224.026,1425.35 224.315,1378.85 224.604,1378.85 224.893,1378.85 225.182,1395.16 225.471,1354.2 225.76,1400.72 226.049,1400.72 \n",
       "  226.338,1400.72 226.627,1400.72 226.916,1400.72 227.205,1400.72 227.494,1406.04 227.782,1406.04 228.071,1418.65 228.36,1366.07 228.649,1366.07 228.938,1366.07 \n",
       "  229.227,1366.07 229.516,1377.84 229.805,1403.72 230.094,1405.08 230.383,1396.36 230.672,1389.11 230.961,1389.11 231.25,1389.11 231.539,1389.11 231.827,1389.11 \n",
       "  232.116,1389.11 232.405,1337.12 232.694,1432.61 232.983,1439.47 233.272,1438.47 233.561,1438.47 233.85,1438.46 234.139,1417.26 234.428,1417.26 234.717,1417.26 \n",
       "  235.006,1417.26 235.295,1417.26 235.584,1404.88 235.873,1392.93 236.161,1392.93 236.45,1392.93 236.739,1392.93 237.028,1375 237.317,1375 237.606,1374.99 \n",
       "  237.895,1374.99 238.184,1374.99 238.473,1316.99 238.762,1316.99 239.051,1316.99 239.34,1337.66 239.629,1337.65 239.918,1337.65 240.206,1307.82 240.495,1307.82 \n",
       "  240.784,1307.82 241.073,1281.78 241.362,1319.82 241.651,1370.89 241.94,1374.23 242.229,1374.23 242.518,1392.38 242.807,1392.38 243.096,1392.38 243.385,1391.81 \n",
       "  243.674,1391.81 243.963,1378.42 244.252,1378.42 244.54,1378.42 244.829,1378.42 245.118,1378.42 245.407,1358.42 245.696,1358.42 245.985,1358.42 246.274,1308.14 \n",
       "  246.563,1337.53 246.852,1436.69 247.141,1442.01 247.43,1442.01 247.719,1442.01 248.008,1424.31 248.297,1424.31 248.585,1429.39 248.874,1429.69 249.163,1429.69 \n",
       "  249.452,1332 249.741,1435.56 250.03,1444.13 250.319,1443.21 250.608,1443.21 250.897,1443.21 251.186,1443.21 251.475,1445.51 251.764,1445.51 252.053,1445.51 \n",
       "  252.342,1445.51 252.631,1445.21 252.919,1445.21 253.208,1441.81 253.497,1441.81 253.786,1441.76 254.075,1441.76 254.364,1441.76 254.653,1441.76 254.942,1434.02 \n",
       "  255.231,1434.02 255.52,1417.6 255.809,1417.6 256.098,1417.6 256.387,1417.6 256.676,1417.6 256.965,1444.61 257.253,1444.61 257.542,1445.06 257.831,1445.06 \n",
       "  258.12,1434.13 258.409,1434.13 258.698,1434.27 258.987,1434.27 259.276,1438.17 259.565,1438.17 259.854,1434.45 260.143,1436.82 260.432,1436.82 260.721,1436.82 \n",
       "  261.01,1441 261.298,1441 261.587,1445.16 261.876,1445.36 262.165,1445.36 262.454,1445.58 262.743,1444.72 263.032,1444.72 263.321,1444.72 263.61,1444.72 \n",
       "  263.899,1445.07 264.188,1445.07 264.477,1441.63 264.766,1441.63 265.055,1441.63 265.344,1430.99 265.632,1430.99 265.921,1428.08 266.21,1428.08 266.499,1428.08 \n",
       "  266.788,1429.25 267.077,1429.25 267.366,1429.25 267.655,1403.71 267.944,1403.71 268.233,1402.04 268.522,1402.04 268.811,1402.04 269.1,1403.28 269.389,1403.28 \n",
       "  269.677,1390.54 269.966,1322.08 270.255,1322.08 270.544,1322.08 270.833,1390.54 271.122,1390.55 271.411,1390.55 271.7,1307.56 271.989,1307.56 272.278,1332.23 \n",
       "  272.567,1332.23 272.856,1332.23 273.145,1332.23 273.434,1352.11 273.723,1352.11 274.011,1352.11 274.3,1347.51 274.589,1347.51 274.878,1347.4 275.167,1347.4 \n",
       "  275.456,1324.26 275.745,1324.26 276.034,1324.26 276.323,1340.53 276.612,1340.53 276.901,1340.53 277.19,1340.53 277.479,1340.53 277.768,1340.53 278.056,1270.11 \n",
       "  278.345,1270.11 278.634,1270.11 278.923,1270.11 279.212,1357.53 279.501,1357.54 279.79,1357.54 280.079,1420.11 280.368,1420.11 280.657,1420.11 280.946,1420.11 \n",
       "  281.235,1420.11 281.524,1420.11 281.813,1444.36 282.102,1444.36 282.39,1444.36 282.679,1439.87 282.968,1441.76 283.257,1441.7 283.546,1441.7 283.835,1445.61 \n",
       "  284.124,1445.61 284.413,1445.64 284.702,1445.65 284.991,1445.66 285.28,1445.67 285.569,1445.65 285.858,1445.65 286.147,1441.33 286.435,1441.33 286.724,1445.13 \n",
       "  287.013,1445.13 287.302,1445.54 287.591,1445.54 287.88,1445.51 288.169,1445.5 288.458,1445.49 288.747,1444.56 289.036,1435.36 289.325,1435.36 289.614,1435.63 \n",
       "  289.903,1435.71 290.192,1435.71 290.481,1445.44 290.769,1445.44 291.058,1445.71 291.347,1445.71 291.636,1419.88 291.925,1414.57 292.214,1418.74 292.503,1418.5 \n",
       "  292.792,1418.5 293.081,1418.5 293.37,1409.77 293.659,1409.77 293.948,1409.47 294.237,1409.47 294.526,1435.26 294.814,1435.18 295.103,1435.18 295.392,1434.94 \n",
       "  295.681,1434.94 295.97,1434.85 296.259,1434.85 296.548,1437.72 296.837,1437.72 297.126,1430.77 297.415,1430.77 297.704,1436.9 297.993,1436.9 298.282,1436.9 \n",
       "  298.571,1398.54 298.86,1398.03 299.148,1377.57 299.437,1377.57 299.726,1377.38 300.015,1377.38 300.304,1312.84 300.593,1312.59 300.882,1312.59 301.171,1312.59 \n",
       "  301.46,1318.36 301.749,1324.36 302.038,1324.36 302.327,1338.97 302.616,1338.97 302.905,1368.34 303.193,1368.14 303.482,1310.8 303.771,1310.8 304.06,1310.57 \n",
       "  304.349,1310.57 304.638,1310.57 304.927,1310.33 305.216,1310.33 305.505,1310.11 305.794,1310.11 306.083,1373.82 306.372,1373.82 306.661,1373.62 306.95,1342.35 \n",
       "  307.239,1382.8 307.527,1382.8 307.816,1382.8 308.105,1382.8 308.394,1295.19 308.683,1295.19 308.972,1320.74 309.261,1375.3 309.55,1375.3 309.839,1375.3 \n",
       "  310.128,1375.3 310.417,1375.3 310.706,1375.3 310.995,1371.25 311.284,1439.59 311.573,1439.59 311.861,1439.59 312.15,1439.59 312.439,1439.59 312.728,1439.59 \n",
       "  313.017,1439.59 313.306,1439.59 313.595,1439.59 313.884,1439.59 314.173,1439.59 314.462,1439.59 314.751,1433.13 315.04,1433.13 315.329,1433.13 315.618,1433.13 \n",
       "  315.906,1433.13 316.195,1433.13 316.484,1433.13 316.773,1434.42 317.062,1445.65 317.351,1442.32 317.64,1442.71 317.929,1442.71 318.218,1442.71 318.507,1442.71 \n",
       "  318.796,1444.63 319.085,1445.68 319.374,1417.08 319.663,1441.27 319.952,1441.43 320.24,1441.9 320.529,1441.9 320.818,1441.9 321.107,1441.9 321.396,1441.9 \n",
       "  321.685,1442.21 321.974,1442.21 322.263,1442.21 322.552,1442.21 322.841,1442.21 323.13,1442.21 323.419,1442.87 323.708,1442.87 323.997,1442.87 324.285,1442.87 \n",
       "  324.574,1439.38 324.863,1439.38 325.152,1346.7 325.441,1291.91 325.73,1291.91 326.019,1291.91 326.308,1291.91 326.597,1291.91 326.886,1291.91 327.175,1291.91 \n",
       "  327.464,1291.91 327.753,1425.97 328.042,1424.95 328.331,1426.52 328.619,1403.87 328.908,1403.87 329.197,1403.87 329.486,1403.87 329.775,1403.87 330.064,1403.87 \n",
       "  330.353,1414.8 330.642,1414.8 330.931,1421.17 331.22,1421.17 331.509,1421.17 331.798,1421.17 332.087,1421.17 332.376,1421.17 332.664,1421.17 332.953,1421.17 \n",
       "  333.242,1406.91 333.531,1413.4 333.82,1413.4 334.109,1390.01 334.398,1388.73 334.687,1388.73 334.976,1422.06 335.265,1422.06 335.554,1431.64 335.843,1409.25 \n",
       "  336.132,1392.8 336.421,1392.8 336.71,1392.8 336.998,1392.8 337.287,1389.99 337.576,1389.99 337.865,1299.91 338.154,1264.63 338.443,1264.62 338.732,1264.62 \n",
       "  339.021,1256.71 339.31,1306.01 339.599,1306.01 339.888,1292.13 340.177,1292.13 340.466,1292.13 340.755,1292.13 341.043,1292.13 341.332,1292.13 341.621,1292.13 \n",
       "  341.91,1292.13 342.199,1340.05 342.488,1340.05 342.777,1353.88 343.066,1353.88 343.355,1404.65 343.644,1404.65 343.933,1404.65 344.222,1404.65 344.511,1432.54 \n",
       "  344.8,1432.54 345.089,1432.54 345.377,1432.54 345.666,1381.85 345.955,1381.85 346.244,1375.69 346.533,1375.69 346.822,1227.78 347.111,1227.77 347.4,1321.48 \n",
       "  347.689,1291.31 347.978,1338.95 348.267,1339.5 348.556,1245.07 348.845,1245.07 349.134,1245.07 349.422,1245.07 349.711,1233.75 350,1233.75 350.289,1233.75 \n",
       "  350.578,1170.21 350.867,1170.21 351.156,1084.5 351.445,1084.5 351.734,1139.6 352.023,1139.6 352.312,1078.37 352.601,1126.45 352.89,1126.45 353.179,966.129 \n",
       "  353.468,1026.5 353.756,1026.5 354.045,997.643 354.334,999.317 354.623,999.317 354.912,999.317 355.201,999.317 355.49,996.478 355.779,996.478 356.068,996.478 \n",
       "  356.357,996.478 356.646,996.478 356.935,996.478 357.224,996.478 357.513,996.478 357.801,996.478 358.09,1329.12 358.379,1329.12 358.668,1255.12 358.957,1255.12 \n",
       "  359.246,1436.31 359.535,1432.83 359.824,1426.53 360.113,1433 360.402,1434.72 360.691,1445.05 360.98,1418.84 361.269,1444.08 361.558,1444.08 361.847,1444.08 \n",
       "  362.135,1445.72 362.424,1445.04 362.713,1445.04 363.002,1445.04 363.291,1445.04 363.58,1442.54 363.869,1442.54 364.158,1442.54 364.447,1442.54 364.736,1445.3 \n",
       "  365.025,1445.3 365.314,1445.3 365.603,1445.68 365.892,1445.3 366.181,1445.54 366.469,1445.54 366.758,1438.11 367.047,1438.11 367.336,1423.09 367.625,1423.09 \n",
       "  367.914,1412.21 368.203,1412.21 368.492,1412.21 368.781,1412.21 369.07,1409.68 369.359,1409.68 369.648,1420.08 369.937,1404.15 370.226,1404.15 370.514,1405.62 \n",
       "  370.803,1404.22 371.092,1347.63 371.381,1304.42 371.67,1304.42 371.959,1304.42 372.248,1304.42 372.537,1304.42 372.826,1283.48 373.115,1283.48 373.404,1283.48 \n",
       "  373.693,1285.47 373.982,1285.47 374.271,1285.47 374.56,1196.22 374.848,1196.22 375.137,1196.22 375.426,1196.22 375.715,1196.22 376.004,1196.22 376.293,1220.73 \n",
       "  376.582,1220.73 376.871,1220.73 377.16,1253.64 377.449,1309.94 377.738,1387.65 378.027,1387.65 378.316,1387.65 378.605,1387.65 378.893,1387.65 379.182,1387.65 \n",
       "  379.471,1387.65 379.76,1387.65 380.049,1383.65 380.338,1357.89 380.627,1357.89 380.916,1333.67 381.205,1333.67 381.494,1333.67 381.783,1388.69 382.072,1388.69 \n",
       "  382.361,1423.54 382.65,1423.54 382.939,1385.81 383.227,1407.5 383.516,1407.5 383.805,1407.5 384.094,1407.5 384.383,1407.5 384.672,1407.5 384.961,1398.66 \n",
       "  385.25,1440.81 385.539,1441.56 385.828,1441.56 386.117,1442.38 386.406,1442.38 386.695,1442.38 386.984,1442.38 387.272,1439.19 387.561,1439.19 387.85,1445.08 \n",
       "  388.139,1429.96 388.428,1429.96 388.717,1429.96 389.006,1429.96 389.295,1417.09 389.584,1419.9 389.873,1404.81 390.162,1379.43 390.451,1379.43 390.74,1413.06 \n",
       "  391.029,1413.06 391.318,1413.06 391.606,1413.06 391.895,1418.92 392.184,1418.92 392.473,1424.79 392.762,1424.79 393.051,1424.79 393.34,1424.79 393.629,1424.79 \n",
       "  393.918,1424.79 394.207,1411.83 394.496,1411.83 394.785,1411.83 395.074,1411.83 395.363,1378.68 395.651,1378.68 395.94,1353.65 396.229,1353.65 396.518,1433.83 \n",
       "  396.807,1328.7 397.096,1316.6 397.385,1346.82 397.674,1365.61 397.963,1365.61 398.252,1365.61 398.541,1365.61 398.83,1408.7 399.119,1423.69 399.408,1423.69 \n",
       "  399.697,1428.27 399.985,1428.27 400.274,1415.84 400.563,1400.95 400.852,1400.95 401.141,1400.95 401.43,1400.95 401.719,1400.95 402.008,1400.95 402.297,1412.62 \n",
       "  402.586,1412.62 402.875,1412.62 403.164,1412.62 403.453,1436.53 403.742,1436.53 404.03,1436.53 404.319,1436.53 404.608,1436.53 404.897,1436.53 405.186,1436.53 \n",
       "  405.475,1435.18 405.764,1435.18 406.053,1424.79 406.342,1424.79 406.631,1424.79 406.92,1424.79 407.209,1424.79 407.498,1424.79 407.787,1424.79 408.076,1424.79 \n",
       "  408.364,1419.09 408.653,1419.09 408.942,1419.09 409.231,1427.25 409.52,1427.25 409.809,1418.82 410.098,1418.82 410.387,1418.82 410.676,1418.82 410.965,1429.9 \n",
       "  411.254,1429.9 411.543,1438.41 411.832,1438.41 412.121,1416.1 412.409,1416.1 412.698,1403.67 412.987,1443.5 413.276,1443.5 413.565,1443.5 413.854,1437.09 \n",
       "  414.143,1425.31 414.432,1425.31 414.721,1423.62 415.01,1423.62 415.299,1386.76 415.588,1386.76 415.877,1394.81 416.166,1402.36 416.455,1411.45 416.743,1436.37 \n",
       "  417.032,1445.13 417.321,1445.12 417.61,1445.12 417.899,1443.81 418.188,1443.81 418.477,1443.81 418.766,1439.77 419.055,1439.77 419.344,1439.77 419.633,1439.77 \n",
       "  419.922,1439.2 420.211,1439.2 420.5,1445.72 420.788,1445.72 421.077,1445.72 421.366,1445.72 421.655,1418.69 421.944,1422.29 422.233,1422.62 422.522,1422.62 \n",
       "  422.811,1421.97 423.1,1421.27 423.389,1421.27 423.678,1422.7 423.967,1422.7 424.256,1422.14 424.545,1421.47 424.834,1361.68 425.122,1351.93 425.411,1351.93 \n",
       "  425.7,1326.45 425.989,1326.45 426.278,1326.44 426.567,1326.44 426.856,1263.15 427.145,1263.15 427.434,1233.35 427.723,1233.35 428.012,1233.35 428.301,1233.35 \n",
       "  428.59,1233.35 428.879,1233.35 429.168,1233.35 429.456,1311.06 429.745,1311.06 430.034,1311.06 430.323,1311.06 430.612,1311.06 430.901,1374.83 431.19,1374.83 \n",
       "  431.479,1374.83 431.768,1374.83 432.057,1374.83 432.346,1374.83 432.635,1390.29 432.924,1390.56 433.213,1390.56 433.501,1390.94 433.79,1390.94 434.079,1390.94 \n",
       "  434.368,1390.94 434.657,1390.94 434.946,1390.94 435.235,1405.95 435.524,1405.95 435.813,1405.95 436.102,1405.95 436.391,1405.95 436.68,1403.23 436.969,1403.23 \n",
       "  437.258,1411.08 437.547,1411.08 437.835,1411.08 438.124,1411.08 438.413,1410.6 438.702,1410.6 438.991,1420.33 439.28,1420.33 439.569,1411.72 439.858,1411.72 \n",
       "  440.147,1372.01 440.436,1372.01 440.725,1371.25 441.014,1371.25 441.303,1371.25 441.592,1371.25 441.88,1380.85 442.169,1380.85 442.458,1416.57 442.747,1416.57 \n",
       "  443.036,1416.57 443.325,1416.57 443.614,1414.62 443.903,1414.62 444.192,1441.39 444.481,1441.39 444.77,1441.39 445.059,1414.05 445.348,1423.04 445.637,1423.04 \n",
       "  445.926,1423.04 446.214,1444.72 446.503,1444.72 446.792,1444.72 447.081,1444.72 447.37,1444.72 447.659,1444.72 447.948,1444.72 448.237,1445.71 448.526,1445.69 \n",
       "  448.815,1445.69 449.104,1445.65 449.393,1445.65 449.682,1437.45 449.971,1437.45 450.259,1437.45 450.548,1437.45 450.837,1437.45 451.126,1437.45 451.415,1437.45 \n",
       "  451.704,1433.44 451.993,1433.44 452.282,1440.79 452.571,1440.79 452.86,1440.79 453.149,1428.98 453.438,1428.98 453.727,1428.98 454.016,1428.98 454.305,1428.98 \n",
       "  454.593,1444.42 454.882,1444.42 455.171,1444.42 455.46,1444.42 455.749,1444.42 456.038,1444.42 456.327,1442.67 456.616,1442.67 456.905,1445.52 457.194,1445.52 \n",
       "  457.483,1434.59 457.772,1430 458.061,1430 458.35,1430 458.638,1430 458.927,1444.79 459.216,1445.67 459.505,1445.67 459.794,1445.67 460.083,1445.67 \n",
       "  460.372,1445.67 460.661,1445.67 460.95,1445.43 461.239,1445.43 461.528,1439.02 461.817,1439.02 462.106,1439.02 462.395,1439.02 462.684,1439.02 462.972,1439.02 \n",
       "  463.261,1438.8 463.55,1438.8 463.839,1426.54 464.128,1426.54 464.417,1426.54 464.706,1426.54 464.995,1426.54 465.284,1426.54 465.573,1426.54 465.862,1426.54 \n",
       "  466.151,1442.54 466.44,1442.54 466.729,1442.54 467.017,1435.02 467.306,1427 467.595,1426.99 467.884,1426.99 468.173,1426.99 468.462,1423.87 468.751,1423.87 \n",
       "  469.04,1423.87 469.329,1443.92 469.618,1416.88 469.907,1416.88 470.196,1426.12 470.485,1426.12 470.774,1426.12 471.063,1426.12 471.351,1426.12 471.64,1426.12 \n",
       "  471.929,1426.12 472.218,1426.12 472.507,1443.31 472.796,1415.49 473.085,1415.49 473.374,1438.8 473.663,1438.8 473.952,1438.8 474.241,1438.8 474.53,1374.75 \n",
       "  474.819,1374.75 475.108,1374.75 475.396,1374.75 475.685,1374.75 475.974,1374.75 476.263,1374.75 476.552,1374.75 476.841,1346.62 477.13,1346.62 477.419,1346.62 \n",
       "  477.708,1346.62 477.997,1357.62 478.286,1357.62 478.575,1300.74 478.864,1300.74 479.153,1353.07 479.442,1353.07 479.73,1353.07 480.019,1353.07 480.308,1347.15 \n",
       "  480.597,1347.15 480.886,1347.15 481.175,1293.66 481.464,1291.32 481.753,1291.32 482.042,1295.65 482.331,1295.65 482.62,1295.65 482.909,1295.65 483.198,1295.65 \n",
       "  483.487,1261.47 483.776,1268.02 484.064,1268.02 484.353,1268.02 484.642,1268.02 484.931,1268.02 485.22,1268.02 485.509,1270.38 485.798,1281.07 486.087,1281.07 \n",
       "  486.376,1365.99 486.665,1418.71 486.954,1431.91 487.243,1431.91 487.532,1431.14 487.821,1445.46 488.109,1445.46 488.398,1435.04 488.687,1435.04 488.976,1435.04 \n",
       "  489.265,1435.04 489.554,1435.04 489.843,1414.01 490.132,1430.78 490.421,1430.78 490.71,1444.89 490.999,1444.89 491.288,1444.89 491.577,1421.48 491.866,1421.48 \n",
       "  492.155,1421.48 492.443,1408.26 492.732,1408.26 493.021,1408.26 493.31,1408.26 493.599,1408.26 493.888,1328.29 494.177,1331.53 494.466,1331.53 494.755,1331.53 \n",
       "  495.044,1312.26 495.333,1312.26 495.622,1324.37 495.911,1288.93 496.2,1288.93 496.488,1288.93 496.777,1288.93 497.066,1288.93 497.355,1275.57 497.644,1275.57 \n",
       "  497.933,1242.44 498.222,1243.4 498.511,1242.44 498.8,1110.13 499.089,1110.13 499.378,1110.13 499.667,1110.13 499.956,1110.13 500.245,1110.13 500.534,979.663 \n",
       "  500.822,979.663 501.111,979.664 501.4,1032.21 501.689,1032.21 501.978,1046.86 502.267,1046.86 502.556,1184.52 502.845,1184.52 503.134,1390.82 503.423,1390.53 \n",
       "  503.712,1390.53 504.001,1390.53 504.29,1390.53 504.579,1393.56 504.867,1393.56 505.156,1393.56 505.445,1393.56 505.734,1393.56 506.023,1393.56 506.312,1416.97 \n",
       "  506.601,1416.59 506.89,1416.59 507.179,1439.31 507.468,1442.64 507.757,1445.72 508.046,1445.72 508.335,1445.72 508.624,1445.72 508.913,1445.72 509.201,1445.72 \n",
       "  509.49,1445.67 509.779,1445.67 510.068,1441.31 510.357,1441.31 510.646,1385.11 510.935,1385.11 511.224,1358.62 511.513,1358.62 511.802,1358.62 512.091,1358.62 \n",
       "  512.38,1358.62 512.669,1361.89 512.958,1301.3 513.246,1301.3 513.535,1236.82 513.824,1236.9 514.113,1236.97 514.402,1236.97 514.691,1279.66 514.98,1279.95 \n",
       "  515.269,1279.95 515.558,1280.01 515.847,1301.25 516.136,1301.25 516.425,1301.32 516.714,1301.32 517.003,1329.37 517.292,1329.43 517.58,1329.43 517.869,1302.59 \n",
       "  518.158,1302.59 518.447,1429.25 518.736,1429.25 519.025,1429.28 519.314,1429.28 519.603,1344.93 519.892,1344.93 520.181,1344.98 520.47,1344.98 520.759,1345.04 \n",
       "  521.048,1345.04 521.337,1345.09 521.625,1345.09 521.914,1252.04 522.203,1252.04 522.492,1252.1 522.781,1252.17 523.07,1252.17 523.359,1148.14 523.648,1252.55 \n",
       "  523.937,1252.55 524.226,1139.47 524.515,1240.14 524.804,1240.14 525.093,1240.2 525.382,1240.2 525.671,1240.25 525.959,1240.25 526.248,1240.25 526.537,1285.76 \n",
       "  526.826,1233.63 527.115,1271.45 527.404,1271.45 527.693,1271.45 527.982,1271.45 528.271,1271.45 528.56,1271.45 528.849,1271.45 529.138,1271.45 529.427,1286.38 \n",
       "  529.716,1286.38 530.004,1284.11 530.293,1314.53 530.582,1314.53 530.871,1314.53 531.16,1314.53 531.449,1371.91 531.738,1371.91 532.027,1371.9 532.316,1222.49 \n",
       "  532.605,1222.49 532.894,1222.49 533.183,1222.49 533.472,1232.94 533.761,1292.43 534.05,1292.43 534.338,1292.43 534.627,1225.55 534.916,1225.55 535.205,1292.43 \n",
       "  535.494,1292.43 535.783,1292.43 536.072,1292.43 536.361,1334.98 536.65,1334.99 536.939,1334.99 537.228,1334.99 537.517,1341.12 537.806,1341.12 538.095,1341.12 \n",
       "  538.384,1124.53 538.672,1124.53 538.961,1252.33 539.25,1252.33 539.539,1252.33 539.828,1252.33 540.117,1361.19 540.406,1387.82 540.695,1387.82 540.984,1387.82 \n",
       "  541.273,1403.04 541.562,1403.04 541.851,1426.88 542.14,1426.88 542.429,1426.88 542.717,1426.88 543.006,1426.88 543.295,1426.88 543.584,1411.04 543.873,1411.04 \n",
       "  544.162,1411.41 544.451,1429.82 544.74,1429.82 545.029,1429.82 545.318,1429.82 545.607,1429.82 545.896,1429.82 546.185,1430.16 546.474,1430.16 546.763,1430.16 \n",
       "  547.051,1430.16 547.34,1430.16 547.629,1442.44 547.918,1444.33 548.207,1444.33 548.496,1444.59 548.785,1444.59 549.074,1441.64 549.363,1441.64 549.652,1441.74 \n",
       "  549.941,1443.42 550.23,1437.41 550.519,1431.24 550.808,1431.24 551.096,1431.24 551.385,1390.5 551.674,1390.5 551.963,1365.69 552.252,1365.69 552.541,1365.69 \n",
       "  552.83,1365.69 553.119,1365.69 553.408,1365.69 553.697,1270.29 553.986,1355.32 554.275,1355.32 554.564,1355.32 554.853,1355.31 555.142,1336.97 555.43,1336.97 \n",
       "  555.719,1383.93 556.008,1383.93 556.297,1383.93 556.586,1383.93 556.875,1383.93 557.164,1383.93 557.453,1421.89 557.742,1421.89 558.031,1423.9 558.32,1423.9 \n",
       "  558.609,1442.43 558.898,1442.43 559.187,1442.43 559.475,1442.43 559.764,1445.43 560.053,1445.43 560.342,1445.43 560.631,1437.29 560.92,1437.29 561.209,1444.26 \n",
       "  561.498,1444.26 561.787,1426.98 562.076,1426.98 562.365,1426.98 562.654,1419.83 562.943,1419.83 563.232,1419.83 563.521,1433.44 563.809,1433.44 564.098,1432.97 \n",
       "  564.387,1432.97 564.676,1432.66 564.965,1432.7 565.254,1432.7 565.543,1432.7 565.832,1432.7 566.121,1432.7 566.41,1432.7 566.699,1432.7 566.988,1432.7 \n",
       "  567.277,1432.7 567.566,1432.7 567.854,1388.41 568.143,1426.18 568.432,1415.99 568.721,1415.99 569.01,1415.99 569.299,1415.99 569.588,1428.77 569.877,1436.79 \n",
       "  570.166,1436.79 570.455,1398.86 570.744,1398.86 571.033,1412.23 571.322,1412.23 571.611,1431.72 571.9,1431.97 572.188,1431.97 572.477,1431.97 572.766,1431.97 \n",
       "  573.055,1437.92 573.344,1437.92 573.633,1435.67 573.922,1435.67 574.211,1420.56 574.5,1420.56 574.789,1422.49 575.078,1422.49 575.367,1422.49 575.656,1422.49 \n",
       "  575.945,1428.9 576.233,1445.67 576.522,1445.67 576.811,1445.67 577.1,1445.67 577.389,1445.67 577.678,1445.52 577.967,1445.67 578.256,1444.13 578.545,1445.61 \n",
       "  578.834,1445.61 579.123,1445.61 579.412,1445.61 579.701,1442.31 579.99,1442.31 580.279,1442.31 580.567,1442.31 580.856,1442.31 581.145,1432.88 581.434,1432.88 \n",
       "  581.723,1432.88 582.012,1439.76 582.301,1444.08 582.59,1444.08 582.879,1420.56 583.168,1420.56 583.457,1420.56 583.746,1420.56 584.035,1444.08 584.324,1444.08 \n",
       "  584.612,1444.08 584.901,1440.62 585.19,1440.62 585.479,1440.62 585.768,1440.62 586.057,1440.28 586.346,1440.28 586.635,1440.28 586.924,1440.28 587.213,1440.28 \n",
       "  587.502,1440.28 587.791,1440.28 588.08,1432.67 588.369,1432.67 588.658,1432.67 588.946,1432.67 589.235,1435.33 589.524,1436.5 589.813,1436.5 590.102,1420.19 \n",
       "  590.391,1420.19 590.68,1420.19 590.969,1420.19 591.258,1410.17 591.547,1410.17 591.836,1410.17 592.125,1410.17 592.414,1414.05 592.703,1414.05 592.991,1414.05 \n",
       "  593.28,1394.74 593.569,1394.74 593.858,1434.13 594.147,1434.13 594.436,1437.73 594.725,1442.2 595.014,1442.2 595.303,1441.52 595.592,1441.52 595.881,1441.52 \n",
       "  596.17,1441.52 596.459,1440.57 596.748,1440.57 597.037,1440.57 597.325,1440.57 597.614,1443.71 597.903,1443.71 598.192,1443.02 598.481,1445.63 598.77,1445.63 \n",
       "  599.059,1444.79 599.348,1444.79 599.637,1444.79 599.926,1437.88 600.215,1437.88 600.504,1429.75 600.793,1429.75 601.082,1429.75 601.371,1429.75 601.659,1429.75 \n",
       "  601.948,1406.3 602.237,1375.75 602.526,1359.47 602.815,1359.47 603.104,1400.71 603.393,1400.71 603.682,1400.71 603.971,1439.99 604.26,1439.99 604.549,1444.52 \n",
       "  604.838,1444.52 605.127,1433.64 605.416,1439.66 605.704,1439.66 605.993,1439.66 606.282,1439.66 606.571,1439.66 606.86,1439.66 607.149,1439.66 607.438,1445.71 \n",
       "  607.727,1445.71 608.016,1431.89 608.305,1430.91 608.594,1430.91 608.883,1430.91 609.172,1430.91 609.461,1430.91 609.75,1430.91 610.038,1430.91 610.327,1439.34 \n",
       "  610.616,1445.39 610.905,1445.39 611.194,1445.39 611.483,1435.14 611.772,1435.14 612.061,1428.16 612.35,1428.16 612.639,1443.04 612.928,1404.97 613.217,1404.97 \n",
       "  613.506,1417.86 613.795,1417.86 614.083,1418.59 614.372,1418.59 614.661,1418.59 614.95,1407.7 615.239,1407.7 615.528,1407.03 615.817,1407.04 616.106,1407.03 \n",
       "  616.395,1216.65 616.684,1216.65 616.973,1216.65 617.262,1278.2 617.551,1278.2 617.84,1278.2 618.129,1369.96 618.417,1444.58 618.706,1445.52 618.995,1443.17 \n",
       "  619.284,1443.17 619.573,1440.92 619.862,1438.02 620.151,1438.02 620.44,1438.02 620.729,1438.02 621.018,1438.02 621.307,1438.02 621.596,1438.02 621.885,1438.02 \n",
       "  622.174,1438.02 622.462,1439.26 622.751,1439.26 623.04,1402.83 623.329,1402.83 623.618,1413.37 623.907,1373.71 624.196,1373.71 624.485,1373.71 624.774,1373.71 \n",
       "  625.063,1373.71 625.352,1373.71 625.641,1373.71 625.93,1373.71 626.219,1373.71 626.508,1373.71 626.796,1373.71 627.085,1413.37 627.374,1402.64 627.663,1402.64 \n",
       "  627.952,1410.91 628.241,1410.91 628.53,1396.64 628.819,1396.64 629.108,1437.16 629.397,1423.58 629.686,1440.06 629.975,1440.06 630.264,1442.72 630.553,1444.96 \n",
       "  630.841,1444.96 631.13,1444.96 631.419,1401.02 631.708,1401.02 631.997,1401.02 632.286,1401.02 632.575,1431.51 632.864,1410.9 633.153,1388.28 633.442,1388.28 \n",
       "  633.731,1388.28 634.02,1388.28 634.309,1388.28 634.598,1252.89 634.887,1252.89 635.175,1252.89 635.464,1252.89 635.753,1338.56 636.042,1336.5 636.331,1336.49 \n",
       "  636.62,1336.49 636.909,1336.49 637.198,1294.04 637.487,1273.03 637.776,1273.03 638.065,1273.02 638.354,1226.87 638.643,1226.87 638.932,1095.71 639.22,1095.7 \n",
       "  639.509,1095.7 639.798,1225.61 640.087,1213.16 640.376,1213.16 640.665,1222.92 640.954,1348.03 641.243,1389.13 641.532,1389.13 641.821,1420.33 642.11,1420.33 \n",
       "  642.399,1422.62 642.688,1422.62 642.977,1422.62 643.266,1422.62 643.554,1422.62 643.843,1422.62 644.132,1422.62 644.421,1422.62 644.71,1409.75 644.999,1403.66 \n",
       "  645.288,1403.66 645.577,1403.66 645.866,1371.52 646.155,1343.25 646.444,1343.25 646.733,1360.83 647.022,1360.83 647.311,1393.76 647.599,1393.78 647.888,1408.54 \n",
       "  648.177,1408.54 648.466,1390.02 648.755,1434.75 649.044,1428.76 649.333,1428.76 649.622,1428.76 649.911,1428.76 650.2,1428.76 650.489,1428.76 650.778,1428.76 \n",
       "  651.067,852.608 651.356,644.303 651.645,683.344 651.933,683.344 652.222,843.544 652.511,843.544 652.8,843.544 653.089,843.544 653.378,1043.8 653.667,1079.72 \n",
       "  653.956,1079.72 654.245,1079.72 654.534,1079.72 654.823,1079.72 655.112,1079.72 655.401,1079.72 655.69,1092.65 655.979,981.154 656.267,963.102 656.556,917.676 \n",
       "  656.845,854.199 657.134,854.199 657.423,938.092 657.712,938.092 658.001,938.092 658.29,938.092 658.579,938.092 658.868,1005.52 659.157,1005.52 659.446,1005.52 \n",
       "  659.735,1005.52 660.024,938.121 660.312,1075.17 660.601,1075.17 660.89,1075.17 661.179,1075.17 661.468,1045.49 661.757,1045.49 662.046,1108.76 662.335,1108.76 \n",
       "  662.624,1082.4 662.913,1089.06 663.202,1085.62 663.491,1180.33 663.78,1261.38 664.069,1260.02 664.358,1258.72 664.646,1258.72 664.935,1134.73 665.224,1134.71 \n",
       "  665.513,1134.71 665.802,1134.71 666.091,1134.71 666.38,1056.07 666.669,1056.07 666.958,1156.92 667.247,1156.92 667.536,1239.12 667.825,1239.13 668.114,1239.13 \n",
       "  668.403,1239.13 668.691,1239.13 668.98,1239.13 669.269,1239.13 669.558,1239.13 669.847,1445.41 670.136,1445.41 670.425,1428.67 670.714,1428.67 671.003,1431.39 \n",
       "  671.292,1431.39 671.581,1431.39 671.87,1431.39 672.159,1397.44 672.448,1366.35 672.737,1366.35 673.025,1441.02 673.314,1441.02 673.603,1442.85 673.892,1442.85 \n",
       "  674.181,1442.85 674.47,1442.85 674.759,1442.85 675.048,1442.85 675.337,1444.4 675.626,1441.42 675.915,1441.42 676.204,1443.52 676.493,1443.52 676.782,1443.52 \n",
       "  677.07,1434.07 677.359,1434.06 677.648,1434.06 677.937,1434.06 678.226,1444.84 678.515,1416.19 678.804,1293 679.093,1293 679.382,1293 679.671,1293 \n",
       "  679.96,1293 680.249,1293 680.538,1293 680.827,1293 681.116,1293 681.404,1293 681.693,1306.04 681.982,1314.53 682.271,1314.53 682.56,1309 \n",
       "  682.849,1322.35 683.138,1322.35 683.427,1322.35 683.716,1322.35 684.005,1322.35 684.294,1322.35 684.583,1322.35 684.872,1322.35 685.161,1391.16 685.449,1391.16 \n",
       "  685.738,1426.29 686.027,1426.29 686.316,1388.4 686.605,1388.4 686.894,1355.07 687.183,1355.07 687.472,1355.07 687.761,1355.07 688.05,1370.89 688.339,1370.89 \n",
       "  688.628,1370.89 688.917,1393.7 689.206,1393.7 689.495,1376.23 689.783,1376.23 690.072,1431.76 690.361,1431.77 690.65,1431.77 690.939,1427.63 691.228,1427.63 \n",
       "  691.517,1428.19 691.806,1428.19 692.095,1427.63 692.384,1427.63 692.673,1427.63 692.962,1445.63 693.251,1445.63 693.54,1445.63 693.828,1445.63 694.117,1445.55 \n",
       "  694.406,1445.55 694.695,1445.55 694.984,1445.55 695.273,1425.65 695.562,1425.65 695.851,1425.65 696.14,1427.22 696.429,1427.22 696.718,1427.22 697.007,1440.12 \n",
       "  697.296,1396.09 697.585,1396.09 697.874,1396.09 698.162,1396.09 698.451,1431.99 698.74,1431.99 699.029,1430.69 699.318,1430.69 699.607,1430.69 699.896,1430.69 \n",
       "  700.185,1430.69 700.474,1382.9 700.763,1436.05 701.052,1427.03 701.341,1427.03 701.63,1429.81 701.919,1396.12 702.207,1396.12 702.496,1396.12 702.785,1396.11 \n",
       "  703.074,1355.82 703.363,1355.82 703.652,1375.7 703.941,1375.7 704.23,1397.98 704.519,1430.87 704.808,1430.87 705.097,1430.87 705.386,1430.87 705.675,1428.21 \n",
       "  705.964,1428.21 706.253,1436.67 706.541,1440.37 706.83,1440.37 707.119,1440.37 707.408,1443.19 707.697,1443.19 707.986,1444.99 708.275,1444.99 708.564,1444.91 \n",
       "  708.853,1444.91 709.142,1444.91 709.431,1444.91 709.72,1444.91 710.009,1432.32 710.298,1439.28 710.586,1439.28 710.875,1445.64 711.164,1432.36 711.453,1432.36 \n",
       "  711.742,1432.36 712.031,1432.36 712.32,1432.36 712.609,1432.36 712.898,1432.36 713.187,1432.36 713.476,1440.89 713.765,1440.89 714.054,1440.89 714.343,1440.89 \n",
       "  714.632,1444.89 714.92,1444.89 715.209,1442.97 715.498,1442.97 715.787,1442.21 716.076,1442.21 716.365,1442.21 716.654,1442.21 716.943,1445.72 717.232,1445.72 \n",
       "  717.521,1445.44 717.81,1445.44 718.099,1445.44 718.388,1445.25 718.677,1445.25 718.966,1445.25 719.254,1445.33 719.543,1445.33 719.832,1444.08 720.121,1444.08 \n",
       "  720.41,1443.99 720.699,1444.35 720.988,1442.24 721.277,1442.24 721.566,1442.24 721.855,1434.21 722.144,1438.54 722.433,1438.54 722.722,1438.54 723.011,1438.54 \n",
       "  723.299,1445.41 723.588,1445.54 723.877,1437.28 724.166,1437.25 724.455,1429.78 724.744,1429.78 725.033,1429.8 725.322,1429.8 725.611,1423.57 725.9,1423.57 \n",
       "  726.189,1441.4 726.478,1439.72 726.767,1441.02 727.056,1439.76 727.345,1439.76 727.633,1431.53 727.922,1431.53 728.211,1431.54 728.5,1431.54 728.789,1445.46 \n",
       "  729.078,1445.46 729.367,1439.38 729.656,1439.38 729.945,1444.45 730.234,1444.45 730.523,1443.06 730.812,1443.06 731.101,1424.31 731.39,1424.27 731.678,1424.27 \n",
       "  731.967,1440.23 732.256,1437.29 732.545,1437.29 732.834,1428.93 733.123,1428.92 733.412,1428.92 733.701,1394.12 733.99,1394.11 734.279,1394.11 734.568,1394.1 \n",
       "  734.857,1394.1 735.146,1394.1 735.435,1394.09 735.724,1394.09 736.012,1424.98 736.301,1424.98 736.59,1424.97 736.879,1424.97 737.168,1421.29 737.457,1406.89 \n",
       "  737.746,1406.89 738.035,1406.89 738.324,1406.89 738.613,1406.89 738.902,1391.47 739.191,1391.47 739.48,1391.47 739.769,1391.47 740.057,1429.77 740.346,1429.78 \n",
       "  740.635,1429.78 740.924,1424.7 741.213,1424.7 741.502,1384.83 741.791,1384.83 742.08,1384.83 742.369,1384.83 742.658,1384.83 742.947,1426.73 743.236,1426.78 \n",
       "  743.525,1426.78 743.814,1294.63 744.103,1368.19 744.391,1330.84 744.68,1330.84 744.969,1423.77 745.258,1445.12 745.547,1445.12 745.836,1445.12 746.125,1445.12 \n",
       "  746.414,1434.38 746.703,1390.81 746.992,1390.95 747.281,1316.36 747.57,1316.36 747.859,1316.49 748.148,1333.94 748.436,1351.82 748.725,1351.82 749.014,1284.2 \n",
       "  749.303,1354.05 749.592,1354.05 749.881,1354.05 750.17,1354.04 750.459,1354.04 750.748,1354.03 751.037,1354.03 751.326,1352.63 751.615,1352.62 751.904,1352.61 \n",
       "  752.193,1352.61 752.482,1375.19 752.77,1375.19 753.059,1375.19 753.348,1375.19 753.637,1375.16 753.926,1375.16 754.215,1375.16 754.504,1315.95 754.793,1315.95 \n",
       "  755.082,1315.77 755.371,1315.77 755.66,1315.77 755.949,1315.77 756.238,1315.77 756.527,1316.29 756.815,1316.29 757.104,1316.24 757.393,1316.24 757.682,1239.65 \n",
       "  757.971,1239.65 758.26,1239.59 758.549,1239.59 758.838,1128.16 759.127,1128.16 759.416,1134.09 759.705,1134.09 759.994,980.247 760.283,980.247 760.572,1136.59 \n",
       "  760.861,1136.59 761.149,1156.16 761.438,1156.06 761.727,1156.06 762.016,1146.1 762.305,1146.1 762.594,1102.84 762.883,1102.84 763.172,1102.84 763.461,1102.84 \n",
       "  763.75,1102.84 764.039,1153.48 764.328,1153.48 764.617,1153.48 764.906,1153.48 765.194,1153.48 765.483,1153.48 765.772,1153.48 766.061,1187.8 766.35,1187.8 \n",
       "  766.639,1197.43 766.928,1197.43 767.217,1242.4 767.506,1242.4 767.795,1248.52 768.084,1248.52 768.373,1248.52 768.662,1248.52 768.951,1400.47 769.24,1400.47 \n",
       "  769.528,1401.62 769.817,1401.62 770.106,1445.66 770.395,1445.66 770.684,1445.66 770.973,1445.66 771.262,1432.48 771.551,1432.48 771.84,1432.48 772.129,1444.9 \n",
       "  772.418,1444.9 772.707,1444.9 772.996,1444.9 773.285,1444.9 773.574,1444.9 773.862,1445.1 774.151,1445.1 774.44,1445.1 774.729,1414.02 775.018,1414.02 \n",
       "  775.307,1414.02 775.596,1411.22 775.885,1411.22 776.174,1411.22 776.463,1411.22 776.752,1411.22 777.041,1434.99 777.33,1445.47 777.619,1445.47 777.907,1444.51 \n",
       "  778.196,1444.25 778.485,1444.33 778.774,1444.33 779.063,1444.42 779.352,1444.42 779.641,1444.5 779.93,1445.63 780.219,1445.61 780.508,1439.88 780.797,1443.13 \n",
       "  781.086,1440.91 781.375,1441.41 781.664,1445.56 781.953,1441.3 782.241,1442.22 782.53,1442.22 782.819,1439.72 783.108,1393.85 783.397,1375.97 783.686,1375.97 \n",
       "  783.975,1421.24 784.264,1421.24 784.553,1444.17 784.842,1444.17 785.131,1444.28 785.42,1444.28 785.709,1421.54 785.998,1421.54 786.286,1421.54 786.575,1423.7 \n",
       "  786.864,1423.7 787.153,1423.7 787.442,1444.99 787.731,1444.99 788.02,1329.36 788.309,1376.93 788.598,1376.93 788.887,1376.93 789.176,1376.93 789.465,1376.93 \n",
       "  789.754,1376.93 790.043,1300.86 790.332,1378.13 790.62,1378.13 790.909,1385.52 791.198,1430.28 791.487,1430.28 791.776,1410.95 792.065,1354.23 792.354,1360.58 \n",
       "  792.643,1360.58 792.932,1349.4 793.221,1349.4 793.51,1312.06 793.799,1207.55 794.088,1272.16 794.377,1272.16 794.665,1223.1 794.954,1223.1 795.243,1276.58 \n",
       "  795.532,1252.39 795.821,1245.3 796.11,1153.73 796.399,1067.24 796.688,1067.24 796.977,1067.24 797.266,1067.24 797.555,1067.24 797.844,1089.38 798.133,1089.38 \n",
       "  798.422,1190.26 798.711,1190.03 798.999,1190.03 799.288,1088.77 799.577,1088.76 799.866,1137.13 800.155,1137.13 800.444,1132.65 800.733,1125.38 801.022,1132.76 \n",
       "  801.311,1132.76 801.6,1172.95 801.889,1172.95 802.178,1172.95 802.467,1172.95 802.756,1256.83 803.044,1256.83 803.333,1283.45 803.622,1289.26 803.911,1289.26 \n",
       "  804.2,1355.41 804.489,1442.34 804.778,1432.11 805.067,1424.46 805.356,1395.67 805.645,1395.67 805.934,1407.68 806.223,1407.68 806.512,1407.68 806.801,1406.83 \n",
       "  807.09,1406.83 807.378,1406.83 807.667,1406.83 807.956,1406.83 808.245,1406.83 808.534,1406.83 808.823,1406.83 809.112,1434.04 809.401,1434.04 809.69,1434.04 \n",
       "  809.979,1434.04 810.268,1434.04 810.557,1434.04 810.846,1434.04 811.135,1434.04 811.423,1443.53 811.712,1439.17 812.001,1439.17 812.29,1439.02 812.579,1439.02 \n",
       "  812.868,1362.06 813.157,1340.03 813.446,1328.95 813.735,1328.95 814.024,1330.7 814.313,1332.43 814.602,1337.55 814.891,1337.55 815.18,1339.12 815.469,1339.12 \n",
       "  815.757,1340.81 816.046,1347.41 816.335,1393.13 816.624,1393.13 816.913,1394.24 817.202,1394.24 817.491,1395.42 817.78,1383.64 818.069,1384.95 818.358,1384.95 \n",
       "  818.647,1386.15 818.936,1387.44 819.225,1390.59 819.514,1391.74 819.802,1391.74 820.091,1392.99 820.38,1445.63 820.669,1445.63 820.958,1445.57 821.247,1445.57 \n",
       "  821.536,1445.06 821.825,1443.08 822.114,1443.08 822.403,1443.59 822.692,1443.59 822.981,1443.83 823.27,1443.83 823.559,1419.55 823.848,1408.98 824.136,1408.98 \n",
       "  824.425,1428.12 824.714,1428.12 825.003,1428.86 825.292,1428.86 825.581,1429.57 825.87,1430.22 826.159,1430.22 826.448,1407.25 826.737,1407.25 827.026,1408.36 \n",
       "  827.315,1408.36 827.604,1414.05 827.893,1414.05 828.182,1414.05 828.47,1414.05 828.759,1414.05 829.048,1414.05 829.337,1414.05 829.626,1414.05 829.915,1254.82 \n",
       "  830.204,1254.82 830.493,1254.82 830.782,1262.19 831.071,1439.33 831.36,1439.33 831.649,1442.15 831.938,1442.15 832.227,1445.7 832.515,1445.7 832.804,1444.65 \n",
       "  833.093,1444.65 833.382,1445.31 833.671,1445.31 833.96,1445.31 834.249,1433.47 834.538,1436.08 834.827,1445.06 835.116,1445.06 835.405,1445.06 835.694,1443.59 \n",
       "  835.983,1443.71 836.272,1443.71 836.561,1444.94 836.849,1444.94 837.138,1410.39 837.427,1410.37 837.716,1412.9 838.005,1412.9 838.294,1437.51 838.583,1437.51 \n",
       "  838.872,1437.51 839.161,1437.51 839.45,1427.36 839.739,1427.36 840.028,1407.97 840.317,1425.54 840.606,1413.58 840.894,1369.49 841.183,1351.15 841.472,1351.15 \n",
       "  841.761,1372.79 842.05,1372.79 842.339,1369.7 842.628,1369.7 842.917,1332.36 843.206,1332.36 843.495,1332.36 843.784,1332.36 844.073,1309.57 844.362,1309.57 \n",
       "  844.651,1334.67 844.94,1334.67 845.228,1334.67 845.517,1350.1 845.806,1348.93 846.095,1348.93 846.384,1348.93 846.673,1278.22 846.962,1242.04 847.251,1255.45 \n",
       "  847.54,1255.45 847.829,1255.45 848.118,1255.45 848.407,1262.3 848.696,1262.3 848.985,1262.3 849.273,1262.3 849.562,1358.08 849.851,1358.08 850.14,1442.97 \n",
       "  850.429,1442.97 850.718,1442.97 851.007,1442.97 851.296,1442.97 851.585,1442.97 851.874,1442.97 852.163,1445.46 852.452,1445.46 852.741,1445.46 853.03,1439.77 \n",
       "  853.319,1439.77 853.607,1439.77 853.896,1440.92 854.185,1435.87 854.474,1435.87 854.763,1435.87 855.052,1431.7 855.341,1429.67 855.63,1429.67 855.919,1429.67 \n",
       "  856.208,1417.11 856.497,1404.65 856.786,1404.65 857.075,1404.65 857.364,1404.65 857.652,1404.65 857.941,1404.65 858.23,1186.19 858.519,1186.05 858.808,809.51 \n",
       "  859.097,809.51 859.386,748.2 859.675,748.2 859.964,921.793 860.253,921.793 860.542,921.793 860.831,921.793 861.12,921.793 861.409,921.793 861.698,921.793 \n",
       "  861.986,690.451 862.275,929.784 862.564,929.784 862.853,929.784 863.142,929.784 863.431,929.782 863.72,944.805 864.009,1230.95 864.298,1230.95 864.587,1230.95 \n",
       "  864.876,1230.95 865.165,1230.95 865.454,1230.95 865.743,1230.95 866.031,1230.95 866.32,1288.91 866.609,1378.41 866.898,1378.41 867.187,1378.41 867.476,1378.41 \n",
       "  867.765,1284.71 868.054,1284.71 868.343,1284.71 868.632,1284.71 868.921,1284.71 869.21,1284.71 869.499,1359.54 869.788,1359.54 870.077,1406.16 870.365,1406.16 \n",
       "  870.654,1406.16 870.943,1406.16 871.232,1406.16 871.521,1406.16 871.81,1396.68 872.099,1396.68 872.388,1385.85 872.677,1364.39 872.966,1364.39 873.255,1299.52 \n",
       "  873.544,1299.52 873.833,1299.52 874.122,1299.52 874.41,1316.73 874.699,1316.73 874.988,1316.73 875.277,1316.73 875.566,1316.72 875.855,1276.6 876.144,1276.6 \n",
       "  876.433,1276.6 876.722,1276.6 877.011,1276.6 877.3,1276.6 877.589,1276.6 877.878,1276.6 878.167,1348.03 878.456,1348.03 878.744,1408.65 879.033,1408.65 \n",
       "  879.322,1422.95 879.611,1422.95 879.9,1422.95 880.189,1422.95 880.478,1433.39 880.767,1433.39 881.056,1440.57 881.345,1440.57 881.634,1441.49 881.923,1441.49 \n",
       "  882.212,1428.07 882.501,1428.07 882.789,1428.07 883.078,1428.07 883.367,1428.07 883.656,1428.07 883.945,1382.66 884.234,1382.66 884.523,1428.69 884.812,1428.69 \n",
       "  885.101,1428.69 885.39,1428.69 885.679,1428.69 885.968,1428.69 886.257,1445.7 886.546,1407.78 886.835,1407.78 887.123,1416.37 887.412,1416.37 887.701,1416.37 \n",
       "  887.99,1416.37 888.279,1416.37 888.568,1412.15 888.857,1416.06 889.146,1416.06 889.435,1383.65 889.724,1383.65 890.013,1393.94 890.302,1393.94 890.591,1343.01 \n",
       "  890.88,1343.01 891.169,1396.62 891.457,1436.01 891.746,1436.01 892.035,1444 892.324,1444 892.613,1444 892.902,1439.72 893.191,1439.72 893.48,1439.72 \n",
       "  893.769,1439.72 894.058,1439.72 894.347,1439.72 894.636,1445.7 894.925,1434.22 895.214,1434.22 895.502,1418.59 895.791,1418.59 896.08,1418.59 896.369,1418.59 \n",
       "  896.658,1418.59 896.947,1418.59 897.236,1437.88 897.525,1443 897.814,1406.07 898.103,1406.07 898.392,1370.66 898.681,1370.66 898.97,1370.66 899.259,1351.38 \n",
       "  899.548,1351.38 899.836,1351.38 900.125,1351.38 900.414,1435.44 900.703,1435.44 900.992,1445.71 901.281,1445.71 901.57,1445.71 901.859,1445.47 902.148,1445.47 \n",
       "  902.437,1444.97 902.726,1444.97 903.015,1444.97 903.304,1444.97 903.593,1445.19 903.881,1445.19 904.17,1445.19 904.459,1445.15 904.748,1445.15 905.037,1445.7 \n",
       "  905.326,1444.07 905.615,1444.07 905.904,1444.07 906.193,1444.07 906.482,1444.07 906.771,1444.09 907.06,1444.63 907.349,1445.16 907.638,1445.16 907.927,1445.16 \n",
       "  908.215,1445.16 908.504,1445.16 908.793,1419.78 909.082,1419.78 909.371,1409.15 909.66,1417.96 909.949,1439.91 910.238,1442.66 910.527,1442.66 910.816,1442.66 \n",
       "  911.105,1442.66 911.394,1415.97 911.683,1415.97 911.972,1415.97 912.26,1415.97 912.549,1404.42 912.838,1404.42 913.127,1413.05 913.416,1428.8 913.705,1435.27 \n",
       "  913.994,1435.27 914.283,1445.7 914.572,1429.03 914.861,1429.03 915.15,1429.03 915.439,1429.03 915.728,1444.6 916.017,1444.6 916.306,1444.6 916.594,1444.6 \n",
       "  916.883,1444.6 917.172,1444.6 917.461,1444.6 917.75,1445.23 918.039,1436.32 918.328,1436.32 918.617,1436.32 918.906,1436.32 919.195,1436.32 919.484,1425.55 \n",
       "  919.773,1444.69 920.062,1444.69 920.351,1445.54 920.639,1445.54 920.928,1445.33 921.217,1445.64 921.506,1445.64 921.795,1444.41 922.084,1444.41 922.373,1444.41 \n",
       "  922.662,1444.41 922.951,1444.41 923.24,1443.96 923.529,1443.96 923.818,1443.96 924.107,1443.96 924.396,1443.33 924.685,1443.98 924.973,1443.98 925.262,1436.53 \n",
       "  925.551,1436.53 925.84,1436.53 926.129,1436.53 926.418,1436.53 926.707,1436.53 926.996,1428.88 927.285,1428.88 927.574,1274.23 927.863,1274.23 928.152,1368.3 \n",
       "  928.441,1407.99 928.73,1445.71 929.018,1434.67 929.307,1433.94 929.596,1433.94 929.885,1433.94 930.174,1440.36 930.463,1440.36 930.752,1440.36 931.041,1440.36 \n",
       "  931.33,1440.49 931.619,1441.43 931.908,1441.43 932.197,1442.78 932.486,1442.78 932.775,1442.88 933.064,1442.88 933.352,1442.97 933.641,1443.06 933.93,1445.59 \n",
       "  934.219,1445.59 934.508,1445.59 934.797,1445.59 935.086,1422.14 935.375,1407.34 935.664,1407.34 935.953,1310.26 936.242,1310.26 936.531,1243.71 936.82,1243.71 \n",
       "  937.109,1244.63 937.397,1244.63 937.686,1245.63 937.975,1246.65 938.264,1246.65 938.553,1247.68 938.842,1247.68 939.131,1235.33 939.42,1237.53 939.709,1237.53 \n",
       "  939.998,1238.65 940.287,1238.65 940.576,1166.67 940.865,1179.31 941.154,1267.01 941.443,1267.01 941.731,1291.15 942.02,1291.15 942.309,1291.15 942.598,1291.15 \n",
       "  942.887,1291.16 943.176,1436.01 943.465,1436.01 943.754,1439.49 944.043,1441.56 944.332,1445.69 944.621,1445.69 944.91,1443.27 945.199,1443.26 945.488,1443.26 \n",
       "  945.777,1443.26 946.065,1445.54 946.354,1445.54 946.643,1445.54 946.932,1445.54 947.221,1416.67 947.51,1415.35 947.799,1415.35 948.088,1415.35 948.377,1415.35 \n",
       "  948.666,1415.35 948.955,1415.35 949.244,1415.35 949.533,1427.9 949.822,1427.9 950.11,1422.8 950.399,1444.76 950.688,1444.76 950.977,1444.76 951.266,1385.66 \n",
       "  951.555,1385.65 951.844,1385.65 952.133,1377.5 952.422,1341.76 952.711,1263.11 953,1136.57 953.289,1330.65 953.578,1330.66 953.867,1330.66 954.156,1334.94 \n",
       "  954.444,1378.85 954.733,1378.85 955.022,1378.85 955.311,1378.85 955.6,1378.85 955.889,1378.85 956.178,1378.85 956.467,1386.2 956.756,1386.2 957.045,1383.77 \n",
       "  957.334,1365.22 957.623,1365.22 957.912,1365.22 958.201,1365.22 958.489,1360.84 958.778,1360.84 959.067,1366.72 959.356,1366.72 959.645,1285.57 959.934,1309.39 \n",
       "  960.223,1309.39 960.512,1241.72 960.801,1241.72 961.09,1338.37 961.379,1338.37 961.668,1338.37 961.957,1338.37 962.246,1375.14 962.535,1375.14 962.823,1291.99 \n",
       "  963.112,1273.66 963.401,1273.66 963.69,1273.66 963.979,1273.67 964.268,1374.41 964.557,1374.41 964.846,1351.69 965.135,1351.69 965.424,1351.69 965.713,1351.69 \n",
       "  966.002,1342.84 966.291,1342.84 966.58,1342.84 966.868,1342.84 967.157,1406.89 967.446,1406.89 967.735,1418.76 968.024,1418.49 968.313,1418.49 968.602,1418.49 \n",
       "  968.891,1418.49 969.18,1430.67 969.469,1430.67 969.758,1430.67 970.047,1430.67 970.336,1430.67 970.625,1430.67 970.914,1430.72 971.202,1399.61 971.491,1399.61 \n",
       "  971.78,1399.61 972.069,1399.6 972.358,1390.86 972.647,1406.29 972.936,1406.29 973.225,1406.29 973.514,1391.69 973.803,1391.69 974.092,1391.69 974.381,1388.82 \n",
       "  974.67,1388.82 974.959,1378.1 975.247,1378.1 975.536,1346.67 975.825,1346.67 976.114,1347.28 976.403,1347.28 976.692,1347.28 976.981,1347.28 977.27,1347.28 \n",
       "  977.559,1347.28 977.848,1254.11 978.137,1254.11 978.426,1254.11 978.715,1254.11 979.004,1261.89 979.293,1261.89 979.581,1271.03 979.87,1271.03 980.159,1282.71 \n",
       "  980.448,1321.7 980.737,1321.7 981.026,1293.05 981.315,1293.05 981.604,1293.05 981.893,1293.05 982.182,1301.85 982.471,1301.85 982.76,1205.91 983.049,1205.91 \n",
       "  983.338,1345.93 983.626,1345.94 983.915,1345.94 984.204,1315.6 984.493,1315.6 984.782,1315.6 985.071,1315.6 985.36,1283.14 985.649,1283.14 985.938,1283.16 \n",
       "  986.227,1408.33 986.516,1408.33 986.805,1408.33 987.094,1408.33 987.383,1394.64 987.672,1411.71 987.96,1411.71 988.249,1438.93 988.538,1426.71 988.827,1426.71 \n",
       "  989.116,1441.52 989.405,1441.52 989.694,1444.39 989.983,1444.39 990.272,1419.74 990.561,1369.63 990.85,1369.63 991.139,1369.63 991.428,1436.17 991.717,1436.17 \n",
       "  992.005,1436.17 992.294,1436.17 992.583,1409.4 992.872,1409.39 993.161,1409.39 993.45,1437.3 993.739,1437.3 994.028,1437.3 994.317,1441.82 994.606,1443.14 \n",
       "  994.895,1443.14 995.184,1443.14 995.473,1443.14 995.762,1445.51 996.051,1445.51 996.339,1444.46 996.628,1444.46 996.917,1444.46 997.206,1444.46 997.495,1443.84 \n",
       "  997.784,1443.84 998.073,1443.84 998.362,1443.84 998.651,1442.3 998.94,1442.3 999.229,1429.92 999.518,1443.68 999.807,1443.8 1000.1,1443.8 1000.38,1443.93 \n",
       "  1000.67,1440.37 1000.96,1444.61 1001.25,1444.61 1001.54,1432.27 1001.83,1432.27 1002.12,1442.47 1002.41,1442.47 1002.7,1442.47 1002.98,1442.47 1003.27,1445.67 \n",
       "  1003.56,1445.13 1003.85,1444.63 1004.14,1444.63 1004.43,1443.31 1004.72,1445.68 1005.01,1445.68 1005.3,1421.25 1005.59,1421.25 1005.87,1432.88 1006.16,1432.88 \n",
       "  1006.45,1432.88 1006.74,1432.88 1007.03,1432.88 1007.32,1432.88 1007.61,1432.88 1007.9,1432.88 1008.19,1432.88 1008.47,1432.88 1008.76,1444.66 1009.05,1444.66 \n",
       "  1009.34,1445.65 1009.63,1444.97 1009.92,1444.97 1010.21,1444.97 1010.5,1438.97 1010.79,1438.97 1011.07,1438.97 1011.36,1438.97 1011.65,1438.97 1011.94,1438.97 \n",
       "  1012.23,1418.37 1012.52,1418.37 1012.81,1418.07 1013.1,1440.02 1013.39,1440.02 1013.68,1444.44 1013.96,1444.56 1014.25,1444.68 1014.54,1444.68 1014.83,1428.05 \n",
       "  1015.12,1417.03 1015.41,1417.03 1015.7,1417.03 1015.99,1417.03 1016.28,1426.3 1016.56,1426.3 1016.85,1426.3 1017.14,1406.47 1017.43,1406.47 1017.72,1375.7 \n",
       "  1018.01,1375.7 1018.3,1375.7 1018.59,1375.7 1018.88,1375.7 1019.17,1299.33 1019.45,1284.67 1019.74,1349.26 1020.03,1349.27 1020.32,1349.27 1020.61,1352.97 \n",
       "  1020.9,1352.97 1021.19,1410.93 1021.48,1410.93 1021.77,1348.9 1022.05,1348.9 1022.34,1348.9 1022.63,1348.9 1022.92,1121.23 1023.21,1121.22 1023.5,1041.11 \n",
       "  1023.79,1041.11 1024.08,1007.06 1024.37,1000.48 1024.65,1000.48 1024.94,1090.49 1025.23,1090.49 1025.52,1239.28 1025.81,1239.29 1026.1,1239.29 1026.39,1239.29 \n",
       "  1026.68,1239.29 1026.97,1239.29 1027.26,1239.29 1027.54,1239.29 1027.83,1239.29 1028.12,1239.29 1028.41,1239.29 1028.7,1239.29 1028.99,1239.29 1029.28,1239.28 \n",
       "  1029.57,1148.82 1029.86,1148.82 1030.14,1148.82 1030.43,1148.82 1030.72,1139.8 1031.01,1139.8 1031.3,1139.8 1031.59,1139.8 1031.88,1091.27 1032.17,980.41 \n",
       "  1032.46,980.41 1032.74,940.55 1033.03,940.55 1033.32,984.018 1033.61,1080.91 1033.9,1080.91 1034.19,1313.17 1034.48,1313.17 1034.77,1387.3 1035.06,1387.31 \n",
       "  1035.35,1387.31 1035.63,1313.98 1035.92,1313.98 1036.21,1313.98 1036.5,1313.98 1036.79,1313.98 1037.08,1313.98 1037.37,1254.54 1037.66,1254.54 1037.95,1254.54 \n",
       "  1038.23,1254.54 1038.52,1277.61 1038.81,1277.61 1039.1,1314.84 1039.39,1346.29 1039.68,1346.29 1039.97,1370.36 1040.26,1370.36 1040.55,1370.36 1040.83,1370.36 \n",
       "  1041.12,1361.53 1041.41,1361.53 1041.7,1370.21 1041.99,1370.21 1042.28,1370.21 1042.57,1431.05 1042.86,1431.05 1043.15,1375.09 1043.44,1375.09 1043.72,1375.09 \n",
       "  1044.01,1375.09 1044.3,1375.09 1044.59,1401.89 1044.88,1432.77 1045.17,1432.77 1045.46,1426.96 1045.75,1378.42 1046.04,1378.42 1046.32,1378.42 1046.61,1378.42 \n",
       "  1046.9,1445.08 1047.19,1445.08 1047.48,1445.08 1047.77,1445.08 1048.06,1445.14 1048.35,1442.82 1048.64,1442.82 1048.92,1444.3 1049.21,1444.25 1049.5,1360.67 \n",
       "  1049.79,1360.67 1050.08,1364.45 1050.37,1363.58 1050.66,1367.42 1050.95,1367.42 1051.24,1353.93 1051.53,1307.96 1051.81,1357.34 1052.1,1387.01 1052.39,1433.53 \n",
       "  1052.68,1433.53 1052.97,1434.5 1053.26,1438.42 1053.55,1438.42 1053.84,1438.42 1054.13,1438.42 1054.41,1425.24 1054.7,1425.24 1054.99,1437.33 1055.28,1437.33 \n",
       "  1055.57,1437.33 1055.86,1440.05 1056.15,1300.74 1056.44,1300.74 1056.73,1270.31 1057.02,1270.31 1057.3,1268.56 1057.59,1268.56 1057.88,1259.1 1058.17,1241.88 \n",
       "  1058.46,1241.88 1058.75,1241.88 1059.04,1219.12 1059.33,1219.12 1059.62,1219.12 1059.9,1219.12 1060.19,1219.12 1060.48,1219.12 1060.77,1219.12 1061.06,1219.12 \n",
       "  1061.35,646.464 1061.64,646.463 1061.93,646.464 1062.22,799.341 1062.5,675.272 1062.79,613.717 1063.08,613.717 1063.37,613.717 1063.66,716.432 1063.95,716.432 \n",
       "  1064.24,734.616 1064.53,734.616 1064.82,656.81 1065.11,640.843 1065.39,871.462 1065.68,871.462 1065.97,871.462 1066.26,871.462 1066.55,898.633 1066.84,898.633 \n",
       "  1067.13,890.448 1067.42,890.448 1067.71,891.646 1067.99,891.646 1068.28,891.646 1068.57,891.646 1068.86,891.646 1069.15,891.646 1069.44,891.646 1069.73,891.646 \n",
       "  1070.02,690.283 1070.31,690.274 1070.59,678.166 1070.88,678.166 1071.17,630.464 1071.46,630.464 1071.75,315.948 1072.04,272.89 1072.33,272.89 1072.62,161.181 \n",
       "  1072.91,161.181 1073.2,155.639 1073.48,155.639 1073.77,155.635 1074.06,87.9763 1074.35,156.817 1074.64,156.819 1074.93,156.819 1075.22,205.105 1075.51,198.389 \n",
       "  1075.8,305.701 1076.08,347.905 1076.37,583.995 1076.66,755.675 1076.95,755.675 1077.24,1003.8 1077.53,1003.8 1077.82,1003.8 1078.11,1003.8 1078.4,1003.8 \n",
       "  1078.68,1003.8 1078.97,1092.1 1079.26,1092.1 1079.55,1092.1 1079.84,1092.1 1080.13,1092.1 1080.42,1092.1 1080.71,1092.1 1081,1077.8 1081.29,1077.8 \n",
       "  1081.57,1065 1081.86,1065 1082.15,1063.19 1082.44,896.791 1082.73,896.791 1083.02,917.398 1083.31,917.398 1083.6,917.398 1083.89,917.398 1084.17,936.632 \n",
       "  1084.46,936.632 1084.75,957.938 1085.04,778.735 1085.33,778.735 1085.62,778.735 1085.91,778.73 1086.2,1017.21 1086.49,986.508 1086.77,986.508 1087.06,1033.95 \n",
       "  1087.35,1033.95 1087.64,1133.81 1087.93,1133.81 1088.22,1133.81 1088.51,1133.81 1088.8,1133.81 1089.09,1133.81 1089.38,1196.51 1089.66,1196.51 1089.95,1196.51 \n",
       "  1090.24,1196.51 1090.53,1196.51 1090.82,1196.51 1091.11,1196.51 1091.4,1196.51 1091.69,1196.49 1091.98,1091.67 1092.26,1091.67 1092.55,1091.66 1092.84,1106.76 \n",
       "  1093.13,1032.87 1093.42,971.035 1093.71,1006.53 1094,1006.53 1094.29,904.841 1094.58,904.833 1094.87,904.833 1095.15,911.172 1095.44,911.175 1095.73,911.175 \n",
       "  1096.02,911.185 1096.31,1037.85 1096.6,1037.87 1096.89,1037.87 1097.18,1037.87 1097.47,1037.87 1097.75,1005.88 1098.04,1005.88 1098.33,1005.88 1098.62,1005.88 \n",
       "  1098.91,1005.89 1099.2,1108.33 1099.49,1108.35 1099.78,1108.35 1100.07,1046.95 1100.35,1046.94 1100.64,1046.94 1100.93,1046.94 1101.22,915.699 1101.51,915.677 \n",
       "  1101.8,915.623 1102.09,752.55 1102.38,589.253 1102.67,589.253 1102.96,747.281 1103.24,775.992 1103.53,775.994 1103.82,775.994 1104.11,646.643 1104.4,646.643 \n",
       "  1104.69,914.309 1104.98,914.324 1105.27,914.324 1105.56,926.252 1105.84,911.612 1106.13,911.612 1106.42,1008.11 1106.71,1008.11 1107,913.466 1107.29,913.466 \n",
       "  1107.58,913.466 1107.87,913.466 1108.16,913.466 1108.44,913.466 1108.73,913.466 1109.02,915.58 1109.31,915.58 1109.6,1031.73 1109.89,1031.73 1110.18,1028.54 \n",
       "  1110.47,1028.54 1110.76,1021.75 1111.05,1021.75 1111.33,1021.75 1111.62,1021.75 1111.91,931.705 1112.2,931.705 1112.49,931.705 1112.78,931.705 1113.07,931.688 \n",
       "  1113.36,814.93 1113.65,814.93 1113.93,814.93 1114.22,814.93 1114.51,814.93 1114.8,843.247 1115.09,843.253 1115.38,843.253 1115.67,843.253 1115.96,843.253 \n",
       "  1116.25,843.253 1116.53,843.253 1116.82,843.253 1117.11,843.253 1117.4,798.784 1117.69,798.784 1117.98,798.784 1118.27,798.784 1118.56,1118.2 1118.85,1118.2 \n",
       "  1119.14,1113.89 1119.42,1113.89 1119.71,1113.89 1120,1162.36 1120.29,1162.36 1120.58,1162.36 1120.87,1162.36 1121.16,1202.61 1121.45,1202.61 1121.74,1352.34 \n",
       "  1122.02,1385.56 1122.31,1384.36 1122.6,1384.37 1122.89,1384.37 1123.18,1380.38 1123.47,1371.46 1123.76,1371.46 1124.05,1314.62 1124.34,1314.62 1124.62,1314.62 \n",
       "  1124.91,1314.62 1125.2,1323.18 1125.49,1323.18 1125.78,1375.84 1126.07,1375.84 1126.36,1387.01 1126.65,1422.27 1126.94,1445.02 1127.23,1445.02 1127.51,1444.28 \n",
       "  1127.8,1444.28 1128.09,1444.28 1128.38,1444.28 1128.67,1438.75 1128.96,1438.75 1129.25,1438.75 1129.54,1438.75 1129.83,1438.75 1130.11,1444.41 1130.4,1444.41 \n",
       "  1130.69,1414.86 1130.98,1414.86 1131.27,1419.36 1131.56,1419.36 1131.85,1419.36 1132.14,1419.36 1132.43,1419.36 1132.71,1419.36 1133,1419.36 1133.29,1419.36 \n",
       "  1133.58,1419.36 1133.87,1441.73 1134.16,1441.73 1134.45,1442.59 1134.74,1442.59 1135.03,1442.59 1135.32,1442.59 1135.6,1442.59 1135.89,1442.59 1136.18,1442.59 \n",
       "  1136.47,1442.59 1136.76,1442.59 1137.05,1444.69 1137.34,1444.69 1137.63,1444.69 1137.92,1444.69 1138.2,1444.69 1138.49,1444.69 1138.78,1443.26 1139.07,1443.25 \n",
       "  1139.36,1443.25 1139.65,1443.93 1139.94,1443.93 1140.23,1443.93 1140.52,1443.93 1140.81,1443.93 1141.09,1444.82 1141.38,1372.78 1141.67,1372.78 1141.96,1382.29 \n",
       "  1142.25,1414.63 1142.54,1414.63 1142.83,1417.67 1143.12,1414.63 1143.41,1442.25 1143.69,1442.2 1143.98,1442.2 1144.27,1348.05 1144.56,1397.31 1144.85,1397.31 \n",
       "  1145.14,1380.45 1145.43,1380.45 1145.72,1377.08 1146.01,1377.08 1146.29,1377.08 1146.58,1377.08 1146.87,1361.41 1147.16,1361.41 1147.45,1361.41 1147.74,1361.41 \n",
       "  1148.03,1361.41 1148.32,1361.41 1148.61,1335.48 1148.9,1335.48 1149.18,1335.48 1149.47,1315.8 1149.76,1373.7 1150.05,1373.7 1150.34,1367.72 1150.63,1369.93 \n",
       "  1150.92,1369.93 1151.21,1369.93 1151.5,1369.93 1151.78,1369.93 1152.07,1387.94 1152.36,1387.94 1152.65,1387.94 1152.94,1387.94 1153.23,1442.01 1153.52,1442.01 \n",
       "  1153.81,1441.79 1154.1,1441.79 1154.38,1441.79 1154.67,1441.79 1154.96,1386.69 1155.25,1405.65 1155.54,1405.65 1155.83,1388.93 1156.12,1388.93 1156.41,1366.87 \n",
       "  1156.7,1366.87 1156.99,1366.87 1157.27,1395.69 1157.56,1395.69 1157.85,1346.57 1158.14,1346.57 1158.43,1274.13 1158.72,1274.13 1159.01,1245.86 1159.3,1245.86 \n",
       "  1159.59,1317.39 1159.87,1344.18 1160.16,1344.18 1160.45,1344.17 1160.74,1318.31 1161.03,1318.31 1161.32,1290.66 1161.61,1262.61 1161.9,1280.63 1162.19,1280.63 \n",
       "  1162.47,1280.63 1162.76,1445.17 1163.05,1444.64 1163.34,1444.82 1163.63,1438.73 1163.92,1438.73 1164.21,1444.52 1164.5,1428.08 1164.79,1403.75 1165.08,1431.45 \n",
       "  1165.36,1431.45 1165.65,1431.45 1165.94,1424.37 1166.23,1424.37 1166.52,1443.26 1166.81,1443.26 1167.1,1443.26 1167.39,1443.26 1167.68,1443.26 1167.96,1436.06 \n",
       "  1168.25,1436.06 1168.54,1436.06 1168.83,1436.06 1169.12,1435.83 1169.41,1443.95 1169.7,1441.52 1169.99,1441.52 1170.28,1441.52 1170.56,1441.52 1170.85,1441.52 \n",
       "  1171.14,1441.52 1171.43,1440.8 1171.72,1440.8 1172.01,1411.19 1172.3,1445.38 1172.59,1445.38 1172.88,1318.04 1173.17,1152.58 1173.45,981.835 1173.74,981.829 \n",
       "  1174.03,799.084 1174.32,799.084 1174.61,603.851 1174.9,603.851 1175.19,603.851 1175.48,603.851 1175.77,1386.37 1176.05,1395.18 1176.34,1389.02 1176.63,1439.9 \n",
       "  1176.92,1445.17 1177.21,1443.05 1177.5,1433.53 1177.79,1433.53 1178.08,1433.53 1178.37,1443.06 1178.66,1443.06 1178.94,1445.16 1179.23,1445.16 1179.52,1439.01 \n",
       "  1179.81,1434.59 1180.1,1434.59 1180.39,1443.54 1180.68,1443.54 1180.97,1434.59 1181.26,1345.14 1181.54,1364.42 1181.83,1309.38 1182.12,1309.38 1182.41,1309.38 \n",
       "  1182.7,1309.38 1182.99,1309.38 1183.28,1309.38 1183.57,1219 1183.86,1219 1184.14,1269.87 1184.43,1338.57 1184.72,1338.57 1185.01,1338.57 1185.3,1338.57 \n",
       "  1185.59,1409.33 1185.88,1412.02 1186.17,1412.02 1186.46,1412.02 1186.75,1412.02 1187.03,1418.81 1187.32,1418.81 1187.61,1439.29 1187.9,1416.77 1188.19,1416.77 \n",
       "  1188.48,1338.81 1188.77,1338.81 1189.06,1364.79 1189.35,1364.79 1189.63,1388.93 1189.92,1388.93 1190.21,1386.15 1190.5,1386.15 1190.79,1385.15 1191.08,1414.54 \n",
       "  1191.37,1418.64 1191.66,1418.64 1191.95,1418.64 1192.23,1417.91 1192.52,1417.91 1192.81,1417.91 1193.1,1418.9 1193.39,1418.9 1193.68,1414.71 1193.97,1414.71 \n",
       "  1194.26,1414.71 1194.55,1414.71 1194.84,1414.71 1195.12,1414.71 1195.41,1396.32 1195.7,1396.32 1195.99,1396.32 1196.28,1396.32 1196.57,1229.91 1196.86,1229.91 \n",
       "  1197.15,1229.91 1197.44,1229.91 1197.72,1229.91 1198.01,1229.91 1198.3,1229.91 1198.59,1229.91 1198.88,1229.91 1199.17,1229.91 1199.46,1203.46 1199.75,1220.7 \n",
       "  1200.04,1220.7 1200.32,1306.25 1200.61,1306.25 1200.9,1297.17 1201.19,1297.17 1201.48,1364.58 1201.77,1364.58 1202.06,1364.58 1202.35,1364.58 1202.64,1342.52 \n",
       "  1202.93,1342.52 1203.21,1344 1203.5,1344 1203.79,1335.87 1204.08,1368.49 1204.37,1368.49 1204.66,1246.12 1204.95,1219.35 1205.24,1219.35 1205.53,1439.15 \n",
       "  1205.81,1438.04 1206.1,1445.57 1206.39,1445.71 1206.68,1445.71 1206.97,1445.71 1207.26,1445.71 1207.55,1445.71 1207.84,1445.71 1208.13,1445.71 1208.41,1445.71 \n",
       "  1208.7,1445.71 1208.99,1445.7 1209.28,1445.7 1209.57,1445.7 1209.86,1445.7 1210.15,1445.7 1210.44,1441.33 1210.73,1441.33 1211.02,1442.25 1211.3,1442.25 \n",
       "  1211.59,1440.16 1211.88,1440.16 1212.17,1440.16 1212.46,1440.16 1212.75,1440.16 1213.04,1440.16 1213.33,1440.16 1213.62,1440.16 1213.9,1440.28 1214.19,1440.28 \n",
       "  1214.48,1445.4 1214.77,1445.4 1215.06,1445.4 1215.35,1445.4 1215.64,1442.47 1215.93,1442.47 1216.22,1442.47 1216.51,1442.47 1216.79,1442.47 1217.08,1442.47 \n",
       "  1217.37,1445.26 1217.66,1445.26 1217.95,1445.26 1218.24,1445.26 1218.53,1445.65 1218.82,1445.65 1219.11,1429.13 1219.39,1429.13 1219.68,1397.4 1219.97,1397.4 \n",
       "  1220.26,1397.4 1220.55,1383.78 1220.84,1383.78 1221.13,1358.71 1221.42,1354.77 1221.71,1354.77 1221.99,1376.45 1222.28,1376.45 1222.57,1353.1 1222.86,1353.1 \n",
       "  1223.15,1353.1 1223.44,1353.09 1223.73,1245.96 1224.02,1245.96 1224.31,1277.26 1224.6,1277.26 1224.88,1277.26 1225.17,1277.26 1225.46,1277.26 1225.75,1259.77 \n",
       "  1226.04,1386.88 1226.33,1386.88 1226.62,1418.23 1226.91,1418.23 1227.2,1445.53 1227.48,1445.53 1227.77,1445.53 1228.06,1445.53 1228.35,1440.31 1228.64,1440.81 \n",
       "  1228.93,1440.81 1229.22,1440.81 1229.51,1440.81 1229.8,1440.81 1230.08,1440.81 1230.37,1440.81 1230.66,1433.69 1230.95,1433.69 1231.24,1445.63 1231.53,1445.63 \n",
       "  1231.82,1445.63 1232.11,1445.63 1232.4,1318.06 1232.69,1318.06 1232.97,1318.06 1233.26,1318.06 1233.55,1337.62 1233.84,1387.58 1234.13,1406.93 1234.42,1393.95 \n",
       "  1234.71,1393.95 1235,1400.66 1235.29,1400.66 1235.57,1397 1235.86,1397 1236.15,1397 1236.44,1403.87 1236.73,1431.05 1237.02,1431.05 1237.31,1429.98 \n",
       "  1237.6,1429.98 1237.89,1429.98 1238.17,1429.98 1238.46,1429.98 1238.75,1429.98 1239.04,1429.19 1239.33,1429.19 1239.62,1429.19 1239.91,1429.19 1240.2,1429.19 \n",
       "  1240.49,1429.19 1240.78,1429.19 1241.06,1429.19 1241.35,1263.92 1241.64,1246.47 1241.93,1246.47 1242.22,1246.47 1242.51,1246.47 1242.8,1366.35 1243.09,1366.36 \n",
       "  1243.38,1366.36 1243.66,1356.78 1243.95,1356.78 1244.24,1356.78 1244.53,1356.78 1244.82,1346.34 1245.11,1346.34 1245.4,1364.56 1245.69,1405.31 1245.98,1404.51 \n",
       "  1246.26,1404.51 1246.55,1404.51 1246.84,1404.51 1247.13,1403.65 1247.42,1381.74 1247.71,1381.74 1248,1427 1248.29,1431.38 1248.58,1431.38 1248.87,1431.38 \n",
       "  1249.15,1431.38 1249.44,1431.38 1249.73,1444.95 1250.02,1444.95 1250.31,1444.19 1250.6,1444.19 1250.89,1444.19 1251.18,1444.19 1251.47,1426.06 1251.75,1426.06 \n",
       "  1252.04,1426.06 1252.33,1426.06 1252.62,1426.06 1252.91,1426.06 1253.2,1426.06 1253.49,1426.06 1253.78,1406.57 1254.07,1406.57 1254.36,1436.14 1254.64,1436.14 \n",
       "  1254.93,1436.14 1255.22,1436.14 1255.51,1436.14 1255.8,1436.14 1256.09,1436.14 1256.38,1436.14 1256.67,1436.14 1256.96,1445.22 1257.24,1445.22 1257.53,1445.45 \n",
       "  1257.82,1445.72 1258.11,1445.71 1258.4,1445.71 1258.69,1445.71 1258.98,1445.71 1259.27,1444.76 1259.56,1444.76 1259.84,1444.76 1260.13,1444.76 1260.42,1443.92 \n",
       "  1260.71,1443.92 1261,1443.41 1261.29,1443.41 1261.58,1442.98 1261.87,1442.98 1262.16,1445.69 1262.45,1445.69 1262.73,1437.9 1263.02,1437.9 1263.31,1430.69 \n",
       "  1263.6,1430.69 1263.89,1445.66 1264.18,1415.38 1264.47,1415.38 1264.76,1415.38 1265.05,1441.25 1265.33,1441.25 1265.62,1415.82 1265.91,1415.82 1266.2,1391.84 \n",
       "  1266.49,1391.84 1266.78,1397.96 1267.07,1404.51 1267.36,1404.51 1267.65,1404.51 1267.93,1352.11 1268.22,1352.11 1268.51,1352.1 1268.8,1053.51 1269.09,1099.2 \n",
       "  1269.38,1053.45 1269.67,976.424 1269.96,926.946 1270.25,926.946 1270.54,926.931 1270.82,815.941 1271.11,967.265 1271.4,1064.3 1271.69,1085.48 1271.98,1080.88 \n",
       "  1272.27,1080.88 1272.56,1080.88 1272.85,1225.47 1273.14,1355.39 1273.42,1444.78 1273.71,1444.78 1274,1428.89 1274.29,1428.89 1274.58,1436.81 1274.87,1436.81 \n",
       "  1275.16,1436.81 1275.45,1441.54 1275.74,1441.54 1276.02,1432.73 1276.31,1432.73 1276.6,1445.35 1276.89,1445.35 1277.18,1439.34 1277.47,1437.43 1277.76,1437.43 \n",
       "  1278.05,1412.93 1278.34,1412.93 1278.63,1415.87 1278.91,1415.86 1279.2,1349.39 1279.49,1349.41 1279.78,1383.14 1280.07,1383.15 1280.36,1383.15 1280.65,1400.6 \n",
       "  1280.94,1400.6 1281.23,1399.64 1281.51,1399.64 1281.8,1399.64 1282.09,1399.64 1282.38,1399.45 1282.67,1399.45 1282.96,1399.45 1283.25,1399.45 1283.54,1399.45 \n",
       "  1283.83,1353.75 1284.11,1353.75 1284.4,1331.48 1284.69,1331.48 1284.98,1331.48 1285.27,1394.26 1285.56,1394.26 1285.85,1394.26 1286.14,1417.06 1286.43,1417.06 \n",
       "  1286.72,1423.72 1287,1420.8 1287.29,1420.8 1287.58,1418.12 1287.87,1418.12 1288.16,1418.12 1288.45,1418.12 1288.74,1418.12 1289.03,1418.12 1289.32,1418.12 \n",
       "  1289.6,1397.47 1289.89,1397.47 1290.18,1409.43 1290.47,1409.43 1290.76,1409.43 1291.05,1409.43 1291.34,1409.43 1291.63,1409.43 1291.92,1407.35 1292.21,1406.94 \n",
       "  1292.49,1406.94 1292.78,1406.94 1293.07,1407.79 1293.36,1395.82 1293.65,1395.82 1293.94,1395.82 1294.23,1395.82 1294.52,1395.82 1294.81,1395.82 1295.09,1326.4 \n",
       "  1295.38,1326.4 1295.67,1333.37 1295.96,1333.37 1296.25,1333.37 1296.54,1333.37 1296.83,1333.37 1297.12,1333.37 1297.41,1288.85 1297.69,1288.85 1297.98,1370.42 \n",
       "  1298.27,1370.42 1298.56,1370.24 1298.85,1311.58 1299.14,1311.58 1299.43,1316.55 1299.72,1316.55 1300.01,1316.55 1300.3,1316.55 1300.58,1328.42 1300.87,1328.42 \n",
       "  1301.16,1342.03 1301.45,1342.03 1301.74,1342.03 1302.03,1342.03 1302.32,1344 1302.61,1344 1302.9,1423.48 1303.18,1423.48 1303.47,1431.06 1303.76,1431.06 \n",
       "  1304.05,1429.22 1304.34,1444.96 1304.63,1444.96 1304.92,1445.55 1305.21,1445.55 1305.5,1445.55 1305.78,1445.55 1306.07,1442.95 1306.36,1442.95 1306.65,1442.95 \n",
       "  1306.94,1442.95 1307.23,1442.95 1307.52,1442.95 1307.81,1426.6 1308.1,1426.6 1308.39,1427.94 1308.67,1427.94 1308.96,1427.94 1309.25,1440.45 1309.54,1440.45 \n",
       "  1309.83,1432.48 1310.12,1432.48 1310.41,1438.36 1310.7,1438.36 1310.99,1438.36 1311.27,1438.36 1311.56,1438.36 1311.85,1438.36 1312.14,1438.36 1312.43,1444.65 \n",
       "  1312.72,1444.65 1313.01,1433.76 1313.3,1433.76 1313.59,1433.76 1313.87,1433.76 1314.16,1433.76 1314.45,1433.76 1314.74,1433.75 1315.03,1385.31 1315.32,1385.31 \n",
       "  1315.61,1385.31 1315.9,1385.31 1316.19,1385.31 1316.48,1385.31 1316.76,1385.31 1317.05,1401.42 1317.34,1401.42 1317.63,1401.42 1317.92,1401.42 1318.21,1401.42 \n",
       "  1318.5,1388.28 1318.79,1385.15 1319.08,1385.15 1319.36,1385.15 1319.65,1398.5 1319.94,1398.5 1320.23,1398.5 1320.52,1398.5 1320.81,1398.5 1321.1,1358.45 \n",
       "  1321.39,1264.63 1321.68,1264.63 1321.96,1319.95 1322.25,1295.33 1322.54,1295.33 1322.83,1363.94 1323.12,1363.94 1323.41,1363.94 1323.7,1363.94 1323.99,1328.37 \n",
       "  1324.28,1328.37 1324.57,1328.37 1324.85,1328.37 1325.14,1051.95 1325.43,1051.92 1325.72,1051.92 1326.01,1051.92 1326.3,1072.52 1326.59,1072.52 1326.88,1072.52 \n",
       "  1327.17,1072.52 1327.45,1201.48 1327.74,1201.48 1328.03,1182.99 1328.32,1182.99 1328.61,1162.26 1328.9,1379 1329.19,1379 1329.48,1425.35 1329.77,1425.35 \n",
       "  1330.06,1425.35 1330.34,1426.45 1330.63,1426.45 1330.92,1426.45 1331.21,1426.45 1331.5,1426.45 1331.79,1437.28 1332.08,1437.28 1332.37,1437.28 1332.66,1437.28 \n",
       "  1332.94,1437.28 1333.23,1437.28 1333.52,1437.28 1333.81,1437.28 1334.1,1436.34 1334.39,1436.34 1334.68,1436.34 1334.97,1436.34 1335.26,1422.68 1335.54,1422.67 \n",
       "  1335.83,1422.67 1336.12,1420.45 1336.41,1420.45 1336.7,1421.94 1336.99,1421.94 1337.28,1421.94 1337.57,1421.94 1337.86,1432.86 1338.15,1432.86 1338.43,1432.86 \n",
       "  1338.72,1432.86 1339.01,1440.68 1339.3,1435.08 1339.59,1435.08 1339.88,1435.08 1340.17,1435.08 1340.46,1433.35 1340.75,1376.49 1341.03,1376.49 1341.32,1445.67 \n",
       "  1341.61,1445.67 1341.9,1445.53 1342.19,1445.28 1342.48,1440.35 1342.77,1440.35 1343.06,1439.16 1343.35,1439.16 1343.63,1437.86 1343.92,1437.86 1344.21,1438.2 \n",
       "  1344.5,1431.48 1344.79,1376.91 1345.08,1372.63 1345.37,1372.63 1345.66,1368.57 1345.95,1368.57 1346.24,1364.05 1346.52,1364.05 1346.81,1356.38 1347.1,1356.38 \n",
       "  1347.39,1351.47 1347.68,1346.83 1347.97,1346.83 1348.26,1341.67 1348.55,1334.29 1348.84,1328.94 1349.12,1238.99 1349.41,1238.99 1349.7,1232.35 1349.99,1232.35 \n",
       "  1350.28,1269.82 1350.57,1269.82 1350.86,1269.82 1351.15,1269.82 1351.44,1269.82 1351.72,1269.82 1352.01,1269.82 1352.3,1269.82 1352.59,1269.82 1352.88,1269.82 \n",
       "  1353.17,978.573 1353.46,1139.86 1353.75,1139.86 1354.04,1139.86 1354.33,1139.86 1354.61,1139.86 1354.9,1265.92 1355.19,1199.98 1355.48,1199.98 1355.77,1199.98 \n",
       "  1356.06,1199.98 1356.35,1191.39 1356.64,1191.48 1356.93,1191.56 1357.21,1191.62 1357.5,1191.62 1357.79,1191.68 1358.08,1287.81 1358.37,1287.81 1358.66,1287.83 \n",
       "  1358.95,1299.21 1359.24,1299.21 1359.53,1299.21 1359.81,1299.21 1360.1,1356.47 1360.39,1356.44 1360.68,1356.36 1360.97,1356.36 1361.26,1356.31 1361.55,1416.79 \n",
       "  1361.84,1416.79 1362.13,1416.79 1362.42,1416.79 1362.7,1416.79 1362.99,1416.79 1363.28,1424.15 1363.57,1424.15 1363.86,1424.15 1364.15,1424.15 1364.44,1424.15 \n",
       "  1364.73,1424.15 1365.02,1424.15 1365.3,1424.15 1365.59,1424.15 1365.88,1421.15 1366.17,1421.15 1366.46,1421.15 1366.75,1421.15 1367.04,1276.51 1367.33,1243.14 \n",
       "  1367.62,1243.14 1367.9,1273.68 1368.19,1273.68 1368.48,1273.68 1368.77,1273.68 1369.06,1273.68 1369.35,1273.68 1369.64,1273.68 1369.93,1273.68 1370.22,1381.99 \n",
       "  1370.51,1381.99 1370.79,1382.02 1371.08,1382.02 1371.37,1382.05 1371.66,1382.05 1371.95,1379.64 1372.24,1379.64 1372.53,1379.65 1372.82,1278.73 1373.11,1217.68 \n",
       "  1373.39,1217.64 1373.68,1217.64 1373.97,1217.59 1374.26,1217.59 1374.55,1272.95 1374.84,1191.73 1375.13,1191.73 1375.42,1172.78 1375.71,1190.44 1376,1190.44 \n",
       "  1376.28,1190.44 1376.57,1190.44 1376.86,1190.44 1377.15,1190.44 1377.44,1190.42 1377.73,1099.29 1378.02,1099.29 1378.31,1074.68 1378.6,1074.68 1378.88,1210 \n",
       "  1379.17,1210.01 1379.46,1210.01 1379.75,1216.48 1380.04,1205.38 1380.33,1205.39 1380.62,1273.33 1380.91,1273.33 1381.2,1273.33 1381.48,1273.33 1381.77,1398.99 \n",
       "  1382.06,1118.22 1382.35,1165.78 1382.64,1165.78 1382.93,1165.78 1383.22,1165.78 1383.51,1165.78 1383.8,1165.78 1384.09,1165.78 1384.37,1165.78 1384.66,1184.86 \n",
       "  1384.95,1293.58 1385.24,1293.58 1385.53,1293.58 1385.82,1293.58 1386.11,1307.18 1386.4,1307.18 1386.69,1381.27 1386.97,1381.27 1387.26,1381.27 1387.55,1381.27 \n",
       "  1387.84,1361.44 1388.13,1361.44 1388.42,1442 1388.71,1443.39 1389,1443.39 1389.29,1429.18 1389.57,1435.91 1389.86,1437.07 1390.15,1437.07 1390.44,1437.07 \n",
       "  1390.73,1437.07 1391.02,1437.07 1391.31,1433.82 1391.6,1433.82 1391.89,1435.22 1392.18,1435.22 1392.46,1445.46 1392.75,1445.46 1393.04,1445.46 1393.33,1445.46 \n",
       "  1393.62,1445.46 1393.91,1445.41 1394.2,1445.41 1394.49,1426.69 1394.78,1426.69 1395.06,1425.67 1395.35,1425.67 1395.64,1431.66 1395.93,1415.42 1396.22,1377.93 \n",
       "  1396.51,1377.93 1396.8,1377.93 1397.09,1393.02 1397.38,1393.02 1397.66,1393.13 1397.95,1393.13 1398.24,1365.84 1398.53,1365.84 1398.82,1365.84 1399.11,1365.84 \n",
       "  1399.4,1365.84 1399.69,1365.84 1399.98,1365.84 1400.27,1365.84 1400.55,1363.46 1400.84,1354.43 1401.13,1354.43 1401.42,1354.43 1401.71,1354.43 1402,1349.86 \n",
       "  1402.29,1349.86 1402.58,1349.86 1402.87,1349.86 1403.15,1401.14 1403.44,1401.14 1403.73,1401.14 1404.02,1399.17 1404.31,1399.17 1404.6,1396.99 1404.89,1396.99 \n",
       "  1405.18,1384.78 1405.47,1427.83 1405.75,1427.83 1406.04,1408.97 1406.33,1408.97 1406.62,1405.34 1406.91,1405.34 1407.2,1403.39 1407.49,1403.39 1407.78,1353.97 \n",
       "  1408.07,1353.97 1408.36,1351.27 1408.64,1351.27 1408.93,1374.7 1409.22,1374.7 1409.51,1372.16 1409.8,1372.16 1410.09,1369.79 1410.38,1367.2 1410.67,1413.41 \n",
       "  1410.96,1411.74 1411.24,1411.74 1411.53,1410.16 1411.82,1410.16 1412.11,1410.16 1412.4,1410.16 1412.69,1410.16 1412.98,1410.16 1413.27,1432.4 1413.56,1405.97 \n",
       "  1413.85,1405.97 1414.13,1405.97 1414.42,1439.69 1414.71,1439.39 1415,1439.39 1415.29,1439.39 1415.58,1439.39 1415.87,1439.39 1416.16,1430.78 1416.45,1430.78 \n",
       "  1416.73,1430.78 1417.02,1436.3 1417.31,1436.68 1417.6,1436.41 1417.89,1430.78 1418.18,1426.65 1418.47,1426.65 1418.76,1422.7 1419.05,1422.7 1419.33,1441.86 \n",
       "  1419.62,1437.39 1419.91,1437.39 1420.2,1437.39 1420.49,1437.39 1420.78,1412.57 1421.07,1412.57 1421.36,1412.57 1421.65,1444.25 1421.94,1445.71 1422.22,1445.71 \n",
       "  1422.51,1438.3 1422.8,1438.3 1423.09,1438.3 1423.38,1399.87 1423.67,1411 1423.96,1433.08 1424.25,1405.98 1424.54,1401.79 1424.82,1401.79 1425.11,1401.79 \n",
       "  1425.4,1348.94 1425.69,1365.09 1425.98,1304.41 1426.27,1304.4 1426.56,1324.75 1426.85,1327.86 1427.14,1327.86 1427.42,1247.71 1427.71,1247.71 1428,1293.43 \n",
       "  1428.29,1293.43 1428.58,1208.59 1428.87,1278.06 1429.16,1278.06 1429.45,1405.75 1429.74,1405.75 1430.03,1405.75 1430.31,1393.45 1430.6,1393.45 1430.89,1352.3 \n",
       "  1431.18,1352.3 1431.47,1281.42 1431.76,1281.42 1432.05,1281.42 1432.34,1281.42 1432.63,1281.42 1432.91,1281.42 1433.2,1254.49 1433.49,1254.48 1433.78,1254.48 \n",
       "  1434.07,1276.35 1434.36,1192.39 1434.65,1249.96 1434.94,1249.96 1435.23,1323.63 1435.51,1294.66 1435.8,1294.66 1436.09,1312.34 1436.38,1312.34 1436.67,1312.83 \n",
       "  1436.96,1277.34 1437.25,1254.11 1437.54,1254.11 1437.83,1208.54 1438.12,1208.53 1438.4,1208.53 1438.69,1251.53 1438.98,1251.53 1439.27,1251.53 1439.56,1251.53 \n",
       "  1439.85,1251.53 1440.14,1251.53 1440.43,1257.81 1440.72,1257.81 1441,1257.81 1441.29,1257.81 1441.58,1236.45 1441.87,1283.42 1442.16,1283.42 1442.45,1283.42 \n",
       "  1442.74,1283.42 1443.03,1281.22 1443.32,1281.22 1443.6,1436.51 1443.89,1436.51 1444.18,1436.51 1444.47,1441.48 1444.76,1441.48 1445.05,1441.48 1445.34,1441.48 \n",
       "  1445.63,1441.48 1445.92,1426.63 1446.21,1426.63 1446.49,1426.63 1446.78,1426.63 1447.07,1426.63 1447.36,1426.63 1447.65,1426.63 1447.94,1423.18 1448.23,1442.29 \n",
       "  1448.52,1442.29 1448.81,1442.29 1449.09,1442.29 1449.38,1442.29 1449.67,1442.29 1449.96,1438.26 1450.25,1438.26 1450.54,1438.26 1450.83,1438.26 1451.12,1438.26 \n",
       "  1451.41,1438.26 1451.7,1438.26 1451.98,1438.26 1452.27,1432.24 1452.56,1432.03 1452.85,1431.15 1453.14,1445.63 1453.43,1439.53 1453.72,1403.23 1454.01,1403.23 \n",
       "  1454.3,1403.23 1454.58,1403.23 1454.87,1403.23 1455.16,1437.95 1455.45,1437.95 1455.74,1425.6 1456.03,1425.6 1456.32,1425.6 1456.61,1425.6 1456.9,1425.6 \n",
       "  1457.18,1425.6 1457.47,1416.64 1457.76,1416.64 1458.05,1402.17 1458.34,1402.17 1458.63,1392.46 1458.92,1405.54 1459.21,1345.26 1459.5,1345.26 1459.79,1088.55 \n",
       "  1460.07,1268.99 1460.36,1268.99 1460.65,1268.99 1460.94,1268.99 1461.23,1268.99 1461.52,1268.99 1461.81,1268.99 1462.1,1268.99 1462.39,1370.14 1462.67,1370.14 \n",
       "  1462.96,1370.14 1463.25,1370.14 1463.54,1370.14 1463.83,1370.14 1464.12,1396.24 1464.41,1396.24 1464.7,1396.24 1464.99,1396.24 1465.27,1342.46 1465.56,1363.07 \n",
       "  1465.85,1241.97 1466.14,1267.45 1466.43,1267.45 1466.72,1139.29 1467.01,1139.28 1467.3,1139.28 1467.59,1139.28 1467.88,1139.28 1468.16,1139.28 1468.45,1139.28 \n",
       "  1468.74,1139.28 1469.03,1139.28 1469.32,1139.28 1469.61,1139.28 1469.9,1166.36 1470.19,1166.37 1470.48,1166.37 1470.76,1166.37 1471.05,1166.37 1471.34,1166.37 \n",
       "  1471.63,1166.37 1471.92,1158.24 1472.21,1158.24 1472.5,1157.96 1472.79,1157.96 1473.08,1157.96 1473.36,1136.44 1473.65,1082.75 1473.94,1082.75 1474.23,1082.75 \n",
       "  1474.52,1054.1 1474.81,1054.1 1475.1,1054.1 1475.39,1183.39 1475.68,1172.08 1475.97,1172.08 1476.25,1257.79 1476.54,1205.68 1476.83,1205.68 1477.12,1181.64 \n",
       "  1477.41,1181.64 1477.7,1181.64 1477.99,1181.64 1478.28,1345.02 1478.57,1322.71 1478.85,1322.71 1479.14,1322.71 1479.43,1322.71 1479.72,1322.71 1480.01,1322.71 \n",
       "  1480.3,1323.03 1480.59,1323.03 1480.88,1314 1481.17,1314.35 1481.45,1314.35 1481.74,1314.71 1482.03,1315.03 1482.32,1315.03 1482.61,1315.38 1482.9,1315.38 \n",
       "  1483.19,1434.15 1483.48,1429.88 1483.77,1429.88 1484.06,1429.99 1484.34,1429.99 1484.63,1430.1 1484.92,1441.21 1485.21,1445.54 1485.5,1445.54 1485.79,1445.56 \n",
       "  1486.08,1445.56 1486.37,1445.59 1486.66,1445.59 1486.94,1445.66 1487.23,1445.67 1487.52,1445.67 1487.81,1430.42 1488.1,1430.42 1488.39,1431.08 1488.68,1431.08 \n",
       "  1488.97,1435.02 1489.26,1441.43 1489.55,1444.2 1489.83,1444.2 1490.12,1444.2 1490.41,1444.2 1490.7,1428.93 1490.99,1428.93 1491.28,1425.69 1491.57,1425.69 \n",
       "  1491.86,1430.03 1492.15,1430.03 1492.43,1433.84 1492.72,1433.84 1493.01,1442.82 1493.3,1442.82 1493.59,1433.84 1493.88,1437.35 1494.17,1437.35 1494.46,1437.35 \n",
       "  1494.75,1437.35 1495.03,1441.06 1495.32,1441.06 1495.61,1441.06 1495.9,1441.06 1496.19,1441.06 1496.48,1441.06 1496.77,1441.06 1497.06,1441.06 1497.35,1441.06 \n",
       "  1497.64,1441.06 1497.92,1438.7 1498.21,1438.7 1498.5,1438.7 1498.79,1438.7 1499.08,1438.7 1499.37,1438.7 1499.66,1438.7 1499.95,1443.42 1500.24,1443.42 \n",
       "  1500.52,1443.42 1500.81,1443.42 1501.1,1443.42 1501.39,1441.17 1501.68,1440.33 1501.97,1440.33 1502.26,1440.33 1502.55,1440.33 1502.84,1440.33 1503.12,1440.33 \n",
       "  1503.41,1440.33 1503.7,1440.33 1503.99,1440.33 1504.28,1440.33 1504.57,1420.89 1504.86,1413.05 1505.15,1413.05 1505.44,1430.79 1505.73,1442.56 1506.01,1396.43 \n",
       "  1506.3,1396.43 1506.59,1403.32 1506.88,1403.32 1507.17,1403.32 1507.46,1402.58 1507.75,1402.58 1508.04,1402.58 1508.33,1416.19 1508.61,1416.19 1508.9,1430.53 \n",
       "  1509.19,1430.53 1509.48,1435.5 1509.77,1435.5 1510.06,1435.5 1510.35,1435.5 1510.64,1435.5 1510.93,1435.42 1511.21,1435.42 1511.5,1435.38 1511.79,1435.38 \n",
       "  1512.08,1435.38 1512.37,1441.09 1512.66,1441.09 1512.95,1441.09 1513.24,1441.09 1513.53,1439.92 1513.82,1439.88 1514.1,1439.88 1514.39,1444.55 1514.68,1444.54 \n",
       "  1514.97,1444.54 1515.26,1437.28 1515.55,1437.28 1515.84,1440.7 1516.13,1440.7 1516.42,1440.7 1516.7,1440.71 1516.99,1440.71 1517.28,1440.71 1517.57,1368.23 \n",
       "  1517.86,1368.23 1518.15,1368.17 1518.44,1368.17 1518.73,1368.03 1519.02,1368.03 1519.3,1367.94 1519.59,1367.94 1519.88,1367.76 1520.17,1367.76 1520.46,1367.76 \n",
       "  1520.75,1344.58 1521.04,1344.58 1521.33,1303.71 1521.62,1267.44 1521.91,1267.44 1522.19,1306.26 1522.48,1306.26 1522.77,1305.82 1523.06,1305.82 1523.35,1305.58 \n",
       "  1523.64,1305.58 1523.93,1305.33 1524.22,1305.33 1524.51,1324.65 1524.79,1213.13 1525.08,1160.06 1525.37,1160.06 1525.66,1318.21 1525.95,1318.21 1526.24,1321.48 \n",
       "  1526.53,1321.48 1526.82,1352.02 1527.11,1352.02 1527.4,1276.26 1527.68,1276.26 1527.97,1231.24 1528.26,1231.24 1528.55,1239.25 1528.84,1239.25 1529.13,1097.75 \n",
       "  1529.42,1097.75 1529.71,1101.33 1530,1101.33 1530.28,1093.56 1530.57,1093.56 1530.86,1243.41 1531.15,1243.41 1531.44,1245.81 1531.73,1245.81 1532.02,1308.18 \n",
       "  1532.31,1394.99 1532.6,1394.99 1532.88,1350.54 1533.17,1350.54 1533.46,1377.88 1533.75,1377.88 1534.04,1382.12 1534.33,1382.12 1534.62,1383.52 1534.91,1383.52 \n",
       "  1535.2,1384.79 1535.49,1384.79 1535.77,1386.15 1536.06,1386.15 1536.35,1410.5 1536.64,1410.5 1536.93,1419 1537.22,1419 1537.51,1428.1 1537.8,1429.04 \n",
       "  1538.09,1429.04 1538.37,1440.13 1538.66,1440.13 1538.95,1440.13 1539.24,1435.32 1539.53,1439.44 1539.82,1445.5 1540.11,1445.5 1540.4,1444.4 1540.69,1444.4 \n",
       "  1540.97,1444.4 1541.26,1444.4 1541.55,1444.4 1541.84,1444.4 1542.13,1236.01 1542.42,1210.94 1542.71,1210.94 1543,1210.33 1543.29,1210.33 1543.58,1209.18 \n",
       "  1543.86,1227.63 1544.15,1308.42 1544.44,1308.42 1544.73,1371.54 1545.02,1371.23 1545.31,1370.92 1545.6,1370.6 1545.89,1370.6 1546.18,1307.87 1546.46,1307.87 \n",
       "  1546.75,1307.45 1547.04,1307.45 1547.33,1362.06 1547.62,1362.06 1547.91,1382.67 1548.2,1382.67 1548.49,1382.41 1548.78,1382.41 1549.06,1382.13 1549.35,1382.13 \n",
       "  1549.64,1381.84 1549.93,1381.84 1550.22,1395.14 1550.51,1395.14 1550.8,1324.44 1551.09,1324.44 1551.38,1359.3 1551.67,1359.3 1551.95,1312.82 1552.24,1312.82 \n",
       "  1552.53,1312.42 1552.82,1312.42 1553.11,1240.4 1553.4,1240.4 1553.69,1240.4 1553.98,1240.4 1554.27,1240.4 1554.55,1189.19 1554.84,1189.19 1555.13,1211.43 \n",
       "  1555.42,1211.43 1555.71,1211.43 1556,1211.43 1556.29,1363 1556.58,1422.29 1556.87,1422.29 1557.15,1386.67 1557.44,1386.16 1557.73,1386.16 1558.02,1424.59 \n",
       "  1558.31,1437.09 1558.6,1437.09 1558.89,1437.19 1559.18,1437.19 1559.47,1440.02 1559.76,1440.02 1560.04,1440.1 1560.33,1440.1 1560.62,1443.49 1560.91,1443.43 \n",
       "  1561.2,1443.43 1561.49,1443.43 1561.78,1443.38 1562.07,1443.33 1562.36,1443.33 1562.64,1443.27 1562.93,1443.27 1563.22,1425.93 1563.51,1425.62 1563.8,1425.62 \n",
       "  1564.09,1406.46 1564.38,1406.46 1564.67,1389.99 1564.96,1392.76 1565.25,1392.76 1565.53,1387.32 1565.82,1387.32 1566.11,1387.32 1566.4,1400.62 1566.69,1400.62 \n",
       "  1566.98,1400.62 1567.27,1419.25 1567.56,1419.25 1567.85,1445.25 1568.13,1423.68 1568.42,1423.68 1568.71,1423.12 1569,1423.12 1569.29,1437.96 1569.58,1437.83 \n",
       "  1569.87,1437.83 1570.16,1390.03 1570.45,1390.03 1570.73,1426.37 1571.02,1426.37 1571.31,1426.74 1571.6,1426.99 1571.89,1419.22 1572.18,1419.22 1572.47,1394.98 \n",
       "  1572.76,1329.57 1573.05,1329.57 1573.34,1329.57 1573.62,1329.59 1573.91,1427.12 1574.2,1427.12 1574.49,1445.66 1574.78,1444.83 1575.07,1444.83 1575.36,1444.83 \n",
       "  1575.65,1444.83 1575.94,1444.83 1576.22,1444.83 1576.51,1444.83 1576.8,1445.7 1577.09,1445.7 1577.38,1445.67 1577.67,1445.67 1577.96,1445.55 1578.25,1445.55 \n",
       "  1578.54,1441.66 1578.82,1441.66 1579.11,1442.56 1579.4,1442.56 1579.69,1426.12 1579.98,1426.12 1580.27,1413.56 1580.56,1413.56 1580.85,1355.91 1581.14,1355.91 \n",
       "  1581.43,1355.91 1581.71,1355.91 1582,1369.58 1582.29,1369.58 1582.58,1366.43 1582.87,1366.43 1583.16,1294.22 1583.45,1283.37 1583.74,1282.66 1584.03,1282.66 \n",
       "  1584.31,1224.25 1584.6,1224.25 1584.89,1218.95 1585.18,1218.95 1585.47,1188.15 1585.76,1188.15 1586.05,1159.98 1586.34,1154.36 1586.63,923.845 1586.91,923.845 \n",
       "  1587.2,916.919 1587.49,916.919 1587.78,910.068 1588.07,910.068 1588.36,910.068 1588.65,1443.14 1588.94,1443.14 1589.23,1364.91 1589.52,1364.91 1589.8,1364.91 \n",
       "  1590.09,1380.26 1590.38,1406.24 1590.67,1417.5 1590.96,1417.5 1591.25,1422.65 1591.54,1432.51 1591.83,1432.51 1592.12,1432.51 1592.4,1429.62 1592.69,1424.31 \n",
       "  1592.98,1424.31 1593.27,1422.14 1593.56,1422.14 1593.85,1422.14 1594.14,1422.14 1594.43,1427.81 1594.72,1427.81 1595,1423.07 1595.29,1423.07 1595.58,1423.07 \n",
       "  1595.87,1423.07 1596.16,1423.07 1596.45,1445.42 1596.74,1351.18 1597.03,1351.18 1597.32,1428.56 1597.61,1428.56 1597.89,1428.56 1598.18,1428.56 1598.47,1428.56 \n",
       "  1598.76,1376.54 1599.05,1267.71 1599.34,1267.71 1599.63,1171.97 1599.92,1195.06 1600.21,1195.07 1600.49,1195.07 1600.78,1195.06 1601.07,1203.63 1601.36,1165.95 \n",
       "  1601.65,1165.95 1601.94,1165.94 1602.23,1123.51 1602.52,1123.51 1602.81,1123.51 1603.09,1140.59 1603.38,997.011 1603.67,997.011 1603.96,997.011 1604.25,1394.58 \n",
       "  1604.54,1394.59 1604.83,1394.59 1605.12,1394.59 1605.41,1435.29 1605.7,1438.07 1605.98,1438.07 1606.27,1438.07 1606.56,1438.07 1606.85,1445.7 1607.14,1445.7 \n",
       "  1607.43,1445.7 1607.72,1445.7 1608.01,1445.7 1608.3,1445.7 1608.58,1445.7 1608.87,1445.7 1609.16,1445.7 1609.45,1445.7 1609.74,1445.7 1610.03,1445.7 \n",
       "  1610.32,1445.7 1610.61,1445.7 1610.9,1445.7 1611.19,1435.2 1611.47,1435.2 1611.76,1430.41 1612.05,1420.3 1612.34,1413.22 1612.63,1413.22 1612.92,1389.84 \n",
       "  1613.21,1389.84 1613.5,1389.84 1613.79,1389.84 1614.07,1389.84 1614.36,1338.69 1614.65,1338.69 1614.94,1375 1615.23,1417.46 1615.52,1417.46 1615.81,1429.85 \n",
       "  1616.1,1438.83 1616.39,1438.83 1616.67,1444.04 1616.96,1444.04 1617.25,1438.79 1617.54,1438.79 1617.83,1438.79 1618.12,1445.65 1618.41,1445.25 1618.7,1445.25 \n",
       "  1618.99,1442.95 1619.28,1442.95 1619.56,1444.7 1619.85,1444.7 1620.14,1445.1 1620.43,1445.1 1620.72,1442.91 1621.01,1443.87 1621.3,1443.87 1621.59,1443.87 \n",
       "  1621.88,1443.87 1622.16,1442.4 1622.45,1442.43 1622.74,1442.43 1623.03,1443.4 1623.32,1443.4 1623.61,1441.61 1623.9,1441.61 1624.19,1441.61 1624.48,1441.61 \n",
       "  1624.76,1441.61 1625.05,1437.05 1625.34,1437.05 1625.63,1437.05 1625.92,1437.05 1626.21,1441.49 1626.5,1443.31 1626.79,1443.31 1627.08,1443.31 1627.37,1445.04 \n",
       "  1627.65,1445.04 1627.94,1445.04 1628.23,1445.04 1628.52,1445.04 1628.81,1445.7 1629.1,1445.7 1629.39,1445.7 1629.68,1445.7 1629.97,1420.07 1630.25,1420.38 \n",
       "  1630.54,1420.38 1630.83,1290.23 1631.12,1290.21 1631.41,1290.21 1631.7,1270.83 1631.99,1262.12 1632.28,1262.12 1632.57,1159.52 1632.85,1159.51 1633.14,1159.51 \n",
       "  1633.43,1287.42 1633.72,1287.42 1634.01,1287.42 1634.3,1278.18 1634.59,1177.34 1634.88,1217.37 1635.17,1386.96 1635.46,1386.96 1635.74,1386.96 1636.03,1387.52 \n",
       "  1636.32,1387.52 1636.61,1413.95 1636.9,1413.95 1637.19,1413.95 1637.48,1413.95 1637.77,1413.95 1638.06,1413.95 1638.34,1341.4 1638.63,1341.39 1638.92,1341.39 \n",
       "  1639.21,1341.39 1639.5,1280.12 1639.79,1280.12 1640.08,1309.42 1640.37,1309.42 1640.66,1309.42 1640.94,1309.42 1641.23,1309.42 1641.52,1309.42 1641.81,1306.45 \n",
       "  1642.1,1306.45 1642.39,1385.81 1642.68,1385.81 1642.97,1385.81 1643.26,1385.81 1643.55,1302.19 1643.83,1302.19 1644.12,1406.28 1644.41,1406.28 1644.7,1406.28 \n",
       "  1644.99,1396.79 1645.28,1401.01 1645.57,1401.01 1645.86,1401.01 1646.15,1401.01 1646.43,1401.95 1646.72,1407.6 1647.01,1407.6 1647.3,1407.6 1647.59,1408.12 \n",
       "  1647.88,1427.72 1648.17,1430.03 1648.46,1398.05 1648.75,1398.05 1649.04,1348 1649.32,1366.31 1649.61,1370.8 1649.9,1374.99 1650.19,1434.75 1650.48,1434.29 \n",
       "  1650.77,1434.29 1651.06,1438.72 1651.35,1438.72 1651.64,1442.88 1651.92,1444.47 1652.21,1412.54 1652.5,1412.54 1652.79,1412.54 1653.08,1412.54 1653.37,1412.54 \n",
       "  1653.66,1412.54 1653.95,1412.54 1654.24,1412.54 1654.52,1414.21 1654.81,1414.21 1655.1,1414.21 1655.39,1414.21 1655.68,1403.26 1655.97,1401.26 1656.26,1396.94 \n",
       "  1656.55,1393.4 1656.84,1407.6 1657.13,1427.47 1657.41,1418.21 1657.7,1381.88 1657.99,1381.88 1658.28,1365.54 1658.57,1365.54 1658.86,1375.31 1659.15,1414.29 \n",
       "  1659.44,1414.31 1659.73,1414.31 1660.01,1414.31 1660.3,1414.31 1660.59,1414.31 1660.88,1414.31 1661.17,1414.31 1661.46,1442.79 1661.75,1442.79 1662.04,1442.79 \n",
       "  1662.33,1418.43 1662.61,1418.43 1662.9,1430.76 1663.19,1404.84 1663.48,1444.2 1663.77,1444.2 1664.06,1444.2 1664.35,1444.2 1664.64,1444.2 1664.93,1444.2 \n",
       "  1665.22,1442.9 1665.5,1442.9 1665.79,1443.37 1666.08,1443.37 1666.37,1443.37 1666.66,1443.37 1666.95,1441.91 1667.24,1442.51 1667.53,1442.51 1667.82,1442.51 \n",
       "  1668.1,1442.6 1668.39,1445.11 1668.68,1445.11 1668.97,1445.67 1669.26,1445.67 1669.55,1445.67 1669.84,1445.67 1670.13,1443.71 1670.42,1443.71 1670.7,1436.58 \n",
       "  1670.99,1436.58 1671.28,1429.26 1671.57,1429.26 1671.86,1424.96 1672.15,1424.96 1672.44,1431.21 1672.73,1431.21 1673.02,1436.52 1673.31,1443.91 1673.59,1443.91 \n",
       "  1673.88,1442.32 1674.17,1349.63 1674.46,1363 1674.75,1286.93 1675.04,1378.07 1675.33,1378.07 1675.62,1378.07 1675.91,1378.07 1676.19,1378.07 1676.48,1378.07 \n",
       "  1676.77,1392.11 1677.06,1392.08 1677.35,1321.02 1677.64,1340.4 1677.93,1340.4 1678.22,1300.6 1678.51,1288.17 1678.79,1088.87 1679.08,1088.87 1679.37,1088.85 \n",
       "  1679.66,1088.85 1679.95,1123.29 1680.24,1193.92 1680.53,1197.49 1680.82,1197.49 1681.11,1162.36 1681.4,1162.36 1681.68,1104.9 1681.97,1104.9 1682.26,1228.19 \n",
       "  1682.55,1228.19 1682.84,1172.07 1683.13,1330.85 1683.42,1330.85 1683.71,1327.18 1684,1327.18 1684.28,1334.79 1684.57,1334.79 1684.86,1334.79 1685.15,1334.79 \n",
       "  1685.44,1334.79 1685.73,1334.79 1686.02,1334.79 1686.31,1427.35 1686.6,1427.35 1686.89,1427.35 1687.17,1439.64 1687.46,1414.59 1687.75,1423.54 1688.04,1413.85 \n",
       "  1688.33,1362.06 1688.62,1362.06 1688.91,1367.6 1689.2,1367.6 1689.49,1384.03 1689.77,1384.03 1690.06,1384.03 1690.35,1363.48 1690.64,1363.48 1690.93,1360.37 \n",
       "  1691.22,1360.37 1691.51,1360.37 1691.8,1310.23 1692.09,1310.23 1692.37,1375.82 1692.66,1375.82 1692.95,1356.7 1693.24,1356.7 1693.53,1356.7 1693.82,1356.7 \n",
       "  1694.11,1339.41 1694.4,1339.41 1694.69,1351.63 1694.98,1351.64 1695.26,1351.64 1695.55,1351.64 1695.84,1445.71 1696.13,1440 1696.42,1440 1696.71,1440 \n",
       "  1697,1408.05 1697.29,1408.05 1697.58,1408.05 1697.86,1408.05 1698.15,1409.01 1698.44,1409.01 1698.73,1409.01 1699.02,1422.41 1699.31,1422.41 1699.6,1401.48 \n",
       "  1699.89,1401.48 1700.18,1401.47 1700.46,1401.47 1700.75,1401.47 1701.04,1401.47 1701.33,1401.47 1701.62,1389.05 1701.91,1389.05 1702.2,1414.24 1702.49,1413.37 \n",
       "  1702.78,1413.37 1703.07,1413.37 1703.35,1413.37 1703.64,1396.86 1703.93,1396.86 1704.22,1398.26 1704.51,1389.81 1704.8,1389.81 1705.09,1389.81 1705.38,1389.81 \n",
       "  1705.67,1389.81 1705.95,1389.81 1706.24,1390.36 1706.53,1390.36 1706.82,1381.49 1707.11,1333.49 1707.4,1333.49 1707.69,1333.49 1707.98,1333.49 1708.27,1354.47 \n",
       "  1708.55,1287.07 1708.84,1404.47 1709.13,1404.47 1709.42,1404.47 1709.71,1404.47 1710,1404.47 1710.29,1418.03 1710.58,1380.44 1710.87,1271.07 1711.16,1270.97 \n",
       "  1711.44,1270.97 1711.73,1270.97 1712.02,1270.97 1712.31,1270.97 1712.6,1263.33 1712.89,1263.33 1713.18,1045.57 1713.47,1136.96 1713.76,1272.07 1714.04,1272.19 \n",
       "  1714.33,1242.26 1714.62,1242.26 1714.91,1242.26 1715.2,1311.87 1715.49,1329.95 1715.78,1332.35 1716.07,1357.69 1716.36,1357.69 1716.64,1387.84 1716.93,1410.66 \n",
       "  1717.22,1445.71 1717.51,1431.84 1717.8,1393.31 1718.09,1394.15 1718.38,1394.15 1718.67,1394.15 1718.96,1394.15 1719.25,1356.65 1719.53,1438.72 1719.82,1440.79 \n",
       "  1720.11,1436.79 1720.4,1436.79 1720.69,1402.82 1720.98,1402.82 1721.27,1400.84 1721.56,1400.84 1721.85,1378.54 1722.13,1378.54 1722.42,1444.13 1722.71,1444.13 \n",
       "  1723,1444.13 1723.29,1436.37 1723.58,1436.37 1723.87,1421.03 1724.16,1421.03 1724.45,1419.96 1724.74,1419.96 1725.02,1418.68 1725.31,1418.68 1725.6,1419.17 \n",
       "  1725.89,1437.79 1726.18,1437.79 1726.47,1437.79 1726.76,1437.79 1727.05,1438.82 1727.34,1438.82 1727.62,1441.94 1727.91,1423.4 1728.2,1409.62 1728.49,1409.62 \n",
       "  1728.78,1409.62 1729.07,1409.62 1729.36,1423.7 1729.65,1418.99 1729.94,1418.99 1730.22,1398.55 1730.51,1376.32 1730.8,1376.32 1731.09,1349.43 1731.38,1345.26 \n",
       "  1731.67,1345.26 1731.96,1319.36 1732.25,1319.36 1732.54,1310.91 1732.83,1310.91 1733.11,1301.56 1733.4,1301.56 1733.69,1306.57 1733.98,1321.73 1734.27,1321.73 \n",
       "  1734.56,1340.24 1734.85,1340.96 1735.14,1341.62 1735.43,1341.62 1735.71,1338.63 1736,1340.08 1736.29,1340.08 1736.58,1340.08 1736.87,1340.08 1737.16,1340.08 \n",
       "  1737.45,1256.05 1737.74,1257.67 1738.03,1278.73 1738.31,1278.73 1738.6,1289.17 1738.89,1289.17 1739.18,1289.17 1739.47,1289.17 1739.76,1416.88 1740.05,1416.88 \n",
       "  1740.34,1398.68 1740.63,1435.98 1740.92,1437.02 1741.2,1437.22 1741.49,1437.22 1741.78,1437.22 1742.07,1437.22 1742.36,1445.41 1742.65,1445.41 1742.94,1445.39 \n",
       "  1743.23,1440.96 1743.52,1421.31 1743.8,1438.89 1744.09,1438.89 1744.38,1438.89 1744.67,1444.59 1744.96,1444.97 1745.25,1444.97 1745.54,1429.48 1745.83,1429.47 \n",
       "  1746.12,1429.47 1746.4,1422.01 1746.69,1422.01 1746.98,1294.78 1747.27,1294.78 1747.56,1294.78 1747.85,1294.78 1748.14,1294.8 1748.43,1445.72 1748.72,1435.56 \n",
       "  1749.01,1435.56 1749.29,1432.82 1749.58,1432.82 1749.87,1425.75 1750.16,1429.71 1750.45,1429.71 1750.74,1443.49 1751.03,1443.49 1751.32,1443.49 1751.61,1443.3 \n",
       "  1751.89,1443.3 1752.18,1437.68 1752.47,1429.57 1752.76,1416.23 1753.05,1339.66 1753.34,1339.66 1753.63,1297.86 1753.92,1297.86 1754.21,1297.86 1754.49,1297.86 \n",
       "  1754.78,1254.35 1755.07,1254.34 1755.36,1254.34 1755.65,1254.34 1755.94,1445.61 1756.23,1415.46 1756.52,1410.84 1756.81,1341.34 1757.1,1341.34 1757.38,1341.34 \n",
       "  1757.67,1341.34 1757.96,1276.48 1758.25,1276.48 1758.54,1260.2 1758.83,1260.2 1759.12,1260.2 1759.41,1209.65 1759.7,1209.65 1759.98,1209.65 1760.27,1209.65 \n",
       "  1760.56,1209.65 1760.85,1209.65 1761.14,1209.65 1761.43,1209.65 1761.72,1209.65 1762.01,1209.65 1762.3,1212.83 1762.59,1294.09 1762.87,1299.19 1763.16,1299.19 \n",
       "  1763.45,1299.19 1763.74,1299.19 1764.03,1299.19 1764.32,1299.19 1764.61,1299.19 1764.9,1440.32 1765.19,1439.52 1765.47,1386.54 1765.76,1386.54 1766.05,1386.54 \n",
       "  1766.34,1430.89 1766.63,1430.89 1766.92,1443.53 1767.21,1442.37 1767.5,1444.98 1767.79,1437.28 1768.07,1436.23 1768.36,1436.23 1768.65,1436.23 1768.94,1436.23 \n",
       "  1769.23,1388.59 1769.52,1289.71 1769.81,1289.71 1770.1,1289.72 1770.39,1289.72 1770.68,1360.28 1770.96,1365.37 1771.25,1365.37 1771.54,1365.37 1771.83,1299.86 \n",
       "  1772.12,1274.39 1772.41,1274.39 1772.7,1274.39 1772.99,1265.69 1773.28,1265.69 1773.56,1269.11 1773.85,1269.11 1774.14,1258.06 1774.43,1258.06 1774.72,1317.85 \n",
       "  1775.01,1317.85 1775.3,1317.85 1775.59,1317.85 1775.88,1284.35 1776.16,1284.35 1776.45,1305.37 1776.74,1280.68 1777.03,1280.68 1777.32,1183.42 1777.61,1183.42 \n",
       "  1777.9,1183.42 1778.19,1183.42 1778.48,1277.07 1778.77,1277.07 1779.05,1269.97 1779.34,1194.35 1779.63,1194.35 1779.92,1193.94 1780.21,1193.94 1780.5,1206.5 \n",
       "  1780.79,1206.5 1781.08,1206.5 1781.37,1206.5 1781.65,1244.65 1781.94,1234.62 1782.23,1234.62 1782.52,1179.39 1782.81,1179.39 1783.1,1198.02 1783.39,1183.03 \n",
       "  1783.68,1183.03 1783.97,1169.11 1784.25,1154.03 1784.54,974.773 1784.83,974.773 1785.12,958.73 1785.41,958.73 1785.7,958.73 1785.99,958.73 1786.28,974.216 \n",
       "  1786.57,974.216 1786.86,1048.34 1787.14,1048.34 1787.43,1099.93 1787.72,1099.93 1788.01,1137.15 1788.3,1137.15 1788.59,1137.15 1788.88,1137.15 1789.17,1083.83 \n",
       "  1789.46,1030.68 1789.74,1030.68 1790.03,983.42 1790.32,983.42 1790.61,995.413 1790.9,995.413 1791.19,1008.44 1791.48,1008.44 1791.77,826.75 1792.06,826.75 \n",
       "  1792.34,827.534 1792.63,753.972 1792.92,753.972 1793.21,675.22 1793.5,828.769 1793.79,828.769 1794.08,828.769 1794.37,829.53 1794.66,829.53 1794.95,830.284 \n",
       "  1795.23,830.284 1795.52,833.358 1795.81,833.358 1796.1,834.072 1796.39,834.072 1796.68,834.072 1796.97,834.072 1797.26,758.292 1797.55,758.292 1797.83,771.934 \n",
       "  1798.12,771.934 1798.41,771.934 1798.7,655.03 1798.99,655.03 1799.28,647.739 1799.57,647.739 1799.86,644.223 1800.15,832.488 1800.44,832.488 1800.72,948.4 \n",
       "  1801.01,948.4 1801.3,951.05 1801.59,951.05 1801.88,951.715 1802.17,951.715 1802.46,953.678 1802.75,954.279 1803.04,954.279 1803.32,857.922 1803.61,831.939 \n",
       "  1803.9,831.939 1804.19,834.741 1804.48,834.741 1804.77,836.089 1805.06,836.089 1805.35,915.679 1805.64,915.679 1805.92,822.425 1806.21,822.425 1806.5,823.063 \n",
       "  1806.79,823.063 1807.08,824.454 1807.37,951.363 1807.66,951.991 1807.95,951.991 1808.24,952.556 1808.53,952.556 1808.81,1207.61 1809.1,1385.83 1809.39,1385.83 \n",
       "  1809.68,1386.02 1809.97,1386.02 1810.26,1422.57 1810.55,1427.74 1810.84,1427.74 1811.13,1419.37 1811.41,1419.37 1811.7,1419.75 1811.99,1419.75 1812.28,1419.88 \n",
       "  1812.57,1419.88 1812.86,1420 1813.15,1420 1813.44,1380.27 1813.73,1380.46 1814.01,1380.46 1814.3,1380.46 1814.59,1380.46 1814.88,1380.46 1815.17,1412.27 \n",
       "  1815.46,1407.83 1815.75,1407.83 1816.04,1407.83 1816.33,1408.1 1816.62,1408.1 1816.9,1408.23 1817.19,1408.23 1817.48,1408.23 1817.77,1408.23 1818.06,1408.23 \n",
       "  1818.35,1410.54 1818.64,1410.54 1818.93,1407.64 1819.22,1413.69 1819.5,1414.04 1819.79,1414.29 1820.08,1414.29 1820.37,1372.97 1820.66,1372.97 1820.95,1443.73 \n",
       "  1821.24,1443.73 1821.53,1349.03 1821.82,1349.03 1822.1,1349.03 1822.39,1349.03 1822.68,1349.41 1822.97,1350.55 1823.26,1350.55 1823.55,1445.69 1823.84,1445.69 \n",
       "  1824.13,1445.69 1824.42,1445.69 1824.71,1445.69 1824.99,1445.69 1825.28,1445.59 1825.57,1445.59 1825.86,1445.58 1826.15,1445.58 1826.44,1444.29 1826.73,1444.29 \n",
       "  1827.02,1442.84 1827.31,1442.84 1827.59,1442.78 1827.88,1442.78 1828.17,1442.72 1828.46,1441.3 1828.75,1429.79 1829.04,1429.66 1829.33,1429.53 1829.62,1429.53 \n",
       "  1829.91,1397.24 1830.19,1394.33 1830.48,1392.18 1830.77,1392.22 1831.06,1377.92 1831.35,1379.84 1831.64,1357.47 1831.93,1356.13 1832.22,1348.25 1832.51,1348.86 \n",
       "  1832.8,1299.16 1833.08,1299.2 1833.37,1299.2 1833.66,1299.26 1833.95,1299.26 1834.24,1302.21 1834.53,1317.01 1834.82,1214.14 1835.11,1214.14 1835.4,1214.14 \n",
       "  1835.68,1172.56 1835.97,1172.56 1836.26,1117.54 1836.55,1117.54 1836.84,1117.54 1837.13,1117.54 1837.42,1058.5 1837.71,1130.02 1838,1358.91 1838.28,1358.91 \n",
       "  1838.57,1256.89 1838.86,1256.89 1839.15,1254.57 1839.44,1254.57 1839.73,1279.89 1840.02,1412.97 1840.31,1413.52 1840.6,1445.51 1840.89,1419.97 1841.17,1332.81 \n",
       "  1841.46,1332.81 1841.75,1258.7 1842.04,1258.74 1842.33,1258.77 1842.62,1258.8 1842.91,1258.8 1843.2,1192.88 1843.49,1145.51 1843.77,1145.51 1844.06,1347.46 \n",
       "  1844.35,1347.46 1844.64,1355 1844.93,1355 1845.22,1405.55 1845.51,1405.55 1845.8,1385.09 1846.09,1385.09 1846.38,1385.13 1846.66,1385.13 1846.95,1385.15 \n",
       "  1847.24,1385.15 1847.53,1426.75 1847.82,1428 1848.11,1428 1848.4,1445.68 1848.69,1437.91 1848.98,1437.91 1849.26,1437.9 1849.55,1437.9 1849.84,1436.92 \n",
       "  1850.13,1436.92 1850.42,1433.82 1850.71,1433.82 1851,1433.81 1851.29,1433.8 1851.58,1433.8 1851.86,1445.7 1852.15,1433.85 1852.44,1433.85 1852.73,1402.03 \n",
       "  1853.02,1391.44 1853.31,1374.06 1853.6,1374.06 1853.89,1278.08 1854.18,1274.04 1854.47,1270.3 1854.75,1270.3 1855.04,1270.3 1855.33,1271.45 1855.62,1253.98 \n",
       "  1855.91,1336.16 1856.2,1344.32 1856.49,1344.32 1856.78,1344.35 1857.07,1335.17 1857.35,1335.17 1857.64,1335.25 1857.93,1335.25 1858.22,1437.04 1858.51,1437.04 \n",
       "  1858.8,1417.36 1859.09,1417.36 1859.38,1417.38 1859.67,1417.38 1859.95,1413.77 1860.24,1413.77 1860.53,1423.5 1860.82,1443.52 1861.11,1443.52 1861.4,1443.52 \n",
       "  1861.69,1438.46 1861.98,1438.46 1862.27,1430.89 1862.56,1430.89 1862.84,1420.49 1863.13,1420.49 1863.42,1433.56 1863.71,1445.68 1864,1445.68 1864.29,1445.68 \n",
       "  1864.58,1445.68 1864.87,1445.71 1865.16,1445.71 1865.44,1444.09 1865.73,1444.09 1866.02,1394.3 1866.31,1423.87 1866.6,1417.72 1866.89,1439.65 1867.18,1439.65 \n",
       "  1867.47,1415.43 1867.76,1415.43 1868.04,1401.53 1868.33,1401.53 1868.62,1401.53 1868.91,1382.93 1869.2,1382.93 1869.49,1382.93 1869.78,1434.99 1870.07,1434.99 \n",
       "  1870.36,1423.88 1870.65,1423.88 1870.93,1422.92 1871.22,1422.92 1871.51,1440.73 1871.8,1445.44 1872.09,1445.02 1872.38,1445.02 1872.67,1445.72 1872.96,1445.72 \n",
       "  1873.25,1445.67 1873.53,1445.22 1873.82,1445.22 1874.11,1443.08 1874.4,1443.08 1874.69,1444.41 1874.98,1444.41 1875.27,1444.41 1875.56,1444.41 1875.85,1444.41 \n",
       "  1876.13,1444.41 1876.42,1436.12 1876.71,1436.12 1877,1436.12 1877.29,1445.11 1877.58,1445.11 1877.87,1440.73 1878.16,1440.73 1878.45,1407.83 1878.74,1438.16 \n",
       "  1879.02,1438.16 1879.31,1438.16 1879.6,1441.18 1879.89,1438.99 1880.18,1438.99 1880.47,1438.98 1880.76,1438.98 1881.05,1400.68 1881.34,1400.68 1881.62,1338.56 \n",
       "  1881.91,1332.49 1882.2,1332.49 1882.49,1345.57 1882.78,1429.16 1883.07,1429.16 1883.36,1429.12 1883.65,1429.12 1883.94,1389.69 1884.23,1389.69 1884.51,1389.62 \n",
       "  1884.8,1389.62 1885.09,1363.25 1885.38,1344.09 1885.67,1344.09 1885.96,1267.57 1886.25,1267.57 1886.54,1267.57 1886.83,1267.57 1887.11,1267.57 1887.4,1267.57 \n",
       "  1887.69,1267.57 1887.98,1267.57 1888.27,1238.42 1888.56,1205.46 1888.85,1205.46 1889.14,1272.87 1889.43,1272.87 1889.71,1272.87 1890,1243.04 1890.29,1243.04 \n",
       "  1890.58,1246.91 1890.87,1246.91 1891.16,1378.56 1891.45,1378.56 1891.74,1444.8 1892.03,1444.8 1892.32,1444.23 1892.6,1444.77 1892.89,1444.77 1893.18,1445.18 \n",
       "  1893.47,1445.18 1893.76,1445.18 1894.05,1445.18 1894.34,1444.84 1894.63,1444.84 1894.92,1444.84 1895.2,1444.84 1895.49,1444.73 1895.78,1444.73 1896.07,1444.73 \n",
       "  1896.36,1444.73 1896.65,1444.73 1896.94,1442.18 1897.23,1442.18 1897.52,1441.33 1897.8,1441.33 1898.09,1441.33 1898.38,1435.67 1898.67,1445.04 1898.96,1445.04 \n",
       "  1899.25,1443.65 1899.54,1443.65 1899.83,1440.18 1900.12,1440.18 1900.41,1444.52 1900.69,1444.52 1900.98,1441.82 1901.27,1441.82 1901.56,1441.82 1901.85,1441.82 \n",
       "  1902.14,1435.56 1902.43,1436.95 1902.72,1436.95 1903.01,1413.45 1903.29,1413.45 1903.58,1413.45 1903.87,1413.45 1904.16,1413.45 1904.45,1434.3 1904.74,1434.3 \n",
       "  1905.03,1434.3 1905.32,1384.75 1905.61,1389.74 1905.89,1408.08 1906.18,1408.08 1906.47,1382.09 1906.76,1382.09 1907.05,1382.09 1907.34,1382.09 1907.63,1382.09 \n",
       "  1907.92,1382.09 1908.21,1382.09 1908.5,1382.09 1908.78,1382.09 1909.07,1382.09 1909.36,1296.37 1909.65,1296.37 1909.94,1296.37 1910.23,1296.18 1910.52,1296.18 \n",
       "  1910.81,1295.82 1911.1,1295.63 1911.38,1290.39 1911.67,1290.39 1911.96,1180.6 1912.25,1180.6 1912.54,1375.42 1912.83,1375.42 1913.12,1425.23 1913.41,1425.23 \n",
       "  1913.7,1425.14 1913.98,1425.14 1914.27,1432.11 1914.56,1432.11 1914.85,1418.14 1915.14,1418.14 1915.43,1422.17 1915.72,1429.25 1916.01,1429.25 1916.3,1420.03 \n",
       "  1916.59,1420.03 1916.87,1423.27 1917.16,1425.84 1917.45,1434.77 1917.74,1434.77 1918.03,1436.43 1918.32,1436.43 1918.61,1438.07 1918.9,1438.07 1919.19,1444.55 \n",
       "  1919.47,1444.55 1919.76,1444.54 1920.05,1444.54 1920.34,1429.52 1920.63,1339.67 1920.92,1313.29 1921.21,1244.07 1921.5,1244.07 1921.79,995.839 1922.08,1024.04 \n",
       "  1922.36,1024.04 1922.65,1122.39 1922.94,1241.92 1923.23,1225.61 1923.52,1091.24 1923.81,1091.24 1924.1,994.403 1924.39,994.4 1924.68,994.4 1924.96,1015.74 \n",
       "  1925.25,1015.74 1925.54,919.568 1925.83,894.432 1926.12,1031.36 1926.41,1031.36 1926.7,929.73 1926.99,929.73 1927.28,1113.26 1927.56,1113.26 1927.85,1113.28 \n",
       "  1928.14,1064.41 1928.43,1064.41 1928.72,1064.41 1929.01,1064.42 1929.3,1203.01 1929.59,1203.01 1929.88,1250.49 1930.17,1250.49 1930.45,1330.56 1930.74,1330.56 \n",
       "  1931.03,1330.56 1931.32,1330.56 1931.61,1330.56 1931.9,1330.56 1932.19,1312.26 1932.48,1312.26 1932.77,1349.6 1933.05,1361.86 1933.34,1361.86 1933.63,1361.86 \n",
       "  1933.92,1361.86 1934.21,1297.14 1934.5,1297.14 1934.79,1267.08 1935.08,1267.08 1935.37,1282.34 1935.65,1282.34 1935.94,1282.34 1936.23,1282.34 1936.52,1365.02 \n",
       "  1936.81,1365.02 1937.1,1365.02 1937.39,1373.94 1937.68,1373.94 1937.97,1373.94 1938.26,1373.94 1938.54,1373.94 1938.83,1314.37 1939.12,1397.41 1939.41,1397.41 \n",
       "  1939.7,1390.39 1939.99,1390.39 1940.28,1390.39 1940.57,1390.39 1940.86,1419.38 1941.14,1415.98 1941.43,1346.99 1941.72,1346.99 1942.01,1370.35 1942.3,1287.17 \n",
       "  1942.59,1287.17 1942.88,1287.17 1943.17,1355.12 1943.46,1355.12 1943.74,1302.91 1944.03,1326.17 1944.32,1326.17 1944.61,1326.17 1944.9,1326.17 1945.19,1326.17 \n",
       "  1945.48,1326.17 1945.77,1326.17 1946.06,1326.17 1946.35,1273.05 1946.63,1273.05 1946.92,1303.28 1947.21,1303.28 1947.5,1243.35 1947.79,1243.35 1948.08,1256.83 \n",
       "  1948.37,1244.63 1948.66,1244.63 1948.95,1274.03 1949.23,1274.03 1949.52,1309.09 1949.81,1309.09 1950.1,1340.51 1950.39,1340.51 1950.68,1245.11 1950.97,1252.13 \n",
       "  1951.26,1252.13 1951.55,1252.13 1951.83,1252.13 1952.12,1252.13 1952.41,1252.13 1952.7,1252.13 1952.99,1252.13 1953.28,1252.13 1953.57,1298.4 1953.86,1298.4 \n",
       "  1954.15,1298.4 1954.44,1407.62 1954.72,1407.62 1955.01,1407.62 1955.3,1409.5 1955.59,1409.5 1955.88,1445.66 1956.17,1445.66 1956.46,1444.91 1956.75,1436.82 \n",
       "  1957.04,1436.82 1957.32,1327.55 1957.61,1327.55 1957.9,1249.9 1958.19,1249.9 1958.48,1244.99 1958.77,1244.99 1959.06,1244.98 1959.35,1244.98 1959.64,1244.98 \n",
       "  1959.93,1244.98 1960.21,1255.7 1960.5,1255.7 1960.79,1311.97 1961.08,1311.97 1961.37,1386 1961.66,1032.34 1961.95,1032.34 1962.24,1032.34 1962.53,1032.34 \n",
       "  1962.81,1032.34 1963.1,1032.34 1963.39,1032.34 1963.68,1032.34 1963.97,1032.34 1964.26,1032.34 1964.55,1032.34 1964.84,1032.34 1965.13,1037.16 1965.41,1037.16 \n",
       "  1965.7,1012.43 1965.99,1056.06 1966.28,1056.06 1966.57,1039.35 1966.86,1039.35 1967.15,1031.52 1967.44,1031.52 1967.73,1033.03 1968.02,1033.03 1968.3,1033.03 \n",
       "  1968.59,1033.03 1968.88,1033.03 1969.17,1032.98 1969.46,929.523 1969.75,929.514 1970.04,929.514 1970.33,962.45 1970.62,962.45 1970.9,962.444 1971.19,924.655 \n",
       "  1971.48,924.655 1971.77,1131.95 1972.06,1131.95 1972.35,1148.78 1972.64,1148.78 1972.93,1167.79 1973.22,1167.79 1973.5,1173.85 1973.79,1216.75 1974.08,1216.75 \n",
       "  1974.37,1216.75 1974.66,1223.83 1974.95,1223.83 1975.24,1327.16 1975.53,1265.3 1975.82,1265.3 1976.11,1279.89 1976.39,1378.85 1976.68,1378.85 1976.97,1378.85 \n",
       "  1977.26,1401.86 1977.55,1401.86 1977.84,1433.25 1978.13,1433.25 1978.42,1432.95 1978.71,1432.97 1978.99,1432.97 1979.28,1432.97 1979.57,1432.97 1979.86,1432.97 \n",
       "  1980.15,1432.97 1980.44,1432.97 1980.73,1441.4 1981.02,1441.4 1981.31,1441.7 1981.59,1441.7 1981.88,1444.8 1982.17,1445.05 1982.46,1414.44 1982.75,1414.44 \n",
       "  1983.04,1414.44 1983.33,1439.75 1983.62,1418.46 1983.91,1418.46 1984.2,1418.46 1984.48,1380.57 1984.77,1380.57 1985.06,1377.69 1985.35,1377.69 1985.64,1417.81 \n",
       "  1985.93,1417.81 1986.22,1429.36 1986.51,1429.36 1986.8,1397.85 1987.08,1397.66 1987.37,1428.38 1987.66,1428.38 1987.95,1438.18 1988.24,1438.18 1988.53,1427.97 \n",
       "  1988.82,1427.96 1989.11,1428.3 1989.4,1428.3 1989.68,1437.32 1989.97,1437.32 1990.26,1437.33 1990.55,1437.33 1990.84,1437.33 1991.13,1437.33 1991.42,1437.33 \n",
       "  1991.71,1437.33 1992,1442.47 1992.29,1442.47 1992.57,1443.09 1992.86,1443.09 1993.15,1443.09 1993.44,1435.02 1993.73,1442.95 1994.02,1442.95 1994.31,1444.27 \n",
       "  1994.6,1444.27 1994.89,1444.27 1995.17,1440.21 1995.46,1440.21 1995.75,1403.13 1996.04,1403.13 1996.33,1431.05 1996.62,1431.05 1996.91,1431.05 1997.2,1431.05 \n",
       "  1997.49,1431.05 1997.78,1431.05 1998.06,1431.05 1998.35,1439.18 1998.64,1439.18 1998.93,1439.18 1999.22,1439.18 1999.51,1445.67 1999.8,1445.67 2000.09,1411.07 \n",
       "  2000.38,1411.07 2000.66,1402.53 2000.95,1402.53 2001.24,1427.33 2001.53,1427.33 2001.82,1356.41 2002.11,1356.4 2002.4,1356.4 2002.69,1356.4 2002.98,1356.4 \n",
       "  2003.26,1370.67 2003.55,1370.67 2003.84,1384.18 2004.13,1384.18 2004.42,1407.84 2004.71,1407.84 2005,1425.38 2005.29,1425.39 2005.58,1425.39 2005.87,1424.8 \n",
       "  2006.15,1424.8 2006.44,1424.77 2006.73,1424.77 2007.02,1433.03 2007.31,1433.03 2007.6,1433.03 2007.89,1433.03 2008.18,1433.03 2008.47,1433.03 2008.75,1439.59 \n",
       "  2009.04,1429.97 2009.33,1429.97 2009.62,1429.97 2009.91,1429.97 2010.2,1421.61 2010.49,1421.61 2010.78,1421.9 2011.07,1421.9 2011.35,1409.91 2011.64,1401.14 \n",
       "  2011.93,1382.49 2012.22,1376.26 2012.51,1376.26 2012.8,1376.26 2013.09,1376.26 2013.38,1376.26 2013.67,1376.26 2013.96,1376.26 2014.24,1376.26 2014.53,1376.26 \n",
       "  2014.82,1393.14 2015.11,1423.91 2015.4,1423.91 2015.69,1428.36 2015.98,1428.36 2016.27,1422.86 2016.56,1422.86 2016.84,1422.86 2017.13,1371.81 2017.42,1407.87 \n",
       "  2017.71,1407.87 2018,1432.55 2018.29,1425.12 2018.58,1338.05 2018.87,1338.05 2019.16,1300.32 2019.44,1300.32 2019.73,1349.69 2020.02,1349.69 2020.31,1344.63 \n",
       "  2020.6,1313.56 2020.89,1383.76 2021.18,1383.76 2021.47,1444.72 2021.76,1445.14 2022.05,1445.14 2022.33,1445.7 2022.62,1445.7 2022.91,1445.08 2023.2,1445.08 \n",
       "  2023.49,1445.57 2023.78,1445.57 2024.07,1445.57 2024.36,1445.57 2024.65,1445.57 2024.93,1445.57 2025.22,1445.57 2025.51,1445.57 2025.8,1445.57 2026.09,1445.57 \n",
       "  2026.38,1401.34 2026.67,1401.34 2026.96,1401.34 2027.25,1401.34 2027.53,1363.34 2027.82,1363.34 2028.11,1369.01 2028.4,1369.01 2028.69,1369 2028.98,1368.99 \n",
       "  2029.27,1368.99 2029.56,1379.92 2029.85,1379.92 2030.14,1420.17 2030.42,1423.39 2030.71,1423.39 2031,1426.44 2031.29,1426.44 2031.58,1426.44 2031.87,1426.44 \n",
       "  2032.16,1426.44 2032.45,1426.44 2032.74,1431.96 2033.02,1431.96 2033.31,1401.71 2033.6,1401.71 2033.89,1400.12 2034.18,1400.12 2034.47,1407.51 2034.76,1402.37 \n",
       "  2035.05,1396.98 2035.34,1363.02 2035.63,1363.02 2035.91,1356.44 2036.2,1300.4 2036.49,1300.39 2036.78,1300.39 2037.07,1365.37 2037.36,1365.37 2037.65,1330.32 \n",
       "  2037.94,1339.26 2038.23,1339.26 2038.51,1339.26 2038.8,1339.26 2039.09,1339.26 2039.38,1385.62 2039.67,1385.62 2039.96,1385.62 2040.25,1385.62 2040.54,1388.21 \n",
       "  2040.83,1388.21 2041.11,1408.84 2041.4,1408.84 2041.69,1408.84 2041.98,1408.84 2042.27,1418.9 2042.56,1418.9 2042.85,1418.9 2043.14,1438.56 2043.43,1438.56 \n",
       "  2043.72,1435.08 2044,1431.5 2044.29,1431.5 2044.58,1409.17 2044.87,1397.29 2045.16,1397.29 2045.45,1397.29 2045.74,1426.66 2046.03,1426.66 2046.32,1418.42 \n",
       "  2046.6,1418.42 2046.89,1388.49 2047.18,1388.49 2047.47,1388.49 2047.76,1388.49 2048.05,1388.49 2048.34,1388.49 2048.63,1400.87 2048.92,1441.98 2049.2,1441.98 \n",
       "  2049.49,1435.64 2049.78,1435.64 2050.07,1445.33 2050.36,1445.33 2050.65,1445.33 2050.94,1430.62 2051.23,1430.62 2051.52,1385.97 2051.81,1385.97 2052.09,1386.67 \n",
       "  2052.38,1386.67 2052.67,1367.88 2052.96,1367.88 2053.25,1367.88 2053.54,1367.88 2053.83,1401.19 2054.12,1401.19 2054.41,1432.66 2054.69,1432.66 2054.98,1432.66 \n",
       "  2055.27,1432.66 2055.56,1387.85 2055.85,1387.81 2056.14,1387.81 2056.43,1395.17 2056.72,1395.17 2057.01,1395.17 2057.29,1395.16 2057.58,1395.16 2057.87,1441.06 \n",
       "  2058.16,1430.95 2058.45,1430.95 2058.74,1430.95 2059.03,1430.95 2059.32,1431.54 2059.61,1431.54 2059.9,1432.41 2060.18,1432.41 2060.47,1445.35 2060.76,1445.35 \n",
       "  2061.05,1422.04 2061.34,1422.04 2061.63,1422.04 2061.92,1422.04 2062.21,1422.03 2062.5,1422.03 2062.78,1422.03 2063.07,1422.03 2063.36,1435.34 2063.65,1435.34 \n",
       "  2063.94,1435.34 2064.23,1390.72 2064.52,1390.72 2064.81,1354.88 2065.1,1354.88 2065.38,1328.66 2065.67,1393.83 2065.96,1427.12 2066.25,1437.72 2066.54,1443.95 \n",
       "  2066.83,1443.95 2067.12,1443.95 2067.41,1443.95 2067.7,1443.95 2067.99,1428.48 2068.27,1428.48 2068.56,1397.25 2068.85,1397.25 2069.14,1397.25 2069.43,1397.25 \n",
       "  2069.72,1395.77 2070.01,1391.32 2070.3,1391.32 2070.59,1420.63 2070.87,1420.63 2071.16,1408.7 2071.45,1408.7 2071.74,1408.7 2072.03,1435.18 2072.32,1435.18 \n",
       "  2072.61,1434.95 2072.9,1434.95 2073.19,1434.74 2073.48,1434.74 2073.76,1373.58 2074.05,1314.72 2074.34,1266.55 2074.63,1193.64 2074.92,1193.64 2075.21,1193.63 \n",
       "  2075.5,1144.74 2075.79,1154.06 2076.08,1112.64 2076.36,1115.14 2076.65,1115.14 2076.94,1115.14 2077.23,1115.14 2077.52,1115.14 2077.81,1115.14 2078.1,883.712 \n",
       "  2078.39,883.712 2078.68,923.897 2078.96,923.897 2079.25,1293.59 2079.54,1293.59 2079.83,1293.59 2080.12,1293.59 2080.41,1293.59 2080.7,1293.58 2080.99,1293.58 \n",
       "  2081.28,1293.58 2081.57,1293.58 2081.85,1293.58 2082.14,1293.58 2082.43,1293.58 2082.72,1293.58 2083.01,1312.07 2083.3,1312.07 2083.59,1312.07 2083.88,1312.07 \n",
       "  2084.17,1312.07 2084.45,1312.07 2084.74,1374.41 2085.03,1374.41 2085.32,1354.09 2085.61,1339.54 2085.9,1339.54 2086.19,1339.54 2086.48,1339.54 2086.77,1394.93 \n",
       "  2087.05,1394.94 2087.34,1394.94 2087.63,1370.98 2087.92,1125.14 2088.21,1114.47 2088.5,1149.14 2088.79,1149.15 2089.08,1268.21 2089.37,1268.21 2089.66,1268.23 \n",
       "  2089.94,1344.42 2090.23,1344.42 2090.52,1366.96 2090.81,1366.96 2091.1,1366.96 2091.39,1366.96 2091.68,1366.96 2091.97,1366.96 2092.26,1366.96 2092.54,1403.04 \n",
       "  2092.83,1403.04 2093.12,1359.54 2093.41,1359.54 2093.7,1359.54 2093.99,1359.54 2094.28,1416.73 2094.57,1406.44 2094.86,1406.44 2095.14,1406.44 2095.43,1380.58 \n",
       "  2095.72,1380.58 2096.01,1392.06 2096.3,1392.06 2096.59,1388.04 2096.88,1388.35 2097.17,1392.92 2097.46,1392.92 2097.75,1323.1 2098.03,1323.09 2098.32,1323.09 \n",
       "  2098.61,1323.09 2098.9,1323.09 2099.19,1243.11 2099.48,1243.11 2099.77,1243.11 2100.06,1243.11 2100.35,1251.05 2100.63,1251.05 2100.92,1145.29 2101.21,1145.29 \n",
       "  2101.5,1112.92 2101.79,1112.92 2102.08,1124.21 2102.37,1124.22 2102.66,1269.04 2102.95,1269.04 2103.23,1334.69 2103.52,1334.69 2103.81,1260.63 2104.1,1260.63 \n",
       "  2104.39,1260.63 2104.68,1281.65 2104.97,1281.65 2105.26,1281.65 2105.55,1281.65 2105.84,1281.65 2106.12,1281.65 2106.41,1281.64 2106.7,1281.64 2106.99,1166.47 \n",
       "  2107.28,1135.12 2107.57,1135.12 2107.86,1132.81 2108.15,1132.81 2108.44,1101.04 2108.72,1101.03 2109.01,1052.34 2109.3,1052.34 2109.59,1081.13 2109.88,1081.13 \n",
       "  2110.17,1081.13 2110.46,1081.13 2110.75,1214.42 2111.04,1180.4 2111.32,1362.74 2111.61,1437.46 2111.9,1437.46 2112.19,1437.46 2112.48,1436.93 2112.77,1436.93 \n",
       "  2113.06,1436.93 2113.35,1417.48 2113.64,1330.26 2113.93,1330.26 2114.21,1330.26 2114.5,1330.26 2114.79,1330.26 2115.08,1330.26 2115.37,1374.17 2115.66,1342.51 \n",
       "  2115.95,1445.35 2116.24,1445.35 2116.53,1445.35 2116.81,1445.54 2117.1,1420.72 2117.39,1432.14 2117.68,1444.14 2117.97,1444.14 2118.26,1419.15 2118.55,1419.15 \n",
       "  2118.84,1419.28 2119.13,1419.28 2119.42,1425.12 2119.7,1425.12 2119.99,1427.22 2120.28,1427.22 2120.57,1427.06 2120.86,1427.06 2121.15,1433.98 2121.44,1433.98 \n",
       "  2121.73,1438.35 2122.02,1407.9 2122.3,1407.9 2122.59,1394.95 2122.88,1394.95 2123.17,1389.23 2123.46,1422.3 2123.75,1420.56 2124.04,1408.21 2124.33,1408.21 \n",
       "  2124.62,1402.34 2124.9,1392.03 2125.19,1329.26 2125.48,1279.92 2125.77,1281.01 2126.06,1281.01 2126.35,1281.01 2126.64,1281.01 2126.93,1196.31 2127.22,1196.31 \n",
       "  2127.51,1095.97 2127.79,1193.94 2128.08,1193.93 2128.37,1038.64 2128.66,1117.24 2128.95,1117.24 2129.24,1110.01 2129.53,1115.28 2129.82,1115.28 2130.11,1115.29 \n",
       "  2130.39,1115.29 2130.68,1165.74 2130.97,1165.74 2131.26,1071.36 2131.55,1071.36 2131.84,1165.65 2132.13,1165.65 2132.42,1081.86 2132.71,1081.86 2132.99,1007.18 \n",
       "  2133.28,1007.18 2133.57,941.858 2133.86,941.858 2134.15,885.423 2134.44,1165.89 2134.73,1159.07 2135.02,1123.4 2135.31,1123.4 2135.6,1123.4 2135.88,1123.4 \n",
       "  2136.17,1123.4 2136.46,1123.4 2136.75,1123.4 2137.04,1123.4 2137.33,1128.06 2137.62,1142.43 2137.91,1061.09 2138.2,959.368 2138.48,1094.9 2138.77,1094.9 \n",
       "  2139.06,1109.76 2139.35,1030.07 2139.64,1211.94 2139.93,1212.46 2140.22,1213.55 2140.51,1213.55 2140.8,1215.48 2141.08,1215.48 2141.37,1407.44 2141.66,1431.59 \n",
       "  2141.95,1431.59 2142.24,1437.58 2142.53,1442.34 2142.82,1443.8 2143.11,1443.8 2143.4,1443.8 2143.69,1438.31 2143.97,1424.47 2144.26,1441.12 2144.55,1441.12 \n",
       "  2144.84,1443 2145.13,1443 2145.42,1443 2145.71,1445.49 2146,1445.49 2146.29,1445.49 2146.57,1442.09 2146.86,1442.09 2147.15,1441.87 2147.44,1441.87 \n",
       "  2147.73,1441.87 2148.02,1441.87 2148.31,1441.87 2148.6,1441.87 2148.89,1366.02 2149.17,1366.02 2149.46,1366.02 2149.75,1366.02 2150.04,1366.02 2150.33,1370.43 \n",
       "  2150.62,1340.35 2150.91,1340.35 2151.2,1349.96 2151.49,1292.35 2151.78,1292.35 2152.06,1315.17 2152.35,1303 2152.64,1303 2152.93,1303 2153.22,1296.28 \n",
       "  2153.51,1296.28 2153.8,1084.46 2154.09,1084.46 2154.38,1124.19 2154.66,1163.71 2154.95,1163.71 2155.24,1169.62 2155.53,1058.45 2155.82,1196.41 2156.11,1196.41 \n",
       "  2156.4,1195.61 2156.69,1194.84 2156.98,1194.84 2157.27,1194.09 2157.55,1194.09 2157.84,1161.35 2158.13,1161.35 2158.42,1134.66 2158.71,1134.66 2159,1394.79 \n",
       "  2159.29,1433.56 2159.58,1433.56 2159.87,1376.91 2160.15,1402.14 2160.44,1402.14 2160.73,1431.03 2161.02,1431.03 2161.31,1431.18 2161.6,1431.18 2161.89,1431.35 \n",
       "  2162.18,1431.35 2162.47,1427.13 2162.75,1427.3 2163.04,1427.3 2163.33,1429.24 2163.62,1429.24 2163.91,1429.77 2164.2,1429.77 2164.49,1430.13 2164.78,1430.13 \n",
       "  2165.07,1430.29 2165.36,1430.29 2165.64,1445.69 2165.93,1445.68 2166.22,1445.68 2166.51,1445.72 2166.8,1445.72 2167.09,1445.72 2167.38,1445.72 2167.67,1445.71 \n",
       "  2167.96,1445.71 2168.24,1445.7 2168.53,1445.7 2168.82,1445.7 2169.11,1442 2169.4,1442.89 2169.69,1442.89 2169.98,1443.05 2170.27,1444.95 2170.56,1444.95 \n",
       "  2170.84,1444.8 2171.13,1444.67 2171.42,1444.67 2171.71,1444.71 2172,1444.44 2172.29,1444.44 2172.58,1421.24 2172.87,1403.44 2173.16,1371.87 2173.45,1371.87 \n",
       "  2173.73,1371.87 2174.02,1371.87 2174.31,1355.46 2174.6,1349.79 2174.89,1346.64 2175.18,1346.64 2175.47,1376.31 2175.76,1376.31 2176.05,1376.31 2176.33,1376.31 \n",
       "  2176.62,1361.58 2176.91,1361.58 2177.2,1411.46 2177.49,1411.46 2177.78,1427.08 2178.07,1427.08 2178.36,1437.56 2178.65,1437.56 2178.93,1445.22 2179.22,1445.22 \n",
       "  2179.51,1436.07 2179.8,1305.87 2180.09,1305.87 2180.38,1319.4 2180.67,1288.15 2180.96,1288.15 2181.25,1288.15 2181.54,1288.15 2181.82,1321.13 2182.11,1382.88 \n",
       "  2182.4,1382.88 2182.69,1390.93 2182.98,1392.75 2183.27,1384.57 2183.56,1384.57 2183.85,1387.69 2184.14,1387.69 2184.42,1387.69 2184.71,1444.73 2185,1444.34 \n",
       "  2185.29,1443.76 2185.58,1443.76 2185.87,1443.76 2186.16,1443.76 2186.45,1389.69 2186.74,1389.69 2187.02,1423.35 2187.31,1423.35 2187.6,1429.26 2187.89,1439.21 \n",
       "  2188.18,1442.54 2188.47,1442.54 2188.76,1445.69 2189.05,1445.69 2189.34,1445.69 2189.63,1445.69 2189.91,1445.69 2190.2,1440 2190.49,1440 2190.78,1427.82 \n",
       "  2191.07,1437.47 2191.36,1437.47 2191.65,1445.54 2191.94,1433.71 2192.23,1433.71 2192.51,1423.38 2192.8,1423.38 2193.09,1442.29 2193.38,1442.29 2193.67,1442.29 \n",
       "  2193.96,1363.7 2194.25,1351.92 2194.54,1351.92 2194.83,1351.92 2195.12,1374.93 2195.4,1374.93 2195.69,1374.93 2195.98,1374.93 2196.27,1374.93 2196.56,1383.17 \n",
       "  2196.85,1401.66 2197.14,1388.81 2197.43,1388.81 2197.72,1388.81 2198,1388.81 2198.29,1388.82 2198.58,1426.5 2198.87,1426.5 2199.16,1442.77 2199.45,1442.77 \n",
       "  2199.74,1416.83 2200.03,1416.83 2200.32,1416.83 2200.6,1416.83 2200.89,1411.22 2201.18,1411.22 2201.47,1411.22 2201.76,1411.22 2202.05,1411.22 2202.34,1411.22 \n",
       "  2202.63,1411.22 2202.92,1411.22 2203.21,1400.06 2203.49,1400.06 2203.78,1348.58 2204.07,1348.58 2204.36,1282.9 2204.65,1321.87 2204.94,1321.87 2205.23,1387.32 \n",
       "  2205.52,1387.32 2205.81,1442.25 2206.09,1438.69 2206.38,1438.69 2206.67,1438.69 2206.96,1438.69 2207.25,1442.32 2207.54,1443.21 2207.83,1443.21 2208.12,1441.9 \n",
       "  2208.41,1441.9 2208.69,1441.9 2208.98,1441.9 2209.27,1441.9 2209.56,1441.9 2209.85,1441.9 2210.14,1441.9 2210.43,1441.9 2210.72,1441.9 2211.01,1412.27 \n",
       "  2211.3,1439.85 2211.58,1439.85 2211.87,1384.99 2212.16,1384.99 2212.45,1386.77 2212.74,1412.48 2213.03,1412.48 2213.32,1413.06 2213.61,1413.06 2213.9,1393.15 \n",
       "  2214.18,1393.15 2214.47,1400.51 2214.76,1400.51 2215.05,1400.51 2215.34,1400.51 2215.63,1389.84 2215.92,1389.84 2216.21,1389.84 2216.5,1389.84 2216.78,1389.84 \n",
       "  2217.07,1389.84 2217.36,1389.84 2217.65,1389.84 2217.94,1388.12 2218.23,1404.57 2218.52,1404.57 2218.81,1430.49 2219.1,1430.49 2219.39,1430.49 2219.67,1430.49 \n",
       "  2219.96,1424.98 2220.25,1424.98 2220.54,1424.98 2220.83,1424.98 2221.12,1424.98 2221.41,1424.98 2221.7,1424.98 2221.99,1424.98 2222.27,1424.98 2222.56,1424.98 \n",
       "  2222.85,1426.22 2223.14,1426.22 2223.43,1426.23 2223.72,1426.23 2224.01,1435.27 2224.3,1435.27 2224.59,1435.27 2224.87,1435.27 2225.16,1435.27 2225.45,1435.27 \n",
       "  2225.74,1445.54 2226.03,1445.54 2226.32,1445.54 2226.61,1445.54 2226.9,1445.54 2227.19,1427.8 2227.48,1427.8 2227.76,1320.4 2228.05,1322.69 2228.34,1303.58 \n",
       "  2228.63,1303.58 2228.92,1300.68 2229.21,1300.68 2229.5,1300.68 2229.79,1300.68 2230.08,1296.1 2230.36,1296.1 2230.65,1296.1 2230.94,1296.1 2231.23,1296.1 \n",
       "  2231.52,1321.29 2231.81,1321.29 2232.1,1378.48 2232.39,1378.48 2232.68,1397.17 2232.97,1397.17 2233.25,1425.75 2233.54,1425.75 2233.83,1435.45 2234.12,1435.45 \n",
       "  2234.41,1020.43 2234.7,1020.43 2234.99,1020.43 2235.28,1020.43 2235.57,1020.43 2235.85,1020.43 2236.14,1006.13 2236.43,1006.13 2236.72,1006.13 2237.01,1006.13 \n",
       "  2237.3,1006.13 2237.59,1263.76 2237.88,1264.64 2238.17,1282.39 2238.45,1267.81 2238.74,1364.37 2239.03,1439.48 2239.32,1431.49 2239.61,1442.21 2239.9,1445.63 \n",
       "  2240.19,1441.02 2240.48,1441.02 2240.77,1441.02 2241.06,1444.85 2241.34,1445.25 2241.63,1445.25 2241.92,1436.89 2242.21,1436.89 2242.5,1440.26 2242.79,1445.34 \n",
       "  2243.08,1445.33 2243.37,1445.33 2243.66,1445.31 2243.94,1424.68 2244.23,1424.68 2244.52,1420.82 2244.81,1420.82 2245.1,1421 2245.39,1421 2245.68,1414.86 \n",
       "  2245.97,1414.86 2246.26,1408.36 2246.54,1408.63 2246.83,1408.9 2247.12,1408.9 2247.41,1418.06 2247.7,1418.06 2247.99,1428.72 2248.28,1437.81 2248.57,1437.81 \n",
       "  2248.86,1437.72 2249.15,1437.72 2249.43,1436.22 2249.72,1436.22 2250.01,1410.26 2250.3,1410.26 2250.59,1440.42 2250.88,1440.42 2251.17,1409.96 2251.46,1378.87 \n",
       "  2251.75,1352.21 2252.03,1352.21 2252.32,1358.53 2252.61,1421.27 2252.9,1398.5 2253.19,1398.51 2253.48,1398.51 2253.77,1428.39 2254.06,1428.4 2254.35,1428.4 \n",
       "  2254.63,1445.35 2254.92,1444.41 2255.21,1444.41 2255.5,1445.32 2255.79,1445.32 2256.08,1432.25 2256.37,1432.25 2256.66,1433.73 2256.95,1433.73 2257.24,1443.85 \n",
       "  2257.52,1443.85 2257.81,1443.85 2258.1,1392.25 2258.39,1392.25 2258.68,1398.41 2258.97,1398.41 2259.26,1386.45 2259.55,1386.45 2259.84,1374.38 2260.12,1374.38 \n",
       "  2260.41,1378.88 2260.7,1378.88 2260.99,1365.56 2261.28,1365.56 2261.57,1365.56 2261.86,1338.6 2262.15,1441.8 2262.44,1441.8 2262.72,1434.71 2263.01,1434.71 \n",
       "  2263.3,1429.7 2263.59,1424.39 2263.88,1424.39 2264.17,1418.09 2264.46,1443.21 2264.75,1443.21 2265.04,1418.09 2265.33,1418.09 2265.61,1387.64 2265.9,1386.81 \n",
       "  2266.19,1411.01 2266.48,1398.5 2266.77,1398.5 2267.06,1398.5 2267.35,1398.5 2267.64,1398.5 2267.93,1398.5 2268.21,1420.22 2268.5,1415.5 2268.79,1358.09 \n",
       "  2269.08,1358.08 2269.37,1358.07 2269.66,1347.18 2269.95,1259.03 2270.24,1234.4 2270.53,1234.4 2270.82,1243.51 2271.1,1315.17 2271.39,1315.17 2271.68,1315.17 \n",
       "  2271.97,1315.17 2272.26,1315.17 2272.55,1315.17 2272.84,1315.17 2273.13,1313.61 2273.42,1313.61 2273.7,1313.61 2273.99,1313.61 2274.28,1292.03 2274.57,1292.03 \n",
       "  2274.86,1228.08 2275.15,1260.25 2275.44,1260.25 2275.73,1272.75 2276.02,1272.75 2276.3,1272.75 2276.59,1245.35 2276.88,1245.35 2277.17,1315.03 2277.46,1315.04 \n",
       "  2277.75,1413.18 2278.04,1413.18 2278.33,1425.27 2278.62,1425.27 2278.91,1445.7 2279.19,1440.69 2279.48,1443.82 2279.77,1445.71 2280.06,1445.71 2280.35,1444.25 \n",
       "  2280.64,1444.04 2280.93,1441.88 2281.22,1439.12 2281.51,1439.12 2281.79,1433.12 2282.08,1429.34 2282.37,1429.34 2282.66,1438.1 2282.95,1438.1 2283.24,1438.1 \n",
       "  2283.53,1439.94 2283.82,1416.13 2284.11,1444.28 2284.39,1444.28 2284.68,1416.83 2284.97,1427.53 2285.26,1427.53 2285.55,1432.37 2285.84,1432.37 2286.13,1432.37 \n",
       "  2286.42,1432.37 2286.71,1432.37 2287,1434.4 2287.28,1443.79 2287.57,1443.79 2287.86,1438.45 2288.15,1424.12 2288.44,1425.99 2288.73,1403.95 2289.02,1363.92 \n",
       "  2289.31,1363.92 \n",
       "  \"/>\n",
       "<path clip-path=\"url(#clip780)\" d=\"\n",
       "M1976.5 198.898 L2278.03 198.898 L2278.03 95.2176 L1976.5 95.2176  Z\n",
       "  \" fill=\"#ffffff\" fill-rule=\"evenodd\" fill-opacity=\"1\"/>\n",
       "<polyline clip-path=\"url(#clip780)\" style=\"stroke:#000000; stroke-linecap:round; stroke-linejoin:round; stroke-width:4; stroke-opacity:1; fill:none\" points=\"\n",
       "  1976.5,198.898 2278.03,198.898 2278.03,95.2176 1976.5,95.2176 1976.5,198.898 \n",
       "  \"/>\n",
       "<polyline clip-path=\"url(#clip780)\" style=\"stroke:#009af9; stroke-linecap:round; stroke-linejoin:round; stroke-width:4; stroke-opacity:1; fill:none\" points=\"\n",
       "  2001.41,147.058 2150.87,147.058 \n",
       "  \"/>\n",
       "<path clip-path=\"url(#clip780)\" d=\"M2189.62 166.745 Q2187.81 171.375 2186.1 172.787 Q2184.39 174.199 2181.52 174.199 L2178.11 174.199 L2178.11 170.634 L2180.61 170.634 Q2182.37 170.634 2183.35 169.8 Q2184.32 168.967 2185.5 165.865 L2186.26 163.921 L2175.78 138.412 L2180.29 138.412 L2188.39 158.689 L2196.49 138.412 L2201.01 138.412 L2189.62 166.745 Z\" fill=\"#000000\" fill-rule=\"evenodd\" fill-opacity=\"1\" /><path clip-path=\"url(#clip780)\" d=\"M2208.3 160.402 L2215.94 160.402 L2215.94 134.037 L2207.63 135.703 L2207.63 131.444 L2215.89 129.778 L2220.57 129.778 L2220.57 160.402 L2228.21 160.402 L2228.21 164.338 L2208.3 164.338 L2208.3 160.402 Z\" fill=\"#000000\" fill-rule=\"evenodd\" fill-opacity=\"1\" /></svg>\n"
      ]
     },
     "execution_count": 52,
     "metadata": {},
     "output_type": "execute_result"
    }
   ],
   "source": [
    "plot(lods_from_alt[:, 33])"
   ]
  },
  {
   "cell_type": "code",
   "execution_count": 53,
   "id": "3bfc4828-caac-4a1d-8e76-ff2c57a4fef9",
   "metadata": {},
   "outputs": [],
   "source": [
    "firstBlackSwan = lods_from_alt[:, blackSwans[1]];"
   ]
  },
  {
   "cell_type": "code",
   "execution_count": 54,
   "id": "491ca243-e3f6-44ed-b3d7-96d6911bdffa",
   "metadata": {},
   "outputs": [
    {
     "data": {
      "text/plain": [
       "4-element Vector{Int64}:\n",
       " 853\n",
       " 854\n",
       " 855\n",
       " 856"
      ]
     },
     "execution_count": 54,
     "metadata": {},
     "output_type": "execute_result"
    }
   ],
   "source": [
    "findall(firstBlackSwan .< 0)"
   ]
  },
  {
   "cell_type": "code",
   "execution_count": 55,
   "id": "4d9c5b0b-80c8-4f79-8240-53b39faf6a31",
   "metadata": {},
   "outputs": [
    {
     "data": {
      "text/plain": [
       "4-element Vector{Float64}:\n",
       " 2.8889603743499245e-13\n",
       " 2.8889603743499245e-13\n",
       " 2.736462543444906e-13\n",
       " 2.736462543444906e-13"
      ]
     },
     "execution_count": 55,
     "metadata": {},
     "output_type": "execute_result"
    }
   ],
   "source": [
    "## Look at the corresponding hsqs:\n",
    "map(x -> hsqs_from_alt[x, 33], findall(firstBlackSwan .< 0))"
   ]
  },
  {
   "cell_type": "code",
   "execution_count": 56,
   "id": "e51ad79b-5f1a-4a0a-b325-796831305790",
   "metadata": {},
   "outputs": [],
   "source": [
    "bs_results_hsqs = Array{Array{Float64, 1}, 1}(undef, length(blackSwans));\n",
    "bs_results_markers = Array{Array{Int, 1}, 1}(undef, length(blackSwans));\n",
    "counter = 1;\n",
    "\n",
    "for bs in blackSwans\n",
    "    \n",
    "    bs_lods = lods_from_alt[:, bs];\n",
    "    bs_markers = findall(bs_lods .< 0);\n",
    "    bs_hsqs = map(x -> hsqs_from_alt[x, bs], bs_markers);\n",
    "    bs_results_hsqs[counter] = bs_hsqs;\n",
    "    bs_results_markers[counter] = bs_markers;\n",
    "    counter = counter + 1;\n",
    "    \n",
    "end"
   ]
  },
  {
   "cell_type": "code",
   "execution_count": 57,
   "id": "ba61a799-490c-4e8e-9f6e-bbad054c6542",
   "metadata": {},
   "outputs": [],
   "source": [
    "vec_bs_results_hsqs = [];\n",
    "for x in bs_results_hsqs\n",
    "    vec_bs_results_hsqs = vcat(vec_bs_results_hsqs, x);\n",
    "end"
   ]
  },
  {
   "cell_type": "code",
   "execution_count": 58,
   "id": "d88e3c13-33ce-4465-b781-e6f9a0101340",
   "metadata": {},
   "outputs": [],
   "source": [
    "vec_bs_results_markers = [];\n",
    "for x in bs_results_markers\n",
    "    vec_bs_results_markers = vcat(vec_bs_results_markers, x);\n",
    "end"
   ]
  },
  {
   "cell_type": "code",
   "execution_count": 59,
   "id": "1db088a8-f489-4c06-b1b6-c789d821e184",
   "metadata": {},
   "outputs": [
    {
     "data": {
      "image/svg+xml": [
       "<?xml version=\"1.0\" encoding=\"utf-8\"?>\n",
       "<svg xmlns=\"http://www.w3.org/2000/svg\" xmlns:xlink=\"http://www.w3.org/1999/xlink\" width=\"600\" height=\"400\" viewBox=\"0 0 2400 1600\">\n",
       "<defs>\n",
       "  <clipPath id=\"clip820\">\n",
       "    <rect x=\"0\" y=\"0\" width=\"2400\" height=\"1600\"/>\n",
       "  </clipPath>\n",
       "</defs>\n",
       "<path clip-path=\"url(#clip820)\" d=\"\n",
       "M0 1600 L2400 1600 L2400 0 L0 0  Z\n",
       "  \" fill=\"#ffffff\" fill-rule=\"evenodd\" fill-opacity=\"1\"/>\n",
       "<defs>\n",
       "  <clipPath id=\"clip821\">\n",
       "    <rect x=\"480\" y=\"0\" width=\"1681\" height=\"1600\"/>\n",
       "  </clipPath>\n",
       "</defs>\n",
       "<path clip-path=\"url(#clip820)\" d=\"\n",
       "M277.431 1486.45 L2352.76 1486.45 L2352.76 47.2441 L277.431 47.2441  Z\n",
       "  \" fill=\"#ffffff\" fill-rule=\"evenodd\" fill-opacity=\"1\"/>\n",
       "<defs>\n",
       "  <clipPath id=\"clip822\">\n",
       "    <rect x=\"277\" y=\"47\" width=\"2076\" height=\"1440\"/>\n",
       "  </clipPath>\n",
       "</defs>\n",
       "<polyline clip-path=\"url(#clip822)\" style=\"stroke:#000000; stroke-linecap:round; stroke-linejoin:round; stroke-width:2; stroke-opacity:0.1; fill:none\" points=\"\n",
       "  391.577,1486.45 391.577,47.2441 \n",
       "  \"/>\n",
       "<polyline clip-path=\"url(#clip822)\" style=\"stroke:#000000; stroke-linecap:round; stroke-linejoin:round; stroke-width:2; stroke-opacity:0.1; fill:none\" points=\"\n",
       "  853.335,1486.45 853.335,47.2441 \n",
       "  \"/>\n",
       "<polyline clip-path=\"url(#clip822)\" style=\"stroke:#000000; stroke-linecap:round; stroke-linejoin:round; stroke-width:2; stroke-opacity:0.1; fill:none\" points=\"\n",
       "  1315.09,1486.45 1315.09,47.2441 \n",
       "  \"/>\n",
       "<polyline clip-path=\"url(#clip822)\" style=\"stroke:#000000; stroke-linecap:round; stroke-linejoin:round; stroke-width:2; stroke-opacity:0.1; fill:none\" points=\"\n",
       "  1776.85,1486.45 1776.85,47.2441 \n",
       "  \"/>\n",
       "<polyline clip-path=\"url(#clip822)\" style=\"stroke:#000000; stroke-linecap:round; stroke-linejoin:round; stroke-width:2; stroke-opacity:0.1; fill:none\" points=\"\n",
       "  2238.61,1486.45 2238.61,47.2441 \n",
       "  \"/>\n",
       "<polyline clip-path=\"url(#clip820)\" style=\"stroke:#000000; stroke-linecap:round; stroke-linejoin:round; stroke-width:4; stroke-opacity:1; fill:none\" points=\"\n",
       "  277.431,1486.45 2352.76,1486.45 \n",
       "  \"/>\n",
       "<polyline clip-path=\"url(#clip820)\" style=\"stroke:#000000; stroke-linecap:round; stroke-linejoin:round; stroke-width:4; stroke-opacity:1; fill:none\" points=\"\n",
       "  391.577,1486.45 391.577,1467.55 \n",
       "  \"/>\n",
       "<polyline clip-path=\"url(#clip820)\" style=\"stroke:#000000; stroke-linecap:round; stroke-linejoin:round; stroke-width:4; stroke-opacity:1; fill:none\" points=\"\n",
       "  853.335,1486.45 853.335,1467.55 \n",
       "  \"/>\n",
       "<polyline clip-path=\"url(#clip820)\" style=\"stroke:#000000; stroke-linecap:round; stroke-linejoin:round; stroke-width:4; stroke-opacity:1; fill:none\" points=\"\n",
       "  1315.09,1486.45 1315.09,1467.55 \n",
       "  \"/>\n",
       "<polyline clip-path=\"url(#clip820)\" style=\"stroke:#000000; stroke-linecap:round; stroke-linejoin:round; stroke-width:4; stroke-opacity:1; fill:none\" points=\"\n",
       "  1776.85,1486.45 1776.85,1467.55 \n",
       "  \"/>\n",
       "<polyline clip-path=\"url(#clip820)\" style=\"stroke:#000000; stroke-linecap:round; stroke-linejoin:round; stroke-width:4; stroke-opacity:1; fill:none\" points=\"\n",
       "  2238.61,1486.45 2238.61,1467.55 \n",
       "  \"/>\n",
       "<path clip-path=\"url(#clip820)\" d=\"M353.881 1517.37 Q350.27 1517.37 348.441 1520.93 Q346.636 1524.47 346.636 1531.6 Q346.636 1538.71 348.441 1542.27 Q350.27 1545.82 353.881 1545.82 Q357.515 1545.82 359.321 1542.27 Q361.149 1538.71 361.149 1531.6 Q361.149 1524.47 359.321 1520.93 Q357.515 1517.37 353.881 1517.37 M353.881 1513.66 Q359.691 1513.66 362.747 1518.27 Q365.825 1522.85 365.825 1531.6 Q365.825 1540.33 362.747 1544.94 Q359.691 1549.52 353.881 1549.52 Q348.071 1549.52 344.992 1544.94 Q341.937 1540.33 341.937 1531.6 Q341.937 1522.85 344.992 1518.27 Q348.071 1513.66 353.881 1513.66 Z\" fill=\"#000000\" fill-rule=\"evenodd\" fill-opacity=\"1\" /><path clip-path=\"url(#clip820)\" d=\"M374.043 1542.97 L378.927 1542.97 L378.927 1548.85 L374.043 1548.85 L374.043 1542.97 Z\" fill=\"#000000\" fill-rule=\"evenodd\" fill-opacity=\"1\" /><path clip-path=\"url(#clip820)\" d=\"M399.112 1517.37 Q395.501 1517.37 393.672 1520.93 Q391.867 1524.47 391.867 1531.6 Q391.867 1538.71 393.672 1542.27 Q395.501 1545.82 399.112 1545.82 Q402.746 1545.82 404.552 1542.27 Q406.381 1538.71 406.381 1531.6 Q406.381 1524.47 404.552 1520.93 Q402.746 1517.37 399.112 1517.37 M399.112 1513.66 Q404.922 1513.66 407.978 1518.27 Q411.057 1522.85 411.057 1531.6 Q411.057 1540.33 407.978 1544.94 Q404.922 1549.52 399.112 1549.52 Q393.302 1549.52 390.223 1544.94 Q387.168 1540.33 387.168 1531.6 Q387.168 1522.85 390.223 1518.27 Q393.302 1513.66 399.112 1513.66 Z\" fill=\"#000000\" fill-rule=\"evenodd\" fill-opacity=\"1\" /><path clip-path=\"url(#clip820)\" d=\"M429.274 1517.37 Q425.663 1517.37 423.834 1520.93 Q422.029 1524.47 422.029 1531.6 Q422.029 1538.71 423.834 1542.27 Q425.663 1545.82 429.274 1545.82 Q432.908 1545.82 434.714 1542.27 Q436.543 1538.71 436.543 1531.6 Q436.543 1524.47 434.714 1520.93 Q432.908 1517.37 429.274 1517.37 M429.274 1513.66 Q435.084 1513.66 438.14 1518.27 Q441.218 1522.85 441.218 1531.6 Q441.218 1540.33 438.14 1544.94 Q435.084 1549.52 429.274 1549.52 Q423.464 1549.52 420.385 1544.94 Q417.33 1540.33 417.33 1531.6 Q417.33 1522.85 420.385 1518.27 Q423.464 1513.66 429.274 1513.66 Z\" fill=\"#000000\" fill-rule=\"evenodd\" fill-opacity=\"1\" /><path clip-path=\"url(#clip820)\" d=\"M816.137 1517.37 Q812.525 1517.37 810.697 1520.93 Q808.891 1524.47 808.891 1531.6 Q808.891 1538.71 810.697 1542.27 Q812.525 1545.82 816.137 1545.82 Q819.771 1545.82 821.576 1542.27 Q823.405 1538.71 823.405 1531.6 Q823.405 1524.47 821.576 1520.93 Q819.771 1517.37 816.137 1517.37 M816.137 1513.66 Q821.947 1513.66 825.002 1518.27 Q828.081 1522.85 828.081 1531.6 Q828.081 1540.33 825.002 1544.94 Q821.947 1549.52 816.137 1549.52 Q810.326 1549.52 807.248 1544.94 Q804.192 1540.33 804.192 1531.6 Q804.192 1522.85 807.248 1518.27 Q810.326 1513.66 816.137 1513.66 Z\" fill=\"#000000\" fill-rule=\"evenodd\" fill-opacity=\"1\" /><path clip-path=\"url(#clip820)\" d=\"M836.299 1542.97 L841.183 1542.97 L841.183 1548.85 L836.299 1548.85 L836.299 1542.97 Z\" fill=\"#000000\" fill-rule=\"evenodd\" fill-opacity=\"1\" /><path clip-path=\"url(#clip820)\" d=\"M855.396 1544.91 L871.715 1544.91 L871.715 1548.85 L849.771 1548.85 L849.771 1544.91 Q852.433 1542.16 857.016 1537.53 Q861.622 1532.88 862.803 1531.53 Q865.048 1529.01 865.928 1527.27 Q866.831 1525.51 866.831 1523.82 Q866.831 1521.07 864.886 1519.33 Q862.965 1517.6 859.863 1517.6 Q857.664 1517.6 855.21 1518.36 Q852.78 1519.13 850.002 1520.68 L850.002 1515.95 Q852.826 1514.82 855.28 1514.24 Q857.734 1513.66 859.771 1513.66 Q865.141 1513.66 868.335 1516.35 Q871.53 1519.03 871.53 1523.52 Q871.53 1525.65 870.72 1527.57 Q869.933 1529.47 867.826 1532.07 Q867.247 1532.74 864.146 1535.95 Q861.044 1539.15 855.396 1544.91 Z\" fill=\"#000000\" fill-rule=\"evenodd\" fill-opacity=\"1\" /><path clip-path=\"url(#clip820)\" d=\"M881.576 1514.29 L899.932 1514.29 L899.932 1518.22 L885.858 1518.22 L885.858 1526.7 Q886.877 1526.35 887.895 1526.19 Q888.914 1526 889.932 1526 Q895.719 1526 899.099 1529.17 Q902.479 1532.34 902.479 1537.76 Q902.479 1543.34 899.007 1546.44 Q895.534 1549.52 889.215 1549.52 Q887.039 1549.52 884.77 1549.15 Q882.525 1548.78 880.118 1548.04 L880.118 1543.34 Q882.201 1544.47 884.423 1545.03 Q886.645 1545.58 889.122 1545.58 Q893.127 1545.58 895.465 1543.48 Q897.803 1541.37 897.803 1537.76 Q897.803 1534.15 895.465 1532.04 Q893.127 1529.94 889.122 1529.94 Q887.247 1529.94 885.372 1530.35 Q883.52 1530.77 881.576 1531.65 L881.576 1514.29 Z\" fill=\"#000000\" fill-rule=\"evenodd\" fill-opacity=\"1\" /><path clip-path=\"url(#clip820)\" d=\"M1277.4 1517.37 Q1273.79 1517.37 1271.96 1520.93 Q1270.15 1524.47 1270.15 1531.6 Q1270.15 1538.71 1271.96 1542.27 Q1273.79 1545.82 1277.4 1545.82 Q1281.03 1545.82 1282.84 1542.27 Q1284.67 1538.71 1284.67 1531.6 Q1284.67 1524.47 1282.84 1520.93 Q1281.03 1517.37 1277.4 1517.37 M1277.4 1513.66 Q1283.21 1513.66 1286.26 1518.27 Q1289.34 1522.85 1289.34 1531.6 Q1289.34 1540.33 1286.26 1544.94 Q1283.21 1549.52 1277.4 1549.52 Q1271.59 1549.52 1268.51 1544.94 Q1265.45 1540.33 1265.45 1531.6 Q1265.45 1522.85 1268.51 1518.27 Q1271.59 1513.66 1277.4 1513.66 Z\" fill=\"#000000\" fill-rule=\"evenodd\" fill-opacity=\"1\" /><path clip-path=\"url(#clip820)\" d=\"M1297.56 1542.97 L1302.44 1542.97 L1302.44 1548.85 L1297.56 1548.85 L1297.56 1542.97 Z\" fill=\"#000000\" fill-rule=\"evenodd\" fill-opacity=\"1\" /><path clip-path=\"url(#clip820)\" d=\"M1312.67 1514.29 L1331.03 1514.29 L1331.03 1518.22 L1316.96 1518.22 L1316.96 1526.7 Q1317.98 1526.35 1318.99 1526.19 Q1320.01 1526 1321.03 1526 Q1326.82 1526 1330.2 1529.17 Q1333.58 1532.34 1333.58 1537.76 Q1333.58 1543.34 1330.1 1546.44 Q1326.63 1549.52 1320.31 1549.52 Q1318.14 1549.52 1315.87 1549.15 Q1313.62 1548.78 1311.22 1548.04 L1311.22 1543.34 Q1313.3 1544.47 1315.52 1545.03 Q1317.74 1545.58 1320.22 1545.58 Q1324.23 1545.58 1326.56 1543.48 Q1328.9 1541.37 1328.9 1537.76 Q1328.9 1534.15 1326.56 1532.04 Q1324.23 1529.94 1320.22 1529.94 Q1318.35 1529.94 1316.47 1530.35 Q1314.62 1530.77 1312.67 1531.65 L1312.67 1514.29 Z\" fill=\"#000000\" fill-rule=\"evenodd\" fill-opacity=\"1\" /><path clip-path=\"url(#clip820)\" d=\"M1352.79 1517.37 Q1349.18 1517.37 1347.35 1520.93 Q1345.54 1524.47 1345.54 1531.6 Q1345.54 1538.71 1347.35 1542.27 Q1349.18 1545.82 1352.79 1545.82 Q1356.42 1545.82 1358.23 1542.27 Q1360.06 1538.71 1360.06 1531.6 Q1360.06 1524.47 1358.23 1520.93 Q1356.42 1517.37 1352.79 1517.37 M1352.79 1513.66 Q1358.6 1513.66 1361.66 1518.27 Q1364.73 1522.85 1364.73 1531.6 Q1364.73 1540.33 1361.66 1544.94 Q1358.6 1549.52 1352.79 1549.52 Q1346.98 1549.52 1343.9 1544.94 Q1340.85 1540.33 1340.85 1531.6 Q1340.85 1522.85 1343.9 1518.27 Q1346.98 1513.66 1352.79 1513.66 Z\" fill=\"#000000\" fill-rule=\"evenodd\" fill-opacity=\"1\" /><path clip-path=\"url(#clip820)\" d=\"M1739.65 1517.37 Q1736.04 1517.37 1734.21 1520.93 Q1732.41 1524.47 1732.41 1531.6 Q1732.41 1538.71 1734.21 1542.27 Q1736.04 1545.82 1739.65 1545.82 Q1743.29 1545.82 1745.09 1542.27 Q1746.92 1538.71 1746.92 1531.6 Q1746.92 1524.47 1745.09 1520.93 Q1743.29 1517.37 1739.65 1517.37 M1739.65 1513.66 Q1745.46 1513.66 1748.52 1518.27 Q1751.6 1522.85 1751.6 1531.6 Q1751.6 1540.33 1748.52 1544.94 Q1745.46 1549.52 1739.65 1549.52 Q1733.84 1549.52 1730.76 1544.94 Q1727.71 1540.33 1727.71 1531.6 Q1727.71 1522.85 1730.76 1518.27 Q1733.84 1513.66 1739.65 1513.66 Z\" fill=\"#000000\" fill-rule=\"evenodd\" fill-opacity=\"1\" /><path clip-path=\"url(#clip820)\" d=\"M1759.81 1542.97 L1764.7 1542.97 L1764.7 1548.85 L1759.81 1548.85 L1759.81 1542.97 Z\" fill=\"#000000\" fill-rule=\"evenodd\" fill-opacity=\"1\" /><path clip-path=\"url(#clip820)\" d=\"M1773.7 1514.29 L1795.93 1514.29 L1795.93 1516.28 L1783.38 1548.85 L1778.49 1548.85 L1790.3 1518.22 L1773.7 1518.22 L1773.7 1514.29 Z\" fill=\"#000000\" fill-rule=\"evenodd\" fill-opacity=\"1\" /><path clip-path=\"url(#clip820)\" d=\"M1805.09 1514.29 L1823.45 1514.29 L1823.45 1518.22 L1809.37 1518.22 L1809.37 1526.7 Q1810.39 1526.35 1811.41 1526.19 Q1812.43 1526 1813.45 1526 Q1819.24 1526 1822.62 1529.17 Q1825.99 1532.34 1825.99 1537.76 Q1825.99 1543.34 1822.52 1546.44 Q1819.05 1549.52 1812.73 1549.52 Q1810.55 1549.52 1808.29 1549.15 Q1806.04 1548.78 1803.63 1548.04 L1803.63 1543.34 Q1805.72 1544.47 1807.94 1545.03 Q1810.16 1545.58 1812.64 1545.58 Q1816.64 1545.58 1818.98 1543.48 Q1821.32 1541.37 1821.32 1537.76 Q1821.32 1534.15 1818.98 1532.04 Q1816.64 1529.94 1812.64 1529.94 Q1810.76 1529.94 1808.89 1530.35 Q1807.04 1530.77 1805.09 1531.65 L1805.09 1514.29 Z\" fill=\"#000000\" fill-rule=\"evenodd\" fill-opacity=\"1\" /><path clip-path=\"url(#clip820)\" d=\"M2190.68 1544.91 L2198.32 1544.91 L2198.32 1518.55 L2190.01 1520.21 L2190.01 1515.95 L2198.27 1514.29 L2202.95 1514.29 L2202.95 1544.91 L2210.59 1544.91 L2210.59 1548.85 L2190.68 1548.85 L2190.68 1544.91 Z\" fill=\"#000000\" fill-rule=\"evenodd\" fill-opacity=\"1\" /><path clip-path=\"url(#clip820)\" d=\"M2220.03 1542.97 L2224.92 1542.97 L2224.92 1548.85 L2220.03 1548.85 L2220.03 1542.97 Z\" fill=\"#000000\" fill-rule=\"evenodd\" fill-opacity=\"1\" /><path clip-path=\"url(#clip820)\" d=\"M2245.1 1517.37 Q2241.49 1517.37 2239.66 1520.93 Q2237.86 1524.47 2237.86 1531.6 Q2237.86 1538.71 2239.66 1542.27 Q2241.49 1545.82 2245.1 1545.82 Q2248.74 1545.82 2250.54 1542.27 Q2252.37 1538.71 2252.37 1531.6 Q2252.37 1524.47 2250.54 1520.93 Q2248.74 1517.37 2245.1 1517.37 M2245.1 1513.66 Q2250.91 1513.66 2253.97 1518.27 Q2257.05 1522.85 2257.05 1531.6 Q2257.05 1540.33 2253.97 1544.94 Q2250.91 1549.52 2245.1 1549.52 Q2239.29 1549.52 2236.21 1544.94 Q2233.16 1540.33 2233.16 1531.6 Q2233.16 1522.85 2236.21 1518.27 Q2239.29 1513.66 2245.1 1513.66 Z\" fill=\"#000000\" fill-rule=\"evenodd\" fill-opacity=\"1\" /><path clip-path=\"url(#clip820)\" d=\"M2275.26 1517.37 Q2271.65 1517.37 2269.82 1520.93 Q2268.02 1524.47 2268.02 1531.6 Q2268.02 1538.71 2269.82 1542.27 Q2271.65 1545.82 2275.26 1545.82 Q2278.9 1545.82 2280.7 1542.27 Q2282.53 1538.71 2282.53 1531.6 Q2282.53 1524.47 2280.7 1520.93 Q2278.9 1517.37 2275.26 1517.37 M2275.26 1513.66 Q2281.07 1513.66 2284.13 1518.27 Q2287.21 1522.85 2287.21 1531.6 Q2287.21 1540.33 2284.13 1544.94 Q2281.07 1549.52 2275.26 1549.52 Q2269.45 1549.52 2266.38 1544.94 Q2263.32 1540.33 2263.32 1531.6 Q2263.32 1522.85 2266.38 1518.27 Q2269.45 1513.66 2275.26 1513.66 Z\" fill=\"#000000\" fill-rule=\"evenodd\" fill-opacity=\"1\" /><polyline clip-path=\"url(#clip822)\" style=\"stroke:#000000; stroke-linecap:round; stroke-linejoin:round; stroke-width:2; stroke-opacity:0.1; fill:none\" points=\"\n",
       "  277.431,1445.72 2352.76,1445.72 \n",
       "  \"/>\n",
       "<polyline clip-path=\"url(#clip822)\" style=\"stroke:#000000; stroke-linecap:round; stroke-linejoin:round; stroke-width:2; stroke-opacity:0.1; fill:none\" points=\"\n",
       "  277.431,1240.52 2352.76,1240.52 \n",
       "  \"/>\n",
       "<polyline clip-path=\"url(#clip822)\" style=\"stroke:#000000; stroke-linecap:round; stroke-linejoin:round; stroke-width:2; stroke-opacity:0.1; fill:none\" points=\"\n",
       "  277.431,1035.32 2352.76,1035.32 \n",
       "  \"/>\n",
       "<polyline clip-path=\"url(#clip822)\" style=\"stroke:#000000; stroke-linecap:round; stroke-linejoin:round; stroke-width:2; stroke-opacity:0.1; fill:none\" points=\"\n",
       "  277.431,830.119 2352.76,830.119 \n",
       "  \"/>\n",
       "<polyline clip-path=\"url(#clip822)\" style=\"stroke:#000000; stroke-linecap:round; stroke-linejoin:round; stroke-width:2; stroke-opacity:0.1; fill:none\" points=\"\n",
       "  277.431,624.92 2352.76,624.92 \n",
       "  \"/>\n",
       "<polyline clip-path=\"url(#clip822)\" style=\"stroke:#000000; stroke-linecap:round; stroke-linejoin:round; stroke-width:2; stroke-opacity:0.1; fill:none\" points=\"\n",
       "  277.431,419.721 2352.76,419.721 \n",
       "  \"/>\n",
       "<polyline clip-path=\"url(#clip822)\" style=\"stroke:#000000; stroke-linecap:round; stroke-linejoin:round; stroke-width:2; stroke-opacity:0.1; fill:none\" points=\"\n",
       "  277.431,214.522 2352.76,214.522 \n",
       "  \"/>\n",
       "<polyline clip-path=\"url(#clip820)\" style=\"stroke:#000000; stroke-linecap:round; stroke-linejoin:round; stroke-width:4; stroke-opacity:1; fill:none\" points=\"\n",
       "  277.431,1486.45 277.431,47.2441 \n",
       "  \"/>\n",
       "<polyline clip-path=\"url(#clip820)\" style=\"stroke:#000000; stroke-linecap:round; stroke-linejoin:round; stroke-width:4; stroke-opacity:1; fill:none\" points=\"\n",
       "  277.431,1445.72 296.329,1445.72 \n",
       "  \"/>\n",
       "<polyline clip-path=\"url(#clip820)\" style=\"stroke:#000000; stroke-linecap:round; stroke-linejoin:round; stroke-width:4; stroke-opacity:1; fill:none\" points=\"\n",
       "  277.431,1240.52 296.329,1240.52 \n",
       "  \"/>\n",
       "<polyline clip-path=\"url(#clip820)\" style=\"stroke:#000000; stroke-linecap:round; stroke-linejoin:round; stroke-width:4; stroke-opacity:1; fill:none\" points=\"\n",
       "  277.431,1035.32 296.329,1035.32 \n",
       "  \"/>\n",
       "<polyline clip-path=\"url(#clip820)\" style=\"stroke:#000000; stroke-linecap:round; stroke-linejoin:round; stroke-width:4; stroke-opacity:1; fill:none\" points=\"\n",
       "  277.431,830.119 296.329,830.119 \n",
       "  \"/>\n",
       "<polyline clip-path=\"url(#clip820)\" style=\"stroke:#000000; stroke-linecap:round; stroke-linejoin:round; stroke-width:4; stroke-opacity:1; fill:none\" points=\"\n",
       "  277.431,624.92 296.329,624.92 \n",
       "  \"/>\n",
       "<polyline clip-path=\"url(#clip820)\" style=\"stroke:#000000; stroke-linecap:round; stroke-linejoin:round; stroke-width:4; stroke-opacity:1; fill:none\" points=\"\n",
       "  277.431,419.721 296.329,419.721 \n",
       "  \"/>\n",
       "<polyline clip-path=\"url(#clip820)\" style=\"stroke:#000000; stroke-linecap:round; stroke-linejoin:round; stroke-width:4; stroke-opacity:1; fill:none\" points=\"\n",
       "  277.431,214.522 296.329,214.522 \n",
       "  \"/>\n",
       "<path clip-path=\"url(#clip820)\" d=\"M229.487 1431.51 Q225.875 1431.51 224.047 1435.08 Q222.241 1438.62 222.241 1445.75 Q222.241 1452.86 224.047 1456.42 Q225.875 1459.96 229.487 1459.96 Q233.121 1459.96 234.926 1456.42 Q236.755 1452.86 236.755 1445.75 Q236.755 1438.62 234.926 1435.08 Q233.121 1431.51 229.487 1431.51 M229.487 1427.81 Q235.297 1427.81 238.352 1432.42 Q241.431 1437 241.431 1445.75 Q241.431 1454.48 238.352 1459.08 Q235.297 1463.67 229.487 1463.67 Q223.676 1463.67 220.598 1459.08 Q217.542 1454.48 217.542 1445.75 Q217.542 1437 220.598 1432.42 Q223.676 1427.81 229.487 1427.81 Z\" fill=\"#000000\" fill-rule=\"evenodd\" fill-opacity=\"1\" /><path clip-path=\"url(#clip820)\" d=\"M54.5569 1260.31 L62.1958 1260.31 L62.1958 1233.94 L53.8856 1235.61 L53.8856 1231.35 L62.1495 1229.68 L66.8254 1229.68 L66.8254 1260.31 L74.4642 1260.31 L74.4642 1264.24 L54.5569 1264.24 L54.5569 1260.31 Z\" fill=\"#000000\" fill-rule=\"evenodd\" fill-opacity=\"1\" /><path clip-path=\"url(#clip820)\" d=\"M83.9086 1258.36 L88.7928 1258.36 L88.7928 1264.24 L83.9086 1264.24 L83.9086 1258.36 Z\" fill=\"#000000\" fill-rule=\"evenodd\" fill-opacity=\"1\" /><path clip-path=\"url(#clip820)\" d=\"M108.978 1232.76 Q105.367 1232.76 103.538 1236.33 Q101.733 1239.87 101.733 1247 Q101.733 1254.11 103.538 1257.67 Q105.367 1261.21 108.978 1261.21 Q112.612 1261.21 114.418 1257.67 Q116.246 1254.11 116.246 1247 Q116.246 1239.87 114.418 1236.33 Q112.612 1232.76 108.978 1232.76 M108.978 1229.06 Q114.788 1229.06 117.844 1233.67 Q120.922 1238.25 120.922 1247 Q120.922 1255.73 117.844 1260.33 Q114.788 1264.92 108.978 1264.92 Q103.168 1264.92 100.089 1260.33 Q97.0335 1255.73 97.0335 1247 Q97.0335 1238.25 100.089 1233.67 Q103.168 1229.06 108.978 1229.06 Z\" fill=\"#000000\" fill-rule=\"evenodd\" fill-opacity=\"1\" /><path clip-path=\"url(#clip820)\" d=\"M157.311 1238.78 L146.732 1249.41 L157.311 1259.99 L154.556 1262.79 L143.931 1252.16 L133.306 1262.79 L130.575 1259.99 L141.131 1249.41 L130.575 1238.78 L133.306 1235.98 L143.931 1246.61 L154.556 1235.98 L157.311 1238.78 Z\" fill=\"#000000\" fill-rule=\"evenodd\" fill-opacity=\"1\" /><path clip-path=\"url(#clip820)\" d=\"M169.672 1260.31 L177.311 1260.31 L177.311 1233.94 L169.001 1235.61 L169.001 1231.35 L177.265 1229.68 L181.94 1229.68 L181.94 1260.31 L189.579 1260.31 L189.579 1264.24 L169.672 1264.24 L169.672 1260.31 Z\" fill=\"#000000\" fill-rule=\"evenodd\" fill-opacity=\"1\" /><path clip-path=\"url(#clip820)\" d=\"M209.024 1232.76 Q205.413 1232.76 203.584 1236.33 Q201.778 1239.87 201.778 1247 Q201.778 1254.11 203.584 1257.67 Q205.413 1261.21 209.024 1261.21 Q212.658 1261.21 214.463 1257.67 Q216.292 1254.11 216.292 1247 Q216.292 1239.87 214.463 1236.33 Q212.658 1232.76 209.024 1232.76 M209.024 1229.06 Q214.834 1229.06 217.889 1233.67 Q220.968 1238.25 220.968 1247 Q220.968 1255.73 217.889 1260.33 Q214.834 1264.92 209.024 1264.92 Q203.214 1264.92 200.135 1260.33 Q197.079 1255.73 197.079 1247 Q197.079 1238.25 200.135 1233.67 Q203.214 1229.06 209.024 1229.06 Z\" fill=\"#000000\" fill-rule=\"evenodd\" fill-opacity=\"1\" /><path clip-path=\"url(#clip820)\" d=\"M233.645 1212.06 L224.053 1227.05 L233.645 1227.05 L233.645 1212.06 M232.648 1208.75 L237.425 1208.75 L237.425 1227.05 L241.431 1227.05 L241.431 1230.21 L237.425 1230.21 L237.425 1236.83 L233.645 1236.83 L233.645 1230.21 L220.968 1230.21 L220.968 1226.55 L232.648 1208.75 Z\" fill=\"#000000\" fill-rule=\"evenodd\" fill-opacity=\"1\" /><path clip-path=\"url(#clip820)\" d=\"M57.7745 1055.11 L74.0939 1055.11 L74.0939 1059.05 L52.1495 1059.05 L52.1495 1055.11 Q54.8115 1052.36 59.3949 1047.73 Q64.0013 1043.07 65.1819 1041.73 Q67.4272 1039.21 68.3068 1037.47 Q69.2096 1035.71 69.2096 1034.02 Q69.2096 1031.27 67.2652 1029.53 Q65.3439 1027.8 62.2421 1027.8 Q60.043 1027.8 57.5893 1028.56 Q55.1588 1029.32 52.381 1030.87 L52.381 1026.15 Q55.2051 1025.02 57.6588 1024.44 Q60.1124 1023.86 62.1495 1023.86 Q67.5198 1023.86 70.7142 1026.55 Q73.9087 1029.23 73.9087 1033.72 Q73.9087 1035.85 73.0985 1037.77 Q72.3115 1039.67 70.205 1042.26 Q69.6263 1042.93 66.5245 1046.15 Q63.4226 1049.35 57.7745 1055.11 Z\" fill=\"#000000\" fill-rule=\"evenodd\" fill-opacity=\"1\" /><path clip-path=\"url(#clip820)\" d=\"M83.9086 1053.17 L88.7928 1053.17 L88.7928 1059.05 L83.9086 1059.05 L83.9086 1053.17 Z\" fill=\"#000000\" fill-rule=\"evenodd\" fill-opacity=\"1\" /><path clip-path=\"url(#clip820)\" d=\"M108.978 1027.56 Q105.367 1027.56 103.538 1031.13 Q101.733 1034.67 101.733 1041.8 Q101.733 1048.91 103.538 1052.47 Q105.367 1056.01 108.978 1056.01 Q112.612 1056.01 114.418 1052.47 Q116.246 1048.91 116.246 1041.8 Q116.246 1034.67 114.418 1031.13 Q112.612 1027.56 108.978 1027.56 M108.978 1023.86 Q114.788 1023.86 117.844 1028.47 Q120.922 1033.05 120.922 1041.8 Q120.922 1050.53 117.844 1055.13 Q114.788 1059.72 108.978 1059.72 Q103.168 1059.72 100.089 1055.13 Q97.0335 1050.53 97.0335 1041.8 Q97.0335 1033.05 100.089 1028.47 Q103.168 1023.86 108.978 1023.86 Z\" fill=\"#000000\" fill-rule=\"evenodd\" fill-opacity=\"1\" /><path clip-path=\"url(#clip820)\" d=\"M157.311 1033.58 L146.732 1044.21 L157.311 1054.79 L154.556 1057.59 L143.931 1046.96 L133.306 1057.59 L130.575 1054.79 L141.131 1044.21 L130.575 1033.58 L133.306 1030.78 L143.931 1041.41 L154.556 1030.78 L157.311 1033.58 Z\" fill=\"#000000\" fill-rule=\"evenodd\" fill-opacity=\"1\" /><path clip-path=\"url(#clip820)\" d=\"M169.672 1055.11 L177.311 1055.11 L177.311 1028.74 L169.001 1030.41 L169.001 1026.15 L177.265 1024.49 L181.94 1024.49 L181.94 1055.11 L189.579 1055.11 L189.579 1059.05 L169.672 1059.05 L169.672 1055.11 Z\" fill=\"#000000\" fill-rule=\"evenodd\" fill-opacity=\"1\" /><path clip-path=\"url(#clip820)\" d=\"M209.024 1027.56 Q205.413 1027.56 203.584 1031.13 Q201.778 1034.67 201.778 1041.8 Q201.778 1048.91 203.584 1052.47 Q205.413 1056.01 209.024 1056.01 Q212.658 1056.01 214.463 1052.47 Q216.292 1048.91 216.292 1041.8 Q216.292 1034.67 214.463 1031.13 Q212.658 1027.56 209.024 1027.56 M209.024 1023.86 Q214.834 1023.86 217.889 1028.47 Q220.968 1033.05 220.968 1041.8 Q220.968 1050.53 217.889 1055.13 Q214.834 1059.72 209.024 1059.72 Q203.214 1059.72 200.135 1055.13 Q197.079 1050.53 197.079 1041.8 Q197.079 1033.05 200.135 1028.47 Q203.214 1023.86 209.024 1023.86 Z\" fill=\"#000000\" fill-rule=\"evenodd\" fill-opacity=\"1\" /><path clip-path=\"url(#clip820)\" d=\"M233.645 1006.87 L224.053 1021.86 L233.645 1021.86 L233.645 1006.87 M232.648 1003.56 L237.425 1003.56 L237.425 1021.86 L241.431 1021.86 L241.431 1025.01 L237.425 1025.01 L237.425 1031.64 L233.645 1031.64 L233.645 1025.01 L220.968 1025.01 L220.968 1021.35 L232.648 1003.56 Z\" fill=\"#000000\" fill-rule=\"evenodd\" fill-opacity=\"1\" /><path clip-path=\"url(#clip820)\" d=\"M67.9133 835.212 Q71.2698 835.93 73.1448 838.199 Q75.0429 840.467 75.0429 843.8 Q75.0429 848.916 71.5244 851.717 Q68.0059 854.518 61.5245 854.518 Q59.3486 854.518 57.0338 854.078 Q54.7421 853.661 52.2884 852.805 L52.2884 848.291 Q54.2328 849.425 56.5477 850.004 Q58.8625 850.583 61.3856 850.583 Q65.7837 850.583 68.0754 848.847 Q70.3902 847.111 70.3902 843.8 Q70.3902 840.745 68.2374 839.032 Q66.1078 837.296 62.2884 837.296 L58.2606 837.296 L58.2606 833.453 L62.4735 833.453 Q65.9226 833.453 67.7513 832.088 Q69.58 830.699 69.58 828.106 Q69.58 825.444 67.6819 824.032 Q65.8069 822.597 62.2884 822.597 Q60.3671 822.597 58.168 823.013 Q55.969 823.43 53.3301 824.31 L53.3301 820.143 Q55.9921 819.402 58.3069 819.032 Q60.6449 818.662 62.705 818.662 Q68.0291 818.662 71.1309 821.092 Q74.2327 823.5 74.2327 827.62 Q74.2327 830.49 72.5892 832.481 Q70.9457 834.449 67.9133 835.212 Z\" fill=\"#000000\" fill-rule=\"evenodd\" fill-opacity=\"1\" /><path clip-path=\"url(#clip820)\" d=\"M83.9086 847.967 L88.7928 847.967 L88.7928 853.847 L83.9086 853.847 L83.9086 847.967 Z\" fill=\"#000000\" fill-rule=\"evenodd\" fill-opacity=\"1\" /><path clip-path=\"url(#clip820)\" d=\"M108.978 822.365 Q105.367 822.365 103.538 825.93 Q101.733 829.472 101.733 836.601 Q101.733 843.708 103.538 847.273 Q105.367 850.814 108.978 850.814 Q112.612 850.814 114.418 847.273 Q116.246 843.708 116.246 836.601 Q116.246 829.472 114.418 825.93 Q112.612 822.365 108.978 822.365 M108.978 818.662 Q114.788 818.662 117.844 823.268 Q120.922 827.851 120.922 836.601 Q120.922 845.328 117.844 849.935 Q114.788 854.518 108.978 854.518 Q103.168 854.518 100.089 849.935 Q97.0335 845.328 97.0335 836.601 Q97.0335 827.851 100.089 823.268 Q103.168 818.662 108.978 818.662 Z\" fill=\"#000000\" fill-rule=\"evenodd\" fill-opacity=\"1\" /><path clip-path=\"url(#clip820)\" d=\"M157.311 828.384 L146.732 839.009 L157.311 849.587 L154.556 852.388 L143.931 841.763 L133.306 852.388 L130.575 849.587 L141.131 839.009 L130.575 828.384 L133.306 825.583 L143.931 836.208 L154.556 825.583 L157.311 828.384 Z\" fill=\"#000000\" fill-rule=\"evenodd\" fill-opacity=\"1\" /><path clip-path=\"url(#clip820)\" d=\"M169.672 849.911 L177.311 849.911 L177.311 823.546 L169.001 825.213 L169.001 820.953 L177.265 819.287 L181.94 819.287 L181.94 849.911 L189.579 849.911 L189.579 853.847 L169.672 853.847 L169.672 849.911 Z\" fill=\"#000000\" fill-rule=\"evenodd\" fill-opacity=\"1\" /><path clip-path=\"url(#clip820)\" d=\"M209.024 822.365 Q205.413 822.365 203.584 825.93 Q201.778 829.472 201.778 836.601 Q201.778 843.708 203.584 847.273 Q205.413 850.814 209.024 850.814 Q212.658 850.814 214.463 847.273 Q216.292 843.708 216.292 836.601 Q216.292 829.472 214.463 825.93 Q212.658 822.365 209.024 822.365 M209.024 818.662 Q214.834 818.662 217.889 823.268 Q220.968 827.851 220.968 836.601 Q220.968 845.328 217.889 849.935 Q214.834 854.518 209.024 854.518 Q203.214 854.518 200.135 849.935 Q197.079 845.328 197.079 836.601 Q197.079 827.851 200.135 823.268 Q203.214 818.662 209.024 818.662 Z\" fill=\"#000000\" fill-rule=\"evenodd\" fill-opacity=\"1\" /><path clip-path=\"url(#clip820)\" d=\"M233.645 801.666 L224.053 816.656 L233.645 816.656 L233.645 801.666 M232.648 798.356 L237.425 798.356 L237.425 816.656 L241.431 816.656 L241.431 819.816 L237.425 819.816 L237.425 826.436 L233.645 826.436 L233.645 819.816 L220.968 819.816 L220.968 816.148 L232.648 798.356 Z\" fill=\"#000000\" fill-rule=\"evenodd\" fill-opacity=\"1\" /><path clip-path=\"url(#clip820)\" d=\"M66.5939 618.162 L54.7884 636.611 L66.5939 636.611 L66.5939 618.162 M65.367 614.088 L71.2466 614.088 L71.2466 636.611 L76.1772 636.611 L76.1772 640.5 L71.2466 640.5 L71.2466 648.648 L66.5939 648.648 L66.5939 640.5 L50.9921 640.5 L50.9921 635.986 L65.367 614.088 Z\" fill=\"#000000\" fill-rule=\"evenodd\" fill-opacity=\"1\" /><path clip-path=\"url(#clip820)\" d=\"M83.9086 642.768 L88.7928 642.768 L88.7928 648.648 L83.9086 648.648 L83.9086 642.768 Z\" fill=\"#000000\" fill-rule=\"evenodd\" fill-opacity=\"1\" /><path clip-path=\"url(#clip820)\" d=\"M108.978 617.166 Q105.367 617.166 103.538 620.731 Q101.733 624.273 101.733 631.403 Q101.733 638.509 103.538 642.074 Q105.367 645.615 108.978 645.615 Q112.612 645.615 114.418 642.074 Q116.246 638.509 116.246 631.403 Q116.246 624.273 114.418 620.731 Q112.612 617.166 108.978 617.166 M108.978 613.463 Q114.788 613.463 117.844 618.069 Q120.922 622.653 120.922 631.403 Q120.922 640.129 117.844 644.736 Q114.788 649.319 108.978 649.319 Q103.168 649.319 100.089 644.736 Q97.0335 640.129 97.0335 631.403 Q97.0335 622.653 100.089 618.069 Q103.168 613.463 108.978 613.463 Z\" fill=\"#000000\" fill-rule=\"evenodd\" fill-opacity=\"1\" /><path clip-path=\"url(#clip820)\" d=\"M157.311 623.185 L146.732 633.81 L157.311 644.389 L154.556 647.189 L143.931 636.565 L133.306 647.189 L130.575 644.389 L141.131 633.81 L130.575 623.185 L133.306 620.384 L143.931 631.009 L154.556 620.384 L157.311 623.185 Z\" fill=\"#000000\" fill-rule=\"evenodd\" fill-opacity=\"1\" /><path clip-path=\"url(#clip820)\" d=\"M169.672 644.713 L177.311 644.713 L177.311 618.347 L169.001 620.014 L169.001 615.754 L177.265 614.088 L181.94 614.088 L181.94 644.713 L189.579 644.713 L189.579 648.648 L169.672 648.648 L169.672 644.713 Z\" fill=\"#000000\" fill-rule=\"evenodd\" fill-opacity=\"1\" /><path clip-path=\"url(#clip820)\" d=\"M209.024 617.166 Q205.413 617.166 203.584 620.731 Q201.778 624.273 201.778 631.403 Q201.778 638.509 203.584 642.074 Q205.413 645.615 209.024 645.615 Q212.658 645.615 214.463 642.074 Q216.292 638.509 216.292 631.403 Q216.292 624.273 214.463 620.731 Q212.658 617.166 209.024 617.166 M209.024 613.463 Q214.834 613.463 217.889 618.069 Q220.968 622.653 220.968 631.403 Q220.968 640.129 217.889 644.736 Q214.834 649.319 209.024 649.319 Q203.214 649.319 200.135 644.736 Q197.079 640.129 197.079 631.403 Q197.079 622.653 200.135 618.069 Q203.214 613.463 209.024 613.463 Z\" fill=\"#000000\" fill-rule=\"evenodd\" fill-opacity=\"1\" /><path clip-path=\"url(#clip820)\" d=\"M233.645 596.468 L224.053 611.457 L233.645 611.457 L233.645 596.468 M232.648 593.157 L237.425 593.157 L237.425 611.457 L241.431 611.457 L241.431 614.617 L237.425 614.617 L237.425 621.237 L233.645 621.237 L233.645 614.617 L220.968 614.617 L220.968 610.95 L232.648 593.157 Z\" fill=\"#000000\" fill-rule=\"evenodd\" fill-opacity=\"1\" /><path clip-path=\"url(#clip820)\" d=\"M53.793 408.889 L72.1494 408.889 L72.1494 412.824 L58.0754 412.824 L58.0754 421.296 Q59.0939 420.949 60.1124 420.787 Q61.131 420.602 62.1495 420.602 Q67.9365 420.602 71.3161 423.773 Q74.6957 426.944 74.6957 432.361 Q74.6957 437.94 71.2235 441.042 Q67.7513 444.12 61.4319 444.12 Q59.256 444.12 56.9875 443.75 Q54.7421 443.379 52.3347 442.639 L52.3347 437.94 Q54.418 439.074 56.6402 439.629 Q58.8625 440.185 61.3393 440.185 Q65.3439 440.185 67.6819 438.079 Q70.0198 435.972 70.0198 432.361 Q70.0198 428.75 67.6819 426.643 Q65.3439 424.537 61.3393 424.537 Q59.4643 424.537 57.5893 424.954 Q55.7375 425.37 53.793 426.25 L53.793 408.889 Z\" fill=\"#000000\" fill-rule=\"evenodd\" fill-opacity=\"1\" /><path clip-path=\"url(#clip820)\" d=\"M83.9086 437.569 L88.7928 437.569 L88.7928 443.449 L83.9086 443.449 L83.9086 437.569 Z\" fill=\"#000000\" fill-rule=\"evenodd\" fill-opacity=\"1\" /><path clip-path=\"url(#clip820)\" d=\"M108.978 411.968 Q105.367 411.968 103.538 415.532 Q101.733 419.074 101.733 426.204 Q101.733 433.31 103.538 436.875 Q105.367 440.417 108.978 440.417 Q112.612 440.417 114.418 436.875 Q116.246 433.31 116.246 426.204 Q116.246 419.074 114.418 415.532 Q112.612 411.968 108.978 411.968 M108.978 408.264 Q114.788 408.264 117.844 412.87 Q120.922 417.454 120.922 426.204 Q120.922 434.93 117.844 439.537 Q114.788 444.12 108.978 444.12 Q103.168 444.12 100.089 439.537 Q97.0335 434.93 97.0335 426.204 Q97.0335 417.454 100.089 412.87 Q103.168 408.264 108.978 408.264 Z\" fill=\"#000000\" fill-rule=\"evenodd\" fill-opacity=\"1\" /><path clip-path=\"url(#clip820)\" d=\"M157.311 417.986 L146.732 428.611 L157.311 439.19 L154.556 441.991 L143.931 431.366 L133.306 441.991 L130.575 439.19 L141.131 428.611 L130.575 417.986 L133.306 415.185 L143.931 425.81 L154.556 415.185 L157.311 417.986 Z\" fill=\"#000000\" fill-rule=\"evenodd\" fill-opacity=\"1\" /><path clip-path=\"url(#clip820)\" d=\"M169.672 439.514 L177.311 439.514 L177.311 413.148 L169.001 414.815 L169.001 410.556 L177.265 408.889 L181.94 408.889 L181.94 439.514 L189.579 439.514 L189.579 443.449 L169.672 443.449 L169.672 439.514 Z\" fill=\"#000000\" fill-rule=\"evenodd\" fill-opacity=\"1\" /><path clip-path=\"url(#clip820)\" d=\"M209.024 411.968 Q205.413 411.968 203.584 415.532 Q201.778 419.074 201.778 426.204 Q201.778 433.31 203.584 436.875 Q205.413 440.417 209.024 440.417 Q212.658 440.417 214.463 436.875 Q216.292 433.31 216.292 426.204 Q216.292 419.074 214.463 415.532 Q212.658 411.968 209.024 411.968 M209.024 408.264 Q214.834 408.264 217.889 412.87 Q220.968 417.454 220.968 426.204 Q220.968 434.93 217.889 439.537 Q214.834 444.12 209.024 444.12 Q203.214 444.12 200.135 439.537 Q197.079 434.93 197.079 426.204 Q197.079 417.454 200.135 412.87 Q203.214 408.264 209.024 408.264 Z\" fill=\"#000000\" fill-rule=\"evenodd\" fill-opacity=\"1\" /><path clip-path=\"url(#clip820)\" d=\"M233.645 391.269 L224.053 406.258 L233.645 406.258 L233.645 391.269 M232.648 387.959 L237.425 387.959 L237.425 406.258 L241.431 406.258 L241.431 409.418 L237.425 409.418 L237.425 416.039 L233.645 416.039 L233.645 409.418 L220.968 409.418 L220.968 405.751 L232.648 387.959 Z\" fill=\"#000000\" fill-rule=\"evenodd\" fill-opacity=\"1\" /><path clip-path=\"url(#clip820)\" d=\"M64.3254 219.107 Q61.1773 219.107 59.3254 221.259 Q57.4967 223.412 57.4967 227.162 Q57.4967 230.889 59.3254 233.065 Q61.1773 235.218 64.3254 235.218 Q67.4735 235.218 69.3022 233.065 Q71.1541 230.889 71.1541 227.162 Q71.1541 223.412 69.3022 221.259 Q67.4735 219.107 64.3254 219.107 M73.6077 204.454 L73.6077 208.713 Q71.8485 207.88 70.0429 207.44 Q68.2606 207 66.5013 207 Q61.8717 207 59.418 210.125 Q56.9875 213.25 56.6402 219.57 Q58.006 217.556 60.0662 216.491 Q62.1263 215.403 64.6032 215.403 Q69.8115 215.403 72.8207 218.574 Q75.8531 221.722 75.8531 227.162 Q75.8531 232.486 72.705 235.704 Q69.5568 238.921 64.3254 238.921 Q58.33 238.921 55.1588 234.338 Q51.9875 229.732 51.9875 221.005 Q51.9875 212.81 55.8764 207.949 Q59.7652 203.065 66.3161 203.065 Q68.0754 203.065 69.8578 203.412 Q71.6633 203.759 73.6077 204.454 Z\" fill=\"#000000\" fill-rule=\"evenodd\" fill-opacity=\"1\" /><path clip-path=\"url(#clip820)\" d=\"M83.9086 232.37 L88.7928 232.37 L88.7928 238.25 L83.9086 238.25 L83.9086 232.37 Z\" fill=\"#000000\" fill-rule=\"evenodd\" fill-opacity=\"1\" /><path clip-path=\"url(#clip820)\" d=\"M108.978 206.769 Q105.367 206.769 103.538 210.334 Q101.733 213.875 101.733 221.005 Q101.733 228.111 103.538 231.676 Q105.367 235.218 108.978 235.218 Q112.612 235.218 114.418 231.676 Q116.246 228.111 116.246 221.005 Q116.246 213.875 114.418 210.334 Q112.612 206.769 108.978 206.769 M108.978 203.065 Q114.788 203.065 117.844 207.671 Q120.922 212.255 120.922 221.005 Q120.922 229.732 117.844 234.338 Q114.788 238.921 108.978 238.921 Q103.168 238.921 100.089 234.338 Q97.0335 229.732 97.0335 221.005 Q97.0335 212.255 100.089 207.671 Q103.168 203.065 108.978 203.065 Z\" fill=\"#000000\" fill-rule=\"evenodd\" fill-opacity=\"1\" /><path clip-path=\"url(#clip820)\" d=\"M157.311 212.787 L146.732 223.412 L157.311 233.991 L154.556 236.792 L143.931 226.167 L133.306 236.792 L130.575 233.991 L141.131 223.412 L130.575 212.787 L133.306 209.986 L143.931 220.611 L154.556 209.986 L157.311 212.787 Z\" fill=\"#000000\" fill-rule=\"evenodd\" fill-opacity=\"1\" /><path clip-path=\"url(#clip820)\" d=\"M169.672 234.315 L177.311 234.315 L177.311 207.949 L169.001 209.616 L169.001 205.357 L177.265 203.69 L181.94 203.69 L181.94 234.315 L189.579 234.315 L189.579 238.25 L169.672 238.25 L169.672 234.315 Z\" fill=\"#000000\" fill-rule=\"evenodd\" fill-opacity=\"1\" /><path clip-path=\"url(#clip820)\" d=\"M209.024 206.769 Q205.413 206.769 203.584 210.334 Q201.778 213.875 201.778 221.005 Q201.778 228.111 203.584 231.676 Q205.413 235.218 209.024 235.218 Q212.658 235.218 214.463 231.676 Q216.292 228.111 216.292 221.005 Q216.292 213.875 214.463 210.334 Q212.658 206.769 209.024 206.769 M209.024 203.065 Q214.834 203.065 217.889 207.671 Q220.968 212.255 220.968 221.005 Q220.968 229.732 217.889 234.338 Q214.834 238.921 209.024 238.921 Q203.214 238.921 200.135 234.338 Q197.079 229.732 197.079 221.005 Q197.079 212.255 200.135 207.671 Q203.214 203.065 209.024 203.065 Z\" fill=\"#000000\" fill-rule=\"evenodd\" fill-opacity=\"1\" /><path clip-path=\"url(#clip820)\" d=\"M233.645 186.07 L224.053 201.06 L233.645 201.06 L233.645 186.07 M232.648 182.76 L237.425 182.76 L237.425 201.06 L241.431 201.06 L241.431 204.219 L237.425 204.219 L237.425 210.84 L233.645 210.84 L233.645 204.219 L220.968 204.219 L220.968 200.552 L232.648 182.76 Z\" fill=\"#000000\" fill-rule=\"evenodd\" fill-opacity=\"1\" /><path clip-path=\"url(#clip822)\" d=\"\n",
       "M391.577 1428.44 L391.577 1445.72 L410.048 1445.72 L410.048 1428.44 L391.577 1428.44 L391.577 1428.44  Z\n",
       "  \" fill=\"#009af9\" fill-rule=\"evenodd\" fill-opacity=\"1\"/>\n",
       "<polyline clip-path=\"url(#clip822)\" style=\"stroke:#000000; stroke-linecap:round; stroke-linejoin:round; stroke-width:4; stroke-opacity:1; fill:none\" points=\"\n",
       "  391.577,1428.44 391.577,1445.72 410.048,1445.72 410.048,1428.44 391.577,1428.44 \n",
       "  \"/>\n",
       "<path clip-path=\"url(#clip822)\" d=\"\n",
       "M410.048 1445.06 L410.048 1445.72 L428.518 1445.72 L428.518 1445.06 L410.048 1445.06 L410.048 1445.06  Z\n",
       "  \" fill=\"#009af9\" fill-rule=\"evenodd\" fill-opacity=\"1\"/>\n",
       "<polyline clip-path=\"url(#clip822)\" style=\"stroke:#000000; stroke-linecap:round; stroke-linejoin:round; stroke-width:4; stroke-opacity:1; fill:none\" points=\"\n",
       "  410.048,1445.06 410.048,1445.72 428.518,1445.72 428.518,1445.06 410.048,1445.06 \n",
       "  \"/>\n",
       "<path clip-path=\"url(#clip822)\" d=\"\n",
       "M428.518 1444.79 L428.518 1445.72 L446.988 1445.72 L446.988 1444.79 L428.518 1444.79 L428.518 1444.79  Z\n",
       "  \" fill=\"#009af9\" fill-rule=\"evenodd\" fill-opacity=\"1\"/>\n",
       "<polyline clip-path=\"url(#clip822)\" style=\"stroke:#000000; stroke-linecap:round; stroke-linejoin:round; stroke-width:4; stroke-opacity:1; fill:none\" points=\"\n",
       "  428.518,1444.79 428.518,1445.72 446.988,1445.72 446.988,1444.79 428.518,1444.79 \n",
       "  \"/>\n",
       "<path clip-path=\"url(#clip822)\" d=\"\n",
       "M446.988 1444.81 L446.988 1445.72 L465.459 1445.72 L465.459 1444.81 L446.988 1444.81 L446.988 1444.81  Z\n",
       "  \" fill=\"#009af9\" fill-rule=\"evenodd\" fill-opacity=\"1\"/>\n",
       "<polyline clip-path=\"url(#clip822)\" style=\"stroke:#000000; stroke-linecap:round; stroke-linejoin:round; stroke-width:4; stroke-opacity:1; fill:none\" points=\"\n",
       "  446.988,1444.81 446.988,1445.72 465.459,1445.72 465.459,1444.81 446.988,1444.81 \n",
       "  \"/>\n",
       "<path clip-path=\"url(#clip822)\" d=\"\n",
       "M465.459 1444.81 L465.459 1445.72 L483.929 1445.72 L483.929 1444.81 L465.459 1444.81 L465.459 1444.81  Z\n",
       "  \" fill=\"#009af9\" fill-rule=\"evenodd\" fill-opacity=\"1\"/>\n",
       "<polyline clip-path=\"url(#clip822)\" style=\"stroke:#000000; stroke-linecap:round; stroke-linejoin:round; stroke-width:4; stroke-opacity:1; fill:none\" points=\"\n",
       "  465.459,1444.81 465.459,1445.72 483.929,1445.72 483.929,1444.81 465.459,1444.81 \n",
       "  \"/>\n",
       "<path clip-path=\"url(#clip822)\" d=\"\n",
       "M483.929 1445.1 L483.929 1445.72 L502.399 1445.72 L502.399 1445.1 L483.929 1445.1 L483.929 1445.1  Z\n",
       "  \" fill=\"#009af9\" fill-rule=\"evenodd\" fill-opacity=\"1\"/>\n",
       "<polyline clip-path=\"url(#clip822)\" style=\"stroke:#000000; stroke-linecap:round; stroke-linejoin:round; stroke-width:4; stroke-opacity:1; fill:none\" points=\"\n",
       "  483.929,1445.1 483.929,1445.72 502.399,1445.72 502.399,1445.1 483.929,1445.1 \n",
       "  \"/>\n",
       "<path clip-path=\"url(#clip822)\" d=\"\n",
       "M502.399 1444.53 L502.399 1445.72 L520.87 1445.72 L520.87 1444.53 L502.399 1444.53 L502.399 1444.53  Z\n",
       "  \" fill=\"#009af9\" fill-rule=\"evenodd\" fill-opacity=\"1\"/>\n",
       "<polyline clip-path=\"url(#clip822)\" style=\"stroke:#000000; stroke-linecap:round; stroke-linejoin:round; stroke-width:4; stroke-opacity:1; fill:none\" points=\"\n",
       "  502.399,1444.53 502.399,1445.72 520.87,1445.72 520.87,1444.53 502.399,1444.53 \n",
       "  \"/>\n",
       "<path clip-path=\"url(#clip822)\" d=\"\n",
       "M520.87 1444.83 L520.87 1445.72 L539.34 1445.72 L539.34 1444.83 L520.87 1444.83 L520.87 1444.83  Z\n",
       "  \" fill=\"#009af9\" fill-rule=\"evenodd\" fill-opacity=\"1\"/>\n",
       "<polyline clip-path=\"url(#clip822)\" style=\"stroke:#000000; stroke-linecap:round; stroke-linejoin:round; stroke-width:4; stroke-opacity:1; fill:none\" points=\"\n",
       "  520.87,1444.83 520.87,1445.72 539.34,1445.72 539.34,1444.83 520.87,1444.83 \n",
       "  \"/>\n",
       "<path clip-path=\"url(#clip822)\" d=\"\n",
       "M539.34 1445.04 L539.34 1445.72 L557.81 1445.72 L557.81 1445.04 L539.34 1445.04 L539.34 1445.04  Z\n",
       "  \" fill=\"#009af9\" fill-rule=\"evenodd\" fill-opacity=\"1\"/>\n",
       "<polyline clip-path=\"url(#clip822)\" style=\"stroke:#000000; stroke-linecap:round; stroke-linejoin:round; stroke-width:4; stroke-opacity:1; fill:none\" points=\"\n",
       "  539.34,1445.04 539.34,1445.72 557.81,1445.72 557.81,1445.04 539.34,1445.04 \n",
       "  \"/>\n",
       "<path clip-path=\"url(#clip822)\" d=\"\n",
       "M557.81 1444.94 L557.81 1445.72 L576.281 1445.72 L576.281 1444.94 L557.81 1444.94 L557.81 1444.94  Z\n",
       "  \" fill=\"#009af9\" fill-rule=\"evenodd\" fill-opacity=\"1\"/>\n",
       "<polyline clip-path=\"url(#clip822)\" style=\"stroke:#000000; stroke-linecap:round; stroke-linejoin:round; stroke-width:4; stroke-opacity:1; fill:none\" points=\"\n",
       "  557.81,1444.94 557.81,1445.72 576.281,1445.72 576.281,1444.94 557.81,1444.94 \n",
       "  \"/>\n",
       "<path clip-path=\"url(#clip822)\" d=\"\n",
       "M576.281 1445.06 L576.281 1445.72 L594.751 1445.72 L594.751 1445.06 L576.281 1445.06 L576.281 1445.06  Z\n",
       "  \" fill=\"#009af9\" fill-rule=\"evenodd\" fill-opacity=\"1\"/>\n",
       "<polyline clip-path=\"url(#clip822)\" style=\"stroke:#000000; stroke-linecap:round; stroke-linejoin:round; stroke-width:4; stroke-opacity:1; fill:none\" points=\"\n",
       "  576.281,1445.06 576.281,1445.72 594.751,1445.72 594.751,1445.06 576.281,1445.06 \n",
       "  \"/>\n",
       "<path clip-path=\"url(#clip822)\" d=\"\n",
       "M594.751 1444.53 L594.751 1445.72 L613.221 1445.72 L613.221 1444.53 L594.751 1444.53 L594.751 1444.53  Z\n",
       "  \" fill=\"#009af9\" fill-rule=\"evenodd\" fill-opacity=\"1\"/>\n",
       "<polyline clip-path=\"url(#clip822)\" style=\"stroke:#000000; stroke-linecap:round; stroke-linejoin:round; stroke-width:4; stroke-opacity:1; fill:none\" points=\"\n",
       "  594.751,1444.53 594.751,1445.72 613.221,1445.72 613.221,1444.53 594.751,1444.53 \n",
       "  \"/>\n",
       "<path clip-path=\"url(#clip822)\" d=\"\n",
       "M613.221 1444.69 L613.221 1445.72 L631.692 1445.72 L631.692 1444.69 L613.221 1444.69 L613.221 1444.69  Z\n",
       "  \" fill=\"#009af9\" fill-rule=\"evenodd\" fill-opacity=\"1\"/>\n",
       "<polyline clip-path=\"url(#clip822)\" style=\"stroke:#000000; stroke-linecap:round; stroke-linejoin:round; stroke-width:4; stroke-opacity:1; fill:none\" points=\"\n",
       "  613.221,1444.69 613.221,1445.72 631.692,1445.72 631.692,1444.69 613.221,1444.69 \n",
       "  \"/>\n",
       "<path clip-path=\"url(#clip822)\" d=\"\n",
       "M631.692 1444.42 L631.692 1445.72 L650.162 1445.72 L650.162 1444.42 L631.692 1444.42 L631.692 1444.42  Z\n",
       "  \" fill=\"#009af9\" fill-rule=\"evenodd\" fill-opacity=\"1\"/>\n",
       "<polyline clip-path=\"url(#clip822)\" style=\"stroke:#000000; stroke-linecap:round; stroke-linejoin:round; stroke-width:4; stroke-opacity:1; fill:none\" points=\"\n",
       "  631.692,1444.42 631.692,1445.72 650.162,1445.72 650.162,1444.42 631.692,1444.42 \n",
       "  \"/>\n",
       "<path clip-path=\"url(#clip822)\" d=\"\n",
       "M650.162 1444.94 L650.162 1445.72 L668.632 1445.72 L668.632 1444.94 L650.162 1444.94 L650.162 1444.94  Z\n",
       "  \" fill=\"#009af9\" fill-rule=\"evenodd\" fill-opacity=\"1\"/>\n",
       "<polyline clip-path=\"url(#clip822)\" style=\"stroke:#000000; stroke-linecap:round; stroke-linejoin:round; stroke-width:4; stroke-opacity:1; fill:none\" points=\"\n",
       "  650.162,1444.94 650.162,1445.72 668.632,1445.72 668.632,1444.94 650.162,1444.94 \n",
       "  \"/>\n",
       "<path clip-path=\"url(#clip822)\" d=\"\n",
       "M668.632 1444.65 L668.632 1445.72 L687.103 1445.72 L687.103 1444.65 L668.632 1444.65 L668.632 1444.65  Z\n",
       "  \" fill=\"#009af9\" fill-rule=\"evenodd\" fill-opacity=\"1\"/>\n",
       "<polyline clip-path=\"url(#clip822)\" style=\"stroke:#000000; stroke-linecap:round; stroke-linejoin:round; stroke-width:4; stroke-opacity:1; fill:none\" points=\"\n",
       "  668.632,1444.65 668.632,1445.72 687.103,1445.72 687.103,1444.65 668.632,1444.65 \n",
       "  \"/>\n",
       "<path clip-path=\"url(#clip822)\" d=\"\n",
       "M687.103 1444.67 L687.103 1445.72 L705.573 1445.72 L705.573 1444.67 L687.103 1444.67 L687.103 1444.67  Z\n",
       "  \" fill=\"#009af9\" fill-rule=\"evenodd\" fill-opacity=\"1\"/>\n",
       "<polyline clip-path=\"url(#clip822)\" style=\"stroke:#000000; stroke-linecap:round; stroke-linejoin:round; stroke-width:4; stroke-opacity:1; fill:none\" points=\"\n",
       "  687.103,1444.67 687.103,1445.72 705.573,1445.72 705.573,1444.67 687.103,1444.67 \n",
       "  \"/>\n",
       "<path clip-path=\"url(#clip822)\" d=\"\n",
       "M705.573 1444.26 L705.573 1445.72 L724.043 1445.72 L724.043 1444.26 L705.573 1444.26 L705.573 1444.26  Z\n",
       "  \" fill=\"#009af9\" fill-rule=\"evenodd\" fill-opacity=\"1\"/>\n",
       "<polyline clip-path=\"url(#clip822)\" style=\"stroke:#000000; stroke-linecap:round; stroke-linejoin:round; stroke-width:4; stroke-opacity:1; fill:none\" points=\"\n",
       "  705.573,1444.26 705.573,1445.72 724.043,1445.72 724.043,1444.26 705.573,1444.26 \n",
       "  \"/>\n",
       "<path clip-path=\"url(#clip822)\" d=\"\n",
       "M724.043 1444.28 L724.043 1445.72 L742.514 1445.72 L742.514 1444.28 L724.043 1444.28 L724.043 1444.28  Z\n",
       "  \" fill=\"#009af9\" fill-rule=\"evenodd\" fill-opacity=\"1\"/>\n",
       "<polyline clip-path=\"url(#clip822)\" style=\"stroke:#000000; stroke-linecap:round; stroke-linejoin:round; stroke-width:4; stroke-opacity:1; fill:none\" points=\"\n",
       "  724.043,1444.28 724.043,1445.72 742.514,1445.72 742.514,1444.28 724.043,1444.28 \n",
       "  \"/>\n",
       "<path clip-path=\"url(#clip822)\" d=\"\n",
       "M742.514 1444.2 L742.514 1445.72 L760.984 1445.72 L760.984 1444.2 L742.514 1444.2 L742.514 1444.2  Z\n",
       "  \" fill=\"#009af9\" fill-rule=\"evenodd\" fill-opacity=\"1\"/>\n",
       "<polyline clip-path=\"url(#clip822)\" style=\"stroke:#000000; stroke-linecap:round; stroke-linejoin:round; stroke-width:4; stroke-opacity:1; fill:none\" points=\"\n",
       "  742.514,1444.2 742.514,1445.72 760.984,1445.72 760.984,1444.2 742.514,1444.2 \n",
       "  \"/>\n",
       "<path clip-path=\"url(#clip822)\" d=\"\n",
       "M760.984 1444.65 L760.984 1445.72 L779.454 1445.72 L779.454 1444.65 L760.984 1444.65 L760.984 1444.65  Z\n",
       "  \" fill=\"#009af9\" fill-rule=\"evenodd\" fill-opacity=\"1\"/>\n",
       "<polyline clip-path=\"url(#clip822)\" style=\"stroke:#000000; stroke-linecap:round; stroke-linejoin:round; stroke-width:4; stroke-opacity:1; fill:none\" points=\"\n",
       "  760.984,1444.65 760.984,1445.72 779.454,1445.72 779.454,1444.65 760.984,1444.65 \n",
       "  \"/>\n",
       "<path clip-path=\"url(#clip822)\" d=\"\n",
       "M779.454 1444.83 L779.454 1445.72 L797.924 1445.72 L797.924 1444.83 L779.454 1444.83 L779.454 1444.83  Z\n",
       "  \" fill=\"#009af9\" fill-rule=\"evenodd\" fill-opacity=\"1\"/>\n",
       "<polyline clip-path=\"url(#clip822)\" style=\"stroke:#000000; stroke-linecap:round; stroke-linejoin:round; stroke-width:4; stroke-opacity:1; fill:none\" points=\"\n",
       "  779.454,1444.83 779.454,1445.72 797.924,1445.72 797.924,1444.83 779.454,1444.83 \n",
       "  \"/>\n",
       "<path clip-path=\"url(#clip822)\" d=\"\n",
       "M797.924 1443.81 L797.924 1445.72 L816.395 1445.72 L816.395 1443.81 L797.924 1443.81 L797.924 1443.81  Z\n",
       "  \" fill=\"#009af9\" fill-rule=\"evenodd\" fill-opacity=\"1\"/>\n",
       "<polyline clip-path=\"url(#clip822)\" style=\"stroke:#000000; stroke-linecap:round; stroke-linejoin:round; stroke-width:4; stroke-opacity:1; fill:none\" points=\"\n",
       "  797.924,1443.81 797.924,1445.72 816.395,1445.72 816.395,1443.81 797.924,1443.81 \n",
       "  \"/>\n",
       "<path clip-path=\"url(#clip822)\" d=\"\n",
       "M816.395 1444.2 L816.395 1445.72 L834.865 1445.72 L834.865 1444.2 L816.395 1444.2 L816.395 1444.2  Z\n",
       "  \" fill=\"#009af9\" fill-rule=\"evenodd\" fill-opacity=\"1\"/>\n",
       "<polyline clip-path=\"url(#clip822)\" style=\"stroke:#000000; stroke-linecap:round; stroke-linejoin:round; stroke-width:4; stroke-opacity:1; fill:none\" points=\"\n",
       "  816.395,1444.2 816.395,1445.72 834.865,1445.72 834.865,1444.2 816.395,1444.2 \n",
       "  \"/>\n",
       "<path clip-path=\"url(#clip822)\" d=\"\n",
       "M834.865 1443.89 L834.865 1445.72 L853.335 1445.72 L853.335 1443.89 L834.865 1443.89 L834.865 1443.89  Z\n",
       "  \" fill=\"#009af9\" fill-rule=\"evenodd\" fill-opacity=\"1\"/>\n",
       "<polyline clip-path=\"url(#clip822)\" style=\"stroke:#000000; stroke-linecap:round; stroke-linejoin:round; stroke-width:4; stroke-opacity:1; fill:none\" points=\"\n",
       "  834.865,1443.89 834.865,1445.72 853.335,1445.72 853.335,1443.89 834.865,1443.89 \n",
       "  \"/>\n",
       "<path clip-path=\"url(#clip822)\" d=\"\n",
       "M853.335 1443.25 L853.335 1445.72 L871.806 1445.72 L871.806 1443.25 L853.335 1443.25 L853.335 1443.25  Z\n",
       "  \" fill=\"#009af9\" fill-rule=\"evenodd\" fill-opacity=\"1\"/>\n",
       "<polyline clip-path=\"url(#clip822)\" style=\"stroke:#000000; stroke-linecap:round; stroke-linejoin:round; stroke-width:4; stroke-opacity:1; fill:none\" points=\"\n",
       "  853.335,1443.25 853.335,1445.72 871.806,1445.72 871.806,1443.25 853.335,1443.25 \n",
       "  \"/>\n",
       "<path clip-path=\"url(#clip822)\" d=\"\n",
       "M871.806 1443.62 L871.806 1445.72 L890.276 1445.72 L890.276 1443.62 L871.806 1443.62 L871.806 1443.62  Z\n",
       "  \" fill=\"#009af9\" fill-rule=\"evenodd\" fill-opacity=\"1\"/>\n",
       "<polyline clip-path=\"url(#clip822)\" style=\"stroke:#000000; stroke-linecap:round; stroke-linejoin:round; stroke-width:4; stroke-opacity:1; fill:none\" points=\"\n",
       "  871.806,1443.62 871.806,1445.72 890.276,1445.72 890.276,1443.62 871.806,1443.62 \n",
       "  \"/>\n",
       "<path clip-path=\"url(#clip822)\" d=\"\n",
       "M890.276 1443.62 L890.276 1445.72 L908.746 1445.72 L908.746 1443.62 L890.276 1443.62 L890.276 1443.62  Z\n",
       "  \" fill=\"#009af9\" fill-rule=\"evenodd\" fill-opacity=\"1\"/>\n",
       "<polyline clip-path=\"url(#clip822)\" style=\"stroke:#000000; stroke-linecap:round; stroke-linejoin:round; stroke-width:4; stroke-opacity:1; fill:none\" points=\"\n",
       "  890.276,1443.62 890.276,1445.72 908.746,1445.72 908.746,1443.62 890.276,1443.62 \n",
       "  \"/>\n",
       "<path clip-path=\"url(#clip822)\" d=\"\n",
       "M908.746 1443.44 L908.746 1445.72 L927.217 1445.72 L927.217 1443.44 L908.746 1443.44 L908.746 1443.44  Z\n",
       "  \" fill=\"#009af9\" fill-rule=\"evenodd\" fill-opacity=\"1\"/>\n",
       "<polyline clip-path=\"url(#clip822)\" style=\"stroke:#000000; stroke-linecap:round; stroke-linejoin:round; stroke-width:4; stroke-opacity:1; fill:none\" points=\"\n",
       "  908.746,1443.44 908.746,1445.72 927.217,1445.72 927.217,1443.44 908.746,1443.44 \n",
       "  \"/>\n",
       "<path clip-path=\"url(#clip822)\" d=\"\n",
       "M927.217 1442.97 L927.217 1445.72 L945.687 1445.72 L945.687 1442.97 L927.217 1442.97 L927.217 1442.97  Z\n",
       "  \" fill=\"#009af9\" fill-rule=\"evenodd\" fill-opacity=\"1\"/>\n",
       "<polyline clip-path=\"url(#clip822)\" style=\"stroke:#000000; stroke-linecap:round; stroke-linejoin:round; stroke-width:4; stroke-opacity:1; fill:none\" points=\"\n",
       "  927.217,1442.97 927.217,1445.72 945.687,1445.72 945.687,1442.97 927.217,1442.97 \n",
       "  \"/>\n",
       "<path clip-path=\"url(#clip822)\" d=\"\n",
       "M945.687 1442.39 L945.687 1445.72 L964.157 1445.72 L964.157 1442.39 L945.687 1442.39 L945.687 1442.39  Z\n",
       "  \" fill=\"#009af9\" fill-rule=\"evenodd\" fill-opacity=\"1\"/>\n",
       "<polyline clip-path=\"url(#clip822)\" style=\"stroke:#000000; stroke-linecap:round; stroke-linejoin:round; stroke-width:4; stroke-opacity:1; fill:none\" points=\"\n",
       "  945.687,1442.39 945.687,1445.72 964.157,1445.72 964.157,1442.39 945.687,1442.39 \n",
       "  \"/>\n",
       "<path clip-path=\"url(#clip822)\" d=\"\n",
       "M964.157 1442.9 L964.157 1445.72 L982.628 1445.72 L982.628 1442.9 L964.157 1442.9 L964.157 1442.9  Z\n",
       "  \" fill=\"#009af9\" fill-rule=\"evenodd\" fill-opacity=\"1\"/>\n",
       "<polyline clip-path=\"url(#clip822)\" style=\"stroke:#000000; stroke-linecap:round; stroke-linejoin:round; stroke-width:4; stroke-opacity:1; fill:none\" points=\"\n",
       "  964.157,1442.9 964.157,1445.72 982.628,1445.72 982.628,1442.9 964.157,1442.9 \n",
       "  \"/>\n",
       "<path clip-path=\"url(#clip822)\" d=\"\n",
       "M982.628 1442.1 L982.628 1445.72 L1001.1 1445.72 L1001.1 1442.1 L982.628 1442.1 L982.628 1442.1  Z\n",
       "  \" fill=\"#009af9\" fill-rule=\"evenodd\" fill-opacity=\"1\"/>\n",
       "<polyline clip-path=\"url(#clip822)\" style=\"stroke:#000000; stroke-linecap:round; stroke-linejoin:round; stroke-width:4; stroke-opacity:1; fill:none\" points=\"\n",
       "  982.628,1442.1 982.628,1445.72 1001.1,1445.72 1001.1,1442.1 982.628,1442.1 \n",
       "  \"/>\n",
       "<path clip-path=\"url(#clip822)\" d=\"\n",
       "M1001.1 1442.56 L1001.1 1445.72 L1019.57 1445.72 L1019.57 1442.56 L1001.1 1442.56 L1001.1 1442.56  Z\n",
       "  \" fill=\"#009af9\" fill-rule=\"evenodd\" fill-opacity=\"1\"/>\n",
       "<polyline clip-path=\"url(#clip822)\" style=\"stroke:#000000; stroke-linecap:round; stroke-linejoin:round; stroke-width:4; stroke-opacity:1; fill:none\" points=\"\n",
       "  1001.1,1442.56 1001.1,1445.72 1019.57,1445.72 1019.57,1442.56 1001.1,1442.56 \n",
       "  \"/>\n",
       "<path clip-path=\"url(#clip822)\" d=\"\n",
       "M1019.57 1443.42 L1019.57 1445.72 L1038.04 1445.72 L1038.04 1443.42 L1019.57 1443.42 L1019.57 1443.42  Z\n",
       "  \" fill=\"#009af9\" fill-rule=\"evenodd\" fill-opacity=\"1\"/>\n",
       "<polyline clip-path=\"url(#clip822)\" style=\"stroke:#000000; stroke-linecap:round; stroke-linejoin:round; stroke-width:4; stroke-opacity:1; fill:none\" points=\"\n",
       "  1019.57,1443.42 1019.57,1445.72 1038.04,1445.72 1038.04,1443.42 1019.57,1443.42 \n",
       "  \"/>\n",
       "<path clip-path=\"url(#clip822)\" d=\"\n",
       "M1038.04 1441.69 L1038.04 1445.72 L1056.51 1445.72 L1056.51 1441.69 L1038.04 1441.69 L1038.04 1441.69  Z\n",
       "  \" fill=\"#009af9\" fill-rule=\"evenodd\" fill-opacity=\"1\"/>\n",
       "<polyline clip-path=\"url(#clip822)\" style=\"stroke:#000000; stroke-linecap:round; stroke-linejoin:round; stroke-width:4; stroke-opacity:1; fill:none\" points=\"\n",
       "  1038.04,1441.69 1038.04,1445.72 1056.51,1445.72 1056.51,1441.69 1038.04,1441.69 \n",
       "  \"/>\n",
       "<path clip-path=\"url(#clip822)\" d=\"\n",
       "M1056.51 1442.33 L1056.51 1445.72 L1074.98 1445.72 L1074.98 1442.33 L1056.51 1442.33 L1056.51 1442.33  Z\n",
       "  \" fill=\"#009af9\" fill-rule=\"evenodd\" fill-opacity=\"1\"/>\n",
       "<polyline clip-path=\"url(#clip822)\" style=\"stroke:#000000; stroke-linecap:round; stroke-linejoin:round; stroke-width:4; stroke-opacity:1; fill:none\" points=\"\n",
       "  1056.51,1442.33 1056.51,1445.72 1074.98,1445.72 1074.98,1442.33 1056.51,1442.33 \n",
       "  \"/>\n",
       "<path clip-path=\"url(#clip822)\" d=\"\n",
       "M1074.98 1441.73 L1074.98 1445.72 L1093.45 1445.72 L1093.45 1441.73 L1074.98 1441.73 L1074.98 1441.73  Z\n",
       "  \" fill=\"#009af9\" fill-rule=\"evenodd\" fill-opacity=\"1\"/>\n",
       "<polyline clip-path=\"url(#clip822)\" style=\"stroke:#000000; stroke-linecap:round; stroke-linejoin:round; stroke-width:4; stroke-opacity:1; fill:none\" points=\"\n",
       "  1074.98,1441.73 1074.98,1445.72 1093.45,1445.72 1093.45,1441.73 1074.98,1441.73 \n",
       "  \"/>\n",
       "<path clip-path=\"url(#clip822)\" d=\"\n",
       "M1093.45 1440.75 L1093.45 1445.72 L1111.92 1445.72 L1111.92 1440.75 L1093.45 1440.75 L1093.45 1440.75  Z\n",
       "  \" fill=\"#009af9\" fill-rule=\"evenodd\" fill-opacity=\"1\"/>\n",
       "<polyline clip-path=\"url(#clip822)\" style=\"stroke:#000000; stroke-linecap:round; stroke-linejoin:round; stroke-width:4; stroke-opacity:1; fill:none\" points=\"\n",
       "  1093.45,1440.75 1093.45,1445.72 1111.92,1445.72 1111.92,1440.75 1093.45,1440.75 \n",
       "  \"/>\n",
       "<path clip-path=\"url(#clip822)\" d=\"\n",
       "M1111.92 1441 L1111.92 1445.72 L1130.39 1445.72 L1130.39 1441 L1111.92 1441 L1111.92 1441  Z\n",
       "  \" fill=\"#009af9\" fill-rule=\"evenodd\" fill-opacity=\"1\"/>\n",
       "<polyline clip-path=\"url(#clip822)\" style=\"stroke:#000000; stroke-linecap:round; stroke-linejoin:round; stroke-width:4; stroke-opacity:1; fill:none\" points=\"\n",
       "  1111.92,1441 1111.92,1445.72 1130.39,1445.72 1130.39,1441 1111.92,1441 \n",
       "  \"/>\n",
       "<path clip-path=\"url(#clip822)\" d=\"\n",
       "M1130.39 1440.93 L1130.39 1445.72 L1148.86 1445.72 L1148.86 1440.93 L1130.39 1440.93 L1130.39 1440.93  Z\n",
       "  \" fill=\"#009af9\" fill-rule=\"evenodd\" fill-opacity=\"1\"/>\n",
       "<polyline clip-path=\"url(#clip822)\" style=\"stroke:#000000; stroke-linecap:round; stroke-linejoin:round; stroke-width:4; stroke-opacity:1; fill:none\" points=\"\n",
       "  1130.39,1440.93 1130.39,1445.72 1148.86,1445.72 1148.86,1440.93 1130.39,1440.93 \n",
       "  \"/>\n",
       "<path clip-path=\"url(#clip822)\" d=\"\n",
       "M1148.86 1440.3 L1148.86 1445.72 L1167.33 1445.72 L1167.33 1440.3 L1148.86 1440.3 L1148.86 1440.3  Z\n",
       "  \" fill=\"#009af9\" fill-rule=\"evenodd\" fill-opacity=\"1\"/>\n",
       "<polyline clip-path=\"url(#clip822)\" style=\"stroke:#000000; stroke-linecap:round; stroke-linejoin:round; stroke-width:4; stroke-opacity:1; fill:none\" points=\"\n",
       "  1148.86,1440.3 1148.86,1445.72 1167.33,1445.72 1167.33,1440.3 1148.86,1440.3 \n",
       "  \"/>\n",
       "<path clip-path=\"url(#clip822)\" d=\"\n",
       "M1167.33 1440.85 L1167.33 1445.72 L1185.8 1445.72 L1185.8 1440.85 L1167.33 1440.85 L1167.33 1440.85  Z\n",
       "  \" fill=\"#009af9\" fill-rule=\"evenodd\" fill-opacity=\"1\"/>\n",
       "<polyline clip-path=\"url(#clip822)\" style=\"stroke:#000000; stroke-linecap:round; stroke-linejoin:round; stroke-width:4; stroke-opacity:1; fill:none\" points=\"\n",
       "  1167.33,1440.85 1167.33,1445.72 1185.8,1445.72 1185.8,1440.85 1167.33,1440.85 \n",
       "  \"/>\n",
       "<path clip-path=\"url(#clip822)\" d=\"\n",
       "M1185.8 1440.26 L1185.8 1445.72 L1204.27 1445.72 L1204.27 1440.26 L1185.8 1440.26 L1185.8 1440.26  Z\n",
       "  \" fill=\"#009af9\" fill-rule=\"evenodd\" fill-opacity=\"1\"/>\n",
       "<polyline clip-path=\"url(#clip822)\" style=\"stroke:#000000; stroke-linecap:round; stroke-linejoin:round; stroke-width:4; stroke-opacity:1; fill:none\" points=\"\n",
       "  1185.8,1440.26 1185.8,1445.72 1204.27,1445.72 1204.27,1440.26 1185.8,1440.26 \n",
       "  \"/>\n",
       "<path clip-path=\"url(#clip822)\" d=\"\n",
       "M1204.27 1440.15 L1204.27 1445.72 L1222.74 1445.72 L1222.74 1440.15 L1204.27 1440.15 L1204.27 1440.15  Z\n",
       "  \" fill=\"#009af9\" fill-rule=\"evenodd\" fill-opacity=\"1\"/>\n",
       "<polyline clip-path=\"url(#clip822)\" style=\"stroke:#000000; stroke-linecap:round; stroke-linejoin:round; stroke-width:4; stroke-opacity:1; fill:none\" points=\"\n",
       "  1204.27,1440.15 1204.27,1445.72 1222.74,1445.72 1222.74,1440.15 1204.27,1440.15 \n",
       "  \"/>\n",
       "<path clip-path=\"url(#clip822)\" d=\"\n",
       "M1222.74 1439.85 L1222.74 1445.72 L1241.21 1445.72 L1241.21 1439.85 L1222.74 1439.85 L1222.74 1439.85  Z\n",
       "  \" fill=\"#009af9\" fill-rule=\"evenodd\" fill-opacity=\"1\"/>\n",
       "<polyline clip-path=\"url(#clip822)\" style=\"stroke:#000000; stroke-linecap:round; stroke-linejoin:round; stroke-width:4; stroke-opacity:1; fill:none\" points=\"\n",
       "  1222.74,1439.85 1222.74,1445.72 1241.21,1445.72 1241.21,1439.85 1222.74,1439.85 \n",
       "  \"/>\n",
       "<path clip-path=\"url(#clip822)\" d=\"\n",
       "M1241.21 1440.2 L1241.21 1445.72 L1259.68 1445.72 L1259.68 1440.2 L1241.21 1440.2 L1241.21 1440.2  Z\n",
       "  \" fill=\"#009af9\" fill-rule=\"evenodd\" fill-opacity=\"1\"/>\n",
       "<polyline clip-path=\"url(#clip822)\" style=\"stroke:#000000; stroke-linecap:round; stroke-linejoin:round; stroke-width:4; stroke-opacity:1; fill:none\" points=\"\n",
       "  1241.21,1440.2 1241.21,1445.72 1259.68,1445.72 1259.68,1440.2 1241.21,1440.2 \n",
       "  \"/>\n",
       "<path clip-path=\"url(#clip822)\" d=\"\n",
       "M1259.68 1438.64 L1259.68 1445.72 L1278.15 1445.72 L1278.15 1438.64 L1259.68 1438.64 L1259.68 1438.64  Z\n",
       "  \" fill=\"#009af9\" fill-rule=\"evenodd\" fill-opacity=\"1\"/>\n",
       "<polyline clip-path=\"url(#clip822)\" style=\"stroke:#000000; stroke-linecap:round; stroke-linejoin:round; stroke-width:4; stroke-opacity:1; fill:none\" points=\"\n",
       "  1259.68,1438.64 1259.68,1445.72 1278.15,1445.72 1278.15,1438.64 1259.68,1438.64 \n",
       "  \"/>\n",
       "<path clip-path=\"url(#clip822)\" d=\"\n",
       "M1278.15 1437.43 L1278.15 1445.72 L1296.62 1445.72 L1296.62 1437.43 L1278.15 1437.43 L1278.15 1437.43  Z\n",
       "  \" fill=\"#009af9\" fill-rule=\"evenodd\" fill-opacity=\"1\"/>\n",
       "<polyline clip-path=\"url(#clip822)\" style=\"stroke:#000000; stroke-linecap:round; stroke-linejoin:round; stroke-width:4; stroke-opacity:1; fill:none\" points=\"\n",
       "  1278.15,1437.43 1278.15,1445.72 1296.62,1445.72 1296.62,1437.43 1278.15,1437.43 \n",
       "  \"/>\n",
       "<path clip-path=\"url(#clip822)\" d=\"\n",
       "M1296.62 1437.45 L1296.62 1445.72 L1315.09 1445.72 L1315.09 1437.45 L1296.62 1437.45 L1296.62 1437.45  Z\n",
       "  \" fill=\"#009af9\" fill-rule=\"evenodd\" fill-opacity=\"1\"/>\n",
       "<polyline clip-path=\"url(#clip822)\" style=\"stroke:#000000; stroke-linecap:round; stroke-linejoin:round; stroke-width:4; stroke-opacity:1; fill:none\" points=\"\n",
       "  1296.62,1437.45 1296.62,1445.72 1315.09,1445.72 1315.09,1437.45 1296.62,1437.45 \n",
       "  \"/>\n",
       "<path clip-path=\"url(#clip822)\" d=\"\n",
       "M1315.09 1436.01 L1315.09 1445.72 L1333.56 1445.72 L1333.56 1436.01 L1315.09 1436.01 L1315.09 1436.01  Z\n",
       "  \" fill=\"#009af9\" fill-rule=\"evenodd\" fill-opacity=\"1\"/>\n",
       "<polyline clip-path=\"url(#clip822)\" style=\"stroke:#000000; stroke-linecap:round; stroke-linejoin:round; stroke-width:4; stroke-opacity:1; fill:none\" points=\"\n",
       "  1315.09,1436.01 1315.09,1445.72 1333.56,1445.72 1333.56,1436.01 1315.09,1436.01 \n",
       "  \"/>\n",
       "<path clip-path=\"url(#clip822)\" d=\"\n",
       "M1333.56 1436.99 L1333.56 1445.72 L1352.03 1445.72 L1352.03 1436.99 L1333.56 1436.99 L1333.56 1436.99  Z\n",
       "  \" fill=\"#009af9\" fill-rule=\"evenodd\" fill-opacity=\"1\"/>\n",
       "<polyline clip-path=\"url(#clip822)\" style=\"stroke:#000000; stroke-linecap:round; stroke-linejoin:round; stroke-width:4; stroke-opacity:1; fill:none\" points=\"\n",
       "  1333.56,1436.99 1333.56,1445.72 1352.03,1445.72 1352.03,1436.99 1333.56,1436.99 \n",
       "  \"/>\n",
       "<path clip-path=\"url(#clip822)\" d=\"\n",
       "M1352.03 1433.83 L1352.03 1445.72 L1370.5 1445.72 L1370.5 1433.83 L1352.03 1433.83 L1352.03 1433.83  Z\n",
       "  \" fill=\"#009af9\" fill-rule=\"evenodd\" fill-opacity=\"1\"/>\n",
       "<polyline clip-path=\"url(#clip822)\" style=\"stroke:#000000; stroke-linecap:round; stroke-linejoin:round; stroke-width:4; stroke-opacity:1; fill:none\" points=\"\n",
       "  1352.03,1433.83 1352.03,1445.72 1370.5,1445.72 1370.5,1433.83 1352.03,1433.83 \n",
       "  \"/>\n",
       "<path clip-path=\"url(#clip822)\" d=\"\n",
       "M1370.5 1434.84 L1370.5 1445.72 L1388.97 1445.72 L1388.97 1434.84 L1370.5 1434.84 L1370.5 1434.84  Z\n",
       "  \" fill=\"#009af9\" fill-rule=\"evenodd\" fill-opacity=\"1\"/>\n",
       "<polyline clip-path=\"url(#clip822)\" style=\"stroke:#000000; stroke-linecap:round; stroke-linejoin:round; stroke-width:4; stroke-opacity:1; fill:none\" points=\"\n",
       "  1370.5,1434.84 1370.5,1445.72 1388.97,1445.72 1388.97,1434.84 1370.5,1434.84 \n",
       "  \"/>\n",
       "<path clip-path=\"url(#clip822)\" d=\"\n",
       "M1388.97 1434.14 L1388.97 1445.72 L1407.45 1445.72 L1407.45 1434.14 L1388.97 1434.14 L1388.97 1434.14  Z\n",
       "  \" fill=\"#009af9\" fill-rule=\"evenodd\" fill-opacity=\"1\"/>\n",
       "<polyline clip-path=\"url(#clip822)\" style=\"stroke:#000000; stroke-linecap:round; stroke-linejoin:round; stroke-width:4; stroke-opacity:1; fill:none\" points=\"\n",
       "  1388.97,1434.14 1388.97,1445.72 1407.45,1445.72 1407.45,1434.14 1388.97,1434.14 \n",
       "  \"/>\n",
       "<path clip-path=\"url(#clip822)\" d=\"\n",
       "M1407.45 1433.67 L1407.45 1445.72 L1425.92 1445.72 L1425.92 1433.67 L1407.45 1433.67 L1407.45 1433.67  Z\n",
       "  \" fill=\"#009af9\" fill-rule=\"evenodd\" fill-opacity=\"1\"/>\n",
       "<polyline clip-path=\"url(#clip822)\" style=\"stroke:#000000; stroke-linecap:round; stroke-linejoin:round; stroke-width:4; stroke-opacity:1; fill:none\" points=\"\n",
       "  1407.45,1433.67 1407.45,1445.72 1425.92,1445.72 1425.92,1433.67 1407.45,1433.67 \n",
       "  \"/>\n",
       "<path clip-path=\"url(#clip822)\" d=\"\n",
       "M1425.92 1432.75 L1425.92 1445.72 L1444.39 1445.72 L1444.39 1432.75 L1425.92 1432.75 L1425.92 1432.75  Z\n",
       "  \" fill=\"#009af9\" fill-rule=\"evenodd\" fill-opacity=\"1\"/>\n",
       "<polyline clip-path=\"url(#clip822)\" style=\"stroke:#000000; stroke-linecap:round; stroke-linejoin:round; stroke-width:4; stroke-opacity:1; fill:none\" points=\"\n",
       "  1425.92,1432.75 1425.92,1445.72 1444.39,1445.72 1444.39,1432.75 1425.92,1432.75 \n",
       "  \"/>\n",
       "<path clip-path=\"url(#clip822)\" d=\"\n",
       "M1444.39 1431.27 L1444.39 1445.72 L1462.86 1445.72 L1462.86 1431.27 L1444.39 1431.27 L1444.39 1431.27  Z\n",
       "  \" fill=\"#009af9\" fill-rule=\"evenodd\" fill-opacity=\"1\"/>\n",
       "<polyline clip-path=\"url(#clip822)\" style=\"stroke:#000000; stroke-linecap:round; stroke-linejoin:round; stroke-width:4; stroke-opacity:1; fill:none\" points=\"\n",
       "  1444.39,1431.27 1444.39,1445.72 1462.86,1445.72 1462.86,1431.27 1444.39,1431.27 \n",
       "  \"/>\n",
       "<path clip-path=\"url(#clip822)\" d=\"\n",
       "M1462.86 1428.36 L1462.86 1445.72 L1481.33 1445.72 L1481.33 1428.36 L1462.86 1428.36 L1462.86 1428.36  Z\n",
       "  \" fill=\"#009af9\" fill-rule=\"evenodd\" fill-opacity=\"1\"/>\n",
       "<polyline clip-path=\"url(#clip822)\" style=\"stroke:#000000; stroke-linecap:round; stroke-linejoin:round; stroke-width:4; stroke-opacity:1; fill:none\" points=\"\n",
       "  1462.86,1428.36 1462.86,1445.72 1481.33,1445.72 1481.33,1428.36 1462.86,1428.36 \n",
       "  \"/>\n",
       "<path clip-path=\"url(#clip822)\" d=\"\n",
       "M1481.33 1427.74 L1481.33 1445.72 L1499.8 1445.72 L1499.8 1427.74 L1481.33 1427.74 L1481.33 1427.74  Z\n",
       "  \" fill=\"#009af9\" fill-rule=\"evenodd\" fill-opacity=\"1\"/>\n",
       "<polyline clip-path=\"url(#clip822)\" style=\"stroke:#000000; stroke-linecap:round; stroke-linejoin:round; stroke-width:4; stroke-opacity:1; fill:none\" points=\"\n",
       "  1481.33,1427.74 1481.33,1445.72 1499.8,1445.72 1499.8,1427.74 1481.33,1427.74 \n",
       "  \"/>\n",
       "<path clip-path=\"url(#clip822)\" d=\"\n",
       "M1499.8 1428.05 L1499.8 1445.72 L1518.27 1445.72 L1518.27 1428.05 L1499.8 1428.05 L1499.8 1428.05  Z\n",
       "  \" fill=\"#009af9\" fill-rule=\"evenodd\" fill-opacity=\"1\"/>\n",
       "<polyline clip-path=\"url(#clip822)\" style=\"stroke:#000000; stroke-linecap:round; stroke-linejoin:round; stroke-width:4; stroke-opacity:1; fill:none\" points=\"\n",
       "  1499.8,1428.05 1499.8,1445.72 1518.27,1445.72 1518.27,1428.05 1499.8,1428.05 \n",
       "  \"/>\n",
       "<path clip-path=\"url(#clip822)\" d=\"\n",
       "M1518.27 1424.01 L1518.27 1445.72 L1536.74 1445.72 L1536.74 1424.01 L1518.27 1424.01 L1518.27 1424.01  Z\n",
       "  \" fill=\"#009af9\" fill-rule=\"evenodd\" fill-opacity=\"1\"/>\n",
       "<polyline clip-path=\"url(#clip822)\" style=\"stroke:#000000; stroke-linecap:round; stroke-linejoin:round; stroke-width:4; stroke-opacity:1; fill:none\" points=\"\n",
       "  1518.27,1424.01 1518.27,1445.72 1536.74,1445.72 1536.74,1424.01 1518.27,1424.01 \n",
       "  \"/>\n",
       "<path clip-path=\"url(#clip822)\" d=\"\n",
       "M1536.74 1424.74 L1536.74 1445.72 L1555.21 1445.72 L1555.21 1424.74 L1536.74 1424.74 L1536.74 1424.74  Z\n",
       "  \" fill=\"#009af9\" fill-rule=\"evenodd\" fill-opacity=\"1\"/>\n",
       "<polyline clip-path=\"url(#clip822)\" style=\"stroke:#000000; stroke-linecap:round; stroke-linejoin:round; stroke-width:4; stroke-opacity:1; fill:none\" points=\"\n",
       "  1536.74,1424.74 1536.74,1445.72 1555.21,1445.72 1555.21,1424.74 1536.74,1424.74 \n",
       "  \"/>\n",
       "<path clip-path=\"url(#clip822)\" d=\"\n",
       "M1555.21 1421.6 L1555.21 1445.72 L1573.68 1445.72 L1573.68 1421.6 L1555.21 1421.6 L1555.21 1421.6  Z\n",
       "  \" fill=\"#009af9\" fill-rule=\"evenodd\" fill-opacity=\"1\"/>\n",
       "<polyline clip-path=\"url(#clip822)\" style=\"stroke:#000000; stroke-linecap:round; stroke-linejoin:round; stroke-width:4; stroke-opacity:1; fill:none\" points=\"\n",
       "  1555.21,1421.6 1555.21,1445.72 1573.68,1445.72 1573.68,1421.6 1555.21,1421.6 \n",
       "  \"/>\n",
       "<path clip-path=\"url(#clip822)\" d=\"\n",
       "M1573.68 1420.68 L1573.68 1445.72 L1592.15 1445.72 L1592.15 1420.68 L1573.68 1420.68 L1573.68 1420.68  Z\n",
       "  \" fill=\"#009af9\" fill-rule=\"evenodd\" fill-opacity=\"1\"/>\n",
       "<polyline clip-path=\"url(#clip822)\" style=\"stroke:#000000; stroke-linecap:round; stroke-linejoin:round; stroke-width:4; stroke-opacity:1; fill:none\" points=\"\n",
       "  1573.68,1420.68 1573.68,1445.72 1592.15,1445.72 1592.15,1420.68 1573.68,1420.68 \n",
       "  \"/>\n",
       "<path clip-path=\"url(#clip822)\" d=\"\n",
       "M1592.15 1417.99 L1592.15 1445.72 L1610.62 1445.72 L1610.62 1417.99 L1592.15 1417.99 L1592.15 1417.99  Z\n",
       "  \" fill=\"#009af9\" fill-rule=\"evenodd\" fill-opacity=\"1\"/>\n",
       "<polyline clip-path=\"url(#clip822)\" style=\"stroke:#000000; stroke-linecap:round; stroke-linejoin:round; stroke-width:4; stroke-opacity:1; fill:none\" points=\"\n",
       "  1592.15,1417.99 1592.15,1445.72 1610.62,1445.72 1610.62,1417.99 1592.15,1417.99 \n",
       "  \"/>\n",
       "<path clip-path=\"url(#clip822)\" d=\"\n",
       "M1610.62 1413.38 L1610.62 1445.72 L1629.09 1445.72 L1629.09 1413.38 L1610.62 1413.38 L1610.62 1413.38  Z\n",
       "  \" fill=\"#009af9\" fill-rule=\"evenodd\" fill-opacity=\"1\"/>\n",
       "<polyline clip-path=\"url(#clip822)\" style=\"stroke:#000000; stroke-linecap:round; stroke-linejoin:round; stroke-width:4; stroke-opacity:1; fill:none\" points=\"\n",
       "  1610.62,1413.38 1610.62,1445.72 1629.09,1445.72 1629.09,1413.38 1610.62,1413.38 \n",
       "  \"/>\n",
       "<path clip-path=\"url(#clip822)\" d=\"\n",
       "M1629.09 1413.66 L1629.09 1445.72 L1647.56 1445.72 L1647.56 1413.66 L1629.09 1413.66 L1629.09 1413.66  Z\n",
       "  \" fill=\"#009af9\" fill-rule=\"evenodd\" fill-opacity=\"1\"/>\n",
       "<polyline clip-path=\"url(#clip822)\" style=\"stroke:#000000; stroke-linecap:round; stroke-linejoin:round; stroke-width:4; stroke-opacity:1; fill:none\" points=\"\n",
       "  1629.09,1413.66 1629.09,1445.72 1647.56,1445.72 1647.56,1413.66 1629.09,1413.66 \n",
       "  \"/>\n",
       "<path clip-path=\"url(#clip822)\" d=\"\n",
       "M1647.56 1409.11 L1647.56 1445.72 L1666.03 1445.72 L1666.03 1409.11 L1647.56 1409.11 L1647.56 1409.11  Z\n",
       "  \" fill=\"#009af9\" fill-rule=\"evenodd\" fill-opacity=\"1\"/>\n",
       "<polyline clip-path=\"url(#clip822)\" style=\"stroke:#000000; stroke-linecap:round; stroke-linejoin:round; stroke-width:4; stroke-opacity:1; fill:none\" points=\"\n",
       "  1647.56,1409.11 1647.56,1445.72 1666.03,1445.72 1666.03,1409.11 1647.56,1409.11 \n",
       "  \"/>\n",
       "<path clip-path=\"url(#clip822)\" d=\"\n",
       "M1666.03 1406.05 L1666.03 1445.72 L1684.5 1445.72 L1684.5 1406.05 L1666.03 1406.05 L1666.03 1406.05  Z\n",
       "  \" fill=\"#009af9\" fill-rule=\"evenodd\" fill-opacity=\"1\"/>\n",
       "<polyline clip-path=\"url(#clip822)\" style=\"stroke:#000000; stroke-linecap:round; stroke-linejoin:round; stroke-width:4; stroke-opacity:1; fill:none\" points=\"\n",
       "  1666.03,1406.05 1666.03,1445.72 1684.5,1445.72 1684.5,1406.05 1666.03,1406.05 \n",
       "  \"/>\n",
       "<path clip-path=\"url(#clip822)\" d=\"\n",
       "M1684.5 1405.66 L1684.5 1445.72 L1702.97 1445.72 L1702.97 1405.66 L1684.5 1405.66 L1684.5 1405.66  Z\n",
       "  \" fill=\"#009af9\" fill-rule=\"evenodd\" fill-opacity=\"1\"/>\n",
       "<polyline clip-path=\"url(#clip822)\" style=\"stroke:#000000; stroke-linecap:round; stroke-linejoin:round; stroke-width:4; stroke-opacity:1; fill:none\" points=\"\n",
       "  1684.5,1405.66 1684.5,1445.72 1702.97,1445.72 1702.97,1405.66 1684.5,1405.66 \n",
       "  \"/>\n",
       "<path clip-path=\"url(#clip822)\" d=\"\n",
       "M1702.97 1402.73 L1702.97 1445.72 L1721.44 1445.72 L1721.44 1402.73 L1702.97 1402.73 L1702.97 1402.73  Z\n",
       "  \" fill=\"#009af9\" fill-rule=\"evenodd\" fill-opacity=\"1\"/>\n",
       "<polyline clip-path=\"url(#clip822)\" style=\"stroke:#000000; stroke-linecap:round; stroke-linejoin:round; stroke-width:4; stroke-opacity:1; fill:none\" points=\"\n",
       "  1702.97,1402.73 1702.97,1445.72 1721.44,1445.72 1721.44,1402.73 1702.97,1402.73 \n",
       "  \"/>\n",
       "<path clip-path=\"url(#clip822)\" d=\"\n",
       "M1721.44 1398.03 L1721.44 1445.72 L1739.91 1445.72 L1739.91 1398.03 L1721.44 1398.03 L1721.44 1398.03  Z\n",
       "  \" fill=\"#009af9\" fill-rule=\"evenodd\" fill-opacity=\"1\"/>\n",
       "<polyline clip-path=\"url(#clip822)\" style=\"stroke:#000000; stroke-linecap:round; stroke-linejoin:round; stroke-width:4; stroke-opacity:1; fill:none\" points=\"\n",
       "  1721.44,1398.03 1721.44,1445.72 1739.91,1445.72 1739.91,1398.03 1721.44,1398.03 \n",
       "  \"/>\n",
       "<path clip-path=\"url(#clip822)\" d=\"\n",
       "M1739.91 1391.36 L1739.91 1445.72 L1758.38 1445.72 L1758.38 1391.36 L1739.91 1391.36 L1739.91 1391.36  Z\n",
       "  \" fill=\"#009af9\" fill-rule=\"evenodd\" fill-opacity=\"1\"/>\n",
       "<polyline clip-path=\"url(#clip822)\" style=\"stroke:#000000; stroke-linecap:round; stroke-linejoin:round; stroke-width:4; stroke-opacity:1; fill:none\" points=\"\n",
       "  1739.91,1391.36 1739.91,1445.72 1758.38,1445.72 1758.38,1391.36 1739.91,1391.36 \n",
       "  \"/>\n",
       "<path clip-path=\"url(#clip822)\" d=\"\n",
       "M1758.38 1388.44 L1758.38 1445.72 L1776.85 1445.72 L1776.85 1388.44 L1758.38 1388.44 L1758.38 1388.44  Z\n",
       "  \" fill=\"#009af9\" fill-rule=\"evenodd\" fill-opacity=\"1\"/>\n",
       "<polyline clip-path=\"url(#clip822)\" style=\"stroke:#000000; stroke-linecap:round; stroke-linejoin:round; stroke-width:4; stroke-opacity:1; fill:none\" points=\"\n",
       "  1758.38,1388.44 1758.38,1445.72 1776.85,1445.72 1776.85,1388.44 1758.38,1388.44 \n",
       "  \"/>\n",
       "<path clip-path=\"url(#clip822)\" d=\"\n",
       "M1776.85 1382.88 L1776.85 1445.72 L1795.32 1445.72 L1795.32 1382.88 L1776.85 1382.88 L1776.85 1382.88  Z\n",
       "  \" fill=\"#009af9\" fill-rule=\"evenodd\" fill-opacity=\"1\"/>\n",
       "<polyline clip-path=\"url(#clip822)\" style=\"stroke:#000000; stroke-linecap:round; stroke-linejoin:round; stroke-width:4; stroke-opacity:1; fill:none\" points=\"\n",
       "  1776.85,1382.88 1776.85,1445.72 1795.32,1445.72 1795.32,1382.88 1776.85,1382.88 \n",
       "  \"/>\n",
       "<path clip-path=\"url(#clip822)\" d=\"\n",
       "M1795.32 1378.76 L1795.32 1445.72 L1813.79 1445.72 L1813.79 1378.76 L1795.32 1378.76 L1795.32 1378.76  Z\n",
       "  \" fill=\"#009af9\" fill-rule=\"evenodd\" fill-opacity=\"1\"/>\n",
       "<polyline clip-path=\"url(#clip822)\" style=\"stroke:#000000; stroke-linecap:round; stroke-linejoin:round; stroke-width:4; stroke-opacity:1; fill:none\" points=\"\n",
       "  1795.32,1378.76 1795.32,1445.72 1813.79,1445.72 1813.79,1378.76 1795.32,1378.76 \n",
       "  \"/>\n",
       "<path clip-path=\"url(#clip822)\" d=\"\n",
       "M1813.79 1378.68 L1813.79 1445.72 L1832.26 1445.72 L1832.26 1378.68 L1813.79 1378.68 L1813.79 1378.68  Z\n",
       "  \" fill=\"#009af9\" fill-rule=\"evenodd\" fill-opacity=\"1\"/>\n",
       "<polyline clip-path=\"url(#clip822)\" style=\"stroke:#000000; stroke-linecap:round; stroke-linejoin:round; stroke-width:4; stroke-opacity:1; fill:none\" points=\"\n",
       "  1813.79,1378.68 1813.79,1445.72 1832.26,1445.72 1832.26,1378.68 1813.79,1378.68 \n",
       "  \"/>\n",
       "<path clip-path=\"url(#clip822)\" d=\"\n",
       "M1832.26 1375.8 L1832.26 1445.72 L1850.73 1445.72 L1850.73 1375.8 L1832.26 1375.8 L1832.26 1375.8  Z\n",
       "  \" fill=\"#009af9\" fill-rule=\"evenodd\" fill-opacity=\"1\"/>\n",
       "<polyline clip-path=\"url(#clip822)\" style=\"stroke:#000000; stroke-linecap:round; stroke-linejoin:round; stroke-width:4; stroke-opacity:1; fill:none\" points=\"\n",
       "  1832.26,1375.8 1832.26,1445.72 1850.73,1445.72 1850.73,1375.8 1832.26,1375.8 \n",
       "  \"/>\n",
       "<path clip-path=\"url(#clip822)\" d=\"\n",
       "M1850.73 1372.11 L1850.73 1445.72 L1869.2 1445.72 L1869.2 1372.11 L1850.73 1372.11 L1850.73 1372.11  Z\n",
       "  \" fill=\"#009af9\" fill-rule=\"evenodd\" fill-opacity=\"1\"/>\n",
       "<polyline clip-path=\"url(#clip822)\" style=\"stroke:#000000; stroke-linecap:round; stroke-linejoin:round; stroke-width:4; stroke-opacity:1; fill:none\" points=\"\n",
       "  1850.73,1372.11 1850.73,1445.72 1869.2,1445.72 1869.2,1372.11 1850.73,1372.11 \n",
       "  \"/>\n",
       "<path clip-path=\"url(#clip822)\" d=\"\n",
       "M1869.2 1362.94 L1869.2 1445.72 L1887.67 1445.72 L1887.67 1362.94 L1869.2 1362.94 L1869.2 1362.94  Z\n",
       "  \" fill=\"#009af9\" fill-rule=\"evenodd\" fill-opacity=\"1\"/>\n",
       "<polyline clip-path=\"url(#clip822)\" style=\"stroke:#000000; stroke-linecap:round; stroke-linejoin:round; stroke-width:4; stroke-opacity:1; fill:none\" points=\"\n",
       "  1869.2,1362.94 1869.2,1445.72 1887.67,1445.72 1887.67,1362.94 1869.2,1362.94 \n",
       "  \"/>\n",
       "<path clip-path=\"url(#clip822)\" d=\"\n",
       "M1887.67 1355.86 L1887.67 1445.72 L1906.14 1445.72 L1906.14 1355.86 L1887.67 1355.86 L1887.67 1355.86  Z\n",
       "  \" fill=\"#009af9\" fill-rule=\"evenodd\" fill-opacity=\"1\"/>\n",
       "<polyline clip-path=\"url(#clip822)\" style=\"stroke:#000000; stroke-linecap:round; stroke-linejoin:round; stroke-width:4; stroke-opacity:1; fill:none\" points=\"\n",
       "  1887.67,1355.86 1887.67,1445.72 1906.14,1445.72 1906.14,1355.86 1887.67,1355.86 \n",
       "  \"/>\n",
       "<path clip-path=\"url(#clip822)\" d=\"\n",
       "M1906.14 1362.16 L1906.14 1445.72 L1924.61 1445.72 L1924.61 1362.16 L1906.14 1362.16 L1906.14 1362.16  Z\n",
       "  \" fill=\"#009af9\" fill-rule=\"evenodd\" fill-opacity=\"1\"/>\n",
       "<polyline clip-path=\"url(#clip822)\" style=\"stroke:#000000; stroke-linecap:round; stroke-linejoin:round; stroke-width:4; stroke-opacity:1; fill:none\" points=\"\n",
       "  1906.14,1362.16 1906.14,1445.72 1924.61,1445.72 1924.61,1362.16 1906.14,1362.16 \n",
       "  \"/>\n",
       "<path clip-path=\"url(#clip822)\" d=\"\n",
       "M1924.61 1357.44 L1924.61 1445.72 L1943.08 1445.72 L1943.08 1357.44 L1924.61 1357.44 L1924.61 1357.44  Z\n",
       "  \" fill=\"#009af9\" fill-rule=\"evenodd\" fill-opacity=\"1\"/>\n",
       "<polyline clip-path=\"url(#clip822)\" style=\"stroke:#000000; stroke-linecap:round; stroke-linejoin:round; stroke-width:4; stroke-opacity:1; fill:none\" points=\"\n",
       "  1924.61,1357.44 1924.61,1445.72 1943.08,1445.72 1943.08,1357.44 1924.61,1357.44 \n",
       "  \"/>\n",
       "<path clip-path=\"url(#clip822)\" d=\"\n",
       "M1943.08 1355.74 L1943.08 1445.72 L1961.55 1445.72 L1961.55 1355.74 L1943.08 1355.74 L1943.08 1355.74  Z\n",
       "  \" fill=\"#009af9\" fill-rule=\"evenodd\" fill-opacity=\"1\"/>\n",
       "<polyline clip-path=\"url(#clip822)\" style=\"stroke:#000000; stroke-linecap:round; stroke-linejoin:round; stroke-width:4; stroke-opacity:1; fill:none\" points=\"\n",
       "  1943.08,1355.74 1943.08,1445.72 1961.55,1445.72 1961.55,1355.74 1943.08,1355.74 \n",
       "  \"/>\n",
       "<path clip-path=\"url(#clip822)\" d=\"\n",
       "M1961.55 1357.27 L1961.55 1445.72 L1980.02 1445.72 L1980.02 1357.27 L1961.55 1357.27 L1961.55 1357.27  Z\n",
       "  \" fill=\"#009af9\" fill-rule=\"evenodd\" fill-opacity=\"1\"/>\n",
       "<polyline clip-path=\"url(#clip822)\" style=\"stroke:#000000; stroke-linecap:round; stroke-linejoin:round; stroke-width:4; stroke-opacity:1; fill:none\" points=\"\n",
       "  1961.55,1357.27 1961.55,1445.72 1980.02,1445.72 1980.02,1357.27 1961.55,1357.27 \n",
       "  \"/>\n",
       "<path clip-path=\"url(#clip822)\" d=\"\n",
       "M1980.02 1352.15 L1980.02 1445.72 L1998.5 1445.72 L1998.5 1352.15 L1980.02 1352.15 L1980.02 1352.15  Z\n",
       "  \" fill=\"#009af9\" fill-rule=\"evenodd\" fill-opacity=\"1\"/>\n",
       "<polyline clip-path=\"url(#clip822)\" style=\"stroke:#000000; stroke-linecap:round; stroke-linejoin:round; stroke-width:4; stroke-opacity:1; fill:none\" points=\"\n",
       "  1980.02,1352.15 1980.02,1445.72 1998.5,1445.72 1998.5,1352.15 1980.02,1352.15 \n",
       "  \"/>\n",
       "<path clip-path=\"url(#clip822)\" d=\"\n",
       "M1998.5 1355.57 L1998.5 1445.72 L2016.97 1445.72 L2016.97 1355.57 L1998.5 1355.57 L1998.5 1355.57  Z\n",
       "  \" fill=\"#009af9\" fill-rule=\"evenodd\" fill-opacity=\"1\"/>\n",
       "<polyline clip-path=\"url(#clip822)\" style=\"stroke:#000000; stroke-linecap:round; stroke-linejoin:round; stroke-width:4; stroke-opacity:1; fill:none\" points=\"\n",
       "  1998.5,1355.57 1998.5,1445.72 2016.97,1445.72 2016.97,1355.57 1998.5,1355.57 \n",
       "  \"/>\n",
       "<path clip-path=\"url(#clip822)\" d=\"\n",
       "M2016.97 1356.35 L2016.97 1445.72 L2035.44 1445.72 L2035.44 1356.35 L2016.97 1356.35 L2016.97 1356.35  Z\n",
       "  \" fill=\"#009af9\" fill-rule=\"evenodd\" fill-opacity=\"1\"/>\n",
       "<polyline clip-path=\"url(#clip822)\" style=\"stroke:#000000; stroke-linecap:round; stroke-linejoin:round; stroke-width:4; stroke-opacity:1; fill:none\" points=\"\n",
       "  2016.97,1356.35 2016.97,1445.72 2035.44,1445.72 2035.44,1356.35 2016.97,1356.35 \n",
       "  \"/>\n",
       "<path clip-path=\"url(#clip822)\" d=\"\n",
       "M2035.44 1360.48 L2035.44 1445.72 L2053.91 1445.72 L2053.91 1360.48 L2035.44 1360.48 L2035.44 1360.48  Z\n",
       "  \" fill=\"#009af9\" fill-rule=\"evenodd\" fill-opacity=\"1\"/>\n",
       "<polyline clip-path=\"url(#clip822)\" style=\"stroke:#000000; stroke-linecap:round; stroke-linejoin:round; stroke-width:4; stroke-opacity:1; fill:none\" points=\"\n",
       "  2035.44,1360.48 2035.44,1445.72 2053.91,1445.72 2053.91,1360.48 2035.44,1360.48 \n",
       "  \"/>\n",
       "<path clip-path=\"url(#clip822)\" d=\"\n",
       "M2053.91 1363.55 L2053.91 1445.72 L2072.38 1445.72 L2072.38 1363.55 L2053.91 1363.55 L2053.91 1363.55  Z\n",
       "  \" fill=\"#009af9\" fill-rule=\"evenodd\" fill-opacity=\"1\"/>\n",
       "<polyline clip-path=\"url(#clip822)\" style=\"stroke:#000000; stroke-linecap:round; stroke-linejoin:round; stroke-width:4; stroke-opacity:1; fill:none\" points=\"\n",
       "  2053.91,1363.55 2053.91,1445.72 2072.38,1445.72 2072.38,1363.55 2053.91,1363.55 \n",
       "  \"/>\n",
       "<path clip-path=\"url(#clip822)\" d=\"\n",
       "M2072.38 1353.54 L2072.38 1445.72 L2090.85 1445.72 L2090.85 1353.54 L2072.38 1353.54 L2072.38 1353.54  Z\n",
       "  \" fill=\"#009af9\" fill-rule=\"evenodd\" fill-opacity=\"1\"/>\n",
       "<polyline clip-path=\"url(#clip822)\" style=\"stroke:#000000; stroke-linecap:round; stroke-linejoin:round; stroke-width:4; stroke-opacity:1; fill:none\" points=\"\n",
       "  2072.38,1353.54 2072.38,1445.72 2090.85,1445.72 2090.85,1353.54 2072.38,1353.54 \n",
       "  \"/>\n",
       "<path clip-path=\"url(#clip822)\" d=\"\n",
       "M2090.85 1347.53 L2090.85 1445.72 L2109.32 1445.72 L2109.32 1347.53 L2090.85 1347.53 L2090.85 1347.53  Z\n",
       "  \" fill=\"#009af9\" fill-rule=\"evenodd\" fill-opacity=\"1\"/>\n",
       "<polyline clip-path=\"url(#clip822)\" style=\"stroke:#000000; stroke-linecap:round; stroke-linejoin:round; stroke-width:4; stroke-opacity:1; fill:none\" points=\"\n",
       "  2090.85,1347.53 2090.85,1445.72 2109.32,1445.72 2109.32,1347.53 2090.85,1347.53 \n",
       "  \"/>\n",
       "<path clip-path=\"url(#clip822)\" d=\"\n",
       "M2109.32 1366.59 L2109.32 1445.72 L2127.79 1445.72 L2127.79 1366.59 L2109.32 1366.59 L2109.32 1366.59  Z\n",
       "  \" fill=\"#009af9\" fill-rule=\"evenodd\" fill-opacity=\"1\"/>\n",
       "<polyline clip-path=\"url(#clip822)\" style=\"stroke:#000000; stroke-linecap:round; stroke-linejoin:round; stroke-width:4; stroke-opacity:1; fill:none\" points=\"\n",
       "  2109.32,1366.59 2109.32,1445.72 2127.79,1445.72 2127.79,1366.59 2109.32,1366.59 \n",
       "  \"/>\n",
       "<path clip-path=\"url(#clip822)\" d=\"\n",
       "M2127.79 1390.74 L2127.79 1445.72 L2146.26 1445.72 L2146.26 1390.74 L2127.79 1390.74 L2127.79 1390.74  Z\n",
       "  \" fill=\"#009af9\" fill-rule=\"evenodd\" fill-opacity=\"1\"/>\n",
       "<polyline clip-path=\"url(#clip822)\" style=\"stroke:#000000; stroke-linecap:round; stroke-linejoin:round; stroke-width:4; stroke-opacity:1; fill:none\" points=\"\n",
       "  2127.79,1390.74 2127.79,1445.72 2146.26,1445.72 2146.26,1390.74 2127.79,1390.74 \n",
       "  \"/>\n",
       "<path clip-path=\"url(#clip822)\" d=\"\n",
       "M2146.26 1412.74 L2146.26 1445.72 L2164.73 1445.72 L2164.73 1412.74 L2146.26 1412.74 L2146.26 1412.74  Z\n",
       "  \" fill=\"#009af9\" fill-rule=\"evenodd\" fill-opacity=\"1\"/>\n",
       "<polyline clip-path=\"url(#clip822)\" style=\"stroke:#000000; stroke-linecap:round; stroke-linejoin:round; stroke-width:4; stroke-opacity:1; fill:none\" points=\"\n",
       "  2146.26,1412.74 2146.26,1445.72 2164.73,1445.72 2164.73,1412.74 2146.26,1412.74 \n",
       "  \"/>\n",
       "<path clip-path=\"url(#clip822)\" d=\"\n",
       "M2164.73 1416.58 L2164.73 1445.72 L2183.2 1445.72 L2183.2 1416.58 L2164.73 1416.58 L2164.73 1416.58  Z\n",
       "  \" fill=\"#009af9\" fill-rule=\"evenodd\" fill-opacity=\"1\"/>\n",
       "<polyline clip-path=\"url(#clip822)\" style=\"stroke:#000000; stroke-linecap:round; stroke-linejoin:round; stroke-width:4; stroke-opacity:1; fill:none\" points=\"\n",
       "  2164.73,1416.58 2164.73,1445.72 2183.2,1445.72 2183.2,1416.58 2164.73,1416.58 \n",
       "  \"/>\n",
       "<path clip-path=\"url(#clip822)\" d=\"\n",
       "M2183.2 1443.91 L2183.2 1445.72 L2201.67 1445.72 L2201.67 1443.91 L2183.2 1443.91 L2183.2 1443.91  Z\n",
       "  \" fill=\"#009af9\" fill-rule=\"evenodd\" fill-opacity=\"1\"/>\n",
       "<polyline clip-path=\"url(#clip822)\" style=\"stroke:#000000; stroke-linecap:round; stroke-linejoin:round; stroke-width:4; stroke-opacity:1; fill:none\" points=\"\n",
       "  2183.2,1443.91 2183.2,1445.72 2201.67,1445.72 2201.67,1443.91 2183.2,1443.91 \n",
       "  \"/>\n",
       "<path clip-path=\"url(#clip822)\" d=\"\n",
       "M2201.67 1445.72 L2201.67 1445.72 L2220.14 1445.72 L2220.14 1445.72 L2201.67 1445.72 L2201.67 1445.72  Z\n",
       "  \" fill=\"#009af9\" fill-rule=\"evenodd\" fill-opacity=\"1\"/>\n",
       "<polyline clip-path=\"url(#clip822)\" style=\"stroke:#000000; stroke-linecap:round; stroke-linejoin:round; stroke-width:4; stroke-opacity:1; fill:none\" points=\"\n",
       "  2201.67,1445.72 2201.67,1445.72 2220.14,1445.72 2201.67,1445.72 \n",
       "  \"/>\n",
       "<path clip-path=\"url(#clip822)\" d=\"\n",
       "M2220.14 87.9763 L2220.14 1445.72 L2238.61 1445.72 L2238.61 87.9763 L2220.14 87.9763 L2220.14 87.9763  Z\n",
       "  \" fill=\"#009af9\" fill-rule=\"evenodd\" fill-opacity=\"1\"/>\n",
       "<polyline clip-path=\"url(#clip822)\" style=\"stroke:#000000; stroke-linecap:round; stroke-linejoin:round; stroke-width:4; stroke-opacity:1; fill:none\" points=\"\n",
       "  2220.14,87.9763 2220.14,1445.72 2238.61,1445.72 2238.61,87.9763 2220.14,87.9763 \n",
       "  \"/>\n",
       "<circle clip-path=\"url(#clip822)\" style=\"fill:#009af9; stroke:none; fill-opacity:0\" cx=\"400.813\" cy=\"1428.44\" r=\"2\"/>\n",
       "<circle clip-path=\"url(#clip822)\" style=\"fill:#009af9; stroke:none; fill-opacity:0\" cx=\"419.283\" cy=\"1445.06\" r=\"2\"/>\n",
       "<circle clip-path=\"url(#clip822)\" style=\"fill:#009af9; stroke:none; fill-opacity:0\" cx=\"437.753\" cy=\"1444.79\" r=\"2\"/>\n",
       "<circle clip-path=\"url(#clip822)\" style=\"fill:#009af9; stroke:none; fill-opacity:0\" cx=\"456.224\" cy=\"1444.81\" r=\"2\"/>\n",
       "<circle clip-path=\"url(#clip822)\" style=\"fill:#009af9; stroke:none; fill-opacity:0\" cx=\"474.694\" cy=\"1444.81\" r=\"2\"/>\n",
       "<circle clip-path=\"url(#clip822)\" style=\"fill:#009af9; stroke:none; fill-opacity:0\" cx=\"493.164\" cy=\"1445.1\" r=\"2\"/>\n",
       "<circle clip-path=\"url(#clip822)\" style=\"fill:#009af9; stroke:none; fill-opacity:0\" cx=\"511.635\" cy=\"1444.53\" r=\"2\"/>\n",
       "<circle clip-path=\"url(#clip822)\" style=\"fill:#009af9; stroke:none; fill-opacity:0\" cx=\"530.105\" cy=\"1444.83\" r=\"2\"/>\n",
       "<circle clip-path=\"url(#clip822)\" style=\"fill:#009af9; stroke:none; fill-opacity:0\" cx=\"548.575\" cy=\"1445.04\" r=\"2\"/>\n",
       "<circle clip-path=\"url(#clip822)\" style=\"fill:#009af9; stroke:none; fill-opacity:0\" cx=\"567.046\" cy=\"1444.94\" r=\"2\"/>\n",
       "<circle clip-path=\"url(#clip822)\" style=\"fill:#009af9; stroke:none; fill-opacity:0\" cx=\"585.516\" cy=\"1445.06\" r=\"2\"/>\n",
       "<circle clip-path=\"url(#clip822)\" style=\"fill:#009af9; stroke:none; fill-opacity:0\" cx=\"603.986\" cy=\"1444.53\" r=\"2\"/>\n",
       "<circle clip-path=\"url(#clip822)\" style=\"fill:#009af9; stroke:none; fill-opacity:0\" cx=\"622.456\" cy=\"1444.69\" r=\"2\"/>\n",
       "<circle clip-path=\"url(#clip822)\" style=\"fill:#009af9; stroke:none; fill-opacity:0\" cx=\"640.927\" cy=\"1444.42\" r=\"2\"/>\n",
       "<circle clip-path=\"url(#clip822)\" style=\"fill:#009af9; stroke:none; fill-opacity:0\" cx=\"659.397\" cy=\"1444.94\" r=\"2\"/>\n",
       "<circle clip-path=\"url(#clip822)\" style=\"fill:#009af9; stroke:none; fill-opacity:0\" cx=\"677.867\" cy=\"1444.65\" r=\"2\"/>\n",
       "<circle clip-path=\"url(#clip822)\" style=\"fill:#009af9; stroke:none; fill-opacity:0\" cx=\"696.338\" cy=\"1444.67\" r=\"2\"/>\n",
       "<circle clip-path=\"url(#clip822)\" style=\"fill:#009af9; stroke:none; fill-opacity:0\" cx=\"714.808\" cy=\"1444.26\" r=\"2\"/>\n",
       "<circle clip-path=\"url(#clip822)\" style=\"fill:#009af9; stroke:none; fill-opacity:0\" cx=\"733.278\" cy=\"1444.28\" r=\"2\"/>\n",
       "<circle clip-path=\"url(#clip822)\" style=\"fill:#009af9; stroke:none; fill-opacity:0\" cx=\"751.749\" cy=\"1444.2\" r=\"2\"/>\n",
       "<circle clip-path=\"url(#clip822)\" style=\"fill:#009af9; stroke:none; fill-opacity:0\" cx=\"770.219\" cy=\"1444.65\" r=\"2\"/>\n",
       "<circle clip-path=\"url(#clip822)\" style=\"fill:#009af9; stroke:none; fill-opacity:0\" cx=\"788.689\" cy=\"1444.83\" r=\"2\"/>\n",
       "<circle clip-path=\"url(#clip822)\" style=\"fill:#009af9; stroke:none; fill-opacity:0\" cx=\"807.16\" cy=\"1443.81\" r=\"2\"/>\n",
       "<circle clip-path=\"url(#clip822)\" style=\"fill:#009af9; stroke:none; fill-opacity:0\" cx=\"825.63\" cy=\"1444.2\" r=\"2\"/>\n",
       "<circle clip-path=\"url(#clip822)\" style=\"fill:#009af9; stroke:none; fill-opacity:0\" cx=\"844.1\" cy=\"1443.89\" r=\"2\"/>\n",
       "<circle clip-path=\"url(#clip822)\" style=\"fill:#009af9; stroke:none; fill-opacity:0\" cx=\"862.571\" cy=\"1443.25\" r=\"2\"/>\n",
       "<circle clip-path=\"url(#clip822)\" style=\"fill:#009af9; stroke:none; fill-opacity:0\" cx=\"881.041\" cy=\"1443.62\" r=\"2\"/>\n",
       "<circle clip-path=\"url(#clip822)\" style=\"fill:#009af9; stroke:none; fill-opacity:0\" cx=\"899.511\" cy=\"1443.62\" r=\"2\"/>\n",
       "<circle clip-path=\"url(#clip822)\" style=\"fill:#009af9; stroke:none; fill-opacity:0\" cx=\"917.982\" cy=\"1443.44\" r=\"2\"/>\n",
       "<circle clip-path=\"url(#clip822)\" style=\"fill:#009af9; stroke:none; fill-opacity:0\" cx=\"936.452\" cy=\"1442.97\" r=\"2\"/>\n",
       "<circle clip-path=\"url(#clip822)\" style=\"fill:#009af9; stroke:none; fill-opacity:0\" cx=\"954.922\" cy=\"1442.39\" r=\"2\"/>\n",
       "<circle clip-path=\"url(#clip822)\" style=\"fill:#009af9; stroke:none; fill-opacity:0\" cx=\"973.393\" cy=\"1442.9\" r=\"2\"/>\n",
       "<circle clip-path=\"url(#clip822)\" style=\"fill:#009af9; stroke:none; fill-opacity:0\" cx=\"991.863\" cy=\"1442.1\" r=\"2\"/>\n",
       "<circle clip-path=\"url(#clip822)\" style=\"fill:#009af9; stroke:none; fill-opacity:0\" cx=\"1010.33\" cy=\"1442.56\" r=\"2\"/>\n",
       "<circle clip-path=\"url(#clip822)\" style=\"fill:#009af9; stroke:none; fill-opacity:0\" cx=\"1028.8\" cy=\"1443.42\" r=\"2\"/>\n",
       "<circle clip-path=\"url(#clip822)\" style=\"fill:#009af9; stroke:none; fill-opacity:0\" cx=\"1047.27\" cy=\"1441.69\" r=\"2\"/>\n",
       "<circle clip-path=\"url(#clip822)\" style=\"fill:#009af9; stroke:none; fill-opacity:0\" cx=\"1065.74\" cy=\"1442.33\" r=\"2\"/>\n",
       "<circle clip-path=\"url(#clip822)\" style=\"fill:#009af9; stroke:none; fill-opacity:0\" cx=\"1084.21\" cy=\"1441.73\" r=\"2\"/>\n",
       "<circle clip-path=\"url(#clip822)\" style=\"fill:#009af9; stroke:none; fill-opacity:0\" cx=\"1102.68\" cy=\"1440.75\" r=\"2\"/>\n",
       "<circle clip-path=\"url(#clip822)\" style=\"fill:#009af9; stroke:none; fill-opacity:0\" cx=\"1121.16\" cy=\"1441\" r=\"2\"/>\n",
       "<circle clip-path=\"url(#clip822)\" style=\"fill:#009af9; stroke:none; fill-opacity:0\" cx=\"1139.63\" cy=\"1440.93\" r=\"2\"/>\n",
       "<circle clip-path=\"url(#clip822)\" style=\"fill:#009af9; stroke:none; fill-opacity:0\" cx=\"1158.1\" cy=\"1440.3\" r=\"2\"/>\n",
       "<circle clip-path=\"url(#clip822)\" style=\"fill:#009af9; stroke:none; fill-opacity:0\" cx=\"1176.57\" cy=\"1440.85\" r=\"2\"/>\n",
       "<circle clip-path=\"url(#clip822)\" style=\"fill:#009af9; stroke:none; fill-opacity:0\" cx=\"1195.04\" cy=\"1440.26\" r=\"2\"/>\n",
       "<circle clip-path=\"url(#clip822)\" style=\"fill:#009af9; stroke:none; fill-opacity:0\" cx=\"1213.51\" cy=\"1440.15\" r=\"2\"/>\n",
       "<circle clip-path=\"url(#clip822)\" style=\"fill:#009af9; stroke:none; fill-opacity:0\" cx=\"1231.98\" cy=\"1439.85\" r=\"2\"/>\n",
       "<circle clip-path=\"url(#clip822)\" style=\"fill:#009af9; stroke:none; fill-opacity:0\" cx=\"1250.45\" cy=\"1440.2\" r=\"2\"/>\n",
       "<circle clip-path=\"url(#clip822)\" style=\"fill:#009af9; stroke:none; fill-opacity:0\" cx=\"1268.92\" cy=\"1438.64\" r=\"2\"/>\n",
       "<circle clip-path=\"url(#clip822)\" style=\"fill:#009af9; stroke:none; fill-opacity:0\" cx=\"1287.39\" cy=\"1437.43\" r=\"2\"/>\n",
       "<circle clip-path=\"url(#clip822)\" style=\"fill:#009af9; stroke:none; fill-opacity:0\" cx=\"1305.86\" cy=\"1437.45\" r=\"2\"/>\n",
       "<circle clip-path=\"url(#clip822)\" style=\"fill:#009af9; stroke:none; fill-opacity:0\" cx=\"1324.33\" cy=\"1436.01\" r=\"2\"/>\n",
       "<circle clip-path=\"url(#clip822)\" style=\"fill:#009af9; stroke:none; fill-opacity:0\" cx=\"1342.8\" cy=\"1436.99\" r=\"2\"/>\n",
       "<circle clip-path=\"url(#clip822)\" style=\"fill:#009af9; stroke:none; fill-opacity:0\" cx=\"1361.27\" cy=\"1433.83\" r=\"2\"/>\n",
       "<circle clip-path=\"url(#clip822)\" style=\"fill:#009af9; stroke:none; fill-opacity:0\" cx=\"1379.74\" cy=\"1434.84\" r=\"2\"/>\n",
       "<circle clip-path=\"url(#clip822)\" style=\"fill:#009af9; stroke:none; fill-opacity:0\" cx=\"1398.21\" cy=\"1434.14\" r=\"2\"/>\n",
       "<circle clip-path=\"url(#clip822)\" style=\"fill:#009af9; stroke:none; fill-opacity:0\" cx=\"1416.68\" cy=\"1433.67\" r=\"2\"/>\n",
       "<circle clip-path=\"url(#clip822)\" style=\"fill:#009af9; stroke:none; fill-opacity:0\" cx=\"1435.15\" cy=\"1432.75\" r=\"2\"/>\n",
       "<circle clip-path=\"url(#clip822)\" style=\"fill:#009af9; stroke:none; fill-opacity:0\" cx=\"1453.62\" cy=\"1431.27\" r=\"2\"/>\n",
       "<circle clip-path=\"url(#clip822)\" style=\"fill:#009af9; stroke:none; fill-opacity:0\" cx=\"1472.09\" cy=\"1428.36\" r=\"2\"/>\n",
       "<circle clip-path=\"url(#clip822)\" style=\"fill:#009af9; stroke:none; fill-opacity:0\" cx=\"1490.56\" cy=\"1427.74\" r=\"2\"/>\n",
       "<circle clip-path=\"url(#clip822)\" style=\"fill:#009af9; stroke:none; fill-opacity:0\" cx=\"1509.03\" cy=\"1428.05\" r=\"2\"/>\n",
       "<circle clip-path=\"url(#clip822)\" style=\"fill:#009af9; stroke:none; fill-opacity:0\" cx=\"1527.5\" cy=\"1424.01\" r=\"2\"/>\n",
       "<circle clip-path=\"url(#clip822)\" style=\"fill:#009af9; stroke:none; fill-opacity:0\" cx=\"1545.97\" cy=\"1424.74\" r=\"2\"/>\n",
       "<circle clip-path=\"url(#clip822)\" style=\"fill:#009af9; stroke:none; fill-opacity:0\" cx=\"1564.44\" cy=\"1421.6\" r=\"2\"/>\n",
       "<circle clip-path=\"url(#clip822)\" style=\"fill:#009af9; stroke:none; fill-opacity:0\" cx=\"1582.91\" cy=\"1420.68\" r=\"2\"/>\n",
       "<circle clip-path=\"url(#clip822)\" style=\"fill:#009af9; stroke:none; fill-opacity:0\" cx=\"1601.38\" cy=\"1417.99\" r=\"2\"/>\n",
       "<circle clip-path=\"url(#clip822)\" style=\"fill:#009af9; stroke:none; fill-opacity:0\" cx=\"1619.85\" cy=\"1413.38\" r=\"2\"/>\n",
       "<circle clip-path=\"url(#clip822)\" style=\"fill:#009af9; stroke:none; fill-opacity:0\" cx=\"1638.32\" cy=\"1413.66\" r=\"2\"/>\n",
       "<circle clip-path=\"url(#clip822)\" style=\"fill:#009af9; stroke:none; fill-opacity:0\" cx=\"1656.79\" cy=\"1409.11\" r=\"2\"/>\n",
       "<circle clip-path=\"url(#clip822)\" style=\"fill:#009af9; stroke:none; fill-opacity:0\" cx=\"1675.26\" cy=\"1406.05\" r=\"2\"/>\n",
       "<circle clip-path=\"url(#clip822)\" style=\"fill:#009af9; stroke:none; fill-opacity:0\" cx=\"1693.73\" cy=\"1405.66\" r=\"2\"/>\n",
       "<circle clip-path=\"url(#clip822)\" style=\"fill:#009af9; stroke:none; fill-opacity:0\" cx=\"1712.21\" cy=\"1402.73\" r=\"2\"/>\n",
       "<circle clip-path=\"url(#clip822)\" style=\"fill:#009af9; stroke:none; fill-opacity:0\" cx=\"1730.68\" cy=\"1398.03\" r=\"2\"/>\n",
       "<circle clip-path=\"url(#clip822)\" style=\"fill:#009af9; stroke:none; fill-opacity:0\" cx=\"1749.15\" cy=\"1391.36\" r=\"2\"/>\n",
       "<circle clip-path=\"url(#clip822)\" style=\"fill:#009af9; stroke:none; fill-opacity:0\" cx=\"1767.62\" cy=\"1388.44\" r=\"2\"/>\n",
       "<circle clip-path=\"url(#clip822)\" style=\"fill:#009af9; stroke:none; fill-opacity:0\" cx=\"1786.09\" cy=\"1382.88\" r=\"2\"/>\n",
       "<circle clip-path=\"url(#clip822)\" style=\"fill:#009af9; stroke:none; fill-opacity:0\" cx=\"1804.56\" cy=\"1378.76\" r=\"2\"/>\n",
       "<circle clip-path=\"url(#clip822)\" style=\"fill:#009af9; stroke:none; fill-opacity:0\" cx=\"1823.03\" cy=\"1378.68\" r=\"2\"/>\n",
       "<circle clip-path=\"url(#clip822)\" style=\"fill:#009af9; stroke:none; fill-opacity:0\" cx=\"1841.5\" cy=\"1375.8\" r=\"2\"/>\n",
       "<circle clip-path=\"url(#clip822)\" style=\"fill:#009af9; stroke:none; fill-opacity:0\" cx=\"1859.97\" cy=\"1372.11\" r=\"2\"/>\n",
       "<circle clip-path=\"url(#clip822)\" style=\"fill:#009af9; stroke:none; fill-opacity:0\" cx=\"1878.44\" cy=\"1362.94\" r=\"2\"/>\n",
       "<circle clip-path=\"url(#clip822)\" style=\"fill:#009af9; stroke:none; fill-opacity:0\" cx=\"1896.91\" cy=\"1355.86\" r=\"2\"/>\n",
       "<circle clip-path=\"url(#clip822)\" style=\"fill:#009af9; stroke:none; fill-opacity:0\" cx=\"1915.38\" cy=\"1362.16\" r=\"2\"/>\n",
       "<circle clip-path=\"url(#clip822)\" style=\"fill:#009af9; stroke:none; fill-opacity:0\" cx=\"1933.85\" cy=\"1357.44\" r=\"2\"/>\n",
       "<circle clip-path=\"url(#clip822)\" style=\"fill:#009af9; stroke:none; fill-opacity:0\" cx=\"1952.32\" cy=\"1355.74\" r=\"2\"/>\n",
       "<circle clip-path=\"url(#clip822)\" style=\"fill:#009af9; stroke:none; fill-opacity:0\" cx=\"1970.79\" cy=\"1357.27\" r=\"2\"/>\n",
       "<circle clip-path=\"url(#clip822)\" style=\"fill:#009af9; stroke:none; fill-opacity:0\" cx=\"1989.26\" cy=\"1352.15\" r=\"2\"/>\n",
       "<circle clip-path=\"url(#clip822)\" style=\"fill:#009af9; stroke:none; fill-opacity:0\" cx=\"2007.73\" cy=\"1355.57\" r=\"2\"/>\n",
       "<circle clip-path=\"url(#clip822)\" style=\"fill:#009af9; stroke:none; fill-opacity:0\" cx=\"2026.2\" cy=\"1356.35\" r=\"2\"/>\n",
       "<circle clip-path=\"url(#clip822)\" style=\"fill:#009af9; stroke:none; fill-opacity:0\" cx=\"2044.67\" cy=\"1360.48\" r=\"2\"/>\n",
       "<circle clip-path=\"url(#clip822)\" style=\"fill:#009af9; stroke:none; fill-opacity:0\" cx=\"2063.14\" cy=\"1363.55\" r=\"2\"/>\n",
       "<circle clip-path=\"url(#clip822)\" style=\"fill:#009af9; stroke:none; fill-opacity:0\" cx=\"2081.61\" cy=\"1353.54\" r=\"2\"/>\n",
       "<circle clip-path=\"url(#clip822)\" style=\"fill:#009af9; stroke:none; fill-opacity:0\" cx=\"2100.08\" cy=\"1347.53\" r=\"2\"/>\n",
       "<circle clip-path=\"url(#clip822)\" style=\"fill:#009af9; stroke:none; fill-opacity:0\" cx=\"2118.55\" cy=\"1366.59\" r=\"2\"/>\n",
       "<circle clip-path=\"url(#clip822)\" style=\"fill:#009af9; stroke:none; fill-opacity:0\" cx=\"2137.02\" cy=\"1390.74\" r=\"2\"/>\n",
       "<circle clip-path=\"url(#clip822)\" style=\"fill:#009af9; stroke:none; fill-opacity:0\" cx=\"2155.49\" cy=\"1412.74\" r=\"2\"/>\n",
       "<circle clip-path=\"url(#clip822)\" style=\"fill:#009af9; stroke:none; fill-opacity:0\" cx=\"2173.96\" cy=\"1416.58\" r=\"2\"/>\n",
       "<circle clip-path=\"url(#clip822)\" style=\"fill:#009af9; stroke:none; fill-opacity:0\" cx=\"2192.43\" cy=\"1443.91\" r=\"2\"/>\n",
       "<circle clip-path=\"url(#clip822)\" style=\"fill:#009af9; stroke:none; fill-opacity:0\" cx=\"2210.9\" cy=\"1445.72\" r=\"2\"/>\n",
       "<circle clip-path=\"url(#clip822)\" style=\"fill:#009af9; stroke:none; fill-opacity:0\" cx=\"2229.37\" cy=\"87.9763\" r=\"2\"/>\n",
       "<path clip-path=\"url(#clip820)\" d=\"\n",
       "M2000.56 198.898 L2283.58 198.898 L2283.58 95.2176 L2000.56 95.2176  Z\n",
       "  \" fill=\"#ffffff\" fill-rule=\"evenodd\" fill-opacity=\"1\"/>\n",
       "<polyline clip-path=\"url(#clip820)\" style=\"stroke:#000000; stroke-linecap:round; stroke-linejoin:round; stroke-width:4; stroke-opacity:1; fill:none\" points=\"\n",
       "  2000.56,198.898 2283.58,198.898 2283.58,95.2176 2000.56,95.2176 2000.56,198.898 \n",
       "  \"/>\n",
       "<path clip-path=\"url(#clip820)\" d=\"\n",
       "M2023.62 167.794 L2161.97 167.794 L2161.97 126.322 L2023.62 126.322 L2023.62 167.794  Z\n",
       "  \" fill=\"#009af9\" fill-rule=\"evenodd\" fill-opacity=\"1\"/>\n",
       "<polyline clip-path=\"url(#clip820)\" style=\"stroke:#000000; stroke-linecap:round; stroke-linejoin:round; stroke-width:4; stroke-opacity:1; fill:none\" points=\"\n",
       "  2023.62,167.794 2161.97,167.794 2161.97,126.322 2023.62,126.322 2023.62,167.794 \n",
       "  \"/>\n",
       "<path clip-path=\"url(#clip820)\" d=\"M2198.87 166.745 Q2197.07 171.375 2195.35 172.787 Q2193.64 174.199 2190.77 174.199 L2187.37 174.199 L2187.37 170.634 L2189.87 170.634 Q2191.63 170.634 2192.6 169.8 Q2193.57 168.967 2194.75 165.865 L2195.52 163.921 L2185.03 138.412 L2189.54 138.412 L2197.65 158.689 L2205.75 138.412 L2210.26 138.412 L2198.87 166.745 Z\" fill=\"#000000\" fill-rule=\"evenodd\" fill-opacity=\"1\" /><path clip-path=\"url(#clip820)\" d=\"M2217.55 160.402 L2225.19 160.402 L2225.19 134.037 L2216.88 135.703 L2216.88 131.444 L2225.15 129.778 L2229.82 129.778 L2229.82 160.402 L2237.46 160.402 L2237.46 164.338 L2217.55 164.338 L2217.55 160.402 Z\" fill=\"#000000\" fill-rule=\"evenodd\" fill-opacity=\"1\" /></svg>\n"
      ]
     },
     "execution_count": 59,
     "metadata": {},
     "output_type": "execute_result"
    }
   ],
   "source": [
    "histogram(vec_bs_results_hsqs)"
   ]
  },
  {
   "cell_type": "code",
   "execution_count": 60,
   "id": "7af66a02-b104-4b57-bff7-33684af047b1",
   "metadata": {},
   "outputs": [],
   "source": [
    "test_lods_K = scan_alt(reshape(pheno[:, 33], :, 1), geno, kinship; reml = false)[4];"
   ]
  },
  {
   "cell_type": "code",
   "execution_count": 61,
   "id": "afbb69d3-f0be-4e9a-bd4f-fc6e993ac568",
   "metadata": {},
   "outputs": [],
   "source": [
    "test_lods_KGc = scan_alt(reshape(pheno[:, 33], :, 1), geno, kinship_Gc; reml = false)[4];"
   ]
  },
  {
   "cell_type": "code",
   "execution_count": 62,
   "id": "9b27ca48-07af-4669-9888-750dd24d1a5b",
   "metadata": {},
   "outputs": [
    {
     "data": {
      "text/plain": [
       "1.2994834494907659"
      ]
     },
     "execution_count": 62,
     "metadata": {},
     "output_type": "execute_result"
    }
   ],
   "source": [
    "sumSqDiff(reshape(test_lods_KGc, :, 1), reshape(test_lods_K, :, 1))"
   ]
  },
  {
   "cell_type": "code",
   "execution_count": 63,
   "id": "929076f0-f09b-4e51-a8a1-cefa4220ad17",
   "metadata": {},
   "outputs": [
    {
     "data": {
      "text/plain": [
       "false"
      ]
     },
     "execution_count": 63,
     "metadata": {},
     "output_type": "execute_result"
    }
   ],
   "source": [
    "any(test_lods_KGc .< 0)"
   ]
  },
  {
   "cell_type": "code",
   "execution_count": 64,
   "id": "07ff3a79-279e-45bf-a912-b29a7a6cdb77",
   "metadata": {},
   "outputs": [
    {
     "data": {
      "text/plain": [
       "true"
      ]
     },
     "execution_count": 64,
     "metadata": {},
     "output_type": "execute_result"
    }
   ],
   "source": [
    "any(test_lods_K .< 0)"
   ]
  },
  {
   "cell_type": "code",
   "execution_count": 65,
   "id": "14e70620-4a61-4dec-995c-3e00906853e9",
   "metadata": {},
   "outputs": [
    {
     "data": {
      "text/plain": [
       "1.8515786307649385e-24"
      ]
     },
     "execution_count": 65,
     "metadata": {},
     "output_type": "execute_result"
    }
   ],
   "source": [
    "sumSqDiff(reshape(test_lods_KGc, :, 1), reshape(lods_from_alt[:, 33], :, 1))"
   ]
  },
  {
   "cell_type": "code",
   "execution_count": 66,
   "id": "789fc121-5e00-4587-8e05-0b501e181f0e",
   "metadata": {},
   "outputs": [
    {
     "data": {
      "text/plain": [
       "1.2994834494901637"
      ]
     },
     "execution_count": 66,
     "metadata": {},
     "output_type": "execute_result"
    }
   ],
   "source": [
    "sumSqDiff(reshape(test_lods_K, :, 1), reshape(lods_from_alt[:, 33], :, 1))"
   ]
  },
  {
   "cell_type": "code",
   "execution_count": 67,
   "id": "1f9c2cba-4c5d-4a30-b62e-232cbb07a500",
   "metadata": {},
   "outputs": [
    {
     "data": {
      "text/plain": [
       "true"
      ]
     },
     "execution_count": 67,
     "metadata": {},
     "output_type": "execute_result"
    }
   ],
   "source": [
    "any(lods_from_alt[:, 33] .< 0)"
   ]
  },
  {
   "cell_type": "code",
   "execution_count": 68,
   "id": "251208e5-d4d1-4dae-89fb-70785b3a0939",
   "metadata": {},
   "outputs": [
    {
     "data": {
      "text/plain": [
       "4-element Vector{Float64}:\n",
       " 2.8889603743499245e-13\n",
       " 2.8889603743499245e-13\n",
       " 2.736462543444906e-13\n",
       " 2.736462543444906e-13"
      ]
     },
     "execution_count": 68,
     "metadata": {},
     "output_type": "execute_result"
    }
   ],
   "source": [
    "bs_results_hsqs[1]"
   ]
  },
  {
   "cell_type": "code",
   "execution_count": 69,
   "id": "3f33eea4-ad15-4282-a5de-474b11789ab5",
   "metadata": {},
   "outputs": [
    {
     "data": {
      "text/plain": [
       "4-element Vector{Int64}:\n",
       " 853\n",
       " 854\n",
       " 855\n",
       " 856"
      ]
     },
     "execution_count": 69,
     "metadata": {},
     "output_type": "execute_result"
    }
   ],
   "source": [
    "bs_results_markers[1]"
   ]
  },
  {
   "cell_type": "code",
   "execution_count": 70,
   "id": "8e8b793e-c99c-4667-bd1b-502e70e74b9d",
   "metadata": {},
   "outputs": [
    {
     "data": {
      "text/plain": [
       "-6.1716957859410366e-15"
      ]
     },
     "execution_count": 70,
     "metadata": {},
     "output_type": "execute_result"
    }
   ],
   "source": [
    "test_lods_K[856]"
   ]
  },
  {
   "cell_type": "markdown",
   "id": "cf5f8c29-9eea-4626-a879-c7eaf14729e2",
   "metadata": {},
   "source": [
    "But, are they all very small (negative but very close to 0)?"
   ]
  },
  {
   "cell_type": "code",
   "execution_count": 71,
   "id": "2ad25abf-3399-4fea-93d1-2de84af681e5",
   "metadata": {},
   "outputs": [],
   "source": [
    "negativeLods = [];\n",
    "\n",
    "for j in 1:p\n",
    "    for i in 1:m\n",
    "        if lods_from_alt[j, i] < 0\n",
    "            append!(negativeLods, lods_from_alt[j, i]);\n",
    "        else\n",
    "            continue;\n",
    "        end\n",
    "    end\n",
    "end     "
   ]
  },
  {
   "cell_type": "code",
   "execution_count": 72,
   "id": "3bf6b5d2-8b6b-4f56-99cf-2564d859f232",
   "metadata": {},
   "outputs": [],
   "source": [
    "negativeLods_n1 = [];\n",
    "\n",
    "for j in 1:p\n",
    "    for i in 1:m\n",
    "        if lods_from_alt[j, i] < -1.0\n",
    "            append!(negativeLods_n1, lods_from_alt[j, i]);\n",
    "        else\n",
    "            continue;\n",
    "        end\n",
    "    end\n",
    "end  "
   ]
  },
  {
   "cell_type": "code",
   "execution_count": 73,
   "id": "9110c277-cc43-45c2-b86c-4e7338a36c03",
   "metadata": {},
   "outputs": [
    {
     "data": {
      "text/plain": [
       "187631"
      ]
     },
     "execution_count": 73,
     "metadata": {},
     "output_type": "execute_result"
    }
   ],
   "source": [
    "length(negativeLods)"
   ]
  },
  {
   "cell_type": "code",
   "execution_count": 74,
   "id": "6ce6ec44-b870-4766-954a-c3c772b7d4b2",
   "metadata": {},
   "outputs": [
    {
     "data": {
      "image/svg+xml": [
       "<?xml version=\"1.0\" encoding=\"utf-8\"?>\n",
       "<svg xmlns=\"http://www.w3.org/2000/svg\" xmlns:xlink=\"http://www.w3.org/1999/xlink\" width=\"600\" height=\"400\" viewBox=\"0 0 2400 1600\">\n",
       "<defs>\n",
       "  <clipPath id=\"clip860\">\n",
       "    <rect x=\"0\" y=\"0\" width=\"2400\" height=\"1600\"/>\n",
       "  </clipPath>\n",
       "</defs>\n",
       "<path clip-path=\"url(#clip860)\" d=\"\n",
       "M0 1600 L2400 1600 L2400 0 L0 0  Z\n",
       "  \" fill=\"#ffffff\" fill-rule=\"evenodd\" fill-opacity=\"1\"/>\n",
       "<defs>\n",
       "  <clipPath id=\"clip861\">\n",
       "    <rect x=\"480\" y=\"0\" width=\"1681\" height=\"1600\"/>\n",
       "  </clipPath>\n",
       "</defs>\n",
       "<path clip-path=\"url(#clip860)\" d=\"\n",
       "M277.431 1486.45 L2352.76 1486.45 L2352.76 47.2441 L277.431 47.2441  Z\n",
       "  \" fill=\"#ffffff\" fill-rule=\"evenodd\" fill-opacity=\"1\"/>\n",
       "<defs>\n",
       "  <clipPath id=\"clip862\">\n",
       "    <rect x=\"277\" y=\"47\" width=\"2076\" height=\"1440\"/>\n",
       "  </clipPath>\n",
       "</defs>\n",
       "<polyline clip-path=\"url(#clip862)\" style=\"stroke:#000000; stroke-linecap:round; stroke-linejoin:round; stroke-width:2; stroke-opacity:0.1; fill:none\" points=\"\n",
       "  294.365,1486.45 294.365,47.2441 \n",
       "  \"/>\n",
       "<polyline clip-path=\"url(#clip862)\" style=\"stroke:#000000; stroke-linecap:round; stroke-linejoin:round; stroke-width:2; stroke-opacity:0.1; fill:none\" points=\"\n",
       "  780.426,1486.45 780.426,47.2441 \n",
       "  \"/>\n",
       "<polyline clip-path=\"url(#clip862)\" style=\"stroke:#000000; stroke-linecap:round; stroke-linejoin:round; stroke-width:2; stroke-opacity:0.1; fill:none\" points=\"\n",
       "  1266.49,1486.45 1266.49,47.2441 \n",
       "  \"/>\n",
       "<polyline clip-path=\"url(#clip862)\" style=\"stroke:#000000; stroke-linecap:round; stroke-linejoin:round; stroke-width:2; stroke-opacity:0.1; fill:none\" points=\"\n",
       "  1752.55,1486.45 1752.55,47.2441 \n",
       "  \"/>\n",
       "<polyline clip-path=\"url(#clip862)\" style=\"stroke:#000000; stroke-linecap:round; stroke-linejoin:round; stroke-width:2; stroke-opacity:0.1; fill:none\" points=\"\n",
       "  2238.61,1486.45 2238.61,47.2441 \n",
       "  \"/>\n",
       "<polyline clip-path=\"url(#clip860)\" style=\"stroke:#000000; stroke-linecap:round; stroke-linejoin:round; stroke-width:4; stroke-opacity:1; fill:none\" points=\"\n",
       "  277.431,1486.45 2352.76,1486.45 \n",
       "  \"/>\n",
       "<polyline clip-path=\"url(#clip860)\" style=\"stroke:#000000; stroke-linecap:round; stroke-linejoin:round; stroke-width:4; stroke-opacity:1; fill:none\" points=\"\n",
       "  294.365,1486.45 294.365,1467.55 \n",
       "  \"/>\n",
       "<polyline clip-path=\"url(#clip860)\" style=\"stroke:#000000; stroke-linecap:round; stroke-linejoin:round; stroke-width:4; stroke-opacity:1; fill:none\" points=\"\n",
       "  780.426,1486.45 780.426,1467.55 \n",
       "  \"/>\n",
       "<polyline clip-path=\"url(#clip860)\" style=\"stroke:#000000; stroke-linecap:round; stroke-linejoin:round; stroke-width:4; stroke-opacity:1; fill:none\" points=\"\n",
       "  1266.49,1486.45 1266.49,1467.55 \n",
       "  \"/>\n",
       "<polyline clip-path=\"url(#clip860)\" style=\"stroke:#000000; stroke-linecap:round; stroke-linejoin:round; stroke-width:4; stroke-opacity:1; fill:none\" points=\"\n",
       "  1752.55,1486.45 1752.55,1467.55 \n",
       "  \"/>\n",
       "<polyline clip-path=\"url(#clip860)\" style=\"stroke:#000000; stroke-linecap:round; stroke-linejoin:round; stroke-width:4; stroke-opacity:1; fill:none\" points=\"\n",
       "  2238.61,1486.45 2238.61,1467.55 \n",
       "  \"/>\n",
       "<path clip-path=\"url(#clip860)\" d=\"M263.266 1532.02 L292.942 1532.02 L292.942 1535.95 L263.266 1535.95 L263.266 1532.02 Z\" fill=\"#000000\" fill-rule=\"evenodd\" fill-opacity=\"1\" /><path clip-path=\"url(#clip860)\" d=\"M315.881 1518.36 L304.076 1536.81 L315.881 1536.81 L315.881 1518.36 M314.655 1514.29 L320.534 1514.29 L320.534 1536.81 L325.465 1536.81 L325.465 1540.7 L320.534 1540.7 L320.534 1548.85 L315.881 1548.85 L315.881 1540.7 L300.28 1540.7 L300.28 1536.19 L314.655 1514.29 Z\" fill=\"#000000\" fill-rule=\"evenodd\" fill-opacity=\"1\" /><path clip-path=\"url(#clip860)\" d=\"M749.894 1532.02 L779.57 1532.02 L779.57 1535.95 L749.894 1535.95 L749.894 1532.02 Z\" fill=\"#000000\" fill-rule=\"evenodd\" fill-opacity=\"1\" /><path clip-path=\"url(#clip860)\" d=\"M803.829 1530.21 Q807.185 1530.93 809.06 1533.2 Q810.959 1535.47 810.959 1538.8 Q810.959 1543.92 807.44 1546.72 Q803.922 1549.52 797.44 1549.52 Q795.264 1549.52 792.949 1549.08 Q790.658 1548.66 788.204 1547.81 L788.204 1543.29 Q790.148 1544.43 792.463 1545.01 Q794.778 1545.58 797.301 1545.58 Q801.699 1545.58 803.991 1543.85 Q806.306 1542.11 806.306 1538.8 Q806.306 1535.75 804.153 1534.03 Q802.023 1532.3 798.204 1532.3 L794.176 1532.3 L794.176 1528.45 L798.389 1528.45 Q801.838 1528.45 803.667 1527.09 Q805.496 1525.7 805.496 1523.11 Q805.496 1520.45 803.597 1519.03 Q801.722 1517.6 798.204 1517.6 Q796.283 1517.6 794.084 1518.01 Q791.885 1518.43 789.246 1519.31 L789.246 1515.14 Q791.908 1514.4 794.223 1514.03 Q796.56 1513.66 798.621 1513.66 Q803.945 1513.66 807.047 1516.09 Q810.148 1518.5 810.148 1522.62 Q810.148 1525.49 808.505 1527.48 Q806.861 1529.45 803.829 1530.21 Z\" fill=\"#000000\" fill-rule=\"evenodd\" fill-opacity=\"1\" /><path clip-path=\"url(#clip860)\" d=\"M1236.43 1532.02 L1266.11 1532.02 L1266.11 1535.95 L1236.43 1535.95 L1236.43 1532.02 Z\" fill=\"#000000\" fill-rule=\"evenodd\" fill-opacity=\"1\" /><path clip-path=\"url(#clip860)\" d=\"M1280.23 1544.91 L1296.55 1544.91 L1296.55 1548.85 L1274.6 1548.85 L1274.6 1544.91 Q1277.26 1542.16 1281.85 1537.53 Q1286.45 1532.88 1287.63 1531.53 Q1289.88 1529.01 1290.76 1527.27 Q1291.66 1525.51 1291.66 1523.82 Q1291.66 1521.07 1289.72 1519.33 Q1287.8 1517.6 1284.69 1517.6 Q1282.49 1517.6 1280.04 1518.36 Q1277.61 1519.13 1274.83 1520.68 L1274.83 1515.95 Q1277.66 1514.82 1280.11 1514.24 Q1282.56 1513.66 1284.6 1513.66 Q1289.97 1513.66 1293.17 1516.35 Q1296.36 1519.03 1296.36 1523.52 Q1296.36 1525.65 1295.55 1527.57 Q1294.76 1529.47 1292.66 1532.07 Q1292.08 1532.74 1288.98 1535.95 Q1285.87 1539.15 1280.23 1544.91 Z\" fill=\"#000000\" fill-rule=\"evenodd\" fill-opacity=\"1\" /><path clip-path=\"url(#clip860)\" d=\"M1722.31 1532.02 L1751.98 1532.02 L1751.98 1535.95 L1722.31 1535.95 L1722.31 1532.02 Z\" fill=\"#000000\" fill-rule=\"evenodd\" fill-opacity=\"1\" /><path clip-path=\"url(#clip860)\" d=\"M1762.88 1544.91 L1770.52 1544.91 L1770.52 1518.55 L1762.21 1520.21 L1762.21 1515.95 L1770.48 1514.29 L1775.15 1514.29 L1775.15 1544.91 L1782.79 1544.91 L1782.79 1548.85 L1762.88 1548.85 L1762.88 1544.91 Z\" fill=\"#000000\" fill-rule=\"evenodd\" fill-opacity=\"1\" /><path clip-path=\"url(#clip860)\" d=\"M2238.61 1517.37 Q2235 1517.37 2233.17 1520.93 Q2231.36 1524.47 2231.36 1531.6 Q2231.36 1538.71 2233.17 1542.27 Q2235 1545.82 2238.61 1545.82 Q2242.24 1545.82 2244.05 1542.27 Q2245.88 1538.71 2245.88 1531.6 Q2245.88 1524.47 2244.05 1520.93 Q2242.24 1517.37 2238.61 1517.37 M2238.61 1513.66 Q2244.42 1513.66 2247.48 1518.27 Q2250.55 1522.85 2250.55 1531.6 Q2250.55 1540.33 2247.48 1544.94 Q2244.42 1549.52 2238.61 1549.52 Q2232.8 1549.52 2229.72 1544.94 Q2226.66 1540.33 2226.66 1531.6 Q2226.66 1522.85 2229.72 1518.27 Q2232.8 1513.66 2238.61 1513.66 Z\" fill=\"#000000\" fill-rule=\"evenodd\" fill-opacity=\"1\" /><polyline clip-path=\"url(#clip862)\" style=\"stroke:#000000; stroke-linecap:round; stroke-linejoin:round; stroke-width:2; stroke-opacity:0.1; fill:none\" points=\"\n",
       "  277.431,1445.72 2352.76,1445.72 \n",
       "  \"/>\n",
       "<polyline clip-path=\"url(#clip862)\" style=\"stroke:#000000; stroke-linecap:round; stroke-linejoin:round; stroke-width:2; stroke-opacity:0.1; fill:none\" points=\"\n",
       "  277.431,1220.72 2352.76,1220.72 \n",
       "  \"/>\n",
       "<polyline clip-path=\"url(#clip862)\" style=\"stroke:#000000; stroke-linecap:round; stroke-linejoin:round; stroke-width:2; stroke-opacity:0.1; fill:none\" points=\"\n",
       "  277.431,995.716 2352.76,995.716 \n",
       "  \"/>\n",
       "<polyline clip-path=\"url(#clip862)\" style=\"stroke:#000000; stroke-linecap:round; stroke-linejoin:round; stroke-width:2; stroke-opacity:0.1; fill:none\" points=\"\n",
       "  277.431,770.716 2352.76,770.716 \n",
       "  \"/>\n",
       "<polyline clip-path=\"url(#clip862)\" style=\"stroke:#000000; stroke-linecap:round; stroke-linejoin:round; stroke-width:2; stroke-opacity:0.1; fill:none\" points=\"\n",
       "  277.431,545.716 2352.76,545.716 \n",
       "  \"/>\n",
       "<polyline clip-path=\"url(#clip862)\" style=\"stroke:#000000; stroke-linecap:round; stroke-linejoin:round; stroke-width:2; stroke-opacity:0.1; fill:none\" points=\"\n",
       "  277.431,320.716 2352.76,320.716 \n",
       "  \"/>\n",
       "<polyline clip-path=\"url(#clip862)\" style=\"stroke:#000000; stroke-linecap:round; stroke-linejoin:round; stroke-width:2; stroke-opacity:0.1; fill:none\" points=\"\n",
       "  277.431,95.7163 2352.76,95.7163 \n",
       "  \"/>\n",
       "<polyline clip-path=\"url(#clip860)\" style=\"stroke:#000000; stroke-linecap:round; stroke-linejoin:round; stroke-width:4; stroke-opacity:1; fill:none\" points=\"\n",
       "  277.431,1486.45 277.431,47.2441 \n",
       "  \"/>\n",
       "<polyline clip-path=\"url(#clip860)\" style=\"stroke:#000000; stroke-linecap:round; stroke-linejoin:round; stroke-width:4; stroke-opacity:1; fill:none\" points=\"\n",
       "  277.431,1445.72 296.329,1445.72 \n",
       "  \"/>\n",
       "<polyline clip-path=\"url(#clip860)\" style=\"stroke:#000000; stroke-linecap:round; stroke-linejoin:round; stroke-width:4; stroke-opacity:1; fill:none\" points=\"\n",
       "  277.431,1220.72 296.329,1220.72 \n",
       "  \"/>\n",
       "<polyline clip-path=\"url(#clip860)\" style=\"stroke:#000000; stroke-linecap:round; stroke-linejoin:round; stroke-width:4; stroke-opacity:1; fill:none\" points=\"\n",
       "  277.431,995.716 296.329,995.716 \n",
       "  \"/>\n",
       "<polyline clip-path=\"url(#clip860)\" style=\"stroke:#000000; stroke-linecap:round; stroke-linejoin:round; stroke-width:4; stroke-opacity:1; fill:none\" points=\"\n",
       "  277.431,770.716 296.329,770.716 \n",
       "  \"/>\n",
       "<polyline clip-path=\"url(#clip860)\" style=\"stroke:#000000; stroke-linecap:round; stroke-linejoin:round; stroke-width:4; stroke-opacity:1; fill:none\" points=\"\n",
       "  277.431,545.716 296.329,545.716 \n",
       "  \"/>\n",
       "<polyline clip-path=\"url(#clip860)\" style=\"stroke:#000000; stroke-linecap:round; stroke-linejoin:round; stroke-width:4; stroke-opacity:1; fill:none\" points=\"\n",
       "  277.431,320.716 296.329,320.716 \n",
       "  \"/>\n",
       "<polyline clip-path=\"url(#clip860)\" style=\"stroke:#000000; stroke-linecap:round; stroke-linejoin:round; stroke-width:4; stroke-opacity:1; fill:none\" points=\"\n",
       "  277.431,95.7163 296.329,95.7163 \n",
       "  \"/>\n",
       "<path clip-path=\"url(#clip860)\" d=\"M229.487 1431.51 Q225.875 1431.51 224.047 1435.08 Q222.241 1438.62 222.241 1445.75 Q222.241 1452.86 224.047 1456.42 Q225.875 1459.96 229.487 1459.96 Q233.121 1459.96 234.926 1456.42 Q236.755 1452.86 236.755 1445.75 Q236.755 1438.62 234.926 1435.08 Q233.121 1431.51 229.487 1431.51 M229.487 1427.81 Q235.297 1427.81 238.352 1432.42 Q241.431 1437 241.431 1445.75 Q241.431 1454.48 238.352 1459.08 Q235.297 1463.67 229.487 1463.67 Q223.676 1463.67 220.598 1459.08 Q217.542 1454.48 217.542 1445.75 Q217.542 1437 220.598 1432.42 Q223.676 1427.81 229.487 1427.81 Z\" fill=\"#000000\" fill-rule=\"evenodd\" fill-opacity=\"1\" /><path clip-path=\"url(#clip860)\" d=\"M54.5569 1240.51 L62.1958 1240.51 L62.1958 1214.14 L53.8856 1215.81 L53.8856 1211.55 L62.1495 1209.88 L66.8254 1209.88 L66.8254 1240.51 L74.4642 1240.51 L74.4642 1244.44 L54.5569 1244.44 L54.5569 1240.51 Z\" fill=\"#000000\" fill-rule=\"evenodd\" fill-opacity=\"1\" /><path clip-path=\"url(#clip860)\" d=\"M83.9086 1238.56 L88.7928 1238.56 L88.7928 1244.44 L83.9086 1244.44 L83.9086 1238.56 Z\" fill=\"#000000\" fill-rule=\"evenodd\" fill-opacity=\"1\" /><path clip-path=\"url(#clip860)\" d=\"M108.978 1212.96 Q105.367 1212.96 103.538 1216.53 Q101.733 1220.07 101.733 1227.2 Q101.733 1234.3 103.538 1237.87 Q105.367 1241.41 108.978 1241.41 Q112.612 1241.41 114.418 1237.87 Q116.246 1234.3 116.246 1227.2 Q116.246 1220.07 114.418 1216.53 Q112.612 1212.96 108.978 1212.96 M108.978 1209.26 Q114.788 1209.26 117.844 1213.86 Q120.922 1218.45 120.922 1227.2 Q120.922 1235.92 117.844 1240.53 Q114.788 1245.11 108.978 1245.11 Q103.168 1245.11 100.089 1240.53 Q97.0335 1235.92 97.0335 1227.2 Q97.0335 1218.45 100.089 1213.86 Q103.168 1209.26 108.978 1209.26 Z\" fill=\"#000000\" fill-rule=\"evenodd\" fill-opacity=\"1\" /><path clip-path=\"url(#clip860)\" d=\"M157.311 1218.98 L146.732 1229.61 L157.311 1240.18 L154.556 1242.99 L143.931 1232.36 L133.306 1242.99 L130.575 1240.18 L141.131 1229.61 L130.575 1218.98 L133.306 1216.18 L143.931 1226.8 L154.556 1216.18 L157.311 1218.98 Z\" fill=\"#000000\" fill-rule=\"evenodd\" fill-opacity=\"1\" /><path clip-path=\"url(#clip860)\" d=\"M169.672 1240.51 L177.311 1240.51 L177.311 1214.14 L169.001 1215.81 L169.001 1211.55 L177.265 1209.88 L181.94 1209.88 L181.94 1240.51 L189.579 1240.51 L189.579 1244.44 L169.672 1244.44 L169.672 1240.51 Z\" fill=\"#000000\" fill-rule=\"evenodd\" fill-opacity=\"1\" /><path clip-path=\"url(#clip860)\" d=\"M209.024 1212.96 Q205.413 1212.96 203.584 1216.53 Q201.778 1220.07 201.778 1227.2 Q201.778 1234.3 203.584 1237.87 Q205.413 1241.41 209.024 1241.41 Q212.658 1241.41 214.463 1237.87 Q216.292 1234.3 216.292 1227.2 Q216.292 1220.07 214.463 1216.53 Q212.658 1212.96 209.024 1212.96 M209.024 1209.26 Q214.834 1209.26 217.889 1213.86 Q220.968 1218.45 220.968 1227.2 Q220.968 1235.92 217.889 1240.53 Q214.834 1245.11 209.024 1245.11 Q203.214 1245.11 200.135 1240.53 Q197.079 1235.92 197.079 1227.2 Q197.079 1218.45 200.135 1213.86 Q203.214 1209.26 209.024 1209.26 Z\" fill=\"#000000\" fill-rule=\"evenodd\" fill-opacity=\"1\" /><path clip-path=\"url(#clip860)\" d=\"M233.645 1192.26 L224.053 1207.25 L233.645 1207.25 L233.645 1192.26 M232.648 1188.95 L237.425 1188.95 L237.425 1207.25 L241.431 1207.25 L241.431 1210.41 L237.425 1210.41 L237.425 1217.03 L233.645 1217.03 L233.645 1210.41 L220.968 1210.41 L220.968 1206.75 L232.648 1188.95 Z\" fill=\"#000000\" fill-rule=\"evenodd\" fill-opacity=\"1\" /><path clip-path=\"url(#clip860)\" d=\"M57.7745 1015.51 L74.0939 1015.51 L74.0939 1019.44 L52.1495 1019.44 L52.1495 1015.51 Q54.8115 1012.75 59.3949 1008.12 Q64.0013 1003.47 65.1819 1002.13 Q67.4272 999.606 68.3068 997.87 Q69.2096 996.11 69.2096 994.42 Q69.2096 991.666 67.2652 989.93 Q65.3439 988.194 62.2421 988.194 Q60.043 988.194 57.5893 988.958 Q55.1588 989.721 52.381 991.272 L52.381 986.55 Q55.2051 985.416 57.6588 984.837 Q60.1124 984.258 62.1495 984.258 Q67.5198 984.258 70.7142 986.944 Q73.9087 989.629 73.9087 994.12 Q73.9087 996.249 73.0985 998.17 Q72.3115 1000.07 70.205 1002.66 Q69.6263 1003.33 66.5245 1006.55 Q63.4226 1009.74 57.7745 1015.51 Z\" fill=\"#000000\" fill-rule=\"evenodd\" fill-opacity=\"1\" /><path clip-path=\"url(#clip860)\" d=\"M83.9086 1013.56 L88.7928 1013.56 L88.7928 1019.44 L83.9086 1019.44 L83.9086 1013.56 Z\" fill=\"#000000\" fill-rule=\"evenodd\" fill-opacity=\"1\" /><path clip-path=\"url(#clip860)\" d=\"M108.978 987.962 Q105.367 987.962 103.538 991.527 Q101.733 995.069 101.733 1002.2 Q101.733 1009.3 103.538 1012.87 Q105.367 1016.41 108.978 1016.41 Q112.612 1016.41 114.418 1012.87 Q116.246 1009.3 116.246 1002.2 Q116.246 995.069 114.418 991.527 Q112.612 987.962 108.978 987.962 M108.978 984.258 Q114.788 984.258 117.844 988.865 Q120.922 993.448 120.922 1002.2 Q120.922 1010.93 117.844 1015.53 Q114.788 1020.11 108.978 1020.11 Q103.168 1020.11 100.089 1015.53 Q97.0335 1010.93 97.0335 1002.2 Q97.0335 993.448 100.089 988.865 Q103.168 984.258 108.978 984.258 Z\" fill=\"#000000\" fill-rule=\"evenodd\" fill-opacity=\"1\" /><path clip-path=\"url(#clip860)\" d=\"M157.311 993.981 L146.732 1004.61 L157.311 1015.18 L154.556 1017.99 L143.931 1007.36 L133.306 1017.99 L130.575 1015.18 L141.131 1004.61 L130.575 993.981 L133.306 991.18 L143.931 1001.8 L154.556 991.18 L157.311 993.981 Z\" fill=\"#000000\" fill-rule=\"evenodd\" fill-opacity=\"1\" /><path clip-path=\"url(#clip860)\" d=\"M169.672 1015.51 L177.311 1015.51 L177.311 989.143 L169.001 990.809 L169.001 986.55 L177.265 984.883 L181.94 984.883 L181.94 1015.51 L189.579 1015.51 L189.579 1019.44 L169.672 1019.44 L169.672 1015.51 Z\" fill=\"#000000\" fill-rule=\"evenodd\" fill-opacity=\"1\" /><path clip-path=\"url(#clip860)\" d=\"M209.024 987.962 Q205.413 987.962 203.584 991.527 Q201.778 995.069 201.778 1002.2 Q201.778 1009.3 203.584 1012.87 Q205.413 1016.41 209.024 1016.41 Q212.658 1016.41 214.463 1012.87 Q216.292 1009.3 216.292 1002.2 Q216.292 995.069 214.463 991.527 Q212.658 987.962 209.024 987.962 M209.024 984.258 Q214.834 984.258 217.889 988.865 Q220.968 993.448 220.968 1002.2 Q220.968 1010.93 217.889 1015.53 Q214.834 1020.11 209.024 1020.11 Q203.214 1020.11 200.135 1015.53 Q197.079 1010.93 197.079 1002.2 Q197.079 993.448 200.135 988.865 Q203.214 984.258 209.024 984.258 Z\" fill=\"#000000\" fill-rule=\"evenodd\" fill-opacity=\"1\" /><path clip-path=\"url(#clip860)\" d=\"M233.645 967.263 L224.053 982.253 L233.645 982.253 L233.645 967.263 M232.648 963.953 L237.425 963.953 L237.425 982.253 L241.431 982.253 L241.431 985.413 L237.425 985.413 L237.425 992.033 L233.645 992.033 L233.645 985.413 L220.968 985.413 L220.968 981.745 L232.648 963.953 Z\" fill=\"#000000\" fill-rule=\"evenodd\" fill-opacity=\"1\" /><path clip-path=\"url(#clip860)\" d=\"M67.9133 775.809 Q71.2698 776.527 73.1448 778.796 Q75.0429 781.064 75.0429 784.397 Q75.0429 789.513 71.5244 792.314 Q68.0059 795.115 61.5245 795.115 Q59.3486 795.115 57.0338 794.675 Q54.7421 794.258 52.2884 793.402 L52.2884 788.888 Q54.2328 790.022 56.5477 790.601 Q58.8625 791.18 61.3856 791.18 Q65.7837 791.18 68.0754 789.444 Q70.3902 787.708 70.3902 784.397 Q70.3902 781.342 68.2374 779.629 Q66.1078 777.893 62.2884 777.893 L58.2606 777.893 L58.2606 774.05 L62.4735 774.05 Q65.9226 774.05 67.7513 772.684 Q69.58 771.296 69.58 768.703 Q69.58 766.041 67.6819 764.629 Q65.8069 763.194 62.2884 763.194 Q60.3671 763.194 58.168 763.61 Q55.969 764.027 53.3301 764.907 L53.3301 760.74 Q55.9921 759.999 58.3069 759.629 Q60.6449 759.259 62.705 759.259 Q68.0291 759.259 71.1309 761.689 Q74.2327 764.097 74.2327 768.217 Q74.2327 771.087 72.5892 773.078 Q70.9457 775.046 67.9133 775.809 Z\" fill=\"#000000\" fill-rule=\"evenodd\" fill-opacity=\"1\" /><path clip-path=\"url(#clip860)\" d=\"M83.9086 788.564 L88.7928 788.564 L88.7928 794.444 L83.9086 794.444 L83.9086 788.564 Z\" fill=\"#000000\" fill-rule=\"evenodd\" fill-opacity=\"1\" /><path clip-path=\"url(#clip860)\" d=\"M108.978 762.962 Q105.367 762.962 103.538 766.527 Q101.733 770.069 101.733 777.198 Q101.733 784.305 103.538 787.87 Q105.367 791.411 108.978 791.411 Q112.612 791.411 114.418 787.87 Q116.246 784.305 116.246 777.198 Q116.246 770.069 114.418 766.527 Q112.612 762.962 108.978 762.962 M108.978 759.259 Q114.788 759.259 117.844 763.865 Q120.922 768.448 120.922 777.198 Q120.922 785.925 117.844 790.532 Q114.788 795.115 108.978 795.115 Q103.168 795.115 100.089 790.532 Q97.0335 785.925 97.0335 777.198 Q97.0335 768.448 100.089 763.865 Q103.168 759.259 108.978 759.259 Z\" fill=\"#000000\" fill-rule=\"evenodd\" fill-opacity=\"1\" /><path clip-path=\"url(#clip860)\" d=\"M157.311 768.981 L146.732 779.606 L157.311 790.184 L154.556 792.985 L143.931 782.36 L133.306 792.985 L130.575 790.184 L141.131 779.606 L130.575 768.981 L133.306 766.18 L143.931 776.805 L154.556 766.18 L157.311 768.981 Z\" fill=\"#000000\" fill-rule=\"evenodd\" fill-opacity=\"1\" /><path clip-path=\"url(#clip860)\" d=\"M169.672 790.508 L177.311 790.508 L177.311 764.143 L169.001 765.809 L169.001 761.55 L177.265 759.884 L181.94 759.884 L181.94 790.508 L189.579 790.508 L189.579 794.444 L169.672 794.444 L169.672 790.508 Z\" fill=\"#000000\" fill-rule=\"evenodd\" fill-opacity=\"1\" /><path clip-path=\"url(#clip860)\" d=\"M209.024 762.962 Q205.413 762.962 203.584 766.527 Q201.778 770.069 201.778 777.198 Q201.778 784.305 203.584 787.87 Q205.413 791.411 209.024 791.411 Q212.658 791.411 214.463 787.87 Q216.292 784.305 216.292 777.198 Q216.292 770.069 214.463 766.527 Q212.658 762.962 209.024 762.962 M209.024 759.259 Q214.834 759.259 217.889 763.865 Q220.968 768.448 220.968 777.198 Q220.968 785.925 217.889 790.532 Q214.834 795.115 209.024 795.115 Q203.214 795.115 200.135 790.532 Q197.079 785.925 197.079 777.198 Q197.079 768.448 200.135 763.865 Q203.214 759.259 209.024 759.259 Z\" fill=\"#000000\" fill-rule=\"evenodd\" fill-opacity=\"1\" /><path clip-path=\"url(#clip860)\" d=\"M233.645 742.263 L224.053 757.253 L233.645 757.253 L233.645 742.263 M232.648 738.953 L237.425 738.953 L237.425 757.253 L241.431 757.253 L241.431 760.413 L237.425 760.413 L237.425 767.033 L233.645 767.033 L233.645 760.413 L220.968 760.413 L220.968 756.745 L232.648 738.953 Z\" fill=\"#000000\" fill-rule=\"evenodd\" fill-opacity=\"1\" /><path clip-path=\"url(#clip860)\" d=\"M66.5939 538.958 L54.7884 557.407 L66.5939 557.407 L66.5939 538.958 M65.367 534.884 L71.2466 534.884 L71.2466 557.407 L76.1772 557.407 L76.1772 561.296 L71.2466 561.296 L71.2466 569.444 L66.5939 569.444 L66.5939 561.296 L50.9921 561.296 L50.9921 556.782 L65.367 534.884 Z\" fill=\"#000000\" fill-rule=\"evenodd\" fill-opacity=\"1\" /><path clip-path=\"url(#clip860)\" d=\"M83.9086 563.564 L88.7928 563.564 L88.7928 569.444 L83.9086 569.444 L83.9086 563.564 Z\" fill=\"#000000\" fill-rule=\"evenodd\" fill-opacity=\"1\" /><path clip-path=\"url(#clip860)\" d=\"M108.978 537.962 Q105.367 537.962 103.538 541.527 Q101.733 545.069 101.733 552.198 Q101.733 559.305 103.538 562.87 Q105.367 566.411 108.978 566.411 Q112.612 566.411 114.418 562.87 Q116.246 559.305 116.246 552.198 Q116.246 545.069 114.418 541.527 Q112.612 537.962 108.978 537.962 M108.978 534.259 Q114.788 534.259 117.844 538.865 Q120.922 543.448 120.922 552.198 Q120.922 560.925 117.844 565.532 Q114.788 570.115 108.978 570.115 Q103.168 570.115 100.089 565.532 Q97.0335 560.925 97.0335 552.198 Q97.0335 543.448 100.089 538.865 Q103.168 534.259 108.978 534.259 Z\" fill=\"#000000\" fill-rule=\"evenodd\" fill-opacity=\"1\" /><path clip-path=\"url(#clip860)\" d=\"M157.311 543.981 L146.732 554.606 L157.311 565.184 L154.556 567.985 L143.931 557.36 L133.306 567.985 L130.575 565.184 L141.131 554.606 L130.575 543.981 L133.306 541.18 L143.931 551.805 L154.556 541.18 L157.311 543.981 Z\" fill=\"#000000\" fill-rule=\"evenodd\" fill-opacity=\"1\" /><path clip-path=\"url(#clip860)\" d=\"M169.672 565.509 L177.311 565.509 L177.311 539.143 L169.001 540.81 L169.001 536.55 L177.265 534.884 L181.94 534.884 L181.94 565.509 L189.579 565.509 L189.579 569.444 L169.672 569.444 L169.672 565.509 Z\" fill=\"#000000\" fill-rule=\"evenodd\" fill-opacity=\"1\" /><path clip-path=\"url(#clip860)\" d=\"M209.024 537.962 Q205.413 537.962 203.584 541.527 Q201.778 545.069 201.778 552.198 Q201.778 559.305 203.584 562.87 Q205.413 566.411 209.024 566.411 Q212.658 566.411 214.463 562.87 Q216.292 559.305 216.292 552.198 Q216.292 545.069 214.463 541.527 Q212.658 537.962 209.024 537.962 M209.024 534.259 Q214.834 534.259 217.889 538.865 Q220.968 543.448 220.968 552.198 Q220.968 560.925 217.889 565.532 Q214.834 570.115 209.024 570.115 Q203.214 570.115 200.135 565.532 Q197.079 560.925 197.079 552.198 Q197.079 543.448 200.135 538.865 Q203.214 534.259 209.024 534.259 Z\" fill=\"#000000\" fill-rule=\"evenodd\" fill-opacity=\"1\" /><path clip-path=\"url(#clip860)\" d=\"M233.645 517.263 L224.053 532.253 L233.645 532.253 L233.645 517.263 M232.648 513.953 L237.425 513.953 L237.425 532.253 L241.431 532.253 L241.431 535.413 L237.425 535.413 L237.425 542.033 L233.645 542.033 L233.645 535.413 L220.968 535.413 L220.968 531.745 L232.648 513.953 Z\" fill=\"#000000\" fill-rule=\"evenodd\" fill-opacity=\"1\" /><path clip-path=\"url(#clip860)\" d=\"M53.793 309.884 L72.1494 309.884 L72.1494 313.819 L58.0754 313.819 L58.0754 322.291 Q59.0939 321.944 60.1124 321.782 Q61.131 321.597 62.1495 321.597 Q67.9365 321.597 71.3161 324.768 Q74.6957 327.939 74.6957 333.356 Q74.6957 338.935 71.2235 342.036 Q67.7513 345.115 61.4319 345.115 Q59.256 345.115 56.9875 344.745 Q54.7421 344.374 52.3347 343.634 L52.3347 338.935 Q54.418 340.069 56.6402 340.624 Q58.8625 341.18 61.3393 341.18 Q65.3439 341.18 67.6819 339.073 Q70.0198 336.967 70.0198 333.356 Q70.0198 329.745 67.6819 327.638 Q65.3439 325.532 61.3393 325.532 Q59.4643 325.532 57.5893 325.949 Q55.7375 326.365 53.793 327.245 L53.793 309.884 Z\" fill=\"#000000\" fill-rule=\"evenodd\" fill-opacity=\"1\" /><path clip-path=\"url(#clip860)\" d=\"M83.9086 338.564 L88.7928 338.564 L88.7928 344.444 L83.9086 344.444 L83.9086 338.564 Z\" fill=\"#000000\" fill-rule=\"evenodd\" fill-opacity=\"1\" /><path clip-path=\"url(#clip860)\" d=\"M108.978 312.962 Q105.367 312.962 103.538 316.527 Q101.733 320.069 101.733 327.198 Q101.733 334.305 103.538 337.87 Q105.367 341.411 108.978 341.411 Q112.612 341.411 114.418 337.87 Q116.246 334.305 116.246 327.198 Q116.246 320.069 114.418 316.527 Q112.612 312.962 108.978 312.962 M108.978 309.259 Q114.788 309.259 117.844 313.865 Q120.922 318.449 120.922 327.198 Q120.922 335.925 117.844 340.532 Q114.788 345.115 108.978 345.115 Q103.168 345.115 100.089 340.532 Q97.0335 335.925 97.0335 327.198 Q97.0335 318.449 100.089 313.865 Q103.168 309.259 108.978 309.259 Z\" fill=\"#000000\" fill-rule=\"evenodd\" fill-opacity=\"1\" /><path clip-path=\"url(#clip860)\" d=\"M157.311 318.981 L146.732 329.606 L157.311 340.185 L154.556 342.985 L143.931 332.361 L133.306 342.985 L130.575 340.185 L141.131 329.606 L130.575 318.981 L133.306 316.18 L143.931 326.805 L154.556 316.18 L157.311 318.981 Z\" fill=\"#000000\" fill-rule=\"evenodd\" fill-opacity=\"1\" /><path clip-path=\"url(#clip860)\" d=\"M169.672 340.509 L177.311 340.509 L177.311 314.143 L169.001 315.81 L169.001 311.55 L177.265 309.884 L181.94 309.884 L181.94 340.509 L189.579 340.509 L189.579 344.444 L169.672 344.444 L169.672 340.509 Z\" fill=\"#000000\" fill-rule=\"evenodd\" fill-opacity=\"1\" /><path clip-path=\"url(#clip860)\" d=\"M209.024 312.962 Q205.413 312.962 203.584 316.527 Q201.778 320.069 201.778 327.198 Q201.778 334.305 203.584 337.87 Q205.413 341.411 209.024 341.411 Q212.658 341.411 214.463 337.87 Q216.292 334.305 216.292 327.198 Q216.292 320.069 214.463 316.527 Q212.658 312.962 209.024 312.962 M209.024 309.259 Q214.834 309.259 217.889 313.865 Q220.968 318.449 220.968 327.198 Q220.968 335.925 217.889 340.532 Q214.834 345.115 209.024 345.115 Q203.214 345.115 200.135 340.532 Q197.079 335.925 197.079 327.198 Q197.079 318.449 200.135 313.865 Q203.214 309.259 209.024 309.259 Z\" fill=\"#000000\" fill-rule=\"evenodd\" fill-opacity=\"1\" /><path clip-path=\"url(#clip860)\" d=\"M233.645 292.264 L224.053 307.253 L233.645 307.253 L233.645 292.264 M232.648 288.953 L237.425 288.953 L237.425 307.253 L241.431 307.253 L241.431 310.413 L237.425 310.413 L237.425 317.033 L233.645 317.033 L233.645 310.413 L220.968 310.413 L220.968 306.746 L232.648 288.953 Z\" fill=\"#000000\" fill-rule=\"evenodd\" fill-opacity=\"1\" /><path clip-path=\"url(#clip860)\" d=\"M64.3254 100.3 Q61.1773 100.3 59.3254 102.453 Q57.4967 104.606 57.4967 108.356 Q57.4967 112.083 59.3254 114.259 Q61.1773 116.411 64.3254 116.411 Q67.4735 116.411 69.3022 114.259 Q71.1541 112.083 71.1541 108.356 Q71.1541 104.606 69.3022 102.453 Q67.4735 100.3 64.3254 100.3 M73.6077 85.6478 L73.6077 89.907 Q71.8485 89.0737 70.0429 88.6339 Q68.2606 88.194 66.5013 88.194 Q61.8717 88.194 59.418 91.319 Q56.9875 94.444 56.6402 100.763 Q58.006 98.7495 60.0662 97.6847 Q62.1263 96.5968 64.6032 96.5968 Q69.8115 96.5968 72.8207 99.7681 Q75.8531 102.916 75.8531 108.356 Q75.8531 113.68 72.705 116.898 Q69.5568 120.115 64.3254 120.115 Q58.33 120.115 55.1588 115.532 Q51.9875 110.925 51.9875 102.199 Q51.9875 94.0042 55.8764 89.1431 Q59.7652 84.2589 66.3161 84.2589 Q68.0754 84.2589 69.8578 84.6061 Q71.6633 84.9533 73.6077 85.6478 Z\" fill=\"#000000\" fill-rule=\"evenodd\" fill-opacity=\"1\" /><path clip-path=\"url(#clip860)\" d=\"M83.9086 113.564 L88.7928 113.564 L88.7928 119.444 L83.9086 119.444 L83.9086 113.564 Z\" fill=\"#000000\" fill-rule=\"evenodd\" fill-opacity=\"1\" /><path clip-path=\"url(#clip860)\" d=\"M108.978 87.9626 Q105.367 87.9626 103.538 91.5274 Q101.733 95.069 101.733 102.199 Q101.733 109.305 103.538 112.87 Q105.367 116.411 108.978 116.411 Q112.612 116.411 114.418 112.87 Q116.246 109.305 116.246 102.199 Q116.246 95.069 114.418 91.5274 Q112.612 87.9626 108.978 87.9626 M108.978 84.2589 Q114.788 84.2589 117.844 88.8653 Q120.922 93.4486 120.922 102.199 Q120.922 110.925 117.844 115.532 Q114.788 120.115 108.978 120.115 Q103.168 120.115 100.089 115.532 Q97.0335 110.925 97.0335 102.199 Q97.0335 93.4486 100.089 88.8653 Q103.168 84.2589 108.978 84.2589 Z\" fill=\"#000000\" fill-rule=\"evenodd\" fill-opacity=\"1\" /><path clip-path=\"url(#clip860)\" d=\"M157.311 93.981 L146.732 104.606 L157.311 115.185 L154.556 117.986 L143.931 107.361 L133.306 117.986 L130.575 115.185 L141.131 104.606 L130.575 93.981 L133.306 91.1801 L143.931 101.805 L154.556 91.1801 L157.311 93.981 Z\" fill=\"#000000\" fill-rule=\"evenodd\" fill-opacity=\"1\" /><path clip-path=\"url(#clip860)\" d=\"M169.672 115.509 L177.311 115.509 L177.311 89.1431 L169.001 90.8098 L169.001 86.5505 L177.265 84.8839 L181.94 84.8839 L181.94 115.509 L189.579 115.509 L189.579 119.444 L169.672 119.444 L169.672 115.509 Z\" fill=\"#000000\" fill-rule=\"evenodd\" fill-opacity=\"1\" /><path clip-path=\"url(#clip860)\" d=\"M209.024 87.9626 Q205.413 87.9626 203.584 91.5274 Q201.778 95.069 201.778 102.199 Q201.778 109.305 203.584 112.87 Q205.413 116.411 209.024 116.411 Q212.658 116.411 214.463 112.87 Q216.292 109.305 216.292 102.199 Q216.292 95.069 214.463 91.5274 Q212.658 87.9626 209.024 87.9626 M209.024 84.2589 Q214.834 84.2589 217.889 88.8653 Q220.968 93.4486 220.968 102.199 Q220.968 110.925 217.889 115.532 Q214.834 120.115 209.024 120.115 Q203.214 120.115 200.135 115.532 Q197.079 110.925 197.079 102.199 Q197.079 93.4486 200.135 88.8653 Q203.214 84.2589 209.024 84.2589 Z\" fill=\"#000000\" fill-rule=\"evenodd\" fill-opacity=\"1\" /><path clip-path=\"url(#clip860)\" d=\"M233.645 67.2636 L224.053 82.2534 L233.645 82.2534 L233.645 67.2636 M232.648 63.9535 L237.425 63.9535 L237.425 82.2534 L241.431 82.2534 L241.431 85.4131 L237.425 85.4131 L237.425 92.0335 L233.645 92.0335 L233.645 85.4131 L220.968 85.4131 L220.968 81.7456 L232.648 63.9535 Z\" fill=\"#000000\" fill-rule=\"evenodd\" fill-opacity=\"1\" /><path clip-path=\"url(#clip862)\" d=\"\n",
       "M391.577 1444.16 L391.577 1445.72 L440.184 1445.72 L440.184 1444.16 L391.577 1444.16 L391.577 1444.16  Z\n",
       "  \" fill=\"#009af9\" fill-rule=\"evenodd\" fill-opacity=\"1\"/>\n",
       "<polyline clip-path=\"url(#clip862)\" style=\"stroke:#000000; stroke-linecap:round; stroke-linejoin:round; stroke-width:4; stroke-opacity:1; fill:none\" points=\"\n",
       "  391.577,1444.16 391.577,1445.72 440.184,1445.72 440.184,1444.16 391.577,1444.16 \n",
       "  \"/>\n",
       "<path clip-path=\"url(#clip862)\" d=\"\n",
       "M440.184 1443.06 L440.184 1445.72 L488.79 1445.72 L488.79 1443.06 L440.184 1443.06 L440.184 1443.06  Z\n",
       "  \" fill=\"#009af9\" fill-rule=\"evenodd\" fill-opacity=\"1\"/>\n",
       "<polyline clip-path=\"url(#clip862)\" style=\"stroke:#000000; stroke-linecap:round; stroke-linejoin:round; stroke-width:4; stroke-opacity:1; fill:none\" points=\"\n",
       "  440.184,1443.06 440.184,1445.72 488.79,1445.72 488.79,1443.06 440.184,1443.06 \n",
       "  \"/>\n",
       "<path clip-path=\"url(#clip862)\" d=\"\n",
       "M488.79 1442.68 L488.79 1445.72 L537.396 1445.72 L537.396 1442.68 L488.79 1442.68 L488.79 1442.68  Z\n",
       "  \" fill=\"#009af9\" fill-rule=\"evenodd\" fill-opacity=\"1\"/>\n",
       "<polyline clip-path=\"url(#clip862)\" style=\"stroke:#000000; stroke-linecap:round; stroke-linejoin:round; stroke-width:4; stroke-opacity:1; fill:none\" points=\"\n",
       "  488.79,1442.68 488.79,1445.72 537.396,1445.72 537.396,1442.68 488.79,1442.68 \n",
       "  \"/>\n",
       "<path clip-path=\"url(#clip862)\" d=\"\n",
       "M537.396 1443.56 L537.396 1445.72 L586.002 1445.72 L586.002 1443.56 L537.396 1443.56 L537.396 1443.56  Z\n",
       "  \" fill=\"#009af9\" fill-rule=\"evenodd\" fill-opacity=\"1\"/>\n",
       "<polyline clip-path=\"url(#clip862)\" style=\"stroke:#000000; stroke-linecap:round; stroke-linejoin:round; stroke-width:4; stroke-opacity:1; fill:none\" points=\"\n",
       "  537.396,1443.56 537.396,1445.72 586.002,1445.72 586.002,1443.56 537.396,1443.56 \n",
       "  \"/>\n",
       "<path clip-path=\"url(#clip862)\" d=\"\n",
       "M586.002 1437.95 L586.002 1445.72 L634.608 1445.72 L634.608 1437.95 L586.002 1437.95 L586.002 1437.95  Z\n",
       "  \" fill=\"#009af9\" fill-rule=\"evenodd\" fill-opacity=\"1\"/>\n",
       "<polyline clip-path=\"url(#clip862)\" style=\"stroke:#000000; stroke-linecap:round; stroke-linejoin:round; stroke-width:4; stroke-opacity:1; fill:none\" points=\"\n",
       "  586.002,1437.95 586.002,1445.72 634.608,1445.72 634.608,1437.95 586.002,1437.95 \n",
       "  \"/>\n",
       "<path clip-path=\"url(#clip862)\" d=\"\n",
       "M634.608 1430.39 L634.608 1445.72 L683.214 1445.72 L683.214 1430.39 L634.608 1430.39 L634.608 1430.39  Z\n",
       "  \" fill=\"#009af9\" fill-rule=\"evenodd\" fill-opacity=\"1\"/>\n",
       "<polyline clip-path=\"url(#clip862)\" style=\"stroke:#000000; stroke-linecap:round; stroke-linejoin:round; stroke-width:4; stroke-opacity:1; fill:none\" points=\"\n",
       "  634.608,1430.39 634.608,1445.72 683.214,1445.72 683.214,1430.39 634.608,1430.39 \n",
       "  \"/>\n",
       "<path clip-path=\"url(#clip862)\" d=\"\n",
       "M683.214 1376.8 L683.214 1445.72 L731.82 1445.72 L731.82 1376.8 L683.214 1376.8 L683.214 1376.8  Z\n",
       "  \" fill=\"#009af9\" fill-rule=\"evenodd\" fill-opacity=\"1\"/>\n",
       "<polyline clip-path=\"url(#clip862)\" style=\"stroke:#000000; stroke-linecap:round; stroke-linejoin:round; stroke-width:4; stroke-opacity:1; fill:none\" points=\"\n",
       "  683.214,1376.8 683.214,1445.72 731.82,1445.72 731.82,1376.8 683.214,1376.8 \n",
       "  \"/>\n",
       "<path clip-path=\"url(#clip862)\" d=\"\n",
       "M731.82 1327.19 L731.82 1445.72 L780.426 1445.72 L780.426 1327.19 L731.82 1327.19 L731.82 1327.19  Z\n",
       "  \" fill=\"#009af9\" fill-rule=\"evenodd\" fill-opacity=\"1\"/>\n",
       "<polyline clip-path=\"url(#clip862)\" style=\"stroke:#000000; stroke-linecap:round; stroke-linejoin:round; stroke-width:4; stroke-opacity:1; fill:none\" points=\"\n",
       "  731.82,1327.19 731.82,1445.72 780.426,1445.72 780.426,1327.19 731.82,1327.19 \n",
       "  \"/>\n",
       "<path clip-path=\"url(#clip862)\" d=\"\n",
       "M780.426 1193.04 L780.426 1445.72 L829.032 1445.72 L829.032 1193.04 L780.426 1193.04 L780.426 1193.04  Z\n",
       "  \" fill=\"#009af9\" fill-rule=\"evenodd\" fill-opacity=\"1\"/>\n",
       "<polyline clip-path=\"url(#clip862)\" style=\"stroke:#000000; stroke-linecap:round; stroke-linejoin:round; stroke-width:4; stroke-opacity:1; fill:none\" points=\"\n",
       "  780.426,1193.04 780.426,1445.72 829.032,1445.72 829.032,1193.04 780.426,1193.04 \n",
       "  \"/>\n",
       "<path clip-path=\"url(#clip862)\" d=\"\n",
       "M829.032 1078.07 L829.032 1445.72 L877.639 1445.72 L877.639 1078.07 L829.032 1078.07 L829.032 1078.07  Z\n",
       "  \" fill=\"#009af9\" fill-rule=\"evenodd\" fill-opacity=\"1\"/>\n",
       "<polyline clip-path=\"url(#clip862)\" style=\"stroke:#000000; stroke-linecap:round; stroke-linejoin:round; stroke-width:4; stroke-opacity:1; fill:none\" points=\"\n",
       "  829.032,1078.07 829.032,1445.72 877.639,1445.72 877.639,1078.07 829.032,1078.07 \n",
       "  \"/>\n",
       "<path clip-path=\"url(#clip862)\" d=\"\n",
       "M877.639 1037.5 L877.639 1445.72 L926.245 1445.72 L926.245 1037.5 L877.639 1037.5 L877.639 1037.5  Z\n",
       "  \" fill=\"#009af9\" fill-rule=\"evenodd\" fill-opacity=\"1\"/>\n",
       "<polyline clip-path=\"url(#clip862)\" style=\"stroke:#000000; stroke-linecap:round; stroke-linejoin:round; stroke-width:4; stroke-opacity:1; fill:none\" points=\"\n",
       "  877.639,1037.5 877.639,1445.72 926.245,1445.72 926.245,1037.5 877.639,1037.5 \n",
       "  \"/>\n",
       "<path clip-path=\"url(#clip862)\" d=\"\n",
       "M926.245 1122.17 L926.245 1445.72 L974.851 1445.72 L974.851 1122.17 L926.245 1122.17 L926.245 1122.17  Z\n",
       "  \" fill=\"#009af9\" fill-rule=\"evenodd\" fill-opacity=\"1\"/>\n",
       "<polyline clip-path=\"url(#clip862)\" style=\"stroke:#000000; stroke-linecap:round; stroke-linejoin:round; stroke-width:4; stroke-opacity:1; fill:none\" points=\"\n",
       "  926.245,1122.17 926.245,1445.72 974.851,1445.72 974.851,1122.17 926.245,1122.17 \n",
       "  \"/>\n",
       "<path clip-path=\"url(#clip862)\" d=\"\n",
       "M974.851 1204.07 L974.851 1445.72 L1023.46 1445.72 L1023.46 1204.07 L974.851 1204.07 L974.851 1204.07  Z\n",
       "  \" fill=\"#009af9\" fill-rule=\"evenodd\" fill-opacity=\"1\"/>\n",
       "<polyline clip-path=\"url(#clip862)\" style=\"stroke:#000000; stroke-linecap:round; stroke-linejoin:round; stroke-width:4; stroke-opacity:1; fill:none\" points=\"\n",
       "  974.851,1204.07 974.851,1445.72 1023.46,1445.72 1023.46,1204.07 974.851,1204.07 \n",
       "  \"/>\n",
       "<path clip-path=\"url(#clip862)\" d=\"\n",
       "M1023.46 1263.08 L1023.46 1445.72 L1072.06 1445.72 L1072.06 1263.08 L1023.46 1263.08 L1023.46 1263.08  Z\n",
       "  \" fill=\"#009af9\" fill-rule=\"evenodd\" fill-opacity=\"1\"/>\n",
       "<polyline clip-path=\"url(#clip862)\" style=\"stroke:#000000; stroke-linecap:round; stroke-linejoin:round; stroke-width:4; stroke-opacity:1; fill:none\" points=\"\n",
       "  1023.46,1263.08 1023.46,1445.72 1072.06,1445.72 1072.06,1263.08 1023.46,1263.08 \n",
       "  \"/>\n",
       "<path clip-path=\"url(#clip862)\" d=\"\n",
       "M1072.06 1311.89 L1072.06 1445.72 L1120.67 1445.72 L1120.67 1311.89 L1072.06 1311.89 L1072.06 1311.89  Z\n",
       "  \" fill=\"#009af9\" fill-rule=\"evenodd\" fill-opacity=\"1\"/>\n",
       "<polyline clip-path=\"url(#clip862)\" style=\"stroke:#000000; stroke-linecap:round; stroke-linejoin:round; stroke-width:4; stroke-opacity:1; fill:none\" points=\"\n",
       "  1072.06,1311.89 1072.06,1445.72 1120.67,1445.72 1120.67,1311.89 1072.06,1311.89 \n",
       "  \"/>\n",
       "<path clip-path=\"url(#clip862)\" d=\"\n",
       "M1120.67 1333.4 L1120.67 1445.72 L1169.28 1445.72 L1169.28 1333.4 L1120.67 1333.4 L1120.67 1333.4  Z\n",
       "  \" fill=\"#009af9\" fill-rule=\"evenodd\" fill-opacity=\"1\"/>\n",
       "<polyline clip-path=\"url(#clip862)\" style=\"stroke:#000000; stroke-linecap:round; stroke-linejoin:round; stroke-width:4; stroke-opacity:1; fill:none\" points=\"\n",
       "  1120.67,1333.4 1120.67,1445.72 1169.28,1445.72 1169.28,1333.4 1120.67,1333.4 \n",
       "  \"/>\n",
       "<path clip-path=\"url(#clip862)\" d=\"\n",
       "M1169.28 1354.57 L1169.28 1445.72 L1217.88 1445.72 L1217.88 1354.57 L1169.28 1354.57 L1169.28 1354.57  Z\n",
       "  \" fill=\"#009af9\" fill-rule=\"evenodd\" fill-opacity=\"1\"/>\n",
       "<polyline clip-path=\"url(#clip862)\" style=\"stroke:#000000; stroke-linecap:round; stroke-linejoin:round; stroke-width:4; stroke-opacity:1; fill:none\" points=\"\n",
       "  1169.28,1354.57 1169.28,1445.72 1217.88,1445.72 1217.88,1354.57 1169.28,1354.57 \n",
       "  \"/>\n",
       "<path clip-path=\"url(#clip862)\" d=\"\n",
       "M1217.88 1373.94 L1217.88 1445.72 L1266.49 1445.72 L1266.49 1373.94 L1217.88 1373.94 L1217.88 1373.94  Z\n",
       "  \" fill=\"#009af9\" fill-rule=\"evenodd\" fill-opacity=\"1\"/>\n",
       "<polyline clip-path=\"url(#clip862)\" style=\"stroke:#000000; stroke-linecap:round; stroke-linejoin:round; stroke-width:4; stroke-opacity:1; fill:none\" points=\"\n",
       "  1217.88,1373.94 1217.88,1445.72 1266.49,1445.72 1266.49,1373.94 1217.88,1373.94 \n",
       "  \"/>\n",
       "<path clip-path=\"url(#clip862)\" d=\"\n",
       "M1266.49 1391.2 L1266.49 1445.72 L1315.09 1445.72 L1315.09 1391.2 L1266.49 1391.2 L1266.49 1391.2  Z\n",
       "  \" fill=\"#009af9\" fill-rule=\"evenodd\" fill-opacity=\"1\"/>\n",
       "<polyline clip-path=\"url(#clip862)\" style=\"stroke:#000000; stroke-linecap:round; stroke-linejoin:round; stroke-width:4; stroke-opacity:1; fill:none\" points=\"\n",
       "  1266.49,1391.2 1266.49,1445.72 1315.09,1445.72 1315.09,1391.2 1266.49,1391.2 \n",
       "  \"/>\n",
       "<path clip-path=\"url(#clip862)\" d=\"\n",
       "M1315.09 1399.59 L1315.09 1445.72 L1363.7 1445.72 L1363.7 1399.59 L1315.09 1399.59 L1315.09 1399.59  Z\n",
       "  \" fill=\"#009af9\" fill-rule=\"evenodd\" fill-opacity=\"1\"/>\n",
       "<polyline clip-path=\"url(#clip862)\" style=\"stroke:#000000; stroke-linecap:round; stroke-linejoin:round; stroke-width:4; stroke-opacity:1; fill:none\" points=\"\n",
       "  1315.09,1399.59 1315.09,1445.72 1363.7,1445.72 1363.7,1399.59 1315.09,1399.59 \n",
       "  \"/>\n",
       "<path clip-path=\"url(#clip862)\" d=\"\n",
       "M1363.7 1405.85 L1363.7 1445.72 L1412.31 1445.72 L1412.31 1405.85 L1363.7 1405.85 L1363.7 1405.85  Z\n",
       "  \" fill=\"#009af9\" fill-rule=\"evenodd\" fill-opacity=\"1\"/>\n",
       "<polyline clip-path=\"url(#clip862)\" style=\"stroke:#000000; stroke-linecap:round; stroke-linejoin:round; stroke-width:4; stroke-opacity:1; fill:none\" points=\"\n",
       "  1363.7,1405.85 1363.7,1445.72 1412.31,1445.72 1412.31,1405.85 1363.7,1405.85 \n",
       "  \"/>\n",
       "<path clip-path=\"url(#clip862)\" d=\"\n",
       "M1412.31 1414.26 L1412.31 1445.72 L1460.91 1445.72 L1460.91 1414.26 L1412.31 1414.26 L1412.31 1414.26  Z\n",
       "  \" fill=\"#009af9\" fill-rule=\"evenodd\" fill-opacity=\"1\"/>\n",
       "<polyline clip-path=\"url(#clip862)\" style=\"stroke:#000000; stroke-linecap:round; stroke-linejoin:round; stroke-width:4; stroke-opacity:1; fill:none\" points=\"\n",
       "  1412.31,1414.26 1412.31,1445.72 1460.91,1445.72 1460.91,1414.26 1412.31,1414.26 \n",
       "  \"/>\n",
       "<path clip-path=\"url(#clip862)\" d=\"\n",
       "M1460.91 1421.19 L1460.91 1445.72 L1509.52 1445.72 L1509.52 1421.19 L1460.91 1421.19 L1460.91 1421.19  Z\n",
       "  \" fill=\"#009af9\" fill-rule=\"evenodd\" fill-opacity=\"1\"/>\n",
       "<polyline clip-path=\"url(#clip862)\" style=\"stroke:#000000; stroke-linecap:round; stroke-linejoin:round; stroke-width:4; stroke-opacity:1; fill:none\" points=\"\n",
       "  1460.91,1421.19 1460.91,1445.72 1509.52,1445.72 1509.52,1421.19 1460.91,1421.19 \n",
       "  \"/>\n",
       "<path clip-path=\"url(#clip862)\" d=\"\n",
       "M1509.52 1427.81 L1509.52 1445.72 L1558.12 1445.72 L1558.12 1427.81 L1509.52 1427.81 L1509.52 1427.81  Z\n",
       "  \" fill=\"#009af9\" fill-rule=\"evenodd\" fill-opacity=\"1\"/>\n",
       "<polyline clip-path=\"url(#clip862)\" style=\"stroke:#000000; stroke-linecap:round; stroke-linejoin:round; stroke-width:4; stroke-opacity:1; fill:none\" points=\"\n",
       "  1509.52,1427.81 1509.52,1445.72 1558.12,1445.72 1558.12,1427.81 1509.52,1427.81 \n",
       "  \"/>\n",
       "<path clip-path=\"url(#clip862)\" d=\"\n",
       "M1558.12 1430.08 L1558.12 1445.72 L1606.73 1445.72 L1606.73 1430.08 L1558.12 1430.08 L1558.12 1430.08  Z\n",
       "  \" fill=\"#009af9\" fill-rule=\"evenodd\" fill-opacity=\"1\"/>\n",
       "<polyline clip-path=\"url(#clip862)\" style=\"stroke:#000000; stroke-linecap:round; stroke-linejoin:round; stroke-width:4; stroke-opacity:1; fill:none\" points=\"\n",
       "  1558.12,1430.08 1558.12,1445.72 1606.73,1445.72 1606.73,1430.08 1558.12,1430.08 \n",
       "  \"/>\n",
       "<path clip-path=\"url(#clip862)\" d=\"\n",
       "M1606.73 1432.85 L1606.73 1445.72 L1655.34 1445.72 L1655.34 1432.85 L1606.73 1432.85 L1606.73 1432.85  Z\n",
       "  \" fill=\"#009af9\" fill-rule=\"evenodd\" fill-opacity=\"1\"/>\n",
       "<polyline clip-path=\"url(#clip862)\" style=\"stroke:#000000; stroke-linecap:round; stroke-linejoin:round; stroke-width:4; stroke-opacity:1; fill:none\" points=\"\n",
       "  1606.73,1432.85 1606.73,1445.72 1655.34,1445.72 1655.34,1432.85 1606.73,1432.85 \n",
       "  \"/>\n",
       "<path clip-path=\"url(#clip862)\" d=\"\n",
       "M1655.34 1436.2 L1655.34 1445.72 L1703.94 1445.72 L1703.94 1436.2 L1655.34 1436.2 L1655.34 1436.2  Z\n",
       "  \" fill=\"#009af9\" fill-rule=\"evenodd\" fill-opacity=\"1\"/>\n",
       "<polyline clip-path=\"url(#clip862)\" style=\"stroke:#000000; stroke-linecap:round; stroke-linejoin:round; stroke-width:4; stroke-opacity:1; fill:none\" points=\"\n",
       "  1655.34,1436.2 1655.34,1445.72 1703.94,1445.72 1703.94,1436.2 1655.34,1436.2 \n",
       "  \"/>\n",
       "<path clip-path=\"url(#clip862)\" d=\"\n",
       "M1703.94 1435.84 L1703.94 1445.72 L1752.55 1445.72 L1752.55 1435.84 L1703.94 1435.84 L1703.94 1435.84  Z\n",
       "  \" fill=\"#009af9\" fill-rule=\"evenodd\" fill-opacity=\"1\"/>\n",
       "<polyline clip-path=\"url(#clip862)\" style=\"stroke:#000000; stroke-linecap:round; stroke-linejoin:round; stroke-width:4; stroke-opacity:1; fill:none\" points=\"\n",
       "  1703.94,1435.84 1703.94,1445.72 1752.55,1445.72 1752.55,1435.84 1703.94,1435.84 \n",
       "  \"/>\n",
       "<path clip-path=\"url(#clip862)\" d=\"\n",
       "M1752.55 1437.17 L1752.55 1445.72 L1801.15 1445.72 L1801.15 1437.17 L1752.55 1437.17 L1752.55 1437.17  Z\n",
       "  \" fill=\"#009af9\" fill-rule=\"evenodd\" fill-opacity=\"1\"/>\n",
       "<polyline clip-path=\"url(#clip862)\" style=\"stroke:#000000; stroke-linecap:round; stroke-linejoin:round; stroke-width:4; stroke-opacity:1; fill:none\" points=\"\n",
       "  1752.55,1437.17 1752.55,1445.72 1801.15,1445.72 1801.15,1437.17 1752.55,1437.17 \n",
       "  \"/>\n",
       "<path clip-path=\"url(#clip862)\" d=\"\n",
       "M1801.15 1437.89 L1801.15 1445.72 L1849.76 1445.72 L1849.76 1437.89 L1801.15 1437.89 L1801.15 1437.89  Z\n",
       "  \" fill=\"#009af9\" fill-rule=\"evenodd\" fill-opacity=\"1\"/>\n",
       "<polyline clip-path=\"url(#clip862)\" style=\"stroke:#000000; stroke-linecap:round; stroke-linejoin:round; stroke-width:4; stroke-opacity:1; fill:none\" points=\"\n",
       "  1801.15,1437.89 1801.15,1445.72 1849.76,1445.72 1849.76,1437.89 1801.15,1437.89 \n",
       "  \"/>\n",
       "<path clip-path=\"url(#clip862)\" d=\"\n",
       "M1849.76 1438.72 L1849.76 1445.72 L1898.37 1445.72 L1898.37 1438.72 L1849.76 1438.72 L1849.76 1438.72  Z\n",
       "  \" fill=\"#009af9\" fill-rule=\"evenodd\" fill-opacity=\"1\"/>\n",
       "<polyline clip-path=\"url(#clip862)\" style=\"stroke:#000000; stroke-linecap:round; stroke-linejoin:round; stroke-width:4; stroke-opacity:1; fill:none\" points=\"\n",
       "  1849.76,1438.72 1849.76,1445.72 1898.37,1445.72 1898.37,1438.72 1849.76,1438.72 \n",
       "  \"/>\n",
       "<path clip-path=\"url(#clip862)\" d=\"\n",
       "M1898.37 1440.81 L1898.37 1445.72 L1946.97 1445.72 L1946.97 1440.81 L1898.37 1440.81 L1898.37 1440.81  Z\n",
       "  \" fill=\"#009af9\" fill-rule=\"evenodd\" fill-opacity=\"1\"/>\n",
       "<polyline clip-path=\"url(#clip862)\" style=\"stroke:#000000; stroke-linecap:round; stroke-linejoin:round; stroke-width:4; stroke-opacity:1; fill:none\" points=\"\n",
       "  1898.37,1440.81 1898.37,1445.72 1946.97,1445.72 1946.97,1440.81 1898.37,1440.81 \n",
       "  \"/>\n",
       "<path clip-path=\"url(#clip862)\" d=\"\n",
       "M1946.97 1440.18 L1946.97 1445.72 L1995.58 1445.72 L1995.58 1440.18 L1946.97 1440.18 L1946.97 1440.18  Z\n",
       "  \" fill=\"#009af9\" fill-rule=\"evenodd\" fill-opacity=\"1\"/>\n",
       "<polyline clip-path=\"url(#clip862)\" style=\"stroke:#000000; stroke-linecap:round; stroke-linejoin:round; stroke-width:4; stroke-opacity:1; fill:none\" points=\"\n",
       "  1946.97,1440.18 1946.97,1445.72 1995.58,1445.72 1995.58,1440.18 1946.97,1440.18 \n",
       "  \"/>\n",
       "<path clip-path=\"url(#clip862)\" d=\"\n",
       "M1995.58 1439.6 L1995.58 1445.72 L2044.18 1445.72 L2044.18 1439.6 L1995.58 1439.6 L1995.58 1439.6  Z\n",
       "  \" fill=\"#009af9\" fill-rule=\"evenodd\" fill-opacity=\"1\"/>\n",
       "<polyline clip-path=\"url(#clip862)\" style=\"stroke:#000000; stroke-linecap:round; stroke-linejoin:round; stroke-width:4; stroke-opacity:1; fill:none\" points=\"\n",
       "  1995.58,1439.6 1995.58,1445.72 2044.18,1445.72 2044.18,1439.6 1995.58,1439.6 \n",
       "  \"/>\n",
       "<path clip-path=\"url(#clip862)\" d=\"\n",
       "M2044.18 1440.52 L2044.18 1445.72 L2092.79 1445.72 L2092.79 1440.52 L2044.18 1440.52 L2044.18 1440.52  Z\n",
       "  \" fill=\"#009af9\" fill-rule=\"evenodd\" fill-opacity=\"1\"/>\n",
       "<polyline clip-path=\"url(#clip862)\" style=\"stroke:#000000; stroke-linecap:round; stroke-linejoin:round; stroke-width:4; stroke-opacity:1; fill:none\" points=\"\n",
       "  2044.18,1440.52 2044.18,1445.72 2092.79,1445.72 2092.79,1440.52 2044.18,1440.52 \n",
       "  \"/>\n",
       "<path clip-path=\"url(#clip862)\" d=\"\n",
       "M2092.79 1440.86 L2092.79 1445.72 L2141.4 1445.72 L2141.4 1440.86 L2092.79 1440.86 L2092.79 1440.86  Z\n",
       "  \" fill=\"#009af9\" fill-rule=\"evenodd\" fill-opacity=\"1\"/>\n",
       "<polyline clip-path=\"url(#clip862)\" style=\"stroke:#000000; stroke-linecap:round; stroke-linejoin:round; stroke-width:4; stroke-opacity:1; fill:none\" points=\"\n",
       "  2092.79,1440.86 2092.79,1445.72 2141.4,1445.72 2141.4,1440.86 2092.79,1440.86 \n",
       "  \"/>\n",
       "<path clip-path=\"url(#clip862)\" d=\"\n",
       "M2141.4 1299.44 L2141.4 1445.72 L2190 1445.72 L2190 1299.44 L2141.4 1299.44 L2141.4 1299.44  Z\n",
       "  \" fill=\"#009af9\" fill-rule=\"evenodd\" fill-opacity=\"1\"/>\n",
       "<polyline clip-path=\"url(#clip862)\" style=\"stroke:#000000; stroke-linecap:round; stroke-linejoin:round; stroke-width:4; stroke-opacity:1; fill:none\" points=\"\n",
       "  2141.4,1299.44 2141.4,1445.72 2190,1445.72 2190,1299.44 2141.4,1299.44 \n",
       "  \"/>\n",
       "<path clip-path=\"url(#clip862)\" d=\"\n",
       "M2190 87.9763 L2190 1445.72 L2238.61 1445.72 L2238.61 87.9763 L2190 87.9763 L2190 87.9763  Z\n",
       "  \" fill=\"#009af9\" fill-rule=\"evenodd\" fill-opacity=\"1\"/>\n",
       "<polyline clip-path=\"url(#clip862)\" style=\"stroke:#000000; stroke-linecap:round; stroke-linejoin:round; stroke-width:4; stroke-opacity:1; fill:none\" points=\"\n",
       "  2190,87.9763 2190,1445.72 2238.61,1445.72 2238.61,87.9763 2190,87.9763 \n",
       "  \"/>\n",
       "<circle clip-path=\"url(#clip862)\" style=\"fill:#009af9; stroke:none; fill-opacity:0\" cx=\"415.881\" cy=\"1444.16\" r=\"2\"/>\n",
       "<circle clip-path=\"url(#clip862)\" style=\"fill:#009af9; stroke:none; fill-opacity:0\" cx=\"464.487\" cy=\"1443.06\" r=\"2\"/>\n",
       "<circle clip-path=\"url(#clip862)\" style=\"fill:#009af9; stroke:none; fill-opacity:0\" cx=\"513.093\" cy=\"1442.68\" r=\"2\"/>\n",
       "<circle clip-path=\"url(#clip862)\" style=\"fill:#009af9; stroke:none; fill-opacity:0\" cx=\"561.699\" cy=\"1443.56\" r=\"2\"/>\n",
       "<circle clip-path=\"url(#clip862)\" style=\"fill:#009af9; stroke:none; fill-opacity:0\" cx=\"610.305\" cy=\"1437.95\" r=\"2\"/>\n",
       "<circle clip-path=\"url(#clip862)\" style=\"fill:#009af9; stroke:none; fill-opacity:0\" cx=\"658.911\" cy=\"1430.39\" r=\"2\"/>\n",
       "<circle clip-path=\"url(#clip862)\" style=\"fill:#009af9; stroke:none; fill-opacity:0\" cx=\"707.517\" cy=\"1376.8\" r=\"2\"/>\n",
       "<circle clip-path=\"url(#clip862)\" style=\"fill:#009af9; stroke:none; fill-opacity:0\" cx=\"756.123\" cy=\"1327.19\" r=\"2\"/>\n",
       "<circle clip-path=\"url(#clip862)\" style=\"fill:#009af9; stroke:none; fill-opacity:0\" cx=\"804.729\" cy=\"1193.04\" r=\"2\"/>\n",
       "<circle clip-path=\"url(#clip862)\" style=\"fill:#009af9; stroke:none; fill-opacity:0\" cx=\"853.335\" cy=\"1078.07\" r=\"2\"/>\n",
       "<circle clip-path=\"url(#clip862)\" style=\"fill:#009af9; stroke:none; fill-opacity:0\" cx=\"901.942\" cy=\"1037.5\" r=\"2\"/>\n",
       "<circle clip-path=\"url(#clip862)\" style=\"fill:#009af9; stroke:none; fill-opacity:0\" cx=\"950.548\" cy=\"1122.17\" r=\"2\"/>\n",
       "<circle clip-path=\"url(#clip862)\" style=\"fill:#009af9; stroke:none; fill-opacity:0\" cx=\"999.154\" cy=\"1204.07\" r=\"2\"/>\n",
       "<circle clip-path=\"url(#clip862)\" style=\"fill:#009af9; stroke:none; fill-opacity:0\" cx=\"1047.76\" cy=\"1263.08\" r=\"2\"/>\n",
       "<circle clip-path=\"url(#clip862)\" style=\"fill:#009af9; stroke:none; fill-opacity:0\" cx=\"1096.37\" cy=\"1311.89\" r=\"2\"/>\n",
       "<circle clip-path=\"url(#clip862)\" style=\"fill:#009af9; stroke:none; fill-opacity:0\" cx=\"1144.97\" cy=\"1333.4\" r=\"2\"/>\n",
       "<circle clip-path=\"url(#clip862)\" style=\"fill:#009af9; stroke:none; fill-opacity:0\" cx=\"1193.58\" cy=\"1354.57\" r=\"2\"/>\n",
       "<circle clip-path=\"url(#clip862)\" style=\"fill:#009af9; stroke:none; fill-opacity:0\" cx=\"1242.18\" cy=\"1373.94\" r=\"2\"/>\n",
       "<circle clip-path=\"url(#clip862)\" style=\"fill:#009af9; stroke:none; fill-opacity:0\" cx=\"1290.79\" cy=\"1391.2\" r=\"2\"/>\n",
       "<circle clip-path=\"url(#clip862)\" style=\"fill:#009af9; stroke:none; fill-opacity:0\" cx=\"1339.4\" cy=\"1399.59\" r=\"2\"/>\n",
       "<circle clip-path=\"url(#clip862)\" style=\"fill:#009af9; stroke:none; fill-opacity:0\" cx=\"1388\" cy=\"1405.85\" r=\"2\"/>\n",
       "<circle clip-path=\"url(#clip862)\" style=\"fill:#009af9; stroke:none; fill-opacity:0\" cx=\"1436.61\" cy=\"1414.26\" r=\"2\"/>\n",
       "<circle clip-path=\"url(#clip862)\" style=\"fill:#009af9; stroke:none; fill-opacity:0\" cx=\"1485.21\" cy=\"1421.19\" r=\"2\"/>\n",
       "<circle clip-path=\"url(#clip862)\" style=\"fill:#009af9; stroke:none; fill-opacity:0\" cx=\"1533.82\" cy=\"1427.81\" r=\"2\"/>\n",
       "<circle clip-path=\"url(#clip862)\" style=\"fill:#009af9; stroke:none; fill-opacity:0\" cx=\"1582.43\" cy=\"1430.08\" r=\"2\"/>\n",
       "<circle clip-path=\"url(#clip862)\" style=\"fill:#009af9; stroke:none; fill-opacity:0\" cx=\"1631.03\" cy=\"1432.85\" r=\"2\"/>\n",
       "<circle clip-path=\"url(#clip862)\" style=\"fill:#009af9; stroke:none; fill-opacity:0\" cx=\"1679.64\" cy=\"1436.2\" r=\"2\"/>\n",
       "<circle clip-path=\"url(#clip862)\" style=\"fill:#009af9; stroke:none; fill-opacity:0\" cx=\"1728.25\" cy=\"1435.84\" r=\"2\"/>\n",
       "<circle clip-path=\"url(#clip862)\" style=\"fill:#009af9; stroke:none; fill-opacity:0\" cx=\"1776.85\" cy=\"1437.17\" r=\"2\"/>\n",
       "<circle clip-path=\"url(#clip862)\" style=\"fill:#009af9; stroke:none; fill-opacity:0\" cx=\"1825.46\" cy=\"1437.89\" r=\"2\"/>\n",
       "<circle clip-path=\"url(#clip862)\" style=\"fill:#009af9; stroke:none; fill-opacity:0\" cx=\"1874.06\" cy=\"1438.72\" r=\"2\"/>\n",
       "<circle clip-path=\"url(#clip862)\" style=\"fill:#009af9; stroke:none; fill-opacity:0\" cx=\"1922.67\" cy=\"1440.81\" r=\"2\"/>\n",
       "<circle clip-path=\"url(#clip862)\" style=\"fill:#009af9; stroke:none; fill-opacity:0\" cx=\"1971.28\" cy=\"1440.18\" r=\"2\"/>\n",
       "<circle clip-path=\"url(#clip862)\" style=\"fill:#009af9; stroke:none; fill-opacity:0\" cx=\"2019.88\" cy=\"1439.6\" r=\"2\"/>\n",
       "<circle clip-path=\"url(#clip862)\" style=\"fill:#009af9; stroke:none; fill-opacity:0\" cx=\"2068.49\" cy=\"1440.52\" r=\"2\"/>\n",
       "<circle clip-path=\"url(#clip862)\" style=\"fill:#009af9; stroke:none; fill-opacity:0\" cx=\"2117.09\" cy=\"1440.86\" r=\"2\"/>\n",
       "<circle clip-path=\"url(#clip862)\" style=\"fill:#009af9; stroke:none; fill-opacity:0\" cx=\"2165.7\" cy=\"1299.44\" r=\"2\"/>\n",
       "<circle clip-path=\"url(#clip862)\" style=\"fill:#009af9; stroke:none; fill-opacity:0\" cx=\"2214.31\" cy=\"87.9763\" r=\"2\"/>\n",
       "<path clip-path=\"url(#clip860)\" d=\"\n",
       "M2000.56 198.898 L2283.58 198.898 L2283.58 95.2176 L2000.56 95.2176  Z\n",
       "  \" fill=\"#ffffff\" fill-rule=\"evenodd\" fill-opacity=\"1\"/>\n",
       "<polyline clip-path=\"url(#clip860)\" style=\"stroke:#000000; stroke-linecap:round; stroke-linejoin:round; stroke-width:4; stroke-opacity:1; fill:none\" points=\"\n",
       "  2000.56,198.898 2283.58,198.898 2283.58,95.2176 2000.56,95.2176 2000.56,198.898 \n",
       "  \"/>\n",
       "<path clip-path=\"url(#clip860)\" d=\"\n",
       "M2023.62 167.794 L2161.97 167.794 L2161.97 126.322 L2023.62 126.322 L2023.62 167.794  Z\n",
       "  \" fill=\"#009af9\" fill-rule=\"evenodd\" fill-opacity=\"1\"/>\n",
       "<polyline clip-path=\"url(#clip860)\" style=\"stroke:#000000; stroke-linecap:round; stroke-linejoin:round; stroke-width:4; stroke-opacity:1; fill:none\" points=\"\n",
       "  2023.62,167.794 2161.97,167.794 2161.97,126.322 2023.62,126.322 2023.62,167.794 \n",
       "  \"/>\n",
       "<path clip-path=\"url(#clip860)\" d=\"M2198.87 166.745 Q2197.07 171.375 2195.35 172.787 Q2193.64 174.199 2190.77 174.199 L2187.37 174.199 L2187.37 170.634 L2189.87 170.634 Q2191.63 170.634 2192.6 169.8 Q2193.57 168.967 2194.75 165.865 L2195.52 163.921 L2185.03 138.412 L2189.54 138.412 L2197.65 158.689 L2205.75 138.412 L2210.26 138.412 L2198.87 166.745 Z\" fill=\"#000000\" fill-rule=\"evenodd\" fill-opacity=\"1\" /><path clip-path=\"url(#clip860)\" d=\"M2217.55 160.402 L2225.19 160.402 L2225.19 134.037 L2216.88 135.703 L2216.88 131.444 L2225.15 129.778 L2229.82 129.778 L2229.82 160.402 L2237.46 160.402 L2237.46 164.338 L2217.55 164.338 L2217.55 160.402 Z\" fill=\"#000000\" fill-rule=\"evenodd\" fill-opacity=\"1\" /></svg>\n"
      ]
     },
     "execution_count": 74,
     "metadata": {},
     "output_type": "execute_result"
    }
   ],
   "source": [
    "histogram(negativeLods)"
   ]
  },
  {
   "cell_type": "code",
   "execution_count": 75,
   "id": "5d504b66-ddf5-4c1e-9245-15dd7a583673",
   "metadata": {},
   "outputs": [
    {
     "data": {
      "text/plain": [
       "187631-element Vector{Any}:\n",
       " -2.8364198415233637\n",
       " -2.3218522154526453\n",
       " -2.7159556629889297\n",
       " -2.1721973365984493\n",
       " -2.264965511150842\n",
       " -2.542476243814359\n",
       " -2.710494876228621\n",
       " -1.1697774413762279\n",
       " -2.7938726506943405\n",
       " -1.8205130845275086\n",
       " -2.293762921721445\n",
       " -2.6860082921356594\n",
       " -2.9593111257339486\n",
       "  ⋮\n",
       " -0.007686738723658984\n",
       " -0.04020926181499682\n",
       " -2.562435531364291\n",
       " -2.967028433905106\n",
       " -2.8673702255188362\n",
       " -0.09970799532808765\n",
       " -0.05420349375631247\n",
       " -0.015245481757609283\n",
       " -0.1436970021656976\n",
       " -0.014311908993334564\n",
       " -2.458421773014684\n",
       " -0.02427366860169513"
      ]
     },
     "execution_count": 75,
     "metadata": {},
     "output_type": "execute_result"
    }
   ],
   "source": [
    "negativeLods"
   ]
  },
  {
   "cell_type": "code",
   "execution_count": 76,
   "id": "08bf424e-59d5-47d2-9d4c-9810eddd2e34",
   "metadata": {},
   "outputs": [
    {
     "data": {
      "text/plain": [
       "0.0004554802373807918"
      ]
     },
     "execution_count": 76,
     "metadata": {},
     "output_type": "execute_result"
    }
   ],
   "source": [
    "sum(negativeLods .< -1)/(p*m)"
   ]
  },
  {
   "cell_type": "code",
   "execution_count": 77,
   "id": "3295e32c-fd55-4235-b52e-d783ed11ff42",
   "metadata": {},
   "outputs": [
    {
     "data": {
      "text/plain": [
       "CartesianIndex(229, 108)"
      ]
     },
     "execution_count": 77,
     "metadata": {},
     "output_type": "execute_result"
    }
   ],
   "source": [
    "findfirst(lods_from_alt .< -1.0)"
   ]
  },
  {
   "cell_type": "code",
   "execution_count": 78,
   "id": "d7995c22-b5f3-4f2a-bbc0-4a04c611e121",
   "metadata": {},
   "outputs": [
    {
     "data": {
      "image/svg+xml": [
       "<?xml version=\"1.0\" encoding=\"utf-8\"?>\n",
       "<svg xmlns=\"http://www.w3.org/2000/svg\" xmlns:xlink=\"http://www.w3.org/1999/xlink\" width=\"600\" height=\"400\" viewBox=\"0 0 2400 1600\">\n",
       "<defs>\n",
       "  <clipPath id=\"clip900\">\n",
       "    <rect x=\"0\" y=\"0\" width=\"2400\" height=\"1600\"/>\n",
       "  </clipPath>\n",
       "</defs>\n",
       "<path clip-path=\"url(#clip900)\" d=\"\n",
       "M0 1600 L2400 1600 L2400 0 L0 0  Z\n",
       "  \" fill=\"#ffffff\" fill-rule=\"evenodd\" fill-opacity=\"1\"/>\n",
       "<defs>\n",
       "  <clipPath id=\"clip901\">\n",
       "    <rect x=\"480\" y=\"0\" width=\"1681\" height=\"1600\"/>\n",
       "  </clipPath>\n",
       "</defs>\n",
       "<path clip-path=\"url(#clip900)\" d=\"\n",
       "M169.121 1486.45 L2352.76 1486.45 L2352.76 47.2441 L169.121 47.2441  Z\n",
       "  \" fill=\"#ffffff\" fill-rule=\"evenodd\" fill-opacity=\"1\"/>\n",
       "<defs>\n",
       "  <clipPath id=\"clip902\">\n",
       "    <rect x=\"169\" y=\"47\" width=\"2185\" height=\"1440\"/>\n",
       "  </clipPath>\n",
       "</defs>\n",
       "<polyline clip-path=\"url(#clip902)\" style=\"stroke:#000000; stroke-linecap:round; stroke-linejoin:round; stroke-width:2; stroke-opacity:0.1; fill:none\" points=\"\n",
       "  289.225,1486.45 289.225,47.2441 \n",
       "  \"/>\n",
       "<polyline clip-path=\"url(#clip902)\" style=\"stroke:#000000; stroke-linecap:round; stroke-linejoin:round; stroke-width:2; stroke-opacity:0.1; fill:none\" points=\"\n",
       "  775.082,1486.45 775.082,47.2441 \n",
       "  \"/>\n",
       "<polyline clip-path=\"url(#clip902)\" style=\"stroke:#000000; stroke-linecap:round; stroke-linejoin:round; stroke-width:2; stroke-opacity:0.1; fill:none\" points=\"\n",
       "  1260.94,1486.45 1260.94,47.2441 \n",
       "  \"/>\n",
       "<polyline clip-path=\"url(#clip902)\" style=\"stroke:#000000; stroke-linecap:round; stroke-linejoin:round; stroke-width:2; stroke-opacity:0.1; fill:none\" points=\"\n",
       "  1746.8,1486.45 1746.8,47.2441 \n",
       "  \"/>\n",
       "<polyline clip-path=\"url(#clip902)\" style=\"stroke:#000000; stroke-linecap:round; stroke-linejoin:round; stroke-width:2; stroke-opacity:0.1; fill:none\" points=\"\n",
       "  2232.65,1486.45 2232.65,47.2441 \n",
       "  \"/>\n",
       "<polyline clip-path=\"url(#clip900)\" style=\"stroke:#000000; stroke-linecap:round; stroke-linejoin:round; stroke-width:4; stroke-opacity:1; fill:none\" points=\"\n",
       "  169.121,1486.45 2352.76,1486.45 \n",
       "  \"/>\n",
       "<polyline clip-path=\"url(#clip900)\" style=\"stroke:#000000; stroke-linecap:round; stroke-linejoin:round; stroke-width:4; stroke-opacity:1; fill:none\" points=\"\n",
       "  289.225,1486.45 289.225,1467.55 \n",
       "  \"/>\n",
       "<polyline clip-path=\"url(#clip900)\" style=\"stroke:#000000; stroke-linecap:round; stroke-linejoin:round; stroke-width:4; stroke-opacity:1; fill:none\" points=\"\n",
       "  775.082,1486.45 775.082,1467.55 \n",
       "  \"/>\n",
       "<polyline clip-path=\"url(#clip900)\" style=\"stroke:#000000; stroke-linecap:round; stroke-linejoin:round; stroke-width:4; stroke-opacity:1; fill:none\" points=\"\n",
       "  1260.94,1486.45 1260.94,1467.55 \n",
       "  \"/>\n",
       "<polyline clip-path=\"url(#clip900)\" style=\"stroke:#000000; stroke-linecap:round; stroke-linejoin:round; stroke-width:4; stroke-opacity:1; fill:none\" points=\"\n",
       "  1746.8,1486.45 1746.8,1467.55 \n",
       "  \"/>\n",
       "<polyline clip-path=\"url(#clip900)\" style=\"stroke:#000000; stroke-linecap:round; stroke-linejoin:round; stroke-width:4; stroke-opacity:1; fill:none\" points=\"\n",
       "  2232.65,1486.45 2232.65,1467.55 \n",
       "  \"/>\n",
       "<path clip-path=\"url(#clip900)\" d=\"M258.126 1532.02 L287.802 1532.02 L287.802 1535.95 L258.126 1535.95 L258.126 1532.02 Z\" fill=\"#000000\" fill-rule=\"evenodd\" fill-opacity=\"1\" /><path clip-path=\"url(#clip900)\" d=\"M310.741 1518.36 L298.936 1536.81 L310.741 1536.81 L310.741 1518.36 M309.514 1514.29 L315.394 1514.29 L315.394 1536.81 L320.324 1536.81 L320.324 1540.7 L315.394 1540.7 L315.394 1548.85 L310.741 1548.85 L310.741 1540.7 L295.139 1540.7 L295.139 1536.19 L309.514 1514.29 Z\" fill=\"#000000\" fill-rule=\"evenodd\" fill-opacity=\"1\" /><path clip-path=\"url(#clip900)\" d=\"M744.55 1532.02 L774.225 1532.02 L774.225 1535.95 L744.55 1535.95 L744.55 1532.02 Z\" fill=\"#000000\" fill-rule=\"evenodd\" fill-opacity=\"1\" /><path clip-path=\"url(#clip900)\" d=\"M798.485 1530.21 Q801.841 1530.93 803.716 1533.2 Q805.614 1535.47 805.614 1538.8 Q805.614 1543.92 802.096 1546.72 Q798.577 1549.52 792.096 1549.52 Q789.92 1549.52 787.605 1549.08 Q785.313 1548.66 782.86 1547.81 L782.86 1543.29 Q784.804 1544.43 787.119 1545.01 Q789.434 1545.58 791.957 1545.58 Q796.355 1545.58 798.647 1543.85 Q800.961 1542.11 800.961 1538.8 Q800.961 1535.75 798.809 1534.03 Q796.679 1532.3 792.86 1532.3 L788.832 1532.3 L788.832 1528.45 L793.045 1528.45 Q796.494 1528.45 798.322 1527.09 Q800.151 1525.7 800.151 1523.11 Q800.151 1520.45 798.253 1519.03 Q796.378 1517.6 792.86 1517.6 Q790.938 1517.6 788.739 1518.01 Q786.54 1518.43 783.901 1519.31 L783.901 1515.14 Q786.563 1514.4 788.878 1514.03 Q791.216 1513.66 793.276 1513.66 Q798.6 1513.66 801.702 1516.09 Q804.804 1518.5 804.804 1522.62 Q804.804 1525.49 803.16 1527.48 Q801.517 1529.45 798.485 1530.21 Z\" fill=\"#000000\" fill-rule=\"evenodd\" fill-opacity=\"1\" /><path clip-path=\"url(#clip900)\" d=\"M1230.88 1532.02 L1260.56 1532.02 L1260.56 1535.95 L1230.88 1535.95 L1230.88 1532.02 Z\" fill=\"#000000\" fill-rule=\"evenodd\" fill-opacity=\"1\" /><path clip-path=\"url(#clip900)\" d=\"M1274.68 1544.91 L1291 1544.91 L1291 1548.85 L1269.05 1548.85 L1269.05 1544.91 Q1271.71 1542.16 1276.3 1537.53 Q1280.9 1532.88 1282.08 1531.53 Q1284.33 1529.01 1285.21 1527.27 Q1286.11 1525.51 1286.11 1523.82 Q1286.11 1521.07 1284.17 1519.33 Q1282.25 1517.6 1279.14 1517.6 Q1276.95 1517.6 1274.49 1518.36 Q1272.06 1519.13 1269.28 1520.68 L1269.28 1515.95 Q1272.11 1514.82 1274.56 1514.24 Q1277.01 1513.66 1279.05 1513.66 Q1284.42 1513.66 1287.62 1516.35 Q1290.81 1519.03 1290.81 1523.52 Q1290.81 1525.65 1290 1527.57 Q1289.21 1529.47 1287.11 1532.07 Q1286.53 1532.74 1283.43 1535.95 Q1280.33 1539.15 1274.68 1544.91 Z\" fill=\"#000000\" fill-rule=\"evenodd\" fill-opacity=\"1\" /><path clip-path=\"url(#clip900)\" d=\"M1716.55 1532.02 L1746.23 1532.02 L1746.23 1535.95 L1716.55 1535.95 L1716.55 1532.02 Z\" fill=\"#000000\" fill-rule=\"evenodd\" fill-opacity=\"1\" /><path clip-path=\"url(#clip900)\" d=\"M1757.13 1544.91 L1764.77 1544.91 L1764.77 1518.55 L1756.46 1520.21 L1756.46 1515.95 L1764.72 1514.29 L1769.4 1514.29 L1769.4 1544.91 L1777.04 1544.91 L1777.04 1548.85 L1757.13 1548.85 L1757.13 1544.91 Z\" fill=\"#000000\" fill-rule=\"evenodd\" fill-opacity=\"1\" /><path clip-path=\"url(#clip900)\" d=\"M2232.65 1517.37 Q2229.04 1517.37 2227.21 1520.93 Q2225.41 1524.47 2225.41 1531.6 Q2225.41 1538.71 2227.21 1542.27 Q2229.04 1545.82 2232.65 1545.82 Q2236.29 1545.82 2238.09 1542.27 Q2239.92 1538.71 2239.92 1531.6 Q2239.92 1524.47 2238.09 1520.93 Q2236.29 1517.37 2232.65 1517.37 M2232.65 1513.66 Q2238.46 1513.66 2241.52 1518.27 Q2244.6 1522.85 2244.6 1531.6 Q2244.6 1540.33 2241.52 1544.94 Q2238.46 1549.52 2232.65 1549.52 Q2226.84 1549.52 2223.76 1544.94 Q2220.71 1540.33 2220.71 1531.6 Q2220.71 1522.85 2223.76 1518.27 Q2226.84 1513.66 2232.65 1513.66 Z\" fill=\"#000000\" fill-rule=\"evenodd\" fill-opacity=\"1\" /><polyline clip-path=\"url(#clip902)\" style=\"stroke:#000000; stroke-linecap:round; stroke-linejoin:round; stroke-width:2; stroke-opacity:0.1; fill:none\" points=\"\n",
       "  169.121,1445.72 2352.76,1445.72 \n",
       "  \"/>\n",
       "<polyline clip-path=\"url(#clip902)\" style=\"stroke:#000000; stroke-linecap:round; stroke-linejoin:round; stroke-width:2; stroke-opacity:0.1; fill:none\" points=\"\n",
       "  169.121,1240 2352.76,1240 \n",
       "  \"/>\n",
       "<polyline clip-path=\"url(#clip902)\" style=\"stroke:#000000; stroke-linecap:round; stroke-linejoin:round; stroke-width:2; stroke-opacity:0.1; fill:none\" points=\"\n",
       "  169.121,1034.28 2352.76,1034.28 \n",
       "  \"/>\n",
       "<polyline clip-path=\"url(#clip902)\" style=\"stroke:#000000; stroke-linecap:round; stroke-linejoin:round; stroke-width:2; stroke-opacity:0.1; fill:none\" points=\"\n",
       "  169.121,828.561 2352.76,828.561 \n",
       "  \"/>\n",
       "<polyline clip-path=\"url(#clip902)\" style=\"stroke:#000000; stroke-linecap:round; stroke-linejoin:round; stroke-width:2; stroke-opacity:0.1; fill:none\" points=\"\n",
       "  169.121,622.843 2352.76,622.843 \n",
       "  \"/>\n",
       "<polyline clip-path=\"url(#clip902)\" style=\"stroke:#000000; stroke-linecap:round; stroke-linejoin:round; stroke-width:2; stroke-opacity:0.1; fill:none\" points=\"\n",
       "  169.121,417.125 2352.76,417.125 \n",
       "  \"/>\n",
       "<polyline clip-path=\"url(#clip902)\" style=\"stroke:#000000; stroke-linecap:round; stroke-linejoin:round; stroke-width:2; stroke-opacity:0.1; fill:none\" points=\"\n",
       "  169.121,211.407 2352.76,211.407 \n",
       "  \"/>\n",
       "<polyline clip-path=\"url(#clip900)\" style=\"stroke:#000000; stroke-linecap:round; stroke-linejoin:round; stroke-width:4; stroke-opacity:1; fill:none\" points=\"\n",
       "  169.121,1486.45 169.121,47.2441 \n",
       "  \"/>\n",
       "<polyline clip-path=\"url(#clip900)\" style=\"stroke:#000000; stroke-linecap:round; stroke-linejoin:round; stroke-width:4; stroke-opacity:1; fill:none\" points=\"\n",
       "  169.121,1445.72 188.019,1445.72 \n",
       "  \"/>\n",
       "<polyline clip-path=\"url(#clip900)\" style=\"stroke:#000000; stroke-linecap:round; stroke-linejoin:round; stroke-width:4; stroke-opacity:1; fill:none\" points=\"\n",
       "  169.121,1240 188.019,1240 \n",
       "  \"/>\n",
       "<polyline clip-path=\"url(#clip900)\" style=\"stroke:#000000; stroke-linecap:round; stroke-linejoin:round; stroke-width:4; stroke-opacity:1; fill:none\" points=\"\n",
       "  169.121,1034.28 188.019,1034.28 \n",
       "  \"/>\n",
       "<polyline clip-path=\"url(#clip900)\" style=\"stroke:#000000; stroke-linecap:round; stroke-linejoin:round; stroke-width:4; stroke-opacity:1; fill:none\" points=\"\n",
       "  169.121,828.561 188.019,828.561 \n",
       "  \"/>\n",
       "<polyline clip-path=\"url(#clip900)\" style=\"stroke:#000000; stroke-linecap:round; stroke-linejoin:round; stroke-width:4; stroke-opacity:1; fill:none\" points=\"\n",
       "  169.121,622.843 188.019,622.843 \n",
       "  \"/>\n",
       "<polyline clip-path=\"url(#clip900)\" style=\"stroke:#000000; stroke-linecap:round; stroke-linejoin:round; stroke-width:4; stroke-opacity:1; fill:none\" points=\"\n",
       "  169.121,417.125 188.019,417.125 \n",
       "  \"/>\n",
       "<polyline clip-path=\"url(#clip900)\" style=\"stroke:#000000; stroke-linecap:round; stroke-linejoin:round; stroke-width:4; stroke-opacity:1; fill:none\" points=\"\n",
       "  169.121,211.407 188.019,211.407 \n",
       "  \"/>\n",
       "<path clip-path=\"url(#clip900)\" d=\"M121.177 1431.51 Q117.566 1431.51 115.737 1435.08 Q113.932 1438.62 113.932 1445.75 Q113.932 1452.86 115.737 1456.42 Q117.566 1459.96 121.177 1459.96 Q124.811 1459.96 126.617 1456.42 Q128.445 1452.86 128.445 1445.75 Q128.445 1438.62 126.617 1435.08 Q124.811 1431.51 121.177 1431.51 M121.177 1427.81 Q126.987 1427.81 130.043 1432.42 Q133.121 1437 133.121 1445.75 Q133.121 1454.48 130.043 1459.08 Q126.987 1463.67 121.177 1463.67 Q115.367 1463.67 112.288 1459.08 Q109.233 1454.48 109.233 1445.75 Q109.233 1437 112.288 1432.42 Q115.367 1427.81 121.177 1427.81 Z\" fill=\"#000000\" fill-rule=\"evenodd\" fill-opacity=\"1\" /><path clip-path=\"url(#clip900)\" d=\"M85.0429 1253.34 L101.362 1253.34 L101.362 1257.28 L79.4179 1257.28 L79.4179 1253.34 Q82.0799 1250.59 86.6632 1245.96 Q91.2697 1241.31 92.4502 1239.96 Q94.6956 1237.44 95.5752 1235.7 Q96.478 1233.94 96.478 1232.25 Q96.478 1229.5 94.5336 1227.76 Q92.6123 1226.03 89.5104 1226.03 Q87.3114 1226.03 84.8577 1226.79 Q82.4271 1227.56 79.6494 1229.11 L79.6494 1224.38 Q82.4734 1223.25 84.9271 1222.67 Q87.3808 1222.09 89.4178 1222.09 Q94.7882 1222.09 97.9826 1224.78 Q101.177 1227.46 101.177 1231.95 Q101.177 1234.08 100.367 1236 Q99.5798 1237.9 97.4734 1240.5 Q96.8947 1241.17 93.7928 1244.38 Q90.691 1247.58 85.0429 1253.34 Z\" fill=\"#000000\" fill-rule=\"evenodd\" fill-opacity=\"1\" /><path clip-path=\"url(#clip900)\" d=\"M121.177 1225.8 Q117.566 1225.8 115.737 1229.36 Q113.932 1232.9 113.932 1240.03 Q113.932 1247.14 115.737 1250.7 Q117.566 1254.25 121.177 1254.25 Q124.811 1254.25 126.617 1250.7 Q128.445 1247.14 128.445 1240.03 Q128.445 1232.9 126.617 1229.36 Q124.811 1225.8 121.177 1225.8 M121.177 1222.09 Q126.987 1222.09 130.043 1226.7 Q133.121 1231.28 133.121 1240.03 Q133.121 1248.76 130.043 1253.37 Q126.987 1257.95 121.177 1257.95 Q115.367 1257.95 112.288 1253.37 Q109.233 1248.76 109.233 1240.03 Q109.233 1231.28 112.288 1226.7 Q115.367 1222.09 121.177 1222.09 Z\" fill=\"#000000\" fill-rule=\"evenodd\" fill-opacity=\"1\" /><path clip-path=\"url(#clip900)\" d=\"M93.8623 1021.07 L82.0568 1039.52 L93.8623 1039.52 L93.8623 1021.07 M92.6354 1017 L98.515 1017 L98.515 1039.52 L103.446 1039.52 L103.446 1043.41 L98.515 1043.41 L98.515 1051.56 L93.8623 1051.56 L93.8623 1043.41 L78.2605 1043.41 L78.2605 1038.9 L92.6354 1017 Z\" fill=\"#000000\" fill-rule=\"evenodd\" fill-opacity=\"1\" /><path clip-path=\"url(#clip900)\" d=\"M121.177 1020.08 Q117.566 1020.08 115.737 1023.64 Q113.932 1027.18 113.932 1034.31 Q113.932 1041.42 115.737 1044.99 Q117.566 1048.53 121.177 1048.53 Q124.811 1048.53 126.617 1044.99 Q128.445 1041.42 128.445 1034.31 Q128.445 1027.18 126.617 1023.64 Q124.811 1020.08 121.177 1020.08 M121.177 1016.37 Q126.987 1016.37 130.043 1020.98 Q133.121 1025.56 133.121 1034.31 Q133.121 1043.04 130.043 1047.65 Q126.987 1052.23 121.177 1052.23 Q115.367 1052.23 112.288 1047.65 Q109.233 1043.04 109.233 1034.31 Q109.233 1025.56 112.288 1020.98 Q115.367 1016.37 121.177 1016.37 Z\" fill=\"#000000\" fill-rule=\"evenodd\" fill-opacity=\"1\" /><path clip-path=\"url(#clip900)\" d=\"M91.5938 826.698 Q88.4456 826.698 86.5938 828.851 Q84.7651 831.004 84.7651 834.754 Q84.7651 838.48 86.5938 840.656 Q88.4456 842.809 91.5938 842.809 Q94.7419 842.809 96.5706 840.656 Q98.4224 838.48 98.4224 834.754 Q98.4224 831.004 96.5706 828.851 Q94.7419 826.698 91.5938 826.698 M100.876 812.045 L100.876 816.305 Q99.1169 815.471 97.3113 815.031 Q95.5289 814.592 93.7697 814.592 Q89.1401 814.592 86.6864 817.717 Q84.2558 820.842 83.9086 827.161 Q85.2743 825.147 87.3345 824.082 Q89.3947 822.994 91.8715 822.994 Q97.0798 822.994 100.089 826.166 Q103.121 829.314 103.121 834.754 Q103.121 840.078 99.9733 843.295 Q96.8252 846.513 91.5938 846.513 Q85.5984 846.513 82.4271 841.929 Q79.2559 837.323 79.2559 828.596 Q79.2559 820.402 83.1447 815.541 Q87.0336 810.656 93.5845 810.656 Q95.3437 810.656 97.1261 811.004 Q98.9317 811.351 100.876 812.045 Z\" fill=\"#000000\" fill-rule=\"evenodd\" fill-opacity=\"1\" /><path clip-path=\"url(#clip900)\" d=\"M121.177 814.36 Q117.566 814.36 115.737 817.925 Q113.932 821.467 113.932 828.596 Q113.932 835.703 115.737 839.267 Q117.566 842.809 121.177 842.809 Q124.811 842.809 126.617 839.267 Q128.445 835.703 128.445 828.596 Q128.445 821.467 126.617 817.925 Q124.811 814.36 121.177 814.36 M121.177 810.656 Q126.987 810.656 130.043 815.263 Q133.121 819.846 133.121 828.596 Q133.121 837.323 130.043 841.929 Q126.987 846.513 121.177 846.513 Q115.367 846.513 112.288 841.929 Q109.233 837.323 109.233 828.596 Q109.233 819.846 112.288 815.263 Q115.367 810.656 121.177 810.656 Z\" fill=\"#000000\" fill-rule=\"evenodd\" fill-opacity=\"1\" /><path clip-path=\"url(#clip900)\" d=\"M91.0151 623.711 Q87.6817 623.711 85.7605 625.494 Q83.8623 627.276 83.8623 630.401 Q83.8623 633.526 85.7605 635.309 Q87.6817 637.091 91.0151 637.091 Q94.3484 637.091 96.2697 635.309 Q98.1909 633.503 98.1909 630.401 Q98.1909 627.276 96.2697 625.494 Q94.3715 623.711 91.0151 623.711 M86.3392 621.721 Q83.3299 620.98 81.6401 618.92 Q79.9735 616.86 79.9735 613.897 Q79.9735 609.753 82.9133 607.346 Q85.8762 604.938 91.0151 604.938 Q96.1771 604.938 99.1169 607.346 Q102.057 609.753 102.057 613.897 Q102.057 616.86 100.367 618.92 Q98.7002 620.98 95.7141 621.721 Q99.0937 622.508 100.969 624.799 Q102.867 627.091 102.867 630.401 Q102.867 635.424 99.7882 638.109 Q96.7326 640.795 91.0151 640.795 Q85.2975 640.795 82.2188 638.109 Q79.1633 635.424 79.1633 630.401 Q79.1633 627.091 81.0614 624.799 Q82.9595 622.508 86.3392 621.721 M84.6262 614.336 Q84.6262 617.022 86.2929 618.526 Q87.9827 620.031 91.0151 620.031 Q94.0243 620.031 95.7141 618.526 Q97.4271 617.022 97.4271 614.336 Q97.4271 611.651 95.7141 610.147 Q94.0243 608.642 91.0151 608.642 Q87.9827 608.642 86.2929 610.147 Q84.6262 611.651 84.6262 614.336 Z\" fill=\"#000000\" fill-rule=\"evenodd\" fill-opacity=\"1\" /><path clip-path=\"url(#clip900)\" d=\"M121.177 608.642 Q117.566 608.642 115.737 612.207 Q113.932 615.748 113.932 622.878 Q113.932 629.984 115.737 633.549 Q117.566 637.091 121.177 637.091 Q124.811 637.091 126.617 633.549 Q128.445 629.984 128.445 622.878 Q128.445 615.748 126.617 612.207 Q124.811 608.642 121.177 608.642 M121.177 604.938 Q126.987 604.938 130.043 609.545 Q133.121 614.128 133.121 622.878 Q133.121 631.605 130.043 636.211 Q126.987 640.795 121.177 640.795 Q115.367 640.795 112.288 636.211 Q109.233 631.605 109.233 622.878 Q109.233 614.128 112.288 609.545 Q115.367 604.938 121.177 604.938 Z\" fill=\"#000000\" fill-rule=\"evenodd\" fill-opacity=\"1\" /><path clip-path=\"url(#clip900)\" d=\"M51.6634 430.47 L59.3023 430.47 L59.3023 404.104 L50.9921 405.771 L50.9921 401.512 L59.256 399.845 L63.9319 399.845 L63.9319 430.47 L71.5707 430.47 L71.5707 434.405 L51.6634 434.405 L51.6634 430.47 Z\" fill=\"#000000\" fill-rule=\"evenodd\" fill-opacity=\"1\" /><path clip-path=\"url(#clip900)\" d=\"M91.0151 402.924 Q87.404 402.924 85.5753 406.489 Q83.7697 410.03 83.7697 417.16 Q83.7697 424.266 85.5753 427.831 Q87.404 431.373 91.0151 431.373 Q94.6493 431.373 96.4548 427.831 Q98.2835 424.266 98.2835 417.16 Q98.2835 410.03 96.4548 406.489 Q94.6493 402.924 91.0151 402.924 M91.0151 399.22 Q96.8252 399.22 99.8808 403.827 Q102.959 408.41 102.959 417.16 Q102.959 425.887 99.8808 430.493 Q96.8252 435.077 91.0151 435.077 Q85.2049 435.077 82.1262 430.493 Q79.0707 425.887 79.0707 417.16 Q79.0707 408.41 82.1262 403.827 Q85.2049 399.22 91.0151 399.22 Z\" fill=\"#000000\" fill-rule=\"evenodd\" fill-opacity=\"1\" /><path clip-path=\"url(#clip900)\" d=\"M121.177 402.924 Q117.566 402.924 115.737 406.489 Q113.932 410.03 113.932 417.16 Q113.932 424.266 115.737 427.831 Q117.566 431.373 121.177 431.373 Q124.811 431.373 126.617 427.831 Q128.445 424.266 128.445 417.16 Q128.445 410.03 126.617 406.489 Q124.811 402.924 121.177 402.924 M121.177 399.22 Q126.987 399.22 130.043 403.827 Q133.121 408.41 133.121 417.16 Q133.121 425.887 130.043 430.493 Q126.987 435.077 121.177 435.077 Q115.367 435.077 112.288 430.493 Q109.233 425.887 109.233 417.16 Q109.233 408.41 112.288 403.827 Q115.367 399.22 121.177 399.22 Z\" fill=\"#000000\" fill-rule=\"evenodd\" fill-opacity=\"1\" /><path clip-path=\"url(#clip900)\" d=\"M51.6634 224.752 L59.3023 224.752 L59.3023 198.386 L50.9921 200.053 L50.9921 195.794 L59.256 194.127 L63.9319 194.127 L63.9319 224.752 L71.5707 224.752 L71.5707 228.687 L51.6634 228.687 L51.6634 224.752 Z\" fill=\"#000000\" fill-rule=\"evenodd\" fill-opacity=\"1\" /><path clip-path=\"url(#clip900)\" d=\"M85.0429 224.752 L101.362 224.752 L101.362 228.687 L79.4179 228.687 L79.4179 224.752 Q82.0799 221.997 86.6632 217.368 Q91.2697 212.715 92.4502 211.372 Q94.6956 208.849 95.5752 207.113 Q96.478 205.354 96.478 203.664 Q96.478 200.91 94.5336 199.173 Q92.6123 197.437 89.5104 197.437 Q87.3114 197.437 84.8577 198.201 Q82.4271 198.965 79.6494 200.516 L79.6494 195.794 Q82.4734 194.66 84.9271 194.081 Q87.3808 193.502 89.4178 193.502 Q94.7882 193.502 97.9826 196.187 Q101.177 198.872 101.177 203.363 Q101.177 205.493 100.367 207.414 Q99.5798 209.312 97.4734 211.905 Q96.8947 212.576 93.7928 215.794 Q90.691 218.988 85.0429 224.752 Z\" fill=\"#000000\" fill-rule=\"evenodd\" fill-opacity=\"1\" /><path clip-path=\"url(#clip900)\" d=\"M121.177 197.206 Q117.566 197.206 115.737 200.771 Q113.932 204.312 113.932 211.442 Q113.932 218.548 115.737 222.113 Q117.566 225.655 121.177 225.655 Q124.811 225.655 126.617 222.113 Q128.445 218.548 128.445 211.442 Q128.445 204.312 126.617 200.771 Q124.811 197.206 121.177 197.206 M121.177 193.502 Q126.987 193.502 130.043 198.109 Q133.121 202.692 133.121 211.442 Q133.121 220.169 130.043 224.775 Q126.987 229.358 121.177 229.358 Q115.367 229.358 112.288 224.775 Q109.233 220.169 109.233 211.442 Q109.233 202.692 112.288 198.109 Q115.367 193.502 121.177 193.502 Z\" fill=\"#000000\" fill-rule=\"evenodd\" fill-opacity=\"1\" /><path clip-path=\"url(#clip902)\" d=\"\n",
       "M289.225 1425.14 L289.225 1445.72 L775.082 1445.72 L775.082 1425.14 L289.225 1425.14 L289.225 1425.14  Z\n",
       "  \" fill=\"#009af9\" fill-rule=\"evenodd\" fill-opacity=\"1\"/>\n",
       "<polyline clip-path=\"url(#clip902)\" style=\"stroke:#000000; stroke-linecap:round; stroke-linejoin:round; stroke-width:4; stroke-opacity:1; fill:none\" points=\"\n",
       "  289.225,1425.14 289.225,1445.72 775.082,1445.72 775.082,1425.14 289.225,1425.14 \n",
       "  \"/>\n",
       "<path clip-path=\"url(#clip902)\" d=\"\n",
       "M775.082 87.9763 L775.082 1445.72 L1260.94 1445.72 L1260.94 87.9763 L775.082 87.9763 L775.082 87.9763  Z\n",
       "  \" fill=\"#009af9\" fill-rule=\"evenodd\" fill-opacity=\"1\"/>\n",
       "<polyline clip-path=\"url(#clip902)\" style=\"stroke:#000000; stroke-linecap:round; stroke-linejoin:round; stroke-width:4; stroke-opacity:1; fill:none\" points=\"\n",
       "  775.082,87.9763 775.082,1445.72 1260.94,1445.72 1260.94,87.9763 775.082,87.9763 \n",
       "  \"/>\n",
       "<path clip-path=\"url(#clip902)\" d=\"\n",
       "M1260.94 1229.71 L1260.94 1445.72 L1746.8 1445.72 L1746.8 1229.71 L1260.94 1229.71 L1260.94 1229.71  Z\n",
       "  \" fill=\"#009af9\" fill-rule=\"evenodd\" fill-opacity=\"1\"/>\n",
       "<polyline clip-path=\"url(#clip902)\" style=\"stroke:#000000; stroke-linecap:round; stroke-linejoin:round; stroke-width:4; stroke-opacity:1; fill:none\" points=\"\n",
       "  1260.94,1229.71 1260.94,1445.72 1746.8,1445.72 1746.8,1229.71 1260.94,1229.71 \n",
       "  \"/>\n",
       "<path clip-path=\"url(#clip902)\" d=\"\n",
       "M1746.8 561.128 L1746.8 1445.72 L2232.65 1445.72 L2232.65 561.128 L1746.8 561.128 L1746.8 561.128  Z\n",
       "  \" fill=\"#009af9\" fill-rule=\"evenodd\" fill-opacity=\"1\"/>\n",
       "<polyline clip-path=\"url(#clip902)\" style=\"stroke:#000000; stroke-linecap:round; stroke-linejoin:round; stroke-width:4; stroke-opacity:1; fill:none\" points=\"\n",
       "  1746.8,561.128 1746.8,1445.72 2232.65,1445.72 2232.65,561.128 1746.8,561.128 \n",
       "  \"/>\n",
       "<circle clip-path=\"url(#clip902)\" style=\"fill:#009af9; stroke:none; fill-opacity:0\" cx=\"532.153\" cy=\"1425.14\" r=\"2\"/>\n",
       "<circle clip-path=\"url(#clip902)\" style=\"fill:#009af9; stroke:none; fill-opacity:0\" cx=\"1018.01\" cy=\"87.9763\" r=\"2\"/>\n",
       "<circle clip-path=\"url(#clip902)\" style=\"fill:#009af9; stroke:none; fill-opacity:0\" cx=\"1503.87\" cy=\"1229.71\" r=\"2\"/>\n",
       "<circle clip-path=\"url(#clip902)\" style=\"fill:#009af9; stroke:none; fill-opacity:0\" cx=\"1989.72\" cy=\"561.128\" r=\"2\"/>\n",
       "<path clip-path=\"url(#clip900)\" d=\"\n",
       "M1984.91 198.898 L2279.97 198.898 L2279.97 95.2176 L1984.91 95.2176  Z\n",
       "  \" fill=\"#ffffff\" fill-rule=\"evenodd\" fill-opacity=\"1\"/>\n",
       "<polyline clip-path=\"url(#clip900)\" style=\"stroke:#000000; stroke-linecap:round; stroke-linejoin:round; stroke-width:4; stroke-opacity:1; fill:none\" points=\"\n",
       "  1984.91,198.898 2279.97,198.898 2279.97,95.2176 1984.91,95.2176 1984.91,198.898 \n",
       "  \"/>\n",
       "<path clip-path=\"url(#clip900)\" d=\"\n",
       "M2009.17 167.794 L2154.75 167.794 L2154.75 126.322 L2009.17 126.322 L2009.17 167.794  Z\n",
       "  \" fill=\"#009af9\" fill-rule=\"evenodd\" fill-opacity=\"1\"/>\n",
       "<polyline clip-path=\"url(#clip900)\" style=\"stroke:#000000; stroke-linecap:round; stroke-linejoin:round; stroke-width:4; stroke-opacity:1; fill:none\" points=\"\n",
       "  2009.17,167.794 2154.75,167.794 2154.75,126.322 2009.17,126.322 2009.17,167.794 \n",
       "  \"/>\n",
       "<path clip-path=\"url(#clip900)\" d=\"M2192.86 166.745 Q2191.05 171.375 2189.34 172.787 Q2187.62 174.199 2184.75 174.199 L2181.35 174.199 L2181.35 170.634 L2183.85 170.634 Q2185.61 170.634 2186.58 169.8 Q2187.55 168.967 2188.73 165.865 L2189.5 163.921 L2179.01 138.412 L2183.53 138.412 L2191.63 158.689 L2199.73 138.412 L2204.24 138.412 L2192.86 166.745 Z\" fill=\"#000000\" fill-rule=\"evenodd\" fill-opacity=\"1\" /><path clip-path=\"url(#clip900)\" d=\"M2211.54 160.402 L2219.17 160.402 L2219.17 134.037 L2210.86 135.703 L2210.86 131.444 L2219.13 129.778 L2223.8 129.778 L2223.8 160.402 L2231.44 160.402 L2231.44 164.338 L2211.54 164.338 L2211.54 160.402 Z\" fill=\"#000000\" fill-rule=\"evenodd\" fill-opacity=\"1\" /></svg>\n"
      ]
     },
     "execution_count": 78,
     "metadata": {},
     "output_type": "execute_result"
    }
   ],
   "source": [
    "histogram(lods_from_alt[lods_from_alt[:, 108] .< 0, 108])"
   ]
  },
  {
   "cell_type": "code",
   "execution_count": 79,
   "id": "1d970aea-5087-48ab-b36e-89dc0948ca11",
   "metadata": {},
   "outputs": [],
   "source": [
    "tol = 1.0;"
   ]
  },
  {
   "cell_type": "code",
   "execution_count": 80,
   "id": "e3840390-9d6d-4a0a-a04a-edd58ee0fd3d",
   "metadata": {},
   "outputs": [
    {
     "data": {
      "text/plain": [
       "0.9884312114893811"
      ]
     },
     "execution_count": 80,
     "metadata": {},
     "output_type": "execute_result"
    }
   ],
   "source": [
    "sum(diffArray .<= tol)/length(diffArray)"
   ]
  },
  {
   "cell_type": "code",
   "execution_count": 81,
   "id": "22de3db0-f65c-4b9e-a7ae-ccf7a7a9d43a",
   "metadata": {},
   "outputs": [
    {
     "data": {
      "image/svg+xml": [
       "<?xml version=\"1.0\" encoding=\"utf-8\"?>\n",
       "<svg xmlns=\"http://www.w3.org/2000/svg\" xmlns:xlink=\"http://www.w3.org/1999/xlink\" width=\"600\" height=\"400\" viewBox=\"0 0 2400 1600\">\n",
       "<defs>\n",
       "  <clipPath id=\"clip940\">\n",
       "    <rect x=\"0\" y=\"0\" width=\"2400\" height=\"1600\"/>\n",
       "  </clipPath>\n",
       "</defs>\n",
       "<path clip-path=\"url(#clip940)\" d=\"\n",
       "M0 1600 L2400 1600 L2400 0 L0 0  Z\n",
       "  \" fill=\"#ffffff\" fill-rule=\"evenodd\" fill-opacity=\"1\"/>\n",
       "<defs>\n",
       "  <clipPath id=\"clip941\">\n",
       "    <rect x=\"480\" y=\"0\" width=\"1681\" height=\"1600\"/>\n",
       "  </clipPath>\n",
       "</defs>\n",
       "<path clip-path=\"url(#clip940)\" d=\"\n",
       "M140.696 1486.45 L2352.76 1486.45 L2352.76 47.2441 L140.696 47.2441  Z\n",
       "  \" fill=\"#ffffff\" fill-rule=\"evenodd\" fill-opacity=\"1\"/>\n",
       "<defs>\n",
       "  <clipPath id=\"clip942\">\n",
       "    <rect x=\"140\" y=\"47\" width=\"2213\" height=\"1440\"/>\n",
       "  </clipPath>\n",
       "</defs>\n",
       "<polyline clip-path=\"url(#clip942)\" style=\"stroke:#000000; stroke-linecap:round; stroke-linejoin:round; stroke-width:2; stroke-opacity:0.1; fill:none\" points=\"\n",
       "  459.235,1486.45 459.235,47.2441 \n",
       "  \"/>\n",
       "<polyline clip-path=\"url(#clip942)\" style=\"stroke:#000000; stroke-linecap:round; stroke-linejoin:round; stroke-width:2; stroke-opacity:0.1; fill:none\" points=\"\n",
       "  852.981,1486.45 852.981,47.2441 \n",
       "  \"/>\n",
       "<polyline clip-path=\"url(#clip942)\" style=\"stroke:#000000; stroke-linecap:round; stroke-linejoin:round; stroke-width:2; stroke-opacity:0.1; fill:none\" points=\"\n",
       "  1246.73,1486.45 1246.73,47.2441 \n",
       "  \"/>\n",
       "<polyline clip-path=\"url(#clip942)\" style=\"stroke:#000000; stroke-linecap:round; stroke-linejoin:round; stroke-width:2; stroke-opacity:0.1; fill:none\" points=\"\n",
       "  1640.47,1486.45 1640.47,47.2441 \n",
       "  \"/>\n",
       "<polyline clip-path=\"url(#clip942)\" style=\"stroke:#000000; stroke-linecap:round; stroke-linejoin:round; stroke-width:2; stroke-opacity:0.1; fill:none\" points=\"\n",
       "  2034.22,1486.45 2034.22,47.2441 \n",
       "  \"/>\n",
       "<polyline clip-path=\"url(#clip940)\" style=\"stroke:#000000; stroke-linecap:round; stroke-linejoin:round; stroke-width:4; stroke-opacity:1; fill:none\" points=\"\n",
       "  140.696,1486.45 2352.76,1486.45 \n",
       "  \"/>\n",
       "<polyline clip-path=\"url(#clip940)\" style=\"stroke:#000000; stroke-linecap:round; stroke-linejoin:round; stroke-width:4; stroke-opacity:1; fill:none\" points=\"\n",
       "  459.235,1486.45 459.235,1467.55 \n",
       "  \"/>\n",
       "<polyline clip-path=\"url(#clip940)\" style=\"stroke:#000000; stroke-linecap:round; stroke-linejoin:round; stroke-width:4; stroke-opacity:1; fill:none\" points=\"\n",
       "  852.981,1486.45 852.981,1467.55 \n",
       "  \"/>\n",
       "<polyline clip-path=\"url(#clip940)\" style=\"stroke:#000000; stroke-linecap:round; stroke-linejoin:round; stroke-width:4; stroke-opacity:1; fill:none\" points=\"\n",
       "  1246.73,1486.45 1246.73,1467.55 \n",
       "  \"/>\n",
       "<polyline clip-path=\"url(#clip940)\" style=\"stroke:#000000; stroke-linecap:round; stroke-linejoin:round; stroke-width:4; stroke-opacity:1; fill:none\" points=\"\n",
       "  1640.47,1486.45 1640.47,1467.55 \n",
       "  \"/>\n",
       "<polyline clip-path=\"url(#clip940)\" style=\"stroke:#000000; stroke-linecap:round; stroke-linejoin:round; stroke-width:4; stroke-opacity:1; fill:none\" points=\"\n",
       "  2034.22,1486.45 2034.22,1467.55 \n",
       "  \"/>\n",
       "<path clip-path=\"url(#clip940)\" d=\"M459.235 1517.37 Q455.624 1517.37 453.796 1520.93 Q451.99 1524.47 451.99 1531.6 Q451.99 1538.71 453.796 1542.27 Q455.624 1545.82 459.235 1545.82 Q462.87 1545.82 464.675 1542.27 Q466.504 1538.71 466.504 1531.6 Q466.504 1524.47 464.675 1520.93 Q462.87 1517.37 459.235 1517.37 M459.235 1513.66 Q465.046 1513.66 468.101 1518.27 Q471.18 1522.85 471.18 1531.6 Q471.18 1540.33 468.101 1544.94 Q465.046 1549.52 459.235 1549.52 Q453.425 1549.52 450.347 1544.94 Q447.291 1540.33 447.291 1531.6 Q447.291 1522.85 450.347 1518.27 Q453.425 1513.66 459.235 1513.66 Z\" fill=\"#000000\" fill-rule=\"evenodd\" fill-opacity=\"1\" /><path clip-path=\"url(#clip940)\" d=\"M843.363 1544.91 L851.001 1544.91 L851.001 1518.55 L842.691 1520.21 L842.691 1515.95 L850.955 1514.29 L855.631 1514.29 L855.631 1544.91 L863.27 1544.91 L863.27 1548.85 L843.363 1548.85 L843.363 1544.91 Z\" fill=\"#000000\" fill-rule=\"evenodd\" fill-opacity=\"1\" /><path clip-path=\"url(#clip940)\" d=\"M1241.38 1544.91 L1257.7 1544.91 L1257.7 1548.85 L1235.75 1548.85 L1235.75 1544.91 Q1238.42 1542.16 1243 1537.53 Q1247.61 1532.88 1248.79 1531.53 Q1251.03 1529.01 1251.91 1527.27 Q1252.81 1525.51 1252.81 1523.82 Q1252.81 1521.07 1250.87 1519.33 Q1248.95 1517.6 1245.85 1517.6 Q1243.65 1517.6 1241.19 1518.36 Q1238.76 1519.13 1235.99 1520.68 L1235.99 1515.95 Q1238.81 1514.82 1241.26 1514.24 Q1243.72 1513.66 1245.75 1513.66 Q1251.12 1513.66 1254.32 1516.35 Q1257.51 1519.03 1257.51 1523.52 Q1257.51 1525.65 1256.7 1527.57 Q1255.92 1529.47 1253.81 1532.07 Q1253.23 1532.74 1250.13 1535.95 Q1247.03 1539.15 1241.38 1544.91 Z\" fill=\"#000000\" fill-rule=\"evenodd\" fill-opacity=\"1\" /><path clip-path=\"url(#clip940)\" d=\"M1644.72 1530.21 Q1648.08 1530.93 1649.95 1533.2 Q1651.85 1535.47 1651.85 1538.8 Q1651.85 1543.92 1648.33 1546.72 Q1644.81 1549.52 1638.33 1549.52 Q1636.15 1549.52 1633.84 1549.08 Q1631.55 1548.66 1629.09 1547.81 L1629.09 1543.29 Q1631.04 1544.43 1633.35 1545.01 Q1635.67 1545.58 1638.19 1545.58 Q1642.59 1545.58 1644.88 1543.85 Q1647.2 1542.11 1647.2 1538.8 Q1647.2 1535.75 1645.04 1534.03 Q1642.91 1532.3 1639.09 1532.3 L1635.07 1532.3 L1635.07 1528.45 L1639.28 1528.45 Q1642.73 1528.45 1644.56 1527.09 Q1646.39 1525.7 1646.39 1523.11 Q1646.39 1520.45 1644.49 1519.03 Q1642.61 1517.6 1639.09 1517.6 Q1637.17 1517.6 1634.97 1518.01 Q1632.77 1518.43 1630.14 1519.31 L1630.14 1515.14 Q1632.8 1514.4 1635.11 1514.03 Q1637.45 1513.66 1639.51 1513.66 Q1644.83 1513.66 1647.94 1516.09 Q1651.04 1518.5 1651.04 1522.62 Q1651.04 1525.49 1649.39 1527.48 Q1647.75 1529.45 1644.72 1530.21 Z\" fill=\"#000000\" fill-rule=\"evenodd\" fill-opacity=\"1\" /><path clip-path=\"url(#clip940)\" d=\"M2037.23 1518.36 L2025.42 1536.81 L2037.23 1536.81 L2037.23 1518.36 M2036 1514.29 L2041.88 1514.29 L2041.88 1536.81 L2046.81 1536.81 L2046.81 1540.7 L2041.88 1540.7 L2041.88 1548.85 L2037.23 1548.85 L2037.23 1540.7 L2021.62 1540.7 L2021.62 1536.19 L2036 1514.29 Z\" fill=\"#000000\" fill-rule=\"evenodd\" fill-opacity=\"1\" /><polyline clip-path=\"url(#clip942)\" style=\"stroke:#000000; stroke-linecap:round; stroke-linejoin:round; stroke-width:2; stroke-opacity:0.1; fill:none\" points=\"\n",
       "  140.696,1445.72 2352.76,1445.72 \n",
       "  \"/>\n",
       "<polyline clip-path=\"url(#clip942)\" style=\"stroke:#000000; stroke-linecap:round; stroke-linejoin:round; stroke-width:2; stroke-opacity:0.1; fill:none\" points=\"\n",
       "  140.696,993.136 2352.76,993.136 \n",
       "  \"/>\n",
       "<polyline clip-path=\"url(#clip942)\" style=\"stroke:#000000; stroke-linecap:round; stroke-linejoin:round; stroke-width:2; stroke-opacity:0.1; fill:none\" points=\"\n",
       "  140.696,540.556 2352.76,540.556 \n",
       "  \"/>\n",
       "<polyline clip-path=\"url(#clip942)\" style=\"stroke:#000000; stroke-linecap:round; stroke-linejoin:round; stroke-width:2; stroke-opacity:0.1; fill:none\" points=\"\n",
       "  140.696,87.9763 2352.76,87.9763 \n",
       "  \"/>\n",
       "<polyline clip-path=\"url(#clip940)\" style=\"stroke:#000000; stroke-linecap:round; stroke-linejoin:round; stroke-width:4; stroke-opacity:1; fill:none\" points=\"\n",
       "  140.696,1486.45 140.696,47.2441 \n",
       "  \"/>\n",
       "<polyline clip-path=\"url(#clip940)\" style=\"stroke:#000000; stroke-linecap:round; stroke-linejoin:round; stroke-width:4; stroke-opacity:1; fill:none\" points=\"\n",
       "  140.696,1445.72 159.593,1445.72 \n",
       "  \"/>\n",
       "<polyline clip-path=\"url(#clip940)\" style=\"stroke:#000000; stroke-linecap:round; stroke-linejoin:round; stroke-width:4; stroke-opacity:1; fill:none\" points=\"\n",
       "  140.696,993.136 159.593,993.136 \n",
       "  \"/>\n",
       "<polyline clip-path=\"url(#clip940)\" style=\"stroke:#000000; stroke-linecap:round; stroke-linejoin:round; stroke-width:4; stroke-opacity:1; fill:none\" points=\"\n",
       "  140.696,540.556 159.593,540.556 \n",
       "  \"/>\n",
       "<polyline clip-path=\"url(#clip940)\" style=\"stroke:#000000; stroke-linecap:round; stroke-linejoin:round; stroke-width:4; stroke-opacity:1; fill:none\" points=\"\n",
       "  140.696,87.9763 159.593,87.9763 \n",
       "  \"/>\n",
       "<path clip-path=\"url(#clip940)\" d=\"M92.7512 1431.51 Q89.1401 1431.51 87.3114 1435.08 Q85.5058 1438.62 85.5058 1445.75 Q85.5058 1452.86 87.3114 1456.42 Q89.1401 1459.96 92.7512 1459.96 Q96.3854 1459.96 98.1909 1456.42 Q100.02 1452.86 100.02 1445.75 Q100.02 1438.62 98.1909 1435.08 Q96.3854 1431.51 92.7512 1431.51 M92.7512 1427.81 Q98.5613 1427.81 101.617 1432.42 Q104.696 1437 104.696 1445.75 Q104.696 1454.48 101.617 1459.08 Q98.5613 1463.67 92.7512 1463.67 Q86.941 1463.67 83.8623 1459.08 Q80.8068 1454.48 80.8068 1445.75 Q80.8068 1437 83.8623 1432.42 Q86.941 1427.81 92.7512 1427.81 Z\" fill=\"#000000\" fill-rule=\"evenodd\" fill-opacity=\"1\" /><path clip-path=\"url(#clip940)\" d=\"M53.3995 1006.48 L61.0384 1006.48 L61.0384 980.115 L52.7282 981.782 L52.7282 977.523 L60.9921 975.856 L65.668 975.856 L65.668 1006.48 L73.3068 1006.48 L73.3068 1010.42 L53.3995 1010.42 L53.3995 1006.48 Z\" fill=\"#000000\" fill-rule=\"evenodd\" fill-opacity=\"1\" /><path clip-path=\"url(#clip940)\" d=\"M92.7512 978.935 Q89.1401 978.935 87.3114 982.499 Q85.5058 986.041 85.5058 993.171 Q85.5058 1000.28 87.3114 1003.84 Q89.1401 1007.38 92.7512 1007.38 Q96.3854 1007.38 98.1909 1003.84 Q100.02 1000.28 100.02 993.171 Q100.02 986.041 98.1909 982.499 Q96.3854 978.935 92.7512 978.935 M92.7512 975.231 Q98.5613 975.231 101.617 979.837 Q104.696 984.421 104.696 993.171 Q104.696 1001.9 101.617 1006.5 Q98.5613 1011.09 92.7512 1011.09 Q86.941 1011.09 83.8623 1006.5 Q80.8068 1001.9 80.8068 993.171 Q80.8068 984.421 83.8623 979.837 Q86.941 975.231 92.7512 975.231 Z\" fill=\"#000000\" fill-rule=\"evenodd\" fill-opacity=\"1\" /><path clip-path=\"url(#clip940)\" d=\"M56.6171 553.901 L72.9365 553.901 L72.9365 557.836 L50.9921 557.836 L50.9921 553.901 Q53.6541 551.146 58.2375 546.517 Q62.8439 541.864 64.0245 540.521 Q66.2698 537.998 67.1494 536.262 Q68.0522 534.503 68.0522 532.813 Q68.0522 530.058 66.1078 528.322 Q64.1865 526.586 61.0847 526.586 Q58.8856 526.586 56.4319 527.35 Q54.0014 528.114 51.2236 529.665 L51.2236 524.943 Q54.0477 523.808 56.5014 523.23 Q58.955 522.651 60.9921 522.651 Q66.3624 522.651 69.5568 525.336 Q72.7513 528.021 72.7513 532.512 Q72.7513 534.642 71.9411 536.563 Q71.1541 538.461 69.0476 541.054 Q68.4689 541.725 65.367 544.943 Q62.2652 548.137 56.6171 553.901 Z\" fill=\"#000000\" fill-rule=\"evenodd\" fill-opacity=\"1\" /><path clip-path=\"url(#clip940)\" d=\"M92.7512 526.355 Q89.1401 526.355 87.3114 529.92 Q85.5058 533.461 85.5058 540.591 Q85.5058 547.697 87.3114 551.262 Q89.1401 554.804 92.7512 554.804 Q96.3854 554.804 98.1909 551.262 Q100.02 547.697 100.02 540.591 Q100.02 533.461 98.1909 529.92 Q96.3854 526.355 92.7512 526.355 M92.7512 522.651 Q98.5613 522.651 101.617 527.258 Q104.696 531.841 104.696 540.591 Q104.696 549.318 101.617 553.924 Q98.5613 558.507 92.7512 558.507 Q86.941 558.507 83.8623 553.924 Q80.8068 549.318 80.8068 540.591 Q80.8068 531.841 83.8623 527.258 Q86.941 522.651 92.7512 522.651 Z\" fill=\"#000000\" fill-rule=\"evenodd\" fill-opacity=\"1\" /><path clip-path=\"url(#clip940)\" d=\"M66.7559 86.6221 Q70.1124 87.3397 71.9874 89.6082 Q73.8855 91.8767 73.8855 95.21 Q73.8855 100.326 70.367 103.127 Q66.8485 105.928 60.3671 105.928 Q58.1912 105.928 55.8764 105.488 Q53.5847 105.071 51.131 104.215 L51.131 99.7008 Q53.0754 100.835 55.3903 101.414 Q57.7051 101.992 60.2282 101.992 Q64.6263 101.992 66.918 100.256 Q69.2328 98.5202 69.2328 95.21 Q69.2328 92.1545 67.08 90.4415 Q64.9504 88.7054 61.131 88.7054 L57.1032 88.7054 L57.1032 84.8629 L61.3161 84.8629 Q64.7652 84.8629 66.5939 83.4971 Q68.4226 82.1083 68.4226 79.5157 Q68.4226 76.8537 66.5245 75.4416 Q64.6495 74.0064 61.131 74.0064 Q59.2097 74.0064 57.0106 74.4231 Q54.8115 74.8398 52.1727 75.7194 L52.1727 71.5528 Q54.8347 70.812 57.1495 70.4416 Q59.4875 70.0713 61.5476 70.0713 Q66.8717 70.0713 69.9735 72.5018 Q73.0753 74.9092 73.0753 79.0296 Q73.0753 81.8999 71.4318 83.8907 Q69.7883 85.8582 66.7559 86.6221 Z\" fill=\"#000000\" fill-rule=\"evenodd\" fill-opacity=\"1\" /><path clip-path=\"url(#clip940)\" d=\"M92.7512 73.775 Q89.1401 73.775 87.3114 77.3398 Q85.5058 80.8814 85.5058 88.011 Q85.5058 95.1174 87.3114 98.6822 Q89.1401 102.224 92.7512 102.224 Q96.3854 102.224 98.1909 98.6822 Q100.02 95.1174 100.02 88.011 Q100.02 80.8814 98.1909 77.3398 Q96.3854 73.775 92.7512 73.775 M92.7512 70.0713 Q98.5613 70.0713 101.617 74.6777 Q104.696 79.261 104.696 88.011 Q104.696 96.7378 101.617 101.344 Q98.5613 105.928 92.7512 105.928 Q86.941 105.928 83.8623 101.344 Q80.8068 96.7378 80.8068 88.011 Q80.8068 79.261 83.8623 74.6777 Q86.941 70.0713 92.7512 70.0713 Z\" fill=\"#000000\" fill-rule=\"evenodd\" fill-opacity=\"1\" /><path clip-path=\"url(#clip942)\" d=\"\n",
       "M262.363 1400.46 L262.363 1445.72 L459.235 1445.72 L459.235 1400.46 L262.363 1400.46 L262.363 1400.46  Z\n",
       "  \" fill=\"#009af9\" fill-rule=\"evenodd\" fill-opacity=\"1\"/>\n",
       "<polyline clip-path=\"url(#clip942)\" style=\"stroke:#000000; stroke-linecap:round; stroke-linejoin:round; stroke-width:4; stroke-opacity:1; fill:none\" points=\"\n",
       "  262.363,1400.46 262.363,1445.72 459.235,1445.72 459.235,1400.46 262.363,1400.46 \n",
       "  \"/>\n",
       "<path clip-path=\"url(#clip942)\" d=\"\n",
       "M459.235 87.9763 L459.235 1445.72 L656.108 1445.72 L656.108 87.9763 L459.235 87.9763 L459.235 87.9763  Z\n",
       "  \" fill=\"#009af9\" fill-rule=\"evenodd\" fill-opacity=\"1\"/>\n",
       "<polyline clip-path=\"url(#clip942)\" style=\"stroke:#000000; stroke-linecap:round; stroke-linejoin:round; stroke-width:4; stroke-opacity:1; fill:none\" points=\"\n",
       "  459.235,87.9763 459.235,1445.72 656.108,1445.72 656.108,87.9763 459.235,87.9763 \n",
       "  \"/>\n",
       "<path clip-path=\"url(#clip942)\" d=\"\n",
       "M656.108 495.298 L656.108 1445.72 L852.981 1445.72 L852.981 495.298 L656.108 495.298 L656.108 495.298  Z\n",
       "  \" fill=\"#009af9\" fill-rule=\"evenodd\" fill-opacity=\"1\"/>\n",
       "<polyline clip-path=\"url(#clip942)\" style=\"stroke:#000000; stroke-linecap:round; stroke-linejoin:round; stroke-width:4; stroke-opacity:1; fill:none\" points=\"\n",
       "  656.108,495.298 656.108,1445.72 852.981,1445.72 852.981,495.298 656.108,495.298 \n",
       "  \"/>\n",
       "<path clip-path=\"url(#clip942)\" d=\"\n",
       "M852.981 993.136 L852.981 1445.72 L1049.85 1445.72 L1049.85 993.136 L852.981 993.136 L852.981 993.136  Z\n",
       "  \" fill=\"#009af9\" fill-rule=\"evenodd\" fill-opacity=\"1\"/>\n",
       "<polyline clip-path=\"url(#clip942)\" style=\"stroke:#000000; stroke-linecap:round; stroke-linejoin:round; stroke-width:4; stroke-opacity:1; fill:none\" points=\"\n",
       "  852.981,993.136 852.981,1445.72 1049.85,1445.72 1049.85,993.136 852.981,993.136 \n",
       "  \"/>\n",
       "<path clip-path=\"url(#clip942)\" d=\"\n",
       "M1049.85 1174.17 L1049.85 1445.72 L1246.73 1445.72 L1246.73 1174.17 L1049.85 1174.17 L1049.85 1174.17  Z\n",
       "  \" fill=\"#009af9\" fill-rule=\"evenodd\" fill-opacity=\"1\"/>\n",
       "<polyline clip-path=\"url(#clip942)\" style=\"stroke:#000000; stroke-linecap:round; stroke-linejoin:round; stroke-width:4; stroke-opacity:1; fill:none\" points=\"\n",
       "  1049.85,1174.17 1049.85,1445.72 1246.73,1445.72 1246.73,1174.17 1049.85,1174.17 \n",
       "  \"/>\n",
       "<path clip-path=\"url(#clip942)\" d=\"\n",
       "M1246.73 1264.68 L1246.73 1445.72 L1443.6 1445.72 L1443.6 1264.68 L1246.73 1264.68 L1246.73 1264.68  Z\n",
       "  \" fill=\"#009af9\" fill-rule=\"evenodd\" fill-opacity=\"1\"/>\n",
       "<polyline clip-path=\"url(#clip942)\" style=\"stroke:#000000; stroke-linecap:round; stroke-linejoin:round; stroke-width:4; stroke-opacity:1; fill:none\" points=\"\n",
       "  1246.73,1264.68 1246.73,1445.72 1443.6,1445.72 1443.6,1264.68 1246.73,1264.68 \n",
       "  \"/>\n",
       "<path clip-path=\"url(#clip942)\" d=\"\n",
       "M1443.6 1264.68 L1443.6 1445.72 L1640.47 1445.72 L1640.47 1264.68 L1443.6 1264.68 L1443.6 1264.68  Z\n",
       "  \" fill=\"#009af9\" fill-rule=\"evenodd\" fill-opacity=\"1\"/>\n",
       "<polyline clip-path=\"url(#clip942)\" style=\"stroke:#000000; stroke-linecap:round; stroke-linejoin:round; stroke-width:4; stroke-opacity:1; fill:none\" points=\"\n",
       "  1443.6,1264.68 1443.6,1445.72 1640.47,1445.72 1640.47,1264.68 1443.6,1264.68 \n",
       "  \"/>\n",
       "<path clip-path=\"url(#clip942)\" d=\"\n",
       "M1640.47 1355.2 L1640.47 1445.72 L1837.34 1445.72 L1837.34 1355.2 L1640.47 1355.2 L1640.47 1355.2  Z\n",
       "  \" fill=\"#009af9\" fill-rule=\"evenodd\" fill-opacity=\"1\"/>\n",
       "<polyline clip-path=\"url(#clip942)\" style=\"stroke:#000000; stroke-linecap:round; stroke-linejoin:round; stroke-width:4; stroke-opacity:1; fill:none\" points=\"\n",
       "  1640.47,1355.2 1640.47,1445.72 1837.34,1445.72 1837.34,1355.2 1640.47,1355.2 \n",
       "  \"/>\n",
       "<path clip-path=\"url(#clip942)\" d=\"\n",
       "M1837.34 1445.72 L1837.34 1445.72 L2034.22 1445.72 L2034.22 1445.72 L1837.34 1445.72 L1837.34 1445.72  Z\n",
       "  \" fill=\"#009af9\" fill-rule=\"evenodd\" fill-opacity=\"1\"/>\n",
       "<polyline clip-path=\"url(#clip942)\" style=\"stroke:#000000; stroke-linecap:round; stroke-linejoin:round; stroke-width:4; stroke-opacity:1; fill:none\" points=\"\n",
       "  1837.34,1445.72 1837.34,1445.72 2034.22,1445.72 1837.34,1445.72 \n",
       "  \"/>\n",
       "<path clip-path=\"url(#clip942)\" d=\"\n",
       "M2034.22 1400.46 L2034.22 1445.72 L2231.09 1445.72 L2231.09 1400.46 L2034.22 1400.46 L2034.22 1400.46  Z\n",
       "  \" fill=\"#009af9\" fill-rule=\"evenodd\" fill-opacity=\"1\"/>\n",
       "<polyline clip-path=\"url(#clip942)\" style=\"stroke:#000000; stroke-linecap:round; stroke-linejoin:round; stroke-width:4; stroke-opacity:1; fill:none\" points=\"\n",
       "  2034.22,1400.46 2034.22,1445.72 2231.09,1445.72 2231.09,1400.46 2034.22,1400.46 \n",
       "  \"/>\n",
       "<circle clip-path=\"url(#clip942)\" style=\"fill:#009af9; stroke:none; fill-opacity:0\" cx=\"360.799\" cy=\"1400.46\" r=\"2\"/>\n",
       "<circle clip-path=\"url(#clip942)\" style=\"fill:#009af9; stroke:none; fill-opacity:0\" cx=\"557.672\" cy=\"87.9763\" r=\"2\"/>\n",
       "<circle clip-path=\"url(#clip942)\" style=\"fill:#009af9; stroke:none; fill-opacity:0\" cx=\"754.544\" cy=\"495.298\" r=\"2\"/>\n",
       "<circle clip-path=\"url(#clip942)\" style=\"fill:#009af9; stroke:none; fill-opacity:0\" cx=\"951.417\" cy=\"993.136\" r=\"2\"/>\n",
       "<circle clip-path=\"url(#clip942)\" style=\"fill:#009af9; stroke:none; fill-opacity:0\" cx=\"1148.29\" cy=\"1174.17\" r=\"2\"/>\n",
       "<circle clip-path=\"url(#clip942)\" style=\"fill:#009af9; stroke:none; fill-opacity:0\" cx=\"1345.16\" cy=\"1264.68\" r=\"2\"/>\n",
       "<circle clip-path=\"url(#clip942)\" style=\"fill:#009af9; stroke:none; fill-opacity:0\" cx=\"1542.03\" cy=\"1264.68\" r=\"2\"/>\n",
       "<circle clip-path=\"url(#clip942)\" style=\"fill:#009af9; stroke:none; fill-opacity:0\" cx=\"1738.91\" cy=\"1355.2\" r=\"2\"/>\n",
       "<circle clip-path=\"url(#clip942)\" style=\"fill:#009af9; stroke:none; fill-opacity:0\" cx=\"1935.78\" cy=\"1445.72\" r=\"2\"/>\n",
       "<circle clip-path=\"url(#clip942)\" style=\"fill:#009af9; stroke:none; fill-opacity:0\" cx=\"2132.65\" cy=\"1400.46\" r=\"2\"/>\n",
       "<path clip-path=\"url(#clip940)\" d=\"\n",
       "M1980.81 198.898 L2279.02 198.898 L2279.02 95.2176 L1980.81 95.2176  Z\n",
       "  \" fill=\"#ffffff\" fill-rule=\"evenodd\" fill-opacity=\"1\"/>\n",
       "<polyline clip-path=\"url(#clip940)\" style=\"stroke:#000000; stroke-linecap:round; stroke-linejoin:round; stroke-width:4; stroke-opacity:1; fill:none\" points=\"\n",
       "  1980.81,198.898 2279.02,198.898 2279.02,95.2176 1980.81,95.2176 1980.81,198.898 \n",
       "  \"/>\n",
       "<path clip-path=\"url(#clip940)\" d=\"\n",
       "M2005.38 167.794 L2152.85 167.794 L2152.85 126.322 L2005.38 126.322 L2005.38 167.794  Z\n",
       "  \" fill=\"#009af9\" fill-rule=\"evenodd\" fill-opacity=\"1\"/>\n",
       "<polyline clip-path=\"url(#clip940)\" style=\"stroke:#000000; stroke-linecap:round; stroke-linejoin:round; stroke-width:4; stroke-opacity:1; fill:none\" points=\"\n",
       "  2005.38,167.794 2152.85,167.794 2152.85,126.322 2005.38,126.322 2005.38,167.794 \n",
       "  \"/>\n",
       "<path clip-path=\"url(#clip940)\" d=\"M2191.28 166.745 Q2189.47 171.375 2187.76 172.787 Q2186.04 174.199 2183.17 174.199 L2179.77 174.199 L2179.77 170.634 L2182.27 170.634 Q2184.03 170.634 2185 169.8 Q2185.98 168.967 2187.16 165.865 L2187.92 163.921 L2177.43 138.412 L2181.95 138.412 L2190.05 158.689 L2198.15 138.412 L2202.66 138.412 L2191.28 166.745 Z\" fill=\"#000000\" fill-rule=\"evenodd\" fill-opacity=\"1\" /><path clip-path=\"url(#clip940)\" d=\"M2209.96 160.402 L2217.6 160.402 L2217.6 134.037 L2209.29 135.703 L2209.29 131.444 L2217.55 129.778 L2222.22 129.778 L2222.22 160.402 L2229.86 160.402 L2229.86 164.338 L2209.96 164.338 L2209.96 160.402 Z\" fill=\"#000000\" fill-rule=\"evenodd\" fill-opacity=\"1\" /></svg>\n"
      ]
     },
     "execution_count": 81,
     "metadata": {},
     "output_type": "execute_result"
    }
   ],
   "source": [
    "histogram(eigen(kinship_Gc).values)"
   ]
  },
  {
   "cell_type": "code",
   "execution_count": 82,
   "id": "74e32fdc-acb3-4bfa-b44a-a63173adbfb8",
   "metadata": {},
   "outputs": [
    {
     "data": {
      "text/plain": [
       "7321-element Vector{Float64}:\n",
       " -2.836419834316946\n",
       " -2.836419834316952\n",
       " -2.836419834316952\n",
       " -2.836419834316952\n",
       " -2.836419834316952\n",
       " -2.836419834316946\n",
       " -2.836419834316946\n",
       " -2.836419834316946\n",
       " -2.836419834316952\n",
       " -2.836419834316952\n",
       " -2.836419833599363\n",
       " -2.8364120623679985\n",
       "  0.6033791659636699\n",
       "  ⋮\n",
       "  0.30170431232257705\n",
       "  0.30170431266924735\n",
       "  0.30170431266924735\n",
       "  0.3719390973072517\n",
       "  0.2909953718521782\n",
       "  0.2909953718521782\n",
       "  0.48298676948780855\n",
       "  0.4066473087217643\n",
       "  0.4152662994368362\n",
       "  0.32721674326049227\n",
       "  0.4661009363208286\n",
       "  0.4661009363208286"
      ]
     },
     "execution_count": 82,
     "metadata": {},
     "output_type": "execute_result"
    }
   ],
   "source": [
    "test[4] # from scan_alt(kinship_Gc)"
   ]
  },
  {
   "cell_type": "code",
   "execution_count": 83,
   "id": "6f068bcc-fadb-44fd-b855-92372ed7b1d3",
   "metadata": {},
   "outputs": [],
   "source": [
    "test_bulk = scan_alt(reshape(pheno[:, 108], :, 1), geno, kinship; reml = false);"
   ]
  },
  {
   "cell_type": "code",
   "execution_count": 84,
   "id": "6b36f77d-d30b-4fcd-8e76-1f66ab7e12d9",
   "metadata": {},
   "outputs": [
    {
     "data": {
      "text/plain": [
       "79×79 Matrix{Float64}:\n",
       " 1.0       0.468763  0.561085  0.521296  …  0.567302  0.413471  0.435604\n",
       " 0.468763  1.0       0.482652  0.50435      0.519167  0.532541  0.488972\n",
       " 0.561085  0.482652  1.0       0.374733     0.622687  0.450508  0.453984\n",
       " 0.521296  0.50435   0.374733  1.0          0.431956  0.469879  0.421972\n",
       " 0.502617  0.431553  0.443817  0.577574     0.494489  0.51971   0.489528\n",
       " 0.476443  0.483647  0.567154  0.462847  …  0.491136  0.512453  0.549432\n",
       " 0.467349  0.501111  0.520678  0.527738     0.527077  0.481474  0.51916\n",
       " 0.542558  0.60105   0.506142  0.463404     0.554531  0.498891  0.479556\n",
       " 0.591896  0.403189  0.533654  0.425491     0.543941  0.448744  0.532008\n",
       " 0.441302  0.626432  0.535918  0.447991     0.551656  0.450761  0.461508\n",
       " 0.460209  0.457172  0.460111  0.489766  …  0.493009  0.494999  0.538533\n",
       " 0.507042  0.570832  0.536868  0.614983     0.499858  0.503124  0.478369\n",
       " 0.582008  0.544672  0.516424  0.492132     0.452945  0.45013   0.442422\n",
       " ⋮                                       ⋱                      \n",
       " 0.52631   0.458526  0.454704  0.484616     0.479715  0.509062  0.557029\n",
       " 0.401291  0.504908  0.496053  0.446707     0.516178  0.515972  0.546224\n",
       " 0.529017  0.474322  0.498273  0.527971     0.446043  0.455837  0.454413\n",
       " 0.496518  0.521732  0.509183  0.410598  …  0.479131  0.512695  0.453994\n",
       " 0.547812  0.586811  0.481304  0.426763     0.56713   0.5711    0.476775\n",
       " 0.477131  0.505891  0.541468  0.418832     0.456219  0.454103  0.481708\n",
       " 0.533835  0.525665  0.47723   0.499909     0.470318  0.517481  0.531143\n",
       " 0.487712  0.514319  0.46415   0.545705     0.55342   0.502025  0.504105\n",
       " 0.542221  0.440798  0.488878  0.442847  …  0.471277  0.511263  0.482949\n",
       " 0.567302  0.519167  0.622687  0.431956     1.0       0.582625  0.592377\n",
       " 0.413471  0.532541  0.450508  0.469879     0.582625  1.0       0.68222\n",
       " 0.435604  0.488972  0.453984  0.421972     0.592377  0.68222   1.0"
      ]
     },
     "execution_count": 84,
     "metadata": {},
     "output_type": "execute_result"
    }
   ],
   "source": [
    "kinship"
   ]
  },
  {
   "cell_type": "code",
   "execution_count": null,
   "id": "eaa67b9c-2623-4b29-81c1-d046e909816a",
   "metadata": {},
   "outputs": [],
   "source": []
  },
  {
   "cell_type": "code",
   "execution_count": null,
   "id": "9a8af523-e857-4b30-8010-931786420c89",
   "metadata": {},
   "outputs": [],
   "source": []
  },
  {
   "cell_type": "code",
   "execution_count": null,
   "id": "c6d87ebe-f89e-40f6-a3b1-2b13ad6fc93d",
   "metadata": {},
   "outputs": [],
   "source": []
  },
  {
   "cell_type": "code",
   "execution_count": null,
   "id": "24cd80dc-1500-457b-a944-409a726975d2",
   "metadata": {},
   "outputs": [],
   "source": []
  },
  {
   "cell_type": "code",
   "execution_count": null,
   "id": "60b5f621-27a0-4d25-bc4b-8b48dee418b5",
   "metadata": {},
   "outputs": [],
   "source": []
  },
  {
   "cell_type": "markdown",
   "id": "9d3fa6ff-9d63-4e39-9d99-922556483fef",
   "metadata": {},
   "source": [
    "#### Try if bounded fitlmm() will solve the problem:"
   ]
  },
  {
   "cell_type": "code",
   "execution_count": 85,
   "id": "61461699-5d17-4338-bbb3-0f16fb7ad2c8",
   "metadata": {},
   "outputs": [],
   "source": [
    "pheno_108 = reshape(pheno[:, 108], :, 1);"
   ]
  },
  {
   "cell_type": "code",
   "execution_count": 86,
   "id": "4ecb108d-b27d-4053-92da-99bba23fbaa7",
   "metadata": {},
   "outputs": [],
   "source": [
    "(y0_108, X0, lambda0) = rotateData(pheno_108, hcat(ones(n), geno), kinship_Gc);"
   ]
  },
  {
   "cell_type": "code",
   "execution_count": 87,
   "id": "931827ad-00ee-44a4-b626-c99bf3a3b000",
   "metadata": {},
   "outputs": [
    {
     "data": {
      "text/plain": [
       "38.406684578131774"
      ]
     },
     "execution_count": 87,
     "metadata": {},
     "output_type": "execute_result"
    }
   ],
   "source": [
    "var(y0_108)"
   ]
  },
  {
   "cell_type": "code",
   "execution_count": 88,
   "id": "96852d5b-8736-43f2-beef-b9ad3fdb1d97",
   "metadata": {},
   "outputs": [
    {
     "data": {
      "text/plain": [
       "1×35556 Matrix{Float64}:\n",
       " 0.0316942  0.0560302  0.0589198  …  0.0218381  0.0102334  0.00947539"
      ]
     },
     "execution_count": 88,
     "metadata": {},
     "output_type": "execute_result"
    }
   ],
   "source": [
    "var(pheno; dims = 1)"
   ]
  },
  {
   "cell_type": "code",
   "execution_count": 89,
   "id": "1bda41f7-f486-4d14-8f11-93ee8a091ef2",
   "metadata": {},
   "outputs": [
    {
     "data": {
      "text/plain": [
       "scan_alt_re (generic function with 1 method)"
      ]
     },
     "execution_count": 89,
     "metadata": {},
     "output_type": "execute_result"
    }
   ],
   "source": [
    "function scan_alt_re(y::Array{Float64,2},g::Array{Float64,2}, K::Array{Float64,2}; \n",
    "                  reml::Bool = false)\n",
    "\n",
    "    # number of markers\n",
    "    (n, p) = size(g)\n",
    "    # make intercept\n",
    "    intercept = ones(n, 1)\n",
    "    # rotate data\n",
    "    (y0, X0, lambda0) = rotateData(y, [intercept g], K)\n",
    "\n",
    "    pve_list = Array{Float64, 1}(undef, p);\n",
    "\n",
    "    X00 = reshape(X0[:, 1], :, 1)\n",
    "    # fit null lmm\n",
    "    out00 = fitlmm(y0, X00, lambda0; reml = reml);\n",
    "\n",
    "    lod = zeros(p)\n",
    "    \n",
    "    for i = 1:p\n",
    "        \n",
    "        X = hcat(X0[:, 1], X0[:, i+1]);\n",
    "        \n",
    "        out11 = fitlmm(y0, X, lambda0; reml = reml);\n",
    "\n",
    "        pve_list[i] = out11.h2;\n",
    "\n",
    "        lod[i] = (out11.ell - out00.ell)/log(10)\n",
    "    end\n",
    "\n",
    "    return (out00.sigma2, out00.h2, pve_list, lod)\n",
    "\n",
    "end"
   ]
  },
  {
   "cell_type": "code",
   "execution_count": 90,
   "id": "fb196f2f-b9e6-4398-9ef2-0501b36e00ef",
   "metadata": {},
   "outputs": [],
   "source": [
    "test1 = scan_alt_re(pheno_108, geno, kinship; reml = false);"
   ]
  },
  {
   "cell_type": "code",
   "execution_count": 91,
   "id": "216a6174-2874-46a5-9595-f1b79769f3a2",
   "metadata": {},
   "outputs": [],
   "source": [
    "test2 = scan_alt_re(pheno_108, geno, kinship_Gc; reml = false);"
   ]
  },
  {
   "cell_type": "code",
   "execution_count": 92,
   "id": "7d1153e1-95ac-4c9c-8639-630fddcfab6c",
   "metadata": {},
   "outputs": [
    {
     "data": {
      "text/plain": [
       "0.9825411002339195"
      ]
     },
     "execution_count": 92,
     "metadata": {},
     "output_type": "execute_result"
    }
   ],
   "source": [
    "maximum(test1[3])"
   ]
  },
  {
   "cell_type": "code",
   "execution_count": 93,
   "id": "c351df23-9d64-468f-bdec-7f95d50caa45",
   "metadata": {},
   "outputs": [
    {
     "data": {
      "text/plain": [
       "0.7748315793772295"
      ]
     },
     "execution_count": 93,
     "metadata": {},
     "output_type": "execute_result"
    }
   ],
   "source": [
    "test1[3][229]"
   ]
  },
  {
   "cell_type": "code",
   "execution_count": 94,
   "id": "81a0b746-a2c9-415d-a718-16345df9ef38",
   "metadata": {},
   "outputs": [
    {
     "data": {
      "text/plain": [
       "3×3 Matrix{Any}:\n",
       " \"\"      \"kinship\"    \"kinship_Gc\"\n",
       " \"hsq\"  0.774832     0.833613\n",
       " \"lod\"  1.05873     -2.2873"
      ]
     },
     "execution_count": 94,
     "metadata": {},
     "output_type": "execute_result"
    }
   ],
   "source": [
    "summary_108 = vcat(hcat(\"kinship\", \"kinship_Gc\"), hcat(test1[3][229], test2[3][229]), hcat(test1[4][229], test2[4][229]));\n",
    "hcat([\"\", \"hsq\", \"lod\"], summary_108)"
   ]
  },
  {
   "cell_type": "code",
   "execution_count": 95,
   "id": "0b9be40f-843d-41d7-aca6-f0cfad742a08",
   "metadata": {},
   "outputs": [
    {
     "data": {
      "text/plain": [
       "0.8336134482066376"
      ]
     },
     "execution_count": 95,
     "metadata": {},
     "output_type": "execute_result"
    }
   ],
   "source": [
    "test2[3][229]"
   ]
  },
  {
   "cell_type": "code",
   "execution_count": 96,
   "id": "f8102283-2a4e-4c30-8796-95d20c1330f1",
   "metadata": {},
   "outputs": [],
   "source": [
    "intercept = ones(n, 1);"
   ]
  },
  {
   "cell_type": "code",
   "execution_count": 97,
   "id": "773e7393-4425-4d8a-b00f-9bd7caeb5fb8",
   "metadata": {},
   "outputs": [],
   "source": [
    "(y1, X1, lambda1) = rotateData(pheno_108, hcat(intercept, geno), kinship); \n",
    "(y2, X2, lambda2) = rotateData(pheno_108, hcat(intercept, geno), kinship_Gc);"
   ]
  },
  {
   "cell_type": "code",
   "execution_count": 98,
   "id": "a8b83c64-d90d-462a-b0e9-0fd713ac2699",
   "metadata": {},
   "outputs": [
    {
     "data": {
      "image/svg+xml": [
       "<?xml version=\"1.0\" encoding=\"utf-8\"?>\n",
       "<svg xmlns=\"http://www.w3.org/2000/svg\" xmlns:xlink=\"http://www.w3.org/1999/xlink\" width=\"600\" height=\"400\" viewBox=\"0 0 2400 1600\">\n",
       "<defs>\n",
       "  <clipPath id=\"clip980\">\n",
       "    <rect x=\"0\" y=\"0\" width=\"2400\" height=\"1600\"/>\n",
       "  </clipPath>\n",
       "</defs>\n",
       "<path clip-path=\"url(#clip980)\" d=\"\n",
       "M0 1600 L2400 1600 L2400 0 L0 0  Z\n",
       "  \" fill=\"#ffffff\" fill-rule=\"evenodd\" fill-opacity=\"1\"/>\n",
       "<defs>\n",
       "  <clipPath id=\"clip981\">\n",
       "    <rect x=\"480\" y=\"0\" width=\"1681\" height=\"1600\"/>\n",
       "  </clipPath>\n",
       "</defs>\n",
       "<path clip-path=\"url(#clip980)\" d=\"\n",
       "M141.853 1486.45 L2352.76 1486.45 L2352.76 47.2441 L141.853 47.2441  Z\n",
       "  \" fill=\"#ffffff\" fill-rule=\"evenodd\" fill-opacity=\"1\"/>\n",
       "<defs>\n",
       "  <clipPath id=\"clip982\">\n",
       "    <rect x=\"141\" y=\"47\" width=\"2212\" height=\"1440\"/>\n",
       "  </clipPath>\n",
       "</defs>\n",
       "<polyline clip-path=\"url(#clip982)\" style=\"stroke:#000000; stroke-linecap:round; stroke-linejoin:round; stroke-width:2; stroke-opacity:0.1; fill:none\" points=\"\n",
       "  177.685,1486.45 177.685,47.2441 \n",
       "  \"/>\n",
       "<polyline clip-path=\"url(#clip982)\" style=\"stroke:#000000; stroke-linecap:round; stroke-linejoin:round; stroke-width:2; stroke-opacity:0.1; fill:none\" points=\"\n",
       "  712.495,1486.45 712.495,47.2441 \n",
       "  \"/>\n",
       "<polyline clip-path=\"url(#clip982)\" style=\"stroke:#000000; stroke-linecap:round; stroke-linejoin:round; stroke-width:2; stroke-opacity:0.1; fill:none\" points=\"\n",
       "  1247.3,1486.45 1247.3,47.2441 \n",
       "  \"/>\n",
       "<polyline clip-path=\"url(#clip982)\" style=\"stroke:#000000; stroke-linecap:round; stroke-linejoin:round; stroke-width:2; stroke-opacity:0.1; fill:none\" points=\"\n",
       "  1782.11,1486.45 1782.11,47.2441 \n",
       "  \"/>\n",
       "<polyline clip-path=\"url(#clip982)\" style=\"stroke:#000000; stroke-linecap:round; stroke-linejoin:round; stroke-width:2; stroke-opacity:0.1; fill:none\" points=\"\n",
       "  2316.92,1486.45 2316.92,47.2441 \n",
       "  \"/>\n",
       "<polyline clip-path=\"url(#clip980)\" style=\"stroke:#000000; stroke-linecap:round; stroke-linejoin:round; stroke-width:4; stroke-opacity:1; fill:none\" points=\"\n",
       "  141.853,1486.45 2352.76,1486.45 \n",
       "  \"/>\n",
       "<polyline clip-path=\"url(#clip980)\" style=\"stroke:#000000; stroke-linecap:round; stroke-linejoin:round; stroke-width:4; stroke-opacity:1; fill:none\" points=\"\n",
       "  177.685,1486.45 177.685,1467.55 \n",
       "  \"/>\n",
       "<polyline clip-path=\"url(#clip980)\" style=\"stroke:#000000; stroke-linecap:round; stroke-linejoin:round; stroke-width:4; stroke-opacity:1; fill:none\" points=\"\n",
       "  712.495,1486.45 712.495,1467.55 \n",
       "  \"/>\n",
       "<polyline clip-path=\"url(#clip980)\" style=\"stroke:#000000; stroke-linecap:round; stroke-linejoin:round; stroke-width:4; stroke-opacity:1; fill:none\" points=\"\n",
       "  1247.3,1486.45 1247.3,1467.55 \n",
       "  \"/>\n",
       "<polyline clip-path=\"url(#clip980)\" style=\"stroke:#000000; stroke-linecap:round; stroke-linejoin:round; stroke-width:4; stroke-opacity:1; fill:none\" points=\"\n",
       "  1782.11,1486.45 1782.11,1467.55 \n",
       "  \"/>\n",
       "<polyline clip-path=\"url(#clip980)\" style=\"stroke:#000000; stroke-linecap:round; stroke-linejoin:round; stroke-width:4; stroke-opacity:1; fill:none\" points=\"\n",
       "  2316.92,1486.45 2316.92,1467.55 \n",
       "  \"/>\n",
       "<path clip-path=\"url(#clip980)\" d=\"M177.685 1517.37 Q174.074 1517.37 172.245 1520.93 Q170.44 1524.47 170.44 1531.6 Q170.44 1538.71 172.245 1542.27 Q174.074 1545.82 177.685 1545.82 Q181.319 1545.82 183.125 1542.27 Q184.954 1538.71 184.954 1531.6 Q184.954 1524.47 183.125 1520.93 Q181.319 1517.37 177.685 1517.37 M177.685 1513.66 Q183.495 1513.66 186.551 1518.27 Q189.63 1522.85 189.63 1531.6 Q189.63 1540.33 186.551 1544.94 Q183.495 1549.52 177.685 1549.52 Q171.875 1549.52 168.796 1544.94 Q165.741 1540.33 165.741 1531.6 Q165.741 1522.85 168.796 1518.27 Q171.875 1513.66 177.685 1513.66 Z\" fill=\"#000000\" fill-rule=\"evenodd\" fill-opacity=\"1\" /><path clip-path=\"url(#clip980)\" d=\"M691.268 1544.91 L707.587 1544.91 L707.587 1548.85 L685.643 1548.85 L685.643 1544.91 Q688.305 1542.16 692.888 1537.53 Q697.495 1532.88 698.675 1531.53 Q700.921 1529.01 701.8 1527.27 Q702.703 1525.51 702.703 1523.82 Q702.703 1521.07 700.759 1519.33 Q698.837 1517.6 695.736 1517.6 Q693.537 1517.6 691.083 1518.36 Q688.652 1519.13 685.875 1520.68 L685.875 1515.95 Q688.699 1514.82 691.152 1514.24 Q693.606 1513.66 695.643 1513.66 Q701.013 1513.66 704.208 1516.35 Q707.402 1519.03 707.402 1523.52 Q707.402 1525.65 706.592 1527.57 Q705.805 1529.47 703.699 1532.07 Q703.12 1532.74 700.018 1535.95 Q696.916 1539.15 691.268 1544.91 Z\" fill=\"#000000\" fill-rule=\"evenodd\" fill-opacity=\"1\" /><path clip-path=\"url(#clip980)\" d=\"M727.402 1517.37 Q723.791 1517.37 721.962 1520.93 Q720.157 1524.47 720.157 1531.6 Q720.157 1538.71 721.962 1542.27 Q723.791 1545.82 727.402 1545.82 Q731.036 1545.82 732.842 1542.27 Q734.671 1538.71 734.671 1531.6 Q734.671 1524.47 732.842 1520.93 Q731.036 1517.37 727.402 1517.37 M727.402 1513.66 Q733.212 1513.66 736.268 1518.27 Q739.347 1522.85 739.347 1531.6 Q739.347 1540.33 736.268 1544.94 Q733.212 1549.52 727.402 1549.52 Q721.592 1549.52 718.513 1544.94 Q715.458 1540.33 715.458 1531.6 Q715.458 1522.85 718.513 1518.27 Q721.592 1513.66 727.402 1513.66 Z\" fill=\"#000000\" fill-rule=\"evenodd\" fill-opacity=\"1\" /><path clip-path=\"url(#clip980)\" d=\"M1235.48 1518.36 L1223.67 1536.81 L1235.48 1536.81 L1235.48 1518.36 M1234.25 1514.29 L1240.13 1514.29 L1240.13 1536.81 L1245.06 1536.81 L1245.06 1540.7 L1240.13 1540.7 L1240.13 1548.85 L1235.48 1548.85 L1235.48 1540.7 L1219.87 1540.7 L1219.87 1536.19 L1234.25 1514.29 Z\" fill=\"#000000\" fill-rule=\"evenodd\" fill-opacity=\"1\" /><path clip-path=\"url(#clip980)\" d=\"M1262.79 1517.37 Q1259.18 1517.37 1257.35 1520.93 Q1255.55 1524.47 1255.55 1531.6 Q1255.55 1538.71 1257.35 1542.27 Q1259.18 1545.82 1262.79 1545.82 Q1266.42 1545.82 1268.23 1542.27 Q1270.06 1538.71 1270.06 1531.6 Q1270.06 1524.47 1268.23 1520.93 Q1266.42 1517.37 1262.79 1517.37 M1262.79 1513.66 Q1268.6 1513.66 1271.66 1518.27 Q1274.73 1522.85 1274.73 1531.6 Q1274.73 1540.33 1271.66 1544.94 Q1268.6 1549.52 1262.79 1549.52 Q1256.98 1549.52 1253.9 1544.94 Q1250.85 1540.33 1250.85 1531.6 Q1250.85 1522.85 1253.9 1518.27 Q1256.98 1513.66 1262.79 1513.66 Z\" fill=\"#000000\" fill-rule=\"evenodd\" fill-opacity=\"1\" /><path clip-path=\"url(#clip980)\" d=\"M1767.52 1529.7 Q1764.37 1529.7 1762.52 1531.86 Q1760.69 1534.01 1760.69 1537.76 Q1760.69 1541.49 1762.52 1543.66 Q1764.37 1545.82 1767.52 1545.82 Q1770.67 1545.82 1772.5 1543.66 Q1774.35 1541.49 1774.35 1537.76 Q1774.35 1534.01 1772.5 1531.86 Q1770.67 1529.7 1767.52 1529.7 M1776.8 1515.05 L1776.8 1519.31 Q1775.04 1518.48 1773.24 1518.04 Q1771.45 1517.6 1769.7 1517.6 Q1765.07 1517.6 1762.61 1520.72 Q1760.18 1523.85 1759.83 1530.17 Q1761.2 1528.15 1763.26 1527.09 Q1765.32 1526 1767.8 1526 Q1773.01 1526 1776.01 1529.17 Q1779.05 1532.32 1779.05 1537.76 Q1779.05 1543.08 1775.9 1546.3 Q1772.75 1549.52 1767.52 1549.52 Q1761.52 1549.52 1758.35 1544.94 Q1755.18 1540.33 1755.18 1531.6 Q1755.18 1523.41 1759.07 1518.55 Q1762.96 1513.66 1769.51 1513.66 Q1771.27 1513.66 1773.05 1514.01 Q1774.86 1514.36 1776.8 1515.05 Z\" fill=\"#000000\" fill-rule=\"evenodd\" fill-opacity=\"1\" /><path clip-path=\"url(#clip980)\" d=\"M1797.1 1517.37 Q1793.49 1517.37 1791.66 1520.93 Q1789.86 1524.47 1789.86 1531.6 Q1789.86 1538.71 1791.66 1542.27 Q1793.49 1545.82 1797.1 1545.82 Q1800.74 1545.82 1802.54 1542.27 Q1804.37 1538.71 1804.37 1531.6 Q1804.37 1524.47 1802.54 1520.93 Q1800.74 1517.37 1797.1 1517.37 M1797.1 1513.66 Q1802.91 1513.66 1805.97 1518.27 Q1809.05 1522.85 1809.05 1531.6 Q1809.05 1540.33 1805.97 1544.94 Q1802.91 1549.52 1797.1 1549.52 Q1791.29 1549.52 1788.21 1544.94 Q1785.16 1540.33 1785.16 1531.6 Q1785.16 1522.85 1788.21 1518.27 Q1791.29 1513.66 1797.1 1513.66 Z\" fill=\"#000000\" fill-rule=\"evenodd\" fill-opacity=\"1\" /><path clip-path=\"url(#clip980)\" d=\"M2301.8 1532.44 Q2298.46 1532.44 2296.54 1534.22 Q2294.64 1536 2294.64 1539.13 Q2294.64 1542.25 2296.54 1544.03 Q2298.46 1545.82 2301.8 1545.82 Q2305.13 1545.82 2307.05 1544.03 Q2308.97 1542.23 2308.97 1539.13 Q2308.97 1536 2307.05 1534.22 Q2305.15 1532.44 2301.8 1532.44 M2297.12 1530.45 Q2294.11 1529.7 2292.42 1527.64 Q2290.75 1525.58 2290.75 1522.62 Q2290.75 1518.48 2293.69 1516.07 Q2296.66 1513.66 2301.8 1513.66 Q2306.96 1513.66 2309.9 1516.07 Q2312.84 1518.48 2312.84 1522.62 Q2312.84 1525.58 2311.15 1527.64 Q2309.48 1529.7 2306.5 1530.45 Q2309.88 1531.23 2311.75 1533.52 Q2313.65 1535.82 2313.65 1539.13 Q2313.65 1544.15 2310.57 1546.83 Q2307.51 1549.52 2301.8 1549.52 Q2296.08 1549.52 2293 1546.83 Q2289.94 1544.15 2289.94 1539.13 Q2289.94 1535.82 2291.84 1533.52 Q2293.74 1531.23 2297.12 1530.45 M2295.41 1523.06 Q2295.41 1525.75 2297.07 1527.25 Q2298.76 1528.76 2301.8 1528.76 Q2304.81 1528.76 2306.5 1527.25 Q2308.21 1525.75 2308.21 1523.06 Q2308.21 1520.38 2306.5 1518.87 Q2304.81 1517.37 2301.8 1517.37 Q2298.76 1517.37 2297.07 1518.87 Q2295.41 1520.38 2295.41 1523.06 Z\" fill=\"#000000\" fill-rule=\"evenodd\" fill-opacity=\"1\" /><path clip-path=\"url(#clip980)\" d=\"M2331.96 1517.37 Q2328.35 1517.37 2326.52 1520.93 Q2324.71 1524.47 2324.71 1531.6 Q2324.71 1538.71 2326.52 1542.27 Q2328.35 1545.82 2331.96 1545.82 Q2335.59 1545.82 2337.4 1542.27 Q2339.23 1538.71 2339.23 1531.6 Q2339.23 1524.47 2337.4 1520.93 Q2335.59 1517.37 2331.96 1517.37 M2331.96 1513.66 Q2337.77 1513.66 2340.82 1518.27 Q2343.9 1522.85 2343.9 1531.6 Q2343.9 1540.33 2340.82 1544.94 Q2337.77 1549.52 2331.96 1549.52 Q2326.15 1549.52 2323.07 1544.94 Q2320.01 1540.33 2320.01 1531.6 Q2320.01 1522.85 2323.07 1518.27 Q2326.15 1513.66 2331.96 1513.66 Z\" fill=\"#000000\" fill-rule=\"evenodd\" fill-opacity=\"1\" /><polyline clip-path=\"url(#clip982)\" style=\"stroke:#000000; stroke-linecap:round; stroke-linejoin:round; stroke-width:2; stroke-opacity:0.1; fill:none\" points=\"\n",
       "  141.853,1445.72 2352.76,1445.72 \n",
       "  \"/>\n",
       "<polyline clip-path=\"url(#clip982)\" style=\"stroke:#000000; stroke-linecap:round; stroke-linejoin:round; stroke-width:2; stroke-opacity:0.1; fill:none\" points=\"\n",
       "  141.853,1111.48 2352.76,1111.48 \n",
       "  \"/>\n",
       "<polyline clip-path=\"url(#clip982)\" style=\"stroke:#000000; stroke-linecap:round; stroke-linejoin:round; stroke-width:2; stroke-opacity:0.1; fill:none\" points=\"\n",
       "  141.853,777.24 2352.76,777.24 \n",
       "  \"/>\n",
       "<polyline clip-path=\"url(#clip982)\" style=\"stroke:#000000; stroke-linecap:round; stroke-linejoin:round; stroke-width:2; stroke-opacity:0.1; fill:none\" points=\"\n",
       "  141.853,443.002 2352.76,443.002 \n",
       "  \"/>\n",
       "<polyline clip-path=\"url(#clip982)\" style=\"stroke:#000000; stroke-linecap:round; stroke-linejoin:round; stroke-width:2; stroke-opacity:0.1; fill:none\" points=\"\n",
       "  141.853,108.764 2352.76,108.764 \n",
       "  \"/>\n",
       "<polyline clip-path=\"url(#clip980)\" style=\"stroke:#000000; stroke-linecap:round; stroke-linejoin:round; stroke-width:4; stroke-opacity:1; fill:none\" points=\"\n",
       "  141.853,1486.45 141.853,47.2441 \n",
       "  \"/>\n",
       "<polyline clip-path=\"url(#clip980)\" style=\"stroke:#000000; stroke-linecap:round; stroke-linejoin:round; stroke-width:4; stroke-opacity:1; fill:none\" points=\"\n",
       "  141.853,1445.72 160.751,1445.72 \n",
       "  \"/>\n",
       "<polyline clip-path=\"url(#clip980)\" style=\"stroke:#000000; stroke-linecap:round; stroke-linejoin:round; stroke-width:4; stroke-opacity:1; fill:none\" points=\"\n",
       "  141.853,1111.48 160.751,1111.48 \n",
       "  \"/>\n",
       "<polyline clip-path=\"url(#clip980)\" style=\"stroke:#000000; stroke-linecap:round; stroke-linejoin:round; stroke-width:4; stroke-opacity:1; fill:none\" points=\"\n",
       "  141.853,777.24 160.751,777.24 \n",
       "  \"/>\n",
       "<polyline clip-path=\"url(#clip980)\" style=\"stroke:#000000; stroke-linecap:round; stroke-linejoin:round; stroke-width:4; stroke-opacity:1; fill:none\" points=\"\n",
       "  141.853,443.002 160.751,443.002 \n",
       "  \"/>\n",
       "<polyline clip-path=\"url(#clip980)\" style=\"stroke:#000000; stroke-linecap:round; stroke-linejoin:round; stroke-width:4; stroke-opacity:1; fill:none\" points=\"\n",
       "  141.853,108.764 160.751,108.764 \n",
       "  \"/>\n",
       "<path clip-path=\"url(#clip980)\" d=\"M93.9086 1431.51 Q90.2975 1431.51 88.4688 1435.08 Q86.6632 1438.62 86.6632 1445.75 Q86.6632 1452.86 88.4688 1456.42 Q90.2975 1459.96 93.9086 1459.96 Q97.5428 1459.96 99.3483 1456.42 Q101.177 1452.86 101.177 1445.75 Q101.177 1438.62 99.3483 1435.08 Q97.5428 1431.51 93.9086 1431.51 M93.9086 1427.81 Q99.7187 1427.81 102.774 1432.42 Q105.853 1437 105.853 1445.75 Q105.853 1454.48 102.774 1459.08 Q99.7187 1463.67 93.9086 1463.67 Q88.0984 1463.67 85.0197 1459.08 Q81.9642 1454.48 81.9642 1445.75 Q81.9642 1437 85.0197 1432.42 Q88.0984 1427.81 93.9086 1427.81 Z\" fill=\"#000000\" fill-rule=\"evenodd\" fill-opacity=\"1\" /><path clip-path=\"url(#clip980)\" d=\"M54.5569 1124.82 L62.1958 1124.82 L62.1958 1098.46 L53.8856 1100.12 L53.8856 1095.86 L62.1495 1094.2 L66.8254 1094.2 L66.8254 1124.82 L74.4642 1124.82 L74.4642 1128.76 L54.5569 1128.76 L54.5569 1124.82 Z\" fill=\"#000000\" fill-rule=\"evenodd\" fill-opacity=\"1\" /><path clip-path=\"url(#clip980)\" d=\"M93.9086 1097.28 Q90.2975 1097.28 88.4688 1100.84 Q86.6632 1104.38 86.6632 1111.51 Q86.6632 1118.62 88.4688 1122.18 Q90.2975 1125.73 93.9086 1125.73 Q97.5428 1125.73 99.3483 1122.18 Q101.177 1118.62 101.177 1111.51 Q101.177 1104.38 99.3483 1100.84 Q97.5428 1097.28 93.9086 1097.28 M93.9086 1093.57 Q99.7187 1093.57 102.774 1098.18 Q105.853 1102.76 105.853 1111.51 Q105.853 1120.24 102.774 1124.85 Q99.7187 1129.43 93.9086 1129.43 Q88.0984 1129.43 85.0197 1124.85 Q81.9642 1120.24 81.9642 1111.51 Q81.9642 1102.76 85.0197 1098.18 Q88.0984 1093.57 93.9086 1093.57 Z\" fill=\"#000000\" fill-rule=\"evenodd\" fill-opacity=\"1\" /><path clip-path=\"url(#clip980)\" d=\"M57.7745 790.585 L74.0939 790.585 L74.0939 794.52 L52.1495 794.52 L52.1495 790.585 Q54.8115 787.83 59.3949 783.2 Q64.0013 778.548 65.1819 777.205 Q67.4272 774.682 68.3068 772.946 Q69.2096 771.187 69.2096 769.497 Q69.2096 766.742 67.2652 765.006 Q65.3439 763.27 62.2421 763.27 Q60.043 763.27 57.5893 764.034 Q55.1588 764.798 52.381 766.349 L52.381 761.627 Q55.2051 760.492 57.6588 759.914 Q60.1124 759.335 62.1495 759.335 Q67.5198 759.335 70.7142 762.02 Q73.9087 764.705 73.9087 769.196 Q73.9087 771.326 73.0985 773.247 Q72.3115 775.145 70.205 777.738 Q69.6263 778.409 66.5245 781.626 Q63.4226 784.821 57.7745 790.585 Z\" fill=\"#000000\" fill-rule=\"evenodd\" fill-opacity=\"1\" /><path clip-path=\"url(#clip980)\" d=\"M93.9086 763.039 Q90.2975 763.039 88.4688 766.603 Q86.6632 770.145 86.6632 777.275 Q86.6632 784.381 88.4688 787.946 Q90.2975 791.487 93.9086 791.487 Q97.5428 791.487 99.3483 787.946 Q101.177 784.381 101.177 777.275 Q101.177 770.145 99.3483 766.603 Q97.5428 763.039 93.9086 763.039 M93.9086 759.335 Q99.7187 759.335 102.774 763.941 Q105.853 768.525 105.853 777.275 Q105.853 786.001 102.774 790.608 Q99.7187 795.191 93.9086 795.191 Q88.0984 795.191 85.0197 790.608 Q81.9642 786.001 81.9642 777.275 Q81.9642 768.525 85.0197 763.941 Q88.0984 759.335 93.9086 759.335 Z\" fill=\"#000000\" fill-rule=\"evenodd\" fill-opacity=\"1\" /><path clip-path=\"url(#clip980)\" d=\"M67.9133 441.648 Q71.2698 442.365 73.1448 444.634 Q75.0429 446.902 75.0429 450.236 Q75.0429 455.351 71.5244 458.152 Q68.0059 460.953 61.5245 460.953 Q59.3486 460.953 57.0338 460.513 Q54.7421 460.097 52.2884 459.24 L52.2884 454.726 Q54.2328 455.861 56.5477 456.439 Q58.8625 457.018 61.3856 457.018 Q65.7837 457.018 68.0754 455.282 Q70.3902 453.546 70.3902 450.236 Q70.3902 447.18 68.2374 445.467 Q66.1078 443.731 62.2884 443.731 L58.2606 443.731 L58.2606 439.889 L62.4735 439.889 Q65.9226 439.889 67.7513 438.523 Q69.58 437.134 69.58 434.541 Q69.58 431.879 67.6819 430.467 Q65.8069 429.032 62.2884 429.032 Q60.3671 429.032 58.168 429.449 Q55.969 429.865 53.3301 430.745 L53.3301 426.578 Q55.9921 425.838 58.3069 425.467 Q60.6449 425.097 62.705 425.097 Q68.0291 425.097 71.1309 427.527 Q74.2327 429.935 74.2327 434.055 Q74.2327 436.926 72.5892 438.916 Q70.9457 440.884 67.9133 441.648 Z\" fill=\"#000000\" fill-rule=\"evenodd\" fill-opacity=\"1\" /><path clip-path=\"url(#clip980)\" d=\"M93.9086 428.801 Q90.2975 428.801 88.4688 432.365 Q86.6632 435.907 86.6632 443.037 Q86.6632 450.143 88.4688 453.708 Q90.2975 457.25 93.9086 457.25 Q97.5428 457.25 99.3483 453.708 Q101.177 450.143 101.177 443.037 Q101.177 435.907 99.3483 432.365 Q97.5428 428.801 93.9086 428.801 M93.9086 425.097 Q99.7187 425.097 102.774 429.703 Q105.853 434.287 105.853 443.037 Q105.853 451.763 102.774 456.37 Q99.7187 460.953 93.9086 460.953 Q88.0984 460.953 85.0197 456.37 Q81.9642 451.763 81.9642 443.037 Q81.9642 434.287 85.0197 429.703 Q88.0984 425.097 93.9086 425.097 Z\" fill=\"#000000\" fill-rule=\"evenodd\" fill-opacity=\"1\" /><path clip-path=\"url(#clip980)\" d=\"M66.5939 95.5581 L54.7884 114.007 L66.5939 114.007 L66.5939 95.5581 M65.367 91.484 L71.2466 91.484 L71.2466 114.007 L76.1772 114.007 L76.1772 117.896 L71.2466 117.896 L71.2466 126.044 L66.5939 126.044 L66.5939 117.896 L50.9921 117.896 L50.9921 113.382 L65.367 91.484 Z\" fill=\"#000000\" fill-rule=\"evenodd\" fill-opacity=\"1\" /><path clip-path=\"url(#clip980)\" d=\"M93.9086 94.5627 Q90.2975 94.5627 88.4688 98.1275 Q86.6632 101.669 86.6632 108.799 Q86.6632 115.905 88.4688 119.47 Q90.2975 123.012 93.9086 123.012 Q97.5428 123.012 99.3483 119.47 Q101.177 115.905 101.177 108.799 Q101.177 101.669 99.3483 98.1275 Q97.5428 94.5627 93.9086 94.5627 M93.9086 90.859 Q99.7187 90.859 102.774 95.4655 Q105.853 100.049 105.853 108.799 Q105.853 117.526 102.774 122.132 Q99.7187 126.715 93.9086 126.715 Q88.0984 126.715 85.0197 122.132 Q81.9642 117.526 81.9642 108.799 Q81.9642 100.049 85.0197 95.4655 Q88.0984 90.859 93.9086 90.859 Z\" fill=\"#000000\" fill-rule=\"evenodd\" fill-opacity=\"1\" /><polyline clip-path=\"url(#clip982)\" style=\"stroke:#009af9; stroke-linecap:round; stroke-linejoin:round; stroke-width:4; stroke-opacity:1; fill:none\" points=\"\n",
       "  204.426,1445 231.166,1444.26 257.907,1444.02 284.647,1443.1 311.388,1442.62 338.128,1442.57 364.869,1442.29 391.609,1442.05 418.35,1441.97 445.09,1441.83 \n",
       "  471.83,1441.59 498.571,1441.47 525.311,1441.29 552.052,1440.95 578.792,1440.83 605.533,1440.57 632.273,1440.49 659.014,1440.23 685.754,1439.96 712.495,1439.85 \n",
       "  739.235,1439.61 765.976,1439.53 792.716,1439.37 819.457,1439.05 846.197,1438.87 872.938,1438.72 899.678,1438.37 926.419,1437.91 953.159,1437.85 979.9,1437.54 \n",
       "  1006.64,1437.31 1033.38,1436.96 1060.12,1436.69 1086.86,1436.48 1113.6,1436.37 1140.34,1436.04 1167.08,1435.91 1193.82,1435.31 1220.56,1435.21 1247.3,1434.18 \n",
       "  1274.04,1433.78 1300.79,1433.21 1327.53,1432.65 1354.27,1432.38 1381.01,1431.73 1407.75,1431.49 1434.49,1431.25 1461.23,1431.06 1487.97,1430.5 1514.71,1429.95 \n",
       "  1541.45,1429.35 1568.19,1428.54 1594.93,1428.36 1621.67,1427.81 1648.41,1427.17 1675.15,1426.47 1701.89,1425.72 1728.63,1424.95 1755.37,1423.96 1782.11,1422.23 \n",
       "  1808.85,1420.87 1835.6,1420.29 1862.34,1417.86 1889.08,1416.43 1915.82,1415.72 1942.56,1414.55 1969.3,1413.36 1996.04,1412.05 2022.78,1410.33 2049.52,1409.74 \n",
       "  2076.26,1408.4 2103,1401.74 2129.74,1400 2156.48,1398.66 2183.22,1398.17 2209.96,1394.42 2236.7,1388.56 2263.44,1375.12 2290.18,87.9763 \n",
       "  \"/>\n",
       "<polyline clip-path=\"url(#clip982)\" style=\"stroke:#e26f46; stroke-linecap:round; stroke-linejoin:round; stroke-width:4; stroke-opacity:1; fill:none\" points=\"\n",
       "  204.426,1445.72 231.166,1444.3 257.907,1442.91 284.647,1442.45 311.388,1440.57 338.128,1439.75 364.869,1439.52 391.609,1438.95 418.35,1438.55 445.09,1438.31 \n",
       "  471.83,1438.01 498.571,1437.57 525.311,1437.35 552.052,1436.92 578.792,1436.45 605.533,1436.04 632.273,1435.5 659.014,1435.33 685.754,1434.85 712.495,1434.29 \n",
       "  739.235,1434.07 765.976,1433.65 792.716,1433.46 819.457,1433.12 846.197,1432.48 872.938,1432.11 899.678,1431.8 926.419,1431.08 953.159,1430.21 979.9,1430.09 \n",
       "  1006.64,1429.57 1033.38,1429 1060.12,1428.3 1086.86,1427.73 1113.6,1427.36 1140.34,1427.09 1167.08,1426.43 1193.82,1426.17 1220.56,1425.04 1247.3,1424.82 \n",
       "  1274.04,1422.72 1300.79,1421.93 1327.53,1420.77 1354.27,1419.65 1381.01,1419.12 1407.75,1417.79 1434.49,1417.38 1461.23,1416.89 1487.97,1416.47 1514.71,1415.34 \n",
       "  1541.45,1414.35 1568.19,1413.06 1594.93,1411.45 1621.67,1411.12 1648.41,1409.98 1675.15,1408.72 1701.89,1407.28 1728.63,1405.83 1755.37,1404.31 1782.11,1402.29 \n",
       "  1808.85,1398.93 1835.6,1396.1 1862.34,1394.93 1889.08,1390.06 1915.82,1387.21 1942.56,1385.81 1969.3,1383.4 1996.04,1381.08 2022.78,1378.48 2049.52,1375 \n",
       "  2076.26,1373.8 2103,1371.21 2129.74,1357.86 2156.48,1354.4 2183.22,1351.69 2209.96,1350.56 2236.7,1343.2 2263.44,1331.5 2290.18,1304.11 \n",
       "  \"/>\n",
       "<path clip-path=\"url(#clip980)\" d=\"\n",
       "M1980.97 250.738 L2279.06 250.738 L2279.06 95.2176 L1980.97 95.2176  Z\n",
       "  \" fill=\"#ffffff\" fill-rule=\"evenodd\" fill-opacity=\"1\"/>\n",
       "<polyline clip-path=\"url(#clip980)\" style=\"stroke:#000000; stroke-linecap:round; stroke-linejoin:round; stroke-width:4; stroke-opacity:1; fill:none\" points=\"\n",
       "  1980.97,250.738 2279.06,250.738 2279.06,95.2176 1980.97,95.2176 1980.97,250.738 \n",
       "  \"/>\n",
       "<polyline clip-path=\"url(#clip980)\" style=\"stroke:#009af9; stroke-linecap:round; stroke-linejoin:round; stroke-width:4; stroke-opacity:1; fill:none\" points=\"\n",
       "  2005.54,147.058 2152.93,147.058 \n",
       "  \"/>\n",
       "<path clip-path=\"url(#clip980)\" d=\"M2191.34 166.745 Q2189.53 171.375 2187.82 172.787 Q2186.11 174.199 2183.24 174.199 L2179.84 174.199 L2179.84 170.634 L2182.34 170.634 Q2184.09 170.634 2185.07 169.8 Q2186.04 168.967 2187.22 165.865 L2187.98 163.921 L2177.5 138.412 L2182.01 138.412 L2190.11 158.689 L2198.22 138.412 L2202.73 138.412 L2191.34 166.745 Z\" fill=\"#000000\" fill-rule=\"evenodd\" fill-opacity=\"1\" /><path clip-path=\"url(#clip980)\" d=\"M2210.02 160.402 L2217.66 160.402 L2217.66 134.037 L2209.35 135.703 L2209.35 131.444 L2217.61 129.778 L2222.29 129.778 L2222.29 160.402 L2229.93 160.402 L2229.93 164.338 L2210.02 164.338 L2210.02 160.402 Z\" fill=\"#000000\" fill-rule=\"evenodd\" fill-opacity=\"1\" /><polyline clip-path=\"url(#clip980)\" style=\"stroke:#e26f46; stroke-linecap:round; stroke-linejoin:round; stroke-width:4; stroke-opacity:1; fill:none\" points=\"\n",
       "  2005.54,198.898 2152.93,198.898 \n",
       "  \"/>\n",
       "<path clip-path=\"url(#clip980)\" d=\"M2191.34 218.585 Q2189.53 223.215 2187.82 224.627 Q2186.11 226.039 2183.24 226.039 L2179.84 226.039 L2179.84 222.474 L2182.34 222.474 Q2184.09 222.474 2185.07 221.64 Q2186.04 220.807 2187.22 217.705 L2187.98 215.761 L2177.5 190.252 L2182.01 190.252 L2190.11 210.529 L2198.22 190.252 L2202.73 190.252 L2191.34 218.585 Z\" fill=\"#000000\" fill-rule=\"evenodd\" fill-opacity=\"1\" /><path clip-path=\"url(#clip980)\" d=\"M2213.24 212.242 L2229.56 212.242 L2229.56 216.178 L2207.61 216.178 L2207.61 212.242 Q2210.28 209.488 2214.86 204.858 Q2219.47 200.205 2220.65 198.863 Q2222.89 196.34 2223.77 194.604 Q2224.67 192.844 2224.67 191.155 Q2224.67 188.4 2222.73 186.664 Q2220.81 184.928 2217.71 184.928 Q2215.51 184.928 2213.05 185.692 Q2210.62 186.455 2207.84 188.006 L2207.84 183.284 Q2210.67 182.15 2213.12 181.571 Q2215.58 180.993 2217.61 180.993 Q2222.98 180.993 2226.18 183.678 Q2229.37 186.363 2229.37 190.854 Q2229.37 192.983 2228.56 194.905 Q2227.78 196.803 2225.67 199.395 Q2225.09 200.067 2221.99 203.284 Q2218.89 206.479 2213.24 212.242 Z\" fill=\"#000000\" fill-rule=\"evenodd\" fill-opacity=\"1\" /></svg>\n"
      ]
     },
     "execution_count": 98,
     "metadata": {},
     "output_type": "execute_result"
    }
   ],
   "source": [
    "plot(lambda1)\n",
    "plot!(lambda2)"
   ]
  },
  {
   "cell_type": "code",
   "execution_count": 99,
   "id": "ec651aaf-ec00-4899-9409-2bd4a70a6955",
   "metadata": {},
   "outputs": [
    {
     "data": {
      "image/svg+xml": [
       "<?xml version=\"1.0\" encoding=\"utf-8\"?>\n",
       "<svg xmlns=\"http://www.w3.org/2000/svg\" xmlns:xlink=\"http://www.w3.org/1999/xlink\" width=\"600\" height=\"400\" viewBox=\"0 0 2400 1600\">\n",
       "<defs>\n",
       "  <clipPath id=\"clip020\">\n",
       "    <rect x=\"0\" y=\"0\" width=\"2400\" height=\"1600\"/>\n",
       "  </clipPath>\n",
       "</defs>\n",
       "<path clip-path=\"url(#clip020)\" d=\"\n",
       "M0 1600 L2400 1600 L2400 0 L0 0  Z\n",
       "  \" fill=\"#ffffff\" fill-rule=\"evenodd\" fill-opacity=\"1\"/>\n",
       "<defs>\n",
       "  <clipPath id=\"clip021\">\n",
       "    <rect x=\"480\" y=\"0\" width=\"1681\" height=\"1600\"/>\n",
       "  </clipPath>\n",
       "</defs>\n",
       "<path clip-path=\"url(#clip020)\" d=\"\n",
       "M112.177 1486.45 L2352.76 1486.45 L2352.76 47.2441 L112.177 47.2441  Z\n",
       "  \" fill=\"#ffffff\" fill-rule=\"evenodd\" fill-opacity=\"1\"/>\n",
       "<defs>\n",
       "  <clipPath id=\"clip022\">\n",
       "    <rect x=\"112\" y=\"47\" width=\"2242\" height=\"1440\"/>\n",
       "  </clipPath>\n",
       "</defs>\n",
       "<polyline clip-path=\"url(#clip022)\" style=\"stroke:#000000; stroke-linecap:round; stroke-linejoin:round; stroke-width:2; stroke-opacity:0.1; fill:none\" points=\"\n",
       "  148.49,1486.45 148.49,47.2441 \n",
       "  \"/>\n",
       "<polyline clip-path=\"url(#clip022)\" style=\"stroke:#000000; stroke-linecap:round; stroke-linejoin:round; stroke-width:2; stroke-opacity:0.1; fill:none\" points=\"\n",
       "  690.478,1486.45 690.478,47.2441 \n",
       "  \"/>\n",
       "<polyline clip-path=\"url(#clip022)\" style=\"stroke:#000000; stroke-linecap:round; stroke-linejoin:round; stroke-width:2; stroke-opacity:0.1; fill:none\" points=\"\n",
       "  1232.47,1486.45 1232.47,47.2441 \n",
       "  \"/>\n",
       "<polyline clip-path=\"url(#clip022)\" style=\"stroke:#000000; stroke-linecap:round; stroke-linejoin:round; stroke-width:2; stroke-opacity:0.1; fill:none\" points=\"\n",
       "  1774.45,1486.45 1774.45,47.2441 \n",
       "  \"/>\n",
       "<polyline clip-path=\"url(#clip022)\" style=\"stroke:#000000; stroke-linecap:round; stroke-linejoin:round; stroke-width:2; stroke-opacity:0.1; fill:none\" points=\"\n",
       "  2316.44,1486.45 2316.44,47.2441 \n",
       "  \"/>\n",
       "<polyline clip-path=\"url(#clip020)\" style=\"stroke:#000000; stroke-linecap:round; stroke-linejoin:round; stroke-width:4; stroke-opacity:1; fill:none\" points=\"\n",
       "  112.177,1486.45 2352.76,1486.45 \n",
       "  \"/>\n",
       "<polyline clip-path=\"url(#clip020)\" style=\"stroke:#000000; stroke-linecap:round; stroke-linejoin:round; stroke-width:4; stroke-opacity:1; fill:none\" points=\"\n",
       "  148.49,1486.45 148.49,1467.55 \n",
       "  \"/>\n",
       "<polyline clip-path=\"url(#clip020)\" style=\"stroke:#000000; stroke-linecap:round; stroke-linejoin:round; stroke-width:4; stroke-opacity:1; fill:none\" points=\"\n",
       "  690.478,1486.45 690.478,1467.55 \n",
       "  \"/>\n",
       "<polyline clip-path=\"url(#clip020)\" style=\"stroke:#000000; stroke-linecap:round; stroke-linejoin:round; stroke-width:4; stroke-opacity:1; fill:none\" points=\"\n",
       "  1232.47,1486.45 1232.47,1467.55 \n",
       "  \"/>\n",
       "<polyline clip-path=\"url(#clip020)\" style=\"stroke:#000000; stroke-linecap:round; stroke-linejoin:round; stroke-width:4; stroke-opacity:1; fill:none\" points=\"\n",
       "  1774.45,1486.45 1774.45,1467.55 \n",
       "  \"/>\n",
       "<polyline clip-path=\"url(#clip020)\" style=\"stroke:#000000; stroke-linecap:round; stroke-linejoin:round; stroke-width:4; stroke-opacity:1; fill:none\" points=\"\n",
       "  2316.44,1486.45 2316.44,1467.55 \n",
       "  \"/>\n",
       "<path clip-path=\"url(#clip020)\" d=\"M148.49 1517.37 Q144.879 1517.37 143.051 1520.93 Q141.245 1524.47 141.245 1531.6 Q141.245 1538.71 143.051 1542.27 Q144.879 1545.82 148.49 1545.82 Q152.125 1545.82 153.93 1542.27 Q155.759 1538.71 155.759 1531.6 Q155.759 1524.47 153.93 1520.93 Q152.125 1517.37 148.49 1517.37 M148.49 1513.66 Q154.301 1513.66 157.356 1518.27 Q160.435 1522.85 160.435 1531.6 Q160.435 1540.33 157.356 1544.94 Q154.301 1549.52 148.49 1549.52 Q142.68 1549.52 139.602 1544.94 Q136.546 1540.33 136.546 1531.6 Q136.546 1522.85 139.602 1518.27 Q142.68 1513.66 148.49 1513.66 Z\" fill=\"#000000\" fill-rule=\"evenodd\" fill-opacity=\"1\" /><path clip-path=\"url(#clip020)\" d=\"M669.252 1544.91 L685.571 1544.91 L685.571 1548.85 L663.627 1548.85 L663.627 1544.91 Q666.289 1542.16 670.872 1537.53 Q675.479 1532.88 676.659 1531.53 Q678.904 1529.01 679.784 1527.27 Q680.687 1525.51 680.687 1523.82 Q680.687 1521.07 678.742 1519.33 Q676.821 1517.6 673.719 1517.6 Q671.52 1517.6 669.067 1518.36 Q666.636 1519.13 663.858 1520.68 L663.858 1515.95 Q666.682 1514.82 669.136 1514.24 Q671.59 1513.66 673.627 1513.66 Q678.997 1513.66 682.191 1516.35 Q685.386 1519.03 685.386 1523.52 Q685.386 1525.65 684.576 1527.57 Q683.789 1529.47 681.682 1532.07 Q681.104 1532.74 678.002 1535.95 Q674.9 1539.15 669.252 1544.91 Z\" fill=\"#000000\" fill-rule=\"evenodd\" fill-opacity=\"1\" /><path clip-path=\"url(#clip020)\" d=\"M705.386 1517.37 Q701.775 1517.37 699.946 1520.93 Q698.14 1524.47 698.14 1531.6 Q698.14 1538.71 699.946 1542.27 Q701.775 1545.82 705.386 1545.82 Q709.02 1545.82 710.826 1542.27 Q712.654 1538.71 712.654 1531.6 Q712.654 1524.47 710.826 1520.93 Q709.02 1517.37 705.386 1517.37 M705.386 1513.66 Q711.196 1513.66 714.251 1518.27 Q717.33 1522.85 717.33 1531.6 Q717.33 1540.33 714.251 1544.94 Q711.196 1549.52 705.386 1549.52 Q699.576 1549.52 696.497 1544.94 Q693.441 1540.33 693.441 1531.6 Q693.441 1522.85 696.497 1518.27 Q699.576 1513.66 705.386 1513.66 Z\" fill=\"#000000\" fill-rule=\"evenodd\" fill-opacity=\"1\" /><path clip-path=\"url(#clip020)\" d=\"M1220.64 1518.36 L1208.83 1536.81 L1220.64 1536.81 L1220.64 1518.36 M1219.41 1514.29 L1225.29 1514.29 L1225.29 1536.81 L1230.22 1536.81 L1230.22 1540.7 L1225.29 1540.7 L1225.29 1548.85 L1220.64 1548.85 L1220.64 1540.7 L1205.04 1540.7 L1205.04 1536.19 L1219.41 1514.29 Z\" fill=\"#000000\" fill-rule=\"evenodd\" fill-opacity=\"1\" /><path clip-path=\"url(#clip020)\" d=\"M1247.95 1517.37 Q1244.34 1517.37 1242.51 1520.93 Q1240.71 1524.47 1240.71 1531.6 Q1240.71 1538.71 1242.51 1542.27 Q1244.34 1545.82 1247.95 1545.82 Q1251.59 1545.82 1253.39 1542.27 Q1255.22 1538.71 1255.22 1531.6 Q1255.22 1524.47 1253.39 1520.93 Q1251.59 1517.37 1247.95 1517.37 M1247.95 1513.66 Q1253.76 1513.66 1256.82 1518.27 Q1259.9 1522.85 1259.9 1531.6 Q1259.9 1540.33 1256.82 1544.94 Q1253.76 1549.52 1247.95 1549.52 Q1242.14 1549.52 1239.06 1544.94 Q1236.01 1540.33 1236.01 1531.6 Q1236.01 1522.85 1239.06 1518.27 Q1242.14 1513.66 1247.95 1513.66 Z\" fill=\"#000000\" fill-rule=\"evenodd\" fill-opacity=\"1\" /><path clip-path=\"url(#clip020)\" d=\"M1759.86 1529.7 Q1756.71 1529.7 1754.86 1531.86 Q1753.03 1534.01 1753.03 1537.76 Q1753.03 1541.49 1754.86 1543.66 Q1756.71 1545.82 1759.86 1545.82 Q1763.01 1545.82 1764.84 1543.66 Q1766.69 1541.49 1766.69 1537.76 Q1766.69 1534.01 1764.84 1531.86 Q1763.01 1529.7 1759.86 1529.7 M1769.14 1515.05 L1769.14 1519.31 Q1767.38 1518.48 1765.58 1518.04 Q1763.79 1517.6 1762.04 1517.6 Q1757.41 1517.6 1754.95 1520.72 Q1752.52 1523.85 1752.17 1530.17 Q1753.54 1528.15 1755.6 1527.09 Q1757.66 1526 1760.14 1526 Q1765.35 1526 1768.36 1529.17 Q1771.39 1532.32 1771.39 1537.76 Q1771.39 1543.08 1768.24 1546.3 Q1765.09 1549.52 1759.86 1549.52 Q1753.86 1549.52 1750.69 1544.94 Q1747.52 1540.33 1747.52 1531.6 Q1747.52 1523.41 1751.41 1518.55 Q1755.3 1513.66 1761.85 1513.66 Q1763.61 1513.66 1765.39 1514.01 Q1767.2 1514.36 1769.14 1515.05 Z\" fill=\"#000000\" fill-rule=\"evenodd\" fill-opacity=\"1\" /><path clip-path=\"url(#clip020)\" d=\"M1789.44 1517.37 Q1785.83 1517.37 1784 1520.93 Q1782.2 1524.47 1782.2 1531.6 Q1782.2 1538.71 1784 1542.27 Q1785.83 1545.82 1789.44 1545.82 Q1793.08 1545.82 1794.88 1542.27 Q1796.71 1538.71 1796.71 1531.6 Q1796.71 1524.47 1794.88 1520.93 Q1793.08 1517.37 1789.44 1517.37 M1789.44 1513.66 Q1795.25 1513.66 1798.31 1518.27 Q1801.39 1522.85 1801.39 1531.6 Q1801.39 1540.33 1798.31 1544.94 Q1795.25 1549.52 1789.44 1549.52 Q1783.63 1549.52 1780.55 1544.94 Q1777.5 1540.33 1777.5 1531.6 Q1777.5 1522.85 1780.55 1518.27 Q1783.63 1513.66 1789.44 1513.66 Z\" fill=\"#000000\" fill-rule=\"evenodd\" fill-opacity=\"1\" /><path clip-path=\"url(#clip020)\" d=\"M2301.32 1532.44 Q2297.98 1532.44 2296.06 1534.22 Q2294.16 1536 2294.16 1539.13 Q2294.16 1542.25 2296.06 1544.03 Q2297.98 1545.82 2301.32 1545.82 Q2304.65 1545.82 2306.57 1544.03 Q2308.49 1542.23 2308.49 1539.13 Q2308.49 1536 2306.57 1534.22 Q2304.67 1532.44 2301.32 1532.44 M2296.64 1530.45 Q2293.63 1529.7 2291.94 1527.64 Q2290.27 1525.58 2290.27 1522.62 Q2290.27 1518.48 2293.21 1516.07 Q2296.18 1513.66 2301.32 1513.66 Q2306.48 1513.66 2309.42 1516.07 Q2312.36 1518.48 2312.36 1522.62 Q2312.36 1525.58 2310.67 1527.64 Q2309 1529.7 2306.01 1530.45 Q2309.39 1531.23 2311.27 1533.52 Q2313.17 1535.82 2313.17 1539.13 Q2313.17 1544.15 2310.09 1546.83 Q2307.03 1549.52 2301.32 1549.52 Q2295.6 1549.52 2292.52 1546.83 Q2289.46 1544.15 2289.46 1539.13 Q2289.46 1535.82 2291.36 1533.52 Q2293.26 1531.23 2296.64 1530.45 M2294.93 1523.06 Q2294.93 1525.75 2296.59 1527.25 Q2298.28 1528.76 2301.32 1528.76 Q2304.32 1528.76 2306.01 1527.25 Q2307.73 1525.75 2307.73 1523.06 Q2307.73 1520.38 2306.01 1518.87 Q2304.32 1517.37 2301.32 1517.37 Q2298.28 1517.37 2296.59 1518.87 Q2294.93 1520.38 2294.93 1523.06 Z\" fill=\"#000000\" fill-rule=\"evenodd\" fill-opacity=\"1\" /><path clip-path=\"url(#clip020)\" d=\"M2331.48 1517.37 Q2327.87 1517.37 2326.04 1520.93 Q2324.23 1524.47 2324.23 1531.6 Q2324.23 1538.71 2326.04 1542.27 Q2327.87 1545.82 2331.48 1545.82 Q2335.11 1545.82 2336.92 1542.27 Q2338.75 1538.71 2338.75 1531.6 Q2338.75 1524.47 2336.92 1520.93 Q2335.11 1517.37 2331.48 1517.37 M2331.48 1513.66 Q2337.29 1513.66 2340.34 1518.27 Q2343.42 1522.85 2343.42 1531.6 Q2343.42 1540.33 2340.34 1544.94 Q2337.29 1549.52 2331.48 1549.52 Q2325.67 1549.52 2322.59 1544.94 Q2319.53 1540.33 2319.53 1531.6 Q2319.53 1522.85 2322.59 1518.27 Q2325.67 1513.66 2331.48 1513.66 Z\" fill=\"#000000\" fill-rule=\"evenodd\" fill-opacity=\"1\" /><polyline clip-path=\"url(#clip022)\" style=\"stroke:#000000; stroke-linecap:round; stroke-linejoin:round; stroke-width:2; stroke-opacity:0.1; fill:none\" points=\"\n",
       "  112.177,1452.88 2352.76,1452.88 \n",
       "  \"/>\n",
       "<polyline clip-path=\"url(#clip022)\" style=\"stroke:#000000; stroke-linecap:round; stroke-linejoin:round; stroke-width:2; stroke-opacity:0.1; fill:none\" points=\"\n",
       "  112.177,1225.78 2352.76,1225.78 \n",
       "  \"/>\n",
       "<polyline clip-path=\"url(#clip022)\" style=\"stroke:#000000; stroke-linecap:round; stroke-linejoin:round; stroke-width:2; stroke-opacity:0.1; fill:none\" points=\"\n",
       "  112.177,998.677 2352.76,998.677 \n",
       "  \"/>\n",
       "<polyline clip-path=\"url(#clip022)\" style=\"stroke:#000000; stroke-linecap:round; stroke-linejoin:round; stroke-width:2; stroke-opacity:0.1; fill:none\" points=\"\n",
       "  112.177,771.575 2352.76,771.575 \n",
       "  \"/>\n",
       "<polyline clip-path=\"url(#clip022)\" style=\"stroke:#000000; stroke-linecap:round; stroke-linejoin:round; stroke-width:2; stroke-opacity:0.1; fill:none\" points=\"\n",
       "  112.177,544.473 2352.76,544.473 \n",
       "  \"/>\n",
       "<polyline clip-path=\"url(#clip022)\" style=\"stroke:#000000; stroke-linecap:round; stroke-linejoin:round; stroke-width:2; stroke-opacity:0.1; fill:none\" points=\"\n",
       "  112.177,317.372 2352.76,317.372 \n",
       "  \"/>\n",
       "<polyline clip-path=\"url(#clip022)\" style=\"stroke:#000000; stroke-linecap:round; stroke-linejoin:round; stroke-width:2; stroke-opacity:0.1; fill:none\" points=\"\n",
       "  112.177,90.2703 2352.76,90.2703 \n",
       "  \"/>\n",
       "<polyline clip-path=\"url(#clip020)\" style=\"stroke:#000000; stroke-linecap:round; stroke-linejoin:round; stroke-width:4; stroke-opacity:1; fill:none\" points=\"\n",
       "  112.177,1486.45 112.177,47.2441 \n",
       "  \"/>\n",
       "<polyline clip-path=\"url(#clip020)\" style=\"stroke:#000000; stroke-linecap:round; stroke-linejoin:round; stroke-width:4; stroke-opacity:1; fill:none\" points=\"\n",
       "  112.177,1452.88 131.075,1452.88 \n",
       "  \"/>\n",
       "<polyline clip-path=\"url(#clip020)\" style=\"stroke:#000000; stroke-linecap:round; stroke-linejoin:round; stroke-width:4; stroke-opacity:1; fill:none\" points=\"\n",
       "  112.177,1225.78 131.075,1225.78 \n",
       "  \"/>\n",
       "<polyline clip-path=\"url(#clip020)\" style=\"stroke:#000000; stroke-linecap:round; stroke-linejoin:round; stroke-width:4; stroke-opacity:1; fill:none\" points=\"\n",
       "  112.177,998.677 131.075,998.677 \n",
       "  \"/>\n",
       "<polyline clip-path=\"url(#clip020)\" style=\"stroke:#000000; stroke-linecap:round; stroke-linejoin:round; stroke-width:4; stroke-opacity:1; fill:none\" points=\"\n",
       "  112.177,771.575 131.075,771.575 \n",
       "  \"/>\n",
       "<polyline clip-path=\"url(#clip020)\" style=\"stroke:#000000; stroke-linecap:round; stroke-linejoin:round; stroke-width:4; stroke-opacity:1; fill:none\" points=\"\n",
       "  112.177,544.473 131.075,544.473 \n",
       "  \"/>\n",
       "<polyline clip-path=\"url(#clip020)\" style=\"stroke:#000000; stroke-linecap:round; stroke-linejoin:round; stroke-width:4; stroke-opacity:1; fill:none\" points=\"\n",
       "  112.177,317.372 131.075,317.372 \n",
       "  \"/>\n",
       "<polyline clip-path=\"url(#clip020)\" style=\"stroke:#000000; stroke-linecap:round; stroke-linejoin:round; stroke-width:4; stroke-opacity:1; fill:none\" points=\"\n",
       "  112.177,90.2703 131.075,90.2703 \n",
       "  \"/>\n",
       "<path clip-path=\"url(#clip020)\" d=\"M64.2328 1438.68 Q60.6217 1438.68 58.793 1442.24 Q56.9875 1445.78 56.9875 1452.91 Q56.9875 1460.02 58.793 1463.59 Q60.6217 1467.13 64.2328 1467.13 Q67.867 1467.13 69.6726 1463.59 Q71.5013 1460.02 71.5013 1452.91 Q71.5013 1445.78 69.6726 1442.24 Q67.867 1438.68 64.2328 1438.68 M64.2328 1434.97 Q70.0429 1434.97 73.0985 1439.58 Q76.1772 1444.16 76.1772 1452.91 Q76.1772 1461.64 73.0985 1466.25 Q70.0429 1470.83 64.2328 1470.83 Q58.4226 1470.83 55.344 1466.25 Q52.2884 1461.64 52.2884 1452.91 Q52.2884 1444.16 55.344 1439.58 Q58.4226 1434.97 64.2328 1434.97 Z\" fill=\"#000000\" fill-rule=\"evenodd\" fill-opacity=\"1\" /><path clip-path=\"url(#clip020)\" d=\"M56.2699 1239.12 L63.9087 1239.12 L63.9087 1212.76 L55.5986 1214.42 L55.5986 1210.16 L63.8624 1208.5 L68.5383 1208.5 L68.5383 1239.12 L76.1772 1239.12 L76.1772 1243.06 L56.2699 1243.06 L56.2699 1239.12 Z\" fill=\"#000000\" fill-rule=\"evenodd\" fill-opacity=\"1\" /><path clip-path=\"url(#clip020)\" d=\"M59.8578 1012.02 L76.1772 1012.02 L76.1772 1015.96 L54.2328 1015.96 L54.2328 1012.02 Q56.8949 1009.27 61.4782 1004.64 Q66.0846 999.984 67.2652 998.642 Q69.5105 996.119 70.3902 994.383 Q71.2929 992.623 71.2929 990.934 Q71.2929 988.179 69.3485 986.443 Q67.4272 984.707 64.3254 984.707 Q62.1263 984.707 59.6726 985.471 Q57.2421 986.234 54.4643 987.785 L54.4643 983.063 Q57.2884 981.929 59.7421 981.35 Q62.1958 980.772 64.2328 980.772 Q69.6031 980.772 72.7976 983.457 Q75.992 986.142 75.992 990.633 Q75.992 992.762 75.1818 994.684 Q74.3948 996.582 72.2883 999.174 Q71.7096 999.846 68.6078 1003.06 Q65.5059 1006.26 59.8578 1012.02 Z\" fill=\"#000000\" fill-rule=\"evenodd\" fill-opacity=\"1\" /><path clip-path=\"url(#clip020)\" d=\"M69.0476 770.221 Q72.404 770.938 74.279 773.207 Q76.1772 775.475 76.1772 778.809 Q76.1772 783.924 72.6587 786.725 Q69.1402 789.526 62.6587 789.526 Q60.4828 789.526 58.168 789.086 Q55.8764 788.67 53.4227 787.813 L53.4227 783.299 Q55.3671 784.434 57.6819 785.012 Q59.9967 785.591 62.5198 785.591 Q66.918 785.591 69.2096 783.855 Q71.5244 782.119 71.5244 778.809 Q71.5244 775.753 69.3717 774.04 Q67.242 772.304 63.4226 772.304 L59.3949 772.304 L59.3949 768.462 L63.6078 768.462 Q67.0569 768.462 68.8855 767.096 Q70.7142 765.707 70.7142 763.114 Q70.7142 760.452 68.8161 759.04 Q66.9411 757.605 63.4226 757.605 Q61.5013 757.605 59.3023 758.022 Q57.1032 758.438 54.4643 759.318 L54.4643 755.151 Q57.1264 754.411 59.4412 754.04 Q61.7791 753.67 63.8393 753.67 Q69.1633 753.67 72.2652 756.101 Q75.367 758.508 75.367 762.628 Q75.367 765.499 73.7235 767.489 Q72.08 769.457 69.0476 770.221 Z\" fill=\"#000000\" fill-rule=\"evenodd\" fill-opacity=\"1\" /><path clip-path=\"url(#clip020)\" d=\"M66.5939 531.267 L54.7884 549.716 L66.5939 549.716 L66.5939 531.267 M65.367 527.193 L71.2466 527.193 L71.2466 549.716 L76.1772 549.716 L76.1772 553.605 L71.2466 553.605 L71.2466 561.753 L66.5939 561.753 L66.5939 553.605 L50.9921 553.605 L50.9921 549.091 L65.367 527.193 Z\" fill=\"#000000\" fill-rule=\"evenodd\" fill-opacity=\"1\" /><path clip-path=\"url(#clip020)\" d=\"M55.2745 300.092 L73.6309 300.092 L73.6309 304.027 L59.5569 304.027 L59.5569 312.499 Q60.5754 312.152 61.5939 311.99 Q62.6124 311.805 63.6309 311.805 Q69.418 311.805 72.7976 314.976 Q76.1772 318.147 76.1772 323.564 Q76.1772 329.143 72.705 332.244 Q69.2328 335.323 62.9134 335.323 Q60.7374 335.323 58.4689 334.953 Q56.2236 334.582 53.8162 333.842 L53.8162 329.143 Q55.8995 330.277 58.1217 330.832 Q60.3439 331.388 62.8208 331.388 Q66.8254 331.388 69.1633 329.281 Q71.5013 327.175 71.5013 323.564 Q71.5013 319.953 69.1633 317.846 Q66.8254 315.74 62.8208 315.74 Q60.9458 315.74 59.0708 316.157 Q57.2189 316.573 55.2745 317.453 L55.2745 300.092 Z\" fill=\"#000000\" fill-rule=\"evenodd\" fill-opacity=\"1\" /><path clip-path=\"url(#clip020)\" d=\"M64.6495 88.4068 Q61.5013 88.4068 59.6495 90.5596 Q57.8208 92.7124 57.8208 96.4624 Q57.8208 100.189 59.6495 102.365 Q61.5013 104.518 64.6495 104.518 Q67.7976 104.518 69.6263 102.365 Q71.4781 100.189 71.4781 96.4624 Q71.4781 92.7124 69.6263 90.5596 Q67.7976 88.4068 64.6495 88.4068 M73.9318 73.7541 L73.9318 78.0134 Q72.1726 77.18 70.367 76.7402 Q68.5846 76.3004 66.8254 76.3004 Q62.1958 76.3004 59.7421 79.4254 Q57.3115 82.5504 56.9643 88.8698 Q58.33 86.8559 60.3902 85.7911 Q62.4504 84.7032 64.9272 84.7032 Q70.1355 84.7032 73.1448 87.8744 Q76.1772 91.0226 76.1772 96.4624 Q76.1772 101.786 73.029 105.004 Q69.8809 108.222 64.6495 108.222 Q58.6541 108.222 55.4828 103.638 Q52.3116 99.0318 52.3116 90.305 Q52.3116 82.1106 56.2004 77.2495 Q60.0893 72.3653 66.6402 72.3653 Q68.3994 72.3653 70.1818 72.7125 Q71.9874 73.0597 73.9318 73.7541 Z\" fill=\"#000000\" fill-rule=\"evenodd\" fill-opacity=\"1\" /><polyline clip-path=\"url(#clip022)\" style=\"stroke:#009af9; stroke-linecap:round; stroke-linejoin:round; stroke-width:4; stroke-opacity:1; fill:none\" points=\"\n",
       "  175.59,513.606 202.689,575.937 229.789,593.902 256.888,658.042 283.987,687.796 311.087,690.994 338.186,707.051 365.286,720.767 392.385,724.792 419.484,732.502 \n",
       "  446.584,744.771 473.683,751.116 500.783,760.226 527.882,776.104 554.981,781.935 582.081,793.386 609.18,796.953 636.28,808.221 663.379,819.446 690.478,823.951 \n",
       "  717.578,833.583 744.677,836.786 771.777,842.947 798.876,854.616 825.975,861.213 853.075,866.708 880.174,878.621 907.274,893.661 934.373,895.465 961.473,905.098 \n",
       "  988.572,912.202 1015.67,922.54 1042.77,930.143 1069.87,935.954 1096.97,938.991 1124.07,947.714 1151.17,950.876 1178.27,966.068 1205.37,968.42 1232.47,991.805 \n",
       "  1259.57,1000.38 1286.67,1011.89 1313.76,1022.79 1340.86,1027.89 1367.96,1039.52 1395.06,1043.62 1422.16,1047.71 1449.26,1050.87 1476.36,1059.91 1503.46,1068.32 \n",
       "  1530.56,1077.2 1557.66,1088.5 1584.76,1090.98 1611.86,1098.2 1638.96,1106.24 1666.06,1114.62 1693.16,1123.09 1720.26,1131.41 1747.36,1141.61 1774.45,1157.76 \n",
       "  1801.55,1169.43 1828.65,1174.09 1855.75,1192.09 1882.85,1201.67 1909.95,1206.14 1937.05,1213.21 1964.15,1220.02 1991.25,1227.06 2018.35,1235.67 2045.45,1238.47 \n",
       "  2072.55,1244.59 2099.65,1270.42 2126.75,1276.13 2153.85,1280.31 2180.95,1281.78 2208.05,1292.3 2235.14,1306.38 2262.24,1330.89 2289.34,1445.72 \n",
       "  \"/>\n",
       "<polyline clip-path=\"url(#clip022)\" style=\"stroke:#e26f46; stroke-linecap:round; stroke-linejoin:round; stroke-width:4; stroke-opacity:1; fill:none\" points=\"\n",
       "  175.59,87.9763 202.689,326.399 229.789,492.53 256.888,536.723 283.987,682.277 311.087,732.549 338.186,745.425 365.286,775.282 392.385,794.698 419.484,805.859 \n",
       "  446.584,819.424 473.683,838.456 500.783,847.258 527.882,864.152 554.981,881.544 582.081,895.801 609.18,913.615 636.28,919.198 663.379,933.605 690.478,949.834 \n",
       "  717.578,955.798 744.677,966.984 771.777,971.666 798.876,980.344 825.975,995.545 853.075,1003.82 880.174,1010.68 907.274,1025.62 934.373,1042.26 961.473,1044.59 \n",
       "  988.572,1053.87 1015.67,1063.56 1042.77,1074.79 1069.87,1083.58 1096.97,1089.1 1124.07,1092.95 1151.17,1102.02 1178.27,1105.5 1205.37,1119.86 1232.47,1122.62 \n",
       "  1259.57,1145.95 1286.67,1153.96 1313.76,1164.91 1340.86,1174.75 1367.96,1179.18 1395.06,1189.69 1422.16,1192.77 1449.26,1196.35 1476.36,1199.33 1503.46,1207.06 \n",
       "  1530.56,1213.5 1557.66,1221.37 1584.76,1230.42 1611.86,1232.25 1638.96,1238.18 1666.06,1244.36 1693.16,1251.03 1720.26,1257.32 1747.36,1263.46 1774.45,1271.12 \n",
       "  1801.55,1282.54 1828.65,1291.09 1855.75,1294.39 1882.85,1306.78 1909.95,1313.18 1937.05,1316.11 1964.15,1320.89 1991.25,1325.17 2018.35,1329.67 2045.45,1335.22 \n",
       "  2072.55,1337.02 2099.65,1340.71 2126.75,1356.55 2153.85,1359.95 2180.95,1362.45 2208.05,1363.45 2235.14,1369.48 2262.24,1377.55 2289.34,1391.47 \n",
       "  \"/>\n",
       "<path clip-path=\"url(#clip020)\" d=\"\n",
       "M1976.69 250.738 L2278.07 250.738 L2278.07 95.2176 L1976.69 95.2176  Z\n",
       "  \" fill=\"#ffffff\" fill-rule=\"evenodd\" fill-opacity=\"1\"/>\n",
       "<polyline clip-path=\"url(#clip020)\" style=\"stroke:#000000; stroke-linecap:round; stroke-linejoin:round; stroke-width:4; stroke-opacity:1; fill:none\" points=\"\n",
       "  1976.69,250.738 2278.07,250.738 2278.07,95.2176 1976.69,95.2176 1976.69,250.738 \n",
       "  \"/>\n",
       "<polyline clip-path=\"url(#clip020)\" style=\"stroke:#009af9; stroke-linecap:round; stroke-linejoin:round; stroke-width:4; stroke-opacity:1; fill:none\" points=\"\n",
       "  2001.58,147.058 2150.95,147.058 \n",
       "  \"/>\n",
       "<path clip-path=\"url(#clip020)\" d=\"M2189.69 166.745 Q2187.89 171.375 2186.17 172.787 Q2184.46 174.199 2181.59 174.199 L2178.19 174.199 L2178.19 170.634 L2180.69 170.634 Q2182.45 170.634 2183.42 169.8 Q2184.39 168.967 2185.57 165.865 L2186.34 163.921 L2175.85 138.412 L2180.36 138.412 L2188.46 158.689 L2196.57 138.412 L2201.08 138.412 L2189.69 166.745 Z\" fill=\"#000000\" fill-rule=\"evenodd\" fill-opacity=\"1\" /><path clip-path=\"url(#clip020)\" d=\"M2208.37 160.402 L2216.01 160.402 L2216.01 134.037 L2207.7 135.703 L2207.7 131.444 L2215.96 129.778 L2220.64 129.778 L2220.64 160.402 L2228.28 160.402 L2228.28 164.338 L2208.37 164.338 L2208.37 160.402 Z\" fill=\"#000000\" fill-rule=\"evenodd\" fill-opacity=\"1\" /><polyline clip-path=\"url(#clip020)\" style=\"stroke:#e26f46; stroke-linecap:round; stroke-linejoin:round; stroke-width:4; stroke-opacity:1; fill:none\" points=\"\n",
       "  2001.58,198.898 2150.95,198.898 \n",
       "  \"/>\n",
       "<path clip-path=\"url(#clip020)\" d=\"M2189.69 218.585 Q2187.89 223.215 2186.17 224.627 Q2184.46 226.039 2181.59 226.039 L2178.19 226.039 L2178.19 222.474 L2180.69 222.474 Q2182.45 222.474 2183.42 221.64 Q2184.39 220.807 2185.57 217.705 L2186.34 215.761 L2175.85 190.252 L2180.36 190.252 L2188.46 210.529 L2196.57 190.252 L2201.08 190.252 L2189.69 218.585 Z\" fill=\"#000000\" fill-rule=\"evenodd\" fill-opacity=\"1\" /><path clip-path=\"url(#clip020)\" d=\"M2211.59 212.242 L2227.91 212.242 L2227.91 216.178 L2205.96 216.178 L2205.96 212.242 Q2208.63 209.488 2213.21 204.858 Q2217.82 200.205 2219 198.863 Q2221.24 196.34 2222.12 194.604 Q2223.02 192.844 2223.02 191.155 Q2223.02 188.4 2221.08 186.664 Q2219.16 184.928 2216.06 184.928 Q2213.86 184.928 2211.4 185.692 Q2208.97 186.455 2206.2 188.006 L2206.2 183.284 Q2209.02 182.15 2211.47 181.571 Q2213.93 180.993 2215.96 180.993 Q2221.33 180.993 2224.53 183.678 Q2227.72 186.363 2227.72 190.854 Q2227.72 192.983 2226.91 194.905 Q2226.13 196.803 2224.02 199.395 Q2223.44 200.067 2220.34 203.284 Q2217.24 206.479 2211.59 212.242 Z\" fill=\"#000000\" fill-rule=\"evenodd\" fill-opacity=\"1\" /></svg>\n"
      ]
     },
     "execution_count": 99,
     "metadata": {},
     "output_type": "execute_result"
    }
   ],
   "source": [
    "w1 = makeweights(test1[3][229], lambda1);\n",
    "w2 = makeweights(test2[3][229], lambda2);\n",
    "\n",
    "plot(w1)\n",
    "plot!(w2)"
   ]
  },
  {
   "cell_type": "code",
   "execution_count": 100,
   "id": "a328bba4-75a4-4465-969f-55c1d738c079",
   "metadata": {},
   "outputs": [],
   "source": [
    "est2_h0 = fitlmm(y2, reshape(X2[:, 1], :, 1), lambda2);\n",
    "est2_h1 = fitlmm(y2, hcat(X2[:, 1], X2[:, 230]), lambda2);"
   ]
  },
  {
   "cell_type": "code",
   "execution_count": 101,
   "id": "783bc5f3-f228-4e51-a28d-f1026089e63d",
   "metadata": {},
   "outputs": [
    {
     "data": {
      "text/plain": [
       "-2.287303632407237"
      ]
     },
     "execution_count": 101,
     "metadata": {},
     "output_type": "execute_result"
    }
   ],
   "source": [
    "(est2_h1.ell - est2_h0.ell)/log(10)"
   ]
  },
  {
   "cell_type": "code",
   "execution_count": 102,
   "id": "c463fe1c-7ae9-4685-96bc-5baa2310936d",
   "metadata": {},
   "outputs": [
    {
     "data": {
      "text/plain": [
       "0.7365456112208408"
      ]
     },
     "execution_count": 102,
     "metadata": {},
     "output_type": "execute_result"
    }
   ],
   "source": [
    "lods_from_gemma[229, 108] # from GEMMA; we should get"
   ]
  },
  {
   "cell_type": "code",
   "execution_count": 103,
   "id": "e1043c13-cfa3-4185-bc78-f480bd6f03fb",
   "metadata": {},
   "outputs": [
    {
     "data": {
      "text/plain": [
       "-2.287303632407237"
      ]
     },
     "execution_count": 103,
     "metadata": {},
     "output_type": "execute_result"
    }
   ],
   "source": [
    "scan_alt(pheno_108, geno, kinship_Gc)[4][229]"
   ]
  },
  {
   "cell_type": "code",
   "execution_count": 104,
   "id": "75d56b5f-5aa8-4970-b1bc-14ef5a1eff1e",
   "metadata": {},
   "outputs": [
    {
     "data": {
      "text/plain": [
       "wls_bayes (generic function with 1 method)"
      ]
     },
     "execution_count": 104,
     "metadata": {},
     "output_type": "execute_result"
    }
   ],
   "source": [
    "function wls_bayes(y::Array{Float64, 2}, X::Array{Float64, 2}, w::Array{Float64, 1}, prior::Array{Float64, 1};\n",
    "             reml::Bool = false, loglik::Bool = true, method = \"qr\")\n",
    "\n",
    "    (n, p) = size(X); # get number of observations and the number of markers from geno dimensions      \n",
    "\n",
    "    n = size(y, 1); # get number of observations       \n",
    "\n",
    "    # check if weights are positive\n",
    "    if(any(w .<= .0))\n",
    "        error(\"Some weights are not positive.\")\n",
    "    end\n",
    "\n",
    "    # square root of the weights\n",
    "    sqrtw = sqrt.(w)\n",
    "\n",
    "    # logdetXtX = logdet(X' * X); constant term that does not depend on the parameters (weights); is not needed\n",
    "\n",
    "    # scale by weights\n",
    "    yy = rowMultiply(y, sqrtw)\n",
    "    XX = rowMultiply(X, sqrtw)\n",
    "\n",
    "    # least squares solution\n",
    "    # faster but numerically less stable\n",
    "    if(method == \"cholesky\")\n",
    "        fct = cholesky(XX'XX)\n",
    "        b = fct\\(XX'yy)\n",
    "        logdetXXtXX = logdet(fct)\n",
    "    end\n",
    "\n",
    "    # slower but numerically more stable\n",
    "    if(method == \"qr\")\n",
    "        fct = qr(XX)\n",
    "        b = fct\\yy\n",
    "\n",
    "        # logdetXXtXX = 2*logdet(fct.R) # need 2 for logdet(X'X)\n",
    "        # logdetXXtXX = logdet(fct.R' * fct.R);\n",
    "        logdetXXtXX = 2*logabsdet(fct.R)[1];\n",
    "\n",
    "    end\n",
    "\n",
    "    yyhat = XX*b\n",
    "    rss0 = sum((yy-yyhat).^2)\n",
    "\n",
    "    if(reml)\n",
    "        sigma2 = rss0/(n-p)\n",
    "    else\n",
    "        sigma2 = (rss0+prior[1]*prior[2])/(n+prior[2])\n",
    "    end\n",
    "\n",
    "    # see formulas (2) and (3) of Kang (2008)\n",
    "    if(loglik)\n",
    "\n",
    "        # ell = -0.5 * ( n*log(sigma2) + sum(log.(w)) + rss0/sigma2 )\n",
    "        # ell = -0.5 * (n*log(sigma2) - sum(log.(w)) + rss0/sigma2)\n",
    "        ell = -0.5 * ((n+prior[2])*log(sigma2) - sum(log.(w)) + (rss0+prior[1]*prior[2])/sigma2)\n",
    "\n",
    "        if(reml)\n",
    "            # ell = ell + 0.5 * (p*log(2pi*sigma2) + logdetXtX - logdetXXtXX) # full log-likelihood including the constant terms;\n",
    "            ell = ell + 0.5 * (p*log(sigma2) - logdetXXtXX)\n",
    "        end\n",
    "        \n",
    "    else\n",
    "        ell = missing;\n",
    "    end\n",
    "\n",
    "    return LSEstimates(b, sigma2, ell)\n",
    "\n",
    "end"
   ]
  },
  {
   "cell_type": "code",
   "execution_count": 105,
   "id": "1e417aea-d923-43f1-af8a-f9bc818392bf",
   "metadata": {},
   "outputs": [
    {
     "data": {
      "text/plain": [
       "makeweights (generic function with 1 method)"
      ]
     },
     "execution_count": 105,
     "metadata": {},
     "output_type": "execute_result"
    }
   ],
   "source": [
    "function makeweights(h2::Float64, lambda::Array{Float64,1})\n",
    "\n",
    "    vars = h2*lambda .+ (1.0-h2)\n",
    "    return 1.0./vars\n",
    "\n",
    "end"
   ]
  },
  {
   "cell_type": "code",
   "execution_count": 106,
   "id": "50777f27-d0b1-498a-b9c1-91b2d67d166b",
   "metadata": {},
   "outputs": [
    {
     "data": {
      "text/plain": [
       "makeweights_repara (generic function with 1 method)"
      ]
     },
     "execution_count": 106,
     "metadata": {},
     "output_type": "execute_result"
    }
   ],
   "source": [
    "function makeweights_repara(h2::Float64, lambda::Array{Float64,1})\n",
    "\n",
    "    delta = h2/(1-h2);\n",
    "    vars = (delta.*lambda .+ 1);\n",
    "    return 1.0./vars\n",
    "\n",
    "end"
   ]
  },
  {
   "cell_type": "code",
   "execution_count": 107,
   "id": "b62143a5-f5d8-49e7-8af2-47d382eebdce",
   "metadata": {},
   "outputs": [
    {
     "data": {
      "text/plain": [
       "79×2 Matrix{Float64}:\n",
       " 100.0       1.0\n",
       "  19.2965    0.192965\n",
       "  10.7249    0.107249\n",
       "   9.36438   0.0936438\n",
       "   6.15791   0.0615791\n",
       "   5.35278   0.0535278\n",
       "   5.1644    0.051644\n",
       "   4.75213   0.0475213\n",
       "   4.50099   0.0450099\n",
       "   4.3622    0.043622\n",
       "   4.19871   0.0419871\n",
       "   3.9784    0.039784\n",
       "   3.87993   0.0387993\n",
       "   ⋮         \n",
       "   0.519658  0.00519658\n",
       "   0.499658  0.00499658\n",
       "   0.475156  0.00475156\n",
       "   0.467243  0.00467243\n",
       "   0.451079  0.00451079\n",
       "   0.382809  0.00382809\n",
       "   0.368365  0.00368365\n",
       "   0.357798  0.00357798\n",
       "   0.353566  0.00353566\n",
       "   0.328263  0.00328263\n",
       "   0.294727  0.00294727\n",
       "   0.237859  0.00237859"
      ]
     },
     "execution_count": 107,
     "metadata": {},
     "output_type": "execute_result"
    }
   ],
   "source": [
    "hcat(makeweights(0.99, lambda0), makeweights_repara(0.99, lambda0))"
   ]
  },
  {
   "cell_type": "code",
   "execution_count": 108,
   "id": "64e3cf29-ce4c-4902-a9f1-87a4dc9611f8",
   "metadata": {},
   "outputs": [
    {
     "data": {
      "text/plain": [
       "fitlmm_Bdd (generic function with 1 method)"
      ]
     },
     "execution_count": 108,
     "metadata": {},
     "output_type": "execute_result"
    }
   ],
   "source": [
    "function fitlmm_Bdd(y::Array{Float64, 2}, X::Array{Float64, 2}, lambda::Array{Float64, 1};\n",
    "                reml::Bool = false, loglik::Bool = true, h20::Float64 = 0.5, d::Float64 = 1.0)\n",
    "    prior = [var(vec(y)), 1/100];\n",
    "    function logLik0(h2::Float64)\n",
    "        out = wls_bayes(y, X, makeweights_repara(h2, lambda), prior; reml = reml, loglik = loglik)\n",
    "        return -out.ell\n",
    "    end\n",
    "    ## avoid the use of global variable in inner function;\n",
    "\n",
    "    opt = optimize(logLik0, max(h20-d, 0.0), min(h20+d, 1.0))\n",
    "    # opt = optimize(logLik0, max(h20-d, 0.0), min(h20+d, 1.0))\n",
    "    h2 = opt.minimizer\n",
    "    est = wls_bayes(y, X, makeweights_repara(h2, lambda), prior; reml = reml, loglik = loglik)\n",
    "    return LMMEstimates(est.b, est.sigma2, h2, est.ell)\n",
    "end"
   ]
  },
  {
   "cell_type": "code",
   "execution_count": 109,
   "id": "c3e817fa-2cc2-4848-afae-61735b27f365",
   "metadata": {},
   "outputs": [
    {
     "ename": "LoadError",
     "evalue": "UndefVarError: X0_intercept not defined",
     "output_type": "error",
     "traceback": [
      "UndefVarError: X0_intercept not defined",
      "",
      "Stacktrace:",
      " [1] top-level scope",
      "   @ In[109]:1",
      " [2] eval",
      "   @ ./boot.jl:373 [inlined]",
      " [3] include_string(mapexpr::typeof(REPL.softscope), mod::Module, code::String, filename::String)",
      "   @ Base ./loading.jl:1196"
     ]
    }
   ],
   "source": [
    "test_null = fitlmm_Bdd(y0_108, X0_intercept, lambda0; reml = false);"
   ]
  },
  {
   "cell_type": "code",
   "execution_count": 110,
   "id": "7930686f-fd32-41a6-a399-c8f50c81d05f",
   "metadata": {},
   "outputs": [
    {
     "ename": "LoadError",
     "evalue": "UndefVarError: test_null not defined",
     "output_type": "error",
     "traceback": [
      "UndefVarError: test_null not defined",
      "",
      "Stacktrace:",
      " [1] top-level scope",
      "   @ In[110]:1",
      " [2] eval",
      "   @ ./boot.jl:373 [inlined]",
      " [3] include_string(mapexpr::typeof(REPL.softscope), mod::Module, code::String, filename::String)",
      "   @ Base ./loading.jl:1196"
     ]
    }
   ],
   "source": [
    "test_null.h2"
   ]
  },
  {
   "cell_type": "code",
   "execution_count": 111,
   "id": "81a42ec4-52c1-48a6-95ed-343dcc03c5da",
   "metadata": {},
   "outputs": [
    {
     "data": {
      "text/plain": [
       "2-element Vector{Float64}:\n",
       " 38.406684578131774\n",
       "  0.01"
      ]
     },
     "execution_count": 111,
     "metadata": {},
     "output_type": "execute_result"
    }
   ],
   "source": [
    "prior = [var(vec(y0_108)), 1/100]"
   ]
  },
  {
   "cell_type": "code",
   "execution_count": 112,
   "id": "f8203e9e-1cb3-4756-85cb-abcf574e1c00",
   "metadata": {},
   "outputs": [
    {
     "ename": "LoadError",
     "evalue": "UndefVarError: X0_intercept not defined",
     "output_type": "error",
     "traceback": [
      "UndefVarError: X0_intercept not defined",
      "",
      "Stacktrace:",
      " [1] top-level scope",
      "   @ In[112]:1",
      " [2] eval",
      "   @ ./boot.jl:373 [inlined]",
      " [3] include_string(mapexpr::typeof(REPL.softscope), mod::Module, code::String, filename::String)",
      "   @ Base ./loading.jl:1196"
     ]
    }
   ],
   "source": [
    "wls_bayes(y0_108, X0_intercept, makeweights_repara(0.99, lambda0), prior; reml = false).ell"
   ]
  },
  {
   "cell_type": "code",
   "execution_count": 113,
   "id": "3fb4ab7e-9aa4-4c45-8962-2ecfa81ed5b3",
   "metadata": {},
   "outputs": [
    {
     "ename": "LoadError",
     "evalue": "UndefVarError: X0_intercept not defined",
     "output_type": "error",
     "traceback": [
      "UndefVarError: X0_intercept not defined",
      "",
      "Stacktrace:",
      " [1] top-level scope",
      "   @ In[113]:1",
      " [2] eval",
      "   @ ./boot.jl:373 [inlined]",
      " [3] include_string(mapexpr::typeof(REPL.softscope), mod::Module, code::String, filename::String)",
      "   @ Base ./loading.jl:1196"
     ]
    }
   ],
   "source": [
    "wls_bayes(y0_108, X0_intercept, makeweights_repara(0.794, lambda0), prior; reml = false).ell"
   ]
  },
  {
   "cell_type": "code",
   "execution_count": 114,
   "id": "15bd97fe-bdcc-4e5b-8784-ac30e9ec81b0",
   "metadata": {},
   "outputs": [
    {
     "data": {
      "text/plain": [
       "get_LODs_from_alt_SVD_Bdd (generic function with 1 method)"
      ]
     },
     "execution_count": 114,
     "metadata": {},
     "output_type": "execute_result"
    }
   ],
   "source": [
    "function get_LODs_from_alt_SVD_Bdd(Y::Array{Float64, 2}, G::Array{Float64, 2}, K::Array{Float64, 2}; reml::Bool = false)\n",
    "\n",
    "    (n, m) = size(Y);\n",
    "    p = size(G, 2);\n",
    "    \n",
    "    intercept = reshape(ones(n, 1), :, 1);\n",
    "    (Y0, X0, lambda0) = rotateData_SVD(Y, [intercept G], K);\n",
    "    \n",
    "    lods_from_alt = Array{Float64, 2}(undef, p, m);\n",
    "    hsqs_from_alt = Array{Float64, 2}(undef, p, m);\n",
    "\n",
    "    intercept0 = reshape(X0[:, 1], :, 1);\n",
    "    \n",
    "    for i in 1:m\n",
    "        \n",
    "        y0_i = reshape(Y0[:, i], :, 1);\n",
    "        out00 = fitlmm_Bdd(y0_i, intercept0, lambda0; reml = reml);\n",
    "        \n",
    "        lod = zeros(p);\n",
    "        hsqs = zeros(p);\n",
    "        X = zeros(n, 2);\n",
    "        X[:, 1] = X0[:, 1];\n",
    "        \n",
    "        for j in 1:p\n",
    "            X[:, 2] = X0[:, j+1];\n",
    "            \n",
    "            out11 = fitlmm_Bdd(y0_i, X, lambda0; reml = reml);\n",
    "            \n",
    "            hsqs[j] = out11.h2;\n",
    "            lod[j] = (out11.ell - out00.ell)/log(10);\n",
    "            \n",
    "        end\n",
    "        \n",
    "        lods_from_alt[:, i] = lod;\n",
    "        hsqs_from_alt[:, i] = hsqs;\n",
    "        \n",
    "    end\n",
    "    \n",
    "    return (hsqs_from_alt, lods_from_alt);\n",
    "    \n",
    "end"
   ]
  },
  {
   "cell_type": "code",
   "execution_count": 115,
   "id": "2dc36ac0-100b-4eb1-b9ca-2d2def31d8ee",
   "metadata": {},
   "outputs": [
    {
     "ename": "LoadError",
     "evalue": "UndefVarError: get_LODs_from_alt_SVD not defined",
     "output_type": "error",
     "traceback": [
      "UndefVarError: get_LODs_from_alt_SVD not defined",
      "",
      "Stacktrace:",
      " [1] top-level scope",
      "   @ In[115]:1",
      " [2] eval",
      "   @ ./boot.jl:373 [inlined]",
      " [3] include_string(mapexpr::typeof(REPL.softscope), mod::Module, code::String, filename::String)",
      "   @ Base ./loading.jl:1196"
     ]
    }
   ],
   "source": [
    "test_unbounded = get_LODs_from_alt_SVD(reshape(pheno[:, 108], :, 1), geno, kinship_Gc; reml = false);"
   ]
  },
  {
   "cell_type": "code",
   "execution_count": 116,
   "id": "a1a7c078-2839-4a95-92fa-a40173f736a2",
   "metadata": {},
   "outputs": [
    {
     "ename": "LoadError",
     "evalue": "UndefVarError: rotateData_SVD not defined",
     "output_type": "error",
     "traceback": [
      "UndefVarError: rotateData_SVD not defined",
      "",
      "Stacktrace:",
      " [1] get_LODs_from_alt_SVD_Bdd(Y::Matrix{Float64}, G::Matrix{Float64}, K::Matrix{Float64}; reml::Bool)",
      "   @ Main ./In[114]:7",
      " [2] top-level scope",
      "   @ In[116]:1",
      " [3] eval",
      "   @ ./boot.jl:373 [inlined]",
      " [4] include_string(mapexpr::typeof(REPL.softscope), mod::Module, code::String, filename::String)",
      "   @ Base ./loading.jl:1196"
     ]
    }
   ],
   "source": [
    "test_bounded = get_LODs_from_alt_SVD_Bdd(reshape(pheno[:, 108], :, 1), geno, kinship_Gc; reml = false);"
   ]
  },
  {
   "cell_type": "code",
   "execution_count": 117,
   "id": "1ae2fd56-81e2-41d1-9ee6-c214922906f9",
   "metadata": {},
   "outputs": [
    {
     "ename": "LoadError",
     "evalue": "UndefVarError: test_unbounded not defined",
     "output_type": "error",
     "traceback": [
      "UndefVarError: test_unbounded not defined",
      "",
      "Stacktrace:",
      " [1] top-level scope",
      "   @ In[117]:1",
      " [2] eval",
      "   @ ./boot.jl:373 [inlined]",
      " [3] include_string(mapexpr::typeof(REPL.softscope), mod::Module, code::String, filename::String)",
      "   @ Base ./loading.jl:1196"
     ]
    }
   ],
   "source": [
    "test_unbounded[2][229]"
   ]
  },
  {
   "cell_type": "code",
   "execution_count": 118,
   "id": "64d7f6b3-f389-4aca-b52f-95d9e96c34c6",
   "metadata": {},
   "outputs": [
    {
     "ename": "LoadError",
     "evalue": "UndefVarError: test_bounded not defined",
     "output_type": "error",
     "traceback": [
      "UndefVarError: test_bounded not defined",
      "",
      "Stacktrace:",
      " [1] top-level scope",
      "   @ In[118]:1",
      " [2] eval",
      "   @ ./boot.jl:373 [inlined]",
      " [3] include_string(mapexpr::typeof(REPL.softscope), mod::Module, code::String, filename::String)",
      "   @ Base ./loading.jl:1196"
     ]
    }
   ],
   "source": [
    "test_bounded[2][229]"
   ]
  },
  {
   "cell_type": "code",
   "execution_count": 119,
   "id": "eed2dedf-9860-47ac-9a9f-cd3ec6c6827d",
   "metadata": {},
   "outputs": [
    {
     "data": {
      "text/plain": [
       "0.7365456112208408"
      ]
     },
     "execution_count": 119,
     "metadata": {},
     "output_type": "execute_result"
    }
   ],
   "source": [
    "lods_from_gemma[229, 108] # from gemma"
   ]
  },
  {
   "cell_type": "code",
   "execution_count": 120,
   "id": "37385f54-af7b-4763-8790-3e1780e4f1a9",
   "metadata": {},
   "outputs": [
    {
     "ename": "LoadError",
     "evalue": "UndefVarError: test_unbounded not defined",
     "output_type": "error",
     "traceback": [
      "UndefVarError: test_unbounded not defined",
      "",
      "Stacktrace:",
      " [1] top-level scope",
      "   @ In[120]:1",
      " [2] eval",
      "   @ ./boot.jl:373 [inlined]",
      " [3] include_string(mapexpr::typeof(REPL.softscope), mod::Module, code::String, filename::String)",
      "   @ Base ./loading.jl:1196"
     ]
    }
   ],
   "source": [
    "sumSqDiff(reshape(test_unbounded[2], :, 1), reshape(test_bounded[2], :, 1))"
   ]
  },
  {
   "cell_type": "code",
   "execution_count": 121,
   "id": "08f00668-b82b-4b8d-b1a9-42b4febd3bb3",
   "metadata": {},
   "outputs": [
    {
     "ename": "LoadError",
     "evalue": "UndefVarError: test_unbounded not defined",
     "output_type": "error",
     "traceback": [
      "UndefVarError: test_unbounded not defined",
      "",
      "Stacktrace:",
      " [1] top-level scope",
      "   @ In[121]:1",
      " [2] eval",
      "   @ ./boot.jl:373 [inlined]",
      " [3] include_string(mapexpr::typeof(REPL.softscope), mod::Module, code::String, filename::String)",
      "   @ Base ./loading.jl:1196"
     ]
    }
   ],
   "source": [
    "hcat(test_unbounded[2], test_bounded[2], lods_from_bulk[:, 108], lods_from_gemma[:, 108])"
   ]
  },
  {
   "cell_type": "code",
   "execution_count": 122,
   "id": "2802b318-e117-47ee-a3a4-6471224910bc",
   "metadata": {},
   "outputs": [
    {
     "ename": "LoadError",
     "evalue": "UndefVarError: get_LODs_from_alt_SVD not defined",
     "output_type": "error",
     "traceback": [
      "UndefVarError: get_LODs_from_alt_SVD not defined",
      "",
      "Stacktrace:",
      " [1] top-level scope",
      "   @ In[122]:1",
      " [2] eval",
      "   @ ./boot.jl:373 [inlined]",
      " [3] include_string(mapexpr::typeof(REPL.softscope), mod::Module, code::String, filename::String)",
      "   @ Base ./loading.jl:1196"
     ]
    }
   ],
   "source": [
    "test_unbounded = get_LODs_from_alt_SVD(reshape(pheno[:, 109], :, 1), geno, kinship_Gc; reml = false);"
   ]
  },
  {
   "cell_type": "code",
   "execution_count": 123,
   "id": "d6cd0225-6c33-404e-b701-149d1bb6f5a8",
   "metadata": {},
   "outputs": [
    {
     "ename": "LoadError",
     "evalue": "UndefVarError: rotateData_SVD not defined",
     "output_type": "error",
     "traceback": [
      "UndefVarError: rotateData_SVD not defined",
      "",
      "Stacktrace:",
      " [1] get_LODs_from_alt_SVD_Bdd(Y::Matrix{Float64}, G::Matrix{Float64}, K::Matrix{Float64}; reml::Bool)",
      "   @ Main ./In[114]:7",
      " [2] top-level scope",
      "   @ In[123]:1",
      " [3] eval",
      "   @ ./boot.jl:373 [inlined]",
      " [4] include_string(mapexpr::typeof(REPL.softscope), mod::Module, code::String, filename::String)",
      "   @ Base ./loading.jl:1196"
     ]
    }
   ],
   "source": [
    "test_bounded = get_LODs_from_alt_SVD_Bdd(reshape(pheno[:, 109], :, 1), geno, kinship_Gc; reml = false);"
   ]
  },
  {
   "cell_type": "code",
   "execution_count": 124,
   "id": "4ae353c6-e234-4a82-a5e3-9b2b8bf40003",
   "metadata": {},
   "outputs": [
    {
     "ename": "LoadError",
     "evalue": "UndefVarError: test_unbounded not defined",
     "output_type": "error",
     "traceback": [
      "UndefVarError: test_unbounded not defined",
      "",
      "Stacktrace:",
      " [1] top-level scope",
      "   @ In[124]:1",
      " [2] eval",
      "   @ ./boot.jl:373 [inlined]",
      " [3] include_string(mapexpr::typeof(REPL.softscope), mod::Module, code::String, filename::String)",
      "   @ Base ./loading.jl:1196"
     ]
    }
   ],
   "source": [
    "hcat(test_unbounded[2], test_bounded[2], lods_from_bulk[:, 109], lods_from_gemma[:, 109])"
   ]
  },
  {
   "cell_type": "code",
   "execution_count": 125,
   "id": "daf4686a-9581-4770-af02-22f9c8cf9b56",
   "metadata": {},
   "outputs": [
    {
     "data": {
      "text/plain": [
       "7075"
      ]
     },
     "execution_count": 125,
     "metadata": {},
     "output_type": "execute_result"
    }
   ],
   "source": [
    "hasNega = lods_from_alt[:, 108] .>= 0;\n",
    "isFin = isfinite.(lods_from_gemma[:, 108]);\n",
    "sum(hasNega .* isFin)"
   ]
  },
  {
   "cell_type": "code",
   "execution_count": 126,
   "id": "589992e4-0b24-4bdf-ba0e-5207e22c0512",
   "metadata": {},
   "outputs": [
    {
     "ename": "LoadError",
     "evalue": "UndefVarError: test_unbounded not defined",
     "output_type": "error",
     "traceback": [
      "UndefVarError: test_unbounded not defined",
      "",
      "Stacktrace:",
      " [1] top-level scope",
      "   @ In[126]:1",
      " [2] eval",
      "   @ ./boot.jl:373 [inlined]",
      " [3] include_string(mapexpr::typeof(REPL.softscope), mod::Module, code::String, filename::String)",
      "   @ Base ./loading.jl:1196"
     ]
    }
   ],
   "source": [
    "plot(test_unbounded[2], color = \"blue\", label = \"unbounded hsq\")\n",
    "plot!(test_bounded[2], color = \"red\", label = \"bounded hsq by 0.99\")"
   ]
  },
  {
   "cell_type": "code",
   "execution_count": 127,
   "id": "ad1a0c6c-3b31-43c4-86b5-7bdcb2ec1b1c",
   "metadata": {},
   "outputs": [
    {
     "ename": "LoadError",
     "evalue": "UndefVarError: test_unbounded not defined",
     "output_type": "error",
     "traceback": [
      "UndefVarError: test_unbounded not defined",
      "",
      "Stacktrace:",
      " [1] top-level scope",
      "   @ In[127]:1",
      " [2] eval",
      "   @ ./boot.jl:373 [inlined]",
      " [3] include_string(mapexpr::typeof(REPL.softscope), mod::Module, code::String, filename::String)",
      "   @ Base ./loading.jl:1196"
     ]
    }
   ],
   "source": [
    "findall(test_unbounded[2].<= 0)"
   ]
  },
  {
   "cell_type": "code",
   "execution_count": 128,
   "id": "76161c2b-5218-43e1-a9ae-5331a1d3c2bf",
   "metadata": {},
   "outputs": [
    {
     "ename": "LoadError",
     "evalue": "UndefVarError: test_bounded not defined",
     "output_type": "error",
     "traceback": [
      "UndefVarError: test_bounded not defined",
      "",
      "Stacktrace:",
      " [1] top-level scope",
      "   @ In[128]:1",
      " [2] eval",
      "   @ ./boot.jl:373 [inlined]",
      " [3] include_string(mapexpr::typeof(REPL.softscope), mod::Module, code::String, filename::String)",
      "   @ Base ./loading.jl:1196"
     ]
    }
   ],
   "source": [
    "findall(test_bounded[2].<= 0)"
   ]
  },
  {
   "cell_type": "code",
   "execution_count": 129,
   "id": "44306ac2-8917-4619-82cf-494e95a92740",
   "metadata": {},
   "outputs": [
    {
     "ename": "LoadError",
     "evalue": "UndefVarError: test_bounded not defined",
     "output_type": "error",
     "traceback": [
      "UndefVarError: test_bounded not defined",
      "",
      "Stacktrace:",
      " [1] top-level scope",
      "   @ In[129]:1",
      " [2] eval",
      "   @ ./boot.jl:373 [inlined]",
      " [3] include_string(mapexpr::typeof(REPL.softscope), mod::Module, code::String, filename::String)",
      "   @ Base ./loading.jl:1196"
     ]
    }
   ],
   "source": [
    "minimum(test_bounded[2])"
   ]
  },
  {
   "cell_type": "code",
   "execution_count": 130,
   "id": "3fa44dee-8684-40ce-ab73-468f33b057af",
   "metadata": {},
   "outputs": [
    {
     "ename": "LoadError",
     "evalue": "UndefVarError: test_bounded not defined",
     "output_type": "error",
     "traceback": [
      "UndefVarError: test_bounded not defined",
      "",
      "Stacktrace:",
      " [1] top-level scope",
      "   @ In[130]:1",
      " [2] eval",
      "   @ ./boot.jl:373 [inlined]",
      " [3] include_string(mapexpr::typeof(REPL.softscope), mod::Module, code::String, filename::String)",
      "   @ Base ./loading.jl:1196"
     ]
    }
   ],
   "source": [
    "maximum(test_bounded[2])"
   ]
  },
  {
   "cell_type": "code",
   "execution_count": 131,
   "id": "e61be100-e4f6-4b45-9745-83dfa0994dd1",
   "metadata": {},
   "outputs": [
    {
     "data": {
      "text/plain": [
       "26.215395995293537"
      ]
     },
     "execution_count": 131,
     "metadata": {},
     "output_type": "execute_result"
    }
   ],
   "source": [
    "maximum(lods_from_bulk[:, 108])"
   ]
  },
  {
   "cell_type": "code",
   "execution_count": 132,
   "id": "76155355-875d-4a9a-86c4-b676c8e0f5a8",
   "metadata": {},
   "outputs": [
    {
     "data": {
      "text/plain": [
       "Inf"
      ]
     },
     "execution_count": 132,
     "metadata": {},
     "output_type": "execute_result"
    }
   ],
   "source": [
    "maximum(lods_from_gemma[:, 108])"
   ]
  },
  {
   "cell_type": "code",
   "execution_count": null,
   "id": "ad3fbaa8-4de2-47b0-a968-e125f6034dbe",
   "metadata": {},
   "outputs": [],
   "source": []
  },
  {
   "cell_type": "code",
   "execution_count": null,
   "id": "0032af4b-0dc3-4a80-a81e-3ccc4c59843b",
   "metadata": {},
   "outputs": [],
   "source": []
  },
  {
   "cell_type": "code",
   "execution_count": null,
   "id": "eb7e4c38-b723-4723-a9a0-15250300e28d",
   "metadata": {},
   "outputs": [],
   "source": []
  },
  {
   "cell_type": "code",
   "execution_count": null,
   "id": "556c42d5-821e-4e7f-b899-9aa4fcec2059",
   "metadata": {},
   "outputs": [],
   "source": []
  },
  {
   "cell_type": "code",
   "execution_count": null,
   "id": "315c7769-e027-4c94-86b5-ea42656504e1",
   "metadata": {},
   "outputs": [],
   "source": []
  },
  {
   "cell_type": "code",
   "execution_count": null,
   "id": "fcadcc03-ee89-46bd-9c99-b957b3131f75",
   "metadata": {},
   "outputs": [],
   "source": []
  },
  {
   "cell_type": "code",
   "execution_count": null,
   "id": "a70239a8-0591-4430-b857-ed20c7ec9b55",
   "metadata": {},
   "outputs": [],
   "source": []
  },
  {
   "cell_type": "code",
   "execution_count": null,
   "id": "c359fe00-ca37-4447-9fcf-8a6621810a3e",
   "metadata": {},
   "outputs": [],
   "source": []
  },
  {
   "cell_type": "code",
   "execution_count": null,
   "id": "23b2a502-0657-4e3d-822b-49acfca0087e",
   "metadata": {},
   "outputs": [],
   "source": []
  },
  {
   "cell_type": "markdown",
   "id": "de54d196-9606-4be0-beaa-9a9ae73fdcc1",
   "metadata": {},
   "source": [
    "#### Check loglikelihoods:"
   ]
  },
  {
   "cell_type": "markdown",
   "id": "266afec4-4f80-4255-8253-b2b77e3f4e6d",
   "metadata": {},
   "source": [
    "if(loglik)\n",
    "\n",
    "        ell = -0.5 * (n*log(sigma2) - sum(log.(w)) + rss0/sigma2)\n",
    "\n",
    "        if(reml)\n",
    "            # ell = ell + 0.5 * (p*log(2pi*sigma2) + logdetXtX - logdetXXtXX) # full log-likelihood including the constant terms;\n",
    "            ell = ell + 0.5 * (p*log(sigma2) - logdetXXtXX)\n",
    "        end\n",
    "        \n",
    "    else\n",
    "        ell = missing;\n",
    "end"
   ]
  },
  {
   "cell_type": "code",
   "execution_count": 133,
   "id": "de1b2a6a-cb91-4258-9aba-70a74599200b",
   "metadata": {
    "tags": []
   },
   "outputs": [],
   "source": [
    "test_weights = reduce(hcat, map(x -> makeweights_repara(x, round.(lambda0, digits = 4)), collect(0.0:0.01:0.99)));\n",
    "test_sumlogw = mapslices(x -> sum(log.(x)), test_weights; dims = 1);"
   ]
  },
  {
   "cell_type": "code",
   "execution_count": 134,
   "id": "5a5d8456-84d0-48b4-bb66-f8107177ef0a",
   "metadata": {},
   "outputs": [
    {
     "data": {
      "text/plain": [
       "(79, 100)"
      ]
     },
     "execution_count": 134,
     "metadata": {},
     "output_type": "execute_result"
    }
   ],
   "source": [
    "size(test_weights)"
   ]
  },
  {
   "cell_type": "code",
   "execution_count": 135,
   "id": "8b3f6e56-4f50-4e24-9418-912bf05a6f70",
   "metadata": {},
   "outputs": [],
   "source": [
    "prior = [var(y0_108), 1/100];"
   ]
  },
  {
   "cell_type": "code",
   "execution_count": 136,
   "id": "3b56b3b7-4492-410a-97a6-5873d16d1e0f",
   "metadata": {},
   "outputs": [
    {
     "ename": "LoadError",
     "evalue": "UndefVarError: X0_covar not defined",
     "output_type": "error",
     "traceback": [
      "UndefVarError: X0_covar not defined",
      "",
      "Stacktrace:",
      " [1] (::var\"#59#60\")(x::Vector{Float64})",
      "   @ Main ./In[136]:1",
      " [2] mapslices(f::var\"#59#60\", A::Matrix{Float64}; dims::Int64)",
      "   @ Base ./abstractarray.jl:2788",
      " [3] top-level scope",
      "   @ In[136]:1",
      " [4] eval",
      "   @ ./boot.jl:373 [inlined]",
      " [5] include_string(mapexpr::typeof(REPL.softscope), mod::Module, code::String, filename::String)",
      "   @ Base ./loading.jl:1196"
     ]
    }
   ],
   "source": [
    "test_estimates = mapslices(x -> wls_bayes(y0_108, hcat(X0_intercept, X0_covar[:, 229]), x, [var(y0_108), 1/100]).ell, test_weights; dims = 1); "
   ]
  },
  {
   "cell_type": "code",
   "execution_count": 137,
   "id": "c9f6dc78-162c-40b6-a0c3-d9213313e46e",
   "metadata": {},
   "outputs": [
    {
     "ename": "LoadError",
     "evalue": "UndefVarError: X0_intercept not defined",
     "output_type": "error",
     "traceback": [
      "UndefVarError: X0_intercept not defined",
      "",
      "Stacktrace:",
      " [1] (::var\"#61#62\")(x::Vector{Float64})",
      "   @ Main ./In[137]:1",
      " [2] mapslices(f::var\"#61#62\", A::Matrix{Float64}; dims::Int64)",
      "   @ Base ./abstractarray.jl:2788",
      " [3] top-level scope",
      "   @ In[137]:1",
      " [4] eval",
      "   @ ./boot.jl:373 [inlined]",
      " [5] include_string(mapexpr::typeof(REPL.softscope), mod::Module, code::String, filename::String)",
      "   @ Base ./loading.jl:1196"
     ]
    }
   ],
   "source": [
    "test_estimates_null = mapslices(x -> wls_bayes(y0_108, X0_intercept, x, prior).ell, test_weights; dims = 1); "
   ]
  },
  {
   "cell_type": "code",
   "execution_count": null,
   "id": "95e47883-5f85-434b-af08-fef6732f3b64",
   "metadata": {},
   "outputs": [],
   "source": []
  },
  {
   "cell_type": "code",
   "execution_count": 138,
   "id": "b29f25b3-52e4-45f1-8415-36af94e3a59f",
   "metadata": {},
   "outputs": [
    {
     "data": {
      "text/plain": [
       "0.8336134482039249"
      ]
     },
     "execution_count": 138,
     "metadata": {},
     "output_type": "execute_result"
    }
   ],
   "source": [
    "hsqs_from_alt[229, 108]"
   ]
  },
  {
   "cell_type": "code",
   "execution_count": 139,
   "id": "b5bc6156-9c6a-4c09-8669-856586f52e1a",
   "metadata": {},
   "outputs": [
    {
     "data": {
      "text/plain": [
       "hsq2delta (generic function with 1 method)"
      ]
     },
     "execution_count": 139,
     "metadata": {},
     "output_type": "execute_result"
    }
   ],
   "source": [
    "function delta2hsq(delta::Float64)\n",
    "    \n",
    "    return delta/(1+delta);\n",
    "    \n",
    "end\n",
    "\n",
    "function hsq2delta(hsq::Float64)\n",
    "    \n",
    "    return hsq/(1-hsq);\n",
    "    \n",
    "end"
   ]
  },
  {
   "cell_type": "code",
   "execution_count": 140,
   "id": "62758530-8be1-4a63-851d-e612488120b9",
   "metadata": {},
   "outputs": [
    {
     "ename": "LoadError",
     "evalue": "UndefVarError: lambda_EF not defined",
     "output_type": "error",
     "traceback": [
      "UndefVarError: lambda_EF not defined",
      "",
      "Stacktrace:",
      " [1] (::var\"#63#64\")(x::Float64)",
      "   @ Main ./In[140]:1",
      " [2] iterate",
      "   @ ./generator.jl:47 [inlined]",
      " [3] _collect(c::Vector{Float64}, itr::Base.Generator{Vector{Float64}, var\"#63#64\"}, #unused#::Base.EltypeUnknown, isz::Base.HasShape{1})",
      "   @ Base ./array.jl:744",
      " [4] collect_similar(cont::Vector{Float64}, itr::Base.Generator{Vector{Float64}, var\"#63#64\"})",
      "   @ Base ./array.jl:653",
      " [5] map(f::Function, A::Vector{Float64})",
      "   @ Base ./abstractarray.jl:2867",
      " [6] top-level scope",
      "   @ In[140]:1",
      " [7] eval",
      "   @ ./boot.jl:373 [inlined]",
      " [8] include_string(mapexpr::typeof(REPL.softscope), mod::Module, code::String, filename::String)",
      "   @ Base ./loading.jl:1196"
     ]
    }
   ],
   "source": [
    "test_weights_delta = reduce(hcat, map(x -> makeweights_repara(x, round.(lambda_EF[3], digits = 4)), delta2hsq.(exp.(collect(-10:1:10)))));\n",
    "test_sumlogw_delta = mapslices(x -> sum(log.(x)), test_weights_delta; dims = 1);"
   ]
  },
  {
   "cell_type": "code",
   "execution_count": 141,
   "id": "1904b54a-54d9-4a04-9f23-87f5921f5289",
   "metadata": {},
   "outputs": [
    {
     "ename": "LoadError",
     "evalue": "UndefVarError: test_weights_delta not defined",
     "output_type": "error",
     "traceback": [
      "UndefVarError: test_weights_delta not defined",
      "",
      "Stacktrace:",
      " [1] top-level scope",
      "   @ In[141]:1",
      " [2] eval",
      "   @ ./boot.jl:373 [inlined]",
      " [3] include_string(mapexpr::typeof(REPL.softscope), mod::Module, code::String, filename::String)",
      "   @ Base ./loading.jl:1196"
     ]
    }
   ],
   "source": [
    "test_estimates_delta = mapslices(x -> wls_bayes(y0_108, hcat(X0_intercept, X0_covar[:, 229]), x, prior).ell, test_weights_delta; dims = 1); "
   ]
  },
  {
   "cell_type": "code",
   "execution_count": 142,
   "id": "dd1ee57f-1069-4a73-83d1-293ecd6bde88",
   "metadata": {},
   "outputs": [
    {
     "ename": "LoadError",
     "evalue": "UndefVarError: test_weights_delta not defined",
     "output_type": "error",
     "traceback": [
      "UndefVarError: test_weights_delta not defined",
      "",
      "Stacktrace:",
      " [1] top-level scope",
      "   @ In[142]:1",
      " [2] eval",
      "   @ ./boot.jl:373 [inlined]",
      " [3] include_string(mapexpr::typeof(REPL.softscope), mod::Module, code::String, filename::String)",
      "   @ Base ./loading.jl:1196"
     ]
    }
   ],
   "source": [
    "test_estimates_delta_null = mapslices(x -> wls_bayes(y0_108, X0_intercept, x, prior).ell, test_weights_delta; dims = 1); "
   ]
  },
  {
   "cell_type": "code",
   "execution_count": 143,
   "id": "0b04cbbb-0f3e-4bae-a744-3eab489ad8b7",
   "metadata": {},
   "outputs": [
    {
     "ename": "LoadError",
     "evalue": "UndefVarError: X0_intercept not defined",
     "output_type": "error",
     "traceback": [
      "UndefVarError: X0_intercept not defined",
      "",
      "Stacktrace:",
      " [1] top-level scope",
      "   @ In[143]:1",
      " [2] eval",
      "   @ ./boot.jl:373 [inlined]",
      " [3] include_string(mapexpr::typeof(REPL.softscope), mod::Module, code::String, filename::String)",
      "   @ Base ./loading.jl:1196"
     ]
    }
   ],
   "source": [
    "fitlmm(y0_108, X0_intercept, lambda0).h2"
   ]
  },
  {
   "cell_type": "code",
   "execution_count": 144,
   "id": "a342e02b-bf56-4689-8e91-0dcf45d0819f",
   "metadata": {},
   "outputs": [
    {
     "ename": "LoadError",
     "evalue": "UndefVarError: X0_intercept not defined",
     "output_type": "error",
     "traceback": [
      "UndefVarError: X0_intercept not defined",
      "",
      "Stacktrace:",
      " [1] top-level scope",
      "   @ In[144]:1",
      " [2] eval",
      "   @ ./boot.jl:373 [inlined]",
      " [3] include_string(mapexpr::typeof(REPL.softscope), mod::Module, code::String, filename::String)",
      "   @ Base ./loading.jl:1196"
     ]
    }
   ],
   "source": [
    "fitlmm_Bdd(y0_108, X0_intercept, lambda0).h2 # null"
   ]
  },
  {
   "cell_type": "code",
   "execution_count": 145,
   "id": "c371b3d6-03d0-4d6f-ba1d-9b1a4b80477f",
   "metadata": {},
   "outputs": [
    {
     "ename": "LoadError",
     "evalue": "UndefVarError: X0_intercept not defined",
     "output_type": "error",
     "traceback": [
      "UndefVarError: X0_intercept not defined",
      "",
      "Stacktrace:",
      " [1] top-level scope",
      "   @ In[145]:1",
      " [2] eval",
      "   @ ./boot.jl:373 [inlined]",
      " [3] include_string(mapexpr::typeof(REPL.softscope), mod::Module, code::String, filename::String)",
      "   @ Base ./loading.jl:1196"
     ]
    }
   ],
   "source": [
    "fitlmm_Bdd(y0_108, X0_intercept, lambda0).ell # null "
   ]
  },
  {
   "cell_type": "code",
   "execution_count": 146,
   "id": "4fd9278c-061d-476e-bd23-e8a5c3bbb466",
   "metadata": {},
   "outputs": [
    {
     "ename": "LoadError",
     "evalue": "UndefVarError: X0_covar not defined",
     "output_type": "error",
     "traceback": [
      "UndefVarError: X0_covar not defined",
      "",
      "Stacktrace:",
      " [1] top-level scope",
      "   @ In[146]:1",
      " [2] eval",
      "   @ ./boot.jl:373 [inlined]",
      " [3] include_string(mapexpr::typeof(REPL.softscope), mod::Module, code::String, filename::String)",
      "   @ Base ./loading.jl:1196"
     ]
    }
   ],
   "source": [
    "fitlmm_Bdd(y0_108, hcat(X0_intercept, X0_covar[:, 229]), lambda0).h2 # alt (marker 229)"
   ]
  },
  {
   "cell_type": "code",
   "execution_count": 147,
   "id": "663dc41b-3b90-4080-a881-c613a5fd7d1b",
   "metadata": {},
   "outputs": [
    {
     "ename": "LoadError",
     "evalue": "UndefVarError: X0_covar not defined",
     "output_type": "error",
     "traceback": [
      "UndefVarError: X0_covar not defined",
      "",
      "Stacktrace:",
      " [1] top-level scope",
      "   @ In[147]:1",
      " [2] eval",
      "   @ ./boot.jl:373 [inlined]",
      " [3] include_string(mapexpr::typeof(REPL.softscope), mod::Module, code::String, filename::String)",
      "   @ Base ./loading.jl:1196"
     ]
    }
   ],
   "source": [
    "fitlmm_Bdd(y0_108, hcat(X0_intercept, X0_covar[:, 229]), lambda0).ell # alt (marker 229)"
   ]
  },
  {
   "cell_type": "code",
   "execution_count": 148,
   "id": "b2e4114b-2608-4486-b7bd-a642d2c9041b",
   "metadata": {},
   "outputs": [
    {
     "data": {
      "text/plain": [
       "0.7888265226557766"
      ]
     },
     "execution_count": 148,
     "metadata": {},
     "output_type": "execute_result"
    }
   ],
   "source": [
    "(-52.636648457206405+54.452988649231926)/log(10)"
   ]
  },
  {
   "cell_type": "code",
   "execution_count": 149,
   "id": "3f0ef480-0624-4768-b950-065573796268",
   "metadata": {},
   "outputs": [
    {
     "data": {
      "text/plain": [
       "0.7365456112208408"
      ]
     },
     "execution_count": 149,
     "metadata": {},
     "output_type": "execute_result"
    }
   ],
   "source": [
    "lods_from_gemma[229, 108]"
   ]
  },
  {
   "cell_type": "code",
   "execution_count": 150,
   "id": "bc3a51f4-2b3a-4bd9-8d2e-1a72620e7374",
   "metadata": {},
   "outputs": [
    {
     "ename": "LoadError",
     "evalue": "UndefVarError: test_estimates not defined",
     "output_type": "error",
     "traceback": [
      "UndefVarError: test_estimates not defined",
      "",
      "Stacktrace:",
      " [1] top-level scope",
      "   @ In[150]:1",
      " [2] eval",
      "   @ ./boot.jl:373 [inlined]",
      " [3] include_string(mapexpr::typeof(REPL.softscope), mod::Module, code::String, filename::String)",
      "   @ Base ./loading.jl:1196"
     ]
    }
   ],
   "source": [
    "plot(vec(test_estimates), label = \"loglik_H229\")\n",
    "plot!(vec(test_estimates_null), label = \"loglik_H0\")\n",
    "# plot!(vec(0.5*test_sumlogw), label = \"loglik_from_W\")\n",
    "# scatter!(1000*[hsqs_from_alt[229, 108]], [-52.6], label = false)\n",
    "# scatter!(1000*[0.794], [-55.40097526019391], label = false)\n"
   ]
  },
  {
   "cell_type": "code",
   "execution_count": 151,
   "id": "3ac800ad-1502-49b4-bd51-d1e8ede3f230",
   "metadata": {},
   "outputs": [
    {
     "ename": "LoadError",
     "evalue": "UndefVarError: test_estimates_delta not defined",
     "output_type": "error",
     "traceback": [
      "UndefVarError: test_estimates_delta not defined",
      "",
      "Stacktrace:",
      " [1] top-level scope",
      "   @ In[151]:1",
      " [2] eval",
      "   @ ./boot.jl:373 [inlined]",
      " [3] include_string(mapexpr::typeof(REPL.softscope), mod::Module, code::String, filename::String)",
      "   @ Base ./loading.jl:1196"
     ]
    }
   ],
   "source": [
    "plot(collect(-10:1:10), vec(test_estimates_delta), label = \"loglik_H229\", xlabel = \"log(delta)\")\n",
    "plot!(collect(-10:1:10), vec(test_estimates_delta_null), label = \"loglik_H0\")\n",
    "scatter!([log(hsq2delta(hsqs_from_alt[229, 108]))], [-52.6], label = \"Brent's maximum\")\n",
    "scatter!([log(hsq2delta(0.9797566649597435))], [-54.452988649231926], label = \"Brent's maximum\")"
   ]
  },
  {
   "cell_type": "code",
   "execution_count": 152,
   "id": "ee2b8ceb-c273-4ab7-bcec-73661018d1ee",
   "metadata": {},
   "outputs": [
    {
     "data": {
      "text/plain": [
       "22026.465794806718"
      ]
     },
     "execution_count": 152,
     "metadata": {},
     "output_type": "execute_result"
    }
   ],
   "source": [
    "exp(10)"
   ]
  },
  {
   "cell_type": "code",
   "execution_count": 153,
   "id": "668a2c30-7308-4a5d-9569-cc7e4ed88ac4",
   "metadata": {},
   "outputs": [
    {
     "data": {
      "text/plain": [
       "0.20150452029208724"
      ]
     },
     "execution_count": 153,
     "metadata": {},
     "output_type": "execute_result"
    }
   ],
   "source": [
    "lods_from_gemma[108, 229]"
   ]
  },
  {
   "cell_type": "code",
   "execution_count": 154,
   "id": "52c719a4-7c77-4859-8a74-c3f44e7e5f2d",
   "metadata": {},
   "outputs": [
    {
     "data": {
      "text/plain": [
       "0.3416645173063484"
      ]
     },
     "execution_count": 154,
     "metadata": {},
     "output_type": "execute_result"
    }
   ],
   "source": [
    "lods_from_bulk[108, 229]"
   ]
  },
  {
   "cell_type": "code",
   "execution_count": 155,
   "id": "752806d7-166e-44f1-a703-42d5aa7cd29f",
   "metadata": {},
   "outputs": [
    {
     "ename": "LoadError",
     "evalue": "UndefVarError: rotateData_SVD not defined",
     "output_type": "error",
     "traceback": [
      "UndefVarError: rotateData_SVD not defined",
      "",
      "Stacktrace:",
      " [1] get_LODs_from_alt_SVD_Bdd(Y::Matrix{Float64}, G::Matrix{Float64}, K::Matrix{Float64}; reml::Bool)",
      "   @ Main ./In[114]:7",
      " [2] top-level scope",
      "   @ In[155]:1",
      " [3] eval",
      "   @ ./boot.jl:373 [inlined]",
      " [4] include_string(mapexpr::typeof(REPL.softscope), mod::Module, code::String, filename::String)",
      "   @ Base ./loading.jl:1196"
     ]
    }
   ],
   "source": [
    "test = get_LODs_from_alt_SVD_Bdd(reshape(pheno[:, 108], :, 1), geno, kinship_Gc; reml = false)[2];"
   ]
  },
  {
   "cell_type": "code",
   "execution_count": 156,
   "id": "fcd0aba8-b592-4000-8c6a-7b35c5625d5a",
   "metadata": {},
   "outputs": [
    {
     "ename": "LoadError",
     "evalue": "BoundsError: attempt to access Tuple{Float64, Float64, Vector{Float64}, Vector{Float64}} at index [229]",
     "output_type": "error",
     "traceback": [
      "BoundsError: attempt to access Tuple{Float64, Float64, Vector{Float64}, Vector{Float64}} at index [229]",
      "",
      "Stacktrace:",
      " [1] getindex(t::Tuple, i::Int64)",
      "   @ Base ./tuple.jl:29",
      " [2] top-level scope",
      "   @ In[156]:1",
      " [3] eval",
      "   @ ./boot.jl:373 [inlined]",
      " [4] include_string(mapexpr::typeof(REPL.softscope), mod::Module, code::String, filename::String)",
      "   @ Base ./loading.jl:1196"
     ]
    }
   ],
   "source": [
    "test[229]"
   ]
  },
  {
   "cell_type": "code",
   "execution_count": 157,
   "id": "6663f671-6c63-4ec2-b600-6a516951947f",
   "metadata": {},
   "outputs": [
    {
     "data": {
      "text/plain": [
       "1.1926195665513668"
      ]
     },
     "execution_count": 157,
     "metadata": {},
     "output_type": "execute_result"
    }
   ],
   "source": [
    "lods_from_bulk[229, 108]"
   ]
  },
  {
   "cell_type": "code",
   "execution_count": 158,
   "id": "37c3e11d-3910-48c1-9863-48833ad66839",
   "metadata": {},
   "outputs": [
    {
     "data": {
      "text/plain": [
       "0.7365456112208408"
      ]
     },
     "execution_count": 158,
     "metadata": {},
     "output_type": "execute_result"
    }
   ],
   "source": [
    "lods_from_gemma[229, 108]"
   ]
  },
  {
   "cell_type": "code",
   "execution_count": 159,
   "id": "a7f8992a-80c4-424b-badd-288b83639bb1",
   "metadata": {},
   "outputs": [
    {
     "data": {
      "text/plain": [
       "get_LODs_from_alt_SVD_Bdd (generic function with 1 method)"
      ]
     },
     "execution_count": 159,
     "metadata": {},
     "output_type": "execute_result"
    }
   ],
   "source": [
    "function get_LODs_from_alt_SVD_Bdd(Y::Array{Float64, 2}, G::Array{Float64, 2}, K::Array{Float64, 2}; reml::Bool = false, d::Float64 = 0.0)\n",
    "\n",
    "    (n, m) = size(Y);\n",
    "    p = size(G, 2);\n",
    "    \n",
    "    intercept = reshape(ones(n, 1), :, 1);\n",
    "    (Y0, X0, lambda0) = rotateData_SVD(Y, [intercept G], K);\n",
    "    \n",
    "    lods_from_alt = Array{Float64, 2}(undef, p, m);\n",
    "    hsqs_from_alt = Array{Float64, 2}(undef, p, m);\n",
    "\n",
    "    intercept0 = reshape(X0[:, 1], :, 1);\n",
    "    \n",
    "    for i in 1:m\n",
    "        \n",
    "        y0_i = reshape(Y0[:, i], :, 1);\n",
    "        out00 = fitlmm_Bdd(y0_i, intercept0, lambda0; reml = reml, d = d);\n",
    "        \n",
    "        lod = zeros(p);\n",
    "        hsqs = zeros(p);\n",
    "        X = zeros(n, 2);\n",
    "        X[:, 1] = X0[:, 1];\n",
    "        \n",
    "        for j in 1:p\n",
    "            X[:, 2] = X0[:, j+1];\n",
    "            \n",
    "            out11 = fitlmm_Bdd(y0_i, X, lambda0; reml = reml, d = d);\n",
    "            \n",
    "            hsqs[j] = out11.h2;\n",
    "            lod[j] = (out11.ell - out00.ell)/log(10);\n",
    "            \n",
    "        end\n",
    "        \n",
    "        lods_from_alt[:, i] = lod;\n",
    "        hsqs_from_alt[:, i] = hsqs;\n",
    "        \n",
    "    end\n",
    "    \n",
    "    return (hsqs_from_alt, lods_from_alt);\n",
    "    \n",
    "end"
   ]
  },
  {
   "cell_type": "code",
   "execution_count": null,
   "id": "98668c0f-a816-4f5a-ada1-b1ae7cf6128f",
   "metadata": {},
   "outputs": [],
   "source": []
  },
  {
   "cell_type": "code",
   "execution_count": null,
   "id": "c0600cc2-da7b-4d75-abf5-42978db3d0ea",
   "metadata": {},
   "outputs": [],
   "source": []
  },
  {
   "cell_type": "markdown",
   "id": "ce989ab9-5f6a-4c3f-b208-c6043f3f891e",
   "metadata": {
    "tags": []
   },
   "source": [
    "#### Compare bulkscan and gemma:"
   ]
  },
  {
   "cell_type": "markdown",
   "id": "15ff81f0-cdf2-4aa1-b335-a2b0ee868fcb",
   "metadata": {},
   "source": [
    "Let's first convert the GEMMA logP to LOD scores:"
   ]
  },
  {
   "cell_type": "code",
   "execution_count": 1,
   "id": "f634d847-0f17-4e98-b57e-ea10f9c26cc0",
   "metadata": {},
   "outputs": [
    {
     "data": {
      "text/plain": [
       "p2lod (generic function with 1 method)"
      ]
     },
     "execution_count": 1,
     "metadata": {},
     "output_type": "execute_result"
    }
   ],
   "source": [
    "function p2lod(pval::Float64, df::Int64)\n",
    "    \n",
    "    lrs = invlogccdf(Chisq(df), log(pval))\n",
    "    lod = lrs/(2*log(10))\n",
    "    \n",
    "    # return lrs\n",
    "    return lod\n",
    "\n",
    "end"
   ]
  },
  {
   "cell_type": "code",
   "execution_count": null,
   "id": "42a2aa5e-6eb4-450f-8063-b90557f78af0",
   "metadata": {},
   "outputs": [],
   "source": []
  },
  {
   "cell_type": "code",
   "execution_count": 161,
   "id": "b78f3d3d-3777-43c6-9828-7fac809bca6c",
   "metadata": {},
   "outputs": [],
   "source": [
    "# @time lods_from_gemma = tmap(x -> p2lod(x, 1), pvals_from_gemma);"
   ]
  },
  {
   "cell_type": "code",
   "execution_count": 162,
   "id": "e1d610b1-66a4-44ad-bc57-a4bdcee0bab7",
   "metadata": {},
   "outputs": [
    {
     "data": {
      "text/plain": [
       "\"/home/zyu20/git/BulkLMM.jl/test\""
      ]
     },
     "execution_count": 162,
     "metadata": {},
     "output_type": "execute_result"
    }
   ],
   "source": [
    "pwd()"
   ]
  },
  {
   "cell_type": "code",
   "execution_count": 163,
   "id": "6b0e5dde-25dd-4e3f-9b14-07fc5b531a5f",
   "metadata": {},
   "outputs": [],
   "source": [
    "# @time writedlm(\"output/lods_from_gemma.csv\", lods_from_gemma, ',');"
   ]
  },
  {
   "cell_type": "code",
   "execution_count": 164,
   "id": "d3c92f8e-8693-4fa8-9ca2-9c754d04335e",
   "metadata": {},
   "outputs": [
    {
     "data": {
      "text/plain": [
       "checkNaNTraits (generic function with 1 method)"
      ]
     },
     "execution_count": 164,
     "metadata": {},
     "output_type": "execute_result"
    }
   ],
   "source": [
    "function checkNaNTraits(L::Array{Float64, 2})\n",
    "    \n",
    "    hasNaN = mapslices(x -> any(isnan.(x)), L, dims = 1);\n",
    "    return hasNaN;\n",
    "    \n",
    "end"
   ]
  },
  {
   "cell_type": "code",
   "execution_count": 165,
   "id": "4b21305b-02f6-4dbe-870f-058f43c17029",
   "metadata": {},
   "outputs": [
    {
     "data": {
      "text/plain": [
       "1×35556 Matrix{Bool}:\n",
       " 0  1  0  0  0  0  0  0  0  0  0  0  0  …  1  0  0  0  0  0  0  0  0  0  0  0"
      ]
     },
     "execution_count": 165,
     "metadata": {},
     "output_type": "execute_result"
    }
   ],
   "source": [
    "hasNaN = checkNaNTraits(lods_from_gemma)"
   ]
  },
  {
   "cell_type": "code",
   "execution_count": 166,
   "id": "932c0acd-3f18-41c0-a9cb-1c0e28e8f04d",
   "metadata": {},
   "outputs": [
    {
     "data": {
      "text/plain": [
       "31923"
      ]
     },
     "execution_count": 166,
     "metadata": {},
     "output_type": "execute_result"
    }
   ],
   "source": [
    "m - sum(hasNaN)"
   ]
  },
  {
   "cell_type": "code",
   "execution_count": 167,
   "id": "4d1f63b6-8c98-4c63-8189-3139407bd05e",
   "metadata": {},
   "outputs": [
    {
     "data": {
      "text/plain": [
       "0"
      ]
     },
     "execution_count": 167,
     "metadata": {},
     "output_type": "execute_result"
    }
   ],
   "source": [
    "sum(isnan.(lods_from_bulk))"
   ]
  },
  {
   "cell_type": "code",
   "execution_count": 168,
   "id": "081573c9-67a6-4f31-bcef-56751583723a",
   "metadata": {},
   "outputs": [
    {
     "ename": "LoadError",
     "evalue": "MethodError: no method matching vec(::Tuple{Float64, Float64, Vector{Float64}, Vector{Float64}})\n\u001b[0mClosest candidates are:\n\u001b[0m  vec(\u001b[91m::Transpose{<:Number, <:AbstractVector}\u001b[39m) at ~/Softwares/Julia/julia-1.7.3/share/julia/stdlib/v1.7/LinearAlgebra/src/adjtrans.jl:215\n\u001b[0m  vec(\u001b[91m::Adjoint{<:Real, <:AbstractVector}\u001b[39m) at ~/Softwares/Julia/julia-1.7.3/share/julia/stdlib/v1.7/LinearAlgebra/src/adjtrans.jl:216\n\u001b[0m  vec(\u001b[91m::SparseArrays.AbstractSparseVector\u001b[39m) at ~/Softwares/Julia/julia-1.7.3/share/julia/stdlib/v1.7/SparseArrays/src/sparsevector.jl:964\n\u001b[0m  ...",
     "output_type": "error",
     "traceback": [
      "MethodError: no method matching vec(::Tuple{Float64, Float64, Vector{Float64}, Vector{Float64}})\n\u001b[0mClosest candidates are:\n\u001b[0m  vec(\u001b[91m::Transpose{<:Number, <:AbstractVector}\u001b[39m) at ~/Softwares/Julia/julia-1.7.3/share/julia/stdlib/v1.7/LinearAlgebra/src/adjtrans.jl:215\n\u001b[0m  vec(\u001b[91m::Adjoint{<:Real, <:AbstractVector}\u001b[39m) at ~/Softwares/Julia/julia-1.7.3/share/julia/stdlib/v1.7/LinearAlgebra/src/adjtrans.jl:216\n\u001b[0m  vec(\u001b[91m::SparseArrays.AbstractSparseVector\u001b[39m) at ~/Softwares/Julia/julia-1.7.3/share/julia/stdlib/v1.7/SparseArrays/src/sparsevector.jl:964\n\u001b[0m  ...",
      "",
      "Stacktrace:",
      " [1] top-level scope",
      "   @ In[168]:1",
      " [2] eval",
      "   @ ./boot.jl:373 [inlined]",
      " [3] include_string(mapexpr::typeof(REPL.softscope), mod::Module, code::String, filename::String)",
      "   @ Base ./loading.jl:1196"
     ]
    }
   ],
   "source": [
    "sub_L_gemma = lods_from_gemma[:, .!vec(test)]"
   ]
  },
  {
   "cell_type": "code",
   "execution_count": 169,
   "id": "b30057a1-6627-446e-8ed1-b5fffd97a921",
   "metadata": {},
   "outputs": [
    {
     "ename": "LoadError",
     "evalue": "MethodError: no method matching vec(::Tuple{Float64, Float64, Vector{Float64}, Vector{Float64}})\n\u001b[0mClosest candidates are:\n\u001b[0m  vec(\u001b[91m::Transpose{<:Number, <:AbstractVector}\u001b[39m) at ~/Softwares/Julia/julia-1.7.3/share/julia/stdlib/v1.7/LinearAlgebra/src/adjtrans.jl:215\n\u001b[0m  vec(\u001b[91m::Adjoint{<:Real, <:AbstractVector}\u001b[39m) at ~/Softwares/Julia/julia-1.7.3/share/julia/stdlib/v1.7/LinearAlgebra/src/adjtrans.jl:216\n\u001b[0m  vec(\u001b[91m::SparseArrays.AbstractSparseVector\u001b[39m) at ~/Softwares/Julia/julia-1.7.3/share/julia/stdlib/v1.7/SparseArrays/src/sparsevector.jl:964\n\u001b[0m  ...",
     "output_type": "error",
     "traceback": [
      "MethodError: no method matching vec(::Tuple{Float64, Float64, Vector{Float64}, Vector{Float64}})\n\u001b[0mClosest candidates are:\n\u001b[0m  vec(\u001b[91m::Transpose{<:Number, <:AbstractVector}\u001b[39m) at ~/Softwares/Julia/julia-1.7.3/share/julia/stdlib/v1.7/LinearAlgebra/src/adjtrans.jl:215\n\u001b[0m  vec(\u001b[91m::Adjoint{<:Real, <:AbstractVector}\u001b[39m) at ~/Softwares/Julia/julia-1.7.3/share/julia/stdlib/v1.7/LinearAlgebra/src/adjtrans.jl:216\n\u001b[0m  vec(\u001b[91m::SparseArrays.AbstractSparseVector\u001b[39m) at ~/Softwares/Julia/julia-1.7.3/share/julia/stdlib/v1.7/SparseArrays/src/sparsevector.jl:964\n\u001b[0m  ...",
      "",
      "Stacktrace:",
      " [1] top-level scope",
      "   @ In[169]:1",
      " [2] eval",
      "   @ ./boot.jl:373 [inlined]",
      " [3] include_string(mapexpr::typeof(REPL.softscope), mod::Module, code::String, filename::String)",
      "   @ Base ./loading.jl:1196"
     ]
    }
   ],
   "source": [
    "sub_L_bulk = lods_from_bulk[:, .!vec(test)];"
   ]
  },
  {
   "cell_type": "code",
   "execution_count": 170,
   "id": "703a26e0-93d3-4c9f-b191-6bfb86206b15",
   "metadata": {},
   "outputs": [
    {
     "ename": "LoadError",
     "evalue": "UndefVarError: sub_L_gemma not defined",
     "output_type": "error",
     "traceback": [
      "UndefVarError: sub_L_gemma not defined",
      "",
      "Stacktrace:",
      " [1] top-level scope",
      "   @ In[170]:1",
      " [2] eval",
      "   @ ./boot.jl:373 [inlined]",
      " [3] include_string(mapexpr::typeof(REPL.softscope), mod::Module, code::String, filename::String)",
      "   @ Base ./loading.jl:1196"
     ]
    }
   ],
   "source": [
    "any(isnan.(sub_L_gemma))"
   ]
  },
  {
   "cell_type": "code",
   "execution_count": 171,
   "id": "d2011ba8-abf4-49f8-a401-42233c79d680",
   "metadata": {},
   "outputs": [
    {
     "ename": "LoadError",
     "evalue": "UndefVarError: absDiff_withGemma not defined",
     "output_type": "error",
     "traceback": [
      "UndefVarError: absDiff_withGemma not defined",
      "",
      "Stacktrace:",
      " [1] top-level scope",
      "   @ In[171]:1",
      " [2] eval",
      "   @ ./boot.jl:373 [inlined]",
      " [3] include_string(mapexpr::typeof(REPL.softscope), mod::Module, code::String, filename::String)",
      "   @ Base ./loading.jl:1196"
     ]
    }
   ],
   "source": [
    "any(isnan.(absDiff_withGemma))"
   ]
  },
  {
   "cell_type": "code",
   "execution_count": 172,
   "id": "68aaebb8-dfe2-4213-a1af-c3de8fd02ccc",
   "metadata": {},
   "outputs": [
    {
     "ename": "LoadError",
     "evalue": "UndefVarError: sub_L_bulk not defined",
     "output_type": "error",
     "traceback": [
      "UndefVarError: sub_L_bulk not defined",
      "",
      "Stacktrace:",
      " [1] top-level scope",
      "   @ In[172]:1",
      " [2] eval",
      "   @ ./boot.jl:373 [inlined]",
      " [3] include_string(mapexpr::typeof(REPL.softscope), mod::Module, code::String, filename::String)",
      "   @ Base ./loading.jl:1196"
     ]
    }
   ],
   "source": [
    "absDiff_withGemma = abs.(sub_L_bulk .- sub_L_gemma);\n",
    "diffArray_withGemma = vec(absDiff_withGemma);"
   ]
  },
  {
   "cell_type": "code",
   "execution_count": 173,
   "id": "719ba97e-0848-4eba-81e7-41fb3462b2fb",
   "metadata": {},
   "outputs": [
    {
     "ename": "LoadError",
     "evalue": "UndefVarError: diffArray_withGemma not defined",
     "output_type": "error",
     "traceback": [
      "UndefVarError: diffArray_withGemma not defined",
      "",
      "Stacktrace:",
      " [1] top-level scope",
      "   @ In[173]:1",
      " [2] eval",
      "   @ ./boot.jl:373 [inlined]",
      " [3] include_string(mapexpr::typeof(REPL.softscope), mod::Module, code::String, filename::String)",
      "   @ Base ./loading.jl:1196"
     ]
    }
   ],
   "source": [
    "quantile(diffArray_withGemma)"
   ]
  },
  {
   "cell_type": "code",
   "execution_count": 174,
   "id": "5548939b-dd80-4ced-959c-ec467ab0c81a",
   "metadata": {},
   "outputs": [
    {
     "ename": "LoadError",
     "evalue": "UndefVarError: diffArray_withGemma not defined",
     "output_type": "error",
     "traceback": [
      "UndefVarError: diffArray_withGemma not defined",
      "",
      "Stacktrace:",
      " [1] top-level scope",
      "   @ In[174]:1",
      " [2] eval",
      "   @ ./boot.jl:373 [inlined]",
      " [3] include_string(mapexpr::typeof(REPL.softscope), mod::Module, code::String, filename::String)",
      "   @ Base ./loading.jl:1196"
     ]
    }
   ],
   "source": [
    "histogram(diffArray_withGemma, binwidth = 1.0)"
   ]
  },
  {
   "cell_type": "code",
   "execution_count": 175,
   "id": "13efa2b4-de5b-4f12-9f48-b310a7a93da0",
   "metadata": {},
   "outputs": [
    {
     "ename": "LoadError",
     "evalue": "UndefVarError: diffArray_withGemma not defined",
     "output_type": "error",
     "traceback": [
      "UndefVarError: diffArray_withGemma not defined",
      "",
      "Stacktrace:",
      " [1] top-level scope",
      "   @ In[175]:1",
      " [2] eval",
      "   @ ./boot.jl:373 [inlined]",
      " [3] include_string(mapexpr::typeof(REPL.softscope), mod::Module, code::String, filename::String)",
      "   @ Base ./loading.jl:1196"
     ]
    }
   ],
   "source": [
    "sum(diffArray_withGemma .<= tol)/length(diffArray_withGemma)"
   ]
  },
  {
   "cell_type": "code",
   "execution_count": null,
   "id": "605999b1-9774-4bd4-9082-1474bf99535d",
   "metadata": {},
   "outputs": [],
   "source": []
  },
  {
   "cell_type": "markdown",
   "id": "acaf6cac-84d4-4e47-a263-ef201cadb534",
   "metadata": {},
   "source": [
    "## Explore the binning idea:"
   ]
  },
  {
   "cell_type": "markdown",
   "id": "461418b9-46f9-450a-b961-684f181ea418",
   "metadata": {
    "tags": []
   },
   "source": [
    "### Compute null hsqs for every trait:"
   ]
  },
  {
   "cell_type": "code",
   "execution_count": 176,
   "id": "11a0ca7a-dd31-4e73-9951-cfb81646b9db",
   "metadata": {},
   "outputs": [],
   "source": [
    "BLAS.set_num_threads(1)"
   ]
  },
  {
   "cell_type": "code",
   "execution_count": 177,
   "id": "6afb9abb-9d62-4088-be12-ba8d164a827c",
   "metadata": {},
   "outputs": [
    {
     "data": {
      "text/plain": [
       "get_hsqs_from_null (generic function with 1 method)"
      ]
     },
     "execution_count": 177,
     "metadata": {},
     "output_type": "execute_result"
    }
   ],
   "source": [
    "function get_hsqs_from_null(Y::Array{Float64, 2}, K::Array{Float64, 2}; reml::Bool = true)\n",
    "\n",
    "    (n, m) = size(Y);\n",
    "    intercept = reshape(ones(n, 1), :, 1);\n",
    "    (Y0, intercept0, lambda0) = rotateData(Y, intercept, K);\n",
    "    \n",
    "    hsqs_from_null = Array{Float64, 1}(undef, m);\n",
    "    \n",
    "    for i in 1:m\n",
    "        \n",
    "        y0_i = reshape(Y0[:, i], :, 1);\n",
    "        out00 = fitlmm(y0_i, intercept0, lambda0; reml = reml);\n",
    "        hsqs_from_null[i] = out00.h2;\n",
    "        \n",
    "    end\n",
    "    \n",
    "    return hsqs_from_null;\n",
    "    \n",
    "end"
   ]
  },
  {
   "cell_type": "code",
   "execution_count": 178,
   "id": "5f0026dc-5c96-47c8-9903-cdc43cfb6a4e",
   "metadata": {},
   "outputs": [
    {
     "name": "stdout",
     "output_type": "stream",
     "text": [
      "  7.873800 seconds (31.89 M allocations: 12.694 GiB, 16.24% gc time)\n"
     ]
    }
   ],
   "source": [
    "@time hsqs_from_null = get_hsqs_from_null(pheno, kinship_Gc; reml = true);"
   ]
  },
  {
   "cell_type": "code",
   "execution_count": 179,
   "id": "19082b01-59c7-4f04-b926-6161b785c644",
   "metadata": {},
   "outputs": [
    {
     "data": {
      "image/svg+xml": [
       "<?xml version=\"1.0\" encoding=\"utf-8\"?>\n",
       "<svg xmlns=\"http://www.w3.org/2000/svg\" xmlns:xlink=\"http://www.w3.org/1999/xlink\" width=\"600\" height=\"400\" viewBox=\"0 0 2400 1600\">\n",
       "<defs>\n",
       "  <clipPath id=\"clip060\">\n",
       "    <rect x=\"0\" y=\"0\" width=\"2400\" height=\"1600\"/>\n",
       "  </clipPath>\n",
       "</defs>\n",
       "<path clip-path=\"url(#clip060)\" d=\"\n",
       "M0 1600 L2400 1600 L2400 0 L0 0  Z\n",
       "  \" fill=\"#ffffff\" fill-rule=\"evenodd\" fill-opacity=\"1\"/>\n",
       "<defs>\n",
       "  <clipPath id=\"clip061\">\n",
       "    <rect x=\"480\" y=\"0\" width=\"1681\" height=\"1600\"/>\n",
       "  </clipPath>\n",
       "</defs>\n",
       "<path clip-path=\"url(#clip060)\" d=\"\n",
       "M304.699 1486.45 L2352.76 1486.45 L2352.76 47.2441 L304.699 47.2441  Z\n",
       "  \" fill=\"#ffffff\" fill-rule=\"evenodd\" fill-opacity=\"1\"/>\n",
       "<defs>\n",
       "  <clipPath id=\"clip062\">\n",
       "    <rect x=\"304\" y=\"47\" width=\"2049\" height=\"1440\"/>\n",
       "  </clipPath>\n",
       "</defs>\n",
       "<polyline clip-path=\"url(#clip062)\" style=\"stroke:#000000; stroke-linecap:round; stroke-linejoin:round; stroke-width:2; stroke-opacity:0.1; fill:none\" points=\"\n",
       "  417.346,1486.45 417.346,47.2441 \n",
       "  \"/>\n",
       "<polyline clip-path=\"url(#clip062)\" style=\"stroke:#000000; stroke-linecap:round; stroke-linejoin:round; stroke-width:2; stroke-opacity:0.1; fill:none\" points=\"\n",
       "  873.037,1486.45 873.037,47.2441 \n",
       "  \"/>\n",
       "<polyline clip-path=\"url(#clip062)\" style=\"stroke:#000000; stroke-linecap:round; stroke-linejoin:round; stroke-width:2; stroke-opacity:0.1; fill:none\" points=\"\n",
       "  1328.73,1486.45 1328.73,47.2441 \n",
       "  \"/>\n",
       "<polyline clip-path=\"url(#clip062)\" style=\"stroke:#000000; stroke-linecap:round; stroke-linejoin:round; stroke-width:2; stroke-opacity:0.1; fill:none\" points=\"\n",
       "  1784.42,1486.45 1784.42,47.2441 \n",
       "  \"/>\n",
       "<polyline clip-path=\"url(#clip062)\" style=\"stroke:#000000; stroke-linecap:round; stroke-linejoin:round; stroke-width:2; stroke-opacity:0.1; fill:none\" points=\"\n",
       "  2240.11,1486.45 2240.11,47.2441 \n",
       "  \"/>\n",
       "<polyline clip-path=\"url(#clip060)\" style=\"stroke:#000000; stroke-linecap:round; stroke-linejoin:round; stroke-width:4; stroke-opacity:1; fill:none\" points=\"\n",
       "  304.699,1486.45 2352.76,1486.45 \n",
       "  \"/>\n",
       "<polyline clip-path=\"url(#clip060)\" style=\"stroke:#000000; stroke-linecap:round; stroke-linejoin:round; stroke-width:4; stroke-opacity:1; fill:none\" points=\"\n",
       "  417.346,1486.45 417.346,1467.55 \n",
       "  \"/>\n",
       "<polyline clip-path=\"url(#clip060)\" style=\"stroke:#000000; stroke-linecap:round; stroke-linejoin:round; stroke-width:4; stroke-opacity:1; fill:none\" points=\"\n",
       "  873.037,1486.45 873.037,1467.55 \n",
       "  \"/>\n",
       "<polyline clip-path=\"url(#clip060)\" style=\"stroke:#000000; stroke-linecap:round; stroke-linejoin:round; stroke-width:4; stroke-opacity:1; fill:none\" points=\"\n",
       "  1328.73,1486.45 1328.73,1467.55 \n",
       "  \"/>\n",
       "<polyline clip-path=\"url(#clip060)\" style=\"stroke:#000000; stroke-linecap:round; stroke-linejoin:round; stroke-width:4; stroke-opacity:1; fill:none\" points=\"\n",
       "  1784.42,1486.45 1784.42,1467.55 \n",
       "  \"/>\n",
       "<polyline clip-path=\"url(#clip060)\" style=\"stroke:#000000; stroke-linecap:round; stroke-linejoin:round; stroke-width:4; stroke-opacity:1; fill:none\" points=\"\n",
       "  2240.11,1486.45 2240.11,1467.55 \n",
       "  \"/>\n",
       "<path clip-path=\"url(#clip060)\" d=\"M379.649 1517.37 Q376.038 1517.37 374.21 1520.93 Q372.404 1524.47 372.404 1531.6 Q372.404 1538.71 374.21 1542.27 Q376.038 1545.82 379.649 1545.82 Q383.284 1545.82 385.089 1542.27 Q386.918 1538.71 386.918 1531.6 Q386.918 1524.47 385.089 1520.93 Q383.284 1517.37 379.649 1517.37 M379.649 1513.66 Q385.46 1513.66 388.515 1518.27 Q391.594 1522.85 391.594 1531.6 Q391.594 1540.33 388.515 1544.94 Q385.46 1549.52 379.649 1549.52 Q373.839 1549.52 370.761 1544.94 Q367.705 1540.33 367.705 1531.6 Q367.705 1522.85 370.761 1518.27 Q373.839 1513.66 379.649 1513.66 Z\" fill=\"#000000\" fill-rule=\"evenodd\" fill-opacity=\"1\" /><path clip-path=\"url(#clip060)\" d=\"M399.811 1542.97 L404.696 1542.97 L404.696 1548.85 L399.811 1548.85 L399.811 1542.97 Z\" fill=\"#000000\" fill-rule=\"evenodd\" fill-opacity=\"1\" /><path clip-path=\"url(#clip060)\" d=\"M424.881 1517.37 Q421.27 1517.37 419.441 1520.93 Q417.635 1524.47 417.635 1531.6 Q417.635 1538.71 419.441 1542.27 Q421.27 1545.82 424.881 1545.82 Q428.515 1545.82 430.321 1542.27 Q432.149 1538.71 432.149 1531.6 Q432.149 1524.47 430.321 1520.93 Q428.515 1517.37 424.881 1517.37 M424.881 1513.66 Q430.691 1513.66 433.746 1518.27 Q436.825 1522.85 436.825 1531.6 Q436.825 1540.33 433.746 1544.94 Q430.691 1549.52 424.881 1549.52 Q419.071 1549.52 415.992 1544.94 Q412.936 1540.33 412.936 1531.6 Q412.936 1522.85 415.992 1518.27 Q419.071 1513.66 424.881 1513.66 Z\" fill=\"#000000\" fill-rule=\"evenodd\" fill-opacity=\"1\" /><path clip-path=\"url(#clip060)\" d=\"M455.043 1517.37 Q451.432 1517.37 449.603 1520.93 Q447.797 1524.47 447.797 1531.6 Q447.797 1538.71 449.603 1542.27 Q451.432 1545.82 455.043 1545.82 Q458.677 1545.82 460.482 1542.27 Q462.311 1538.71 462.311 1531.6 Q462.311 1524.47 460.482 1520.93 Q458.677 1517.37 455.043 1517.37 M455.043 1513.66 Q460.853 1513.66 463.908 1518.27 Q466.987 1522.85 466.987 1531.6 Q466.987 1540.33 463.908 1544.94 Q460.853 1549.52 455.043 1549.52 Q449.232 1549.52 446.154 1544.94 Q443.098 1540.33 443.098 1531.6 Q443.098 1522.85 446.154 1518.27 Q449.232 1513.66 455.043 1513.66 Z\" fill=\"#000000\" fill-rule=\"evenodd\" fill-opacity=\"1\" /><path clip-path=\"url(#clip060)\" d=\"M835.838 1517.37 Q832.227 1517.37 830.398 1520.93 Q828.593 1524.47 828.593 1531.6 Q828.593 1538.71 830.398 1542.27 Q832.227 1545.82 835.838 1545.82 Q839.472 1545.82 841.278 1542.27 Q843.106 1538.71 843.106 1531.6 Q843.106 1524.47 841.278 1520.93 Q839.472 1517.37 835.838 1517.37 M835.838 1513.66 Q841.648 1513.66 844.704 1518.27 Q847.782 1522.85 847.782 1531.6 Q847.782 1540.33 844.704 1544.94 Q841.648 1549.52 835.838 1549.52 Q830.028 1549.52 826.949 1544.94 Q823.894 1540.33 823.894 1531.6 Q823.894 1522.85 826.949 1518.27 Q830.028 1513.66 835.838 1513.66 Z\" fill=\"#000000\" fill-rule=\"evenodd\" fill-opacity=\"1\" /><path clip-path=\"url(#clip060)\" d=\"M856 1542.97 L860.884 1542.97 L860.884 1548.85 L856 1548.85 L856 1542.97 Z\" fill=\"#000000\" fill-rule=\"evenodd\" fill-opacity=\"1\" /><path clip-path=\"url(#clip060)\" d=\"M875.097 1544.91 L891.416 1544.91 L891.416 1548.85 L869.472 1548.85 L869.472 1544.91 Q872.134 1542.16 876.717 1537.53 Q881.324 1532.88 882.504 1531.53 Q884.75 1529.01 885.629 1527.27 Q886.532 1525.51 886.532 1523.82 Q886.532 1521.07 884.588 1519.33 Q882.666 1517.6 879.565 1517.6 Q877.366 1517.6 874.912 1518.36 Q872.481 1519.13 869.704 1520.68 L869.704 1515.95 Q872.528 1514.82 874.981 1514.24 Q877.435 1513.66 879.472 1513.66 Q884.842 1513.66 888.037 1516.35 Q891.231 1519.03 891.231 1523.52 Q891.231 1525.65 890.421 1527.57 Q889.634 1529.47 887.527 1532.07 Q886.949 1532.74 883.847 1535.95 Q880.745 1539.15 875.097 1544.91 Z\" fill=\"#000000\" fill-rule=\"evenodd\" fill-opacity=\"1\" /><path clip-path=\"url(#clip060)\" d=\"M901.277 1514.29 L919.634 1514.29 L919.634 1518.22 L905.56 1518.22 L905.56 1526.7 Q906.578 1526.35 907.597 1526.19 Q908.615 1526 909.634 1526 Q915.421 1526 918.8 1529.17 Q922.18 1532.34 922.18 1537.76 Q922.18 1543.34 918.708 1546.44 Q915.236 1549.52 908.916 1549.52 Q906.74 1549.52 904.472 1549.15 Q902.226 1548.78 899.819 1548.04 L899.819 1543.34 Q901.902 1544.47 904.125 1545.03 Q906.347 1545.58 908.824 1545.58 Q912.828 1545.58 915.166 1543.48 Q917.504 1541.37 917.504 1537.76 Q917.504 1534.15 915.166 1532.04 Q912.828 1529.94 908.824 1529.94 Q906.949 1529.94 905.074 1530.35 Q903.222 1530.77 901.277 1531.65 L901.277 1514.29 Z\" fill=\"#000000\" fill-rule=\"evenodd\" fill-opacity=\"1\" /><path clip-path=\"url(#clip060)\" d=\"M1291.03 1517.37 Q1287.42 1517.37 1285.59 1520.93 Q1283.79 1524.47 1283.79 1531.6 Q1283.79 1538.71 1285.59 1542.27 Q1287.42 1545.82 1291.03 1545.82 Q1294.67 1545.82 1296.47 1542.27 Q1298.3 1538.71 1298.3 1531.6 Q1298.3 1524.47 1296.47 1520.93 Q1294.67 1517.37 1291.03 1517.37 M1291.03 1513.66 Q1296.84 1513.66 1299.9 1518.27 Q1302.98 1522.85 1302.98 1531.6 Q1302.98 1540.33 1299.9 1544.94 Q1296.84 1549.52 1291.03 1549.52 Q1285.22 1549.52 1282.14 1544.94 Q1279.09 1540.33 1279.09 1531.6 Q1279.09 1522.85 1282.14 1518.27 Q1285.22 1513.66 1291.03 1513.66 Z\" fill=\"#000000\" fill-rule=\"evenodd\" fill-opacity=\"1\" /><path clip-path=\"url(#clip060)\" d=\"M1311.19 1542.97 L1316.08 1542.97 L1316.08 1548.85 L1311.19 1548.85 L1311.19 1542.97 Z\" fill=\"#000000\" fill-rule=\"evenodd\" fill-opacity=\"1\" /><path clip-path=\"url(#clip060)\" d=\"M1326.31 1514.29 L1344.67 1514.29 L1344.67 1518.22 L1330.59 1518.22 L1330.59 1526.7 Q1331.61 1526.35 1332.63 1526.19 Q1333.65 1526 1334.67 1526 Q1340.45 1526 1343.83 1529.17 Q1347.21 1532.34 1347.21 1537.76 Q1347.21 1543.34 1343.74 1546.44 Q1340.27 1549.52 1333.95 1549.52 Q1331.77 1549.52 1329.5 1549.15 Q1327.26 1548.78 1324.85 1548.04 L1324.85 1543.34 Q1326.93 1544.47 1329.16 1545.03 Q1331.38 1545.58 1333.85 1545.58 Q1337.86 1545.58 1340.2 1543.48 Q1342.54 1541.37 1342.54 1537.76 Q1342.54 1534.15 1340.2 1532.04 Q1337.86 1529.94 1333.85 1529.94 Q1331.98 1529.94 1330.1 1530.35 Q1328.25 1530.77 1326.31 1531.65 L1326.31 1514.29 Z\" fill=\"#000000\" fill-rule=\"evenodd\" fill-opacity=\"1\" /><path clip-path=\"url(#clip060)\" d=\"M1366.42 1517.37 Q1362.81 1517.37 1360.98 1520.93 Q1359.18 1524.47 1359.18 1531.6 Q1359.18 1538.71 1360.98 1542.27 Q1362.81 1545.82 1366.42 1545.82 Q1370.06 1545.82 1371.86 1542.27 Q1373.69 1538.71 1373.69 1531.6 Q1373.69 1524.47 1371.86 1520.93 Q1370.06 1517.37 1366.42 1517.37 M1366.42 1513.66 Q1372.23 1513.66 1375.29 1518.27 Q1378.37 1522.85 1378.37 1531.6 Q1378.37 1540.33 1375.29 1544.94 Q1372.23 1549.52 1366.42 1549.52 Q1360.61 1549.52 1357.54 1544.94 Q1354.48 1540.33 1354.48 1531.6 Q1354.48 1522.85 1357.54 1518.27 Q1360.61 1513.66 1366.42 1513.66 Z\" fill=\"#000000\" fill-rule=\"evenodd\" fill-opacity=\"1\" /><path clip-path=\"url(#clip060)\" d=\"M1747.22 1517.37 Q1743.61 1517.37 1741.78 1520.93 Q1739.97 1524.47 1739.97 1531.6 Q1739.97 1538.71 1741.78 1542.27 Q1743.61 1545.82 1747.22 1545.82 Q1750.85 1545.82 1752.66 1542.27 Q1754.49 1538.71 1754.49 1531.6 Q1754.49 1524.47 1752.66 1520.93 Q1750.85 1517.37 1747.22 1517.37 M1747.22 1513.66 Q1753.03 1513.66 1756.09 1518.27 Q1759.16 1522.85 1759.16 1531.6 Q1759.16 1540.33 1756.09 1544.94 Q1753.03 1549.52 1747.22 1549.52 Q1741.41 1549.52 1738.33 1544.94 Q1735.28 1540.33 1735.28 1531.6 Q1735.28 1522.85 1738.33 1518.27 Q1741.41 1513.66 1747.22 1513.66 Z\" fill=\"#000000\" fill-rule=\"evenodd\" fill-opacity=\"1\" /><path clip-path=\"url(#clip060)\" d=\"M1767.38 1542.97 L1772.27 1542.97 L1772.27 1548.85 L1767.38 1548.85 L1767.38 1542.97 Z\" fill=\"#000000\" fill-rule=\"evenodd\" fill-opacity=\"1\" /><path clip-path=\"url(#clip060)\" d=\"M1781.27 1514.29 L1803.49 1514.29 L1803.49 1516.28 L1790.95 1548.85 L1786.06 1548.85 L1797.87 1518.22 L1781.27 1518.22 L1781.27 1514.29 Z\" fill=\"#000000\" fill-rule=\"evenodd\" fill-opacity=\"1\" /><path clip-path=\"url(#clip060)\" d=\"M1812.66 1514.29 L1831.02 1514.29 L1831.02 1518.22 L1816.94 1518.22 L1816.94 1526.7 Q1817.96 1526.35 1818.98 1526.19 Q1820 1526 1821.02 1526 Q1826.8 1526 1830.18 1529.17 Q1833.56 1532.34 1833.56 1537.76 Q1833.56 1543.34 1830.09 1546.44 Q1826.62 1549.52 1820.3 1549.52 Q1818.12 1549.52 1815.85 1549.15 Q1813.61 1548.78 1811.2 1548.04 L1811.2 1543.34 Q1813.28 1544.47 1815.51 1545.03 Q1817.73 1545.58 1820.21 1545.58 Q1824.21 1545.58 1826.55 1543.48 Q1828.89 1541.37 1828.89 1537.76 Q1828.89 1534.15 1826.55 1532.04 Q1824.21 1529.94 1820.21 1529.94 Q1818.33 1529.94 1816.46 1530.35 Q1814.6 1530.77 1812.66 1531.65 L1812.66 1514.29 Z\" fill=\"#000000\" fill-rule=\"evenodd\" fill-opacity=\"1\" /><path clip-path=\"url(#clip060)\" d=\"M2192.18 1544.91 L2199.82 1544.91 L2199.82 1518.55 L2191.51 1520.21 L2191.51 1515.95 L2199.77 1514.29 L2204.45 1514.29 L2204.45 1544.91 L2212.09 1544.91 L2212.09 1548.85 L2192.18 1548.85 L2192.18 1544.91 Z\" fill=\"#000000\" fill-rule=\"evenodd\" fill-opacity=\"1\" /><path clip-path=\"url(#clip060)\" d=\"M2221.53 1542.97 L2226.42 1542.97 L2226.42 1548.85 L2221.53 1548.85 L2221.53 1542.97 Z\" fill=\"#000000\" fill-rule=\"evenodd\" fill-opacity=\"1\" /><path clip-path=\"url(#clip060)\" d=\"M2246.6 1517.37 Q2242.99 1517.37 2241.16 1520.93 Q2239.36 1524.47 2239.36 1531.6 Q2239.36 1538.71 2241.16 1542.27 Q2242.99 1545.82 2246.6 1545.82 Q2250.24 1545.82 2252.04 1542.27 Q2253.87 1538.71 2253.87 1531.6 Q2253.87 1524.47 2252.04 1520.93 Q2250.24 1517.37 2246.6 1517.37 M2246.6 1513.66 Q2252.41 1513.66 2255.47 1518.27 Q2258.55 1522.85 2258.55 1531.6 Q2258.55 1540.33 2255.47 1544.94 Q2252.41 1549.52 2246.6 1549.52 Q2240.79 1549.52 2237.71 1544.94 Q2234.66 1540.33 2234.66 1531.6 Q2234.66 1522.85 2237.71 1518.27 Q2240.79 1513.66 2246.6 1513.66 Z\" fill=\"#000000\" fill-rule=\"evenodd\" fill-opacity=\"1\" /><path clip-path=\"url(#clip060)\" d=\"M2276.76 1517.37 Q2273.15 1517.37 2271.32 1520.93 Q2269.52 1524.47 2269.52 1531.6 Q2269.52 1538.71 2271.32 1542.27 Q2273.15 1545.82 2276.76 1545.82 Q2280.4 1545.82 2282.2 1542.27 Q2284.03 1538.71 2284.03 1531.6 Q2284.03 1524.47 2282.2 1520.93 Q2280.4 1517.37 2276.76 1517.37 M2276.76 1513.66 Q2282.57 1513.66 2285.63 1518.27 Q2288.71 1522.85 2288.71 1531.6 Q2288.71 1540.33 2285.63 1544.94 Q2282.57 1549.52 2276.76 1549.52 Q2270.95 1549.52 2267.88 1544.94 Q2264.82 1540.33 2264.82 1531.6 Q2264.82 1522.85 2267.88 1518.27 Q2270.95 1513.66 2276.76 1513.66 Z\" fill=\"#000000\" fill-rule=\"evenodd\" fill-opacity=\"1\" /><polyline clip-path=\"url(#clip062)\" style=\"stroke:#000000; stroke-linecap:round; stroke-linejoin:round; stroke-width:2; stroke-opacity:0.1; fill:none\" points=\"\n",
       "  304.699,1445.72 2352.76,1445.72 \n",
       "  \"/>\n",
       "<polyline clip-path=\"url(#clip062)\" style=\"stroke:#000000; stroke-linecap:round; stroke-linejoin:round; stroke-width:2; stroke-opacity:0.1; fill:none\" points=\"\n",
       "  304.699,1016.46 2352.76,1016.46 \n",
       "  \"/>\n",
       "<polyline clip-path=\"url(#clip062)\" style=\"stroke:#000000; stroke-linecap:round; stroke-linejoin:round; stroke-width:2; stroke-opacity:0.1; fill:none\" points=\"\n",
       "  304.699,587.202 2352.76,587.202 \n",
       "  \"/>\n",
       "<polyline clip-path=\"url(#clip062)\" style=\"stroke:#000000; stroke-linecap:round; stroke-linejoin:round; stroke-width:2; stroke-opacity:0.1; fill:none\" points=\"\n",
       "  304.699,157.945 2352.76,157.945 \n",
       "  \"/>\n",
       "<polyline clip-path=\"url(#clip060)\" style=\"stroke:#000000; stroke-linecap:round; stroke-linejoin:round; stroke-width:4; stroke-opacity:1; fill:none\" points=\"\n",
       "  304.699,1486.45 304.699,47.2441 \n",
       "  \"/>\n",
       "<polyline clip-path=\"url(#clip060)\" style=\"stroke:#000000; stroke-linecap:round; stroke-linejoin:round; stroke-width:4; stroke-opacity:1; fill:none\" points=\"\n",
       "  304.699,1445.72 323.597,1445.72 \n",
       "  \"/>\n",
       "<polyline clip-path=\"url(#clip060)\" style=\"stroke:#000000; stroke-linecap:round; stroke-linejoin:round; stroke-width:4; stroke-opacity:1; fill:none\" points=\"\n",
       "  304.699,1016.46 323.597,1016.46 \n",
       "  \"/>\n",
       "<polyline clip-path=\"url(#clip060)\" style=\"stroke:#000000; stroke-linecap:round; stroke-linejoin:round; stroke-width:4; stroke-opacity:1; fill:none\" points=\"\n",
       "  304.699,587.202 323.597,587.202 \n",
       "  \"/>\n",
       "<polyline clip-path=\"url(#clip060)\" style=\"stroke:#000000; stroke-linecap:round; stroke-linejoin:round; stroke-width:4; stroke-opacity:1; fill:none\" points=\"\n",
       "  304.699,157.945 323.597,157.945 \n",
       "  \"/>\n",
       "<path clip-path=\"url(#clip060)\" d=\"M256.755 1431.51 Q253.144 1431.51 251.315 1435.08 Q249.51 1438.62 249.51 1445.75 Q249.51 1452.86 251.315 1456.42 Q253.144 1459.96 256.755 1459.96 Q260.389 1459.96 262.195 1456.42 Q264.023 1452.86 264.023 1445.75 Q264.023 1438.62 262.195 1435.08 Q260.389 1431.51 256.755 1431.51 M256.755 1427.81 Q262.565 1427.81 265.621 1432.42 Q268.699 1437 268.699 1445.75 Q268.699 1454.48 265.621 1459.08 Q262.565 1463.67 256.755 1463.67 Q250.945 1463.67 247.866 1459.08 Q244.811 1454.48 244.811 1445.75 Q244.811 1437 247.866 1432.42 Q250.945 1427.81 256.755 1427.81 Z\" fill=\"#000000\" fill-rule=\"evenodd\" fill-opacity=\"1\" /><path clip-path=\"url(#clip060)\" d=\"M52.8743 1005.63 L71.2307 1005.63 L71.2307 1009.56 L57.1567 1009.56 L57.1567 1018.03 Q58.1752 1017.69 59.1938 1017.52 Q60.2123 1017.34 61.2308 1017.34 Q67.0178 1017.34 70.3974 1020.51 Q73.777 1023.68 73.777 1029.1 Q73.777 1034.68 70.3048 1037.78 Q66.8326 1040.86 60.5132 1040.86 Q58.3373 1040.86 56.0688 1040.49 Q53.8234 1040.12 51.416 1039.38 L51.416 1034.68 Q53.4993 1035.81 55.7216 1036.37 Q57.9438 1036.92 60.4206 1036.92 Q64.4252 1036.92 66.7632 1034.82 Q69.1011 1032.71 69.1011 1029.1 Q69.1011 1025.49 66.7632 1023.38 Q64.4252 1021.27 60.4206 1021.27 Q58.5456 1021.27 56.6706 1021.69 Q54.8188 1022.11 52.8743 1022.99 L52.8743 1005.63 Z\" fill=\"#000000\" fill-rule=\"evenodd\" fill-opacity=\"1\" /><path clip-path=\"url(#clip060)\" d=\"M82.9899 1034.31 L87.8742 1034.31 L87.8742 1040.19 L82.9899 1040.19 L82.9899 1034.31 Z\" fill=\"#000000\" fill-rule=\"evenodd\" fill-opacity=\"1\" /><path clip-path=\"url(#clip060)\" d=\"M108.059 1008.71 Q104.448 1008.71 102.619 1012.27 Q100.814 1015.81 100.814 1022.94 Q100.814 1030.05 102.619 1033.61 Q104.448 1037.15 108.059 1037.15 Q111.693 1037.15 113.499 1033.61 Q115.328 1030.05 115.328 1022.94 Q115.328 1015.81 113.499 1012.27 Q111.693 1008.71 108.059 1008.71 M108.059 1005 Q113.869 1005 116.925 1009.61 Q120.004 1014.19 120.004 1022.94 Q120.004 1031.67 116.925 1036.27 Q113.869 1040.86 108.059 1040.86 Q102.249 1040.86 99.1704 1036.27 Q96.1149 1031.67 96.1149 1022.94 Q96.1149 1014.19 99.1704 1009.61 Q102.249 1005 108.059 1005 Z\" fill=\"#000000\" fill-rule=\"evenodd\" fill-opacity=\"1\" /><path clip-path=\"url(#clip060)\" d=\"M138.221 1008.71 Q134.61 1008.71 132.781 1012.27 Q130.976 1015.81 130.976 1022.94 Q130.976 1030.05 132.781 1033.61 Q134.61 1037.15 138.221 1037.15 Q141.855 1037.15 143.661 1033.61 Q145.49 1030.05 145.49 1022.94 Q145.49 1015.81 143.661 1012.27 Q141.855 1008.71 138.221 1008.71 M138.221 1005 Q144.031 1005 147.087 1009.61 Q150.165 1014.19 150.165 1022.94 Q150.165 1031.67 147.087 1036.27 Q144.031 1040.86 138.221 1040.86 Q132.411 1040.86 129.332 1036.27 Q126.277 1031.67 126.277 1022.94 Q126.277 1014.19 129.332 1009.61 Q132.411 1005 138.221 1005 Z\" fill=\"#000000\" fill-rule=\"evenodd\" fill-opacity=\"1\" /><path clip-path=\"url(#clip060)\" d=\"M186.554 1014.72 L175.976 1025.35 L186.554 1035.93 L183.8 1038.73 L173.175 1028.1 L162.55 1038.73 L159.818 1035.93 L170.374 1025.35 L159.818 1014.72 L162.55 1011.92 L173.175 1022.55 L183.8 1011.92 L186.554 1014.72 Z\" fill=\"#000000\" fill-rule=\"evenodd\" fill-opacity=\"1\" /><path clip-path=\"url(#clip060)\" d=\"M198.915 1036.25 L206.554 1036.25 L206.554 1009.89 L198.244 1011.55 L198.244 1007.29 L206.508 1005.63 L211.184 1005.63 L211.184 1036.25 L218.823 1036.25 L218.823 1040.19 L198.915 1040.19 L198.915 1036.25 Z\" fill=\"#000000\" fill-rule=\"evenodd\" fill-opacity=\"1\" /><path clip-path=\"url(#clip060)\" d=\"M238.267 1008.71 Q234.656 1008.71 232.827 1012.27 Q231.022 1015.81 231.022 1022.94 Q231.022 1030.05 232.827 1033.61 Q234.656 1037.15 238.267 1037.15 Q241.901 1037.15 243.707 1033.61 Q245.535 1030.05 245.535 1022.94 Q245.535 1015.81 243.707 1012.27 Q241.901 1008.71 238.267 1008.71 M238.267 1005 Q244.077 1005 247.133 1009.61 Q250.211 1014.19 250.211 1022.94 Q250.211 1031.67 247.133 1036.27 Q244.077 1040.86 238.267 1040.86 Q232.457 1040.86 229.378 1036.27 Q226.322 1031.67 226.322 1022.94 Q226.322 1014.19 229.378 1009.61 Q232.457 1005 238.267 1005 Z\" fill=\"#000000\" fill-rule=\"evenodd\" fill-opacity=\"1\" /><path clip-path=\"url(#clip060)\" d=\"M262.906 997.636 Q265.634 998.219 267.157 1000.06 Q268.699 1001.91 268.699 1004.61 Q268.699 1008.77 265.841 1011.05 Q262.982 1013.32 257.716 1013.32 Q255.948 1013.32 254.067 1012.96 Q252.205 1012.63 250.211 1011.93 L250.211 1008.26 Q251.791 1009.18 253.672 1009.65 Q255.553 1010.12 257.603 1010.12 Q261.176 1010.12 263.038 1008.71 Q264.919 1007.3 264.919 1004.61 Q264.919 1002.13 263.17 1000.74 Q261.439 999.328 258.336 999.328 L255.064 999.328 L255.064 996.206 L258.487 996.206 Q261.289 996.206 262.775 995.097 Q264.261 993.968 264.261 991.862 Q264.261 989.699 262.718 988.552 Q261.195 987.386 258.336 987.386 Q256.775 987.386 254.988 987.724 Q253.202 988.063 251.058 988.777 L251.058 985.392 Q253.22 984.79 255.101 984.489 Q257.001 984.188 258.675 984.188 Q263.001 984.188 265.521 986.163 Q268.041 988.119 268.041 991.467 Q268.041 993.799 266.706 995.416 Q265.37 997.015 262.906 997.636 Z\" fill=\"#000000\" fill-rule=\"evenodd\" fill-opacity=\"1\" /><path clip-path=\"url(#clip060)\" d=\"M51.6634 606.994 L59.3023 606.994 L59.3023 580.629 L50.9921 582.295 L50.9921 578.036 L59.256 576.37 L63.9319 576.37 L63.9319 606.994 L71.5707 606.994 L71.5707 610.93 L51.6634 610.93 L51.6634 606.994 Z\" fill=\"#000000\" fill-rule=\"evenodd\" fill-opacity=\"1\" /><path clip-path=\"url(#clip060)\" d=\"M81.0151 605.05 L85.8993 605.05 L85.8993 610.93 L81.0151 610.93 L81.0151 605.05 Z\" fill=\"#000000\" fill-rule=\"evenodd\" fill-opacity=\"1\" /><path clip-path=\"url(#clip060)\" d=\"M106.084 579.448 Q102.473 579.448 100.645 583.013 Q98.8391 586.555 98.8391 593.684 Q98.8391 600.791 100.645 604.356 Q102.473 607.897 106.084 607.897 Q109.719 607.897 111.524 604.356 Q113.353 600.791 113.353 593.684 Q113.353 586.555 111.524 583.013 Q109.719 579.448 106.084 579.448 M106.084 575.745 Q111.895 575.745 114.95 580.351 Q118.029 584.934 118.029 593.684 Q118.029 602.411 114.95 607.018 Q111.895 611.601 106.084 611.601 Q100.274 611.601 97.1956 607.018 Q94.14 602.411 94.14 593.684 Q94.14 584.934 97.1956 580.351 Q100.274 575.745 106.084 575.745 Z\" fill=\"#000000\" fill-rule=\"evenodd\" fill-opacity=\"1\" /><path clip-path=\"url(#clip060)\" d=\"M136.246 579.448 Q132.635 579.448 130.807 583.013 Q129.001 586.555 129.001 593.684 Q129.001 600.791 130.807 604.356 Q132.635 607.897 136.246 607.897 Q139.881 607.897 141.686 604.356 Q143.515 600.791 143.515 593.684 Q143.515 586.555 141.686 583.013 Q139.881 579.448 136.246 579.448 M136.246 575.745 Q142.056 575.745 145.112 580.351 Q148.191 584.934 148.191 593.684 Q148.191 602.411 145.112 607.018 Q142.056 611.601 136.246 611.601 Q130.436 611.601 127.357 607.018 Q124.302 602.411 124.302 593.684 Q124.302 584.934 127.357 580.351 Q130.436 575.745 136.246 575.745 Z\" fill=\"#000000\" fill-rule=\"evenodd\" fill-opacity=\"1\" /><path clip-path=\"url(#clip060)\" d=\"M184.579 585.467 L174.001 596.092 L184.579 606.67 L181.825 609.471 L171.2 598.846 L160.575 609.471 L157.843 606.67 L168.399 596.092 L157.843 585.467 L160.575 582.666 L171.2 593.291 L181.825 582.666 L184.579 585.467 Z\" fill=\"#000000\" fill-rule=\"evenodd\" fill-opacity=\"1\" /><path clip-path=\"url(#clip060)\" d=\"M196.94 606.994 L204.579 606.994 L204.579 580.629 L196.269 582.295 L196.269 578.036 L204.533 576.37 L209.209 576.37 L209.209 606.994 L216.848 606.994 L216.848 610.93 L196.94 610.93 L196.94 606.994 Z\" fill=\"#000000\" fill-rule=\"evenodd\" fill-opacity=\"1\" /><path clip-path=\"url(#clip060)\" d=\"M236.292 579.448 Q232.681 579.448 230.852 583.013 Q229.047 586.555 229.047 593.684 Q229.047 600.791 230.852 604.356 Q232.681 607.897 236.292 607.897 Q239.926 607.897 241.732 604.356 Q243.561 600.791 243.561 593.684 Q243.561 586.555 241.732 583.013 Q239.926 579.448 236.292 579.448 M236.292 575.745 Q242.102 575.745 245.158 580.351 Q248.236 584.934 248.236 593.684 Q248.236 602.411 245.158 607.018 Q242.102 611.601 236.292 611.601 Q230.482 611.601 227.403 607.018 Q224.348 602.411 224.348 593.684 Q224.348 584.934 227.403 580.351 Q230.482 575.745 236.292 575.745 Z\" fill=\"#000000\" fill-rule=\"evenodd\" fill-opacity=\"1\" /><path clip-path=\"url(#clip060)\" d=\"M260.913 558.749 L251.321 573.739 L260.913 573.739 L260.913 558.749 M259.916 555.439 L264.693 555.439 L264.693 573.739 L268.699 573.739 L268.699 576.899 L264.693 576.899 L264.693 583.519 L260.913 583.519 L260.913 576.899 L248.236 576.899 L248.236 573.231 L259.916 555.439 Z\" fill=\"#000000\" fill-rule=\"evenodd\" fill-opacity=\"1\" /><path clip-path=\"url(#clip060)\" d=\"M51.6634 177.738 L59.3023 177.738 L59.3023 151.372 L50.9921 153.039 L50.9921 148.779 L59.256 147.113 L63.9319 147.113 L63.9319 177.738 L71.5707 177.738 L71.5707 181.673 L51.6634 181.673 L51.6634 177.738 Z\" fill=\"#000000\" fill-rule=\"evenodd\" fill-opacity=\"1\" /><path clip-path=\"url(#clip060)\" d=\"M81.0151 175.793 L85.8993 175.793 L85.8993 181.673 L81.0151 181.673 L81.0151 175.793 Z\" fill=\"#000000\" fill-rule=\"evenodd\" fill-opacity=\"1\" /><path clip-path=\"url(#clip060)\" d=\"M96.1308 147.113 L114.487 147.113 L114.487 151.048 L100.413 151.048 L100.413 159.52 Q101.432 159.173 102.45 159.011 Q103.469 158.826 104.487 158.826 Q110.274 158.826 113.654 161.997 Q117.033 165.168 117.033 170.585 Q117.033 176.164 113.561 179.265 Q110.089 182.344 103.77 182.344 Q101.594 182.344 99.3252 181.974 Q97.0798 181.603 94.6724 180.863 L94.6724 176.164 Q96.7558 177.298 98.978 177.853 Q101.2 178.409 103.677 178.409 Q107.682 178.409 110.02 176.302 Q112.358 174.196 112.358 170.585 Q112.358 166.974 110.02 164.867 Q107.682 162.761 103.677 162.761 Q101.802 162.761 99.927 163.177 Q98.0752 163.594 96.1308 164.474 L96.1308 147.113 Z\" fill=\"#000000\" fill-rule=\"evenodd\" fill-opacity=\"1\" /><path clip-path=\"url(#clip060)\" d=\"M136.246 150.191 Q132.635 150.191 130.807 153.756 Q129.001 157.298 129.001 164.427 Q129.001 171.534 130.807 175.099 Q132.635 178.64 136.246 178.64 Q139.881 178.64 141.686 175.099 Q143.515 171.534 143.515 164.427 Q143.515 157.298 141.686 153.756 Q139.881 150.191 136.246 150.191 M136.246 146.488 Q142.056 146.488 145.112 151.094 Q148.191 155.678 148.191 164.427 Q148.191 173.154 145.112 177.761 Q142.056 182.344 136.246 182.344 Q130.436 182.344 127.357 177.761 Q124.302 173.154 124.302 164.427 Q124.302 155.678 127.357 151.094 Q130.436 146.488 136.246 146.488 Z\" fill=\"#000000\" fill-rule=\"evenodd\" fill-opacity=\"1\" /><path clip-path=\"url(#clip060)\" d=\"M184.579 156.21 L174.001 166.835 L184.579 177.414 L181.825 180.214 L171.2 169.589 L160.575 180.214 L157.843 177.414 L168.399 166.835 L157.843 156.21 L160.575 153.409 L171.2 164.034 L181.825 153.409 L184.579 156.21 Z\" fill=\"#000000\" fill-rule=\"evenodd\" fill-opacity=\"1\" /><path clip-path=\"url(#clip060)\" d=\"M196.94 177.738 L204.579 177.738 L204.579 151.372 L196.269 153.039 L196.269 148.779 L204.533 147.113 L209.209 147.113 L209.209 177.738 L216.848 177.738 L216.848 181.673 L196.94 181.673 L196.94 177.738 Z\" fill=\"#000000\" fill-rule=\"evenodd\" fill-opacity=\"1\" /><path clip-path=\"url(#clip060)\" d=\"M236.292 150.191 Q232.681 150.191 230.852 153.756 Q229.047 157.298 229.047 164.427 Q229.047 171.534 230.852 175.099 Q232.681 178.64 236.292 178.64 Q239.926 178.64 241.732 175.099 Q243.561 171.534 243.561 164.427 Q243.561 157.298 241.732 153.756 Q239.926 150.191 236.292 150.191 M236.292 146.488 Q242.102 146.488 245.158 151.094 Q248.236 155.678 248.236 164.427 Q248.236 173.154 245.158 177.761 Q242.102 182.344 236.292 182.344 Q230.482 182.344 227.403 177.761 Q224.348 173.154 224.348 164.427 Q224.348 155.678 227.403 151.094 Q230.482 146.488 236.292 146.488 Z\" fill=\"#000000\" fill-rule=\"evenodd\" fill-opacity=\"1\" /><path clip-path=\"url(#clip060)\" d=\"M260.913 129.493 L251.321 144.482 L260.913 144.482 L260.913 129.493 M259.916 126.182 L264.693 126.182 L264.693 144.482 L268.699 144.482 L268.699 147.642 L264.693 147.642 L264.693 154.262 L260.913 154.262 L260.913 147.642 L248.236 147.642 L248.236 143.974 L259.916 126.182 Z\" fill=\"#000000\" fill-rule=\"evenodd\" fill-opacity=\"1\" /><path clip-path=\"url(#clip062)\" d=\"\n",
       "M417.346 87.9763 L417.346 1445.72 L453.801 1445.72 L453.801 87.9763 L417.346 87.9763 L417.346 87.9763  Z\n",
       "  \" fill=\"#009af9\" fill-rule=\"evenodd\" fill-opacity=\"1\"/>\n",
       "<polyline clip-path=\"url(#clip062)\" style=\"stroke:#000000; stroke-linecap:round; stroke-linejoin:round; stroke-width:4; stroke-opacity:1; fill:none\" points=\"\n",
       "  417.346,87.9763 417.346,1445.72 453.801,1445.72 453.801,87.9763 417.346,87.9763 \n",
       "  \"/>\n",
       "<path clip-path=\"url(#clip062)\" d=\"\n",
       "M453.801 1348.36 L453.801 1445.72 L490.257 1445.72 L490.257 1348.36 L453.801 1348.36 L453.801 1348.36  Z\n",
       "  \" fill=\"#009af9\" fill-rule=\"evenodd\" fill-opacity=\"1\"/>\n",
       "<polyline clip-path=\"url(#clip062)\" style=\"stroke:#000000; stroke-linecap:round; stroke-linejoin:round; stroke-width:4; stroke-opacity:1; fill:none\" points=\"\n",
       "  453.801,1348.36 453.801,1445.72 490.257,1445.72 490.257,1348.36 453.801,1348.36 \n",
       "  \"/>\n",
       "<path clip-path=\"url(#clip062)\" d=\"\n",
       "M490.257 1340.98 L490.257 1445.72 L526.712 1445.72 L526.712 1340.98 L490.257 1340.98 L490.257 1340.98  Z\n",
       "  \" fill=\"#009af9\" fill-rule=\"evenodd\" fill-opacity=\"1\"/>\n",
       "<polyline clip-path=\"url(#clip062)\" style=\"stroke:#000000; stroke-linecap:round; stroke-linejoin:round; stroke-width:4; stroke-opacity:1; fill:none\" points=\"\n",
       "  490.257,1340.98 490.257,1445.72 526.712,1445.72 526.712,1340.98 490.257,1340.98 \n",
       "  \"/>\n",
       "<path clip-path=\"url(#clip062)\" d=\"\n",
       "M526.712 1346.99 L526.712 1445.72 L563.167 1445.72 L563.167 1346.99 L526.712 1346.99 L526.712 1346.99  Z\n",
       "  \" fill=\"#009af9\" fill-rule=\"evenodd\" fill-opacity=\"1\"/>\n",
       "<polyline clip-path=\"url(#clip062)\" style=\"stroke:#000000; stroke-linecap:round; stroke-linejoin:round; stroke-width:4; stroke-opacity:1; fill:none\" points=\"\n",
       "  526.712,1346.99 526.712,1445.72 563.167,1445.72 563.167,1346.99 526.712,1346.99 \n",
       "  \"/>\n",
       "<path clip-path=\"url(#clip062)\" d=\"\n",
       "M563.167 1341.75 L563.167 1445.72 L599.622 1445.72 L599.622 1341.75 L563.167 1341.75 L563.167 1341.75  Z\n",
       "  \" fill=\"#009af9\" fill-rule=\"evenodd\" fill-opacity=\"1\"/>\n",
       "<polyline clip-path=\"url(#clip062)\" style=\"stroke:#000000; stroke-linecap:round; stroke-linejoin:round; stroke-width:4; stroke-opacity:1; fill:none\" points=\"\n",
       "  563.167,1341.75 563.167,1445.72 599.622,1445.72 599.622,1341.75 563.167,1341.75 \n",
       "  \"/>\n",
       "<path clip-path=\"url(#clip062)\" d=\"\n",
       "M599.622 1349.99 L599.622 1445.72 L636.078 1445.72 L636.078 1349.99 L599.622 1349.99 L599.622 1349.99  Z\n",
       "  \" fill=\"#009af9\" fill-rule=\"evenodd\" fill-opacity=\"1\"/>\n",
       "<polyline clip-path=\"url(#clip062)\" style=\"stroke:#000000; stroke-linecap:round; stroke-linejoin:round; stroke-width:4; stroke-opacity:1; fill:none\" points=\"\n",
       "  599.622,1349.99 599.622,1445.72 636.078,1445.72 636.078,1349.99 599.622,1349.99 \n",
       "  \"/>\n",
       "<path clip-path=\"url(#clip062)\" d=\"\n",
       "M636.078 1345.7 L636.078 1445.72 L672.533 1445.72 L672.533 1345.7 L636.078 1345.7 L636.078 1345.7  Z\n",
       "  \" fill=\"#009af9\" fill-rule=\"evenodd\" fill-opacity=\"1\"/>\n",
       "<polyline clip-path=\"url(#clip062)\" style=\"stroke:#000000; stroke-linecap:round; stroke-linejoin:round; stroke-width:4; stroke-opacity:1; fill:none\" points=\"\n",
       "  636.078,1345.7 636.078,1445.72 672.533,1445.72 672.533,1345.7 636.078,1345.7 \n",
       "  \"/>\n",
       "<path clip-path=\"url(#clip062)\" d=\"\n",
       "M672.533 1354.28 L672.533 1445.72 L708.988 1445.72 L708.988 1354.28 L672.533 1354.28 L672.533 1354.28  Z\n",
       "  \" fill=\"#009af9\" fill-rule=\"evenodd\" fill-opacity=\"1\"/>\n",
       "<polyline clip-path=\"url(#clip062)\" style=\"stroke:#000000; stroke-linecap:round; stroke-linejoin:round; stroke-width:4; stroke-opacity:1; fill:none\" points=\"\n",
       "  672.533,1354.28 672.533,1445.72 708.988,1445.72 708.988,1354.28 672.533,1354.28 \n",
       "  \"/>\n",
       "<path clip-path=\"url(#clip062)\" d=\"\n",
       "M708.988 1352.65 L708.988 1445.72 L745.443 1445.72 L745.443 1352.65 L708.988 1352.65 L708.988 1352.65  Z\n",
       "  \" fill=\"#009af9\" fill-rule=\"evenodd\" fill-opacity=\"1\"/>\n",
       "<polyline clip-path=\"url(#clip062)\" style=\"stroke:#000000; stroke-linecap:round; stroke-linejoin:round; stroke-width:4; stroke-opacity:1; fill:none\" points=\"\n",
       "  708.988,1352.65 708.988,1445.72 745.443,1445.72 745.443,1352.65 708.988,1352.65 \n",
       "  \"/>\n",
       "<path clip-path=\"url(#clip062)\" d=\"\n",
       "M745.443 1367.08 L745.443 1445.72 L781.899 1445.72 L781.899 1367.08 L745.443 1367.08 L745.443 1367.08  Z\n",
       "  \" fill=\"#009af9\" fill-rule=\"evenodd\" fill-opacity=\"1\"/>\n",
       "<polyline clip-path=\"url(#clip062)\" style=\"stroke:#000000; stroke-linecap:round; stroke-linejoin:round; stroke-width:4; stroke-opacity:1; fill:none\" points=\"\n",
       "  745.443,1367.08 745.443,1445.72 781.899,1445.72 781.899,1367.08 745.443,1367.08 \n",
       "  \"/>\n",
       "<path clip-path=\"url(#clip062)\" d=\"\n",
       "M781.899 1368.88 L781.899 1445.72 L818.354 1445.72 L818.354 1368.88 L781.899 1368.88 L781.899 1368.88  Z\n",
       "  \" fill=\"#009af9\" fill-rule=\"evenodd\" fill-opacity=\"1\"/>\n",
       "<polyline clip-path=\"url(#clip062)\" style=\"stroke:#000000; stroke-linecap:round; stroke-linejoin:round; stroke-width:4; stroke-opacity:1; fill:none\" points=\"\n",
       "  781.899,1368.88 781.899,1445.72 818.354,1445.72 818.354,1368.88 781.899,1368.88 \n",
       "  \"/>\n",
       "<path clip-path=\"url(#clip062)\" d=\"\n",
       "M818.354 1375.32 L818.354 1445.72 L854.809 1445.72 L854.809 1375.32 L818.354 1375.32 L818.354 1375.32  Z\n",
       "  \" fill=\"#009af9\" fill-rule=\"evenodd\" fill-opacity=\"1\"/>\n",
       "<polyline clip-path=\"url(#clip062)\" style=\"stroke:#000000; stroke-linecap:round; stroke-linejoin:round; stroke-width:4; stroke-opacity:1; fill:none\" points=\"\n",
       "  818.354,1375.32 818.354,1445.72 854.809,1445.72 854.809,1375.32 818.354,1375.32 \n",
       "  \"/>\n",
       "<path clip-path=\"url(#clip062)\" d=\"\n",
       "M854.809 1380.64 L854.809 1445.72 L891.264 1445.72 L891.264 1380.64 L854.809 1380.64 L854.809 1380.64  Z\n",
       "  \" fill=\"#009af9\" fill-rule=\"evenodd\" fill-opacity=\"1\"/>\n",
       "<polyline clip-path=\"url(#clip062)\" style=\"stroke:#000000; stroke-linecap:round; stroke-linejoin:round; stroke-width:4; stroke-opacity:1; fill:none\" points=\"\n",
       "  854.809,1380.64 854.809,1445.72 891.264,1445.72 891.264,1380.64 854.809,1380.64 \n",
       "  \"/>\n",
       "<path clip-path=\"url(#clip062)\" d=\"\n",
       "M891.264 1388.8 L891.264 1445.72 L927.72 1445.72 L927.72 1388.8 L891.264 1388.8 L891.264 1388.8  Z\n",
       "  \" fill=\"#009af9\" fill-rule=\"evenodd\" fill-opacity=\"1\"/>\n",
       "<polyline clip-path=\"url(#clip062)\" style=\"stroke:#000000; stroke-linecap:round; stroke-linejoin:round; stroke-width:4; stroke-opacity:1; fill:none\" points=\"\n",
       "  891.264,1388.8 891.264,1445.72 927.72,1445.72 927.72,1388.8 891.264,1388.8 \n",
       "  \"/>\n",
       "<path clip-path=\"url(#clip062)\" d=\"\n",
       "M927.72 1391.03 L927.72 1445.72 L964.175 1445.72 L964.175 1391.03 L927.72 1391.03 L927.72 1391.03  Z\n",
       "  \" fill=\"#009af9\" fill-rule=\"evenodd\" fill-opacity=\"1\"/>\n",
       "<polyline clip-path=\"url(#clip062)\" style=\"stroke:#000000; stroke-linecap:round; stroke-linejoin:round; stroke-width:4; stroke-opacity:1; fill:none\" points=\"\n",
       "  927.72,1391.03 927.72,1445.72 964.175,1445.72 964.175,1391.03 927.72,1391.03 \n",
       "  \"/>\n",
       "<path clip-path=\"url(#clip062)\" d=\"\n",
       "M964.175 1394.98 L964.175 1445.72 L1000.63 1445.72 L1000.63 1394.98 L964.175 1394.98 L964.175 1394.98  Z\n",
       "  \" fill=\"#009af9\" fill-rule=\"evenodd\" fill-opacity=\"1\"/>\n",
       "<polyline clip-path=\"url(#clip062)\" style=\"stroke:#000000; stroke-linecap:round; stroke-linejoin:round; stroke-width:4; stroke-opacity:1; fill:none\" points=\"\n",
       "  964.175,1394.98 964.175,1445.72 1000.63,1445.72 1000.63,1394.98 964.175,1394.98 \n",
       "  \"/>\n",
       "<path clip-path=\"url(#clip062)\" d=\"\n",
       "M1000.63 1398.24 L1000.63 1445.72 L1037.09 1445.72 L1037.09 1398.24 L1000.63 1398.24 L1000.63 1398.24  Z\n",
       "  \" fill=\"#009af9\" fill-rule=\"evenodd\" fill-opacity=\"1\"/>\n",
       "<polyline clip-path=\"url(#clip062)\" style=\"stroke:#000000; stroke-linecap:round; stroke-linejoin:round; stroke-width:4; stroke-opacity:1; fill:none\" points=\"\n",
       "  1000.63,1398.24 1000.63,1445.72 1037.09,1445.72 1037.09,1398.24 1000.63,1398.24 \n",
       "  \"/>\n",
       "<path clip-path=\"url(#clip062)\" d=\"\n",
       "M1037.09 1408.54 L1037.09 1445.72 L1073.54 1445.72 L1073.54 1408.54 L1037.09 1408.54 L1037.09 1408.54  Z\n",
       "  \" fill=\"#009af9\" fill-rule=\"evenodd\" fill-opacity=\"1\"/>\n",
       "<polyline clip-path=\"url(#clip062)\" style=\"stroke:#000000; stroke-linecap:round; stroke-linejoin:round; stroke-width:4; stroke-opacity:1; fill:none\" points=\"\n",
       "  1037.09,1408.54 1037.09,1445.72 1073.54,1445.72 1073.54,1408.54 1037.09,1408.54 \n",
       "  \"/>\n",
       "<path clip-path=\"url(#clip062)\" d=\"\n",
       "M1073.54 1406.22 L1073.54 1445.72 L1110 1445.72 L1110 1406.22 L1073.54 1406.22 L1073.54 1406.22  Z\n",
       "  \" fill=\"#009af9\" fill-rule=\"evenodd\" fill-opacity=\"1\"/>\n",
       "<polyline clip-path=\"url(#clip062)\" style=\"stroke:#000000; stroke-linecap:round; stroke-linejoin:round; stroke-width:4; stroke-opacity:1; fill:none\" points=\"\n",
       "  1073.54,1406.22 1073.54,1445.72 1110,1445.72 1110,1406.22 1073.54,1406.22 \n",
       "  \"/>\n",
       "<path clip-path=\"url(#clip062)\" d=\"\n",
       "M1110 1411.38 L1110 1445.72 L1146.45 1445.72 L1146.45 1411.38 L1110 1411.38 L1110 1411.38  Z\n",
       "  \" fill=\"#009af9\" fill-rule=\"evenodd\" fill-opacity=\"1\"/>\n",
       "<polyline clip-path=\"url(#clip062)\" style=\"stroke:#000000; stroke-linecap:round; stroke-linejoin:round; stroke-width:4; stroke-opacity:1; fill:none\" points=\"\n",
       "  1110,1411.38 1110,1445.72 1146.45,1445.72 1146.45,1411.38 1110,1411.38 \n",
       "  \"/>\n",
       "<path clip-path=\"url(#clip062)\" d=\"\n",
       "M1146.45 1417.3 L1146.45 1445.72 L1182.91 1445.72 L1182.91 1417.3 L1146.45 1417.3 L1146.45 1417.3  Z\n",
       "  \" fill=\"#009af9\" fill-rule=\"evenodd\" fill-opacity=\"1\"/>\n",
       "<polyline clip-path=\"url(#clip062)\" style=\"stroke:#000000; stroke-linecap:round; stroke-linejoin:round; stroke-width:4; stroke-opacity:1; fill:none\" points=\"\n",
       "  1146.45,1417.3 1146.45,1445.72 1182.91,1445.72 1182.91,1417.3 1146.45,1417.3 \n",
       "  \"/>\n",
       "<path clip-path=\"url(#clip062)\" d=\"\n",
       "M1182.91 1418.5 L1182.91 1445.72 L1219.36 1445.72 L1219.36 1418.5 L1182.91 1418.5 L1182.91 1418.5  Z\n",
       "  \" fill=\"#009af9\" fill-rule=\"evenodd\" fill-opacity=\"1\"/>\n",
       "<polyline clip-path=\"url(#clip062)\" style=\"stroke:#000000; stroke-linecap:round; stroke-linejoin:round; stroke-width:4; stroke-opacity:1; fill:none\" points=\"\n",
       "  1182.91,1418.5 1182.91,1445.72 1219.36,1445.72 1219.36,1418.5 1182.91,1418.5 \n",
       "  \"/>\n",
       "<path clip-path=\"url(#clip062)\" d=\"\n",
       "M1219.36 1420.99 L1219.36 1445.72 L1255.82 1445.72 L1255.82 1420.99 L1219.36 1420.99 L1219.36 1420.99  Z\n",
       "  \" fill=\"#009af9\" fill-rule=\"evenodd\" fill-opacity=\"1\"/>\n",
       "<polyline clip-path=\"url(#clip062)\" style=\"stroke:#000000; stroke-linecap:round; stroke-linejoin:round; stroke-width:4; stroke-opacity:1; fill:none\" points=\"\n",
       "  1219.36,1420.99 1219.36,1445.72 1255.82,1445.72 1255.82,1420.99 1219.36,1420.99 \n",
       "  \"/>\n",
       "<path clip-path=\"url(#clip062)\" d=\"\n",
       "M1255.82 1424.6 L1255.82 1445.72 L1292.27 1445.72 L1292.27 1424.6 L1255.82 1424.6 L1255.82 1424.6  Z\n",
       "  \" fill=\"#009af9\" fill-rule=\"evenodd\" fill-opacity=\"1\"/>\n",
       "<polyline clip-path=\"url(#clip062)\" style=\"stroke:#000000; stroke-linecap:round; stroke-linejoin:round; stroke-width:4; stroke-opacity:1; fill:none\" points=\"\n",
       "  1255.82,1424.6 1255.82,1445.72 1292.27,1445.72 1292.27,1424.6 1255.82,1424.6 \n",
       "  \"/>\n",
       "<path clip-path=\"url(#clip062)\" d=\"\n",
       "M1292.27 1427.77 L1292.27 1445.72 L1328.73 1445.72 L1328.73 1427.77 L1292.27 1427.77 L1292.27 1427.77  Z\n",
       "  \" fill=\"#009af9\" fill-rule=\"evenodd\" fill-opacity=\"1\"/>\n",
       "<polyline clip-path=\"url(#clip062)\" style=\"stroke:#000000; stroke-linecap:round; stroke-linejoin:round; stroke-width:4; stroke-opacity:1; fill:none\" points=\"\n",
       "  1292.27,1427.77 1292.27,1445.72 1328.73,1445.72 1328.73,1427.77 1292.27,1427.77 \n",
       "  \"/>\n",
       "<path clip-path=\"url(#clip062)\" d=\"\n",
       "M1328.73 1428.2 L1328.73 1445.72 L1365.18 1445.72 L1365.18 1428.2 L1328.73 1428.2 L1328.73 1428.2  Z\n",
       "  \" fill=\"#009af9\" fill-rule=\"evenodd\" fill-opacity=\"1\"/>\n",
       "<polyline clip-path=\"url(#clip062)\" style=\"stroke:#000000; stroke-linecap:round; stroke-linejoin:round; stroke-width:4; stroke-opacity:1; fill:none\" points=\"\n",
       "  1328.73,1428.2 1328.73,1445.72 1365.18,1445.72 1365.18,1428.2 1328.73,1428.2 \n",
       "  \"/>\n",
       "<path clip-path=\"url(#clip062)\" d=\"\n",
       "M1365.18 1428.03 L1365.18 1445.72 L1401.64 1445.72 L1401.64 1428.03 L1365.18 1428.03 L1365.18 1428.03  Z\n",
       "  \" fill=\"#009af9\" fill-rule=\"evenodd\" fill-opacity=\"1\"/>\n",
       "<polyline clip-path=\"url(#clip062)\" style=\"stroke:#000000; stroke-linecap:round; stroke-linejoin:round; stroke-width:4; stroke-opacity:1; fill:none\" points=\"\n",
       "  1365.18,1428.03 1365.18,1445.72 1401.64,1445.72 1401.64,1428.03 1365.18,1428.03 \n",
       "  \"/>\n",
       "<path clip-path=\"url(#clip062)\" d=\"\n",
       "M1401.64 1430.18 L1401.64 1445.72 L1438.09 1445.72 L1438.09 1430.18 L1401.64 1430.18 L1401.64 1430.18  Z\n",
       "  \" fill=\"#009af9\" fill-rule=\"evenodd\" fill-opacity=\"1\"/>\n",
       "<polyline clip-path=\"url(#clip062)\" style=\"stroke:#000000; stroke-linecap:round; stroke-linejoin:round; stroke-width:4; stroke-opacity:1; fill:none\" points=\"\n",
       "  1401.64,1430.18 1401.64,1445.72 1438.09,1445.72 1438.09,1430.18 1401.64,1430.18 \n",
       "  \"/>\n",
       "<path clip-path=\"url(#clip062)\" d=\"\n",
       "M1438.09 1432.67 L1438.09 1445.72 L1474.55 1445.72 L1474.55 1432.67 L1438.09 1432.67 L1438.09 1432.67  Z\n",
       "  \" fill=\"#009af9\" fill-rule=\"evenodd\" fill-opacity=\"1\"/>\n",
       "<polyline clip-path=\"url(#clip062)\" style=\"stroke:#000000; stroke-linecap:round; stroke-linejoin:round; stroke-width:4; stroke-opacity:1; fill:none\" points=\"\n",
       "  1438.09,1432.67 1438.09,1445.72 1474.55,1445.72 1474.55,1432.67 1438.09,1432.67 \n",
       "  \"/>\n",
       "<path clip-path=\"url(#clip062)\" d=\"\n",
       "M1474.55 1433.87 L1474.55 1445.72 L1511 1445.72 L1511 1433.87 L1474.55 1433.87 L1474.55 1433.87  Z\n",
       "  \" fill=\"#009af9\" fill-rule=\"evenodd\" fill-opacity=\"1\"/>\n",
       "<polyline clip-path=\"url(#clip062)\" style=\"stroke:#000000; stroke-linecap:round; stroke-linejoin:round; stroke-width:4; stroke-opacity:1; fill:none\" points=\"\n",
       "  1474.55,1433.87 1474.55,1445.72 1511,1445.72 1511,1433.87 1474.55,1433.87 \n",
       "  \"/>\n",
       "<path clip-path=\"url(#clip062)\" d=\"\n",
       "M1511 1434.13 L1511 1445.72 L1547.46 1445.72 L1547.46 1434.13 L1511 1434.13 L1511 1434.13  Z\n",
       "  \" fill=\"#009af9\" fill-rule=\"evenodd\" fill-opacity=\"1\"/>\n",
       "<polyline clip-path=\"url(#clip062)\" style=\"stroke:#000000; stroke-linecap:round; stroke-linejoin:round; stroke-width:4; stroke-opacity:1; fill:none\" points=\"\n",
       "  1511,1434.13 1511,1445.72 1547.46,1445.72 1547.46,1434.13 1511,1434.13 \n",
       "  \"/>\n",
       "<path clip-path=\"url(#clip062)\" d=\"\n",
       "M1547.46 1435.84 L1547.46 1445.72 L1583.91 1445.72 L1583.91 1435.84 L1547.46 1435.84 L1547.46 1435.84  Z\n",
       "  \" fill=\"#009af9\" fill-rule=\"evenodd\" fill-opacity=\"1\"/>\n",
       "<polyline clip-path=\"url(#clip062)\" style=\"stroke:#000000; stroke-linecap:round; stroke-linejoin:round; stroke-width:4; stroke-opacity:1; fill:none\" points=\"\n",
       "  1547.46,1435.84 1547.46,1445.72 1583.91,1445.72 1583.91,1435.84 1547.46,1435.84 \n",
       "  \"/>\n",
       "<path clip-path=\"url(#clip062)\" d=\"\n",
       "M1583.91 1437.22 L1583.91 1445.72 L1620.37 1445.72 L1620.37 1437.22 L1583.91 1437.22 L1583.91 1437.22  Z\n",
       "  \" fill=\"#009af9\" fill-rule=\"evenodd\" fill-opacity=\"1\"/>\n",
       "<polyline clip-path=\"url(#clip062)\" style=\"stroke:#000000; stroke-linecap:round; stroke-linejoin:round; stroke-width:4; stroke-opacity:1; fill:none\" points=\"\n",
       "  1583.91,1437.22 1583.91,1445.72 1620.37,1445.72 1620.37,1437.22 1583.91,1437.22 \n",
       "  \"/>\n",
       "<path clip-path=\"url(#clip062)\" d=\"\n",
       "M1620.37 1438.68 L1620.37 1445.72 L1656.82 1445.72 L1656.82 1438.68 L1620.37 1438.68 L1620.37 1438.68  Z\n",
       "  \" fill=\"#009af9\" fill-rule=\"evenodd\" fill-opacity=\"1\"/>\n",
       "<polyline clip-path=\"url(#clip062)\" style=\"stroke:#000000; stroke-linecap:round; stroke-linejoin:round; stroke-width:4; stroke-opacity:1; fill:none\" points=\"\n",
       "  1620.37,1438.68 1620.37,1445.72 1656.82,1445.72 1656.82,1438.68 1620.37,1438.68 \n",
       "  \"/>\n",
       "<path clip-path=\"url(#clip062)\" d=\"\n",
       "M1656.82 1438.5 L1656.82 1445.72 L1693.28 1445.72 L1693.28 1438.5 L1656.82 1438.5 L1656.82 1438.5  Z\n",
       "  \" fill=\"#009af9\" fill-rule=\"evenodd\" fill-opacity=\"1\"/>\n",
       "<polyline clip-path=\"url(#clip062)\" style=\"stroke:#000000; stroke-linecap:round; stroke-linejoin:round; stroke-width:4; stroke-opacity:1; fill:none\" points=\"\n",
       "  1656.82,1438.5 1656.82,1445.72 1693.28,1445.72 1693.28,1438.5 1656.82,1438.5 \n",
       "  \"/>\n",
       "<path clip-path=\"url(#clip062)\" d=\"\n",
       "M1693.28 1440.39 L1693.28 1445.72 L1729.74 1445.72 L1729.74 1440.39 L1693.28 1440.39 L1693.28 1440.39  Z\n",
       "  \" fill=\"#009af9\" fill-rule=\"evenodd\" fill-opacity=\"1\"/>\n",
       "<polyline clip-path=\"url(#clip062)\" style=\"stroke:#000000; stroke-linecap:round; stroke-linejoin:round; stroke-width:4; stroke-opacity:1; fill:none\" points=\"\n",
       "  1693.28,1440.39 1693.28,1445.72 1729.74,1445.72 1729.74,1440.39 1693.28,1440.39 \n",
       "  \"/>\n",
       "<path clip-path=\"url(#clip062)\" d=\"\n",
       "M1729.74 1439.79 L1729.74 1445.72 L1766.19 1445.72 L1766.19 1439.79 L1729.74 1439.79 L1729.74 1439.79  Z\n",
       "  \" fill=\"#009af9\" fill-rule=\"evenodd\" fill-opacity=\"1\"/>\n",
       "<polyline clip-path=\"url(#clip062)\" style=\"stroke:#000000; stroke-linecap:round; stroke-linejoin:round; stroke-width:4; stroke-opacity:1; fill:none\" points=\"\n",
       "  1729.74,1439.79 1729.74,1445.72 1766.19,1445.72 1766.19,1439.79 1729.74,1439.79 \n",
       "  \"/>\n",
       "<path clip-path=\"url(#clip062)\" d=\"\n",
       "M1766.19 1441.34 L1766.19 1445.72 L1802.65 1445.72 L1802.65 1441.34 L1766.19 1441.34 L1766.19 1441.34  Z\n",
       "  \" fill=\"#009af9\" fill-rule=\"evenodd\" fill-opacity=\"1\"/>\n",
       "<polyline clip-path=\"url(#clip062)\" style=\"stroke:#000000; stroke-linecap:round; stroke-linejoin:round; stroke-width:4; stroke-opacity:1; fill:none\" points=\"\n",
       "  1766.19,1441.34 1766.19,1445.72 1802.65,1445.72 1802.65,1441.34 1766.19,1441.34 \n",
       "  \"/>\n",
       "<path clip-path=\"url(#clip062)\" d=\"\n",
       "M1802.65 1440.39 L1802.65 1445.72 L1839.1 1445.72 L1839.1 1440.39 L1802.65 1440.39 L1802.65 1440.39  Z\n",
       "  \" fill=\"#009af9\" fill-rule=\"evenodd\" fill-opacity=\"1\"/>\n",
       "<polyline clip-path=\"url(#clip062)\" style=\"stroke:#000000; stroke-linecap:round; stroke-linejoin:round; stroke-width:4; stroke-opacity:1; fill:none\" points=\"\n",
       "  1802.65,1440.39 1802.65,1445.72 1839.1,1445.72 1839.1,1440.39 1802.65,1440.39 \n",
       "  \"/>\n",
       "<path clip-path=\"url(#clip062)\" d=\"\n",
       "M1839.1 1441.51 L1839.1 1445.72 L1875.56 1445.72 L1875.56 1441.51 L1839.1 1441.51 L1839.1 1441.51  Z\n",
       "  \" fill=\"#009af9\" fill-rule=\"evenodd\" fill-opacity=\"1\"/>\n",
       "<polyline clip-path=\"url(#clip062)\" style=\"stroke:#000000; stroke-linecap:round; stroke-linejoin:round; stroke-width:4; stroke-opacity:1; fill:none\" points=\"\n",
       "  1839.1,1441.51 1839.1,1445.72 1875.56,1445.72 1875.56,1441.51 1839.1,1441.51 \n",
       "  \"/>\n",
       "<path clip-path=\"url(#clip062)\" d=\"\n",
       "M1875.56 1442.02 L1875.56 1445.72 L1912.01 1445.72 L1912.01 1442.02 L1875.56 1442.02 L1875.56 1442.02  Z\n",
       "  \" fill=\"#009af9\" fill-rule=\"evenodd\" fill-opacity=\"1\"/>\n",
       "<polyline clip-path=\"url(#clip062)\" style=\"stroke:#000000; stroke-linecap:round; stroke-linejoin:round; stroke-width:4; stroke-opacity:1; fill:none\" points=\"\n",
       "  1875.56,1442.02 1875.56,1445.72 1912.01,1445.72 1912.01,1442.02 1875.56,1442.02 \n",
       "  \"/>\n",
       "<path clip-path=\"url(#clip062)\" d=\"\n",
       "M1912.01 1442.71 L1912.01 1445.72 L1948.47 1445.72 L1948.47 1442.71 L1912.01 1442.71 L1912.01 1442.71  Z\n",
       "  \" fill=\"#009af9\" fill-rule=\"evenodd\" fill-opacity=\"1\"/>\n",
       "<polyline clip-path=\"url(#clip062)\" style=\"stroke:#000000; stroke-linecap:round; stroke-linejoin:round; stroke-width:4; stroke-opacity:1; fill:none\" points=\"\n",
       "  1912.01,1442.71 1912.01,1445.72 1948.47,1445.72 1948.47,1442.71 1912.01,1442.71 \n",
       "  \"/>\n",
       "<path clip-path=\"url(#clip062)\" d=\"\n",
       "M1948.47 1442.8 L1948.47 1445.72 L1984.92 1445.72 L1984.92 1442.8 L1948.47 1442.8 L1948.47 1442.8  Z\n",
       "  \" fill=\"#009af9\" fill-rule=\"evenodd\" fill-opacity=\"1\"/>\n",
       "<polyline clip-path=\"url(#clip062)\" style=\"stroke:#000000; stroke-linecap:round; stroke-linejoin:round; stroke-width:4; stroke-opacity:1; fill:none\" points=\"\n",
       "  1948.47,1442.8 1948.47,1445.72 1984.92,1445.72 1984.92,1442.8 1948.47,1442.8 \n",
       "  \"/>\n",
       "<path clip-path=\"url(#clip062)\" d=\"\n",
       "M1984.92 1443.83 L1984.92 1445.72 L2021.38 1445.72 L2021.38 1443.83 L1984.92 1443.83 L1984.92 1443.83  Z\n",
       "  \" fill=\"#009af9\" fill-rule=\"evenodd\" fill-opacity=\"1\"/>\n",
       "<polyline clip-path=\"url(#clip062)\" style=\"stroke:#000000; stroke-linecap:round; stroke-linejoin:round; stroke-width:4; stroke-opacity:1; fill:none\" points=\"\n",
       "  1984.92,1443.83 1984.92,1445.72 2021.38,1445.72 2021.38,1443.83 1984.92,1443.83 \n",
       "  \"/>\n",
       "<path clip-path=\"url(#clip062)\" d=\"\n",
       "M2021.38 1444.17 L2021.38 1445.72 L2057.83 1445.72 L2057.83 1444.17 L2021.38 1444.17 L2021.38 1444.17  Z\n",
       "  \" fill=\"#009af9\" fill-rule=\"evenodd\" fill-opacity=\"1\"/>\n",
       "<polyline clip-path=\"url(#clip062)\" style=\"stroke:#000000; stroke-linecap:round; stroke-linejoin:round; stroke-width:4; stroke-opacity:1; fill:none\" points=\"\n",
       "  2021.38,1444.17 2021.38,1445.72 2057.83,1445.72 2057.83,1444.17 2021.38,1444.17 \n",
       "  \"/>\n",
       "<path clip-path=\"url(#clip062)\" d=\"\n",
       "M2057.83 1443.23 L2057.83 1445.72 L2094.29 1445.72 L2094.29 1443.23 L2057.83 1443.23 L2057.83 1443.23  Z\n",
       "  \" fill=\"#009af9\" fill-rule=\"evenodd\" fill-opacity=\"1\"/>\n",
       "<polyline clip-path=\"url(#clip062)\" style=\"stroke:#000000; stroke-linecap:round; stroke-linejoin:round; stroke-width:4; stroke-opacity:1; fill:none\" points=\"\n",
       "  2057.83,1443.23 2057.83,1445.72 2094.29,1445.72 2094.29,1443.23 2057.83,1443.23 \n",
       "  \"/>\n",
       "<path clip-path=\"url(#clip062)\" d=\"\n",
       "M2094.29 1443.57 L2094.29 1445.72 L2130.74 1445.72 L2130.74 1443.57 L2094.29 1443.57 L2094.29 1443.57  Z\n",
       "  \" fill=\"#009af9\" fill-rule=\"evenodd\" fill-opacity=\"1\"/>\n",
       "<polyline clip-path=\"url(#clip062)\" style=\"stroke:#000000; stroke-linecap:round; stroke-linejoin:round; stroke-width:4; stroke-opacity:1; fill:none\" points=\"\n",
       "  2094.29,1443.57 2094.29,1445.72 2130.74,1445.72 2130.74,1443.57 2094.29,1443.57 \n",
       "  \"/>\n",
       "<path clip-path=\"url(#clip062)\" d=\"\n",
       "M2130.74 1444.08 L2130.74 1445.72 L2167.2 1445.72 L2167.2 1444.08 L2130.74 1444.08 L2130.74 1444.08  Z\n",
       "  \" fill=\"#009af9\" fill-rule=\"evenodd\" fill-opacity=\"1\"/>\n",
       "<polyline clip-path=\"url(#clip062)\" style=\"stroke:#000000; stroke-linecap:round; stroke-linejoin:round; stroke-width:4; stroke-opacity:1; fill:none\" points=\"\n",
       "  2130.74,1444.08 2130.74,1445.72 2167.2,1445.72 2167.2,1444.08 2130.74,1444.08 \n",
       "  \"/>\n",
       "<path clip-path=\"url(#clip062)\" d=\"\n",
       "M2167.2 1439.36 L2167.2 1445.72 L2203.65 1445.72 L2203.65 1439.36 L2167.2 1439.36 L2167.2 1439.36  Z\n",
       "  \" fill=\"#009af9\" fill-rule=\"evenodd\" fill-opacity=\"1\"/>\n",
       "<polyline clip-path=\"url(#clip062)\" style=\"stroke:#000000; stroke-linecap:round; stroke-linejoin:round; stroke-width:4; stroke-opacity:1; fill:none\" points=\"\n",
       "  2167.2,1439.36 2167.2,1445.72 2203.65,1445.72 2203.65,1439.36 2167.2,1439.36 \n",
       "  \"/>\n",
       "<path clip-path=\"url(#clip062)\" d=\"\n",
       "M2203.65 1437.82 L2203.65 1445.72 L2240.11 1445.72 L2240.11 1437.82 L2203.65 1437.82 L2203.65 1437.82  Z\n",
       "  \" fill=\"#009af9\" fill-rule=\"evenodd\" fill-opacity=\"1\"/>\n",
       "<polyline clip-path=\"url(#clip062)\" style=\"stroke:#000000; stroke-linecap:round; stroke-linejoin:round; stroke-width:4; stroke-opacity:1; fill:none\" points=\"\n",
       "  2203.65,1437.82 2203.65,1445.72 2240.11,1445.72 2240.11,1437.82 2203.65,1437.82 \n",
       "  \"/>\n",
       "<circle clip-path=\"url(#clip062)\" style=\"fill:#009af9; stroke:none; fill-opacity:0\" cx=\"435.574\" cy=\"87.9763\" r=\"2\"/>\n",
       "<circle clip-path=\"url(#clip062)\" style=\"fill:#009af9; stroke:none; fill-opacity:0\" cx=\"472.029\" cy=\"1348.36\" r=\"2\"/>\n",
       "<circle clip-path=\"url(#clip062)\" style=\"fill:#009af9; stroke:none; fill-opacity:0\" cx=\"508.484\" cy=\"1340.98\" r=\"2\"/>\n",
       "<circle clip-path=\"url(#clip062)\" style=\"fill:#009af9; stroke:none; fill-opacity:0\" cx=\"544.939\" cy=\"1346.99\" r=\"2\"/>\n",
       "<circle clip-path=\"url(#clip062)\" style=\"fill:#009af9; stroke:none; fill-opacity:0\" cx=\"581.395\" cy=\"1341.75\" r=\"2\"/>\n",
       "<circle clip-path=\"url(#clip062)\" style=\"fill:#009af9; stroke:none; fill-opacity:0\" cx=\"617.85\" cy=\"1349.99\" r=\"2\"/>\n",
       "<circle clip-path=\"url(#clip062)\" style=\"fill:#009af9; stroke:none; fill-opacity:0\" cx=\"654.305\" cy=\"1345.7\" r=\"2\"/>\n",
       "<circle clip-path=\"url(#clip062)\" style=\"fill:#009af9; stroke:none; fill-opacity:0\" cx=\"690.761\" cy=\"1354.28\" r=\"2\"/>\n",
       "<circle clip-path=\"url(#clip062)\" style=\"fill:#009af9; stroke:none; fill-opacity:0\" cx=\"727.216\" cy=\"1352.65\" r=\"2\"/>\n",
       "<circle clip-path=\"url(#clip062)\" style=\"fill:#009af9; stroke:none; fill-opacity:0\" cx=\"763.671\" cy=\"1367.08\" r=\"2\"/>\n",
       "<circle clip-path=\"url(#clip062)\" style=\"fill:#009af9; stroke:none; fill-opacity:0\" cx=\"800.126\" cy=\"1368.88\" r=\"2\"/>\n",
       "<circle clip-path=\"url(#clip062)\" style=\"fill:#009af9; stroke:none; fill-opacity:0\" cx=\"836.582\" cy=\"1375.32\" r=\"2\"/>\n",
       "<circle clip-path=\"url(#clip062)\" style=\"fill:#009af9; stroke:none; fill-opacity:0\" cx=\"873.037\" cy=\"1380.64\" r=\"2\"/>\n",
       "<circle clip-path=\"url(#clip062)\" style=\"fill:#009af9; stroke:none; fill-opacity:0\" cx=\"909.492\" cy=\"1388.8\" r=\"2\"/>\n",
       "<circle clip-path=\"url(#clip062)\" style=\"fill:#009af9; stroke:none; fill-opacity:0\" cx=\"945.947\" cy=\"1391.03\" r=\"2\"/>\n",
       "<circle clip-path=\"url(#clip062)\" style=\"fill:#009af9; stroke:none; fill-opacity:0\" cx=\"982.403\" cy=\"1394.98\" r=\"2\"/>\n",
       "<circle clip-path=\"url(#clip062)\" style=\"fill:#009af9; stroke:none; fill-opacity:0\" cx=\"1018.86\" cy=\"1398.24\" r=\"2\"/>\n",
       "<circle clip-path=\"url(#clip062)\" style=\"fill:#009af9; stroke:none; fill-opacity:0\" cx=\"1055.31\" cy=\"1408.54\" r=\"2\"/>\n",
       "<circle clip-path=\"url(#clip062)\" style=\"fill:#009af9; stroke:none; fill-opacity:0\" cx=\"1091.77\" cy=\"1406.22\" r=\"2\"/>\n",
       "<circle clip-path=\"url(#clip062)\" style=\"fill:#009af9; stroke:none; fill-opacity:0\" cx=\"1128.22\" cy=\"1411.38\" r=\"2\"/>\n",
       "<circle clip-path=\"url(#clip062)\" style=\"fill:#009af9; stroke:none; fill-opacity:0\" cx=\"1164.68\" cy=\"1417.3\" r=\"2\"/>\n",
       "<circle clip-path=\"url(#clip062)\" style=\"fill:#009af9; stroke:none; fill-opacity:0\" cx=\"1201.13\" cy=\"1418.5\" r=\"2\"/>\n",
       "<circle clip-path=\"url(#clip062)\" style=\"fill:#009af9; stroke:none; fill-opacity:0\" cx=\"1237.59\" cy=\"1420.99\" r=\"2\"/>\n",
       "<circle clip-path=\"url(#clip062)\" style=\"fill:#009af9; stroke:none; fill-opacity:0\" cx=\"1274.04\" cy=\"1424.6\" r=\"2\"/>\n",
       "<circle clip-path=\"url(#clip062)\" style=\"fill:#009af9; stroke:none; fill-opacity:0\" cx=\"1310.5\" cy=\"1427.77\" r=\"2\"/>\n",
       "<circle clip-path=\"url(#clip062)\" style=\"fill:#009af9; stroke:none; fill-opacity:0\" cx=\"1346.96\" cy=\"1428.2\" r=\"2\"/>\n",
       "<circle clip-path=\"url(#clip062)\" style=\"fill:#009af9; stroke:none; fill-opacity:0\" cx=\"1383.41\" cy=\"1428.03\" r=\"2\"/>\n",
       "<circle clip-path=\"url(#clip062)\" style=\"fill:#009af9; stroke:none; fill-opacity:0\" cx=\"1419.87\" cy=\"1430.18\" r=\"2\"/>\n",
       "<circle clip-path=\"url(#clip062)\" style=\"fill:#009af9; stroke:none; fill-opacity:0\" cx=\"1456.32\" cy=\"1432.67\" r=\"2\"/>\n",
       "<circle clip-path=\"url(#clip062)\" style=\"fill:#009af9; stroke:none; fill-opacity:0\" cx=\"1492.78\" cy=\"1433.87\" r=\"2\"/>\n",
       "<circle clip-path=\"url(#clip062)\" style=\"fill:#009af9; stroke:none; fill-opacity:0\" cx=\"1529.23\" cy=\"1434.13\" r=\"2\"/>\n",
       "<circle clip-path=\"url(#clip062)\" style=\"fill:#009af9; stroke:none; fill-opacity:0\" cx=\"1565.69\" cy=\"1435.84\" r=\"2\"/>\n",
       "<circle clip-path=\"url(#clip062)\" style=\"fill:#009af9; stroke:none; fill-opacity:0\" cx=\"1602.14\" cy=\"1437.22\" r=\"2\"/>\n",
       "<circle clip-path=\"url(#clip062)\" style=\"fill:#009af9; stroke:none; fill-opacity:0\" cx=\"1638.6\" cy=\"1438.68\" r=\"2\"/>\n",
       "<circle clip-path=\"url(#clip062)\" style=\"fill:#009af9; stroke:none; fill-opacity:0\" cx=\"1675.05\" cy=\"1438.5\" r=\"2\"/>\n",
       "<circle clip-path=\"url(#clip062)\" style=\"fill:#009af9; stroke:none; fill-opacity:0\" cx=\"1711.51\" cy=\"1440.39\" r=\"2\"/>\n",
       "<circle clip-path=\"url(#clip062)\" style=\"fill:#009af9; stroke:none; fill-opacity:0\" cx=\"1747.96\" cy=\"1439.79\" r=\"2\"/>\n",
       "<circle clip-path=\"url(#clip062)\" style=\"fill:#009af9; stroke:none; fill-opacity:0\" cx=\"1784.42\" cy=\"1441.34\" r=\"2\"/>\n",
       "<circle clip-path=\"url(#clip062)\" style=\"fill:#009af9; stroke:none; fill-opacity:0\" cx=\"1820.87\" cy=\"1440.39\" r=\"2\"/>\n",
       "<circle clip-path=\"url(#clip062)\" style=\"fill:#009af9; stroke:none; fill-opacity:0\" cx=\"1857.33\" cy=\"1441.51\" r=\"2\"/>\n",
       "<circle clip-path=\"url(#clip062)\" style=\"fill:#009af9; stroke:none; fill-opacity:0\" cx=\"1893.78\" cy=\"1442.02\" r=\"2\"/>\n",
       "<circle clip-path=\"url(#clip062)\" style=\"fill:#009af9; stroke:none; fill-opacity:0\" cx=\"1930.24\" cy=\"1442.71\" r=\"2\"/>\n",
       "<circle clip-path=\"url(#clip062)\" style=\"fill:#009af9; stroke:none; fill-opacity:0\" cx=\"1966.69\" cy=\"1442.8\" r=\"2\"/>\n",
       "<circle clip-path=\"url(#clip062)\" style=\"fill:#009af9; stroke:none; fill-opacity:0\" cx=\"2003.15\" cy=\"1443.83\" r=\"2\"/>\n",
       "<circle clip-path=\"url(#clip062)\" style=\"fill:#009af9; stroke:none; fill-opacity:0\" cx=\"2039.61\" cy=\"1444.17\" r=\"2\"/>\n",
       "<circle clip-path=\"url(#clip062)\" style=\"fill:#009af9; stroke:none; fill-opacity:0\" cx=\"2076.06\" cy=\"1443.23\" r=\"2\"/>\n",
       "<circle clip-path=\"url(#clip062)\" style=\"fill:#009af9; stroke:none; fill-opacity:0\" cx=\"2112.52\" cy=\"1443.57\" r=\"2\"/>\n",
       "<circle clip-path=\"url(#clip062)\" style=\"fill:#009af9; stroke:none; fill-opacity:0\" cx=\"2148.97\" cy=\"1444.08\" r=\"2\"/>\n",
       "<circle clip-path=\"url(#clip062)\" style=\"fill:#009af9; stroke:none; fill-opacity:0\" cx=\"2185.43\" cy=\"1439.36\" r=\"2\"/>\n",
       "<circle clip-path=\"url(#clip062)\" style=\"fill:#009af9; stroke:none; fill-opacity:0\" cx=\"2221.88\" cy=\"1437.82\" r=\"2\"/>\n",
       "<path clip-path=\"url(#clip060)\" d=\"\n",
       "M2004.5 198.898 L2284.49 198.898 L2284.49 95.2176 L2004.5 95.2176  Z\n",
       "  \" fill=\"#ffffff\" fill-rule=\"evenodd\" fill-opacity=\"1\"/>\n",
       "<polyline clip-path=\"url(#clip060)\" style=\"stroke:#000000; stroke-linecap:round; stroke-linejoin:round; stroke-width:4; stroke-opacity:1; fill:none\" points=\"\n",
       "  2004.5,198.898 2284.49,198.898 2284.49,95.2176 2004.5,95.2176 2004.5,198.898 \n",
       "  \"/>\n",
       "<path clip-path=\"url(#clip060)\" d=\"\n",
       "M2027.25 167.794 L2163.79 167.794 L2163.79 126.322 L2027.25 126.322 L2027.25 167.794  Z\n",
       "  \" fill=\"#009af9\" fill-rule=\"evenodd\" fill-opacity=\"1\"/>\n",
       "<polyline clip-path=\"url(#clip060)\" style=\"stroke:#000000; stroke-linecap:round; stroke-linejoin:round; stroke-width:4; stroke-opacity:1; fill:none\" points=\"\n",
       "  2027.25,167.794 2163.79,167.794 2163.79,126.322 2027.25,126.322 2027.25,167.794 \n",
       "  \"/>\n",
       "<path clip-path=\"url(#clip060)\" d=\"M2200.39 166.745 Q2198.58 171.375 2196.87 172.787 Q2195.16 174.199 2192.29 174.199 L2188.88 174.199 L2188.88 170.634 L2191.38 170.634 Q2193.14 170.634 2194.11 169.8 Q2195.09 168.967 2196.27 165.865 L2197.03 163.921 L2186.54 138.412 L2191.06 138.412 L2199.16 158.689 L2207.26 138.412 L2211.78 138.412 L2200.39 166.745 Z\" fill=\"#000000\" fill-rule=\"evenodd\" fill-opacity=\"1\" /><path clip-path=\"url(#clip060)\" d=\"M2219.07 160.402 L2226.71 160.402 L2226.71 134.037 L2218.4 135.703 L2218.4 131.444 L2226.66 129.778 L2231.34 129.778 L2231.34 160.402 L2238.97 160.402 L2238.97 164.338 L2219.07 164.338 L2219.07 160.402 Z\" fill=\"#000000\" fill-rule=\"evenodd\" fill-opacity=\"1\" /></svg>\n"
      ]
     },
     "execution_count": 179,
     "metadata": {},
     "output_type": "execute_result"
    }
   ],
   "source": [
    "histogram(hsqs_from_null)"
   ]
  },
  {
   "cell_type": "code",
   "execution_count": 180,
   "id": "17da2f7f-6458-4060-9d2e-e0eb21dc68b9",
   "metadata": {},
   "outputs": [
    {
     "data": {
      "text/plain": [
       "239-element Vector{Int64}:\n",
       "   536\n",
       "   712\n",
       "  1292\n",
       "  1558\n",
       "  1634\n",
       "  2571\n",
       "  2886\n",
       "  3069\n",
       "  3268\n",
       "  3403\n",
       "  3446\n",
       "  3745\n",
       "  3950\n",
       "     ⋮\n",
       " 32890\n",
       " 32955\n",
       " 33026\n",
       " 33160\n",
       " 33310\n",
       " 33458\n",
       " 34153\n",
       " 34344\n",
       " 34507\n",
       " 34735\n",
       " 34766\n",
       " 35268"
      ]
     },
     "execution_count": 180,
     "metadata": {},
     "output_type": "execute_result"
    }
   ],
   "source": [
    "findall(hsqs_from_null .> 0.90)"
   ]
  },
  {
   "cell_type": "code",
   "execution_count": 181,
   "id": "d37cfe75-ff34-4ae0-a0f9-400e682ef141",
   "metadata": {},
   "outputs": [
    {
     "data": {
      "text/plain": [
       "0.8182834272313365"
      ]
     },
     "execution_count": 181,
     "metadata": {},
     "output_type": "execute_result"
    }
   ],
   "source": [
    "hsqs_from_null[7919]"
   ]
  },
  {
   "cell_type": "code",
   "execution_count": 182,
   "id": "d0c51068-2471-4a83-a134-59d8e14fd84c",
   "metadata": {},
   "outputs": [
    {
     "data": {
      "text/plain": [
       "groupTraits (generic function with 1 method)"
      ]
     },
     "execution_count": 182,
     "metadata": {},
     "output_type": "execute_result"
    }
   ],
   "source": [
    "function groupTraits(m::Int64, listHsq::Array{Float64, 1}, quantileHsq::Array{Float64, 2})\n",
    "    \n",
    "    \n",
    "    \n",
    "    \n",
    "end"
   ]
  },
  {
   "cell_type": "code",
   "execution_count": null,
   "id": "416b0a26-5c67-4db5-afa4-50f0f7ab12e0",
   "metadata": {},
   "outputs": [],
   "source": []
  }
 ],
 "metadata": {
  "kernelspec": {
   "display_name": "Julia 1.7.3",
   "language": "julia",
   "name": "julia-1.7"
  },
  "language_info": {
   "file_extension": ".jl",
   "mimetype": "application/julia",
   "name": "julia",
   "version": "1.7.3"
  }
 },
 "nbformat": 4,
 "nbformat_minor": 5
}
